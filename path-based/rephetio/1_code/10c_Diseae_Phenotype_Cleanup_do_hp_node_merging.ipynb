{
 "cells": [
  {
   "cell_type": "markdown",
   "metadata": {},
   "source": [
    "# Using DO and HPO xrefs to merge items"
   ]
  },
  {
   "cell_type": "code",
   "execution_count": 1,
   "metadata": {},
   "outputs": [
    {
     "name": "stderr",
     "output_type": "stream",
     "text": [
      "/opt/mmayers/software/anaconda3/envs/ml/lib/python3.6/site-packages/data_tools/df_processing.py:4: TqdmExperimentalWarning: Using `tqdm.autonotebook.tqdm` in notebook mode. Use `tqdm.tqdm` instead to force console mode (e.g. in jupyter console)\n",
      "  from tqdm.autonotebook import tqdm\n"
     ]
    }
   ],
   "source": [
    "import pandas as pd\n",
    "from pathlib import Path\n",
    "from data_tools.wiki import get_curi_xrefs\n",
    "from data_tools import df_processing as dfp\n",
    "from data_tools import graphs as gt"
   ]
  },
  {
   "cell_type": "code",
   "execution_count": 2,
   "metadata": {},
   "outputs": [],
   "source": [
    "nw_name = '10b_Diseae_Phenotype_Cleanup_preliminary_DOID_cleaning'\n",
    "nw_dir = Path('../2_pipeline').resolve().joinpath(nw_name, 'out')\n",
    "\n",
    "owl_name = '10a_Disease_Pheno_Cleanup_parse_owls'\n",
    "owl_dir = nw_dir.parent.parent.joinpath(owl_name, 'out')"
   ]
  },
  {
   "cell_type": "code",
   "execution_count": 3,
   "metadata": {},
   "outputs": [],
   "source": [
    "this_name = '10c_Diseae_Phenotype_Cleanup_do_hp_node_merging'\n",
    "out_dir = Path('../2_pipeline').resolve().joinpath(this_name, 'out')\n",
    "\n",
    "out_dir.mkdir(parents=True, exist_ok=True)"
   ]
  },
  {
   "cell_type": "code",
   "execution_count": 4,
   "metadata": {},
   "outputs": [],
   "source": [
    "do_nodes = pd.read_csv(owl_dir.joinpath('DO_node_info.csv'))\n",
    "sy_nodes = pd.read_csv(owl_dir.joinpath('SYMP_node_info.csv'))\n",
    "hp_nodes = pd.read_csv(owl_dir.joinpath('HP_node_info.csv'))"
   ]
  },
  {
   "cell_type": "code",
   "execution_count": 5,
   "metadata": {},
   "outputs": [],
   "source": [
    "nodes = pd.read_csv(nw_dir.joinpath('nodes.csv'), dtype=str)\n",
    "edges = pd.read_csv(nw_dir.joinpath('edges.csv'), dtype=str)"
   ]
  },
  {
   "cell_type": "code",
   "execution_count": 6,
   "metadata": {},
   "outputs": [
    {
     "data": {
      "text/plain": [
       "18484"
      ]
     },
     "execution_count": 6,
     "metadata": {},
     "output_type": "execute_result"
    }
   ],
   "source": [
    "len(nodes.query('label == \"Disease\"'))"
   ]
  },
  {
   "cell_type": "code",
   "execution_count": 7,
   "metadata": {},
   "outputs": [
    {
     "data": {
      "text/plain": [
       "set()"
      ]
     },
     "execution_count": 7,
     "metadata": {},
     "output_type": "execute_result"
    }
   ],
   "source": [
    "node_ids = nodes['id'].unique()\n",
    "edge_ids = edges[['start_id', 'end_id']].stack().unique()\n",
    "\n",
    "set(edge_ids) - set(node_ids)"
   ]
  },
  {
   "cell_type": "code",
   "execution_count": 8,
   "metadata": {},
   "outputs": [],
   "source": [
    "#nodes_all = nodes.copy()\n",
    "#nodes = nodes.query('id in @edge_ids')"
   ]
  },
  {
   "cell_type": "code",
   "execution_count": 9,
   "metadata": {},
   "outputs": [],
   "source": [
    "hpo_nodes = hp_nodes[hp_nodes['id'].str.startswith('HP:')].reset_index(drop=True)"
   ]
  },
  {
   "cell_type": "code",
   "execution_count": 10,
   "metadata": {},
   "outputs": [
    {
     "data": {
      "text/plain": [
       "UMLS_CUI                   7032\n",
       "OMIM                       5182\n",
       "SNOMEDCT_US_2019_09_01     4823\n",
       "NCI                        4687\n",
       "ICD10CM                    3654\n",
       "MESH                       3553\n",
       "ICD9CM                     2270\n",
       "GARD                       1922\n",
       "ORDO                       1864\n",
       "EFO                         130\n",
       "KEGG                         41\n",
       "MEDDRA                       34\n",
       "ICDO                         14\n",
       "SNOMEDCT_US_2018_03_01       14\n",
       "SNOMEDCT_US_2020_03_01        8\n",
       "SNOMED_CT_US_2018_03_01       3\n",
       "SNOMEDCT_US_2020_09_01        2\n",
       "SNOMEDCT_2020_03_01           1\n",
       "DERMO                         1\n",
       "UMS_CUI                       1\n",
       "OERDO                         1\n",
       "stedman                       1\n",
       "Name: xrefs, dtype: int64"
      ]
     },
     "execution_count": 10,
     "metadata": {},
     "output_type": "execute_result"
    }
   ],
   "source": [
    "dfp.expand_col_on_char(do_nodes, 'xrefs', '|', True)['xrefs'].apply(lambda s: s.split(':')[0]).value_counts()"
   ]
  },
  {
   "cell_type": "code",
   "execution_count": 11,
   "metadata": {},
   "outputs": [
    {
     "data": {
      "text/plain": [
       "UMLS           13041\n",
       "SNOMEDCT_US     4672\n",
       "MSH             2176\n",
       "Fyler            222\n",
       "NCIT             219\n",
       "MEDDRA            93\n",
       "ICD-10            38\n",
       "EPCC              13\n",
       "MP                10\n",
       "ORPHA              6\n",
       "MPATH              4\n",
       "ICD-O              3\n",
       "ICD-9              3\n",
       "SNOMED_CT          2\n",
       "ICD9               1\n",
       "DOID               1\n",
       "ICD10              1\n",
       "EFO                1\n",
       "COHD               1\n",
       "Name: xrefs, dtype: int64"
      ]
     },
     "execution_count": 11,
     "metadata": {},
     "output_type": "execute_result"
    }
   ],
   "source": [
    "dfp.expand_col_on_char(hpo_nodes, 'xrefs', '|', True)['xrefs'].apply(lambda s: s.split(':')[0]).value_counts()"
   ]
  },
  {
   "cell_type": "code",
   "execution_count": 12,
   "metadata": {},
   "outputs": [
    {
     "data": {
      "text/plain": [
       "UMLS           14597\n",
       "SNOMEDCT_US     4672\n",
       "FMA             3347\n",
       "EMAPA           2849\n",
       "MSH             2176\n",
       "MA              1956\n",
       "NCIT            1840\n",
       "PMID            1702\n",
       "EHDAA2          1092\n",
       "BTO              961\n",
       "VHOG             910\n",
       "EHDAA            717\n",
       "MESH             670\n",
       "ZFA              662\n",
       "TAO              630\n",
       "AAO              605\n",
       "GAID             588\n",
       "CALOHA           575\n",
       "XAO              491\n",
       "OpenCyc          473\n",
       "Name: xrefs, dtype: int64"
      ]
     },
     "execution_count": 12,
     "metadata": {},
     "output_type": "execute_result"
    }
   ],
   "source": [
    "dfp.expand_col_on_char(hp_nodes, 'xrefs', '|', True)['xrefs'].apply(lambda s: s.split(':')[0]).value_counts().head(20)"
   ]
  },
  {
   "cell_type": "code",
   "execution_count": 13,
   "metadata": {},
   "outputs": [
    {
     "data": {
      "text/plain": [
       "ICD9CM_2005             193\n",
       "UMLS_ICD9CM_2005_AUI    185\n",
       "UMLS_CUI                175\n",
       "SyOID                   173\n",
       "ICDCM_2005                1\n",
       "Name: xrefs, dtype: int64"
      ]
     },
     "execution_count": 13,
     "metadata": {},
     "output_type": "execute_result"
    }
   ],
   "source": [
    "dfp.expand_col_on_char(sy_nodes, 'xrefs', '|', True)['xrefs'].apply(lambda s: s.split(':')[0]).value_counts()"
   ]
  },
  {
   "cell_type": "markdown",
   "metadata": {},
   "source": [
    "## Start with UMLS as a high count for each"
   ]
  },
  {
   "cell_type": "code",
   "execution_count": 14,
   "metadata": {},
   "outputs": [
    {
     "data": {
      "text/html": [
       "<div>\n",
       "<style scoped>\n",
       "    .dataframe tbody tr th:only-of-type {\n",
       "        vertical-align: middle;\n",
       "    }\n",
       "\n",
       "    .dataframe tbody tr th {\n",
       "        vertical-align: top;\n",
       "    }\n",
       "\n",
       "    .dataframe thead th {\n",
       "        text-align: right;\n",
       "    }\n",
       "</style>\n",
       "<table border=\"1\" class=\"dataframe\">\n",
       "  <thead>\n",
       "    <tr style=\"text-align: right;\">\n",
       "      <th></th>\n",
       "      <th>id</th>\n",
       "      <th>xrefs</th>\n",
       "    </tr>\n",
       "  </thead>\n",
       "  <tbody>\n",
       "    <tr>\n",
       "      <th>4</th>\n",
       "      <td>DOID:0001816</td>\n",
       "      <td>C0854893</td>\n",
       "    </tr>\n",
       "    <tr>\n",
       "      <th>5</th>\n",
       "      <td>DOID:0001816</td>\n",
       "      <td>C0018923</td>\n",
       "    </tr>\n",
       "    <tr>\n",
       "      <th>6</th>\n",
       "      <td>DOID:0002116</td>\n",
       "      <td>C0033999</td>\n",
       "    </tr>\n",
       "    <tr>\n",
       "      <th>11</th>\n",
       "      <td>DOID:0014667</td>\n",
       "      <td>C0025517</td>\n",
       "    </tr>\n",
       "    <tr>\n",
       "      <th>15</th>\n",
       "      <td>DOID:0040002</td>\n",
       "      <td>C0004058</td>\n",
       "    </tr>\n",
       "    <tr>\n",
       "      <th>...</th>\n",
       "      <td>...</td>\n",
       "      <td>...</td>\n",
       "    </tr>\n",
       "    <tr>\n",
       "      <th>35216</th>\n",
       "      <td>DOID:9987</td>\n",
       "      <td>C1335131</td>\n",
       "    </tr>\n",
       "    <tr>\n",
       "      <th>35219</th>\n",
       "      <td>DOID:9988</td>\n",
       "      <td>C0027927</td>\n",
       "    </tr>\n",
       "    <tr>\n",
       "      <th>35224</th>\n",
       "      <td>DOID:999</td>\n",
       "      <td>C0014457</td>\n",
       "    </tr>\n",
       "    <tr>\n",
       "      <th>35229</th>\n",
       "      <td>DOID:9993</td>\n",
       "      <td>C0020615</td>\n",
       "    </tr>\n",
       "    <tr>\n",
       "      <th>35237</th>\n",
       "      <td>DOID:9997</td>\n",
       "      <td>C0877208</td>\n",
       "    </tr>\n",
       "  </tbody>\n",
       "</table>\n",
       "<p>7032 rows × 2 columns</p>\n",
       "</div>"
      ],
      "text/plain": [
       "                 id     xrefs\n",
       "4      DOID:0001816  C0854893\n",
       "5      DOID:0001816  C0018923\n",
       "6      DOID:0002116  C0033999\n",
       "11     DOID:0014667  C0025517\n",
       "15     DOID:0040002  C0004058\n",
       "...             ...       ...\n",
       "35216     DOID:9987  C1335131\n",
       "35219     DOID:9988  C0027927\n",
       "35224      DOID:999  C0014457\n",
       "35229     DOID:9993  C0020615\n",
       "35237     DOID:9997  C0877208\n",
       "\n",
       "[7032 rows x 2 columns]"
      ]
     },
     "execution_count": 14,
     "metadata": {},
     "output_type": "execute_result"
    }
   ],
   "source": [
    "def norm_xref(nodes, curi):\n",
    "    out = get_curi_xrefs(nodes, curi)\n",
    "    out['xrefs'] = out['xrefs'].str.replace(curi+':', '')\n",
    "    return out\n",
    "\n",
    "do_umls = norm_xref(do_nodes, 'UMLS_CUI')\n",
    "do_umls"
   ]
  },
  {
   "cell_type": "code",
   "execution_count": 15,
   "metadata": {},
   "outputs": [
    {
     "data": {
      "text/html": [
       "<div>\n",
       "<style scoped>\n",
       "    .dataframe tbody tr th:only-of-type {\n",
       "        vertical-align: middle;\n",
       "    }\n",
       "\n",
       "    .dataframe tbody tr th {\n",
       "        vertical-align: top;\n",
       "    }\n",
       "\n",
       "    .dataframe thead th {\n",
       "        text-align: right;\n",
       "    }\n",
       "</style>\n",
       "<table border=\"1\" class=\"dataframe\">\n",
       "  <thead>\n",
       "    <tr style=\"text-align: right;\">\n",
       "      <th></th>\n",
       "      <th>id</th>\n",
       "      <th>xrefs</th>\n",
       "    </tr>\n",
       "  </thead>\n",
       "  <tbody>\n",
       "    <tr>\n",
       "      <th>0</th>\n",
       "      <td>HP:0000001</td>\n",
       "      <td>C0444868</td>\n",
       "    </tr>\n",
       "    <tr>\n",
       "      <th>1</th>\n",
       "      <td>HP:0000002</td>\n",
       "      <td>C4025901</td>\n",
       "    </tr>\n",
       "    <tr>\n",
       "      <th>3</th>\n",
       "      <td>HP:0000003</td>\n",
       "      <td>C3714581</td>\n",
       "    </tr>\n",
       "    <tr>\n",
       "      <th>6</th>\n",
       "      <td>HP:0000005</td>\n",
       "      <td>C1708511</td>\n",
       "    </tr>\n",
       "    <tr>\n",
       "      <th>7</th>\n",
       "      <td>HP:0000006</td>\n",
       "      <td>C0443147</td>\n",
       "    </tr>\n",
       "    <tr>\n",
       "      <th>...</th>\n",
       "      <td>...</td>\n",
       "      <td>...</td>\n",
       "    </tr>\n",
       "    <tr>\n",
       "      <th>20502</th>\n",
       "      <td>HP:3000075</td>\n",
       "      <td>C4073282</td>\n",
       "    </tr>\n",
       "    <tr>\n",
       "      <th>20503</th>\n",
       "      <td>HP:3000076</td>\n",
       "      <td>C4073283</td>\n",
       "    </tr>\n",
       "    <tr>\n",
       "      <th>20504</th>\n",
       "      <td>HP:3000077</td>\n",
       "      <td>C4073284</td>\n",
       "    </tr>\n",
       "    <tr>\n",
       "      <th>20505</th>\n",
       "      <td>HP:3000078</td>\n",
       "      <td>C4073285</td>\n",
       "    </tr>\n",
       "    <tr>\n",
       "      <th>20506</th>\n",
       "      <td>HP:3000079</td>\n",
       "      <td>C4073286</td>\n",
       "    </tr>\n",
       "  </tbody>\n",
       "</table>\n",
       "<p>13041 rows × 2 columns</p>\n",
       "</div>"
      ],
      "text/plain": [
       "               id     xrefs\n",
       "0      HP:0000001  C0444868\n",
       "1      HP:0000002  C4025901\n",
       "3      HP:0000003  C3714581\n",
       "6      HP:0000005  C1708511\n",
       "7      HP:0000006  C0443147\n",
       "...           ...       ...\n",
       "20502  HP:3000075  C4073282\n",
       "20503  HP:3000076  C4073283\n",
       "20504  HP:3000077  C4073284\n",
       "20505  HP:3000078  C4073285\n",
       "20506  HP:3000079  C4073286\n",
       "\n",
       "[13041 rows x 2 columns]"
      ]
     },
     "execution_count": 15,
     "metadata": {},
     "output_type": "execute_result"
    }
   ],
   "source": [
    "hp_umls = norm_xref(hpo_nodes, 'UMLS')\n",
    "hp_umls"
   ]
  },
  {
   "cell_type": "code",
   "execution_count": 16,
   "metadata": {},
   "outputs": [
    {
     "data": {
      "text/html": [
       "<div>\n",
       "<style scoped>\n",
       "    .dataframe tbody tr th:only-of-type {\n",
       "        vertical-align: middle;\n",
       "    }\n",
       "\n",
       "    .dataframe tbody tr th {\n",
       "        vertical-align: top;\n",
       "    }\n",
       "\n",
       "    .dataframe thead th {\n",
       "        text-align: right;\n",
       "    }\n",
       "</style>\n",
       "<table border=\"1\" class=\"dataframe\">\n",
       "  <thead>\n",
       "    <tr style=\"text-align: right;\">\n",
       "      <th></th>\n",
       "      <th>id_do</th>\n",
       "      <th>xrefs</th>\n",
       "      <th>id_hp</th>\n",
       "    </tr>\n",
       "  </thead>\n",
       "  <tbody>\n",
       "    <tr>\n",
       "      <th>0</th>\n",
       "      <td>DOID:0001816</td>\n",
       "      <td>C0018923</td>\n",
       "      <td>HP:0200058</td>\n",
       "    </tr>\n",
       "    <tr>\n",
       "      <th>1</th>\n",
       "      <td>DOID:0002116</td>\n",
       "      <td>C0033999</td>\n",
       "      <td>HP:0001059</td>\n",
       "    </tr>\n",
       "    <tr>\n",
       "      <th>2</th>\n",
       "      <td>DOID:0050127</td>\n",
       "      <td>C0149512</td>\n",
       "      <td>HP:0000255</td>\n",
       "    </tr>\n",
       "    <tr>\n",
       "      <th>3</th>\n",
       "      <td>DOID:0050152</td>\n",
       "      <td>C0032290</td>\n",
       "      <td>HP:0011951</td>\n",
       "    </tr>\n",
       "    <tr>\n",
       "      <th>4</th>\n",
       "      <td>DOID:3240</td>\n",
       "      <td>C0032290</td>\n",
       "      <td>HP:0011951</td>\n",
       "    </tr>\n",
       "    <tr>\n",
       "      <th>...</th>\n",
       "      <td>...</td>\n",
       "      <td>...</td>\n",
       "      <td>...</td>\n",
       "    </tr>\n",
       "    <tr>\n",
       "      <th>1087</th>\n",
       "      <td>DOID:9955</td>\n",
       "      <td>C0152101</td>\n",
       "      <td>HP:0004383</td>\n",
       "    </tr>\n",
       "    <tr>\n",
       "      <th>1088</th>\n",
       "      <td>DOID:9957</td>\n",
       "      <td>C0031111</td>\n",
       "      <td>HP:0040165</td>\n",
       "    </tr>\n",
       "    <tr>\n",
       "      <th>1089</th>\n",
       "      <td>DOID:9970</td>\n",
       "      <td>C0028754</td>\n",
       "      <td>HP:0001513</td>\n",
       "    </tr>\n",
       "    <tr>\n",
       "      <th>1090</th>\n",
       "      <td>DOID:999</td>\n",
       "      <td>C0014457</td>\n",
       "      <td>HP:0001880</td>\n",
       "    </tr>\n",
       "    <tr>\n",
       "      <th>1091</th>\n",
       "      <td>DOID:9993</td>\n",
       "      <td>C0020615</td>\n",
       "      <td>HP:0001943</td>\n",
       "    </tr>\n",
       "  </tbody>\n",
       "</table>\n",
       "<p>1092 rows × 3 columns</p>\n",
       "</div>"
      ],
      "text/plain": [
       "             id_do     xrefs       id_hp\n",
       "0     DOID:0001816  C0018923  HP:0200058\n",
       "1     DOID:0002116  C0033999  HP:0001059\n",
       "2     DOID:0050127  C0149512  HP:0000255\n",
       "3     DOID:0050152  C0032290  HP:0011951\n",
       "4        DOID:3240  C0032290  HP:0011951\n",
       "...            ...       ...         ...\n",
       "1087     DOID:9955  C0152101  HP:0004383\n",
       "1088     DOID:9957  C0031111  HP:0040165\n",
       "1089     DOID:9970  C0028754  HP:0001513\n",
       "1090      DOID:999  C0014457  HP:0001880\n",
       "1091     DOID:9993  C0020615  HP:0001943\n",
       "\n",
       "[1092 rows x 3 columns]"
      ]
     },
     "execution_count": 16,
     "metadata": {},
     "output_type": "execute_result"
    }
   ],
   "source": [
    "do_mrg = pd.merge(do_umls, hp_umls, on='xrefs', how='inner', suffixes=('_do', '_hp'))\n",
    "do_mrg"
   ]
  },
  {
   "cell_type": "code",
   "execution_count": 17,
   "metadata": {},
   "outputs": [
    {
     "data": {
      "text/html": [
       "<div>\n",
       "<style scoped>\n",
       "    .dataframe tbody tr th:only-of-type {\n",
       "        vertical-align: middle;\n",
       "    }\n",
       "\n",
       "    .dataframe tbody tr th {\n",
       "        vertical-align: top;\n",
       "    }\n",
       "\n",
       "    .dataframe thead th {\n",
       "        text-align: right;\n",
       "    }\n",
       "</style>\n",
       "<table border=\"1\" class=\"dataframe\">\n",
       "  <thead>\n",
       "    <tr style=\"text-align: right;\">\n",
       "      <th></th>\n",
       "      <th>id</th>\n",
       "      <th>xrefs</th>\n",
       "    </tr>\n",
       "  </thead>\n",
       "  <tbody>\n",
       "    <tr>\n",
       "      <th>2</th>\n",
       "      <td>SYMP:0000448</td>\n",
       "      <td>C0014591</td>\n",
       "    </tr>\n",
       "    <tr>\n",
       "      <th>4</th>\n",
       "      <td>SYMP:0000449</td>\n",
       "      <td>C0036980</td>\n",
       "    </tr>\n",
       "    <tr>\n",
       "      <th>10</th>\n",
       "      <td>SYMP:0000450</td>\n",
       "      <td>C0159051</td>\n",
       "    </tr>\n",
       "    <tr>\n",
       "      <th>12</th>\n",
       "      <td>SYMP:0000451</td>\n",
       "      <td>C0036983</td>\n",
       "    </tr>\n",
       "    <tr>\n",
       "      <th>15</th>\n",
       "      <td>SYMP:0000452</td>\n",
       "      <td>C0159054</td>\n",
       "    </tr>\n",
       "    <tr>\n",
       "      <th>...</th>\n",
       "      <td>...</td>\n",
       "      <td>...</td>\n",
       "    </tr>\n",
       "    <tr>\n",
       "      <th>703</th>\n",
       "      <td>SYMP:0000619</td>\n",
       "      <td>C0039621</td>\n",
       "    </tr>\n",
       "    <tr>\n",
       "      <th>704</th>\n",
       "      <td>SYMP:0000620</td>\n",
       "      <td>C0238551</td>\n",
       "    </tr>\n",
       "    <tr>\n",
       "      <th>711</th>\n",
       "      <td>SYMP:0000621</td>\n",
       "      <td>C0478145</td>\n",
       "    </tr>\n",
       "    <tr>\n",
       "      <th>718</th>\n",
       "      <td>SYMP:0000798</td>\n",
       "      <td>C0476310</td>\n",
       "    </tr>\n",
       "    <tr>\n",
       "      <th>726</th>\n",
       "      <td>SYMP:0000852</td>\n",
       "      <td>C0028962</td>\n",
       "    </tr>\n",
       "  </tbody>\n",
       "</table>\n",
       "<p>175 rows × 2 columns</p>\n",
       "</div>"
      ],
      "text/plain": [
       "               id     xrefs\n",
       "2    SYMP:0000448  C0014591\n",
       "4    SYMP:0000449  C0036980\n",
       "10   SYMP:0000450  C0159051\n",
       "12   SYMP:0000451  C0036983\n",
       "15   SYMP:0000452  C0159054\n",
       "..            ...       ...\n",
       "703  SYMP:0000619  C0039621\n",
       "704  SYMP:0000620  C0238551\n",
       "711  SYMP:0000621  C0478145\n",
       "718  SYMP:0000798  C0476310\n",
       "726  SYMP:0000852  C0028962\n",
       "\n",
       "[175 rows x 2 columns]"
      ]
     },
     "execution_count": 17,
     "metadata": {},
     "output_type": "execute_result"
    }
   ],
   "source": [
    "sy_umls = norm_xref(sy_nodes, 'UMLS_CUI')\n",
    "sy_umls"
   ]
  },
  {
   "cell_type": "code",
   "execution_count": 18,
   "metadata": {},
   "outputs": [
    {
     "name": "stdout",
     "output_type": "stream",
     "text": [
      "58\n"
     ]
    },
    {
     "data": {
      "text/html": [
       "<div>\n",
       "<style scoped>\n",
       "    .dataframe tbody tr th:only-of-type {\n",
       "        vertical-align: middle;\n",
       "    }\n",
       "\n",
       "    .dataframe tbody tr th {\n",
       "        vertical-align: top;\n",
       "    }\n",
       "\n",
       "    .dataframe thead th {\n",
       "        text-align: right;\n",
       "    }\n",
       "</style>\n",
       "<table border=\"1\" class=\"dataframe\">\n",
       "  <thead>\n",
       "    <tr style=\"text-align: right;\">\n",
       "      <th></th>\n",
       "      <th>id_sym</th>\n",
       "      <th>xrefs</th>\n",
       "      <th>id_hp</th>\n",
       "    </tr>\n",
       "  </thead>\n",
       "  <tbody>\n",
       "    <tr>\n",
       "      <th>0</th>\n",
       "      <td>SYMP:0000448</td>\n",
       "      <td>C0014591</td>\n",
       "      <td>HP:0000421</td>\n",
       "    </tr>\n",
       "    <tr>\n",
       "      <th>1</th>\n",
       "      <td>SYMP:0000449</td>\n",
       "      <td>C0036980</td>\n",
       "      <td>HP:0030149</td>\n",
       "    </tr>\n",
       "    <tr>\n",
       "      <th>2</th>\n",
       "      <td>SYMP:0000457</td>\n",
       "      <td>C0000737</td>\n",
       "      <td>HP:0002027</td>\n",
       "    </tr>\n",
       "    <tr>\n",
       "      <th>3</th>\n",
       "      <td>SYMP:0000460</td>\n",
       "      <td>C0019209</td>\n",
       "      <td>HP:0002240</td>\n",
       "    </tr>\n",
       "    <tr>\n",
       "      <th>4</th>\n",
       "      <td>SYMP:0000475</td>\n",
       "      <td>C0041667</td>\n",
       "      <td>HP:0004325</td>\n",
       "    </tr>\n",
       "    <tr>\n",
       "      <th>5</th>\n",
       "      <td>SYMP:0000479</td>\n",
       "      <td>C0575081</td>\n",
       "      <td>HP:0001288</td>\n",
       "    </tr>\n",
       "    <tr>\n",
       "      <th>6</th>\n",
       "      <td>SYMP:0000482</td>\n",
       "      <td>C0234428</td>\n",
       "      <td>HP:0004372</td>\n",
       "    </tr>\n",
       "    <tr>\n",
       "      <th>7</th>\n",
       "      <td>SYMP:0000485</td>\n",
       "      <td>C0013428</td>\n",
       "      <td>HP:0100518</td>\n",
       "    </tr>\n",
       "    <tr>\n",
       "      <th>8</th>\n",
       "      <td>SYMP:0000487</td>\n",
       "      <td>C0015230</td>\n",
       "      <td>HP:0000988</td>\n",
       "    </tr>\n",
       "    <tr>\n",
       "      <th>9</th>\n",
       "      <td>SYMP:0000489</td>\n",
       "      <td>C0159060</td>\n",
       "      <td>HP:0030142</td>\n",
       "    </tr>\n",
       "  </tbody>\n",
       "</table>\n",
       "</div>"
      ],
      "text/plain": [
       "         id_sym     xrefs       id_hp\n",
       "0  SYMP:0000448  C0014591  HP:0000421\n",
       "1  SYMP:0000449  C0036980  HP:0030149\n",
       "2  SYMP:0000457  C0000737  HP:0002027\n",
       "3  SYMP:0000460  C0019209  HP:0002240\n",
       "4  SYMP:0000475  C0041667  HP:0004325\n",
       "5  SYMP:0000479  C0575081  HP:0001288\n",
       "6  SYMP:0000482  C0234428  HP:0004372\n",
       "7  SYMP:0000485  C0013428  HP:0100518\n",
       "8  SYMP:0000487  C0015230  HP:0000988\n",
       "9  SYMP:0000489  C0159060  HP:0030142"
      ]
     },
     "execution_count": 18,
     "metadata": {},
     "output_type": "execute_result"
    }
   ],
   "source": [
    "sym_mrg = pd.merge(sy_umls, hp_umls, on='xrefs', how='inner', suffixes=('_sym', '_hp'))\n",
    "print(len(sym_mrg))\n",
    "sym_mrg.head(10)"
   ]
  },
  {
   "cell_type": "code",
   "execution_count": 19,
   "metadata": {},
   "outputs": [],
   "source": [
    "sym_mrg.to_csv(out_dir.joinpath('symptom_hpo.csv'), index=False)"
   ]
  },
  {
   "cell_type": "markdown",
   "metadata": {},
   "source": [
    "# Snomed CT"
   ]
  },
  {
   "cell_type": "code",
   "execution_count": 20,
   "metadata": {},
   "outputs": [],
   "source": [
    "do_sno = norm_xref(do_nodes, 'SNOMEDCT_US_2019_09_01')"
   ]
  },
  {
   "cell_type": "code",
   "execution_count": 21,
   "metadata": {},
   "outputs": [],
   "source": [
    "hp_sno = norm_xref(hpo_nodes, 'SNOMEDCT_US')"
   ]
  },
  {
   "cell_type": "code",
   "execution_count": 22,
   "metadata": {},
   "outputs": [
    {
     "data": {
      "text/html": [
       "<div>\n",
       "<style scoped>\n",
       "    .dataframe tbody tr th:only-of-type {\n",
       "        vertical-align: middle;\n",
       "    }\n",
       "\n",
       "    .dataframe tbody tr th {\n",
       "        vertical-align: top;\n",
       "    }\n",
       "\n",
       "    .dataframe thead th {\n",
       "        text-align: right;\n",
       "    }\n",
       "</style>\n",
       "<table border=\"1\" class=\"dataframe\">\n",
       "  <thead>\n",
       "    <tr style=\"text-align: right;\">\n",
       "      <th></th>\n",
       "      <th>id</th>\n",
       "      <th>xrefs</th>\n",
       "    </tr>\n",
       "  </thead>\n",
       "  <tbody>\n",
       "    <tr>\n",
       "      <th>2</th>\n",
       "      <td>HP:0000003</td>\n",
       "      <td>204962002</td>\n",
       "    </tr>\n",
       "    <tr>\n",
       "      <th>4</th>\n",
       "      <td>HP:0000003</td>\n",
       "      <td>82525005</td>\n",
       "    </tr>\n",
       "    <tr>\n",
       "      <th>8</th>\n",
       "      <td>HP:0000006</td>\n",
       "      <td>263681008</td>\n",
       "    </tr>\n",
       "    <tr>\n",
       "      <th>10</th>\n",
       "      <td>HP:0000007</td>\n",
       "      <td>258211005</td>\n",
       "    </tr>\n",
       "    <tr>\n",
       "      <th>14</th>\n",
       "      <td>HP:0000010</td>\n",
       "      <td>197927001</td>\n",
       "    </tr>\n",
       "    <tr>\n",
       "      <th>...</th>\n",
       "      <td>...</td>\n",
       "      <td>...</td>\n",
       "    </tr>\n",
       "    <tr>\n",
       "      <th>20398</th>\n",
       "      <td>HP:0430008</td>\n",
       "      <td>24606006</td>\n",
       "    </tr>\n",
       "    <tr>\n",
       "      <th>20403</th>\n",
       "      <td>HP:0430009</td>\n",
       "      <td>204203001</td>\n",
       "    </tr>\n",
       "    <tr>\n",
       "      <th>20404</th>\n",
       "      <td>HP:0430010</td>\n",
       "      <td>94684003</td>\n",
       "    </tr>\n",
       "    <tr>\n",
       "      <th>20408</th>\n",
       "      <td>HP:0430012</td>\n",
       "      <td>93595006</td>\n",
       "    </tr>\n",
       "    <tr>\n",
       "      <th>20427</th>\n",
       "      <td>HP:0430028</td>\n",
       "      <td>28070007</td>\n",
       "    </tr>\n",
       "  </tbody>\n",
       "</table>\n",
       "<p>4672 rows × 2 columns</p>\n",
       "</div>"
      ],
      "text/plain": [
       "               id      xrefs\n",
       "2      HP:0000003  204962002\n",
       "4      HP:0000003   82525005\n",
       "8      HP:0000006  263681008\n",
       "10     HP:0000007  258211005\n",
       "14     HP:0000010  197927001\n",
       "...           ...        ...\n",
       "20398  HP:0430008   24606006\n",
       "20403  HP:0430009  204203001\n",
       "20404  HP:0430010   94684003\n",
       "20408  HP:0430012   93595006\n",
       "20427  HP:0430028   28070007\n",
       "\n",
       "[4672 rows x 2 columns]"
      ]
     },
     "execution_count": 22,
     "metadata": {},
     "output_type": "execute_result"
    }
   ],
   "source": [
    "hp_sno"
   ]
  },
  {
   "cell_type": "code",
   "execution_count": 23,
   "metadata": {},
   "outputs": [
    {
     "data": {
      "text/html": [
       "<div>\n",
       "<style scoped>\n",
       "    .dataframe tbody tr th:only-of-type {\n",
       "        vertical-align: middle;\n",
       "    }\n",
       "\n",
       "    .dataframe tbody tr th {\n",
       "        vertical-align: top;\n",
       "    }\n",
       "\n",
       "    .dataframe thead th {\n",
       "        text-align: right;\n",
       "    }\n",
       "</style>\n",
       "<table border=\"1\" class=\"dataframe\">\n",
       "  <thead>\n",
       "    <tr style=\"text-align: right;\">\n",
       "      <th></th>\n",
       "      <th>id_do</th>\n",
       "      <th>xrefs</th>\n",
       "      <th>id_hp</th>\n",
       "    </tr>\n",
       "  </thead>\n",
       "  <tbody>\n",
       "    <tr>\n",
       "      <th>0</th>\n",
       "      <td>DOID:0001816</td>\n",
       "      <td>39000009</td>\n",
       "      <td>HP:0200058</td>\n",
       "    </tr>\n",
       "    <tr>\n",
       "      <th>1</th>\n",
       "      <td>DOID:0050127</td>\n",
       "      <td>15805002</td>\n",
       "      <td>HP:0000255</td>\n",
       "    </tr>\n",
       "    <tr>\n",
       "      <th>2</th>\n",
       "      <td>DOID:0050152</td>\n",
       "      <td>422588002</td>\n",
       "      <td>HP:0011951</td>\n",
       "    </tr>\n",
       "    <tr>\n",
       "      <th>3</th>\n",
       "      <td>DOID:3240</td>\n",
       "      <td>422588002</td>\n",
       "      <td>HP:0011951</td>\n",
       "    </tr>\n",
       "    <tr>\n",
       "      <th>4</th>\n",
       "      <td>DOID:0050158</td>\n",
       "      <td>8549006</td>\n",
       "      <td>HP:0005942</td>\n",
       "    </tr>\n",
       "    <tr>\n",
       "      <th>...</th>\n",
       "      <td>...</td>\n",
       "      <td>...</td>\n",
       "      <td>...</td>\n",
       "    </tr>\n",
       "    <tr>\n",
       "      <th>1097</th>\n",
       "      <td>DOID:9953</td>\n",
       "      <td>128818009</td>\n",
       "      <td>HP:0005531</td>\n",
       "    </tr>\n",
       "    <tr>\n",
       "      <th>1098</th>\n",
       "      <td>DOID:9955</td>\n",
       "      <td>62067003</td>\n",
       "      <td>HP:0004383</td>\n",
       "    </tr>\n",
       "    <tr>\n",
       "      <th>1099</th>\n",
       "      <td>DOID:9957</td>\n",
       "      <td>41910004</td>\n",
       "      <td>HP:0040165</td>\n",
       "    </tr>\n",
       "    <tr>\n",
       "      <th>1100</th>\n",
       "      <td>DOID:9970</td>\n",
       "      <td>414916001</td>\n",
       "      <td>HP:0001513</td>\n",
       "    </tr>\n",
       "    <tr>\n",
       "      <th>1101</th>\n",
       "      <td>DOID:9993</td>\n",
       "      <td>302866003</td>\n",
       "      <td>HP:0001943</td>\n",
       "    </tr>\n",
       "  </tbody>\n",
       "</table>\n",
       "<p>1102 rows × 3 columns</p>\n",
       "</div>"
      ],
      "text/plain": [
       "             id_do      xrefs       id_hp\n",
       "0     DOID:0001816   39000009  HP:0200058\n",
       "1     DOID:0050127   15805002  HP:0000255\n",
       "2     DOID:0050152  422588002  HP:0011951\n",
       "3        DOID:3240  422588002  HP:0011951\n",
       "4     DOID:0050158    8549006  HP:0005942\n",
       "...            ...        ...         ...\n",
       "1097     DOID:9953  128818009  HP:0005531\n",
       "1098     DOID:9955   62067003  HP:0004383\n",
       "1099     DOID:9957   41910004  HP:0040165\n",
       "1100     DOID:9970  414916001  HP:0001513\n",
       "1101     DOID:9993  302866003  HP:0001943\n",
       "\n",
       "[1102 rows x 3 columns]"
      ]
     },
     "execution_count": 23,
     "metadata": {},
     "output_type": "execute_result"
    }
   ],
   "source": [
    "do_sno_mrg = pd.merge(do_sno, hp_sno, on='xrefs', how='inner', suffixes=('_do', '_hp'))\n",
    "do_sno_mrg"
   ]
  },
  {
   "cell_type": "code",
   "execution_count": 24,
   "metadata": {},
   "outputs": [
    {
     "data": {
      "text/html": [
       "<div>\n",
       "<style scoped>\n",
       "    .dataframe tbody tr th:only-of-type {\n",
       "        vertical-align: middle;\n",
       "    }\n",
       "\n",
       "    .dataframe tbody tr th {\n",
       "        vertical-align: top;\n",
       "    }\n",
       "\n",
       "    .dataframe thead th {\n",
       "        text-align: right;\n",
       "    }\n",
       "</style>\n",
       "<table border=\"1\" class=\"dataframe\">\n",
       "  <thead>\n",
       "    <tr style=\"text-align: right;\">\n",
       "      <th></th>\n",
       "      <th>id</th>\n",
       "      <th>xrefs</th>\n",
       "    </tr>\n",
       "  </thead>\n",
       "  <tbody>\n",
       "    <tr>\n",
       "      <th>3</th>\n",
       "      <td>SYMP:0000448</td>\n",
       "      <td>784.7</td>\n",
       "    </tr>\n",
       "    <tr>\n",
       "      <th>5</th>\n",
       "      <td>SYMP:0000449</td>\n",
       "      <td>785.51</td>\n",
       "    </tr>\n",
       "    <tr>\n",
       "      <th>8</th>\n",
       "      <td>SYMP:0000450</td>\n",
       "      <td>785.5</td>\n",
       "    </tr>\n",
       "    <tr>\n",
       "      <th>11</th>\n",
       "      <td>SYMP:0000451</td>\n",
       "      <td>785.52</td>\n",
       "    </tr>\n",
       "    <tr>\n",
       "      <th>16</th>\n",
       "      <td>SYMP:0000452</td>\n",
       "      <td>786.4</td>\n",
       "    </tr>\n",
       "    <tr>\n",
       "      <th>...</th>\n",
       "      <td>...</td>\n",
       "      <td>...</td>\n",
       "    </tr>\n",
       "    <tr>\n",
       "      <th>720</th>\n",
       "      <td>SYMP:0000818</td>\n",
       "      <td>782.2</td>\n",
       "    </tr>\n",
       "    <tr>\n",
       "      <th>721</th>\n",
       "      <td>SYMP:0000819</td>\n",
       "      <td>782.2</td>\n",
       "    </tr>\n",
       "    <tr>\n",
       "      <th>722</th>\n",
       "      <td>SYMP:0000820</td>\n",
       "      <td>786.6</td>\n",
       "    </tr>\n",
       "    <tr>\n",
       "      <th>723</th>\n",
       "      <td>SYMP:0000821</td>\n",
       "      <td>&lt;new dbxref&gt;</td>\n",
       "    </tr>\n",
       "    <tr>\n",
       "      <th>725</th>\n",
       "      <td>SYMP:0000852</td>\n",
       "      <td>788.5</td>\n",
       "    </tr>\n",
       "  </tbody>\n",
       "</table>\n",
       "<p>193 rows × 2 columns</p>\n",
       "</div>"
      ],
      "text/plain": [
       "               id         xrefs\n",
       "3    SYMP:0000448         784.7\n",
       "5    SYMP:0000449        785.51\n",
       "8    SYMP:0000450         785.5\n",
       "11   SYMP:0000451        785.52\n",
       "16   SYMP:0000452         786.4\n",
       "..            ...           ...\n",
       "720  SYMP:0000818         782.2\n",
       "721  SYMP:0000819         782.2\n",
       "722  SYMP:0000820         786.6\n",
       "723  SYMP:0000821  <new dbxref>\n",
       "725  SYMP:0000852         788.5\n",
       "\n",
       "[193 rows x 2 columns]"
      ]
     },
     "execution_count": 24,
     "metadata": {},
     "output_type": "execute_result"
    }
   ],
   "source": [
    "sy_icd9 = norm_xref(sy_nodes, 'ICD9CM_2005')\n",
    "sy_icd9"
   ]
  },
  {
   "cell_type": "code",
   "execution_count": 25,
   "metadata": {},
   "outputs": [
    {
     "data": {
      "text/html": [
       "<div>\n",
       "<style scoped>\n",
       "    .dataframe tbody tr th:only-of-type {\n",
       "        vertical-align: middle;\n",
       "    }\n",
       "\n",
       "    .dataframe tbody tr th {\n",
       "        vertical-align: top;\n",
       "    }\n",
       "\n",
       "    .dataframe thead th {\n",
       "        text-align: right;\n",
       "    }\n",
       "</style>\n",
       "<table border=\"1\" class=\"dataframe\">\n",
       "  <thead>\n",
       "    <tr style=\"text-align: right;\">\n",
       "      <th></th>\n",
       "      <th>id</th>\n",
       "      <th>xrefs</th>\n",
       "    </tr>\n",
       "  </thead>\n",
       "  <tbody>\n",
       "    <tr>\n",
       "      <th>19538</th>\n",
       "      <td>HP:0100645</td>\n",
       "      <td>618.00</td>\n",
       "    </tr>\n",
       "    <tr>\n",
       "      <th>19931</th>\n",
       "      <td>HP:0100821</td>\n",
       "      <td>618.03</td>\n",
       "    </tr>\n",
       "    <tr>\n",
       "      <th>19934</th>\n",
       "      <td>HP:0100822</td>\n",
       "      <td>618.04</td>\n",
       "    </tr>\n",
       "  </tbody>\n",
       "</table>\n",
       "</div>"
      ],
      "text/plain": [
       "               id   xrefs\n",
       "19538  HP:0100645  618.00\n",
       "19931  HP:0100821  618.03\n",
       "19934  HP:0100822  618.04"
      ]
     },
     "execution_count": 25,
     "metadata": {},
     "output_type": "execute_result"
    }
   ],
   "source": [
    "hp_icd9 = norm_xref(hpo_nodes, 'ICD-9')\n",
    "hp_icd9"
   ]
  },
  {
   "cell_type": "code",
   "execution_count": 26,
   "metadata": {},
   "outputs": [
    {
     "data": {
      "text/html": [
       "<div>\n",
       "<style scoped>\n",
       "    .dataframe tbody tr th:only-of-type {\n",
       "        vertical-align: middle;\n",
       "    }\n",
       "\n",
       "    .dataframe tbody tr th {\n",
       "        vertical-align: top;\n",
       "    }\n",
       "\n",
       "    .dataframe thead th {\n",
       "        text-align: right;\n",
       "    }\n",
       "</style>\n",
       "<table border=\"1\" class=\"dataframe\">\n",
       "  <thead>\n",
       "    <tr style=\"text-align: right;\">\n",
       "      <th></th>\n",
       "      <th>id_sym</th>\n",
       "      <th>xrefs</th>\n",
       "      <th>id_hp</th>\n",
       "    </tr>\n",
       "  </thead>\n",
       "  <tbody>\n",
       "  </tbody>\n",
       "</table>\n",
       "</div>"
      ],
      "text/plain": [
       "Empty DataFrame\n",
       "Columns: [id_sym, xrefs, id_hp]\n",
       "Index: []"
      ]
     },
     "execution_count": 26,
     "metadata": {},
     "output_type": "execute_result"
    }
   ],
   "source": [
    "pd.merge(sy_icd9, hp_icd9, on='xrefs', how='inner', suffixes=('_sym', '_hp'))"
   ]
  },
  {
   "cell_type": "markdown",
   "metadata": {},
   "source": [
    "## Make a mapper"
   ]
  },
  {
   "cell_type": "code",
   "execution_count": 27,
   "metadata": {},
   "outputs": [],
   "source": [
    "do_mrg['xrefs'] = 'UMLS:'+do_mrg['xrefs']\n",
    "do_sno_mrg['xrefs'] = 'SNOMED:'+do_sno_mrg['xrefs']"
   ]
  },
  {
   "cell_type": "code",
   "execution_count": 28,
   "metadata": {},
   "outputs": [],
   "source": [
    "do_to_hp = pd.concat([do_mrg, do_sno_mrg], ignore_index=True, sort=False)"
   ]
  },
  {
   "cell_type": "code",
   "execution_count": 29,
   "metadata": {},
   "outputs": [],
   "source": [
    "do_to_hp = dfp.combine_group_cols_on_char(do_to_hp, ['id_do', 'id_hp'], prog=False)"
   ]
  },
  {
   "cell_type": "code",
   "execution_count": 30,
   "metadata": {},
   "outputs": [
    {
     "data": {
      "text/plain": [
       "1127"
      ]
     },
     "execution_count": 30,
     "metadata": {},
     "output_type": "execute_result"
    }
   ],
   "source": [
    "len(do_to_hp)"
   ]
  },
  {
   "cell_type": "code",
   "execution_count": 31,
   "metadata": {},
   "outputs": [
    {
     "data": {
      "text/html": [
       "<div>\n",
       "<style scoped>\n",
       "    .dataframe tbody tr th:only-of-type {\n",
       "        vertical-align: middle;\n",
       "    }\n",
       "\n",
       "    .dataframe tbody tr th {\n",
       "        vertical-align: top;\n",
       "    }\n",
       "\n",
       "    .dataframe thead th {\n",
       "        text-align: right;\n",
       "    }\n",
       "</style>\n",
       "<table border=\"1\" class=\"dataframe\">\n",
       "  <thead>\n",
       "    <tr style=\"text-align: right;\">\n",
       "      <th></th>\n",
       "      <th>id_do</th>\n",
       "      <th>xrefs</th>\n",
       "      <th>id_hp</th>\n",
       "    </tr>\n",
       "  </thead>\n",
       "  <tbody>\n",
       "    <tr>\n",
       "      <th>0</th>\n",
       "      <td>DOID:0002116</td>\n",
       "      <td>UMLS:C0033999</td>\n",
       "      <td>HP:0001059</td>\n",
       "    </tr>\n",
       "    <tr>\n",
       "      <th>1</th>\n",
       "      <td>DOID:0050157</td>\n",
       "      <td>UMLS:C0242770</td>\n",
       "      <td>HP:0011945</td>\n",
       "    </tr>\n",
       "    <tr>\n",
       "      <th>2</th>\n",
       "      <td>DOID:0060157</td>\n",
       "      <td>UMLS:C1862862</td>\n",
       "      <td>HP:0002232</td>\n",
       "    </tr>\n",
       "    <tr>\n",
       "      <th>3</th>\n",
       "      <td>DOID:0060215</td>\n",
       "      <td>UMLS:C0007795</td>\n",
       "      <td>HP:0006918</td>\n",
       "    </tr>\n",
       "    <tr>\n",
       "      <th>4</th>\n",
       "      <td>DOID:0060252</td>\n",
       "      <td>UMLS:C1853235</td>\n",
       "      <td>HP:0000647</td>\n",
       "    </tr>\n",
       "    <tr>\n",
       "      <th>...</th>\n",
       "      <td>...</td>\n",
       "      <td>...</td>\n",
       "      <td>...</td>\n",
       "    </tr>\n",
       "    <tr>\n",
       "      <th>1122</th>\n",
       "      <td>DOID:9953</td>\n",
       "      <td>SNOMED:278453007|UMLS:C0023464|SNOMED:128818009</td>\n",
       "      <td>HP:0005531</td>\n",
       "    </tr>\n",
       "    <tr>\n",
       "      <th>1123</th>\n",
       "      <td>DOID:9955</td>\n",
       "      <td>SNOMED:62067003|UMLS:C0152101</td>\n",
       "      <td>HP:0004383</td>\n",
       "    </tr>\n",
       "    <tr>\n",
       "      <th>1124</th>\n",
       "      <td>DOID:9957</td>\n",
       "      <td>SNOMED:41910004|UMLS:C0031111</td>\n",
       "      <td>HP:0040165</td>\n",
       "    </tr>\n",
       "    <tr>\n",
       "      <th>1125</th>\n",
       "      <td>DOID:9970</td>\n",
       "      <td>UMLS:C0028754|SNOMED:414916001</td>\n",
       "      <td>HP:0001513</td>\n",
       "    </tr>\n",
       "    <tr>\n",
       "      <th>1126</th>\n",
       "      <td>DOID:9993</td>\n",
       "      <td>UMLS:C0020615|SNOMED:302866003</td>\n",
       "      <td>HP:0001943</td>\n",
       "    </tr>\n",
       "  </tbody>\n",
       "</table>\n",
       "<p>1127 rows × 3 columns</p>\n",
       "</div>"
      ],
      "text/plain": [
       "             id_do                                            xrefs  \\\n",
       "0     DOID:0002116                                    UMLS:C0033999   \n",
       "1     DOID:0050157                                    UMLS:C0242770   \n",
       "2     DOID:0060157                                    UMLS:C1862862   \n",
       "3     DOID:0060215                                    UMLS:C0007795   \n",
       "4     DOID:0060252                                    UMLS:C1853235   \n",
       "...            ...                                              ...   \n",
       "1122     DOID:9953  SNOMED:278453007|UMLS:C0023464|SNOMED:128818009   \n",
       "1123     DOID:9955                    SNOMED:62067003|UMLS:C0152101   \n",
       "1124     DOID:9957                    SNOMED:41910004|UMLS:C0031111   \n",
       "1125     DOID:9970                   UMLS:C0028754|SNOMED:414916001   \n",
       "1126     DOID:9993                   UMLS:C0020615|SNOMED:302866003   \n",
       "\n",
       "           id_hp  \n",
       "0     HP:0001059  \n",
       "1     HP:0011945  \n",
       "2     HP:0002232  \n",
       "3     HP:0006918  \n",
       "4     HP:0000647  \n",
       "...          ...  \n",
       "1122  HP:0005531  \n",
       "1123  HP:0004383  \n",
       "1124  HP:0040165  \n",
       "1125  HP:0001513  \n",
       "1126  HP:0001943  \n",
       "\n",
       "[1127 rows x 3 columns]"
      ]
     },
     "execution_count": 31,
     "metadata": {},
     "output_type": "execute_result"
    }
   ],
   "source": [
    "do_to_hp"
   ]
  },
  {
   "cell_type": "code",
   "execution_count": 32,
   "metadata": {},
   "outputs": [],
   "source": [
    "sym_mrg['xrefs'] = 'UMLS:'+sym_mrg['xrefs']"
   ]
  },
  {
   "cell_type": "code",
   "execution_count": 33,
   "metadata": {},
   "outputs": [
    {
     "data": {
      "text/plain": [
       "58"
      ]
     },
     "execution_count": 33,
     "metadata": {},
     "output_type": "execute_result"
    }
   ],
   "source": [
    "len(sym_mrg)"
   ]
  },
  {
   "cell_type": "code",
   "execution_count": 34,
   "metadata": {},
   "outputs": [
    {
     "data": {
      "text/plain": [
       "58"
      ]
     },
     "execution_count": 34,
     "metadata": {},
     "output_type": "execute_result"
    }
   ],
   "source": [
    "len(sym_mrg.drop_duplicates(subset=['id_hp', 'id_sym']))"
   ]
  },
  {
   "cell_type": "markdown",
   "metadata": {},
   "source": [
    "# Map as many diseases already in the Nework to DO"
   ]
  },
  {
   "cell_type": "code",
   "execution_count": 35,
   "metadata": {},
   "outputs": [],
   "source": [
    "old_id_to_name = nodes.set_index('id')['name'].to_dict()"
   ]
  },
  {
   "cell_type": "code",
   "execution_count": 36,
   "metadata": {},
   "outputs": [
    {
     "data": {
      "text/plain": [
       "DOID     12005\n",
       "MESH      2097\n",
       "MONDO     1587\n",
       "OMIM      1566\n",
       "WD         922\n",
       "UMLS       307\n",
       "Name: id, dtype: int64"
      ]
     },
     "execution_count": 36,
     "metadata": {},
     "output_type": "execute_result"
    }
   ],
   "source": [
    "nodes.query('label == \"Disease\"')['id'].apply(lambda s: s.split(':')[0]).value_counts()"
   ]
  },
  {
   "cell_type": "code",
   "execution_count": 37,
   "metadata": {},
   "outputs": [],
   "source": [
    "omim_xref = get_curi_xrefs(do_nodes, 'OMIM')\n",
    "mesh_xref = get_curi_xrefs(do_nodes, 'MESH')\n",
    "umls_xref = get_curi_xrefs(do_nodes, 'UMLS_CUI')\n",
    "sno_xref = get_curi_xrefs(do_nodes, 'SNOMEDCT_US_2019_09_01')\n",
    "\n",
    "umls_xref['xrefs'] = umls_xref['xrefs'].str.replace('_CUI:', ':')\n",
    "sno_xref['xrefs'] = sno_xref['xrefs'].str.replace('SNOMEDCT_US_2019_09_01:', 'SNOMED:')"
   ]
  },
  {
   "cell_type": "code",
   "execution_count": 38,
   "metadata": {},
   "outputs": [],
   "source": [
    "all_do_map = pd.concat([omim_xref, mesh_xref, umls_xref, sno_xref])"
   ]
  },
  {
   "cell_type": "code",
   "execution_count": 39,
   "metadata": {},
   "outputs": [],
   "source": [
    "dis = nodes.query('label == \"Disease\"')\n",
    "no_doid_dis = dis[~dis['id'].str.startswith('DOID:')]"
   ]
  },
  {
   "cell_type": "code",
   "execution_count": 40,
   "metadata": {},
   "outputs": [],
   "source": [
    "all_do_xrefs = (omim_xref['xrefs'].tolist() + umls_xref['xrefs'].tolist() + \n",
    "                mesh_xref['xrefs'].tolist() + sno_xref['xrefs'].tolist())"
   ]
  },
  {
   "cell_type": "code",
   "execution_count": 41,
   "metadata": {},
   "outputs": [
    {
     "data": {
      "text/plain": [
       "6479"
      ]
     },
     "execution_count": 41,
     "metadata": {},
     "output_type": "execute_result"
    }
   ],
   "source": [
    "len(no_doid_dis)"
   ]
  },
  {
   "cell_type": "code",
   "execution_count": 42,
   "metadata": {},
   "outputs": [
    {
     "data": {
      "text/plain": [
       "1285"
      ]
     },
     "execution_count": 42,
     "metadata": {},
     "output_type": "execute_result"
    }
   ],
   "source": [
    "no_doid_dis.query('id in @all_do_xrefs')['id'].nunique()"
   ]
  },
  {
   "cell_type": "code",
   "execution_count": 43,
   "metadata": {},
   "outputs": [
    {
     "data": {
      "text/plain": [
       "UMLS      1738\n",
       "MONDO     1627\n",
       "OMIM      1600\n",
       "MESH       684\n",
       "SNOMED       2\n",
       "Name: xrefs, dtype: int64"
      ]
     },
     "execution_count": 43,
     "metadata": {},
     "output_type": "execute_result"
    }
   ],
   "source": [
    "dfp.expand_col_on_char(nodes[nodes['id'].str.startswith('MONDO:')], 'xrefs', '|')['xrefs'].apply(lambda s: s.split(':')[0]).value_counts()"
   ]
  },
  {
   "cell_type": "code",
   "execution_count": 44,
   "metadata": {},
   "outputs": [
    {
     "data": {
      "text/plain": [
       "728"
      ]
     },
     "execution_count": 44,
     "metadata": {},
     "output_type": "execute_result"
    }
   ],
   "source": [
    "map_xref = pd.concat([get_curi_xrefs(no_doid_dis, 'OMIM'),\n",
    "               get_curi_xrefs(no_doid_dis, 'UMLS'),\n",
    "               get_curi_xrefs(no_doid_dis, 'MESH'),\n",
    "               get_curi_xrefs(no_doid_dis, 'SNOMED')]).query('xrefs in @all_do_xrefs')\n",
    "\n",
    "\n",
    "\n",
    "can_map = map_xref['id'].unique()\n",
    "len(can_map)"
   ]
  },
  {
   "cell_type": "code",
   "execution_count": 45,
   "metadata": {},
   "outputs": [
    {
     "data": {
      "text/html": [
       "<div>\n",
       "<style scoped>\n",
       "    .dataframe tbody tr th:only-of-type {\n",
       "        vertical-align: middle;\n",
       "    }\n",
       "\n",
       "    .dataframe tbody tr th {\n",
       "        vertical-align: top;\n",
       "    }\n",
       "\n",
       "    .dataframe thead th {\n",
       "        text-align: right;\n",
       "    }\n",
       "</style>\n",
       "<table border=\"1\" class=\"dataframe\">\n",
       "  <thead>\n",
       "    <tr style=\"text-align: right;\">\n",
       "      <th></th>\n",
       "      <th>id</th>\n",
       "      <th>xrefs</th>\n",
       "    </tr>\n",
       "  </thead>\n",
       "  <tbody>\n",
       "    <tr>\n",
       "      <th>13</th>\n",
       "      <td>MESH:C537288</td>\n",
       "      <td>OMIM:114300</td>\n",
       "    </tr>\n",
       "    <tr>\n",
       "      <th>17</th>\n",
       "      <td>MESH:C538138</td>\n",
       "      <td>OMIM:307030</td>\n",
       "    </tr>\n",
       "  </tbody>\n",
       "</table>\n",
       "</div>"
      ],
      "text/plain": [
       "              id        xrefs\n",
       "13  MESH:C537288  OMIM:114300\n",
       "17  MESH:C538138  OMIM:307030"
      ]
     },
     "execution_count": 45,
     "metadata": {},
     "output_type": "execute_result"
    }
   ],
   "source": [
    "map_xref.head(2)"
   ]
  },
  {
   "cell_type": "code",
   "execution_count": 46,
   "metadata": {},
   "outputs": [
    {
     "data": {
      "text/plain": [
       "1837"
      ]
     },
     "execution_count": 46,
     "metadata": {},
     "output_type": "execute_result"
    }
   ],
   "source": [
    "len(no_doid_dis.query('id in @all_do_xrefs or id in @can_map'))"
   ]
  },
  {
   "cell_type": "code",
   "execution_count": 47,
   "metadata": {},
   "outputs": [],
   "source": [
    "no_map_exp = dfp.expand_col_on_char(no_doid_dis, 'xrefs', '|')"
   ]
  },
  {
   "cell_type": "code",
   "execution_count": 48,
   "metadata": {},
   "outputs": [],
   "source": [
    "map_id = no_map_exp.query('id in @all_do_xrefs')\n",
    "map_xref = no_map_exp.query('id in @can_map')\n",
    "\n",
    "id_mrg = pd.merge(map_id, all_do_map, how='left', left_on=['id'], right_on=['xrefs'], suffixes=['_old', ''])"
   ]
  },
  {
   "cell_type": "code",
   "execution_count": 49,
   "metadata": {},
   "outputs": [],
   "source": [
    "xref_mrg = pd.merge(map_xref, all_do_map, how='left', on=['xrefs'], suffixes=['_old', '']).dropna(subset=['id'])"
   ]
  },
  {
   "cell_type": "code",
   "execution_count": 50,
   "metadata": {},
   "outputs": [],
   "source": [
    "mrg_map = pd.concat([id_mrg, xref_mrg], sort=False, ignore_index=True).drop_duplicates(subset=['id', 'id_old'])"
   ]
  },
  {
   "cell_type": "code",
   "execution_count": 51,
   "metadata": {},
   "outputs": [
    {
     "data": {
      "text/plain": [
       "1677"
      ]
     },
     "execution_count": 51,
     "metadata": {},
     "output_type": "execute_result"
    }
   ],
   "source": [
    "mrg_map['id'].nunique()"
   ]
  },
  {
   "cell_type": "code",
   "execution_count": 52,
   "metadata": {},
   "outputs": [
    {
     "data": {
      "text/plain": [
       "1837"
      ]
     },
     "execution_count": 52,
     "metadata": {},
     "output_type": "execute_result"
    }
   ],
   "source": [
    "mrg_map['id_old'].nunique()"
   ]
  },
  {
   "cell_type": "code",
   "execution_count": 53,
   "metadata": {},
   "outputs": [
    {
     "data": {
      "text/html": [
       "<div>\n",
       "<style scoped>\n",
       "    .dataframe tbody tr th:only-of-type {\n",
       "        vertical-align: middle;\n",
       "    }\n",
       "\n",
       "    .dataframe tbody tr th {\n",
       "        vertical-align: top;\n",
       "    }\n",
       "\n",
       "    .dataframe thead th {\n",
       "        text-align: right;\n",
       "    }\n",
       "</style>\n",
       "<table border=\"1\" class=\"dataframe\">\n",
       "  <thead>\n",
       "    <tr style=\"text-align: right;\">\n",
       "      <th></th>\n",
       "      <th>id_old</th>\n",
       "      <th>name</th>\n",
       "      <th>label</th>\n",
       "      <th>xrefs_old</th>\n",
       "      <th>source</th>\n",
       "      <th>id</th>\n",
       "      <th>xrefs</th>\n",
       "    </tr>\n",
       "  </thead>\n",
       "  <tbody>\n",
       "    <tr>\n",
       "      <th>0</th>\n",
       "      <td>MESH:C537288</td>\n",
       "      <td>Gordon syndrome</td>\n",
       "      <td>Disease</td>\n",
       "      <td>MESH:C537288</td>\n",
       "      <td>NaN</td>\n",
       "      <td>DOID:0111607</td>\n",
       "      <td>MESH:C537288</td>\n",
       "    </tr>\n",
       "    <tr>\n",
       "      <th>2</th>\n",
       "      <td>MESH:D000074009</td>\n",
       "      <td>tubular sweat gland adenoma</td>\n",
       "      <td>Disease</td>\n",
       "      <td>MESH:D000074009</td>\n",
       "      <td>NaN</td>\n",
       "      <td>DOID:5439</td>\n",
       "      <td>MESH:D000074009</td>\n",
       "    </tr>\n",
       "    <tr>\n",
       "      <th>3</th>\n",
       "      <td>MESH:D000074009</td>\n",
       "      <td>tubular sweat gland adenoma</td>\n",
       "      <td>Disease</td>\n",
       "      <td>MESH:D000074009</td>\n",
       "      <td>NaN</td>\n",
       "      <td>DOID:5445</td>\n",
       "      <td>MESH:D000074009</td>\n",
       "    </tr>\n",
       "    <tr>\n",
       "      <th>4</th>\n",
       "      <td>MESH:D018306</td>\n",
       "      <td>neurocytoma</td>\n",
       "      <td>Disease</td>\n",
       "      <td>MESH:D018306</td>\n",
       "      <td>NaN</td>\n",
       "      <td>DOID:14174</td>\n",
       "      <td>MESH:D018306</td>\n",
       "    </tr>\n",
       "    <tr>\n",
       "      <th>6</th>\n",
       "      <td>MESH:D057129</td>\n",
       "      <td>iridocorneal endothelial syndrome</td>\n",
       "      <td>Disease</td>\n",
       "      <td>MESH:D057129</td>\n",
       "      <td>NaN</td>\n",
       "      <td>DOID:11554</td>\n",
       "      <td>MESH:D057129</td>\n",
       "    </tr>\n",
       "    <tr>\n",
       "      <th>7</th>\n",
       "      <td>OMIM:101200</td>\n",
       "      <td>Apert syndrome</td>\n",
       "      <td>Disease</td>\n",
       "      <td>OMIM:101200</td>\n",
       "      <td>NaN</td>\n",
       "      <td>DOID:12960</td>\n",
       "      <td>OMIM:101200</td>\n",
       "    </tr>\n",
       "    <tr>\n",
       "      <th>8</th>\n",
       "      <td>OMIM:116860</td>\n",
       "      <td>Cavernous venous malformation</td>\n",
       "      <td>Disease</td>\n",
       "      <td>OMIM:116860</td>\n",
       "      <td>NaN</td>\n",
       "      <td>DOID:0080491</td>\n",
       "      <td>OMIM:116860</td>\n",
       "    </tr>\n",
       "    <tr>\n",
       "      <th>9</th>\n",
       "      <td>OMIM:116920</td>\n",
       "      <td>Leukocyte adhesion deficiency-1</td>\n",
       "      <td>Disease</td>\n",
       "      <td>OMIM:116920</td>\n",
       "      <td>NaN</td>\n",
       "      <td>DOID:0110910</td>\n",
       "      <td>OMIM:116920</td>\n",
       "    </tr>\n",
       "    <tr>\n",
       "      <th>10</th>\n",
       "      <td>OMIM:121050</td>\n",
       "      <td>Congenital contractural arachnodactyly</td>\n",
       "      <td>Disease</td>\n",
       "      <td>OMIM:121050</td>\n",
       "      <td>NaN</td>\n",
       "      <td>DOID:0050646</td>\n",
       "      <td>OMIM:121050</td>\n",
       "    </tr>\n",
       "    <tr>\n",
       "      <th>11</th>\n",
       "      <td>OMIM:121050</td>\n",
       "      <td>Congenital contractural arachnodactyly</td>\n",
       "      <td>Disease</td>\n",
       "      <td>OMIM:121050</td>\n",
       "      <td>NaN</td>\n",
       "      <td>DOID:0111595</td>\n",
       "      <td>OMIM:121050</td>\n",
       "    </tr>\n",
       "  </tbody>\n",
       "</table>\n",
       "</div>"
      ],
      "text/plain": [
       "             id_old                                    name    label  \\\n",
       "0      MESH:C537288                         Gordon syndrome  Disease   \n",
       "2   MESH:D000074009             tubular sweat gland adenoma  Disease   \n",
       "3   MESH:D000074009             tubular sweat gland adenoma  Disease   \n",
       "4      MESH:D018306                             neurocytoma  Disease   \n",
       "6      MESH:D057129       iridocorneal endothelial syndrome  Disease   \n",
       "7       OMIM:101200                          Apert syndrome  Disease   \n",
       "8       OMIM:116860           Cavernous venous malformation  Disease   \n",
       "9       OMIM:116920         Leukocyte adhesion deficiency-1  Disease   \n",
       "10      OMIM:121050  Congenital contractural arachnodactyly  Disease   \n",
       "11      OMIM:121050  Congenital contractural arachnodactyly  Disease   \n",
       "\n",
       "          xrefs_old  source            id            xrefs  \n",
       "0      MESH:C537288     NaN  DOID:0111607     MESH:C537288  \n",
       "2   MESH:D000074009     NaN     DOID:5439  MESH:D000074009  \n",
       "3   MESH:D000074009     NaN     DOID:5445  MESH:D000074009  \n",
       "4      MESH:D018306     NaN    DOID:14174     MESH:D018306  \n",
       "6      MESH:D057129     NaN    DOID:11554     MESH:D057129  \n",
       "7       OMIM:101200     NaN    DOID:12960      OMIM:101200  \n",
       "8       OMIM:116860     NaN  DOID:0080491      OMIM:116860  \n",
       "9       OMIM:116920     NaN  DOID:0110910      OMIM:116920  \n",
       "10      OMIM:121050     NaN  DOID:0050646      OMIM:121050  \n",
       "11      OMIM:121050     NaN  DOID:0111595      OMIM:121050  "
      ]
     },
     "execution_count": 53,
     "metadata": {},
     "output_type": "execute_result"
    }
   ],
   "source": [
    "mrg_map.head(10)"
   ]
  },
  {
   "cell_type": "code",
   "execution_count": 54,
   "metadata": {},
   "outputs": [],
   "source": [
    "mrg_ids = mrg_map['id'].unique()\n",
    "old_ids = mrg_map['id_old'].unique()"
   ]
  },
  {
   "cell_type": "code",
   "execution_count": 55,
   "metadata": {},
   "outputs": [
    {
     "data": {
      "text/html": [
       "<div>\n",
       "<style scoped>\n",
       "    .dataframe tbody tr th:only-of-type {\n",
       "        vertical-align: middle;\n",
       "    }\n",
       "\n",
       "    .dataframe tbody tr th {\n",
       "        vertical-align: top;\n",
       "    }\n",
       "\n",
       "    .dataframe thead th {\n",
       "        text-align: right;\n",
       "    }\n",
       "</style>\n",
       "<table border=\"1\" class=\"dataframe\">\n",
       "  <thead>\n",
       "    <tr style=\"text-align: right;\">\n",
       "      <th></th>\n",
       "      <th>id</th>\n",
       "      <th>name</th>\n",
       "      <th>label</th>\n",
       "      <th>xrefs</th>\n",
       "      <th>source</th>\n",
       "    </tr>\n",
       "  </thead>\n",
       "  <tbody>\n",
       "    <tr>\n",
       "      <th>52931</th>\n",
       "      <td>DOID:0001816</td>\n",
       "      <td>angiosarcoma</td>\n",
       "      <td>Disease</td>\n",
       "      <td>DOID:0001816|UMLS:C0018923|UMLS:C0854893</td>\n",
       "      <td>NaN</td>\n",
       "    </tr>\n",
       "    <tr>\n",
       "      <th>53117</th>\n",
       "      <td>DOID:0050133</td>\n",
       "      <td>superficial mycosis</td>\n",
       "      <td>Disease</td>\n",
       "      <td>DOID:0050133|MONDO:0024268|UMLS:C0031898|UMLS:...</td>\n",
       "      <td>NaN</td>\n",
       "    </tr>\n",
       "    <tr>\n",
       "      <th>53375</th>\n",
       "      <td>DOID:0050428</td>\n",
       "      <td>nonepidermolytic palmoplantar keratoderma</td>\n",
       "      <td>Disease</td>\n",
       "      <td>DOID:0050428|MESH:D015776|OMIM:600962|OMIM:613...</td>\n",
       "      <td>NaN</td>\n",
       "    </tr>\n",
       "    <tr>\n",
       "      <th>53377</th>\n",
       "      <td>DOID:0050444</td>\n",
       "      <td>peroxisome biogenesis disorder type 3B</td>\n",
       "      <td>Disease</td>\n",
       "      <td>DOID:0050444|MONDO:0009959|OMIM:266510|UMLS:C0...</td>\n",
       "      <td>NaN</td>\n",
       "    </tr>\n",
       "    <tr>\n",
       "      <th>53388</th>\n",
       "      <td>DOID:0050489</td>\n",
       "      <td>multinodular goiter</td>\n",
       "      <td>Disease</td>\n",
       "      <td>DOID:0050489|MONDO:0000334|OMIM:138800|OMIM:30...</td>\n",
       "      <td>NaN</td>\n",
       "    </tr>\n",
       "    <tr>\n",
       "      <th>...</th>\n",
       "      <td>...</td>\n",
       "      <td>...</td>\n",
       "      <td>...</td>\n",
       "      <td>...</td>\n",
       "      <td>...</td>\n",
       "    </tr>\n",
       "    <tr>\n",
       "      <th>790613</th>\n",
       "      <td>DOID:9667</td>\n",
       "      <td>placental abruption</td>\n",
       "      <td>Disease</td>\n",
       "      <td>DOID:9667|MESH:D000037|MONDO:0004846|UMLS:C000...</td>\n",
       "      <td>NaN</td>\n",
       "    </tr>\n",
       "    <tr>\n",
       "      <th>790617</th>\n",
       "      <td>DOID:9719</td>\n",
       "      <td>proliferative vitreoretinopathy</td>\n",
       "      <td>Disease</td>\n",
       "      <td>DOID:9719|MESH:D018630|MONDO:0006928|UMLS:C024...</td>\n",
       "      <td>NaN</td>\n",
       "    </tr>\n",
       "    <tr>\n",
       "      <th>790634</th>\n",
       "      <td>DOID:9810</td>\n",
       "      <td>polyarteritis nodosa</td>\n",
       "      <td>Disease</td>\n",
       "      <td>DOID:9810|MESH:D010488|MONDO:0019170|UMLS:C003...</td>\n",
       "      <td>NaN</td>\n",
       "    </tr>\n",
       "    <tr>\n",
       "      <th>790657</th>\n",
       "      <td>DOID:9953</td>\n",
       "      <td>Acute biphenotypic leukaemia</td>\n",
       "      <td>Disease</td>\n",
       "      <td>DOID:9953|MESH:D015456|MONDO:0006667|UMLS:C002...</td>\n",
       "      <td>NaN</td>\n",
       "    </tr>\n",
       "    <tr>\n",
       "      <th>790660</th>\n",
       "      <td>DOID:9970</td>\n",
       "      <td>obesity</td>\n",
       "      <td>Disease</td>\n",
       "      <td>DOID:9970|MESH:D009765|OMIM:601665|UMLS:C0028754</td>\n",
       "      <td>NaN</td>\n",
       "    </tr>\n",
       "  </tbody>\n",
       "</table>\n",
       "<p>1218 rows × 5 columns</p>\n",
       "</div>"
      ],
      "text/plain": [
       "                  id                                       name    label  \\\n",
       "52931   DOID:0001816                               angiosarcoma  Disease   \n",
       "53117   DOID:0050133                        superficial mycosis  Disease   \n",
       "53375   DOID:0050428  nonepidermolytic palmoplantar keratoderma  Disease   \n",
       "53377   DOID:0050444     peroxisome biogenesis disorder type 3B  Disease   \n",
       "53388   DOID:0050489                        multinodular goiter  Disease   \n",
       "...              ...                                        ...      ...   \n",
       "790613     DOID:9667                        placental abruption  Disease   \n",
       "790617     DOID:9719            proliferative vitreoretinopathy  Disease   \n",
       "790634     DOID:9810                       polyarteritis nodosa  Disease   \n",
       "790657     DOID:9953               Acute biphenotypic leukaemia  Disease   \n",
       "790660     DOID:9970                                    obesity  Disease   \n",
       "\n",
       "                                                    xrefs source  \n",
       "52931            DOID:0001816|UMLS:C0018923|UMLS:C0854893    NaN  \n",
       "53117   DOID:0050133|MONDO:0024268|UMLS:C0031898|UMLS:...    NaN  \n",
       "53375   DOID:0050428|MESH:D015776|OMIM:600962|OMIM:613...    NaN  \n",
       "53377   DOID:0050444|MONDO:0009959|OMIM:266510|UMLS:C0...    NaN  \n",
       "53388   DOID:0050489|MONDO:0000334|OMIM:138800|OMIM:30...    NaN  \n",
       "...                                                   ...    ...  \n",
       "790613  DOID:9667|MESH:D000037|MONDO:0004846|UMLS:C000...    NaN  \n",
       "790617  DOID:9719|MESH:D018630|MONDO:0006928|UMLS:C024...    NaN  \n",
       "790634  DOID:9810|MESH:D010488|MONDO:0019170|UMLS:C003...    NaN  \n",
       "790657  DOID:9953|MESH:D015456|MONDO:0006667|UMLS:C002...    NaN  \n",
       "790660   DOID:9970|MESH:D009765|OMIM:601665|UMLS:C0028754    NaN  \n",
       "\n",
       "[1218 rows x 5 columns]"
      ]
     },
     "execution_count": 55,
     "metadata": {},
     "output_type": "execute_result"
    }
   ],
   "source": [
    "nodes.query('id in @mrg_ids')"
   ]
  },
  {
   "cell_type": "code",
   "execution_count": 56,
   "metadata": {},
   "outputs": [],
   "source": [
    "rename_xref = mrg_map.dropna(subset=['xrefs_old']).drop('xrefs', axis=1).rename(columns={'xrefs_old': 'xrefs'})\n",
    "mrg_nodes = pd.concat([mrg_map.drop('xrefs_old', axis=1), rename_xref], sort=False, ignore_index=True)"
   ]
  },
  {
   "cell_type": "code",
   "execution_count": 57,
   "metadata": {},
   "outputs": [],
   "source": [
    "mrg_nodes = dfp.combine_group_cols_on_char(mrg_nodes.drop('id_old', axis=1), ['id'], ['xrefs'], sort=True, prog=False)"
   ]
  },
  {
   "cell_type": "code",
   "execution_count": 58,
   "metadata": {},
   "outputs": [],
   "source": [
    "mrg_map = mrg_map.drop(['name', 'label', 'xrefs_old', 'source', 'xrefs'], axis=1)"
   ]
  },
  {
   "cell_type": "code",
   "execution_count": 59,
   "metadata": {},
   "outputs": [],
   "source": [
    "combo_cols = [c for c in do_nodes.columns if c not in ['id', 'name']]"
   ]
  },
  {
   "cell_type": "code",
   "execution_count": 60,
   "metadata": {},
   "outputs": [],
   "source": [
    "update_dis_nodes = dfp.combine_group_cols_on_char(pd.concat([do_nodes.query('id in @mrg_ids'), mrg_nodes],sort=False, ignore_index=True), \n",
    "                                                  ['id'],  combo_cols, sort=True, prog=False)"
   ]
  },
  {
   "cell_type": "markdown",
   "metadata": {},
   "source": [
    "# Use alt ids to remove depracted nodes"
   ]
  },
  {
   "cell_type": "code",
   "execution_count": 61,
   "metadata": {},
   "outputs": [],
   "source": [
    "do_alt_exp = dfp.expand_col_on_char(do_nodes, 'alt_ids', '|', True)"
   ]
  },
  {
   "cell_type": "code",
   "execution_count": 62,
   "metadata": {},
   "outputs": [
    {
     "data": {
      "text/plain": [
       "1685"
      ]
     },
     "execution_count": 62,
     "metadata": {},
     "output_type": "execute_result"
    }
   ],
   "source": [
    "do_alt_exp['alt_ids'].nunique()"
   ]
  },
  {
   "cell_type": "code",
   "execution_count": 63,
   "metadata": {},
   "outputs": [],
   "source": [
    "alt_do_ids = do_alt_exp['alt_ids'].unique()"
   ]
  },
  {
   "cell_type": "code",
   "execution_count": 64,
   "metadata": {},
   "outputs": [
    {
     "data": {
      "text/html": [
       "<div>\n",
       "<style scoped>\n",
       "    .dataframe tbody tr th:only-of-type {\n",
       "        vertical-align: middle;\n",
       "    }\n",
       "\n",
       "    .dataframe tbody tr th {\n",
       "        vertical-align: top;\n",
       "    }\n",
       "\n",
       "    .dataframe thead th {\n",
       "        text-align: right;\n",
       "    }\n",
       "</style>\n",
       "<table border=\"1\" class=\"dataframe\">\n",
       "  <thead>\n",
       "    <tr style=\"text-align: right;\">\n",
       "      <th></th>\n",
       "      <th>id</th>\n",
       "      <th>name</th>\n",
       "      <th>synonyms</th>\n",
       "      <th>xrefs</th>\n",
       "      <th>alt_ids</th>\n",
       "      <th>subsets</th>\n",
       "    </tr>\n",
       "  </thead>\n",
       "  <tbody>\n",
       "    <tr>\n",
       "      <th>138</th>\n",
       "      <td>DOID:0050068</td>\n",
       "      <td>obsolete pestis minor</td>\n",
       "      <td>NaN</td>\n",
       "      <td>NaN</td>\n",
       "      <td>NaN</td>\n",
       "      <td>NaN</td>\n",
       "    </tr>\n",
       "    <tr>\n",
       "      <th>572</th>\n",
       "      <td>DOID:0050527</td>\n",
       "      <td>obsolete familial hypertriglyceridemia</td>\n",
       "      <td>NaN</td>\n",
       "      <td>NaN</td>\n",
       "      <td>NaN</td>\n",
       "      <td>NaN</td>\n",
       "    </tr>\n",
       "    <tr>\n",
       "      <th>577</th>\n",
       "      <td>DOID:0050532</td>\n",
       "      <td>obsolete epidermal nevus</td>\n",
       "      <td>PIGMENTED MOLES|NEVUS, KERATINOCYTIC, NONEPIDE...</td>\n",
       "      <td>NaN</td>\n",
       "      <td>NaN</td>\n",
       "      <td>NaN</td>\n",
       "    </tr>\n",
       "    <tr>\n",
       "      <th>581</th>\n",
       "      <td>DOID:0050536</td>\n",
       "      <td>obsolete SC phocomelia syndrome</td>\n",
       "      <td>SC PSEUDOTHALIDOMIDE SYNDROME|Hypomelia Hypotr...</td>\n",
       "      <td>NaN</td>\n",
       "      <td>NaN</td>\n",
       "      <td>NaN</td>\n",
       "    </tr>\n",
       "    <tr>\n",
       "      <th>599</th>\n",
       "      <td>DOID:0050556</td>\n",
       "      <td>obsolete infantile onset spinocerebellar ataxia</td>\n",
       "      <td>NaN</td>\n",
       "      <td>NaN</td>\n",
       "      <td>NaN</td>\n",
       "      <td>NaN</td>\n",
       "    </tr>\n",
       "    <tr>\n",
       "      <th>...</th>\n",
       "      <td>...</td>\n",
       "      <td>...</td>\n",
       "      <td>...</td>\n",
       "      <td>...</td>\n",
       "      <td>...</td>\n",
       "      <td>...</td>\n",
       "    </tr>\n",
       "    <tr>\n",
       "      <th>11060</th>\n",
       "      <td>DOID:6899</td>\n",
       "      <td>obsolete malignant ovarian mixed epithelial ne...</td>\n",
       "      <td>NaN</td>\n",
       "      <td>NaN</td>\n",
       "      <td>NaN</td>\n",
       "      <td>NaN</td>\n",
       "    </tr>\n",
       "    <tr>\n",
       "      <th>11164</th>\n",
       "      <td>DOID:7061</td>\n",
       "      <td>obsolete precursor B lymphoblastic lymphoma/le...</td>\n",
       "      <td>NaN</td>\n",
       "      <td>NaN</td>\n",
       "      <td>NaN</td>\n",
       "      <td>NCIthesaurus</td>\n",
       "    </tr>\n",
       "    <tr>\n",
       "      <th>11369</th>\n",
       "      <td>DOID:7455</td>\n",
       "      <td>obsolete hypogonadotropism</td>\n",
       "      <td>NaN</td>\n",
       "      <td>NaN</td>\n",
       "      <td>NaN</td>\n",
       "      <td>NaN</td>\n",
       "    </tr>\n",
       "    <tr>\n",
       "      <th>11634</th>\n",
       "      <td>DOID:7933</td>\n",
       "      <td>obsolete childhood precursor T-lymphoblastic l...</td>\n",
       "      <td>NaN</td>\n",
       "      <td>NaN</td>\n",
       "      <td>NaN</td>\n",
       "      <td>NaN</td>\n",
       "    </tr>\n",
       "    <tr>\n",
       "      <th>12000</th>\n",
       "      <td>DOID:8580</td>\n",
       "      <td>obsolete malignant histiocytosis</td>\n",
       "      <td>Stewart's granuloma</td>\n",
       "      <td>NaN</td>\n",
       "      <td>DOID:8579</td>\n",
       "      <td>NaN</td>\n",
       "    </tr>\n",
       "  </tbody>\n",
       "</table>\n",
       "<p>77 rows × 6 columns</p>\n",
       "</div>"
      ],
      "text/plain": [
       "                 id                                               name  \\\n",
       "138    DOID:0050068                              obsolete pestis minor   \n",
       "572    DOID:0050527             obsolete familial hypertriglyceridemia   \n",
       "577    DOID:0050532                           obsolete epidermal nevus   \n",
       "581    DOID:0050536                    obsolete SC phocomelia syndrome   \n",
       "599    DOID:0050556    obsolete infantile onset spinocerebellar ataxia   \n",
       "...             ...                                                ...   \n",
       "11060     DOID:6899  obsolete malignant ovarian mixed epithelial ne...   \n",
       "11164     DOID:7061  obsolete precursor B lymphoblastic lymphoma/le...   \n",
       "11369     DOID:7455                         obsolete hypogonadotropism   \n",
       "11634     DOID:7933  obsolete childhood precursor T-lymphoblastic l...   \n",
       "12000     DOID:8580                   obsolete malignant histiocytosis   \n",
       "\n",
       "                                                synonyms xrefs    alt_ids  \\\n",
       "138                                                  NaN   NaN        NaN   \n",
       "572                                                  NaN   NaN        NaN   \n",
       "577    PIGMENTED MOLES|NEVUS, KERATINOCYTIC, NONEPIDE...   NaN        NaN   \n",
       "581    SC PSEUDOTHALIDOMIDE SYNDROME|Hypomelia Hypotr...   NaN        NaN   \n",
       "599                                                  NaN   NaN        NaN   \n",
       "...                                                  ...   ...        ...   \n",
       "11060                                                NaN   NaN        NaN   \n",
       "11164                                                NaN   NaN        NaN   \n",
       "11369                                                NaN   NaN        NaN   \n",
       "11634                                                NaN   NaN        NaN   \n",
       "12000                                Stewart's granuloma   NaN  DOID:8579   \n",
       "\n",
       "            subsets  \n",
       "138             NaN  \n",
       "572             NaN  \n",
       "577             NaN  \n",
       "581             NaN  \n",
       "599             NaN  \n",
       "...             ...  \n",
       "11060           NaN  \n",
       "11164  NCIthesaurus  \n",
       "11369           NaN  \n",
       "11634           NaN  \n",
       "12000           NaN  \n",
       "\n",
       "[77 rows x 6 columns]"
      ]
     },
     "execution_count": 64,
     "metadata": {},
     "output_type": "execute_result"
    }
   ],
   "source": [
    "do_nodes.query('id in @alt_do_ids')"
   ]
  },
  {
   "cell_type": "code",
   "execution_count": 65,
   "metadata": {},
   "outputs": [
    {
     "data": {
      "text/plain": [
       "True"
      ]
     },
     "execution_count": 65,
     "metadata": {},
     "output_type": "execute_result"
    }
   ],
   "source": [
    "do_nodes.query('id in @alt_do_ids')['name'].str.startswith('obsolete').sum() == len(do_nodes.query('id in @alt_do_ids'))"
   ]
  },
  {
   "cell_type": "code",
   "execution_count": 66,
   "metadata": {},
   "outputs": [
    {
     "data": {
      "text/plain": [
       "76"
      ]
     },
     "execution_count": 66,
     "metadata": {},
     "output_type": "execute_result"
    }
   ],
   "source": [
    "len(nodes.query('label == \"Disease\" and id in @alt_do_ids'))"
   ]
  },
  {
   "cell_type": "markdown",
   "metadata": {},
   "source": [
    "Not a lot of nodes to map, but a few..."
   ]
  },
  {
   "cell_type": "code",
   "execution_count": 67,
   "metadata": {},
   "outputs": [
    {
     "data": {
      "text/html": [
       "<div>\n",
       "<style scoped>\n",
       "    .dataframe tbody tr th:only-of-type {\n",
       "        vertical-align: middle;\n",
       "    }\n",
       "\n",
       "    .dataframe tbody tr th {\n",
       "        vertical-align: top;\n",
       "    }\n",
       "\n",
       "    .dataframe thead th {\n",
       "        text-align: right;\n",
       "    }\n",
       "</style>\n",
       "<table border=\"1\" class=\"dataframe\">\n",
       "  <thead>\n",
       "    <tr style=\"text-align: right;\">\n",
       "      <th></th>\n",
       "      <th>id</th>\n",
       "      <th>id_old</th>\n",
       "    </tr>\n",
       "  </thead>\n",
       "  <tbody>\n",
       "    <tr>\n",
       "      <th>58</th>\n",
       "      <td>DOID:0050554</td>\n",
       "      <td>DOID:0060064</td>\n",
       "    </tr>\n",
       "    <tr>\n",
       "      <th>70</th>\n",
       "      <td>DOID:0050638</td>\n",
       "      <td>DOID:0050761</td>\n",
       "    </tr>\n",
       "  </tbody>\n",
       "</table>\n",
       "</div>"
      ],
      "text/plain": [
       "              id        id_old\n",
       "58  DOID:0050554  DOID:0060064\n",
       "70  DOID:0050638  DOID:0050761"
      ]
     },
     "execution_count": 67,
     "metadata": {},
     "output_type": "execute_result"
    }
   ],
   "source": [
    "dis_ids = nodes.query('label == \"Disease\"')['id'].unique()\n",
    "alt_map = do_alt_exp.query('alt_ids in @dis_ids')[['id', 'alt_ids']].rename(columns={'alt_ids': 'id_old'})\n",
    "alt_map.head(2)"
   ]
  },
  {
   "cell_type": "code",
   "execution_count": 68,
   "metadata": {},
   "outputs": [
    {
     "data": {
      "text/html": [
       "<div>\n",
       "<style scoped>\n",
       "    .dataframe tbody tr th:only-of-type {\n",
       "        vertical-align: middle;\n",
       "    }\n",
       "\n",
       "    .dataframe tbody tr th {\n",
       "        vertical-align: top;\n",
       "    }\n",
       "\n",
       "    .dataframe thead th {\n",
       "        text-align: right;\n",
       "    }\n",
       "</style>\n",
       "<table border=\"1\" class=\"dataframe\">\n",
       "  <thead>\n",
       "    <tr style=\"text-align: right;\">\n",
       "      <th></th>\n",
       "      <th>id_old</th>\n",
       "      <th>id</th>\n",
       "    </tr>\n",
       "  </thead>\n",
       "  <tbody>\n",
       "    <tr>\n",
       "      <th>0</th>\n",
       "      <td>MESH:C537288</td>\n",
       "      <td>DOID:0111607</td>\n",
       "    </tr>\n",
       "    <tr>\n",
       "      <th>2</th>\n",
       "      <td>MESH:D000074009</td>\n",
       "      <td>DOID:5439</td>\n",
       "    </tr>\n",
       "  </tbody>\n",
       "</table>\n",
       "</div>"
      ],
      "text/plain": [
       "            id_old            id\n",
       "0     MESH:C537288  DOID:0111607\n",
       "2  MESH:D000074009     DOID:5439"
      ]
     },
     "execution_count": 68,
     "metadata": {},
     "output_type": "execute_result"
    }
   ],
   "source": [
    "mrg_map.head(2)"
   ]
  },
  {
   "cell_type": "code",
   "execution_count": 69,
   "metadata": {},
   "outputs": [],
   "source": [
    "mrg_map = pd.concat([mrg_map, alt_map], sort=False, ignore_index=True)"
   ]
  },
  {
   "cell_type": "markdown",
   "metadata": {},
   "source": [
    "# Finalize the disease Nodes with the new DO information"
   ]
  },
  {
   "cell_type": "code",
   "execution_count": 70,
   "metadata": {},
   "outputs": [],
   "source": [
    "remove_id = mrg_map['id_old'].unique()\n",
    "old_dis_nodes = nodes.query('label == \"Disease\" and id not in @remove_id')"
   ]
  },
  {
   "cell_type": "code",
   "execution_count": 71,
   "metadata": {},
   "outputs": [
    {
     "data": {
      "text/plain": [
       "18484"
      ]
     },
     "execution_count": 71,
     "metadata": {},
     "output_type": "execute_result"
    }
   ],
   "source": [
    "len(dis_ids)"
   ]
  },
  {
   "cell_type": "code",
   "execution_count": 72,
   "metadata": {},
   "outputs": [
    {
     "data": {
      "text/plain": [
       "17105"
      ]
     },
     "execution_count": 72,
     "metadata": {},
     "output_type": "execute_result"
    }
   ],
   "source": [
    "update_dis = pd.concat([do_nodes.query('id in @dis_ids'), update_dis_nodes, old_dis_nodes], sort=False, ignore_index=True)\n",
    "update_dis = dfp.combine_group_cols_on_char(update_dis, ['id'], combo_cols, sort=True, prog=False)\n",
    "len(update_dis)"
   ]
  },
  {
   "cell_type": "markdown",
   "metadata": {},
   "source": [
    "## Map phenotypes to diseases"
   ]
  },
  {
   "cell_type": "code",
   "execution_count": 73,
   "metadata": {},
   "outputs": [
    {
     "data": {
      "text/html": [
       "<div>\n",
       "<style scoped>\n",
       "    .dataframe tbody tr th:only-of-type {\n",
       "        vertical-align: middle;\n",
       "    }\n",
       "\n",
       "    .dataframe tbody tr th {\n",
       "        vertical-align: top;\n",
       "    }\n",
       "\n",
       "    .dataframe thead th {\n",
       "        text-align: right;\n",
       "    }\n",
       "</style>\n",
       "<table border=\"1\" class=\"dataframe\">\n",
       "  <thead>\n",
       "    <tr style=\"text-align: right;\">\n",
       "      <th></th>\n",
       "      <th>id</th>\n",
       "      <th>name</th>\n",
       "      <th>synonyms</th>\n",
       "      <th>xrefs</th>\n",
       "      <th>alt_ids</th>\n",
       "      <th>subsets</th>\n",
       "      <th>label</th>\n",
       "      <th>source</th>\n",
       "    </tr>\n",
       "  </thead>\n",
       "  <tbody>\n",
       "    <tr>\n",
       "      <th>6819</th>\n",
       "      <td>DOID:0060466</td>\n",
       "      <td>gingival fibromatosis</td>\n",
       "      <td>hereditary gingival fibromatosis|hereditary gi...</td>\n",
       "      <td>DOID:0060466|MESH:C562884|MESH:D005351|MONDO:0...</td>\n",
       "      <td></td>\n",
       "      <td>DO_rare_slim</td>\n",
       "      <td>Disease</td>\n",
       "      <td>NaN</td>\n",
       "    </tr>\n",
       "  </tbody>\n",
       "</table>\n",
       "</div>"
      ],
      "text/plain": [
       "                id                   name  \\\n",
       "6819  DOID:0060466  gingival fibromatosis   \n",
       "\n",
       "                                               synonyms  \\\n",
       "6819  hereditary gingival fibromatosis|hereditary gi...   \n",
       "\n",
       "                                                  xrefs alt_ids       subsets  \\\n",
       "6819  DOID:0060466|MESH:C562884|MESH:D005351|MONDO:0...          DO_rare_slim   \n",
       "\n",
       "        label source  \n",
       "6819  Disease    NaN  "
      ]
     },
     "execution_count": 73,
     "metadata": {},
     "output_type": "execute_result"
    }
   ],
   "source": [
    "update_dis.query('id == \"DOID:0060466\"')"
   ]
  },
  {
   "cell_type": "code",
   "execution_count": 74,
   "metadata": {},
   "outputs": [],
   "source": [
    "pheno_dis = nodes.merge(do_to_hp, left_on=['id'], right_on=['id_hp'], how='inner')"
   ]
  },
  {
   "cell_type": "code",
   "execution_count": 75,
   "metadata": {},
   "outputs": [],
   "source": [
    "pheno_dis = pheno_dis.drop(['id', 'name', 'label'], axis=1).rename(columns={'id_hp': 'id_old', 'id_do': 'id'})"
   ]
  },
  {
   "cell_type": "code",
   "execution_count": 76,
   "metadata": {},
   "outputs": [
    {
     "data": {
      "text/html": [
       "<div>\n",
       "<style scoped>\n",
       "    .dataframe tbody tr th:only-of-type {\n",
       "        vertical-align: middle;\n",
       "    }\n",
       "\n",
       "    .dataframe tbody tr th {\n",
       "        vertical-align: top;\n",
       "    }\n",
       "\n",
       "    .dataframe thead th {\n",
       "        text-align: right;\n",
       "    }\n",
       "</style>\n",
       "<table border=\"1\" class=\"dataframe\">\n",
       "  <thead>\n",
       "    <tr style=\"text-align: right;\">\n",
       "      <th></th>\n",
       "      <th>id_old</th>\n",
       "      <th>id</th>\n",
       "    </tr>\n",
       "  </thead>\n",
       "  <tbody>\n",
       "    <tr>\n",
       "      <th>0</th>\n",
       "      <td>MESH:C537288</td>\n",
       "      <td>DOID:0111607</td>\n",
       "    </tr>\n",
       "    <tr>\n",
       "      <th>1</th>\n",
       "      <td>MESH:D000074009</td>\n",
       "      <td>DOID:5439</td>\n",
       "    </tr>\n",
       "    <tr>\n",
       "      <th>2</th>\n",
       "      <td>MESH:D000074009</td>\n",
       "      <td>DOID:5445</td>\n",
       "    </tr>\n",
       "    <tr>\n",
       "      <th>3</th>\n",
       "      <td>MESH:D018306</td>\n",
       "      <td>DOID:14174</td>\n",
       "    </tr>\n",
       "    <tr>\n",
       "      <th>4</th>\n",
       "      <td>MESH:D057129</td>\n",
       "      <td>DOID:11554</td>\n",
       "    </tr>\n",
       "    <tr>\n",
       "      <th>...</th>\n",
       "      <td>...</td>\n",
       "      <td>...</td>\n",
       "    </tr>\n",
       "    <tr>\n",
       "      <th>3139</th>\n",
       "      <td>HP:0200022</td>\n",
       "      <td>DOID:2626</td>\n",
       "    </tr>\n",
       "    <tr>\n",
       "      <th>3140</th>\n",
       "      <td>HP:0200023</td>\n",
       "      <td>DOID:9286</td>\n",
       "    </tr>\n",
       "    <tr>\n",
       "      <th>3141</th>\n",
       "      <td>HP:0200043</td>\n",
       "      <td>DOID:11165</td>\n",
       "    </tr>\n",
       "    <tr>\n",
       "      <th>3142</th>\n",
       "      <td>HP:0200123</td>\n",
       "      <td>DOID:2237</td>\n",
       "    </tr>\n",
       "    <tr>\n",
       "      <th>3143</th>\n",
       "      <td>HP:0200151</td>\n",
       "      <td>DOID:3663</td>\n",
       "    </tr>\n",
       "  </tbody>\n",
       "</table>\n",
       "<p>3144 rows × 2 columns</p>\n",
       "</div>"
      ],
      "text/plain": [
       "               id_old            id\n",
       "0        MESH:C537288  DOID:0111607\n",
       "1     MESH:D000074009     DOID:5439\n",
       "2     MESH:D000074009     DOID:5445\n",
       "3        MESH:D018306    DOID:14174\n",
       "4        MESH:D057129    DOID:11554\n",
       "...               ...           ...\n",
       "3139       HP:0200022     DOID:2626\n",
       "3140       HP:0200023     DOID:9286\n",
       "3141       HP:0200043    DOID:11165\n",
       "3142       HP:0200123     DOID:2237\n",
       "3143       HP:0200151     DOID:3663\n",
       "\n",
       "[3144 rows x 2 columns]"
      ]
     },
     "execution_count": 76,
     "metadata": {},
     "output_type": "execute_result"
    }
   ],
   "source": [
    "mrg_map = pd.concat([mrg_map, pheno_dis[['id', 'id_old']]], sort=False, ignore_index=True)\n",
    "mrg_map"
   ]
  },
  {
   "cell_type": "code",
   "execution_count": 77,
   "metadata": {},
   "outputs": [],
   "source": [
    "mrg_map.to_csv(out_dir.joinpath('disease_merge_map.csv'), index=False)"
   ]
  },
  {
   "cell_type": "code",
   "execution_count": 78,
   "metadata": {},
   "outputs": [
    {
     "data": {
      "text/plain": [
       "0"
      ]
     },
     "execution_count": 78,
     "metadata": {},
     "output_type": "execute_result"
    }
   ],
   "source": [
    "rename_xref1 = pheno_dis.dropna(subset=['xrefs_x']).drop('xrefs_y', axis=1).rename(columns={'xrefs_x': 'xrefs'})\n",
    "pheno_dis_long = pd.concat([pheno_dis.drop('xrefs_x', axis=1).rename(columns={'xrefs_y': 'xrefs'}), rename_xref1],\n",
    "                                                                sort=False, ignore_index=True)\n",
    "\n",
    "pheno_dis_ids = pheno_dis_long['id'].unique()\n",
    "\n",
    "\n",
    "update_dis = dfp.combine_group_cols_on_char(pd.concat([update_dis, do_nodes.query('id in @pheno_dis_ids'),\n",
    "                                                       pheno_dis_long.drop('id_old', axis=1)],\n",
    "                                                      sort=False, ignore_index=True), \n",
    "                                            'id', combo_cols, sort=True, prog=False)\n",
    "\n",
    "update_dis['name'].isnull().sum()"
   ]
  },
  {
   "cell_type": "code",
   "execution_count": 79,
   "metadata": {},
   "outputs": [
    {
     "data": {
      "text/html": [
       "<div>\n",
       "<style scoped>\n",
       "    .dataframe tbody tr th:only-of-type {\n",
       "        vertical-align: middle;\n",
       "    }\n",
       "\n",
       "    .dataframe tbody tr th {\n",
       "        vertical-align: top;\n",
       "    }\n",
       "\n",
       "    .dataframe thead th {\n",
       "        text-align: right;\n",
       "    }\n",
       "</style>\n",
       "<table border=\"1\" class=\"dataframe\">\n",
       "  <thead>\n",
       "    <tr style=\"text-align: right;\">\n",
       "      <th></th>\n",
       "      <th>id</th>\n",
       "      <th>name</th>\n",
       "      <th>synonyms</th>\n",
       "      <th>xrefs</th>\n",
       "      <th>alt_ids</th>\n",
       "      <th>subsets</th>\n",
       "      <th>label</th>\n",
       "      <th>source</th>\n",
       "    </tr>\n",
       "  </thead>\n",
       "  <tbody>\n",
       "    <tr>\n",
       "      <th>14241</th>\n",
       "      <td>DOID:6178</td>\n",
       "      <td>obsolete metastatic ovarian small cell carcino...</td>\n",
       "      <td></td>\n",
       "      <td>DOID:6178</td>\n",
       "      <td></td>\n",
       "      <td></td>\n",
       "      <td>Disease</td>\n",
       "      <td>NaN</td>\n",
       "    </tr>\n",
       "    <tr>\n",
       "      <th>5880</th>\n",
       "      <td>DOID:0050508</td>\n",
       "      <td>variola major</td>\n",
       "      <td></td>\n",
       "      <td>DOID:0050508|ICD9CM:050.0|MONDO:0000338|SNOMED...</td>\n",
       "      <td></td>\n",
       "      <td></td>\n",
       "      <td>Disease</td>\n",
       "      <td>NaN</td>\n",
       "    </tr>\n",
       "    <tr>\n",
       "      <th>9741</th>\n",
       "      <td>DOID:1081</td>\n",
       "      <td>mansonelliasis</td>\n",
       "      <td></td>\n",
       "      <td>DOID:1081|GARD:8216|ICD10CM:B74.4|MESH:D008368...</td>\n",
       "      <td></td>\n",
       "      <td>NCIthesaurus</td>\n",
       "      <td>Disease</td>\n",
       "      <td>NaN</td>\n",
       "    </tr>\n",
       "    <tr>\n",
       "      <th>15056</th>\n",
       "      <td>DOID:7694</td>\n",
       "      <td>bladder urachal adenocarcinoma</td>\n",
       "      <td></td>\n",
       "      <td>DOID:7694|MONDO:0004331|NCI:C39843|UMLS:C15112...</td>\n",
       "      <td></td>\n",
       "      <td>NCIthesaurus</td>\n",
       "      <td>Disease</td>\n",
       "      <td>NaN</td>\n",
       "    </tr>\n",
       "    <tr>\n",
       "      <th>5292</th>\n",
       "      <td>MONDO:0017427</td>\n",
       "      <td>congenital limb deformities</td>\n",
       "      <td>NaN</td>\n",
       "      <td>MESH:D017880|MONDO:0017427|UMLS:C0206762</td>\n",
       "      <td>NaN</td>\n",
       "      <td>NaN</td>\n",
       "      <td>Disease</td>\n",
       "      <td>NaN</td>\n",
       "    </tr>\n",
       "    <tr>\n",
       "      <th>11091</th>\n",
       "      <td>DOID:13941</td>\n",
       "      <td>benign paroxysmal positional nystagmus</td>\n",
       "      <td>benign paroxysmal positional vertigo</td>\n",
       "      <td>DOID:13941|ICD9CM:386.11|MESH:D065635|OMIM:193...</td>\n",
       "      <td></td>\n",
       "      <td></td>\n",
       "      <td>Disease</td>\n",
       "      <td>NaN</td>\n",
       "    </tr>\n",
       "    <tr>\n",
       "      <th>4113</th>\n",
       "      <td>MESH:D055191</td>\n",
       "      <td>Delayed Emergence from Anesthesia</td>\n",
       "      <td>NaN</td>\n",
       "      <td>NaN</td>\n",
       "      <td>NaN</td>\n",
       "      <td>NaN</td>\n",
       "      <td>Disease</td>\n",
       "      <td>NaN</td>\n",
       "    </tr>\n",
       "    <tr>\n",
       "      <th>13451</th>\n",
       "      <td>DOID:4979</td>\n",
       "      <td>obsolete recurrent primitive neuroectodermal t...</td>\n",
       "      <td></td>\n",
       "      <td>DOID:4979</td>\n",
       "      <td></td>\n",
       "      <td></td>\n",
       "      <td>Disease</td>\n",
       "      <td>NaN</td>\n",
       "    </tr>\n",
       "    <tr>\n",
       "      <th>7810</th>\n",
       "      <td>DOID:0080393</td>\n",
       "      <td>nephrotic syndrome type 18</td>\n",
       "      <td></td>\n",
       "      <td>DOID:0080393|OMIM:618177</td>\n",
       "      <td></td>\n",
       "      <td></td>\n",
       "      <td>Disease</td>\n",
       "      <td>NaN</td>\n",
       "    </tr>\n",
       "    <tr>\n",
       "      <th>16273</th>\n",
       "      <td>DOID:10128</td>\n",
       "      <td>venous insufficiency</td>\n",
       "      <td>peripheral venous insufficiency</td>\n",
       "      <td>DOID:10128|ICD9CM:459.81|MESH:D014689|MONDO:00...</td>\n",
       "      <td></td>\n",
       "      <td>NCIthesaurus</td>\n",
       "      <td>Disease</td>\n",
       "      <td>NaN</td>\n",
       "    </tr>\n",
       "    <tr>\n",
       "      <th>11256</th>\n",
       "      <td>DOID:14320</td>\n",
       "      <td>generalized anxiety disorder</td>\n",
       "      <td></td>\n",
       "      <td>DOID:14320|ICD10CM:F41.1|ICD9CM:300.02|MONDO:0...</td>\n",
       "      <td></td>\n",
       "      <td>NCIthesaurus</td>\n",
       "      <td>Disease</td>\n",
       "      <td>NaN</td>\n",
       "    </tr>\n",
       "    <tr>\n",
       "      <th>12625</th>\n",
       "      <td>DOID:3666</td>\n",
       "      <td>cutaneous solitary mastocytoma</td>\n",
       "      <td>Solitary Mastocytoma of skin|Solitary mastocytoma</td>\n",
       "      <td>DOID:3666|MESH:D054705|MONDO:0002726|UMLS:C034...</td>\n",
       "      <td></td>\n",
       "      <td></td>\n",
       "      <td>Disease</td>\n",
       "      <td>NaN</td>\n",
       "    </tr>\n",
       "    <tr>\n",
       "      <th>16951</th>\n",
       "      <td>DOID:6543</td>\n",
       "      <td>acne</td>\n",
       "      <td>Acne varioliformis|acne vulgaris|frontalis acne</td>\n",
       "      <td>DOID:6543|ICD10CM:L70|ICD10CM:L70.2|ICD9CM:706...</td>\n",
       "      <td>DOID:9906</td>\n",
       "      <td></td>\n",
       "      <td>Disease</td>\n",
       "      <td>NaN</td>\n",
       "    </tr>\n",
       "    <tr>\n",
       "      <th>2785</th>\n",
       "      <td>MESH:C535468</td>\n",
       "      <td>Copper deficiency</td>\n",
       "      <td>NaN</td>\n",
       "      <td>MESH:C535468</td>\n",
       "      <td>NaN</td>\n",
       "      <td>NaN</td>\n",
       "      <td>Disease</td>\n",
       "      <td>NaN</td>\n",
       "    </tr>\n",
       "    <tr>\n",
       "      <th>8829</th>\n",
       "      <td>DOID:0110719</td>\n",
       "      <td>Warburg micro syndrome 4</td>\n",
       "      <td>Micro Syndrome 4|WARBM4</td>\n",
       "      <td>DOID:0110719|ICD10CM:Q87.0|MONDO:0014296|OMIM:...</td>\n",
       "      <td></td>\n",
       "      <td></td>\n",
       "      <td>Disease</td>\n",
       "      <td>NaN</td>\n",
       "    </tr>\n",
       "    <tr>\n",
       "      <th>3362</th>\n",
       "      <td>MESH:C564676</td>\n",
       "      <td>Dyskinesia, Familial, with Facial Myokymia</td>\n",
       "      <td>NaN</td>\n",
       "      <td>NaN</td>\n",
       "      <td>NaN</td>\n",
       "      <td>NaN</td>\n",
       "      <td>Disease</td>\n",
       "      <td>NaN</td>\n",
       "    </tr>\n",
       "    <tr>\n",
       "      <th>13485</th>\n",
       "      <td>DOID:5042</td>\n",
       "      <td>malignant granular cell myoblastoma</td>\n",
       "      <td>granular cell tumor, malignant|malignant granu...</td>\n",
       "      <td>DOID:5042|MONDO:0003252|NCI:C4336|SNOMEDCT_US_...</td>\n",
       "      <td></td>\n",
       "      <td>NCIthesaurus</td>\n",
       "      <td>Disease</td>\n",
       "      <td>NaN</td>\n",
       "    </tr>\n",
       "    <tr>\n",
       "      <th>12021</th>\n",
       "      <td>DOID:2670</td>\n",
       "      <td>transitional papilloma</td>\n",
       "      <td>transitional cell papilloma|transitional cell ...</td>\n",
       "      <td>DOID:2670|MONDO:0005605|NCI:C4115|SNOMEDCT_US_...</td>\n",
       "      <td></td>\n",
       "      <td>NCIthesaurus</td>\n",
       "      <td>Disease</td>\n",
       "      <td>NaN</td>\n",
       "    </tr>\n",
       "    <tr>\n",
       "      <th>710</th>\n",
       "      <td>MONDO:0000156</td>\n",
       "      <td>Trigonocephaly</td>\n",
       "      <td>NaN</td>\n",
       "      <td>MONDO:0000156|MONDO:0013774|OMIM:190440|OMIM:6...</td>\n",
       "      <td>NaN</td>\n",
       "      <td>NaN</td>\n",
       "      <td>Disease</td>\n",
       "      <td>NaN</td>\n",
       "    </tr>\n",
       "    <tr>\n",
       "      <th>11427</th>\n",
       "      <td>DOID:1509</td>\n",
       "      <td>avoidant personality disorder</td>\n",
       "      <td>anxious personality disorder</td>\n",
       "      <td>DOID:1509|ICD10CM:F60.6|ICD9CM:301.82|MESH:D01...</td>\n",
       "      <td></td>\n",
       "      <td>NCIthesaurus</td>\n",
       "      <td>Disease</td>\n",
       "      <td>NaN</td>\n",
       "    </tr>\n",
       "  </tbody>\n",
       "</table>\n",
       "</div>"
      ],
      "text/plain": [
       "                  id                                               name  \\\n",
       "14241      DOID:6178  obsolete metastatic ovarian small cell carcino...   \n",
       "5880    DOID:0050508                                      variola major   \n",
       "9741       DOID:1081                                     mansonelliasis   \n",
       "15056      DOID:7694                     bladder urachal adenocarcinoma   \n",
       "5292   MONDO:0017427                        congenital limb deformities   \n",
       "11091     DOID:13941             benign paroxysmal positional nystagmus   \n",
       "4113    MESH:D055191                  Delayed Emergence from Anesthesia   \n",
       "13451      DOID:4979  obsolete recurrent primitive neuroectodermal t...   \n",
       "7810    DOID:0080393                         nephrotic syndrome type 18   \n",
       "16273     DOID:10128                               venous insufficiency   \n",
       "11256     DOID:14320                       generalized anxiety disorder   \n",
       "12625      DOID:3666                     cutaneous solitary mastocytoma   \n",
       "16951      DOID:6543                                               acne   \n",
       "2785    MESH:C535468                                  Copper deficiency   \n",
       "8829    DOID:0110719                           Warburg micro syndrome 4   \n",
       "3362    MESH:C564676         Dyskinesia, Familial, with Facial Myokymia   \n",
       "13485      DOID:5042                malignant granular cell myoblastoma   \n",
       "12021      DOID:2670                             transitional papilloma   \n",
       "710    MONDO:0000156                                     Trigonocephaly   \n",
       "11427      DOID:1509                      avoidant personality disorder   \n",
       "\n",
       "                                                synonyms  \\\n",
       "14241                                                      \n",
       "5880                                                       \n",
       "9741                                                       \n",
       "15056                                                      \n",
       "5292                                                 NaN   \n",
       "11091               benign paroxysmal positional vertigo   \n",
       "4113                                                 NaN   \n",
       "13451                                                      \n",
       "7810                                                       \n",
       "16273                    peripheral venous insufficiency   \n",
       "11256                                                      \n",
       "12625  Solitary Mastocytoma of skin|Solitary mastocytoma   \n",
       "16951    Acne varioliformis|acne vulgaris|frontalis acne   \n",
       "2785                                                 NaN   \n",
       "8829                             Micro Syndrome 4|WARBM4   \n",
       "3362                                                 NaN   \n",
       "13485  granular cell tumor, malignant|malignant granu...   \n",
       "12021  transitional cell papilloma|transitional cell ...   \n",
       "710                                                  NaN   \n",
       "11427                       anxious personality disorder   \n",
       "\n",
       "                                                   xrefs    alt_ids  \\\n",
       "14241                                          DOID:6178              \n",
       "5880   DOID:0050508|ICD9CM:050.0|MONDO:0000338|SNOMED...              \n",
       "9741   DOID:1081|GARD:8216|ICD10CM:B74.4|MESH:D008368...              \n",
       "15056  DOID:7694|MONDO:0004331|NCI:C39843|UMLS:C15112...              \n",
       "5292            MESH:D017880|MONDO:0017427|UMLS:C0206762        NaN   \n",
       "11091  DOID:13941|ICD9CM:386.11|MESH:D065635|OMIM:193...              \n",
       "4113                                                 NaN        NaN   \n",
       "13451                                          DOID:4979              \n",
       "7810                            DOID:0080393|OMIM:618177              \n",
       "16273  DOID:10128|ICD9CM:459.81|MESH:D014689|MONDO:00...              \n",
       "11256  DOID:14320|ICD10CM:F41.1|ICD9CM:300.02|MONDO:0...              \n",
       "12625  DOID:3666|MESH:D054705|MONDO:0002726|UMLS:C034...              \n",
       "16951  DOID:6543|ICD10CM:L70|ICD10CM:L70.2|ICD9CM:706...  DOID:9906   \n",
       "2785                                        MESH:C535468        NaN   \n",
       "8829   DOID:0110719|ICD10CM:Q87.0|MONDO:0014296|OMIM:...              \n",
       "3362                                                 NaN        NaN   \n",
       "13485  DOID:5042|MONDO:0003252|NCI:C4336|SNOMEDCT_US_...              \n",
       "12021  DOID:2670|MONDO:0005605|NCI:C4115|SNOMEDCT_US_...              \n",
       "710    MONDO:0000156|MONDO:0013774|OMIM:190440|OMIM:6...        NaN   \n",
       "11427  DOID:1509|ICD10CM:F60.6|ICD9CM:301.82|MESH:D01...              \n",
       "\n",
       "            subsets    label source  \n",
       "14241                Disease    NaN  \n",
       "5880                 Disease    NaN  \n",
       "9741   NCIthesaurus  Disease    NaN  \n",
       "15056  NCIthesaurus  Disease    NaN  \n",
       "5292            NaN  Disease    NaN  \n",
       "11091                Disease    NaN  \n",
       "4113            NaN  Disease    NaN  \n",
       "13451                Disease    NaN  \n",
       "7810                 Disease    NaN  \n",
       "16273  NCIthesaurus  Disease    NaN  \n",
       "11256  NCIthesaurus  Disease    NaN  \n",
       "12625                Disease    NaN  \n",
       "16951                Disease    NaN  \n",
       "2785            NaN  Disease    NaN  \n",
       "8829                 Disease    NaN  \n",
       "3362            NaN  Disease    NaN  \n",
       "13485  NCIthesaurus  Disease    NaN  \n",
       "12021  NCIthesaurus  Disease    NaN  \n",
       "710             NaN  Disease    NaN  \n",
       "11427  NCIthesaurus  Disease    NaN  "
      ]
     },
     "execution_count": 79,
     "metadata": {},
     "output_type": "execute_result"
    }
   ],
   "source": [
    "update_dis['label'] = 'Disease'\n",
    "update_dis.sample(20)"
   ]
  },
  {
   "cell_type": "code",
   "execution_count": 80,
   "metadata": {},
   "outputs": [],
   "source": [
    "phenos_converted = pheno_dis['id_old'].unique()\n",
    "update_pheno = nodes.query('label == \"Phenotype\" and id not in @phenos_converted')"
   ]
  },
  {
   "cell_type": "code",
   "execution_count": 81,
   "metadata": {},
   "outputs": [],
   "source": [
    "dis_ids = update_dis['id'].unique()"
   ]
  },
  {
   "cell_type": "code",
   "execution_count": 82,
   "metadata": {},
   "outputs": [
    {
     "data": {
      "text/html": [
       "<div>\n",
       "<style scoped>\n",
       "    .dataframe tbody tr th:only-of-type {\n",
       "        vertical-align: middle;\n",
       "    }\n",
       "\n",
       "    .dataframe tbody tr th {\n",
       "        vertical-align: top;\n",
       "    }\n",
       "\n",
       "    .dataframe thead th {\n",
       "        text-align: right;\n",
       "    }\n",
       "</style>\n",
       "<table border=\"1\" class=\"dataframe\">\n",
       "  <thead>\n",
       "    <tr style=\"text-align: right;\">\n",
       "      <th></th>\n",
       "      <th>id</th>\n",
       "      <th>name</th>\n",
       "      <th>label</th>\n",
       "      <th>xrefs</th>\n",
       "      <th>source</th>\n",
       "    </tr>\n",
       "  </thead>\n",
       "  <tbody>\n",
       "  </tbody>\n",
       "</table>\n",
       "</div>"
      ],
      "text/plain": [
       "Empty DataFrame\n",
       "Columns: [id, name, label, xrefs, source]\n",
       "Index: []"
      ]
     },
     "execution_count": 82,
     "metadata": {},
     "output_type": "execute_result"
    }
   ],
   "source": [
    "update_pheno.query('id in @dis_ids')"
   ]
  },
  {
   "cell_type": "code",
   "execution_count": 83,
   "metadata": {},
   "outputs": [
    {
     "data": {
      "text/plain": [
       "17115"
      ]
     },
     "execution_count": 83,
     "metadata": {},
     "output_type": "execute_result"
    }
   ],
   "source": [
    "len(update_dis)"
   ]
  },
  {
   "cell_type": "code",
   "execution_count": 84,
   "metadata": {},
   "outputs": [],
   "source": [
    "nodes_out = nodes.query('label != \"Disease\" and label != \"Phenotype\"')"
   ]
  },
  {
   "cell_type": "code",
   "execution_count": 85,
   "metadata": {},
   "outputs": [
    {
     "data": {
      "text/html": [
       "<div>\n",
       "<style scoped>\n",
       "    .dataframe tbody tr th:only-of-type {\n",
       "        vertical-align: middle;\n",
       "    }\n",
       "\n",
       "    .dataframe tbody tr th {\n",
       "        vertical-align: top;\n",
       "    }\n",
       "\n",
       "    .dataframe thead th {\n",
       "        text-align: right;\n",
       "    }\n",
       "</style>\n",
       "<table border=\"1\" class=\"dataframe\">\n",
       "  <thead>\n",
       "    <tr style=\"text-align: right;\">\n",
       "      <th></th>\n",
       "      <th>id</th>\n",
       "      <th>name</th>\n",
       "      <th>label</th>\n",
       "      <th>xrefs</th>\n",
       "      <th>source</th>\n",
       "      <th>synonyms</th>\n",
       "      <th>alt_ids</th>\n",
       "      <th>subsets</th>\n",
       "    </tr>\n",
       "  </thead>\n",
       "  <tbody>\n",
       "    <tr>\n",
       "      <th>0</th>\n",
       "      <td>UBERON:0000002</td>\n",
       "      <td>cervix</td>\n",
       "      <td>Anatomy</td>\n",
       "      <td>MESH:D002584|UBERON:0000002</td>\n",
       "      <td>NaN</td>\n",
       "      <td>NaN</td>\n",
       "      <td>NaN</td>\n",
       "      <td>NaN</td>\n",
       "    </tr>\n",
       "    <tr>\n",
       "      <th>1</th>\n",
       "      <td>UBERON:0000004</td>\n",
       "      <td>human nose</td>\n",
       "      <td>Anatomy</td>\n",
       "      <td>MESH:D009666|UBERON:0000004</td>\n",
       "      <td>NaN</td>\n",
       "      <td>NaN</td>\n",
       "      <td>NaN</td>\n",
       "      <td>NaN</td>\n",
       "    </tr>\n",
       "    <tr>\n",
       "      <th>2</th>\n",
       "      <td>UBERON:0000005</td>\n",
       "      <td>chemosensory organ</td>\n",
       "      <td>Anatomy</td>\n",
       "      <td>NaN</td>\n",
       "      <td>NaN</td>\n",
       "      <td>NaN</td>\n",
       "      <td>NaN</td>\n",
       "      <td>NaN</td>\n",
       "    </tr>\n",
       "    <tr>\n",
       "      <th>3</th>\n",
       "      <td>UBERON:0000006</td>\n",
       "      <td>islet of Langerhans</td>\n",
       "      <td>Anatomy</td>\n",
       "      <td>MESH:D007515|UBERON:0000006</td>\n",
       "      <td>NaN</td>\n",
       "      <td>NaN</td>\n",
       "      <td>NaN</td>\n",
       "      <td>NaN</td>\n",
       "    </tr>\n",
       "    <tr>\n",
       "      <th>4</th>\n",
       "      <td>UBERON:0000007</td>\n",
       "      <td>pituitary gland</td>\n",
       "      <td>Anatomy</td>\n",
       "      <td>MESH:D010902|UBERON:0000007</td>\n",
       "      <td>NaN</td>\n",
       "      <td>NaN</td>\n",
       "      <td>NaN</td>\n",
       "      <td>NaN</td>\n",
       "    </tr>\n",
       "    <tr>\n",
       "      <th>...</th>\n",
       "      <td>...</td>\n",
       "      <td>...</td>\n",
       "      <td>...</td>\n",
       "      <td>...</td>\n",
       "      <td>...</td>\n",
       "      <td>...</td>\n",
       "      <td>...</td>\n",
       "      <td>...</td>\n",
       "    </tr>\n",
       "    <tr>\n",
       "      <th>496491</th>\n",
       "      <td>WD:Q9094469</td>\n",
       "      <td>ssDNA virus</td>\n",
       "      <td>Taxon</td>\n",
       "      <td>NaN</td>\n",
       "      <td>NaN</td>\n",
       "      <td>NaN</td>\n",
       "      <td>NaN</td>\n",
       "      <td>NaN</td>\n",
       "    </tr>\n",
       "    <tr>\n",
       "      <th>496492</th>\n",
       "      <td>WD:Q9094478</td>\n",
       "      <td>positive-sense single-stranded RNA virus</td>\n",
       "      <td>Taxon</td>\n",
       "      <td>NaN</td>\n",
       "      <td>NaN</td>\n",
       "      <td>NaN</td>\n",
       "      <td>NaN</td>\n",
       "      <td>NaN</td>\n",
       "    </tr>\n",
       "    <tr>\n",
       "      <th>496493</th>\n",
       "      <td>WD:Q9285327</td>\n",
       "      <td>negative-sense single strand RNA virus</td>\n",
       "      <td>Taxon</td>\n",
       "      <td>NaN</td>\n",
       "      <td>NaN</td>\n",
       "      <td>NaN</td>\n",
       "      <td>NaN</td>\n",
       "      <td>NaN</td>\n",
       "    </tr>\n",
       "    <tr>\n",
       "      <th>496494</th>\n",
       "      <td>WD:Q934657</td>\n",
       "      <td>Warble fly</td>\n",
       "      <td>Taxon</td>\n",
       "      <td>NaN</td>\n",
       "      <td>NaN</td>\n",
       "      <td>NaN</td>\n",
       "      <td>NaN</td>\n",
       "      <td>NaN</td>\n",
       "    </tr>\n",
       "    <tr>\n",
       "      <th>496495</th>\n",
       "      <td>WD:Q983850</td>\n",
       "      <td>Kaposi's sarcoma-associated herpesvirus</td>\n",
       "      <td>Taxon</td>\n",
       "      <td>NaN</td>\n",
       "      <td>NaN</td>\n",
       "      <td>NaN</td>\n",
       "      <td>NaN</td>\n",
       "      <td>NaN</td>\n",
       "    </tr>\n",
       "  </tbody>\n",
       "</table>\n",
       "<p>792985 rows × 8 columns</p>\n",
       "</div>"
      ],
      "text/plain": [
       "                    id                                      name    label  \\\n",
       "0       UBERON:0000002                                    cervix  Anatomy   \n",
       "1       UBERON:0000004                                human nose  Anatomy   \n",
       "2       UBERON:0000005                        chemosensory organ  Anatomy   \n",
       "3       UBERON:0000006                       islet of Langerhans  Anatomy   \n",
       "4       UBERON:0000007                           pituitary gland  Anatomy   \n",
       "...                ...                                       ...      ...   \n",
       "496491     WD:Q9094469                               ssDNA virus    Taxon   \n",
       "496492     WD:Q9094478  positive-sense single-stranded RNA virus    Taxon   \n",
       "496493     WD:Q9285327    negative-sense single strand RNA virus    Taxon   \n",
       "496494      WD:Q934657                                Warble fly    Taxon   \n",
       "496495      WD:Q983850   Kaposi's sarcoma-associated herpesvirus    Taxon   \n",
       "\n",
       "                              xrefs source synonyms alt_ids subsets  \n",
       "0       MESH:D002584|UBERON:0000002    NaN      NaN     NaN     NaN  \n",
       "1       MESH:D009666|UBERON:0000004    NaN      NaN     NaN     NaN  \n",
       "2                               NaN    NaN      NaN     NaN     NaN  \n",
       "3       MESH:D007515|UBERON:0000006    NaN      NaN     NaN     NaN  \n",
       "4       MESH:D010902|UBERON:0000007    NaN      NaN     NaN     NaN  \n",
       "...                             ...    ...      ...     ...     ...  \n",
       "496491                          NaN    NaN      NaN     NaN     NaN  \n",
       "496492                          NaN    NaN      NaN     NaN     NaN  \n",
       "496493                          NaN    NaN      NaN     NaN     NaN  \n",
       "496494                          NaN    NaN      NaN     NaN     NaN  \n",
       "496495                          NaN    NaN      NaN     NaN     NaN  \n",
       "\n",
       "[792985 rows x 8 columns]"
      ]
     },
     "execution_count": 85,
     "metadata": {},
     "output_type": "execute_result"
    }
   ],
   "source": [
    "nodes_out = pd.concat([nodes_out, update_dis, update_pheno], sort=False, ignore_index=True).sort_values(['label', 'id'])\n",
    "nodes_out"
   ]
  },
  {
   "cell_type": "code",
   "execution_count": 86,
   "metadata": {},
   "outputs": [],
   "source": [
    "old_ids = mrg_map['id_old'].unique()\n",
    "new_ids = mrg_map['id'].unique()\n",
    "update_dis_ids = update_dis['id'].unique()\n",
    "update_pheno_ids = update_dis['id'].unique()\n",
    "\n",
    "missing = set(new_ids) - (set(update_dis_ids) | set(update_pheno_ids))"
   ]
  },
  {
   "cell_type": "code",
   "execution_count": 87,
   "metadata": {},
   "outputs": [
    {
     "data": {
      "text/plain": [
       "{'DOID:0080630'}"
      ]
     },
     "execution_count": 87,
     "metadata": {},
     "output_type": "execute_result"
    }
   ],
   "source": [
    "missing"
   ]
  },
  {
   "cell_type": "code",
   "execution_count": 88,
   "metadata": {},
   "outputs": [],
   "source": [
    "fix_missing = do_nodes.query('id in @missing').copy()\n",
    "fix_missing['label'] = 'Disease'"
   ]
  },
  {
   "cell_type": "code",
   "execution_count": 89,
   "metadata": {},
   "outputs": [],
   "source": [
    "nodes_out = pd.concat([nodes_out, fix_missing], sort=False).sort_values(['label', 'id']).reset_index(drop=True)"
   ]
  },
  {
   "cell_type": "code",
   "execution_count": 90,
   "metadata": {},
   "outputs": [],
   "source": [
    "edges_out = gt.re_id_edges(edges, mrg_map, 'id_old', 'id')"
   ]
  },
  {
   "cell_type": "code",
   "execution_count": 91,
   "metadata": {},
   "outputs": [],
   "source": [
    "drop_idx = edges_out.query('start_id == end_id').index\n",
    "edges_out = edges_out.drop(drop_idx)"
   ]
  },
  {
   "cell_type": "code",
   "execution_count": 92,
   "metadata": {},
   "outputs": [
    {
     "data": {
      "text/plain": [
       "0"
      ]
     },
     "execution_count": 92,
     "metadata": {},
     "output_type": "execute_result"
    }
   ],
   "source": [
    "node_ids = nodes_out['id'].unique()\n",
    "edge_ids = edges_out[['start_id', 'end_id']].stack().unique()\n",
    "\n",
    "len(set(edge_ids) - set(node_ids))"
   ]
  },
  {
   "cell_type": "code",
   "execution_count": 93,
   "metadata": {},
   "outputs": [
    {
     "data": {
      "application/vnd.jupyter.widget-view+json": {
       "model_id": "5546c865c37d4c43b3a79f3286975973",
       "version_major": 2,
       "version_minor": 0
      },
      "text/plain": [
       "HBox(children=(FloatProgress(value=0.0, description='total_progress', max=7.0, style=ProgressStyle(description…"
      ]
     },
     "metadata": {},
     "output_type": "display_data"
    },
    {
     "data": {
      "application/vnd.jupyter.widget-view+json": {
       "model_id": "339d08554ae14b06a06ab2d05e0ad119",
       "version_major": 2,
       "version_minor": 0
      },
      "text/plain": [
       "HBox(children=(FloatProgress(value=0.0, description='dsrc_type', max=665266.0, style=ProgressStyle(description…"
      ]
     },
     "metadata": {},
     "output_type": "display_data"
    },
    {
     "name": "stdout",
     "output_type": "stream",
     "text": [
      "\n"
     ]
    },
    {
     "data": {
      "application/vnd.jupyter.widget-view+json": {
       "model_id": "54815b418711493d95a45d9c02945661",
       "version_major": 2,
       "version_minor": 0
      },
      "text/plain": [
       "HBox(children=(FloatProgress(value=0.0, description='comp_type', max=665266.0, style=ProgressStyle(description…"
      ]
     },
     "metadata": {},
     "output_type": "display_data"
    },
    {
     "name": "stdout",
     "output_type": "stream",
     "text": [
      "\n"
     ]
    },
    {
     "data": {
      "application/vnd.jupyter.widget-view+json": {
       "model_id": "cc45533cab2f449eba3147f76833de56",
       "version_major": 2,
       "version_minor": 0
      },
      "text/plain": [
       "HBox(children=(FloatProgress(value=0.0, description='p_val', max=665266.0, style=ProgressStyle(description_wid…"
      ]
     },
     "metadata": {},
     "output_type": "display_data"
    },
    {
     "name": "stdout",
     "output_type": "stream",
     "text": [
      "\n"
     ]
    },
    {
     "data": {
      "application/vnd.jupyter.widget-view+json": {
       "model_id": "c92c5d43a80b4a5b817cab6c5ced6979",
       "version_major": 2,
       "version_minor": 0
      },
      "text/plain": [
       "HBox(children=(FloatProgress(value=0.0, description='adj_p', max=665266.0, style=ProgressStyle(description_wid…"
      ]
     },
     "metadata": {},
     "output_type": "display_data"
    },
    {
     "name": "stdout",
     "output_type": "stream",
     "text": [
      "\n"
     ]
    },
    {
     "data": {
      "application/vnd.jupyter.widget-view+json": {
       "model_id": "dd09e01c8a984b97bbd374a4868348fe",
       "version_major": 2,
       "version_minor": 0
      },
      "text/plain": [
       "HBox(children=(FloatProgress(value=0.0, description='source', max=665266.0, style=ProgressStyle(description_wi…"
      ]
     },
     "metadata": {},
     "output_type": "display_data"
    },
    {
     "name": "stdout",
     "output_type": "stream",
     "text": [
      "\n"
     ]
    },
    {
     "data": {
      "application/vnd.jupyter.widget-view+json": {
       "model_id": "1906c9e5cbb04b249e63b0d5b765623d",
       "version_major": 2,
       "version_minor": 0
      },
      "text/plain": [
       "HBox(children=(FloatProgress(value=0.0, description='license', max=665266.0, style=ProgressStyle(description_w…"
      ]
     },
     "metadata": {},
     "output_type": "display_data"
    },
    {
     "name": "stdout",
     "output_type": "stream",
     "text": [
      "\n"
     ]
    },
    {
     "data": {
      "application/vnd.jupyter.widget-view+json": {
       "model_id": "85098f462ecf49cb965d97d581604b59",
       "version_major": 2,
       "version_minor": 0
      },
      "text/plain": [
       "HBox(children=(FloatProgress(value=0.0, description='pmids', max=665266.0, style=ProgressStyle(description_wid…"
      ]
     },
     "metadata": {},
     "output_type": "display_data"
    },
    {
     "name": "stdout",
     "output_type": "stream",
     "text": [
      "\n",
      "\n"
     ]
    }
   ],
   "source": [
    "edges_out = dfp.combine_group_cols_on_char(edges_out, ['start_id', 'end_id', 'type'], sort=True)"
   ]
  },
  {
   "cell_type": "code",
   "execution_count": 94,
   "metadata": {},
   "outputs": [
    {
     "data": {
      "text/plain": [
       "795304"
      ]
     },
     "execution_count": 94,
     "metadata": {},
     "output_type": "execute_result"
    }
   ],
   "source": [
    "len(nodes)"
   ]
  },
  {
   "cell_type": "code",
   "execution_count": 95,
   "metadata": {},
   "outputs": [
    {
     "data": {
      "text/plain": [
       "2318"
      ]
     },
     "execution_count": 95,
     "metadata": {},
     "output_type": "execute_result"
    }
   ],
   "source": [
    "len(nodes) - len(nodes_out)"
   ]
  },
  {
   "cell_type": "code",
   "execution_count": 96,
   "metadata": {},
   "outputs": [
    {
     "data": {
      "text/plain": [
       "10040441"
      ]
     },
     "execution_count": 96,
     "metadata": {},
     "output_type": "execute_result"
    }
   ],
   "source": [
    "len(edges)"
   ]
  },
  {
   "cell_type": "code",
   "execution_count": 97,
   "metadata": {},
   "outputs": [
    {
     "data": {
      "text/plain": [
       "619795"
      ]
     },
     "execution_count": 97,
     "metadata": {},
     "output_type": "execute_result"
    }
   ],
   "source": [
    "len(edges) - len(edges_out)"
   ]
  },
  {
   "cell_type": "code",
   "execution_count": 98,
   "metadata": {},
   "outputs": [],
   "source": [
    "import seaborn as sns"
   ]
  },
  {
   "cell_type": "code",
   "execution_count": 99,
   "metadata": {},
   "outputs": [
    {
     "data": {
      "text/plain": [
       "DOID     12005\n",
       "MESH      2097\n",
       "MONDO     1587\n",
       "OMIM      1566\n",
       "WD         922\n",
       "UMLS       307\n",
       "Name: id, dtype: int64"
      ]
     },
     "execution_count": 99,
     "metadata": {},
     "output_type": "execute_result"
    }
   ],
   "source": [
    "vc1 = nodes.query('label == \"Disease\"')['id'].apply(lambda s: s.split(':')[0]).value_counts()\n",
    "vc1"
   ]
  },
  {
   "cell_type": "code",
   "execution_count": 100,
   "metadata": {},
   "outputs": [
    {
     "data": {
      "text/plain": [
       "DOID     12474\n",
       "MESH      1880\n",
       "MONDO     1065\n",
       "WD         922\n",
       "OMIM       495\n",
       "UMLS       280\n",
       "Name: id, dtype: int64"
      ]
     },
     "execution_count": 100,
     "metadata": {},
     "output_type": "execute_result"
    }
   ],
   "source": [
    "vc2 = nodes_out.query('label == \"Disease\"')['id'].apply(lambda s: s.split(':')[0]).value_counts()\n",
    "vc2"
   ]
  },
  {
   "cell_type": "code",
   "execution_count": 101,
   "metadata": {},
   "outputs": [
    {
     "data": {
      "text/plain": [
       "<matplotlib.axes._subplots.AxesSubplot at 0x7f0ede6285c0>"
      ]
     },
     "execution_count": 101,
     "metadata": {},
     "output_type": "execute_result"
    },
    {
     "data": {
      "image/png": "[encoded data removed]",
      "text/plain": [
       "<Figure size 432x288 with 1 Axes>"
      ]
     },
     "metadata": {
      "needs_background": "light"
     },
     "output_type": "display_data"
    }
   ],
   "source": [
    "dat = pd.concat([vc1.rename('pre_mrg'), vc2.rename('post_mrg')], axis=1, sort=False).reset_index().rename(columns={'index': 'curi'})\n",
    "\n",
    "dat_mlt = dat.melt(id_vars = ['curi'], value_vars=['pre_mrg', 'post_mrg'])\n",
    "\n",
    "sns.barplot(data=dat_mlt, x='curi', y='value', hue='variable')"
   ]
  },
  {
   "cell_type": "code",
   "execution_count": 102,
   "metadata": {},
   "outputs": [],
   "source": [
    "nodes_out['name'] = nodes_out['name'].fillna(nodes_out['id'].map(old_id_to_name))"
   ]
  },
  {
   "cell_type": "code",
   "execution_count": 103,
   "metadata": {},
   "outputs": [],
   "source": [
    "nodes_out.to_csv(out_dir.joinpath('nodes.csv'), index=False)\n",
    "edges_out.to_csv(out_dir.joinpath('edges.csv'), index=False)"
   ]
  },
  {
   "cell_type": "code",
   "execution_count": 104,
   "metadata": {},
   "outputs": [
    {
     "data": {
      "text/html": [
       "<div>\n",
       "<style scoped>\n",
       "    .dataframe tbody tr th:only-of-type {\n",
       "        vertical-align: middle;\n",
       "    }\n",
       "\n",
       "    .dataframe tbody tr th {\n",
       "        vertical-align: top;\n",
       "    }\n",
       "\n",
       "    .dataframe thead th {\n",
       "        text-align: right;\n",
       "    }\n",
       "</style>\n",
       "<table border=\"1\" class=\"dataframe\">\n",
       "  <thead>\n",
       "    <tr style=\"text-align: right;\">\n",
       "      <th></th>\n",
       "      <th>id</th>\n",
       "      <th>name</th>\n",
       "      <th>label</th>\n",
       "      <th>xrefs</th>\n",
       "      <th>source</th>\n",
       "    </tr>\n",
       "  </thead>\n",
       "  <tbody>\n",
       "    <tr>\n",
       "      <th>300191</th>\n",
       "      <td>HP:0000006</td>\n",
       "      <td>Autosomal dominant inheritance</td>\n",
       "      <td>Phenotype</td>\n",
       "      <td>HP:0000006</td>\n",
       "      <td>NaN</td>\n",
       "    </tr>\n",
       "    <tr>\n",
       "      <th>300193</th>\n",
       "      <td>HP:0000026</td>\n",
       "      <td>Male hypogonadism</td>\n",
       "      <td>Phenotype</td>\n",
       "      <td>MESH:D005058</td>\n",
       "      <td>NaN</td>\n",
       "    </tr>\n",
       "    <tr>\n",
       "      <th>300195</th>\n",
       "      <td>HP:0000068</td>\n",
       "      <td>Urethral atresia</td>\n",
       "      <td>Phenotype</td>\n",
       "      <td>HP:0000068</td>\n",
       "      <td>NaN</td>\n",
       "    </tr>\n",
       "    <tr>\n",
       "      <th>300197</th>\n",
       "      <td>HP:0000085</td>\n",
       "      <td>Horseshoe kidney</td>\n",
       "      <td>Phenotype</td>\n",
       "      <td>HP:0000085|MESH:D000069337</td>\n",
       "      <td>NaN</td>\n",
       "    </tr>\n",
       "    <tr>\n",
       "      <th>300198</th>\n",
       "      <td>HP:0000089</td>\n",
       "      <td>Renal hypoplasia</td>\n",
       "      <td>Phenotype</td>\n",
       "      <td>NaN</td>\n",
       "      <td>NaN</td>\n",
       "    </tr>\n",
       "    <tr>\n",
       "      <th>...</th>\n",
       "      <td>...</td>\n",
       "      <td>...</td>\n",
       "      <td>...</td>\n",
       "      <td>...</td>\n",
       "      <td>...</td>\n",
       "    </tr>\n",
       "    <tr>\n",
       "      <th>794385</th>\n",
       "      <td>MESH:D052439</td>\n",
       "      <td>lipid metabolism disorder</td>\n",
       "      <td>Phenotype</td>\n",
       "      <td>MESH:D052439</td>\n",
       "      <td>NaN</td>\n",
       "    </tr>\n",
       "    <tr>\n",
       "      <th>794404</th>\n",
       "      <td>MESH:D055623</td>\n",
       "      <td>actinic keratosis</td>\n",
       "      <td>Phenotype</td>\n",
       "      <td>MESH:D055623</td>\n",
       "      <td>NaN</td>\n",
       "    </tr>\n",
       "    <tr>\n",
       "      <th>794420</th>\n",
       "      <td>MESH:D057774</td>\n",
       "      <td>post-exercise hypotension</td>\n",
       "      <td>Phenotype</td>\n",
       "      <td>MESH:D057774</td>\n",
       "      <td>NaN</td>\n",
       "    </tr>\n",
       "    <tr>\n",
       "      <th>794437</th>\n",
       "      <td>MESH:D065306</td>\n",
       "      <td>corneal damage</td>\n",
       "      <td>Phenotype</td>\n",
       "      <td>MESH:D065306</td>\n",
       "      <td>NaN</td>\n",
       "    </tr>\n",
       "    <tr>\n",
       "      <th>794941</th>\n",
       "      <td>OMIM:615432</td>\n",
       "      <td>specific language impairment-5</td>\n",
       "      <td>Phenotype</td>\n",
       "      <td>OMIM:615432</td>\n",
       "      <td>NaN</td>\n",
       "    </tr>\n",
       "  </tbody>\n",
       "</table>\n",
       "<p>6007 rows × 5 columns</p>\n",
       "</div>"
      ],
      "text/plain": [
       "                  id                            name      label  \\\n",
       "300191    HP:0000006  Autosomal dominant inheritance  Phenotype   \n",
       "300193    HP:0000026               Male hypogonadism  Phenotype   \n",
       "300195    HP:0000068                Urethral atresia  Phenotype   \n",
       "300197    HP:0000085                Horseshoe kidney  Phenotype   \n",
       "300198    HP:0000089                Renal hypoplasia  Phenotype   \n",
       "...              ...                             ...        ...   \n",
       "794385  MESH:D052439       lipid metabolism disorder  Phenotype   \n",
       "794404  MESH:D055623               actinic keratosis  Phenotype   \n",
       "794420  MESH:D057774       post-exercise hypotension  Phenotype   \n",
       "794437  MESH:D065306                  corneal damage  Phenotype   \n",
       "794941   OMIM:615432  specific language impairment-5  Phenotype   \n",
       "\n",
       "                             xrefs source  \n",
       "300191                  HP:0000006    NaN  \n",
       "300193                MESH:D005058    NaN  \n",
       "300195                  HP:0000068    NaN  \n",
       "300197  HP:0000085|MESH:D000069337    NaN  \n",
       "300198                         NaN    NaN  \n",
       "...                            ...    ...  \n",
       "794385                MESH:D052439    NaN  \n",
       "794404                MESH:D055623    NaN  \n",
       "794420                MESH:D057774    NaN  \n",
       "794437                MESH:D065306    NaN  \n",
       "794941                 OMIM:615432    NaN  \n",
       "\n",
       "[6007 rows x 5 columns]"
      ]
     },
     "execution_count": 104,
     "metadata": {},
     "output_type": "execute_result"
    }
   ],
   "source": [
    "update_pheno"
   ]
  }
 ],
 "metadata": {
  "kernelspec": {
   "display_name": "Python 3",
   "language": "python",
   "name": "python3"
  },
  "language_info": {
   "codemirror_mode": {
    "name": "ipython",
    "version": 3
   },
   "file_extension": ".py",
   "mimetype": "text/x-python",
   "name": "python",
   "nbconvert_exporter": "python",
   "pygments_lexer": "ipython3",
   "version": "3.6.8"
  }
 },
 "nbformat": 4,
 "nbformat_minor": 2
}
