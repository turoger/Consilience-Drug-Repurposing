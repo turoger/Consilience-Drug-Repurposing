{
 "cells": [
  {
   "cell_type": "code",
   "execution_count": 1,
   "metadata": {},
   "outputs": [
    {
     "name": "stderr",
     "output_type": "stream",
     "text": [
      "/home/mmayers/software/miniconda3/envs/ml/lib/python3.7/site-packages/data_tools/df_processing.py:4: TqdmExperimentalWarning: Using `tqdm.autonotebook.tqdm` in notebook mode. Use `tqdm.tqdm` instead to force console mode (e.g. in jupyter console)\n",
      "  from tqdm.autonotebook import tqdm\n"
     ]
    }
   ],
   "source": [
    "%matplotlib inline\n",
    "\n",
    "import json\n",
    "import pickle\n",
    "import numpy as np\n",
    "import pandas as pd\n",
    "import seaborn as sns\n",
    "from pathlib import Path\n",
    "from itertools import chain\n",
    "import matplotlib.pyplot as plt\n",
    "from biothings_client import get_client\n",
    "\n",
    "from data_tools import obo_processing as ot\n",
    "from data_tools.df_processing import expand_col_on_char, expand_split_col, expand_df_on_col, \\\n",
    "                                     combine_group_cols_on_char\n",
    "from data_tools import graphs as gt\n",
    "from data_tools.files import  load_api_results"
   ]
  },
  {
   "cell_type": "code",
   "execution_count": 2,
   "metadata": {},
   "outputs": [],
   "source": [
    "data_dir = Path('../2_pipeline/00_download_data/out/').resolve()\n",
    "prev_nw = Path('../2_pipeline/05a_GO_Annotations/out/').resolve()\n",
    "\n",
    "this_file = '05b_Other_Ontologies'\n",
    "out_dir = Path('../2_pipeline/').joinpath(this_file).joinpath('out').resolve()"
   ]
  },
  {
   "cell_type": "code",
   "execution_count": 3,
   "metadata": {},
   "outputs": [],
   "source": [
    "if not out_dir.exists():\n",
    "    out_dir.mkdir(parents=True)"
   ]
  },
  {
   "cell_type": "markdown",
   "metadata": {},
   "source": [
    "### Previous taxa used... Will only be mapping to these taxa"
   ]
  },
  {
   "cell_type": "code",
   "execution_count": 4,
   "metadata": {},
   "outputs": [],
   "source": [
    "nodes = pd.read_csv(prev_nw.joinpath('nodes.csv'), dtype=str)\n",
    "edges = pd.read_csv(prev_nw.joinpath('edges.csv'), dtype=str)"
   ]
  },
  {
   "cell_type": "code",
   "execution_count": 5,
   "metadata": {},
   "outputs": [],
   "source": [
    "combo = gt.combine_nodes_and_edges(nodes, edges)"
   ]
  },
  {
   "cell_type": "code",
   "execution_count": 6,
   "metadata": {},
   "outputs": [
    {
     "data": {
      "text/plain": [
       "12227"
      ]
     },
     "execution_count": 6,
     "metadata": {},
     "output_type": "execute_result"
    }
   ],
   "source": [
    "inf_taxa = combo.query('start_label == \"Taxon\" and end_label == \"Disease\" and type == \"causes\"')['start_id'].unique()\n",
    "len(inf_taxa)"
   ]
  },
  {
   "cell_type": "code",
   "execution_count": 7,
   "metadata": {},
   "outputs": [
    {
     "data": {
      "text/plain": [
       "NCBITaxon    12176\n",
       "WD              51\n",
       "dtype: int64"
      ]
     },
     "execution_count": 7,
     "metadata": {},
     "output_type": "execute_result"
    }
   ],
   "source": [
    "pd.Series(inf_taxa).apply(lambda s: s.split(':')[0]).value_counts()"
   ]
  },
  {
   "cell_type": "markdown",
   "metadata": {},
   "source": [
    "We won't have info on taxa with WikiData IDs...  so remove."
   ]
  },
  {
   "cell_type": "code",
   "execution_count": 8,
   "metadata": {},
   "outputs": [],
   "source": [
    "inf_taxa = [t for t in inf_taxa if t.startswith('NCBITaxon:')]"
   ]
  },
  {
   "cell_type": "markdown",
   "metadata": {},
   "source": [
    "## Make a map from parent to child Taxa... that are already in the NW\n",
    "\n",
    "Some Ontologies only map to general taxa.  We've already done a decent job of filtering of Species level taxa in earlier WikiData queries, so for now map these general taxa down to those levels."
   ]
  },
  {
   "cell_type": "markdown",
   "metadata": {},
   "source": [
    "this takes several minutes so save and reload on future Runs..."
   ]
  },
  {
   "cell_type": "code",
   "execution_count": 9,
   "metadata": {},
   "outputs": [
    {
     "data": {
      "text/plain": [
       "4249"
      ]
     },
     "execution_count": 9,
     "metadata": {},
     "output_type": "execute_result"
    }
   ],
   "source": [
    "tax_file = out_dir.joinpath('infectious_taxa_lineage_map.pkl')\n",
    "\n",
    "if tax_file.exists():\n",
    "    inf_tax_map = pickle.load(tax_file.open(mode='rb'))\n",
    "else:\n",
    "    # Get a parent to child map (all childeren-of-children) for all Taxa \n",
    "    tax_edges = ot.get_ontology_edges(data_dir.joinpath('ncbitaxon.obo'))\n",
    "    tax_child_map = ot.get_children_map(tax_edges)\n",
    "\n",
    "    # Set operations are fast\n",
    "    inf_taxa = set(inf_taxa)\n",
    "\n",
    "    # Only keep the ones that map to our infectious taxa\n",
    "    inf_tax_map = {k: v.intersection(inf_taxa) for k, v in tax_child_map.items()}\n",
    "    inf_tax_map = {k: v for k, v in inf_tax_map.items() if v}\n",
    "    \n",
    "    # Save for future runs\n",
    "    pickle.dump(inf_tax_map, tax_file.open(mode='wb'))\n",
    "    \n",
    "len(inf_tax_map)"
   ]
  },
  {
   "cell_type": "markdown",
   "metadata": {},
   "source": [
    "# Load the ontologies to be examined"
   ]
  },
  {
   "cell_type": "code",
   "execution_count": 10,
   "metadata": {},
   "outputs": [],
   "source": [
    "pr_edges = ot.get_ontology_edges(data_dir.joinpath('pr.obo'))\n",
    "cl_edges = ot.get_ontology_edges(data_dir.joinpath('cl.obo'))\n",
    "chebi_edges = ot.get_ontology_edges(data_dir.joinpath('chebi.obo'))\n",
    "ub_edges = ot.get_ontology_edges(data_dir.joinpath('ext.obo'))\n",
    "hp_edges = ot.get_ontology_edges(data_dir.joinpath('hpo.obo'))"
   ]
  },
  {
   "cell_type": "code",
   "execution_count": 11,
   "metadata": {},
   "outputs": [],
   "source": [
    "go_json = json.load(open(data_dir.joinpath('go-plus.json'), 'r'))"
   ]
  },
  {
   "cell_type": "code",
   "execution_count": 12,
   "metadata": {},
   "outputs": [],
   "source": [
    "go_nodes, go_edges = ot.parse_json_graph(go_json['graphs'][0])"
   ]
  },
  {
   "cell_type": "code",
   "execution_count": 13,
   "metadata": {},
   "outputs": [],
   "source": [
    "# Add source info now...\n",
    "pr_edges['source'] = 'Protein Ontology'\n",
    "cl_edges['source'] = 'Cell Ontology'\n",
    "chebi_edges['source'] = 'ChEBI'\n",
    "ub_edges['source'] = 'UBERON'\n",
    "hp_edges['source'] = 'Human Phenotype Ontology'\n",
    "go_edges['source'] = 'Gene Ontology'"
   ]
  },
  {
   "cell_type": "code",
   "execution_count": 14,
   "metadata": {},
   "outputs": [],
   "source": [
    "# Add dsrc_type info now...\n",
    "pr_edges['dsrc_type'] = 'curated'\n",
    "cl_edges['dsrc_type'] = 'curated'\n",
    "chebi_edges['dsrc_type'] = 'curated'\n",
    "ub_edges['dsrc_type'] = 'curated'\n",
    "hp_edges['dsrc_type'] = 'curated'\n",
    "go_edges['dsrc_type'] = 'curated'"
   ]
  },
  {
   "cell_type": "code",
   "execution_count": 15,
   "metadata": {},
   "outputs": [],
   "source": [
    "# Add license info now...\n",
    "pr_edges['license'] = 'CC-BY 4.0'\n",
    "cl_edges['license'] = 'CC-BY 4.0'\n",
    "chebi_edges['license'] = 'CC-BY 4.0'\n",
    "ub_edges['license'] = 'CC-BY 4.0'\n",
    "hp_edges['license'] = 'custom cite no-derivatives'\n",
    "go_edges['license'] = 'CC-BY 4.0'"
   ]
  },
  {
   "cell_type": "markdown",
   "metadata": {},
   "source": [
    "### Look at inter-ontology edges to see how things are connected"
   ]
  },
  {
   "cell_type": "code",
   "execution_count": 16,
   "metadata": {},
   "outputs": [
    {
     "data": {
      "text/html": [
       "<div>\n",
       "<style scoped>\n",
       "    .dataframe tbody tr th:only-of-type {\n",
       "        vertical-align: middle;\n",
       "    }\n",
       "\n",
       "    .dataframe tbody tr th {\n",
       "        vertical-align: top;\n",
       "    }\n",
       "\n",
       "    .dataframe thead th {\n",
       "        text-align: right;\n",
       "    }\n",
       "</style>\n",
       "<table border=\"1\" class=\"dataframe\">\n",
       "  <thead>\n",
       "    <tr style=\"text-align: right;\">\n",
       "      <th></th>\n",
       "      <th>src_id</th>\n",
       "      <th>src_name</th>\n",
       "      <th>rel_type</th>\n",
       "      <th>tgt_id</th>\n",
       "      <th>tgt_name</th>\n",
       "      <th>src_src</th>\n",
       "      <th>tgt_src</th>\n",
       "      <th>source</th>\n",
       "      <th>dsrc_type</th>\n",
       "      <th>license</th>\n",
       "    </tr>\n",
       "  </thead>\n",
       "  <tbody>\n",
       "    <tr>\n",
       "      <th>0</th>\n",
       "      <td>Araport:AT1G01010</td>\n",
       "      <td>NAC001 (Arabidopsis thaliana)</td>\n",
       "      <td>is_a</td>\n",
       "      <td>SO:0001217</td>\n",
       "      <td>protein_coding_gene</td>\n",
       "      <td>Araport</td>\n",
       "      <td>SO</td>\n",
       "      <td>Protein Ontology</td>\n",
       "      <td>curated</td>\n",
       "      <td>CC-BY 4.0</td>\n",
       "    </tr>\n",
       "    <tr>\n",
       "      <th>1</th>\n",
       "      <td>Araport:AT1G01010</td>\n",
       "      <td>NAC001 (Arabidopsis thaliana)</td>\n",
       "      <td>only_in_taxon</td>\n",
       "      <td>NCBITaxon:3702</td>\n",
       "      <td>Arabidopsis thaliana</td>\n",
       "      <td>Araport</td>\n",
       "      <td>NCBITaxon</td>\n",
       "      <td>Protein Ontology</td>\n",
       "      <td>curated</td>\n",
       "      <td>CC-BY 4.0</td>\n",
       "    </tr>\n",
       "  </tbody>\n",
       "</table>\n",
       "</div>"
      ],
      "text/plain": [
       "              src_id                       src_name       rel_type  \\\n",
       "0  Araport:AT1G01010  NAC001 (Arabidopsis thaliana)           is_a   \n",
       "1  Araport:AT1G01010  NAC001 (Arabidopsis thaliana)  only_in_taxon   \n",
       "\n",
       "           tgt_id              tgt_name  src_src    tgt_src            source  \\\n",
       "0      SO:0001217   protein_coding_gene  Araport         SO  Protein Ontology   \n",
       "1  NCBITaxon:3702  Arabidopsis thaliana  Araport  NCBITaxon  Protein Ontology   \n",
       "\n",
       "  dsrc_type    license  \n",
       "0   curated  CC-BY 4.0  \n",
       "1   curated  CC-BY 4.0  "
      ]
     },
     "execution_count": 16,
     "metadata": {},
     "output_type": "execute_result"
    }
   ],
   "source": [
    "all_onto_edges = pd.concat([pr_edges, cl_edges, chebi_edges, ub_edges, hp_edges, go_edges], \n",
    "                           ignore_index=True, sort=False)\n",
    "\n",
    "all_onto_edges.head(2)"
   ]
  },
  {
   "cell_type": "code",
   "execution_count": 17,
   "metadata": {},
   "outputs": [
    {
     "data": {
      "text/plain": [
       "(PR, NCBITaxon)        176965\n",
       "(GO, CHEBI)              5881\n",
       "(CL, UBERON)             1604\n",
       "(UBERON, NCBITaxon)      1438\n",
       "(GO, UBERON)             1308\n",
       "(CL, PR)                 1225\n",
       "(PR, GO)                 1167\n",
       "(GO, CL)                 1063\n",
       "(CL, GO)                  899\n",
       "(UBERON, GO)              669\n",
       "(GO, NCBITaxon)           622\n",
       "(UBERON, CL)              572\n",
       "(GO, PR)                  362\n",
       "(PR, CHEBI)               351\n",
       "(UBERON, CHEBI)            57\n",
       "(UBERON, PR)               19\n",
       "(CHEBI, PR)                 5\n",
       "(CL, CHEBI)                 2\n",
       "dtype: int64"
      ]
     },
     "execution_count": 17,
     "metadata": {},
     "output_type": "execute_result"
    }
   ],
   "source": [
    "examined_ontos = ['CHEBI', 'CL', 'PR', 'UBERON', 'HPO', 'GO', 'NCBITaxon']\n",
    "q_res = all_onto_edges.query('src_src != tgt_src and src_src in @examined_ontos and tgt_src in @examined_ontos')\n",
    "m_edges = []\n",
    "for row in q_res.itertuples():\n",
    "    m_edges.append((row.src_src, row.tgt_src))\n",
    "pair_counts = pd.Series(m_edges).value_counts()\n",
    "pair_counts"
   ]
  },
  {
   "cell_type": "code",
   "execution_count": 18,
   "metadata": {
    "scrolled": false
   },
   "outputs": [
    {
     "name": "stdout",
     "output_type": "stream",
     "text": [
      "\n",
      "PR ---> NCBITaxon\n",
      "\n",
      "only_in_taxon    176965\n",
      "Name: rel_type, dtype: int64\n",
      "\n",
      "\n",
      "----------------------------------------\n",
      "\n",
      "GO ---> CHEBI\n",
      "\n",
      "has_primary_input_or_output                1277\n",
      "has_primary_output                         1163\n",
      "has_primary_input                           994\n",
      "has_input                                   957\n",
      "transports_or_maintains_localization_of     954\n",
      "imports                                     178\n",
      "Name: rel_type, dtype: int64\n",
      "\n",
      "\n",
      "----------------------------------------\n",
      "\n",
      "CL ---> UBERON\n",
      "\n",
      "part_of    1555\n",
      "Name: rel_type, dtype: int64\n",
      "\n",
      "\n",
      "----------------------------------------\n",
      "\n",
      "UBERON ---> NCBITaxon\n",
      "\n",
      "only_in_taxon        1018\n",
      "present_in_taxon      348\n",
      "dubious_for_taxon      61\n",
      "Name: rel_type, dtype: int64\n",
      "\n",
      "\n",
      "----------------------------------------\n",
      "\n",
      "GO ---> UBERON\n",
      "\n",
      "results_in_development_of      587\n",
      "results_in_morphogenesis_of    340\n",
      "results_in_formation_of        174\n",
      "occurs_in                       70\n",
      "results_in_maturation_of        53\n",
      "Name: rel_type, dtype: int64\n",
      "\n",
      "\n",
      "----------------------------------------\n",
      "\n",
      "CL ---> PR\n",
      "\n",
      "lacks_plasma_membrane_part         456\n",
      "has_plasma_membrane_part           450\n",
      "has_part                           166\n",
      "has_low_plasma_membrane_amount      72\n",
      "has_high_plasma_membrane_amount     65\n",
      "Name: rel_type, dtype: int64\n",
      "\n",
      "\n",
      "----------------------------------------\n",
      "\n",
      "PR ---> GO\n",
      "\n",
      "output_of    784\n",
      "is_a         351\n",
      "Name: rel_type, dtype: int64\n",
      "\n",
      "\n",
      "----------------------------------------\n",
      "\n",
      "GO ---> CL\n",
      "\n",
      "results_in_acquisition_of_features_of    299\n",
      "occurs_in                                136\n",
      "results_in_development_of                 99\n",
      "results_in_movement_of                    86\n",
      "acts_on_population_of                     83\n",
      "part_of                                   66\n",
      "has_input                                 57\n",
      "results_in_commitment_to                  57\n",
      "Name: rel_type, dtype: int64\n",
      "\n",
      "\n",
      "----------------------------------------\n",
      "\n",
      "CL ---> GO\n",
      "\n",
      "capable_of                    654\n",
      "has_part                       83\n",
      "has_plasma_membrane_part       42\n",
      "lacks_plasma_membrane_part     28\n",
      "Name: rel_type, dtype: int64\n",
      "\n",
      "\n",
      "----------------------------------------\n",
      "\n",
      "UBERON ---> GO\n",
      "\n",
      "capable_of               200\n",
      "capable_of_part_of       182\n",
      "has_part                  73\n",
      "contains_process          46\n",
      "composed_primarily_of     44\n",
      "output_of                 30\n",
      "part_of                   22\n",
      "simultaneous_with         22\n",
      "site_of                   21\n",
      "Name: rel_type, dtype: int64\n",
      "\n",
      "\n",
      "----------------------------------------\n",
      "\n",
      "GO ---> NCBITaxon\n",
      "\n",
      "only_in_taxon    612\n",
      "Name: rel_type, dtype: int64\n",
      "\n",
      "\n",
      "----------------------------------------\n",
      "\n",
      "UBERON ---> CL\n",
      "\n",
      "has_part                 389\n",
      "composed_primarily_of    134\n",
      "Name: rel_type, dtype: int64\n",
      "\n",
      "\n",
      "----------------------------------------\n",
      "\n",
      "GO ---> PR\n",
      "\n",
      "has_input                                  293\n",
      "has_primary_output                          38\n",
      "transports_or_maintains_localization_of     13\n",
      "Name: rel_type, dtype: int64\n",
      "\n",
      "\n",
      "----------------------------------------\n",
      "\n",
      "PR ---> CHEBI\n",
      "\n",
      "is_a             219\n",
      "has_component    123\n",
      "Name: rel_type, dtype: int64\n",
      "\n",
      "\n",
      "----------------------------------------\n"
     ]
    }
   ],
   "source": [
    "pairs = pair_counts.index.tolist()\n",
    "frac = 0.03\n",
    "min_counts = 100\n",
    "\n",
    "for pair in pairs:\n",
    "    # Only look at pariings with a significant number of edges\n",
    "    if pair_counts[pair] < min_counts:\n",
    "        continue\n",
    "    \n",
    "    # Print the top relationship types that link two concept types\n",
    "    print('\\n{} ---> {}\\n'.format(*pair))\n",
    "    rels = q_res.query('src_src == {!r} and tgt_src == {!r}'.format(*pair))['rel_type']\n",
    "    counts = rels.value_counts()\n",
    "    print(counts[counts > len(rels)*frac])\n",
    "    print('\\n\\n'+'-'*40)    "
   ]
  },
  {
   "cell_type": "markdown",
   "metadata": {},
   "source": [
    "## Choosing edge types to process\n",
    "\n",
    "`is_a` relationships, or those with very low counts are not super interesting\n",
    "Based on this analysis, we will keep the following cross-ontology references...\n",
    "\n",
    "- CL to PR\n",
    "- ######PR to GO#### Only seems to be output_of  GO:0016485 (protein processing)... or is_a  GO:0032991 (complex)... we will skip\n",
    "- CL to UBERON\n",
    "- CL to GO \n",
    "- UBERON to GO\n",
    "- UBERON to CL\n",
    "- GO to CHEBI\n",
    "- GO to UBERON\n",
    "- GO to CL\n",
    "- GO to NCBITaxon"
   ]
  },
  {
   "cell_type": "markdown",
   "metadata": {},
   "source": [
    "## PR processing\n",
    "\n",
    "PR is structured interestingly in that there are protein classes (identifiers that begein with PR:000xxxxxxx) and proteins (which have PR:{Uniprot ID}). Ournetwork already has classes of proteins from interpro... However, most cross ontologies link to these class nodes.  Class nodes tcan then be madded to uniprot nodes, so we can get direct mappings from other ontologies (like CL) to Uniprot by using these.\n",
    "\n",
    "PR also has proteins from many different species.  We are primarly interested in either human proteins, or proteins of infectious diseeases, so we will filter out taxa that do not fit into those categories."
   ]
  },
  {
   "cell_type": "code",
   "execution_count": 19,
   "metadata": {},
   "outputs": [
    {
     "name": "stdout",
     "output_type": "stream",
     "text": [
      "316242\n"
     ]
    },
    {
     "data": {
      "text/html": [
       "<div>\n",
       "<style scoped>\n",
       "    .dataframe tbody tr th:only-of-type {\n",
       "        vertical-align: middle;\n",
       "    }\n",
       "\n",
       "    .dataframe tbody tr th {\n",
       "        vertical-align: top;\n",
       "    }\n",
       "\n",
       "    .dataframe thead th {\n",
       "        text-align: right;\n",
       "    }\n",
       "</style>\n",
       "<table border=\"1\" class=\"dataframe\">\n",
       "  <thead>\n",
       "    <tr style=\"text-align: right;\">\n",
       "      <th></th>\n",
       "      <th>id</th>\n",
       "      <th>name</th>\n",
       "      <th>def</th>\n",
       "      <th>alt_id</th>\n",
       "      <th>xref</th>\n",
       "      <th>replaced_by</th>\n",
       "      <th>is_obsolete</th>\n",
       "      <th>id_src</th>\n",
       "    </tr>\n",
       "  </thead>\n",
       "  <tbody>\n",
       "    <tr>\n",
       "      <th>0</th>\n",
       "      <td>Araport:AT1G01010</td>\n",
       "      <td>NAC001 (Arabidopsis thaliana)</td>\n",
       "      <td>\"A protein coding gene NAC001 in Arabidopsis t...</td>\n",
       "      <td>NaN</td>\n",
       "      <td>NaN</td>\n",
       "      <td>NaN</td>\n",
       "      <td>False</td>\n",
       "      <td>Araport</td>\n",
       "    </tr>\n",
       "    <tr>\n",
       "      <th>1</th>\n",
       "      <td>Araport:AT1G01030</td>\n",
       "      <td>NGA3 (Arabidopsis thaliana)</td>\n",
       "      <td>\"A protein coding gene NGA3 in Arabidopsis tha...</td>\n",
       "      <td>NaN</td>\n",
       "      <td>NaN</td>\n",
       "      <td>NaN</td>\n",
       "      <td>False</td>\n",
       "      <td>Araport</td>\n",
       "    </tr>\n",
       "  </tbody>\n",
       "</table>\n",
       "</div>"
      ],
      "text/plain": [
       "                  id                           name  \\\n",
       "0  Araport:AT1G01010  NAC001 (Arabidopsis thaliana)   \n",
       "1  Araport:AT1G01030    NGA3 (Arabidopsis thaliana)   \n",
       "\n",
       "                                                 def alt_id xref replaced_by  \\\n",
       "0  \"A protein coding gene NAC001 in Arabidopsis t...    NaN  NaN         NaN   \n",
       "1  \"A protein coding gene NGA3 in Arabidopsis tha...    NaN  NaN         NaN   \n",
       "\n",
       "   is_obsolete   id_src  \n",
       "0        False  Araport  \n",
       "1        False  Araport  "
      ]
     },
     "execution_count": 19,
     "metadata": {},
     "output_type": "execute_result"
    }
   ],
   "source": [
    "pr_nodes = ot.get_ontology_nodes(data_dir.joinpath('pr.obo'))\n",
    "print(len(pr_nodes))\n",
    "pr_nodes.head(2)"
   ]
  },
  {
   "cell_type": "code",
   "execution_count": 20,
   "metadata": {},
   "outputs": [
    {
     "data": {
      "text/plain": [
       "array(['Araport', 'BFO', 'CGNC', 'CHEBI', 'EcoGene', 'Ensembl',\n",
       "       'EnsemblBacteria', 'FlyBase', 'GO', 'HGNC', 'MGI', 'MOD',\n",
       "       'NCBIGene', 'NCBITaxon', 'OBI', 'PR', 'PomBase', 'RGD', 'SGD',\n",
       "       'SO', 'WormBase', 'ZFIN', 'dictyBase'], dtype=object)"
      ]
     },
     "execution_count": 20,
     "metadata": {},
     "output_type": "execute_result"
    }
   ],
   "source": [
    "pr_nodes['id_src'].unique()"
   ]
  },
  {
   "cell_type": "markdown",
   "metadata": {},
   "source": [
    "Most use the standard prefix, but up until this point we've ben using ENSG as the curi for ensembl, so lets change that before going further"
   ]
  },
  {
   "cell_type": "code",
   "execution_count": 21,
   "metadata": {},
   "outputs": [],
   "source": [
    "pr_nodes['id'] = pr_nodes['id'].str.replace('Ensembl:', 'ENSG:')\n",
    "\n",
    "pr_edges['src_id'] = pr_edges['src_id'].str.replace('Ensembl:', 'ENSG:')\n",
    "pr_edges['tgt_id'] = pr_edges['tgt_id'].str.replace('Ensembl:', 'ENSG:')"
   ]
  },
  {
   "cell_type": "code",
   "execution_count": 22,
   "metadata": {},
   "outputs": [
    {
     "data": {
      "text/html": [
       "<div>\n",
       "<style scoped>\n",
       "    .dataframe tbody tr th:only-of-type {\n",
       "        vertical-align: middle;\n",
       "    }\n",
       "\n",
       "    .dataframe tbody tr th {\n",
       "        vertical-align: top;\n",
       "    }\n",
       "\n",
       "    .dataframe thead th {\n",
       "        text-align: right;\n",
       "    }\n",
       "</style>\n",
       "<table border=\"1\" class=\"dataframe\">\n",
       "  <thead>\n",
       "    <tr style=\"text-align: right;\">\n",
       "      <th></th>\n",
       "      <th>src_id</th>\n",
       "      <th>src_name</th>\n",
       "      <th>rel_type</th>\n",
       "      <th>tgt_id</th>\n",
       "      <th>tgt_name</th>\n",
       "      <th>src_src</th>\n",
       "      <th>tgt_src</th>\n",
       "      <th>source</th>\n",
       "      <th>dsrc_type</th>\n",
       "      <th>license</th>\n",
       "    </tr>\n",
       "  </thead>\n",
       "  <tbody>\n",
       "    <tr>\n",
       "      <th>0</th>\n",
       "      <td>Araport:AT1G01010</td>\n",
       "      <td>NAC001 (Arabidopsis thaliana)</td>\n",
       "      <td>is_a</td>\n",
       "      <td>SO:0001217</td>\n",
       "      <td>protein_coding_gene</td>\n",
       "      <td>Araport</td>\n",
       "      <td>SO</td>\n",
       "      <td>Protein Ontology</td>\n",
       "      <td>curated</td>\n",
       "      <td>CC-BY 4.0</td>\n",
       "    </tr>\n",
       "    <tr>\n",
       "      <th>1</th>\n",
       "      <td>Araport:AT1G01010</td>\n",
       "      <td>NAC001 (Arabidopsis thaliana)</td>\n",
       "      <td>only_in_taxon</td>\n",
       "      <td>NCBITaxon:3702</td>\n",
       "      <td>Arabidopsis thaliana</td>\n",
       "      <td>Araport</td>\n",
       "      <td>NCBITaxon</td>\n",
       "      <td>Protein Ontology</td>\n",
       "      <td>curated</td>\n",
       "      <td>CC-BY 4.0</td>\n",
       "    </tr>\n",
       "  </tbody>\n",
       "</table>\n",
       "</div>"
      ],
      "text/plain": [
       "              src_id                       src_name       rel_type  \\\n",
       "0  Araport:AT1G01010  NAC001 (Arabidopsis thaliana)           is_a   \n",
       "1  Araport:AT1G01010  NAC001 (Arabidopsis thaliana)  only_in_taxon   \n",
       "\n",
       "           tgt_id              tgt_name  src_src    tgt_src            source  \\\n",
       "0      SO:0001217   protein_coding_gene  Araport         SO  Protein Ontology   \n",
       "1  NCBITaxon:3702  Arabidopsis thaliana  Araport  NCBITaxon  Protein Ontology   \n",
       "\n",
       "  dsrc_type    license  \n",
       "0   curated  CC-BY 4.0  \n",
       "1   curated  CC-BY 4.0  "
      ]
     },
     "execution_count": 22,
     "metadata": {},
     "output_type": "execute_result"
    }
   ],
   "source": [
    "pr_edges.head(2)"
   ]
  },
  {
   "cell_type": "code",
   "execution_count": 23,
   "metadata": {},
   "outputs": [],
   "source": [
    "idx = pr_edges.query('rel_type == \"only_in_taxon\"').index\n",
    "pr_edges.loc[idx, 'tax_id'] = pr_edges.loc[idx, 'tgt_id']"
   ]
  },
  {
   "cell_type": "code",
   "execution_count": 24,
   "metadata": {},
   "outputs": [],
   "source": [
    "ok_taxa = [k for k in inf_tax_map.keys()] + list(inf_taxa) + ['NCBITaxon:9606']"
   ]
  },
  {
   "cell_type": "code",
   "execution_count": 25,
   "metadata": {},
   "outputs": [
    {
     "data": {
      "text/plain": [
       "183562"
      ]
     },
     "execution_count": 25,
     "metadata": {},
     "output_type": "execute_result"
    }
   ],
   "source": [
    "other_proteins = pr_edges.query('rel_type == \"only_in_taxon\" and tax_id not in @ok_taxa')['src_id'].unique()\n",
    "len(other_proteins)"
   ]
  },
  {
   "cell_type": "code",
   "execution_count": 26,
   "metadata": {},
   "outputs": [
    {
     "data": {
      "text/plain": [
       "array(['Ensembl', 'HGNC', 'NCBIGene', 'PR', 'WormBase'], dtype=object)"
      ]
     },
     "execution_count": 26,
     "metadata": {},
     "output_type": "execute_result"
    }
   ],
   "source": [
    "# Prefixes on human proteins\n",
    "ok_prefix = pr_edges.query('rel_type == \"only_in_taxon\" and tax_id in @ok_taxa')['src_src'].unique()\n",
    "ok_prefix"
   ]
  },
  {
   "cell_type": "code",
   "execution_count": 27,
   "metadata": {},
   "outputs": [
    {
     "name": "stdout",
     "output_type": "stream",
     "text": [
      "316242\n",
      "132680\n"
     ]
    }
   ],
   "source": [
    "print(len(pr_nodes))\n",
    "ok_pr_nodes = pr_nodes.query('id not in @other_proteins').copy()\n",
    "print(len(ok_pr_nodes))"
   ]
  },
  {
   "cell_type": "code",
   "execution_count": 28,
   "metadata": {},
   "outputs": [
    {
     "data": {
      "text/plain": [
       "array(['BFO', 'CHEBI', 'Ensembl', 'GO', 'HGNC', 'MOD', 'NCBIGene',\n",
       "       'NCBITaxon', 'OBI', 'PR', 'SO', 'WormBase'], dtype=object)"
      ]
     },
     "execution_count": 28,
     "metadata": {},
     "output_type": "execute_result"
    }
   ],
   "source": [
    "ok_pr_nodes['id_src'].unique()"
   ]
  },
  {
   "cell_type": "code",
   "execution_count": 29,
   "metadata": {},
   "outputs": [
    {
     "data": {
      "text/html": [
       "<div>\n",
       "<style scoped>\n",
       "    .dataframe tbody tr th:only-of-type {\n",
       "        vertical-align: middle;\n",
       "    }\n",
       "\n",
       "    .dataframe tbody tr th {\n",
       "        vertical-align: top;\n",
       "    }\n",
       "\n",
       "    .dataframe thead th {\n",
       "        text-align: right;\n",
       "    }\n",
       "</style>\n",
       "<table border=\"1\" class=\"dataframe\">\n",
       "  <thead>\n",
       "    <tr style=\"text-align: right;\">\n",
       "      <th></th>\n",
       "      <th>id</th>\n",
       "      <th>name</th>\n",
       "      <th>def</th>\n",
       "      <th>alt_id</th>\n",
       "      <th>xref</th>\n",
       "      <th>replaced_by</th>\n",
       "      <th>is_obsolete</th>\n",
       "      <th>id_src</th>\n",
       "    </tr>\n",
       "  </thead>\n",
       "  <tbody>\n",
       "    <tr>\n",
       "      <th>20636</th>\n",
       "      <td>ENSG:WBGene00016208</td>\n",
       "      <td>C29E4.11 (worm)</td>\n",
       "      <td>\"A protein coding gene C29E4.11 in worm.\" [PRO...</td>\n",
       "      <td>NaN</td>\n",
       "      <td>NaN</td>\n",
       "      <td>NaN</td>\n",
       "      <td>False</td>\n",
       "      <td>Ensembl</td>\n",
       "    </tr>\n",
       "    <tr>\n",
       "      <th>20637</th>\n",
       "      <td>ENSG:WBGene00022423</td>\n",
       "      <td>nhr-41 (worm)</td>\n",
       "      <td>\"A protein coding gene nhr-41 in worm.\" [PRO:DNx]</td>\n",
       "      <td>NaN</td>\n",
       "      <td>NaN</td>\n",
       "      <td>NaN</td>\n",
       "      <td>False</td>\n",
       "      <td>Ensembl</td>\n",
       "    </tr>\n",
       "  </tbody>\n",
       "</table>\n",
       "</div>"
      ],
      "text/plain": [
       "                        id             name  \\\n",
       "20636  ENSG:WBGene00016208  C29E4.11 (worm)   \n",
       "20637  ENSG:WBGene00022423    nhr-41 (worm)   \n",
       "\n",
       "                                                     def alt_id xref  \\\n",
       "20636  \"A protein coding gene C29E4.11 in worm.\" [PRO...    NaN  NaN   \n",
       "20637  \"A protein coding gene nhr-41 in worm.\" [PRO:DNx]    NaN  NaN   \n",
       "\n",
       "      replaced_by  is_obsolete   id_src  \n",
       "20636         NaN        False  Ensembl  \n",
       "20637         NaN        False  Ensembl  "
      ]
     },
     "execution_count": 29,
     "metadata": {},
     "output_type": "execute_result"
    }
   ],
   "source": [
    "ok_pr_nodes = ok_pr_nodes.query('id_src in @ok_prefix').copy()\n",
    "ok_pr_nodes.head(2)"
   ]
  },
  {
   "cell_type": "code",
   "execution_count": 30,
   "metadata": {},
   "outputs": [
    {
     "data": {
      "text/html": [
       "<div>\n",
       "<style scoped>\n",
       "    .dataframe tbody tr th:only-of-type {\n",
       "        vertical-align: middle;\n",
       "    }\n",
       "\n",
       "    .dataframe tbody tr th {\n",
       "        vertical-align: top;\n",
       "    }\n",
       "\n",
       "    .dataframe thead th {\n",
       "        text-align: right;\n",
       "    }\n",
       "</style>\n",
       "<table border=\"1\" class=\"dataframe\">\n",
       "  <thead>\n",
       "    <tr style=\"text-align: right;\">\n",
       "      <th></th>\n",
       "      <th>id</th>\n",
       "      <th>name</th>\n",
       "      <th>def</th>\n",
       "      <th>alt_id</th>\n",
       "      <th>xref</th>\n",
       "      <th>replaced_by</th>\n",
       "      <th>is_obsolete</th>\n",
       "      <th>id_src</th>\n",
       "    </tr>\n",
       "  </thead>\n",
       "  <tbody>\n",
       "    <tr>\n",
       "      <th>63210</th>\n",
       "      <td>NCBIGene:1199124</td>\n",
       "      <td>rpmJ (Enterococcus faecalis V583)</td>\n",
       "      <td>\"A protein coding gene rpmJ in Enterococcus fa...</td>\n",
       "      <td>NaN</td>\n",
       "      <td>NaN</td>\n",
       "      <td>NaN</td>\n",
       "      <td>False</td>\n",
       "      <td>NCBIGene</td>\n",
       "    </tr>\n",
       "    <tr>\n",
       "      <th>63541</th>\n",
       "      <td>NCBIGene:13917115</td>\n",
       "      <td>ospG (Shigella flexneri)</td>\n",
       "      <td>\"A protein coding gene ospG in Shigella flexne...</td>\n",
       "      <td>NaN</td>\n",
       "      <td>NaN</td>\n",
       "      <td>NaN</td>\n",
       "      <td>False</td>\n",
       "      <td>NCBIGene</td>\n",
       "    </tr>\n",
       "    <tr>\n",
       "      <th>63540</th>\n",
       "      <td>NCBIGene:13917100</td>\n",
       "      <td>lpxM2 (Shigella flexneri)</td>\n",
       "      <td>\"A protein coding gene lpxM2 in Shigella flexn...</td>\n",
       "      <td>NaN</td>\n",
       "      <td>NaN</td>\n",
       "      <td>NaN</td>\n",
       "      <td>False</td>\n",
       "      <td>NCBIGene</td>\n",
       "    </tr>\n",
       "    <tr>\n",
       "      <th>63518</th>\n",
       "      <td>NCBIGene:13875430</td>\n",
       "      <td>plasmid SAP064A blaZ (Staphylococcus aureus)</td>\n",
       "      <td>\"A protein coding gene plasmid SAP064A blaZ in...</td>\n",
       "      <td>NaN</td>\n",
       "      <td>NaN</td>\n",
       "      <td>NaN</td>\n",
       "      <td>False</td>\n",
       "      <td>NCBIGene</td>\n",
       "    </tr>\n",
       "    <tr>\n",
       "      <th>63524</th>\n",
       "      <td>NCBIGene:13905363</td>\n",
       "      <td>plasmid pNDM-HK blaTEM-1 (Escherichia coli)</td>\n",
       "      <td>\"A protein coding gene plasmid pNDM-HK blaTEM-...</td>\n",
       "      <td>NaN</td>\n",
       "      <td>NaN</td>\n",
       "      <td>NaN</td>\n",
       "      <td>False</td>\n",
       "      <td>NCBIGene</td>\n",
       "    </tr>\n",
       "  </tbody>\n",
       "</table>\n",
       "</div>"
      ],
      "text/plain": [
       "                      id                                          name  \\\n",
       "63210   NCBIGene:1199124             rpmJ (Enterococcus faecalis V583)   \n",
       "63541  NCBIGene:13917115                      ospG (Shigella flexneri)   \n",
       "63540  NCBIGene:13917100                     lpxM2 (Shigella flexneri)   \n",
       "63518  NCBIGene:13875430  plasmid SAP064A blaZ (Staphylococcus aureus)   \n",
       "63524  NCBIGene:13905363   plasmid pNDM-HK blaTEM-1 (Escherichia coli)   \n",
       "\n",
       "                                                     def alt_id xref  \\\n",
       "63210  \"A protein coding gene rpmJ in Enterococcus fa...    NaN  NaN   \n",
       "63541  \"A protein coding gene ospG in Shigella flexne...    NaN  NaN   \n",
       "63540  \"A protein coding gene lpxM2 in Shigella flexn...    NaN  NaN   \n",
       "63518  \"A protein coding gene plasmid SAP064A blaZ in...    NaN  NaN   \n",
       "63524  \"A protein coding gene plasmid pNDM-HK blaTEM-...    NaN  NaN   \n",
       "\n",
       "      replaced_by  is_obsolete    id_src  \n",
       "63210         NaN        False  NCBIGene  \n",
       "63541         NaN        False  NCBIGene  \n",
       "63540         NaN        False  NCBIGene  \n",
       "63518         NaN        False  NCBIGene  \n",
       "63524         NaN        False  NCBIGene  "
      ]
     },
     "execution_count": 30,
     "metadata": {},
     "output_type": "execute_result"
    }
   ],
   "source": [
    "ok_pr_nodes.query('id_src == \"NCBIGene\"').sample(5)"
   ]
  },
  {
   "cell_type": "code",
   "execution_count": 31,
   "metadata": {},
   "outputs": [
    {
     "data": {
      "text/html": [
       "<div>\n",
       "<style scoped>\n",
       "    .dataframe tbody tr th:only-of-type {\n",
       "        vertical-align: middle;\n",
       "    }\n",
       "\n",
       "    .dataframe tbody tr th {\n",
       "        vertical-align: top;\n",
       "    }\n",
       "\n",
       "    .dataframe thead th {\n",
       "        text-align: right;\n",
       "    }\n",
       "</style>\n",
       "<table border=\"1\" class=\"dataframe\">\n",
       "  <thead>\n",
       "    <tr style=\"text-align: right;\">\n",
       "      <th></th>\n",
       "      <th>src_id</th>\n",
       "      <th>src_name</th>\n",
       "      <th>rel_type</th>\n",
       "      <th>tgt_id</th>\n",
       "      <th>tgt_name</th>\n",
       "      <th>src_src</th>\n",
       "      <th>tgt_src</th>\n",
       "      <th>source</th>\n",
       "      <th>dsrc_type</th>\n",
       "      <th>license</th>\n",
       "      <th>tax_id</th>\n",
       "    </tr>\n",
       "  </thead>\n",
       "  <tbody>\n",
       "    <tr>\n",
       "      <th>125235</th>\n",
       "      <td>NCBIGene:100129307</td>\n",
       "      <td>LOC100129307 (human)</td>\n",
       "      <td>is_a</td>\n",
       "      <td>SO:0001217</td>\n",
       "      <td>protein_coding_gene</td>\n",
       "      <td>NCBIGene</td>\n",
       "      <td>SO</td>\n",
       "      <td>Protein Ontology</td>\n",
       "      <td>curated</td>\n",
       "      <td>CC-BY 4.0</td>\n",
       "      <td>NaN</td>\n",
       "    </tr>\n",
       "    <tr>\n",
       "      <th>125236</th>\n",
       "      <td>NCBIGene:100129307</td>\n",
       "      <td>LOC100129307 (human)</td>\n",
       "      <td>only_in_taxon</td>\n",
       "      <td>NCBITaxon:9606</td>\n",
       "      <td>Homo sapiens</td>\n",
       "      <td>NCBIGene</td>\n",
       "      <td>NCBITaxon</td>\n",
       "      <td>Protein Ontology</td>\n",
       "      <td>curated</td>\n",
       "      <td>CC-BY 4.0</td>\n",
       "      <td>NCBITaxon:9606</td>\n",
       "    </tr>\n",
       "    <tr>\n",
       "      <th>125237</th>\n",
       "      <td>NCBIGene:100131107</td>\n",
       "      <td>LOC100131107 (human)</td>\n",
       "      <td>is_a</td>\n",
       "      <td>SO:0001217</td>\n",
       "      <td>protein_coding_gene</td>\n",
       "      <td>NCBIGene</td>\n",
       "      <td>SO</td>\n",
       "      <td>Protein Ontology</td>\n",
       "      <td>curated</td>\n",
       "      <td>CC-BY 4.0</td>\n",
       "      <td>NaN</td>\n",
       "    </tr>\n",
       "    <tr>\n",
       "      <th>125238</th>\n",
       "      <td>NCBIGene:100131107</td>\n",
       "      <td>LOC100131107 (human)</td>\n",
       "      <td>only_in_taxon</td>\n",
       "      <td>NCBITaxon:9606</td>\n",
       "      <td>Homo sapiens</td>\n",
       "      <td>NCBIGene</td>\n",
       "      <td>NCBITaxon</td>\n",
       "      <td>Protein Ontology</td>\n",
       "      <td>curated</td>\n",
       "      <td>CC-BY 4.0</td>\n",
       "      <td>NCBITaxon:9606</td>\n",
       "    </tr>\n",
       "    <tr>\n",
       "      <th>125273</th>\n",
       "      <td>NCBIGene:100137021</td>\n",
       "      <td>trp-i (Salmo salar)</td>\n",
       "      <td>is_a</td>\n",
       "      <td>SO:0001217</td>\n",
       "      <td>protein_coding_gene</td>\n",
       "      <td>NCBIGene</td>\n",
       "      <td>SO</td>\n",
       "      <td>Protein Ontology</td>\n",
       "      <td>curated</td>\n",
       "      <td>CC-BY 4.0</td>\n",
       "      <td>NaN</td>\n",
       "    </tr>\n",
       "    <tr>\n",
       "      <th>125274</th>\n",
       "      <td>NCBIGene:100137021</td>\n",
       "      <td>trp-i (Salmo salar)</td>\n",
       "      <td>only_in_taxon</td>\n",
       "      <td>NCBITaxon:8030</td>\n",
       "      <td>Salmo salar</td>\n",
       "      <td>NCBIGene</td>\n",
       "      <td>NCBITaxon</td>\n",
       "      <td>Protein Ontology</td>\n",
       "      <td>curated</td>\n",
       "      <td>CC-BY 4.0</td>\n",
       "      <td>NCBITaxon:8030</td>\n",
       "    </tr>\n",
       "  </tbody>\n",
       "</table>\n",
       "</div>"
      ],
      "text/plain": [
       "                    src_id              src_name       rel_type  \\\n",
       "125235  NCBIGene:100129307  LOC100129307 (human)           is_a   \n",
       "125236  NCBIGene:100129307  LOC100129307 (human)  only_in_taxon   \n",
       "125237  NCBIGene:100131107  LOC100131107 (human)           is_a   \n",
       "125238  NCBIGene:100131107  LOC100131107 (human)  only_in_taxon   \n",
       "125273  NCBIGene:100137021   trp-i (Salmo salar)           is_a   \n",
       "125274  NCBIGene:100137021   trp-i (Salmo salar)  only_in_taxon   \n",
       "\n",
       "                tgt_id             tgt_name   src_src    tgt_src  \\\n",
       "125235      SO:0001217  protein_coding_gene  NCBIGene         SO   \n",
       "125236  NCBITaxon:9606         Homo sapiens  NCBIGene  NCBITaxon   \n",
       "125237      SO:0001217  protein_coding_gene  NCBIGene         SO   \n",
       "125238  NCBITaxon:9606         Homo sapiens  NCBIGene  NCBITaxon   \n",
       "125273      SO:0001217  protein_coding_gene  NCBIGene         SO   \n",
       "125274  NCBITaxon:8030          Salmo salar  NCBIGene  NCBITaxon   \n",
       "\n",
       "                  source dsrc_type    license          tax_id  \n",
       "125235  Protein Ontology   curated  CC-BY 4.0             NaN  \n",
       "125236  Protein Ontology   curated  CC-BY 4.0  NCBITaxon:9606  \n",
       "125237  Protein Ontology   curated  CC-BY 4.0             NaN  \n",
       "125238  Protein Ontology   curated  CC-BY 4.0  NCBITaxon:9606  \n",
       "125273  Protein Ontology   curated  CC-BY 4.0             NaN  \n",
       "125274  Protein Ontology   curated  CC-BY 4.0  NCBITaxon:8030  "
      ]
     },
     "execution_count": 31,
     "metadata": {},
     "output_type": "execute_result"
    }
   ],
   "source": [
    "pr_edges.query('src_id in {}'.format(ok_pr_nodes.query('id_src == \"NCBIGene\"')['id'].values.tolist())).head(6)"
   ]
  },
  {
   "cell_type": "code",
   "execution_count": 32,
   "metadata": {},
   "outputs": [
    {
     "data": {
      "text/plain": [
       "protein_coding_gene                              238\n",
       "Escherichia coli                                  48\n",
       "Leptospira interrogans serovar Lai str. 56601     39\n",
       "Klebsiella pneumoniae                             33\n",
       "Staphylococcus aureus                             26\n",
       "Homo sapiens                                      20\n",
       "Enterococcus faecalis V583                        11\n",
       "Chlamydia trachomatis D/UW-3/CX                   10\n",
       "Caenorhabditis elegans                             8\n",
       "Chlamydia trachomatis 434/Bu                       7\n",
       "Yersinia pestis                                    7\n",
       "Shigella flexneri                                  6\n",
       "Bacillus anthracis                                 4\n",
       "Streptococcus mutans UA159                         4\n",
       "Salmo salar                                        2\n",
       "Pseudomonas aeruginosa                             2\n",
       "Yersinia enterocolitica                            2\n",
       "Serratia marcescens                                1\n",
       "Lactobacillus fermentum                            1\n",
       "West Nile virus                                    1\n",
       "Enterococcus faecalis                              1\n",
       "Nipah henipavirus                                  1\n",
       "Paramecium tetraurelia                             1\n",
       "Plasmodium falciparum                              1\n",
       "Clostridium perfringens                            1\n",
       "Felid alphaherpesvirus 1                           1\n",
       "Name: tgt_name, dtype: int64"
      ]
     },
     "execution_count": 32,
     "metadata": {},
     "output_type": "execute_result"
    }
   ],
   "source": [
    "pr_edges.query('src_id in {}'.format(ok_pr_nodes.query('id_src == \"NCBIGene\"')['id'].values.tolist()))['tgt_name'].value_counts()"
   ]
  },
  {
   "cell_type": "markdown",
   "metadata": {},
   "source": [
    "Unneded edges"
   ]
  },
  {
   "cell_type": "code",
   "execution_count": 33,
   "metadata": {},
   "outputs": [
    {
     "data": {
      "text/plain": [
       "protein_coding_gene    19793\n",
       "Homo sapiens           19793\n",
       "Name: tgt_name, dtype: int64"
      ]
     },
     "execution_count": 33,
     "metadata": {},
     "output_type": "execute_result"
    }
   ],
   "source": [
    "pr_edges.query('src_id in {}'.format(ok_pr_nodes.query('id_src == \"HGNC\"')['id'].values.tolist()))['tgt_name'].value_counts()"
   ]
  },
  {
   "cell_type": "markdown",
   "metadata": {},
   "source": [
    "More Unneded-edges... We know Human genes are in Homo Sapiens, and we know they code proteins...\n",
    "\n",
    "Looks like only the `PR` nodes are useful to us"
   ]
  },
  {
   "cell_type": "code",
   "execution_count": 34,
   "metadata": {},
   "outputs": [
    {
     "data": {
      "text/html": [
       "<div>\n",
       "<style scoped>\n",
       "    .dataframe tbody tr th:only-of-type {\n",
       "        vertical-align: middle;\n",
       "    }\n",
       "\n",
       "    .dataframe tbody tr th {\n",
       "        vertical-align: top;\n",
       "    }\n",
       "\n",
       "    .dataframe thead th {\n",
       "        text-align: right;\n",
       "    }\n",
       "</style>\n",
       "<table border=\"1\" class=\"dataframe\">\n",
       "  <thead>\n",
       "    <tr style=\"text-align: right;\">\n",
       "      <th></th>\n",
       "      <th>id</th>\n",
       "      <th>name</th>\n",
       "      <th>def</th>\n",
       "      <th>alt_id</th>\n",
       "      <th>xref</th>\n",
       "      <th>replaced_by</th>\n",
       "      <th>is_obsolete</th>\n",
       "      <th>id_src</th>\n",
       "    </tr>\n",
       "  </thead>\n",
       "  <tbody>\n",
       "    <tr>\n",
       "      <th>109069</th>\n",
       "      <td>PR:000043199</td>\n",
       "      <td>caseinolytic peptidase B protein isoform 2</td>\n",
       "      <td>\"A caseinolytic peptidase B protein that is a ...</td>\n",
       "      <td>NaN</td>\n",
       "      <td>NaN</td>\n",
       "      <td>NaN</td>\n",
       "      <td>False</td>\n",
       "      <td>PR</td>\n",
       "    </tr>\n",
       "    <tr>\n",
       "      <th>107859</th>\n",
       "      <td>PR:000041989</td>\n",
       "      <td>phosphatidylcholine:ceramide cholinephosphotra...</td>\n",
       "      <td>\"A phosphatidylcholine:ceramide cholinephospho...</td>\n",
       "      <td>NaN</td>\n",
       "      <td>NaN</td>\n",
       "      <td>NaN</td>\n",
       "      <td>False</td>\n",
       "      <td>PR</td>\n",
       "    </tr>\n",
       "    <tr>\n",
       "      <th>208261</th>\n",
       "      <td>PR:Q68CJ9-2</td>\n",
       "      <td>cyclic AMP-responsive element-binding protein ...</td>\n",
       "      <td>\"A cyclic AMP-responsive element-binding prote...</td>\n",
       "      <td>NaN</td>\n",
       "      <td>UniProtKB:Q68CJ9-2</td>\n",
       "      <td>NaN</td>\n",
       "      <td>False</td>\n",
       "      <td>PR</td>\n",
       "    </tr>\n",
       "    <tr>\n",
       "      <th>276602</th>\n",
       "      <td>PR:Q9UN36-2</td>\n",
       "      <td>protein NDRG2 isoform 2 (human)</td>\n",
       "      <td>\"A protein NDRG2 isoform 2 that is encoded in ...</td>\n",
       "      <td>NaN</td>\n",
       "      <td>UniProtKB:Q9UN36-2</td>\n",
       "      <td>NaN</td>\n",
       "      <td>False</td>\n",
       "      <td>PR</td>\n",
       "    </tr>\n",
       "    <tr>\n",
       "      <th>130947</th>\n",
       "      <td>PR:O43561</td>\n",
       "      <td>linker for activation of T-cells family member...</td>\n",
       "      <td>\"A linker for activation of T-cells family mem...</td>\n",
       "      <td>NaN</td>\n",
       "      <td>Reactome:R-HSA-202322 \"PR:O43561 located_in GO...</td>\n",
       "      <td>NaN</td>\n",
       "      <td>False</td>\n",
       "      <td>PR</td>\n",
       "    </tr>\n",
       "  </tbody>\n",
       "</table>\n",
       "</div>"
      ],
      "text/plain": [
       "                  id                                               name  \\\n",
       "109069  PR:000043199         caseinolytic peptidase B protein isoform 2   \n",
       "107859  PR:000041989  phosphatidylcholine:ceramide cholinephosphotra...   \n",
       "208261   PR:Q68CJ9-2  cyclic AMP-responsive element-binding protein ...   \n",
       "276602   PR:Q9UN36-2                    protein NDRG2 isoform 2 (human)   \n",
       "130947     PR:O43561  linker for activation of T-cells family member...   \n",
       "\n",
       "                                                      def alt_id  \\\n",
       "109069  \"A caseinolytic peptidase B protein that is a ...    NaN   \n",
       "107859  \"A phosphatidylcholine:ceramide cholinephospho...    NaN   \n",
       "208261  \"A cyclic AMP-responsive element-binding prote...    NaN   \n",
       "276602  \"A protein NDRG2 isoform 2 that is encoded in ...    NaN   \n",
       "130947  \"A linker for activation of T-cells family mem...    NaN   \n",
       "\n",
       "                                                     xref replaced_by  \\\n",
       "109069                                                NaN         NaN   \n",
       "107859                                                NaN         NaN   \n",
       "208261                                 UniProtKB:Q68CJ9-2         NaN   \n",
       "276602                                 UniProtKB:Q9UN36-2         NaN   \n",
       "130947  Reactome:R-HSA-202322 \"PR:O43561 located_in GO...         NaN   \n",
       "\n",
       "        is_obsolete id_src  \n",
       "109069        False     PR  \n",
       "107859        False     PR  \n",
       "208261        False     PR  \n",
       "276602        False     PR  \n",
       "130947        False     PR  "
      ]
     },
     "execution_count": 34,
     "metadata": {},
     "output_type": "execute_result"
    }
   ],
   "source": [
    "ok_pr_nodes = ok_pr_nodes.query('id_src == \"PR\"').copy()\n",
    "ok_pr_nodes.sample(5)"
   ]
  },
  {
   "cell_type": "code",
   "execution_count": 35,
   "metadata": {},
   "outputs": [
    {
     "data": {
      "text/plain": [
       "242338"
      ]
     },
     "execution_count": 35,
     "metadata": {},
     "output_type": "execute_result"
    }
   ],
   "source": [
    "ok_pr_ids = ok_pr_nodes['id'].unique()\n",
    "ok_pr_edges = pr_edges.query('src_id in @ok_pr_ids').copy()\n",
    "len(ok_pr_edges)"
   ]
  },
  {
   "cell_type": "code",
   "execution_count": 36,
   "metadata": {},
   "outputs": [
    {
     "data": {
      "text/html": [
       "<div>\n",
       "<style scoped>\n",
       "    .dataframe tbody tr th:only-of-type {\n",
       "        vertical-align: middle;\n",
       "    }\n",
       "\n",
       "    .dataframe tbody tr th {\n",
       "        vertical-align: top;\n",
       "    }\n",
       "\n",
       "    .dataframe thead th {\n",
       "        text-align: right;\n",
       "    }\n",
       "</style>\n",
       "<table border=\"1\" class=\"dataframe\">\n",
       "  <thead>\n",
       "    <tr style=\"text-align: right;\">\n",
       "      <th></th>\n",
       "      <th>src_id</th>\n",
       "      <th>src_name</th>\n",
       "      <th>rel_type</th>\n",
       "      <th>tgt_id</th>\n",
       "      <th>tgt_name</th>\n",
       "      <th>src_src</th>\n",
       "      <th>tgt_src</th>\n",
       "      <th>source</th>\n",
       "      <th>dsrc_type</th>\n",
       "      <th>license</th>\n",
       "      <th>tax_id</th>\n",
       "    </tr>\n",
       "  </thead>\n",
       "  <tbody>\n",
       "    <tr>\n",
       "      <th>135970</th>\n",
       "      <td>PR:000000001</td>\n",
       "      <td>protein</td>\n",
       "      <td>is_a</td>\n",
       "      <td>PR:000018263</td>\n",
       "      <td>amino acid chain</td>\n",
       "      <td>PR</td>\n",
       "      <td>PR</td>\n",
       "      <td>Protein Ontology</td>\n",
       "      <td>curated</td>\n",
       "      <td>CC-BY 4.0</td>\n",
       "      <td>NaN</td>\n",
       "    </tr>\n",
       "    <tr>\n",
       "      <th>135971</th>\n",
       "      <td>PR:000000002</td>\n",
       "      <td>E3 ubiquitin ligase SFC complex Skp1 subunit</td>\n",
       "      <td>is_a</td>\n",
       "      <td>PR:000000001</td>\n",
       "      <td>protein</td>\n",
       "      <td>PR</td>\n",
       "      <td>PR</td>\n",
       "      <td>Protein Ontology</td>\n",
       "      <td>curated</td>\n",
       "      <td>CC-BY 4.0</td>\n",
       "      <td>NaN</td>\n",
       "    </tr>\n",
       "  </tbody>\n",
       "</table>\n",
       "</div>"
      ],
      "text/plain": [
       "              src_id                                      src_name rel_type  \\\n",
       "135970  PR:000000001                                       protein     is_a   \n",
       "135971  PR:000000002  E3 ubiquitin ligase SFC complex Skp1 subunit     is_a   \n",
       "\n",
       "              tgt_id          tgt_name src_src tgt_src            source  \\\n",
       "135970  PR:000018263  amino acid chain      PR      PR  Protein Ontology   \n",
       "135971  PR:000000001           protein      PR      PR  Protein Ontology   \n",
       "\n",
       "       dsrc_type    license tax_id  \n",
       "135970   curated  CC-BY 4.0    NaN  \n",
       "135971   curated  CC-BY 4.0    NaN  "
      ]
     },
     "execution_count": 36,
     "metadata": {},
     "output_type": "execute_result"
    }
   ],
   "source": [
    "ok_pr_edges.head(2)"
   ]
  },
  {
   "cell_type": "markdown",
   "metadata": {},
   "source": [
    "### Get some protein to taxa links for our infectious diseases"
   ]
  },
  {
   "cell_type": "code",
   "execution_count": 37,
   "metadata": {},
   "outputs": [],
   "source": [
    "inf_proteins = ok_pr_edges.query('tax_id != \"NCBITaxon:9606\"').dropna(subset=['tax_id']).copy()"
   ]
  },
  {
   "cell_type": "code",
   "execution_count": 38,
   "metadata": {},
   "outputs": [],
   "source": [
    "inf_proteins['tax_id'] = inf_proteins['tax_id'].map(inf_tax_map).fillna(inf_proteins['tgt_id'])\n",
    "inf_proteins['tax_id'] = inf_proteins['tax_id'].apply(lambda t: '|'.join(list(t)) if type(t) == set else t)"
   ]
  },
  {
   "cell_type": "code",
   "execution_count": 39,
   "metadata": {},
   "outputs": [],
   "source": [
    "inf_proteins = expand_col_on_char(inf_proteins, 'tax_id', '|')"
   ]
  },
  {
   "cell_type": "code",
   "execution_count": 40,
   "metadata": {},
   "outputs": [
    {
     "data": {
      "text/html": [
       "<div>\n",
       "<style scoped>\n",
       "    .dataframe tbody tr th:only-of-type {\n",
       "        vertical-align: middle;\n",
       "    }\n",
       "\n",
       "    .dataframe tbody tr th {\n",
       "        vertical-align: top;\n",
       "    }\n",
       "\n",
       "    .dataframe thead th {\n",
       "        text-align: right;\n",
       "    }\n",
       "</style>\n",
       "<table border=\"1\" class=\"dataframe\">\n",
       "  <thead>\n",
       "    <tr style=\"text-align: right;\">\n",
       "      <th></th>\n",
       "      <th>src_id</th>\n",
       "      <th>src_name</th>\n",
       "      <th>rel_type</th>\n",
       "      <th>tgt_id</th>\n",
       "      <th>tgt_name</th>\n",
       "      <th>src_src</th>\n",
       "      <th>tgt_src</th>\n",
       "      <th>source</th>\n",
       "      <th>dsrc_type</th>\n",
       "      <th>license</th>\n",
       "      <th>tax_id</th>\n",
       "    </tr>\n",
       "  </thead>\n",
       "  <tbody>\n",
       "    <tr>\n",
       "      <th>61648</th>\n",
       "      <td>PR:000036194</td>\n",
       "      <td>eukaryotic protein</td>\n",
       "      <td>only_in_taxon</td>\n",
       "      <td>NCBITaxon:2759</td>\n",
       "      <td>Eukaryota</td>\n",
       "      <td>PR</td>\n",
       "      <td>NCBITaxon</td>\n",
       "      <td>Protein Ontology</td>\n",
       "      <td>curated</td>\n",
       "      <td>CC-BY 4.0</td>\n",
       "      <td>NCBITaxon:1172388</td>\n",
       "    </tr>\n",
       "    <tr>\n",
       "      <th>77144</th>\n",
       "      <td>PR:Q6BER5-6</td>\n",
       "      <td>nucleosome-remodeling factor subunit NURF301-l...</td>\n",
       "      <td>only_in_taxon</td>\n",
       "      <td>NCBITaxon:6239</td>\n",
       "      <td>Caenorhabditis elegans</td>\n",
       "      <td>PR</td>\n",
       "      <td>NCBITaxon</td>\n",
       "      <td>Protein Ontology</td>\n",
       "      <td>curated</td>\n",
       "      <td>CC-BY 4.0</td>\n",
       "      <td>NCBITaxon:6239</td>\n",
       "    </tr>\n",
       "    <tr>\n",
       "      <th>26316</th>\n",
       "      <td>PR:000008016</td>\n",
       "      <td>eukaryotic-type beta-galactosidase</td>\n",
       "      <td>only_in_taxon</td>\n",
       "      <td>NCBITaxon:2759</td>\n",
       "      <td>Eukaryota</td>\n",
       "      <td>PR</td>\n",
       "      <td>NCBITaxon</td>\n",
       "      <td>Protein Ontology</td>\n",
       "      <td>curated</td>\n",
       "      <td>CC-BY 4.0</td>\n",
       "      <td>NCBITaxon:681701</td>\n",
       "    </tr>\n",
       "    <tr>\n",
       "      <th>40023</th>\n",
       "      <td>PR:000027575</td>\n",
       "      <td>fungal histone H3.1/H3.2, initiator methionine...</td>\n",
       "      <td>only_in_taxon</td>\n",
       "      <td>NCBITaxon:4751</td>\n",
       "      <td>Fungi</td>\n",
       "      <td>PR</td>\n",
       "      <td>NCBITaxon</td>\n",
       "      <td>Protein Ontology</td>\n",
       "      <td>curated</td>\n",
       "      <td>CC-BY 4.0</td>\n",
       "      <td>NCBITaxon:1196546</td>\n",
       "    </tr>\n",
       "    <tr>\n",
       "      <th>12714</th>\n",
       "      <td>PR:000000427</td>\n",
       "      <td>fungal/metazoan cullin-1 isoform 1 neddylated ...</td>\n",
       "      <td>only_in_taxon</td>\n",
       "      <td>NCBITaxon:33154</td>\n",
       "      <td>Opisthokonta</td>\n",
       "      <td>PR</td>\n",
       "      <td>NCBITaxon</td>\n",
       "      <td>Protein Ontology</td>\n",
       "      <td>curated</td>\n",
       "      <td>CC-BY 4.0</td>\n",
       "      <td>NCBITaxon:1531934</td>\n",
       "    </tr>\n",
       "  </tbody>\n",
       "</table>\n",
       "</div>"
      ],
      "text/plain": [
       "             src_id                                           src_name  \\\n",
       "61648  PR:000036194                                 eukaryotic protein   \n",
       "77144   PR:Q6BER5-6  nucleosome-remodeling factor subunit NURF301-l...   \n",
       "26316  PR:000008016                 eukaryotic-type beta-galactosidase   \n",
       "40023  PR:000027575  fungal histone H3.1/H3.2, initiator methionine...   \n",
       "12714  PR:000000427  fungal/metazoan cullin-1 isoform 1 neddylated ...   \n",
       "\n",
       "            rel_type           tgt_id                tgt_name src_src  \\\n",
       "61648  only_in_taxon   NCBITaxon:2759               Eukaryota      PR   \n",
       "77144  only_in_taxon   NCBITaxon:6239  Caenorhabditis elegans      PR   \n",
       "26316  only_in_taxon   NCBITaxon:2759               Eukaryota      PR   \n",
       "40023  only_in_taxon   NCBITaxon:4751                   Fungi      PR   \n",
       "12714  only_in_taxon  NCBITaxon:33154            Opisthokonta      PR   \n",
       "\n",
       "         tgt_src            source dsrc_type    license             tax_id  \n",
       "61648  NCBITaxon  Protein Ontology   curated  CC-BY 4.0  NCBITaxon:1172388  \n",
       "77144  NCBITaxon  Protein Ontology   curated  CC-BY 4.0     NCBITaxon:6239  \n",
       "26316  NCBITaxon  Protein Ontology   curated  CC-BY 4.0   NCBITaxon:681701  \n",
       "40023  NCBITaxon  Protein Ontology   curated  CC-BY 4.0  NCBITaxon:1196546  \n",
       "12714  NCBITaxon  Protein Ontology   curated  CC-BY 4.0  NCBITaxon:1531934  "
      ]
     },
     "execution_count": 40,
     "metadata": {},
     "output_type": "execute_result"
    }
   ],
   "source": [
    "inf_proteins.sample(5)"
   ]
  },
  {
   "cell_type": "code",
   "execution_count": 41,
   "metadata": {},
   "outputs": [
    {
     "data": {
      "text/html": [
       "<div>\n",
       "<style scoped>\n",
       "    .dataframe tbody tr th:only-of-type {\n",
       "        vertical-align: middle;\n",
       "    }\n",
       "\n",
       "    .dataframe tbody tr th {\n",
       "        vertical-align: top;\n",
       "    }\n",
       "\n",
       "    .dataframe thead th {\n",
       "        text-align: right;\n",
       "    }\n",
       "</style>\n",
       "<table border=\"1\" class=\"dataframe\">\n",
       "  <thead>\n",
       "    <tr style=\"text-align: right;\">\n",
       "      <th></th>\n",
       "      <th>id</th>\n",
       "      <th>name</th>\n",
       "      <th>label</th>\n",
       "    </tr>\n",
       "  </thead>\n",
       "  <tbody>\n",
       "    <tr>\n",
       "      <th>0</th>\n",
       "      <td>PR:000000092</td>\n",
       "      <td>fungal/metazoan cullin-1</td>\n",
       "      <td>Gene</td>\n",
       "    </tr>\n",
       "    <tr>\n",
       "      <th>1</th>\n",
       "      <td>PR:000000267</td>\n",
       "      <td>fungal/metazoan cullin-1 isoform 1</td>\n",
       "      <td>Gene</td>\n",
       "    </tr>\n",
       "    <tr>\n",
       "      <th>2</th>\n",
       "      <td>PR:000000427</td>\n",
       "      <td>fungal/metazoan cullin-1 isoform 1 neddylated ...</td>\n",
       "      <td>Gene</td>\n",
       "    </tr>\n",
       "    <tr>\n",
       "      <th>3</th>\n",
       "      <td>PR:000000542</td>\n",
       "      <td>fungal/metazoan cullin-1 isoform 1 neddylated 1</td>\n",
       "      <td>Gene</td>\n",
       "    </tr>\n",
       "    <tr>\n",
       "      <th>4</th>\n",
       "      <td>PR:000001119</td>\n",
       "      <td>animal opsin</td>\n",
       "      <td>Gene</td>\n",
       "    </tr>\n",
       "  </tbody>\n",
       "</table>\n",
       "</div>"
      ],
      "text/plain": [
       "             id                                               name label\n",
       "0  PR:000000092                           fungal/metazoan cullin-1  Gene\n",
       "1  PR:000000267                 fungal/metazoan cullin-1 isoform 1  Gene\n",
       "2  PR:000000427  fungal/metazoan cullin-1 isoform 1 neddylated ...  Gene\n",
       "3  PR:000000542    fungal/metazoan cullin-1 isoform 1 neddylated 1  Gene\n",
       "4  PR:000001119                                       animal opsin  Gene"
      ]
     },
     "execution_count": 41,
     "metadata": {},
     "output_type": "execute_result"
    }
   ],
   "source": [
    "inf_pr_nodes = (inf_proteins[['src_id', 'src_name']]\n",
    "                .rename(columns={'src_id': 'id', 'src_name': 'name'})\n",
    "                .drop_duplicates()\n",
    "                .reset_index(drop=True))\n",
    "inf_pr_nodes['label'] = 'Gene'\n",
    "inf_pr_nodes.head()"
   ]
  },
  {
   "cell_type": "code",
   "execution_count": 42,
   "metadata": {},
   "outputs": [
    {
     "data": {
      "text/html": [
       "<div>\n",
       "<style scoped>\n",
       "    .dataframe tbody tr th:only-of-type {\n",
       "        vertical-align: middle;\n",
       "    }\n",
       "\n",
       "    .dataframe tbody tr th {\n",
       "        vertical-align: top;\n",
       "    }\n",
       "\n",
       "    .dataframe thead th {\n",
       "        text-align: right;\n",
       "    }\n",
       "</style>\n",
       "<table border=\"1\" class=\"dataframe\">\n",
       "  <thead>\n",
       "    <tr style=\"text-align: right;\">\n",
       "      <th></th>\n",
       "      <th>start_id</th>\n",
       "      <th>end_id</th>\n",
       "      <th>type</th>\n",
       "      <th>source</th>\n",
       "      <th>dsrc_type</th>\n",
       "      <th>license</th>\n",
       "    </tr>\n",
       "  </thead>\n",
       "  <tbody>\n",
       "    <tr>\n",
       "      <th>0</th>\n",
       "      <td>PR:000000092</td>\n",
       "      <td>NCBITaxon:1235003</td>\n",
       "      <td>only_in_taxon</td>\n",
       "      <td>Protein Ontology</td>\n",
       "      <td>curated</td>\n",
       "      <td>CC-BY 4.0</td>\n",
       "    </tr>\n",
       "    <tr>\n",
       "      <th>1</th>\n",
       "      <td>PR:000000092</td>\n",
       "      <td>NCBITaxon:344394</td>\n",
       "      <td>only_in_taxon</td>\n",
       "      <td>Protein Ontology</td>\n",
       "      <td>curated</td>\n",
       "      <td>CC-BY 4.0</td>\n",
       "    </tr>\n",
       "  </tbody>\n",
       "</table>\n",
       "</div>"
      ],
      "text/plain": [
       "       start_id             end_id           type            source dsrc_type  \\\n",
       "0  PR:000000092  NCBITaxon:1235003  only_in_taxon  Protein Ontology   curated   \n",
       "1  PR:000000092   NCBITaxon:344394  only_in_taxon  Protein Ontology   curated   \n",
       "\n",
       "     license  \n",
       "0  CC-BY 4.0  \n",
       "1  CC-BY 4.0  "
      ]
     },
     "execution_count": 42,
     "metadata": {},
     "output_type": "execute_result"
    }
   ],
   "source": [
    "pr_to_tax_edges = inf_proteins.rename(columns={'src_id': 'start_id', 'tax_id': 'end_id', 'rel_type': 'type'})\n",
    "\n",
    "pr_to_tax_edges = gt.order_cols(pr_to_tax_edges.drop(['src_name', 'tgt_id', 'tgt_name', 'src_src', 'tgt_src'], axis=1))\n",
    "pr_to_tax_edges.head(2)"
   ]
  },
  {
   "cell_type": "markdown",
   "metadata": {},
   "source": [
    "#### Separate the Protein Classes from the actual proteins with uniprot ids"
   ]
  },
  {
   "cell_type": "code",
   "execution_count": 43,
   "metadata": {},
   "outputs": [],
   "source": [
    "ok_pr_nodes['id_part'] = ok_pr_nodes['id'].str.split(':', expand=True)[1]"
   ]
  },
  {
   "cell_type": "code",
   "execution_count": 44,
   "metadata": {},
   "outputs": [
    {
     "data": {
      "text/html": [
       "<div>\n",
       "<style scoped>\n",
       "    .dataframe tbody tr th:only-of-type {\n",
       "        vertical-align: middle;\n",
       "    }\n",
       "\n",
       "    .dataframe tbody tr th {\n",
       "        vertical-align: top;\n",
       "    }\n",
       "\n",
       "    .dataframe thead th {\n",
       "        text-align: right;\n",
       "    }\n",
       "</style>\n",
       "<table border=\"1\" class=\"dataframe\">\n",
       "  <thead>\n",
       "    <tr style=\"text-align: right;\">\n",
       "      <th></th>\n",
       "      <th>id</th>\n",
       "      <th>name</th>\n",
       "      <th>def</th>\n",
       "      <th>alt_id</th>\n",
       "      <th>xref</th>\n",
       "      <th>replaced_by</th>\n",
       "      <th>is_obsolete</th>\n",
       "      <th>id_src</th>\n",
       "      <th>id_part</th>\n",
       "    </tr>\n",
       "  </thead>\n",
       "  <tbody>\n",
       "    <tr>\n",
       "      <th>72775</th>\n",
       "      <td>PR:000004384</td>\n",
       "      <td>tether containing UBX domain for GLUT4</td>\n",
       "      <td>\"A protein that is a translation product of th...</td>\n",
       "      <td>NaN</td>\n",
       "      <td>NaN</td>\n",
       "      <td>NaN</td>\n",
       "      <td>False</td>\n",
       "      <td>PR</td>\n",
       "      <td>000004384</td>\n",
       "    </tr>\n",
       "    <tr>\n",
       "      <th>114610</th>\n",
       "      <td>PR:000048756</td>\n",
       "      <td>phosphoglycerate kinase 1, initiator methionin...</td>\n",
       "      <td>\"A phosphoglycerate kinase 1 (human) that has ...</td>\n",
       "      <td>NaN</td>\n",
       "      <td>Reactome:R-HSA-70483 \"PR:000048756 located_in ...</td>\n",
       "      <td>NaN</td>\n",
       "      <td>False</td>\n",
       "      <td>PR</td>\n",
       "      <td>000048756</td>\n",
       "    </tr>\n",
       "    <tr>\n",
       "      <th>106552</th>\n",
       "      <td>PR:000040682</td>\n",
       "      <td>upstream stimulatory factor 2 isoform 1</td>\n",
       "      <td>\"An upstream stimulatory factor 2 that is a tr...</td>\n",
       "      <td>NaN</td>\n",
       "      <td>NaN</td>\n",
       "      <td>NaN</td>\n",
       "      <td>False</td>\n",
       "      <td>PR</td>\n",
       "      <td>000040682</td>\n",
       "    </tr>\n",
       "    <tr>\n",
       "      <th>84891</th>\n",
       "      <td>PR:000016616</td>\n",
       "      <td>trafficking protein particle complex subunit 5</td>\n",
       "      <td>\"A protein that is a translation product of th...</td>\n",
       "      <td>NaN</td>\n",
       "      <td>NaN</td>\n",
       "      <td>NaN</td>\n",
       "      <td>False</td>\n",
       "      <td>PR</td>\n",
       "      <td>000016616</td>\n",
       "    </tr>\n",
       "    <tr>\n",
       "      <th>89013</th>\n",
       "      <td>PR:000020752</td>\n",
       "      <td>NLR family member X1, transit peptide removed ...</td>\n",
       "      <td>\"An NLR family member X1 that has had the tran...</td>\n",
       "      <td>NaN</td>\n",
       "      <td>NaN</td>\n",
       "      <td>NaN</td>\n",
       "      <td>False</td>\n",
       "      <td>PR</td>\n",
       "      <td>000020752</td>\n",
       "    </tr>\n",
       "  </tbody>\n",
       "</table>\n",
       "</div>"
      ],
      "text/plain": [
       "                  id                                               name  \\\n",
       "72775   PR:000004384             tether containing UBX domain for GLUT4   \n",
       "114610  PR:000048756  phosphoglycerate kinase 1, initiator methionin...   \n",
       "106552  PR:000040682            upstream stimulatory factor 2 isoform 1   \n",
       "84891   PR:000016616     trafficking protein particle complex subunit 5   \n",
       "89013   PR:000020752  NLR family member X1, transit peptide removed ...   \n",
       "\n",
       "                                                      def alt_id  \\\n",
       "72775   \"A protein that is a translation product of th...    NaN   \n",
       "114610  \"A phosphoglycerate kinase 1 (human) that has ...    NaN   \n",
       "106552  \"An upstream stimulatory factor 2 that is a tr...    NaN   \n",
       "84891   \"A protein that is a translation product of th...    NaN   \n",
       "89013   \"An NLR family member X1 that has had the tran...    NaN   \n",
       "\n",
       "                                                     xref replaced_by  \\\n",
       "72775                                                 NaN         NaN   \n",
       "114610  Reactome:R-HSA-70483 \"PR:000048756 located_in ...         NaN   \n",
       "106552                                                NaN         NaN   \n",
       "84891                                                 NaN         NaN   \n",
       "89013                                                 NaN         NaN   \n",
       "\n",
       "        is_obsolete id_src    id_part  \n",
       "72775         False     PR  000004384  \n",
       "114610        False     PR  000048756  \n",
       "106552        False     PR  000040682  \n",
       "84891         False     PR  000016616  \n",
       "89013         False     PR  000020752  "
      ]
     },
     "execution_count": 44,
     "metadata": {},
     "output_type": "execute_result"
    }
   ],
   "source": [
    "pr_ids = ok_pr_nodes['id_part'].str.startswith('000')\n",
    "ok_pr_nodes[pr_ids].sample(5)"
   ]
  },
  {
   "cell_type": "code",
   "execution_count": 45,
   "metadata": {},
   "outputs": [],
   "source": [
    "other_ids = ok_pr_nodes[~pr_ids]['id'].unique()\n",
    "pr_ids = ok_pr_nodes[pr_ids]['id'].unique()"
   ]
  },
  {
   "cell_type": "markdown",
   "metadata": {},
   "source": [
    "Our network already has most of the IDs in Entrezgene space... so we need to map from uniprot to entrez"
   ]
  },
  {
   "cell_type": "code",
   "execution_count": 46,
   "metadata": {},
   "outputs": [
    {
     "data": {
      "text/html": [
       "<div>\n",
       "<style scoped>\n",
       "    .dataframe tbody tr th:only-of-type {\n",
       "        vertical-align: middle;\n",
       "    }\n",
       "\n",
       "    .dataframe tbody tr th {\n",
       "        vertical-align: top;\n",
       "    }\n",
       "\n",
       "    .dataframe thead th {\n",
       "        text-align: right;\n",
       "    }\n",
       "</style>\n",
       "<table border=\"1\" class=\"dataframe\">\n",
       "  <thead>\n",
       "    <tr style=\"text-align: right;\">\n",
       "      <th></th>\n",
       "      <th>src_id</th>\n",
       "      <th>src_name</th>\n",
       "      <th>rel_type</th>\n",
       "      <th>tgt_id</th>\n",
       "      <th>tgt_name</th>\n",
       "      <th>src_src</th>\n",
       "      <th>tgt_src</th>\n",
       "      <th>source</th>\n",
       "      <th>dsrc_type</th>\n",
       "      <th>license</th>\n",
       "      <th>tax_id</th>\n",
       "    </tr>\n",
       "  </thead>\n",
       "  <tbody>\n",
       "    <tr>\n",
       "      <th>373645</th>\n",
       "      <td>PR:P58397</td>\n",
       "      <td>a disintegrin and metalloproteinase with throm...</td>\n",
       "      <td>is_a</td>\n",
       "      <td>PR:000029067</td>\n",
       "      <td>Homo sapiens protein</td>\n",
       "      <td>PR</td>\n",
       "      <td>PR</td>\n",
       "      <td>Protein Ontology</td>\n",
       "      <td>curated</td>\n",
       "      <td>CC-BY 4.0</td>\n",
       "      <td>NaN</td>\n",
       "    </tr>\n",
       "    <tr>\n",
       "      <th>368533</th>\n",
       "      <td>PR:P54098</td>\n",
       "      <td>DNA polymerase subunit gamma-1 (human)</td>\n",
       "      <td>is_a</td>\n",
       "      <td>PR:000029067</td>\n",
       "      <td>Homo sapiens protein</td>\n",
       "      <td>PR</td>\n",
       "      <td>PR</td>\n",
       "      <td>Protein Ontology</td>\n",
       "      <td>curated</td>\n",
       "      <td>CC-BY 4.0</td>\n",
       "      <td>NaN</td>\n",
       "    </tr>\n",
       "    <tr>\n",
       "      <th>727016</th>\n",
       "      <td>PR:W5XKT8-1</td>\n",
       "      <td>sperm acrosome membrane-associated protein 6 i...</td>\n",
       "      <td>is_a</td>\n",
       "      <td>PR:W5XKT8</td>\n",
       "      <td>sperm acrosome membrane-associated protein 6 (...</td>\n",
       "      <td>PR</td>\n",
       "      <td>PR</td>\n",
       "      <td>Protein Ontology</td>\n",
       "      <td>curated</td>\n",
       "      <td>CC-BY 4.0</td>\n",
       "      <td>NaN</td>\n",
       "    </tr>\n",
       "    <tr>\n",
       "      <th>518396</th>\n",
       "      <td>PR:Q6W5P4-5</td>\n",
       "      <td>neuropeptide S receptor isoform h5 (human)</td>\n",
       "      <td>is_a</td>\n",
       "      <td>PR:Q6W5P4</td>\n",
       "      <td>neuropeptide S receptor (human)</td>\n",
       "      <td>PR</td>\n",
       "      <td>PR</td>\n",
       "      <td>Protein Ontology</td>\n",
       "      <td>curated</td>\n",
       "      <td>CC-BY 4.0</td>\n",
       "      <td>NaN</td>\n",
       "    </tr>\n",
       "    <tr>\n",
       "      <th>585175</th>\n",
       "      <td>PR:Q8TDQ1</td>\n",
       "      <td>CMRF35-like molecule 1 (human)</td>\n",
       "      <td>is_a</td>\n",
       "      <td>PR:000005168</td>\n",
       "      <td>CMRF35-like molecule 1</td>\n",
       "      <td>PR</td>\n",
       "      <td>PR</td>\n",
       "      <td>Protein Ontology</td>\n",
       "      <td>curated</td>\n",
       "      <td>CC-BY 4.0</td>\n",
       "      <td>NaN</td>\n",
       "    </tr>\n",
       "    <tr>\n",
       "      <th>232484</th>\n",
       "      <td>PR:E9PB15-1</td>\n",
       "      <td>protein PTGES3L isoform h1 (human)</td>\n",
       "      <td>is_a</td>\n",
       "      <td>PR:E9PB15</td>\n",
       "      <td>protein PTGES3L (human)</td>\n",
       "      <td>PR</td>\n",
       "      <td>PR</td>\n",
       "      <td>Protein Ontology</td>\n",
       "      <td>curated</td>\n",
       "      <td>CC-BY 4.0</td>\n",
       "      <td>NaN</td>\n",
       "    </tr>\n",
       "    <tr>\n",
       "      <th>250246</th>\n",
       "      <td>PR:O17388</td>\n",
       "      <td>F08F1.7 (worm)</td>\n",
       "      <td>is_a</td>\n",
       "      <td>PR:000016390</td>\n",
       "      <td>transmembrane 9 superfamily member 2</td>\n",
       "      <td>PR</td>\n",
       "      <td>PR</td>\n",
       "      <td>Protein Ontology</td>\n",
       "      <td>curated</td>\n",
       "      <td>CC-BY 4.0</td>\n",
       "      <td>NaN</td>\n",
       "    </tr>\n",
       "    <tr>\n",
       "      <th>420561</th>\n",
       "      <td>PR:Q14188-2</td>\n",
       "      <td>transcription factor Dp-2 isoform Beta (human)</td>\n",
       "      <td>is_a</td>\n",
       "      <td>PR:Q14188</td>\n",
       "      <td>transcription factor Dp-2 (human)</td>\n",
       "      <td>PR</td>\n",
       "      <td>PR</td>\n",
       "      <td>Protein Ontology</td>\n",
       "      <td>curated</td>\n",
       "      <td>CC-BY 4.0</td>\n",
       "      <td>NaN</td>\n",
       "    </tr>\n",
       "    <tr>\n",
       "      <th>517485</th>\n",
       "      <td>PR:Q6UX40-2</td>\n",
       "      <td>transmembrane protein 107 isoform h2 (human)</td>\n",
       "      <td>is_a</td>\n",
       "      <td>PR:Q6UX40</td>\n",
       "      <td>transmembrane protein 107 (human)</td>\n",
       "      <td>PR</td>\n",
       "      <td>PR</td>\n",
       "      <td>Protein Ontology</td>\n",
       "      <td>curated</td>\n",
       "      <td>CC-BY 4.0</td>\n",
       "      <td>NaN</td>\n",
       "    </tr>\n",
       "    <tr>\n",
       "      <th>353794</th>\n",
       "      <td>PR:P43686-1</td>\n",
       "      <td>26S proteasome regulatory subunit 6B isoform 1...</td>\n",
       "      <td>is_a</td>\n",
       "      <td>PR:P43686</td>\n",
       "      <td>26S proteasome regulatory subunit 6B (human)</td>\n",
       "      <td>PR</td>\n",
       "      <td>PR</td>\n",
       "      <td>Protein Ontology</td>\n",
       "      <td>curated</td>\n",
       "      <td>CC-BY 4.0</td>\n",
       "      <td>NaN</td>\n",
       "    </tr>\n",
       "  </tbody>\n",
       "</table>\n",
       "</div>"
      ],
      "text/plain": [
       "             src_id                                           src_name  \\\n",
       "373645    PR:P58397  a disintegrin and metalloproteinase with throm...   \n",
       "368533    PR:P54098             DNA polymerase subunit gamma-1 (human)   \n",
       "727016  PR:W5XKT8-1  sperm acrosome membrane-associated protein 6 i...   \n",
       "518396  PR:Q6W5P4-5         neuropeptide S receptor isoform h5 (human)   \n",
       "585175    PR:Q8TDQ1                     CMRF35-like molecule 1 (human)   \n",
       "232484  PR:E9PB15-1                 protein PTGES3L isoform h1 (human)   \n",
       "250246    PR:O17388                                     F08F1.7 (worm)   \n",
       "420561  PR:Q14188-2     transcription factor Dp-2 isoform Beta (human)   \n",
       "517485  PR:Q6UX40-2       transmembrane protein 107 isoform h2 (human)   \n",
       "353794  PR:P43686-1  26S proteasome regulatory subunit 6B isoform 1...   \n",
       "\n",
       "       rel_type        tgt_id  \\\n",
       "373645     is_a  PR:000029067   \n",
       "368533     is_a  PR:000029067   \n",
       "727016     is_a     PR:W5XKT8   \n",
       "518396     is_a     PR:Q6W5P4   \n",
       "585175     is_a  PR:000005168   \n",
       "232484     is_a     PR:E9PB15   \n",
       "250246     is_a  PR:000016390   \n",
       "420561     is_a     PR:Q14188   \n",
       "517485     is_a     PR:Q6UX40   \n",
       "353794     is_a     PR:P43686   \n",
       "\n",
       "                                                 tgt_name src_src tgt_src  \\\n",
       "373645                               Homo sapiens protein      PR      PR   \n",
       "368533                               Homo sapiens protein      PR      PR   \n",
       "727016  sperm acrosome membrane-associated protein 6 (...      PR      PR   \n",
       "518396                    neuropeptide S receptor (human)      PR      PR   \n",
       "585175                             CMRF35-like molecule 1      PR      PR   \n",
       "232484                            protein PTGES3L (human)      PR      PR   \n",
       "250246               transmembrane 9 superfamily member 2      PR      PR   \n",
       "420561                  transcription factor Dp-2 (human)      PR      PR   \n",
       "517485                  transmembrane protein 107 (human)      PR      PR   \n",
       "353794       26S proteasome regulatory subunit 6B (human)      PR      PR   \n",
       "\n",
       "                  source dsrc_type    license tax_id  \n",
       "373645  Protein Ontology   curated  CC-BY 4.0    NaN  \n",
       "368533  Protein Ontology   curated  CC-BY 4.0    NaN  \n",
       "727016  Protein Ontology   curated  CC-BY 4.0    NaN  \n",
       "518396  Protein Ontology   curated  CC-BY 4.0    NaN  \n",
       "585175  Protein Ontology   curated  CC-BY 4.0    NaN  \n",
       "232484  Protein Ontology   curated  CC-BY 4.0    NaN  \n",
       "250246  Protein Ontology   curated  CC-BY 4.0    NaN  \n",
       "420561  Protein Ontology   curated  CC-BY 4.0    NaN  \n",
       "517485  Protein Ontology   curated  CC-BY 4.0    NaN  \n",
       "353794  Protein Ontology   curated  CC-BY 4.0    NaN  "
      ]
     },
     "execution_count": 46,
     "metadata": {},
     "output_type": "execute_result"
    }
   ],
   "source": [
    "# These are the ids that we're going to need to map to entrezgene\n",
    "ok_pr_edges.query('src_id in @other_ids and rel_type == \"is_a\"').sample(10)"
   ]
  },
  {
   "cell_type": "code",
   "execution_count": 47,
   "metadata": {},
   "outputs": [
    {
     "data": {
      "text/plain": [
       "61443"
      ]
     },
     "execution_count": 47,
     "metadata": {},
     "output_type": "execute_result"
    }
   ],
   "source": [
    "to_query = [p.split(':')[1] for p in other_ids]\n",
    "len(to_query)"
   ]
  },
  {
   "cell_type": "code",
   "execution_count": 48,
   "metadata": {},
   "outputs": [
    {
     "data": {
      "text/plain": [
       "24534"
      ]
     },
     "execution_count": 48,
     "metadata": {},
     "output_type": "execute_result"
    }
   ],
   "source": [
    "to_query = set([q.split('-')[0] for q in to_query])\n",
    "len(to_query)"
   ]
  },
  {
   "cell_type": "code",
   "execution_count": 49,
   "metadata": {},
   "outputs": [
    {
     "data": {
      "text/plain": [
       "25490"
      ]
     },
     "execution_count": 49,
     "metadata": {},
     "output_type": "execute_result"
    }
   ],
   "source": [
    "mg = get_client('gene')\n",
    "qres = load_api_results(out_dir.joinpath('mg_pr_query_res_{}.pkl'), re_scrape=False, scrape_function=mg.querymany, qterms=to_query, \n",
    "                        scopes='uniprot,accession.protein', fields='entrezgene,name,taxid,symbol,uniprot',\n",
    "                        size=10)\n",
    "len(qres)"
   ]
  },
  {
   "cell_type": "code",
   "execution_count": 50,
   "metadata": {},
   "outputs": [
    {
     "data": {
      "text/plain": [
       "25490"
      ]
     },
     "execution_count": 50,
     "metadata": {},
     "output_type": "execute_result"
    }
   ],
   "source": [
    "import collections\n",
    "import six\n",
    "\n",
    "\n",
    "def iterable(arg):\n",
    "    return isinstance(arg, collections.Iterable) and not isinstance(arg, six.string_types)\n",
    "\n",
    "\n",
    "def process_inner(res, key, base_key):\n",
    "    new_key = base_key+'.'+key\n",
    "    new_key = new_key.lower().replace(' ', '_').replace('-', '_')\n",
    "\n",
    "    out = res.get(base_key, dict()).get(key)\n",
    "    if iterable(out):\n",
    "        out = '|'.join(out)\n",
    "    return new_key, out\n",
    "        \n",
    "\n",
    "\n",
    "for res in qres:\n",
    "    k, v = process_inner(res, 'Swiss-Prot', 'uniprot')\n",
    "    res[k] = v\n",
    "    k, v = process_inner(res, 'TrEMBL', 'uniprot')\n",
    "    res[k] = v\n",
    "\n",
    "df = pd.DataFrame(qres)\n",
    "df = df.drop('uniprot', axis=1)\n",
    "len(df)"
   ]
  },
  {
   "cell_type": "code",
   "execution_count": 51,
   "metadata": {},
   "outputs": [
    {
     "data": {
      "text/html": [
       "<div>\n",
       "<style scoped>\n",
       "    .dataframe tbody tr th:only-of-type {\n",
       "        vertical-align: middle;\n",
       "    }\n",
       "\n",
       "    .dataframe tbody tr th {\n",
       "        vertical-align: top;\n",
       "    }\n",
       "\n",
       "    .dataframe thead th {\n",
       "        text-align: right;\n",
       "    }\n",
       "</style>\n",
       "<table border=\"1\" class=\"dataframe\">\n",
       "  <thead>\n",
       "    <tr style=\"text-align: right;\">\n",
       "      <th></th>\n",
       "      <th>query</th>\n",
       "      <th>_id</th>\n",
       "      <th>_score</th>\n",
       "      <th>entrezgene</th>\n",
       "      <th>name</th>\n",
       "      <th>symbol</th>\n",
       "      <th>taxid</th>\n",
       "      <th>uniprot.swiss_prot</th>\n",
       "      <th>uniprot.trembl</th>\n",
       "      <th>notfound</th>\n",
       "    </tr>\n",
       "  </thead>\n",
       "  <tbody>\n",
       "    <tr>\n",
       "      <th>0</th>\n",
       "      <td>P34675</td>\n",
       "      <td>176108</td>\n",
       "      <td>12.694130</td>\n",
       "      <td>176108</td>\n",
       "      <td>Ubiquitin-like domain-containing protein</td>\n",
       "      <td>ZK688.5</td>\n",
       "      <td>6239.0</td>\n",
       "      <td>P34675</td>\n",
       "      <td>L8EC34|L8E805</td>\n",
       "      <td>NaN</td>\n",
       "    </tr>\n",
       "    <tr>\n",
       "      <th>1</th>\n",
       "      <td>Q4KMP7</td>\n",
       "      <td>26000</td>\n",
       "      <td>15.069444</td>\n",
       "      <td>26000</td>\n",
       "      <td>TBC1 domain family member 10B</td>\n",
       "      <td>TBC1D10B</td>\n",
       "      <td>9606.0</td>\n",
       "      <td>Q4KMP7</td>\n",
       "      <td>H3BSE1</td>\n",
       "      <td>NaN</td>\n",
       "    </tr>\n",
       "  </tbody>\n",
       "</table>\n",
       "</div>"
      ],
      "text/plain": [
       "    query     _id     _score entrezgene  \\\n",
       "0  P34675  176108  12.694130     176108   \n",
       "1  Q4KMP7   26000  15.069444      26000   \n",
       "\n",
       "                                       name    symbol   taxid  \\\n",
       "0  Ubiquitin-like domain-containing protein   ZK688.5  6239.0   \n",
       "1             TBC1 domain family member 10B  TBC1D10B  9606.0   \n",
       "\n",
       "  uniprot.swiss_prot uniprot.trembl notfound  \n",
       "0             P34675  L8EC34|L8E805      NaN  \n",
       "1             Q4KMP7         H3BSE1      NaN  "
      ]
     },
     "execution_count": 51,
     "metadata": {},
     "output_type": "execute_result"
    }
   ],
   "source": [
    "df.head(2)"
   ]
  },
  {
   "cell_type": "code",
   "execution_count": 52,
   "metadata": {},
   "outputs": [
    {
     "data": {
      "text/plain": [
       "query                 25490\n",
       "_id                   25065\n",
       "_score                25065\n",
       "entrezgene            24689\n",
       "name                  25065\n",
       "symbol                25065\n",
       "taxid                 25065\n",
       "uniprot.swiss_prot    23884\n",
       "uniprot.trembl        16160\n",
       "notfound                425\n",
       "dtype: int64"
      ]
     },
     "execution_count": 52,
     "metadata": {},
     "output_type": "execute_result"
    }
   ],
   "source": [
    "df.count()"
   ]
  },
  {
   "cell_type": "code",
   "execution_count": 53,
   "metadata": {},
   "outputs": [
    {
     "data": {
      "text/plain": [
       "query                 24534\n",
       "_id                   24827\n",
       "_score                 5743\n",
       "entrezgene            24451\n",
       "name                  23756\n",
       "symbol                24389\n",
       "taxid                    60\n",
       "uniprot.swiss_prot    23195\n",
       "uniprot.trembl        15870\n",
       "notfound                  1\n",
       "dtype: int64"
      ]
     },
     "execution_count": 53,
     "metadata": {},
     "output_type": "execute_result"
    }
   ],
   "source": [
    "df.nunique()"
   ]
  },
  {
   "cell_type": "code",
   "execution_count": 54,
   "metadata": {},
   "outputs": [
    {
     "data": {
      "text/plain": [
       "'Uniprot to entrez mapping success: 97.90%'"
      ]
     },
     "execution_count": 54,
     "metadata": {},
     "output_type": "execute_result"
    }
   ],
   "source": [
    "coverage = df.drop_duplicates(subset=['query'])['entrezgene'].nunique() / df['query'].nunique()\n",
    "\"Uniprot to entrez mapping success: {:3.2%}\".format(coverage)"
   ]
  },
  {
   "cell_type": "code",
   "execution_count": 55,
   "metadata": {},
   "outputs": [],
   "source": [
    "df['taxid'] = ('NCBITaxon:'+df['taxid'].fillna(0).astype(int).astype(str)).replace('NCBITaxon:0', float('nan'))"
   ]
  },
  {
   "cell_type": "code",
   "execution_count": 56,
   "metadata": {},
   "outputs": [
    {
     "data": {
      "text/html": [
       "<div>\n",
       "<style scoped>\n",
       "    .dataframe tbody tr th:only-of-type {\n",
       "        vertical-align: middle;\n",
       "    }\n",
       "\n",
       "    .dataframe tbody tr th {\n",
       "        vertical-align: top;\n",
       "    }\n",
       "\n",
       "    .dataframe thead th {\n",
       "        text-align: right;\n",
       "    }\n",
       "</style>\n",
       "<table border=\"1\" class=\"dataframe\">\n",
       "  <thead>\n",
       "    <tr style=\"text-align: right;\">\n",
       "      <th></th>\n",
       "      <th>query</th>\n",
       "      <th>entrezgene</th>\n",
       "      <th>name</th>\n",
       "      <th>xrefs</th>\n",
       "      <th>taxid</th>\n",
       "      <th>pr_id</th>\n",
       "    </tr>\n",
       "  </thead>\n",
       "  <tbody>\n",
       "    <tr>\n",
       "      <th>14036</th>\n",
       "      <td>Q8NEM2</td>\n",
       "      <td>NCBIGene:79801</td>\n",
       "      <td>SHC binding and spindle associated 1</td>\n",
       "      <td>SYM:SHCBP1|UniProt:Q8NEM2</td>\n",
       "      <td>NCBITaxon:9606</td>\n",
       "      <td>PR:Q8NEM2</td>\n",
       "    </tr>\n",
       "    <tr>\n",
       "      <th>23193</th>\n",
       "      <td>Q9UBE0</td>\n",
       "      <td>NCBIGene:10055</td>\n",
       "      <td>SUMO1 activating enzyme subunit 1</td>\n",
       "      <td>SYM:SAE1|UniProt:Q9UBE0</td>\n",
       "      <td>NCBITaxon:9606</td>\n",
       "      <td>PR:Q9UBE0</td>\n",
       "    </tr>\n",
       "    <tr>\n",
       "      <th>5940</th>\n",
       "      <td>P47736</td>\n",
       "      <td>NCBIGene:5909</td>\n",
       "      <td>RAP1 GTPase activating protein</td>\n",
       "      <td>SYM:RAP1GAP|UniProt:P47736</td>\n",
       "      <td>NCBITaxon:9606</td>\n",
       "      <td>PR:P47736</td>\n",
       "    </tr>\n",
       "    <tr>\n",
       "      <th>17768</th>\n",
       "      <td>P25713</td>\n",
       "      <td>NCBIGene:4504</td>\n",
       "      <td>metallothionein 3</td>\n",
       "      <td>SYM:MT3|UniProt:P25713</td>\n",
       "      <td>NCBITaxon:9606</td>\n",
       "      <td>PR:P25713</td>\n",
       "    </tr>\n",
       "    <tr>\n",
       "      <th>4463</th>\n",
       "      <td>P08294</td>\n",
       "      <td>NCBIGene:6649</td>\n",
       "      <td>superoxide dismutase 3</td>\n",
       "      <td>SYM:SOD3|UniProt:P08294</td>\n",
       "      <td>NCBITaxon:9606</td>\n",
       "      <td>PR:P08294</td>\n",
       "    </tr>\n",
       "    <tr>\n",
       "      <th>22387</th>\n",
       "      <td>Q8N339</td>\n",
       "      <td>NCBIGene:4499</td>\n",
       "      <td>metallothionein 1M</td>\n",
       "      <td>SYM:MT1M|UniProt:Q8N339</td>\n",
       "      <td>NCBITaxon:9606</td>\n",
       "      <td>PR:Q8N339</td>\n",
       "    </tr>\n",
       "    <tr>\n",
       "      <th>968</th>\n",
       "      <td>Q86VH2</td>\n",
       "      <td>NCBIGene:55582</td>\n",
       "      <td>kinesin family member 27</td>\n",
       "      <td>SYM:KIF27|UniProt:Q86VH2</td>\n",
       "      <td>NCBITaxon:9606</td>\n",
       "      <td>PR:Q86VH2</td>\n",
       "    </tr>\n",
       "    <tr>\n",
       "      <th>6341</th>\n",
       "      <td>Q9NXJ0</td>\n",
       "      <td>NCBIGene:54860</td>\n",
       "      <td>membrane spanning 4-domains A12</td>\n",
       "      <td>SYM:MS4A12|UniProt:Q9NXJ0</td>\n",
       "      <td>NCBITaxon:9606</td>\n",
       "      <td>PR:Q9NXJ0</td>\n",
       "    </tr>\n",
       "    <tr>\n",
       "      <th>24304</th>\n",
       "      <td>Q18616</td>\n",
       "      <td>NCBIGene:183453</td>\n",
       "      <td>Structural maintenance of chromosomes-like pro...</td>\n",
       "      <td>SYM:smcl-1|UniProt:Q18616</td>\n",
       "      <td>NCBITaxon:6239</td>\n",
       "      <td>PR:Q18616</td>\n",
       "    </tr>\n",
       "    <tr>\n",
       "      <th>20189</th>\n",
       "      <td>O00141</td>\n",
       "      <td>NCBIGene:6446</td>\n",
       "      <td>serum/glucocorticoid regulated kinase 1</td>\n",
       "      <td>SYM:SGK1|UniProt:O00141</td>\n",
       "      <td>NCBITaxon:9606</td>\n",
       "      <td>PR:O00141</td>\n",
       "    </tr>\n",
       "  </tbody>\n",
       "</table>\n",
       "</div>"
      ],
      "text/plain": [
       "        query       entrezgene  \\\n",
       "14036  Q8NEM2   NCBIGene:79801   \n",
       "23193  Q9UBE0   NCBIGene:10055   \n",
       "5940   P47736    NCBIGene:5909   \n",
       "17768  P25713    NCBIGene:4504   \n",
       "4463   P08294    NCBIGene:6649   \n",
       "22387  Q8N339    NCBIGene:4499   \n",
       "968    Q86VH2   NCBIGene:55582   \n",
       "6341   Q9NXJ0   NCBIGene:54860   \n",
       "24304  Q18616  NCBIGene:183453   \n",
       "20189  O00141    NCBIGene:6446   \n",
       "\n",
       "                                                    name  \\\n",
       "14036               SHC binding and spindle associated 1   \n",
       "23193                  SUMO1 activating enzyme subunit 1   \n",
       "5940                      RAP1 GTPase activating protein   \n",
       "17768                                  metallothionein 3   \n",
       "4463                              superoxide dismutase 3   \n",
       "22387                                 metallothionein 1M   \n",
       "968                             kinesin family member 27   \n",
       "6341                     membrane spanning 4-domains A12   \n",
       "24304  Structural maintenance of chromosomes-like pro...   \n",
       "20189            serum/glucocorticoid regulated kinase 1   \n",
       "\n",
       "                            xrefs           taxid      pr_id  \n",
       "14036   SYM:SHCBP1|UniProt:Q8NEM2  NCBITaxon:9606  PR:Q8NEM2  \n",
       "23193     SYM:SAE1|UniProt:Q9UBE0  NCBITaxon:9606  PR:Q9UBE0  \n",
       "5940   SYM:RAP1GAP|UniProt:P47736  NCBITaxon:9606  PR:P47736  \n",
       "17768      SYM:MT3|UniProt:P25713  NCBITaxon:9606  PR:P25713  \n",
       "4463      SYM:SOD3|UniProt:P08294  NCBITaxon:9606  PR:P08294  \n",
       "22387     SYM:MT1M|UniProt:Q8N339  NCBITaxon:9606  PR:Q8N339  \n",
       "968      SYM:KIF27|UniProt:Q86VH2  NCBITaxon:9606  PR:Q86VH2  \n",
       "6341    SYM:MS4A12|UniProt:Q9NXJ0  NCBITaxon:9606  PR:Q9NXJ0  \n",
       "24304   SYM:smcl-1|UniProt:Q18616  NCBITaxon:6239  PR:Q18616  \n",
       "20189     SYM:SGK1|UniProt:O00141  NCBITaxon:9606  PR:O00141  "
      ]
     },
     "execution_count": 56,
     "metadata": {},
     "output_type": "execute_result"
    }
   ],
   "source": [
    "# Git rid of failed Queries\n",
    "uni_to_entrez = df.dropna(subset=['entrezgene']).reset_index(drop=True)\n",
    "# Combine the uniprot id and symbol as a xref\n",
    "uni_to_entrez['xrefs'] = 'SYM:' + uni_to_entrez['symbol'] + '|' + 'UniProt:' + uni_to_entrez['query']\n",
    "# Keep the columns we care about\n",
    "uni_to_entrez = uni_to_entrez[['query', 'entrezgene', 'name', 'xrefs', 'taxid']].reset_index(drop=True)\n",
    "\n",
    "# Add back CURIs for integration\n",
    "uni_to_entrez['entrezgene'] = 'NCBIGene:' + uni_to_entrez['entrezgene']\n",
    "uni_to_entrez['pr_id'] = 'PR:' + uni_to_entrez['query']\n",
    "\n",
    "uni_to_entrez.sample(10)"
   ]
  },
  {
   "cell_type": "markdown",
   "metadata": {},
   "source": [
    "Some of these may already exist in our network as UniProt IDs.  Lets make sure and if they do, convert them to EntrezGene for a more consistent identifer source"
   ]
  },
  {
   "cell_type": "code",
   "execution_count": 57,
   "metadata": {},
   "outputs": [],
   "source": [
    "uni_to_entrez['uni_id'] = 'UniProt:'+uni_to_entrez['query']\n",
    "uni_to_entrez['label'] = 'Gene'"
   ]
  },
  {
   "cell_type": "code",
   "execution_count": 58,
   "metadata": {},
   "outputs": [],
   "source": [
    "nodes = gt.re_id_nodes(nodes, uni_to_entrez, 'uni_id', 'entrezgene')\n",
    "edges = gt.re_id_edges(edges, uni_to_entrez[['uni_id', 'entrezgene']])"
   ]
  },
  {
   "cell_type": "code",
   "execution_count": 59,
   "metadata": {},
   "outputs": [],
   "source": [
    "nodes = combine_group_cols_on_char(nodes, ['id'], ['xrefs'], sort=True, prog=False)"
   ]
  },
  {
   "cell_type": "code",
   "execution_count": 60,
   "metadata": {},
   "outputs": [],
   "source": [
    "node_ids = nodes['id'].unique()"
   ]
  },
  {
   "cell_type": "code",
   "execution_count": 61,
   "metadata": {},
   "outputs": [
    {
     "data": {
      "text/plain": [
       "0"
      ]
     },
     "execution_count": 61,
     "metadata": {},
     "output_type": "execute_result"
    }
   ],
   "source": [
    "nodes['id'].isnull().sum()"
   ]
  },
  {
   "cell_type": "markdown",
   "metadata": {},
   "source": [
    "## is_a from PR to entrez"
   ]
  },
  {
   "cell_type": "code",
   "execution_count": 62,
   "metadata": {},
   "outputs": [
    {
     "data": {
      "text/plain": [
       "24647"
      ]
     },
     "execution_count": 62,
     "metadata": {},
     "output_type": "execute_result"
    }
   ],
   "source": [
    "ok_pr_edges.query('rel_type == \"is_a\" and src_id in @other_ids and tgt_id in @pr_ids')['tgt_name'].nunique()"
   ]
  },
  {
   "cell_type": "code",
   "execution_count": 63,
   "metadata": {},
   "outputs": [
    {
     "data": {
      "text/html": [
       "<div>\n",
       "<style scoped>\n",
       "    .dataframe tbody tr th:only-of-type {\n",
       "        vertical-align: middle;\n",
       "    }\n",
       "\n",
       "    .dataframe tbody tr th {\n",
       "        vertical-align: top;\n",
       "    }\n",
       "\n",
       "    .dataframe thead th {\n",
       "        text-align: right;\n",
       "    }\n",
       "</style>\n",
       "<table border=\"1\" class=\"dataframe\">\n",
       "  <thead>\n",
       "    <tr style=\"text-align: right;\">\n",
       "      <th></th>\n",
       "      <th>src_id</th>\n",
       "      <th>src_name</th>\n",
       "      <th>rel_type</th>\n",
       "      <th>tgt_id</th>\n",
       "      <th>tgt_name</th>\n",
       "      <th>src_src</th>\n",
       "      <th>tgt_src</th>\n",
       "      <th>source</th>\n",
       "      <th>dsrc_type</th>\n",
       "      <th>license</th>\n",
       "      <th>tax_id</th>\n",
       "    </tr>\n",
       "  </thead>\n",
       "  <tbody>\n",
       "    <tr>\n",
       "      <th>576881</th>\n",
       "      <td>PR:Q8NGH7</td>\n",
       "      <td>olfactory receptor 52L1 (human)</td>\n",
       "      <td>is_a</td>\n",
       "      <td>PR:000011896</td>\n",
       "      <td>olfactory receptor 52L1</td>\n",
       "      <td>PR</td>\n",
       "      <td>PR</td>\n",
       "      <td>Protein Ontology</td>\n",
       "      <td>curated</td>\n",
       "      <td>CC-BY 4.0</td>\n",
       "      <td>NaN</td>\n",
       "    </tr>\n",
       "    <tr>\n",
       "      <th>613339</th>\n",
       "      <td>PR:Q96L46</td>\n",
       "      <td>calpain small subunit 2 (human)</td>\n",
       "      <td>is_a</td>\n",
       "      <td>PR:000005023</td>\n",
       "      <td>calpain small subunit 2</td>\n",
       "      <td>PR</td>\n",
       "      <td>PR</td>\n",
       "      <td>Protein Ontology</td>\n",
       "      <td>curated</td>\n",
       "      <td>CC-BY 4.0</td>\n",
       "      <td>NaN</td>\n",
       "    </tr>\n",
       "    <tr>\n",
       "      <th>257525</th>\n",
       "      <td>PR:O43790</td>\n",
       "      <td>keratin, type II cuticular Hb6 (human)</td>\n",
       "      <td>is_a</td>\n",
       "      <td>PR:000029067</td>\n",
       "      <td>Homo sapiens protein</td>\n",
       "      <td>PR</td>\n",
       "      <td>PR</td>\n",
       "      <td>Protein Ontology</td>\n",
       "      <td>curated</td>\n",
       "      <td>CC-BY 4.0</td>\n",
       "      <td>NaN</td>\n",
       "    </tr>\n",
       "    <tr>\n",
       "      <th>358269</th>\n",
       "      <td>PR:P48509</td>\n",
       "      <td>CD151 antigen (human)</td>\n",
       "      <td>is_a</td>\n",
       "      <td>PR:000005158</td>\n",
       "      <td>CD151 molecule</td>\n",
       "      <td>PR</td>\n",
       "      <td>PR</td>\n",
       "      <td>Protein Ontology</td>\n",
       "      <td>curated</td>\n",
       "      <td>CC-BY 4.0</td>\n",
       "      <td>NaN</td>\n",
       "    </tr>\n",
       "    <tr>\n",
       "      <th>357116</th>\n",
       "      <td>PR:P47884</td>\n",
       "      <td>olfactory receptor 1D4 (human)</td>\n",
       "      <td>is_a</td>\n",
       "      <td>PR:000029067</td>\n",
       "      <td>Homo sapiens protein</td>\n",
       "      <td>PR</td>\n",
       "      <td>PR</td>\n",
       "      <td>Protein Ontology</td>\n",
       "      <td>curated</td>\n",
       "      <td>CC-BY 4.0</td>\n",
       "      <td>NaN</td>\n",
       "    </tr>\n",
       "    <tr>\n",
       "      <th>351529</th>\n",
       "      <td>PR:P42357-1</td>\n",
       "      <td>histidine ammonia-lyase isoform 1 (human)</td>\n",
       "      <td>is_a</td>\n",
       "      <td>PR:000039439</td>\n",
       "      <td>histidine ammonia-lyase isoform 1</td>\n",
       "      <td>PR</td>\n",
       "      <td>PR</td>\n",
       "      <td>Protein Ontology</td>\n",
       "      <td>curated</td>\n",
       "      <td>CC-BY 4.0</td>\n",
       "      <td>NaN</td>\n",
       "    </tr>\n",
       "    <tr>\n",
       "      <th>257629</th>\n",
       "      <td>PR:O43825</td>\n",
       "      <td>beta-1,3-galactosyltransferase 2 (human)</td>\n",
       "      <td>is_a</td>\n",
       "      <td>PR:000004584</td>\n",
       "      <td>beta-1,3-galactosyltransferase 2</td>\n",
       "      <td>PR</td>\n",
       "      <td>PR</td>\n",
       "      <td>Protein Ontology</td>\n",
       "      <td>curated</td>\n",
       "      <td>CC-BY 4.0</td>\n",
       "      <td>NaN</td>\n",
       "    </tr>\n",
       "    <tr>\n",
       "      <th>521024</th>\n",
       "      <td>PR:Q6ZUI0</td>\n",
       "      <td>tumor protein p63-regulated gene 1 protein (hu...</td>\n",
       "      <td>is_a</td>\n",
       "      <td>PR:000016589</td>\n",
       "      <td>tumor protein p63-regulated gene 1 protein</td>\n",
       "      <td>PR</td>\n",
       "      <td>PR</td>\n",
       "      <td>Protein Ontology</td>\n",
       "      <td>curated</td>\n",
       "      <td>CC-BY 4.0</td>\n",
       "      <td>NaN</td>\n",
       "    </tr>\n",
       "    <tr>\n",
       "      <th>250177</th>\n",
       "      <td>PR:O17087</td>\n",
       "      <td>poly(A) RNA polymerase gld-2 (worm)</td>\n",
       "      <td>is_a</td>\n",
       "      <td>PR:000012263</td>\n",
       "      <td>poly(A) RNA polymerase GLD2</td>\n",
       "      <td>PR</td>\n",
       "      <td>PR</td>\n",
       "      <td>Protein Ontology</td>\n",
       "      <td>curated</td>\n",
       "      <td>CC-BY 4.0</td>\n",
       "      <td>NaN</td>\n",
       "    </tr>\n",
       "    <tr>\n",
       "      <th>601438</th>\n",
       "      <td>PR:Q92626</td>\n",
       "      <td>peroxidasin homolog (human)</td>\n",
       "      <td>is_a</td>\n",
       "      <td>PR:000029067</td>\n",
       "      <td>Homo sapiens protein</td>\n",
       "      <td>PR</td>\n",
       "      <td>PR</td>\n",
       "      <td>Protein Ontology</td>\n",
       "      <td>curated</td>\n",
       "      <td>CC-BY 4.0</td>\n",
       "      <td>NaN</td>\n",
       "    </tr>\n",
       "  </tbody>\n",
       "</table>\n",
       "</div>"
      ],
      "text/plain": [
       "             src_id                                           src_name  \\\n",
       "576881    PR:Q8NGH7                    olfactory receptor 52L1 (human)   \n",
       "613339    PR:Q96L46                    calpain small subunit 2 (human)   \n",
       "257525    PR:O43790             keratin, type II cuticular Hb6 (human)   \n",
       "358269    PR:P48509                              CD151 antigen (human)   \n",
       "357116    PR:P47884                     olfactory receptor 1D4 (human)   \n",
       "351529  PR:P42357-1          histidine ammonia-lyase isoform 1 (human)   \n",
       "257629    PR:O43825           beta-1,3-galactosyltransferase 2 (human)   \n",
       "521024    PR:Q6ZUI0  tumor protein p63-regulated gene 1 protein (hu...   \n",
       "250177    PR:O17087                poly(A) RNA polymerase gld-2 (worm)   \n",
       "601438    PR:Q92626                        peroxidasin homolog (human)   \n",
       "\n",
       "       rel_type        tgt_id                                    tgt_name  \\\n",
       "576881     is_a  PR:000011896                     olfactory receptor 52L1   \n",
       "613339     is_a  PR:000005023                     calpain small subunit 2   \n",
       "257525     is_a  PR:000029067                        Homo sapiens protein   \n",
       "358269     is_a  PR:000005158                              CD151 molecule   \n",
       "357116     is_a  PR:000029067                        Homo sapiens protein   \n",
       "351529     is_a  PR:000039439           histidine ammonia-lyase isoform 1   \n",
       "257629     is_a  PR:000004584            beta-1,3-galactosyltransferase 2   \n",
       "521024     is_a  PR:000016589  tumor protein p63-regulated gene 1 protein   \n",
       "250177     is_a  PR:000012263                 poly(A) RNA polymerase GLD2   \n",
       "601438     is_a  PR:000029067                        Homo sapiens protein   \n",
       "\n",
       "       src_src tgt_src            source dsrc_type    license tax_id  \n",
       "576881      PR      PR  Protein Ontology   curated  CC-BY 4.0    NaN  \n",
       "613339      PR      PR  Protein Ontology   curated  CC-BY 4.0    NaN  \n",
       "257525      PR      PR  Protein Ontology   curated  CC-BY 4.0    NaN  \n",
       "358269      PR      PR  Protein Ontology   curated  CC-BY 4.0    NaN  \n",
       "357116      PR      PR  Protein Ontology   curated  CC-BY 4.0    NaN  \n",
       "351529      PR      PR  Protein Ontology   curated  CC-BY 4.0    NaN  \n",
       "257629      PR      PR  Protein Ontology   curated  CC-BY 4.0    NaN  \n",
       "521024      PR      PR  Protein Ontology   curated  CC-BY 4.0    NaN  \n",
       "250177      PR      PR  Protein Ontology   curated  CC-BY 4.0    NaN  \n",
       "601438      PR      PR  Protein Ontology   curated  CC-BY 4.0    NaN  "
      ]
     },
     "execution_count": 63,
     "metadata": {},
     "output_type": "execute_result"
    }
   ],
   "source": [
    "uniprot_to_pr = ok_pr_edges.query('rel_type == \"is_a\" and src_id in @other_ids and tgt_id in @pr_ids').copy()\n",
    "uniprot_to_pr.sample(10)"
   ]
  },
  {
   "cell_type": "markdown",
   "metadata": {},
   "source": [
    "# CL to PR\n",
    "\n",
    "Now that we have a map from upper PR terms to actual entrez ids, time to map some of these intertology edges, starting with CL"
   ]
  },
  {
   "cell_type": "code",
   "execution_count": 64,
   "metadata": {},
   "outputs": [],
   "source": [
    "def combine_two_onto_edges(onto1, onto2, src_src, tgt_src, common_cols=True):\n",
    "    \n",
    "    # Query for the source an target, concatenate, drop the duplicates.\n",
    "    out = pd.concat([onto1.query('src_src == @src_src and tgt_src == @tgt_src'),\n",
    "                      onto2.query('src_src == @src_src and tgt_src == @tgt_src')],\n",
    "                      ignore_index=True, sort=False).drop_duplicates(subset=['src_id', 'tgt_id', 'rel_type'])\n",
    "    \n",
    "    if common_cols:\n",
    "        cols = min([onto1.columns, onto2.columns], key=len)\n",
    "        out = out[cols]\n",
    "    \n",
    "    return out\n",
    "\n",
    "def edge_rename(edges, **kwargs):\n",
    "    # Standard rename from ontology edges to hetnet edges\n",
    "    rename_map = {'src_id': 'start_id', 'tgt_id': 'end_id', 'rel_type': 'type'}\n",
    "    # Update with userdefined inputs\n",
    "    rename_map.update(kwargs)\n",
    "    return gt.order_cols(edges.rename(columns=rename_map))\n"
   ]
  },
  {
   "cell_type": "code",
   "execution_count": 65,
   "metadata": {},
   "outputs": [
    {
     "data": {
      "text/html": [
       "<div>\n",
       "<style scoped>\n",
       "    .dataframe tbody tr th:only-of-type {\n",
       "        vertical-align: middle;\n",
       "    }\n",
       "\n",
       "    .dataframe tbody tr th {\n",
       "        vertical-align: top;\n",
       "    }\n",
       "\n",
       "    .dataframe thead th {\n",
       "        text-align: right;\n",
       "    }\n",
       "</style>\n",
       "<table border=\"1\" class=\"dataframe\">\n",
       "  <thead>\n",
       "    <tr style=\"text-align: right;\">\n",
       "      <th></th>\n",
       "      <th>src_id</th>\n",
       "      <th>src_name</th>\n",
       "      <th>rel_type</th>\n",
       "      <th>tgt_id</th>\n",
       "      <th>tgt_name</th>\n",
       "      <th>src_src</th>\n",
       "      <th>tgt_src</th>\n",
       "      <th>source</th>\n",
       "      <th>dsrc_type</th>\n",
       "      <th>license</th>\n",
       "    </tr>\n",
       "  </thead>\n",
       "  <tbody>\n",
       "    <tr>\n",
       "      <th>0</th>\n",
       "      <td>BFO:0000002</td>\n",
       "      <td>continuant</td>\n",
       "      <td>part_of</td>\n",
       "      <td>BFO:0000002</td>\n",
       "      <td>continuant</td>\n",
       "      <td>BFO</td>\n",
       "      <td>BFO</td>\n",
       "      <td>Cell Ontology</td>\n",
       "      <td>curated</td>\n",
       "      <td>CC-BY 4.0</td>\n",
       "    </tr>\n",
       "    <tr>\n",
       "      <th>1</th>\n",
       "      <td>BFO:0000003</td>\n",
       "      <td>occurrent</td>\n",
       "      <td>part_of</td>\n",
       "      <td>BFO:0000003</td>\n",
       "      <td>occurrent</td>\n",
       "      <td>BFO</td>\n",
       "      <td>BFO</td>\n",
       "      <td>Cell Ontology</td>\n",
       "      <td>curated</td>\n",
       "      <td>CC-BY 4.0</td>\n",
       "    </tr>\n",
       "  </tbody>\n",
       "</table>\n",
       "</div>"
      ],
      "text/plain": [
       "        src_id    src_name rel_type       tgt_id    tgt_name src_src tgt_src  \\\n",
       "0  BFO:0000002  continuant  part_of  BFO:0000002  continuant     BFO     BFO   \n",
       "1  BFO:0000003   occurrent  part_of  BFO:0000003   occurrent     BFO     BFO   \n",
       "\n",
       "          source dsrc_type    license  \n",
       "0  Cell Ontology   curated  CC-BY 4.0  \n",
       "1  Cell Ontology   curated  CC-BY 4.0  "
      ]
     },
     "execution_count": 65,
     "metadata": {},
     "output_type": "execute_result"
    }
   ],
   "source": [
    "cl_edges.head(2)"
   ]
  },
  {
   "cell_type": "code",
   "execution_count": 66,
   "metadata": {},
   "outputs": [],
   "source": [
    "# Get a map from a given cl node to all its children\n",
    "cl_map = ot.get_children_map(cl_edges)"
   ]
  },
  {
   "cell_type": "code",
   "execution_count": 67,
   "metadata": {},
   "outputs": [
    {
     "data": {
      "text/plain": [
       "{'PR:000002023', 'PR:P26715'}"
      ]
     },
     "execution_count": 67,
     "metadata": {},
     "output_type": "execute_result"
    }
   ],
   "source": [
    "# Some PR relationships are in cl...\n",
    "cl_map['PR:000001897']"
   ]
  },
  {
   "cell_type": "code",
   "execution_count": 68,
   "metadata": {},
   "outputs": [],
   "source": [
    "pr_map = ot.get_children_map(ok_pr_edges)"
   ]
  },
  {
   "cell_type": "code",
   "execution_count": 69,
   "metadata": {},
   "outputs": [
    {
     "name": "stdout",
     "output_type": "stream",
     "text": [
      "1142\n"
     ]
    }
   ],
   "source": [
    "cl_to_pr = combine_two_onto_edges(cl_edges, ok_pr_edges, 'CL', 'PR')\n",
    "print(len(cl_to_pr))\n",
    "cl_to_pr['tgt_child'] = cl_to_pr['tgt_id'].map(pr_map).apply(list)\n",
    "cl_to_pr = expand_df_on_col(cl_to_pr, 'tgt_child').dropna(subset=['tgt_child'])"
   ]
  },
  {
   "cell_type": "code",
   "execution_count": 70,
   "metadata": {},
   "outputs": [
    {
     "data": {
      "text/plain": [
       "166"
      ]
     },
     "execution_count": 70,
     "metadata": {},
     "output_type": "execute_result"
    }
   ],
   "source": [
    "pr_in_cl = cl_to_pr['tgt_id'].unique()\n",
    "len(pr_in_cl)"
   ]
  },
  {
   "cell_type": "code",
   "execution_count": 71,
   "metadata": {},
   "outputs": [
    {
     "data": {
      "text/plain": [
       "166"
      ]
     },
     "execution_count": 71,
     "metadata": {},
     "output_type": "execute_result"
    }
   ],
   "source": [
    "len([p for p in pr_in_cl if p.startswith('PR:000')])"
   ]
  },
  {
   "cell_type": "markdown",
   "metadata": {},
   "source": [
    "Small number of unique protiens... however these represent classes... Need to map to the Uniprot IDS (which we now have mapped to entrez)"
   ]
  },
  {
   "cell_type": "code",
   "execution_count": 72,
   "metadata": {},
   "outputs": [
    {
     "data": {
      "text/html": [
       "<div>\n",
       "<style scoped>\n",
       "    .dataframe tbody tr th:only-of-type {\n",
       "        vertical-align: middle;\n",
       "    }\n",
       "\n",
       "    .dataframe tbody tr th {\n",
       "        vertical-align: top;\n",
       "    }\n",
       "\n",
       "    .dataframe thead th {\n",
       "        text-align: right;\n",
       "    }\n",
       "</style>\n",
       "<table border=\"1\" class=\"dataframe\">\n",
       "  <thead>\n",
       "    <tr style=\"text-align: right;\">\n",
       "      <th></th>\n",
       "      <th>pr</th>\n",
       "      <th>uniprot</th>\n",
       "    </tr>\n",
       "  </thead>\n",
       "  <tbody>\n",
       "    <tr>\n",
       "      <th>404</th>\n",
       "      <td>PR:000001300</td>\n",
       "      <td>PR:Q9NNX6-3</td>\n",
       "    </tr>\n",
       "    <tr>\n",
       "      <th>277</th>\n",
       "      <td>PR:000001381</td>\n",
       "      <td>PR:P14784</td>\n",
       "    </tr>\n",
       "    <tr>\n",
       "      <th>320</th>\n",
       "      <td>PR:000001806</td>\n",
       "      <td>PR:Q6EIG7-2</td>\n",
       "    </tr>\n",
       "    <tr>\n",
       "      <th>122</th>\n",
       "      <td>PR:000010543</td>\n",
       "      <td>PR:P05164-3</td>\n",
       "    </tr>\n",
       "    <tr>\n",
       "      <th>53</th>\n",
       "      <td>PR:000010799</td>\n",
       "      <td>PR:P10242-4</td>\n",
       "    </tr>\n",
       "  </tbody>\n",
       "</table>\n",
       "</div>"
      ],
      "text/plain": [
       "               pr      uniprot\n",
       "404  PR:000001300  PR:Q9NNX6-3\n",
       "277  PR:000001381    PR:P14784\n",
       "320  PR:000001806  PR:Q6EIG7-2\n",
       "122  PR:000010543  PR:P05164-3\n",
       "53   PR:000010799  PR:P10242-4"
      ]
     },
     "execution_count": 72,
     "metadata": {},
     "output_type": "execute_result"
    }
   ],
   "source": [
    "cur_pr_ids = []\n",
    "cur_uniprot_ids = []\n",
    "\n",
    "for pr_id in pr_in_cl:\n",
    "    childs = pr_map[pr_id]\n",
    "    for uni_id in childs & set(other_ids):\n",
    "        cur_pr_ids.append(pr_id)\n",
    "        cur_uniprot_ids.append(uni_id)\n",
    "p2u_for_cl = pd.DataFrame({'pr': cur_pr_ids, 'uniprot': cur_uniprot_ids})\n",
    "p2u_for_cl.sample(5)"
   ]
  },
  {
   "cell_type": "code",
   "execution_count": 73,
   "metadata": {},
   "outputs": [
    {
     "data": {
      "text/html": [
       "<div>\n",
       "<style scoped>\n",
       "    .dataframe tbody tr th:only-of-type {\n",
       "        vertical-align: middle;\n",
       "    }\n",
       "\n",
       "    .dataframe tbody tr th {\n",
       "        vertical-align: top;\n",
       "    }\n",
       "\n",
       "    .dataframe thead th {\n",
       "        text-align: right;\n",
       "    }\n",
       "</style>\n",
       "<table border=\"1\" class=\"dataframe\">\n",
       "  <thead>\n",
       "    <tr style=\"text-align: right;\">\n",
       "      <th></th>\n",
       "      <th>src_id</th>\n",
       "      <th>src_name</th>\n",
       "      <th>rel_type</th>\n",
       "      <th>tgt_id</th>\n",
       "      <th>tgt_name</th>\n",
       "      <th>src_src</th>\n",
       "      <th>tgt_src</th>\n",
       "      <th>source</th>\n",
       "      <th>dsrc_type</th>\n",
       "      <th>license</th>\n",
       "      <th>tgt_child</th>\n",
       "      <th>pr</th>\n",
       "      <th>uniprot</th>\n",
       "    </tr>\n",
       "  </thead>\n",
       "  <tbody>\n",
       "    <tr>\n",
       "      <th>0</th>\n",
       "      <td>CL:0000037</td>\n",
       "      <td>hematopoietic stem cell</td>\n",
       "      <td>lacks_plasma_membrane_part</td>\n",
       "      <td>PR:000001002</td>\n",
       "      <td>CD19 molecule</td>\n",
       "      <td>CL</td>\n",
       "      <td>PR</td>\n",
       "      <td>Cell Ontology</td>\n",
       "      <td>curated</td>\n",
       "      <td>CC-BY 4.0</td>\n",
       "      <td>PR:000046612</td>\n",
       "      <td>PR:000001002</td>\n",
       "      <td>PR:P15391-2</td>\n",
       "    </tr>\n",
       "    <tr>\n",
       "      <th>1</th>\n",
       "      <td>CL:0000037</td>\n",
       "      <td>hematopoietic stem cell</td>\n",
       "      <td>lacks_plasma_membrane_part</td>\n",
       "      <td>PR:000001002</td>\n",
       "      <td>CD19 molecule</td>\n",
       "      <td>CL</td>\n",
       "      <td>PR</td>\n",
       "      <td>Cell Ontology</td>\n",
       "      <td>curated</td>\n",
       "      <td>CC-BY 4.0</td>\n",
       "      <td>PR:000046612</td>\n",
       "      <td>PR:000001002</td>\n",
       "      <td>PR:P15391</td>\n",
       "    </tr>\n",
       "  </tbody>\n",
       "</table>\n",
       "</div>"
      ],
      "text/plain": [
       "       src_id                 src_name                    rel_type  \\\n",
       "0  CL:0000037  hematopoietic stem cell  lacks_plasma_membrane_part   \n",
       "1  CL:0000037  hematopoietic stem cell  lacks_plasma_membrane_part   \n",
       "\n",
       "         tgt_id       tgt_name src_src tgt_src         source dsrc_type  \\\n",
       "0  PR:000001002  CD19 molecule      CL      PR  Cell Ontology   curated   \n",
       "1  PR:000001002  CD19 molecule      CL      PR  Cell Ontology   curated   \n",
       "\n",
       "     license     tgt_child            pr      uniprot  \n",
       "0  CC-BY 4.0  PR:000046612  PR:000001002  PR:P15391-2  \n",
       "1  CC-BY 4.0  PR:000046612  PR:000001002    PR:P15391  "
      ]
     },
     "execution_count": 73,
     "metadata": {},
     "output_type": "execute_result"
    }
   ],
   "source": [
    "cl_to_pr = cl_to_pr.merge(p2u_for_cl, how='inner', left_on='tgt_id', right_on='pr')\n",
    "cl_to_pr.head(2)"
   ]
  },
  {
   "cell_type": "markdown",
   "metadata": {},
   "source": [
    "Those dashes after a uniqrot id represent isoforms.. however those are not represented in entrez, so we will remove them"
   ]
  },
  {
   "cell_type": "code",
   "execution_count": 74,
   "metadata": {},
   "outputs": [
    {
     "data": {
      "text/html": [
       "<div>\n",
       "<style scoped>\n",
       "    .dataframe tbody tr th:only-of-type {\n",
       "        vertical-align: middle;\n",
       "    }\n",
       "\n",
       "    .dataframe tbody tr th {\n",
       "        vertical-align: top;\n",
       "    }\n",
       "\n",
       "    .dataframe thead th {\n",
       "        text-align: right;\n",
       "    }\n",
       "</style>\n",
       "<table border=\"1\" class=\"dataframe\">\n",
       "  <thead>\n",
       "    <tr style=\"text-align: right;\">\n",
       "      <th></th>\n",
       "      <th>src_id</th>\n",
       "      <th>src_name</th>\n",
       "      <th>rel_type</th>\n",
       "      <th>tgt_id</th>\n",
       "      <th>tgt_name</th>\n",
       "      <th>src_src</th>\n",
       "      <th>tgt_src</th>\n",
       "      <th>source</th>\n",
       "      <th>dsrc_type</th>\n",
       "      <th>license</th>\n",
       "      <th>tgt_child</th>\n",
       "      <th>pr</th>\n",
       "      <th>uniprot</th>\n",
       "      <th>uniprot_processed</th>\n",
       "    </tr>\n",
       "  </thead>\n",
       "  <tbody>\n",
       "    <tr>\n",
       "      <th>0</th>\n",
       "      <td>CL:0000037</td>\n",
       "      <td>hematopoietic stem cell</td>\n",
       "      <td>lacks_plasma_membrane_part</td>\n",
       "      <td>PR:000001002</td>\n",
       "      <td>CD19 molecule</td>\n",
       "      <td>CL</td>\n",
       "      <td>PR</td>\n",
       "      <td>Cell Ontology</td>\n",
       "      <td>curated</td>\n",
       "      <td>CC-BY 4.0</td>\n",
       "      <td>PR:000046612</td>\n",
       "      <td>PR:000001002</td>\n",
       "      <td>PR:P15391-2</td>\n",
       "      <td>P15391</td>\n",
       "    </tr>\n",
       "    <tr>\n",
       "      <th>1</th>\n",
       "      <td>CL:0000037</td>\n",
       "      <td>hematopoietic stem cell</td>\n",
       "      <td>lacks_plasma_membrane_part</td>\n",
       "      <td>PR:000001002</td>\n",
       "      <td>CD19 molecule</td>\n",
       "      <td>CL</td>\n",
       "      <td>PR</td>\n",
       "      <td>Cell Ontology</td>\n",
       "      <td>curated</td>\n",
       "      <td>CC-BY 4.0</td>\n",
       "      <td>PR:000046612</td>\n",
       "      <td>PR:000001002</td>\n",
       "      <td>PR:P15391</td>\n",
       "      <td>P15391</td>\n",
       "    </tr>\n",
       "  </tbody>\n",
       "</table>\n",
       "</div>"
      ],
      "text/plain": [
       "       src_id                 src_name                    rel_type  \\\n",
       "0  CL:0000037  hematopoietic stem cell  lacks_plasma_membrane_part   \n",
       "1  CL:0000037  hematopoietic stem cell  lacks_plasma_membrane_part   \n",
       "\n",
       "         tgt_id       tgt_name src_src tgt_src         source dsrc_type  \\\n",
       "0  PR:000001002  CD19 molecule      CL      PR  Cell Ontology   curated   \n",
       "1  PR:000001002  CD19 molecule      CL      PR  Cell Ontology   curated   \n",
       "\n",
       "     license     tgt_child            pr      uniprot uniprot_processed  \n",
       "0  CC-BY 4.0  PR:000046612  PR:000001002  PR:P15391-2            P15391  \n",
       "1  CC-BY 4.0  PR:000046612  PR:000001002    PR:P15391            P15391  "
      ]
     },
     "execution_count": 74,
     "metadata": {},
     "output_type": "execute_result"
    }
   ],
   "source": [
    "cl_to_pr['uniprot_processed'] = cl_to_pr['uniprot'].apply(lambda u: u.split(':')[1].split('-')[0])\n",
    "cl_to_pr.head(2)"
   ]
  },
  {
   "cell_type": "code",
   "execution_count": 75,
   "metadata": {},
   "outputs": [
    {
     "data": {
      "text/html": [
       "<div>\n",
       "<style scoped>\n",
       "    .dataframe tbody tr th:only-of-type {\n",
       "        vertical-align: middle;\n",
       "    }\n",
       "\n",
       "    .dataframe tbody tr th {\n",
       "        vertical-align: top;\n",
       "    }\n",
       "\n",
       "    .dataframe thead th {\n",
       "        text-align: right;\n",
       "    }\n",
       "</style>\n",
       "<table border=\"1\" class=\"dataframe\">\n",
       "  <thead>\n",
       "    <tr style=\"text-align: right;\">\n",
       "      <th></th>\n",
       "      <th>src_id</th>\n",
       "      <th>src_name</th>\n",
       "      <th>rel_type</th>\n",
       "      <th>tgt_id</th>\n",
       "      <th>tgt_name</th>\n",
       "      <th>src_src</th>\n",
       "      <th>tgt_src</th>\n",
       "      <th>source</th>\n",
       "      <th>dsrc_type</th>\n",
       "      <th>license</th>\n",
       "      <th>...</th>\n",
       "      <th>uniprot</th>\n",
       "      <th>uniprot_processed</th>\n",
       "      <th>query</th>\n",
       "      <th>entrezgene</th>\n",
       "      <th>name</th>\n",
       "      <th>xrefs</th>\n",
       "      <th>taxid</th>\n",
       "      <th>pr_id</th>\n",
       "      <th>uni_id</th>\n",
       "      <th>label</th>\n",
       "    </tr>\n",
       "  </thead>\n",
       "  <tbody>\n",
       "    <tr>\n",
       "      <th>0</th>\n",
       "      <td>CL:0000037</td>\n",
       "      <td>hematopoietic stem cell</td>\n",
       "      <td>lacks_plasma_membrane_part</td>\n",
       "      <td>PR:000001002</td>\n",
       "      <td>CD19 molecule</td>\n",
       "      <td>CL</td>\n",
       "      <td>PR</td>\n",
       "      <td>Cell Ontology</td>\n",
       "      <td>curated</td>\n",
       "      <td>CC-BY 4.0</td>\n",
       "      <td>...</td>\n",
       "      <td>PR:P15391-2</td>\n",
       "      <td>P15391</td>\n",
       "      <td>P15391</td>\n",
       "      <td>NCBIGene:930</td>\n",
       "      <td>CD19 molecule</td>\n",
       "      <td>SYM:CD19|UniProt:P15391</td>\n",
       "      <td>NCBITaxon:9606</td>\n",
       "      <td>PR:P15391</td>\n",
       "      <td>UniProt:P15391</td>\n",
       "      <td>Gene</td>\n",
       "    </tr>\n",
       "    <tr>\n",
       "      <th>18</th>\n",
       "      <td>CL:0000094</td>\n",
       "      <td>granulocyte</td>\n",
       "      <td>lacks_plasma_membrane_part</td>\n",
       "      <td>PR:000001002</td>\n",
       "      <td>CD19 molecule</td>\n",
       "      <td>CL</td>\n",
       "      <td>PR</td>\n",
       "      <td>Cell Ontology</td>\n",
       "      <td>curated</td>\n",
       "      <td>CC-BY 4.0</td>\n",
       "      <td>...</td>\n",
       "      <td>PR:P15391-2</td>\n",
       "      <td>P15391</td>\n",
       "      <td>P15391</td>\n",
       "      <td>NCBIGene:930</td>\n",
       "      <td>CD19 molecule</td>\n",
       "      <td>SYM:CD19|UniProt:P15391</td>\n",
       "      <td>NCBITaxon:9606</td>\n",
       "      <td>PR:P15391</td>\n",
       "      <td>UniProt:P15391</td>\n",
       "      <td>Gene</td>\n",
       "    </tr>\n",
       "  </tbody>\n",
       "</table>\n",
       "<p>2 rows × 22 columns</p>\n",
       "</div>"
      ],
      "text/plain": [
       "        src_id                 src_name                    rel_type  \\\n",
       "0   CL:0000037  hematopoietic stem cell  lacks_plasma_membrane_part   \n",
       "18  CL:0000094              granulocyte  lacks_plasma_membrane_part   \n",
       "\n",
       "          tgt_id       tgt_name src_src tgt_src         source dsrc_type  \\\n",
       "0   PR:000001002  CD19 molecule      CL      PR  Cell Ontology   curated   \n",
       "18  PR:000001002  CD19 molecule      CL      PR  Cell Ontology   curated   \n",
       "\n",
       "      license  ...      uniprot uniprot_processed   query    entrezgene  \\\n",
       "0   CC-BY 4.0  ...  PR:P15391-2            P15391  P15391  NCBIGene:930   \n",
       "18  CC-BY 4.0  ...  PR:P15391-2            P15391  P15391  NCBIGene:930   \n",
       "\n",
       "             name                    xrefs           taxid      pr_id  \\\n",
       "0   CD19 molecule  SYM:CD19|UniProt:P15391  NCBITaxon:9606  PR:P15391   \n",
       "18  CD19 molecule  SYM:CD19|UniProt:P15391  NCBITaxon:9606  PR:P15391   \n",
       "\n",
       "            uni_id label  \n",
       "0   UniProt:P15391  Gene  \n",
       "18  UniProt:P15391  Gene  \n",
       "\n",
       "[2 rows x 22 columns]"
      ]
     },
     "execution_count": 75,
     "metadata": {},
     "output_type": "execute_result"
    }
   ],
   "source": [
    "cl_to_pr = cl_to_pr.merge(uni_to_entrez, left_on='uniprot_processed', right_on='query').drop_duplicates(subset=['entrezgene', 'src_id'])\n",
    "cl_to_pr.head(2)"
   ]
  },
  {
   "cell_type": "code",
   "execution_count": 76,
   "metadata": {},
   "outputs": [
    {
     "data": {
      "text/html": [
       "<div>\n",
       "<style scoped>\n",
       "    .dataframe tbody tr th:only-of-type {\n",
       "        vertical-align: middle;\n",
       "    }\n",
       "\n",
       "    .dataframe tbody tr th {\n",
       "        vertical-align: top;\n",
       "    }\n",
       "\n",
       "    .dataframe thead th {\n",
       "        text-align: right;\n",
       "    }\n",
       "</style>\n",
       "<table border=\"1\" class=\"dataframe\">\n",
       "  <thead>\n",
       "    <tr style=\"text-align: right;\">\n",
       "      <th></th>\n",
       "      <th>start_id</th>\n",
       "      <th>end_id</th>\n",
       "      <th>type</th>\n",
       "      <th>src_name</th>\n",
       "      <th>orig_tgt</th>\n",
       "      <th>orig_name</th>\n",
       "      <th>src_src</th>\n",
       "      <th>tgt_src</th>\n",
       "      <th>source</th>\n",
       "      <th>dsrc_type</th>\n",
       "      <th>license</th>\n",
       "      <th>uniprot_id</th>\n",
       "      <th>uniprot_name</th>\n",
       "      <th>taxid</th>\n",
       "      <th>pr_id</th>\n",
       "    </tr>\n",
       "  </thead>\n",
       "  <tbody>\n",
       "    <tr>\n",
       "      <th>0</th>\n",
       "      <td>CL:0000037</td>\n",
       "      <td>NCBIGene:930</td>\n",
       "      <td>lacks_plasma_membrane_part</td>\n",
       "      <td>hematopoietic stem cell</td>\n",
       "      <td>PR:000001002</td>\n",
       "      <td>CD19 molecule</td>\n",
       "      <td>CL</td>\n",
       "      <td>PR</td>\n",
       "      <td>Cell Ontology</td>\n",
       "      <td>curated</td>\n",
       "      <td>CC-BY 4.0</td>\n",
       "      <td>P15391</td>\n",
       "      <td>CD19 molecule</td>\n",
       "      <td>NCBITaxon:9606</td>\n",
       "      <td>PR:P15391</td>\n",
       "    </tr>\n",
       "    <tr>\n",
       "      <th>18</th>\n",
       "      <td>CL:0000094</td>\n",
       "      <td>NCBIGene:930</td>\n",
       "      <td>lacks_plasma_membrane_part</td>\n",
       "      <td>granulocyte</td>\n",
       "      <td>PR:000001002</td>\n",
       "      <td>CD19 molecule</td>\n",
       "      <td>CL</td>\n",
       "      <td>PR</td>\n",
       "      <td>Cell Ontology</td>\n",
       "      <td>curated</td>\n",
       "      <td>CC-BY 4.0</td>\n",
       "      <td>P15391</td>\n",
       "      <td>CD19 molecule</td>\n",
       "      <td>NCBITaxon:9606</td>\n",
       "      <td>PR:P15391</td>\n",
       "    </tr>\n",
       "  </tbody>\n",
       "</table>\n",
       "</div>"
      ],
      "text/plain": [
       "      start_id        end_id                        type  \\\n",
       "0   CL:0000037  NCBIGene:930  lacks_plasma_membrane_part   \n",
       "18  CL:0000094  NCBIGene:930  lacks_plasma_membrane_part   \n",
       "\n",
       "                   src_name      orig_tgt      orig_name src_src tgt_src  \\\n",
       "0   hematopoietic stem cell  PR:000001002  CD19 molecule      CL      PR   \n",
       "18              granulocyte  PR:000001002  CD19 molecule      CL      PR   \n",
       "\n",
       "           source dsrc_type    license uniprot_id   uniprot_name  \\\n",
       "0   Cell Ontology   curated  CC-BY 4.0     P15391  CD19 molecule   \n",
       "18  Cell Ontology   curated  CC-BY 4.0     P15391  CD19 molecule   \n",
       "\n",
       "             taxid      pr_id  \n",
       "0   NCBITaxon:9606  PR:P15391  \n",
       "18  NCBITaxon:9606  PR:P15391  "
      ]
     },
     "execution_count": 76,
     "metadata": {},
     "output_type": "execute_result"
    }
   ],
   "source": [
    "cl_to_pr_edges = edge_rename(cl_to_pr.drop(['tgt_child', 'pr', 'uniprot', 'query', 'label', 'uni_id', 'xrefs'], axis=1), \n",
    "                             name='uniprot_name', entrezgene='end_id', tgt_id='orig_tgt', \n",
    "                             tgt_name='orig_name', uniprot_processed='uniprot_id')\n",
    "cl_to_pr_edges.head(2)"
   ]
  },
  {
   "cell_type": "code",
   "execution_count": 77,
   "metadata": {},
   "outputs": [],
   "source": [
    "# We punned these edges from a PR class target to the actual entrez gene ID\n",
    "cl_to_pr_edges['dsrc_type'] = 'computed'\n",
    "cl_to_pr_edges['comp_type'] = 'punned'"
   ]
  },
  {
   "cell_type": "code",
   "execution_count": 78,
   "metadata": {},
   "outputs": [
    {
     "data": {
      "text/plain": [
       "1013"
      ]
     },
     "execution_count": 78,
     "metadata": {},
     "output_type": "execute_result"
    }
   ],
   "source": [
    "len(cl_to_pr_edges)"
   ]
  },
  {
   "cell_type": "code",
   "execution_count": 79,
   "metadata": {},
   "outputs": [
    {
     "data": {
      "text/plain": [
       "has_plasma_membrane_part           412\n",
       "lacks_plasma_membrane_part         392\n",
       "has_part                            77\n",
       "has_low_plasma_membrane_amount      64\n",
       "has_high_plasma_membrane_amount     58\n",
       "lacks_part                          10\n",
       "Name: type, dtype: int64"
      ]
     },
     "execution_count": 79,
     "metadata": {},
     "output_type": "execute_result"
    }
   ],
   "source": [
    "cl_to_pr_edges['type'].value_counts()"
   ]
  },
  {
   "cell_type": "markdown",
   "metadata": {},
   "source": [
    "# UBERON and CL"
   ]
  },
  {
   "cell_type": "code",
   "execution_count": 80,
   "metadata": {},
   "outputs": [
    {
     "data": {
      "text/html": [
       "<div>\n",
       "<style scoped>\n",
       "    .dataframe tbody tr th:only-of-type {\n",
       "        vertical-align: middle;\n",
       "    }\n",
       "\n",
       "    .dataframe tbody tr th {\n",
       "        vertical-align: top;\n",
       "    }\n",
       "\n",
       "    .dataframe thead th {\n",
       "        text-align: right;\n",
       "    }\n",
       "</style>\n",
       "<table border=\"1\" class=\"dataframe\">\n",
       "  <thead>\n",
       "    <tr style=\"text-align: right;\">\n",
       "      <th></th>\n",
       "      <th>src_id</th>\n",
       "      <th>src_name</th>\n",
       "      <th>rel_type</th>\n",
       "      <th>tgt_id</th>\n",
       "      <th>tgt_name</th>\n",
       "      <th>src_src</th>\n",
       "      <th>tgt_src</th>\n",
       "      <th>source</th>\n",
       "      <th>dsrc_type</th>\n",
       "      <th>license</th>\n",
       "    </tr>\n",
       "  </thead>\n",
       "  <tbody>\n",
       "    <tr>\n",
       "      <th>0</th>\n",
       "      <td>BFO:0000004</td>\n",
       "      <td>NaN</td>\n",
       "      <td>is_a</td>\n",
       "      <td>BFO:0000002</td>\n",
       "      <td>NaN</td>\n",
       "      <td>BFO</td>\n",
       "      <td>BFO</td>\n",
       "      <td>UBERON</td>\n",
       "      <td>curated</td>\n",
       "      <td>CC-BY 4.0</td>\n",
       "    </tr>\n",
       "    <tr>\n",
       "      <th>1</th>\n",
       "      <td>BFO:0000015</td>\n",
       "      <td>NaN</td>\n",
       "      <td>is_a</td>\n",
       "      <td>BFO:0000003</td>\n",
       "      <td>NaN</td>\n",
       "      <td>BFO</td>\n",
       "      <td>BFO</td>\n",
       "      <td>UBERON</td>\n",
       "      <td>curated</td>\n",
       "      <td>CC-BY 4.0</td>\n",
       "    </tr>\n",
       "  </tbody>\n",
       "</table>\n",
       "</div>"
      ],
      "text/plain": [
       "        src_id src_name rel_type       tgt_id tgt_name src_src tgt_src  \\\n",
       "0  BFO:0000004      NaN     is_a  BFO:0000002      NaN     BFO     BFO   \n",
       "1  BFO:0000015      NaN     is_a  BFO:0000003      NaN     BFO     BFO   \n",
       "\n",
       "   source dsrc_type    license  \n",
       "0  UBERON   curated  CC-BY 4.0  \n",
       "1  UBERON   curated  CC-BY 4.0  "
      ]
     },
     "execution_count": 80,
     "metadata": {},
     "output_type": "execute_result"
    }
   ],
   "source": [
    "ub_edges.head(2)"
   ]
  },
  {
   "cell_type": "code",
   "execution_count": 81,
   "metadata": {},
   "outputs": [
    {
     "data": {
      "text/plain": [
       "342"
      ]
     },
     "execution_count": 81,
     "metadata": {},
     "output_type": "execute_result"
    }
   ],
   "source": [
    "ub_to_cl = combine_two_onto_edges(ub_edges, cl_edges, 'UBERON', 'CL')\n",
    "len(ub_to_cl)"
   ]
  },
  {
   "cell_type": "code",
   "execution_count": 82,
   "metadata": {},
   "outputs": [
    {
     "data": {
      "text/html": [
       "<div>\n",
       "<style scoped>\n",
       "    .dataframe tbody tr th:only-of-type {\n",
       "        vertical-align: middle;\n",
       "    }\n",
       "\n",
       "    .dataframe tbody tr th {\n",
       "        vertical-align: top;\n",
       "    }\n",
       "\n",
       "    .dataframe thead th {\n",
       "        text-align: right;\n",
       "    }\n",
       "</style>\n",
       "<table border=\"1\" class=\"dataframe\">\n",
       "  <thead>\n",
       "    <tr style=\"text-align: right;\">\n",
       "      <th></th>\n",
       "      <th>src_id</th>\n",
       "      <th>src_name</th>\n",
       "      <th>rel_type</th>\n",
       "      <th>tgt_id</th>\n",
       "      <th>tgt_name</th>\n",
       "      <th>src_src</th>\n",
       "      <th>tgt_src</th>\n",
       "      <th>source</th>\n",
       "      <th>dsrc_type</th>\n",
       "      <th>license</th>\n",
       "    </tr>\n",
       "  </thead>\n",
       "  <tbody>\n",
       "    <tr>\n",
       "      <th>0</th>\n",
       "      <td>UBERON:0000006</td>\n",
       "      <td>islet of Langerhans</td>\n",
       "      <td>has_part</td>\n",
       "      <td>CL:0000168</td>\n",
       "      <td>insulin secreting cell</td>\n",
       "      <td>UBERON</td>\n",
       "      <td>CL</td>\n",
       "      <td>UBERON</td>\n",
       "      <td>curated</td>\n",
       "      <td>CC-BY 4.0</td>\n",
       "    </tr>\n",
       "    <tr>\n",
       "      <th>1</th>\n",
       "      <td>UBERON:0000006</td>\n",
       "      <td>islet of Langerhans</td>\n",
       "      <td>has_part</td>\n",
       "      <td>CL:0000172</td>\n",
       "      <td>somatostatin secreting cell</td>\n",
       "      <td>UBERON</td>\n",
       "      <td>CL</td>\n",
       "      <td>UBERON</td>\n",
       "      <td>curated</td>\n",
       "      <td>CC-BY 4.0</td>\n",
       "    </tr>\n",
       "  </tbody>\n",
       "</table>\n",
       "</div>"
      ],
      "text/plain": [
       "           src_id             src_name  rel_type      tgt_id  \\\n",
       "0  UBERON:0000006  islet of Langerhans  has_part  CL:0000168   \n",
       "1  UBERON:0000006  islet of Langerhans  has_part  CL:0000172   \n",
       "\n",
       "                      tgt_name src_src tgt_src  source dsrc_type    license  \n",
       "0       insulin secreting cell  UBERON      CL  UBERON   curated  CC-BY 4.0  \n",
       "1  somatostatin secreting cell  UBERON      CL  UBERON   curated  CC-BY 4.0  "
      ]
     },
     "execution_count": 82,
     "metadata": {},
     "output_type": "execute_result"
    }
   ],
   "source": [
    "ub_to_cl.head(2)"
   ]
  },
  {
   "cell_type": "code",
   "execution_count": 83,
   "metadata": {},
   "outputs": [
    {
     "data": {
      "text/plain": [
       "924"
      ]
     },
     "execution_count": 83,
     "metadata": {},
     "output_type": "execute_result"
    }
   ],
   "source": [
    "cl_to_ub = combine_two_onto_edges(ub_edges, cl_edges, 'CL', 'UBERON')\n",
    "len(cl_to_ub)"
   ]
  },
  {
   "cell_type": "code",
   "execution_count": 84,
   "metadata": {},
   "outputs": [
    {
     "data": {
      "text/html": [
       "<div>\n",
       "<style scoped>\n",
       "    .dataframe tbody tr th:only-of-type {\n",
       "        vertical-align: middle;\n",
       "    }\n",
       "\n",
       "    .dataframe tbody tr th {\n",
       "        vertical-align: top;\n",
       "    }\n",
       "\n",
       "    .dataframe thead th {\n",
       "        text-align: right;\n",
       "    }\n",
       "</style>\n",
       "<table border=\"1\" class=\"dataframe\">\n",
       "  <thead>\n",
       "    <tr style=\"text-align: right;\">\n",
       "      <th></th>\n",
       "      <th>src_id</th>\n",
       "      <th>src_name</th>\n",
       "      <th>rel_type</th>\n",
       "      <th>tgt_id</th>\n",
       "      <th>tgt_name</th>\n",
       "      <th>src_src</th>\n",
       "      <th>tgt_src</th>\n",
       "      <th>source</th>\n",
       "      <th>dsrc_type</th>\n",
       "      <th>license</th>\n",
       "    </tr>\n",
       "  </thead>\n",
       "  <tbody>\n",
       "    <tr>\n",
       "      <th>0</th>\n",
       "      <td>CL:0000028</td>\n",
       "      <td>CNS neuron (sensu Nematoda and Protostomia)</td>\n",
       "      <td>part_of</td>\n",
       "      <td>UBERON:0001017</td>\n",
       "      <td>central nervous system</td>\n",
       "      <td>CL</td>\n",
       "      <td>UBERON</td>\n",
       "      <td>UBERON</td>\n",
       "      <td>curated</td>\n",
       "      <td>CC-BY 4.0</td>\n",
       "    </tr>\n",
       "    <tr>\n",
       "      <th>1</th>\n",
       "      <td>CL:0000047</td>\n",
       "      <td>neuronal stem cell</td>\n",
       "      <td>part_of</td>\n",
       "      <td>UBERON:0001017</td>\n",
       "      <td>central nervous system</td>\n",
       "      <td>CL</td>\n",
       "      <td>UBERON</td>\n",
       "      <td>UBERON</td>\n",
       "      <td>curated</td>\n",
       "      <td>CC-BY 4.0</td>\n",
       "    </tr>\n",
       "    <tr>\n",
       "      <th>2</th>\n",
       "      <td>CL:0000059</td>\n",
       "      <td>ameloblast</td>\n",
       "      <td>part_of</td>\n",
       "      <td>UBERON:0005176</td>\n",
       "      <td>tooth enamel organ</td>\n",
       "      <td>CL</td>\n",
       "      <td>UBERON</td>\n",
       "      <td>UBERON</td>\n",
       "      <td>curated</td>\n",
       "      <td>CC-BY 4.0</td>\n",
       "    </tr>\n",
       "    <tr>\n",
       "      <th>3</th>\n",
       "      <td>CL:0000060</td>\n",
       "      <td>odontoblast</td>\n",
       "      <td>part_of</td>\n",
       "      <td>UBERON:0005176</td>\n",
       "      <td>tooth enamel organ</td>\n",
       "      <td>CL</td>\n",
       "      <td>UBERON</td>\n",
       "      <td>UBERON</td>\n",
       "      <td>curated</td>\n",
       "      <td>CC-BY 4.0</td>\n",
       "    </tr>\n",
       "    <tr>\n",
       "      <th>4</th>\n",
       "      <td>CL:0000061</td>\n",
       "      <td>cementoblast</td>\n",
       "      <td>part_of</td>\n",
       "      <td>UBERON:0005176</td>\n",
       "      <td>tooth enamel organ</td>\n",
       "      <td>CL</td>\n",
       "      <td>UBERON</td>\n",
       "      <td>UBERON</td>\n",
       "      <td>curated</td>\n",
       "      <td>CC-BY 4.0</td>\n",
       "    </tr>\n",
       "  </tbody>\n",
       "</table>\n",
       "</div>"
      ],
      "text/plain": [
       "       src_id                                     src_name rel_type  \\\n",
       "0  CL:0000028  CNS neuron (sensu Nematoda and Protostomia)  part_of   \n",
       "1  CL:0000047                           neuronal stem cell  part_of   \n",
       "2  CL:0000059                                   ameloblast  part_of   \n",
       "3  CL:0000060                                  odontoblast  part_of   \n",
       "4  CL:0000061                                 cementoblast  part_of   \n",
       "\n",
       "           tgt_id                tgt_name src_src tgt_src  source dsrc_type  \\\n",
       "0  UBERON:0001017  central nervous system      CL  UBERON  UBERON   curated   \n",
       "1  UBERON:0001017  central nervous system      CL  UBERON  UBERON   curated   \n",
       "2  UBERON:0005176      tooth enamel organ      CL  UBERON  UBERON   curated   \n",
       "3  UBERON:0005176      tooth enamel organ      CL  UBERON  UBERON   curated   \n",
       "4  UBERON:0005176      tooth enamel organ      CL  UBERON  UBERON   curated   \n",
       "\n",
       "     license  \n",
       "0  CC-BY 4.0  \n",
       "1  CC-BY 4.0  \n",
       "2  CC-BY 4.0  \n",
       "3  CC-BY 4.0  \n",
       "4  CC-BY 4.0  "
      ]
     },
     "execution_count": 84,
     "metadata": {},
     "output_type": "execute_result"
    }
   ],
   "source": [
    "cl_to_ub.head()"
   ]
  },
  {
   "cell_type": "code",
   "execution_count": 85,
   "metadata": {},
   "outputs": [],
   "source": [
    "cl_to_ub_edges = edge_rename(cl_to_ub)\n",
    "ub_to_cl_edges = edge_rename(ub_to_cl)"
   ]
  },
  {
   "cell_type": "markdown",
   "metadata": {},
   "source": [
    "# GO integration"
   ]
  },
  {
   "cell_type": "code",
   "execution_count": 86,
   "metadata": {},
   "outputs": [
    {
     "data": {
      "text/html": [
       "<div>\n",
       "<style scoped>\n",
       "    .dataframe tbody tr th:only-of-type {\n",
       "        vertical-align: middle;\n",
       "    }\n",
       "\n",
       "    .dataframe tbody tr th {\n",
       "        vertical-align: top;\n",
       "    }\n",
       "\n",
       "    .dataframe thead th {\n",
       "        text-align: right;\n",
       "    }\n",
       "</style>\n",
       "<table border=\"1\" class=\"dataframe\">\n",
       "  <thead>\n",
       "    <tr style=\"text-align: right;\">\n",
       "      <th></th>\n",
       "      <th>type</th>\n",
       "      <th>name</th>\n",
       "      <th>id</th>\n",
       "      <th>id_src</th>\n",
       "      <th>xrefs</th>\n",
       "      <th>deprecated</th>\n",
       "      <th>date</th>\n",
       "      <th>definition</th>\n",
       "      <th>subsets</th>\n",
       "      <th>synonyms</th>\n",
       "      <th>...</th>\n",
       "      <th>IAO:0100001</th>\n",
       "      <th>IAO:0000231</th>\n",
       "      <th>shorthand</th>\n",
       "      <th>consider</th>\n",
       "      <th>hasScope</th>\n",
       "      <th>creator</th>\n",
       "      <th>IAO:0000589</th>\n",
       "      <th>IAO:0000425</th>\n",
       "      <th>is:class:level</th>\n",
       "      <th>is:metadata:tag</th>\n",
       "    </tr>\n",
       "  </thead>\n",
       "  <tbody>\n",
       "    <tr>\n",
       "      <th>0</th>\n",
       "      <td>CLASS</td>\n",
       "      <td>rhamnoside</td>\n",
       "      <td>CHEBI:26547</td>\n",
       "      <td>CHEBI</td>\n",
       "      <td>NaN</td>\n",
       "      <td>NaN</td>\n",
       "      <td>NaN</td>\n",
       "      <td>NaN</td>\n",
       "      <td>NaN</td>\n",
       "      <td>NaN</td>\n",
       "      <td>...</td>\n",
       "      <td>NaN</td>\n",
       "      <td>NaN</td>\n",
       "      <td>NaN</td>\n",
       "      <td>NaN</td>\n",
       "      <td>NaN</td>\n",
       "      <td>NaN</td>\n",
       "      <td>NaN</td>\n",
       "      <td>NaN</td>\n",
       "      <td>NaN</td>\n",
       "      <td>NaN</td>\n",
       "    </tr>\n",
       "    <tr>\n",
       "      <th>1</th>\n",
       "      <td>CLASS</td>\n",
       "      <td>rhamnosylglucoside</td>\n",
       "      <td>CHEBI:26548</td>\n",
       "      <td>CHEBI</td>\n",
       "      <td>NaN</td>\n",
       "      <td>NaN</td>\n",
       "      <td>NaN</td>\n",
       "      <td>NaN</td>\n",
       "      <td>NaN</td>\n",
       "      <td>NaN</td>\n",
       "      <td>...</td>\n",
       "      <td>NaN</td>\n",
       "      <td>NaN</td>\n",
       "      <td>NaN</td>\n",
       "      <td>NaN</td>\n",
       "      <td>NaN</td>\n",
       "      <td>NaN</td>\n",
       "      <td>NaN</td>\n",
       "      <td>NaN</td>\n",
       "      <td>NaN</td>\n",
       "      <td>NaN</td>\n",
       "    </tr>\n",
       "  </tbody>\n",
       "</table>\n",
       "<p>2 rows × 26 columns</p>\n",
       "</div>"
      ],
      "text/plain": [
       "    type                name           id id_src xrefs deprecated date  \\\n",
       "0  CLASS          rhamnoside  CHEBI:26547  CHEBI   NaN        NaN  NaN   \n",
       "1  CLASS  rhamnosylglucoside  CHEBI:26548  CHEBI   NaN        NaN  NaN   \n",
       "\n",
       "  definition subsets synonyms  ... IAO:0100001 IAO:0000231 shorthand consider  \\\n",
       "0        NaN     NaN      NaN  ...         NaN         NaN       NaN      NaN   \n",
       "1        NaN     NaN      NaN  ...         NaN         NaN       NaN      NaN   \n",
       "\n",
       "  hasScope creator IAO:0000589 IAO:0000425 is:class:level is:metadata:tag  \n",
       "0      NaN     NaN         NaN         NaN            NaN             NaN  \n",
       "1      NaN     NaN         NaN         NaN            NaN             NaN  \n",
       "\n",
       "[2 rows x 26 columns]"
      ]
     },
     "execution_count": 86,
     "metadata": {},
     "output_type": "execute_result"
    }
   ],
   "source": [
    "go_nodes.head(2)"
   ]
  },
  {
   "cell_type": "code",
   "execution_count": 87,
   "metadata": {},
   "outputs": [
    {
     "data": {
      "text/html": [
       "<div>\n",
       "<style scoped>\n",
       "    .dataframe tbody tr th:only-of-type {\n",
       "        vertical-align: middle;\n",
       "    }\n",
       "\n",
       "    .dataframe tbody tr th {\n",
       "        vertical-align: top;\n",
       "    }\n",
       "\n",
       "    .dataframe thead th {\n",
       "        text-align: right;\n",
       "    }\n",
       "</style>\n",
       "<table border=\"1\" class=\"dataframe\">\n",
       "  <thead>\n",
       "    <tr style=\"text-align: right;\">\n",
       "      <th></th>\n",
       "      <th>rel_type</th>\n",
       "      <th>src_id</th>\n",
       "      <th>src_src</th>\n",
       "      <th>src_name</th>\n",
       "      <th>tgt_id</th>\n",
       "      <th>tgt_src</th>\n",
       "      <th>tgt_name</th>\n",
       "      <th>source</th>\n",
       "      <th>dsrc_type</th>\n",
       "      <th>license</th>\n",
       "    </tr>\n",
       "  </thead>\n",
       "  <tbody>\n",
       "    <tr>\n",
       "      <th>0</th>\n",
       "      <td>is_a</td>\n",
       "      <td>CHEBI:77148</td>\n",
       "      <td>CHEBI</td>\n",
       "      <td>ginsenoside Re</td>\n",
       "      <td>GOCHE:35610</td>\n",
       "      <td>GOCHE</td>\n",
       "      <td>substance with antineoplastic agent role</td>\n",
       "      <td>Gene Ontology</td>\n",
       "      <td>curated</td>\n",
       "      <td>CC-BY 4.0</td>\n",
       "    </tr>\n",
       "    <tr>\n",
       "      <th>1</th>\n",
       "      <td>capable_of_part_of</td>\n",
       "      <td>UBERON:0000004</td>\n",
       "      <td>UBERON</td>\n",
       "      <td>nose</td>\n",
       "      <td>GO:0007608</td>\n",
       "      <td>GO</td>\n",
       "      <td>sensory perception of smell</td>\n",
       "      <td>Gene Ontology</td>\n",
       "      <td>curated</td>\n",
       "      <td>CC-BY 4.0</td>\n",
       "    </tr>\n",
       "  </tbody>\n",
       "</table>\n",
       "</div>"
      ],
      "text/plain": [
       "             rel_type          src_id src_src        src_name       tgt_id  \\\n",
       "0                is_a     CHEBI:77148   CHEBI  ginsenoside Re  GOCHE:35610   \n",
       "1  capable_of_part_of  UBERON:0000004  UBERON            nose   GO:0007608   \n",
       "\n",
       "  tgt_src                                  tgt_name         source dsrc_type  \\\n",
       "0   GOCHE  substance with antineoplastic agent role  Gene Ontology   curated   \n",
       "1      GO               sensory perception of smell  Gene Ontology   curated   \n",
       "\n",
       "     license  \n",
       "0  CC-BY 4.0  \n",
       "1  CC-BY 4.0  "
      ]
     },
     "execution_count": 87,
     "metadata": {},
     "output_type": "execute_result"
    }
   ],
   "source": [
    "go_edges.head(2)"
   ]
  },
  {
   "cell_type": "markdown",
   "metadata": {},
   "source": [
    "### CL to GO"
   ]
  },
  {
   "cell_type": "code",
   "execution_count": 88,
   "metadata": {},
   "outputs": [
    {
     "name": "stdout",
     "output_type": "stream",
     "text": [
      "486\n",
      "1063\n"
     ]
    }
   ],
   "source": [
    "cl_to_go = combine_two_onto_edges(cl_edges, go_edges, 'CL', 'GO')\n",
    "print(len(cl_to_go))\n",
    "go_to_cl = combine_two_onto_edges(cl_edges, go_edges, 'GO', 'CL')\n",
    "print(len(go_to_cl))"
   ]
  },
  {
   "cell_type": "code",
   "execution_count": 89,
   "metadata": {},
   "outputs": [
    {
     "data": {
      "text/plain": [
       "capable_of                    292\n",
       "has_plasma_membrane_part       42\n",
       "has_part                       36\n",
       "lacks_plasma_membrane_part     28\n",
       "participates_in                18\n",
       "Name: rel_type, dtype: int64"
      ]
     },
     "execution_count": 89,
     "metadata": {},
     "output_type": "execute_result"
    }
   ],
   "source": [
    "cl_to_go['rel_type'].value_counts().head(5)"
   ]
  },
  {
   "cell_type": "code",
   "execution_count": 90,
   "metadata": {},
   "outputs": [
    {
     "data": {
      "text/plain": [
       "results_in_acquisition_of_features_of    299\n",
       "occurs_in                                136\n",
       "results_in_development_of                 99\n",
       "results_in_movement_of                    86\n",
       "acts_on_population_of                     83\n",
       "part_of                                   66\n",
       "has_input                                 57\n",
       "results_in_commitment_to                  57\n",
       "Name: rel_type, dtype: int64"
      ]
     },
     "execution_count": 90,
     "metadata": {},
     "output_type": "execute_result"
    }
   ],
   "source": [
    "go_to_cl['rel_type'].value_counts().head(8)"
   ]
  },
  {
   "cell_type": "code",
   "execution_count": 91,
   "metadata": {},
   "outputs": [
    {
     "data": {
      "text/html": [
       "<div>\n",
       "<style scoped>\n",
       "    .dataframe tbody tr th:only-of-type {\n",
       "        vertical-align: middle;\n",
       "    }\n",
       "\n",
       "    .dataframe tbody tr th {\n",
       "        vertical-align: top;\n",
       "    }\n",
       "\n",
       "    .dataframe thead th {\n",
       "        text-align: right;\n",
       "    }\n",
       "</style>\n",
       "<table border=\"1\" class=\"dataframe\">\n",
       "  <thead>\n",
       "    <tr style=\"text-align: right;\">\n",
       "      <th></th>\n",
       "      <th>start_id</th>\n",
       "      <th>end_id</th>\n",
       "      <th>type</th>\n",
       "      <th>src_name</th>\n",
       "      <th>tgt_name</th>\n",
       "      <th>src_src</th>\n",
       "      <th>tgt_src</th>\n",
       "      <th>source</th>\n",
       "      <th>dsrc_type</th>\n",
       "      <th>license</th>\n",
       "    </tr>\n",
       "  </thead>\n",
       "  <tbody>\n",
       "    <tr>\n",
       "      <th>71</th>\n",
       "      <td>CL:0000167</td>\n",
       "      <td>GO:0030072</td>\n",
       "      <td>capable_of</td>\n",
       "      <td>peptide hormone secreting cell</td>\n",
       "      <td>peptide hormone secretion</td>\n",
       "      <td>CL</td>\n",
       "      <td>GO</td>\n",
       "      <td>Cell Ontology</td>\n",
       "      <td>curated</td>\n",
       "      <td>CC-BY 4.0</td>\n",
       "    </tr>\n",
       "    <tr>\n",
       "      <th>428</th>\n",
       "      <td>CL:0002394</td>\n",
       "      <td>GO:0042590</td>\n",
       "      <td>capable_of</td>\n",
       "      <td>CD141-positive myeloid dendritic cell</td>\n",
       "      <td>antigen processing and presentation of exogeno...</td>\n",
       "      <td>CL</td>\n",
       "      <td>GO</td>\n",
       "      <td>Cell Ontology</td>\n",
       "      <td>curated</td>\n",
       "      <td>CC-BY 4.0</td>\n",
       "    </tr>\n",
       "  </tbody>\n",
       "</table>\n",
       "</div>"
      ],
      "text/plain": [
       "       start_id      end_id        type  \\\n",
       "71   CL:0000167  GO:0030072  capable_of   \n",
       "428  CL:0002394  GO:0042590  capable_of   \n",
       "\n",
       "                                  src_name  \\\n",
       "71          peptide hormone secreting cell   \n",
       "428  CD141-positive myeloid dendritic cell   \n",
       "\n",
       "                                              tgt_name src_src tgt_src  \\\n",
       "71                           peptide hormone secretion      CL      GO   \n",
       "428  antigen processing and presentation of exogeno...      CL      GO   \n",
       "\n",
       "            source dsrc_type    license  \n",
       "71   Cell Ontology   curated  CC-BY 4.0  \n",
       "428  Cell Ontology   curated  CC-BY 4.0  "
      ]
     },
     "execution_count": 91,
     "metadata": {},
     "output_type": "execute_result"
    }
   ],
   "source": [
    "cl_to_go_edges = edge_rename(cl_to_go)\n",
    "go_to_cl_edges = edge_rename(go_to_cl)\n",
    "\n",
    "cl_to_go_edges.sample(2)"
   ]
  },
  {
   "cell_type": "markdown",
   "metadata": {},
   "source": [
    "# UBERON to GO"
   ]
  },
  {
   "cell_type": "code",
   "execution_count": 92,
   "metadata": {},
   "outputs": [
    {
     "name": "stdout",
     "output_type": "stream",
     "text": [
      "417\n",
      "1308\n"
     ]
    }
   ],
   "source": [
    "ub_to_go = combine_two_onto_edges(ub_edges, go_edges, 'UBERON', 'GO')\n",
    "print(len(ub_to_go))\n",
    "go_to_ub = combine_two_onto_edges(ub_edges, go_edges, 'GO', 'UBERON')\n",
    "print(len(go_to_ub))"
   ]
  },
  {
   "cell_type": "code",
   "execution_count": 93,
   "metadata": {},
   "outputs": [
    {
     "data": {
      "text/html": [
       "<div>\n",
       "<style scoped>\n",
       "    .dataframe tbody tr th:only-of-type {\n",
       "        vertical-align: middle;\n",
       "    }\n",
       "\n",
       "    .dataframe tbody tr th {\n",
       "        vertical-align: top;\n",
       "    }\n",
       "\n",
       "    .dataframe thead th {\n",
       "        text-align: right;\n",
       "    }\n",
       "</style>\n",
       "<table border=\"1\" class=\"dataframe\">\n",
       "  <thead>\n",
       "    <tr style=\"text-align: right;\">\n",
       "      <th></th>\n",
       "      <th>src_id</th>\n",
       "      <th>src_name</th>\n",
       "      <th>rel_type</th>\n",
       "      <th>tgt_id</th>\n",
       "      <th>tgt_name</th>\n",
       "      <th>src_src</th>\n",
       "      <th>tgt_src</th>\n",
       "      <th>source</th>\n",
       "      <th>dsrc_type</th>\n",
       "      <th>license</th>\n",
       "    </tr>\n",
       "  </thead>\n",
       "  <tbody>\n",
       "    <tr>\n",
       "      <th>350</th>\n",
       "      <td>UBERON:0012423</td>\n",
       "      <td>layer of microvilli</td>\n",
       "      <td>composed_primarily_of</td>\n",
       "      <td>GO:0005902</td>\n",
       "      <td>microvillus</td>\n",
       "      <td>UBERON</td>\n",
       "      <td>GO</td>\n",
       "      <td>UBERON</td>\n",
       "      <td>curated</td>\n",
       "      <td>CC-BY 4.0</td>\n",
       "    </tr>\n",
       "    <tr>\n",
       "      <th>205</th>\n",
       "      <td>UBERON:0003926</td>\n",
       "      <td>photoreceptor outer segment layer</td>\n",
       "      <td>has_part</td>\n",
       "      <td>GO:0001750</td>\n",
       "      <td>photoreceptor outer segment</td>\n",
       "      <td>UBERON</td>\n",
       "      <td>GO</td>\n",
       "      <td>UBERON</td>\n",
       "      <td>curated</td>\n",
       "      <td>CC-BY 4.0</td>\n",
       "    </tr>\n",
       "  </tbody>\n",
       "</table>\n",
       "</div>"
      ],
      "text/plain": [
       "             src_id                           src_name               rel_type  \\\n",
       "350  UBERON:0012423                layer of microvilli  composed_primarily_of   \n",
       "205  UBERON:0003926  photoreceptor outer segment layer               has_part   \n",
       "\n",
       "         tgt_id                     tgt_name src_src tgt_src  source  \\\n",
       "350  GO:0005902                  microvillus  UBERON      GO  UBERON   \n",
       "205  GO:0001750  photoreceptor outer segment  UBERON      GO  UBERON   \n",
       "\n",
       "    dsrc_type    license  \n",
       "350   curated  CC-BY 4.0  \n",
       "205   curated  CC-BY 4.0  "
      ]
     },
     "execution_count": 93,
     "metadata": {},
     "output_type": "execute_result"
    }
   ],
   "source": [
    "ub_to_go.sample(2)"
   ]
  },
  {
   "cell_type": "code",
   "execution_count": 94,
   "metadata": {},
   "outputs": [
    {
     "data": {
      "text/html": [
       "<div>\n",
       "<style scoped>\n",
       "    .dataframe tbody tr th:only-of-type {\n",
       "        vertical-align: middle;\n",
       "    }\n",
       "\n",
       "    .dataframe tbody tr th {\n",
       "        vertical-align: top;\n",
       "    }\n",
       "\n",
       "    .dataframe thead th {\n",
       "        text-align: right;\n",
       "    }\n",
       "</style>\n",
       "<table border=\"1\" class=\"dataframe\">\n",
       "  <thead>\n",
       "    <tr style=\"text-align: right;\">\n",
       "      <th></th>\n",
       "      <th>src_id</th>\n",
       "      <th>src_name</th>\n",
       "      <th>rel_type</th>\n",
       "      <th>tgt_id</th>\n",
       "      <th>tgt_name</th>\n",
       "      <th>src_src</th>\n",
       "      <th>tgt_src</th>\n",
       "      <th>source</th>\n",
       "      <th>dsrc_type</th>\n",
       "      <th>license</th>\n",
       "    </tr>\n",
       "  </thead>\n",
       "  <tbody>\n",
       "    <tr>\n",
       "      <th>41</th>\n",
       "      <td>GO:0072170</td>\n",
       "      <td>metanephric tubule development</td>\n",
       "      <td>results_in_development_of</td>\n",
       "      <td>UBERON:0005106</td>\n",
       "      <td>metanephric tubule</td>\n",
       "      <td>GO</td>\n",
       "      <td>UBERON</td>\n",
       "      <td>Gene Ontology</td>\n",
       "      <td>curated</td>\n",
       "      <td>CC-BY 4.0</td>\n",
       "    </tr>\n",
       "    <tr>\n",
       "      <th>834</th>\n",
       "      <td>GO:0060463</td>\n",
       "      <td>lung lobe morphogenesis</td>\n",
       "      <td>results_in_morphogenesis_of</td>\n",
       "      <td>UBERON:0000101</td>\n",
       "      <td>lobe of lung</td>\n",
       "      <td>GO</td>\n",
       "      <td>UBERON</td>\n",
       "      <td>Gene Ontology</td>\n",
       "      <td>curated</td>\n",
       "      <td>CC-BY 4.0</td>\n",
       "    </tr>\n",
       "  </tbody>\n",
       "</table>\n",
       "</div>"
      ],
      "text/plain": [
       "         src_id                        src_name                     rel_type  \\\n",
       "41   GO:0072170  metanephric tubule development    results_in_development_of   \n",
       "834  GO:0060463         lung lobe morphogenesis  results_in_morphogenesis_of   \n",
       "\n",
       "             tgt_id            tgt_name src_src tgt_src         source  \\\n",
       "41   UBERON:0005106  metanephric tubule      GO  UBERON  Gene Ontology   \n",
       "834  UBERON:0000101        lobe of lung      GO  UBERON  Gene Ontology   \n",
       "\n",
       "    dsrc_type    license  \n",
       "41    curated  CC-BY 4.0  \n",
       "834   curated  CC-BY 4.0  "
      ]
     },
     "execution_count": 94,
     "metadata": {},
     "output_type": "execute_result"
    }
   ],
   "source": [
    "go_to_ub.sample(2)"
   ]
  },
  {
   "cell_type": "code",
   "execution_count": 95,
   "metadata": {},
   "outputs": [
    {
     "data": {
      "text/plain": [
       "capable_of               123\n",
       "capable_of_part_of       121\n",
       "has_part                  44\n",
       "contains_process          28\n",
       "composed_primarily_of     26\n",
       "Name: rel_type, dtype: int64"
      ]
     },
     "execution_count": 95,
     "metadata": {},
     "output_type": "execute_result"
    }
   ],
   "source": [
    "ub_to_go['rel_type'].value_counts().head(5)"
   ]
  },
  {
   "cell_type": "code",
   "execution_count": 96,
   "metadata": {},
   "outputs": [
    {
     "data": {
      "text/plain": [
       "results_in_development_of                587\n",
       "results_in_morphogenesis_of              340\n",
       "results_in_formation_of                  174\n",
       "occurs_in                                 70\n",
       "results_in_maturation_of                  53\n",
       "results_in_structural_organization_of     28\n",
       "results_in_growth_of                      20\n",
       "has_input                                  8\n",
       "Name: rel_type, dtype: int64"
      ]
     },
     "execution_count": 96,
     "metadata": {},
     "output_type": "execute_result"
    }
   ],
   "source": [
    "go_to_ub['rel_type'].value_counts().head(8)"
   ]
  },
  {
   "cell_type": "code",
   "execution_count": 97,
   "metadata": {},
   "outputs": [],
   "source": [
    "ub_to_go_edges = edge_rename(ub_to_go)\n",
    "go_to_ub_edges = edge_rename(go_to_ub)"
   ]
  },
  {
   "cell_type": "markdown",
   "metadata": {},
   "source": [
    "## GO to CHEBI"
   ]
  },
  {
   "cell_type": "code",
   "execution_count": 98,
   "metadata": {},
   "outputs": [
    {
     "data": {
      "text/html": [
       "<div>\n",
       "<style scoped>\n",
       "    .dataframe tbody tr th:only-of-type {\n",
       "        vertical-align: middle;\n",
       "    }\n",
       "\n",
       "    .dataframe tbody tr th {\n",
       "        vertical-align: top;\n",
       "    }\n",
       "\n",
       "    .dataframe thead th {\n",
       "        text-align: right;\n",
       "    }\n",
       "</style>\n",
       "<table border=\"1\" class=\"dataframe\">\n",
       "  <thead>\n",
       "    <tr style=\"text-align: right;\">\n",
       "      <th></th>\n",
       "      <th>src_id</th>\n",
       "      <th>src_name</th>\n",
       "      <th>rel_type</th>\n",
       "      <th>tgt_id</th>\n",
       "      <th>tgt_name</th>\n",
       "      <th>src_src</th>\n",
       "      <th>tgt_src</th>\n",
       "      <th>source</th>\n",
       "      <th>dsrc_type</th>\n",
       "      <th>license</th>\n",
       "    </tr>\n",
       "  </thead>\n",
       "  <tbody>\n",
       "    <tr>\n",
       "      <th>0</th>\n",
       "      <td>CHEBI:23367</td>\n",
       "      <td>molecular entity</td>\n",
       "      <td>is_a</td>\n",
       "      <td>CHEBI:24431</td>\n",
       "      <td>NaN</td>\n",
       "      <td>CHEBI</td>\n",
       "      <td>CHEBI</td>\n",
       "      <td>ChEBI</td>\n",
       "      <td>curated</td>\n",
       "      <td>CC-BY 4.0</td>\n",
       "    </tr>\n",
       "    <tr>\n",
       "      <th>1</th>\n",
       "      <td>CHEBI:24870</td>\n",
       "      <td>ion</td>\n",
       "      <td>is_a</td>\n",
       "      <td>CHEBI:23367</td>\n",
       "      <td>NaN</td>\n",
       "      <td>CHEBI</td>\n",
       "      <td>CHEBI</td>\n",
       "      <td>ChEBI</td>\n",
       "      <td>curated</td>\n",
       "      <td>CC-BY 4.0</td>\n",
       "    </tr>\n",
       "  </tbody>\n",
       "</table>\n",
       "</div>"
      ],
      "text/plain": [
       "        src_id          src_name rel_type       tgt_id  tgt_name src_src  \\\n",
       "0  CHEBI:23367  molecular entity     is_a  CHEBI:24431       NaN   CHEBI   \n",
       "1  CHEBI:24870               ion     is_a  CHEBI:23367       NaN   CHEBI   \n",
       "\n",
       "  tgt_src source dsrc_type    license  \n",
       "0   CHEBI  ChEBI   curated  CC-BY 4.0  \n",
       "1   CHEBI  ChEBI   curated  CC-BY 4.0  "
      ]
     },
     "execution_count": 98,
     "metadata": {},
     "output_type": "execute_result"
    }
   ],
   "source": [
    "chebi_edges.head(2)"
   ]
  },
  {
   "cell_type": "markdown",
   "metadata": {},
   "source": [
    "Chebi edges don't have the proper target name....\n",
    "\n",
    "Also, similar to PR, we have some chebi nodes with inchikeys representing true compounds, and others wihtout which are more indiciative of a compound class"
   ]
  },
  {
   "cell_type": "code",
   "execution_count": 99,
   "metadata": {
    "scrolled": true
   },
   "outputs": [],
   "source": [
    "chebi_nodes = ot.get_ontology_nodes(data_dir.joinpath('chebi.obo'), \n",
    "                                    props=['http://purl.obolibrary.org/obo/chebi/inchikey'])\n",
    "chebi_nodes = chebi_nodes.rename(columns={'http://purl.obolibrary.org/obo/chebi/inchikey': 'ikey'})"
   ]
  },
  {
   "cell_type": "code",
   "execution_count": 100,
   "metadata": {},
   "outputs": [],
   "source": [
    "cid_to_name = chebi_nodes.set_index('id')['name'].to_dict()\n",
    "chebi_edges['tgt_name'] = chebi_edges['tgt_id'].map(cid_to_name)"
   ]
  },
  {
   "cell_type": "code",
   "execution_count": 101,
   "metadata": {},
   "outputs": [
    {
     "name": "stdout",
     "output_type": "stream",
     "text": [
      "5881\n"
     ]
    },
    {
     "data": {
      "text/html": [
       "<div>\n",
       "<style scoped>\n",
       "    .dataframe tbody tr th:only-of-type {\n",
       "        vertical-align: middle;\n",
       "    }\n",
       "\n",
       "    .dataframe tbody tr th {\n",
       "        vertical-align: top;\n",
       "    }\n",
       "\n",
       "    .dataframe thead th {\n",
       "        text-align: right;\n",
       "    }\n",
       "</style>\n",
       "<table border=\"1\" class=\"dataframe\">\n",
       "  <thead>\n",
       "    <tr style=\"text-align: right;\">\n",
       "      <th></th>\n",
       "      <th>src_id</th>\n",
       "      <th>src_name</th>\n",
       "      <th>rel_type</th>\n",
       "      <th>tgt_id</th>\n",
       "      <th>tgt_name</th>\n",
       "      <th>src_src</th>\n",
       "      <th>tgt_src</th>\n",
       "      <th>source</th>\n",
       "      <th>dsrc_type</th>\n",
       "      <th>license</th>\n",
       "    </tr>\n",
       "  </thead>\n",
       "  <tbody>\n",
       "    <tr>\n",
       "      <th>3019</th>\n",
       "      <td>GO:0033353</td>\n",
       "      <td>S-adenosylmethionine cycle</td>\n",
       "      <td>has_participant</td>\n",
       "      <td>CHEBI:15414</td>\n",
       "      <td>S-adenosyl-L-methionine</td>\n",
       "      <td>GO</td>\n",
       "      <td>CHEBI</td>\n",
       "      <td>Gene Ontology</td>\n",
       "      <td>curated</td>\n",
       "      <td>CC-BY 4.0</td>\n",
       "    </tr>\n",
       "    <tr>\n",
       "      <th>2765</th>\n",
       "      <td>GO:0046512</td>\n",
       "      <td>sphingosine biosynthetic process</td>\n",
       "      <td>has_primary_output</td>\n",
       "      <td>CHEBI:16393</td>\n",
       "      <td>sphingosine</td>\n",
       "      <td>GO</td>\n",
       "      <td>CHEBI</td>\n",
       "      <td>Gene Ontology</td>\n",
       "      <td>curated</td>\n",
       "      <td>CC-BY 4.0</td>\n",
       "    </tr>\n",
       "  </tbody>\n",
       "</table>\n",
       "</div>"
      ],
      "text/plain": [
       "          src_id                          src_name            rel_type  \\\n",
       "3019  GO:0033353        S-adenosylmethionine cycle     has_participant   \n",
       "2765  GO:0046512  sphingosine biosynthetic process  has_primary_output   \n",
       "\n",
       "           tgt_id                 tgt_name src_src tgt_src         source  \\\n",
       "3019  CHEBI:15414  S-adenosyl-L-methionine      GO   CHEBI  Gene Ontology   \n",
       "2765  CHEBI:16393              sphingosine      GO   CHEBI  Gene Ontology   \n",
       "\n",
       "     dsrc_type    license  \n",
       "3019   curated  CC-BY 4.0  \n",
       "2765   curated  CC-BY 4.0  "
      ]
     },
     "execution_count": 101,
     "metadata": {},
     "output_type": "execute_result"
    }
   ],
   "source": [
    "go_to_chebi = combine_two_onto_edges(chebi_edges, go_edges, 'GO', 'CHEBI')\n",
    "print(len(go_to_chebi))\n",
    "go_to_chebi.sample(2)"
   ]
  },
  {
   "cell_type": "code",
   "execution_count": 102,
   "metadata": {},
   "outputs": [
    {
     "data": {
      "text/plain": [
       "1197"
      ]
     },
     "execution_count": 102,
     "metadata": {},
     "output_type": "execute_result"
    }
   ],
   "source": [
    "cheb_go_targets = go_to_chebi['tgt_id'].unique()\n",
    "chebi_nodes.query('id in @cheb_go_targets')['ikey'].count()"
   ]
  },
  {
   "cell_type": "code",
   "execution_count": 103,
   "metadata": {},
   "outputs": [
    {
     "data": {
      "text/plain": [
       "2072"
      ]
     },
     "execution_count": 103,
     "metadata": {},
     "output_type": "execute_result"
    }
   ],
   "source": [
    "len(cheb_go_targets)"
   ]
  },
  {
   "cell_type": "code",
   "execution_count": 104,
   "metadata": {},
   "outputs": [
    {
     "data": {
      "text/html": [
       "<div>\n",
       "<style scoped>\n",
       "    .dataframe tbody tr th:only-of-type {\n",
       "        vertical-align: middle;\n",
       "    }\n",
       "\n",
       "    .dataframe tbody tr th {\n",
       "        vertical-align: top;\n",
       "    }\n",
       "\n",
       "    .dataframe thead th {\n",
       "        text-align: right;\n",
       "    }\n",
       "</style>\n",
       "<table border=\"1\" class=\"dataframe\">\n",
       "  <thead>\n",
       "    <tr style=\"text-align: right;\">\n",
       "      <th></th>\n",
       "      <th>type</th>\n",
       "      <th>name</th>\n",
       "      <th>id</th>\n",
       "      <th>id_src</th>\n",
       "      <th>xrefs</th>\n",
       "      <th>deprecated</th>\n",
       "      <th>date</th>\n",
       "      <th>definition</th>\n",
       "      <th>subsets</th>\n",
       "      <th>synonyms</th>\n",
       "      <th>...</th>\n",
       "      <th>IAO:0100001</th>\n",
       "      <th>IAO:0000231</th>\n",
       "      <th>shorthand</th>\n",
       "      <th>consider</th>\n",
       "      <th>hasScope</th>\n",
       "      <th>creator</th>\n",
       "      <th>IAO:0000589</th>\n",
       "      <th>IAO:0000425</th>\n",
       "      <th>is:class:level</th>\n",
       "      <th>is:metadata:tag</th>\n",
       "    </tr>\n",
       "  </thead>\n",
       "  <tbody>\n",
       "    <tr>\n",
       "      <th>162</th>\n",
       "      <td>CLASS</td>\n",
       "      <td>inorganic ion import across plasma membrane</td>\n",
       "      <td>GO:0099587</td>\n",
       "      <td>GO</td>\n",
       "      <td>NaN</td>\n",
       "      <td>NaN</td>\n",
       "      <td>NaN</td>\n",
       "      <td>The directed movement of inorganic ions from o...</td>\n",
       "      <td>NaN</td>\n",
       "      <td>inorganic ion import into cell</td>\n",
       "      <td>...</td>\n",
       "      <td>NaN</td>\n",
       "      <td>NaN</td>\n",
       "      <td>NaN</td>\n",
       "      <td>NaN</td>\n",
       "      <td>NaN</td>\n",
       "      <td>NaN</td>\n",
       "      <td>NaN</td>\n",
       "      <td>NaN</td>\n",
       "      <td>NaN</td>\n",
       "      <td>NaN</td>\n",
       "    </tr>\n",
       "    <tr>\n",
       "      <th>628</th>\n",
       "      <td>CLASS</td>\n",
       "      <td>organic divalent group</td>\n",
       "      <td>CHEBI:51446</td>\n",
       "      <td>CHEBI</td>\n",
       "      <td>NaN</td>\n",
       "      <td>NaN</td>\n",
       "      <td>NaN</td>\n",
       "      <td>NaN</td>\n",
       "      <td>NaN</td>\n",
       "      <td>NaN</td>\n",
       "      <td>...</td>\n",
       "      <td>NaN</td>\n",
       "      <td>NaN</td>\n",
       "      <td>NaN</td>\n",
       "      <td>NaN</td>\n",
       "      <td>NaN</td>\n",
       "      <td>NaN</td>\n",
       "      <td>NaN</td>\n",
       "      <td>NaN</td>\n",
       "      <td>NaN</td>\n",
       "      <td>NaN</td>\n",
       "    </tr>\n",
       "    <tr>\n",
       "      <th>629</th>\n",
       "      <td>CLASS</td>\n",
       "      <td>organic univalent group</td>\n",
       "      <td>CHEBI:51447</td>\n",
       "      <td>CHEBI</td>\n",
       "      <td>NaN</td>\n",
       "      <td>NaN</td>\n",
       "      <td>NaN</td>\n",
       "      <td>NaN</td>\n",
       "      <td>NaN</td>\n",
       "      <td>NaN</td>\n",
       "      <td>...</td>\n",
       "      <td>NaN</td>\n",
       "      <td>NaN</td>\n",
       "      <td>NaN</td>\n",
       "      <td>NaN</td>\n",
       "      <td>NaN</td>\n",
       "      <td>NaN</td>\n",
       "      <td>NaN</td>\n",
       "      <td>NaN</td>\n",
       "      <td>NaN</td>\n",
       "      <td>NaN</td>\n",
       "    </tr>\n",
       "    <tr>\n",
       "      <th>1456</th>\n",
       "      <td>CLASS</td>\n",
       "      <td>organic sulfate salt</td>\n",
       "      <td>CHEBI:51337</td>\n",
       "      <td>CHEBI</td>\n",
       "      <td>NaN</td>\n",
       "      <td>NaN</td>\n",
       "      <td>NaN</td>\n",
       "      <td>NaN</td>\n",
       "      <td>NaN</td>\n",
       "      <td>NaN</td>\n",
       "      <td>...</td>\n",
       "      <td>NaN</td>\n",
       "      <td>NaN</td>\n",
       "      <td>NaN</td>\n",
       "      <td>NaN</td>\n",
       "      <td>NaN</td>\n",
       "      <td>NaN</td>\n",
       "      <td>NaN</td>\n",
       "      <td>NaN</td>\n",
       "      <td>NaN</td>\n",
       "      <td>NaN</td>\n",
       "    </tr>\n",
       "    <tr>\n",
       "      <th>2794</th>\n",
       "      <td>CLASS</td>\n",
       "      <td>organic polycyclic compound</td>\n",
       "      <td>CHEBI:51958</td>\n",
       "      <td>CHEBI</td>\n",
       "      <td>NaN</td>\n",
       "      <td>NaN</td>\n",
       "      <td>NaN</td>\n",
       "      <td>NaN</td>\n",
       "      <td>NaN</td>\n",
       "      <td>NaN</td>\n",
       "      <td>...</td>\n",
       "      <td>NaN</td>\n",
       "      <td>NaN</td>\n",
       "      <td>NaN</td>\n",
       "      <td>NaN</td>\n",
       "      <td>NaN</td>\n",
       "      <td>NaN</td>\n",
       "      <td>NaN</td>\n",
       "      <td>NaN</td>\n",
       "      <td>NaN</td>\n",
       "      <td>NaN</td>\n",
       "    </tr>\n",
       "    <tr>\n",
       "      <th>...</th>\n",
       "      <td>...</td>\n",
       "      <td>...</td>\n",
       "      <td>...</td>\n",
       "      <td>...</td>\n",
       "      <td>...</td>\n",
       "      <td>...</td>\n",
       "      <td>...</td>\n",
       "      <td>...</td>\n",
       "      <td>...</td>\n",
       "      <td>...</td>\n",
       "      <td>...</td>\n",
       "      <td>...</td>\n",
       "      <td>...</td>\n",
       "      <td>...</td>\n",
       "      <td>...</td>\n",
       "      <td>...</td>\n",
       "      <td>...</td>\n",
       "      <td>...</td>\n",
       "      <td>...</td>\n",
       "      <td>...</td>\n",
       "      <td>...</td>\n",
       "    </tr>\n",
       "    <tr>\n",
       "      <th>79608</th>\n",
       "      <td>CLASS</td>\n",
       "      <td>mancude organic heterocyclic parent</td>\n",
       "      <td>CHEBI:35571</td>\n",
       "      <td>CHEBI</td>\n",
       "      <td>NaN</td>\n",
       "      <td>NaN</td>\n",
       "      <td>NaN</td>\n",
       "      <td>NaN</td>\n",
       "      <td>NaN</td>\n",
       "      <td>NaN</td>\n",
       "      <td>...</td>\n",
       "      <td>NaN</td>\n",
       "      <td>NaN</td>\n",
       "      <td>NaN</td>\n",
       "      <td>NaN</td>\n",
       "      <td>NaN</td>\n",
       "      <td>NaN</td>\n",
       "      <td>NaN</td>\n",
       "      <td>NaN</td>\n",
       "      <td>NaN</td>\n",
       "      <td>NaN</td>\n",
       "    </tr>\n",
       "    <tr>\n",
       "      <th>79612</th>\n",
       "      <td>CLASS</td>\n",
       "      <td>mancude organic heterobicyclic parent</td>\n",
       "      <td>CHEBI:35570</td>\n",
       "      <td>CHEBI</td>\n",
       "      <td>NaN</td>\n",
       "      <td>NaN</td>\n",
       "      <td>NaN</td>\n",
       "      <td>NaN</td>\n",
       "      <td>NaN</td>\n",
       "      <td>NaN</td>\n",
       "      <td>...</td>\n",
       "      <td>NaN</td>\n",
       "      <td>NaN</td>\n",
       "      <td>NaN</td>\n",
       "      <td>NaN</td>\n",
       "      <td>NaN</td>\n",
       "      <td>NaN</td>\n",
       "      <td>NaN</td>\n",
       "      <td>NaN</td>\n",
       "      <td>NaN</td>\n",
       "      <td>NaN</td>\n",
       "    </tr>\n",
       "    <tr>\n",
       "      <th>79614</th>\n",
       "      <td>CLASS</td>\n",
       "      <td>organic mancude parent</td>\n",
       "      <td>CHEBI:35573</td>\n",
       "      <td>CHEBI</td>\n",
       "      <td>NaN</td>\n",
       "      <td>NaN</td>\n",
       "      <td>NaN</td>\n",
       "      <td>NaN</td>\n",
       "      <td>NaN</td>\n",
       "      <td>NaN</td>\n",
       "      <td>...</td>\n",
       "      <td>NaN</td>\n",
       "      <td>NaN</td>\n",
       "      <td>NaN</td>\n",
       "      <td>NaN</td>\n",
       "      <td>NaN</td>\n",
       "      <td>NaN</td>\n",
       "      <td>NaN</td>\n",
       "      <td>NaN</td>\n",
       "      <td>NaN</td>\n",
       "      <td>NaN</td>\n",
       "    </tr>\n",
       "    <tr>\n",
       "      <th>79676</th>\n",
       "      <td>CLASS</td>\n",
       "      <td>heterocyclic organic fundamental parent</td>\n",
       "      <td>CHEBI:35552</td>\n",
       "      <td>CHEBI</td>\n",
       "      <td>NaN</td>\n",
       "      <td>NaN</td>\n",
       "      <td>NaN</td>\n",
       "      <td>NaN</td>\n",
       "      <td>NaN</td>\n",
       "      <td>NaN</td>\n",
       "      <td>...</td>\n",
       "      <td>NaN</td>\n",
       "      <td>NaN</td>\n",
       "      <td>NaN</td>\n",
       "      <td>NaN</td>\n",
       "      <td>NaN</td>\n",
       "      <td>NaN</td>\n",
       "      <td>NaN</td>\n",
       "      <td>NaN</td>\n",
       "      <td>NaN</td>\n",
       "      <td>NaN</td>\n",
       "    </tr>\n",
       "    <tr>\n",
       "      <th>79677</th>\n",
       "      <td>CLASS</td>\n",
       "      <td>mancude organic heteromonocyclic parent</td>\n",
       "      <td>CHEBI:35555</td>\n",
       "      <td>CHEBI</td>\n",
       "      <td>NaN</td>\n",
       "      <td>NaN</td>\n",
       "      <td>NaN</td>\n",
       "      <td>NaN</td>\n",
       "      <td>NaN</td>\n",
       "      <td>NaN</td>\n",
       "      <td>...</td>\n",
       "      <td>NaN</td>\n",
       "      <td>NaN</td>\n",
       "      <td>NaN</td>\n",
       "      <td>NaN</td>\n",
       "      <td>NaN</td>\n",
       "      <td>NaN</td>\n",
       "      <td>NaN</td>\n",
       "      <td>NaN</td>\n",
       "      <td>NaN</td>\n",
       "      <td>NaN</td>\n",
       "    </tr>\n",
       "  </tbody>\n",
       "</table>\n",
       "<p>217 rows × 26 columns</p>\n",
       "</div>"
      ],
      "text/plain": [
       "        type                                         name           id id_src  \\\n",
       "162    CLASS  inorganic ion import across plasma membrane   GO:0099587     GO   \n",
       "628    CLASS                       organic divalent group  CHEBI:51446  CHEBI   \n",
       "629    CLASS                      organic univalent group  CHEBI:51447  CHEBI   \n",
       "1456   CLASS                         organic sulfate salt  CHEBI:51337  CHEBI   \n",
       "2794   CLASS                  organic polycyclic compound  CHEBI:51958  CHEBI   \n",
       "...      ...                                          ...          ...    ...   \n",
       "79608  CLASS          mancude organic heterocyclic parent  CHEBI:35571  CHEBI   \n",
       "79612  CLASS        mancude organic heterobicyclic parent  CHEBI:35570  CHEBI   \n",
       "79614  CLASS                       organic mancude parent  CHEBI:35573  CHEBI   \n",
       "79676  CLASS      heterocyclic organic fundamental parent  CHEBI:35552  CHEBI   \n",
       "79677  CLASS      mancude organic heteromonocyclic parent  CHEBI:35555  CHEBI   \n",
       "\n",
       "      xrefs deprecated date  \\\n",
       "162     NaN        NaN  NaN   \n",
       "628     NaN        NaN  NaN   \n",
       "629     NaN        NaN  NaN   \n",
       "1456    NaN        NaN  NaN   \n",
       "2794    NaN        NaN  NaN   \n",
       "...     ...        ...  ...   \n",
       "79608   NaN        NaN  NaN   \n",
       "79612   NaN        NaN  NaN   \n",
       "79614   NaN        NaN  NaN   \n",
       "79676   NaN        NaN  NaN   \n",
       "79677   NaN        NaN  NaN   \n",
       "\n",
       "                                              definition subsets  \\\n",
       "162    The directed movement of inorganic ions from o...     NaN   \n",
       "628                                                  NaN     NaN   \n",
       "629                                                  NaN     NaN   \n",
       "1456                                                 NaN     NaN   \n",
       "2794                                                 NaN     NaN   \n",
       "...                                                  ...     ...   \n",
       "79608                                                NaN     NaN   \n",
       "79612                                                NaN     NaN   \n",
       "79614                                                NaN     NaN   \n",
       "79676                                                NaN     NaN   \n",
       "79677                                                NaN     NaN   \n",
       "\n",
       "                             synonyms  ... IAO:0100001 IAO:0000231 shorthand  \\\n",
       "162    inorganic ion import into cell  ...         NaN         NaN       NaN   \n",
       "628                               NaN  ...         NaN         NaN       NaN   \n",
       "629                               NaN  ...         NaN         NaN       NaN   \n",
       "1456                              NaN  ...         NaN         NaN       NaN   \n",
       "2794                              NaN  ...         NaN         NaN       NaN   \n",
       "...                               ...  ...         ...         ...       ...   \n",
       "79608                             NaN  ...         NaN         NaN       NaN   \n",
       "79612                             NaN  ...         NaN         NaN       NaN   \n",
       "79614                             NaN  ...         NaN         NaN       NaN   \n",
       "79676                             NaN  ...         NaN         NaN       NaN   \n",
       "79677                             NaN  ...         NaN         NaN       NaN   \n",
       "\n",
       "      consider hasScope creator IAO:0000589 IAO:0000425 is:class:level  \\\n",
       "162        NaN      NaN     NaN         NaN         NaN            NaN   \n",
       "628        NaN      NaN     NaN         NaN         NaN            NaN   \n",
       "629        NaN      NaN     NaN         NaN         NaN            NaN   \n",
       "1456       NaN      NaN     NaN         NaN         NaN            NaN   \n",
       "2794       NaN      NaN     NaN         NaN         NaN            NaN   \n",
       "...        ...      ...     ...         ...         ...            ...   \n",
       "79608      NaN      NaN     NaN         NaN         NaN            NaN   \n",
       "79612      NaN      NaN     NaN         NaN         NaN            NaN   \n",
       "79614      NaN      NaN     NaN         NaN         NaN            NaN   \n",
       "79676      NaN      NaN     NaN         NaN         NaN            NaN   \n",
       "79677      NaN      NaN     NaN         NaN         NaN            NaN   \n",
       "\n",
       "      is:metadata:tag  \n",
       "162               NaN  \n",
       "628               NaN  \n",
       "629               NaN  \n",
       "1456              NaN  \n",
       "2794              NaN  \n",
       "...               ...  \n",
       "79608             NaN  \n",
       "79612             NaN  \n",
       "79614             NaN  \n",
       "79676             NaN  \n",
       "79677             NaN  \n",
       "\n",
       "[217 rows x 26 columns]"
      ]
     },
     "execution_count": 104,
     "metadata": {},
     "output_type": "execute_result"
    }
   ],
   "source": [
    "go_nodes.dropna(subset=['name'])[go_nodes['name'].dropna().str.contains('organic')]"
   ]
  },
  {
   "cell_type": "markdown",
   "metadata": {},
   "source": [
    "So about half go directly to a compound with an inchi, and the other half go to some upper ontology term.\n",
    "\n",
    "### Sensible mapping of compound classes to compounds\n",
    "\n",
    "We are most interested in leaf nodes, but mapping from upper ontology terms is insane... some like `organic molecular entity` have 1000's of children, so the GO terms `organic cyclic compound metabolic proces` will explode the number of edges, while reducing specificity, adding noise. We need a strategy to map somewhat general CHEBI terms to specific compounds.  However, ontology structure (where a specified distiance from the root or leaves does not a consistent level of specificity)  means that simply starting at the leaf nodes and walking up 1 or 2 levels will result in many of these top-level terms also being selected. \n",
    "\n",
    "Here is the ouline for the strategy we will employ to help combat this.\n",
    "\n",
    "1. Start with the leaf nodes (in CHEBI, we will define these as nodes with an inchi-key cross-reference)\n",
    "2. Walk up 1 level\n",
    "3. Determine how many childern each parent now contains at this 1-level subset\n",
    "4. Determine total number of childern (leaves and intermediary nodes) that this parent has within the full ontology.\n",
    "5. Take an arbitrary cutoff value for the ratio of these two numbers (Determined in 3 & 4), above which we keep and below which we discard.\n",
    "6. Potentially we could also add in a minimum number of total children to be considered for removal (those with few total childern in the ontotlogy are most likely not upper level terms.\n",
    "7. For those terms that pass filtering, map to all child terms at all levels in the ontololgy."
   ]
  },
  {
   "cell_type": "code",
   "execution_count": 105,
   "metadata": {},
   "outputs": [],
   "source": [
    "def get_subset_onto_levels(edges, start_nodes, direction, levels=1):\n",
    "\n",
    "    assert direction.lower() in ['up', 'down']\n",
    "    assert levels > 0\n",
    "    \n",
    "    if direction == 'up':\n",
    "        query_col = 'src_id'\n",
    "        gather_col = 'tgt_id'\n",
    "    elif direction == 'down':\n",
    "        query_col = 'tgt_id'\n",
    "        gather_col = 'src_id'\n",
    "    \n",
    "    out = edges.query('{} in @start_nodes and rel_type == \"is_a\"'.format(query_col)).copy()\n",
    "    found_ids = set(start_nodes)\n",
    "    \n",
    "    for i in range(levels-1):\n",
    "        new_ids = set(out[gather_col]) - found_ids\n",
    "        found_ids.update(new_ids)\n",
    "        \n",
    "        this_level = edges.query('{} in @new_ids and rel_type == \"is_a\"'.format(query_col)).copy()\n",
    "        out = pd.concat([out, this_level], ignore_index=True).drop_duplicates()\n",
    "        \n",
    "    return out\n"
   ]
  },
  {
   "cell_type": "code",
   "execution_count": 106,
   "metadata": {},
   "outputs": [],
   "source": [
    "chebi_map = ot.get_children_map(chebi_edges)"
   ]
  },
  {
   "cell_type": "code",
   "execution_count": 107,
   "metadata": {},
   "outputs": [],
   "source": [
    "leaf_ids = chebi_nodes.dropna(subset=['ikey'])['id'].values\n",
    "lvl_1 = get_subset_onto_levels(chebi_edges, leaf_ids, 'up', levels=1)\n",
    "\n",
    "lv1_map = ot.get_children_map(lvl_1)"
   ]
  },
  {
   "cell_type": "code",
   "execution_count": 108,
   "metadata": {},
   "outputs": [
    {
     "data": {
      "text/html": [
       "<div>\n",
       "<style scoped>\n",
       "    .dataframe tbody tr th:only-of-type {\n",
       "        vertical-align: middle;\n",
       "    }\n",
       "\n",
       "    .dataframe tbody tr th {\n",
       "        vertical-align: top;\n",
       "    }\n",
       "\n",
       "    .dataframe thead th {\n",
       "        text-align: right;\n",
       "    }\n",
       "</style>\n",
       "<table border=\"1\" class=\"dataframe\">\n",
       "  <thead>\n",
       "    <tr style=\"text-align: right;\">\n",
       "      <th></th>\n",
       "      <th>id</th>\n",
       "      <th>lv1_children</th>\n",
       "      <th>total_children</th>\n",
       "      <th>name</th>\n",
       "    </tr>\n",
       "  </thead>\n",
       "  <tbody>\n",
       "    <tr>\n",
       "      <th>0</th>\n",
       "      <td>CHEBI:10036</td>\n",
       "      <td>20.0</td>\n",
       "      <td>22</td>\n",
       "      <td>wax ester</td>\n",
       "    </tr>\n",
       "    <tr>\n",
       "      <th>1</th>\n",
       "      <td>CHEBI:102167</td>\n",
       "      <td>2.0</td>\n",
       "      <td>2</td>\n",
       "      <td>N-\\{4-[2-ethyl-1-(1,2,4-triazol-1-yl)butyl]phe...</td>\n",
       "    </tr>\n",
       "  </tbody>\n",
       "</table>\n",
       "</div>"
      ],
      "text/plain": [
       "             id  lv1_children  total_children  \\\n",
       "0   CHEBI:10036          20.0              22   \n",
       "1  CHEBI:102167           2.0               2   \n",
       "\n",
       "                                                name  \n",
       "0                                          wax ester  \n",
       "1  N-\\{4-[2-ethyl-1-(1,2,4-triazol-1-yl)butyl]phe...  "
      ]
     },
     "execution_count": 108,
     "metadata": {},
     "output_type": "execute_result"
    }
   ],
   "source": [
    "# \n",
    "map_vals = pd.DataFrame({'parent': list(chain(*[[k]*len(v) for k, v in lv1_map.items()])),\n",
    "              'child': list(chain(*[v for v in lv1_map.values()]))}).groupby('parent').apply(len)\n",
    "\n",
    "total_vals = pd.DataFrame({'parent': list(chain(*[[k]*len(v) for k, v in chebi_map.items()])),\n",
    "              'child': list(chain(*[v for v in chebi_map.values()]))}).groupby('parent').apply(len)\n",
    "\n",
    "leaf_maps = (pd.concat([map_vals, total_vals], axis=1, sort=False)\n",
    "                    .rename(columns={0:'lv1_children', 1:'total_children'})\n",
    "                    .dropna(subset=['lv1_children']))\n",
    "\n",
    "leaf_maps = leaf_maps.reset_index().rename(columns={'index': 'id'})\n",
    "leaf_maps['name'] = leaf_maps['id'].map(chebi_nodes.set_index('id')['name'].to_dict())\n",
    "leaf_maps.head(2)"
   ]
  },
  {
   "cell_type": "code",
   "execution_count": 109,
   "metadata": {},
   "outputs": [
    {
     "data": {
      "text/html": [
       "<div>\n",
       "<style scoped>\n",
       "    .dataframe tbody tr th:only-of-type {\n",
       "        vertical-align: middle;\n",
       "    }\n",
       "\n",
       "    .dataframe tbody tr th {\n",
       "        vertical-align: top;\n",
       "    }\n",
       "\n",
       "    .dataframe thead th {\n",
       "        text-align: right;\n",
       "    }\n",
       "</style>\n",
       "<table border=\"1\" class=\"dataframe\">\n",
       "  <thead>\n",
       "    <tr style=\"text-align: right;\">\n",
       "      <th></th>\n",
       "      <th>id</th>\n",
       "      <th>lv1_children</th>\n",
       "      <th>total_children</th>\n",
       "      <th>name</th>\n",
       "      <th>saturation</th>\n",
       "    </tr>\n",
       "  </thead>\n",
       "  <tbody>\n",
       "    <tr>\n",
       "      <th>3205</th>\n",
       "      <td>CHEBI:33675</td>\n",
       "      <td>1.0</td>\n",
       "      <td>105997</td>\n",
       "      <td>p-block molecular entity</td>\n",
       "      <td>0.000009</td>\n",
       "    </tr>\n",
       "    <tr>\n",
       "      <th>3044</th>\n",
       "      <td>CHEBI:33285</td>\n",
       "      <td>2.0</td>\n",
       "      <td>80878</td>\n",
       "      <td>heteroorganic entity</td>\n",
       "      <td>0.000025</td>\n",
       "    </tr>\n",
       "    <tr>\n",
       "      <th>1958</th>\n",
       "      <td>CHEBI:24532</td>\n",
       "      <td>1.0</td>\n",
       "      <td>38646</td>\n",
       "      <td>organic heterocyclic compound</td>\n",
       "      <td>0.000026</td>\n",
       "    </tr>\n",
       "    <tr>\n",
       "      <th>1999</th>\n",
       "      <td>CHEBI:24651</td>\n",
       "      <td>1.0</td>\n",
       "      <td>16481</td>\n",
       "      <td>hydroxides</td>\n",
       "      <td>0.000061</td>\n",
       "    </tr>\n",
       "    <tr>\n",
       "      <th>6198</th>\n",
       "      <td>CHEBI:5686</td>\n",
       "      <td>3.0</td>\n",
       "      <td>38677</td>\n",
       "      <td>heterocyclic compound</td>\n",
       "      <td>0.000078</td>\n",
       "    </tr>\n",
       "  </tbody>\n",
       "</table>\n",
       "</div>"
      ],
      "text/plain": [
       "               id  lv1_children  total_children  \\\n",
       "3205  CHEBI:33675           1.0          105997   \n",
       "3044  CHEBI:33285           2.0           80878   \n",
       "1958  CHEBI:24532           1.0           38646   \n",
       "1999  CHEBI:24651           1.0           16481   \n",
       "6198   CHEBI:5686           3.0           38677   \n",
       "\n",
       "                               name  saturation  \n",
       "3205       p-block molecular entity    0.000009  \n",
       "3044           heteroorganic entity    0.000025  \n",
       "1958  organic heterocyclic compound    0.000026  \n",
       "1999                     hydroxides    0.000061  \n",
       "6198          heterocyclic compound    0.000078  "
      ]
     },
     "execution_count": 109,
     "metadata": {},
     "output_type": "execute_result"
    }
   ],
   "source": [
    "saturation = leaf_maps['lv1_children'] / leaf_maps['total_children'] \n",
    "leaf_maps['saturation'] = saturation\n",
    "leaf_maps.sort_values('saturation').head(5)"
   ]
  },
  {
   "cell_type": "markdown",
   "metadata": {},
   "source": [
    "These all look like upper ontology terms... seems like the strategy is working"
   ]
  },
  {
   "cell_type": "code",
   "execution_count": 110,
   "metadata": {
    "scrolled": true
   },
   "outputs": [
    {
     "name": "stdout",
     "output_type": "stream",
     "text": [
      "8829 total items above 1 level above leaf nodes\n",
      "7877 items pass filtering at frac=0.5 or total_chidren<=15\n"
     ]
    },
    {
     "data": {
      "text/html": [
       "<div>\n",
       "<style scoped>\n",
       "    .dataframe tbody tr th:only-of-type {\n",
       "        vertical-align: middle;\n",
       "    }\n",
       "\n",
       "    .dataframe tbody tr th {\n",
       "        vertical-align: top;\n",
       "    }\n",
       "\n",
       "    .dataframe thead th {\n",
       "        text-align: right;\n",
       "    }\n",
       "</style>\n",
       "<table border=\"1\" class=\"dataframe\">\n",
       "  <thead>\n",
       "    <tr style=\"text-align: right;\">\n",
       "      <th></th>\n",
       "      <th>id</th>\n",
       "      <th>lv1_children</th>\n",
       "      <th>total_children</th>\n",
       "      <th>name</th>\n",
       "      <th>saturation</th>\n",
       "    </tr>\n",
       "  </thead>\n",
       "  <tbody>\n",
       "    <tr>\n",
       "      <th>6907</th>\n",
       "      <td>CHEBI:63353</td>\n",
       "      <td>248.0</td>\n",
       "      <td>497</td>\n",
       "      <td>disaccharide derivative</td>\n",
       "      <td>0.498994</td>\n",
       "    </tr>\n",
       "    <tr>\n",
       "      <th>2440</th>\n",
       "      <td>CHEBI:26407</td>\n",
       "      <td>149.0</td>\n",
       "      <td>300</td>\n",
       "      <td>pyrans</td>\n",
       "      <td>0.496667</td>\n",
       "    </tr>\n",
       "    <tr>\n",
       "      <th>1878</th>\n",
       "      <td>CHEBI:24129</td>\n",
       "      <td>299.0</td>\n",
       "      <td>603</td>\n",
       "      <td>furans</td>\n",
       "      <td>0.495854</td>\n",
       "    </tr>\n",
       "    <tr>\n",
       "      <th>2861</th>\n",
       "      <td>CHEBI:29256</td>\n",
       "      <td>44.0</td>\n",
       "      <td>89</td>\n",
       "      <td>thiol</td>\n",
       "      <td>0.494382</td>\n",
       "    </tr>\n",
       "    <tr>\n",
       "      <th>8007</th>\n",
       "      <td>CHEBI:78206</td>\n",
       "      <td>25.0</td>\n",
       "      <td>51</td>\n",
       "      <td>fatty acid ethyl ester</td>\n",
       "      <td>0.490196</td>\n",
       "    </tr>\n",
       "  </tbody>\n",
       "</table>\n",
       "</div>"
      ],
      "text/plain": [
       "               id  lv1_children  total_children                     name  \\\n",
       "6907  CHEBI:63353         248.0             497  disaccharide derivative   \n",
       "2440  CHEBI:26407         149.0             300                   pyrans   \n",
       "1878  CHEBI:24129         299.0             603                   furans   \n",
       "2861  CHEBI:29256          44.0              89                    thiol   \n",
       "8007  CHEBI:78206          25.0              51   fatty acid ethyl ester   \n",
       "\n",
       "      saturation  \n",
       "6907    0.498994  \n",
       "2440    0.496667  \n",
       "1878    0.495854  \n",
       "2861    0.494382  \n",
       "8007    0.490196  "
      ]
     },
     "execution_count": 110,
     "metadata": {},
     "output_type": "execute_result"
    }
   ],
   "source": [
    "# Cutoffs (inclusive)\n",
    "frac = 0.5\n",
    "cutoff_total_children = 15\n",
    "\n",
    "idx = saturation >= frac\n",
    "idx = idx | (leaf_maps['total_children'] <= cutoff_total_children)\n",
    "\n",
    "print('{} total items above 1 level above leaf nodes'.format(len(idx)))\n",
    "print('{} items pass filtering at frac={:.2g} or total_chidren<={}'.format(idx.sum(), frac, cutoff_total_children))\n",
    "\n",
    "leaf_maps[~idx].sort_values('saturation', ascending=False).head(5)"
   ]
  },
  {
   "cell_type": "code",
   "execution_count": 111,
   "metadata": {},
   "outputs": [],
   "source": [
    "# For some reason, passing bins=20 was producing inconsistent binning \n",
    "# between the 2 graphs...\n",
    "bins=20\n",
    "s=0\n",
    "e=1\n",
    "stp=(e-s)/bins\n",
    "e += stp  # add extra step: [start, end)\n",
    "\n",
    "bins = np.arange(s,e,stp)"
   ]
  },
  {
   "cell_type": "code",
   "execution_count": 112,
   "metadata": {},
   "outputs": [
    {
     "data": {
      "image/png": "[encoded data removed]",
      "text/plain": [
       "<Figure size 432x288 with 1 Axes>"
      ]
     },
     "metadata": {
      "needs_background": "light"
     },
     "output_type": "display_data"
    }
   ],
   "source": [
    "sns.distplot(saturation[saturation != 1], kde=False, bins=bins, label='Counts')\n",
    "plt.axvline(frac, c=sns.color_palette()[1], label='Cutoff val = {:1.2g}'.format(frac))\n",
    "plt.legend()\n",
    "plt.xlabel('Fraction of total children covered')\n",
    "plt.ylabel('Number of parents')\n",
    "plt.title('Faction of children that represent a leaf node per parent (1.0 removed)');"
   ]
  },
  {
   "cell_type": "code",
   "execution_count": 113,
   "metadata": {},
   "outputs": [
    {
     "data": {
      "image/png": "[encoded data removed]",
      "text/plain": [
       "<Figure size 432x288 with 1 Axes>"
      ]
     },
     "metadata": {
      "needs_background": "light"
     },
     "output_type": "display_data"
    }
   ],
   "source": [
    "sns.distplot(saturation, kde=False, bins=bins, label='Counts')\n",
    "plt.axvline(frac, c=sns.color_palette()[1], label='Cutoff val = {:1.2g}'.format(frac))\n",
    "plt.legend()\n",
    "plt.xlabel('Fraction of total children covered')\n",
    "plt.ylabel('Number of parents')\n",
    "plt.title('Faction of children that represent a leaf node per parent');"
   ]
  },
  {
   "cell_type": "code",
   "execution_count": 114,
   "metadata": {},
   "outputs": [
    {
     "data": {
      "text/plain": [
       "48529"
      ]
     },
     "execution_count": 114,
     "metadata": {},
     "output_type": "execute_result"
    }
   ],
   "source": [
    "keep_for_map = leaf_maps[idx]['id'].tolist()\n",
    "final_map = {k: list(v) for k, v in chebi_map.items() if k in keep_for_map}\n",
    "\n",
    "go_to_chebi['tgt_child'] = go_to_chebi['tgt_id'].map(final_map)\n",
    "\n",
    "go_to_chebi = expand_df_on_col(go_to_chebi, 'tgt_child')\n",
    "len(go_to_chebi)"
   ]
  },
  {
   "cell_type": "code",
   "execution_count": 115,
   "metadata": {},
   "outputs": [
    {
     "data": {
      "text/html": [
       "<div>\n",
       "<style scoped>\n",
       "    .dataframe tbody tr th:only-of-type {\n",
       "        vertical-align: middle;\n",
       "    }\n",
       "\n",
       "    .dataframe tbody tr th {\n",
       "        vertical-align: top;\n",
       "    }\n",
       "\n",
       "    .dataframe thead th {\n",
       "        text-align: right;\n",
       "    }\n",
       "</style>\n",
       "<table border=\"1\" class=\"dataframe\">\n",
       "  <thead>\n",
       "    <tr style=\"text-align: right;\">\n",
       "      <th></th>\n",
       "      <th>src_id</th>\n",
       "      <th>src_name</th>\n",
       "      <th>rel_type</th>\n",
       "      <th>tgt_id</th>\n",
       "      <th>tgt_name</th>\n",
       "      <th>src_src</th>\n",
       "      <th>tgt_src</th>\n",
       "      <th>source</th>\n",
       "      <th>dsrc_type</th>\n",
       "      <th>license</th>\n",
       "      <th>tgt_child</th>\n",
       "    </tr>\n",
       "  </thead>\n",
       "  <tbody>\n",
       "    <tr>\n",
       "      <th>0</th>\n",
       "      <td>GO:0035942</td>\n",
       "      <td>dehydroepiandrosterone secretion</td>\n",
       "      <td>transports_or_maintains_localization_of</td>\n",
       "      <td>CHEBI:28689</td>\n",
       "      <td>dehydroepiandrosterone</td>\n",
       "      <td>GO</td>\n",
       "      <td>CHEBI</td>\n",
       "      <td>Gene Ontology</td>\n",
       "      <td>curated</td>\n",
       "      <td>CC-BY 4.0</td>\n",
       "      <td>NaN</td>\n",
       "    </tr>\n",
       "    <tr>\n",
       "      <th>1</th>\n",
       "      <td>GO:0046386</td>\n",
       "      <td>deoxyribose phosphate catabolic process</td>\n",
       "      <td>has_primary_input</td>\n",
       "      <td>CHEBI:19569</td>\n",
       "      <td>2-deoxyribose phosphate</td>\n",
       "      <td>GO</td>\n",
       "      <td>CHEBI</td>\n",
       "      <td>Gene Ontology</td>\n",
       "      <td>curated</td>\n",
       "      <td>CC-BY 4.0</td>\n",
       "      <td>NaN</td>\n",
       "    </tr>\n",
       "  </tbody>\n",
       "</table>\n",
       "</div>"
      ],
      "text/plain": [
       "       src_id                                 src_name  \\\n",
       "0  GO:0035942         dehydroepiandrosterone secretion   \n",
       "1  GO:0046386  deoxyribose phosphate catabolic process   \n",
       "\n",
       "                                  rel_type       tgt_id  \\\n",
       "0  transports_or_maintains_localization_of  CHEBI:28689   \n",
       "1                        has_primary_input  CHEBI:19569   \n",
       "\n",
       "                  tgt_name src_src tgt_src         source dsrc_type  \\\n",
       "0   dehydroepiandrosterone      GO   CHEBI  Gene Ontology   curated   \n",
       "1  2-deoxyribose phosphate      GO   CHEBI  Gene Ontology   curated   \n",
       "\n",
       "     license tgt_child  \n",
       "0  CC-BY 4.0       NaN  \n",
       "1  CC-BY 4.0       NaN  "
      ]
     },
     "execution_count": 115,
     "metadata": {},
     "output_type": "execute_result"
    }
   ],
   "source": [
    "go_to_chebi.head(2)"
   ]
  },
  {
   "cell_type": "code",
   "execution_count": 116,
   "metadata": {},
   "outputs": [],
   "source": [
    "# Some GO are mapped to a compound class, so we want the mappings to the actual compounds\n",
    "other_edges = go_to_chebi.dropna(subset=['tgt_child']).drop('tgt_id', axis=1).rename(columns={'tgt_child': 'tgt_id'})\n",
    "other_edges['dsrc_type'] = 'computed'\n",
    "other_edges['comp_type'] = 'punning'"
   ]
  },
  {
   "cell_type": "code",
   "execution_count": 117,
   "metadata": {},
   "outputs": [],
   "source": [
    "go_to_cheb_edges = (pd.concat([go_to_chebi, other_edges], sort=False, ignore_index=True)\n",
    "                        .drop_duplicates(subset=['src_id', 'rel_type', 'tgt_id']))"
   ]
  },
  {
   "cell_type": "code",
   "execution_count": 118,
   "metadata": {},
   "outputs": [
    {
     "data": {
      "text/plain": [
       "50012"
      ]
     },
     "execution_count": 118,
     "metadata": {},
     "output_type": "execute_result"
    }
   ],
   "source": [
    "len(go_to_cheb_edges)"
   ]
  },
  {
   "cell_type": "code",
   "execution_count": 119,
   "metadata": {
    "scrolled": false
   },
   "outputs": [
    {
     "data": {
      "text/html": [
       "<div>\n",
       "<style scoped>\n",
       "    .dataframe tbody tr th:only-of-type {\n",
       "        vertical-align: middle;\n",
       "    }\n",
       "\n",
       "    .dataframe tbody tr th {\n",
       "        vertical-align: top;\n",
       "    }\n",
       "\n",
       "    .dataframe thead th {\n",
       "        text-align: right;\n",
       "    }\n",
       "</style>\n",
       "<table border=\"1\" class=\"dataframe\">\n",
       "  <thead>\n",
       "    <tr style=\"text-align: right;\">\n",
       "      <th></th>\n",
       "      <th>src_id</th>\n",
       "      <th>src_name</th>\n",
       "      <th>rel_type</th>\n",
       "      <th>tgt_id</th>\n",
       "      <th>tgt_name</th>\n",
       "      <th>src_src</th>\n",
       "      <th>tgt_src</th>\n",
       "      <th>source</th>\n",
       "      <th>dsrc_type</th>\n",
       "      <th>license</th>\n",
       "      <th>tgt_child</th>\n",
       "      <th>comp_type</th>\n",
       "    </tr>\n",
       "  </thead>\n",
       "  <tbody>\n",
       "    <tr>\n",
       "      <th>0</th>\n",
       "      <td>GO:0035942</td>\n",
       "      <td>dehydroepiandrosterone secretion</td>\n",
       "      <td>transports_or_maintains_localization_of</td>\n",
       "      <td>CHEBI:28689</td>\n",
       "      <td>dehydroepiandrosterone</td>\n",
       "      <td>GO</td>\n",
       "      <td>CHEBI</td>\n",
       "      <td>Gene Ontology</td>\n",
       "      <td>curated</td>\n",
       "      <td>CC-BY 4.0</td>\n",
       "      <td>NaN</td>\n",
       "      <td>NaN</td>\n",
       "    </tr>\n",
       "    <tr>\n",
       "      <th>1</th>\n",
       "      <td>GO:0046386</td>\n",
       "      <td>deoxyribose phosphate catabolic process</td>\n",
       "      <td>has_primary_input</td>\n",
       "      <td>CHEBI:19569</td>\n",
       "      <td>2-deoxyribose phosphate</td>\n",
       "      <td>GO</td>\n",
       "      <td>CHEBI</td>\n",
       "      <td>Gene Ontology</td>\n",
       "      <td>curated</td>\n",
       "      <td>CC-BY 4.0</td>\n",
       "      <td>NaN</td>\n",
       "      <td>NaN</td>\n",
       "    </tr>\n",
       "  </tbody>\n",
       "</table>\n",
       "</div>"
      ],
      "text/plain": [
       "       src_id                                 src_name  \\\n",
       "0  GO:0035942         dehydroepiandrosterone secretion   \n",
       "1  GO:0046386  deoxyribose phosphate catabolic process   \n",
       "\n",
       "                                  rel_type       tgt_id  \\\n",
       "0  transports_or_maintains_localization_of  CHEBI:28689   \n",
       "1                        has_primary_input  CHEBI:19569   \n",
       "\n",
       "                  tgt_name src_src tgt_src         source dsrc_type  \\\n",
       "0   dehydroepiandrosterone      GO   CHEBI  Gene Ontology   curated   \n",
       "1  2-deoxyribose phosphate      GO   CHEBI  Gene Ontology   curated   \n",
       "\n",
       "     license tgt_child comp_type  \n",
       "0  CC-BY 4.0       NaN       NaN  \n",
       "1  CC-BY 4.0       NaN       NaN  "
      ]
     },
     "execution_count": 119,
     "metadata": {},
     "output_type": "execute_result"
    }
   ],
   "source": [
    "go_to_cheb_edges.head(2)"
   ]
  },
  {
   "cell_type": "code",
   "execution_count": 120,
   "metadata": {},
   "outputs": [
    {
     "data": {
      "text/plain": [
       "16364"
      ]
     },
     "execution_count": 120,
     "metadata": {},
     "output_type": "execute_result"
    }
   ],
   "source": [
    "go_to_cheb_edges['tgt_id'].nunique()"
   ]
  },
  {
   "cell_type": "code",
   "execution_count": 121,
   "metadata": {},
   "outputs": [
    {
     "data": {
      "text/plain": [
       "2072"
      ]
     },
     "execution_count": 121,
     "metadata": {},
     "output_type": "execute_result"
    }
   ],
   "source": [
    "go_to_chebi['tgt_id'].nunique()"
   ]
  },
  {
   "cell_type": "code",
   "execution_count": 122,
   "metadata": {},
   "outputs": [
    {
     "data": {
      "text/plain": [
       "has_primary_input_or_output                14526\n",
       "has_primary_output                         12577\n",
       "has_primary_input                           8885\n",
       "transports_or_maintains_localization_of     6712\n",
       "has_input                                   5242\n",
       "imports                                     1141\n",
       "regulates_level_of                           266\n",
       "exports                                      246\n",
       "has_output                                   206\n",
       "has_intermediate                             149\n",
       "has_participant                               37\n",
       "has_part                                      13\n",
       "mediated_by                                   12\n",
       "Name: rel_type, dtype: int64"
      ]
     },
     "execution_count": 122,
     "metadata": {},
     "output_type": "execute_result"
    }
   ],
   "source": [
    "go_to_cheb_edges['rel_type'].value_counts()"
   ]
  },
  {
   "cell_type": "code",
   "execution_count": 123,
   "metadata": {},
   "outputs": [
    {
     "data": {
      "text/html": [
       "<div>\n",
       "<style scoped>\n",
       "    .dataframe tbody tr th:only-of-type {\n",
       "        vertical-align: middle;\n",
       "    }\n",
       "\n",
       "    .dataframe tbody tr th {\n",
       "        vertical-align: top;\n",
       "    }\n",
       "\n",
       "    .dataframe thead th {\n",
       "        text-align: right;\n",
       "    }\n",
       "</style>\n",
       "<table border=\"1\" class=\"dataframe\">\n",
       "  <thead>\n",
       "    <tr style=\"text-align: right;\">\n",
       "      <th></th>\n",
       "      <th>src_id</th>\n",
       "      <th>src_name</th>\n",
       "      <th>rel_type</th>\n",
       "      <th>tgt_id</th>\n",
       "      <th>tgt_name</th>\n",
       "      <th>src_src</th>\n",
       "      <th>tgt_src</th>\n",
       "      <th>source</th>\n",
       "      <th>dsrc_type</th>\n",
       "      <th>license</th>\n",
       "      <th>tgt_child</th>\n",
       "      <th>comp_type</th>\n",
       "    </tr>\n",
       "  </thead>\n",
       "  <tbody>\n",
       "    <tr>\n",
       "      <th>0</th>\n",
       "      <td>GO:0035942</td>\n",
       "      <td>dehydroepiandrosterone secretion</td>\n",
       "      <td>transports_or_maintains_localization_of</td>\n",
       "      <td>CHEBI:28689</td>\n",
       "      <td>dehydroepiandrosterone</td>\n",
       "      <td>GO</td>\n",
       "      <td>CHEBI</td>\n",
       "      <td>Gene Ontology</td>\n",
       "      <td>curated</td>\n",
       "      <td>CC-BY 4.0</td>\n",
       "      <td>NaN</td>\n",
       "      <td>NaN</td>\n",
       "    </tr>\n",
       "    <tr>\n",
       "      <th>1</th>\n",
       "      <td>GO:0046386</td>\n",
       "      <td>deoxyribose phosphate catabolic process</td>\n",
       "      <td>has_primary_input</td>\n",
       "      <td>CHEBI:19569</td>\n",
       "      <td>2-deoxyribose phosphate</td>\n",
       "      <td>GO</td>\n",
       "      <td>CHEBI</td>\n",
       "      <td>Gene Ontology</td>\n",
       "      <td>curated</td>\n",
       "      <td>CC-BY 4.0</td>\n",
       "      <td>NaN</td>\n",
       "      <td>NaN</td>\n",
       "    </tr>\n",
       "  </tbody>\n",
       "</table>\n",
       "</div>"
      ],
      "text/plain": [
       "       src_id                                 src_name  \\\n",
       "0  GO:0035942         dehydroepiandrosterone secretion   \n",
       "1  GO:0046386  deoxyribose phosphate catabolic process   \n",
       "\n",
       "                                  rel_type       tgt_id  \\\n",
       "0  transports_or_maintains_localization_of  CHEBI:28689   \n",
       "1                        has_primary_input  CHEBI:19569   \n",
       "\n",
       "                  tgt_name src_src tgt_src         source dsrc_type  \\\n",
       "0   dehydroepiandrosterone      GO   CHEBI  Gene Ontology   curated   \n",
       "1  2-deoxyribose phosphate      GO   CHEBI  Gene Ontology   curated   \n",
       "\n",
       "     license tgt_child comp_type  \n",
       "0  CC-BY 4.0       NaN       NaN  \n",
       "1  CC-BY 4.0       NaN       NaN  "
      ]
     },
     "execution_count": 123,
     "metadata": {},
     "output_type": "execute_result"
    }
   ],
   "source": [
    "go_to_cheb_edges.head(2)"
   ]
  },
  {
   "cell_type": "code",
   "execution_count": 124,
   "metadata": {},
   "outputs": [],
   "source": [
    "go_to_cheb_edges = edge_rename(go_to_cheb_edges)"
   ]
  },
  {
   "cell_type": "markdown",
   "metadata": {},
   "source": [
    "## GO to NCBITaxon"
   ]
  },
  {
   "cell_type": "code",
   "execution_count": 125,
   "metadata": {},
   "outputs": [
    {
     "data": {
      "text/plain": [
       "513"
      ]
     },
     "execution_count": 125,
     "metadata": {},
     "output_type": "execute_result"
    }
   ],
   "source": [
    "go_to_tax = go_edges.query('src_src == \"GO\" and tgt_src == \"NCBITaxon\" and tgt_id in @ok_taxa').copy()\n",
    "len(go_to_tax)"
   ]
  },
  {
   "cell_type": "code",
   "execution_count": 126,
   "metadata": {},
   "outputs": [
    {
     "data": {
      "text/plain": [
       "1058742"
      ]
     },
     "execution_count": 126,
     "metadata": {},
     "output_type": "execute_result"
    }
   ],
   "source": [
    "go_to_tax['tax_id'] = go_to_tax['tgt_id'].map(inf_tax_map).fillna(go_to_tax['tgt_id'])\n",
    "go_to_tax['tax_id'] = go_to_tax['tax_id'].apply(lambda t: '|'.join(list(t)) if type(t) == set else t)\n",
    "\n",
    "go_to_tax = expand_col_on_char(go_to_tax, 'tax_id', '|')\n",
    "len(go_to_tax)"
   ]
  },
  {
   "cell_type": "code",
   "execution_count": 127,
   "metadata": {},
   "outputs": [
    {
     "data": {
      "text/html": [
       "<div>\n",
       "<style scoped>\n",
       "    .dataframe tbody tr th:only-of-type {\n",
       "        vertical-align: middle;\n",
       "    }\n",
       "\n",
       "    .dataframe tbody tr th {\n",
       "        vertical-align: top;\n",
       "    }\n",
       "\n",
       "    .dataframe thead th {\n",
       "        text-align: right;\n",
       "    }\n",
       "</style>\n",
       "<table border=\"1\" class=\"dataframe\">\n",
       "  <thead>\n",
       "    <tr style=\"text-align: right;\">\n",
       "      <th></th>\n",
       "      <th>rel_type</th>\n",
       "      <th>src_id</th>\n",
       "      <th>src_src</th>\n",
       "      <th>src_name</th>\n",
       "      <th>tgt_id</th>\n",
       "      <th>tgt_src</th>\n",
       "      <th>tgt_name</th>\n",
       "      <th>source</th>\n",
       "      <th>dsrc_type</th>\n",
       "      <th>license</th>\n",
       "      <th>tax_id</th>\n",
       "    </tr>\n",
       "  </thead>\n",
       "  <tbody>\n",
       "    <tr>\n",
       "      <th>554552</th>\n",
       "      <td>only_in_taxon</td>\n",
       "      <td>GO:0005850</td>\n",
       "      <td>GO</td>\n",
       "      <td>eukaryotic translation initiation factor 2 com...</td>\n",
       "      <td>NCBITaxon:2759</td>\n",
       "      <td>NCBITaxon</td>\n",
       "      <td>Eukaryota</td>\n",
       "      <td>Gene Ontology</td>\n",
       "      <td>curated</td>\n",
       "      <td>CC-BY 4.0</td>\n",
       "      <td>NCBITaxon:2133763</td>\n",
       "    </tr>\n",
       "    <tr>\n",
       "      <th>347613</th>\n",
       "      <td>only_in_taxon</td>\n",
       "      <td>GO:0071629</td>\n",
       "      <td>GO</td>\n",
       "      <td>cytoplasm protein quality control by the ubiqu...</td>\n",
       "      <td>NCBITaxon:2759</td>\n",
       "      <td>NCBITaxon</td>\n",
       "      <td>Eukaryota</td>\n",
       "      <td>Gene Ontology</td>\n",
       "      <td>curated</td>\n",
       "      <td>CC-BY 4.0</td>\n",
       "      <td>NCBITaxon:1312503</td>\n",
       "    </tr>\n",
       "    <tr>\n",
       "      <th>841866</th>\n",
       "      <td>only_in_taxon</td>\n",
       "      <td>GO:1900727</td>\n",
       "      <td>GO</td>\n",
       "      <td>osmoregulated periplasmic glucan biosynthetic ...</td>\n",
       "      <td>NCBITaxon:2</td>\n",
       "      <td>NCBITaxon</td>\n",
       "      <td>Bacteria</td>\n",
       "      <td>Gene Ontology</td>\n",
       "      <td>curated</td>\n",
       "      <td>CC-BY 4.0</td>\n",
       "      <td>NCBITaxon:67274</td>\n",
       "    </tr>\n",
       "    <tr>\n",
       "      <th>631270</th>\n",
       "      <td>only_in_taxon</td>\n",
       "      <td>GO:0040007</td>\n",
       "      <td>GO</td>\n",
       "      <td>growth</td>\n",
       "      <td>NCBITaxon:131567</td>\n",
       "      <td>NCBITaxon</td>\n",
       "      <td>cellular organisms</td>\n",
       "      <td>Gene Ontology</td>\n",
       "      <td>curated</td>\n",
       "      <td>CC-BY 4.0</td>\n",
       "      <td>NCBITaxon:130496</td>\n",
       "    </tr>\n",
       "    <tr>\n",
       "      <th>806202</th>\n",
       "      <td>only_in_taxon</td>\n",
       "      <td>GO:0071712</td>\n",
       "      <td>GO</td>\n",
       "      <td>ER-associated misfolded protein catabolic process</td>\n",
       "      <td>NCBITaxon:2759</td>\n",
       "      <td>NCBITaxon</td>\n",
       "      <td>Eukaryota</td>\n",
       "      <td>Gene Ontology</td>\n",
       "      <td>curated</td>\n",
       "      <td>CC-BY 4.0</td>\n",
       "      <td>NCBITaxon:1196540</td>\n",
       "    </tr>\n",
       "  </tbody>\n",
       "</table>\n",
       "</div>"
      ],
      "text/plain": [
       "             rel_type      src_id src_src  \\\n",
       "554552  only_in_taxon  GO:0005850      GO   \n",
       "347613  only_in_taxon  GO:0071629      GO   \n",
       "841866  only_in_taxon  GO:1900727      GO   \n",
       "631270  only_in_taxon  GO:0040007      GO   \n",
       "806202  only_in_taxon  GO:0071712      GO   \n",
       "\n",
       "                                                 src_name            tgt_id  \\\n",
       "554552  eukaryotic translation initiation factor 2 com...    NCBITaxon:2759   \n",
       "347613  cytoplasm protein quality control by the ubiqu...    NCBITaxon:2759   \n",
       "841866  osmoregulated periplasmic glucan biosynthetic ...       NCBITaxon:2   \n",
       "631270                                             growth  NCBITaxon:131567   \n",
       "806202  ER-associated misfolded protein catabolic process    NCBITaxon:2759   \n",
       "\n",
       "          tgt_src            tgt_name         source dsrc_type    license  \\\n",
       "554552  NCBITaxon           Eukaryota  Gene Ontology   curated  CC-BY 4.0   \n",
       "347613  NCBITaxon           Eukaryota  Gene Ontology   curated  CC-BY 4.0   \n",
       "841866  NCBITaxon            Bacteria  Gene Ontology   curated  CC-BY 4.0   \n",
       "631270  NCBITaxon  cellular organisms  Gene Ontology   curated  CC-BY 4.0   \n",
       "806202  NCBITaxon           Eukaryota  Gene Ontology   curated  CC-BY 4.0   \n",
       "\n",
       "                   tax_id  \n",
       "554552  NCBITaxon:2133763  \n",
       "347613  NCBITaxon:1312503  \n",
       "841866    NCBITaxon:67274  \n",
       "631270   NCBITaxon:130496  \n",
       "806202  NCBITaxon:1196540  "
      ]
     },
     "execution_count": 127,
     "metadata": {},
     "output_type": "execute_result"
    }
   ],
   "source": [
    "go_to_tax.sample(5)"
   ]
  },
  {
   "cell_type": "code",
   "execution_count": 128,
   "metadata": {},
   "outputs": [
    {
     "data": {
      "text/html": [
       "<div>\n",
       "<style scoped>\n",
       "    .dataframe tbody tr th:only-of-type {\n",
       "        vertical-align: middle;\n",
       "    }\n",
       "\n",
       "    .dataframe tbody tr th {\n",
       "        vertical-align: top;\n",
       "    }\n",
       "\n",
       "    .dataframe thead th {\n",
       "        text-align: right;\n",
       "    }\n",
       "</style>\n",
       "<table border=\"1\" class=\"dataframe\">\n",
       "  <thead>\n",
       "    <tr style=\"text-align: right;\">\n",
       "      <th></th>\n",
       "      <th>start_id</th>\n",
       "      <th>end_id</th>\n",
       "      <th>type</th>\n",
       "      <th>source</th>\n",
       "      <th>dsrc_type</th>\n",
       "      <th>license</th>\n",
       "    </tr>\n",
       "  </thead>\n",
       "  <tbody>\n",
       "    <tr>\n",
       "      <th>0</th>\n",
       "      <td>GO:0048102</td>\n",
       "      <td>NCBITaxon:2018661</td>\n",
       "      <td>only_in_taxon</td>\n",
       "      <td>Gene Ontology</td>\n",
       "      <td>curated</td>\n",
       "      <td>CC-BY 4.0</td>\n",
       "    </tr>\n",
       "    <tr>\n",
       "      <th>1</th>\n",
       "      <td>GO:0048102</td>\n",
       "      <td>NCBITaxon:320112</td>\n",
       "      <td>only_in_taxon</td>\n",
       "      <td>Gene Ontology</td>\n",
       "      <td>curated</td>\n",
       "      <td>CC-BY 4.0</td>\n",
       "    </tr>\n",
       "  </tbody>\n",
       "</table>\n",
       "</div>"
      ],
      "text/plain": [
       "     start_id             end_id           type         source dsrc_type  \\\n",
       "0  GO:0048102  NCBITaxon:2018661  only_in_taxon  Gene Ontology   curated   \n",
       "1  GO:0048102   NCBITaxon:320112  only_in_taxon  Gene Ontology   curated   \n",
       "\n",
       "     license  \n",
       "0  CC-BY 4.0  \n",
       "1  CC-BY 4.0  "
      ]
     },
     "execution_count": 128,
     "metadata": {},
     "output_type": "execute_result"
    }
   ],
   "source": [
    "go_to_tax_edges = go_to_tax.rename(columns={'src_id': 'start_id', 'tax_id': 'end_id', 'rel_type': 'type'})\n",
    "\n",
    "go_to_tax_edges = gt.order_cols(go_to_tax_edges.drop(['src_name', 'tgt_id', 'tgt_name', 'src_src', 'tgt_src'], axis=1))\n",
    "go_to_tax_edges.head(2)"
   ]
  },
  {
   "cell_type": "markdown",
   "metadata": {},
   "source": [
    "# Final edge processing"
   ]
  },
  {
   "cell_type": "code",
   "execution_count": 129,
   "metadata": {},
   "outputs": [],
   "source": [
    "all_new_edges = [pr_to_tax_edges, cl_to_pr_edges, cl_to_go_edges, cl_to_ub_edges, go_to_cl_edges, \n",
    "                 go_to_cheb_edges, go_to_ub_edges, ub_to_cl_edges, ub_to_go_edges, go_to_tax_edges]"
   ]
  },
  {
   "cell_type": "code",
   "execution_count": 130,
   "metadata": {},
   "outputs": [
    {
     "data": {
      "text/plain": [
       "1192936"
      ]
     },
     "execution_count": 130,
     "metadata": {},
     "output_type": "execute_result"
    }
   ],
   "source": [
    "all_new_edges = pd.concat(all_new_edges, ignore_index=True, sort=False)\n",
    "len(all_new_edges)"
   ]
  },
  {
   "cell_type": "code",
   "execution_count": 131,
   "metadata": {
    "scrolled": true
   },
   "outputs": [
    {
     "data": {
      "text/html": [
       "<div>\n",
       "<style scoped>\n",
       "    .dataframe tbody tr th:only-of-type {\n",
       "        vertical-align: middle;\n",
       "    }\n",
       "\n",
       "    .dataframe tbody tr th {\n",
       "        vertical-align: top;\n",
       "    }\n",
       "\n",
       "    .dataframe thead th {\n",
       "        text-align: right;\n",
       "    }\n",
       "</style>\n",
       "<table border=\"1\" class=\"dataframe\">\n",
       "  <thead>\n",
       "    <tr style=\"text-align: right;\">\n",
       "      <th></th>\n",
       "      <th>start_id</th>\n",
       "      <th>end_id</th>\n",
       "      <th>type</th>\n",
       "      <th>source</th>\n",
       "      <th>dsrc_type</th>\n",
       "      <th>license</th>\n",
       "      <th>src_name</th>\n",
       "      <th>orig_tgt</th>\n",
       "      <th>orig_name</th>\n",
       "      <th>src_src</th>\n",
       "      <th>tgt_src</th>\n",
       "      <th>uniprot_id</th>\n",
       "      <th>uniprot_name</th>\n",
       "      <th>taxid</th>\n",
       "      <th>pr_id</th>\n",
       "      <th>comp_type</th>\n",
       "      <th>tgt_name</th>\n",
       "      <th>tgt_child</th>\n",
       "    </tr>\n",
       "  </thead>\n",
       "  <tbody>\n",
       "    <tr>\n",
       "      <th>0</th>\n",
       "      <td>PR:000000092</td>\n",
       "      <td>NCBITaxon:1235003</td>\n",
       "      <td>only_in_taxon</td>\n",
       "      <td>Protein Ontology</td>\n",
       "      <td>curated</td>\n",
       "      <td>CC-BY 4.0</td>\n",
       "      <td>NaN</td>\n",
       "      <td>NaN</td>\n",
       "      <td>NaN</td>\n",
       "      <td>NaN</td>\n",
       "      <td>NaN</td>\n",
       "      <td>NaN</td>\n",
       "      <td>NaN</td>\n",
       "      <td>NaN</td>\n",
       "      <td>NaN</td>\n",
       "      <td>NaN</td>\n",
       "      <td>NaN</td>\n",
       "      <td>NaN</td>\n",
       "    </tr>\n",
       "    <tr>\n",
       "      <th>1</th>\n",
       "      <td>PR:000000092</td>\n",
       "      <td>NCBITaxon:344394</td>\n",
       "      <td>only_in_taxon</td>\n",
       "      <td>Protein Ontology</td>\n",
       "      <td>curated</td>\n",
       "      <td>CC-BY 4.0</td>\n",
       "      <td>NaN</td>\n",
       "      <td>NaN</td>\n",
       "      <td>NaN</td>\n",
       "      <td>NaN</td>\n",
       "      <td>NaN</td>\n",
       "      <td>NaN</td>\n",
       "      <td>NaN</td>\n",
       "      <td>NaN</td>\n",
       "      <td>NaN</td>\n",
       "      <td>NaN</td>\n",
       "      <td>NaN</td>\n",
       "      <td>NaN</td>\n",
       "    </tr>\n",
       "  </tbody>\n",
       "</table>\n",
       "</div>"
      ],
      "text/plain": [
       "       start_id             end_id           type            source dsrc_type  \\\n",
       "0  PR:000000092  NCBITaxon:1235003  only_in_taxon  Protein Ontology   curated   \n",
       "1  PR:000000092   NCBITaxon:344394  only_in_taxon  Protein Ontology   curated   \n",
       "\n",
       "     license src_name orig_tgt orig_name src_src tgt_src uniprot_id  \\\n",
       "0  CC-BY 4.0      NaN      NaN       NaN     NaN     NaN        NaN   \n",
       "1  CC-BY 4.0      NaN      NaN       NaN     NaN     NaN        NaN   \n",
       "\n",
       "  uniprot_name taxid pr_id comp_type tgt_name tgt_child  \n",
       "0          NaN   NaN   NaN       NaN      NaN       NaN  \n",
       "1          NaN   NaN   NaN       NaN      NaN       NaN  "
      ]
     },
     "execution_count": 131,
     "metadata": {},
     "output_type": "execute_result"
    }
   ],
   "source": [
    "all_new_edges.head(2)"
   ]
  },
  {
   "cell_type": "code",
   "execution_count": 132,
   "metadata": {},
   "outputs": [
    {
     "data": {
      "text/plain": [
       "only_in_taxon                                     1126463\n",
       "has_input                                           16215\n",
       "has_primary_input_or_output                         14526\n",
       "has_primary_output                                  12577\n",
       "has_primary_input                                    8885\n",
       "                                                   ...   \n",
       "extends_fibers_into                                     1\n",
       "innervates                                              1\n",
       "results_in_assembly_of                                  1\n",
       "has_component                                           1\n",
       "has_potential_to_developmentally_contribute_to          1\n",
       "Name: type, Length: 71, dtype: int64"
      ]
     },
     "execution_count": 132,
     "metadata": {},
     "output_type": "execute_result"
    }
   ],
   "source": [
    "all_new_edges['type'].value_counts()"
   ]
  },
  {
   "cell_type": "code",
   "execution_count": 133,
   "metadata": {},
   "outputs": [],
   "source": [
    "all_edge_ids = set(all_new_edges['start_id']).union(set(all_new_edges['end_id']).union(all_new_edges['orig_tgt'].dropna()))"
   ]
  },
  {
   "cell_type": "markdown",
   "metadata": {},
   "source": [
    "### Load in the nodes that we haven't used"
   ]
  },
  {
   "cell_type": "code",
   "execution_count": 134,
   "metadata": {},
   "outputs": [],
   "source": [
    "cl_nodes = ot.get_ontology_nodes(data_dir.joinpath('cl.obo'), 'CL')\n",
    "ub_nodes = ot.get_ontology_nodes(data_dir.joinpath('ext.obo'), 'UBERON')\n",
    "hp_nodes = ot.get_ontology_nodes(data_dir.joinpath('hpo.obo'), 'HP')\n",
    "tax_nodes = ot.get_ontology_nodes(data_dir.joinpath('ncbitaxon.obo'), 'NCBITaxon')"
   ]
  },
  {
   "cell_type": "code",
   "execution_count": 135,
   "metadata": {},
   "outputs": [
    {
     "data": {
      "text/html": [
       "<div>\n",
       "<style scoped>\n",
       "    .dataframe tbody tr th:only-of-type {\n",
       "        vertical-align: middle;\n",
       "    }\n",
       "\n",
       "    .dataframe tbody tr th {\n",
       "        vertical-align: top;\n",
       "    }\n",
       "\n",
       "    .dataframe thead th {\n",
       "        text-align: right;\n",
       "    }\n",
       "</style>\n",
       "<table border=\"1\" class=\"dataframe\">\n",
       "  <thead>\n",
       "    <tr style=\"text-align: right;\">\n",
       "      <th></th>\n",
       "      <th>id</th>\n",
       "      <th>name</th>\n",
       "      <th>label</th>\n",
       "      <th>xrefs</th>\n",
       "    </tr>\n",
       "  </thead>\n",
       "  <tbody>\n",
       "    <tr>\n",
       "      <th>760248</th>\n",
       "      <td>NCBIGene:383</td>\n",
       "      <td>ARG1</td>\n",
       "      <td>Gene</td>\n",
       "      <td>ENSG:ENSG00000118520|HGNC:663|NCBIGene:383|OMI...</td>\n",
       "    </tr>\n",
       "  </tbody>\n",
       "</table>\n",
       "</div>"
      ],
      "text/plain": [
       "                  id  name label  \\\n",
       "760248  NCBIGene:383  ARG1  Gene   \n",
       "\n",
       "                                                    xrefs  \n",
       "760248  ENSG:ENSG00000118520|HGNC:663|NCBIGene:383|OMI...  "
      ]
     },
     "execution_count": 135,
     "metadata": {},
     "output_type": "execute_result"
    }
   ],
   "source": [
    "nodes.query('id == \"NCBIGene:383\"')"
   ]
  },
  {
   "cell_type": "code",
   "execution_count": 136,
   "metadata": {},
   "outputs": [],
   "source": [
    "ok_pr_nodes['label'] = 'Gene'\n",
    "cl_nodes['label'] = 'Cell Type'\n",
    "chebi_nodes['label'] = 'Compound'\n",
    "ub_nodes['label'] = 'Anatomy'\n",
    "hp_nodes['label'] = 'Phenotype'\n",
    "go_nodes['label'] = go_nodes['hasOBONamespace'].str.replace('_', ' ').str.title()\n",
    "tax_nodes['label'] = 'Taxon'\n",
    "\n",
    "all_new_nodes = pd.concat([go_nodes.query('id_src == \"GO\"'), inf_pr_nodes, ok_pr_nodes, cl_nodes, \n",
    "                       chebi_nodes.query('id_src == \"CHEBI\"'), \n",
    "                       ub_nodes, hp_nodes, tax_nodes], ignore_index=True, sort=False)"
   ]
  },
  {
   "cell_type": "code",
   "execution_count": 137,
   "metadata": {},
   "outputs": [
    {
     "data": {
      "text/plain": [
       "2136562"
      ]
     },
     "execution_count": 137,
     "metadata": {},
     "output_type": "execute_result"
    }
   ],
   "source": [
    "len(all_new_nodes)"
   ]
  },
  {
   "cell_type": "code",
   "execution_count": 138,
   "metadata": {},
   "outputs": [
    {
     "data": {
      "text/plain": [
       "2131721"
      ]
     },
     "execution_count": 138,
     "metadata": {},
     "output_type": "execute_result"
    }
   ],
   "source": [
    "all_new_nodes = all_new_nodes.query('deprecated != True').copy()\n",
    "len(all_new_nodes)"
   ]
  },
  {
   "cell_type": "code",
   "execution_count": 139,
   "metadata": {},
   "outputs": [
    {
     "data": {
      "text/plain": [
       "53665"
      ]
     },
     "execution_count": 139,
     "metadata": {},
     "output_type": "execute_result"
    }
   ],
   "source": [
    "nodes_filt = all_new_nodes.query('id in @all_edge_ids').reset_index(drop=True)\n",
    "len(nodes_filt)"
   ]
  },
  {
   "cell_type": "code",
   "execution_count": 140,
   "metadata": {},
   "outputs": [
    {
     "data": {
      "text/plain": [
       "['type',\n",
       " 'id_src',\n",
       " 'xrefs',\n",
       " 'deprecated',\n",
       " 'date',\n",
       " 'definition',\n",
       " 'subsets',\n",
       " 'synonyms',\n",
       " 'hasOBONamespace',\n",
       " 'comments',\n",
       " 'RO:0002161',\n",
       " 'hasAlternativeId',\n",
       " 'created:by',\n",
       " 'creation:date',\n",
       " 'IAO:0100001',\n",
       " 'IAO:0000231',\n",
       " 'shorthand',\n",
       " 'consider',\n",
       " 'hasScope',\n",
       " 'creator',\n",
       " 'IAO:0000589',\n",
       " 'IAO:0000425',\n",
       " 'is:class:level',\n",
       " 'is:metadata:tag',\n",
       " 'def',\n",
       " 'alt_id',\n",
       " 'xref',\n",
       " 'replaced_by',\n",
       " 'is_obsolete',\n",
       " 'id_part',\n",
       " 'subset',\n",
       " 'creation_date',\n",
       " 'ikey']"
      ]
     },
     "execution_count": 140,
     "metadata": {},
     "output_type": "execute_result"
    }
   ],
   "source": [
    "num_nogo = len(nodes_filt.query('id_src != \"GO\"'))\n",
    "bad_cols = [c for c in nodes_filt if c not in ['id', 'name', 'label']]\n",
    "bad_cols"
   ]
  },
  {
   "cell_type": "code",
   "execution_count": 141,
   "metadata": {},
   "outputs": [
    {
     "data": {
      "text/html": [
       "<div>\n",
       "<style scoped>\n",
       "    .dataframe tbody tr th:only-of-type {\n",
       "        vertical-align: middle;\n",
       "    }\n",
       "\n",
       "    .dataframe tbody tr th {\n",
       "        vertical-align: top;\n",
       "    }\n",
       "\n",
       "    .dataframe thead th {\n",
       "        text-align: right;\n",
       "    }\n",
       "</style>\n",
       "<table border=\"1\" class=\"dataframe\">\n",
       "  <thead>\n",
       "    <tr style=\"text-align: right;\">\n",
       "      <th></th>\n",
       "      <th>id</th>\n",
       "      <th>name</th>\n",
       "      <th>label</th>\n",
       "    </tr>\n",
       "  </thead>\n",
       "  <tbody>\n",
       "    <tr>\n",
       "      <th>18936</th>\n",
       "      <td>PR:Q03206-1</td>\n",
       "      <td>Ras-related protein ced-10 isoform a (worm)</td>\n",
       "      <td>Gene</td>\n",
       "    </tr>\n",
       "    <tr>\n",
       "      <th>11548</th>\n",
       "      <td>PR:P51559-9</td>\n",
       "      <td>endoprotease bli-4 isoform e (worm)</td>\n",
       "      <td>Gene</td>\n",
       "    </tr>\n",
       "    <tr>\n",
       "      <th>23996</th>\n",
       "      <td>CL:1000477</td>\n",
       "      <td>cardiac pacemaker cell of sinoatrial node</td>\n",
       "      <td>Cell Type</td>\n",
       "    </tr>\n",
       "    <tr>\n",
       "      <th>10237</th>\n",
       "      <td>PR:O61790</td>\n",
       "      <td>orotate phosphoribosyltransferase (worm)</td>\n",
       "      <td>Gene</td>\n",
       "    </tr>\n",
       "    <tr>\n",
       "      <th>5524</th>\n",
       "      <td>GO:0019384</td>\n",
       "      <td>caprolactam catabolic process</td>\n",
       "      <td>Biological Process</td>\n",
       "    </tr>\n",
       "    <tr>\n",
       "      <th>45870</th>\n",
       "      <td>NCBITaxon:1770527</td>\n",
       "      <td>Larkinella soli</td>\n",
       "      <td>Taxon</td>\n",
       "    </tr>\n",
       "    <tr>\n",
       "      <th>32600</th>\n",
       "      <td>CHEBI:132373</td>\n",
       "      <td>mesembryanthemoidigenic acid</td>\n",
       "      <td>Compound</td>\n",
       "    </tr>\n",
       "    <tr>\n",
       "      <th>9609</th>\n",
       "      <td>PR:H2L2B8</td>\n",
       "      <td>anaphase-promoting complex subunit 10 (worm)</td>\n",
       "      <td>Gene</td>\n",
       "    </tr>\n",
       "    <tr>\n",
       "      <th>43045</th>\n",
       "      <td>NCBITaxon:117174</td>\n",
       "      <td>Ustilago tritici</td>\n",
       "      <td>Taxon</td>\n",
       "    </tr>\n",
       "    <tr>\n",
       "      <th>1759</th>\n",
       "      <td>GO:0006714</td>\n",
       "      <td>sesquiterpenoid metabolic process</td>\n",
       "      <td>Biological Process</td>\n",
       "    </tr>\n",
       "  </tbody>\n",
       "</table>\n",
       "</div>"
      ],
      "text/plain": [
       "                      id                                          name  \\\n",
       "18936        PR:Q03206-1   Ras-related protein ced-10 isoform a (worm)   \n",
       "11548        PR:P51559-9           endoprotease bli-4 isoform e (worm)   \n",
       "23996         CL:1000477     cardiac pacemaker cell of sinoatrial node   \n",
       "10237          PR:O61790      orotate phosphoribosyltransferase (worm)   \n",
       "5524          GO:0019384                 caprolactam catabolic process   \n",
       "45870  NCBITaxon:1770527                               Larkinella soli   \n",
       "32600       CHEBI:132373                  mesembryanthemoidigenic acid   \n",
       "9609           PR:H2L2B8  anaphase-promoting complex subunit 10 (worm)   \n",
       "43045   NCBITaxon:117174                              Ustilago tritici   \n",
       "1759          GO:0006714             sesquiterpenoid metabolic process   \n",
       "\n",
       "                    label  \n",
       "18936                Gene  \n",
       "11548                Gene  \n",
       "23996           Cell Type  \n",
       "10237                Gene  \n",
       "5524   Biological Process  \n",
       "45870               Taxon  \n",
       "32600            Compound  \n",
       "9609                 Gene  \n",
       "43045               Taxon  \n",
       "1759   Biological Process  "
      ]
     },
     "execution_count": 141,
     "metadata": {},
     "output_type": "execute_result"
    }
   ],
   "source": [
    "nodes_filt = gt.order_cols(nodes_filt.drop(bad_cols, axis=1))\n",
    "nodes_filt.sample(10)"
   ]
  },
  {
   "cell_type": "code",
   "execution_count": 142,
   "metadata": {},
   "outputs": [],
   "source": [
    "all_new_nodes = gt.order_cols(all_new_nodes.drop(bad_cols, axis=1))"
   ]
  },
  {
   "cell_type": "code",
   "execution_count": 143,
   "metadata": {},
   "outputs": [
    {
     "name": "stdout",
     "output_type": "stream",
     "text": [
      "2131721 53665 1192936\n"
     ]
    }
   ],
   "source": [
    "print(len(all_new_nodes), len(nodes_filt), len(all_new_edges))"
   ]
  },
  {
   "cell_type": "code",
   "execution_count": 144,
   "metadata": {},
   "outputs": [],
   "source": [
    "all_new_edges = all_new_edges[['start_id', 'end_id', 'type', 'source', 'dsrc_type', 'comp_type', 'license']].copy()"
   ]
  },
  {
   "cell_type": "code",
   "execution_count": 145,
   "metadata": {},
   "outputs": [
    {
     "data": {
      "text/html": [
       "<div>\n",
       "<style scoped>\n",
       "    .dataframe tbody tr th:only-of-type {\n",
       "        vertical-align: middle;\n",
       "    }\n",
       "\n",
       "    .dataframe tbody tr th {\n",
       "        vertical-align: top;\n",
       "    }\n",
       "\n",
       "    .dataframe thead th {\n",
       "        text-align: right;\n",
       "    }\n",
       "</style>\n",
       "<table border=\"1\" class=\"dataframe\">\n",
       "  <thead>\n",
       "    <tr style=\"text-align: right;\">\n",
       "      <th></th>\n",
       "      <th>start_id</th>\n",
       "      <th>end_id</th>\n",
       "      <th>type</th>\n",
       "      <th>source</th>\n",
       "      <th>dsrc_type</th>\n",
       "      <th>comp_type</th>\n",
       "      <th>license</th>\n",
       "    </tr>\n",
       "  </thead>\n",
       "  <tbody>\n",
       "    <tr>\n",
       "      <th>0</th>\n",
       "      <td>PR:000000092</td>\n",
       "      <td>NCBITaxon:1235003</td>\n",
       "      <td>only_in_taxon</td>\n",
       "      <td>Protein Ontology</td>\n",
       "      <td>curated</td>\n",
       "      <td>NaN</td>\n",
       "      <td>CC-BY 4.0</td>\n",
       "    </tr>\n",
       "    <tr>\n",
       "      <th>1</th>\n",
       "      <td>PR:000000092</td>\n",
       "      <td>NCBITaxon:344394</td>\n",
       "      <td>only_in_taxon</td>\n",
       "      <td>Protein Ontology</td>\n",
       "      <td>curated</td>\n",
       "      <td>NaN</td>\n",
       "      <td>CC-BY 4.0</td>\n",
       "    </tr>\n",
       "  </tbody>\n",
       "</table>\n",
       "</div>"
      ],
      "text/plain": [
       "       start_id             end_id           type            source dsrc_type  \\\n",
       "0  PR:000000092  NCBITaxon:1235003  only_in_taxon  Protein Ontology   curated   \n",
       "1  PR:000000092   NCBITaxon:344394  only_in_taxon  Protein Ontology   curated   \n",
       "\n",
       "  comp_type    license  \n",
       "0       NaN  CC-BY 4.0  \n",
       "1       NaN  CC-BY 4.0  "
      ]
     },
     "execution_count": 145,
     "metadata": {},
     "output_type": "execute_result"
    }
   ],
   "source": [
    "all_new_edges.head(2)"
   ]
  },
  {
   "cell_type": "code",
   "execution_count": 146,
   "metadata": {},
   "outputs": [
    {
     "data": {
      "text/plain": [
       "Compound              16364\n",
       "Gene                  13851\n",
       "Taxon                 11546\n",
       "Biological Process     7542\n",
       "Cell Type              1540\n",
       "Anatomy                1498\n",
       "Molecular Function     1024\n",
       "Cellular Component      300\n",
       "Name: label, dtype: int64"
      ]
     },
     "execution_count": 146,
     "metadata": {},
     "output_type": "execute_result"
    }
   ],
   "source": [
    "nodes_filt['label'].value_counts()"
   ]
  },
  {
   "cell_type": "markdown",
   "metadata": {},
   "source": [
    "## Integrate with previous iteration of the network"
   ]
  },
  {
   "cell_type": "code",
   "execution_count": 147,
   "metadata": {},
   "outputs": [
    {
     "data": {
      "text/plain": [
       "19666"
      ]
     },
     "execution_count": 147,
     "metadata": {},
     "output_type": "execute_result"
    }
   ],
   "source": [
    "prev_node_ids = nodes['id'].unique()\n",
    "new_nodes = nodes_filt.query('id not in @prev_node_ids').copy()\n",
    "len(new_nodes)"
   ]
  },
  {
   "cell_type": "code",
   "execution_count": 148,
   "metadata": {},
   "outputs": [],
   "source": [
    "all_new_edges = gt.re_id_edges(all_new_edges, uni_to_entrez[['pr_id', 'entrezgene']])"
   ]
  },
  {
   "cell_type": "markdown",
   "metadata": {},
   "source": [
    "Ensure we get all taxids for any new proteins or genes added"
   ]
  },
  {
   "cell_type": "code",
   "execution_count": 149,
   "metadata": {},
   "outputs": [],
   "source": [
    "other_edges = uni_to_entrez.query('taxid in @ok_taxa')[['entrezgene', 'taxid']]\n",
    "other_edges = other_edges.rename(columns={'entrezgene': 'start_id', 'taxid':'end_id'})\n",
    "other_edges['type'] = 'only_in_taxon'\n",
    "other_edges['source'] = 'ensembel'\n",
    "other_edges['dsrc_type'] = 'curated'\n",
    "all_new_edges = pd.concat([all_new_edges, other_edges], sort=False, ignore_index=True)"
   ]
  },
  {
   "cell_type": "code",
   "execution_count": 150,
   "metadata": {},
   "outputs": [
    {
     "data": {
      "text/plain": [
       "Gene                  13851\n",
       "Compound               3306\n",
       "Cell Type              1540\n",
       "Anatomy                 967\n",
       "Biological Process        1\n",
       "Cellular Component        1\n",
       "Name: label, dtype: int64"
      ]
     },
     "execution_count": 150,
     "metadata": {},
     "output_type": "execute_result"
    }
   ],
   "source": [
    "new_nodes['label'].value_counts()"
   ]
  },
  {
   "cell_type": "code",
   "execution_count": 151,
   "metadata": {},
   "outputs": [],
   "source": [
    "nodes_out = pd.concat([nodes, new_nodes], sort=False, ignore_index=True)\n",
    "edges_out = pd.concat([edges, all_new_edges], sort=False, ignore_index=True)"
   ]
  },
  {
   "cell_type": "code",
   "execution_count": 152,
   "metadata": {},
   "outputs": [],
   "source": [
    "nodes_out = combine_group_cols_on_char(nodes_out, ['id'], ['xrefs'], sort=True, prog=False)\n",
    "edges_out = combine_group_cols_on_char(edges_out, ['start_id', 'end_id', 'type'], sort=True, prog=False)"
   ]
  },
  {
   "cell_type": "code",
   "execution_count": 153,
   "metadata": {},
   "outputs": [
    {
     "data": {
      "text/html": [
       "<div>\n",
       "<style scoped>\n",
       "    .dataframe tbody tr th:only-of-type {\n",
       "        vertical-align: middle;\n",
       "    }\n",
       "\n",
       "    .dataframe tbody tr th {\n",
       "        vertical-align: top;\n",
       "    }\n",
       "\n",
       "    .dataframe thead th {\n",
       "        text-align: right;\n",
       "    }\n",
       "</style>\n",
       "<table border=\"1\" class=\"dataframe\">\n",
       "  <thead>\n",
       "    <tr style=\"text-align: right;\">\n",
       "      <th></th>\n",
       "      <th>start_id</th>\n",
       "      <th>end_id</th>\n",
       "      <th>type</th>\n",
       "      <th>dsrc_type</th>\n",
       "      <th>comp_type</th>\n",
       "      <th>p_val</th>\n",
       "      <th>adj_p</th>\n",
       "      <th>source</th>\n",
       "      <th>license</th>\n",
       "      <th>experiments</th>\n",
       "      <th>support_type</th>\n",
       "      <th>pmids</th>\n",
       "    </tr>\n",
       "  </thead>\n",
       "  <tbody>\n",
       "    <tr>\n",
       "      <th>0</th>\n",
       "      <td>CHEMBL:CHEMBL1743034</td>\n",
       "      <td>NCBIGene:3605</td>\n",
       "      <td>Neutralizing antibody</td>\n",
       "      <td>computed</td>\n",
       "      <td>merge</td>\n",
       "      <td>NaN</td>\n",
       "      <td>NaN</td>\n",
       "      <td>WikiData</td>\n",
       "      <td>CC0 1.0</td>\n",
       "      <td>NaN</td>\n",
       "      <td>NaN</td>\n",
       "      <td>NaN</td>\n",
       "    </tr>\n",
       "    <tr>\n",
       "      <th>1</th>\n",
       "      <td>CHEBI:10055</td>\n",
       "      <td>NCBIGene:153</td>\n",
       "      <td>agonist</td>\n",
       "      <td>computed</td>\n",
       "      <td>merge</td>\n",
       "      <td>NaN</td>\n",
       "      <td>NaN</td>\n",
       "      <td>WikiData</td>\n",
       "      <td>CC0 1.0</td>\n",
       "      <td>NaN</td>\n",
       "      <td>NaN</td>\n",
       "      <td>NaN</td>\n",
       "    </tr>\n",
       "    <tr>\n",
       "      <th>2</th>\n",
       "      <td>CHEBI:10056</td>\n",
       "      <td>NCBIGene:1128</td>\n",
       "      <td>agonist</td>\n",
       "      <td>computed</td>\n",
       "      <td>merge</td>\n",
       "      <td>NaN</td>\n",
       "      <td>NaN</td>\n",
       "      <td>WikiData</td>\n",
       "      <td>CC0 1.0</td>\n",
       "      <td>NaN</td>\n",
       "      <td>NaN</td>\n",
       "      <td>NaN</td>\n",
       "    </tr>\n",
       "    <tr>\n",
       "      <th>3</th>\n",
       "      <td>CHEBI:10056</td>\n",
       "      <td>NCBIGene:1129</td>\n",
       "      <td>agonist</td>\n",
       "      <td>computed</td>\n",
       "      <td>merge</td>\n",
       "      <td>NaN</td>\n",
       "      <td>NaN</td>\n",
       "      <td>WikiData</td>\n",
       "      <td>CC0 1.0</td>\n",
       "      <td>NaN</td>\n",
       "      <td>NaN</td>\n",
       "      <td>NaN</td>\n",
       "    </tr>\n",
       "    <tr>\n",
       "      <th>4</th>\n",
       "      <td>CHEBI:10056</td>\n",
       "      <td>NCBIGene:1131</td>\n",
       "      <td>agonist</td>\n",
       "      <td>computed</td>\n",
       "      <td>merge</td>\n",
       "      <td>NaN</td>\n",
       "      <td>NaN</td>\n",
       "      <td>WikiData</td>\n",
       "      <td>CC0 1.0</td>\n",
       "      <td>NaN</td>\n",
       "      <td>NaN</td>\n",
       "      <td>NaN</td>\n",
       "    </tr>\n",
       "    <tr>\n",
       "      <th>...</th>\n",
       "      <td>...</td>\n",
       "      <td>...</td>\n",
       "      <td>...</td>\n",
       "      <td>...</td>\n",
       "      <td>...</td>\n",
       "      <td>...</td>\n",
       "      <td>...</td>\n",
       "      <td>...</td>\n",
       "      <td>...</td>\n",
       "      <td>...</td>\n",
       "      <td>...</td>\n",
       "      <td>...</td>\n",
       "    </tr>\n",
       "    <tr>\n",
       "      <th>3517663</th>\n",
       "      <td>REACT:R-NUL-9011317</td>\n",
       "      <td>NCBIGene:7316</td>\n",
       "      <td>has_input</td>\n",
       "      <td>curated</td>\n",
       "      <td>NaN</td>\n",
       "      <td>NaN</td>\n",
       "      <td>NaN</td>\n",
       "      <td>Reactome</td>\n",
       "      <td>CC0 1.0</td>\n",
       "      <td>NaN</td>\n",
       "      <td>NaN</td>\n",
       "      <td>NaN</td>\n",
       "    </tr>\n",
       "    <tr>\n",
       "      <th>3517664</th>\n",
       "      <td>REACT:R-NUL-9011324</td>\n",
       "      <td>NCBIGene:6233</td>\n",
       "      <td>has_output</td>\n",
       "      <td>curated</td>\n",
       "      <td>NaN</td>\n",
       "      <td>NaN</td>\n",
       "      <td>NaN</td>\n",
       "      <td>Reactome</td>\n",
       "      <td>CC0 1.0</td>\n",
       "      <td>NaN</td>\n",
       "      <td>NaN</td>\n",
       "      <td>NaN</td>\n",
       "    </tr>\n",
       "    <tr>\n",
       "      <th>3517665</th>\n",
       "      <td>REACT:R-NUL-9011324</td>\n",
       "      <td>NCBIGene:7311</td>\n",
       "      <td>has_output</td>\n",
       "      <td>curated</td>\n",
       "      <td>NaN</td>\n",
       "      <td>NaN</td>\n",
       "      <td>NaN</td>\n",
       "      <td>Reactome</td>\n",
       "      <td>CC0 1.0</td>\n",
       "      <td>NaN</td>\n",
       "      <td>NaN</td>\n",
       "      <td>NaN</td>\n",
       "    </tr>\n",
       "    <tr>\n",
       "      <th>3517666</th>\n",
       "      <td>REACT:R-NUL-9011324</td>\n",
       "      <td>NCBIGene:7314</td>\n",
       "      <td>has_output</td>\n",
       "      <td>curated</td>\n",
       "      <td>NaN</td>\n",
       "      <td>NaN</td>\n",
       "      <td>NaN</td>\n",
       "      <td>Reactome</td>\n",
       "      <td>CC0 1.0</td>\n",
       "      <td>NaN</td>\n",
       "      <td>NaN</td>\n",
       "      <td>NaN</td>\n",
       "    </tr>\n",
       "    <tr>\n",
       "      <th>3517667</th>\n",
       "      <td>REACT:R-NUL-9011324</td>\n",
       "      <td>NCBIGene:7316</td>\n",
       "      <td>has_output</td>\n",
       "      <td>curated</td>\n",
       "      <td>NaN</td>\n",
       "      <td>NaN</td>\n",
       "      <td>NaN</td>\n",
       "      <td>Reactome</td>\n",
       "      <td>CC0 1.0</td>\n",
       "      <td>NaN</td>\n",
       "      <td>NaN</td>\n",
       "      <td>NaN</td>\n",
       "    </tr>\n",
       "  </tbody>\n",
       "</table>\n",
       "<p>3517668 rows × 12 columns</p>\n",
       "</div>"
      ],
      "text/plain": [
       "                     start_id         end_id                   type dsrc_type  \\\n",
       "0        CHEMBL:CHEMBL1743034  NCBIGene:3605  Neutralizing antibody  computed   \n",
       "1                 CHEBI:10055   NCBIGene:153                agonist  computed   \n",
       "2                 CHEBI:10056  NCBIGene:1128                agonist  computed   \n",
       "3                 CHEBI:10056  NCBIGene:1129                agonist  computed   \n",
       "4                 CHEBI:10056  NCBIGene:1131                agonist  computed   \n",
       "...                       ...            ...                    ...       ...   \n",
       "3517663   REACT:R-NUL-9011317  NCBIGene:7316              has_input   curated   \n",
       "3517664   REACT:R-NUL-9011324  NCBIGene:6233             has_output   curated   \n",
       "3517665   REACT:R-NUL-9011324  NCBIGene:7311             has_output   curated   \n",
       "3517666   REACT:R-NUL-9011324  NCBIGene:7314             has_output   curated   \n",
       "3517667   REACT:R-NUL-9011324  NCBIGene:7316             has_output   curated   \n",
       "\n",
       "        comp_type p_val adj_p    source  license experiments support_type  \\\n",
       "0           merge   NaN   NaN  WikiData  CC0 1.0         NaN          NaN   \n",
       "1           merge   NaN   NaN  WikiData  CC0 1.0         NaN          NaN   \n",
       "2           merge   NaN   NaN  WikiData  CC0 1.0         NaN          NaN   \n",
       "3           merge   NaN   NaN  WikiData  CC0 1.0         NaN          NaN   \n",
       "4           merge   NaN   NaN  WikiData  CC0 1.0         NaN          NaN   \n",
       "...           ...   ...   ...       ...      ...         ...          ...   \n",
       "3517663       NaN   NaN   NaN  Reactome  CC0 1.0         NaN          NaN   \n",
       "3517664       NaN   NaN   NaN  Reactome  CC0 1.0         NaN          NaN   \n",
       "3517665       NaN   NaN   NaN  Reactome  CC0 1.0         NaN          NaN   \n",
       "3517666       NaN   NaN   NaN  Reactome  CC0 1.0         NaN          NaN   \n",
       "3517667       NaN   NaN   NaN  Reactome  CC0 1.0         NaN          NaN   \n",
       "\n",
       "        pmids  \n",
       "0         NaN  \n",
       "1         NaN  \n",
       "2         NaN  \n",
       "3         NaN  \n",
       "4         NaN  \n",
       "...       ...  \n",
       "3517663   NaN  \n",
       "3517664   NaN  \n",
       "3517665   NaN  \n",
       "3517666   NaN  \n",
       "3517667   NaN  \n",
       "\n",
       "[3517668 rows x 12 columns]"
      ]
     },
     "execution_count": 153,
     "metadata": {},
     "output_type": "execute_result"
    }
   ],
   "source": [
    "edges_out"
   ]
  },
  {
   "cell_type": "code",
   "execution_count": 154,
   "metadata": {},
   "outputs": [
    {
     "data": {
      "text/plain": [
       "369827"
      ]
     },
     "execution_count": 154,
     "metadata": {},
     "output_type": "execute_result"
    }
   ],
   "source": [
    "all_edge_ids = edges_out[['start_id', 'end_id']].stack().unique()\n",
    "len(all_edge_ids)"
   ]
  },
  {
   "cell_type": "code",
   "execution_count": 155,
   "metadata": {},
   "outputs": [
    {
     "data": {
      "text/plain": [
       "(783901, 369824)"
      ]
     },
     "execution_count": 155,
     "metadata": {},
     "output_type": "execute_result"
    }
   ],
   "source": [
    "nodes_filt = nodes_out.query('id in @all_edge_ids').copy()\n",
    "len(nodes_out), len(nodes_filt)"
   ]
  },
  {
   "cell_type": "code",
   "execution_count": 156,
   "metadata": {},
   "outputs": [
    {
     "data": {
      "text/plain": [
       "783901"
      ]
     },
     "execution_count": 156,
     "metadata": {},
     "output_type": "execute_result"
    }
   ],
   "source": [
    "len(nodes_out)"
   ]
  },
  {
   "cell_type": "code",
   "execution_count": 157,
   "metadata": {},
   "outputs": [
    {
     "data": {
      "text/plain": [
       "3517668"
      ]
     },
     "execution_count": 157,
     "metadata": {},
     "output_type": "execute_result"
    }
   ],
   "source": [
    "len(edges_out)"
   ]
  },
  {
   "cell_type": "code",
   "execution_count": 158,
   "metadata": {},
   "outputs": [
    {
     "data": {
      "text/plain": [
       "3497846"
      ]
     },
     "execution_count": 158,
     "metadata": {},
     "output_type": "execute_result"
    }
   ],
   "source": [
    "node_ids = nodes_filt['id'].unique()\n",
    "len(edges_out.query('start_id in @node_ids and end_id in @node_ids'))"
   ]
  },
  {
   "cell_type": "code",
   "execution_count": 159,
   "metadata": {},
   "outputs": [],
   "source": [
    "edges_out = edges_out.drop(edges_out.query('start_id not in @node_ids or end_id not in @node_ids').index)"
   ]
  },
  {
   "cell_type": "code",
   "execution_count": 160,
   "metadata": {},
   "outputs": [
    {
     "data": {
      "text/plain": [
       "0"
      ]
     },
     "execution_count": 160,
     "metadata": {},
     "output_type": "execute_result"
    }
   ],
   "source": [
    "edges_out.duplicated(subset=['start_id', 'end_id', 'type']).sum()"
   ]
  },
  {
   "cell_type": "code",
   "execution_count": 161,
   "metadata": {},
   "outputs": [
    {
     "data": {
      "text/plain": [
       "Gene Ontology                      1158125\n",
       "WikiData                            961699\n",
       "Reactome                            868705\n",
       "Gene Ontology|WikiData              239734\n",
       "miRTarBase                           94641\n",
       "Protein Ontology                     74360\n",
       "Gene Ontology|Reactome|WikiData      29890\n",
       "ensembl                              28426\n",
       "InterPro                             25416\n",
       "Reactome|WikiData                     6991\n",
       "Protein Ontology|ensembel             4494\n",
       "UBERON                                1635\n",
       "Cell Ontology                         1545\n",
       "ComplexPortal                         1394\n",
       "ComplexPortal|Reactome                 661\n",
       "Gene Ontology|Reactome                  93\n",
       "ensembel                                37\n",
       "Name: source, dtype: int64"
      ]
     },
     "execution_count": 161,
     "metadata": {},
     "output_type": "execute_result"
    }
   ],
   "source": [
    "edges_out['source'].value_counts()"
   ]
  },
  {
   "cell_type": "code",
   "execution_count": 162,
   "metadata": {},
   "outputs": [],
   "source": [
    "nodes_out.to_csv(out_dir.joinpath('nodes.csv'), index=False)\n",
    "nodes_filt.to_csv(out_dir.joinpath('nodes_filt.csv'), index=False)\n",
    "edges_out.to_csv(out_dir.joinpath('edges.csv'), index=False)"
   ]
  }
 ],
 "metadata": {
  "kernelspec": {
   "display_name": "Python 3",
   "language": "python",
   "name": "python3"
  },
  "language_info": {
   "codemirror_mode": {
    "name": "ipython",
    "version": 3
   },
   "file_extension": ".py",
   "mimetype": "text/x-python",
   "name": "python",
   "nbconvert_exporter": "python",
   "pygments_lexer": "ipython3",
   "version": "3.7.5"
  }
 },
 "nbformat": 4,
 "nbformat_minor": 2
}
