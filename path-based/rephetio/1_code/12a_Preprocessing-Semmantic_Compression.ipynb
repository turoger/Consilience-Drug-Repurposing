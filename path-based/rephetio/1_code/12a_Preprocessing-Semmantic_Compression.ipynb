{
 "cells": [
  {
   "cell_type": "markdown",
   "metadata": {},
   "source": [
    "# Semmantic Compression\n",
    "\n",
    "Based on metaedges and counts (created in the previous notebook), we made a semmantic compression map. This will allow us to map similarly typed edges together to create a more limited semmantic vocabularly."
   ]
  },
  {
   "cell_type": "code",
   "execution_count": 1,
   "metadata": {},
   "outputs": [
    {
     "name": "stderr",
     "output_type": "stream",
     "text": [
      "/opt/mmayers/software/anaconda3/envs/ml/lib/python3.6/site-packages/data_tools/df_processing.py:4: TqdmExperimentalWarning: Using `tqdm.autonotebook.tqdm` in notebook mode. Use `tqdm.tqdm` instead to force console mode (e.g. in jupyter console)\n",
      "  from tqdm.autonotebook import tqdm\n"
     ]
    }
   ],
   "source": [
    "%matplotlib inline\n",
    "import pandas as pd\n",
    "import seaborn as sns\n",
    "from pathlib import Path\n",
    "import matplotlib.pyplot as plt\n",
    "\n",
    "from data_tools.plotting import count_plot_h\n",
    "from data_tools import combine_nodes_and_edges\n",
    "from data_tools.df_processing import combine_group_cols_on_char, expand_col_on_char\n",
    "from data_tools.graphs import map_edge_types_from_file, add_abbrevs, get_core_network"
   ]
  },
  {
   "cell_type": "code",
   "execution_count": 2,
   "metadata": {},
   "outputs": [],
   "source": [
    "prev_dir = Path('../2_pipeline/11_Reactions_and_Regulation/out').resolve()\n",
    "data_dir = Path('../0_data/manual/').resolve()"
   ]
  },
  {
   "cell_type": "code",
   "execution_count": 3,
   "metadata": {},
   "outputs": [],
   "source": [
    "nodes = pd.read_csv(prev_dir.joinpath('nodes.csv'), dtype=str)\n",
    "edges = pd.read_csv(prev_dir.joinpath('edges.csv'), dtype=str)"
   ]
  },
  {
   "cell_type": "code",
   "execution_count": 4,
   "metadata": {},
   "outputs": [],
   "source": [
    "sem_comp_map = pd.read_csv(data_dir.joinpath('semantic_compression_map.csv'))"
   ]
  },
  {
   "cell_type": "code",
   "execution_count": 5,
   "metadata": {},
   "outputs": [
    {
     "data": {
      "text/plain": [
       "start_label            object\n",
       "type                   object\n",
       "end_label              object\n",
       "counts                  int64\n",
       "new_type               object\n",
       "reverse_node_labels    object\n",
       "dtype: object"
      ]
     },
     "execution_count": 5,
     "metadata": {},
     "output_type": "execute_result"
    }
   ],
   "source": [
    "sem_comp_map.dtypes"
   ]
  },
  {
   "cell_type": "code",
   "execution_count": 6,
   "metadata": {},
   "outputs": [
    {
     "data": {
      "text/html": [
       "<div>\n",
       "<style scoped>\n",
       "    .dataframe tbody tr th:only-of-type {\n",
       "        vertical-align: middle;\n",
       "    }\n",
       "\n",
       "    .dataframe tbody tr th {\n",
       "        vertical-align: top;\n",
       "    }\n",
       "\n",
       "    .dataframe thead th {\n",
       "        text-align: right;\n",
       "    }\n",
       "</style>\n",
       "<table border=\"1\" class=\"dataframe\">\n",
       "  <thead>\n",
       "    <tr style=\"text-align: right;\">\n",
       "      <th></th>\n",
       "      <th>start_label</th>\n",
       "      <th>type</th>\n",
       "      <th>end_label</th>\n",
       "      <th>counts</th>\n",
       "      <th>new_type</th>\n",
       "      <th>reverse_node_labels</th>\n",
       "    </tr>\n",
       "  </thead>\n",
       "  <tbody>\n",
       "    <tr>\n",
       "      <th>0</th>\n",
       "      <td>Anatomy</td>\n",
       "      <td>capable_of</td>\n",
       "      <td>Biological Process</td>\n",
       "      <td>123</td>\n",
       "      <td>site_of</td>\n",
       "      <td>NaN</td>\n",
       "    </tr>\n",
       "    <tr>\n",
       "      <th>1</th>\n",
       "      <td>Anatomy</td>\n",
       "      <td>capable_of_part_of</td>\n",
       "      <td>Biological Process</td>\n",
       "      <td>121</td>\n",
       "      <td>site_of</td>\n",
       "      <td>NaN</td>\n",
       "    </tr>\n",
       "    <tr>\n",
       "      <th>2</th>\n",
       "      <td>Anatomy</td>\n",
       "      <td>contains_process</td>\n",
       "      <td>Biological Process</td>\n",
       "      <td>27</td>\n",
       "      <td>site_of</td>\n",
       "      <td>NaN</td>\n",
       "    </tr>\n",
       "    <tr>\n",
       "      <th>3</th>\n",
       "      <td>Anatomy</td>\n",
       "      <td>output_of</td>\n",
       "      <td>Biological Process</td>\n",
       "      <td>18</td>\n",
       "      <td>produces</td>\n",
       "      <td>True</td>\n",
       "    </tr>\n",
       "    <tr>\n",
       "      <th>4</th>\n",
       "      <td>Anatomy</td>\n",
       "      <td>site_of</td>\n",
       "      <td>Biological Process</td>\n",
       "      <td>13</td>\n",
       "      <td>site_of</td>\n",
       "      <td>NaN</td>\n",
       "    </tr>\n",
       "    <tr>\n",
       "      <th>...</th>\n",
       "      <td>...</td>\n",
       "      <td>...</td>\n",
       "      <td>...</td>\n",
       "      <td>...</td>\n",
       "      <td>...</td>\n",
       "      <td>...</td>\n",
       "    </tr>\n",
       "    <tr>\n",
       "      <th>600</th>\n",
       "      <td>Protein Family</td>\n",
       "      <td>enables</td>\n",
       "      <td>Molecular Function</td>\n",
       "      <td>9518</td>\n",
       "      <td>part_of</td>\n",
       "      <td>NaN</td>\n",
       "    </tr>\n",
       "    <tr>\n",
       "      <th>601</th>\n",
       "      <td>Protein Family</td>\n",
       "      <td>negatively_regulates</td>\n",
       "      <td>Molecular Function</td>\n",
       "      <td>106</td>\n",
       "      <td>negatively_regulates</td>\n",
       "      <td>NaN</td>\n",
       "    </tr>\n",
       "    <tr>\n",
       "      <th>602</th>\n",
       "      <td>Protein Family</td>\n",
       "      <td>positively_regulates</td>\n",
       "      <td>Molecular Function</td>\n",
       "      <td>78</td>\n",
       "      <td>positively_regulates</td>\n",
       "      <td>NaN</td>\n",
       "    </tr>\n",
       "    <tr>\n",
       "      <th>603</th>\n",
       "      <td>Protein Family</td>\n",
       "      <td>regulates</td>\n",
       "      <td>Molecular Function</td>\n",
       "      <td>58</td>\n",
       "      <td>regulates</td>\n",
       "      <td>NaN</td>\n",
       "    </tr>\n",
       "    <tr>\n",
       "      <th>604</th>\n",
       "      <td>Taxon</td>\n",
       "      <td>causes</td>\n",
       "      <td>Disease</td>\n",
       "      <td>69207</td>\n",
       "      <td>causes</td>\n",
       "      <td>NaN</td>\n",
       "    </tr>\n",
       "  </tbody>\n",
       "</table>\n",
       "<p>605 rows × 6 columns</p>\n",
       "</div>"
      ],
      "text/plain": [
       "        start_label                  type           end_label  counts  \\\n",
       "0           Anatomy            capable_of  Biological Process     123   \n",
       "1           Anatomy    capable_of_part_of  Biological Process     121   \n",
       "2           Anatomy      contains_process  Biological Process      27   \n",
       "3           Anatomy             output_of  Biological Process      18   \n",
       "4           Anatomy               site_of  Biological Process      13   \n",
       "..              ...                   ...                 ...     ...   \n",
       "600  Protein Family               enables  Molecular Function    9518   \n",
       "601  Protein Family  negatively_regulates  Molecular Function     106   \n",
       "602  Protein Family  positively_regulates  Molecular Function      78   \n",
       "603  Protein Family             regulates  Molecular Function      58   \n",
       "604           Taxon                causes             Disease   69207   \n",
       "\n",
       "                 new_type reverse_node_labels  \n",
       "0                 site_of                 NaN  \n",
       "1                 site_of                 NaN  \n",
       "2                 site_of                 NaN  \n",
       "3                produces                True  \n",
       "4                 site_of                 NaN  \n",
       "..                    ...                 ...  \n",
       "600               part_of                 NaN  \n",
       "601  negatively_regulates                 NaN  \n",
       "602  positively_regulates                 NaN  \n",
       "603             regulates                 NaN  \n",
       "604                causes                 NaN  \n",
       "\n",
       "[605 rows x 6 columns]"
      ]
     },
     "execution_count": 6,
     "metadata": {},
     "output_type": "execute_result"
    }
   ],
   "source": [
    "sem_comp_map"
   ]
  },
  {
   "cell_type": "code",
   "execution_count": 7,
   "metadata": {},
   "outputs": [
    {
     "data": {
      "text/plain": [
       "221"
      ]
     },
     "execution_count": 7,
     "metadata": {},
     "output_type": "execute_result"
    }
   ],
   "source": [
    "len(sem_comp_map[['start_label', 'new_type', 'end_label']].dropna().drop_duplicates())"
   ]
  },
  {
   "cell_type": "markdown",
   "metadata": {},
   "source": [
    "So we are reducing our total number of metaedges from 605 to 235, about a 60% reduction"
   ]
  },
  {
   "cell_type": "markdown",
   "metadata": {},
   "source": [
    "The mapping function is in-place, so lets do a quick before and after comparison to make sure things are mapped"
   ]
  },
  {
   "cell_type": "code",
   "execution_count": 8,
   "metadata": {},
   "outputs": [
    {
     "data": {
      "text/plain": [
       "(8979599, 8979599)"
      ]
     },
     "execution_count": 8,
     "metadata": {},
     "output_type": "execute_result"
    }
   ],
   "source": [
    "len(edges), len(edges.drop_duplicates(subset=['start_id', 'end_id', 'type']))"
   ]
  },
  {
   "cell_type": "code",
   "execution_count": 9,
   "metadata": {
    "scrolled": true
   },
   "outputs": [
    {
     "name": "stderr",
     "output_type": "stream",
     "text": [
      "100%|██████████| 605/605 [03:30<00:00,  2.87it/s]\n"
     ]
    }
   ],
   "source": [
    "map_edge_types_from_file(edges, sem_comp_map, nodes=nodes)"
   ]
  },
  {
   "cell_type": "code",
   "execution_count": 10,
   "metadata": {},
   "outputs": [
    {
     "data": {
      "text/plain": [
       "(8947338, 8906037)"
      ]
     },
     "execution_count": 10,
     "metadata": {},
     "output_type": "execute_result"
    }
   ],
   "source": [
    "len(edges), len(edges.drop_duplicates(subset=['start_id', 'end_id', 'type']))"
   ]
  },
  {
   "cell_type": "code",
   "execution_count": 11,
   "metadata": {},
   "outputs": [
    {
     "data": {
      "text/html": [
       "<div>\n",
       "<style scoped>\n",
       "    .dataframe tbody tr th:only-of-type {\n",
       "        vertical-align: middle;\n",
       "    }\n",
       "\n",
       "    .dataframe tbody tr th {\n",
       "        vertical-align: top;\n",
       "    }\n",
       "\n",
       "    .dataframe thead th {\n",
       "        text-align: right;\n",
       "    }\n",
       "</style>\n",
       "<table border=\"1\" class=\"dataframe\">\n",
       "  <thead>\n",
       "    <tr style=\"text-align: right;\">\n",
       "      <th></th>\n",
       "      <th>start_id</th>\n",
       "      <th>end_id</th>\n",
       "      <th>type</th>\n",
       "      <th>dsrc_type</th>\n",
       "      <th>comp_type</th>\n",
       "      <th>p_val</th>\n",
       "      <th>adj_p</th>\n",
       "      <th>source</th>\n",
       "      <th>license</th>\n",
       "      <th>experiments</th>\n",
       "      <th>support_type</th>\n",
       "      <th>pmids</th>\n",
       "      <th>phase</th>\n",
       "      <th>date</th>\n",
       "      <th>name</th>\n",
       "      <th>name_x</th>\n",
       "      <th>name_y</th>\n",
       "      <th>merge_id</th>\n",
       "      <th>reactome_id</th>\n",
       "    </tr>\n",
       "  </thead>\n",
       "  <tbody>\n",
       "    <tr>\n",
       "      <th>0</th>\n",
       "      <td>UNII:BTY153760O</td>\n",
       "      <td>NCBIGene:3605</td>\n",
       "      <td>inhibits</td>\n",
       "      <td>computed</td>\n",
       "      <td>merge</td>\n",
       "      <td>NaN</td>\n",
       "      <td>NaN</td>\n",
       "      <td>WikiData</td>\n",
       "      <td>CC0 1.0</td>\n",
       "      <td>NaN</td>\n",
       "      <td>NaN</td>\n",
       "      <td>NaN</td>\n",
       "      <td>NaN</td>\n",
       "      <td>NaN</td>\n",
       "      <td>NaN</td>\n",
       "      <td>NaN</td>\n",
       "      <td>NaN</td>\n",
       "      <td>NaN</td>\n",
       "      <td>NaN</td>\n",
       "    </tr>\n",
       "    <tr>\n",
       "      <th>1</th>\n",
       "      <td>CHEBI:10055</td>\n",
       "      <td>NCBIGene:153</td>\n",
       "      <td>activates</td>\n",
       "      <td>computed</td>\n",
       "      <td>merge</td>\n",
       "      <td>NaN</td>\n",
       "      <td>NaN</td>\n",
       "      <td>WikiData</td>\n",
       "      <td>CC0 1.0</td>\n",
       "      <td>NaN</td>\n",
       "      <td>NaN</td>\n",
       "      <td>NaN</td>\n",
       "      <td>NaN</td>\n",
       "      <td>NaN</td>\n",
       "      <td>NaN</td>\n",
       "      <td>NaN</td>\n",
       "      <td>NaN</td>\n",
       "      <td>NaN</td>\n",
       "      <td>NaN</td>\n",
       "    </tr>\n",
       "    <tr>\n",
       "      <th>2</th>\n",
       "      <td>CHEBI:10056</td>\n",
       "      <td>NCBIGene:1129</td>\n",
       "      <td>activates</td>\n",
       "      <td>computed</td>\n",
       "      <td>merge</td>\n",
       "      <td>NaN</td>\n",
       "      <td>NaN</td>\n",
       "      <td>WikiData</td>\n",
       "      <td>CC0 1.0</td>\n",
       "      <td>NaN</td>\n",
       "      <td>NaN</td>\n",
       "      <td>NaN</td>\n",
       "      <td>NaN</td>\n",
       "      <td>NaN</td>\n",
       "      <td>NaN</td>\n",
       "      <td>NaN</td>\n",
       "      <td>NaN</td>\n",
       "      <td>NaN</td>\n",
       "      <td>NaN</td>\n",
       "    </tr>\n",
       "    <tr>\n",
       "      <th>3</th>\n",
       "      <td>CHEBI:10056</td>\n",
       "      <td>NCBIGene:1131</td>\n",
       "      <td>activates</td>\n",
       "      <td>computed</td>\n",
       "      <td>merge</td>\n",
       "      <td>NaN</td>\n",
       "      <td>NaN</td>\n",
       "      <td>WikiData</td>\n",
       "      <td>CC0 1.0</td>\n",
       "      <td>NaN</td>\n",
       "      <td>NaN</td>\n",
       "      <td>NaN</td>\n",
       "      <td>NaN</td>\n",
       "      <td>NaN</td>\n",
       "      <td>NaN</td>\n",
       "      <td>NaN</td>\n",
       "      <td>NaN</td>\n",
       "      <td>NaN</td>\n",
       "      <td>NaN</td>\n",
       "    </tr>\n",
       "    <tr>\n",
       "      <th>4</th>\n",
       "      <td>CHEBI:10056</td>\n",
       "      <td>NCBIGene:1133</td>\n",
       "      <td>activates</td>\n",
       "      <td>computed</td>\n",
       "      <td>merge</td>\n",
       "      <td>NaN</td>\n",
       "      <td>NaN</td>\n",
       "      <td>WikiData</td>\n",
       "      <td>CC0 1.0</td>\n",
       "      <td>NaN</td>\n",
       "      <td>NaN</td>\n",
       "      <td>NaN</td>\n",
       "      <td>NaN</td>\n",
       "      <td>NaN</td>\n",
       "      <td>NaN</td>\n",
       "      <td>NaN</td>\n",
       "      <td>NaN</td>\n",
       "      <td>NaN</td>\n",
       "      <td>NaN</td>\n",
       "    </tr>\n",
       "    <tr>\n",
       "      <th>5</th>\n",
       "      <td>CHEBI:10056</td>\n",
       "      <td>NCBIGene:3350</td>\n",
       "      <td>activates</td>\n",
       "      <td>computed</td>\n",
       "      <td>merge</td>\n",
       "      <td>NaN</td>\n",
       "      <td>NaN</td>\n",
       "      <td>WikiData</td>\n",
       "      <td>CC0 1.0</td>\n",
       "      <td>NaN</td>\n",
       "      <td>NaN</td>\n",
       "      <td>NaN</td>\n",
       "      <td>NaN</td>\n",
       "      <td>NaN</td>\n",
       "      <td>NaN</td>\n",
       "      <td>NaN</td>\n",
       "      <td>NaN</td>\n",
       "      <td>NaN</td>\n",
       "      <td>NaN</td>\n",
       "    </tr>\n",
       "    <tr>\n",
       "      <th>6</th>\n",
       "      <td>CHEBI:10056</td>\n",
       "      <td>NCBIGene:3351</td>\n",
       "      <td>activates</td>\n",
       "      <td>computed</td>\n",
       "      <td>merge</td>\n",
       "      <td>NaN</td>\n",
       "      <td>NaN</td>\n",
       "      <td>WikiData</td>\n",
       "      <td>CC0 1.0</td>\n",
       "      <td>NaN</td>\n",
       "      <td>NaN</td>\n",
       "      <td>NaN</td>\n",
       "      <td>NaN</td>\n",
       "      <td>NaN</td>\n",
       "      <td>NaN</td>\n",
       "      <td>NaN</td>\n",
       "      <td>NaN</td>\n",
       "      <td>NaN</td>\n",
       "      <td>NaN</td>\n",
       "    </tr>\n",
       "    <tr>\n",
       "      <th>7</th>\n",
       "      <td>CHEBI:10056</td>\n",
       "      <td>NCBIGene:3352</td>\n",
       "      <td>activates</td>\n",
       "      <td>computed</td>\n",
       "      <td>merge</td>\n",
       "      <td>NaN</td>\n",
       "      <td>NaN</td>\n",
       "      <td>WikiData</td>\n",
       "      <td>CC0 1.0</td>\n",
       "      <td>NaN</td>\n",
       "      <td>NaN</td>\n",
       "      <td>NaN</td>\n",
       "      <td>NaN</td>\n",
       "      <td>NaN</td>\n",
       "      <td>NaN</td>\n",
       "      <td>NaN</td>\n",
       "      <td>NaN</td>\n",
       "      <td>NaN</td>\n",
       "      <td>NaN</td>\n",
       "    </tr>\n",
       "    <tr>\n",
       "      <th>8</th>\n",
       "      <td>CHEBI:10056</td>\n",
       "      <td>NCBIGene:3354</td>\n",
       "      <td>activates</td>\n",
       "      <td>computed</td>\n",
       "      <td>merge</td>\n",
       "      <td>NaN</td>\n",
       "      <td>NaN</td>\n",
       "      <td>WikiData</td>\n",
       "      <td>CC0 1.0</td>\n",
       "      <td>NaN</td>\n",
       "      <td>NaN</td>\n",
       "      <td>NaN</td>\n",
       "      <td>NaN</td>\n",
       "      <td>NaN</td>\n",
       "      <td>NaN</td>\n",
       "      <td>NaN</td>\n",
       "      <td>NaN</td>\n",
       "      <td>NaN</td>\n",
       "      <td>NaN</td>\n",
       "    </tr>\n",
       "    <tr>\n",
       "      <th>9</th>\n",
       "      <td>CHEBI:10056</td>\n",
       "      <td>NCBIGene:3355</td>\n",
       "      <td>activates</td>\n",
       "      <td>computed</td>\n",
       "      <td>merge</td>\n",
       "      <td>NaN</td>\n",
       "      <td>NaN</td>\n",
       "      <td>WikiData</td>\n",
       "      <td>CC0 1.0</td>\n",
       "      <td>NaN</td>\n",
       "      <td>NaN</td>\n",
       "      <td>NaN</td>\n",
       "      <td>NaN</td>\n",
       "      <td>NaN</td>\n",
       "      <td>NaN</td>\n",
       "      <td>NaN</td>\n",
       "      <td>NaN</td>\n",
       "      <td>NaN</td>\n",
       "      <td>NaN</td>\n",
       "    </tr>\n",
       "  </tbody>\n",
       "</table>\n",
       "</div>"
      ],
      "text/plain": [
       "          start_id         end_id       type dsrc_type comp_type p_val adj_p  \\\n",
       "0  UNII:BTY153760O  NCBIGene:3605   inhibits  computed     merge   NaN   NaN   \n",
       "1      CHEBI:10055   NCBIGene:153  activates  computed     merge   NaN   NaN   \n",
       "2      CHEBI:10056  NCBIGene:1129  activates  computed     merge   NaN   NaN   \n",
       "3      CHEBI:10056  NCBIGene:1131  activates  computed     merge   NaN   NaN   \n",
       "4      CHEBI:10056  NCBIGene:1133  activates  computed     merge   NaN   NaN   \n",
       "5      CHEBI:10056  NCBIGene:3350  activates  computed     merge   NaN   NaN   \n",
       "6      CHEBI:10056  NCBIGene:3351  activates  computed     merge   NaN   NaN   \n",
       "7      CHEBI:10056  NCBIGene:3352  activates  computed     merge   NaN   NaN   \n",
       "8      CHEBI:10056  NCBIGene:3354  activates  computed     merge   NaN   NaN   \n",
       "9      CHEBI:10056  NCBIGene:3355  activates  computed     merge   NaN   NaN   \n",
       "\n",
       "     source  license experiments support_type pmids phase date name name_x  \\\n",
       "0  WikiData  CC0 1.0         NaN          NaN   NaN   NaN  NaN  NaN    NaN   \n",
       "1  WikiData  CC0 1.0         NaN          NaN   NaN   NaN  NaN  NaN    NaN   \n",
       "2  WikiData  CC0 1.0         NaN          NaN   NaN   NaN  NaN  NaN    NaN   \n",
       "3  WikiData  CC0 1.0         NaN          NaN   NaN   NaN  NaN  NaN    NaN   \n",
       "4  WikiData  CC0 1.0         NaN          NaN   NaN   NaN  NaN  NaN    NaN   \n",
       "5  WikiData  CC0 1.0         NaN          NaN   NaN   NaN  NaN  NaN    NaN   \n",
       "6  WikiData  CC0 1.0         NaN          NaN   NaN   NaN  NaN  NaN    NaN   \n",
       "7  WikiData  CC0 1.0         NaN          NaN   NaN   NaN  NaN  NaN    NaN   \n",
       "8  WikiData  CC0 1.0         NaN          NaN   NaN   NaN  NaN  NaN    NaN   \n",
       "9  WikiData  CC0 1.0         NaN          NaN   NaN   NaN  NaN  NaN    NaN   \n",
       "\n",
       "  name_y merge_id reactome_id  \n",
       "0    NaN      NaN         NaN  \n",
       "1    NaN      NaN         NaN  \n",
       "2    NaN      NaN         NaN  \n",
       "3    NaN      NaN         NaN  \n",
       "4    NaN      NaN         NaN  \n",
       "5    NaN      NaN         NaN  \n",
       "6    NaN      NaN         NaN  \n",
       "7    NaN      NaN         NaN  \n",
       "8    NaN      NaN         NaN  \n",
       "9    NaN      NaN         NaN  "
      ]
     },
     "execution_count": 11,
     "metadata": {},
     "output_type": "execute_result"
    }
   ],
   "source": [
    "edges.head(10)"
   ]
  },
  {
   "cell_type": "code",
   "execution_count": 12,
   "metadata": {},
   "outputs": [
    {
     "data": {
      "application/vnd.jupyter.widget-view+json": {
       "model_id": "19ae82d77aa0463895ce8737df9f5bed",
       "version_major": 2,
       "version_minor": 0
      },
      "text/plain": [
       "HBox(children=(FloatProgress(value=0.0, description='total_progress', max=6.0, style=ProgressStyle(description…"
      ]
     },
     "metadata": {},
     "output_type": "display_data"
    },
    {
     "data": {
      "application/vnd.jupyter.widget-view+json": {
       "model_id": "623771dabb9f4cc69e61672eb60a32cf",
       "version_major": 2,
       "version_minor": 0
      },
      "text/plain": [
       "HBox(children=(FloatProgress(value=0.0, description='dsrc_type', max=40143.0, style=ProgressStyle(description_…"
      ]
     },
     "metadata": {},
     "output_type": "display_data"
    },
    {
     "name": "stdout",
     "output_type": "stream",
     "text": [
      "\n"
     ]
    },
    {
     "data": {
      "application/vnd.jupyter.widget-view+json": {
       "model_id": "8bf4f323e54843e3b2a0d5f3768efc32",
       "version_major": 2,
       "version_minor": 0
      },
      "text/plain": [
       "HBox(children=(FloatProgress(value=0.0, description='comp_type', max=40143.0, style=ProgressStyle(description_…"
      ]
     },
     "metadata": {},
     "output_type": "display_data"
    },
    {
     "name": "stdout",
     "output_type": "stream",
     "text": [
      "\n"
     ]
    },
    {
     "data": {
      "application/vnd.jupyter.widget-view+json": {
       "model_id": "123353bc02654033ae29816538d0d750",
       "version_major": 2,
       "version_minor": 0
      },
      "text/plain": [
       "HBox(children=(FloatProgress(value=0.0, description='source', max=40143.0, style=ProgressStyle(description_wid…"
      ]
     },
     "metadata": {},
     "output_type": "display_data"
    },
    {
     "name": "stdout",
     "output_type": "stream",
     "text": [
      "\n"
     ]
    },
    {
     "data": {
      "application/vnd.jupyter.widget-view+json": {
       "model_id": "8d1f2f9607a54535942755ca7c1c074c",
       "version_major": 2,
       "version_minor": 0
      },
      "text/plain": [
       "HBox(children=(FloatProgress(value=0.0, description='license', max=40143.0, style=ProgressStyle(description_wi…"
      ]
     },
     "metadata": {},
     "output_type": "display_data"
    },
    {
     "name": "stdout",
     "output_type": "stream",
     "text": [
      "\n"
     ]
    },
    {
     "data": {
      "application/vnd.jupyter.widget-view+json": {
       "model_id": "7b3af2f922e0423da024ed2907e1befc",
       "version_major": 2,
       "version_minor": 0
      },
      "text/plain": [
       "HBox(children=(FloatProgress(value=0.0, description='pmids', max=40143.0, style=ProgressStyle(description_widt…"
      ]
     },
     "metadata": {},
     "output_type": "display_data"
    },
    {
     "name": "stdout",
     "output_type": "stream",
     "text": [
      "\n"
     ]
    },
    {
     "data": {
      "application/vnd.jupyter.widget-view+json": {
       "model_id": "d1e6ea64110742fb93a4b49b55f48da5",
       "version_major": 2,
       "version_minor": 0
      },
      "text/plain": [
       "HBox(children=(FloatProgress(value=0.0, description='date', max=40143.0, style=ProgressStyle(description_width…"
      ]
     },
     "metadata": {},
     "output_type": "display_data"
    },
    {
     "name": "stdout",
     "output_type": "stream",
     "text": [
      "\n",
      "\n"
     ]
    }
   ],
   "source": [
    "edges = combine_group_cols_on_char(edges, ['start_id', 'end_id', 'type'], sort=True)"
   ]
  },
  {
   "cell_type": "markdown",
   "metadata": {},
   "source": [
    "As some edge types were dropped, there may be fewer nodes"
   ]
  },
  {
   "cell_type": "code",
   "execution_count": 13,
   "metadata": {},
   "outputs": [],
   "source": [
    "edge_ids = edges[['start_id', 'end_id']].stack().unique()"
   ]
  },
  {
   "cell_type": "code",
   "execution_count": 14,
   "metadata": {},
   "outputs": [
    {
     "data": {
      "text/plain": [
       "(790997, 384724)"
      ]
     },
     "execution_count": 14,
     "metadata": {},
     "output_type": "execute_result"
    }
   ],
   "source": [
    "len(nodes), len(nodes.query('id in @edge_ids'))"
   ]
  },
  {
   "cell_type": "markdown",
   "metadata": {},
   "source": [
    "### Final Checks\n",
    "\n",
    "Don't need to hold onto legacy nodes anymore... only keep those in the network"
   ]
  },
  {
   "cell_type": "code",
   "execution_count": 15,
   "metadata": {},
   "outputs": [],
   "source": [
    "nodes = nodes.query('id in @edge_ids')"
   ]
  },
  {
   "cell_type": "markdown",
   "metadata": {},
   "source": [
    "#### Ensure no duplicated nodes"
   ]
  },
  {
   "cell_type": "code",
   "execution_count": 16,
   "metadata": {},
   "outputs": [
    {
     "data": {
      "text/html": [
       "<div>\n",
       "<style scoped>\n",
       "    .dataframe tbody tr th:only-of-type {\n",
       "        vertical-align: middle;\n",
       "    }\n",
       "\n",
       "    .dataframe tbody tr th {\n",
       "        vertical-align: top;\n",
       "    }\n",
       "\n",
       "    .dataframe thead th {\n",
       "        text-align: right;\n",
       "    }\n",
       "</style>\n",
       "<table border=\"1\" class=\"dataframe\">\n",
       "  <thead>\n",
       "    <tr style=\"text-align: right;\">\n",
       "      <th></th>\n",
       "      <th>id</th>\n",
       "      <th>name</th>\n",
       "      <th>label</th>\n",
       "      <th>xrefs</th>\n",
       "      <th>source</th>\n",
       "      <th>synonyms</th>\n",
       "      <th>alt_ids</th>\n",
       "      <th>subsets</th>\n",
       "    </tr>\n",
       "  </thead>\n",
       "  <tbody>\n",
       "    <tr>\n",
       "      <th>790981</th>\n",
       "      <td>DOID:0050269</td>\n",
       "      <td>Trichomonas vaginalis trichomoniasis</td>\n",
       "      <td>NaN</td>\n",
       "      <td>MESH:D014247|ICD10CM:A59.00|NCI:C35083</td>\n",
       "      <td>NaN</td>\n",
       "      <td>urogenital trichomonas</td>\n",
       "      <td>NaN</td>\n",
       "      <td>NCIthesaurus|DO_IEDB_slim</td>\n",
       "    </tr>\n",
       "    <tr>\n",
       "      <th>790982</th>\n",
       "      <td>DOID:0050269</td>\n",
       "      <td>Trichomonas vaginalis trichomoniasis</td>\n",
       "      <td>NaN</td>\n",
       "      <td>MESH:D014247|ICD10CM:A59.00|NCI:C35083</td>\n",
       "      <td>NaN</td>\n",
       "      <td>urogenital trichomonas</td>\n",
       "      <td>NaN</td>\n",
       "      <td>NCIthesaurus|DO_IEDB_slim</td>\n",
       "    </tr>\n",
       "  </tbody>\n",
       "</table>\n",
       "</div>"
      ],
      "text/plain": [
       "                  id                                  name label  \\\n",
       "790981  DOID:0050269  Trichomonas vaginalis trichomoniasis   NaN   \n",
       "790982  DOID:0050269  Trichomonas vaginalis trichomoniasis   NaN   \n",
       "\n",
       "                                         xrefs source                synonyms  \\\n",
       "790981  MESH:D014247|ICD10CM:A59.00|NCI:C35083    NaN  urogenital trichomonas   \n",
       "790982  MESH:D014247|ICD10CM:A59.00|NCI:C35083    NaN  urogenital trichomonas   \n",
       "\n",
       "       alt_ids                    subsets  \n",
       "790981     NaN  NCIthesaurus|DO_IEDB_slim  \n",
       "790982     NaN  NCIthesaurus|DO_IEDB_slim  "
      ]
     },
     "execution_count": 16,
     "metadata": {},
     "output_type": "execute_result"
    }
   ],
   "source": [
    "nodes[nodes['id'].duplicated(keep=False)]"
   ]
  },
  {
   "cell_type": "code",
   "execution_count": 17,
   "metadata": {},
   "outputs": [],
   "source": [
    "nodes = nodes.drop_duplicates(subset=['id'], keep='first')"
   ]
  },
  {
   "cell_type": "markdown",
   "metadata": {},
   "source": [
    "#### Make sure all nodes have a label"
   ]
  },
  {
   "cell_type": "code",
   "execution_count": 18,
   "metadata": {},
   "outputs": [
    {
     "data": {
      "text/html": [
       "<div>\n",
       "<style scoped>\n",
       "    .dataframe tbody tr th:only-of-type {\n",
       "        vertical-align: middle;\n",
       "    }\n",
       "\n",
       "    .dataframe tbody tr th {\n",
       "        vertical-align: top;\n",
       "    }\n",
       "\n",
       "    .dataframe thead th {\n",
       "        text-align: right;\n",
       "    }\n",
       "</style>\n",
       "<table border=\"1\" class=\"dataframe\">\n",
       "  <thead>\n",
       "    <tr style=\"text-align: right;\">\n",
       "      <th></th>\n",
       "      <th>id</th>\n",
       "      <th>name</th>\n",
       "      <th>label</th>\n",
       "      <th>xrefs</th>\n",
       "      <th>source</th>\n",
       "      <th>synonyms</th>\n",
       "      <th>alt_ids</th>\n",
       "      <th>subsets</th>\n",
       "    </tr>\n",
       "  </thead>\n",
       "  <tbody>\n",
       "    <tr>\n",
       "      <th>790981</th>\n",
       "      <td>DOID:0050269</td>\n",
       "      <td>Trichomonas vaginalis trichomoniasis</td>\n",
       "      <td>NaN</td>\n",
       "      <td>MESH:D014247|ICD10CM:A59.00|NCI:C35083</td>\n",
       "      <td>NaN</td>\n",
       "      <td>urogenital trichomonas</td>\n",
       "      <td>NaN</td>\n",
       "      <td>NCIthesaurus|DO_IEDB_slim</td>\n",
       "    </tr>\n",
       "    <tr>\n",
       "      <th>790983</th>\n",
       "      <td>DOID:0070344</td>\n",
       "      <td>ocular tuberculosis</td>\n",
       "      <td>NaN</td>\n",
       "      <td>NaN</td>\n",
       "      <td>NaN</td>\n",
       "      <td>NaN</td>\n",
       "      <td>NaN</td>\n",
       "      <td>NaN</td>\n",
       "    </tr>\n",
       "    <tr>\n",
       "      <th>790984</th>\n",
       "      <td>DOID:0080602</td>\n",
       "      <td>benign teratoma</td>\n",
       "      <td>NaN</td>\n",
       "      <td>NCI:C67107</td>\n",
       "      <td>NaN</td>\n",
       "      <td>NaN</td>\n",
       "      <td>NaN</td>\n",
       "      <td>NaN</td>\n",
       "    </tr>\n",
       "    <tr>\n",
       "      <th>790985</th>\n",
       "      <td>DOID:0080615</td>\n",
       "      <td>nephroma</td>\n",
       "      <td>NaN</td>\n",
       "      <td>NaN</td>\n",
       "      <td>NaN</td>\n",
       "      <td>benign nephroma</td>\n",
       "      <td>NaN</td>\n",
       "      <td>NaN</td>\n",
       "    </tr>\n",
       "    <tr>\n",
       "      <th>790986</th>\n",
       "      <td>DOID:0080616</td>\n",
       "      <td>kidney cortex disease</td>\n",
       "      <td>NaN</td>\n",
       "      <td>NaN</td>\n",
       "      <td>NaN</td>\n",
       "      <td>NaN</td>\n",
       "      <td>NaN</td>\n",
       "      <td>NaN</td>\n",
       "    </tr>\n",
       "    <tr>\n",
       "      <th>790987</th>\n",
       "      <td>DOID:0080617</td>\n",
       "      <td>lymph node benign neoplasm</td>\n",
       "      <td>NaN</td>\n",
       "      <td>SNOMEDCT_US_2020_03_01:92197001|NCI:C3636</td>\n",
       "      <td>NaN</td>\n",
       "      <td>NaN</td>\n",
       "      <td>NaN</td>\n",
       "      <td>NaN</td>\n",
       "    </tr>\n",
       "    <tr>\n",
       "      <th>790988</th>\n",
       "      <td>DOID:0080618</td>\n",
       "      <td>lymph node carcinoma</td>\n",
       "      <td>NaN</td>\n",
       "      <td>NaN</td>\n",
       "      <td>NaN</td>\n",
       "      <td>NaN</td>\n",
       "      <td>NaN</td>\n",
       "      <td>NaN</td>\n",
       "    </tr>\n",
       "    <tr>\n",
       "      <th>790989</th>\n",
       "      <td>DOID:0080619</td>\n",
       "      <td>auditory system benign neoplasm</td>\n",
       "      <td>NaN</td>\n",
       "      <td>NCI:C8417</td>\n",
       "      <td>NaN</td>\n",
       "      <td>NaN</td>\n",
       "      <td>NaN</td>\n",
       "      <td>NaN</td>\n",
       "    </tr>\n",
       "    <tr>\n",
       "      <th>790990</th>\n",
       "      <td>DOID:0080638</td>\n",
       "      <td>B-cell acute lymphoblastic leukemia</td>\n",
       "      <td>NaN</td>\n",
       "      <td>NCI:C8644</td>\n",
       "      <td>NaN</td>\n",
       "      <td>B-cell acute lymphocytic leukemia|B acute lymp...</td>\n",
       "      <td>NaN</td>\n",
       "      <td>DO_cancer_slim</td>\n",
       "    </tr>\n",
       "    <tr>\n",
       "      <th>790991</th>\n",
       "      <td>DOID:0080640</td>\n",
       "      <td>gallbladder benign neoplasm</td>\n",
       "      <td>NaN</td>\n",
       "      <td>NCI:C4440</td>\n",
       "      <td>NaN</td>\n",
       "      <td>NaN</td>\n",
       "      <td>NaN</td>\n",
       "      <td>NaN</td>\n",
       "    </tr>\n",
       "    <tr>\n",
       "      <th>790992</th>\n",
       "      <td>DOID:0080641</td>\n",
       "      <td>tongue carcinoma</td>\n",
       "      <td>NaN</td>\n",
       "      <td>NaN</td>\n",
       "      <td>NaN</td>\n",
       "      <td>NaN</td>\n",
       "      <td>NaN</td>\n",
       "      <td>NaN</td>\n",
       "    </tr>\n",
       "    <tr>\n",
       "      <th>790993</th>\n",
       "      <td>DOID:0080684</td>\n",
       "      <td>diffuse midline glioma, H3 K27M-mutant</td>\n",
       "      <td>NaN</td>\n",
       "      <td>NCI:C129309</td>\n",
       "      <td>NaN</td>\n",
       "      <td>diffuse intrinsic pontine glioma</td>\n",
       "      <td>NaN</td>\n",
       "      <td>NaN</td>\n",
       "    </tr>\n",
       "    <tr>\n",
       "      <th>790994</th>\n",
       "      <td>DOID:0080716</td>\n",
       "      <td>infantile liver failure syndrome</td>\n",
       "      <td>NaN</td>\n",
       "      <td>OMIM:PS615438|ORDO:370088</td>\n",
       "      <td>NaN</td>\n",
       "      <td>NaN</td>\n",
       "      <td>NaN</td>\n",
       "      <td>NaN</td>\n",
       "    </tr>\n",
       "    <tr>\n",
       "      <th>790995</th>\n",
       "      <td>DOID:0080741</td>\n",
       "      <td>limbic encephalitis</td>\n",
       "      <td>NaN</td>\n",
       "      <td>GARD:8742</td>\n",
       "      <td>NaN</td>\n",
       "      <td>NaN</td>\n",
       "      <td>NaN</td>\n",
       "      <td>NaN</td>\n",
       "    </tr>\n",
       "    <tr>\n",
       "      <th>790996</th>\n",
       "      <td>DOID:10619</td>\n",
       "      <td>lymph node cancer</td>\n",
       "      <td>NaN</td>\n",
       "      <td>NCI:C35497|GARD:6932|SNOMEDCT_US_2019_09_01:12...</td>\n",
       "      <td>NaN</td>\n",
       "      <td>lymph node neoplasm</td>\n",
       "      <td>DOID:10438</td>\n",
       "      <td>NCIthesaurus|TopNodes_DOcancerslim</td>\n",
       "    </tr>\n",
       "  </tbody>\n",
       "</table>\n",
       "</div>"
      ],
      "text/plain": [
       "                  id                                    name label  \\\n",
       "790981  DOID:0050269    Trichomonas vaginalis trichomoniasis   NaN   \n",
       "790983  DOID:0070344                     ocular tuberculosis   NaN   \n",
       "790984  DOID:0080602                         benign teratoma   NaN   \n",
       "790985  DOID:0080615                                nephroma   NaN   \n",
       "790986  DOID:0080616                   kidney cortex disease   NaN   \n",
       "790987  DOID:0080617              lymph node benign neoplasm   NaN   \n",
       "790988  DOID:0080618                    lymph node carcinoma   NaN   \n",
       "790989  DOID:0080619         auditory system benign neoplasm   NaN   \n",
       "790990  DOID:0080638     B-cell acute lymphoblastic leukemia   NaN   \n",
       "790991  DOID:0080640             gallbladder benign neoplasm   NaN   \n",
       "790992  DOID:0080641                        tongue carcinoma   NaN   \n",
       "790993  DOID:0080684  diffuse midline glioma, H3 K27M-mutant   NaN   \n",
       "790994  DOID:0080716        infantile liver failure syndrome   NaN   \n",
       "790995  DOID:0080741                     limbic encephalitis   NaN   \n",
       "790996    DOID:10619                       lymph node cancer   NaN   \n",
       "\n",
       "                                                    xrefs source  \\\n",
       "790981             MESH:D014247|ICD10CM:A59.00|NCI:C35083    NaN   \n",
       "790983                                                NaN    NaN   \n",
       "790984                                         NCI:C67107    NaN   \n",
       "790985                                                NaN    NaN   \n",
       "790986                                                NaN    NaN   \n",
       "790987          SNOMEDCT_US_2020_03_01:92197001|NCI:C3636    NaN   \n",
       "790988                                                NaN    NaN   \n",
       "790989                                          NCI:C8417    NaN   \n",
       "790990                                          NCI:C8644    NaN   \n",
       "790991                                          NCI:C4440    NaN   \n",
       "790992                                                NaN    NaN   \n",
       "790993                                        NCI:C129309    NaN   \n",
       "790994                          OMIM:PS615438|ORDO:370088    NaN   \n",
       "790995                                          GARD:8742    NaN   \n",
       "790996  NCI:C35497|GARD:6932|SNOMEDCT_US_2019_09_01:12...    NaN   \n",
       "\n",
       "                                                 synonyms     alt_ids  \\\n",
       "790981                             urogenital trichomonas         NaN   \n",
       "790983                                                NaN         NaN   \n",
       "790984                                                NaN         NaN   \n",
       "790985                                    benign nephroma         NaN   \n",
       "790986                                                NaN         NaN   \n",
       "790987                                                NaN         NaN   \n",
       "790988                                                NaN         NaN   \n",
       "790989                                                NaN         NaN   \n",
       "790990  B-cell acute lymphocytic leukemia|B acute lymp...         NaN   \n",
       "790991                                                NaN         NaN   \n",
       "790992                                                NaN         NaN   \n",
       "790993                   diffuse intrinsic pontine glioma         NaN   \n",
       "790994                                                NaN         NaN   \n",
       "790995                                                NaN         NaN   \n",
       "790996                                lymph node neoplasm  DOID:10438   \n",
       "\n",
       "                                   subsets  \n",
       "790981           NCIthesaurus|DO_IEDB_slim  \n",
       "790983                                 NaN  \n",
       "790984                                 NaN  \n",
       "790985                                 NaN  \n",
       "790986                                 NaN  \n",
       "790987                                 NaN  \n",
       "790988                                 NaN  \n",
       "790989                                 NaN  \n",
       "790990                      DO_cancer_slim  \n",
       "790991                                 NaN  \n",
       "790992                                 NaN  \n",
       "790993                                 NaN  \n",
       "790994                                 NaN  \n",
       "790995                                 NaN  \n",
       "790996  NCIthesaurus|TopNodes_DOcancerslim  "
      ]
     },
     "execution_count": 18,
     "metadata": {},
     "output_type": "execute_result"
    }
   ],
   "source": [
    "nodes[nodes['label'].isnull()]"
   ]
  },
  {
   "cell_type": "markdown",
   "metadata": {},
   "source": [
    "All are diseases"
   ]
  },
  {
   "cell_type": "code",
   "execution_count": 19,
   "metadata": {},
   "outputs": [
    {
     "data": {
      "text/html": [
       "<div>\n",
       "<style scoped>\n",
       "    .dataframe tbody tr th:only-of-type {\n",
       "        vertical-align: middle;\n",
       "    }\n",
       "\n",
       "    .dataframe tbody tr th {\n",
       "        vertical-align: top;\n",
       "    }\n",
       "\n",
       "    .dataframe thead th {\n",
       "        text-align: right;\n",
       "    }\n",
       "</style>\n",
       "<table border=\"1\" class=\"dataframe\">\n",
       "  <thead>\n",
       "    <tr style=\"text-align: right;\">\n",
       "      <th></th>\n",
       "      <th>id</th>\n",
       "      <th>name</th>\n",
       "      <th>label</th>\n",
       "      <th>xrefs</th>\n",
       "      <th>source</th>\n",
       "      <th>synonyms</th>\n",
       "      <th>alt_ids</th>\n",
       "      <th>subsets</th>\n",
       "    </tr>\n",
       "  </thead>\n",
       "  <tbody>\n",
       "    <tr>\n",
       "      <th>790981</th>\n",
       "      <td>DOID:0050269</td>\n",
       "      <td>Trichomonas vaginalis trichomoniasis</td>\n",
       "      <td>Disease</td>\n",
       "      <td>MESH:D014247|ICD10CM:A59.00|NCI:C35083</td>\n",
       "      <td>NaN</td>\n",
       "      <td>urogenital trichomonas</td>\n",
       "      <td>NaN</td>\n",
       "      <td>NCIthesaurus|DO_IEDB_slim</td>\n",
       "    </tr>\n",
       "    <tr>\n",
       "      <th>790983</th>\n",
       "      <td>DOID:0070344</td>\n",
       "      <td>ocular tuberculosis</td>\n",
       "      <td>Disease</td>\n",
       "      <td>NaN</td>\n",
       "      <td>NaN</td>\n",
       "      <td>NaN</td>\n",
       "      <td>NaN</td>\n",
       "      <td>NaN</td>\n",
       "    </tr>\n",
       "    <tr>\n",
       "      <th>790984</th>\n",
       "      <td>DOID:0080602</td>\n",
       "      <td>benign teratoma</td>\n",
       "      <td>Disease</td>\n",
       "      <td>NCI:C67107</td>\n",
       "      <td>NaN</td>\n",
       "      <td>NaN</td>\n",
       "      <td>NaN</td>\n",
       "      <td>NaN</td>\n",
       "    </tr>\n",
       "    <tr>\n",
       "      <th>790985</th>\n",
       "      <td>DOID:0080615</td>\n",
       "      <td>nephroma</td>\n",
       "      <td>Disease</td>\n",
       "      <td>NaN</td>\n",
       "      <td>NaN</td>\n",
       "      <td>benign nephroma</td>\n",
       "      <td>NaN</td>\n",
       "      <td>NaN</td>\n",
       "    </tr>\n",
       "    <tr>\n",
       "      <th>790986</th>\n",
       "      <td>DOID:0080616</td>\n",
       "      <td>kidney cortex disease</td>\n",
       "      <td>Disease</td>\n",
       "      <td>NaN</td>\n",
       "      <td>NaN</td>\n",
       "      <td>NaN</td>\n",
       "      <td>NaN</td>\n",
       "      <td>NaN</td>\n",
       "    </tr>\n",
       "  </tbody>\n",
       "</table>\n",
       "</div>"
      ],
      "text/plain": [
       "                  id                                  name    label  \\\n",
       "790981  DOID:0050269  Trichomonas vaginalis trichomoniasis  Disease   \n",
       "790983  DOID:0070344                   ocular tuberculosis  Disease   \n",
       "790984  DOID:0080602                       benign teratoma  Disease   \n",
       "790985  DOID:0080615                              nephroma  Disease   \n",
       "790986  DOID:0080616                 kidney cortex disease  Disease   \n",
       "\n",
       "                                         xrefs source                synonyms  \\\n",
       "790981  MESH:D014247|ICD10CM:A59.00|NCI:C35083    NaN  urogenital trichomonas   \n",
       "790983                                     NaN    NaN                     NaN   \n",
       "790984                              NCI:C67107    NaN                     NaN   \n",
       "790985                                     NaN    NaN         benign nephroma   \n",
       "790986                                     NaN    NaN                     NaN   \n",
       "\n",
       "       alt_ids                    subsets  \n",
       "790981     NaN  NCIthesaurus|DO_IEDB_slim  \n",
       "790983     NaN                        NaN  \n",
       "790984     NaN                        NaN  \n",
       "790985     NaN                        NaN  \n",
       "790986     NaN                        NaN  "
      ]
     },
     "execution_count": 19,
     "metadata": {},
     "output_type": "execute_result"
    }
   ],
   "source": [
    "disease_idx = nodes[nodes['label'].isnull()].index\n",
    "nodes.loc[disease_idx, 'label'] = 'Disease'\n",
    "\n",
    "nodes.loc[disease_idx].head()"
   ]
  },
  {
   "cell_type": "markdown",
   "metadata": {},
   "source": [
    "### Save results"
   ]
  },
  {
   "cell_type": "code",
   "execution_count": 20,
   "metadata": {},
   "outputs": [],
   "source": [
    "this_name = '12a_Preprocessing-Semmantic_Compression'\n",
    "\n",
    "out_dir = Path('../2_pipeline/').joinpath(this_name).joinpath('out').resolve()\n",
    "\n",
    "out_dir.mkdir(parents=True, exist_ok=True)\n",
    "\n",
    "nodes.to_csv(out_dir.joinpath('nodes.csv'), index=False)\n",
    "edges.to_csv(out_dir.joinpath('edges.csv'), index=False)"
   ]
  }
 ],
 "metadata": {
  "kernelspec": {
   "display_name": "Python 3",
   "language": "python",
   "name": "python3"
  },
  "language_info": {
   "codemirror_mode": {
    "name": "ipython",
    "version": 3
   },
   "file_extension": ".py",
   "mimetype": "text/x-python",
   "name": "python",
   "nbconvert_exporter": "python",
   "pygments_lexer": "ipython3",
   "version": "3.6.8"
  }
 },
 "nbformat": 4,
 "nbformat_minor": 2
}
