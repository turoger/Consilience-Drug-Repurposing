{
 "cells": [
  {
   "cell_type": "markdown",
   "metadata": {},
   "source": [
    "# Extracting Edges from Reactome\n",
    "\n",
    "Reactome exists in its purest form as a Neo4j data dump.  We will download neo4j, populate it with the reactome dump, then start the server and extract the edges we're interested in.\n",
    "\n",
    "We will be extracting the following edge types:\n",
    "\n",
    "- Mappings to external resources\n",
    "    - Physical Entities and Events to Taxa\n",
    "    - Physical Entities and Events to GO Biological Process\n",
    "    - Physical Entities and Events to GO Cell Component\n",
    "    - Physical Entities and Events to GO Molecular Function\n",
    "    - Physical Entities and Events to Disease\n",
    "        - Rxn AssocWith Disease\n",
    "        - Rxn Disrupted in Disease\n",
    "        - PW AssocWith Disease\n",
    "        - PW Disrupted in Disease\n",
    "    - Taxa to Disease Through intermediary node...\n",
    "- Mappings between internal Resources\n",
    "    - Failed Rxn to Rxn\n",
    "    - Disrupted PW to PW\n",
    "- Membership Details\n",
    "    - Preceeding Reaction to Post Reaction\n",
    "    - Pathway has event Reaction\n",
    "    - PE input and output of Reactions\n",
    "    - PE Component of Complex\n",
    "- Regulation\n",
    "    - Postive Regulation\n",
    "    - Negative Regulation\n",
    "  "
   ]
  },
  {
   "cell_type": "code",
   "execution_count": 1,
   "metadata": {},
   "outputs": [],
   "source": [
    "import pandas as pd\n",
    "from pathlib import Path\n",
    "from data_tools import download"
   ]
  },
  {
   "cell_type": "markdown",
   "metadata": {},
   "source": [
    "## Download Neo4j Database"
   ]
  },
  {
   "cell_type": "code",
   "execution_count": 2,
   "metadata": {},
   "outputs": [
    {
     "name": "stdout",
     "output_type": "stream",
     "text": [
      "File neo4j-community-3.5.12-unix.tar.gz exits. Skipping...\n"
     ]
    }
   ],
   "source": [
    "dl_loc = Path('../0_data/external/').resolve()\n",
    "neo4j_url = 'https://neo4j.com/artifact.php?name=neo4j-community-3.5.12-unix.tar.gz'\n",
    "neo_f_name = neo4j_url.split('=')[-1]\n",
    "\n",
    "download(neo4j_url, dl_loc.joinpath(neo_f_name))"
   ]
  },
  {
   "cell_type": "markdown",
   "metadata": {},
   "source": [
    "### Extract neo4j to the parent directory"
   ]
  },
  {
   "cell_type": "code",
   "execution_count": 3,
   "metadata": {},
   "outputs": [],
   "source": [
    "neo_dir = Path('../').resolve()"
   ]
  },
  {
   "cell_type": "code",
   "execution_count": 4,
   "metadata": {},
   "outputs": [],
   "source": [
    "import tarfile\n",
    "\n",
    "with tarfile.open(dl_loc.joinpath(neo_f_name), 'r:gz') as n4j:\n",
    "    n4j.extractall(neo_dir)\n",
    "    neo_dir = neo_dir.joinpath(n4j.getnames()[0])"
   ]
  },
  {
   "cell_type": "markdown",
   "metadata": {},
   "source": [
    "## Download Reactome Neo4j Dump"
   ]
  },
  {
   "cell_type": "code",
   "execution_count": 5,
   "metadata": {},
   "outputs": [],
   "source": [
    "reactome_db_url = 'https://reactome.org/download/current/reactome.graphdb.tgz'\n",
    "rct_f_name = reactome_db_url.split('/')[-1]"
   ]
  },
  {
   "cell_type": "code",
   "execution_count": 6,
   "metadata": {},
   "outputs": [
    {
     "name": "stdout",
     "output_type": "stream",
     "text": [
      "File reactome.graphdb.tgz exits. Skipping...\n"
     ]
    }
   ],
   "source": [
    "download(reactome_db_url, dl_loc.joinpath(rct_f_name))"
   ]
  },
  {
   "cell_type": "markdown",
   "metadata": {},
   "source": [
    "### Extact Reactome to the database directory within neo4j"
   ]
  },
  {
   "cell_type": "code",
   "execution_count": 7,
   "metadata": {},
   "outputs": [],
   "source": [
    "db_dir = neo_dir.joinpath('data/databases')"
   ]
  },
  {
   "cell_type": "code",
   "execution_count": 8,
   "metadata": {},
   "outputs": [],
   "source": [
    "with tarfile.open(dl_loc.joinpath(rct_f_name), 'r:gz') as react_db:\n",
    "    react_db.extractall(db_dir)"
   ]
  },
  {
   "cell_type": "markdown",
   "metadata": {},
   "source": [
    "## Spin up the neo4j server"
   ]
  },
  {
   "cell_type": "code",
   "execution_count": 9,
   "metadata": {},
   "outputs": [],
   "source": [
    "import subprocess\n",
    "import time\n",
    "\n",
    "command = str(neo_dir.joinpath('bin/neo4j')) + ' start'\n",
    "subprocess.call(command, shell=True)\n",
    "# Should take about < 5 seconds to spin up the new neo4j database server\n",
    "time.sleep(5)"
   ]
  },
  {
   "cell_type": "markdown",
   "metadata": {},
   "source": [
    "### Authenticate to connect to the server"
   ]
  },
  {
   "cell_type": "code",
   "execution_count": 10,
   "metadata": {},
   "outputs": [],
   "source": [
    "import neo4j\n",
    "\n",
    "try:\n",
    "    # Use Neo4j Default port, user, and password\n",
    "    driver = neo4j.GraphDatabase.driver('bolt://localhost:7687', auth=(\"neo4j\", \"neo4j\"))\n",
    "    session = driver.session()\n",
    "\n",
    "    # We are required by Neo4j to change the password before any queries can may run\n",
    "    # This data is neither public nor sensitive, so we will use an insecure password\n",
    "    session.run(\"CALL dbms.changePassword('new password')\");\n",
    "\n",
    "except:\n",
    "    # On subsequent runs, password will be different so this will be sued to authenticate\n",
    "    # Need to wait a bit before re-auth, otherwise error will be thrown.\n",
    "    time.sleep(5)\n",
    "    driver = neo4j.GraphDatabase.driver('bolt://localhost:7687', auth=(\"neo4j\", \"new password\"))\n",
    "    session = driver.session();"
   ]
  },
  {
   "cell_type": "markdown",
   "metadata": {},
   "source": [
    "# Run Database Queries"
   ]
  },
  {
   "cell_type": "code",
   "execution_count": 11,
   "metadata": {},
   "outputs": [],
   "source": [
    "def query_to_df(query):\n",
    "    txn = session.run(query)\n",
    "    return pd.DataFrame(txn.data())"
   ]
  },
  {
   "cell_type": "code",
   "execution_count": 12,
   "metadata": {},
   "outputs": [],
   "source": [
    "query_results = dict()"
   ]
  },
  {
   "cell_type": "markdown",
   "metadata": {},
   "source": [
    "## Mappings To External Resources\n",
    "\n",
    "### Physical Entities and Events to Taxa"
   ]
  },
  {
   "cell_type": "code",
   "execution_count": 13,
   "metadata": {},
   "outputs": [
    {
     "name": "stderr",
     "output_type": "stream",
     "text": [
      "Failed to write data to connection Address(host='localhost', port=7687) (Address(host='127.0.0.1', port=7687)); (\"0; 'Underlying socket connection gone (_ssl.c:2084)'\")\n"
     ]
    },
    {
     "data": {
      "text/plain": [
       "399929"
      ]
     },
     "execution_count": 13,
     "metadata": {},
     "output_type": "execute_result"
    }
   ],
   "source": [
    "q1 = \"MATCH (n:Taxon)-[e]-(p:PhysicalEntity) RETURN n.taxId, n.displayName, type(e), p.stId, p.displayName\"\n",
    "pe_tax = query_to_df(q1)\n",
    "len(pe_tax)"
   ]
  },
  {
   "cell_type": "code",
   "execution_count": 14,
   "metadata": {},
   "outputs": [
    {
     "data": {
      "text/html": [
       "<div>\n",
       "<style scoped>\n",
       "    .dataframe tbody tr th:only-of-type {\n",
       "        vertical-align: middle;\n",
       "    }\n",
       "\n",
       "    .dataframe tbody tr th {\n",
       "        vertical-align: top;\n",
       "    }\n",
       "\n",
       "    .dataframe thead th {\n",
       "        text-align: right;\n",
       "    }\n",
       "</style>\n",
       "<table border=\"1\" class=\"dataframe\">\n",
       "  <thead>\n",
       "    <tr style=\"text-align: right;\">\n",
       "      <th></th>\n",
       "      <th>n.taxId</th>\n",
       "      <th>n.displayName</th>\n",
       "      <th>type(e)</th>\n",
       "      <th>p.stId</th>\n",
       "      <th>p.displayName</th>\n",
       "    </tr>\n",
       "  </thead>\n",
       "  <tbody>\n",
       "    <tr>\n",
       "      <th>0</th>\n",
       "      <td>9606</td>\n",
       "      <td>Homo sapiens</td>\n",
       "      <td>species</td>\n",
       "      <td>R-NUL-351080</td>\n",
       "      <td>Fz1:Dvl2:Daam1:RhoA:GTP [plasma membrane]</td>\n",
       "    </tr>\n",
       "    <tr>\n",
       "      <th>1</th>\n",
       "      <td>9606</td>\n",
       "      <td>Homo sapiens</td>\n",
       "      <td>species</td>\n",
       "      <td>R-NUL-351023</td>\n",
       "      <td>Fz1:Dvl2:Daam1 [plasma membrane]</td>\n",
       "    </tr>\n",
       "    <tr>\n",
       "      <th>2</th>\n",
       "      <td>9606</td>\n",
       "      <td>Homo sapiens</td>\n",
       "      <td>species</td>\n",
       "      <td>R-HSA-194545</td>\n",
       "      <td>RhoA (Mg cofactor):GTP [plasma membrane]</td>\n",
       "    </tr>\n",
       "    <tr>\n",
       "      <th>3</th>\n",
       "      <td>9606</td>\n",
       "      <td>Homo sapiens</td>\n",
       "      <td>species</td>\n",
       "      <td>R-NUL-206831</td>\n",
       "      <td>Wnt1:Frizzled1:phospho (3 sites) LRP6:CKIgamma...</td>\n",
       "    </tr>\n",
       "    <tr>\n",
       "      <th>4</th>\n",
       "      <td>9606</td>\n",
       "      <td>Homo sapiens</td>\n",
       "      <td>species</td>\n",
       "      <td>R-HSA-205884</td>\n",
       "      <td>p-T1479,S1490,T1493-LRP6 [plasma membrane]</td>\n",
       "    </tr>\n",
       "  </tbody>\n",
       "</table>\n",
       "</div>"
      ],
      "text/plain": [
       "  n.taxId n.displayName  type(e)        p.stId  \\\n",
       "0    9606  Homo sapiens  species  R-NUL-351080   \n",
       "1    9606  Homo sapiens  species  R-NUL-351023   \n",
       "2    9606  Homo sapiens  species  R-HSA-194545   \n",
       "3    9606  Homo sapiens  species  R-NUL-206831   \n",
       "4    9606  Homo sapiens  species  R-HSA-205884   \n",
       "\n",
       "                                       p.displayName  \n",
       "0          Fz1:Dvl2:Daam1:RhoA:GTP [plasma membrane]  \n",
       "1                   Fz1:Dvl2:Daam1 [plasma membrane]  \n",
       "2           RhoA (Mg cofactor):GTP [plasma membrane]  \n",
       "3  Wnt1:Frizzled1:phospho (3 sites) LRP6:CKIgamma...  \n",
       "4         p-T1479,S1490,T1493-LRP6 [plasma membrane]  "
      ]
     },
     "execution_count": 14,
     "metadata": {},
     "output_type": "execute_result"
    }
   ],
   "source": [
    "pe_tax.head()"
   ]
  },
  {
   "cell_type": "code",
   "execution_count": 15,
   "metadata": {},
   "outputs": [
    {
     "data": {
      "text/html": [
       "<div>\n",
       "<style scoped>\n",
       "    .dataframe tbody tr th:only-of-type {\n",
       "        vertical-align: middle;\n",
       "    }\n",
       "\n",
       "    .dataframe tbody tr th {\n",
       "        vertical-align: top;\n",
       "    }\n",
       "\n",
       "    .dataframe thead th {\n",
       "        text-align: right;\n",
       "    }\n",
       "</style>\n",
       "<table border=\"1\" class=\"dataframe\">\n",
       "  <thead>\n",
       "    <tr style=\"text-align: right;\">\n",
       "      <th></th>\n",
       "      <th>tax_id</th>\n",
       "      <th>tax_name</th>\n",
       "      <th>type</th>\n",
       "      <th>pe_id</th>\n",
       "      <th>pe_name</th>\n",
       "    </tr>\n",
       "  </thead>\n",
       "  <tbody>\n",
       "    <tr>\n",
       "      <th>0</th>\n",
       "      <td>NCBITaxon:9606</td>\n",
       "      <td>Homo sapiens</td>\n",
       "      <td>species</td>\n",
       "      <td>R-NUL-351080</td>\n",
       "      <td>Fz1:Dvl2:Daam1:RhoA:GTP [plasma membrane]</td>\n",
       "    </tr>\n",
       "    <tr>\n",
       "      <th>1</th>\n",
       "      <td>NCBITaxon:9606</td>\n",
       "      <td>Homo sapiens</td>\n",
       "      <td>species</td>\n",
       "      <td>R-NUL-351023</td>\n",
       "      <td>Fz1:Dvl2:Daam1 [plasma membrane]</td>\n",
       "    </tr>\n",
       "  </tbody>\n",
       "</table>\n",
       "</div>"
      ],
      "text/plain": [
       "           tax_id      tax_name     type         pe_id  \\\n",
       "0  NCBITaxon:9606  Homo sapiens  species  R-NUL-351080   \n",
       "1  NCBITaxon:9606  Homo sapiens  species  R-NUL-351023   \n",
       "\n",
       "                                     pe_name  \n",
       "0  Fz1:Dvl2:Daam1:RhoA:GTP [plasma membrane]  \n",
       "1           Fz1:Dvl2:Daam1 [plasma membrane]  "
      ]
     },
     "execution_count": 15,
     "metadata": {},
     "output_type": "execute_result"
    }
   ],
   "source": [
    "pe_tax.columns = ['tax_id', 'tax_name', 'type', 'pe_id', 'pe_name']\n",
    "pe_tax['tax_id'] = 'NCBITaxon:' + pe_tax['tax_id']\n",
    "pe_tax.head(2)"
   ]
  },
  {
   "cell_type": "code",
   "execution_count": 16,
   "metadata": {},
   "outputs": [],
   "source": [
    "query_results['pe_tax'] = pe_tax"
   ]
  },
  {
   "cell_type": "code",
   "execution_count": 17,
   "metadata": {},
   "outputs": [
    {
     "data": {
      "text/plain": [
       "104253"
      ]
     },
     "execution_count": 17,
     "metadata": {},
     "output_type": "execute_result"
    }
   ],
   "source": [
    "q2 = \"MATCH (n:Taxon)-[e]-(p:Event) RETURN n.taxId, n.displayName, type(e), p.stId, p.displayName\"\n",
    "evt_tax = query_to_df(q2)\n",
    "len(evt_tax)"
   ]
  },
  {
   "cell_type": "code",
   "execution_count": 18,
   "metadata": {},
   "outputs": [
    {
     "data": {
      "text/html": [
       "<div>\n",
       "<style scoped>\n",
       "    .dataframe tbody tr th:only-of-type {\n",
       "        vertical-align: middle;\n",
       "    }\n",
       "\n",
       "    .dataframe tbody tr th {\n",
       "        vertical-align: top;\n",
       "    }\n",
       "\n",
       "    .dataframe thead th {\n",
       "        text-align: right;\n",
       "    }\n",
       "</style>\n",
       "<table border=\"1\" class=\"dataframe\">\n",
       "  <thead>\n",
       "    <tr style=\"text-align: right;\">\n",
       "      <th></th>\n",
       "      <th>n.taxId</th>\n",
       "      <th>n.displayName</th>\n",
       "      <th>type(e)</th>\n",
       "      <th>p.stId</th>\n",
       "      <th>p.displayName</th>\n",
       "    </tr>\n",
       "  </thead>\n",
       "  <tbody>\n",
       "    <tr>\n",
       "      <th>0</th>\n",
       "      <td>9606</td>\n",
       "      <td>Homo sapiens</td>\n",
       "      <td>species</td>\n",
       "      <td>R-NUL-350375</td>\n",
       "      <td>Dvl2 binds to Daam1</td>\n",
       "    </tr>\n",
       "    <tr>\n",
       "      <th>1</th>\n",
       "      <td>9606</td>\n",
       "      <td>Homo sapiens</td>\n",
       "      <td>species</td>\n",
       "      <td>R-NUL-350485</td>\n",
       "      <td>RhoA:GTP binds to activated Daam1</td>\n",
       "    </tr>\n",
       "    <tr>\n",
       "      <th>2</th>\n",
       "      <td>9606</td>\n",
       "      <td>Homo sapiens</td>\n",
       "      <td>species</td>\n",
       "      <td>R-NUL-209104</td>\n",
       "      <td>Frog CKIgamma further phosphorylates Human LRP...</td>\n",
       "    </tr>\n",
       "    <tr>\n",
       "      <th>3</th>\n",
       "      <td>9606</td>\n",
       "      <td>Homo sapiens</td>\n",
       "      <td>species</td>\n",
       "      <td>R-NUL-209144</td>\n",
       "      <td>Human APC is finally phosphorylated by Murine ...</td>\n",
       "    </tr>\n",
       "    <tr>\n",
       "      <th>4</th>\n",
       "      <td>9606</td>\n",
       "      <td>Homo sapiens</td>\n",
       "      <td>species</td>\n",
       "      <td>R-NUL-209132</td>\n",
       "      <td>Human APC is initially phosphorylated by Murin...</td>\n",
       "    </tr>\n",
       "  </tbody>\n",
       "</table>\n",
       "</div>"
      ],
      "text/plain": [
       "  n.taxId n.displayName  type(e)        p.stId  \\\n",
       "0    9606  Homo sapiens  species  R-NUL-350375   \n",
       "1    9606  Homo sapiens  species  R-NUL-350485   \n",
       "2    9606  Homo sapiens  species  R-NUL-209104   \n",
       "3    9606  Homo sapiens  species  R-NUL-209144   \n",
       "4    9606  Homo sapiens  species  R-NUL-209132   \n",
       "\n",
       "                                       p.displayName  \n",
       "0                                Dvl2 binds to Daam1  \n",
       "1                  RhoA:GTP binds to activated Daam1  \n",
       "2  Frog CKIgamma further phosphorylates Human LRP...  \n",
       "3  Human APC is finally phosphorylated by Murine ...  \n",
       "4  Human APC is initially phosphorylated by Murin...  "
      ]
     },
     "execution_count": 18,
     "metadata": {},
     "output_type": "execute_result"
    }
   ],
   "source": [
    "evt_tax.head()"
   ]
  },
  {
   "cell_type": "code",
   "execution_count": 19,
   "metadata": {},
   "outputs": [
    {
     "data": {
      "text/html": [
       "<div>\n",
       "<style scoped>\n",
       "    .dataframe tbody tr th:only-of-type {\n",
       "        vertical-align: middle;\n",
       "    }\n",
       "\n",
       "    .dataframe tbody tr th {\n",
       "        vertical-align: top;\n",
       "    }\n",
       "\n",
       "    .dataframe thead th {\n",
       "        text-align: right;\n",
       "    }\n",
       "</style>\n",
       "<table border=\"1\" class=\"dataframe\">\n",
       "  <thead>\n",
       "    <tr style=\"text-align: right;\">\n",
       "      <th></th>\n",
       "      <th>tax_id</th>\n",
       "      <th>tax_name</th>\n",
       "      <th>type</th>\n",
       "      <th>evt_id</th>\n",
       "      <th>evt_name</th>\n",
       "    </tr>\n",
       "  </thead>\n",
       "  <tbody>\n",
       "    <tr>\n",
       "      <th>0</th>\n",
       "      <td>NCBITaxon:9606</td>\n",
       "      <td>Homo sapiens</td>\n",
       "      <td>species</td>\n",
       "      <td>R-NUL-350375</td>\n",
       "      <td>Dvl2 binds to Daam1</td>\n",
       "    </tr>\n",
       "    <tr>\n",
       "      <th>1</th>\n",
       "      <td>NCBITaxon:9606</td>\n",
       "      <td>Homo sapiens</td>\n",
       "      <td>species</td>\n",
       "      <td>R-NUL-350485</td>\n",
       "      <td>RhoA:GTP binds to activated Daam1</td>\n",
       "    </tr>\n",
       "  </tbody>\n",
       "</table>\n",
       "</div>"
      ],
      "text/plain": [
       "           tax_id      tax_name     type        evt_id  \\\n",
       "0  NCBITaxon:9606  Homo sapiens  species  R-NUL-350375   \n",
       "1  NCBITaxon:9606  Homo sapiens  species  R-NUL-350485   \n",
       "\n",
       "                            evt_name  \n",
       "0                Dvl2 binds to Daam1  \n",
       "1  RhoA:GTP binds to activated Daam1  "
      ]
     },
     "execution_count": 19,
     "metadata": {},
     "output_type": "execute_result"
    }
   ],
   "source": [
    "evt_tax.columns = ['tax_id', 'tax_name', 'type', 'evt_id', 'evt_name']\n",
    "evt_tax['tax_id'] = 'NCBITaxon:' + evt_tax['tax_id']\n",
    "evt_tax.head(2)"
   ]
  },
  {
   "cell_type": "code",
   "execution_count": 20,
   "metadata": {},
   "outputs": [],
   "source": [
    "query_results['evt_tax'] = evt_tax"
   ]
  },
  {
   "cell_type": "markdown",
   "metadata": {},
   "source": [
    "### Physical Entities and Events to GO Biological Process"
   ]
  },
  {
   "cell_type": "code",
   "execution_count": 21,
   "metadata": {},
   "outputs": [
    {
     "data": {
      "text/plain": [
       "0"
      ]
     },
     "execution_count": 21,
     "metadata": {},
     "output_type": "execute_result"
    }
   ],
   "source": [
    "q3 = \"\"\"MATCH (pe:PhysicalEntity)-[e]-(cc:GO_BiologicalProcess) \n",
    "        RETURN pe.stId, pe.displayName, type(e), cc.databaseName, cc.accession, cc.displayName\"\"\"\n",
    "\n",
    "pe_bp = query_to_df(q3)\n",
    "len(pe_bp)"
   ]
  },
  {
   "cell_type": "code",
   "execution_count": 22,
   "metadata": {},
   "outputs": [
    {
     "data": {
      "text/html": [
       "<div>\n",
       "<style scoped>\n",
       "    .dataframe tbody tr th:only-of-type {\n",
       "        vertical-align: middle;\n",
       "    }\n",
       "\n",
       "    .dataframe tbody tr th {\n",
       "        vertical-align: top;\n",
       "    }\n",
       "\n",
       "    .dataframe thead th {\n",
       "        text-align: right;\n",
       "    }\n",
       "</style>\n",
       "<table border=\"1\" class=\"dataframe\">\n",
       "  <thead>\n",
       "    <tr style=\"text-align: right;\">\n",
       "      <th></th>\n",
       "    </tr>\n",
       "  </thead>\n",
       "  <tbody>\n",
       "  </tbody>\n",
       "</table>\n",
       "</div>"
      ],
      "text/plain": [
       "Empty DataFrame\n",
       "Columns: []\n",
       "Index: []"
      ]
     },
     "execution_count": 22,
     "metadata": {},
     "output_type": "execute_result"
    }
   ],
   "source": [
    "pe_bp.head(2)"
   ]
  },
  {
   "cell_type": "markdown",
   "metadata": {},
   "source": [
    "No results for Physical Entitiy to Biological Process... "
   ]
  },
  {
   "cell_type": "code",
   "execution_count": 23,
   "metadata": {},
   "outputs": [
    {
     "data": {
      "text/plain": [
       "13698"
      ]
     },
     "execution_count": 23,
     "metadata": {},
     "output_type": "execute_result"
    }
   ],
   "source": [
    "q4 = \"\"\"MATCH (pe:Event)-[e]-(bp:GO_BiologicalProcess) \n",
    "        RETURN pe.stId, pe.displayName, type(e), bp.databaseName, bp.accession, bp.displayName\"\"\"\n",
    "\n",
    "evt_bp = query_to_df(q4)\n",
    "len(evt_bp)"
   ]
  },
  {
   "cell_type": "code",
   "execution_count": 24,
   "metadata": {},
   "outputs": [
    {
     "data": {
      "text/html": [
       "<div>\n",
       "<style scoped>\n",
       "    .dataframe tbody tr th:only-of-type {\n",
       "        vertical-align: middle;\n",
       "    }\n",
       "\n",
       "    .dataframe tbody tr th {\n",
       "        vertical-align: top;\n",
       "    }\n",
       "\n",
       "    .dataframe thead th {\n",
       "        text-align: right;\n",
       "    }\n",
       "</style>\n",
       "<table border=\"1\" class=\"dataframe\">\n",
       "  <thead>\n",
       "    <tr style=\"text-align: right;\">\n",
       "      <th></th>\n",
       "      <th>pe.stId</th>\n",
       "      <th>pe.displayName</th>\n",
       "      <th>type(e)</th>\n",
       "      <th>bp.databaseName</th>\n",
       "      <th>bp.accession</th>\n",
       "      <th>bp.displayName</th>\n",
       "    </tr>\n",
       "  </thead>\n",
       "  <tbody>\n",
       "    <tr>\n",
       "      <th>0</th>\n",
       "      <td>R-DME-9613354</td>\n",
       "      <td>Lipophagy</td>\n",
       "      <td>goBiologicalProcess</td>\n",
       "      <td>GO</td>\n",
       "      <td>0061724</td>\n",
       "      <td>lipophagy</td>\n",
       "    </tr>\n",
       "    <tr>\n",
       "      <th>1</th>\n",
       "      <td>R-XTR-9613354</td>\n",
       "      <td>Lipophagy</td>\n",
       "      <td>goBiologicalProcess</td>\n",
       "      <td>GO</td>\n",
       "      <td>0061724</td>\n",
       "      <td>lipophagy</td>\n",
       "    </tr>\n",
       "  </tbody>\n",
       "</table>\n",
       "</div>"
      ],
      "text/plain": [
       "         pe.stId pe.displayName              type(e) bp.databaseName  \\\n",
       "0  R-DME-9613354      Lipophagy  goBiologicalProcess              GO   \n",
       "1  R-XTR-9613354      Lipophagy  goBiologicalProcess              GO   \n",
       "\n",
       "  bp.accession bp.displayName  \n",
       "0      0061724      lipophagy  \n",
       "1      0061724      lipophagy  "
      ]
     },
     "execution_count": 24,
     "metadata": {},
     "output_type": "execute_result"
    }
   ],
   "source": [
    "evt_bp.head(2)"
   ]
  },
  {
   "cell_type": "code",
   "execution_count": 25,
   "metadata": {},
   "outputs": [
    {
     "data": {
      "text/html": [
       "<div>\n",
       "<style scoped>\n",
       "    .dataframe tbody tr th:only-of-type {\n",
       "        vertical-align: middle;\n",
       "    }\n",
       "\n",
       "    .dataframe tbody tr th {\n",
       "        vertical-align: top;\n",
       "    }\n",
       "\n",
       "    .dataframe thead th {\n",
       "        text-align: right;\n",
       "    }\n",
       "</style>\n",
       "<table border=\"1\" class=\"dataframe\">\n",
       "  <thead>\n",
       "    <tr style=\"text-align: right;\">\n",
       "      <th></th>\n",
       "      <th>evt_id</th>\n",
       "      <th>evt_name</th>\n",
       "      <th>type</th>\n",
       "      <th>curi</th>\n",
       "      <th>go_id</th>\n",
       "      <th>go_name</th>\n",
       "    </tr>\n",
       "  </thead>\n",
       "  <tbody>\n",
       "    <tr>\n",
       "      <th>0</th>\n",
       "      <td>R-DME-9613354</td>\n",
       "      <td>Lipophagy</td>\n",
       "      <td>goBiologicalProcess</td>\n",
       "      <td>GO</td>\n",
       "      <td>GO:0061724</td>\n",
       "      <td>lipophagy</td>\n",
       "    </tr>\n",
       "    <tr>\n",
       "      <th>1</th>\n",
       "      <td>R-XTR-9613354</td>\n",
       "      <td>Lipophagy</td>\n",
       "      <td>goBiologicalProcess</td>\n",
       "      <td>GO</td>\n",
       "      <td>GO:0061724</td>\n",
       "      <td>lipophagy</td>\n",
       "    </tr>\n",
       "  </tbody>\n",
       "</table>\n",
       "</div>"
      ],
      "text/plain": [
       "          evt_id   evt_name                 type curi       go_id    go_name\n",
       "0  R-DME-9613354  Lipophagy  goBiologicalProcess   GO  GO:0061724  lipophagy\n",
       "1  R-XTR-9613354  Lipophagy  goBiologicalProcess   GO  GO:0061724  lipophagy"
      ]
     },
     "execution_count": 25,
     "metadata": {},
     "output_type": "execute_result"
    }
   ],
   "source": [
    "evt_bp.columns = ['evt_id', 'evt_name', 'type', 'curi', 'go_id', 'go_name']\n",
    "evt_bp['go_id'] = evt_bp['curi'] + ':' + evt_bp['go_id']\n",
    "evt_bp.head(2)"
   ]
  },
  {
   "cell_type": "code",
   "execution_count": 26,
   "metadata": {},
   "outputs": [],
   "source": [
    "query_results['evt_bp'] = evt_bp"
   ]
  },
  {
   "cell_type": "markdown",
   "metadata": {},
   "source": [
    "### Physical Entities and Events to GO Cell Component"
   ]
  },
  {
   "cell_type": "code",
   "execution_count": 27,
   "metadata": {},
   "outputs": [
    {
     "data": {
      "text/plain": [
       "409878"
      ]
     },
     "execution_count": 27,
     "metadata": {},
     "output_type": "execute_result"
    }
   ],
   "source": [
    "q5 = \"\"\"MATCH (pe:PhysicalEntity)-[e]-(cc:GO_CellularComponent) \n",
    "        RETURN pe.stId, pe.displayName, type(e), cc.databaseName, cc.accession, cc.displayName\"\"\"\n",
    "\n",
    "pe_cc = query_to_df(q5)\n",
    "len(pe_cc)"
   ]
  },
  {
   "cell_type": "code",
   "execution_count": 28,
   "metadata": {},
   "outputs": [
    {
     "data": {
      "text/html": [
       "<div>\n",
       "<style scoped>\n",
       "    .dataframe tbody tr th:only-of-type {\n",
       "        vertical-align: middle;\n",
       "    }\n",
       "\n",
       "    .dataframe tbody tr th {\n",
       "        vertical-align: top;\n",
       "    }\n",
       "\n",
       "    .dataframe thead th {\n",
       "        text-align: right;\n",
       "    }\n",
       "</style>\n",
       "<table border=\"1\" class=\"dataframe\">\n",
       "  <thead>\n",
       "    <tr style=\"text-align: right;\">\n",
       "      <th></th>\n",
       "      <th>pe.stId</th>\n",
       "      <th>pe.displayName</th>\n",
       "      <th>type(e)</th>\n",
       "      <th>cc.databaseName</th>\n",
       "      <th>cc.accession</th>\n",
       "      <th>cc.displayName</th>\n",
       "    </tr>\n",
       "  </thead>\n",
       "  <tbody>\n",
       "    <tr>\n",
       "      <th>0</th>\n",
       "      <td>R-ALL-5334668</td>\n",
       "      <td>PI(3,5)P2 [lysosomal membrane]</td>\n",
       "      <td>compartment</td>\n",
       "      <td>GO</td>\n",
       "      <td>0005765</td>\n",
       "      <td>lysosomal membrane</td>\n",
       "    </tr>\n",
       "    <tr>\n",
       "      <th>1</th>\n",
       "      <td>R-XTR-429825</td>\n",
       "      <td>BLOC-1 Complex [lysosomal membrane]</td>\n",
       "      <td>compartment</td>\n",
       "      <td>GO</td>\n",
       "      <td>0005765</td>\n",
       "      <td>lysosomal membrane</td>\n",
       "    </tr>\n",
       "  </tbody>\n",
       "</table>\n",
       "</div>"
      ],
      "text/plain": [
       "         pe.stId                       pe.displayName      type(e)  \\\n",
       "0  R-ALL-5334668       PI(3,5)P2 [lysosomal membrane]  compartment   \n",
       "1   R-XTR-429825  BLOC-1 Complex [lysosomal membrane]  compartment   \n",
       "\n",
       "  cc.databaseName cc.accession      cc.displayName  \n",
       "0              GO      0005765  lysosomal membrane  \n",
       "1              GO      0005765  lysosomal membrane  "
      ]
     },
     "execution_count": 28,
     "metadata": {},
     "output_type": "execute_result"
    }
   ],
   "source": [
    "pe_cc.head(2)"
   ]
  },
  {
   "cell_type": "code",
   "execution_count": 29,
   "metadata": {},
   "outputs": [
    {
     "data": {
      "text/html": [
       "<div>\n",
       "<style scoped>\n",
       "    .dataframe tbody tr th:only-of-type {\n",
       "        vertical-align: middle;\n",
       "    }\n",
       "\n",
       "    .dataframe tbody tr th {\n",
       "        vertical-align: top;\n",
       "    }\n",
       "\n",
       "    .dataframe thead th {\n",
       "        text-align: right;\n",
       "    }\n",
       "</style>\n",
       "<table border=\"1\" class=\"dataframe\">\n",
       "  <thead>\n",
       "    <tr style=\"text-align: right;\">\n",
       "      <th></th>\n",
       "      <th>pe_id</th>\n",
       "      <th>pe_name</th>\n",
       "      <th>type</th>\n",
       "      <th>curi</th>\n",
       "      <th>go_id</th>\n",
       "      <th>go_name</th>\n",
       "    </tr>\n",
       "  </thead>\n",
       "  <tbody>\n",
       "    <tr>\n",
       "      <th>0</th>\n",
       "      <td>R-ALL-5334668</td>\n",
       "      <td>PI(3,5)P2 [lysosomal membrane]</td>\n",
       "      <td>compartment</td>\n",
       "      <td>GO</td>\n",
       "      <td>GO:0005765</td>\n",
       "      <td>lysosomal membrane</td>\n",
       "    </tr>\n",
       "    <tr>\n",
       "      <th>1</th>\n",
       "      <td>R-XTR-429825</td>\n",
       "      <td>BLOC-1 Complex [lysosomal membrane]</td>\n",
       "      <td>compartment</td>\n",
       "      <td>GO</td>\n",
       "      <td>GO:0005765</td>\n",
       "      <td>lysosomal membrane</td>\n",
       "    </tr>\n",
       "  </tbody>\n",
       "</table>\n",
       "</div>"
      ],
      "text/plain": [
       "           pe_id                              pe_name         type curi  \\\n",
       "0  R-ALL-5334668       PI(3,5)P2 [lysosomal membrane]  compartment   GO   \n",
       "1   R-XTR-429825  BLOC-1 Complex [lysosomal membrane]  compartment   GO   \n",
       "\n",
       "        go_id             go_name  \n",
       "0  GO:0005765  lysosomal membrane  \n",
       "1  GO:0005765  lysosomal membrane  "
      ]
     },
     "execution_count": 29,
     "metadata": {},
     "output_type": "execute_result"
    }
   ],
   "source": [
    "pe_cc.columns = ['pe_id', 'pe_name', 'type', 'curi', 'go_id', 'go_name']\n",
    "pe_cc['go_id'] = pe_cc['curi'] + ':' + pe_cc['go_id']\n",
    "pe_cc.head(2)"
   ]
  },
  {
   "cell_type": "code",
   "execution_count": 30,
   "metadata": {},
   "outputs": [],
   "source": [
    "query_results['pe_cc'] = pe_cc"
   ]
  },
  {
   "cell_type": "code",
   "execution_count": 31,
   "metadata": {},
   "outputs": [
    {
     "data": {
      "text/plain": [
       "133474"
      ]
     },
     "execution_count": 31,
     "metadata": {},
     "output_type": "execute_result"
    }
   ],
   "source": [
    "q6 = \"\"\"MATCH (pe:Event)-[e]-(cc:GO_CellularComponent) \n",
    "        RETURN pe.stId, pe.displayName, type(e), cc.databaseName, cc.accession, cc.displayName\"\"\"\n",
    "\n",
    "evt_cc = query_to_df(q6)\n",
    "len(evt_cc)"
   ]
  },
  {
   "cell_type": "code",
   "execution_count": 32,
   "metadata": {},
   "outputs": [
    {
     "data": {
      "text/html": [
       "<div>\n",
       "<style scoped>\n",
       "    .dataframe tbody tr th:only-of-type {\n",
       "        vertical-align: middle;\n",
       "    }\n",
       "\n",
       "    .dataframe tbody tr th {\n",
       "        vertical-align: top;\n",
       "    }\n",
       "\n",
       "    .dataframe thead th {\n",
       "        text-align: right;\n",
       "    }\n",
       "</style>\n",
       "<table border=\"1\" class=\"dataframe\">\n",
       "  <thead>\n",
       "    <tr style=\"text-align: right;\">\n",
       "      <th></th>\n",
       "      <th>pe.stId</th>\n",
       "      <th>pe.displayName</th>\n",
       "      <th>type(e)</th>\n",
       "      <th>cc.databaseName</th>\n",
       "      <th>cc.accession</th>\n",
       "      <th>cc.displayName</th>\n",
       "    </tr>\n",
       "  </thead>\n",
       "  <tbody>\n",
       "    <tr>\n",
       "      <th>0</th>\n",
       "      <td>R-SCE-5333658</td>\n",
       "      <td>CLAT:AP1:CLVS bind PI(3,5)P2</td>\n",
       "      <td>compartment</td>\n",
       "      <td>GO</td>\n",
       "      <td>0005765</td>\n",
       "      <td>lysosomal membrane</td>\n",
       "    </tr>\n",
       "    <tr>\n",
       "      <th>1</th>\n",
       "      <td>R-SPO-5333658</td>\n",
       "      <td>CLAT:AP1:CLVS bind PI(3,5)P2</td>\n",
       "      <td>compartment</td>\n",
       "      <td>GO</td>\n",
       "      <td>0005765</td>\n",
       "      <td>lysosomal membrane</td>\n",
       "    </tr>\n",
       "  </tbody>\n",
       "</table>\n",
       "</div>"
      ],
      "text/plain": [
       "         pe.stId                pe.displayName      type(e) cc.databaseName  \\\n",
       "0  R-SCE-5333658  CLAT:AP1:CLVS bind PI(3,5)P2  compartment              GO   \n",
       "1  R-SPO-5333658  CLAT:AP1:CLVS bind PI(3,5)P2  compartment              GO   \n",
       "\n",
       "  cc.accession      cc.displayName  \n",
       "0      0005765  lysosomal membrane  \n",
       "1      0005765  lysosomal membrane  "
      ]
     },
     "execution_count": 32,
     "metadata": {},
     "output_type": "execute_result"
    }
   ],
   "source": [
    "evt_cc.head(2)"
   ]
  },
  {
   "cell_type": "code",
   "execution_count": 33,
   "metadata": {},
   "outputs": [
    {
     "data": {
      "text/html": [
       "<div>\n",
       "<style scoped>\n",
       "    .dataframe tbody tr th:only-of-type {\n",
       "        vertical-align: middle;\n",
       "    }\n",
       "\n",
       "    .dataframe tbody tr th {\n",
       "        vertical-align: top;\n",
       "    }\n",
       "\n",
       "    .dataframe thead th {\n",
       "        text-align: right;\n",
       "    }\n",
       "</style>\n",
       "<table border=\"1\" class=\"dataframe\">\n",
       "  <thead>\n",
       "    <tr style=\"text-align: right;\">\n",
       "      <th></th>\n",
       "      <th>evt_id</th>\n",
       "      <th>evt_name</th>\n",
       "      <th>type</th>\n",
       "      <th>curi</th>\n",
       "      <th>go_id</th>\n",
       "      <th>go_name</th>\n",
       "    </tr>\n",
       "  </thead>\n",
       "  <tbody>\n",
       "    <tr>\n",
       "      <th>0</th>\n",
       "      <td>R-SCE-5333658</td>\n",
       "      <td>CLAT:AP1:CLVS bind PI(3,5)P2</td>\n",
       "      <td>compartment</td>\n",
       "      <td>GO</td>\n",
       "      <td>GO:0005765</td>\n",
       "      <td>lysosomal membrane</td>\n",
       "    </tr>\n",
       "    <tr>\n",
       "      <th>1</th>\n",
       "      <td>R-SPO-5333658</td>\n",
       "      <td>CLAT:AP1:CLVS bind PI(3,5)P2</td>\n",
       "      <td>compartment</td>\n",
       "      <td>GO</td>\n",
       "      <td>GO:0005765</td>\n",
       "      <td>lysosomal membrane</td>\n",
       "    </tr>\n",
       "  </tbody>\n",
       "</table>\n",
       "</div>"
      ],
      "text/plain": [
       "          evt_id                      evt_name         type curi       go_id  \\\n",
       "0  R-SCE-5333658  CLAT:AP1:CLVS bind PI(3,5)P2  compartment   GO  GO:0005765   \n",
       "1  R-SPO-5333658  CLAT:AP1:CLVS bind PI(3,5)P2  compartment   GO  GO:0005765   \n",
       "\n",
       "              go_name  \n",
       "0  lysosomal membrane  \n",
       "1  lysosomal membrane  "
      ]
     },
     "execution_count": 33,
     "metadata": {},
     "output_type": "execute_result"
    }
   ],
   "source": [
    "evt_cc.columns = ['evt_id', 'evt_name', 'type', 'curi', 'go_id', 'go_name']\n",
    "evt_cc['go_id'] = evt_cc['curi'] + ':' + evt_cc['go_id']\n",
    "evt_cc.head(2)"
   ]
  },
  {
   "cell_type": "code",
   "execution_count": 34,
   "metadata": {},
   "outputs": [],
   "source": [
    "query_results['evt_cc'] = evt_cc"
   ]
  },
  {
   "cell_type": "markdown",
   "metadata": {},
   "source": [
    "### Physical Entities and Events to GO Molecular Function"
   ]
  },
  {
   "cell_type": "code",
   "execution_count": 35,
   "metadata": {},
   "outputs": [
    {
     "data": {
      "text/plain": [
       "0"
      ]
     },
     "execution_count": 35,
     "metadata": {},
     "output_type": "execute_result"
    }
   ],
   "source": [
    "q7 = \"\"\"MATCH (pe:PhysicalEntity)-[e]-(mf:GO_MolecularFunction) \n",
    "        RETURN pe.stId, pe.displayName, type(e), mf.databaseName, mf.accession, mf.displayName\"\"\"\n",
    "\n",
    "pe_mf = query_to_df(q7)\n",
    "len(pe_mf)"
   ]
  },
  {
   "cell_type": "code",
   "execution_count": 36,
   "metadata": {},
   "outputs": [
    {
     "data": {
      "text/html": [
       "<div>\n",
       "<style scoped>\n",
       "    .dataframe tbody tr th:only-of-type {\n",
       "        vertical-align: middle;\n",
       "    }\n",
       "\n",
       "    .dataframe tbody tr th {\n",
       "        vertical-align: top;\n",
       "    }\n",
       "\n",
       "    .dataframe thead th {\n",
       "        text-align: right;\n",
       "    }\n",
       "</style>\n",
       "<table border=\"1\" class=\"dataframe\">\n",
       "  <thead>\n",
       "    <tr style=\"text-align: right;\">\n",
       "      <th></th>\n",
       "    </tr>\n",
       "  </thead>\n",
       "  <tbody>\n",
       "  </tbody>\n",
       "</table>\n",
       "</div>"
      ],
      "text/plain": [
       "Empty DataFrame\n",
       "Columns: []\n",
       "Index: []"
      ]
     },
     "execution_count": 36,
     "metadata": {},
     "output_type": "execute_result"
    }
   ],
   "source": [
    "pe_mf.head(2)"
   ]
  },
  {
   "cell_type": "code",
   "execution_count": 37,
   "metadata": {},
   "outputs": [
    {
     "data": {
      "text/plain": [
       "0"
      ]
     },
     "execution_count": 37,
     "metadata": {},
     "output_type": "execute_result"
    }
   ],
   "source": [
    "q8 = \"\"\"MATCH (pe:Event)-[e]-(mf:GO_MolecularFunction) \n",
    "        RETURN pe.stId, pe.displayName, type(e), mf.databaseName, mf.accession, mf.displayName\"\"\"\n",
    "\n",
    "evt_mf = query_to_df(q8)\n",
    "len(evt_mf)"
   ]
  },
  {
   "cell_type": "code",
   "execution_count": 38,
   "metadata": {},
   "outputs": [
    {
     "data": {
      "text/html": [
       "<div>\n",
       "<style scoped>\n",
       "    .dataframe tbody tr th:only-of-type {\n",
       "        vertical-align: middle;\n",
       "    }\n",
       "\n",
       "    .dataframe tbody tr th {\n",
       "        vertical-align: top;\n",
       "    }\n",
       "\n",
       "    .dataframe thead th {\n",
       "        text-align: right;\n",
       "    }\n",
       "</style>\n",
       "<table border=\"1\" class=\"dataframe\">\n",
       "  <thead>\n",
       "    <tr style=\"text-align: right;\">\n",
       "      <th></th>\n",
       "    </tr>\n",
       "  </thead>\n",
       "  <tbody>\n",
       "  </tbody>\n",
       "</table>\n",
       "</div>"
      ],
      "text/plain": [
       "Empty DataFrame\n",
       "Columns: []\n",
       "Index: []"
      ]
     },
     "execution_count": 38,
     "metadata": {},
     "output_type": "execute_result"
    }
   ],
   "source": [
    "evt_mf.head(2)"
   ]
  },
  {
   "cell_type": "markdown",
   "metadata": {},
   "source": [
    "### Physical Entities and Events to Disease\n",
    "\n",
    "#### Rxn AssocWith Disease"
   ]
  },
  {
   "cell_type": "code",
   "execution_count": 39,
   "metadata": {},
   "outputs": [
    {
     "data": {
      "text/plain": [
       "673"
      ]
     },
     "execution_count": 39,
     "metadata": {},
     "output_type": "execute_result"
    }
   ],
   "source": [
    "q9 = \"\"\"Match (s:Reaction)-[e]-(t:Disease) \n",
    "        return s.stId, s.displayName, type(e), t.databaseName, t.identifier, t.displayName \"\"\"\n",
    "\n",
    "rxn_aw_dis = query_to_df(q9)\n",
    "len(rxn_aw_dis)"
   ]
  },
  {
   "cell_type": "code",
   "execution_count": 40,
   "metadata": {},
   "outputs": [
    {
     "data": {
      "text/html": [
       "<div>\n",
       "<style scoped>\n",
       "    .dataframe tbody tr th:only-of-type {\n",
       "        vertical-align: middle;\n",
       "    }\n",
       "\n",
       "    .dataframe tbody tr th {\n",
       "        vertical-align: top;\n",
       "    }\n",
       "\n",
       "    .dataframe thead th {\n",
       "        text-align: right;\n",
       "    }\n",
       "</style>\n",
       "<table border=\"1\" class=\"dataframe\">\n",
       "  <thead>\n",
       "    <tr style=\"text-align: right;\">\n",
       "      <th></th>\n",
       "      <th>s.stId</th>\n",
       "      <th>s.displayName</th>\n",
       "      <th>type(e)</th>\n",
       "      <th>t.databaseName</th>\n",
       "      <th>t.identifier</th>\n",
       "      <th>t.displayName</th>\n",
       "    </tr>\n",
       "  </thead>\n",
       "  <tbody>\n",
       "    <tr>\n",
       "      <th>0</th>\n",
       "      <td>R-HSA-2400009</td>\n",
       "      <td>PI3K inhibitors block PI3K catalytic activity</td>\n",
       "      <td>disease</td>\n",
       "      <td>DOID</td>\n",
       "      <td>162</td>\n",
       "      <td>cancer</td>\n",
       "    </tr>\n",
       "    <tr>\n",
       "      <th>1</th>\n",
       "      <td>R-HSA-2394007</td>\n",
       "      <td>PI3K gain of function mutants phosphorylate PI...</td>\n",
       "      <td>disease</td>\n",
       "      <td>DOID</td>\n",
       "      <td>162</td>\n",
       "      <td>cancer</td>\n",
       "    </tr>\n",
       "  </tbody>\n",
       "</table>\n",
       "</div>"
      ],
      "text/plain": [
       "          s.stId                                      s.displayName  type(e)  \\\n",
       "0  R-HSA-2400009      PI3K inhibitors block PI3K catalytic activity  disease   \n",
       "1  R-HSA-2394007  PI3K gain of function mutants phosphorylate PI...  disease   \n",
       "\n",
       "  t.databaseName t.identifier t.displayName  \n",
       "0           DOID          162        cancer  \n",
       "1           DOID          162        cancer  "
      ]
     },
     "execution_count": 40,
     "metadata": {},
     "output_type": "execute_result"
    }
   ],
   "source": [
    "rxn_aw_dis.head(2)"
   ]
  },
  {
   "cell_type": "code",
   "execution_count": 41,
   "metadata": {},
   "outputs": [
    {
     "data": {
      "text/html": [
       "<div>\n",
       "<style scoped>\n",
       "    .dataframe tbody tr th:only-of-type {\n",
       "        vertical-align: middle;\n",
       "    }\n",
       "\n",
       "    .dataframe tbody tr th {\n",
       "        vertical-align: top;\n",
       "    }\n",
       "\n",
       "    .dataframe thead th {\n",
       "        text-align: right;\n",
       "    }\n",
       "</style>\n",
       "<table border=\"1\" class=\"dataframe\">\n",
       "  <thead>\n",
       "    <tr style=\"text-align: right;\">\n",
       "      <th></th>\n",
       "      <th>rxn_id</th>\n",
       "      <th>rxn_name</th>\n",
       "      <th>type</th>\n",
       "      <th>curi</th>\n",
       "      <th>do_id</th>\n",
       "      <th>do_name</th>\n",
       "    </tr>\n",
       "  </thead>\n",
       "  <tbody>\n",
       "    <tr>\n",
       "      <th>0</th>\n",
       "      <td>R-HSA-2400009</td>\n",
       "      <td>PI3K inhibitors block PI3K catalytic activity</td>\n",
       "      <td>associated_with</td>\n",
       "      <td>DOID</td>\n",
       "      <td>DOID:162</td>\n",
       "      <td>cancer</td>\n",
       "    </tr>\n",
       "    <tr>\n",
       "      <th>1</th>\n",
       "      <td>R-HSA-2394007</td>\n",
       "      <td>PI3K gain of function mutants phosphorylate PI...</td>\n",
       "      <td>associated_with</td>\n",
       "      <td>DOID</td>\n",
       "      <td>DOID:162</td>\n",
       "      <td>cancer</td>\n",
       "    </tr>\n",
       "  </tbody>\n",
       "</table>\n",
       "</div>"
      ],
      "text/plain": [
       "          rxn_id                                           rxn_name  \\\n",
       "0  R-HSA-2400009      PI3K inhibitors block PI3K catalytic activity   \n",
       "1  R-HSA-2394007  PI3K gain of function mutants phosphorylate PI...   \n",
       "\n",
       "              type  curi     do_id do_name  \n",
       "0  associated_with  DOID  DOID:162  cancer  \n",
       "1  associated_with  DOID  DOID:162  cancer  "
      ]
     },
     "execution_count": 41,
     "metadata": {},
     "output_type": "execute_result"
    }
   ],
   "source": [
    "rxn_aw_dis.columns = ['rxn_id', 'rxn_name', 'type', 'curi', 'do_id', 'do_name']\n",
    "rxn_aw_dis['do_id'] = rxn_aw_dis['curi'] + ':' + rxn_aw_dis['do_id']\n",
    "rxn_aw_dis['type'] = 'associated_with'\n",
    "rxn_aw_dis.head(2)"
   ]
  },
  {
   "cell_type": "code",
   "execution_count": 42,
   "metadata": {},
   "outputs": [],
   "source": [
    "query_results['rxn_aw_dis'] = rxn_aw_dis"
   ]
  },
  {
   "cell_type": "markdown",
   "metadata": {},
   "source": [
    "####    Rxn Disrupted in Disease"
   ]
  },
  {
   "cell_type": "code",
   "execution_count": 43,
   "metadata": {},
   "outputs": [
    {
     "data": {
      "text/plain": [
       "411"
      ]
     },
     "execution_count": 43,
     "metadata": {},
     "output_type": "execute_result"
    }
   ],
   "source": [
    "q10 = \"\"\"Match (s:Reaction)-[e]-(t:FailedReaction)-[e1]-(t1:Disease) \n",
    "       return s.stId, s.displayName, type(e), t.displayName, t.stId, type(e1), \n",
    "       t1.databaseName, t1.identifier, t1.displayName\"\"\"\n",
    "\n",
    "rxn_di_dis = query_to_df(q10)\n",
    "len(rxn_di_dis)"
   ]
  },
  {
   "cell_type": "code",
   "execution_count": 44,
   "metadata": {},
   "outputs": [
    {
     "data": {
      "text/html": [
       "<div>\n",
       "<style scoped>\n",
       "    .dataframe tbody tr th:only-of-type {\n",
       "        vertical-align: middle;\n",
       "    }\n",
       "\n",
       "    .dataframe tbody tr th {\n",
       "        vertical-align: top;\n",
       "    }\n",
       "\n",
       "    .dataframe thead th {\n",
       "        text-align: right;\n",
       "    }\n",
       "</style>\n",
       "<table border=\"1\" class=\"dataframe\">\n",
       "  <thead>\n",
       "    <tr style=\"text-align: right;\">\n",
       "      <th></th>\n",
       "      <th>s.stId</th>\n",
       "      <th>s.displayName</th>\n",
       "      <th>type(e)</th>\n",
       "      <th>t.displayName</th>\n",
       "      <th>t.stId</th>\n",
       "      <th>type(e1)</th>\n",
       "      <th>t1.databaseName</th>\n",
       "      <th>t1.identifier</th>\n",
       "      <th>t1.displayName</th>\n",
       "    </tr>\n",
       "  </thead>\n",
       "  <tbody>\n",
       "    <tr>\n",
       "      <th>0</th>\n",
       "      <td>R-HSA-5658435</td>\n",
       "      <td>RAS GAPs bind RAS:GTP</td>\n",
       "      <td>normalReaction</td>\n",
       "      <td>RAS GAP mutants aren't stimulated by GAPs</td>\n",
       "      <td>R-HSA-9651280</td>\n",
       "      <td>disease</td>\n",
       "      <td>DOID</td>\n",
       "      <td>0060233</td>\n",
       "      <td>cardiofaciocutaneous syndrome</td>\n",
       "    </tr>\n",
       "    <tr>\n",
       "      <th>1</th>\n",
       "      <td>R-HSA-5658435</td>\n",
       "      <td>RAS GAPs bind RAS:GTP</td>\n",
       "      <td>normalReaction</td>\n",
       "      <td>RAS GAP mutants aren't stimulated by GAPs</td>\n",
       "      <td>R-HSA-9651280</td>\n",
       "      <td>disease</td>\n",
       "      <td>DOID</td>\n",
       "      <td>162</td>\n",
       "      <td>cancer</td>\n",
       "    </tr>\n",
       "  </tbody>\n",
       "</table>\n",
       "</div>"
      ],
      "text/plain": [
       "          s.stId          s.displayName         type(e)  \\\n",
       "0  R-HSA-5658435  RAS GAPs bind RAS:GTP  normalReaction   \n",
       "1  R-HSA-5658435  RAS GAPs bind RAS:GTP  normalReaction   \n",
       "\n",
       "                               t.displayName         t.stId type(e1)  \\\n",
       "0  RAS GAP mutants aren't stimulated by GAPs  R-HSA-9651280  disease   \n",
       "1  RAS GAP mutants aren't stimulated by GAPs  R-HSA-9651280  disease   \n",
       "\n",
       "  t1.databaseName t1.identifier                 t1.displayName  \n",
       "0            DOID       0060233  cardiofaciocutaneous syndrome  \n",
       "1            DOID           162                         cancer  "
      ]
     },
     "execution_count": 44,
     "metadata": {},
     "output_type": "execute_result"
    }
   ],
   "source": [
    "rxn_di_dis.head(2)"
   ]
  },
  {
   "cell_type": "code",
   "execution_count": 45,
   "metadata": {},
   "outputs": [
    {
     "data": {
      "text/html": [
       "<div>\n",
       "<style scoped>\n",
       "    .dataframe tbody tr th:only-of-type {\n",
       "        vertical-align: middle;\n",
       "    }\n",
       "\n",
       "    .dataframe tbody tr th {\n",
       "        vertical-align: top;\n",
       "    }\n",
       "\n",
       "    .dataframe thead th {\n",
       "        text-align: right;\n",
       "    }\n",
       "</style>\n",
       "<table border=\"1\" class=\"dataframe\">\n",
       "  <thead>\n",
       "    <tr style=\"text-align: right;\">\n",
       "      <th></th>\n",
       "      <th>rxn_id</th>\n",
       "      <th>rxn_name</th>\n",
       "      <th>type</th>\n",
       "      <th>drxn_id</th>\n",
       "      <th>drxn_name</th>\n",
       "      <th>type2</th>\n",
       "      <th>curi</th>\n",
       "      <th>do_id</th>\n",
       "      <th>do_name</th>\n",
       "    </tr>\n",
       "  </thead>\n",
       "  <tbody>\n",
       "    <tr>\n",
       "      <th>0</th>\n",
       "      <td>R-HSA-5658435</td>\n",
       "      <td>RAS GAPs bind RAS:GTP</td>\n",
       "      <td>disrupted_in</td>\n",
       "      <td>RAS GAP mutants aren't stimulated by GAPs</td>\n",
       "      <td>R-HSA-9651280</td>\n",
       "      <td>disease</td>\n",
       "      <td>DOID</td>\n",
       "      <td>DOID:0060233</td>\n",
       "      <td>cardiofaciocutaneous syndrome</td>\n",
       "    </tr>\n",
       "    <tr>\n",
       "      <th>1</th>\n",
       "      <td>R-HSA-5658435</td>\n",
       "      <td>RAS GAPs bind RAS:GTP</td>\n",
       "      <td>disrupted_in</td>\n",
       "      <td>RAS GAP mutants aren't stimulated by GAPs</td>\n",
       "      <td>R-HSA-9651280</td>\n",
       "      <td>disease</td>\n",
       "      <td>DOID</td>\n",
       "      <td>DOID:162</td>\n",
       "      <td>cancer</td>\n",
       "    </tr>\n",
       "  </tbody>\n",
       "</table>\n",
       "</div>"
      ],
      "text/plain": [
       "          rxn_id               rxn_name          type  \\\n",
       "0  R-HSA-5658435  RAS GAPs bind RAS:GTP  disrupted_in   \n",
       "1  R-HSA-5658435  RAS GAPs bind RAS:GTP  disrupted_in   \n",
       "\n",
       "                                     drxn_id      drxn_name    type2  curi  \\\n",
       "0  RAS GAP mutants aren't stimulated by GAPs  R-HSA-9651280  disease  DOID   \n",
       "1  RAS GAP mutants aren't stimulated by GAPs  R-HSA-9651280  disease  DOID   \n",
       "\n",
       "          do_id                        do_name  \n",
       "0  DOID:0060233  cardiofaciocutaneous syndrome  \n",
       "1      DOID:162                         cancer  "
      ]
     },
     "execution_count": 45,
     "metadata": {},
     "output_type": "execute_result"
    }
   ],
   "source": [
    "rxn_di_dis.columns = ['rxn_id', 'rxn_name', 'type', 'drxn_id', 'drxn_name', 'type2', 'curi', 'do_id', 'do_name']\n",
    "rxn_di_dis['do_id'] = rxn_di_dis['curi'] + ':' + rxn_di_dis['do_id']\n",
    "rxn_di_dis['type'] = 'disrupted_in'\n",
    "rxn_di_dis.head(2)"
   ]
  },
  {
   "cell_type": "code",
   "execution_count": 46,
   "metadata": {},
   "outputs": [],
   "source": [
    "query_results['rxn_di_dis'] = rxn_di_dis"
   ]
  },
  {
   "cell_type": "markdown",
   "metadata": {},
   "source": [
    "#### PW AssocWith Disease"
   ]
  },
  {
   "cell_type": "code",
   "execution_count": 47,
   "metadata": {},
   "outputs": [
    {
     "data": {
      "text/plain": [
       "559"
      ]
     },
     "execution_count": 47,
     "metadata": {},
     "output_type": "execute_result"
    }
   ],
   "source": [
    "q11 = \"\"\"Match (s:Pathway)-[e]-(t:Disease) \n",
    "        return s.stId, s.displayName, type(e), t.databaseName, t.identifier, t.displayName\"\"\"\n",
    "\n",
    "pw_aw_dis = query_to_df(q11)\n",
    "len(pw_aw_dis)"
   ]
  },
  {
   "cell_type": "code",
   "execution_count": 48,
   "metadata": {},
   "outputs": [
    {
     "data": {
      "text/html": [
       "<div>\n",
       "<style scoped>\n",
       "    .dataframe tbody tr th:only-of-type {\n",
       "        vertical-align: middle;\n",
       "    }\n",
       "\n",
       "    .dataframe tbody tr th {\n",
       "        vertical-align: top;\n",
       "    }\n",
       "\n",
       "    .dataframe thead th {\n",
       "        text-align: right;\n",
       "    }\n",
       "</style>\n",
       "<table border=\"1\" class=\"dataframe\">\n",
       "  <thead>\n",
       "    <tr style=\"text-align: right;\">\n",
       "      <th></th>\n",
       "      <th>s.stId</th>\n",
       "      <th>s.displayName</th>\n",
       "      <th>type(e)</th>\n",
       "      <th>t.databaseName</th>\n",
       "      <th>t.identifier</th>\n",
       "      <th>t.displayName</th>\n",
       "    </tr>\n",
       "  </thead>\n",
       "  <tbody>\n",
       "    <tr>\n",
       "      <th>0</th>\n",
       "      <td>R-HSA-9605308</td>\n",
       "      <td>Diseases of Base Excision Repair</td>\n",
       "      <td>disease</td>\n",
       "      <td>DOID</td>\n",
       "      <td>162</td>\n",
       "      <td>cancer</td>\n",
       "    </tr>\n",
       "    <tr>\n",
       "      <th>1</th>\n",
       "      <td>R-HSA-9616333</td>\n",
       "      <td>Defective Base Excision Repair Associated with...</td>\n",
       "      <td>disease</td>\n",
       "      <td>DOID</td>\n",
       "      <td>162</td>\n",
       "      <td>cancer</td>\n",
       "    </tr>\n",
       "  </tbody>\n",
       "</table>\n",
       "</div>"
      ],
      "text/plain": [
       "          s.stId                                      s.displayName  type(e)  \\\n",
       "0  R-HSA-9605308                   Diseases of Base Excision Repair  disease   \n",
       "1  R-HSA-9616333  Defective Base Excision Repair Associated with...  disease   \n",
       "\n",
       "  t.databaseName t.identifier t.displayName  \n",
       "0           DOID          162        cancer  \n",
       "1           DOID          162        cancer  "
      ]
     },
     "execution_count": 48,
     "metadata": {},
     "output_type": "execute_result"
    }
   ],
   "source": [
    "pw_aw_dis.head(2)"
   ]
  },
  {
   "cell_type": "code",
   "execution_count": 49,
   "metadata": {},
   "outputs": [
    {
     "data": {
      "text/html": [
       "<div>\n",
       "<style scoped>\n",
       "    .dataframe tbody tr th:only-of-type {\n",
       "        vertical-align: middle;\n",
       "    }\n",
       "\n",
       "    .dataframe tbody tr th {\n",
       "        vertical-align: top;\n",
       "    }\n",
       "\n",
       "    .dataframe thead th {\n",
       "        text-align: right;\n",
       "    }\n",
       "</style>\n",
       "<table border=\"1\" class=\"dataframe\">\n",
       "  <thead>\n",
       "    <tr style=\"text-align: right;\">\n",
       "      <th></th>\n",
       "      <th>pw_id</th>\n",
       "      <th>pw_name</th>\n",
       "      <th>type</th>\n",
       "      <th>curi</th>\n",
       "      <th>do_id</th>\n",
       "      <th>do_name</th>\n",
       "    </tr>\n",
       "  </thead>\n",
       "  <tbody>\n",
       "    <tr>\n",
       "      <th>0</th>\n",
       "      <td>R-HSA-9605308</td>\n",
       "      <td>Diseases of Base Excision Repair</td>\n",
       "      <td>associated_with</td>\n",
       "      <td>DOID</td>\n",
       "      <td>DOID:162</td>\n",
       "      <td>cancer</td>\n",
       "    </tr>\n",
       "    <tr>\n",
       "      <th>1</th>\n",
       "      <td>R-HSA-9616333</td>\n",
       "      <td>Defective Base Excision Repair Associated with...</td>\n",
       "      <td>associated_with</td>\n",
       "      <td>DOID</td>\n",
       "      <td>DOID:162</td>\n",
       "      <td>cancer</td>\n",
       "    </tr>\n",
       "  </tbody>\n",
       "</table>\n",
       "</div>"
      ],
      "text/plain": [
       "           pw_id                                            pw_name  \\\n",
       "0  R-HSA-9605308                   Diseases of Base Excision Repair   \n",
       "1  R-HSA-9616333  Defective Base Excision Repair Associated with...   \n",
       "\n",
       "              type  curi     do_id do_name  \n",
       "0  associated_with  DOID  DOID:162  cancer  \n",
       "1  associated_with  DOID  DOID:162  cancer  "
      ]
     },
     "execution_count": 49,
     "metadata": {},
     "output_type": "execute_result"
    }
   ],
   "source": [
    "pw_aw_dis.columns = ['pw_id', 'pw_name', 'type', 'curi', 'do_id', 'do_name']\n",
    "pw_aw_dis['do_id'] = pw_aw_dis['curi'] + ':' + pw_aw_dis['do_id']\n",
    "pw_aw_dis['type'] = 'associated_with'\n",
    "pw_aw_dis.head(2)"
   ]
  },
  {
   "cell_type": "code",
   "execution_count": 50,
   "metadata": {},
   "outputs": [],
   "source": [
    "query_results['pw_aw_dis'] = pw_aw_dis"
   ]
  },
  {
   "cell_type": "markdown",
   "metadata": {},
   "source": [
    "#### PW Disrupted in Disease"
   ]
  },
  {
   "cell_type": "code",
   "execution_count": 51,
   "metadata": {},
   "outputs": [
    {
     "data": {
      "text/plain": [
       "368"
      ]
     },
     "execution_count": 51,
     "metadata": {},
     "output_type": "execute_result"
    }
   ],
   "source": [
    "q12 = \"\"\"MATCH (pw:Pathway)<-[e:normalPathway]-(dpw:Pathway)-[e1]-(d:Disease) \n",
    "         RETURN pw.stId, pw.displayName, type(e), dpw.stId, dpw.displayName, type(e1), \n",
    "         d.databaseName, d.identifier, d.displayName\"\"\"\n",
    "\n",
    "pw_di_dis = query_to_df(q12)\n",
    "len(pw_di_dis)"
   ]
  },
  {
   "cell_type": "code",
   "execution_count": 52,
   "metadata": {},
   "outputs": [
    {
     "data": {
      "text/html": [
       "<div>\n",
       "<style scoped>\n",
       "    .dataframe tbody tr th:only-of-type {\n",
       "        vertical-align: middle;\n",
       "    }\n",
       "\n",
       "    .dataframe tbody tr th {\n",
       "        vertical-align: top;\n",
       "    }\n",
       "\n",
       "    .dataframe thead th {\n",
       "        text-align: right;\n",
       "    }\n",
       "</style>\n",
       "<table border=\"1\" class=\"dataframe\">\n",
       "  <thead>\n",
       "    <tr style=\"text-align: right;\">\n",
       "      <th></th>\n",
       "      <th>pw.stId</th>\n",
       "      <th>pw.displayName</th>\n",
       "      <th>type(e)</th>\n",
       "      <th>dpw.stId</th>\n",
       "      <th>dpw.displayName</th>\n",
       "      <th>type(e1)</th>\n",
       "      <th>d.databaseName</th>\n",
       "      <th>d.identifier</th>\n",
       "      <th>d.displayName</th>\n",
       "    </tr>\n",
       "  </thead>\n",
       "  <tbody>\n",
       "    <tr>\n",
       "      <th>0</th>\n",
       "      <td>R-HSA-73929</td>\n",
       "      <td>Base-Excision Repair, AP Site Formation</td>\n",
       "      <td>normalPathway</td>\n",
       "      <td>R-HSA-9630221</td>\n",
       "      <td>Defective NTHL1 substrate processing</td>\n",
       "      <td>disease</td>\n",
       "      <td>DOID</td>\n",
       "      <td>162</td>\n",
       "      <td>cancer</td>\n",
       "    </tr>\n",
       "    <tr>\n",
       "      <th>1</th>\n",
       "      <td>R-HSA-73929</td>\n",
       "      <td>Base-Excision Repair, AP Site Formation</td>\n",
       "      <td>normalPathway</td>\n",
       "      <td>R-HSA-9630222</td>\n",
       "      <td>Defective NTHL1 substrate binding</td>\n",
       "      <td>disease</td>\n",
       "      <td>DOID</td>\n",
       "      <td>162</td>\n",
       "      <td>cancer</td>\n",
       "    </tr>\n",
       "  </tbody>\n",
       "</table>\n",
       "</div>"
      ],
      "text/plain": [
       "       pw.stId                           pw.displayName        type(e)  \\\n",
       "0  R-HSA-73929  Base-Excision Repair, AP Site Formation  normalPathway   \n",
       "1  R-HSA-73929  Base-Excision Repair, AP Site Formation  normalPathway   \n",
       "\n",
       "        dpw.stId                       dpw.displayName type(e1)  \\\n",
       "0  R-HSA-9630221  Defective NTHL1 substrate processing  disease   \n",
       "1  R-HSA-9630222     Defective NTHL1 substrate binding  disease   \n",
       "\n",
       "  d.databaseName d.identifier d.displayName  \n",
       "0           DOID          162        cancer  \n",
       "1           DOID          162        cancer  "
      ]
     },
     "execution_count": 52,
     "metadata": {},
     "output_type": "execute_result"
    }
   ],
   "source": [
    "pw_di_dis.head(2)"
   ]
  },
  {
   "cell_type": "code",
   "execution_count": 53,
   "metadata": {},
   "outputs": [
    {
     "data": {
      "text/html": [
       "<div>\n",
       "<style scoped>\n",
       "    .dataframe tbody tr th:only-of-type {\n",
       "        vertical-align: middle;\n",
       "    }\n",
       "\n",
       "    .dataframe tbody tr th {\n",
       "        vertical-align: top;\n",
       "    }\n",
       "\n",
       "    .dataframe thead th {\n",
       "        text-align: right;\n",
       "    }\n",
       "</style>\n",
       "<table border=\"1\" class=\"dataframe\">\n",
       "  <thead>\n",
       "    <tr style=\"text-align: right;\">\n",
       "      <th></th>\n",
       "      <th>pw_id</th>\n",
       "      <th>pw_name</th>\n",
       "      <th>type</th>\n",
       "      <th>dpw_id</th>\n",
       "      <th>dpw_name</th>\n",
       "      <th>type2</th>\n",
       "      <th>curi</th>\n",
       "      <th>do_id</th>\n",
       "      <th>do_name</th>\n",
       "    </tr>\n",
       "  </thead>\n",
       "  <tbody>\n",
       "    <tr>\n",
       "      <th>0</th>\n",
       "      <td>R-HSA-73929</td>\n",
       "      <td>Base-Excision Repair, AP Site Formation</td>\n",
       "      <td>disrupted_in</td>\n",
       "      <td>R-HSA-9630221</td>\n",
       "      <td>Defective NTHL1 substrate processing</td>\n",
       "      <td>disease</td>\n",
       "      <td>DOID</td>\n",
       "      <td>DOID:162</td>\n",
       "      <td>cancer</td>\n",
       "    </tr>\n",
       "    <tr>\n",
       "      <th>1</th>\n",
       "      <td>R-HSA-73929</td>\n",
       "      <td>Base-Excision Repair, AP Site Formation</td>\n",
       "      <td>disrupted_in</td>\n",
       "      <td>R-HSA-9630222</td>\n",
       "      <td>Defective NTHL1 substrate binding</td>\n",
       "      <td>disease</td>\n",
       "      <td>DOID</td>\n",
       "      <td>DOID:162</td>\n",
       "      <td>cancer</td>\n",
       "    </tr>\n",
       "  </tbody>\n",
       "</table>\n",
       "</div>"
      ],
      "text/plain": [
       "         pw_id                                  pw_name          type  \\\n",
       "0  R-HSA-73929  Base-Excision Repair, AP Site Formation  disrupted_in   \n",
       "1  R-HSA-73929  Base-Excision Repair, AP Site Formation  disrupted_in   \n",
       "\n",
       "          dpw_id                              dpw_name    type2  curi  \\\n",
       "0  R-HSA-9630221  Defective NTHL1 substrate processing  disease  DOID   \n",
       "1  R-HSA-9630222     Defective NTHL1 substrate binding  disease  DOID   \n",
       "\n",
       "      do_id do_name  \n",
       "0  DOID:162  cancer  \n",
       "1  DOID:162  cancer  "
      ]
     },
     "execution_count": 53,
     "metadata": {},
     "output_type": "execute_result"
    }
   ],
   "source": [
    "pw_di_dis.columns = ['pw_id', 'pw_name', 'type', 'dpw_id', 'dpw_name', 'type2', 'curi', 'do_id', 'do_name']\n",
    "pw_di_dis['do_id'] = pw_di_dis['curi'] + ':' + pw_di_dis['do_id']\n",
    "pw_di_dis['type'] = 'disrupted_in'\n",
    "pw_di_dis.head(2)"
   ]
  },
  {
   "cell_type": "code",
   "execution_count": 54,
   "metadata": {},
   "outputs": [],
   "source": [
    "query_results['pw_di_dis'] = pw_di_dis"
   ]
  },
  {
   "cell_type": "markdown",
   "metadata": {},
   "source": [
    "### Taxa to Disease Trough intermediary node"
   ]
  },
  {
   "cell_type": "code",
   "execution_count": 55,
   "metadata": {},
   "outputs": [
    {
     "data": {
      "text/plain": [
       "66"
      ]
     },
     "execution_count": 55,
     "metadata": {},
     "output_type": "execute_result"
    }
   ],
   "source": [
    "q13 = \"\"\"MATCH (n:Taxon)-[e1]-(p)-[e2]-(d:Disease) WHERE n.taxId <> '9606' \n",
    "         RETURN DISTINCT n.taxId, n.displayName, d.databaseName, d.identifier, d.displayName\"\"\"\n",
    "\n",
    "tax_dis = query_to_df(q13)\n",
    "len(tax_dis)"
   ]
  },
  {
   "cell_type": "code",
   "execution_count": 56,
   "metadata": {},
   "outputs": [
    {
     "data": {
      "text/html": [
       "<div>\n",
       "<style scoped>\n",
       "    .dataframe tbody tr th:only-of-type {\n",
       "        vertical-align: middle;\n",
       "    }\n",
       "\n",
       "    .dataframe tbody tr th {\n",
       "        vertical-align: top;\n",
       "    }\n",
       "\n",
       "    .dataframe thead th {\n",
       "        text-align: right;\n",
       "    }\n",
       "</style>\n",
       "<table border=\"1\" class=\"dataframe\">\n",
       "  <thead>\n",
       "    <tr style=\"text-align: right;\">\n",
       "      <th></th>\n",
       "      <th>n.taxId</th>\n",
       "      <th>n.displayName</th>\n",
       "      <th>d.databaseName</th>\n",
       "      <th>d.identifier</th>\n",
       "      <th>d.displayName</th>\n",
       "    </tr>\n",
       "  </thead>\n",
       "  <tbody>\n",
       "    <tr>\n",
       "      <th>0</th>\n",
       "      <td>10090</td>\n",
       "      <td>Mus musculus</td>\n",
       "      <td>DOID</td>\n",
       "      <td>162</td>\n",
       "      <td>cancer</td>\n",
       "    </tr>\n",
       "    <tr>\n",
       "      <th>1</th>\n",
       "      <td>28875</td>\n",
       "      <td>Rotavirus A</td>\n",
       "      <td>DOID</td>\n",
       "      <td>934</td>\n",
       "      <td>viral infectious disease</td>\n",
       "    </tr>\n",
       "  </tbody>\n",
       "</table>\n",
       "</div>"
      ],
      "text/plain": [
       "  n.taxId n.displayName d.databaseName d.identifier             d.displayName\n",
       "0   10090  Mus musculus           DOID          162                    cancer\n",
       "1   28875   Rotavirus A           DOID          934  viral infectious disease"
      ]
     },
     "execution_count": 56,
     "metadata": {},
     "output_type": "execute_result"
    }
   ],
   "source": [
    "tax_dis.head(2)"
   ]
  },
  {
   "cell_type": "code",
   "execution_count": 57,
   "metadata": {},
   "outputs": [
    {
     "data": {
      "text/html": [
       "<div>\n",
       "<style scoped>\n",
       "    .dataframe tbody tr th:only-of-type {\n",
       "        vertical-align: middle;\n",
       "    }\n",
       "\n",
       "    .dataframe tbody tr th {\n",
       "        vertical-align: top;\n",
       "    }\n",
       "\n",
       "    .dataframe thead th {\n",
       "        text-align: right;\n",
       "    }\n",
       "</style>\n",
       "<table border=\"1\" class=\"dataframe\">\n",
       "  <thead>\n",
       "    <tr style=\"text-align: right;\">\n",
       "      <th></th>\n",
       "      <th>tax_id</th>\n",
       "      <th>tax_name</th>\n",
       "      <th>curi</th>\n",
       "      <th>do_id</th>\n",
       "      <th>do_name</th>\n",
       "    </tr>\n",
       "  </thead>\n",
       "  <tbody>\n",
       "    <tr>\n",
       "      <th>0</th>\n",
       "      <td>NCBITaxon:10090</td>\n",
       "      <td>Mus musculus</td>\n",
       "      <td>DOID</td>\n",
       "      <td>DOID:162</td>\n",
       "      <td>cancer</td>\n",
       "    </tr>\n",
       "    <tr>\n",
       "      <th>1</th>\n",
       "      <td>NCBITaxon:28875</td>\n",
       "      <td>Rotavirus A</td>\n",
       "      <td>DOID</td>\n",
       "      <td>DOID:934</td>\n",
       "      <td>viral infectious disease</td>\n",
       "    </tr>\n",
       "    <tr>\n",
       "      <th>2</th>\n",
       "      <td>NCBITaxon:11034</td>\n",
       "      <td>Sindbis virus</td>\n",
       "      <td>DOID</td>\n",
       "      <td>DOID:934</td>\n",
       "      <td>viral infectious disease</td>\n",
       "    </tr>\n",
       "    <tr>\n",
       "      <th>3</th>\n",
       "      <td>NCBITaxon:11084</td>\n",
       "      <td>Tick-borne encephalitis virus</td>\n",
       "      <td>DOID</td>\n",
       "      <td>DOID:934</td>\n",
       "      <td>viral infectious disease</td>\n",
       "    </tr>\n",
       "    <tr>\n",
       "      <th>4</th>\n",
       "      <td>NCBITaxon:12637</td>\n",
       "      <td>Dengue virus</td>\n",
       "      <td>DOID</td>\n",
       "      <td>DOID:934</td>\n",
       "      <td>viral infectious disease</td>\n",
       "    </tr>\n",
       "  </tbody>\n",
       "</table>\n",
       "</div>"
      ],
      "text/plain": [
       "            tax_id                       tax_name  curi     do_id  \\\n",
       "0  NCBITaxon:10090                   Mus musculus  DOID  DOID:162   \n",
       "1  NCBITaxon:28875                    Rotavirus A  DOID  DOID:934   \n",
       "2  NCBITaxon:11034                  Sindbis virus  DOID  DOID:934   \n",
       "3  NCBITaxon:11084  Tick-borne encephalitis virus  DOID  DOID:934   \n",
       "4  NCBITaxon:12637                   Dengue virus  DOID  DOID:934   \n",
       "\n",
       "                    do_name  \n",
       "0                    cancer  \n",
       "1  viral infectious disease  \n",
       "2  viral infectious disease  \n",
       "3  viral infectious disease  \n",
       "4  viral infectious disease  "
      ]
     },
     "execution_count": 57,
     "metadata": {},
     "output_type": "execute_result"
    }
   ],
   "source": [
    "tax_dis.columns = ['tax_id', 'tax_name', 'curi', 'do_id', 'do_name']\n",
    "tax_dis['tax_id'] = 'NCBITaxon:' + tax_dis['tax_id']\n",
    "tax_dis['do_id'] = tax_dis['curi'] + ':' + tax_dis['do_id']\n",
    "tax_dis.head(5)"
   ]
  },
  {
   "cell_type": "code",
   "execution_count": 58,
   "metadata": {},
   "outputs": [],
   "source": [
    "query_results['tax_dis'] = tax_dis"
   ]
  },
  {
   "cell_type": "markdown",
   "metadata": {},
   "source": [
    "## Mappings between internal Resources\n",
    "\n",
    "### Failed Rxn to Rxn"
   ]
  },
  {
   "cell_type": "code",
   "execution_count": 59,
   "metadata": {},
   "outputs": [
    {
     "data": {
      "text/plain": [
       "358"
      ]
     },
     "execution_count": 59,
     "metadata": {},
     "output_type": "execute_result"
    }
   ],
   "source": [
    "q14 = \"\"\"MATCH (fr:FailedReaction)-[e]-(r:Reaction) \n",
    "         RETURN fr.stId, fr.displayName, type(e), r.stId, r.displayName\"\"\"\n",
    "rxn_frxn = query_to_df(q14)\n",
    "len(rxn_frxn)"
   ]
  },
  {
   "cell_type": "code",
   "execution_count": 60,
   "metadata": {},
   "outputs": [
    {
     "data": {
      "text/html": [
       "<div>\n",
       "<style scoped>\n",
       "    .dataframe tbody tr th:only-of-type {\n",
       "        vertical-align: middle;\n",
       "    }\n",
       "\n",
       "    .dataframe tbody tr th {\n",
       "        vertical-align: top;\n",
       "    }\n",
       "\n",
       "    .dataframe thead th {\n",
       "        text-align: right;\n",
       "    }\n",
       "</style>\n",
       "<table border=\"1\" class=\"dataframe\">\n",
       "  <thead>\n",
       "    <tr style=\"text-align: right;\">\n",
       "      <th></th>\n",
       "      <th>fr.stId</th>\n",
       "      <th>fr.displayName</th>\n",
       "      <th>type(e)</th>\n",
       "      <th>r.stId</th>\n",
       "      <th>r.displayName</th>\n",
       "    </tr>\n",
       "  </thead>\n",
       "  <tbody>\n",
       "    <tr>\n",
       "      <th>0</th>\n",
       "      <td>R-HSA-9651280</td>\n",
       "      <td>RAS GAP mutants aren't stimulated by GAPs</td>\n",
       "      <td>normalReaction</td>\n",
       "      <td>R-HSA-5658435</td>\n",
       "      <td>RAS GAPs bind RAS:GTP</td>\n",
       "    </tr>\n",
       "    <tr>\n",
       "      <th>1</th>\n",
       "      <td>R-HSA-6802837</td>\n",
       "      <td>Loss-of-function NF1 variants don't stimulate ...</td>\n",
       "      <td>normalReaction</td>\n",
       "      <td>R-HSA-5658435</td>\n",
       "      <td>RAS GAPs bind RAS:GTP</td>\n",
       "    </tr>\n",
       "  </tbody>\n",
       "</table>\n",
       "</div>"
      ],
      "text/plain": [
       "         fr.stId                                     fr.displayName  \\\n",
       "0  R-HSA-9651280          RAS GAP mutants aren't stimulated by GAPs   \n",
       "1  R-HSA-6802837  Loss-of-function NF1 variants don't stimulate ...   \n",
       "\n",
       "          type(e)         r.stId          r.displayName  \n",
       "0  normalReaction  R-HSA-5658435  RAS GAPs bind RAS:GTP  \n",
       "1  normalReaction  R-HSA-5658435  RAS GAPs bind RAS:GTP  "
      ]
     },
     "execution_count": 60,
     "metadata": {},
     "output_type": "execute_result"
    }
   ],
   "source": [
    "rxn_frxn.head(2)"
   ]
  },
  {
   "cell_type": "code",
   "execution_count": 61,
   "metadata": {},
   "outputs": [
    {
     "data": {
      "text/html": [
       "<div>\n",
       "<style scoped>\n",
       "    .dataframe tbody tr th:only-of-type {\n",
       "        vertical-align: middle;\n",
       "    }\n",
       "\n",
       "    .dataframe tbody tr th {\n",
       "        vertical-align: top;\n",
       "    }\n",
       "\n",
       "    .dataframe thead th {\n",
       "        text-align: right;\n",
       "    }\n",
       "</style>\n",
       "<table border=\"1\" class=\"dataframe\">\n",
       "  <thead>\n",
       "    <tr style=\"text-align: right;\">\n",
       "      <th></th>\n",
       "      <th>frxn_id</th>\n",
       "      <th>frxn_name</th>\n",
       "      <th>type</th>\n",
       "      <th>rxn_id</th>\n",
       "      <th>rxn_name</th>\n",
       "    </tr>\n",
       "  </thead>\n",
       "  <tbody>\n",
       "    <tr>\n",
       "      <th>0</th>\n",
       "      <td>R-HSA-9651280</td>\n",
       "      <td>RAS GAP mutants aren't stimulated by GAPs</td>\n",
       "      <td>normalReaction</td>\n",
       "      <td>R-HSA-5658435</td>\n",
       "      <td>RAS GAPs bind RAS:GTP</td>\n",
       "    </tr>\n",
       "    <tr>\n",
       "      <th>1</th>\n",
       "      <td>R-HSA-6802837</td>\n",
       "      <td>Loss-of-function NF1 variants don't stimulate ...</td>\n",
       "      <td>normalReaction</td>\n",
       "      <td>R-HSA-5658435</td>\n",
       "      <td>RAS GAPs bind RAS:GTP</td>\n",
       "    </tr>\n",
       "    <tr>\n",
       "      <th>2</th>\n",
       "      <td>R-HSA-4085027</td>\n",
       "      <td>Defective GFPT1 does not transfer an amino gro...</td>\n",
       "      <td>normalReaction</td>\n",
       "      <td>R-HSA-449715</td>\n",
       "      <td>GFPT1,2 transfer an amino group from L-Gln to ...</td>\n",
       "    </tr>\n",
       "    <tr>\n",
       "      <th>3</th>\n",
       "      <td>R-HSA-5609939</td>\n",
       "      <td>Defective PGM1 does not isomerise G6P to G1P</td>\n",
       "      <td>normalReaction</td>\n",
       "      <td>R-HSA-9638127</td>\n",
       "      <td>PGM1:Mg2+ isomerises G6P to G1P</td>\n",
       "    </tr>\n",
       "    <tr>\n",
       "      <th>4</th>\n",
       "      <td>R-HSA-4341669</td>\n",
       "      <td>Defective NEU1 does not hydrolyse Neu5Ac from ...</td>\n",
       "      <td>normalReaction</td>\n",
       "      <td>R-HSA-4084999</td>\n",
       "      <td>NEU1 hydrolyses Neu5Ac from glycoconjugates</td>\n",
       "    </tr>\n",
       "  </tbody>\n",
       "</table>\n",
       "</div>"
      ],
      "text/plain": [
       "         frxn_id                                          frxn_name  \\\n",
       "0  R-HSA-9651280          RAS GAP mutants aren't stimulated by GAPs   \n",
       "1  R-HSA-6802837  Loss-of-function NF1 variants don't stimulate ...   \n",
       "2  R-HSA-4085027  Defective GFPT1 does not transfer an amino gro...   \n",
       "3  R-HSA-5609939       Defective PGM1 does not isomerise G6P to G1P   \n",
       "4  R-HSA-4341669  Defective NEU1 does not hydrolyse Neu5Ac from ...   \n",
       "\n",
       "             type         rxn_id  \\\n",
       "0  normalReaction  R-HSA-5658435   \n",
       "1  normalReaction  R-HSA-5658435   \n",
       "2  normalReaction   R-HSA-449715   \n",
       "3  normalReaction  R-HSA-9638127   \n",
       "4  normalReaction  R-HSA-4084999   \n",
       "\n",
       "                                            rxn_name  \n",
       "0                              RAS GAPs bind RAS:GTP  \n",
       "1                              RAS GAPs bind RAS:GTP  \n",
       "2  GFPT1,2 transfer an amino group from L-Gln to ...  \n",
       "3                    PGM1:Mg2+ isomerises G6P to G1P  \n",
       "4        NEU1 hydrolyses Neu5Ac from glycoconjugates  "
      ]
     },
     "execution_count": 61,
     "metadata": {},
     "output_type": "execute_result"
    }
   ],
   "source": [
    "rxn_frxn.columns = ['frxn_id', 'frxn_name', 'type', 'rxn_id', 'rxn_name']\n",
    "rxn_frxn.head()"
   ]
  },
  {
   "cell_type": "code",
   "execution_count": 62,
   "metadata": {},
   "outputs": [],
   "source": [
    "query_results['rxn_frxn'] = rxn_frxn"
   ]
  },
  {
   "cell_type": "markdown",
   "metadata": {},
   "source": [
    "### Disrupted PW to PW"
   ]
  },
  {
   "cell_type": "code",
   "execution_count": 63,
   "metadata": {},
   "outputs": [
    {
     "data": {
      "text/plain": [
       "313"
      ]
     },
     "execution_count": 63,
     "metadata": {},
     "output_type": "execute_result"
    }
   ],
   "source": [
    "q15 = \"\"\"MATCH (dpw:Pathway)-[e:normalPathway]->(pw:Pathway) \n",
    "         RETURN dpw.stId, dpw.displayName, type(e), pw.stId, pw.displayName\"\"\"\n",
    "\n",
    "pw_dpw = query_to_df(q15)\n",
    "len(pw_dpw)"
   ]
  },
  {
   "cell_type": "code",
   "execution_count": 64,
   "metadata": {},
   "outputs": [
    {
     "data": {
      "text/html": [
       "<div>\n",
       "<style scoped>\n",
       "    .dataframe tbody tr th:only-of-type {\n",
       "        vertical-align: middle;\n",
       "    }\n",
       "\n",
       "    .dataframe tbody tr th {\n",
       "        vertical-align: top;\n",
       "    }\n",
       "\n",
       "    .dataframe thead th {\n",
       "        text-align: right;\n",
       "    }\n",
       "</style>\n",
       "<table border=\"1\" class=\"dataframe\">\n",
       "  <thead>\n",
       "    <tr style=\"text-align: right;\">\n",
       "      <th></th>\n",
       "      <th>dpw.stId</th>\n",
       "      <th>dpw.displayName</th>\n",
       "      <th>type(e)</th>\n",
       "      <th>pw.stId</th>\n",
       "      <th>pw.displayName</th>\n",
       "    </tr>\n",
       "  </thead>\n",
       "  <tbody>\n",
       "    <tr>\n",
       "      <th>0</th>\n",
       "      <td>R-HSA-6802957</td>\n",
       "      <td>Oncogenic MAPK signaling</td>\n",
       "      <td>normalPathway</td>\n",
       "      <td>R-HSA-5673001</td>\n",
       "      <td>RAF/MAP kinase cascade</td>\n",
       "    </tr>\n",
       "    <tr>\n",
       "      <th>1</th>\n",
       "      <td>R-HSA-6802949</td>\n",
       "      <td>Signaling by RAS mutants</td>\n",
       "      <td>normalPathway</td>\n",
       "      <td>R-HSA-5673001</td>\n",
       "      <td>RAF/MAP kinase cascade</td>\n",
       "    </tr>\n",
       "  </tbody>\n",
       "</table>\n",
       "</div>"
      ],
      "text/plain": [
       "        dpw.stId           dpw.displayName        type(e)        pw.stId  \\\n",
       "0  R-HSA-6802957  Oncogenic MAPK signaling  normalPathway  R-HSA-5673001   \n",
       "1  R-HSA-6802949  Signaling by RAS mutants  normalPathway  R-HSA-5673001   \n",
       "\n",
       "           pw.displayName  \n",
       "0  RAF/MAP kinase cascade  \n",
       "1  RAF/MAP kinase cascade  "
      ]
     },
     "execution_count": 64,
     "metadata": {},
     "output_type": "execute_result"
    }
   ],
   "source": [
    "pw_dpw.head(2)"
   ]
  },
  {
   "cell_type": "code",
   "execution_count": 65,
   "metadata": {},
   "outputs": [
    {
     "data": {
      "text/html": [
       "<div>\n",
       "<style scoped>\n",
       "    .dataframe tbody tr th:only-of-type {\n",
       "        vertical-align: middle;\n",
       "    }\n",
       "\n",
       "    .dataframe tbody tr th {\n",
       "        vertical-align: top;\n",
       "    }\n",
       "\n",
       "    .dataframe thead th {\n",
       "        text-align: right;\n",
       "    }\n",
       "</style>\n",
       "<table border=\"1\" class=\"dataframe\">\n",
       "  <thead>\n",
       "    <tr style=\"text-align: right;\">\n",
       "      <th></th>\n",
       "      <th>dpw_id</th>\n",
       "      <th>dpw_name</th>\n",
       "      <th>type</th>\n",
       "      <th>pw_id</th>\n",
       "      <th>pw_name</th>\n",
       "    </tr>\n",
       "  </thead>\n",
       "  <tbody>\n",
       "    <tr>\n",
       "      <th>308</th>\n",
       "      <td>R-HSA-5602636</td>\n",
       "      <td>IKBKB deficiency causes SCID</td>\n",
       "      <td>normalPathway</td>\n",
       "      <td>R-HSA-445989</td>\n",
       "      <td>TAK1 activates NFkB by phosphorylation and act...</td>\n",
       "    </tr>\n",
       "    <tr>\n",
       "      <th>309</th>\n",
       "      <td>R-HSA-5602415</td>\n",
       "      <td>UNC93B1 deficiency - HSE</td>\n",
       "      <td>normalPathway</td>\n",
       "      <td>R-HSA-1679131</td>\n",
       "      <td>Trafficking and processing of endosomal TLR</td>\n",
       "    </tr>\n",
       "    <tr>\n",
       "      <th>310</th>\n",
       "      <td>R-HSA-5602680</td>\n",
       "      <td>MyD88 deficiency (TLR5)</td>\n",
       "      <td>normalPathway</td>\n",
       "      <td>R-HSA-975871</td>\n",
       "      <td>MyD88 cascade initiated on plasma membrane</td>\n",
       "    </tr>\n",
       "    <tr>\n",
       "      <th>311</th>\n",
       "      <td>R-HSA-5602571</td>\n",
       "      <td>TRAF3 deficiency - HSE</td>\n",
       "      <td>normalPathway</td>\n",
       "      <td>R-HSA-168164</td>\n",
       "      <td>Toll Like Receptor 3 (TLR3) Cascade</td>\n",
       "    </tr>\n",
       "    <tr>\n",
       "      <th>312</th>\n",
       "      <td>R-HSA-5602410</td>\n",
       "      <td>TLR3 deficiency - HSE</td>\n",
       "      <td>normalPathway</td>\n",
       "      <td>R-HSA-168164</td>\n",
       "      <td>Toll Like Receptor 3 (TLR3) Cascade</td>\n",
       "    </tr>\n",
       "  </tbody>\n",
       "</table>\n",
       "</div>"
      ],
      "text/plain": [
       "            dpw_id                      dpw_name           type  \\\n",
       "308  R-HSA-5602636  IKBKB deficiency causes SCID  normalPathway   \n",
       "309  R-HSA-5602415      UNC93B1 deficiency - HSE  normalPathway   \n",
       "310  R-HSA-5602680       MyD88 deficiency (TLR5)  normalPathway   \n",
       "311  R-HSA-5602571        TRAF3 deficiency - HSE  normalPathway   \n",
       "312  R-HSA-5602410         TLR3 deficiency - HSE  normalPathway   \n",
       "\n",
       "             pw_id                                            pw_name  \n",
       "308   R-HSA-445989  TAK1 activates NFkB by phosphorylation and act...  \n",
       "309  R-HSA-1679131        Trafficking and processing of endosomal TLR  \n",
       "310   R-HSA-975871         MyD88 cascade initiated on plasma membrane  \n",
       "311   R-HSA-168164                Toll Like Receptor 3 (TLR3) Cascade  \n",
       "312   R-HSA-168164                Toll Like Receptor 3 (TLR3) Cascade  "
      ]
     },
     "execution_count": 65,
     "metadata": {},
     "output_type": "execute_result"
    }
   ],
   "source": [
    "pw_dpw.columns = ['dpw_id', 'dpw_name', 'type', 'pw_id', 'pw_name']\n",
    "pw_dpw.tail()"
   ]
  },
  {
   "cell_type": "code",
   "execution_count": 66,
   "metadata": {},
   "outputs": [],
   "source": [
    "query_results['pw_dpw'] = pw_dpw"
   ]
  },
  {
   "cell_type": "markdown",
   "metadata": {},
   "source": [
    "## Membership Details\n",
    "\n",
    "### Preceeding Reaction to Post Reaction"
   ]
  },
  {
   "cell_type": "code",
   "execution_count": 67,
   "metadata": {},
   "outputs": [
    {
     "data": {
      "text/plain": [
       "49821"
      ]
     },
     "execution_count": 67,
     "metadata": {},
     "output_type": "execute_result"
    }
   ],
   "source": [
    "q16 = \"\"\"MATCH (rx:Reaction)-[e:precedingEvent]->(rx2:Reaction) \n",
    "         RETURN rx.stId, rx.displayName, type(e), rx2.stId, rx2.displayName\"\"\"\n",
    "\n",
    "rxn_p_rxn = query_to_df(q16)\n",
    "len(rxn_p_rxn)"
   ]
  },
  {
   "cell_type": "code",
   "execution_count": 68,
   "metadata": {},
   "outputs": [
    {
     "data": {
      "text/html": [
       "<div>\n",
       "<style scoped>\n",
       "    .dataframe tbody tr th:only-of-type {\n",
       "        vertical-align: middle;\n",
       "    }\n",
       "\n",
       "    .dataframe tbody tr th {\n",
       "        vertical-align: top;\n",
       "    }\n",
       "\n",
       "    .dataframe thead th {\n",
       "        text-align: right;\n",
       "    }\n",
       "</style>\n",
       "<table border=\"1\" class=\"dataframe\">\n",
       "  <thead>\n",
       "    <tr style=\"text-align: right;\">\n",
       "      <th></th>\n",
       "      <th>rx.stId</th>\n",
       "      <th>rx.displayName</th>\n",
       "      <th>type(e)</th>\n",
       "      <th>rx2.stId</th>\n",
       "      <th>rx2.displayName</th>\n",
       "    </tr>\n",
       "  </thead>\n",
       "  <tbody>\n",
       "    <tr>\n",
       "      <th>0</th>\n",
       "      <td>R-HSA-9626034</td>\n",
       "      <td>EEF1A1 dissociates from p-GFAP</td>\n",
       "      <td>precedingEvent</td>\n",
       "      <td>R-HSA-9626046</td>\n",
       "      <td>p-GFAP binds EEF1A1</td>\n",
       "    </tr>\n",
       "    <tr>\n",
       "      <th>1</th>\n",
       "      <td>R-MMU-9626034</td>\n",
       "      <td>EEF1A1 dissociates from p-GFAP</td>\n",
       "      <td>precedingEvent</td>\n",
       "      <td>R-MMU-9626046</td>\n",
       "      <td>p-GFAP binds EEF1A1</td>\n",
       "    </tr>\n",
       "  </tbody>\n",
       "</table>\n",
       "</div>"
      ],
      "text/plain": [
       "         rx.stId                  rx.displayName         type(e)  \\\n",
       "0  R-HSA-9626034  EEF1A1 dissociates from p-GFAP  precedingEvent   \n",
       "1  R-MMU-9626034  EEF1A1 dissociates from p-GFAP  precedingEvent   \n",
       "\n",
       "        rx2.stId      rx2.displayName  \n",
       "0  R-HSA-9626046  p-GFAP binds EEF1A1  \n",
       "1  R-MMU-9626046  p-GFAP binds EEF1A1  "
      ]
     },
     "execution_count": 68,
     "metadata": {},
     "output_type": "execute_result"
    }
   ],
   "source": [
    "rxn_p_rxn.head(2)"
   ]
  },
  {
   "cell_type": "code",
   "execution_count": 69,
   "metadata": {},
   "outputs": [
    {
     "data": {
      "text/html": [
       "<div>\n",
       "<style scoped>\n",
       "    .dataframe tbody tr th:only-of-type {\n",
       "        vertical-align: middle;\n",
       "    }\n",
       "\n",
       "    .dataframe tbody tr th {\n",
       "        vertical-align: top;\n",
       "    }\n",
       "\n",
       "    .dataframe thead th {\n",
       "        text-align: right;\n",
       "    }\n",
       "</style>\n",
       "<table border=\"1\" class=\"dataframe\">\n",
       "  <thead>\n",
       "    <tr style=\"text-align: right;\">\n",
       "      <th></th>\n",
       "      <th>af_rxn_id</th>\n",
       "      <th>af_rxn_name</th>\n",
       "      <th>type</th>\n",
       "      <th>b4_rxn_id</th>\n",
       "      <th>b4_rxn_name</th>\n",
       "    </tr>\n",
       "  </thead>\n",
       "  <tbody>\n",
       "    <tr>\n",
       "      <th>0</th>\n",
       "      <td>R-HSA-9626034</td>\n",
       "      <td>EEF1A1 dissociates from p-GFAP</td>\n",
       "      <td>precedingEvent</td>\n",
       "      <td>R-HSA-9626046</td>\n",
       "      <td>p-GFAP binds EEF1A1</td>\n",
       "    </tr>\n",
       "    <tr>\n",
       "      <th>9</th>\n",
       "      <td>R-HSA-9626067</td>\n",
       "      <td>EEF1A1:GTP translocates from lysosomal membran...</td>\n",
       "      <td>precedingEvent</td>\n",
       "      <td>R-HSA-9626038</td>\n",
       "      <td>EEF1A1 binds GTP</td>\n",
       "    </tr>\n",
       "    <tr>\n",
       "      <th>11</th>\n",
       "      <td>R-MMU-9626038</td>\n",
       "      <td>EEF1A1 binds GTP</td>\n",
       "      <td>precedingEvent</td>\n",
       "      <td>R-MMU-9626034</td>\n",
       "      <td>EEF1A1 dissociates from p-GFAP</td>\n",
       "    </tr>\n",
       "    <tr>\n",
       "      <th>31</th>\n",
       "      <td>R-MMU-9626253</td>\n",
       "      <td>HSPA8 binds LAMP2a multimers</td>\n",
       "      <td>precedingEvent</td>\n",
       "      <td>R-MMU-9626242</td>\n",
       "      <td>p-GFAP:GFAP dissociates from LAMP2a multimer</td>\n",
       "    </tr>\n",
       "    <tr>\n",
       "      <th>34</th>\n",
       "      <td>R-RNO-9626242</td>\n",
       "      <td>p-GFAP:GFAP dissociates from LAMP2a multimer</td>\n",
       "      <td>precedingEvent</td>\n",
       "      <td>R-RNO-9626039</td>\n",
       "      <td>pGFAP binds GFAP in LAMP2a multimer</td>\n",
       "    </tr>\n",
       "  </tbody>\n",
       "</table>\n",
       "</div>"
      ],
      "text/plain": [
       "        af_rxn_id                                        af_rxn_name  \\\n",
       "0   R-HSA-9626034                     EEF1A1 dissociates from p-GFAP   \n",
       "9   R-HSA-9626067  EEF1A1:GTP translocates from lysosomal membran...   \n",
       "11  R-MMU-9626038                                   EEF1A1 binds GTP   \n",
       "31  R-MMU-9626253                       HSPA8 binds LAMP2a multimers   \n",
       "34  R-RNO-9626242       p-GFAP:GFAP dissociates from LAMP2a multimer   \n",
       "\n",
       "              type      b4_rxn_id  \\\n",
       "0   precedingEvent  R-HSA-9626046   \n",
       "9   precedingEvent  R-HSA-9626038   \n",
       "11  precedingEvent  R-MMU-9626034   \n",
       "31  precedingEvent  R-MMU-9626242   \n",
       "34  precedingEvent  R-RNO-9626039   \n",
       "\n",
       "                                     b4_rxn_name  \n",
       "0                            p-GFAP binds EEF1A1  \n",
       "9                               EEF1A1 binds GTP  \n",
       "11                EEF1A1 dissociates from p-GFAP  \n",
       "31  p-GFAP:GFAP dissociates from LAMP2a multimer  \n",
       "34           pGFAP binds GFAP in LAMP2a multimer  "
      ]
     },
     "execution_count": 69,
     "metadata": {},
     "output_type": "execute_result"
    }
   ],
   "source": [
    "rxn_p_rxn.columns = ['af_rxn_id', 'af_rxn_name', 'type', 'b4_rxn_id', 'b4_rxn_name']\n",
    "rxn_p_rxn.drop_duplicates(subset=['af_rxn_name', 'b4_rxn_name']).head()"
   ]
  },
  {
   "cell_type": "code",
   "execution_count": 70,
   "metadata": {},
   "outputs": [],
   "source": [
    "query_results['rxn_p_rxn'] = rxn_p_rxn"
   ]
  },
  {
   "cell_type": "markdown",
   "metadata": {},
   "source": [
    "### Pathway has event Reaction"
   ]
  },
  {
   "cell_type": "code",
   "execution_count": 71,
   "metadata": {},
   "outputs": [
    {
     "data": {
      "text/plain": [
       "77730"
      ]
     },
     "execution_count": 71,
     "metadata": {},
     "output_type": "execute_result"
    }
   ],
   "source": [
    "q17 = \"\"\"MATCH (pw:Pathway)-[e]-(r:Reaction) \n",
    "         RETURN pw.stId, pw.displayName, type(e), r.stId, r.displayName\"\"\"\n",
    "\n",
    "pw_rxn = query_to_df(q17)\n",
    "len(pw_rxn)"
   ]
  },
  {
   "cell_type": "code",
   "execution_count": 72,
   "metadata": {},
   "outputs": [
    {
     "data": {
      "text/html": [
       "<div>\n",
       "<style scoped>\n",
       "    .dataframe tbody tr th:only-of-type {\n",
       "        vertical-align: middle;\n",
       "    }\n",
       "\n",
       "    .dataframe tbody tr th {\n",
       "        vertical-align: top;\n",
       "    }\n",
       "\n",
       "    .dataframe thead th {\n",
       "        text-align: right;\n",
       "    }\n",
       "</style>\n",
       "<table border=\"1\" class=\"dataframe\">\n",
       "  <thead>\n",
       "    <tr style=\"text-align: right;\">\n",
       "      <th></th>\n",
       "      <th>pw.stId</th>\n",
       "      <th>pw.displayName</th>\n",
       "      <th>type(e)</th>\n",
       "      <th>r.stId</th>\n",
       "      <th>r.displayName</th>\n",
       "    </tr>\n",
       "  </thead>\n",
       "  <tbody>\n",
       "    <tr>\n",
       "      <th>0</th>\n",
       "      <td>R-HSA-9613829</td>\n",
       "      <td>Chaperone Mediated Autophagy</td>\n",
       "      <td>hasEvent</td>\n",
       "      <td>R-HSA-9626253</td>\n",
       "      <td>HSPA8 binds LAMP2a multimers</td>\n",
       "    </tr>\n",
       "    <tr>\n",
       "      <th>1</th>\n",
       "      <td>R-HSA-9613829</td>\n",
       "      <td>Chaperone Mediated Autophagy</td>\n",
       "      <td>hasEvent</td>\n",
       "      <td>R-HSA-9625197</td>\n",
       "      <td>GFAP binds LAMP2a multimer</td>\n",
       "    </tr>\n",
       "  </tbody>\n",
       "</table>\n",
       "</div>"
      ],
      "text/plain": [
       "         pw.stId                pw.displayName   type(e)         r.stId  \\\n",
       "0  R-HSA-9613829  Chaperone Mediated Autophagy  hasEvent  R-HSA-9626253   \n",
       "1  R-HSA-9613829  Chaperone Mediated Autophagy  hasEvent  R-HSA-9625197   \n",
       "\n",
       "                  r.displayName  \n",
       "0  HSPA8 binds LAMP2a multimers  \n",
       "1    GFAP binds LAMP2a multimer  "
      ]
     },
     "execution_count": 72,
     "metadata": {},
     "output_type": "execute_result"
    }
   ],
   "source": [
    "pw_rxn.head(2)"
   ]
  },
  {
   "cell_type": "code",
   "execution_count": 73,
   "metadata": {},
   "outputs": [
    {
     "data": {
      "text/html": [
       "<div>\n",
       "<style scoped>\n",
       "    .dataframe tbody tr th:only-of-type {\n",
       "        vertical-align: middle;\n",
       "    }\n",
       "\n",
       "    .dataframe tbody tr th {\n",
       "        vertical-align: top;\n",
       "    }\n",
       "\n",
       "    .dataframe thead th {\n",
       "        text-align: right;\n",
       "    }\n",
       "</style>\n",
       "<table border=\"1\" class=\"dataframe\">\n",
       "  <thead>\n",
       "    <tr style=\"text-align: right;\">\n",
       "      <th></th>\n",
       "      <th>pw_id</th>\n",
       "      <th>pw_name</th>\n",
       "      <th>type</th>\n",
       "      <th>rxn_id</th>\n",
       "      <th>rxn_name</th>\n",
       "    </tr>\n",
       "  </thead>\n",
       "  <tbody>\n",
       "    <tr>\n",
       "      <th>0</th>\n",
       "      <td>R-HSA-9613829</td>\n",
       "      <td>Chaperone Mediated Autophagy</td>\n",
       "      <td>hasEvent</td>\n",
       "      <td>R-HSA-9626253</td>\n",
       "      <td>HSPA8 binds LAMP2a multimers</td>\n",
       "    </tr>\n",
       "    <tr>\n",
       "      <th>1</th>\n",
       "      <td>R-HSA-9613829</td>\n",
       "      <td>Chaperone Mediated Autophagy</td>\n",
       "      <td>hasEvent</td>\n",
       "      <td>R-HSA-9625197</td>\n",
       "      <td>GFAP binds LAMP2a multimer</td>\n",
       "    </tr>\n",
       "    <tr>\n",
       "      <th>2</th>\n",
       "      <td>R-HSA-9613829</td>\n",
       "      <td>Chaperone Mediated Autophagy</td>\n",
       "      <td>hasEvent</td>\n",
       "      <td>R-HSA-9626060</td>\n",
       "      <td>HSPA8:Substrate dissociates from LAMP2a multimer</td>\n",
       "    </tr>\n",
       "    <tr>\n",
       "      <th>3</th>\n",
       "      <td>R-HSA-9613829</td>\n",
       "      <td>Chaperone Mediated Autophagy</td>\n",
       "      <td>hasEvent</td>\n",
       "      <td>R-HSA-9625196</td>\n",
       "      <td>Unfolded substrate in LAMP2a multimeric comple...</td>\n",
       "    </tr>\n",
       "    <tr>\n",
       "      <th>4</th>\n",
       "      <td>R-HSA-9613829</td>\n",
       "      <td>Chaperone Mediated Autophagy</td>\n",
       "      <td>hasEvent</td>\n",
       "      <td>R-HSA-9622831</td>\n",
       "      <td>Substrate:LAMP2a binds HSP90</td>\n",
       "    </tr>\n",
       "  </tbody>\n",
       "</table>\n",
       "</div>"
      ],
      "text/plain": [
       "           pw_id                       pw_name      type         rxn_id  \\\n",
       "0  R-HSA-9613829  Chaperone Mediated Autophagy  hasEvent  R-HSA-9626253   \n",
       "1  R-HSA-9613829  Chaperone Mediated Autophagy  hasEvent  R-HSA-9625197   \n",
       "2  R-HSA-9613829  Chaperone Mediated Autophagy  hasEvent  R-HSA-9626060   \n",
       "3  R-HSA-9613829  Chaperone Mediated Autophagy  hasEvent  R-HSA-9625196   \n",
       "4  R-HSA-9613829  Chaperone Mediated Autophagy  hasEvent  R-HSA-9622831   \n",
       "\n",
       "                                            rxn_name  \n",
       "0                       HSPA8 binds LAMP2a multimers  \n",
       "1                         GFAP binds LAMP2a multimer  \n",
       "2   HSPA8:Substrate dissociates from LAMP2a multimer  \n",
       "3  Unfolded substrate in LAMP2a multimeric comple...  \n",
       "4                       Substrate:LAMP2a binds HSP90  "
      ]
     },
     "execution_count": 73,
     "metadata": {},
     "output_type": "execute_result"
    }
   ],
   "source": [
    "pw_rxn.columns = ['pw_id', 'pw_name', 'type', 'rxn_id', 'rxn_name']\n",
    "pw_rxn.head()"
   ]
  },
  {
   "cell_type": "code",
   "execution_count": 74,
   "metadata": {},
   "outputs": [],
   "source": [
    "query_results['pw_rxn'] = pw_rxn"
   ]
  },
  {
   "cell_type": "markdown",
   "metadata": {},
   "source": [
    "### Physical Entity input and output of Reactions\n",
    "\n",
    "These are covered by the flat file download, however those are missing the input and output data for the physical entities, so they're all `PhysicalEntity part_of Reaction` edges."
   ]
  },
  {
   "cell_type": "code",
   "execution_count": 75,
   "metadata": {},
   "outputs": [
    {
     "data": {
      "text/plain": [
       "275079"
      ]
     },
     "execution_count": 75,
     "metadata": {},
     "output_type": "execute_result"
    }
   ],
   "source": [
    "q18 = \"\"\"Match (s:Reaction)-[e]-(t:PhysicalEntity) \n",
    "         return s.stId, s.displayName, type(e), t.stId, t.displayName\"\"\"\n",
    "\n",
    "rxn_pe = query_to_df(q18)\n",
    "len(rxn_pe)"
   ]
  },
  {
   "cell_type": "code",
   "execution_count": 76,
   "metadata": {},
   "outputs": [
    {
     "data": {
      "text/html": [
       "<div>\n",
       "<style scoped>\n",
       "    .dataframe tbody tr th:only-of-type {\n",
       "        vertical-align: middle;\n",
       "    }\n",
       "\n",
       "    .dataframe tbody tr th {\n",
       "        vertical-align: top;\n",
       "    }\n",
       "\n",
       "    .dataframe thead th {\n",
       "        text-align: right;\n",
       "    }\n",
       "</style>\n",
       "<table border=\"1\" class=\"dataframe\">\n",
       "  <thead>\n",
       "    <tr style=\"text-align: right;\">\n",
       "      <th></th>\n",
       "      <th>s.stId</th>\n",
       "      <th>s.displayName</th>\n",
       "      <th>type(e)</th>\n",
       "      <th>t.stId</th>\n",
       "      <th>t.displayName</th>\n",
       "    </tr>\n",
       "  </thead>\n",
       "  <tbody>\n",
       "    <tr>\n",
       "      <th>0</th>\n",
       "      <td>R-HSA-9626034</td>\n",
       "      <td>EEF1A1 dissociates from p-GFAP</td>\n",
       "      <td>output</td>\n",
       "      <td>R-HSA-9626022</td>\n",
       "      <td>EEF1A1 [lysosomal membrane]</td>\n",
       "    </tr>\n",
       "    <tr>\n",
       "      <th>1</th>\n",
       "      <td>R-HSA-9626034</td>\n",
       "      <td>EEF1A1 dissociates from p-GFAP</td>\n",
       "      <td>output</td>\n",
       "      <td>R-HSA-9626054</td>\n",
       "      <td>p-GFAP [lysosomal membrane]</td>\n",
       "    </tr>\n",
       "  </tbody>\n",
       "</table>\n",
       "</div>"
      ],
      "text/plain": [
       "          s.stId                   s.displayName type(e)         t.stId  \\\n",
       "0  R-HSA-9626034  EEF1A1 dissociates from p-GFAP  output  R-HSA-9626022   \n",
       "1  R-HSA-9626034  EEF1A1 dissociates from p-GFAP  output  R-HSA-9626054   \n",
       "\n",
       "                 t.displayName  \n",
       "0  EEF1A1 [lysosomal membrane]  \n",
       "1  p-GFAP [lysosomal membrane]  "
      ]
     },
     "execution_count": 76,
     "metadata": {},
     "output_type": "execute_result"
    }
   ],
   "source": [
    "rxn_pe.head(2)"
   ]
  },
  {
   "cell_type": "code",
   "execution_count": 77,
   "metadata": {},
   "outputs": [
    {
     "data": {
      "text/plain": [
       "input                     149108\n",
       "output                    125678\n",
       "entityOnOtherCell            266\n",
       "requiredInputComponent        27\n",
       "Name: type, dtype: int64"
      ]
     },
     "execution_count": 77,
     "metadata": {},
     "output_type": "execute_result"
    }
   ],
   "source": [
    "rxn_pe.columns = ['rxn_id', 'rxn_name', 'type', 'pe_id', 'pe_name']\n",
    "rxn_pe['type'].value_counts()"
   ]
  },
  {
   "cell_type": "markdown",
   "metadata": {},
   "source": [
    "Mostly interested in `input` and `output` and may drop the other types later..."
   ]
  },
  {
   "cell_type": "code",
   "execution_count": 78,
   "metadata": {},
   "outputs": [],
   "source": [
    "query_results['rxn_pe'] = rxn_pe"
   ]
  },
  {
   "cell_type": "markdown",
   "metadata": {},
   "source": [
    "### Physical Entity component of Complexes\n",
    "\n",
    "Complexes are an internal neo4j type. However many are made up of items that have external identifiers, like Drugs, and Proteins. We would like to extract these relationships for future use. "
   ]
  },
  {
   "cell_type": "code",
   "execution_count": 79,
   "metadata": {},
   "outputs": [
    {
     "data": {
      "text/plain": [
       "139855"
      ]
     },
     "execution_count": 79,
     "metadata": {},
     "output_type": "execute_result"
    }
   ],
   "source": [
    "q19 = \"\"\"MATCH (n1:Complex)-[e:hasComponent]-(n2:PhysicalEntity) \n",
    "        WHERE n2:Drug OR n2:GenomeEncodedEntity OR n2:SimpleEntity \n",
    "        RETURN DISTINCT n1.stId, n1.displayName, n2.stId, n2.displayName, labels(n2)\"\"\"\n",
    "\n",
    "cplx_pe = query_to_df(q19)\n",
    "len(cplx_pe)"
   ]
  },
  {
   "cell_type": "code",
   "execution_count": 80,
   "metadata": {},
   "outputs": [
    {
     "data": {
      "text/html": [
       "<div>\n",
       "<style scoped>\n",
       "    .dataframe tbody tr th:only-of-type {\n",
       "        vertical-align: middle;\n",
       "    }\n",
       "\n",
       "    .dataframe tbody tr th {\n",
       "        vertical-align: top;\n",
       "    }\n",
       "\n",
       "    .dataframe thead th {\n",
       "        text-align: right;\n",
       "    }\n",
       "</style>\n",
       "<table border=\"1\" class=\"dataframe\">\n",
       "  <thead>\n",
       "    <tr style=\"text-align: right;\">\n",
       "      <th></th>\n",
       "      <th>n1.stId</th>\n",
       "      <th>n1.displayName</th>\n",
       "      <th>n2.stId</th>\n",
       "      <th>n2.displayName</th>\n",
       "      <th>labels(n2)</th>\n",
       "    </tr>\n",
       "  </thead>\n",
       "  <tbody>\n",
       "    <tr>\n",
       "      <th>0</th>\n",
       "      <td>R-GGA-9652349</td>\n",
       "      <td>ERBB2 heterodimer:trastuzumab [plasma membrane]</td>\n",
       "      <td>R-ALL-9634466</td>\n",
       "      <td>trastuzumab [extracellular region]</td>\n",
       "      <td>[DatabaseObject, PhysicalEntity, ProteinDrug, ...</td>\n",
       "    </tr>\n",
       "    <tr>\n",
       "      <th>1</th>\n",
       "      <td>R-BTA-9652349</td>\n",
       "      <td>ERBB2 heterodimer:trastuzumab [plasma membrane]</td>\n",
       "      <td>R-ALL-9634466</td>\n",
       "      <td>trastuzumab [extracellular region]</td>\n",
       "      <td>[DatabaseObject, PhysicalEntity, ProteinDrug, ...</td>\n",
       "    </tr>\n",
       "  </tbody>\n",
       "</table>\n",
       "</div>"
      ],
      "text/plain": [
       "         n1.stId                                   n1.displayName  \\\n",
       "0  R-GGA-9652349  ERBB2 heterodimer:trastuzumab [plasma membrane]   \n",
       "1  R-BTA-9652349  ERBB2 heterodimer:trastuzumab [plasma membrane]   \n",
       "\n",
       "         n2.stId                      n2.displayName  \\\n",
       "0  R-ALL-9634466  trastuzumab [extracellular region]   \n",
       "1  R-ALL-9634466  trastuzumab [extracellular region]   \n",
       "\n",
       "                                          labels(n2)  \n",
       "0  [DatabaseObject, PhysicalEntity, ProteinDrug, ...  \n",
       "1  [DatabaseObject, PhysicalEntity, ProteinDrug, ...  "
      ]
     },
     "execution_count": 80,
     "metadata": {},
     "output_type": "execute_result"
    }
   ],
   "source": [
    "cplx_pe.head(2)"
   ]
  },
  {
   "cell_type": "code",
   "execution_count": 81,
   "metadata": {},
   "outputs": [
    {
     "data": {
      "text/plain": [
       "['DatabaseObject', 'PhysicalEntity', 'GenomeEncodedEntity', 'EntityWithAccessionedSequence']    114067\n",
       "['DatabaseObject', 'PhysicalEntity', 'SimpleEntity']                                             16645\n",
       "['DatabaseObject', 'PhysicalEntity', 'GenomeEncodedEntity']                                       9116\n",
       "['DatabaseObject', 'PhysicalEntity', 'Drug', 'ChemicalDrug']                                        16\n",
       "['DatabaseObject', 'PhysicalEntity', 'ProteinDrug', 'Drug']                                         11\n",
       "Name: pe_label, dtype: int64"
      ]
     },
     "execution_count": 81,
     "metadata": {},
     "output_type": "execute_result"
    }
   ],
   "source": [
    "cplx_pe.columns = ['cplx_id', 'cplx_name', 'pe_id', 'pe_name', 'pe_label']\n",
    "cplx_pe['pe_label'].astype(str).value_counts()"
   ]
  },
  {
   "cell_type": "code",
   "execution_count": 82,
   "metadata": {},
   "outputs": [],
   "source": [
    "query_results['cplx_pe'] = cplx_pe"
   ]
  },
  {
   "cell_type": "markdown",
   "metadata": {},
   "source": [
    "## Regulation"
   ]
  },
  {
   "cell_type": "code",
   "execution_count": 83,
   "metadata": {},
   "outputs": [
    {
     "data": {
      "text/plain": [
       "7729"
      ]
     },
     "execution_count": 83,
     "metadata": {},
     "output_type": "execute_result"
    }
   ],
   "source": [
    "q20 = \"\"\"MATCH (n1)<-[e:regulator]-(r)<-[e2:regulatedBy]-(n2) \n",
    "         RETURN DISTINCT n1.stId, n1.displayName, labels(n1), \n",
    "         labels(r), n2.stId, n2.displayName, labels(n2)\"\"\"\n",
    "\n",
    "reg_edge = query_to_df(q20)\n",
    "len(reg_edge)"
   ]
  },
  {
   "cell_type": "code",
   "execution_count": 84,
   "metadata": {},
   "outputs": [
    {
     "data": {
      "text/html": [
       "<div>\n",
       "<style scoped>\n",
       "    .dataframe tbody tr th:only-of-type {\n",
       "        vertical-align: middle;\n",
       "    }\n",
       "\n",
       "    .dataframe tbody tr th {\n",
       "        vertical-align: top;\n",
       "    }\n",
       "\n",
       "    .dataframe thead th {\n",
       "        text-align: right;\n",
       "    }\n",
       "</style>\n",
       "<table border=\"1\" class=\"dataframe\">\n",
       "  <thead>\n",
       "    <tr style=\"text-align: right;\">\n",
       "      <th></th>\n",
       "      <th>n1.stId</th>\n",
       "      <th>n1.displayName</th>\n",
       "      <th>labels(n1)</th>\n",
       "      <th>labels(r)</th>\n",
       "      <th>n2.stId</th>\n",
       "      <th>n2.displayName</th>\n",
       "      <th>labels(n2)</th>\n",
       "    </tr>\n",
       "  </thead>\n",
       "  <tbody>\n",
       "    <tr>\n",
       "      <th>0</th>\n",
       "      <td>R-HSA-917723</td>\n",
       "      <td>ESCRT-III [cytosol]</td>\n",
       "      <td>[DatabaseObject, PhysicalEntity, Complex]</td>\n",
       "      <td>[DatabaseObject, PositiveRegulation, Regulation]</td>\n",
       "      <td>R-HSA-5682388</td>\n",
       "      <td>Autophagosome maturation</td>\n",
       "      <td>[DatabaseObject, Event, ReactionLikeEvent, Bla...</td>\n",
       "    </tr>\n",
       "    <tr>\n",
       "      <th>1</th>\n",
       "      <td>R-HSA-5683632</td>\n",
       "      <td>UVRAG complex [cytosol]</td>\n",
       "      <td>[DatabaseObject, PhysicalEntity, Complex]</td>\n",
       "      <td>[DatabaseObject, PositiveRegulation, Regulation]</td>\n",
       "      <td>R-HSA-5682388</td>\n",
       "      <td>Autophagosome maturation</td>\n",
       "      <td>[DatabaseObject, Event, ReactionLikeEvent, Bla...</td>\n",
       "    </tr>\n",
       "  </tbody>\n",
       "</table>\n",
       "</div>"
      ],
      "text/plain": [
       "         n1.stId           n1.displayName  \\\n",
       "0   R-HSA-917723      ESCRT-III [cytosol]   \n",
       "1  R-HSA-5683632  UVRAG complex [cytosol]   \n",
       "\n",
       "                                  labels(n1)  \\\n",
       "0  [DatabaseObject, PhysicalEntity, Complex]   \n",
       "1  [DatabaseObject, PhysicalEntity, Complex]   \n",
       "\n",
       "                                          labels(r)        n2.stId  \\\n",
       "0  [DatabaseObject, PositiveRegulation, Regulation]  R-HSA-5682388   \n",
       "1  [DatabaseObject, PositiveRegulation, Regulation]  R-HSA-5682388   \n",
       "\n",
       "             n2.displayName                                         labels(n2)  \n",
       "0  Autophagosome maturation  [DatabaseObject, Event, ReactionLikeEvent, Bla...  \n",
       "1  Autophagosome maturation  [DatabaseObject, Event, ReactionLikeEvent, Bla...  "
      ]
     },
     "execution_count": 84,
     "metadata": {},
     "output_type": "execute_result"
    }
   ],
   "source": [
    "reg_edge.head(2)"
   ]
  },
  {
   "cell_type": "code",
   "execution_count": 85,
   "metadata": {},
   "outputs": [
    {
     "data": {
      "text/html": [
       "<div>\n",
       "<style scoped>\n",
       "    .dataframe tbody tr th:only-of-type {\n",
       "        vertical-align: middle;\n",
       "    }\n",
       "\n",
       "    .dataframe tbody tr th {\n",
       "        vertical-align: top;\n",
       "    }\n",
       "\n",
       "    .dataframe thead th {\n",
       "        text-align: right;\n",
       "    }\n",
       "</style>\n",
       "<table border=\"1\" class=\"dataframe\">\n",
       "  <thead>\n",
       "    <tr style=\"text-align: right;\">\n",
       "      <th></th>\n",
       "      <th>n1_id</th>\n",
       "      <th>n1_name</th>\n",
       "      <th>n1_label</th>\n",
       "      <th>type</th>\n",
       "      <th>n2_id</th>\n",
       "      <th>n2_name</th>\n",
       "      <th>n2_label</th>\n",
       "    </tr>\n",
       "  </thead>\n",
       "  <tbody>\n",
       "    <tr>\n",
       "      <th>0</th>\n",
       "      <td>R-HSA-917723</td>\n",
       "      <td>ESCRT-III [cytosol]</td>\n",
       "      <td>[DatabaseObject, PhysicalEntity, Complex]</td>\n",
       "      <td>[DatabaseObject, PositiveRegulation, Regulation]</td>\n",
       "      <td>R-HSA-5682388</td>\n",
       "      <td>Autophagosome maturation</td>\n",
       "      <td>[DatabaseObject, Event, ReactionLikeEvent, Bla...</td>\n",
       "    </tr>\n",
       "    <tr>\n",
       "      <th>1</th>\n",
       "      <td>R-HSA-5683632</td>\n",
       "      <td>UVRAG complex [cytosol]</td>\n",
       "      <td>[DatabaseObject, PhysicalEntity, Complex]</td>\n",
       "      <td>[DatabaseObject, PositiveRegulation, Regulation]</td>\n",
       "      <td>R-HSA-5682388</td>\n",
       "      <td>Autophagosome maturation</td>\n",
       "      <td>[DatabaseObject, Event, ReactionLikeEvent, Bla...</td>\n",
       "    </tr>\n",
       "    <tr>\n",
       "      <th>2</th>\n",
       "      <td>R-MMU-5683632</td>\n",
       "      <td>UVRAG complex [cytosol]</td>\n",
       "      <td>[DatabaseObject, PhysicalEntity, Complex]</td>\n",
       "      <td>[DatabaseObject, PositiveRegulation, Regulation]</td>\n",
       "      <td>R-MMU-5682388</td>\n",
       "      <td>Autophagosome maturation</td>\n",
       "      <td>[DatabaseObject, Event, ReactionLikeEvent, Bla...</td>\n",
       "    </tr>\n",
       "    <tr>\n",
       "      <th>3</th>\n",
       "      <td>R-MMU-917723</td>\n",
       "      <td>ESCRT-III [cytosol]</td>\n",
       "      <td>[DatabaseObject, PhysicalEntity, Complex]</td>\n",
       "      <td>[DatabaseObject, PositiveRegulation, Regulation]</td>\n",
       "      <td>R-MMU-5682388</td>\n",
       "      <td>Autophagosome maturation</td>\n",
       "      <td>[DatabaseObject, Event, ReactionLikeEvent, Bla...</td>\n",
       "    </tr>\n",
       "    <tr>\n",
       "      <th>4</th>\n",
       "      <td>R-RNO-5683632</td>\n",
       "      <td>UVRAG complex [cytosol]</td>\n",
       "      <td>[DatabaseObject, PhysicalEntity, Complex]</td>\n",
       "      <td>[DatabaseObject, PositiveRegulation, Regulation]</td>\n",
       "      <td>R-RNO-5682388</td>\n",
       "      <td>Autophagosome maturation</td>\n",
       "      <td>[DatabaseObject, Event, ReactionLikeEvent, Bla...</td>\n",
       "    </tr>\n",
       "  </tbody>\n",
       "</table>\n",
       "</div>"
      ],
      "text/plain": [
       "           n1_id                  n1_name  \\\n",
       "0   R-HSA-917723      ESCRT-III [cytosol]   \n",
       "1  R-HSA-5683632  UVRAG complex [cytosol]   \n",
       "2  R-MMU-5683632  UVRAG complex [cytosol]   \n",
       "3   R-MMU-917723      ESCRT-III [cytosol]   \n",
       "4  R-RNO-5683632  UVRAG complex [cytosol]   \n",
       "\n",
       "                                    n1_label  \\\n",
       "0  [DatabaseObject, PhysicalEntity, Complex]   \n",
       "1  [DatabaseObject, PhysicalEntity, Complex]   \n",
       "2  [DatabaseObject, PhysicalEntity, Complex]   \n",
       "3  [DatabaseObject, PhysicalEntity, Complex]   \n",
       "4  [DatabaseObject, PhysicalEntity, Complex]   \n",
       "\n",
       "                                               type          n2_id  \\\n",
       "0  [DatabaseObject, PositiveRegulation, Regulation]  R-HSA-5682388   \n",
       "1  [DatabaseObject, PositiveRegulation, Regulation]  R-HSA-5682388   \n",
       "2  [DatabaseObject, PositiveRegulation, Regulation]  R-MMU-5682388   \n",
       "3  [DatabaseObject, PositiveRegulation, Regulation]  R-MMU-5682388   \n",
       "4  [DatabaseObject, PositiveRegulation, Regulation]  R-RNO-5682388   \n",
       "\n",
       "                    n2_name                                           n2_label  \n",
       "0  Autophagosome maturation  [DatabaseObject, Event, ReactionLikeEvent, Bla...  \n",
       "1  Autophagosome maturation  [DatabaseObject, Event, ReactionLikeEvent, Bla...  \n",
       "2  Autophagosome maturation  [DatabaseObject, Event, ReactionLikeEvent, Bla...  \n",
       "3  Autophagosome maturation  [DatabaseObject, Event, ReactionLikeEvent, Bla...  \n",
       "4  Autophagosome maturation  [DatabaseObject, Event, ReactionLikeEvent, Bla...  "
      ]
     },
     "execution_count": 85,
     "metadata": {},
     "output_type": "execute_result"
    }
   ],
   "source": [
    "reg_edge.columns = ['n1_id', 'n1_name', 'n1_label', 'type', 'n2_id', 'n2_name', 'n2_label']\n",
    "reg_edge.head()"
   ]
  },
  {
   "cell_type": "code",
   "execution_count": 86,
   "metadata": {},
   "outputs": [
    {
     "data": {
      "text/plain": [
       "PositiveRegulation    4896\n",
       "NegativeRegulation    2833\n",
       "Name: type, dtype: int64"
      ]
     },
     "execution_count": 86,
     "metadata": {},
     "output_type": "execute_result"
    }
   ],
   "source": [
    "pos_idx = reg_edge['type'].apply(lambda x: 'PositiveRegulation' in x)\n",
    "neg_idx = reg_edge['type'].apply(lambda x: 'NegativeRegulation' in x)\n",
    "\n",
    "reg_edge.loc[pos_idx[pos_idx].index, 'type'] = 'PositiveRegulation'\n",
    "reg_edge.loc[neg_idx[neg_idx].index, 'type'] = 'NegativeRegulation'\n",
    "reg_edge['type'].value_counts()"
   ]
  },
  {
   "cell_type": "markdown",
   "metadata": {},
   "source": [
    "Guessing that is almost always a PhysicalEntity that regulates an Event... lets see if thats true"
   ]
  },
  {
   "cell_type": "code",
   "execution_count": 87,
   "metadata": {},
   "outputs": [
    {
     "data": {
      "text/plain": [
       "True"
      ]
     },
     "execution_count": 87,
     "metadata": {},
     "output_type": "execute_result"
    }
   ],
   "source": [
    "reg_edge['n1_label'].apply(lambda x: 'PhysicalEntity' in x).sum() == len(reg_edge)"
   ]
  },
  {
   "cell_type": "code",
   "execution_count": 88,
   "metadata": {},
   "outputs": [
    {
     "data": {
      "text/plain": [
       "True"
      ]
     },
     "execution_count": 88,
     "metadata": {},
     "output_type": "execute_result"
    }
   ],
   "source": [
    "reg_edge['n2_label'].apply(lambda x: 'Event' in x).sum() == len(reg_edge)"
   ]
  },
  {
   "cell_type": "code",
   "execution_count": 89,
   "metadata": {},
   "outputs": [
    {
     "data": {
      "text/html": [
       "<div>\n",
       "<style scoped>\n",
       "    .dataframe tbody tr th:only-of-type {\n",
       "        vertical-align: middle;\n",
       "    }\n",
       "\n",
       "    .dataframe tbody tr th {\n",
       "        vertical-align: top;\n",
       "    }\n",
       "\n",
       "    .dataframe thead th {\n",
       "        text-align: right;\n",
       "    }\n",
       "</style>\n",
       "<table border=\"1\" class=\"dataframe\">\n",
       "  <thead>\n",
       "    <tr style=\"text-align: right;\">\n",
       "      <th></th>\n",
       "      <th>pe_id</th>\n",
       "      <th>pe_name</th>\n",
       "      <th>pe_label</th>\n",
       "      <th>type</th>\n",
       "      <th>evt_id</th>\n",
       "      <th>evt_name</th>\n",
       "      <th>evt_label</th>\n",
       "    </tr>\n",
       "  </thead>\n",
       "  <tbody>\n",
       "    <tr>\n",
       "      <th>0</th>\n",
       "      <td>R-HSA-917723</td>\n",
       "      <td>ESCRT-III [cytosol]</td>\n",
       "      <td>PhysicalEntity</td>\n",
       "      <td>PositiveRegulation</td>\n",
       "      <td>R-HSA-5682388</td>\n",
       "      <td>Autophagosome maturation</td>\n",
       "      <td>Event</td>\n",
       "    </tr>\n",
       "    <tr>\n",
       "      <th>1</th>\n",
       "      <td>R-HSA-5683632</td>\n",
       "      <td>UVRAG complex [cytosol]</td>\n",
       "      <td>PhysicalEntity</td>\n",
       "      <td>PositiveRegulation</td>\n",
       "      <td>R-HSA-5682388</td>\n",
       "      <td>Autophagosome maturation</td>\n",
       "      <td>Event</td>\n",
       "    </tr>\n",
       "    <tr>\n",
       "      <th>2</th>\n",
       "      <td>R-MMU-5683632</td>\n",
       "      <td>UVRAG complex [cytosol]</td>\n",
       "      <td>PhysicalEntity</td>\n",
       "      <td>PositiveRegulation</td>\n",
       "      <td>R-MMU-5682388</td>\n",
       "      <td>Autophagosome maturation</td>\n",
       "      <td>Event</td>\n",
       "    </tr>\n",
       "    <tr>\n",
       "      <th>3</th>\n",
       "      <td>R-MMU-917723</td>\n",
       "      <td>ESCRT-III [cytosol]</td>\n",
       "      <td>PhysicalEntity</td>\n",
       "      <td>PositiveRegulation</td>\n",
       "      <td>R-MMU-5682388</td>\n",
       "      <td>Autophagosome maturation</td>\n",
       "      <td>Event</td>\n",
       "    </tr>\n",
       "    <tr>\n",
       "      <th>4</th>\n",
       "      <td>R-RNO-5683632</td>\n",
       "      <td>UVRAG complex [cytosol]</td>\n",
       "      <td>PhysicalEntity</td>\n",
       "      <td>PositiveRegulation</td>\n",
       "      <td>R-RNO-5682388</td>\n",
       "      <td>Autophagosome maturation</td>\n",
       "      <td>Event</td>\n",
       "    </tr>\n",
       "  </tbody>\n",
       "</table>\n",
       "</div>"
      ],
      "text/plain": [
       "           pe_id                  pe_name        pe_label                type  \\\n",
       "0   R-HSA-917723      ESCRT-III [cytosol]  PhysicalEntity  PositiveRegulation   \n",
       "1  R-HSA-5683632  UVRAG complex [cytosol]  PhysicalEntity  PositiveRegulation   \n",
       "2  R-MMU-5683632  UVRAG complex [cytosol]  PhysicalEntity  PositiveRegulation   \n",
       "3   R-MMU-917723      ESCRT-III [cytosol]  PhysicalEntity  PositiveRegulation   \n",
       "4  R-RNO-5683632  UVRAG complex [cytosol]  PhysicalEntity  PositiveRegulation   \n",
       "\n",
       "          evt_id                  evt_name evt_label  \n",
       "0  R-HSA-5682388  Autophagosome maturation     Event  \n",
       "1  R-HSA-5682388  Autophagosome maturation     Event  \n",
       "2  R-MMU-5682388  Autophagosome maturation     Event  \n",
       "3  R-MMU-5682388  Autophagosome maturation     Event  \n",
       "4  R-RNO-5682388  Autophagosome maturation     Event  "
      ]
     },
     "execution_count": 89,
     "metadata": {},
     "output_type": "execute_result"
    }
   ],
   "source": [
    "reg_edge['n1_label'] = 'PhysicalEntity'\n",
    "reg_edge['n2_label'] = 'Event'\n",
    "\n",
    "reg_edge.columns = ['pe_id', 'pe_name', 'pe_label', 'type', 'evt_id', 'evt_name', 'evt_label']\n",
    "\n",
    "reg_edge.head(5)"
   ]
  },
  {
   "cell_type": "code",
   "execution_count": 90,
   "metadata": {},
   "outputs": [],
   "source": [
    "query_results['reg_edge'] = reg_edge"
   ]
  },
  {
   "cell_type": "markdown",
   "metadata": {},
   "source": [
    "# Save and exit"
   ]
  },
  {
   "cell_type": "code",
   "execution_count": 91,
   "metadata": {},
   "outputs": [],
   "source": [
    "nb_name = '02a_Reactome_DB_Queries'\n",
    "out_dir = Path('../2_pipeline/').joinpath(nb_name, 'out').resolve()\n",
    "\n",
    "# Make the output directory if doesn't already exist\n",
    "out_dir.mkdir(parents=True, exist_ok=True)\n",
    "\n",
    "for name, df in query_results.items():\n",
    "    df.to_csv(out_dir.joinpath(name+'.csv'), index=False)"
   ]
  },
  {
   "cell_type": "markdown",
   "metadata": {},
   "source": [
    "#### Shutdown the Neo4j server"
   ]
  },
  {
   "cell_type": "code",
   "execution_count": 92,
   "metadata": {},
   "outputs": [
    {
     "data": {
      "text/plain": [
       "0"
      ]
     },
     "execution_count": 92,
     "metadata": {},
     "output_type": "execute_result"
    }
   ],
   "source": [
    "subprocess.call(command.replace('start', 'stop'), shell=True)"
   ]
  }
 ],
 "metadata": {
  "kernelspec": {
   "display_name": "Python 3",
   "language": "python",
   "name": "python3"
  },
  "language_info": {
   "codemirror_mode": {
    "name": "ipython",
    "version": 3
   },
   "file_extension": ".py",
   "mimetype": "text/x-python",
   "name": "python",
   "nbconvert_exporter": "python",
   "pygments_lexer": "ipython3",
   "version": "3.7.5"
  }
 },
 "nbformat": 4,
 "nbformat_minor": 2
}
