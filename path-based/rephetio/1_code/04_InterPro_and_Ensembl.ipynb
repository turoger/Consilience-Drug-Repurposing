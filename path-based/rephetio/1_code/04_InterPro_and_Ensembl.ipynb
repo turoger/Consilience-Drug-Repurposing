{
 "cells": [
  {
   "cell_type": "markdown",
   "metadata": {},
   "source": [
    "# InterPro and Ensembl\n",
    "\n",
    "Two more open data sources"
   ]
  },
  {
   "cell_type": "code",
   "execution_count": 1,
   "metadata": {},
   "outputs": [],
   "source": [
    "import numpy as np\n",
    "import pandas as pd\n",
    "from pathlib import Path\n",
    "import data_tools.graphs as gt\n",
    "from data_tools.files import load_api_results, head\n",
    "\n",
    "%matplotlib inline\n",
    "import seaborn as sns\n",
    "import matplotlib.pyplot as plt\n",
    "\n",
    "network_dir = Path('../2_pipeline/03_WikiData_Reactome_Merge/out/').resolve()\n",
    "data_dir = Path('../2_pipeline/00_download_data/out').resolve()"
   ]
  },
  {
   "cell_type": "code",
   "execution_count": 2,
   "metadata": {},
   "outputs": [],
   "source": [
    "this_name = '04_InterPro_and_Ensembl'\n",
    "out_dir = Path('../2_pipeline/').joinpath(this_name).joinpath('out').resolve()\n",
    "out_dir.mkdir(parents=True, exist_ok=True)"
   ]
  },
  {
   "cell_type": "code",
   "execution_count": 3,
   "metadata": {},
   "outputs": [],
   "source": [
    "colors = sns.color_palette([\"#4f8c9d\", \"#e23209\", \"#77be20\", \"#a34ddf\", \"#34f50e\", \"#871d32\", \"#18d19b\"])\n",
    "sns.set_palette(colors)"
   ]
  },
  {
   "cell_type": "code",
   "execution_count": 4,
   "metadata": {},
   "outputs": [],
   "source": [
    "all_nodes = gt.remove_colons(pd.read_csv(network_dir.joinpath('nodes.csv'), dtype=str))\n",
    "edges = gt.remove_colons(pd.read_csv(network_dir.joinpath('edges.csv'), dtype=str))"
   ]
  },
  {
   "cell_type": "code",
   "execution_count": 5,
   "metadata": {},
   "outputs": [],
   "source": [
    "all_node_ids = all_nodes['id'].values\n",
    "new_nodes = []\n",
    "new_edges = []"
   ]
  },
  {
   "cell_type": "code",
   "execution_count": 6,
   "metadata": {},
   "outputs": [
    {
     "data": {
      "text/html": [
       "<div>\n",
       "<style scoped>\n",
       "    .dataframe tbody tr th:only-of-type {\n",
       "        vertical-align: middle;\n",
       "    }\n",
       "\n",
       "    .dataframe tbody tr th {\n",
       "        vertical-align: top;\n",
       "    }\n",
       "\n",
       "    .dataframe thead th {\n",
       "        text-align: right;\n",
       "    }\n",
       "</style>\n",
       "<table border=\"1\" class=\"dataframe\">\n",
       "  <thead>\n",
       "    <tr style=\"text-align: right;\">\n",
       "      <th></th>\n",
       "      <th>id</th>\n",
       "      <th>name</th>\n",
       "      <th>label</th>\n",
       "      <th>xrefs</th>\n",
       "    </tr>\n",
       "  </thead>\n",
       "  <tbody>\n",
       "    <tr>\n",
       "      <th>0</th>\n",
       "      <td>WD:Q1010102</td>\n",
       "      <td>Bunyaviridae</td>\n",
       "      <td>Taxon</td>\n",
       "      <td>NaN</td>\n",
       "    </tr>\n",
       "    <tr>\n",
       "      <th>1</th>\n",
       "      <td>NCBITaxon:11974</td>\n",
       "      <td>Caliciviridae</td>\n",
       "      <td>Taxon</td>\n",
       "      <td>NCBITaxon:11974</td>\n",
       "    </tr>\n",
       "  </tbody>\n",
       "</table>\n",
       "</div>"
      ],
      "text/plain": [
       "                id           name  label            xrefs\n",
       "0      WD:Q1010102   Bunyaviridae  Taxon              NaN\n",
       "1  NCBITaxon:11974  Caliciviridae  Taxon  NCBITaxon:11974"
      ]
     },
     "execution_count": 6,
     "metadata": {},
     "output_type": "execute_result"
    }
   ],
   "source": [
    "all_nodes.head(2)"
   ]
  },
  {
   "cell_type": "markdown",
   "metadata": {},
   "source": [
    "# GO to Gene Relationships..."
   ]
  },
  {
   "cell_type": "code",
   "execution_count": 7,
   "metadata": {},
   "outputs": [],
   "source": [
    "combo = gt.combine_nodes_and_edges(all_nodes, edges)"
   ]
  },
  {
   "cell_type": "code",
   "execution_count": 8,
   "metadata": {},
   "outputs": [],
   "source": [
    "gene_term_edges = combo.query('start_label == \"Gene\" and end_label in {}'.format(\n",
    "                                ['Molecular Function', 'Biological Process', 'Cellular Component']))"
   ]
  },
  {
   "cell_type": "code",
   "execution_count": 9,
   "metadata": {},
   "outputs": [],
   "source": [
    "terms_per_gene = gene_term_edges.groupby(['start_id', 'end_label']).apply(len)\n",
    "terms_per_gene = terms_per_gene.to_frame().reset_index().rename(columns={0: 'count'})"
   ]
  },
  {
   "cell_type": "code",
   "execution_count": 10,
   "metadata": {},
   "outputs": [
    {
     "data": {
      "image/png": "[encoded data removed]",
      "text/plain": [
       "<Figure size 432x288 with 1 Axes>"
      ]
     },
     "metadata": {
      "needs_background": "light"
     },
     "output_type": "display_data"
    }
   ],
   "source": [
    "sns.violinplot(x='end_label', y='count', data=terms_per_gene);"
   ]
  },
  {
   "cell_type": "code",
   "execution_count": 11,
   "metadata": {},
   "outputs": [],
   "source": [
    "terms_per_gene['abbv'] = terms_per_gene['end_label'].map({'Molecular Function': 'GeMF',\n",
    "                                                          'Biological Process': 'GinBP',\n",
    "                                                          'Cellular Component': 'GpoCC'})"
   ]
  },
  {
   "cell_type": "code",
   "execution_count": 12,
   "metadata": {
    "scrolled": true
   },
   "outputs": [
    {
     "data": {
      "image/png": "[encoded data removed]",
      "text/plain": [
       "<Figure size 432x288 with 1 Axes>"
      ]
     },
     "metadata": {
      "needs_background": "light"
     },
     "output_type": "display_data"
    }
   ],
   "source": [
    "lim = 31\n",
    "\n",
    "# Ensure around 15 bins...\n",
    "i = 1\n",
    "while (lim // i) > 9:\n",
    "    i += 1\n",
    "\n",
    "bins = np.arange(0, lim+1, i)\n",
    "\n",
    "\n",
    "sns.distplot(terms_per_gene.query('count <= @lim and abbv == \"GeMF\"')['count'].fillna(0), \n",
    "             label='Molecular Function', kde=False, bins=bins)\n",
    "\n",
    "sns.distplot(terms_per_gene.query('count <= @lim and abbv == \"GinBP\"')['count'].fillna(0), \n",
    "             label='Biological Process', kde=False, bins=bins)\n",
    "\n",
    "sns.distplot(terms_per_gene.query('count <= @lim and abbv == \"GpoCC\"')['count'].fillna(0), \n",
    "             label='Cellular Component', kde=False, bins=bins)\n",
    "\n",
    "plt.xlabel('Terms Per Gene')\n",
    "plt.ylabel('Number of Genes')\n",
    "plt.title('Distribution of GO terms per gene by type')\n",
    "plt.xticks(bins[::2].tolist())\n",
    "\n",
    "plt.legend();"
   ]
  },
  {
   "cell_type": "code",
   "execution_count": 13,
   "metadata": {},
   "outputs": [
    {
     "data": {
      "image/png": "[encoded data removed]",
      "text/plain": [
       "<Figure size 540x540 with 12 Axes>"
      ]
     },
     "metadata": {
      "needs_background": "light"
     },
     "output_type": "display_data"
    }
   ],
   "source": [
    "pivot_terms = terms_per_gene.query('count <= 20').pivot(index='start_id', columns='abbv', values='count')\n",
    "sns.pairplot(pivot_terms.fillna(0));"
   ]
  },
  {
   "cell_type": "code",
   "execution_count": 14,
   "metadata": {},
   "outputs": [
    {
     "data": {
      "image/png": "[encoded data removed]",
      "text/plain": [
       "<Figure size 432x288 with 1 Axes>"
      ]
     },
     "metadata": {
      "needs_background": "light"
     },
     "output_type": "display_data"
    }
   ],
   "source": [
    "terms_per_gene.groupby('abbv')['count'].max().plot(kind='bar', color=colors);\n",
    "plt.xlabel('GO Term Type')\n",
    "plt.ylabel('Max terms per gene')\n",
    "plt.xticks(rotation=0)\n",
    "plt.title('Max GO Term annotations for a single gene');"
   ]
  },
  {
   "cell_type": "code",
   "execution_count": 15,
   "metadata": {},
   "outputs": [
    {
     "data": {
      "image/png": "[encoded data removed]",
      "text/plain": [
       "<Figure size 432x288 with 1 Axes>"
      ]
     },
     "metadata": {
      "needs_background": "light"
     },
     "output_type": "display_data"
    }
   ],
   "source": [
    "terms_per_gene.groupby('abbv')['count'].mean().plot(kind='bar', color=colors);\n",
    "plt.xlabel('GO Term Type')\n",
    "plt.ylabel('Mean terms per gene')\n",
    "plt.xticks(rotation=0)\n",
    "plt.title('Average GO Term annotations per gene');"
   ]
  },
  {
   "cell_type": "code",
   "execution_count": 16,
   "metadata": {},
   "outputs": [
    {
     "data": {
      "image/png": "[encoded data removed]",
      "text/plain": [
       "<Figure size 432x288 with 1 Axes>"
      ]
     },
     "metadata": {
      "needs_background": "light"
     },
     "output_type": "display_data"
    }
   ],
   "source": [
    "terms_per_gene.groupby('abbv')['count'].median().plot(kind='bar', color=colors);\n",
    "plt.xlabel('GO Term Type')\n",
    "plt.ylabel('Median terms per gene')\n",
    "plt.xticks(rotation=0)\n",
    "plt.title('Median GO Term annotations per gene');"
   ]
  },
  {
   "cell_type": "code",
   "execution_count": 17,
   "metadata": {
    "scrolled": true
   },
   "outputs": [
    {
     "name": "stdout",
     "output_type": "stream",
     "text": [
      "!date: 2019/03/22 10:12:05\n",
      "!Mapping of InterPro entries to GO\n",
      "!\n",
      "InterPro:IPR000003 Retinoid X receptor/HNF4 > GO:DNA binding ; GO:0003677\n",
      "InterPro:IPR000003 Retinoid X receptor/HNF4 > GO:steroid hormone receptor activity ; GO:0003707\n",
      "InterPro:IPR000003 Retinoid X receptor/HNF4 > GO:zinc ion binding ; GO:0008270\n",
      "\n"
     ]
    }
   ],
   "source": [
    "head(data_dir.joinpath('interpro2go.txt'), n_lines=6)"
   ]
  },
  {
   "cell_type": "code",
   "execution_count": 18,
   "metadata": {},
   "outputs": [],
   "source": [
    "# Delimiters are garbage in this file... They are the first space on the line ' ', \n",
    "# then ' > ', and ' ; '. We can use a regex to get the second and 3rd dels... but I'll have to manually \n",
    "# take care of the first... Whoever thoguht that was a good idea needs a talking to....\n",
    "\n",
    "ipr_to_go = pd.read_csv(data_dir.joinpath('interpro2go.txt'), sep='\\ \\>\\ |\\ ;\\ ', engine='python',\n",
    "                         comment='!', names=['ip_info', 'go_name', 'go_id'])\n",
    "\n",
    "# Split on the first space, and rejoin\n",
    "ipr_to_go['ip_id'] = ipr_to_go['ip_info'].str.split(' ', expand=True)[0]\n",
    "ipr_to_go['ip_name'] = ipr_to_go['ip_info'].apply(lambda i: ' '.join(i.split(' ')[1:]))\n",
    "\n",
    "# Remove the dual-info line and return proper column order\n",
    "ipr_to_go = ipr_to_go.drop([c for c in ipr_to_go if '_info' in c], axis=1)[['ip_id', 'ip_name', 'go_name', 'go_id']]"
   ]
  },
  {
   "cell_type": "code",
   "execution_count": 19,
   "metadata": {},
   "outputs": [
    {
     "data": {
      "text/html": [
       "<div>\n",
       "<style scoped>\n",
       "    .dataframe tbody tr th:only-of-type {\n",
       "        vertical-align: middle;\n",
       "    }\n",
       "\n",
       "    .dataframe tbody tr th {\n",
       "        vertical-align: top;\n",
       "    }\n",
       "\n",
       "    .dataframe thead th {\n",
       "        text-align: right;\n",
       "    }\n",
       "</style>\n",
       "<table border=\"1\" class=\"dataframe\">\n",
       "  <thead>\n",
       "    <tr style=\"text-align: right;\">\n",
       "      <th></th>\n",
       "      <th>ip_id</th>\n",
       "      <th>ip_name</th>\n",
       "      <th>go_name</th>\n",
       "      <th>go_id</th>\n",
       "    </tr>\n",
       "  </thead>\n",
       "  <tbody>\n",
       "    <tr>\n",
       "      <th>0</th>\n",
       "      <td>InterPro:IPR000003</td>\n",
       "      <td>Retinoid X receptor/HNF4</td>\n",
       "      <td>GO:DNA binding</td>\n",
       "      <td>GO:0003677</td>\n",
       "    </tr>\n",
       "    <tr>\n",
       "      <th>1</th>\n",
       "      <td>InterPro:IPR000003</td>\n",
       "      <td>Retinoid X receptor/HNF4</td>\n",
       "      <td>GO:steroid hormone receptor activity</td>\n",
       "      <td>GO:0003707</td>\n",
       "    </tr>\n",
       "    <tr>\n",
       "      <th>2</th>\n",
       "      <td>InterPro:IPR000003</td>\n",
       "      <td>Retinoid X receptor/HNF4</td>\n",
       "      <td>GO:zinc ion binding</td>\n",
       "      <td>GO:0008270</td>\n",
       "    </tr>\n",
       "    <tr>\n",
       "      <th>3</th>\n",
       "      <td>InterPro:IPR000003</td>\n",
       "      <td>Retinoid X receptor/HNF4</td>\n",
       "      <td>GO:regulation of transcription, DNA-templated</td>\n",
       "      <td>GO:0006355</td>\n",
       "    </tr>\n",
       "    <tr>\n",
       "      <th>4</th>\n",
       "      <td>InterPro:IPR000003</td>\n",
       "      <td>Retinoid X receptor/HNF4</td>\n",
       "      <td>GO:nucleus</td>\n",
       "      <td>GO:0005634</td>\n",
       "    </tr>\n",
       "    <tr>\n",
       "      <th>...</th>\n",
       "      <td>...</td>\n",
       "      <td>...</td>\n",
       "      <td>...</td>\n",
       "      <td>...</td>\n",
       "    </tr>\n",
       "    <tr>\n",
       "      <th>34157</th>\n",
       "      <td>InterPro:IPR042124</td>\n",
       "      <td>Inactive phospholipase C-like protein 1</td>\n",
       "      <td>GO:inositol 1,4,5 trisphosphate binding</td>\n",
       "      <td>GO:0070679</td>\n",
       "    </tr>\n",
       "    <tr>\n",
       "      <th>34158</th>\n",
       "      <td>InterPro:IPR042124</td>\n",
       "      <td>Inactive phospholipase C-like protein 1</td>\n",
       "      <td>GO:regulation of synaptic transmission, GABAergic</td>\n",
       "      <td>GO:0032228</td>\n",
       "    </tr>\n",
       "    <tr>\n",
       "      <th>34159</th>\n",
       "      <td>InterPro:IPR042124</td>\n",
       "      <td>Inactive phospholipase C-like protein 1</td>\n",
       "      <td>GO:intracellular signal transduction</td>\n",
       "      <td>GO:0035556</td>\n",
       "    </tr>\n",
       "    <tr>\n",
       "      <th>34160</th>\n",
       "      <td>InterPro:IPR042129</td>\n",
       "      <td>Mannose-binding protein A</td>\n",
       "      <td>GO:mannose binding</td>\n",
       "      <td>GO:0005537</td>\n",
       "    </tr>\n",
       "    <tr>\n",
       "      <th>34161</th>\n",
       "      <td>InterPro:IPR042129</td>\n",
       "      <td>Mannose-binding protein A</td>\n",
       "      <td>GO:complement activation, lectin pathway</td>\n",
       "      <td>GO:0001867</td>\n",
       "    </tr>\n",
       "  </tbody>\n",
       "</table>\n",
       "<p>34162 rows × 4 columns</p>\n",
       "</div>"
      ],
      "text/plain": [
       "                    ip_id                                  ip_name  \\\n",
       "0      InterPro:IPR000003                 Retinoid X receptor/HNF4   \n",
       "1      InterPro:IPR000003                 Retinoid X receptor/HNF4   \n",
       "2      InterPro:IPR000003                 Retinoid X receptor/HNF4   \n",
       "3      InterPro:IPR000003                 Retinoid X receptor/HNF4   \n",
       "4      InterPro:IPR000003                 Retinoid X receptor/HNF4   \n",
       "...                   ...                                      ...   \n",
       "34157  InterPro:IPR042124  Inactive phospholipase C-like protein 1   \n",
       "34158  InterPro:IPR042124  Inactive phospholipase C-like protein 1   \n",
       "34159  InterPro:IPR042124  Inactive phospholipase C-like protein 1   \n",
       "34160  InterPro:IPR042129                Mannose-binding protein A   \n",
       "34161  InterPro:IPR042129                Mannose-binding protein A   \n",
       "\n",
       "                                                 go_name       go_id  \n",
       "0                                         GO:DNA binding  GO:0003677  \n",
       "1                   GO:steroid hormone receptor activity  GO:0003707  \n",
       "2                                    GO:zinc ion binding  GO:0008270  \n",
       "3          GO:regulation of transcription, DNA-templated  GO:0006355  \n",
       "4                                             GO:nucleus  GO:0005634  \n",
       "...                                                  ...         ...  \n",
       "34157            GO:inositol 1,4,5 trisphosphate binding  GO:0070679  \n",
       "34158  GO:regulation of synaptic transmission, GABAergic  GO:0032228  \n",
       "34159               GO:intracellular signal transduction  GO:0035556  \n",
       "34160                                 GO:mannose binding  GO:0005537  \n",
       "34161           GO:complement activation, lectin pathway  GO:0001867  \n",
       "\n",
       "[34162 rows x 4 columns]"
      ]
     },
     "execution_count": 19,
     "metadata": {},
     "output_type": "execute_result"
    }
   ],
   "source": [
    "ipr_to_go"
   ]
  },
  {
   "cell_type": "code",
   "execution_count": 20,
   "metadata": {},
   "outputs": [],
   "source": [
    "go_ids = all_nodes['id'].str.startswith('GO:')\n",
    "go_to_onto = all_nodes[go_ids].set_index('id')['label'].to_dict()\n",
    "go_ids = all_nodes[go_ids]['id'].values"
   ]
  },
  {
   "cell_type": "code",
   "execution_count": 21,
   "metadata": {},
   "outputs": [
    {
     "data": {
      "text/plain": [
       "(34162, 34162)"
      ]
     },
     "execution_count": 21,
     "metadata": {},
     "output_type": "execute_result"
    }
   ],
   "source": [
    "len(ipr_to_go), len(ipr_to_go.query('go_id in @go_ids'))"
   ]
  },
  {
   "cell_type": "code",
   "execution_count": 22,
   "metadata": {},
   "outputs": [],
   "source": [
    "ipr_to_go['go_ontology'] = ipr_to_go['go_id'].map(go_to_onto)"
   ]
  },
  {
   "cell_type": "code",
   "execution_count": 23,
   "metadata": {},
   "outputs": [],
   "source": [
    "terms_per_fam = ipr_to_go.groupby(['ip_id', 'go_ontology']).apply(len)\n",
    "terms_per_fam = terms_per_fam.to_frame().reset_index().rename(columns={0: 'count'})"
   ]
  },
  {
   "cell_type": "code",
   "execution_count": 24,
   "metadata": {},
   "outputs": [
    {
     "data": {
      "image/png": "[encoded data removed]",
      "text/plain": [
       "<Figure size 432x288 with 1 Axes>"
      ]
     },
     "metadata": {
      "needs_background": "light"
     },
     "output_type": "display_data"
    }
   ],
   "source": [
    "sns.violinplot(x='go_ontology', y='count', data=terms_per_fam);"
   ]
  },
  {
   "cell_type": "code",
   "execution_count": 25,
   "metadata": {},
   "outputs": [
    {
     "data": {
      "text/plain": [
       "194539"
      ]
     },
     "execution_count": 25,
     "metadata": {},
     "output_type": "execute_result"
    }
   ],
   "source": [
    "gene_ids = all_nodes.query('label == \"Gene\"')['id'].unique()\n",
    "len(gene_ids)"
   ]
  },
  {
   "cell_type": "code",
   "execution_count": 26,
   "metadata": {},
   "outputs": [
    {
     "data": {
      "text/plain": [
       "array(['WD:Q62184147', 'WD:Q62184149', 'WD:Q62184300', 'WD:Q62184597',\n",
       "       'WD:Q62184618'], dtype=object)"
      ]
     },
     "execution_count": 26,
     "metadata": {},
     "output_type": "execute_result"
    }
   ],
   "source": [
    "gene_ids[:5]"
   ]
  },
  {
   "cell_type": "code",
   "execution_count": 27,
   "metadata": {},
   "outputs": [
    {
     "data": {
      "text/plain": [
       "NCBIGene    122473\n",
       "WD           71751\n",
       "ENSG           315\n",
       "dtype: int64"
      ]
     },
     "execution_count": 27,
     "metadata": {},
     "output_type": "execute_result"
    }
   ],
   "source": [
    "pd.Series([g.split(':')[0] for g in gene_ids]).value_counts()"
   ]
  },
  {
   "cell_type": "code",
   "execution_count": 28,
   "metadata": {},
   "outputs": [],
   "source": [
    "def remove_curi(_id):\n",
    "    return _id.split(':')[-1]"
   ]
  },
  {
   "cell_type": "code",
   "execution_count": 29,
   "metadata": {},
   "outputs": [],
   "source": [
    "# Dont query for WikiData Genes, will not return results...\n",
    "gene_ids = [g for g in gene_ids if not g.startswith('WD:')]\n",
    "\n",
    "# Get IDs to proper query format\n",
    "qids = [remove_curi(g) for g in gene_ids]"
   ]
  },
  {
   "cell_type": "code",
   "execution_count": 30,
   "metadata": {},
   "outputs": [],
   "source": [
    "import biothings_client\n",
    "\n",
    "mg = biothings_client.get_client('gene')"
   ]
  },
  {
   "cell_type": "code",
   "execution_count": 31,
   "metadata": {
    "scrolled": true
   },
   "outputs": [
    {
     "name": "stdout",
     "output_type": "stream",
     "text": [
      "querying 1-1000...done.\n",
      "querying 1001-2000...done.\n",
      "querying 2001-3000...done.\n",
      "querying 3001-4000...done.\n",
      "querying 4001-5000...done.\n",
      "querying 5001-6000...done.\n",
      "querying 6001-7000...done.\n",
      "querying 7001-8000...done.\n",
      "querying 8001-9000...done.\n",
      "querying 9001-10000...done.\n",
      "querying 10001-11000...done.\n",
      "querying 11001-12000...done.\n",
      "querying 12001-13000...done.\n",
      "querying 13001-14000...done.\n",
      "querying 14001-15000...done.\n",
      "querying 15001-16000...done.\n",
      "querying 16001-17000...done.\n",
      "querying 17001-18000...done.\n",
      "querying 18001-19000...done.\n",
      "querying 19001-20000...done.\n",
      "querying 20001-21000...done.\n",
      "querying 21001-22000...done.\n",
      "querying 22001-23000...done.\n",
      "querying 23001-24000...done.\n",
      "querying 24001-25000...done.\n",
      "querying 25001-26000...done.\n",
      "querying 26001-27000...done.\n",
      "querying 27001-28000...done.\n",
      "querying 28001-29000...done.\n",
      "querying 29001-30000...done.\n",
      "querying 30001-31000...done.\n",
      "querying 31001-32000...done.\n",
      "querying 32001-33000...done.\n",
      "querying 33001-34000...done.\n",
      "querying 34001-35000...done.\n",
      "querying 35001-36000...done.\n",
      "querying 36001-37000...done.\n",
      "querying 37001-38000...done.\n",
      "querying 38001-39000...done.\n",
      "querying 39001-40000...done.\n",
      "querying 40001-41000...done.\n",
      "querying 41001-42000...done.\n",
      "querying 42001-43000...done.\n",
      "querying 43001-44000...done.\n",
      "querying 44001-45000...done.\n",
      "querying 45001-46000...done.\n",
      "querying 46001-47000...done.\n",
      "querying 47001-48000...done.\n",
      "querying 48001-49000...done.\n",
      "querying 49001-50000...done.\n",
      "querying 50001-51000...done.\n",
      "querying 51001-52000...done.\n",
      "querying 52001-53000...done.\n",
      "querying 53001-54000...done.\n",
      "querying 54001-55000...done.\n",
      "querying 55001-56000...done.\n",
      "querying 56001-57000...done.\n",
      "querying 57001-58000...done.\n",
      "querying 58001-59000...done.\n",
      "querying 59001-60000...done.\n",
      "querying 60001-61000...done.\n",
      "querying 61001-62000...done.\n",
      "querying 62001-63000...done.\n",
      "querying 63001-64000...done.\n",
      "querying 64001-65000...done.\n",
      "querying 65001-66000...done.\n",
      "querying 66001-67000...done.\n",
      "querying 67001-68000...done.\n",
      "querying 68001-69000...done.\n",
      "querying 69001-70000...done.\n",
      "querying 70001-71000...done.\n",
      "querying 71001-72000...done.\n",
      "querying 72001-73000...done.\n",
      "querying 73001-74000...done.\n",
      "querying 74001-75000...done.\n",
      "querying 75001-76000...done.\n",
      "querying 76001-77000...done.\n",
      "querying 77001-78000...done.\n",
      "querying 78001-79000...done.\n",
      "querying 79001-80000...done.\n",
      "querying 80001-81000...done.\n",
      "querying 81001-82000...done.\n",
      "querying 82001-83000...done.\n",
      "querying 83001-84000...done.\n",
      "querying 84001-85000...done.\n",
      "querying 85001-86000...done.\n",
      "querying 86001-87000...done.\n",
      "querying 87001-88000...done.\n",
      "querying 88001-89000...done.\n",
      "querying 89001-90000...done.\n",
      "querying 90001-91000...done.\n",
      "querying 91001-92000...done.\n",
      "querying 92001-93000...done.\n",
      "querying 93001-94000...done.\n",
      "querying 94001-95000...done.\n",
      "querying 95001-96000...done.\n",
      "querying 96001-97000...done.\n",
      "querying 97001-98000...done.\n",
      "querying 98001-99000...done.\n",
      "querying 99001-100000...done.\n",
      "querying 100001-101000...done.\n",
      "querying 101001-102000...done.\n",
      "querying 102001-103000...done.\n",
      "querying 103001-104000...done.\n",
      "querying 104001-105000...done.\n",
      "querying 105001-106000...done.\n",
      "querying 106001-107000...done.\n",
      "querying 107001-108000...done.\n",
      "querying 108001-109000...done.\n",
      "querying 109001-110000...done.\n",
      "querying 110001-111000...done.\n",
      "querying 111001-112000...done.\n",
      "querying 112001-113000...done.\n",
      "querying 113001-114000...done.\n",
      "querying 114001-115000...done.\n",
      "querying 115001-116000...done.\n",
      "querying 116001-117000...done.\n",
      "querying 117001-118000...done.\n",
      "querying 118001-119000...done.\n",
      "querying 119001-120000...done.\n",
      "querying 120001-121000...done.\n",
      "querying 121001-122000...done.\n",
      "querying 122001-122788...done.\n"
     ]
    }
   ],
   "source": [
    "# Set re_scrape = False if re-running without major changes to genes\n",
    "qr = load_api_results(out_dir.joinpath('mygene_interpro_results_{}.pkl'), re_scrape=False,\n",
    "                      scrape_function=mg.getgenes, ids=qids, fields='interpro.id')"
   ]
  },
  {
   "cell_type": "code",
   "execution_count": 32,
   "metadata": {
    "scrolled": true
   },
   "outputs": [
    {
     "data": {
      "text/plain": [
       "{'query': '19832600', '_id': '19832600', '_score': 14.556267}"
      ]
     },
     "execution_count": 32,
     "metadata": {},
     "output_type": "execute_result"
    }
   ],
   "source": [
    "qr[0]"
   ]
  },
  {
   "cell_type": "code",
   "execution_count": 33,
   "metadata": {},
   "outputs": [
    {
     "data": {
      "text/plain": [
       "Counter({NoneType: 87828, list: 27184, dict: 7776})"
      ]
     },
     "execution_count": 33,
     "metadata": {},
     "output_type": "execute_result"
    }
   ],
   "source": [
    "from collections import Counter\n",
    "c = Counter([type(r.get('interpro')) for r in qr])\n",
    "c"
   ]
  },
  {
   "cell_type": "code",
   "execution_count": 34,
   "metadata": {},
   "outputs": [
    {
     "data": {
      "text/plain": [
       "True"
      ]
     },
     "execution_count": 34,
     "metadata": {},
     "output_type": "execute_result"
    }
   ],
   "source": [
    "len(qr) == len(gene_ids)"
   ]
  },
  {
   "cell_type": "code",
   "execution_count": 35,
   "metadata": {},
   "outputs": [],
   "source": [
    "gene_ids_out = []\n",
    "interpro_ids = []\n",
    "\n",
    "for gene_id, result in zip(gene_ids, qr):\n",
    "    interpro_info = result.get('interpro')\n",
    "    \n",
    "    if type(interpro_info) == dict:\n",
    "        gene_ids_out.append(gene_id)\n",
    "        interpro_ids.append(interpro_info.get('id'))\n",
    "        \n",
    "    elif type(interpro_info) == list:\n",
    "        for xref in interpro_info:\n",
    "            gene_ids_out.append(gene_id)\n",
    "            interpro_ids.append(xref.get('id'))\n",
    "\n",
    "gene_to_interpro = pd.DataFrame({'gene_id': gene_ids_out, 'interpro_id': interpro_ids})"
   ]
  },
  {
   "cell_type": "code",
   "execution_count": 36,
   "metadata": {},
   "outputs": [
    {
     "data": {
      "text/html": [
       "<div>\n",
       "<style scoped>\n",
       "    .dataframe tbody tr th:only-of-type {\n",
       "        vertical-align: middle;\n",
       "    }\n",
       "\n",
       "    .dataframe tbody tr th {\n",
       "        vertical-align: top;\n",
       "    }\n",
       "\n",
       "    .dataframe thead th {\n",
       "        text-align: right;\n",
       "    }\n",
       "</style>\n",
       "<table border=\"1\" class=\"dataframe\">\n",
       "  <thead>\n",
       "    <tr style=\"text-align: right;\">\n",
       "      <th></th>\n",
       "      <th>gene_id</th>\n",
       "      <th>interpro_id</th>\n",
       "    </tr>\n",
       "  </thead>\n",
       "  <tbody>\n",
       "    <tr>\n",
       "      <th>0</th>\n",
       "      <td>NCBIGene:178422</td>\n",
       "      <td>IPR000535</td>\n",
       "    </tr>\n",
       "    <tr>\n",
       "      <th>1</th>\n",
       "      <td>NCBIGene:178422</td>\n",
       "      <td>IPR008962</td>\n",
       "    </tr>\n",
       "    <tr>\n",
       "      <th>2</th>\n",
       "      <td>NCBIGene:178422</td>\n",
       "      <td>IPR013783</td>\n",
       "    </tr>\n",
       "  </tbody>\n",
       "</table>\n",
       "</div>"
      ],
      "text/plain": [
       "           gene_id interpro_id\n",
       "0  NCBIGene:178422   IPR000535\n",
       "1  NCBIGene:178422   IPR008962\n",
       "2  NCBIGene:178422   IPR013783"
      ]
     },
     "execution_count": 36,
     "metadata": {},
     "output_type": "execute_result"
    }
   ],
   "source": [
    "gene_to_interpro.head(3)"
   ]
  },
  {
   "cell_type": "code",
   "execution_count": 37,
   "metadata": {},
   "outputs": [
    {
     "data": {
      "text/html": [
       "<div>\n",
       "<style scoped>\n",
       "    .dataframe tbody tr th:only-of-type {\n",
       "        vertical-align: middle;\n",
       "    }\n",
       "\n",
       "    .dataframe tbody tr th {\n",
       "        vertical-align: top;\n",
       "    }\n",
       "\n",
       "    .dataframe thead th {\n",
       "        text-align: right;\n",
       "    }\n",
       "</style>\n",
       "<table border=\"1\" class=\"dataframe\">\n",
       "  <thead>\n",
       "    <tr style=\"text-align: right;\">\n",
       "      <th></th>\n",
       "      <th>entry_ac</th>\n",
       "      <th>entry_type</th>\n",
       "      <th>entry_name</th>\n",
       "    </tr>\n",
       "  </thead>\n",
       "  <tbody>\n",
       "    <tr>\n",
       "      <th>0</th>\n",
       "      <td>IPR000126</td>\n",
       "      <td>Active_site</td>\n",
       "      <td>Serine proteases, V8 family, serine active site</td>\n",
       "    </tr>\n",
       "    <tr>\n",
       "      <th>1</th>\n",
       "      <td>IPR000138</td>\n",
       "      <td>Active_site</td>\n",
       "      <td>Hydroxymethylglutaryl-CoA lyase, active site</td>\n",
       "    </tr>\n",
       "  </tbody>\n",
       "</table>\n",
       "</div>"
      ],
      "text/plain": [
       "    entry_ac   entry_type                                       entry_name\n",
       "0  IPR000126  Active_site  Serine proteases, V8 family, serine active site\n",
       "1  IPR000138  Active_site     Hydroxymethylglutaryl-CoA lyase, active site"
      ]
     },
     "execution_count": 37,
     "metadata": {},
     "output_type": "execute_result"
    }
   ],
   "source": [
    "ipr_info = pd.read_csv(data_dir.joinpath('entry.list.tsv'), sep='\\t')\n",
    "ipr_info.columns = [c.lower() for c in ipr_info.columns]\n",
    "ipr_info.head(2)"
   ]
  },
  {
   "cell_type": "code",
   "execution_count": 38,
   "metadata": {},
   "outputs": [
    {
     "data": {
      "text/plain": [
       "Family                    21769\n",
       "Domain                    10637\n",
       "Homologous_superfamily     3078\n",
       "Conserved_site              688\n",
       "Repeat                      316\n",
       "Active_site                 132\n",
       "Binding_site                 76\n",
       "PTM                          17\n",
       "Name: entry_type, dtype: int64"
      ]
     },
     "execution_count": 38,
     "metadata": {},
     "output_type": "execute_result"
    }
   ],
   "source": [
    "ipr_info['entry_type'].value_counts()"
   ]
  },
  {
   "cell_type": "code",
   "execution_count": 39,
   "metadata": {},
   "outputs": [],
   "source": [
    "merge = pd.merge(gene_to_interpro, ipr_info, how='left', left_on='interpro_id', right_on='entry_ac')"
   ]
  },
  {
   "cell_type": "code",
   "execution_count": 40,
   "metadata": {},
   "outputs": [
    {
     "data": {
      "text/html": [
       "<div>\n",
       "<style scoped>\n",
       "    .dataframe tbody tr th:only-of-type {\n",
       "        vertical-align: middle;\n",
       "    }\n",
       "\n",
       "    .dataframe tbody tr th {\n",
       "        vertical-align: top;\n",
       "    }\n",
       "\n",
       "    .dataframe thead th {\n",
       "        text-align: right;\n",
       "    }\n",
       "</style>\n",
       "<table border=\"1\" class=\"dataframe\">\n",
       "  <thead>\n",
       "    <tr style=\"text-align: right;\">\n",
       "      <th></th>\n",
       "      <th>gene_id</th>\n",
       "      <th>interpro_id</th>\n",
       "      <th>entry_ac</th>\n",
       "      <th>entry_type</th>\n",
       "      <th>entry_name</th>\n",
       "    </tr>\n",
       "  </thead>\n",
       "  <tbody>\n",
       "    <tr>\n",
       "      <th>0</th>\n",
       "      <td>NCBIGene:178422</td>\n",
       "      <td>IPR000535</td>\n",
       "      <td>IPR000535</td>\n",
       "      <td>Domain</td>\n",
       "      <td>Major sperm protein (MSP) domain</td>\n",
       "    </tr>\n",
       "    <tr>\n",
       "      <th>1</th>\n",
       "      <td>NCBIGene:178422</td>\n",
       "      <td>IPR008962</td>\n",
       "      <td>IPR008962</td>\n",
       "      <td>Homologous_superfamily</td>\n",
       "      <td>PapD-like superfamily</td>\n",
       "    </tr>\n",
       "  </tbody>\n",
       "</table>\n",
       "</div>"
      ],
      "text/plain": [
       "           gene_id interpro_id   entry_ac              entry_type  \\\n",
       "0  NCBIGene:178422   IPR000535  IPR000535                  Domain   \n",
       "1  NCBIGene:178422   IPR008962  IPR008962  Homologous_superfamily   \n",
       "\n",
       "                         entry_name  \n",
       "0  Major sperm protein (MSP) domain  \n",
       "1             PapD-like superfamily  "
      ]
     },
     "execution_count": 40,
     "metadata": {},
     "output_type": "execute_result"
    }
   ],
   "source": [
    "merge.head(2)"
   ]
  },
  {
   "cell_type": "code",
   "execution_count": 41,
   "metadata": {},
   "outputs": [
    {
     "data": {
      "text/plain": [
       "Domain                    49143\n",
       "Homologous_superfamily    37621\n",
       "Family                    28426\n",
       "Conserved_site             5801\n",
       "Repeat                     3257\n",
       "Active_site                1672\n",
       "Binding_site               1332\n",
       "PTM                         238\n",
       "Name: entry_type, dtype: int64"
      ]
     },
     "execution_count": 41,
     "metadata": {},
     "output_type": "execute_result"
    }
   ],
   "source": [
    "merge['entry_type'].value_counts()"
   ]
  },
  {
   "cell_type": "code",
   "execution_count": 42,
   "metadata": {},
   "outputs": [
    {
     "data": {
      "text/html": [
       "<div>\n",
       "<style scoped>\n",
       "    .dataframe tbody tr th:only-of-type {\n",
       "        vertical-align: middle;\n",
       "    }\n",
       "\n",
       "    .dataframe tbody tr th {\n",
       "        vertical-align: top;\n",
       "    }\n",
       "\n",
       "    .dataframe thead th {\n",
       "        text-align: right;\n",
       "    }\n",
       "</style>\n",
       "<table border=\"1\" class=\"dataframe\">\n",
       "  <thead>\n",
       "    <tr style=\"text-align: right;\">\n",
       "      <th></th>\n",
       "      <th>ip_id</th>\n",
       "      <th>ip_name</th>\n",
       "      <th>go_name</th>\n",
       "      <th>go_id</th>\n",
       "      <th>go_ontology</th>\n",
       "    </tr>\n",
       "  </thead>\n",
       "  <tbody>\n",
       "    <tr>\n",
       "      <th>0</th>\n",
       "      <td>InterPro:IPR000003</td>\n",
       "      <td>Retinoid X receptor/HNF4</td>\n",
       "      <td>GO:DNA binding</td>\n",
       "      <td>GO:0003677</td>\n",
       "      <td>Molecular Function</td>\n",
       "    </tr>\n",
       "    <tr>\n",
       "      <th>1</th>\n",
       "      <td>InterPro:IPR000003</td>\n",
       "      <td>Retinoid X receptor/HNF4</td>\n",
       "      <td>GO:steroid hormone receptor activity</td>\n",
       "      <td>GO:0003707</td>\n",
       "      <td>Molecular Function</td>\n",
       "    </tr>\n",
       "  </tbody>\n",
       "</table>\n",
       "</div>"
      ],
      "text/plain": [
       "                ip_id                   ip_name  \\\n",
       "0  InterPro:IPR000003  Retinoid X receptor/HNF4   \n",
       "1  InterPro:IPR000003  Retinoid X receptor/HNF4   \n",
       "\n",
       "                                go_name       go_id         go_ontology  \n",
       "0                        GO:DNA binding  GO:0003677  Molecular Function  \n",
       "1  GO:steroid hormone receptor activity  GO:0003707  Molecular Function  "
      ]
     },
     "execution_count": 42,
     "metadata": {},
     "output_type": "execute_result"
    }
   ],
   "source": [
    "ipr_to_go.head(2)"
   ]
  },
  {
   "cell_type": "code",
   "execution_count": 43,
   "metadata": {},
   "outputs": [
    {
     "data": {
      "text/plain": [
       "34162"
      ]
     },
     "execution_count": 43,
     "metadata": {},
     "output_type": "execute_result"
    }
   ],
   "source": [
    "ipr_info['ip_id'] = 'InterPro:' + ipr_info['entry_ac']\n",
    "ipr_to_go_1 = ipr_to_go.merge(ipr_info, how='left', on='ip_id')\n",
    "len(ipr_to_go_1)"
   ]
  },
  {
   "cell_type": "code",
   "execution_count": 44,
   "metadata": {},
   "outputs": [
    {
     "data": {
      "text/plain": [
       "34118"
      ]
     },
     "execution_count": 44,
     "metadata": {},
     "output_type": "execute_result"
    }
   ],
   "source": [
    "ipr_to_go_1['entry_type'].count()"
   ]
  },
  {
   "cell_type": "code",
   "execution_count": 45,
   "metadata": {},
   "outputs": [
    {
     "data": {
      "text/plain": [
       "Family                    25416\n",
       "Domain                     5755\n",
       "Homologous_superfamily     1704\n",
       "Conserved_site              896\n",
       "Active_site                 139\n",
       "Binding_site                106\n",
       "Repeat                       92\n",
       "PTM                          10\n",
       "Name: entry_type, dtype: int64"
      ]
     },
     "execution_count": 45,
     "metadata": {},
     "output_type": "execute_result"
    }
   ],
   "source": [
    "ipr_to_go_1['entry_type'].value_counts()"
   ]
  },
  {
   "cell_type": "code",
   "execution_count": 46,
   "metadata": {},
   "outputs": [],
   "source": [
    "gene_fams = merge.query('entry_type == \"Family\"')\n",
    "fams_per_gene = gene_fams.groupby('gene_id').apply(len).to_frame()\n",
    "fams_per_gene['metric'] = 'Fams per gene'\n",
    "genes_per_fam = gene_fams.groupby('entry_ac').apply(len).to_frame()\n",
    "genes_per_fam['metric'] = 'Genes per fam'\n",
    "\n",
    "counts = pd.concat([genes_per_fam, fams_per_gene]).rename(columns={0: 'counts'})"
   ]
  },
  {
   "cell_type": "code",
   "execution_count": 47,
   "metadata": {},
   "outputs": [
    {
     "data": {
      "text/plain": [
       "<matplotlib.axes._subplots.AxesSubplot at 0x7ff4e40a9210>"
      ]
     },
     "execution_count": 47,
     "metadata": {},
     "output_type": "execute_result"
    },
    {
     "data": {
      "image/png": "[encoded data removed]",
      "text/plain": [
       "<Figure size 432x288 with 1 Axes>"
      ]
     },
     "metadata": {
      "needs_background": "light"
     },
     "output_type": "display_data"
    }
   ],
   "source": [
    "sns.violinplot(x='metric', y='counts', data=counts)"
   ]
  },
  {
   "cell_type": "code",
   "execution_count": 48,
   "metadata": {},
   "outputs": [
    {
     "data": {
      "image/png": "[encoded data removed]",
      "text/plain": [
       "<Figure size 432x288 with 1 Axes>"
      ]
     },
     "metadata": {
      "needs_background": "light"
     },
     "output_type": "display_data"
    }
   ],
   "source": [
    "bins = np.arange(0, fams_per_gene[0].max()+1, 1)\n",
    "sns.distplot(fams_per_gene[0], kde=False, bins=bins)\n",
    "plt.xticks(bins)\n",
    "plt.xlabel('InterPro Families per gene')\n",
    "plt.ylabel('Numer of Genes')\n",
    "plt.title('Distribution of InterPro Family annotaions per gene');"
   ]
  },
  {
   "cell_type": "code",
   "execution_count": 49,
   "metadata": {},
   "outputs": [
    {
     "data": {
      "image/png": "[encoded data removed]",
      "text/plain": [
       "<Figure size 432x288 with 1 Axes>"
      ]
     },
     "metadata": {
      "needs_background": "light"
     },
     "output_type": "display_data"
    }
   ],
   "source": [
    "min_val = 3\n",
    "max_val = 50\n",
    "subset = genes_per_fam[0][(min_val < genes_per_fam[0]) & (genes_per_fam[0] < max_val)]\n",
    "\n",
    "\n",
    "bins = np.arange(min_val, subset.max(), 3)\n",
    "sns.distplot(subset, kde=False, bins=bins)\n",
    "plt.xticks(bins)\n",
    "plt.xlabel('Genes per Interpro Family')\n",
    "plt.ylabel('Numer of InterPro Families')\n",
    "plt.title('Distribution of annotated genes per InterPro Family');"
   ]
  },
  {
   "cell_type": "code",
   "execution_count": 50,
   "metadata": {},
   "outputs": [
    {
     "data": {
      "text/plain": [
       "<matplotlib.axes._subplots.AxesSubplot at 0x7ff4e3f84750>"
      ]
     },
     "execution_count": 50,
     "metadata": {},
     "output_type": "execute_result"
    },
    {
     "data": {
      "image/png": "[encoded data removed]",
      "text/plain": [
       "<Figure size 432x288 with 1 Axes>"
      ]
     },
     "metadata": {
      "needs_background": "light"
     },
     "output_type": "display_data"
    }
   ],
   "source": [
    "sns.violinplot(y=genes_per_fam[genes_per_fam[0] < 25][0])"
   ]
  },
  {
   "cell_type": "code",
   "execution_count": 51,
   "metadata": {},
   "outputs": [
    {
     "data": {
      "text/plain": [
       "21769"
      ]
     },
     "execution_count": 51,
     "metadata": {},
     "output_type": "execute_result"
    }
   ],
   "source": [
    "fam_terms = ipr_info.query('entry_type == \"Family\"')\n",
    "len(fam_terms)"
   ]
  },
  {
   "cell_type": "code",
   "execution_count": 52,
   "metadata": {},
   "outputs": [
    {
     "data": {
      "text/html": [
       "<div>\n",
       "<style scoped>\n",
       "    .dataframe tbody tr th:only-of-type {\n",
       "        vertical-align: middle;\n",
       "    }\n",
       "\n",
       "    .dataframe tbody tr th {\n",
       "        vertical-align: top;\n",
       "    }\n",
       "\n",
       "    .dataframe thead th {\n",
       "        text-align: right;\n",
       "    }\n",
       "</style>\n",
       "<table border=\"1\" class=\"dataframe\">\n",
       "  <thead>\n",
       "    <tr style=\"text-align: right;\">\n",
       "      <th></th>\n",
       "      <th>id</th>\n",
       "      <th>name</th>\n",
       "      <th>label</th>\n",
       "    </tr>\n",
       "  </thead>\n",
       "  <tbody>\n",
       "    <tr>\n",
       "      <th>11533</th>\n",
       "      <td>InterPro:IPR000003</td>\n",
       "      <td>Retinoid X receptor/HNF4</td>\n",
       "      <td>Protein Family</td>\n",
       "    </tr>\n",
       "    <tr>\n",
       "      <th>11534</th>\n",
       "      <td>InterPro:IPR000006</td>\n",
       "      <td>Metallothionein, vertebrate</td>\n",
       "      <td>Protein Family</td>\n",
       "    </tr>\n",
       "  </tbody>\n",
       "</table>\n",
       "</div>"
      ],
      "text/plain": [
       "                       id                         name           label\n",
       "11533  InterPro:IPR000003     Retinoid X receptor/HNF4  Protein Family\n",
       "11534  InterPro:IPR000006  Metallothionein, vertebrate  Protein Family"
      ]
     },
     "execution_count": 52,
     "metadata": {},
     "output_type": "execute_result"
    }
   ],
   "source": [
    "fam_nodes = fam_terms[['ip_id', 'entry_name']].copy()\n",
    "fam_nodes.columns = [c.split('_')[-1] for c in fam_nodes.columns]\n",
    "fam_nodes['label'] = 'Protein Family'\n",
    "fam_nodes.head(2)"
   ]
  },
  {
   "cell_type": "code",
   "execution_count": 53,
   "metadata": {},
   "outputs": [
    {
     "data": {
      "text/html": [
       "<div>\n",
       "<style scoped>\n",
       "    .dataframe tbody tr th:only-of-type {\n",
       "        vertical-align: middle;\n",
       "    }\n",
       "\n",
       "    .dataframe tbody tr th {\n",
       "        vertical-align: top;\n",
       "    }\n",
       "\n",
       "    .dataframe thead th {\n",
       "        text-align: right;\n",
       "    }\n",
       "</style>\n",
       "<table border=\"1\" class=\"dataframe\">\n",
       "  <thead>\n",
       "    <tr style=\"text-align: right;\">\n",
       "      <th></th>\n",
       "      <th>start_id</th>\n",
       "      <th>end_id</th>\n",
       "      <th>type</th>\n",
       "    </tr>\n",
       "  </thead>\n",
       "  <tbody>\n",
       "    <tr>\n",
       "      <th>0</th>\n",
       "      <td>InterPro:IPR000003</td>\n",
       "      <td>GO:0003677</td>\n",
       "      <td>enables</td>\n",
       "    </tr>\n",
       "    <tr>\n",
       "      <th>1</th>\n",
       "      <td>InterPro:IPR000003</td>\n",
       "      <td>GO:0003707</td>\n",
       "      <td>enables</td>\n",
       "    </tr>\n",
       "  </tbody>\n",
       "</table>\n",
       "</div>"
      ],
      "text/plain": [
       "             start_id      end_id     type\n",
       "0  InterPro:IPR000003  GO:0003677  enables\n",
       "1  InterPro:IPR000003  GO:0003707  enables"
      ]
     },
     "execution_count": 53,
     "metadata": {},
     "output_type": "execute_result"
    }
   ],
   "source": [
    "edge_map = {'Molecular Function': 'enables',\n",
    "            'Biological Process': 'involved_in',\n",
    "            'Cellular Component': 'part_of'}\n",
    "\n",
    "fam_ids = fam_nodes['id'].unique()\n",
    "edges_fam_to_go = ipr_to_go.query('ip_id in @fam_ids').copy()\n",
    "edges_fam_to_go['type'] = edges_fam_to_go['go_ontology'].map(edge_map)\n",
    "\n",
    "edges_fam_to_go = edges_fam_to_go[['ip_id', 'go_id', 'type']]\n",
    "edges_fam_to_go = edges_fam_to_go.rename(columns={'ip_id': 'start_id', 'go_id': 'end_id'})\n",
    "edges_fam_to_go.head(2)"
   ]
  },
  {
   "cell_type": "code",
   "execution_count": 54,
   "metadata": {},
   "outputs": [
    {
     "data": {
      "text/plain": [
       "25416"
      ]
     },
     "execution_count": 54,
     "metadata": {},
     "output_type": "execute_result"
    }
   ],
   "source": [
    "len(edges_fam_to_go)"
   ]
  },
  {
   "cell_type": "code",
   "execution_count": 55,
   "metadata": {},
   "outputs": [],
   "source": [
    "edges_fam_to_go['source'] = 'InterPro'\n",
    "edges_fam_to_go['dsrc_type'] = 'curated'"
   ]
  },
  {
   "cell_type": "code",
   "execution_count": 56,
   "metadata": {},
   "outputs": [
    {
     "data": {
      "text/html": [
       "<div>\n",
       "<style scoped>\n",
       "    .dataframe tbody tr th:only-of-type {\n",
       "        vertical-align: middle;\n",
       "    }\n",
       "\n",
       "    .dataframe tbody tr th {\n",
       "        vertical-align: top;\n",
       "    }\n",
       "\n",
       "    .dataframe thead th {\n",
       "        text-align: right;\n",
       "    }\n",
       "</style>\n",
       "<table border=\"1\" class=\"dataframe\">\n",
       "  <thead>\n",
       "    <tr style=\"text-align: right;\">\n",
       "      <th></th>\n",
       "      <th>start_id</th>\n",
       "      <th>end_id</th>\n",
       "      <th>type</th>\n",
       "    </tr>\n",
       "  </thead>\n",
       "  <tbody>\n",
       "    <tr>\n",
       "      <th>12</th>\n",
       "      <td>NCBIGene:184465</td>\n",
       "      <td>InterPro:IPR027913</td>\n",
       "      <td>part_of</td>\n",
       "    </tr>\n",
       "    <tr>\n",
       "      <th>13</th>\n",
       "      <td>NCBIGene:179755</td>\n",
       "      <td>InterPro:IPR002213</td>\n",
       "      <td>part_of</td>\n",
       "    </tr>\n",
       "  </tbody>\n",
       "</table>\n",
       "</div>"
      ],
      "text/plain": [
       "           start_id              end_id     type\n",
       "12  NCBIGene:184465  InterPro:IPR027913  part_of\n",
       "13  NCBIGene:179755  InterPro:IPR002213  part_of"
      ]
     },
     "execution_count": 56,
     "metadata": {},
     "output_type": "execute_result"
    }
   ],
   "source": [
    "gene_to_interpro['interpro_id'] = 'InterPro:' + gene_to_interpro['interpro_id']\n",
    "edges_gene_to_fam = gene_to_interpro.query('interpro_id in @fam_ids').copy()\n",
    "edges_gene_to_fam = edges_gene_to_fam.rename(columns={'gene_id': 'start_id', 'interpro_id': 'end_id'})\n",
    "edges_gene_to_fam['type'] = 'part_of'\n",
    "edges_gene_to_fam.head(2)"
   ]
  },
  {
   "cell_type": "code",
   "execution_count": 57,
   "metadata": {},
   "outputs": [
    {
     "data": {
      "text/plain": [
       "127816"
      ]
     },
     "execution_count": 57,
     "metadata": {},
     "output_type": "execute_result"
    }
   ],
   "source": [
    "len(gene_to_interpro)"
   ]
  },
  {
   "cell_type": "code",
   "execution_count": 58,
   "metadata": {},
   "outputs": [],
   "source": [
    "# mygene.info actually sources their interpro annotaions from ensembel\n",
    "edges_gene_to_fam['source'] = 'ensembl'\n",
    "edges_gene_to_fam['dsrc_type'] = 'computed'"
   ]
  },
  {
   "cell_type": "markdown",
   "metadata": {},
   "source": [
    "# Putting it all together"
   ]
  },
  {
   "cell_type": "markdown",
   "metadata": {},
   "source": [
    "Licenses are either CC licenses or a custom license (we will use similar terminology to CC to describe custom licenses)"
   ]
  },
  {
   "cell_type": "code",
   "execution_count": 59,
   "metadata": {},
   "outputs": [],
   "source": [
    "new_nodes_df = fam_nodes\n",
    "new_edges_df = pd.concat([edges_fam_to_go, edges_gene_to_fam], sort=False)\n",
    "\n",
    "new_edges_df['license'] = 'custom open'"
   ]
  },
  {
   "cell_type": "code",
   "execution_count": 60,
   "metadata": {},
   "outputs": [
    {
     "data": {
      "text/html": [
       "<div>\n",
       "<style scoped>\n",
       "    .dataframe tbody tr th:only-of-type {\n",
       "        vertical-align: middle;\n",
       "    }\n",
       "\n",
       "    .dataframe tbody tr th {\n",
       "        vertical-align: top;\n",
       "    }\n",
       "\n",
       "    .dataframe thead th {\n",
       "        text-align: right;\n",
       "    }\n",
       "</style>\n",
       "<table border=\"1\" class=\"dataframe\">\n",
       "  <thead>\n",
       "    <tr style=\"text-align: right;\">\n",
       "      <th></th>\n",
       "      <th>id</th>\n",
       "      <th>name</th>\n",
       "      <th>label</th>\n",
       "    </tr>\n",
       "  </thead>\n",
       "  <tbody>\n",
       "    <tr>\n",
       "      <th>11533</th>\n",
       "      <td>InterPro:IPR000003</td>\n",
       "      <td>Retinoid X receptor/HNF4</td>\n",
       "      <td>Protein Family</td>\n",
       "    </tr>\n",
       "    <tr>\n",
       "      <th>11534</th>\n",
       "      <td>InterPro:IPR000006</td>\n",
       "      <td>Metallothionein, vertebrate</td>\n",
       "      <td>Protein Family</td>\n",
       "    </tr>\n",
       "  </tbody>\n",
       "</table>\n",
       "</div>"
      ],
      "text/plain": [
       "                       id                         name           label\n",
       "11533  InterPro:IPR000003     Retinoid X receptor/HNF4  Protein Family\n",
       "11534  InterPro:IPR000006  Metallothionein, vertebrate  Protein Family"
      ]
     },
     "execution_count": 60,
     "metadata": {},
     "output_type": "execute_result"
    }
   ],
   "source": [
    "new_nodes_df.head(2)"
   ]
  },
  {
   "cell_type": "code",
   "execution_count": 61,
   "metadata": {},
   "outputs": [
    {
     "data": {
      "text/html": [
       "<div>\n",
       "<style scoped>\n",
       "    .dataframe tbody tr th:only-of-type {\n",
       "        vertical-align: middle;\n",
       "    }\n",
       "\n",
       "    .dataframe tbody tr th {\n",
       "        vertical-align: top;\n",
       "    }\n",
       "\n",
       "    .dataframe thead th {\n",
       "        text-align: right;\n",
       "    }\n",
       "</style>\n",
       "<table border=\"1\" class=\"dataframe\">\n",
       "  <thead>\n",
       "    <tr style=\"text-align: right;\">\n",
       "      <th></th>\n",
       "      <th>start_id</th>\n",
       "      <th>end_id</th>\n",
       "      <th>type</th>\n",
       "      <th>source</th>\n",
       "      <th>dsrc_type</th>\n",
       "      <th>license</th>\n",
       "    </tr>\n",
       "  </thead>\n",
       "  <tbody>\n",
       "    <tr>\n",
       "      <th>0</th>\n",
       "      <td>InterPro:IPR000003</td>\n",
       "      <td>GO:0003677</td>\n",
       "      <td>enables</td>\n",
       "      <td>InterPro</td>\n",
       "      <td>curated</td>\n",
       "      <td>custom open</td>\n",
       "    </tr>\n",
       "    <tr>\n",
       "      <th>1</th>\n",
       "      <td>InterPro:IPR000003</td>\n",
       "      <td>GO:0003707</td>\n",
       "      <td>enables</td>\n",
       "      <td>InterPro</td>\n",
       "      <td>curated</td>\n",
       "      <td>custom open</td>\n",
       "    </tr>\n",
       "  </tbody>\n",
       "</table>\n",
       "</div>"
      ],
      "text/plain": [
       "             start_id      end_id     type    source dsrc_type      license\n",
       "0  InterPro:IPR000003  GO:0003677  enables  InterPro   curated  custom open\n",
       "1  InterPro:IPR000003  GO:0003707  enables  InterPro   curated  custom open"
      ]
     },
     "execution_count": 61,
     "metadata": {},
     "output_type": "execute_result"
    }
   ],
   "source": [
    "new_edges_df.head(2)"
   ]
  },
  {
   "cell_type": "code",
   "execution_count": 62,
   "metadata": {},
   "outputs": [
    {
     "data": {
      "text/plain": [
       "part_of        33549\n",
       "involved_in    10775\n",
       "enables         9518\n",
       "Name: type, dtype: int64"
      ]
     },
     "execution_count": 62,
     "metadata": {},
     "output_type": "execute_result"
    }
   ],
   "source": [
    "new_edges_df['type'].value_counts()"
   ]
  },
  {
   "cell_type": "code",
   "execution_count": 63,
   "metadata": {},
   "outputs": [
    {
     "name": "stdout",
     "output_type": "stream",
     "text": [
      "Total number of new edges: 53,842\n",
      "Number of unique new edges: 53,842\n"
     ]
    }
   ],
   "source": [
    "print('Total number of new edges: {:,}'.format(len(new_edges_df)))\n",
    "print('Number of unique new edges: {:,}'.format(len(new_edges_df.drop_duplicates(subset=['start_id', 'end_id', 'type']))))"
   ]
  },
  {
   "cell_type": "code",
   "execution_count": 64,
   "metadata": {},
   "outputs": [
    {
     "name": "stdout",
     "output_type": "stream",
     "text": [
      "53842\n",
      "53842\n"
     ]
    }
   ],
   "source": [
    "all_node_ids = set(all_nodes['id']) | set(new_nodes_df['id'])\n",
    "\n",
    "print(len(new_edges_df))\n",
    "new_edges_df_filt = new_edges_df.query('start_id in @all_node_ids and end_id in @all_node_ids').copy()\n",
    "print(len(new_edges_df_filt))"
   ]
  },
  {
   "cell_type": "code",
   "execution_count": 65,
   "metadata": {},
   "outputs": [
    {
     "data": {
      "text/plain": [
       "0"
      ]
     },
     "execution_count": 65,
     "metadata": {},
     "output_type": "execute_result"
    }
   ],
   "source": [
    "len(new_edges_df) - len(new_edges_df_filt)"
   ]
  },
  {
   "cell_type": "code",
   "execution_count": 66,
   "metadata": {},
   "outputs": [
    {
     "data": {
      "text/html": [
       "<div>\n",
       "<style scoped>\n",
       "    .dataframe tbody tr th:only-of-type {\n",
       "        vertical-align: middle;\n",
       "    }\n",
       "\n",
       "    .dataframe tbody tr th {\n",
       "        vertical-align: top;\n",
       "    }\n",
       "\n",
       "    .dataframe thead th {\n",
       "        text-align: right;\n",
       "    }\n",
       "</style>\n",
       "<table border=\"1\" class=\"dataframe\">\n",
       "  <thead>\n",
       "    <tr style=\"text-align: right;\">\n",
       "      <th></th>\n",
       "      <th>id</th>\n",
       "      <th>name</th>\n",
       "      <th>label</th>\n",
       "      <th>xrefs</th>\n",
       "    </tr>\n",
       "  </thead>\n",
       "  <tbody>\n",
       "    <tr>\n",
       "      <th>632583</th>\n",
       "      <td>UBERON:0000002</td>\n",
       "      <td>cervix</td>\n",
       "      <td>Anatomy</td>\n",
       "      <td>MESH:D002584|UBERON:0000002</td>\n",
       "    </tr>\n",
       "    <tr>\n",
       "      <th>635313</th>\n",
       "      <td>UBERON:0000004</td>\n",
       "      <td>human nose</td>\n",
       "      <td>Anatomy</td>\n",
       "      <td>MESH:D009666|UBERON:0000004</td>\n",
       "    </tr>\n",
       "  </tbody>\n",
       "</table>\n",
       "</div>"
      ],
      "text/plain": [
       "                    id        name    label                        xrefs\n",
       "632583  UBERON:0000002      cervix  Anatomy  MESH:D002584|UBERON:0000002\n",
       "635313  UBERON:0000004  human nose  Anatomy  MESH:D009666|UBERON:0000004"
      ]
     },
     "execution_count": 66,
     "metadata": {},
     "output_type": "execute_result"
    }
   ],
   "source": [
    "all_nodes_out = pd.concat([all_nodes, new_nodes_df], sort=False)\n",
    "all_nodes_out = all_nodes_out.sort_values(['label', 'id'])\n",
    "all_nodes_out.head(2)"
   ]
  },
  {
   "cell_type": "code",
   "execution_count": 67,
   "metadata": {},
   "outputs": [
    {
     "data": {
      "text/html": [
       "<div>\n",
       "<style scoped>\n",
       "    .dataframe tbody tr th:only-of-type {\n",
       "        vertical-align: middle;\n",
       "    }\n",
       "\n",
       "    .dataframe tbody tr th {\n",
       "        vertical-align: top;\n",
       "    }\n",
       "\n",
       "    .dataframe thead th {\n",
       "        text-align: right;\n",
       "    }\n",
       "</style>\n",
       "<table border=\"1\" class=\"dataframe\">\n",
       "  <thead>\n",
       "    <tr style=\"text-align: right;\">\n",
       "      <th></th>\n",
       "      <th>start_id</th>\n",
       "      <th>end_id</th>\n",
       "      <th>type</th>\n",
       "      <th>dsrc_type</th>\n",
       "      <th>comp_type</th>\n",
       "      <th>p_val</th>\n",
       "      <th>adj_p</th>\n",
       "      <th>source</th>\n",
       "      <th>license</th>\n",
       "    </tr>\n",
       "  </thead>\n",
       "  <tbody>\n",
       "    <tr>\n",
       "      <th>1201453</th>\n",
       "      <td>CHEMBL:CHEMBL1743034</td>\n",
       "      <td>NCBIGene:3605</td>\n",
       "      <td>Neutralizing antibody</td>\n",
       "      <td>computed</td>\n",
       "      <td>merge</td>\n",
       "      <td>NaN</td>\n",
       "      <td>NaN</td>\n",
       "      <td>WikiData</td>\n",
       "      <td>CC0 1.0</td>\n",
       "    </tr>\n",
       "    <tr>\n",
       "      <th>1200970</th>\n",
       "      <td>CHEBI:10055</td>\n",
       "      <td>NCBIGene:153</td>\n",
       "      <td>agonist</td>\n",
       "      <td>computed</td>\n",
       "      <td>merge</td>\n",
       "      <td>NaN</td>\n",
       "      <td>NaN</td>\n",
       "      <td>WikiData</td>\n",
       "      <td>CC0 1.0</td>\n",
       "    </tr>\n",
       "  </tbody>\n",
       "</table>\n",
       "</div>"
      ],
      "text/plain": [
       "                     start_id         end_id                   type dsrc_type  \\\n",
       "1201453  CHEMBL:CHEMBL1743034  NCBIGene:3605  Neutralizing antibody  computed   \n",
       "1200970           CHEBI:10055   NCBIGene:153                agonist  computed   \n",
       "\n",
       "        comp_type p_val adj_p    source  license  \n",
       "1201453     merge   NaN   NaN  WikiData  CC0 1.0  \n",
       "1200970     merge   NaN   NaN  WikiData  CC0 1.0  "
      ]
     },
     "execution_count": 67,
     "metadata": {},
     "output_type": "execute_result"
    }
   ],
   "source": [
    "all_edges = pd.concat([edges, new_edges_df_filt], sort=False)\n",
    "all_edges = all_edges.sort_values(['type', 'start_id', 'end_id'])\n",
    "all_edges.head(2)"
   ]
  },
  {
   "cell_type": "code",
   "execution_count": 68,
   "metadata": {
    "scrolled": true
   },
   "outputs": [
    {
     "data": {
      "text/plain": [
       "True"
      ]
     },
     "execution_count": 68,
     "metadata": {},
     "output_type": "execute_result"
    }
   ],
   "source": [
    "len(all_node_ids) == len(all_nodes_out)"
   ]
  },
  {
   "cell_type": "code",
   "execution_count": 69,
   "metadata": {},
   "outputs": [
    {
     "data": {
      "text/plain": [
       "338566"
      ]
     },
     "execution_count": 69,
     "metadata": {},
     "output_type": "execute_result"
    }
   ],
   "source": [
    "all_edge_ids = all_edges[['start_id', 'end_id']].stack()\n",
    "filt_nodes_out = all_nodes_out.query('id in @all_edge_ids')\n",
    "len(filt_nodes_out)"
   ]
  },
  {
   "cell_type": "markdown",
   "metadata": {},
   "source": [
    "# Save to Disk"
   ]
  },
  {
   "cell_type": "code",
   "execution_count": 70,
   "metadata": {},
   "outputs": [],
   "source": [
    "all_nodes_out.to_csv(out_dir.joinpath('nodes.csv'), index=False)\n",
    "filt_nodes_out.to_csv(out_dir.joinpath('nodes_filt.csv'), index=False)\n",
    "\n",
    "all_edges.to_csv(out_dir.joinpath('edges.csv'), index=False)"
   ]
  }
 ],
 "metadata": {
  "kernelspec": {
   "display_name": "Python 3",
   "language": "python",
   "name": "python3"
  },
  "language_info": {
   "codemirror_mode": {
    "name": "ipython",
    "version": 3
   },
   "file_extension": ".py",
   "mimetype": "text/x-python",
   "name": "python",
   "nbconvert_exporter": "python",
   "pygments_lexer": "ipython3",
   "version": "3.7.5"
  }
 },
 "nbformat": 4,
 "nbformat_minor": 2
}
