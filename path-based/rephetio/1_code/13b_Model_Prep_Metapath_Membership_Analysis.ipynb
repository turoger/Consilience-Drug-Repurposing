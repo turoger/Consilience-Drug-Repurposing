{
 "cells": [
  {
   "cell_type": "code",
   "execution_count": 1,
   "metadata": {},
   "outputs": [
    {
     "name": "stderr",
     "output_type": "stream",
     "text": [
      "/opt/mmayers/software/anaconda3/envs/ml/lib/python3.6/site-packages/data_tools/df_processing.py:4: TqdmExperimentalWarning: Using `tqdm.autonotebook.tqdm` in notebook mode. Use `tqdm.tqdm` instead to force console mode (e.g. in jupyter console)\n",
      "  from tqdm.autonotebook import tqdm\n"
     ]
    }
   ],
   "source": [
    "import os\n",
    "import numpy as np\n",
    "import pandas as pd\n",
    "from pathlib import Path\n",
    "from tqdm.notebook import tqdm\n",
    "import data_tools.graphs as gt\n",
    "from hetnet_ml.extractor import MatrixFormattedGraph"
   ]
  },
  {
   "cell_type": "code",
   "execution_count": 2,
   "metadata": {
    "scrolled": false
   },
   "outputs": [],
   "source": [
    "man_dir = Path('../0_data/manual/').resolve()\n",
    "load_dir = Path('../2_pipeline/13a_Model_Prep_Holdout_Set/out/').resolve()"
   ]
  },
  {
   "cell_type": "code",
   "execution_count": 3,
   "metadata": {},
   "outputs": [],
   "source": [
    "nodes = pd.read_csv(load_dir.joinpath('nodes.csv'), dtype=str)\n",
    "edges = pd.read_csv(load_dir.joinpath('edges.csv'), dtype=str)"
   ]
  },
  {
   "cell_type": "code",
   "execution_count": 4,
   "metadata": {},
   "outputs": [
    {
     "data": {
      "text/html": [
       "<div>\n",
       "<style scoped>\n",
       "    .dataframe tbody tr th:only-of-type {\n",
       "        vertical-align: middle;\n",
       "    }\n",
       "\n",
       "    .dataframe tbody tr th {\n",
       "        vertical-align: top;\n",
       "    }\n",
       "\n",
       "    .dataframe thead th {\n",
       "        text-align: right;\n",
       "    }\n",
       "</style>\n",
       "<table border=\"1\" class=\"dataframe\">\n",
       "  <thead>\n",
       "    <tr style=\"text-align: right;\">\n",
       "      <th></th>\n",
       "      <th>id</th>\n",
       "      <th>name</th>\n",
       "      <th>label</th>\n",
       "      <th>xrefs</th>\n",
       "      <th>source</th>\n",
       "      <th>synonyms</th>\n",
       "      <th>alt_ids</th>\n",
       "      <th>subsets</th>\n",
       "    </tr>\n",
       "  </thead>\n",
       "  <tbody>\n",
       "    <tr>\n",
       "      <th>0</th>\n",
       "      <td>UBERON:0000002</td>\n",
       "      <td>cervix</td>\n",
       "      <td>AnatomicalEntity</td>\n",
       "      <td>MESH:D002584|UBERON:0000002</td>\n",
       "      <td>NaN</td>\n",
       "      <td>NaN</td>\n",
       "      <td>NaN</td>\n",
       "      <td>NaN</td>\n",
       "    </tr>\n",
       "    <tr>\n",
       "      <th>1</th>\n",
       "      <td>UBERON:0000004</td>\n",
       "      <td>human nose</td>\n",
       "      <td>AnatomicalEntity</td>\n",
       "      <td>MESH:D009666|UBERON:0000004</td>\n",
       "      <td>NaN</td>\n",
       "      <td>NaN</td>\n",
       "      <td>NaN</td>\n",
       "      <td>NaN</td>\n",
       "    </tr>\n",
       "  </tbody>\n",
       "</table>\n",
       "</div>"
      ],
      "text/plain": [
       "               id        name             label                        xrefs  \\\n",
       "0  UBERON:0000002      cervix  AnatomicalEntity  MESH:D002584|UBERON:0000002   \n",
       "1  UBERON:0000004  human nose  AnatomicalEntity  MESH:D009666|UBERON:0000004   \n",
       "\n",
       "  source synonyms alt_ids subsets  \n",
       "0    NaN      NaN     NaN     NaN  \n",
       "1    NaN      NaN     NaN     NaN  "
      ]
     },
     "execution_count": 4,
     "metadata": {},
     "output_type": "execute_result"
    }
   ],
   "source": [
    "nodes.head(2)"
   ]
  },
  {
   "cell_type": "code",
   "execution_count": 5,
   "metadata": {},
   "outputs": [
    {
     "data": {
      "text/plain": [
       "17277"
      ]
     },
     "execution_count": 5,
     "metadata": {},
     "output_type": "execute_result"
    }
   ],
   "source": [
    "mps = gt.dataframes_to_metagraph(nodes, edges).extract_metapaths('ChemicalSubstance', 'Disease', 4)\n",
    "mps = [mp for mp in mps if len(mp) > 1]\n",
    "len(mps)"
   ]
  },
  {
   "cell_type": "code",
   "execution_count": 6,
   "metadata": {},
   "outputs": [],
   "source": [
    "mps = [mp for mp in mps if len(mp) > 1]"
   ]
  },
  {
   "cell_type": "code",
   "execution_count": 7,
   "metadata": {},
   "outputs": [
    {
     "data": {
      "text/plain": [
       "CpoAawD"
      ]
     },
     "execution_count": 7,
     "metadata": {},
     "output_type": "execute_result"
    }
   ],
   "source": [
    "mps[0]"
   ]
  },
  {
   "cell_type": "code",
   "execution_count": 8,
   "metadata": {},
   "outputs": [],
   "source": [
    "e_info = pd.read_csv(man_dir.joinpath('edge_semtypes.csv'))\n",
    "directed_map = e_info.set_index('fwd_edge')['directed']"
   ]
  },
  {
   "cell_type": "code",
   "execution_count": 9,
   "metadata": {},
   "outputs": [
    {
     "data": {
      "application/vnd.jupyter.widget-view+json": {
       "model_id": "33537336c67442e6baaf7c36693430fd",
       "version_major": 2,
       "version_minor": 0
      },
      "text/plain": [
       "HBox(children=(FloatProgress(value=0.0, max=17277.0), HTML(value='')))"
      ]
     },
     "metadata": {},
     "output_type": "display_data"
    },
    {
     "name": "stdout",
     "output_type": "stream",
     "text": [
      "\n"
     ]
    }
   ],
   "source": [
    "similarity_paths_check = []\n",
    "\n",
    "for mp in tqdm(mps):\n",
    "    if len(mp) < 2:\n",
    "        similarity_paths_check.append(True)\n",
    "        continue\n",
    "    this_path = []\n",
    "    for label in ['ChemicalSubstance']:\n",
    "        this_path.append(gt.is_similarity(mp, ['ChemicalSubstance'], directed_map))\n",
    "    this_path.append(gt.is_similarity(mp, 'Disease', directed_map, max_repeats=1))\n",
    "    \n",
    "    # Don't want CtXaYzD edges.. Ct (and Cm) edges should be banned...\n",
    "    # Though not strictly similarity edges, they have heavy implications for Disease Phenotype similarity\n",
    "    bl_edge = ['Ct', 'Cm', 'Cdg', 'Cpl', 'Cpv']\n",
    "    for bl in bl_edge:\n",
    "        if mp.abbrev.startswith(bl) or mp.abbrev.endswith('aw'+bl+'D'):\n",
    "            this_path.append(True)\n",
    "    \n",
    "    similarity_paths_check.append(sum(this_path) > 0)"
   ]
  },
  {
   "cell_type": "code",
   "execution_count": 10,
   "metadata": {},
   "outputs": [
    {
     "data": {
      "text/plain": [
       "8284"
      ]
     },
     "execution_count": 10,
     "metadata": {},
     "output_type": "execute_result"
    }
   ],
   "source": [
    "non_sim_mps = [mp for mp, sim in zip(mps, similarity_paths_check) if not sim]\n",
    "len(non_sim_mps)"
   ]
  },
  {
   "cell_type": "code",
   "execution_count": 17,
   "metadata": {},
   "outputs": [
    {
     "data": {
      "text/plain": [
       "'47.948139%'"
      ]
     },
     "execution_count": 17,
     "metadata": {},
     "output_type": "execute_result"
    }
   ],
   "source": [
    "'{:%}'.format(len(non_sim_mps) / len(mps))"
   ]
  },
  {
   "cell_type": "markdown",
   "metadata": {},
   "source": [
    "## Routine for extracting information"
   ]
  },
  {
   "cell_type": "code",
   "execution_count": 18,
   "metadata": {},
   "outputs": [],
   "source": [
    "from copy import deepcopy\n",
    "\n",
    "def piecewise_extraction(function, to_split, block_size=1000, **params):\n",
    "    \n",
    "    assert type(to_split) == str and to_split in params\n",
    "    \n",
    "    # Won't want progress bars for each subsetx\n",
    "    params['verbose'] = False\n",
    "    \n",
    "    # Retain a copy of the original parameters\n",
    "    full_params = deepcopy(params)    \n",
    "    total = len(params[to_split])\n",
    "    \n",
    "    # Determine the number of iterations needed\n",
    "    num_iter = total // block_size\n",
    "    if total % block_size != 0:\n",
    "        num_iter += 1\n",
    "    \n",
    "    all_results = []\n",
    "    for i in tqdm(range(num_iter)):\n",
    "        \n",
    "        # Get the start and end indicies\n",
    "        start = i * block_size\n",
    "        end = (i+1) * block_size\n",
    "        \n",
    "        # End can't be larger than the total number items\n",
    "        if end > total:\n",
    "            end = total\n",
    "        \n",
    "        # Subset the paramter of interest\n",
    "        params[to_split] = full_params[to_split][start: end]\n",
    "        \n",
    "        # Get the funciton results\n",
    "        all_results.append(function(**params))\n",
    "    \n",
    "    return pd.concat(all_results, sort=False, ignore_index=True)"
   ]
  },
  {
   "cell_type": "code",
   "execution_count": 19,
   "metadata": {},
   "outputs": [
    {
     "name": "stdout",
     "output_type": "stream",
     "text": [
      "Processing node and edge data...\n",
      "Initializing metagraph...\n",
      "Generating adjacency matrices...\n"
     ]
    },
    {
     "name": "stderr",
     "output_type": "stream",
     "text": [
      "100%|██████████| 68/68 [00:55<00:00,  1.22it/s]\n"
     ]
    },
    {
     "name": "stdout",
     "output_type": "stream",
     "text": [
      "\n",
      "Determining degrees for each node and metaedge\n"
     ]
    },
    {
     "name": "stderr",
     "output_type": "stream",
     "text": [
      "100%|██████████| 68/68 [00:27<00:00,  2.47it/s]\n"
     ]
    },
    {
     "name": "stdout",
     "output_type": "stream",
     "text": [
      "\n",
      "Weighting matrices by degree with dampening factor 0.4...\n"
     ]
    },
    {
     "name": "stderr",
     "output_type": "stream",
     "text": [
      "100%|██████████| 68/68 [00:01<00:00, 55.97it/s]\n"
     ]
    }
   ],
   "source": [
    "mg = MatrixFormattedGraph(nodes, edges, 'ChemicalSubstance', 'Disease', max_length=4, w=0.4, n_jobs=30)"
   ]
  },
  {
   "cell_type": "markdown",
   "metadata": {},
   "source": [
    "# Memory requirement estimates\n",
    "\n",
    "## Estimate on memory required to extract all Compound-Disease Pairs"
   ]
  },
  {
   "cell_type": "code",
   "execution_count": 20,
   "metadata": {},
   "outputs": [],
   "source": [
    "float_size = 32 # bits\n",
    "bits_per_gb = 8589934592\n",
    "\n",
    "def print_mem_info(n_comp, n_dis, n_mps):\n",
    "    print(\"{:,} Compounds * {:,} Diseases = {:,} C-D Pairs\".format(n_comp, n_dis,\n",
    "                                                                   n_comp * n_dis))\n",
    "    print(\"{:,} C-D Pairs * {:,} Metapaths = {:,} Matrix Values\".format(n_comp * n_dis,\n",
    "                                                                    n_mps, \n",
    "                                                                    n_comp * n_dis * n_mps))\n",
    "\n",
    "    print('{:1,.1f} GB of matrix values'.format(n_comp * n_dis * n_mps * float_size / (bits_per_gb)))\n",
    "    \n",
    "    print('{:1,.3f} GB per metapath'.format(n_comp * n_dis * float_size / (bits_per_gb)))"
   ]
  },
  {
   "cell_type": "code",
   "execution_count": 21,
   "metadata": {},
   "outputs": [
    {
     "name": "stdout",
     "output_type": "stream",
     "text": [
      "40,766 Compounds * 13,961 Diseases = 569,134,126 C-D Pairs\n",
      "569,134,126 C-D Pairs * 8,284 Metapaths = 4,714,707,099,784 Matrix Values\n",
      "17,563.7 GB of matrix values\n",
      "2.120 GB per metapath\n"
     ]
    }
   ],
   "source": [
    "total_comps = nodes['label'].value_counts()['ChemicalSubstance']\n",
    "total_dis = nodes['label'].value_counts()['Disease']\n",
    "\n",
    "\n",
    "print_mem_info(total_comps, total_dis, len(non_sim_mps))"
   ]
  },
  {
   "cell_type": "code",
   "execution_count": 22,
   "metadata": {},
   "outputs": [
    {
     "data": {
      "application/vnd.jupyter.widget-view+json": {
       "model_id": "7467d32ee02d4df9ac805c50746d48db",
       "version_major": 2,
       "version_minor": 0
      },
      "text/plain": [
       "HBox(children=(FloatProgress(value=0.0, max=87.0), HTML(value='')))"
      ]
     },
     "metadata": {},
     "output_type": "display_data"
    },
    {
     "name": "stdout",
     "output_type": "stream",
     "text": [
      "\n",
      "CPU times: user 17min 57s, sys: 8min 54s, total: 26min 51s\n",
      "Wall time: 2h 3min 12s\n"
     ]
    }
   ],
   "source": [
    "%%time\n",
    "all_mp_counts = []\n",
    "\n",
    "mp_counts = piecewise_extraction(function=mg.extract_metapath_pair_counts, \n",
    "                                 to_split='metapaths', block_size=200,\n",
    "                                 metapaths=[mp.abbrev for mp in mps], \n",
    "                                 start_nodes='ChemicalSubstance', \n",
    "                                 end_nodes='Disease', \n",
    "                                 n_jobs=30)\n",
    "\n",
    "mp_counts['subset'] = 'all_pairs'\n",
    "mp_counts['frac'] = mp_counts['pair_count'] / (total_comps*total_dis)\n",
    "all_mp_counts.append(mp_counts)"
   ]
  },
  {
   "cell_type": "code",
   "execution_count": 23,
   "metadata": {},
   "outputs": [
    {
     "data": {
      "text/html": [
       "<div>\n",
       "<style scoped>\n",
       "    .dataframe tbody tr th:only-of-type {\n",
       "        vertical-align: middle;\n",
       "    }\n",
       "\n",
       "    .dataframe tbody tr th {\n",
       "        vertical-align: top;\n",
       "    }\n",
       "\n",
       "    .dataframe thead th {\n",
       "        text-align: right;\n",
       "    }\n",
       "</style>\n",
       "<table border=\"1\" class=\"dataframe\">\n",
       "  <thead>\n",
       "    <tr style=\"text-align: right;\">\n",
       "      <th></th>\n",
       "      <th>mp</th>\n",
       "      <th>pair_count</th>\n",
       "      <th>subset</th>\n",
       "      <th>frac</th>\n",
       "    </tr>\n",
       "  </thead>\n",
       "  <tbody>\n",
       "    <tr>\n",
       "      <th>0</th>\n",
       "      <td>CpoAawD</td>\n",
       "      <td>5854758</td>\n",
       "      <td>all_pairs</td>\n",
       "      <td>0.010287</td>\n",
       "    </tr>\n",
       "    <tr>\n",
       "      <th>1</th>\n",
       "      <td>CpoAsoD</td>\n",
       "      <td>0</td>\n",
       "      <td>all_pairs</td>\n",
       "      <td>0.000000</td>\n",
       "    </tr>\n",
       "  </tbody>\n",
       "</table>\n",
       "</div>"
      ],
      "text/plain": [
       "        mp  pair_count     subset      frac\n",
       "0  CpoAawD     5854758  all_pairs  0.010287\n",
       "1  CpoAsoD           0  all_pairs  0.000000"
      ]
     },
     "execution_count": 23,
     "metadata": {},
     "output_type": "execute_result"
    }
   ],
   "source": [
    "mp_counts.head(2)"
   ]
  },
  {
   "cell_type": "code",
   "execution_count": 24,
   "metadata": {},
   "outputs": [
    {
     "data": {
      "text/plain": [
       "'Percent of paths populated: 86.24%'"
      ]
     },
     "execution_count": 24,
     "metadata": {},
     "output_type": "execute_result"
    }
   ],
   "source": [
    "'Percent of paths populated: {:1.2%}'.format((mp_counts['pair_count'] != 0).sum() / len(mp_counts))"
   ]
  },
  {
   "cell_type": "markdown",
   "metadata": {},
   "source": [
    "## All potential training Positives"
   ]
  },
  {
   "cell_type": "code",
   "execution_count": 25,
   "metadata": {},
   "outputs": [
    {
     "name": "stdout",
     "output_type": "stream",
     "text": [
      "9,042 Compounds * 5,326 Diseases = 48,157,692 C-D Pairs\n",
      "48,157,692 C-D Pairs * 8,284 Metapaths = 398,938,320,528 Matrix Values\n",
      "1,486.2 GB of matrix values\n",
      "0.179 GB per metapath\n"
     ]
    }
   ],
   "source": [
    "keep_comps = set(edges.query('type == \"treats_CtD\"')['start_id'])\n",
    "keep_dis = set(edges.query('type == \"treats_CtD\"')['end_id'])\n",
    "\n",
    "print_mem_info(len(keep_comps), len(keep_dis), len(non_sim_mps))"
   ]
  },
  {
   "cell_type": "code",
   "execution_count": 26,
   "metadata": {},
   "outputs": [
    {
     "data": {
      "application/vnd.jupyter.widget-view+json": {
       "model_id": "c9a9c2c2d1d2482097c981476394ba5b",
       "version_major": 2,
       "version_minor": 0
      },
      "text/plain": [
       "HBox(children=(FloatProgress(value=0.0, max=35.0), HTML(value='')))"
      ]
     },
     "metadata": {},
     "output_type": "display_data"
    },
    {
     "name": "stdout",
     "output_type": "stream",
     "text": [
      "\n",
      "CPU times: user 6min 40s, sys: 4min, total: 10min 40s\n",
      "Wall time: 1h 1min 28s\n"
     ]
    }
   ],
   "source": [
    "%%time\n",
    "mp_counts = piecewise_extraction(function=mg.extract_metapath_pair_counts, \n",
    "                                 to_split='metapaths', block_size=500,\n",
    "                                 metapaths=[mp.abbrev for mp in mps], \n",
    "                                 start_nodes=list(keep_comps), \n",
    "                                 end_nodes=list(keep_dis), \n",
    "                                 n_jobs=30)\n",
    "\n",
    "mp_counts['subset'] = 'all_pos'\n",
    "mp_counts['frac'] = mp_counts['pair_count'] / (len(keep_comps)*len(keep_dis))\n",
    "all_mp_counts.append(mp_counts)"
   ]
  },
  {
   "cell_type": "code",
   "execution_count": 27,
   "metadata": {},
   "outputs": [
    {
     "data": {
      "text/html": [
       "<div>\n",
       "<style scoped>\n",
       "    .dataframe tbody tr th:only-of-type {\n",
       "        vertical-align: middle;\n",
       "    }\n",
       "\n",
       "    .dataframe tbody tr th {\n",
       "        vertical-align: top;\n",
       "    }\n",
       "\n",
       "    .dataframe thead th {\n",
       "        text-align: right;\n",
       "    }\n",
       "</style>\n",
       "<table border=\"1\" class=\"dataframe\">\n",
       "  <thead>\n",
       "    <tr style=\"text-align: right;\">\n",
       "      <th></th>\n",
       "      <th>mp</th>\n",
       "      <th>pair_count</th>\n",
       "      <th>subset</th>\n",
       "      <th>frac</th>\n",
       "    </tr>\n",
       "  </thead>\n",
       "  <tbody>\n",
       "    <tr>\n",
       "      <th>0</th>\n",
       "      <td>CpoAawD</td>\n",
       "      <td>523268</td>\n",
       "      <td>all_pos</td>\n",
       "      <td>0.010866</td>\n",
       "    </tr>\n",
       "    <tr>\n",
       "      <th>1</th>\n",
       "      <td>CpoAsoD</td>\n",
       "      <td>0</td>\n",
       "      <td>all_pos</td>\n",
       "      <td>0.000000</td>\n",
       "    </tr>\n",
       "  </tbody>\n",
       "</table>\n",
       "</div>"
      ],
      "text/plain": [
       "        mp  pair_count   subset      frac\n",
       "0  CpoAawD      523268  all_pos  0.010866\n",
       "1  CpoAsoD           0  all_pos  0.000000"
      ]
     },
     "execution_count": 27,
     "metadata": {},
     "output_type": "execute_result"
    }
   ],
   "source": [
    "mp_counts.head(2)"
   ]
  },
  {
   "cell_type": "code",
   "execution_count": 28,
   "metadata": {},
   "outputs": [
    {
     "data": {
      "text/plain": [
       "'Percent of paths populated: 84.64%'"
      ]
     },
     "execution_count": 28,
     "metadata": {},
     "output_type": "execute_result"
    }
   ],
   "source": [
    "'Percent of paths populated: {:1.2%}'.format((mp_counts['pair_count'] != 0).sum() / len(mp_counts))"
   ]
  },
  {
   "cell_type": "markdown",
   "metadata": {},
   "source": [
    "## Reframe Compounds and Reframe Treated Diseases\n",
    "\n"
   ]
  },
  {
   "cell_type": "code",
   "execution_count": 29,
   "metadata": {},
   "outputs": [
    {
     "data": {
      "text/plain": [
       "5970"
      ]
     },
     "execution_count": 29,
     "metadata": {},
     "output_type": "execute_result"
    }
   ],
   "source": [
    "ref_c = nodes.dropna(subset=['source'])['id'].tolist()\n",
    "len(ref_c)"
   ]
  },
  {
   "cell_type": "code",
   "execution_count": 30,
   "metadata": {},
   "outputs": [
    {
     "name": "stdout",
     "output_type": "stream",
     "text": [
      "5,970 Compounds * 4,829 Diseases = 28,829,130 C-D Pairs\n",
      "28,829,130 C-D Pairs * 8,284 Metapaths = 238,820,512,920 Matrix Values\n",
      "889.7 GB of matrix values\n",
      "0.107 GB per metapath\n"
     ]
    }
   ],
   "source": [
    "keep_comps = set(ref_c)\n",
    "keep_dis = set(edges.query('start_id in @ref_c and type == \"treats_CtD\"')['end_id'])\n",
    "\n",
    "print_mem_info(len(keep_comps), len(keep_dis), len(non_sim_mps))"
   ]
  },
  {
   "cell_type": "code",
   "execution_count": 31,
   "metadata": {},
   "outputs": [
    {
     "data": {
      "application/vnd.jupyter.widget-view+json": {
       "model_id": "0f1a16cb6d164ffe81e9d4cf9ed21aac",
       "version_major": 2,
       "version_minor": 0
      },
      "text/plain": [
       "HBox(children=(FloatProgress(value=0.0, max=18.0), HTML(value='')))"
      ]
     },
     "metadata": {},
     "output_type": "display_data"
    },
    {
     "name": "stdout",
     "output_type": "stream",
     "text": [
      "\n",
      "CPU times: user 4min 40s, sys: 2min 29s, total: 7min 10s\n",
      "Wall time: 49min 16s\n"
     ]
    }
   ],
   "source": [
    "%%time\n",
    "mp_counts = piecewise_extraction(function=mg.extract_metapath_pair_counts, \n",
    "                                 to_split='metapaths', block_size=1000,\n",
    "                                 metapaths=[mp.abbrev for mp in mps], \n",
    "                                 start_nodes=list(keep_comps), \n",
    "                                 end_nodes=list(keep_dis), \n",
    "                                 n_jobs=30)\n",
    "\n",
    "mp_counts['subset'] = 'reframe'\n",
    "mp_counts['frac'] = mp_counts['pair_count'] / (len(keep_comps)*len(keep_dis))\n",
    "all_mp_counts.append(mp_counts)"
   ]
  },
  {
   "cell_type": "code",
   "execution_count": 32,
   "metadata": {},
   "outputs": [
    {
     "data": {
      "text/html": [
       "<div>\n",
       "<style scoped>\n",
       "    .dataframe tbody tr th:only-of-type {\n",
       "        vertical-align: middle;\n",
       "    }\n",
       "\n",
       "    .dataframe tbody tr th {\n",
       "        vertical-align: top;\n",
       "    }\n",
       "\n",
       "    .dataframe thead th {\n",
       "        text-align: right;\n",
       "    }\n",
       "</style>\n",
       "<table border=\"1\" class=\"dataframe\">\n",
       "  <thead>\n",
       "    <tr style=\"text-align: right;\">\n",
       "      <th></th>\n",
       "      <th>mp</th>\n",
       "      <th>pair_count</th>\n",
       "      <th>subset</th>\n",
       "      <th>frac</th>\n",
       "    </tr>\n",
       "  </thead>\n",
       "  <tbody>\n",
       "    <tr>\n",
       "      <th>0</th>\n",
       "      <td>CpoAawD</td>\n",
       "      <td>435804</td>\n",
       "      <td>reframe</td>\n",
       "      <td>0.015117</td>\n",
       "    </tr>\n",
       "    <tr>\n",
       "      <th>1</th>\n",
       "      <td>CpoAsoD</td>\n",
       "      <td>0</td>\n",
       "      <td>reframe</td>\n",
       "      <td>0.000000</td>\n",
       "    </tr>\n",
       "  </tbody>\n",
       "</table>\n",
       "</div>"
      ],
      "text/plain": [
       "        mp  pair_count   subset      frac\n",
       "0  CpoAawD      435804  reframe  0.015117\n",
       "1  CpoAsoD           0  reframe  0.000000"
      ]
     },
     "execution_count": 32,
     "metadata": {},
     "output_type": "execute_result"
    }
   ],
   "source": [
    "mp_counts.head(2)"
   ]
  },
  {
   "cell_type": "code",
   "execution_count": 33,
   "metadata": {},
   "outputs": [
    {
     "data": {
      "text/plain": [
       "'Percent of paths populated: 82.77%'"
      ]
     },
     "execution_count": 33,
     "metadata": {},
     "output_type": "execute_result"
    }
   ],
   "source": [
    "'Percent of paths populated: {:1.2%}'.format((mp_counts['pair_count'] != 0).sum() / len(mp_counts))"
   ]
  },
  {
   "cell_type": "markdown",
   "metadata": {},
   "source": [
    "## Ideal Training Subset\n",
    "\n",
    "Ideally we need all compounds and diseases associated with training positives, as well as some negatives."
   ]
  },
  {
   "cell_type": "code",
   "execution_count": 34,
   "metadata": {},
   "outputs": [],
   "source": [
    "neg_frac = 0.1\n",
    "rs = 1234\n",
    "\n",
    "\n",
    "keep_comps = set(edges.query('type == \"treats_CtD\"')['start_id'])\n",
    "keep_comps = (keep_comps | set(nodes.query('id not in @keep_comps and label == \"ChemicalSubstance\"')\n",
    "                                    .sample(frac=neg_frac, random_state=rs)['id']))\n",
    "\n",
    "keep_dis =  set(edges.query('type == \"treats_CtD\"')['end_id'])\n",
    "keep_dis = (keep_dis | set(nodes.query('label == \"Disease\" and id not in @keep_dis')\n",
    "                                .sample(frac=neg_frac, random_state=rs+1)['id']))"
   ]
  },
  {
   "cell_type": "code",
   "execution_count": 35,
   "metadata": {},
   "outputs": [
    {
     "name": "stdout",
     "output_type": "stream",
     "text": [
      "12,214 Compounds * 6,190 Diseases = 75,604,660 C-D Pairs\n",
      "75,604,660 C-D Pairs * 8,284 Metapaths = 626,309,003,440 Matrix Values\n",
      "2,333.2 GB of matrix values\n",
      "0.282 GB per metapath\n"
     ]
    }
   ],
   "source": [
    "print_mem_info(len(keep_comps), len(keep_dis), len(non_sim_mps))"
   ]
  },
  {
   "cell_type": "code",
   "execution_count": 36,
   "metadata": {},
   "outputs": [
    {
     "data": {
      "application/vnd.jupyter.widget-view+json": {
       "model_id": "067b58fe7598457c94f4626308be3a55",
       "version_major": 2,
       "version_minor": 0
      },
      "text/plain": [
       "HBox(children=(FloatProgress(value=0.0, max=18.0), HTML(value='')))"
      ]
     },
     "metadata": {},
     "output_type": "display_data"
    },
    {
     "name": "stdout",
     "output_type": "stream",
     "text": [
      "\n",
      "CPU times: user 5min 34s, sys: 2min 40s, total: 8min 14s\n",
      "Wall time: 57min 20s\n"
     ]
    }
   ],
   "source": [
    "%%time\n",
    "mp_counts = piecewise_extraction(function=mg.extract_metapath_pair_counts, \n",
    "                                 to_split='metapaths', block_size=1000,\n",
    "                                 metapaths=[mp.abbrev for mp in mps], \n",
    "                                 start_nodes=list(keep_comps), \n",
    "                                 end_nodes=list(keep_dis), \n",
    "                                 n_jobs=30)\n",
    "\n",
    "mp_counts['subset'] = 'traning_sample'\n",
    "mp_counts['frac'] = mp_counts['pair_count'] / (len(keep_comps)*len(keep_dis))\n",
    "all_mp_counts.append(mp_counts)"
   ]
  },
  {
   "cell_type": "code",
   "execution_count": 37,
   "metadata": {},
   "outputs": [
    {
     "data": {
      "text/html": [
       "<div>\n",
       "<style scoped>\n",
       "    .dataframe tbody tr th:only-of-type {\n",
       "        vertical-align: middle;\n",
       "    }\n",
       "\n",
       "    .dataframe tbody tr th {\n",
       "        vertical-align: top;\n",
       "    }\n",
       "\n",
       "    .dataframe thead th {\n",
       "        text-align: right;\n",
       "    }\n",
       "</style>\n",
       "<table border=\"1\" class=\"dataframe\">\n",
       "  <thead>\n",
       "    <tr style=\"text-align: right;\">\n",
       "      <th></th>\n",
       "      <th>mp</th>\n",
       "      <th>pair_count</th>\n",
       "      <th>subset</th>\n",
       "      <th>frac</th>\n",
       "    </tr>\n",
       "  </thead>\n",
       "  <tbody>\n",
       "    <tr>\n",
       "      <th>0</th>\n",
       "      <td>CpoAawD</td>\n",
       "      <td>794709</td>\n",
       "      <td>traning_sample</td>\n",
       "      <td>0.010511</td>\n",
       "    </tr>\n",
       "    <tr>\n",
       "      <th>1</th>\n",
       "      <td>CpoAsoD</td>\n",
       "      <td>0</td>\n",
       "      <td>traning_sample</td>\n",
       "      <td>0.000000</td>\n",
       "    </tr>\n",
       "  </tbody>\n",
       "</table>\n",
       "</div>"
      ],
      "text/plain": [
       "        mp  pair_count          subset      frac\n",
       "0  CpoAawD      794709  traning_sample  0.010511\n",
       "1  CpoAsoD           0  traning_sample  0.000000"
      ]
     },
     "execution_count": 37,
     "metadata": {},
     "output_type": "execute_result"
    }
   ],
   "source": [
    "mp_counts.head(2)"
   ]
  },
  {
   "cell_type": "code",
   "execution_count": 38,
   "metadata": {},
   "outputs": [
    {
     "data": {
      "text/plain": [
       "'Percent of paths populated: 84.93%'"
      ]
     },
     "execution_count": 38,
     "metadata": {},
     "output_type": "execute_result"
    }
   ],
   "source": [
    "'Percent of paths populated: {:1.2%}'.format((mp_counts['pair_count'] != 0).sum() / len(mp_counts))"
   ]
  },
  {
   "cell_type": "markdown",
   "metadata": {},
   "source": [
    "##  All Training Negatives\n",
    "\n",
    "Lastly, lets take a look at all of the potnetial training negatives.  As these are compounds or diseases with no known treatments, its likely that there will be less informaiton known about them"
   ]
  },
  {
   "cell_type": "code",
   "execution_count": 39,
   "metadata": {},
   "outputs": [
    {
     "name": "stdout",
     "output_type": "stream",
     "text": [
      "31,724 Compounds * 8,635 Diseases = 273,936,740 C-D Pairs\n",
      "273,936,740 C-D Pairs * 8,284 Metapaths = 2,269,291,954,160 Matrix Values\n",
      "8,453.8 GB of matrix values\n",
      "1.020 GB per metapath\n"
     ]
    }
   ],
   "source": [
    "pos_comps = set(edges.query('type == \"treats_CtD\"')['start_id'])\n",
    "pos_dis = set(edges.query('type == \"treats_CtD\"')['end_id'])\n",
    "\n",
    "neg_comps = set(nodes.query('label == \"ChemicalSubstance\"')['id']) - pos_comps\n",
    "neg_dis = set(nodes.query('label == \"Disease\"')['id']) - pos_dis\n",
    "\n",
    "print_mem_info(len(neg_comps), len(neg_dis), len(non_sim_mps))"
   ]
  },
  {
   "cell_type": "code",
   "execution_count": 40,
   "metadata": {},
   "outputs": [
    {
     "data": {
      "application/vnd.jupyter.widget-view+json": {
       "model_id": "375d7a439a444d5481e096b89e0661f9",
       "version_major": 2,
       "version_minor": 0
      },
      "text/plain": [
       "HBox(children=(FloatProgress(value=0.0, max=50.0), HTML(value='')))"
      ]
     },
     "metadata": {},
     "output_type": "display_data"
    },
    {
     "name": "stdout",
     "output_type": "stream",
     "text": [
      "\n",
      "CPU times: user 10min 40s, sys: 4min 44s, total: 15min 24s\n",
      "Wall time: 1h 10min 32s\n"
     ]
    }
   ],
   "source": [
    "%%time\n",
    "mp_counts = piecewise_extraction(function=mg.extract_metapath_pair_counts, \n",
    "                                 to_split='metapaths', block_size=350,\n",
    "                                 metapaths=[mp.abbrev for mp in mps], \n",
    "                                 start_nodes=list(neg_comps), \n",
    "                                 end_nodes=list(neg_dis), \n",
    "                                 n_jobs=30)\n",
    "\n",
    "mp_counts['subset'] = 'negative_pairs'\n",
    "mp_counts['frac'] = mp_counts['pair_count'] / (len(keep_comps)*len(keep_dis))\n",
    "all_mp_counts.append(mp_counts)"
   ]
  },
  {
   "cell_type": "code",
   "execution_count": 41,
   "metadata": {},
   "outputs": [
    {
     "data": {
      "text/html": [
       "<div>\n",
       "<style scoped>\n",
       "    .dataframe tbody tr th:only-of-type {\n",
       "        vertical-align: middle;\n",
       "    }\n",
       "\n",
       "    .dataframe tbody tr th {\n",
       "        vertical-align: top;\n",
       "    }\n",
       "\n",
       "    .dataframe thead th {\n",
       "        text-align: right;\n",
       "    }\n",
       "</style>\n",
       "<table border=\"1\" class=\"dataframe\">\n",
       "  <thead>\n",
       "    <tr style=\"text-align: right;\">\n",
       "      <th></th>\n",
       "      <th>mp</th>\n",
       "      <th>pair_count</th>\n",
       "      <th>subset</th>\n",
       "      <th>frac</th>\n",
       "    </tr>\n",
       "  </thead>\n",
       "  <tbody>\n",
       "    <tr>\n",
       "      <th>0</th>\n",
       "      <td>CpoAawD</td>\n",
       "      <td>2679265</td>\n",
       "      <td>negative_pairs</td>\n",
       "      <td>0.035438</td>\n",
       "    </tr>\n",
       "    <tr>\n",
       "      <th>1</th>\n",
       "      <td>CpoAsoD</td>\n",
       "      <td>0</td>\n",
       "      <td>negative_pairs</td>\n",
       "      <td>0.000000</td>\n",
       "    </tr>\n",
       "  </tbody>\n",
       "</table>\n",
       "</div>"
      ],
      "text/plain": [
       "        mp  pair_count          subset      frac\n",
       "0  CpoAawD     2679265  negative_pairs  0.035438\n",
       "1  CpoAsoD           0  negative_pairs  0.000000"
      ]
     },
     "execution_count": 41,
     "metadata": {},
     "output_type": "execute_result"
    }
   ],
   "source": [
    "mp_counts.head(2)"
   ]
  },
  {
   "cell_type": "code",
   "execution_count": 42,
   "metadata": {},
   "outputs": [
    {
     "data": {
      "text/plain": [
       "'Percent of paths populated: 72.14%'"
      ]
     },
     "execution_count": 42,
     "metadata": {},
     "output_type": "execute_result"
    }
   ],
   "source": [
    "'Percent of paths populated: {:1.2%}'.format((mp_counts['pair_count'] != 0).sum() / len(mp_counts))"
   ]
  },
  {
   "cell_type": "markdown",
   "metadata": {},
   "source": [
    "## Plot some of the results"
   ]
  },
  {
   "cell_type": "code",
   "execution_count": 43,
   "metadata": {},
   "outputs": [],
   "source": [
    "%matplotlib inline\n",
    "import seaborn as sns\n",
    "from matplotlib import pyplot as plt\n",
    "from data_tools.plotting import count_plot_h"
   ]
  },
  {
   "cell_type": "code",
   "execution_count": 44,
   "metadata": {},
   "outputs": [],
   "source": [
    "non_sim_mp_names = [mp.abbrev for mp in non_sim_mps]\n",
    "\n",
    "all_mp_counts = pd.concat(all_mp_counts, sort=False, ignore_index=True)\n",
    "all_mp_counts['sim_mp'] = all_mp_counts['mp'].apply(lambda m: m not in non_sim_mp_names)\n",
    "\n",
    "no_sim_mp_counts = all_mp_counts.query('sim_mp == False')\n",
    "sim_mp_counts = all_mp_counts.query('sim_mp == True')"
   ]
  },
  {
   "cell_type": "code",
   "execution_count": 45,
   "metadata": {},
   "outputs": [
    {
     "data": {
      "image/png": "[encoded data removed]",
      "text/plain": [
       "<Figure size 432x288 with 1 Axes>"
      ]
     },
     "metadata": {
      "needs_background": "light"
     },
     "output_type": "display_data"
    }
   ],
   "source": [
    "qr = no_sim_mp_counts.query('pair_count > 0')\n",
    "frac = qr['subset'].value_counts() / no_sim_mp_counts['mp'].nunique()\n",
    "\n",
    "count_plot_h(frac, qr['subset'].value_counts())\n",
    "plt.xlim(0, 1)\n",
    "plt.xlabel('Fraction of Nonzero')\n",
    "plt.annotate('Total Metapaths:\\n    {:,}'.format(no_sim_mp_counts['mp'].nunique()), (.7, 1))\n",
    "plt.title('Fraction Nonzero Metapaths for different Compound Disease Subsets');"
   ]
  },
  {
   "cell_type": "code",
   "execution_count": 46,
   "metadata": {},
   "outputs": [
    {
     "data": {
      "image/png": "[encoded data removed]",
      "text/plain": [
       "<Figure size 432x288 with 1 Axes>"
      ]
     },
     "metadata": {
      "needs_background": "light"
     },
     "output_type": "display_data"
    }
   ],
   "source": [
    "qr = sim_mp_counts.query('pair_count > 0')\n",
    "frac = qr['subset'].value_counts() / sim_mp_counts['mp'].nunique()\n",
    "\n",
    "count_plot_h(frac, qr['subset'].value_counts())\n",
    "plt.xlim(0, 1)\n",
    "plt.xlabel('Fraction of Nonzero')\n",
    "plt.annotate('Total Metapaths:\\n    {:,}'.format(sim_mp_counts['mp'].nunique()), (.7, 1))\n",
    "plt.title('Fraction Nonzero Similarity Metapaths for different Compound Disease Subsets');"
   ]
  },
  {
   "cell_type": "code",
   "execution_count": 47,
   "metadata": {},
   "outputs": [
    {
     "data": {
      "image/png": "[encoded data removed]",
      "text/plain": [
       "<Figure size 432x288 with 1 Axes>"
      ]
     },
     "metadata": {
      "needs_background": "light"
     },
     "output_type": "display_data"
    }
   ],
   "source": [
    "sns.distplot((no_sim_mp_counts.query('subset == \"all_pairs\" and frac > 0')['frac']), label='all_pairs');\n",
    "sns.distplot((no_sim_mp_counts.query('subset == \"all_pos\" and frac > 0')['frac']), label='all_pos');\n",
    "sns.distplot((no_sim_mp_counts.query('subset == \"reframe\" and frac > 0')['frac']), label='reframe');\n",
    "sns.distplot((no_sim_mp_counts.query('subset == \"traning_sample\" and frac > 0')['frac']), label='training')\n",
    "plt.legend()\n",
    "plt.xlabel('fraction of C-D pairs that contain metapath')\n",
    "plt.ylabel('frequency')\n",
    "plt.title('Distribution of Metapath Membership by subset');"
   ]
  },
  {
   "cell_type": "code",
   "execution_count": 48,
   "metadata": {},
   "outputs": [
    {
     "data": {
      "image/png": "[encoded data removed]",
      "text/plain": [
       "<Figure size 432x288 with 1 Axes>"
      ]
     },
     "metadata": {
      "needs_background": "light"
     },
     "output_type": "display_data"
    }
   ],
   "source": [
    "sns.distplot(np.log(no_sim_mp_counts.query('subset == \"all_pairs\" and frac > 0')['frac']), label='all_pairs');\n",
    "sns.distplot(np.log(no_sim_mp_counts.query('subset == \"all_pos\" and frac > 0')['frac']), label='all_pos');\n",
    "sns.distplot(np.log(no_sim_mp_counts.query('subset == \"reframe\" and frac > 0')['frac']), label='reframe');\n",
    "sns.distplot(np.log(no_sim_mp_counts.query('subset == \"traning_sample\" and frac > 0')['frac']), label='training')\n",
    "sns.distplot(np.log(no_sim_mp_counts.query('subset == \"negative_pairs\" and frac > 0')['frac']), label='all_neg')\n",
    "\n",
    "plt.legend()\n",
    "plt.xlabel('log fraction of C-D pairs that contain metapath')\n",
    "plt.ylabel('frequency')\n",
    "plt.title('Distribution of Metapath Membership by subset');"
   ]
  },
  {
   "cell_type": "code",
   "execution_count": 49,
   "metadata": {},
   "outputs": [
    {
     "data": {
      "image/png": "[encoded data removed]",
      "text/plain": [
       "<Figure size 432x288 with 1 Axes>"
      ]
     },
     "metadata": {
      "needs_background": "light"
     },
     "output_type": "display_data"
    }
   ],
   "source": [
    "sns.distplot(np.log(sim_mp_counts.query('subset == \"all_pairs\" and frac > 0')['frac']), label='all_pairs');\n",
    "sns.distplot(np.log(sim_mp_counts.query('subset == \"all_pos\" and frac > 0')['frac']), label='all_pos');\n",
    "sns.distplot(np.log(sim_mp_counts.query('subset == \"reframe\" and frac > 0')['frac']), label='reframe');\n",
    "sns.distplot(np.log(sim_mp_counts.query('subset == \"traning_sample\" and frac > 0')['frac']), label='training')\n",
    "sns.distplot(np.log(sim_mp_counts.query('subset == \"negative_pairs\" and frac > 0')['frac']), label='all_neg')\n",
    "plt.legend()\n",
    "plt.xlabel('log fraction of C-D pairs that contain metapath')\n",
    "plt.ylabel('frequency')\n",
    "plt.title('Distribution of Similarity Metapath Membership by subset');"
   ]
  },
  {
   "cell_type": "code",
   "execution_count": 50,
   "metadata": {},
   "outputs": [
    {
     "data": {
      "text/html": [
       "<div>\n",
       "<style scoped>\n",
       "    .dataframe tbody tr th:only-of-type {\n",
       "        vertical-align: middle;\n",
       "    }\n",
       "\n",
       "    .dataframe tbody tr th {\n",
       "        vertical-align: top;\n",
       "    }\n",
       "\n",
       "    .dataframe thead th {\n",
       "        text-align: right;\n",
       "    }\n",
       "</style>\n",
       "<table border=\"1\" class=\"dataframe\">\n",
       "  <thead>\n",
       "    <tr style=\"text-align: right;\">\n",
       "      <th></th>\n",
       "      <th>mp</th>\n",
       "      <th>pair_count</th>\n",
       "      <th>subset</th>\n",
       "      <th>frac</th>\n",
       "      <th>sim_mp</th>\n",
       "    </tr>\n",
       "  </thead>\n",
       "  <tbody>\n",
       "    <tr>\n",
       "      <th>7265</th>\n",
       "      <td>CafGafCafBPawD</td>\n",
       "      <td>163596597</td>\n",
       "      <td>all_pairs</td>\n",
       "      <td>0.287448</td>\n",
       "      <td>True</td>\n",
       "    </tr>\n",
       "    <tr>\n",
       "      <th>7561</th>\n",
       "      <td>CafGmDawBPawD</td>\n",
       "      <td>163558373</td>\n",
       "      <td>all_pairs</td>\n",
       "      <td>0.287381</td>\n",
       "      <td>True</td>\n",
       "    </tr>\n",
       "    <tr>\n",
       "      <th>7228</th>\n",
       "      <td>CafGaCafBPawD</td>\n",
       "      <td>160728540</td>\n",
       "      <td>all_pairs</td>\n",
       "      <td>0.282409</td>\n",
       "      <td>True</td>\n",
       "    </tr>\n",
       "    <tr>\n",
       "      <th>7339</th>\n",
       "      <td>CafGinCafBPawD</td>\n",
       "      <td>160682629</td>\n",
       "      <td>all_pairs</td>\n",
       "      <td>0.282328</td>\n",
       "      <td>True</td>\n",
       "    </tr>\n",
       "    <tr>\n",
       "      <th>7266</th>\n",
       "      <td>CafGafCinBPawD</td>\n",
       "      <td>159381811</td>\n",
       "      <td>all_pairs</td>\n",
       "      <td>0.280043</td>\n",
       "      <td>True</td>\n",
       "    </tr>\n",
       "  </tbody>\n",
       "</table>\n",
       "</div>"
      ],
      "text/plain": [
       "                  mp  pair_count     subset      frac  sim_mp\n",
       "7265  CafGafCafBPawD   163596597  all_pairs  0.287448    True\n",
       "7561   CafGmDawBPawD   163558373  all_pairs  0.287381    True\n",
       "7228   CafGaCafBPawD   160728540  all_pairs  0.282409    True\n",
       "7339  CafGinCafBPawD   160682629  all_pairs  0.282328    True\n",
       "7266  CafGafCinBPawD   159381811  all_pairs  0.280043    True"
      ]
     },
     "execution_count": 50,
     "metadata": {},
     "output_type": "execute_result"
    }
   ],
   "source": [
    "all_mp_counts.query('subset == \"all_pairs\"').sort_values('frac', ascending=False).head()"
   ]
  },
  {
   "cell_type": "code",
   "execution_count": 51,
   "metadata": {},
   "outputs": [
    {
     "data": {
      "text/html": [
       "<div>\n",
       "<style scoped>\n",
       "    .dataframe tbody tr th:only-of-type {\n",
       "        vertical-align: middle;\n",
       "    }\n",
       "\n",
       "    .dataframe tbody tr th {\n",
       "        vertical-align: top;\n",
       "    }\n",
       "\n",
       "    .dataframe thead th {\n",
       "        text-align: right;\n",
       "    }\n",
       "</style>\n",
       "<table border=\"1\" class=\"dataframe\">\n",
       "  <thead>\n",
       "    <tr style=\"text-align: right;\">\n",
       "      <th></th>\n",
       "      <th>mp</th>\n",
       "      <th>pair_count</th>\n",
       "      <th>subset</th>\n",
       "      <th>frac</th>\n",
       "      <th>sim_mp</th>\n",
       "    </tr>\n",
       "  </thead>\n",
       "  <tbody>\n",
       "    <tr>\n",
       "      <th>8155</th>\n",
       "      <td>CafGmPawBPawD</td>\n",
       "      <td>140827796</td>\n",
       "      <td>all_pairs</td>\n",
       "      <td>0.247442</td>\n",
       "      <td>False</td>\n",
       "    </tr>\n",
       "    <tr>\n",
       "      <th>430</th>\n",
       "      <td>CafGpoBPawD</td>\n",
       "      <td>116772468</td>\n",
       "      <td>all_pairs</td>\n",
       "      <td>0.205176</td>\n",
       "      <td>False</td>\n",
       "    </tr>\n",
       "    <tr>\n",
       "      <th>8151</th>\n",
       "      <td>CafGmPawAawD</td>\n",
       "      <td>114994835</td>\n",
       "      <td>all_pairs</td>\n",
       "      <td>0.202052</td>\n",
       "      <td>False</td>\n",
       "    </tr>\n",
       "    <tr>\n",
       "      <th>8127</th>\n",
       "      <td>CafGawPawBPawD</td>\n",
       "      <td>110329561</td>\n",
       "      <td>all_pairs</td>\n",
       "      <td>0.193855</td>\n",
       "      <td>False</td>\n",
       "    </tr>\n",
       "    <tr>\n",
       "      <th>7053</th>\n",
       "      <td>CafGpoApoGawD</td>\n",
       "      <td>108441980</td>\n",
       "      <td>all_pairs</td>\n",
       "      <td>0.190539</td>\n",
       "      <td>False</td>\n",
       "    </tr>\n",
       "  </tbody>\n",
       "</table>\n",
       "</div>"
      ],
      "text/plain": [
       "                  mp  pair_count     subset      frac  sim_mp\n",
       "8155   CafGmPawBPawD   140827796  all_pairs  0.247442   False\n",
       "430      CafGpoBPawD   116772468  all_pairs  0.205176   False\n",
       "8151    CafGmPawAawD   114994835  all_pairs  0.202052   False\n",
       "8127  CafGawPawBPawD   110329561  all_pairs  0.193855   False\n",
       "7053   CafGpoApoGawD   108441980  all_pairs  0.190539   False"
      ]
     },
     "execution_count": 51,
     "metadata": {},
     "output_type": "execute_result"
    }
   ],
   "source": [
    "no_sim_mp_counts.query('subset == \"all_pairs\"').sort_values('frac', ascending=False).head()"
   ]
  },
  {
   "cell_type": "code",
   "execution_count": 52,
   "metadata": {},
   "outputs": [
    {
     "data": {
      "text/html": [
       "<div>\n",
       "<style scoped>\n",
       "    .dataframe tbody tr th:only-of-type {\n",
       "        vertical-align: middle;\n",
       "    }\n",
       "\n",
       "    .dataframe tbody tr th {\n",
       "        vertical-align: top;\n",
       "    }\n",
       "\n",
       "    .dataframe thead th {\n",
       "        text-align: right;\n",
       "    }\n",
       "</style>\n",
       "<table border=\"1\" class=\"dataframe\">\n",
       "  <thead>\n",
       "    <tr style=\"text-align: right;\">\n",
       "      <th></th>\n",
       "      <th>mp</th>\n",
       "      <th>pair_count</th>\n",
       "      <th>subset</th>\n",
       "      <th>frac</th>\n",
       "      <th>sim_mp</th>\n",
       "    </tr>\n",
       "  </thead>\n",
       "  <tbody>\n",
       "    <tr>\n",
       "      <th>22708</th>\n",
       "      <td>CtDawBPafCtD</td>\n",
       "      <td>41792564</td>\n",
       "      <td>all_pos</td>\n",
       "      <td>0.867827</td>\n",
       "      <td>True</td>\n",
       "    </tr>\n",
       "    <tr>\n",
       "      <th>22712</th>\n",
       "      <td>CtDawBPinCtD</td>\n",
       "      <td>40828495</td>\n",
       "      <td>all_pos</td>\n",
       "      <td>0.847808</td>\n",
       "      <td>True</td>\n",
       "    </tr>\n",
       "    <tr>\n",
       "      <th>22704</th>\n",
       "      <td>CtDawBPaCtD</td>\n",
       "      <td>40433596</td>\n",
       "      <td>all_pos</td>\n",
       "      <td>0.839608</td>\n",
       "      <td>True</td>\n",
       "    </tr>\n",
       "    <tr>\n",
       "      <th>23095</th>\n",
       "      <td>CtDawPWawCtD</td>\n",
       "      <td>39804906</td>\n",
       "      <td>all_pos</td>\n",
       "      <td>0.826553</td>\n",
       "      <td>True</td>\n",
       "    </tr>\n",
       "    <tr>\n",
       "      <th>22962</th>\n",
       "      <td>CtDmGafCtD</td>\n",
       "      <td>35125808</td>\n",
       "      <td>all_pos</td>\n",
       "      <td>0.729391</td>\n",
       "      <td>True</td>\n",
       "    </tr>\n",
       "  </tbody>\n",
       "</table>\n",
       "</div>"
      ],
      "text/plain": [
       "                 mp  pair_count   subset      frac  sim_mp\n",
       "22708  CtDawBPafCtD    41792564  all_pos  0.867827    True\n",
       "22712  CtDawBPinCtD    40828495  all_pos  0.847808    True\n",
       "22704   CtDawBPaCtD    40433596  all_pos  0.839608    True\n",
       "23095  CtDawPWawCtD    39804906  all_pos  0.826553    True\n",
       "22962    CtDmGafCtD    35125808  all_pos  0.729391    True"
      ]
     },
     "execution_count": 52,
     "metadata": {},
     "output_type": "execute_result"
    }
   ],
   "source": [
    "all_mp_counts.query('subset == \"all_pos\"').sort_values('frac', ascending=False).head()"
   ]
  },
  {
   "cell_type": "code",
   "execution_count": 53,
   "metadata": {},
   "outputs": [
    {
     "data": {
      "text/html": [
       "<div>\n",
       "<style scoped>\n",
       "    .dataframe tbody tr th:only-of-type {\n",
       "        vertical-align: middle;\n",
       "    }\n",
       "\n",
       "    .dataframe tbody tr th {\n",
       "        vertical-align: top;\n",
       "    }\n",
       "\n",
       "    .dataframe thead th {\n",
       "        text-align: right;\n",
       "    }\n",
       "</style>\n",
       "<table border=\"1\" class=\"dataframe\">\n",
       "  <thead>\n",
       "    <tr style=\"text-align: right;\">\n",
       "      <th></th>\n",
       "      <th>mp</th>\n",
       "      <th>pair_count</th>\n",
       "      <th>subset</th>\n",
       "      <th>frac</th>\n",
       "      <th>sim_mp</th>\n",
       "    </tr>\n",
       "  </thead>\n",
       "  <tbody>\n",
       "    <tr>\n",
       "      <th>25432</th>\n",
       "      <td>CafGmPawBPawD</td>\n",
       "      <td>18805383</td>\n",
       "      <td>all_pos</td>\n",
       "      <td>0.390496</td>\n",
       "      <td>False</td>\n",
       "    </tr>\n",
       "    <tr>\n",
       "      <th>24579</th>\n",
       "      <td>CafGrxCafBPawD</td>\n",
       "      <td>16186735</td>\n",
       "      <td>all_pos</td>\n",
       "      <td>0.336119</td>\n",
       "      <td>False</td>\n",
       "    </tr>\n",
       "    <tr>\n",
       "      <th>24329</th>\n",
       "      <td>CafGpoApoCtD</td>\n",
       "      <td>15878165</td>\n",
       "      <td>all_pos</td>\n",
       "      <td>0.329712</td>\n",
       "      <td>False</td>\n",
       "    </tr>\n",
       "    <tr>\n",
       "      <th>17707</th>\n",
       "      <td>CafGpoBPawD</td>\n",
       "      <td>15855634</td>\n",
       "      <td>all_pos</td>\n",
       "      <td>0.329244</td>\n",
       "      <td>False</td>\n",
       "    </tr>\n",
       "    <tr>\n",
       "      <th>24578</th>\n",
       "      <td>CafGrxCaBPawD</td>\n",
       "      <td>15639062</td>\n",
       "      <td>all_pos</td>\n",
       "      <td>0.324747</td>\n",
       "      <td>False</td>\n",
       "    </tr>\n",
       "  </tbody>\n",
       "</table>\n",
       "</div>"
      ],
      "text/plain": [
       "                   mp  pair_count   subset      frac  sim_mp\n",
       "25432   CafGmPawBPawD    18805383  all_pos  0.390496   False\n",
       "24579  CafGrxCafBPawD    16186735  all_pos  0.336119   False\n",
       "24329    CafGpoApoCtD    15878165  all_pos  0.329712   False\n",
       "17707     CafGpoBPawD    15855634  all_pos  0.329244   False\n",
       "24578   CafGrxCaBPawD    15639062  all_pos  0.324747   False"
      ]
     },
     "execution_count": 53,
     "metadata": {},
     "output_type": "execute_result"
    }
   ],
   "source": [
    "no_sim_mp_counts.query('subset == \"all_pos\"').sort_values('frac', ascending=False).head()"
   ]
  },
  {
   "cell_type": "markdown",
   "metadata": {},
   "source": [
    "## Save out the information"
   ]
  },
  {
   "cell_type": "code",
   "execution_count": 54,
   "metadata": {},
   "outputs": [],
   "source": [
    "this_file = '13b_Model_Prep_Metapath_Membership_Analysis'\n",
    "\n",
    "out_dir = Path('../2_pipeline').joinpath(this_file).joinpath('out').resolve()\n",
    "out_dir.mkdir(exist_ok=True, parents=True)"
   ]
  },
  {
   "cell_type": "code",
   "execution_count": 55,
   "metadata": {},
   "outputs": [],
   "source": [
    "all_mp_counts.to_csv(out_dir.joinpath('all_mp_counts.csv'), index=False)"
   ]
  }
 ],
 "metadata": {
  "kernelspec": {
   "display_name": "Python 3",
   "language": "python",
   "name": "python3"
  },
  "language_info": {
   "codemirror_mode": {
    "name": "ipython",
    "version": 3
   },
   "file_extension": ".py",
   "mimetype": "text/x-python",
   "name": "python",
   "nbconvert_exporter": "python",
   "pygments_lexer": "ipython3",
   "version": "3.6.8"
  }
 },
 "nbformat": 4,
 "nbformat_minor": 2
}
