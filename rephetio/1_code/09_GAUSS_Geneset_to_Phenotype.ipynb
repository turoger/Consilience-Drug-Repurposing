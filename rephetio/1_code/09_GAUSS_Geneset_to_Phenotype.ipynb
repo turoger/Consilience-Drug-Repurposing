{
 "cells": [
  {
   "cell_type": "markdown",
   "metadata": {},
   "source": [
    "# GAUSS Data\n",
    "\n",
    "This notebook uses a specialized dataset that at this time cannot be shared externally due to liscencing. If running this series of notebooks on your own, please skip this notebook, and use the output from `08_CTD` as input to `10_Semmantic_Compression`."
   ]
  },
  {
   "cell_type": "code",
   "execution_count": 1,
   "metadata": {},
   "outputs": [
    {
     "name": "stderr",
     "output_type": "stream",
     "text": [
      "/opt/mmayers/software/anaconda3/envs/ml/lib/python3.6/site-packages/data_tools/df_processing.py:4: TqdmExperimentalWarning: Using `tqdm.autonotebook.tqdm` in notebook mode. Use `tqdm.tqdm` instead to force console mode (e.g. in jupyter console)\n",
      "  from tqdm.autonotebook import tqdm\n"
     ]
    }
   ],
   "source": [
    "import numpy as np\n",
    "import pandas as pd\n",
    "import seaborn as sns\n",
    "from pathlib import Path\n",
    "import matplotlib.pyplot as plt\n",
    "\n",
    "from data_tools import combine_nodes_and_edges\n",
    "from data_tools.wiki import get_curi_xrefs\n",
    "from data_tools.plotting import venn2_pretty, count_plot_h\n",
    "from data_tools.df_processing import expand_col_on_char, expand_df_on_col, expand_split_col, combine_group_cols_on_char"
   ]
  },
  {
   "cell_type": "code",
   "execution_count": 2,
   "metadata": {},
   "outputs": [],
   "source": [
    "df = pd.read_csv('../0_data/external/gaussWithIdentifierMatch.tsv', sep='\\t')"
   ]
  },
  {
   "cell_type": "code",
   "execution_count": 3,
   "metadata": {},
   "outputs": [
    {
     "data": {
      "text/html": [
       "<div>\n",
       "<style scoped>\n",
       "    .dataframe tbody tr th:only-of-type {\n",
       "        vertical-align: middle;\n",
       "    }\n",
       "\n",
       "    .dataframe tbody tr th {\n",
       "        vertical-align: top;\n",
       "    }\n",
       "\n",
       "    .dataframe thead th {\n",
       "        text-align: right;\n",
       "    }\n",
       "</style>\n",
       "<table border=\"1\" class=\"dataframe\">\n",
       "  <thead>\n",
       "    <tr style=\"text-align: right;\">\n",
       "      <th></th>\n",
       "      <th>DB</th>\n",
       "      <th>ICD9code</th>\n",
       "      <th>PID</th>\n",
       "      <th>cases</th>\n",
       "      <th>category</th>\n",
       "      <th>controls</th>\n",
       "      <th>gaussName</th>\n",
       "      <th>geneSet</th>\n",
       "      <th>pval</th>\n",
       "      <th>selectedGenes</th>\n",
       "    </tr>\n",
       "  </thead>\n",
       "  <tbody>\n",
       "    <tr>\n",
       "      <th>0</th>\n",
       "      <td>DOID:11329</td>\n",
       "      <td>136.0</td>\n",
       "      <td>GO:0005549</td>\n",
       "      <td>205.0</td>\n",
       "      <td>infectious diseases</td>\n",
       "      <td>408429.0</td>\n",
       "      <td>Other infectious and parasitic diseases</td>\n",
       "      <td>GO_ODORANT_BINDING</td>\n",
       "      <td>0.004</td>\n",
       "      <td>OR5H6,OR5K3,OR5K4,OR5L2,OR5J2,OR8U1,OR8A1,OR11...</td>\n",
       "    </tr>\n",
       "    <tr>\n",
       "      <th>1</th>\n",
       "      <td>DOID:3277</td>\n",
       "      <td>164.0</td>\n",
       "      <td>GO:0005549</td>\n",
       "      <td>57.0</td>\n",
       "      <td>neoplasms</td>\n",
       "      <td>406226.0</td>\n",
       "      <td>Cancer of intrathoracic organs</td>\n",
       "      <td>GO_ODORANT_BINDING</td>\n",
       "      <td>0.020</td>\n",
       "      <td>OR5B2,OR8J3,OR5H1,OR5H14,OR5D13,OR8H3,OR5B12,O...</td>\n",
       "    </tr>\n",
       "  </tbody>\n",
       "</table>\n",
       "</div>"
      ],
      "text/plain": [
       "           DB  ICD9code         PID  cases             category  controls  \\\n",
       "0  DOID:11329     136.0  GO:0005549  205.0  infectious diseases  408429.0   \n",
       "1   DOID:3277     164.0  GO:0005549   57.0            neoplasms  406226.0   \n",
       "\n",
       "                                 gaussName             geneSet   pval  \\\n",
       "0  Other infectious and parasitic diseases  GO_ODORANT_BINDING  0.004   \n",
       "1           Cancer of intrathoracic organs  GO_ODORANT_BINDING  0.020   \n",
       "\n",
       "                                       selectedGenes  \n",
       "0  OR5H6,OR5K3,OR5K4,OR5L2,OR5J2,OR8U1,OR8A1,OR11...  \n",
       "1  OR5B2,OR8J3,OR5H1,OR5H14,OR5D13,OR8H3,OR5B12,O...  "
      ]
     },
     "execution_count": 3,
     "metadata": {},
     "output_type": "execute_result"
    }
   ],
   "source": [
    "df.head(2)"
   ]
  },
  {
   "cell_type": "code",
   "execution_count": 4,
   "metadata": {},
   "outputs": [],
   "source": [
    "df['dis_source'] = df['DB'].apply(lambda s: s.split(':')[0])"
   ]
  },
  {
   "cell_type": "code",
   "execution_count": 5,
   "metadata": {},
   "outputs": [],
   "source": [
    "df['gset_source'] = df['PID'].apply(lambda s: s.split(':')[0])"
   ]
  },
  {
   "cell_type": "code",
   "execution_count": 6,
   "metadata": {},
   "outputs": [],
   "source": [
    "nodes = pd.read_csv('../2_pipeline/08_CTD/out/nodes.csv', dtype=str)\n",
    "edges = pd.read_csv('../2_pipeline/08_CTD/out/edges.csv', dtype=str)"
   ]
  },
  {
   "cell_type": "code",
   "execution_count": 7,
   "metadata": {},
   "outputs": [],
   "source": [
    "combo = combine_nodes_and_edges(nodes, edges)"
   ]
  },
  {
   "cell_type": "markdown",
   "metadata": {},
   "source": [
    "# Map Disease and get Gene to disease links"
   ]
  },
  {
   "cell_type": "markdown",
   "metadata": {},
   "source": [
    "### Mapping To the Network"
   ]
  },
  {
   "cell_type": "code",
   "execution_count": 8,
   "metadata": {},
   "outputs": [],
   "source": [
    "umls_to_nw = get_curi_xrefs(nodes, 'UMLS')\n",
    "mesh_to_nw = get_curi_xrefs(nodes, 'MESH')\n",
    "doid_to_nw = get_curi_xrefs(nodes, 'DOID')"
   ]
  },
  {
   "cell_type": "code",
   "execution_count": 9,
   "metadata": {},
   "outputs": [
    {
     "data": {
      "text/html": [
       "<div>\n",
       "<style scoped>\n",
       "    .dataframe tbody tr th:only-of-type {\n",
       "        vertical-align: middle;\n",
       "    }\n",
       "\n",
       "    .dataframe tbody tr th {\n",
       "        vertical-align: top;\n",
       "    }\n",
       "\n",
       "    .dataframe thead th {\n",
       "        text-align: right;\n",
       "    }\n",
       "</style>\n",
       "<table border=\"1\" class=\"dataframe\">\n",
       "  <thead>\n",
       "    <tr style=\"text-align: right;\">\n",
       "      <th></th>\n",
       "      <th>id</th>\n",
       "      <th>xrefs</th>\n",
       "    </tr>\n",
       "  </thead>\n",
       "  <tbody>\n",
       "    <tr>\n",
       "      <th>38215</th>\n",
       "      <td>DOID:0001816</td>\n",
       "      <td>UMLS:C0018923</td>\n",
       "    </tr>\n",
       "    <tr>\n",
       "      <th>38216</th>\n",
       "      <td>DOID:0001816</td>\n",
       "      <td>UMLS:C0854893</td>\n",
       "    </tr>\n",
       "  </tbody>\n",
       "</table>\n",
       "</div>"
      ],
      "text/plain": [
       "                 id          xrefs\n",
       "38215  DOID:0001816  UMLS:C0018923\n",
       "38216  DOID:0001816  UMLS:C0854893"
      ]
     },
     "execution_count": 9,
     "metadata": {},
     "output_type": "execute_result"
    }
   ],
   "source": [
    "umls_to_nw.head(2)"
   ]
  },
  {
   "cell_type": "code",
   "execution_count": 10,
   "metadata": {},
   "outputs": [],
   "source": [
    "nw_ids = nodes['id'].tolist()"
   ]
  },
  {
   "cell_type": "code",
   "execution_count": 11,
   "metadata": {},
   "outputs": [],
   "source": [
    "umls_mrg = df.merge(umls_to_nw.rename(columns={'xrefs': 'DB'}), on='DB', how='inner')\n",
    "mesh_mrg = df.merge(mesh_to_nw.rename(columns={'xrefs': 'DB'}), on='DB', how='inner')\n",
    "doid_mrg = df.merge(doid_to_nw.rename(columns={'xrefs': 'DB'}), on='DB', how='inner')\n",
    "direct_map = df.query('DB in @nw_ids').copy()\n",
    "direct_map['id'] = direct_map['DB']\n",
    "\n",
    "dis_mapped = pd.concat([umls_mrg, mesh_mrg, doid_mrg, direct_map]).drop_duplicates()\n",
    "dis_mapped = dis_mapped.rename(columns={'id': 'dis_id'})"
   ]
  },
  {
   "cell_type": "code",
   "execution_count": 12,
   "metadata": {},
   "outputs": [
    {
     "data": {
      "text/plain": [
       "37464"
      ]
     },
     "execution_count": 12,
     "metadata": {},
     "output_type": "execute_result"
    }
   ],
   "source": [
    "len(dis_mapped)"
   ]
  },
  {
   "cell_type": "markdown",
   "metadata": {},
   "source": [
    "### Getting Disease to Gene Links"
   ]
  },
  {
   "cell_type": "code",
   "execution_count": 13,
   "metadata": {},
   "outputs": [],
   "source": [
    "sym_xref = get_curi_xrefs(nodes, 'SYM')"
   ]
  },
  {
   "cell_type": "code",
   "execution_count": 14,
   "metadata": {},
   "outputs": [],
   "source": [
    "dis_exp = expand_col_on_char(dis_mapped, 'selectedGenes', ',')\n",
    "dis_exp['selectedGenes'] = 'SYM:' + dis_exp['selectedGenes']\n",
    "dis_exp = dis_exp.merge(sym_xref.rename(columns={'id': 'gene_id', 'xrefs': 'selectedGenes'}), how='left')"
   ]
  },
  {
   "cell_type": "code",
   "execution_count": 15,
   "metadata": {},
   "outputs": [
    {
     "data": {
      "text/plain": [
       "0.9628591740368879"
      ]
     },
     "execution_count": 15,
     "metadata": {},
     "output_type": "execute_result"
    }
   ],
   "source": [
    "dis_exp['gene_id'].count() / len(dis_exp)"
   ]
  },
  {
   "cell_type": "code",
   "execution_count": 16,
   "metadata": {},
   "outputs": [
    {
     "data": {
      "text/plain": [
       "129303"
      ]
     },
     "execution_count": 16,
     "metadata": {},
     "output_type": "execute_result"
    }
   ],
   "source": [
    "dis_gene = dis_exp.dropna(subset=['dis_id', 'gene_id'])[['dis_id', 'gene_id']].drop_duplicates()\n",
    "\n",
    "len(dis_gene)"
   ]
  },
  {
   "cell_type": "code",
   "execution_count": 17,
   "metadata": {},
   "outputs": [],
   "source": [
    "gene_dis_tups = dis_gene[['gene_id', 'dis_id']].dropna().apply(tuple, axis=1)"
   ]
  },
  {
   "cell_type": "markdown",
   "metadata": {},
   "source": [
    "### Compare these mappings to those in NW"
   ]
  },
  {
   "cell_type": "code",
   "execution_count": 18,
   "metadata": {},
   "outputs": [],
   "source": [
    "gene_ids = dis_gene['gene_id'].dropna().unique()\n",
    "g_lbl = nodes.query('id in @gene_ids')['label'].unique()\n",
    "\n",
    "dis_ids = dis_gene['dis_id'].unique()\n",
    "dis_lbl = nodes.query('id in @dis_ids')['label'].unique()"
   ]
  },
  {
   "cell_type": "code",
   "execution_count": 19,
   "metadata": {},
   "outputs": [],
   "source": [
    "nw_gd_e_tup = combo.query('start_label in @g_lbl and end_label in @dis_lbl')[['start_id', 'end_id']].apply(tuple, axis=1)"
   ]
  },
  {
   "cell_type": "code",
   "execution_count": 20,
   "metadata": {},
   "outputs": [
    {
     "data": {
      "image/png": "[encoded data removed]",
      "text/plain": [
       "<Figure size 432x288 with 1 Axes>"
      ]
     },
     "metadata": {},
     "output_type": "display_data"
    }
   ],
   "source": [
    "v = venn2_pretty([set(gene_dis_tups), set(nw_gd_e_tup)], ['GAUSS Edges' ,'Network Edges'])\n",
    "plt.title('Gene - Associated With - Disease Edges');"
   ]
  },
  {
   "cell_type": "markdown",
   "metadata": {},
   "source": [
    "# Map Genesets to network and get Gene to GeneSet Edges"
   ]
  },
  {
   "cell_type": "markdown",
   "metadata": {},
   "source": [
    "### Map the genesets to the network"
   ]
  },
  {
   "cell_type": "code",
   "execution_count": 21,
   "metadata": {},
   "outputs": [
    {
     "data": {
      "text/plain": [
       "GO               55087\n",
       "KEGG              2031\n",
       "R-HSA-379726        94\n",
       "R-HSA-381753        85\n",
       "R-HSA-140342        79\n",
       "R-HSA-977606        75\n",
       "R-HSA-933542        67\n",
       "R-HSA-879415        66\n",
       "R-HSA-180689        64\n",
       "R-HSA-9013694       64\n",
       "R-HSA-435354        64\n",
       "R-HSA-1236977       63\n",
       "R-HSA-379724        63\n",
       "R-HSA-6783310       61\n",
       "R-HSA-918233        59\n",
       "R-HSA-622323        59\n",
       "R-HSA-1236975       59\n",
       "R-HSA-166663        59\n",
       "R-HSA-1483191       58\n",
       "R-HSA-1236974       57\n",
       "R-HSA-375281        55\n",
       "R-HSA-159854        55\n",
       "R-HSA-549132        55\n",
       "R-HSA-983189        55\n",
       "R-HSA-629594        54\n",
       "R-HSA-1433559       54\n",
       "R-HSA-264870        54\n",
       "R-HSA-2142845       53\n",
       "R-HSA-382556        52\n",
       "R-HSA-1912420       51\n",
       "                 ...  \n",
       "R-HSA-975138         9\n",
       "R-HSA-912694         9\n",
       "R-HSA-168249         9\n",
       "R-HSA-193648         8\n",
       "R-HSA-157118         8\n",
       "R-HSA-162906         8\n",
       "R-HSA-163210         8\n",
       "R-HSA-71406          8\n",
       "R-HSA-69481          8\n",
       "R-HSA-975110         8\n",
       "R-HSA-112043         7\n",
       "R-HSA-416476         7\n",
       "R-HSA-109582         7\n",
       "R-HSA-186797         7\n",
       "R-HSA-438064         7\n",
       "R-HSA-881907         7\n",
       "R-HSA-1266738        7\n",
       "R-HSA-388841         7\n",
       "R-HSA-74752          7\n",
       "R-HSA-8953854        7\n",
       "R-HSA-204998         6\n",
       "R-HSA-373760         6\n",
       "R-HSA-109704         6\n",
       "R-HSA-389513         6\n",
       "R-HSA-71387          6\n",
       "R-HSA-418346         5\n",
       "R-HSA-74751          3\n",
       "R-HSA-112316         3\n",
       "R-HSA-421270         2\n",
       "R-HSA-392499         2\n",
       "Name: gset_source, Length: 206, dtype: int64"
      ]
     },
     "execution_count": 21,
     "metadata": {},
     "output_type": "execute_result"
    }
   ],
   "source": [
    "df['gset_source'].value_counts()"
   ]
  },
  {
   "cell_type": "code",
   "execution_count": 22,
   "metadata": {},
   "outputs": [
    {
     "data": {
      "text/plain": [
       "GO       55087\n",
       "REACT     5815\n",
       "KEGG      2031\n",
       "Name: gset_source, dtype: int64"
      ]
     },
     "execution_count": 22,
     "metadata": {},
     "output_type": "execute_result"
    }
   ],
   "source": [
    "react_idx = df.query('gset_source not in {}'.format(['GO', 'KEGG'])).index\n",
    "\n",
    "df.loc[react_idx, 'gset_source'] = 'REACT'\n",
    "df.loc[react_idx, 'PID'] = 'REACT:' + df.loc[react_idx, 'PID']\n",
    "\n",
    "df['gset_source'].value_counts()"
   ]
  },
  {
   "cell_type": "code",
   "execution_count": 23,
   "metadata": {},
   "outputs": [],
   "source": [
    "go_to_nw = get_curi_xrefs(nodes, 'GO')\n",
    "kegg_to_nw = get_curi_xrefs(nodes, 'KEGG')\n",
    "react_to_nw = get_curi_xrefs(nodes, 'REACT')"
   ]
  },
  {
   "cell_type": "code",
   "execution_count": 24,
   "metadata": {},
   "outputs": [],
   "source": [
    "nw_kegg_ids = nodes[nodes['id'].str.startswith('KEGG:')]['id'].unique()"
   ]
  },
  {
   "cell_type": "code",
   "execution_count": 25,
   "metadata": {},
   "outputs": [
    {
     "data": {
      "text/plain": [
       "array(['KEGG:63515', 'KEGG:C03030', 'KEGG:C03365', 'KEGG:C10890',\n",
       "       'KEGG:D02152', 'KEGG:D03111', 'KEGG:D03420', 'KEGG:D04136',\n",
       "       'KEGG:D05061', 'KEGG:D07744'], dtype=object)"
      ]
     },
     "execution_count": 25,
     "metadata": {},
     "output_type": "execute_result"
    }
   ],
   "source": [
    "nw_kegg_ids[:10]"
   ]
  },
  {
   "cell_type": "code",
   "execution_count": 26,
   "metadata": {},
   "outputs": [
    {
     "data": {
      "text/plain": [
       "array(['KEGG:04740', 'KEGG:00310', 'KEGG:04512', 'KEGG:04740',\n",
       "       'KEGG:04610', 'KEGG:00310', 'KEGG:05200', 'KEGG:05222',\n",
       "       'KEGG:04740', 'KEGG:04742'], dtype=object)"
      ]
     },
     "execution_count": 26,
     "metadata": {},
     "output_type": "execute_result"
    }
   ],
   "source": [
    "df.query('gset_source == \"KEGG\"')['PID'].values[:10]"
   ]
  },
  {
   "cell_type": "markdown",
   "metadata": {},
   "source": [
    "There appears to be a species tag that is missing from this data source.  We will add it with a custom function"
   ]
  },
  {
   "cell_type": "code",
   "execution_count": 27,
   "metadata": {},
   "outputs": [],
   "source": [
    "def add_kegg_hsa(kegg_id):\n",
    "    pref, kid = kegg_id.split(':')\n",
    "    \n",
    "    try:\n",
    "        # If it is an integer, needs hsa, otherwise keep as is\n",
    "        int_kid = int(kid)\n",
    "    except:\n",
    "        return kegg_id\n",
    "    \n",
    "    return 'KEGG:hsa{}'.format(kid)"
   ]
  },
  {
   "cell_type": "code",
   "execution_count": 28,
   "metadata": {},
   "outputs": [
    {
     "data": {
      "text/plain": [
       "array(['KEGG:hsa04740', 'KEGG:hsa00310', 'KEGG:hsa04512', 'KEGG:hsa04740',\n",
       "       'KEGG:hsa04610', 'KEGG:hsa00310', 'KEGG:hsa05200', 'KEGG:hsa05222',\n",
       "       'KEGG:hsa04740', 'KEGG:hsa04742'], dtype=object)"
      ]
     },
     "execution_count": 28,
     "metadata": {},
     "output_type": "execute_result"
    }
   ],
   "source": [
    "kegg_idx = df.query('gset_source == \"KEGG\"').index\n",
    "\n",
    "df.loc[kegg_idx, 'PID'] = df.loc[kegg_idx, 'PID'].apply(add_kegg_hsa)\n",
    "df.query('gset_source == \"KEGG\"')['PID'].values[:10]"
   ]
  },
  {
   "cell_type": "code",
   "execution_count": 29,
   "metadata": {},
   "outputs": [
    {
     "data": {
      "text/plain": [
       "(77, 78)"
      ]
     },
     "execution_count": 29,
     "metadata": {},
     "output_type": "execute_result"
    }
   ],
   "source": [
    "len(set(nw_kegg_ids) & set(df.query('gset_source == \"KEGG\"')['PID'])), df.query('gset_source == \"KEGG\"')['PID'].nunique()"
   ]
  },
  {
   "cell_type": "markdown",
   "metadata": {},
   "source": [
    "77 out of 78. Doing well now. So lets proceed with the merge"
   ]
  },
  {
   "cell_type": "code",
   "execution_count": 30,
   "metadata": {},
   "outputs": [
    {
     "data": {
      "text/plain": [
       "59541"
      ]
     },
     "execution_count": 30,
     "metadata": {},
     "output_type": "execute_result"
    }
   ],
   "source": [
    "go_mrg = df.merge(go_to_nw.rename(columns={'xrefs': 'PID'}), on='PID', how='inner')\n",
    "kegg_mrg = df.merge(kegg_to_nw.rename(columns={'xrefs': 'PID'}), on='PID', how='inner')\n",
    "react_mrg = df.merge(react_to_nw.rename(columns={'xrefs': 'PID'}), on='PID', how='inner')\n",
    "direct_map = df.query('PID in @nw_ids').copy()\n",
    "direct_map['id'] = direct_map['PID']\n",
    "\n",
    "gset_mapped = pd.concat([go_mrg, kegg_mrg, react_mrg, direct_map], sort=False).drop_duplicates()\n",
    "gset_mapped = gset_mapped.rename(columns={'id': 'gset_id'})\n",
    "len(gset_mapped)"
   ]
  },
  {
   "cell_type": "markdown",
   "metadata": {},
   "source": [
    "### Read in Gene to GeneSet information"
   ]
  },
  {
   "cell_type": "code",
   "execution_count": 31,
   "metadata": {},
   "outputs": [
    {
     "data": {
      "text/html": [
       "<div>\n",
       "<style scoped>\n",
       "    .dataframe tbody tr th:only-of-type {\n",
       "        vertical-align: middle;\n",
       "    }\n",
       "\n",
       "    .dataframe tbody tr th {\n",
       "        vertical-align: top;\n",
       "    }\n",
       "\n",
       "    .dataframe thead th {\n",
       "        text-align: right;\n",
       "    }\n",
       "</style>\n",
       "<table border=\"1\" class=\"dataframe\">\n",
       "  <thead>\n",
       "    <tr style=\"text-align: right;\">\n",
       "      <th></th>\n",
       "      <th>pathName</th>\n",
       "      <th>geneSetList</th>\n",
       "    </tr>\n",
       "  </thead>\n",
       "  <tbody>\n",
       "    <tr>\n",
       "      <th>0</th>\n",
       "      <td>GO_3_5_DNA_HELICASE_ACTIVITY</td>\n",
       "      <td>[\"FBXO18\",\"RECQL5\",\"GINS1\",\"ERCC3\",\"ASCC3\",\"GI...</td>\n",
       "    </tr>\n",
       "    <tr>\n",
       "      <th>1</th>\n",
       "      <td>GO_5_3_EXONUCLEASE_ACTIVITY</td>\n",
       "      <td>[\"XRN2\",\"DCLRE1C\",\"POLN\",\"CPSF3\",\"EXO1\",\"DCLRE...</td>\n",
       "    </tr>\n",
       "  </tbody>\n",
       "</table>\n",
       "</div>"
      ],
      "text/plain": [
       "                       pathName  \\\n",
       "0  GO_3_5_DNA_HELICASE_ACTIVITY   \n",
       "1   GO_5_3_EXONUCLEASE_ACTIVITY   \n",
       "\n",
       "                                         geneSetList  \n",
       "0  [\"FBXO18\",\"RECQL5\",\"GINS1\",\"ERCC3\",\"ASCC3\",\"GI...  \n",
       "1  [\"XRN2\",\"DCLRE1C\",\"POLN\",\"CPSF3\",\"EXO1\",\"DCLRE...  "
      ]
     },
     "execution_count": 31,
     "metadata": {},
     "output_type": "execute_result"
    }
   ],
   "source": [
    "g_gs = pd.read_csv('../0_data/external/genesWithinGeneset.tsv', sep='\\t')\n",
    "g_gs.head(2)"
   ]
  },
  {
   "cell_type": "code",
   "execution_count": 32,
   "metadata": {},
   "outputs": [],
   "source": [
    "g_gs['geneSetList'] = g_gs['geneSetList'].apply(eval)"
   ]
  },
  {
   "cell_type": "code",
   "execution_count": 33,
   "metadata": {},
   "outputs": [
    {
     "data": {
      "text/html": [
       "<div>\n",
       "<style scoped>\n",
       "    .dataframe tbody tr th:only-of-type {\n",
       "        vertical-align: middle;\n",
       "    }\n",
       "\n",
       "    .dataframe tbody tr th {\n",
       "        vertical-align: top;\n",
       "    }\n",
       "\n",
       "    .dataframe thead th {\n",
       "        text-align: right;\n",
       "    }\n",
       "</style>\n",
       "<table border=\"1\" class=\"dataframe\">\n",
       "  <thead>\n",
       "    <tr style=\"text-align: right;\">\n",
       "      <th></th>\n",
       "      <th>pathName</th>\n",
       "      <th>geneSetList</th>\n",
       "      <th>n_genes</th>\n",
       "    </tr>\n",
       "  </thead>\n",
       "  <tbody>\n",
       "    <tr>\n",
       "      <th>1667</th>\n",
       "      <td>GO_PROTEIN_LOCALIZATION</td>\n",
       "      <td>[AKT2, INPP5K, TIMM10, WRAP53, RHOU, RAB3GAP2,...</td>\n",
       "      <td>1805</td>\n",
       "    </tr>\n",
       "    <tr>\n",
       "      <th>200</th>\n",
       "      <td>GO_CELLULAR_CATABOLIC_PROCESS</td>\n",
       "      <td>[UBE2G2, HADHB, PLA2G4A, RNF20, CCBL1, CPN1, T...</td>\n",
       "      <td>1322</td>\n",
       "    </tr>\n",
       "  </tbody>\n",
       "</table>\n",
       "</div>"
      ],
      "text/plain": [
       "                           pathName  \\\n",
       "1667        GO_PROTEIN_LOCALIZATION   \n",
       "200   GO_CELLULAR_CATABOLIC_PROCESS   \n",
       "\n",
       "                                            geneSetList  n_genes  \n",
       "1667  [AKT2, INPP5K, TIMM10, WRAP53, RHOU, RAB3GAP2,...     1805  \n",
       "200   [UBE2G2, HADHB, PLA2G4A, RNF20, CCBL1, CPN1, T...     1322  "
      ]
     },
     "execution_count": 33,
     "metadata": {},
     "output_type": "execute_result"
    }
   ],
   "source": [
    "g_gs['n_genes'] = g_gs['geneSetList'].apply(len)\n",
    "g_gs.query('n_genes > 1000').sample(2)"
   ]
  },
  {
   "cell_type": "code",
   "execution_count": 34,
   "metadata": {},
   "outputs": [
    {
     "data": {
      "image/png": "[encoded data removed]",
      "text/plain": [
       "<Figure size 432x288 with 1 Axes>"
      ]
     },
     "metadata": {
      "needs_background": "light"
     },
     "output_type": "display_data"
    }
   ],
   "source": [
    "sns.distplot(g_gs['geneSetList'].apply(len), kde=False)\n",
    "plt.title('Distribution of Genes per GeneSet');"
   ]
  },
  {
   "cell_type": "code",
   "execution_count": 35,
   "metadata": {},
   "outputs": [
    {
     "data": {
      "text/html": [
       "<div>\n",
       "<style scoped>\n",
       "    .dataframe tbody tr th:only-of-type {\n",
       "        vertical-align: middle;\n",
       "    }\n",
       "\n",
       "    .dataframe tbody tr th {\n",
       "        vertical-align: top;\n",
       "    }\n",
       "\n",
       "    .dataframe thead th {\n",
       "        text-align: right;\n",
       "    }\n",
       "</style>\n",
       "<table border=\"1\" class=\"dataframe\">\n",
       "  <thead>\n",
       "    <tr style=\"text-align: right;\">\n",
       "      <th></th>\n",
       "      <th>pathName</th>\n",
       "      <th>geneSetList</th>\n",
       "      <th>n_genes</th>\n",
       "    </tr>\n",
       "  </thead>\n",
       "  <tbody>\n",
       "    <tr>\n",
       "      <th>0</th>\n",
       "      <td>GO_3_5_DNA_HELICASE_ACTIVITY</td>\n",
       "      <td>FBXO18</td>\n",
       "      <td>12</td>\n",
       "    </tr>\n",
       "    <tr>\n",
       "      <th>1</th>\n",
       "      <td>GO_3_5_DNA_HELICASE_ACTIVITY</td>\n",
       "      <td>RECQL5</td>\n",
       "      <td>12</td>\n",
       "    </tr>\n",
       "  </tbody>\n",
       "</table>\n",
       "</div>"
      ],
      "text/plain": [
       "                       pathName geneSetList  n_genes\n",
       "0  GO_3_5_DNA_HELICASE_ACTIVITY      FBXO18       12\n",
       "1  GO_3_5_DNA_HELICASE_ACTIVITY      RECQL5       12"
      ]
     },
     "execution_count": 35,
     "metadata": {},
     "output_type": "execute_result"
    }
   ],
   "source": [
    "g_gs = expand_df_on_col(g_gs, 'geneSetList')\n",
    "g_gs.head(2)"
   ]
  },
  {
   "cell_type": "code",
   "execution_count": 36,
   "metadata": {},
   "outputs": [
    {
     "data": {
      "text/html": [
       "<div>\n",
       "<style scoped>\n",
       "    .dataframe tbody tr th:only-of-type {\n",
       "        vertical-align: middle;\n",
       "    }\n",
       "\n",
       "    .dataframe tbody tr th {\n",
       "        vertical-align: top;\n",
       "    }\n",
       "\n",
       "    .dataframe thead th {\n",
       "        text-align: right;\n",
       "    }\n",
       "</style>\n",
       "<table border=\"1\" class=\"dataframe\">\n",
       "  <thead>\n",
       "    <tr style=\"text-align: right;\">\n",
       "      <th></th>\n",
       "      <th>pathName</th>\n",
       "      <th>geneSetList</th>\n",
       "      <th>n_genes</th>\n",
       "      <th>gene_id</th>\n",
       "    </tr>\n",
       "  </thead>\n",
       "  <tbody>\n",
       "    <tr>\n",
       "      <th>0</th>\n",
       "      <td>GO_3_5_DNA_HELICASE_ACTIVITY</td>\n",
       "      <td>SYM:FBXO18</td>\n",
       "      <td>12</td>\n",
       "      <td>NaN</td>\n",
       "    </tr>\n",
       "    <tr>\n",
       "      <th>1</th>\n",
       "      <td>GO_3_5_DNA_HELICASE_ACTIVITY</td>\n",
       "      <td>SYM:RECQL5</td>\n",
       "      <td>12</td>\n",
       "      <td>NCBIGene:9400</td>\n",
       "    </tr>\n",
       "  </tbody>\n",
       "</table>\n",
       "</div>"
      ],
      "text/plain": [
       "                       pathName geneSetList  n_genes        gene_id\n",
       "0  GO_3_5_DNA_HELICASE_ACTIVITY  SYM:FBXO18       12            NaN\n",
       "1  GO_3_5_DNA_HELICASE_ACTIVITY  SYM:RECQL5       12  NCBIGene:9400"
      ]
     },
     "execution_count": 36,
     "metadata": {},
     "output_type": "execute_result"
    }
   ],
   "source": [
    "g_gs['geneSetList'] = 'SYM:' + g_gs['geneSetList']\n",
    "g_gs = g_gs.merge(sym_xref.rename(columns={'id': 'gene_id', 'xrefs': 'geneSetList'}), how='left', on='geneSetList')\n",
    "g_gs.head(2)"
   ]
  },
  {
   "cell_type": "code",
   "execution_count": 37,
   "metadata": {},
   "outputs": [
    {
     "data": {
      "text/plain": [
       "pathName       1.00000\n",
       "geneSetList    1.00000\n",
       "n_genes        1.00000\n",
       "gene_id        0.95046\n",
       "dtype: float64"
      ]
     },
     "execution_count": 37,
     "metadata": {},
     "output_type": "execute_result"
    }
   ],
   "source": [
    "g_gs.count() / len(g_gs)"
   ]
  },
  {
   "cell_type": "code",
   "execution_count": 38,
   "metadata": {},
   "outputs": [
    {
     "data": {
      "text/html": [
       "<div>\n",
       "<style scoped>\n",
       "    .dataframe tbody tr th:only-of-type {\n",
       "        vertical-align: middle;\n",
       "    }\n",
       "\n",
       "    .dataframe tbody tr th {\n",
       "        vertical-align: top;\n",
       "    }\n",
       "\n",
       "    .dataframe thead th {\n",
       "        text-align: right;\n",
       "    }\n",
       "</style>\n",
       "<table border=\"1\" class=\"dataframe\">\n",
       "  <thead>\n",
       "    <tr style=\"text-align: right;\">\n",
       "      <th></th>\n",
       "      <th>DB</th>\n",
       "      <th>ICD9code</th>\n",
       "      <th>PID</th>\n",
       "      <th>cases</th>\n",
       "      <th>category</th>\n",
       "      <th>controls</th>\n",
       "      <th>gaussName</th>\n",
       "      <th>geneSet</th>\n",
       "      <th>pval</th>\n",
       "      <th>selectedGenes</th>\n",
       "      <th>dis_source</th>\n",
       "      <th>gset_source</th>\n",
       "      <th>gset_id</th>\n",
       "      <th>geneSetList</th>\n",
       "      <th>n_genes</th>\n",
       "      <th>gene_id</th>\n",
       "    </tr>\n",
       "  </thead>\n",
       "  <tbody>\n",
       "    <tr>\n",
       "      <th>0</th>\n",
       "      <td>DOID:11329</td>\n",
       "      <td>136.0</td>\n",
       "      <td>GO:0005549</td>\n",
       "      <td>205.0</td>\n",
       "      <td>infectious diseases</td>\n",
       "      <td>408429.0</td>\n",
       "      <td>Other infectious and parasitic diseases</td>\n",
       "      <td>GO_ODORANT_BINDING</td>\n",
       "      <td>0.004</td>\n",
       "      <td>OR5H6,OR5K3,OR5K4,OR5L2,OR5J2,OR8U1,OR8A1,OR11...</td>\n",
       "      <td>DOID</td>\n",
       "      <td>GO</td>\n",
       "      <td>GO:0005549</td>\n",
       "      <td>SYM:OR5D16</td>\n",
       "      <td>92</td>\n",
       "      <td>NCBIGene:390144</td>\n",
       "    </tr>\n",
       "    <tr>\n",
       "      <th>1</th>\n",
       "      <td>DOID:11329</td>\n",
       "      <td>136.0</td>\n",
       "      <td>GO:0005549</td>\n",
       "      <td>205.0</td>\n",
       "      <td>infectious diseases</td>\n",
       "      <td>408429.0</td>\n",
       "      <td>Other infectious and parasitic diseases</td>\n",
       "      <td>GO_ODORANT_BINDING</td>\n",
       "      <td>0.004</td>\n",
       "      <td>OR5H6,OR5K3,OR5K4,OR5L2,OR5J2,OR8U1,OR8A1,OR11...</td>\n",
       "      <td>DOID</td>\n",
       "      <td>GO</td>\n",
       "      <td>GO:0005549</td>\n",
       "      <td>SYM:OR9K2</td>\n",
       "      <td>92</td>\n",
       "      <td>NCBIGene:441639</td>\n",
       "    </tr>\n",
       "  </tbody>\n",
       "</table>\n",
       "</div>"
      ],
      "text/plain": [
       "           DB  ICD9code         PID  cases             category  controls  \\\n",
       "0  DOID:11329     136.0  GO:0005549  205.0  infectious diseases  408429.0   \n",
       "1  DOID:11329     136.0  GO:0005549  205.0  infectious diseases  408429.0   \n",
       "\n",
       "                                 gaussName             geneSet   pval  \\\n",
       "0  Other infectious and parasitic diseases  GO_ODORANT_BINDING  0.004   \n",
       "1  Other infectious and parasitic diseases  GO_ODORANT_BINDING  0.004   \n",
       "\n",
       "                                       selectedGenes dis_source gset_source  \\\n",
       "0  OR5H6,OR5K3,OR5K4,OR5L2,OR5J2,OR8U1,OR8A1,OR11...       DOID          GO   \n",
       "1  OR5H6,OR5K3,OR5K4,OR5L2,OR5J2,OR8U1,OR8A1,OR11...       DOID          GO   \n",
       "\n",
       "      gset_id geneSetList  n_genes          gene_id  \n",
       "0  GO:0005549  SYM:OR5D16       92  NCBIGene:390144  \n",
       "1  GO:0005549   SYM:OR9K2       92  NCBIGene:441639  "
      ]
     },
     "execution_count": 38,
     "metadata": {},
     "output_type": "execute_result"
    }
   ],
   "source": [
    "gset_exp = gset_mapped.merge(g_gs.rename(columns={'pathName': 'geneSet'}), how='left', on='geneSet')\n",
    "gset_exp.head(2)"
   ]
  },
  {
   "cell_type": "code",
   "execution_count": 39,
   "metadata": {},
   "outputs": [
    {
     "data": {
      "text/plain": [
       "424895"
      ]
     },
     "execution_count": 39,
     "metadata": {},
     "output_type": "execute_result"
    }
   ],
   "source": [
    "gene_gset = gset_exp.dropna(subset=['gene_id', 'gset_id']).drop_duplicates(subset=['gene_id', 'gset_id'])\n",
    "len(gene_gset)"
   ]
  },
  {
   "cell_type": "markdown",
   "metadata": {},
   "source": [
    "### Compare with network"
   ]
  },
  {
   "cell_type": "code",
   "execution_count": 40,
   "metadata": {},
   "outputs": [],
   "source": [
    "gene_gset_tups = gene_gset[['gene_id', 'gset_id']].apply(tuple, axis=1)"
   ]
  },
  {
   "cell_type": "code",
   "execution_count": 41,
   "metadata": {},
   "outputs": [],
   "source": [
    "mapped_gset = gene_gset['gset_id'].unique()\n",
    "\n",
    "gset_lbl = nodes.query('id in @mapped_gset')['label'].unique().tolist()\n",
    "nw_ggs_e_tup = combo.query('end_label in @gset_lbl and start_label in @g_lbl')[['start_id', 'end_id']].apply(tuple, axis=1)"
   ]
  },
  {
   "cell_type": "code",
   "execution_count": 42,
   "metadata": {},
   "outputs": [
    {
     "data": {
      "image/png": "[encoded data removed]",
      "text/plain": [
       "<Figure size 432x288 with 1 Axes>"
      ]
     },
     "metadata": {},
     "output_type": "display_data"
    }
   ],
   "source": [
    "v = venn2_pretty([set(gene_gset_tups), set(nw_ggs_e_tup)], ['GAUSS Edges' ,'Network Edges'])\n",
    "plt.title('Gene - Part of - Gene Set');"
   ]
  },
  {
   "cell_type": "code",
   "execution_count": 43,
   "metadata": {},
   "outputs": [],
   "source": [
    "gene_kegg_tups = gene_gset.query('gset_source == \"KEGG\"')[['gene_id', 'gset_id']].apply(tuple, axis=1)"
   ]
  },
  {
   "cell_type": "code",
   "execution_count": 44,
   "metadata": {},
   "outputs": [
    {
     "data": {
      "image/png": "[encoded data removed]",
      "text/plain": [
       "<Figure size 432x288 with 1 Axes>"
      ]
     },
     "metadata": {},
     "output_type": "display_data"
    }
   ],
   "source": [
    "v = venn2_pretty([set(gene_kegg_tups), set([t for t in nw_ggs_e_tup if t[1].startswith('KEGG')])], ['GAUSS Edges' ,'Network Edges'])\n",
    "plt.title('Gene - Part of - Gene Set: KEGG only');"
   ]
  },
  {
   "cell_type": "code",
   "execution_count": 45,
   "metadata": {},
   "outputs": [],
   "source": [
    "gene_go_tups = gene_gset.query('gset_source == \"GO\"')[['gene_id', 'gset_id']].apply(tuple, axis=1)"
   ]
  },
  {
   "cell_type": "code",
   "execution_count": 46,
   "metadata": {},
   "outputs": [
    {
     "data": {
      "image/png": "[encoded data removed]",
      "text/plain": [
       "<Figure size 432x288 with 1 Axes>"
      ]
     },
     "metadata": {},
     "output_type": "display_data"
    }
   ],
   "source": [
    "v = venn2_pretty([set(gene_go_tups), set([t for t in nw_ggs_e_tup if t[1].startswith('GO')])], ['GAUSS Edges' ,'Network Edges'])\n",
    "plt.title('Gene - Part of - Gene Set: GO only');"
   ]
  },
  {
   "cell_type": "code",
   "execution_count": 47,
   "metadata": {},
   "outputs": [],
   "source": [
    "gene_react_tups = gene_gset.query('gset_source == \"REACT\"')[['gene_id', 'gset_id']].apply(tuple, axis=1)"
   ]
  },
  {
   "cell_type": "code",
   "execution_count": 48,
   "metadata": {},
   "outputs": [
    {
     "data": {
      "image/png": "[encoded data removed]",
      "text/plain": [
       "<Figure size 432x288 with 1 Axes>"
      ]
     },
     "metadata": {},
     "output_type": "display_data"
    }
   ],
   "source": [
    "v = venn2_pretty([set(gene_go_tups), set([t for t in nw_ggs_e_tup if t[1].startswith('REACT')])], ['GAUSS Edges' ,'Network Edges'])\n",
    "plt.title('Gene - Part of - Gene Set: REACTOME only');"
   ]
  },
  {
   "cell_type": "markdown",
   "metadata": {},
   "source": [
    "Weird... did they do punning that we haven't done? (SOURCE OF THIS DATA IS MSIGDB)"
   ]
  },
  {
   "cell_type": "markdown",
   "metadata": {},
   "source": [
    "# Map GeneSet to Disease to the Network"
   ]
  },
  {
   "cell_type": "code",
   "execution_count": 49,
   "metadata": {},
   "outputs": [],
   "source": [
    "d_to_nw = dis_mapped[['dis_id', 'DB']].drop_duplicates().dropna()"
   ]
  },
  {
   "cell_type": "code",
   "execution_count": 50,
   "metadata": {},
   "outputs": [],
   "source": [
    "gs_to_nw = gset_mapped[['gset_id', 'PID']].drop_duplicates().dropna()"
   ]
  },
  {
   "cell_type": "code",
   "execution_count": 51,
   "metadata": {},
   "outputs": [
    {
     "data": {
      "text/plain": [
       "37421"
      ]
     },
     "execution_count": 51,
     "metadata": {},
     "output_type": "execute_result"
    }
   ],
   "source": [
    "gset_to_dis = df.merge(d_to_nw, on='DB', how='inner')\n",
    "gset_to_dis = gset_to_dis.merge(gs_to_nw, on='PID', how='inner').drop_duplicates()\n",
    "\n",
    "len(gset_to_dis)"
   ]
  },
  {
   "cell_type": "code",
   "execution_count": 52,
   "metadata": {},
   "outputs": [
    {
     "data": {
      "image/png": "[encoded data removed]",
      "text/plain": [
       "<Figure size 432x288 with 1 Axes>"
      ]
     },
     "metadata": {
      "needs_background": "light"
     },
     "output_type": "display_data"
    }
   ],
   "source": [
    "nw_es = combo.query('start_label in @gset_lbl and end_label in @dis_lbl')\n",
    "\n",
    "res = (nw_es['start_label'] + ' - ' + nw_es['type'] + ' - ' + nw_es['end_label']).value_counts()\n",
    "\n",
    "fmt_func = lambda x, y: '{:,}k'.format(int(x // 1000))\n",
    "\n",
    "fig, ax = plt.subplots()\n",
    "count_plot_h(res)\n",
    "plt.title('Current edges of types found in NEW data source')\n",
    "plt.xlabel('Number of Edges')\n",
    "ax.xaxis.set_major_formatter(plt.FuncFormatter(fmt_func));"
   ]
  },
  {
   "cell_type": "code",
   "execution_count": 53,
   "metadata": {},
   "outputs": [],
   "source": [
    "gset_to_dis_tup = gset_to_dis[['gset_id', 'dis_id']].drop_duplicates().apply(tuple, axis=1)"
   ]
  },
  {
   "cell_type": "code",
   "execution_count": 54,
   "metadata": {},
   "outputs": [
    {
     "name": "stdout",
     "output_type": "stream",
     "text": [
      "CPU times: user 1min 6s, sys: 388 ms, total: 1min 7s\n",
      "Wall time: 1min 7s\n"
     ]
    }
   ],
   "source": [
    "%%time\n",
    "nw_gsd_e_tup = nw_es[['start_id', 'end_id']].apply(tuple, axis=1)"
   ]
  },
  {
   "cell_type": "code",
   "execution_count": 55,
   "metadata": {},
   "outputs": [
    {
     "data": {
      "image/png": "[encoded data removed]",
      "text/plain": [
       "<Figure size 432x288 with 1 Axes>"
      ]
     },
     "metadata": {},
     "output_type": "display_data"
    }
   ],
   "source": [
    "v = venn2_pretty([set(gset_to_dis_tup), set(nw_gsd_e_tup)], ['GAUSS Edges' ,'Network Edges'])\n",
    "lbl = v.get_label_by_id('11')\n",
    "x, y = lbl.get_position()\n",
    "lbl.set_position((x, y+.3))\n",
    "\n",
    "lbl = v.get_label_by_id('10')\n",
    "x, y = lbl.get_position()\n",
    "lbl.set_position((x-.55, y))\n",
    "plt.title('Gene Set - Associated With - Disease');"
   ]
  },
  {
   "cell_type": "code",
   "execution_count": 56,
   "metadata": {},
   "outputs": [],
   "source": [
    "overlap_e_tups = combo.query('start_id in @mapped_gset and end_id in @dis_ids')[['start_id', 'end_id']].apply(tuple, axis=1)"
   ]
  },
  {
   "cell_type": "code",
   "execution_count": 57,
   "metadata": {},
   "outputs": [
    {
     "data": {
      "image/png": "[encoded data removed]",
      "text/plain": [
       "<Figure size 432x288 with 1 Axes>"
      ]
     },
     "metadata": {},
     "output_type": "display_data"
    }
   ],
   "source": [
    "v = venn2_pretty([set(gset_to_dis_tup), set(overlap_e_tups)], ['GAUSS Edges' ,'Network Edges'])\n",
    "plt.title('Gene Set - Associated With - Disease\\nOnly GSets and Diseases in GAUSS');"
   ]
  },
  {
   "cell_type": "code",
   "execution_count": 58,
   "metadata": {},
   "outputs": [],
   "source": [
    "nw_gauss_dis_deg = combo.query('type == \"associated_with\" and end_id in @dis_ids')['end_id'].value_counts()\n",
    "nw_gauss_pw_deg = combo.query('type == \"associated_with\" and start_id in @mapped_gset')['start_id'].value_counts()"
   ]
  },
  {
   "cell_type": "code",
   "execution_count": 59,
   "metadata": {},
   "outputs": [],
   "source": [
    "nw_all_dis_deg = combo.query('type == \"associated_with\" and end_label in @dis_lbl')['end_id'].value_counts()\n",
    "nw_all_pw_deg = combo.query('type == \"associated_with\" and start_label in @gset_lbl')['start_id'].value_counts()"
   ]
  },
  {
   "cell_type": "code",
   "execution_count": 60,
   "metadata": {},
   "outputs": [],
   "source": [
    "nw_other_dis_deg = combo.query('type == \"associated_with\" and end_label in @dis_lbl and end_id not in @dis_ids')['end_id'].value_counts()\n",
    "nw_other_pw_deg = combo.query('type == \"associated_with\" and start_label in @gset_lbl and start_id not in @mapped_gset')['start_id'].value_counts()"
   ]
  },
  {
   "cell_type": "code",
   "execution_count": 61,
   "metadata": {},
   "outputs": [
    {
     "data": {
      "image/png": "[encoded data removed]",
      "text/plain": [
       "<Figure size 432x288 with 1 Axes>"
      ]
     },
     "metadata": {
      "needs_background": "light"
     },
     "output_type": "display_data"
    }
   ],
   "source": [
    "sns.distplot(np.log(nw_gauss_dis_deg), label = 'Gauss')\n",
    "sns.distplot(np.log(nw_all_dis_deg), label = 'All')\n",
    "sns.distplot(np.log(nw_other_dis_deg), label = 'non-Gauss')\n",
    "plt.legend()\n",
    "plt.xlabel('log degree of Disease Node')\n",
    "plt.title('Degree of PWaD edges for Diseases');"
   ]
  },
  {
   "cell_type": "code",
   "execution_count": 62,
   "metadata": {},
   "outputs": [
    {
     "data": {
      "image/png": "[encoded data removed]",
      "text/plain": [
       "<Figure size 432x288 with 1 Axes>"
      ]
     },
     "metadata": {
      "needs_background": "light"
     },
     "output_type": "display_data"
    }
   ],
   "source": [
    "sns.distplot(np.log(nw_gauss_pw_deg), label = 'Gauss')\n",
    "sns.distplot(np.log(nw_all_pw_deg), label = 'All')\n",
    "sns.distplot(np.log(nw_other_pw_deg), label = 'non-Gauss')\n",
    "plt.legend()\n",
    "plt.xlabel('log degree of Pathway Node')\n",
    "plt.title('Degree of PWaD edges for Gene-Sets');"
   ]
  },
  {
   "cell_type": "code",
   "execution_count": 63,
   "metadata": {},
   "outputs": [
    {
     "name": "stdout",
     "output_type": "stream",
     "text": [
      "Diseases with Dis-Gset assoc: 313\n",
      "Diseases without Dis-Gset assoc: 138\n",
      "% of new Diseases in GAUSS Dataset: 30.60%\n",
      "# Assoc. to diseases with no previous Assoc: 7,365\n",
      "% of total GAUSS assoc to Disease with no previous assoc: 19.68%\n",
      "\n",
      "\n",
      "Gsets with previous Dis-Gset assoc: 1,955\n",
      "Gsets without previous Dis-Gset assoc: 624\n",
      "% of new Gsets in GAUSS Dataset: 24.20%\n",
      "# Assoc to Gsets with no previous assoc: 9,788\n",
      "% of total GAUSS assoc to Gsets with no previous assoc: 26.16%\n",
      "\n",
      "\n",
      "# Assoc between gsets and diseases both with no previous assoc: 1,992\n",
      "5.32%\n"
     ]
    }
   ],
   "source": [
    "dis_no_edge_in_nw = set(dis_ids) - set(nw_gauss_dis_deg.index)\n",
    "pw_no_edge_in_nw = set(mapped_gset) - set(nw_gauss_pw_deg.index)\n",
    "\n",
    "print('Diseases with Dis-Gset assoc: {:,}'.format(len(dis_ids) - len(dis_no_edge_in_nw)))\n",
    "print('Diseases without Dis-Gset assoc: {:,}'.format(len(dis_no_edge_in_nw)))\n",
    "print('% of new Diseases in GAUSS Dataset: {:1.2%}'.format(len(dis_no_edge_in_nw) / len(dis_ids)))\n",
    "print('# Assoc. to diseases with no previous Assoc: {:,}'.format(len(gset_to_dis.query('dis_id in @dis_no_edge_in_nw'))))\n",
    "print('% of total GAUSS assoc to Disease with no previous assoc: {:1.2%}'.format(len(gset_to_dis.query('dis_id in @dis_no_edge_in_nw')) / len(gset_to_dis)))\n",
    "\n",
    "print('\\n')\n",
    "print('Gsets with previous Dis-Gset assoc: {:,}'.format(len(mapped_gset) - len(pw_no_edge_in_nw)))\n",
    "print('Gsets without previous Dis-Gset assoc: {:,}'.format(len(pw_no_edge_in_nw)))\n",
    "print('% of new Gsets in GAUSS Dataset: {:1.2%}'.format(len(pw_no_edge_in_nw) / len(mapped_gset)))\n",
    "print('# Assoc to Gsets with no previous assoc: {:,}'.format(len(gset_to_dis.query('gset_id in @pw_no_edge_in_nw'))))\n",
    "print('% of total GAUSS assoc to Gsets with no previous assoc: {:1.2%}'.format(len(gset_to_dis.query('gset_id in @pw_no_edge_in_nw')) / len(gset_to_dis)))\n",
    "\n",
    "\n",
    "print('\\n')\n",
    "print('# Assoc between gsets and diseases both with no previous assoc: {:,}'.format(len(gset_to_dis.query('dis_id in @dis_no_edge_in_nw and gset_id in @pw_no_edge_in_nw'))))\n",
    "print('{:1.2%}'.format(len(gset_to_dis.query('dis_id in @dis_no_edge_in_nw and gset_id in @pw_no_edge_in_nw')) / len(gset_to_dis)))"
   ]
  },
  {
   "cell_type": "code",
   "execution_count": 64,
   "metadata": {},
   "outputs": [
    {
     "data": {
      "text/plain": [
       "(29, 284)"
      ]
     },
     "execution_count": 64,
     "metadata": {},
     "output_type": "execute_result"
    }
   ],
   "source": [
    "(nw_gauss_dis_deg <= 10).sum(), (nw_gauss_dis_deg > 10).sum() "
   ]
  },
  {
   "cell_type": "code",
   "execution_count": 65,
   "metadata": {},
   "outputs": [
    {
     "data": {
      "text/plain": [
       "(157, 1798)"
      ]
     },
     "execution_count": 65,
     "metadata": {},
     "output_type": "execute_result"
    }
   ],
   "source": [
    "(nw_gauss_pw_deg <= 10).sum(), (nw_gauss_pw_deg > 10).sum()"
   ]
  },
  {
   "cell_type": "markdown",
   "metadata": {},
   "source": [
    "Just as a quick summary, Gauss had 431 Diseases and 2,378 Gene Sets that could be mapped to the network.\n",
    "\n",
    "\n",
    "I checked the degree of 'Gene-set Associated-with Disease' edges for both the Diseases and the Gene-Sets found in the Gauss dataset, and comapred them to the degree of all the Diseases or Gene-sets in the network, to see if the new Gauss edges were selecteing for Diseases and Gene Sets we already have a lot of Edges for... I've plotted the distributions of log node degree for these different subsets separately. \n",
    "\n",
    "It appears that the Gauss dataset seems to be selecting for the Disease and Gene Sets that either already have a lot of GeneSet to Disease Associations, or have no assocations whatsoever. I think this results in a case wehre more data is better than no data, so I will be keeping these edges."
   ]
  },
  {
   "cell_type": "markdown",
   "metadata": {},
   "source": [
    "# Adding new information to the network\n",
    "\n",
    "Because the Gene to Geneset comes from MSigDB and because it is VERY different from the Pathway and GO to gene annotations we already have, we will not be importing to the network.\n",
    "\n",
    "Similarly, the Disease to Gene assocations, while novel, do not seem appropriate to add.  They are simply a combination where maximize the potential for finding statistical significance between the Gene Set and the Disease, but are not necessarily themselves significantly assocated with the disease individually.\n",
    "\n",
    "Finally, for reasons enumerated above, we will be adding the GeneSet to Disease information as it add more vital information for the model to learn, predict, and explain from."
   ]
  },
  {
   "cell_type": "code",
   "execution_count": 66,
   "metadata": {},
   "outputs": [],
   "source": [
    "edges_out = gset_to_dis[['gset_id', 'dis_id', 'pval']].copy()\n",
    "edges_out.columns = ['start_id', 'end_id', 'p_val']\n",
    "\n",
    "edges_out['type'] = 'associated_with'\n",
    "edges_out['dsrc_type'] = 'computed'\n",
    "edges_out['comp_type'] = 'gauss_test'\n",
    "edges_out['source'] = 'GAUSS'\n",
    "edges_out['license'] = 'Unknown'"
   ]
  },
  {
   "cell_type": "code",
   "execution_count": 67,
   "metadata": {},
   "outputs": [],
   "source": [
    "edges_out = pd.concat([edges, edges_out], sort=False, ignore_index=True)"
   ]
  },
  {
   "cell_type": "code",
   "execution_count": 68,
   "metadata": {},
   "outputs": [
    {
     "data": {
      "application/vnd.jupyter.widget-view+json": {
       "model_id": "09cddef3f23947a1be2f31929c62ec67",
       "version_major": 2,
       "version_minor": 0
      },
      "text/plain": [
       "HBox(children=(FloatProgress(value=0.0, description='total_progress', max=4.0, style=ProgressStyle(description…"
      ]
     },
     "metadata": {},
     "output_type": "display_data"
    },
    {
     "data": {
      "application/vnd.jupyter.widget-view+json": {
       "model_id": "70b4cee30c224be08203213141f6c750",
       "version_major": 2,
       "version_minor": 0
      },
      "text/plain": [
       "HBox(children=(FloatProgress(value=0.0, description='comp_type', max=3944.0, style=ProgressStyle(description_w…"
      ]
     },
     "metadata": {},
     "output_type": "display_data"
    },
    {
     "name": "stdout",
     "output_type": "stream",
     "text": [
      "\n"
     ]
    },
    {
     "data": {
      "application/vnd.jupyter.widget-view+json": {
       "model_id": "442f1e6287c542eaa43ffb8d594fec6c",
       "version_major": 2,
       "version_minor": 0
      },
      "text/plain": [
       "HBox(children=(FloatProgress(value=0.0, description='p_val', max=3944.0, style=ProgressStyle(description_width…"
      ]
     },
     "metadata": {},
     "output_type": "display_data"
    },
    {
     "name": "stdout",
     "output_type": "stream",
     "text": [
      "\n"
     ]
    },
    {
     "data": {
      "application/vnd.jupyter.widget-view+json": {
       "model_id": "a57948cc304144b9a927c9f3252509ef",
       "version_major": 2,
       "version_minor": 0
      },
      "text/plain": [
       "HBox(children=(FloatProgress(value=0.0, description='source', max=3944.0, style=ProgressStyle(description_widt…"
      ]
     },
     "metadata": {},
     "output_type": "display_data"
    },
    {
     "name": "stdout",
     "output_type": "stream",
     "text": [
      "\n"
     ]
    },
    {
     "data": {
      "application/vnd.jupyter.widget-view+json": {
       "model_id": "8e205ac7a91741a1acf630373ae363ff",
       "version_major": 2,
       "version_minor": 0
      },
      "text/plain": [
       "HBox(children=(FloatProgress(value=0.0, description='license', max=3944.0, style=ProgressStyle(description_wid…"
      ]
     },
     "metadata": {},
     "output_type": "display_data"
    },
    {
     "name": "stdout",
     "output_type": "stream",
     "text": [
      "\n",
      "\n"
     ]
    }
   ],
   "source": [
    "edges_out = combine_group_cols_on_char(edges_out, ['start_id', 'type', 'end_id'])"
   ]
  },
  {
   "cell_type": "code",
   "execution_count": 69,
   "metadata": {},
   "outputs": [
    {
     "data": {
      "text/plain": [
       "True"
      ]
     },
     "execution_count": 69,
     "metadata": {},
     "output_type": "execute_result"
    }
   ],
   "source": [
    "edge_ids = edges_out[['start_id', 'end_id']].stack().unique()\n",
    "nodes_out_filt = nodes.query('id in @edge_ids')\n",
    "\n",
    "len(edge_ids) == len(nodes_out_filt)"
   ]
  },
  {
   "cell_type": "markdown",
   "metadata": {},
   "source": [
    "## Save the result"
   ]
  },
  {
   "cell_type": "code",
   "execution_count": 70,
   "metadata": {},
   "outputs": [],
   "source": [
    "this_name = '09_GAUSS_Geneset_to_Phenotype'\n",
    "out_dir = Path('../2_pipeline/').joinpath(this_name).joinpath('out')\n",
    "out_dir.mkdir(parents=True, exist_ok=True)"
   ]
  },
  {
   "cell_type": "code",
   "execution_count": 71,
   "metadata": {},
   "outputs": [],
   "source": [
    "nodes.to_csv(out_dir.joinpath('nodes.csv'), index=False)\n",
    "nodes_out_filt.to_csv(out_dir.joinpath('nodes_filt.csv'), index=False)\n",
    "edges_out.to_csv(out_dir.joinpath('edges.csv'), index=False)"
   ]
  },
  {
   "cell_type": "code",
   "execution_count": 72,
   "metadata": {},
   "outputs": [],
   "source": [
    "pro_id = nodes_out_filt.query('label == \"Protein\"')['id'].unique()"
   ]
  }
 ],
 "metadata": {
  "kernelspec": {
   "display_name": "Python 3",
   "language": "python",
   "name": "python3"
  },
  "language_info": {
   "codemirror_mode": {
    "name": "ipython",
    "version": 3
   },
   "file_extension": ".py",
   "mimetype": "text/x-python",
   "name": "python",
   "nbconvert_exporter": "python",
   "pygments_lexer": "ipython3",
   "version": "3.6.8"
  }
 },
 "nbformat": 4,
 "nbformat_minor": 2
}
