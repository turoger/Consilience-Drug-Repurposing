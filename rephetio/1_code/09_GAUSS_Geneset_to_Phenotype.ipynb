{
 "cells": [
  {
   "cell_type": "code",
   "execution_count": 1,
   "metadata": {},
   "outputs": [
    {
     "name": "stderr",
     "output_type": "stream",
     "text": [
      "/home/mmayers/software/miniconda3/envs/ml/lib/python3.7/site-packages/data_tools/df_processing.py:4: TqdmExperimentalWarning: Using `tqdm.autonotebook.tqdm` in notebook mode. Use `tqdm.tqdm` instead to force console mode (e.g. in jupyter console)\n",
      "  from tqdm.autonotebook import tqdm\n"
     ]
    }
   ],
   "source": [
    "import numpy as np\n",
    "import pandas as pd\n",
    "import seaborn as sns\n",
    "from pathlib import Path\n",
    "import matplotlib.pyplot as plt\n",
    "\n",
    "from data_tools import combine_nodes_and_edges\n",
    "from data_tools.wiki import get_curi_xrefs\n",
    "from data_tools.plotting import venn2_pretty, count_plot_h\n",
    "from data_tools.df_processing import expand_col_on_char, expand_df_on_col, expand_split_col, combine_group_cols_on_char"
   ]
  },
  {
   "cell_type": "code",
   "execution_count": 2,
   "metadata": {},
   "outputs": [],
   "source": [
    "df = pd.read_csv('../0_data/external/gaussWithIdentifierMatch.tsv', sep='\\t')"
   ]
  },
  {
   "cell_type": "code",
   "execution_count": 3,
   "metadata": {},
   "outputs": [
    {
     "data": {
      "text/html": [
       "<div>\n",
       "<style scoped>\n",
       "    .dataframe tbody tr th:only-of-type {\n",
       "        vertical-align: middle;\n",
       "    }\n",
       "\n",
       "    .dataframe tbody tr th {\n",
       "        vertical-align: top;\n",
       "    }\n",
       "\n",
       "    .dataframe thead th {\n",
       "        text-align: right;\n",
       "    }\n",
       "</style>\n",
       "<table border=\"1\" class=\"dataframe\">\n",
       "  <thead>\n",
       "    <tr style=\"text-align: right;\">\n",
       "      <th></th>\n",
       "      <th>DB</th>\n",
       "      <th>ICD9code</th>\n",
       "      <th>PID</th>\n",
       "      <th>cases</th>\n",
       "      <th>category</th>\n",
       "      <th>controls</th>\n",
       "      <th>gaussName</th>\n",
       "      <th>geneSet</th>\n",
       "      <th>pval</th>\n",
       "      <th>selectedGenes</th>\n",
       "    </tr>\n",
       "  </thead>\n",
       "  <tbody>\n",
       "    <tr>\n",
       "      <th>0</th>\n",
       "      <td>DOID:11329</td>\n",
       "      <td>136.0</td>\n",
       "      <td>GO:0005549</td>\n",
       "      <td>205.0</td>\n",
       "      <td>infectious diseases</td>\n",
       "      <td>408429.0</td>\n",
       "      <td>Other infectious and parasitic diseases</td>\n",
       "      <td>GO_ODORANT_BINDING</td>\n",
       "      <td>0.004</td>\n",
       "      <td>OR5H6,OR5K3,OR5K4,OR5L2,OR5J2,OR8U1,OR8A1,OR11...</td>\n",
       "    </tr>\n",
       "    <tr>\n",
       "      <th>1</th>\n",
       "      <td>DOID:3277</td>\n",
       "      <td>164.0</td>\n",
       "      <td>GO:0005549</td>\n",
       "      <td>57.0</td>\n",
       "      <td>neoplasms</td>\n",
       "      <td>406226.0</td>\n",
       "      <td>Cancer of intrathoracic organs</td>\n",
       "      <td>GO_ODORANT_BINDING</td>\n",
       "      <td>0.020</td>\n",
       "      <td>OR5B2,OR8J3,OR5H1,OR5H14,OR5D13,OR8H3,OR5B12,O...</td>\n",
       "    </tr>\n",
       "  </tbody>\n",
       "</table>\n",
       "</div>"
      ],
      "text/plain": [
       "           DB  ICD9code         PID  cases             category  controls  \\\n",
       "0  DOID:11329     136.0  GO:0005549  205.0  infectious diseases  408429.0   \n",
       "1   DOID:3277     164.0  GO:0005549   57.0            neoplasms  406226.0   \n",
       "\n",
       "                                 gaussName             geneSet   pval  \\\n",
       "0  Other infectious and parasitic diseases  GO_ODORANT_BINDING  0.004   \n",
       "1           Cancer of intrathoracic organs  GO_ODORANT_BINDING  0.020   \n",
       "\n",
       "                                       selectedGenes  \n",
       "0  OR5H6,OR5K3,OR5K4,OR5L2,OR5J2,OR8U1,OR8A1,OR11...  \n",
       "1  OR5B2,OR8J3,OR5H1,OR5H14,OR5D13,OR8H3,OR5B12,O...  "
      ]
     },
     "execution_count": 3,
     "metadata": {},
     "output_type": "execute_result"
    }
   ],
   "source": [
    "df.head(2)"
   ]
  },
  {
   "cell_type": "code",
   "execution_count": 4,
   "metadata": {},
   "outputs": [],
   "source": [
    "df['dis_source'] = df['DB'].apply(lambda s: s.split(':')[0])"
   ]
  },
  {
   "cell_type": "code",
   "execution_count": 5,
   "metadata": {},
   "outputs": [],
   "source": [
    "df['gset_source'] = df['PID'].apply(lambda s: s.split(':')[0])"
   ]
  },
  {
   "cell_type": "code",
   "execution_count": 6,
   "metadata": {},
   "outputs": [],
   "source": [
    "nodes = pd.read_csv('../2_pipeline/08_CTD/out/nodes_filt.csv', dtype=str)\n",
    "edges = pd.read_csv('../2_pipeline/08_CTD/out/edges.csv', dtype=str)"
   ]
  },
  {
   "cell_type": "code",
   "execution_count": 7,
   "metadata": {},
   "outputs": [],
   "source": [
    "combo = combine_nodes_and_edges(nodes, edges)"
   ]
  },
  {
   "cell_type": "markdown",
   "metadata": {},
   "source": [
    "# Map Disease and get Gene to disease links"
   ]
  },
  {
   "cell_type": "markdown",
   "metadata": {},
   "source": [
    "### Mapping To the Network"
   ]
  },
  {
   "cell_type": "code",
   "execution_count": null,
   "metadata": {},
   "outputs": [],
   "source": []
  },
  {
   "cell_type": "code",
   "execution_count": 8,
   "metadata": {},
   "outputs": [],
   "source": [
    "umls_to_nw = get_curi_xrefs(nodes, 'UMLS')\n",
    "mesh_to_nw = get_curi_xrefs(nodes, 'MESH')\n",
    "doid_to_nw = get_curi_xrefs(nodes, 'DOID')"
   ]
  },
  {
   "cell_type": "code",
   "execution_count": 9,
   "metadata": {},
   "outputs": [
    {
     "data": {
      "text/html": [
       "<div>\n",
       "<style scoped>\n",
       "    .dataframe tbody tr th:only-of-type {\n",
       "        vertical-align: middle;\n",
       "    }\n",
       "\n",
       "    .dataframe tbody tr th {\n",
       "        vertical-align: top;\n",
       "    }\n",
       "\n",
       "    .dataframe thead th {\n",
       "        text-align: right;\n",
       "    }\n",
       "</style>\n",
       "<table border=\"1\" class=\"dataframe\">\n",
       "  <thead>\n",
       "    <tr style=\"text-align: right;\">\n",
       "      <th></th>\n",
       "      <th>id</th>\n",
       "      <th>xrefs</th>\n",
       "    </tr>\n",
       "  </thead>\n",
       "  <tbody>\n",
       "    <tr>\n",
       "      <th>23170</th>\n",
       "      <td>DOID:0001816</td>\n",
       "      <td>UMLS:C0018923</td>\n",
       "    </tr>\n",
       "    <tr>\n",
       "      <th>23171</th>\n",
       "      <td>DOID:0001816</td>\n",
       "      <td>UMLS:C0854893</td>\n",
       "    </tr>\n",
       "  </tbody>\n",
       "</table>\n",
       "</div>"
      ],
      "text/plain": [
       "                 id          xrefs\n",
       "23170  DOID:0001816  UMLS:C0018923\n",
       "23171  DOID:0001816  UMLS:C0854893"
      ]
     },
     "execution_count": 9,
     "metadata": {},
     "output_type": "execute_result"
    }
   ],
   "source": [
    "umls_to_nw.head(2)"
   ]
  },
  {
   "cell_type": "code",
   "execution_count": 10,
   "metadata": {},
   "outputs": [],
   "source": [
    "nw_ids = nodes['id'].tolist()"
   ]
  },
  {
   "cell_type": "code",
   "execution_count": 11,
   "metadata": {},
   "outputs": [],
   "source": [
    "umls_mrg = df.merge(umls_to_nw.rename(columns={'xrefs': 'DB'}), on='DB', how='inner')\n",
    "mesh_mrg = df.merge(mesh_to_nw.rename(columns={'xrefs': 'DB'}), on='DB', how='inner')\n",
    "doid_mrg = df.merge(doid_to_nw.rename(columns={'xrefs': 'DB'}), on='DB', how='inner')\n",
    "direct_map = df.query('DB in @nw_ids').copy()\n",
    "direct_map['id'] = direct_map['DB']\n",
    "\n",
    "dis_mapped = pd.concat([umls_mrg, mesh_mrg, doid_mrg, direct_map]).drop_duplicates()\n",
    "dis_mapped = dis_mapped.rename(columns={'id': 'dis_id'})"
   ]
  },
  {
   "cell_type": "code",
   "execution_count": 12,
   "metadata": {},
   "outputs": [
    {
     "data": {
      "text/plain": [
       "37135"
      ]
     },
     "execution_count": 12,
     "metadata": {},
     "output_type": "execute_result"
    }
   ],
   "source": [
    "len(dis_mapped)"
   ]
  },
  {
   "cell_type": "markdown",
   "metadata": {},
   "source": [
    "### Getting Disease to Gene Links"
   ]
  },
  {
   "cell_type": "code",
   "execution_count": 13,
   "metadata": {},
   "outputs": [],
   "source": [
    "sym_xref = get_curi_xrefs(nodes, 'SYM')"
   ]
  },
  {
   "cell_type": "code",
   "execution_count": 14,
   "metadata": {},
   "outputs": [],
   "source": [
    "dis_exp = expand_col_on_char(dis_mapped, 'selectedGenes', ',')\n",
    "dis_exp['selectedGenes'] = 'SYM:' + dis_exp['selectedGenes']\n",
    "dis_exp = dis_exp.merge(sym_xref.rename(columns={'id': 'gene_id', 'xrefs': 'selectedGenes'}), how='left')"
   ]
  },
  {
   "cell_type": "code",
   "execution_count": 15,
   "metadata": {},
   "outputs": [
    {
     "data": {
      "text/plain": [
       "0.9628322424791695"
      ]
     },
     "execution_count": 15,
     "metadata": {},
     "output_type": "execute_result"
    }
   ],
   "source": [
    "dis_exp['gene_id'].count() / len(dis_exp)"
   ]
  },
  {
   "cell_type": "code",
   "execution_count": 16,
   "metadata": {},
   "outputs": [
    {
     "data": {
      "text/plain": [
       "128026"
      ]
     },
     "execution_count": 16,
     "metadata": {},
     "output_type": "execute_result"
    }
   ],
   "source": [
    "dis_gene = dis_exp.dropna(subset=['dis_id', 'gene_id'])[['dis_id', 'gene_id']].drop_duplicates()\n",
    "\n",
    "len(dis_gene)"
   ]
  },
  {
   "cell_type": "code",
   "execution_count": 17,
   "metadata": {},
   "outputs": [],
   "source": [
    "gene_dis_tups = dis_gene[['gene_id', 'dis_id']].dropna().apply(tuple, axis=1)"
   ]
  },
  {
   "cell_type": "markdown",
   "metadata": {},
   "source": [
    "### Compare these mappings to those in NW"
   ]
  },
  {
   "cell_type": "code",
   "execution_count": 18,
   "metadata": {},
   "outputs": [],
   "source": [
    "gene_ids = dis_gene['gene_id'].dropna().unique()\n",
    "g_lbl = nodes.query('id in @gene_ids')['label'].unique()\n",
    "\n",
    "dis_ids = dis_gene['dis_id'].unique()\n",
    "dis_lbl = nodes.query('id in @dis_ids')['label'].unique()"
   ]
  },
  {
   "cell_type": "code",
   "execution_count": 19,
   "metadata": {},
   "outputs": [],
   "source": [
    "nw_gd_e_tup = combo.query('start_label in @g_lbl and end_label in @dis_lbl')[['start_id', 'end_id']].apply(tuple, axis=1)"
   ]
  },
  {
   "cell_type": "code",
   "execution_count": 20,
   "metadata": {},
   "outputs": [
    {
     "data": {
      "image/png": "[encoded data removed]",
      "text/plain": [
       "<Figure size 432x288 with 1 Axes>"
      ]
     },
     "metadata": {},
     "output_type": "display_data"
    }
   ],
   "source": [
    "v = venn2_pretty([set(gene_dis_tups), set(nw_gd_e_tup)], ['GAUSS Edges' ,'Network Edges'])\n",
    "plt.title('Gene - Associated With - Disease Edges');"
   ]
  },
  {
   "cell_type": "markdown",
   "metadata": {},
   "source": [
    "# Map Genesets to network and get Gene to GeneSet Edges"
   ]
  },
  {
   "cell_type": "markdown",
   "metadata": {},
   "source": [
    "### Map the genesets to the network"
   ]
  },
  {
   "cell_type": "code",
   "execution_count": 21,
   "metadata": {},
   "outputs": [
    {
     "data": {
      "text/plain": [
       "GO              55087\n",
       "KEGG             2031\n",
       "R-HSA-379726       94\n",
       "R-HSA-381753       85\n",
       "R-HSA-140342       79\n",
       "                ...  \n",
       "R-HSA-418346        5\n",
       "R-HSA-112316        3\n",
       "R-HSA-74751         3\n",
       "R-HSA-421270        2\n",
       "R-HSA-392499        2\n",
       "Name: gset_source, Length: 206, dtype: int64"
      ]
     },
     "execution_count": 21,
     "metadata": {},
     "output_type": "execute_result"
    }
   ],
   "source": [
    "df['gset_source'].value_counts()"
   ]
  },
  {
   "cell_type": "code",
   "execution_count": 22,
   "metadata": {},
   "outputs": [
    {
     "data": {
      "text/plain": [
       "GO       55087\n",
       "REACT     5815\n",
       "KEGG      2031\n",
       "Name: gset_source, dtype: int64"
      ]
     },
     "execution_count": 22,
     "metadata": {},
     "output_type": "execute_result"
    }
   ],
   "source": [
    "react_idx = df.query('gset_source not in {}'.format(['GO', 'KEGG'])).index\n",
    "\n",
    "df.loc[react_idx, 'gset_source'] = 'REACT'\n",
    "df.loc[react_idx, 'PID'] = 'REACT:' + df.loc[react_idx, 'PID']\n",
    "\n",
    "df['gset_source'].value_counts()"
   ]
  },
  {
   "cell_type": "code",
   "execution_count": 23,
   "metadata": {},
   "outputs": [],
   "source": [
    "go_to_nw = get_curi_xrefs(nodes, 'GO')\n",
    "kegg_to_nw = get_curi_xrefs(nodes, 'KEGG')\n",
    "react_to_nw = get_curi_xrefs(nodes, 'REACT')"
   ]
  },
  {
   "cell_type": "code",
   "execution_count": 24,
   "metadata": {},
   "outputs": [],
   "source": [
    "nw_kegg_ids = nodes[nodes['id'].str.startswith('KEGG:')]['id'].unique()"
   ]
  },
  {
   "cell_type": "code",
   "execution_count": 25,
   "metadata": {},
   "outputs": [
    {
     "data": {
      "text/plain": [
       "array(['KEGG:hsa00010', 'KEGG:hsa00020', 'KEGG:hsa00030', 'KEGG:hsa00040',\n",
       "       'KEGG:hsa00051', 'KEGG:hsa00052', 'KEGG:hsa00053', 'KEGG:hsa00061',\n",
       "       'KEGG:hsa00062', 'KEGG:hsa00071'], dtype=object)"
      ]
     },
     "execution_count": 25,
     "metadata": {},
     "output_type": "execute_result"
    }
   ],
   "source": [
    "nw_kegg_ids[:10]"
   ]
  },
  {
   "cell_type": "code",
   "execution_count": 26,
   "metadata": {},
   "outputs": [
    {
     "data": {
      "text/plain": [
       "array(['KEGG:04740', 'KEGG:00310', 'KEGG:04512', 'KEGG:04740',\n",
       "       'KEGG:04610', 'KEGG:00310', 'KEGG:05200', 'KEGG:05222',\n",
       "       'KEGG:04740', 'KEGG:04742'], dtype=object)"
      ]
     },
     "execution_count": 26,
     "metadata": {},
     "output_type": "execute_result"
    }
   ],
   "source": [
    "df.query('gset_source == \"KEGG\"')['PID'].values[:10]"
   ]
  },
  {
   "cell_type": "markdown",
   "metadata": {},
   "source": [
    "There appears to be a species tag that is missing from this data source.  We will add it with a custom function"
   ]
  },
  {
   "cell_type": "code",
   "execution_count": 27,
   "metadata": {},
   "outputs": [],
   "source": [
    "def add_kegg_hsa(kegg_id):\n",
    "    pref, kid = kegg_id.split(':')\n",
    "    \n",
    "    try:\n",
    "        # If it is an integer, needs hsa, otherwise keep as is\n",
    "        int_kid = int(kid)\n",
    "    except:\n",
    "        return kegg_id\n",
    "    \n",
    "    return 'KEGG:hsa{}'.format(kid)"
   ]
  },
  {
   "cell_type": "code",
   "execution_count": 28,
   "metadata": {},
   "outputs": [
    {
     "data": {
      "text/plain": [
       "array(['KEGG:hsa04740', 'KEGG:hsa00310', 'KEGG:hsa04512', 'KEGG:hsa04740',\n",
       "       'KEGG:hsa04610', 'KEGG:hsa00310', 'KEGG:hsa05200', 'KEGG:hsa05222',\n",
       "       'KEGG:hsa04740', 'KEGG:hsa04742'], dtype=object)"
      ]
     },
     "execution_count": 28,
     "metadata": {},
     "output_type": "execute_result"
    }
   ],
   "source": [
    "kegg_idx = df.query('gset_source == \"KEGG\"').index\n",
    "\n",
    "df.loc[kegg_idx, 'PID'] = df.loc[kegg_idx, 'PID'].apply(add_kegg_hsa)\n",
    "df.query('gset_source == \"KEGG\"')['PID'].values[:10]"
   ]
  },
  {
   "cell_type": "code",
   "execution_count": 29,
   "metadata": {},
   "outputs": [
    {
     "data": {
      "text/plain": [
       "(77, 78)"
      ]
     },
     "execution_count": 29,
     "metadata": {},
     "output_type": "execute_result"
    }
   ],
   "source": [
    "len(set(nw_kegg_ids) & set(df.query('gset_source == \"KEGG\"')['PID'])), df.query('gset_source == \"KEGG\"')['PID'].nunique()"
   ]
  },
  {
   "cell_type": "markdown",
   "metadata": {},
   "source": [
    "77 out of 78. Doing well now. So lets proceed with the merge"
   ]
  },
  {
   "cell_type": "code",
   "execution_count": 30,
   "metadata": {},
   "outputs": [
    {
     "data": {
      "text/plain": [
       "54896"
      ]
     },
     "execution_count": 30,
     "metadata": {},
     "output_type": "execute_result"
    }
   ],
   "source": [
    "go_mrg = df.merge(go_to_nw.rename(columns={'xrefs': 'PID'}), on='PID', how='inner')\n",
    "kegg_mrg = df.merge(kegg_to_nw.rename(columns={'xrefs': 'PID'}), on='PID', how='inner')\n",
    "react_mrg = df.merge(react_to_nw.rename(columns={'xrefs': 'PID'}), on='PID', how='inner')\n",
    "direct_map = df.query('PID in @nw_ids').copy()\n",
    "direct_map['id'] = direct_map['PID']\n",
    "\n",
    "gset_mapped = pd.concat([go_mrg, kegg_mrg, react_mrg, direct_map], sort=False).drop_duplicates()\n",
    "gset_mapped = gset_mapped.rename(columns={'id': 'gset_id'})\n",
    "len(gset_mapped)"
   ]
  },
  {
   "cell_type": "markdown",
   "metadata": {},
   "source": [
    "### Read in Gene to GeneSet information"
   ]
  },
  {
   "cell_type": "code",
   "execution_count": 31,
   "metadata": {},
   "outputs": [
    {
     "data": {
      "text/html": [
       "<div>\n",
       "<style scoped>\n",
       "    .dataframe tbody tr th:only-of-type {\n",
       "        vertical-align: middle;\n",
       "    }\n",
       "\n",
       "    .dataframe tbody tr th {\n",
       "        vertical-align: top;\n",
       "    }\n",
       "\n",
       "    .dataframe thead th {\n",
       "        text-align: right;\n",
       "    }\n",
       "</style>\n",
       "<table border=\"1\" class=\"dataframe\">\n",
       "  <thead>\n",
       "    <tr style=\"text-align: right;\">\n",
       "      <th></th>\n",
       "      <th>pathName</th>\n",
       "      <th>geneSetList</th>\n",
       "    </tr>\n",
       "  </thead>\n",
       "  <tbody>\n",
       "    <tr>\n",
       "      <th>0</th>\n",
       "      <td>GO_3_5_DNA_HELICASE_ACTIVITY</td>\n",
       "      <td>[\"FBXO18\",\"RECQL5\",\"GINS1\",\"ERCC3\",\"ASCC3\",\"GI...</td>\n",
       "    </tr>\n",
       "    <tr>\n",
       "      <th>1</th>\n",
       "      <td>GO_5_3_EXONUCLEASE_ACTIVITY</td>\n",
       "      <td>[\"XRN2\",\"DCLRE1C\",\"POLN\",\"CPSF3\",\"EXO1\",\"DCLRE...</td>\n",
       "    </tr>\n",
       "  </tbody>\n",
       "</table>\n",
       "</div>"
      ],
      "text/plain": [
       "                       pathName  \\\n",
       "0  GO_3_5_DNA_HELICASE_ACTIVITY   \n",
       "1   GO_5_3_EXONUCLEASE_ACTIVITY   \n",
       "\n",
       "                                         geneSetList  \n",
       "0  [\"FBXO18\",\"RECQL5\",\"GINS1\",\"ERCC3\",\"ASCC3\",\"GI...  \n",
       "1  [\"XRN2\",\"DCLRE1C\",\"POLN\",\"CPSF3\",\"EXO1\",\"DCLRE...  "
      ]
     },
     "execution_count": 31,
     "metadata": {},
     "output_type": "execute_result"
    }
   ],
   "source": [
    "g_gs = pd.read_csv('../0_data/external/genesWithinGeneset.tsv', sep='\\t')\n",
    "g_gs.head(2)"
   ]
  },
  {
   "cell_type": "code",
   "execution_count": 32,
   "metadata": {},
   "outputs": [],
   "source": [
    "g_gs['geneSetList'] = g_gs['geneSetList'].apply(eval)"
   ]
  },
  {
   "cell_type": "code",
   "execution_count": 33,
   "metadata": {},
   "outputs": [
    {
     "data": {
      "text/html": [
       "<div>\n",
       "<style scoped>\n",
       "    .dataframe tbody tr th:only-of-type {\n",
       "        vertical-align: middle;\n",
       "    }\n",
       "\n",
       "    .dataframe tbody tr th {\n",
       "        vertical-align: top;\n",
       "    }\n",
       "\n",
       "    .dataframe thead th {\n",
       "        text-align: right;\n",
       "    }\n",
       "</style>\n",
       "<table border=\"1\" class=\"dataframe\">\n",
       "  <thead>\n",
       "    <tr style=\"text-align: right;\">\n",
       "      <th></th>\n",
       "      <th>pathName</th>\n",
       "      <th>geneSetList</th>\n",
       "      <th>n_genes</th>\n",
       "    </tr>\n",
       "  </thead>\n",
       "  <tbody>\n",
       "    <tr>\n",
       "      <th>2160</th>\n",
       "      <td>GO_RESPONSE_TO_ENDOGENOUS_STIMULUS</td>\n",
       "      <td>[PEA15, LTA4H, NFKB1, PSMB9, RBM14, THBD, STXB...</td>\n",
       "      <td>1450</td>\n",
       "    </tr>\n",
       "    <tr>\n",
       "      <th>1641</th>\n",
       "      <td>GO_PROTEIN_COMPLEX_SUBUNIT_ORGANIZATION</td>\n",
       "      <td>[C1QTNF1, NDUFA1, CCT2, PILRB, SMC3, TMSB4Y, D...</td>\n",
       "      <td>1527</td>\n",
       "    </tr>\n",
       "  </tbody>\n",
       "</table>\n",
       "</div>"
      ],
      "text/plain": [
       "                                     pathName  \\\n",
       "2160       GO_RESPONSE_TO_ENDOGENOUS_STIMULUS   \n",
       "1641  GO_PROTEIN_COMPLEX_SUBUNIT_ORGANIZATION   \n",
       "\n",
       "                                            geneSetList  n_genes  \n",
       "2160  [PEA15, LTA4H, NFKB1, PSMB9, RBM14, THBD, STXB...     1450  \n",
       "1641  [C1QTNF1, NDUFA1, CCT2, PILRB, SMC3, TMSB4Y, D...     1527  "
      ]
     },
     "execution_count": 33,
     "metadata": {},
     "output_type": "execute_result"
    }
   ],
   "source": [
    "g_gs['n_genes'] = g_gs['geneSetList'].apply(len)\n",
    "g_gs.query('n_genes > 1000').sample(2)"
   ]
  },
  {
   "cell_type": "code",
   "execution_count": 34,
   "metadata": {},
   "outputs": [
    {
     "data": {
      "image/png": "[encoded data removed]",
      "text/plain": [
       "<Figure size 432x288 with 1 Axes>"
      ]
     },
     "metadata": {
      "needs_background": "light"
     },
     "output_type": "display_data"
    }
   ],
   "source": [
    "sns.distplot(g_gs['geneSetList'].apply(len), kde=False)\n",
    "plt.title('Distribution of Genes per GeneSet');"
   ]
  },
  {
   "cell_type": "code",
   "execution_count": 35,
   "metadata": {},
   "outputs": [
    {
     "data": {
      "text/html": [
       "<div>\n",
       "<style scoped>\n",
       "    .dataframe tbody tr th:only-of-type {\n",
       "        vertical-align: middle;\n",
       "    }\n",
       "\n",
       "    .dataframe tbody tr th {\n",
       "        vertical-align: top;\n",
       "    }\n",
       "\n",
       "    .dataframe thead th {\n",
       "        text-align: right;\n",
       "    }\n",
       "</style>\n",
       "<table border=\"1\" class=\"dataframe\">\n",
       "  <thead>\n",
       "    <tr style=\"text-align: right;\">\n",
       "      <th></th>\n",
       "      <th>pathName</th>\n",
       "      <th>geneSetList</th>\n",
       "      <th>n_genes</th>\n",
       "    </tr>\n",
       "  </thead>\n",
       "  <tbody>\n",
       "    <tr>\n",
       "      <th>0</th>\n",
       "      <td>GO_3_5_DNA_HELICASE_ACTIVITY</td>\n",
       "      <td>FBXO18</td>\n",
       "      <td>12</td>\n",
       "    </tr>\n",
       "    <tr>\n",
       "      <th>1</th>\n",
       "      <td>GO_3_5_DNA_HELICASE_ACTIVITY</td>\n",
       "      <td>RECQL5</td>\n",
       "      <td>12</td>\n",
       "    </tr>\n",
       "  </tbody>\n",
       "</table>\n",
       "</div>"
      ],
      "text/plain": [
       "                       pathName geneSetList  n_genes\n",
       "0  GO_3_5_DNA_HELICASE_ACTIVITY      FBXO18       12\n",
       "1  GO_3_5_DNA_HELICASE_ACTIVITY      RECQL5       12"
      ]
     },
     "execution_count": 35,
     "metadata": {},
     "output_type": "execute_result"
    }
   ],
   "source": [
    "g_gs = expand_df_on_col(g_gs, 'geneSetList')\n",
    "g_gs.head(2)"
   ]
  },
  {
   "cell_type": "code",
   "execution_count": 36,
   "metadata": {},
   "outputs": [
    {
     "data": {
      "text/html": [
       "<div>\n",
       "<style scoped>\n",
       "    .dataframe tbody tr th:only-of-type {\n",
       "        vertical-align: middle;\n",
       "    }\n",
       "\n",
       "    .dataframe tbody tr th {\n",
       "        vertical-align: top;\n",
       "    }\n",
       "\n",
       "    .dataframe thead th {\n",
       "        text-align: right;\n",
       "    }\n",
       "</style>\n",
       "<table border=\"1\" class=\"dataframe\">\n",
       "  <thead>\n",
       "    <tr style=\"text-align: right;\">\n",
       "      <th></th>\n",
       "      <th>pathName</th>\n",
       "      <th>geneSetList</th>\n",
       "      <th>n_genes</th>\n",
       "      <th>gene_id</th>\n",
       "    </tr>\n",
       "  </thead>\n",
       "  <tbody>\n",
       "    <tr>\n",
       "      <th>0</th>\n",
       "      <td>GO_3_5_DNA_HELICASE_ACTIVITY</td>\n",
       "      <td>SYM:FBXO18</td>\n",
       "      <td>12</td>\n",
       "      <td>NaN</td>\n",
       "    </tr>\n",
       "    <tr>\n",
       "      <th>1</th>\n",
       "      <td>GO_3_5_DNA_HELICASE_ACTIVITY</td>\n",
       "      <td>SYM:RECQL5</td>\n",
       "      <td>12</td>\n",
       "      <td>NCBIGene:9400</td>\n",
       "    </tr>\n",
       "  </tbody>\n",
       "</table>\n",
       "</div>"
      ],
      "text/plain": [
       "                       pathName geneSetList  n_genes        gene_id\n",
       "0  GO_3_5_DNA_HELICASE_ACTIVITY  SYM:FBXO18       12            NaN\n",
       "1  GO_3_5_DNA_HELICASE_ACTIVITY  SYM:RECQL5       12  NCBIGene:9400"
      ]
     },
     "execution_count": 36,
     "metadata": {},
     "output_type": "execute_result"
    }
   ],
   "source": [
    "g_gs['geneSetList'] = 'SYM:' + g_gs['geneSetList']\n",
    "g_gs = g_gs.merge(sym_xref.rename(columns={'id': 'gene_id', 'xrefs': 'geneSetList'}), how='left', on='geneSetList')\n",
    "g_gs.head(2)"
   ]
  },
  {
   "cell_type": "code",
   "execution_count": 37,
   "metadata": {},
   "outputs": [
    {
     "data": {
      "text/plain": [
       "pathName       1.000000\n",
       "geneSetList    1.000000\n",
       "n_genes        1.000000\n",
       "gene_id        0.950244\n",
       "dtype: float64"
      ]
     },
     "execution_count": 37,
     "metadata": {},
     "output_type": "execute_result"
    }
   ],
   "source": [
    "g_gs.count() / len(g_gs)"
   ]
  },
  {
   "cell_type": "code",
   "execution_count": 38,
   "metadata": {},
   "outputs": [
    {
     "data": {
      "text/html": [
       "<div>\n",
       "<style scoped>\n",
       "    .dataframe tbody tr th:only-of-type {\n",
       "        vertical-align: middle;\n",
       "    }\n",
       "\n",
       "    .dataframe tbody tr th {\n",
       "        vertical-align: top;\n",
       "    }\n",
       "\n",
       "    .dataframe thead th {\n",
       "        text-align: right;\n",
       "    }\n",
       "</style>\n",
       "<table border=\"1\" class=\"dataframe\">\n",
       "  <thead>\n",
       "    <tr style=\"text-align: right;\">\n",
       "      <th></th>\n",
       "      <th>DB</th>\n",
       "      <th>ICD9code</th>\n",
       "      <th>PID</th>\n",
       "      <th>cases</th>\n",
       "      <th>category</th>\n",
       "      <th>controls</th>\n",
       "      <th>gaussName</th>\n",
       "      <th>geneSet</th>\n",
       "      <th>pval</th>\n",
       "      <th>selectedGenes</th>\n",
       "      <th>dis_source</th>\n",
       "      <th>gset_source</th>\n",
       "      <th>gset_id</th>\n",
       "      <th>geneSetList</th>\n",
       "      <th>n_genes</th>\n",
       "      <th>gene_id</th>\n",
       "    </tr>\n",
       "  </thead>\n",
       "  <tbody>\n",
       "    <tr>\n",
       "      <th>0</th>\n",
       "      <td>DOID:11329</td>\n",
       "      <td>136.0</td>\n",
       "      <td>GO:0005549</td>\n",
       "      <td>205.0</td>\n",
       "      <td>infectious diseases</td>\n",
       "      <td>408429.0</td>\n",
       "      <td>Other infectious and parasitic diseases</td>\n",
       "      <td>GO_ODORANT_BINDING</td>\n",
       "      <td>0.004</td>\n",
       "      <td>OR5H6,OR5K3,OR5K4,OR5L2,OR5J2,OR8U1,OR8A1,OR11...</td>\n",
       "      <td>DOID</td>\n",
       "      <td>GO</td>\n",
       "      <td>GO:0005549</td>\n",
       "      <td>SYM:OR5D16</td>\n",
       "      <td>92</td>\n",
       "      <td>NCBIGene:390144</td>\n",
       "    </tr>\n",
       "    <tr>\n",
       "      <th>1</th>\n",
       "      <td>DOID:11329</td>\n",
       "      <td>136.0</td>\n",
       "      <td>GO:0005549</td>\n",
       "      <td>205.0</td>\n",
       "      <td>infectious diseases</td>\n",
       "      <td>408429.0</td>\n",
       "      <td>Other infectious and parasitic diseases</td>\n",
       "      <td>GO_ODORANT_BINDING</td>\n",
       "      <td>0.004</td>\n",
       "      <td>OR5H6,OR5K3,OR5K4,OR5L2,OR5J2,OR8U1,OR8A1,OR11...</td>\n",
       "      <td>DOID</td>\n",
       "      <td>GO</td>\n",
       "      <td>GO:0005549</td>\n",
       "      <td>SYM:OR9K2</td>\n",
       "      <td>92</td>\n",
       "      <td>NCBIGene:441639</td>\n",
       "    </tr>\n",
       "  </tbody>\n",
       "</table>\n",
       "</div>"
      ],
      "text/plain": [
       "           DB  ICD9code         PID  cases             category  controls  \\\n",
       "0  DOID:11329     136.0  GO:0005549  205.0  infectious diseases  408429.0   \n",
       "1  DOID:11329     136.0  GO:0005549  205.0  infectious diseases  408429.0   \n",
       "\n",
       "                                 gaussName             geneSet   pval  \\\n",
       "0  Other infectious and parasitic diseases  GO_ODORANT_BINDING  0.004   \n",
       "1  Other infectious and parasitic diseases  GO_ODORANT_BINDING  0.004   \n",
       "\n",
       "                                       selectedGenes dis_source gset_source  \\\n",
       "0  OR5H6,OR5K3,OR5K4,OR5L2,OR5J2,OR8U1,OR8A1,OR11...       DOID          GO   \n",
       "1  OR5H6,OR5K3,OR5K4,OR5L2,OR5J2,OR8U1,OR8A1,OR11...       DOID          GO   \n",
       "\n",
       "      gset_id geneSetList  n_genes          gene_id  \n",
       "0  GO:0005549  SYM:OR5D16       92  NCBIGene:390144  \n",
       "1  GO:0005549   SYM:OR9K2       92  NCBIGene:441639  "
      ]
     },
     "execution_count": 38,
     "metadata": {},
     "output_type": "execute_result"
    }
   ],
   "source": [
    "gset_exp = gset_mapped.merge(g_gs.rename(columns={'pathName': 'geneSet'}), how='left', on='geneSet')\n",
    "gset_exp.head(2)"
   ]
  },
  {
   "cell_type": "code",
   "execution_count": 39,
   "metadata": {},
   "outputs": [
    {
     "data": {
      "text/plain": [
       "375270"
      ]
     },
     "execution_count": 39,
     "metadata": {},
     "output_type": "execute_result"
    }
   ],
   "source": [
    "gene_gset = gset_exp.dropna(subset=['gene_id', 'gset_id']).drop_duplicates(subset=['gene_id', 'gset_id'])\n",
    "len(gene_gset)"
   ]
  },
  {
   "cell_type": "markdown",
   "metadata": {},
   "source": [
    "### Compare with network"
   ]
  },
  {
   "cell_type": "code",
   "execution_count": 40,
   "metadata": {},
   "outputs": [],
   "source": [
    "gene_gset_tups = gene_gset[['gene_id', 'gset_id']].apply(tuple, axis=1)"
   ]
  },
  {
   "cell_type": "code",
   "execution_count": 41,
   "metadata": {},
   "outputs": [],
   "source": [
    "mapped_gset = gene_gset['gset_id'].unique()\n",
    "\n",
    "gset_lbl = nodes.query('id in @mapped_gset')['label'].unique().tolist()\n",
    "nw_ggs_e_tup = combo.query('end_label in @gset_lbl and start_label in @g_lbl')[['start_id', 'end_id']].apply(tuple, axis=1)"
   ]
  },
  {
   "cell_type": "code",
   "execution_count": 42,
   "metadata": {},
   "outputs": [
    {
     "data": {
      "image/png": "[encoded data removed]",
      "text/plain": [
       "<Figure size 432x288 with 1 Axes>"
      ]
     },
     "metadata": {},
     "output_type": "display_data"
    }
   ],
   "source": [
    "v = venn2_pretty([set(gene_gset_tups), set(nw_ggs_e_tup)], ['GAUSS Edges' ,'Network Edges'])\n",
    "plt.title('Gene - Part of - Gene Set');"
   ]
  },
  {
   "cell_type": "code",
   "execution_count": 43,
   "metadata": {},
   "outputs": [],
   "source": [
    "gene_kegg_tups = gene_gset.query('gset_source == \"KEGG\"')[['gene_id', 'gset_id']].apply(tuple, axis=1)"
   ]
  },
  {
   "cell_type": "code",
   "execution_count": 44,
   "metadata": {},
   "outputs": [
    {
     "data": {
      "image/png": "[encoded data removed]",
      "text/plain": [
       "<Figure size 432x288 with 1 Axes>"
      ]
     },
     "metadata": {},
     "output_type": "display_data"
    }
   ],
   "source": [
    "v = venn2_pretty([set(gene_kegg_tups), set([t for t in nw_ggs_e_tup if t[1].startswith('KEGG')])], ['GAUSS Edges' ,'Network Edges'])\n",
    "plt.title('Gene - Part of - Gene Set: KEGG only');"
   ]
  },
  {
   "cell_type": "code",
   "execution_count": 45,
   "metadata": {},
   "outputs": [],
   "source": [
    "gene_go_tups = gene_gset.query('gset_source == \"GO\"')[['gene_id', 'gset_id']].apply(tuple, axis=1)"
   ]
  },
  {
   "cell_type": "code",
   "execution_count": 46,
   "metadata": {},
   "outputs": [
    {
     "data": {
      "image/png": "[encoded data removed]",
      "text/plain": [
       "<Figure size 432x288 with 1 Axes>"
      ]
     },
     "metadata": {},
     "output_type": "display_data"
    }
   ],
   "source": [
    "v = venn2_pretty([set(gene_go_tups), set([t for t in nw_ggs_e_tup if t[1].startswith('GO')])], ['GAUSS Edges' ,'Network Edges'])\n",
    "plt.title('Gene - Part of - Gene Set: GO only');"
   ]
  },
  {
   "cell_type": "code",
   "execution_count": 47,
   "metadata": {},
   "outputs": [],
   "source": [
    "gene_react_tups = gene_gset.query('gset_source == \"REACT\"')[['gene_id', 'gset_id']].apply(tuple, axis=1)"
   ]
  },
  {
   "cell_type": "code",
   "execution_count": 48,
   "metadata": {},
   "outputs": [
    {
     "data": {
      "image/png": "[encoded data removed]",
      "text/plain": [
       "<Figure size 432x288 with 1 Axes>"
      ]
     },
     "metadata": {},
     "output_type": "display_data"
    }
   ],
   "source": [
    "v = venn2_pretty([set(gene_go_tups), set([t for t in nw_ggs_e_tup if t[1].startswith('REACT')])], ['GAUSS Edges' ,'Network Edges'])\n",
    "plt.title('Gene - Part of - Gene Set: REACTOME only');"
   ]
  },
  {
   "cell_type": "markdown",
   "metadata": {},
   "source": [
    "Weird... did they do punning that we haven't done? (SOURCE OF THIS DATA IS MSIGDB)"
   ]
  },
  {
   "cell_type": "markdown",
   "metadata": {},
   "source": [
    "# Map GeneSet to Disease to the Network"
   ]
  },
  {
   "cell_type": "code",
   "execution_count": 49,
   "metadata": {},
   "outputs": [],
   "source": [
    "d_to_nw = dis_mapped[['dis_id', 'DB']].drop_duplicates().dropna()"
   ]
  },
  {
   "cell_type": "code",
   "execution_count": 50,
   "metadata": {},
   "outputs": [],
   "source": [
    "gs_to_nw = gset_mapped[['gset_id', 'PID']].drop_duplicates().dropna()"
   ]
  },
  {
   "cell_type": "code",
   "execution_count": 51,
   "metadata": {},
   "outputs": [
    {
     "data": {
      "text/plain": [
       "34120"
      ]
     },
     "execution_count": 51,
     "metadata": {},
     "output_type": "execute_result"
    }
   ],
   "source": [
    "gset_to_dis = df.merge(d_to_nw, on='DB', how='inner')\n",
    "gset_to_dis = gset_to_dis.merge(gs_to_nw, on='PID', how='inner').drop_duplicates()\n",
    "\n",
    "len(gset_to_dis)"
   ]
  },
  {
   "cell_type": "code",
   "execution_count": 52,
   "metadata": {},
   "outputs": [
    {
     "data": {
      "image/png": "[encoded data removed]",
      "text/plain": [
       "<Figure size 432x288 with 1 Axes>"
      ]
     },
     "metadata": {
      "needs_background": "light"
     },
     "output_type": "display_data"
    }
   ],
   "source": [
    "nw_es = combo.query('start_label in @gset_lbl and end_label in @dis_lbl')\n",
    "\n",
    "res = (nw_es['start_label'] + ' - ' + nw_es['type'] + ' - ' + nw_es['end_label']).value_counts()\n",
    "\n",
    "fmt_func = lambda x, y: '{:,}k'.format(int(x // 1000))\n",
    "\n",
    "fig, ax = plt.subplots()\n",
    "count_plot_h(res)\n",
    "plt.title('Current edges of types found in NEW data source')\n",
    "plt.xlabel('Number of Edges')\n",
    "ax.xaxis.set_major_formatter(plt.FuncFormatter(fmt_func));"
   ]
  },
  {
   "cell_type": "code",
   "execution_count": 53,
   "metadata": {},
   "outputs": [],
   "source": [
    "gset_to_dis_tup = gset_to_dis[['gset_id', 'dis_id']].drop_duplicates().apply(tuple, axis=1)"
   ]
  },
  {
   "cell_type": "code",
   "execution_count": 54,
   "metadata": {},
   "outputs": [
    {
     "name": "stdout",
     "output_type": "stream",
     "text": [
      "CPU times: user 1min 16s, sys: 177 ms, total: 1min 16s\n",
      "Wall time: 1min 16s\n"
     ]
    }
   ],
   "source": [
    "%%time\n",
    "nw_gsd_e_tup = nw_es[['start_id', 'end_id']].apply(tuple, axis=1)"
   ]
  },
  {
   "cell_type": "code",
   "execution_count": 55,
   "metadata": {},
   "outputs": [
    {
     "data": {
      "image/png": "[encoded data removed]",
      "text/plain": [
       "<Figure size 432x288 with 1 Axes>"
      ]
     },
     "metadata": {},
     "output_type": "display_data"
    }
   ],
   "source": [
    "v = venn2_pretty([set(gset_to_dis_tup), set(nw_gsd_e_tup)], ['GAUSS Edges' ,'Network Edges'])\n",
    "lbl = v.get_label_by_id('11')\n",
    "x, y = lbl.get_position()\n",
    "lbl.set_position((x, y+.3))\n",
    "\n",
    "lbl = v.get_label_by_id('10')\n",
    "x, y = lbl.get_position()\n",
    "lbl.set_position((x-.55, y))\n",
    "plt.title('Gene Set - Associated With - Disease');"
   ]
  },
  {
   "cell_type": "code",
   "execution_count": 56,
   "metadata": {},
   "outputs": [],
   "source": [
    "overlap_e_tups = combo.query('start_id in @mapped_gset and end_id in @dis_ids')[['start_id', 'end_id']].apply(tuple, axis=1)"
   ]
  },
  {
   "cell_type": "code",
   "execution_count": 57,
   "metadata": {},
   "outputs": [
    {
     "data": {
      "image/png": "[encoded data removed]",
      "text/plain": [
       "<Figure size 432x288 with 1 Axes>"
      ]
     },
     "metadata": {},
     "output_type": "display_data"
    }
   ],
   "source": [
    "v = venn2_pretty([set(gset_to_dis_tup), set(overlap_e_tups)], ['GAUSS Edges' ,'Network Edges'])\n",
    "plt.title('Gene Set - Associated With - Disease\\nOnly GSets and Diseases in GAUSS');"
   ]
  },
  {
   "cell_type": "code",
   "execution_count": 58,
   "metadata": {},
   "outputs": [],
   "source": [
    "nw_gauss_dis_deg = combo.query('type == \"associated_with\" and end_id in @dis_ids')['end_id'].value_counts()\n",
    "nw_gauss_pw_deg = combo.query('type == \"associated_with\" and start_id in @mapped_gset')['start_id'].value_counts()"
   ]
  },
  {
   "cell_type": "code",
   "execution_count": 59,
   "metadata": {},
   "outputs": [],
   "source": [
    "nw_all_dis_deg = combo.query('type == \"associated_with\" and end_label in @dis_lbl')['end_id'].value_counts()\n",
    "nw_all_pw_deg = combo.query('type == \"associated_with\" and start_label in @gset_lbl')['start_id'].value_counts()"
   ]
  },
  {
   "cell_type": "code",
   "execution_count": 60,
   "metadata": {},
   "outputs": [],
   "source": [
    "nw_other_dis_deg = combo.query('type == \"associated_with\" and end_label in @dis_lbl and end_id not in @dis_ids')['end_id'].value_counts()\n",
    "nw_other_pw_deg = combo.query('type == \"associated_with\" and start_label in @gset_lbl and start_id not in @mapped_gset')['start_id'].value_counts()"
   ]
  },
  {
   "cell_type": "code",
   "execution_count": 61,
   "metadata": {},
   "outputs": [
    {
     "data": {
      "image/png": "[encoded data removed]",
      "text/plain": [
       "<Figure size 432x288 with 1 Axes>"
      ]
     },
     "metadata": {
      "needs_background": "light"
     },
     "output_type": "display_data"
    }
   ],
   "source": [
    "sns.distplot(np.log(nw_gauss_dis_deg), label = 'Gauss')\n",
    "sns.distplot(np.log(nw_all_dis_deg), label = 'All')\n",
    "sns.distplot(np.log(nw_other_dis_deg), label = 'non-Gauss')\n",
    "plt.legend()\n",
    "plt.xlabel('log degree of Disease Node')\n",
    "plt.title('Degree of PWaD edges for Diseases');"
   ]
  },
  {
   "cell_type": "code",
   "execution_count": 62,
   "metadata": {},
   "outputs": [
    {
     "data": {
      "image/png": "[encoded data removed]",
      "text/plain": [
       "<Figure size 432x288 with 1 Axes>"
      ]
     },
     "metadata": {
      "needs_background": "light"
     },
     "output_type": "display_data"
    }
   ],
   "source": [
    "sns.distplot(np.log(nw_gauss_pw_deg), label = 'Gauss')\n",
    "sns.distplot(np.log(nw_all_pw_deg), label = 'All')\n",
    "sns.distplot(np.log(nw_other_pw_deg), label = 'non-Gauss')\n",
    "plt.legend()\n",
    "plt.xlabel('log degree of Pathway Node')\n",
    "plt.title('Degree of PWaD edges for Gene-Sets');"
   ]
  },
  {
   "cell_type": "code",
   "execution_count": 63,
   "metadata": {},
   "outputs": [
    {
     "name": "stdout",
     "output_type": "stream",
     "text": [
      "Diseases with Dis-Gset assoc: 313\n",
      "Diseases without Dis-Gset assoc: 127\n",
      "% of new Diseases in GAUSS Dataset: 28.86%\n",
      "# Assoc. to diseases with no previous Assoc: 6,523\n",
      "% of total GAUSS assoc to Disease with no previous assoc: 19.12%\n",
      "\n",
      "\n",
      "Gsets with previous Dis-Gset assoc: 1,955\n",
      "Gsets without previous Dis-Gset assoc: 423\n",
      "% of new Gsets in GAUSS Dataset: 17.79%\n",
      "# Assoc to Gsets with no previous assoc: 6,735\n",
      "% of total GAUSS assoc to Gsets with no previous assoc: 19.74%\n",
      "\n",
      "\n",
      "# Assoc between gsets and diseases both with no previous assoc: 1,398\n",
      "4.10%\n"
     ]
    }
   ],
   "source": [
    "dis_no_edge_in_nw = set(dis_ids) - set(nw_gauss_dis_deg.index)\n",
    "pw_no_edge_in_nw = set(mapped_gset) - set(nw_gauss_pw_deg.index)\n",
    "\n",
    "print('Diseases with Dis-Gset assoc: {:,}'.format(len(dis_ids) - len(dis_no_edge_in_nw)))\n",
    "print('Diseases without Dis-Gset assoc: {:,}'.format(len(dis_no_edge_in_nw)))\n",
    "print('% of new Diseases in GAUSS Dataset: {:1.2%}'.format(len(dis_no_edge_in_nw) / len(dis_ids)))\n",
    "print('# Assoc. to diseases with no previous Assoc: {:,}'.format(len(gset_to_dis.query('dis_id in @dis_no_edge_in_nw'))))\n",
    "print('% of total GAUSS assoc to Disease with no previous assoc: {:1.2%}'.format(len(gset_to_dis.query('dis_id in @dis_no_edge_in_nw')) / len(gset_to_dis)))\n",
    "\n",
    "print('\\n')\n",
    "print('Gsets with previous Dis-Gset assoc: {:,}'.format(len(mapped_gset) - len(pw_no_edge_in_nw)))\n",
    "print('Gsets without previous Dis-Gset assoc: {:,}'.format(len(pw_no_edge_in_nw)))\n",
    "print('% of new Gsets in GAUSS Dataset: {:1.2%}'.format(len(pw_no_edge_in_nw) / len(mapped_gset)))\n",
    "print('# Assoc to Gsets with no previous assoc: {:,}'.format(len(gset_to_dis.query('gset_id in @pw_no_edge_in_nw'))))\n",
    "print('% of total GAUSS assoc to Gsets with no previous assoc: {:1.2%}'.format(len(gset_to_dis.query('gset_id in @pw_no_edge_in_nw')) / len(gset_to_dis)))\n",
    "\n",
    "\n",
    "print('\\n')\n",
    "print('# Assoc between gsets and diseases both with no previous assoc: {:,}'.format(len(gset_to_dis.query('dis_id in @dis_no_edge_in_nw and gset_id in @pw_no_edge_in_nw'))))\n",
    "print('{:1.2%}'.format(len(gset_to_dis.query('dis_id in @dis_no_edge_in_nw and gset_id in @pw_no_edge_in_nw')) / len(gset_to_dis)))"
   ]
  },
  {
   "cell_type": "code",
   "execution_count": 64,
   "metadata": {},
   "outputs": [
    {
     "data": {
      "text/plain": [
       "(29, 284)"
      ]
     },
     "execution_count": 64,
     "metadata": {},
     "output_type": "execute_result"
    }
   ],
   "source": [
    "(nw_gauss_dis_deg <= 10).sum(), (nw_gauss_dis_deg > 10).sum() "
   ]
  },
  {
   "cell_type": "code",
   "execution_count": 65,
   "metadata": {},
   "outputs": [
    {
     "data": {
      "text/plain": [
       "(157, 1798)"
      ]
     },
     "execution_count": 65,
     "metadata": {},
     "output_type": "execute_result"
    }
   ],
   "source": [
    "(nw_gauss_pw_deg <= 10).sum(), (nw_gauss_pw_deg > 10).sum()"
   ]
  },
  {
   "cell_type": "markdown",
   "metadata": {},
   "source": [
    "Just as a quick summary, Gauss had 431 Diseases and 2,378 Gene Sets that could be mapped to the network.\n",
    "\n",
    "\n",
    "I checked the degree of 'Gene-set Associated-with Disease' edges for both the Diseases and the Gene-Sets found in the Gauss dataset, and comapred them to the degree of all the Diseases or Gene-sets in the network, to see if the new Gauss edges were selecteing for Diseases and Gene Sets we already have a lot of Edges for... I've plotted the distributions of log node degree for these different subsets separately. \n",
    "\n",
    "It appears that the Gauss dataset seems to be selecting for the Disease and Gene Sets that either already have a lot of GeneSet to Disease Associations, or have no assocations whatsoever. I think this results in a case wehre more data is better than no data, so I will be keeping these edges."
   ]
  },
  {
   "cell_type": "markdown",
   "metadata": {},
   "source": [
    "# Adding new information to the network\n",
    "\n",
    "Because the Gene to Geneset comes from MSigDB and because it is VERY different from the Pathway and GO to gene annotations we already have, we will not be importing to the network.\n",
    "\n",
    "Similarly, the Disease to Gene assocations, while novel, do not seem appropriate to add.  They are simply a combination where maximize the potential for finding statistical significance between the Gene Set and the Disease, but are not necessarily themselves significantly assocated with the disease individually.\n",
    "\n",
    "Finally, for reasons enumerated above, we will be adding the GeneSet to Disease information as it add more vital information for the model to learn, predict, and explain from."
   ]
  },
  {
   "cell_type": "code",
   "execution_count": 66,
   "metadata": {},
   "outputs": [],
   "source": [
    "edges_out = gset_to_dis[['gset_id', 'dis_id', 'pval']].copy()\n",
    "edges_out.columns = ['start_id', 'end_id', 'p_val']\n",
    "\n",
    "edges_out['type'] = 'associated_with'\n",
    "edges_out['dsrc_type'] = 'computed'\n",
    "edges_out['comp_type'] = 'gauss_test'\n",
    "edges_out['source'] = 'GAUSS'\n",
    "edges_out['license'] = 'Unknown'"
   ]
  },
  {
   "cell_type": "code",
   "execution_count": 67,
   "metadata": {},
   "outputs": [],
   "source": [
    "edges_out = pd.concat([edges, edges_out], sort=False, ignore_index=True)"
   ]
  },
  {
   "cell_type": "code",
   "execution_count": 68,
   "metadata": {},
   "outputs": [
    {
     "data": {
      "application/vnd.jupyter.widget-view+json": {
       "model_id": "f4a4d61c4cc84727ad0909b491de9af7",
       "version_major": 2,
       "version_minor": 0
      },
      "text/plain": [
       "HBox(children=(FloatProgress(value=0.0, description='total_progress', max=4.0, style=ProgressStyle(description…"
      ]
     },
     "metadata": {},
     "output_type": "display_data"
    },
    {
     "name": "stderr",
     "output_type": "stream",
     "text": [
      "/home/mmayers/software/miniconda3/envs/ml/lib/python3.7/site-packages/tqdm/std.py:656: FutureWarning: The Panel class is removed from pandas. Accessing it from the top-level namespace will also be removed in the next version\n",
      "  from pandas import Panel\n"
     ]
    },
    {
     "data": {
      "application/vnd.jupyter.widget-view+json": {
       "model_id": "ad9fcd877dbc4568a663add034f994ca",
       "version_major": 2,
       "version_minor": 0
      },
      "text/plain": [
       "HBox(children=(FloatProgress(value=0.0, description='comp_type', max=3769.0, style=ProgressStyle(description_w…"
      ]
     },
     "metadata": {},
     "output_type": "display_data"
    },
    {
     "name": "stdout",
     "output_type": "stream",
     "text": [
      "\n"
     ]
    },
    {
     "data": {
      "application/vnd.jupyter.widget-view+json": {
       "model_id": "4db6d987f20146b2a5e4ab1a7715b4bf",
       "version_major": 2,
       "version_minor": 0
      },
      "text/plain": [
       "HBox(children=(FloatProgress(value=0.0, description='p_val', max=3769.0, style=ProgressStyle(description_width…"
      ]
     },
     "metadata": {},
     "output_type": "display_data"
    },
    {
     "name": "stdout",
     "output_type": "stream",
     "text": [
      "\n"
     ]
    },
    {
     "data": {
      "application/vnd.jupyter.widget-view+json": {
       "model_id": "7c8056db5cd841548379f8cf1894b66f",
       "version_major": 2,
       "version_minor": 0
      },
      "text/plain": [
       "HBox(children=(FloatProgress(value=0.0, description='source', max=3769.0, style=ProgressStyle(description_widt…"
      ]
     },
     "metadata": {},
     "output_type": "display_data"
    },
    {
     "name": "stdout",
     "output_type": "stream",
     "text": [
      "\n"
     ]
    },
    {
     "data": {
      "application/vnd.jupyter.widget-view+json": {
       "model_id": "f09ec0ad973d427bba87bd0a6660a27b",
       "version_major": 2,
       "version_minor": 0
      },
      "text/plain": [
       "HBox(children=(FloatProgress(value=0.0, description='license', max=3769.0, style=ProgressStyle(description_wid…"
      ]
     },
     "metadata": {},
     "output_type": "display_data"
    },
    {
     "name": "stdout",
     "output_type": "stream",
     "text": [
      "\n",
      "\n"
     ]
    }
   ],
   "source": [
    "edges_out = combine_group_cols_on_char(edges_out, ['start_id', 'type', 'end_id'])"
   ]
  },
  {
   "cell_type": "code",
   "execution_count": 69,
   "metadata": {},
   "outputs": [
    {
     "data": {
      "text/plain": [
       "True"
      ]
     },
     "execution_count": 69,
     "metadata": {},
     "output_type": "execute_result"
    }
   ],
   "source": [
    "edge_ids = edges_out[['start_id', 'end_id']].stack().unique()\n",
    "nodes_out_filt = nodes.query('id in @edge_ids')\n",
    "\n",
    "len(edge_ids) == len(nodes_out_filt)"
   ]
  },
  {
   "cell_type": "markdown",
   "metadata": {},
   "source": [
    "## Save the result"
   ]
  },
  {
   "cell_type": "code",
   "execution_count": 70,
   "metadata": {},
   "outputs": [],
   "source": [
    "this_name = '09_GAUSS_Geneset_to_Phenotype'\n",
    "out_dir = Path('../2_pipeline/').joinpath(this_name).joinpath('out')\n",
    "out_dir.mkdir(parents=True, exist_ok=True)"
   ]
  },
  {
   "cell_type": "code",
   "execution_count": 71,
   "metadata": {},
   "outputs": [],
   "source": [
    "nodes.to_csv(out_dir.joinpath('nodes.csv'), index=False)\n",
    "nodes_out_filt.to_csv(out_dir.joinpath('nodes_filt.csv'), index=False)\n",
    "edges_out.to_csv(out_dir.joinpath('edges.csv'), index=False)"
   ]
  },
  {
   "cell_type": "code",
   "execution_count": null,
   "metadata": {},
   "outputs": [],
   "source": []
  },
  {
   "cell_type": "code",
   "execution_count": 79,
   "metadata": {},
   "outputs": [
    {
     "ename": "UndefinedVariableError",
     "evalue": "local variable 'pro' is not defined",
     "output_type": "error",
     "traceback": [
      "\u001b[0;31m---------------------------------------------------------------------------\u001b[0m",
      "\u001b[0;31mKeyError\u001b[0m                                  Traceback (most recent call last)",
      "\u001b[0;32m~/software/miniconda3/envs/ml/lib/python3.7/site-packages/pandas/core/computation/scope.py\u001b[0m in \u001b[0;36mresolve\u001b[0;34m(self, key, is_local)\u001b[0m\n\u001b[1;32m    183\u001b[0m             \u001b[0;32mif\u001b[0m \u001b[0mis_local\u001b[0m\u001b[0;34m:\u001b[0m\u001b[0;34m\u001b[0m\u001b[0;34m\u001b[0m\u001b[0m\n\u001b[0;32m--> 184\u001b[0;31m                 \u001b[0;32mreturn\u001b[0m \u001b[0mself\u001b[0m\u001b[0;34m.\u001b[0m\u001b[0mscope\u001b[0m\u001b[0;34m[\u001b[0m\u001b[0mkey\u001b[0m\u001b[0;34m]\u001b[0m\u001b[0;34m\u001b[0m\u001b[0;34m\u001b[0m\u001b[0m\n\u001b[0m\u001b[1;32m    185\u001b[0m \u001b[0;34m\u001b[0m\u001b[0m\n",
      "\u001b[0;32m~/software/miniconda3/envs/ml/lib/python3.7/collections/__init__.py\u001b[0m in \u001b[0;36m__getitem__\u001b[0;34m(self, key)\u001b[0m\n\u001b[1;32m    915\u001b[0m                 \u001b[0;32mpass\u001b[0m\u001b[0;34m\u001b[0m\u001b[0;34m\u001b[0m\u001b[0m\n\u001b[0;32m--> 916\u001b[0;31m         \u001b[0;32mreturn\u001b[0m \u001b[0mself\u001b[0m\u001b[0;34m.\u001b[0m\u001b[0m__missing__\u001b[0m\u001b[0;34m(\u001b[0m\u001b[0mkey\u001b[0m\u001b[0;34m)\u001b[0m            \u001b[0;31m# support subclasses that define __missing__\u001b[0m\u001b[0;34m\u001b[0m\u001b[0;34m\u001b[0m\u001b[0m\n\u001b[0m\u001b[1;32m    917\u001b[0m \u001b[0;34m\u001b[0m\u001b[0m\n",
      "\u001b[0;32m~/software/miniconda3/envs/ml/lib/python3.7/collections/__init__.py\u001b[0m in \u001b[0;36m__missing__\u001b[0;34m(self, key)\u001b[0m\n\u001b[1;32m    907\u001b[0m     \u001b[0;32mdef\u001b[0m \u001b[0m__missing__\u001b[0m\u001b[0;34m(\u001b[0m\u001b[0mself\u001b[0m\u001b[0;34m,\u001b[0m \u001b[0mkey\u001b[0m\u001b[0;34m)\u001b[0m\u001b[0;34m:\u001b[0m\u001b[0;34m\u001b[0m\u001b[0;34m\u001b[0m\u001b[0m\n\u001b[0;32m--> 908\u001b[0;31m         \u001b[0;32mraise\u001b[0m \u001b[0mKeyError\u001b[0m\u001b[0;34m(\u001b[0m\u001b[0mkey\u001b[0m\u001b[0;34m)\u001b[0m\u001b[0;34m\u001b[0m\u001b[0;34m\u001b[0m\u001b[0m\n\u001b[0m\u001b[1;32m    909\u001b[0m \u001b[0;34m\u001b[0m\u001b[0m\n",
      "\u001b[0;31mKeyError\u001b[0m: 'pro'",
      "\nDuring handling of the above exception, another exception occurred:\n",
      "\u001b[0;31mKeyError\u001b[0m                                  Traceback (most recent call last)",
      "\u001b[0;32m~/software/miniconda3/envs/ml/lib/python3.7/site-packages/pandas/core/computation/scope.py\u001b[0m in \u001b[0;36mresolve\u001b[0;34m(self, key, is_local)\u001b[0m\n\u001b[1;32m    198\u001b[0m                 \u001b[0;31m# e.g., df[df > 0]\u001b[0m\u001b[0;34m\u001b[0m\u001b[0;34m\u001b[0m\u001b[0;34m\u001b[0m\u001b[0m\n\u001b[0;32m--> 199\u001b[0;31m                 \u001b[0;32mreturn\u001b[0m \u001b[0mself\u001b[0m\u001b[0;34m.\u001b[0m\u001b[0mtemps\u001b[0m\u001b[0;34m[\u001b[0m\u001b[0mkey\u001b[0m\u001b[0;34m]\u001b[0m\u001b[0;34m\u001b[0m\u001b[0;34m\u001b[0m\u001b[0m\n\u001b[0m\u001b[1;32m    200\u001b[0m             \u001b[0;32mexcept\u001b[0m \u001b[0mKeyError\u001b[0m\u001b[0;34m:\u001b[0m\u001b[0;34m\u001b[0m\u001b[0;34m\u001b[0m\u001b[0m\n",
      "\u001b[0;31mKeyError\u001b[0m: 'pro'",
      "\nDuring handling of the above exception, another exception occurred:\n",
      "\u001b[0;31mUndefinedVariableError\u001b[0m                    Traceback (most recent call last)",
      "\u001b[0;32m<ipython-input-79-5ff476cad9bd>\u001b[0m in \u001b[0;36m<module>\u001b[0;34m\u001b[0m\n\u001b[0;32m----> 1\u001b[0;31m \u001b[0medges_out\u001b[0m\u001b[0;34m.\u001b[0m\u001b[0mquery\u001b[0m\u001b[0;34m(\u001b[0m\u001b[0;34m'end_id in @pro and type == \"inhibitor\"'\u001b[0m\u001b[0;34m)\u001b[0m\u001b[0;34m\u001b[0m\u001b[0;34m\u001b[0m\u001b[0m\n\u001b[0m",
      "\u001b[0;32m~/software/miniconda3/envs/ml/lib/python3.7/site-packages/pandas/core/frame.py\u001b[0m in \u001b[0;36mquery\u001b[0;34m(self, expr, inplace, **kwargs)\u001b[0m\n\u001b[1;32m   3197\u001b[0m         \u001b[0mkwargs\u001b[0m\u001b[0;34m[\u001b[0m\u001b[0;34m\"level\"\u001b[0m\u001b[0;34m]\u001b[0m \u001b[0;34m=\u001b[0m \u001b[0mkwargs\u001b[0m\u001b[0;34m.\u001b[0m\u001b[0mpop\u001b[0m\u001b[0;34m(\u001b[0m\u001b[0;34m\"level\"\u001b[0m\u001b[0;34m,\u001b[0m \u001b[0;36m0\u001b[0m\u001b[0;34m)\u001b[0m \u001b[0;34m+\u001b[0m \u001b[0;36m1\u001b[0m\u001b[0;34m\u001b[0m\u001b[0;34m\u001b[0m\u001b[0m\n\u001b[1;32m   3198\u001b[0m         \u001b[0mkwargs\u001b[0m\u001b[0;34m[\u001b[0m\u001b[0;34m\"target\"\u001b[0m\u001b[0;34m]\u001b[0m \u001b[0;34m=\u001b[0m \u001b[0;32mNone\u001b[0m\u001b[0;34m\u001b[0m\u001b[0;34m\u001b[0m\u001b[0m\n\u001b[0;32m-> 3199\u001b[0;31m         \u001b[0mres\u001b[0m \u001b[0;34m=\u001b[0m \u001b[0mself\u001b[0m\u001b[0;34m.\u001b[0m\u001b[0meval\u001b[0m\u001b[0;34m(\u001b[0m\u001b[0mexpr\u001b[0m\u001b[0;34m,\u001b[0m \u001b[0;34m**\u001b[0m\u001b[0mkwargs\u001b[0m\u001b[0;34m)\u001b[0m\u001b[0;34m\u001b[0m\u001b[0;34m\u001b[0m\u001b[0m\n\u001b[0m\u001b[1;32m   3200\u001b[0m \u001b[0;34m\u001b[0m\u001b[0m\n\u001b[1;32m   3201\u001b[0m         \u001b[0;32mtry\u001b[0m\u001b[0;34m:\u001b[0m\u001b[0;34m\u001b[0m\u001b[0;34m\u001b[0m\u001b[0m\n",
      "\u001b[0;32m~/software/miniconda3/envs/ml/lib/python3.7/site-packages/pandas/core/frame.py\u001b[0m in \u001b[0;36meval\u001b[0;34m(self, expr, inplace, **kwargs)\u001b[0m\n\u001b[1;32m   3313\u001b[0m             \u001b[0mkwargs\u001b[0m\u001b[0;34m[\u001b[0m\u001b[0;34m\"target\"\u001b[0m\u001b[0;34m]\u001b[0m \u001b[0;34m=\u001b[0m \u001b[0mself\u001b[0m\u001b[0;34m\u001b[0m\u001b[0;34m\u001b[0m\u001b[0m\n\u001b[1;32m   3314\u001b[0m         \u001b[0mkwargs\u001b[0m\u001b[0;34m[\u001b[0m\u001b[0;34m\"resolvers\"\u001b[0m\u001b[0;34m]\u001b[0m \u001b[0;34m=\u001b[0m \u001b[0mkwargs\u001b[0m\u001b[0;34m.\u001b[0m\u001b[0mget\u001b[0m\u001b[0;34m(\u001b[0m\u001b[0;34m\"resolvers\"\u001b[0m\u001b[0;34m,\u001b[0m \u001b[0;34m(\u001b[0m\u001b[0;34m)\u001b[0m\u001b[0;34m)\u001b[0m \u001b[0;34m+\u001b[0m \u001b[0mtuple\u001b[0m\u001b[0;34m(\u001b[0m\u001b[0mresolvers\u001b[0m\u001b[0;34m)\u001b[0m\u001b[0;34m\u001b[0m\u001b[0;34m\u001b[0m\u001b[0m\n\u001b[0;32m-> 3315\u001b[0;31m         \u001b[0;32mreturn\u001b[0m \u001b[0m_eval\u001b[0m\u001b[0;34m(\u001b[0m\u001b[0mexpr\u001b[0m\u001b[0;34m,\u001b[0m \u001b[0minplace\u001b[0m\u001b[0;34m=\u001b[0m\u001b[0minplace\u001b[0m\u001b[0;34m,\u001b[0m \u001b[0;34m**\u001b[0m\u001b[0mkwargs\u001b[0m\u001b[0;34m)\u001b[0m\u001b[0;34m\u001b[0m\u001b[0;34m\u001b[0m\u001b[0m\n\u001b[0m\u001b[1;32m   3316\u001b[0m \u001b[0;34m\u001b[0m\u001b[0m\n\u001b[1;32m   3317\u001b[0m     \u001b[0;32mdef\u001b[0m \u001b[0mselect_dtypes\u001b[0m\u001b[0;34m(\u001b[0m\u001b[0mself\u001b[0m\u001b[0;34m,\u001b[0m \u001b[0minclude\u001b[0m\u001b[0;34m=\u001b[0m\u001b[0;32mNone\u001b[0m\u001b[0;34m,\u001b[0m \u001b[0mexclude\u001b[0m\u001b[0;34m=\u001b[0m\u001b[0;32mNone\u001b[0m\u001b[0;34m)\u001b[0m\u001b[0;34m:\u001b[0m\u001b[0;34m\u001b[0m\u001b[0;34m\u001b[0m\u001b[0m\n",
      "\u001b[0;32m~/software/miniconda3/envs/ml/lib/python3.7/site-packages/pandas/core/computation/eval.py\u001b[0m in \u001b[0;36meval\u001b[0;34m(expr, parser, engine, truediv, local_dict, global_dict, resolvers, level, target, inplace)\u001b[0m\n\u001b[1;32m    320\u001b[0m         )\n\u001b[1;32m    321\u001b[0m \u001b[0;34m\u001b[0m\u001b[0m\n\u001b[0;32m--> 322\u001b[0;31m         \u001b[0mparsed_expr\u001b[0m \u001b[0;34m=\u001b[0m \u001b[0mExpr\u001b[0m\u001b[0;34m(\u001b[0m\u001b[0mexpr\u001b[0m\u001b[0;34m,\u001b[0m \u001b[0mengine\u001b[0m\u001b[0;34m=\u001b[0m\u001b[0mengine\u001b[0m\u001b[0;34m,\u001b[0m \u001b[0mparser\u001b[0m\u001b[0;34m=\u001b[0m\u001b[0mparser\u001b[0m\u001b[0;34m,\u001b[0m \u001b[0menv\u001b[0m\u001b[0;34m=\u001b[0m\u001b[0menv\u001b[0m\u001b[0;34m,\u001b[0m \u001b[0mtruediv\u001b[0m\u001b[0;34m=\u001b[0m\u001b[0mtruediv\u001b[0m\u001b[0;34m)\u001b[0m\u001b[0;34m\u001b[0m\u001b[0;34m\u001b[0m\u001b[0m\n\u001b[0m\u001b[1;32m    323\u001b[0m \u001b[0;34m\u001b[0m\u001b[0m\n\u001b[1;32m    324\u001b[0m         \u001b[0;31m# construct the engine and evaluate the parsed expression\u001b[0m\u001b[0;34m\u001b[0m\u001b[0;34m\u001b[0m\u001b[0;34m\u001b[0m\u001b[0m\n",
      "\u001b[0;32m~/software/miniconda3/envs/ml/lib/python3.7/site-packages/pandas/core/computation/expr.py\u001b[0m in \u001b[0;36m__init__\u001b[0;34m(self, expr, engine, parser, env, truediv, level)\u001b[0m\n\u001b[1;32m    828\u001b[0m         \u001b[0mself\u001b[0m\u001b[0;34m.\u001b[0m\u001b[0menv\u001b[0m\u001b[0;34m.\u001b[0m\u001b[0mscope\u001b[0m\u001b[0;34m[\u001b[0m\u001b[0;34m\"truediv\"\u001b[0m\u001b[0;34m]\u001b[0m \u001b[0;34m=\u001b[0m \u001b[0mtruediv\u001b[0m\u001b[0;34m\u001b[0m\u001b[0;34m\u001b[0m\u001b[0m\n\u001b[1;32m    829\u001b[0m         \u001b[0mself\u001b[0m\u001b[0;34m.\u001b[0m\u001b[0m_visitor\u001b[0m \u001b[0;34m=\u001b[0m \u001b[0m_parsers\u001b[0m\u001b[0;34m[\u001b[0m\u001b[0mparser\u001b[0m\u001b[0;34m]\u001b[0m\u001b[0;34m(\u001b[0m\u001b[0mself\u001b[0m\u001b[0;34m.\u001b[0m\u001b[0menv\u001b[0m\u001b[0;34m,\u001b[0m \u001b[0mself\u001b[0m\u001b[0;34m.\u001b[0m\u001b[0mengine\u001b[0m\u001b[0;34m,\u001b[0m \u001b[0mself\u001b[0m\u001b[0;34m.\u001b[0m\u001b[0mparser\u001b[0m\u001b[0;34m)\u001b[0m\u001b[0;34m\u001b[0m\u001b[0;34m\u001b[0m\u001b[0m\n\u001b[0;32m--> 830\u001b[0;31m         \u001b[0mself\u001b[0m\u001b[0;34m.\u001b[0m\u001b[0mterms\u001b[0m \u001b[0;34m=\u001b[0m \u001b[0mself\u001b[0m\u001b[0;34m.\u001b[0m\u001b[0mparse\u001b[0m\u001b[0;34m(\u001b[0m\u001b[0;34m)\u001b[0m\u001b[0;34m\u001b[0m\u001b[0;34m\u001b[0m\u001b[0m\n\u001b[0m\u001b[1;32m    831\u001b[0m \u001b[0;34m\u001b[0m\u001b[0m\n\u001b[1;32m    832\u001b[0m     \u001b[0;34m@\u001b[0m\u001b[0mproperty\u001b[0m\u001b[0;34m\u001b[0m\u001b[0;34m\u001b[0m\u001b[0m\n",
      "\u001b[0;32m~/software/miniconda3/envs/ml/lib/python3.7/site-packages/pandas/core/computation/expr.py\u001b[0m in \u001b[0;36mparse\u001b[0;34m(self)\u001b[0m\n\u001b[1;32m    845\u001b[0m     \u001b[0;32mdef\u001b[0m \u001b[0mparse\u001b[0m\u001b[0;34m(\u001b[0m\u001b[0mself\u001b[0m\u001b[0;34m)\u001b[0m\u001b[0;34m:\u001b[0m\u001b[0;34m\u001b[0m\u001b[0;34m\u001b[0m\u001b[0m\n\u001b[1;32m    846\u001b[0m         \u001b[0;34m\"\"\"Parse an expression\"\"\"\u001b[0m\u001b[0;34m\u001b[0m\u001b[0;34m\u001b[0m\u001b[0m\n\u001b[0;32m--> 847\u001b[0;31m         \u001b[0;32mreturn\u001b[0m \u001b[0mself\u001b[0m\u001b[0;34m.\u001b[0m\u001b[0m_visitor\u001b[0m\u001b[0;34m.\u001b[0m\u001b[0mvisit\u001b[0m\u001b[0;34m(\u001b[0m\u001b[0mself\u001b[0m\u001b[0;34m.\u001b[0m\u001b[0mexpr\u001b[0m\u001b[0;34m)\u001b[0m\u001b[0;34m\u001b[0m\u001b[0;34m\u001b[0m\u001b[0m\n\u001b[0m\u001b[1;32m    848\u001b[0m \u001b[0;34m\u001b[0m\u001b[0m\n\u001b[1;32m    849\u001b[0m     \u001b[0;34m@\u001b[0m\u001b[0mproperty\u001b[0m\u001b[0;34m\u001b[0m\u001b[0;34m\u001b[0m\u001b[0m\n",
      "\u001b[0;32m~/software/miniconda3/envs/ml/lib/python3.7/site-packages/pandas/core/computation/expr.py\u001b[0m in \u001b[0;36mvisit\u001b[0;34m(self, node, **kwargs)\u001b[0m\n\u001b[1;32m    439\u001b[0m         \u001b[0mmethod\u001b[0m \u001b[0;34m=\u001b[0m \u001b[0;34m\"visit_\"\u001b[0m \u001b[0;34m+\u001b[0m \u001b[0mnode\u001b[0m\u001b[0;34m.\u001b[0m\u001b[0m__class__\u001b[0m\u001b[0;34m.\u001b[0m\u001b[0m__name__\u001b[0m\u001b[0;34m\u001b[0m\u001b[0;34m\u001b[0m\u001b[0m\n\u001b[1;32m    440\u001b[0m         \u001b[0mvisitor\u001b[0m \u001b[0;34m=\u001b[0m \u001b[0mgetattr\u001b[0m\u001b[0;34m(\u001b[0m\u001b[0mself\u001b[0m\u001b[0;34m,\u001b[0m \u001b[0mmethod\u001b[0m\u001b[0;34m)\u001b[0m\u001b[0;34m\u001b[0m\u001b[0;34m\u001b[0m\u001b[0m\n\u001b[0;32m--> 441\u001b[0;31m         \u001b[0;32mreturn\u001b[0m \u001b[0mvisitor\u001b[0m\u001b[0;34m(\u001b[0m\u001b[0mnode\u001b[0m\u001b[0;34m,\u001b[0m \u001b[0;34m**\u001b[0m\u001b[0mkwargs\u001b[0m\u001b[0;34m)\u001b[0m\u001b[0;34m\u001b[0m\u001b[0;34m\u001b[0m\u001b[0m\n\u001b[0m\u001b[1;32m    442\u001b[0m \u001b[0;34m\u001b[0m\u001b[0m\n\u001b[1;32m    443\u001b[0m     \u001b[0;32mdef\u001b[0m \u001b[0mvisit_Module\u001b[0m\u001b[0;34m(\u001b[0m\u001b[0mself\u001b[0m\u001b[0;34m,\u001b[0m \u001b[0mnode\u001b[0m\u001b[0;34m,\u001b[0m \u001b[0;34m**\u001b[0m\u001b[0mkwargs\u001b[0m\u001b[0;34m)\u001b[0m\u001b[0;34m:\u001b[0m\u001b[0;34m\u001b[0m\u001b[0;34m\u001b[0m\u001b[0m\n",
      "\u001b[0;32m~/software/miniconda3/envs/ml/lib/python3.7/site-packages/pandas/core/computation/expr.py\u001b[0m in \u001b[0;36mvisit_Module\u001b[0;34m(self, node, **kwargs)\u001b[0m\n\u001b[1;32m    445\u001b[0m             \u001b[0;32mraise\u001b[0m \u001b[0mSyntaxError\u001b[0m\u001b[0;34m(\u001b[0m\u001b[0;34m\"only a single expression is allowed\"\u001b[0m\u001b[0;34m)\u001b[0m\u001b[0;34m\u001b[0m\u001b[0;34m\u001b[0m\u001b[0m\n\u001b[1;32m    446\u001b[0m         \u001b[0mexpr\u001b[0m \u001b[0;34m=\u001b[0m \u001b[0mnode\u001b[0m\u001b[0;34m.\u001b[0m\u001b[0mbody\u001b[0m\u001b[0;34m[\u001b[0m\u001b[0;36m0\u001b[0m\u001b[0;34m]\u001b[0m\u001b[0;34m\u001b[0m\u001b[0;34m\u001b[0m\u001b[0m\n\u001b[0;32m--> 447\u001b[0;31m         \u001b[0;32mreturn\u001b[0m \u001b[0mself\u001b[0m\u001b[0;34m.\u001b[0m\u001b[0mvisit\u001b[0m\u001b[0;34m(\u001b[0m\u001b[0mexpr\u001b[0m\u001b[0;34m,\u001b[0m \u001b[0;34m**\u001b[0m\u001b[0mkwargs\u001b[0m\u001b[0;34m)\u001b[0m\u001b[0;34m\u001b[0m\u001b[0;34m\u001b[0m\u001b[0m\n\u001b[0m\u001b[1;32m    448\u001b[0m \u001b[0;34m\u001b[0m\u001b[0m\n\u001b[1;32m    449\u001b[0m     \u001b[0;32mdef\u001b[0m \u001b[0mvisit_Expr\u001b[0m\u001b[0;34m(\u001b[0m\u001b[0mself\u001b[0m\u001b[0;34m,\u001b[0m \u001b[0mnode\u001b[0m\u001b[0;34m,\u001b[0m \u001b[0;34m**\u001b[0m\u001b[0mkwargs\u001b[0m\u001b[0;34m)\u001b[0m\u001b[0;34m:\u001b[0m\u001b[0;34m\u001b[0m\u001b[0;34m\u001b[0m\u001b[0m\n",
      "\u001b[0;32m~/software/miniconda3/envs/ml/lib/python3.7/site-packages/pandas/core/computation/expr.py\u001b[0m in \u001b[0;36mvisit\u001b[0;34m(self, node, **kwargs)\u001b[0m\n\u001b[1;32m    439\u001b[0m         \u001b[0mmethod\u001b[0m \u001b[0;34m=\u001b[0m \u001b[0;34m\"visit_\"\u001b[0m \u001b[0;34m+\u001b[0m \u001b[0mnode\u001b[0m\u001b[0;34m.\u001b[0m\u001b[0m__class__\u001b[0m\u001b[0;34m.\u001b[0m\u001b[0m__name__\u001b[0m\u001b[0;34m\u001b[0m\u001b[0;34m\u001b[0m\u001b[0m\n\u001b[1;32m    440\u001b[0m         \u001b[0mvisitor\u001b[0m \u001b[0;34m=\u001b[0m \u001b[0mgetattr\u001b[0m\u001b[0;34m(\u001b[0m\u001b[0mself\u001b[0m\u001b[0;34m,\u001b[0m \u001b[0mmethod\u001b[0m\u001b[0;34m)\u001b[0m\u001b[0;34m\u001b[0m\u001b[0;34m\u001b[0m\u001b[0m\n\u001b[0;32m--> 441\u001b[0;31m         \u001b[0;32mreturn\u001b[0m \u001b[0mvisitor\u001b[0m\u001b[0;34m(\u001b[0m\u001b[0mnode\u001b[0m\u001b[0;34m,\u001b[0m \u001b[0;34m**\u001b[0m\u001b[0mkwargs\u001b[0m\u001b[0;34m)\u001b[0m\u001b[0;34m\u001b[0m\u001b[0;34m\u001b[0m\u001b[0m\n\u001b[0m\u001b[1;32m    442\u001b[0m \u001b[0;34m\u001b[0m\u001b[0m\n\u001b[1;32m    443\u001b[0m     \u001b[0;32mdef\u001b[0m \u001b[0mvisit_Module\u001b[0m\u001b[0;34m(\u001b[0m\u001b[0mself\u001b[0m\u001b[0;34m,\u001b[0m \u001b[0mnode\u001b[0m\u001b[0;34m,\u001b[0m \u001b[0;34m**\u001b[0m\u001b[0mkwargs\u001b[0m\u001b[0;34m)\u001b[0m\u001b[0;34m:\u001b[0m\u001b[0;34m\u001b[0m\u001b[0;34m\u001b[0m\u001b[0m\n",
      "\u001b[0;32m~/software/miniconda3/envs/ml/lib/python3.7/site-packages/pandas/core/computation/expr.py\u001b[0m in \u001b[0;36mvisit_Expr\u001b[0;34m(self, node, **kwargs)\u001b[0m\n\u001b[1;32m    448\u001b[0m \u001b[0;34m\u001b[0m\u001b[0m\n\u001b[1;32m    449\u001b[0m     \u001b[0;32mdef\u001b[0m \u001b[0mvisit_Expr\u001b[0m\u001b[0;34m(\u001b[0m\u001b[0mself\u001b[0m\u001b[0;34m,\u001b[0m \u001b[0mnode\u001b[0m\u001b[0;34m,\u001b[0m \u001b[0;34m**\u001b[0m\u001b[0mkwargs\u001b[0m\u001b[0;34m)\u001b[0m\u001b[0;34m:\u001b[0m\u001b[0;34m\u001b[0m\u001b[0;34m\u001b[0m\u001b[0m\n\u001b[0;32m--> 450\u001b[0;31m         \u001b[0;32mreturn\u001b[0m \u001b[0mself\u001b[0m\u001b[0;34m.\u001b[0m\u001b[0mvisit\u001b[0m\u001b[0;34m(\u001b[0m\u001b[0mnode\u001b[0m\u001b[0;34m.\u001b[0m\u001b[0mvalue\u001b[0m\u001b[0;34m,\u001b[0m \u001b[0;34m**\u001b[0m\u001b[0mkwargs\u001b[0m\u001b[0;34m)\u001b[0m\u001b[0;34m\u001b[0m\u001b[0;34m\u001b[0m\u001b[0m\n\u001b[0m\u001b[1;32m    451\u001b[0m \u001b[0;34m\u001b[0m\u001b[0m\n\u001b[1;32m    452\u001b[0m     \u001b[0;32mdef\u001b[0m \u001b[0m_rewrite_membership_op\u001b[0m\u001b[0;34m(\u001b[0m\u001b[0mself\u001b[0m\u001b[0;34m,\u001b[0m \u001b[0mnode\u001b[0m\u001b[0;34m,\u001b[0m \u001b[0mleft\u001b[0m\u001b[0;34m,\u001b[0m \u001b[0mright\u001b[0m\u001b[0;34m)\u001b[0m\u001b[0;34m:\u001b[0m\u001b[0;34m\u001b[0m\u001b[0;34m\u001b[0m\u001b[0m\n",
      "\u001b[0;32m~/software/miniconda3/envs/ml/lib/python3.7/site-packages/pandas/core/computation/expr.py\u001b[0m in \u001b[0;36mvisit\u001b[0;34m(self, node, **kwargs)\u001b[0m\n\u001b[1;32m    439\u001b[0m         \u001b[0mmethod\u001b[0m \u001b[0;34m=\u001b[0m \u001b[0;34m\"visit_\"\u001b[0m \u001b[0;34m+\u001b[0m \u001b[0mnode\u001b[0m\u001b[0;34m.\u001b[0m\u001b[0m__class__\u001b[0m\u001b[0;34m.\u001b[0m\u001b[0m__name__\u001b[0m\u001b[0;34m\u001b[0m\u001b[0;34m\u001b[0m\u001b[0m\n\u001b[1;32m    440\u001b[0m         \u001b[0mvisitor\u001b[0m \u001b[0;34m=\u001b[0m \u001b[0mgetattr\u001b[0m\u001b[0;34m(\u001b[0m\u001b[0mself\u001b[0m\u001b[0;34m,\u001b[0m \u001b[0mmethod\u001b[0m\u001b[0;34m)\u001b[0m\u001b[0;34m\u001b[0m\u001b[0;34m\u001b[0m\u001b[0m\n\u001b[0;32m--> 441\u001b[0;31m         \u001b[0;32mreturn\u001b[0m \u001b[0mvisitor\u001b[0m\u001b[0;34m(\u001b[0m\u001b[0mnode\u001b[0m\u001b[0;34m,\u001b[0m \u001b[0;34m**\u001b[0m\u001b[0mkwargs\u001b[0m\u001b[0;34m)\u001b[0m\u001b[0;34m\u001b[0m\u001b[0;34m\u001b[0m\u001b[0m\n\u001b[0m\u001b[1;32m    442\u001b[0m \u001b[0;34m\u001b[0m\u001b[0m\n\u001b[1;32m    443\u001b[0m     \u001b[0;32mdef\u001b[0m \u001b[0mvisit_Module\u001b[0m\u001b[0;34m(\u001b[0m\u001b[0mself\u001b[0m\u001b[0;34m,\u001b[0m \u001b[0mnode\u001b[0m\u001b[0;34m,\u001b[0m \u001b[0;34m**\u001b[0m\u001b[0mkwargs\u001b[0m\u001b[0;34m)\u001b[0m\u001b[0;34m:\u001b[0m\u001b[0;34m\u001b[0m\u001b[0;34m\u001b[0m\u001b[0m\n",
      "\u001b[0;32m~/software/miniconda3/envs/ml/lib/python3.7/site-packages/pandas/core/computation/expr.py\u001b[0m in \u001b[0;36mvisit_BoolOp\u001b[0;34m(self, node, **kwargs)\u001b[0m\n\u001b[1;32m    772\u001b[0m \u001b[0;34m\u001b[0m\u001b[0m\n\u001b[1;32m    773\u001b[0m         \u001b[0moperands\u001b[0m \u001b[0;34m=\u001b[0m \u001b[0mnode\u001b[0m\u001b[0;34m.\u001b[0m\u001b[0mvalues\u001b[0m\u001b[0;34m\u001b[0m\u001b[0;34m\u001b[0m\u001b[0m\n\u001b[0;32m--> 774\u001b[0;31m         \u001b[0;32mreturn\u001b[0m \u001b[0mreduce\u001b[0m\u001b[0;34m(\u001b[0m\u001b[0mvisitor\u001b[0m\u001b[0;34m,\u001b[0m \u001b[0moperands\u001b[0m\u001b[0;34m)\u001b[0m\u001b[0;34m\u001b[0m\u001b[0;34m\u001b[0m\u001b[0m\n\u001b[0m\u001b[1;32m    775\u001b[0m \u001b[0;34m\u001b[0m\u001b[0m\n\u001b[1;32m    776\u001b[0m \u001b[0;34m\u001b[0m\u001b[0m\n",
      "\u001b[0;32m~/software/miniconda3/envs/ml/lib/python3.7/site-packages/pandas/core/computation/expr.py\u001b[0m in \u001b[0;36mvisitor\u001b[0;34m(x, y)\u001b[0m\n\u001b[1;32m    765\u001b[0m     \u001b[0;32mdef\u001b[0m \u001b[0mvisit_BoolOp\u001b[0m\u001b[0;34m(\u001b[0m\u001b[0mself\u001b[0m\u001b[0;34m,\u001b[0m \u001b[0mnode\u001b[0m\u001b[0;34m,\u001b[0m \u001b[0;34m**\u001b[0m\u001b[0mkwargs\u001b[0m\u001b[0;34m)\u001b[0m\u001b[0;34m:\u001b[0m\u001b[0;34m\u001b[0m\u001b[0;34m\u001b[0m\u001b[0m\n\u001b[1;32m    766\u001b[0m         \u001b[0;32mdef\u001b[0m \u001b[0mvisitor\u001b[0m\u001b[0;34m(\u001b[0m\u001b[0mx\u001b[0m\u001b[0;34m,\u001b[0m \u001b[0my\u001b[0m\u001b[0;34m)\u001b[0m\u001b[0;34m:\u001b[0m\u001b[0;34m\u001b[0m\u001b[0;34m\u001b[0m\u001b[0m\n\u001b[0;32m--> 767\u001b[0;31m             \u001b[0mlhs\u001b[0m \u001b[0;34m=\u001b[0m \u001b[0mself\u001b[0m\u001b[0;34m.\u001b[0m\u001b[0m_try_visit_binop\u001b[0m\u001b[0;34m(\u001b[0m\u001b[0mx\u001b[0m\u001b[0;34m)\u001b[0m\u001b[0;34m\u001b[0m\u001b[0;34m\u001b[0m\u001b[0m\n\u001b[0m\u001b[1;32m    768\u001b[0m             \u001b[0mrhs\u001b[0m \u001b[0;34m=\u001b[0m \u001b[0mself\u001b[0m\u001b[0;34m.\u001b[0m\u001b[0m_try_visit_binop\u001b[0m\u001b[0;34m(\u001b[0m\u001b[0my\u001b[0m\u001b[0;34m)\u001b[0m\u001b[0;34m\u001b[0m\u001b[0;34m\u001b[0m\u001b[0m\n\u001b[1;32m    769\u001b[0m \u001b[0;34m\u001b[0m\u001b[0m\n",
      "\u001b[0;32m~/software/miniconda3/envs/ml/lib/python3.7/site-packages/pandas/core/computation/expr.py\u001b[0m in \u001b[0;36m_try_visit_binop\u001b[0;34m(self, bop)\u001b[0m\n\u001b[1;32m    761\u001b[0m         \u001b[0;32mif\u001b[0m \u001b[0misinstance\u001b[0m\u001b[0;34m(\u001b[0m\u001b[0mbop\u001b[0m\u001b[0;34m,\u001b[0m \u001b[0;34m(\u001b[0m\u001b[0mOp\u001b[0m\u001b[0;34m,\u001b[0m \u001b[0mTerm\u001b[0m\u001b[0;34m)\u001b[0m\u001b[0;34m)\u001b[0m\u001b[0;34m:\u001b[0m\u001b[0;34m\u001b[0m\u001b[0;34m\u001b[0m\u001b[0m\n\u001b[1;32m    762\u001b[0m             \u001b[0;32mreturn\u001b[0m \u001b[0mbop\u001b[0m\u001b[0;34m\u001b[0m\u001b[0;34m\u001b[0m\u001b[0m\n\u001b[0;32m--> 763\u001b[0;31m         \u001b[0;32mreturn\u001b[0m \u001b[0mself\u001b[0m\u001b[0;34m.\u001b[0m\u001b[0mvisit\u001b[0m\u001b[0;34m(\u001b[0m\u001b[0mbop\u001b[0m\u001b[0;34m)\u001b[0m\u001b[0;34m\u001b[0m\u001b[0;34m\u001b[0m\u001b[0m\n\u001b[0m\u001b[1;32m    764\u001b[0m \u001b[0;34m\u001b[0m\u001b[0m\n\u001b[1;32m    765\u001b[0m     \u001b[0;32mdef\u001b[0m \u001b[0mvisit_BoolOp\u001b[0m\u001b[0;34m(\u001b[0m\u001b[0mself\u001b[0m\u001b[0;34m,\u001b[0m \u001b[0mnode\u001b[0m\u001b[0;34m,\u001b[0m \u001b[0;34m**\u001b[0m\u001b[0mkwargs\u001b[0m\u001b[0;34m)\u001b[0m\u001b[0;34m:\u001b[0m\u001b[0;34m\u001b[0m\u001b[0;34m\u001b[0m\u001b[0m\n",
      "\u001b[0;32m~/software/miniconda3/envs/ml/lib/python3.7/site-packages/pandas/core/computation/expr.py\u001b[0m in \u001b[0;36mvisit\u001b[0;34m(self, node, **kwargs)\u001b[0m\n\u001b[1;32m    439\u001b[0m         \u001b[0mmethod\u001b[0m \u001b[0;34m=\u001b[0m \u001b[0;34m\"visit_\"\u001b[0m \u001b[0;34m+\u001b[0m \u001b[0mnode\u001b[0m\u001b[0;34m.\u001b[0m\u001b[0m__class__\u001b[0m\u001b[0;34m.\u001b[0m\u001b[0m__name__\u001b[0m\u001b[0;34m\u001b[0m\u001b[0;34m\u001b[0m\u001b[0m\n\u001b[1;32m    440\u001b[0m         \u001b[0mvisitor\u001b[0m \u001b[0;34m=\u001b[0m \u001b[0mgetattr\u001b[0m\u001b[0;34m(\u001b[0m\u001b[0mself\u001b[0m\u001b[0;34m,\u001b[0m \u001b[0mmethod\u001b[0m\u001b[0;34m)\u001b[0m\u001b[0;34m\u001b[0m\u001b[0;34m\u001b[0m\u001b[0m\n\u001b[0;32m--> 441\u001b[0;31m         \u001b[0;32mreturn\u001b[0m \u001b[0mvisitor\u001b[0m\u001b[0;34m(\u001b[0m\u001b[0mnode\u001b[0m\u001b[0;34m,\u001b[0m \u001b[0;34m**\u001b[0m\u001b[0mkwargs\u001b[0m\u001b[0;34m)\u001b[0m\u001b[0;34m\u001b[0m\u001b[0;34m\u001b[0m\u001b[0m\n\u001b[0m\u001b[1;32m    442\u001b[0m \u001b[0;34m\u001b[0m\u001b[0m\n\u001b[1;32m    443\u001b[0m     \u001b[0;32mdef\u001b[0m \u001b[0mvisit_Module\u001b[0m\u001b[0;34m(\u001b[0m\u001b[0mself\u001b[0m\u001b[0;34m,\u001b[0m \u001b[0mnode\u001b[0m\u001b[0;34m,\u001b[0m \u001b[0;34m**\u001b[0m\u001b[0mkwargs\u001b[0m\u001b[0;34m)\u001b[0m\u001b[0;34m:\u001b[0m\u001b[0;34m\u001b[0m\u001b[0;34m\u001b[0m\u001b[0m\n",
      "\u001b[0;32m~/software/miniconda3/envs/ml/lib/python3.7/site-packages/pandas/core/computation/expr.py\u001b[0m in \u001b[0;36mvisit_Compare\u001b[0;34m(self, node, **kwargs)\u001b[0m\n\u001b[1;32m    745\u001b[0m             \u001b[0mop\u001b[0m \u001b[0;34m=\u001b[0m \u001b[0mself\u001b[0m\u001b[0;34m.\u001b[0m\u001b[0mtranslate_In\u001b[0m\u001b[0;34m(\u001b[0m\u001b[0mops\u001b[0m\u001b[0;34m[\u001b[0m\u001b[0;36m0\u001b[0m\u001b[0;34m]\u001b[0m\u001b[0;34m)\u001b[0m\u001b[0;34m\u001b[0m\u001b[0;34m\u001b[0m\u001b[0m\n\u001b[1;32m    746\u001b[0m             \u001b[0mbinop\u001b[0m \u001b[0;34m=\u001b[0m \u001b[0mast\u001b[0m\u001b[0;34m.\u001b[0m\u001b[0mBinOp\u001b[0m\u001b[0;34m(\u001b[0m\u001b[0mop\u001b[0m\u001b[0;34m=\u001b[0m\u001b[0mop\u001b[0m\u001b[0;34m,\u001b[0m \u001b[0mleft\u001b[0m\u001b[0;34m=\u001b[0m\u001b[0mnode\u001b[0m\u001b[0;34m.\u001b[0m\u001b[0mleft\u001b[0m\u001b[0;34m,\u001b[0m \u001b[0mright\u001b[0m\u001b[0;34m=\u001b[0m\u001b[0mcomps\u001b[0m\u001b[0;34m[\u001b[0m\u001b[0;36m0\u001b[0m\u001b[0;34m]\u001b[0m\u001b[0;34m)\u001b[0m\u001b[0;34m\u001b[0m\u001b[0;34m\u001b[0m\u001b[0m\n\u001b[0;32m--> 747\u001b[0;31m             \u001b[0;32mreturn\u001b[0m \u001b[0mself\u001b[0m\u001b[0;34m.\u001b[0m\u001b[0mvisit\u001b[0m\u001b[0;34m(\u001b[0m\u001b[0mbinop\u001b[0m\u001b[0;34m)\u001b[0m\u001b[0;34m\u001b[0m\u001b[0;34m\u001b[0m\u001b[0m\n\u001b[0m\u001b[1;32m    748\u001b[0m \u001b[0;34m\u001b[0m\u001b[0m\n\u001b[1;32m    749\u001b[0m         \u001b[0;31m# recursive case: we have a chained comparison, a CMP b CMP c, etc.\u001b[0m\u001b[0;34m\u001b[0m\u001b[0;34m\u001b[0m\u001b[0;34m\u001b[0m\u001b[0m\n",
      "\u001b[0;32m~/software/miniconda3/envs/ml/lib/python3.7/site-packages/pandas/core/computation/expr.py\u001b[0m in \u001b[0;36mvisit\u001b[0;34m(self, node, **kwargs)\u001b[0m\n\u001b[1;32m    439\u001b[0m         \u001b[0mmethod\u001b[0m \u001b[0;34m=\u001b[0m \u001b[0;34m\"visit_\"\u001b[0m \u001b[0;34m+\u001b[0m \u001b[0mnode\u001b[0m\u001b[0;34m.\u001b[0m\u001b[0m__class__\u001b[0m\u001b[0;34m.\u001b[0m\u001b[0m__name__\u001b[0m\u001b[0;34m\u001b[0m\u001b[0;34m\u001b[0m\u001b[0m\n\u001b[1;32m    440\u001b[0m         \u001b[0mvisitor\u001b[0m \u001b[0;34m=\u001b[0m \u001b[0mgetattr\u001b[0m\u001b[0;34m(\u001b[0m\u001b[0mself\u001b[0m\u001b[0;34m,\u001b[0m \u001b[0mmethod\u001b[0m\u001b[0;34m)\u001b[0m\u001b[0;34m\u001b[0m\u001b[0;34m\u001b[0m\u001b[0m\n\u001b[0;32m--> 441\u001b[0;31m         \u001b[0;32mreturn\u001b[0m \u001b[0mvisitor\u001b[0m\u001b[0;34m(\u001b[0m\u001b[0mnode\u001b[0m\u001b[0;34m,\u001b[0m \u001b[0;34m**\u001b[0m\u001b[0mkwargs\u001b[0m\u001b[0;34m)\u001b[0m\u001b[0;34m\u001b[0m\u001b[0;34m\u001b[0m\u001b[0m\n\u001b[0m\u001b[1;32m    442\u001b[0m \u001b[0;34m\u001b[0m\u001b[0m\n\u001b[1;32m    443\u001b[0m     \u001b[0;32mdef\u001b[0m \u001b[0mvisit_Module\u001b[0m\u001b[0;34m(\u001b[0m\u001b[0mself\u001b[0m\u001b[0;34m,\u001b[0m \u001b[0mnode\u001b[0m\u001b[0;34m,\u001b[0m \u001b[0;34m**\u001b[0m\u001b[0mkwargs\u001b[0m\u001b[0;34m)\u001b[0m\u001b[0;34m:\u001b[0m\u001b[0;34m\u001b[0m\u001b[0;34m\u001b[0m\u001b[0m\n",
      "\u001b[0;32m~/software/miniconda3/envs/ml/lib/python3.7/site-packages/pandas/core/computation/expr.py\u001b[0m in \u001b[0;36mvisit_BinOp\u001b[0;34m(self, node, **kwargs)\u001b[0m\n\u001b[1;32m    561\u001b[0m \u001b[0;34m\u001b[0m\u001b[0m\n\u001b[1;32m    562\u001b[0m     \u001b[0;32mdef\u001b[0m \u001b[0mvisit_BinOp\u001b[0m\u001b[0;34m(\u001b[0m\u001b[0mself\u001b[0m\u001b[0;34m,\u001b[0m \u001b[0mnode\u001b[0m\u001b[0;34m,\u001b[0m \u001b[0;34m**\u001b[0m\u001b[0mkwargs\u001b[0m\u001b[0;34m)\u001b[0m\u001b[0;34m:\u001b[0m\u001b[0;34m\u001b[0m\u001b[0;34m\u001b[0m\u001b[0m\n\u001b[0;32m--> 563\u001b[0;31m         \u001b[0mop\u001b[0m\u001b[0;34m,\u001b[0m \u001b[0mop_class\u001b[0m\u001b[0;34m,\u001b[0m \u001b[0mleft\u001b[0m\u001b[0;34m,\u001b[0m \u001b[0mright\u001b[0m \u001b[0;34m=\u001b[0m \u001b[0mself\u001b[0m\u001b[0;34m.\u001b[0m\u001b[0m_maybe_transform_eq_ne\u001b[0m\u001b[0;34m(\u001b[0m\u001b[0mnode\u001b[0m\u001b[0;34m)\u001b[0m\u001b[0;34m\u001b[0m\u001b[0;34m\u001b[0m\u001b[0m\n\u001b[0m\u001b[1;32m    564\u001b[0m         \u001b[0mleft\u001b[0m\u001b[0;34m,\u001b[0m \u001b[0mright\u001b[0m \u001b[0;34m=\u001b[0m \u001b[0mself\u001b[0m\u001b[0;34m.\u001b[0m\u001b[0m_maybe_downcast_constants\u001b[0m\u001b[0;34m(\u001b[0m\u001b[0mleft\u001b[0m\u001b[0;34m,\u001b[0m \u001b[0mright\u001b[0m\u001b[0;34m)\u001b[0m\u001b[0;34m\u001b[0m\u001b[0;34m\u001b[0m\u001b[0m\n\u001b[1;32m    565\u001b[0m         \u001b[0;32mreturn\u001b[0m \u001b[0mself\u001b[0m\u001b[0;34m.\u001b[0m\u001b[0m_maybe_evaluate_binop\u001b[0m\u001b[0;34m(\u001b[0m\u001b[0mop\u001b[0m\u001b[0;34m,\u001b[0m \u001b[0mop_class\u001b[0m\u001b[0;34m,\u001b[0m \u001b[0mleft\u001b[0m\u001b[0;34m,\u001b[0m \u001b[0mright\u001b[0m\u001b[0;34m)\u001b[0m\u001b[0;34m\u001b[0m\u001b[0;34m\u001b[0m\u001b[0m\n",
      "\u001b[0;32m~/software/miniconda3/envs/ml/lib/python3.7/site-packages/pandas/core/computation/expr.py\u001b[0m in \u001b[0;36m_maybe_transform_eq_ne\u001b[0;34m(self, node, left, right)\u001b[0m\n\u001b[1;32m    482\u001b[0m             \u001b[0mleft\u001b[0m \u001b[0;34m=\u001b[0m \u001b[0mself\u001b[0m\u001b[0;34m.\u001b[0m\u001b[0mvisit\u001b[0m\u001b[0;34m(\u001b[0m\u001b[0mnode\u001b[0m\u001b[0;34m.\u001b[0m\u001b[0mleft\u001b[0m\u001b[0;34m,\u001b[0m \u001b[0mside\u001b[0m\u001b[0;34m=\u001b[0m\u001b[0;34m\"left\"\u001b[0m\u001b[0;34m)\u001b[0m\u001b[0;34m\u001b[0m\u001b[0;34m\u001b[0m\u001b[0m\n\u001b[1;32m    483\u001b[0m         \u001b[0;32mif\u001b[0m \u001b[0mright\u001b[0m \u001b[0;32mis\u001b[0m \u001b[0;32mNone\u001b[0m\u001b[0;34m:\u001b[0m\u001b[0;34m\u001b[0m\u001b[0;34m\u001b[0m\u001b[0m\n\u001b[0;32m--> 484\u001b[0;31m             \u001b[0mright\u001b[0m \u001b[0;34m=\u001b[0m \u001b[0mself\u001b[0m\u001b[0;34m.\u001b[0m\u001b[0mvisit\u001b[0m\u001b[0;34m(\u001b[0m\u001b[0mnode\u001b[0m\u001b[0;34m.\u001b[0m\u001b[0mright\u001b[0m\u001b[0;34m,\u001b[0m \u001b[0mside\u001b[0m\u001b[0;34m=\u001b[0m\u001b[0;34m\"right\"\u001b[0m\u001b[0;34m)\u001b[0m\u001b[0;34m\u001b[0m\u001b[0;34m\u001b[0m\u001b[0m\n\u001b[0m\u001b[1;32m    485\u001b[0m         \u001b[0mop\u001b[0m\u001b[0;34m,\u001b[0m \u001b[0mop_class\u001b[0m\u001b[0;34m,\u001b[0m \u001b[0mleft\u001b[0m\u001b[0;34m,\u001b[0m \u001b[0mright\u001b[0m \u001b[0;34m=\u001b[0m \u001b[0mself\u001b[0m\u001b[0;34m.\u001b[0m\u001b[0m_rewrite_membership_op\u001b[0m\u001b[0;34m(\u001b[0m\u001b[0mnode\u001b[0m\u001b[0;34m,\u001b[0m \u001b[0mleft\u001b[0m\u001b[0;34m,\u001b[0m \u001b[0mright\u001b[0m\u001b[0;34m)\u001b[0m\u001b[0;34m\u001b[0m\u001b[0;34m\u001b[0m\u001b[0m\n\u001b[1;32m    486\u001b[0m         \u001b[0;32mreturn\u001b[0m \u001b[0mop\u001b[0m\u001b[0;34m,\u001b[0m \u001b[0mop_class\u001b[0m\u001b[0;34m,\u001b[0m \u001b[0mleft\u001b[0m\u001b[0;34m,\u001b[0m \u001b[0mright\u001b[0m\u001b[0;34m\u001b[0m\u001b[0;34m\u001b[0m\u001b[0m\n",
      "\u001b[0;32m~/software/miniconda3/envs/ml/lib/python3.7/site-packages/pandas/core/computation/expr.py\u001b[0m in \u001b[0;36mvisit\u001b[0;34m(self, node, **kwargs)\u001b[0m\n\u001b[1;32m    439\u001b[0m         \u001b[0mmethod\u001b[0m \u001b[0;34m=\u001b[0m \u001b[0;34m\"visit_\"\u001b[0m \u001b[0;34m+\u001b[0m \u001b[0mnode\u001b[0m\u001b[0;34m.\u001b[0m\u001b[0m__class__\u001b[0m\u001b[0;34m.\u001b[0m\u001b[0m__name__\u001b[0m\u001b[0;34m\u001b[0m\u001b[0;34m\u001b[0m\u001b[0m\n\u001b[1;32m    440\u001b[0m         \u001b[0mvisitor\u001b[0m \u001b[0;34m=\u001b[0m \u001b[0mgetattr\u001b[0m\u001b[0;34m(\u001b[0m\u001b[0mself\u001b[0m\u001b[0;34m,\u001b[0m \u001b[0mmethod\u001b[0m\u001b[0;34m)\u001b[0m\u001b[0;34m\u001b[0m\u001b[0;34m\u001b[0m\u001b[0m\n\u001b[0;32m--> 441\u001b[0;31m         \u001b[0;32mreturn\u001b[0m \u001b[0mvisitor\u001b[0m\u001b[0;34m(\u001b[0m\u001b[0mnode\u001b[0m\u001b[0;34m,\u001b[0m \u001b[0;34m**\u001b[0m\u001b[0mkwargs\u001b[0m\u001b[0;34m)\u001b[0m\u001b[0;34m\u001b[0m\u001b[0;34m\u001b[0m\u001b[0m\n\u001b[0m\u001b[1;32m    442\u001b[0m \u001b[0;34m\u001b[0m\u001b[0m\n\u001b[1;32m    443\u001b[0m     \u001b[0;32mdef\u001b[0m \u001b[0mvisit_Module\u001b[0m\u001b[0;34m(\u001b[0m\u001b[0mself\u001b[0m\u001b[0;34m,\u001b[0m \u001b[0mnode\u001b[0m\u001b[0;34m,\u001b[0m \u001b[0;34m**\u001b[0m\u001b[0mkwargs\u001b[0m\u001b[0;34m)\u001b[0m\u001b[0;34m:\u001b[0m\u001b[0;34m\u001b[0m\u001b[0;34m\u001b[0m\u001b[0m\n",
      "\u001b[0;32m~/software/miniconda3/envs/ml/lib/python3.7/site-packages/pandas/core/computation/expr.py\u001b[0m in \u001b[0;36mvisit_Name\u001b[0;34m(self, node, **kwargs)\u001b[0m\n\u001b[1;32m    575\u001b[0m \u001b[0;34m\u001b[0m\u001b[0m\n\u001b[1;32m    576\u001b[0m     \u001b[0;32mdef\u001b[0m \u001b[0mvisit_Name\u001b[0m\u001b[0;34m(\u001b[0m\u001b[0mself\u001b[0m\u001b[0;34m,\u001b[0m \u001b[0mnode\u001b[0m\u001b[0;34m,\u001b[0m \u001b[0;34m**\u001b[0m\u001b[0mkwargs\u001b[0m\u001b[0;34m)\u001b[0m\u001b[0;34m:\u001b[0m\u001b[0;34m\u001b[0m\u001b[0;34m\u001b[0m\u001b[0m\n\u001b[0;32m--> 577\u001b[0;31m         \u001b[0;32mreturn\u001b[0m \u001b[0mself\u001b[0m\u001b[0;34m.\u001b[0m\u001b[0mterm_type\u001b[0m\u001b[0;34m(\u001b[0m\u001b[0mnode\u001b[0m\u001b[0;34m.\u001b[0m\u001b[0mid\u001b[0m\u001b[0;34m,\u001b[0m \u001b[0mself\u001b[0m\u001b[0;34m.\u001b[0m\u001b[0menv\u001b[0m\u001b[0;34m,\u001b[0m \u001b[0;34m**\u001b[0m\u001b[0mkwargs\u001b[0m\u001b[0;34m)\u001b[0m\u001b[0;34m\u001b[0m\u001b[0;34m\u001b[0m\u001b[0m\n\u001b[0m\u001b[1;32m    578\u001b[0m \u001b[0;34m\u001b[0m\u001b[0m\n\u001b[1;32m    579\u001b[0m     \u001b[0;32mdef\u001b[0m \u001b[0mvisit_NameConstant\u001b[0m\u001b[0;34m(\u001b[0m\u001b[0mself\u001b[0m\u001b[0;34m,\u001b[0m \u001b[0mnode\u001b[0m\u001b[0;34m,\u001b[0m \u001b[0;34m**\u001b[0m\u001b[0mkwargs\u001b[0m\u001b[0;34m)\u001b[0m\u001b[0;34m:\u001b[0m\u001b[0;34m\u001b[0m\u001b[0;34m\u001b[0m\u001b[0m\n",
      "\u001b[0;32m~/software/miniconda3/envs/ml/lib/python3.7/site-packages/pandas/core/computation/ops.py\u001b[0m in \u001b[0;36m__init__\u001b[0;34m(self, name, env, side, encoding)\u001b[0m\n\u001b[1;32m     76\u001b[0m         \u001b[0mtname\u001b[0m \u001b[0;34m=\u001b[0m \u001b[0mstr\u001b[0m\u001b[0;34m(\u001b[0m\u001b[0mname\u001b[0m\u001b[0;34m)\u001b[0m\u001b[0;34m\u001b[0m\u001b[0;34m\u001b[0m\u001b[0m\n\u001b[1;32m     77\u001b[0m         \u001b[0mself\u001b[0m\u001b[0;34m.\u001b[0m\u001b[0mis_local\u001b[0m \u001b[0;34m=\u001b[0m \u001b[0mtname\u001b[0m\u001b[0;34m.\u001b[0m\u001b[0mstartswith\u001b[0m\u001b[0;34m(\u001b[0m\u001b[0m_LOCAL_TAG\u001b[0m\u001b[0;34m)\u001b[0m \u001b[0;32mor\u001b[0m \u001b[0mtname\u001b[0m \u001b[0;32min\u001b[0m \u001b[0m_DEFAULT_GLOBALS\u001b[0m\u001b[0;34m\u001b[0m\u001b[0;34m\u001b[0m\u001b[0m\n\u001b[0;32m---> 78\u001b[0;31m         \u001b[0mself\u001b[0m\u001b[0;34m.\u001b[0m\u001b[0m_value\u001b[0m \u001b[0;34m=\u001b[0m \u001b[0mself\u001b[0m\u001b[0;34m.\u001b[0m\u001b[0m_resolve_name\u001b[0m\u001b[0;34m(\u001b[0m\u001b[0;34m)\u001b[0m\u001b[0;34m\u001b[0m\u001b[0;34m\u001b[0m\u001b[0m\n\u001b[0m\u001b[1;32m     79\u001b[0m         \u001b[0mself\u001b[0m\u001b[0;34m.\u001b[0m\u001b[0mencoding\u001b[0m \u001b[0;34m=\u001b[0m \u001b[0mencoding\u001b[0m\u001b[0;34m\u001b[0m\u001b[0;34m\u001b[0m\u001b[0m\n\u001b[1;32m     80\u001b[0m \u001b[0;34m\u001b[0m\u001b[0m\n",
      "\u001b[0;32m~/software/miniconda3/envs/ml/lib/python3.7/site-packages/pandas/core/computation/ops.py\u001b[0m in \u001b[0;36m_resolve_name\u001b[0;34m(self)\u001b[0m\n\u001b[1;32m     93\u001b[0m \u001b[0;34m\u001b[0m\u001b[0m\n\u001b[1;32m     94\u001b[0m     \u001b[0;32mdef\u001b[0m \u001b[0m_resolve_name\u001b[0m\u001b[0;34m(\u001b[0m\u001b[0mself\u001b[0m\u001b[0;34m)\u001b[0m\u001b[0;34m:\u001b[0m\u001b[0;34m\u001b[0m\u001b[0;34m\u001b[0m\u001b[0m\n\u001b[0;32m---> 95\u001b[0;31m         \u001b[0mres\u001b[0m \u001b[0;34m=\u001b[0m \u001b[0mself\u001b[0m\u001b[0;34m.\u001b[0m\u001b[0menv\u001b[0m\u001b[0;34m.\u001b[0m\u001b[0mresolve\u001b[0m\u001b[0;34m(\u001b[0m\u001b[0mself\u001b[0m\u001b[0;34m.\u001b[0m\u001b[0mlocal_name\u001b[0m\u001b[0;34m,\u001b[0m \u001b[0mis_local\u001b[0m\u001b[0;34m=\u001b[0m\u001b[0mself\u001b[0m\u001b[0;34m.\u001b[0m\u001b[0mis_local\u001b[0m\u001b[0;34m)\u001b[0m\u001b[0;34m\u001b[0m\u001b[0;34m\u001b[0m\u001b[0m\n\u001b[0m\u001b[1;32m     96\u001b[0m         \u001b[0mself\u001b[0m\u001b[0;34m.\u001b[0m\u001b[0mupdate\u001b[0m\u001b[0;34m(\u001b[0m\u001b[0mres\u001b[0m\u001b[0;34m)\u001b[0m\u001b[0;34m\u001b[0m\u001b[0;34m\u001b[0m\u001b[0m\n\u001b[1;32m     97\u001b[0m \u001b[0;34m\u001b[0m\u001b[0m\n",
      "\u001b[0;32m~/software/miniconda3/envs/ml/lib/python3.7/site-packages/pandas/core/computation/scope.py\u001b[0m in \u001b[0;36mresolve\u001b[0;34m(self, key, is_local)\u001b[0m\n\u001b[1;32m    199\u001b[0m                 \u001b[0;32mreturn\u001b[0m \u001b[0mself\u001b[0m\u001b[0;34m.\u001b[0m\u001b[0mtemps\u001b[0m\u001b[0;34m[\u001b[0m\u001b[0mkey\u001b[0m\u001b[0;34m]\u001b[0m\u001b[0;34m\u001b[0m\u001b[0;34m\u001b[0m\u001b[0m\n\u001b[1;32m    200\u001b[0m             \u001b[0;32mexcept\u001b[0m \u001b[0mKeyError\u001b[0m\u001b[0;34m:\u001b[0m\u001b[0;34m\u001b[0m\u001b[0;34m\u001b[0m\u001b[0m\n\u001b[0;32m--> 201\u001b[0;31m                 \u001b[0;32mraise\u001b[0m \u001b[0mcompu\u001b[0m\u001b[0;34m.\u001b[0m\u001b[0mops\u001b[0m\u001b[0;34m.\u001b[0m\u001b[0mUndefinedVariableError\u001b[0m\u001b[0;34m(\u001b[0m\u001b[0mkey\u001b[0m\u001b[0;34m,\u001b[0m \u001b[0mis_local\u001b[0m\u001b[0;34m)\u001b[0m\u001b[0;34m\u001b[0m\u001b[0;34m\u001b[0m\u001b[0m\n\u001b[0m\u001b[1;32m    202\u001b[0m \u001b[0;34m\u001b[0m\u001b[0m\n\u001b[1;32m    203\u001b[0m     \u001b[0;32mdef\u001b[0m \u001b[0mswapkey\u001b[0m\u001b[0;34m(\u001b[0m\u001b[0mself\u001b[0m\u001b[0;34m,\u001b[0m \u001b[0mold_key\u001b[0m\u001b[0;34m,\u001b[0m \u001b[0mnew_key\u001b[0m\u001b[0;34m,\u001b[0m \u001b[0mnew_value\u001b[0m\u001b[0;34m=\u001b[0m\u001b[0;32mNone\u001b[0m\u001b[0;34m)\u001b[0m\u001b[0;34m:\u001b[0m\u001b[0;34m\u001b[0m\u001b[0;34m\u001b[0m\u001b[0m\n",
      "\u001b[0;31mUndefinedVariableError\u001b[0m: local variable 'pro' is not defined"
     ]
    }
   ],
   "source": [
    "edges_out.query('end_id in @pro and type == \"inhibitor\"')"
   ]
  },
  {
   "cell_type": "code",
   "execution_count": 83,
   "metadata": {},
   "outputs": [],
   "source": [
    "combo = combine_nodes_and_edges(nodes_out_filt, edges_out)"
   ]
  },
  {
   "cell_type": "code",
   "execution_count": 86,
   "metadata": {},
   "outputs": [
    {
     "data": {
      "text/html": [
       "<div>\n",
       "<style scoped>\n",
       "    .dataframe tbody tr th:only-of-type {\n",
       "        vertical-align: middle;\n",
       "    }\n",
       "\n",
       "    .dataframe tbody tr th {\n",
       "        vertical-align: top;\n",
       "    }\n",
       "\n",
       "    .dataframe thead th {\n",
       "        text-align: right;\n",
       "    }\n",
       "</style>\n",
       "<table border=\"1\" class=\"dataframe\">\n",
       "  <thead>\n",
       "    <tr style=\"text-align: right;\">\n",
       "      <th></th>\n",
       "      <th>start_id</th>\n",
       "      <th>end_id</th>\n",
       "      <th>type</th>\n",
       "      <th>dsrc_type</th>\n",
       "      <th>comp_type</th>\n",
       "      <th>p_val</th>\n",
       "      <th>adj_p</th>\n",
       "      <th>source</th>\n",
       "      <th>license</th>\n",
       "      <th>experiments</th>\n",
       "      <th>support_type</th>\n",
       "      <th>pmids</th>\n",
       "      <th>phase</th>\n",
       "      <th>date</th>\n",
       "      <th>start_name</th>\n",
       "      <th>end_name</th>\n",
       "      <th>start_label</th>\n",
       "      <th>end_label</th>\n",
       "    </tr>\n",
       "  </thead>\n",
       "  <tbody>\n",
       "    <tr>\n",
       "      <th>1307915</th>\n",
       "      <td>DOID:0060287</td>\n",
       "      <td>OMIM:121400</td>\n",
       "      <td>presents</td>\n",
       "      <td>computed</td>\n",
       "      <td>split</td>\n",
       "      <td>NaN</td>\n",
       "      <td>NaN</td>\n",
       "      <td>WikiData</td>\n",
       "      <td>CC0 1.0</td>\n",
       "      <td>NaN</td>\n",
       "      <td>NaN</td>\n",
       "      <td>NaN</td>\n",
       "      <td>NaN</td>\n",
       "      <td>NaN</td>\n",
       "      <td>cornea plana</td>\n",
       "      <td>Cornea plana 1</td>\n",
       "      <td>Disease</td>\n",
       "      <td>Disease</td>\n",
       "    </tr>\n",
       "    <tr>\n",
       "      <th>1307916</th>\n",
       "      <td>DOID:0060287</td>\n",
       "      <td>OMIM:217300</td>\n",
       "      <td>presents</td>\n",
       "      <td>computed</td>\n",
       "      <td>split</td>\n",
       "      <td>NaN</td>\n",
       "      <td>NaN</td>\n",
       "      <td>WikiData</td>\n",
       "      <td>CC0 1.0</td>\n",
       "      <td>NaN</td>\n",
       "      <td>NaN</td>\n",
       "      <td>NaN</td>\n",
       "      <td>NaN</td>\n",
       "      <td>NaN</td>\n",
       "      <td>cornea plana</td>\n",
       "      <td>Cornea plana 2</td>\n",
       "      <td>Disease</td>\n",
       "      <td>Disease</td>\n",
       "    </tr>\n",
       "    <tr>\n",
       "      <th>1311005</th>\n",
       "      <td>OMIM:121400</td>\n",
       "      <td>OMIM:121400</td>\n",
       "      <td>presents</td>\n",
       "      <td>computed</td>\n",
       "      <td>punning</td>\n",
       "      <td>NaN</td>\n",
       "      <td>NaN</td>\n",
       "      <td>WikiData</td>\n",
       "      <td>CC0 1.0</td>\n",
       "      <td>NaN</td>\n",
       "      <td>NaN</td>\n",
       "      <td>NaN</td>\n",
       "      <td>NaN</td>\n",
       "      <td>NaN</td>\n",
       "      <td>Cornea plana 1</td>\n",
       "      <td>Cornea plana 1</td>\n",
       "      <td>Disease</td>\n",
       "      <td>Disease</td>\n",
       "    </tr>\n",
       "    <tr>\n",
       "      <th>1311006</th>\n",
       "      <td>OMIM:121400</td>\n",
       "      <td>OMIM:217300</td>\n",
       "      <td>presents</td>\n",
       "      <td>computed</td>\n",
       "      <td>punning</td>\n",
       "      <td>NaN</td>\n",
       "      <td>NaN</td>\n",
       "      <td>WikiData</td>\n",
       "      <td>CC0 1.0</td>\n",
       "      <td>NaN</td>\n",
       "      <td>NaN</td>\n",
       "      <td>NaN</td>\n",
       "      <td>NaN</td>\n",
       "      <td>NaN</td>\n",
       "      <td>Cornea plana 1</td>\n",
       "      <td>Cornea plana 2</td>\n",
       "      <td>Disease</td>\n",
       "      <td>Disease</td>\n",
       "    </tr>\n",
       "    <tr>\n",
       "      <th>1311008</th>\n",
       "      <td>OMIM:217300</td>\n",
       "      <td>OMIM:121400</td>\n",
       "      <td>presents</td>\n",
       "      <td>computed</td>\n",
       "      <td>punning</td>\n",
       "      <td>NaN</td>\n",
       "      <td>NaN</td>\n",
       "      <td>WikiData</td>\n",
       "      <td>CC0 1.0</td>\n",
       "      <td>NaN</td>\n",
       "      <td>NaN</td>\n",
       "      <td>NaN</td>\n",
       "      <td>NaN</td>\n",
       "      <td>NaN</td>\n",
       "      <td>Cornea plana 2</td>\n",
       "      <td>Cornea plana 1</td>\n",
       "      <td>Disease</td>\n",
       "      <td>Disease</td>\n",
       "    </tr>\n",
       "    <tr>\n",
       "      <th>1311009</th>\n",
       "      <td>OMIM:217300</td>\n",
       "      <td>OMIM:217300</td>\n",
       "      <td>presents</td>\n",
       "      <td>computed</td>\n",
       "      <td>punning</td>\n",
       "      <td>NaN</td>\n",
       "      <td>NaN</td>\n",
       "      <td>WikiData</td>\n",
       "      <td>CC0 1.0</td>\n",
       "      <td>NaN</td>\n",
       "      <td>NaN</td>\n",
       "      <td>NaN</td>\n",
       "      <td>NaN</td>\n",
       "      <td>NaN</td>\n",
       "      <td>Cornea plana 2</td>\n",
       "      <td>Cornea plana 2</td>\n",
       "      <td>Disease</td>\n",
       "      <td>Disease</td>\n",
       "    </tr>\n",
       "    <tr>\n",
       "      <th>5881836</th>\n",
       "      <td>MESH:D000975</td>\n",
       "      <td>MESH:D020149</td>\n",
       "      <td>therapeutic</td>\n",
       "      <td>curated</td>\n",
       "      <td>NaN</td>\n",
       "      <td>NaN</td>\n",
       "      <td>NaN</td>\n",
       "      <td>CTD</td>\n",
       "      <td>http://ctdbase.org/about/legal.jsp</td>\n",
       "      <td>NaN</td>\n",
       "      <td>NaN</td>\n",
       "      <td>21107535</td>\n",
       "      <td>NaN</td>\n",
       "      <td>NaN</td>\n",
       "      <td>Oxidative stress</td>\n",
       "      <td>Manganese Poisoning</td>\n",
       "      <td>Disease</td>\n",
       "      <td>Disease</td>\n",
       "    </tr>\n",
       "    <tr>\n",
       "      <th>5885780</th>\n",
       "      <td>MESH:D003902</td>\n",
       "      <td>MESH:D059366</td>\n",
       "      <td>marker_or_mechanism</td>\n",
       "      <td>curated</td>\n",
       "      <td>NaN</td>\n",
       "      <td>NaN</td>\n",
       "      <td>NaN</td>\n",
       "      <td>CTD</td>\n",
       "      <td>http://ctdbase.org/about/legal.jsp</td>\n",
       "      <td>NaN</td>\n",
       "      <td>NaN</td>\n",
       "      <td>27504716</td>\n",
       "      <td>NaN</td>\n",
       "      <td>NaN</td>\n",
       "      <td>Facial cleansing</td>\n",
       "      <td>Asthma, Occupational</td>\n",
       "      <td>Disease</td>\n",
       "      <td>Disease</td>\n",
       "    </tr>\n",
       "    <tr>\n",
       "      <th>6751551</th>\n",
       "      <td>MESH:D000779</td>\n",
       "      <td>DOID:13934</td>\n",
       "      <td>marker_or_mechanism</td>\n",
       "      <td>curated</td>\n",
       "      <td>NaN</td>\n",
       "      <td>NaN</td>\n",
       "      <td>NaN</td>\n",
       "      <td>CTD</td>\n",
       "      <td>http://ctdbase.org/about/legal.jsp</td>\n",
       "      <td>NaN</td>\n",
       "      <td>NaN</td>\n",
       "      <td>2524757</td>\n",
       "      <td>NaN</td>\n",
       "      <td>NaN</td>\n",
       "      <td>Local anesthetic</td>\n",
       "      <td>facial paralysis</td>\n",
       "      <td>Disease</td>\n",
       "      <td>Disease</td>\n",
       "    </tr>\n",
       "    <tr>\n",
       "      <th>6751555</th>\n",
       "      <td>MESH:D000779</td>\n",
       "      <td>DOID:0060052</td>\n",
       "      <td>marker_or_mechanism</td>\n",
       "      <td>curated</td>\n",
       "      <td>NaN</td>\n",
       "      <td>NaN</td>\n",
       "      <td>NaN</td>\n",
       "      <td>CTD</td>\n",
       "      <td>http://ctdbase.org/about/legal.jsp</td>\n",
       "      <td>NaN</td>\n",
       "      <td>NaN</td>\n",
       "      <td>8492141</td>\n",
       "      <td>NaN</td>\n",
       "      <td>NaN</td>\n",
       "      <td>Local anesthetic</td>\n",
       "      <td>neurological disorder</td>\n",
       "      <td>Disease</td>\n",
       "      <td>Disease</td>\n",
       "    </tr>\n",
       "    <tr>\n",
       "      <th>6751556</th>\n",
       "      <td>MESH:D000779</td>\n",
       "      <td>DOID:863</td>\n",
       "      <td>marker_or_mechanism</td>\n",
       "      <td>curated</td>\n",
       "      <td>NaN</td>\n",
       "      <td>NaN</td>\n",
       "      <td>NaN</td>\n",
       "      <td>CTD</td>\n",
       "      <td>http://ctdbase.org/about/legal.jsp</td>\n",
       "      <td>NaN</td>\n",
       "      <td>NaN</td>\n",
       "      <td>8492141</td>\n",
       "      <td>NaN</td>\n",
       "      <td>NaN</td>\n",
       "      <td>Local anesthetic</td>\n",
       "      <td>neurological disorder</td>\n",
       "      <td>Disease</td>\n",
       "      <td>Disease</td>\n",
       "    </tr>\n",
       "    <tr>\n",
       "      <th>6751557</th>\n",
       "      <td>MESH:D000779</td>\n",
       "      <td>DOID:60052</td>\n",
       "      <td>marker_or_mechanism</td>\n",
       "      <td>curated</td>\n",
       "      <td>NaN</td>\n",
       "      <td>NaN</td>\n",
       "      <td>NaN</td>\n",
       "      <td>CTD</td>\n",
       "      <td>http://ctdbase.org/about/legal.jsp</td>\n",
       "      <td>NaN</td>\n",
       "      <td>NaN</td>\n",
       "      <td>8492141</td>\n",
       "      <td>NaN</td>\n",
       "      <td>NaN</td>\n",
       "      <td>Local anesthetic</td>\n",
       "      <td>Neurological disorders</td>\n",
       "      <td>Disease</td>\n",
       "      <td>Disease</td>\n",
       "    </tr>\n",
       "    <tr>\n",
       "      <th>6751558</th>\n",
       "      <td>MESH:D000779</td>\n",
       "      <td>DOID:11162</td>\n",
       "      <td>marker_or_mechanism</td>\n",
       "      <td>curated</td>\n",
       "      <td>NaN</td>\n",
       "      <td>NaN</td>\n",
       "      <td>NaN</td>\n",
       "      <td>CTD</td>\n",
       "      <td>http://ctdbase.org/about/legal.jsp</td>\n",
       "      <td>NaN</td>\n",
       "      <td>NaN</td>\n",
       "      <td>18047629|7747857</td>\n",
       "      <td>NaN</td>\n",
       "      <td>NaN</td>\n",
       "      <td>Local anesthetic</td>\n",
       "      <td>respiratory failure</td>\n",
       "      <td>Disease</td>\n",
       "      <td>Disease</td>\n",
       "    </tr>\n",
       "    <tr>\n",
       "      <th>6752766</th>\n",
       "      <td>MESH:D000975</td>\n",
       "      <td>DOID:13241</td>\n",
       "      <td>marker_or_mechanism</td>\n",
       "      <td>curated</td>\n",
       "      <td>NaN</td>\n",
       "      <td>NaN</td>\n",
       "      <td>NaN</td>\n",
       "      <td>CTD</td>\n",
       "      <td>http://ctdbase.org/about/legal.jsp</td>\n",
       "      <td>NaN</td>\n",
       "      <td>NaN</td>\n",
       "      <td>12074830</td>\n",
       "      <td>NaN</td>\n",
       "      <td>NaN</td>\n",
       "      <td>Oxidative stress</td>\n",
       "      <td>Behcet's disease</td>\n",
       "      <td>Disease</td>\n",
       "      <td>Disease</td>\n",
       "    </tr>\n",
       "    <tr>\n",
       "      <th>6752767</th>\n",
       "      <td>MESH:D000975</td>\n",
       "      <td>DOID:10763</td>\n",
       "      <td>therapeutic</td>\n",
       "      <td>curated</td>\n",
       "      <td>NaN</td>\n",
       "      <td>NaN</td>\n",
       "      <td>NaN</td>\n",
       "      <td>CTD</td>\n",
       "      <td>http://ctdbase.org/about/legal.jsp</td>\n",
       "      <td>NaN</td>\n",
       "      <td>NaN</td>\n",
       "      <td>20713914</td>\n",
       "      <td>NaN</td>\n",
       "      <td>NaN</td>\n",
       "      <td>Oxidative stress</td>\n",
       "      <td>hypertension</td>\n",
       "      <td>Disease</td>\n",
       "      <td>Disease</td>\n",
       "    </tr>\n",
       "    <tr>\n",
       "      <th>6752769</th>\n",
       "      <td>MESH:D000975</td>\n",
       "      <td>DOID:1909</td>\n",
       "      <td>therapeutic</td>\n",
       "      <td>curated</td>\n",
       "      <td>NaN</td>\n",
       "      <td>NaN</td>\n",
       "      <td>NaN</td>\n",
       "      <td>CTD</td>\n",
       "      <td>http://ctdbase.org/about/legal.jsp</td>\n",
       "      <td>NaN</td>\n",
       "      <td>NaN</td>\n",
       "      <td>17992120</td>\n",
       "      <td>NaN</td>\n",
       "      <td>NaN</td>\n",
       "      <td>Oxidative stress</td>\n",
       "      <td>melanoma</td>\n",
       "      <td>Disease</td>\n",
       "      <td>Disease</td>\n",
       "    </tr>\n",
       "    <tr>\n",
       "      <th>6752772</th>\n",
       "      <td>MESH:D000975</td>\n",
       "      <td>DOID:0060052</td>\n",
       "      <td>therapeutic</td>\n",
       "      <td>curated</td>\n",
       "      <td>NaN</td>\n",
       "      <td>NaN</td>\n",
       "      <td>NaN</td>\n",
       "      <td>CTD</td>\n",
       "      <td>http://ctdbase.org/about/legal.jsp</td>\n",
       "      <td>NaN</td>\n",
       "      <td>NaN</td>\n",
       "      <td>2554183</td>\n",
       "      <td>NaN</td>\n",
       "      <td>NaN</td>\n",
       "      <td>Oxidative stress</td>\n",
       "      <td>neurological disorder</td>\n",
       "      <td>Disease</td>\n",
       "      <td>Disease</td>\n",
       "    </tr>\n",
       "    <tr>\n",
       "      <th>6752773</th>\n",
       "      <td>MESH:D000975</td>\n",
       "      <td>DOID:863</td>\n",
       "      <td>therapeutic</td>\n",
       "      <td>curated</td>\n",
       "      <td>NaN</td>\n",
       "      <td>NaN</td>\n",
       "      <td>NaN</td>\n",
       "      <td>CTD</td>\n",
       "      <td>http://ctdbase.org/about/legal.jsp</td>\n",
       "      <td>NaN</td>\n",
       "      <td>NaN</td>\n",
       "      <td>2554183</td>\n",
       "      <td>NaN</td>\n",
       "      <td>NaN</td>\n",
       "      <td>Oxidative stress</td>\n",
       "      <td>neurological disorder</td>\n",
       "      <td>Disease</td>\n",
       "      <td>Disease</td>\n",
       "    </tr>\n",
       "    <tr>\n",
       "      <th>6752774</th>\n",
       "      <td>MESH:D000975</td>\n",
       "      <td>DOID:60052</td>\n",
       "      <td>therapeutic</td>\n",
       "      <td>curated</td>\n",
       "      <td>NaN</td>\n",
       "      <td>NaN</td>\n",
       "      <td>NaN</td>\n",
       "      <td>CTD</td>\n",
       "      <td>http://ctdbase.org/about/legal.jsp</td>\n",
       "      <td>NaN</td>\n",
       "      <td>NaN</td>\n",
       "      <td>2554183</td>\n",
       "      <td>NaN</td>\n",
       "      <td>NaN</td>\n",
       "      <td>Oxidative stress</td>\n",
       "      <td>Neurological disorders</td>\n",
       "      <td>Disease</td>\n",
       "      <td>Disease</td>\n",
       "    </tr>\n",
       "    <tr>\n",
       "      <th>6752775</th>\n",
       "      <td>MESH:D000975</td>\n",
       "      <td>DOID:1289</td>\n",
       "      <td>therapeutic</td>\n",
       "      <td>curated</td>\n",
       "      <td>NaN</td>\n",
       "      <td>NaN</td>\n",
       "      <td>NaN</td>\n",
       "      <td>CTD</td>\n",
       "      <td>http://ctdbase.org/about/legal.jsp</td>\n",
       "      <td>NaN</td>\n",
       "      <td>NaN</td>\n",
       "      <td>15964507</td>\n",
       "      <td>NaN</td>\n",
       "      <td>NaN</td>\n",
       "      <td>Oxidative stress</td>\n",
       "      <td>neurodegeneration</td>\n",
       "      <td>Disease</td>\n",
       "      <td>Disease</td>\n",
       "    </tr>\n",
       "    <tr>\n",
       "      <th>6752777</th>\n",
       "      <td>MESH:D000975</td>\n",
       "      <td>DOID:11612</td>\n",
       "      <td>marker_or_mechanism</td>\n",
       "      <td>curated</td>\n",
       "      <td>NaN</td>\n",
       "      <td>NaN</td>\n",
       "      <td>NaN</td>\n",
       "      <td>CTD</td>\n",
       "      <td>http://ctdbase.org/about/legal.jsp</td>\n",
       "      <td>NaN</td>\n",
       "      <td>NaN</td>\n",
       "      <td>16123091</td>\n",
       "      <td>NaN</td>\n",
       "      <td>NaN</td>\n",
       "      <td>Oxidative stress</td>\n",
       "      <td>polycystic ovary syndrome</td>\n",
       "      <td>Disease</td>\n",
       "      <td>Disease</td>\n",
       "    </tr>\n",
       "    <tr>\n",
       "      <th>6752780</th>\n",
       "      <td>MESH:D000975</td>\n",
       "      <td>DOID:11394</td>\n",
       "      <td>therapeutic</td>\n",
       "      <td>curated</td>\n",
       "      <td>NaN</td>\n",
       "      <td>NaN</td>\n",
       "      <td>NaN</td>\n",
       "      <td>CTD</td>\n",
       "      <td>http://ctdbase.org/about/legal.jsp</td>\n",
       "      <td>NaN</td>\n",
       "      <td>NaN</td>\n",
       "      <td>18257742</td>\n",
       "      <td>NaN</td>\n",
       "      <td>NaN</td>\n",
       "      <td>Oxidative stress</td>\n",
       "      <td>adult respiratory distress syndrome</td>\n",
       "      <td>Disease</td>\n",
       "      <td>Disease</td>\n",
       "    </tr>\n",
       "    <tr>\n",
       "      <th>6752781</th>\n",
       "      <td>MESH:D000975</td>\n",
       "      <td>DOID:60480</td>\n",
       "      <td>therapeutic</td>\n",
       "      <td>curated</td>\n",
       "      <td>NaN</td>\n",
       "      <td>NaN</td>\n",
       "      <td>NaN</td>\n",
       "      <td>CTD</td>\n",
       "      <td>http://ctdbase.org/about/legal.jsp</td>\n",
       "      <td>NaN</td>\n",
       "      <td>NaN</td>\n",
       "      <td>14576513</td>\n",
       "      <td>NaN</td>\n",
       "      <td>NaN</td>\n",
       "      <td>Oxidative stress</td>\n",
       "      <td>Left ventricular ejection fraction</td>\n",
       "      <td>Disease</td>\n",
       "      <td>Disease</td>\n",
       "    </tr>\n",
       "    <tr>\n",
       "      <th>6757232</th>\n",
       "      <td>MESH:D003902</td>\n",
       "      <td>DOID:4661</td>\n",
       "      <td>marker_or_mechanism</td>\n",
       "      <td>curated</td>\n",
       "      <td>NaN</td>\n",
       "      <td>NaN</td>\n",
       "      <td>NaN</td>\n",
       "      <td>CTD</td>\n",
       "      <td>http://ctdbase.org/about/legal.jsp</td>\n",
       "      <td>NaN</td>\n",
       "      <td>NaN</td>\n",
       "      <td>17075259</td>\n",
       "      <td>NaN</td>\n",
       "      <td>NaN</td>\n",
       "      <td>Facial cleansing</td>\n",
       "      <td>multiple chemical sensitivity</td>\n",
       "      <td>Disease</td>\n",
       "      <td>Disease</td>\n",
       "    </tr>\n",
       "    <tr>\n",
       "      <th>6768438</th>\n",
       "      <td>MESH:D011848</td>\n",
       "      <td>DOID:1240</td>\n",
       "      <td>marker_or_mechanism</td>\n",
       "      <td>curated</td>\n",
       "      <td>NaN</td>\n",
       "      <td>NaN</td>\n",
       "      <td>NaN</td>\n",
       "      <td>CTD</td>\n",
       "      <td>http://ctdbase.org/about/legal.jsp</td>\n",
       "      <td>NaN</td>\n",
       "      <td>NaN</td>\n",
       "      <td>20049249</td>\n",
       "      <td>NaN</td>\n",
       "      <td>NaN</td>\n",
       "      <td>penetration of radioactive iodine into the thy...</td>\n",
       "      <td>leukemia</td>\n",
       "      <td>Disease</td>\n",
       "      <td>Disease</td>\n",
       "    </tr>\n",
       "    <tr>\n",
       "      <th>6768441</th>\n",
       "      <td>MESH:D011848</td>\n",
       "      <td>DOID:60072</td>\n",
       "      <td>marker_or_mechanism</td>\n",
       "      <td>curated</td>\n",
       "      <td>NaN</td>\n",
       "      <td>NaN</td>\n",
       "      <td>NaN</td>\n",
       "      <td>CTD</td>\n",
       "      <td>http://ctdbase.org/about/legal.jsp</td>\n",
       "      <td>NaN</td>\n",
       "      <td>NaN</td>\n",
       "      <td>12819287</td>\n",
       "      <td>NaN</td>\n",
       "      <td>NaN</td>\n",
       "      <td>penetration of radioactive iodine into the thy...</td>\n",
       "      <td>Cancer</td>\n",
       "      <td>Disease</td>\n",
       "      <td>Disease</td>\n",
       "    </tr>\n",
       "    <tr>\n",
       "      <th>9924215</th>\n",
       "      <td>MESH:D000779</td>\n",
       "      <td>MESH:D064420</td>\n",
       "      <td>marker_or_mechanism</td>\n",
       "      <td>curated</td>\n",
       "      <td>NaN</td>\n",
       "      <td>NaN</td>\n",
       "      <td>NaN</td>\n",
       "      <td>CTD</td>\n",
       "      <td>http://ctdbase.org/about/legal.jsp</td>\n",
       "      <td>NaN</td>\n",
       "      <td>NaN</td>\n",
       "      <td>8492141</td>\n",
       "      <td>NaN</td>\n",
       "      <td>NaN</td>\n",
       "      <td>Local anesthetic</td>\n",
       "      <td>Cisplatin-induced toxicity</td>\n",
       "      <td>Disease</td>\n",
       "      <td>Disease</td>\n",
       "    </tr>\n",
       "    <tr>\n",
       "      <th>9924268</th>\n",
       "      <td>MESH:D000975</td>\n",
       "      <td>MESH:D018487</td>\n",
       "      <td>therapeutic</td>\n",
       "      <td>curated</td>\n",
       "      <td>NaN</td>\n",
       "      <td>NaN</td>\n",
       "      <td>NaN</td>\n",
       "      <td>CTD</td>\n",
       "      <td>http://ctdbase.org/about/legal.jsp</td>\n",
       "      <td>NaN</td>\n",
       "      <td>NaN</td>\n",
       "      <td>14576513</td>\n",
       "      <td>NaN</td>\n",
       "      <td>NaN</td>\n",
       "      <td>Oxidative stress</td>\n",
       "      <td>Asymptomatic left ventricular dysfunction</td>\n",
       "      <td>Disease</td>\n",
       "      <td>Disease</td>\n",
       "    </tr>\n",
       "    <tr>\n",
       "      <th>9924269</th>\n",
       "      <td>MESH:D000975</td>\n",
       "      <td>MESH:D055370</td>\n",
       "      <td>therapeutic</td>\n",
       "      <td>curated</td>\n",
       "      <td>NaN</td>\n",
       "      <td>NaN</td>\n",
       "      <td>NaN</td>\n",
       "      <td>CTD</td>\n",
       "      <td>http://ctdbase.org/about/legal.jsp</td>\n",
       "      <td>NaN</td>\n",
       "      <td>NaN</td>\n",
       "      <td>11731445</td>\n",
       "      <td>NaN</td>\n",
       "      <td>NaN</td>\n",
       "      <td>Oxidative stress</td>\n",
       "      <td>pulmonary injury</td>\n",
       "      <td>Disease</td>\n",
       "      <td>Disease</td>\n",
       "    </tr>\n",
       "    <tr>\n",
       "      <th>9924270</th>\n",
       "      <td>MESH:D000975</td>\n",
       "      <td>MESH:D055371</td>\n",
       "      <td>therapeutic</td>\n",
       "      <td>curated</td>\n",
       "      <td>NaN</td>\n",
       "      <td>NaN</td>\n",
       "      <td>NaN</td>\n",
       "      <td>CTD</td>\n",
       "      <td>http://ctdbase.org/about/legal.jsp</td>\n",
       "      <td>NaN</td>\n",
       "      <td>NaN</td>\n",
       "      <td>15612528</td>\n",
       "      <td>NaN</td>\n",
       "      <td>NaN</td>\n",
       "      <td>Oxidative stress</td>\n",
       "      <td>Acute lung injury associated with acute respir...</td>\n",
       "      <td>Disease</td>\n",
       "      <td>Disease</td>\n",
       "    </tr>\n",
       "  </tbody>\n",
       "</table>\n",
       "</div>"
      ],
      "text/plain": [
       "             start_id        end_id                 type dsrc_type comp_type  \\\n",
       "1307915  DOID:0060287   OMIM:121400             presents  computed     split   \n",
       "1307916  DOID:0060287   OMIM:217300             presents  computed     split   \n",
       "1311005   OMIM:121400   OMIM:121400             presents  computed   punning   \n",
       "1311006   OMIM:121400   OMIM:217300             presents  computed   punning   \n",
       "1311008   OMIM:217300   OMIM:121400             presents  computed   punning   \n",
       "1311009   OMIM:217300   OMIM:217300             presents  computed   punning   \n",
       "5881836  MESH:D000975  MESH:D020149          therapeutic   curated       NaN   \n",
       "5885780  MESH:D003902  MESH:D059366  marker_or_mechanism   curated       NaN   \n",
       "6751551  MESH:D000779    DOID:13934  marker_or_mechanism   curated       NaN   \n",
       "6751555  MESH:D000779  DOID:0060052  marker_or_mechanism   curated       NaN   \n",
       "6751556  MESH:D000779      DOID:863  marker_or_mechanism   curated       NaN   \n",
       "6751557  MESH:D000779    DOID:60052  marker_or_mechanism   curated       NaN   \n",
       "6751558  MESH:D000779    DOID:11162  marker_or_mechanism   curated       NaN   \n",
       "6752766  MESH:D000975    DOID:13241  marker_or_mechanism   curated       NaN   \n",
       "6752767  MESH:D000975    DOID:10763          therapeutic   curated       NaN   \n",
       "6752769  MESH:D000975     DOID:1909          therapeutic   curated       NaN   \n",
       "6752772  MESH:D000975  DOID:0060052          therapeutic   curated       NaN   \n",
       "6752773  MESH:D000975      DOID:863          therapeutic   curated       NaN   \n",
       "6752774  MESH:D000975    DOID:60052          therapeutic   curated       NaN   \n",
       "6752775  MESH:D000975     DOID:1289          therapeutic   curated       NaN   \n",
       "6752777  MESH:D000975    DOID:11612  marker_or_mechanism   curated       NaN   \n",
       "6752780  MESH:D000975    DOID:11394          therapeutic   curated       NaN   \n",
       "6752781  MESH:D000975    DOID:60480          therapeutic   curated       NaN   \n",
       "6757232  MESH:D003902     DOID:4661  marker_or_mechanism   curated       NaN   \n",
       "6768438  MESH:D011848     DOID:1240  marker_or_mechanism   curated       NaN   \n",
       "6768441  MESH:D011848    DOID:60072  marker_or_mechanism   curated       NaN   \n",
       "9924215  MESH:D000779  MESH:D064420  marker_or_mechanism   curated       NaN   \n",
       "9924268  MESH:D000975  MESH:D018487          therapeutic   curated       NaN   \n",
       "9924269  MESH:D000975  MESH:D055370          therapeutic   curated       NaN   \n",
       "9924270  MESH:D000975  MESH:D055371          therapeutic   curated       NaN   \n",
       "\n",
       "        p_val adj_p    source                             license experiments  \\\n",
       "1307915   NaN   NaN  WikiData                             CC0 1.0         NaN   \n",
       "1307916   NaN   NaN  WikiData                             CC0 1.0         NaN   \n",
       "1311005   NaN   NaN  WikiData                             CC0 1.0         NaN   \n",
       "1311006   NaN   NaN  WikiData                             CC0 1.0         NaN   \n",
       "1311008   NaN   NaN  WikiData                             CC0 1.0         NaN   \n",
       "1311009   NaN   NaN  WikiData                             CC0 1.0         NaN   \n",
       "5881836   NaN   NaN       CTD  http://ctdbase.org/about/legal.jsp         NaN   \n",
       "5885780   NaN   NaN       CTD  http://ctdbase.org/about/legal.jsp         NaN   \n",
       "6751551   NaN   NaN       CTD  http://ctdbase.org/about/legal.jsp         NaN   \n",
       "6751555   NaN   NaN       CTD  http://ctdbase.org/about/legal.jsp         NaN   \n",
       "6751556   NaN   NaN       CTD  http://ctdbase.org/about/legal.jsp         NaN   \n",
       "6751557   NaN   NaN       CTD  http://ctdbase.org/about/legal.jsp         NaN   \n",
       "6751558   NaN   NaN       CTD  http://ctdbase.org/about/legal.jsp         NaN   \n",
       "6752766   NaN   NaN       CTD  http://ctdbase.org/about/legal.jsp         NaN   \n",
       "6752767   NaN   NaN       CTD  http://ctdbase.org/about/legal.jsp         NaN   \n",
       "6752769   NaN   NaN       CTD  http://ctdbase.org/about/legal.jsp         NaN   \n",
       "6752772   NaN   NaN       CTD  http://ctdbase.org/about/legal.jsp         NaN   \n",
       "6752773   NaN   NaN       CTD  http://ctdbase.org/about/legal.jsp         NaN   \n",
       "6752774   NaN   NaN       CTD  http://ctdbase.org/about/legal.jsp         NaN   \n",
       "6752775   NaN   NaN       CTD  http://ctdbase.org/about/legal.jsp         NaN   \n",
       "6752777   NaN   NaN       CTD  http://ctdbase.org/about/legal.jsp         NaN   \n",
       "6752780   NaN   NaN       CTD  http://ctdbase.org/about/legal.jsp         NaN   \n",
       "6752781   NaN   NaN       CTD  http://ctdbase.org/about/legal.jsp         NaN   \n",
       "6757232   NaN   NaN       CTD  http://ctdbase.org/about/legal.jsp         NaN   \n",
       "6768438   NaN   NaN       CTD  http://ctdbase.org/about/legal.jsp         NaN   \n",
       "6768441   NaN   NaN       CTD  http://ctdbase.org/about/legal.jsp         NaN   \n",
       "9924215   NaN   NaN       CTD  http://ctdbase.org/about/legal.jsp         NaN   \n",
       "9924268   NaN   NaN       CTD  http://ctdbase.org/about/legal.jsp         NaN   \n",
       "9924269   NaN   NaN       CTD  http://ctdbase.org/about/legal.jsp         NaN   \n",
       "9924270   NaN   NaN       CTD  http://ctdbase.org/about/legal.jsp         NaN   \n",
       "\n",
       "        support_type             pmids phase date  \\\n",
       "1307915          NaN               NaN   NaN  NaN   \n",
       "1307916          NaN               NaN   NaN  NaN   \n",
       "1311005          NaN               NaN   NaN  NaN   \n",
       "1311006          NaN               NaN   NaN  NaN   \n",
       "1311008          NaN               NaN   NaN  NaN   \n",
       "1311009          NaN               NaN   NaN  NaN   \n",
       "5881836          NaN          21107535   NaN  NaN   \n",
       "5885780          NaN          27504716   NaN  NaN   \n",
       "6751551          NaN           2524757   NaN  NaN   \n",
       "6751555          NaN           8492141   NaN  NaN   \n",
       "6751556          NaN           8492141   NaN  NaN   \n",
       "6751557          NaN           8492141   NaN  NaN   \n",
       "6751558          NaN  18047629|7747857   NaN  NaN   \n",
       "6752766          NaN          12074830   NaN  NaN   \n",
       "6752767          NaN          20713914   NaN  NaN   \n",
       "6752769          NaN          17992120   NaN  NaN   \n",
       "6752772          NaN           2554183   NaN  NaN   \n",
       "6752773          NaN           2554183   NaN  NaN   \n",
       "6752774          NaN           2554183   NaN  NaN   \n",
       "6752775          NaN          15964507   NaN  NaN   \n",
       "6752777          NaN          16123091   NaN  NaN   \n",
       "6752780          NaN          18257742   NaN  NaN   \n",
       "6752781          NaN          14576513   NaN  NaN   \n",
       "6757232          NaN          17075259   NaN  NaN   \n",
       "6768438          NaN          20049249   NaN  NaN   \n",
       "6768441          NaN          12819287   NaN  NaN   \n",
       "9924215          NaN           8492141   NaN  NaN   \n",
       "9924268          NaN          14576513   NaN  NaN   \n",
       "9924269          NaN          11731445   NaN  NaN   \n",
       "9924270          NaN          15612528   NaN  NaN   \n",
       "\n",
       "                                                start_name  \\\n",
       "1307915                                       cornea plana   \n",
       "1307916                                       cornea plana   \n",
       "1311005                                     Cornea plana 1   \n",
       "1311006                                     Cornea plana 1   \n",
       "1311008                                     Cornea plana 2   \n",
       "1311009                                     Cornea plana 2   \n",
       "5881836                                   Oxidative stress   \n",
       "5885780                                   Facial cleansing   \n",
       "6751551                                   Local anesthetic   \n",
       "6751555                                   Local anesthetic   \n",
       "6751556                                   Local anesthetic   \n",
       "6751557                                   Local anesthetic   \n",
       "6751558                                   Local anesthetic   \n",
       "6752766                                   Oxidative stress   \n",
       "6752767                                   Oxidative stress   \n",
       "6752769                                   Oxidative stress   \n",
       "6752772                                   Oxidative stress   \n",
       "6752773                                   Oxidative stress   \n",
       "6752774                                   Oxidative stress   \n",
       "6752775                                   Oxidative stress   \n",
       "6752777                                   Oxidative stress   \n",
       "6752780                                   Oxidative stress   \n",
       "6752781                                   Oxidative stress   \n",
       "6757232                                   Facial cleansing   \n",
       "6768438  penetration of radioactive iodine into the thy...   \n",
       "6768441  penetration of radioactive iodine into the thy...   \n",
       "9924215                                   Local anesthetic   \n",
       "9924268                                   Oxidative stress   \n",
       "9924269                                   Oxidative stress   \n",
       "9924270                                   Oxidative stress   \n",
       "\n",
       "                                                  end_name start_label  \\\n",
       "1307915                                     Cornea plana 1     Disease   \n",
       "1307916                                     Cornea plana 2     Disease   \n",
       "1311005                                     Cornea plana 1     Disease   \n",
       "1311006                                     Cornea plana 2     Disease   \n",
       "1311008                                     Cornea plana 1     Disease   \n",
       "1311009                                     Cornea plana 2     Disease   \n",
       "5881836                                Manganese Poisoning     Disease   \n",
       "5885780                               Asthma, Occupational     Disease   \n",
       "6751551                                   facial paralysis     Disease   \n",
       "6751555                              neurological disorder     Disease   \n",
       "6751556                              neurological disorder     Disease   \n",
       "6751557                             Neurological disorders     Disease   \n",
       "6751558                                respiratory failure     Disease   \n",
       "6752766                                   Behcet's disease     Disease   \n",
       "6752767                                       hypertension     Disease   \n",
       "6752769                                           melanoma     Disease   \n",
       "6752772                              neurological disorder     Disease   \n",
       "6752773                              neurological disorder     Disease   \n",
       "6752774                             Neurological disorders     Disease   \n",
       "6752775                                  neurodegeneration     Disease   \n",
       "6752777                          polycystic ovary syndrome     Disease   \n",
       "6752780                adult respiratory distress syndrome     Disease   \n",
       "6752781                 Left ventricular ejection fraction     Disease   \n",
       "6757232                      multiple chemical sensitivity     Disease   \n",
       "6768438                                           leukemia     Disease   \n",
       "6768441                                             Cancer     Disease   \n",
       "9924215                         Cisplatin-induced toxicity     Disease   \n",
       "9924268          Asymptomatic left ventricular dysfunction     Disease   \n",
       "9924269                                   pulmonary injury     Disease   \n",
       "9924270  Acute lung injury associated with acute respir...     Disease   \n",
       "\n",
       "        end_label  \n",
       "1307915   Disease  \n",
       "1307916   Disease  \n",
       "1311005   Disease  \n",
       "1311006   Disease  \n",
       "1311008   Disease  \n",
       "1311009   Disease  \n",
       "5881836   Disease  \n",
       "5885780   Disease  \n",
       "6751551   Disease  \n",
       "6751555   Disease  \n",
       "6751556   Disease  \n",
       "6751557   Disease  \n",
       "6751558   Disease  \n",
       "6752766   Disease  \n",
       "6752767   Disease  \n",
       "6752769   Disease  \n",
       "6752772   Disease  \n",
       "6752773   Disease  \n",
       "6752774   Disease  \n",
       "6752775   Disease  \n",
       "6752777   Disease  \n",
       "6752780   Disease  \n",
       "6752781   Disease  \n",
       "6757232   Disease  \n",
       "6768438   Disease  \n",
       "6768441   Disease  \n",
       "9924215   Disease  \n",
       "9924268   Disease  \n",
       "9924269   Disease  \n",
       "9924270   Disease  "
      ]
     },
     "execution_count": 86,
     "metadata": {},
     "output_type": "execute_result"
    }
   ],
   "source": [
    "combo.query('start_label == \"Disease\" and end_label == \"Disease\" ')"
   ]
  },
  {
   "cell_type": "code",
   "execution_count": null,
   "metadata": {},
   "outputs": [],
   "source": []
  },
  {
   "cell_type": "code",
   "execution_count": null,
   "metadata": {},
   "outputs": [],
   "source": []
  },
  {
   "cell_type": "code",
   "execution_count": 82,
   "metadata": {},
   "outputs": [
    {
     "data": {
      "text/plain": [
       "adjacent_to                                       8\n",
       "allosteric antagonist                             8\n",
       "downregulator                                     8\n",
       "chaperone                                         8\n",
       "results_in_transport_across                       7\n",
       "binding                                           7\n",
       "negative allosteric modulator                     7\n",
       "has_target_start_location                         6\n",
       "has_target_end_location                           5\n",
       "stimulator                                        5\n",
       "adduct                                            5\n",
       "releasing agent                                   5\n",
       "produced_by                                       4\n",
       "has_end_location                                  4\n",
       "channel_for                                       4\n",
       "has_start_location                                4\n",
       "functionally_related_to                           4\n",
       "releasing_agent                                   4\n",
       "oxidizer                                          4\n",
       "has_soma_location                                 4\n",
       "Preventive                                        3\n",
       "neutral_antagonist                                3\n",
       "suppressor                                        3\n",
       "channel activator activity                        3\n",
       "pharmacological chaperone                         3\n",
       "bounding_layer_of                                 2\n",
       "partial antagonist                                2\n",
       "oxidative_enzyme                                  2\n",
       "results_in_transport_to_from_or_in                2\n",
       "develops_from                                     2\n",
       "has_synaptic_terminal_in                          2\n",
       "has_potential_to_developmentally_contribute_to    1\n",
       "inactivator                                       1\n",
       "synapsed_by                                       1\n",
       "results_in_transport_along                        1\n",
       "aggregation inhibitor                             1\n",
       "has_component                                     1\n",
       "innervates                                        1\n",
       "protein-protein interaction inhibitor             1\n",
       "acetylation                                       1\n",
       "results_in_developmental_progression_of           1\n",
       "inhibitory allosteric modulator                   1\n",
       "antibody                                          1\n",
       "extends_fibers_into                               1\n",
       "deoxidizer                                        1\n",
       "localized_to                                      1\n",
       "results_in_assembly_of                            1\n",
       "weak inhibitor                                    1\n",
       "inhibition of synthesis                           1\n",
       "Neutralizing antibody                             1\n",
       "Name: type, dtype: int64"
      ]
     },
     "execution_count": 82,
     "metadata": {},
     "output_type": "execute_result"
    }
   ],
   "source": [
    "edges_out['type'].value_counts().tail(50)"
   ]
  },
  {
   "cell_type": "code",
   "execution_count": 75,
   "metadata": {},
   "outputs": [],
   "source": [
    "pro_id = nodes_out_filt.query('label == \"Protein\"')['id'].unique()"
   ]
  },
  {
   "cell_type": "code",
   "execution_count": null,
   "metadata": {},
   "outputs": [],
   "source": []
  }
 ],
 "metadata": {
  "kernelspec": {
   "display_name": "Python 3",
   "language": "python",
   "name": "python3"
  },
  "language_info": {
   "codemirror_mode": {
    "name": "ipython",
    "version": 3
   },
   "file_extension": ".py",
   "mimetype": "text/x-python",
   "name": "python",
   "nbconvert_exporter": "python",
   "pygments_lexer": "ipython3",
   "version": "3.7.5"
  }
 },
 "nbformat": 4,
 "nbformat_minor": 2
}
