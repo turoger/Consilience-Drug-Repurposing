{
 "cells": [
  {
   "cell_type": "code",
   "execution_count": 1,
   "metadata": {},
   "outputs": [
    {
     "name": "stderr",
     "output_type": "stream",
     "text": [
      "/home/mmayers/projects/metapaths/1_code/tools/processing.py:8: TqdmExperimentalWarning: Using `tqdm.autonotebook.tqdm` in notebook mode. Use `tqdm.tqdm` instead to force console mode (e.g. in jupyter console)\n",
      "  from tqdm.autonotebook import tqdm\n"
     ]
    }
   ],
   "source": [
    "%matplotlib inline\n",
    "import pandas as pd\n",
    "from pathlib import Path\n",
    "import matplotlib.pyplot as plt\n",
    "from data_tools.plotting import count_plot_h\n",
    "from data_tools import combine_nodes_and_edges\n",
    "from tools.hetnet_file_processing import read_reactome\n",
    "from data_tools.df_processing import combine_group_cols_on_char"
   ]
  },
  {
   "cell_type": "code",
   "execution_count": 2,
   "metadata": {},
   "outputs": [],
   "source": [
    "prev_dir = Path('../2_pipeline/02a_Reactome_DB_Queries/out/').resolve()\n",
    "download_dir = Path('../2_pipeline/00_download_data/out/').resolve()"
   ]
  },
  {
   "cell_type": "markdown",
   "metadata": {},
   "source": [
    "# Read in the Previous Query Results and Flat File Data"
   ]
  },
  {
   "cell_type": "markdown",
   "metadata": {},
   "source": [
    "## Query Results"
   ]
  },
  {
   "cell_type": "code",
   "execution_count": 3,
   "metadata": {},
   "outputs": [],
   "source": [
    "# Each result has differeing columns, so can't just concat them...\n",
    "edge_res = dict()\n",
    "\n",
    "for file in prev_dir.iterdir():\n",
    "    # Get the name of the file\n",
    "    name = file.name.replace('.csv', '')\n",
    "    df = pd.read_csv(file)\n",
    "    \n",
    "    # Add CURIs Reactome IDs\n",
    "    for c in df.columns:\n",
    "        if 'rxn_id' in c or 'evt_id' in c or 'pe_id' in c or 'pw_id' in c or 'cplx_id' in c:\n",
    "            df[c] = 'REACT' + ':' + df[c]\n",
    "    \n",
    "    edge_res[name] = df"
   ]
  },
  {
   "cell_type": "code",
   "execution_count": 4,
   "metadata": {},
   "outputs": [
    {
     "data": {
      "text/html": [
       "<div>\n",
       "<style scoped>\n",
       "    .dataframe tbody tr th:only-of-type {\n",
       "        vertical-align: middle;\n",
       "    }\n",
       "\n",
       "    .dataframe tbody tr th {\n",
       "        vertical-align: top;\n",
       "    }\n",
       "\n",
       "    .dataframe thead th {\n",
       "        text-align: right;\n",
       "    }\n",
       "</style>\n",
       "<table border=\"1\" class=\"dataframe\">\n",
       "  <thead>\n",
       "    <tr style=\"text-align: right;\">\n",
       "      <th></th>\n",
       "      <th>tax_id</th>\n",
       "      <th>tax_name</th>\n",
       "      <th>type</th>\n",
       "      <th>pe_id</th>\n",
       "      <th>pe_name</th>\n",
       "    </tr>\n",
       "  </thead>\n",
       "  <tbody>\n",
       "    <tr>\n",
       "      <th>0</th>\n",
       "      <td>NCBITaxon:9606</td>\n",
       "      <td>Homo sapiens</td>\n",
       "      <td>species</td>\n",
       "      <td>REACT:R-NUL-351080</td>\n",
       "      <td>Fz1:Dvl2:Daam1:RhoA:GTP [plasma membrane]</td>\n",
       "    </tr>\n",
       "    <tr>\n",
       "      <th>1</th>\n",
       "      <td>NCBITaxon:9606</td>\n",
       "      <td>Homo sapiens</td>\n",
       "      <td>species</td>\n",
       "      <td>REACT:R-NUL-351023</td>\n",
       "      <td>Fz1:Dvl2:Daam1 [plasma membrane]</td>\n",
       "    </tr>\n",
       "    <tr>\n",
       "      <th>2</th>\n",
       "      <td>NCBITaxon:9606</td>\n",
       "      <td>Homo sapiens</td>\n",
       "      <td>species</td>\n",
       "      <td>REACT:R-HSA-194545</td>\n",
       "      <td>RhoA (Mg cofactor):GTP [plasma membrane]</td>\n",
       "    </tr>\n",
       "    <tr>\n",
       "      <th>3</th>\n",
       "      <td>NCBITaxon:9606</td>\n",
       "      <td>Homo sapiens</td>\n",
       "      <td>species</td>\n",
       "      <td>REACT:R-NUL-206831</td>\n",
       "      <td>Wnt1:Frizzled1:phospho (3 sites) LRP6:CKIgamma...</td>\n",
       "    </tr>\n",
       "    <tr>\n",
       "      <th>4</th>\n",
       "      <td>NCBITaxon:9606</td>\n",
       "      <td>Homo sapiens</td>\n",
       "      <td>species</td>\n",
       "      <td>REACT:R-HSA-205884</td>\n",
       "      <td>p-T1479,S1490,T1493-LRP6 [plasma membrane]</td>\n",
       "    </tr>\n",
       "  </tbody>\n",
       "</table>\n",
       "</div>"
      ],
      "text/plain": [
       "           tax_id      tax_name     type               pe_id  \\\n",
       "0  NCBITaxon:9606  Homo sapiens  species  REACT:R-NUL-351080   \n",
       "1  NCBITaxon:9606  Homo sapiens  species  REACT:R-NUL-351023   \n",
       "2  NCBITaxon:9606  Homo sapiens  species  REACT:R-HSA-194545   \n",
       "3  NCBITaxon:9606  Homo sapiens  species  REACT:R-NUL-206831   \n",
       "4  NCBITaxon:9606  Homo sapiens  species  REACT:R-HSA-205884   \n",
       "\n",
       "                                             pe_name  \n",
       "0          Fz1:Dvl2:Daam1:RhoA:GTP [plasma membrane]  \n",
       "1                   Fz1:Dvl2:Daam1 [plasma membrane]  \n",
       "2           RhoA (Mg cofactor):GTP [plasma membrane]  \n",
       "3  Wnt1:Frizzled1:phospho (3 sites) LRP6:CKIgamma...  \n",
       "4         p-T1479,S1490,T1493-LRP6 [plasma membrane]  "
      ]
     },
     "execution_count": 4,
     "metadata": {},
     "output_type": "execute_result"
    }
   ],
   "source": [
    "next(iter(edge_res.values())).head()"
   ]
  },
  {
   "cell_type": "markdown",
   "metadata": {},
   "source": [
    "## Flat Files"
   ]
  },
  {
   "cell_type": "code",
   "execution_count": 5,
   "metadata": {},
   "outputs": [],
   "source": [
    "curi_map = {'miRBase': 'MI', 'Ensembl': 'ENSG', 'UniProt': 'UniProt', 'ChEBI': 'CHEBI', 'NCBI': 'NCBIGene'}"
   ]
  },
  {
   "cell_type": "markdown",
   "metadata": {},
   "source": [
    "#### Reaction to Physical Entity (PE)"
   ]
  },
  {
   "cell_type": "code",
   "execution_count": 6,
   "metadata": {},
   "outputs": [
    {
     "name": "stdout",
     "output_type": "stream",
     "text": [
      "Reading...\n",
      "miRBase2Reactome_PE_Reactions.txt\n",
      "NCBI2Reactome_PE_Reactions.txt\n",
      "UniProt2Reactome_PE_Reactions.txt\n",
      "Ensembl2Reactome_PE_Reactions.txt\n",
      "ChEBI2Reactome_PE_Reactions.txt\n",
      "Done\n"
     ]
    }
   ],
   "source": [
    "reactions = []\n",
    "print('Reading...')\n",
    "for file in download_dir.glob('*PE_Reactions*'):\n",
    "    print(file.name)\n",
    "    \n",
    "    # Add reactome CURIS\n",
    "    df = read_reactome(file)\n",
    "    df['reactome_id'] = 'REACT' + ':' + df['reactome_id']\n",
    "    df['pe_reactome_id'] = 'REACT' + ':' + df['pe_reactome_id']\n",
    "    \n",
    "    # Add PE ID source for easy filtering\n",
    "    pe_source = file.name.split('2Reactome')[0]\n",
    "    df['pe_source'] = pe_source\n",
    "\n",
    "    # Add CURIs to PE External Identifiers\n",
    "    curi = curi_map[pe_source]\n",
    "    df['external_id'] = curi + ':' + df['external_id']\n",
    "\n",
    "    reactions.append(df)\n",
    "reactions = pd.concat(reactions, sort=False, ignore_index=True)\n",
    "print('Done')"
   ]
  },
  {
   "cell_type": "code",
   "execution_count": 7,
   "metadata": {},
   "outputs": [
    {
     "data": {
      "text/html": [
       "<div>\n",
       "<style scoped>\n",
       "    .dataframe tbody tr th:only-of-type {\n",
       "        vertical-align: middle;\n",
       "    }\n",
       "\n",
       "    .dataframe tbody tr th {\n",
       "        vertical-align: top;\n",
       "    }\n",
       "\n",
       "    .dataframe thead th {\n",
       "        text-align: right;\n",
       "    }\n",
       "</style>\n",
       "<table border=\"1\" class=\"dataframe\">\n",
       "  <thead>\n",
       "    <tr style=\"text-align: right;\">\n",
       "      <th></th>\n",
       "      <th>external_id</th>\n",
       "      <th>pe_reactome_id</th>\n",
       "      <th>pe_name</th>\n",
       "      <th>reactome_id</th>\n",
       "      <th>reactome_url</th>\n",
       "      <th>reactome_name</th>\n",
       "      <th>evidence_code</th>\n",
       "      <th>taxon</th>\n",
       "      <th>pe_source</th>\n",
       "    </tr>\n",
       "  </thead>\n",
       "  <tbody>\n",
       "    <tr>\n",
       "      <th>0</th>\n",
       "      <td>MI:MI0000071</td>\n",
       "      <td>REACT:R-HSA-8938437</td>\n",
       "      <td>miR-17 [cytosol]</td>\n",
       "      <td>REACT:R-HSA-8935785</td>\n",
       "      <td>https://reactome.org/PathwayBrowser/#/R-HSA-89...</td>\n",
       "      <td>RUNX1 mRNA translation is inhibited by miR-17,...</td>\n",
       "      <td>TAS</td>\n",
       "      <td>Homo sapiens</td>\n",
       "      <td>miRBase</td>\n",
       "    </tr>\n",
       "    <tr>\n",
       "      <th>170</th>\n",
       "      <td>NCBIGene:1</td>\n",
       "      <td>REACT:R-HSA-6806490</td>\n",
       "      <td>A1BG [extracellular region]</td>\n",
       "      <td>REACT:R-HSA-481007</td>\n",
       "      <td>https://reactome.org/PathwayBrowser/#/R-HSA-48...</td>\n",
       "      <td>Exocytosis of platelet alpha granule contents</td>\n",
       "      <td>TAS</td>\n",
       "      <td>Homo sapiens</td>\n",
       "      <td>NCBI</td>\n",
       "    </tr>\n",
       "    <tr>\n",
       "      <th>747798</th>\n",
       "      <td>UniProt:A0A023GRW3</td>\n",
       "      <td>REACT:R-DME-72049</td>\n",
       "      <td>RBM5 [nucleoplasm]</td>\n",
       "      <td>REACT:R-DME-156661</td>\n",
       "      <td>https://reactome.org/PathwayBrowser/#/R-DME-15...</td>\n",
       "      <td>Formation of Exon Junction Complex</td>\n",
       "      <td>IEA</td>\n",
       "      <td>Drosophila melanogaster</td>\n",
       "      <td>UniProt</td>\n",
       "    </tr>\n",
       "    <tr>\n",
       "      <th>1755175</th>\n",
       "      <td>ENSG:C34F11.9e</td>\n",
       "      <td>REACT:R-CEL-3772396</td>\n",
       "      <td>phospho-pp-DVL1 [cytosol]</td>\n",
       "      <td>REACT:R-CEL-1504186</td>\n",
       "      <td>https://reactome.org/PathwayBrowser/#/R-CEL-15...</td>\n",
       "      <td>DVL recruits GSK3beta:AXIN1 to the receptor co...</td>\n",
       "      <td>IEA</td>\n",
       "      <td>Caenorhabditis elegans</td>\n",
       "      <td>Ensembl</td>\n",
       "    </tr>\n",
       "    <tr>\n",
       "      <th>2827467</th>\n",
       "      <td>CHEBI:10033</td>\n",
       "      <td>REACT:R-ALL-9014945</td>\n",
       "      <td>warfarin [cytosol]</td>\n",
       "      <td>REACT:R-BTA-159790</td>\n",
       "      <td>https://reactome.org/PathwayBrowser/#/R-BTA-15...</td>\n",
       "      <td>VKORC1 reduces vitamin K epoxide to MK4 (vitam...</td>\n",
       "      <td>IEA</td>\n",
       "      <td>Bos taurus</td>\n",
       "      <td>ChEBI</td>\n",
       "    </tr>\n",
       "  </tbody>\n",
       "</table>\n",
       "</div>"
      ],
      "text/plain": [
       "                external_id       pe_reactome_id                      pe_name  \\\n",
       "0              MI:MI0000071  REACT:R-HSA-8938437             miR-17 [cytosol]   \n",
       "170              NCBIGene:1  REACT:R-HSA-6806490  A1BG [extracellular region]   \n",
       "747798   UniProt:A0A023GRW3    REACT:R-DME-72049           RBM5 [nucleoplasm]   \n",
       "1755175      ENSG:C34F11.9e  REACT:R-CEL-3772396    phospho-pp-DVL1 [cytosol]   \n",
       "2827467         CHEBI:10033  REACT:R-ALL-9014945           warfarin [cytosol]   \n",
       "\n",
       "                 reactome_id  \\\n",
       "0        REACT:R-HSA-8935785   \n",
       "170       REACT:R-HSA-481007   \n",
       "747798    REACT:R-DME-156661   \n",
       "1755175  REACT:R-CEL-1504186   \n",
       "2827467   REACT:R-BTA-159790   \n",
       "\n",
       "                                              reactome_url  \\\n",
       "0        https://reactome.org/PathwayBrowser/#/R-HSA-89...   \n",
       "170      https://reactome.org/PathwayBrowser/#/R-HSA-48...   \n",
       "747798   https://reactome.org/PathwayBrowser/#/R-DME-15...   \n",
       "1755175  https://reactome.org/PathwayBrowser/#/R-CEL-15...   \n",
       "2827467  https://reactome.org/PathwayBrowser/#/R-BTA-15...   \n",
       "\n",
       "                                             reactome_name evidence_code  \\\n",
       "0        RUNX1 mRNA translation is inhibited by miR-17,...           TAS   \n",
       "170          Exocytosis of platelet alpha granule contents           TAS   \n",
       "747798                  Formation of Exon Junction Complex           IEA   \n",
       "1755175  DVL recruits GSK3beta:AXIN1 to the receptor co...           IEA   \n",
       "2827467  VKORC1 reduces vitamin K epoxide to MK4 (vitam...           IEA   \n",
       "\n",
       "                           taxon pe_source  \n",
       "0                   Homo sapiens   miRBase  \n",
       "170                 Homo sapiens      NCBI  \n",
       "747798   Drosophila melanogaster   UniProt  \n",
       "1755175   Caenorhabditis elegans   Ensembl  \n",
       "2827467               Bos taurus     ChEBI  "
      ]
     },
     "execution_count": 7,
     "metadata": {},
     "output_type": "execute_result"
    }
   ],
   "source": [
    "reactions.drop_duplicates(subset=['pe_source'])"
   ]
  },
  {
   "cell_type": "markdown",
   "metadata": {},
   "source": [
    "#### Pathway to PE"
   ]
  },
  {
   "cell_type": "code",
   "execution_count": 8,
   "metadata": {
    "scrolled": true
   },
   "outputs": [
    {
     "name": "stdout",
     "output_type": "stream",
     "text": [
      "Reading...\n",
      "miRBase2Reactome_PE_All_Levels.txt\n",
      "Ensembl2Reactome_PE_All_Levels.txt\n",
      "UniProt2Reactome_PE_All_Levels.txt\n",
      "ChEBI2Reactome_PE_All_Levels.txt\n",
      "NCBI2Reactome_PE_All_Levels.txt\n",
      "Done\n"
     ]
    }
   ],
   "source": [
    "pathways = []\n",
    "print('Reading...')\n",
    "for file in download_dir.glob('*PE_All*'):\n",
    "    print(file.name)\n",
    "    \n",
    "    # Add reactome CURIS\n",
    "    df = read_reactome(file)\n",
    "    df['reactome_id'] = 'REACT' + ':' + df['reactome_id']\n",
    "    df['pe_reactome_id'] = 'REACT' + ':' + df['pe_reactome_id']\n",
    "    \n",
    "    # Add PE ID source for easy filtering\n",
    "    pe_source = file.name.split('2Reactome')[0]\n",
    "    df['pe_source'] = pe_source\n",
    "\n",
    "    # Add CURIs to PE External Identifiers\n",
    "    curi = curi_map[pe_source]\n",
    "    df['external_id'] = curi + ':' + df['external_id']\n",
    "\n",
    "    pathways.append(df)\n",
    "pathways = pd.concat(pathways, sort=False, ignore_index=True)\n",
    "print('Done')"
   ]
  },
  {
   "cell_type": "code",
   "execution_count": 9,
   "metadata": {},
   "outputs": [
    {
     "data": {
      "text/html": [
       "<div>\n",
       "<style scoped>\n",
       "    .dataframe tbody tr th:only-of-type {\n",
       "        vertical-align: middle;\n",
       "    }\n",
       "\n",
       "    .dataframe tbody tr th {\n",
       "        vertical-align: top;\n",
       "    }\n",
       "\n",
       "    .dataframe thead th {\n",
       "        text-align: right;\n",
       "    }\n",
       "</style>\n",
       "<table border=\"1\" class=\"dataframe\">\n",
       "  <thead>\n",
       "    <tr style=\"text-align: right;\">\n",
       "      <th></th>\n",
       "      <th>external_id</th>\n",
       "      <th>pe_reactome_id</th>\n",
       "      <th>pe_name</th>\n",
       "      <th>reactome_id</th>\n",
       "      <th>reactome_url</th>\n",
       "      <th>reactome_name</th>\n",
       "      <th>evidence_code</th>\n",
       "      <th>taxon</th>\n",
       "      <th>pe_source</th>\n",
       "    </tr>\n",
       "  </thead>\n",
       "  <tbody>\n",
       "    <tr>\n",
       "      <th>0</th>\n",
       "      <td>MI:MI0000071</td>\n",
       "      <td>REACT:R-HSA-8938437</td>\n",
       "      <td>miR-17 [cytosol]</td>\n",
       "      <td>REACT:R-HSA-1257604</td>\n",
       "      <td>https://reactome.org/PathwayBrowser/#/R-HSA-12...</td>\n",
       "      <td>PIP3 activates AKT signaling</td>\n",
       "      <td>TAS</td>\n",
       "      <td>Homo sapiens</td>\n",
       "      <td>miRBase</td>\n",
       "    </tr>\n",
       "    <tr>\n",
       "      <th>270</th>\n",
       "      <td>ENSG:C34F11.9e</td>\n",
       "      <td>REACT:R-CEL-3772396</td>\n",
       "      <td>phospho-pp-DVL1 [cytosol]</td>\n",
       "      <td>REACT:R-CEL-162582</td>\n",
       "      <td>https://reactome.org/PathwayBrowser/#/R-CEL-16...</td>\n",
       "      <td>Signal Transduction</td>\n",
       "      <td>IEA</td>\n",
       "      <td>Caenorhabditis elegans</td>\n",
       "      <td>Ensembl</td>\n",
       "    </tr>\n",
       "    <tr>\n",
       "      <th>1623634</th>\n",
       "      <td>UniProt:A0A023GRW3</td>\n",
       "      <td>REACT:R-DME-72049</td>\n",
       "      <td>RBM5 [nucleoplasm]</td>\n",
       "      <td>REACT:R-DME-72163</td>\n",
       "      <td>https://reactome.org/PathwayBrowser/#/R-DME-72163</td>\n",
       "      <td>mRNA Splicing - Major Pathway</td>\n",
       "      <td>IEA</td>\n",
       "      <td>Drosophila melanogaster</td>\n",
       "      <td>UniProt</td>\n",
       "    </tr>\n",
       "    <tr>\n",
       "      <th>3170520</th>\n",
       "      <td>CHEBI:10033</td>\n",
       "      <td>REACT:R-ALL-9014945</td>\n",
       "      <td>warfarin [cytosol]</td>\n",
       "      <td>REACT:R-BTA-1430728</td>\n",
       "      <td>https://reactome.org/PathwayBrowser/#/R-BTA-14...</td>\n",
       "      <td>Metabolism</td>\n",
       "      <td>IEA</td>\n",
       "      <td>Bos taurus</td>\n",
       "      <td>ChEBI</td>\n",
       "    </tr>\n",
       "    <tr>\n",
       "      <th>3484209</th>\n",
       "      <td>NCBIGene:1</td>\n",
       "      <td>REACT:R-HSA-6806490</td>\n",
       "      <td>A1BG [extracellular region]</td>\n",
       "      <td>REACT:R-HSA-109582</td>\n",
       "      <td>https://reactome.org/PathwayBrowser/#/R-HSA-10...</td>\n",
       "      <td>Hemostasis</td>\n",
       "      <td>TAS</td>\n",
       "      <td>Homo sapiens</td>\n",
       "      <td>NCBI</td>\n",
       "    </tr>\n",
       "  </tbody>\n",
       "</table>\n",
       "</div>"
      ],
      "text/plain": [
       "                external_id       pe_reactome_id                      pe_name  \\\n",
       "0              MI:MI0000071  REACT:R-HSA-8938437             miR-17 [cytosol]   \n",
       "270          ENSG:C34F11.9e  REACT:R-CEL-3772396    phospho-pp-DVL1 [cytosol]   \n",
       "1623634  UniProt:A0A023GRW3    REACT:R-DME-72049           RBM5 [nucleoplasm]   \n",
       "3170520         CHEBI:10033  REACT:R-ALL-9014945           warfarin [cytosol]   \n",
       "3484209          NCBIGene:1  REACT:R-HSA-6806490  A1BG [extracellular region]   \n",
       "\n",
       "                 reactome_id  \\\n",
       "0        REACT:R-HSA-1257604   \n",
       "270       REACT:R-CEL-162582   \n",
       "1623634    REACT:R-DME-72163   \n",
       "3170520  REACT:R-BTA-1430728   \n",
       "3484209   REACT:R-HSA-109582   \n",
       "\n",
       "                                              reactome_url  \\\n",
       "0        https://reactome.org/PathwayBrowser/#/R-HSA-12...   \n",
       "270      https://reactome.org/PathwayBrowser/#/R-CEL-16...   \n",
       "1623634  https://reactome.org/PathwayBrowser/#/R-DME-72163   \n",
       "3170520  https://reactome.org/PathwayBrowser/#/R-BTA-14...   \n",
       "3484209  https://reactome.org/PathwayBrowser/#/R-HSA-10...   \n",
       "\n",
       "                         reactome_name evidence_code                    taxon  \\\n",
       "0         PIP3 activates AKT signaling           TAS             Homo sapiens   \n",
       "270                Signal Transduction           IEA   Caenorhabditis elegans   \n",
       "1623634  mRNA Splicing - Major Pathway           IEA  Drosophila melanogaster   \n",
       "3170520                     Metabolism           IEA               Bos taurus   \n",
       "3484209                     Hemostasis           TAS             Homo sapiens   \n",
       "\n",
       "        pe_source  \n",
       "0         miRBase  \n",
       "270       Ensembl  \n",
       "1623634   UniProt  \n",
       "3170520     ChEBI  \n",
       "3484209      NCBI  "
      ]
     },
     "execution_count": 9,
     "metadata": {},
     "output_type": "execute_result"
    }
   ],
   "source": [
    "pathways.drop_duplicates(subset=['pe_source'])"
   ]
  },
  {
   "cell_type": "markdown",
   "metadata": {},
   "source": [
    "### Make a PE Reacome to External Map"
   ]
  },
  {
   "cell_type": "code",
   "execution_count": 10,
   "metadata": {},
   "outputs": [],
   "source": [
    "map_cols = ['pe_reactome_id', 'external_id']\n",
    "pe_to_external = pd.concat([reactions[map_cols], pathways[map_cols]], sort=False, ignore_index=True)\n",
    "pe_to_external = pe_to_external.drop_duplicates()"
   ]
  },
  {
   "cell_type": "code",
   "execution_count": 11,
   "metadata": {},
   "outputs": [
    {
     "data": {
      "text/plain": [
       "(652124, 240940, 253985)"
      ]
     },
     "execution_count": 11,
     "metadata": {},
     "output_type": "execute_result"
    }
   ],
   "source": [
    "len(pe_to_external), pe_to_external['pe_reactome_id'].nunique(), pe_to_external['external_id'].nunique()"
   ]
  },
  {
   "cell_type": "code",
   "execution_count": 12,
   "metadata": {},
   "outputs": [
    {
     "data": {
      "image/png": "[encoded data removed]",
      "text/plain": [
       "<Figure size 432x288 with 1 Axes>"
      ]
     },
     "metadata": {
      "needs_background": "light"
     },
     "output_type": "display_data"
    }
   ],
   "source": [
    "counts = pe_to_external.groupby('pe_reactome_id')['external_id'].nunique().value_counts().head(10)\n",
    "fraction = (counts / pe_to_external['pe_reactome_id'].nunique())\n",
    "\n",
    "count_plot_h(fraction, counts)\n",
    "plt.title('Instances of 1 to X cross references in Physical Entities')\n",
    "plt.xlabel('Fraction of Reactome IDs')\n",
    "plt.ylabel('Number of Exterinal IDs per Reactome ID');"
   ]
  },
  {
   "cell_type": "code",
   "execution_count": 13,
   "metadata": {},
   "outputs": [
    {
     "data": {
      "image/png": "[encoded data removed]",
      "text/plain": [
       "<Figure size 432x288 with 1 Axes>"
      ]
     },
     "metadata": {
      "needs_background": "light"
     },
     "output_type": "display_data"
    }
   ],
   "source": [
    "counts = pe_to_external.groupby('external_id')['pe_reactome_id'].nunique().value_counts().head(10)\n",
    "fraction = (counts / pe_to_external['external_id'].nunique())\n",
    "\n",
    "count_plot_h(fraction, counts)\n",
    "plt.title('Instances of X to 1 cross references in Physical Entities')\n",
    "plt.xlabel('Fraction of External IDs')\n",
    "plt.ylabel('Number of Reactome IDs per ExternalID');"
   ]
  },
  {
   "cell_type": "markdown",
   "metadata": {},
   "source": [
    "Likely several Many to Many relationships here..."
   ]
  },
  {
   "cell_type": "markdown",
   "metadata": {},
   "source": [
    "### One final thought on PE names... \n",
    "\n",
    "Names for PEs in reacome are very messy... Reactome has both entity and location ontained in the identifier so Warfarin [extracellular] is different than Warfarin [cytoplasam] but both xref to the same ChEBI id.  Even if you remove the locaiton from the name by splitting out the brackets, sometimes you chan have many unique names for external Items.  \n",
    "\n",
    "For these reasons, we will have to normalize names with an external resource.  We will save this for a later notebook and for now put in placesholder names."
   ]
  },
  {
   "cell_type": "code",
   "execution_count": 14,
   "metadata": {},
   "outputs": [
    {
     "data": {
      "text/html": [
       "<div>\n",
       "<style scoped>\n",
       "    .dataframe tbody tr th:only-of-type {\n",
       "        vertical-align: middle;\n",
       "    }\n",
       "\n",
       "    .dataframe tbody tr th {\n",
       "        vertical-align: top;\n",
       "    }\n",
       "\n",
       "    .dataframe thead th {\n",
       "        text-align: right;\n",
       "    }\n",
       "</style>\n",
       "<table border=\"1\" class=\"dataframe\">\n",
       "  <thead>\n",
       "    <tr style=\"text-align: right;\">\n",
       "      <th></th>\n",
       "      <th>pe_reactome_id</th>\n",
       "      <th>external_id</th>\n",
       "    </tr>\n",
       "  </thead>\n",
       "  <tbody>\n",
       "    <tr>\n",
       "      <th>0</th>\n",
       "      <td>REACT:R-HSA-8938437</td>\n",
       "      <td>MI:MI0000071</td>\n",
       "    </tr>\n",
       "    <tr>\n",
       "      <th>6</th>\n",
       "      <td>REACT:R-HSA-8935923</td>\n",
       "      <td>MI:MI0000072</td>\n",
       "    </tr>\n",
       "  </tbody>\n",
       "</table>\n",
       "</div>"
      ],
      "text/plain": [
       "        pe_reactome_id   external_id\n",
       "0  REACT:R-HSA-8938437  MI:MI0000071\n",
       "6  REACT:R-HSA-8935923  MI:MI0000072"
      ]
     },
     "execution_count": 14,
     "metadata": {},
     "output_type": "execute_result"
    }
   ],
   "source": [
    "pe_to_external.head(2)"
   ]
  },
  {
   "cell_type": "code",
   "execution_count": 15,
   "metadata": {},
   "outputs": [
    {
     "data": {
      "text/html": [
       "<div>\n",
       "<style scoped>\n",
       "    .dataframe tbody tr th:only-of-type {\n",
       "        vertical-align: middle;\n",
       "    }\n",
       "\n",
       "    .dataframe tbody tr th {\n",
       "        vertical-align: top;\n",
       "    }\n",
       "\n",
       "    .dataframe thead th {\n",
       "        text-align: right;\n",
       "    }\n",
       "</style>\n",
       "<table border=\"1\" class=\"dataframe\">\n",
       "  <thead>\n",
       "    <tr style=\"text-align: right;\">\n",
       "      <th></th>\n",
       "      <th>external_id</th>\n",
       "      <th>pe_name</th>\n",
       "    </tr>\n",
       "  </thead>\n",
       "  <tbody>\n",
       "    <tr>\n",
       "      <th>0</th>\n",
       "      <td>MI:MI0000071</td>\n",
       "      <td>miR-17 [cytosol]</td>\n",
       "    </tr>\n",
       "    <tr>\n",
       "      <th>6</th>\n",
       "      <td>MI:MI0000072</td>\n",
       "      <td>miR-18a [cytosol]</td>\n",
       "    </tr>\n",
       "  </tbody>\n",
       "</table>\n",
       "</div>"
      ],
      "text/plain": [
       "    external_id            pe_name\n",
       "0  MI:MI0000071   miR-17 [cytosol]\n",
       "6  MI:MI0000072  miR-18a [cytosol]"
      ]
     },
     "execution_count": 15,
     "metadata": {},
     "output_type": "execute_result"
    }
   ],
   "source": [
    "map_cols = ['external_id', 'pe_name']\n",
    "pe_to_name = pd.concat([reactions[map_cols], pathways[map_cols]], sort=False, ignore_index=True)\n",
    "pe_to_name = pe_to_name.drop_duplicates(subset=['external_id', 'pe_name'])\n",
    "pe_to_name.head(2)"
   ]
  },
  {
   "cell_type": "code",
   "execution_count": 16,
   "metadata": {},
   "outputs": [
    {
     "data": {
      "image/png": "[encoded data removed]",
      "text/plain": [
       "<Figure size 432x288 with 1 Axes>"
      ]
     },
     "metadata": {
      "needs_background": "light"
     },
     "output_type": "display_data"
    }
   ],
   "source": [
    "count_plot_h(pe_to_name['external_id'].value_counts().head(10))\n",
    "plt.title('External IDs with the most unique names')\n",
    "plt.xlabel('Number of unique names per Identifier')\n",
    "plt.ylabel('External Identifier');"
   ]
  },
  {
   "cell_type": "markdown",
   "metadata": {},
   "source": [
    "Even removing the location data from the name results in many identifiers with multiple names"
   ]
  },
  {
   "cell_type": "code",
   "execution_count": 17,
   "metadata": {},
   "outputs": [
    {
     "name": "stdout",
     "output_type": "stream",
     "text": [
      "647,920\n",
      "484,046\n"
     ]
    }
   ],
   "source": [
    "print('{:,}'.format(len(pe_to_name)))\n",
    "pe_to_name['pe_name'] = pe_to_name['pe_name'].apply(lambda n: n.split(' [')[0])\n",
    "pe_to_name = pe_to_name.drop_duplicates()\n",
    "print('{:,}'.format(len(pe_to_name)))"
   ]
  },
  {
   "cell_type": "code",
   "execution_count": 18,
   "metadata": {},
   "outputs": [
    {
     "data": {
      "image/png": "[encoded data removed]",
      "text/plain": [
       "<Figure size 432x288 with 1 Axes>"
      ]
     },
     "metadata": {
      "needs_background": "light"
     },
     "output_type": "display_data"
    }
   ],
   "source": [
    "count_plot_h(pe_to_name['external_id'].value_counts().head(10))\n",
    "plt.title('External IDs with the most unique names')\n",
    "plt.xlabel('Number of unique names per Identifier')\n",
    "plt.ylabel('External Identifier');"
   ]
  },
  {
   "cell_type": "code",
   "execution_count": 19,
   "metadata": {},
   "outputs": [
    {
     "data": {
      "text/html": [
       "<div>\n",
       "<style scoped>\n",
       "    .dataframe tbody tr th:only-of-type {\n",
       "        vertical-align: middle;\n",
       "    }\n",
       "\n",
       "    .dataframe tbody tr th {\n",
       "        vertical-align: top;\n",
       "    }\n",
       "\n",
       "    .dataframe thead th {\n",
       "        text-align: right;\n",
       "    }\n",
       "</style>\n",
       "<table border=\"1\" class=\"dataframe\">\n",
       "  <thead>\n",
       "    <tr style=\"text-align: right;\">\n",
       "      <th></th>\n",
       "      <th>external_id</th>\n",
       "      <th>pe_name</th>\n",
       "    </tr>\n",
       "  </thead>\n",
       "  <tbody>\n",
       "    <tr>\n",
       "      <th>1540618</th>\n",
       "      <td>UniProt:Q54QY4</td>\n",
       "      <td>3x4Hyp-GlcGalHyl-COL1A1(23-1464)</td>\n",
       "    </tr>\n",
       "    <tr>\n",
       "      <th>1539966</th>\n",
       "      <td>UniProt:Q54QY4</td>\n",
       "      <td>3x4Hyp-5Hyl-COL9A2</td>\n",
       "    </tr>\n",
       "    <tr>\n",
       "      <th>1539852</th>\n",
       "      <td>UniProt:Q54QY4</td>\n",
       "      <td>3x4Hyp-3Hyp-GalHyl-COL8A2</td>\n",
       "    </tr>\n",
       "    <tr>\n",
       "      <th>1540860</th>\n",
       "      <td>UniProt:Q54QY4</td>\n",
       "      <td>GlcGalHyl-COL2A1(26-1487)</td>\n",
       "    </tr>\n",
       "    <tr>\n",
       "      <th>1540231</th>\n",
       "      <td>UniProt:Q54QY4</td>\n",
       "      <td>Hydroxylysino-5-ketonorlysyl 4-Hyp 5-Hyl colla...</td>\n",
       "    </tr>\n",
       "  </tbody>\n",
       "</table>\n",
       "</div>"
      ],
      "text/plain": [
       "            external_id                                            pe_name\n",
       "1540618  UniProt:Q54QY4                   3x4Hyp-GlcGalHyl-COL1A1(23-1464)\n",
       "1539966  UniProt:Q54QY4                                 3x4Hyp-5Hyl-COL9A2\n",
       "1539852  UniProt:Q54QY4                          3x4Hyp-3Hyp-GalHyl-COL8A2\n",
       "1540860  UniProt:Q54QY4                          GlcGalHyl-COL2A1(26-1487)\n",
       "1540231  UniProt:Q54QY4  Hydroxylysino-5-ketonorlysyl 4-Hyp 5-Hyl colla..."
      ]
     },
     "execution_count": 19,
     "metadata": {},
     "output_type": "execute_result"
    }
   ],
   "source": [
    "pe_to_name.query('external_id == \"UniProt:Q54QY4\"').sample(5, random_state=0)"
   ]
  },
  {
   "cell_type": "markdown",
   "metadata": {},
   "source": [
    "Well just take one name from this long list and have to map a correct name from a different authoritative source later."
   ]
  },
  {
   "cell_type": "code",
   "execution_count": 20,
   "metadata": {},
   "outputs": [],
   "source": [
    "pe_to_name = pe_to_name.drop_duplicates(subset=['external_id']).reset_index(drop=True)\n",
    "pe_to_name = dict(zip(pe_to_name['external_id'], pe_to_name['pe_name']))"
   ]
  },
  {
   "cell_type": "markdown",
   "metadata": {},
   "source": [
    "### Remaining Flat files\n",
    "\n",
    "#### Protein Role in Reaction"
   ]
  },
  {
   "cell_type": "code",
   "execution_count": 21,
   "metadata": {},
   "outputs": [
    {
     "data": {
      "text/html": [
       "<div>\n",
       "<style scoped>\n",
       "    .dataframe tbody tr th:only-of-type {\n",
       "        vertical-align: middle;\n",
       "    }\n",
       "\n",
       "    .dataframe tbody tr th {\n",
       "        vertical-align: top;\n",
       "    }\n",
       "\n",
       "    .dataframe thead th {\n",
       "        text-align: right;\n",
       "    }\n",
       "</style>\n",
       "<table border=\"1\" class=\"dataframe\">\n",
       "  <thead>\n",
       "    <tr style=\"text-align: right;\">\n",
       "      <th></th>\n",
       "      <th>prot</th>\n",
       "      <th>role</th>\n",
       "      <th>rxn</th>\n",
       "    </tr>\n",
       "  </thead>\n",
       "  <tbody>\n",
       "    <tr>\n",
       "      <th>0</th>\n",
       "      <td>A0A023GRW3</td>\n",
       "      <td>output</td>\n",
       "      <td>R-DME-156661</td>\n",
       "    </tr>\n",
       "    <tr>\n",
       "      <th>1</th>\n",
       "      <td>A0A023GRW3</td>\n",
       "      <td>input</td>\n",
       "      <td>R-DME-156661</td>\n",
       "    </tr>\n",
       "  </tbody>\n",
       "</table>\n",
       "</div>"
      ],
      "text/plain": [
       "         prot    role           rxn\n",
       "0  A0A023GRW3  output  R-DME-156661\n",
       "1  A0A023GRW3   input  R-DME-156661"
      ]
     },
     "execution_count": 21,
     "metadata": {},
     "output_type": "execute_result"
    }
   ],
   "source": [
    "prot_role = pd.read_csv(download_dir.joinpath('ProteinRoleReaction.txt'), sep='\\t', names=['prot', 'role', 'rxn'])\n",
    "prot_role.head(2)"
   ]
  },
  {
   "cell_type": "markdown",
   "metadata": {},
   "source": [
    "Lets be 100% certain that the proteins are all UniProt IDs"
   ]
  },
  {
   "cell_type": "code",
   "execution_count": 22,
   "metadata": {},
   "outputs": [
    {
     "data": {
      "text/plain": [
       "True"
      ]
     },
     "execution_count": 22,
     "metadata": {},
     "output_type": "execute_result"
    }
   ],
   "source": [
    "import re\n",
    "\n",
    "# regex provided by UniProt (Yay!!! So helpful!!) https://www.uniprot.org/help/accession_numbers\n",
    "uniprot_re = re.compile(\"[OPQ][0-9][A-Z0-9]{3}[0-9]|[A-NR-Z][0-9]([A-Z][A-Z0-9]{2}[0-9]){1,2}\")\n",
    "\n",
    "def is_uniprot_id(_id):\n",
    "    m = uniprot_re.match(_id)\n",
    "    # Not UniProt if Either No match (False) or \n",
    "    # Match but start != 0 or end != end of ID (only matches a substring)\n",
    "    return bool(m) and (m.start() == 0 and m.end() == len(_id))\n",
    "\n",
    "# all IDs are Uniprot?\n",
    "prot_role['prot'].apply(is_uniprot_id).sum() == len(prot_role)"
   ]
  },
  {
   "cell_type": "markdown",
   "metadata": {},
   "source": [
    "Good to go, lets add the CURIs"
   ]
  },
  {
   "cell_type": "code",
   "execution_count": 23,
   "metadata": {},
   "outputs": [
    {
     "data": {
      "text/html": [
       "<div>\n",
       "<style scoped>\n",
       "    .dataframe tbody tr th:only-of-type {\n",
       "        vertical-align: middle;\n",
       "    }\n",
       "\n",
       "    .dataframe tbody tr th {\n",
       "        vertical-align: top;\n",
       "    }\n",
       "\n",
       "    .dataframe thead th {\n",
       "        text-align: right;\n",
       "    }\n",
       "</style>\n",
       "<table border=\"1\" class=\"dataframe\">\n",
       "  <thead>\n",
       "    <tr style=\"text-align: right;\">\n",
       "      <th></th>\n",
       "      <th>prot</th>\n",
       "      <th>role</th>\n",
       "      <th>rxn</th>\n",
       "    </tr>\n",
       "  </thead>\n",
       "  <tbody>\n",
       "    <tr>\n",
       "      <th>0</th>\n",
       "      <td>UniProt:A0A023GRW3</td>\n",
       "      <td>output</td>\n",
       "      <td>REACT:R-DME-156661</td>\n",
       "    </tr>\n",
       "    <tr>\n",
       "      <th>1</th>\n",
       "      <td>UniProt:A0A023GRW3</td>\n",
       "      <td>input</td>\n",
       "      <td>REACT:R-DME-156661</td>\n",
       "    </tr>\n",
       "  </tbody>\n",
       "</table>\n",
       "</div>"
      ],
      "text/plain": [
       "                 prot    role                 rxn\n",
       "0  UniProt:A0A023GRW3  output  REACT:R-DME-156661\n",
       "1  UniProt:A0A023GRW3   input  REACT:R-DME-156661"
      ]
     },
     "execution_count": 23,
     "metadata": {},
     "output_type": "execute_result"
    }
   ],
   "source": [
    "prot_role['prot'] = 'UniProt:' + prot_role['prot']\n",
    "prot_role['rxn'] = 'REACT:' + prot_role['rxn']\n",
    "prot_role.head(2)"
   ]
  },
  {
   "cell_type": "markdown",
   "metadata": {},
   "source": [
    "Finally, lets fix the semmaintcs a bit..."
   ]
  },
  {
   "cell_type": "code",
   "execution_count": 24,
   "metadata": {},
   "outputs": [
    {
     "data": {
      "text/plain": [
       "output                    510698\n",
       "input                     498109\n",
       "catalystActivity          222238\n",
       "regulatedBy                25441\n",
       "entityFunctionalStatus      2373\n",
       "Name: role, dtype: int64"
      ]
     },
     "execution_count": 24,
     "metadata": {},
     "output_type": "execute_result"
    }
   ],
   "source": [
    "prot_role['role'].value_counts()"
   ]
  },
  {
   "cell_type": "markdown",
   "metadata": {},
   "source": [
    "entityFunctionalStatus is for Failed Reactions, indicating the protein that has issues in the given reaction"
   ]
  },
  {
   "cell_type": "code",
   "execution_count": 25,
   "metadata": {},
   "outputs": [],
   "source": [
    "sem_map = {'output': 'has_output', 'input': 'has_input', 'catalystActivity': 'has_catalystist',\n",
    "           'regulatedBy': 'regulates', 'entityFunctionalStatus': 'fucntion_altered_in'}\n",
    "\n",
    "prot_role['role'] = prot_role['role'].map(sem_map)"
   ]
  },
  {
   "cell_type": "markdown",
   "metadata": {},
   "source": [
    "#### GO Annotations for Reactome Items"
   ]
  },
  {
   "cell_type": "code",
   "execution_count": 26,
   "metadata": {},
   "outputs": [
    {
     "data": {
      "text/html": [
       "<div>\n",
       "<style scoped>\n",
       "    .dataframe tbody tr th:only-of-type {\n",
       "        vertical-align: middle;\n",
       "    }\n",
       "\n",
       "    .dataframe tbody tr th {\n",
       "        vertical-align: top;\n",
       "    }\n",
       "\n",
       "    .dataframe thead th {\n",
       "        text-align: right;\n",
       "    }\n",
       "</style>\n",
       "<table border=\"1\" class=\"dataframe\">\n",
       "  <thead>\n",
       "    <tr style=\"text-align: right;\">\n",
       "      <th></th>\n",
       "      <th>db</th>\n",
       "      <th>db_object_id</th>\n",
       "      <th>db_object_symbol</th>\n",
       "      <th>qualifier</th>\n",
       "      <th>go_id</th>\n",
       "      <th>db_reference</th>\n",
       "      <th>evidence_code</th>\n",
       "      <th>with_or_from</th>\n",
       "      <th>aspect</th>\n",
       "      <th>db_object_name</th>\n",
       "      <th>db_object_synonym</th>\n",
       "      <th>db_object_type</th>\n",
       "      <th>taxon</th>\n",
       "      <th>date</th>\n",
       "      <th>assigned_by</th>\n",
       "      <th>annotation_extension</th>\n",
       "      <th>gene_product_form_id</th>\n",
       "    </tr>\n",
       "  </thead>\n",
       "  <tbody>\n",
       "    <tr>\n",
       "      <th>0</th>\n",
       "      <td>UniProtKB</td>\n",
       "      <td>A0A075B6P5</td>\n",
       "      <td>KV228_HUMAN</td>\n",
       "      <td>NaN</td>\n",
       "      <td>GO:0005576</td>\n",
       "      <td>REACTOME:R-HSA-166753</td>\n",
       "      <td>TAS</td>\n",
       "      <td>NaN</td>\n",
       "      <td>C</td>\n",
       "      <td>NaN</td>\n",
       "      <td>NaN</td>\n",
       "      <td>protein</td>\n",
       "      <td>taxon:9606</td>\n",
       "      <td>20161111</td>\n",
       "      <td>Reactome</td>\n",
       "      <td>NaN</td>\n",
       "      <td>NaN</td>\n",
       "    </tr>\n",
       "    <tr>\n",
       "      <th>1</th>\n",
       "      <td>UniProtKB</td>\n",
       "      <td>A0A075B6P5</td>\n",
       "      <td>KV228_HUMAN</td>\n",
       "      <td>NaN</td>\n",
       "      <td>GO:0005576</td>\n",
       "      <td>REACTOME:R-HSA-166792</td>\n",
       "      <td>TAS</td>\n",
       "      <td>NaN</td>\n",
       "      <td>C</td>\n",
       "      <td>NaN</td>\n",
       "      <td>NaN</td>\n",
       "      <td>protein</td>\n",
       "      <td>taxon:9606</td>\n",
       "      <td>20161111</td>\n",
       "      <td>Reactome</td>\n",
       "      <td>NaN</td>\n",
       "      <td>NaN</td>\n",
       "    </tr>\n",
       "  </tbody>\n",
       "</table>\n",
       "</div>"
      ],
      "text/plain": [
       "          db db_object_id db_object_symbol  qualifier       go_id  \\\n",
       "0  UniProtKB   A0A075B6P5      KV228_HUMAN        NaN  GO:0005576   \n",
       "1  UniProtKB   A0A075B6P5      KV228_HUMAN        NaN  GO:0005576   \n",
       "\n",
       "            db_reference evidence_code  with_or_from aspect  db_object_name  \\\n",
       "0  REACTOME:R-HSA-166753           TAS           NaN      C             NaN   \n",
       "1  REACTOME:R-HSA-166792           TAS           NaN      C             NaN   \n",
       "\n",
       "   db_object_synonym db_object_type       taxon      date assigned_by  \\\n",
       "0                NaN        protein  taxon:9606  20161111    Reactome   \n",
       "1                NaN        protein  taxon:9606  20161111    Reactome   \n",
       "\n",
       "   annotation_extension  gene_product_form_id  \n",
       "0                   NaN                   NaN  \n",
       "1                   NaN                   NaN  "
      ]
     },
     "execution_count": 26,
     "metadata": {},
     "output_type": "execute_result"
    }
   ],
   "source": [
    "gaf_cols = ['db', 'db_object_id', 'db_object_symbol','qualifier', 'go_id', 'db_reference', 'evidence_code',\n",
    " 'with_or_from', 'aspect', 'db_object_name', 'db_object_synonym', 'db_object_type', 'taxon', 'date', 'assigned_by',\n",
    " 'annotation_extension', 'gene_product_form_id']\n",
    "\n",
    "goa = pd.read_csv(download_dir.joinpath('gene_association.reactome.gz'), sep='\\t', comment='!', names=gaf_cols)\n",
    "goa.head(2)"
   ]
  },
  {
   "cell_type": "code",
   "execution_count": 27,
   "metadata": {},
   "outputs": [],
   "source": [
    "goa['db_reference'] = goa['db_reference'].str.replace('REACTOME:', 'REACT:')"
   ]
  },
  {
   "cell_type": "code",
   "execution_count": 28,
   "metadata": {},
   "outputs": [
    {
     "data": {
      "text/plain": [
       "UniProtKB    107478\n",
       "Name: db, dtype: int64"
      ]
     },
     "execution_count": 28,
     "metadata": {},
     "output_type": "execute_result"
    }
   ],
   "source": [
    "goa['db'].value_counts()"
   ]
  },
  {
   "cell_type": "markdown",
   "metadata": {},
   "source": [
    "All uniport so CURI can be added"
   ]
  },
  {
   "cell_type": "code",
   "execution_count": 29,
   "metadata": {},
   "outputs": [],
   "source": [
    "goa['db_object_id'] = 'UniProt:' + goa['db_object_id']"
   ]
  },
  {
   "cell_type": "code",
   "execution_count": 30,
   "metadata": {},
   "outputs": [
    {
     "data": {
      "text/plain": [
       "C    84439\n",
       "P    20404\n",
       "F     2635\n",
       "Name: aspect, dtype: int64"
      ]
     },
     "execution_count": 30,
     "metadata": {},
     "output_type": "execute_result"
    }
   ],
   "source": [
    "goa['aspect'].value_counts()"
   ]
  },
  {
   "cell_type": "code",
   "execution_count": 31,
   "metadata": {},
   "outputs": [
    {
     "data": {
      "text/plain": [
       "0.9955153612832394"
      ]
     },
     "execution_count": 31,
     "metadata": {},
     "output_type": "execute_result"
    }
   ],
   "source": [
    "goa['db_reference'].str.contains('REACT:').sum() / len(goa)"
   ]
  },
  {
   "cell_type": "markdown",
   "metadata": {},
   "source": [
    "Almost all have a Reactome reference, but a small amount will need to be removed"
   ]
  },
  {
   "cell_type": "code",
   "execution_count": 32,
   "metadata": {},
   "outputs": [
    {
     "data": {
      "text/html": [
       "<div>\n",
       "<style scoped>\n",
       "    .dataframe tbody tr th:only-of-type {\n",
       "        vertical-align: middle;\n",
       "    }\n",
       "\n",
       "    .dataframe tbody tr th {\n",
       "        vertical-align: top;\n",
       "    }\n",
       "\n",
       "    .dataframe thead th {\n",
       "        text-align: right;\n",
       "    }\n",
       "</style>\n",
       "<table border=\"1\" class=\"dataframe\">\n",
       "  <thead>\n",
       "    <tr style=\"text-align: right;\">\n",
       "      <th></th>\n",
       "      <th>db</th>\n",
       "      <th>db_object_id</th>\n",
       "      <th>db_object_symbol</th>\n",
       "      <th>qualifier</th>\n",
       "      <th>go_id</th>\n",
       "      <th>db_reference</th>\n",
       "      <th>evidence_code</th>\n",
       "      <th>with_or_from</th>\n",
       "      <th>aspect</th>\n",
       "      <th>db_object_name</th>\n",
       "      <th>db_object_synonym</th>\n",
       "      <th>db_object_type</th>\n",
       "      <th>taxon</th>\n",
       "      <th>date</th>\n",
       "      <th>assigned_by</th>\n",
       "      <th>annotation_extension</th>\n",
       "      <th>gene_product_form_id</th>\n",
       "      <th>label</th>\n",
       "      <th>type</th>\n",
       "    </tr>\n",
       "  </thead>\n",
       "  <tbody>\n",
       "    <tr>\n",
       "      <th>0</th>\n",
       "      <td>UniProtKB</td>\n",
       "      <td>UniProt:A0A075B6P5</td>\n",
       "      <td>KV228_HUMAN</td>\n",
       "      <td>NaN</td>\n",
       "      <td>GO:0005576</td>\n",
       "      <td>REACT:R-HSA-166753</td>\n",
       "      <td>TAS</td>\n",
       "      <td>NaN</td>\n",
       "      <td>C</td>\n",
       "      <td>NaN</td>\n",
       "      <td>NaN</td>\n",
       "      <td>protein</td>\n",
       "      <td>taxon:9606</td>\n",
       "      <td>20161111</td>\n",
       "      <td>Reactome</td>\n",
       "      <td>NaN</td>\n",
       "      <td>NaN</td>\n",
       "      <td>Cellular Component</td>\n",
       "      <td>part_of</td>\n",
       "    </tr>\n",
       "    <tr>\n",
       "      <th>1</th>\n",
       "      <td>UniProtKB</td>\n",
       "      <td>UniProt:A0A075B6P5</td>\n",
       "      <td>KV228_HUMAN</td>\n",
       "      <td>NaN</td>\n",
       "      <td>GO:0005576</td>\n",
       "      <td>REACT:R-HSA-166792</td>\n",
       "      <td>TAS</td>\n",
       "      <td>NaN</td>\n",
       "      <td>C</td>\n",
       "      <td>NaN</td>\n",
       "      <td>NaN</td>\n",
       "      <td>protein</td>\n",
       "      <td>taxon:9606</td>\n",
       "      <td>20161111</td>\n",
       "      <td>Reactome</td>\n",
       "      <td>NaN</td>\n",
       "      <td>NaN</td>\n",
       "      <td>Cellular Component</td>\n",
       "      <td>part_of</td>\n",
       "    </tr>\n",
       "  </tbody>\n",
       "</table>\n",
       "</div>"
      ],
      "text/plain": [
       "          db        db_object_id db_object_symbol  qualifier       go_id  \\\n",
       "0  UniProtKB  UniProt:A0A075B6P5      KV228_HUMAN        NaN  GO:0005576   \n",
       "1  UniProtKB  UniProt:A0A075B6P5      KV228_HUMAN        NaN  GO:0005576   \n",
       "\n",
       "         db_reference evidence_code  with_or_from aspect  db_object_name  \\\n",
       "0  REACT:R-HSA-166753           TAS           NaN      C             NaN   \n",
       "1  REACT:R-HSA-166792           TAS           NaN      C             NaN   \n",
       "\n",
       "   db_object_synonym db_object_type       taxon      date assigned_by  \\\n",
       "0                NaN        protein  taxon:9606  20161111    Reactome   \n",
       "1                NaN        protein  taxon:9606  20161111    Reactome   \n",
       "\n",
       "   annotation_extension  gene_product_form_id               label     type  \n",
       "0                   NaN                   NaN  Cellular Component  part_of  \n",
       "1                   NaN                   NaN  Cellular Component  part_of  "
      ]
     },
     "execution_count": 32,
     "metadata": {},
     "output_type": "execute_result"
    }
   ],
   "source": [
    "aspect_label_map = {'P': 'Biological Process', 'F': 'Molecular Function', 'C': 'Cellular Component'}\n",
    "aspect_type_map = {'P': 'involved_in', 'F': 'enables', 'C': 'part_of'}\n",
    "\n",
    "goa['label'] = goa['aspect'].map(aspect_label_map)\n",
    "goa['type'] = goa['aspect'].map(aspect_type_map)\n",
    "\n",
    "goa.head(2)"
   ]
  },
  {
   "cell_type": "markdown",
   "metadata": {},
   "source": [
    "## Start processing the Nodes and Edges\n",
    "\n",
    "Pathways, Reactions, Events and Complexes will be in Reactome ID space. Everything Else either already have an External Identifier (as extracted at query-time) or will be mapped to one via the Physical Entities flat files."
   ]
  },
  {
   "cell_type": "markdown",
   "metadata": {},
   "source": [
    "#### Convert the PEs to Nodes"
   ]
  },
  {
   "cell_type": "code",
   "execution_count": 33,
   "metadata": {},
   "outputs": [],
   "source": [
    "curi_to_type = {'MI': 'Micro RNA', 'ENSG': 'Gene', 'UniProt': 'Protein', 'CHEBI': 'Compound', \n",
    "                'NCBIGene': 'Gene', 'REACT': 'Complex'}"
   ]
  },
  {
   "cell_type": "code",
   "execution_count": 34,
   "metadata": {},
   "outputs": [
    {
     "data": {
      "text/html": [
       "<div>\n",
       "<style scoped>\n",
       "    .dataframe tbody tr th:only-of-type {\n",
       "        vertical-align: middle;\n",
       "    }\n",
       "\n",
       "    .dataframe tbody tr th {\n",
       "        vertical-align: top;\n",
       "    }\n",
       "\n",
       "    .dataframe thead th {\n",
       "        text-align: right;\n",
       "    }\n",
       "</style>\n",
       "<table border=\"1\" class=\"dataframe\">\n",
       "  <thead>\n",
       "    <tr style=\"text-align: right;\">\n",
       "      <th></th>\n",
       "      <th>id</th>\n",
       "      <th>name</th>\n",
       "      <th>label</th>\n",
       "    </tr>\n",
       "  </thead>\n",
       "  <tbody>\n",
       "    <tr>\n",
       "      <th>0</th>\n",
       "      <td>MI:MI0000071</td>\n",
       "      <td>miR-17</td>\n",
       "      <td>Micro RNA</td>\n",
       "    </tr>\n",
       "    <tr>\n",
       "      <th>1</th>\n",
       "      <td>MI:MI0000072</td>\n",
       "      <td>miR-18a</td>\n",
       "      <td>Micro RNA</td>\n",
       "    </tr>\n",
       "    <tr>\n",
       "      <th>2</th>\n",
       "      <td>MI:MI0000073</td>\n",
       "      <td>miR-19a</td>\n",
       "      <td>Micro RNA</td>\n",
       "    </tr>\n",
       "    <tr>\n",
       "      <th>3</th>\n",
       "      <td>MI:MI0000074</td>\n",
       "      <td>miR-19b1</td>\n",
       "      <td>Micro RNA</td>\n",
       "    </tr>\n",
       "    <tr>\n",
       "      <th>4</th>\n",
       "      <td>MI:MI0000075</td>\n",
       "      <td>miR-19b2</td>\n",
       "      <td>Micro RNA</td>\n",
       "    </tr>\n",
       "  </tbody>\n",
       "</table>\n",
       "</div>"
      ],
      "text/plain": [
       "             id      name      label\n",
       "0  MI:MI0000071    miR-17  Micro RNA\n",
       "1  MI:MI0000072   miR-18a  Micro RNA\n",
       "2  MI:MI0000073   miR-19a  Micro RNA\n",
       "3  MI:MI0000074  miR-19b1  Micro RNA\n",
       "4  MI:MI0000075  miR-19b2  Micro RNA"
      ]
     },
     "execution_count": 34,
     "metadata": {},
     "output_type": "execute_result"
    }
   ],
   "source": [
    "pe_nodes = pe_to_external['external_id'].rename('id').drop_duplicates().to_frame().reset_index(drop=True)\n",
    "pe_nodes['name'] = pe_nodes['id'].map(pe_to_name)\n",
    "pe_nodes['label'] = pe_nodes['id'].apply(lambda s: curi_to_type[s.split(':')[0]])\n",
    "pe_nodes.head()"
   ]
  },
  {
   "cell_type": "markdown",
   "metadata": {},
   "source": [
    "#### Process all the Reactions and Pathways"
   ]
  },
  {
   "cell_type": "code",
   "execution_count": 35,
   "metadata": {},
   "outputs": [],
   "source": [
    "def process_nodes(df, id_col, name_col, label=''):\n",
    "    this_nodes = df[[id_col, name_col]].copy()\n",
    "    this_nodes.columns = ['id', 'name']\n",
    "    \n",
    "    # Allow for a column with labels to be passed\n",
    "    if label in df.columns:\n",
    "        this_nodes['label'] = df[label]\n",
    "    else:\n",
    "        this_nodes['label'] = label\n",
    "    return this_nodes.drop_duplicates().reset_index(drop=True)\n",
    "\n",
    "\n",
    "def process_edges(df, start_col, end_col, e_type, extra_cols=None):\n",
    "    this_edge = df[[start_col, end_col]].copy()\n",
    "    this_edge.columns = ['start_id', 'end_id']\n",
    "    if e_type in df.columns:\n",
    "        this_edge['type'] = df[e_type]\n",
    "    else:\n",
    "        this_edge['type'] = e_type\n",
    "    if extra_cols:\n",
    "        this_edge[extra_cols] = df[extra_cols]\n",
    "    return this_edge.drop_duplicates().reset_index(drop=True)\n"
   ]
  },
  {
   "cell_type": "code",
   "execution_count": 36,
   "metadata": {},
   "outputs": [],
   "source": [
    "reactome_nodes = []"
   ]
  },
  {
   "cell_type": "code",
   "execution_count": 37,
   "metadata": {},
   "outputs": [
    {
     "data": {
      "text/html": [
       "<div>\n",
       "<style scoped>\n",
       "    .dataframe tbody tr th:only-of-type {\n",
       "        vertical-align: middle;\n",
       "    }\n",
       "\n",
       "    .dataframe tbody tr th {\n",
       "        vertical-align: top;\n",
       "    }\n",
       "\n",
       "    .dataframe thead th {\n",
       "        text-align: right;\n",
       "    }\n",
       "</style>\n",
       "<table border=\"1\" class=\"dataframe\">\n",
       "  <thead>\n",
       "    <tr style=\"text-align: right;\">\n",
       "      <th></th>\n",
       "      <th>id</th>\n",
       "      <th>name</th>\n",
       "      <th>label</th>\n",
       "    </tr>\n",
       "  </thead>\n",
       "  <tbody>\n",
       "    <tr>\n",
       "      <th>0</th>\n",
       "      <td>REACT:R-HSA-8935785</td>\n",
       "      <td>RUNX1 mRNA translation is inhibited by miR-17,...</td>\n",
       "      <td>Reaction</td>\n",
       "    </tr>\n",
       "    <tr>\n",
       "      <th>1</th>\n",
       "      <td>REACT:R-HSA-8938440</td>\n",
       "      <td>miR-17 binds RUNX1 mRNA</td>\n",
       "      <td>Reaction</td>\n",
       "    </tr>\n",
       "  </tbody>\n",
       "</table>\n",
       "</div>"
      ],
      "text/plain": [
       "                    id                                               name  \\\n",
       "0  REACT:R-HSA-8935785  RUNX1 mRNA translation is inhibited by miR-17,...   \n",
       "1  REACT:R-HSA-8938440                            miR-17 binds RUNX1 mRNA   \n",
       "\n",
       "      label  \n",
       "0  Reaction  \n",
       "1  Reaction  "
      ]
     },
     "execution_count": 37,
     "metadata": {},
     "output_type": "execute_result"
    }
   ],
   "source": [
    "rx_nodes = process_nodes(reactions, 'reactome_id', 'reactome_name', 'Reaction')\n",
    "rx_nodes.head(2)"
   ]
  },
  {
   "cell_type": "code",
   "execution_count": 38,
   "metadata": {},
   "outputs": [
    {
     "data": {
      "text/plain": [
       "True"
      ]
     },
     "execution_count": 38,
     "metadata": {},
     "output_type": "execute_result"
    }
   ],
   "source": [
    "# Check for duplicated Ids\n",
    "rx_nodes['id'].nunique() == len(rx_nodes)"
   ]
  },
  {
   "cell_type": "markdown",
   "metadata": {},
   "source": [
    "All are unique, that's great"
   ]
  },
  {
   "cell_type": "code",
   "execution_count": 39,
   "metadata": {},
   "outputs": [],
   "source": [
    "reactome_nodes.append(rx_nodes)"
   ]
  },
  {
   "cell_type": "code",
   "execution_count": 40,
   "metadata": {},
   "outputs": [
    {
     "data": {
      "text/html": [
       "<div>\n",
       "<style scoped>\n",
       "    .dataframe tbody tr th:only-of-type {\n",
       "        vertical-align: middle;\n",
       "    }\n",
       "\n",
       "    .dataframe tbody tr th {\n",
       "        vertical-align: top;\n",
       "    }\n",
       "\n",
       "    .dataframe thead th {\n",
       "        text-align: right;\n",
       "    }\n",
       "</style>\n",
       "<table border=\"1\" class=\"dataframe\">\n",
       "  <thead>\n",
       "    <tr style=\"text-align: right;\">\n",
       "      <th></th>\n",
       "      <th>external_id</th>\n",
       "      <th>pe_reactome_id</th>\n",
       "      <th>pe_name</th>\n",
       "      <th>reactome_id</th>\n",
       "      <th>reactome_url</th>\n",
       "      <th>reactome_name</th>\n",
       "      <th>evidence_code</th>\n",
       "      <th>taxon</th>\n",
       "      <th>pe_source</th>\n",
       "    </tr>\n",
       "  </thead>\n",
       "  <tbody>\n",
       "    <tr>\n",
       "      <th>0</th>\n",
       "      <td>MI:MI0000071</td>\n",
       "      <td>REACT:R-HSA-8938437</td>\n",
       "      <td>miR-17 [cytosol]</td>\n",
       "      <td>REACT:R-HSA-8935785</td>\n",
       "      <td>https://reactome.org/PathwayBrowser/#/R-HSA-89...</td>\n",
       "      <td>RUNX1 mRNA translation is inhibited by miR-17,...</td>\n",
       "      <td>TAS</td>\n",
       "      <td>Homo sapiens</td>\n",
       "      <td>miRBase</td>\n",
       "    </tr>\n",
       "    <tr>\n",
       "      <th>1</th>\n",
       "      <td>MI:MI0000071</td>\n",
       "      <td>REACT:R-HSA-8938437</td>\n",
       "      <td>miR-17 [cytosol]</td>\n",
       "      <td>REACT:R-HSA-8938440</td>\n",
       "      <td>https://reactome.org/PathwayBrowser/#/R-HSA-89...</td>\n",
       "      <td>miR-17 binds RUNX1 mRNA</td>\n",
       "      <td>TAS</td>\n",
       "      <td>Homo sapiens</td>\n",
       "      <td>miRBase</td>\n",
       "    </tr>\n",
       "  </tbody>\n",
       "</table>\n",
       "</div>"
      ],
      "text/plain": [
       "    external_id       pe_reactome_id           pe_name          reactome_id  \\\n",
       "0  MI:MI0000071  REACT:R-HSA-8938437  miR-17 [cytosol]  REACT:R-HSA-8935785   \n",
       "1  MI:MI0000071  REACT:R-HSA-8938437  miR-17 [cytosol]  REACT:R-HSA-8938440   \n",
       "\n",
       "                                        reactome_url  \\\n",
       "0  https://reactome.org/PathwayBrowser/#/R-HSA-89...   \n",
       "1  https://reactome.org/PathwayBrowser/#/R-HSA-89...   \n",
       "\n",
       "                                       reactome_name evidence_code  \\\n",
       "0  RUNX1 mRNA translation is inhibited by miR-17,...           TAS   \n",
       "1                            miR-17 binds RUNX1 mRNA           TAS   \n",
       "\n",
       "          taxon pe_source  \n",
       "0  Homo sapiens   miRBase  \n",
       "1  Homo sapiens   miRBase  "
      ]
     },
     "execution_count": 40,
     "metadata": {},
     "output_type": "execute_result"
    }
   ],
   "source": [
    "reactions.head(2)"
   ]
  },
  {
   "cell_type": "code",
   "execution_count": 41,
   "metadata": {},
   "outputs": [],
   "source": [
    "rx_edges = process_edges(reactions, 'external_id', 'reactome_id', 'part_of', 'evidence_code')"
   ]
  },
  {
   "cell_type": "code",
   "execution_count": 42,
   "metadata": {},
   "outputs": [],
   "source": [
    "dsrc_map = {'IEA': 'computed', 'TAS': 'curated'}\n",
    "rx_edges['dsrc_type'] = rx_edges['evidence_code'].map(dsrc_map)\n",
    "comp_idx = rx_edges.query('dsrc_type == \"computed\"').index\n",
    "rx_edges.loc[comp_idx, 'comp_type'] = 'IEA'\n",
    "rx_edges = rx_edges.drop('evidence_code', axis=1)"
   ]
  },
  {
   "cell_type": "code",
   "execution_count": 43,
   "metadata": {},
   "outputs": [
    {
     "data": {
      "text/html": [
       "<div>\n",
       "<style scoped>\n",
       "    .dataframe tbody tr th:only-of-type {\n",
       "        vertical-align: middle;\n",
       "    }\n",
       "\n",
       "    .dataframe tbody tr th {\n",
       "        vertical-align: top;\n",
       "    }\n",
       "\n",
       "    .dataframe thead th {\n",
       "        text-align: right;\n",
       "    }\n",
       "</style>\n",
       "<table border=\"1\" class=\"dataframe\">\n",
       "  <thead>\n",
       "    <tr style=\"text-align: right;\">\n",
       "      <th></th>\n",
       "      <th>start_id</th>\n",
       "      <th>end_id</th>\n",
       "      <th>type</th>\n",
       "      <th>dsrc_type</th>\n",
       "      <th>comp_type</th>\n",
       "    </tr>\n",
       "  </thead>\n",
       "  <tbody>\n",
       "    <tr>\n",
       "      <th>1878384</th>\n",
       "      <td>ENSG:YOL062C</td>\n",
       "      <td>REACT:R-SCE-8866277</td>\n",
       "      <td>part_of</td>\n",
       "      <td>computed</td>\n",
       "      <td>IEA</td>\n",
       "    </tr>\n",
       "    <tr>\n",
       "      <th>805884</th>\n",
       "      <td>UniProt:O00337</td>\n",
       "      <td>REACT:R-HSA-109530</td>\n",
       "      <td>part_of</td>\n",
       "      <td>curated</td>\n",
       "      <td>NaN</td>\n",
       "    </tr>\n",
       "    <tr>\n",
       "      <th>1813527</th>\n",
       "      <td>ENSG:FBgn0014391</td>\n",
       "      <td>REACT:R-DME-164840</td>\n",
       "      <td>part_of</td>\n",
       "      <td>computed</td>\n",
       "      <td>IEA</td>\n",
       "    </tr>\n",
       "    <tr>\n",
       "      <th>1889630</th>\n",
       "      <td>CHEBI:15377</td>\n",
       "      <td>REACT:R-DRE-1602446</td>\n",
       "      <td>part_of</td>\n",
       "      <td>computed</td>\n",
       "      <td>IEA</td>\n",
       "    </tr>\n",
       "    <tr>\n",
       "      <th>454597</th>\n",
       "      <td>NCBIGene:8345</td>\n",
       "      <td>REACT:R-HSA-5617867</td>\n",
       "      <td>part_of</td>\n",
       "      <td>computed</td>\n",
       "      <td>IEA</td>\n",
       "    </tr>\n",
       "  </tbody>\n",
       "</table>\n",
       "</div>"
      ],
      "text/plain": [
       "                 start_id               end_id     type dsrc_type comp_type\n",
       "1878384      ENSG:YOL062C  REACT:R-SCE-8866277  part_of  computed       IEA\n",
       "805884     UniProt:O00337   REACT:R-HSA-109530  part_of   curated       NaN\n",
       "1813527  ENSG:FBgn0014391   REACT:R-DME-164840  part_of  computed       IEA\n",
       "1889630       CHEBI:15377  REACT:R-DRE-1602446  part_of  computed       IEA\n",
       "454597      NCBIGene:8345  REACT:R-HSA-5617867  part_of  computed       IEA"
      ]
     },
     "execution_count": 43,
     "metadata": {},
     "output_type": "execute_result"
    }
   ],
   "source": [
    "rx_edges.sample(5, random_state=1390)"
   ]
  },
  {
   "cell_type": "code",
   "execution_count": 44,
   "metadata": {},
   "outputs": [
    {
     "data": {
      "text/html": [
       "<div>\n",
       "<style scoped>\n",
       "    .dataframe tbody tr th:only-of-type {\n",
       "        vertical-align: middle;\n",
       "    }\n",
       "\n",
       "    .dataframe tbody tr th {\n",
       "        vertical-align: top;\n",
       "    }\n",
       "\n",
       "    .dataframe thead th {\n",
       "        text-align: right;\n",
       "    }\n",
       "</style>\n",
       "<table border=\"1\" class=\"dataframe\">\n",
       "  <thead>\n",
       "    <tr style=\"text-align: right;\">\n",
       "      <th></th>\n",
       "      <th>id</th>\n",
       "      <th>name</th>\n",
       "      <th>label</th>\n",
       "    </tr>\n",
       "  </thead>\n",
       "  <tbody>\n",
       "    <tr>\n",
       "      <th>0</th>\n",
       "      <td>REACT:R-HSA-1257604</td>\n",
       "      <td>PIP3 activates AKT signaling</td>\n",
       "      <td>Pathway</td>\n",
       "    </tr>\n",
       "    <tr>\n",
       "      <th>1</th>\n",
       "      <td>REACT:R-HSA-162582</td>\n",
       "      <td>Signal Transduction</td>\n",
       "      <td>Pathway</td>\n",
       "    </tr>\n",
       "  </tbody>\n",
       "</table>\n",
       "</div>"
      ],
      "text/plain": [
       "                    id                          name    label\n",
       "0  REACT:R-HSA-1257604  PIP3 activates AKT signaling  Pathway\n",
       "1   REACT:R-HSA-162582           Signal Transduction  Pathway"
      ]
     },
     "execution_count": 44,
     "metadata": {},
     "output_type": "execute_result"
    }
   ],
   "source": [
    "pw_nodes = process_nodes(pathways, 'reactome_id', 'reactome_name', 'Pathway')\n",
    "pw_nodes.head(2)"
   ]
  },
  {
   "cell_type": "code",
   "execution_count": 45,
   "metadata": {},
   "outputs": [
    {
     "data": {
      "text/plain": [
       "True"
      ]
     },
     "execution_count": 45,
     "metadata": {},
     "output_type": "execute_result"
    }
   ],
   "source": [
    "pw_nodes['id'].nunique() == len(pw_nodes)"
   ]
  },
  {
   "cell_type": "code",
   "execution_count": 46,
   "metadata": {},
   "outputs": [],
   "source": [
    "reactome_nodes.append(pw_nodes)"
   ]
  },
  {
   "cell_type": "code",
   "execution_count": 47,
   "metadata": {},
   "outputs": [],
   "source": [
    "reactome_nodes = pd.concat(reactome_nodes, sort=False, ignore_index=True)"
   ]
  },
  {
   "cell_type": "code",
   "execution_count": 48,
   "metadata": {},
   "outputs": [],
   "source": [
    "pw_edges = process_edges(pathways, 'external_id', 'reactome_id', 'part_of', 'evidence_code')"
   ]
  },
  {
   "cell_type": "code",
   "execution_count": 49,
   "metadata": {},
   "outputs": [],
   "source": [
    "dsrc_map = {'IEA': 'computed', 'TAS': 'curated', 'EXP': 'curated'}\n",
    "\n",
    "pw_edges['dsrc_type'] = pw_edges['evidence_code'].map(dsrc_map)\n",
    "comp_idx = pw_edges.query('dsrc_type == \"computed\"').index\n",
    "pw_edges.loc[comp_idx, 'comp_type'] = 'IEA'\n",
    "pw_edges = pw_edges.drop('evidence_code', axis=1)"
   ]
  },
  {
   "cell_type": "code",
   "execution_count": 50,
   "metadata": {},
   "outputs": [
    {
     "data": {
      "text/html": [
       "<div>\n",
       "<style scoped>\n",
       "    .dataframe tbody tr th:only-of-type {\n",
       "        vertical-align: middle;\n",
       "    }\n",
       "\n",
       "    .dataframe tbody tr th {\n",
       "        vertical-align: top;\n",
       "    }\n",
       "\n",
       "    .dataframe thead th {\n",
       "        text-align: right;\n",
       "    }\n",
       "</style>\n",
       "<table border=\"1\" class=\"dataframe\">\n",
       "  <thead>\n",
       "    <tr style=\"text-align: right;\">\n",
       "      <th></th>\n",
       "      <th>start_id</th>\n",
       "      <th>end_id</th>\n",
       "      <th>type</th>\n",
       "      <th>dsrc_type</th>\n",
       "      <th>comp_type</th>\n",
       "    </tr>\n",
       "  </thead>\n",
       "  <tbody>\n",
       "    <tr>\n",
       "      <th>2390425</th>\n",
       "      <td>NCBIGene:493339</td>\n",
       "      <td>REACT:R-XTR-9007101</td>\n",
       "      <td>part_of</td>\n",
       "      <td>computed</td>\n",
       "      <td>IEA</td>\n",
       "    </tr>\n",
       "    <tr>\n",
       "      <th>927623</th>\n",
       "      <td>UniProt:A0A1L1RMR1</td>\n",
       "      <td>REACT:R-GGA-1280218</td>\n",
       "      <td>part_of</td>\n",
       "      <td>computed</td>\n",
       "      <td>IEA</td>\n",
       "    </tr>\n",
       "    <tr>\n",
       "      <th>2023787</th>\n",
       "      <td>NCBIGene:100855815</td>\n",
       "      <td>REACT:R-CFA-68886</td>\n",
       "      <td>part_of</td>\n",
       "      <td>computed</td>\n",
       "      <td>IEA</td>\n",
       "    </tr>\n",
       "    <tr>\n",
       "      <th>357773</th>\n",
       "      <td>ENSG:ENSG00000179218</td>\n",
       "      <td>REACT:R-HSA-5653656</td>\n",
       "      <td>part_of</td>\n",
       "      <td>computed</td>\n",
       "      <td>IEA</td>\n",
       "    </tr>\n",
       "    <tr>\n",
       "      <th>506903</th>\n",
       "      <td>ENSG:ENSMUSG00000034165</td>\n",
       "      <td>REACT:R-MMU-74160</td>\n",
       "      <td>part_of</td>\n",
       "      <td>computed</td>\n",
       "      <td>IEA</td>\n",
       "    </tr>\n",
       "  </tbody>\n",
       "</table>\n",
       "</div>"
      ],
      "text/plain": [
       "                        start_id               end_id     type dsrc_type  \\\n",
       "2390425          NCBIGene:493339  REACT:R-XTR-9007101  part_of  computed   \n",
       "927623        UniProt:A0A1L1RMR1  REACT:R-GGA-1280218  part_of  computed   \n",
       "2023787       NCBIGene:100855815    REACT:R-CFA-68886  part_of  computed   \n",
       "357773      ENSG:ENSG00000179218  REACT:R-HSA-5653656  part_of  computed   \n",
       "506903   ENSG:ENSMUSG00000034165    REACT:R-MMU-74160  part_of  computed   \n",
       "\n",
       "        comp_type  \n",
       "2390425       IEA  \n",
       "927623        IEA  \n",
       "2023787       IEA  \n",
       "357773        IEA  \n",
       "506903        IEA  "
      ]
     },
     "execution_count": 50,
     "metadata": {},
     "output_type": "execute_result"
    }
   ],
   "source": [
    "pw_edges.sample(5, random_state=125)"
   ]
  },
  {
   "cell_type": "code",
   "execution_count": 51,
   "metadata": {},
   "outputs": [],
   "source": [
    "reactome_edges = pd.concat([rx_edges, pw_edges], sort=False, ignore_index=True)"
   ]
  },
  {
   "cell_type": "code",
   "execution_count": 52,
   "metadata": {},
   "outputs": [],
   "source": [
    "reactome_evt_ids = reactome_nodes['id'].tolist()\n",
    "\n",
    "def all_ids_in_react_nodes(df, ids_col):\n",
    "    \"\"\"Ensures all IDs in a column are in found in teh reactome IDs\"\"\"\n",
    "    global reactome_evt_ids\n",
    "    qstr = '{} not in @reactome_evt_ids'.format(ids_col)\n",
    "    return len(df.query(qstr)) == 0"
   ]
  },
  {
   "cell_type": "markdown",
   "metadata": {},
   "source": [
    "#### Add Protein Role Edges"
   ]
  },
  {
   "cell_type": "code",
   "execution_count": 53,
   "metadata": {},
   "outputs": [],
   "source": [
    "# Process the proteins with a dummy name\n",
    "role_nodes = process_nodes(prot_role, 'prot', 'role', 'Protein')\n",
    "role_nodes['name'] = ''"
   ]
  },
  {
   "cell_type": "code",
   "execution_count": 54,
   "metadata": {},
   "outputs": [
    {
     "data": {
      "text/html": [
       "<div>\n",
       "<style scoped>\n",
       "    .dataframe tbody tr th:only-of-type {\n",
       "        vertical-align: middle;\n",
       "    }\n",
       "\n",
       "    .dataframe tbody tr th {\n",
       "        vertical-align: top;\n",
       "    }\n",
       "\n",
       "    .dataframe thead th {\n",
       "        text-align: right;\n",
       "    }\n",
       "</style>\n",
       "<table border=\"1\" class=\"dataframe\">\n",
       "  <thead>\n",
       "    <tr style=\"text-align: right;\">\n",
       "      <th></th>\n",
       "      <th>start_id</th>\n",
       "      <th>end_id</th>\n",
       "      <th>type</th>\n",
       "    </tr>\n",
       "  </thead>\n",
       "  <tbody>\n",
       "    <tr>\n",
       "      <th>0</th>\n",
       "      <td>REACT:R-DME-156661</td>\n",
       "      <td>UniProt:A0A023GRW3</td>\n",
       "      <td>has_output</td>\n",
       "    </tr>\n",
       "    <tr>\n",
       "      <th>1</th>\n",
       "      <td>REACT:R-DME-156661</td>\n",
       "      <td>UniProt:A0A023GRW3</td>\n",
       "      <td>has_input</td>\n",
       "    </tr>\n",
       "  </tbody>\n",
       "</table>\n",
       "</div>"
      ],
      "text/plain": [
       "             start_id              end_id        type\n",
       "0  REACT:R-DME-156661  UniProt:A0A023GRW3  has_output\n",
       "1  REACT:R-DME-156661  UniProt:A0A023GRW3   has_input"
      ]
     },
     "execution_count": 54,
     "metadata": {},
     "output_type": "execute_result"
    }
   ],
   "source": [
    "role_edges = []\n",
    "# Rxn to Protein {'has_input', 'has_output', 'has_catalyist'}\n",
    "role_edges.append(process_edges(prot_role.query('role in {}'.format(['has_input', 'has_output', 'has_catalyist'])), \n",
    "                                'rxn', 'prot', 'role'))\n",
    "\n",
    "role_edges[-1].head(2)"
   ]
  },
  {
   "cell_type": "code",
   "execution_count": 55,
   "metadata": {},
   "outputs": [
    {
     "data": {
      "text/html": [
       "<div>\n",
       "<style scoped>\n",
       "    .dataframe tbody tr th:only-of-type {\n",
       "        vertical-align: middle;\n",
       "    }\n",
       "\n",
       "    .dataframe tbody tr th {\n",
       "        vertical-align: top;\n",
       "    }\n",
       "\n",
       "    .dataframe thead th {\n",
       "        text-align: right;\n",
       "    }\n",
       "</style>\n",
       "<table border=\"1\" class=\"dataframe\">\n",
       "  <thead>\n",
       "    <tr style=\"text-align: right;\">\n",
       "      <th></th>\n",
       "      <th>start_id</th>\n",
       "      <th>end_id</th>\n",
       "      <th>type</th>\n",
       "    </tr>\n",
       "  </thead>\n",
       "  <tbody>\n",
       "    <tr>\n",
       "      <th>0</th>\n",
       "      <td>UniProt:A0A061ADQ6</td>\n",
       "      <td>REACT:R-CEL-5672973</td>\n",
       "      <td>regulates</td>\n",
       "    </tr>\n",
       "    <tr>\n",
       "      <th>1</th>\n",
       "      <td>UniProt:A0A061ADQ6</td>\n",
       "      <td>REACT:R-CEL-5672978</td>\n",
       "      <td>regulates</td>\n",
       "    </tr>\n",
       "  </tbody>\n",
       "</table>\n",
       "</div>"
      ],
      "text/plain": [
       "             start_id               end_id       type\n",
       "0  UniProt:A0A061ADQ6  REACT:R-CEL-5672973  regulates\n",
       "1  UniProt:A0A061ADQ6  REACT:R-CEL-5672978  regulates"
      ]
     },
     "execution_count": 55,
     "metadata": {},
     "output_type": "execute_result"
    }
   ],
   "source": [
    "# Protein to rxn {'regulates', 'fucntion_altered_in'}\n",
    "role_edges.append(process_edges(prot_role.query('role in {}'.format(['regulates', 'fucntion_altered_in'])), \n",
    "                                'prot', 'rxn', 'role'))\n",
    "\n",
    "role_edges[-1].head(2)"
   ]
  },
  {
   "cell_type": "code",
   "execution_count": 56,
   "metadata": {},
   "outputs": [],
   "source": [
    "role_edges = pd.concat(role_edges, sort=False, ignore_index=True)\n",
    "role_edges['dsrc_type'] = 'curated'"
   ]
  },
  {
   "cell_type": "markdown",
   "metadata": {},
   "source": [
    "#### Add GO Annotations"
   ]
  },
  {
   "cell_type": "code",
   "execution_count": 57,
   "metadata": {},
   "outputs": [
    {
     "data": {
      "text/html": [
       "<div>\n",
       "<style scoped>\n",
       "    .dataframe tbody tr th:only-of-type {\n",
       "        vertical-align: middle;\n",
       "    }\n",
       "\n",
       "    .dataframe tbody tr th {\n",
       "        vertical-align: top;\n",
       "    }\n",
       "\n",
       "    .dataframe thead th {\n",
       "        text-align: right;\n",
       "    }\n",
       "</style>\n",
       "<table border=\"1\" class=\"dataframe\">\n",
       "  <thead>\n",
       "    <tr style=\"text-align: right;\">\n",
       "      <th></th>\n",
       "      <th>db</th>\n",
       "      <th>db_object_id</th>\n",
       "      <th>db_object_symbol</th>\n",
       "      <th>qualifier</th>\n",
       "      <th>go_id</th>\n",
       "      <th>db_reference</th>\n",
       "      <th>evidence_code</th>\n",
       "      <th>with_or_from</th>\n",
       "      <th>aspect</th>\n",
       "      <th>db_object_name</th>\n",
       "      <th>db_object_synonym</th>\n",
       "      <th>db_object_type</th>\n",
       "      <th>taxon</th>\n",
       "      <th>date</th>\n",
       "      <th>assigned_by</th>\n",
       "      <th>annotation_extension</th>\n",
       "      <th>gene_product_form_id</th>\n",
       "      <th>label</th>\n",
       "      <th>type</th>\n",
       "    </tr>\n",
       "  </thead>\n",
       "  <tbody>\n",
       "    <tr>\n",
       "      <th>0</th>\n",
       "      <td>UniProtKB</td>\n",
       "      <td>UniProt:A0A075B6P5</td>\n",
       "      <td>KV228_HUMAN</td>\n",
       "      <td>NaN</td>\n",
       "      <td>GO:0005576</td>\n",
       "      <td>REACT:R-HSA-166753</td>\n",
       "      <td>TAS</td>\n",
       "      <td>NaN</td>\n",
       "      <td>C</td>\n",
       "      <td>NaN</td>\n",
       "      <td>NaN</td>\n",
       "      <td>protein</td>\n",
       "      <td>taxon:9606</td>\n",
       "      <td>20161111</td>\n",
       "      <td>Reactome</td>\n",
       "      <td>NaN</td>\n",
       "      <td>NaN</td>\n",
       "      <td>Cellular Component</td>\n",
       "      <td>part_of</td>\n",
       "    </tr>\n",
       "    <tr>\n",
       "      <th>1</th>\n",
       "      <td>UniProtKB</td>\n",
       "      <td>UniProt:A0A075B6P5</td>\n",
       "      <td>KV228_HUMAN</td>\n",
       "      <td>NaN</td>\n",
       "      <td>GO:0005576</td>\n",
       "      <td>REACT:R-HSA-166792</td>\n",
       "      <td>TAS</td>\n",
       "      <td>NaN</td>\n",
       "      <td>C</td>\n",
       "      <td>NaN</td>\n",
       "      <td>NaN</td>\n",
       "      <td>protein</td>\n",
       "      <td>taxon:9606</td>\n",
       "      <td>20161111</td>\n",
       "      <td>Reactome</td>\n",
       "      <td>NaN</td>\n",
       "      <td>NaN</td>\n",
       "      <td>Cellular Component</td>\n",
       "      <td>part_of</td>\n",
       "    </tr>\n",
       "  </tbody>\n",
       "</table>\n",
       "</div>"
      ],
      "text/plain": [
       "          db        db_object_id db_object_symbol  qualifier       go_id  \\\n",
       "0  UniProtKB  UniProt:A0A075B6P5      KV228_HUMAN        NaN  GO:0005576   \n",
       "1  UniProtKB  UniProt:A0A075B6P5      KV228_HUMAN        NaN  GO:0005576   \n",
       "\n",
       "         db_reference evidence_code  with_or_from aspect  db_object_name  \\\n",
       "0  REACT:R-HSA-166753           TAS           NaN      C             NaN   \n",
       "1  REACT:R-HSA-166792           TAS           NaN      C             NaN   \n",
       "\n",
       "   db_object_synonym db_object_type       taxon      date assigned_by  \\\n",
       "0                NaN        protein  taxon:9606  20161111    Reactome   \n",
       "1                NaN        protein  taxon:9606  20161111    Reactome   \n",
       "\n",
       "   annotation_extension  gene_product_form_id               label     type  \n",
       "0                   NaN                   NaN  Cellular Component  part_of  \n",
       "1                   NaN                   NaN  Cellular Component  part_of  "
      ]
     },
     "execution_count": 57,
     "metadata": {},
     "output_type": "execute_result"
    }
   ],
   "source": [
    "goa.head(2)"
   ]
  },
  {
   "cell_type": "code",
   "execution_count": 58,
   "metadata": {},
   "outputs": [
    {
     "data": {
      "text/html": [
       "<div>\n",
       "<style scoped>\n",
       "    .dataframe tbody tr th:only-of-type {\n",
       "        vertical-align: middle;\n",
       "    }\n",
       "\n",
       "    .dataframe tbody tr th {\n",
       "        vertical-align: top;\n",
       "    }\n",
       "\n",
       "    .dataframe thead th {\n",
       "        text-align: right;\n",
       "    }\n",
       "</style>\n",
       "<table border=\"1\" class=\"dataframe\">\n",
       "  <thead>\n",
       "    <tr style=\"text-align: right;\">\n",
       "      <th></th>\n",
       "      <th>id</th>\n",
       "      <th>name</th>\n",
       "      <th>label</th>\n",
       "    </tr>\n",
       "  </thead>\n",
       "  <tbody>\n",
       "    <tr>\n",
       "      <th>0</th>\n",
       "      <td>GO:0005576</td>\n",
       "      <td></td>\n",
       "      <td>Cellular Component</td>\n",
       "    </tr>\n",
       "    <tr>\n",
       "      <th>1</th>\n",
       "      <td>GO:0005886</td>\n",
       "      <td></td>\n",
       "      <td>Cellular Component</td>\n",
       "    </tr>\n",
       "  </tbody>\n",
       "</table>\n",
       "</div>"
      ],
      "text/plain": [
       "           id name               label\n",
       "0  GO:0005576       Cellular Component\n",
       "1  GO:0005886       Cellular Component"
      ]
     },
     "execution_count": 58,
     "metadata": {},
     "output_type": "execute_result"
    }
   ],
   "source": [
    "# Ensure GO ids are included, with Dummy names\n",
    "goa_nodes = []\n",
    "go_nodes = process_nodes(goa, 'go_id', 'aspect', 'label')\n",
    "go_nodes['name'] = ''\n",
    "goa_nodes.append(go_nodes)\n",
    "goa_nodes[-1].head(2)"
   ]
  },
  {
   "cell_type": "code",
   "execution_count": 59,
   "metadata": {},
   "outputs": [
    {
     "data": {
      "text/html": [
       "<div>\n",
       "<style scoped>\n",
       "    .dataframe tbody tr th:only-of-type {\n",
       "        vertical-align: middle;\n",
       "    }\n",
       "\n",
       "    .dataframe tbody tr th {\n",
       "        vertical-align: top;\n",
       "    }\n",
       "\n",
       "    .dataframe thead th {\n",
       "        text-align: right;\n",
       "    }\n",
       "</style>\n",
       "<table border=\"1\" class=\"dataframe\">\n",
       "  <thead>\n",
       "    <tr style=\"text-align: right;\">\n",
       "      <th></th>\n",
       "      <th>id</th>\n",
       "      <th>name</th>\n",
       "      <th>label</th>\n",
       "    </tr>\n",
       "  </thead>\n",
       "  <tbody>\n",
       "    <tr>\n",
       "      <th>0</th>\n",
       "      <td>UniProt:A0A075B6P5</td>\n",
       "      <td>KV228_HUMAN</td>\n",
       "      <td>Protein</td>\n",
       "    </tr>\n",
       "    <tr>\n",
       "      <th>1</th>\n",
       "      <td>UniProt:A0A075B6S6</td>\n",
       "      <td>KVD30_HUMAN</td>\n",
       "      <td>Protein</td>\n",
       "    </tr>\n",
       "  </tbody>\n",
       "</table>\n",
       "</div>"
      ],
      "text/plain": [
       "                   id         name    label\n",
       "0  UniProt:A0A075B6P5  KV228_HUMAN  Protein\n",
       "1  UniProt:A0A075B6S6  KVD30_HUMAN  Protein"
      ]
     },
     "execution_count": 59,
     "metadata": {},
     "output_type": "execute_result"
    }
   ],
   "source": [
    "goa_nodes.append(process_nodes(goa, 'db_object_id', 'db_object_symbol', 'Protein'))\n",
    "goa_nodes[-1].head(2)"
   ]
  },
  {
   "cell_type": "markdown",
   "metadata": {},
   "source": [
    "When we combine nodes later, we will put these nodes last so proper those that have proper names will be chosen ahead of these with dummy empty names"
   ]
  },
  {
   "cell_type": "code",
   "execution_count": 60,
   "metadata": {},
   "outputs": [],
   "source": [
    "goa_nodes = pd.concat(goa_nodes, sort=False, ignore_index=True)"
   ]
  },
  {
   "cell_type": "code",
   "execution_count": 61,
   "metadata": {},
   "outputs": [],
   "source": [
    "goa_edges = []\n",
    "\n",
    "goa_edges.append(process_edges(goa, 'db_object_id', 'go_id', 'type', extra_cols='evidence_code'))\n",
    "goa_edges.append(process_edges(goa[goa['db_reference'].str.startswith('REACT:')],\n",
    "                               'db_reference', 'go_id', 'type', extra_cols='evidence_code'))\n",
    "goa_edges = pd.concat(goa_edges, sort=False, ignore_index=True)"
   ]
  },
  {
   "cell_type": "code",
   "execution_count": 62,
   "metadata": {},
   "outputs": [],
   "source": [
    "goa_edges['dsrc_type'] = goa_edges['evidence_code'].map(dsrc_map)\n",
    "comp_idx = goa_edges.query('dsrc_type == \"computed\"').index\n",
    "goa_edges.loc[comp_idx, 'comp_type'] = 'IEA'\n",
    "goa_edges = goa_edges.drop('evidence_code', axis=1)"
   ]
  },
  {
   "cell_type": "code",
   "execution_count": 63,
   "metadata": {},
   "outputs": [
    {
     "data": {
      "text/html": [
       "<div>\n",
       "<style scoped>\n",
       "    .dataframe tbody tr th:only-of-type {\n",
       "        vertical-align: middle;\n",
       "    }\n",
       "\n",
       "    .dataframe tbody tr th {\n",
       "        vertical-align: top;\n",
       "    }\n",
       "\n",
       "    .dataframe thead th {\n",
       "        text-align: right;\n",
       "    }\n",
       "</style>\n",
       "<table border=\"1\" class=\"dataframe\">\n",
       "  <thead>\n",
       "    <tr style=\"text-align: right;\">\n",
       "      <th></th>\n",
       "      <th>start_id</th>\n",
       "      <th>end_id</th>\n",
       "      <th>type</th>\n",
       "      <th>dsrc_type</th>\n",
       "      <th>comp_type</th>\n",
       "    </tr>\n",
       "  </thead>\n",
       "  <tbody>\n",
       "    <tr>\n",
       "      <th>43654</th>\n",
       "      <td>REACT:R-HSA-1433514</td>\n",
       "      <td>GO:0005829</td>\n",
       "      <td>part_of</td>\n",
       "      <td>curated</td>\n",
       "      <td>NaN</td>\n",
       "    </tr>\n",
       "    <tr>\n",
       "      <th>6591</th>\n",
       "      <td>UniProt:P06315</td>\n",
       "      <td>GO:0050776</td>\n",
       "      <td>involved_in</td>\n",
       "      <td>curated</td>\n",
       "      <td>NaN</td>\n",
       "    </tr>\n",
       "    <tr>\n",
       "      <th>32758</th>\n",
       "      <td>UniProt:Q9NQC8</td>\n",
       "      <td>GO:0005929</td>\n",
       "      <td>part_of</td>\n",
       "      <td>curated</td>\n",
       "      <td>NaN</td>\n",
       "    </tr>\n",
       "    <tr>\n",
       "      <th>11103</th>\n",
       "      <td>UniProt:P23219</td>\n",
       "      <td>GO:0005789</td>\n",
       "      <td>part_of</td>\n",
       "      <td>curated</td>\n",
       "      <td>NaN</td>\n",
       "    </tr>\n",
       "    <tr>\n",
       "      <th>763</th>\n",
       "      <td>UniProt:O00468</td>\n",
       "      <td>GO:0005576</td>\n",
       "      <td>part_of</td>\n",
       "      <td>curated</td>\n",
       "      <td>NaN</td>\n",
       "    </tr>\n",
       "  </tbody>\n",
       "</table>\n",
       "</div>"
      ],
      "text/plain": [
       "                  start_id      end_id         type dsrc_type comp_type\n",
       "43654  REACT:R-HSA-1433514  GO:0005829      part_of   curated       NaN\n",
       "6591        UniProt:P06315  GO:0050776  involved_in   curated       NaN\n",
       "32758       UniProt:Q9NQC8  GO:0005929      part_of   curated       NaN\n",
       "11103       UniProt:P23219  GO:0005789      part_of   curated       NaN\n",
       "763         UniProt:O00468  GO:0005576      part_of   curated       NaN"
      ]
     },
     "execution_count": 63,
     "metadata": {},
     "output_type": "execute_result"
    }
   ],
   "source": [
    "goa_edges.sample(5, random_state=1389)"
   ]
  },
  {
   "cell_type": "markdown",
   "metadata": {},
   "source": [
    "## Process Nodes and Edges from the Query Results"
   ]
  },
  {
   "cell_type": "code",
   "execution_count": 64,
   "metadata": {},
   "outputs": [],
   "source": [
    "nodes = []\n",
    "edges = []"
   ]
  },
  {
   "cell_type": "code",
   "execution_count": 65,
   "metadata": {},
   "outputs": [],
   "source": [
    "edge_names = sorted(edge_res.keys())\n",
    "it_n = iter(edge_names)"
   ]
  },
  {
   "cell_type": "code",
   "execution_count": 66,
   "metadata": {
    "scrolled": true
   },
   "outputs": [
    {
     "name": "stdout",
     "output_type": "stream",
     "text": [
      "cplx_pe\n"
     ]
    }
   ],
   "source": [
    "edge_name = next(it_n)\n",
    "print(edge_name)"
   ]
  },
  {
   "cell_type": "code",
   "execution_count": 67,
   "metadata": {},
   "outputs": [],
   "source": [
    "edge_name = 'cplx_pe'"
   ]
  },
  {
   "cell_type": "code",
   "execution_count": 68,
   "metadata": {},
   "outputs": [
    {
     "data": {
      "text/html": [
       "<div>\n",
       "<style scoped>\n",
       "    .dataframe tbody tr th:only-of-type {\n",
       "        vertical-align: middle;\n",
       "    }\n",
       "\n",
       "    .dataframe tbody tr th {\n",
       "        vertical-align: top;\n",
       "    }\n",
       "\n",
       "    .dataframe thead th {\n",
       "        text-align: right;\n",
       "    }\n",
       "</style>\n",
       "<table border=\"1\" class=\"dataframe\">\n",
       "  <thead>\n",
       "    <tr style=\"text-align: right;\">\n",
       "      <th></th>\n",
       "      <th>cplx_id</th>\n",
       "      <th>cplx_name</th>\n",
       "      <th>pe_id</th>\n",
       "      <th>pe_name</th>\n",
       "      <th>pe_label</th>\n",
       "    </tr>\n",
       "  </thead>\n",
       "  <tbody>\n",
       "    <tr>\n",
       "      <th>0</th>\n",
       "      <td>REACT:R-GGA-9652349</td>\n",
       "      <td>ERBB2 heterodimer:trastuzumab [plasma membrane]</td>\n",
       "      <td>REACT:R-ALL-9634466</td>\n",
       "      <td>trastuzumab [extracellular region]</td>\n",
       "      <td>['DatabaseObject', 'PhysicalEntity', 'ProteinD...</td>\n",
       "    </tr>\n",
       "    <tr>\n",
       "      <th>1</th>\n",
       "      <td>REACT:R-BTA-9652349</td>\n",
       "      <td>ERBB2 heterodimer:trastuzumab [plasma membrane]</td>\n",
       "      <td>REACT:R-ALL-9634466</td>\n",
       "      <td>trastuzumab [extracellular region]</td>\n",
       "      <td>['DatabaseObject', 'PhysicalEntity', 'ProteinD...</td>\n",
       "    </tr>\n",
       "  </tbody>\n",
       "</table>\n",
       "</div>"
      ],
      "text/plain": [
       "               cplx_id                                        cplx_name  \\\n",
       "0  REACT:R-GGA-9652349  ERBB2 heterodimer:trastuzumab [plasma membrane]   \n",
       "1  REACT:R-BTA-9652349  ERBB2 heterodimer:trastuzumab [plasma membrane]   \n",
       "\n",
       "                 pe_id                             pe_name  \\\n",
       "0  REACT:R-ALL-9634466  trastuzumab [extracellular region]   \n",
       "1  REACT:R-ALL-9634466  trastuzumab [extracellular region]   \n",
       "\n",
       "                                            pe_label  \n",
       "0  ['DatabaseObject', 'PhysicalEntity', 'ProteinD...  \n",
       "1  ['DatabaseObject', 'PhysicalEntity', 'ProteinD...  "
      ]
     },
     "execution_count": 68,
     "metadata": {},
     "output_type": "execute_result"
    }
   ],
   "source": [
    "df = edge_res[edge_name]\n",
    "df.head(2)"
   ]
  },
  {
   "cell_type": "code",
   "execution_count": 69,
   "metadata": {},
   "outputs": [
    {
     "data": {
      "text/html": [
       "<div>\n",
       "<style scoped>\n",
       "    .dataframe tbody tr th:only-of-type {\n",
       "        vertical-align: middle;\n",
       "    }\n",
       "\n",
       "    .dataframe tbody tr th {\n",
       "        vertical-align: top;\n",
       "    }\n",
       "\n",
       "    .dataframe thead th {\n",
       "        text-align: right;\n",
       "    }\n",
       "</style>\n",
       "<table border=\"1\" class=\"dataframe\">\n",
       "  <thead>\n",
       "    <tr style=\"text-align: right;\">\n",
       "      <th></th>\n",
       "      <th>cplx_id</th>\n",
       "      <th>cplx_name</th>\n",
       "      <th>pe_id</th>\n",
       "      <th>pe_name</th>\n",
       "      <th>pe_label</th>\n",
       "      <th>pe_reactome_id</th>\n",
       "      <th>external_id</th>\n",
       "    </tr>\n",
       "  </thead>\n",
       "  <tbody>\n",
       "    <tr>\n",
       "      <th>0</th>\n",
       "      <td>REACT:R-SSC-9011531</td>\n",
       "      <td>DCA:PDK2 [mitochondrial matrix]</td>\n",
       "      <td>REACT:R-ALL-9010792</td>\n",
       "      <td>DCA [mitochondrial matrix]</td>\n",
       "      <td>['DatabaseObject', 'PhysicalEntity', 'Drug', '...</td>\n",
       "      <td>REACT:R-ALL-9010792</td>\n",
       "      <td>CHEBI:28240</td>\n",
       "    </tr>\n",
       "    <tr>\n",
       "      <th>1</th>\n",
       "      <td>REACT:R-CEL-9011531</td>\n",
       "      <td>DCA:PDK2 [mitochondrial matrix]</td>\n",
       "      <td>REACT:R-ALL-9010792</td>\n",
       "      <td>DCA [mitochondrial matrix]</td>\n",
       "      <td>['DatabaseObject', 'PhysicalEntity', 'Drug', '...</td>\n",
       "      <td>REACT:R-ALL-9010792</td>\n",
       "      <td>CHEBI:28240</td>\n",
       "    </tr>\n",
       "  </tbody>\n",
       "</table>\n",
       "</div>"
      ],
      "text/plain": [
       "               cplx_id                        cplx_name                pe_id  \\\n",
       "0  REACT:R-SSC-9011531  DCA:PDK2 [mitochondrial matrix]  REACT:R-ALL-9010792   \n",
       "1  REACT:R-CEL-9011531  DCA:PDK2 [mitochondrial matrix]  REACT:R-ALL-9010792   \n",
       "\n",
       "                      pe_name  \\\n",
       "0  DCA [mitochondrial matrix]   \n",
       "1  DCA [mitochondrial matrix]   \n",
       "\n",
       "                                            pe_label       pe_reactome_id  \\\n",
       "0  ['DatabaseObject', 'PhysicalEntity', 'Drug', '...  REACT:R-ALL-9010792   \n",
       "1  ['DatabaseObject', 'PhysicalEntity', 'Drug', '...  REACT:R-ALL-9010792   \n",
       "\n",
       "   external_id  \n",
       "0  CHEBI:28240  \n",
       "1  CHEBI:28240  "
      ]
     },
     "execution_count": 69,
     "metadata": {},
     "output_type": "execute_result"
    }
   ],
   "source": [
    "df = df.merge(pe_to_external, left_on='pe_id', right_on='pe_reactome_id', how='inner')\n",
    "df.head(2)"
   ]
  },
  {
   "cell_type": "code",
   "execution_count": 70,
   "metadata": {},
   "outputs": [],
   "source": [
    "nodes.append(pe_nodes)"
   ]
  },
  {
   "cell_type": "code",
   "execution_count": 71,
   "metadata": {},
   "outputs": [],
   "source": [
    "df['cplx_name'] = df['cplx_name'].apply(lambda s: s.split(' [')[0])\n",
    "cplx_nodes = process_nodes(df, 'cplx_id', 'cplx_name', 'Complex')"
   ]
  },
  {
   "cell_type": "code",
   "execution_count": 72,
   "metadata": {},
   "outputs": [],
   "source": [
    "nodes.append(cplx_nodes)"
   ]
  },
  {
   "cell_type": "code",
   "execution_count": 73,
   "metadata": {},
   "outputs": [
    {
     "data": {
      "text/html": [
       "<div>\n",
       "<style scoped>\n",
       "    .dataframe tbody tr th:only-of-type {\n",
       "        vertical-align: middle;\n",
       "    }\n",
       "\n",
       "    .dataframe tbody tr th {\n",
       "        vertical-align: top;\n",
       "    }\n",
       "\n",
       "    .dataframe thead th {\n",
       "        text-align: right;\n",
       "    }\n",
       "</style>\n",
       "<table border=\"1\" class=\"dataframe\">\n",
       "  <thead>\n",
       "    <tr style=\"text-align: right;\">\n",
       "      <th></th>\n",
       "      <th>start_id</th>\n",
       "      <th>end_id</th>\n",
       "      <th>type</th>\n",
       "      <th>dsrc_type</th>\n",
       "    </tr>\n",
       "  </thead>\n",
       "  <tbody>\n",
       "    <tr>\n",
       "      <th>0</th>\n",
       "      <td>CHEBI:28240</td>\n",
       "      <td>REACT:R-SSC-9011531</td>\n",
       "      <td>part_of</td>\n",
       "      <td>curated</td>\n",
       "    </tr>\n",
       "    <tr>\n",
       "      <th>1</th>\n",
       "      <td>CHEBI:28240</td>\n",
       "      <td>REACT:R-CEL-9011531</td>\n",
       "      <td>part_of</td>\n",
       "      <td>curated</td>\n",
       "    </tr>\n",
       "    <tr>\n",
       "      <th>2</th>\n",
       "      <td>CHEBI:28240</td>\n",
       "      <td>REACT:R-DRE-9011531</td>\n",
       "      <td>part_of</td>\n",
       "      <td>curated</td>\n",
       "    </tr>\n",
       "    <tr>\n",
       "      <th>3</th>\n",
       "      <td>CHEBI:28240</td>\n",
       "      <td>REACT:R-SPO-9011531</td>\n",
       "      <td>part_of</td>\n",
       "      <td>curated</td>\n",
       "    </tr>\n",
       "    <tr>\n",
       "      <th>4</th>\n",
       "      <td>CHEBI:28240</td>\n",
       "      <td>REACT:R-BTA-9011531</td>\n",
       "      <td>part_of</td>\n",
       "      <td>curated</td>\n",
       "    </tr>\n",
       "  </tbody>\n",
       "</table>\n",
       "</div>"
      ],
      "text/plain": [
       "      start_id               end_id     type dsrc_type\n",
       "0  CHEBI:28240  REACT:R-SSC-9011531  part_of   curated\n",
       "1  CHEBI:28240  REACT:R-CEL-9011531  part_of   curated\n",
       "2  CHEBI:28240  REACT:R-DRE-9011531  part_of   curated\n",
       "3  CHEBI:28240  REACT:R-SPO-9011531  part_of   curated\n",
       "4  CHEBI:28240  REACT:R-BTA-9011531  part_of   curated"
      ]
     },
     "execution_count": 73,
     "metadata": {},
     "output_type": "execute_result"
    }
   ],
   "source": [
    "cplx_edges = process_edges(df, 'external_id', 'cplx_id', 'part_of')\n",
    "cplx_edges['dsrc_type'] = 'curated'\n",
    "cplx_edges.head()"
   ]
  },
  {
   "cell_type": "code",
   "execution_count": 74,
   "metadata": {},
   "outputs": [],
   "source": [
    "edges.append(cplx_edges)"
   ]
  },
  {
   "cell_type": "code",
   "execution_count": 75,
   "metadata": {},
   "outputs": [],
   "source": [
    "all_pe_ids = set(pe_to_external['pe_reactome_id']) | set(cplx_nodes['id'])\n",
    "\n",
    "def prep_pe(df, pe_col):\n",
    "    \n",
    "    # Filter out things we don't care about [e.g. DefinedSet]\n",
    "    df = df.query('{} in @all_pe_ids'.format(pe_col))\n",
    "    \n",
    "    # Make sure the columnname for merging is unique so we don't have to worrie about suffixes\n",
    "    if pe_col in pe_to_external.columns:\n",
    "        pe_col += '_input'\n",
    "    \n",
    "    mrg = df.merge(pe_to_external, left_on=pe_col, right_on='pe_reactome_id', how='left')\n",
    "    mrg['external_id'] = mrg['external_id'].fillna(mrg[pe_col])\n",
    "    return mrg\n",
    "    "
   ]
  },
  {
   "cell_type": "markdown",
   "metadata": {},
   "source": [
    "### Query 2"
   ]
  },
  {
   "cell_type": "code",
   "execution_count": 76,
   "metadata": {},
   "outputs": [
    {
     "name": "stdout",
     "output_type": "stream",
     "text": [
      "evt_bp\n"
     ]
    }
   ],
   "source": [
    "edge_name = next(it_n)\n",
    "print(edge_name)"
   ]
  },
  {
   "cell_type": "code",
   "execution_count": 77,
   "metadata": {},
   "outputs": [
    {
     "data": {
      "text/html": [
       "<div>\n",
       "<style scoped>\n",
       "    .dataframe tbody tr th:only-of-type {\n",
       "        vertical-align: middle;\n",
       "    }\n",
       "\n",
       "    .dataframe tbody tr th {\n",
       "        vertical-align: top;\n",
       "    }\n",
       "\n",
       "    .dataframe thead th {\n",
       "        text-align: right;\n",
       "    }\n",
       "</style>\n",
       "<table border=\"1\" class=\"dataframe\">\n",
       "  <thead>\n",
       "    <tr style=\"text-align: right;\">\n",
       "      <th></th>\n",
       "      <th>evt_id</th>\n",
       "      <th>evt_name</th>\n",
       "      <th>type</th>\n",
       "      <th>curi</th>\n",
       "      <th>go_id</th>\n",
       "      <th>go_name</th>\n",
       "    </tr>\n",
       "  </thead>\n",
       "  <tbody>\n",
       "    <tr>\n",
       "      <th>0</th>\n",
       "      <td>REACT:R-DME-9613354</td>\n",
       "      <td>Lipophagy</td>\n",
       "      <td>goBiologicalProcess</td>\n",
       "      <td>GO</td>\n",
       "      <td>GO:0061724</td>\n",
       "      <td>lipophagy</td>\n",
       "    </tr>\n",
       "    <tr>\n",
       "      <th>1</th>\n",
       "      <td>REACT:R-XTR-9613354</td>\n",
       "      <td>Lipophagy</td>\n",
       "      <td>goBiologicalProcess</td>\n",
       "      <td>GO</td>\n",
       "      <td>GO:0061724</td>\n",
       "      <td>lipophagy</td>\n",
       "    </tr>\n",
       "    <tr>\n",
       "      <th>2</th>\n",
       "      <td>REACT:R-DRE-9613354</td>\n",
       "      <td>Lipophagy</td>\n",
       "      <td>goBiologicalProcess</td>\n",
       "      <td>GO</td>\n",
       "      <td>GO:0061724</td>\n",
       "      <td>lipophagy</td>\n",
       "    </tr>\n",
       "    <tr>\n",
       "      <th>3</th>\n",
       "      <td>REACT:R-SSC-9613354</td>\n",
       "      <td>Lipophagy</td>\n",
       "      <td>goBiologicalProcess</td>\n",
       "      <td>GO</td>\n",
       "      <td>GO:0061724</td>\n",
       "      <td>lipophagy</td>\n",
       "    </tr>\n",
       "    <tr>\n",
       "      <th>4</th>\n",
       "      <td>REACT:R-BTA-9613354</td>\n",
       "      <td>Lipophagy</td>\n",
       "      <td>goBiologicalProcess</td>\n",
       "      <td>GO</td>\n",
       "      <td>GO:0061724</td>\n",
       "      <td>lipophagy</td>\n",
       "    </tr>\n",
       "  </tbody>\n",
       "</table>\n",
       "</div>"
      ],
      "text/plain": [
       "                evt_id   evt_name                 type curi       go_id  \\\n",
       "0  REACT:R-DME-9613354  Lipophagy  goBiologicalProcess   GO  GO:0061724   \n",
       "1  REACT:R-XTR-9613354  Lipophagy  goBiologicalProcess   GO  GO:0061724   \n",
       "2  REACT:R-DRE-9613354  Lipophagy  goBiologicalProcess   GO  GO:0061724   \n",
       "3  REACT:R-SSC-9613354  Lipophagy  goBiologicalProcess   GO  GO:0061724   \n",
       "4  REACT:R-BTA-9613354  Lipophagy  goBiologicalProcess   GO  GO:0061724   \n",
       "\n",
       "     go_name  \n",
       "0  lipophagy  \n",
       "1  lipophagy  \n",
       "2  lipophagy  \n",
       "3  lipophagy  \n",
       "4  lipophagy  "
      ]
     },
     "execution_count": 77,
     "metadata": {},
     "output_type": "execute_result"
    }
   ],
   "source": [
    "df = edge_res[edge_name]\n",
    "df.head()"
   ]
  },
  {
   "cell_type": "code",
   "execution_count": 78,
   "metadata": {},
   "outputs": [
    {
     "data": {
      "text/html": [
       "<div>\n",
       "<style scoped>\n",
       "    .dataframe tbody tr th:only-of-type {\n",
       "        vertical-align: middle;\n",
       "    }\n",
       "\n",
       "    .dataframe tbody tr th {\n",
       "        vertical-align: top;\n",
       "    }\n",
       "\n",
       "    .dataframe thead th {\n",
       "        text-align: right;\n",
       "    }\n",
       "</style>\n",
       "<table border=\"1\" class=\"dataframe\">\n",
       "  <thead>\n",
       "    <tr style=\"text-align: right;\">\n",
       "      <th></th>\n",
       "      <th>id</th>\n",
       "      <th>name</th>\n",
       "      <th>label</th>\n",
       "    </tr>\n",
       "  </thead>\n",
       "  <tbody>\n",
       "    <tr>\n",
       "      <th>0</th>\n",
       "      <td>GO:0061724</td>\n",
       "      <td>lipophagy</td>\n",
       "      <td>Biological Process</td>\n",
       "    </tr>\n",
       "    <tr>\n",
       "      <th>1</th>\n",
       "      <td>GO:0061684</td>\n",
       "      <td>chaperone-mediated autophagy</td>\n",
       "      <td>Biological Process</td>\n",
       "    </tr>\n",
       "    <tr>\n",
       "      <th>2</th>\n",
       "      <td>GO:0016236</td>\n",
       "      <td>macroautophagy</td>\n",
       "      <td>Biological Process</td>\n",
       "    </tr>\n",
       "    <tr>\n",
       "      <th>3</th>\n",
       "      <td>GO:0000423</td>\n",
       "      <td>mitophagy</td>\n",
       "      <td>Biological Process</td>\n",
       "    </tr>\n",
       "    <tr>\n",
       "      <th>4</th>\n",
       "      <td>GO:0097352</td>\n",
       "      <td>autophagosome maturation</td>\n",
       "      <td>Biological Process</td>\n",
       "    </tr>\n",
       "  </tbody>\n",
       "</table>\n",
       "</div>"
      ],
      "text/plain": [
       "           id                          name               label\n",
       "0  GO:0061724                     lipophagy  Biological Process\n",
       "1  GO:0061684  chaperone-mediated autophagy  Biological Process\n",
       "2  GO:0016236                macroautophagy  Biological Process\n",
       "3  GO:0000423                     mitophagy  Biological Process\n",
       "4  GO:0097352      autophagosome maturation  Biological Process"
      ]
     },
     "execution_count": 78,
     "metadata": {},
     "output_type": "execute_result"
    }
   ],
   "source": [
    "go_nodes = process_nodes(df, 'go_id', 'go_name', 'Biological Process')\n",
    "go_nodes.head()"
   ]
  },
  {
   "cell_type": "code",
   "execution_count": 79,
   "metadata": {},
   "outputs": [
    {
     "data": {
      "text/plain": [
       "True"
      ]
     },
     "execution_count": 79,
     "metadata": {},
     "output_type": "execute_result"
    }
   ],
   "source": [
    "go_nodes['id'].nunique() == len(go_nodes)"
   ]
  },
  {
   "cell_type": "code",
   "execution_count": 80,
   "metadata": {},
   "outputs": [
    {
     "data": {
      "text/plain": [
       "True"
      ]
     },
     "execution_count": 80,
     "metadata": {},
     "output_type": "execute_result"
    }
   ],
   "source": [
    "all_ids_in_react_nodes(df, 'evt_id')"
   ]
  },
  {
   "cell_type": "code",
   "execution_count": 81,
   "metadata": {},
   "outputs": [],
   "source": [
    "nodes.append(go_nodes)"
   ]
  },
  {
   "cell_type": "markdown",
   "metadata": {},
   "source": [
    "#### Now for the edges"
   ]
  },
  {
   "cell_type": "code",
   "execution_count": 82,
   "metadata": {},
   "outputs": [
    {
     "data": {
      "text/html": [
       "<div>\n",
       "<style scoped>\n",
       "    .dataframe tbody tr th:only-of-type {\n",
       "        vertical-align: middle;\n",
       "    }\n",
       "\n",
       "    .dataframe tbody tr th {\n",
       "        vertical-align: top;\n",
       "    }\n",
       "\n",
       "    .dataframe thead th {\n",
       "        text-align: right;\n",
       "    }\n",
       "</style>\n",
       "<table border=\"1\" class=\"dataframe\">\n",
       "  <thead>\n",
       "    <tr style=\"text-align: right;\">\n",
       "      <th></th>\n",
       "      <th>start_id</th>\n",
       "      <th>end_id</th>\n",
       "      <th>type</th>\n",
       "      <th>dsrc_type</th>\n",
       "    </tr>\n",
       "  </thead>\n",
       "  <tbody>\n",
       "    <tr>\n",
       "      <th>0</th>\n",
       "      <td>REACT:R-DME-9613354</td>\n",
       "      <td>GO:0061724</td>\n",
       "      <td>involved_in</td>\n",
       "      <td>curated</td>\n",
       "    </tr>\n",
       "    <tr>\n",
       "      <th>1</th>\n",
       "      <td>REACT:R-XTR-9613354</td>\n",
       "      <td>GO:0061724</td>\n",
       "      <td>involved_in</td>\n",
       "      <td>curated</td>\n",
       "    </tr>\n",
       "  </tbody>\n",
       "</table>\n",
       "</div>"
      ],
      "text/plain": [
       "              start_id      end_id         type dsrc_type\n",
       "0  REACT:R-DME-9613354  GO:0061724  involved_in   curated\n",
       "1  REACT:R-XTR-9613354  GO:0061724  involved_in   curated"
      ]
     },
     "execution_count": 82,
     "metadata": {},
     "output_type": "execute_result"
    }
   ],
   "source": [
    "this_edge = process_edges(df, 'evt_id', 'go_id', 'involved_in')\n",
    "this_edge['dsrc_type'] = 'curated'\n",
    "this_edge.head(2)"
   ]
  },
  {
   "cell_type": "code",
   "execution_count": 83,
   "metadata": {},
   "outputs": [],
   "source": [
    "edges.append(this_edge)"
   ]
  },
  {
   "cell_type": "markdown",
   "metadata": {},
   "source": [
    "### Next Query"
   ]
  },
  {
   "cell_type": "code",
   "execution_count": 84,
   "metadata": {
    "scrolled": true
   },
   "outputs": [
    {
     "name": "stdout",
     "output_type": "stream",
     "text": [
      "evt_cc\n"
     ]
    },
    {
     "data": {
      "text/html": [
       "<div>\n",
       "<style scoped>\n",
       "    .dataframe tbody tr th:only-of-type {\n",
       "        vertical-align: middle;\n",
       "    }\n",
       "\n",
       "    .dataframe tbody tr th {\n",
       "        vertical-align: top;\n",
       "    }\n",
       "\n",
       "    .dataframe thead th {\n",
       "        text-align: right;\n",
       "    }\n",
       "</style>\n",
       "<table border=\"1\" class=\"dataframe\">\n",
       "  <thead>\n",
       "    <tr style=\"text-align: right;\">\n",
       "      <th></th>\n",
       "      <th>evt_id</th>\n",
       "      <th>evt_name</th>\n",
       "      <th>type</th>\n",
       "      <th>curi</th>\n",
       "      <th>go_id</th>\n",
       "      <th>go_name</th>\n",
       "    </tr>\n",
       "  </thead>\n",
       "  <tbody>\n",
       "    <tr>\n",
       "      <th>0</th>\n",
       "      <td>REACT:R-SCE-5333658</td>\n",
       "      <td>CLAT:AP1:CLVS bind PI(3,5)P2</td>\n",
       "      <td>compartment</td>\n",
       "      <td>GO</td>\n",
       "      <td>GO:0005765</td>\n",
       "      <td>lysosomal membrane</td>\n",
       "    </tr>\n",
       "    <tr>\n",
       "      <th>1</th>\n",
       "      <td>REACT:R-SPO-5333658</td>\n",
       "      <td>CLAT:AP1:CLVS bind PI(3,5)P2</td>\n",
       "      <td>compartment</td>\n",
       "      <td>GO</td>\n",
       "      <td>GO:0005765</td>\n",
       "      <td>lysosomal membrane</td>\n",
       "    </tr>\n",
       "  </tbody>\n",
       "</table>\n",
       "</div>"
      ],
      "text/plain": [
       "                evt_id                      evt_name         type curi  \\\n",
       "0  REACT:R-SCE-5333658  CLAT:AP1:CLVS bind PI(3,5)P2  compartment   GO   \n",
       "1  REACT:R-SPO-5333658  CLAT:AP1:CLVS bind PI(3,5)P2  compartment   GO   \n",
       "\n",
       "        go_id             go_name  \n",
       "0  GO:0005765  lysosomal membrane  \n",
       "1  GO:0005765  lysosomal membrane  "
      ]
     },
     "execution_count": 84,
     "metadata": {},
     "output_type": "execute_result"
    }
   ],
   "source": [
    "edge_name = next(it_n)\n",
    "print(edge_name)\n",
    "df = edge_res[edge_name]\n",
    "df.head(2)"
   ]
  },
  {
   "cell_type": "code",
   "execution_count": 85,
   "metadata": {},
   "outputs": [],
   "source": [
    "nodes.append(process_nodes(df, 'go_id', 'go_name', 'Cellular Component'))"
   ]
  },
  {
   "cell_type": "code",
   "execution_count": 86,
   "metadata": {},
   "outputs": [
    {
     "data": {
      "text/plain": [
       "False"
      ]
     },
     "execution_count": 86,
     "metadata": {},
     "output_type": "execute_result"
    }
   ],
   "source": [
    "all_ids_in_react_nodes(df, 'evt_id')"
   ]
  },
  {
   "cell_type": "code",
   "execution_count": 87,
   "metadata": {},
   "outputs": [
    {
     "data": {
      "text/html": [
       "<div>\n",
       "<style scoped>\n",
       "    .dataframe tbody tr th:only-of-type {\n",
       "        vertical-align: middle;\n",
       "    }\n",
       "\n",
       "    .dataframe tbody tr th {\n",
       "        vertical-align: top;\n",
       "    }\n",
       "\n",
       "    .dataframe thead th {\n",
       "        text-align: right;\n",
       "    }\n",
       "</style>\n",
       "<table border=\"1\" class=\"dataframe\">\n",
       "  <thead>\n",
       "    <tr style=\"text-align: right;\">\n",
       "      <th></th>\n",
       "      <th>evt_id</th>\n",
       "      <th>evt_name</th>\n",
       "      <th>type</th>\n",
       "      <th>curi</th>\n",
       "      <th>go_id</th>\n",
       "      <th>go_name</th>\n",
       "    </tr>\n",
       "  </thead>\n",
       "  <tbody>\n",
       "    <tr>\n",
       "      <th>7924</th>\n",
       "      <td>REACT:R-MMU-446503</td>\n",
       "      <td>Opening of Low Conductance Potassium Channels</td>\n",
       "      <td>compartment</td>\n",
       "      <td>GO</td>\n",
       "      <td>GO:0005886</td>\n",
       "      <td>plasma membrane</td>\n",
       "    </tr>\n",
       "    <tr>\n",
       "      <th>30082</th>\n",
       "      <td>REACT:R-HSA-2130627</td>\n",
       "      <td>MHC class II antigen internalization</td>\n",
       "      <td>compartment</td>\n",
       "      <td>GO</td>\n",
       "      <td>GO:0005576</td>\n",
       "      <td>extracellular region</td>\n",
       "    </tr>\n",
       "    <tr>\n",
       "      <th>45395</th>\n",
       "      <td>REACT:R-ECO-159887</td>\n",
       "      <td>Translocation of ribosome by 3 bases in the 3'...</td>\n",
       "      <td>compartment</td>\n",
       "      <td>GO</td>\n",
       "      <td>GO:0005829</td>\n",
       "      <td>cytosol</td>\n",
       "    </tr>\n",
       "    <tr>\n",
       "      <th>65576</th>\n",
       "      <td>REACT:R-HSA-1236972</td>\n",
       "      <td>Escape of antigens from phagosome to cytosol</td>\n",
       "      <td>compartment</td>\n",
       "      <td>GO</td>\n",
       "      <td>GO:0005829</td>\n",
       "      <td>cytosol</td>\n",
       "    </tr>\n",
       "    <tr>\n",
       "      <th>85789</th>\n",
       "      <td>REACT:R-HSA-2130627</td>\n",
       "      <td>MHC class II antigen internalization</td>\n",
       "      <td>compartment</td>\n",
       "      <td>GO</td>\n",
       "      <td>GO:0043202</td>\n",
       "      <td>lysosomal lumen</td>\n",
       "    </tr>\n",
       "    <tr>\n",
       "      <th>92485</th>\n",
       "      <td>REACT:R-HSA-1236963</td>\n",
       "      <td>Maturation of phagosome into phagolysosome</td>\n",
       "      <td>compartment</td>\n",
       "      <td>GO</td>\n",
       "      <td>GO:0045335</td>\n",
       "      <td>phagocytic vesicle</td>\n",
       "    </tr>\n",
       "    <tr>\n",
       "      <th>96793</th>\n",
       "      <td>REACT:R-HSA-77612</td>\n",
       "      <td>Formation of dsRNA structure by looping</td>\n",
       "      <td>compartment</td>\n",
       "      <td>GO</td>\n",
       "      <td>GO:0005654</td>\n",
       "      <td>nucleoplasm</td>\n",
       "    </tr>\n",
       "    <tr>\n",
       "      <th>100528</th>\n",
       "      <td>REACT:R-HSA-5652137</td>\n",
       "      <td>Damaged dsDNA becomes damaged DNA template</td>\n",
       "      <td>compartment</td>\n",
       "      <td>GO</td>\n",
       "      <td>GO:0005654</td>\n",
       "      <td>nucleoplasm</td>\n",
       "    </tr>\n",
       "    <tr>\n",
       "      <th>101789</th>\n",
       "      <td>REACT:R-HSA-192781</td>\n",
       "      <td>Viral mRNA Splicing (M, NS segments)</td>\n",
       "      <td>compartment</td>\n",
       "      <td>GO</td>\n",
       "      <td>GO:0005654</td>\n",
       "      <td>nucleoplasm</td>\n",
       "    </tr>\n",
       "    <tr>\n",
       "      <th>106745</th>\n",
       "      <td>REACT:R-HSA-77607</td>\n",
       "      <td>Formation of stem-loop structure in ApoB mRNA</td>\n",
       "      <td>compartment</td>\n",
       "      <td>GO</td>\n",
       "      <td>GO:0005654</td>\n",
       "      <td>nucleoplasm</td>\n",
       "    </tr>\n",
       "    <tr>\n",
       "      <th>109325</th>\n",
       "      <td>REACT:R-HSA-5686663</td>\n",
       "      <td>Completion of SSA</td>\n",
       "      <td>compartment</td>\n",
       "      <td>GO</td>\n",
       "      <td>GO:0005654</td>\n",
       "      <td>nucleoplasm</td>\n",
       "    </tr>\n",
       "    <tr>\n",
       "      <th>109516</th>\n",
       "      <td>REACT:R-HSA-5693558</td>\n",
       "      <td>Gap-filling DNA synthesis in SDSA</td>\n",
       "      <td>compartment</td>\n",
       "      <td>GO</td>\n",
       "      <td>GO:0005654</td>\n",
       "      <td>nucleoplasm</td>\n",
       "    </tr>\n",
       "    <tr>\n",
       "      <th>112430</th>\n",
       "      <td>REACT:R-SPO-113636</td>\n",
       "      <td>Association of Cdc13/Cdk1 with replicative origin</td>\n",
       "      <td>compartment</td>\n",
       "      <td>GO</td>\n",
       "      <td>GO:0005654</td>\n",
       "      <td>nucleoplasm</td>\n",
       "    </tr>\n",
       "    <tr>\n",
       "      <th>112520</th>\n",
       "      <td>REACT:R-XLA-169440</td>\n",
       "      <td>Xenopus Mcm8 mediated fork unwinding</td>\n",
       "      <td>compartment</td>\n",
       "      <td>GO</td>\n",
       "      <td>GO:0005654</td>\n",
       "      <td>nucleoplasm</td>\n",
       "    </tr>\n",
       "    <tr>\n",
       "      <th>115236</th>\n",
       "      <td>REACT:R-HSA-187211</td>\n",
       "      <td>Splicing of HIV RNA transcript</td>\n",
       "      <td>compartment</td>\n",
       "      <td>GO</td>\n",
       "      <td>GO:0005635</td>\n",
       "      <td>nuclear envelope</td>\n",
       "    </tr>\n",
       "    <tr>\n",
       "      <th>116153</th>\n",
       "      <td>REACT:R-DRE-159762</td>\n",
       "      <td>Gamma-carboxy pro-protein C transport from the...</td>\n",
       "      <td>compartment</td>\n",
       "      <td>GO</td>\n",
       "      <td>GO:0005796</td>\n",
       "      <td>Golgi lumen</td>\n",
       "    </tr>\n",
       "    <tr>\n",
       "      <th>120322</th>\n",
       "      <td>REACT:R-DRE-159762</td>\n",
       "      <td>Gamma-carboxy pro-protein C transport from the...</td>\n",
       "      <td>compartment</td>\n",
       "      <td>GO</td>\n",
       "      <td>GO:0005788</td>\n",
       "      <td>endoplasmic reticulum lumen</td>\n",
       "    </tr>\n",
       "    <tr>\n",
       "      <th>130627</th>\n",
       "      <td>REACT:R-DRE-159762</td>\n",
       "      <td>Gamma-carboxy pro-protein C transport from the...</td>\n",
       "      <td>compartment</td>\n",
       "      <td>GO</td>\n",
       "      <td>GO:0030134</td>\n",
       "      <td>COPII-coated ER to Golgi transport vesicle</td>\n",
       "    </tr>\n",
       "    <tr>\n",
       "      <th>131976</th>\n",
       "      <td>REACT:R-HSA-1236972</td>\n",
       "      <td>Escape of antigens from phagosome to cytosol</td>\n",
       "      <td>compartment</td>\n",
       "      <td>GO</td>\n",
       "      <td>GO:0032010</td>\n",
       "      <td>phagolysosome</td>\n",
       "    </tr>\n",
       "    <tr>\n",
       "      <th>131977</th>\n",
       "      <td>REACT:R-HSA-1236963</td>\n",
       "      <td>Maturation of phagosome into phagolysosome</td>\n",
       "      <td>compartment</td>\n",
       "      <td>GO</td>\n",
       "      <td>GO:0032010</td>\n",
       "      <td>phagolysosome</td>\n",
       "    </tr>\n",
       "    <tr>\n",
       "      <th>131978</th>\n",
       "      <td>REACT:R-HSA-1236938</td>\n",
       "      <td>Partial proteolysis of antigen in phagolysosomes</td>\n",
       "      <td>compartment</td>\n",
       "      <td>GO</td>\n",
       "      <td>GO:0032010</td>\n",
       "      <td>phagolysosome</td>\n",
       "    </tr>\n",
       "  </tbody>\n",
       "</table>\n",
       "</div>"
      ],
      "text/plain": [
       "                     evt_id  \\\n",
       "7924     REACT:R-MMU-446503   \n",
       "30082   REACT:R-HSA-2130627   \n",
       "45395    REACT:R-ECO-159887   \n",
       "65576   REACT:R-HSA-1236972   \n",
       "85789   REACT:R-HSA-2130627   \n",
       "92485   REACT:R-HSA-1236963   \n",
       "96793     REACT:R-HSA-77612   \n",
       "100528  REACT:R-HSA-5652137   \n",
       "101789   REACT:R-HSA-192781   \n",
       "106745    REACT:R-HSA-77607   \n",
       "109325  REACT:R-HSA-5686663   \n",
       "109516  REACT:R-HSA-5693558   \n",
       "112430   REACT:R-SPO-113636   \n",
       "112520   REACT:R-XLA-169440   \n",
       "115236   REACT:R-HSA-187211   \n",
       "116153   REACT:R-DRE-159762   \n",
       "120322   REACT:R-DRE-159762   \n",
       "130627   REACT:R-DRE-159762   \n",
       "131976  REACT:R-HSA-1236972   \n",
       "131977  REACT:R-HSA-1236963   \n",
       "131978  REACT:R-HSA-1236938   \n",
       "\n",
       "                                                 evt_name         type curi  \\\n",
       "7924        Opening of Low Conductance Potassium Channels  compartment   GO   \n",
       "30082                MHC class II antigen internalization  compartment   GO   \n",
       "45395   Translocation of ribosome by 3 bases in the 3'...  compartment   GO   \n",
       "65576        Escape of antigens from phagosome to cytosol  compartment   GO   \n",
       "85789                MHC class II antigen internalization  compartment   GO   \n",
       "92485          Maturation of phagosome into phagolysosome  compartment   GO   \n",
       "96793            Formation of dsRNA structure by looping   compartment   GO   \n",
       "100528         Damaged dsDNA becomes damaged DNA template  compartment   GO   \n",
       "101789               Viral mRNA Splicing (M, NS segments)  compartment   GO   \n",
       "106745      Formation of stem-loop structure in ApoB mRNA  compartment   GO   \n",
       "109325                                  Completion of SSA  compartment   GO   \n",
       "109516                  Gap-filling DNA synthesis in SDSA  compartment   GO   \n",
       "112430  Association of Cdc13/Cdk1 with replicative origin  compartment   GO   \n",
       "112520               Xenopus Mcm8 mediated fork unwinding  compartment   GO   \n",
       "115236                     Splicing of HIV RNA transcript  compartment   GO   \n",
       "116153  Gamma-carboxy pro-protein C transport from the...  compartment   GO   \n",
       "120322  Gamma-carboxy pro-protein C transport from the...  compartment   GO   \n",
       "130627  Gamma-carboxy pro-protein C transport from the...  compartment   GO   \n",
       "131976       Escape of antigens from phagosome to cytosol  compartment   GO   \n",
       "131977         Maturation of phagosome into phagolysosome  compartment   GO   \n",
       "131978   Partial proteolysis of antigen in phagolysosomes  compartment   GO   \n",
       "\n",
       "             go_id                                     go_name  \n",
       "7924    GO:0005886                             plasma membrane  \n",
       "30082   GO:0005576                        extracellular region  \n",
       "45395   GO:0005829                                     cytosol  \n",
       "65576   GO:0005829                                     cytosol  \n",
       "85789   GO:0043202                             lysosomal lumen  \n",
       "92485   GO:0045335                          phagocytic vesicle  \n",
       "96793   GO:0005654                                 nucleoplasm  \n",
       "100528  GO:0005654                                 nucleoplasm  \n",
       "101789  GO:0005654                                 nucleoplasm  \n",
       "106745  GO:0005654                                 nucleoplasm  \n",
       "109325  GO:0005654                                 nucleoplasm  \n",
       "109516  GO:0005654                                 nucleoplasm  \n",
       "112430  GO:0005654                                 nucleoplasm  \n",
       "112520  GO:0005654                                 nucleoplasm  \n",
       "115236  GO:0005635                            nuclear envelope  \n",
       "116153  GO:0005796                                 Golgi lumen  \n",
       "120322  GO:0005788                 endoplasmic reticulum lumen  \n",
       "130627  GO:0030134  COPII-coated ER to Golgi transport vesicle  \n",
       "131976  GO:0032010                               phagolysosome  \n",
       "131977  GO:0032010                               phagolysosome  \n",
       "131978  GO:0032010                               phagolysosome  "
      ]
     },
     "execution_count": 87,
     "metadata": {},
     "output_type": "execute_result"
    }
   ],
   "source": [
    "df.query('evt_id not in @reactome_evt_ids')"
   ]
  },
  {
   "cell_type": "markdown",
   "metadata": {},
   "source": [
    "These are all reactions"
   ]
  },
  {
   "cell_type": "code",
   "execution_count": 88,
   "metadata": {},
   "outputs": [],
   "source": [
    "this_nodes = process_nodes(df.query('evt_id not in @reactome_evt_ids'), 'evt_id', 'evt_name', 'Reaction')\n",
    "reactome_nodes = pd.concat([reactome_nodes, this_nodes], sort=False, ignore_index=True)\n",
    "reactome_evt_ids = reactome_nodes['id'].tolist()"
   ]
  },
  {
   "cell_type": "code",
   "execution_count": 89,
   "metadata": {},
   "outputs": [
    {
     "data": {
      "text/html": [
       "<div>\n",
       "<style scoped>\n",
       "    .dataframe tbody tr th:only-of-type {\n",
       "        vertical-align: middle;\n",
       "    }\n",
       "\n",
       "    .dataframe tbody tr th {\n",
       "        vertical-align: top;\n",
       "    }\n",
       "\n",
       "    .dataframe thead th {\n",
       "        text-align: right;\n",
       "    }\n",
       "</style>\n",
       "<table border=\"1\" class=\"dataframe\">\n",
       "  <thead>\n",
       "    <tr style=\"text-align: right;\">\n",
       "      <th></th>\n",
       "      <th>start_id</th>\n",
       "      <th>end_id</th>\n",
       "      <th>type</th>\n",
       "      <th>dsrc_type</th>\n",
       "    </tr>\n",
       "  </thead>\n",
       "  <tbody>\n",
       "    <tr>\n",
       "      <th>0</th>\n",
       "      <td>REACT:R-SCE-5333658</td>\n",
       "      <td>GO:0005765</td>\n",
       "      <td>part_of</td>\n",
       "      <td>curated</td>\n",
       "    </tr>\n",
       "    <tr>\n",
       "      <th>1</th>\n",
       "      <td>REACT:R-SPO-5333658</td>\n",
       "      <td>GO:0005765</td>\n",
       "      <td>part_of</td>\n",
       "      <td>curated</td>\n",
       "    </tr>\n",
       "    <tr>\n",
       "      <th>2</th>\n",
       "      <td>REACT:R-DDI-5333658</td>\n",
       "      <td>GO:0005765</td>\n",
       "      <td>part_of</td>\n",
       "      <td>curated</td>\n",
       "    </tr>\n",
       "    <tr>\n",
       "      <th>3</th>\n",
       "      <td>REACT:R-CEL-5333658</td>\n",
       "      <td>GO:0005765</td>\n",
       "      <td>part_of</td>\n",
       "      <td>curated</td>\n",
       "    </tr>\n",
       "    <tr>\n",
       "      <th>4</th>\n",
       "      <td>REACT:R-DME-5333658</td>\n",
       "      <td>GO:0005765</td>\n",
       "      <td>part_of</td>\n",
       "      <td>curated</td>\n",
       "    </tr>\n",
       "  </tbody>\n",
       "</table>\n",
       "</div>"
      ],
      "text/plain": [
       "              start_id      end_id     type dsrc_type\n",
       "0  REACT:R-SCE-5333658  GO:0005765  part_of   curated\n",
       "1  REACT:R-SPO-5333658  GO:0005765  part_of   curated\n",
       "2  REACT:R-DDI-5333658  GO:0005765  part_of   curated\n",
       "3  REACT:R-CEL-5333658  GO:0005765  part_of   curated\n",
       "4  REACT:R-DME-5333658  GO:0005765  part_of   curated"
      ]
     },
     "execution_count": 89,
     "metadata": {},
     "output_type": "execute_result"
    }
   ],
   "source": [
    "this_edge = process_edges(df, 'evt_id', 'go_id', 'part_of')\n",
    "this_edge['dsrc_type'] = 'curated'\n",
    "edges.append(this_edge)\n",
    "this_edge.head()"
   ]
  },
  {
   "cell_type": "markdown",
   "metadata": {},
   "source": [
    "### Next Query"
   ]
  },
  {
   "cell_type": "code",
   "execution_count": 90,
   "metadata": {},
   "outputs": [
    {
     "name": "stdout",
     "output_type": "stream",
     "text": [
      "evt_tax\n"
     ]
    },
    {
     "data": {
      "text/html": [
       "<div>\n",
       "<style scoped>\n",
       "    .dataframe tbody tr th:only-of-type {\n",
       "        vertical-align: middle;\n",
       "    }\n",
       "\n",
       "    .dataframe tbody tr th {\n",
       "        vertical-align: top;\n",
       "    }\n",
       "\n",
       "    .dataframe thead th {\n",
       "        text-align: right;\n",
       "    }\n",
       "</style>\n",
       "<table border=\"1\" class=\"dataframe\">\n",
       "  <thead>\n",
       "    <tr style=\"text-align: right;\">\n",
       "      <th></th>\n",
       "      <th>tax_id</th>\n",
       "      <th>tax_name</th>\n",
       "      <th>type</th>\n",
       "      <th>evt_id</th>\n",
       "      <th>evt_name</th>\n",
       "    </tr>\n",
       "  </thead>\n",
       "  <tbody>\n",
       "    <tr>\n",
       "      <th>0</th>\n",
       "      <td>NCBITaxon:9606</td>\n",
       "      <td>Homo sapiens</td>\n",
       "      <td>species</td>\n",
       "      <td>REACT:R-NUL-350375</td>\n",
       "      <td>Dvl2 binds to Daam1</td>\n",
       "    </tr>\n",
       "    <tr>\n",
       "      <th>1</th>\n",
       "      <td>NCBITaxon:9606</td>\n",
       "      <td>Homo sapiens</td>\n",
       "      <td>species</td>\n",
       "      <td>REACT:R-NUL-350485</td>\n",
       "      <td>RhoA:GTP binds to activated Daam1</td>\n",
       "    </tr>\n",
       "  </tbody>\n",
       "</table>\n",
       "</div>"
      ],
      "text/plain": [
       "           tax_id      tax_name     type              evt_id  \\\n",
       "0  NCBITaxon:9606  Homo sapiens  species  REACT:R-NUL-350375   \n",
       "1  NCBITaxon:9606  Homo sapiens  species  REACT:R-NUL-350485   \n",
       "\n",
       "                            evt_name  \n",
       "0                Dvl2 binds to Daam1  \n",
       "1  RhoA:GTP binds to activated Daam1  "
      ]
     },
     "execution_count": 90,
     "metadata": {},
     "output_type": "execute_result"
    }
   ],
   "source": [
    "edge_name = next(it_n)\n",
    "print(edge_name)\n",
    "df = edge_res[edge_name]\n",
    "df.head(2)"
   ]
  },
  {
   "cell_type": "code",
   "execution_count": 91,
   "metadata": {},
   "outputs": [],
   "source": [
    "nodes.append(process_nodes(df, 'tax_id', 'tax_name', 'Taxon'))"
   ]
  },
  {
   "cell_type": "code",
   "execution_count": 92,
   "metadata": {},
   "outputs": [
    {
     "data": {
      "text/plain": [
       "True"
      ]
     },
     "execution_count": 92,
     "metadata": {},
     "output_type": "execute_result"
    }
   ],
   "source": [
    "all_ids_in_react_nodes(df, 'evt_id')"
   ]
  },
  {
   "cell_type": "code",
   "execution_count": 93,
   "metadata": {},
   "outputs": [],
   "source": [
    "edges.append(process_edges(df, 'evt_id', 'tax_id', 'in_taxon'))"
   ]
  },
  {
   "cell_type": "markdown",
   "metadata": {},
   "source": [
    "### Next Query"
   ]
  },
  {
   "cell_type": "code",
   "execution_count": 94,
   "metadata": {},
   "outputs": [
    {
     "name": "stdout",
     "output_type": "stream",
     "text": [
      "pe_cc\n"
     ]
    },
    {
     "data": {
      "text/html": [
       "<div>\n",
       "<style scoped>\n",
       "    .dataframe tbody tr th:only-of-type {\n",
       "        vertical-align: middle;\n",
       "    }\n",
       "\n",
       "    .dataframe tbody tr th {\n",
       "        vertical-align: top;\n",
       "    }\n",
       "\n",
       "    .dataframe thead th {\n",
       "        text-align: right;\n",
       "    }\n",
       "</style>\n",
       "<table border=\"1\" class=\"dataframe\">\n",
       "  <thead>\n",
       "    <tr style=\"text-align: right;\">\n",
       "      <th></th>\n",
       "      <th>pe_id</th>\n",
       "      <th>pe_name</th>\n",
       "      <th>type</th>\n",
       "      <th>curi</th>\n",
       "      <th>go_id</th>\n",
       "      <th>go_name</th>\n",
       "    </tr>\n",
       "  </thead>\n",
       "  <tbody>\n",
       "    <tr>\n",
       "      <th>0</th>\n",
       "      <td>REACT:R-ALL-5334668</td>\n",
       "      <td>PI(3,5)P2 [lysosomal membrane]</td>\n",
       "      <td>compartment</td>\n",
       "      <td>GO</td>\n",
       "      <td>GO:0005765</td>\n",
       "      <td>lysosomal membrane</td>\n",
       "    </tr>\n",
       "    <tr>\n",
       "      <th>1</th>\n",
       "      <td>REACT:R-XTR-429825</td>\n",
       "      <td>BLOC-1 Complex [lysosomal membrane]</td>\n",
       "      <td>compartment</td>\n",
       "      <td>GO</td>\n",
       "      <td>GO:0005765</td>\n",
       "      <td>lysosomal membrane</td>\n",
       "    </tr>\n",
       "  </tbody>\n",
       "</table>\n",
       "</div>"
      ],
      "text/plain": [
       "                 pe_id                              pe_name         type curi  \\\n",
       "0  REACT:R-ALL-5334668       PI(3,5)P2 [lysosomal membrane]  compartment   GO   \n",
       "1   REACT:R-XTR-429825  BLOC-1 Complex [lysosomal membrane]  compartment   GO   \n",
       "\n",
       "        go_id             go_name  \n",
       "0  GO:0005765  lysosomal membrane  \n",
       "1  GO:0005765  lysosomal membrane  "
      ]
     },
     "execution_count": 94,
     "metadata": {},
     "output_type": "execute_result"
    }
   ],
   "source": [
    "edge_name = next(it_n)\n",
    "print(edge_name)\n",
    "df = edge_res[edge_name]\n",
    "df.head(2)"
   ]
  },
  {
   "cell_type": "code",
   "execution_count": 95,
   "metadata": {},
   "outputs": [],
   "source": [
    "this_df = prep_pe(df, 'pe_id')"
   ]
  },
  {
   "cell_type": "code",
   "execution_count": 96,
   "metadata": {},
   "outputs": [
    {
     "data": {
      "text/html": [
       "<div>\n",
       "<style scoped>\n",
       "    .dataframe tbody tr th:only-of-type {\n",
       "        vertical-align: middle;\n",
       "    }\n",
       "\n",
       "    .dataframe tbody tr th {\n",
       "        vertical-align: top;\n",
       "    }\n",
       "\n",
       "    .dataframe thead th {\n",
       "        text-align: right;\n",
       "    }\n",
       "</style>\n",
       "<table border=\"1\" class=\"dataframe\">\n",
       "  <thead>\n",
       "    <tr style=\"text-align: right;\">\n",
       "      <th></th>\n",
       "      <th>pe_id</th>\n",
       "      <th>pe_name</th>\n",
       "      <th>type</th>\n",
       "      <th>curi</th>\n",
       "      <th>go_id</th>\n",
       "      <th>go_name</th>\n",
       "      <th>pe_reactome_id</th>\n",
       "      <th>external_id</th>\n",
       "    </tr>\n",
       "  </thead>\n",
       "  <tbody>\n",
       "    <tr>\n",
       "      <th>0</th>\n",
       "      <td>REACT:R-ALL-5334668</td>\n",
       "      <td>PI(3,5)P2 [lysosomal membrane]</td>\n",
       "      <td>compartment</td>\n",
       "      <td>GO</td>\n",
       "      <td>GO:0005765</td>\n",
       "      <td>lysosomal membrane</td>\n",
       "      <td>REACT:R-ALL-5334668</td>\n",
       "      <td>CHEBI:16851</td>\n",
       "    </tr>\n",
       "    <tr>\n",
       "      <th>1</th>\n",
       "      <td>REACT:R-XTR-429825</td>\n",
       "      <td>BLOC-1 Complex [lysosomal membrane]</td>\n",
       "      <td>compartment</td>\n",
       "      <td>GO</td>\n",
       "      <td>GO:0005765</td>\n",
       "      <td>lysosomal membrane</td>\n",
       "      <td>NaN</td>\n",
       "      <td>REACT:R-XTR-429825</td>\n",
       "    </tr>\n",
       "  </tbody>\n",
       "</table>\n",
       "</div>"
      ],
      "text/plain": [
       "                 pe_id                              pe_name         type curi  \\\n",
       "0  REACT:R-ALL-5334668       PI(3,5)P2 [lysosomal membrane]  compartment   GO   \n",
       "1   REACT:R-XTR-429825  BLOC-1 Complex [lysosomal membrane]  compartment   GO   \n",
       "\n",
       "        go_id             go_name       pe_reactome_id         external_id  \n",
       "0  GO:0005765  lysosomal membrane  REACT:R-ALL-5334668         CHEBI:16851  \n",
       "1  GO:0005765  lysosomal membrane                  NaN  REACT:R-XTR-429825  "
      ]
     },
     "execution_count": 96,
     "metadata": {},
     "output_type": "execute_result"
    }
   ],
   "source": [
    "this_df.head(2)"
   ]
  },
  {
   "cell_type": "code",
   "execution_count": 97,
   "metadata": {},
   "outputs": [],
   "source": [
    "nodes.append(process_nodes(this_df, 'go_id', 'go_name', 'Cellular Component'))"
   ]
  },
  {
   "cell_type": "code",
   "execution_count": 98,
   "metadata": {},
   "outputs": [],
   "source": [
    "this_edge = process_edges(this_df, 'external_id', 'go_id', 'part_of')\n",
    "this_edge['dsrc_type'] = 'curated'\n",
    "edges.append(this_edge)"
   ]
  },
  {
   "cell_type": "markdown",
   "metadata": {},
   "source": [
    "### Next Query"
   ]
  },
  {
   "cell_type": "code",
   "execution_count": 99,
   "metadata": {},
   "outputs": [
    {
     "name": "stdout",
     "output_type": "stream",
     "text": [
      "pe_tax\n"
     ]
    },
    {
     "data": {
      "text/html": [
       "<div>\n",
       "<style scoped>\n",
       "    .dataframe tbody tr th:only-of-type {\n",
       "        vertical-align: middle;\n",
       "    }\n",
       "\n",
       "    .dataframe tbody tr th {\n",
       "        vertical-align: top;\n",
       "    }\n",
       "\n",
       "    .dataframe thead th {\n",
       "        text-align: right;\n",
       "    }\n",
       "</style>\n",
       "<table border=\"1\" class=\"dataframe\">\n",
       "  <thead>\n",
       "    <tr style=\"text-align: right;\">\n",
       "      <th></th>\n",
       "      <th>tax_id</th>\n",
       "      <th>tax_name</th>\n",
       "      <th>type</th>\n",
       "      <th>pe_id</th>\n",
       "      <th>pe_name</th>\n",
       "    </tr>\n",
       "  </thead>\n",
       "  <tbody>\n",
       "    <tr>\n",
       "      <th>0</th>\n",
       "      <td>NCBITaxon:9606</td>\n",
       "      <td>Homo sapiens</td>\n",
       "      <td>species</td>\n",
       "      <td>REACT:R-NUL-351080</td>\n",
       "      <td>Fz1:Dvl2:Daam1:RhoA:GTP [plasma membrane]</td>\n",
       "    </tr>\n",
       "    <tr>\n",
       "      <th>1</th>\n",
       "      <td>NCBITaxon:9606</td>\n",
       "      <td>Homo sapiens</td>\n",
       "      <td>species</td>\n",
       "      <td>REACT:R-NUL-351023</td>\n",
       "      <td>Fz1:Dvl2:Daam1 [plasma membrane]</td>\n",
       "    </tr>\n",
       "  </tbody>\n",
       "</table>\n",
       "</div>"
      ],
      "text/plain": [
       "           tax_id      tax_name     type               pe_id  \\\n",
       "0  NCBITaxon:9606  Homo sapiens  species  REACT:R-NUL-351080   \n",
       "1  NCBITaxon:9606  Homo sapiens  species  REACT:R-NUL-351023   \n",
       "\n",
       "                                     pe_name  \n",
       "0  Fz1:Dvl2:Daam1:RhoA:GTP [plasma membrane]  \n",
       "1           Fz1:Dvl2:Daam1 [plasma membrane]  "
      ]
     },
     "execution_count": 99,
     "metadata": {},
     "output_type": "execute_result"
    }
   ],
   "source": [
    "edge_name = next(it_n)\n",
    "print(edge_name)\n",
    "df = edge_res[edge_name]\n",
    "df.head(2)"
   ]
  },
  {
   "cell_type": "code",
   "execution_count": 100,
   "metadata": {},
   "outputs": [
    {
     "data": {
      "text/html": [
       "<div>\n",
       "<style scoped>\n",
       "    .dataframe tbody tr th:only-of-type {\n",
       "        vertical-align: middle;\n",
       "    }\n",
       "\n",
       "    .dataframe tbody tr th {\n",
       "        vertical-align: top;\n",
       "    }\n",
       "\n",
       "    .dataframe thead th {\n",
       "        text-align: right;\n",
       "    }\n",
       "</style>\n",
       "<table border=\"1\" class=\"dataframe\">\n",
       "  <thead>\n",
       "    <tr style=\"text-align: right;\">\n",
       "      <th></th>\n",
       "      <th>tax_id</th>\n",
       "      <th>tax_name</th>\n",
       "      <th>type</th>\n",
       "      <th>pe_id</th>\n",
       "      <th>pe_name</th>\n",
       "      <th>pe_reactome_id</th>\n",
       "      <th>external_id</th>\n",
       "    </tr>\n",
       "  </thead>\n",
       "  <tbody>\n",
       "    <tr>\n",
       "      <th>0</th>\n",
       "      <td>NCBITaxon:9606</td>\n",
       "      <td>Homo sapiens</td>\n",
       "      <td>species</td>\n",
       "      <td>REACT:R-NUL-351080</td>\n",
       "      <td>Fz1:Dvl2:Daam1:RhoA:GTP [plasma membrane]</td>\n",
       "      <td>NaN</td>\n",
       "      <td>REACT:R-NUL-351080</td>\n",
       "    </tr>\n",
       "    <tr>\n",
       "      <th>1</th>\n",
       "      <td>NCBITaxon:9606</td>\n",
       "      <td>Homo sapiens</td>\n",
       "      <td>species</td>\n",
       "      <td>REACT:R-NUL-351023</td>\n",
       "      <td>Fz1:Dvl2:Daam1 [plasma membrane]</td>\n",
       "      <td>NaN</td>\n",
       "      <td>REACT:R-NUL-351023</td>\n",
       "    </tr>\n",
       "  </tbody>\n",
       "</table>\n",
       "</div>"
      ],
      "text/plain": [
       "           tax_id      tax_name     type               pe_id  \\\n",
       "0  NCBITaxon:9606  Homo sapiens  species  REACT:R-NUL-351080   \n",
       "1  NCBITaxon:9606  Homo sapiens  species  REACT:R-NUL-351023   \n",
       "\n",
       "                                     pe_name pe_reactome_id  \\\n",
       "0  Fz1:Dvl2:Daam1:RhoA:GTP [plasma membrane]            NaN   \n",
       "1           Fz1:Dvl2:Daam1 [plasma membrane]            NaN   \n",
       "\n",
       "          external_id  \n",
       "0  REACT:R-NUL-351080  \n",
       "1  REACT:R-NUL-351023  "
      ]
     },
     "execution_count": 100,
     "metadata": {},
     "output_type": "execute_result"
    }
   ],
   "source": [
    "pe = prep_pe(df, 'pe_id')\n",
    "pe.head(2)"
   ]
  },
  {
   "cell_type": "code",
   "execution_count": 101,
   "metadata": {},
   "outputs": [
    {
     "data": {
      "text/html": [
       "<div>\n",
       "<style scoped>\n",
       "    .dataframe tbody tr th:only-of-type {\n",
       "        vertical-align: middle;\n",
       "    }\n",
       "\n",
       "    .dataframe tbody tr th {\n",
       "        vertical-align: top;\n",
       "    }\n",
       "\n",
       "    .dataframe thead th {\n",
       "        text-align: right;\n",
       "    }\n",
       "</style>\n",
       "<table border=\"1\" class=\"dataframe\">\n",
       "  <thead>\n",
       "    <tr style=\"text-align: right;\">\n",
       "      <th></th>\n",
       "      <th>id</th>\n",
       "      <th>name</th>\n",
       "      <th>label</th>\n",
       "    </tr>\n",
       "  </thead>\n",
       "  <tbody>\n",
       "    <tr>\n",
       "      <th>0</th>\n",
       "      <td>NCBITaxon:9606</td>\n",
       "      <td>Homo sapiens</td>\n",
       "      <td>Taxon</td>\n",
       "    </tr>\n",
       "    <tr>\n",
       "      <th>1</th>\n",
       "      <td>NCBITaxon:10116</td>\n",
       "      <td>Rattus norvegicus</td>\n",
       "      <td>Taxon</td>\n",
       "    </tr>\n",
       "    <tr>\n",
       "      <th>2</th>\n",
       "      <td>NCBITaxon:9615</td>\n",
       "      <td>Canis familiaris</td>\n",
       "      <td>Taxon</td>\n",
       "    </tr>\n",
       "    <tr>\n",
       "      <th>3</th>\n",
       "      <td>NCBITaxon:4896</td>\n",
       "      <td>Schizosaccharomyces pombe</td>\n",
       "      <td>Taxon</td>\n",
       "    </tr>\n",
       "    <tr>\n",
       "      <th>4</th>\n",
       "      <td>NCBITaxon:4932</td>\n",
       "      <td>Saccharomyces cerevisiae</td>\n",
       "      <td>Taxon</td>\n",
       "    </tr>\n",
       "  </tbody>\n",
       "</table>\n",
       "</div>"
      ],
      "text/plain": [
       "                id                       name  label\n",
       "0   NCBITaxon:9606               Homo sapiens  Taxon\n",
       "1  NCBITaxon:10116          Rattus norvegicus  Taxon\n",
       "2   NCBITaxon:9615           Canis familiaris  Taxon\n",
       "3   NCBITaxon:4896  Schizosaccharomyces pombe  Taxon\n",
       "4   NCBITaxon:4932   Saccharomyces cerevisiae  Taxon"
      ]
     },
     "execution_count": 101,
     "metadata": {},
     "output_type": "execute_result"
    }
   ],
   "source": [
    "nodes.append(process_nodes(pe, 'tax_id', 'tax_name', 'Taxon'))\n",
    "nodes[-1].head(5)"
   ]
  },
  {
   "cell_type": "code",
   "execution_count": 102,
   "metadata": {},
   "outputs": [],
   "source": [
    "this_edge = process_edges(pe, 'external_id', 'tax_id', 'in_taxon')\n",
    "this_edge['dsrc_type'] = 'curated'\n",
    "edges.append(this_edge)"
   ]
  },
  {
   "cell_type": "markdown",
   "metadata": {},
   "source": [
    "### Next Query"
   ]
  },
  {
   "cell_type": "code",
   "execution_count": 103,
   "metadata": {},
   "outputs": [
    {
     "name": "stdout",
     "output_type": "stream",
     "text": [
      "pw_aw_dis\n"
     ]
    },
    {
     "data": {
      "text/html": [
       "<div>\n",
       "<style scoped>\n",
       "    .dataframe tbody tr th:only-of-type {\n",
       "        vertical-align: middle;\n",
       "    }\n",
       "\n",
       "    .dataframe tbody tr th {\n",
       "        vertical-align: top;\n",
       "    }\n",
       "\n",
       "    .dataframe thead th {\n",
       "        text-align: right;\n",
       "    }\n",
       "</style>\n",
       "<table border=\"1\" class=\"dataframe\">\n",
       "  <thead>\n",
       "    <tr style=\"text-align: right;\">\n",
       "      <th></th>\n",
       "      <th>pw_id</th>\n",
       "      <th>pw_name</th>\n",
       "      <th>type</th>\n",
       "      <th>curi</th>\n",
       "      <th>do_id</th>\n",
       "      <th>do_name</th>\n",
       "    </tr>\n",
       "  </thead>\n",
       "  <tbody>\n",
       "    <tr>\n",
       "      <th>0</th>\n",
       "      <td>REACT:R-HSA-9605308</td>\n",
       "      <td>Diseases of Base Excision Repair</td>\n",
       "      <td>associated_with</td>\n",
       "      <td>DOID</td>\n",
       "      <td>DOID:162</td>\n",
       "      <td>cancer</td>\n",
       "    </tr>\n",
       "    <tr>\n",
       "      <th>1</th>\n",
       "      <td>REACT:R-HSA-9616333</td>\n",
       "      <td>Defective Base Excision Repair Associated with...</td>\n",
       "      <td>associated_with</td>\n",
       "      <td>DOID</td>\n",
       "      <td>DOID:162</td>\n",
       "      <td>cancer</td>\n",
       "    </tr>\n",
       "  </tbody>\n",
       "</table>\n",
       "</div>"
      ],
      "text/plain": [
       "                 pw_id                                            pw_name  \\\n",
       "0  REACT:R-HSA-9605308                   Diseases of Base Excision Repair   \n",
       "1  REACT:R-HSA-9616333  Defective Base Excision Repair Associated with...   \n",
       "\n",
       "              type  curi     do_id do_name  \n",
       "0  associated_with  DOID  DOID:162  cancer  \n",
       "1  associated_with  DOID  DOID:162  cancer  "
      ]
     },
     "execution_count": 103,
     "metadata": {},
     "output_type": "execute_result"
    }
   ],
   "source": [
    "edge_name = next(it_n)\n",
    "print(edge_name)\n",
    "df = edge_res[edge_name]\n",
    "df.head(2)"
   ]
  },
  {
   "cell_type": "code",
   "execution_count": 104,
   "metadata": {},
   "outputs": [
    {
     "data": {
      "text/html": [
       "<div>\n",
       "<style scoped>\n",
       "    .dataframe tbody tr th:only-of-type {\n",
       "        vertical-align: middle;\n",
       "    }\n",
       "\n",
       "    .dataframe tbody tr th {\n",
       "        vertical-align: top;\n",
       "    }\n",
       "\n",
       "    .dataframe thead th {\n",
       "        text-align: right;\n",
       "    }\n",
       "</style>\n",
       "<table border=\"1\" class=\"dataframe\">\n",
       "  <thead>\n",
       "    <tr style=\"text-align: right;\">\n",
       "      <th></th>\n",
       "      <th>id</th>\n",
       "      <th>name</th>\n",
       "      <th>label</th>\n",
       "    </tr>\n",
       "  </thead>\n",
       "  <tbody>\n",
       "    <tr>\n",
       "      <th>0</th>\n",
       "      <td>DOID:162</td>\n",
       "      <td>cancer</td>\n",
       "      <td>Disease</td>\n",
       "    </tr>\n",
       "    <tr>\n",
       "      <th>1</th>\n",
       "      <td>DOID:1612</td>\n",
       "      <td>breast cancer</td>\n",
       "      <td>Disease</td>\n",
       "    </tr>\n",
       "    <tr>\n",
       "      <th>2</th>\n",
       "      <td>DOID:3247</td>\n",
       "      <td>rhabdomyosarcoma</td>\n",
       "      <td>Disease</td>\n",
       "    </tr>\n",
       "    <tr>\n",
       "      <th>3</th>\n",
       "      <td>DOID:10652</td>\n",
       "      <td>Alzheimer's disease</td>\n",
       "      <td>Disease</td>\n",
       "    </tr>\n",
       "    <tr>\n",
       "      <th>4</th>\n",
       "      <td>DOID:1686</td>\n",
       "      <td>glaucoma</td>\n",
       "      <td>Disease</td>\n",
       "    </tr>\n",
       "  </tbody>\n",
       "</table>\n",
       "</div>"
      ],
      "text/plain": [
       "           id                 name    label\n",
       "0    DOID:162               cancer  Disease\n",
       "1   DOID:1612        breast cancer  Disease\n",
       "2   DOID:3247     rhabdomyosarcoma  Disease\n",
       "3  DOID:10652  Alzheimer's disease  Disease\n",
       "4   DOID:1686             glaucoma  Disease"
      ]
     },
     "execution_count": 104,
     "metadata": {},
     "output_type": "execute_result"
    }
   ],
   "source": [
    "nodes.append(process_nodes(df, 'do_id', 'do_name', 'Disease'))\n",
    "nodes[-1].head()"
   ]
  },
  {
   "cell_type": "code",
   "execution_count": 105,
   "metadata": {},
   "outputs": [
    {
     "data": {
      "text/plain": [
       "True"
      ]
     },
     "execution_count": 105,
     "metadata": {},
     "output_type": "execute_result"
    }
   ],
   "source": [
    "all_ids_in_react_nodes(df, 'pw_id')"
   ]
  },
  {
   "cell_type": "code",
   "execution_count": 106,
   "metadata": {},
   "outputs": [
    {
     "data": {
      "text/html": [
       "<div>\n",
       "<style scoped>\n",
       "    .dataframe tbody tr th:only-of-type {\n",
       "        vertical-align: middle;\n",
       "    }\n",
       "\n",
       "    .dataframe tbody tr th {\n",
       "        vertical-align: top;\n",
       "    }\n",
       "\n",
       "    .dataframe thead th {\n",
       "        text-align: right;\n",
       "    }\n",
       "</style>\n",
       "<table border=\"1\" class=\"dataframe\">\n",
       "  <thead>\n",
       "    <tr style=\"text-align: right;\">\n",
       "      <th></th>\n",
       "      <th>start_id</th>\n",
       "      <th>end_id</th>\n",
       "      <th>type</th>\n",
       "      <th>dsrc_type</th>\n",
       "    </tr>\n",
       "  </thead>\n",
       "  <tbody>\n",
       "    <tr>\n",
       "      <th>0</th>\n",
       "      <td>REACT:R-HSA-9605308</td>\n",
       "      <td>DOID:162</td>\n",
       "      <td>associated_with</td>\n",
       "      <td>curated</td>\n",
       "    </tr>\n",
       "    <tr>\n",
       "      <th>1</th>\n",
       "      <td>REACT:R-HSA-9616333</td>\n",
       "      <td>DOID:162</td>\n",
       "      <td>associated_with</td>\n",
       "      <td>curated</td>\n",
       "    </tr>\n",
       "    <tr>\n",
       "      <th>2</th>\n",
       "      <td>REACT:R-HSA-9630221</td>\n",
       "      <td>DOID:162</td>\n",
       "      <td>associated_with</td>\n",
       "      <td>curated</td>\n",
       "    </tr>\n",
       "    <tr>\n",
       "      <th>3</th>\n",
       "      <td>REACT:R-HSA-9630222</td>\n",
       "      <td>DOID:162</td>\n",
       "      <td>associated_with</td>\n",
       "      <td>curated</td>\n",
       "    </tr>\n",
       "    <tr>\n",
       "      <th>4</th>\n",
       "      <td>REACT:R-HSA-9616334</td>\n",
       "      <td>DOID:162</td>\n",
       "      <td>associated_with</td>\n",
       "      <td>curated</td>\n",
       "    </tr>\n",
       "  </tbody>\n",
       "</table>\n",
       "</div>"
      ],
      "text/plain": [
       "              start_id    end_id             type dsrc_type\n",
       "0  REACT:R-HSA-9605308  DOID:162  associated_with   curated\n",
       "1  REACT:R-HSA-9616333  DOID:162  associated_with   curated\n",
       "2  REACT:R-HSA-9630221  DOID:162  associated_with   curated\n",
       "3  REACT:R-HSA-9630222  DOID:162  associated_with   curated\n",
       "4  REACT:R-HSA-9616334  DOID:162  associated_with   curated"
      ]
     },
     "execution_count": 106,
     "metadata": {},
     "output_type": "execute_result"
    }
   ],
   "source": [
    "this_edge = process_edges(df, 'pw_id', 'do_id', 'type')\n",
    "this_edge['dsrc_type'] = 'curated'\n",
    "edges.append(this_edge)\n",
    "edges[-1].head()"
   ]
  },
  {
   "cell_type": "markdown",
   "metadata": {},
   "source": [
    "### Next Query"
   ]
  },
  {
   "cell_type": "code",
   "execution_count": 107,
   "metadata": {},
   "outputs": [
    {
     "name": "stdout",
     "output_type": "stream",
     "text": [
      "pw_di_dis\n"
     ]
    },
    {
     "data": {
      "text/html": [
       "<div>\n",
       "<style scoped>\n",
       "    .dataframe tbody tr th:only-of-type {\n",
       "        vertical-align: middle;\n",
       "    }\n",
       "\n",
       "    .dataframe tbody tr th {\n",
       "        vertical-align: top;\n",
       "    }\n",
       "\n",
       "    .dataframe thead th {\n",
       "        text-align: right;\n",
       "    }\n",
       "</style>\n",
       "<table border=\"1\" class=\"dataframe\">\n",
       "  <thead>\n",
       "    <tr style=\"text-align: right;\">\n",
       "      <th></th>\n",
       "      <th>pw_id</th>\n",
       "      <th>pw_name</th>\n",
       "      <th>type</th>\n",
       "      <th>dpw_id</th>\n",
       "      <th>dpw_name</th>\n",
       "      <th>type2</th>\n",
       "      <th>curi</th>\n",
       "      <th>do_id</th>\n",
       "      <th>do_name</th>\n",
       "    </tr>\n",
       "  </thead>\n",
       "  <tbody>\n",
       "    <tr>\n",
       "      <th>0</th>\n",
       "      <td>REACT:R-HSA-73929</td>\n",
       "      <td>Base-Excision Repair, AP Site Formation</td>\n",
       "      <td>disrupted_in</td>\n",
       "      <td>REACT:R-HSA-9630221</td>\n",
       "      <td>Defective NTHL1 substrate processing</td>\n",
       "      <td>disease</td>\n",
       "      <td>DOID</td>\n",
       "      <td>DOID:162</td>\n",
       "      <td>cancer</td>\n",
       "    </tr>\n",
       "    <tr>\n",
       "      <th>1</th>\n",
       "      <td>REACT:R-HSA-73929</td>\n",
       "      <td>Base-Excision Repair, AP Site Formation</td>\n",
       "      <td>disrupted_in</td>\n",
       "      <td>REACT:R-HSA-9630222</td>\n",
       "      <td>Defective NTHL1 substrate binding</td>\n",
       "      <td>disease</td>\n",
       "      <td>DOID</td>\n",
       "      <td>DOID:162</td>\n",
       "      <td>cancer</td>\n",
       "    </tr>\n",
       "  </tbody>\n",
       "</table>\n",
       "</div>"
      ],
      "text/plain": [
       "               pw_id                                  pw_name          type  \\\n",
       "0  REACT:R-HSA-73929  Base-Excision Repair, AP Site Formation  disrupted_in   \n",
       "1  REACT:R-HSA-73929  Base-Excision Repair, AP Site Formation  disrupted_in   \n",
       "\n",
       "                dpw_id                              dpw_name    type2  curi  \\\n",
       "0  REACT:R-HSA-9630221  Defective NTHL1 substrate processing  disease  DOID   \n",
       "1  REACT:R-HSA-9630222     Defective NTHL1 substrate binding  disease  DOID   \n",
       "\n",
       "      do_id do_name  \n",
       "0  DOID:162  cancer  \n",
       "1  DOID:162  cancer  "
      ]
     },
     "execution_count": 107,
     "metadata": {},
     "output_type": "execute_result"
    }
   ],
   "source": [
    "edge_name = next(it_n)\n",
    "print(edge_name)\n",
    "df = edge_res[edge_name]\n",
    "df.head(2)"
   ]
  },
  {
   "cell_type": "code",
   "execution_count": 108,
   "metadata": {},
   "outputs": [
    {
     "data": {
      "text/html": [
       "<div>\n",
       "<style scoped>\n",
       "    .dataframe tbody tr th:only-of-type {\n",
       "        vertical-align: middle;\n",
       "    }\n",
       "\n",
       "    .dataframe tbody tr th {\n",
       "        vertical-align: top;\n",
       "    }\n",
       "\n",
       "    .dataframe thead th {\n",
       "        text-align: right;\n",
       "    }\n",
       "</style>\n",
       "<table border=\"1\" class=\"dataframe\">\n",
       "  <thead>\n",
       "    <tr style=\"text-align: right;\">\n",
       "      <th></th>\n",
       "      <th>id</th>\n",
       "      <th>name</th>\n",
       "      <th>label</th>\n",
       "    </tr>\n",
       "  </thead>\n",
       "  <tbody>\n",
       "    <tr>\n",
       "      <th>0</th>\n",
       "      <td>DOID:162</td>\n",
       "      <td>cancer</td>\n",
       "      <td>Disease</td>\n",
       "    </tr>\n",
       "    <tr>\n",
       "      <th>1</th>\n",
       "      <td>DOID:1612</td>\n",
       "      <td>breast cancer</td>\n",
       "      <td>Disease</td>\n",
       "    </tr>\n",
       "    <tr>\n",
       "      <th>2</th>\n",
       "      <td>DOID:3247</td>\n",
       "      <td>rhabdomyosarcoma</td>\n",
       "      <td>Disease</td>\n",
       "    </tr>\n",
       "    <tr>\n",
       "      <th>3</th>\n",
       "      <td>DOID:1686</td>\n",
       "      <td>glaucoma</td>\n",
       "      <td>Disease</td>\n",
       "    </tr>\n",
       "    <tr>\n",
       "      <th>4</th>\n",
       "      <td>DOID:9256</td>\n",
       "      <td>colorectal cancer</td>\n",
       "      <td>Disease</td>\n",
       "    </tr>\n",
       "  </tbody>\n",
       "</table>\n",
       "</div>"
      ],
      "text/plain": [
       "          id               name    label\n",
       "0   DOID:162             cancer  Disease\n",
       "1  DOID:1612      breast cancer  Disease\n",
       "2  DOID:3247   rhabdomyosarcoma  Disease\n",
       "3  DOID:1686           glaucoma  Disease\n",
       "4  DOID:9256  colorectal cancer  Disease"
      ]
     },
     "execution_count": 108,
     "metadata": {},
     "output_type": "execute_result"
    }
   ],
   "source": [
    "nodes.append(process_nodes(df, 'do_id', 'do_name', 'Disease'))\n",
    "nodes[-1].head()"
   ]
  },
  {
   "cell_type": "code",
   "execution_count": 109,
   "metadata": {},
   "outputs": [
    {
     "data": {
      "text/plain": [
       "True"
      ]
     },
     "execution_count": 109,
     "metadata": {},
     "output_type": "execute_result"
    }
   ],
   "source": [
    "all_ids_in_react_nodes(df, 'pw_id')"
   ]
  },
  {
   "cell_type": "code",
   "execution_count": 110,
   "metadata": {},
   "outputs": [
    {
     "data": {
      "text/html": [
       "<div>\n",
       "<style scoped>\n",
       "    .dataframe tbody tr th:only-of-type {\n",
       "        vertical-align: middle;\n",
       "    }\n",
       "\n",
       "    .dataframe tbody tr th {\n",
       "        vertical-align: top;\n",
       "    }\n",
       "\n",
       "    .dataframe thead th {\n",
       "        text-align: right;\n",
       "    }\n",
       "</style>\n",
       "<table border=\"1\" class=\"dataframe\">\n",
       "  <thead>\n",
       "    <tr style=\"text-align: right;\">\n",
       "      <th></th>\n",
       "      <th>start_id</th>\n",
       "      <th>end_id</th>\n",
       "      <th>type</th>\n",
       "      <th>dsrc_type</th>\n",
       "      <th>comp_type</th>\n",
       "    </tr>\n",
       "  </thead>\n",
       "  <tbody>\n",
       "    <tr>\n",
       "      <th>0</th>\n",
       "      <td>REACT:R-HSA-73929</td>\n",
       "      <td>DOID:162</td>\n",
       "      <td>disrupted_in</td>\n",
       "      <td>computed</td>\n",
       "      <td>punning</td>\n",
       "    </tr>\n",
       "    <tr>\n",
       "      <th>1</th>\n",
       "      <td>REACT:R-HSA-5358508</td>\n",
       "      <td>DOID:162</td>\n",
       "      <td>disrupted_in</td>\n",
       "      <td>computed</td>\n",
       "      <td>punning</td>\n",
       "    </tr>\n",
       "    <tr>\n",
       "      <th>2</th>\n",
       "      <td>REACT:R-HSA-2559585</td>\n",
       "      <td>DOID:162</td>\n",
       "      <td>disrupted_in</td>\n",
       "      <td>computed</td>\n",
       "      <td>punning</td>\n",
       "    </tr>\n",
       "    <tr>\n",
       "      <th>3</th>\n",
       "      <td>REACT:R-HSA-2559580</td>\n",
       "      <td>DOID:162</td>\n",
       "      <td>disrupted_in</td>\n",
       "      <td>computed</td>\n",
       "      <td>punning</td>\n",
       "    </tr>\n",
       "    <tr>\n",
       "      <th>4</th>\n",
       "      <td>REACT:R-HSA-109606</td>\n",
       "      <td>DOID:162</td>\n",
       "      <td>disrupted_in</td>\n",
       "      <td>computed</td>\n",
       "      <td>punning</td>\n",
       "    </tr>\n",
       "  </tbody>\n",
       "</table>\n",
       "</div>"
      ],
      "text/plain": [
       "              start_id    end_id          type dsrc_type comp_type\n",
       "0    REACT:R-HSA-73929  DOID:162  disrupted_in  computed   punning\n",
       "1  REACT:R-HSA-5358508  DOID:162  disrupted_in  computed   punning\n",
       "2  REACT:R-HSA-2559585  DOID:162  disrupted_in  computed   punning\n",
       "3  REACT:R-HSA-2559580  DOID:162  disrupted_in  computed   punning\n",
       "4   REACT:R-HSA-109606  DOID:162  disrupted_in  computed   punning"
      ]
     },
     "execution_count": 110,
     "metadata": {},
     "output_type": "execute_result"
    }
   ],
   "source": [
    "this_edge = process_edges(df, 'pw_id', 'do_id', 'type')\n",
    "this_edge['dsrc_type'] = 'computed'\n",
    "this_edge['comp_type'] = 'punning'\n",
    "edges.append(this_edge)\n",
    "edges[-1].head()"
   ]
  },
  {
   "cell_type": "markdown",
   "metadata": {},
   "source": [
    "### Next Query"
   ]
  },
  {
   "cell_type": "code",
   "execution_count": 111,
   "metadata": {},
   "outputs": [
    {
     "name": "stdout",
     "output_type": "stream",
     "text": [
      "pw_dpw\n"
     ]
    },
    {
     "data": {
      "text/html": [
       "<div>\n",
       "<style scoped>\n",
       "    .dataframe tbody tr th:only-of-type {\n",
       "        vertical-align: middle;\n",
       "    }\n",
       "\n",
       "    .dataframe tbody tr th {\n",
       "        vertical-align: top;\n",
       "    }\n",
       "\n",
       "    .dataframe thead th {\n",
       "        text-align: right;\n",
       "    }\n",
       "</style>\n",
       "<table border=\"1\" class=\"dataframe\">\n",
       "  <thead>\n",
       "    <tr style=\"text-align: right;\">\n",
       "      <th></th>\n",
       "      <th>dpw_id</th>\n",
       "      <th>dpw_name</th>\n",
       "      <th>type</th>\n",
       "      <th>pw_id</th>\n",
       "      <th>pw_name</th>\n",
       "    </tr>\n",
       "  </thead>\n",
       "  <tbody>\n",
       "    <tr>\n",
       "      <th>0</th>\n",
       "      <td>REACT:R-HSA-6802957</td>\n",
       "      <td>Oncogenic MAPK signaling</td>\n",
       "      <td>normalPathway</td>\n",
       "      <td>REACT:R-HSA-5673001</td>\n",
       "      <td>RAF/MAP kinase cascade</td>\n",
       "    </tr>\n",
       "    <tr>\n",
       "      <th>1</th>\n",
       "      <td>REACT:R-HSA-6802949</td>\n",
       "      <td>Signaling by RAS mutants</td>\n",
       "      <td>normalPathway</td>\n",
       "      <td>REACT:R-HSA-5673001</td>\n",
       "      <td>RAF/MAP kinase cascade</td>\n",
       "    </tr>\n",
       "  </tbody>\n",
       "</table>\n",
       "</div>"
      ],
      "text/plain": [
       "                dpw_id                  dpw_name           type  \\\n",
       "0  REACT:R-HSA-6802957  Oncogenic MAPK signaling  normalPathway   \n",
       "1  REACT:R-HSA-6802949  Signaling by RAS mutants  normalPathway   \n",
       "\n",
       "                 pw_id                 pw_name  \n",
       "0  REACT:R-HSA-5673001  RAF/MAP kinase cascade  \n",
       "1  REACT:R-HSA-5673001  RAF/MAP kinase cascade  "
      ]
     },
     "execution_count": 111,
     "metadata": {},
     "output_type": "execute_result"
    }
   ],
   "source": [
    "edge_name = next(it_n)\n",
    "print(edge_name)\n",
    "df = edge_res[edge_name]\n",
    "df.head(2)"
   ]
  },
  {
   "cell_type": "code",
   "execution_count": 112,
   "metadata": {},
   "outputs": [
    {
     "data": {
      "text/plain": [
       "True"
      ]
     },
     "execution_count": 112,
     "metadata": {},
     "output_type": "execute_result"
    }
   ],
   "source": [
    "all_ids_in_react_nodes(df, 'pw_id')"
   ]
  },
  {
   "cell_type": "code",
   "execution_count": 113,
   "metadata": {},
   "outputs": [
    {
     "data": {
      "text/plain": [
       "True"
      ]
     },
     "execution_count": 113,
     "metadata": {},
     "output_type": "execute_result"
    }
   ],
   "source": [
    "all_ids_in_react_nodes(df, 'dpw_id')"
   ]
  },
  {
   "cell_type": "code",
   "execution_count": 114,
   "metadata": {},
   "outputs": [
    {
     "data": {
      "text/html": [
       "<div>\n",
       "<style scoped>\n",
       "    .dataframe tbody tr th:only-of-type {\n",
       "        vertical-align: middle;\n",
       "    }\n",
       "\n",
       "    .dataframe tbody tr th {\n",
       "        vertical-align: top;\n",
       "    }\n",
       "\n",
       "    .dataframe thead th {\n",
       "        text-align: right;\n",
       "    }\n",
       "</style>\n",
       "<table border=\"1\" class=\"dataframe\">\n",
       "  <thead>\n",
       "    <tr style=\"text-align: right;\">\n",
       "      <th></th>\n",
       "      <th>start_id</th>\n",
       "      <th>end_id</th>\n",
       "      <th>type</th>\n",
       "      <th>dsrc_type</th>\n",
       "    </tr>\n",
       "  </thead>\n",
       "  <tbody>\n",
       "    <tr>\n",
       "      <th>0</th>\n",
       "      <td>REACT:R-HSA-6802957</td>\n",
       "      <td>REACT:R-HSA-5673001</td>\n",
       "      <td>disrupts</td>\n",
       "      <td>curated</td>\n",
       "    </tr>\n",
       "    <tr>\n",
       "      <th>1</th>\n",
       "      <td>REACT:R-HSA-6802949</td>\n",
       "      <td>REACT:R-HSA-5673001</td>\n",
       "      <td>disrupts</td>\n",
       "      <td>curated</td>\n",
       "    </tr>\n",
       "    <tr>\n",
       "      <th>2</th>\n",
       "      <td>REACT:R-HSA-9649913</td>\n",
       "      <td>REACT:R-HSA-5673001</td>\n",
       "      <td>disrupts</td>\n",
       "      <td>curated</td>\n",
       "    </tr>\n",
       "    <tr>\n",
       "      <th>3</th>\n",
       "      <td>REACT:R-HSA-9649948</td>\n",
       "      <td>REACT:R-HSA-5673001</td>\n",
       "      <td>disrupts</td>\n",
       "      <td>curated</td>\n",
       "    </tr>\n",
       "    <tr>\n",
       "      <th>4</th>\n",
       "      <td>REACT:R-HSA-6802948</td>\n",
       "      <td>REACT:R-HSA-5673001</td>\n",
       "      <td>disrupts</td>\n",
       "      <td>curated</td>\n",
       "    </tr>\n",
       "  </tbody>\n",
       "</table>\n",
       "</div>"
      ],
      "text/plain": [
       "              start_id               end_id      type dsrc_type\n",
       "0  REACT:R-HSA-6802957  REACT:R-HSA-5673001  disrupts   curated\n",
       "1  REACT:R-HSA-6802949  REACT:R-HSA-5673001  disrupts   curated\n",
       "2  REACT:R-HSA-9649913  REACT:R-HSA-5673001  disrupts   curated\n",
       "3  REACT:R-HSA-9649948  REACT:R-HSA-5673001  disrupts   curated\n",
       "4  REACT:R-HSA-6802948  REACT:R-HSA-5673001  disrupts   curated"
      ]
     },
     "execution_count": 114,
     "metadata": {},
     "output_type": "execute_result"
    }
   ],
   "source": [
    "this_edge = process_edges(df, 'dpw_id', 'pw_id', 'disrupts')\n",
    "this_edge['dsrc_type'] = 'curated'\n",
    "edges.append(this_edge)\n",
    "edges[-1].head()"
   ]
  },
  {
   "cell_type": "markdown",
   "metadata": {},
   "source": [
    "### Next Query"
   ]
  },
  {
   "cell_type": "code",
   "execution_count": 115,
   "metadata": {},
   "outputs": [
    {
     "name": "stdout",
     "output_type": "stream",
     "text": [
      "pw_rxn\n"
     ]
    },
    {
     "data": {
      "text/html": [
       "<div>\n",
       "<style scoped>\n",
       "    .dataframe tbody tr th:only-of-type {\n",
       "        vertical-align: middle;\n",
       "    }\n",
       "\n",
       "    .dataframe tbody tr th {\n",
       "        vertical-align: top;\n",
       "    }\n",
       "\n",
       "    .dataframe thead th {\n",
       "        text-align: right;\n",
       "    }\n",
       "</style>\n",
       "<table border=\"1\" class=\"dataframe\">\n",
       "  <thead>\n",
       "    <tr style=\"text-align: right;\">\n",
       "      <th></th>\n",
       "      <th>pw_id</th>\n",
       "      <th>pw_name</th>\n",
       "      <th>type</th>\n",
       "      <th>rxn_id</th>\n",
       "      <th>rxn_name</th>\n",
       "    </tr>\n",
       "  </thead>\n",
       "  <tbody>\n",
       "    <tr>\n",
       "      <th>0</th>\n",
       "      <td>REACT:R-HSA-9613829</td>\n",
       "      <td>Chaperone Mediated Autophagy</td>\n",
       "      <td>hasEvent</td>\n",
       "      <td>REACT:R-HSA-9626253</td>\n",
       "      <td>HSPA8 binds LAMP2a multimers</td>\n",
       "    </tr>\n",
       "    <tr>\n",
       "      <th>1</th>\n",
       "      <td>REACT:R-HSA-9613829</td>\n",
       "      <td>Chaperone Mediated Autophagy</td>\n",
       "      <td>hasEvent</td>\n",
       "      <td>REACT:R-HSA-9625197</td>\n",
       "      <td>GFAP binds LAMP2a multimer</td>\n",
       "    </tr>\n",
       "  </tbody>\n",
       "</table>\n",
       "</div>"
      ],
      "text/plain": [
       "                 pw_id                       pw_name      type  \\\n",
       "0  REACT:R-HSA-9613829  Chaperone Mediated Autophagy  hasEvent   \n",
       "1  REACT:R-HSA-9613829  Chaperone Mediated Autophagy  hasEvent   \n",
       "\n",
       "                rxn_id                      rxn_name  \n",
       "0  REACT:R-HSA-9626253  HSPA8 binds LAMP2a multimers  \n",
       "1  REACT:R-HSA-9625197    GFAP binds LAMP2a multimer  "
      ]
     },
     "execution_count": 115,
     "metadata": {},
     "output_type": "execute_result"
    }
   ],
   "source": [
    "edge_name = next(it_n)\n",
    "print(edge_name)\n",
    "df = edge_res[edge_name]\n",
    "df.head(2)"
   ]
  },
  {
   "cell_type": "code",
   "execution_count": 116,
   "metadata": {},
   "outputs": [
    {
     "data": {
      "text/plain": [
       "True"
      ]
     },
     "execution_count": 116,
     "metadata": {},
     "output_type": "execute_result"
    }
   ],
   "source": [
    "all_ids_in_react_nodes(df, 'pw_id') & all_ids_in_react_nodes(df, 'rxn_id')"
   ]
  },
  {
   "cell_type": "code",
   "execution_count": 117,
   "metadata": {},
   "outputs": [
    {
     "data": {
      "text/html": [
       "<div>\n",
       "<style scoped>\n",
       "    .dataframe tbody tr th:only-of-type {\n",
       "        vertical-align: middle;\n",
       "    }\n",
       "\n",
       "    .dataframe tbody tr th {\n",
       "        vertical-align: top;\n",
       "    }\n",
       "\n",
       "    .dataframe thead th {\n",
       "        text-align: right;\n",
       "    }\n",
       "</style>\n",
       "<table border=\"1\" class=\"dataframe\">\n",
       "  <thead>\n",
       "    <tr style=\"text-align: right;\">\n",
       "      <th></th>\n",
       "      <th>start_id</th>\n",
       "      <th>end_id</th>\n",
       "      <th>type</th>\n",
       "    </tr>\n",
       "  </thead>\n",
       "  <tbody>\n",
       "    <tr>\n",
       "      <th>0</th>\n",
       "      <td>REACT:R-HSA-9626253</td>\n",
       "      <td>REACT:R-HSA-9613829</td>\n",
       "      <td>part_of</td>\n",
       "    </tr>\n",
       "    <tr>\n",
       "      <th>1</th>\n",
       "      <td>REACT:R-HSA-9625197</td>\n",
       "      <td>REACT:R-HSA-9613829</td>\n",
       "      <td>part_of</td>\n",
       "    </tr>\n",
       "    <tr>\n",
       "      <th>2</th>\n",
       "      <td>REACT:R-HSA-9626060</td>\n",
       "      <td>REACT:R-HSA-9613829</td>\n",
       "      <td>part_of</td>\n",
       "    </tr>\n",
       "    <tr>\n",
       "      <th>3</th>\n",
       "      <td>REACT:R-HSA-9625196</td>\n",
       "      <td>REACT:R-HSA-9613829</td>\n",
       "      <td>part_of</td>\n",
       "    </tr>\n",
       "    <tr>\n",
       "      <th>4</th>\n",
       "      <td>REACT:R-HSA-9622831</td>\n",
       "      <td>REACT:R-HSA-9613829</td>\n",
       "      <td>part_of</td>\n",
       "    </tr>\n",
       "  </tbody>\n",
       "</table>\n",
       "</div>"
      ],
      "text/plain": [
       "              start_id               end_id     type\n",
       "0  REACT:R-HSA-9626253  REACT:R-HSA-9613829  part_of\n",
       "1  REACT:R-HSA-9625197  REACT:R-HSA-9613829  part_of\n",
       "2  REACT:R-HSA-9626060  REACT:R-HSA-9613829  part_of\n",
       "3  REACT:R-HSA-9625196  REACT:R-HSA-9613829  part_of\n",
       "4  REACT:R-HSA-9622831  REACT:R-HSA-9613829  part_of"
      ]
     },
     "execution_count": 117,
     "metadata": {},
     "output_type": "execute_result"
    }
   ],
   "source": [
    "edges.append(process_edges(df, 'rxn_id', 'pw_id', 'part_of'))\n",
    "edges[-1].head()"
   ]
  },
  {
   "cell_type": "markdown",
   "metadata": {},
   "source": [
    "### Next Query"
   ]
  },
  {
   "cell_type": "code",
   "execution_count": 118,
   "metadata": {},
   "outputs": [
    {
     "name": "stdout",
     "output_type": "stream",
     "text": [
      "reg_edge\n"
     ]
    },
    {
     "data": {
      "text/html": [
       "<div>\n",
       "<style scoped>\n",
       "    .dataframe tbody tr th:only-of-type {\n",
       "        vertical-align: middle;\n",
       "    }\n",
       "\n",
       "    .dataframe tbody tr th {\n",
       "        vertical-align: top;\n",
       "    }\n",
       "\n",
       "    .dataframe thead th {\n",
       "        text-align: right;\n",
       "    }\n",
       "</style>\n",
       "<table border=\"1\" class=\"dataframe\">\n",
       "  <thead>\n",
       "    <tr style=\"text-align: right;\">\n",
       "      <th></th>\n",
       "      <th>pe_id</th>\n",
       "      <th>pe_name</th>\n",
       "      <th>pe_label</th>\n",
       "      <th>type</th>\n",
       "      <th>evt_id</th>\n",
       "      <th>evt_name</th>\n",
       "      <th>evt_label</th>\n",
       "    </tr>\n",
       "  </thead>\n",
       "  <tbody>\n",
       "    <tr>\n",
       "      <th>0</th>\n",
       "      <td>REACT:R-HSA-917723</td>\n",
       "      <td>ESCRT-III [cytosol]</td>\n",
       "      <td>PhysicalEntity</td>\n",
       "      <td>PositiveRegulation</td>\n",
       "      <td>REACT:R-HSA-5682388</td>\n",
       "      <td>Autophagosome maturation</td>\n",
       "      <td>Event</td>\n",
       "    </tr>\n",
       "    <tr>\n",
       "      <th>1</th>\n",
       "      <td>REACT:R-HSA-5683632</td>\n",
       "      <td>UVRAG complex [cytosol]</td>\n",
       "      <td>PhysicalEntity</td>\n",
       "      <td>PositiveRegulation</td>\n",
       "      <td>REACT:R-HSA-5682388</td>\n",
       "      <td>Autophagosome maturation</td>\n",
       "      <td>Event</td>\n",
       "    </tr>\n",
       "  </tbody>\n",
       "</table>\n",
       "</div>"
      ],
      "text/plain": [
       "                 pe_id                  pe_name        pe_label  \\\n",
       "0   REACT:R-HSA-917723      ESCRT-III [cytosol]  PhysicalEntity   \n",
       "1  REACT:R-HSA-5683632  UVRAG complex [cytosol]  PhysicalEntity   \n",
       "\n",
       "                 type               evt_id                  evt_name evt_label  \n",
       "0  PositiveRegulation  REACT:R-HSA-5682388  Autophagosome maturation     Event  \n",
       "1  PositiveRegulation  REACT:R-HSA-5682388  Autophagosome maturation     Event  "
      ]
     },
     "execution_count": 118,
     "metadata": {},
     "output_type": "execute_result"
    }
   ],
   "source": [
    "edge_name = next(it_n)\n",
    "print(edge_name)\n",
    "df = edge_res[edge_name]\n",
    "df.head(2)"
   ]
  },
  {
   "cell_type": "code",
   "execution_count": 119,
   "metadata": {},
   "outputs": [],
   "source": [
    "prepped = prep_pe(df, 'pe_id')"
   ]
  },
  {
   "cell_type": "code",
   "execution_count": 120,
   "metadata": {},
   "outputs": [
    {
     "data": {
      "text/plain": [
       "True"
      ]
     },
     "execution_count": 120,
     "metadata": {},
     "output_type": "execute_result"
    }
   ],
   "source": [
    "all_ids_in_react_nodes(prepped, 'evt_id')"
   ]
  },
  {
   "cell_type": "code",
   "execution_count": 121,
   "metadata": {},
   "outputs": [],
   "source": [
    "reg_edges = process_edges(prepped, 'external_id', 'evt_id', 'type')"
   ]
  },
  {
   "cell_type": "code",
   "execution_count": 122,
   "metadata": {},
   "outputs": [],
   "source": [
    "reg_map = {'PositiveRegulation': 'positively_regulates', 'NegativeRegulation': 'negatively_regulates'}\n",
    "reg_edges['type'] = reg_edges['type'].map(reg_map)\n",
    "reg_edges['dsrc_type'] = 'curated'"
   ]
  },
  {
   "cell_type": "code",
   "execution_count": 123,
   "metadata": {},
   "outputs": [
    {
     "data": {
      "text/html": [
       "<div>\n",
       "<style scoped>\n",
       "    .dataframe tbody tr th:only-of-type {\n",
       "        vertical-align: middle;\n",
       "    }\n",
       "\n",
       "    .dataframe tbody tr th {\n",
       "        vertical-align: top;\n",
       "    }\n",
       "\n",
       "    .dataframe thead th {\n",
       "        text-align: right;\n",
       "    }\n",
       "</style>\n",
       "<table border=\"1\" class=\"dataframe\">\n",
       "  <thead>\n",
       "    <tr style=\"text-align: right;\">\n",
       "      <th></th>\n",
       "      <th>start_id</th>\n",
       "      <th>end_id</th>\n",
       "      <th>type</th>\n",
       "      <th>dsrc_type</th>\n",
       "    </tr>\n",
       "  </thead>\n",
       "  <tbody>\n",
       "    <tr>\n",
       "      <th>0</th>\n",
       "      <td>REACT:R-HSA-917723</td>\n",
       "      <td>REACT:R-HSA-5682388</td>\n",
       "      <td>positively_regulates</td>\n",
       "      <td>curated</td>\n",
       "    </tr>\n",
       "    <tr>\n",
       "      <th>1</th>\n",
       "      <td>REACT:R-HSA-5683632</td>\n",
       "      <td>REACT:R-HSA-5682388</td>\n",
       "      <td>positively_regulates</td>\n",
       "      <td>curated</td>\n",
       "    </tr>\n",
       "    <tr>\n",
       "      <th>2</th>\n",
       "      <td>REACT:R-MMU-5683632</td>\n",
       "      <td>REACT:R-MMU-5682388</td>\n",
       "      <td>positively_regulates</td>\n",
       "      <td>curated</td>\n",
       "    </tr>\n",
       "    <tr>\n",
       "      <th>3</th>\n",
       "      <td>REACT:R-MMU-917723</td>\n",
       "      <td>REACT:R-MMU-5682388</td>\n",
       "      <td>positively_regulates</td>\n",
       "      <td>curated</td>\n",
       "    </tr>\n",
       "    <tr>\n",
       "      <th>4</th>\n",
       "      <td>REACT:R-RNO-5683632</td>\n",
       "      <td>REACT:R-RNO-5682388</td>\n",
       "      <td>positively_regulates</td>\n",
       "      <td>curated</td>\n",
       "    </tr>\n",
       "  </tbody>\n",
       "</table>\n",
       "</div>"
      ],
      "text/plain": [
       "              start_id               end_id                  type dsrc_type\n",
       "0   REACT:R-HSA-917723  REACT:R-HSA-5682388  positively_regulates   curated\n",
       "1  REACT:R-HSA-5683632  REACT:R-HSA-5682388  positively_regulates   curated\n",
       "2  REACT:R-MMU-5683632  REACT:R-MMU-5682388  positively_regulates   curated\n",
       "3   REACT:R-MMU-917723  REACT:R-MMU-5682388  positively_regulates   curated\n",
       "4  REACT:R-RNO-5683632  REACT:R-RNO-5682388  positively_regulates   curated"
      ]
     },
     "execution_count": 123,
     "metadata": {},
     "output_type": "execute_result"
    }
   ],
   "source": [
    "edges.append(reg_edges)\n",
    "reg_edges.head()"
   ]
  },
  {
   "cell_type": "markdown",
   "metadata": {},
   "source": [
    "### Next Query"
   ]
  },
  {
   "cell_type": "code",
   "execution_count": 124,
   "metadata": {},
   "outputs": [
    {
     "name": "stdout",
     "output_type": "stream",
     "text": [
      "rxn_aw_dis\n"
     ]
    },
    {
     "data": {
      "text/html": [
       "<div>\n",
       "<style scoped>\n",
       "    .dataframe tbody tr th:only-of-type {\n",
       "        vertical-align: middle;\n",
       "    }\n",
       "\n",
       "    .dataframe tbody tr th {\n",
       "        vertical-align: top;\n",
       "    }\n",
       "\n",
       "    .dataframe thead th {\n",
       "        text-align: right;\n",
       "    }\n",
       "</style>\n",
       "<table border=\"1\" class=\"dataframe\">\n",
       "  <thead>\n",
       "    <tr style=\"text-align: right;\">\n",
       "      <th></th>\n",
       "      <th>rxn_id</th>\n",
       "      <th>rxn_name</th>\n",
       "      <th>type</th>\n",
       "      <th>curi</th>\n",
       "      <th>do_id</th>\n",
       "      <th>do_name</th>\n",
       "    </tr>\n",
       "  </thead>\n",
       "  <tbody>\n",
       "    <tr>\n",
       "      <th>0</th>\n",
       "      <td>REACT:R-HSA-2400009</td>\n",
       "      <td>PI3K inhibitors block PI3K catalytic activity</td>\n",
       "      <td>associated_with</td>\n",
       "      <td>DOID</td>\n",
       "      <td>DOID:162</td>\n",
       "      <td>cancer</td>\n",
       "    </tr>\n",
       "    <tr>\n",
       "      <th>1</th>\n",
       "      <td>REACT:R-HSA-2394007</td>\n",
       "      <td>PI3K gain of function mutants phosphorylate PI...</td>\n",
       "      <td>associated_with</td>\n",
       "      <td>DOID</td>\n",
       "      <td>DOID:162</td>\n",
       "      <td>cancer</td>\n",
       "    </tr>\n",
       "  </tbody>\n",
       "</table>\n",
       "</div>"
      ],
      "text/plain": [
       "                rxn_id                                           rxn_name  \\\n",
       "0  REACT:R-HSA-2400009      PI3K inhibitors block PI3K catalytic activity   \n",
       "1  REACT:R-HSA-2394007  PI3K gain of function mutants phosphorylate PI...   \n",
       "\n",
       "              type  curi     do_id do_name  \n",
       "0  associated_with  DOID  DOID:162  cancer  \n",
       "1  associated_with  DOID  DOID:162  cancer  "
      ]
     },
     "execution_count": 124,
     "metadata": {},
     "output_type": "execute_result"
    }
   ],
   "source": [
    "edge_name = next(it_n)\n",
    "print(edge_name)\n",
    "df = edge_res[edge_name]\n",
    "df.head(2)"
   ]
  },
  {
   "cell_type": "code",
   "execution_count": 125,
   "metadata": {},
   "outputs": [
    {
     "data": {
      "text/plain": [
       "True"
      ]
     },
     "execution_count": 125,
     "metadata": {},
     "output_type": "execute_result"
    }
   ],
   "source": [
    "all_ids_in_react_nodes(df, 'rxn_id')"
   ]
  },
  {
   "cell_type": "code",
   "execution_count": 126,
   "metadata": {},
   "outputs": [],
   "source": [
    "nodes.append(process_nodes(df, 'do_id', 'do_name', 'Disease'))"
   ]
  },
  {
   "cell_type": "code",
   "execution_count": 127,
   "metadata": {},
   "outputs": [],
   "source": [
    "this_edge = process_edges(df, 'rxn_id', 'do_id', 'type')\n",
    "this_edge['dsrc_type'] = 'curated'\n",
    "edges.append(this_edge)"
   ]
  },
  {
   "cell_type": "markdown",
   "metadata": {},
   "source": [
    "### Next Query"
   ]
  },
  {
   "cell_type": "code",
   "execution_count": 128,
   "metadata": {},
   "outputs": [
    {
     "name": "stdout",
     "output_type": "stream",
     "text": [
      "rxn_di_dis\n"
     ]
    },
    {
     "data": {
      "text/html": [
       "<div>\n",
       "<style scoped>\n",
       "    .dataframe tbody tr th:only-of-type {\n",
       "        vertical-align: middle;\n",
       "    }\n",
       "\n",
       "    .dataframe tbody tr th {\n",
       "        vertical-align: top;\n",
       "    }\n",
       "\n",
       "    .dataframe thead th {\n",
       "        text-align: right;\n",
       "    }\n",
       "</style>\n",
       "<table border=\"1\" class=\"dataframe\">\n",
       "  <thead>\n",
       "    <tr style=\"text-align: right;\">\n",
       "      <th></th>\n",
       "      <th>rxn_id</th>\n",
       "      <th>rxn_name</th>\n",
       "      <th>type</th>\n",
       "      <th>drxn_id</th>\n",
       "      <th>drxn_name</th>\n",
       "      <th>type2</th>\n",
       "      <th>curi</th>\n",
       "      <th>do_id</th>\n",
       "      <th>do_name</th>\n",
       "    </tr>\n",
       "  </thead>\n",
       "  <tbody>\n",
       "    <tr>\n",
       "      <th>0</th>\n",
       "      <td>REACT:R-HSA-5658435</td>\n",
       "      <td>RAS GAPs bind RAS:GTP</td>\n",
       "      <td>disrupted_in</td>\n",
       "      <td>REACT:RAS GAP mutants aren't stimulated by GAPs</td>\n",
       "      <td>R-HSA-9651280</td>\n",
       "      <td>disease</td>\n",
       "      <td>DOID</td>\n",
       "      <td>DOID:0060233</td>\n",
       "      <td>cardiofaciocutaneous syndrome</td>\n",
       "    </tr>\n",
       "    <tr>\n",
       "      <th>1</th>\n",
       "      <td>REACT:R-HSA-5658435</td>\n",
       "      <td>RAS GAPs bind RAS:GTP</td>\n",
       "      <td>disrupted_in</td>\n",
       "      <td>REACT:RAS GAP mutants aren't stimulated by GAPs</td>\n",
       "      <td>R-HSA-9651280</td>\n",
       "      <td>disease</td>\n",
       "      <td>DOID</td>\n",
       "      <td>DOID:162</td>\n",
       "      <td>cancer</td>\n",
       "    </tr>\n",
       "  </tbody>\n",
       "</table>\n",
       "</div>"
      ],
      "text/plain": [
       "                rxn_id               rxn_name          type  \\\n",
       "0  REACT:R-HSA-5658435  RAS GAPs bind RAS:GTP  disrupted_in   \n",
       "1  REACT:R-HSA-5658435  RAS GAPs bind RAS:GTP  disrupted_in   \n",
       "\n",
       "                                           drxn_id      drxn_name    type2  \\\n",
       "0  REACT:RAS GAP mutants aren't stimulated by GAPs  R-HSA-9651280  disease   \n",
       "1  REACT:RAS GAP mutants aren't stimulated by GAPs  R-HSA-9651280  disease   \n",
       "\n",
       "   curi         do_id                        do_name  \n",
       "0  DOID  DOID:0060233  cardiofaciocutaneous syndrome  \n",
       "1  DOID      DOID:162                         cancer  "
      ]
     },
     "execution_count": 128,
     "metadata": {},
     "output_type": "execute_result"
    }
   ],
   "source": [
    "edge_name = next(it_n)\n",
    "print(edge_name)\n",
    "df = edge_res[edge_name]\n",
    "df.head(2)"
   ]
  },
  {
   "cell_type": "code",
   "execution_count": 129,
   "metadata": {},
   "outputs": [
    {
     "data": {
      "text/plain": [
       "True"
      ]
     },
     "execution_count": 129,
     "metadata": {},
     "output_type": "execute_result"
    }
   ],
   "source": [
    "all_ids_in_react_nodes(df, 'rxn_id')"
   ]
  },
  {
   "cell_type": "code",
   "execution_count": 130,
   "metadata": {},
   "outputs": [],
   "source": [
    "nodes.append(process_nodes(df, 'do_id', 'do_name', 'Disease'))"
   ]
  },
  {
   "cell_type": "code",
   "execution_count": 131,
   "metadata": {},
   "outputs": [],
   "source": [
    "this_edge = process_edges(df, 'rxn_id', 'do_id', 'type')\n",
    "this_edge['dsrc_type'] = 'computed'\n",
    "this_edge['comp_type'] = 'punning'\n",
    "edges.append(this_edge)"
   ]
  },
  {
   "cell_type": "markdown",
   "metadata": {},
   "source": [
    "### Next Query"
   ]
  },
  {
   "cell_type": "code",
   "execution_count": 132,
   "metadata": {},
   "outputs": [
    {
     "name": "stdout",
     "output_type": "stream",
     "text": [
      "rxn_frxn\n"
     ]
    },
    {
     "data": {
      "text/html": [
       "<div>\n",
       "<style scoped>\n",
       "    .dataframe tbody tr th:only-of-type {\n",
       "        vertical-align: middle;\n",
       "    }\n",
       "\n",
       "    .dataframe tbody tr th {\n",
       "        vertical-align: top;\n",
       "    }\n",
       "\n",
       "    .dataframe thead th {\n",
       "        text-align: right;\n",
       "    }\n",
       "</style>\n",
       "<table border=\"1\" class=\"dataframe\">\n",
       "  <thead>\n",
       "    <tr style=\"text-align: right;\">\n",
       "      <th></th>\n",
       "      <th>frxn_id</th>\n",
       "      <th>frxn_name</th>\n",
       "      <th>type</th>\n",
       "      <th>rxn_id</th>\n",
       "      <th>rxn_name</th>\n",
       "    </tr>\n",
       "  </thead>\n",
       "  <tbody>\n",
       "    <tr>\n",
       "      <th>0</th>\n",
       "      <td>REACT:R-HSA-9651280</td>\n",
       "      <td>RAS GAP mutants aren't stimulated by GAPs</td>\n",
       "      <td>normalReaction</td>\n",
       "      <td>REACT:R-HSA-5658435</td>\n",
       "      <td>RAS GAPs bind RAS:GTP</td>\n",
       "    </tr>\n",
       "    <tr>\n",
       "      <th>1</th>\n",
       "      <td>REACT:R-HSA-6802837</td>\n",
       "      <td>Loss-of-function NF1 variants don't stimulate ...</td>\n",
       "      <td>normalReaction</td>\n",
       "      <td>REACT:R-HSA-5658435</td>\n",
       "      <td>RAS GAPs bind RAS:GTP</td>\n",
       "    </tr>\n",
       "  </tbody>\n",
       "</table>\n",
       "</div>"
      ],
      "text/plain": [
       "               frxn_id                                          frxn_name  \\\n",
       "0  REACT:R-HSA-9651280          RAS GAP mutants aren't stimulated by GAPs   \n",
       "1  REACT:R-HSA-6802837  Loss-of-function NF1 variants don't stimulate ...   \n",
       "\n",
       "             type               rxn_id               rxn_name  \n",
       "0  normalReaction  REACT:R-HSA-5658435  RAS GAPs bind RAS:GTP  \n",
       "1  normalReaction  REACT:R-HSA-5658435  RAS GAPs bind RAS:GTP  "
      ]
     },
     "execution_count": 132,
     "metadata": {},
     "output_type": "execute_result"
    }
   ],
   "source": [
    "edge_name = next(it_n)\n",
    "print(edge_name)\n",
    "df = edge_res[edge_name]\n",
    "df.head(2)"
   ]
  },
  {
   "cell_type": "code",
   "execution_count": 133,
   "metadata": {},
   "outputs": [
    {
     "data": {
      "text/plain": [
       "True"
      ]
     },
     "execution_count": 133,
     "metadata": {},
     "output_type": "execute_result"
    }
   ],
   "source": [
    "all_ids_in_react_nodes(df, 'rxn_id') & all_ids_in_react_nodes(df, 'frxn_id')"
   ]
  },
  {
   "cell_type": "code",
   "execution_count": 134,
   "metadata": {},
   "outputs": [],
   "source": [
    "this_edge = process_edges(df, 'frxn_id', 'rxn_id', 'disrupts')\n",
    "this_edge['dsrc_type'] = 'curated'\n",
    "edges.append(this_edge)"
   ]
  },
  {
   "cell_type": "markdown",
   "metadata": {},
   "source": [
    "### Next Query"
   ]
  },
  {
   "cell_type": "code",
   "execution_count": 135,
   "metadata": {},
   "outputs": [
    {
     "name": "stdout",
     "output_type": "stream",
     "text": [
      "rxn_p_rxn\n"
     ]
    },
    {
     "data": {
      "text/html": [
       "<div>\n",
       "<style scoped>\n",
       "    .dataframe tbody tr th:only-of-type {\n",
       "        vertical-align: middle;\n",
       "    }\n",
       "\n",
       "    .dataframe tbody tr th {\n",
       "        vertical-align: top;\n",
       "    }\n",
       "\n",
       "    .dataframe thead th {\n",
       "        text-align: right;\n",
       "    }\n",
       "</style>\n",
       "<table border=\"1\" class=\"dataframe\">\n",
       "  <thead>\n",
       "    <tr style=\"text-align: right;\">\n",
       "      <th></th>\n",
       "      <th>af_rxn_id</th>\n",
       "      <th>af_rxn_name</th>\n",
       "      <th>type</th>\n",
       "      <th>b4_rxn_id</th>\n",
       "      <th>b4_rxn_name</th>\n",
       "    </tr>\n",
       "  </thead>\n",
       "  <tbody>\n",
       "    <tr>\n",
       "      <th>0</th>\n",
       "      <td>REACT:R-HSA-9626034</td>\n",
       "      <td>EEF1A1 dissociates from p-GFAP</td>\n",
       "      <td>precedingEvent</td>\n",
       "      <td>REACT:R-HSA-9626046</td>\n",
       "      <td>p-GFAP binds EEF1A1</td>\n",
       "    </tr>\n",
       "    <tr>\n",
       "      <th>1</th>\n",
       "      <td>REACT:R-MMU-9626034</td>\n",
       "      <td>EEF1A1 dissociates from p-GFAP</td>\n",
       "      <td>precedingEvent</td>\n",
       "      <td>REACT:R-MMU-9626046</td>\n",
       "      <td>p-GFAP binds EEF1A1</td>\n",
       "    </tr>\n",
       "  </tbody>\n",
       "</table>\n",
       "</div>"
      ],
      "text/plain": [
       "             af_rxn_id                     af_rxn_name            type  \\\n",
       "0  REACT:R-HSA-9626034  EEF1A1 dissociates from p-GFAP  precedingEvent   \n",
       "1  REACT:R-MMU-9626034  EEF1A1 dissociates from p-GFAP  precedingEvent   \n",
       "\n",
       "             b4_rxn_id          b4_rxn_name  \n",
       "0  REACT:R-HSA-9626046  p-GFAP binds EEF1A1  \n",
       "1  REACT:R-MMU-9626046  p-GFAP binds EEF1A1  "
      ]
     },
     "execution_count": 135,
     "metadata": {},
     "output_type": "execute_result"
    }
   ],
   "source": [
    "edge_name = next(it_n)\n",
    "print(edge_name)\n",
    "df = edge_res[edge_name]\n",
    "df.head(2)"
   ]
  },
  {
   "cell_type": "code",
   "execution_count": 136,
   "metadata": {},
   "outputs": [
    {
     "data": {
      "text/plain": [
       "True"
      ]
     },
     "execution_count": 136,
     "metadata": {},
     "output_type": "execute_result"
    }
   ],
   "source": [
    "all_ids_in_react_nodes(df, 'af_rxn_id') & all_ids_in_react_nodes(df, 'b4_rxn_id')"
   ]
  },
  {
   "cell_type": "code",
   "execution_count": 137,
   "metadata": {},
   "outputs": [],
   "source": [
    "this_edge = process_edges(df, 'af_rxn_id', 'b4_rxn_id', 'follows_in_sequence')\n",
    "this_edge['dsrc_type'] = 'curated'\n",
    "edges.append(this_edge)"
   ]
  },
  {
   "cell_type": "markdown",
   "metadata": {},
   "source": [
    "### Next Query"
   ]
  },
  {
   "cell_type": "code",
   "execution_count": 138,
   "metadata": {},
   "outputs": [
    {
     "name": "stdout",
     "output_type": "stream",
     "text": [
      "rxn_pe\n"
     ]
    },
    {
     "data": {
      "text/html": [
       "<div>\n",
       "<style scoped>\n",
       "    .dataframe tbody tr th:only-of-type {\n",
       "        vertical-align: middle;\n",
       "    }\n",
       "\n",
       "    .dataframe tbody tr th {\n",
       "        vertical-align: top;\n",
       "    }\n",
       "\n",
       "    .dataframe thead th {\n",
       "        text-align: right;\n",
       "    }\n",
       "</style>\n",
       "<table border=\"1\" class=\"dataframe\">\n",
       "  <thead>\n",
       "    <tr style=\"text-align: right;\">\n",
       "      <th></th>\n",
       "      <th>rxn_id</th>\n",
       "      <th>rxn_name</th>\n",
       "      <th>type</th>\n",
       "      <th>pe_id</th>\n",
       "      <th>pe_name</th>\n",
       "    </tr>\n",
       "  </thead>\n",
       "  <tbody>\n",
       "    <tr>\n",
       "      <th>0</th>\n",
       "      <td>REACT:R-HSA-9626034</td>\n",
       "      <td>EEF1A1 dissociates from p-GFAP</td>\n",
       "      <td>output</td>\n",
       "      <td>REACT:R-HSA-9626022</td>\n",
       "      <td>EEF1A1 [lysosomal membrane]</td>\n",
       "    </tr>\n",
       "    <tr>\n",
       "      <th>1</th>\n",
       "      <td>REACT:R-HSA-9626034</td>\n",
       "      <td>EEF1A1 dissociates from p-GFAP</td>\n",
       "      <td>output</td>\n",
       "      <td>REACT:R-HSA-9626054</td>\n",
       "      <td>p-GFAP [lysosomal membrane]</td>\n",
       "    </tr>\n",
       "  </tbody>\n",
       "</table>\n",
       "</div>"
      ],
      "text/plain": [
       "                rxn_id                        rxn_name    type  \\\n",
       "0  REACT:R-HSA-9626034  EEF1A1 dissociates from p-GFAP  output   \n",
       "1  REACT:R-HSA-9626034  EEF1A1 dissociates from p-GFAP  output   \n",
       "\n",
       "                 pe_id                      pe_name  \n",
       "0  REACT:R-HSA-9626022  EEF1A1 [lysosomal membrane]  \n",
       "1  REACT:R-HSA-9626054  p-GFAP [lysosomal membrane]  "
      ]
     },
     "execution_count": 138,
     "metadata": {},
     "output_type": "execute_result"
    }
   ],
   "source": [
    "edge_name = next(it_n)\n",
    "print(edge_name)\n",
    "df = edge_res[edge_name]\n",
    "df.head(2)"
   ]
  },
  {
   "cell_type": "code",
   "execution_count": 139,
   "metadata": {},
   "outputs": [
    {
     "data": {
      "text/plain": [
       "True"
      ]
     },
     "execution_count": 139,
     "metadata": {},
     "output_type": "execute_result"
    }
   ],
   "source": [
    "all_ids_in_react_nodes(df, 'rxn_id')"
   ]
  },
  {
   "cell_type": "code",
   "execution_count": 140,
   "metadata": {},
   "outputs": [],
   "source": [
    "prepped = prep_pe(df, 'pe_id')"
   ]
  },
  {
   "cell_type": "code",
   "execution_count": 141,
   "metadata": {},
   "outputs": [
    {
     "data": {
      "text/html": [
       "<div>\n",
       "<style scoped>\n",
       "    .dataframe tbody tr th:only-of-type {\n",
       "        vertical-align: middle;\n",
       "    }\n",
       "\n",
       "    .dataframe tbody tr th {\n",
       "        vertical-align: top;\n",
       "    }\n",
       "\n",
       "    .dataframe thead th {\n",
       "        text-align: right;\n",
       "    }\n",
       "</style>\n",
       "<table border=\"1\" class=\"dataframe\">\n",
       "  <thead>\n",
       "    <tr style=\"text-align: right;\">\n",
       "      <th></th>\n",
       "      <th>rxn_id</th>\n",
       "      <th>rxn_name</th>\n",
       "      <th>type</th>\n",
       "      <th>pe_id</th>\n",
       "      <th>pe_name</th>\n",
       "      <th>pe_reactome_id</th>\n",
       "      <th>external_id</th>\n",
       "    </tr>\n",
       "  </thead>\n",
       "  <tbody>\n",
       "    <tr>\n",
       "      <th>0</th>\n",
       "      <td>REACT:R-HSA-9626034</td>\n",
       "      <td>EEF1A1 dissociates from p-GFAP</td>\n",
       "      <td>output</td>\n",
       "      <td>REACT:R-HSA-9626022</td>\n",
       "      <td>EEF1A1 [lysosomal membrane]</td>\n",
       "      <td>REACT:R-HSA-9626022</td>\n",
       "      <td>NCBIGene:1915</td>\n",
       "    </tr>\n",
       "    <tr>\n",
       "      <th>1</th>\n",
       "      <td>REACT:R-HSA-9626034</td>\n",
       "      <td>EEF1A1 dissociates from p-GFAP</td>\n",
       "      <td>output</td>\n",
       "      <td>REACT:R-HSA-9626022</td>\n",
       "      <td>EEF1A1 [lysosomal membrane]</td>\n",
       "      <td>REACT:R-HSA-9626022</td>\n",
       "      <td>UniProt:P68104</td>\n",
       "    </tr>\n",
       "  </tbody>\n",
       "</table>\n",
       "</div>"
      ],
      "text/plain": [
       "                rxn_id                        rxn_name    type  \\\n",
       "0  REACT:R-HSA-9626034  EEF1A1 dissociates from p-GFAP  output   \n",
       "1  REACT:R-HSA-9626034  EEF1A1 dissociates from p-GFAP  output   \n",
       "\n",
       "                 pe_id                      pe_name       pe_reactome_id  \\\n",
       "0  REACT:R-HSA-9626022  EEF1A1 [lysosomal membrane]  REACT:R-HSA-9626022   \n",
       "1  REACT:R-HSA-9626022  EEF1A1 [lysosomal membrane]  REACT:R-HSA-9626022   \n",
       "\n",
       "      external_id  \n",
       "0   NCBIGene:1915  \n",
       "1  UniProt:P68104  "
      ]
     },
     "execution_count": 141,
     "metadata": {},
     "output_type": "execute_result"
    }
   ],
   "source": [
    "prepped.head(2)"
   ]
  },
  {
   "cell_type": "code",
   "execution_count": 142,
   "metadata": {},
   "outputs": [
    {
     "data": {
      "text/plain": [
       "has_input                     170777\n",
       "has_output                    125652\n",
       "has_entityOnOtherCell            332\n",
       "has_requiredInputComponent        47\n",
       "Name: type, dtype: int64"
      ]
     },
     "execution_count": 142,
     "metadata": {},
     "output_type": "execute_result"
    }
   ],
   "source": [
    "prepped['type'] = 'has_' + prepped['type']\n",
    "prepped['type'].value_counts()"
   ]
  },
  {
   "cell_type": "markdown",
   "metadata": {},
   "source": [
    "has_entityOnOtherCell and has_requiredInputComponent are two low-population edges that don't add much. Will drop"
   ]
  },
  {
   "cell_type": "code",
   "execution_count": 143,
   "metadata": {},
   "outputs": [],
   "source": [
    "drop_idx = prepped.query('type == \"has_entityOnOtherCell\" or type == \"has_requiredInputComponent\"').index\n",
    "prepped = prepped.drop(drop_idx)"
   ]
  },
  {
   "cell_type": "code",
   "execution_count": 144,
   "metadata": {},
   "outputs": [
    {
     "data": {
      "text/html": [
       "<div>\n",
       "<style scoped>\n",
       "    .dataframe tbody tr th:only-of-type {\n",
       "        vertical-align: middle;\n",
       "    }\n",
       "\n",
       "    .dataframe tbody tr th {\n",
       "        vertical-align: top;\n",
       "    }\n",
       "\n",
       "    .dataframe thead th {\n",
       "        text-align: right;\n",
       "    }\n",
       "</style>\n",
       "<table border=\"1\" class=\"dataframe\">\n",
       "  <thead>\n",
       "    <tr style=\"text-align: right;\">\n",
       "      <th></th>\n",
       "      <th>start_id</th>\n",
       "      <th>end_id</th>\n",
       "      <th>type</th>\n",
       "      <th>dsrc_type</th>\n",
       "    </tr>\n",
       "  </thead>\n",
       "  <tbody>\n",
       "    <tr>\n",
       "      <th>0</th>\n",
       "      <td>REACT:R-HSA-9626034</td>\n",
       "      <td>NCBIGene:1915</td>\n",
       "      <td>has_output</td>\n",
       "      <td>curated</td>\n",
       "    </tr>\n",
       "    <tr>\n",
       "      <th>1</th>\n",
       "      <td>REACT:R-HSA-9626034</td>\n",
       "      <td>UniProt:P68104</td>\n",
       "      <td>has_output</td>\n",
       "      <td>curated</td>\n",
       "    </tr>\n",
       "  </tbody>\n",
       "</table>\n",
       "</div>"
      ],
      "text/plain": [
       "              start_id          end_id        type dsrc_type\n",
       "0  REACT:R-HSA-9626034   NCBIGene:1915  has_output   curated\n",
       "1  REACT:R-HSA-9626034  UniProt:P68104  has_output   curated"
      ]
     },
     "execution_count": 144,
     "metadata": {},
     "output_type": "execute_result"
    }
   ],
   "source": [
    "this_edge = process_edges(prepped, 'rxn_id', 'external_id', 'type')\n",
    "this_edge['dsrc_type'] = 'curated'\n",
    "edges.append(this_edge)\n",
    "edges[-1].head(2)"
   ]
  },
  {
   "cell_type": "markdown",
   "metadata": {},
   "source": [
    "### Next Query"
   ]
  },
  {
   "cell_type": "code",
   "execution_count": 145,
   "metadata": {},
   "outputs": [
    {
     "name": "stdout",
     "output_type": "stream",
     "text": [
      "tax_dis\n"
     ]
    },
    {
     "data": {
      "text/html": [
       "<div>\n",
       "<style scoped>\n",
       "    .dataframe tbody tr th:only-of-type {\n",
       "        vertical-align: middle;\n",
       "    }\n",
       "\n",
       "    .dataframe tbody tr th {\n",
       "        vertical-align: top;\n",
       "    }\n",
       "\n",
       "    .dataframe thead th {\n",
       "        text-align: right;\n",
       "    }\n",
       "</style>\n",
       "<table border=\"1\" class=\"dataframe\">\n",
       "  <thead>\n",
       "    <tr style=\"text-align: right;\">\n",
       "      <th></th>\n",
       "      <th>tax_id</th>\n",
       "      <th>tax_name</th>\n",
       "      <th>curi</th>\n",
       "      <th>do_id</th>\n",
       "      <th>do_name</th>\n",
       "    </tr>\n",
       "  </thead>\n",
       "  <tbody>\n",
       "    <tr>\n",
       "      <th>0</th>\n",
       "      <td>NCBITaxon:10090</td>\n",
       "      <td>Mus musculus</td>\n",
       "      <td>DOID</td>\n",
       "      <td>DOID:162</td>\n",
       "      <td>cancer</td>\n",
       "    </tr>\n",
       "    <tr>\n",
       "      <th>1</th>\n",
       "      <td>NCBITaxon:28875</td>\n",
       "      <td>Rotavirus A</td>\n",
       "      <td>DOID</td>\n",
       "      <td>DOID:934</td>\n",
       "      <td>viral infectious disease</td>\n",
       "    </tr>\n",
       "  </tbody>\n",
       "</table>\n",
       "</div>"
      ],
      "text/plain": [
       "            tax_id      tax_name  curi     do_id                   do_name\n",
       "0  NCBITaxon:10090  Mus musculus  DOID  DOID:162                    cancer\n",
       "1  NCBITaxon:28875   Rotavirus A  DOID  DOID:934  viral infectious disease"
      ]
     },
     "execution_count": 145,
     "metadata": {},
     "output_type": "execute_result"
    }
   ],
   "source": [
    "edge_name = next(it_n)\n",
    "print(edge_name)\n",
    "df = edge_res[edge_name]\n",
    "df.head(2)"
   ]
  },
  {
   "cell_type": "code",
   "execution_count": 146,
   "metadata": {},
   "outputs": [
    {
     "data": {
      "image/png": "[encoded data removed]",
      "text/plain": [
       "<Figure size 432x288 with 1 Axes>"
      ]
     },
     "metadata": {
      "needs_background": "light"
     },
     "output_type": "display_data"
    }
   ],
   "source": [
    "count_plot_h(df['do_name'].value_counts().head(8) / len(df), df['do_name'].value_counts().head(8))"
   ]
  },
  {
   "cell_type": "markdown",
   "metadata": {},
   "source": [
    "I'm not impressed by the results of this edge... with only 60 odd results, and many of them being problematic due to lack of specificity; Like viral infectious disease, bacterial infectious disease, or disease by infectious agent. The majoity of these are not useful"
   ]
  },
  {
   "cell_type": "markdown",
   "metadata": {},
   "source": [
    "# Filter the results"
   ]
  },
  {
   "cell_type": "code",
   "execution_count": 147,
   "metadata": {},
   "outputs": [
    {
     "name": "stdout",
     "output_type": "stream",
     "text": [
      "644,818\n",
      "426,779\n"
     ]
    }
   ],
   "source": [
    "nodes = pd.concat([reactome_nodes]+nodes+[goa_nodes, role_nodes], ignore_index=True, sort=False)\n",
    "print('{:,}'.format(len(nodes)))\n",
    "nodes = nodes.drop_duplicates(subset=['id'], keep='first')\n",
    "print('{:,}'.format(len(nodes)))"
   ]
  },
  {
   "cell_type": "markdown",
   "metadata": {},
   "source": [
    "#### Keep Reactome PE Xrefs for now"
   ]
  },
  {
   "cell_type": "code",
   "execution_count": 148,
   "metadata": {},
   "outputs": [
    {
     "data": {
      "text/html": [
       "<div>\n",
       "<style scoped>\n",
       "    .dataframe tbody tr th:only-of-type {\n",
       "        vertical-align: middle;\n",
       "    }\n",
       "\n",
       "    .dataframe tbody tr th {\n",
       "        vertical-align: top;\n",
       "    }\n",
       "\n",
       "    .dataframe thead th {\n",
       "        text-align: right;\n",
       "    }\n",
       "</style>\n",
       "<table border=\"1\" class=\"dataframe\">\n",
       "  <thead>\n",
       "    <tr style=\"text-align: right;\">\n",
       "      <th></th>\n",
       "      <th>pe_reactome_id</th>\n",
       "      <th>external_id</th>\n",
       "    </tr>\n",
       "  </thead>\n",
       "  <tbody>\n",
       "    <tr>\n",
       "      <th>0</th>\n",
       "      <td>REACT:R-HSA-8938437</td>\n",
       "      <td>MI:MI0000071</td>\n",
       "    </tr>\n",
       "    <tr>\n",
       "      <th>6</th>\n",
       "      <td>REACT:R-HSA-8935923</td>\n",
       "      <td>MI:MI0000072</td>\n",
       "    </tr>\n",
       "  </tbody>\n",
       "</table>\n",
       "</div>"
      ],
      "text/plain": [
       "        pe_reactome_id   external_id\n",
       "0  REACT:R-HSA-8938437  MI:MI0000071\n",
       "6  REACT:R-HSA-8935923  MI:MI0000072"
      ]
     },
     "execution_count": 148,
     "metadata": {},
     "output_type": "execute_result"
    }
   ],
   "source": [
    "pe_to_external.head(2)"
   ]
  },
  {
   "cell_type": "code",
   "execution_count": 149,
   "metadata": {},
   "outputs": [
    {
     "name": "stderr",
     "output_type": "stream",
     "text": [
      "total_progress:   0%|          | 0/1 [00:00<?, ?it/s]\n",
      "pe_reactome_id:   0%|          | 0/253985 [00:00<?, ?it/s]\u001b[A\n",
      "pe_reactome_id:   0%|          | 199/253985 [00:00<02:08, 1981.85it/s]\u001b[A\n",
      "pe_reactome_id:   0%|          | 400/253985 [00:00<02:07, 1990.01it/s]\u001b[A\n",
      "pe_reactome_id:   0%|          | 602/253985 [00:00<02:06, 1996.75it/s]\u001b[A\n",
      "pe_reactome_id:   0%|          | 807/253985 [00:00<02:05, 2009.70it/s]\u001b[A\n",
      "pe_reactome_id:   0%|          | 1018/253985 [00:00<02:04, 2036.23it/s]\u001b[A\n",
      "pe_reactome_id:   1%|          | 1587/253985 [00:00<01:40, 2521.68it/s]\u001b[A\n",
      "pe_reactome_id:   1%|          | 2331/253985 [00:00<01:20, 3145.09it/s]\u001b[A\n",
      "pe_reactome_id:   1%|          | 3054/253985 [00:00<01:06, 3786.55it/s]\u001b[A\n",
      "pe_reactome_id:   1%|▏         | 3780/253985 [00:00<00:56, 4420.99it/s]\u001b[A\n",
      "pe_reactome_id:   2%|▏         | 4535/253985 [00:01<00:49, 5047.76it/s]\u001b[A\n",
      "pe_reactome_id:   2%|▏         | 5295/253985 [00:01<00:44, 5611.80it/s]\u001b[A\n",
      "pe_reactome_id:   2%|▏         | 6056/253985 [00:01<00:40, 6090.73it/s]\u001b[A\n",
      "pe_reactome_id:   3%|▎         | 6814/253985 [00:01<00:38, 6471.18it/s]\u001b[A\n",
      "pe_reactome_id:   3%|▎         | 7576/253985 [00:01<00:36, 6776.00it/s]\u001b[A\n",
      "pe_reactome_id:   3%|▎         | 8338/253985 [00:01<00:35, 7008.88it/s]\u001b[A\n",
      "pe_reactome_id:   4%|▎         | 9077/253985 [00:01<00:34, 7105.57it/s]\u001b[A\n",
      "pe_reactome_id:   4%|▍         | 9832/253985 [00:01<00:33, 7232.38it/s]\u001b[A\n",
      "pe_reactome_id:   4%|▍         | 10591/253985 [00:01<00:33, 7335.47it/s]\u001b[A\n",
      "pe_reactome_id:   4%|▍         | 11346/253985 [00:01<00:32, 7396.26it/s]\u001b[A\n",
      "pe_reactome_id:   5%|▍         | 12104/253985 [00:02<00:32, 7448.67it/s]\u001b[A\n",
      "pe_reactome_id:   5%|▌         | 12866/253985 [00:02<00:32, 7496.65it/s]\u001b[A\n",
      "pe_reactome_id:   5%|▌         | 13626/253985 [00:02<00:31, 7526.58it/s]\u001b[A\n",
      "pe_reactome_id:   6%|▌         | 14387/253985 [00:02<00:31, 7548.98it/s]\u001b[A\n",
      "pe_reactome_id:   6%|▌         | 15146/253985 [00:02<00:31, 7560.20it/s]\u001b[A\n",
      "pe_reactome_id:   6%|▋         | 15904/253985 [00:02<00:31, 7500.02it/s]\u001b[A\n",
      "pe_reactome_id:   7%|▋         | 16662/253985 [00:02<00:31, 7523.29it/s]\u001b[A\n",
      "pe_reactome_id:   7%|▋         | 17416/253985 [00:02<00:31, 7527.70it/s]\u001b[A\n",
      "pe_reactome_id:   7%|▋         | 18175/253985 [00:02<00:31, 7545.13it/s]\u001b[A\n",
      "pe_reactome_id:   7%|▋         | 18934/253985 [00:02<00:31, 7558.36it/s]\u001b[A\n",
      "pe_reactome_id:   8%|▊         | 19691/253985 [00:03<00:30, 7561.30it/s]\u001b[A\n",
      "pe_reactome_id:   8%|▊         | 20448/253985 [00:03<00:30, 7553.70it/s]\u001b[A\n",
      "pe_reactome_id:   8%|▊         | 21204/253985 [00:03<00:30, 7548.82it/s]\u001b[A\n",
      "pe_reactome_id:   9%|▊         | 21961/253985 [00:03<00:30, 7552.64it/s]\u001b[A\n",
      "pe_reactome_id:   9%|▉         | 22717/253985 [00:03<00:30, 7552.21it/s]\u001b[A\n",
      "pe_reactome_id:   9%|▉         | 23477/253985 [00:03<00:30, 7564.07it/s]\u001b[A\n",
      "pe_reactome_id:  10%|▉         | 24234/253985 [00:03<00:30, 7553.16it/s]\u001b[A\n",
      "pe_reactome_id:  10%|▉         | 24990/253985 [00:03<00:30, 7503.53it/s]\u001b[A\n",
      "pe_reactome_id:  10%|█         | 25748/253985 [00:03<00:30, 7523.45it/s]\u001b[A\n",
      "pe_reactome_id:  10%|█         | 26501/253985 [00:03<00:30, 7485.98it/s]\u001b[A\n",
      "pe_reactome_id:  11%|█         | 27258/253985 [00:04<00:30, 7510.78it/s]\u001b[A\n",
      "pe_reactome_id:  11%|█         | 28014/253985 [00:04<00:30, 7524.60it/s]\u001b[A\n",
      "pe_reactome_id:  11%|█▏        | 28769/253985 [00:04<00:29, 7532.18it/s]\u001b[A\n",
      "pe_reactome_id:  12%|█▏        | 29527/253985 [00:04<00:29, 7546.26it/s]\u001b[A\n",
      "pe_reactome_id:  12%|█▏        | 30285/253985 [00:04<00:29, 7554.61it/s]\u001b[A\n",
      "pe_reactome_id:  12%|█▏        | 31041/253985 [00:04<00:29, 7551.10it/s]\u001b[A\n",
      "pe_reactome_id:  13%|█▎        | 31797/253985 [00:04<00:29, 7495.45it/s]\u001b[A\n",
      "pe_reactome_id:  13%|█▎        | 32547/253985 [00:04<00:29, 7491.71it/s]\u001b[A\n",
      "pe_reactome_id:  13%|█▎        | 33297/253985 [00:04<00:29, 7450.37it/s]\u001b[A\n",
      "pe_reactome_id:  13%|█▎        | 34055/253985 [00:04<00:29, 7488.62it/s]\u001b[A\n",
      "pe_reactome_id:  14%|█▎        | 34819/253985 [00:05<00:29, 7531.17it/s]\u001b[A\n",
      "pe_reactome_id:  14%|█▍        | 35581/253985 [00:05<00:28, 7557.11it/s]\u001b[A\n",
      "pe_reactome_id:  14%|█▍        | 36344/253985 [00:05<00:28, 7577.29it/s]\u001b[A\n",
      "pe_reactome_id:  15%|█▍        | 37107/253985 [00:05<00:28, 7590.66it/s]\u001b[A\n",
      "pe_reactome_id:  15%|█▍        | 37872/253985 [00:05<00:28, 7606.79it/s]\u001b[A\n",
      "pe_reactome_id:  15%|█▌        | 38639/253985 [00:05<00:28, 7624.44it/s]\u001b[A\n",
      "pe_reactome_id:  16%|█▌        | 39402/253985 [00:05<00:28, 7616.25it/s]\u001b[A\n",
      "pe_reactome_id:  16%|█▌        | 40164/253985 [00:05<00:28, 7605.81it/s]\u001b[A\n",
      "pe_reactome_id:  16%|█▌        | 40925/253985 [00:05<00:28, 7603.87it/s]\u001b[A\n",
      "pe_reactome_id:  16%|█▋        | 41687/253985 [00:05<00:27, 7607.01it/s]\u001b[A\n",
      "pe_reactome_id:  17%|█▋        | 42448/253985 [00:06<00:28, 7533.62it/s]\u001b[A\n",
      "pe_reactome_id:  17%|█▋        | 43202/253985 [00:06<00:28, 7481.85it/s]\u001b[A\n",
      "pe_reactome_id:  17%|█▋        | 43962/253985 [00:06<00:27, 7514.87it/s]\u001b[A\n",
      "pe_reactome_id:  18%|█▊        | 44720/253985 [00:06<00:27, 7534.03it/s]\u001b[A\n",
      "pe_reactome_id:  18%|█▊        | 45474/253985 [00:06<00:27, 7535.67it/s]\u001b[A\n",
      "pe_reactome_id:  18%|█▊        | 46228/253985 [00:06<00:27, 7496.06it/s]\u001b[A\n",
      "pe_reactome_id:  19%|█▊        | 46989/253985 [00:06<00:27, 7528.96it/s]\u001b[A\n",
      "pe_reactome_id:  19%|█▉        | 47743/253985 [00:06<00:27, 7512.65it/s]\u001b[A\n",
      "pe_reactome_id:  19%|█▉        | 48503/253985 [00:06<00:27, 7538.20it/s]\u001b[A\n",
      "pe_reactome_id:  19%|█▉        | 49257/253985 [00:06<00:27, 7527.92it/s]\u001b[A\n",
      "pe_reactome_id:  20%|█▉        | 50010/253985 [00:07<00:27, 7454.85it/s]\u001b[A\n",
      "pe_reactome_id:  20%|█▉        | 50756/253985 [00:07<00:27, 7388.01it/s]\u001b[A\n",
      "pe_reactome_id:  20%|██        | 51517/253985 [00:07<00:27, 7451.85it/s]\u001b[A\n",
      "pe_reactome_id:  21%|██        | 52277/253985 [00:07<00:26, 7492.95it/s]\u001b[A\n",
      "pe_reactome_id:  21%|██        | 53037/253985 [00:07<00:26, 7522.07it/s]\u001b[A\n",
      "pe_reactome_id:  21%|██        | 53793/253985 [00:07<00:26, 7531.53it/s]\u001b[A\n",
      "pe_reactome_id:  21%|██▏       | 54550/253985 [00:07<00:26, 7542.75it/s]\u001b[A\n",
      "pe_reactome_id:  22%|██▏       | 55309/253985 [00:07<00:26, 7554.88it/s]\u001b[A\n",
      "pe_reactome_id:  22%|██▏       | 56067/253985 [00:07<00:26, 7562.01it/s]\u001b[A\n",
      "pe_reactome_id:  22%|██▏       | 56828/253985 [00:07<00:26, 7573.48it/s]\u001b[A\n",
      "pe_reactome_id:  23%|██▎       | 57586/253985 [00:08<00:25, 7562.69it/s]\u001b[A\n",
      "pe_reactome_id:  23%|██▎       | 58343/253985 [00:08<00:26, 7452.73it/s]\u001b[A\n",
      "pe_reactome_id:  23%|██▎       | 59089/253985 [00:08<00:26, 7424.46it/s]\u001b[A\n",
      "pe_reactome_id:  24%|██▎       | 59849/253985 [00:08<00:25, 7475.31it/s]\u001b[A\n",
      "pe_reactome_id:  24%|██▍       | 60612/253985 [00:08<00:25, 7519.58it/s]\u001b[A\n",
      "pe_reactome_id:  24%|██▍       | 61373/253985 [00:08<00:25, 7545.14it/s]\u001b[A\n",
      "pe_reactome_id:  24%|██▍       | 62135/253985 [00:08<00:25, 7566.33it/s]\u001b[A\n",
      "pe_reactome_id:  25%|██▍       | 62897/253985 [00:08<00:25, 7580.84it/s]\u001b[A\n",
      "pe_reactome_id:  25%|██▌       | 63660/253985 [00:08<00:25, 7594.43it/s]\u001b[A\n",
      "pe_reactome_id:  25%|██▌       | 64423/253985 [00:08<00:24, 7604.11it/s]\u001b[A\n",
      "pe_reactome_id:  26%|██▌       | 65186/253985 [00:09<00:24, 7609.68it/s]\u001b[A\n",
      "pe_reactome_id:  26%|██▌       | 65948/253985 [00:09<00:24, 7605.92it/s]\u001b[A\n",
      "pe_reactome_id:  26%|██▋       | 66710/253985 [00:09<00:24, 7608.02it/s]\u001b[A\n",
      "pe_reactome_id:  27%|██▋       | 67471/253985 [00:09<00:24, 7608.08it/s]\u001b[A\n",
      "pe_reactome_id:  27%|██▋       | 68236/253985 [00:09<00:24, 7619.72it/s]\u001b[A\n",
      "pe_reactome_id:  27%|██▋       | 68998/253985 [00:09<00:24, 7518.92it/s]\u001b[A\n",
      "pe_reactome_id:  27%|██▋       | 69762/253985 [00:09<00:24, 7552.51it/s]\u001b[A\n",
      "pe_reactome_id:  28%|██▊       | 70520/253985 [00:09<00:24, 7558.69it/s]\u001b[A\n",
      "pe_reactome_id:  28%|██▊       | 71278/253985 [00:09<00:24, 7564.40it/s]\u001b[A\n",
      "pe_reactome_id:  28%|██▊       | 72038/253985 [00:09<00:24, 7574.55it/s]\u001b[A\n",
      "pe_reactome_id:  29%|██▊       | 72796/253985 [00:10<00:23, 7557.60it/s]\u001b[A\n",
      "pe_reactome_id:  29%|██▉       | 73552/253985 [00:10<00:24, 7505.56it/s]\u001b[A\n",
      "pe_reactome_id:  29%|██▉       | 74309/253985 [00:10<00:23, 7523.49it/s]\u001b[A\n",
      "pe_reactome_id:  30%|██▉       | 75068/253985 [00:10<00:23, 7540.65it/s]\u001b[A\n",
      "pe_reactome_id:  30%|██▉       | 75828/253985 [00:10<00:23, 7557.41it/s]\u001b[A\n",
      "pe_reactome_id:  30%|███       | 76586/253985 [00:10<00:23, 7561.74it/s]\u001b[A\n",
      "pe_reactome_id:  30%|███       | 77345/253985 [00:10<00:23, 7570.14it/s]\u001b[A\n",
      "pe_reactome_id:  31%|███       | 78103/253985 [00:10<00:23, 7572.53it/s]\u001b[A\n",
      "pe_reactome_id:  31%|███       | 78861/253985 [00:10<00:23, 7554.11it/s]\u001b[A\n",
      "pe_reactome_id:  31%|███▏      | 79619/253985 [00:10<00:23, 7558.91it/s]\u001b[A\n",
      "pe_reactome_id:  32%|███▏      | 80376/253985 [00:11<00:22, 7560.76it/s]\u001b[A\n",
      "pe_reactome_id:  32%|███▏      | 81133/253985 [00:11<00:22, 7562.36it/s]\u001b[A\n",
      "pe_reactome_id:  32%|███▏      | 81893/253985 [00:11<00:22, 7570.68it/s]\u001b[A\n",
      "pe_reactome_id:  33%|███▎      | 82651/253985 [00:11<00:22, 7571.71it/s]\u001b[A\n",
      "pe_reactome_id:  33%|███▎      | 83409/253985 [00:11<00:22, 7573.66it/s]\u001b[A\n",
      "pe_reactome_id:  33%|███▎      | 84167/253985 [00:11<00:22, 7517.73it/s]\u001b[A\n",
      "pe_reactome_id:  33%|███▎      | 84919/253985 [00:11<00:22, 7517.25it/s]\u001b[A\n",
      "pe_reactome_id:  34%|███▎      | 85673/253985 [00:11<00:22, 7521.34it/s]\u001b[A\n",
      "pe_reactome_id:  34%|███▍      | 86426/253985 [00:11<00:22, 7508.68it/s]\u001b[A\n",
      "pe_reactome_id:  34%|███▍      | 87180/253985 [00:11<00:22, 7515.39it/s]\u001b[A\n",
      "pe_reactome_id:  35%|███▍      | 87932/253985 [00:12<00:22, 7516.38it/s]\u001b[A\n",
      "pe_reactome_id:  35%|███▍      | 88689/253985 [00:12<00:21, 7530.60it/s]\u001b[A\n",
      "pe_reactome_id:  35%|███▌      | 89443/253985 [00:12<00:21, 7528.51it/s]\u001b[A\n",
      "pe_reactome_id:  36%|███▌      | 90196/253985 [00:12<00:21, 7519.53it/s]\u001b[A\n",
      "pe_reactome_id:  36%|███▌      | 90950/253985 [00:12<00:21, 7524.68it/s]\u001b[A\n",
      "pe_reactome_id:  36%|███▌      | 91703/253985 [00:12<00:21, 7525.13it/s]\u001b[A\n",
      "pe_reactome_id:  36%|███▋      | 92456/253985 [00:12<00:21, 7511.13it/s]\u001b[A\n",
      "pe_reactome_id:  37%|███▋      | 93212/253985 [00:12<00:21, 7524.00it/s]\u001b[A\n",
      "pe_reactome_id:  37%|███▋      | 93971/253985 [00:12<00:21, 7541.20it/s]\u001b[A\n",
      "pe_reactome_id:  37%|███▋      | 94728/253985 [00:12<00:21, 7548.17it/s]\u001b[A\n",
      "pe_reactome_id:  38%|███▊      | 95483/253985 [00:13<00:20, 7548.65it/s]\u001b[A\n",
      "pe_reactome_id:  38%|███▊      | 96238/253985 [00:13<00:20, 7541.04it/s]\u001b[A\n",
      "pe_reactome_id:  38%|███▊      | 96997/253985 [00:13<00:20, 7553.11it/s]\u001b[A\n",
      "pe_reactome_id:  38%|███▊      | 97757/253985 [00:13<00:20, 7565.28it/s]\u001b[A\n",
      "pe_reactome_id:  39%|███▉      | 98517/253985 [00:13<00:20, 7574.31it/s]\u001b[A\n",
      "pe_reactome_id:  39%|███▉      | 99277/253985 [00:13<00:20, 7581.49it/s]\u001b[A\n",
      "pe_reactome_id:  39%|███▉      | 100036/253985 [00:13<00:20, 7489.65it/s]\u001b[A\n",
      "pe_reactome_id:  40%|███▉      | 100786/253985 [00:13<00:20, 7436.93it/s]\u001b[A\n",
      "pe_reactome_id:  40%|███▉      | 101540/253985 [00:13<00:20, 7467.28it/s]\u001b[A\n",
      "pe_reactome_id:  40%|████      | 102287/253985 [00:13<00:20, 7437.67it/s]\u001b[A\n",
      "pe_reactome_id:  41%|████      | 103042/253985 [00:14<00:20, 7469.62it/s]\u001b[A\n",
      "pe_reactome_id:  41%|████      | 103793/253985 [00:14<00:20, 7481.57it/s]\u001b[A\n",
      "pe_reactome_id:  41%|████      | 104542/253985 [00:14<00:19, 7472.66it/s]\u001b[A\n",
      "pe_reactome_id:  41%|████▏     | 105294/253985 [00:14<00:19, 7484.86it/s]\u001b[A\n",
      "pe_reactome_id:  42%|████▏     | 106049/253985 [00:14<00:19, 7502.45it/s]\u001b[A\n",
      "pe_reactome_id:  42%|████▏     | 106806/253985 [00:14<00:19, 7521.13it/s]\u001b[A\n",
      "pe_reactome_id:  42%|████▏     | 107559/253985 [00:14<00:19, 7520.92it/s]\u001b[A\n",
      "pe_reactome_id:  43%|████▎     | 108314/253985 [00:14<00:19, 7528.66it/s]\u001b[A\n",
      "pe_reactome_id:  43%|████▎     | 109067/253985 [00:14<00:19, 7507.07it/s]\u001b[A\n",
      "pe_reactome_id:  43%|████▎     | 109819/253985 [00:14<00:19, 7509.17it/s]\u001b[A\n",
      "pe_reactome_id:  44%|████▎     | 110573/253985 [00:15<00:19, 7516.56it/s]\u001b[A\n",
      "pe_reactome_id:  44%|████▍     | 111326/253985 [00:15<00:18, 7518.03it/s]\u001b[A\n",
      "pe_reactome_id:  44%|████▍     | 112084/253985 [00:15<00:18, 7533.70it/s]\u001b[A\n",
      "pe_reactome_id:  44%|████▍     | 112838/253985 [00:15<00:18, 7528.61it/s]\u001b[A\n",
      "pe_reactome_id:  45%|████▍     | 113594/253985 [00:15<00:18, 7535.15it/s]\u001b[A\n",
      "pe_reactome_id:  45%|████▌     | 114349/253985 [00:15<00:18, 7539.07it/s]\u001b[A\n",
      "pe_reactome_id:  45%|████▌     | 115103/253985 [00:15<00:18, 7532.22it/s]\u001b[A\n",
      "pe_reactome_id:  46%|████▌     | 115857/253985 [00:15<00:18, 7533.46it/s]\u001b[A\n",
      "pe_reactome_id:  46%|████▌     | 116611/253985 [00:15<00:18, 7533.92it/s]\u001b[A\n",
      "pe_reactome_id:  46%|████▌     | 117365/253985 [00:15<00:18, 7501.93it/s]\u001b[A\n",
      "pe_reactome_id:  47%|████▋     | 118124/253985 [00:16<00:18, 7525.99it/s]\u001b[A\n",
      "pe_reactome_id:  47%|████▋     | 118879/253985 [00:16<00:17, 7531.33it/s]\u001b[A\n",
      "pe_reactome_id:  47%|████▋     | 119639/253985 [00:16<00:17, 7551.32it/s]\u001b[A\n",
      "pe_reactome_id:  47%|████▋     | 120395/253985 [00:16<00:17, 7547.21it/s]\u001b[A\n",
      "pe_reactome_id:  48%|████▊     | 121155/253985 [00:16<00:17, 7560.39it/s]\u001b[A\n",
      "pe_reactome_id:  48%|████▊     | 121917/253985 [00:16<00:17, 7576.66it/s]\u001b[A\n",
      "pe_reactome_id:  48%|████▊     | 122677/253985 [00:16<00:17, 7581.99it/s]\u001b[A\n",
      "pe_reactome_id:  49%|████▊     | 123437/253985 [00:16<00:17, 7585.74it/s]\u001b[A\n",
      "pe_reactome_id:  49%|████▉     | 124196/253985 [00:16<00:17, 7585.64it/s]\u001b[A\n",
      "pe_reactome_id:  49%|████▉     | 124955/253985 [00:16<00:17, 7533.31it/s]\u001b[A\n",
      "pe_reactome_id:  49%|████▉     | 125710/253985 [00:17<00:17, 7536.12it/s]\u001b[A\n",
      "pe_reactome_id:  50%|████▉     | 126467/253985 [00:17<00:16, 7545.01it/s]\u001b[A\n",
      "pe_reactome_id:  50%|█████     | 127222/253985 [00:17<00:16, 7541.93it/s]\u001b[A\n",
      "pe_reactome_id:  50%|█████     | 127977/253985 [00:17<00:16, 7528.81it/s]\u001b[A\n",
      "pe_reactome_id:  51%|█████     | 128734/253985 [00:17<00:16, 7538.85it/s]\u001b[A\n",
      "pe_reactome_id:  51%|█████     | 129488/253985 [00:17<00:16, 7535.42it/s]\u001b[A\n",
      "pe_reactome_id:  51%|█████▏    | 130242/253985 [00:17<00:16, 7519.50it/s]\u001b[A\n",
      "pe_reactome_id:  52%|█████▏    | 130994/253985 [00:17<00:16, 7519.27it/s]\u001b[A\n",
      "pe_reactome_id:  52%|█████▏    | 131749/253985 [00:17<00:16, 7526.19it/s]\u001b[A\n",
      "pe_reactome_id:  52%|█████▏    | 132508/253985 [00:17<00:16, 7542.35it/s]\u001b[A\n",
      "pe_reactome_id:  52%|█████▏    | 133263/253985 [00:18<00:16, 7492.32it/s]\u001b[A\n",
      "pe_reactome_id:  53%|█████▎    | 134013/253985 [00:18<00:16, 7448.81it/s]\u001b[A\n",
      "pe_reactome_id:  53%|█████▎    | 134759/253985 [00:18<00:16, 7450.50it/s]\u001b[A\n",
      "pe_reactome_id:  53%|█████▎    | 135505/253985 [00:18<00:16, 7306.87it/s]\u001b[A\n",
      "pe_reactome_id:  54%|█████▎    | 136264/253985 [00:18<00:15, 7387.06it/s]\u001b[A\n",
      "pe_reactome_id:  54%|█████▍    | 137026/253985 [00:18<00:15, 7455.01it/s]\u001b[A\n",
      "pe_reactome_id:  54%|█████▍    | 137786/253985 [00:18<00:15, 7496.99it/s]\u001b[A\n",
      "pe_reactome_id:  55%|█████▍    | 138548/253985 [00:18<00:15, 7531.05it/s]\u001b[A\n",
      "pe_reactome_id:  55%|█████▍    | 139310/253985 [00:18<00:15, 7556.29it/s]\u001b[A\n",
      "pe_reactome_id:  55%|█████▌    | 140073/253985 [00:18<00:15, 7576.66it/s]\u001b[A\n",
      "pe_reactome_id:  55%|█████▌    | 140836/253985 [00:19<00:14, 7591.97it/s]\u001b[A\n",
      "pe_reactome_id:  56%|█████▌    | 141597/253985 [00:19<00:14, 7596.41it/s]\u001b[A\n",
      "pe_reactome_id:  56%|█████▌    | 142358/253985 [00:19<00:14, 7597.73it/s]\u001b[A\n",
      "pe_reactome_id:  56%|█████▋    | 143120/253985 [00:19<00:14, 7604.08it/s]\u001b[A\n",
      "pe_reactome_id:  57%|█████▋    | 143884/253985 [00:19<00:14, 7612.50it/s]\u001b[A\n",
      "pe_reactome_id:  57%|█████▋    | 144649/253985 [00:19<00:14, 7621.83it/s]\u001b[A\n",
      "pe_reactome_id:  57%|█████▋    | 145412/253985 [00:19<00:14, 7618.63it/s]\u001b[A\n",
      "pe_reactome_id:  58%|█████▊    | 146174/253985 [00:19<00:14, 7618.45it/s]\u001b[A\n",
      "pe_reactome_id:  58%|█████▊    | 146936/253985 [00:19<00:14, 7615.12it/s]\u001b[A\n",
      "pe_reactome_id:  58%|█████▊    | 147700/253985 [00:19<00:13, 7619.81it/s]\u001b[A\n",
      "pe_reactome_id:  58%|█████▊    | 148462/253985 [00:20<00:13, 7617.98it/s]\u001b[A\n",
      "pe_reactome_id:  59%|█████▉    | 149224/253985 [00:20<00:14, 7474.01it/s]\u001b[A\n",
      "pe_reactome_id:  59%|█████▉    | 149973/253985 [00:20<00:13, 7468.76it/s]\u001b[A\n",
      "pe_reactome_id:  59%|█████▉    | 150734/253985 [00:20<00:13, 7507.73it/s]\u001b[A\n",
      "pe_reactome_id:  60%|█████▉    | 151486/253985 [00:20<00:13, 7459.73it/s]\u001b[A\n",
      "pe_reactome_id:  60%|█████▉    | 152248/253985 [00:20<00:13, 7506.93it/s]\u001b[A\n",
      "pe_reactome_id:  60%|██████    | 153008/253985 [00:20<00:13, 7532.02it/s]\u001b[A\n",
      "pe_reactome_id:  61%|██████    | 153768/253985 [00:20<00:13, 7550.46it/s]\u001b[A\n",
      "pe_reactome_id:  61%|██████    | 154524/253985 [00:20<00:13, 7549.09it/s]\u001b[A\n",
      "pe_reactome_id:  61%|██████    | 155282/253985 [00:21<00:13, 7556.00it/s]\u001b[A\n",
      "pe_reactome_id:  61%|██████▏   | 156040/253985 [00:21<00:12, 7562.00it/s]\u001b[A\n",
      "pe_reactome_id:  62%|██████▏   | 156799/253985 [00:21<00:12, 7569.59it/s]\u001b[A\n",
      "pe_reactome_id:  62%|██████▏   | 157557/253985 [00:21<00:12, 7564.83it/s]\u001b[A\n"
     ]
    },
    {
     "name": "stderr",
     "output_type": "stream",
     "text": [
      "pe_reactome_id:  62%|██████▏   | 158315/253985 [00:21<00:12, 7568.45it/s]\u001b[A\n",
      "pe_reactome_id:  63%|██████▎   | 159072/253985 [00:21<00:12, 7564.04it/s]\u001b[A\n",
      "pe_reactome_id:  63%|██████▎   | 159829/253985 [00:21<00:12, 7561.11it/s]\u001b[A\n",
      "pe_reactome_id:  63%|██████▎   | 160586/253985 [00:21<00:12, 7563.56it/s]\u001b[A\n",
      "pe_reactome_id:  64%|██████▎   | 161349/253985 [00:21<00:12, 7583.00it/s]\u001b[A\n",
      "pe_reactome_id:  64%|██████▍   | 162109/253985 [00:21<00:12, 7586.48it/s]\u001b[A\n",
      "pe_reactome_id:  64%|██████▍   | 162868/253985 [00:22<00:12, 7583.25it/s]\u001b[A\n",
      "pe_reactome_id:  64%|██████▍   | 163627/253985 [00:22<00:11, 7581.36it/s]\u001b[A\n",
      "pe_reactome_id:  65%|██████▍   | 164386/253985 [00:22<00:11, 7579.02it/s]\u001b[A\n",
      "pe_reactome_id:  65%|██████▌   | 165144/253985 [00:22<00:11, 7572.10it/s]\u001b[A\n",
      "pe_reactome_id:  65%|██████▌   | 165902/253985 [00:22<00:11, 7567.77it/s]\u001b[A\n",
      "pe_reactome_id:  66%|██████▌   | 166659/253985 [00:22<00:11, 7554.64it/s]\u001b[A\n",
      "pe_reactome_id:  66%|██████▌   | 167422/253985 [00:22<00:11, 7574.32it/s]\u001b[A\n",
      "pe_reactome_id:  66%|██████▌   | 168184/253985 [00:22<00:11, 7586.22it/s]\u001b[A\n",
      "pe_reactome_id:  67%|██████▋   | 168943/253985 [00:22<00:11, 7586.82it/s]\u001b[A\n",
      "pe_reactome_id:  67%|██████▋   | 169702/253985 [00:22<00:11, 7569.03it/s]\u001b[A\n",
      "pe_reactome_id:  67%|██████▋   | 170464/253985 [00:23<00:11, 7582.46it/s]\u001b[A\n",
      "pe_reactome_id:  67%|██████▋   | 171225/253985 [00:23<00:10, 7588.71it/s]\u001b[A\n",
      "pe_reactome_id:  68%|██████▊   | 171991/253985 [00:23<00:10, 7607.25it/s]\u001b[A\n",
      "pe_reactome_id:  68%|██████▊   | 172752/253985 [00:23<00:10, 7607.23it/s]\u001b[A\n",
      "pe_reactome_id:  68%|██████▊   | 173513/253985 [00:23<00:10, 7599.61it/s]\u001b[A\n",
      "pe_reactome_id:  69%|██████▊   | 174273/253985 [00:23<00:10, 7488.76it/s]\u001b[A\n",
      "pe_reactome_id:  69%|██████▉   | 175029/253985 [00:23<00:10, 7508.60it/s]\u001b[A\n",
      "pe_reactome_id:  69%|██████▉   | 175784/253985 [00:23<00:10, 7520.83it/s]\u001b[A\n",
      "pe_reactome_id:  70%|██████▉   | 176541/253985 [00:23<00:10, 7535.35it/s]\u001b[A\n",
      "pe_reactome_id:  70%|██████▉   | 177295/253985 [00:23<00:10, 7534.81it/s]\u001b[A\n",
      "pe_reactome_id:  70%|███████   | 178053/253985 [00:24<00:10, 7545.88it/s]\u001b[A\n",
      "pe_reactome_id:  70%|███████   | 178813/253985 [00:24<00:09, 7561.65it/s]\u001b[A\n",
      "pe_reactome_id:  71%|███████   | 179570/253985 [00:24<00:09, 7564.02it/s]\u001b[A\n",
      "pe_reactome_id:  71%|███████   | 180328/253985 [00:24<00:09, 7566.86it/s]\u001b[A\n",
      "pe_reactome_id:  71%|███████▏  | 181085/253985 [00:24<00:09, 7566.45it/s]\u001b[A\n",
      "pe_reactome_id:  72%|███████▏  | 181842/253985 [00:24<00:09, 7421.01it/s]\u001b[A\n",
      "pe_reactome_id:  72%|███████▏  | 182598/253985 [00:24<00:09, 7460.45it/s]\u001b[A\n",
      "pe_reactome_id:  72%|███████▏  | 183355/253985 [00:24<00:09, 7490.82it/s]\u001b[A\n",
      "pe_reactome_id:  72%|███████▏  | 184110/253985 [00:24<00:09, 7506.01it/s]\u001b[A\n",
      "pe_reactome_id:  73%|███████▎  | 184867/253985 [00:24<00:09, 7523.37it/s]\u001b[A\n",
      "pe_reactome_id:  73%|███████▎  | 185624/253985 [00:25<00:09, 7535.64it/s]\u001b[A\n",
      "pe_reactome_id:  73%|███████▎  | 186380/253985 [00:25<00:08, 7542.62it/s]\u001b[A\n",
      "pe_reactome_id:  74%|███████▎  | 187140/253985 [00:25<00:08, 7557.87it/s]\u001b[A\n",
      "pe_reactome_id:  74%|███████▍  | 187900/253985 [00:25<00:08, 7569.01it/s]\u001b[A\n",
      "pe_reactome_id:  74%|███████▍  | 188657/253985 [00:25<00:08, 7567.78it/s]\u001b[A\n",
      "pe_reactome_id:  75%|███████▍  | 189414/253985 [00:25<00:08, 7558.15it/s]\u001b[A\n",
      "pe_reactome_id:  75%|███████▍  | 190170/253985 [00:25<00:08, 7483.38it/s]\u001b[A\n",
      "pe_reactome_id:  75%|███████▌  | 190919/253985 [00:25<00:08, 7484.68it/s]\u001b[A\n",
      "pe_reactome_id:  75%|███████▌  | 191678/253985 [00:25<00:08, 7515.49it/s]\u001b[A\n",
      "pe_reactome_id:  76%|███████▌  | 192433/253985 [00:25<00:08, 7524.45it/s]\u001b[A\n",
      "pe_reactome_id:  76%|███████▌  | 193194/253985 [00:26<00:08, 7548.88it/s]\u001b[A\n",
      "pe_reactome_id:  76%|███████▋  | 193953/253985 [00:26<00:07, 7558.48it/s]\u001b[A\n",
      "pe_reactome_id:  77%|███████▋  | 194711/253985 [00:26<00:07, 7564.26it/s]\u001b[A\n",
      "pe_reactome_id:  77%|███████▋  | 195473/253985 [00:26<00:07, 7580.24it/s]\u001b[A\n",
      "pe_reactome_id:  77%|███████▋  | 196232/253985 [00:26<00:07, 7567.23it/s]\u001b[A\n",
      "pe_reactome_id:  78%|███████▊  | 196989/253985 [00:26<00:07, 7567.03it/s]\u001b[A\n",
      "pe_reactome_id:  78%|███████▊  | 197748/253985 [00:26<00:07, 7571.09it/s]\u001b[A\n",
      "pe_reactome_id:  78%|███████▊  | 198506/253985 [00:26<00:07, 7572.01it/s]\u001b[A\n",
      "pe_reactome_id:  78%|███████▊  | 199264/253985 [00:26<00:07, 7569.87it/s]\u001b[A\n",
      "pe_reactome_id:  79%|███████▉  | 200021/253985 [00:26<00:07, 7566.29it/s]\u001b[A\n",
      "pe_reactome_id:  79%|███████▉  | 200778/253985 [00:27<00:07, 7556.99it/s]\u001b[A\n",
      "pe_reactome_id:  79%|███████▉  | 201534/253985 [00:27<00:06, 7546.21it/s]\u001b[A\n",
      "pe_reactome_id:  80%|███████▉  | 202289/253985 [00:27<00:06, 7539.54it/s]\u001b[A\n",
      "pe_reactome_id:  80%|███████▉  | 203050/253985 [00:27<00:06, 7559.14it/s]\u001b[A\n",
      "pe_reactome_id:  80%|████████  | 203806/253985 [00:27<00:06, 7542.23it/s]\u001b[A\n",
      "pe_reactome_id:  81%|████████  | 204569/253985 [00:27<00:06, 7567.11it/s]\u001b[A\n",
      "pe_reactome_id:  81%|████████  | 205332/253985 [00:27<00:06, 7583.49it/s]\u001b[A\n",
      "pe_reactome_id:  81%|████████  | 206093/253985 [00:27<00:06, 7590.49it/s]\u001b[A\n",
      "pe_reactome_id:  81%|████████▏ | 206853/253985 [00:27<00:06, 7582.58it/s]\u001b[A\n",
      "pe_reactome_id:  82%|████████▏ | 207612/253985 [00:27<00:06, 7574.20it/s]\u001b[A\n",
      "pe_reactome_id:  82%|████████▏ | 208375/253985 [00:28<00:06, 7589.02it/s]\u001b[A\n",
      "pe_reactome_id:  82%|████████▏ | 209134/253985 [00:28<00:05, 7581.80it/s]\u001b[A\n",
      "pe_reactome_id:  83%|████████▎ | 209895/253985 [00:28<00:05, 7589.70it/s]\u001b[A\n",
      "pe_reactome_id:  83%|████████▎ | 210654/253985 [00:28<00:05, 7586.40it/s]\u001b[A\n",
      "pe_reactome_id:  83%|████████▎ | 211413/253985 [00:28<00:05, 7580.74it/s]\u001b[A\n",
      "pe_reactome_id:  84%|████████▎ | 212172/253985 [00:28<00:05, 7569.20it/s]\u001b[A\n",
      "pe_reactome_id:  84%|████████▍ | 212929/253985 [00:28<00:05, 7553.04it/s]\u001b[A\n",
      "pe_reactome_id:  84%|████████▍ | 213685/253985 [00:28<00:05, 7554.22it/s]\u001b[A\n",
      "pe_reactome_id:  84%|████████▍ | 214441/253985 [00:28<00:05, 7428.72it/s]\u001b[A\n",
      "pe_reactome_id:  85%|████████▍ | 215185/253985 [00:28<00:05, 7419.28it/s]\u001b[A\n",
      "pe_reactome_id:  85%|████████▌ | 215940/253985 [00:29<00:05, 7457.60it/s]\u001b[A\n",
      "pe_reactome_id:  85%|████████▌ | 216687/253985 [00:29<00:05, 7437.51it/s]\u001b[A\n",
      "pe_reactome_id:  86%|████████▌ | 217439/253985 [00:29<00:04, 7460.72it/s]\u001b[A\n",
      "pe_reactome_id:  86%|████████▌ | 218186/253985 [00:29<00:04, 7440.13it/s]\u001b[A\n",
      "pe_reactome_id:  86%|████████▌ | 218931/253985 [00:29<00:04, 7413.85it/s]\u001b[A\n",
      "pe_reactome_id:  86%|████████▋ | 219692/253985 [00:29<00:04, 7470.37it/s]\u001b[A\n",
      "pe_reactome_id:  87%|████████▋ | 220440/253985 [00:29<00:04, 7411.78it/s]\u001b[A\n",
      "pe_reactome_id:  87%|████████▋ | 221182/253985 [00:29<00:04, 7376.56it/s]\u001b[A\n",
      "pe_reactome_id:  87%|████████▋ | 221944/253985 [00:29<00:04, 7447.31it/s]\u001b[A\n",
      "pe_reactome_id:  88%|████████▊ | 222704/253985 [00:29<00:04, 7489.90it/s]\u001b[A\n",
      "pe_reactome_id:  88%|████████▊ | 223468/253985 [00:30<00:04, 7532.26it/s]\u001b[A\n",
      "pe_reactome_id:  88%|████████▊ | 224230/253985 [00:30<00:03, 7557.45it/s]\u001b[A\n",
      "pe_reactome_id:  89%|████████▊ | 224992/253985 [00:30<00:03, 7574.98it/s]\u001b[A\n",
      "pe_reactome_id:  89%|████████▉ | 225750/253985 [00:30<00:03, 7497.20it/s]\u001b[A\n",
      "pe_reactome_id:  89%|████████▉ | 226501/253985 [00:30<00:03, 7437.91it/s]\u001b[A\n",
      "pe_reactome_id:  89%|████████▉ | 227258/253985 [00:30<00:03, 7475.39it/s]\u001b[A\n",
      "pe_reactome_id:  90%|████████▉ | 228021/253985 [00:30<00:03, 7520.65it/s]\u001b[A\n",
      "pe_reactome_id:  90%|█████████ | 228785/253985 [00:30<00:03, 7553.75it/s]\u001b[A\n",
      "pe_reactome_id:  90%|█████████ | 229543/253985 [00:30<00:03, 7559.32it/s]\u001b[A\n",
      "pe_reactome_id:  91%|█████████ | 230300/253985 [00:30<00:03, 7553.02it/s]\u001b[A\n",
      "pe_reactome_id:  91%|█████████ | 231056/253985 [00:31<00:03, 7553.17it/s]\u001b[A\n",
      "pe_reactome_id:  91%|█████████▏| 231814/253985 [00:31<00:02, 7559.51it/s]\u001b[A\n",
      "pe_reactome_id:  92%|█████████▏| 232575/253985 [00:31<00:02, 7572.24it/s]\u001b[A\n",
      "pe_reactome_id:  92%|█████████▏| 233334/253985 [00:31<00:02, 7577.25it/s]\u001b[A\n",
      "pe_reactome_id:  92%|█████████▏| 234092/253985 [00:31<00:02, 7574.39it/s]\u001b[A\n",
      "pe_reactome_id:  92%|█████████▏| 234852/253985 [00:31<00:02, 7580.31it/s]\u001b[A\n",
      "pe_reactome_id:  93%|█████████▎| 235612/253985 [00:31<00:02, 7583.54it/s]\u001b[A\n",
      "pe_reactome_id:  93%|█████████▎| 236371/253985 [00:31<00:02, 7582.89it/s]\u001b[A\n",
      "pe_reactome_id:  93%|█████████▎| 237132/253985 [00:31<00:02, 7590.97it/s]\u001b[A\n",
      "pe_reactome_id:  94%|█████████▎| 237893/253985 [00:31<00:02, 7596.58it/s]\u001b[A\n",
      "pe_reactome_id:  94%|█████████▍| 238653/253985 [00:32<00:02, 7595.79it/s]\u001b[A\n",
      "pe_reactome_id:  94%|█████████▍| 239413/253985 [00:32<00:01, 7545.01it/s]\u001b[A\n",
      "pe_reactome_id:  95%|█████████▍| 240168/253985 [00:32<00:01, 7529.99it/s]\u001b[A\n",
      "pe_reactome_id:  95%|█████████▍| 240928/253985 [00:32<00:01, 7548.68it/s]\u001b[A\n",
      "pe_reactome_id:  95%|█████████▌| 241683/253985 [00:32<00:01, 7506.27it/s]\u001b[A\n",
      "pe_reactome_id:  95%|█████████▌| 242434/253985 [00:32<00:01, 7492.77it/s]\u001b[A\n",
      "pe_reactome_id:  96%|█████████▌| 243194/253985 [00:32<00:01, 7524.31it/s]\u001b[A\n",
      "pe_reactome_id:  96%|█████████▌| 243956/253985 [00:32<00:01, 7552.08it/s]\u001b[A\n",
      "pe_reactome_id:  96%|█████████▋| 244719/253985 [00:32<00:01, 7572.54it/s]\u001b[A\n",
      "pe_reactome_id:  97%|█████████▋| 245480/253985 [00:32<00:01, 7583.12it/s]\u001b[A\n",
      "pe_reactome_id:  97%|█████████▋| 246243/253985 [00:33<00:01, 7596.03it/s]\u001b[A\n",
      "pe_reactome_id:  97%|█████████▋| 247004/253985 [00:33<00:00, 7599.01it/s]\u001b[A\n",
      "pe_reactome_id:  98%|█████████▊| 247765/253985 [00:33<00:00, 7599.85it/s]\u001b[A\n",
      "pe_reactome_id:  98%|█████████▊| 248526/253985 [00:33<00:00, 7601.69it/s]\u001b[A\n",
      "pe_reactome_id:  98%|█████████▊| 249287/253985 [00:33<00:00, 7591.14it/s]\u001b[A\n",
      "pe_reactome_id:  98%|█████████▊| 250050/253985 [00:33<00:00, 7602.64it/s]\u001b[A\n",
      "pe_reactome_id:  99%|█████████▉| 250811/253985 [00:33<00:00, 7604.56it/s]\u001b[A\n",
      "pe_reactome_id:  99%|█████████▉| 251572/253985 [00:33<00:00, 7593.25it/s]\u001b[A\n",
      "pe_reactome_id:  99%|█████████▉| 252332/253985 [00:33<00:00, 7579.26it/s]\u001b[A\n",
      "pe_reactome_id: 100%|█████████▉| 253092/253985 [00:33<00:00, 7582.79it/s]\u001b[A\n",
      "pe_reactome_id: 100%|██████████| 253985/253985 [00:34<00:00, 7438.38it/s]\u001b[A\n",
      "total_progress: 100%|██████████| 1/1 [00:34<00:00, 34.55s/it]\n"
     ]
    }
   ],
   "source": [
    "#Group the one-to-many external to reactome IDs and combine with a '|' character\n",
    "xref_map = (combine_group_cols_on_char(pe_to_external, 'external_id', ['pe_reactome_id'])\n",
    "                .set_index('external_id')['pe_reactome_id']\n",
    "                .to_dict())"
   ]
  },
  {
   "cell_type": "code",
   "execution_count": 150,
   "metadata": {
    "scrolled": true
   },
   "outputs": [
    {
     "data": {
      "text/html": [
       "<div>\n",
       "<style scoped>\n",
       "    .dataframe tbody tr th:only-of-type {\n",
       "        vertical-align: middle;\n",
       "    }\n",
       "\n",
       "    .dataframe tbody tr th {\n",
       "        vertical-align: top;\n",
       "    }\n",
       "\n",
       "    .dataframe thead th {\n",
       "        text-align: right;\n",
       "    }\n",
       "</style>\n",
       "<table border=\"1\" class=\"dataframe\">\n",
       "  <thead>\n",
       "    <tr style=\"text-align: right;\">\n",
       "      <th></th>\n",
       "      <th>id</th>\n",
       "      <th>name</th>\n",
       "      <th>label</th>\n",
       "      <th>xrefs</th>\n",
       "    </tr>\n",
       "  </thead>\n",
       "  <tbody>\n",
       "    <tr>\n",
       "      <th>102975</th>\n",
       "      <td>NCBIGene:1</td>\n",
       "      <td>A1BG</td>\n",
       "      <td>Gene</td>\n",
       "      <td>REACT:R-HSA-6801076|REACT:R-HSA-8848894|REACT:...</td>\n",
       "    </tr>\n",
       "    <tr>\n",
       "      <th>102976</th>\n",
       "      <td>NCBIGene:10</td>\n",
       "      <td>NAT2</td>\n",
       "      <td>Gene</td>\n",
       "      <td>REACT:R-HSA-158833|REACT:R-HSA-158692</td>\n",
       "    </tr>\n",
       "  </tbody>\n",
       "</table>\n",
       "</div>"
      ],
      "text/plain": [
       "                 id  name label  \\\n",
       "102975   NCBIGene:1  A1BG  Gene   \n",
       "102976  NCBIGene:10  NAT2  Gene   \n",
       "\n",
       "                                                    xrefs  \n",
       "102975  REACT:R-HSA-6801076|REACT:R-HSA-8848894|REACT:...  \n",
       "102976              REACT:R-HSA-158833|REACT:R-HSA-158692  "
      ]
     },
     "execution_count": 150,
     "metadata": {},
     "output_type": "execute_result"
    }
   ],
   "source": [
    "nodes['xrefs'] = nodes['id'].map(xref_map)\n",
    "nodes.query('label == \"Gene\"').head(2)"
   ]
  },
  {
   "cell_type": "markdown",
   "metadata": {},
   "source": [
    "#### Build and filter the edges"
   ]
  },
  {
   "cell_type": "code",
   "execution_count": 151,
   "metadata": {},
   "outputs": [
    {
     "name": "stdout",
     "output_type": "stream",
     "text": [
      "7,544,191\n"
     ]
    }
   ],
   "source": [
    "edges = pd.concat([reactome_edges, role_edges, goa_edges]+edges, ignore_index=True, sort=False)\n",
    "print('{:,}'.format(len(edges)))"
   ]
  },
  {
   "cell_type": "code",
   "execution_count": 152,
   "metadata": {},
   "outputs": [
    {
     "name": "stdout",
     "output_type": "stream",
     "text": [
      "7,468,755\n"
     ]
    }
   ],
   "source": [
    "edges = edges.drop_duplicates(subset=['start_id', 'end_id', 'type'])\n",
    "print('{:,}'.format(len(edges)))"
   ]
  },
  {
   "cell_type": "code",
   "execution_count": 153,
   "metadata": {},
   "outputs": [],
   "source": [
    "node_ids = nodes['id'].unique()"
   ]
  },
  {
   "cell_type": "code",
   "execution_count": 154,
   "metadata": {},
   "outputs": [
    {
     "name": "stdout",
     "output_type": "stream",
     "text": [
      "7,468,739\n"
     ]
    }
   ],
   "source": [
    "edges = edges.query('start_id in @node_ids and end_id in @node_ids')\n",
    "print('{:,}'.format(len(edges)))"
   ]
  },
  {
   "cell_type": "markdown",
   "metadata": {},
   "source": [
    "Lost a few edges, likely from the Protein Role flat file"
   ]
  },
  {
   "cell_type": "code",
   "execution_count": 155,
   "metadata": {},
   "outputs": [
    {
     "name": "stdout",
     "output_type": "stream",
     "text": [
      "426,779\n"
     ]
    }
   ],
   "source": [
    "edge_ids = set(edges['start_id']) | set(edges['end_id'])\n",
    "print('{:,}'.format(len(nodes.query('id in @edge_ids'))))"
   ]
  },
  {
   "cell_type": "code",
   "execution_count": 156,
   "metadata": {},
   "outputs": [
    {
     "data": {
      "image/png": "[encoded data removed]",
      "text/plain": [
       "<Figure size 432x288 with 1 Axes>"
      ]
     },
     "metadata": {
      "needs_background": "light"
     },
     "output_type": "display_data"
    }
   ],
   "source": [
    "count_plot_h(edges['dsrc_type'])"
   ]
  },
  {
   "cell_type": "code",
   "execution_count": 157,
   "metadata": {},
   "outputs": [
    {
     "data": {
      "text/plain": [
       "part_of                 5617702\n",
       "has_input                668212\n",
       "has_output               632986\n",
       "in_taxon                 424605\n",
       "follows_in_sequence       49821\n",
       "involved_in               31945\n",
       "regulates                 25441\n",
       "positively_regulates       6303\n",
       "enables                    3662\n",
       "negatively_regulates       3173\n",
       "fucntion_altered_in        2373\n",
       "associated_with            1232\n",
       "disrupts                    671\n",
       "disrupted_in                613\n",
       "Name: type, dtype: int64"
      ]
     },
     "execution_count": 157,
     "metadata": {},
     "output_type": "execute_result"
    }
   ],
   "source": [
    "edges['type'].value_counts()"
   ]
  },
  {
   "cell_type": "code",
   "execution_count": 158,
   "metadata": {},
   "outputs": [],
   "source": [
    "combo = combine_nodes_and_edges(nodes, edges)"
   ]
  },
  {
   "cell_type": "code",
   "execution_count": 159,
   "metadata": {},
   "outputs": [
    {
     "data": {
      "text/plain": [
       "58"
      ]
     },
     "execution_count": 159,
     "metadata": {},
     "output_type": "execute_result"
    }
   ],
   "source": [
    "meta_edges = combo['start_label'] + '_' + combo['type'] + '_' + combo['end_label']\n",
    "meta_edges.nunique()"
   ]
  },
  {
   "cell_type": "code",
   "execution_count": 160,
   "metadata": {},
   "outputs": [
    {
     "data": {
      "image/png": "[encoded data removed]",
      "text/plain": [
       "<Figure size 432x1152 with 1 Axes>"
      ]
     },
     "metadata": {
      "needs_background": "light"
     },
     "output_type": "display_data"
    }
   ],
   "source": [
    "plt.figure(figsize=(6, 16))\n",
    "count_plot_h(meta_edges)"
   ]
  },
  {
   "cell_type": "markdown",
   "metadata": {},
   "source": [
    "# Save results"
   ]
  },
  {
   "cell_type": "code",
   "execution_count": 161,
   "metadata": {},
   "outputs": [],
   "source": [
    "edges['source'] = 'Reactome'\n",
    "edges['license'] = 'CC0 1.0'"
   ]
  },
  {
   "cell_type": "code",
   "execution_count": 162,
   "metadata": {},
   "outputs": [],
   "source": [
    "nb_name = '02b_Reactome_Process_Queries'\n",
    "out_dir = Path('../2_pipeline/').joinpath(nb_name, 'out').resolve()\n",
    "\n",
    "# Make the output directory if doesn't already exist\n",
    "out_dir.mkdir(parents=True, exist_ok=True)\n",
    "\n",
    "nodes.to_csv(out_dir.joinpath('nodes.csv'), index=False)\n",
    "edges.to_csv(out_dir.joinpath('edges.csv'), index=False)"
   ]
  }
 ],
 "metadata": {
  "kernelspec": {
   "display_name": "Python 3",
   "language": "python",
   "name": "python3"
  },
  "language_info": {
   "codemirror_mode": {
    "name": "ipython",
    "version": 3
   },
   "file_extension": ".py",
   "mimetype": "text/x-python",
   "name": "python",
   "nbconvert_exporter": "python",
   "pygments_lexer": "ipython3",
   "version": "3.7.5"
  }
 },
 "nbformat": 4,
 "nbformat_minor": 2
}
