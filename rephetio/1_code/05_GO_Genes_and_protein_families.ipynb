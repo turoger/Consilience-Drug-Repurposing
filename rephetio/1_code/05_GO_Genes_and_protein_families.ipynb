{
 "cells": [
  {
   "cell_type": "code",
   "execution_count": 1,
   "metadata": {},
   "outputs": [],
   "source": [
    "import numpy as np\n",
    "import pandas as pd\n",
    "from pathlib import Path\n",
    "from tools.hetnet_file_processing import read_reactome\n",
    "from tools.processing import regularize_colnames, head, expand_col_on_char, \\\n",
    "                                        combine_group_rows_on_char, load_api_results\n",
    "from hetnet_ml.src import graph_tools as gt\n",
    "\n",
    "%matplotlib inline\n",
    "import seaborn as sns\n",
    "import matplotlib.pyplot as plt\n",
    "\n",
    "load_dir = Path('../2_pipeline/00_download_data/out/').resolve()\n",
    "network_dir = load_dir.parent.parent.joinpath('04_Incorporating_reactome/out')"
   ]
  },
  {
   "cell_type": "code",
   "execution_count": 2,
   "metadata": {},
   "outputs": [
    {
     "data": {
      "application/javascript": [
       "IPython.notebook.kernel.execute('nb_name = \"' + IPython.notebook.notebook_name + '\"')\n",
       "// hack to get the filename for this notebook"
      ],
      "text/plain": [
       "<IPython.core.display.Javascript object>"
      ]
     },
     "metadata": {},
     "output_type": "display_data"
    }
   ],
   "source": [
    "%%javascript\n",
    "IPython.notebook.kernel.execute('nb_name = \"' + IPython.notebook.notebook_name + '\"')\n",
    "// hack to get the filename for this notebook"
   ]
  },
  {
   "cell_type": "code",
   "execution_count": 3,
   "metadata": {},
   "outputs": [],
   "source": [
    "out_dir = Path('../2_pipeline/').joinpath(nb_name.split('.')[0]).joinpath('out').resolve()\n",
    "out_dir.mkdir(parents=True, exist_ok=True)"
   ]
  },
  {
   "cell_type": "code",
   "execution_count": 4,
   "metadata": {},
   "outputs": [],
   "source": [
    "colors = sns.color_palette([\"#4f8c9d\", \"#e23209\", \"#77be20\", \"#a34ddf\", \"#34f50e\", \"#871d32\", \"#18d19b\"])\n",
    "sns.set_palette(colors)"
   ]
  },
  {
   "cell_type": "code",
   "execution_count": 5,
   "metadata": {},
   "outputs": [],
   "source": [
    "all_nodes = gt.remove_colons(pd.read_csv(network_dir.joinpath('nodes_all.csv'), dtype=str))\n",
    "edges = gt.remove_colons(pd.read_csv(network_dir.joinpath('edges.csv'), dtype=str))"
   ]
  },
  {
   "cell_type": "code",
   "execution_count": 6,
   "metadata": {},
   "outputs": [],
   "source": [
    "all_node_ids = all_nodes['id'].values\n",
    "new_nodes = []\n",
    "new_edges = []"
   ]
  },
  {
   "cell_type": "code",
   "execution_count": 7,
   "metadata": {},
   "outputs": [
    {
     "data": {
      "text/html": [
       "<div>\n",
       "<style scoped>\n",
       "    .dataframe tbody tr th:only-of-type {\n",
       "        vertical-align: middle;\n",
       "    }\n",
       "\n",
       "    .dataframe tbody tr th {\n",
       "        vertical-align: top;\n",
       "    }\n",
       "\n",
       "    .dataframe thead th {\n",
       "        text-align: right;\n",
       "    }\n",
       "</style>\n",
       "<table border=\"1\" class=\"dataframe\">\n",
       "  <thead>\n",
       "    <tr style=\"text-align: right;\">\n",
       "      <th></th>\n",
       "      <th>id</th>\n",
       "      <th>name</th>\n",
       "      <th>label</th>\n",
       "      <th>tree_numbers</th>\n",
       "      <th>drug_bank_ids</th>\n",
       "      <th>alt_disease_ids</th>\n",
       "      <th>gene_symbol</th>\n",
       "      <th>alt_gene_ids</th>\n",
       "      <th>bio_gridids</th>\n",
       "      <th>pharm_gkbids</th>\n",
       "      <th>uni_prot_ids</th>\n",
       "      <th>uniprot_id</th>\n",
       "      <th>mesh_ids</th>\n",
       "      <th>chebi_ids</th>\n",
       "    </tr>\n",
       "  </thead>\n",
       "  <tbody>\n",
       "    <tr>\n",
       "      <th>0</th>\n",
       "      <td>MESH:C089250</td>\n",
       "      <td>(0.017ferrocene)amylose</td>\n",
       "      <td>Compound</td>\n",
       "      <td>D01.490.200/C089250|D02.691.550.200/C089250|D0...</td>\n",
       "      <td>NaN</td>\n",
       "      <td>NaN</td>\n",
       "      <td>NaN</td>\n",
       "      <td>NaN</td>\n",
       "      <td>NaN</td>\n",
       "      <td>NaN</td>\n",
       "      <td>NaN</td>\n",
       "      <td>NaN</td>\n",
       "      <td>NaN</td>\n",
       "      <td>NaN</td>\n",
       "    </tr>\n",
       "    <tr>\n",
       "      <th>1</th>\n",
       "      <td>MESH:C114385</td>\n",
       "      <td>001-C8-NBD</td>\n",
       "      <td>Compound</td>\n",
       "      <td>D03.383.129.462.580/C114385|D12.644.456/C114385</td>\n",
       "      <td>NaN</td>\n",
       "      <td>NaN</td>\n",
       "      <td>NaN</td>\n",
       "      <td>NaN</td>\n",
       "      <td>NaN</td>\n",
       "      <td>NaN</td>\n",
       "      <td>NaN</td>\n",
       "      <td>NaN</td>\n",
       "      <td>NaN</td>\n",
       "      <td>NaN</td>\n",
       "    </tr>\n",
       "  </tbody>\n",
       "</table>\n",
       "</div>"
      ],
      "text/plain": [
       "             id                     name     label  \\\n",
       "0  MESH:C089250  (0.017ferrocene)amylose  Compound   \n",
       "1  MESH:C114385               001-C8-NBD  Compound   \n",
       "\n",
       "                                        tree_numbers drug_bank_ids  \\\n",
       "0  D01.490.200/C089250|D02.691.550.200/C089250|D0...           NaN   \n",
       "1    D03.383.129.462.580/C114385|D12.644.456/C114385           NaN   \n",
       "\n",
       "  alt_disease_ids gene_symbol alt_gene_ids bio_gridids pharm_gkbids  \\\n",
       "0             NaN         NaN          NaN         NaN          NaN   \n",
       "1             NaN         NaN          NaN         NaN          NaN   \n",
       "\n",
       "  uni_prot_ids uniprot_id mesh_ids chebi_ids  \n",
       "0          NaN        NaN      NaN       NaN  \n",
       "1          NaN        NaN      NaN       NaN  "
      ]
     },
     "execution_count": 7,
     "metadata": {},
     "output_type": "execute_result"
    }
   ],
   "source": [
    "all_nodes.head(2)"
   ]
  },
  {
   "cell_type": "markdown",
   "metadata": {},
   "source": [
    "# GO to Gene Relationships..."
   ]
  },
  {
   "cell_type": "code",
   "execution_count": 8,
   "metadata": {},
   "outputs": [],
   "source": [
    "gene_term_edges = edges.query('abbv in {}'.format(['GeMF', 'GpoCC', 'GinBP']))"
   ]
  },
  {
   "cell_type": "code",
   "execution_count": 9,
   "metadata": {},
   "outputs": [],
   "source": [
    "terms_per_gene = gene_term_edges.groupby(['start_id', 'abbv']).apply(len)\n",
    "terms_per_gene = terms_per_gene.to_frame().reset_index().rename(columns={0: 'count'})"
   ]
  },
  {
   "cell_type": "code",
   "execution_count": 10,
   "metadata": {},
   "outputs": [
    {
     "data": {
      "image/png": "[encoded data removed]",
      "text/plain": [
       "<Figure size 432x288 with 1 Axes>"
      ]
     },
     "metadata": {
      "needs_background": "light"
     },
     "output_type": "display_data"
    }
   ],
   "source": [
    "sns.violinplot(x='abbv', y='count', data=terms_per_gene);"
   ]
  },
  {
   "cell_type": "code",
   "execution_count": 11,
   "metadata": {
    "scrolled": true
   },
   "outputs": [
    {
     "data": {
      "image/png": "[encoded data removed]",
      "text/plain": [
       "<Figure size 432x288 with 1 Axes>"
      ]
     },
     "metadata": {
      "needs_background": "light"
     },
     "output_type": "display_data"
    }
   ],
   "source": [
    "lim = 31\n",
    "\n",
    "# Ensure around 15 bins...\n",
    "i = 1\n",
    "while (lim // i) > 9:\n",
    "    i += 1\n",
    "\n",
    "bins = np.arange(0, lim+1, i)\n",
    "\n",
    "\n",
    "sns.distplot(terms_per_gene.query('count <= @lim and abbv == \"GeMF\"')['count'].fillna(0), \n",
    "             label='Molecular Function', kde=False, bins=bins)\n",
    "\n",
    "sns.distplot(terms_per_gene.query('count <= @lim and abbv == \"GinBP\"')['count'].fillna(0), \n",
    "             label='Biological Process', kde=False, bins=bins)\n",
    "\n",
    "sns.distplot(terms_per_gene.query('count <= @lim and abbv == \"GpoCC\"')['count'].fillna(0), \n",
    "             label='Cellular Component', kde=False, bins=bins)\n",
    "\n",
    "plt.xlabel('Terms Per Gene')\n",
    "plt.ylabel('Number of Genes')\n",
    "plt.title('Distribution of GO terms per gene by type')\n",
    "plt.xticks(bins[::2].tolist())\n",
    "\n",
    "plt.legend();"
   ]
  },
  {
   "cell_type": "code",
   "execution_count": 12,
   "metadata": {},
   "outputs": [
    {
     "data": {
      "image/png": "[encoded data removed]",
      "text/plain": [
       "<Figure size 540x540 with 12 Axes>"
      ]
     },
     "metadata": {
      "needs_background": "light"
     },
     "output_type": "display_data"
    }
   ],
   "source": [
    "pivot_terms = terms_per_gene.query('count <= 20').pivot(index='start_id', columns='abbv', values='count')\n",
    "sns.pairplot(pivot_terms.fillna(0));"
   ]
  },
  {
   "cell_type": "code",
   "execution_count": 13,
   "metadata": {},
   "outputs": [
    {
     "data": {
      "image/png": "[encoded data removed]",
      "text/plain": [
       "<Figure size 432x288 with 1 Axes>"
      ]
     },
     "metadata": {
      "needs_background": "light"
     },
     "output_type": "display_data"
    }
   ],
   "source": [
    "terms_per_gene.groupby('abbv')['count'].max().plot(kind='bar', color=colors);\n",
    "plt.xlabel('GO Term Type')\n",
    "plt.ylabel('Max terms per gene')\n",
    "plt.xticks(rotation=0)\n",
    "plt.title('Max GO Term annotations for a single gene');"
   ]
  },
  {
   "cell_type": "code",
   "execution_count": 14,
   "metadata": {},
   "outputs": [
    {
     "data": {
      "image/png": "[encoded data removed]",
      "text/plain": [
       "<Figure size 432x288 with 1 Axes>"
      ]
     },
     "metadata": {
      "needs_background": "light"
     },
     "output_type": "display_data"
    }
   ],
   "source": [
    "terms_per_gene.groupby('abbv')['count'].mean().plot(kind='bar', color=colors);\n",
    "plt.xlabel('GO Term Type')\n",
    "plt.ylabel('Mean terms per gene')\n",
    "plt.xticks(rotation=0)\n",
    "plt.title('Average GO Term annotations per gene');"
   ]
  },
  {
   "cell_type": "code",
   "execution_count": 15,
   "metadata": {},
   "outputs": [
    {
     "data": {
      "image/png": "[encoded data removed]",
      "text/plain": [
       "<Figure size 432x288 with 1 Axes>"
      ]
     },
     "metadata": {
      "needs_background": "light"
     },
     "output_type": "display_data"
    }
   ],
   "source": [
    "terms_per_gene.groupby('abbv')['count'].median().plot(kind='bar', color=colors);\n",
    "plt.xlabel('GO Term Type')\n",
    "plt.ylabel('Median terms per gene')\n",
    "plt.xticks(rotation=0)\n",
    "plt.title('Median GO Term annotations per gene');"
   ]
  },
  {
   "cell_type": "code",
   "execution_count": 16,
   "metadata": {
    "scrolled": true
   },
   "outputs": [
    {
     "name": "stdout",
     "output_type": "stream",
     "text": [
      "!date: 2019/03/22 10:12:05\n",
      "!Mapping of InterPro entries to GO\n",
      "!\n",
      "InterPro:IPR000003 Retinoid X receptor/HNF4 > GO:DNA binding ; GO:0003677\n",
      "InterPro:IPR000003 Retinoid X receptor/HNF4 > GO:steroid hormone receptor activity ; GO:0003707\n",
      "InterPro:IPR000003 Retinoid X receptor/HNF4 > GO:zinc ion binding ; GO:0008270\n",
      "\n"
     ]
    }
   ],
   "source": [
    "head(load_dir.joinpath('interpro2go.txt'), n_lines=6)"
   ]
  },
  {
   "cell_type": "code",
   "execution_count": 17,
   "metadata": {},
   "outputs": [],
   "source": [
    "# Delimiters are garbage in this file... They are the first space on the line ' ', \n",
    "# then ' > ', and ' ; '. We can use a regex to get the second and 3rd dels... but I'll have to manually \n",
    "# take care of the first... Whoever thoguht that was a good idea needs a talking to....\n",
    "\n",
    "ipr_to_go = pd.read_csv(load_dir.joinpath('interpro2go.txt'), sep='\\ \\>\\ |\\ ;\\ ', engine='python',\n",
    "                         comment='!', names=['ip_info', 'go_name', 'go_id'])\n",
    "\n",
    "# Split on the first space, and rejoin\n",
    "ipr_to_go['ip_id'] = ipr_to_go['ip_info'].str.split(' ', expand=True)[0]\n",
    "ipr_to_go['ip_name'] = ipr_to_go['ip_info'].apply(lambda i: ' '.join(i.split(' ')[1:]))\n",
    "\n",
    "# Remove the dual-info line and return proper column order\n",
    "ipr_to_go = ipr_to_go.drop([c for c in ipr_to_go if '_info' in c], axis=1)[['ip_id', 'ip_name', 'go_name', 'go_id']]"
   ]
  },
  {
   "cell_type": "code",
   "execution_count": 18,
   "metadata": {},
   "outputs": [
    {
     "data": {
      "text/html": [
       "<div>\n",
       "<style scoped>\n",
       "    .dataframe tbody tr th:only-of-type {\n",
       "        vertical-align: middle;\n",
       "    }\n",
       "\n",
       "    .dataframe tbody tr th {\n",
       "        vertical-align: top;\n",
       "    }\n",
       "\n",
       "    .dataframe thead th {\n",
       "        text-align: right;\n",
       "    }\n",
       "</style>\n",
       "<table border=\"1\" class=\"dataframe\">\n",
       "  <thead>\n",
       "    <tr style=\"text-align: right;\">\n",
       "      <th></th>\n",
       "      <th>ip_id</th>\n",
       "      <th>ip_name</th>\n",
       "      <th>go_name</th>\n",
       "      <th>go_id</th>\n",
       "    </tr>\n",
       "  </thead>\n",
       "  <tbody>\n",
       "    <tr>\n",
       "      <th>0</th>\n",
       "      <td>InterPro:IPR000003</td>\n",
       "      <td>Retinoid X receptor/HNF4</td>\n",
       "      <td>GO:DNA binding</td>\n",
       "      <td>GO:0003677</td>\n",
       "    </tr>\n",
       "    <tr>\n",
       "      <th>1</th>\n",
       "      <td>InterPro:IPR000003</td>\n",
       "      <td>Retinoid X receptor/HNF4</td>\n",
       "      <td>GO:steroid hormone receptor activity</td>\n",
       "      <td>GO:0003707</td>\n",
       "    </tr>\n",
       "    <tr>\n",
       "      <th>2</th>\n",
       "      <td>InterPro:IPR000003</td>\n",
       "      <td>Retinoid X receptor/HNF4</td>\n",
       "      <td>GO:zinc ion binding</td>\n",
       "      <td>GO:0008270</td>\n",
       "    </tr>\n",
       "    <tr>\n",
       "      <th>3</th>\n",
       "      <td>InterPro:IPR000003</td>\n",
       "      <td>Retinoid X receptor/HNF4</td>\n",
       "      <td>GO:regulation of transcription, DNA-templated</td>\n",
       "      <td>GO:0006355</td>\n",
       "    </tr>\n",
       "    <tr>\n",
       "      <th>4</th>\n",
       "      <td>InterPro:IPR000003</td>\n",
       "      <td>Retinoid X receptor/HNF4</td>\n",
       "      <td>GO:nucleus</td>\n",
       "      <td>GO:0005634</td>\n",
       "    </tr>\n",
       "    <tr>\n",
       "      <th>5</th>\n",
       "      <td>InterPro:IPR000006</td>\n",
       "      <td>Metallothionein, vertebrate</td>\n",
       "      <td>GO:metal ion binding</td>\n",
       "      <td>GO:0046872</td>\n",
       "    </tr>\n",
       "    <tr>\n",
       "      <th>6</th>\n",
       "      <td>InterPro:IPR000009</td>\n",
       "      <td>Protein phosphatase 2A regulatory subunit PR55</td>\n",
       "      <td>GO:protein phosphatase regulator activity</td>\n",
       "      <td>GO:0019888</td>\n",
       "    </tr>\n",
       "    <tr>\n",
       "      <th>7</th>\n",
       "      <td>InterPro:IPR000009</td>\n",
       "      <td>Protein phosphatase 2A regulatory subunit PR55</td>\n",
       "      <td>GO:protein phosphatase type 2A complex</td>\n",
       "      <td>GO:0000159</td>\n",
       "    </tr>\n",
       "    <tr>\n",
       "      <th>8</th>\n",
       "      <td>InterPro:IPR000010</td>\n",
       "      <td>Cystatin domain</td>\n",
       "      <td>GO:cysteine-type endopeptidase inhibitor activity</td>\n",
       "      <td>GO:0004869</td>\n",
       "    </tr>\n",
       "    <tr>\n",
       "      <th>9</th>\n",
       "      <td>InterPro:IPR000011</td>\n",
       "      <td>Ubiquitin/SUMO-activating enzyme E1</td>\n",
       "      <td>GO:ubiquitin-like modifier activating enzyme a...</td>\n",
       "      <td>GO:0008641</td>\n",
       "    </tr>\n",
       "    <tr>\n",
       "      <th>10</th>\n",
       "      <td>InterPro:IPR000011</td>\n",
       "      <td>Ubiquitin/SUMO-activating enzyme E1</td>\n",
       "      <td>GO:cellular protein modification process</td>\n",
       "      <td>GO:0006464</td>\n",
       "    </tr>\n",
       "    <tr>\n",
       "      <th>11</th>\n",
       "      <td>InterPro:IPR000012</td>\n",
       "      <td>Retroviral VpR/VpX protein</td>\n",
       "      <td>GO:viral life cycle</td>\n",
       "      <td>GO:0019058</td>\n",
       "    </tr>\n",
       "    <tr>\n",
       "      <th>12</th>\n",
       "      <td>InterPro:IPR000012</td>\n",
       "      <td>Retroviral VpR/VpX protein</td>\n",
       "      <td>GO:host cell nucleus</td>\n",
       "      <td>GO:0042025</td>\n",
       "    </tr>\n",
       "    <tr>\n",
       "      <th>13</th>\n",
       "      <td>InterPro:IPR000013</td>\n",
       "      <td>Peptidase M7, snapalysin</td>\n",
       "      <td>GO:metalloendopeptidase activity</td>\n",
       "      <td>GO:0004222</td>\n",
       "    </tr>\n",
       "    <tr>\n",
       "      <th>14</th>\n",
       "      <td>InterPro:IPR000013</td>\n",
       "      <td>Peptidase M7, snapalysin</td>\n",
       "      <td>GO:zinc ion binding</td>\n",
       "      <td>GO:0008270</td>\n",
       "    </tr>\n",
       "    <tr>\n",
       "      <th>15</th>\n",
       "      <td>InterPro:IPR000013</td>\n",
       "      <td>Peptidase M7, snapalysin</td>\n",
       "      <td>GO:proteolysis</td>\n",
       "      <td>GO:0006508</td>\n",
       "    </tr>\n",
       "    <tr>\n",
       "      <th>16</th>\n",
       "      <td>InterPro:IPR000013</td>\n",
       "      <td>Peptidase M7, snapalysin</td>\n",
       "      <td>GO:extracellular region</td>\n",
       "      <td>GO:0005576</td>\n",
       "    </tr>\n",
       "    <tr>\n",
       "      <th>17</th>\n",
       "      <td>InterPro:IPR000015</td>\n",
       "      <td>Outer membrane usher protein</td>\n",
       "      <td>GO:fimbrial usher porin activity</td>\n",
       "      <td>GO:0015473</td>\n",
       "    </tr>\n",
       "    <tr>\n",
       "      <th>18</th>\n",
       "      <td>InterPro:IPR000015</td>\n",
       "      <td>Outer membrane usher protein</td>\n",
       "      <td>GO:pilus assembly</td>\n",
       "      <td>GO:0009297</td>\n",
       "    </tr>\n",
       "    <tr>\n",
       "      <th>19</th>\n",
       "      <td>InterPro:IPR000015</td>\n",
       "      <td>Outer membrane usher protein</td>\n",
       "      <td>GO:membrane</td>\n",
       "      <td>GO:0016020</td>\n",
       "    </tr>\n",
       "    <tr>\n",
       "      <th>20</th>\n",
       "      <td>InterPro:IPR000018</td>\n",
       "      <td>P2Y purinoceptor 4</td>\n",
       "      <td>GO:G protein-coupled purinergic nucleotide rec...</td>\n",
       "      <td>GO:0045028</td>\n",
       "    </tr>\n",
       "    <tr>\n",
       "      <th>21</th>\n",
       "      <td>InterPro:IPR000018</td>\n",
       "      <td>P2Y purinoceptor 4</td>\n",
       "      <td>GO:G protein-coupled receptor signaling pathway</td>\n",
       "      <td>GO:0007186</td>\n",
       "    </tr>\n",
       "    <tr>\n",
       "      <th>22</th>\n",
       "      <td>InterPro:IPR000018</td>\n",
       "      <td>P2Y purinoceptor 4</td>\n",
       "      <td>GO:transepithelial chloride transport</td>\n",
       "      <td>GO:0030321</td>\n",
       "    </tr>\n",
       "    <tr>\n",
       "      <th>23</th>\n",
       "      <td>InterPro:IPR000018</td>\n",
       "      <td>P2Y purinoceptor 4</td>\n",
       "      <td>GO:integral component of membrane</td>\n",
       "      <td>GO:0016021</td>\n",
       "    </tr>\n",
       "    <tr>\n",
       "      <th>24</th>\n",
       "      <td>InterPro:IPR000020</td>\n",
       "      <td>Anaphylatoxin/fibulin</td>\n",
       "      <td>GO:extracellular region</td>\n",
       "      <td>GO:0005576</td>\n",
       "    </tr>\n",
       "    <tr>\n",
       "      <th>25</th>\n",
       "      <td>InterPro:IPR000021</td>\n",
       "      <td>Hok/gef cell toxic protein</td>\n",
       "      <td>GO:membrane</td>\n",
       "      <td>GO:0016020</td>\n",
       "    </tr>\n",
       "    <tr>\n",
       "      <th>26</th>\n",
       "      <td>InterPro:IPR000023</td>\n",
       "      <td>Phosphofructokinase domain</td>\n",
       "      <td>GO:6-phosphofructokinase activity</td>\n",
       "      <td>GO:0003872</td>\n",
       "    </tr>\n",
       "    <tr>\n",
       "      <th>27</th>\n",
       "      <td>InterPro:IPR000023</td>\n",
       "      <td>Phosphofructokinase domain</td>\n",
       "      <td>GO:glycolytic process</td>\n",
       "      <td>GO:0006096</td>\n",
       "    </tr>\n",
       "    <tr>\n",
       "      <th>28</th>\n",
       "      <td>InterPro:IPR000025</td>\n",
       "      <td>Melatonin receptor family</td>\n",
       "      <td>GO:melatonin receptor activity</td>\n",
       "      <td>GO:0008502</td>\n",
       "    </tr>\n",
       "    <tr>\n",
       "      <th>29</th>\n",
       "      <td>InterPro:IPR000025</td>\n",
       "      <td>Melatonin receptor family</td>\n",
       "      <td>GO:G protein-coupled receptor signaling pathway</td>\n",
       "      <td>GO:0007186</td>\n",
       "    </tr>\n",
       "    <tr>\n",
       "      <th>...</th>\n",
       "      <td>...</td>\n",
       "      <td>...</td>\n",
       "      <td>...</td>\n",
       "      <td>...</td>\n",
       "    </tr>\n",
       "    <tr>\n",
       "      <th>34132</th>\n",
       "      <td>InterPro:IPR041833</td>\n",
       "      <td>Rab21</td>\n",
       "      <td>GO:GTPase activity</td>\n",
       "      <td>GO:0003924</td>\n",
       "    </tr>\n",
       "    <tr>\n",
       "      <th>34133</th>\n",
       "      <td>InterPro:IPR041833</td>\n",
       "      <td>Rab21</td>\n",
       "      <td>GO:Rab protein signal transduction</td>\n",
       "      <td>GO:0032482</td>\n",
       "    </tr>\n",
       "    <tr>\n",
       "      <th>34134</th>\n",
       "      <td>InterPro:IPR041836</td>\n",
       "      <td>Rab20</td>\n",
       "      <td>GO:GTPase activity</td>\n",
       "      <td>GO:0003924</td>\n",
       "    </tr>\n",
       "    <tr>\n",
       "      <th>34135</th>\n",
       "      <td>InterPro:IPR041837</td>\n",
       "      <td>Rab27a/b</td>\n",
       "      <td>GO:GTPase activity</td>\n",
       "      <td>GO:0003924</td>\n",
       "    </tr>\n",
       "    <tr>\n",
       "      <th>34136</th>\n",
       "      <td>InterPro:IPR041838</td>\n",
       "      <td>ADP-ribosylation factor 6</td>\n",
       "      <td>GO:GTPase activity</td>\n",
       "      <td>GO:0003924</td>\n",
       "    </tr>\n",
       "    <tr>\n",
       "      <th>34137</th>\n",
       "      <td>InterPro:IPR041839</td>\n",
       "      <td>ADP-ribosylation factor-like protein 6</td>\n",
       "      <td>GO:GTPase activity</td>\n",
       "      <td>GO:0003924</td>\n",
       "    </tr>\n",
       "    <tr>\n",
       "      <th>34138</th>\n",
       "      <td>InterPro:IPR041840</td>\n",
       "      <td>Ras-related protein Rap2</td>\n",
       "      <td>GO:GTPase activity</td>\n",
       "      <td>GO:0003924</td>\n",
       "    </tr>\n",
       "    <tr>\n",
       "      <th>34139</th>\n",
       "      <td>InterPro:IPR041840</td>\n",
       "      <td>Ras-related protein Rap2</td>\n",
       "      <td>GO:Rap protein signal transduction</td>\n",
       "      <td>GO:0032486</td>\n",
       "    </tr>\n",
       "    <tr>\n",
       "      <th>34140</th>\n",
       "      <td>InterPro:IPR041841</td>\n",
       "      <td>Ras-related protein Rsr1</td>\n",
       "      <td>GO:GTPase activity</td>\n",
       "      <td>GO:0003924</td>\n",
       "    </tr>\n",
       "    <tr>\n",
       "      <th>34141</th>\n",
       "      <td>InterPro:IPR041847</td>\n",
       "      <td>Cytosolic phospholipase A2, C2 domain</td>\n",
       "      <td>GO:calcium ion binding</td>\n",
       "      <td>GO:0005509</td>\n",
       "    </tr>\n",
       "    <tr>\n",
       "      <th>34142</th>\n",
       "      <td>InterPro:IPR041848</td>\n",
       "      <td>Guanine nucleotide-binding protein subunit gam...</td>\n",
       "      <td>GO:G-protein beta-subunit binding</td>\n",
       "      <td>GO:0031681</td>\n",
       "    </tr>\n",
       "    <tr>\n",
       "      <th>34143</th>\n",
       "      <td>InterPro:IPR041848</td>\n",
       "      <td>Guanine nucleotide-binding protein subunit gam...</td>\n",
       "      <td>GO:pheromone-dependent signal transduction inv...</td>\n",
       "      <td>GO:0000750</td>\n",
       "    </tr>\n",
       "    <tr>\n",
       "      <th>34144</th>\n",
       "      <td>InterPro:IPR041848</td>\n",
       "      <td>Guanine nucleotide-binding protein subunit gam...</td>\n",
       "      <td>GO:G protein-coupled receptor signaling pathway</td>\n",
       "      <td>GO:0007186</td>\n",
       "    </tr>\n",
       "    <tr>\n",
       "      <th>34145</th>\n",
       "      <td>InterPro:IPR041874</td>\n",
       "      <td>Carbonic anhydrase, CA4/CA15</td>\n",
       "      <td>GO:carbonate dehydratase activity</td>\n",
       "      <td>GO:0004089</td>\n",
       "    </tr>\n",
       "    <tr>\n",
       "      <th>34146</th>\n",
       "      <td>InterPro:IPR041890</td>\n",
       "      <td>Carbonic anhydrase VII</td>\n",
       "      <td>GO:carbonate dehydratase activity</td>\n",
       "      <td>GO:0004089</td>\n",
       "    </tr>\n",
       "    <tr>\n",
       "      <th>34147</th>\n",
       "      <td>InterPro:IPR041960</td>\n",
       "      <td>Geranylgeranyl transferase type-1 subunit beta</td>\n",
       "      <td>GO:protein geranylgeranyltransferase activity</td>\n",
       "      <td>GO:0004661</td>\n",
       "    </tr>\n",
       "    <tr>\n",
       "      <th>34148</th>\n",
       "      <td>InterPro:IPR041960</td>\n",
       "      <td>Geranylgeranyl transferase type-1 subunit beta</td>\n",
       "      <td>GO:protein geranylgeranylation</td>\n",
       "      <td>GO:0018344</td>\n",
       "    </tr>\n",
       "    <tr>\n",
       "      <th>34149</th>\n",
       "      <td>InterPro:IPR041960</td>\n",
       "      <td>Geranylgeranyl transferase type-1 subunit beta</td>\n",
       "      <td>GO:CAAX-protein geranylgeranyltransferase complex</td>\n",
       "      <td>GO:0005953</td>\n",
       "    </tr>\n",
       "    <tr>\n",
       "      <th>34150</th>\n",
       "      <td>InterPro:IPR041989</td>\n",
       "      <td>TOPK, catalytic domain</td>\n",
       "      <td>GO:protein serine/threonine kinase activity</td>\n",
       "      <td>GO:0004674</td>\n",
       "    </tr>\n",
       "    <tr>\n",
       "      <th>34151</th>\n",
       "      <td>InterPro:IPR042016</td>\n",
       "      <td>Apulose kinase</td>\n",
       "      <td>GO:kinase activity</td>\n",
       "      <td>GO:0016301</td>\n",
       "    </tr>\n",
       "    <tr>\n",
       "      <th>34152</th>\n",
       "      <td>InterPro:IPR042024</td>\n",
       "      <td>D-xylulose kinase</td>\n",
       "      <td>GO:xylulokinase activity</td>\n",
       "      <td>GO:0004856</td>\n",
       "    </tr>\n",
       "    <tr>\n",
       "      <th>34153</th>\n",
       "      <td>InterPro:IPR042024</td>\n",
       "      <td>D-xylulose kinase</td>\n",
       "      <td>GO:D-xylose metabolic process</td>\n",
       "      <td>GO:0042732</td>\n",
       "    </tr>\n",
       "    <tr>\n",
       "      <th>34154</th>\n",
       "      <td>InterPro:IPR042027</td>\n",
       "      <td>Sedoheptulokinase</td>\n",
       "      <td>GO:sedoheptulokinase activity</td>\n",
       "      <td>GO:0050277</td>\n",
       "    </tr>\n",
       "    <tr>\n",
       "      <th>34155</th>\n",
       "      <td>InterPro:IPR042068</td>\n",
       "      <td>Semaphorin-1A, sema domain</td>\n",
       "      <td>GO:semaphorin receptor binding</td>\n",
       "      <td>GO:0030215</td>\n",
       "    </tr>\n",
       "    <tr>\n",
       "      <th>34156</th>\n",
       "      <td>InterPro:IPR042124</td>\n",
       "      <td>Inactive phospholipase C-like protein 1</td>\n",
       "      <td>GO:GABA receptor binding</td>\n",
       "      <td>GO:0050811</td>\n",
       "    </tr>\n",
       "    <tr>\n",
       "      <th>34157</th>\n",
       "      <td>InterPro:IPR042124</td>\n",
       "      <td>Inactive phospholipase C-like protein 1</td>\n",
       "      <td>GO:inositol 1,4,5 trisphosphate binding</td>\n",
       "      <td>GO:0070679</td>\n",
       "    </tr>\n",
       "    <tr>\n",
       "      <th>34158</th>\n",
       "      <td>InterPro:IPR042124</td>\n",
       "      <td>Inactive phospholipase C-like protein 1</td>\n",
       "      <td>GO:regulation of synaptic transmission, GABAergic</td>\n",
       "      <td>GO:0032228</td>\n",
       "    </tr>\n",
       "    <tr>\n",
       "      <th>34159</th>\n",
       "      <td>InterPro:IPR042124</td>\n",
       "      <td>Inactive phospholipase C-like protein 1</td>\n",
       "      <td>GO:intracellular signal transduction</td>\n",
       "      <td>GO:0035556</td>\n",
       "    </tr>\n",
       "    <tr>\n",
       "      <th>34160</th>\n",
       "      <td>InterPro:IPR042129</td>\n",
       "      <td>Mannose-binding protein A</td>\n",
       "      <td>GO:mannose binding</td>\n",
       "      <td>GO:0005537</td>\n",
       "    </tr>\n",
       "    <tr>\n",
       "      <th>34161</th>\n",
       "      <td>InterPro:IPR042129</td>\n",
       "      <td>Mannose-binding protein A</td>\n",
       "      <td>GO:complement activation, lectin pathway</td>\n",
       "      <td>GO:0001867</td>\n",
       "    </tr>\n",
       "  </tbody>\n",
       "</table>\n",
       "<p>34162 rows × 4 columns</p>\n",
       "</div>"
      ],
      "text/plain": [
       "                    ip_id                                            ip_name  \\\n",
       "0      InterPro:IPR000003                           Retinoid X receptor/HNF4   \n",
       "1      InterPro:IPR000003                           Retinoid X receptor/HNF4   \n",
       "2      InterPro:IPR000003                           Retinoid X receptor/HNF4   \n",
       "3      InterPro:IPR000003                           Retinoid X receptor/HNF4   \n",
       "4      InterPro:IPR000003                           Retinoid X receptor/HNF4   \n",
       "5      InterPro:IPR000006                        Metallothionein, vertebrate   \n",
       "6      InterPro:IPR000009     Protein phosphatase 2A regulatory subunit PR55   \n",
       "7      InterPro:IPR000009     Protein phosphatase 2A regulatory subunit PR55   \n",
       "8      InterPro:IPR000010                                    Cystatin domain   \n",
       "9      InterPro:IPR000011                Ubiquitin/SUMO-activating enzyme E1   \n",
       "10     InterPro:IPR000011                Ubiquitin/SUMO-activating enzyme E1   \n",
       "11     InterPro:IPR000012                         Retroviral VpR/VpX protein   \n",
       "12     InterPro:IPR000012                         Retroviral VpR/VpX protein   \n",
       "13     InterPro:IPR000013                           Peptidase M7, snapalysin   \n",
       "14     InterPro:IPR000013                           Peptidase M7, snapalysin   \n",
       "15     InterPro:IPR000013                           Peptidase M7, snapalysin   \n",
       "16     InterPro:IPR000013                           Peptidase M7, snapalysin   \n",
       "17     InterPro:IPR000015                       Outer membrane usher protein   \n",
       "18     InterPro:IPR000015                       Outer membrane usher protein   \n",
       "19     InterPro:IPR000015                       Outer membrane usher protein   \n",
       "20     InterPro:IPR000018                                 P2Y purinoceptor 4   \n",
       "21     InterPro:IPR000018                                 P2Y purinoceptor 4   \n",
       "22     InterPro:IPR000018                                 P2Y purinoceptor 4   \n",
       "23     InterPro:IPR000018                                 P2Y purinoceptor 4   \n",
       "24     InterPro:IPR000020                              Anaphylatoxin/fibulin   \n",
       "25     InterPro:IPR000021                         Hok/gef cell toxic protein   \n",
       "26     InterPro:IPR000023                         Phosphofructokinase domain   \n",
       "27     InterPro:IPR000023                         Phosphofructokinase domain   \n",
       "28     InterPro:IPR000025                          Melatonin receptor family   \n",
       "29     InterPro:IPR000025                          Melatonin receptor family   \n",
       "...                   ...                                                ...   \n",
       "34132  InterPro:IPR041833                                              Rab21   \n",
       "34133  InterPro:IPR041833                                              Rab21   \n",
       "34134  InterPro:IPR041836                                              Rab20   \n",
       "34135  InterPro:IPR041837                                           Rab27a/b   \n",
       "34136  InterPro:IPR041838                          ADP-ribosylation factor 6   \n",
       "34137  InterPro:IPR041839             ADP-ribosylation factor-like protein 6   \n",
       "34138  InterPro:IPR041840                           Ras-related protein Rap2   \n",
       "34139  InterPro:IPR041840                           Ras-related protein Rap2   \n",
       "34140  InterPro:IPR041841                           Ras-related protein Rsr1   \n",
       "34141  InterPro:IPR041847              Cytosolic phospholipase A2, C2 domain   \n",
       "34142  InterPro:IPR041848  Guanine nucleotide-binding protein subunit gam...   \n",
       "34143  InterPro:IPR041848  Guanine nucleotide-binding protein subunit gam...   \n",
       "34144  InterPro:IPR041848  Guanine nucleotide-binding protein subunit gam...   \n",
       "34145  InterPro:IPR041874                       Carbonic anhydrase, CA4/CA15   \n",
       "34146  InterPro:IPR041890                             Carbonic anhydrase VII   \n",
       "34147  InterPro:IPR041960     Geranylgeranyl transferase type-1 subunit beta   \n",
       "34148  InterPro:IPR041960     Geranylgeranyl transferase type-1 subunit beta   \n",
       "34149  InterPro:IPR041960     Geranylgeranyl transferase type-1 subunit beta   \n",
       "34150  InterPro:IPR041989                             TOPK, catalytic domain   \n",
       "34151  InterPro:IPR042016                                     Apulose kinase   \n",
       "34152  InterPro:IPR042024                                  D-xylulose kinase   \n",
       "34153  InterPro:IPR042024                                  D-xylulose kinase   \n",
       "34154  InterPro:IPR042027                                  Sedoheptulokinase   \n",
       "34155  InterPro:IPR042068                         Semaphorin-1A, sema domain   \n",
       "34156  InterPro:IPR042124            Inactive phospholipase C-like protein 1   \n",
       "34157  InterPro:IPR042124            Inactive phospholipase C-like protein 1   \n",
       "34158  InterPro:IPR042124            Inactive phospholipase C-like protein 1   \n",
       "34159  InterPro:IPR042124            Inactive phospholipase C-like protein 1   \n",
       "34160  InterPro:IPR042129                          Mannose-binding protein A   \n",
       "34161  InterPro:IPR042129                          Mannose-binding protein A   \n",
       "\n",
       "                                                 go_name       go_id  \n",
       "0                                         GO:DNA binding  GO:0003677  \n",
       "1                   GO:steroid hormone receptor activity  GO:0003707  \n",
       "2                                    GO:zinc ion binding  GO:0008270  \n",
       "3          GO:regulation of transcription, DNA-templated  GO:0006355  \n",
       "4                                             GO:nucleus  GO:0005634  \n",
       "5                                   GO:metal ion binding  GO:0046872  \n",
       "6              GO:protein phosphatase regulator activity  GO:0019888  \n",
       "7                 GO:protein phosphatase type 2A complex  GO:0000159  \n",
       "8      GO:cysteine-type endopeptidase inhibitor activity  GO:0004869  \n",
       "9      GO:ubiquitin-like modifier activating enzyme a...  GO:0008641  \n",
       "10              GO:cellular protein modification process  GO:0006464  \n",
       "11                                   GO:viral life cycle  GO:0019058  \n",
       "12                                  GO:host cell nucleus  GO:0042025  \n",
       "13                      GO:metalloendopeptidase activity  GO:0004222  \n",
       "14                                   GO:zinc ion binding  GO:0008270  \n",
       "15                                        GO:proteolysis  GO:0006508  \n",
       "16                               GO:extracellular region  GO:0005576  \n",
       "17                      GO:fimbrial usher porin activity  GO:0015473  \n",
       "18                                     GO:pilus assembly  GO:0009297  \n",
       "19                                           GO:membrane  GO:0016020  \n",
       "20     GO:G protein-coupled purinergic nucleotide rec...  GO:0045028  \n",
       "21       GO:G protein-coupled receptor signaling pathway  GO:0007186  \n",
       "22                 GO:transepithelial chloride transport  GO:0030321  \n",
       "23                     GO:integral component of membrane  GO:0016021  \n",
       "24                               GO:extracellular region  GO:0005576  \n",
       "25                                           GO:membrane  GO:0016020  \n",
       "26                     GO:6-phosphofructokinase activity  GO:0003872  \n",
       "27                                 GO:glycolytic process  GO:0006096  \n",
       "28                        GO:melatonin receptor activity  GO:0008502  \n",
       "29       GO:G protein-coupled receptor signaling pathway  GO:0007186  \n",
       "...                                                  ...         ...  \n",
       "34132                                 GO:GTPase activity  GO:0003924  \n",
       "34133                 GO:Rab protein signal transduction  GO:0032482  \n",
       "34134                                 GO:GTPase activity  GO:0003924  \n",
       "34135                                 GO:GTPase activity  GO:0003924  \n",
       "34136                                 GO:GTPase activity  GO:0003924  \n",
       "34137                                 GO:GTPase activity  GO:0003924  \n",
       "34138                                 GO:GTPase activity  GO:0003924  \n",
       "34139                 GO:Rap protein signal transduction  GO:0032486  \n",
       "34140                                 GO:GTPase activity  GO:0003924  \n",
       "34141                             GO:calcium ion binding  GO:0005509  \n",
       "34142                  GO:G-protein beta-subunit binding  GO:0031681  \n",
       "34143  GO:pheromone-dependent signal transduction inv...  GO:0000750  \n",
       "34144    GO:G protein-coupled receptor signaling pathway  GO:0007186  \n",
       "34145                  GO:carbonate dehydratase activity  GO:0004089  \n",
       "34146                  GO:carbonate dehydratase activity  GO:0004089  \n",
       "34147      GO:protein geranylgeranyltransferase activity  GO:0004661  \n",
       "34148                     GO:protein geranylgeranylation  GO:0018344  \n",
       "34149  GO:CAAX-protein geranylgeranyltransferase complex  GO:0005953  \n",
       "34150        GO:protein serine/threonine kinase activity  GO:0004674  \n",
       "34151                                 GO:kinase activity  GO:0016301  \n",
       "34152                           GO:xylulokinase activity  GO:0004856  \n",
       "34153                      GO:D-xylose metabolic process  GO:0042732  \n",
       "34154                      GO:sedoheptulokinase activity  GO:0050277  \n",
       "34155                     GO:semaphorin receptor binding  GO:0030215  \n",
       "34156                           GO:GABA receptor binding  GO:0050811  \n",
       "34157            GO:inositol 1,4,5 trisphosphate binding  GO:0070679  \n",
       "34158  GO:regulation of synaptic transmission, GABAergic  GO:0032228  \n",
       "34159               GO:intracellular signal transduction  GO:0035556  \n",
       "34160                                 GO:mannose binding  GO:0005537  \n",
       "34161           GO:complement activation, lectin pathway  GO:0001867  \n",
       "\n",
       "[34162 rows x 4 columns]"
      ]
     },
     "execution_count": 18,
     "metadata": {},
     "output_type": "execute_result"
    }
   ],
   "source": [
    "ipr_to_go"
   ]
  },
  {
   "cell_type": "code",
   "execution_count": 19,
   "metadata": {},
   "outputs": [],
   "source": [
    "go_ids = all_nodes['id'].str.startswith('GO:')\n",
    "go_to_onto = all_nodes[go_ids].set_index('id')['label'].to_dict()\n",
    "go_ids = all_nodes[go_ids]['id'].values"
   ]
  },
  {
   "cell_type": "code",
   "execution_count": 20,
   "metadata": {},
   "outputs": [
    {
     "data": {
      "text/plain": [
       "(34162, 34117)"
      ]
     },
     "execution_count": 20,
     "metadata": {},
     "output_type": "execute_result"
    }
   ],
   "source": [
    "len(ipr_to_go), len(ipr_to_go.query('go_id in @go_ids'))"
   ]
  },
  {
   "cell_type": "code",
   "execution_count": 21,
   "metadata": {},
   "outputs": [],
   "source": [
    "ipr_to_go['go_ontology'] = ipr_to_go['go_id'].map(go_to_onto)"
   ]
  },
  {
   "cell_type": "code",
   "execution_count": 22,
   "metadata": {},
   "outputs": [],
   "source": [
    "terms_per_fam = ipr_to_go.groupby(['ip_id', 'go_ontology']).apply(len)\n",
    "terms_per_fam = terms_per_fam.to_frame().reset_index().rename(columns={0: 'count'})"
   ]
  },
  {
   "cell_type": "code",
   "execution_count": 23,
   "metadata": {},
   "outputs": [
    {
     "data": {
      "image/png": "[encoded data removed]",
      "text/plain": [
       "<Figure size 432x288 with 1 Axes>"
      ]
     },
     "metadata": {
      "needs_background": "light"
     },
     "output_type": "display_data"
    }
   ],
   "source": [
    "sns.violinplot(x='go_ontology', y='count', data=terms_per_fam);"
   ]
  },
  {
   "cell_type": "code",
   "execution_count": 24,
   "metadata": {},
   "outputs": [
    {
     "data": {
      "text/plain": [
       "516505"
      ]
     },
     "execution_count": 24,
     "metadata": {},
     "output_type": "execute_result"
    }
   ],
   "source": [
    "gene_ids = all_nodes.query('label == \"Gene\"')['id'].unique()\n",
    "len(gene_ids)"
   ]
  },
  {
   "cell_type": "code",
   "execution_count": 25,
   "metadata": {},
   "outputs": [
    {
     "data": {
      "text/plain": [
       "23329"
      ]
     },
     "execution_count": 25,
     "metadata": {},
     "output_type": "execute_result"
    }
   ],
   "source": [
    "# Human gene edge index\n",
    "idx = edges['organism_id'].str.contains('9606').fillna(False)\n",
    "\n",
    "hgene_edge_ids = edges[idx][['start_id', 'end_id']].stack().unique()\n",
    "\n",
    "hgenes = set(gene_ids) & set(hgene_edge_ids)\n",
    "len(hgenes)"
   ]
  },
  {
   "cell_type": "code",
   "execution_count": 26,
   "metadata": {},
   "outputs": [],
   "source": [
    "import biothings_client\n",
    "\n",
    "mg = biothings_client.get_client('gene')"
   ]
  },
  {
   "cell_type": "code",
   "execution_count": 27,
   "metadata": {},
   "outputs": [
    {
     "name": "stdout",
     "output_type": "stream",
     "text": [
      "querying 1-1000...done.\n",
      "querying 1001-2000...done.\n",
      "querying 2001-3000...done.\n",
      "querying 3001-4000...done.\n",
      "querying 4001-5000...done.\n",
      "querying 5001-6000...done.\n",
      "querying 6001-7000...done.\n",
      "querying 7001-8000...done.\n",
      "querying 8001-9000...done.\n",
      "querying 9001-10000...done.\n",
      "querying 10001-11000...done.\n",
      "querying 11001-12000...done.\n",
      "querying 12001-13000...done.\n",
      "querying 13001-14000...done.\n",
      "querying 14001-15000...done.\n",
      "querying 15001-16000...done.\n",
      "querying 16001-17000...done.\n",
      "querying 17001-18000...done.\n",
      "querying 18001-19000...done.\n",
      "querying 19001-20000...done.\n",
      "querying 20001-21000...done.\n",
      "querying 21001-22000...done.\n",
      "querying 22001-23000...done.\n",
      "querying 23001-23329...done.\n"
     ]
    }
   ],
   "source": [
    "qr = load_api_results(out_dir.joinpath('mygene_interpro_results_{}.pkl'), scrape_function=mg.getgenes,\n",
    "                      ids=hgenes, fields='interpro.id')"
   ]
  },
  {
   "cell_type": "code",
   "execution_count": 28,
   "metadata": {},
   "outputs": [
    {
     "data": {
      "text/plain": [
       "{'query': '23022',\n",
       " '_id': '23022',\n",
       " '_score': 20.102285,\n",
       " 'interpro': [{'id': 'IPR003598'},\n",
       "  {'id': 'IPR003599'},\n",
       "  {'id': 'IPR007110'},\n",
       "  {'id': 'IPR013098'},\n",
       "  {'id': 'IPR013783'},\n",
       "  {'id': 'IPR033017'},\n",
       "  {'id': 'IPR036179'}]}"
      ]
     },
     "execution_count": 28,
     "metadata": {},
     "output_type": "execute_result"
    }
   ],
   "source": [
    "qr[0]"
   ]
  },
  {
   "cell_type": "code",
   "execution_count": 29,
   "metadata": {},
   "outputs": [
    {
     "data": {
      "text/plain": [
       "Counter({list: 15636, NoneType: 4678, dict: 3015})"
      ]
     },
     "execution_count": 29,
     "metadata": {},
     "output_type": "execute_result"
    }
   ],
   "source": [
    "from collections import Counter\n",
    "c = Counter([type(r.get('interpro')) for r in qr])\n",
    "c"
   ]
  },
  {
   "cell_type": "code",
   "execution_count": 30,
   "metadata": {},
   "outputs": [],
   "source": [
    "gene_ids = []\n",
    "interpro_ids = []\n",
    "\n",
    "for result in qr:\n",
    "    gene_id = result['query']\n",
    "    interpro_info = result.get('interpro')\n",
    "    \n",
    "    if type(interpro_info) == dict:\n",
    "        gene_ids.append(gene_id)\n",
    "        interpro_ids.append(interpro_info.get('id'))\n",
    "        \n",
    "    elif type(interpro_info) == list:\n",
    "        for xref in interpro_info:\n",
    "            gene_ids.append(gene_id)\n",
    "            interpro_ids.append(xref.get('id'))\n",
    "\n",
    "gene_to_interpro = pd.DataFrame({'gene_id': gene_ids, 'interpro_id': interpro_ids})"
   ]
  },
  {
   "cell_type": "code",
   "execution_count": 31,
   "metadata": {},
   "outputs": [
    {
     "data": {
      "text/html": [
       "<div>\n",
       "<style scoped>\n",
       "    .dataframe tbody tr th:only-of-type {\n",
       "        vertical-align: middle;\n",
       "    }\n",
       "\n",
       "    .dataframe tbody tr th {\n",
       "        vertical-align: top;\n",
       "    }\n",
       "\n",
       "    .dataframe thead th {\n",
       "        text-align: right;\n",
       "    }\n",
       "</style>\n",
       "<table border=\"1\" class=\"dataframe\">\n",
       "  <thead>\n",
       "    <tr style=\"text-align: right;\">\n",
       "      <th></th>\n",
       "      <th>gene_id</th>\n",
       "      <th>interpro_id</th>\n",
       "    </tr>\n",
       "  </thead>\n",
       "  <tbody>\n",
       "    <tr>\n",
       "      <th>0</th>\n",
       "      <td>23022</td>\n",
       "      <td>IPR003598</td>\n",
       "    </tr>\n",
       "    <tr>\n",
       "      <th>1</th>\n",
       "      <td>23022</td>\n",
       "      <td>IPR003599</td>\n",
       "    </tr>\n",
       "    <tr>\n",
       "      <th>2</th>\n",
       "      <td>23022</td>\n",
       "      <td>IPR007110</td>\n",
       "    </tr>\n",
       "  </tbody>\n",
       "</table>\n",
       "</div>"
      ],
      "text/plain": [
       "  gene_id interpro_id\n",
       "0   23022   IPR003598\n",
       "1   23022   IPR003599\n",
       "2   23022   IPR007110"
      ]
     },
     "execution_count": 31,
     "metadata": {},
     "output_type": "execute_result"
    }
   ],
   "source": [
    "gene_to_interpro.head(3)"
   ]
  },
  {
   "cell_type": "code",
   "execution_count": 32,
   "metadata": {},
   "outputs": [
    {
     "data": {
      "text/html": [
       "<div>\n",
       "<style scoped>\n",
       "    .dataframe tbody tr th:only-of-type {\n",
       "        vertical-align: middle;\n",
       "    }\n",
       "\n",
       "    .dataframe tbody tr th {\n",
       "        vertical-align: top;\n",
       "    }\n",
       "\n",
       "    .dataframe thead th {\n",
       "        text-align: right;\n",
       "    }\n",
       "</style>\n",
       "<table border=\"1\" class=\"dataframe\">\n",
       "  <thead>\n",
       "    <tr style=\"text-align: right;\">\n",
       "      <th></th>\n",
       "      <th>entry_ac</th>\n",
       "      <th>entry_type</th>\n",
       "      <th>entry_name</th>\n",
       "    </tr>\n",
       "  </thead>\n",
       "  <tbody>\n",
       "    <tr>\n",
       "      <th>0</th>\n",
       "      <td>IPR000126</td>\n",
       "      <td>Active_site</td>\n",
       "      <td>Serine proteases, V8 family, serine active site</td>\n",
       "    </tr>\n",
       "    <tr>\n",
       "      <th>1</th>\n",
       "      <td>IPR000138</td>\n",
       "      <td>Active_site</td>\n",
       "      <td>Hydroxymethylglutaryl-CoA lyase, active site</td>\n",
       "    </tr>\n",
       "  </tbody>\n",
       "</table>\n",
       "</div>"
      ],
      "text/plain": [
       "    entry_ac   entry_type                                       entry_name\n",
       "0  IPR000126  Active_site  Serine proteases, V8 family, serine active site\n",
       "1  IPR000138  Active_site     Hydroxymethylglutaryl-CoA lyase, active site"
      ]
     },
     "execution_count": 32,
     "metadata": {},
     "output_type": "execute_result"
    }
   ],
   "source": [
    "ipr_info = pd.read_csv(load_dir.joinpath('entry.list.tsv'), sep='\\t')\n",
    "ipr_info.columns = [c.lower() for c in ipr_info.columns]\n",
    "ipr_info.head(2)"
   ]
  },
  {
   "cell_type": "code",
   "execution_count": 33,
   "metadata": {},
   "outputs": [
    {
     "data": {
      "text/plain": [
       "Family                    21769\n",
       "Domain                    10637\n",
       "Homologous_superfamily     3078\n",
       "Conserved_site              688\n",
       "Repeat                      316\n",
       "Active_site                 132\n",
       "Binding_site                 76\n",
       "PTM                          17\n",
       "Name: entry_type, dtype: int64"
      ]
     },
     "execution_count": 33,
     "metadata": {},
     "output_type": "execute_result"
    }
   ],
   "source": [
    "ipr_info['entry_type'].value_counts()"
   ]
  },
  {
   "cell_type": "code",
   "execution_count": 34,
   "metadata": {},
   "outputs": [],
   "source": [
    "merge = pd.merge(gene_to_interpro, ipr_info, how='left', left_on='interpro_id', right_on='entry_ac')"
   ]
  },
  {
   "cell_type": "code",
   "execution_count": 35,
   "metadata": {},
   "outputs": [
    {
     "data": {
      "text/html": [
       "<div>\n",
       "<style scoped>\n",
       "    .dataframe tbody tr th:only-of-type {\n",
       "        vertical-align: middle;\n",
       "    }\n",
       "\n",
       "    .dataframe tbody tr th {\n",
       "        vertical-align: top;\n",
       "    }\n",
       "\n",
       "    .dataframe thead th {\n",
       "        text-align: right;\n",
       "    }\n",
       "</style>\n",
       "<table border=\"1\" class=\"dataframe\">\n",
       "  <thead>\n",
       "    <tr style=\"text-align: right;\">\n",
       "      <th></th>\n",
       "      <th>gene_id</th>\n",
       "      <th>interpro_id</th>\n",
       "      <th>entry_ac</th>\n",
       "      <th>entry_type</th>\n",
       "      <th>entry_name</th>\n",
       "    </tr>\n",
       "  </thead>\n",
       "  <tbody>\n",
       "    <tr>\n",
       "      <th>0</th>\n",
       "      <td>23022</td>\n",
       "      <td>IPR003598</td>\n",
       "      <td>IPR003598</td>\n",
       "      <td>Domain</td>\n",
       "      <td>Immunoglobulin subtype 2</td>\n",
       "    </tr>\n",
       "    <tr>\n",
       "      <th>1</th>\n",
       "      <td>23022</td>\n",
       "      <td>IPR003599</td>\n",
       "      <td>IPR003599</td>\n",
       "      <td>Domain</td>\n",
       "      <td>Immunoglobulin subtype</td>\n",
       "    </tr>\n",
       "  </tbody>\n",
       "</table>\n",
       "</div>"
      ],
      "text/plain": [
       "  gene_id interpro_id   entry_ac entry_type                entry_name\n",
       "0   23022   IPR003598  IPR003598     Domain  Immunoglobulin subtype 2\n",
       "1   23022   IPR003599  IPR003599     Domain    Immunoglobulin subtype"
      ]
     },
     "execution_count": 35,
     "metadata": {},
     "output_type": "execute_result"
    }
   ],
   "source": [
    "merge.head(2)"
   ]
  },
  {
   "cell_type": "code",
   "execution_count": 36,
   "metadata": {},
   "outputs": [
    {
     "data": {
      "text/plain": [
       "Domain                    29508\n",
       "Homologous_superfamily    22175\n",
       "Family                    17146\n",
       "Conserved_site             3838\n",
       "Repeat                     2178\n",
       "Active_site                1024\n",
       "Binding_site                839\n",
       "PTM                         156\n",
       "Name: entry_type, dtype: int64"
      ]
     },
     "execution_count": 36,
     "metadata": {},
     "output_type": "execute_result"
    }
   ],
   "source": [
    "merge['entry_type'].value_counts()"
   ]
  },
  {
   "cell_type": "code",
   "execution_count": 37,
   "metadata": {},
   "outputs": [
    {
     "data": {
      "text/html": [
       "<div>\n",
       "<style scoped>\n",
       "    .dataframe tbody tr th:only-of-type {\n",
       "        vertical-align: middle;\n",
       "    }\n",
       "\n",
       "    .dataframe tbody tr th {\n",
       "        vertical-align: top;\n",
       "    }\n",
       "\n",
       "    .dataframe thead th {\n",
       "        text-align: right;\n",
       "    }\n",
       "</style>\n",
       "<table border=\"1\" class=\"dataframe\">\n",
       "  <thead>\n",
       "    <tr style=\"text-align: right;\">\n",
       "      <th></th>\n",
       "      <th>ip_id</th>\n",
       "      <th>ip_name</th>\n",
       "      <th>go_name</th>\n",
       "      <th>go_id</th>\n",
       "      <th>go_ontology</th>\n",
       "    </tr>\n",
       "  </thead>\n",
       "  <tbody>\n",
       "    <tr>\n",
       "      <th>0</th>\n",
       "      <td>InterPro:IPR000003</td>\n",
       "      <td>Retinoid X receptor/HNF4</td>\n",
       "      <td>GO:DNA binding</td>\n",
       "      <td>GO:0003677</td>\n",
       "      <td>Molecular Function</td>\n",
       "    </tr>\n",
       "    <tr>\n",
       "      <th>1</th>\n",
       "      <td>InterPro:IPR000003</td>\n",
       "      <td>Retinoid X receptor/HNF4</td>\n",
       "      <td>GO:steroid hormone receptor activity</td>\n",
       "      <td>GO:0003707</td>\n",
       "      <td>Molecular Function</td>\n",
       "    </tr>\n",
       "  </tbody>\n",
       "</table>\n",
       "</div>"
      ],
      "text/plain": [
       "                ip_id                   ip_name  \\\n",
       "0  InterPro:IPR000003  Retinoid X receptor/HNF4   \n",
       "1  InterPro:IPR000003  Retinoid X receptor/HNF4   \n",
       "\n",
       "                                go_name       go_id         go_ontology  \n",
       "0                        GO:DNA binding  GO:0003677  Molecular Function  \n",
       "1  GO:steroid hormone receptor activity  GO:0003707  Molecular Function  "
      ]
     },
     "execution_count": 37,
     "metadata": {},
     "output_type": "execute_result"
    }
   ],
   "source": [
    "ipr_to_go.head(2)"
   ]
  },
  {
   "cell_type": "code",
   "execution_count": 38,
   "metadata": {},
   "outputs": [
    {
     "data": {
      "text/plain": [
       "34162"
      ]
     },
     "execution_count": 38,
     "metadata": {},
     "output_type": "execute_result"
    }
   ],
   "source": [
    "ipr_info['ip_id'] = 'InterPro:' + ipr_info['entry_ac']\n",
    "ipr_to_go_1 = ipr_to_go.merge(ipr_info, how='left', on='ip_id')\n",
    "len(ipr_to_go_1)"
   ]
  },
  {
   "cell_type": "code",
   "execution_count": 39,
   "metadata": {},
   "outputs": [
    {
     "data": {
      "text/plain": [
       "34118"
      ]
     },
     "execution_count": 39,
     "metadata": {},
     "output_type": "execute_result"
    }
   ],
   "source": [
    "ipr_to_go_1['entry_type'].count()"
   ]
  },
  {
   "cell_type": "code",
   "execution_count": 40,
   "metadata": {},
   "outputs": [
    {
     "data": {
      "text/plain": [
       "Family                    25416\n",
       "Domain                     5755\n",
       "Homologous_superfamily     1704\n",
       "Conserved_site              896\n",
       "Active_site                 139\n",
       "Binding_site                106\n",
       "Repeat                       92\n",
       "PTM                          10\n",
       "Name: entry_type, dtype: int64"
      ]
     },
     "execution_count": 40,
     "metadata": {},
     "output_type": "execute_result"
    }
   ],
   "source": [
    "ipr_to_go_1['entry_type'].value_counts()"
   ]
  },
  {
   "cell_type": "code",
   "execution_count": 41,
   "metadata": {},
   "outputs": [],
   "source": [
    "gene_fams = merge.query('entry_type == \"Family\"')\n",
    "fams_per_gene = gene_fams.groupby('gene_id').apply(len).to_frame()\n",
    "fams_per_gene['metric'] = 'Fams per gene'\n",
    "genes_per_fam = gene_fams.groupby('entry_ac').apply(len).to_frame()\n",
    "genes_per_fam['metric'] = 'Genes per fam'\n",
    "\n",
    "counts = pd.concat([genes_per_fam, fams_per_gene]).rename(columns={0: 'counts'})"
   ]
  },
  {
   "cell_type": "code",
   "execution_count": 42,
   "metadata": {},
   "outputs": [
    {
     "data": {
      "text/plain": [
       "<matplotlib.axes._subplots.AxesSubplot at 0x7fe051b77cf8>"
      ]
     },
     "execution_count": 42,
     "metadata": {},
     "output_type": "execute_result"
    },
    {
     "data": {
      "image/png": "[encoded data removed]",
      "text/plain": [
       "<Figure size 432x288 with 1 Axes>"
      ]
     },
     "metadata": {
      "needs_background": "light"
     },
     "output_type": "display_data"
    }
   ],
   "source": [
    "sns.violinplot(x='metric', y='counts', data=counts)"
   ]
  },
  {
   "cell_type": "code",
   "execution_count": 43,
   "metadata": {},
   "outputs": [
    {
     "data": {
      "image/png": "[encoded data removed]",
      "text/plain": [
       "<Figure size 432x288 with 1 Axes>"
      ]
     },
     "metadata": {
      "needs_background": "light"
     },
     "output_type": "display_data"
    }
   ],
   "source": [
    "bins = np.arange(0, fams_per_gene[0].max()+1, 1)\n",
    "sns.distplot(fams_per_gene[0], kde=False, bins=bins)\n",
    "plt.xticks(bins)\n",
    "plt.xlabel('InterPro Families per gene')\n",
    "plt.ylabel('Numer of Genes')\n",
    "plt.title('Distribution of InterPro Family annotaions per gene');"
   ]
  },
  {
   "cell_type": "code",
   "execution_count": 44,
   "metadata": {},
   "outputs": [
    {
     "data": {
      "image/png": "[encoded data removed]",
      "text/plain": [
       "<Figure size 432x288 with 1 Axes>"
      ]
     },
     "metadata": {
      "needs_background": "light"
     },
     "output_type": "display_data"
    }
   ],
   "source": [
    "min_val = 3\n",
    "max_val = 50\n",
    "subset = genes_per_fam[0][(min_val < genes_per_fam[0]) & (genes_per_fam[0] < max_val)]\n",
    "\n",
    "\n",
    "bins = np.arange(min_val, subset.max(), 3)\n",
    "sns.distplot(subset, kde=False, bins=bins)\n",
    "plt.xticks(bins)\n",
    "plt.xlabel('Genes per Interpro Family')\n",
    "plt.ylabel('Numer of InterPro Families')\n",
    "plt.title('Distribution of annotated genes per InterPro Family');"
   ]
  },
  {
   "cell_type": "code",
   "execution_count": 45,
   "metadata": {},
   "outputs": [
    {
     "data": {
      "text/plain": [
       "<matplotlib.axes._subplots.AxesSubplot at 0x7fe051865e80>"
      ]
     },
     "execution_count": 45,
     "metadata": {},
     "output_type": "execute_result"
    },
    {
     "data": {
      "image/png": "[encoded data removed]",
      "text/plain": [
       "<Figure size 432x288 with 1 Axes>"
      ]
     },
     "metadata": {
      "needs_background": "light"
     },
     "output_type": "display_data"
    }
   ],
   "source": [
    "sns.violinplot(y=genes_per_fam[genes_per_fam[0] < 25][0])"
   ]
  },
  {
   "cell_type": "code",
   "execution_count": 46,
   "metadata": {},
   "outputs": [
    {
     "data": {
      "text/plain": [
       "21769"
      ]
     },
     "execution_count": 46,
     "metadata": {},
     "output_type": "execute_result"
    }
   ],
   "source": [
    "fam_terms = ipr_info.query('entry_type == \"Family\"')\n",
    "len(fam_terms)"
   ]
  },
  {
   "cell_type": "code",
   "execution_count": 47,
   "metadata": {},
   "outputs": [
    {
     "data": {
      "text/html": [
       "<div>\n",
       "<style scoped>\n",
       "    .dataframe tbody tr th:only-of-type {\n",
       "        vertical-align: middle;\n",
       "    }\n",
       "\n",
       "    .dataframe tbody tr th {\n",
       "        vertical-align: top;\n",
       "    }\n",
       "\n",
       "    .dataframe thead th {\n",
       "        text-align: right;\n",
       "    }\n",
       "</style>\n",
       "<table border=\"1\" class=\"dataframe\">\n",
       "  <thead>\n",
       "    <tr style=\"text-align: right;\">\n",
       "      <th></th>\n",
       "      <th>id</th>\n",
       "      <th>name</th>\n",
       "      <th>label</th>\n",
       "    </tr>\n",
       "  </thead>\n",
       "  <tbody>\n",
       "    <tr>\n",
       "      <th>11533</th>\n",
       "      <td>InterPro:IPR000003</td>\n",
       "      <td>Retinoid X receptor/HNF4</td>\n",
       "      <td>Protein Family</td>\n",
       "    </tr>\n",
       "    <tr>\n",
       "      <th>11534</th>\n",
       "      <td>InterPro:IPR000006</td>\n",
       "      <td>Metallothionein, vertebrate</td>\n",
       "      <td>Protein Family</td>\n",
       "    </tr>\n",
       "  </tbody>\n",
       "</table>\n",
       "</div>"
      ],
      "text/plain": [
       "                       id                         name           label\n",
       "11533  InterPro:IPR000003     Retinoid X receptor/HNF4  Protein Family\n",
       "11534  InterPro:IPR000006  Metallothionein, vertebrate  Protein Family"
      ]
     },
     "execution_count": 47,
     "metadata": {},
     "output_type": "execute_result"
    }
   ],
   "source": [
    "fam_nodes = fam_terms[['ip_id', 'entry_name']].copy()\n",
    "fam_nodes.columns = [c.split('_')[-1] for c in fam_nodes.columns]\n",
    "fam_nodes['label'] = 'Protein Family'\n",
    "fam_nodes.head(2)"
   ]
  },
  {
   "cell_type": "code",
   "execution_count": 48,
   "metadata": {},
   "outputs": [
    {
     "data": {
      "text/html": [
       "<div>\n",
       "<style scoped>\n",
       "    .dataframe tbody tr th:only-of-type {\n",
       "        vertical-align: middle;\n",
       "    }\n",
       "\n",
       "    .dataframe tbody tr th {\n",
       "        vertical-align: top;\n",
       "    }\n",
       "\n",
       "    .dataframe thead th {\n",
       "        text-align: right;\n",
       "    }\n",
       "</style>\n",
       "<table border=\"1\" class=\"dataframe\">\n",
       "  <thead>\n",
       "    <tr style=\"text-align: right;\">\n",
       "      <th></th>\n",
       "      <th>start_id</th>\n",
       "      <th>end_id</th>\n",
       "      <th>type</th>\n",
       "    </tr>\n",
       "  </thead>\n",
       "  <tbody>\n",
       "    <tr>\n",
       "      <th>0</th>\n",
       "      <td>InterPro:IPR000003</td>\n",
       "      <td>GO:0003677</td>\n",
       "      <td>enables_PFeMF</td>\n",
       "    </tr>\n",
       "    <tr>\n",
       "      <th>1</th>\n",
       "      <td>InterPro:IPR000003</td>\n",
       "      <td>GO:0003707</td>\n",
       "      <td>enables_PFeMF</td>\n",
       "    </tr>\n",
       "  </tbody>\n",
       "</table>\n",
       "</div>"
      ],
      "text/plain": [
       "             start_id      end_id           type\n",
       "0  InterPro:IPR000003  GO:0003677  enables_PFeMF\n",
       "1  InterPro:IPR000003  GO:0003707  enables_PFeMF"
      ]
     },
     "execution_count": 48,
     "metadata": {},
     "output_type": "execute_result"
    }
   ],
   "source": [
    "edge_map = {'Molecular Function': 'enables_PFeMF',\n",
    "            'Biological Process': 'involved_in_PFinBP',\n",
    "            'Cellular Component': 'part_of_PFpoCC'}\n",
    "\n",
    "fam_ids = fam_nodes['id'].unique()\n",
    "edges_fam_to_go = ipr_to_go.query('ip_id in @fam_ids').copy()\n",
    "edges_fam_to_go['type'] = edges_fam_to_go['go_ontology'].map(edge_map)\n",
    "\n",
    "edges_fam_to_go = edges_fam_to_go[['ip_id', 'go_id', 'type']]\n",
    "edges_fam_to_go = edges_fam_to_go.rename(columns={'ip_id': 'start_id', 'go_id': 'end_id'})\n",
    "edges_fam_to_go.head(2)"
   ]
  },
  {
   "cell_type": "code",
   "execution_count": 49,
   "metadata": {},
   "outputs": [
    {
     "data": {
      "text/plain": [
       "25416"
      ]
     },
     "execution_count": 49,
     "metadata": {},
     "output_type": "execute_result"
    }
   ],
   "source": [
    "len(edges_fam_to_go)"
   ]
  },
  {
   "cell_type": "code",
   "execution_count": 50,
   "metadata": {},
   "outputs": [],
   "source": [
    "edges_fam_to_go['source'] = 'InterPro'\n",
    "edges_fam_to_go['evidence'] = 'curated'"
   ]
  },
  {
   "cell_type": "code",
   "execution_count": 51,
   "metadata": {},
   "outputs": [
    {
     "data": {
      "text/html": [
       "<div>\n",
       "<style scoped>\n",
       "    .dataframe tbody tr th:only-of-type {\n",
       "        vertical-align: middle;\n",
       "    }\n",
       "\n",
       "    .dataframe tbody tr th {\n",
       "        vertical-align: top;\n",
       "    }\n",
       "\n",
       "    .dataframe thead th {\n",
       "        text-align: right;\n",
       "    }\n",
       "</style>\n",
       "<table border=\"1\" class=\"dataframe\">\n",
       "  <thead>\n",
       "    <tr style=\"text-align: right;\">\n",
       "      <th></th>\n",
       "      <th>start_id</th>\n",
       "      <th>end_id</th>\n",
       "      <th>type</th>\n",
       "    </tr>\n",
       "  </thead>\n",
       "  <tbody>\n",
       "    <tr>\n",
       "      <th>7</th>\n",
       "      <td>10880</td>\n",
       "      <td>InterPro:IPR004000</td>\n",
       "      <td>part_of_GpoPF</td>\n",
       "    </tr>\n",
       "    <tr>\n",
       "      <th>8</th>\n",
       "      <td>10880</td>\n",
       "      <td>InterPro:IPR027680</td>\n",
       "      <td>part_of_GpoPF</td>\n",
       "    </tr>\n",
       "  </tbody>\n",
       "</table>\n",
       "</div>"
      ],
      "text/plain": [
       "  start_id              end_id           type\n",
       "7    10880  InterPro:IPR004000  part_of_GpoPF\n",
       "8    10880  InterPro:IPR027680  part_of_GpoPF"
      ]
     },
     "execution_count": 51,
     "metadata": {},
     "output_type": "execute_result"
    }
   ],
   "source": [
    "gene_to_interpro['interpro_id'] = 'InterPro:' + gene_to_interpro['interpro_id']\n",
    "edges_gene_to_fam = gene_to_interpro.query('interpro_id in @fam_ids').copy()\n",
    "edges_gene_to_fam = edges_gene_to_fam.rename(columns={'gene_id': 'start_id', 'interpro_id': 'end_id'})\n",
    "edges_gene_to_fam['type'] = 'part_of_GpoPF'\n",
    "edges_gene_to_fam.head(2)"
   ]
  },
  {
   "cell_type": "code",
   "execution_count": 52,
   "metadata": {},
   "outputs": [
    {
     "data": {
      "text/plain": [
       "77370"
      ]
     },
     "execution_count": 52,
     "metadata": {},
     "output_type": "execute_result"
    }
   ],
   "source": [
    "len(gene_to_interpro)"
   ]
  },
  {
   "cell_type": "code",
   "execution_count": 53,
   "metadata": {},
   "outputs": [],
   "source": [
    "# mygene.info actually sources their interpro annotaions from ensembel\n",
    "gene_to_interpro['source'] = 'ensembl'\n",
    "gene_to_interpro['evidence'] = 'curated'"
   ]
  },
  {
   "cell_type": "markdown",
   "metadata": {},
   "source": [
    "# Putting it all together"
   ]
  },
  {
   "cell_type": "code",
   "execution_count": 54,
   "metadata": {},
   "outputs": [],
   "source": [
    "new_nodes_df = fam_nodes\n",
    "new_edges_df = pd.concat([edges_fam_to_go, edges_gene_to_fam], sort=False)"
   ]
  },
  {
   "cell_type": "code",
   "execution_count": 55,
   "metadata": {},
   "outputs": [
    {
     "data": {
      "text/html": [
       "<div>\n",
       "<style scoped>\n",
       "    .dataframe tbody tr th:only-of-type {\n",
       "        vertical-align: middle;\n",
       "    }\n",
       "\n",
       "    .dataframe tbody tr th {\n",
       "        vertical-align: top;\n",
       "    }\n",
       "\n",
       "    .dataframe thead th {\n",
       "        text-align: right;\n",
       "    }\n",
       "</style>\n",
       "<table border=\"1\" class=\"dataframe\">\n",
       "  <thead>\n",
       "    <tr style=\"text-align: right;\">\n",
       "      <th></th>\n",
       "      <th>id</th>\n",
       "      <th>name</th>\n",
       "      <th>label</th>\n",
       "    </tr>\n",
       "  </thead>\n",
       "  <tbody>\n",
       "    <tr>\n",
       "      <th>11533</th>\n",
       "      <td>InterPro:IPR000003</td>\n",
       "      <td>Retinoid X receptor/HNF4</td>\n",
       "      <td>Protein Family</td>\n",
       "    </tr>\n",
       "    <tr>\n",
       "      <th>11534</th>\n",
       "      <td>InterPro:IPR000006</td>\n",
       "      <td>Metallothionein, vertebrate</td>\n",
       "      <td>Protein Family</td>\n",
       "    </tr>\n",
       "  </tbody>\n",
       "</table>\n",
       "</div>"
      ],
      "text/plain": [
       "                       id                         name           label\n",
       "11533  InterPro:IPR000003     Retinoid X receptor/HNF4  Protein Family\n",
       "11534  InterPro:IPR000006  Metallothionein, vertebrate  Protein Family"
      ]
     },
     "execution_count": 55,
     "metadata": {},
     "output_type": "execute_result"
    }
   ],
   "source": [
    "new_nodes_df.head(2)"
   ]
  },
  {
   "cell_type": "code",
   "execution_count": 56,
   "metadata": {},
   "outputs": [
    {
     "data": {
      "text/html": [
       "<div>\n",
       "<style scoped>\n",
       "    .dataframe tbody tr th:only-of-type {\n",
       "        vertical-align: middle;\n",
       "    }\n",
       "\n",
       "    .dataframe tbody tr th {\n",
       "        vertical-align: top;\n",
       "    }\n",
       "\n",
       "    .dataframe thead th {\n",
       "        text-align: right;\n",
       "    }\n",
       "</style>\n",
       "<table border=\"1\" class=\"dataframe\">\n",
       "  <thead>\n",
       "    <tr style=\"text-align: right;\">\n",
       "      <th></th>\n",
       "      <th>start_id</th>\n",
       "      <th>end_id</th>\n",
       "      <th>type</th>\n",
       "      <th>source</th>\n",
       "      <th>evidence</th>\n",
       "    </tr>\n",
       "  </thead>\n",
       "  <tbody>\n",
       "    <tr>\n",
       "      <th>0</th>\n",
       "      <td>InterPro:IPR000003</td>\n",
       "      <td>GO:0003677</td>\n",
       "      <td>enables_PFeMF</td>\n",
       "      <td>InterPro</td>\n",
       "      <td>curated</td>\n",
       "    </tr>\n",
       "    <tr>\n",
       "      <th>1</th>\n",
       "      <td>InterPro:IPR000003</td>\n",
       "      <td>GO:0003707</td>\n",
       "      <td>enables_PFeMF</td>\n",
       "      <td>InterPro</td>\n",
       "      <td>curated</td>\n",
       "    </tr>\n",
       "  </tbody>\n",
       "</table>\n",
       "</div>"
      ],
      "text/plain": [
       "             start_id      end_id           type    source evidence\n",
       "0  InterPro:IPR000003  GO:0003677  enables_PFeMF  InterPro  curated\n",
       "1  InterPro:IPR000003  GO:0003707  enables_PFeMF  InterPro  curated"
      ]
     },
     "execution_count": 56,
     "metadata": {},
     "output_type": "execute_result"
    }
   ],
   "source": [
    "new_edges_df.head(2)"
   ]
  },
  {
   "cell_type": "code",
   "execution_count": 57,
   "metadata": {},
   "outputs": [
    {
     "data": {
      "text/plain": [
       "part_of_GpoPF         17146\n",
       "involved_in_PFinBP    10773\n",
       "enables_PFeMF          9485\n",
       "part_of_PFpoCC         5123\n",
       "Name: type, dtype: int64"
      ]
     },
     "execution_count": 57,
     "metadata": {},
     "output_type": "execute_result"
    }
   ],
   "source": [
    "new_edges_df['type'].value_counts()"
   ]
  },
  {
   "cell_type": "code",
   "execution_count": 58,
   "metadata": {},
   "outputs": [
    {
     "name": "stdout",
     "output_type": "stream",
     "text": [
      "Total number of new edges: 42,562\n",
      "Number of unique new edges: 42,562\n"
     ]
    }
   ],
   "source": [
    "print('Total number of new edges: {:,}'.format(len(new_edges_df)))\n",
    "print('Number of unique new edges: {:,}'.format(len(new_edges_df.drop_duplicates(subset=['start_id', 'end_id', 'type']))))"
   ]
  },
  {
   "cell_type": "code",
   "execution_count": 59,
   "metadata": {},
   "outputs": [
    {
     "name": "stdout",
     "output_type": "stream",
     "text": [
      "42562\n",
      "42527\n"
     ]
    }
   ],
   "source": [
    "all_node_ids = set(all_nodes['id']) | set(new_nodes_df['id'])\n",
    "\n",
    "print(len(new_edges_df))\n",
    "new_edges_df_filt = new_edges_df.query('start_id in @all_node_ids and end_id in @all_node_ids').copy()\n",
    "print(len(new_edges_df_filt))"
   ]
  },
  {
   "cell_type": "code",
   "execution_count": 60,
   "metadata": {},
   "outputs": [
    {
     "data": {
      "text/plain": [
       "35"
      ]
     },
     "execution_count": 60,
     "metadata": {},
     "output_type": "execute_result"
    }
   ],
   "source": [
    "len(new_edges_df) - len(new_edges_df_filt)"
   ]
  },
  {
   "cell_type": "code",
   "execution_count": 61,
   "metadata": {},
   "outputs": [
    {
     "data": {
      "text/html": [
       "<div>\n",
       "<style scoped>\n",
       "    .dataframe tbody tr th:only-of-type {\n",
       "        vertical-align: middle;\n",
       "    }\n",
       "\n",
       "    .dataframe tbody tr th {\n",
       "        vertical-align: top;\n",
       "    }\n",
       "\n",
       "    .dataframe thead th {\n",
       "        text-align: right;\n",
       "    }\n",
       "</style>\n",
       "<table border=\"1\" class=\"dataframe\">\n",
       "  <thead>\n",
       "    <tr style=\"text-align: right;\">\n",
       "      <th></th>\n",
       "      <th>start_id</th>\n",
       "      <th>end_id</th>\n",
       "      <th>type</th>\n",
       "      <th>source</th>\n",
       "      <th>evidence</th>\n",
       "    </tr>\n",
       "  </thead>\n",
       "  <tbody>\n",
       "    <tr>\n",
       "      <th>1594</th>\n",
       "      <td>InterPro:IPR000983</td>\n",
       "      <td>GO:0008565</td>\n",
       "      <td>NaN</td>\n",
       "      <td>InterPro</td>\n",
       "      <td>curated</td>\n",
       "    </tr>\n",
       "    <tr>\n",
       "      <th>2686</th>\n",
       "      <td>InterPro:IPR001639</td>\n",
       "      <td>GO:0008565</td>\n",
       "      <td>NaN</td>\n",
       "      <td>InterPro</td>\n",
       "      <td>curated</td>\n",
       "    </tr>\n",
       "    <tr>\n",
       "      <th>4105</th>\n",
       "      <td>InterPro:IPR002416</td>\n",
       "      <td>GO:0008565</td>\n",
       "      <td>NaN</td>\n",
       "      <td>InterPro</td>\n",
       "      <td>curated</td>\n",
       "    </tr>\n",
       "    <tr>\n",
       "      <th>4282</th>\n",
       "      <td>InterPro:IPR002528</td>\n",
       "      <td>GO:0015238</td>\n",
       "      <td>NaN</td>\n",
       "      <td>InterPro</td>\n",
       "      <td>curated</td>\n",
       "    </tr>\n",
       "    <tr>\n",
       "      <th>5314</th>\n",
       "      <td>InterPro:IPR003369</td>\n",
       "      <td>GO:0008565</td>\n",
       "      <td>NaN</td>\n",
       "      <td>InterPro</td>\n",
       "      <td>curated</td>\n",
       "    </tr>\n",
       "  </tbody>\n",
       "</table>\n",
       "</div>"
      ],
      "text/plain": [
       "                start_id      end_id type    source evidence\n",
       "1594  InterPro:IPR000983  GO:0008565  NaN  InterPro  curated\n",
       "2686  InterPro:IPR001639  GO:0008565  NaN  InterPro  curated\n",
       "4105  InterPro:IPR002416  GO:0008565  NaN  InterPro  curated\n",
       "4282  InterPro:IPR002528  GO:0015238  NaN  InterPro  curated\n",
       "5314  InterPro:IPR003369  GO:0008565  NaN  InterPro  curated"
      ]
     },
     "execution_count": 61,
     "metadata": {},
     "output_type": "execute_result"
    }
   ],
   "source": [
    "new_edges_df.query('start_id not in @all_node_ids or end_id not in @all_node_ids').head(5)"
   ]
  },
  {
   "cell_type": "markdown",
   "metadata": {},
   "source": [
    "GO terms that aren't in the network.... Drop them..."
   ]
  },
  {
   "cell_type": "code",
   "execution_count": 62,
   "metadata": {},
   "outputs": [
    {
     "data": {
      "text/html": [
       "<div>\n",
       "<style scoped>\n",
       "    .dataframe tbody tr th:only-of-type {\n",
       "        vertical-align: middle;\n",
       "    }\n",
       "\n",
       "    .dataframe tbody tr th {\n",
       "        vertical-align: top;\n",
       "    }\n",
       "\n",
       "    .dataframe thead th {\n",
       "        text-align: right;\n",
       "    }\n",
       "</style>\n",
       "<table border=\"1\" class=\"dataframe\">\n",
       "  <thead>\n",
       "    <tr style=\"text-align: right;\">\n",
       "      <th></th>\n",
       "      <th>id</th>\n",
       "      <th>name</th>\n",
       "      <th>label</th>\n",
       "      <th>tree_numbers</th>\n",
       "      <th>drug_bank_ids</th>\n",
       "      <th>alt_disease_ids</th>\n",
       "      <th>gene_symbol</th>\n",
       "      <th>alt_gene_ids</th>\n",
       "      <th>bio_gridids</th>\n",
       "      <th>pharm_gkbids</th>\n",
       "      <th>uni_prot_ids</th>\n",
       "      <th>uniprot_id</th>\n",
       "      <th>mesh_ids</th>\n",
       "      <th>chebi_ids</th>\n",
       "    </tr>\n",
       "  </thead>\n",
       "  <tbody>\n",
       "    <tr>\n",
       "      <th>0</th>\n",
       "      <td>MESH:C089250</td>\n",
       "      <td>(0.017ferrocene)amylose</td>\n",
       "      <td>Compound</td>\n",
       "      <td>D01.490.200/C089250|D02.691.550.200/C089250|D0...</td>\n",
       "      <td>NaN</td>\n",
       "      <td>NaN</td>\n",
       "      <td>NaN</td>\n",
       "      <td>NaN</td>\n",
       "      <td>NaN</td>\n",
       "      <td>NaN</td>\n",
       "      <td>NaN</td>\n",
       "      <td>NaN</td>\n",
       "      <td>NaN</td>\n",
       "      <td>NaN</td>\n",
       "    </tr>\n",
       "    <tr>\n",
       "      <th>1</th>\n",
       "      <td>MESH:C114385</td>\n",
       "      <td>001-C8-NBD</td>\n",
       "      <td>Compound</td>\n",
       "      <td>D03.383.129.462.580/C114385|D12.644.456/C114385</td>\n",
       "      <td>NaN</td>\n",
       "      <td>NaN</td>\n",
       "      <td>NaN</td>\n",
       "      <td>NaN</td>\n",
       "      <td>NaN</td>\n",
       "      <td>NaN</td>\n",
       "      <td>NaN</td>\n",
       "      <td>NaN</td>\n",
       "      <td>NaN</td>\n",
       "      <td>NaN</td>\n",
       "    </tr>\n",
       "  </tbody>\n",
       "</table>\n",
       "</div>"
      ],
      "text/plain": [
       "             id                     name     label  \\\n",
       "0  MESH:C089250  (0.017ferrocene)amylose  Compound   \n",
       "1  MESH:C114385               001-C8-NBD  Compound   \n",
       "\n",
       "                                        tree_numbers drug_bank_ids  \\\n",
       "0  D01.490.200/C089250|D02.691.550.200/C089250|D0...           NaN   \n",
       "1    D03.383.129.462.580/C114385|D12.644.456/C114385           NaN   \n",
       "\n",
       "  alt_disease_ids gene_symbol alt_gene_ids bio_gridids pharm_gkbids  \\\n",
       "0             NaN         NaN          NaN         NaN          NaN   \n",
       "1             NaN         NaN          NaN         NaN          NaN   \n",
       "\n",
       "  uni_prot_ids uniprot_id mesh_ids chebi_ids  \n",
       "0          NaN        NaN      NaN       NaN  \n",
       "1          NaN        NaN      NaN       NaN  "
      ]
     },
     "execution_count": 62,
     "metadata": {},
     "output_type": "execute_result"
    }
   ],
   "source": [
    "all_nodes_out = pd.concat([all_nodes, new_nodes_df], sort=False)\n",
    "all_nodes_out.head(2)"
   ]
  },
  {
   "cell_type": "code",
   "execution_count": 63,
   "metadata": {},
   "outputs": [
    {
     "data": {
      "text/html": [
       "<div>\n",
       "<style scoped>\n",
       "    .dataframe tbody tr th:only-of-type {\n",
       "        vertical-align: middle;\n",
       "    }\n",
       "\n",
       "    .dataframe tbody tr th {\n",
       "        vertical-align: top;\n",
       "    }\n",
       "\n",
       "    .dataframe thead th {\n",
       "        text-align: right;\n",
       "    }\n",
       "</style>\n",
       "<table border=\"1\" class=\"dataframe\">\n",
       "  <thead>\n",
       "    <tr style=\"text-align: right;\">\n",
       "      <th></th>\n",
       "      <th>start_id</th>\n",
       "      <th>end_id</th>\n",
       "      <th>type</th>\n",
       "      <th>parent_ixn</th>\n",
       "      <th>pub_med_ids</th>\n",
       "      <th>organism_id</th>\n",
       "      <th>abbv</th>\n",
       "      <th>source</th>\n",
       "      <th>evidence</th>\n",
       "      <th>direct_evidence</th>\n",
       "      <th>corrected_pvalue</th>\n",
       "      <th>inference_gene_symbol</th>\n",
       "      <th>qualifier</th>\n",
       "      <th>db_reference</th>\n",
       "      <th>evidence_code</th>\n",
       "      <th>with_or_from</th>\n",
       "      <th>date</th>\n",
       "      <th>assigned_by</th>\n",
       "      <th>experiments</th>\n",
       "      <th>support_type</th>\n",
       "    </tr>\n",
       "  </thead>\n",
       "  <tbody>\n",
       "    <tr>\n",
       "      <th>0</th>\n",
       "      <td>MESH:C000121</td>\n",
       "      <td>4313</td>\n",
       "      <td>decreases_activity_CdaG</td>\n",
       "      <td>decreases^activity</td>\n",
       "      <td>25899827</td>\n",
       "      <td>9606</td>\n",
       "      <td>CdaG</td>\n",
       "      <td>CTD</td>\n",
       "      <td>curated</td>\n",
       "      <td>NaN</td>\n",
       "      <td>NaN</td>\n",
       "      <td>NaN</td>\n",
       "      <td>NaN</td>\n",
       "      <td>NaN</td>\n",
       "      <td>NaN</td>\n",
       "      <td>NaN</td>\n",
       "      <td>NaN</td>\n",
       "      <td>NaN</td>\n",
       "      <td>NaN</td>\n",
       "      <td>NaN</td>\n",
       "    </tr>\n",
       "    <tr>\n",
       "      <th>1</th>\n",
       "      <td>MESH:C000121</td>\n",
       "      <td>4313</td>\n",
       "      <td>decreases_expression_CdeG</td>\n",
       "      <td>decreases^expression</td>\n",
       "      <td>25899827</td>\n",
       "      <td>9606</td>\n",
       "      <td>CdeG</td>\n",
       "      <td>CTD</td>\n",
       "      <td>curated</td>\n",
       "      <td>NaN</td>\n",
       "      <td>NaN</td>\n",
       "      <td>NaN</td>\n",
       "      <td>NaN</td>\n",
       "      <td>NaN</td>\n",
       "      <td>NaN</td>\n",
       "      <td>NaN</td>\n",
       "      <td>NaN</td>\n",
       "      <td>NaN</td>\n",
       "      <td>NaN</td>\n",
       "      <td>NaN</td>\n",
       "    </tr>\n",
       "  </tbody>\n",
       "</table>\n",
       "</div>"
      ],
      "text/plain": [
       "       start_id end_id                       type            parent_ixn  \\\n",
       "0  MESH:C000121   4313    decreases_activity_CdaG    decreases^activity   \n",
       "1  MESH:C000121   4313  decreases_expression_CdeG  decreases^expression   \n",
       "\n",
       "  pub_med_ids organism_id  abbv source evidence direct_evidence  \\\n",
       "0    25899827        9606  CdaG    CTD  curated             NaN   \n",
       "1    25899827        9606  CdeG    CTD  curated             NaN   \n",
       "\n",
       "  corrected_pvalue inference_gene_symbol qualifier db_reference evidence_code  \\\n",
       "0              NaN                   NaN       NaN          NaN           NaN   \n",
       "1              NaN                   NaN       NaN          NaN           NaN   \n",
       "\n",
       "  with_or_from date assigned_by experiments support_type  \n",
       "0          NaN  NaN         NaN         NaN          NaN  \n",
       "1          NaN  NaN         NaN         NaN          NaN  "
      ]
     },
     "execution_count": 63,
     "metadata": {},
     "output_type": "execute_result"
    }
   ],
   "source": [
    "new_edges_df_filt['abbv'] = new_edges_df_filt['type'].apply(lambda s: s.split('_')[-1])\n",
    "all_edges = pd.concat([edges, new_edges_df_filt], sort=False)\n",
    "all_edges.head(2)"
   ]
  },
  {
   "cell_type": "code",
   "execution_count": 64,
   "metadata": {
    "scrolled": true
   },
   "outputs": [
    {
     "data": {
      "text/plain": [
       "True"
      ]
     },
     "execution_count": 64,
     "metadata": {},
     "output_type": "execute_result"
    }
   ],
   "source": [
    "len(all_node_ids) == len(all_nodes_out)"
   ]
  },
  {
   "cell_type": "code",
   "execution_count": 65,
   "metadata": {},
   "outputs": [
    {
     "data": {
      "text/plain": [
       "126431"
      ]
     },
     "execution_count": 65,
     "metadata": {},
     "output_type": "execute_result"
    }
   ],
   "source": [
    "all_edge_ids = all_edges[['start_id', 'end_id']].stack()\n",
    "filt_nodes_out = all_nodes_out.query('id in @all_edge_ids')\n",
    "len(filt_nodes_out)"
   ]
  },
  {
   "cell_type": "markdown",
   "metadata": {},
   "source": [
    "# Save to Disk"
   ]
  },
  {
   "cell_type": "code",
   "execution_count": 66,
   "metadata": {},
   "outputs": [],
   "source": [
    "gt.add_colons(new_nodes_df, id_name='identifier').to_csv(out_dir.joinpath('new_nodes.csv'), index=False)\n",
    "gt.add_colons(new_edges_df).to_csv(out_dir.joinpath('new_edges.csv'), index=False)"
   ]
  },
  {
   "cell_type": "code",
   "execution_count": 67,
   "metadata": {},
   "outputs": [],
   "source": [
    "gt.add_colons(all_nodes_out, id_name='identifier').to_csv(out_dir.joinpath('nodes_all.csv'), index=False)\n",
    "gt.add_colons(filt_nodes_out, id_name='identifier').to_csv(out_dir.joinpath('nodes_filt.csv'), index=False)\n",
    "\n",
    "gt.add_colons(all_edges).to_csv(out_dir.joinpath('edges.csv'), index=False)"
   ]
  }
 ],
 "metadata": {
  "kernelspec": {
   "display_name": "Python 3",
   "language": "python",
   "name": "python3"
  },
  "language_info": {
   "codemirror_mode": {
    "name": "ipython",
    "version": 3
   },
   "file_extension": ".py",
   "mimetype": "text/x-python",
   "name": "python",
   "nbconvert_exporter": "python",
   "pygments_lexer": "ipython3",
   "version": "3.6.8"
  }
 },
 "nbformat": 4,
 "nbformat_minor": 2
}
