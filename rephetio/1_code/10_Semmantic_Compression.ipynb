{
 "cells": [
  {
   "cell_type": "markdown",
   "metadata": {},
   "source": [
    "# Semmantic Compression\n",
    "\n",
    "Based on metaedges and counts (created in the previous notebook), we made a semmantic compression map. This will allow us to map similarly typed edges together to create a more limited semmantic vocabularly."
   ]
  },
  {
   "cell_type": "code",
   "execution_count": 1,
   "metadata": {},
   "outputs": [
    {
     "name": "stderr",
     "output_type": "stream",
     "text": [
      "/home/mmayers/software/miniconda3/envs/ml/lib/python3.7/site-packages/data_tools/df_processing.py:4: TqdmExperimentalWarning: Using `tqdm.autonotebook.tqdm` in notebook mode. Use `tqdm.tqdm` instead to force console mode (e.g. in jupyter console)\n",
      "  from tqdm.autonotebook import tqdm\n"
     ]
    }
   ],
   "source": [
    "%matplotlib inline\n",
    "import pandas as pd\n",
    "import seaborn as sns\n",
    "from pathlib import Path\n",
    "import matplotlib.pyplot as plt\n",
    "\n",
    "from data_tools.plotting import count_plot_h\n",
    "from data_tools import combine_nodes_and_edges\n",
    "from data_tools.df_processing import combine_group_cols_on_char, expand_col_on_char\n",
    "from data_tools.graphs import map_edge_types_from_file, add_abbrevs, get_core_network"
   ]
  },
  {
   "cell_type": "code",
   "execution_count": 2,
   "metadata": {},
   "outputs": [],
   "source": [
    "prev_dir = Path('../2_pipeline/09_GAUSS_Geneset_to_Phenotype/out/').resolve()\n",
    "data_dir = Path('../0_data/manual/').resolve()"
   ]
  },
  {
   "cell_type": "code",
   "execution_count": 3,
   "metadata": {},
   "outputs": [],
   "source": [
    "nodes = pd.read_csv(prev_dir.joinpath('nodes_filt.csv'), dtype=str)\n",
    "edges = pd.read_csv(prev_dir.joinpath('edges.csv'), dtype=str)"
   ]
  },
  {
   "cell_type": "code",
   "execution_count": 4,
   "metadata": {},
   "outputs": [],
   "source": [
    "sem_comp_map = pd.read_csv(data_dir.joinpath('semantic_compression_map.csv'))"
   ]
  },
  {
   "cell_type": "code",
   "execution_count": 5,
   "metadata": {},
   "outputs": [
    {
     "data": {
      "text/plain": [
       "start_label             object\n",
       "type                    object\n",
       "end_label               object\n",
       "counts                 float64\n",
       "new_type                object\n",
       "reverse_node_labels     object\n",
       "dtype: object"
      ]
     },
     "execution_count": 5,
     "metadata": {},
     "output_type": "execute_result"
    }
   ],
   "source": [
    "sem_comp_map.dtypes"
   ]
  },
  {
   "cell_type": "code",
   "execution_count": 6,
   "metadata": {},
   "outputs": [
    {
     "data": {
      "text/html": [
       "<div>\n",
       "<style scoped>\n",
       "    .dataframe tbody tr th:only-of-type {\n",
       "        vertical-align: middle;\n",
       "    }\n",
       "\n",
       "    .dataframe tbody tr th {\n",
       "        vertical-align: top;\n",
       "    }\n",
       "\n",
       "    .dataframe thead th {\n",
       "        text-align: right;\n",
       "    }\n",
       "</style>\n",
       "<table border=\"1\" class=\"dataframe\">\n",
       "  <thead>\n",
       "    <tr style=\"text-align: right;\">\n",
       "      <th></th>\n",
       "      <th>start_label</th>\n",
       "      <th>type</th>\n",
       "      <th>end_label</th>\n",
       "      <th>counts</th>\n",
       "      <th>new_type</th>\n",
       "      <th>reverse_node_labels</th>\n",
       "    </tr>\n",
       "  </thead>\n",
       "  <tbody>\n",
       "    <tr>\n",
       "      <th>0</th>\n",
       "      <td>Anatomy</td>\n",
       "      <td>capable_of</td>\n",
       "      <td>Biological Process</td>\n",
       "      <td>123.0</td>\n",
       "      <td>site_of</td>\n",
       "      <td>NaN</td>\n",
       "    </tr>\n",
       "    <tr>\n",
       "      <th>1</th>\n",
       "      <td>Anatomy</td>\n",
       "      <td>capable_of_part_of</td>\n",
       "      <td>Biological Process</td>\n",
       "      <td>121.0</td>\n",
       "      <td>site_of</td>\n",
       "      <td>NaN</td>\n",
       "    </tr>\n",
       "    <tr>\n",
       "      <th>2</th>\n",
       "      <td>Anatomy</td>\n",
       "      <td>contains_process</td>\n",
       "      <td>Biological Process</td>\n",
       "      <td>27.0</td>\n",
       "      <td>site_of</td>\n",
       "      <td>NaN</td>\n",
       "    </tr>\n",
       "    <tr>\n",
       "      <th>3</th>\n",
       "      <td>Anatomy</td>\n",
       "      <td>output_of</td>\n",
       "      <td>Biological Process</td>\n",
       "      <td>18.0</td>\n",
       "      <td>produces</td>\n",
       "      <td>True</td>\n",
       "    </tr>\n",
       "    <tr>\n",
       "      <th>4</th>\n",
       "      <td>Anatomy</td>\n",
       "      <td>site_of</td>\n",
       "      <td>Biological Process</td>\n",
       "      <td>13.0</td>\n",
       "      <td>site_of</td>\n",
       "      <td>NaN</td>\n",
       "    </tr>\n",
       "    <tr>\n",
       "      <th>...</th>\n",
       "      <td>...</td>\n",
       "      <td>...</td>\n",
       "      <td>...</td>\n",
       "      <td>...</td>\n",
       "      <td>...</td>\n",
       "      <td>...</td>\n",
       "    </tr>\n",
       "    <tr>\n",
       "      <th>570</th>\n",
       "      <td>Reaction</td>\n",
       "      <td>has_input</td>\n",
       "      <td>Protein</td>\n",
       "      <td>15404.0</td>\n",
       "      <td>has_input</td>\n",
       "      <td>NaN</td>\n",
       "    </tr>\n",
       "    <tr>\n",
       "      <th>571</th>\n",
       "      <td>Reaction</td>\n",
       "      <td>follows_in_sequence</td>\n",
       "      <td>Reaction</td>\n",
       "      <td>10363.0</td>\n",
       "      <td>follows_in_sequence</td>\n",
       "      <td>NaN</td>\n",
       "    </tr>\n",
       "    <tr>\n",
       "      <th>572</th>\n",
       "      <td>Reaction</td>\n",
       "      <td>disrupts</td>\n",
       "      <td>Reaction</td>\n",
       "      <td>351.0</td>\n",
       "      <td>disrupts</td>\n",
       "      <td>NaN</td>\n",
       "    </tr>\n",
       "    <tr>\n",
       "      <th>573</th>\n",
       "      <td>Reaction</td>\n",
       "      <td>in_taxon</td>\n",
       "      <td>Taxon</td>\n",
       "      <td>5239.0</td>\n",
       "      <td>in_taxon</td>\n",
       "      <td>NaN</td>\n",
       "    </tr>\n",
       "    <tr>\n",
       "      <th>574</th>\n",
       "      <td>Taxon</td>\n",
       "      <td>causes</td>\n",
       "      <td>Disease</td>\n",
       "      <td>72801.0</td>\n",
       "      <td>causes</td>\n",
       "      <td>NaN</td>\n",
       "    </tr>\n",
       "  </tbody>\n",
       "</table>\n",
       "<p>575 rows × 6 columns</p>\n",
       "</div>"
      ],
      "text/plain": [
       "    start_label                 type           end_label   counts  \\\n",
       "0       Anatomy           capable_of  Biological Process    123.0   \n",
       "1       Anatomy   capable_of_part_of  Biological Process    121.0   \n",
       "2       Anatomy     contains_process  Biological Process     27.0   \n",
       "3       Anatomy            output_of  Biological Process     18.0   \n",
       "4       Anatomy              site_of  Biological Process     13.0   \n",
       "..          ...                  ...                 ...      ...   \n",
       "570    Reaction            has_input             Protein  15404.0   \n",
       "571    Reaction  follows_in_sequence            Reaction  10363.0   \n",
       "572    Reaction             disrupts            Reaction    351.0   \n",
       "573    Reaction             in_taxon               Taxon   5239.0   \n",
       "574       Taxon               causes             Disease  72801.0   \n",
       "\n",
       "                new_type reverse_node_labels  \n",
       "0                site_of                 NaN  \n",
       "1                site_of                 NaN  \n",
       "2                site_of                 NaN  \n",
       "3               produces                True  \n",
       "4                site_of                 NaN  \n",
       "..                   ...                 ...  \n",
       "570            has_input                 NaN  \n",
       "571  follows_in_sequence                 NaN  \n",
       "572             disrupts                 NaN  \n",
       "573             in_taxon                 NaN  \n",
       "574               causes                 NaN  \n",
       "\n",
       "[575 rows x 6 columns]"
      ]
     },
     "execution_count": 6,
     "metadata": {},
     "output_type": "execute_result"
    }
   ],
   "source": [
    "sem_comp_map"
   ]
  },
  {
   "cell_type": "code",
   "execution_count": 7,
   "metadata": {},
   "outputs": [
    {
     "data": {
      "text/plain": [
       "217"
      ]
     },
     "execution_count": 7,
     "metadata": {},
     "output_type": "execute_result"
    }
   ],
   "source": [
    "len(sem_comp_map[['start_label', 'new_type', 'end_label']].dropna().drop_duplicates())"
   ]
  },
  {
   "cell_type": "markdown",
   "metadata": {},
   "source": [
    "So we are reducing our total number of metaedges from 575 to 217, about a 60% reduction"
   ]
  },
  {
   "cell_type": "markdown",
   "metadata": {},
   "source": [
    "The mapping function is in-place, so lets do a quick before and after comparison to make sure things are mapped"
   ]
  },
  {
   "cell_type": "code",
   "execution_count": 8,
   "metadata": {},
   "outputs": [
    {
     "data": {
      "text/plain": [
       "(10070937, 10070937)"
      ]
     },
     "execution_count": 8,
     "metadata": {},
     "output_type": "execute_result"
    }
   ],
   "source": [
    "len(edges), len(edges.drop_duplicates(subset=['start_id', 'end_id', 'type']))"
   ]
  },
  {
   "cell_type": "code",
   "execution_count": 9,
   "metadata": {
    "scrolled": true
   },
   "outputs": [
    {
     "name": "stderr",
     "output_type": "stream",
     "text": [
      "100%|██████████| 575/575 [44:55<00:00,  4.69s/it]\n"
     ]
    }
   ],
   "source": [
    "map_edge_types_from_file(edges, sem_comp_map, nodes=nodes)"
   ]
  },
  {
   "cell_type": "code",
   "execution_count": 10,
   "metadata": {},
   "outputs": [
    {
     "data": {
      "text/plain": [
       "(9995646, 9955454)"
      ]
     },
     "execution_count": 10,
     "metadata": {},
     "output_type": "execute_result"
    }
   ],
   "source": [
    "len(edges), len(edges.drop_duplicates(subset=['start_id', 'end_id', 'type']))"
   ]
  },
  {
   "cell_type": "code",
   "execution_count": 11,
   "metadata": {},
   "outputs": [
    {
     "data": {
      "text/html": [
       "<div>\n",
       "<style scoped>\n",
       "    .dataframe tbody tr th:only-of-type {\n",
       "        vertical-align: middle;\n",
       "    }\n",
       "\n",
       "    .dataframe tbody tr th {\n",
       "        vertical-align: top;\n",
       "    }\n",
       "\n",
       "    .dataframe thead th {\n",
       "        text-align: right;\n",
       "    }\n",
       "</style>\n",
       "<table border=\"1\" class=\"dataframe\">\n",
       "  <thead>\n",
       "    <tr style=\"text-align: right;\">\n",
       "      <th></th>\n",
       "      <th>start_id</th>\n",
       "      <th>end_id</th>\n",
       "      <th>type</th>\n",
       "      <th>dsrc_type</th>\n",
       "      <th>comp_type</th>\n",
       "      <th>p_val</th>\n",
       "      <th>adj_p</th>\n",
       "      <th>source</th>\n",
       "      <th>license</th>\n",
       "      <th>experiments</th>\n",
       "      <th>support_type</th>\n",
       "      <th>pmids</th>\n",
       "      <th>phase</th>\n",
       "      <th>date</th>\n",
       "    </tr>\n",
       "  </thead>\n",
       "  <tbody>\n",
       "    <tr>\n",
       "      <th>0</th>\n",
       "      <td>UNII:BTY153760O</td>\n",
       "      <td>NCBIGene:3605</td>\n",
       "      <td>inhibits</td>\n",
       "      <td>computed</td>\n",
       "      <td>merge</td>\n",
       "      <td>NaN</td>\n",
       "      <td>NaN</td>\n",
       "      <td>WikiData</td>\n",
       "      <td>CC0 1.0</td>\n",
       "      <td>NaN</td>\n",
       "      <td>NaN</td>\n",
       "      <td>NaN</td>\n",
       "      <td>NaN</td>\n",
       "      <td>NaN</td>\n",
       "    </tr>\n",
       "    <tr>\n",
       "      <th>1</th>\n",
       "      <td>CHEBI:10055</td>\n",
       "      <td>NCBIGene:153</td>\n",
       "      <td>activates</td>\n",
       "      <td>computed</td>\n",
       "      <td>merge</td>\n",
       "      <td>NaN</td>\n",
       "      <td>NaN</td>\n",
       "      <td>WikiData</td>\n",
       "      <td>CC0 1.0</td>\n",
       "      <td>NaN</td>\n",
       "      <td>NaN</td>\n",
       "      <td>NaN</td>\n",
       "      <td>NaN</td>\n",
       "      <td>NaN</td>\n",
       "    </tr>\n",
       "    <tr>\n",
       "      <th>2</th>\n",
       "      <td>CHEBI:10056</td>\n",
       "      <td>NCBIGene:1129</td>\n",
       "      <td>activates</td>\n",
       "      <td>computed</td>\n",
       "      <td>merge</td>\n",
       "      <td>NaN</td>\n",
       "      <td>NaN</td>\n",
       "      <td>WikiData</td>\n",
       "      <td>CC0 1.0</td>\n",
       "      <td>NaN</td>\n",
       "      <td>NaN</td>\n",
       "      <td>NaN</td>\n",
       "      <td>NaN</td>\n",
       "      <td>NaN</td>\n",
       "    </tr>\n",
       "    <tr>\n",
       "      <th>3</th>\n",
       "      <td>CHEBI:10056</td>\n",
       "      <td>NCBIGene:1131</td>\n",
       "      <td>activates</td>\n",
       "      <td>computed</td>\n",
       "      <td>merge</td>\n",
       "      <td>NaN</td>\n",
       "      <td>NaN</td>\n",
       "      <td>WikiData</td>\n",
       "      <td>CC0 1.0</td>\n",
       "      <td>NaN</td>\n",
       "      <td>NaN</td>\n",
       "      <td>NaN</td>\n",
       "      <td>NaN</td>\n",
       "      <td>NaN</td>\n",
       "    </tr>\n",
       "    <tr>\n",
       "      <th>4</th>\n",
       "      <td>CHEBI:10056</td>\n",
       "      <td>NCBIGene:1133</td>\n",
       "      <td>activates</td>\n",
       "      <td>computed</td>\n",
       "      <td>merge</td>\n",
       "      <td>NaN</td>\n",
       "      <td>NaN</td>\n",
       "      <td>WikiData</td>\n",
       "      <td>CC0 1.0</td>\n",
       "      <td>NaN</td>\n",
       "      <td>NaN</td>\n",
       "      <td>NaN</td>\n",
       "      <td>NaN</td>\n",
       "      <td>NaN</td>\n",
       "    </tr>\n",
       "    <tr>\n",
       "      <th>5</th>\n",
       "      <td>CHEBI:10056</td>\n",
       "      <td>NCBIGene:3350</td>\n",
       "      <td>activates</td>\n",
       "      <td>computed</td>\n",
       "      <td>merge</td>\n",
       "      <td>NaN</td>\n",
       "      <td>NaN</td>\n",
       "      <td>WikiData</td>\n",
       "      <td>CC0 1.0</td>\n",
       "      <td>NaN</td>\n",
       "      <td>NaN</td>\n",
       "      <td>NaN</td>\n",
       "      <td>NaN</td>\n",
       "      <td>NaN</td>\n",
       "    </tr>\n",
       "    <tr>\n",
       "      <th>6</th>\n",
       "      <td>CHEBI:10056</td>\n",
       "      <td>NCBIGene:3351</td>\n",
       "      <td>activates</td>\n",
       "      <td>computed</td>\n",
       "      <td>merge</td>\n",
       "      <td>NaN</td>\n",
       "      <td>NaN</td>\n",
       "      <td>WikiData</td>\n",
       "      <td>CC0 1.0</td>\n",
       "      <td>NaN</td>\n",
       "      <td>NaN</td>\n",
       "      <td>NaN</td>\n",
       "      <td>NaN</td>\n",
       "      <td>NaN</td>\n",
       "    </tr>\n",
       "    <tr>\n",
       "      <th>7</th>\n",
       "      <td>CHEBI:10056</td>\n",
       "      <td>NCBIGene:3352</td>\n",
       "      <td>activates</td>\n",
       "      <td>computed</td>\n",
       "      <td>merge</td>\n",
       "      <td>NaN</td>\n",
       "      <td>NaN</td>\n",
       "      <td>WikiData</td>\n",
       "      <td>CC0 1.0</td>\n",
       "      <td>NaN</td>\n",
       "      <td>NaN</td>\n",
       "      <td>NaN</td>\n",
       "      <td>NaN</td>\n",
       "      <td>NaN</td>\n",
       "    </tr>\n",
       "    <tr>\n",
       "      <th>8</th>\n",
       "      <td>CHEBI:10056</td>\n",
       "      <td>NCBIGene:3354</td>\n",
       "      <td>activates</td>\n",
       "      <td>computed</td>\n",
       "      <td>merge</td>\n",
       "      <td>NaN</td>\n",
       "      <td>NaN</td>\n",
       "      <td>WikiData</td>\n",
       "      <td>CC0 1.0</td>\n",
       "      <td>NaN</td>\n",
       "      <td>NaN</td>\n",
       "      <td>NaN</td>\n",
       "      <td>NaN</td>\n",
       "      <td>NaN</td>\n",
       "    </tr>\n",
       "    <tr>\n",
       "      <th>9</th>\n",
       "      <td>CHEBI:10056</td>\n",
       "      <td>NCBIGene:3355</td>\n",
       "      <td>activates</td>\n",
       "      <td>computed</td>\n",
       "      <td>merge</td>\n",
       "      <td>NaN</td>\n",
       "      <td>NaN</td>\n",
       "      <td>WikiData</td>\n",
       "      <td>CC0 1.0</td>\n",
       "      <td>NaN</td>\n",
       "      <td>NaN</td>\n",
       "      <td>NaN</td>\n",
       "      <td>NaN</td>\n",
       "      <td>NaN</td>\n",
       "    </tr>\n",
       "  </tbody>\n",
       "</table>\n",
       "</div>"
      ],
      "text/plain": [
       "          start_id         end_id       type dsrc_type comp_type p_val adj_p  \\\n",
       "0  UNII:BTY153760O  NCBIGene:3605   inhibits  computed     merge   NaN   NaN   \n",
       "1      CHEBI:10055   NCBIGene:153  activates  computed     merge   NaN   NaN   \n",
       "2      CHEBI:10056  NCBIGene:1129  activates  computed     merge   NaN   NaN   \n",
       "3      CHEBI:10056  NCBIGene:1131  activates  computed     merge   NaN   NaN   \n",
       "4      CHEBI:10056  NCBIGene:1133  activates  computed     merge   NaN   NaN   \n",
       "5      CHEBI:10056  NCBIGene:3350  activates  computed     merge   NaN   NaN   \n",
       "6      CHEBI:10056  NCBIGene:3351  activates  computed     merge   NaN   NaN   \n",
       "7      CHEBI:10056  NCBIGene:3352  activates  computed     merge   NaN   NaN   \n",
       "8      CHEBI:10056  NCBIGene:3354  activates  computed     merge   NaN   NaN   \n",
       "9      CHEBI:10056  NCBIGene:3355  activates  computed     merge   NaN   NaN   \n",
       "\n",
       "     source  license experiments support_type pmids phase date  \n",
       "0  WikiData  CC0 1.0         NaN          NaN   NaN   NaN  NaN  \n",
       "1  WikiData  CC0 1.0         NaN          NaN   NaN   NaN  NaN  \n",
       "2  WikiData  CC0 1.0         NaN          NaN   NaN   NaN  NaN  \n",
       "3  WikiData  CC0 1.0         NaN          NaN   NaN   NaN  NaN  \n",
       "4  WikiData  CC0 1.0         NaN          NaN   NaN   NaN  NaN  \n",
       "5  WikiData  CC0 1.0         NaN          NaN   NaN   NaN  NaN  \n",
       "6  WikiData  CC0 1.0         NaN          NaN   NaN   NaN  NaN  \n",
       "7  WikiData  CC0 1.0         NaN          NaN   NaN   NaN  NaN  \n",
       "8  WikiData  CC0 1.0         NaN          NaN   NaN   NaN  NaN  \n",
       "9  WikiData  CC0 1.0         NaN          NaN   NaN   NaN  NaN  "
      ]
     },
     "execution_count": 11,
     "metadata": {},
     "output_type": "execute_result"
    }
   ],
   "source": [
    "edges.head(10)"
   ]
  },
  {
   "cell_type": "code",
   "execution_count": 12,
   "metadata": {},
   "outputs": [
    {
     "data": {
      "application/vnd.jupyter.widget-view+json": {
       "model_id": "9e50411825c9480e8e80682527a207ce",
       "version_major": 2,
       "version_minor": 0
      },
      "text/plain": [
       "HBox(children=(FloatProgress(value=0.0, description='total_progress', max=4.0, style=ProgressStyle(description…"
      ]
     },
     "metadata": {},
     "output_type": "display_data"
    },
    {
     "name": "stderr",
     "output_type": "stream",
     "text": [
      "/home/mmayers/software/miniconda3/envs/ml/lib/python3.7/site-packages/tqdm/std.py:656: FutureWarning: The Panel class is removed from pandas. Accessing it from the top-level namespace will also be removed in the next version\n",
      "  from pandas import Panel\n"
     ]
    },
    {
     "data": {
      "application/vnd.jupyter.widget-view+json": {
       "model_id": "a091c8a94ad941868d24a4263beacbea",
       "version_major": 2,
       "version_minor": 0
      },
      "text/plain": [
       "HBox(children=(FloatProgress(value=0.0, description='dsrc_type', max=39090.0, style=ProgressStyle(description_…"
      ]
     },
     "metadata": {},
     "output_type": "display_data"
    },
    {
     "name": "stdout",
     "output_type": "stream",
     "text": [
      "\n"
     ]
    },
    {
     "data": {
      "application/vnd.jupyter.widget-view+json": {
       "model_id": "30329cb274fa44c0b4cbdd5c21f4de8d",
       "version_major": 2,
       "version_minor": 0
      },
      "text/plain": [
       "HBox(children=(FloatProgress(value=0.0, description='source', max=39090.0, style=ProgressStyle(description_wid…"
      ]
     },
     "metadata": {},
     "output_type": "display_data"
    },
    {
     "name": "stdout",
     "output_type": "stream",
     "text": [
      "\n"
     ]
    },
    {
     "data": {
      "application/vnd.jupyter.widget-view+json": {
       "model_id": "aa87973d9fba49849566c5776ee666bc",
       "version_major": 2,
       "version_minor": 0
      },
      "text/plain": [
       "HBox(children=(FloatProgress(value=0.0, description='license', max=39090.0, style=ProgressStyle(description_wi…"
      ]
     },
     "metadata": {},
     "output_type": "display_data"
    },
    {
     "name": "stdout",
     "output_type": "stream",
     "text": [
      "\n"
     ]
    },
    {
     "data": {
      "application/vnd.jupyter.widget-view+json": {
       "model_id": "35ae7ab839cc4c6b9686ee17f7e6786b",
       "version_major": 2,
       "version_minor": 0
      },
      "text/plain": [
       "HBox(children=(FloatProgress(value=0.0, description='pmids', max=39090.0, style=ProgressStyle(description_widt…"
      ]
     },
     "metadata": {},
     "output_type": "display_data"
    },
    {
     "name": "stdout",
     "output_type": "stream",
     "text": [
      "\n",
      "\n"
     ]
    }
   ],
   "source": [
    "edges = combine_group_cols_on_char(edges, ['start_id', 'end_id', 'type'], sort=True)"
   ]
  },
  {
   "cell_type": "markdown",
   "metadata": {},
   "source": [
    "As some edge types were dropped, there may be fewer nodes"
   ]
  },
  {
   "cell_type": "code",
   "execution_count": 13,
   "metadata": {},
   "outputs": [],
   "source": [
    "edge_ids = edges[['start_id', 'end_id']].stack().unique()"
   ]
  },
  {
   "cell_type": "code",
   "execution_count": 14,
   "metadata": {},
   "outputs": [
    {
     "data": {
      "text/plain": [
       "(404610, 368557)"
      ]
     },
     "execution_count": 14,
     "metadata": {},
     "output_type": "execute_result"
    }
   ],
   "source": [
    "len(nodes), len(nodes.query('id in @edge_ids'))"
   ]
  },
  {
   "cell_type": "code",
   "execution_count": 15,
   "metadata": {},
   "outputs": [],
   "source": [
    "nodes = nodes.query('id in @edge_ids')"
   ]
  },
  {
   "cell_type": "markdown",
   "metadata": {},
   "source": [
    "## Add Abbreviations"
   ]
  },
  {
   "cell_type": "code",
   "execution_count": 16,
   "metadata": {},
   "outputs": [],
   "source": [
    "biolink_map = pd.read_csv(data_dir.joinpath('hetnet_to_biolink.csv'))\n",
    "sem_info = pd.read_csv(data_dir.joinpath('edge_semtypes.csv'))"
   ]
  },
  {
   "cell_type": "code",
   "execution_count": 17,
   "metadata": {},
   "outputs": [
    {
     "data": {
      "text/html": [
       "<div>\n",
       "<style scoped>\n",
       "    .dataframe tbody tr th:only-of-type {\n",
       "        vertical-align: middle;\n",
       "    }\n",
       "\n",
       "    .dataframe tbody tr th {\n",
       "        vertical-align: top;\n",
       "    }\n",
       "\n",
       "    .dataframe thead th {\n",
       "        text-align: right;\n",
       "    }\n",
       "</style>\n",
       "<table border=\"1\" class=\"dataframe\">\n",
       "  <thead>\n",
       "    <tr style=\"text-align: right;\">\n",
       "      <th></th>\n",
       "      <th>hetnet</th>\n",
       "      <th>abbrev</th>\n",
       "      <th>biolink</th>\n",
       "      <th>bl_hierarchy_mapping</th>\n",
       "      <th>hie_abbrev</th>\n",
       "    </tr>\n",
       "  </thead>\n",
       "  <tbody>\n",
       "    <tr>\n",
       "      <th>0</th>\n",
       "      <td>Cellular Component</td>\n",
       "      <td>CC</td>\n",
       "      <td>CellularComponent</td>\n",
       "      <td>AnatomicalEntity</td>\n",
       "      <td>A</td>\n",
       "    </tr>\n",
       "    <tr>\n",
       "      <th>1</th>\n",
       "      <td>Compound</td>\n",
       "      <td>C</td>\n",
       "      <td>ChemicalSubstance</td>\n",
       "      <td>ChemicalSubstance</td>\n",
       "      <td>C</td>\n",
       "    </tr>\n",
       "    <tr>\n",
       "      <th>2</th>\n",
       "      <td>Complex</td>\n",
       "      <td>X</td>\n",
       "      <td>MacromolecularComplex</td>\n",
       "      <td>MacromolecularMachine</td>\n",
       "      <td>G</td>\n",
       "    </tr>\n",
       "    <tr>\n",
       "      <th>3</th>\n",
       "      <td>Taxon</td>\n",
       "      <td>T</td>\n",
       "      <td>OrganismTaxon</td>\n",
       "      <td>OrganismTaxon</td>\n",
       "      <td>T</td>\n",
       "    </tr>\n",
       "    <tr>\n",
       "      <th>4</th>\n",
       "      <td>Biological Process</td>\n",
       "      <td>BP</td>\n",
       "      <td>BiologicalProcess</td>\n",
       "      <td>BiologicalProcessOrActivity</td>\n",
       "      <td>BP</td>\n",
       "    </tr>\n",
       "    <tr>\n",
       "      <th>5</th>\n",
       "      <td>Anatomy</td>\n",
       "      <td>A</td>\n",
       "      <td>GrossAnatomicalStructure</td>\n",
       "      <td>AnatomicalEntity</td>\n",
       "      <td>A</td>\n",
       "    </tr>\n",
       "    <tr>\n",
       "      <th>6</th>\n",
       "      <td>Micro RNA</td>\n",
       "      <td>N</td>\n",
       "      <td>RNAProduct</td>\n",
       "      <td>MacromolecularMachine</td>\n",
       "      <td>G</td>\n",
       "    </tr>\n",
       "    <tr>\n",
       "      <th>7</th>\n",
       "      <td>Drug</td>\n",
       "      <td>R</td>\n",
       "      <td>Drug</td>\n",
       "      <td>ChemicalSubstance</td>\n",
       "      <td>C</td>\n",
       "    </tr>\n",
       "    <tr>\n",
       "      <th>8</th>\n",
       "      <td>Protein</td>\n",
       "      <td>P</td>\n",
       "      <td>Protein</td>\n",
       "      <td>MacromolecularMachine</td>\n",
       "      <td>G</td>\n",
       "    </tr>\n",
       "    <tr>\n",
       "      <th>9</th>\n",
       "      <td>Gene</td>\n",
       "      <td>G</td>\n",
       "      <td>Gene</td>\n",
       "      <td>MacromolecularMachine</td>\n",
       "      <td>G</td>\n",
       "    </tr>\n",
       "    <tr>\n",
       "      <th>10</th>\n",
       "      <td>Disease</td>\n",
       "      <td>D</td>\n",
       "      <td>Disease</td>\n",
       "      <td>Disease</td>\n",
       "      <td>D</td>\n",
       "    </tr>\n",
       "    <tr>\n",
       "      <th>11</th>\n",
       "      <td>Reaction</td>\n",
       "      <td>RX</td>\n",
       "      <td>PhysiologicalProcess</td>\n",
       "      <td>PhysiologicalProcess</td>\n",
       "      <td>RX</td>\n",
       "    </tr>\n",
       "    <tr>\n",
       "      <th>12</th>\n",
       "      <td>Phenotype</td>\n",
       "      <td>PH</td>\n",
       "      <td>PhenotypicFeature</td>\n",
       "      <td>PhenotypicFeature</td>\n",
       "      <td>P</td>\n",
       "    </tr>\n",
       "    <tr>\n",
       "      <th>13</th>\n",
       "      <td>Cell Type</td>\n",
       "      <td>CT</td>\n",
       "      <td>Cell</td>\n",
       "      <td>AnatomicalEntity</td>\n",
       "      <td>A</td>\n",
       "    </tr>\n",
       "    <tr>\n",
       "      <th>14</th>\n",
       "      <td>Pathway</td>\n",
       "      <td>PW</td>\n",
       "      <td>Pathway</td>\n",
       "      <td>Pathway</td>\n",
       "      <td>PW</td>\n",
       "    </tr>\n",
       "    <tr>\n",
       "      <th>15</th>\n",
       "      <td>Protein Family</td>\n",
       "      <td>F</td>\n",
       "      <td>GeneFamily</td>\n",
       "      <td>GeneFamily</td>\n",
       "      <td>F</td>\n",
       "    </tr>\n",
       "    <tr>\n",
       "      <th>16</th>\n",
       "      <td>Molecular Function</td>\n",
       "      <td>MF</td>\n",
       "      <td>MolecularActivity</td>\n",
       "      <td>BiologicalProcessOrActivity</td>\n",
       "      <td>BP</td>\n",
       "    </tr>\n",
       "  </tbody>\n",
       "</table>\n",
       "</div>"
      ],
      "text/plain": [
       "                hetnet abbrev                   biolink  \\\n",
       "0   Cellular Component     CC         CellularComponent   \n",
       "1             Compound      C         ChemicalSubstance   \n",
       "2              Complex      X     MacromolecularComplex   \n",
       "3                Taxon      T             OrganismTaxon   \n",
       "4   Biological Process     BP         BiologicalProcess   \n",
       "5              Anatomy      A  GrossAnatomicalStructure   \n",
       "6            Micro RNA      N                RNAProduct   \n",
       "7                 Drug      R                      Drug   \n",
       "8              Protein      P                   Protein   \n",
       "9                 Gene      G                      Gene   \n",
       "10             Disease      D                   Disease   \n",
       "11            Reaction     RX      PhysiologicalProcess   \n",
       "12           Phenotype     PH         PhenotypicFeature   \n",
       "13           Cell Type     CT                      Cell   \n",
       "14             Pathway     PW                   Pathway   \n",
       "15      Protein Family      F                GeneFamily   \n",
       "16  Molecular Function     MF         MolecularActivity   \n",
       "\n",
       "           bl_hierarchy_mapping hie_abbrev  \n",
       "0              AnatomicalEntity          A  \n",
       "1             ChemicalSubstance          C  \n",
       "2         MacromolecularMachine          G  \n",
       "3                 OrganismTaxon          T  \n",
       "4   BiologicalProcessOrActivity         BP  \n",
       "5              AnatomicalEntity          A  \n",
       "6         MacromolecularMachine          G  \n",
       "7             ChemicalSubstance          C  \n",
       "8         MacromolecularMachine          G  \n",
       "9         MacromolecularMachine          G  \n",
       "10                      Disease          D  \n",
       "11         PhysiologicalProcess         RX  \n",
       "12            PhenotypicFeature          P  \n",
       "13             AnatomicalEntity          A  \n",
       "14                      Pathway         PW  \n",
       "15                   GeneFamily          F  \n",
       "16  BiologicalProcessOrActivity         BP  "
      ]
     },
     "execution_count": 17,
     "metadata": {},
     "output_type": "execute_result"
    }
   ],
   "source": [
    "biolink_map"
   ]
  },
  {
   "cell_type": "code",
   "execution_count": 18,
   "metadata": {},
   "outputs": [
    {
     "data": {
      "text/html": [
       "<div>\n",
       "<style scoped>\n",
       "    .dataframe tbody tr th:only-of-type {\n",
       "        vertical-align: middle;\n",
       "    }\n",
       "\n",
       "    .dataframe tbody tr th {\n",
       "        vertical-align: top;\n",
       "    }\n",
       "\n",
       "    .dataframe thead th {\n",
       "        text-align: right;\n",
       "    }\n",
       "</style>\n",
       "<table border=\"1\" class=\"dataframe\">\n",
       "  <thead>\n",
       "    <tr style=\"text-align: right;\">\n",
       "      <th></th>\n",
       "      <th>fwd_edge</th>\n",
       "      <th>abbrev</th>\n",
       "      <th>rev_edge</th>\n",
       "      <th>rel_dir</th>\n",
       "      <th>directed</th>\n",
       "    </tr>\n",
       "  </thead>\n",
       "  <tbody>\n",
       "    <tr>\n",
       "      <th>0</th>\n",
       "      <td>activates</td>\n",
       "      <td>a</td>\n",
       "      <td>activated_by</td>\n",
       "      <td>1</td>\n",
       "      <td>True</td>\n",
       "    </tr>\n",
       "    <tr>\n",
       "      <th>1</th>\n",
       "      <td>affects</td>\n",
       "      <td>af</td>\n",
       "      <td>affected_by</td>\n",
       "      <td>0</td>\n",
       "      <td>True</td>\n",
       "    </tr>\n",
       "    <tr>\n",
       "      <th>2</th>\n",
       "      <td>associated_with</td>\n",
       "      <td>aw</td>\n",
       "      <td>associated_with</td>\n",
       "      <td>0</td>\n",
       "      <td>False</td>\n",
       "    </tr>\n",
       "    <tr>\n",
       "      <th>3</th>\n",
       "      <td>capable_of</td>\n",
       "      <td>co</td>\n",
       "      <td>performed_by</td>\n",
       "      <td>0</td>\n",
       "      <td>False</td>\n",
       "    </tr>\n",
       "    <tr>\n",
       "      <th>4</th>\n",
       "      <td>causes</td>\n",
       "      <td>c</td>\n",
       "      <td>caused_by</td>\n",
       "      <td>1</td>\n",
       "      <td>True</td>\n",
       "    </tr>\n",
       "    <tr>\n",
       "      <th>5</th>\n",
       "      <td>diagnoses</td>\n",
       "      <td>dg</td>\n",
       "      <td>diagnosed_by</td>\n",
       "      <td>1</td>\n",
       "      <td>True</td>\n",
       "    </tr>\n",
       "    <tr>\n",
       "      <th>6</th>\n",
       "      <td>disrupts</td>\n",
       "      <td>d</td>\n",
       "      <td>disrupted_in</td>\n",
       "      <td>-1</td>\n",
       "      <td>True</td>\n",
       "    </tr>\n",
       "    <tr>\n",
       "      <th>7</th>\n",
       "      <td>enables</td>\n",
       "      <td>e</td>\n",
       "      <td>enabled_by</td>\n",
       "      <td>1</td>\n",
       "      <td>True</td>\n",
       "    </tr>\n",
       "    <tr>\n",
       "      <th>8</th>\n",
       "      <td>follows_in_sequence</td>\n",
       "      <td>f</td>\n",
       "      <td>precedes_in_sequence</td>\n",
       "      <td>0</td>\n",
       "      <td>True</td>\n",
       "    </tr>\n",
       "    <tr>\n",
       "      <th>9</th>\n",
       "      <td>has_input</td>\n",
       "      <td>hi</td>\n",
       "      <td>input_of</td>\n",
       "      <td>0</td>\n",
       "      <td>False</td>\n",
       "    </tr>\n",
       "    <tr>\n",
       "      <th>10</th>\n",
       "      <td>has_output</td>\n",
       "      <td>ho</td>\n",
       "      <td>output_of</td>\n",
       "      <td>0</td>\n",
       "      <td>False</td>\n",
       "    </tr>\n",
       "    <tr>\n",
       "      <th>11</th>\n",
       "      <td>has_part</td>\n",
       "      <td>hp</td>\n",
       "      <td>part_of</td>\n",
       "      <td>0</td>\n",
       "      <td>False</td>\n",
       "    </tr>\n",
       "    <tr>\n",
       "      <th>12</th>\n",
       "      <td>in_taxon</td>\n",
       "      <td>it</td>\n",
       "      <td>taxon_of</td>\n",
       "      <td>0</td>\n",
       "      <td>False</td>\n",
       "    </tr>\n",
       "    <tr>\n",
       "      <th>13</th>\n",
       "      <td>inhibits</td>\n",
       "      <td>in</td>\n",
       "      <td>inhibited_by</td>\n",
       "      <td>-1</td>\n",
       "      <td>True</td>\n",
       "    </tr>\n",
       "    <tr>\n",
       "      <th>14</th>\n",
       "      <td>involved_in</td>\n",
       "      <td>i</td>\n",
       "      <td>has_member</td>\n",
       "      <td>0</td>\n",
       "      <td>False</td>\n",
       "    </tr>\n",
       "    <tr>\n",
       "      <th>15</th>\n",
       "      <td>marker_or_mechanism</td>\n",
       "      <td>m</td>\n",
       "      <td>marked_by</td>\n",
       "      <td>0</td>\n",
       "      <td>False</td>\n",
       "    </tr>\n",
       "    <tr>\n",
       "      <th>16</th>\n",
       "      <td>negatively_regulates</td>\n",
       "      <td>nr</td>\n",
       "      <td>negatively_regulated_by</td>\n",
       "      <td>-1</td>\n",
       "      <td>True</td>\n",
       "    </tr>\n",
       "    <tr>\n",
       "      <th>17</th>\n",
       "      <td>palliates</td>\n",
       "      <td>pl</td>\n",
       "      <td>palliated_by</td>\n",
       "      <td>1</td>\n",
       "      <td>True</td>\n",
       "    </tr>\n",
       "    <tr>\n",
       "      <th>18</th>\n",
       "      <td>part_of</td>\n",
       "      <td>po</td>\n",
       "      <td>has_part</td>\n",
       "      <td>0</td>\n",
       "      <td>False</td>\n",
       "    </tr>\n",
       "    <tr>\n",
       "      <th>19</th>\n",
       "      <td>positively_regulates</td>\n",
       "      <td>pr</td>\n",
       "      <td>positively_regulated_by</td>\n",
       "      <td>1</td>\n",
       "      <td>True</td>\n",
       "    </tr>\n",
       "    <tr>\n",
       "      <th>20</th>\n",
       "      <td>presents</td>\n",
       "      <td>ps</td>\n",
       "      <td>presented_by</td>\n",
       "      <td>1</td>\n",
       "      <td>True</td>\n",
       "    </tr>\n",
       "    <tr>\n",
       "      <th>21</th>\n",
       "      <td>prevents</td>\n",
       "      <td>pv</td>\n",
       "      <td>prevented_by</td>\n",
       "      <td>1</td>\n",
       "      <td>True</td>\n",
       "    </tr>\n",
       "    <tr>\n",
       "      <th>22</th>\n",
       "      <td>produces</td>\n",
       "      <td>p</td>\n",
       "      <td>produced_by</td>\n",
       "      <td>1</td>\n",
       "      <td>True</td>\n",
       "    </tr>\n",
       "    <tr>\n",
       "      <th>23</th>\n",
       "      <td>regulates</td>\n",
       "      <td>r</td>\n",
       "      <td>regulated_by</td>\n",
       "      <td>0</td>\n",
       "      <td>True</td>\n",
       "    </tr>\n",
       "    <tr>\n",
       "      <th>24</th>\n",
       "      <td>site_of</td>\n",
       "      <td>so</td>\n",
       "      <td>localized_to</td>\n",
       "      <td>0</td>\n",
       "      <td>False</td>\n",
       "    </tr>\n",
       "    <tr>\n",
       "      <th>25</th>\n",
       "      <td>treats</td>\n",
       "      <td>t</td>\n",
       "      <td>treated_by</td>\n",
       "      <td>-1</td>\n",
       "      <td>True</td>\n",
       "    </tr>\n",
       "  </tbody>\n",
       "</table>\n",
       "</div>"
      ],
      "text/plain": [
       "                fwd_edge abbrev                 rev_edge  rel_dir  directed\n",
       "0              activates      a             activated_by        1      True\n",
       "1                affects     af              affected_by        0      True\n",
       "2        associated_with     aw          associated_with        0     False\n",
       "3             capable_of     co             performed_by        0     False\n",
       "4                 causes      c                caused_by        1      True\n",
       "5              diagnoses     dg             diagnosed_by        1      True\n",
       "6               disrupts      d             disrupted_in       -1      True\n",
       "7                enables      e               enabled_by        1      True\n",
       "8    follows_in_sequence      f     precedes_in_sequence        0      True\n",
       "9              has_input     hi                 input_of        0     False\n",
       "10            has_output     ho                output_of        0     False\n",
       "11              has_part     hp                  part_of        0     False\n",
       "12              in_taxon     it                 taxon_of        0     False\n",
       "13              inhibits     in             inhibited_by       -1      True\n",
       "14           involved_in      i               has_member        0     False\n",
       "15   marker_or_mechanism      m                marked_by        0     False\n",
       "16  negatively_regulates     nr  negatively_regulated_by       -1      True\n",
       "17             palliates     pl             palliated_by        1      True\n",
       "18               part_of     po                 has_part        0     False\n",
       "19  positively_regulates     pr  positively_regulated_by        1      True\n",
       "20              presents     ps             presented_by        1      True\n",
       "21              prevents     pv             prevented_by        1      True\n",
       "22              produces      p              produced_by        1      True\n",
       "23             regulates      r             regulated_by        0      True\n",
       "24               site_of     so             localized_to        0     False\n",
       "25                treats      t               treated_by       -1      True"
      ]
     },
     "execution_count": 18,
     "metadata": {},
     "output_type": "execute_result"
    }
   ],
   "source": [
    "sem_info"
   ]
  },
  {
   "cell_type": "code",
   "execution_count": 19,
   "metadata": {},
   "outputs": [],
   "source": [
    "rev_map = sem_info.set_index('fwd_edge')['rev_edge'].to_dict()\n",
    "directed_map = sem_info.set_index('fwd_edge')['directed'].to_dict()\n",
    "\n",
    "node_abbrev_map = biolink_map.set_index('hetnet')['abbrev'].to_dict()\n",
    "edge_abbrev_map = sem_info.set_index('fwd_edge')['abbrev'].to_dict()"
   ]
  },
  {
   "cell_type": "code",
   "execution_count": 20,
   "metadata": {},
   "outputs": [
    {
     "name": "stdout",
     "output_type": "stream",
     "text": [
      "CPU times: user 15.7 s, sys: 3.24 s, total: 18.9 s\n",
      "Wall time: 18.9 s\n"
     ]
    },
    {
     "data": {
      "text/html": [
       "<div>\n",
       "<style scoped>\n",
       "    .dataframe tbody tr th:only-of-type {\n",
       "        vertical-align: middle;\n",
       "    }\n",
       "\n",
       "    .dataframe tbody tr th {\n",
       "        vertical-align: top;\n",
       "    }\n",
       "\n",
       "    .dataframe thead th {\n",
       "        text-align: right;\n",
       "    }\n",
       "</style>\n",
       "<table border=\"1\" class=\"dataframe\">\n",
       "  <thead>\n",
       "    <tr style=\"text-align: right;\">\n",
       "      <th></th>\n",
       "      <th>start_id</th>\n",
       "      <th>end_id</th>\n",
       "      <th>type</th>\n",
       "      <th>dsrc_type</th>\n",
       "      <th>comp_type</th>\n",
       "      <th>p_val</th>\n",
       "      <th>adj_p</th>\n",
       "      <th>source</th>\n",
       "      <th>license</th>\n",
       "      <th>experiments</th>\n",
       "      <th>support_type</th>\n",
       "      <th>pmids</th>\n",
       "      <th>phase</th>\n",
       "      <th>date</th>\n",
       "      <th>abbrev</th>\n",
       "    </tr>\n",
       "  </thead>\n",
       "  <tbody>\n",
       "    <tr>\n",
       "      <th>0</th>\n",
       "      <td>UNII:BTY153760O</td>\n",
       "      <td>NCBIGene:3605</td>\n",
       "      <td>inhibits</td>\n",
       "      <td>computed</td>\n",
       "      <td>merge</td>\n",
       "      <td>NaN</td>\n",
       "      <td>NaN</td>\n",
       "      <td>WikiData</td>\n",
       "      <td>CC0 1.0</td>\n",
       "      <td>NaN</td>\n",
       "      <td>NaN</td>\n",
       "      <td>NaN</td>\n",
       "      <td>NaN</td>\n",
       "      <td>NaN</td>\n",
       "      <td>CinG</td>\n",
       "    </tr>\n",
       "    <tr>\n",
       "      <th>1</th>\n",
       "      <td>CHEBI:10056</td>\n",
       "      <td>NCBIGene:1129</td>\n",
       "      <td>activates</td>\n",
       "      <td>computed</td>\n",
       "      <td>merge</td>\n",
       "      <td>NaN</td>\n",
       "      <td>NaN</td>\n",
       "      <td>WikiData</td>\n",
       "      <td>CC0 1.0</td>\n",
       "      <td>NaN</td>\n",
       "      <td>NaN</td>\n",
       "      <td>NaN</td>\n",
       "      <td>NaN</td>\n",
       "      <td>NaN</td>\n",
       "      <td>RaG</td>\n",
       "    </tr>\n",
       "  </tbody>\n",
       "</table>\n",
       "</div>"
      ],
      "text/plain": [
       "          start_id         end_id       type dsrc_type comp_type p_val adj_p  \\\n",
       "0  UNII:BTY153760O  NCBIGene:3605   inhibits  computed     merge   NaN   NaN   \n",
       "1      CHEBI:10056  NCBIGene:1129  activates  computed     merge   NaN   NaN   \n",
       "\n",
       "     source  license experiments support_type pmids phase date abbrev  \n",
       "0  WikiData  CC0 1.0         NaN          NaN   NaN   NaN  NaN   CinG  \n",
       "1  WikiData  CC0 1.0         NaN          NaN   NaN   NaN  NaN    RaG  "
      ]
     },
     "execution_count": 20,
     "metadata": {},
     "output_type": "execute_result"
    }
   ],
   "source": [
    "%%time\n",
    "edges = add_abbrevs(nodes, edges, {**node_abbrev_map, **edge_abbrev_map}, directed_map)\n",
    "edges.head(2)"
   ]
  },
  {
   "cell_type": "code",
   "execution_count": 21,
   "metadata": {},
   "outputs": [
    {
     "data": {
      "text/html": [
       "<div>\n",
       "<style scoped>\n",
       "    .dataframe tbody tr th:only-of-type {\n",
       "        vertical-align: middle;\n",
       "    }\n",
       "\n",
       "    .dataframe tbody tr th {\n",
       "        vertical-align: top;\n",
       "    }\n",
       "\n",
       "    .dataframe thead th {\n",
       "        text-align: right;\n",
       "    }\n",
       "</style>\n",
       "<table border=\"1\" class=\"dataframe\">\n",
       "  <thead>\n",
       "    <tr style=\"text-align: right;\">\n",
       "      <th></th>\n",
       "      <th>start_id</th>\n",
       "      <th>end_id</th>\n",
       "      <th>type</th>\n",
       "      <th>dsrc_type</th>\n",
       "      <th>comp_type</th>\n",
       "      <th>p_val</th>\n",
       "      <th>adj_p</th>\n",
       "      <th>source</th>\n",
       "      <th>license</th>\n",
       "      <th>experiments</th>\n",
       "      <th>support_type</th>\n",
       "      <th>pmids</th>\n",
       "      <th>phase</th>\n",
       "      <th>date</th>\n",
       "      <th>abbrev</th>\n",
       "      <th>type_no_abbv</th>\n",
       "    </tr>\n",
       "  </thead>\n",
       "  <tbody>\n",
       "    <tr>\n",
       "      <th>0</th>\n",
       "      <td>UNII:BTY153760O</td>\n",
       "      <td>NCBIGene:3605</td>\n",
       "      <td>inhibits_CinG</td>\n",
       "      <td>computed</td>\n",
       "      <td>merge</td>\n",
       "      <td>NaN</td>\n",
       "      <td>NaN</td>\n",
       "      <td>WikiData</td>\n",
       "      <td>CC0 1.0</td>\n",
       "      <td>NaN</td>\n",
       "      <td>NaN</td>\n",
       "      <td>NaN</td>\n",
       "      <td>NaN</td>\n",
       "      <td>NaN</td>\n",
       "      <td>CinG</td>\n",
       "      <td>inhibits</td>\n",
       "    </tr>\n",
       "    <tr>\n",
       "      <th>1</th>\n",
       "      <td>CHEBI:10056</td>\n",
       "      <td>NCBIGene:1129</td>\n",
       "      <td>activates_RaG</td>\n",
       "      <td>computed</td>\n",
       "      <td>merge</td>\n",
       "      <td>NaN</td>\n",
       "      <td>NaN</td>\n",
       "      <td>WikiData</td>\n",
       "      <td>CC0 1.0</td>\n",
       "      <td>NaN</td>\n",
       "      <td>NaN</td>\n",
       "      <td>NaN</td>\n",
       "      <td>NaN</td>\n",
       "      <td>NaN</td>\n",
       "      <td>RaG</td>\n",
       "      <td>activates</td>\n",
       "    </tr>\n",
       "  </tbody>\n",
       "</table>\n",
       "</div>"
      ],
      "text/plain": [
       "          start_id         end_id           type dsrc_type comp_type p_val  \\\n",
       "0  UNII:BTY153760O  NCBIGene:3605  inhibits_CinG  computed     merge   NaN   \n",
       "1      CHEBI:10056  NCBIGene:1129  activates_RaG  computed     merge   NaN   \n",
       "\n",
       "  adj_p    source  license experiments support_type pmids phase date abbrev  \\\n",
       "0   NaN  WikiData  CC0 1.0         NaN          NaN   NaN   NaN  NaN   CinG   \n",
       "1   NaN  WikiData  CC0 1.0         NaN          NaN   NaN   NaN  NaN    RaG   \n",
       "\n",
       "  type_no_abbv  \n",
       "0     inhibits  \n",
       "1    activates  "
      ]
     },
     "execution_count": 21,
     "metadata": {},
     "output_type": "execute_result"
    }
   ],
   "source": [
    "edges['type_no_abbv'] = edges['type']\n",
    "edges['type'] = edges['type'] + '_' + edges['abbrev']\n",
    "edges.head(2)"
   ]
  },
  {
   "cell_type": "markdown",
   "metadata": {},
   "source": [
    "## Prune Leaf Nodes"
   ]
  },
  {
   "cell_type": "code",
   "execution_count": 22,
   "metadata": {},
   "outputs": [
    {
     "name": "stdout",
     "output_type": "stream",
     "text": [
      "Before Pruning:\n",
      "368,557\n",
      "9,955,454\n"
     ]
    }
   ],
   "source": [
    "print('Before Pruning:')\n",
    "print('{:,}'.format(len(nodes)))\n",
    "print('{:,}'.format(len(edges)))\n",
    "\n",
    "node_ids = set(nodes['id'])"
   ]
  },
  {
   "cell_type": "code",
   "execution_count": 24,
   "metadata": {},
   "outputs": [
    {
     "name": "stdout",
     "output_type": "stream",
     "text": [
      "CPU times: user 52.6 s, sys: 11.2 s, total: 1min 3s\n",
      "Wall time: 1min 3s\n"
     ]
    }
   ],
   "source": [
    "%%time\n",
    "ref_c = nodes.dropna(subset=['source'])['id'].tolist()\n",
    "# Allow reframe compounds to or any disease to be a leaf\n",
    "nodes_prune, edges_prune = get_core_network(nodes, edges, ['Disease'], ref_c)"
   ]
  },
  {
   "cell_type": "code",
   "execution_count": 25,
   "metadata": {},
   "outputs": [
    {
     "name": "stdout",
     "output_type": "stream",
     "text": [
      "\n",
      "After Pruning:\n",
      "256,744\n",
      "9,844,149\n"
     ]
    }
   ],
   "source": [
    "print('\\nAfter Pruning:')\n",
    "print('{:,}'.format(len(nodes_prune)))\n",
    "print('{:,}'.format(len(edges_prune)))"
   ]
  },
  {
   "cell_type": "code",
   "execution_count": 26,
   "metadata": {},
   "outputs": [],
   "source": [
    "missing_nodes = node_ids - set(nodes_prune['id'])"
   ]
  },
  {
   "cell_type": "code",
   "execution_count": 27,
   "metadata": {},
   "outputs": [
    {
     "data": {
      "image/png": "[encoded data removed]",
      "text/plain": [
       "<Figure size 432x288 with 1 Axes>"
      ]
     },
     "metadata": {
      "needs_background": "light"
     },
     "output_type": "display_data"
    }
   ],
   "source": [
    "count_plot_h(nodes.query('id in @missing_nodes')['label'])\n",
    "plt.title('Nodes removed by type')\n",
    "plt.xlabel('Number removed');"
   ]
  },
  {
   "cell_type": "code",
   "execution_count": 28,
   "metadata": {},
   "outputs": [
    {
     "data": {
      "image/png": "[encoded data removed]",
      "text/plain": [
       "<Figure size 432x288 with 1 Axes>"
      ]
     },
     "metadata": {
      "needs_background": "light"
     },
     "output_type": "display_data"
    }
   ],
   "source": [
    "count_plot_h(edges.query('start_id in @missing_nodes or end_id in @missing_nodes')['type_no_abbv'])\n",
    "plt.title('Edges removed by type')\n",
    "plt.xlabel('Number removed');"
   ]
  },
  {
   "cell_type": "markdown",
   "metadata": {},
   "source": [
    "#### Save network"
   ]
  },
  {
   "cell_type": "code",
   "execution_count": 29,
   "metadata": {},
   "outputs": [],
   "source": [
    "this_name = '10_Semmantic_Compression'\n",
    "\n",
    "out_dir = Path('../2_pipeline/').joinpath(this_name).joinpath('out').resolve()\n",
    "\n",
    "out_dir.mkdir(parents=True, exist_ok=True)\n",
    "\n",
    "nodes_prune.to_csv(out_dir.joinpath('nodes.csv'), index=False)\n",
    "edges_prune.to_csv(out_dir.joinpath('edges.csv'), index=False)"
   ]
  },
  {
   "cell_type": "markdown",
   "metadata": {},
   "source": [
    "## Map to biolink"
   ]
  },
  {
   "cell_type": "code",
   "execution_count": 30,
   "metadata": {},
   "outputs": [],
   "source": [
    "label_to_biolink = biolink_map.set_index('hetnet')['bl_hierarchy_mapping'].to_dict()\n",
    "node_abbrev_map = biolink_map.set_index('bl_hierarchy_mapping')['hie_abbrev'].to_dict()\n",
    "\n",
    "nodes_prune['label'] = nodes_prune['label'].map(label_to_biolink)"
   ]
  },
  {
   "cell_type": "code",
   "execution_count": 31,
   "metadata": {},
   "outputs": [
    {
     "data": {
      "text/html": [
       "<div>\n",
       "<style scoped>\n",
       "    .dataframe tbody tr th:only-of-type {\n",
       "        vertical-align: middle;\n",
       "    }\n",
       "\n",
       "    .dataframe tbody tr th {\n",
       "        vertical-align: top;\n",
       "    }\n",
       "\n",
       "    .dataframe thead th {\n",
       "        text-align: right;\n",
       "    }\n",
       "</style>\n",
       "<table border=\"1\" class=\"dataframe\">\n",
       "  <thead>\n",
       "    <tr style=\"text-align: right;\">\n",
       "      <th></th>\n",
       "      <th>start_id</th>\n",
       "      <th>end_id</th>\n",
       "      <th>type</th>\n",
       "      <th>dsrc_type</th>\n",
       "      <th>comp_type</th>\n",
       "      <th>p_val</th>\n",
       "      <th>adj_p</th>\n",
       "      <th>source</th>\n",
       "      <th>license</th>\n",
       "      <th>experiments</th>\n",
       "      <th>support_type</th>\n",
       "      <th>pmids</th>\n",
       "      <th>phase</th>\n",
       "      <th>date</th>\n",
       "      <th>abbrev</th>\n",
       "      <th>type_no_abbv</th>\n",
       "    </tr>\n",
       "  </thead>\n",
       "  <tbody>\n",
       "    <tr>\n",
       "      <th>0</th>\n",
       "      <td>CHEBI:10056</td>\n",
       "      <td>NCBIGene:1129</td>\n",
       "      <td>activates</td>\n",
       "      <td>computed</td>\n",
       "      <td>merge</td>\n",
       "      <td>NaN</td>\n",
       "      <td>NaN</td>\n",
       "      <td>WikiData</td>\n",
       "      <td>CC0 1.0</td>\n",
       "      <td>NaN</td>\n",
       "      <td>NaN</td>\n",
       "      <td>NaN</td>\n",
       "      <td>NaN</td>\n",
       "      <td>NaN</td>\n",
       "      <td>CaG</td>\n",
       "      <td>activates</td>\n",
       "    </tr>\n",
       "    <tr>\n",
       "      <th>1</th>\n",
       "      <td>CHEBI:10056</td>\n",
       "      <td>NCBIGene:1131</td>\n",
       "      <td>activates</td>\n",
       "      <td>computed</td>\n",
       "      <td>merge</td>\n",
       "      <td>NaN</td>\n",
       "      <td>NaN</td>\n",
       "      <td>WikiData</td>\n",
       "      <td>CC0 1.0</td>\n",
       "      <td>NaN</td>\n",
       "      <td>NaN</td>\n",
       "      <td>NaN</td>\n",
       "      <td>NaN</td>\n",
       "      <td>NaN</td>\n",
       "      <td>CaG</td>\n",
       "      <td>activates</td>\n",
       "    </tr>\n",
       "  </tbody>\n",
       "</table>\n",
       "</div>"
      ],
      "text/plain": [
       "      start_id         end_id       type dsrc_type comp_type p_val adj_p  \\\n",
       "0  CHEBI:10056  NCBIGene:1129  activates  computed     merge   NaN   NaN   \n",
       "1  CHEBI:10056  NCBIGene:1131  activates  computed     merge   NaN   NaN   \n",
       "\n",
       "     source  license experiments support_type pmids phase date abbrev  \\\n",
       "0  WikiData  CC0 1.0         NaN          NaN   NaN   NaN  NaN    CaG   \n",
       "1  WikiData  CC0 1.0         NaN          NaN   NaN   NaN  NaN    CaG   \n",
       "\n",
       "  type_no_abbv  \n",
       "0    activates  \n",
       "1    activates  "
      ]
     },
     "execution_count": 31,
     "metadata": {},
     "output_type": "execute_result"
    }
   ],
   "source": [
    "# reset the edge semmantics\n",
    "edges_prune['type'] = edges_prune['type_no_abbv']\n",
    "\n",
    "# Add in the new abbrevations\n",
    "edges_prune = add_abbrevs(nodes_prune, edges_prune, {**node_abbrev_map, **edge_abbrev_map}, directed_map)\n",
    "edges_prune.head(2)"
   ]
  },
  {
   "cell_type": "code",
   "execution_count": 32,
   "metadata": {},
   "outputs": [
    {
     "data": {
      "text/plain": [
       "96"
      ]
     },
     "execution_count": 32,
     "metadata": {},
     "output_type": "execute_result"
    }
   ],
   "source": [
    "edges_prune['abbrev'].nunique()"
   ]
  },
  {
   "cell_type": "code",
   "execution_count": 33,
   "metadata": {},
   "outputs": [],
   "source": [
    "edges_prune['type_no_abbv'] = edges_prune['type']\n",
    "edges_prune['type'] = edges_prune['type'] + '_' + edges_prune['abbrev']"
   ]
  },
  {
   "cell_type": "code",
   "execution_count": 34,
   "metadata": {},
   "outputs": [
    {
     "data": {
      "text/html": [
       "<div>\n",
       "<style scoped>\n",
       "    .dataframe tbody tr th:only-of-type {\n",
       "        vertical-align: middle;\n",
       "    }\n",
       "\n",
       "    .dataframe tbody tr th {\n",
       "        vertical-align: top;\n",
       "    }\n",
       "\n",
       "    .dataframe thead th {\n",
       "        text-align: right;\n",
       "    }\n",
       "</style>\n",
       "<table border=\"1\" class=\"dataframe\">\n",
       "  <thead>\n",
       "    <tr style=\"text-align: right;\">\n",
       "      <th></th>\n",
       "      <th>start_id</th>\n",
       "      <th>end_id</th>\n",
       "      <th>type</th>\n",
       "      <th>dsrc_type</th>\n",
       "      <th>comp_type</th>\n",
       "      <th>p_val</th>\n",
       "      <th>adj_p</th>\n",
       "      <th>source</th>\n",
       "      <th>license</th>\n",
       "      <th>experiments</th>\n",
       "      <th>support_type</th>\n",
       "      <th>pmids</th>\n",
       "      <th>phase</th>\n",
       "      <th>date</th>\n",
       "      <th>abbrev</th>\n",
       "      <th>type_no_abbv</th>\n",
       "    </tr>\n",
       "  </thead>\n",
       "  <tbody>\n",
       "    <tr>\n",
       "      <th>0</th>\n",
       "      <td>CHEBI:10056</td>\n",
       "      <td>NCBIGene:1129</td>\n",
       "      <td>activates_CaG</td>\n",
       "      <td>computed</td>\n",
       "      <td>merge</td>\n",
       "      <td>NaN</td>\n",
       "      <td>NaN</td>\n",
       "      <td>WikiData</td>\n",
       "      <td>CC0 1.0</td>\n",
       "      <td>NaN</td>\n",
       "      <td>NaN</td>\n",
       "      <td>NaN</td>\n",
       "      <td>NaN</td>\n",
       "      <td>NaN</td>\n",
       "      <td>CaG</td>\n",
       "      <td>activates</td>\n",
       "    </tr>\n",
       "    <tr>\n",
       "      <th>1</th>\n",
       "      <td>CHEBI:10056</td>\n",
       "      <td>NCBIGene:1131</td>\n",
       "      <td>activates_CaG</td>\n",
       "      <td>computed</td>\n",
       "      <td>merge</td>\n",
       "      <td>NaN</td>\n",
       "      <td>NaN</td>\n",
       "      <td>WikiData</td>\n",
       "      <td>CC0 1.0</td>\n",
       "      <td>NaN</td>\n",
       "      <td>NaN</td>\n",
       "      <td>NaN</td>\n",
       "      <td>NaN</td>\n",
       "      <td>NaN</td>\n",
       "      <td>CaG</td>\n",
       "      <td>activates</td>\n",
       "    </tr>\n",
       "  </tbody>\n",
       "</table>\n",
       "</div>"
      ],
      "text/plain": [
       "      start_id         end_id           type dsrc_type comp_type p_val adj_p  \\\n",
       "0  CHEBI:10056  NCBIGene:1129  activates_CaG  computed     merge   NaN   NaN   \n",
       "1  CHEBI:10056  NCBIGene:1131  activates_CaG  computed     merge   NaN   NaN   \n",
       "\n",
       "     source  license experiments support_type pmids phase date abbrev  \\\n",
       "0  WikiData  CC0 1.0         NaN          NaN   NaN   NaN  NaN    CaG   \n",
       "1  WikiData  CC0 1.0         NaN          NaN   NaN   NaN  NaN    CaG   \n",
       "\n",
       "  type_no_abbv  \n",
       "0    activates  \n",
       "1    activates  "
      ]
     },
     "execution_count": 34,
     "metadata": {},
     "output_type": "execute_result"
    }
   ],
   "source": [
    "edges_prune.head(2)"
   ]
  },
  {
   "cell_type": "markdown",
   "metadata": {},
   "source": [
    "### Ensure Biolink Mapping hasn't resulted in Reverse Types\n",
    "\n",
    "For example, if we had `Gene` `part_of` `Cellular Component` and `Cellular Component` `has_part` `Protein`,  Mapping to biolkink would result in `AnatomicalEntity` `has_part` `MacromolecularMachine` and `MacromolecularMachine` `part_of` `AnatomicalEntity`, which are essentially the same edges just reversed.  These need to be normalized if identified."
   ]
  },
  {
   "cell_type": "code",
   "execution_count": 35,
   "metadata": {},
   "outputs": [],
   "source": [
    "combo = combine_nodes_and_edges(nodes_prune, edges_prune)\n",
    "combo['rev_type'] = combo['type_no_abbv'].map(rev_map)"
   ]
  },
  {
   "cell_type": "code",
   "execution_count": 36,
   "metadata": {},
   "outputs": [],
   "source": [
    "# Don't need to do these operations on the entire set of edges, just one of each type is ok\n",
    "meta_edges = combo.drop_duplicates(subset=['start_label', 'type_no_abbv', 'end_label']).copy()"
   ]
  },
  {
   "cell_type": "code",
   "execution_count": 37,
   "metadata": {},
   "outputs": [],
   "source": [
    "meta_edges['fwd_tup'] = meta_edges[['start_label', 'type_no_abbv', 'end_label']].apply(tuple, axis=1)\n",
    "meta_edges['rev_tup'] = meta_edges[['end_label', 'rev_type', 'start_label']].apply(tuple, axis=1)"
   ]
  },
  {
   "cell_type": "code",
   "execution_count": 38,
   "metadata": {},
   "outputs": [
    {
     "data": {
      "text/plain": [
       "[]"
      ]
     },
     "execution_count": 38,
     "metadata": {},
     "output_type": "execute_result"
    }
   ],
   "source": [
    "overlaps = list(set(meta_edges['fwd_tup']) & set(meta_edges['rev_tup']))\n",
    "overlaps"
   ]
  },
  {
   "cell_type": "markdown",
   "metadata": {},
   "source": [
    "Empty list is exactly what we were looking for... Perfect!"
   ]
  },
  {
   "cell_type": "markdown",
   "metadata": {},
   "source": [
    "## Save out"
   ]
  },
  {
   "cell_type": "code",
   "execution_count": 39,
   "metadata": {},
   "outputs": [
    {
     "data": {
      "text/plain": [
       "'256,744'"
      ]
     },
     "execution_count": 39,
     "metadata": {},
     "output_type": "execute_result"
    }
   ],
   "source": [
    "'{:,}'.format(len(nodes_prune))"
   ]
  },
  {
   "cell_type": "code",
   "execution_count": 40,
   "metadata": {},
   "outputs": [
    {
     "data": {
      "text/plain": [
       "'9,844,149'"
      ]
     },
     "execution_count": 40,
     "metadata": {},
     "output_type": "execute_result"
    }
   ],
   "source": [
    "'{:,}'.format(len(edges_prune))"
   ]
  },
  {
   "cell_type": "code",
   "execution_count": 41,
   "metadata": {},
   "outputs": [],
   "source": [
    "ex = expand_col_on_char(edges_prune, 'source', '|')"
   ]
  },
  {
   "cell_type": "code",
   "execution_count": 42,
   "metadata": {},
   "outputs": [
    {
     "data": {
      "text/plain": [
       "CTD                         6276722\n",
       "Gene Ontology               1461299\n",
       "WikiData                    1139533\n",
       "Reactome                     903330\n",
       "Human Phenotype Ontology     223912\n",
       "miRTarBase                    94610\n",
       "Protein Ontology              76144\n",
       "Inxight Drugs                 46728\n",
       "GAUSS                         30004\n",
       "ensembl                       26744\n",
       "InterPro                      25200\n",
       "DrugCentral                   10660\n",
       "DrugBank                       9014\n",
       "ensembel                       4307\n",
       "ComplexPortal                  1999\n",
       "Cell Ontology                   793\n",
       "UBERON                          467\n",
       "Name: source, dtype: int64"
      ]
     },
     "execution_count": 42,
     "metadata": {},
     "output_type": "execute_result"
    }
   ],
   "source": [
    "ex['source'].value_counts()"
   ]
  },
  {
   "cell_type": "code",
   "execution_count": 43,
   "metadata": {},
   "outputs": [],
   "source": [
    "nodes_prune.to_csv(out_dir.joinpath('nodes_biolink.csv'), index=False)\n",
    "edges_prune.to_csv(out_dir.joinpath('edges_biolink.csv'), index=False)"
   ]
  }
 ],
 "metadata": {
  "kernelspec": {
   "display_name": "Python 3",
   "language": "python",
   "name": "python3"
  },
  "language_info": {
   "codemirror_mode": {
    "name": "ipython",
    "version": 3
   },
   "file_extension": ".py",
   "mimetype": "text/x-python",
   "name": "python",
   "nbconvert_exporter": "python",
   "pygments_lexer": "ipython3",
   "version": "3.7.5"
  }
 },
 "nbformat": 4,
 "nbformat_minor": 2
}
