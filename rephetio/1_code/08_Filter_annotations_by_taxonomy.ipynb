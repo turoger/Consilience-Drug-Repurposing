{
 "cells": [
  {
   "cell_type": "code",
   "execution_count": 1,
   "metadata": {},
   "outputs": [],
   "source": [
    "import pandas as pd\n",
    "from pathlib import Path\n",
    "\n",
    "from biothings_client import get_client\n",
    "from hetnet_ml.src import graph_tools as gt\n",
    "from tools.hetnet_file_processing import read_reactome\n",
    "from tools.processing import regularize_colnames, head, expand_col_on_char, combine_group_rows_on_char\n",
    "\n",
    "%matplotlib inline\n",
    "import seaborn as sns\n",
    "import matplotlib.pyplot as plt\n",
    "\n",
    "load_dir = Path('../2_pipeline/00_download_data/out/').resolve()\n",
    "network_dir = load_dir.parent.parent.joinpath('06_GO_regulation_nodes_into_edges/out')\n",
    "tax_dir = load_dir.parent.parent.joinpath('07_Taxonomic_cause_of_disease/out')"
   ]
  },
  {
   "cell_type": "code",
   "execution_count": 2,
   "metadata": {},
   "outputs": [
    {
     "data": {
      "application/javascript": [
       "IPython.notebook.kernel.execute('nb_name = \"' + IPython.notebook.notebook_name + '\"')\n",
       "// hack to get the filename for this notebook"
      ],
      "text/plain": [
       "<IPython.core.display.Javascript object>"
      ]
     },
     "metadata": {},
     "output_type": "display_data"
    }
   ],
   "source": [
    "%%javascript\n",
    "IPython.notebook.kernel.execute('nb_name = \"' + IPython.notebook.notebook_name + '\"')\n",
    "// hack to get the filename for this notebook"
   ]
  },
  {
   "cell_type": "code",
   "execution_count": 3,
   "metadata": {},
   "outputs": [],
   "source": [
    "out_dir = Path('../2_pipeline/').joinpath(nb_name.split('.')[0]).joinpath('out').resolve()\n",
    "out_dir.mkdir(parents=True, exist_ok=True)"
   ]
  },
  {
   "cell_type": "code",
   "execution_count": 4,
   "metadata": {},
   "outputs": [],
   "source": [
    "all_nodes = gt.remove_colons(pd.read_csv(network_dir.joinpath('nodes_all.csv'), dtype=str))\n",
    "edges = gt.remove_colons(pd.read_csv(network_dir.joinpath('edges.csv'), dtype=str))"
   ]
  },
  {
   "cell_type": "code",
   "execution_count": 5,
   "metadata": {},
   "outputs": [
    {
     "data": {
      "text/html": [
       "<div>\n",
       "<style scoped>\n",
       "    .dataframe tbody tr th:only-of-type {\n",
       "        vertical-align: middle;\n",
       "    }\n",
       "\n",
       "    .dataframe tbody tr th {\n",
       "        vertical-align: top;\n",
       "    }\n",
       "\n",
       "    .dataframe thead th {\n",
       "        text-align: right;\n",
       "    }\n",
       "</style>\n",
       "<table border=\"1\" class=\"dataframe\">\n",
       "  <thead>\n",
       "    <tr style=\"text-align: right;\">\n",
       "      <th></th>\n",
       "      <th>id</th>\n",
       "      <th>name</th>\n",
       "      <th>label</th>\n",
       "      <th>tree_numbers</th>\n",
       "      <th>drug_bank_ids</th>\n",
       "      <th>alt_disease_ids</th>\n",
       "      <th>gene_symbol</th>\n",
       "      <th>alt_gene_ids</th>\n",
       "      <th>bio_gridids</th>\n",
       "      <th>pharm_gkbids</th>\n",
       "      <th>uni_prot_ids</th>\n",
       "      <th>uniprot_id</th>\n",
       "      <th>mesh_ids</th>\n",
       "      <th>chebi_ids</th>\n",
       "    </tr>\n",
       "  </thead>\n",
       "  <tbody>\n",
       "    <tr>\n",
       "      <th>0</th>\n",
       "      <td>MESH:C089250</td>\n",
       "      <td>(0.017ferrocene)amylose</td>\n",
       "      <td>Compound</td>\n",
       "      <td>D01.490.200/C089250|D02.691.550.200/C089250|D0...</td>\n",
       "      <td>NaN</td>\n",
       "      <td>NaN</td>\n",
       "      <td>NaN</td>\n",
       "      <td>NaN</td>\n",
       "      <td>NaN</td>\n",
       "      <td>NaN</td>\n",
       "      <td>NaN</td>\n",
       "      <td>NaN</td>\n",
       "      <td>NaN</td>\n",
       "      <td>NaN</td>\n",
       "    </tr>\n",
       "    <tr>\n",
       "      <th>1</th>\n",
       "      <td>MESH:C114385</td>\n",
       "      <td>001-C8-NBD</td>\n",
       "      <td>Compound</td>\n",
       "      <td>D03.383.129.462.580/C114385|D12.644.456/C114385</td>\n",
       "      <td>NaN</td>\n",
       "      <td>NaN</td>\n",
       "      <td>NaN</td>\n",
       "      <td>NaN</td>\n",
       "      <td>NaN</td>\n",
       "      <td>NaN</td>\n",
       "      <td>NaN</td>\n",
       "      <td>NaN</td>\n",
       "      <td>NaN</td>\n",
       "      <td>NaN</td>\n",
       "    </tr>\n",
       "  </tbody>\n",
       "</table>\n",
       "</div>"
      ],
      "text/plain": [
       "             id                     name     label  \\\n",
       "0  MESH:C089250  (0.017ferrocene)amylose  Compound   \n",
       "1  MESH:C114385               001-C8-NBD  Compound   \n",
       "\n",
       "                                        tree_numbers drug_bank_ids  \\\n",
       "0  D01.490.200/C089250|D02.691.550.200/C089250|D0...           NaN   \n",
       "1    D03.383.129.462.580/C114385|D12.644.456/C114385           NaN   \n",
       "\n",
       "  alt_disease_ids gene_symbol alt_gene_ids bio_gridids pharm_gkbids  \\\n",
       "0             NaN         NaN          NaN         NaN          NaN   \n",
       "1             NaN         NaN          NaN         NaN          NaN   \n",
       "\n",
       "  uni_prot_ids uniprot_id mesh_ids chebi_ids  \n",
       "0          NaN        NaN      NaN       NaN  \n",
       "1          NaN        NaN      NaN       NaN  "
      ]
     },
     "execution_count": 5,
     "metadata": {},
     "output_type": "execute_result"
    }
   ],
   "source": [
    "all_nodes.head(2)"
   ]
  },
  {
   "cell_type": "markdown",
   "metadata": {},
   "source": [
    "# Lets look at the taxa that are in our diseases..."
   ]
  },
  {
   "cell_type": "code",
   "execution_count": 6,
   "metadata": {},
   "outputs": [
    {
     "data": {
      "text/html": [
       "<div>\n",
       "<style scoped>\n",
       "    .dataframe tbody tr th:only-of-type {\n",
       "        vertical-align: middle;\n",
       "    }\n",
       "\n",
       "    .dataframe tbody tr th {\n",
       "        vertical-align: top;\n",
       "    }\n",
       "\n",
       "    .dataframe thead th {\n",
       "        text-align: right;\n",
       "    }\n",
       "</style>\n",
       "<table border=\"1\" class=\"dataframe\">\n",
       "  <thead>\n",
       "    <tr style=\"text-align: right;\">\n",
       "      <th></th>\n",
       "      <th>id</th>\n",
       "      <th>name</th>\n",
       "      <th>label</th>\n",
       "      <th>alt_disease_ids</th>\n",
       "    </tr>\n",
       "  </thead>\n",
       "  <tbody>\n",
       "    <tr>\n",
       "      <th>0</th>\n",
       "      <td>NCBITaxon:71585</td>\n",
       "      <td>Balantioides coli</td>\n",
       "      <td>Taxonomy</td>\n",
       "      <td>NaN</td>\n",
       "    </tr>\n",
       "    <tr>\n",
       "      <th>1</th>\n",
       "      <td>NCBITaxon:11308</td>\n",
       "      <td>Orthomyxoviridae</td>\n",
       "      <td>Taxonomy</td>\n",
       "      <td>NaN</td>\n",
       "    </tr>\n",
       "  </tbody>\n",
       "</table>\n",
       "</div>"
      ],
      "text/plain": [
       "                id               name     label alt_disease_ids\n",
       "0  NCBITaxon:71585  Balantioides coli  Taxonomy             NaN\n",
       "1  NCBITaxon:11308   Orthomyxoviridae  Taxonomy             NaN"
      ]
     },
     "execution_count": 6,
     "metadata": {},
     "output_type": "execute_result"
    }
   ],
   "source": [
    "tax_nodes = pd.read_csv(tax_dir.joinpath('new_nodes.csv')).query('label == \"Taxonomy\"')\n",
    "tax_nodes.head(2)"
   ]
  },
  {
   "cell_type": "code",
   "execution_count": 7,
   "metadata": {},
   "outputs": [],
   "source": [
    "tax_ids = tax_nodes['id'].str.split(':', expand=True)[1].astype(int).tolist()"
   ]
  },
  {
   "cell_type": "code",
   "execution_count": 8,
   "metadata": {},
   "outputs": [
    {
     "name": "stdout",
     "output_type": "stream",
     "text": [
      "querying 1-240...done.\n"
     ]
    }
   ],
   "source": [
    "mt = get_client('taxon')\n",
    "\n",
    "all_infectious_taxa = set([i for t in mt.gettaxa(tax_ids) for i in t.get('lineage', [])])\n",
    "all_infectious_taxa = all_infectious_taxa | set(tax_ids)"
   ]
  },
  {
   "cell_type": "code",
   "execution_count": 9,
   "metadata": {},
   "outputs": [],
   "source": [
    "all_infectious_taxa = [str(t) for t in all_infectious_taxa]"
   ]
  },
  {
   "cell_type": "code",
   "execution_count": 10,
   "metadata": {},
   "outputs": [
    {
     "data": {
      "text/html": [
       "<div>\n",
       "<style scoped>\n",
       "    .dataframe tbody tr th:only-of-type {\n",
       "        vertical-align: middle;\n",
       "    }\n",
       "\n",
       "    .dataframe tbody tr th {\n",
       "        vertical-align: top;\n",
       "    }\n",
       "\n",
       "    .dataframe thead th {\n",
       "        text-align: right;\n",
       "    }\n",
       "</style>\n",
       "<table border=\"1\" class=\"dataframe\">\n",
       "  <thead>\n",
       "    <tr style=\"text-align: right;\">\n",
       "      <th></th>\n",
       "      <th>start_id</th>\n",
       "      <th>end_id</th>\n",
       "      <th>type</th>\n",
       "      <th>parent_ixn</th>\n",
       "      <th>pub_med_ids</th>\n",
       "      <th>organism_id</th>\n",
       "      <th>abbv</th>\n",
       "      <th>source</th>\n",
       "      <th>evidence</th>\n",
       "      <th>direct_evidence</th>\n",
       "      <th>corrected_pvalue</th>\n",
       "      <th>inference_gene_symbol</th>\n",
       "      <th>qualifier</th>\n",
       "      <th>db_reference</th>\n",
       "      <th>evidence_code</th>\n",
       "      <th>with_or_from</th>\n",
       "      <th>date</th>\n",
       "      <th>assigned_by</th>\n",
       "      <th>experiments</th>\n",
       "      <th>support_type</th>\n",
       "    </tr>\n",
       "  </thead>\n",
       "  <tbody>\n",
       "    <tr>\n",
       "      <th>0</th>\n",
       "      <td>MESH:C000121</td>\n",
       "      <td>4313</td>\n",
       "      <td>decreases_activity_CdaG</td>\n",
       "      <td>decreases^activity</td>\n",
       "      <td>25899827</td>\n",
       "      <td>9606</td>\n",
       "      <td>CdaG</td>\n",
       "      <td>CTD</td>\n",
       "      <td>curated</td>\n",
       "      <td>NaN</td>\n",
       "      <td>NaN</td>\n",
       "      <td>NaN</td>\n",
       "      <td>NaN</td>\n",
       "      <td>NaN</td>\n",
       "      <td>NaN</td>\n",
       "      <td>NaN</td>\n",
       "      <td>NaN</td>\n",
       "      <td>NaN</td>\n",
       "      <td>NaN</td>\n",
       "      <td>NaN</td>\n",
       "    </tr>\n",
       "    <tr>\n",
       "      <th>1</th>\n",
       "      <td>MESH:C000121</td>\n",
       "      <td>4313</td>\n",
       "      <td>decreases_expression_CdeG</td>\n",
       "      <td>decreases^expression</td>\n",
       "      <td>25899827</td>\n",
       "      <td>9606</td>\n",
       "      <td>CdeG</td>\n",
       "      <td>CTD</td>\n",
       "      <td>curated</td>\n",
       "      <td>NaN</td>\n",
       "      <td>NaN</td>\n",
       "      <td>NaN</td>\n",
       "      <td>NaN</td>\n",
       "      <td>NaN</td>\n",
       "      <td>NaN</td>\n",
       "      <td>NaN</td>\n",
       "      <td>NaN</td>\n",
       "      <td>NaN</td>\n",
       "      <td>NaN</td>\n",
       "      <td>NaN</td>\n",
       "    </tr>\n",
       "  </tbody>\n",
       "</table>\n",
       "</div>"
      ],
      "text/plain": [
       "       start_id end_id                       type            parent_ixn  \\\n",
       "0  MESH:C000121   4313    decreases_activity_CdaG    decreases^activity   \n",
       "1  MESH:C000121   4313  decreases_expression_CdeG  decreases^expression   \n",
       "\n",
       "  pub_med_ids organism_id  abbv source evidence direct_evidence  \\\n",
       "0    25899827        9606  CdaG    CTD  curated             NaN   \n",
       "1    25899827        9606  CdeG    CTD  curated             NaN   \n",
       "\n",
       "  corrected_pvalue inference_gene_symbol qualifier db_reference evidence_code  \\\n",
       "0              NaN                   NaN       NaN          NaN           NaN   \n",
       "1              NaN                   NaN       NaN          NaN           NaN   \n",
       "\n",
       "  with_or_from date assigned_by experiments support_type  \n",
       "0          NaN  NaN         NaN         NaN          NaN  \n",
       "1          NaN  NaN         NaN         NaN          NaN  "
      ]
     },
     "execution_count": 10,
     "metadata": {},
     "output_type": "execute_result"
    }
   ],
   "source": [
    "edges.head(2)"
   ]
  },
  {
   "cell_type": "code",
   "execution_count": 11,
   "metadata": {},
   "outputs": [
    {
     "name": "stdout",
     "output_type": "stream",
     "text": [
      "Edges with a taxonomic marker: 1,177,656\n",
      "Edges with a human taxonomic marker: 508,620\n",
      "Edges with a taxon marker in our current disease set: 2,549\n"
     ]
    }
   ],
   "source": [
    "tax_edges = edges[~edges['organism_id'].isnull()]\n",
    "print('Edges with a taxonomic marker: {:,}'.format(len(tax_edges)))\n",
    "human_edges = tax_edges[tax_edges['organism_id'].str.contains('9606')]\n",
    "print('Edges with a human taxonomic marker: {:,}'.format(len(human_edges)))\n",
    "infectious_tax_edges = tax_edges.query('organism_id in @all_infectious_taxa')\n",
    "print('Edges with a taxon marker in our current disease set: {:,}'.format(len(infectious_tax_edges)))"
   ]
  },
  {
   "cell_type": "markdown",
   "metadata": {},
   "source": [
    "A little over half of the edges will be removed..."
   ]
  },
  {
   "cell_type": "code",
   "execution_count": 14,
   "metadata": {},
   "outputs": [],
   "source": [
    "hmn_idx = human_edges.index\n",
    "inf_idx = infectious_tax_edges.index"
   ]
  },
  {
   "cell_type": "code",
   "execution_count": 22,
   "metadata": {},
   "outputs": [
    {
     "data": {
      "text/html": [
       "<div>\n",
       "<style scoped>\n",
       "    .dataframe tbody tr th:only-of-type {\n",
       "        vertical-align: middle;\n",
       "    }\n",
       "\n",
       "    .dataframe tbody tr th {\n",
       "        vertical-align: top;\n",
       "    }\n",
       "\n",
       "    .dataframe thead th {\n",
       "        text-align: right;\n",
       "    }\n",
       "</style>\n",
       "<table border=\"1\" class=\"dataframe\">\n",
       "  <thead>\n",
       "    <tr style=\"text-align: right;\">\n",
       "      <th></th>\n",
       "      <th>start_id</th>\n",
       "      <th>end_id</th>\n",
       "      <th>type</th>\n",
       "      <th>parent_ixn</th>\n",
       "      <th>pub_med_ids</th>\n",
       "      <th>organism_id</th>\n",
       "      <th>abbv</th>\n",
       "      <th>source</th>\n",
       "      <th>evidence</th>\n",
       "      <th>direct_evidence</th>\n",
       "      <th>corrected_pvalue</th>\n",
       "      <th>inference_gene_symbol</th>\n",
       "      <th>qualifier</th>\n",
       "      <th>db_reference</th>\n",
       "      <th>evidence_code</th>\n",
       "      <th>with_or_from</th>\n",
       "      <th>date</th>\n",
       "      <th>assigned_by</th>\n",
       "      <th>experiments</th>\n",
       "      <th>support_type</th>\n",
       "    </tr>\n",
       "  </thead>\n",
       "  <tbody>\n",
       "    <tr>\n",
       "      <th>1066015</th>\n",
       "      <td>MESH:D037742</td>\n",
       "      <td>55278</td>\n",
       "      <td>decreases_expression_CdeG</td>\n",
       "      <td>decreases^expression</td>\n",
       "      <td>25620056</td>\n",
       "      <td>10090</td>\n",
       "      <td>CdeG</td>\n",
       "      <td>CTD</td>\n",
       "      <td>curated</td>\n",
       "      <td>NaN</td>\n",
       "      <td>NaN</td>\n",
       "      <td>NaN</td>\n",
       "      <td>NaN</td>\n",
       "      <td>NaN</td>\n",
       "      <td>NaN</td>\n",
       "      <td>NaN</td>\n",
       "      <td>NaN</td>\n",
       "      <td>NaN</td>\n",
       "      <td>NaN</td>\n",
       "      <td>NaN</td>\n",
       "    </tr>\n",
       "    <tr>\n",
       "      <th>3188501</th>\n",
       "      <td>MESH:D004052</td>\n",
       "      <td>GO:1903409</td>\n",
       "      <td>decreases_reaction_CdrBP</td>\n",
       "      <td>decreases^reaction</td>\n",
       "      <td>30423403</td>\n",
       "      <td>10116</td>\n",
       "      <td>CdrBP</td>\n",
       "      <td>CTD</td>\n",
       "      <td>curated</td>\n",
       "      <td>NaN</td>\n",
       "      <td>NaN</td>\n",
       "      <td>NaN</td>\n",
       "      <td>NaN</td>\n",
       "      <td>NaN</td>\n",
       "      <td>NaN</td>\n",
       "      <td>NaN</td>\n",
       "      <td>NaN</td>\n",
       "      <td>NaN</td>\n",
       "      <td>NaN</td>\n",
       "      <td>NaN</td>\n",
       "    </tr>\n",
       "    <tr>\n",
       "      <th>249880</th>\n",
       "      <td>MESH:C045950</td>\n",
       "      <td>80765</td>\n",
       "      <td>decreases_expression_CdeG</td>\n",
       "      <td>decreases^expression</td>\n",
       "      <td>21278054</td>\n",
       "      <td>10090</td>\n",
       "      <td>CdeG</td>\n",
       "      <td>CTD</td>\n",
       "      <td>curated</td>\n",
       "      <td>NaN</td>\n",
       "      <td>NaN</td>\n",
       "      <td>NaN</td>\n",
       "      <td>NaN</td>\n",
       "      <td>NaN</td>\n",
       "      <td>NaN</td>\n",
       "      <td>NaN</td>\n",
       "      <td>NaN</td>\n",
       "      <td>NaN</td>\n",
       "      <td>NaN</td>\n",
       "      <td>NaN</td>\n",
       "    </tr>\n",
       "    <tr>\n",
       "      <th>853309</th>\n",
       "      <td>MESH:D013749</td>\n",
       "      <td>5954</td>\n",
       "      <td>affects_expression_CaeG</td>\n",
       "      <td>affects^expression</td>\n",
       "      <td>20702594</td>\n",
       "      <td>10090</td>\n",
       "      <td>CaeG</td>\n",
       "      <td>CTD</td>\n",
       "      <td>curated</td>\n",
       "      <td>NaN</td>\n",
       "      <td>NaN</td>\n",
       "      <td>NaN</td>\n",
       "      <td>NaN</td>\n",
       "      <td>NaN</td>\n",
       "      <td>NaN</td>\n",
       "      <td>NaN</td>\n",
       "      <td>NaN</td>\n",
       "      <td>NaN</td>\n",
       "      <td>NaN</td>\n",
       "      <td>NaN</td>\n",
       "    </tr>\n",
       "    <tr>\n",
       "      <th>920212</th>\n",
       "      <td>MESH:D014635</td>\n",
       "      <td>5239</td>\n",
       "      <td>affects_expression_CaeG</td>\n",
       "      <td>affects^expression</td>\n",
       "      <td>17963808</td>\n",
       "      <td>10090</td>\n",
       "      <td>CaeG</td>\n",
       "      <td>CTD</td>\n",
       "      <td>curated</td>\n",
       "      <td>NaN</td>\n",
       "      <td>NaN</td>\n",
       "      <td>NaN</td>\n",
       "      <td>NaN</td>\n",
       "      <td>NaN</td>\n",
       "      <td>NaN</td>\n",
       "      <td>NaN</td>\n",
       "      <td>NaN</td>\n",
       "      <td>NaN</td>\n",
       "      <td>NaN</td>\n",
       "      <td>NaN</td>\n",
       "    </tr>\n",
       "    <tr>\n",
       "      <th>887758</th>\n",
       "      <td>MESH:D014028</td>\n",
       "      <td>1524</td>\n",
       "      <td>affects_expression_CaeG</td>\n",
       "      <td>affects^expression</td>\n",
       "      <td>20133372</td>\n",
       "      <td>10090</td>\n",
       "      <td>CaeG</td>\n",
       "      <td>CTD</td>\n",
       "      <td>curated</td>\n",
       "      <td>NaN</td>\n",
       "      <td>NaN</td>\n",
       "      <td>NaN</td>\n",
       "      <td>NaN</td>\n",
       "      <td>NaN</td>\n",
       "      <td>NaN</td>\n",
       "      <td>NaN</td>\n",
       "      <td>NaN</td>\n",
       "      <td>NaN</td>\n",
       "      <td>NaN</td>\n",
       "      <td>NaN</td>\n",
       "    </tr>\n",
       "    <tr>\n",
       "      <th>771481</th>\n",
       "      <td>MESH:D010634</td>\n",
       "      <td>9559</td>\n",
       "      <td>increases_expression_CieG</td>\n",
       "      <td>increases^expression</td>\n",
       "      <td>19162173</td>\n",
       "      <td>10116</td>\n",
       "      <td>CieG</td>\n",
       "      <td>CTD</td>\n",
       "      <td>curated</td>\n",
       "      <td>NaN</td>\n",
       "      <td>NaN</td>\n",
       "      <td>NaN</td>\n",
       "      <td>NaN</td>\n",
       "      <td>NaN</td>\n",
       "      <td>NaN</td>\n",
       "      <td>NaN</td>\n",
       "      <td>NaN</td>\n",
       "      <td>NaN</td>\n",
       "      <td>NaN</td>\n",
       "      <td>NaN</td>\n",
       "    </tr>\n",
       "    <tr>\n",
       "      <th>562004</th>\n",
       "      <td>MESH:D003520</td>\n",
       "      <td>5888</td>\n",
       "      <td>decreases_expression_CdeG</td>\n",
       "      <td>decreases^expression</td>\n",
       "      <td>21041162</td>\n",
       "      <td>10090</td>\n",
       "      <td>CdeG</td>\n",
       "      <td>CTD</td>\n",
       "      <td>curated</td>\n",
       "      <td>NaN</td>\n",
       "      <td>NaN</td>\n",
       "      <td>NaN</td>\n",
       "      <td>NaN</td>\n",
       "      <td>NaN</td>\n",
       "      <td>NaN</td>\n",
       "      <td>NaN</td>\n",
       "      <td>NaN</td>\n",
       "      <td>NaN</td>\n",
       "      <td>NaN</td>\n",
       "      <td>NaN</td>\n",
       "    </tr>\n",
       "    <tr>\n",
       "      <th>241087</th>\n",
       "      <td>MESH:C042670</td>\n",
       "      <td>6929</td>\n",
       "      <td>increases_expression_CieG</td>\n",
       "      <td>increases^expression</td>\n",
       "      <td>22037397</td>\n",
       "      <td>10116</td>\n",
       "      <td>CieG</td>\n",
       "      <td>CTD</td>\n",
       "      <td>curated</td>\n",
       "      <td>NaN</td>\n",
       "      <td>NaN</td>\n",
       "      <td>NaN</td>\n",
       "      <td>NaN</td>\n",
       "      <td>NaN</td>\n",
       "      <td>NaN</td>\n",
       "      <td>NaN</td>\n",
       "      <td>NaN</td>\n",
       "      <td>NaN</td>\n",
       "      <td>NaN</td>\n",
       "      <td>NaN</td>\n",
       "    </tr>\n",
       "    <tr>\n",
       "      <th>356958</th>\n",
       "      <td>MESH:C517733</td>\n",
       "      <td>6261</td>\n",
       "      <td>increases_activity_CiaG</td>\n",
       "      <td>increases^activity</td>\n",
       "      <td>30329129</td>\n",
       "      <td>10090</td>\n",
       "      <td>CiaG</td>\n",
       "      <td>CTD</td>\n",
       "      <td>curated</td>\n",
       "      <td>NaN</td>\n",
       "      <td>NaN</td>\n",
       "      <td>NaN</td>\n",
       "      <td>NaN</td>\n",
       "      <td>NaN</td>\n",
       "      <td>NaN</td>\n",
       "      <td>NaN</td>\n",
       "      <td>NaN</td>\n",
       "      <td>NaN</td>\n",
       "      <td>NaN</td>\n",
       "      <td>NaN</td>\n",
       "    </tr>\n",
       "    <tr>\n",
       "      <th>17865</th>\n",
       "      <td>MESH:C004925</td>\n",
       "      <td>8659</td>\n",
       "      <td>affects_expression_CaeG</td>\n",
       "      <td>affects^expression</td>\n",
       "      <td>27012723</td>\n",
       "      <td>9483</td>\n",
       "      <td>CaeG</td>\n",
       "      <td>CTD</td>\n",
       "      <td>curated</td>\n",
       "      <td>NaN</td>\n",
       "      <td>NaN</td>\n",
       "      <td>NaN</td>\n",
       "      <td>NaN</td>\n",
       "      <td>NaN</td>\n",
       "      <td>NaN</td>\n",
       "      <td>NaN</td>\n",
       "      <td>NaN</td>\n",
       "      <td>NaN</td>\n",
       "      <td>NaN</td>\n",
       "      <td>NaN</td>\n",
       "    </tr>\n",
       "    <tr>\n",
       "      <th>712812</th>\n",
       "      <td>MESH:D008627</td>\n",
       "      <td>189063</td>\n",
       "      <td>increases_expression_CieG</td>\n",
       "      <td>increases^expression</td>\n",
       "      <td>24118919</td>\n",
       "      <td>6239</td>\n",
       "      <td>CieG</td>\n",
       "      <td>CTD</td>\n",
       "      <td>curated</td>\n",
       "      <td>NaN</td>\n",
       "      <td>NaN</td>\n",
       "      <td>NaN</td>\n",
       "      <td>NaN</td>\n",
       "      <td>NaN</td>\n",
       "      <td>NaN</td>\n",
       "      <td>NaN</td>\n",
       "      <td>NaN</td>\n",
       "      <td>NaN</td>\n",
       "      <td>NaN</td>\n",
       "      <td>NaN</td>\n",
       "    </tr>\n",
       "    <tr>\n",
       "      <th>838943</th>\n",
       "      <td>MESH:D013501</td>\n",
       "      <td>221</td>\n",
       "      <td>increases_expression_CieG</td>\n",
       "      <td>increases^expression</td>\n",
       "      <td>22467014</td>\n",
       "      <td>8090</td>\n",
       "      <td>CieG</td>\n",
       "      <td>CTD</td>\n",
       "      <td>curated</td>\n",
       "      <td>NaN</td>\n",
       "      <td>NaN</td>\n",
       "      <td>NaN</td>\n",
       "      <td>NaN</td>\n",
       "      <td>NaN</td>\n",
       "      <td>NaN</td>\n",
       "      <td>NaN</td>\n",
       "      <td>NaN</td>\n",
       "      <td>NaN</td>\n",
       "      <td>NaN</td>\n",
       "      <td>NaN</td>\n",
       "    </tr>\n",
       "    <tr>\n",
       "      <th>387278</th>\n",
       "      <td>MESH:C581157</td>\n",
       "      <td>1950</td>\n",
       "      <td>decreases_expression_CdeG</td>\n",
       "      <td>decreases^expression</td>\n",
       "      <td>27935865</td>\n",
       "      <td>10090</td>\n",
       "      <td>CdeG</td>\n",
       "      <td>CTD</td>\n",
       "      <td>curated</td>\n",
       "      <td>NaN</td>\n",
       "      <td>NaN</td>\n",
       "      <td>NaN</td>\n",
       "      <td>NaN</td>\n",
       "      <td>NaN</td>\n",
       "      <td>NaN</td>\n",
       "      <td>NaN</td>\n",
       "      <td>NaN</td>\n",
       "      <td>NaN</td>\n",
       "      <td>NaN</td>\n",
       "      <td>NaN</td>\n",
       "    </tr>\n",
       "    <tr>\n",
       "      <th>46168</th>\n",
       "      <td>MESH:C006780</td>\n",
       "      <td>874</td>\n",
       "      <td>increases_expression_CieG</td>\n",
       "      <td>increases^expression</td>\n",
       "      <td>22649256</td>\n",
       "      <td>10116</td>\n",
       "      <td>CieG</td>\n",
       "      <td>CTD</td>\n",
       "      <td>curated</td>\n",
       "      <td>NaN</td>\n",
       "      <td>NaN</td>\n",
       "      <td>NaN</td>\n",
       "      <td>NaN</td>\n",
       "      <td>NaN</td>\n",
       "      <td>NaN</td>\n",
       "      <td>NaN</td>\n",
       "      <td>NaN</td>\n",
       "      <td>NaN</td>\n",
       "      <td>NaN</td>\n",
       "      <td>NaN</td>\n",
       "    </tr>\n",
       "    <tr>\n",
       "      <th>291609</th>\n",
       "      <td>MESH:C099406</td>\n",
       "      <td>104242</td>\n",
       "      <td>affects_expression_CaeG</td>\n",
       "      <td>affects^expression</td>\n",
       "      <td>15102944</td>\n",
       "      <td>10116</td>\n",
       "      <td>CaeG</td>\n",
       "      <td>CTD</td>\n",
       "      <td>curated</td>\n",
       "      <td>NaN</td>\n",
       "      <td>NaN</td>\n",
       "      <td>NaN</td>\n",
       "      <td>NaN</td>\n",
       "      <td>NaN</td>\n",
       "      <td>NaN</td>\n",
       "      <td>NaN</td>\n",
       "      <td>NaN</td>\n",
       "      <td>NaN</td>\n",
       "      <td>NaN</td>\n",
       "      <td>NaN</td>\n",
       "    </tr>\n",
       "    <tr>\n",
       "      <th>645283</th>\n",
       "      <td>MESH:D004997</td>\n",
       "      <td>22982</td>\n",
       "      <td>decreases_expression_CdeG</td>\n",
       "      <td>decreases^expression</td>\n",
       "      <td>23129252</td>\n",
       "      <td>8364</td>\n",
       "      <td>CdeG</td>\n",
       "      <td>CTD</td>\n",
       "      <td>curated</td>\n",
       "      <td>NaN</td>\n",
       "      <td>NaN</td>\n",
       "      <td>NaN</td>\n",
       "      <td>NaN</td>\n",
       "      <td>NaN</td>\n",
       "      <td>NaN</td>\n",
       "      <td>NaN</td>\n",
       "      <td>NaN</td>\n",
       "      <td>NaN</td>\n",
       "      <td>NaN</td>\n",
       "      <td>NaN</td>\n",
       "    </tr>\n",
       "    <tr>\n",
       "      <th>707602</th>\n",
       "      <td>MESH:D008070</td>\n",
       "      <td>406891</td>\n",
       "      <td>increases_expression_CieG</td>\n",
       "      <td>increases^expression</td>\n",
       "      <td>21742974</td>\n",
       "      <td>10116</td>\n",
       "      <td>CieG</td>\n",
       "      <td>CTD</td>\n",
       "      <td>curated</td>\n",
       "      <td>NaN</td>\n",
       "      <td>NaN</td>\n",
       "      <td>NaN</td>\n",
       "      <td>NaN</td>\n",
       "      <td>NaN</td>\n",
       "      <td>NaN</td>\n",
       "      <td>NaN</td>\n",
       "      <td>NaN</td>\n",
       "      <td>NaN</td>\n",
       "      <td>NaN</td>\n",
       "      <td>NaN</td>\n",
       "    </tr>\n",
       "    <tr>\n",
       "      <th>340151</th>\n",
       "      <td>MESH:C502814</td>\n",
       "      <td>4986</td>\n",
       "      <td>decreases_activity_CdaG</td>\n",
       "      <td>decreases^activity</td>\n",
       "      <td>19841255</td>\n",
       "      <td>10090</td>\n",
       "      <td>CdaG</td>\n",
       "      <td>CTD</td>\n",
       "      <td>curated</td>\n",
       "      <td>NaN</td>\n",
       "      <td>NaN</td>\n",
       "      <td>NaN</td>\n",
       "      <td>NaN</td>\n",
       "      <td>NaN</td>\n",
       "      <td>NaN</td>\n",
       "      <td>NaN</td>\n",
       "      <td>NaN</td>\n",
       "      <td>NaN</td>\n",
       "      <td>NaN</td>\n",
       "      <td>NaN</td>\n",
       "    </tr>\n",
       "    <tr>\n",
       "      <th>1077121</th>\n",
       "      <td>MESH:D053260</td>\n",
       "      <td>168667</td>\n",
       "      <td>increases_expression_CieG</td>\n",
       "      <td>increases^expression</td>\n",
       "      <td>22461453</td>\n",
       "      <td>10090</td>\n",
       "      <td>CieG</td>\n",
       "      <td>CTD</td>\n",
       "      <td>curated</td>\n",
       "      <td>NaN</td>\n",
       "      <td>NaN</td>\n",
       "      <td>NaN</td>\n",
       "      <td>NaN</td>\n",
       "      <td>NaN</td>\n",
       "      <td>NaN</td>\n",
       "      <td>NaN</td>\n",
       "      <td>NaN</td>\n",
       "      <td>NaN</td>\n",
       "      <td>NaN</td>\n",
       "      <td>NaN</td>\n",
       "    </tr>\n",
       "  </tbody>\n",
       "</table>\n",
       "</div>"
      ],
      "text/plain": [
       "             start_id      end_id                       type  \\\n",
       "1066015  MESH:D037742       55278  decreases_expression_CdeG   \n",
       "3188501  MESH:D004052  GO:1903409   decreases_reaction_CdrBP   \n",
       "249880   MESH:C045950       80765  decreases_expression_CdeG   \n",
       "853309   MESH:D013749        5954    affects_expression_CaeG   \n",
       "920212   MESH:D014635        5239    affects_expression_CaeG   \n",
       "887758   MESH:D014028        1524    affects_expression_CaeG   \n",
       "771481   MESH:D010634        9559  increases_expression_CieG   \n",
       "562004   MESH:D003520        5888  decreases_expression_CdeG   \n",
       "241087   MESH:C042670        6929  increases_expression_CieG   \n",
       "356958   MESH:C517733        6261    increases_activity_CiaG   \n",
       "17865    MESH:C004925        8659    affects_expression_CaeG   \n",
       "712812   MESH:D008627      189063  increases_expression_CieG   \n",
       "838943   MESH:D013501         221  increases_expression_CieG   \n",
       "387278   MESH:C581157        1950  decreases_expression_CdeG   \n",
       "46168    MESH:C006780         874  increases_expression_CieG   \n",
       "291609   MESH:C099406      104242    affects_expression_CaeG   \n",
       "645283   MESH:D004997       22982  decreases_expression_CdeG   \n",
       "707602   MESH:D008070      406891  increases_expression_CieG   \n",
       "340151   MESH:C502814        4986    decreases_activity_CdaG   \n",
       "1077121  MESH:D053260      168667  increases_expression_CieG   \n",
       "\n",
       "                   parent_ixn pub_med_ids organism_id   abbv source evidence  \\\n",
       "1066015  decreases^expression    25620056       10090   CdeG    CTD  curated   \n",
       "3188501    decreases^reaction    30423403       10116  CdrBP    CTD  curated   \n",
       "249880   decreases^expression    21278054       10090   CdeG    CTD  curated   \n",
       "853309     affects^expression    20702594       10090   CaeG    CTD  curated   \n",
       "920212     affects^expression    17963808       10090   CaeG    CTD  curated   \n",
       "887758     affects^expression    20133372       10090   CaeG    CTD  curated   \n",
       "771481   increases^expression    19162173       10116   CieG    CTD  curated   \n",
       "562004   decreases^expression    21041162       10090   CdeG    CTD  curated   \n",
       "241087   increases^expression    22037397       10116   CieG    CTD  curated   \n",
       "356958     increases^activity    30329129       10090   CiaG    CTD  curated   \n",
       "17865      affects^expression    27012723        9483   CaeG    CTD  curated   \n",
       "712812   increases^expression    24118919        6239   CieG    CTD  curated   \n",
       "838943   increases^expression    22467014        8090   CieG    CTD  curated   \n",
       "387278   decreases^expression    27935865       10090   CdeG    CTD  curated   \n",
       "46168    increases^expression    22649256       10116   CieG    CTD  curated   \n",
       "291609     affects^expression    15102944       10116   CaeG    CTD  curated   \n",
       "645283   decreases^expression    23129252        8364   CdeG    CTD  curated   \n",
       "707602   increases^expression    21742974       10116   CieG    CTD  curated   \n",
       "340151     decreases^activity    19841255       10090   CdaG    CTD  curated   \n",
       "1077121  increases^expression    22461453       10090   CieG    CTD  curated   \n",
       "\n",
       "        direct_evidence corrected_pvalue inference_gene_symbol qualifier  \\\n",
       "1066015             NaN              NaN                   NaN       NaN   \n",
       "3188501             NaN              NaN                   NaN       NaN   \n",
       "249880              NaN              NaN                   NaN       NaN   \n",
       "853309              NaN              NaN                   NaN       NaN   \n",
       "920212              NaN              NaN                   NaN       NaN   \n",
       "887758              NaN              NaN                   NaN       NaN   \n",
       "771481              NaN              NaN                   NaN       NaN   \n",
       "562004              NaN              NaN                   NaN       NaN   \n",
       "241087              NaN              NaN                   NaN       NaN   \n",
       "356958              NaN              NaN                   NaN       NaN   \n",
       "17865               NaN              NaN                   NaN       NaN   \n",
       "712812              NaN              NaN                   NaN       NaN   \n",
       "838943              NaN              NaN                   NaN       NaN   \n",
       "387278              NaN              NaN                   NaN       NaN   \n",
       "46168               NaN              NaN                   NaN       NaN   \n",
       "291609              NaN              NaN                   NaN       NaN   \n",
       "645283              NaN              NaN                   NaN       NaN   \n",
       "707602              NaN              NaN                   NaN       NaN   \n",
       "340151              NaN              NaN                   NaN       NaN   \n",
       "1077121             NaN              NaN                   NaN       NaN   \n",
       "\n",
       "        db_reference evidence_code with_or_from date assigned_by experiments  \\\n",
       "1066015          NaN           NaN          NaN  NaN         NaN         NaN   \n",
       "3188501          NaN           NaN          NaN  NaN         NaN         NaN   \n",
       "249880           NaN           NaN          NaN  NaN         NaN         NaN   \n",
       "853309           NaN           NaN          NaN  NaN         NaN         NaN   \n",
       "920212           NaN           NaN          NaN  NaN         NaN         NaN   \n",
       "887758           NaN           NaN          NaN  NaN         NaN         NaN   \n",
       "771481           NaN           NaN          NaN  NaN         NaN         NaN   \n",
       "562004           NaN           NaN          NaN  NaN         NaN         NaN   \n",
       "241087           NaN           NaN          NaN  NaN         NaN         NaN   \n",
       "356958           NaN           NaN          NaN  NaN         NaN         NaN   \n",
       "17865            NaN           NaN          NaN  NaN         NaN         NaN   \n",
       "712812           NaN           NaN          NaN  NaN         NaN         NaN   \n",
       "838943           NaN           NaN          NaN  NaN         NaN         NaN   \n",
       "387278           NaN           NaN          NaN  NaN         NaN         NaN   \n",
       "46168            NaN           NaN          NaN  NaN         NaN         NaN   \n",
       "291609           NaN           NaN          NaN  NaN         NaN         NaN   \n",
       "645283           NaN           NaN          NaN  NaN         NaN         NaN   \n",
       "707602           NaN           NaN          NaN  NaN         NaN         NaN   \n",
       "340151           NaN           NaN          NaN  NaN         NaN         NaN   \n",
       "1077121          NaN           NaN          NaN  NaN         NaN         NaN   \n",
       "\n",
       "        support_type  \n",
       "1066015          NaN  \n",
       "3188501          NaN  \n",
       "249880           NaN  \n",
       "853309           NaN  \n",
       "920212           NaN  \n",
       "887758           NaN  \n",
       "771481           NaN  \n",
       "562004           NaN  \n",
       "241087           NaN  \n",
       "356958           NaN  \n",
       "17865            NaN  \n",
       "712812           NaN  \n",
       "838943           NaN  \n",
       "387278           NaN  \n",
       "46168            NaN  \n",
       "291609           NaN  \n",
       "645283           NaN  \n",
       "707602           NaN  \n",
       "340151           NaN  \n",
       "1077121          NaN  "
      ]
     },
     "execution_count": 22,
     "metadata": {},
     "output_type": "execute_result"
    }
   ],
   "source": [
    "drop_idx = ~tax_edges.index.isin(hmn_idx.union(inf_idx))\n",
    "\n",
    "tax_edges[drop_idx].sample(20)"
   ]
  },
  {
   "cell_type": "code",
   "execution_count": 23,
   "metadata": {},
   "outputs": [],
   "source": [
    "edges = edges.drop(tax_edges[drop_idx].index)"
   ]
  },
  {
   "cell_type": "code",
   "execution_count": 24,
   "metadata": {},
   "outputs": [
    {
     "data": {
      "text/plain": [
       "'5,855,465'"
      ]
     },
     "execution_count": 24,
     "metadata": {},
     "output_type": "execute_result"
    }
   ],
   "source": [
    "'{:,}'.format(len(edges))"
   ]
  },
  {
   "cell_type": "code",
   "execution_count": 25,
   "metadata": {},
   "outputs": [],
   "source": [
    "edge_ids = edges[['start_id', 'end_id']].stack().unique()"
   ]
  },
  {
   "cell_type": "code",
   "execution_count": 26,
   "metadata": {},
   "outputs": [
    {
     "name": "stdout",
     "output_type": "stream",
     "text": [
      "789,028\n",
      "104,278\n"
     ]
    }
   ],
   "source": [
    "print('{:,}'.format(len(all_nodes)))\n",
    "filt_nodes = all_nodes.query('id in @edge_ids')\n",
    "print('{:,}'.format(len(filt_nodes)))"
   ]
  },
  {
   "cell_type": "code",
   "execution_count": 27,
   "metadata": {},
   "outputs": [
    {
     "name": "stdout",
     "output_type": "stream",
     "text": [
      "5,855,465\n",
      "5,855,465\n"
     ]
    }
   ],
   "source": [
    "filt_node_ids = filt_nodes['id'].unique()\n",
    "print('{:,}'.format(len(edges)))\n",
    "print('{:,}'.format(len(edges.query('start_id in @filt_node_ids and end_id in @filt_node_ids'))))"
   ]
  },
  {
   "cell_type": "markdown",
   "metadata": {},
   "source": [
    "# Plot some interesing characterisitcs"
   ]
  },
  {
   "cell_type": "code",
   "execution_count": 29,
   "metadata": {},
   "outputs": [],
   "source": [
    "colors = sns.color_palette([\"#4f8c9d\", \"#e23209\", \"#77be20\", \"#a34ddf\", \"#34f50e\", \"#871d32\", \"#18d19b\"])\n",
    "c_mapper = {n: i for i, n in enumerate(filt_nodes['label'].unique())}"
   ]
  },
  {
   "cell_type": "code",
   "execution_count": 30,
   "metadata": {},
   "outputs": [
    {
     "data": {
      "text/plain": [
       "11"
      ]
     },
     "execution_count": 30,
     "metadata": {},
     "output_type": "execute_result"
    }
   ],
   "source": [
    "filt_nodes['label'].nunique()"
   ]
  },
  {
   "cell_type": "code",
   "execution_count": 31,
   "metadata": {},
   "outputs": [],
   "source": [
    "combo = gt.combine_nodes_and_edges(filt_nodes, edges)"
   ]
  },
  {
   "cell_type": "code",
   "execution_count": 32,
   "metadata": {},
   "outputs": [],
   "source": [
    "def plot_avg_deg_for_kind(kind):\n",
    "\n",
    "    this_edges = combo.query('start_label == @kind or end_label == @kind')\n",
    "    avg_deg = this_edges['type'].value_counts() / filt_nodes['label'].value_counts()[kind]\n",
    "    avg_deg = avg_deg.reset_index()\n",
    "\n",
    "    n_edges = len(avg_deg)\n",
    "    \n",
    "    fig, ax = plt.subplots()\n",
    "    fig.set_size_inches(6, 4+int(n_edges / 6))\n",
    "\n",
    "    sns.barplot(x='type', y='index', data=avg_deg, color=colors[c_mapper[kind]], ax=ax)\n",
    "    plt.xlabel('Average degree')\n",
    "    plt.ylabel('Edge Type')\n",
    "    plt.title('Average Degree by edge type in {}'.format(kind));"
   ]
  },
  {
   "cell_type": "code",
   "execution_count": 33,
   "metadata": {},
   "outputs": [
    {
     "data": {
      "image/png": "[encoded data removed]",
      "text/plain": [
       "<Figure size 432x576 with 1 Axes>"
      ]
     },
     "metadata": {
      "needs_background": "light"
     },
     "output_type": "display_data"
    }
   ],
   "source": [
    "plot_avg_deg_for_kind('Compound')"
   ]
  },
  {
   "cell_type": "code",
   "execution_count": 34,
   "metadata": {},
   "outputs": [
    {
     "data": {
      "image/png": "[encoded data removed]",
      "text/plain": [
       "<Figure size 432x504 with 1 Axes>"
      ]
     },
     "metadata": {
      "needs_background": "light"
     },
     "output_type": "display_data"
    }
   ],
   "source": [
    "plot_avg_deg_for_kind('Gene')"
   ]
  },
  {
   "cell_type": "code",
   "execution_count": 35,
   "metadata": {},
   "outputs": [
    {
     "data": {
      "image/png": "[encoded data removed]",
      "text/plain": [
       "<Figure size 432x432 with 1 Axes>"
      ]
     },
     "metadata": {
      "needs_background": "light"
     },
     "output_type": "display_data"
    }
   ],
   "source": [
    "plot_avg_deg_for_kind('Disease')"
   ]
  },
  {
   "cell_type": "markdown",
   "metadata": {},
   "source": [
    "# More plotting"
   ]
  },
  {
   "cell_type": "code",
   "execution_count": 36,
   "metadata": {},
   "outputs": [],
   "source": [
    "from tqdm import tqdm\n",
    "tqdm.pandas()"
   ]
  },
  {
   "cell_type": "code",
   "execution_count": 37,
   "metadata": {},
   "outputs": [],
   "source": [
    "combo[['direction', 'action']] = combo['parent_ixn'].str.split('^', expand=True)"
   ]
  },
  {
   "cell_type": "code",
   "execution_count": 38,
   "metadata": {},
   "outputs": [
    {
     "data": {
      "text/html": [
       "<div>\n",
       "<style scoped>\n",
       "    .dataframe tbody tr th:only-of-type {\n",
       "        vertical-align: middle;\n",
       "    }\n",
       "\n",
       "    .dataframe tbody tr th {\n",
       "        vertical-align: top;\n",
       "    }\n",
       "\n",
       "    .dataframe thead th {\n",
       "        text-align: right;\n",
       "    }\n",
       "</style>\n",
       "<table border=\"1\" class=\"dataframe\">\n",
       "  <thead>\n",
       "    <tr style=\"text-align: right;\">\n",
       "      <th></th>\n",
       "      <th>start_id</th>\n",
       "      <th>end_id</th>\n",
       "      <th>type</th>\n",
       "      <th>parent_ixn</th>\n",
       "      <th>pub_med_ids</th>\n",
       "      <th>organism_id</th>\n",
       "      <th>abbv</th>\n",
       "      <th>source</th>\n",
       "      <th>evidence</th>\n",
       "      <th>direct_evidence</th>\n",
       "      <th>...</th>\n",
       "      <th>date</th>\n",
       "      <th>assigned_by</th>\n",
       "      <th>experiments</th>\n",
       "      <th>support_type</th>\n",
       "      <th>start_name</th>\n",
       "      <th>end_name</th>\n",
       "      <th>start_label</th>\n",
       "      <th>end_label</th>\n",
       "      <th>direction</th>\n",
       "      <th>action</th>\n",
       "    </tr>\n",
       "  </thead>\n",
       "  <tbody>\n",
       "    <tr>\n",
       "      <th>0</th>\n",
       "      <td>MESH:C000121</td>\n",
       "      <td>4313</td>\n",
       "      <td>decreases_activity_CdaG</td>\n",
       "      <td>decreases^activity</td>\n",
       "      <td>25899827</td>\n",
       "      <td>9606</td>\n",
       "      <td>CdaG</td>\n",
       "      <td>CTD</td>\n",
       "      <td>curated</td>\n",
       "      <td>NaN</td>\n",
       "      <td>...</td>\n",
       "      <td>NaN</td>\n",
       "      <td>NaN</td>\n",
       "      <td>NaN</td>\n",
       "      <td>NaN</td>\n",
       "      <td>pipoxolan</td>\n",
       "      <td>matrix metallopeptidase 2</td>\n",
       "      <td>Compound</td>\n",
       "      <td>Gene</td>\n",
       "      <td>decreases</td>\n",
       "      <td>activity</td>\n",
       "    </tr>\n",
       "    <tr>\n",
       "      <th>1</th>\n",
       "      <td>MESH:C000121</td>\n",
       "      <td>4313</td>\n",
       "      <td>decreases_expression_CdeG</td>\n",
       "      <td>decreases^expression</td>\n",
       "      <td>25899827</td>\n",
       "      <td>9606</td>\n",
       "      <td>CdeG</td>\n",
       "      <td>CTD</td>\n",
       "      <td>curated</td>\n",
       "      <td>NaN</td>\n",
       "      <td>...</td>\n",
       "      <td>NaN</td>\n",
       "      <td>NaN</td>\n",
       "      <td>NaN</td>\n",
       "      <td>NaN</td>\n",
       "      <td>pipoxolan</td>\n",
       "      <td>matrix metallopeptidase 2</td>\n",
       "      <td>Compound</td>\n",
       "      <td>Gene</td>\n",
       "      <td>decreases</td>\n",
       "      <td>expression</td>\n",
       "    </tr>\n",
       "  </tbody>\n",
       "</table>\n",
       "<p>2 rows × 26 columns</p>\n",
       "</div>"
      ],
      "text/plain": [
       "       start_id end_id                       type            parent_ixn  \\\n",
       "0  MESH:C000121   4313    decreases_activity_CdaG    decreases^activity   \n",
       "1  MESH:C000121   4313  decreases_expression_CdeG  decreases^expression   \n",
       "\n",
       "  pub_med_ids organism_id  abbv source evidence direct_evidence     ...      \\\n",
       "0    25899827        9606  CdaG    CTD  curated             NaN     ...       \n",
       "1    25899827        9606  CdeG    CTD  curated             NaN     ...       \n",
       "\n",
       "  date assigned_by experiments support_type start_name  \\\n",
       "0  NaN         NaN         NaN          NaN  pipoxolan   \n",
       "1  NaN         NaN         NaN          NaN  pipoxolan   \n",
       "\n",
       "                    end_name start_label end_label  direction      action  \n",
       "0  matrix metallopeptidase 2    Compound      Gene  decreases    activity  \n",
       "1  matrix metallopeptidase 2    Compound      Gene  decreases  expression  \n",
       "\n",
       "[2 rows x 26 columns]"
      ]
     },
     "execution_count": 38,
     "metadata": {},
     "output_type": "execute_result"
    }
   ],
   "source": [
    "combo.head(2)"
   ]
  },
  {
   "cell_type": "code",
   "execution_count": 39,
   "metadata": {},
   "outputs": [
    {
     "name": "stderr",
     "output_type": "stream",
     "text": [
      "100%|██████████| 443765/443765 [00:50<00:00, 8719.96it/s]\n"
     ]
    }
   ],
   "source": [
    "data = combo.query('start_label == \"Compound\" and end_label == \"Gene\"')\n",
    "data = data.groupby(['start_id', 'end_id', 'action'])\n",
    "data = data['direction'].progress_apply(lambda c: ', '.join([s.capitalize() for s in c]))"
   ]
  },
  {
   "cell_type": "code",
   "execution_count": 40,
   "metadata": {},
   "outputs": [
    {
     "data": {
      "text/html": [
       "<div>\n",
       "<style scoped>\n",
       "    .dataframe tbody tr th:only-of-type {\n",
       "        vertical-align: middle;\n",
       "    }\n",
       "\n",
       "    .dataframe tbody tr th {\n",
       "        vertical-align: top;\n",
       "    }\n",
       "\n",
       "    .dataframe thead th {\n",
       "        text-align: right;\n",
       "    }\n",
       "</style>\n",
       "<table border=\"1\" class=\"dataframe\">\n",
       "  <thead>\n",
       "    <tr style=\"text-align: right;\">\n",
       "      <th></th>\n",
       "      <th>start_id</th>\n",
       "      <th>end_id</th>\n",
       "      <th>action</th>\n",
       "      <th>direction</th>\n",
       "    </tr>\n",
       "  </thead>\n",
       "  <tbody>\n",
       "    <tr>\n",
       "      <th>0</th>\n",
       "      <td>MESH:C000121</td>\n",
       "      <td>4313</td>\n",
       "      <td>activity</td>\n",
       "      <td>Decreases</td>\n",
       "    </tr>\n",
       "    <tr>\n",
       "      <th>1</th>\n",
       "      <td>MESH:C000121</td>\n",
       "      <td>4313</td>\n",
       "      <td>expression</td>\n",
       "      <td>Decreases</td>\n",
       "    </tr>\n",
       "  </tbody>\n",
       "</table>\n",
       "</div>"
      ],
      "text/plain": [
       "       start_id end_id      action  direction\n",
       "0  MESH:C000121   4313    activity  Decreases\n",
       "1  MESH:C000121   4313  expression  Decreases"
      ]
     },
     "execution_count": 40,
     "metadata": {},
     "output_type": "execute_result"
    }
   ],
   "source": [
    "data = data.reset_index()\n",
    "data.head(2)"
   ]
  },
  {
   "cell_type": "code",
   "execution_count": 41,
   "metadata": {},
   "outputs": [
    {
     "data": {
      "image/png": "[encoded data removed]",
      "text/plain": [
       "<Figure size 432x288 with 1 Axes>"
      ]
     },
     "metadata": {
      "needs_background": "light"
     },
     "output_type": "display_data"
    }
   ],
   "source": [
    "sns.countplot(x='action', data=data, palette=colors)\n",
    "plt.xlabel('Action')\n",
    "plt.ylabel('Counts')\n",
    "plt.title('Action counts for Compound - Action - Gene edges');"
   ]
  },
  {
   "cell_type": "code",
   "execution_count": 42,
   "metadata": {},
   "outputs": [
    {
     "data": {
      "image/png": "[encoded data removed]",
      "text/plain": [
       "<Figure size 432x288 with 1 Axes>"
      ]
     },
     "metadata": {
      "needs_background": "light"
     },
     "output_type": "display_data"
    }
   ],
   "source": [
    "order = data['direction'].value_counts().index.tolist()\n",
    "sns.countplot(y='direction', data=data, hue='action', order=order, palette=colors)\n",
    "plt.xlabel('Direction per pair')\n",
    "plt.ylabel('Number of pairs')\n",
    "plt.legend(title='Action Type')\n",
    "plt.title('Number of instances of each direction for Compound-action-Gene');"
   ]
  },
  {
   "cell_type": "code",
   "execution_count": 43,
   "metadata": {},
   "outputs": [
    {
     "name": "stderr",
     "output_type": "stream",
     "text": [
      "100%|██████████| 469304/469304 [00:53<00:00, 8708.52it/s]\n"
     ]
    }
   ],
   "source": [
    "test = combo.query('start_label == \"Compound\" and end_label == \"Gene\"')\n",
    "test = test.groupby(['start_id', 'end_id', 'direction'])\n",
    "test = test['action'].progress_apply(lambda c: ', '.join([s.capitalize() for s in c]))"
   ]
  },
  {
   "cell_type": "code",
   "execution_count": 44,
   "metadata": {},
   "outputs": [
    {
     "data": {
      "text/html": [
       "<div>\n",
       "<style scoped>\n",
       "    .dataframe tbody tr th:only-of-type {\n",
       "        vertical-align: middle;\n",
       "    }\n",
       "\n",
       "    .dataframe tbody tr th {\n",
       "        vertical-align: top;\n",
       "    }\n",
       "\n",
       "    .dataframe thead th {\n",
       "        text-align: right;\n",
       "    }\n",
       "</style>\n",
       "<table border=\"1\" class=\"dataframe\">\n",
       "  <thead>\n",
       "    <tr style=\"text-align: right;\">\n",
       "      <th></th>\n",
       "      <th>start_id</th>\n",
       "      <th>end_id</th>\n",
       "      <th>direction</th>\n",
       "      <th>action</th>\n",
       "    </tr>\n",
       "  </thead>\n",
       "  <tbody>\n",
       "    <tr>\n",
       "      <th>0</th>\n",
       "      <td>MESH:C000121</td>\n",
       "      <td>4313</td>\n",
       "      <td>decreases</td>\n",
       "      <td>Activity, Expression</td>\n",
       "    </tr>\n",
       "    <tr>\n",
       "      <th>1</th>\n",
       "      <td>MESH:C000121</td>\n",
       "      <td>4318</td>\n",
       "      <td>decreases</td>\n",
       "      <td>Activity, Expression</td>\n",
       "    </tr>\n",
       "  </tbody>\n",
       "</table>\n",
       "</div>"
      ],
      "text/plain": [
       "       start_id end_id  direction                action\n",
       "0  MESH:C000121   4313  decreases  Activity, Expression\n",
       "1  MESH:C000121   4318  decreases  Activity, Expression"
      ]
     },
     "execution_count": 44,
     "metadata": {},
     "output_type": "execute_result"
    }
   ],
   "source": [
    "test = test.reset_index()\n",
    "test.head(2)"
   ]
  },
  {
   "cell_type": "code",
   "execution_count": 45,
   "metadata": {},
   "outputs": [
    {
     "data": {
      "image/png": "[encoded data removed]",
      "text/plain": [
       "<Figure size 432x288 with 1 Axes>"
      ]
     },
     "metadata": {
      "needs_background": "light"
     },
     "output_type": "display_data"
    }
   ],
   "source": [
    "order = ['Expression', 'Activity', 'Activity, Expression']\n",
    "h_order = ['increases', 'decreases', 'affects']\n",
    "\n",
    "sns.countplot(y='action', data=test, hue='direction', order=order, hue_order=h_order, palette=colors)\n",
    "plt.xlabel('Actions per pair')\n",
    "plt.ylabel('Number of pairs')\n",
    "plt.legend(title='Interaction Direction')\n",
    "plt.title('Number of instances of each interaction for Compound-interaction-Gene');"
   ]
  },
  {
   "cell_type": "code",
   "execution_count": 46,
   "metadata": {},
   "outputs": [
    {
     "data": {
      "image/png": "[encoded data removed]",
      "text/plain": [
       "<Figure size 432x288 with 1 Axes>"
      ]
     },
     "metadata": {
      "needs_background": "light"
     },
     "output_type": "display_data"
    }
   ],
   "source": [
    "sns.countplot(y='action', data=test.query('direction == \"affects\"'), color=colors[2])\n",
    "plt.xlabel('Actions per pair')\n",
    "plt.ylabel('Number of pairs')\n",
    "plt.title('Number of instances of each interaction for Compound-affects-Gene');"
   ]
  },
  {
   "cell_type": "code",
   "execution_count": 47,
   "metadata": {},
   "outputs": [
    {
     "data": {
      "image/png": "[encoded data removed]",
      "text/plain": [
       "<Figure size 432x288 with 1 Axes>"
      ]
     },
     "metadata": {
      "needs_background": "light"
     },
     "output_type": "display_data"
    }
   ],
   "source": [
    "sns.countplot(y='action', data=test.query('action != \"Expression\"'), order=order[1:], color=colors[3])\n",
    "plt.xlabel('Actions per pair')\n",
    "plt.ylabel('Number of pairs')\n",
    "plt.title('Number of instances of each interaction for Compound-interaction-Gene');"
   ]
  },
  {
   "cell_type": "markdown",
   "metadata": {},
   "source": [
    "# Similar Analysis on compounds to GO-Terms"
   ]
  },
  {
   "cell_type": "code",
   "execution_count": 48,
   "metadata": {},
   "outputs": [],
   "source": [
    "def group_terms(combo_df, start_type, end_type, group_on, count_col):\n",
    "    data = combo_df.query('start_label == @start_type and end_label == @end_type')\n",
    "    data = data.groupby(['start_id', 'end_id', group_on])\n",
    "    data = data[count_col].progress_apply(lambda c: ', '.join([s.capitalize() for s in c]))\n",
    "    return data.reset_index()"
   ]
  },
  {
   "cell_type": "code",
   "execution_count": 49,
   "metadata": {},
   "outputs": [
    {
     "name": "stderr",
     "output_type": "stream",
     "text": [
      "100%|██████████| 38462/38462 [00:04<00:00, 8647.10it/s]\n"
     ]
    }
   ],
   "source": [
    "bp_directions = group_terms(combo, 'Compound', 'Biological Process', 'action', 'direction')"
   ]
  },
  {
   "cell_type": "code",
   "execution_count": 50,
   "metadata": {},
   "outputs": [
    {
     "data": {
      "text/html": [
       "<div>\n",
       "<style scoped>\n",
       "    .dataframe tbody tr th:only-of-type {\n",
       "        vertical-align: middle;\n",
       "    }\n",
       "\n",
       "    .dataframe tbody tr th {\n",
       "        vertical-align: top;\n",
       "    }\n",
       "\n",
       "    .dataframe thead th {\n",
       "        text-align: right;\n",
       "    }\n",
       "</style>\n",
       "<table border=\"1\" class=\"dataframe\">\n",
       "  <thead>\n",
       "    <tr style=\"text-align: right;\">\n",
       "      <th></th>\n",
       "      <th>start_id</th>\n",
       "      <th>end_id</th>\n",
       "      <th>action</th>\n",
       "      <th>direction</th>\n",
       "    </tr>\n",
       "  </thead>\n",
       "  <tbody>\n",
       "    <tr>\n",
       "      <th>0</th>\n",
       "      <td>MESH:C000121</td>\n",
       "      <td>GO:0008283</td>\n",
       "      <td>phenotype</td>\n",
       "      <td>Decreases</td>\n",
       "    </tr>\n",
       "    <tr>\n",
       "      <th>1</th>\n",
       "      <td>MESH:C000121</td>\n",
       "      <td>GO:0016477</td>\n",
       "      <td>phenotype</td>\n",
       "      <td>Decreases</td>\n",
       "    </tr>\n",
       "    <tr>\n",
       "      <th>2</th>\n",
       "      <td>MESH:C000152</td>\n",
       "      <td>GO:0006702</td>\n",
       "      <td>phenotype</td>\n",
       "      <td>Decreases</td>\n",
       "    </tr>\n",
       "    <tr>\n",
       "      <th>3</th>\n",
       "      <td>MESH:C000152</td>\n",
       "      <td>GO:0008284</td>\n",
       "      <td>phenotype</td>\n",
       "      <td>Decreases, Increases</td>\n",
       "    </tr>\n",
       "    <tr>\n",
       "      <th>4</th>\n",
       "      <td>MESH:C000152</td>\n",
       "      <td>GO:0008284</td>\n",
       "      <td>reaction</td>\n",
       "      <td>Decreases</td>\n",
       "    </tr>\n",
       "  </tbody>\n",
       "</table>\n",
       "</div>"
      ],
      "text/plain": [
       "       start_id      end_id     action             direction\n",
       "0  MESH:C000121  GO:0008283  phenotype             Decreases\n",
       "1  MESH:C000121  GO:0016477  phenotype             Decreases\n",
       "2  MESH:C000152  GO:0006702  phenotype             Decreases\n",
       "3  MESH:C000152  GO:0008284  phenotype  Decreases, Increases\n",
       "4  MESH:C000152  GO:0008284   reaction             Decreases"
      ]
     },
     "execution_count": 50,
     "metadata": {},
     "output_type": "execute_result"
    }
   ],
   "source": [
    "bp_directions.head()"
   ]
  },
  {
   "cell_type": "code",
   "execution_count": 51,
   "metadata": {},
   "outputs": [
    {
     "data": {
      "image/png": "[encoded data removed]",
      "text/plain": [
       "<Figure size 432x288 with 1 Axes>"
      ]
     },
     "metadata": {
      "needs_background": "light"
     },
     "output_type": "display_data"
    }
   ],
   "source": [
    "sns.countplot(x='action', data=bp_directions, palette=colors)\n",
    "plt.xlabel('Action')\n",
    "plt.ylabel('Counts')\n",
    "plt.title('Action counts for Compound - Action - Biological Process edges');"
   ]
  },
  {
   "cell_type": "code",
   "execution_count": 52,
   "metadata": {},
   "outputs": [
    {
     "data": {
      "image/png": "[encoded data removed]",
      "text/plain": [
       "<Figure size 432x288 with 1 Axes>"
      ]
     },
     "metadata": {
      "needs_background": "light"
     },
     "output_type": "display_data"
    }
   ],
   "source": [
    "order = bp_directions['direction'].value_counts().index.tolist()\n",
    "sns.countplot(y='direction', data=bp_directions, hue='action', order=order, palette=colors)\n",
    "plt.xlabel('Direction per pair')\n",
    "plt.ylabel('Number of pairs')\n",
    "plt.legend(title='Action Type')\n",
    "plt.title('Number of instances of each direction for Compound-action-Biological Process');"
   ]
  },
  {
   "cell_type": "code",
   "execution_count": 53,
   "metadata": {},
   "outputs": [
    {
     "name": "stderr",
     "output_type": "stream",
     "text": [
      "100%|██████████| 37882/37882 [00:04<00:00, 8563.24it/s]\n"
     ]
    },
    {
     "data": {
      "text/html": [
       "<div>\n",
       "<style scoped>\n",
       "    .dataframe tbody tr th:only-of-type {\n",
       "        vertical-align: middle;\n",
       "    }\n",
       "\n",
       "    .dataframe tbody tr th {\n",
       "        vertical-align: top;\n",
       "    }\n",
       "\n",
       "    .dataframe thead th {\n",
       "        text-align: right;\n",
       "    }\n",
       "</style>\n",
       "<table border=\"1\" class=\"dataframe\">\n",
       "  <thead>\n",
       "    <tr style=\"text-align: right;\">\n",
       "      <th></th>\n",
       "      <th>start_id</th>\n",
       "      <th>end_id</th>\n",
       "      <th>direction</th>\n",
       "      <th>action</th>\n",
       "    </tr>\n",
       "  </thead>\n",
       "  <tbody>\n",
       "    <tr>\n",
       "      <th>0</th>\n",
       "      <td>MESH:C000121</td>\n",
       "      <td>GO:0008283</td>\n",
       "      <td>decreases</td>\n",
       "      <td>Phenotype</td>\n",
       "    </tr>\n",
       "    <tr>\n",
       "      <th>1</th>\n",
       "      <td>MESH:C000121</td>\n",
       "      <td>GO:0016477</td>\n",
       "      <td>decreases</td>\n",
       "      <td>Phenotype</td>\n",
       "    </tr>\n",
       "  </tbody>\n",
       "</table>\n",
       "</div>"
      ],
      "text/plain": [
       "       start_id      end_id  direction     action\n",
       "0  MESH:C000121  GO:0008283  decreases  Phenotype\n",
       "1  MESH:C000121  GO:0016477  decreases  Phenotype"
      ]
     },
     "execution_count": 53,
     "metadata": {},
     "output_type": "execute_result"
    }
   ],
   "source": [
    "bp_actions = group_terms(combo, 'Compound', 'Biological Process', 'direction', 'action')\n",
    "bp_actions.head(2)"
   ]
  },
  {
   "cell_type": "code",
   "execution_count": 54,
   "metadata": {},
   "outputs": [
    {
     "data": {
      "image/png": "[encoded data removed]",
      "text/plain": [
       "<Figure size 432x288 with 1 Axes>"
      ]
     },
     "metadata": {
      "needs_background": "light"
     },
     "output_type": "display_data"
    }
   ],
   "source": [
    "sns.countplot(x='direction', data=bp_actions, palette=colors)\n",
    "plt.xlabel('Direction')\n",
    "plt.ylabel('Counts')\n",
    "plt.title('Action counts for Compound - Action - Biological Process edges');"
   ]
  },
  {
   "cell_type": "code",
   "execution_count": 55,
   "metadata": {},
   "outputs": [
    {
     "data": {
      "image/png": "[encoded data removed]",
      "text/plain": [
       "<Figure size 432x288 with 1 Axes>"
      ]
     },
     "metadata": {
      "needs_background": "light"
     },
     "output_type": "display_data"
    }
   ],
   "source": [
    "h_order = ['increases', 'decreases', 'affects']\n",
    "order = bp_actions['action'].value_counts().index.tolist()\n",
    "\n",
    "sns.countplot(y='action', data=bp_actions, hue='direction', order=order, hue_order=h_order, palette=colors)\n",
    "plt.xlabel('Actions per pair')\n",
    "plt.ylabel('Number of pairs')\n",
    "plt.legend(title='Interaction Direction')\n",
    "plt.title('Number of instances of each interaction for Compound-interaction-Biological Process');"
   ]
  },
  {
   "cell_type": "markdown",
   "metadata": {},
   "source": [
    "# Save to Disk"
   ]
  },
  {
   "cell_type": "code",
   "execution_count": 56,
   "metadata": {},
   "outputs": [],
   "source": [
    "gt.add_colons(all_nodes, id_name='identifier').to_csv(out_dir.joinpath('nodes_all.csv'), index=False)\n",
    "gt.add_colons(filt_nodes, id_name='identifier').to_csv(out_dir.joinpath('nodes_filt.csv'), index=False)\n",
    "\n",
    "gt.add_colons(edges).to_csv(out_dir.joinpath('edges.csv'), index=False)"
   ]
  }
 ],
 "metadata": {
  "kernelspec": {
   "display_name": "Python 3",
   "language": "python",
   "name": "python3"
  },
  "language_info": {
   "codemirror_mode": {
    "name": "ipython",
    "version": 3
   },
   "file_extension": ".py",
   "mimetype": "text/x-python",
   "name": "python",
   "nbconvert_exporter": "python",
   "pygments_lexer": "ipython3",
   "version": "3.6.8"
  }
 },
 "nbformat": 4,
 "nbformat_minor": 2
}
