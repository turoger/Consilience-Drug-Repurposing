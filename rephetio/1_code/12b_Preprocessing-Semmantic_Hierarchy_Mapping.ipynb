{
 "cells": [
  {
   "cell_type": "markdown",
   "metadata": {},
   "source": [
    "# Semmantic Hierarchy Mapping\n",
    "\n",
    "Some edge types are more spefici than others... For example `inhibits` is more specific than the general `affects`. However, both could be considered as `affects` edges, so to ensure that our more specific edges carry the appropriate weight, we will duplicate them with the more general semantic type"
   ]
  },
  {
   "cell_type": "code",
   "execution_count": 1,
   "metadata": {},
   "outputs": [
    {
     "name": "stderr",
     "output_type": "stream",
     "text": [
      "/opt/mmayers/software/anaconda3/envs/ml/lib/python3.6/site-packages/data_tools/df_processing.py:4: TqdmExperimentalWarning: Using `tqdm.autonotebook.tqdm` in notebook mode. Use `tqdm.tqdm` instead to force console mode (e.g. in jupyter console)\n",
      "  from tqdm.autonotebook import tqdm\n"
     ]
    }
   ],
   "source": [
    "%matplotlib inline\n",
    "import pandas as pd\n",
    "import seaborn as sns\n",
    "from pathlib import Path\n",
    "import matplotlib.pyplot as plt\n",
    "\n",
    "from data_tools.plotting import count_plot_h\n",
    "from data_tools import combine_nodes_and_edges\n",
    "from data_tools.df_processing import combine_group_cols_on_char, expand_col_on_char\n",
    "from data_tools.graphs import map_edge_types_from_file, add_abbrevs, get_core_network"
   ]
  },
  {
   "cell_type": "code",
   "execution_count": 2,
   "metadata": {},
   "outputs": [],
   "source": [
    "prev_dir = Path('../2_pipeline/12a_Preprocessing-Semmantic_Compression/out').resolve()\n",
    "data_dir = Path('../0_data/manual/').resolve()"
   ]
  },
  {
   "cell_type": "code",
   "execution_count": 3,
   "metadata": {},
   "outputs": [],
   "source": [
    "nodes = pd.read_csv(prev_dir.joinpath('nodes.csv'), dtype=str)\n",
    "edges = pd.read_csv(prev_dir.joinpath('edges.csv'), dtype=str)"
   ]
  },
  {
   "cell_type": "markdown",
   "metadata": {},
   "source": [
    "## Add Abbreviations"
   ]
  },
  {
   "cell_type": "code",
   "execution_count": 4,
   "metadata": {},
   "outputs": [],
   "source": [
    "sem_info = pd.read_csv(data_dir.joinpath('edge_semtypes.csv'))"
   ]
  },
  {
   "cell_type": "code",
   "execution_count": 5,
   "metadata": {},
   "outputs": [
    {
     "data": {
      "text/html": [
       "<div>\n",
       "<style scoped>\n",
       "    .dataframe tbody tr th:only-of-type {\n",
       "        vertical-align: middle;\n",
       "    }\n",
       "\n",
       "    .dataframe tbody tr th {\n",
       "        vertical-align: top;\n",
       "    }\n",
       "\n",
       "    .dataframe thead th {\n",
       "        text-align: right;\n",
       "    }\n",
       "</style>\n",
       "<table border=\"1\" class=\"dataframe\">\n",
       "  <thead>\n",
       "    <tr style=\"text-align: right;\">\n",
       "      <th></th>\n",
       "      <th>fwd_edge</th>\n",
       "      <th>abbrev</th>\n",
       "      <th>rev_edge</th>\n",
       "      <th>rel_dir</th>\n",
       "      <th>directed</th>\n",
       "      <th>parent_rel</th>\n",
       "    </tr>\n",
       "  </thead>\n",
       "  <tbody>\n",
       "    <tr>\n",
       "      <th>0</th>\n",
       "      <td>activates</td>\n",
       "      <td>a</td>\n",
       "      <td>activated_by</td>\n",
       "      <td>1</td>\n",
       "      <td>True</td>\n",
       "      <td>affects</td>\n",
       "    </tr>\n",
       "    <tr>\n",
       "      <th>1</th>\n",
       "      <td>affects</td>\n",
       "      <td>af</td>\n",
       "      <td>affected_by</td>\n",
       "      <td>0</td>\n",
       "      <td>True</td>\n",
       "      <td>NaN</td>\n",
       "    </tr>\n",
       "    <tr>\n",
       "      <th>2</th>\n",
       "      <td>associated_with</td>\n",
       "      <td>aw</td>\n",
       "      <td>associated_with</td>\n",
       "      <td>0</td>\n",
       "      <td>False</td>\n",
       "      <td>NaN</td>\n",
       "    </tr>\n",
       "    <tr>\n",
       "      <th>3</th>\n",
       "      <td>capable_of</td>\n",
       "      <td>co</td>\n",
       "      <td>performed_by</td>\n",
       "      <td>0</td>\n",
       "      <td>False</td>\n",
       "      <td>NaN</td>\n",
       "    </tr>\n",
       "    <tr>\n",
       "      <th>4</th>\n",
       "      <td>causes</td>\n",
       "      <td>c</td>\n",
       "      <td>caused_by</td>\n",
       "      <td>1</td>\n",
       "      <td>True</td>\n",
       "      <td>NaN</td>\n",
       "    </tr>\n",
       "    <tr>\n",
       "      <th>5</th>\n",
       "      <td>diagnoses</td>\n",
       "      <td>dg</td>\n",
       "      <td>diagnosed_by</td>\n",
       "      <td>1</td>\n",
       "      <td>True</td>\n",
       "      <td>NaN</td>\n",
       "    </tr>\n",
       "    <tr>\n",
       "      <th>6</th>\n",
       "      <td>disrupts</td>\n",
       "      <td>d</td>\n",
       "      <td>disrupted_in</td>\n",
       "      <td>-1</td>\n",
       "      <td>True</td>\n",
       "      <td>NaN</td>\n",
       "    </tr>\n",
       "    <tr>\n",
       "      <th>7</th>\n",
       "      <td>enables</td>\n",
       "      <td>e</td>\n",
       "      <td>enabled_by</td>\n",
       "      <td>1</td>\n",
       "      <td>True</td>\n",
       "      <td>NaN</td>\n",
       "    </tr>\n",
       "    <tr>\n",
       "      <th>8</th>\n",
       "      <td>follows_in_sequence</td>\n",
       "      <td>f</td>\n",
       "      <td>precedes_in_sequence</td>\n",
       "      <td>0</td>\n",
       "      <td>True</td>\n",
       "      <td>NaN</td>\n",
       "    </tr>\n",
       "    <tr>\n",
       "      <th>9</th>\n",
       "      <td>has_input</td>\n",
       "      <td>hi</td>\n",
       "      <td>input_of</td>\n",
       "      <td>0</td>\n",
       "      <td>False</td>\n",
       "      <td>NaN</td>\n",
       "    </tr>\n",
       "    <tr>\n",
       "      <th>10</th>\n",
       "      <td>has_output</td>\n",
       "      <td>ho</td>\n",
       "      <td>output_of</td>\n",
       "      <td>0</td>\n",
       "      <td>False</td>\n",
       "      <td>NaN</td>\n",
       "    </tr>\n",
       "    <tr>\n",
       "      <th>11</th>\n",
       "      <td>has_part</td>\n",
       "      <td>hp</td>\n",
       "      <td>part_of</td>\n",
       "      <td>0</td>\n",
       "      <td>False</td>\n",
       "      <td>NaN</td>\n",
       "    </tr>\n",
       "    <tr>\n",
       "      <th>12</th>\n",
       "      <td>in_reaction_with</td>\n",
       "      <td>rx</td>\n",
       "      <td>in_reaction_with</td>\n",
       "      <td>0</td>\n",
       "      <td>False</td>\n",
       "      <td>NaN</td>\n",
       "    </tr>\n",
       "    <tr>\n",
       "      <th>13</th>\n",
       "      <td>in_taxon</td>\n",
       "      <td>it</td>\n",
       "      <td>taxon_of</td>\n",
       "      <td>0</td>\n",
       "      <td>False</td>\n",
       "      <td>NaN</td>\n",
       "    </tr>\n",
       "    <tr>\n",
       "      <th>14</th>\n",
       "      <td>inhibits</td>\n",
       "      <td>in</td>\n",
       "      <td>inhibited_by</td>\n",
       "      <td>-1</td>\n",
       "      <td>True</td>\n",
       "      <td>affects</td>\n",
       "    </tr>\n",
       "    <tr>\n",
       "      <th>15</th>\n",
       "      <td>involved_in</td>\n",
       "      <td>i</td>\n",
       "      <td>has_member</td>\n",
       "      <td>0</td>\n",
       "      <td>False</td>\n",
       "      <td>NaN</td>\n",
       "    </tr>\n",
       "    <tr>\n",
       "      <th>16</th>\n",
       "      <td>marker_or_mechanism</td>\n",
       "      <td>m</td>\n",
       "      <td>marked_by</td>\n",
       "      <td>0</td>\n",
       "      <td>False</td>\n",
       "      <td>NaN</td>\n",
       "    </tr>\n",
       "    <tr>\n",
       "      <th>17</th>\n",
       "      <td>negatively_regulates</td>\n",
       "      <td>nr</td>\n",
       "      <td>negatively_regulated_by</td>\n",
       "      <td>-1</td>\n",
       "      <td>True</td>\n",
       "      <td>regulates</td>\n",
       "    </tr>\n",
       "    <tr>\n",
       "      <th>18</th>\n",
       "      <td>palliates</td>\n",
       "      <td>pl</td>\n",
       "      <td>palliated_by</td>\n",
       "      <td>1</td>\n",
       "      <td>True</td>\n",
       "      <td>NaN</td>\n",
       "    </tr>\n",
       "    <tr>\n",
       "      <th>19</th>\n",
       "      <td>part_of</td>\n",
       "      <td>po</td>\n",
       "      <td>has_part</td>\n",
       "      <td>0</td>\n",
       "      <td>False</td>\n",
       "      <td>NaN</td>\n",
       "    </tr>\n",
       "    <tr>\n",
       "      <th>20</th>\n",
       "      <td>positively_regulates</td>\n",
       "      <td>pr</td>\n",
       "      <td>positively_regulated_by</td>\n",
       "      <td>1</td>\n",
       "      <td>True</td>\n",
       "      <td>regulates</td>\n",
       "    </tr>\n",
       "    <tr>\n",
       "      <th>21</th>\n",
       "      <td>presents</td>\n",
       "      <td>ps</td>\n",
       "      <td>presented_by</td>\n",
       "      <td>1</td>\n",
       "      <td>True</td>\n",
       "      <td>NaN</td>\n",
       "    </tr>\n",
       "    <tr>\n",
       "      <th>22</th>\n",
       "      <td>prevents</td>\n",
       "      <td>pv</td>\n",
       "      <td>prevented_by</td>\n",
       "      <td>1</td>\n",
       "      <td>True</td>\n",
       "      <td>NaN</td>\n",
       "    </tr>\n",
       "    <tr>\n",
       "      <th>23</th>\n",
       "      <td>produces</td>\n",
       "      <td>p</td>\n",
       "      <td>produced_by</td>\n",
       "      <td>1</td>\n",
       "      <td>True</td>\n",
       "      <td>NaN</td>\n",
       "    </tr>\n",
       "    <tr>\n",
       "      <th>24</th>\n",
       "      <td>regulates</td>\n",
       "      <td>r</td>\n",
       "      <td>regulated_by</td>\n",
       "      <td>0</td>\n",
       "      <td>True</td>\n",
       "      <td>NaN</td>\n",
       "    </tr>\n",
       "    <tr>\n",
       "      <th>25</th>\n",
       "      <td>site_of</td>\n",
       "      <td>so</td>\n",
       "      <td>localized_to</td>\n",
       "      <td>0</td>\n",
       "      <td>False</td>\n",
       "      <td>NaN</td>\n",
       "    </tr>\n",
       "    <tr>\n",
       "      <th>26</th>\n",
       "      <td>treats</td>\n",
       "      <td>t</td>\n",
       "      <td>treated_by</td>\n",
       "      <td>-1</td>\n",
       "      <td>True</td>\n",
       "      <td>NaN</td>\n",
       "    </tr>\n",
       "  </tbody>\n",
       "</table>\n",
       "</div>"
      ],
      "text/plain": [
       "                fwd_edge abbrev                 rev_edge  rel_dir  directed  \\\n",
       "0              activates      a             activated_by        1      True   \n",
       "1                affects     af              affected_by        0      True   \n",
       "2        associated_with     aw          associated_with        0     False   \n",
       "3             capable_of     co             performed_by        0     False   \n",
       "4                 causes      c                caused_by        1      True   \n",
       "5              diagnoses     dg             diagnosed_by        1      True   \n",
       "6               disrupts      d             disrupted_in       -1      True   \n",
       "7                enables      e               enabled_by        1      True   \n",
       "8    follows_in_sequence      f     precedes_in_sequence        0      True   \n",
       "9              has_input     hi                 input_of        0     False   \n",
       "10            has_output     ho                output_of        0     False   \n",
       "11              has_part     hp                  part_of        0     False   \n",
       "12      in_reaction_with     rx         in_reaction_with        0     False   \n",
       "13              in_taxon     it                 taxon_of        0     False   \n",
       "14              inhibits     in             inhibited_by       -1      True   \n",
       "15           involved_in      i               has_member        0     False   \n",
       "16   marker_or_mechanism      m                marked_by        0     False   \n",
       "17  negatively_regulates     nr  negatively_regulated_by       -1      True   \n",
       "18             palliates     pl             palliated_by        1      True   \n",
       "19               part_of     po                 has_part        0     False   \n",
       "20  positively_regulates     pr  positively_regulated_by        1      True   \n",
       "21              presents     ps             presented_by        1      True   \n",
       "22              prevents     pv             prevented_by        1      True   \n",
       "23              produces      p              produced_by        1      True   \n",
       "24             regulates      r             regulated_by        0      True   \n",
       "25               site_of     so             localized_to        0     False   \n",
       "26                treats      t               treated_by       -1      True   \n",
       "\n",
       "   parent_rel  \n",
       "0     affects  \n",
       "1         NaN  \n",
       "2         NaN  \n",
       "3         NaN  \n",
       "4         NaN  \n",
       "5         NaN  \n",
       "6         NaN  \n",
       "7         NaN  \n",
       "8         NaN  \n",
       "9         NaN  \n",
       "10        NaN  \n",
       "11        NaN  \n",
       "12        NaN  \n",
       "13        NaN  \n",
       "14    affects  \n",
       "15        NaN  \n",
       "16        NaN  \n",
       "17  regulates  \n",
       "18        NaN  \n",
       "19        NaN  \n",
       "20  regulates  \n",
       "21        NaN  \n",
       "22        NaN  \n",
       "23        NaN  \n",
       "24        NaN  \n",
       "25        NaN  \n",
       "26        NaN  "
      ]
     },
     "execution_count": 5,
     "metadata": {},
     "output_type": "execute_result"
    }
   ],
   "source": [
    "sem_info"
   ]
  },
  {
   "cell_type": "code",
   "execution_count": 6,
   "metadata": {},
   "outputs": [],
   "source": [
    "to_map = sem_info.dropna(subset=['parent_rel'])['fwd_edge'].unique()\n",
    "rel_map = sem_info.dropna(subset=['parent_rel']).set_index('fwd_edge')['parent_rel'].to_dict()"
   ]
  },
  {
   "cell_type": "code",
   "execution_count": 7,
   "metadata": {},
   "outputs": [],
   "source": [
    "edges_to_map = edges.query('type in @to_map').copy()"
   ]
  },
  {
   "cell_type": "code",
   "execution_count": 8,
   "metadata": {},
   "outputs": [],
   "source": [
    "edges_to_map['type'] = edges_to_map['type'].map(rel_map)"
   ]
  },
  {
   "cell_type": "code",
   "execution_count": 9,
   "metadata": {},
   "outputs": [],
   "source": [
    "edges_out = pd.concat([edges, edges_to_map], sort=False, ignore_index=True)"
   ]
  },
  {
   "cell_type": "markdown",
   "metadata": {},
   "source": [
    "### Remove duplications"
   ]
  },
  {
   "cell_type": "code",
   "execution_count": 10,
   "metadata": {},
   "outputs": [
    {
     "data": {
      "text/plain": [
       "9928357"
      ]
     },
     "execution_count": 10,
     "metadata": {},
     "output_type": "execute_result"
    }
   ],
   "source": [
    "len(edges_out)"
   ]
  },
  {
   "cell_type": "code",
   "execution_count": 11,
   "metadata": {},
   "outputs": [
    {
     "data": {
      "application/vnd.jupyter.widget-view+json": {
       "model_id": "3489647a97d24b2699f5793110510d88",
       "version_major": 2,
       "version_minor": 0
      },
      "text/plain": [
       "HBox(children=(FloatProgress(value=0.0, description='total_progress', max=5.0, style=ProgressStyle(description…"
      ]
     },
     "metadata": {},
     "output_type": "display_data"
    },
    {
     "data": {
      "application/vnd.jupyter.widget-view+json": {
       "model_id": "2773fb6d587c4a82a7dad397b3dfcf15",
       "version_major": 2,
       "version_minor": 0
      },
      "text/plain": [
       "HBox(children=(FloatProgress(value=0.0, description='dsrc_type', max=127155.0, style=ProgressStyle(description…"
      ]
     },
     "metadata": {},
     "output_type": "display_data"
    },
    {
     "name": "stdout",
     "output_type": "stream",
     "text": [
      "\n"
     ]
    },
    {
     "data": {
      "application/vnd.jupyter.widget-view+json": {
       "model_id": "5a66e9b315bc4b198d8d566afbd3e59b",
       "version_major": 2,
       "version_minor": 0
      },
      "text/plain": [
       "HBox(children=(FloatProgress(value=0.0, description='source', max=127155.0, style=ProgressStyle(description_wi…"
      ]
     },
     "metadata": {},
     "output_type": "display_data"
    },
    {
     "name": "stdout",
     "output_type": "stream",
     "text": [
      "\n"
     ]
    },
    {
     "data": {
      "application/vnd.jupyter.widget-view+json": {
       "model_id": "7f0ee4ace0d84808ba4ffb7b9f168328",
       "version_major": 2,
       "version_minor": 0
      },
      "text/plain": [
       "HBox(children=(FloatProgress(value=0.0, description='license', max=127155.0, style=ProgressStyle(description_w…"
      ]
     },
     "metadata": {},
     "output_type": "display_data"
    },
    {
     "name": "stdout",
     "output_type": "stream",
     "text": [
      "\n"
     ]
    },
    {
     "data": {
      "application/vnd.jupyter.widget-view+json": {
       "model_id": "1cf9d146be9c4eb48dd4f85cbc2267ec",
       "version_major": 2,
       "version_minor": 0
      },
      "text/plain": [
       "HBox(children=(FloatProgress(value=0.0, description='pmids', max=127155.0, style=ProgressStyle(description_wid…"
      ]
     },
     "metadata": {},
     "output_type": "display_data"
    },
    {
     "name": "stdout",
     "output_type": "stream",
     "text": [
      "\n"
     ]
    },
    {
     "data": {
      "application/vnd.jupyter.widget-view+json": {
       "model_id": "ae4ee1bc4f47491395a7ae067c25777f",
       "version_major": 2,
       "version_minor": 0
      },
      "text/plain": [
       "HBox(children=(FloatProgress(value=0.0, description='merge_id', max=127155.0, style=ProgressStyle(description_…"
      ]
     },
     "metadata": {},
     "output_type": "display_data"
    },
    {
     "name": "stdout",
     "output_type": "stream",
     "text": [
      "\n",
      "\n"
     ]
    }
   ],
   "source": [
    "edges_out = combine_group_cols_on_char(edges_out, ['start_id', 'end_id', 'type'], sort=True)"
   ]
  },
  {
   "cell_type": "code",
   "execution_count": 12,
   "metadata": {},
   "outputs": [
    {
     "data": {
      "text/plain": [
       "9786425"
      ]
     },
     "execution_count": 12,
     "metadata": {},
     "output_type": "execute_result"
    }
   ],
   "source": [
    "len(edges_out)"
   ]
  },
  {
   "cell_type": "markdown",
   "metadata": {},
   "source": [
    "## Save results"
   ]
  },
  {
   "cell_type": "code",
   "execution_count": 13,
   "metadata": {},
   "outputs": [],
   "source": [
    "this_name = '12b_Preprocessing-Semmantic_Hierarchy_Mapping'\n",
    "\n",
    "out_dir = Path('../2_pipeline/').joinpath(this_name).joinpath('out').resolve()\n",
    "\n",
    "out_dir.mkdir(parents=True, exist_ok=True)\n",
    "\n",
    "nodes.to_csv(out_dir.joinpath('nodes.csv'), index=False)\n",
    "edges_out.to_csv(out_dir.joinpath('edges.csv'), index=False)"
   ]
  }
 ],
 "metadata": {
  "kernelspec": {
   "display_name": "Python 3",
   "language": "python",
   "name": "python3"
  },
  "language_info": {
   "codemirror_mode": {
    "name": "ipython",
    "version": 3
   },
   "file_extension": ".py",
   "mimetype": "text/x-python",
   "name": "python",
   "nbconvert_exporter": "python",
   "pygments_lexer": "ipython3",
   "version": "3.6.8"
  }
 },
 "nbformat": 4,
 "nbformat_minor": 2
}
