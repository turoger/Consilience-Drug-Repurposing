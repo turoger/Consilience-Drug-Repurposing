{
 "cells": [
  {
   "cell_type": "markdown",
   "metadata": {},
   "source": [
    "# Cleaning up Disease and Phenotype\n",
    "\n",
    "Diseases and phenotypes have come from different data souces and have different data types."
   ]
  },
  {
   "cell_type": "code",
   "execution_count": 1,
   "metadata": {},
   "outputs": [
    {
     "name": "stderr",
     "output_type": "stream",
     "text": [
      "/opt/mmayers/software/anaconda3/envs/ml/lib/python3.6/site-packages/data_tools/df_processing.py:4: TqdmExperimentalWarning: Using `tqdm.autonotebook.tqdm` in notebook mode. Use `tqdm.tqdm` instead to force console mode (e.g. in jupyter console)\n",
      "  from tqdm.autonotebook import tqdm\n"
     ]
    }
   ],
   "source": [
    "import pandas as pd\n",
    "from pathlib import Path\n",
    "from data_tools import df_processing as dfp\n",
    "\n",
    "import rdflib\n",
    "import ontospy"
   ]
  },
  {
   "cell_type": "code",
   "execution_count": 2,
   "metadata": {},
   "outputs": [],
   "source": [
    "this_name = '10a_Disease_Pheno_Cleanup_parse_owls'\n",
    "out_dir = Path('../2_pipeline').resolve().joinpath(this_name, 'out')\n",
    "\n",
    "out_dir.mkdir(parents=True, exist_ok=True)"
   ]
  },
  {
   "cell_type": "code",
   "execution_count": 3,
   "metadata": {},
   "outputs": [],
   "source": [
    "def uri_to_id(uri):\n",
    "    if '#' in uri:\n",
    "        return uri.split('#')[-1]\n",
    "    return uri.split('/')[-1].replace('_', ':')"
   ]
  },
  {
   "cell_type": "code",
   "execution_count": 4,
   "metadata": {},
   "outputs": [],
   "source": [
    "def get_class_id(entity):\n",
    "    return uri_to_id(entity.uri.toPython())"
   ]
  },
  {
   "cell_type": "code",
   "execution_count": 5,
   "metadata": {},
   "outputs": [],
   "source": [
    "def get_class_name(entity):\n",
    "    name = entity.bestLabel()\n",
    "    if type(name) == str:\n",
    "        return name\n",
    "    return name.toPython()"
   ]
  },
  {
   "cell_type": "code",
   "execution_count": 6,
   "metadata": {},
   "outputs": [],
   "source": [
    "def get_property_objects(entity, property_uri):\n",
    "    out = []\n",
    "    for t in entity.triples:\n",
    "        if t[1].toPython() == property_uri:\n",
    "            obj = t[2]\n",
    "            if type(obj) == rdflib.term.BNode:\n",
    "                obj = t[0]\n",
    "                if type(obj) == rdflib.term.BNode:\n",
    "                    continue\n",
    "            \n",
    "            obj = obj.toPython()\n",
    "            \n",
    "            if obj.startswith('http'):\n",
    "                obj = uri_to_id(obj)\n",
    "            \n",
    "            out.append(obj)\n",
    "    return out"
   ]
  },
  {
   "cell_type": "code",
   "execution_count": 7,
   "metadata": {},
   "outputs": [],
   "source": [
    "def get_concept_info(entity):\n",
    "    out = {}\n",
    "    \n",
    "    out['id'] = get_class_id(entity)\n",
    "    out['name'] = get_class_name(entity)\n",
    "    \n",
    "    out['synonyms'] = get_property_objects(entity, 'http://www.geneontology.org/formats/oboInOwl#hasExactSynonym')\n",
    "    out['xrefs'] = get_property_objects(entity, 'http://www.geneontology.org/formats/oboInOwl#hasDbXref')\n",
    "    out['alt_ids'] = get_property_objects(entity, 'http://www.geneontology.org/formats/oboInOwl#hasAlternativeId')\n",
    "    out['subsets'] = get_property_objects(entity, 'http://www.geneontology.org/formats/oboInOwl#inSubset')\n",
    "    \n",
    "    out = {k: v if v != [] else float('nan') for k, v in out.items()}\n",
    "    \n",
    "    \n",
    "    return out\n",
    "    "
   ]
  },
  {
   "cell_type": "code",
   "execution_count": 8,
   "metadata": {},
   "outputs": [],
   "source": [
    "def get_relationship_info(entity):\n",
    "    out = {}\n",
    "    \n",
    "    subjects = get_class_id(entity)\n",
    "    objects = get_property_objects(entity, 'http://www.w3.org/2002/07/owl#someValuesFrom')\n",
    "    \n",
    "    out['sbjs'] = subjects\n",
    "    out['objs'] = objects\n",
    "    \n",
    "    out = {k: v if v != [] else float('nan') for k, v in out.items()}\n",
    "\n",
    "    \n",
    "    return out"
   ]
  },
  {
   "cell_type": "markdown",
   "metadata": {},
   "source": [
    "## Parse Diseases"
   ]
  },
  {
   "cell_type": "code",
   "execution_count": 9,
   "metadata": {},
   "outputs": [
    {
     "name": "stdout",
     "output_type": "stream",
     "text": [
      "CPU times: user 4min 34s, sys: 882 ms, total: 4min 35s\n",
      "Wall time: 4min 36s\n"
     ]
    }
   ],
   "source": [
    "%%time\n",
    "do = ontospy.Ontospy('http://purl.obolibrary.org/obo/doid.owl')"
   ]
  },
  {
   "cell_type": "code",
   "execution_count": 10,
   "metadata": {},
   "outputs": [],
   "source": [
    "dis_info_json = list()\n",
    "dis_rel_json = list()\n",
    "\n",
    "for e in do.all_classes:\n",
    "    dis_info_json.append(get_concept_info(e))\n",
    "    dis_rel_json.append(get_relationship_info(e))"
   ]
  },
  {
   "cell_type": "code",
   "execution_count": 11,
   "metadata": {},
   "outputs": [],
   "source": [
    "dis_info_df = pd.DataFrame(dis_info_json)"
   ]
  },
  {
   "cell_type": "code",
   "execution_count": 12,
   "metadata": {},
   "outputs": [
    {
     "data": {
      "text/plain": [
       "UMLS_CUI                   7032\n",
       "OMIM                       5182\n",
       "SNOMEDCT_US_2019_09_01     4823\n",
       "NCI                        4687\n",
       "ICD10CM                    3654\n",
       "MESH                       3553\n",
       "ICD9CM                     2270\n",
       "GARD                       1922\n",
       "ORDO                       1864\n",
       "EFO                         130\n",
       "KEGG                         41\n",
       "MEDDRA                       34\n",
       "SNOMEDCT_US_2018_03_01       14\n",
       "ICDO                         14\n",
       "SNOMEDCT_US_2020_03_01        8\n",
       "SNOMED_CT_US_2018_03_01       3\n",
       "SNOMEDCT_US_2020_09_01        2\n",
       "stedman                       1\n",
       "DERMO                         1\n",
       "OERDO                         1\n",
       "SNOMEDCT_2020_03_01           1\n",
       "UMS_CUI                       1\n",
       "Name: xrefs, dtype: int64"
      ]
     },
     "execution_count": 12,
     "metadata": {},
     "output_type": "execute_result"
    }
   ],
   "source": [
    "dfp.expand_df_on_col(dis_info_df, 'xrefs').dropna(subset=['xrefs'])['xrefs'].apply(lambda s: s.split(':')[0]).value_counts()"
   ]
  },
  {
   "cell_type": "code",
   "execution_count": 13,
   "metadata": {},
   "outputs": [],
   "source": [
    "for col in ['synonyms', 'xrefs', 'alt_ids', 'subsets']:\n",
    "    dis_info_df[col] = dis_info_df[col].apply(lambda s: dfp.char_combine_iter(s) if type(s) != float else s)"
   ]
  },
  {
   "cell_type": "code",
   "execution_count": 14,
   "metadata": {},
   "outputs": [],
   "source": [
    "dis_info_df.to_csv(out_dir.joinpath('DO_node_info.csv'), index=False)"
   ]
  },
  {
   "cell_type": "code",
   "execution_count": 15,
   "metadata": {},
   "outputs": [],
   "source": [
    "dis_rel_df = pd.DataFrame(dis_rel_json)"
   ]
  },
  {
   "cell_type": "code",
   "execution_count": 16,
   "metadata": {},
   "outputs": [
    {
     "data": {
      "text/html": [
       "<div>\n",
       "<style scoped>\n",
       "    .dataframe tbody tr th:only-of-type {\n",
       "        vertical-align: middle;\n",
       "    }\n",
       "\n",
       "    .dataframe tbody tr th {\n",
       "        vertical-align: top;\n",
       "    }\n",
       "\n",
       "    .dataframe thead th {\n",
       "        text-align: right;\n",
       "    }\n",
       "</style>\n",
       "<table border=\"1\" class=\"dataframe\">\n",
       "  <thead>\n",
       "    <tr style=\"text-align: right;\">\n",
       "      <th></th>\n",
       "      <th>sbjs</th>\n",
       "      <th>objs</th>\n",
       "    </tr>\n",
       "  </thead>\n",
       "  <tbody>\n",
       "    <tr>\n",
       "      <th>0</th>\n",
       "      <td>DOID:0040001</td>\n",
       "      <td>FOODON:00002239</td>\n",
       "    </tr>\n",
       "    <tr>\n",
       "      <th>1</th>\n",
       "      <td>DOID:0040002</td>\n",
       "      <td>CHEBI:15365</td>\n",
       "    </tr>\n",
       "    <tr>\n",
       "      <th>2</th>\n",
       "      <td>DOID:0040003</td>\n",
       "      <td>CHEBI:18208</td>\n",
       "    </tr>\n",
       "    <tr>\n",
       "      <th>3</th>\n",
       "      <td>DOID:0040004</td>\n",
       "      <td>CHEBI:2676</td>\n",
       "    </tr>\n",
       "    <tr>\n",
       "      <th>4</th>\n",
       "      <td>DOID:0040005</td>\n",
       "      <td>CHEBI:29007</td>\n",
       "    </tr>\n",
       "    <tr>\n",
       "      <th>...</th>\n",
       "      <td>...</td>\n",
       "      <td>...</td>\n",
       "    </tr>\n",
       "    <tr>\n",
       "      <th>6083</th>\n",
       "      <td>DOID:9972</td>\n",
       "      <td>SYMP:0000470</td>\n",
       "    </tr>\n",
       "    <tr>\n",
       "      <th>6084</th>\n",
       "      <td>DOID:9986</td>\n",
       "      <td>CL:0000542</td>\n",
       "    </tr>\n",
       "    <tr>\n",
       "      <th>6085</th>\n",
       "      <td>DOID:9988</td>\n",
       "      <td>UBERON:0000955</td>\n",
       "    </tr>\n",
       "    <tr>\n",
       "      <th>6086</th>\n",
       "      <td>DOID:9988</td>\n",
       "      <td>UBERON:0002240</td>\n",
       "    </tr>\n",
       "    <tr>\n",
       "      <th>6087</th>\n",
       "      <td>DOID:9993</td>\n",
       "      <td>HP:0011015</td>\n",
       "    </tr>\n",
       "  </tbody>\n",
       "</table>\n",
       "<p>6088 rows × 2 columns</p>\n",
       "</div>"
      ],
      "text/plain": [
       "              sbjs             objs\n",
       "0     DOID:0040001  FOODON:00002239\n",
       "1     DOID:0040002      CHEBI:15365\n",
       "2     DOID:0040003      CHEBI:18208\n",
       "3     DOID:0040004       CHEBI:2676\n",
       "4     DOID:0040005      CHEBI:29007\n",
       "...            ...              ...\n",
       "6083     DOID:9972     SYMP:0000470\n",
       "6084     DOID:9986       CL:0000542\n",
       "6085     DOID:9988   UBERON:0000955\n",
       "6086     DOID:9988   UBERON:0002240\n",
       "6087     DOID:9993       HP:0011015\n",
       "\n",
       "[6088 rows x 2 columns]"
      ]
     },
     "execution_count": 16,
     "metadata": {},
     "output_type": "execute_result"
    }
   ],
   "source": [
    "dis_rel_df = dis_rel_df.dropna(subset=['objs'])\n",
    "dis_rel_df = dfp.expand_df_on_col(dis_rel_df, 'objs')\n",
    "dis_rel_df"
   ]
  },
  {
   "cell_type": "code",
   "execution_count": 17,
   "metadata": {},
   "outputs": [
    {
     "data": {
      "text/plain": [
       "GENO         2118\n",
       "UBERON       1517\n",
       "SYMP          861\n",
       "CL            548\n",
       "NCBITaxon     397\n",
       "SO            313\n",
       "HP            209\n",
       "CHEBI          88\n",
       "FOODON         25\n",
       "DOID           12\n",
       "Name: objs, dtype: int64"
      ]
     },
     "execution_count": 17,
     "metadata": {},
     "output_type": "execute_result"
    }
   ],
   "source": [
    "dis_rel_df['objs'].apply(lambda s: s.split(':')[0]).value_counts().head(50)"
   ]
  },
  {
   "cell_type": "code",
   "execution_count": 18,
   "metadata": {},
   "outputs": [],
   "source": [
    "dis_rel_df.to_csv(out_dir.joinpath('DO_edge_info.csv'), index=False)"
   ]
  },
  {
   "cell_type": "markdown",
   "metadata": {},
   "source": [
    "## Parse Phenotypes"
   ]
  },
  {
   "cell_type": "code",
   "execution_count": 19,
   "metadata": {},
   "outputs": [
    {
     "name": "stdout",
     "output_type": "stream",
     "text": [
      "CPU times: user 14min 53s, sys: 3.05 s, total: 14min 56s\n",
      "Wall time: 14min 57s\n"
     ]
    }
   ],
   "source": [
    "%%time\n",
    "hp = ontospy.Ontospy('http://purl.obolibrary.org/obo/hp.owl')"
   ]
  },
  {
   "cell_type": "code",
   "execution_count": 20,
   "metadata": {},
   "outputs": [],
   "source": [
    "pheno_info_json = list()\n",
    "pheno_rel_json = list()\n",
    "\n",
    "for e in hp.all_classes:\n",
    "    pheno_info_json.append(get_concept_info(e))\n",
    "    pheno_rel_json.append(get_relationship_info(e))"
   ]
  },
  {
   "cell_type": "code",
   "execution_count": 21,
   "metadata": {},
   "outputs": [],
   "source": [
    "pheno_info_df = pd.DataFrame(pheno_info_json)"
   ]
  },
  {
   "cell_type": "code",
   "execution_count": 22,
   "metadata": {},
   "outputs": [
    {
     "data": {
      "text/html": [
       "<div>\n",
       "<style scoped>\n",
       "    .dataframe tbody tr th:only-of-type {\n",
       "        vertical-align: middle;\n",
       "    }\n",
       "\n",
       "    .dataframe tbody tr th {\n",
       "        vertical-align: top;\n",
       "    }\n",
       "\n",
       "    .dataframe thead th {\n",
       "        text-align: right;\n",
       "    }\n",
       "</style>\n",
       "<table border=\"1\" class=\"dataframe\">\n",
       "  <thead>\n",
       "    <tr style=\"text-align: right;\">\n",
       "      <th></th>\n",
       "      <th>id</th>\n",
       "      <th>name</th>\n",
       "      <th>synonyms</th>\n",
       "      <th>xrefs</th>\n",
       "      <th>alt_ids</th>\n",
       "      <th>subsets</th>\n",
       "    </tr>\n",
       "  </thead>\n",
       "  <tbody>\n",
       "    <tr>\n",
       "      <th>26650</th>\n",
       "      <td>UBERON:0016512</td>\n",
       "      <td>lumen of duodenum</td>\n",
       "      <td>[duodenal lumen, doudenal lumen]</td>\n",
       "      <td>[FMA:14589, EMAPA:19080]</td>\n",
       "      <td>NaN</td>\n",
       "      <td>NaN</td>\n",
       "    </tr>\n",
       "    <tr>\n",
       "      <th>14917</th>\n",
       "      <td>HP:0025259</td>\n",
       "      <td>Stiff elbow</td>\n",
       "      <td>[Elbow stiffness, Stiff elbow]</td>\n",
       "      <td>NaN</td>\n",
       "      <td>NaN</td>\n",
       "      <td>NaN</td>\n",
       "    </tr>\n",
       "    <tr>\n",
       "      <th>12778</th>\n",
       "      <td>HP:0011166</td>\n",
       "      <td>Focal myoclonic seizure</td>\n",
       "      <td>[Local myoclonic seizures, Segmental myoclonic...</td>\n",
       "      <td>[UMLS:C4023501]</td>\n",
       "      <td>[HP:0025191]</td>\n",
       "      <td>NaN</td>\n",
       "    </tr>\n",
       "    <tr>\n",
       "      <th>13915</th>\n",
       "      <td>HP:0012311</td>\n",
       "      <td>Monocytosis</td>\n",
       "      <td>[High blood monocyte number]</td>\n",
       "      <td>[UMLS:C0085702, SNOMEDCT_US:19636003]</td>\n",
       "      <td>NaN</td>\n",
       "      <td>NaN</td>\n",
       "    </tr>\n",
       "    <tr>\n",
       "      <th>12036</th>\n",
       "      <td>HP:0010387</td>\n",
       "      <td>Osteolytic defects of the phalanges of the 5th...</td>\n",
       "      <td>NaN</td>\n",
       "      <td>[UMLS:C4023865]</td>\n",
       "      <td>NaN</td>\n",
       "      <td>NaN</td>\n",
       "    </tr>\n",
       "    <tr>\n",
       "      <th>5810</th>\n",
       "      <td>HP:0001076</td>\n",
       "      <td>Glabellar hemangioma</td>\n",
       "      <td>[Glabellar capillary hemangioma]</td>\n",
       "      <td>[UMLS:C1854408]</td>\n",
       "      <td>NaN</td>\n",
       "      <td>NaN</td>\n",
       "    </tr>\n",
       "    <tr>\n",
       "      <th>25890</th>\n",
       "      <td>UBERON:0011300</td>\n",
       "      <td>gray matter of telencephalon</td>\n",
       "      <td>[predominantly gray regional part of telenceph...</td>\n",
       "      <td>[BIRNLEX:1067, FMA:83911]</td>\n",
       "      <td>[UBERON:0024186]</td>\n",
       "      <td>NaN</td>\n",
       "    </tr>\n",
       "    <tr>\n",
       "      <th>20156</th>\n",
       "      <td>HP:0430016</td>\n",
       "      <td>Abnormality of tensor veli palatini muscle</td>\n",
       "      <td>NaN</td>\n",
       "      <td>[UMLS:C4073198]</td>\n",
       "      <td>NaN</td>\n",
       "      <td>NaN</td>\n",
       "    </tr>\n",
       "    <tr>\n",
       "      <th>21440</th>\n",
       "      <td>PR:000003460</td>\n",
       "      <td>V(D)J recombination-activating protein 2</td>\n",
       "      <td>[RAG2, RAG-2]</td>\n",
       "      <td>NaN</td>\n",
       "      <td>[PR:000013690]</td>\n",
       "      <td>NaN</td>\n",
       "    </tr>\n",
       "    <tr>\n",
       "      <th>21498</th>\n",
       "      <td>PR:000018444</td>\n",
       "      <td>interleukin-2 receptor subunit alpha, signal p...</td>\n",
       "      <td>[IL2RA/SigPep-]</td>\n",
       "      <td>NaN</td>\n",
       "      <td>NaN</td>\n",
       "      <td>NaN</td>\n",
       "    </tr>\n",
       "  </tbody>\n",
       "</table>\n",
       "</div>"
      ],
      "text/plain": [
       "                   id                                               name  \\\n",
       "26650  UBERON:0016512                                  lumen of duodenum   \n",
       "14917      HP:0025259                                        Stiff elbow   \n",
       "12778      HP:0011166                            Focal myoclonic seizure   \n",
       "13915      HP:0012311                                        Monocytosis   \n",
       "12036      HP:0010387  Osteolytic defects of the phalanges of the 5th...   \n",
       "5810       HP:0001076                               Glabellar hemangioma   \n",
       "25890  UBERON:0011300                       gray matter of telencephalon   \n",
       "20156      HP:0430016         Abnormality of tensor veli palatini muscle   \n",
       "21440    PR:000003460           V(D)J recombination-activating protein 2   \n",
       "21498    PR:000018444  interleukin-2 receptor subunit alpha, signal p...   \n",
       "\n",
       "                                                synonyms  \\\n",
       "26650                   [duodenal lumen, doudenal lumen]   \n",
       "14917                     [Elbow stiffness, Stiff elbow]   \n",
       "12778  [Local myoclonic seizures, Segmental myoclonic...   \n",
       "13915                       [High blood monocyte number]   \n",
       "12036                                                NaN   \n",
       "5810                    [Glabellar capillary hemangioma]   \n",
       "25890  [predominantly gray regional part of telenceph...   \n",
       "20156                                                NaN   \n",
       "21440                                      [RAG2, RAG-2]   \n",
       "21498                                    [IL2RA/SigPep-]   \n",
       "\n",
       "                                       xrefs           alt_ids subsets  \n",
       "26650               [FMA:14589, EMAPA:19080]               NaN     NaN  \n",
       "14917                                    NaN               NaN     NaN  \n",
       "12778                        [UMLS:C4023501]      [HP:0025191]     NaN  \n",
       "13915  [UMLS:C0085702, SNOMEDCT_US:19636003]               NaN     NaN  \n",
       "12036                        [UMLS:C4023865]               NaN     NaN  \n",
       "5810                         [UMLS:C1854408]               NaN     NaN  \n",
       "25890              [BIRNLEX:1067, FMA:83911]  [UBERON:0024186]     NaN  \n",
       "20156                        [UMLS:C4073198]               NaN     NaN  \n",
       "21440                                    NaN    [PR:000013690]     NaN  \n",
       "21498                                    NaN               NaN     NaN  "
      ]
     },
     "execution_count": 22,
     "metadata": {},
     "output_type": "execute_result"
    }
   ],
   "source": [
    "pheno_info_df.sample(10)"
   ]
  },
  {
   "cell_type": "code",
   "execution_count": 23,
   "metadata": {},
   "outputs": [
    {
     "data": {
      "text/plain": [
       "HP           15530\n",
       "UBERON        5389\n",
       "GO            2423\n",
       "CHEBI         1580\n",
       "CL             706\n",
       "PATO           587\n",
       "PR             501\n",
       "NBO            163\n",
       "gene           106\n",
       "MGI            101\n",
       "MPATH           78\n",
       "HsapDv          16\n",
       "BFO             16\n",
       "NCBITaxon       13\n",
       "CARO             9\n",
       "Name: id, dtype: int64"
      ]
     },
     "execution_count": 23,
     "metadata": {},
     "output_type": "execute_result"
    }
   ],
   "source": [
    "uri_col = 'id'\n",
    "dfp.expand_df_on_col(pheno_info_df, uri_col).dropna(subset=[uri_col])[uri_col].apply(lambda s: s.split(':')[0]).value_counts().head(15)"
   ]
  },
  {
   "cell_type": "code",
   "execution_count": 24,
   "metadata": {},
   "outputs": [
    {
     "data": {
      "text/plain": [
       "UMLS           14597\n",
       "SNOMEDCT_US     4672\n",
       "FMA             3347\n",
       "EMAPA           2849\n",
       "MSH             2176\n",
       "MA              1956\n",
       "NCIT            1840\n",
       "PMID            1702\n",
       "EHDAA2          1092\n",
       "BTO              961\n",
       "VHOG             910\n",
       "EHDAA            717\n",
       "MESH             670\n",
       "ZFA              662\n",
       "TAO              630\n",
       "Name: xrefs, dtype: int64"
      ]
     },
     "execution_count": 24,
     "metadata": {},
     "output_type": "execute_result"
    }
   ],
   "source": [
    "uri_col = 'xrefs'\n",
    "dfp.expand_df_on_col(pheno_info_df, uri_col).dropna(subset=[uri_col])[uri_col].apply(lambda s: s.split(':')[0]).value_counts().head(15)"
   ]
  },
  {
   "cell_type": "code",
   "execution_count": 25,
   "metadata": {},
   "outputs": [
    {
     "data": {
      "text/html": [
       "<div>\n",
       "<style scoped>\n",
       "    .dataframe tbody tr th:only-of-type {\n",
       "        vertical-align: middle;\n",
       "    }\n",
       "\n",
       "    .dataframe tbody tr th {\n",
       "        vertical-align: top;\n",
       "    }\n",
       "\n",
       "    .dataframe thead th {\n",
       "        text-align: right;\n",
       "    }\n",
       "</style>\n",
       "<table border=\"1\" class=\"dataframe\">\n",
       "  <thead>\n",
       "    <tr style=\"text-align: right;\">\n",
       "      <th></th>\n",
       "      <th>id</th>\n",
       "      <th>name</th>\n",
       "      <th>synonyms</th>\n",
       "      <th>xrefs</th>\n",
       "      <th>alt_ids</th>\n",
       "      <th>subsets</th>\n",
       "    </tr>\n",
       "  </thead>\n",
       "  <tbody>\n",
       "    <tr>\n",
       "      <th>15816</th>\n",
       "      <td>HP:0030557</td>\n",
       "      <td>Best corrected visual acuity 0.4 LogMAR</td>\n",
       "      <td>NaN</td>\n",
       "      <td>[UMLS:C4073030]</td>\n",
       "      <td>NaN</td>\n",
       "      <td>NaN</td>\n",
       "    </tr>\n",
       "    <tr>\n",
       "      <th>19611</th>\n",
       "      <td>HP:0100860</td>\n",
       "      <td>Dilatation of Inferior mesenteric artery</td>\n",
       "      <td>NaN</td>\n",
       "      <td>[UMLS:C0340625, SNOMEDCT_US:195289005]</td>\n",
       "      <td>NaN</td>\n",
       "      <td>NaN</td>\n",
       "    </tr>\n",
       "    <tr>\n",
       "      <th>9200</th>\n",
       "      <td>HP:0006257</td>\n",
       "      <td>Abnormality of carpal bone ossification</td>\n",
       "      <td>[Abnormal ankle bone maturation]</td>\n",
       "      <td>[UMLS:C4025075]</td>\n",
       "      <td>NaN</td>\n",
       "      <td>NaN</td>\n",
       "    </tr>\n",
       "    <tr>\n",
       "      <th>9305</th>\n",
       "      <td>HP:0006436</td>\n",
       "      <td>obsolete Shortening of the tibia</td>\n",
       "      <td>NaN</td>\n",
       "      <td>NaN</td>\n",
       "      <td>NaN</td>\n",
       "      <td>NaN</td>\n",
       "    </tr>\n",
       "    <tr>\n",
       "      <th>5738</th>\n",
       "      <td>HP:0000993</td>\n",
       "      <td>Molluscoid pseudotumors</td>\n",
       "      <td>[Molluscoid pseudotumor]</td>\n",
       "      <td>[UMLS:C1844597]</td>\n",
       "      <td>NaN</td>\n",
       "      <td>NaN</td>\n",
       "    </tr>\n",
       "    <tr>\n",
       "      <th>12676</th>\n",
       "      <td>HP:0011062</td>\n",
       "      <td>Misalignment of incisors</td>\n",
       "      <td>[Crooked front teeth, Crooked incisors, Misali...</td>\n",
       "      <td>[UMLS:C4023556, UMLS:C4280343]</td>\n",
       "      <td>NaN</td>\n",
       "      <td>NaN</td>\n",
       "    </tr>\n",
       "    <tr>\n",
       "      <th>8372</th>\n",
       "      <td>HP:0004839</td>\n",
       "      <td>Pyropoikilocytosis</td>\n",
       "      <td>[hereditary pyropoikilocytosis]</td>\n",
       "      <td>[MSH:C563004, UMLS:C0520739, SNOMEDCT_US:9434008]</td>\n",
       "      <td>[HP:0004805]</td>\n",
       "      <td>NaN</td>\n",
       "    </tr>\n",
       "    <tr>\n",
       "      <th>10790</th>\n",
       "      <td>HP:0009007</td>\n",
       "      <td>Biceps hypoplasia</td>\n",
       "      <td>[Underdeveloped biceps, Hypoplastic biceps]</td>\n",
       "      <td>[UMLS:C1862499]</td>\n",
       "      <td>NaN</td>\n",
       "      <td>NaN</td>\n",
       "    </tr>\n",
       "    <tr>\n",
       "      <th>15137</th>\n",
       "      <td>HP:0025493</td>\n",
       "      <td>Palmoplantar erythema</td>\n",
       "      <td>NaN</td>\n",
       "      <td>NaN</td>\n",
       "      <td>NaN</td>\n",
       "      <td>NaN</td>\n",
       "    </tr>\n",
       "    <tr>\n",
       "      <th>15693</th>\n",
       "      <td>HP:0030431</td>\n",
       "      <td>Osteochondroma</td>\n",
       "      <td>[Osteochondromas, Osteocartilaginous exostoses]</td>\n",
       "      <td>[SNOMEDCT_US:52299001, SNOMEDCT_US:307573009, ...</td>\n",
       "      <td>NaN</td>\n",
       "      <td>NaN</td>\n",
       "    </tr>\n",
       "  </tbody>\n",
       "</table>\n",
       "</div>"
      ],
      "text/plain": [
       "               id                                      name  \\\n",
       "15816  HP:0030557   Best corrected visual acuity 0.4 LogMAR   \n",
       "19611  HP:0100860  Dilatation of Inferior mesenteric artery   \n",
       "9200   HP:0006257   Abnormality of carpal bone ossification   \n",
       "9305   HP:0006436          obsolete Shortening of the tibia   \n",
       "5738   HP:0000993                   Molluscoid pseudotumors   \n",
       "12676  HP:0011062                  Misalignment of incisors   \n",
       "8372   HP:0004839                        Pyropoikilocytosis   \n",
       "10790  HP:0009007                         Biceps hypoplasia   \n",
       "15137  HP:0025493                     Palmoplantar erythema   \n",
       "15693  HP:0030431                            Osteochondroma   \n",
       "\n",
       "                                                synonyms  \\\n",
       "15816                                                NaN   \n",
       "19611                                                NaN   \n",
       "9200                    [Abnormal ankle bone maturation]   \n",
       "9305                                                 NaN   \n",
       "5738                            [Molluscoid pseudotumor]   \n",
       "12676  [Crooked front teeth, Crooked incisors, Misali...   \n",
       "8372                     [hereditary pyropoikilocytosis]   \n",
       "10790        [Underdeveloped biceps, Hypoplastic biceps]   \n",
       "15137                                                NaN   \n",
       "15693    [Osteochondromas, Osteocartilaginous exostoses]   \n",
       "\n",
       "                                                   xrefs       alt_ids subsets  \n",
       "15816                                    [UMLS:C4073030]           NaN     NaN  \n",
       "19611             [UMLS:C0340625, SNOMEDCT_US:195289005]           NaN     NaN  \n",
       "9200                                     [UMLS:C4025075]           NaN     NaN  \n",
       "9305                                                 NaN           NaN     NaN  \n",
       "5738                                     [UMLS:C1844597]           NaN     NaN  \n",
       "12676                     [UMLS:C4023556, UMLS:C4280343]           NaN     NaN  \n",
       "8372   [MSH:C563004, UMLS:C0520739, SNOMEDCT_US:9434008]  [HP:0004805]     NaN  \n",
       "10790                                    [UMLS:C1862499]           NaN     NaN  \n",
       "15137                                                NaN           NaN     NaN  \n",
       "15693  [SNOMEDCT_US:52299001, SNOMEDCT_US:307573009, ...           NaN     NaN  "
      ]
     },
     "execution_count": 25,
     "metadata": {},
     "output_type": "execute_result"
    }
   ],
   "source": [
    "hpo_idx = pheno_info_df['id'].str.startswith('HP:')\n",
    "pheno_info_df[hpo_idx].sample(10)"
   ]
  },
  {
   "cell_type": "code",
   "execution_count": 26,
   "metadata": {},
   "outputs": [
    {
     "data": {
      "text/plain": [
       "UMLS           13041\n",
       "SNOMEDCT_US     4672\n",
       "MSH             2176\n",
       "Fyler            222\n",
       "NCIT             219\n",
       "MEDDRA            93\n",
       "ICD-10            38\n",
       "EPCC              13\n",
       "MP                10\n",
       "ORPHA              6\n",
       "MPATH              4\n",
       "ICD-O              3\n",
       "ICD-9              3\n",
       "SNOMED_CT          2\n",
       "DOID               1\n",
       "EFO                1\n",
       "ICD9               1\n",
       "COHD               1\n",
       "ICD10              1\n",
       "Name: xrefs, dtype: int64"
      ]
     },
     "execution_count": 26,
     "metadata": {},
     "output_type": "execute_result"
    }
   ],
   "source": [
    "uri_col = 'xrefs'\n",
    "dfp.expand_df_on_col(pheno_info_df[hpo_idx], uri_col).dropna(subset=[uri_col])[uri_col].apply(lambda s: s.split(':')[0]).value_counts()"
   ]
  },
  {
   "cell_type": "code",
   "execution_count": 27,
   "metadata": {},
   "outputs": [],
   "source": [
    "for col in ['synonyms', 'xrefs', 'alt_ids', 'subsets']:\n",
    "    pheno_info_df[col] = pheno_info_df[col].apply(lambda s: dfp.char_combine_iter(s) if type(s) != float else s)"
   ]
  },
  {
   "cell_type": "code",
   "execution_count": 28,
   "metadata": {},
   "outputs": [],
   "source": [
    "pheno_info_df.to_csv(out_dir.joinpath('HP_node_info.csv'), index=False)"
   ]
  },
  {
   "cell_type": "code",
   "execution_count": 29,
   "metadata": {},
   "outputs": [],
   "source": [
    "pheno_rel_df = pd.DataFrame(pheno_rel_json)"
   ]
  },
  {
   "cell_type": "code",
   "execution_count": 30,
   "metadata": {},
   "outputs": [],
   "source": [
    "pheno_rel_df = pheno_rel_df.dropna(subset=['objs'])"
   ]
  },
  {
   "cell_type": "code",
   "execution_count": 31,
   "metadata": {},
   "outputs": [
    {
     "data": {
      "text/html": [
       "<div>\n",
       "<style scoped>\n",
       "    .dataframe tbody tr th:only-of-type {\n",
       "        vertical-align: middle;\n",
       "    }\n",
       "\n",
       "    .dataframe tbody tr th {\n",
       "        vertical-align: top;\n",
       "    }\n",
       "\n",
       "    .dataframe thead th {\n",
       "        text-align: right;\n",
       "    }\n",
       "</style>\n",
       "<table border=\"1\" class=\"dataframe\">\n",
       "  <thead>\n",
       "    <tr style=\"text-align: right;\">\n",
       "      <th></th>\n",
       "      <th>sbjs</th>\n",
       "      <th>objs</th>\n",
       "    </tr>\n",
       "  </thead>\n",
       "  <tbody>\n",
       "    <tr>\n",
       "      <th>0</th>\n",
       "      <td>gene:symbol:report?hgnc:id=10658</td>\n",
       "      <td>NCBITaxon:9606</td>\n",
       "    </tr>\n",
       "    <tr>\n",
       "      <th>1</th>\n",
       "      <td>gene:symbol:report?hgnc:id=10720</td>\n",
       "      <td>NCBITaxon:9606</td>\n",
       "    </tr>\n",
       "    <tr>\n",
       "      <th>2</th>\n",
       "      <td>gene:symbol:report?hgnc:id=10903</td>\n",
       "      <td>NCBITaxon:9606</td>\n",
       "    </tr>\n",
       "    <tr>\n",
       "      <th>3</th>\n",
       "      <td>gene:symbol:report?hgnc:id=11241</td>\n",
       "      <td>NCBITaxon:9606</td>\n",
       "    </tr>\n",
       "    <tr>\n",
       "      <th>4</th>\n",
       "      <td>gene:symbol:report?hgnc:id=11249</td>\n",
       "      <td>NCBITaxon:9606</td>\n",
       "    </tr>\n",
       "    <tr>\n",
       "      <th>...</th>\n",
       "      <td>...</td>\n",
       "      <td>...</td>\n",
       "    </tr>\n",
       "    <tr>\n",
       "      <th>32702</th>\n",
       "      <td>UBERON:8300002</td>\n",
       "      <td>UBERON:0010708</td>\n",
       "    </tr>\n",
       "    <tr>\n",
       "      <th>32703</th>\n",
       "      <td>UBERON:8300003</td>\n",
       "      <td>UBERON:0010709</td>\n",
       "    </tr>\n",
       "    <tr>\n",
       "      <th>32704</th>\n",
       "      <td>UBERON:8300003</td>\n",
       "      <td>UBERON:0010709</td>\n",
       "    </tr>\n",
       "    <tr>\n",
       "      <th>32705</th>\n",
       "      <td>UBERON:8300004</td>\n",
       "      <td>UBERON:0010709</td>\n",
       "    </tr>\n",
       "    <tr>\n",
       "      <th>32706</th>\n",
       "      <td>UBERON:8300004</td>\n",
       "      <td>UBERON:0010709</td>\n",
       "    </tr>\n",
       "  </tbody>\n",
       "</table>\n",
       "<p>32707 rows × 2 columns</p>\n",
       "</div>"
      ],
      "text/plain": [
       "                                   sbjs            objs\n",
       "0      gene:symbol:report?hgnc:id=10658  NCBITaxon:9606\n",
       "1      gene:symbol:report?hgnc:id=10720  NCBITaxon:9606\n",
       "2      gene:symbol:report?hgnc:id=10903  NCBITaxon:9606\n",
       "3      gene:symbol:report?hgnc:id=11241  NCBITaxon:9606\n",
       "4      gene:symbol:report?hgnc:id=11249  NCBITaxon:9606\n",
       "...                                 ...             ...\n",
       "32702                    UBERON:8300002  UBERON:0010708\n",
       "32703                    UBERON:8300003  UBERON:0010709\n",
       "32704                    UBERON:8300003  UBERON:0010709\n",
       "32705                    UBERON:8300004  UBERON:0010709\n",
       "32706                    UBERON:8300004  UBERON:0010709\n",
       "\n",
       "[32707 rows x 2 columns]"
      ]
     },
     "execution_count": 31,
     "metadata": {},
     "output_type": "execute_result"
    }
   ],
   "source": [
    "pheno_rel_df = dfp.expand_df_on_col(pheno_rel_df, 'objs')\n",
    "pheno_rel_df"
   ]
  },
  {
   "cell_type": "code",
   "execution_count": 32,
   "metadata": {},
   "outputs": [
    {
     "data": {
      "text/plain": [
       "UBERON                  18561\n",
       "PATO                     6608\n",
       "GO                       3351\n",
       "CHEBI                    1716\n",
       "NCBITaxon                 722\n",
       "PR                        707\n",
       "CL                        408\n",
       "SO                        185\n",
       "gene                      106\n",
       "MGI                       103\n",
       "NBO                        87\n",
       "HP                         75\n",
       "HsapDv                     29\n",
       "MPATH                      18\n",
       "MOD                        12\n",
       "CP                         10\n",
       "BFO                         4\n",
       "ZDB-GENE-980526-110         1\n",
       "ZDB-GENE-030131-1577        1\n",
       "ZDB-GENE-980526-501         1\n",
       "ZDB-GENE-041001-112         1\n",
       "ZDB-GENE-000210-20          1\n",
       "Name: objs, dtype: int64"
      ]
     },
     "execution_count": 32,
     "metadata": {},
     "output_type": "execute_result"
    }
   ],
   "source": [
    "pheno_rel_df['objs'].apply(lambda s: s.split(':')[0]).value_counts().head(50)"
   ]
  },
  {
   "cell_type": "code",
   "execution_count": 33,
   "metadata": {},
   "outputs": [],
   "source": [
    "hpo_idx = pheno_rel_df['sbjs'].str.startswith('HP:') |  pheno_rel_df['objs'].str.startswith('HP:')"
   ]
  },
  {
   "cell_type": "code",
   "execution_count": 34,
   "metadata": {},
   "outputs": [
    {
     "data": {
      "text/plain": [
       "PATO      6325\n",
       "UBERON    5663\n",
       "GO         282\n",
       "CL         220\n",
       "HP          75\n",
       "NBO         72\n",
       "CHEBI       46\n",
       "PR          27\n",
       "MPATH       18\n",
       "HsapDv      10\n",
       "Name: objs, dtype: int64"
      ]
     },
     "execution_count": 34,
     "metadata": {},
     "output_type": "execute_result"
    }
   ],
   "source": [
    "pheno_rel_df[hpo_idx]['objs'].apply(lambda s: s.split(':')[0]).value_counts().head(50)"
   ]
  },
  {
   "cell_type": "code",
   "execution_count": 35,
   "metadata": {},
   "outputs": [
    {
     "data": {
      "text/plain": [
       "HP    12738\n",
       "Name: sbjs, dtype: int64"
      ]
     },
     "execution_count": 35,
     "metadata": {},
     "output_type": "execute_result"
    }
   ],
   "source": [
    "pheno_rel_df[hpo_idx]['sbjs'].apply(lambda s: s.split(':')[0]).value_counts().head(50)"
   ]
  },
  {
   "cell_type": "code",
   "execution_count": 36,
   "metadata": {},
   "outputs": [],
   "source": [
    "def get_uri_edges(curi, edges):\n",
    "    idx = edges['sbjs'].str.startswith(curi+':') | edges['objs'].str.startswith(curi+':')\n",
    "    return edges[idx]"
   ]
  },
  {
   "cell_type": "code",
   "execution_count": 37,
   "metadata": {},
   "outputs": [
    {
     "data": {
      "text/plain": [
       "PR                      504\n",
       "gene                    106\n",
       "MGI                     101\n",
       "CL                        6\n",
       "ZDB-GENE-980526-110       1\n",
       "ZDB-GENE-980526-501       1\n",
       "ZDB-GENE-041001-112       1\n",
       "ZDB-GENE-030131-1577      1\n",
       "ZDB-GENE-000210-20        1\n",
       "Name: sbjs, dtype: int64"
      ]
     },
     "execution_count": 37,
     "metadata": {},
     "output_type": "execute_result"
    }
   ],
   "source": [
    "get_uri_edges('NCBITaxon', pheno_rel_df)['sbjs'].apply(lambda s: s.split(':')[0]).value_counts().head(50)"
   ]
  },
  {
   "cell_type": "code",
   "execution_count": 38,
   "metadata": {},
   "outputs": [
    {
     "data": {
      "text/html": [
       "<div>\n",
       "<style scoped>\n",
       "    .dataframe tbody tr th:only-of-type {\n",
       "        vertical-align: middle;\n",
       "    }\n",
       "\n",
       "    .dataframe tbody tr th {\n",
       "        vertical-align: top;\n",
       "    }\n",
       "\n",
       "    .dataframe thead th {\n",
       "        text-align: right;\n",
       "    }\n",
       "</style>\n",
       "<table border=\"1\" class=\"dataframe\">\n",
       "  <thead>\n",
       "    <tr style=\"text-align: right;\">\n",
       "      <th></th>\n",
       "      <th>sbjs</th>\n",
       "      <th>objs</th>\n",
       "    </tr>\n",
       "  </thead>\n",
       "  <tbody>\n",
       "    <tr>\n",
       "      <th>2237</th>\n",
       "      <td>CL:0000738</td>\n",
       "      <td>NCBITaxon:7742</td>\n",
       "    </tr>\n",
       "    <tr>\n",
       "      <th>2751</th>\n",
       "      <td>CL:0001062</td>\n",
       "      <td>NCBITaxon:9606</td>\n",
       "    </tr>\n",
       "    <tr>\n",
       "      <th>2774</th>\n",
       "      <td>CL:0001200</td>\n",
       "      <td>NCBITaxon:40674</td>\n",
       "    </tr>\n",
       "    <tr>\n",
       "      <th>2776</th>\n",
       "      <td>CL:0001201</td>\n",
       "      <td>NCBITaxon:40674</td>\n",
       "    </tr>\n",
       "    <tr>\n",
       "      <th>2780</th>\n",
       "      <td>CL:0001203</td>\n",
       "      <td>NCBITaxon:9606</td>\n",
       "    </tr>\n",
       "    <tr>\n",
       "      <th>2788</th>\n",
       "      <td>CL:0001204</td>\n",
       "      <td>NCBITaxon:9606</td>\n",
       "    </tr>\n",
       "  </tbody>\n",
       "</table>\n",
       "</div>"
      ],
      "text/plain": [
       "            sbjs             objs\n",
       "2237  CL:0000738   NCBITaxon:7742\n",
       "2751  CL:0001062   NCBITaxon:9606\n",
       "2774  CL:0001200  NCBITaxon:40674\n",
       "2776  CL:0001201  NCBITaxon:40674\n",
       "2780  CL:0001203   NCBITaxon:9606\n",
       "2788  CL:0001204   NCBITaxon:9606"
      ]
     },
     "execution_count": 38,
     "metadata": {},
     "output_type": "execute_result"
    }
   ],
   "source": [
    "get_uri_edges('CL', get_uri_edges('NCBITaxon', pheno_rel_df)).head(50)"
   ]
  },
  {
   "cell_type": "code",
   "execution_count": 39,
   "metadata": {},
   "outputs": [
    {
     "data": {
      "text/plain": [
       "12738"
      ]
     },
     "execution_count": 39,
     "metadata": {},
     "output_type": "execute_result"
    }
   ],
   "source": [
    "len(pheno_rel_df[hpo_idx])"
   ]
  },
  {
   "cell_type": "code",
   "execution_count": 40,
   "metadata": {},
   "outputs": [],
   "source": [
    "pheno_rel_df.to_csv(out_dir.joinpath('HP_edge_info.csv'), index=False)"
   ]
  },
  {
   "cell_type": "markdown",
   "metadata": {},
   "source": [
    "## Parse Symptoms"
   ]
  },
  {
   "cell_type": "code",
   "execution_count": 41,
   "metadata": {},
   "outputs": [],
   "source": [
    "symp = ontospy.Ontospy('http://purl.obolibrary.org/obo/symp.owl')"
   ]
  },
  {
   "cell_type": "code",
   "execution_count": 42,
   "metadata": {},
   "outputs": [],
   "source": [
    "symp_info_json = list()\n",
    "symp_rel_json = list()\n",
    "\n",
    "for e in symp.all_classes:\n",
    "    symp_info_json.append(get_concept_info(e))\n",
    "    symp_rel_json.append(get_relationship_info(e))"
   ]
  },
  {
   "cell_type": "code",
   "execution_count": 43,
   "metadata": {},
   "outputs": [
    {
     "data": {
      "text/html": [
       "<div>\n",
       "<style scoped>\n",
       "    .dataframe tbody tr th:only-of-type {\n",
       "        vertical-align: middle;\n",
       "    }\n",
       "\n",
       "    .dataframe tbody tr th {\n",
       "        vertical-align: top;\n",
       "    }\n",
       "\n",
       "    .dataframe thead th {\n",
       "        text-align: right;\n",
       "    }\n",
       "</style>\n",
       "<table border=\"1\" class=\"dataframe\">\n",
       "  <thead>\n",
       "    <tr style=\"text-align: right;\">\n",
       "      <th></th>\n",
       "      <th>id</th>\n",
       "      <th>name</th>\n",
       "      <th>synonyms</th>\n",
       "      <th>xrefs</th>\n",
       "      <th>alt_ids</th>\n",
       "      <th>subsets</th>\n",
       "    </tr>\n",
       "  </thead>\n",
       "  <tbody>\n",
       "    <tr>\n",
       "      <th>447</th>\n",
       "      <td>SYMP:0000448</td>\n",
       "      <td>epistaxis</td>\n",
       "      <td>[nosebleed]</td>\n",
       "      <td>[UMLS_ICD9CM_2005_AUI:A0055387, SyOID:10057, I...</td>\n",
       "      <td>NaN</td>\n",
       "      <td>NaN</td>\n",
       "    </tr>\n",
       "    <tr>\n",
       "      <th>448</th>\n",
       "      <td>SYMP:0000449</td>\n",
       "      <td>cardiogenic shock</td>\n",
       "      <td>NaN</td>\n",
       "      <td>[UMLS_CUI:C0036980, UMLS_ICD9CM_2005_AUI:A0243...</td>\n",
       "      <td>NaN</td>\n",
       "      <td>NaN</td>\n",
       "    </tr>\n",
       "    <tr>\n",
       "      <th>449</th>\n",
       "      <td>SYMP:0000450</td>\n",
       "      <td>shock</td>\n",
       "      <td>NaN</td>\n",
       "      <td>[ICD9CM_2005:785.5, UMLS_CUI:C0159051, UMLS_IC...</td>\n",
       "      <td>NaN</td>\n",
       "      <td>NaN</td>\n",
       "    </tr>\n",
       "    <tr>\n",
       "      <th>450</th>\n",
       "      <td>SYMP:0000451</td>\n",
       "      <td>septic shock</td>\n",
       "      <td>NaN</td>\n",
       "      <td>[SyOID:10220, UMLS_CUI:C0036983, ICD9CM_2005:7...</td>\n",
       "      <td>NaN</td>\n",
       "      <td>NaN</td>\n",
       "    </tr>\n",
       "    <tr>\n",
       "      <th>451</th>\n",
       "      <td>SYMP:0000452</td>\n",
       "      <td>abnormal sputum</td>\n",
       "      <td>NaN</td>\n",
       "      <td>[UMLS_ICD9CM_2005_AUI:A0284206, SyOID:10681, U...</td>\n",
       "      <td>NaN</td>\n",
       "      <td>NaN</td>\n",
       "    </tr>\n",
       "    <tr>\n",
       "      <th>...</th>\n",
       "      <td>...</td>\n",
       "      <td>...</td>\n",
       "      <td>...</td>\n",
       "      <td>...</td>\n",
       "      <td>...</td>\n",
       "      <td>...</td>\n",
       "    </tr>\n",
       "    <tr>\n",
       "      <th>813</th>\n",
       "      <td>SYMP:0000818</td>\n",
       "      <td>localized superficial mass</td>\n",
       "      <td>NaN</td>\n",
       "      <td>[ICD9CM_2005:782.2]</td>\n",
       "      <td>NaN</td>\n",
       "      <td>NaN</td>\n",
       "    </tr>\n",
       "    <tr>\n",
       "      <th>814</th>\n",
       "      <td>SYMP:0000819</td>\n",
       "      <td>localized superficial swelling</td>\n",
       "      <td>NaN</td>\n",
       "      <td>[ICD9CM_2005:782.2]</td>\n",
       "      <td>NaN</td>\n",
       "      <td>NaN</td>\n",
       "    </tr>\n",
       "    <tr>\n",
       "      <th>815</th>\n",
       "      <td>SYMP:0000820</td>\n",
       "      <td>mass in chest</td>\n",
       "      <td>NaN</td>\n",
       "      <td>[ICD9CM_2005:786.6]</td>\n",
       "      <td>NaN</td>\n",
       "      <td>NaN</td>\n",
       "    </tr>\n",
       "    <tr>\n",
       "      <th>816</th>\n",
       "      <td>SYMP:0000821</td>\n",
       "      <td>swelling in chest</td>\n",
       "      <td>NaN</td>\n",
       "      <td>[ICD9CM_2005:&lt;new dbxref&gt;]</td>\n",
       "      <td>NaN</td>\n",
       "      <td>NaN</td>\n",
       "    </tr>\n",
       "    <tr>\n",
       "      <th>847</th>\n",
       "      <td>SYMP:0000852</td>\n",
       "      <td>anuria</td>\n",
       "      <td>NaN</td>\n",
       "      <td>[UMLS_ICD9CM_2005_AUI:A0243854, ICD9CM_2005:78...</td>\n",
       "      <td>NaN</td>\n",
       "      <td>NaN</td>\n",
       "    </tr>\n",
       "  </tbody>\n",
       "</table>\n",
       "<p>184 rows × 6 columns</p>\n",
       "</div>"
      ],
      "text/plain": [
       "               id                            name     synonyms  \\\n",
       "447  SYMP:0000448                       epistaxis  [nosebleed]   \n",
       "448  SYMP:0000449               cardiogenic shock          NaN   \n",
       "449  SYMP:0000450                           shock          NaN   \n",
       "450  SYMP:0000451                    septic shock          NaN   \n",
       "451  SYMP:0000452                 abnormal sputum          NaN   \n",
       "..            ...                             ...          ...   \n",
       "813  SYMP:0000818      localized superficial mass          NaN   \n",
       "814  SYMP:0000819  localized superficial swelling          NaN   \n",
       "815  SYMP:0000820                   mass in chest          NaN   \n",
       "816  SYMP:0000821               swelling in chest          NaN   \n",
       "847  SYMP:0000852                          anuria          NaN   \n",
       "\n",
       "                                                 xrefs alt_ids  subsets  \n",
       "447  [UMLS_ICD9CM_2005_AUI:A0055387, SyOID:10057, I...     NaN      NaN  \n",
       "448  [UMLS_CUI:C0036980, UMLS_ICD9CM_2005_AUI:A0243...     NaN      NaN  \n",
       "449  [ICD9CM_2005:785.5, UMLS_CUI:C0159051, UMLS_IC...     NaN      NaN  \n",
       "450  [SyOID:10220, UMLS_CUI:C0036983, ICD9CM_2005:7...     NaN      NaN  \n",
       "451  [UMLS_ICD9CM_2005_AUI:A0284206, SyOID:10681, U...     NaN      NaN  \n",
       "..                                                 ...     ...      ...  \n",
       "813                                [ICD9CM_2005:782.2]     NaN      NaN  \n",
       "814                                [ICD9CM_2005:782.2]     NaN      NaN  \n",
       "815                                [ICD9CM_2005:786.6]     NaN      NaN  \n",
       "816                         [ICD9CM_2005:<new dbxref>]     NaN      NaN  \n",
       "847  [UMLS_ICD9CM_2005_AUI:A0243854, ICD9CM_2005:78...     NaN      NaN  \n",
       "\n",
       "[184 rows x 6 columns]"
      ]
     },
     "execution_count": 43,
     "metadata": {},
     "output_type": "execute_result"
    }
   ],
   "source": [
    "pd.DataFrame(symp_info_json).dropna(subset=['xrefs'])"
   ]
  },
  {
   "cell_type": "code",
   "execution_count": 44,
   "metadata": {},
   "outputs": [],
   "source": [
    "symp_df = pd.DataFrame(symp_info_json)"
   ]
  },
  {
   "cell_type": "code",
   "execution_count": 45,
   "metadata": {},
   "outputs": [
    {
     "data": {
      "text/plain": [
       "945"
      ]
     },
     "execution_count": 45,
     "metadata": {},
     "output_type": "execute_result"
    }
   ],
   "source": [
    "len(symp_df)"
   ]
  },
  {
   "cell_type": "code",
   "execution_count": 46,
   "metadata": {},
   "outputs": [],
   "source": [
    "for col in ['synonyms', 'xrefs', 'alt_ids', 'subsets']:\n",
    "    symp_df[col] = symp_df[col].apply(lambda s: dfp.char_combine_iter(s) if type(s) != float else s)"
   ]
  },
  {
   "cell_type": "code",
   "execution_count": 47,
   "metadata": {},
   "outputs": [],
   "source": [
    "symp_df = symp_df.drop('subsets', axis=1)\n",
    "symp_df.to_csv(out_dir.joinpath('SYMP_node_info.csv'), index=False)"
   ]
  },
  {
   "cell_type": "code",
   "execution_count": 48,
   "metadata": {},
   "outputs": [
    {
     "data": {
      "text/html": [
       "<div>\n",
       "<style scoped>\n",
       "    .dataframe tbody tr th:only-of-type {\n",
       "        vertical-align: middle;\n",
       "    }\n",
       "\n",
       "    .dataframe tbody tr th {\n",
       "        vertical-align: top;\n",
       "    }\n",
       "\n",
       "    .dataframe thead th {\n",
       "        text-align: right;\n",
       "    }\n",
       "</style>\n",
       "<table border=\"1\" class=\"dataframe\">\n",
       "  <thead>\n",
       "    <tr style=\"text-align: right;\">\n",
       "      <th></th>\n",
       "      <th>sbjs</th>\n",
       "      <th>objs</th>\n",
       "    </tr>\n",
       "  </thead>\n",
       "  <tbody>\n",
       "  </tbody>\n",
       "</table>\n",
       "</div>"
      ],
      "text/plain": [
       "Empty DataFrame\n",
       "Columns: [sbjs, objs]\n",
       "Index: []"
      ]
     },
     "execution_count": 48,
     "metadata": {},
     "output_type": "execute_result"
    }
   ],
   "source": [
    "pd.DataFrame(symp_rel_json).dropna(subset=['objs'])"
   ]
  },
  {
   "cell_type": "markdown",
   "metadata": {},
   "source": [
    "No relationships to save..."
   ]
  }
 ],
 "metadata": {
  "kernelspec": {
   "display_name": "Python 3",
   "language": "python",
   "name": "python3"
  },
  "language_info": {
   "codemirror_mode": {
    "name": "ipython",
    "version": 3
   },
   "file_extension": ".py",
   "mimetype": "text/x-python",
   "name": "python",
   "nbconvert_exporter": "python",
   "pygments_lexer": "ipython3",
   "version": "3.6.8"
  }
 },
 "nbformat": 4,
 "nbformat_minor": 2
}
