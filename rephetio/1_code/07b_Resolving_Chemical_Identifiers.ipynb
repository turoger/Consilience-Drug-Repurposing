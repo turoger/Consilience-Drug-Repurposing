{
 "cells": [
  {
   "cell_type": "markdown",
   "metadata": {},
   "source": [
    "# Resolving Differeing chemicial identifiers from 3 data-sources\n",
    "\n",
    "**Caution:** This notebook is a mess.  It was built on a previous pipline where the standard ID was different. It's overdue for a full refactor, but for now it runs ok in the current pipeline. \n",
    "\n",
    "Compound identifiers are a mess.  We have 3 different sources of data, each with 3 different primary identifiers... Previously we used CTD (MESH), which also has some ChEBI terms included. Next we looked up records from Inxight Drugs, which happen to use UNII as the primary identifier.  We've converted as many as possilbe to Inchi-key.  Finally, we will be incorporating ReFRAME, which uses Inchi-key as the primary identifier. Many Steps will be required to get maximum overlap from the 3 data Sources.\n",
    "\n",
    "1. We must resolve mappings from ChEBI to MeSH.\n",
    "    - ChEBI and MeSH both have tree-like (ontology) structure and many higher-level terms (like chemical classes) are similar\n",
    "    - Direct mappings between ChEBI and MeSH are difficult to come by\n",
    "    - The following may have some direct mappings\n",
    "        - mychem.info\n",
    "        - wikidata\n",
    "    - Indirect mappings through other Identifiers may also be useful\n",
    "2. We need maps from this ChEBI/MeSH to UNII and InchiKey\n",
    "    - ChEBI to Inchi-key is well definied \n",
    "    - inchikey to unii is only somewhat defined, large percnetage missing\n",
    "3. String Matching will be usd as a last resort\n",
    "    "
   ]
  },
  {
   "cell_type": "code",
   "execution_count": 1,
   "metadata": {},
   "outputs": [
    {
     "name": "stderr",
     "output_type": "stream",
     "text": [
      "/home/mmayers/software/miniconda3/envs/ml/lib/python3.7/site-packages/data_tools/df_processing.py:4: TqdmExperimentalWarning: Using `tqdm.autonotebook.tqdm` in notebook mode. Use `tqdm.tqdm` instead to force console mode (e.g. in jupyter console)\n",
      "  from tqdm.autonotebook import tqdm\n"
     ]
    }
   ],
   "source": [
    "%matplotlib inline\n",
    "import pickle\n",
    "import zipfile\n",
    "import pandas as pd\n",
    "import seaborn as sns\n",
    "from pathlib import Path\n",
    "from itertools import chain\n",
    "import matplotlib.pyplot as plt\n",
    "\n",
    "from data_tools import graphs as gt\n",
    "from data_tools.files import load_api_results, download\n",
    "from data_tools.plotting import venn2_pretty, venn3_pretty\n",
    "from data_tools.wiki import execute_sparql_query, get_curi_xrefs\n",
    "from data_tools.obo_processing import get_ontology_edges, get_ontology_nodes, get_children_map\n",
    "from data_tools.df_processing import expand_col_on_char, expand_split_col, expand_df_on_col, \\\n",
    "                                     combine_group_cols_on_char, char_combine_frame\n",
    "import tools.biothings_processing as bp"
   ]
  },
  {
   "cell_type": "code",
   "execution_count": 2,
   "metadata": {},
   "outputs": [],
   "source": [
    "# Get Data Dir\n",
    "data_dir = Path('../2_pipeline/00_download_data/out/').resolve()\n",
    "\n",
    "# Get Output Directory ready\n",
    "this_file = '07b_Resolving_Chemical_Identifiers'\n",
    "out_dir = Path('../2_pipeline/').resolve()\n",
    "out_dir = out_dir.joinpath(this_file).joinpath('out')\n",
    "\n",
    "if not out_dir.exists():\n",
    "    out_dir.mkdir(parents=True)"
   ]
  },
  {
   "cell_type": "code",
   "execution_count": 3,
   "metadata": {},
   "outputs": [
    {
     "data": {
      "text/html": [
       "<div>\n",
       "<style scoped>\n",
       "    .dataframe tbody tr th:only-of-type {\n",
       "        vertical-align: middle;\n",
       "    }\n",
       "\n",
       "    .dataframe tbody tr th {\n",
       "        vertical-align: top;\n",
       "    }\n",
       "\n",
       "    .dataframe thead th {\n",
       "        text-align: right;\n",
       "    }\n",
       "</style>\n",
       "<table border=\"1\" class=\"dataframe\">\n",
       "  <thead>\n",
       "    <tr style=\"text-align: right;\">\n",
       "      <th></th>\n",
       "      <th>id</th>\n",
       "      <th>name</th>\n",
       "      <th>label</th>\n",
       "      <th>ikey</th>\n",
       "      <th>chebi_id</th>\n",
       "      <th>chembl_id</th>\n",
       "      <th>drugbank_id</th>\n",
       "      <th>unii_id</th>\n",
       "      <th>mesh_id</th>\n",
       "      <th>source</th>\n",
       "      <th>doid</th>\n",
       "      <th>meshid</th>\n",
       "      <th>xrefs</th>\n",
       "      <th>curi</th>\n",
       "    </tr>\n",
       "  </thead>\n",
       "  <tbody>\n",
       "    <tr>\n",
       "      <th>0</th>\n",
       "      <td>FZERHIULMFGESH-UHFFFAOYSA-N</td>\n",
       "      <td>Acetanilide</td>\n",
       "      <td>Compound</td>\n",
       "      <td>FZERHIULMFGESH-UHFFFAOYSA-N</td>\n",
       "      <td>CHEBI:28884</td>\n",
       "      <td>CHEMBL269644</td>\n",
       "      <td>NaN</td>\n",
       "      <td>SP86R356CC</td>\n",
       "      <td>MESH:C508827</td>\n",
       "      <td>ikey</td>\n",
       "      <td>NaN</td>\n",
       "      <td>NaN</td>\n",
       "      <td>NaN</td>\n",
       "      <td>NaN</td>\n",
       "    </tr>\n",
       "    <tr>\n",
       "      <th>1</th>\n",
       "      <td>SWMPGCCDXNLPED-NSCUHMNNSA-N</td>\n",
       "      <td>Acetylfuratrizine</td>\n",
       "      <td>Compound</td>\n",
       "      <td>SWMPGCCDXNLPED-NSCUHMNNSA-N</td>\n",
       "      <td>NaN</td>\n",
       "      <td>NaN</td>\n",
       "      <td>NaN</td>\n",
       "      <td>C50C4V19SU</td>\n",
       "      <td>MESH:C005910</td>\n",
       "      <td>ikey</td>\n",
       "      <td>NaN</td>\n",
       "      <td>NaN</td>\n",
       "      <td>NaN</td>\n",
       "      <td>NaN</td>\n",
       "    </tr>\n",
       "  </tbody>\n",
       "</table>\n",
       "</div>"
      ],
      "text/plain": [
       "                            id               name     label  \\\n",
       "0  FZERHIULMFGESH-UHFFFAOYSA-N        Acetanilide  Compound   \n",
       "1  SWMPGCCDXNLPED-NSCUHMNNSA-N  Acetylfuratrizine  Compound   \n",
       "\n",
       "                          ikey     chebi_id     chembl_id drugbank_id  \\\n",
       "0  FZERHIULMFGESH-UHFFFAOYSA-N  CHEBI:28884  CHEMBL269644         NaN   \n",
       "1  SWMPGCCDXNLPED-NSCUHMNNSA-N          NaN           NaN         NaN   \n",
       "\n",
       "      unii_id       mesh_id source doid meshid xrefs curi  \n",
       "0  SP86R356CC  MESH:C508827   ikey  NaN    NaN   NaN  NaN  \n",
       "1  C50C4V19SU  MESH:C005910   ikey  NaN    NaN   NaN  NaN  "
      ]
     },
     "execution_count": 3,
     "metadata": {},
     "output_type": "execute_result"
    }
   ],
   "source": [
    "ix_nodes = pd.read_csv('../2_pipeline/07a_NCATS_Inxight_Drugs_DB_and_DC/out/nodes_inxight.csv', dtype=str)\n",
    "ix_nodes.head(2)"
   ]
  },
  {
   "cell_type": "code",
   "execution_count": 4,
   "metadata": {},
   "outputs": [],
   "source": [
    "curi_map = {'ikey': 'IKEY', 'chembl_id': 'CHEMBL', 'drugbank_id': 'DB', 'unii_id': 'UNII',\n",
    "            'wikidata_itg': 'WD', 'wikidata_inf': 'WD'}\n",
    "\n",
    "def add_curis(df, curi_map):\n",
    "    for col in set(df.columns)&set(curi_map.keys()):\n",
    "        multi_col = df[col].str.contains('|', regex=False).fillna(False)\n",
    "        multi_idx = multi_col[multi_col].index\n",
    "        single_idx = multi_col[~multi_col].index\n",
    "        \n",
    "        df.loc[single_idx, col] = curi_map[col] + ':' + df.loc[single_idx, col]\n",
    "        df.loc[multi_idx, col] = df.loc[multi_idx, col].apply(lambda x: '|'.join(sorted([\n",
    "                                                        curi_map[col] + ':' + i for i in x.split('|')])))\n",
    "    return df"
   ]
  },
  {
   "cell_type": "code",
   "execution_count": 5,
   "metadata": {},
   "outputs": [],
   "source": [
    "ix_nodes = add_curis(ix_nodes, curi_map)"
   ]
  },
  {
   "cell_type": "code",
   "execution_count": 6,
   "metadata": {},
   "outputs": [
    {
     "data": {
      "text/plain": [
       "110526"
      ]
     },
     "execution_count": 6,
     "metadata": {},
     "output_type": "execute_result"
    }
   ],
   "source": [
    "comp_cols = ['id', 'name', 'label', 'chebi_id', 'chembl_id', 'drugbank_id', 'ikey', 'mesh_id', 'unii_id', 'source']\n",
    "ix_comps = ix_nodes.query('label == \"Compound\"').loc[:,comp_cols]\n",
    "len(ix_comps)"
   ]
  },
  {
   "cell_type": "code",
   "execution_count": 7,
   "metadata": {},
   "outputs": [
    {
     "data": {
      "text/html": [
       "<div>\n",
       "<style scoped>\n",
       "    .dataframe tbody tr th:only-of-type {\n",
       "        vertical-align: middle;\n",
       "    }\n",
       "\n",
       "    .dataframe tbody tr th {\n",
       "        vertical-align: top;\n",
       "    }\n",
       "\n",
       "    .dataframe thead th {\n",
       "        text-align: right;\n",
       "    }\n",
       "</style>\n",
       "<table border=\"1\" class=\"dataframe\">\n",
       "  <thead>\n",
       "    <tr style=\"text-align: right;\">\n",
       "      <th></th>\n",
       "      <th>id</th>\n",
       "      <th>name</th>\n",
       "      <th>label</th>\n",
       "      <th>xrefs</th>\n",
       "    </tr>\n",
       "  </thead>\n",
       "  <tbody>\n",
       "    <tr>\n",
       "      <th>52932</th>\n",
       "      <td>CHEBI:10</td>\n",
       "      <td>(+)-Atherospermoline</td>\n",
       "      <td>Compound</td>\n",
       "      <td>CHEBI:10|CHEMBL:CHEMBL500609|KEGG:C11141|PCID:...</td>\n",
       "    </tr>\n",
       "    <tr>\n",
       "      <th>52933</th>\n",
       "      <td>CHEBI:100</td>\n",
       "      <td>(-)-medicarpin</td>\n",
       "      <td>Compound</td>\n",
       "      <td>CHEBI:100|KEGG:C10503|PCID:336327|UNII:6TX086I6IG</td>\n",
       "    </tr>\n",
       "  </tbody>\n",
       "</table>\n",
       "</div>"
      ],
      "text/plain": [
       "              id                  name     label  \\\n",
       "52932   CHEBI:10  (+)-Atherospermoline  Compound   \n",
       "52933  CHEBI:100        (-)-medicarpin  Compound   \n",
       "\n",
       "                                                   xrefs  \n",
       "52932  CHEBI:10|CHEMBL:CHEMBL500609|KEGG:C11141|PCID:...  \n",
       "52933  CHEBI:100|KEGG:C10503|PCID:336327|UNII:6TX086I6IG  "
      ]
     },
     "execution_count": 7,
     "metadata": {},
     "output_type": "execute_result"
    }
   ],
   "source": [
    "prev_nodes = pd.read_csv('../2_pipeline/06_HPO_Annotations/out/nodes.csv', dtype=str)\n",
    "prev_comps = prev_nodes.query('label == \"Compound\"').copy()\n",
    "\n",
    "prev_comps.head(2)"
   ]
  },
  {
   "cell_type": "code",
   "execution_count": 8,
   "metadata": {},
   "outputs": [
    {
     "data": {
      "text/plain": [
       "CHEBI     89481\n",
       "PCID      67450\n",
       "WD        58786\n",
       "UNII      31229\n",
       "CHEMBL    21021\n",
       "DB         2166\n",
       "MESH         43\n",
       "KEGG         17\n",
       "UMLS          1\n",
       "IKEY          1\n",
       "Name: id, dtype: int64"
      ]
     },
     "execution_count": 8,
     "metadata": {},
     "output_type": "execute_result"
    }
   ],
   "source": [
    "prev_comps['id'].apply(lambda s: s.split(':')[0]).value_counts()"
   ]
  },
  {
   "cell_type": "code",
   "execution_count": 9,
   "metadata": {},
   "outputs": [
    {
     "data": {
      "text/html": [
       "<div>\n",
       "<style scoped>\n",
       "    .dataframe tbody tr th:only-of-type {\n",
       "        vertical-align: middle;\n",
       "    }\n",
       "\n",
       "    .dataframe tbody tr th {\n",
       "        vertical-align: top;\n",
       "    }\n",
       "\n",
       "    .dataframe thead th {\n",
       "        text-align: right;\n",
       "    }\n",
       "</style>\n",
       "<table border=\"1\" class=\"dataframe\">\n",
       "  <thead>\n",
       "    <tr style=\"text-align: right;\">\n",
       "      <th></th>\n",
       "      <th>gvk_id</th>\n",
       "      <th>drug_name</th>\n",
       "      <th>phase</th>\n",
       "      <th>drug_roa</th>\n",
       "      <th>category</th>\n",
       "      <th>mechanism</th>\n",
       "      <th>sub_smiles</th>\n",
       "      <th>synonyms_gvk</th>\n",
       "      <th>ikey</th>\n",
       "      <th>name_inf</th>\n",
       "      <th>...</th>\n",
       "      <th>id</th>\n",
       "      <th>status</th>\n",
       "      <th>smiles_itg</th>\n",
       "      <th>name_itg</th>\n",
       "      <th>integrity_note</th>\n",
       "      <th>int_thera_group</th>\n",
       "      <th>int_MoA</th>\n",
       "      <th>wikidata_itg</th>\n",
       "      <th>PubChem CID</th>\n",
       "      <th>source</th>\n",
       "    </tr>\n",
       "  </thead>\n",
       "  <tbody>\n",
       "    <tr>\n",
       "      <th>0</th>\n",
       "      <td>5916161.0</td>\n",
       "      <td>A-49816</td>\n",
       "      <td>Clinical Phase Unknown</td>\n",
       "      <td>NaN</td>\n",
       "      <td>High-Ceiling Diuretic</td>\n",
       "      <td>High-Ceiling Diuretic</td>\n",
       "      <td>Cl[H].[H]OC1=C(CN([H])[H])C=C(C=C1)C(=O)C2=CC=...</td>\n",
       "      <td>Abbott-49816</td>\n",
       "      <td>WYFYYAHANZQLGG-UHFFFAOYSA-N</td>\n",
       "      <td>NaN</td>\n",
       "      <td>...</td>\n",
       "      <td>145141.0</td>\n",
       "      <td>Clinical</td>\n",
       "      <td>CCOC(=O)COc1ccc(c(c1Cl)Cl)C(=O)c2ccc(c(c2)CN)O.Cl</td>\n",
       "      <td>A-49816</td>\n",
       "      <td>NaN</td>\n",
       "      <td>Diuretics</td>\n",
       "      <td>NaN</td>\n",
       "      <td>Q27270440</td>\n",
       "      <td>CID92009045</td>\n",
       "      <td>gvk|integrity</td>\n",
       "    </tr>\n",
       "    <tr>\n",
       "      <th>1</th>\n",
       "      <td>5913712.0</td>\n",
       "      <td>Elmustine</td>\n",
       "      <td>Clinical Phase Unknown</td>\n",
       "      <td>NaN</td>\n",
       "      <td>Anticancer</td>\n",
       "      <td>Anticancer</td>\n",
       "      <td>[H]OCCN([H])C(=O)N(CCCl)N=O</td>\n",
       "      <td>BRN-1956525|FFC-33|HECNU|Hecnu|NSC-294895</td>\n",
       "      <td>YJZJEQBSODVMTH-UHFFFAOYSA-N</td>\n",
       "      <td>Elmustine</td>\n",
       "      <td>...</td>\n",
       "      <td>91016.0</td>\n",
       "      <td>Phase III</td>\n",
       "      <td>C(CO)NC(=O)N(CCCl)N=O</td>\n",
       "      <td>Elmustine</td>\n",
       "      <td>NaN</td>\n",
       "      <td>Oncolytic Drugs</td>\n",
       "      <td>DNA-Damaging Drugs</td>\n",
       "      <td>Q27284767</td>\n",
       "      <td>CID68804</td>\n",
       "      <td>gvk|informa|integrity</td>\n",
       "    </tr>\n",
       "  </tbody>\n",
       "</table>\n",
       "<p>2 rows × 32 columns</p>\n",
       "</div>"
      ],
      "text/plain": [
       "      gvk_id  drug_name                   phase drug_roa  \\\n",
       "0  5916161.0    A-49816  Clinical Phase Unknown      NaN   \n",
       "1  5913712.0  Elmustine  Clinical Phase Unknown      NaN   \n",
       "\n",
       "                category              mechanism  \\\n",
       "0  High-Ceiling Diuretic  High-Ceiling Diuretic   \n",
       "1             Anticancer             Anticancer   \n",
       "\n",
       "                                          sub_smiles  \\\n",
       "0  Cl[H].[H]OC1=C(CN([H])[H])C=C(C=C1)C(=O)C2=CC=...   \n",
       "1                        [H]OCCN([H])C(=O)N(CCCl)N=O   \n",
       "\n",
       "                                synonyms_gvk                         ikey  \\\n",
       "0                               Abbott-49816  WYFYYAHANZQLGG-UHFFFAOYSA-N   \n",
       "1  BRN-1956525|FFC-33|HECNU|Hecnu|NSC-294895  YJZJEQBSODVMTH-UHFFFAOYSA-N   \n",
       "\n",
       "    name_inf  ...        id     status  \\\n",
       "0        NaN  ...  145141.0   Clinical   \n",
       "1  Elmustine  ...   91016.0  Phase III   \n",
       "\n",
       "                                          smiles_itg   name_itg  \\\n",
       "0  CCOC(=O)COc1ccc(c(c1Cl)Cl)C(=O)c2ccc(c(c2)CN)O.Cl    A-49816   \n",
       "1                              C(CO)NC(=O)N(CCCl)N=O  Elmustine   \n",
       "\n",
       "  integrity_note  int_thera_group             int_MoA wikidata_itg  \\\n",
       "0            NaN        Diuretics                 NaN    Q27270440   \n",
       "1            NaN  Oncolytic Drugs  DNA-Damaging Drugs    Q27284767   \n",
       "\n",
       "   PubChem CID                 source  \n",
       "0  CID92009045          gvk|integrity  \n",
       "1     CID68804  gvk|informa|integrity  \n",
       "\n",
       "[2 rows x 32 columns]"
      ]
     },
     "execution_count": 9,
     "metadata": {},
     "output_type": "execute_result"
    }
   ],
   "source": [
    "ref = pd.read_csv('../0_data/manual/reframe_merged.csv', dtype=str)\n",
    "ref = ref.drop_duplicates().reset_index(drop=True)\n",
    "ref.head(2)"
   ]
  },
  {
   "cell_type": "code",
   "execution_count": 10,
   "metadata": {},
   "outputs": [],
   "source": [
    "ref = add_curis(ref, curi_map)\n",
    "ikey_to_wd = ref.groupby('ikey')[['wikidata_inf', 'wikidata_itg']].apply(char_combine_frame).replace('', float('nan')).dropna()"
   ]
  },
  {
   "cell_type": "code",
   "execution_count": 11,
   "metadata": {},
   "outputs": [
    {
     "data": {
      "text/plain": [
       "17220"
      ]
     },
     "execution_count": 11,
     "metadata": {},
     "output_type": "execute_result"
    }
   ],
   "source": [
    "len(ref)"
   ]
  },
  {
   "cell_type": "markdown",
   "metadata": {},
   "source": [
    "Look at how much overlap we have without doing a ton of ID resolution..."
   ]
  },
  {
   "cell_type": "code",
   "execution_count": 12,
   "metadata": {},
   "outputs": [],
   "source": [
    "ref_ikeys = ref['ikey'].unique()\n",
    "res = load_api_results(out_dir.joinpath('reframe_mychem_info_{}.pkl'), scrape_function=bp.download_mychem_ids, \n",
    "                         chem_ids=ref_ikeys)\n",
    "\n",
    "\n",
    "ref_comps = bp.process_chemicals_in_mychem_results(res)"
   ]
  },
  {
   "cell_type": "code",
   "execution_count": 13,
   "metadata": {},
   "outputs": [],
   "source": [
    "source_curi_map = {k.replace('_id', ''): v for k, v in curi_map.items()}\n",
    "\n",
    "ref_comps = add_curis(ref_comps, curi_map)\n",
    "ref_comps['id'] = ref_comps['source'].map(source_curi_map) + ':' + ref_comps['id']"
   ]
  },
  {
   "cell_type": "code",
   "execution_count": 14,
   "metadata": {},
   "outputs": [
    {
     "data": {
      "text/html": [
       "<div>\n",
       "<style scoped>\n",
       "    .dataframe tbody tr th:only-of-type {\n",
       "        vertical-align: middle;\n",
       "    }\n",
       "\n",
       "    .dataframe tbody tr th {\n",
       "        vertical-align: top;\n",
       "    }\n",
       "\n",
       "    .dataframe thead th {\n",
       "        text-align: right;\n",
       "    }\n",
       "</style>\n",
       "<table border=\"1\" class=\"dataframe\">\n",
       "  <thead>\n",
       "    <tr style=\"text-align: right;\">\n",
       "      <th></th>\n",
       "      <th>q</th>\n",
       "      <th>ikey</th>\n",
       "      <th>chebi_id</th>\n",
       "      <th>chembl_id</th>\n",
       "      <th>drugbank_id</th>\n",
       "      <th>unii_id</th>\n",
       "      <th>mesh_id</th>\n",
       "      <th>name</th>\n",
       "      <th>id</th>\n",
       "      <th>source</th>\n",
       "    </tr>\n",
       "  </thead>\n",
       "  <tbody>\n",
       "    <tr>\n",
       "      <th>0</th>\n",
       "      <td>WYFYYAHANZQLGG-UHFFFAOYSA-N</td>\n",
       "      <td>IKEY:WYFYYAHANZQLGG-UHFFFAOYSA-N</td>\n",
       "      <td>NaN</td>\n",
       "      <td>CHEMBL:CHEMBL543295</td>\n",
       "      <td>NaN</td>\n",
       "      <td>UNII:8GKF50WX7S</td>\n",
       "      <td>NaN</td>\n",
       "      <td>A-49816 hydrochloride</td>\n",
       "      <td>IKEY:WYFYYAHANZQLGG-UHFFFAOYSA-N</td>\n",
       "      <td>ikey</td>\n",
       "    </tr>\n",
       "    <tr>\n",
       "      <th>1</th>\n",
       "      <td>YJZJEQBSODVMTH-UHFFFAOYSA-N</td>\n",
       "      <td>IKEY:YJZJEQBSODVMTH-UHFFFAOYSA-N</td>\n",
       "      <td>NaN</td>\n",
       "      <td>CHEMBL:CHEMBL284907</td>\n",
       "      <td>NaN</td>\n",
       "      <td>UNII:NAT2FD82D7</td>\n",
       "      <td>MESH:C013876</td>\n",
       "      <td>Elmustine</td>\n",
       "      <td>IKEY:YJZJEQBSODVMTH-UHFFFAOYSA-N</td>\n",
       "      <td>ikey</td>\n",
       "    </tr>\n",
       "    <tr>\n",
       "      <th>2</th>\n",
       "      <td>GXCZZAKPGMYPDJ-UHFFFAOYSA-N</td>\n",
       "      <td>IKEY:GXCZZAKPGMYPDJ-UHFFFAOYSA-N</td>\n",
       "      <td>NaN</td>\n",
       "      <td>CHEMBL:CHEMBL18410</td>\n",
       "      <td>NaN</td>\n",
       "      <td>NaN</td>\n",
       "      <td>NaN</td>\n",
       "      <td>NaN</td>\n",
       "      <td>IKEY:GXCZZAKPGMYPDJ-UHFFFAOYSA-N</td>\n",
       "      <td>ikey</td>\n",
       "    </tr>\n",
       "    <tr>\n",
       "      <th>3</th>\n",
       "      <td>JBWMXRJDMMPGCX-UHFFFAOYSA-N</td>\n",
       "      <td>IKEY:JBWMXRJDMMPGCX-UHFFFAOYSA-N</td>\n",
       "      <td>NaN</td>\n",
       "      <td>NaN</td>\n",
       "      <td>NaN</td>\n",
       "      <td>NaN</td>\n",
       "      <td>NaN</td>\n",
       "      <td>NaN</td>\n",
       "      <td>IKEY:JBWMXRJDMMPGCX-UHFFFAOYSA-N</td>\n",
       "      <td>ikey</td>\n",
       "    </tr>\n",
       "    <tr>\n",
       "      <th>4</th>\n",
       "      <td>MXNZCIQNSJMZST-UHFFFAOYSA-N</td>\n",
       "      <td>IKEY:MXNZCIQNSJMZST-UHFFFAOYSA-N</td>\n",
       "      <td>CHEBI:90193</td>\n",
       "      <td>CHEMBL:CHEMBL2000244</td>\n",
       "      <td>NaN</td>\n",
       "      <td>UNII:79BOD3G8DW</td>\n",
       "      <td>NaN</td>\n",
       "      <td>2,5-bis(2-hydroxyethylamino)-3,6-diaziridinyl-...</td>\n",
       "      <td>IKEY:MXNZCIQNSJMZST-UHFFFAOYSA-N</td>\n",
       "      <td>ikey</td>\n",
       "    </tr>\n",
       "    <tr>\n",
       "      <th>...</th>\n",
       "      <td>...</td>\n",
       "      <td>...</td>\n",
       "      <td>...</td>\n",
       "      <td>...</td>\n",
       "      <td>...</td>\n",
       "      <td>...</td>\n",
       "      <td>...</td>\n",
       "      <td>...</td>\n",
       "      <td>...</td>\n",
       "      <td>...</td>\n",
       "    </tr>\n",
       "    <tr>\n",
       "      <th>17086</th>\n",
       "      <td>GFVBDLIBPSGFDL-ZOWNYOTGSA-N</td>\n",
       "      <td>IKEY:GFVBDLIBPSGFDL-ZOWNYOTGSA-N</td>\n",
       "      <td>NaN</td>\n",
       "      <td>NaN</td>\n",
       "      <td>NaN</td>\n",
       "      <td>UNII:UXP39EQ477</td>\n",
       "      <td>NaN</td>\n",
       "      <td>Arazasetron besylate</td>\n",
       "      <td>IKEY:GFVBDLIBPSGFDL-ZOWNYOTGSA-N</td>\n",
       "      <td>ikey</td>\n",
       "    </tr>\n",
       "    <tr>\n",
       "      <th>17087</th>\n",
       "      <td>VLRZIRYGLUVGGU-UHFFFAOYSA-N</td>\n",
       "      <td>IKEY:VLRZIRYGLUVGGU-UHFFFAOYSA-N</td>\n",
       "      <td>NaN</td>\n",
       "      <td>NaN</td>\n",
       "      <td>NaN</td>\n",
       "      <td>NaN</td>\n",
       "      <td>NaN</td>\n",
       "      <td>NaN</td>\n",
       "      <td>IKEY:VLRZIRYGLUVGGU-UHFFFAOYSA-N</td>\n",
       "      <td>ikey</td>\n",
       "    </tr>\n",
       "    <tr>\n",
       "      <th>17088</th>\n",
       "      <td>OGBDDOBYHJYBFF-UHFFFAOYSA-N</td>\n",
       "      <td>IKEY:OGBDDOBYHJYBFF-UHFFFAOYSA-N</td>\n",
       "      <td>NaN</td>\n",
       "      <td>CHEMBL:CHEMBL2324748</td>\n",
       "      <td>NaN</td>\n",
       "      <td>NaN</td>\n",
       "      <td>NaN</td>\n",
       "      <td>NaN</td>\n",
       "      <td>IKEY:OGBDDOBYHJYBFF-UHFFFAOYSA-N</td>\n",
       "      <td>ikey</td>\n",
       "    </tr>\n",
       "    <tr>\n",
       "      <th>17089</th>\n",
       "      <td>ZAGGUCLXSCVDCK-UHFFFAOYSA-N</td>\n",
       "      <td>IKEY:ZAGGUCLXSCVDCK-UHFFFAOYSA-N</td>\n",
       "      <td>NaN</td>\n",
       "      <td>CHEMBL:CHEMBL2324776</td>\n",
       "      <td>NaN</td>\n",
       "      <td>NaN</td>\n",
       "      <td>NaN</td>\n",
       "      <td>NaN</td>\n",
       "      <td>IKEY:ZAGGUCLXSCVDCK-UHFFFAOYSA-N</td>\n",
       "      <td>ikey</td>\n",
       "    </tr>\n",
       "    <tr>\n",
       "      <th>17090</th>\n",
       "      <td>WXLPERVDMILVIF-UHFFFAOYSA-N</td>\n",
       "      <td>IKEY:WXLPERVDMILVIF-UHFFFAOYSA-N</td>\n",
       "      <td>NaN</td>\n",
       "      <td>NaN</td>\n",
       "      <td>NaN</td>\n",
       "      <td>UNII:39RRC0G27V</td>\n",
       "      <td>NaN</td>\n",
       "      <td>Mk-8617</td>\n",
       "      <td>IKEY:WXLPERVDMILVIF-UHFFFAOYSA-N</td>\n",
       "      <td>ikey</td>\n",
       "    </tr>\n",
       "  </tbody>\n",
       "</table>\n",
       "<p>17091 rows × 10 columns</p>\n",
       "</div>"
      ],
      "text/plain": [
       "                                 q                              ikey  \\\n",
       "0      WYFYYAHANZQLGG-UHFFFAOYSA-N  IKEY:WYFYYAHANZQLGG-UHFFFAOYSA-N   \n",
       "1      YJZJEQBSODVMTH-UHFFFAOYSA-N  IKEY:YJZJEQBSODVMTH-UHFFFAOYSA-N   \n",
       "2      GXCZZAKPGMYPDJ-UHFFFAOYSA-N  IKEY:GXCZZAKPGMYPDJ-UHFFFAOYSA-N   \n",
       "3      JBWMXRJDMMPGCX-UHFFFAOYSA-N  IKEY:JBWMXRJDMMPGCX-UHFFFAOYSA-N   \n",
       "4      MXNZCIQNSJMZST-UHFFFAOYSA-N  IKEY:MXNZCIQNSJMZST-UHFFFAOYSA-N   \n",
       "...                            ...                               ...   \n",
       "17086  GFVBDLIBPSGFDL-ZOWNYOTGSA-N  IKEY:GFVBDLIBPSGFDL-ZOWNYOTGSA-N   \n",
       "17087  VLRZIRYGLUVGGU-UHFFFAOYSA-N  IKEY:VLRZIRYGLUVGGU-UHFFFAOYSA-N   \n",
       "17088  OGBDDOBYHJYBFF-UHFFFAOYSA-N  IKEY:OGBDDOBYHJYBFF-UHFFFAOYSA-N   \n",
       "17089  ZAGGUCLXSCVDCK-UHFFFAOYSA-N  IKEY:ZAGGUCLXSCVDCK-UHFFFAOYSA-N   \n",
       "17090  WXLPERVDMILVIF-UHFFFAOYSA-N  IKEY:WXLPERVDMILVIF-UHFFFAOYSA-N   \n",
       "\n",
       "          chebi_id             chembl_id drugbank_id          unii_id  \\\n",
       "0              NaN   CHEMBL:CHEMBL543295         NaN  UNII:8GKF50WX7S   \n",
       "1              NaN   CHEMBL:CHEMBL284907         NaN  UNII:NAT2FD82D7   \n",
       "2              NaN    CHEMBL:CHEMBL18410         NaN              NaN   \n",
       "3              NaN                   NaN         NaN              NaN   \n",
       "4      CHEBI:90193  CHEMBL:CHEMBL2000244         NaN  UNII:79BOD3G8DW   \n",
       "...            ...                   ...         ...              ...   \n",
       "17086          NaN                   NaN         NaN  UNII:UXP39EQ477   \n",
       "17087          NaN                   NaN         NaN              NaN   \n",
       "17088          NaN  CHEMBL:CHEMBL2324748         NaN              NaN   \n",
       "17089          NaN  CHEMBL:CHEMBL2324776         NaN              NaN   \n",
       "17090          NaN                   NaN         NaN  UNII:39RRC0G27V   \n",
       "\n",
       "            mesh_id                                               name  \\\n",
       "0               NaN                              A-49816 hydrochloride   \n",
       "1      MESH:C013876                                          Elmustine   \n",
       "2               NaN                                                NaN   \n",
       "3               NaN                                                NaN   \n",
       "4               NaN  2,5-bis(2-hydroxyethylamino)-3,6-diaziridinyl-...   \n",
       "...             ...                                                ...   \n",
       "17086           NaN                               Arazasetron besylate   \n",
       "17087           NaN                                                NaN   \n",
       "17088           NaN                                                NaN   \n",
       "17089           NaN                                                NaN   \n",
       "17090           NaN                                            Mk-8617   \n",
       "\n",
       "                                     id source  \n",
       "0      IKEY:WYFYYAHANZQLGG-UHFFFAOYSA-N   ikey  \n",
       "1      IKEY:YJZJEQBSODVMTH-UHFFFAOYSA-N   ikey  \n",
       "2      IKEY:GXCZZAKPGMYPDJ-UHFFFAOYSA-N   ikey  \n",
       "3      IKEY:JBWMXRJDMMPGCX-UHFFFAOYSA-N   ikey  \n",
       "4      IKEY:MXNZCIQNSJMZST-UHFFFAOYSA-N   ikey  \n",
       "...                                 ...    ...  \n",
       "17086  IKEY:GFVBDLIBPSGFDL-ZOWNYOTGSA-N   ikey  \n",
       "17087  IKEY:VLRZIRYGLUVGGU-UHFFFAOYSA-N   ikey  \n",
       "17088  IKEY:OGBDDOBYHJYBFF-UHFFFAOYSA-N   ikey  \n",
       "17089  IKEY:ZAGGUCLXSCVDCK-UHFFFAOYSA-N   ikey  \n",
       "17090  IKEY:WXLPERVDMILVIF-UHFFFAOYSA-N   ikey  \n",
       "\n",
       "[17091 rows x 10 columns]"
      ]
     },
     "execution_count": 14,
     "metadata": {},
     "output_type": "execute_result"
    }
   ],
   "source": [
    "ref_comps"
   ]
  },
  {
   "cell_type": "code",
   "execution_count": 15,
   "metadata": {},
   "outputs": [],
   "source": [
    "ref_comps['wd_id'] = ref_comps['ikey'].map(ikey_to_wd)\n"
   ]
  },
  {
   "cell_type": "code",
   "execution_count": 16,
   "metadata": {},
   "outputs": [
    {
     "data": {
      "text/html": [
       "<div>\n",
       "<style scoped>\n",
       "    .dataframe tbody tr th:only-of-type {\n",
       "        vertical-align: middle;\n",
       "    }\n",
       "\n",
       "    .dataframe tbody tr th {\n",
       "        vertical-align: top;\n",
       "    }\n",
       "\n",
       "    .dataframe thead th {\n",
       "        text-align: right;\n",
       "    }\n",
       "</style>\n",
       "<table border=\"1\" class=\"dataframe\">\n",
       "  <thead>\n",
       "    <tr style=\"text-align: right;\">\n",
       "      <th></th>\n",
       "      <th>q</th>\n",
       "      <th>ikey</th>\n",
       "      <th>chebi_id</th>\n",
       "      <th>chembl_id</th>\n",
       "      <th>drugbank_id</th>\n",
       "      <th>unii_id</th>\n",
       "      <th>mesh_id</th>\n",
       "      <th>name</th>\n",
       "      <th>id</th>\n",
       "      <th>source</th>\n",
       "      <th>wd_id</th>\n",
       "    </tr>\n",
       "  </thead>\n",
       "  <tbody>\n",
       "    <tr>\n",
       "      <th>0</th>\n",
       "      <td>WYFYYAHANZQLGG-UHFFFAOYSA-N</td>\n",
       "      <td>IKEY:WYFYYAHANZQLGG-UHFFFAOYSA-N</td>\n",
       "      <td>NaN</td>\n",
       "      <td>CHEMBL:CHEMBL543295</td>\n",
       "      <td>NaN</td>\n",
       "      <td>UNII:8GKF50WX7S</td>\n",
       "      <td>NaN</td>\n",
       "      <td>A-49816 hydrochloride</td>\n",
       "      <td>IKEY:WYFYYAHANZQLGG-UHFFFAOYSA-N</td>\n",
       "      <td>ikey</td>\n",
       "      <td>WD:Q27270440</td>\n",
       "    </tr>\n",
       "    <tr>\n",
       "      <th>1</th>\n",
       "      <td>YJZJEQBSODVMTH-UHFFFAOYSA-N</td>\n",
       "      <td>IKEY:YJZJEQBSODVMTH-UHFFFAOYSA-N</td>\n",
       "      <td>NaN</td>\n",
       "      <td>CHEMBL:CHEMBL284907</td>\n",
       "      <td>NaN</td>\n",
       "      <td>UNII:NAT2FD82D7</td>\n",
       "      <td>MESH:C013876</td>\n",
       "      <td>Elmustine</td>\n",
       "      <td>IKEY:YJZJEQBSODVMTH-UHFFFAOYSA-N</td>\n",
       "      <td>ikey</td>\n",
       "      <td>WD:Q27284767</td>\n",
       "    </tr>\n",
       "  </tbody>\n",
       "</table>\n",
       "</div>"
      ],
      "text/plain": [
       "                             q                              ikey chebi_id  \\\n",
       "0  WYFYYAHANZQLGG-UHFFFAOYSA-N  IKEY:WYFYYAHANZQLGG-UHFFFAOYSA-N      NaN   \n",
       "1  YJZJEQBSODVMTH-UHFFFAOYSA-N  IKEY:YJZJEQBSODVMTH-UHFFFAOYSA-N      NaN   \n",
       "\n",
       "             chembl_id drugbank_id          unii_id       mesh_id  \\\n",
       "0  CHEMBL:CHEMBL543295         NaN  UNII:8GKF50WX7S           NaN   \n",
       "1  CHEMBL:CHEMBL284907         NaN  UNII:NAT2FD82D7  MESH:C013876   \n",
       "\n",
       "                    name                                id source  \\\n",
       "0  A-49816 hydrochloride  IKEY:WYFYYAHANZQLGG-UHFFFAOYSA-N   ikey   \n",
       "1              Elmustine  IKEY:YJZJEQBSODVMTH-UHFFFAOYSA-N   ikey   \n",
       "\n",
       "          wd_id  \n",
       "0  WD:Q27270440  \n",
       "1  WD:Q27284767  "
      ]
     },
     "execution_count": 16,
     "metadata": {},
     "output_type": "execute_result"
    }
   ],
   "source": [
    "ref_comps.head(2)"
   ]
  },
  {
   "cell_type": "code",
   "execution_count": 17,
   "metadata": {},
   "outputs": [
    {
     "data": {
      "text/plain": [
       "17091"
      ]
     },
     "execution_count": 17,
     "metadata": {},
     "output_type": "execute_result"
    }
   ],
   "source": [
    "len(ref_comps)"
   ]
  },
  {
   "cell_type": "code",
   "execution_count": 18,
   "metadata": {},
   "outputs": [
    {
     "data": {
      "text/plain": [
       "14848"
      ]
     },
     "execution_count": 18,
     "metadata": {},
     "output_type": "execute_result"
    }
   ],
   "source": [
    "# how many returned at least SOME kind of result?\n",
    "len(ref_comps.drop('q', axis=1).dropna(how='all'))"
   ]
  },
  {
   "cell_type": "code",
   "execution_count": 19,
   "metadata": {},
   "outputs": [],
   "source": [
    "inchi_to_mesh = expand_col_on_char(ref_comps, 'mesh_id', '|').dropna(subset=['ikey']).set_index('ikey')['mesh_id'].to_dict()\n",
    "inchi_to_mesh = {**expand_col_on_char(ix_comps, 'mesh_id', '|').dropna(subset=['ikey']).set_index('ikey')['mesh_id'].to_dict(), **inchi_to_mesh}"
   ]
  },
  {
   "cell_type": "code",
   "execution_count": 20,
   "metadata": {},
   "outputs": [
    {
     "data": {
      "text/html": [
       "<div>\n",
       "<style scoped>\n",
       "    .dataframe tbody tr th:only-of-type {\n",
       "        vertical-align: middle;\n",
       "    }\n",
       "\n",
       "    .dataframe tbody tr th {\n",
       "        vertical-align: top;\n",
       "    }\n",
       "\n",
       "    .dataframe thead th {\n",
       "        text-align: right;\n",
       "    }\n",
       "</style>\n",
       "<table border=\"1\" class=\"dataframe\">\n",
       "  <thead>\n",
       "    <tr style=\"text-align: right;\">\n",
       "      <th></th>\n",
       "      <th>subset</th>\n",
       "      <th>id</th>\n",
       "      <th>name</th>\n",
       "      <th>def</th>\n",
       "      <th>xref</th>\n",
       "      <th>ikey</th>\n",
       "      <th>alt_id</th>\n",
       "      <th>is_obsolete</th>\n",
       "      <th>id_src</th>\n",
       "    </tr>\n",
       "  </thead>\n",
       "  <tbody>\n",
       "    <tr>\n",
       "      <th>0</th>\n",
       "      <td>3_STAR</td>\n",
       "      <td>CHEBI:24431</td>\n",
       "      <td>chemical entity</td>\n",
       "      <td>\"A chemical entity is a physical entity of int...</td>\n",
       "      <td>NaN</td>\n",
       "      <td>NaN</td>\n",
       "      <td>NaN</td>\n",
       "      <td>False</td>\n",
       "      <td>CHEBI</td>\n",
       "    </tr>\n",
       "    <tr>\n",
       "      <th>1</th>\n",
       "      <td>3_STAR</td>\n",
       "      <td>CHEBI:23367</td>\n",
       "      <td>molecular entity</td>\n",
       "      <td>\"Any constitutionally or isotopically distinct...</td>\n",
       "      <td>NaN</td>\n",
       "      <td>NaN</td>\n",
       "      <td>NaN</td>\n",
       "      <td>False</td>\n",
       "      <td>CHEBI</td>\n",
       "    </tr>\n",
       "  </tbody>\n",
       "</table>\n",
       "</div>"
      ],
      "text/plain": [
       "   subset           id              name  \\\n",
       "0  3_STAR  CHEBI:24431   chemical entity   \n",
       "1  3_STAR  CHEBI:23367  molecular entity   \n",
       "\n",
       "                                                 def xref ikey alt_id  \\\n",
       "0  \"A chemical entity is a physical entity of int...  NaN  NaN    NaN   \n",
       "1  \"Any constitutionally or isotopically distinct...  NaN  NaN    NaN   \n",
       "\n",
       "   is_obsolete id_src  \n",
       "0        False  CHEBI  \n",
       "1        False  CHEBI  "
      ]
     },
     "execution_count": 20,
     "metadata": {},
     "output_type": "execute_result"
    }
   ],
   "source": [
    "chebi = get_ontology_nodes(data_dir.joinpath('chebi.obo'), props=['http://purl.obolibrary.org/obo/chebi/inchikey'])\n",
    "chebi = chebi.rename(columns={'http://purl.obolibrary.org/obo/chebi/inchikey': 'ikey'})\n",
    "chebi.head(2)"
   ]
  },
  {
   "cell_type": "code",
   "execution_count": 21,
   "metadata": {},
   "outputs": [],
   "source": [
    "inchi_to_chebi = chebi.dropna(subset=['ikey']).set_index('ikey')['id'].to_dict()\n",
    "inchi_to_chebi = {**expand_col_on_char(ref_comps, 'chebi_id', '|').dropna(subset=['ikey']).set_index('ikey')['chebi_id'].to_dict(), **inchi_to_chebi}\n",
    "inchi_to_chebi = {**expand_col_on_char(ix_comps, 'chebi_id', '|').dropna(subset=['ikey']).set_index('ikey')['chebi_id'].to_dict(), **inchi_to_chebi}"
   ]
  },
  {
   "cell_type": "code",
   "execution_count": 22,
   "metadata": {},
   "outputs": [],
   "source": [
    "prev_comp_ids = set(prev_comps['id'])\n",
    "ref_comp_ids = set(ref_comps['ikey'].map(inchi_to_chebi).fillna(ref_comps['ikey'].map(inchi_to_mesh)).fillna(ref_comps['id']))\n",
    "ix_comp_ids = set(ix_comps['ikey'].map(inchi_to_chebi).fillna(ix_comps['ikey'].map(inchi_to_mesh)).fillna(ix_comps['id']))"
   ]
  },
  {
   "cell_type": "code",
   "execution_count": 23,
   "metadata": {},
   "outputs": [
    {
     "data": {
      "text/plain": [
       "<matplotlib_venn._common.VennDiagram at 0x7f99d4caf8d0>"
      ]
     },
     "execution_count": 23,
     "metadata": {},
     "output_type": "execute_result"
    },
    {
     "data": {
      "image/png": "[encoded data removed]",
      "text/plain": [
       "<Figure size 720x432 with 1 Axes>"
      ]
     },
     "metadata": {},
     "output_type": "display_data"
    }
   ],
   "source": [
    "plt.figure(figsize=(10,6))\n",
    "venn3_pretty([ref_comp_ids, ix_comp_ids, prev_comp_ids], ['Reframe', 'Inxight Drugs', 'Previous'])"
   ]
  },
  {
   "cell_type": "code",
   "execution_count": 24,
   "metadata": {},
   "outputs": [
    {
     "data": {
      "text/plain": [
       "92700"
      ]
     },
     "execution_count": 24,
     "metadata": {},
     "output_type": "execute_result"
    }
   ],
   "source": [
    "len(chebi.dropna(subset=['ikey']))"
   ]
  },
  {
   "cell_type": "markdown",
   "metadata": {},
   "source": [
    "### Wikidata to query chebi to mesh"
   ]
  },
  {
   "cell_type": "code",
   "execution_count": 25,
   "metadata": {},
   "outputs": [],
   "source": [
    "query = \"\"\"\n",
    "SELECT DISTINCT ?chebi ?mesh ?item ?itemLabel\n",
    "WHERE \n",
    "{\n",
    "  ?item wdt:P486 ?mesh.\n",
    "  ?item wdt:P683 ?chebi.\n",
    "  SERVICE wikibase:label { bd:serviceParam wikibase:language \"[AUTO_LANGUAGE],en\". }\n",
    "}\n",
    "ORDER BY ?itemLabel\n",
    "\"\"\""
   ]
  },
  {
   "cell_type": "code",
   "execution_count": 26,
   "metadata": {},
   "outputs": [],
   "source": [
    "chebi_to_mesh = execute_sparql_query(query)"
   ]
  },
  {
   "cell_type": "code",
   "execution_count": 27,
   "metadata": {},
   "outputs": [
    {
     "data": {
      "text/html": [
       "<div>\n",
       "<style scoped>\n",
       "    .dataframe tbody tr th:only-of-type {\n",
       "        vertical-align: middle;\n",
       "    }\n",
       "\n",
       "    .dataframe tbody tr th {\n",
       "        vertical-align: top;\n",
       "    }\n",
       "\n",
       "    .dataframe thead th {\n",
       "        text-align: right;\n",
       "    }\n",
       "</style>\n",
       "<table border=\"1\" class=\"dataframe\">\n",
       "  <thead>\n",
       "    <tr style=\"text-align: right;\">\n",
       "      <th></th>\n",
       "      <th>chebi</th>\n",
       "      <th>mesh</th>\n",
       "      <th>item</th>\n",
       "      <th>itemLabel</th>\n",
       "    </tr>\n",
       "  </thead>\n",
       "  <tbody>\n",
       "    <tr>\n",
       "      <th>0</th>\n",
       "      <td>64117</td>\n",
       "      <td>C051171</td>\n",
       "      <td>Q27074361</td>\n",
       "      <td>(+)-AJ76</td>\n",
       "    </tr>\n",
       "    <tr>\n",
       "      <th>1</th>\n",
       "      <td>109533</td>\n",
       "      <td>D002069</td>\n",
       "      <td>Q5002336</td>\n",
       "      <td>(+)-butaclamol</td>\n",
       "    </tr>\n",
       "    <tr>\n",
       "      <th>2</th>\n",
       "      <td>63937</td>\n",
       "      <td>C080462</td>\n",
       "      <td>Q27076939</td>\n",
       "      <td>(+)-cyclazosin</td>\n",
       "    </tr>\n",
       "    <tr>\n",
       "      <th>3</th>\n",
       "      <td>4803</td>\n",
       "      <td>C082748</td>\n",
       "      <td>Q423783</td>\n",
       "      <td>(+)-epibatidine</td>\n",
       "    </tr>\n",
       "    <tr>\n",
       "      <th>4</th>\n",
       "      <td>36</td>\n",
       "      <td>D010665</td>\n",
       "      <td>Q413147</td>\n",
       "      <td>(+)-phenylpropanolamine</td>\n",
       "    </tr>\n",
       "    <tr>\n",
       "      <th>...</th>\n",
       "      <td>...</td>\n",
       "      <td>...</td>\n",
       "      <td>...</td>\n",
       "      <td>...</td>\n",
       "    </tr>\n",
       "    <tr>\n",
       "      <th>5566</th>\n",
       "      <td>10447</td>\n",
       "      <td>C009479</td>\n",
       "      <td>Q2705171</td>\n",
       "      <td>β-thujaplicin</td>\n",
       "    </tr>\n",
       "    <tr>\n",
       "      <th>5567</th>\n",
       "      <td>16865</td>\n",
       "      <td>D005680</td>\n",
       "      <td>Q210021</td>\n",
       "      <td>γ-aminobutyric acid</td>\n",
       "    </tr>\n",
       "    <tr>\n",
       "      <th>5568</th>\n",
       "      <td>132823</td>\n",
       "      <td>C025473</td>\n",
       "      <td>Q27262523</td>\n",
       "      <td>γ-sitosterol</td>\n",
       "    </tr>\n",
       "    <tr>\n",
       "      <th>5569</th>\n",
       "      <td>18185</td>\n",
       "      <td>D024504</td>\n",
       "      <td>Q155753</td>\n",
       "      <td>γ-tocopherol</td>\n",
       "    </tr>\n",
       "    <tr>\n",
       "      <th>5570</th>\n",
       "      <td>42944</td>\n",
       "      <td>D005702</td>\n",
       "      <td>Q412690</td>\n",
       "      <td>Галантамин</td>\n",
       "    </tr>\n",
       "  </tbody>\n",
       "</table>\n",
       "<p>5571 rows × 4 columns</p>\n",
       "</div>"
      ],
      "text/plain": [
       "       chebi     mesh       item                itemLabel\n",
       "0      64117  C051171  Q27074361                 (+)-AJ76\n",
       "1     109533  D002069   Q5002336           (+)-butaclamol\n",
       "2      63937  C080462  Q27076939           (+)-cyclazosin\n",
       "3       4803  C082748    Q423783          (+)-epibatidine\n",
       "4         36  D010665    Q413147  (+)-phenylpropanolamine\n",
       "...      ...      ...        ...                      ...\n",
       "5566   10447  C009479   Q2705171            β-thujaplicin\n",
       "5567   16865  D005680    Q210021      γ-aminobutyric acid\n",
       "5568  132823  C025473  Q27262523             γ-sitosterol\n",
       "5569   18185  D024504    Q155753             γ-tocopherol\n",
       "5570   42944  D005702    Q412690               Галантамин\n",
       "\n",
       "[5571 rows x 4 columns]"
      ]
     },
     "execution_count": 27,
     "metadata": {},
     "output_type": "execute_result"
    }
   ],
   "source": [
    "chebi_to_mesh"
   ]
  },
  {
   "cell_type": "markdown",
   "metadata": {},
   "source": [
    "Descriptor and Supplemental IDs in MeSH start with a C or a D. Some IDs in WikiData start with M which are not the correct namespace"
   ]
  },
  {
   "cell_type": "code",
   "execution_count": 28,
   "metadata": {},
   "outputs": [],
   "source": [
    "bad_mesh = chebi_to_mesh['mesh'].str.startswith('M')\n",
    "bad_mesh = bad_mesh[bad_mesh].index\n",
    "chebi_to_mesh = chebi_to_mesh.drop(bad_mesh)\n",
    "\n",
    "# Add CURIs\n",
    "chebi_to_mesh['chebi'] = 'CHEBI:' + chebi_to_mesh['chebi']\n",
    "chebi_to_mesh['mesh'] = 'MESH:' + chebi_to_mesh['mesh']"
   ]
  },
  {
   "cell_type": "code",
   "execution_count": 29,
   "metadata": {},
   "outputs": [
    {
     "data": {
      "text/plain": [
       "31"
      ]
     },
     "execution_count": 29,
     "metadata": {},
     "output_type": "execute_result"
    }
   ],
   "source": [
    "c_ix = chebi_to_mesh['mesh'].duplicated(keep=False)\n",
    "chebi_duped = chebi_to_mesh.loc[c_ix[c_ix].index]\n",
    "len(chebi_duped)"
   ]
  },
  {
   "cell_type": "markdown",
   "metadata": {},
   "source": [
    "These are instances of multiple CHEBI ids for a single WIKIDATA item... (where that item has at least 1 MESH id)\n",
    "\n",
    "We will try to resolve these..."
   ]
  },
  {
   "cell_type": "code",
   "execution_count": 30,
   "metadata": {},
   "outputs": [
    {
     "data": {
      "text/plain": [
       "32"
      ]
     },
     "execution_count": 30,
     "metadata": {},
     "output_type": "execute_result"
    }
   ],
   "source": [
    "m_ix = chebi_to_mesh['chebi'].duplicated(keep=False)\n",
    "mesh_duped = chebi_to_mesh.loc[m_ix[m_ix].index]\n",
    "len(mesh_duped)"
   ]
  },
  {
   "cell_type": "markdown",
   "metadata": {},
   "source": [
    "These are instances of a Mutiple MESH ids for a single WIKIDATA item (with at least one CHEBI id).\n",
    "\n",
    "May be small enought to resolve"
   ]
  },
  {
   "cell_type": "markdown",
   "metadata": {},
   "source": [
    "### Look at only the 1 to 1 mappings and see if we can merge to chebi ontology"
   ]
  },
  {
   "cell_type": "code",
   "execution_count": 31,
   "metadata": {},
   "outputs": [
    {
     "data": {
      "text/plain": [
       "5508"
      ]
     },
     "execution_count": 31,
     "metadata": {},
     "output_type": "execute_result"
    }
   ],
   "source": [
    "# Not dupilcated chebi AND not duplicated MeSH\n",
    "no_dup_idx = chebi_to_mesh[(~c_ix & ~m_ix)].index\n",
    "\n",
    "unique_chebi_to_mesh = chebi_to_mesh.loc[no_dup_idx]\n",
    "len(unique_chebi_to_mesh)"
   ]
  },
  {
   "cell_type": "code",
   "execution_count": 32,
   "metadata": {},
   "outputs": [
    {
     "data": {
      "text/plain": [
       "113750"
      ]
     },
     "execution_count": 32,
     "metadata": {},
     "output_type": "execute_result"
    }
   ],
   "source": [
    "len(chebi)"
   ]
  },
  {
   "cell_type": "markdown",
   "metadata": {},
   "source": [
    "Add our MeSH IDs to the Chebi ontology data, as accounting for 1 to 1 mappings"
   ]
  },
  {
   "cell_type": "code",
   "execution_count": 33,
   "metadata": {},
   "outputs": [],
   "source": [
    "chebi = pd.merge(chebi, unique_chebi_to_mesh[['chebi', 'mesh']], how='left', left_on='id', right_on='chebi').drop('chebi', axis=1)"
   ]
  },
  {
   "cell_type": "code",
   "execution_count": 34,
   "metadata": {},
   "outputs": [
    {
     "data": {
      "text/html": [
       "<div>\n",
       "<style scoped>\n",
       "    .dataframe tbody tr th:only-of-type {\n",
       "        vertical-align: middle;\n",
       "    }\n",
       "\n",
       "    .dataframe tbody tr th {\n",
       "        vertical-align: top;\n",
       "    }\n",
       "\n",
       "    .dataframe thead th {\n",
       "        text-align: right;\n",
       "    }\n",
       "</style>\n",
       "<table border=\"1\" class=\"dataframe\">\n",
       "  <thead>\n",
       "    <tr style=\"text-align: right;\">\n",
       "      <th></th>\n",
       "      <th>subset</th>\n",
       "      <th>id</th>\n",
       "      <th>name</th>\n",
       "      <th>def</th>\n",
       "      <th>xref</th>\n",
       "      <th>ikey</th>\n",
       "      <th>alt_id</th>\n",
       "      <th>is_obsolete</th>\n",
       "      <th>id_src</th>\n",
       "      <th>mesh</th>\n",
       "    </tr>\n",
       "  </thead>\n",
       "  <tbody>\n",
       "    <tr>\n",
       "      <th>15947</th>\n",
       "      <td>3_STAR</td>\n",
       "      <td>CHEBI:34260</td>\n",
       "      <td>anthracen-2-amine</td>\n",
       "      <td>NaN</td>\n",
       "      <td>Gmelin:1912207 \"Gmelin\"|KEGG:C14417|CAS:613-13...</td>\n",
       "      <td>YCSBALJAGZKWFF-UHFFFAOYSA-N</td>\n",
       "      <td>NaN</td>\n",
       "      <td>False</td>\n",
       "      <td>CHEBI</td>\n",
       "      <td>MESH:C006593</td>\n",
       "    </tr>\n",
       "    <tr>\n",
       "      <th>83981</th>\n",
       "      <td>3_STAR</td>\n",
       "      <td>CHEBI:27909</td>\n",
       "      <td>paraldehyde</td>\n",
       "      <td>\"A trioxane that is 1,3,5-trioxane substituted...</td>\n",
       "      <td>Beilstein:80142 \"Beilstein\"|KEGG:D00705|Wikipe...</td>\n",
       "      <td>SQYNKIJPMDEDEG-UHFFFAOYSA-N</td>\n",
       "      <td>CHEBI:7920|CHEBI:25854</td>\n",
       "      <td>False</td>\n",
       "      <td>CHEBI</td>\n",
       "      <td>MESH:D010242</td>\n",
       "    </tr>\n",
       "    <tr>\n",
       "      <th>82459</th>\n",
       "      <td>2_STAR</td>\n",
       "      <td>CHEBI:135075</td>\n",
       "      <td>alphaprodine</td>\n",
       "      <td>NaN</td>\n",
       "      <td>CAS:77-20-3 \"DrugCentral\"|Drug_Central:132 \"Dr...</td>\n",
       "      <td>UVAZQQHAVMNMHE-XJKSGUPXSA-N</td>\n",
       "      <td>NaN</td>\n",
       "      <td>False</td>\n",
       "      <td>CHEBI</td>\n",
       "      <td>MESH:D000522</td>\n",
       "    </tr>\n",
       "    <tr>\n",
       "      <th>113550</th>\n",
       "      <td>3_STAR</td>\n",
       "      <td>CHEBI:75050</td>\n",
       "      <td>chromogenic compound</td>\n",
       "      <td>\"Colourless, endogenous or exogenous pigment p...</td>\n",
       "      <td>NaN</td>\n",
       "      <td>NaN</td>\n",
       "      <td>NaN</td>\n",
       "      <td>False</td>\n",
       "      <td>CHEBI</td>\n",
       "      <td>MESH:D002863</td>\n",
       "    </tr>\n",
       "    <tr>\n",
       "      <th>99673</th>\n",
       "      <td>2_STAR</td>\n",
       "      <td>CHEBI:135795</td>\n",
       "      <td>loperamide oxide</td>\n",
       "      <td>NaN</td>\n",
       "      <td>CAS:106900-12-3 \"DrugCentral\"|Drug_Central:160...</td>\n",
       "      <td>KXVSBTJVTUVNPM-UKPNQBOSSA-N</td>\n",
       "      <td>NaN</td>\n",
       "      <td>False</td>\n",
       "      <td>CHEBI</td>\n",
       "      <td>MESH:C066043</td>\n",
       "    </tr>\n",
       "    <tr>\n",
       "      <th>95905</th>\n",
       "      <td>2_STAR</td>\n",
       "      <td>CHEBI:134972</td>\n",
       "      <td>flosequinan</td>\n",
       "      <td>NaN</td>\n",
       "      <td>CAS:76568-02-0 \"DrugCentral\"|Drug_Central:1182...</td>\n",
       "      <td>UYGONJYYUKVHDD-UHFFFAOYSA-N</td>\n",
       "      <td>NaN</td>\n",
       "      <td>False</td>\n",
       "      <td>CHEBI</td>\n",
       "      <td>MESH:C047316</td>\n",
       "    </tr>\n",
       "    <tr>\n",
       "      <th>24915</th>\n",
       "      <td>3_STAR</td>\n",
       "      <td>CHEBI:6762</td>\n",
       "      <td>mepyramine</td>\n",
       "      <td>\"An ethylenediamine derivative that is  ethyle...</td>\n",
       "      <td>CAS:91-84-9 \"KEGG COMPOUND\"|KEGG:C11798|PMID:2...</td>\n",
       "      <td>YECBIJXISLIIDS-UHFFFAOYSA-N</td>\n",
       "      <td>NaN</td>\n",
       "      <td>False</td>\n",
       "      <td>CHEBI</td>\n",
       "      <td>MESH:D011738</td>\n",
       "    </tr>\n",
       "    <tr>\n",
       "      <th>71752</th>\n",
       "      <td>3_STAR</td>\n",
       "      <td>CHEBI:44975</td>\n",
       "      <td>1,10-phenanthroline</td>\n",
       "      <td>NaN</td>\n",
       "      <td>DrugBank:DB02365|Wikipedia:Phenanthroline|PMID...</td>\n",
       "      <td>DGEZNRSVGBDHLK-UHFFFAOYSA-N</td>\n",
       "      <td>CHEBI:476|CHEBI:44973</td>\n",
       "      <td>False</td>\n",
       "      <td>CHEBI</td>\n",
       "      <td>MESH:C025205</td>\n",
       "    </tr>\n",
       "    <tr>\n",
       "      <th>24376</th>\n",
       "      <td>3_STAR</td>\n",
       "      <td>CHEBI:101278</td>\n",
       "      <td>diltiazem</td>\n",
       "      <td>\"A 5-[2-(dimethylamino)ethyl]-2-(4-methoxyphen...</td>\n",
       "      <td>LINCS:LSM-2523|CAS:42399-41-7 \"ChemIDplus\"|Pat...</td>\n",
       "      <td>HSUGRBWQSSZJOP-RTWAWAEBSA-N</td>\n",
       "      <td>CHEBI:4602</td>\n",
       "      <td>False</td>\n",
       "      <td>CHEBI</td>\n",
       "      <td>MESH:D004110</td>\n",
       "    </tr>\n",
       "    <tr>\n",
       "      <th>40279</th>\n",
       "      <td>3_STAR</td>\n",
       "      <td>CHEBI:76162</td>\n",
       "      <td>indoprofen</td>\n",
       "      <td>\"A monocarboxylic acid that is propionic acid ...</td>\n",
       "      <td>PMID:22282415 \"Europe PMC\"|PMID:378745 \"Europe...</td>\n",
       "      <td>RJMIEHBSYVWVIN-UHFFFAOYSA-N</td>\n",
       "      <td>NaN</td>\n",
       "      <td>False</td>\n",
       "      <td>CHEBI</td>\n",
       "      <td>MESH:D007216</td>\n",
       "    </tr>\n",
       "  </tbody>\n",
       "</table>\n",
       "</div>"
      ],
      "text/plain": [
       "        subset            id                  name  \\\n",
       "15947   3_STAR   CHEBI:34260     anthracen-2-amine   \n",
       "83981   3_STAR   CHEBI:27909           paraldehyde   \n",
       "82459   2_STAR  CHEBI:135075          alphaprodine   \n",
       "113550  3_STAR   CHEBI:75050  chromogenic compound   \n",
       "99673   2_STAR  CHEBI:135795      loperamide oxide   \n",
       "95905   2_STAR  CHEBI:134972           flosequinan   \n",
       "24915   3_STAR    CHEBI:6762            mepyramine   \n",
       "71752   3_STAR   CHEBI:44975   1,10-phenanthroline   \n",
       "24376   3_STAR  CHEBI:101278             diltiazem   \n",
       "40279   3_STAR   CHEBI:76162            indoprofen   \n",
       "\n",
       "                                                      def  \\\n",
       "15947                                                 NaN   \n",
       "83981   \"A trioxane that is 1,3,5-trioxane substituted...   \n",
       "82459                                                 NaN   \n",
       "113550  \"Colourless, endogenous or exogenous pigment p...   \n",
       "99673                                                 NaN   \n",
       "95905                                                 NaN   \n",
       "24915   \"An ethylenediamine derivative that is  ethyle...   \n",
       "71752                                                 NaN   \n",
       "24376   \"A 5-[2-(dimethylamino)ethyl]-2-(4-methoxyphen...   \n",
       "40279   \"A monocarboxylic acid that is propionic acid ...   \n",
       "\n",
       "                                                     xref  \\\n",
       "15947   Gmelin:1912207 \"Gmelin\"|KEGG:C14417|CAS:613-13...   \n",
       "83981   Beilstein:80142 \"Beilstein\"|KEGG:D00705|Wikipe...   \n",
       "82459   CAS:77-20-3 \"DrugCentral\"|Drug_Central:132 \"Dr...   \n",
       "113550                                                NaN   \n",
       "99673   CAS:106900-12-3 \"DrugCentral\"|Drug_Central:160...   \n",
       "95905   CAS:76568-02-0 \"DrugCentral\"|Drug_Central:1182...   \n",
       "24915   CAS:91-84-9 \"KEGG COMPOUND\"|KEGG:C11798|PMID:2...   \n",
       "71752   DrugBank:DB02365|Wikipedia:Phenanthroline|PMID...   \n",
       "24376   LINCS:LSM-2523|CAS:42399-41-7 \"ChemIDplus\"|Pat...   \n",
       "40279   PMID:22282415 \"Europe PMC\"|PMID:378745 \"Europe...   \n",
       "\n",
       "                               ikey                  alt_id  is_obsolete  \\\n",
       "15947   YCSBALJAGZKWFF-UHFFFAOYSA-N                     NaN        False   \n",
       "83981   SQYNKIJPMDEDEG-UHFFFAOYSA-N  CHEBI:7920|CHEBI:25854        False   \n",
       "82459   UVAZQQHAVMNMHE-XJKSGUPXSA-N                     NaN        False   \n",
       "113550                          NaN                     NaN        False   \n",
       "99673   KXVSBTJVTUVNPM-UKPNQBOSSA-N                     NaN        False   \n",
       "95905   UYGONJYYUKVHDD-UHFFFAOYSA-N                     NaN        False   \n",
       "24915   YECBIJXISLIIDS-UHFFFAOYSA-N                     NaN        False   \n",
       "71752   DGEZNRSVGBDHLK-UHFFFAOYSA-N   CHEBI:476|CHEBI:44973        False   \n",
       "24376   HSUGRBWQSSZJOP-RTWAWAEBSA-N              CHEBI:4602        False   \n",
       "40279   RJMIEHBSYVWVIN-UHFFFAOYSA-N                     NaN        False   \n",
       "\n",
       "       id_src          mesh  \n",
       "15947   CHEBI  MESH:C006593  \n",
       "83981   CHEBI  MESH:D010242  \n",
       "82459   CHEBI  MESH:D000522  \n",
       "113550  CHEBI  MESH:D002863  \n",
       "99673   CHEBI  MESH:C066043  \n",
       "95905   CHEBI  MESH:C047316  \n",
       "24915   CHEBI  MESH:D011738  \n",
       "71752   CHEBI  MESH:C025205  \n",
       "24376   CHEBI  MESH:D004110  \n",
       "40279   CHEBI  MESH:D007216  "
      ]
     },
     "execution_count": 34,
     "metadata": {},
     "output_type": "execute_result"
    }
   ],
   "source": [
    "chebi.dropna(subset=['mesh']).sample(10)"
   ]
  },
  {
   "cell_type": "code",
   "execution_count": 35,
   "metadata": {},
   "outputs": [],
   "source": [
    "chebi_ids = chebi['id'].unique()"
   ]
  },
  {
   "cell_type": "code",
   "execution_count": 36,
   "metadata": {},
   "outputs": [
    {
     "data": {
      "text/plain": [
       "8"
      ]
     },
     "execution_count": 36,
     "metadata": {},
     "output_type": "execute_result"
    }
   ],
   "source": [
    "# Any from Wiki weren't in Chebi?\n",
    "len(unique_chebi_to_mesh.query('chebi not in @chebi_ids'))"
   ]
  },
  {
   "cell_type": "markdown",
   "metadata": {},
   "source": [
    "Chebi has Alternate IDs, some of which are also ChEBI ids.. Determine if some of these account for our missing IDs"
   ]
  },
  {
   "cell_type": "code",
   "execution_count": 37,
   "metadata": {},
   "outputs": [
    {
     "data": {
      "text/plain": [
       "False"
      ]
     },
     "execution_count": 37,
     "metadata": {},
     "output_type": "execute_result"
    }
   ],
   "source": [
    "chebi_alt_ids = set(('|'.join(chebi['alt_id'].dropna().values)).split('|'))\n",
    "# Any duplicated Alt-Ids?\n",
    "len(chebi_alt_ids) != len(('|'.join(chebi['alt_id'].dropna().values)).split('|'))"
   ]
  },
  {
   "cell_type": "code",
   "execution_count": 38,
   "metadata": {},
   "outputs": [
    {
     "data": {
      "text/plain": [
       "18332"
      ]
     },
     "execution_count": 38,
     "metadata": {},
     "output_type": "execute_result"
    }
   ],
   "source": [
    "len(chebi_alt_ids)"
   ]
  },
  {
   "cell_type": "code",
   "execution_count": 39,
   "metadata": {},
   "outputs": [
    {
     "data": {
      "text/html": [
       "<div>\n",
       "<style scoped>\n",
       "    .dataframe tbody tr th:only-of-type {\n",
       "        vertical-align: middle;\n",
       "    }\n",
       "\n",
       "    .dataframe tbody tr th {\n",
       "        vertical-align: top;\n",
       "    }\n",
       "\n",
       "    .dataframe thead th {\n",
       "        text-align: right;\n",
       "    }\n",
       "</style>\n",
       "<table border=\"1\" class=\"dataframe\">\n",
       "  <thead>\n",
       "    <tr style=\"text-align: right;\">\n",
       "      <th></th>\n",
       "      <th>chebi</th>\n",
       "      <th>mesh</th>\n",
       "      <th>item</th>\n",
       "      <th>itemLabel</th>\n",
       "    </tr>\n",
       "  </thead>\n",
       "  <tbody>\n",
       "    <tr>\n",
       "      <th>602</th>\n",
       "      <td>CHEBI:231177</td>\n",
       "      <td>MESH:D005017</td>\n",
       "      <td>Q426269</td>\n",
       "      <td>Ethyl biscoumacetate</td>\n",
       "    </tr>\n",
       "    <tr>\n",
       "      <th>901</th>\n",
       "      <td>CHEBI:1201724</td>\n",
       "      <td>MESH:D011206</td>\n",
       "      <td>Q241516</td>\n",
       "      <td>Povidone-iodine</td>\n",
       "    </tr>\n",
       "    <tr>\n",
       "      <th>2437</th>\n",
       "      <td>CHEBI:144353</td>\n",
       "      <td>MESH:D004050</td>\n",
       "      <td>Q27093504</td>\n",
       "      <td>ditiocarb</td>\n",
       "    </tr>\n",
       "    <tr>\n",
       "      <th>2686</th>\n",
       "      <td>CHEBI:553487</td>\n",
       "      <td>MESH:C015208</td>\n",
       "      <td>Q5404861</td>\n",
       "      <td>etozoline</td>\n",
       "    </tr>\n",
       "    <tr>\n",
       "      <th>3207</th>\n",
       "      <td>CHEBI:345108</td>\n",
       "      <td>MESH:C034204</td>\n",
       "      <td>Q6015692</td>\n",
       "      <td>indanidine</td>\n",
       "    </tr>\n",
       "    <tr>\n",
       "      <th>3373</th>\n",
       "      <td>CHEBI:1201185</td>\n",
       "      <td>MESH:C060347</td>\n",
       "      <td>Q1707877</td>\n",
       "      <td>lanreotide</td>\n",
       "    </tr>\n",
       "    <tr>\n",
       "      <th>3894</th>\n",
       "      <td>CHEBI:144804</td>\n",
       "      <td>MESH:C017557</td>\n",
       "      <td>Q13896593</td>\n",
       "      <td>nickel subsulfide</td>\n",
       "    </tr>\n",
       "    <tr>\n",
       "      <th>5295</th>\n",
       "      <td>CHEBI:144441</td>\n",
       "      <td>MESH:C034613</td>\n",
       "      <td>Q7839870</td>\n",
       "      <td>triacsin c</td>\n",
       "    </tr>\n",
       "  </tbody>\n",
       "</table>\n",
       "</div>"
      ],
      "text/plain": [
       "              chebi          mesh       item             itemLabel\n",
       "602    CHEBI:231177  MESH:D005017    Q426269  Ethyl biscoumacetate\n",
       "901   CHEBI:1201724  MESH:D011206    Q241516       Povidone-iodine\n",
       "2437   CHEBI:144353  MESH:D004050  Q27093504             ditiocarb\n",
       "2686   CHEBI:553487  MESH:C015208   Q5404861             etozoline\n",
       "3207   CHEBI:345108  MESH:C034204   Q6015692            indanidine\n",
       "3373  CHEBI:1201185  MESH:C060347   Q1707877            lanreotide\n",
       "3894   CHEBI:144804  MESH:C017557  Q13896593     nickel subsulfide\n",
       "5295   CHEBI:144441  MESH:C034613   Q7839870            triacsin c"
      ]
     },
     "execution_count": 39,
     "metadata": {},
     "output_type": "execute_result"
    }
   ],
   "source": [
    "unique_chebi_to_mesh.query('chebi not in @chebi_ids and chebi not in @chebi_alt_ids')"
   ]
  },
  {
   "cell_type": "markdown",
   "metadata": {},
   "source": [
    "All just don't exist... in either full chebi or the alternate ids... Still, lets get a map from the alternate ids"
   ]
  },
  {
   "cell_type": "code",
   "execution_count": 40,
   "metadata": {},
   "outputs": [
    {
     "data": {
      "text/plain": [
       "7513"
      ]
     },
     "execution_count": 40,
     "metadata": {},
     "output_type": "execute_result"
    }
   ],
   "source": [
    "alt_to_standard_chebi = chebi.dropna(subset=['alt_id']).set_index('alt_id')['id'].to_dict()\n",
    "len(alt_to_standard_chebi)"
   ]
  },
  {
   "cell_type": "markdown",
   "metadata": {},
   "source": [
    "Some alternate ids are multiple ChEBIs e.g. `'CHEBI:569|CHEBI:18963|CHEBI:11189'` so split those out into separate mappings"
   ]
  },
  {
   "cell_type": "code",
   "execution_count": 41,
   "metadata": {},
   "outputs": [
    {
     "data": {
      "text/plain": [
       "18332"
      ]
     },
     "execution_count": 41,
     "metadata": {},
     "output_type": "execute_result"
    }
   ],
   "source": [
    "alt_to_standard_chebi = {k: v for ks, v in alt_to_standard_chebi.items() for k in ks.split('|') }\n",
    "len(alt_to_standard_chebi)"
   ]
  },
  {
   "cell_type": "markdown",
   "metadata": {},
   "source": [
    "#### Generation of chebi to mesh dict\n",
    "\n",
    "We really are interested in the 1 to 1 mappings (chebi should be a bit more specific than MeSH so in the Chebi to Mesh direction, we should be able to do 1 to 1 for most items)"
   ]
  },
  {
   "cell_type": "code",
   "execution_count": 42,
   "metadata": {},
   "outputs": [],
   "source": [
    "chebi_to_mesh_dict = (unique_chebi_to_mesh.query('chebi not in @chebi_ids')\n",
    "                      .set_index('mesh')['chebi']\n",
    "                      .map(alt_to_standard_chebi)\n",
    "                      .dropna()\n",
    "                      .to_dict())\n",
    "chebi_to_mesh_dict = {v: k for k, v in chebi_to_mesh_dict.items()}"
   ]
  },
  {
   "cell_type": "code",
   "execution_count": 43,
   "metadata": {},
   "outputs": [
    {
     "data": {
      "text/plain": [
       "0"
      ]
     },
     "execution_count": 43,
     "metadata": {},
     "output_type": "execute_result"
    }
   ],
   "source": [
    "len(chebi_to_mesh_dict)"
   ]
  },
  {
   "cell_type": "code",
   "execution_count": 44,
   "metadata": {},
   "outputs": [
    {
     "data": {
      "text/plain": [
       "5500"
      ]
     },
     "execution_count": 44,
     "metadata": {},
     "output_type": "execute_result"
    }
   ],
   "source": [
    "before = chebi['mesh'].count()\n",
    "before"
   ]
  },
  {
   "cell_type": "code",
   "execution_count": 45,
   "metadata": {},
   "outputs": [
    {
     "data": {
      "text/plain": [
       "0"
      ]
     },
     "execution_count": 45,
     "metadata": {},
     "output_type": "execute_result"
    }
   ],
   "source": [
    "chebi['mesh'] = chebi['mesh'].fillna(chebi['id'].map(chebi_to_mesh_dict))\n",
    "after = chebi['mesh'].count()\n",
    "after - before"
   ]
  },
  {
   "cell_type": "markdown",
   "metadata": {},
   "source": [
    "### The 36 Chebi items that have multiple chebi ids..."
   ]
  },
  {
   "cell_type": "code",
   "execution_count": 46,
   "metadata": {},
   "outputs": [
    {
     "data": {
      "text/html": [
       "<div>\n",
       "<style scoped>\n",
       "    .dataframe tbody tr th:only-of-type {\n",
       "        vertical-align: middle;\n",
       "    }\n",
       "\n",
       "    .dataframe tbody tr th {\n",
       "        vertical-align: top;\n",
       "    }\n",
       "\n",
       "    .dataframe thead th {\n",
       "        text-align: right;\n",
       "    }\n",
       "</style>\n",
       "<table border=\"1\" class=\"dataframe\">\n",
       "  <thead>\n",
       "    <tr style=\"text-align: right;\">\n",
       "      <th></th>\n",
       "      <th>chebi</th>\n",
       "      <th>mesh</th>\n",
       "      <th>item</th>\n",
       "      <th>itemLabel</th>\n",
       "    </tr>\n",
       "  </thead>\n",
       "  <tbody>\n",
       "    <tr>\n",
       "      <th>410</th>\n",
       "      <td>CHEBI:49167</td>\n",
       "      <td>MESH:D018927</td>\n",
       "      <td>Q50430265</td>\n",
       "      <td>Anti-Asthmatic Agents</td>\n",
       "    </tr>\n",
       "    <tr>\n",
       "      <th>411</th>\n",
       "      <td>CHEBI:65023</td>\n",
       "      <td>MESH:D018927</td>\n",
       "      <td>Q50430265</td>\n",
       "      <td>Anti-Asthmatic Agents</td>\n",
       "    </tr>\n",
       "  </tbody>\n",
       "</table>\n",
       "</div>"
      ],
      "text/plain": [
       "           chebi          mesh       item              itemLabel\n",
       "410  CHEBI:49167  MESH:D018927  Q50430265  Anti-Asthmatic Agents\n",
       "411  CHEBI:65023  MESH:D018927  Q50430265  Anti-Asthmatic Agents"
      ]
     },
     "execution_count": 46,
     "metadata": {},
     "output_type": "execute_result"
    }
   ],
   "source": [
    "chebi_duped.head(2)"
   ]
  },
  {
   "cell_type": "code",
   "execution_count": 47,
   "metadata": {},
   "outputs": [
    {
     "data": {
      "text/plain": [
       "16"
      ]
     },
     "execution_count": 47,
     "metadata": {},
     "output_type": "execute_result"
    }
   ],
   "source": [
    "chebi_duped['item'].nunique()"
   ]
  },
  {
   "cell_type": "code",
   "execution_count": 48,
   "metadata": {},
   "outputs": [
    {
     "data": {
      "text/plain": [
       "0"
      ]
     },
     "execution_count": 48,
     "metadata": {},
     "output_type": "execute_result"
    }
   ],
   "source": [
    "chebi_duped['new_chebi'] = chebi_duped['chebi'].map(alt_to_standard_chebi)\n",
    "chebi_duped['new_chebi'].count()"
   ]
  },
  {
   "cell_type": "markdown",
   "metadata": {},
   "source": [
    "none mapped thorugh alternate ids.."
   ]
  },
  {
   "cell_type": "code",
   "execution_count": 49,
   "metadata": {},
   "outputs": [
    {
     "data": {
      "text/plain": [
       "31"
      ]
     },
     "execution_count": 49,
     "metadata": {},
     "output_type": "execute_result"
    }
   ],
   "source": [
    "chebi_duped['new_chebi'] = chebi_duped['new_chebi'].fillna(chebi_duped['chebi'])\n",
    "chebi_duped['new_chebi'].nunique()"
   ]
  },
  {
   "cell_type": "code",
   "execution_count": 50,
   "metadata": {},
   "outputs": [
    {
     "data": {
      "text/plain": [
       "(31, 16)"
      ]
     },
     "execution_count": 50,
     "metadata": {},
     "output_type": "execute_result"
    }
   ],
   "source": [
    "in_ontology = pd.merge(chebi_duped, chebi, how='inner', left_on='new_chebi', right_on='id')\n",
    "in_ontology['new_chebi'].nunique(), in_ontology['item'].nunique()"
   ]
  },
  {
   "cell_type": "markdown",
   "metadata": {},
   "source": [
    "Still more chebi ids than wikidata items... and all can be mapped to the ontology!"
   ]
  },
  {
   "cell_type": "code",
   "execution_count": 51,
   "metadata": {},
   "outputs": [
    {
     "data": {
      "text/plain": [
       "chebi          31\n",
       "mesh_x         15\n",
       "item           16\n",
       "itemLabel      16\n",
       "new_chebi      31\n",
       "subset          2\n",
       "id             31\n",
       "name           31\n",
       "def            29\n",
       "xref           22\n",
       "ikey           13\n",
       "alt_id          7\n",
       "is_obsolete     1\n",
       "id_src          1\n",
       "mesh_y          0\n",
       "dtype: int64"
      ]
     },
     "execution_count": 51,
     "metadata": {},
     "output_type": "execute_result"
    }
   ],
   "source": [
    "in_ontology.drop_duplicates(subset=['new_chebi', 'item', 'mesh_x']).nunique()"
   ]
  },
  {
   "cell_type": "code",
   "execution_count": 52,
   "metadata": {},
   "outputs": [],
   "source": [
    "in_ontology = in_ontology.drop_duplicates(subset=['new_chebi', 'item', 'mesh_x'])"
   ]
  },
  {
   "cell_type": "code",
   "execution_count": 53,
   "metadata": {},
   "outputs": [
    {
     "data": {
      "text/plain": [
       "0"
      ]
     },
     "execution_count": 53,
     "metadata": {},
     "output_type": "execute_result"
    }
   ],
   "source": [
    "new_1t1 = (in_ontology.drop_duplicates(subset=['mesh_x'], keep=False)\n",
    "                .drop_duplicates(subset=['new_chebi'], keep=False))\n",
    "len(new_1t1)"
   ]
  },
  {
   "cell_type": "markdown",
   "metadata": {},
   "source": [
    "great... nothing has a 1 to 1 mapping (everything is duplicated)"
   ]
  },
  {
   "cell_type": "code",
   "execution_count": 54,
   "metadata": {},
   "outputs": [],
   "source": [
    "chebi_to_mesh_dict = new_1t1.set_index('new_chebi')['mesh_x'].to_dict()"
   ]
  },
  {
   "cell_type": "code",
   "execution_count": 55,
   "metadata": {},
   "outputs": [
    {
     "data": {
      "text/html": [
       "<div>\n",
       "<style scoped>\n",
       "    .dataframe tbody tr th:only-of-type {\n",
       "        vertical-align: middle;\n",
       "    }\n",
       "\n",
       "    .dataframe tbody tr th {\n",
       "        vertical-align: top;\n",
       "    }\n",
       "\n",
       "    .dataframe thead th {\n",
       "        text-align: right;\n",
       "    }\n",
       "</style>\n",
       "<table border=\"1\" class=\"dataframe\">\n",
       "  <thead>\n",
       "    <tr style=\"text-align: right;\">\n",
       "      <th></th>\n",
       "      <th>itemLabel</th>\n",
       "      <th>name</th>\n",
       "      <th>mesh_x</th>\n",
       "      <th>id</th>\n",
       "    </tr>\n",
       "  </thead>\n",
       "  <tbody>\n",
       "    <tr>\n",
       "      <th>4</th>\n",
       "      <td>N(5)-hydroxy-L-ornithine</td>\n",
       "      <td>N(5)-hydroxy-L-ornithine</td>\n",
       "      <td>MESH:C004976</td>\n",
       "      <td>CHEBI:79095</td>\n",
       "    </tr>\n",
       "    <tr>\n",
       "      <th>5</th>\n",
       "      <td>N(5)-hydroxy-L-ornithine</td>\n",
       "      <td>N(5)-hydroxy-L-ornithine zwitterion</td>\n",
       "      <td>MESH:C004976</td>\n",
       "      <td>CHEBI:78275</td>\n",
       "    </tr>\n",
       "    <tr>\n",
       "      <th>16</th>\n",
       "      <td>glycine</td>\n",
       "      <td>glycine zwitterion</td>\n",
       "      <td>MESH:D005998</td>\n",
       "      <td>CHEBI:57305</td>\n",
       "    </tr>\n",
       "    <tr>\n",
       "      <th>15</th>\n",
       "      <td>glycine</td>\n",
       "      <td>glycine</td>\n",
       "      <td>MESH:D005998</td>\n",
       "      <td>CHEBI:15428</td>\n",
       "    </tr>\n",
       "    <tr>\n",
       "      <th>18</th>\n",
       "      <td>indans</td>\n",
       "      <td>indanes</td>\n",
       "      <td>MESH:D007189</td>\n",
       "      <td>CHEBI:46940</td>\n",
       "    </tr>\n",
       "    <tr>\n",
       "      <th>17</th>\n",
       "      <td>indane</td>\n",
       "      <td>indane</td>\n",
       "      <td>MESH:D007189</td>\n",
       "      <td>CHEBI:37911</td>\n",
       "    </tr>\n",
       "    <tr>\n",
       "      <th>19</th>\n",
       "      <td>mimosine</td>\n",
       "      <td>L-mimosine</td>\n",
       "      <td>MESH:D008898</td>\n",
       "      <td>CHEBI:29063</td>\n",
       "    </tr>\n",
       "    <tr>\n",
       "      <th>20</th>\n",
       "      <td>mimosine</td>\n",
       "      <td>L-mimosine zwitterion</td>\n",
       "      <td>MESH:D008898</td>\n",
       "      <td>CHEBI:77689</td>\n",
       "    </tr>\n",
       "    <tr>\n",
       "      <th>23</th>\n",
       "      <td>neostigmine</td>\n",
       "      <td>neostigmine methyl sulfate</td>\n",
       "      <td>MESH:D009388</td>\n",
       "      <td>CHEBI:7516</td>\n",
       "    </tr>\n",
       "    <tr>\n",
       "      <th>24</th>\n",
       "      <td>neostigmine</td>\n",
       "      <td>neostigmine</td>\n",
       "      <td>MESH:D009388</td>\n",
       "      <td>CHEBI:7514</td>\n",
       "    </tr>\n",
       "    <tr>\n",
       "      <th>7</th>\n",
       "      <td>Polylysine</td>\n",
       "      <td>poly(lysine) macromolecule</td>\n",
       "      <td>MESH:D011107</td>\n",
       "      <td>CHEBI:53411</td>\n",
       "    </tr>\n",
       "    <tr>\n",
       "      <th>6</th>\n",
       "      <td>Polylysine</td>\n",
       "      <td>poly(lysine) polymer</td>\n",
       "      <td>MESH:D011107</td>\n",
       "      <td>CHEBI:61488</td>\n",
       "    </tr>\n",
       "    <tr>\n",
       "      <th>10</th>\n",
       "      <td>Ribostamycin</td>\n",
       "      <td>ribostamycin(4+)</td>\n",
       "      <td>MESH:D012271</td>\n",
       "      <td>CHEBI:65028</td>\n",
       "    </tr>\n",
       "    <tr>\n",
       "      <th>8</th>\n",
       "      <td>Ribostamycin</td>\n",
       "      <td>ribostamycin sulfate</td>\n",
       "      <td>MESH:D012271</td>\n",
       "      <td>CHEBI:10003</td>\n",
       "    </tr>\n",
       "    <tr>\n",
       "      <th>9</th>\n",
       "      <td>Ribostamycin</td>\n",
       "      <td>ribostamycin</td>\n",
       "      <td>MESH:D012271</td>\n",
       "      <td>CHEBI:45257</td>\n",
       "    </tr>\n",
       "    <tr>\n",
       "      <th>27</th>\n",
       "      <td>sarcosine</td>\n",
       "      <td>sarcosine</td>\n",
       "      <td>MESH:D012521</td>\n",
       "      <td>CHEBI:15611</td>\n",
       "    </tr>\n",
       "    <tr>\n",
       "      <th>28</th>\n",
       "      <td>sarcosine</td>\n",
       "      <td>sarcosine zwitterion</td>\n",
       "      <td>MESH:D012521</td>\n",
       "      <td>CHEBI:57433</td>\n",
       "    </tr>\n",
       "    <tr>\n",
       "      <th>29</th>\n",
       "      <td>β-alanine</td>\n",
       "      <td>beta-alanine</td>\n",
       "      <td>MESH:D015091</td>\n",
       "      <td>CHEBI:16958</td>\n",
       "    </tr>\n",
       "    <tr>\n",
       "      <th>30</th>\n",
       "      <td>β-alanine</td>\n",
       "      <td>beta-alanine zwitterion</td>\n",
       "      <td>MESH:D015091</td>\n",
       "      <td>CHEBI:57966</td>\n",
       "    </tr>\n",
       "  </tbody>\n",
       "</table>\n",
       "</div>"
      ],
      "text/plain": [
       "                   itemLabel                                 name  \\\n",
       "4   N(5)-hydroxy-L-ornithine             N(5)-hydroxy-L-ornithine   \n",
       "5   N(5)-hydroxy-L-ornithine  N(5)-hydroxy-L-ornithine zwitterion   \n",
       "16                   glycine                   glycine zwitterion   \n",
       "15                   glycine                              glycine   \n",
       "18                    indans                              indanes   \n",
       "17                    indane                               indane   \n",
       "19                  mimosine                           L-mimosine   \n",
       "20                  mimosine                L-mimosine zwitterion   \n",
       "23               neostigmine           neostigmine methyl sulfate   \n",
       "24               neostigmine                          neostigmine   \n",
       "7                 Polylysine           poly(lysine) macromolecule   \n",
       "6                 Polylysine                 poly(lysine) polymer   \n",
       "10              Ribostamycin                     ribostamycin(4+)   \n",
       "8               Ribostamycin                 ribostamycin sulfate   \n",
       "9               Ribostamycin                         ribostamycin   \n",
       "27                 sarcosine                            sarcosine   \n",
       "28                 sarcosine                 sarcosine zwitterion   \n",
       "29                 β-alanine                         beta-alanine   \n",
       "30                 β-alanine              beta-alanine zwitterion   \n",
       "\n",
       "          mesh_x           id  \n",
       "4   MESH:C004976  CHEBI:79095  \n",
       "5   MESH:C004976  CHEBI:78275  \n",
       "16  MESH:D005998  CHEBI:57305  \n",
       "15  MESH:D005998  CHEBI:15428  \n",
       "18  MESH:D007189  CHEBI:46940  \n",
       "17  MESH:D007189  CHEBI:37911  \n",
       "19  MESH:D008898  CHEBI:29063  \n",
       "20  MESH:D008898  CHEBI:77689  \n",
       "23  MESH:D009388   CHEBI:7516  \n",
       "24  MESH:D009388   CHEBI:7514  \n",
       "7   MESH:D011107  CHEBI:53411  \n",
       "6   MESH:D011107  CHEBI:61488  \n",
       "10  MESH:D012271  CHEBI:65028  \n",
       "8   MESH:D012271  CHEBI:10003  \n",
       "9   MESH:D012271  CHEBI:45257  \n",
       "27  MESH:D012521  CHEBI:15611  \n",
       "28  MESH:D012521  CHEBI:57433  \n",
       "29  MESH:D015091  CHEBI:16958  \n",
       "30  MESH:D015091  CHEBI:57966  "
      ]
     },
     "execution_count": 55,
     "metadata": {},
     "output_type": "execute_result"
    }
   ],
   "source": [
    "# See some duplicated MeSH IDs for some unique CHEBI IDs...\n",
    "duped = in_ontology[in_ontology['mesh_x'].duplicated()]['mesh_x'].sample(10).values\n",
    "in_ontology.query('mesh_x in @duped').sort_values('mesh_x')[['itemLabel', 'name', 'mesh_x', 'id']]"
   ]
  },
  {
   "cell_type": "markdown",
   "metadata": {},
   "source": [
    "We'll keep this one to many relationship..."
   ]
  },
  {
   "cell_type": "code",
   "execution_count": 56,
   "metadata": {},
   "outputs": [],
   "source": [
    "found = list(chebi_to_mesh_dict.keys())\n",
    "chebi_to_mesh_dict.update(in_ontology.query('new_chebi not in @found')\n",
    "                                     .drop_duplicates(subset=['new_chebi'], keep=False)\n",
    "                                     .set_index('new_chebi')['mesh_x']\n",
    "                                     .to_dict())"
   ]
  },
  {
   "cell_type": "code",
   "execution_count": 57,
   "metadata": {},
   "outputs": [
    {
     "data": {
      "text/html": [
       "<div>\n",
       "<style scoped>\n",
       "    .dataframe tbody tr th:only-of-type {\n",
       "        vertical-align: middle;\n",
       "    }\n",
       "\n",
       "    .dataframe tbody tr th {\n",
       "        vertical-align: top;\n",
       "    }\n",
       "\n",
       "    .dataframe thead th {\n",
       "        text-align: right;\n",
       "    }\n",
       "</style>\n",
       "<table border=\"1\" class=\"dataframe\">\n",
       "  <thead>\n",
       "    <tr style=\"text-align: right;\">\n",
       "      <th></th>\n",
       "      <th>itemLabel</th>\n",
       "      <th>name</th>\n",
       "      <th>new_chebi</th>\n",
       "      <th>mesh_x</th>\n",
       "      <th>item</th>\n",
       "    </tr>\n",
       "  </thead>\n",
       "  <tbody>\n",
       "  </tbody>\n",
       "</table>\n",
       "</div>"
      ],
      "text/plain": [
       "Empty DataFrame\n",
       "Columns: [itemLabel, name, new_chebi, mesh_x, item]\n",
       "Index: []"
      ]
     },
     "execution_count": 57,
     "metadata": {},
     "output_type": "execute_result"
    }
   ],
   "source": [
    "# Examine where chebi ids are duplicated.... (but potentially uniqe items or mesh_ids...)\n",
    "(in_ontology[in_ontology['new_chebi'].duplicated(keep=False)]   \n",
    " .sort_values('new_chebi')[['itemLabel', 'name', 'new_chebi', 'mesh_x', 'item']])"
   ]
  },
  {
   "cell_type": "markdown",
   "metadata": {},
   "source": [
    "- Vitamin C and asorbic acid are same... don't know why wikidata consideres them different...\n",
    "\n",
    "- Insoine \n",
    "    - D007288 - Correct...\n",
    "    - D007292\tInosine Nucleotides\n",
    "\n",
    "- Guanidine\n",
    "    - D019791 is correct\n",
    "    - D006146 is the class of compounds.... (Guanidines)"
   ]
  },
  {
   "cell_type": "code",
   "execution_count": 58,
   "metadata": {},
   "outputs": [],
   "source": [
    "chebi_to_mesh_dict['CHEBI:42820'] = 'MESH:D019791'\n",
    "chebi_to_mesh_dict['CHEBI:17596'] = 'MESH:D007288'"
   ]
  },
  {
   "cell_type": "code",
   "execution_count": 59,
   "metadata": {},
   "outputs": [
    {
     "data": {
      "text/plain": [
       "33"
      ]
     },
     "execution_count": 59,
     "metadata": {},
     "output_type": "execute_result"
    }
   ],
   "source": [
    "len(chebi_to_mesh_dict)"
   ]
  },
  {
   "cell_type": "code",
   "execution_count": 60,
   "metadata": {},
   "outputs": [
    {
     "data": {
      "text/plain": [
       "5500"
      ]
     },
     "execution_count": 60,
     "metadata": {},
     "output_type": "execute_result"
    }
   ],
   "source": [
    "before = chebi['mesh'].count()\n",
    "before"
   ]
  },
  {
   "cell_type": "code",
   "execution_count": 61,
   "metadata": {},
   "outputs": [
    {
     "data": {
      "text/plain": [
       "31"
      ]
     },
     "execution_count": 61,
     "metadata": {},
     "output_type": "execute_result"
    }
   ],
   "source": [
    "chebi['mesh'] = chebi['mesh'].fillna(chebi['id'].map(chebi_to_mesh_dict))\n",
    "after = chebi['mesh'].count()\n",
    "after - before"
   ]
  },
  {
   "cell_type": "markdown",
   "metadata": {},
   "source": [
    "2 Didn't map, but for now we're about as good was we can get from WikiData"
   ]
  },
  {
   "cell_type": "code",
   "execution_count": 62,
   "metadata": {},
   "outputs": [
    {
     "data": {
      "text/html": [
       "<div>\n",
       "<style scoped>\n",
       "    .dataframe tbody tr th:only-of-type {\n",
       "        vertical-align: middle;\n",
       "    }\n",
       "\n",
       "    .dataframe tbody tr th {\n",
       "        vertical-align: top;\n",
       "    }\n",
       "\n",
       "    .dataframe thead th {\n",
       "        text-align: right;\n",
       "    }\n",
       "</style>\n",
       "<table border=\"1\" class=\"dataframe\">\n",
       "  <thead>\n",
       "    <tr style=\"text-align: right;\">\n",
       "      <th></th>\n",
       "      <th>subset</th>\n",
       "      <th>id</th>\n",
       "      <th>name</th>\n",
       "      <th>def</th>\n",
       "      <th>xref</th>\n",
       "      <th>ikey</th>\n",
       "      <th>alt_id</th>\n",
       "      <th>is_obsolete</th>\n",
       "      <th>id_src</th>\n",
       "      <th>mesh</th>\n",
       "    </tr>\n",
       "  </thead>\n",
       "  <tbody>\n",
       "    <tr>\n",
       "      <th>109343</th>\n",
       "      <td>3_STAR</td>\n",
       "      <td>CHEBI:25901</td>\n",
       "      <td>pentose</td>\n",
       "      <td>\"A five-carbon monosaccharide which in its lin...</td>\n",
       "      <td>NaN</td>\n",
       "      <td>NaN</td>\n",
       "      <td>NaN</td>\n",
       "      <td>False</td>\n",
       "      <td>CHEBI</td>\n",
       "      <td>MESH:D010429</td>\n",
       "    </tr>\n",
       "    <tr>\n",
       "      <th>108736</th>\n",
       "      <td>3_STAR</td>\n",
       "      <td>CHEBI:7508</td>\n",
       "      <td>framycetin</td>\n",
       "      <td>\"A tetracyclic antibacterial agent derived fro...</td>\n",
       "      <td>Drug_Central:1896 \"DrugCentral\"|PMID:25588492 ...</td>\n",
       "      <td>PGBHMTALBVVCIT-VCIWKGPPSA-N</td>\n",
       "      <td>CHEBI:44577</td>\n",
       "      <td>False</td>\n",
       "      <td>CHEBI</td>\n",
       "      <td>MESH:D005601</td>\n",
       "    </tr>\n",
       "    <tr>\n",
       "      <th>33041</th>\n",
       "      <td>3_STAR</td>\n",
       "      <td>CHEBI:15996</td>\n",
       "      <td>GTP</td>\n",
       "      <td>NaN</td>\n",
       "      <td>Beilstein:1201437 \"ChemIDplus\"|KNApSAcK:C00007...</td>\n",
       "      <td>XKMLYUALXHKNFT-UUOKFMHZSA-N</td>\n",
       "      <td>CHEBI:24451|CHEBI:13342|CHEBI:42934|CHEBI:5234</td>\n",
       "      <td>False</td>\n",
       "      <td>CHEBI</td>\n",
       "      <td>MESH:D006160</td>\n",
       "    </tr>\n",
       "    <tr>\n",
       "      <th>39890</th>\n",
       "      <td>3_STAR</td>\n",
       "      <td>CHEBI:51208</td>\n",
       "      <td>mecillinam</td>\n",
       "      <td>\"A penicillin in which the 6beta substituent i...</td>\n",
       "      <td>Patent:US3957764|LINCS:LSM-5528|CAS:32887-01-7...</td>\n",
       "      <td>BWWVAEOLVKTZFQ-NTZNESFSSA-N</td>\n",
       "      <td>NaN</td>\n",
       "      <td>False</td>\n",
       "      <td>CHEBI</td>\n",
       "      <td>MESH:D000560</td>\n",
       "    </tr>\n",
       "    <tr>\n",
       "      <th>112840</th>\n",
       "      <td>3_STAR</td>\n",
       "      <td>CHEBI:50185</td>\n",
       "      <td>fatty acid synthesis inhibitor</td>\n",
       "      <td>\"Any pathway inhibitor that inhibits the synth...</td>\n",
       "      <td>NaN</td>\n",
       "      <td>NaN</td>\n",
       "      <td>NaN</td>\n",
       "      <td>False</td>\n",
       "      <td>CHEBI</td>\n",
       "      <td>MESH:D054872</td>\n",
       "    </tr>\n",
       "    <tr>\n",
       "      <th>14754</th>\n",
       "      <td>3_STAR</td>\n",
       "      <td>CHEBI:49770</td>\n",
       "      <td>methyl red</td>\n",
       "      <td>\"An azo dye consisting of benzoic acid substit...</td>\n",
       "      <td>Wikipedia:Methyl_red|KEGG:C19459|Reaxys:750102...</td>\n",
       "      <td>CEQFOVLGLXCDCX-WUKNDPDISA-N</td>\n",
       "      <td>NaN</td>\n",
       "      <td>False</td>\n",
       "      <td>CHEBI</td>\n",
       "      <td>MESH:C008492</td>\n",
       "    </tr>\n",
       "    <tr>\n",
       "      <th>10952</th>\n",
       "      <td>3_STAR</td>\n",
       "      <td>CHEBI:46020</td>\n",
       "      <td>tetramethylammonium</td>\n",
       "      <td>\"The simplest quaternary ammonium cation, comp...</td>\n",
       "      <td>Reaxys:1733140 \"Reaxys\"|DrugBank:DB03095|PMID:...</td>\n",
       "      <td>QEMXHQIAXOOASZ-UHFFFAOYSA-N</td>\n",
       "      <td>CHEBI:46018|CHEBI:35264</td>\n",
       "      <td>False</td>\n",
       "      <td>CHEBI</td>\n",
       "      <td>MESH:C027917</td>\n",
       "    </tr>\n",
       "    <tr>\n",
       "      <th>104032</th>\n",
       "      <td>3_STAR</td>\n",
       "      <td>CHEBI:75377</td>\n",
       "      <td>phenyl biguanide</td>\n",
       "      <td>\"A member of the class of biguanides that is b...</td>\n",
       "      <td>CAS:102-02-3 \"NIST Chemistry WebBook\"|LINCS:LS...</td>\n",
       "      <td>CUQCMXFWIMOWRP-UHFFFAOYSA-N</td>\n",
       "      <td>NaN</td>\n",
       "      <td>False</td>\n",
       "      <td>CHEBI</td>\n",
       "      <td>MESH:C008846</td>\n",
       "    </tr>\n",
       "    <tr>\n",
       "      <th>32994</th>\n",
       "      <td>3_STAR</td>\n",
       "      <td>CHEBI:15751</td>\n",
       "      <td>ADP alpha-D-glucoside</td>\n",
       "      <td>\"An ADP-aldose having alpha-D-glucopyranose as...</td>\n",
       "      <td>HMDB:HMDB0006557|ECMDB:ECMDB06557|PMID:2353732...</td>\n",
       "      <td>WFPZSXYXPSUOPY-ROYWQJLOSA-N</td>\n",
       "      <td>CHEBI:13230|CHEBI:20846|CHEBI:2349|CHEBI:40615</td>\n",
       "      <td>False</td>\n",
       "      <td>CHEBI</td>\n",
       "      <td>MESH:D000245</td>\n",
       "    </tr>\n",
       "    <tr>\n",
       "      <th>101578</th>\n",
       "      <td>2_STAR</td>\n",
       "      <td>CHEBI:80271</td>\n",
       "      <td>Glucagon-like peptide 2</td>\n",
       "      <td>NaN</td>\n",
       "      <td>KEGG:C16049</td>\n",
       "      <td>NaN</td>\n",
       "      <td>NaN</td>\n",
       "      <td>False</td>\n",
       "      <td>CHEBI</td>\n",
       "      <td>MESH:D053767</td>\n",
       "    </tr>\n",
       "    <tr>\n",
       "      <th>24180</th>\n",
       "      <td>3_STAR</td>\n",
       "      <td>CHEBI:247956</td>\n",
       "      <td>cinchocaine</td>\n",
       "      <td>\"A monocarboxylic acid amide that is the 2-(di...</td>\n",
       "      <td>PMID:2873227 \"Europe PMC\"|Drug_Central:859 \"Dr...</td>\n",
       "      <td>PUFQVTATUTYEAL-UHFFFAOYSA-N</td>\n",
       "      <td>CHEBI:4500</td>\n",
       "      <td>False</td>\n",
       "      <td>CHEBI</td>\n",
       "      <td>MESH:D003992</td>\n",
       "    </tr>\n",
       "    <tr>\n",
       "      <th>60925</th>\n",
       "      <td>3_STAR</td>\n",
       "      <td>CHEBI:17933</td>\n",
       "      <td>calcidiol</td>\n",
       "      <td>\"A hydroxycalciol that is calciol in which the...</td>\n",
       "      <td>Beilstein:4270041 \"Beilstein\"|LIPID_MAPS_insta...</td>\n",
       "      <td>JWUBBDSIWDLEOM-DTOXIADCSA-N</td>\n",
       "      <td>CHEBI:46387|CHEBI:3304|CHEBI:13931|CHEBI:19815</td>\n",
       "      <td>False</td>\n",
       "      <td>CHEBI</td>\n",
       "      <td>MESH:D002112</td>\n",
       "    </tr>\n",
       "    <tr>\n",
       "      <th>73765</th>\n",
       "      <td>3_STAR</td>\n",
       "      <td>CHEBI:78782</td>\n",
       "      <td>pyrrolidine dithiocarbamate</td>\n",
       "      <td>\"A member of the class of dithiocarbamic acids...</td>\n",
       "      <td>LINCS:LSM-3818|Wikipedia:Pyrrolidine_dithiocar...</td>\n",
       "      <td>VSWDORGPIHIGNW-UHFFFAOYSA-N</td>\n",
       "      <td>NaN</td>\n",
       "      <td>False</td>\n",
       "      <td>CHEBI</td>\n",
       "      <td>MESH:C020972</td>\n",
       "    </tr>\n",
       "    <tr>\n",
       "      <th>26637</th>\n",
       "      <td>3_STAR</td>\n",
       "      <td>CHEBI:30278</td>\n",
       "      <td>phosphane</td>\n",
       "      <td>\"The simplest phosphine, consisting of a singl...</td>\n",
       "      <td>Gmelin:287 \"Gmelin\"|CAS:7803-51-2 \"ChemIDplus\"...</td>\n",
       "      <td>XYFCBTPGUUZFHI-UHFFFAOYSA-N</td>\n",
       "      <td>NaN</td>\n",
       "      <td>False</td>\n",
       "      <td>CHEBI</td>\n",
       "      <td>MESH:C044646</td>\n",
       "    </tr>\n",
       "    <tr>\n",
       "      <th>82108</th>\n",
       "      <td>2_STAR</td>\n",
       "      <td>CHEBI:92090</td>\n",
       "      <td>4-(4-chlorophenyl)-1-(1H-indol-3-ylmethyl)-4-p...</td>\n",
       "      <td>NaN</td>\n",
       "      <td>LINCS:LSM-2088</td>\n",
       "      <td>LLBLNMUONVVVPG-UHFFFAOYSA-N</td>\n",
       "      <td>NaN</td>\n",
       "      <td>False</td>\n",
       "      <td>CHEBI</td>\n",
       "      <td>MESH:C104750</td>\n",
       "    </tr>\n",
       "    <tr>\n",
       "      <th>18667</th>\n",
       "      <td>3_STAR</td>\n",
       "      <td>CHEBI:75142</td>\n",
       "      <td>N-benzyloxycarbonyl-L-leucyl-L-leucyl-L-leucinal</td>\n",
       "      <td>\"A tripeptide that is L-leucyl-L-leucyl-L-leuc...</td>\n",
       "      <td>PMID:21421692 \"Europe PMC\"|PMID:19513526 \"Euro...</td>\n",
       "      <td>TZYWCYJVHRLUCT-VABKMULXSA-N</td>\n",
       "      <td>CHEBI:87077</td>\n",
       "      <td>False</td>\n",
       "      <td>CHEBI</td>\n",
       "      <td>MESH:C072553</td>\n",
       "    </tr>\n",
       "    <tr>\n",
       "      <th>91795</th>\n",
       "      <td>2_STAR</td>\n",
       "      <td>CHEBI:4353</td>\n",
       "      <td>Decursin</td>\n",
       "      <td>NaN</td>\n",
       "      <td>CAS:5928-25-6 \"KEGG COMPOUND\"|KNApSAcK:C000024...</td>\n",
       "      <td>CUKSFECWKQBVED-INIZCTEOSA-N</td>\n",
       "      <td>NaN</td>\n",
       "      <td>False</td>\n",
       "      <td>CHEBI</td>\n",
       "      <td>MESH:C101278</td>\n",
       "    </tr>\n",
       "    <tr>\n",
       "      <th>35684</th>\n",
       "      <td>3_STAR</td>\n",
       "      <td>CHEBI:131714</td>\n",
       "      <td>furagin</td>\n",
       "      <td>\"An imidazolidine-2,4-dione that is hydantoin ...</td>\n",
       "      <td>Reaxys:307076 \"Reaxys\"|PMID:10809412 \"Europe P...</td>\n",
       "      <td>DECBQELQORZLLP-UHFFFAOYSA-N</td>\n",
       "      <td>NaN</td>\n",
       "      <td>False</td>\n",
       "      <td>CHEBI</td>\n",
       "      <td>MESH:D005661</td>\n",
       "    </tr>\n",
       "    <tr>\n",
       "      <th>60168</th>\n",
       "      <td>3_STAR</td>\n",
       "      <td>CHEBI:6716</td>\n",
       "      <td>medroxyprogesterone acetate</td>\n",
       "      <td>NaN</td>\n",
       "      <td>KEGG:D00951|Beilstein:2066112 \"Beilstein\"|Drug...</td>\n",
       "      <td>PSGAAPLEWMOORI-PEINSRQWSA-N</td>\n",
       "      <td>NaN</td>\n",
       "      <td>False</td>\n",
       "      <td>CHEBI</td>\n",
       "      <td>MESH:D017258</td>\n",
       "    </tr>\n",
       "    <tr>\n",
       "      <th>91597</th>\n",
       "      <td>2_STAR</td>\n",
       "      <td>CHEBI:32151</td>\n",
       "      <td>Solifenacin succinate</td>\n",
       "      <td>NaN</td>\n",
       "      <td>KEGG:D01269|CAS:242478-38-2 \"KEGG COMPOUND\"</td>\n",
       "      <td>RXZMMZZRUPYENV-VROPFNGYSA-N</td>\n",
       "      <td>NaN</td>\n",
       "      <td>False</td>\n",
       "      <td>CHEBI</td>\n",
       "      <td>MESH:D000069464</td>\n",
       "    </tr>\n",
       "  </tbody>\n",
       "</table>\n",
       "</div>"
      ],
      "text/plain": [
       "        subset            id  \\\n",
       "109343  3_STAR   CHEBI:25901   \n",
       "108736  3_STAR    CHEBI:7508   \n",
       "33041   3_STAR   CHEBI:15996   \n",
       "39890   3_STAR   CHEBI:51208   \n",
       "112840  3_STAR   CHEBI:50185   \n",
       "14754   3_STAR   CHEBI:49770   \n",
       "10952   3_STAR   CHEBI:46020   \n",
       "104032  3_STAR   CHEBI:75377   \n",
       "32994   3_STAR   CHEBI:15751   \n",
       "101578  2_STAR   CHEBI:80271   \n",
       "24180   3_STAR  CHEBI:247956   \n",
       "60925   3_STAR   CHEBI:17933   \n",
       "73765   3_STAR   CHEBI:78782   \n",
       "26637   3_STAR   CHEBI:30278   \n",
       "82108   2_STAR   CHEBI:92090   \n",
       "18667   3_STAR   CHEBI:75142   \n",
       "91795   2_STAR    CHEBI:4353   \n",
       "35684   3_STAR  CHEBI:131714   \n",
       "60168   3_STAR    CHEBI:6716   \n",
       "91597   2_STAR   CHEBI:32151   \n",
       "\n",
       "                                                     name  \\\n",
       "109343                                            pentose   \n",
       "108736                                         framycetin   \n",
       "33041                                                 GTP   \n",
       "39890                                          mecillinam   \n",
       "112840                     fatty acid synthesis inhibitor   \n",
       "14754                                          methyl red   \n",
       "10952                                 tetramethylammonium   \n",
       "104032                                   phenyl biguanide   \n",
       "32994                               ADP alpha-D-glucoside   \n",
       "101578                            Glucagon-like peptide 2   \n",
       "24180                                         cinchocaine   \n",
       "60925                                           calcidiol   \n",
       "73765                         pyrrolidine dithiocarbamate   \n",
       "26637                                           phosphane   \n",
       "82108   4-(4-chlorophenyl)-1-(1H-indol-3-ylmethyl)-4-p...   \n",
       "18667    N-benzyloxycarbonyl-L-leucyl-L-leucyl-L-leucinal   \n",
       "91795                                            Decursin   \n",
       "35684                                             furagin   \n",
       "60168                         medroxyprogesterone acetate   \n",
       "91597                               Solifenacin succinate   \n",
       "\n",
       "                                                      def  \\\n",
       "109343  \"A five-carbon monosaccharide which in its lin...   \n",
       "108736  \"A tetracyclic antibacterial agent derived fro...   \n",
       "33041                                                 NaN   \n",
       "39890   \"A penicillin in which the 6beta substituent i...   \n",
       "112840  \"Any pathway inhibitor that inhibits the synth...   \n",
       "14754   \"An azo dye consisting of benzoic acid substit...   \n",
       "10952   \"The simplest quaternary ammonium cation, comp...   \n",
       "104032  \"A member of the class of biguanides that is b...   \n",
       "32994   \"An ADP-aldose having alpha-D-glucopyranose as...   \n",
       "101578                                                NaN   \n",
       "24180   \"A monocarboxylic acid amide that is the 2-(di...   \n",
       "60925   \"A hydroxycalciol that is calciol in which the...   \n",
       "73765   \"A member of the class of dithiocarbamic acids...   \n",
       "26637   \"The simplest phosphine, consisting of a singl...   \n",
       "82108                                                 NaN   \n",
       "18667   \"A tripeptide that is L-leucyl-L-leucyl-L-leuc...   \n",
       "91795                                                 NaN   \n",
       "35684   \"An imidazolidine-2,4-dione that is hydantoin ...   \n",
       "60168                                                 NaN   \n",
       "91597                                                 NaN   \n",
       "\n",
       "                                                     xref  \\\n",
       "109343                                                NaN   \n",
       "108736  Drug_Central:1896 \"DrugCentral\"|PMID:25588492 ...   \n",
       "33041   Beilstein:1201437 \"ChemIDplus\"|KNApSAcK:C00007...   \n",
       "39890   Patent:US3957764|LINCS:LSM-5528|CAS:32887-01-7...   \n",
       "112840                                                NaN   \n",
       "14754   Wikipedia:Methyl_red|KEGG:C19459|Reaxys:750102...   \n",
       "10952   Reaxys:1733140 \"Reaxys\"|DrugBank:DB03095|PMID:...   \n",
       "104032  CAS:102-02-3 \"NIST Chemistry WebBook\"|LINCS:LS...   \n",
       "32994   HMDB:HMDB0006557|ECMDB:ECMDB06557|PMID:2353732...   \n",
       "101578                                        KEGG:C16049   \n",
       "24180   PMID:2873227 \"Europe PMC\"|Drug_Central:859 \"Dr...   \n",
       "60925   Beilstein:4270041 \"Beilstein\"|LIPID_MAPS_insta...   \n",
       "73765   LINCS:LSM-3818|Wikipedia:Pyrrolidine_dithiocar...   \n",
       "26637   Gmelin:287 \"Gmelin\"|CAS:7803-51-2 \"ChemIDplus\"...   \n",
       "82108                                      LINCS:LSM-2088   \n",
       "18667   PMID:21421692 \"Europe PMC\"|PMID:19513526 \"Euro...   \n",
       "91795   CAS:5928-25-6 \"KEGG COMPOUND\"|KNApSAcK:C000024...   \n",
       "35684   Reaxys:307076 \"Reaxys\"|PMID:10809412 \"Europe P...   \n",
       "60168   KEGG:D00951|Beilstein:2066112 \"Beilstein\"|Drug...   \n",
       "91597         KEGG:D01269|CAS:242478-38-2 \"KEGG COMPOUND\"   \n",
       "\n",
       "                               ikey  \\\n",
       "109343                          NaN   \n",
       "108736  PGBHMTALBVVCIT-VCIWKGPPSA-N   \n",
       "33041   XKMLYUALXHKNFT-UUOKFMHZSA-N   \n",
       "39890   BWWVAEOLVKTZFQ-NTZNESFSSA-N   \n",
       "112840                          NaN   \n",
       "14754   CEQFOVLGLXCDCX-WUKNDPDISA-N   \n",
       "10952   QEMXHQIAXOOASZ-UHFFFAOYSA-N   \n",
       "104032  CUQCMXFWIMOWRP-UHFFFAOYSA-N   \n",
       "32994   WFPZSXYXPSUOPY-ROYWQJLOSA-N   \n",
       "101578                          NaN   \n",
       "24180   PUFQVTATUTYEAL-UHFFFAOYSA-N   \n",
       "60925   JWUBBDSIWDLEOM-DTOXIADCSA-N   \n",
       "73765   VSWDORGPIHIGNW-UHFFFAOYSA-N   \n",
       "26637   XYFCBTPGUUZFHI-UHFFFAOYSA-N   \n",
       "82108   LLBLNMUONVVVPG-UHFFFAOYSA-N   \n",
       "18667   TZYWCYJVHRLUCT-VABKMULXSA-N   \n",
       "91795   CUKSFECWKQBVED-INIZCTEOSA-N   \n",
       "35684   DECBQELQORZLLP-UHFFFAOYSA-N   \n",
       "60168   PSGAAPLEWMOORI-PEINSRQWSA-N   \n",
       "91597   RXZMMZZRUPYENV-VROPFNGYSA-N   \n",
       "\n",
       "                                                alt_id  is_obsolete id_src  \\\n",
       "109343                                             NaN        False  CHEBI   \n",
       "108736                                     CHEBI:44577        False  CHEBI   \n",
       "33041   CHEBI:24451|CHEBI:13342|CHEBI:42934|CHEBI:5234        False  CHEBI   \n",
       "39890                                              NaN        False  CHEBI   \n",
       "112840                                             NaN        False  CHEBI   \n",
       "14754                                              NaN        False  CHEBI   \n",
       "10952                          CHEBI:46018|CHEBI:35264        False  CHEBI   \n",
       "104032                                             NaN        False  CHEBI   \n",
       "32994   CHEBI:13230|CHEBI:20846|CHEBI:2349|CHEBI:40615        False  CHEBI   \n",
       "101578                                             NaN        False  CHEBI   \n",
       "24180                                       CHEBI:4500        False  CHEBI   \n",
       "60925   CHEBI:46387|CHEBI:3304|CHEBI:13931|CHEBI:19815        False  CHEBI   \n",
       "73765                                              NaN        False  CHEBI   \n",
       "26637                                              NaN        False  CHEBI   \n",
       "82108                                              NaN        False  CHEBI   \n",
       "18667                                      CHEBI:87077        False  CHEBI   \n",
       "91795                                              NaN        False  CHEBI   \n",
       "35684                                              NaN        False  CHEBI   \n",
       "60168                                              NaN        False  CHEBI   \n",
       "91597                                              NaN        False  CHEBI   \n",
       "\n",
       "                   mesh  \n",
       "109343     MESH:D010429  \n",
       "108736     MESH:D005601  \n",
       "33041      MESH:D006160  \n",
       "39890      MESH:D000560  \n",
       "112840     MESH:D054872  \n",
       "14754      MESH:C008492  \n",
       "10952      MESH:C027917  \n",
       "104032     MESH:C008846  \n",
       "32994      MESH:D000245  \n",
       "101578     MESH:D053767  \n",
       "24180      MESH:D003992  \n",
       "60925      MESH:D002112  \n",
       "73765      MESH:C020972  \n",
       "26637      MESH:C044646  \n",
       "82108      MESH:C104750  \n",
       "18667      MESH:C072553  \n",
       "91795      MESH:C101278  \n",
       "35684      MESH:D005661  \n",
       "60168      MESH:D017258  \n",
       "91597   MESH:D000069464  "
      ]
     },
     "execution_count": 62,
     "metadata": {},
     "output_type": "execute_result"
    }
   ],
   "source": [
    "chebi.dropna(subset=['mesh']).sample(20)"
   ]
  },
  {
   "cell_type": "markdown",
   "metadata": {},
   "source": [
    "# Look at previous MyChem Results..."
   ]
  },
  {
   "cell_type": "code",
   "execution_count": 63,
   "metadata": {},
   "outputs": [
    {
     "data": {
      "text/html": [
       "<div>\n",
       "<style scoped>\n",
       "    .dataframe tbody tr th:only-of-type {\n",
       "        vertical-align: middle;\n",
       "    }\n",
       "\n",
       "    .dataframe tbody tr th {\n",
       "        vertical-align: top;\n",
       "    }\n",
       "\n",
       "    .dataframe thead th {\n",
       "        text-align: right;\n",
       "    }\n",
       "</style>\n",
       "<table border=\"1\" class=\"dataframe\">\n",
       "  <thead>\n",
       "    <tr style=\"text-align: right;\">\n",
       "      <th></th>\n",
       "      <th>q</th>\n",
       "      <th>ikey</th>\n",
       "      <th>chebi_id</th>\n",
       "      <th>chembl_id</th>\n",
       "      <th>drugbank_id</th>\n",
       "      <th>unii_id</th>\n",
       "      <th>mesh_id</th>\n",
       "      <th>name</th>\n",
       "      <th>id</th>\n",
       "      <th>source</th>\n",
       "      <th>wd_id</th>\n",
       "    </tr>\n",
       "  </thead>\n",
       "  <tbody>\n",
       "    <tr>\n",
       "      <th>0</th>\n",
       "      <td>WYFYYAHANZQLGG-UHFFFAOYSA-N</td>\n",
       "      <td>IKEY:WYFYYAHANZQLGG-UHFFFAOYSA-N</td>\n",
       "      <td>NaN</td>\n",
       "      <td>CHEMBL:CHEMBL543295</td>\n",
       "      <td>NaN</td>\n",
       "      <td>UNII:8GKF50WX7S</td>\n",
       "      <td>NaN</td>\n",
       "      <td>A-49816 hydrochloride</td>\n",
       "      <td>IKEY:WYFYYAHANZQLGG-UHFFFAOYSA-N</td>\n",
       "      <td>ikey</td>\n",
       "      <td>WD:Q27270440</td>\n",
       "    </tr>\n",
       "    <tr>\n",
       "      <th>1</th>\n",
       "      <td>YJZJEQBSODVMTH-UHFFFAOYSA-N</td>\n",
       "      <td>IKEY:YJZJEQBSODVMTH-UHFFFAOYSA-N</td>\n",
       "      <td>NaN</td>\n",
       "      <td>CHEMBL:CHEMBL284907</td>\n",
       "      <td>NaN</td>\n",
       "      <td>UNII:NAT2FD82D7</td>\n",
       "      <td>MESH:C013876</td>\n",
       "      <td>Elmustine</td>\n",
       "      <td>IKEY:YJZJEQBSODVMTH-UHFFFAOYSA-N</td>\n",
       "      <td>ikey</td>\n",
       "      <td>WD:Q27284767</td>\n",
       "    </tr>\n",
       "  </tbody>\n",
       "</table>\n",
       "</div>"
      ],
      "text/plain": [
       "                             q                              ikey chebi_id  \\\n",
       "0  WYFYYAHANZQLGG-UHFFFAOYSA-N  IKEY:WYFYYAHANZQLGG-UHFFFAOYSA-N      NaN   \n",
       "1  YJZJEQBSODVMTH-UHFFFAOYSA-N  IKEY:YJZJEQBSODVMTH-UHFFFAOYSA-N      NaN   \n",
       "\n",
       "             chembl_id drugbank_id          unii_id       mesh_id  \\\n",
       "0  CHEMBL:CHEMBL543295         NaN  UNII:8GKF50WX7S           NaN   \n",
       "1  CHEMBL:CHEMBL284907         NaN  UNII:NAT2FD82D7  MESH:C013876   \n",
       "\n",
       "                    name                                id source  \\\n",
       "0  A-49816 hydrochloride  IKEY:WYFYYAHANZQLGG-UHFFFAOYSA-N   ikey   \n",
       "1              Elmustine  IKEY:YJZJEQBSODVMTH-UHFFFAOYSA-N   ikey   \n",
       "\n",
       "          wd_id  \n",
       "0  WD:Q27270440  \n",
       "1  WD:Q27284767  "
      ]
     },
     "execution_count": 63,
     "metadata": {},
     "output_type": "execute_result"
    }
   ],
   "source": [
    "ref_comps.head(2)"
   ]
  },
  {
   "cell_type": "code",
   "execution_count": 64,
   "metadata": {},
   "outputs": [
    {
     "data": {
      "text/html": [
       "<div>\n",
       "<style scoped>\n",
       "    .dataframe tbody tr th:only-of-type {\n",
       "        vertical-align: middle;\n",
       "    }\n",
       "\n",
       "    .dataframe tbody tr th {\n",
       "        vertical-align: top;\n",
       "    }\n",
       "\n",
       "    .dataframe thead th {\n",
       "        text-align: right;\n",
       "    }\n",
       "</style>\n",
       "<table border=\"1\" class=\"dataframe\">\n",
       "  <thead>\n",
       "    <tr style=\"text-align: right;\">\n",
       "      <th></th>\n",
       "      <th>id</th>\n",
       "      <th>name</th>\n",
       "      <th>label</th>\n",
       "      <th>xrefs</th>\n",
       "    </tr>\n",
       "  </thead>\n",
       "  <tbody>\n",
       "    <tr>\n",
       "      <th>52932</th>\n",
       "      <td>CHEBI:10</td>\n",
       "      <td>(+)-Atherospermoline</td>\n",
       "      <td>Compound</td>\n",
       "      <td>CHEBI:10|CHEMBL:CHEMBL500609|KEGG:C11141|PCID:...</td>\n",
       "    </tr>\n",
       "    <tr>\n",
       "      <th>52933</th>\n",
       "      <td>CHEBI:100</td>\n",
       "      <td>(-)-medicarpin</td>\n",
       "      <td>Compound</td>\n",
       "      <td>CHEBI:100|KEGG:C10503|PCID:336327|UNII:6TX086I6IG</td>\n",
       "    </tr>\n",
       "  </tbody>\n",
       "</table>\n",
       "</div>"
      ],
      "text/plain": [
       "              id                  name     label  \\\n",
       "52932   CHEBI:10  (+)-Atherospermoline  Compound   \n",
       "52933  CHEBI:100        (-)-medicarpin  Compound   \n",
       "\n",
       "                                                   xrefs  \n",
       "52932  CHEBI:10|CHEMBL:CHEMBL500609|KEGG:C11141|PCID:...  \n",
       "52933  CHEBI:100|KEGG:C10503|PCID:336327|UNII:6TX086I6IG  "
      ]
     },
     "execution_count": 64,
     "metadata": {},
     "output_type": "execute_result"
    }
   ],
   "source": [
    "prev_comps.head(2)"
   ]
  },
  {
   "cell_type": "code",
   "execution_count": 65,
   "metadata": {},
   "outputs": [
    {
     "data": {
      "text/html": [
       "<div>\n",
       "<style scoped>\n",
       "    .dataframe tbody tr th:only-of-type {\n",
       "        vertical-align: middle;\n",
       "    }\n",
       "\n",
       "    .dataframe tbody tr th {\n",
       "        vertical-align: top;\n",
       "    }\n",
       "\n",
       "    .dataframe thead th {\n",
       "        text-align: right;\n",
       "    }\n",
       "</style>\n",
       "<table border=\"1\" class=\"dataframe\">\n",
       "  <thead>\n",
       "    <tr style=\"text-align: right;\">\n",
       "      <th></th>\n",
       "      <th>id</th>\n",
       "      <th>name</th>\n",
       "      <th>label</th>\n",
       "      <th>chebi_id</th>\n",
       "      <th>chembl_id</th>\n",
       "      <th>drugbank_id</th>\n",
       "      <th>ikey</th>\n",
       "      <th>mesh_id</th>\n",
       "      <th>unii_id</th>\n",
       "      <th>source</th>\n",
       "    </tr>\n",
       "  </thead>\n",
       "  <tbody>\n",
       "    <tr>\n",
       "      <th>0</th>\n",
       "      <td>FZERHIULMFGESH-UHFFFAOYSA-N</td>\n",
       "      <td>Acetanilide</td>\n",
       "      <td>Compound</td>\n",
       "      <td>CHEBI:28884</td>\n",
       "      <td>CHEMBL:CHEMBL269644</td>\n",
       "      <td>NaN</td>\n",
       "      <td>IKEY:FZERHIULMFGESH-UHFFFAOYSA-N</td>\n",
       "      <td>MESH:C508827</td>\n",
       "      <td>UNII:SP86R356CC</td>\n",
       "      <td>ikey</td>\n",
       "    </tr>\n",
       "    <tr>\n",
       "      <th>1</th>\n",
       "      <td>SWMPGCCDXNLPED-NSCUHMNNSA-N</td>\n",
       "      <td>Acetylfuratrizine</td>\n",
       "      <td>Compound</td>\n",
       "      <td>NaN</td>\n",
       "      <td>NaN</td>\n",
       "      <td>NaN</td>\n",
       "      <td>IKEY:SWMPGCCDXNLPED-NSCUHMNNSA-N</td>\n",
       "      <td>MESH:C005910</td>\n",
       "      <td>UNII:C50C4V19SU</td>\n",
       "      <td>ikey</td>\n",
       "    </tr>\n",
       "  </tbody>\n",
       "</table>\n",
       "</div>"
      ],
      "text/plain": [
       "                            id               name     label     chebi_id  \\\n",
       "0  FZERHIULMFGESH-UHFFFAOYSA-N        Acetanilide  Compound  CHEBI:28884   \n",
       "1  SWMPGCCDXNLPED-NSCUHMNNSA-N  Acetylfuratrizine  Compound          NaN   \n",
       "\n",
       "             chembl_id drugbank_id                              ikey  \\\n",
       "0  CHEMBL:CHEMBL269644         NaN  IKEY:FZERHIULMFGESH-UHFFFAOYSA-N   \n",
       "1                  NaN         NaN  IKEY:SWMPGCCDXNLPED-NSCUHMNNSA-N   \n",
       "\n",
       "        mesh_id          unii_id source  \n",
       "0  MESH:C508827  UNII:SP86R356CC   ikey  \n",
       "1  MESH:C005910  UNII:C50C4V19SU   ikey  "
      ]
     },
     "execution_count": 65,
     "metadata": {},
     "output_type": "execute_result"
    }
   ],
   "source": [
    "ix_comps.head(2)"
   ]
  },
  {
   "cell_type": "code",
   "execution_count": 66,
   "metadata": {},
   "outputs": [
    {
     "data": {
      "text/html": [
       "<div>\n",
       "<style scoped>\n",
       "    .dataframe tbody tr th:only-of-type {\n",
       "        vertical-align: middle;\n",
       "    }\n",
       "\n",
       "    .dataframe tbody tr th {\n",
       "        vertical-align: top;\n",
       "    }\n",
       "\n",
       "    .dataframe thead th {\n",
       "        text-align: right;\n",
       "    }\n",
       "</style>\n",
       "<table border=\"1\" class=\"dataframe\">\n",
       "  <thead>\n",
       "    <tr style=\"text-align: right;\">\n",
       "      <th></th>\n",
       "      <th>id</th>\n",
       "      <th>name</th>\n",
       "      <th>label</th>\n",
       "      <th>xrefs</th>\n",
       "      <th>curi</th>\n",
       "    </tr>\n",
       "  </thead>\n",
       "  <tbody>\n",
       "    <tr>\n",
       "      <th>52932</th>\n",
       "      <td>CHEBI:10</td>\n",
       "      <td>(+)-Atherospermoline</td>\n",
       "      <td>Compound</td>\n",
       "      <td>CHEBI:10|CHEMBL:CHEMBL500609|KEGG:C11141|PCID:...</td>\n",
       "      <td>CHEBI</td>\n",
       "    </tr>\n",
       "    <tr>\n",
       "      <th>52933</th>\n",
       "      <td>CHEBI:100</td>\n",
       "      <td>(-)-medicarpin</td>\n",
       "      <td>Compound</td>\n",
       "      <td>CHEBI:100|KEGG:C10503|PCID:336327|UNII:6TX086I6IG</td>\n",
       "      <td>CHEBI</td>\n",
       "    </tr>\n",
       "    <tr>\n",
       "      <th>52934</th>\n",
       "      <td>CHEBI:10000</td>\n",
       "      <td>Vismione D</td>\n",
       "      <td>Compound</td>\n",
       "      <td>CHEBI:10000|CHEMBL:CHEMBL487795|KEGG:C09977|PC...</td>\n",
       "      <td>CHEBI</td>\n",
       "    </tr>\n",
       "    <tr>\n",
       "      <th>52935</th>\n",
       "      <td>CHEBI:100000</td>\n",
       "      <td>(2S,3S,4R)-3-[4-(3-cyclopentylprop-1-ynyl)phen...</td>\n",
       "      <td>Compound</td>\n",
       "      <td>CHEBI:100000|PCID:54650119</td>\n",
       "      <td>CHEBI</td>\n",
       "    </tr>\n",
       "    <tr>\n",
       "      <th>52936</th>\n",
       "      <td>CHEBI:100001</td>\n",
       "      <td>N-[(2R,3S,6R)-2-(hydroxymethyl)-6-[2-[[oxo-[4-...</td>\n",
       "      <td>Compound</td>\n",
       "      <td>CHEBI:100001|PCID:54638612</td>\n",
       "      <td>CHEBI</td>\n",
       "    </tr>\n",
       "    <tr>\n",
       "      <th>52937</th>\n",
       "      <td>CHEBI:100002</td>\n",
       "      <td>3-chloro-N-[(5S,6S,9S)-5-methoxy-3,6,9-trimeth...</td>\n",
       "      <td>Compound</td>\n",
       "      <td>CHEBI:100002|PCID:54632133</td>\n",
       "      <td>CHEBI</td>\n",
       "    </tr>\n",
       "    <tr>\n",
       "      <th>52938</th>\n",
       "      <td>CHEBI:100003</td>\n",
       "      <td>(4R,7S,8R)-8-methoxy-4,7,10-trimethyl-11-oxo-1...</td>\n",
       "      <td>Compound</td>\n",
       "      <td>CHEBI:100003|PCID:54631962</td>\n",
       "      <td>CHEBI</td>\n",
       "    </tr>\n",
       "    <tr>\n",
       "      <th>52939</th>\n",
       "      <td>CHEBI:100004</td>\n",
       "      <td>1-(2,5-difluorophenyl)-3-[(5S,6S,9S)-5-methoxy...</td>\n",
       "      <td>Compound</td>\n",
       "      <td>CHEBI:100004|PCID:54631371</td>\n",
       "      <td>CHEBI</td>\n",
       "    </tr>\n",
       "    <tr>\n",
       "      <th>52940</th>\n",
       "      <td>CHEBI:100005</td>\n",
       "      <td>N-[(1S,3S,4aS,9aR)-1-(hydroxymethyl)-3-[2-oxo-...</td>\n",
       "      <td>Compound</td>\n",
       "      <td>CHEBI:100005|PCID:54646559</td>\n",
       "      <td>CHEBI</td>\n",
       "    </tr>\n",
       "    <tr>\n",
       "      <th>52941</th>\n",
       "      <td>CHEBI:100006</td>\n",
       "      <td>N-(1,3-benzodioxol-5-ylmethyl)-2-[(2R,3R,6S)-3...</td>\n",
       "      <td>Compound</td>\n",
       "      <td>CHEBI:100006|PCID:54638262</td>\n",
       "      <td>CHEBI</td>\n",
       "    </tr>\n",
       "  </tbody>\n",
       "</table>\n",
       "</div>"
      ],
      "text/plain": [
       "                 id                                               name  \\\n",
       "52932      CHEBI:10                               (+)-Atherospermoline   \n",
       "52933     CHEBI:100                                     (-)-medicarpin   \n",
       "52934   CHEBI:10000                                         Vismione D   \n",
       "52935  CHEBI:100000  (2S,3S,4R)-3-[4-(3-cyclopentylprop-1-ynyl)phen...   \n",
       "52936  CHEBI:100001  N-[(2R,3S,6R)-2-(hydroxymethyl)-6-[2-[[oxo-[4-...   \n",
       "52937  CHEBI:100002  3-chloro-N-[(5S,6S,9S)-5-methoxy-3,6,9-trimeth...   \n",
       "52938  CHEBI:100003  (4R,7S,8R)-8-methoxy-4,7,10-trimethyl-11-oxo-1...   \n",
       "52939  CHEBI:100004  1-(2,5-difluorophenyl)-3-[(5S,6S,9S)-5-methoxy...   \n",
       "52940  CHEBI:100005  N-[(1S,3S,4aS,9aR)-1-(hydroxymethyl)-3-[2-oxo-...   \n",
       "52941  CHEBI:100006  N-(1,3-benzodioxol-5-ylmethyl)-2-[(2R,3R,6S)-3...   \n",
       "\n",
       "          label                                              xrefs   curi  \n",
       "52932  Compound  CHEBI:10|CHEMBL:CHEMBL500609|KEGG:C11141|PCID:...  CHEBI  \n",
       "52933  Compound  CHEBI:100|KEGG:C10503|PCID:336327|UNII:6TX086I6IG  CHEBI  \n",
       "52934  Compound  CHEBI:10000|CHEMBL:CHEMBL487795|KEGG:C09977|PC...  CHEBI  \n",
       "52935  Compound                         CHEBI:100000|PCID:54650119  CHEBI  \n",
       "52936  Compound                         CHEBI:100001|PCID:54638612  CHEBI  \n",
       "52937  Compound                         CHEBI:100002|PCID:54632133  CHEBI  \n",
       "52938  Compound                         CHEBI:100003|PCID:54631962  CHEBI  \n",
       "52939  Compound                         CHEBI:100004|PCID:54631371  CHEBI  \n",
       "52940  Compound                         CHEBI:100005|PCID:54646559  CHEBI  \n",
       "52941  Compound                         CHEBI:100006|PCID:54638262  CHEBI  "
      ]
     },
     "execution_count": 66,
     "metadata": {},
     "output_type": "execute_result"
    }
   ],
   "source": [
    "prev_comps['curi'] = prev_comps['id'].str.split(':', expand=True)[0]\n",
    "prev_comps.query('curi == \"CHEBI\"').head(10)"
   ]
  },
  {
   "cell_type": "markdown",
   "metadata": {},
   "source": [
    "this step of the pipeline requires a separate column for each identifier, so let's set that up"
   ]
  },
  {
   "cell_type": "code",
   "execution_count": 67,
   "metadata": {},
   "outputs": [],
   "source": [
    "prev_db = get_curi_xrefs(prev_nodes, 'DB')\n",
    "prev_mesh = get_curi_xrefs(prev_nodes, 'MESH')\n",
    "prev_cheb = get_curi_xrefs(prev_nodes, 'CHEBI')\n",
    "\n",
    "prev_comps = prev_comps.merge(prev_db, on='id', how='left', suffixes=('', '_new')).rename(columns={'xrefs_new': 'drugbank_id'})\n",
    "prev_comps = prev_comps.merge(prev_mesh, on='id', how='left', suffixes=('', '_new')).rename(columns={'xrefs_new': 'mesh_id'})\n",
    "prev_comps = prev_comps.merge(prev_cheb, on='id', how='left', suffixes=('', '_new')).rename(columns={'xrefs_new': 'chebi_id'})"
   ]
  },
  {
   "cell_type": "code",
   "execution_count": 68,
   "metadata": {},
   "outputs": [
    {
     "data": {
      "text/html": [
       "<div>\n",
       "<style scoped>\n",
       "    .dataframe tbody tr th:only-of-type {\n",
       "        vertical-align: middle;\n",
       "    }\n",
       "\n",
       "    .dataframe tbody tr th {\n",
       "        vertical-align: top;\n",
       "    }\n",
       "\n",
       "    .dataframe thead th {\n",
       "        text-align: right;\n",
       "    }\n",
       "</style>\n",
       "<table border=\"1\" class=\"dataframe\">\n",
       "  <thead>\n",
       "    <tr style=\"text-align: right;\">\n",
       "      <th></th>\n",
       "      <th>id</th>\n",
       "      <th>name</th>\n",
       "      <th>label</th>\n",
       "      <th>xrefs</th>\n",
       "      <th>curi</th>\n",
       "      <th>drugbank_id</th>\n",
       "      <th>mesh_id</th>\n",
       "      <th>chebi_id</th>\n",
       "    </tr>\n",
       "  </thead>\n",
       "  <tbody>\n",
       "    <tr>\n",
       "      <th>0</th>\n",
       "      <td>CHEBI:10</td>\n",
       "      <td>(+)-Atherospermoline</td>\n",
       "      <td>Compound</td>\n",
       "      <td>CHEBI:10|CHEMBL:CHEMBL500609|KEGG:C11141|PCID:...</td>\n",
       "      <td>CHEBI</td>\n",
       "      <td>NaN</td>\n",
       "      <td>NaN</td>\n",
       "      <td>CHEBI:10</td>\n",
       "    </tr>\n",
       "    <tr>\n",
       "      <th>1</th>\n",
       "      <td>CHEBI:100</td>\n",
       "      <td>(-)-medicarpin</td>\n",
       "      <td>Compound</td>\n",
       "      <td>CHEBI:100|KEGG:C10503|PCID:336327|UNII:6TX086I6IG</td>\n",
       "      <td>CHEBI</td>\n",
       "      <td>NaN</td>\n",
       "      <td>NaN</td>\n",
       "      <td>CHEBI:100</td>\n",
       "    </tr>\n",
       "  </tbody>\n",
       "</table>\n",
       "</div>"
      ],
      "text/plain": [
       "          id                  name     label  \\\n",
       "0   CHEBI:10  (+)-Atherospermoline  Compound   \n",
       "1  CHEBI:100        (-)-medicarpin  Compound   \n",
       "\n",
       "                                               xrefs   curi drugbank_id  \\\n",
       "0  CHEBI:10|CHEMBL:CHEMBL500609|KEGG:C11141|PCID:...  CHEBI         NaN   \n",
       "1  CHEBI:100|KEGG:C10503|PCID:336327|UNII:6TX086I6IG  CHEBI         NaN   \n",
       "\n",
       "  mesh_id   chebi_id  \n",
       "0     NaN   CHEBI:10  \n",
       "1     NaN  CHEBI:100  "
      ]
     },
     "execution_count": 68,
     "metadata": {},
     "output_type": "execute_result"
    }
   ],
   "source": [
    "prev_comps.head(2)"
   ]
  },
  {
   "cell_type": "markdown",
   "metadata": {},
   "source": [
    "Need to do a grouby on ID and join with Pipe to match the ref_comps and ix_comps results."
   ]
  },
  {
   "cell_type": "code",
   "execution_count": 69,
   "metadata": {},
   "outputs": [],
   "source": [
    "prev_comps = combine_group_cols_on_char(prev_comps, ['id'], ['mesh_id', 'chebi_id'], sort=True, prog=False)"
   ]
  },
  {
   "cell_type": "code",
   "execution_count": 70,
   "metadata": {},
   "outputs": [
    {
     "data": {
      "text/plain": [
       "id               0\n",
       "name             0\n",
       "label            0\n",
       "xrefs            0\n",
       "curi             0\n",
       "drugbank_id      0\n",
       "mesh_id        260\n",
       "chebi_id         2\n",
       "dtype: int64"
      ]
     },
     "execution_count": 70,
     "metadata": {},
     "output_type": "execute_result"
    }
   ],
   "source": [
    "(prev_comps == \"\").sum()"
   ]
  },
  {
   "cell_type": "code",
   "execution_count": 71,
   "metadata": {},
   "outputs": [],
   "source": [
    "# Somehow some nan values became empty strings... fix now\n",
    "prev_comps = prev_comps.replace('', float('nan'))"
   ]
  },
  {
   "cell_type": "code",
   "execution_count": 72,
   "metadata": {},
   "outputs": [],
   "source": [
    "cs = ['chebi_id', 'mesh_id', 'drugbank_id', 'name']\n",
    "\n",
    "prev_res = pd.concat([ref_comps.dropna(subset=['chebi_id', 'mesh_id']),ix_comps.dropna(subset=['chebi_id', 'mesh_id']),\n",
    "          prev_comps.dropna(subset=['chebi_id', 'mesh_id'], how='any')[cs]],\n",
    "          ignore_index=True, sort=False)"
   ]
  },
  {
   "cell_type": "code",
   "execution_count": 73,
   "metadata": {},
   "outputs": [],
   "source": [
    "prev_res = expand_col_on_char(prev_res, 'mesh_id', '|')\n",
    "prev_res = expand_col_on_char(prev_res, 'chebi_id', '|')"
   ]
  },
  {
   "cell_type": "markdown",
   "metadata": {},
   "source": [
    "Make triple sure all mesh IDs are ok, and get rid of the ones that arent."
   ]
  },
  {
   "cell_type": "code",
   "execution_count": 74,
   "metadata": {},
   "outputs": [
    {
     "data": {
      "text/html": [
       "<div>\n",
       "<style scoped>\n",
       "    .dataframe tbody tr th:only-of-type {\n",
       "        vertical-align: middle;\n",
       "    }\n",
       "\n",
       "    .dataframe tbody tr th {\n",
       "        vertical-align: top;\n",
       "    }\n",
       "\n",
       "    .dataframe thead th {\n",
       "        text-align: right;\n",
       "    }\n",
       "</style>\n",
       "<table border=\"1\" class=\"dataframe\">\n",
       "  <thead>\n",
       "    <tr style=\"text-align: right;\">\n",
       "      <th></th>\n",
       "      <th>q</th>\n",
       "      <th>ikey</th>\n",
       "      <th>chebi_id</th>\n",
       "      <th>chembl_id</th>\n",
       "      <th>drugbank_id</th>\n",
       "      <th>unii_id</th>\n",
       "      <th>mesh_id</th>\n",
       "      <th>name</th>\n",
       "      <th>id</th>\n",
       "      <th>source</th>\n",
       "      <th>wd_id</th>\n",
       "      <th>label</th>\n",
       "    </tr>\n",
       "  </thead>\n",
       "  <tbody>\n",
       "    <tr>\n",
       "      <th>13557</th>\n",
       "      <td>NaN</td>\n",
       "      <td>NaN</td>\n",
       "      <td>CHEBI:2675</td>\n",
       "      <td>NaN</td>\n",
       "      <td>DB:00543</td>\n",
       "      <td>NaN</td>\n",
       "      <td>MESH:T001967</td>\n",
       "      <td>amoxapine</td>\n",
       "      <td>NaN</td>\n",
       "      <td>NaN</td>\n",
       "      <td>NaN</td>\n",
       "      <td>NaN</td>\n",
       "    </tr>\n",
       "    <tr>\n",
       "      <th>13563</th>\n",
       "      <td>NaN</td>\n",
       "      <td>NaN</td>\n",
       "      <td>CHEBI:31527</td>\n",
       "      <td>NaN</td>\n",
       "      <td>DB:00378</td>\n",
       "      <td>NaN</td>\n",
       "      <td>MESH:T013405</td>\n",
       "      <td>dydrogesterone</td>\n",
       "      <td>NaN</td>\n",
       "      <td>NaN</td>\n",
       "      <td>NaN</td>\n",
       "      <td>NaN</td>\n",
       "    </tr>\n",
       "    <tr>\n",
       "      <th>13576</th>\n",
       "      <td>NaN</td>\n",
       "      <td>NaN</td>\n",
       "      <td>CHEBI:46195</td>\n",
       "      <td>NaN</td>\n",
       "      <td>DB:00316</td>\n",
       "      <td>NaN</td>\n",
       "      <td>MESH:T000213</td>\n",
       "      <td>acetaminophen</td>\n",
       "      <td>NaN</td>\n",
       "      <td>NaN</td>\n",
       "      <td>NaN</td>\n",
       "      <td>NaN</td>\n",
       "    </tr>\n",
       "  </tbody>\n",
       "</table>\n",
       "</div>"
      ],
      "text/plain": [
       "         q ikey     chebi_id chembl_id drugbank_id unii_id       mesh_id  \\\n",
       "13557  NaN  NaN   CHEBI:2675       NaN    DB:00543     NaN  MESH:T001967   \n",
       "13563  NaN  NaN  CHEBI:31527       NaN    DB:00378     NaN  MESH:T013405   \n",
       "13576  NaN  NaN  CHEBI:46195       NaN    DB:00316     NaN  MESH:T000213   \n",
       "\n",
       "                 name   id source wd_id label  \n",
       "13557       amoxapine  NaN    NaN   NaN   NaN  \n",
       "13563  dydrogesterone  NaN    NaN   NaN   NaN  \n",
       "13576   acetaminophen  NaN    NaN   NaN   NaN  "
      ]
     },
     "execution_count": 74,
     "metadata": {},
     "output_type": "execute_result"
    }
   ],
   "source": [
    "bad_mesh = (~(prev_res['mesh_id'].str.split(':', expand=True)[1].str.startswith('C')) & \n",
    "            ~(prev_res['mesh_id'].str.split(':', expand=True)[1].str.startswith('D')))\n",
    "\n",
    "prev_res[bad_mesh]"
   ]
  },
  {
   "cell_type": "code",
   "execution_count": 75,
   "metadata": {},
   "outputs": [],
   "source": [
    "prev_res = prev_res.drop(bad_mesh[bad_mesh].index)"
   ]
  },
  {
   "cell_type": "code",
   "execution_count": 76,
   "metadata": {},
   "outputs": [
    {
     "data": {
      "text/plain": [
       "13618"
      ]
     },
     "execution_count": 76,
     "metadata": {},
     "output_type": "execute_result"
    }
   ],
   "source": [
    "len(prev_res)"
   ]
  },
  {
   "cell_type": "markdown",
   "metadata": {},
   "source": [
    "Could be some duplicates"
   ]
  },
  {
   "cell_type": "code",
   "execution_count": 77,
   "metadata": {},
   "outputs": [
    {
     "data": {
      "text/plain": [
       "8177"
      ]
     },
     "execution_count": 77,
     "metadata": {},
     "output_type": "execute_result"
    }
   ],
   "source": [
    "prev_res = prev_res.dropna(subset=['chebi_id', 'mesh_id']).drop_duplicates(subset=['chebi_id', 'mesh_id'])\n",
    "len(prev_res)"
   ]
  },
  {
   "cell_type": "code",
   "execution_count": 78,
   "metadata": {},
   "outputs": [
    {
     "data": {
      "text/plain": [
       "6614"
      ]
     },
     "execution_count": 78,
     "metadata": {},
     "output_type": "execute_result"
    }
   ],
   "source": [
    "c_dup = prev_res.duplicated(subset=['chebi_id'], keep=False)\n",
    "m_dup = prev_res.duplicated(subset=['mesh_id'], keep=False)\n",
    "\n",
    "one_2_one = prev_res[(~c_dup & ~m_dup)].copy()\n",
    "len(one_2_one)"
   ]
  },
  {
   "cell_type": "markdown",
   "metadata": {},
   "source": [
    "This means about 1500 conflicts within the 3 previous sources themselves...."
   ]
  },
  {
   "cell_type": "code",
   "execution_count": 79,
   "metadata": {},
   "outputs": [
    {
     "data": {
      "text/plain": [
       "(6593, 4038)"
      ]
     },
     "execution_count": 79,
     "metadata": {},
     "output_type": "execute_result"
    }
   ],
   "source": [
    "chebs = set(one_2_one['chebi_id'])\n",
    "len(chebi.query('id in @chebs')), chebi.query('id in @chebs')['mesh'].count()"
   ]
  },
  {
   "cell_type": "code",
   "execution_count": 80,
   "metadata": {},
   "outputs": [],
   "source": [
    "c2m_dict = one_2_one.set_index('chebi_id')['mesh_id'].to_dict()"
   ]
  },
  {
   "cell_type": "markdown",
   "metadata": {},
   "source": [
    "### With different sources for the mapping, there may be some conflict here..."
   ]
  },
  {
   "cell_type": "code",
   "execution_count": 81,
   "metadata": {},
   "outputs": [
    {
     "data": {
      "text/plain": [
       "4"
      ]
     },
     "execution_count": 81,
     "metadata": {},
     "output_type": "execute_result"
    }
   ],
   "source": [
    "idx = (chebi.query('id in @chebs').dropna(subset=['mesh'])['id'].map(c2m_dict) != \n",
    "     chebi.query('id in @chebs').dropna(subset=['mesh'])['mesh'])\n",
    "idx.sum()"
   ]
  },
  {
   "cell_type": "markdown",
   "metadata": {},
   "source": [
    "Actually, the mappings are fairly consistnet..."
   ]
  },
  {
   "cell_type": "code",
   "execution_count": 82,
   "metadata": {
    "scrolled": false
   },
   "outputs": [],
   "source": [
    "idx = idx[idx].index\n",
    "conflict = chebi.loc[idx]\n",
    "conflict['other_mesh'] = conflict['id'].map(c2m_dict)"
   ]
  },
  {
   "cell_type": "code",
   "execution_count": 83,
   "metadata": {},
   "outputs": [],
   "source": [
    "if not out_dir.joinpath('MeSH_DescUID_to_Name.pkl').exists():\n",
    "    \n",
    "    # Adapted from https://github.com/mmayers12/semmed/blob/master/prepare/04-Parse_MeSH_data.ipynb\n",
    "    import xml.etree.ElementTree as ET\n",
    "    from collections import defaultdict\n",
    "    \n",
    "    # Download the MESH xml files\n",
    "    #download('ftp://nlmpubs.nlm.nih.gov/online/mesh/MESH_FILES/xmlmesh/desc2020.xml',\n",
    "    #         str(out_dir.joinpath('desc2020.xml')))\n",
    "    #download('ftp://nlmpubs.nlm.nih.gov/online/mesh/MESH_FILES/xmlmesh/supp2020.xml', \n",
    "    #         str(out_dir.joinpath('supp2020.xml')))\n",
    "\n",
    "    # Load them into memory\n",
    "    root = ET.parse(out_dir.joinpath('desc2020.xml')).getroot()\n",
    "    root1 = ET.parse(out_dir.joinpath('supp2020.xml')).getroot()\n",
    "    \n",
    "    # Start make a mesh id to name dictionary\n",
    "    m2name = dict()\n",
    "    for descriptor in root.getchildren():\n",
    "        for child in descriptor.getchildren():\n",
    "            if child.tag == 'DescriptorUI':\n",
    "                uid = child.text\n",
    "            if child.tag == 'DescriptorName':\n",
    "                name = child.getchildren()[0].text\n",
    "        m2name[uid] = name\n",
    "        \n",
    "    # Continue with the supplemental records\n",
    "    for supplement in root1.getchildren():\n",
    "        for child in supplement.getchildren():\n",
    "            if child.tag == 'SupplementalRecordUI':\n",
    "                uid = child.text\n",
    "            if child.tag == 'SupplementalRecordName':\n",
    "                name = child.getchildren()[0].text\n",
    "        m2name[uid] = name\n",
    "\n",
    "    # How many did we get?\n",
    "    print('Mappings Found: {:,}'.format(len(m2name)))\n",
    "    pickle.dump(m2name, open(out_dir.joinpath('MeSH_DescUID_to_Name.pkl'), 'wb'))\n",
    "    \n",
    "else:\n",
    "    m2name = pickle.load(open(out_dir.joinpath('MeSH_DescUID_to_Name.pkl'), 'rb'))\n"
   ]
  },
  {
   "cell_type": "markdown",
   "metadata": {},
   "source": [
    "Print results from first runthrough: \n",
    "\n",
    "    Getting desc2020.xml from ftp server\n",
    "    Done\n",
    "    Getting supp2020.xml from ftp server\n",
    "    Done\n",
    "    Mappings Found: 298,108"
   ]
  },
  {
   "cell_type": "code",
   "execution_count": 84,
   "metadata": {},
   "outputs": [
    {
     "data": {
      "text/html": [
       "<div>\n",
       "<style scoped>\n",
       "    .dataframe tbody tr th:only-of-type {\n",
       "        vertical-align: middle;\n",
       "    }\n",
       "\n",
       "    .dataframe tbody tr th {\n",
       "        vertical-align: top;\n",
       "    }\n",
       "\n",
       "    .dataframe thead th {\n",
       "        text-align: right;\n",
       "    }\n",
       "</style>\n",
       "<table border=\"1\" class=\"dataframe\">\n",
       "  <thead>\n",
       "    <tr style=\"text-align: right;\">\n",
       "      <th></th>\n",
       "      <th>id</th>\n",
       "      <th>name</th>\n",
       "      <th>mesh</th>\n",
       "      <th>mesh_name</th>\n",
       "      <th>other_mesh</th>\n",
       "      <th>other_mesh_name</th>\n",
       "    </tr>\n",
       "  </thead>\n",
       "  <tbody>\n",
       "    <tr>\n",
       "      <th>17951</th>\n",
       "      <td>CHEBI:34543</td>\n",
       "      <td>argipressin</td>\n",
       "      <td>MESH:D001127</td>\n",
       "      <td>Arginine Vasopressin</td>\n",
       "      <td>MESH:C016671</td>\n",
       "      <td>pitressin tannate</td>\n",
       "    </tr>\n",
       "    <tr>\n",
       "      <th>67297</th>\n",
       "      <td>CHEBI:17590</td>\n",
       "      <td>octane</td>\n",
       "      <td>MESH:D009795</td>\n",
       "      <td>Octanes</td>\n",
       "      <td>MESH:C026728</td>\n",
       "      <td>octane</td>\n",
       "    </tr>\n",
       "    <tr>\n",
       "      <th>72285</th>\n",
       "      <td>CHEBI:8027</td>\n",
       "      <td>Peroxidase</td>\n",
       "      <td>MESH:D009195</td>\n",
       "      <td>Peroxidase</td>\n",
       "      <td>MESH:D006735</td>\n",
       "      <td>Horseradish Peroxidase</td>\n",
       "    </tr>\n",
       "    <tr>\n",
       "      <th>79853</th>\n",
       "      <td>CHEBI:37911</td>\n",
       "      <td>indane</td>\n",
       "      <td>MESH:D007189</td>\n",
       "      <td>Indans</td>\n",
       "      <td>MESH:C093582</td>\n",
       "      <td>indan</td>\n",
       "    </tr>\n",
       "  </tbody>\n",
       "</table>\n",
       "</div>"
      ],
      "text/plain": [
       "                id         name          mesh             mesh_name  \\\n",
       "17951  CHEBI:34543  argipressin  MESH:D001127  Arginine Vasopressin   \n",
       "67297  CHEBI:17590       octane  MESH:D009795               Octanes   \n",
       "72285   CHEBI:8027   Peroxidase  MESH:D009195            Peroxidase   \n",
       "79853  CHEBI:37911       indane  MESH:D007189                Indans   \n",
       "\n",
       "         other_mesh         other_mesh_name  \n",
       "17951  MESH:C016671       pitressin tannate  \n",
       "67297  MESH:C026728                  octane  \n",
       "72285  MESH:D006735  Horseradish Peroxidase  \n",
       "79853  MESH:C093582                   indan  "
      ]
     },
     "execution_count": 84,
     "metadata": {},
     "output_type": "execute_result"
    }
   ],
   "source": [
    "conflict['mesh_name'] = conflict['mesh'].apply(lambda m: m2name.get(m.split(':')[1], float('nan')))\n",
    "conflict['other_mesh_name'] = conflict['other_mesh'].apply(lambda m: m2name.get(m.split(':')[1], float('nan')))\n",
    "\n",
    "confl_col = ['id', 'name', 'mesh', 'mesh_name', 'other_mesh', 'other_mesh_name']\n",
    "conflict[confl_col]"
   ]
  },
  {
   "cell_type": "code",
   "execution_count": 85,
   "metadata": {},
   "outputs": [],
   "source": [
    "c2m_dict['CHEBI:34543'] = 'MESH:D001127'"
   ]
  },
  {
   "cell_type": "code",
   "execution_count": 86,
   "metadata": {},
   "outputs": [],
   "source": [
    "prev_map = chebi.dropna(subset=['mesh']).set_index('id')['mesh'].to_dict()\n",
    "# update with latest mappings...\n",
    "c2m_dict = {**prev_map, **c2m_dict}\n",
    "chebi['mesh'] = chebi['id'].map(c2m_dict)"
   ]
  },
  {
   "cell_type": "code",
   "execution_count": 87,
   "metadata": {},
   "outputs": [
    {
     "data": {
      "text/plain": [
       "8086"
      ]
     },
     "execution_count": 87,
     "metadata": {},
     "output_type": "execute_result"
    }
   ],
   "source": [
    "chebi['mesh'].count()"
   ]
  },
  {
   "cell_type": "code",
   "execution_count": 88,
   "metadata": {},
   "outputs": [],
   "source": [
    "# use this now as our final map, and update directly...\n",
    "c2m_dict = {**prev_map, **c2m_dict}"
   ]
  },
  {
   "cell_type": "markdown",
   "metadata": {},
   "source": [
    "### Now look at the duplicates in the compiled set..."
   ]
  },
  {
   "cell_type": "code",
   "execution_count": 89,
   "metadata": {},
   "outputs": [
    {
     "data": {
      "text/plain": [
       "827"
      ]
     },
     "execution_count": 89,
     "metadata": {},
     "output_type": "execute_result"
    }
   ],
   "source": [
    "# Multiple mesh for a single chebi...\n",
    "ix = prev_res['chebi_id'].duplicated(keep=False)\n",
    "ix = ix[ix].index\n",
    "mult_mesh = prev_res.loc[ix]\n",
    "len(mult_mesh)"
   ]
  },
  {
   "cell_type": "code",
   "execution_count": 90,
   "metadata": {},
   "outputs": [
    {
     "data": {
      "text/html": [
       "<div>\n",
       "<style scoped>\n",
       "    .dataframe tbody tr th:only-of-type {\n",
       "        vertical-align: middle;\n",
       "    }\n",
       "\n",
       "    .dataframe tbody tr th {\n",
       "        vertical-align: top;\n",
       "    }\n",
       "\n",
       "    .dataframe thead th {\n",
       "        text-align: right;\n",
       "    }\n",
       "</style>\n",
       "<table border=\"1\" class=\"dataframe\">\n",
       "  <thead>\n",
       "    <tr style=\"text-align: right;\">\n",
       "      <th></th>\n",
       "      <th>q</th>\n",
       "      <th>ikey</th>\n",
       "      <th>chebi_id</th>\n",
       "      <th>chembl_id</th>\n",
       "      <th>drugbank_id</th>\n",
       "      <th>unii_id</th>\n",
       "      <th>mesh_id</th>\n",
       "      <th>name</th>\n",
       "      <th>id</th>\n",
       "      <th>source</th>\n",
       "      <th>wd_id</th>\n",
       "      <th>label</th>\n",
       "    </tr>\n",
       "  </thead>\n",
       "  <tbody>\n",
       "    <tr>\n",
       "      <th>8</th>\n",
       "      <td>GBBSUAFBMRNDJC-INIZCTEOSA-N</td>\n",
       "      <td>IKEY:GBBSUAFBMRNDJC-INIZCTEOSA-N</td>\n",
       "      <td>CHEBI:53760</td>\n",
       "      <td>CHEMBL:CHEMBL1522</td>\n",
       "      <td>DB:DB00402</td>\n",
       "      <td>UNII:UZX80K71OE</td>\n",
       "      <td>MESH:C515051</td>\n",
       "      <td>Eszopiclone</td>\n",
       "      <td>IKEY:GBBSUAFBMRNDJC-INIZCTEOSA-N</td>\n",
       "      <td>ikey</td>\n",
       "      <td>WD:Q413184</td>\n",
       "      <td>NaN</td>\n",
       "    </tr>\n",
       "    <tr>\n",
       "      <th>9</th>\n",
       "      <td>GBBSUAFBMRNDJC-INIZCTEOSA-N</td>\n",
       "      <td>IKEY:GBBSUAFBMRNDJC-INIZCTEOSA-N</td>\n",
       "      <td>CHEBI:53760</td>\n",
       "      <td>CHEMBL:CHEMBL1522</td>\n",
       "      <td>DB:DB00402</td>\n",
       "      <td>UNII:UZX80K71OE</td>\n",
       "      <td>MESH:D000069582</td>\n",
       "      <td>Eszopiclone</td>\n",
       "      <td>IKEY:GBBSUAFBMRNDJC-INIZCTEOSA-N</td>\n",
       "      <td>ikey</td>\n",
       "      <td>WD:Q413184</td>\n",
       "      <td>NaN</td>\n",
       "    </tr>\n",
       "  </tbody>\n",
       "</table>\n",
       "</div>"
      ],
      "text/plain": [
       "                             q                              ikey     chebi_id  \\\n",
       "8  GBBSUAFBMRNDJC-INIZCTEOSA-N  IKEY:GBBSUAFBMRNDJC-INIZCTEOSA-N  CHEBI:53760   \n",
       "9  GBBSUAFBMRNDJC-INIZCTEOSA-N  IKEY:GBBSUAFBMRNDJC-INIZCTEOSA-N  CHEBI:53760   \n",
       "\n",
       "           chembl_id drugbank_id          unii_id          mesh_id  \\\n",
       "8  CHEMBL:CHEMBL1522  DB:DB00402  UNII:UZX80K71OE     MESH:C515051   \n",
       "9  CHEMBL:CHEMBL1522  DB:DB00402  UNII:UZX80K71OE  MESH:D000069582   \n",
       "\n",
       "          name                                id source       wd_id label  \n",
       "8  Eszopiclone  IKEY:GBBSUAFBMRNDJC-INIZCTEOSA-N   ikey  WD:Q413184   NaN  \n",
       "9  Eszopiclone  IKEY:GBBSUAFBMRNDJC-INIZCTEOSA-N   ikey  WD:Q413184   NaN  "
      ]
     },
     "execution_count": 90,
     "metadata": {},
     "output_type": "execute_result"
    }
   ],
   "source": [
    "mult_mesh.head(2)"
   ]
  },
  {
   "cell_type": "code",
   "execution_count": 91,
   "metadata": {},
   "outputs": [
    {
     "data": {
      "text/html": [
       "<div>\n",
       "<style scoped>\n",
       "    .dataframe tbody tr th:only-of-type {\n",
       "        vertical-align: middle;\n",
       "    }\n",
       "\n",
       "    .dataframe tbody tr th {\n",
       "        vertical-align: top;\n",
       "    }\n",
       "\n",
       "    .dataframe thead th {\n",
       "        text-align: right;\n",
       "    }\n",
       "</style>\n",
       "<table border=\"1\" class=\"dataframe\">\n",
       "  <thead>\n",
       "    <tr style=\"text-align: right;\">\n",
       "      <th></th>\n",
       "      <th>chebi_id</th>\n",
       "      <th>mesh_id</th>\n",
       "      <th>name</th>\n",
       "      <th>mesh_name</th>\n",
       "      <th>cheb_name</th>\n",
       "    </tr>\n",
       "  </thead>\n",
       "  <tbody>\n",
       "    <tr>\n",
       "      <th>8</th>\n",
       "      <td>CHEBI:53760</td>\n",
       "      <td>MESH:C515051</td>\n",
       "      <td>Eszopiclone</td>\n",
       "      <td>NaN</td>\n",
       "      <td>eszopiclone</td>\n",
       "    </tr>\n",
       "    <tr>\n",
       "      <th>9</th>\n",
       "      <td>CHEBI:53760</td>\n",
       "      <td>MESH:D000069582</td>\n",
       "      <td>Eszopiclone</td>\n",
       "      <td>Eszopiclone</td>\n",
       "      <td>eszopiclone</td>\n",
       "    </tr>\n",
       "    <tr>\n",
       "      <th>12</th>\n",
       "      <td>CHEBI:84050</td>\n",
       "      <td>MESH:C099150</td>\n",
       "      <td>Trabectedin</td>\n",
       "      <td>NaN</td>\n",
       "      <td>trabectedin</td>\n",
       "    </tr>\n",
       "    <tr>\n",
       "      <th>15</th>\n",
       "      <td>CHEBI:135810</td>\n",
       "      <td>MESH:C430623</td>\n",
       "      <td>Atrasentan</td>\n",
       "      <td>NaN</td>\n",
       "      <td>atrasentan</td>\n",
       "    </tr>\n",
       "    <tr>\n",
       "      <th>19</th>\n",
       "      <td>CHEBI:31348</td>\n",
       "      <td>MESH:C110904</td>\n",
       "      <td>Capecitabine</td>\n",
       "      <td>NaN</td>\n",
       "      <td>capecitabine</td>\n",
       "    </tr>\n",
       "    <tr>\n",
       "      <th>20</th>\n",
       "      <td>CHEBI:31348</td>\n",
       "      <td>MESH:D000069287</td>\n",
       "      <td>Capecitabine</td>\n",
       "      <td>Capecitabine</td>\n",
       "      <td>capecitabine</td>\n",
       "    </tr>\n",
       "    <tr>\n",
       "      <th>33</th>\n",
       "      <td>CHEBI:5141</td>\n",
       "      <td>MESH:C010238</td>\n",
       "      <td>Fomepizole</td>\n",
       "      <td>NaN</td>\n",
       "      <td>fomepizole</td>\n",
       "    </tr>\n",
       "    <tr>\n",
       "      <th>55</th>\n",
       "      <td>CHEBI:90943</td>\n",
       "      <td>MESH:C000596361</td>\n",
       "      <td>Osimertinib</td>\n",
       "      <td>osimertinib</td>\n",
       "      <td>osimertinib</td>\n",
       "    </tr>\n",
       "    <tr>\n",
       "      <th>56</th>\n",
       "      <td>CHEBI:90943</td>\n",
       "      <td>MESH:C000603933</td>\n",
       "      <td>Osimertinib</td>\n",
       "      <td>NaN</td>\n",
       "      <td>osimertinib</td>\n",
       "    </tr>\n",
       "    <tr>\n",
       "      <th>70</th>\n",
       "      <td>CHEBI:63452</td>\n",
       "      <td>MESH:C411007</td>\n",
       "      <td>Midostaurin</td>\n",
       "      <td>NaN</td>\n",
       "      <td>midostaurin</td>\n",
       "    </tr>\n",
       "  </tbody>\n",
       "</table>\n",
       "</div>"
      ],
      "text/plain": [
       "        chebi_id          mesh_id          name     mesh_name     cheb_name\n",
       "8    CHEBI:53760     MESH:C515051   Eszopiclone           NaN   eszopiclone\n",
       "9    CHEBI:53760  MESH:D000069582   Eszopiclone   Eszopiclone   eszopiclone\n",
       "12   CHEBI:84050     MESH:C099150   Trabectedin           NaN   trabectedin\n",
       "15  CHEBI:135810     MESH:C430623    Atrasentan           NaN    atrasentan\n",
       "19   CHEBI:31348     MESH:C110904  Capecitabine           NaN  capecitabine\n",
       "20   CHEBI:31348  MESH:D000069287  Capecitabine  Capecitabine  capecitabine\n",
       "33    CHEBI:5141     MESH:C010238    Fomepizole           NaN    fomepizole\n",
       "55   CHEBI:90943  MESH:C000596361   Osimertinib   osimertinib   osimertinib\n",
       "56   CHEBI:90943  MESH:C000603933   Osimertinib           NaN   osimertinib\n",
       "70   CHEBI:63452     MESH:C411007   Midostaurin           NaN   midostaurin"
      ]
     },
     "execution_count": 91,
     "metadata": {},
     "output_type": "execute_result"
    }
   ],
   "source": [
    "mult_mesh['mesh_name'] = mult_mesh['mesh_id'].apply(lambda m: m2name.get(m.split(':')[1], float('nan')))\n",
    "mult_mesh['cheb_name'] = mult_mesh['chebi_id'].map(chebi.set_index('id')['name'].to_dict())\n",
    "\n",
    "mult_mesh[['chebi_id', 'mesh_id', 'name', 'mesh_name', 'cheb_name']].head(10)"
   ]
  },
  {
   "cell_type": "code",
   "execution_count": 92,
   "metadata": {},
   "outputs": [
    {
     "data": {
      "text/plain": [
       "(261, 402, 261)"
      ]
     },
     "execution_count": 92,
     "metadata": {},
     "output_type": "execute_result"
    }
   ],
   "source": [
    "# First, name-matching between chebi and mesh...\n",
    "ix = mult_mesh['mesh_name'].str.lower() == mult_mesh['cheb_name'].str.lower()\n",
    "ix.sum(), mult_mesh['chebi_id'].nunique(), mult_mesh[ix]['chebi_id'].nunique()"
   ]
  },
  {
   "cell_type": "markdown",
   "metadata": {},
   "source": [
    "Got about 2/3 of the total chebi id's resolved by this method..."
   ]
  },
  {
   "cell_type": "code",
   "execution_count": 93,
   "metadata": {},
   "outputs": [],
   "source": [
    "c2m_dict.update(mult_mesh[ix].set_index('chebi_id')['mesh_id'].to_dict())"
   ]
  },
  {
   "cell_type": "code",
   "execution_count": 94,
   "metadata": {},
   "outputs": [
    {
     "data": {
      "text/plain": [
       "(74, 402, 74)"
      ]
     },
     "execution_count": 94,
     "metadata": {},
     "output_type": "execute_result"
    }
   ],
   "source": [
    "# Next, name matching between mesh name and the accepted name from MYCHEM...\n",
    "remain_mult_mesh = mult_mesh.loc[ix[~ix].index]\n",
    "ix = remain_mult_mesh['mesh_name'].str.lower() == remain_mult_mesh['name'].str.lower()\n",
    "ix.sum(), remain_mult_mesh['chebi_id'].nunique(), remain_mult_mesh[ix]['chebi_id'].nunique()"
   ]
  },
  {
   "cell_type": "markdown",
   "metadata": {},
   "source": [
    "looks like another 74... so we've got maybe 50 more to resolve...?"
   ]
  },
  {
   "cell_type": "code",
   "execution_count": 95,
   "metadata": {},
   "outputs": [],
   "source": [
    "c2m_dict.update(remain_mult_mesh[ix].set_index('chebi_id')['mesh_id'].to_dict())"
   ]
  },
  {
   "cell_type": "code",
   "execution_count": 96,
   "metadata": {},
   "outputs": [
    {
     "data": {
      "text/plain": [
       "44"
      ]
     },
     "execution_count": 96,
     "metadata": {},
     "output_type": "execute_result"
    }
   ],
   "source": [
    "curr_cheb_ids = list(c2m_dict.keys())\n",
    "mult_mesh.query('chebi_id not in @curr_cheb_ids')['chebi_id'].nunique()"
   ]
  },
  {
   "cell_type": "code",
   "execution_count": 97,
   "metadata": {},
   "outputs": [
    {
     "data": {
      "text/html": [
       "<div>\n",
       "<style scoped>\n",
       "    .dataframe tbody tr th:only-of-type {\n",
       "        vertical-align: middle;\n",
       "    }\n",
       "\n",
       "    .dataframe tbody tr th {\n",
       "        vertical-align: top;\n",
       "    }\n",
       "\n",
       "    .dataframe thead th {\n",
       "        text-align: right;\n",
       "    }\n",
       "</style>\n",
       "<table border=\"1\" class=\"dataframe\">\n",
       "  <thead>\n",
       "    <tr style=\"text-align: right;\">\n",
       "      <th></th>\n",
       "      <th>chebi_id</th>\n",
       "      <th>mesh_id</th>\n",
       "      <th>name</th>\n",
       "      <th>mesh_name</th>\n",
       "      <th>cheb_name</th>\n",
       "    </tr>\n",
       "  </thead>\n",
       "  <tbody>\n",
       "    <tr>\n",
       "      <th>74</th>\n",
       "      <td>CHEBI:73286</td>\n",
       "      <td>MESH:C084956</td>\n",
       "      <td>Piclidenoson</td>\n",
       "      <td>N(6)-(3-iodobenzyl)-5'-N-methylcarboxamidoaden...</td>\n",
       "      <td>3-iodobenzyl-5'-N-methylcarboxamidoadenosine</td>\n",
       "    </tr>\n",
       "    <tr>\n",
       "      <th>75</th>\n",
       "      <td>CHEBI:73286</td>\n",
       "      <td>MESH:C478920</td>\n",
       "      <td>Piclidenoson</td>\n",
       "      <td>CF101</td>\n",
       "      <td>3-iodobenzyl-5'-N-methylcarboxamidoadenosine</td>\n",
       "    </tr>\n",
       "    <tr>\n",
       "      <th>251</th>\n",
       "      <td>CHEBI:63115</td>\n",
       "      <td>MESH:D000068876</td>\n",
       "      <td>Fingolimod</td>\n",
       "      <td>Fingolimod Hydrochloride</td>\n",
       "      <td>fingolimod</td>\n",
       "    </tr>\n",
       "    <tr>\n",
       "      <th>252</th>\n",
       "      <td>CHEBI:63115</td>\n",
       "      <td>MESH:C098720</td>\n",
       "      <td>Fingolimod</td>\n",
       "      <td>NaN</td>\n",
       "      <td>fingolimod</td>\n",
       "    </tr>\n",
       "    <tr>\n",
       "      <th>255</th>\n",
       "      <td>CHEBI:70735</td>\n",
       "      <td>MESH:D000069056</td>\n",
       "      <td>Lurasidone</td>\n",
       "      <td>Lurasidone Hydrochloride</td>\n",
       "      <td>lurasidone</td>\n",
       "    </tr>\n",
       "    <tr>\n",
       "      <th>256</th>\n",
       "      <td>CHEBI:70735</td>\n",
       "      <td>MESH:C525644</td>\n",
       "      <td>Lurasidone</td>\n",
       "      <td>NaN</td>\n",
       "      <td>lurasidone</td>\n",
       "    </tr>\n",
       "    <tr>\n",
       "      <th>280</th>\n",
       "      <td>CHEBI:40237</td>\n",
       "      <td>MESH:D000068900</td>\n",
       "      <td>Sitagliptin</td>\n",
       "      <td>Sitagliptin Phosphate</td>\n",
       "      <td>sitagliptin</td>\n",
       "    </tr>\n",
       "    <tr>\n",
       "      <th>281</th>\n",
       "      <td>CHEBI:40237</td>\n",
       "      <td>MESH:C496398</td>\n",
       "      <td>Sitagliptin</td>\n",
       "      <td>NaN</td>\n",
       "      <td>sitagliptin</td>\n",
       "    </tr>\n",
       "    <tr>\n",
       "      <th>310</th>\n",
       "      <td>CHEBI:87723</td>\n",
       "      <td>MESH:C408153</td>\n",
       "      <td>Prasugrel</td>\n",
       "      <td>NaN</td>\n",
       "      <td>5-[2-cyclopropyl-1-(2-fluorophenyl)-2-oxoethyl...</td>\n",
       "    </tr>\n",
       "    <tr>\n",
       "      <th>311</th>\n",
       "      <td>CHEBI:87723</td>\n",
       "      <td>MESH:D000068799</td>\n",
       "      <td>Prasugrel</td>\n",
       "      <td>Prasugrel Hydrochloride</td>\n",
       "      <td>5-[2-cyclopropyl-1-(2-fluorophenyl)-2-oxoethyl...</td>\n",
       "    </tr>\n",
       "  </tbody>\n",
       "</table>\n",
       "</div>"
      ],
      "text/plain": [
       "        chebi_id          mesh_id          name  \\\n",
       "74   CHEBI:73286     MESH:C084956  Piclidenoson   \n",
       "75   CHEBI:73286     MESH:C478920  Piclidenoson   \n",
       "251  CHEBI:63115  MESH:D000068876    Fingolimod   \n",
       "252  CHEBI:63115     MESH:C098720    Fingolimod   \n",
       "255  CHEBI:70735  MESH:D000069056    Lurasidone   \n",
       "256  CHEBI:70735     MESH:C525644    Lurasidone   \n",
       "280  CHEBI:40237  MESH:D000068900   Sitagliptin   \n",
       "281  CHEBI:40237     MESH:C496398   Sitagliptin   \n",
       "310  CHEBI:87723     MESH:C408153     Prasugrel   \n",
       "311  CHEBI:87723  MESH:D000068799     Prasugrel   \n",
       "\n",
       "                                             mesh_name  \\\n",
       "74   N(6)-(3-iodobenzyl)-5'-N-methylcarboxamidoaden...   \n",
       "75                                               CF101   \n",
       "251                           Fingolimod Hydrochloride   \n",
       "252                                                NaN   \n",
       "255                           Lurasidone Hydrochloride   \n",
       "256                                                NaN   \n",
       "280                              Sitagliptin Phosphate   \n",
       "281                                                NaN   \n",
       "310                                                NaN   \n",
       "311                            Prasugrel Hydrochloride   \n",
       "\n",
       "                                             cheb_name  \n",
       "74        3-iodobenzyl-5'-N-methylcarboxamidoadenosine  \n",
       "75        3-iodobenzyl-5'-N-methylcarboxamidoadenosine  \n",
       "251                                         fingolimod  \n",
       "252                                         fingolimod  \n",
       "255                                         lurasidone  \n",
       "256                                         lurasidone  \n",
       "280                                        sitagliptin  \n",
       "281                                        sitagliptin  \n",
       "310  5-[2-cyclopropyl-1-(2-fluorophenyl)-2-oxoethyl...  \n",
       "311  5-[2-cyclopropyl-1-(2-fluorophenyl)-2-oxoethyl...  "
      ]
     },
     "execution_count": 97,
     "metadata": {},
     "output_type": "execute_result"
    }
   ],
   "source": [
    "mult_mesh.query('chebi_id not in @curr_cheb_ids')[['chebi_id', 'mesh_id', 'name', 'mesh_name', 'cheb_name']].head(10)"
   ]
  },
  {
   "cell_type": "markdown",
   "metadata": {},
   "source": [
    "Still some NA values that we can use to our advantage....."
   ]
  },
  {
   "cell_type": "code",
   "execution_count": 98,
   "metadata": {},
   "outputs": [
    {
     "data": {
      "text/plain": [
       "18"
      ]
     },
     "execution_count": 98,
     "metadata": {},
     "output_type": "execute_result"
    }
   ],
   "source": [
    "c2m_dict.update(mult_mesh.query('chebi_id not in @curr_cheb_ids')\n",
    "     .dropna(subset=['mesh_name'])\n",
    "     .drop_duplicates(subset=['chebi_id'], keep=False)\n",
    "     .set_index('chebi_id')['mesh_id'].to_dict())\n",
    "\n",
    "curr_cheb_ids = list(c2m_dict.keys())\n",
    "mult_mesh.query('chebi_id not in @curr_cheb_ids')['chebi_id'].nunique()"
   ]
  },
  {
   "cell_type": "markdown",
   "metadata": {},
   "source": [
    "got us another 27 mappings..."
   ]
  },
  {
   "cell_type": "code",
   "execution_count": 99,
   "metadata": {},
   "outputs": [
    {
     "data": {
      "text/html": [
       "<div>\n",
       "<style scoped>\n",
       "    .dataframe tbody tr th:only-of-type {\n",
       "        vertical-align: middle;\n",
       "    }\n",
       "\n",
       "    .dataframe tbody tr th {\n",
       "        vertical-align: top;\n",
       "    }\n",
       "\n",
       "    .dataframe thead th {\n",
       "        text-align: right;\n",
       "    }\n",
       "</style>\n",
       "<table border=\"1\" class=\"dataframe\">\n",
       "  <thead>\n",
       "    <tr style=\"text-align: right;\">\n",
       "      <th></th>\n",
       "      <th>chebi_id</th>\n",
       "      <th>mesh_id</th>\n",
       "      <th>name</th>\n",
       "      <th>mesh_name</th>\n",
       "      <th>cheb_name</th>\n",
       "    </tr>\n",
       "  </thead>\n",
       "  <tbody>\n",
       "    <tr>\n",
       "      <th>5599</th>\n",
       "      <td>CHEBI:125</td>\n",
       "      <td>MESH:C056251</td>\n",
       "      <td>Levomenol</td>\n",
       "      <td>Kamillosan</td>\n",
       "      <td>(-)-alpha-Bisabolol</td>\n",
       "    </tr>\n",
       "    <tr>\n",
       "      <th>5600</th>\n",
       "      <td>CHEBI:125</td>\n",
       "      <td>MESH:C004497</td>\n",
       "      <td>Levomenol</td>\n",
       "      <td>bisabolol</td>\n",
       "      <td>(-)-alpha-Bisabolol</td>\n",
       "    </tr>\n",
       "    <tr>\n",
       "      <th>2861</th>\n",
       "      <td>CHEBI:134714</td>\n",
       "      <td>MESH:C549068</td>\n",
       "      <td>Sacubitril</td>\n",
       "      <td>sacubitril-valsartan</td>\n",
       "      <td>sacubitril</td>\n",
       "    </tr>\n",
       "    <tr>\n",
       "      <th>2860</th>\n",
       "      <td>CHEBI:134714</td>\n",
       "      <td>MESH:C000609743</td>\n",
       "      <td>Sacubitril</td>\n",
       "      <td>LBQ657</td>\n",
       "      <td>sacubitril</td>\n",
       "    </tr>\n",
       "    <tr>\n",
       "      <th>568</th>\n",
       "      <td>CHEBI:134964</td>\n",
       "      <td>MESH:C069727</td>\n",
       "      <td>Perflubutane</td>\n",
       "      <td>Sonazoid</td>\n",
       "      <td>perflubutane</td>\n",
       "    </tr>\n",
       "    <tr>\n",
       "      <th>569</th>\n",
       "      <td>CHEBI:134964</td>\n",
       "      <td>MESH:C108042</td>\n",
       "      <td>Perflubutane</td>\n",
       "      <td>perfluorobutane</td>\n",
       "      <td>perflubutane</td>\n",
       "    </tr>\n",
       "    <tr>\n",
       "      <th>1816</th>\n",
       "      <td>CHEBI:135144</td>\n",
       "      <td>MESH:C025079</td>\n",
       "      <td>Mebhydrolin</td>\n",
       "      <td>diazoline</td>\n",
       "      <td>mebhydrolin</td>\n",
       "    </tr>\n",
       "    <tr>\n",
       "      <th>1817</th>\n",
       "      <td>CHEBI:135144</td>\n",
       "      <td>MESH:C005139</td>\n",
       "      <td>Mebhydrolin</td>\n",
       "      <td>mebhydroline</td>\n",
       "      <td>mebhydrolin</td>\n",
       "    </tr>\n",
       "    <tr>\n",
       "      <th>3925</th>\n",
       "      <td>CHEBI:135333</td>\n",
       "      <td>MESH:C021702</td>\n",
       "      <td>Lodoxamide</td>\n",
       "      <td>lodoxamide ethyl</td>\n",
       "      <td>lodoxamide</td>\n",
       "    </tr>\n",
       "    <tr>\n",
       "      <th>3926</th>\n",
       "      <td>CHEBI:135333</td>\n",
       "      <td>MESH:C022028</td>\n",
       "      <td>Lodoxamide</td>\n",
       "      <td>lodoxamide tromethamine</td>\n",
       "      <td>lodoxamide</td>\n",
       "    </tr>\n",
       "    <tr>\n",
       "      <th>2421</th>\n",
       "      <td>CHEBI:135771</td>\n",
       "      <td>MESH:C069156</td>\n",
       "      <td>Temocapril</td>\n",
       "      <td>temocaprilat</td>\n",
       "      <td>temocapril</td>\n",
       "    </tr>\n",
       "    <tr>\n",
       "      <th>2420</th>\n",
       "      <td>CHEBI:135771</td>\n",
       "      <td>MESH:C055603</td>\n",
       "      <td>Temocapril</td>\n",
       "      <td>temocapril hydrochloride</td>\n",
       "      <td>temocapril</td>\n",
       "    </tr>\n",
       "    <tr>\n",
       "      <th>3560</th>\n",
       "      <td>CHEBI:136009</td>\n",
       "      <td>MESH:C569381</td>\n",
       "      <td>Levomefolic acid</td>\n",
       "      <td>levomefolate calcium</td>\n",
       "      <td>levomefolic acid</td>\n",
       "    </tr>\n",
       "    <tr>\n",
       "      <th>3562</th>\n",
       "      <td>CHEBI:136009</td>\n",
       "      <td>MESH:C005984</td>\n",
       "      <td>Levomefolic acid</td>\n",
       "      <td>5-methyltetrahydrofolate</td>\n",
       "      <td>levomefolic acid</td>\n",
       "    </tr>\n",
       "    <tr>\n",
       "      <th>3563</th>\n",
       "      <td>CHEBI:15641</td>\n",
       "      <td>MESH:C005984</td>\n",
       "      <td>Levomefolic acid</td>\n",
       "      <td>5-methyltetrahydrofolate</td>\n",
       "      <td>5-methyltetrahydrofolic acid</td>\n",
       "    </tr>\n",
       "    <tr>\n",
       "      <th>3561</th>\n",
       "      <td>CHEBI:15641</td>\n",
       "      <td>MESH:C569381</td>\n",
       "      <td>Levomefolic acid</td>\n",
       "      <td>levomefolate calcium</td>\n",
       "      <td>5-methyltetrahydrofolic acid</td>\n",
       "    </tr>\n",
       "    <tr>\n",
       "      <th>6656</th>\n",
       "      <td>CHEBI:28064</td>\n",
       "      <td>MESH:C428983</td>\n",
       "      <td>Keracyanin cation</td>\n",
       "      <td>cyanidin 3-rutinoside</td>\n",
       "      <td>cyanidin 3-O-rutinoside</td>\n",
       "    </tr>\n",
       "    <tr>\n",
       "      <th>6657</th>\n",
       "      <td>CHEBI:28064</td>\n",
       "      <td>MESH:C020386</td>\n",
       "      <td>Keracyanin cation</td>\n",
       "      <td>keracyanin</td>\n",
       "      <td>cyanidin 3-O-rutinoside</td>\n",
       "    </tr>\n",
       "    <tr>\n",
       "      <th>6840</th>\n",
       "      <td>CHEBI:29021</td>\n",
       "      <td>MESH:D006586</td>\n",
       "      <td>Hexane</td>\n",
       "      <td>Hexanes</td>\n",
       "      <td>hexane</td>\n",
       "    </tr>\n",
       "    <tr>\n",
       "      <th>6841</th>\n",
       "      <td>CHEBI:29021</td>\n",
       "      <td>MESH:C026385</td>\n",
       "      <td>Hexane</td>\n",
       "      <td>n-hexane</td>\n",
       "      <td>hexane</td>\n",
       "    </tr>\n",
       "    <tr>\n",
       "      <th>3105</th>\n",
       "      <td>CHEBI:32596</td>\n",
       "      <td>MESH:C020243</td>\n",
       "      <td>Anhydrous dibasic calcium phosphate</td>\n",
       "      <td>calcium phosphate</td>\n",
       "      <td>calcium hydrogenphosphate</td>\n",
       "    </tr>\n",
       "    <tr>\n",
       "      <th>3106</th>\n",
       "      <td>CHEBI:32596</td>\n",
       "      <td>MESH:C018392</td>\n",
       "      <td>Anhydrous dibasic calcium phosphate</td>\n",
       "      <td>tricalcium phosphate</td>\n",
       "      <td>calcium hydrogenphosphate</td>\n",
       "    </tr>\n",
       "    <tr>\n",
       "      <th>6642</th>\n",
       "      <td>CHEBI:33128</td>\n",
       "      <td>MESH:C069837</td>\n",
       "      <td>Buckminsterfullerene</td>\n",
       "      <td>fullerene C60</td>\n",
       "      <td>C60 fullerene</td>\n",
       "    </tr>\n",
       "    <tr>\n",
       "      <th>6641</th>\n",
       "      <td>CHEBI:33128</td>\n",
       "      <td>MESH:D037741</td>\n",
       "      <td>Buckminsterfullerene</td>\n",
       "      <td>Fullerenes</td>\n",
       "      <td>C60 fullerene</td>\n",
       "    </tr>\n",
       "    <tr>\n",
       "      <th>13571</th>\n",
       "      <td>CHEBI:35702</td>\n",
       "      <td>MESH:D005019</td>\n",
       "      <td>ethyl ether</td>\n",
       "      <td>Ethyl Ethers</td>\n",
       "      <td>diethyl ether</td>\n",
       "    </tr>\n",
       "    <tr>\n",
       "      <th>13570</th>\n",
       "      <td>CHEBI:35702</td>\n",
       "      <td>MESH:D004986</td>\n",
       "      <td>ethyl ether</td>\n",
       "      <td>Ether</td>\n",
       "      <td>diethyl ether</td>\n",
       "    </tr>\n",
       "    <tr>\n",
       "      <th>6601</th>\n",
       "      <td>CHEBI:39115</td>\n",
       "      <td>MESH:C054159</td>\n",
       "      <td>Bioallethrin, (s)-</td>\n",
       "      <td>esbiothrin</td>\n",
       "      <td>(+)-trans-(S)-allethrin</td>\n",
       "    </tr>\n",
       "    <tr>\n",
       "      <th>6602</th>\n",
       "      <td>CHEBI:39115</td>\n",
       "      <td>MESH:D000487</td>\n",
       "      <td>Bioallethrin, (s)-</td>\n",
       "      <td>Allethrins</td>\n",
       "      <td>(+)-trans-(S)-allethrin</td>\n",
       "    </tr>\n",
       "    <tr>\n",
       "      <th>6603</th>\n",
       "      <td>CHEBI:39115</td>\n",
       "      <td>MESH:C018465</td>\n",
       "      <td>Bioallethrin, (s)-</td>\n",
       "      <td>bioallethrin</td>\n",
       "      <td>(+)-trans-(S)-allethrin</td>\n",
       "    </tr>\n",
       "    <tr>\n",
       "      <th>1491</th>\n",
       "      <td>CHEBI:59888</td>\n",
       "      <td>MESH:D005680</td>\n",
       "      <td>.gamma.-aminobutyric acid</td>\n",
       "      <td>gamma-Aminobutyric Acid</td>\n",
       "      <td>gamma-aminobutyric acid zwitterion</td>\n",
       "    </tr>\n",
       "    <tr>\n",
       "      <th>1489</th>\n",
       "      <td>CHEBI:59888</td>\n",
       "      <td>MESH:D000613</td>\n",
       "      <td>.gamma.-aminobutyric acid</td>\n",
       "      <td>Aminobutyrates</td>\n",
       "      <td>gamma-aminobutyric acid zwitterion</td>\n",
       "    </tr>\n",
       "    <tr>\n",
       "      <th>3715</th>\n",
       "      <td>CHEBI:62088</td>\n",
       "      <td>MESH:D004177</td>\n",
       "      <td>Metamizole</td>\n",
       "      <td>Dipyrone</td>\n",
       "      <td>metamizole</td>\n",
       "    </tr>\n",
       "    <tr>\n",
       "      <th>3716</th>\n",
       "      <td>CHEBI:62088</td>\n",
       "      <td>MESH:C024864</td>\n",
       "      <td>Metamizole</td>\n",
       "      <td>metamizole magnesium</td>\n",
       "      <td>metamizole</td>\n",
       "    </tr>\n",
       "    <tr>\n",
       "      <th>75</th>\n",
       "      <td>CHEBI:73286</td>\n",
       "      <td>MESH:C478920</td>\n",
       "      <td>Piclidenoson</td>\n",
       "      <td>CF101</td>\n",
       "      <td>3-iodobenzyl-5'-N-methylcarboxamidoadenosine</td>\n",
       "    </tr>\n",
       "    <tr>\n",
       "      <th>74</th>\n",
       "      <td>CHEBI:73286</td>\n",
       "      <td>MESH:C084956</td>\n",
       "      <td>Piclidenoson</td>\n",
       "      <td>N(6)-(3-iodobenzyl)-5'-N-methylcarboxamidoaden...</td>\n",
       "      <td>3-iodobenzyl-5'-N-methylcarboxamidoadenosine</td>\n",
       "    </tr>\n",
       "    <tr>\n",
       "      <th>1198</th>\n",
       "      <td>CHEBI:76254</td>\n",
       "      <td>MESH:C111751</td>\n",
       "      <td>Naproxcinod</td>\n",
       "      <td>naproxen-n-butyl nitrate</td>\n",
       "      <td>naproxcinod</td>\n",
       "    </tr>\n",
       "    <tr>\n",
       "      <th>1197</th>\n",
       "      <td>CHEBI:76254</td>\n",
       "      <td>MESH:C411103</td>\n",
       "      <td>Naproxcinod</td>\n",
       "      <td>HCT 3012</td>\n",
       "      <td>naproxcinod</td>\n",
       "    </tr>\n",
       "    <tr>\n",
       "      <th>1196</th>\n",
       "      <td>CHEBI:76254</td>\n",
       "      <td>MESH:C094069</td>\n",
       "      <td>Naproxcinod</td>\n",
       "      <td>nitronaproxen</td>\n",
       "      <td>naproxcinod</td>\n",
       "    </tr>\n",
       "  </tbody>\n",
       "</table>\n",
       "</div>"
      ],
      "text/plain": [
       "           chebi_id          mesh_id                                 name  \\\n",
       "5599      CHEBI:125     MESH:C056251                            Levomenol   \n",
       "5600      CHEBI:125     MESH:C004497                            Levomenol   \n",
       "2861   CHEBI:134714     MESH:C549068                           Sacubitril   \n",
       "2860   CHEBI:134714  MESH:C000609743                           Sacubitril   \n",
       "568    CHEBI:134964     MESH:C069727                         Perflubutane   \n",
       "569    CHEBI:134964     MESH:C108042                         Perflubutane   \n",
       "1816   CHEBI:135144     MESH:C025079                          Mebhydrolin   \n",
       "1817   CHEBI:135144     MESH:C005139                          Mebhydrolin   \n",
       "3925   CHEBI:135333     MESH:C021702                           Lodoxamide   \n",
       "3926   CHEBI:135333     MESH:C022028                           Lodoxamide   \n",
       "2421   CHEBI:135771     MESH:C069156                           Temocapril   \n",
       "2420   CHEBI:135771     MESH:C055603                           Temocapril   \n",
       "3560   CHEBI:136009     MESH:C569381                     Levomefolic acid   \n",
       "3562   CHEBI:136009     MESH:C005984                     Levomefolic acid   \n",
       "3563    CHEBI:15641     MESH:C005984                     Levomefolic acid   \n",
       "3561    CHEBI:15641     MESH:C569381                     Levomefolic acid   \n",
       "6656    CHEBI:28064     MESH:C428983                    Keracyanin cation   \n",
       "6657    CHEBI:28064     MESH:C020386                    Keracyanin cation   \n",
       "6840    CHEBI:29021     MESH:D006586                               Hexane   \n",
       "6841    CHEBI:29021     MESH:C026385                               Hexane   \n",
       "3105    CHEBI:32596     MESH:C020243  Anhydrous dibasic calcium phosphate   \n",
       "3106    CHEBI:32596     MESH:C018392  Anhydrous dibasic calcium phosphate   \n",
       "6642    CHEBI:33128     MESH:C069837                 Buckminsterfullerene   \n",
       "6641    CHEBI:33128     MESH:D037741                 Buckminsterfullerene   \n",
       "13571   CHEBI:35702     MESH:D005019                          ethyl ether   \n",
       "13570   CHEBI:35702     MESH:D004986                          ethyl ether   \n",
       "6601    CHEBI:39115     MESH:C054159                   Bioallethrin, (s)-   \n",
       "6602    CHEBI:39115     MESH:D000487                   Bioallethrin, (s)-   \n",
       "6603    CHEBI:39115     MESH:C018465                   Bioallethrin, (s)-   \n",
       "1491    CHEBI:59888     MESH:D005680            .gamma.-aminobutyric acid   \n",
       "1489    CHEBI:59888     MESH:D000613            .gamma.-aminobutyric acid   \n",
       "3715    CHEBI:62088     MESH:D004177                           Metamizole   \n",
       "3716    CHEBI:62088     MESH:C024864                           Metamizole   \n",
       "75      CHEBI:73286     MESH:C478920                         Piclidenoson   \n",
       "74      CHEBI:73286     MESH:C084956                         Piclidenoson   \n",
       "1198    CHEBI:76254     MESH:C111751                          Naproxcinod   \n",
       "1197    CHEBI:76254     MESH:C411103                          Naproxcinod   \n",
       "1196    CHEBI:76254     MESH:C094069                          Naproxcinod   \n",
       "\n",
       "                                               mesh_name  \\\n",
       "5599                                          Kamillosan   \n",
       "5600                                           bisabolol   \n",
       "2861                                sacubitril-valsartan   \n",
       "2860                                              LBQ657   \n",
       "568                                             Sonazoid   \n",
       "569                                      perfluorobutane   \n",
       "1816                                           diazoline   \n",
       "1817                                        mebhydroline   \n",
       "3925                                    lodoxamide ethyl   \n",
       "3926                             lodoxamide tromethamine   \n",
       "2421                                        temocaprilat   \n",
       "2420                            temocapril hydrochloride   \n",
       "3560                                levomefolate calcium   \n",
       "3562                            5-methyltetrahydrofolate   \n",
       "3563                            5-methyltetrahydrofolate   \n",
       "3561                                levomefolate calcium   \n",
       "6656                               cyanidin 3-rutinoside   \n",
       "6657                                          keracyanin   \n",
       "6840                                             Hexanes   \n",
       "6841                                            n-hexane   \n",
       "3105                                   calcium phosphate   \n",
       "3106                                tricalcium phosphate   \n",
       "6642                                       fullerene C60   \n",
       "6641                                          Fullerenes   \n",
       "13571                                       Ethyl Ethers   \n",
       "13570                                              Ether   \n",
       "6601                                          esbiothrin   \n",
       "6602                                          Allethrins   \n",
       "6603                                        bioallethrin   \n",
       "1491                             gamma-Aminobutyric Acid   \n",
       "1489                                      Aminobutyrates   \n",
       "3715                                            Dipyrone   \n",
       "3716                                metamizole magnesium   \n",
       "75                                                 CF101   \n",
       "74     N(6)-(3-iodobenzyl)-5'-N-methylcarboxamidoaden...   \n",
       "1198                            naproxen-n-butyl nitrate   \n",
       "1197                                            HCT 3012   \n",
       "1196                                       nitronaproxen   \n",
       "\n",
       "                                          cheb_name  \n",
       "5599                            (-)-alpha-Bisabolol  \n",
       "5600                            (-)-alpha-Bisabolol  \n",
       "2861                                     sacubitril  \n",
       "2860                                     sacubitril  \n",
       "568                                    perflubutane  \n",
       "569                                    perflubutane  \n",
       "1816                                    mebhydrolin  \n",
       "1817                                    mebhydrolin  \n",
       "3925                                     lodoxamide  \n",
       "3926                                     lodoxamide  \n",
       "2421                                     temocapril  \n",
       "2420                                     temocapril  \n",
       "3560                               levomefolic acid  \n",
       "3562                               levomefolic acid  \n",
       "3563                   5-methyltetrahydrofolic acid  \n",
       "3561                   5-methyltetrahydrofolic acid  \n",
       "6656                        cyanidin 3-O-rutinoside  \n",
       "6657                        cyanidin 3-O-rutinoside  \n",
       "6840                                         hexane  \n",
       "6841                                         hexane  \n",
       "3105                      calcium hydrogenphosphate  \n",
       "3106                      calcium hydrogenphosphate  \n",
       "6642                                  C60 fullerene  \n",
       "6641                                  C60 fullerene  \n",
       "13571                                 diethyl ether  \n",
       "13570                                 diethyl ether  \n",
       "6601                        (+)-trans-(S)-allethrin  \n",
       "6602                        (+)-trans-(S)-allethrin  \n",
       "6603                        (+)-trans-(S)-allethrin  \n",
       "1491             gamma-aminobutyric acid zwitterion  \n",
       "1489             gamma-aminobutyric acid zwitterion  \n",
       "3715                                     metamizole  \n",
       "3716                                     metamizole  \n",
       "75     3-iodobenzyl-5'-N-methylcarboxamidoadenosine  \n",
       "74     3-iodobenzyl-5'-N-methylcarboxamidoadenosine  \n",
       "1198                                    naproxcinod  \n",
       "1197                                    naproxcinod  \n",
       "1196                                    naproxcinod  "
      ]
     },
     "execution_count": 99,
     "metadata": {},
     "output_type": "execute_result"
    }
   ],
   "source": [
    "mult_mesh.query('chebi_id not in @curr_cheb_ids').sort_values('chebi_id')[['chebi_id', 'mesh_id', 'name', 'mesh_name', 'cheb_name']]"
   ]
  },
  {
   "cell_type": "code",
   "execution_count": 100,
   "metadata": {},
   "outputs": [],
   "source": [
    "# A few more to do by hand...\n",
    "c2m_dict['CHEBI:125'] = 'MESH:C004497'\n",
    "c2m_dict['CHEBI:134714'] = 'MESH:C549068'\n",
    "c2m_dict['CHEBI:134964'] = 'MESH:C108042'\n",
    "c2m_dict['CHEBI:135144'] = 'MESH:C005139'\n",
    "c2m_dict['CHEBI:135333'] = 'MESH:C021702'\n",
    "c2m_dict['CHEBI:135611'] = 'MESH:D001548'\n",
    "c2m_dict['CHEBI:135771'] = 'MESH:C055603'\n",
    "c2m_dict['CHEBI:136009'] = 'MESH:C005984'\n",
    "c2m_dict['CHEBI:15641'] = 'MESH:C005984'\n",
    "c2m_dict['CHEBI:16027'] = 'MESH:D000249'\n",
    "c2m_dict['CHEBI:28064'] = 'MESH:C020386'\n",
    "c2m_dict['CHEBI:29021'] = 'MESH:D006586'\n",
    "c2m_dict['CHEBI:30863'] = 'MESH:D010094'\n",
    "c2m_dict['CHEBI:32596'] = 'MESH:C485829'\n",
    "c2m_dict['CHEBI:33128'] = 'MESH:C069837'\n",
    "c2m_dict['CHEBI:39115'] = 'MESH:C018465'\n",
    "c2m_dict['CHEBI:4753'] = 'MESH:C061212'\n",
    "c2m_dict['CHEBI:59888'] = 'MESH:D005680'\n",
    "c2m_dict['CHEBI:62088'] = 'MESH:D004177'\n",
    "c2m_dict['CHEBI:67040'] = 'MESH:D012436'\n",
    "c2m_dict['CHEBI:73286'] = 'MESH:C084956'\n",
    "c2m_dict['CHEBI:76254'] = 'MESH:C111751'"
   ]
  },
  {
   "cell_type": "markdown",
   "metadata": {},
   "source": [
    "#### Multiple CHEBI for a single mesh..."
   ]
  },
  {
   "cell_type": "code",
   "execution_count": 101,
   "metadata": {},
   "outputs": [
    {
     "data": {
      "text/plain": [
       "907"
      ]
     },
     "execution_count": 101,
     "metadata": {},
     "output_type": "execute_result"
    }
   ],
   "source": [
    "# Multiple chebi for a single mesh...\n",
    "ix = prev_res['mesh_id'].duplicated(keep=False)\n",
    "ix = ix[ix].index\n",
    "mult_cheb = prev_res.loc[ix]\n",
    "len(mult_cheb)"
   ]
  },
  {
   "cell_type": "code",
   "execution_count": 102,
   "metadata": {},
   "outputs": [
    {
     "data": {
      "text/plain": [
       "875"
      ]
     },
     "execution_count": 102,
     "metadata": {},
     "output_type": "execute_result"
    }
   ],
   "source": [
    "mult_cheb['chebi_id'].nunique()"
   ]
  },
  {
   "cell_type": "code",
   "execution_count": 103,
   "metadata": {},
   "outputs": [],
   "source": [
    "mult_cheb_mrg = (pd.merge(mult_cheb, chebi[['id', 'name', 'ikey', 'mesh']],\n",
    "                     how='left', left_on='chebi_id', right_on='id', suffixes=('', '_cheb'))\n",
    "                .sort_values('mesh_id')[['chebi_id', 'name', 'name_cheb', 'mesh_id', 'mesh', 'ikey','ikey_cheb']])"
   ]
  },
  {
   "cell_type": "code",
   "execution_count": 104,
   "metadata": {},
   "outputs": [
    {
     "data": {
      "text/html": [
       "<div>\n",
       "<style scoped>\n",
       "    .dataframe tbody tr th:only-of-type {\n",
       "        vertical-align: middle;\n",
       "    }\n",
       "\n",
       "    .dataframe tbody tr th {\n",
       "        vertical-align: top;\n",
       "    }\n",
       "\n",
       "    .dataframe thead th {\n",
       "        text-align: right;\n",
       "    }\n",
       "</style>\n",
       "<table border=\"1\" class=\"dataframe\">\n",
       "  <thead>\n",
       "    <tr style=\"text-align: right;\">\n",
       "      <th></th>\n",
       "      <th>chebi_id</th>\n",
       "      <th>name</th>\n",
       "      <th>name_cheb</th>\n",
       "      <th>mesh_id</th>\n",
       "      <th>mesh</th>\n",
       "      <th>ikey</th>\n",
       "      <th>ikey_cheb</th>\n",
       "    </tr>\n",
       "  </thead>\n",
       "  <tbody>\n",
       "    <tr>\n",
       "      <th>730</th>\n",
       "      <td>CHEBI:58321</td>\n",
       "      <td>Allysine</td>\n",
       "      <td>L-allysine zwitterion</td>\n",
       "      <td>MESH:C000061</td>\n",
       "      <td>NaN</td>\n",
       "      <td>IKEY:GFXYTQPNNXGICT-YFKPBYRVSA-N</td>\n",
       "      <td>GFXYTQPNNXGICT-YFKPBYRVSA-N</td>\n",
       "    </tr>\n",
       "    <tr>\n",
       "      <th>731</th>\n",
       "      <td>CHEBI:17917</td>\n",
       "      <td>Allysine</td>\n",
       "      <td>L-allysine</td>\n",
       "      <td>MESH:C000061</td>\n",
       "      <td>NaN</td>\n",
       "      <td>IKEY:GFXYTQPNNXGICT-YFKPBYRVSA-N</td>\n",
       "      <td>GFXYTQPNNXGICT-YFKPBYRVSA-N</td>\n",
       "    </tr>\n",
       "    <tr>\n",
       "      <th>803</th>\n",
       "      <td>CHEBI:84310</td>\n",
       "      <td>Anticapsin</td>\n",
       "      <td>anticapsin zwitterion</td>\n",
       "      <td>MESH:C000097</td>\n",
       "      <td>NaN</td>\n",
       "      <td>IKEY:KHVZXXWDPSCGEK-MGVQOFIGSA-N</td>\n",
       "      <td>KHVZXXWDPSCGEK-MGVQOFIGSA-N</td>\n",
       "    </tr>\n",
       "    <tr>\n",
       "      <th>802</th>\n",
       "      <td>CHEBI:85005</td>\n",
       "      <td>Anticapsin</td>\n",
       "      <td>anticapsin</td>\n",
       "      <td>MESH:C000097</td>\n",
       "      <td>NaN</td>\n",
       "      <td>IKEY:KHVZXXWDPSCGEK-MGVQOFIGSA-N</td>\n",
       "      <td>KHVZXXWDPSCGEK-MGVQOFIGSA-N</td>\n",
       "    </tr>\n",
       "    <tr>\n",
       "      <th>273</th>\n",
       "      <td>CHEBI:9978</td>\n",
       "      <td>Vidarabine</td>\n",
       "      <td>vidarabine monohydrate</td>\n",
       "      <td>MESH:C000101</td>\n",
       "      <td>NaN</td>\n",
       "      <td>IKEY:ZTHWFVSEMLMLKT-CAMOTBBTSA-N</td>\n",
       "      <td>ZTHWFVSEMLMLKT-CAMOTBBTSA-N</td>\n",
       "    </tr>\n",
       "    <tr>\n",
       "      <th>69</th>\n",
       "      <td>CHEBI:15422</td>\n",
       "      <td>Adenosine triphosphate</td>\n",
       "      <td>ATP</td>\n",
       "      <td>MESH:C000101</td>\n",
       "      <td>MESH:D000255</td>\n",
       "      <td>IKEY:ZKHQWZAMYRWXGA-KQYNXXCUSA-N</td>\n",
       "      <td>ZKHQWZAMYRWXGA-KQYNXXCUSA-N</td>\n",
       "    </tr>\n",
       "    <tr>\n",
       "      <th>611</th>\n",
       "      <td>CHEBI:135866</td>\n",
       "      <td>Clindamycin palmitate</td>\n",
       "      <td>clindamycin palmitate</td>\n",
       "      <td>MESH:C000489</td>\n",
       "      <td>MESH:C000489</td>\n",
       "      <td>IKEY:OYSKUZDIHNKWLV-PRUAPSLNSA-N</td>\n",
       "      <td>OYSKUZDIHNKWLV-PRUAPSLNSA-N</td>\n",
       "    </tr>\n",
       "    <tr>\n",
       "      <th>612</th>\n",
       "      <td>CHEBI:34647</td>\n",
       "      <td>Clindamycin palmitate hydrochloride</td>\n",
       "      <td>Clindamycin palmitate hydrochloride</td>\n",
       "      <td>MESH:C000489</td>\n",
       "      <td>NaN</td>\n",
       "      <td>IKEY:GTNDZRUWKHDICY-DJHAJVGHSA-N</td>\n",
       "      <td>GTNDZRUWKHDICY-DJHAJVGHSA-N</td>\n",
       "    </tr>\n",
       "    <tr>\n",
       "      <th>49</th>\n",
       "      <td>CHEBI:17340</td>\n",
       "      <td>Cetraxate</td>\n",
       "      <td>cetraxate</td>\n",
       "      <td>MESH:C000665</td>\n",
       "      <td>NaN</td>\n",
       "      <td>IKEY:FHRSHSOEWXUORL-HDJSIYSDSA-N</td>\n",
       "      <td>FHRSHSOEWXUORL-HDJSIYSDSA-N</td>\n",
       "    </tr>\n",
       "    <tr>\n",
       "      <th>48</th>\n",
       "      <td>CHEBI:58112</td>\n",
       "      <td>Cetraxate</td>\n",
       "      <td>cetraxate zwitterion</td>\n",
       "      <td>MESH:C000665</td>\n",
       "      <td>NaN</td>\n",
       "      <td>IKEY:FHRSHSOEWXUORL-HDJSIYSDSA-N</td>\n",
       "      <td>FHRSHSOEWXUORL-HDJSIYSDSA-N</td>\n",
       "    </tr>\n",
       "  </tbody>\n",
       "</table>\n",
       "</div>"
      ],
      "text/plain": [
       "         chebi_id                                 name  \\\n",
       "730   CHEBI:58321                             Allysine   \n",
       "731   CHEBI:17917                             Allysine   \n",
       "803   CHEBI:84310                           Anticapsin   \n",
       "802   CHEBI:85005                           Anticapsin   \n",
       "273    CHEBI:9978                           Vidarabine   \n",
       "69    CHEBI:15422               Adenosine triphosphate   \n",
       "611  CHEBI:135866                Clindamycin palmitate   \n",
       "612   CHEBI:34647  Clindamycin palmitate hydrochloride   \n",
       "49    CHEBI:17340                            Cetraxate   \n",
       "48    CHEBI:58112                            Cetraxate   \n",
       "\n",
       "                               name_cheb       mesh_id          mesh  \\\n",
       "730                L-allysine zwitterion  MESH:C000061           NaN   \n",
       "731                           L-allysine  MESH:C000061           NaN   \n",
       "803                anticapsin zwitterion  MESH:C000097           NaN   \n",
       "802                           anticapsin  MESH:C000097           NaN   \n",
       "273               vidarabine monohydrate  MESH:C000101           NaN   \n",
       "69                                   ATP  MESH:C000101  MESH:D000255   \n",
       "611                clindamycin palmitate  MESH:C000489  MESH:C000489   \n",
       "612  Clindamycin palmitate hydrochloride  MESH:C000489           NaN   \n",
       "49                             cetraxate  MESH:C000665           NaN   \n",
       "48                  cetraxate zwitterion  MESH:C000665           NaN   \n",
       "\n",
       "                                 ikey                    ikey_cheb  \n",
       "730  IKEY:GFXYTQPNNXGICT-YFKPBYRVSA-N  GFXYTQPNNXGICT-YFKPBYRVSA-N  \n",
       "731  IKEY:GFXYTQPNNXGICT-YFKPBYRVSA-N  GFXYTQPNNXGICT-YFKPBYRVSA-N  \n",
       "803  IKEY:KHVZXXWDPSCGEK-MGVQOFIGSA-N  KHVZXXWDPSCGEK-MGVQOFIGSA-N  \n",
       "802  IKEY:KHVZXXWDPSCGEK-MGVQOFIGSA-N  KHVZXXWDPSCGEK-MGVQOFIGSA-N  \n",
       "273  IKEY:ZTHWFVSEMLMLKT-CAMOTBBTSA-N  ZTHWFVSEMLMLKT-CAMOTBBTSA-N  \n",
       "69   IKEY:ZKHQWZAMYRWXGA-KQYNXXCUSA-N  ZKHQWZAMYRWXGA-KQYNXXCUSA-N  \n",
       "611  IKEY:OYSKUZDIHNKWLV-PRUAPSLNSA-N  OYSKUZDIHNKWLV-PRUAPSLNSA-N  \n",
       "612  IKEY:GTNDZRUWKHDICY-DJHAJVGHSA-N  GTNDZRUWKHDICY-DJHAJVGHSA-N  \n",
       "49   IKEY:FHRSHSOEWXUORL-HDJSIYSDSA-N  FHRSHSOEWXUORL-HDJSIYSDSA-N  \n",
       "48   IKEY:FHRSHSOEWXUORL-HDJSIYSDSA-N  FHRSHSOEWXUORL-HDJSIYSDSA-N  "
      ]
     },
     "execution_count": 104,
     "metadata": {},
     "output_type": "execute_result"
    }
   ],
   "source": [
    "mult_cheb_mrg.head(10)"
   ]
  },
  {
   "cell_type": "markdown",
   "metadata": {},
   "source": [
    "Mostly looks like we have differet inoic states of the same thing... some potential conflicts though, will have to check those. "
   ]
  },
  {
   "cell_type": "code",
   "execution_count": 105,
   "metadata": {},
   "outputs": [
    {
     "data": {
      "text/html": [
       "<div>\n",
       "<style scoped>\n",
       "    .dataframe tbody tr th:only-of-type {\n",
       "        vertical-align: middle;\n",
       "    }\n",
       "\n",
       "    .dataframe tbody tr th {\n",
       "        vertical-align: top;\n",
       "    }\n",
       "\n",
       "    .dataframe thead th {\n",
       "        text-align: right;\n",
       "    }\n",
       "</style>\n",
       "<table border=\"1\" class=\"dataframe\">\n",
       "  <thead>\n",
       "    <tr style=\"text-align: right;\">\n",
       "      <th></th>\n",
       "      <th>chebi_id</th>\n",
       "      <th>name</th>\n",
       "      <th>name_cheb</th>\n",
       "      <th>mesh_id</th>\n",
       "      <th>mesh</th>\n",
       "      <th>ikey</th>\n",
       "      <th>ikey_cheb</th>\n",
       "    </tr>\n",
       "  </thead>\n",
       "  <tbody>\n",
       "    <tr>\n",
       "      <th>625</th>\n",
       "      <td>CHEBI:8772</td>\n",
       "      <td>Raloxifene</td>\n",
       "      <td>raloxifene</td>\n",
       "      <td>MESH:D020849</td>\n",
       "      <td>NaN</td>\n",
       "      <td>IKEY:GZUITABIAKMVPG-UHFFFAOYSA-N</td>\n",
       "      <td>GZUITABIAKMVPG-UHFFFAOYSA-N</td>\n",
       "    </tr>\n",
       "    <tr>\n",
       "      <th>220</th>\n",
       "      <td>CHEBI:6129</td>\n",
       "      <td>Ketorolac</td>\n",
       "      <td>ketorolac</td>\n",
       "      <td>MESH:D020910</td>\n",
       "      <td>MESH:D020910</td>\n",
       "      <td>IKEY:OZWKMVRBQXNZKK-UHFFFAOYSA-N</td>\n",
       "      <td>OZWKMVRBQXNZKK-UHFFFAOYSA-N</td>\n",
       "    </tr>\n",
       "    <tr>\n",
       "      <th>219</th>\n",
       "      <td>CHEBI:76223</td>\n",
       "      <td>Ketorolac</td>\n",
       "      <td>5-benzoyl-2,3-dihydro-1H-pyrrolizine-1-carboxy...</td>\n",
       "      <td>MESH:D020910</td>\n",
       "      <td>NaN</td>\n",
       "      <td>IKEY:OZWKMVRBQXNZKK-UHFFFAOYSA-N</td>\n",
       "      <td>OZWKMVRBQXNZKK-UHFFFAOYSA-N</td>\n",
       "    </tr>\n",
       "    <tr>\n",
       "      <th>311</th>\n",
       "      <td>CHEBI:6130</td>\n",
       "      <td>Ketorolac tromethamine</td>\n",
       "      <td>ketorolac tromethamine</td>\n",
       "      <td>MESH:D020911</td>\n",
       "      <td>MESH:D020911</td>\n",
       "      <td>IKEY:BWHLPLXXIDYSNW-UHFFFAOYSA-N</td>\n",
       "      <td>BWHLPLXXIDYSNW-UHFFFAOYSA-N</td>\n",
       "    </tr>\n",
       "    <tr>\n",
       "      <th>218</th>\n",
       "      <td>CHEBI:6129</td>\n",
       "      <td>Ketorolac</td>\n",
       "      <td>ketorolac</td>\n",
       "      <td>MESH:D020911</td>\n",
       "      <td>MESH:D020910</td>\n",
       "      <td>IKEY:OZWKMVRBQXNZKK-UHFFFAOYSA-N</td>\n",
       "      <td>OZWKMVRBQXNZKK-UHFFFAOYSA-N</td>\n",
       "    </tr>\n",
       "    <tr>\n",
       "      <th>217</th>\n",
       "      <td>CHEBI:76223</td>\n",
       "      <td>Ketorolac</td>\n",
       "      <td>5-benzoyl-2,3-dihydro-1H-pyrrolizine-1-carboxy...</td>\n",
       "      <td>MESH:D020911</td>\n",
       "      <td>NaN</td>\n",
       "      <td>IKEY:OZWKMVRBQXNZKK-UHFFFAOYSA-N</td>\n",
       "      <td>OZWKMVRBQXNZKK-UHFFFAOYSA-N</td>\n",
       "    </tr>\n",
       "    <tr>\n",
       "      <th>848</th>\n",
       "      <td>CHEBI:32220</td>\n",
       "      <td>tiapride hydrochloride</td>\n",
       "      <td>Tiapride hydrochloride</td>\n",
       "      <td>MESH:D063325</td>\n",
       "      <td>MESH:D063325</td>\n",
       "      <td>NaN</td>\n",
       "      <td>OTFDPNXIVHBTKW-UHFFFAOYSA-N</td>\n",
       "    </tr>\n",
       "    <tr>\n",
       "      <th>40</th>\n",
       "      <td>CHEBI:94666</td>\n",
       "      <td>Tiapride</td>\n",
       "      <td>N-[2-(diethylamino)ethyl]-2-methoxy-5-methylsu...</td>\n",
       "      <td>MESH:D063325</td>\n",
       "      <td>NaN</td>\n",
       "      <td>IKEY:JTVPZMFULRWINT-UHFFFAOYSA-N</td>\n",
       "      <td>JTVPZMFULRWINT-UHFFFAOYSA-N</td>\n",
       "    </tr>\n",
       "    <tr>\n",
       "      <th>260</th>\n",
       "      <td>CHEBI:77775</td>\n",
       "      <td>Sodium selenate</td>\n",
       "      <td>sodium selenate</td>\n",
       "      <td>MESH:D064586</td>\n",
       "      <td>NaN</td>\n",
       "      <td>IKEY:MHQOTKLEMKRJIR-UHFFFAOYSA-L</td>\n",
       "      <td>MHQOTKLEMKRJIR-UHFFFAOYSA-L</td>\n",
       "    </tr>\n",
       "    <tr>\n",
       "      <th>832</th>\n",
       "      <td>CHEBI:18170</td>\n",
       "      <td>selenic acid</td>\n",
       "      <td>selenic acid</td>\n",
       "      <td>MESH:D064586</td>\n",
       "      <td>MESH:D064586</td>\n",
       "      <td>NaN</td>\n",
       "      <td>QYHFIVBSNOWOCQ-UHFFFAOYSA-N</td>\n",
       "    </tr>\n",
       "  </tbody>\n",
       "</table>\n",
       "</div>"
      ],
      "text/plain": [
       "        chebi_id                    name  \\\n",
       "625   CHEBI:8772              Raloxifene   \n",
       "220   CHEBI:6129               Ketorolac   \n",
       "219  CHEBI:76223               Ketorolac   \n",
       "311   CHEBI:6130  Ketorolac tromethamine   \n",
       "218   CHEBI:6129               Ketorolac   \n",
       "217  CHEBI:76223               Ketorolac   \n",
       "848  CHEBI:32220  tiapride hydrochloride   \n",
       "40   CHEBI:94666                Tiapride   \n",
       "260  CHEBI:77775         Sodium selenate   \n",
       "832  CHEBI:18170            selenic acid   \n",
       "\n",
       "                                             name_cheb       mesh_id  \\\n",
       "625                                         raloxifene  MESH:D020849   \n",
       "220                                          ketorolac  MESH:D020910   \n",
       "219  5-benzoyl-2,3-dihydro-1H-pyrrolizine-1-carboxy...  MESH:D020910   \n",
       "311                             ketorolac tromethamine  MESH:D020911   \n",
       "218                                          ketorolac  MESH:D020911   \n",
       "217  5-benzoyl-2,3-dihydro-1H-pyrrolizine-1-carboxy...  MESH:D020911   \n",
       "848                             Tiapride hydrochloride  MESH:D063325   \n",
       "40   N-[2-(diethylamino)ethyl]-2-methoxy-5-methylsu...  MESH:D063325   \n",
       "260                                    sodium selenate  MESH:D064586   \n",
       "832                                       selenic acid  MESH:D064586   \n",
       "\n",
       "             mesh                              ikey  \\\n",
       "625           NaN  IKEY:GZUITABIAKMVPG-UHFFFAOYSA-N   \n",
       "220  MESH:D020910  IKEY:OZWKMVRBQXNZKK-UHFFFAOYSA-N   \n",
       "219           NaN  IKEY:OZWKMVRBQXNZKK-UHFFFAOYSA-N   \n",
       "311  MESH:D020911  IKEY:BWHLPLXXIDYSNW-UHFFFAOYSA-N   \n",
       "218  MESH:D020910  IKEY:OZWKMVRBQXNZKK-UHFFFAOYSA-N   \n",
       "217           NaN  IKEY:OZWKMVRBQXNZKK-UHFFFAOYSA-N   \n",
       "848  MESH:D063325                               NaN   \n",
       "40            NaN  IKEY:JTVPZMFULRWINT-UHFFFAOYSA-N   \n",
       "260           NaN  IKEY:MHQOTKLEMKRJIR-UHFFFAOYSA-L   \n",
       "832  MESH:D064586                               NaN   \n",
       "\n",
       "                       ikey_cheb  \n",
       "625  GZUITABIAKMVPG-UHFFFAOYSA-N  \n",
       "220  OZWKMVRBQXNZKK-UHFFFAOYSA-N  \n",
       "219  OZWKMVRBQXNZKK-UHFFFAOYSA-N  \n",
       "311  BWHLPLXXIDYSNW-UHFFFAOYSA-N  \n",
       "218  OZWKMVRBQXNZKK-UHFFFAOYSA-N  \n",
       "217  OZWKMVRBQXNZKK-UHFFFAOYSA-N  \n",
       "848  OTFDPNXIVHBTKW-UHFFFAOYSA-N  \n",
       "40   JTVPZMFULRWINT-UHFFFAOYSA-N  \n",
       "260  MHQOTKLEMKRJIR-UHFFFAOYSA-L  \n",
       "832  QYHFIVBSNOWOCQ-UHFFFAOYSA-N  "
      ]
     },
     "execution_count": 105,
     "metadata": {},
     "output_type": "execute_result"
    }
   ],
   "source": [
    "mult_cheb_mrg.tail(10)"
   ]
  },
  {
   "cell_type": "markdown",
   "metadata": {},
   "source": [
    "### Start by fixing where the mesh IDs disagree..."
   ]
  },
  {
   "cell_type": "code",
   "execution_count": 106,
   "metadata": {},
   "outputs": [],
   "source": [
    "mult_cheb_mrg['mesh_name'] = mult_cheb_mrg['mesh'].str.split(':', expand=True)[1].map(m2name)\n",
    "mult_cheb_mrg['mesh_id_name'] = mult_cheb_mrg['mesh_id'].str.split(':', expand=True)[1].map(m2name)"
   ]
  },
  {
   "cell_type": "code",
   "execution_count": 107,
   "metadata": {},
   "outputs": [
    {
     "data": {
      "text/html": [
       "<div>\n",
       "<style scoped>\n",
       "    .dataframe tbody tr th:only-of-type {\n",
       "        vertical-align: middle;\n",
       "    }\n",
       "\n",
       "    .dataframe tbody tr th {\n",
       "        vertical-align: top;\n",
       "    }\n",
       "\n",
       "    .dataframe thead th {\n",
       "        text-align: right;\n",
       "    }\n",
       "</style>\n",
       "<table border=\"1\" class=\"dataframe\">\n",
       "  <thead>\n",
       "    <tr style=\"text-align: right;\">\n",
       "      <th></th>\n",
       "      <th>chebi_id</th>\n",
       "      <th>name</th>\n",
       "      <th>name_cheb</th>\n",
       "      <th>mesh_id</th>\n",
       "      <th>mesh</th>\n",
       "      <th>mesh_id_name</th>\n",
       "      <th>mesh_name</th>\n",
       "      <th>ikey</th>\n",
       "      <th>ikey_cheb</th>\n",
       "    </tr>\n",
       "  </thead>\n",
       "  <tbody>\n",
       "    <tr>\n",
       "      <th>657</th>\n",
       "      <td>CHEBI:16977</td>\n",
       "      <td>Alanine</td>\n",
       "      <td>L-alanine</td>\n",
       "      <td>MESH:C065769</td>\n",
       "      <td>MESH:D000409</td>\n",
       "      <td>chlorambucil-docosahexaenoic acid conjugate</td>\n",
       "      <td>Alanine</td>\n",
       "      <td>IKEY:QNAYBMKLOCPYGJ-REOHCLBHSA-N</td>\n",
       "      <td>QNAYBMKLOCPYGJ-REOHCLBHSA-N</td>\n",
       "    </tr>\n",
       "    <tr>\n",
       "      <th>100</th>\n",
       "      <td>CHEBI:65172</td>\n",
       "      <td>Ximelagatran</td>\n",
       "      <td>ximelagatran</td>\n",
       "      <td>MESH:C109573</td>\n",
       "      <td>MESH:C426686</td>\n",
       "      <td>melagatran</td>\n",
       "      <td>ximelagatran</td>\n",
       "      <td>IKEY:ZXIBCJHYVWYIKI-PZJWPPBQSA-N</td>\n",
       "      <td>ZXIBCJHYVWYIKI-PZJWPPBQSA-N</td>\n",
       "    </tr>\n",
       "    <tr>\n",
       "      <th>670</th>\n",
       "      <td>CHEBI:8713</td>\n",
       "      <td>Quinapril</td>\n",
       "      <td>quinapril</td>\n",
       "      <td>MESH:C054501</td>\n",
       "      <td>MESH:C041125</td>\n",
       "      <td>quinaprilat</td>\n",
       "      <td>NaN</td>\n",
       "      <td>IKEY:JSDRRTOADPPCHY-HSQYWUDLSA-N</td>\n",
       "      <td>JSDRRTOADPPCHY-HSQYWUDLSA-N</td>\n",
       "    </tr>\n",
       "    <tr>\n",
       "      <th>526</th>\n",
       "      <td>CHEBI:59219</td>\n",
       "      <td>Ceruletide</td>\n",
       "      <td>ceruletide</td>\n",
       "      <td>MESH:C032637</td>\n",
       "      <td>MESH:D002108</td>\n",
       "      <td>ceruletide diethylamine</td>\n",
       "      <td>Ceruletide</td>\n",
       "      <td>IKEY:YRALAIOMGQZKOW-HYAOXDFASA-N</td>\n",
       "      <td>YRALAIOMGQZKOW-HYAOXDFASA-N</td>\n",
       "    </tr>\n",
       "    <tr>\n",
       "      <th>619</th>\n",
       "      <td>CHEBI:31580</td>\n",
       "      <td>Ethynodiol diacetate</td>\n",
       "      <td>ethynodiol diacetate</td>\n",
       "      <td>MESH:C014546</td>\n",
       "      <td>MESH:D005040</td>\n",
       "      <td>ethynodiol</td>\n",
       "      <td>Ethynodiol Diacetate</td>\n",
       "      <td>IKEY:ONKUMRGIYFNPJW-KIEAKMPYSA-N</td>\n",
       "      <td>ONKUMRGIYFNPJW-KIEAKMPYSA-N</td>\n",
       "    </tr>\n",
       "    <tr>\n",
       "      <th>249</th>\n",
       "      <td>CHEBI:51450</td>\n",
       "      <td>Bosentan anhydrous</td>\n",
       "      <td>bosentan</td>\n",
       "      <td>MESH:C086232</td>\n",
       "      <td>MESH:D000077300</td>\n",
       "      <td>NaN</td>\n",
       "      <td>Bosentan</td>\n",
       "      <td>IKEY:GJPICJJJRGTNOD-UHFFFAOYSA-N</td>\n",
       "      <td>GJPICJJJRGTNOD-UHFFFAOYSA-N</td>\n",
       "    </tr>\n",
       "    <tr>\n",
       "      <th>546</th>\n",
       "      <td>CHEBI:7508</td>\n",
       "      <td>Framycetin</td>\n",
       "      <td>framycetin</td>\n",
       "      <td>MESH:C488396</td>\n",
       "      <td>MESH:D005601</td>\n",
       "      <td>neamine</td>\n",
       "      <td>Framycetin</td>\n",
       "      <td>IKEY:PGBHMTALBVVCIT-VCIWKGPPSA-N</td>\n",
       "      <td>PGBHMTALBVVCIT-VCIWKGPPSA-N</td>\n",
       "    </tr>\n",
       "    <tr>\n",
       "      <th>599</th>\n",
       "      <td>CHEBI:3011</td>\n",
       "      <td>Benazepril</td>\n",
       "      <td>benazepril</td>\n",
       "      <td>MESH:C052133</td>\n",
       "      <td>MESH:C044946</td>\n",
       "      <td>benazeprilat</td>\n",
       "      <td>benazepril</td>\n",
       "      <td>IKEY:XPCFTKFZXHTYIP-PMACEKPBSA-N</td>\n",
       "      <td>XPCFTKFZXHTYIP-PMACEKPBSA-N</td>\n",
       "    </tr>\n",
       "    <tr>\n",
       "      <th>481</th>\n",
       "      <td>CHEBI:45951</td>\n",
       "      <td>Trifluoperazine</td>\n",
       "      <td>trifluoperazine</td>\n",
       "      <td>MESH:C031637</td>\n",
       "      <td>MESH:D014268</td>\n",
       "      <td>phenothiazine</td>\n",
       "      <td>Trifluoperazine</td>\n",
       "      <td>IKEY:ZEWQUBUPAILYHI-UHFFFAOYSA-N</td>\n",
       "      <td>ZEWQUBUPAILYHI-UHFFFAOYSA-N</td>\n",
       "    </tr>\n",
       "    <tr>\n",
       "      <th>228</th>\n",
       "      <td>CHEBI:63564</td>\n",
       "      <td>Tixocortol pivalate</td>\n",
       "      <td>tixocortol pivalate</td>\n",
       "      <td>MESH:C040971</td>\n",
       "      <td>MESH:C019112</td>\n",
       "      <td>tixocortol</td>\n",
       "      <td>tixocortol pivalate</td>\n",
       "      <td>IKEY:BISFDZNIUZIKJD-XDANTLIUSA-N</td>\n",
       "      <td>BISFDZNIUZIKJD-XDANTLIUSA-N</td>\n",
       "    </tr>\n",
       "    <tr>\n",
       "      <th>548</th>\n",
       "      <td>CHEBI:26689</td>\n",
       "      <td>Oxygen</td>\n",
       "      <td>singlet dioxygen</td>\n",
       "      <td>MESH:D010100</td>\n",
       "      <td>MESH:D026082</td>\n",
       "      <td>Oxygen</td>\n",
       "      <td>Singlet Oxygen</td>\n",
       "      <td>IKEY:MYMOFIZGZYHOMD-UHFFFAOYSA-N</td>\n",
       "      <td>MYMOFIZGZYHOMD-UHFFFAOYSA-N</td>\n",
       "    </tr>\n",
       "    <tr>\n",
       "      <th>742</th>\n",
       "      <td>CHEBI:16583</td>\n",
       "      <td>Diacetyl</td>\n",
       "      <td>butane-2,3-dione</td>\n",
       "      <td>MESH:C007366</td>\n",
       "      <td>MESH:D003931</td>\n",
       "      <td>diepoxybutane</td>\n",
       "      <td>Diacetyl</td>\n",
       "      <td>IKEY:QSJXEFYPDANLFS-UHFFFAOYSA-N</td>\n",
       "      <td>QSJXEFYPDANLFS-UHFFFAOYSA-N</td>\n",
       "    </tr>\n",
       "    <tr>\n",
       "      <th>123</th>\n",
       "      <td>CHEBI:68845</td>\n",
       "      <td>Azilsartan medoxomil</td>\n",
       "      <td>azilsartan medoxomil</td>\n",
       "      <td>MESH:C521273</td>\n",
       "      <td>MESH:C557413</td>\n",
       "      <td>azilsartan</td>\n",
       "      <td>azilsartan medoxomil</td>\n",
       "      <td>IKEY:QJFSABGVXDWMIW-UHFFFAOYSA-N</td>\n",
       "      <td>QJFSABGVXDWMIW-UHFFFAOYSA-N</td>\n",
       "    </tr>\n",
       "    <tr>\n",
       "      <th>495</th>\n",
       "      <td>CHEBI:31713</td>\n",
       "      <td>Iothalamic acid</td>\n",
       "      <td>Iotalamic acid</td>\n",
       "      <td>MESH:D007482</td>\n",
       "      <td>MESH:D007483</td>\n",
       "      <td>Iothalamate Meglumine</td>\n",
       "      <td>Iothalamic Acid</td>\n",
       "      <td>IKEY:UXIGWFXRQKWHHA-UHFFFAOYSA-N</td>\n",
       "      <td>UXIGWFXRQKWHHA-UHFFFAOYSA-N</td>\n",
       "    </tr>\n",
       "    <tr>\n",
       "      <th>246</th>\n",
       "      <td>CHEBI:15765</td>\n",
       "      <td>Levodopa</td>\n",
       "      <td>L-dopa</td>\n",
       "      <td>MESH:D004295</td>\n",
       "      <td>MESH:D007980</td>\n",
       "      <td>Dihydroxyphenylalanine</td>\n",
       "      <td>Levodopa</td>\n",
       "      <td>IKEY:WTDRDQBEARUVNC-LURJTMIESA-N</td>\n",
       "      <td>WTDRDQBEARUVNC-LURJTMIESA-N</td>\n",
       "    </tr>\n",
       "    <tr>\n",
       "      <th>89</th>\n",
       "      <td>CHEBI:63625</td>\n",
       "      <td>Tenofovir anhydrous</td>\n",
       "      <td>tenofovir (anhydrous)</td>\n",
       "      <td>MESH:C096918</td>\n",
       "      <td>MESH:D000068698</td>\n",
       "      <td>NaN</td>\n",
       "      <td>Tenofovir</td>\n",
       "      <td>IKEY:SGOIRFVFHAKUTI-ZCFIWIBFSA-N</td>\n",
       "      <td>SGOIRFVFHAKUTI-ZCFIWIBFSA-N</td>\n",
       "    </tr>\n",
       "    <tr>\n",
       "      <th>536</th>\n",
       "      <td>CHEBI:64321</td>\n",
       "      <td>Fosaprepitant</td>\n",
       "      <td>fosaprepitant</td>\n",
       "      <td>MESH:C114556</td>\n",
       "      <td>MESH:C579707</td>\n",
       "      <td>NaN</td>\n",
       "      <td>fosaprepitant</td>\n",
       "      <td>IKEY:BARDROPHSZEBKC-OITMNORJSA-N</td>\n",
       "      <td>BARDROPHSZEBKC-OITMNORJSA-N</td>\n",
       "    </tr>\n",
       "    <tr>\n",
       "      <th>221</th>\n",
       "      <td>CHEBI:6432</td>\n",
       "      <td>Levamisole</td>\n",
       "      <td>levamisole</td>\n",
       "      <td>MESH:D013773</td>\n",
       "      <td>MESH:D007978</td>\n",
       "      <td>Tetramisole</td>\n",
       "      <td>Levamisole</td>\n",
       "      <td>IKEY:HLFSDGLLUJUHTE-SNVBAGLBSA-N</td>\n",
       "      <td>HLFSDGLLUJUHTE-SNVBAGLBSA-N</td>\n",
       "    </tr>\n",
       "    <tr>\n",
       "      <th>206</th>\n",
       "      <td>CHEBI:52010</td>\n",
       "      <td>Chlorpheniramine</td>\n",
       "      <td>chlorphenamine</td>\n",
       "      <td>MESH:C018904</td>\n",
       "      <td>MESH:D002744</td>\n",
       "      <td>dexchlorpheniramine</td>\n",
       "      <td>Chlorpheniramine</td>\n",
       "      <td>IKEY:SOYKEARSMXGVTM-UHFFFAOYSA-N</td>\n",
       "      <td>SOYKEARSMXGVTM-UHFFFAOYSA-N</td>\n",
       "    </tr>\n",
       "    <tr>\n",
       "      <th>120</th>\n",
       "      <td>CHEBI:15428</td>\n",
       "      <td>Glycine</td>\n",
       "      <td>glycine</td>\n",
       "      <td>MESH:C011080</td>\n",
       "      <td>MESH:D005998</td>\n",
       "      <td>polyglycine</td>\n",
       "      <td>Glycine</td>\n",
       "      <td>IKEY:DHMQDGOQFOQNFH-UHFFFAOYSA-N</td>\n",
       "      <td>DHMQDGOQFOQNFH-UHFFFAOYSA-N</td>\n",
       "    </tr>\n",
       "  </tbody>\n",
       "</table>\n",
       "</div>"
      ],
      "text/plain": [
       "        chebi_id                  name              name_cheb       mesh_id  \\\n",
       "657  CHEBI:16977               Alanine              L-alanine  MESH:C065769   \n",
       "100  CHEBI:65172          Ximelagatran           ximelagatran  MESH:C109573   \n",
       "670   CHEBI:8713             Quinapril              quinapril  MESH:C054501   \n",
       "526  CHEBI:59219            Ceruletide             ceruletide  MESH:C032637   \n",
       "619  CHEBI:31580  Ethynodiol diacetate   ethynodiol diacetate  MESH:C014546   \n",
       "249  CHEBI:51450    Bosentan anhydrous               bosentan  MESH:C086232   \n",
       "546   CHEBI:7508            Framycetin             framycetin  MESH:C488396   \n",
       "599   CHEBI:3011            Benazepril             benazepril  MESH:C052133   \n",
       "481  CHEBI:45951       Trifluoperazine        trifluoperazine  MESH:C031637   \n",
       "228  CHEBI:63564   Tixocortol pivalate    tixocortol pivalate  MESH:C040971   \n",
       "548  CHEBI:26689                Oxygen       singlet dioxygen  MESH:D010100   \n",
       "742  CHEBI:16583              Diacetyl       butane-2,3-dione  MESH:C007366   \n",
       "123  CHEBI:68845  Azilsartan medoxomil   azilsartan medoxomil  MESH:C521273   \n",
       "495  CHEBI:31713       Iothalamic acid         Iotalamic acid  MESH:D007482   \n",
       "246  CHEBI:15765              Levodopa                 L-dopa  MESH:D004295   \n",
       "89   CHEBI:63625   Tenofovir anhydrous  tenofovir (anhydrous)  MESH:C096918   \n",
       "536  CHEBI:64321         Fosaprepitant          fosaprepitant  MESH:C114556   \n",
       "221   CHEBI:6432            Levamisole             levamisole  MESH:D013773   \n",
       "206  CHEBI:52010      Chlorpheniramine         chlorphenamine  MESH:C018904   \n",
       "120  CHEBI:15428               Glycine                glycine  MESH:C011080   \n",
       "\n",
       "                mesh                                 mesh_id_name  \\\n",
       "657     MESH:D000409  chlorambucil-docosahexaenoic acid conjugate   \n",
       "100     MESH:C426686                                   melagatran   \n",
       "670     MESH:C041125                                  quinaprilat   \n",
       "526     MESH:D002108                      ceruletide diethylamine   \n",
       "619     MESH:D005040                                   ethynodiol   \n",
       "249  MESH:D000077300                                          NaN   \n",
       "546     MESH:D005601                                      neamine   \n",
       "599     MESH:C044946                                 benazeprilat   \n",
       "481     MESH:D014268                                phenothiazine   \n",
       "228     MESH:C019112                                   tixocortol   \n",
       "548     MESH:D026082                                       Oxygen   \n",
       "742     MESH:D003931                                diepoxybutane   \n",
       "123     MESH:C557413                                   azilsartan   \n",
       "495     MESH:D007483                        Iothalamate Meglumine   \n",
       "246     MESH:D007980                       Dihydroxyphenylalanine   \n",
       "89   MESH:D000068698                                          NaN   \n",
       "536     MESH:C579707                                          NaN   \n",
       "221     MESH:D007978                                  Tetramisole   \n",
       "206     MESH:D002744                          dexchlorpheniramine   \n",
       "120     MESH:D005998                                  polyglycine   \n",
       "\n",
       "                mesh_name                              ikey  \\\n",
       "657               Alanine  IKEY:QNAYBMKLOCPYGJ-REOHCLBHSA-N   \n",
       "100          ximelagatran  IKEY:ZXIBCJHYVWYIKI-PZJWPPBQSA-N   \n",
       "670                   NaN  IKEY:JSDRRTOADPPCHY-HSQYWUDLSA-N   \n",
       "526            Ceruletide  IKEY:YRALAIOMGQZKOW-HYAOXDFASA-N   \n",
       "619  Ethynodiol Diacetate  IKEY:ONKUMRGIYFNPJW-KIEAKMPYSA-N   \n",
       "249              Bosentan  IKEY:GJPICJJJRGTNOD-UHFFFAOYSA-N   \n",
       "546            Framycetin  IKEY:PGBHMTALBVVCIT-VCIWKGPPSA-N   \n",
       "599            benazepril  IKEY:XPCFTKFZXHTYIP-PMACEKPBSA-N   \n",
       "481       Trifluoperazine  IKEY:ZEWQUBUPAILYHI-UHFFFAOYSA-N   \n",
       "228   tixocortol pivalate  IKEY:BISFDZNIUZIKJD-XDANTLIUSA-N   \n",
       "548        Singlet Oxygen  IKEY:MYMOFIZGZYHOMD-UHFFFAOYSA-N   \n",
       "742              Diacetyl  IKEY:QSJXEFYPDANLFS-UHFFFAOYSA-N   \n",
       "123  azilsartan medoxomil  IKEY:QJFSABGVXDWMIW-UHFFFAOYSA-N   \n",
       "495       Iothalamic Acid  IKEY:UXIGWFXRQKWHHA-UHFFFAOYSA-N   \n",
       "246              Levodopa  IKEY:WTDRDQBEARUVNC-LURJTMIESA-N   \n",
       "89              Tenofovir  IKEY:SGOIRFVFHAKUTI-ZCFIWIBFSA-N   \n",
       "536         fosaprepitant  IKEY:BARDROPHSZEBKC-OITMNORJSA-N   \n",
       "221            Levamisole  IKEY:HLFSDGLLUJUHTE-SNVBAGLBSA-N   \n",
       "206      Chlorpheniramine  IKEY:SOYKEARSMXGVTM-UHFFFAOYSA-N   \n",
       "120               Glycine  IKEY:DHMQDGOQFOQNFH-UHFFFAOYSA-N   \n",
       "\n",
       "                       ikey_cheb  \n",
       "657  QNAYBMKLOCPYGJ-REOHCLBHSA-N  \n",
       "100  ZXIBCJHYVWYIKI-PZJWPPBQSA-N  \n",
       "670  JSDRRTOADPPCHY-HSQYWUDLSA-N  \n",
       "526  YRALAIOMGQZKOW-HYAOXDFASA-N  \n",
       "619  ONKUMRGIYFNPJW-KIEAKMPYSA-N  \n",
       "249  GJPICJJJRGTNOD-UHFFFAOYSA-N  \n",
       "546  PGBHMTALBVVCIT-VCIWKGPPSA-N  \n",
       "599  XPCFTKFZXHTYIP-PMACEKPBSA-N  \n",
       "481  ZEWQUBUPAILYHI-UHFFFAOYSA-N  \n",
       "228  BISFDZNIUZIKJD-XDANTLIUSA-N  \n",
       "548  MYMOFIZGZYHOMD-UHFFFAOYSA-N  \n",
       "742  QSJXEFYPDANLFS-UHFFFAOYSA-N  \n",
       "123  QJFSABGVXDWMIW-UHFFFAOYSA-N  \n",
       "495  UXIGWFXRQKWHHA-UHFFFAOYSA-N  \n",
       "246  WTDRDQBEARUVNC-LURJTMIESA-N  \n",
       "89   SGOIRFVFHAKUTI-ZCFIWIBFSA-N  \n",
       "536  BARDROPHSZEBKC-OITMNORJSA-N  \n",
       "221  HLFSDGLLUJUHTE-SNVBAGLBSA-N  \n",
       "206  SOYKEARSMXGVTM-UHFFFAOYSA-N  \n",
       "120  DHMQDGOQFOQNFH-UHFFFAOYSA-N  "
      ]
     },
     "execution_count": 107,
     "metadata": {},
     "output_type": "execute_result"
    }
   ],
   "source": [
    "cols = ['chebi_id', 'name', 'name_cheb', 'mesh_id', 'mesh', 'mesh_id_name', 'mesh_name', 'ikey','ikey_cheb']\n",
    "mult_cheb_mrg[mult_cheb_mrg['mesh'] != mult_cheb_mrg['mesh_id']][cols].dropna(subset=['mesh']).sample(20)"
   ]
  },
  {
   "cell_type": "markdown",
   "metadata": {},
   "source": [
    "A lot of these look like they could have the correct value in the ontology already... "
   ]
  },
  {
   "cell_type": "code",
   "execution_count": 108,
   "metadata": {},
   "outputs": [
    {
     "data": {
      "text/plain": [
       "(75, 84)"
      ]
     },
     "execution_count": 108,
     "metadata": {},
     "output_type": "execute_result"
    }
   ],
   "source": [
    "subset = mult_cheb_mrg[mult_cheb_mrg['mesh'] != mult_cheb_mrg['mesh_id']][cols].dropna(subset=['mesh'])\n",
    "ix = (subset['name'].str.lower() == subset['mesh_name'].str.lower()) | (subset['name_cheb'].str.lower() == subset['mesh_name'].str.lower())\n",
    "(ix).sum(), len(subset)"
   ]
  },
  {
   "cell_type": "code",
   "execution_count": 109,
   "metadata": {},
   "outputs": [],
   "source": [
    "c2m_dict.update(subset[ix].set_index('chebi_id')['mesh'].to_dict())"
   ]
  },
  {
   "cell_type": "code",
   "execution_count": 110,
   "metadata": {},
   "outputs": [
    {
     "data": {
      "text/html": [
       "<div>\n",
       "<style scoped>\n",
       "    .dataframe tbody tr th:only-of-type {\n",
       "        vertical-align: middle;\n",
       "    }\n",
       "\n",
       "    .dataframe tbody tr th {\n",
       "        vertical-align: top;\n",
       "    }\n",
       "\n",
       "    .dataframe thead th {\n",
       "        text-align: right;\n",
       "    }\n",
       "</style>\n",
       "<table border=\"1\" class=\"dataframe\">\n",
       "  <thead>\n",
       "    <tr style=\"text-align: right;\">\n",
       "      <th></th>\n",
       "      <th>chebi_id</th>\n",
       "      <th>name</th>\n",
       "      <th>name_cheb</th>\n",
       "      <th>mesh_id</th>\n",
       "      <th>mesh</th>\n",
       "      <th>mesh_id_name</th>\n",
       "      <th>mesh_name</th>\n",
       "      <th>ikey</th>\n",
       "      <th>ikey_cheb</th>\n",
       "    </tr>\n",
       "  </thead>\n",
       "  <tbody>\n",
       "    <tr>\n",
       "      <th>414</th>\n",
       "      <td>CHEBI:8389</td>\n",
       "      <td>Estrone sodium sulfate</td>\n",
       "      <td>estrone sodium sulfate</td>\n",
       "      <td>MESH:C017296</td>\n",
       "      <td>MESH:D004966</td>\n",
       "      <td>estrone sulfate</td>\n",
       "      <td>Estrogens, Conjugated (USP)</td>\n",
       "      <td>IKEY:VUCAHVBMSFIGAI-ZFINNJDLSA-M</td>\n",
       "      <td>VUCAHVBMSFIGAI-ZFINNJDLSA-M</td>\n",
       "    </tr>\n",
       "    <tr>\n",
       "      <th>4</th>\n",
       "      <td>CHEBI:18012</td>\n",
       "      <td>Fumaric acid</td>\n",
       "      <td>fumaric acid</td>\n",
       "      <td>MESH:C032005</td>\n",
       "      <td>MESH:D005650</td>\n",
       "      <td>fumaric acid</td>\n",
       "      <td>Fumarates</td>\n",
       "      <td>IKEY:VZCYOOQTPOCHFL-OWOJBTEDSA-N</td>\n",
       "      <td>VZCYOOQTPOCHFL-OWOJBTEDSA-N</td>\n",
       "    </tr>\n",
       "    <tr>\n",
       "      <th>670</th>\n",
       "      <td>CHEBI:8713</td>\n",
       "      <td>Quinapril</td>\n",
       "      <td>quinapril</td>\n",
       "      <td>MESH:C054501</td>\n",
       "      <td>MESH:C041125</td>\n",
       "      <td>quinaprilat</td>\n",
       "      <td>NaN</td>\n",
       "      <td>IKEY:JSDRRTOADPPCHY-HSQYWUDLSA-N</td>\n",
       "      <td>JSDRRTOADPPCHY-HSQYWUDLSA-N</td>\n",
       "    </tr>\n",
       "    <tr>\n",
       "      <th>233</th>\n",
       "      <td>CHEBI:3696</td>\n",
       "      <td>Cidofovir anhydrous</td>\n",
       "      <td>cidofovir anhydrous</td>\n",
       "      <td>MESH:C059262</td>\n",
       "      <td>MESH:D000077404</td>\n",
       "      <td>NaN</td>\n",
       "      <td>Cidofovir</td>\n",
       "      <td>IKEY:VWFCHDSQECPREK-LURJTMIESA-N</td>\n",
       "      <td>VWFCHDSQECPREK-LURJTMIESA-N</td>\n",
       "    </tr>\n",
       "    <tr>\n",
       "      <th>89</th>\n",
       "      <td>CHEBI:63625</td>\n",
       "      <td>Tenofovir anhydrous</td>\n",
       "      <td>tenofovir (anhydrous)</td>\n",
       "      <td>MESH:C096918</td>\n",
       "      <td>MESH:D000068698</td>\n",
       "      <td>NaN</td>\n",
       "      <td>Tenofovir</td>\n",
       "      <td>IKEY:SGOIRFVFHAKUTI-ZCFIWIBFSA-N</td>\n",
       "      <td>SGOIRFVFHAKUTI-ZCFIWIBFSA-N</td>\n",
       "    </tr>\n",
       "    <tr>\n",
       "      <th>531</th>\n",
       "      <td>CHEBI:30863</td>\n",
       "      <td>Oteracil</td>\n",
       "      <td>5-azaorotic acid</td>\n",
       "      <td>MESH:C489337</td>\n",
       "      <td>MESH:D010094</td>\n",
       "      <td>potassium oxonate</td>\n",
       "      <td>Oxonic Acid</td>\n",
       "      <td>IKEY:RYYCJUAHISIHTL-UHFFFAOYSA-N</td>\n",
       "      <td>RYYCJUAHISIHTL-UHFFFAOYSA-N</td>\n",
       "    </tr>\n",
       "    <tr>\n",
       "      <th>212</th>\n",
       "      <td>CHEBI:80366</td>\n",
       "      <td>Icosapent ethyl</td>\n",
       "      <td>(5Z,8Z,11Z,14Z,17Z)-Eicosapentaenoic acid ethy...</td>\n",
       "      <td>MESH:C495711</td>\n",
       "      <td>MESH:C035276</td>\n",
       "      <td>ethyl eicosapentaenoic acid</td>\n",
       "      <td>eicosapentaenoic acid ethyl ester</td>\n",
       "      <td>IKEY:SSQPWTVBQMWLSZ-AAQCHOMXSA-N</td>\n",
       "      <td>SSQPWTVBQMWLSZ-AAQCHOMXSA-N</td>\n",
       "    </tr>\n",
       "    <tr>\n",
       "      <th>687</th>\n",
       "      <td>CHEBI:135611</td>\n",
       "      <td>Benzododecinium</td>\n",
       "      <td>benzalkonium</td>\n",
       "      <td>MESH:D001548</td>\n",
       "      <td>MESH:C015163</td>\n",
       "      <td>Benzalkonium Compounds</td>\n",
       "      <td>dimethyldodecylbenzylammonium</td>\n",
       "      <td>IKEY:CYDRXTMLKJDRQH-UHFFFAOYSA-N</td>\n",
       "      <td>CYDRXTMLKJDRQH-UHFFFAOYSA-N</td>\n",
       "    </tr>\n",
       "    <tr>\n",
       "      <th>548</th>\n",
       "      <td>CHEBI:26689</td>\n",
       "      <td>Oxygen</td>\n",
       "      <td>singlet dioxygen</td>\n",
       "      <td>MESH:D010100</td>\n",
       "      <td>MESH:D026082</td>\n",
       "      <td>Oxygen</td>\n",
       "      <td>Singlet Oxygen</td>\n",
       "      <td>IKEY:MYMOFIZGZYHOMD-UHFFFAOYSA-N</td>\n",
       "      <td>MYMOFIZGZYHOMD-UHFFFAOYSA-N</td>\n",
       "    </tr>\n",
       "  </tbody>\n",
       "</table>\n",
       "</div>"
      ],
      "text/plain": [
       "         chebi_id                    name  \\\n",
       "414    CHEBI:8389  Estrone sodium sulfate   \n",
       "4     CHEBI:18012            Fumaric acid   \n",
       "670    CHEBI:8713               Quinapril   \n",
       "233    CHEBI:3696     Cidofovir anhydrous   \n",
       "89    CHEBI:63625     Tenofovir anhydrous   \n",
       "531   CHEBI:30863                Oteracil   \n",
       "212   CHEBI:80366         Icosapent ethyl   \n",
       "687  CHEBI:135611         Benzododecinium   \n",
       "548   CHEBI:26689                  Oxygen   \n",
       "\n",
       "                                             name_cheb       mesh_id  \\\n",
       "414                             estrone sodium sulfate  MESH:C017296   \n",
       "4                                         fumaric acid  MESH:C032005   \n",
       "670                                          quinapril  MESH:C054501   \n",
       "233                                cidofovir anhydrous  MESH:C059262   \n",
       "89                               tenofovir (anhydrous)  MESH:C096918   \n",
       "531                                   5-azaorotic acid  MESH:C489337   \n",
       "212  (5Z,8Z,11Z,14Z,17Z)-Eicosapentaenoic acid ethy...  MESH:C495711   \n",
       "687                                       benzalkonium  MESH:D001548   \n",
       "548                                   singlet dioxygen  MESH:D010100   \n",
       "\n",
       "                mesh                 mesh_id_name  \\\n",
       "414     MESH:D004966              estrone sulfate   \n",
       "4       MESH:D005650                 fumaric acid   \n",
       "670     MESH:C041125                  quinaprilat   \n",
       "233  MESH:D000077404                          NaN   \n",
       "89   MESH:D000068698                          NaN   \n",
       "531     MESH:D010094            potassium oxonate   \n",
       "212     MESH:C035276  ethyl eicosapentaenoic acid   \n",
       "687     MESH:C015163       Benzalkonium Compounds   \n",
       "548     MESH:D026082                       Oxygen   \n",
       "\n",
       "                             mesh_name                              ikey  \\\n",
       "414        Estrogens, Conjugated (USP)  IKEY:VUCAHVBMSFIGAI-ZFINNJDLSA-M   \n",
       "4                            Fumarates  IKEY:VZCYOOQTPOCHFL-OWOJBTEDSA-N   \n",
       "670                                NaN  IKEY:JSDRRTOADPPCHY-HSQYWUDLSA-N   \n",
       "233                          Cidofovir  IKEY:VWFCHDSQECPREK-LURJTMIESA-N   \n",
       "89                           Tenofovir  IKEY:SGOIRFVFHAKUTI-ZCFIWIBFSA-N   \n",
       "531                        Oxonic Acid  IKEY:RYYCJUAHISIHTL-UHFFFAOYSA-N   \n",
       "212  eicosapentaenoic acid ethyl ester  IKEY:SSQPWTVBQMWLSZ-AAQCHOMXSA-N   \n",
       "687      dimethyldodecylbenzylammonium  IKEY:CYDRXTMLKJDRQH-UHFFFAOYSA-N   \n",
       "548                     Singlet Oxygen  IKEY:MYMOFIZGZYHOMD-UHFFFAOYSA-N   \n",
       "\n",
       "                       ikey_cheb  \n",
       "414  VUCAHVBMSFIGAI-ZFINNJDLSA-M  \n",
       "4    VZCYOOQTPOCHFL-OWOJBTEDSA-N  \n",
       "670  JSDRRTOADPPCHY-HSQYWUDLSA-N  \n",
       "233  VWFCHDSQECPREK-LURJTMIESA-N  \n",
       "89   SGOIRFVFHAKUTI-ZCFIWIBFSA-N  \n",
       "531  RYYCJUAHISIHTL-UHFFFAOYSA-N  \n",
       "212  SSQPWTVBQMWLSZ-AAQCHOMXSA-N  \n",
       "687  CYDRXTMLKJDRQH-UHFFFAOYSA-N  \n",
       "548  MYMOFIZGZYHOMD-UHFFFAOYSA-N  "
      ]
     },
     "execution_count": 110,
     "metadata": {},
     "output_type": "execute_result"
    }
   ],
   "source": [
    "subset[~ix]"
   ]
  },
  {
   "cell_type": "markdown",
   "metadata": {},
   "source": [
    "Some of these don't have a meshID name, so automatically drop those and take them MeSH ID..\n",
    "\n",
    "Also, it looks like we did some of these already... but definitely not others... make sure these aren't yet manually entered..."
   ]
  },
  {
   "cell_type": "code",
   "execution_count": 111,
   "metadata": {},
   "outputs": [],
   "source": [
    "c2m_dict.update(subset[~ix][subset[~ix]['mesh_id_name'].isnull()].set_index('chebi_id')['mesh'].to_dict())"
   ]
  },
  {
   "cell_type": "code",
   "execution_count": 112,
   "metadata": {},
   "outputs": [],
   "source": [
    "already_manulally_annotated = set(mult_mesh.query('chebi_id not in @curr_cheb_ids')['chebi_id'])"
   ]
  },
  {
   "cell_type": "code",
   "execution_count": 113,
   "metadata": {},
   "outputs": [
    {
     "data": {
      "text/html": [
       "<div>\n",
       "<style scoped>\n",
       "    .dataframe tbody tr th:only-of-type {\n",
       "        vertical-align: middle;\n",
       "    }\n",
       "\n",
       "    .dataframe tbody tr th {\n",
       "        vertical-align: top;\n",
       "    }\n",
       "\n",
       "    .dataframe thead th {\n",
       "        text-align: right;\n",
       "    }\n",
       "</style>\n",
       "<table border=\"1\" class=\"dataframe\">\n",
       "  <thead>\n",
       "    <tr style=\"text-align: right;\">\n",
       "      <th></th>\n",
       "      <th>chebi_id</th>\n",
       "      <th>name</th>\n",
       "      <th>name_cheb</th>\n",
       "      <th>mesh_id</th>\n",
       "      <th>mesh</th>\n",
       "      <th>mesh_id_name</th>\n",
       "      <th>mesh_name</th>\n",
       "      <th>ikey</th>\n",
       "      <th>ikey_cheb</th>\n",
       "    </tr>\n",
       "  </thead>\n",
       "  <tbody>\n",
       "    <tr>\n",
       "      <th>414</th>\n",
       "      <td>CHEBI:8389</td>\n",
       "      <td>Estrone sodium sulfate</td>\n",
       "      <td>estrone sodium sulfate</td>\n",
       "      <td>MESH:C017296</td>\n",
       "      <td>MESH:D004966</td>\n",
       "      <td>estrone sulfate</td>\n",
       "      <td>Estrogens, Conjugated (USP)</td>\n",
       "      <td>IKEY:VUCAHVBMSFIGAI-ZFINNJDLSA-M</td>\n",
       "      <td>VUCAHVBMSFIGAI-ZFINNJDLSA-M</td>\n",
       "    </tr>\n",
       "    <tr>\n",
       "      <th>4</th>\n",
       "      <td>CHEBI:18012</td>\n",
       "      <td>Fumaric acid</td>\n",
       "      <td>fumaric acid</td>\n",
       "      <td>MESH:C032005</td>\n",
       "      <td>MESH:D005650</td>\n",
       "      <td>fumaric acid</td>\n",
       "      <td>Fumarates</td>\n",
       "      <td>IKEY:VZCYOOQTPOCHFL-OWOJBTEDSA-N</td>\n",
       "      <td>VZCYOOQTPOCHFL-OWOJBTEDSA-N</td>\n",
       "    </tr>\n",
       "    <tr>\n",
       "      <th>670</th>\n",
       "      <td>CHEBI:8713</td>\n",
       "      <td>Quinapril</td>\n",
       "      <td>quinapril</td>\n",
       "      <td>MESH:C054501</td>\n",
       "      <td>MESH:C041125</td>\n",
       "      <td>quinaprilat</td>\n",
       "      <td>NaN</td>\n",
       "      <td>IKEY:JSDRRTOADPPCHY-HSQYWUDLSA-N</td>\n",
       "      <td>JSDRRTOADPPCHY-HSQYWUDLSA-N</td>\n",
       "    </tr>\n",
       "    <tr>\n",
       "      <th>531</th>\n",
       "      <td>CHEBI:30863</td>\n",
       "      <td>Oteracil</td>\n",
       "      <td>5-azaorotic acid</td>\n",
       "      <td>MESH:C489337</td>\n",
       "      <td>MESH:D010094</td>\n",
       "      <td>potassium oxonate</td>\n",
       "      <td>Oxonic Acid</td>\n",
       "      <td>IKEY:RYYCJUAHISIHTL-UHFFFAOYSA-N</td>\n",
       "      <td>RYYCJUAHISIHTL-UHFFFAOYSA-N</td>\n",
       "    </tr>\n",
       "    <tr>\n",
       "      <th>212</th>\n",
       "      <td>CHEBI:80366</td>\n",
       "      <td>Icosapent ethyl</td>\n",
       "      <td>(5Z,8Z,11Z,14Z,17Z)-Eicosapentaenoic acid ethy...</td>\n",
       "      <td>MESH:C495711</td>\n",
       "      <td>MESH:C035276</td>\n",
       "      <td>ethyl eicosapentaenoic acid</td>\n",
       "      <td>eicosapentaenoic acid ethyl ester</td>\n",
       "      <td>IKEY:SSQPWTVBQMWLSZ-AAQCHOMXSA-N</td>\n",
       "      <td>SSQPWTVBQMWLSZ-AAQCHOMXSA-N</td>\n",
       "    </tr>\n",
       "    <tr>\n",
       "      <th>687</th>\n",
       "      <td>CHEBI:135611</td>\n",
       "      <td>Benzododecinium</td>\n",
       "      <td>benzalkonium</td>\n",
       "      <td>MESH:D001548</td>\n",
       "      <td>MESH:C015163</td>\n",
       "      <td>Benzalkonium Compounds</td>\n",
       "      <td>dimethyldodecylbenzylammonium</td>\n",
       "      <td>IKEY:CYDRXTMLKJDRQH-UHFFFAOYSA-N</td>\n",
       "      <td>CYDRXTMLKJDRQH-UHFFFAOYSA-N</td>\n",
       "    </tr>\n",
       "    <tr>\n",
       "      <th>548</th>\n",
       "      <td>CHEBI:26689</td>\n",
       "      <td>Oxygen</td>\n",
       "      <td>singlet dioxygen</td>\n",
       "      <td>MESH:D010100</td>\n",
       "      <td>MESH:D026082</td>\n",
       "      <td>Oxygen</td>\n",
       "      <td>Singlet Oxygen</td>\n",
       "      <td>IKEY:MYMOFIZGZYHOMD-UHFFFAOYSA-N</td>\n",
       "      <td>MYMOFIZGZYHOMD-UHFFFAOYSA-N</td>\n",
       "    </tr>\n",
       "  </tbody>\n",
       "</table>\n",
       "</div>"
      ],
      "text/plain": [
       "         chebi_id                    name  \\\n",
       "414    CHEBI:8389  Estrone sodium sulfate   \n",
       "4     CHEBI:18012            Fumaric acid   \n",
       "670    CHEBI:8713               Quinapril   \n",
       "531   CHEBI:30863                Oteracil   \n",
       "212   CHEBI:80366         Icosapent ethyl   \n",
       "687  CHEBI:135611         Benzododecinium   \n",
       "548   CHEBI:26689                  Oxygen   \n",
       "\n",
       "                                             name_cheb       mesh_id  \\\n",
       "414                             estrone sodium sulfate  MESH:C017296   \n",
       "4                                         fumaric acid  MESH:C032005   \n",
       "670                                          quinapril  MESH:C054501   \n",
       "531                                   5-azaorotic acid  MESH:C489337   \n",
       "212  (5Z,8Z,11Z,14Z,17Z)-Eicosapentaenoic acid ethy...  MESH:C495711   \n",
       "687                                       benzalkonium  MESH:D001548   \n",
       "548                                   singlet dioxygen  MESH:D010100   \n",
       "\n",
       "             mesh                 mesh_id_name  \\\n",
       "414  MESH:D004966              estrone sulfate   \n",
       "4    MESH:D005650                 fumaric acid   \n",
       "670  MESH:C041125                  quinaprilat   \n",
       "531  MESH:D010094            potassium oxonate   \n",
       "212  MESH:C035276  ethyl eicosapentaenoic acid   \n",
       "687  MESH:C015163       Benzalkonium Compounds   \n",
       "548  MESH:D026082                       Oxygen   \n",
       "\n",
       "                             mesh_name                              ikey  \\\n",
       "414        Estrogens, Conjugated (USP)  IKEY:VUCAHVBMSFIGAI-ZFINNJDLSA-M   \n",
       "4                            Fumarates  IKEY:VZCYOOQTPOCHFL-OWOJBTEDSA-N   \n",
       "670                                NaN  IKEY:JSDRRTOADPPCHY-HSQYWUDLSA-N   \n",
       "531                        Oxonic Acid  IKEY:RYYCJUAHISIHTL-UHFFFAOYSA-N   \n",
       "212  eicosapentaenoic acid ethyl ester  IKEY:SSQPWTVBQMWLSZ-AAQCHOMXSA-N   \n",
       "687      dimethyldodecylbenzylammonium  IKEY:CYDRXTMLKJDRQH-UHFFFAOYSA-N   \n",
       "548                     Singlet Oxygen  IKEY:MYMOFIZGZYHOMD-UHFFFAOYSA-N   \n",
       "\n",
       "                       ikey_cheb  \n",
       "414  VUCAHVBMSFIGAI-ZFINNJDLSA-M  \n",
       "4    VZCYOOQTPOCHFL-OWOJBTEDSA-N  \n",
       "670  JSDRRTOADPPCHY-HSQYWUDLSA-N  \n",
       "531  RYYCJUAHISIHTL-UHFFFAOYSA-N  \n",
       "212  SSQPWTVBQMWLSZ-AAQCHOMXSA-N  \n",
       "687  CYDRXTMLKJDRQH-UHFFFAOYSA-N  \n",
       "548  MYMOFIZGZYHOMD-UHFFFAOYSA-N  "
      ]
     },
     "execution_count": 113,
     "metadata": {},
     "output_type": "execute_result"
    }
   ],
   "source": [
    "subset[~ix].query('chebi_id not in @already_manulally_annotated').dropna(subset=['mesh_id_name'])"
   ]
  },
  {
   "cell_type": "code",
   "execution_count": 114,
   "metadata": {},
   "outputs": [],
   "source": [
    "### Let's reconcile these last few...\n",
    "c2m_dict['CHEBI:383703'] = 'MESH:C026620'\n",
    "c2m_dict['CHEBI:16643'] = 'MESH:D008715'\n",
    "c2m_dict['CHEBI:8389'] = 'MESH:D004966'\n",
    "c2m_dict['CHEBI:18012'] = 'MESH:C032005'\n",
    "c2m_dict['CHEBI:8713'] = 'MESH:C054501'\n",
    "c2m_dict['CHEBI:30863'] = 'MESH:D010094'\n",
    "c2m_dict['CHEBI:80366'] = 'MESH:C035276'\n",
    "c2m_dict['CHEBI:135611'] = 'MESH:D001548'\n",
    "c2m_dict['CHEBI:26689'] = 'MESH:D026082'"
   ]
  },
  {
   "cell_type": "code",
   "execution_count": 115,
   "metadata": {},
   "outputs": [
    {
     "data": {
      "text/html": [
       "<div>\n",
       "<style scoped>\n",
       "    .dataframe tbody tr th:only-of-type {\n",
       "        vertical-align: middle;\n",
       "    }\n",
       "\n",
       "    .dataframe tbody tr th {\n",
       "        vertical-align: top;\n",
       "    }\n",
       "\n",
       "    .dataframe thead th {\n",
       "        text-align: right;\n",
       "    }\n",
       "</style>\n",
       "<table border=\"1\" class=\"dataframe\">\n",
       "  <thead>\n",
       "    <tr style=\"text-align: right;\">\n",
       "      <th></th>\n",
       "      <th>chebi_id</th>\n",
       "      <th>name</th>\n",
       "      <th>name_cheb</th>\n",
       "      <th>mesh_id</th>\n",
       "      <th>mesh</th>\n",
       "      <th>mesh_id_name</th>\n",
       "      <th>mesh_name</th>\n",
       "      <th>ikey</th>\n",
       "      <th>ikey_cheb</th>\n",
       "    </tr>\n",
       "  </thead>\n",
       "  <tbody>\n",
       "    <tr>\n",
       "      <th>730</th>\n",
       "      <td>CHEBI:58321</td>\n",
       "      <td>Allysine</td>\n",
       "      <td>L-allysine zwitterion</td>\n",
       "      <td>MESH:C000061</td>\n",
       "      <td>NaN</td>\n",
       "      <td>allysine</td>\n",
       "      <td>NaN</td>\n",
       "      <td>IKEY:GFXYTQPNNXGICT-YFKPBYRVSA-N</td>\n",
       "      <td>GFXYTQPNNXGICT-YFKPBYRVSA-N</td>\n",
       "    </tr>\n",
       "    <tr>\n",
       "      <th>731</th>\n",
       "      <td>CHEBI:17917</td>\n",
       "      <td>Allysine</td>\n",
       "      <td>L-allysine</td>\n",
       "      <td>MESH:C000061</td>\n",
       "      <td>NaN</td>\n",
       "      <td>allysine</td>\n",
       "      <td>NaN</td>\n",
       "      <td>IKEY:GFXYTQPNNXGICT-YFKPBYRVSA-N</td>\n",
       "      <td>GFXYTQPNNXGICT-YFKPBYRVSA-N</td>\n",
       "    </tr>\n",
       "    <tr>\n",
       "      <th>803</th>\n",
       "      <td>CHEBI:84310</td>\n",
       "      <td>Anticapsin</td>\n",
       "      <td>anticapsin zwitterion</td>\n",
       "      <td>MESH:C000097</td>\n",
       "      <td>NaN</td>\n",
       "      <td>anticapsin</td>\n",
       "      <td>NaN</td>\n",
       "      <td>IKEY:KHVZXXWDPSCGEK-MGVQOFIGSA-N</td>\n",
       "      <td>KHVZXXWDPSCGEK-MGVQOFIGSA-N</td>\n",
       "    </tr>\n",
       "    <tr>\n",
       "      <th>802</th>\n",
       "      <td>CHEBI:85005</td>\n",
       "      <td>Anticapsin</td>\n",
       "      <td>anticapsin</td>\n",
       "      <td>MESH:C000097</td>\n",
       "      <td>NaN</td>\n",
       "      <td>anticapsin</td>\n",
       "      <td>NaN</td>\n",
       "      <td>IKEY:KHVZXXWDPSCGEK-MGVQOFIGSA-N</td>\n",
       "      <td>KHVZXXWDPSCGEK-MGVQOFIGSA-N</td>\n",
       "    </tr>\n",
       "    <tr>\n",
       "      <th>612</th>\n",
       "      <td>CHEBI:34647</td>\n",
       "      <td>Clindamycin palmitate hydrochloride</td>\n",
       "      <td>Clindamycin palmitate hydrochloride</td>\n",
       "      <td>MESH:C000489</td>\n",
       "      <td>NaN</td>\n",
       "      <td>clindamycin palmitate</td>\n",
       "      <td>NaN</td>\n",
       "      <td>IKEY:GTNDZRUWKHDICY-DJHAJVGHSA-N</td>\n",
       "      <td>GTNDZRUWKHDICY-DJHAJVGHSA-N</td>\n",
       "    </tr>\n",
       "    <tr>\n",
       "      <th>49</th>\n",
       "      <td>CHEBI:17340</td>\n",
       "      <td>Cetraxate</td>\n",
       "      <td>cetraxate</td>\n",
       "      <td>MESH:C000665</td>\n",
       "      <td>NaN</td>\n",
       "      <td>cetraxate</td>\n",
       "      <td>NaN</td>\n",
       "      <td>IKEY:FHRSHSOEWXUORL-HDJSIYSDSA-N</td>\n",
       "      <td>FHRSHSOEWXUORL-HDJSIYSDSA-N</td>\n",
       "    </tr>\n",
       "    <tr>\n",
       "      <th>48</th>\n",
       "      <td>CHEBI:58112</td>\n",
       "      <td>Cetraxate</td>\n",
       "      <td>cetraxate zwitterion</td>\n",
       "      <td>MESH:C000665</td>\n",
       "      <td>NaN</td>\n",
       "      <td>cetraxate</td>\n",
       "      <td>NaN</td>\n",
       "      <td>IKEY:FHRSHSOEWXUORL-HDJSIYSDSA-N</td>\n",
       "      <td>FHRSHSOEWXUORL-HDJSIYSDSA-N</td>\n",
       "    </tr>\n",
       "    <tr>\n",
       "      <th>12</th>\n",
       "      <td>CHEBI:135389</td>\n",
       "      <td>Etafenone</td>\n",
       "      <td>etafenone</td>\n",
       "      <td>MESH:C001162</td>\n",
       "      <td>NaN</td>\n",
       "      <td>etafenone</td>\n",
       "      <td>NaN</td>\n",
       "      <td>IKEY:OEGDFSLNGABBKJ-UHFFFAOYSA-N</td>\n",
       "      <td>OEGDFSLNGABBKJ-UHFFFAOYSA-N</td>\n",
       "    </tr>\n",
       "    <tr>\n",
       "      <th>781</th>\n",
       "      <td>CHEBI:15728</td>\n",
       "      <td>4-guanidinobutyric acid</td>\n",
       "      <td>4-guanidinobutanoic acid</td>\n",
       "      <td>MESH:C001317</td>\n",
       "      <td>NaN</td>\n",
       "      <td>gamma-guanidinobutyric acid</td>\n",
       "      <td>NaN</td>\n",
       "      <td>IKEY:TUHVEAJXIMEOSA-UHFFFAOYSA-N</td>\n",
       "      <td>TUHVEAJXIMEOSA-UHFFFAOYSA-N</td>\n",
       "    </tr>\n",
       "    <tr>\n",
       "      <th>780</th>\n",
       "      <td>CHEBI:57486</td>\n",
       "      <td>4-guanidinobutyric acid</td>\n",
       "      <td>4-guanidinobutanoic acid zwitterion</td>\n",
       "      <td>MESH:C001317</td>\n",
       "      <td>NaN</td>\n",
       "      <td>gamma-guanidinobutyric acid</td>\n",
       "      <td>NaN</td>\n",
       "      <td>IKEY:TUHVEAJXIMEOSA-UHFFFAOYSA-N</td>\n",
       "      <td>TUHVEAJXIMEOSA-UHFFFAOYSA-N</td>\n",
       "    </tr>\n",
       "  </tbody>\n",
       "</table>\n",
       "</div>"
      ],
      "text/plain": [
       "         chebi_id                                 name  \\\n",
       "730   CHEBI:58321                             Allysine   \n",
       "731   CHEBI:17917                             Allysine   \n",
       "803   CHEBI:84310                           Anticapsin   \n",
       "802   CHEBI:85005                           Anticapsin   \n",
       "612   CHEBI:34647  Clindamycin palmitate hydrochloride   \n",
       "49    CHEBI:17340                            Cetraxate   \n",
       "48    CHEBI:58112                            Cetraxate   \n",
       "12   CHEBI:135389                            Etafenone   \n",
       "781   CHEBI:15728              4-guanidinobutyric acid   \n",
       "780   CHEBI:57486              4-guanidinobutyric acid   \n",
       "\n",
       "                               name_cheb       mesh_id mesh  \\\n",
       "730                L-allysine zwitterion  MESH:C000061  NaN   \n",
       "731                           L-allysine  MESH:C000061  NaN   \n",
       "803                anticapsin zwitterion  MESH:C000097  NaN   \n",
       "802                           anticapsin  MESH:C000097  NaN   \n",
       "612  Clindamycin palmitate hydrochloride  MESH:C000489  NaN   \n",
       "49                             cetraxate  MESH:C000665  NaN   \n",
       "48                  cetraxate zwitterion  MESH:C000665  NaN   \n",
       "12                             etafenone  MESH:C001162  NaN   \n",
       "781             4-guanidinobutanoic acid  MESH:C001317  NaN   \n",
       "780  4-guanidinobutanoic acid zwitterion  MESH:C001317  NaN   \n",
       "\n",
       "                    mesh_id_name mesh_name                              ikey  \\\n",
       "730                     allysine       NaN  IKEY:GFXYTQPNNXGICT-YFKPBYRVSA-N   \n",
       "731                     allysine       NaN  IKEY:GFXYTQPNNXGICT-YFKPBYRVSA-N   \n",
       "803                   anticapsin       NaN  IKEY:KHVZXXWDPSCGEK-MGVQOFIGSA-N   \n",
       "802                   anticapsin       NaN  IKEY:KHVZXXWDPSCGEK-MGVQOFIGSA-N   \n",
       "612        clindamycin palmitate       NaN  IKEY:GTNDZRUWKHDICY-DJHAJVGHSA-N   \n",
       "49                     cetraxate       NaN  IKEY:FHRSHSOEWXUORL-HDJSIYSDSA-N   \n",
       "48                     cetraxate       NaN  IKEY:FHRSHSOEWXUORL-HDJSIYSDSA-N   \n",
       "12                     etafenone       NaN  IKEY:OEGDFSLNGABBKJ-UHFFFAOYSA-N   \n",
       "781  gamma-guanidinobutyric acid       NaN  IKEY:TUHVEAJXIMEOSA-UHFFFAOYSA-N   \n",
       "780  gamma-guanidinobutyric acid       NaN  IKEY:TUHVEAJXIMEOSA-UHFFFAOYSA-N   \n",
       "\n",
       "                       ikey_cheb  \n",
       "730  GFXYTQPNNXGICT-YFKPBYRVSA-N  \n",
       "731  GFXYTQPNNXGICT-YFKPBYRVSA-N  \n",
       "803  KHVZXXWDPSCGEK-MGVQOFIGSA-N  \n",
       "802  KHVZXXWDPSCGEK-MGVQOFIGSA-N  \n",
       "612  GTNDZRUWKHDICY-DJHAJVGHSA-N  \n",
       "49   FHRSHSOEWXUORL-HDJSIYSDSA-N  \n",
       "48   FHRSHSOEWXUORL-HDJSIYSDSA-N  \n",
       "12   OEGDFSLNGABBKJ-UHFFFAOYSA-N  \n",
       "781  TUHVEAJXIMEOSA-UHFFFAOYSA-N  \n",
       "780  TUHVEAJXIMEOSA-UHFFFAOYSA-N  "
      ]
     },
     "execution_count": 115,
     "metadata": {},
     "output_type": "execute_result"
    }
   ],
   "source": [
    "curr_cheb_ids = list(c2m_dict.keys())\n",
    "mult_cheb_mrg.query('chebi_id not in @curr_cheb_ids').sort_values('mesh_id')[cols].head(10)"
   ]
  },
  {
   "cell_type": "markdown",
   "metadata": {},
   "source": [
    "A This point  I think we can just accept these as 1_to_many in the mesh_to_chebi relationship..."
   ]
  },
  {
   "cell_type": "code",
   "execution_count": 116,
   "metadata": {},
   "outputs": [],
   "source": [
    "c2m_dict.update(mult_cheb_mrg.query('chebi_id not in @curr_cheb_ids').set_index('chebi_id')['mesh_id'].to_dict())"
   ]
  },
  {
   "cell_type": "code",
   "execution_count": 117,
   "metadata": {},
   "outputs": [
    {
     "data": {
      "text/plain": [
       "8625"
      ]
     },
     "execution_count": 117,
     "metadata": {},
     "output_type": "execute_result"
    }
   ],
   "source": [
    "chebi['new_mesh'] = chebi['id'].map(c2m_dict)\n",
    "chebi['new_mesh'].count()"
   ]
  },
  {
   "cell_type": "code",
   "execution_count": 118,
   "metadata": {},
   "outputs": [
    {
     "data": {
      "text/plain": [
       "21"
      ]
     },
     "execution_count": 118,
     "metadata": {},
     "output_type": "execute_result"
    }
   ],
   "source": [
    "subset = chebi.dropna(subset=['mesh'])\n",
    "(subset['mesh'] != subset['new_mesh']).sum()"
   ]
  },
  {
   "cell_type": "markdown",
   "metadata": {},
   "source": [
    "Very few conflicts, let's examine"
   ]
  },
  {
   "cell_type": "code",
   "execution_count": 119,
   "metadata": {},
   "outputs": [
    {
     "data": {
      "text/html": [
       "<div>\n",
       "<style scoped>\n",
       "    .dataframe tbody tr th:only-of-type {\n",
       "        vertical-align: middle;\n",
       "    }\n",
       "\n",
       "    .dataframe tbody tr th {\n",
       "        vertical-align: top;\n",
       "    }\n",
       "\n",
       "    .dataframe thead th {\n",
       "        text-align: right;\n",
       "    }\n",
       "</style>\n",
       "<table border=\"1\" class=\"dataframe\">\n",
       "  <thead>\n",
       "    <tr style=\"text-align: right;\">\n",
       "      <th></th>\n",
       "      <th>id</th>\n",
       "      <th>name</th>\n",
       "      <th>mesh</th>\n",
       "      <th>new_mesh</th>\n",
       "      <th>mesh_name</th>\n",
       "      <th>new_mesh_name</th>\n",
       "    </tr>\n",
       "  </thead>\n",
       "  <tbody>\n",
       "    <tr>\n",
       "      <th>47</th>\n",
       "      <td>CHEBI:63020</td>\n",
       "      <td>yttrium chloride</td>\n",
       "      <td>MESH:D015019</td>\n",
       "      <td>MESH:C064782</td>\n",
       "      <td>Yttrium</td>\n",
       "      <td>yttrium chloride</td>\n",
       "    </tr>\n",
       "    <tr>\n",
       "      <th>11456</th>\n",
       "      <td>CHEBI:72999</td>\n",
       "      <td>1,2-dihexadecanoyl-sn-glycero-3-phosphocholine</td>\n",
       "      <td>MESH:D015060</td>\n",
       "      <td>MESH:C081581</td>\n",
       "      <td>1,2-Dipalmitoylphosphatidylcholine</td>\n",
       "      <td>colfosceril palmitate</td>\n",
       "    </tr>\n",
       "    <tr>\n",
       "      <th>12293</th>\n",
       "      <td>CHEBI:4753</td>\n",
       "      <td>ecothiopate</td>\n",
       "      <td>MESH:D004456</td>\n",
       "      <td>MESH:C061212</td>\n",
       "      <td>Echothiophate Iodide</td>\n",
       "      <td>phospholine</td>\n",
       "    </tr>\n",
       "    <tr>\n",
       "      <th>13731</th>\n",
       "      <td>CHEBI:52787</td>\n",
       "      <td>dithiazanine</td>\n",
       "      <td>MESH:D00422</td>\n",
       "      <td>MESH:D004225</td>\n",
       "      <td>NaN</td>\n",
       "      <td>Dithiazanine</td>\n",
       "    </tr>\n",
       "    <tr>\n",
       "      <th>14555</th>\n",
       "      <td>CHEBI:59124</td>\n",
       "      <td>thiosalicylic acid</td>\n",
       "      <td>MESH:C026196</td>\n",
       "      <td>MESH:C441201</td>\n",
       "      <td>2-thiosalicylic acid</td>\n",
       "      <td>thiosalicylic acid</td>\n",
       "    </tr>\n",
       "    <tr>\n",
       "      <th>15028</th>\n",
       "      <td>CHEBI:40538</td>\n",
       "      <td>benzylamine</td>\n",
       "      <td>MESH:D001596</td>\n",
       "      <td>MESH:C030796</td>\n",
       "      <td>Benzylamines</td>\n",
       "      <td>benzylamine</td>\n",
       "    </tr>\n",
       "    <tr>\n",
       "      <th>21748</th>\n",
       "      <td>CHEBI:18089</td>\n",
       "      <td>N-benzoylglycine</td>\n",
       "      <td>MESH:D006626</td>\n",
       "      <td>MESH:C030514</td>\n",
       "      <td>Hippurates</td>\n",
       "      <td>hippuric acid</td>\n",
       "    </tr>\n",
       "    <tr>\n",
       "      <th>23937</th>\n",
       "      <td>CHEBI:90943</td>\n",
       "      <td>osimertinib</td>\n",
       "      <td>MESH:C000603933</td>\n",
       "      <td>MESH:C000596361</td>\n",
       "      <td>NaN</td>\n",
       "      <td>osimertinib</td>\n",
       "    </tr>\n",
       "    <tr>\n",
       "      <th>24090</th>\n",
       "      <td>CHEBI:44616</td>\n",
       "      <td>afimoxifene</td>\n",
       "      <td>MESH:C475919</td>\n",
       "      <td>MESH:C016601</td>\n",
       "      <td>NaN</td>\n",
       "      <td>afimoxifene</td>\n",
       "    </tr>\n",
       "    <tr>\n",
       "      <th>26108</th>\n",
       "      <td>CHEBI:135611</td>\n",
       "      <td>benzalkonium</td>\n",
       "      <td>MESH:C015163</td>\n",
       "      <td>MESH:D001548</td>\n",
       "      <td>dimethyldodecylbenzylammonium</td>\n",
       "      <td>Benzalkonium Compounds</td>\n",
       "    </tr>\n",
       "    <tr>\n",
       "      <th>47840</th>\n",
       "      <td>CHEBI:8713</td>\n",
       "      <td>quinapril</td>\n",
       "      <td>MESH:C041125</td>\n",
       "      <td>MESH:C054501</td>\n",
       "      <td>NaN</td>\n",
       "      <td>quinaprilat</td>\n",
       "    </tr>\n",
       "    <tr>\n",
       "      <th>53642</th>\n",
       "      <td>CHEBI:18012</td>\n",
       "      <td>fumaric acid</td>\n",
       "      <td>MESH:D005650</td>\n",
       "      <td>MESH:C032005</td>\n",
       "      <td>Fumarates</td>\n",
       "      <td>fumaric acid</td>\n",
       "    </tr>\n",
       "    <tr>\n",
       "      <th>56578</th>\n",
       "      <td>CHEBI:135594</td>\n",
       "      <td>limaprost</td>\n",
       "      <td>MESH:C025090</td>\n",
       "      <td>MESH:C059238</td>\n",
       "      <td>ONO 1206</td>\n",
       "      <td>limaprost</td>\n",
       "    </tr>\n",
       "    <tr>\n",
       "      <th>62165</th>\n",
       "      <td>CHEBI:27810</td>\n",
       "      <td>resorcinol</td>\n",
       "      <td>MESH:D012118</td>\n",
       "      <td>MESH:C031389</td>\n",
       "      <td>Resorcinols</td>\n",
       "      <td>resorcinol</td>\n",
       "    </tr>\n",
       "    <tr>\n",
       "      <th>67260</th>\n",
       "      <td>CHEBI:27789</td>\n",
       "      <td>1,2-dichloroethane</td>\n",
       "      <td>MESH:D005025</td>\n",
       "      <td>MESH:C024565</td>\n",
       "      <td>Ethylene Dichlorides</td>\n",
       "      <td>ethylene dichloride</td>\n",
       "    </tr>\n",
       "    <tr>\n",
       "      <th>67557</th>\n",
       "      <td>CHEBI:36404</td>\n",
       "      <td>cyclohexene</td>\n",
       "      <td>MESH:D053138</td>\n",
       "      <td>MESH:C052568</td>\n",
       "      <td>Cyclohexenes</td>\n",
       "      <td>cyclohexene</td>\n",
       "    </tr>\n",
       "    <tr>\n",
       "      <th>68130</th>\n",
       "      <td>CHEBI:51687</td>\n",
       "      <td>chrysene</td>\n",
       "      <td>MESH:D002911</td>\n",
       "      <td>MESH:C031180</td>\n",
       "      <td>Chrysenes</td>\n",
       "      <td>chrysene</td>\n",
       "    </tr>\n",
       "    <tr>\n",
       "      <th>80018</th>\n",
       "      <td>CHEBI:22154</td>\n",
       "      <td>acenaphthene</td>\n",
       "      <td>MESH:D000073</td>\n",
       "      <td>MESH:C042552</td>\n",
       "      <td>Acenaphthenes</td>\n",
       "      <td>acenaphthene</td>\n",
       "    </tr>\n",
       "    <tr>\n",
       "      <th>81712</th>\n",
       "      <td>CHEBI:9307</td>\n",
       "      <td>succinimide</td>\n",
       "      <td>MESH:D013388</td>\n",
       "      <td>MESH:C032620</td>\n",
       "      <td>Succinimides</td>\n",
       "      <td>succinimide</td>\n",
       "    </tr>\n",
       "    <tr>\n",
       "      <th>92137</th>\n",
       "      <td>CHEBI:36605</td>\n",
       "      <td>phthalic anhydride</td>\n",
       "      <td>MESH:D010796</td>\n",
       "      <td>MESH:C043103</td>\n",
       "      <td>Phthalic Anhydrides</td>\n",
       "      <td>phthalic anhydride</td>\n",
       "    </tr>\n",
       "    <tr>\n",
       "      <th>100544</th>\n",
       "      <td>CHEBI:36610</td>\n",
       "      <td>acetic anhydride</td>\n",
       "      <td>MESH:D000089</td>\n",
       "      <td>MESH:C031800</td>\n",
       "      <td>Acetic Anhydrides</td>\n",
       "      <td>acetic anhydride</td>\n",
       "    </tr>\n",
       "  </tbody>\n",
       "</table>\n",
       "</div>"
      ],
      "text/plain": [
       "                  id                                            name  \\\n",
       "47       CHEBI:63020                                yttrium chloride   \n",
       "11456    CHEBI:72999  1,2-dihexadecanoyl-sn-glycero-3-phosphocholine   \n",
       "12293     CHEBI:4753                                     ecothiopate   \n",
       "13731    CHEBI:52787                                    dithiazanine   \n",
       "14555    CHEBI:59124                              thiosalicylic acid   \n",
       "15028    CHEBI:40538                                     benzylamine   \n",
       "21748    CHEBI:18089                                N-benzoylglycine   \n",
       "23937    CHEBI:90943                                     osimertinib   \n",
       "24090    CHEBI:44616                                     afimoxifene   \n",
       "26108   CHEBI:135611                                    benzalkonium   \n",
       "47840     CHEBI:8713                                       quinapril   \n",
       "53642    CHEBI:18012                                    fumaric acid   \n",
       "56578   CHEBI:135594                                       limaprost   \n",
       "62165    CHEBI:27810                                      resorcinol   \n",
       "67260    CHEBI:27789                              1,2-dichloroethane   \n",
       "67557    CHEBI:36404                                     cyclohexene   \n",
       "68130    CHEBI:51687                                        chrysene   \n",
       "80018    CHEBI:22154                                    acenaphthene   \n",
       "81712     CHEBI:9307                                     succinimide   \n",
       "92137    CHEBI:36605                              phthalic anhydride   \n",
       "100544   CHEBI:36610                                acetic anhydride   \n",
       "\n",
       "                   mesh         new_mesh                           mesh_name  \\\n",
       "47         MESH:D015019     MESH:C064782                             Yttrium   \n",
       "11456      MESH:D015060     MESH:C081581  1,2-Dipalmitoylphosphatidylcholine   \n",
       "12293      MESH:D004456     MESH:C061212                Echothiophate Iodide   \n",
       "13731       MESH:D00422     MESH:D004225                                 NaN   \n",
       "14555      MESH:C026196     MESH:C441201                2-thiosalicylic acid   \n",
       "15028      MESH:D001596     MESH:C030796                        Benzylamines   \n",
       "21748      MESH:D006626     MESH:C030514                          Hippurates   \n",
       "23937   MESH:C000603933  MESH:C000596361                                 NaN   \n",
       "24090      MESH:C475919     MESH:C016601                                 NaN   \n",
       "26108      MESH:C015163     MESH:D001548       dimethyldodecylbenzylammonium   \n",
       "47840      MESH:C041125     MESH:C054501                                 NaN   \n",
       "53642      MESH:D005650     MESH:C032005                           Fumarates   \n",
       "56578      MESH:C025090     MESH:C059238                            ONO 1206   \n",
       "62165      MESH:D012118     MESH:C031389                         Resorcinols   \n",
       "67260      MESH:D005025     MESH:C024565                Ethylene Dichlorides   \n",
       "67557      MESH:D053138     MESH:C052568                        Cyclohexenes   \n",
       "68130      MESH:D002911     MESH:C031180                           Chrysenes   \n",
       "80018      MESH:D000073     MESH:C042552                       Acenaphthenes   \n",
       "81712      MESH:D013388     MESH:C032620                        Succinimides   \n",
       "92137      MESH:D010796     MESH:C043103                 Phthalic Anhydrides   \n",
       "100544     MESH:D000089     MESH:C031800                   Acetic Anhydrides   \n",
       "\n",
       "                 new_mesh_name  \n",
       "47            yttrium chloride  \n",
       "11456    colfosceril palmitate  \n",
       "12293              phospholine  \n",
       "13731             Dithiazanine  \n",
       "14555       thiosalicylic acid  \n",
       "15028              benzylamine  \n",
       "21748            hippuric acid  \n",
       "23937              osimertinib  \n",
       "24090              afimoxifene  \n",
       "26108   Benzalkonium Compounds  \n",
       "47840              quinaprilat  \n",
       "53642             fumaric acid  \n",
       "56578                limaprost  \n",
       "62165               resorcinol  \n",
       "67260      ethylene dichloride  \n",
       "67557              cyclohexene  \n",
       "68130                 chrysene  \n",
       "80018             acenaphthene  \n",
       "81712              succinimide  \n",
       "92137       phthalic anhydride  \n",
       "100544        acetic anhydride  "
      ]
     },
     "execution_count": 119,
     "metadata": {},
     "output_type": "execute_result"
    }
   ],
   "source": [
    "idx = subset.query('mesh != new_mesh').index\n",
    "subset = chebi.loc[idx]\n",
    "subset['mesh_name'] = subset['mesh'].str.split(':', expand=True)[1].map(m2name)\n",
    "subset['new_mesh_name'] = subset['new_mesh'].str.split(':', expand=True)[1].map(m2name)\n",
    "subset[['id', 'name', 'mesh', 'new_mesh', 'mesh_name', 'new_mesh_name']]"
   ]
  },
  {
   "cell_type": "markdown",
   "metadata": {},
   "source": [
    "The new ones all look correct so let's keep..."
   ]
  },
  {
   "cell_type": "code",
   "execution_count": 120,
   "metadata": {},
   "outputs": [
    {
     "data": {
      "text/html": [
       "<div>\n",
       "<style scoped>\n",
       "    .dataframe tbody tr th:only-of-type {\n",
       "        vertical-align: middle;\n",
       "    }\n",
       "\n",
       "    .dataframe tbody tr th {\n",
       "        vertical-align: top;\n",
       "    }\n",
       "\n",
       "    .dataframe thead th {\n",
       "        text-align: right;\n",
       "    }\n",
       "</style>\n",
       "<table border=\"1\" class=\"dataframe\">\n",
       "  <thead>\n",
       "    <tr style=\"text-align: right;\">\n",
       "      <th></th>\n",
       "      <th>subset</th>\n",
       "      <th>id</th>\n",
       "      <th>name</th>\n",
       "      <th>def</th>\n",
       "      <th>xref</th>\n",
       "      <th>ikey</th>\n",
       "      <th>alt_id</th>\n",
       "      <th>is_obsolete</th>\n",
       "      <th>id_src</th>\n",
       "      <th>mesh</th>\n",
       "    </tr>\n",
       "  </thead>\n",
       "  <tbody>\n",
       "    <tr>\n",
       "      <th>0</th>\n",
       "      <td>3_STAR</td>\n",
       "      <td>CHEBI:24431</td>\n",
       "      <td>chemical entity</td>\n",
       "      <td>\"A chemical entity is a physical entity of int...</td>\n",
       "      <td>NaN</td>\n",
       "      <td>NaN</td>\n",
       "      <td>NaN</td>\n",
       "      <td>False</td>\n",
       "      <td>CHEBI</td>\n",
       "      <td>NaN</td>\n",
       "    </tr>\n",
       "    <tr>\n",
       "      <th>1</th>\n",
       "      <td>3_STAR</td>\n",
       "      <td>CHEBI:23367</td>\n",
       "      <td>molecular entity</td>\n",
       "      <td>\"Any constitutionally or isotopically distinct...</td>\n",
       "      <td>NaN</td>\n",
       "      <td>NaN</td>\n",
       "      <td>NaN</td>\n",
       "      <td>False</td>\n",
       "      <td>CHEBI</td>\n",
       "      <td>NaN</td>\n",
       "    </tr>\n",
       "    <tr>\n",
       "      <th>2</th>\n",
       "      <td>3_STAR</td>\n",
       "      <td>CHEBI:24870</td>\n",
       "      <td>ion</td>\n",
       "      <td>\"A molecular entity having a net electric char...</td>\n",
       "      <td>NaN</td>\n",
       "      <td>NaN</td>\n",
       "      <td>NaN</td>\n",
       "      <td>False</td>\n",
       "      <td>CHEBI</td>\n",
       "      <td>MESH:D007477</td>\n",
       "    </tr>\n",
       "    <tr>\n",
       "      <th>3</th>\n",
       "      <td>3_STAR</td>\n",
       "      <td>CHEBI:24867</td>\n",
       "      <td>monoatomic ion</td>\n",
       "      <td>NaN</td>\n",
       "      <td>NaN</td>\n",
       "      <td>NaN</td>\n",
       "      <td>NaN</td>\n",
       "      <td>False</td>\n",
       "      <td>CHEBI</td>\n",
       "      <td>NaN</td>\n",
       "    </tr>\n",
       "    <tr>\n",
       "      <th>4</th>\n",
       "      <td>3_STAR</td>\n",
       "      <td>CHEBI:23905</td>\n",
       "      <td>monoatomic anion</td>\n",
       "      <td>NaN</td>\n",
       "      <td>NaN</td>\n",
       "      <td>NaN</td>\n",
       "      <td>NaN</td>\n",
       "      <td>False</td>\n",
       "      <td>CHEBI</td>\n",
       "      <td>NaN</td>\n",
       "    </tr>\n",
       "  </tbody>\n",
       "</table>\n",
       "</div>"
      ],
      "text/plain": [
       "   subset           id              name  \\\n",
       "0  3_STAR  CHEBI:24431   chemical entity   \n",
       "1  3_STAR  CHEBI:23367  molecular entity   \n",
       "2  3_STAR  CHEBI:24870               ion   \n",
       "3  3_STAR  CHEBI:24867    monoatomic ion   \n",
       "4  3_STAR  CHEBI:23905  monoatomic anion   \n",
       "\n",
       "                                                 def xref ikey alt_id  \\\n",
       "0  \"A chemical entity is a physical entity of int...  NaN  NaN    NaN   \n",
       "1  \"Any constitutionally or isotopically distinct...  NaN  NaN    NaN   \n",
       "2  \"A molecular entity having a net electric char...  NaN  NaN    NaN   \n",
       "3                                                NaN  NaN  NaN    NaN   \n",
       "4                                                NaN  NaN  NaN    NaN   \n",
       "\n",
       "   is_obsolete id_src          mesh  \n",
       "0        False  CHEBI           NaN  \n",
       "1        False  CHEBI           NaN  \n",
       "2        False  CHEBI  MESH:D007477  \n",
       "3        False  CHEBI           NaN  \n",
       "4        False  CHEBI           NaN  "
      ]
     },
     "execution_count": 120,
     "metadata": {},
     "output_type": "execute_result"
    }
   ],
   "source": [
    "chebi = chebi.drop('mesh', axis=1).rename(columns={'new_mesh':'mesh'})\n",
    "chebi.head()"
   ]
  },
  {
   "cell_type": "code",
   "execution_count": 121,
   "metadata": {},
   "outputs": [
    {
     "data": {
      "text/plain": [
       "21050"
      ]
     },
     "execution_count": 121,
     "metadata": {},
     "output_type": "execute_result"
    }
   ],
   "source": [
    "# Non-compound chebi terms\n",
    "len(chebi[chebi['ikey'].isnull()])"
   ]
  },
  {
   "cell_type": "code",
   "execution_count": 122,
   "metadata": {},
   "outputs": [
    {
     "data": {
      "text/plain": [
       "827"
      ]
     },
     "execution_count": 122,
     "metadata": {},
     "output_type": "execute_result"
    }
   ],
   "source": [
    "chebi[chebi['ikey'].isnull()]['mesh'].count()"
   ]
  },
  {
   "cell_type": "markdown",
   "metadata": {},
   "source": [
    "## MyChem to try and pick up any stragglers\n",
    "\n",
    "Now Go to mychem to get as many results as we can for the rest..."
   ]
  },
  {
   "cell_type": "code",
   "execution_count": 123,
   "metadata": {},
   "outputs": [],
   "source": [
    "cheb_ids = chebi[chebi['mesh'].isnull()]['id'].unique()\n",
    "res = load_api_results(out_dir.joinpath('chebi_mychem_info_{}.pkl'), scrape_function=bp.download_mychem_ids, \n",
    "                         chem_ids=cheb_ids)\n",
    "\n",
    "cheb_comps = bp.process_chemicals_in_mychem_results(res)"
   ]
  },
  {
   "cell_type": "code",
   "execution_count": 124,
   "metadata": {},
   "outputs": [
    {
     "data": {
      "text/plain": [
       "105125"
      ]
     },
     "execution_count": 124,
     "metadata": {},
     "output_type": "execute_result"
    }
   ],
   "source": [
    "len(cheb_ids)"
   ]
  },
  {
   "cell_type": "code",
   "execution_count": 125,
   "metadata": {},
   "outputs": [
    {
     "data": {
      "text/plain": [
       "113750"
      ]
     },
     "execution_count": 125,
     "metadata": {},
     "output_type": "execute_result"
    }
   ],
   "source": [
    "len(chebi)"
   ]
  },
  {
   "cell_type": "code",
   "execution_count": 126,
   "metadata": {},
   "outputs": [
    {
     "data": {
      "text/plain": [
       "chebi_id       93695\n",
       "chembl_id      23094\n",
       "drugbank_id     1424\n",
       "unii_id         6774\n",
       "mesh_id          313\n",
       "name           92739\n",
       "ikey           84962\n",
       "id             93695\n",
       "source         93695\n",
       "dtype: int64"
      ]
     },
     "execution_count": 126,
     "metadata": {},
     "output_type": "execute_result"
    }
   ],
   "source": [
    "cheb_comps.drop('q', axis=1).dropna(how='all').count()"
   ]
  },
  {
   "cell_type": "code",
   "execution_count": 127,
   "metadata": {},
   "outputs": [
    {
     "data": {
      "text/html": [
       "<div>\n",
       "<style scoped>\n",
       "    .dataframe tbody tr th:only-of-type {\n",
       "        vertical-align: middle;\n",
       "    }\n",
       "\n",
       "    .dataframe tbody tr th {\n",
       "        vertical-align: top;\n",
       "    }\n",
       "\n",
       "    .dataframe thead th {\n",
       "        text-align: right;\n",
       "    }\n",
       "</style>\n",
       "<table border=\"1\" class=\"dataframe\">\n",
       "  <thead>\n",
       "    <tr style=\"text-align: right;\">\n",
       "      <th></th>\n",
       "      <th>chebi_id</th>\n",
       "      <th>chembl_id</th>\n",
       "      <th>drugbank_id</th>\n",
       "      <th>unii_id</th>\n",
       "      <th>mesh_id</th>\n",
       "      <th>name</th>\n",
       "      <th>ikey</th>\n",
       "      <th>id</th>\n",
       "      <th>source</th>\n",
       "    </tr>\n",
       "  </thead>\n",
       "  <tbody>\n",
       "    <tr>\n",
       "      <th>4</th>\n",
       "      <td>CHEBI:33429</td>\n",
       "      <td>NaN</td>\n",
       "      <td>NaN</td>\n",
       "      <td>NaN</td>\n",
       "      <td>NaN</td>\n",
       "      <td>Monoatomic monoanion</td>\n",
       "      <td>NaN</td>\n",
       "      <td>CHEBI:33429</td>\n",
       "      <td>chebi</td>\n",
       "    </tr>\n",
       "    <tr>\n",
       "      <th>5</th>\n",
       "      <td>CHEBI:30151</td>\n",
       "      <td>NaN</td>\n",
       "      <td>NaN</td>\n",
       "      <td>NaN</td>\n",
       "      <td>NaN</td>\n",
       "      <td>Aluminide(1-)</td>\n",
       "      <td>SBLSYFIUPXRQRY-UHFFFAOYSA-N</td>\n",
       "      <td>SBLSYFIUPXRQRY-UHFFFAOYSA-N</td>\n",
       "      <td>ikey</td>\n",
       "    </tr>\n",
       "    <tr>\n",
       "      <th>6</th>\n",
       "      <td>CHEBI:16042</td>\n",
       "      <td>NaN</td>\n",
       "      <td>NaN</td>\n",
       "      <td>NaN</td>\n",
       "      <td>NaN</td>\n",
       "      <td>Halide anion</td>\n",
       "      <td>NaN</td>\n",
       "      <td>CHEBI:16042</td>\n",
       "      <td>chebi</td>\n",
       "    </tr>\n",
       "    <tr>\n",
       "      <th>8</th>\n",
       "      <td>CHEBI:51990</td>\n",
       "      <td>CHEMBL1078233</td>\n",
       "      <td>NaN</td>\n",
       "      <td>2618F0C37I</td>\n",
       "      <td>NaN</td>\n",
       "      <td>Tetrabutylammonium fluoride</td>\n",
       "      <td>FPGGTKZVZWFYPV-UHFFFAOYSA-M</td>\n",
       "      <td>FPGGTKZVZWFYPV-UHFFFAOYSA-M</td>\n",
       "      <td>ikey</td>\n",
       "    </tr>\n",
       "    <tr>\n",
       "      <th>9</th>\n",
       "      <td>CHEBI:135933</td>\n",
       "      <td>NaN</td>\n",
       "      <td>DB11092</td>\n",
       "      <td>NaN</td>\n",
       "      <td>MESH:D014002</td>\n",
       "      <td>Stannous fluoride</td>\n",
       "      <td>ANOBYBYXJXCGBS-UHFFFAOYSA-L</td>\n",
       "      <td>ANOBYBYXJXCGBS-UHFFFAOYSA-L</td>\n",
       "      <td>ikey</td>\n",
       "    </tr>\n",
       "  </tbody>\n",
       "</table>\n",
       "</div>"
      ],
      "text/plain": [
       "       chebi_id      chembl_id drugbank_id     unii_id       mesh_id  \\\n",
       "4   CHEBI:33429            NaN         NaN         NaN           NaN   \n",
       "5   CHEBI:30151            NaN         NaN         NaN           NaN   \n",
       "6   CHEBI:16042            NaN         NaN         NaN           NaN   \n",
       "8   CHEBI:51990  CHEMBL1078233         NaN  2618F0C37I           NaN   \n",
       "9  CHEBI:135933            NaN     DB11092         NaN  MESH:D014002   \n",
       "\n",
       "                          name                         ikey  \\\n",
       "4         Monoatomic monoanion                          NaN   \n",
       "5                Aluminide(1-)  SBLSYFIUPXRQRY-UHFFFAOYSA-N   \n",
       "6                 Halide anion                          NaN   \n",
       "8  Tetrabutylammonium fluoride  FPGGTKZVZWFYPV-UHFFFAOYSA-M   \n",
       "9            Stannous fluoride  ANOBYBYXJXCGBS-UHFFFAOYSA-L   \n",
       "\n",
       "                            id source  \n",
       "4                  CHEBI:33429  chebi  \n",
       "5  SBLSYFIUPXRQRY-UHFFFAOYSA-N   ikey  \n",
       "6                  CHEBI:16042  chebi  \n",
       "8  FPGGTKZVZWFYPV-UHFFFAOYSA-M   ikey  \n",
       "9  ANOBYBYXJXCGBS-UHFFFAOYSA-L   ikey  "
      ]
     },
     "execution_count": 127,
     "metadata": {},
     "output_type": "execute_result"
    }
   ],
   "source": [
    "cheb_comps.drop('q', axis=1).dropna(how='all').head()"
   ]
  },
  {
   "cell_type": "code",
   "execution_count": 128,
   "metadata": {},
   "outputs": [
    {
     "data": {
      "text/html": [
       "<div>\n",
       "<style scoped>\n",
       "    .dataframe tbody tr th:only-of-type {\n",
       "        vertical-align: middle;\n",
       "    }\n",
       "\n",
       "    .dataframe tbody tr th {\n",
       "        vertical-align: top;\n",
       "    }\n",
       "\n",
       "    .dataframe thead th {\n",
       "        text-align: right;\n",
       "    }\n",
       "</style>\n",
       "<table border=\"1\" class=\"dataframe\">\n",
       "  <thead>\n",
       "    <tr style=\"text-align: right;\">\n",
       "      <th></th>\n",
       "      <th>q</th>\n",
       "      <th>chebi_id</th>\n",
       "      <th>chembl_id</th>\n",
       "      <th>drugbank_id</th>\n",
       "      <th>unii_id</th>\n",
       "      <th>mesh_id</th>\n",
       "      <th>name</th>\n",
       "      <th>ikey</th>\n",
       "      <th>id</th>\n",
       "      <th>source</th>\n",
       "    </tr>\n",
       "  </thead>\n",
       "  <tbody>\n",
       "    <tr>\n",
       "      <th>92141</th>\n",
       "      <td>CHEBI:135443</td>\n",
       "      <td>CHEBI:135443</td>\n",
       "      <td>CHEMBL2110948</td>\n",
       "      <td>DB13507</td>\n",
       "      <td>NaN</td>\n",
       "      <td>MESH:C030725</td>\n",
       "      <td>Poldine</td>\n",
       "      <td>CQRKVVAGMJJJSR-UHFFFAOYSA-N</td>\n",
       "      <td>CQRKVVAGMJJJSR-UHFFFAOYSA-N</td>\n",
       "      <td>ikey</td>\n",
       "    </tr>\n",
       "    <tr>\n",
       "      <th>92140</th>\n",
       "      <td>CHEBI:135443</td>\n",
       "      <td>CHEBI:135443</td>\n",
       "      <td>CHEMBL2110948</td>\n",
       "      <td>DB13507</td>\n",
       "      <td>NaN</td>\n",
       "      <td>MESH:C100295</td>\n",
       "      <td>Poldine</td>\n",
       "      <td>CQRKVVAGMJJJSR-UHFFFAOYSA-N</td>\n",
       "      <td>CQRKVVAGMJJJSR-UHFFFAOYSA-N</td>\n",
       "      <td>ikey</td>\n",
       "    </tr>\n",
       "    <tr>\n",
       "      <th>61404</th>\n",
       "      <td>CHEBI:135543</td>\n",
       "      <td>CHEBI:135543</td>\n",
       "      <td>CHEMBL2362372</td>\n",
       "      <td>NaN</td>\n",
       "      <td>NaN</td>\n",
       "      <td>MESH:C010704</td>\n",
       "      <td>Cyclovalone</td>\n",
       "      <td>DHKKONBXGAAFTB-UHFFFAOYSA-N</td>\n",
       "      <td>DHKKONBXGAAFTB-UHFFFAOYSA-N</td>\n",
       "      <td>ikey</td>\n",
       "    </tr>\n",
       "    <tr>\n",
       "      <th>61405</th>\n",
       "      <td>CHEBI:135543</td>\n",
       "      <td>CHEBI:135543</td>\n",
       "      <td>CHEMBL2362372</td>\n",
       "      <td>NaN</td>\n",
       "      <td>NaN</td>\n",
       "      <td>MESH:C000598259</td>\n",
       "      <td>Cyclovalone</td>\n",
       "      <td>DHKKONBXGAAFTB-UHFFFAOYSA-N</td>\n",
       "      <td>DHKKONBXGAAFTB-UHFFFAOYSA-N</td>\n",
       "      <td>ikey</td>\n",
       "    </tr>\n",
       "    <tr>\n",
       "      <th>18226</th>\n",
       "      <td>CHEBI:135901</td>\n",
       "      <td>CHEBI:135901</td>\n",
       "      <td>NaN</td>\n",
       "      <td>NaN</td>\n",
       "      <td>NaN</td>\n",
       "      <td>MESH:C060347</td>\n",
       "      <td>Lanreotide</td>\n",
       "      <td>PUDHBTGHUJUUFI-PURAGXGVSA-N</td>\n",
       "      <td>PUDHBTGHUJUUFI-PURAGXGVSA-N</td>\n",
       "      <td>ikey</td>\n",
       "    </tr>\n",
       "    <tr>\n",
       "      <th>18227</th>\n",
       "      <td>CHEBI:135901</td>\n",
       "      <td>CHEBI:135901</td>\n",
       "      <td>NaN</td>\n",
       "      <td>NaN</td>\n",
       "      <td>NaN</td>\n",
       "      <td>MESH:C056058</td>\n",
       "      <td>Lanreotide</td>\n",
       "      <td>PUDHBTGHUJUUFI-PURAGXGVSA-N</td>\n",
       "      <td>PUDHBTGHUJUUFI-PURAGXGVSA-N</td>\n",
       "      <td>ikey</td>\n",
       "    </tr>\n",
       "    <tr>\n",
       "      <th>101925</th>\n",
       "      <td>CHEBI:50819</td>\n",
       "      <td>CHEBI:50819</td>\n",
       "      <td>NaN</td>\n",
       "      <td>DB11576</td>\n",
       "      <td>NaN</td>\n",
       "      <td>MESH:C000499</td>\n",
       "      <td>Ferric oxide</td>\n",
       "      <td>JEIPFZHSYJVQDO-UHFFFAOYSA-N</td>\n",
       "      <td>JEIPFZHSYJVQDO-UHFFFAOYSA-N</td>\n",
       "      <td>ikey</td>\n",
       "    </tr>\n",
       "    <tr>\n",
       "      <th>101926</th>\n",
       "      <td>CHEBI:50819</td>\n",
       "      <td>CHEBI:50819</td>\n",
       "      <td>NaN</td>\n",
       "      <td>DB11576</td>\n",
       "      <td>NaN</td>\n",
       "      <td>MESH:C008169</td>\n",
       "      <td>Ferric oxide</td>\n",
       "      <td>JEIPFZHSYJVQDO-UHFFFAOYSA-N</td>\n",
       "      <td>JEIPFZHSYJVQDO-UHFFFAOYSA-N</td>\n",
       "      <td>ikey</td>\n",
       "    </tr>\n",
       "    <tr>\n",
       "      <th>54558</th>\n",
       "      <td>CHEBI:53440</td>\n",
       "      <td>CHEBI:53440</td>\n",
       "      <td>CHEMBL1873783</td>\n",
       "      <td>NaN</td>\n",
       "      <td>NaN</td>\n",
       "      <td>MESH:C029639</td>\n",
       "      <td>2-hydroxypropyl methacrylate</td>\n",
       "      <td>VHSHLMUCYSAUQU-UHFFFAOYSA-N</td>\n",
       "      <td>VHSHLMUCYSAUQU-UHFFFAOYSA-N</td>\n",
       "      <td>ikey</td>\n",
       "    </tr>\n",
       "    <tr>\n",
       "      <th>54559</th>\n",
       "      <td>CHEBI:53440</td>\n",
       "      <td>CHEBI:53440</td>\n",
       "      <td>CHEMBL1873783</td>\n",
       "      <td>NaN</td>\n",
       "      <td>NaN</td>\n",
       "      <td>MESH:C032802</td>\n",
       "      <td>2-hydroxypropyl methacrylate</td>\n",
       "      <td>VHSHLMUCYSAUQU-UHFFFAOYSA-N</td>\n",
       "      <td>VHSHLMUCYSAUQU-UHFFFAOYSA-N</td>\n",
       "      <td>ikey</td>\n",
       "    </tr>\n",
       "    <tr>\n",
       "      <th>16084</th>\n",
       "      <td>CHEBI:63082</td>\n",
       "      <td>CHEBI:63082</td>\n",
       "      <td>CHEMBL1256786</td>\n",
       "      <td>DB00983</td>\n",
       "      <td>NaN</td>\n",
       "      <td>MESH:C012629</td>\n",
       "      <td>Formoterol</td>\n",
       "      <td>BPZSYCZIITTYBL-UHFFFAOYSA-N</td>\n",
       "      <td>BPZSYCZIITTYBL-UHFFFAOYSA-N</td>\n",
       "      <td>ikey</td>\n",
       "    </tr>\n",
       "    <tr>\n",
       "      <th>16083</th>\n",
       "      <td>CHEBI:63082</td>\n",
       "      <td>CHEBI:63082</td>\n",
       "      <td>CHEMBL1256786</td>\n",
       "      <td>DB00983</td>\n",
       "      <td>NaN</td>\n",
       "      <td>MESH:D000068759</td>\n",
       "      <td>Formoterol</td>\n",
       "      <td>BPZSYCZIITTYBL-UHFFFAOYSA-N</td>\n",
       "      <td>BPZSYCZIITTYBL-UHFFFAOYSA-N</td>\n",
       "      <td>ikey</td>\n",
       "    </tr>\n",
       "    <tr>\n",
       "      <th>92041</th>\n",
       "      <td>CHEBI:91829</td>\n",
       "      <td>CHEBI:91829</td>\n",
       "      <td>CHEMBL92915</td>\n",
       "      <td>NaN</td>\n",
       "      <td>NaN</td>\n",
       "      <td>MESH:C012725</td>\n",
       "      <td>Aminopentamide sulfate</td>\n",
       "      <td>NARHAGIVSFTMIG-UHFFFAOYSA-N</td>\n",
       "      <td>NARHAGIVSFTMIG-UHFFFAOYSA-N</td>\n",
       "      <td>ikey</td>\n",
       "    </tr>\n",
       "    <tr>\n",
       "      <th>92042</th>\n",
       "      <td>CHEBI:91829</td>\n",
       "      <td>CHEBI:91829</td>\n",
       "      <td>CHEMBL92915</td>\n",
       "      <td>NaN</td>\n",
       "      <td>NaN</td>\n",
       "      <td>MESH:C055998</td>\n",
       "      <td>Aminopentamide sulfate</td>\n",
       "      <td>NARHAGIVSFTMIG-UHFFFAOYSA-N</td>\n",
       "      <td>NARHAGIVSFTMIG-UHFFFAOYSA-N</td>\n",
       "      <td>ikey</td>\n",
       "    </tr>\n",
       "    <tr>\n",
       "      <th>86957</th>\n",
       "      <td>CHEBI:93235</td>\n",
       "      <td>CHEBI:93235</td>\n",
       "      <td>NaN</td>\n",
       "      <td>NaN</td>\n",
       "      <td>NaN</td>\n",
       "      <td>MESH:D005475</td>\n",
       "      <td>2-[4-[3-[2-(trifluoromethyl)-9-thioxanthenylid...</td>\n",
       "      <td>NJMYODHXAKYRHW-UHFFFAOYSA-N</td>\n",
       "      <td>NJMYODHXAKYRHW-UHFFFAOYSA-N</td>\n",
       "      <td>ikey</td>\n",
       "    </tr>\n",
       "    <tr>\n",
       "      <th>86958</th>\n",
       "      <td>CHEBI:93235</td>\n",
       "      <td>CHEBI:93235</td>\n",
       "      <td>NaN</td>\n",
       "      <td>NaN</td>\n",
       "      <td>NaN</td>\n",
       "      <td>MESH:C007761</td>\n",
       "      <td>2-[4-[3-[2-(trifluoromethyl)-9-thioxanthenylid...</td>\n",
       "      <td>NJMYODHXAKYRHW-UHFFFAOYSA-N</td>\n",
       "      <td>NJMYODHXAKYRHW-UHFFFAOYSA-N</td>\n",
       "      <td>ikey</td>\n",
       "    </tr>\n",
       "    <tr>\n",
       "      <th>22808</th>\n",
       "      <td>CHEBI:9943</td>\n",
       "      <td>CHEBI:9943</td>\n",
       "      <td>CHEMBL637</td>\n",
       "      <td>DB00285</td>\n",
       "      <td>NaN</td>\n",
       "      <td>MESH:D000069470</td>\n",
       "      <td>Venlafaxine</td>\n",
       "      <td>PNVNVHUZROJLTJ-UHFFFAOYSA-N</td>\n",
       "      <td>PNVNVHUZROJLTJ-UHFFFAOYSA-N</td>\n",
       "      <td>ikey</td>\n",
       "    </tr>\n",
       "    <tr>\n",
       "      <th>22807</th>\n",
       "      <td>CHEBI:9943</td>\n",
       "      <td>CHEBI:9943</td>\n",
       "      <td>CHEMBL637</td>\n",
       "      <td>DB00285</td>\n",
       "      <td>NaN</td>\n",
       "      <td>MESH:C047426</td>\n",
       "      <td>Venlafaxine</td>\n",
       "      <td>PNVNVHUZROJLTJ-UHFFFAOYSA-N</td>\n",
       "      <td>PNVNVHUZROJLTJ-UHFFFAOYSA-N</td>\n",
       "      <td>ikey</td>\n",
       "    </tr>\n",
       "  </tbody>\n",
       "</table>\n",
       "</div>"
      ],
      "text/plain": [
       "                   q      chebi_id      chembl_id drugbank_id unii_id  \\\n",
       "92141   CHEBI:135443  CHEBI:135443  CHEMBL2110948     DB13507     NaN   \n",
       "92140   CHEBI:135443  CHEBI:135443  CHEMBL2110948     DB13507     NaN   \n",
       "61404   CHEBI:135543  CHEBI:135543  CHEMBL2362372         NaN     NaN   \n",
       "61405   CHEBI:135543  CHEBI:135543  CHEMBL2362372         NaN     NaN   \n",
       "18226   CHEBI:135901  CHEBI:135901            NaN         NaN     NaN   \n",
       "18227   CHEBI:135901  CHEBI:135901            NaN         NaN     NaN   \n",
       "101925   CHEBI:50819   CHEBI:50819            NaN     DB11576     NaN   \n",
       "101926   CHEBI:50819   CHEBI:50819            NaN     DB11576     NaN   \n",
       "54558    CHEBI:53440   CHEBI:53440  CHEMBL1873783         NaN     NaN   \n",
       "54559    CHEBI:53440   CHEBI:53440  CHEMBL1873783         NaN     NaN   \n",
       "16084    CHEBI:63082   CHEBI:63082  CHEMBL1256786     DB00983     NaN   \n",
       "16083    CHEBI:63082   CHEBI:63082  CHEMBL1256786     DB00983     NaN   \n",
       "92041    CHEBI:91829   CHEBI:91829    CHEMBL92915         NaN     NaN   \n",
       "92042    CHEBI:91829   CHEBI:91829    CHEMBL92915         NaN     NaN   \n",
       "86957    CHEBI:93235   CHEBI:93235            NaN         NaN     NaN   \n",
       "86958    CHEBI:93235   CHEBI:93235            NaN         NaN     NaN   \n",
       "22808     CHEBI:9943    CHEBI:9943      CHEMBL637     DB00285     NaN   \n",
       "22807     CHEBI:9943    CHEBI:9943      CHEMBL637     DB00285     NaN   \n",
       "\n",
       "                mesh_id                                               name  \\\n",
       "92141      MESH:C030725                                            Poldine   \n",
       "92140      MESH:C100295                                            Poldine   \n",
       "61404      MESH:C010704                                        Cyclovalone   \n",
       "61405   MESH:C000598259                                        Cyclovalone   \n",
       "18226      MESH:C060347                                         Lanreotide   \n",
       "18227      MESH:C056058                                         Lanreotide   \n",
       "101925     MESH:C000499                                       Ferric oxide   \n",
       "101926     MESH:C008169                                       Ferric oxide   \n",
       "54558      MESH:C029639                       2-hydroxypropyl methacrylate   \n",
       "54559      MESH:C032802                       2-hydroxypropyl methacrylate   \n",
       "16084      MESH:C012629                                         Formoterol   \n",
       "16083   MESH:D000068759                                         Formoterol   \n",
       "92041      MESH:C012725                             Aminopentamide sulfate   \n",
       "92042      MESH:C055998                             Aminopentamide sulfate   \n",
       "86957      MESH:D005475  2-[4-[3-[2-(trifluoromethyl)-9-thioxanthenylid...   \n",
       "86958      MESH:C007761  2-[4-[3-[2-(trifluoromethyl)-9-thioxanthenylid...   \n",
       "22808   MESH:D000069470                                        Venlafaxine   \n",
       "22807      MESH:C047426                                        Venlafaxine   \n",
       "\n",
       "                               ikey                           id source  \n",
       "92141   CQRKVVAGMJJJSR-UHFFFAOYSA-N  CQRKVVAGMJJJSR-UHFFFAOYSA-N   ikey  \n",
       "92140   CQRKVVAGMJJJSR-UHFFFAOYSA-N  CQRKVVAGMJJJSR-UHFFFAOYSA-N   ikey  \n",
       "61404   DHKKONBXGAAFTB-UHFFFAOYSA-N  DHKKONBXGAAFTB-UHFFFAOYSA-N   ikey  \n",
       "61405   DHKKONBXGAAFTB-UHFFFAOYSA-N  DHKKONBXGAAFTB-UHFFFAOYSA-N   ikey  \n",
       "18226   PUDHBTGHUJUUFI-PURAGXGVSA-N  PUDHBTGHUJUUFI-PURAGXGVSA-N   ikey  \n",
       "18227   PUDHBTGHUJUUFI-PURAGXGVSA-N  PUDHBTGHUJUUFI-PURAGXGVSA-N   ikey  \n",
       "101925  JEIPFZHSYJVQDO-UHFFFAOYSA-N  JEIPFZHSYJVQDO-UHFFFAOYSA-N   ikey  \n",
       "101926  JEIPFZHSYJVQDO-UHFFFAOYSA-N  JEIPFZHSYJVQDO-UHFFFAOYSA-N   ikey  \n",
       "54558   VHSHLMUCYSAUQU-UHFFFAOYSA-N  VHSHLMUCYSAUQU-UHFFFAOYSA-N   ikey  \n",
       "54559   VHSHLMUCYSAUQU-UHFFFAOYSA-N  VHSHLMUCYSAUQU-UHFFFAOYSA-N   ikey  \n",
       "16084   BPZSYCZIITTYBL-UHFFFAOYSA-N  BPZSYCZIITTYBL-UHFFFAOYSA-N   ikey  \n",
       "16083   BPZSYCZIITTYBL-UHFFFAOYSA-N  BPZSYCZIITTYBL-UHFFFAOYSA-N   ikey  \n",
       "92041   NARHAGIVSFTMIG-UHFFFAOYSA-N  NARHAGIVSFTMIG-UHFFFAOYSA-N   ikey  \n",
       "92042   NARHAGIVSFTMIG-UHFFFAOYSA-N  NARHAGIVSFTMIG-UHFFFAOYSA-N   ikey  \n",
       "86957   NJMYODHXAKYRHW-UHFFFAOYSA-N  NJMYODHXAKYRHW-UHFFFAOYSA-N   ikey  \n",
       "86958   NJMYODHXAKYRHW-UHFFFAOYSA-N  NJMYODHXAKYRHW-UHFFFAOYSA-N   ikey  \n",
       "22808   PNVNVHUZROJLTJ-UHFFFAOYSA-N  PNVNVHUZROJLTJ-UHFFFAOYSA-N   ikey  \n",
       "22807   PNVNVHUZROJLTJ-UHFFFAOYSA-N  PNVNVHUZROJLTJ-UHFFFAOYSA-N   ikey  "
      ]
     },
     "execution_count": 128,
     "metadata": {},
     "output_type": "execute_result"
    }
   ],
   "source": [
    "cheb_comp_exp = expand_col_on_char(cheb_comps, 'mesh_id', '|')\n",
    "\n",
    "idx = cheb_comp_exp.dropna(subset=['mesh_id'])['q'].duplicated(keep=False)\n",
    "idx = idx[idx].index\n",
    "\n",
    "duped_chebs = cheb_comp_exp.loc[idx].sort_values('q')\n",
    "duped_chebs"
   ]
  },
  {
   "cell_type": "code",
   "execution_count": 129,
   "metadata": {},
   "outputs": [
    {
     "data": {
      "text/html": [
       "<div>\n",
       "<style scoped>\n",
       "    .dataframe tbody tr th:only-of-type {\n",
       "        vertical-align: middle;\n",
       "    }\n",
       "\n",
       "    .dataframe tbody tr th {\n",
       "        vertical-align: top;\n",
       "    }\n",
       "\n",
       "    .dataframe thead th {\n",
       "        text-align: right;\n",
       "    }\n",
       "</style>\n",
       "<table border=\"1\" class=\"dataframe\">\n",
       "  <thead>\n",
       "    <tr style=\"text-align: right;\">\n",
       "      <th></th>\n",
       "      <th>q</th>\n",
       "      <th>chebi_id</th>\n",
       "      <th>chembl_id</th>\n",
       "      <th>drugbank_id</th>\n",
       "      <th>unii_id</th>\n",
       "      <th>mesh_id</th>\n",
       "      <th>name</th>\n",
       "      <th>ikey</th>\n",
       "      <th>id</th>\n",
       "      <th>source</th>\n",
       "      <th>mesh_name</th>\n",
       "    </tr>\n",
       "  </thead>\n",
       "  <tbody>\n",
       "    <tr>\n",
       "      <th>92141</th>\n",
       "      <td>CHEBI:135443</td>\n",
       "      <td>CHEBI:135443</td>\n",
       "      <td>CHEMBL2110948</td>\n",
       "      <td>DB13507</td>\n",
       "      <td>NaN</td>\n",
       "      <td>MESH:C030725</td>\n",
       "      <td>Poldine</td>\n",
       "      <td>CQRKVVAGMJJJSR-UHFFFAOYSA-N</td>\n",
       "      <td>CQRKVVAGMJJJSR-UHFFFAOYSA-N</td>\n",
       "      <td>ikey</td>\n",
       "      <td>poldine methylsulfate</td>\n",
       "    </tr>\n",
       "    <tr>\n",
       "      <th>92140</th>\n",
       "      <td>CHEBI:135443</td>\n",
       "      <td>CHEBI:135443</td>\n",
       "      <td>CHEMBL2110948</td>\n",
       "      <td>DB13507</td>\n",
       "      <td>NaN</td>\n",
       "      <td>MESH:C100295</td>\n",
       "      <td>Poldine</td>\n",
       "      <td>CQRKVVAGMJJJSR-UHFFFAOYSA-N</td>\n",
       "      <td>CQRKVVAGMJJJSR-UHFFFAOYSA-N</td>\n",
       "      <td>ikey</td>\n",
       "      <td>poldine</td>\n",
       "    </tr>\n",
       "    <tr>\n",
       "      <th>61404</th>\n",
       "      <td>CHEBI:135543</td>\n",
       "      <td>CHEBI:135543</td>\n",
       "      <td>CHEMBL2362372</td>\n",
       "      <td>NaN</td>\n",
       "      <td>NaN</td>\n",
       "      <td>MESH:C010704</td>\n",
       "      <td>Cyclovalone</td>\n",
       "      <td>DHKKONBXGAAFTB-UHFFFAOYSA-N</td>\n",
       "      <td>DHKKONBXGAAFTB-UHFFFAOYSA-N</td>\n",
       "      <td>ikey</td>\n",
       "      <td>cyqualon</td>\n",
       "    </tr>\n",
       "    <tr>\n",
       "      <th>61405</th>\n",
       "      <td>CHEBI:135543</td>\n",
       "      <td>CHEBI:135543</td>\n",
       "      <td>CHEMBL2362372</td>\n",
       "      <td>NaN</td>\n",
       "      <td>NaN</td>\n",
       "      <td>MESH:C000598259</td>\n",
       "      <td>Cyclovalone</td>\n",
       "      <td>DHKKONBXGAAFTB-UHFFFAOYSA-N</td>\n",
       "      <td>DHKKONBXGAAFTB-UHFFFAOYSA-N</td>\n",
       "      <td>ikey</td>\n",
       "      <td>cyclovalone</td>\n",
       "    </tr>\n",
       "    <tr>\n",
       "      <th>18226</th>\n",
       "      <td>CHEBI:135901</td>\n",
       "      <td>CHEBI:135901</td>\n",
       "      <td>NaN</td>\n",
       "      <td>NaN</td>\n",
       "      <td>NaN</td>\n",
       "      <td>MESH:C060347</td>\n",
       "      <td>Lanreotide</td>\n",
       "      <td>PUDHBTGHUJUUFI-PURAGXGVSA-N</td>\n",
       "      <td>PUDHBTGHUJUUFI-PURAGXGVSA-N</td>\n",
       "      <td>ikey</td>\n",
       "      <td>lanreotide</td>\n",
       "    </tr>\n",
       "    <tr>\n",
       "      <th>18227</th>\n",
       "      <td>CHEBI:135901</td>\n",
       "      <td>CHEBI:135901</td>\n",
       "      <td>NaN</td>\n",
       "      <td>NaN</td>\n",
       "      <td>NaN</td>\n",
       "      <td>MESH:C056058</td>\n",
       "      <td>Lanreotide</td>\n",
       "      <td>PUDHBTGHUJUUFI-PURAGXGVSA-N</td>\n",
       "      <td>PUDHBTGHUJUUFI-PURAGXGVSA-N</td>\n",
       "      <td>ikey</td>\n",
       "      <td>angiopeptin</td>\n",
       "    </tr>\n",
       "    <tr>\n",
       "      <th>101925</th>\n",
       "      <td>CHEBI:50819</td>\n",
       "      <td>CHEBI:50819</td>\n",
       "      <td>NaN</td>\n",
       "      <td>DB11576</td>\n",
       "      <td>NaN</td>\n",
       "      <td>MESH:C000499</td>\n",
       "      <td>Ferric oxide</td>\n",
       "      <td>JEIPFZHSYJVQDO-UHFFFAOYSA-N</td>\n",
       "      <td>JEIPFZHSYJVQDO-UHFFFAOYSA-N</td>\n",
       "      <td>ikey</td>\n",
       "      <td>ferric oxide</td>\n",
       "    </tr>\n",
       "    <tr>\n",
       "      <th>101926</th>\n",
       "      <td>CHEBI:50819</td>\n",
       "      <td>CHEBI:50819</td>\n",
       "      <td>NaN</td>\n",
       "      <td>DB11576</td>\n",
       "      <td>NaN</td>\n",
       "      <td>MESH:C008169</td>\n",
       "      <td>Ferric oxide</td>\n",
       "      <td>JEIPFZHSYJVQDO-UHFFFAOYSA-N</td>\n",
       "      <td>JEIPFZHSYJVQDO-UHFFFAOYSA-N</td>\n",
       "      <td>ikey</td>\n",
       "      <td>NaN</td>\n",
       "    </tr>\n",
       "    <tr>\n",
       "      <th>54558</th>\n",
       "      <td>CHEBI:53440</td>\n",
       "      <td>CHEBI:53440</td>\n",
       "      <td>CHEMBL1873783</td>\n",
       "      <td>NaN</td>\n",
       "      <td>NaN</td>\n",
       "      <td>MESH:C029639</td>\n",
       "      <td>2-hydroxypropyl methacrylate</td>\n",
       "      <td>VHSHLMUCYSAUQU-UHFFFAOYSA-N</td>\n",
       "      <td>VHSHLMUCYSAUQU-UHFFFAOYSA-N</td>\n",
       "      <td>ikey</td>\n",
       "      <td>2-hydroxypropyl methacrylate</td>\n",
       "    </tr>\n",
       "    <tr>\n",
       "      <th>54559</th>\n",
       "      <td>CHEBI:53440</td>\n",
       "      <td>CHEBI:53440</td>\n",
       "      <td>CHEMBL1873783</td>\n",
       "      <td>NaN</td>\n",
       "      <td>NaN</td>\n",
       "      <td>MESH:C032802</td>\n",
       "      <td>2-hydroxypropyl methacrylate</td>\n",
       "      <td>VHSHLMUCYSAUQU-UHFFFAOYSA-N</td>\n",
       "      <td>VHSHLMUCYSAUQU-UHFFFAOYSA-N</td>\n",
       "      <td>ikey</td>\n",
       "      <td>hydroxypropyl methacrylate</td>\n",
       "    </tr>\n",
       "    <tr>\n",
       "      <th>16084</th>\n",
       "      <td>CHEBI:63082</td>\n",
       "      <td>CHEBI:63082</td>\n",
       "      <td>CHEMBL1256786</td>\n",
       "      <td>DB00983</td>\n",
       "      <td>NaN</td>\n",
       "      <td>MESH:C012629</td>\n",
       "      <td>Formoterol</td>\n",
       "      <td>BPZSYCZIITTYBL-UHFFFAOYSA-N</td>\n",
       "      <td>BPZSYCZIITTYBL-UHFFFAOYSA-N</td>\n",
       "      <td>ikey</td>\n",
       "      <td>NaN</td>\n",
       "    </tr>\n",
       "    <tr>\n",
       "      <th>16083</th>\n",
       "      <td>CHEBI:63082</td>\n",
       "      <td>CHEBI:63082</td>\n",
       "      <td>CHEMBL1256786</td>\n",
       "      <td>DB00983</td>\n",
       "      <td>NaN</td>\n",
       "      <td>MESH:D000068759</td>\n",
       "      <td>Formoterol</td>\n",
       "      <td>BPZSYCZIITTYBL-UHFFFAOYSA-N</td>\n",
       "      <td>BPZSYCZIITTYBL-UHFFFAOYSA-N</td>\n",
       "      <td>ikey</td>\n",
       "      <td>Formoterol Fumarate</td>\n",
       "    </tr>\n",
       "    <tr>\n",
       "      <th>92041</th>\n",
       "      <td>CHEBI:91829</td>\n",
       "      <td>CHEBI:91829</td>\n",
       "      <td>CHEMBL92915</td>\n",
       "      <td>NaN</td>\n",
       "      <td>NaN</td>\n",
       "      <td>MESH:C012725</td>\n",
       "      <td>Aminopentamide sulfate</td>\n",
       "      <td>NARHAGIVSFTMIG-UHFFFAOYSA-N</td>\n",
       "      <td>NARHAGIVSFTMIG-UHFFFAOYSA-N</td>\n",
       "      <td>ikey</td>\n",
       "      <td>aminopentamide</td>\n",
       "    </tr>\n",
       "    <tr>\n",
       "      <th>92042</th>\n",
       "      <td>CHEBI:91829</td>\n",
       "      <td>CHEBI:91829</td>\n",
       "      <td>CHEMBL92915</td>\n",
       "      <td>NaN</td>\n",
       "      <td>NaN</td>\n",
       "      <td>MESH:C055998</td>\n",
       "      <td>Aminopentamide sulfate</td>\n",
       "      <td>NARHAGIVSFTMIG-UHFFFAOYSA-N</td>\n",
       "      <td>NARHAGIVSFTMIG-UHFFFAOYSA-N</td>\n",
       "      <td>ikey</td>\n",
       "      <td>valeramide</td>\n",
       "    </tr>\n",
       "    <tr>\n",
       "      <th>86957</th>\n",
       "      <td>CHEBI:93235</td>\n",
       "      <td>CHEBI:93235</td>\n",
       "      <td>NaN</td>\n",
       "      <td>NaN</td>\n",
       "      <td>NaN</td>\n",
       "      <td>MESH:D005475</td>\n",
       "      <td>2-[4-[3-[2-(trifluoromethyl)-9-thioxanthenylid...</td>\n",
       "      <td>NJMYODHXAKYRHW-UHFFFAOYSA-N</td>\n",
       "      <td>NJMYODHXAKYRHW-UHFFFAOYSA-N</td>\n",
       "      <td>ikey</td>\n",
       "      <td>Flupenthixol</td>\n",
       "    </tr>\n",
       "    <tr>\n",
       "      <th>86958</th>\n",
       "      <td>CHEBI:93235</td>\n",
       "      <td>CHEBI:93235</td>\n",
       "      <td>NaN</td>\n",
       "      <td>NaN</td>\n",
       "      <td>NaN</td>\n",
       "      <td>MESH:C007761</td>\n",
       "      <td>2-[4-[3-[2-(trifluoromethyl)-9-thioxanthenylid...</td>\n",
       "      <td>NJMYODHXAKYRHW-UHFFFAOYSA-N</td>\n",
       "      <td>NJMYODHXAKYRHW-UHFFFAOYSA-N</td>\n",
       "      <td>ikey</td>\n",
       "      <td>flupenthixol decanoate</td>\n",
       "    </tr>\n",
       "    <tr>\n",
       "      <th>22808</th>\n",
       "      <td>CHEBI:9943</td>\n",
       "      <td>CHEBI:9943</td>\n",
       "      <td>CHEMBL637</td>\n",
       "      <td>DB00285</td>\n",
       "      <td>NaN</td>\n",
       "      <td>MESH:D000069470</td>\n",
       "      <td>Venlafaxine</td>\n",
       "      <td>PNVNVHUZROJLTJ-UHFFFAOYSA-N</td>\n",
       "      <td>PNVNVHUZROJLTJ-UHFFFAOYSA-N</td>\n",
       "      <td>ikey</td>\n",
       "      <td>Venlafaxine Hydrochloride</td>\n",
       "    </tr>\n",
       "    <tr>\n",
       "      <th>22807</th>\n",
       "      <td>CHEBI:9943</td>\n",
       "      <td>CHEBI:9943</td>\n",
       "      <td>CHEMBL637</td>\n",
       "      <td>DB00285</td>\n",
       "      <td>NaN</td>\n",
       "      <td>MESH:C047426</td>\n",
       "      <td>Venlafaxine</td>\n",
       "      <td>PNVNVHUZROJLTJ-UHFFFAOYSA-N</td>\n",
       "      <td>PNVNVHUZROJLTJ-UHFFFAOYSA-N</td>\n",
       "      <td>ikey</td>\n",
       "      <td>NaN</td>\n",
       "    </tr>\n",
       "  </tbody>\n",
       "</table>\n",
       "</div>"
      ],
      "text/plain": [
       "                   q      chebi_id      chembl_id drugbank_id unii_id  \\\n",
       "92141   CHEBI:135443  CHEBI:135443  CHEMBL2110948     DB13507     NaN   \n",
       "92140   CHEBI:135443  CHEBI:135443  CHEMBL2110948     DB13507     NaN   \n",
       "61404   CHEBI:135543  CHEBI:135543  CHEMBL2362372         NaN     NaN   \n",
       "61405   CHEBI:135543  CHEBI:135543  CHEMBL2362372         NaN     NaN   \n",
       "18226   CHEBI:135901  CHEBI:135901            NaN         NaN     NaN   \n",
       "18227   CHEBI:135901  CHEBI:135901            NaN         NaN     NaN   \n",
       "101925   CHEBI:50819   CHEBI:50819            NaN     DB11576     NaN   \n",
       "101926   CHEBI:50819   CHEBI:50819            NaN     DB11576     NaN   \n",
       "54558    CHEBI:53440   CHEBI:53440  CHEMBL1873783         NaN     NaN   \n",
       "54559    CHEBI:53440   CHEBI:53440  CHEMBL1873783         NaN     NaN   \n",
       "16084    CHEBI:63082   CHEBI:63082  CHEMBL1256786     DB00983     NaN   \n",
       "16083    CHEBI:63082   CHEBI:63082  CHEMBL1256786     DB00983     NaN   \n",
       "92041    CHEBI:91829   CHEBI:91829    CHEMBL92915         NaN     NaN   \n",
       "92042    CHEBI:91829   CHEBI:91829    CHEMBL92915         NaN     NaN   \n",
       "86957    CHEBI:93235   CHEBI:93235            NaN         NaN     NaN   \n",
       "86958    CHEBI:93235   CHEBI:93235            NaN         NaN     NaN   \n",
       "22808     CHEBI:9943    CHEBI:9943      CHEMBL637     DB00285     NaN   \n",
       "22807     CHEBI:9943    CHEBI:9943      CHEMBL637     DB00285     NaN   \n",
       "\n",
       "                mesh_id                                               name  \\\n",
       "92141      MESH:C030725                                            Poldine   \n",
       "92140      MESH:C100295                                            Poldine   \n",
       "61404      MESH:C010704                                        Cyclovalone   \n",
       "61405   MESH:C000598259                                        Cyclovalone   \n",
       "18226      MESH:C060347                                         Lanreotide   \n",
       "18227      MESH:C056058                                         Lanreotide   \n",
       "101925     MESH:C000499                                       Ferric oxide   \n",
       "101926     MESH:C008169                                       Ferric oxide   \n",
       "54558      MESH:C029639                       2-hydroxypropyl methacrylate   \n",
       "54559      MESH:C032802                       2-hydroxypropyl methacrylate   \n",
       "16084      MESH:C012629                                         Formoterol   \n",
       "16083   MESH:D000068759                                         Formoterol   \n",
       "92041      MESH:C012725                             Aminopentamide sulfate   \n",
       "92042      MESH:C055998                             Aminopentamide sulfate   \n",
       "86957      MESH:D005475  2-[4-[3-[2-(trifluoromethyl)-9-thioxanthenylid...   \n",
       "86958      MESH:C007761  2-[4-[3-[2-(trifluoromethyl)-9-thioxanthenylid...   \n",
       "22808   MESH:D000069470                                        Venlafaxine   \n",
       "22807      MESH:C047426                                        Venlafaxine   \n",
       "\n",
       "                               ikey                           id source  \\\n",
       "92141   CQRKVVAGMJJJSR-UHFFFAOYSA-N  CQRKVVAGMJJJSR-UHFFFAOYSA-N   ikey   \n",
       "92140   CQRKVVAGMJJJSR-UHFFFAOYSA-N  CQRKVVAGMJJJSR-UHFFFAOYSA-N   ikey   \n",
       "61404   DHKKONBXGAAFTB-UHFFFAOYSA-N  DHKKONBXGAAFTB-UHFFFAOYSA-N   ikey   \n",
       "61405   DHKKONBXGAAFTB-UHFFFAOYSA-N  DHKKONBXGAAFTB-UHFFFAOYSA-N   ikey   \n",
       "18226   PUDHBTGHUJUUFI-PURAGXGVSA-N  PUDHBTGHUJUUFI-PURAGXGVSA-N   ikey   \n",
       "18227   PUDHBTGHUJUUFI-PURAGXGVSA-N  PUDHBTGHUJUUFI-PURAGXGVSA-N   ikey   \n",
       "101925  JEIPFZHSYJVQDO-UHFFFAOYSA-N  JEIPFZHSYJVQDO-UHFFFAOYSA-N   ikey   \n",
       "101926  JEIPFZHSYJVQDO-UHFFFAOYSA-N  JEIPFZHSYJVQDO-UHFFFAOYSA-N   ikey   \n",
       "54558   VHSHLMUCYSAUQU-UHFFFAOYSA-N  VHSHLMUCYSAUQU-UHFFFAOYSA-N   ikey   \n",
       "54559   VHSHLMUCYSAUQU-UHFFFAOYSA-N  VHSHLMUCYSAUQU-UHFFFAOYSA-N   ikey   \n",
       "16084   BPZSYCZIITTYBL-UHFFFAOYSA-N  BPZSYCZIITTYBL-UHFFFAOYSA-N   ikey   \n",
       "16083   BPZSYCZIITTYBL-UHFFFAOYSA-N  BPZSYCZIITTYBL-UHFFFAOYSA-N   ikey   \n",
       "92041   NARHAGIVSFTMIG-UHFFFAOYSA-N  NARHAGIVSFTMIG-UHFFFAOYSA-N   ikey   \n",
       "92042   NARHAGIVSFTMIG-UHFFFAOYSA-N  NARHAGIVSFTMIG-UHFFFAOYSA-N   ikey   \n",
       "86957   NJMYODHXAKYRHW-UHFFFAOYSA-N  NJMYODHXAKYRHW-UHFFFAOYSA-N   ikey   \n",
       "86958   NJMYODHXAKYRHW-UHFFFAOYSA-N  NJMYODHXAKYRHW-UHFFFAOYSA-N   ikey   \n",
       "22808   PNVNVHUZROJLTJ-UHFFFAOYSA-N  PNVNVHUZROJLTJ-UHFFFAOYSA-N   ikey   \n",
       "22807   PNVNVHUZROJLTJ-UHFFFAOYSA-N  PNVNVHUZROJLTJ-UHFFFAOYSA-N   ikey   \n",
       "\n",
       "                           mesh_name  \n",
       "92141          poldine methylsulfate  \n",
       "92140                        poldine  \n",
       "61404                       cyqualon  \n",
       "61405                    cyclovalone  \n",
       "18226                     lanreotide  \n",
       "18227                    angiopeptin  \n",
       "101925                  ferric oxide  \n",
       "101926                           NaN  \n",
       "54558   2-hydroxypropyl methacrylate  \n",
       "54559     hydroxypropyl methacrylate  \n",
       "16084                            NaN  \n",
       "16083            Formoterol Fumarate  \n",
       "92041                 aminopentamide  \n",
       "92042                     valeramide  \n",
       "86957                   Flupenthixol  \n",
       "86958         flupenthixol decanoate  \n",
       "22808      Venlafaxine Hydrochloride  \n",
       "22807                            NaN  "
      ]
     },
     "execution_count": 129,
     "metadata": {},
     "output_type": "execute_result"
    }
   ],
   "source": [
    "duped_chebs['mesh_name'] = duped_chebs['mesh_id'].apply(lambda m: m2name.get(m.split(':')[1], float('nan')))\n",
    "duped_chebs"
   ]
  },
  {
   "cell_type": "code",
   "execution_count": 130,
   "metadata": {},
   "outputs": [],
   "source": [
    "c2m_dict = {**cheb_comp_exp.set_index('q')['mesh_id'].dropna().to_dict(), \n",
    "                      **c2m_dict}"
   ]
  },
  {
   "cell_type": "code",
   "execution_count": 131,
   "metadata": {},
   "outputs": [],
   "source": [
    "c2m_dict['CHEBI:134705'] = 'MESH:C448680' # Etimicin, etimicin\n",
    "c2m_dict['CHEBI:134717'] = 'MESH:C000858' # Decamethoxine, decamethoxine\n",
    "c2m_dict['CHEBI:135169'] = 'MESH:D004629' # Emepronium, Emepronium\n",
    "c2m_dict['CHEBI:135443'] = 'MESH:C100295' # Poldine, poldine\n",
    "c2m_dict['CHEBI:135543'] = 'MESH:C000598259' # Cyclovalone, cyclovalone\n",
    "c2m_dict['CHEBI:135806'] = 'MESH:C061004' # Benidipine, benidipine\n",
    "c2m_dict['CHEBI:135901'] = 'MESH:C060347' # Lanreotide, lanreotide\n",
    "c2m_dict['CHEBI:136049'] = 'MESH:C528396' # Mirodenafil, mirodenafil\n",
    "c2m_dict['CHEBI:50819'] = 'MESH:C000499' # Ferric oxide, ferric oxide\n",
    "c2m_dict['CHEBI:53440'] = 'MESH:C029639' # 2-hydroxypropyl methacrylate, 2-hydroxypropyl methacrylate\n",
    "c2m_dict['CHEBI:63082'] = 'MESH:D000068759' # Formoterol, Formoterol Fumarate\n",
    "c2m_dict['CHEBI:91829'] = 'MESH:C012725' # Aminopentamide sulfate, aminopentamide\n",
    "c2m_dict['CHEBI:93235'] = 'MESH:D005475' # 2-[4-[3-[2-(trifluoromethyl)-9-thioxanthenylidene]propyl]-1-piperazinyl]ethanol, Flupenthixol\n",
    "c2m_dict['CHEBI:9943'] = 'MESH:D000069470' # Venlafaxine, Venlafaxine Hydrochloride\n"
   ]
  },
  {
   "cell_type": "markdown",
   "metadata": {},
   "source": [
    "### Wikidata for some more ikey to mesh mapping"
   ]
  },
  {
   "cell_type": "code",
   "execution_count": 132,
   "metadata": {},
   "outputs": [],
   "source": [
    "query = \"\"\"\n",
    "SELECT DISTINCT ?ikey ?mesh ?item ?itemLabel\n",
    "WHERE \n",
    "{\n",
    "  ?item wdt:P486 ?mesh.\n",
    "  ?item wdt:P235 ?ikey.\n",
    "  SERVICE wikibase:label { bd:serviceParam wikibase:language \"[AUTO_LANGUAGE],en\". }\n",
    "}\n",
    "ORDER BY ?itemLabel\n",
    "\"\"\""
   ]
  },
  {
   "cell_type": "code",
   "execution_count": 133,
   "metadata": {},
   "outputs": [],
   "source": [
    "wd_ikey_to_mesh = execute_sparql_query(query)"
   ]
  },
  {
   "cell_type": "code",
   "execution_count": 134,
   "metadata": {},
   "outputs": [],
   "source": [
    "bad_idx = wd_ikey_to_mesh.index[wd_ikey_to_mesh['mesh'].str.startswith('M')]\n",
    "wd_ikey_to_mesh = wd_ikey_to_mesh.drop(bad_idx)\n",
    "\n",
    "wd_ikey_to_mesh['mesh'] = 'MESH:' + wd_ikey_to_mesh['mesh']\n",
    "wd_ikey_to_mesh['ikey'] = 'IKEY:' + wd_ikey_to_mesh['ikey']\n",
    "\n",
    "# Make an inchikey to mesh map\n",
    "ikey_to_mesh = wd_ikey_to_mesh.set_index('ikey')['mesh'].to_dict()\n",
    "\n",
    "# Could be one to many relations (ikey to mesh), so get rid of those\n",
    "mesh_to_ikey = wd_ikey_to_mesh.drop_duplicates(subset=['mesh'], keep=False).set_index('ikey')['mesh'].to_dict()"
   ]
  },
  {
   "cell_type": "code",
   "execution_count": 135,
   "metadata": {},
   "outputs": [
    {
     "data": {
      "text/plain": [
       "8625"
      ]
     },
     "execution_count": 135,
     "metadata": {},
     "output_type": "execute_result"
    }
   ],
   "source": [
    "chebi['mesh'].count()"
   ]
  },
  {
   "cell_type": "code",
   "execution_count": 136,
   "metadata": {},
   "outputs": [
    {
     "data": {
      "text/html": [
       "<div>\n",
       "<style scoped>\n",
       "    .dataframe tbody tr th:only-of-type {\n",
       "        vertical-align: middle;\n",
       "    }\n",
       "\n",
       "    .dataframe tbody tr th {\n",
       "        vertical-align: top;\n",
       "    }\n",
       "\n",
       "    .dataframe thead th {\n",
       "        text-align: right;\n",
       "    }\n",
       "</style>\n",
       "<table border=\"1\" class=\"dataframe\">\n",
       "  <thead>\n",
       "    <tr style=\"text-align: right;\">\n",
       "      <th></th>\n",
       "      <th>subset</th>\n",
       "      <th>id</th>\n",
       "      <th>name</th>\n",
       "      <th>def</th>\n",
       "      <th>xref</th>\n",
       "      <th>ikey</th>\n",
       "      <th>alt_id</th>\n",
       "      <th>is_obsolete</th>\n",
       "      <th>id_src</th>\n",
       "      <th>mesh</th>\n",
       "    </tr>\n",
       "  </thead>\n",
       "  <tbody>\n",
       "    <tr>\n",
       "      <th>0</th>\n",
       "      <td>3_STAR</td>\n",
       "      <td>CHEBI:24431</td>\n",
       "      <td>chemical entity</td>\n",
       "      <td>\"A chemical entity is a physical entity of int...</td>\n",
       "      <td>NaN</td>\n",
       "      <td>NaN</td>\n",
       "      <td>NaN</td>\n",
       "      <td>False</td>\n",
       "      <td>CHEBI</td>\n",
       "      <td>NaN</td>\n",
       "    </tr>\n",
       "    <tr>\n",
       "      <th>1</th>\n",
       "      <td>3_STAR</td>\n",
       "      <td>CHEBI:23367</td>\n",
       "      <td>molecular entity</td>\n",
       "      <td>\"Any constitutionally or isotopically distinct...</td>\n",
       "      <td>NaN</td>\n",
       "      <td>NaN</td>\n",
       "      <td>NaN</td>\n",
       "      <td>False</td>\n",
       "      <td>CHEBI</td>\n",
       "      <td>NaN</td>\n",
       "    </tr>\n",
       "  </tbody>\n",
       "</table>\n",
       "</div>"
      ],
      "text/plain": [
       "   subset           id              name  \\\n",
       "0  3_STAR  CHEBI:24431   chemical entity   \n",
       "1  3_STAR  CHEBI:23367  molecular entity   \n",
       "\n",
       "                                                 def xref ikey alt_id  \\\n",
       "0  \"A chemical entity is a physical entity of int...  NaN  NaN    NaN   \n",
       "1  \"Any constitutionally or isotopically distinct...  NaN  NaN    NaN   \n",
       "\n",
       "   is_obsolete id_src mesh  \n",
       "0        False  CHEBI  NaN  \n",
       "1        False  CHEBI  NaN  "
      ]
     },
     "execution_count": 136,
     "metadata": {},
     "output_type": "execute_result"
    }
   ],
   "source": [
    "chebi.head(2)"
   ]
  },
  {
   "cell_type": "code",
   "execution_count": 137,
   "metadata": {},
   "outputs": [],
   "source": [
    "chebi['ikey'] = 'IKEY:' + chebi['ikey']"
   ]
  },
  {
   "cell_type": "code",
   "execution_count": 138,
   "metadata": {},
   "outputs": [],
   "source": [
    "ikey_to_mesh = {**ikey_to_mesh,  **(chebi.dropna(subset=['ikey', 'mesh'])\n",
    "                                         .drop_duplicates(subset=['ikey'], keep=False)\n",
    "                                         .set_index('ikey')['mesh'].to_dict())}\n",
    "\n",
    "mesh_to_ikey = {**mesh_to_ikey,  **(chebi.dropna(subset=['ikey', 'mesh'])\n",
    "                                         .drop_duplicates(subset=['mesh'], keep=False)\n",
    "                                         .set_index('mesh')['ikey'].to_dict())}"
   ]
  },
  {
   "cell_type": "code",
   "execution_count": 139,
   "metadata": {},
   "outputs": [],
   "source": [
    "query = \"\"\"\n",
    "SELECT DISTINCT ?ikey ?chebi ?item ?itemLabel\n",
    "WHERE \n",
    "{\n",
    "  ?item wdt:P683 ?chebi.\n",
    "  ?item wdt:P235 ?ikey.\n",
    "  SERVICE wikibase:label { bd:serviceParam wikibase:language \"[AUTO_LANGUAGE],en\". }\n",
    "}\n",
    "ORDER BY ?itemLabel\n",
    "\"\"\""
   ]
  },
  {
   "cell_type": "code",
   "execution_count": 140,
   "metadata": {},
   "outputs": [],
   "source": [
    "wd_ikey_to_chebi = execute_sparql_query(query)"
   ]
  },
  {
   "cell_type": "code",
   "execution_count": 141,
   "metadata": {},
   "outputs": [],
   "source": [
    "wd_ikey_to_chebi['chebi'] = 'CHEBI:' + wd_ikey_to_chebi['chebi']\n",
    "wd_ikey_to_chebi['ikey'] = 'IKEY:' + wd_ikey_to_chebi['ikey']\n",
    "\n",
    "# Make an inchikey to chebi map\n",
    "ikey_to_chebi = wd_ikey_to_chebi.set_index('ikey')['chebi'].to_dict()\n",
    "\n",
    "# Could be one to many relations (ikey to chebi), so get rid of those\n",
    "chebi_to_ikey = wd_ikey_to_chebi.drop_duplicates(subset=['chebi'], keep=False).set_index('ikey')['chebi'].to_dict()"
   ]
  },
  {
   "cell_type": "code",
   "execution_count": 142,
   "metadata": {},
   "outputs": [],
   "source": [
    "ikey_to_chebi = {**ikey_to_chebi,  **(chebi.dropna(subset=['ikey', 'id'])\n",
    "                                         .drop_duplicates(subset=['ikey'], keep=False)\n",
    "                                         .set_index('ikey')['id'].to_dict())}\n",
    "\n",
    "chebi_to_ikey = {**chebi_to_ikey,  **(chebi.dropna(subset=['ikey', 'id'])\n",
    "                                         .drop_duplicates(subset=['id'], keep=False)\n",
    "                                         .set_index('id')['ikey'].to_dict())}"
   ]
  },
  {
   "cell_type": "code",
   "execution_count": 143,
   "metadata": {},
   "outputs": [
    {
     "data": {
      "text/plain": [
       "subset         113691\n",
       "id             113750\n",
       "name           113750\n",
       "def             46478\n",
       "xref            90947\n",
       "ikey            92700\n",
       "alt_id           7513\n",
       "is_obsolete    113750\n",
       "id_src         113750\n",
       "mesh             8993\n",
       "dtype: int64"
      ]
     },
     "execution_count": 143,
     "metadata": {},
     "output_type": "execute_result"
    }
   ],
   "source": [
    "chebi['mesh'] = chebi['mesh'].fillna(chebi['ikey'].map(ikey_to_mesh))\n",
    "chebi['mesh'] = chebi['mesh'].fillna(chebi['id'].map(c2m_dict))\n",
    "chebi.count()"
   ]
  },
  {
   "cell_type": "code",
   "execution_count": 144,
   "metadata": {},
   "outputs": [],
   "source": [
    "# Final chebi to mesh mapper...\n",
    "chebi_to_mesh = chebi.set_index('id')['mesh'].to_dict()\n",
    "\n",
    "# Make the reverse map, only on those with 1 to 1 mappings\n",
    "mesh_to_chebi = (chebi.dropna(subset=['mesh'])\n",
    "                      .drop_duplicates(subset=['mesh'], keep=False)\n",
    "                      .set_index('mesh')['id']\n",
    "                      .to_dict())"
   ]
  },
  {
   "cell_type": "code",
   "execution_count": 145,
   "metadata": {},
   "outputs": [],
   "source": [
    "query = \"\"\"\n",
    "SELECT DISTINCT ?mesh ?item ?itemLabel\n",
    "WHERE \n",
    "{\n",
    "  ?item wdt:P486 ?mesh.\n",
    "  SERVICE wikibase:label { bd:serviceParam wikibase:language \"[AUTO_LANGUAGE],en\". }\n",
    "}\n",
    "ORDER BY ?itemLabel\n",
    "\"\"\""
   ]
  },
  {
   "cell_type": "code",
   "execution_count": 146,
   "metadata": {},
   "outputs": [
    {
     "data": {
      "text/html": [
       "<div>\n",
       "<style scoped>\n",
       "    .dataframe tbody tr th:only-of-type {\n",
       "        vertical-align: middle;\n",
       "    }\n",
       "\n",
       "    .dataframe tbody tr th {\n",
       "        vertical-align: top;\n",
       "    }\n",
       "\n",
       "    .dataframe thead th {\n",
       "        text-align: right;\n",
       "    }\n",
       "</style>\n",
       "<table border=\"1\" class=\"dataframe\">\n",
       "  <thead>\n",
       "    <tr style=\"text-align: right;\">\n",
       "      <th></th>\n",
       "      <th>mesh</th>\n",
       "      <th>item</th>\n",
       "      <th>itemLabel</th>\n",
       "    </tr>\n",
       "  </thead>\n",
       "  <tbody>\n",
       "    <tr>\n",
       "      <th>0</th>\n",
       "      <td>D047648</td>\n",
       "      <td>Q1268526</td>\n",
       "      <td>Q1268526</td>\n",
       "    </tr>\n",
       "    <tr>\n",
       "      <th>1</th>\n",
       "      <td>D053059</td>\n",
       "      <td>Q18388297</td>\n",
       "      <td>Q18388297</td>\n",
       "    </tr>\n",
       "  </tbody>\n",
       "</table>\n",
       "</div>"
      ],
      "text/plain": [
       "      mesh       item  itemLabel\n",
       "0  D047648   Q1268526   Q1268526\n",
       "1  D053059  Q18388297  Q18388297"
      ]
     },
     "execution_count": 146,
     "metadata": {},
     "output_type": "execute_result"
    }
   ],
   "source": [
    "wd_to_mesh = execute_sparql_query(query)\n",
    "wd_to_mesh.head(2)"
   ]
  },
  {
   "cell_type": "code",
   "execution_count": 147,
   "metadata": {},
   "outputs": [],
   "source": [
    "bad_idx = wd_to_mesh.index[wd_to_mesh['mesh'].str.startswith('M')]\n",
    "wd_to_mesh = wd_to_mesh.drop(bad_idx)\n",
    "\n",
    "wd_to_mesh['mesh'] = 'MESH:' + wd_to_mesh['mesh']\n",
    "wd_to_mesh['item'] = 'WD:'+ wd_to_mesh['item']\n",
    "wd_to_mesh = wd_to_mesh.drop_duplicates(subset=['mesh']).set_index('item')['mesh'].to_dict()"
   ]
  },
  {
   "cell_type": "code",
   "execution_count": 148,
   "metadata": {},
   "outputs": [],
   "source": [
    "query = \"\"\"\n",
    "SELECT DISTINCT ?ikey ?unii ?item ?itemLabel\n",
    "WHERE \n",
    "{\n",
    "  ?item wdt:P235 ?ikey.\n",
    "  ?item wdt:P652 ?unii.\n",
    "  SERVICE wikibase:label { bd:serviceParam wikibase:language \"[AUTO_LANGUAGE],en\". }\n",
    "}\n",
    "ORDER BY ?itemLabel\n",
    "\"\"\""
   ]
  },
  {
   "cell_type": "code",
   "execution_count": 149,
   "metadata": {},
   "outputs": [
    {
     "data": {
      "text/html": [
       "<div>\n",
       "<style scoped>\n",
       "    .dataframe tbody tr th:only-of-type {\n",
       "        vertical-align: middle;\n",
       "    }\n",
       "\n",
       "    .dataframe tbody tr th {\n",
       "        vertical-align: top;\n",
       "    }\n",
       "\n",
       "    .dataframe thead th {\n",
       "        text-align: right;\n",
       "    }\n",
       "</style>\n",
       "<table border=\"1\" class=\"dataframe\">\n",
       "  <thead>\n",
       "    <tr style=\"text-align: right;\">\n",
       "      <th></th>\n",
       "      <th>ikey</th>\n",
       "      <th>unii</th>\n",
       "      <th>item</th>\n",
       "      <th>itemLabel</th>\n",
       "    </tr>\n",
       "  </thead>\n",
       "  <tbody>\n",
       "    <tr>\n",
       "      <th>0</th>\n",
       "      <td>RAGLTCMTCZHYEJ-UHFFFAOYSA-K</td>\n",
       "      <td>UTG092091O</td>\n",
       "      <td>Q15726056</td>\n",
       "      <td>Q15726056</td>\n",
       "    </tr>\n",
       "    <tr>\n",
       "      <th>1</th>\n",
       "      <td>SJRACCTZSAUMGO-UHFFFAOYSA-N</td>\n",
       "      <td>ZX4FRZ5WJP</td>\n",
       "      <td>Q1740621</td>\n",
       "      <td>Q1740621</td>\n",
       "    </tr>\n",
       "  </tbody>\n",
       "</table>\n",
       "</div>"
      ],
      "text/plain": [
       "                          ikey        unii       item  itemLabel\n",
       "0  RAGLTCMTCZHYEJ-UHFFFAOYSA-K  UTG092091O  Q15726056  Q15726056\n",
       "1  SJRACCTZSAUMGO-UHFFFAOYSA-N  ZX4FRZ5WJP   Q1740621   Q1740621"
      ]
     },
     "execution_count": 149,
     "metadata": {},
     "output_type": "execute_result"
    }
   ],
   "source": [
    "unii_to_ikey = execute_sparql_query(query)\n",
    "unii_to_ikey.head(2)"
   ]
  },
  {
   "cell_type": "code",
   "execution_count": 150,
   "metadata": {},
   "outputs": [],
   "source": [
    "unii_to_ikey['unii'] = 'UNII:' + unii_to_ikey['unii']\n",
    "unii_to_ikey['ikey'] = 'IKEY:' + unii_to_ikey['ikey']"
   ]
  },
  {
   "cell_type": "code",
   "execution_count": 151,
   "metadata": {},
   "outputs": [
    {
     "data": {
      "text/plain": [
       "58773"
      ]
     },
     "execution_count": 151,
     "metadata": {},
     "output_type": "execute_result"
    }
   ],
   "source": [
    "len(unii_to_ikey)"
   ]
  },
  {
   "cell_type": "code",
   "execution_count": 152,
   "metadata": {},
   "outputs": [
    {
     "data": {
      "text/plain": [
       "ikey         58620\n",
       "unii         58613\n",
       "item         58623\n",
       "itemLabel    58617\n",
       "dtype: int64"
      ]
     },
     "execution_count": 152,
     "metadata": {},
     "output_type": "execute_result"
    }
   ],
   "source": [
    "unii_to_ikey.nunique()"
   ]
  },
  {
   "cell_type": "code",
   "execution_count": 153,
   "metadata": {},
   "outputs": [],
   "source": [
    "unii_to_ikey = unii_to_ikey.set_index('unii')['ikey'].to_dict()"
   ]
  },
  {
   "cell_type": "markdown",
   "metadata": {},
   "source": [
    "# See how the compound mapping between DBs fare\n",
    "\n",
    "ID order will be:\n",
    "\n",
    "1. Chebi\n",
    "3. Inchikey\n",
    "4. MeSH"
   ]
  },
  {
   "cell_type": "code",
   "execution_count": 154,
   "metadata": {},
   "outputs": [
    {
     "data": {
      "text/html": [
       "<div>\n",
       "<style scoped>\n",
       "    .dataframe tbody tr th:only-of-type {\n",
       "        vertical-align: middle;\n",
       "    }\n",
       "\n",
       "    .dataframe tbody tr th {\n",
       "        vertical-align: top;\n",
       "    }\n",
       "\n",
       "    .dataframe thead th {\n",
       "        text-align: right;\n",
       "    }\n",
       "</style>\n",
       "<table border=\"1\" class=\"dataframe\">\n",
       "  <thead>\n",
       "    <tr style=\"text-align: right;\">\n",
       "      <th></th>\n",
       "      <th>q</th>\n",
       "      <th>ikey</th>\n",
       "      <th>chebi_id</th>\n",
       "      <th>chembl_id</th>\n",
       "      <th>drugbank_id</th>\n",
       "      <th>unii_id</th>\n",
       "      <th>mesh_id</th>\n",
       "      <th>name</th>\n",
       "      <th>id</th>\n",
       "      <th>source</th>\n",
       "      <th>wd_id</th>\n",
       "    </tr>\n",
       "  </thead>\n",
       "  <tbody>\n",
       "    <tr>\n",
       "      <th>0</th>\n",
       "      <td>WYFYYAHANZQLGG-UHFFFAOYSA-N</td>\n",
       "      <td>IKEY:WYFYYAHANZQLGG-UHFFFAOYSA-N</td>\n",
       "      <td>NaN</td>\n",
       "      <td>CHEMBL:CHEMBL543295</td>\n",
       "      <td>NaN</td>\n",
       "      <td>UNII:8GKF50WX7S</td>\n",
       "      <td>NaN</td>\n",
       "      <td>A-49816 hydrochloride</td>\n",
       "      <td>IKEY:WYFYYAHANZQLGG-UHFFFAOYSA-N</td>\n",
       "      <td>ikey</td>\n",
       "      <td>WD:Q27270440</td>\n",
       "    </tr>\n",
       "    <tr>\n",
       "      <th>1</th>\n",
       "      <td>YJZJEQBSODVMTH-UHFFFAOYSA-N</td>\n",
       "      <td>IKEY:YJZJEQBSODVMTH-UHFFFAOYSA-N</td>\n",
       "      <td>NaN</td>\n",
       "      <td>CHEMBL:CHEMBL284907</td>\n",
       "      <td>NaN</td>\n",
       "      <td>UNII:NAT2FD82D7</td>\n",
       "      <td>MESH:C013876</td>\n",
       "      <td>Elmustine</td>\n",
       "      <td>IKEY:YJZJEQBSODVMTH-UHFFFAOYSA-N</td>\n",
       "      <td>ikey</td>\n",
       "      <td>WD:Q27284767</td>\n",
       "    </tr>\n",
       "  </tbody>\n",
       "</table>\n",
       "</div>"
      ],
      "text/plain": [
       "                             q                              ikey chebi_id  \\\n",
       "0  WYFYYAHANZQLGG-UHFFFAOYSA-N  IKEY:WYFYYAHANZQLGG-UHFFFAOYSA-N      NaN   \n",
       "1  YJZJEQBSODVMTH-UHFFFAOYSA-N  IKEY:YJZJEQBSODVMTH-UHFFFAOYSA-N      NaN   \n",
       "\n",
       "             chembl_id drugbank_id          unii_id       mesh_id  \\\n",
       "0  CHEMBL:CHEMBL543295         NaN  UNII:8GKF50WX7S           NaN   \n",
       "1  CHEMBL:CHEMBL284907         NaN  UNII:NAT2FD82D7  MESH:C013876   \n",
       "\n",
       "                    name                                id source  \\\n",
       "0  A-49816 hydrochloride  IKEY:WYFYYAHANZQLGG-UHFFFAOYSA-N   ikey   \n",
       "1              Elmustine  IKEY:YJZJEQBSODVMTH-UHFFFAOYSA-N   ikey   \n",
       "\n",
       "          wd_id  \n",
       "0  WD:Q27270440  \n",
       "1  WD:Q27284767  "
      ]
     },
     "execution_count": 154,
     "metadata": {},
     "output_type": "execute_result"
    }
   ],
   "source": [
    "ref_comps.head(2)"
   ]
  },
  {
   "cell_type": "code",
   "execution_count": 155,
   "metadata": {},
   "outputs": [
    {
     "data": {
      "text/plain": [
       "212"
      ]
     },
     "execution_count": 155,
     "metadata": {},
     "output_type": "execute_result"
    }
   ],
   "source": [
    "ref_comps['mesh_id'].str.contains('|', regex=False).sum()"
   ]
  },
  {
   "cell_type": "code",
   "execution_count": 156,
   "metadata": {},
   "outputs": [],
   "source": [
    "ref_comps = expand_col_on_char(ref_comps, 'mesh_id', '|')\n",
    "ref_comps = expand_col_on_char(ref_comps, 'chebi_id', '|')"
   ]
  },
  {
   "cell_type": "code",
   "execution_count": 157,
   "metadata": {},
   "outputs": [
    {
     "data": {
      "text/plain": [
       "q              17395\n",
       "ikey           15152\n",
       "chebi_id        4540\n",
       "chembl_id       9959\n",
       "drugbank_id     3944\n",
       "unii_id         7934\n",
       "mesh_id         4431\n",
       "name           10222\n",
       "id             15152\n",
       "source         15152\n",
       "wd_id           6907\n",
       "chebi           4821\n",
       "dtype: int64"
      ]
     },
     "execution_count": 157,
     "metadata": {},
     "output_type": "execute_result"
    }
   ],
   "source": [
    "ref_comps['chebi'] = ref_comps['chebi_id'].fillna(ref_comps['ikey'].map(ikey_to_chebi))\n",
    "ref_comps['chebi'] = ref_comps['chebi'].fillna(ref_comps['mesh_id'].map(mesh_to_chebi))\n",
    "\n",
    "ref_comps.count()"
   ]
  },
  {
   "cell_type": "code",
   "execution_count": 158,
   "metadata": {
    "scrolled": true
   },
   "outputs": [
    {
     "data": {
      "text/plain": [
       "ikey       14848\n",
       "mesh_id     3648\n",
       "dtype: int64"
      ]
     },
     "execution_count": 158,
     "metadata": {},
     "output_type": "execute_result"
    }
   ],
   "source": [
    "ref_comps['mesh_id'] = ref_comps['ikey'].map(ikey_to_mesh)\n",
    "ref_comps['mesh_id'] = ref_comps['mesh_id'].fillna(ref_comps['chebi_id'].map(chebi_to_mesh))\n",
    "\n",
    "ref_comps.drop_duplicates(subset=['ikey'])[['ikey', 'mesh_id']].count()"
   ]
  },
  {
   "cell_type": "code",
   "execution_count": 159,
   "metadata": {},
   "outputs": [
    {
     "data": {
      "text/plain": [
       "ikey       17544\n",
       "mesh_id     4021\n",
       "chebi       4922\n",
       "dtype: int64"
      ]
     },
     "execution_count": 159,
     "metadata": {},
     "output_type": "execute_result"
    }
   ],
   "source": [
    "ref.merge(ref_comps[['ikey', 'mesh_id', 'chebi']], how='left', on='ikey')[['ikey', 'mesh_id', 'chebi']].count()"
   ]
  },
  {
   "cell_type": "code",
   "execution_count": 160,
   "metadata": {},
   "outputs": [
    {
     "data": {
      "text/plain": [
       "ikey        14848\n",
       "chebi_id     4525\n",
       "dtype: int64"
      ]
     },
     "execution_count": 160,
     "metadata": {},
     "output_type": "execute_result"
    }
   ],
   "source": [
    "ref_comps['chebi_id'] = ref_comps['chebi'].fillna(ref_comps['ikey'].map(ikey_to_chebi))\n",
    "ref_comps.drop_duplicates(subset=['ikey'])[['ikey', 'chebi_id']].count()"
   ]
  },
  {
   "cell_type": "code",
   "execution_count": 161,
   "metadata": {},
   "outputs": [
    {
     "data": {
      "text/plain": [
       "Index(['gvk_id', 'drug_name', 'phase', 'drug_roa', 'category', 'mechanism',\n",
       "       'sub_smiles', 'synonyms_gvk', 'ikey', 'name_inf', 'highest_phase',\n",
       "       'moa', 'target_name', 'target_family', 'origin', 'chem_name',\n",
       "       'smiles_inf', 'key', 'pubchem', 'wikidata_inf', 'informa_id',\n",
       "       'synonyms_inf', 'id', 'status', 'smiles_itg', 'name_itg',\n",
       "       'integrity_note', 'int_thera_group', 'int_MoA', 'wikidata_itg',\n",
       "       'PubChem CID', 'source'],\n",
       "      dtype='object')"
      ]
     },
     "execution_count": 161,
     "metadata": {},
     "output_type": "execute_result"
    }
   ],
   "source": [
    "ref.columns"
   ]
  },
  {
   "cell_type": "code",
   "execution_count": 162,
   "metadata": {},
   "outputs": [
    {
     "data": {
      "text/plain": [
       "6761"
      ]
     },
     "execution_count": 162,
     "metadata": {},
     "output_type": "execute_result"
    }
   ],
   "source": [
    "ref['wikidata_inf'].fillna(ref['wikidata_itg']).count()"
   ]
  },
  {
   "cell_type": "code",
   "execution_count": 163,
   "metadata": {},
   "outputs": [
    {
     "data": {
      "text/plain": [
       "ikey            17220\n",
       "wikidata_inf     3432\n",
       "wikidata_itg     5391\n",
       "mesh_id          3717\n",
       "dtype: int64"
      ]
     },
     "execution_count": 163,
     "metadata": {},
     "output_type": "execute_result"
    }
   ],
   "source": [
    "ref['mesh_id'] = ref['ikey'].map(ikey_to_mesh)\n",
    "ref['mesh_id'] = ref['mesh_id'].fillna(ref['wikidata_inf'].map(wd_to_mesh)).fillna(ref['wikidata_itg'].map(wd_to_mesh))\n",
    "ref[['ikey', 'wikidata_inf', 'wikidata_itg', 'mesh_id']].count()"
   ]
  },
  {
   "cell_type": "code",
   "execution_count": 164,
   "metadata": {},
   "outputs": [
    {
     "data": {
      "text/plain": [
       "ikey            17220\n",
       "wikidata_inf     3432\n",
       "wikidata_itg     5391\n",
       "mesh_id          3717\n",
       "chebi_id         2890\n",
       "dtype: int64"
      ]
     },
     "execution_count": 164,
     "metadata": {},
     "output_type": "execute_result"
    }
   ],
   "source": [
    "ref['chebi_id'] = ref['ikey'].map(ikey_to_chebi)\n",
    "ref['chebi_id'] = ref['mesh_id'].map(mesh_to_chebi)\n",
    "\n",
    "ref[['ikey', 'wikidata_inf', 'wikidata_itg', 'mesh_id', 'chebi_id']].count()"
   ]
  },
  {
   "cell_type": "code",
   "execution_count": 165,
   "metadata": {},
   "outputs": [
    {
     "data": {
      "text/plain": [
       "17058"
      ]
     },
     "execution_count": 165,
     "metadata": {},
     "output_type": "execute_result"
    }
   ],
   "source": [
    "ref['final_id'] = ref['chebi_id'].fillna(ref['ikey'].map(ikey_to_chebi).fillna(ref['ikey']))\n",
    "ref_ids = set(ref['final_id'].dropna())\n",
    "len(ref_ids)"
   ]
  },
  {
   "cell_type": "code",
   "execution_count": 166,
   "metadata": {},
   "outputs": [],
   "source": [
    "ix_comps = expand_col_on_char(ix_comps, 'mesh_id', '|')\n",
    "ix_comps = expand_col_on_char(ix_comps, 'chebi_id', '|')"
   ]
  },
  {
   "cell_type": "code",
   "execution_count": 167,
   "metadata": {},
   "outputs": [],
   "source": [
    "ix_comps['chebi_id'] = ix_comps['chebi_id'].fillna(ix_comps['ikey'].map(ikey_to_chebi))\n",
    "ix_comps['chebi_id'] = ix_comps['chebi_id'].fillna(ix_comps['mesh_id'].map(mesh_to_chebi))\n",
    "\n",
    "ix_comps['ikey'] = ix_comps['ikey'].fillna(ix_comps['unii_id'].map(unii_to_ikey))\n",
    "ix_comps['mesh_id'] = ix_comps['ikey'].map(ikey_to_mesh)\n",
    "ix_comps['mesh_id'] = ix_comps['mesh_id'].fillna(ix_comps['chebi_id'].map(chebi_to_mesh))"
   ]
  },
  {
   "cell_type": "code",
   "execution_count": 168,
   "metadata": {},
   "outputs": [
    {
     "data": {
      "text/plain": [
       "113750"
      ]
     },
     "execution_count": 168,
     "metadata": {},
     "output_type": "execute_result"
    }
   ],
   "source": [
    "len(chebi_to_mesh)"
   ]
  },
  {
   "cell_type": "code",
   "execution_count": 169,
   "metadata": {},
   "outputs": [
    {
     "data": {
      "text/html": [
       "<div>\n",
       "<style scoped>\n",
       "    .dataframe tbody tr th:only-of-type {\n",
       "        vertical-align: middle;\n",
       "    }\n",
       "\n",
       "    .dataframe tbody tr th {\n",
       "        vertical-align: top;\n",
       "    }\n",
       "\n",
       "    .dataframe thead th {\n",
       "        text-align: right;\n",
       "    }\n",
       "</style>\n",
       "<table border=\"1\" class=\"dataframe\">\n",
       "  <thead>\n",
       "    <tr style=\"text-align: right;\">\n",
       "      <th></th>\n",
       "      <th>id</th>\n",
       "      <th>name</th>\n",
       "      <th>label</th>\n",
       "      <th>chebi_id</th>\n",
       "      <th>chembl_id</th>\n",
       "      <th>drugbank_id</th>\n",
       "      <th>ikey</th>\n",
       "      <th>mesh_id</th>\n",
       "      <th>unii_id</th>\n",
       "      <th>source</th>\n",
       "    </tr>\n",
       "  </thead>\n",
       "  <tbody>\n",
       "    <tr>\n",
       "      <th>0</th>\n",
       "      <td>FZERHIULMFGESH-UHFFFAOYSA-N</td>\n",
       "      <td>Acetanilide</td>\n",
       "      <td>Compound</td>\n",
       "      <td>CHEBI:28884</td>\n",
       "      <td>CHEMBL:CHEMBL269644</td>\n",
       "      <td>NaN</td>\n",
       "      <td>IKEY:FZERHIULMFGESH-UHFFFAOYSA-N</td>\n",
       "      <td>MESH:C508827</td>\n",
       "      <td>UNII:SP86R356CC</td>\n",
       "      <td>ikey</td>\n",
       "    </tr>\n",
       "    <tr>\n",
       "      <th>1</th>\n",
       "      <td>SWMPGCCDXNLPED-NSCUHMNNSA-N</td>\n",
       "      <td>Acetylfuratrizine</td>\n",
       "      <td>Compound</td>\n",
       "      <td>CHEBI:135137</td>\n",
       "      <td>NaN</td>\n",
       "      <td>NaN</td>\n",
       "      <td>IKEY:SWMPGCCDXNLPED-NSCUHMNNSA-N</td>\n",
       "      <td>MESH:C007794</td>\n",
       "      <td>UNII:C50C4V19SU</td>\n",
       "      <td>ikey</td>\n",
       "    </tr>\n",
       "  </tbody>\n",
       "</table>\n",
       "</div>"
      ],
      "text/plain": [
       "                            id               name     label      chebi_id  \\\n",
       "0  FZERHIULMFGESH-UHFFFAOYSA-N        Acetanilide  Compound   CHEBI:28884   \n",
       "1  SWMPGCCDXNLPED-NSCUHMNNSA-N  Acetylfuratrizine  Compound  CHEBI:135137   \n",
       "\n",
       "             chembl_id drugbank_id                              ikey  \\\n",
       "0  CHEMBL:CHEMBL269644         NaN  IKEY:FZERHIULMFGESH-UHFFFAOYSA-N   \n",
       "1                  NaN         NaN  IKEY:SWMPGCCDXNLPED-NSCUHMNNSA-N   \n",
       "\n",
       "        mesh_id          unii_id source  \n",
       "0  MESH:C508827  UNII:SP86R356CC   ikey  \n",
       "1  MESH:C007794  UNII:C50C4V19SU   ikey  "
      ]
     },
     "execution_count": 169,
     "metadata": {},
     "output_type": "execute_result"
    }
   ],
   "source": [
    "ix_comps.head(2)"
   ]
  },
  {
   "cell_type": "code",
   "execution_count": 170,
   "metadata": {},
   "outputs": [],
   "source": [
    "# Add the curis to those that need it, and then save a mapper for later.\n",
    "ix_comps['new_id'] = ix_comps['source'].map(source_curi_map) + ':' + ix_comps['id']\n",
    "ix_comp_id_map = ix_comps.set_index('id')['new_id'].to_dict()\n",
    "\n",
    "\n",
    "ix_comps = ix_comps.drop('id', axis=1).rename(columns={'new_id': 'id'})"
   ]
  },
  {
   "cell_type": "code",
   "execution_count": 171,
   "metadata": {},
   "outputs": [
    {
     "data": {
      "text/plain": [
       "110263"
      ]
     },
     "execution_count": 171,
     "metadata": {},
     "output_type": "execute_result"
    }
   ],
   "source": [
    "ix_comps['final_id'] = (ix_comps['chebi_id'].fillna(ix_comps['ikey'].map(ikey_to_mesh)\n",
    "                                                                   .map(mesh_to_chebi) )\n",
    "                                           .fillna(ix_comps['ikey'].map(ikey_to_chebi))\n",
    "                                           .fillna(ix_comps['ikey'])                                           \n",
    "                                           .fillna(ix_comps['unii_id'].map(unii_to_ikey))                                           \n",
    "                                           .fillna(ix_comps['id']))\n",
    "ix_ids = set(ix_comps['final_id'].dropna())\n",
    "len(ix_ids)"
   ]
  },
  {
   "cell_type": "code",
   "execution_count": 172,
   "metadata": {},
   "outputs": [
    {
     "data": {
      "text/plain": [
       "CHEBI     89481\n",
       "PCID      67450\n",
       "WD        58786\n",
       "UNII      31229\n",
       "CHEMBL    21021\n",
       "DB         2166\n",
       "MESH         43\n",
       "KEGG         17\n",
       "UMLS          1\n",
       "IKEY          1\n",
       "Name: id, dtype: int64"
      ]
     },
     "execution_count": 172,
     "metadata": {},
     "output_type": "execute_result"
    }
   ],
   "source": [
    "prev_comps['id'].apply(lambda i: i.split(':')[0]).value_counts()"
   ]
  },
  {
   "cell_type": "code",
   "execution_count": 173,
   "metadata": {},
   "outputs": [
    {
     "data": {
      "text/plain": [
       "270190"
      ]
     },
     "execution_count": 173,
     "metadata": {},
     "output_type": "execute_result"
    }
   ],
   "source": [
    "prev_comps['final_id'] = (prev_comps['id'].map(mesh_to_chebi).fillna(prev_comps['id'].map(ikey_to_chebi))\n",
    "                                                             .fillna(prev_comps['id'].map(mesh_to_ikey))\n",
    "                                                             .fillna(prev_comps['id'].map(unii_to_ikey))\n",
    "                                                             .fillna(prev_comps['id']))\n",
    "                                              \n",
    "prev_ids = set(prev_comps['final_id'].dropna())\n",
    "len(prev_ids)"
   ]
  },
  {
   "cell_type": "code",
   "execution_count": 174,
   "metadata": {},
   "outputs": [
    {
     "data": {
      "text/plain": [
       "<matplotlib_venn._common.VennDiagram at 0x7f99c963a850>"
      ]
     },
     "execution_count": 174,
     "metadata": {},
     "output_type": "execute_result"
    },
    {
     "data": {
      "image/png": "[encoded data removed]",
      "text/plain": [
       "<Figure size 720x432 with 1 Axes>"
      ]
     },
     "metadata": {},
     "output_type": "display_data"
    }
   ],
   "source": [
    "plt.figure(figsize=(10,6))\n",
    "venn3_pretty([ref_ids, ix_ids, prev_ids], ['Reframe', 'Inxight Drugs', 'Previous'], border=False)"
   ]
  },
  {
   "cell_type": "markdown",
   "metadata": {},
   "source": [
    "# Time to call in the big string manipulation guns..."
   ]
  },
  {
   "cell_type": "code",
   "execution_count": 175,
   "metadata": {},
   "outputs": [],
   "source": [
    "import re\n",
    "pattern = re.compile('[\\W_]+')\n",
    "\n",
    "def strip_chars(string):\n",
    "    return pattern.sub('', string)"
   ]
  },
  {
   "cell_type": "code",
   "execution_count": 176,
   "metadata": {},
   "outputs": [
    {
     "data": {
      "text/plain": [
       "Index(['gvk_id', 'drug_name', 'phase', 'drug_roa', 'category', 'mechanism',\n",
       "       'sub_smiles', 'synonyms_gvk', 'ikey', 'name_inf', 'highest_phase',\n",
       "       'moa', 'target_name', 'target_family', 'origin', 'chem_name',\n",
       "       'smiles_inf', 'key', 'pubchem', 'wikidata_inf', 'informa_id',\n",
       "       'synonyms_inf', 'id', 'status', 'smiles_itg', 'name_itg',\n",
       "       'integrity_note', 'int_thera_group', 'int_MoA', 'wikidata_itg',\n",
       "       'PubChem CID', 'source', 'mesh_id', 'chebi_id', 'final_id'],\n",
       "      dtype='object')"
      ]
     },
     "execution_count": 176,
     "metadata": {},
     "output_type": "execute_result"
    }
   ],
   "source": [
    "ref.columns"
   ]
  },
  {
   "cell_type": "code",
   "execution_count": 177,
   "metadata": {},
   "outputs": [
    {
     "data": {
      "text/html": [
       "<div>\n",
       "<style scoped>\n",
       "    .dataframe tbody tr th:only-of-type {\n",
       "        vertical-align: middle;\n",
       "    }\n",
       "\n",
       "    .dataframe tbody tr th {\n",
       "        vertical-align: top;\n",
       "    }\n",
       "\n",
       "    .dataframe thead th {\n",
       "        text-align: right;\n",
       "    }\n",
       "</style>\n",
       "<table border=\"1\" class=\"dataframe\">\n",
       "  <thead>\n",
       "    <tr style=\"text-align: right;\">\n",
       "      <th></th>\n",
       "      <th>gvk_id</th>\n",
       "      <th>drug_name</th>\n",
       "      <th>phase</th>\n",
       "      <th>drug_roa</th>\n",
       "      <th>category</th>\n",
       "      <th>mechanism</th>\n",
       "      <th>sub_smiles</th>\n",
       "      <th>synonyms_gvk</th>\n",
       "      <th>ikey</th>\n",
       "      <th>name_inf</th>\n",
       "      <th>...</th>\n",
       "      <th>integrity_note</th>\n",
       "      <th>int_thera_group</th>\n",
       "      <th>int_MoA</th>\n",
       "      <th>wikidata_itg</th>\n",
       "      <th>PubChem CID</th>\n",
       "      <th>source</th>\n",
       "      <th>mesh_id</th>\n",
       "      <th>chebi_id</th>\n",
       "      <th>final_id</th>\n",
       "      <th>all_names</th>\n",
       "    </tr>\n",
       "  </thead>\n",
       "  <tbody>\n",
       "    <tr>\n",
       "      <th>0</th>\n",
       "      <td>5916161.0</td>\n",
       "      <td>A-49816</td>\n",
       "      <td>Clinical Phase Unknown</td>\n",
       "      <td>NaN</td>\n",
       "      <td>High-Ceiling Diuretic</td>\n",
       "      <td>High-Ceiling Diuretic</td>\n",
       "      <td>Cl[H].[H]OC1=C(CN([H])[H])C=C(C=C1)C(=O)C2=CC=...</td>\n",
       "      <td>Abbott-49816</td>\n",
       "      <td>IKEY:WYFYYAHANZQLGG-UHFFFAOYSA-N</td>\n",
       "      <td>NaN</td>\n",
       "      <td>...</td>\n",
       "      <td>NaN</td>\n",
       "      <td>Diuretics</td>\n",
       "      <td>NaN</td>\n",
       "      <td>WD:Q27270440</td>\n",
       "      <td>CID92009045</td>\n",
       "      <td>gvk|integrity</td>\n",
       "      <td>NaN</td>\n",
       "      <td>NaN</td>\n",
       "      <td>IKEY:WYFYYAHANZQLGG-UHFFFAOYSA-N</td>\n",
       "      <td>{a49816, abbott49816}</td>\n",
       "    </tr>\n",
       "    <tr>\n",
       "      <th>1</th>\n",
       "      <td>5913712.0</td>\n",
       "      <td>Elmustine</td>\n",
       "      <td>Clinical Phase Unknown</td>\n",
       "      <td>NaN</td>\n",
       "      <td>Anticancer</td>\n",
       "      <td>Anticancer</td>\n",
       "      <td>[H]OCCN([H])C(=O)N(CCCl)N=O</td>\n",
       "      <td>BRN-1956525|FFC-33|HECNU|Hecnu|NSC-294895</td>\n",
       "      <td>IKEY:YJZJEQBSODVMTH-UHFFFAOYSA-N</td>\n",
       "      <td>Elmustine</td>\n",
       "      <td>...</td>\n",
       "      <td>NaN</td>\n",
       "      <td>Oncolytic Drugs</td>\n",
       "      <td>DNA-Damaging Drugs</td>\n",
       "      <td>WD:Q27284767</td>\n",
       "      <td>CID68804</td>\n",
       "      <td>gvk|informa|integrity</td>\n",
       "      <td>MESH:C013876</td>\n",
       "      <td>NaN</td>\n",
       "      <td>IKEY:YJZJEQBSODVMTH-UHFFFAOYSA-N</td>\n",
       "      <td>{elmustine, brn1956525, ffc33, nsc294895, hecnu}</td>\n",
       "    </tr>\n",
       "  </tbody>\n",
       "</table>\n",
       "<p>2 rows × 36 columns</p>\n",
       "</div>"
      ],
      "text/plain": [
       "      gvk_id  drug_name                   phase drug_roa  \\\n",
       "0  5916161.0    A-49816  Clinical Phase Unknown      NaN   \n",
       "1  5913712.0  Elmustine  Clinical Phase Unknown      NaN   \n",
       "\n",
       "                category              mechanism  \\\n",
       "0  High-Ceiling Diuretic  High-Ceiling Diuretic   \n",
       "1             Anticancer             Anticancer   \n",
       "\n",
       "                                          sub_smiles  \\\n",
       "0  Cl[H].[H]OC1=C(CN([H])[H])C=C(C=C1)C(=O)C2=CC=...   \n",
       "1                        [H]OCCN([H])C(=O)N(CCCl)N=O   \n",
       "\n",
       "                                synonyms_gvk  \\\n",
       "0                               Abbott-49816   \n",
       "1  BRN-1956525|FFC-33|HECNU|Hecnu|NSC-294895   \n",
       "\n",
       "                               ikey   name_inf  ... integrity_note  \\\n",
       "0  IKEY:WYFYYAHANZQLGG-UHFFFAOYSA-N        NaN  ...            NaN   \n",
       "1  IKEY:YJZJEQBSODVMTH-UHFFFAOYSA-N  Elmustine  ...            NaN   \n",
       "\n",
       "   int_thera_group             int_MoA  wikidata_itg  PubChem CID  \\\n",
       "0        Diuretics                 NaN  WD:Q27270440  CID92009045   \n",
       "1  Oncolytic Drugs  DNA-Damaging Drugs  WD:Q27284767     CID68804   \n",
       "\n",
       "                  source       mesh_id chebi_id  \\\n",
       "0          gvk|integrity           NaN      NaN   \n",
       "1  gvk|informa|integrity  MESH:C013876      NaN   \n",
       "\n",
       "                           final_id  \\\n",
       "0  IKEY:WYFYYAHANZQLGG-UHFFFAOYSA-N   \n",
       "1  IKEY:YJZJEQBSODVMTH-UHFFFAOYSA-N   \n",
       "\n",
       "                                          all_names  \n",
       "0                             {a49816, abbott49816}  \n",
       "1  {elmustine, brn1956525, ffc33, nsc294895, hecnu}  \n",
       "\n",
       "[2 rows x 36 columns]"
      ]
     },
     "execution_count": 177,
     "metadata": {},
     "output_type": "execute_result"
    }
   ],
   "source": [
    "# chem_name seems dubious... urea was in one that was clearly not Urea...\n",
    "name_cols = ['drug_name', 'synonyms_gvk', 'name_inf', 'synonyms_inf', 'name_itg']\n",
    "\n",
    "\n",
    "name_set = []\n",
    "\n",
    "for row in ref.itertuples():\n",
    "    out = set()\n",
    "    for col in name_cols:\n",
    "        elem = getattr(row, col)\n",
    "        if not pd.isnull(elem):\n",
    "            out.update(set(elem.split('|')))\n",
    "    name_set.append(set([strip_chars(o).lower() for o in out]))\n",
    "ref['all_names'] = pd.Series(name_set)\n",
    "ref.head(2)"
   ]
  },
  {
   "cell_type": "code",
   "execution_count": 178,
   "metadata": {},
   "outputs": [
    {
     "data": {
      "text/plain": [
       "67172"
      ]
     },
     "execution_count": 178,
     "metadata": {},
     "output_type": "execute_result"
    }
   ],
   "source": [
    "ref['all_names'].apply(len).sum()"
   ]
  },
  {
   "cell_type": "code",
   "execution_count": 179,
   "metadata": {},
   "outputs": [
    {
     "data": {
      "text/plain": [
       "60034"
      ]
     },
     "execution_count": 179,
     "metadata": {},
     "output_type": "execute_result"
    }
   ],
   "source": [
    "expand_split_col(ref['all_names'])['all_names'].nunique()"
   ]
  },
  {
   "cell_type": "code",
   "execution_count": 180,
   "metadata": {},
   "outputs": [
    {
     "data": {
      "text/plain": [
       "67172"
      ]
     },
     "execution_count": 180,
     "metadata": {},
     "output_type": "execute_result"
    }
   ],
   "source": [
    "ref['all_names'] = ref['all_names'].apply(list)\n",
    "ref_exp = expand_df_on_col(ref, 'all_names')\n",
    "len(ref_exp)"
   ]
  },
  {
   "cell_type": "code",
   "execution_count": 181,
   "metadata": {},
   "outputs": [],
   "source": [
    "from collections import defaultdict"
   ]
  },
  {
   "cell_type": "code",
   "execution_count": 182,
   "metadata": {},
   "outputs": [],
   "source": [
    "name_to_ikeys = defaultdict(set)\n",
    "for name, df in ref_exp.groupby('all_names'):\n",
    "    name_to_ikeys[name].update(set(df['ikey']))"
   ]
  },
  {
   "cell_type": "code",
   "execution_count": 183,
   "metadata": {},
   "outputs": [
    {
     "data": {
      "text/plain": [
       "60034"
      ]
     },
     "execution_count": 183,
     "metadata": {},
     "output_type": "execute_result"
    }
   ],
   "source": [
    "len(name_to_ikeys)"
   ]
  },
  {
   "cell_type": "code",
   "execution_count": 184,
   "metadata": {},
   "outputs": [],
   "source": [
    "tups = [(k, len(v)) for k, v in name_to_ikeys.items()]\n",
    "names = [t[0] for t in tups]\n",
    "lens = [t[1] for t in tups]"
   ]
  },
  {
   "cell_type": "code",
   "execution_count": 185,
   "metadata": {},
   "outputs": [
    {
     "data": {
      "text/html": [
       "<div>\n",
       "<style scoped>\n",
       "    .dataframe tbody tr th:only-of-type {\n",
       "        vertical-align: middle;\n",
       "    }\n",
       "\n",
       "    .dataframe tbody tr th {\n",
       "        vertical-align: top;\n",
       "    }\n",
       "\n",
       "    .dataframe thead th {\n",
       "        text-align: right;\n",
       "    }\n",
       "</style>\n",
       "<table border=\"1\" class=\"dataframe\">\n",
       "  <thead>\n",
       "    <tr style=\"text-align: right;\">\n",
       "      <th></th>\n",
       "      <th>names</th>\n",
       "      <th>lens</th>\n",
       "    </tr>\n",
       "  </thead>\n",
       "  <tbody>\n",
       "    <tr>\n",
       "      <th>37495</th>\n",
       "      <td>noname</td>\n",
       "      <td>79</td>\n",
       "    </tr>\n",
       "    <tr>\n",
       "      <th>12242</th>\n",
       "      <td>ceftobiprolemedocaril</td>\n",
       "      <td>4</td>\n",
       "    </tr>\n",
       "    <tr>\n",
       "      <th>32265</th>\n",
       "      <td>m14659</td>\n",
       "      <td>4</td>\n",
       "    </tr>\n",
       "    <tr>\n",
       "      <th>47140</th>\n",
       "      <td>ro239424</td>\n",
       "      <td>4</td>\n",
       "    </tr>\n",
       "    <tr>\n",
       "      <th>26362</th>\n",
       "      <td>hp228</td>\n",
       "      <td>3</td>\n",
       "    </tr>\n",
       "    <tr>\n",
       "      <th>49519</th>\n",
       "      <td>seglitide</td>\n",
       "      <td>3</td>\n",
       "    </tr>\n",
       "    <tr>\n",
       "      <th>31314</th>\n",
       "      <td>lometrexol</td>\n",
       "      <td>3</td>\n",
       "    </tr>\n",
       "    <tr>\n",
       "      <th>34370</th>\n",
       "      <td>minopafant</td>\n",
       "      <td>3</td>\n",
       "    </tr>\n",
       "    <tr>\n",
       "      <th>19227</th>\n",
       "      <td>ebiratide</td>\n",
       "      <td>3</td>\n",
       "    </tr>\n",
       "    <tr>\n",
       "      <th>31890</th>\n",
       "      <td>lx2931</td>\n",
       "      <td>3</td>\n",
       "    </tr>\n",
       "  </tbody>\n",
       "</table>\n",
       "</div>"
      ],
      "text/plain": [
       "                       names  lens\n",
       "37495                 noname    79\n",
       "12242  ceftobiprolemedocaril     4\n",
       "32265                 m14659     4\n",
       "47140               ro239424     4\n",
       "26362                  hp228     3\n",
       "49519              seglitide     3\n",
       "31314             lometrexol     3\n",
       "34370             minopafant     3\n",
       "19227              ebiratide     3\n",
       "31890                 lx2931     3"
      ]
     },
     "execution_count": 185,
     "metadata": {},
     "output_type": "execute_result"
    }
   ],
   "source": [
    "name_len = pd.DataFrame({'names': names, 'lens': lens}).sort_values('lens', ascending=False)\n",
    "name_len.head(10)"
   ]
  },
  {
   "cell_type": "code",
   "execution_count": 186,
   "metadata": {},
   "outputs": [
    {
     "data": {
      "text/plain": [
       "6271"
      ]
     },
     "execution_count": 186,
     "metadata": {},
     "output_type": "execute_result"
    }
   ],
   "source": [
    "# Names belonging to more than one ikey\n",
    "(name_len['lens'] > 1).sum()"
   ]
  },
  {
   "cell_type": "code",
   "execution_count": 187,
   "metadata": {},
   "outputs": [
    {
     "data": {
      "text/plain": [
       "53763"
      ]
     },
     "execution_count": 187,
     "metadata": {},
     "output_type": "execute_result"
    }
   ],
   "source": [
    "# names with fewer than 1 ikey\n",
    "(name_len['lens'] == 1).sum()"
   ]
  },
  {
   "cell_type": "markdown",
   "metadata": {},
   "source": [
    "Group the ikeys...."
   ]
  },
  {
   "cell_type": "markdown",
   "metadata": {},
   "source": [
    "# Make an adjcency list..."
   ]
  },
  {
   "cell_type": "code",
   "execution_count": 188,
   "metadata": {},
   "outputs": [],
   "source": [
    "adj_list = defaultdict(set)\n",
    "for row in ref_exp.itertuples():\n",
    "    adj_list[row.ikey].add(row.final_id)\n",
    "    adj_list[row.final_id].add(row.ikey)\n",
    "    # Skip consolidation of nonames\n",
    "    if row.all_names != 'noname':\n",
    "        adj_list[row.final_id].add(row.all_names)\n",
    "        adj_list[row.all_names].add(row.final_id)"
   ]
  },
  {
   "cell_type": "markdown",
   "metadata": {},
   "source": [
    "Add in the other sources..."
   ]
  },
  {
   "cell_type": "code",
   "execution_count": 189,
   "metadata": {},
   "outputs": [],
   "source": [
    "# Ensure all chebis are named\n",
    "chebi_to_name = chebi.set_index('id')['name'].to_dict()\n",
    "prev_comps['name'] = prev_comps['chebi_id'].map(chebi_to_name).fillna(prev_comps['name'])"
   ]
  },
  {
   "cell_type": "code",
   "execution_count": 190,
   "metadata": {},
   "outputs": [],
   "source": [
    "# Add the network comps...\n",
    "for row in prev_comps.dropna(subset=['name']).itertuples():\n",
    "    \n",
    "    adj_list[row.final_id].add(row.id)\n",
    "    adj_list[row.id].add(row.final_id)\n",
    "    \n",
    "    if not pd.isnull(row.name):\n",
    "        name = strip_chars(row.name).lower()\n",
    "        adj_list[name].add(row.final_id)\n",
    "        adj_list[row.final_id].add(name)"
   ]
  },
  {
   "cell_type": "code",
   "execution_count": 191,
   "metadata": {},
   "outputs": [],
   "source": [
    "# Add all the inxight comps\n",
    "for row in ix_comps.itertuples():\n",
    "    adj_list[row.id].add(row.final_id)\n",
    "    adj_list[row.final_id].add(row.id)\n",
    "    \n",
    "    if not pd.isnull(row.name):\n",
    "        name = strip_chars(row.name).lower()\n",
    "\n",
    "        adj_list[name].add(row.final_id)\n",
    "        adj_list[row.final_id].add(name)\n",
    "\n",
    "# Expand all the multiple IDs per line... in the inxight drugs\n",
    "exp_ix_comps = ix_comps.copy()\n",
    "for c in ix_comps.columns:\n",
    "    exp_ix_comps = expand_col_on_char(exp_ix_comps, c, '|')\n",
    "        "
   ]
  },
  {
   "cell_type": "code",
   "execution_count": 192,
   "metadata": {},
   "outputs": [],
   "source": [
    "# Merge Uniis with names\n",
    "archive = zipfile.ZipFile(data_dir.joinpath('UNIIs.zip'), 'r')\n",
    "unii_names = pd.read_csv(archive.open('UNII NAMES 7Mar2019.txt'), sep='\\t')\n",
    "unii_names['UNII'] = 'UNII:' + unii_names['UNII']\n",
    "    \n",
    "ix_mrg = exp_ix_comps.merge(unii_names.dropna(subset=['Name']), how='inner', left_on='unii_id', right_on='UNII')"
   ]
  },
  {
   "cell_type": "code",
   "execution_count": 193,
   "metadata": {},
   "outputs": [],
   "source": [
    "# Use the synonmyms...\n",
    "for row in ix_mrg.itertuples():\n",
    "    name = getattr(row, 'Name')\n",
    "    if not pd.isnull(name):\n",
    "        # Some names have superfulous info in a bracket... so strip it out...\n",
    "        name = name.split('[')[0]\n",
    "        \n",
    "        name = strip_chars(name).lower()\n",
    "        adj_list[name].add(row.final_id)\n",
    "        adj_list[row.final_id].add(name)"
   ]
  },
  {
   "cell_type": "code",
   "execution_count": 194,
   "metadata": {},
   "outputs": [],
   "source": [
    "from queue import Queue\n",
    "from tqdm import tqdm\n",
    "\n",
    "def get_subnets(input_adj_list):\n",
    "\n",
    "    all_identifiers = list(input_adj_list.keys())\n",
    "\n",
    "    subnets = defaultdict(set)\n",
    "    visited = set()\n",
    "\n",
    "    for net_id in tqdm(all_identifiers):\n",
    "        if net_id not in visited:\n",
    "            visited.add(net_id)\n",
    "            q = Queue()\n",
    "            q.put(net_id)\n",
    "\n",
    "            while not q.empty():\n",
    "                cur = q.get()\n",
    "                visited.add(cur)\n",
    "\n",
    "                for neighbour in input_adj_list[cur]:\n",
    "                    subnets[net_id].add(neighbour)\n",
    "                    if neighbour not in visited:\n",
    "                        q.put(neighbour)\n",
    "                        visited.add(neighbour)\n",
    "\n",
    "    return subnets"
   ]
  },
  {
   "cell_type": "code",
   "execution_count": 195,
   "metadata": {},
   "outputs": [
    {
     "name": "stderr",
     "output_type": "stream",
     "text": [
      "100%|██████████| 1275617/1275617 [00:15<00:00, 83752.92it/s] \n"
     ]
    }
   ],
   "source": [
    "subnets = get_subnets(adj_list)"
   ]
  },
  {
   "cell_type": "code",
   "execution_count": 196,
   "metadata": {},
   "outputs": [
    {
     "data": {
      "text/plain": [
       "307940"
      ]
     },
     "execution_count": 196,
     "metadata": {},
     "output_type": "execute_result"
    }
   ],
   "source": [
    "len(subnets)"
   ]
  },
  {
   "cell_type": "code",
   "execution_count": 197,
   "metadata": {},
   "outputs": [],
   "source": [
    "# Get the special UNIIs\n",
    "num_unii = unii_names.dropna()[unii_names.dropna()['UNII'].str.isnumeric()]['UNII'].unique()\n",
    "alpha_unii = unii_names.dropna()[unii_names.dropna()['UNII'].str.isalpha()]['UNII'].unique()\n",
    "SPECIAL_UNII = list(num_unii) + list(alpha_unii)    "
   ]
  },
  {
   "cell_type": "code",
   "execution_count": 198,
   "metadata": {},
   "outputs": [],
   "source": [
    "def is_mesh(mid):\n",
    "    return mid.startswith('MESH:')\n",
    "def is_chebi(cid):\n",
    "    return cid.startswith('CHEBI:')\n",
    "def is_ikey(ikey):\n",
    "    #return tuple(map(len, ikey.split('-'))) == (14, 10, 1)\n",
    "    return ikey.startswith('IKEY:')\n",
    "def is_drugbank(dbid):\n",
    "    #return dbid.startswith('DB') and len(dbid) == 7\n",
    "    return dbid.startswith('DB:')\n",
    "def is_chembl(chemblid):\n",
    "    return chemblid.startswith('CHEMBL:')\n",
    "\n",
    "def is_pubchem(pcid):\n",
    "    return pcid.startswith('PCID:')\n",
    "def is_kegg(keggid):\n",
    "    return keggid.startswith('KEGG:')\n",
    "def is_umls(umls):\n",
    "    return umls.startswith('UMLS:')\n",
    "def is_wikidata(wiki):\n",
    "    return wiki.startswith('WD:')\n",
    "\n",
    "\n",
    "def is_unii(uid):\n",
    "    \n",
    "    \"\"\"    \n",
    "    old method for finding uniis, but now that we've added CURIs, shouldn't be necessary\n",
    "    # The exact restructions on uniis are non-obvious other than length 10....\n",
    "    if len(uid) != 10:\n",
    "        return False\n",
    "    # The uniis here are all capitalized on the alpha chars...\n",
    "    if not uid.isupper():\n",
    "        return False\n",
    "    \n",
    "    # Most UNIIs are mix of both alpha and numeric... \n",
    "    # Only a handful, of pure alpha, or pure num, so check if doesn't pass initial test...\n",
    "    return (uid.isalnum() and not uid.isalpha() and not uid.isnumeric()) or uid in SPECIAL_UNII\n",
    "    \"\"\"\n",
    "    return uid.startswith('UNII:')\n",
    "\n",
    "def is_identifier(val):\n",
    "    return is_mesh(val) or is_chebi(val) or is_chebi(val) or is_drugbank(val) or is_unii(val) or is_chembl(val) \\\n",
    "        or is_pubchem(val) or is_kegg(val) or is_umls(val) or is_wikidata(val)"
   ]
  },
  {
   "cell_type": "code",
   "execution_count": 199,
   "metadata": {},
   "outputs": [],
   "source": [
    "def get_best_id(list_of_ids, pref_order=None):\n",
    "    \n",
    "    if pref_order is None:\n",
    "        pref_order = ['chebi', 'ikey', 'unii', 'drugbank', 'mesh', 'chembl', 'pcid', 'kegg', 'umls', 'wd']\n",
    "    \n",
    "    # Ensure Types\n",
    "    list_of_ids = list(list_of_ids)\n",
    "\n",
    "\n",
    "    all_ids = dict()\n",
    "\n",
    "    # Separate the IDs by type\n",
    "    all_ids['mesh'] = [i for i in list_of_ids if is_mesh(i)]\n",
    "    all_ids['chebi'] = [i for i in list_of_ids if is_chebi(i)]\n",
    "    all_ids['ikey'] = [i for i in list_of_ids if is_ikey(i)]\n",
    "    all_ids['drugbank'] = [i for i in list_of_ids if is_drugbank(i)]\n",
    "    all_ids['unii'] = [i for i in list_of_ids if is_unii(i)]\n",
    "    all_ids['chembl'] = [i for i in list_of_ids if is_chembl(i)]\n",
    "    all_ids['pcid'] = [i for i in list_of_ids if is_pubchem(i)]\n",
    "    all_ids['kegg'] = [i for i in list_of_ids if is_kegg(i)]\n",
    "    all_ids['umls'] = [i for i in list_of_ids if is_umls(i)]\n",
    "    all_ids['wd'] = [i for i in list_of_ids if is_wikidata(i)]\n",
    "   \n",
    "    \n",
    "    # Find an id of the preferred type.\n",
    "    for po in pref_order:\n",
    "        if len(all_ids[po]) > 0:\n",
    "            return all_ids[po][0]\n",
    "    \n",
    "    return list_of_ids[0]\n"
   ]
  },
  {
   "cell_type": "code",
   "execution_count": 200,
   "metadata": {},
   "outputs": [],
   "source": [
    "id_to_subnet = {get_best_id(v): v for v in subnets.values()}\n",
    "old_to_new_id = {v: k for k, vals in id_to_subnet.items() for v in vals}"
   ]
  },
  {
   "cell_type": "code",
   "execution_count": 201,
   "metadata": {},
   "outputs": [
    {
     "data": {
      "text/plain": [
       "(307940, 1275617)"
      ]
     },
     "execution_count": 201,
     "metadata": {},
     "output_type": "execute_result"
    }
   ],
   "source": [
    "len(id_to_subnet), len(old_to_new_id)"
   ]
  },
  {
   "cell_type": "code",
   "execution_count": 202,
   "metadata": {},
   "outputs": [
    {
     "data": {
      "text/plain": [
       "12680"
      ]
     },
     "execution_count": 202,
     "metadata": {},
     "output_type": "execute_result"
    }
   ],
   "source": [
    "ref['final_id'] = ref['final_id'].map(old_to_new_id).fillna(ref['ikey'])\n",
    "ref['final_id'].nunique()"
   ]
  },
  {
   "cell_type": "code",
   "execution_count": 203,
   "metadata": {},
   "outputs": [
    {
     "data": {
      "text/plain": [
       "0"
      ]
     },
     "execution_count": 203,
     "metadata": {},
     "output_type": "execute_result"
    }
   ],
   "source": [
    "ref['final_id'].isnull().sum()"
   ]
  },
  {
   "cell_type": "code",
   "execution_count": 204,
   "metadata": {},
   "outputs": [
    {
     "data": {
      "text/plain": [
       "102528"
      ]
     },
     "execution_count": 204,
     "metadata": {},
     "output_type": "execute_result"
    }
   ],
   "source": [
    "ix_comps['final_id'] = ix_comps['final_id'].map(old_to_new_id)\n",
    "ix_comps['final_id'].nunique()"
   ]
  },
  {
   "cell_type": "code",
   "execution_count": 205,
   "metadata": {},
   "outputs": [
    {
     "data": {
      "text/plain": [
       "0"
      ]
     },
     "execution_count": 205,
     "metadata": {},
     "output_type": "execute_result"
    }
   ],
   "source": [
    "ix_comps['final_id'].isnull().sum()"
   ]
  },
  {
   "cell_type": "code",
   "execution_count": 206,
   "metadata": {},
   "outputs": [
    {
     "data": {
      "text/plain": [
       "name           0\n",
       "label          0\n",
       "chebi_id       0\n",
       "chembl_id      0\n",
       "drugbank_id    0\n",
       "ikey           0\n",
       "mesh_id        0\n",
       "unii_id        0\n",
       "source         0\n",
       "id             0\n",
       "final_id       0\n",
       "dtype: int64"
      ]
     },
     "execution_count": 206,
     "metadata": {},
     "output_type": "execute_result"
    }
   ],
   "source": [
    "ix_comps[ix_comps['final_id'].isnull()].count()"
   ]
  },
  {
   "cell_type": "code",
   "execution_count": 207,
   "metadata": {},
   "outputs": [
    {
     "data": {
      "text/plain": [
       "261609"
      ]
     },
     "execution_count": 207,
     "metadata": {},
     "output_type": "execute_result"
    }
   ],
   "source": [
    "prev_comps['final_id'] = prev_comps['final_id'].map(old_to_new_id)\n",
    "prev_comps['final_id'].nunique()"
   ]
  },
  {
   "cell_type": "code",
   "execution_count": 208,
   "metadata": {},
   "outputs": [
    {
     "data": {
      "text/plain": [
       "0"
      ]
     },
     "execution_count": 208,
     "metadata": {},
     "output_type": "execute_result"
    }
   ],
   "source": [
    "prev_comps['final_id'].isnull().sum()"
   ]
  },
  {
   "cell_type": "code",
   "execution_count": 209,
   "metadata": {},
   "outputs": [],
   "source": [
    "ref_ids = set(ref['final_id'])\n",
    "ix_ids = set(ix_comps['final_id'])\n",
    "prev_ids = set(prev_comps['final_id'])"
   ]
  },
  {
   "cell_type": "code",
   "execution_count": 210,
   "metadata": {},
   "outputs": [
    {
     "data": {
      "text/plain": [
       "<matplotlib_venn._common.VennDiagram at 0x7f99c1469e90>"
      ]
     },
     "execution_count": 210,
     "metadata": {},
     "output_type": "execute_result"
    },
    {
     "data": {
      "image/png": "[encoded data removed]",
      "text/plain": [
       "<Figure size 720x432 with 1 Axes>"
      ]
     },
     "metadata": {},
     "output_type": "display_data"
    }
   ],
   "source": [
    "plt.figure(figsize=(10,6))\n",
    "venn3_pretty([ref_ids, ix_ids, prev_ids], ['Reframe', 'Inxight Drugs', 'Previous'], border=False)"
   ]
  },
  {
   "cell_type": "markdown",
   "metadata": {},
   "source": [
    "In the final network, we will keep everything expect the Orange region...\n"
   ]
  },
  {
   "cell_type": "code",
   "execution_count": 211,
   "metadata": {},
   "outputs": [],
   "source": [
    "keep_ids = ref_ids & prev_ids"
   ]
  },
  {
   "cell_type": "code",
   "execution_count": 212,
   "metadata": {},
   "outputs": [
    {
     "data": {
      "text/html": [
       "<div>\n",
       "<style scoped>\n",
       "    .dataframe tbody tr th:only-of-type {\n",
       "        vertical-align: middle;\n",
       "    }\n",
       "\n",
       "    .dataframe tbody tr th {\n",
       "        vertical-align: top;\n",
       "    }\n",
       "\n",
       "    .dataframe thead th {\n",
       "        text-align: right;\n",
       "    }\n",
       "</style>\n",
       "<table border=\"1\" class=\"dataframe\">\n",
       "  <thead>\n",
       "    <tr style=\"text-align: right;\">\n",
       "      <th></th>\n",
       "      <th>id</th>\n",
       "      <th>name</th>\n",
       "      <th>label</th>\n",
       "      <th>xrefs</th>\n",
       "      <th>curi</th>\n",
       "      <th>drugbank_id</th>\n",
       "      <th>mesh_id</th>\n",
       "      <th>chebi_id</th>\n",
       "      <th>final_id</th>\n",
       "    </tr>\n",
       "  </thead>\n",
       "  <tbody>\n",
       "    <tr>\n",
       "      <th>0</th>\n",
       "      <td>CHEBI:10</td>\n",
       "      <td>(+)-Atherospermoline</td>\n",
       "      <td>Compound</td>\n",
       "      <td>CHEBI:10|CHEMBL:CHEMBL500609|KEGG:C11141|PCID:...</td>\n",
       "      <td>CHEBI</td>\n",
       "      <td>NaN</td>\n",
       "      <td>NaN</td>\n",
       "      <td>CHEBI:10</td>\n",
       "      <td>CHEBI:10</td>\n",
       "    </tr>\n",
       "    <tr>\n",
       "      <th>1</th>\n",
       "      <td>CHEBI:100</td>\n",
       "      <td>(-)-medicarpin</td>\n",
       "      <td>Compound</td>\n",
       "      <td>CHEBI:100|KEGG:C10503|PCID:336327|UNII:6TX086I6IG</td>\n",
       "      <td>CHEBI</td>\n",
       "      <td>NaN</td>\n",
       "      <td>NaN</td>\n",
       "      <td>CHEBI:100</td>\n",
       "      <td>CHEBI:100</td>\n",
       "    </tr>\n",
       "  </tbody>\n",
       "</table>\n",
       "</div>"
      ],
      "text/plain": [
       "          id                  name     label  \\\n",
       "0   CHEBI:10  (+)-Atherospermoline  Compound   \n",
       "1  CHEBI:100        (-)-medicarpin  Compound   \n",
       "\n",
       "                                               xrefs   curi drugbank_id  \\\n",
       "0  CHEBI:10|CHEMBL:CHEMBL500609|KEGG:C11141|PCID:...  CHEBI         NaN   \n",
       "1  CHEBI:100|KEGG:C10503|PCID:336327|UNII:6TX086I6IG  CHEBI         NaN   \n",
       "\n",
       "  mesh_id   chebi_id   final_id  \n",
       "0     NaN   CHEBI:10   CHEBI:10  \n",
       "1     NaN  CHEBI:100  CHEBI:100  "
      ]
     },
     "execution_count": 212,
     "metadata": {},
     "output_type": "execute_result"
    }
   ],
   "source": [
    "prev_comps.head(2)"
   ]
  },
  {
   "cell_type": "code",
   "execution_count": 213,
   "metadata": {},
   "outputs": [
    {
     "data": {
      "text/html": [
       "<div>\n",
       "<style scoped>\n",
       "    .dataframe tbody tr th:only-of-type {\n",
       "        vertical-align: middle;\n",
       "    }\n",
       "\n",
       "    .dataframe tbody tr th {\n",
       "        vertical-align: top;\n",
       "    }\n",
       "\n",
       "    .dataframe thead th {\n",
       "        text-align: right;\n",
       "    }\n",
       "</style>\n",
       "<table border=\"1\" class=\"dataframe\">\n",
       "  <thead>\n",
       "    <tr style=\"text-align: right;\">\n",
       "      <th></th>\n",
       "      <th>name</th>\n",
       "      <th>label</th>\n",
       "      <th>chebi_id</th>\n",
       "      <th>chembl_id</th>\n",
       "      <th>drugbank_id</th>\n",
       "      <th>ikey</th>\n",
       "      <th>mesh_id</th>\n",
       "      <th>unii_id</th>\n",
       "      <th>source</th>\n",
       "      <th>id</th>\n",
       "      <th>final_id</th>\n",
       "    </tr>\n",
       "  </thead>\n",
       "  <tbody>\n",
       "    <tr>\n",
       "      <th>0</th>\n",
       "      <td>Acetanilide</td>\n",
       "      <td>Compound</td>\n",
       "      <td>CHEBI:28884</td>\n",
       "      <td>CHEMBL:CHEMBL269644</td>\n",
       "      <td>NaN</td>\n",
       "      <td>IKEY:FZERHIULMFGESH-UHFFFAOYSA-N</td>\n",
       "      <td>MESH:C508827</td>\n",
       "      <td>UNII:SP86R356CC</td>\n",
       "      <td>ikey</td>\n",
       "      <td>IKEY:FZERHIULMFGESH-UHFFFAOYSA-N</td>\n",
       "      <td>CHEBI:31190</td>\n",
       "    </tr>\n",
       "    <tr>\n",
       "      <th>1</th>\n",
       "      <td>Acetylfuratrizine</td>\n",
       "      <td>Compound</td>\n",
       "      <td>CHEBI:135137</td>\n",
       "      <td>NaN</td>\n",
       "      <td>NaN</td>\n",
       "      <td>IKEY:SWMPGCCDXNLPED-NSCUHMNNSA-N</td>\n",
       "      <td>MESH:C007794</td>\n",
       "      <td>UNII:C50C4V19SU</td>\n",
       "      <td>ikey</td>\n",
       "      <td>IKEY:SWMPGCCDXNLPED-NSCUHMNNSA-N</td>\n",
       "      <td>CHEBI:135137</td>\n",
       "    </tr>\n",
       "  </tbody>\n",
       "</table>\n",
       "</div>"
      ],
      "text/plain": [
       "                name     label      chebi_id            chembl_id drugbank_id  \\\n",
       "0        Acetanilide  Compound   CHEBI:28884  CHEMBL:CHEMBL269644         NaN   \n",
       "1  Acetylfuratrizine  Compound  CHEBI:135137                  NaN         NaN   \n",
       "\n",
       "                               ikey       mesh_id          unii_id source  \\\n",
       "0  IKEY:FZERHIULMFGESH-UHFFFAOYSA-N  MESH:C508827  UNII:SP86R356CC   ikey   \n",
       "1  IKEY:SWMPGCCDXNLPED-NSCUHMNNSA-N  MESH:C007794  UNII:C50C4V19SU   ikey   \n",
       "\n",
       "                                 id      final_id  \n",
       "0  IKEY:FZERHIULMFGESH-UHFFFAOYSA-N   CHEBI:31190  \n",
       "1  IKEY:SWMPGCCDXNLPED-NSCUHMNNSA-N  CHEBI:135137  "
      ]
     },
     "execution_count": 213,
     "metadata": {},
     "output_type": "execute_result"
    }
   ],
   "source": [
    "ix_comps.head(2)"
   ]
  },
  {
   "cell_type": "code",
   "execution_count": 214,
   "metadata": {},
   "outputs": [],
   "source": [
    "ref_nodes = ref.loc[:, ['final_id', 'source']]\n",
    "ref_nodes['label'] = 'Drug'\n",
    "prev_comp_nodes = prev_comps.loc[:, ['final_id', 'name', 'label']]\n",
    "ix_comp_nodes = ix_comps.loc[:, ['final_id', 'name']].query('final_id in @keep_ids')\n",
    "ix_comp_nodes['label'] = 'Drug'"
   ]
  },
  {
   "cell_type": "code",
   "execution_count": 215,
   "metadata": {},
   "outputs": [],
   "source": [
    "compounds = pd.concat([ref_nodes, prev_comp_nodes, ix_comp_nodes], ignore_index=True, sort=False)\n",
    "compounds = gt.order_cols(compounds.drop_duplicates(subset=['final_id'], keep='first').rename(columns={'final_id': 'id'}))"
   ]
  },
  {
   "cell_type": "code",
   "execution_count": 216,
   "metadata": {},
   "outputs": [],
   "source": [
    "ref['name'] = ref['drug_name'].fillna(ref['name_inf'].fillna(ref['name_itg']))\n",
    "id_to_name = chebi.set_index('id')['name'].to_dict()\n",
    "id_to_name = {**chebi.set_index('mesh')['name'].to_dict(), **id_to_name}\n",
    "id_to_name = {**chebi.set_index('ikey')['name'].to_dict(), **id_to_name}\n",
    "id_to_name = {**prev_comps.set_index('id')['name'].to_dict(), **id_to_name}\n",
    "id_to_name = {**ref.set_index('ikey')['name'].to_dict(), **id_to_name}\n",
    "id_to_name = {**ref.set_index('mesh_id')['name'].to_dict(), **id_to_name}\n",
    "id_to_name = {**ix_comps.set_index('id')['name'].to_dict(), **id_to_name}\n",
    "id_to_name = {**ix_comps.set_index('ikey')['name'].to_dict(), **id_to_name}\n",
    "id_to_name = {**ix_comps.set_index('unii_id')['name'].to_dict(), **id_to_name}"
   ]
  },
  {
   "cell_type": "code",
   "execution_count": 217,
   "metadata": {},
   "outputs": [],
   "source": [
    "compounds['name'] = compounds['name'].fillna(compounds['id'].map(id_to_name))"
   ]
  },
  {
   "cell_type": "code",
   "execution_count": 218,
   "metadata": {
    "scrolled": true
   },
   "outputs": [
    {
     "data": {
      "text/plain": [
       "Compound    252715\n",
       "Drug         12680\n",
       "Name: label, dtype: int64"
      ]
     },
     "execution_count": 218,
     "metadata": {},
     "output_type": "execute_result"
    }
   ],
   "source": [
    "compounds['label'].value_counts()"
   ]
  },
  {
   "cell_type": "code",
   "execution_count": 219,
   "metadata": {
    "scrolled": true
   },
   "outputs": [
    {
     "data": {
      "text/plain": [
       "CHEBI     87374\n",
       "PCID      66548\n",
       "WD        55763\n",
       "IKEY      47116\n",
       "CHEMBL     7382\n",
       "UNII        888\n",
       "DB          282\n",
       "MESH         31\n",
       "KEGG         10\n",
       "UMLS          1\n",
       "Name: id, dtype: int64"
      ]
     },
     "execution_count": 219,
     "metadata": {},
     "output_type": "execute_result"
    }
   ],
   "source": [
    "compounds['id'].apply(lambda s: s.split(':')[0]).value_counts().head(10)"
   ]
  },
  {
   "cell_type": "markdown",
   "metadata": {},
   "source": [
    "## Save out our gigantic mapping efforts"
   ]
  },
  {
   "cell_type": "code",
   "execution_count": 220,
   "metadata": {},
   "outputs": [],
   "source": [
    "id_map_results = pd.DataFrame({'old_id': list(old_to_new_id.keys()), 'new_id': list(old_to_new_id.values())})\n",
    "\n",
    "id_map_results['is_id'] = id_map_results['old_id'].apply(lambda x: is_identifier(x))\n",
    "id_map_results['old_name'] = id_map_results['old_id'].map(id_to_name)\n",
    "id_map_results['new_name'] = id_map_results['new_id'].map(id_to_name)"
   ]
  },
  {
   "cell_type": "code",
   "execution_count": 221,
   "metadata": {},
   "outputs": [
    {
     "data": {
      "text/plain": [
       "1275617"
      ]
     },
     "execution_count": 221,
     "metadata": {},
     "output_type": "execute_result"
    }
   ],
   "source": [
    "len(id_map_results)"
   ]
  },
  {
   "cell_type": "code",
   "execution_count": 222,
   "metadata": {},
   "outputs": [],
   "source": [
    "max_res = id_map_results.query('is_id')['new_id'].value_counts().index[0]"
   ]
  },
  {
   "cell_type": "code",
   "execution_count": 223,
   "metadata": {},
   "outputs": [
    {
     "data": {
      "text/html": [
       "<div>\n",
       "<style scoped>\n",
       "    .dataframe tbody tr th:only-of-type {\n",
       "        vertical-align: middle;\n",
       "    }\n",
       "\n",
       "    .dataframe tbody tr th {\n",
       "        vertical-align: top;\n",
       "    }\n",
       "\n",
       "    .dataframe thead th {\n",
       "        text-align: right;\n",
       "    }\n",
       "</style>\n",
       "<table border=\"1\" class=\"dataframe\">\n",
       "  <thead>\n",
       "    <tr style=\"text-align: right;\">\n",
       "      <th></th>\n",
       "      <th>old_id</th>\n",
       "      <th>new_id</th>\n",
       "      <th>is_id</th>\n",
       "      <th>old_name</th>\n",
       "      <th>new_name</th>\n",
       "    </tr>\n",
       "  </thead>\n",
       "  <tbody>\n",
       "    <tr>\n",
       "      <th>620331</th>\n",
       "      <td>UNII:33D0C5D77R</td>\n",
       "      <td>UNII:33D0C5D77R</td>\n",
       "      <td>True</td>\n",
       "      <td>Cetomacrogol 1000</td>\n",
       "      <td>Cetomacrogol 1000</td>\n",
       "    </tr>\n",
       "    <tr>\n",
       "      <th>620332</th>\n",
       "      <td>UNII:MK1889A3JS</td>\n",
       "      <td>UNII:33D0C5D77R</td>\n",
       "      <td>True</td>\n",
       "      <td>Cetomacrogol 1000</td>\n",
       "      <td>Cetomacrogol 1000</td>\n",
       "    </tr>\n",
       "    <tr>\n",
       "      <th>620334</th>\n",
       "      <td>UNII:G8K9HXI96S</td>\n",
       "      <td>UNII:33D0C5D77R</td>\n",
       "      <td>True</td>\n",
       "      <td>Cetomacrogol 1000</td>\n",
       "      <td>Cetomacrogol 1000</td>\n",
       "    </tr>\n",
       "    <tr>\n",
       "      <th>620335</th>\n",
       "      <td>UNII:W821XK704Z</td>\n",
       "      <td>UNII:33D0C5D77R</td>\n",
       "      <td>True</td>\n",
       "      <td>Cetomacrogol 1000</td>\n",
       "      <td>Cetomacrogol 1000</td>\n",
       "    </tr>\n",
       "    <tr>\n",
       "      <th>620342</th>\n",
       "      <td>UNII:XZ19O8Z6FM</td>\n",
       "      <td>UNII:33D0C5D77R</td>\n",
       "      <td>True</td>\n",
       "      <td>Cetomacrogol 1000</td>\n",
       "      <td>Cetomacrogol 1000</td>\n",
       "    </tr>\n",
       "    <tr>\n",
       "      <th>620349</th>\n",
       "      <td>UNII:5KLY4IOG20</td>\n",
       "      <td>UNII:33D0C5D77R</td>\n",
       "      <td>True</td>\n",
       "      <td>Cetomacrogol 1000</td>\n",
       "      <td>Cetomacrogol 1000</td>\n",
       "    </tr>\n",
       "    <tr>\n",
       "      <th>620354</th>\n",
       "      <td>UNII:0EV3Z43Y2I</td>\n",
       "      <td>UNII:33D0C5D77R</td>\n",
       "      <td>True</td>\n",
       "      <td>Cetomacrogol 1000</td>\n",
       "      <td>Cetomacrogol 1000</td>\n",
       "    </tr>\n",
       "    <tr>\n",
       "      <th>620355</th>\n",
       "      <td>UNII:GY15017H2B</td>\n",
       "      <td>UNII:33D0C5D77R</td>\n",
       "      <td>True</td>\n",
       "      <td>Cetomacrogol 1000</td>\n",
       "      <td>Cetomacrogol 1000</td>\n",
       "    </tr>\n",
       "    <tr>\n",
       "      <th>620360</th>\n",
       "      <td>UNII:6X446K7Q0Y</td>\n",
       "      <td>UNII:33D0C5D77R</td>\n",
       "      <td>True</td>\n",
       "      <td>Cetomacrogol 1000</td>\n",
       "      <td>Cetomacrogol 1000</td>\n",
       "    </tr>\n",
       "    <tr>\n",
       "      <th>620361</th>\n",
       "      <td>UNII:9E0067TYQH</td>\n",
       "      <td>UNII:33D0C5D77R</td>\n",
       "      <td>True</td>\n",
       "      <td>Cetomacrogol 1000</td>\n",
       "      <td>Cetomacrogol 1000</td>\n",
       "    </tr>\n",
       "    <tr>\n",
       "      <th>620371</th>\n",
       "      <td>UNII:4TIK16VW41</td>\n",
       "      <td>UNII:33D0C5D77R</td>\n",
       "      <td>True</td>\n",
       "      <td>Cetomacrogol 1000</td>\n",
       "      <td>Cetomacrogol 1000</td>\n",
       "    </tr>\n",
       "    <tr>\n",
       "      <th>620375</th>\n",
       "      <td>UNII:WP14KA7G07</td>\n",
       "      <td>UNII:33D0C5D77R</td>\n",
       "      <td>True</td>\n",
       "      <td>Cetomacrogol 1000</td>\n",
       "      <td>Cetomacrogol 1000</td>\n",
       "    </tr>\n",
       "    <tr>\n",
       "      <th>620382</th>\n",
       "      <td>UNII:5QU14HKY1U</td>\n",
       "      <td>UNII:33D0C5D77R</td>\n",
       "      <td>True</td>\n",
       "      <td>Cetomacrogol 1000</td>\n",
       "      <td>Cetomacrogol 1000</td>\n",
       "    </tr>\n",
       "    <tr>\n",
       "      <th>620387</th>\n",
       "      <td>UNII:94826GMB5B</td>\n",
       "      <td>UNII:33D0C5D77R</td>\n",
       "      <td>True</td>\n",
       "      <td>Cetomacrogol 1000</td>\n",
       "      <td>Cetomacrogol 1000</td>\n",
       "    </tr>\n",
       "    <tr>\n",
       "      <th>620391</th>\n",
       "      <td>UNII:495CTZ441V</td>\n",
       "      <td>UNII:33D0C5D77R</td>\n",
       "      <td>True</td>\n",
       "      <td>Cetomacrogol 1000</td>\n",
       "      <td>Cetomacrogol 1000</td>\n",
       "    </tr>\n",
       "    <tr>\n",
       "      <th>620393</th>\n",
       "      <td>UNII:LF9X1PN3XJ</td>\n",
       "      <td>UNII:33D0C5D77R</td>\n",
       "      <td>True</td>\n",
       "      <td>Cetomacrogol 1000</td>\n",
       "      <td>Cetomacrogol 1000</td>\n",
       "    </tr>\n",
       "    <tr>\n",
       "      <th>620395</th>\n",
       "      <td>UNII:QWP6WMW083</td>\n",
       "      <td>UNII:33D0C5D77R</td>\n",
       "      <td>True</td>\n",
       "      <td>Cetomacrogol 1000</td>\n",
       "      <td>Cetomacrogol 1000</td>\n",
       "    </tr>\n",
       "    <tr>\n",
       "      <th>620397</th>\n",
       "      <td>UNII:I835H2IHHX</td>\n",
       "      <td>UNII:33D0C5D77R</td>\n",
       "      <td>True</td>\n",
       "      <td>Cetomacrogol 1000</td>\n",
       "      <td>Cetomacrogol 1000</td>\n",
       "    </tr>\n",
       "    <tr>\n",
       "      <th>620398</th>\n",
       "      <td>UNII:7Z6Q50934N</td>\n",
       "      <td>UNII:33D0C5D77R</td>\n",
       "      <td>True</td>\n",
       "      <td>Cetomacrogol 1000</td>\n",
       "      <td>Cetomacrogol 1000</td>\n",
       "    </tr>\n",
       "    <tr>\n",
       "      <th>620399</th>\n",
       "      <td>UNII:N23GP0Q09W</td>\n",
       "      <td>UNII:33D0C5D77R</td>\n",
       "      <td>True</td>\n",
       "      <td>Cetomacrogol 1000</td>\n",
       "      <td>Cetomacrogol 1000</td>\n",
       "    </tr>\n",
       "    <tr>\n",
       "      <th>620402</th>\n",
       "      <td>UNII:2BB3L0ZO76</td>\n",
       "      <td>UNII:33D0C5D77R</td>\n",
       "      <td>True</td>\n",
       "      <td>Cetomacrogol 1000</td>\n",
       "      <td>Cetomacrogol 1000</td>\n",
       "    </tr>\n",
       "    <tr>\n",
       "      <th>620403</th>\n",
       "      <td>UNII:4ST6952Q67</td>\n",
       "      <td>UNII:33D0C5D77R</td>\n",
       "      <td>True</td>\n",
       "      <td>Cetomacrogol 1000</td>\n",
       "      <td>Cetomacrogol 1000</td>\n",
       "    </tr>\n",
       "    <tr>\n",
       "      <th>620405</th>\n",
       "      <td>UNII:IV5HOR6SHT</td>\n",
       "      <td>UNII:33D0C5D77R</td>\n",
       "      <td>True</td>\n",
       "      <td>Cetomacrogol 1000</td>\n",
       "      <td>Cetomacrogol 1000</td>\n",
       "    </tr>\n",
       "  </tbody>\n",
       "</table>\n",
       "</div>"
      ],
      "text/plain": [
       "                 old_id           new_id  is_id           old_name  \\\n",
       "620331  UNII:33D0C5D77R  UNII:33D0C5D77R   True  Cetomacrogol 1000   \n",
       "620332  UNII:MK1889A3JS  UNII:33D0C5D77R   True  Cetomacrogol 1000   \n",
       "620334  UNII:G8K9HXI96S  UNII:33D0C5D77R   True  Cetomacrogol 1000   \n",
       "620335  UNII:W821XK704Z  UNII:33D0C5D77R   True  Cetomacrogol 1000   \n",
       "620342  UNII:XZ19O8Z6FM  UNII:33D0C5D77R   True  Cetomacrogol 1000   \n",
       "620349  UNII:5KLY4IOG20  UNII:33D0C5D77R   True  Cetomacrogol 1000   \n",
       "620354  UNII:0EV3Z43Y2I  UNII:33D0C5D77R   True  Cetomacrogol 1000   \n",
       "620355  UNII:GY15017H2B  UNII:33D0C5D77R   True  Cetomacrogol 1000   \n",
       "620360  UNII:6X446K7Q0Y  UNII:33D0C5D77R   True  Cetomacrogol 1000   \n",
       "620361  UNII:9E0067TYQH  UNII:33D0C5D77R   True  Cetomacrogol 1000   \n",
       "620371  UNII:4TIK16VW41  UNII:33D0C5D77R   True  Cetomacrogol 1000   \n",
       "620375  UNII:WP14KA7G07  UNII:33D0C5D77R   True  Cetomacrogol 1000   \n",
       "620382  UNII:5QU14HKY1U  UNII:33D0C5D77R   True  Cetomacrogol 1000   \n",
       "620387  UNII:94826GMB5B  UNII:33D0C5D77R   True  Cetomacrogol 1000   \n",
       "620391  UNII:495CTZ441V  UNII:33D0C5D77R   True  Cetomacrogol 1000   \n",
       "620393  UNII:LF9X1PN3XJ  UNII:33D0C5D77R   True  Cetomacrogol 1000   \n",
       "620395  UNII:QWP6WMW083  UNII:33D0C5D77R   True  Cetomacrogol 1000   \n",
       "620397  UNII:I835H2IHHX  UNII:33D0C5D77R   True  Cetomacrogol 1000   \n",
       "620398  UNII:7Z6Q50934N  UNII:33D0C5D77R   True  Cetomacrogol 1000   \n",
       "620399  UNII:N23GP0Q09W  UNII:33D0C5D77R   True  Cetomacrogol 1000   \n",
       "620402  UNII:2BB3L0ZO76  UNII:33D0C5D77R   True  Cetomacrogol 1000   \n",
       "620403  UNII:4ST6952Q67  UNII:33D0C5D77R   True  Cetomacrogol 1000   \n",
       "620405  UNII:IV5HOR6SHT  UNII:33D0C5D77R   True  Cetomacrogol 1000   \n",
       "\n",
       "                 new_name  \n",
       "620331  Cetomacrogol 1000  \n",
       "620332  Cetomacrogol 1000  \n",
       "620334  Cetomacrogol 1000  \n",
       "620335  Cetomacrogol 1000  \n",
       "620342  Cetomacrogol 1000  \n",
       "620349  Cetomacrogol 1000  \n",
       "620354  Cetomacrogol 1000  \n",
       "620355  Cetomacrogol 1000  \n",
       "620360  Cetomacrogol 1000  \n",
       "620361  Cetomacrogol 1000  \n",
       "620371  Cetomacrogol 1000  \n",
       "620375  Cetomacrogol 1000  \n",
       "620382  Cetomacrogol 1000  \n",
       "620387  Cetomacrogol 1000  \n",
       "620391  Cetomacrogol 1000  \n",
       "620393  Cetomacrogol 1000  \n",
       "620395  Cetomacrogol 1000  \n",
       "620397  Cetomacrogol 1000  \n",
       "620398  Cetomacrogol 1000  \n",
       "620399  Cetomacrogol 1000  \n",
       "620402  Cetomacrogol 1000  \n",
       "620403  Cetomacrogol 1000  \n",
       "620405  Cetomacrogol 1000  "
      ]
     },
     "execution_count": 223,
     "metadata": {},
     "output_type": "execute_result"
    }
   ],
   "source": [
    "id_map_results.query('new_id == @max_res and is_id')"
   ]
  },
  {
   "cell_type": "code",
   "execution_count": 224,
   "metadata": {},
   "outputs": [
    {
     "data": {
      "text/html": [
       "<div>\n",
       "<style scoped>\n",
       "    .dataframe tbody tr th:only-of-type {\n",
       "        vertical-align: middle;\n",
       "    }\n",
       "\n",
       "    .dataframe tbody tr th {\n",
       "        vertical-align: top;\n",
       "    }\n",
       "\n",
       "    .dataframe thead th {\n",
       "        text-align: right;\n",
       "    }\n",
       "</style>\n",
       "<table border=\"1\" class=\"dataframe\">\n",
       "  <thead>\n",
       "    <tr style=\"text-align: right;\">\n",
       "      <th></th>\n",
       "      <th>old_id</th>\n",
       "      <th>new_id</th>\n",
       "      <th>is_id</th>\n",
       "      <th>old_name</th>\n",
       "      <th>new_name</th>\n",
       "    </tr>\n",
       "  </thead>\n",
       "  <tbody>\n",
       "    <tr>\n",
       "      <th>58</th>\n",
       "      <td>CHEBI:72690</td>\n",
       "      <td>CHEBI:72690</td>\n",
       "      <td>True</td>\n",
       "      <td>pomalidomide</td>\n",
       "      <td>pomalidomide</td>\n",
       "    </tr>\n",
       "    <tr>\n",
       "      <th>87</th>\n",
       "      <td>UNII:4Z8R6ORS6L</td>\n",
       "      <td>CHEBI:72690</td>\n",
       "      <td>True</td>\n",
       "      <td>Thalidomide</td>\n",
       "      <td>pomalidomide</td>\n",
       "    </tr>\n",
       "    <tr>\n",
       "      <th>95</th>\n",
       "      <td>UNII:F0P408N6V4</td>\n",
       "      <td>CHEBI:72690</td>\n",
       "      <td>True</td>\n",
       "      <td>Lenalidomide</td>\n",
       "      <td>pomalidomide</td>\n",
       "    </tr>\n",
       "    <tr>\n",
       "      <th>99</th>\n",
       "      <td>CHEBI:74947</td>\n",
       "      <td>CHEBI:72690</td>\n",
       "      <td>True</td>\n",
       "      <td>2-(2,6-dioxopiperidin-3-yl)-1H-isoindole-1,3(2...</td>\n",
       "      <td>pomalidomide</td>\n",
       "    </tr>\n",
       "    <tr>\n",
       "      <th>100</th>\n",
       "      <td>CHEBI:61918</td>\n",
       "      <td>CHEBI:72690</td>\n",
       "      <td>True</td>\n",
       "      <td>(S)-thalidomide</td>\n",
       "      <td>pomalidomide</td>\n",
       "    </tr>\n",
       "    <tr>\n",
       "      <th>...</th>\n",
       "      <td>...</td>\n",
       "      <td>...</td>\n",
       "      <td>...</td>\n",
       "      <td>...</td>\n",
       "      <td>...</td>\n",
       "    </tr>\n",
       "    <tr>\n",
       "      <th>1021295</th>\n",
       "      <td>UNII:V9BQI51YUL</td>\n",
       "      <td>IKEY:DQXBYHZEEUGOBF-UHFFFAOYSA-N</td>\n",
       "      <td>True</td>\n",
       "      <td>Ethylene-vinyl acetate copolymer (15% vinyl ac...</td>\n",
       "      <td>Ethylene-vinyl acetate copolymer (19% vinylace...</td>\n",
       "    </tr>\n",
       "    <tr>\n",
       "      <th>1021297</th>\n",
       "      <td>UNII:3H390O24SI</td>\n",
       "      <td>IKEY:DQXBYHZEEUGOBF-UHFFFAOYSA-N</td>\n",
       "      <td>True</td>\n",
       "      <td>Ethylene-vinyl acetate copolymer (50% vinyl ac...</td>\n",
       "      <td>Ethylene-vinyl acetate copolymer (19% vinylace...</td>\n",
       "    </tr>\n",
       "    <tr>\n",
       "      <th>1021300</th>\n",
       "      <td>UNII:4OKC630HS6</td>\n",
       "      <td>IKEY:DQXBYHZEEUGOBF-UHFFFAOYSA-N</td>\n",
       "      <td>True</td>\n",
       "      <td>Ethylene-vinyl acetate copolymer (9% vinylacet...</td>\n",
       "      <td>Ethylene-vinyl acetate copolymer (19% vinylace...</td>\n",
       "    </tr>\n",
       "    <tr>\n",
       "      <th>1021307</th>\n",
       "      <td>UNII:8ILA5X28VS</td>\n",
       "      <td>IKEY:DQXBYHZEEUGOBF-UHFFFAOYSA-N</td>\n",
       "      <td>True</td>\n",
       "      <td>Ethylene-vinyl acetate copolymer (28% vinyl ac...</td>\n",
       "      <td>Ethylene-vinyl acetate copolymer (19% vinylace...</td>\n",
       "    </tr>\n",
       "    <tr>\n",
       "      <th>1021311</th>\n",
       "      <td>UNII:JK6142KK4O</td>\n",
       "      <td>IKEY:DQXBYHZEEUGOBF-UHFFFAOYSA-N</td>\n",
       "      <td>True</td>\n",
       "      <td>Ethylene-vinyl acetate copolymer (19% vinylace...</td>\n",
       "      <td>Ethylene-vinyl acetate copolymer (19% vinylace...</td>\n",
       "    </tr>\n",
       "  </tbody>\n",
       "</table>\n",
       "<p>1692 rows × 5 columns</p>\n",
       "</div>"
      ],
      "text/plain": [
       "                  old_id                            new_id  is_id  \\\n",
       "58           CHEBI:72690                       CHEBI:72690   True   \n",
       "87       UNII:4Z8R6ORS6L                       CHEBI:72690   True   \n",
       "95       UNII:F0P408N6V4                       CHEBI:72690   True   \n",
       "99           CHEBI:74947                       CHEBI:72690   True   \n",
       "100          CHEBI:61918                       CHEBI:72690   True   \n",
       "...                  ...                               ...    ...   \n",
       "1021295  UNII:V9BQI51YUL  IKEY:DQXBYHZEEUGOBF-UHFFFAOYSA-N   True   \n",
       "1021297  UNII:3H390O24SI  IKEY:DQXBYHZEEUGOBF-UHFFFAOYSA-N   True   \n",
       "1021300  UNII:4OKC630HS6  IKEY:DQXBYHZEEUGOBF-UHFFFAOYSA-N   True   \n",
       "1021307  UNII:8ILA5X28VS  IKEY:DQXBYHZEEUGOBF-UHFFFAOYSA-N   True   \n",
       "1021311  UNII:JK6142KK4O  IKEY:DQXBYHZEEUGOBF-UHFFFAOYSA-N   True   \n",
       "\n",
       "                                                  old_name  \\\n",
       "58                                            pomalidomide   \n",
       "87                                             Thalidomide   \n",
       "95                                            Lenalidomide   \n",
       "99       2-(2,6-dioxopiperidin-3-yl)-1H-isoindole-1,3(2...   \n",
       "100                                        (S)-thalidomide   \n",
       "...                                                    ...   \n",
       "1021295  Ethylene-vinyl acetate copolymer (15% vinyl ac...   \n",
       "1021297  Ethylene-vinyl acetate copolymer (50% vinyl ac...   \n",
       "1021300  Ethylene-vinyl acetate copolymer (9% vinylacet...   \n",
       "1021307  Ethylene-vinyl acetate copolymer (28% vinyl ac...   \n",
       "1021311  Ethylene-vinyl acetate copolymer (19% vinylace...   \n",
       "\n",
       "                                                  new_name  \n",
       "58                                            pomalidomide  \n",
       "87                                            pomalidomide  \n",
       "95                                            pomalidomide  \n",
       "99                                            pomalidomide  \n",
       "100                                           pomalidomide  \n",
       "...                                                    ...  \n",
       "1021295  Ethylene-vinyl acetate copolymer (19% vinylace...  \n",
       "1021297  Ethylene-vinyl acetate copolymer (19% vinylace...  \n",
       "1021300  Ethylene-vinyl acetate copolymer (19% vinylace...  \n",
       "1021307  Ethylene-vinyl acetate copolymer (19% vinylace...  \n",
       "1021311  Ethylene-vinyl acetate copolymer (19% vinylace...  \n",
       "\n",
       "[1692 rows x 5 columns]"
      ]
     },
     "execution_count": 224,
     "metadata": {},
     "output_type": "execute_result"
    }
   ],
   "source": [
    "vc = id_map_results.query('is_id')['new_id'].value_counts()\n",
    "high_val = vc[vc > 5].index\n",
    "\n",
    "id_map_results.query('new_id in @high_val and is_id')"
   ]
  },
  {
   "cell_type": "code",
   "execution_count": 225,
   "metadata": {},
   "outputs": [
    {
     "data": {
      "text/plain": [
       "224"
      ]
     },
     "execution_count": 225,
     "metadata": {},
     "output_type": "execute_result"
    }
   ],
   "source": [
    "len(high_val)"
   ]
  },
  {
   "cell_type": "code",
   "execution_count": 226,
   "metadata": {},
   "outputs": [],
   "source": [
    "id_map_results.to_csv(out_dir.joinpath('compound_identifier_mapping.csv'), index=False)\n",
    "compounds.to_csv(out_dir.joinpath('compound_nodes.csv'), index=False)"
   ]
  },
  {
   "cell_type": "code",
   "execution_count": 227,
   "metadata": {},
   "outputs": [],
   "source": [
    "id_to_xrefs = combine_group_cols_on_char(id_map_results, ['new_id'], ['old_id'], sort=True, prog=False)\n",
    "id_to_xrefs = id_to_xrefs.set_index('new_id')['old_id'].to_dict()"
   ]
  },
  {
   "cell_type": "code",
   "execution_count": 228,
   "metadata": {},
   "outputs": [],
   "source": [
    "compounds['xrefs'] = compounds['id'].map(id_to_xrefs)"
   ]
  },
  {
   "cell_type": "code",
   "execution_count": 229,
   "metadata": {},
   "outputs": [
    {
     "data": {
      "text/html": [
       "<div>\n",
       "<style scoped>\n",
       "    .dataframe tbody tr th:only-of-type {\n",
       "        vertical-align: middle;\n",
       "    }\n",
       "\n",
       "    .dataframe tbody tr th {\n",
       "        vertical-align: top;\n",
       "    }\n",
       "\n",
       "    .dataframe thead th {\n",
       "        text-align: right;\n",
       "    }\n",
       "</style>\n",
       "<table border=\"1\" class=\"dataframe\">\n",
       "  <thead>\n",
       "    <tr style=\"text-align: right;\">\n",
       "      <th></th>\n",
       "      <th>id</th>\n",
       "      <th>name</th>\n",
       "      <th>label</th>\n",
       "      <th>source</th>\n",
       "      <th>xrefs</th>\n",
       "    </tr>\n",
       "  </thead>\n",
       "  <tbody>\n",
       "    <tr>\n",
       "      <th>172487</th>\n",
       "      <td>PCID:56843431</td>\n",
       "      <td>(3S,4S,5S)-3-(ethylamino)-4,5-dihydroxy-6-[[(1...</td>\n",
       "      <td>Compound</td>\n",
       "      <td>NaN</td>\n",
       "      <td>3s4s5s3ethylamino45dihydroxy61s13s8hydroxy1oxo...</td>\n",
       "    </tr>\n",
       "    <tr>\n",
       "      <th>116527</th>\n",
       "      <td>IKEY:PDJZASCRQRBYQS-UHFFFAOYSA-N</td>\n",
       "      <td>N-BENZYL-4-[4-(3-CHLOROPHENYL)-1H-PYRAZOL-3-YL...</td>\n",
       "      <td>Compound</td>\n",
       "      <td>NaN</td>\n",
       "      <td>CHEMBL:CHEMBL220320|IKEY:PDJZASCRQRBYQS-UHFFFA...</td>\n",
       "    </tr>\n",
       "    <tr>\n",
       "      <th>33135</th>\n",
       "      <td>CHEBI:115748</td>\n",
       "      <td>6-ethyl-N-[2-(4-methoxyphenyl)ethyl]-5-methyl-...</td>\n",
       "      <td>Compound</td>\n",
       "      <td>NaN</td>\n",
       "      <td>6ethyln24methoxyphenylethyl5methyl124triazolo1...</td>\n",
       "    </tr>\n",
       "    <tr>\n",
       "      <th>30916</th>\n",
       "      <td>CHEBI:113541</td>\n",
       "      <td>2-phenyl-1H-indole</td>\n",
       "      <td>Compound</td>\n",
       "      <td>NaN</td>\n",
       "      <td>1hindole2phenyl|2phenyl1hindole|2phenylindole|...</td>\n",
       "    </tr>\n",
       "    <tr>\n",
       "      <th>6637</th>\n",
       "      <td>CHEBI:48095</td>\n",
       "      <td>keto-D-fructose</td>\n",
       "      <td>Drug</td>\n",
       "      <td>gvk</td>\n",
       "      <td>CHEBI:15824|CHEBI:28757|CHEBI:43703|CHEBI:4809...</td>\n",
       "    </tr>\n",
       "    <tr>\n",
       "      <th>36568</th>\n",
       "      <td>CHEBI:119163</td>\n",
       "      <td>N-[(2S,3R,6S)-6-[2-(2,3-dihydro-1H-inden-2-yla...</td>\n",
       "      <td>Compound</td>\n",
       "      <td>NaN</td>\n",
       "      <td>CHEBI:119163|n2s3r6s6223dihydro1hinden2ylamino...</td>\n",
       "    </tr>\n",
       "    <tr>\n",
       "      <th>137128</th>\n",
       "      <td>PCID:131754200</td>\n",
       "      <td>[(2S)-2-octadecanoyloxy-3-pentadecanoyloxyprop...</td>\n",
       "      <td>Compound</td>\n",
       "      <td>NaN</td>\n",
       "      <td>2s2octadecanoyloxy3pentadecanoyloxypropyl8z11z...</td>\n",
       "    </tr>\n",
       "    <tr>\n",
       "      <th>46777</th>\n",
       "      <td>CHEBI:129354</td>\n",
       "      <td>LSM-40905</td>\n",
       "      <td>Compound</td>\n",
       "      <td>NaN</td>\n",
       "      <td>CHEBI:129354|lsm40905</td>\n",
       "    </tr>\n",
       "    <tr>\n",
       "      <th>259837</th>\n",
       "      <td>WD:Q72474452</td>\n",
       "      <td>3-Fluoro-5-methylbenzoic acid</td>\n",
       "      <td>Compound</td>\n",
       "      <td>NaN</td>\n",
       "      <td>3fluoro5methylbenzoicacid|WD:Q72474452</td>\n",
       "    </tr>\n",
       "    <tr>\n",
       "      <th>273025</th>\n",
       "      <td>IKEY:IMAKHNTVDGLIRY-UHFFFAOYSA-N</td>\n",
       "      <td>Methyl propiolate</td>\n",
       "      <td>Compound</td>\n",
       "      <td>NaN</td>\n",
       "      <td>2propynoicacidmethylester|IKEY:IMAKHNTVDGLIRY-...</td>\n",
       "    </tr>\n",
       "  </tbody>\n",
       "</table>\n",
       "</div>"
      ],
      "text/plain": [
       "                                      id  \\\n",
       "172487                     PCID:56843431   \n",
       "116527  IKEY:PDJZASCRQRBYQS-UHFFFAOYSA-N   \n",
       "33135                       CHEBI:115748   \n",
       "30916                       CHEBI:113541   \n",
       "6637                         CHEBI:48095   \n",
       "36568                       CHEBI:119163   \n",
       "137128                    PCID:131754200   \n",
       "46777                       CHEBI:129354   \n",
       "259837                      WD:Q72474452   \n",
       "273025  IKEY:IMAKHNTVDGLIRY-UHFFFAOYSA-N   \n",
       "\n",
       "                                                     name     label source  \\\n",
       "172487  (3S,4S,5S)-3-(ethylamino)-4,5-dihydroxy-6-[[(1...  Compound    NaN   \n",
       "116527  N-BENZYL-4-[4-(3-CHLOROPHENYL)-1H-PYRAZOL-3-YL...  Compound    NaN   \n",
       "33135   6-ethyl-N-[2-(4-methoxyphenyl)ethyl]-5-methyl-...  Compound    NaN   \n",
       "30916                                  2-phenyl-1H-indole  Compound    NaN   \n",
       "6637                                      keto-D-fructose      Drug    gvk   \n",
       "36568   N-[(2S,3R,6S)-6-[2-(2,3-dihydro-1H-inden-2-yla...  Compound    NaN   \n",
       "137128  [(2S)-2-octadecanoyloxy-3-pentadecanoyloxyprop...  Compound    NaN   \n",
       "46777                                           LSM-40905  Compound    NaN   \n",
       "259837                      3-Fluoro-5-methylbenzoic acid  Compound    NaN   \n",
       "273025                                  Methyl propiolate  Compound    NaN   \n",
       "\n",
       "                                                    xrefs  \n",
       "172487  3s4s5s3ethylamino45dihydroxy61s13s8hydroxy1oxo...  \n",
       "116527  CHEMBL:CHEMBL220320|IKEY:PDJZASCRQRBYQS-UHFFFA...  \n",
       "33135   6ethyln24methoxyphenylethyl5methyl124triazolo1...  \n",
       "30916   1hindole2phenyl|2phenyl1hindole|2phenylindole|...  \n",
       "6637    CHEBI:15824|CHEBI:28757|CHEBI:43703|CHEBI:4809...  \n",
       "36568   CHEBI:119163|n2s3r6s6223dihydro1hinden2ylamino...  \n",
       "137128  2s2octadecanoyloxy3pentadecanoyloxypropyl8z11z...  \n",
       "46777                               CHEBI:129354|lsm40905  \n",
       "259837             3fluoro5methylbenzoicacid|WD:Q72474452  \n",
       "273025  2propynoicacidmethylester|IKEY:IMAKHNTVDGLIRY-...  "
      ]
     },
     "execution_count": 229,
     "metadata": {},
     "output_type": "execute_result"
    }
   ],
   "source": [
    "compounds.sample(10)"
   ]
  },
  {
   "cell_type": "markdown",
   "metadata": {},
   "source": [
    "## Integrate the results of this mapping effort to the network"
   ]
  },
  {
   "cell_type": "code",
   "execution_count": 230,
   "metadata": {},
   "outputs": [],
   "source": [
    "prev_nodes = pd.read_csv('../2_pipeline/07a_NCATS_Inxight_Drugs_DB_and_DC/out/nodes.csv', dtype=str)\n",
    "prev_edges = pd.read_csv('../2_pipeline/07a_NCATS_Inxight_Drugs_DB_and_DC/out/edges.csv', dtype=str)"
   ]
  },
  {
   "cell_type": "code",
   "execution_count": 231,
   "metadata": {},
   "outputs": [],
   "source": [
    "prev_nodes['id'] = prev_nodes['id'].apply(lambda i: ix_comp_id_map.get(i, i))"
   ]
  },
  {
   "cell_type": "code",
   "execution_count": 232,
   "metadata": {},
   "outputs": [],
   "source": [
    "prev_edges['start_id'] = prev_edges['start_id'].apply(lambda i: ix_comp_id_map.get(i, i))\n",
    "prev_edges['end_id'] = prev_edges['end_id'].apply(lambda i: ix_comp_id_map.get(i, i))"
   ]
  },
  {
   "cell_type": "code",
   "execution_count": 233,
   "metadata": {},
   "outputs": [],
   "source": [
    "former_comps = prev_nodes.query('label == \"Compound\"')['id'].unique()\n",
    "id_mapper = {k: old_to_new_id[k] for k in former_comps}"
   ]
  },
  {
   "cell_type": "code",
   "execution_count": 234,
   "metadata": {
    "scrolled": true
   },
   "outputs": [
    {
     "data": {
      "text/plain": [
       "(1275617, 374382)"
      ]
     },
     "execution_count": 234,
     "metadata": {},
     "output_type": "execute_result"
    }
   ],
   "source": [
    "len(old_to_new_id), len(id_mapper)"
   ]
  },
  {
   "cell_type": "code",
   "execution_count": 235,
   "metadata": {},
   "outputs": [
    {
     "data": {
      "text/html": [
       "<div>\n",
       "<style scoped>\n",
       "    .dataframe tbody tr th:only-of-type {\n",
       "        vertical-align: middle;\n",
       "    }\n",
       "\n",
       "    .dataframe tbody tr th {\n",
       "        vertical-align: top;\n",
       "    }\n",
       "\n",
       "    .dataframe thead th {\n",
       "        text-align: right;\n",
       "    }\n",
       "</style>\n",
       "<table border=\"1\" class=\"dataframe\">\n",
       "  <thead>\n",
       "    <tr style=\"text-align: right;\">\n",
       "      <th></th>\n",
       "      <th>id</th>\n",
       "      <th>name</th>\n",
       "      <th>label</th>\n",
       "      <th>xrefs</th>\n",
       "    </tr>\n",
       "  </thead>\n",
       "  <tbody>\n",
       "    <tr>\n",
       "      <th>0</th>\n",
       "      <td>UBERON:0000002</td>\n",
       "      <td>cervix</td>\n",
       "      <td>Anatomy</td>\n",
       "      <td>MESH:D002584|UBERON:0000002</td>\n",
       "    </tr>\n",
       "    <tr>\n",
       "      <th>1</th>\n",
       "      <td>UBERON:0000004</td>\n",
       "      <td>human nose</td>\n",
       "      <td>Anatomy</td>\n",
       "      <td>MESH:D009666|UBERON:0000004</td>\n",
       "    </tr>\n",
       "  </tbody>\n",
       "</table>\n",
       "</div>"
      ],
      "text/plain": [
       "               id        name    label                        xrefs\n",
       "0  UBERON:0000002      cervix  Anatomy  MESH:D002584|UBERON:0000002\n",
       "1  UBERON:0000004  human nose  Anatomy  MESH:D009666|UBERON:0000004"
      ]
     },
     "execution_count": 235,
     "metadata": {},
     "output_type": "execute_result"
    }
   ],
   "source": [
    "# compounds have some added info we'll add in, so lets remove their original vesion\n",
    "new_comp_ids = compounds['id'].unique()\n",
    "prev_nodes = prev_nodes.query('id not in @new_comp_ids').reset_index(drop=True)\n",
    "# Also drop the chemical specific columns\n",
    "prev_nodes = prev_nodes.iloc[:, :4]\n",
    "prev_nodes.head(2)"
   ]
  },
  {
   "cell_type": "code",
   "execution_count": 236,
   "metadata": {},
   "outputs": [
    {
     "data": {
      "text/plain": [
       "127020"
      ]
     },
     "execution_count": 236,
     "metadata": {},
     "output_type": "execute_result"
    }
   ],
   "source": [
    "prev_comp_idx = prev_nodes.query('label == \"Compound\"').index\n",
    "len(prev_comp_idx)"
   ]
  },
  {
   "cell_type": "code",
   "execution_count": 237,
   "metadata": {},
   "outputs": [
    {
     "data": {
      "text/plain": [
       "Gene Ontology                         1160861\n",
       "WikiData                               981076\n",
       "Reactome                               869043\n",
       "Gene Ontology|WikiData                 276894\n",
       "Human Phenotype Ontology               222957\n",
       "miRTarBase                              94641\n",
       "Protein Ontology                        74360\n",
       "Inxight Drugs                           61661\n",
       "Gene Ontology|Reactome|WikiData         32121\n",
       "ensembl                                 28426\n",
       "InterPro                                27019\n",
       "DrugBank                                10048\n",
       "DrugCentral                              9114\n",
       "Reactome|WikiData                        7201\n",
       "Protein Ontology|ensembel                4494\n",
       "UBERON                                   1647\n",
       "Cell Ontology                            1581\n",
       "ComplexPortal                            1394\n",
       "Human Phenotype Ontology|WikiData         981\n",
       "DrugBank|DrugCentral|Inxight Drugs        760\n",
       "ComplexPortal|Reactome                    661\n",
       "DrugCentral|Inxight Drugs                 563\n",
       "DrugBank|Inxight Drugs                    555\n",
       "DrugBank|DrugCentral                      339\n",
       "Gene Ontology|Reactome                    110\n",
       "ensembel                                   37\n",
       "Name: source, dtype: int64"
      ]
     },
     "execution_count": 237,
     "metadata": {},
     "output_type": "execute_result"
    }
   ],
   "source": [
    "prev_edges['source'].value_counts()"
   ]
  },
  {
   "cell_type": "code",
   "execution_count": 238,
   "metadata": {},
   "outputs": [
    {
     "data": {
      "text/plain": [
       "120961"
      ]
     },
     "execution_count": 238,
     "metadata": {},
     "output_type": "execute_result"
    }
   ],
   "source": [
    "prev_nodes.query('label == \"Compound\" ')['id'].nunique()"
   ]
  },
  {
   "cell_type": "code",
   "execution_count": 239,
   "metadata": {},
   "outputs": [
    {
     "data": {
      "text/plain": [
       "103258"
      ]
     },
     "execution_count": 239,
     "metadata": {},
     "output_type": "execute_result"
    }
   ],
   "source": [
    "prev_nodes.loc[prev_comp_idx, 'id'].map(id_mapper).nunique()"
   ]
  },
  {
   "cell_type": "code",
   "execution_count": 240,
   "metadata": {},
   "outputs": [
    {
     "data": {
      "text/plain": [
       "127020"
      ]
     },
     "execution_count": 240,
     "metadata": {},
     "output_type": "execute_result"
    }
   ],
   "source": [
    "prev_nodes.loc[prev_comp_idx, 'id'].map(id_mapper).count()"
   ]
  },
  {
   "cell_type": "code",
   "execution_count": 241,
   "metadata": {},
   "outputs": [],
   "source": [
    "nodes_out = pd.concat([prev_nodes.drop(prev_comp_idx), compounds], ignore_index=True, sort=False)"
   ]
  },
  {
   "cell_type": "code",
   "execution_count": 242,
   "metadata": {},
   "outputs": [],
   "source": [
    "edges_out = prev_edges.copy()\n",
    "edges_out['start_id'] = edges_out['start_id'].map(id_mapper).fillna(edges_out['start_id'])\n",
    "edges_out['end_id'] = edges_out['end_id'].map(id_mapper).fillna(edges_out['end_id'])"
   ]
  },
  {
   "cell_type": "code",
   "execution_count": 243,
   "metadata": {},
   "outputs": [],
   "source": [
    "node_ids = nodes_out['id'].unique()"
   ]
  },
  {
   "cell_type": "code",
   "execution_count": 244,
   "metadata": {},
   "outputs": [
    {
     "name": "stdout",
     "output_type": "stream",
     "text": [
      "3,868,544\n",
      "3,863,150\n"
     ]
    }
   ],
   "source": [
    "print('{:,}'.format(len(edges_out)))\n",
    "edges_out = edges_out.query('start_id in @node_ids and end_id in @node_ids').copy()\n",
    "print('{:,}'.format(len(edges_out)))"
   ]
  },
  {
   "cell_type": "code",
   "execution_count": 245,
   "metadata": {},
   "outputs": [
    {
     "name": "stdout",
     "output_type": "stream",
     "text": [
      "28,436\n"
     ]
    }
   ],
   "source": [
    "dup_cols = ['start_id', 'end_id', 'type']\n",
    "print('{:,}'.format(edges_out.duplicated(subset=dup_cols, keep=False).sum()))"
   ]
  },
  {
   "cell_type": "code",
   "execution_count": 246,
   "metadata": {},
   "outputs": [
    {
     "data": {
      "text/plain": [
       "Index(['start_id', 'end_id', 'type', 'dsrc_type', 'comp_type', 'p_val',\n",
       "       'adj_p', 'source', 'license', 'experiments', 'support_type', 'pmids',\n",
       "       'phase', 'date'],\n",
       "      dtype='object')"
      ]
     },
     "execution_count": 246,
     "metadata": {},
     "output_type": "execute_result"
    }
   ],
   "source": [
    "edges_out.columns"
   ]
  },
  {
   "cell_type": "code",
   "execution_count": 247,
   "metadata": {},
   "outputs": [
    {
     "name": "stdout",
     "output_type": "stream",
     "text": [
      "CPU times: user 13.5 s, sys: 1.1 s, total: 14.6 s\n",
      "Wall time: 14.6 s\n"
     ]
    }
   ],
   "source": [
    "%%time\n",
    "\n",
    "edges_out = combine_group_cols_on_char(edges_out, ['start_id', 'end_id', 'type'], sort=True, prog=False)\n"
   ]
  },
  {
   "cell_type": "code",
   "execution_count": 248,
   "metadata": {},
   "outputs": [
    {
     "data": {
      "text/plain": [
       "3847653"
      ]
     },
     "execution_count": 248,
     "metadata": {},
     "output_type": "execute_result"
    }
   ],
   "source": [
    "len(edges_out)"
   ]
  },
  {
   "cell_type": "code",
   "execution_count": 249,
   "metadata": {},
   "outputs": [
    {
     "data": {
      "text/plain": [
       "(12680, 5)"
      ]
     },
     "execution_count": 249,
     "metadata": {},
     "output_type": "execute_result"
    }
   ],
   "source": [
    "nodes_out.query('label == \"Drug\"').shape"
   ]
  },
  {
   "cell_type": "code",
   "execution_count": 250,
   "metadata": {
    "scrolled": true
   },
   "outputs": [
    {
     "data": {
      "text/plain": [
       "Gene Ontology                                  1159055\n",
       "WikiData                                        978981\n",
       "Reactome                                        866727\n",
       "Gene Ontology|WikiData                          276894\n",
       "Human Phenotype Ontology                        222957\n",
       "miRTarBase                                       94641\n",
       "Protein Ontology                                 74360\n",
       "Inxight Drugs                                    47321\n",
       "Gene Ontology|Reactome|WikiData                  32121\n",
       "ensembl                                          28426\n",
       "InterPro                                         27019\n",
       "DrugBank                                          9302\n",
       "DrugCentral                                       8946\n",
       "Reactome|WikiData                                 7201\n",
       "Protein Ontology|ensembel                         4494\n",
       "UBERON                                            1647\n",
       "Cell Ontology                                     1581\n",
       "ComplexPortal                                     1394\n",
       "Human Phenotype Ontology|WikiData                  981\n",
       "ComplexPortal|Reactome                             661\n",
       "DrugBank|DrugCentral|Inxight Drugs                 498\n",
       "DrugBank|Inxight Drugs                             490\n",
       "DrugCentral|Inxight Drugs                          486\n",
       "Inxight Drugs|WikiData                             389\n",
       "DrugBank|DrugCentral                               307\n",
       "DrugBank|DrugCentral|Inxight Drugs|WikiData        273\n",
       "DrugBank|WikiData                                  116\n",
       "Gene Ontology|Reactome                             110\n",
       "DrugCentral|WikiData                                82\n",
       "DrugBank|Inxight Drugs|WikiData                     67\n",
       "DrugCentral|Inxight Drugs|WikiData                  52\n",
       "DrugBank|DrugCentral|WikiData                       37\n",
       "ensembel                                            37\n",
       "Name: source, dtype: int64"
      ]
     },
     "execution_count": 250,
     "metadata": {},
     "output_type": "execute_result"
    }
   ],
   "source": [
    "edges_out['source'].value_counts()"
   ]
  },
  {
   "cell_type": "code",
   "execution_count": 251,
   "metadata": {},
   "outputs": [],
   "source": [
    "edge_ids = edges_out[['start_id', 'end_id']].stack().unique()\n",
    "nodes_filt = nodes_out.query('id in @edge_ids')"
   ]
  },
  {
   "cell_type": "code",
   "execution_count": 252,
   "metadata": {},
   "outputs": [
    {
     "data": {
      "text/plain": [
       "385626"
      ]
     },
     "execution_count": 252,
     "metadata": {},
     "output_type": "execute_result"
    }
   ],
   "source": [
    "len(edge_ids)"
   ]
  },
  {
   "cell_type": "code",
   "execution_count": 253,
   "metadata": {},
   "outputs": [
    {
     "data": {
      "text/plain": [
       "(784439, 385626)"
      ]
     },
     "execution_count": 253,
     "metadata": {},
     "output_type": "execute_result"
    }
   ],
   "source": [
    "len(nodes_out), len(nodes_filt)"
   ]
  },
  {
   "cell_type": "code",
   "execution_count": 254,
   "metadata": {},
   "outputs": [],
   "source": [
    "nodes_out.to_csv(out_dir.joinpath('nodes.csv'), index=False)\n",
    "nodes_filt.to_csv(out_dir.joinpath('nodes_filt.csv'), index=False)\n",
    "edges_out.to_csv(out_dir.joinpath('edges.csv'), index=False)"
   ]
  }
 ],
 "metadata": {
  "kernelspec": {
   "display_name": "Python 3",
   "language": "python",
   "name": "python3"
  },
  "language_info": {
   "codemirror_mode": {
    "name": "ipython",
    "version": 3
   },
   "file_extension": ".py",
   "mimetype": "text/x-python",
   "name": "python",
   "nbconvert_exporter": "python",
   "pygments_lexer": "ipython3",
   "version": "3.7.5"
  }
 },
 "nbformat": 4,
 "nbformat_minor": 2
}
