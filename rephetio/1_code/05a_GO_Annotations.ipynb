{
 "cells": [
  {
   "cell_type": "markdown",
   "metadata": {},
   "source": [
    "# GO has thier own annotations \n",
    "\n",
    "These include not only proteins and Genes, but complexes and microRNA"
   ]
  },
  {
   "cell_type": "code",
   "execution_count": 1,
   "metadata": {},
   "outputs": [
    {
     "name": "stderr",
     "output_type": "stream",
     "text": [
      "/home/mmayers/software/miniconda3/envs/ml/lib/python3.7/site-packages/data_tools/df_processing.py:4: TqdmExperimentalWarning: Using `tqdm.autonotebook.tqdm` in notebook mode. Use `tqdm.tqdm` instead to force console mode (e.g. in jupyter console)\n",
      "  from tqdm.autonotebook import tqdm\n"
     ]
    }
   ],
   "source": [
    "import pandas as pd\n",
    "from pathlib import Path\n",
    "from data_tools.files import head \n",
    "from data_tools import graphs as gt\n",
    "from data_tools.df_processing import expand_col_on_char, combine_group_cols_on_char, regularize_colnames\n",
    "\n",
    "load_dir = Path('../2_pipeline/00_download_data/out/').resolve()\n",
    "network_dir = Path('../2_pipeline/04_InterPro_and_Ensembl/out/').resolve()"
   ]
  },
  {
   "cell_type": "code",
   "execution_count": 2,
   "metadata": {},
   "outputs": [],
   "source": [
    "all_nodes = gt.remove_colons(pd.read_csv(network_dir.joinpath('nodes.csv'), dtype=str))\n",
    "edges = gt.remove_colons(pd.read_csv(network_dir.joinpath('edges.csv'), dtype=str))"
   ]
  },
  {
   "cell_type": "code",
   "execution_count": 3,
   "metadata": {},
   "outputs": [],
   "source": [
    "go_ids = set(all_nodes[all_nodes['id'].str.startswith('GO:')]['id'])"
   ]
  },
  {
   "cell_type": "code",
   "execution_count": 4,
   "metadata": {},
   "outputs": [],
   "source": [
    "new_nodes = []\n",
    "new_edges = []"
   ]
  },
  {
   "cell_type": "code",
   "execution_count": 5,
   "metadata": {},
   "outputs": [],
   "source": [
    "def determine_evidence(code):                                                                                           \n",
    "    \"\"\"                                                                                                                 \n",
    "    Computationaly derived codes are taken from GO's webiste:                                                           \n",
    "    http://geneontology.org/docs/guide-go-evidence-codes/                                                               \n",
    "                                                                                                                        \n",
    "    :param code: str, 3 (or 2) letter code for annotation evidence.                                                     \n",
    "    :retrun: str, 'curated' or 'computed' status of the code.                                                           \n",
    "    \"\"\"                                                                                                                 \n",
    "    comp_codes = ['ISS', 'ISO', 'ISA', 'ISM', 'IGC', 'RCA', 'IEA']                                                      \n",
    "    return 'computed' if code.upper() in comp_codes else 'curated'"
   ]
  },
  {
   "cell_type": "markdown",
   "metadata": {},
   "source": [
    "## Start loading .gaf files."
   ]
  },
  {
   "cell_type": "code",
   "execution_count": 6,
   "metadata": {},
   "outputs": [],
   "source": [
    "go_cols = ['db', 'db_object_id', 'db_object_symbol','qualifier', 'go_id', 'db_reference', 'evidence_code',\n",
    " 'with_or_from', 'aspect', 'db_object_name', 'db_object_synonym', 'db_object_type', 'taxon', 'date', 'assigned_by',\n",
    " 'annotation_extension', 'gene_product_form_id']"
   ]
  },
  {
   "cell_type": "code",
   "execution_count": 7,
   "metadata": {},
   "outputs": [
    {
     "data": {
      "text/html": [
       "<div>\n",
       "<style scoped>\n",
       "    .dataframe tbody tr th:only-of-type {\n",
       "        vertical-align: middle;\n",
       "    }\n",
       "\n",
       "    .dataframe tbody tr th {\n",
       "        vertical-align: top;\n",
       "    }\n",
       "\n",
       "    .dataframe thead th {\n",
       "        text-align: right;\n",
       "    }\n",
       "</style>\n",
       "<table border=\"1\" class=\"dataframe\">\n",
       "  <thead>\n",
       "    <tr style=\"text-align: right;\">\n",
       "      <th></th>\n",
       "      <th>db</th>\n",
       "      <th>db_object_id</th>\n",
       "      <th>db_object_symbol</th>\n",
       "      <th>qualifier</th>\n",
       "      <th>go_id</th>\n",
       "      <th>db_reference</th>\n",
       "      <th>evidence_code</th>\n",
       "      <th>with_or_from</th>\n",
       "      <th>aspect</th>\n",
       "      <th>db_object_name</th>\n",
       "      <th>db_object_synonym</th>\n",
       "      <th>db_object_type</th>\n",
       "      <th>taxon</th>\n",
       "      <th>date</th>\n",
       "      <th>assigned_by</th>\n",
       "      <th>annotation_extension</th>\n",
       "      <th>gene_product_form_id</th>\n",
       "    </tr>\n",
       "  </thead>\n",
       "  <tbody>\n",
       "    <tr>\n",
       "      <th>0</th>\n",
       "      <td>UniProtKB</td>\n",
       "      <td>A0A024R161</td>\n",
       "      <td>DNAJC25-GNG10</td>\n",
       "      <td>NaN</td>\n",
       "      <td>GO:0003924</td>\n",
       "      <td>GO_REF:0000002</td>\n",
       "      <td>IEA</td>\n",
       "      <td>InterPro:IPR001770</td>\n",
       "      <td>F</td>\n",
       "      <td>Guanine nucleotide-binding protein subunit gamma</td>\n",
       "      <td>DNAJC25-GNG10|hCG_1994888</td>\n",
       "      <td>protein</td>\n",
       "      <td>taxon:9606</td>\n",
       "      <td>20190504</td>\n",
       "      <td>InterPro</td>\n",
       "      <td>NaN</td>\n",
       "      <td>NaN</td>\n",
       "    </tr>\n",
       "    <tr>\n",
       "      <th>1</th>\n",
       "      <td>UniProtKB</td>\n",
       "      <td>A0A024RBG1</td>\n",
       "      <td>NUDT4B</td>\n",
       "      <td>NaN</td>\n",
       "      <td>GO:0003723</td>\n",
       "      <td>GO_REF:0000037</td>\n",
       "      <td>IEA</td>\n",
       "      <td>UniProtKB-KW:KW-0694</td>\n",
       "      <td>F</td>\n",
       "      <td>Diphosphoinositol polyphosphate phosphohydrola...</td>\n",
       "      <td>NUDT4B</td>\n",
       "      <td>protein</td>\n",
       "      <td>taxon:9606</td>\n",
       "      <td>20190504</td>\n",
       "      <td>UniProt</td>\n",
       "      <td>NaN</td>\n",
       "      <td>NaN</td>\n",
       "    </tr>\n",
       "  </tbody>\n",
       "</table>\n",
       "</div>"
      ],
      "text/plain": [
       "          db db_object_id db_object_symbol qualifier       go_id  \\\n",
       "0  UniProtKB   A0A024R161    DNAJC25-GNG10       NaN  GO:0003924   \n",
       "1  UniProtKB   A0A024RBG1           NUDT4B       NaN  GO:0003723   \n",
       "\n",
       "     db_reference evidence_code          with_or_from aspect  \\\n",
       "0  GO_REF:0000002           IEA    InterPro:IPR001770      F   \n",
       "1  GO_REF:0000037           IEA  UniProtKB-KW:KW-0694      F   \n",
       "\n",
       "                                      db_object_name  \\\n",
       "0   Guanine nucleotide-binding protein subunit gamma   \n",
       "1  Diphosphoinositol polyphosphate phosphohydrola...   \n",
       "\n",
       "           db_object_synonym db_object_type       taxon      date assigned_by  \\\n",
       "0  DNAJC25-GNG10|hCG_1994888        protein  taxon:9606  20190504    InterPro   \n",
       "1                     NUDT4B        protein  taxon:9606  20190504     UniProt   \n",
       "\n",
       "  annotation_extension gene_product_form_id  \n",
       "0                  NaN                  NaN  \n",
       "1                  NaN                  NaN  "
      ]
     },
     "execution_count": 7,
     "metadata": {},
     "output_type": "execute_result"
    }
   ],
   "source": [
    "go_prot = pd.read_csv(load_dir.joinpath('goa_human.gaf.gz'), sep='\\t', header=None, \n",
    "                      names=go_cols, comment='!', dtype=str)\n",
    "go_prot.head(2)"
   ]
  },
  {
   "cell_type": "code",
   "execution_count": 8,
   "metadata": {},
   "outputs": [
    {
     "data": {
      "text/plain": [
       "UniProtKB    479438\n",
       "Name: db, dtype: int64"
      ]
     },
     "execution_count": 8,
     "metadata": {},
     "output_type": "execute_result"
    }
   ],
   "source": [
    "go_prot['db'].value_counts()"
   ]
  },
  {
   "cell_type": "code",
   "execution_count": 9,
   "metadata": {},
   "outputs": [
    {
     "data": {
      "text/html": [
       "<div>\n",
       "<style scoped>\n",
       "    .dataframe tbody tr th:only-of-type {\n",
       "        vertical-align: middle;\n",
       "    }\n",
       "\n",
       "    .dataframe tbody tr th {\n",
       "        vertical-align: top;\n",
       "    }\n",
       "\n",
       "    .dataframe thead th {\n",
       "        text-align: right;\n",
       "    }\n",
       "</style>\n",
       "<table border=\"1\" class=\"dataframe\">\n",
       "  <thead>\n",
       "    <tr style=\"text-align: right;\">\n",
       "      <th></th>\n",
       "      <th>db</th>\n",
       "      <th>db_object_id</th>\n",
       "      <th>db_object_symbol</th>\n",
       "      <th>qualifier</th>\n",
       "      <th>go_id</th>\n",
       "      <th>db_reference</th>\n",
       "      <th>evidence_code</th>\n",
       "      <th>with_or_from</th>\n",
       "      <th>aspect</th>\n",
       "      <th>db_object_name</th>\n",
       "      <th>db_object_synonym</th>\n",
       "      <th>db_object_type</th>\n",
       "      <th>taxon</th>\n",
       "      <th>date</th>\n",
       "      <th>assigned_by</th>\n",
       "      <th>annotation_extension</th>\n",
       "      <th>gene_product_form_id</th>\n",
       "    </tr>\n",
       "  </thead>\n",
       "  <tbody>\n",
       "    <tr>\n",
       "      <th>0</th>\n",
       "      <td>ComplexPortal</td>\n",
       "      <td>CPX-1012</td>\n",
       "      <td>tenascin-w_human</td>\n",
       "      <td>NaN</td>\n",
       "      <td>GO:0030155</td>\n",
       "      <td>PMID:17909022</td>\n",
       "      <td>IDA</td>\n",
       "      <td>NaN</td>\n",
       "      <td>P</td>\n",
       "      <td>Tenascin-W complex</td>\n",
       "      <td>TNN hexamer|Tenascin W complex</td>\n",
       "      <td>protein_complex</td>\n",
       "      <td>taxon:9606</td>\n",
       "      <td>20170313</td>\n",
       "      <td>ComplexPortal</td>\n",
       "      <td>NaN</td>\n",
       "      <td>NaN</td>\n",
       "    </tr>\n",
       "    <tr>\n",
       "      <th>1</th>\n",
       "      <td>ComplexPortal</td>\n",
       "      <td>CPX-1012</td>\n",
       "      <td>tenascin-w_human</td>\n",
       "      <td>NaN</td>\n",
       "      <td>GO:0030334</td>\n",
       "      <td>PMID:17909022</td>\n",
       "      <td>IDA</td>\n",
       "      <td>NaN</td>\n",
       "      <td>P</td>\n",
       "      <td>Tenascin-W complex</td>\n",
       "      <td>TNN hexamer|Tenascin W complex</td>\n",
       "      <td>protein_complex</td>\n",
       "      <td>taxon:9606</td>\n",
       "      <td>20170313</td>\n",
       "      <td>ComplexPortal</td>\n",
       "      <td>NaN</td>\n",
       "      <td>NaN</td>\n",
       "    </tr>\n",
       "  </tbody>\n",
       "</table>\n",
       "</div>"
      ],
      "text/plain": [
       "              db db_object_id  db_object_symbol qualifier       go_id  \\\n",
       "0  ComplexPortal     CPX-1012  tenascin-w_human       NaN  GO:0030155   \n",
       "1  ComplexPortal     CPX-1012  tenascin-w_human       NaN  GO:0030334   \n",
       "\n",
       "    db_reference evidence_code with_or_from aspect      db_object_name  \\\n",
       "0  PMID:17909022           IDA          NaN      P  Tenascin-W complex   \n",
       "1  PMID:17909022           IDA          NaN      P  Tenascin-W complex   \n",
       "\n",
       "                db_object_synonym   db_object_type       taxon      date  \\\n",
       "0  TNN hexamer|Tenascin W complex  protein_complex  taxon:9606  20170313   \n",
       "1  TNN hexamer|Tenascin W complex  protein_complex  taxon:9606  20170313   \n",
       "\n",
       "     assigned_by annotation_extension gene_product_form_id  \n",
       "0  ComplexPortal                  NaN                  NaN  \n",
       "1  ComplexPortal                  NaN                  NaN  "
      ]
     },
     "execution_count": 9,
     "metadata": {},
     "output_type": "execute_result"
    }
   ],
   "source": [
    "go_complex = pd.read_csv(load_dir.joinpath('goa_human_complex.gaf.gz'), sep='\\t', header=None, \n",
    "                      names=go_cols, dtype=str, comment='!')\n",
    "go_complex.head(2)"
   ]
  },
  {
   "cell_type": "code",
   "execution_count": 10,
   "metadata": {},
   "outputs": [
    {
     "data": {
      "text/html": [
       "<div>\n",
       "<style scoped>\n",
       "    .dataframe tbody tr th:only-of-type {\n",
       "        vertical-align: middle;\n",
       "    }\n",
       "\n",
       "    .dataframe tbody tr th {\n",
       "        vertical-align: top;\n",
       "    }\n",
       "\n",
       "    .dataframe thead th {\n",
       "        text-align: right;\n",
       "    }\n",
       "</style>\n",
       "<table border=\"1\" class=\"dataframe\">\n",
       "  <thead>\n",
       "    <tr style=\"text-align: right;\">\n",
       "      <th></th>\n",
       "      <th>db</th>\n",
       "      <th>db_object_id</th>\n",
       "      <th>db_object_symbol</th>\n",
       "      <th>qualifier</th>\n",
       "      <th>go_id</th>\n",
       "      <th>db_reference</th>\n",
       "      <th>evidence_code</th>\n",
       "      <th>with_or_from</th>\n",
       "      <th>aspect</th>\n",
       "      <th>db_object_name</th>\n",
       "      <th>db_object_synonym</th>\n",
       "      <th>db_object_type</th>\n",
       "      <th>taxon</th>\n",
       "      <th>date</th>\n",
       "      <th>assigned_by</th>\n",
       "      <th>annotation_extension</th>\n",
       "      <th>gene_product_form_id</th>\n",
       "    </tr>\n",
       "  </thead>\n",
       "  <tbody>\n",
       "    <tr>\n",
       "      <th>2</th>\n",
       "      <td>ComplexPortal</td>\n",
       "      <td>CPX-1012</td>\n",
       "      <td>tenascin-w_human</td>\n",
       "      <td>NaN</td>\n",
       "      <td>GO:0062023</td>\n",
       "      <td>PMID:19884327</td>\n",
       "      <td>IDA</td>\n",
       "      <td>NaN</td>\n",
       "      <td>C</td>\n",
       "      <td>Tenascin-W complex</td>\n",
       "      <td>TNN hexamer|Tenascin W complex</td>\n",
       "      <td>protein_complex</td>\n",
       "      <td>taxon:9606</td>\n",
       "      <td>20170313</td>\n",
       "      <td>ComplexPortal</td>\n",
       "      <td>NaN</td>\n",
       "      <td>NaN</td>\n",
       "    </tr>\n",
       "    <tr>\n",
       "      <th>13</th>\n",
       "      <td>ComplexPortal</td>\n",
       "      <td>CPX-1032</td>\n",
       "      <td>snurportin_human</td>\n",
       "      <td>NaN</td>\n",
       "      <td>GO:0005654</td>\n",
       "      <td>PMID:9670026</td>\n",
       "      <td>IDA</td>\n",
       "      <td>NaN</td>\n",
       "      <td>C</td>\n",
       "      <td>Importin complex, Snurportin variant</td>\n",
       "      <td>Snurportin complex|Importin complex, SNUPN var...</td>\n",
       "      <td>protein_complex</td>\n",
       "      <td>taxon:9606</td>\n",
       "      <td>20170608</td>\n",
       "      <td>ComplexPortal</td>\n",
       "      <td>NaN</td>\n",
       "      <td>NaN</td>\n",
       "    </tr>\n",
       "  </tbody>\n",
       "</table>\n",
       "</div>"
      ],
      "text/plain": [
       "               db db_object_id  db_object_symbol qualifier       go_id  \\\n",
       "2   ComplexPortal     CPX-1012  tenascin-w_human       NaN  GO:0062023   \n",
       "13  ComplexPortal     CPX-1032  snurportin_human       NaN  GO:0005654   \n",
       "\n",
       "     db_reference evidence_code with_or_from aspect  \\\n",
       "2   PMID:19884327           IDA          NaN      C   \n",
       "13   PMID:9670026           IDA          NaN      C   \n",
       "\n",
       "                          db_object_name  \\\n",
       "2                     Tenascin-W complex   \n",
       "13  Importin complex, Snurportin variant   \n",
       "\n",
       "                                    db_object_synonym   db_object_type  \\\n",
       "2                      TNN hexamer|Tenascin W complex  protein_complex   \n",
       "13  Snurportin complex|Importin complex, SNUPN var...  protein_complex   \n",
       "\n",
       "         taxon      date    assigned_by annotation_extension  \\\n",
       "2   taxon:9606  20170313  ComplexPortal                  NaN   \n",
       "13  taxon:9606  20170608  ComplexPortal                  NaN   \n",
       "\n",
       "   gene_product_form_id  \n",
       "2                   NaN  \n",
       "13                  NaN  "
      ]
     },
     "execution_count": 10,
     "metadata": {},
     "output_type": "execute_result"
    }
   ],
   "source": [
    "go_complex.query('aspect == \"C\"').head(2)"
   ]
  },
  {
   "cell_type": "code",
   "execution_count": 11,
   "metadata": {},
   "outputs": [
    {
     "data": {
      "text/plain": [
       "ComplexPortal    1470\n",
       "Name: db, dtype: int64"
      ]
     },
     "execution_count": 11,
     "metadata": {},
     "output_type": "execute_result"
    }
   ],
   "source": [
    "go_complex['db'].value_counts()"
   ]
  },
  {
   "cell_type": "code",
   "execution_count": 12,
   "metadata": {},
   "outputs": [
    {
     "data": {
      "text/html": [
       "<div>\n",
       "<style scoped>\n",
       "    .dataframe tbody tr th:only-of-type {\n",
       "        vertical-align: middle;\n",
       "    }\n",
       "\n",
       "    .dataframe tbody tr th {\n",
       "        vertical-align: top;\n",
       "    }\n",
       "\n",
       "    .dataframe thead th {\n",
       "        text-align: right;\n",
       "    }\n",
       "</style>\n",
       "<table border=\"1\" class=\"dataframe\">\n",
       "  <thead>\n",
       "    <tr style=\"text-align: right;\">\n",
       "      <th></th>\n",
       "      <th>db</th>\n",
       "      <th>db_object_id</th>\n",
       "      <th>db_object_symbol</th>\n",
       "      <th>qualifier</th>\n",
       "      <th>go_id</th>\n",
       "      <th>db_reference</th>\n",
       "      <th>evidence_code</th>\n",
       "      <th>with_or_from</th>\n",
       "      <th>aspect</th>\n",
       "      <th>db_object_name</th>\n",
       "      <th>db_object_synonym</th>\n",
       "      <th>db_object_type</th>\n",
       "      <th>taxon</th>\n",
       "      <th>date</th>\n",
       "      <th>assigned_by</th>\n",
       "      <th>annotation_extension</th>\n",
       "      <th>gene_product_form_id</th>\n",
       "    </tr>\n",
       "  </thead>\n",
       "  <tbody>\n",
       "    <tr>\n",
       "      <th>0</th>\n",
       "      <td>UniProtKB</td>\n",
       "      <td>A0A087WTH5</td>\n",
       "      <td>KCNE1B</td>\n",
       "      <td>NaN</td>\n",
       "      <td>GO:0005249</td>\n",
       "      <td>GO_REF:0000002</td>\n",
       "      <td>IEA</td>\n",
       "      <td>InterPro:IPR000369|InterPro:IPR005424</td>\n",
       "      <td>F</td>\n",
       "      <td>Potassium voltage-gated channel subfamily E me...</td>\n",
       "      <td>KCNE1B</td>\n",
       "      <td>protein</td>\n",
       "      <td>taxon:9606</td>\n",
       "      <td>20190504</td>\n",
       "      <td>InterPro</td>\n",
       "      <td>NaN</td>\n",
       "      <td>UniProtKB:A0A087WU88</td>\n",
       "    </tr>\n",
       "    <tr>\n",
       "      <th>1</th>\n",
       "      <td>UniProtKB</td>\n",
       "      <td>A0A087WTH5</td>\n",
       "      <td>KCNE1B</td>\n",
       "      <td>NaN</td>\n",
       "      <td>GO:0005249</td>\n",
       "      <td>GO_REF:0000002</td>\n",
       "      <td>IEA</td>\n",
       "      <td>InterPro:IPR000369|InterPro:IPR005424</td>\n",
       "      <td>F</td>\n",
       "      <td>Potassium voltage-gated channel subfamily E me...</td>\n",
       "      <td>KCNE1B</td>\n",
       "      <td>protein</td>\n",
       "      <td>taxon:9606</td>\n",
       "      <td>20190504</td>\n",
       "      <td>InterPro</td>\n",
       "      <td>NaN</td>\n",
       "      <td>UniProtKB:A0A087WWU3</td>\n",
       "    </tr>\n",
       "  </tbody>\n",
       "</table>\n",
       "</div>"
      ],
      "text/plain": [
       "          db db_object_id db_object_symbol qualifier       go_id  \\\n",
       "0  UniProtKB   A0A087WTH5           KCNE1B       NaN  GO:0005249   \n",
       "1  UniProtKB   A0A087WTH5           KCNE1B       NaN  GO:0005249   \n",
       "\n",
       "     db_reference evidence_code                           with_or_from aspect  \\\n",
       "0  GO_REF:0000002           IEA  InterPro:IPR000369|InterPro:IPR005424      F   \n",
       "1  GO_REF:0000002           IEA  InterPro:IPR000369|InterPro:IPR005424      F   \n",
       "\n",
       "                                      db_object_name db_object_synonym  \\\n",
       "0  Potassium voltage-gated channel subfamily E me...            KCNE1B   \n",
       "1  Potassium voltage-gated channel subfamily E me...            KCNE1B   \n",
       "\n",
       "  db_object_type       taxon      date assigned_by annotation_extension  \\\n",
       "0        protein  taxon:9606  20190504    InterPro                  NaN   \n",
       "1        protein  taxon:9606  20190504    InterPro                  NaN   \n",
       "\n",
       "   gene_product_form_id  \n",
       "0  UniProtKB:A0A087WU88  \n",
       "1  UniProtKB:A0A087WWU3  "
      ]
     },
     "execution_count": 12,
     "metadata": {},
     "output_type": "execute_result"
    }
   ],
   "source": [
    "go_isoform = pd.read_csv(load_dir.joinpath('goa_human_isoform.gaf.gz'), sep='\\t', header=None, \n",
    "                      names=go_cols, dtype=str, comment='!')\n",
    "go_isoform.head(2)"
   ]
  },
  {
   "cell_type": "code",
   "execution_count": 13,
   "metadata": {},
   "outputs": [
    {
     "data": {
      "text/plain": [
       "UniProtKB    101596\n",
       "Name: db, dtype: int64"
      ]
     },
     "execution_count": 13,
     "metadata": {},
     "output_type": "execute_result"
    }
   ],
   "source": [
    "go_isoform['db'].value_counts()"
   ]
  },
  {
   "cell_type": "code",
   "execution_count": 14,
   "metadata": {},
   "outputs": [
    {
     "data": {
      "text/html": [
       "<div>\n",
       "<style scoped>\n",
       "    .dataframe tbody tr th:only-of-type {\n",
       "        vertical-align: middle;\n",
       "    }\n",
       "\n",
       "    .dataframe tbody tr th {\n",
       "        vertical-align: top;\n",
       "    }\n",
       "\n",
       "    .dataframe thead th {\n",
       "        text-align: right;\n",
       "    }\n",
       "</style>\n",
       "<table border=\"1\" class=\"dataframe\">\n",
       "  <thead>\n",
       "    <tr style=\"text-align: right;\">\n",
       "      <th></th>\n",
       "      <th>db</th>\n",
       "      <th>db_object_id</th>\n",
       "      <th>db_object_symbol</th>\n",
       "      <th>qualifier</th>\n",
       "      <th>go_id</th>\n",
       "      <th>db_reference</th>\n",
       "      <th>evidence_code</th>\n",
       "      <th>with_or_from</th>\n",
       "      <th>aspect</th>\n",
       "      <th>db_object_name</th>\n",
       "      <th>db_object_synonym</th>\n",
       "      <th>db_object_type</th>\n",
       "      <th>taxon</th>\n",
       "      <th>date</th>\n",
       "      <th>assigned_by</th>\n",
       "      <th>annotation_extension</th>\n",
       "      <th>gene_product_form_id</th>\n",
       "    </tr>\n",
       "  </thead>\n",
       "  <tbody>\n",
       "    <tr>\n",
       "      <th>0</th>\n",
       "      <td>RNAcentral</td>\n",
       "      <td>URS0000001346_9606</td>\n",
       "      <td>URS0000001346_9606</td>\n",
       "      <td>NaN</td>\n",
       "      <td>GO:0006412</td>\n",
       "      <td>GO_REF:0000108</td>\n",
       "      <td>IEA</td>\n",
       "      <td>GO:0030533</td>\n",
       "      <td>P</td>\n",
       "      <td>Homo sapiens (human) tRNA-Lys</td>\n",
       "      <td>NaN</td>\n",
       "      <td>tRNA</td>\n",
       "      <td>taxon:9606</td>\n",
       "      <td>20190504</td>\n",
       "      <td>GOC</td>\n",
       "      <td>NaN</td>\n",
       "      <td>NaN</td>\n",
       "    </tr>\n",
       "    <tr>\n",
       "      <th>1</th>\n",
       "      <td>RNAcentral</td>\n",
       "      <td>URS0000001346_9606</td>\n",
       "      <td>URS0000001346_9606</td>\n",
       "      <td>NaN</td>\n",
       "      <td>GO:0030533</td>\n",
       "      <td>GO_REF:0000115</td>\n",
       "      <td>IEA</td>\n",
       "      <td>Rfam:RF00005</td>\n",
       "      <td>F</td>\n",
       "      <td>Homo sapiens (human) tRNA-Lys</td>\n",
       "      <td>NaN</td>\n",
       "      <td>tRNA</td>\n",
       "      <td>taxon:9606</td>\n",
       "      <td>20190504</td>\n",
       "      <td>RNAcentral</td>\n",
       "      <td>NaN</td>\n",
       "      <td>NaN</td>\n",
       "    </tr>\n",
       "  </tbody>\n",
       "</table>\n",
       "</div>"
      ],
      "text/plain": [
       "           db        db_object_id    db_object_symbol qualifier       go_id  \\\n",
       "0  RNAcentral  URS0000001346_9606  URS0000001346_9606       NaN  GO:0006412   \n",
       "1  RNAcentral  URS0000001346_9606  URS0000001346_9606       NaN  GO:0030533   \n",
       "\n",
       "     db_reference evidence_code  with_or_from aspect  \\\n",
       "0  GO_REF:0000108           IEA    GO:0030533      P   \n",
       "1  GO_REF:0000115           IEA  Rfam:RF00005      F   \n",
       "\n",
       "                  db_object_name db_object_synonym db_object_type       taxon  \\\n",
       "0  Homo sapiens (human) tRNA-Lys               NaN           tRNA  taxon:9606   \n",
       "1  Homo sapiens (human) tRNA-Lys               NaN           tRNA  taxon:9606   \n",
       "\n",
       "       date assigned_by annotation_extension gene_product_form_id  \n",
       "0  20190504         GOC                  NaN                  NaN  \n",
       "1  20190504  RNAcentral                  NaN                  NaN  "
      ]
     },
     "execution_count": 14,
     "metadata": {},
     "output_type": "execute_result"
    }
   ],
   "source": [
    "go_rna = pd.read_csv(load_dir.joinpath('goa_human_rna.gaf.gz'), sep='\\t', header=None, \n",
    "                      names=go_cols, dtype=str, comment='!')\n",
    "go_rna.head(2)"
   ]
  },
  {
   "cell_type": "code",
   "execution_count": 15,
   "metadata": {},
   "outputs": [
    {
     "data": {
      "text/plain": [
       "RNAcentral    43498\n",
       "Name: db, dtype: int64"
      ]
     },
     "execution_count": 15,
     "metadata": {},
     "output_type": "execute_result"
    }
   ],
   "source": [
    "go_rna['db'].value_counts()"
   ]
  },
  {
   "cell_type": "markdown",
   "metadata": {},
   "source": [
    "## Add GO to protein annotiaions....\n",
    "\n",
    "Will also be able to add complex and rna info"
   ]
  },
  {
   "cell_type": "code",
   "execution_count": 16,
   "metadata": {},
   "outputs": [],
   "source": [
    "type_conversion = {'P': 'involved_in',\n",
    "                   'F': 'enables',\n",
    "                   'C': 'part_of'}\n",
    "\n",
    "edges_go_prot = go_prot.rename(columns={'db_object_symbol': 'start_id', 'go_id': 'end_id'})\n",
    "edges_go_prot['type'] = edges_go_prot['aspect'].map(type_conversion)"
   ]
  },
  {
   "cell_type": "code",
   "execution_count": 17,
   "metadata": {},
   "outputs": [],
   "source": [
    "def fix_col_order_edge(df):\n",
    "    cols = ['start_id', 'end_id', 'type']\n",
    "    cols = cols + [c for c in df.columns if c not in cols]\n",
    "    return cols\n"
   ]
  },
  {
   "cell_type": "code",
   "execution_count": 18,
   "metadata": {},
   "outputs": [
    {
     "data": {
      "text/html": [
       "<div>\n",
       "<style scoped>\n",
       "    .dataframe tbody tr th:only-of-type {\n",
       "        vertical-align: middle;\n",
       "    }\n",
       "\n",
       "    .dataframe tbody tr th {\n",
       "        vertical-align: top;\n",
       "    }\n",
       "\n",
       "    .dataframe thead th {\n",
       "        text-align: right;\n",
       "    }\n",
       "</style>\n",
       "<table border=\"1\" class=\"dataframe\">\n",
       "  <thead>\n",
       "    <tr style=\"text-align: right;\">\n",
       "      <th></th>\n",
       "      <th>start_id</th>\n",
       "      <th>end_id</th>\n",
       "      <th>type</th>\n",
       "      <th>db</th>\n",
       "      <th>db_object_id</th>\n",
       "      <th>qualifier</th>\n",
       "      <th>db_reference</th>\n",
       "      <th>evidence_code</th>\n",
       "      <th>with_or_from</th>\n",
       "      <th>aspect</th>\n",
       "      <th>db_object_name</th>\n",
       "      <th>db_object_synonym</th>\n",
       "      <th>db_object_type</th>\n",
       "      <th>taxon</th>\n",
       "      <th>date</th>\n",
       "      <th>assigned_by</th>\n",
       "      <th>annotation_extension</th>\n",
       "      <th>gene_product_form_id</th>\n",
       "    </tr>\n",
       "  </thead>\n",
       "  <tbody>\n",
       "    <tr>\n",
       "      <th>0</th>\n",
       "      <td>DNAJC25-GNG10</td>\n",
       "      <td>GO:0003924</td>\n",
       "      <td>enables</td>\n",
       "      <td>UniProtKB</td>\n",
       "      <td>A0A024R161</td>\n",
       "      <td>NaN</td>\n",
       "      <td>GO_REF:0000002</td>\n",
       "      <td>IEA</td>\n",
       "      <td>InterPro:IPR001770</td>\n",
       "      <td>F</td>\n",
       "      <td>Guanine nucleotide-binding protein subunit gamma</td>\n",
       "      <td>DNAJC25-GNG10|hCG_1994888</td>\n",
       "      <td>protein</td>\n",
       "      <td>taxon:9606</td>\n",
       "      <td>20190504</td>\n",
       "      <td>InterPro</td>\n",
       "      <td>NaN</td>\n",
       "      <td>NaN</td>\n",
       "    </tr>\n",
       "    <tr>\n",
       "      <th>1</th>\n",
       "      <td>NUDT4B</td>\n",
       "      <td>GO:0003723</td>\n",
       "      <td>enables</td>\n",
       "      <td>UniProtKB</td>\n",
       "      <td>A0A024RBG1</td>\n",
       "      <td>NaN</td>\n",
       "      <td>GO_REF:0000037</td>\n",
       "      <td>IEA</td>\n",
       "      <td>UniProtKB-KW:KW-0694</td>\n",
       "      <td>F</td>\n",
       "      <td>Diphosphoinositol polyphosphate phosphohydrola...</td>\n",
       "      <td>NUDT4B</td>\n",
       "      <td>protein</td>\n",
       "      <td>taxon:9606</td>\n",
       "      <td>20190504</td>\n",
       "      <td>UniProt</td>\n",
       "      <td>NaN</td>\n",
       "      <td>NaN</td>\n",
       "    </tr>\n",
       "  </tbody>\n",
       "</table>\n",
       "</div>"
      ],
      "text/plain": [
       "        start_id      end_id     type         db db_object_id qualifier  \\\n",
       "0  DNAJC25-GNG10  GO:0003924  enables  UniProtKB   A0A024R161       NaN   \n",
       "1         NUDT4B  GO:0003723  enables  UniProtKB   A0A024RBG1       NaN   \n",
       "\n",
       "     db_reference evidence_code          with_or_from aspect  \\\n",
       "0  GO_REF:0000002           IEA    InterPro:IPR001770      F   \n",
       "1  GO_REF:0000037           IEA  UniProtKB-KW:KW-0694      F   \n",
       "\n",
       "                                      db_object_name  \\\n",
       "0   Guanine nucleotide-binding protein subunit gamma   \n",
       "1  Diphosphoinositol polyphosphate phosphohydrola...   \n",
       "\n",
       "           db_object_synonym db_object_type       taxon      date assigned_by  \\\n",
       "0  DNAJC25-GNG10|hCG_1994888        protein  taxon:9606  20190504    InterPro   \n",
       "1                     NUDT4B        protein  taxon:9606  20190504     UniProt   \n",
       "\n",
       "  annotation_extension gene_product_form_id  \n",
       "0                  NaN                  NaN  \n",
       "1                  NaN                  NaN  "
      ]
     },
     "execution_count": 18,
     "metadata": {},
     "output_type": "execute_result"
    }
   ],
   "source": [
    "edges_go_prot = edges_go_prot[fix_col_order_edge(edges_go_prot)]\n",
    "edges_go_prot.head(2)"
   ]
  },
  {
   "cell_type": "markdown",
   "metadata": {},
   "source": [
    "Remove relations that have qualifiers that contain NOT"
   ]
  },
  {
   "cell_type": "code",
   "execution_count": 19,
   "metadata": {},
   "outputs": [
    {
     "data": {
      "text/html": [
       "<div>\n",
       "<style scoped>\n",
       "    .dataframe tbody tr th:only-of-type {\n",
       "        vertical-align: middle;\n",
       "    }\n",
       "\n",
       "    .dataframe tbody tr th {\n",
       "        vertical-align: top;\n",
       "    }\n",
       "\n",
       "    .dataframe thead th {\n",
       "        text-align: right;\n",
       "    }\n",
       "</style>\n",
       "<table border=\"1\" class=\"dataframe\">\n",
       "  <thead>\n",
       "    <tr style=\"text-align: right;\">\n",
       "      <th></th>\n",
       "      <th>id</th>\n",
       "      <th>xrefs</th>\n",
       "    </tr>\n",
       "  </thead>\n",
       "  <tbody>\n",
       "    <tr>\n",
       "      <th>524731</th>\n",
       "      <td>NCBIGene:1</td>\n",
       "      <td>SYM:A1BG</td>\n",
       "    </tr>\n",
       "    <tr>\n",
       "      <th>524739</th>\n",
       "      <td>NCBIGene:10</td>\n",
       "      <td>SYM:NAT2</td>\n",
       "    </tr>\n",
       "  </tbody>\n",
       "</table>\n",
       "</div>"
      ],
      "text/plain": [
       "                 id     xrefs\n",
       "524731   NCBIGene:1  SYM:A1BG\n",
       "524739  NCBIGene:10  SYM:NAT2"
      ]
     },
     "execution_count": 19,
     "metadata": {},
     "output_type": "execute_result"
    }
   ],
   "source": [
    "from data_tools.wiki import get_curi_xrefs\n",
    "id_symbol = get_curi_xrefs(all_nodes, 'SYM')\n",
    "\n",
    "id_symbol.head(2)"
   ]
  },
  {
   "cell_type": "code",
   "execution_count": 20,
   "metadata": {},
   "outputs": [],
   "source": [
    "id_symbol['xrefs'] = id_symbol['xrefs'].apply(lambda s: s.split(':')[-1])"
   ]
  },
  {
   "cell_type": "code",
   "execution_count": 21,
   "metadata": {},
   "outputs": [],
   "source": [
    "edges_go_prot = edges_go_prot[~edges_go_prot['qualifier'].str.contains('NOT').fillna(False)]"
   ]
  },
  {
   "cell_type": "code",
   "execution_count": 22,
   "metadata": {},
   "outputs": [],
   "source": [
    "edges_go_prot = (edges_go_prot.merge(id_symbol, how='left', left_on='start_id', right_on='xrefs')\n",
    "             .drop(['start_id', 'xrefs'], axis=1).rename(columns={'id': 'start_id'}))"
   ]
  },
  {
   "cell_type": "code",
   "execution_count": 23,
   "metadata": {},
   "outputs": [
    {
     "name": "stdout",
     "output_type": "stream",
     "text": [
      "GO Gene annotations\n",
      "Total:      478,227\n",
      "Mapped:     469,786\n",
      "Unmapped:     8,441\n"
     ]
    }
   ],
   "source": [
    "print('GO Gene annotations')\n",
    "print('Total:   {:10,}'.format(len(edges_go_prot)))\n",
    "print('Mapped:  {:10,}'.format(edges_go_prot.query('end_id in @go_ids')['start_id'].count()))\n",
    "print('Unmapped:{:10,}'.format(len(edges_go_prot) - edges_go_prot.query('end_id in @go_ids')['start_id'].count()))"
   ]
  },
  {
   "cell_type": "code",
   "execution_count": 24,
   "metadata": {},
   "outputs": [
    {
     "data": {
      "text/plain": [
       "19834"
      ]
     },
     "execution_count": 24,
     "metadata": {},
     "output_type": "execute_result"
    }
   ],
   "source": [
    "edges_go_prot['db_object_id'].nunique()"
   ]
  },
  {
   "cell_type": "code",
   "execution_count": 25,
   "metadata": {},
   "outputs": [
    {
     "data": {
      "text/plain": [
       "18974"
      ]
     },
     "execution_count": 25,
     "metadata": {},
     "output_type": "execute_result"
    }
   ],
   "source": [
    "edges_go_prot['start_id'].nunique()"
   ]
  },
  {
   "cell_type": "markdown",
   "metadata": {},
   "source": [
    "There are fewer Gene IDs than Protein IDs, so there may be 1 to many relationships going on..."
   ]
  },
  {
   "cell_type": "code",
   "execution_count": 26,
   "metadata": {
    "scrolled": true
   },
   "outputs": [
    {
     "name": "stdout",
     "output_type": "stream",
     "text": [
      "Number of UniProt IDs that map to more than one Gene ID: 0\n",
      "Number of Gene IDs that map to more than 1 UniProt ID: 50\n"
     ]
    }
   ],
   "source": [
    "print('Number of UniProt IDs that map to more than one Gene ID: {:,}'.format(\n",
    "    (edges_go_prot[['start_id', 'db_object_id']].groupby('db_object_id')['start_id'].nunique() > 1).sum()))\n",
    "print('Number of Gene IDs that map to more than 1 UniProt ID: {:,}'.format(\n",
    "    (edges_go_prot[['start_id', 'db_object_id']].groupby('start_id')['db_object_id'].nunique() > 1).sum()))"
   ]
  },
  {
   "cell_type": "markdown",
   "metadata": {},
   "source": [
    "51 Genes that map to multiple Uniprots... it should be fine to map them to all the edges for all the correspoding uniprots"
   ]
  },
  {
   "cell_type": "code",
   "execution_count": 27,
   "metadata": {},
   "outputs": [
    {
     "data": {
      "text/html": [
       "<div>\n",
       "<style scoped>\n",
       "    .dataframe tbody tr th:only-of-type {\n",
       "        vertical-align: middle;\n",
       "    }\n",
       "\n",
       "    .dataframe tbody tr th {\n",
       "        vertical-align: top;\n",
       "    }\n",
       "\n",
       "    .dataframe thead th {\n",
       "        text-align: right;\n",
       "    }\n",
       "</style>\n",
       "<table border=\"1\" class=\"dataframe\">\n",
       "  <thead>\n",
       "    <tr style=\"text-align: right;\">\n",
       "      <th></th>\n",
       "      <th>end_id</th>\n",
       "      <th>type</th>\n",
       "      <th>db</th>\n",
       "      <th>db_object_id</th>\n",
       "      <th>qualifier</th>\n",
       "      <th>db_reference</th>\n",
       "      <th>evidence_code</th>\n",
       "      <th>with_or_from</th>\n",
       "      <th>aspect</th>\n",
       "      <th>db_object_name</th>\n",
       "      <th>db_object_synonym</th>\n",
       "      <th>db_object_type</th>\n",
       "      <th>taxon</th>\n",
       "      <th>date</th>\n",
       "      <th>assigned_by</th>\n",
       "      <th>annotation_extension</th>\n",
       "      <th>gene_product_form_id</th>\n",
       "      <th>start_id</th>\n",
       "    </tr>\n",
       "  </thead>\n",
       "  <tbody>\n",
       "    <tr>\n",
       "      <th>0</th>\n",
       "      <td>GO:0003924</td>\n",
       "      <td>enables</td>\n",
       "      <td>UniProtKB</td>\n",
       "      <td>A0A024R161</td>\n",
       "      <td>NaN</td>\n",
       "      <td>GO_REF:0000002</td>\n",
       "      <td>IEA</td>\n",
       "      <td>InterPro:IPR001770</td>\n",
       "      <td>F</td>\n",
       "      <td>Guanine nucleotide-binding protein subunit gamma</td>\n",
       "      <td>DNAJC25-GNG10|hCG_1994888</td>\n",
       "      <td>protein</td>\n",
       "      <td>taxon:9606</td>\n",
       "      <td>20190504</td>\n",
       "      <td>InterPro</td>\n",
       "      <td>NaN</td>\n",
       "      <td>NaN</td>\n",
       "      <td>NCBIGene:552891</td>\n",
       "    </tr>\n",
       "    <tr>\n",
       "      <th>1</th>\n",
       "      <td>GO:0003723</td>\n",
       "      <td>enables</td>\n",
       "      <td>UniProtKB</td>\n",
       "      <td>A0A024RBG1</td>\n",
       "      <td>NaN</td>\n",
       "      <td>GO_REF:0000037</td>\n",
       "      <td>IEA</td>\n",
       "      <td>UniProtKB-KW:KW-0694</td>\n",
       "      <td>F</td>\n",
       "      <td>Diphosphoinositol polyphosphate phosphohydrola...</td>\n",
       "      <td>NUDT4B</td>\n",
       "      <td>protein</td>\n",
       "      <td>taxon:9606</td>\n",
       "      <td>20190504</td>\n",
       "      <td>UniProt</td>\n",
       "      <td>NaN</td>\n",
       "      <td>NaN</td>\n",
       "      <td>NaN</td>\n",
       "    </tr>\n",
       "  </tbody>\n",
       "</table>\n",
       "</div>"
      ],
      "text/plain": [
       "       end_id     type         db db_object_id qualifier    db_reference  \\\n",
       "0  GO:0003924  enables  UniProtKB   A0A024R161       NaN  GO_REF:0000002   \n",
       "1  GO:0003723  enables  UniProtKB   A0A024RBG1       NaN  GO_REF:0000037   \n",
       "\n",
       "  evidence_code          with_or_from aspect  \\\n",
       "0           IEA    InterPro:IPR001770      F   \n",
       "1           IEA  UniProtKB-KW:KW-0694      F   \n",
       "\n",
       "                                      db_object_name  \\\n",
       "0   Guanine nucleotide-binding protein subunit gamma   \n",
       "1  Diphosphoinositol polyphosphate phosphohydrola...   \n",
       "\n",
       "           db_object_synonym db_object_type       taxon      date assigned_by  \\\n",
       "0  DNAJC25-GNG10|hCG_1994888        protein  taxon:9606  20190504    InterPro   \n",
       "1                     NUDT4B        protein  taxon:9606  20190504     UniProt   \n",
       "\n",
       "  annotation_extension gene_product_form_id         start_id  \n",
       "0                  NaN                  NaN  NCBIGene:552891  \n",
       "1                  NaN                  NaN              NaN  "
      ]
     },
     "execution_count": 27,
     "metadata": {},
     "output_type": "execute_result"
    }
   ],
   "source": [
    "edges_go_prot.head(2)"
   ]
  },
  {
   "cell_type": "code",
   "execution_count": 28,
   "metadata": {},
   "outputs": [],
   "source": [
    "edges_go_prot['source'] = 'Gene Ontology'\n",
    "edges_go_prot['license'] = 'CC-BY 4.0'\n",
    "\n",
    "edges_go_prot['dsrc_type'] = edges_go_prot['evidence_code'].apply(determine_evidence)\n",
    "\n",
    "comp_idx = edges_go_prot.query('dsrc_type == \"computed\"').index\n",
    "edges_go_prot.loc[comp_idx, 'comp_type'] = edges_go_prot.loc[comp_idx, 'evidence_code']"
   ]
  },
  {
   "cell_type": "code",
   "execution_count": 29,
   "metadata": {},
   "outputs": [
    {
     "data": {
      "text/plain": [
       "curated     373997\n",
       "computed    104230\n",
       "Name: dsrc_type, dtype: int64"
      ]
     },
     "execution_count": 29,
     "metadata": {},
     "output_type": "execute_result"
    }
   ],
   "source": [
    "edges_go_prot['dsrc_type'].value_counts()"
   ]
  },
  {
   "cell_type": "code",
   "execution_count": 30,
   "metadata": {},
   "outputs": [],
   "source": [
    "# Add all mapped edges\n",
    "new_edges.append(edges_go_prot.dropna(subset=['start_id', 'end_id']))"
   ]
  },
  {
   "cell_type": "markdown",
   "metadata": {},
   "source": [
    "### Complex to GO"
   ]
  },
  {
   "cell_type": "code",
   "execution_count": 31,
   "metadata": {},
   "outputs": [
    {
     "data": {
      "text/html": [
       "<div>\n",
       "<style scoped>\n",
       "    .dataframe tbody tr th:only-of-type {\n",
       "        vertical-align: middle;\n",
       "    }\n",
       "\n",
       "    .dataframe tbody tr th {\n",
       "        vertical-align: top;\n",
       "    }\n",
       "\n",
       "    .dataframe thead th {\n",
       "        text-align: right;\n",
       "    }\n",
       "</style>\n",
       "<table border=\"1\" class=\"dataframe\">\n",
       "  <thead>\n",
       "    <tr style=\"text-align: right;\">\n",
       "      <th></th>\n",
       "      <th>start_id</th>\n",
       "      <th>end_id</th>\n",
       "      <th>type</th>\n",
       "      <th>db</th>\n",
       "      <th>db_object_symbol</th>\n",
       "      <th>qualifier</th>\n",
       "      <th>db_reference</th>\n",
       "      <th>evidence_code</th>\n",
       "      <th>with_or_from</th>\n",
       "      <th>aspect</th>\n",
       "      <th>db_object_name</th>\n",
       "      <th>db_object_synonym</th>\n",
       "      <th>db_object_type</th>\n",
       "      <th>taxon</th>\n",
       "      <th>date</th>\n",
       "      <th>assigned_by</th>\n",
       "      <th>annotation_extension</th>\n",
       "      <th>gene_product_form_id</th>\n",
       "    </tr>\n",
       "  </thead>\n",
       "  <tbody>\n",
       "    <tr>\n",
       "      <th>0</th>\n",
       "      <td>CPX-1012</td>\n",
       "      <td>GO:0030155</td>\n",
       "      <td>involved_in</td>\n",
       "      <td>ComplexPortal</td>\n",
       "      <td>tenascin-w_human</td>\n",
       "      <td>NaN</td>\n",
       "      <td>PMID:17909022</td>\n",
       "      <td>IDA</td>\n",
       "      <td>NaN</td>\n",
       "      <td>P</td>\n",
       "      <td>Tenascin-W complex</td>\n",
       "      <td>TNN hexamer|Tenascin W complex</td>\n",
       "      <td>protein_complex</td>\n",
       "      <td>taxon:9606</td>\n",
       "      <td>20170313</td>\n",
       "      <td>ComplexPortal</td>\n",
       "      <td>NaN</td>\n",
       "      <td>NaN</td>\n",
       "    </tr>\n",
       "    <tr>\n",
       "      <th>1</th>\n",
       "      <td>CPX-1012</td>\n",
       "      <td>GO:0030334</td>\n",
       "      <td>involved_in</td>\n",
       "      <td>ComplexPortal</td>\n",
       "      <td>tenascin-w_human</td>\n",
       "      <td>NaN</td>\n",
       "      <td>PMID:17909022</td>\n",
       "      <td>IDA</td>\n",
       "      <td>NaN</td>\n",
       "      <td>P</td>\n",
       "      <td>Tenascin-W complex</td>\n",
       "      <td>TNN hexamer|Tenascin W complex</td>\n",
       "      <td>protein_complex</td>\n",
       "      <td>taxon:9606</td>\n",
       "      <td>20170313</td>\n",
       "      <td>ComplexPortal</td>\n",
       "      <td>NaN</td>\n",
       "      <td>NaN</td>\n",
       "    </tr>\n",
       "    <tr>\n",
       "      <th>2</th>\n",
       "      <td>CPX-1012</td>\n",
       "      <td>GO:0062023</td>\n",
       "      <td>part_of</td>\n",
       "      <td>ComplexPortal</td>\n",
       "      <td>tenascin-w_human</td>\n",
       "      <td>NaN</td>\n",
       "      <td>PMID:19884327</td>\n",
       "      <td>IDA</td>\n",
       "      <td>NaN</td>\n",
       "      <td>C</td>\n",
       "      <td>Tenascin-W complex</td>\n",
       "      <td>TNN hexamer|Tenascin W complex</td>\n",
       "      <td>protein_complex</td>\n",
       "      <td>taxon:9606</td>\n",
       "      <td>20170313</td>\n",
       "      <td>ComplexPortal</td>\n",
       "      <td>NaN</td>\n",
       "      <td>NaN</td>\n",
       "    </tr>\n",
       "    <tr>\n",
       "      <th>3</th>\n",
       "      <td>CPX-1012</td>\n",
       "      <td>GO:1903672</td>\n",
       "      <td>involved_in</td>\n",
       "      <td>ComplexPortal</td>\n",
       "      <td>tenascin-w_human</td>\n",
       "      <td>NaN</td>\n",
       "      <td>PMID:19884327</td>\n",
       "      <td>IDA</td>\n",
       "      <td>NaN</td>\n",
       "      <td>P</td>\n",
       "      <td>Tenascin-W complex</td>\n",
       "      <td>TNN hexamer|Tenascin W complex</td>\n",
       "      <td>protein_complex</td>\n",
       "      <td>taxon:9606</td>\n",
       "      <td>20170313</td>\n",
       "      <td>ComplexPortal</td>\n",
       "      <td>NaN</td>\n",
       "      <td>NaN</td>\n",
       "    </tr>\n",
       "    <tr>\n",
       "      <th>4</th>\n",
       "      <td>CPX-1014</td>\n",
       "      <td>GO:0007160</td>\n",
       "      <td>involved_in</td>\n",
       "      <td>ComplexPortal</td>\n",
       "      <td>tenascin-x_human</td>\n",
       "      <td>NaN</td>\n",
       "      <td>GO_REF:0000108</td>\n",
       "      <td>IEA</td>\n",
       "      <td>GO:0098639</td>\n",
       "      <td>P</td>\n",
       "      <td>Tenascin-X complex</td>\n",
       "      <td>TNXB trimer|Tenascin X complex|TNX complex|TN-...</td>\n",
       "      <td>protein_complex</td>\n",
       "      <td>taxon:9606</td>\n",
       "      <td>20190504</td>\n",
       "      <td>GOC</td>\n",
       "      <td>NaN</td>\n",
       "      <td>NaN</td>\n",
       "    </tr>\n",
       "  </tbody>\n",
       "</table>\n",
       "</div>"
      ],
      "text/plain": [
       "   start_id      end_id         type             db  db_object_symbol  \\\n",
       "0  CPX-1012  GO:0030155  involved_in  ComplexPortal  tenascin-w_human   \n",
       "1  CPX-1012  GO:0030334  involved_in  ComplexPortal  tenascin-w_human   \n",
       "2  CPX-1012  GO:0062023      part_of  ComplexPortal  tenascin-w_human   \n",
       "3  CPX-1012  GO:1903672  involved_in  ComplexPortal  tenascin-w_human   \n",
       "4  CPX-1014  GO:0007160  involved_in  ComplexPortal  tenascin-x_human   \n",
       "\n",
       "  qualifier    db_reference evidence_code with_or_from aspect  \\\n",
       "0       NaN   PMID:17909022           IDA          NaN      P   \n",
       "1       NaN   PMID:17909022           IDA          NaN      P   \n",
       "2       NaN   PMID:19884327           IDA          NaN      C   \n",
       "3       NaN   PMID:19884327           IDA          NaN      P   \n",
       "4       NaN  GO_REF:0000108           IEA   GO:0098639      P   \n",
       "\n",
       "       db_object_name                                  db_object_synonym  \\\n",
       "0  Tenascin-W complex                     TNN hexamer|Tenascin W complex   \n",
       "1  Tenascin-W complex                     TNN hexamer|Tenascin W complex   \n",
       "2  Tenascin-W complex                     TNN hexamer|Tenascin W complex   \n",
       "3  Tenascin-W complex                     TNN hexamer|Tenascin W complex   \n",
       "4  Tenascin-X complex  TNXB trimer|Tenascin X complex|TNX complex|TN-...   \n",
       "\n",
       "    db_object_type       taxon      date    assigned_by annotation_extension  \\\n",
       "0  protein_complex  taxon:9606  20170313  ComplexPortal                  NaN   \n",
       "1  protein_complex  taxon:9606  20170313  ComplexPortal                  NaN   \n",
       "2  protein_complex  taxon:9606  20170313  ComplexPortal                  NaN   \n",
       "3  protein_complex  taxon:9606  20170313  ComplexPortal                  NaN   \n",
       "4  protein_complex  taxon:9606  20190504            GOC                  NaN   \n",
       "\n",
       "  gene_product_form_id  \n",
       "0                  NaN  \n",
       "1                  NaN  \n",
       "2                  NaN  \n",
       "3                  NaN  \n",
       "4                  NaN  "
      ]
     },
     "execution_count": 31,
     "metadata": {},
     "output_type": "execute_result"
    }
   ],
   "source": [
    "edges_go_cpx = go_complex.rename(columns={'db_object_id': 'start_id', 'go_id': 'end_id'})\n",
    "edges_go_cpx['type'] = edges_go_cpx['aspect'].map(type_conversion)\n",
    "edges_go_cpx = edges_go_cpx[fix_col_order_edge(edges_go_cpx)]\n",
    "edges_go_cpx.head()"
   ]
  },
  {
   "cell_type": "code",
   "execution_count": 32,
   "metadata": {},
   "outputs": [],
   "source": [
    "# Add a CURI for complex portal\n",
    "edges_go_cpx['start_id'] = 'CPX:'+edges_go_cpx['start_id']"
   ]
  },
  {
   "cell_type": "code",
   "execution_count": 33,
   "metadata": {},
   "outputs": [],
   "source": [
    "edges_go_cpx = edges_go_cpx[~edges_go_cpx['qualifier'].str.contains('NOT').fillna(False)]"
   ]
  },
  {
   "cell_type": "code",
   "execution_count": 34,
   "metadata": {},
   "outputs": [],
   "source": [
    "edges_go_cpx['source'] = 'Gene Ontology'\n",
    "edges_go_cpx['license'] = 'CC-BY 4.0'\n",
    "\n",
    "edges_go_cpx['dsrc_type'] = edges_go_cpx['evidence_code'].apply(determine_evidence)\n",
    "\n",
    "comp_idx = edges_go_cpx.query('dsrc_type == \"computed\"').index\n",
    "edges_go_cpx.loc[comp_idx, 'comp_type'] = edges_go_cpx.loc[comp_idx, 'evidence_code']"
   ]
  },
  {
   "cell_type": "code",
   "execution_count": 35,
   "metadata": {},
   "outputs": [],
   "source": [
    "# Add all mapped edges\n",
    "new_edges.append(edges_go_cpx.dropna(subset=['start_id', 'end_id']))"
   ]
  },
  {
   "cell_type": "markdown",
   "metadata": {},
   "source": [
    "#### Need more to anchor complexes into the network... Gene to Complex, and Complex Identifiers..."
   ]
  },
  {
   "cell_type": "code",
   "execution_count": 36,
   "metadata": {},
   "outputs": [
    {
     "data": {
      "text/html": [
       "<div>\n",
       "<style scoped>\n",
       "    .dataframe tbody tr th:only-of-type {\n",
       "        vertical-align: middle;\n",
       "    }\n",
       "\n",
       "    .dataframe tbody tr th {\n",
       "        vertical-align: top;\n",
       "    }\n",
       "\n",
       "    .dataframe thead th {\n",
       "        text-align: right;\n",
       "    }\n",
       "</style>\n",
       "<table border=\"1\" class=\"dataframe\">\n",
       "  <thead>\n",
       "    <tr style=\"text-align: right;\">\n",
       "      <th></th>\n",
       "      <th>complex_ac</th>\n",
       "      <th>recommended_name</th>\n",
       "      <th>aliases_for_complex</th>\n",
       "      <th>taxonomy_identifier</th>\n",
       "      <th>identifiers_and_stoichiometry_of_molecules_in_complex</th>\n",
       "      <th>confidence</th>\n",
       "      <th>experimental_evidence</th>\n",
       "      <th>go_annotations</th>\n",
       "      <th>cross_references</th>\n",
       "      <th>description</th>\n",
       "      <th>complex_properties</th>\n",
       "      <th>complex_assembly</th>\n",
       "      <th>ligand</th>\n",
       "      <th>disease</th>\n",
       "      <th>agonist</th>\n",
       "      <th>antagonist</th>\n",
       "      <th>comment</th>\n",
       "      <th>source</th>\n",
       "    </tr>\n",
       "  </thead>\n",
       "  <tbody>\n",
       "    <tr>\n",
       "      <th>0</th>\n",
       "      <td>CPX-1196</td>\n",
       "      <td>Polybromo-associated SWI/SNF ATP-dependent chr...</td>\n",
       "      <td>Polybromo-associated SWI/SNF ATP-dependent chr...</td>\n",
       "      <td>9606</td>\n",
       "      <td>Q86U86(0)|Q68CP9(0)|Q8WUB8(0)|P60709(0)|O94805...</td>\n",
       "      <td>ECO:0005547(biological system reconstruction e...</td>\n",
       "      <td>-</td>\n",
       "      <td>GO:0016363(nuclear matrix)|GO:2000045(regulati...</td>\n",
       "      <td>pubmed:11790558(see-also)|pubmed:18809673(see-...</td>\n",
       "      <td>An ATP-dependent chromatin remodeling complex ...</td>\n",
       "      <td>MW approximately 2 MDa. May contain 2 instance...</td>\n",
       "      <td>-</td>\n",
       "      <td>-</td>\n",
       "      <td>Coffin-Siris syndrome (CSS) [Orphanet:1465]: a...</td>\n",
       "      <td>-</td>\n",
       "      <td>-</td>\n",
       "      <td>-</td>\n",
       "      <td>psi-mi:\"MI:0469\"(IntAct)</td>\n",
       "    </tr>\n",
       "    <tr>\n",
       "      <th>1</th>\n",
       "      <td>CPX-1201</td>\n",
       "      <td>Neural progenitor-specific SWI/SNF ATP-depende...</td>\n",
       "      <td>neural progenitor-specific BAF ATP-dependent c...</td>\n",
       "      <td>9606</td>\n",
       "      <td>P51531(0)|O14497(0)|Q969G3(0)|Q6STE5(0)|Q8WUB8...</td>\n",
       "      <td>ECO:0005547(biological system reconstruction e...</td>\n",
       "      <td>-</td>\n",
       "      <td>GO:2000045(regulation of G1/S transition of mi...</td>\n",
       "      <td>pubmed:11790558(see-also)|pubmed:18809673(see-...</td>\n",
       "      <td>An ATP-dependent chromatin remodeling complex ...</td>\n",
       "      <td>MW approximately 2 MDa. May contain 2 instance...</td>\n",
       "      <td>-</td>\n",
       "      <td>-</td>\n",
       "      <td>Coffin-Siris syndrome (CSS) [Orphanet:1465]: a...</td>\n",
       "      <td>-</td>\n",
       "      <td>-</td>\n",
       "      <td>-</td>\n",
       "      <td>psi-mi:\"MI:0469\"(IntAct)</td>\n",
       "    </tr>\n",
       "  </tbody>\n",
       "</table>\n",
       "</div>"
      ],
      "text/plain": [
       "  complex_ac                                   recommended_name  \\\n",
       "0   CPX-1196  Polybromo-associated SWI/SNF ATP-dependent chr...   \n",
       "1   CPX-1201  Neural progenitor-specific SWI/SNF ATP-depende...   \n",
       "\n",
       "                                 aliases_for_complex  taxonomy_identifier  \\\n",
       "0  Polybromo-associated SWI/SNF ATP-dependent chr...                 9606   \n",
       "1  neural progenitor-specific BAF ATP-dependent c...                 9606   \n",
       "\n",
       "  identifiers_and_stoichiometry_of_molecules_in_complex  \\\n",
       "0  Q86U86(0)|Q68CP9(0)|Q8WUB8(0)|P60709(0)|O94805...      \n",
       "1  P51531(0)|O14497(0)|Q969G3(0)|Q6STE5(0)|Q8WUB8...      \n",
       "\n",
       "                                          confidence experimental_evidence  \\\n",
       "0  ECO:0005547(biological system reconstruction e...                     -   \n",
       "1  ECO:0005547(biological system reconstruction e...                     -   \n",
       "\n",
       "                                      go_annotations  \\\n",
       "0  GO:0016363(nuclear matrix)|GO:2000045(regulati...   \n",
       "1  GO:2000045(regulation of G1/S transition of mi...   \n",
       "\n",
       "                                    cross_references  \\\n",
       "0  pubmed:11790558(see-also)|pubmed:18809673(see-...   \n",
       "1  pubmed:11790558(see-also)|pubmed:18809673(see-...   \n",
       "\n",
       "                                         description  \\\n",
       "0  An ATP-dependent chromatin remodeling complex ...   \n",
       "1  An ATP-dependent chromatin remodeling complex ...   \n",
       "\n",
       "                                  complex_properties complex_assembly ligand  \\\n",
       "0  MW approximately 2 MDa. May contain 2 instance...                -      -   \n",
       "1  MW approximately 2 MDa. May contain 2 instance...                -      -   \n",
       "\n",
       "                                             disease agonist antagonist  \\\n",
       "0  Coffin-Siris syndrome (CSS) [Orphanet:1465]: a...       -          -   \n",
       "1  Coffin-Siris syndrome (CSS) [Orphanet:1465]: a...       -          -   \n",
       "\n",
       "  comment                    source  \n",
       "0       -  psi-mi:\"MI:0469\"(IntAct)  \n",
       "1       -  psi-mi:\"MI:0469\"(IntAct)  "
      ]
     },
     "execution_count": 36,
     "metadata": {},
     "output_type": "execute_result"
    }
   ],
   "source": [
    "cplx = pd.read_csv(load_dir.joinpath('homo_sapiens.tsv'), sep='\\t')\n",
    "cplx.columns = regularize_colnames(cplx.columns)\n",
    "cplx.head(2)"
   ]
  },
  {
   "cell_type": "code",
   "execution_count": 37,
   "metadata": {},
   "outputs": [],
   "source": [
    "# Add curi\n",
    "cplx['complex_ac'] = 'CPX:' + cplx['complex_ac']"
   ]
  },
  {
   "cell_type": "markdown",
   "metadata": {},
   "source": [
    "Well, these complexes are nice, but we already have complexs in Reactome space.  We might be able to map them though. Luckily this file contains cross-references"
   ]
  },
  {
   "cell_type": "code",
   "execution_count": 38,
   "metadata": {},
   "outputs": [
    {
     "data": {
      "text/html": [
       "<div>\n",
       "<style scoped>\n",
       "    .dataframe tbody tr th:only-of-type {\n",
       "        vertical-align: middle;\n",
       "    }\n",
       "\n",
       "    .dataframe tbody tr th {\n",
       "        vertical-align: top;\n",
       "    }\n",
       "\n",
       "    .dataframe thead th {\n",
       "        text-align: right;\n",
       "    }\n",
       "</style>\n",
       "<table border=\"1\" class=\"dataframe\">\n",
       "  <thead>\n",
       "    <tr style=\"text-align: right;\">\n",
       "      <th></th>\n",
       "      <th>complex_ac</th>\n",
       "      <th>recommended_name</th>\n",
       "      <th>aliases_for_complex</th>\n",
       "      <th>taxonomy_identifier</th>\n",
       "      <th>identifiers_and_stoichiometry_of_molecules_in_complex</th>\n",
       "      <th>confidence</th>\n",
       "      <th>experimental_evidence</th>\n",
       "      <th>go_annotations</th>\n",
       "      <th>cross_references</th>\n",
       "      <th>description</th>\n",
       "      <th>complex_properties</th>\n",
       "      <th>complex_assembly</th>\n",
       "      <th>ligand</th>\n",
       "      <th>disease</th>\n",
       "      <th>agonist</th>\n",
       "      <th>antagonist</th>\n",
       "      <th>comment</th>\n",
       "      <th>source</th>\n",
       "    </tr>\n",
       "  </thead>\n",
       "  <tbody>\n",
       "    <tr>\n",
       "      <th>0</th>\n",
       "      <td>CPX:CPX-1196</td>\n",
       "      <td>Polybromo-associated SWI/SNF ATP-dependent chr...</td>\n",
       "      <td>Polybromo-associated SWI/SNF ATP-dependent chr...</td>\n",
       "      <td>9606</td>\n",
       "      <td>Q86U86(0)|Q68CP9(0)|Q8WUB8(0)|P60709(0)|O94805...</td>\n",
       "      <td>ECO:0005547(biological system reconstruction e...</td>\n",
       "      <td>-</td>\n",
       "      <td>GO:0016363(nuclear matrix)|GO:2000045(regulati...</td>\n",
       "      <td>pubmed:11790558(see-also)</td>\n",
       "      <td>An ATP-dependent chromatin remodeling complex ...</td>\n",
       "      <td>MW approximately 2 MDa. May contain 2 instance...</td>\n",
       "      <td>-</td>\n",
       "      <td>-</td>\n",
       "      <td>Coffin-Siris syndrome (CSS) [Orphanet:1465]: a...</td>\n",
       "      <td>-</td>\n",
       "      <td>-</td>\n",
       "      <td>-</td>\n",
       "      <td>psi-mi:\"MI:0469\"(IntAct)</td>\n",
       "    </tr>\n",
       "    <tr>\n",
       "      <th>1</th>\n",
       "      <td>CPX:CPX-1196</td>\n",
       "      <td>Polybromo-associated SWI/SNF ATP-dependent chr...</td>\n",
       "      <td>Polybromo-associated SWI/SNF ATP-dependent chr...</td>\n",
       "      <td>9606</td>\n",
       "      <td>Q86U86(0)|Q68CP9(0)|Q8WUB8(0)|P60709(0)|O94805...</td>\n",
       "      <td>ECO:0005547(biological system reconstruction e...</td>\n",
       "      <td>-</td>\n",
       "      <td>GO:0016363(nuclear matrix)|GO:2000045(regulati...</td>\n",
       "      <td>pubmed:18809673(see-also)</td>\n",
       "      <td>An ATP-dependent chromatin remodeling complex ...</td>\n",
       "      <td>MW approximately 2 MDa. May contain 2 instance...</td>\n",
       "      <td>-</td>\n",
       "      <td>-</td>\n",
       "      <td>Coffin-Siris syndrome (CSS) [Orphanet:1465]: a...</td>\n",
       "      <td>-</td>\n",
       "      <td>-</td>\n",
       "      <td>-</td>\n",
       "      <td>psi-mi:\"MI:0469\"(IntAct)</td>\n",
       "    </tr>\n",
       "  </tbody>\n",
       "</table>\n",
       "</div>"
      ],
      "text/plain": [
       "     complex_ac                                   recommended_name  \\\n",
       "0  CPX:CPX-1196  Polybromo-associated SWI/SNF ATP-dependent chr...   \n",
       "1  CPX:CPX-1196  Polybromo-associated SWI/SNF ATP-dependent chr...   \n",
       "\n",
       "                                 aliases_for_complex  taxonomy_identifier  \\\n",
       "0  Polybromo-associated SWI/SNF ATP-dependent chr...                 9606   \n",
       "1  Polybromo-associated SWI/SNF ATP-dependent chr...                 9606   \n",
       "\n",
       "  identifiers_and_stoichiometry_of_molecules_in_complex  \\\n",
       "0  Q86U86(0)|Q68CP9(0)|Q8WUB8(0)|P60709(0)|O94805...      \n",
       "1  Q86U86(0)|Q68CP9(0)|Q8WUB8(0)|P60709(0)|O94805...      \n",
       "\n",
       "                                          confidence experimental_evidence  \\\n",
       "0  ECO:0005547(biological system reconstruction e...                     -   \n",
       "1  ECO:0005547(biological system reconstruction e...                     -   \n",
       "\n",
       "                                      go_annotations  \\\n",
       "0  GO:0016363(nuclear matrix)|GO:2000045(regulati...   \n",
       "1  GO:0016363(nuclear matrix)|GO:2000045(regulati...   \n",
       "\n",
       "            cross_references  \\\n",
       "0  pubmed:11790558(see-also)   \n",
       "1  pubmed:18809673(see-also)   \n",
       "\n",
       "                                         description  \\\n",
       "0  An ATP-dependent chromatin remodeling complex ...   \n",
       "1  An ATP-dependent chromatin remodeling complex ...   \n",
       "\n",
       "                                  complex_properties complex_assembly ligand  \\\n",
       "0  MW approximately 2 MDa. May contain 2 instance...                -      -   \n",
       "1  MW approximately 2 MDa. May contain 2 instance...                -      -   \n",
       "\n",
       "                                             disease agonist antagonist  \\\n",
       "0  Coffin-Siris syndrome (CSS) [Orphanet:1465]: a...       -          -   \n",
       "1  Coffin-Siris syndrome (CSS) [Orphanet:1465]: a...       -          -   \n",
       "\n",
       "  comment                    source  \n",
       "0       -  psi-mi:\"MI:0469\"(IntAct)  \n",
       "1       -  psi-mi:\"MI:0469\"(IntAct)  "
      ]
     },
     "execution_count": 38,
     "metadata": {},
     "output_type": "execute_result"
    }
   ],
   "source": [
    "xref_cplx = expand_col_on_char(cplx, 'cross_references', '|')\n",
    "xref_cplx.head(2)"
   ]
  },
  {
   "cell_type": "code",
   "execution_count": 39,
   "metadata": {},
   "outputs": [
    {
     "data": {
      "text/html": [
       "<div>\n",
       "<style scoped>\n",
       "    .dataframe tbody tr th:only-of-type {\n",
       "        vertical-align: middle;\n",
       "    }\n",
       "\n",
       "    .dataframe tbody tr th {\n",
       "        vertical-align: top;\n",
       "    }\n",
       "\n",
       "    .dataframe thead th {\n",
       "        text-align: right;\n",
       "    }\n",
       "</style>\n",
       "<table border=\"1\" class=\"dataframe\">\n",
       "  <thead>\n",
       "    <tr style=\"text-align: right;\">\n",
       "      <th></th>\n",
       "      <th>complex_ac</th>\n",
       "      <th>recommended_name</th>\n",
       "      <th>cross_references</th>\n",
       "    </tr>\n",
       "  </thead>\n",
       "  <tbody>\n",
       "    <tr>\n",
       "      <th>99</th>\n",
       "      <td>CPX:CPX-56</td>\n",
       "      <td>GLI1-SUFU complex</td>\n",
       "      <td>reactome:R-HSA-5610605(identity)</td>\n",
       "    </tr>\n",
       "    <tr>\n",
       "      <th>100</th>\n",
       "      <td>CPX:CPX-56</td>\n",
       "      <td>GLI1-SUFU complex</td>\n",
       "      <td>reactome:R-HSA-5610531(identity)</td>\n",
       "    </tr>\n",
       "  </tbody>\n",
       "</table>\n",
       "</div>"
      ],
      "text/plain": [
       "     complex_ac   recommended_name                  cross_references\n",
       "99   CPX:CPX-56  GLI1-SUFU complex  reactome:R-HSA-5610605(identity)\n",
       "100  CPX:CPX-56  GLI1-SUFU complex  reactome:R-HSA-5610531(identity)"
      ]
     },
     "execution_count": 39,
     "metadata": {},
     "output_type": "execute_result"
    }
   ],
   "source": [
    "react_cplx = xref_cplx[xref_cplx['cross_references'].str.startswith('reactome')].copy()\n",
    "react_cplx[['complex_ac', 'recommended_name', 'cross_references']].head(2)"
   ]
  },
  {
   "cell_type": "code",
   "execution_count": 40,
   "metadata": {},
   "outputs": [
    {
     "data": {
      "text/plain": [
       "(389, 386)"
      ]
     },
     "execution_count": 40,
     "metadata": {},
     "output_type": "execute_result"
    }
   ],
   "source": [
    "len(react_cplx), react_cplx['cross_references'].str.contains('identity').sum()"
   ]
  },
  {
   "cell_type": "code",
   "execution_count": 41,
   "metadata": {},
   "outputs": [
    {
     "data": {
      "text/html": [
       "<div>\n",
       "<style scoped>\n",
       "    .dataframe tbody tr th:only-of-type {\n",
       "        vertical-align: middle;\n",
       "    }\n",
       "\n",
       "    .dataframe tbody tr th {\n",
       "        vertical-align: top;\n",
       "    }\n",
       "\n",
       "    .dataframe thead th {\n",
       "        text-align: right;\n",
       "    }\n",
       "</style>\n",
       "<table border=\"1\" class=\"dataframe\">\n",
       "  <thead>\n",
       "    <tr style=\"text-align: right;\">\n",
       "      <th></th>\n",
       "      <th>complex_ac</th>\n",
       "      <th>recommended_name</th>\n",
       "      <th>cross_references</th>\n",
       "    </tr>\n",
       "  </thead>\n",
       "  <tbody>\n",
       "    <tr>\n",
       "      <th>370</th>\n",
       "      <td>CPX:CPX-2108</td>\n",
       "      <td>epsilon DNA polymerase complex</td>\n",
       "      <td>reactome:R-HSA-68483(subset)</td>\n",
       "    </tr>\n",
       "    <tr>\n",
       "      <th>2223</th>\n",
       "      <td>CPX:CPX-382</td>\n",
       "      <td>Interleukin-12-receptor complex</td>\n",
       "      <td>reactome:R-HSA-8854487(subset)</td>\n",
       "    </tr>\n",
       "    <tr>\n",
       "      <th>2903</th>\n",
       "      <td>CPX:CPX-383</td>\n",
       "      <td>Interleukin-23-receptor complex</td>\n",
       "      <td>reactome:R-HSA-447186(subset)</td>\n",
       "    </tr>\n",
       "  </tbody>\n",
       "</table>\n",
       "</div>"
      ],
      "text/plain": [
       "        complex_ac                 recommended_name  \\\n",
       "370   CPX:CPX-2108   epsilon DNA polymerase complex   \n",
       "2223   CPX:CPX-382  Interleukin-12-receptor complex   \n",
       "2903   CPX:CPX-383  Interleukin-23-receptor complex   \n",
       "\n",
       "                    cross_references  \n",
       "370     reactome:R-HSA-68483(subset)  \n",
       "2223  reactome:R-HSA-8854487(subset)  \n",
       "2903   reactome:R-HSA-447186(subset)  "
      ]
     },
     "execution_count": 41,
     "metadata": {},
     "output_type": "execute_result"
    }
   ],
   "source": [
    "react_cplx[~react_cplx['cross_references'].str.contains('identity')][['complex_ac', 'recommended_name', 'cross_references']]"
   ]
  },
  {
   "cell_type": "code",
   "execution_count": 42,
   "metadata": {},
   "outputs": [],
   "source": [
    "react_cplx['xref'] = (react_cplx['cross_references']\n",
    "                         .str.replace('reactome:', 'REACT:', regex=False)\n",
    "                         .str.replace('(identity)', '', regex=False)\n",
    "                         .str.replace('(subset)', '', regex=False)\n",
    "                         .apply(lambda s: s.split('.')[0]))"
   ]
  },
  {
   "cell_type": "code",
   "execution_count": 43,
   "metadata": {},
   "outputs": [
    {
     "data": {
      "text/plain": [
       "(364, 272)"
      ]
     },
     "execution_count": 43,
     "metadata": {},
     "output_type": "execute_result"
    }
   ],
   "source": [
    "react_cplx['xref'].nunique(), react_cplx['complex_ac'].nunique()"
   ]
  },
  {
   "cell_type": "code",
   "execution_count": 44,
   "metadata": {},
   "outputs": [
    {
     "data": {
      "text/html": [
       "<div>\n",
       "<style scoped>\n",
       "    .dataframe tbody tr th:only-of-type {\n",
       "        vertical-align: middle;\n",
       "    }\n",
       "\n",
       "    .dataframe tbody tr th {\n",
       "        vertical-align: top;\n",
       "    }\n",
       "\n",
       "    .dataframe thead th {\n",
       "        text-align: right;\n",
       "    }\n",
       "</style>\n",
       "<table border=\"1\" class=\"dataframe\">\n",
       "  <thead>\n",
       "    <tr style=\"text-align: right;\">\n",
       "      <th></th>\n",
       "      <th>complex_ac</th>\n",
       "      <th>recommended_name</th>\n",
       "      <th>xref</th>\n",
       "    </tr>\n",
       "  </thead>\n",
       "  <tbody>\n",
       "    <tr>\n",
       "      <th>99</th>\n",
       "      <td>CPX:CPX-56</td>\n",
       "      <td>GLI1-SUFU complex</td>\n",
       "      <td>REACT:R-HSA-5610605</td>\n",
       "    </tr>\n",
       "    <tr>\n",
       "      <th>100</th>\n",
       "      <td>CPX:CPX-56</td>\n",
       "      <td>GLI1-SUFU complex</td>\n",
       "      <td>REACT:R-HSA-5610531</td>\n",
       "    </tr>\n",
       "  </tbody>\n",
       "</table>\n",
       "</div>"
      ],
      "text/plain": [
       "     complex_ac   recommended_name                 xref\n",
       "99   CPX:CPX-56  GLI1-SUFU complex  REACT:R-HSA-5610605\n",
       "100  CPX:CPX-56  GLI1-SUFU complex  REACT:R-HSA-5610531"
      ]
     },
     "execution_count": 44,
     "metadata": {},
     "output_type": "execute_result"
    }
   ],
   "source": [
    "react_cplx_map = react_cplx.loc[:, ['complex_ac', 'recommended_name', 'xref']]\n",
    "react_cplx_map.head(2)"
   ]
  },
  {
   "cell_type": "markdown",
   "metadata": {},
   "source": [
    "We will add new nodes not mapable to reactome, then later map edge identifiers to Reactome when possible\n",
    "\n",
    "We must also add the CPX xrefs to the reactome nodes in the nw"
   ]
  },
  {
   "cell_type": "code",
   "execution_count": 45,
   "metadata": {},
   "outputs": [],
   "source": [
    "mappable_cplxes = react_cplx_map['complex_ac'].unique()"
   ]
  },
  {
   "cell_type": "code",
   "execution_count": 46,
   "metadata": {},
   "outputs": [],
   "source": [
    "reactome_complex_ids = react_cplx_map['xref'].unique()\n",
    "\n",
    "# Query for reactome complexes that are corss-referencable\n",
    "qr = all_nodes.query('id in @reactome_complex_ids')\n",
    "# need to be able to map back to the correct index later\n",
    "qr_idx_map = qr.reset_index().set_index('id')['index'].to_dict()\n",
    "qr_idx = qr.index\n",
    "\n",
    "# Merge so none are lost.\n",
    "mrg_res = qr.merge(react_cplx_map, how='left', left_on='id', right_on='xref')\n",
    "# Now collapse the one to many relationships on reactome id\n",
    "comb_res = combine_group_cols_on_char(mrg_res, ['id'], ['complex_ac'], sort=True, prog=False)"
   ]
  },
  {
   "cell_type": "code",
   "execution_count": 47,
   "metadata": {},
   "outputs": [
    {
     "data": {
      "text/html": [
       "<div>\n",
       "<style scoped>\n",
       "    .dataframe tbody tr th:only-of-type {\n",
       "        vertical-align: middle;\n",
       "    }\n",
       "\n",
       "    .dataframe tbody tr th {\n",
       "        vertical-align: top;\n",
       "    }\n",
       "\n",
       "    .dataframe thead th {\n",
       "        text-align: right;\n",
       "    }\n",
       "</style>\n",
       "<table border=\"1\" class=\"dataframe\">\n",
       "  <thead>\n",
       "    <tr style=\"text-align: right;\">\n",
       "      <th></th>\n",
       "      <th>id</th>\n",
       "      <th>name</th>\n",
       "      <th>label</th>\n",
       "      <th>xrefs</th>\n",
       "    </tr>\n",
       "  </thead>\n",
       "  <tbody>\n",
       "    <tr>\n",
       "      <th>40124</th>\n",
       "      <td>REACT:R-HSA-109629</td>\n",
       "      <td>TFIIA</td>\n",
       "      <td>Complex</td>\n",
       "      <td>CPX:CPX-519</td>\n",
       "    </tr>\n",
       "    <tr>\n",
       "      <th>40126</th>\n",
       "      <td>REACT:R-HSA-109631</td>\n",
       "      <td>TFIIF</td>\n",
       "      <td>Complex</td>\n",
       "      <td>CPX:CPX-79</td>\n",
       "    </tr>\n",
       "  </tbody>\n",
       "</table>\n",
       "</div>"
      ],
      "text/plain": [
       "                       id   name    label        xrefs\n",
       "40124  REACT:R-HSA-109629  TFIIA  Complex  CPX:CPX-519\n",
       "40126  REACT:R-HSA-109631  TFIIF  Complex   CPX:CPX-79"
      ]
     },
     "execution_count": 47,
     "metadata": {},
     "output_type": "execute_result"
    }
   ],
   "source": [
    "# Map back to the original index\n",
    "comb_res['idx'] = comb_res['id'].map(qr_idx_map)\n",
    "# Set the values\n",
    "all_nodes.loc[comb_res['idx'], 'xrefs'] = comb_res['complex_ac'].tolist()\n",
    "\n",
    "all_nodes.loc[comb_res['idx']].head(2)"
   ]
  },
  {
   "cell_type": "markdown",
   "metadata": {},
   "source": [
    "Now that we've added the X-refs for those nodes that are mappable, lets convert those that are not mappable to new nodes"
   ]
  },
  {
   "cell_type": "code",
   "execution_count": 48,
   "metadata": {},
   "outputs": [
    {
     "data": {
      "text/html": [
       "<div>\n",
       "<style scoped>\n",
       "    .dataframe tbody tr th:only-of-type {\n",
       "        vertical-align: middle;\n",
       "    }\n",
       "\n",
       "    .dataframe tbody tr th {\n",
       "        vertical-align: top;\n",
       "    }\n",
       "\n",
       "    .dataframe thead th {\n",
       "        text-align: right;\n",
       "    }\n",
       "</style>\n",
       "<table border=\"1\" class=\"dataframe\">\n",
       "  <thead>\n",
       "    <tr style=\"text-align: right;\">\n",
       "      <th></th>\n",
       "      <th>id</th>\n",
       "      <th>name</th>\n",
       "      <th>label</th>\n",
       "    </tr>\n",
       "  </thead>\n",
       "  <tbody>\n",
       "    <tr>\n",
       "      <th>0</th>\n",
       "      <td>CPX:CPX-1196</td>\n",
       "      <td>Polybromo-associated SWI/SNF ATP-dependent chr...</td>\n",
       "      <td>Complex</td>\n",
       "    </tr>\n",
       "    <tr>\n",
       "      <th>1</th>\n",
       "      <td>CPX:CPX-1201</td>\n",
       "      <td>Neural progenitor-specific SWI/SNF ATP-depende...</td>\n",
       "      <td>Complex</td>\n",
       "    </tr>\n",
       "    <tr>\n",
       "      <th>2</th>\n",
       "      <td>CPX:CPX-1194</td>\n",
       "      <td>Muscle cell-specific SWI/SNF ATP-dependent chr...</td>\n",
       "      <td>Complex</td>\n",
       "    </tr>\n",
       "    <tr>\n",
       "      <th>3</th>\n",
       "      <td>CPX:CPX-1282</td>\n",
       "      <td>Laminin211-nidogen complex</td>\n",
       "      <td>Complex</td>\n",
       "    </tr>\n",
       "    <tr>\n",
       "      <th>4</th>\n",
       "      <td>CPX:CPX-1285</td>\n",
       "      <td>Laminin221-nidogen complex</td>\n",
       "      <td>Complex</td>\n",
       "    </tr>\n",
       "  </tbody>\n",
       "</table>\n",
       "</div>"
      ],
      "text/plain": [
       "             id                                               name    label\n",
       "0  CPX:CPX-1196  Polybromo-associated SWI/SNF ATP-dependent chr...  Complex\n",
       "1  CPX:CPX-1201  Neural progenitor-specific SWI/SNF ATP-depende...  Complex\n",
       "2  CPX:CPX-1194  Muscle cell-specific SWI/SNF ATP-dependent chr...  Complex\n",
       "3  CPX:CPX-1282                        Laminin211-nidogen complex   Complex\n",
       "4  CPX:CPX-1285                        Laminin221-nidogen complex   Complex"
      ]
     },
     "execution_count": 48,
     "metadata": {},
     "output_type": "execute_result"
    }
   ],
   "source": [
    "cpx_nodes = cplx.rename(columns={'complex_ac': 'id', 'recommended_name': 'name'})\n",
    "cpx_nodes = cpx_nodes.query('id not in @mappable_cplxes')\n",
    "\n",
    "cpx_nodes['label'] = 'Complex'\n",
    "cpx_nodes[['id', 'name', 'label']].head()"
   ]
  },
  {
   "cell_type": "code",
   "execution_count": 49,
   "metadata": {},
   "outputs": [],
   "source": [
    "new_nodes.append(cpx_nodes[['id', 'name', 'label']])"
   ]
  },
  {
   "cell_type": "code",
   "execution_count": 50,
   "metadata": {},
   "outputs": [
    {
     "data": {
      "text/html": [
       "<div>\n",
       "<style scoped>\n",
       "    .dataframe tbody tr th:only-of-type {\n",
       "        vertical-align: middle;\n",
       "    }\n",
       "\n",
       "    .dataframe tbody tr th {\n",
       "        vertical-align: top;\n",
       "    }\n",
       "\n",
       "    .dataframe thead th {\n",
       "        text-align: right;\n",
       "    }\n",
       "</style>\n",
       "<table border=\"1\" class=\"dataframe\">\n",
       "  <thead>\n",
       "    <tr style=\"text-align: right;\">\n",
       "      <th></th>\n",
       "      <th>complex_ac</th>\n",
       "      <th>recommended_name</th>\n",
       "      <th>aliases_for_complex</th>\n",
       "      <th>taxonomy_identifier</th>\n",
       "      <th>identifiers_and_stoichiometry_of_molecules_in_complex</th>\n",
       "      <th>confidence</th>\n",
       "      <th>experimental_evidence</th>\n",
       "      <th>go_annotations</th>\n",
       "      <th>cross_references</th>\n",
       "      <th>description</th>\n",
       "      <th>complex_properties</th>\n",
       "      <th>complex_assembly</th>\n",
       "      <th>ligand</th>\n",
       "      <th>disease</th>\n",
       "      <th>agonist</th>\n",
       "      <th>antagonist</th>\n",
       "      <th>comment</th>\n",
       "      <th>source</th>\n",
       "    </tr>\n",
       "  </thead>\n",
       "  <tbody>\n",
       "    <tr>\n",
       "      <th>0</th>\n",
       "      <td>CPX:CPX-1196</td>\n",
       "      <td>Polybromo-associated SWI/SNF ATP-dependent chr...</td>\n",
       "      <td>Polybromo-associated SWI/SNF ATP-dependent chr...</td>\n",
       "      <td>9606</td>\n",
       "      <td>Q86U86(0)</td>\n",
       "      <td>ECO:0005547(biological system reconstruction e...</td>\n",
       "      <td>-</td>\n",
       "      <td>GO:0016363(nuclear matrix)|GO:2000045(regulati...</td>\n",
       "      <td>pubmed:11790558(see-also)|pubmed:18809673(see-...</td>\n",
       "      <td>An ATP-dependent chromatin remodeling complex ...</td>\n",
       "      <td>MW approximately 2 MDa. May contain 2 instance...</td>\n",
       "      <td>-</td>\n",
       "      <td>-</td>\n",
       "      <td>Coffin-Siris syndrome (CSS) [Orphanet:1465]: a...</td>\n",
       "      <td>-</td>\n",
       "      <td>-</td>\n",
       "      <td>-</td>\n",
       "      <td>psi-mi:\"MI:0469\"(IntAct)</td>\n",
       "    </tr>\n",
       "    <tr>\n",
       "      <th>1</th>\n",
       "      <td>CPX:CPX-1196</td>\n",
       "      <td>Polybromo-associated SWI/SNF ATP-dependent chr...</td>\n",
       "      <td>Polybromo-associated SWI/SNF ATP-dependent chr...</td>\n",
       "      <td>9606</td>\n",
       "      <td>Q68CP9(0)</td>\n",
       "      <td>ECO:0005547(biological system reconstruction e...</td>\n",
       "      <td>-</td>\n",
       "      <td>GO:0016363(nuclear matrix)|GO:2000045(regulati...</td>\n",
       "      <td>pubmed:11790558(see-also)|pubmed:18809673(see-...</td>\n",
       "      <td>An ATP-dependent chromatin remodeling complex ...</td>\n",
       "      <td>MW approximately 2 MDa. May contain 2 instance...</td>\n",
       "      <td>-</td>\n",
       "      <td>-</td>\n",
       "      <td>Coffin-Siris syndrome (CSS) [Orphanet:1465]: a...</td>\n",
       "      <td>-</td>\n",
       "      <td>-</td>\n",
       "      <td>-</td>\n",
       "      <td>psi-mi:\"MI:0469\"(IntAct)</td>\n",
       "    </tr>\n",
       "  </tbody>\n",
       "</table>\n",
       "</div>"
      ],
      "text/plain": [
       "     complex_ac                                   recommended_name  \\\n",
       "0  CPX:CPX-1196  Polybromo-associated SWI/SNF ATP-dependent chr...   \n",
       "1  CPX:CPX-1196  Polybromo-associated SWI/SNF ATP-dependent chr...   \n",
       "\n",
       "                                 aliases_for_complex  taxonomy_identifier  \\\n",
       "0  Polybromo-associated SWI/SNF ATP-dependent chr...                 9606   \n",
       "1  Polybromo-associated SWI/SNF ATP-dependent chr...                 9606   \n",
       "\n",
       "  identifiers_and_stoichiometry_of_molecules_in_complex  \\\n",
       "0                                          Q86U86(0)      \n",
       "1                                          Q68CP9(0)      \n",
       "\n",
       "                                          confidence experimental_evidence  \\\n",
       "0  ECO:0005547(biological system reconstruction e...                     -   \n",
       "1  ECO:0005547(biological system reconstruction e...                     -   \n",
       "\n",
       "                                      go_annotations  \\\n",
       "0  GO:0016363(nuclear matrix)|GO:2000045(regulati...   \n",
       "1  GO:0016363(nuclear matrix)|GO:2000045(regulati...   \n",
       "\n",
       "                                    cross_references  \\\n",
       "0  pubmed:11790558(see-also)|pubmed:18809673(see-...   \n",
       "1  pubmed:11790558(see-also)|pubmed:18809673(see-...   \n",
       "\n",
       "                                         description  \\\n",
       "0  An ATP-dependent chromatin remodeling complex ...   \n",
       "1  An ATP-dependent chromatin remodeling complex ...   \n",
       "\n",
       "                                  complex_properties complex_assembly ligand  \\\n",
       "0  MW approximately 2 MDa. May contain 2 instance...                -      -   \n",
       "1  MW approximately 2 MDa. May contain 2 instance...                -      -   \n",
       "\n",
       "                                             disease agonist antagonist  \\\n",
       "0  Coffin-Siris syndrome (CSS) [Orphanet:1465]: a...       -          -   \n",
       "1  Coffin-Siris syndrome (CSS) [Orphanet:1465]: a...       -          -   \n",
       "\n",
       "  comment                    source  \n",
       "0       -  psi-mi:\"MI:0469\"(IntAct)  \n",
       "1       -  psi-mi:\"MI:0469\"(IntAct)  "
      ]
     },
     "execution_count": 50,
     "metadata": {},
     "output_type": "execute_result"
    }
   ],
   "source": [
    "cpx_exp = expand_col_on_char(cplx, 'identifiers_and_stoichiometry_of_molecules_in_complex', '|')\n",
    "cpx_exp.head(2)"
   ]
  },
  {
   "cell_type": "code",
   "execution_count": 51,
   "metadata": {},
   "outputs": [],
   "source": [
    "cpx_exp['uniprot_id'] = cpx_exp['identifiers_and_stoichiometry_of_molecules_in_complex'].str.split('(', expand=True)[0]"
   ]
  },
  {
   "cell_type": "code",
   "execution_count": 52,
   "metadata": {},
   "outputs": [
    {
     "data": {
      "text/html": [
       "<div>\n",
       "<style scoped>\n",
       "    .dataframe tbody tr th:only-of-type {\n",
       "        vertical-align: middle;\n",
       "    }\n",
       "\n",
       "    .dataframe tbody tr th {\n",
       "        vertical-align: top;\n",
       "    }\n",
       "\n",
       "    .dataframe thead th {\n",
       "        text-align: right;\n",
       "    }\n",
       "</style>\n",
       "<table border=\"1\" class=\"dataframe\">\n",
       "  <thead>\n",
       "    <tr style=\"text-align: right;\">\n",
       "      <th></th>\n",
       "      <th>id</th>\n",
       "      <th>xrefs</th>\n",
       "    </tr>\n",
       "  </thead>\n",
       "  <tbody>\n",
       "    <tr>\n",
       "      <th>525048</th>\n",
       "      <td>NCBIGene:1</td>\n",
       "      <td>UniProt:P04217</td>\n",
       "    </tr>\n",
       "    <tr>\n",
       "      <th>525056</th>\n",
       "      <td>NCBIGene:10</td>\n",
       "      <td>UniProt:P11245</td>\n",
       "    </tr>\n",
       "  </tbody>\n",
       "</table>\n",
       "</div>"
      ],
      "text/plain": [
       "                 id           xrefs\n",
       "525048   NCBIGene:1  UniProt:P04217\n",
       "525056  NCBIGene:10  UniProt:P11245"
      ]
     },
     "execution_count": 52,
     "metadata": {},
     "output_type": "execute_result"
    }
   ],
   "source": [
    "gene_to_uniprot = get_curi_xrefs(all_nodes, 'UniProt')\n",
    "gene_to_uniprot.head(2)"
   ]
  },
  {
   "cell_type": "code",
   "execution_count": 53,
   "metadata": {},
   "outputs": [],
   "source": [
    "gene_to_uniprot['xrefs'] = gene_to_uniprot['xrefs'].apply(lambda s: s.split(':')[-1])"
   ]
  },
  {
   "cell_type": "code",
   "execution_count": 54,
   "metadata": {},
   "outputs": [],
   "source": [
    "edges_cpx_gene = cpx_exp[['complex_ac', 'uniprot_id']].rename(columns={'complex_ac': 'end_id'})\n",
    "\n",
    "edges_cpx_gene = (edges_cpx_gene.merge(gene_to_uniprot, left_on='uniprot_id', right_on='xrefs', how='left')\n",
    "                                .drop(['xrefs', 'uniprot_id'], axis=1).rename(columns={'id': 'start_id'}))"
   ]
  },
  {
   "cell_type": "code",
   "execution_count": 55,
   "metadata": {},
   "outputs": [
    {
     "data": {
      "text/plain": [
       "5496"
      ]
     },
     "execution_count": 55,
     "metadata": {},
     "output_type": "execute_result"
    }
   ],
   "source": [
    "# Map the complexes that we can to Reactome\n",
    "edges_cpx_gene = edges_cpx_gene.merge(react_cplx_map, how='left', left_on='end_id', right_on='complex_ac')\n",
    "edges_cpx_gene['end_id'] = edges_cpx_gene['xref'].fillna(edges_cpx_gene['end_id'])\n",
    "len(edges_cpx_gene)"
   ]
  },
  {
   "cell_type": "code",
   "execution_count": 56,
   "metadata": {},
   "outputs": [
    {
     "data": {
      "text/html": [
       "<div>\n",
       "<style scoped>\n",
       "    .dataframe tbody tr th:only-of-type {\n",
       "        vertical-align: middle;\n",
       "    }\n",
       "\n",
       "    .dataframe tbody tr th {\n",
       "        vertical-align: top;\n",
       "    }\n",
       "\n",
       "    .dataframe thead th {\n",
       "        text-align: right;\n",
       "    }\n",
       "</style>\n",
       "<table border=\"1\" class=\"dataframe\">\n",
       "  <thead>\n",
       "    <tr style=\"text-align: right;\">\n",
       "      <th></th>\n",
       "      <th>start_id</th>\n",
       "      <th>end_id</th>\n",
       "      <th>type</th>\n",
       "    </tr>\n",
       "  </thead>\n",
       "  <tbody>\n",
       "    <tr>\n",
       "      <th>0</th>\n",
       "      <td>NCBIGene:55193</td>\n",
       "      <td>CPX:CPX-1196</td>\n",
       "      <td>part_of</td>\n",
       "    </tr>\n",
       "    <tr>\n",
       "      <th>1</th>\n",
       "      <td>UniProt:Q86U86</td>\n",
       "      <td>CPX:CPX-1196</td>\n",
       "      <td>part_of</td>\n",
       "    </tr>\n",
       "    <tr>\n",
       "      <th>2</th>\n",
       "      <td>NCBIGene:196528</td>\n",
       "      <td>CPX:CPX-1196</td>\n",
       "      <td>part_of</td>\n",
       "    </tr>\n",
       "    <tr>\n",
       "      <th>3</th>\n",
       "      <td>UniProt:Q68CP9</td>\n",
       "      <td>CPX:CPX-1196</td>\n",
       "      <td>part_of</td>\n",
       "    </tr>\n",
       "    <tr>\n",
       "      <th>4</th>\n",
       "      <td>NCBIGene:55274</td>\n",
       "      <td>CPX:CPX-1196</td>\n",
       "      <td>part_of</td>\n",
       "    </tr>\n",
       "  </tbody>\n",
       "</table>\n",
       "</div>"
      ],
      "text/plain": [
       "          start_id        end_id     type\n",
       "0   NCBIGene:55193  CPX:CPX-1196  part_of\n",
       "1   UniProt:Q86U86  CPX:CPX-1196  part_of\n",
       "2  NCBIGene:196528  CPX:CPX-1196  part_of\n",
       "3   UniProt:Q68CP9  CPX:CPX-1196  part_of\n",
       "4   NCBIGene:55274  CPX:CPX-1196  part_of"
      ]
     },
     "execution_count": 56,
     "metadata": {},
     "output_type": "execute_result"
    }
   ],
   "source": [
    "edges_cpx_gene['type'] = 'part_of'\n",
    "edges_cpx_gene[['start_id', 'end_id', 'type']].head()"
   ]
  },
  {
   "cell_type": "code",
   "execution_count": 57,
   "metadata": {},
   "outputs": [],
   "source": [
    "edges_cpx_gene['source'] = 'ComplexPortal'\n",
    "edges_cpx_gene['license'] = 'CC-BY 4.0'\n",
    "\n",
    "edges_cpx_gene['dsrc_type'] = 'curated'"
   ]
  },
  {
   "cell_type": "code",
   "execution_count": 58,
   "metadata": {},
   "outputs": [],
   "source": [
    "new_edges.append(edges_cpx_gene[['start_id', 'end_id', 'type', 'source', 'dsrc_type']].dropna())"
   ]
  },
  {
   "cell_type": "markdown",
   "metadata": {},
   "source": [
    "### RNA to GO"
   ]
  },
  {
   "cell_type": "code",
   "execution_count": 59,
   "metadata": {},
   "outputs": [
    {
     "data": {
      "text/html": [
       "<div>\n",
       "<style scoped>\n",
       "    .dataframe tbody tr th:only-of-type {\n",
       "        vertical-align: middle;\n",
       "    }\n",
       "\n",
       "    .dataframe tbody tr th {\n",
       "        vertical-align: top;\n",
       "    }\n",
       "\n",
       "    .dataframe thead th {\n",
       "        text-align: right;\n",
       "    }\n",
       "</style>\n",
       "<table border=\"1\" class=\"dataframe\">\n",
       "  <thead>\n",
       "    <tr style=\"text-align: right;\">\n",
       "      <th></th>\n",
       "      <th>db</th>\n",
       "      <th>db_object_id</th>\n",
       "      <th>db_object_symbol</th>\n",
       "      <th>qualifier</th>\n",
       "      <th>go_id</th>\n",
       "      <th>db_reference</th>\n",
       "      <th>evidence_code</th>\n",
       "      <th>with_or_from</th>\n",
       "      <th>aspect</th>\n",
       "      <th>db_object_name</th>\n",
       "      <th>db_object_synonym</th>\n",
       "      <th>db_object_type</th>\n",
       "      <th>taxon</th>\n",
       "      <th>date</th>\n",
       "      <th>assigned_by</th>\n",
       "      <th>annotation_extension</th>\n",
       "      <th>gene_product_form_id</th>\n",
       "    </tr>\n",
       "  </thead>\n",
       "  <tbody>\n",
       "    <tr>\n",
       "      <th>0</th>\n",
       "      <td>RNAcentral</td>\n",
       "      <td>URS0000001346_9606</td>\n",
       "      <td>URS0000001346_9606</td>\n",
       "      <td>NaN</td>\n",
       "      <td>GO:0006412</td>\n",
       "      <td>GO_REF:0000108</td>\n",
       "      <td>IEA</td>\n",
       "      <td>GO:0030533</td>\n",
       "      <td>P</td>\n",
       "      <td>Homo sapiens (human) tRNA-Lys</td>\n",
       "      <td>NaN</td>\n",
       "      <td>tRNA</td>\n",
       "      <td>taxon:9606</td>\n",
       "      <td>20190504</td>\n",
       "      <td>GOC</td>\n",
       "      <td>NaN</td>\n",
       "      <td>NaN</td>\n",
       "    </tr>\n",
       "    <tr>\n",
       "      <th>1</th>\n",
       "      <td>RNAcentral</td>\n",
       "      <td>URS0000001346_9606</td>\n",
       "      <td>URS0000001346_9606</td>\n",
       "      <td>NaN</td>\n",
       "      <td>GO:0030533</td>\n",
       "      <td>GO_REF:0000115</td>\n",
       "      <td>IEA</td>\n",
       "      <td>Rfam:RF00005</td>\n",
       "      <td>F</td>\n",
       "      <td>Homo sapiens (human) tRNA-Lys</td>\n",
       "      <td>NaN</td>\n",
       "      <td>tRNA</td>\n",
       "      <td>taxon:9606</td>\n",
       "      <td>20190504</td>\n",
       "      <td>RNAcentral</td>\n",
       "      <td>NaN</td>\n",
       "      <td>NaN</td>\n",
       "    </tr>\n",
       "  </tbody>\n",
       "</table>\n",
       "</div>"
      ],
      "text/plain": [
       "           db        db_object_id    db_object_symbol qualifier       go_id  \\\n",
       "0  RNAcentral  URS0000001346_9606  URS0000001346_9606       NaN  GO:0006412   \n",
       "1  RNAcentral  URS0000001346_9606  URS0000001346_9606       NaN  GO:0030533   \n",
       "\n",
       "     db_reference evidence_code  with_or_from aspect  \\\n",
       "0  GO_REF:0000108           IEA    GO:0030533      P   \n",
       "1  GO_REF:0000115           IEA  Rfam:RF00005      F   \n",
       "\n",
       "                  db_object_name db_object_synonym db_object_type       taxon  \\\n",
       "0  Homo sapiens (human) tRNA-Lys               NaN           tRNA  taxon:9606   \n",
       "1  Homo sapiens (human) tRNA-Lys               NaN           tRNA  taxon:9606   \n",
       "\n",
       "       date assigned_by annotation_extension gene_product_form_id  \n",
       "0  20190504         GOC                  NaN                  NaN  \n",
       "1  20190504  RNAcentral                  NaN                  NaN  "
      ]
     },
     "execution_count": 59,
     "metadata": {},
     "output_type": "execute_result"
    }
   ],
   "source": [
    "go_rna.head(2)"
   ]
  },
  {
   "cell_type": "markdown",
   "metadata": {},
   "source": [
    "With Reactome, we had Micro RNA in MIRbase identifiers... These are RNA central IDs, so we have to reconcile that.\n",
    "\n",
    "However, there are small number of MIRbase ids, so we may stick with the RNACenral identifier"
   ]
  },
  {
   "cell_type": "code",
   "execution_count": 60,
   "metadata": {},
   "outputs": [
    {
     "data": {
      "text/plain": [
       "47"
      ]
     },
     "execution_count": 60,
     "metadata": {},
     "output_type": "execute_result"
    }
   ],
   "source": [
    "all_nodes.query('label == \"Micro RNA\"').shape[0]"
   ]
  },
  {
   "cell_type": "code",
   "execution_count": 61,
   "metadata": {},
   "outputs": [
    {
     "data": {
      "text/plain": [
       "87467"
      ]
     },
     "execution_count": 61,
     "metadata": {},
     "output_type": "execute_result"
    }
   ],
   "source": [
    "mirbase = pd.read_csv(load_dir.joinpath('mirbase.tsv'), sep='\\t', header=None, dtype=str,\n",
    "            names=['int_id', 'db_name', 'ext_id', 'tax_id', 'mir'], usecols=list(range(5)))\n",
    "len(mirbase)"
   ]
  },
  {
   "cell_type": "code",
   "execution_count": 62,
   "metadata": {},
   "outputs": [
    {
     "data": {
      "text/html": [
       "<div>\n",
       "<style scoped>\n",
       "    .dataframe tbody tr th:only-of-type {\n",
       "        vertical-align: middle;\n",
       "    }\n",
       "\n",
       "    .dataframe tbody tr th {\n",
       "        vertical-align: top;\n",
       "    }\n",
       "\n",
       "    .dataframe thead th {\n",
       "        text-align: right;\n",
       "    }\n",
       "</style>\n",
       "<table border=\"1\" class=\"dataframe\">\n",
       "  <thead>\n",
       "    <tr style=\"text-align: right;\">\n",
       "      <th></th>\n",
       "      <th>int_id</th>\n",
       "      <th>db_name</th>\n",
       "      <th>ext_id</th>\n",
       "      <th>tax_id</th>\n",
       "      <th>mir</th>\n",
       "    </tr>\n",
       "  </thead>\n",
       "  <tbody>\n",
       "    <tr>\n",
       "      <th>0</th>\n",
       "      <td>URS00000036DB</td>\n",
       "      <td>MIRBASE</td>\n",
       "      <td>MIMAT0048904</td>\n",
       "      <td>2711</td>\n",
       "      <td>miRNA</td>\n",
       "    </tr>\n",
       "    <tr>\n",
       "      <th>1</th>\n",
       "      <td>URS00000036DB</td>\n",
       "      <td>MIRBASE</td>\n",
       "      <td>MIMAT0048896</td>\n",
       "      <td>2711</td>\n",
       "      <td>miRNA</td>\n",
       "    </tr>\n",
       "  </tbody>\n",
       "</table>\n",
       "</div>"
      ],
      "text/plain": [
       "          int_id  db_name        ext_id tax_id    mir\n",
       "0  URS00000036DB  MIRBASE  MIMAT0048904   2711  miRNA\n",
       "1  URS00000036DB  MIRBASE  MIMAT0048896   2711  miRNA"
      ]
     },
     "execution_count": 62,
     "metadata": {},
     "output_type": "execute_result"
    }
   ],
   "source": [
    "mirbase.head(2)"
   ]
  },
  {
   "cell_type": "code",
   "execution_count": 63,
   "metadata": {},
   "outputs": [
    {
     "data": {
      "text/html": [
       "<div>\n",
       "<style scoped>\n",
       "    .dataframe tbody tr th:only-of-type {\n",
       "        vertical-align: middle;\n",
       "    }\n",
       "\n",
       "    .dataframe tbody tr th {\n",
       "        vertical-align: top;\n",
       "    }\n",
       "\n",
       "    .dataframe thead th {\n",
       "        text-align: right;\n",
       "    }\n",
       "</style>\n",
       "<table border=\"1\" class=\"dataframe\">\n",
       "  <thead>\n",
       "    <tr style=\"text-align: right;\">\n",
       "      <th></th>\n",
       "      <th>int_id</th>\n",
       "      <th>db_name</th>\n",
       "      <th>ext_id</th>\n",
       "      <th>tax_id</th>\n",
       "      <th>mir</th>\n",
       "      <th>full_id</th>\n",
       "    </tr>\n",
       "  </thead>\n",
       "  <tbody>\n",
       "    <tr>\n",
       "      <th>50027</th>\n",
       "      <td>URS00000011DF</td>\n",
       "      <td>MIRBASE</td>\n",
       "      <td>MI:MIMAT0022711</td>\n",
       "      <td>9606</td>\n",
       "      <td>miRNA</td>\n",
       "      <td>URS00000011DF_9606</td>\n",
       "    </tr>\n",
       "    <tr>\n",
       "      <th>50028</th>\n",
       "      <td>URS0000001A7A</td>\n",
       "      <td>MIRBASE</td>\n",
       "      <td>MI:MI0003639</td>\n",
       "      <td>9606</td>\n",
       "      <td>precursor_RNA</td>\n",
       "      <td>URS0000001A7A_9606</td>\n",
       "    </tr>\n",
       "  </tbody>\n",
       "</table>\n",
       "</div>"
      ],
      "text/plain": [
       "              int_id  db_name           ext_id tax_id            mir  \\\n",
       "50027  URS00000011DF  MIRBASE  MI:MIMAT0022711   9606          miRNA   \n",
       "50028  URS0000001A7A  MIRBASE     MI:MI0003639   9606  precursor_RNA   \n",
       "\n",
       "                  full_id  \n",
       "50027  URS00000011DF_9606  \n",
       "50028  URS0000001A7A_9606  "
      ]
     },
     "execution_count": 63,
     "metadata": {},
     "output_type": "execute_result"
    }
   ],
   "source": [
    "mirbase['full_id'] = mirbase['int_id'] + '_' + mirbase['tax_id']\n",
    "mirbase['ext_id'] = 'MI:' + mirbase['ext_id']\n",
    "\n",
    "mirbase.query('tax_id == \"9606\"').head(2)"
   ]
  },
  {
   "cell_type": "code",
   "execution_count": 64,
   "metadata": {},
   "outputs": [],
   "source": [
    "mirb_ids = mirbase['ext_id'].unique()\n",
    "\n",
    "# Query for reactome complexes that are corss-referencable\n",
    "qr = all_nodes.query('id in @mirb_ids')\n",
    "# need to be able to map back to the correct index later\n",
    "qr_idx_map = qr.reset_index().set_index('id')['index'].to_dict()\n",
    "qr_idx = qr.index"
   ]
  },
  {
   "cell_type": "code",
   "execution_count": 65,
   "metadata": {},
   "outputs": [],
   "source": [
    "# Merge so none are lost.\n",
    "mrg_res = qr.merge(mirbase, how='left', left_on='id', right_on='ext_id')\n",
    "# Now collapse the one to many relationships on reactome id\n",
    "comb_res = combine_group_cols_on_char(mrg_res, ['full_id'], ['id'], sort=True, prog=False)"
   ]
  },
  {
   "cell_type": "code",
   "execution_count": 66,
   "metadata": {},
   "outputs": [],
   "source": [
    "comb_res['idx'] = comb_res['id'].map(qr_idx_map)"
   ]
  },
  {
   "cell_type": "code",
   "execution_count": 67,
   "metadata": {},
   "outputs": [],
   "source": [
    "comb_res['full_xref'] = comb_res['id']+'|'+comb_res['xrefs']\n",
    "comb_res['full_id'] = 'RNAC:'+comb_res['full_id']"
   ]
  },
  {
   "cell_type": "code",
   "execution_count": 68,
   "metadata": {},
   "outputs": [
    {
     "data": {
      "text/plain": [
       "full_id    47\n",
       "id         47\n",
       "dtype: int64"
      ]
     },
     "execution_count": 68,
     "metadata": {},
     "output_type": "execute_result"
    }
   ],
   "source": [
    "comb_res[['full_id', 'id']].nunique() # 1-to-1 mapping"
   ]
  },
  {
   "cell_type": "markdown",
   "metadata": {},
   "source": [
    "1-1 mapping means we can use a dict for quick and easy conversion of all the edges"
   ]
  },
  {
   "cell_type": "code",
   "execution_count": 69,
   "metadata": {},
   "outputs": [],
   "source": [
    "mapped_rnas = comb_res['full_id'].unique()"
   ]
  },
  {
   "cell_type": "code",
   "execution_count": 70,
   "metadata": {},
   "outputs": [],
   "source": [
    "all_nodes.loc[comb_res['idx'].tolist(), 'xrefs'] = comb_res['full_xref'].tolist()\n",
    "all_nodes.loc[comb_res['idx'].tolist(), 'id'] = comb_res['full_id'].tolist()"
   ]
  },
  {
   "cell_type": "code",
   "execution_count": 71,
   "metadata": {},
   "outputs": [],
   "source": [
    "# Map existing Edges\n",
    "mirna_id_map = comb_res.set_index('id')['full_id'].to_dict()\n",
    "\n",
    "edges['start_id'] = edges['start_id'].map(mirna_id_map).fillna(edges['start_id'])\n",
    "edges['end_id'] = edges['end_id'].map(mirna_id_map).fillna(edges['end_id'])"
   ]
  },
  {
   "cell_type": "code",
   "execution_count": 72,
   "metadata": {
    "scrolled": true
   },
   "outputs": [
    {
     "data": {
      "text/html": [
       "<div>\n",
       "<style scoped>\n",
       "    .dataframe tbody tr th:only-of-type {\n",
       "        vertical-align: middle;\n",
       "    }\n",
       "\n",
       "    .dataframe tbody tr th {\n",
       "        vertical-align: top;\n",
       "    }\n",
       "\n",
       "    .dataframe thead th {\n",
       "        text-align: right;\n",
       "    }\n",
       "</style>\n",
       "<table border=\"1\" class=\"dataframe\">\n",
       "  <thead>\n",
       "    <tr style=\"text-align: right;\">\n",
       "      <th></th>\n",
       "      <th>start_id</th>\n",
       "      <th>end_id</th>\n",
       "      <th>type</th>\n",
       "      <th>db</th>\n",
       "      <th>db_object_symbol</th>\n",
       "      <th>qualifier</th>\n",
       "      <th>db_reference</th>\n",
       "      <th>evidence_code</th>\n",
       "      <th>with_or_from</th>\n",
       "      <th>aspect</th>\n",
       "      <th>db_object_name</th>\n",
       "      <th>db_object_synonym</th>\n",
       "      <th>db_object_type</th>\n",
       "      <th>taxon</th>\n",
       "      <th>date</th>\n",
       "      <th>assigned_by</th>\n",
       "      <th>annotation_extension</th>\n",
       "      <th>gene_product_form_id</th>\n",
       "    </tr>\n",
       "  </thead>\n",
       "  <tbody>\n",
       "    <tr>\n",
       "      <th>0</th>\n",
       "      <td>URS0000001346_9606</td>\n",
       "      <td>GO:0006412</td>\n",
       "      <td>involved_in</td>\n",
       "      <td>RNAcentral</td>\n",
       "      <td>URS0000001346_9606</td>\n",
       "      <td>NaN</td>\n",
       "      <td>GO_REF:0000108</td>\n",
       "      <td>IEA</td>\n",
       "      <td>GO:0030533</td>\n",
       "      <td>P</td>\n",
       "      <td>Homo sapiens (human) tRNA-Lys</td>\n",
       "      <td>NaN</td>\n",
       "      <td>tRNA</td>\n",
       "      <td>taxon:9606</td>\n",
       "      <td>20190504</td>\n",
       "      <td>GOC</td>\n",
       "      <td>NaN</td>\n",
       "      <td>NaN</td>\n",
       "    </tr>\n",
       "    <tr>\n",
       "      <th>1</th>\n",
       "      <td>URS0000001346_9606</td>\n",
       "      <td>GO:0030533</td>\n",
       "      <td>enables</td>\n",
       "      <td>RNAcentral</td>\n",
       "      <td>URS0000001346_9606</td>\n",
       "      <td>NaN</td>\n",
       "      <td>GO_REF:0000115</td>\n",
       "      <td>IEA</td>\n",
       "      <td>Rfam:RF00005</td>\n",
       "      <td>F</td>\n",
       "      <td>Homo sapiens (human) tRNA-Lys</td>\n",
       "      <td>NaN</td>\n",
       "      <td>tRNA</td>\n",
       "      <td>taxon:9606</td>\n",
       "      <td>20190504</td>\n",
       "      <td>RNAcentral</td>\n",
       "      <td>NaN</td>\n",
       "      <td>NaN</td>\n",
       "    </tr>\n",
       "    <tr>\n",
       "      <th>2</th>\n",
       "      <td>URS000000192A_9606</td>\n",
       "      <td>GO:0035068</td>\n",
       "      <td>part_of</td>\n",
       "      <td>RNAcentral</td>\n",
       "      <td>URS000000192A_9606</td>\n",
       "      <td>NaN</td>\n",
       "      <td>GO_REF:0000115</td>\n",
       "      <td>IEA</td>\n",
       "      <td>Rfam:RF00951</td>\n",
       "      <td>C</td>\n",
       "      <td>Homo sapiens (human) MIR1302-2 host gene (MIR1...</td>\n",
       "      <td>NaN</td>\n",
       "      <td>lnc_RNA</td>\n",
       "      <td>taxon:9606</td>\n",
       "      <td>20190504</td>\n",
       "      <td>RNAcentral</td>\n",
       "      <td>NaN</td>\n",
       "      <td>NaN</td>\n",
       "    </tr>\n",
       "    <tr>\n",
       "      <th>3</th>\n",
       "      <td>URS000000192A_9606</td>\n",
       "      <td>GO:0035195</td>\n",
       "      <td>involved_in</td>\n",
       "      <td>RNAcentral</td>\n",
       "      <td>URS000000192A_9606</td>\n",
       "      <td>NaN</td>\n",
       "      <td>GO_REF:0000115</td>\n",
       "      <td>IEA</td>\n",
       "      <td>Rfam:RF00951</td>\n",
       "      <td>P</td>\n",
       "      <td>Homo sapiens (human) MIR1302-2 host gene (MIR1...</td>\n",
       "      <td>NaN</td>\n",
       "      <td>lnc_RNA</td>\n",
       "      <td>taxon:9606</td>\n",
       "      <td>20190504</td>\n",
       "      <td>RNAcentral</td>\n",
       "      <td>NaN</td>\n",
       "      <td>NaN</td>\n",
       "    </tr>\n",
       "    <tr>\n",
       "      <th>4</th>\n",
       "      <td>URS00000019BC_9606</td>\n",
       "      <td>GO:0000244</td>\n",
       "      <td>involved_in</td>\n",
       "      <td>RNAcentral</td>\n",
       "      <td>URS00000019BC_9606</td>\n",
       "      <td>NaN</td>\n",
       "      <td>GO_REF:0000115</td>\n",
       "      <td>IEA</td>\n",
       "      <td>Rfam:RF00026</td>\n",
       "      <td>P</td>\n",
       "      <td>Homo sapiens (human) snRNA-U6-related</td>\n",
       "      <td>NaN</td>\n",
       "      <td>snRNA</td>\n",
       "      <td>taxon:9606</td>\n",
       "      <td>20190504</td>\n",
       "      <td>RNAcentral</td>\n",
       "      <td>NaN</td>\n",
       "      <td>NaN</td>\n",
       "    </tr>\n",
       "  </tbody>\n",
       "</table>\n",
       "</div>"
      ],
      "text/plain": [
       "             start_id      end_id         type          db  \\\n",
       "0  URS0000001346_9606  GO:0006412  involved_in  RNAcentral   \n",
       "1  URS0000001346_9606  GO:0030533      enables  RNAcentral   \n",
       "2  URS000000192A_9606  GO:0035068      part_of  RNAcentral   \n",
       "3  URS000000192A_9606  GO:0035195  involved_in  RNAcentral   \n",
       "4  URS00000019BC_9606  GO:0000244  involved_in  RNAcentral   \n",
       "\n",
       "     db_object_symbol qualifier    db_reference evidence_code  with_or_from  \\\n",
       "0  URS0000001346_9606       NaN  GO_REF:0000108           IEA    GO:0030533   \n",
       "1  URS0000001346_9606       NaN  GO_REF:0000115           IEA  Rfam:RF00005   \n",
       "2  URS000000192A_9606       NaN  GO_REF:0000115           IEA  Rfam:RF00951   \n",
       "3  URS000000192A_9606       NaN  GO_REF:0000115           IEA  Rfam:RF00951   \n",
       "4  URS00000019BC_9606       NaN  GO_REF:0000115           IEA  Rfam:RF00026   \n",
       "\n",
       "  aspect                                     db_object_name db_object_synonym  \\\n",
       "0      P                      Homo sapiens (human) tRNA-Lys               NaN   \n",
       "1      F                      Homo sapiens (human) tRNA-Lys               NaN   \n",
       "2      C  Homo sapiens (human) MIR1302-2 host gene (MIR1...               NaN   \n",
       "3      P  Homo sapiens (human) MIR1302-2 host gene (MIR1...               NaN   \n",
       "4      P              Homo sapiens (human) snRNA-U6-related               NaN   \n",
       "\n",
       "  db_object_type       taxon      date assigned_by annotation_extension  \\\n",
       "0           tRNA  taxon:9606  20190504         GOC                  NaN   \n",
       "1           tRNA  taxon:9606  20190504  RNAcentral                  NaN   \n",
       "2        lnc_RNA  taxon:9606  20190504  RNAcentral                  NaN   \n",
       "3        lnc_RNA  taxon:9606  20190504  RNAcentral                  NaN   \n",
       "4          snRNA  taxon:9606  20190504  RNAcentral                  NaN   \n",
       "\n",
       "  gene_product_form_id  \n",
       "0                  NaN  \n",
       "1                  NaN  \n",
       "2                  NaN  \n",
       "3                  NaN  \n",
       "4                  NaN  "
      ]
     },
     "execution_count": 72,
     "metadata": {},
     "output_type": "execute_result"
    }
   ],
   "source": [
    "type_conversion = {k: v.replace('X', 'N') for k, v in type_conversion.items()}\n",
    "edges_go_rna = go_rna.rename(columns={'db_object_id': 'start_id', 'go_id': 'end_id'})\n",
    "edges_go_rna['type'] = edges_go_rna['aspect'].map(type_conversion)\n",
    "edges_go_rna = edges_go_rna[fix_col_order_edge(edges_go_rna)]\n",
    "edges_go_rna.head()"
   ]
  },
  {
   "cell_type": "code",
   "execution_count": 73,
   "metadata": {},
   "outputs": [],
   "source": [
    "edges_go_rna = edges_go_rna[~edges_go_rna['qualifier'].str.contains('NOT').fillna(False)]"
   ]
  },
  {
   "cell_type": "code",
   "execution_count": 74,
   "metadata": {},
   "outputs": [],
   "source": [
    "edges_go_rna['start_id'] = 'RNAC:' + edges_go_rna['start_id']"
   ]
  },
  {
   "cell_type": "code",
   "execution_count": 75,
   "metadata": {},
   "outputs": [],
   "source": [
    "edges_go_rna['source'] = 'Gene Ontology'\n",
    "edges_go_rna['license'] = 'CC-BY 4.0'\n",
    "\n",
    "edges_go_rna['dsrc_type'] = edges_go_rna['evidence_code'].apply(determine_evidence)\n",
    "\n",
    "comp_idx = edges_go_rna.query('dsrc_type == \"computed\"').index\n",
    "edges_go_rna.loc[comp_idx, 'comp_type'] = edges_go_rna.loc[comp_idx, 'evidence_code']"
   ]
  },
  {
   "cell_type": "code",
   "execution_count": 76,
   "metadata": {},
   "outputs": [],
   "source": [
    "new_edges.append(edges_go_rna)"
   ]
  },
  {
   "cell_type": "markdown",
   "metadata": {},
   "source": [
    "#### Need some more info to add RNA as node type, specifically names\n",
    "\n",
    "Some other DBs with interesting MicroRNA related edges use the name as an identifier rather than an RNA Central ID"
   ]
  },
  {
   "cell_type": "code",
   "execution_count": 77,
   "metadata": {},
   "outputs": [
    {
     "data": {
      "text/html": [
       "<div>\n",
       "<style scoped>\n",
       "    .dataframe tbody tr th:only-of-type {\n",
       "        vertical-align: middle;\n",
       "    }\n",
       "\n",
       "    .dataframe tbody tr th {\n",
       "        vertical-align: top;\n",
       "    }\n",
       "\n",
       "    .dataframe thead th {\n",
       "        text-align: right;\n",
       "    }\n",
       "</style>\n",
       "<table border=\"1\" class=\"dataframe\">\n",
       "  <thead>\n",
       "    <tr style=\"text-align: right;\">\n",
       "      <th></th>\n",
       "      <th>db</th>\n",
       "      <th>db_object_id</th>\n",
       "      <th>db_object_symbol</th>\n",
       "      <th>db_object_name</th>\n",
       "      <th>db_object_synonyms</th>\n",
       "      <th>db_object_type</th>\n",
       "      <th>taxon</th>\n",
       "      <th>parent_object_id</th>\n",
       "      <th>db_xrefs</th>\n",
       "      <th>properties</th>\n",
       "    </tr>\n",
       "  </thead>\n",
       "  <tbody>\n",
       "    <tr>\n",
       "      <th>0</th>\n",
       "      <td>RNAcentral</td>\n",
       "      <td>URS00006753F8_4081</td>\n",
       "      <td>NaN</td>\n",
       "      <td>Solanum lycopersicum (tomato) tRNA-Tyr for ant...</td>\n",
       "      <td>NaN</td>\n",
       "      <td>tRNA</td>\n",
       "      <td>taxon:4081</td>\n",
       "      <td>NaN</td>\n",
       "      <td>NaN</td>\n",
       "      <td>NaN</td>\n",
       "    </tr>\n",
       "    <tr>\n",
       "      <th>1</th>\n",
       "      <td>RNAcentral</td>\n",
       "      <td>URS0000675402_7159</td>\n",
       "      <td>NaN</td>\n",
       "      <td>Aedes aegypti tRNA</td>\n",
       "      <td>NaN</td>\n",
       "      <td>tRNA</td>\n",
       "      <td>taxon:7159</td>\n",
       "      <td>NaN</td>\n",
       "      <td>NaN</td>\n",
       "      <td>NaN</td>\n",
       "    </tr>\n",
       "    <tr>\n",
       "      <th>2</th>\n",
       "      <td>RNAcentral</td>\n",
       "      <td>URS0000675413_6945</td>\n",
       "      <td>NaN</td>\n",
       "      <td>Ixodes scapularis tRNA</td>\n",
       "      <td>NaN</td>\n",
       "      <td>tRNA</td>\n",
       "      <td>taxon:6945</td>\n",
       "      <td>NaN</td>\n",
       "      <td>NaN</td>\n",
       "      <td>NaN</td>\n",
       "    </tr>\n",
       "    <tr>\n",
       "      <th>3</th>\n",
       "      <td>RNAcentral</td>\n",
       "      <td>URS0000675414_59463</td>\n",
       "      <td>NaN</td>\n",
       "      <td>Myotis lucifugus (little brown bat) snRNA U6 s...</td>\n",
       "      <td>NaN</td>\n",
       "      <td>snRNA</td>\n",
       "      <td>taxon:59463</td>\n",
       "      <td>NaN</td>\n",
       "      <td>NaN</td>\n",
       "      <td>NaN</td>\n",
       "    </tr>\n",
       "    <tr>\n",
       "      <th>4</th>\n",
       "      <td>RNAcentral</td>\n",
       "      <td>URS000067541A_60711</td>\n",
       "      <td>NaN</td>\n",
       "      <td>Chlorocebus sabaeus Small nucleolar RNA U13</td>\n",
       "      <td>NaN</td>\n",
       "      <td>snoRNA</td>\n",
       "      <td>taxon:60711</td>\n",
       "      <td>NaN</td>\n",
       "      <td>NaN</td>\n",
       "      <td>NaN</td>\n",
       "    </tr>\n",
       "    <tr>\n",
       "      <th>5</th>\n",
       "      <td>RNAcentral</td>\n",
       "      <td>URS000067541A_9544</td>\n",
       "      <td>NaN</td>\n",
       "      <td>Macaca mulatta Small nucleolar RNA U13</td>\n",
       "      <td>NaN</td>\n",
       "      <td>snoRNA</td>\n",
       "      <td>taxon:9544</td>\n",
       "      <td>NaN</td>\n",
       "      <td>NaN</td>\n",
       "      <td>NaN</td>\n",
       "    </tr>\n",
       "    <tr>\n",
       "      <th>6</th>\n",
       "      <td>RNAcentral</td>\n",
       "      <td>URS000067541C_4558</td>\n",
       "      <td>NaN</td>\n",
       "      <td>Sorghum bicolor Plant small nucleolar RNA R71</td>\n",
       "      <td>NaN</td>\n",
       "      <td>snoRNA</td>\n",
       "      <td>taxon:4558</td>\n",
       "      <td>NaN</td>\n",
       "      <td>NaN</td>\n",
       "      <td>NaN</td>\n",
       "    </tr>\n",
       "    <tr>\n",
       "      <th>7</th>\n",
       "      <td>RNAcentral</td>\n",
       "      <td>URS000067541F_1696176</td>\n",
       "      <td>NaN</td>\n",
       "      <td>Pelagibacteraceae bacterium GOM-A4 bablM sRNA</td>\n",
       "      <td>NaN</td>\n",
       "      <td>ncRNA</td>\n",
       "      <td>taxon:1696176</td>\n",
       "      <td>NaN</td>\n",
       "      <td>NaN</td>\n",
       "      <td>NaN</td>\n",
       "    </tr>\n",
       "    <tr>\n",
       "      <th>8</th>\n",
       "      <td>RNAcentral</td>\n",
       "      <td>URS0000675420_15368</td>\n",
       "      <td>NaN</td>\n",
       "      <td>Brachypodium distachyon microRNA MIR1122</td>\n",
       "      <td>NaN</td>\n",
       "      <td>primary_transcript</td>\n",
       "      <td>taxon:15368</td>\n",
       "      <td>NaN</td>\n",
       "      <td>NaN</td>\n",
       "      <td>NaN</td>\n",
       "    </tr>\n",
       "    <tr>\n",
       "      <th>9</th>\n",
       "      <td>RNAcentral</td>\n",
       "      <td>URS0000675421_9483</td>\n",
       "      <td>NaN</td>\n",
       "      <td>Callithrix jacchus (white-tufted-ear marmoset)...</td>\n",
       "      <td>NaN</td>\n",
       "      <td>snRNA</td>\n",
       "      <td>taxon:9483</td>\n",
       "      <td>NaN</td>\n",
       "      <td>NaN</td>\n",
       "      <td>NaN</td>\n",
       "    </tr>\n",
       "  </tbody>\n",
       "</table>\n",
       "</div>"
      ],
      "text/plain": [
       "           db           db_object_id db_object_symbol  \\\n",
       "0  RNAcentral     URS00006753F8_4081              NaN   \n",
       "1  RNAcentral     URS0000675402_7159              NaN   \n",
       "2  RNAcentral     URS0000675413_6945              NaN   \n",
       "3  RNAcentral    URS0000675414_59463              NaN   \n",
       "4  RNAcentral    URS000067541A_60711              NaN   \n",
       "5  RNAcentral     URS000067541A_9544              NaN   \n",
       "6  RNAcentral     URS000067541C_4558              NaN   \n",
       "7  RNAcentral  URS000067541F_1696176              NaN   \n",
       "8  RNAcentral    URS0000675420_15368              NaN   \n",
       "9  RNAcentral     URS0000675421_9483              NaN   \n",
       "\n",
       "                                      db_object_name db_object_synonyms  \\\n",
       "0  Solanum lycopersicum (tomato) tRNA-Tyr for ant...                NaN   \n",
       "1                                 Aedes aegypti tRNA                NaN   \n",
       "2                             Ixodes scapularis tRNA                NaN   \n",
       "3  Myotis lucifugus (little brown bat) snRNA U6 s...                NaN   \n",
       "4        Chlorocebus sabaeus Small nucleolar RNA U13                NaN   \n",
       "5             Macaca mulatta Small nucleolar RNA U13                NaN   \n",
       "6      Sorghum bicolor Plant small nucleolar RNA R71                NaN   \n",
       "7      Pelagibacteraceae bacterium GOM-A4 bablM sRNA                NaN   \n",
       "8           Brachypodium distachyon microRNA MIR1122                NaN   \n",
       "9  Callithrix jacchus (white-tufted-ear marmoset)...                NaN   \n",
       "\n",
       "       db_object_type          taxon parent_object_id db_xrefs properties  \n",
       "0                tRNA     taxon:4081              NaN      NaN        NaN  \n",
       "1                tRNA     taxon:7159              NaN      NaN        NaN  \n",
       "2                tRNA     taxon:6945              NaN      NaN        NaN  \n",
       "3               snRNA    taxon:59463              NaN      NaN        NaN  \n",
       "4              snoRNA    taxon:60711              NaN      NaN        NaN  \n",
       "5              snoRNA     taxon:9544              NaN      NaN        NaN  \n",
       "6              snoRNA     taxon:4558              NaN      NaN        NaN  \n",
       "7               ncRNA  taxon:1696176              NaN      NaN        NaN  \n",
       "8  primary_transcript    taxon:15368              NaN      NaN        NaN  \n",
       "9               snRNA     taxon:9483              NaN      NaN        NaN  "
      ]
     },
     "execution_count": 77,
     "metadata": {},
     "output_type": "execute_result"
    }
   ],
   "source": [
    "rna_colnames = ['db', 'db_object_id', 'db_object_symbol', 'db_object_name', 'db_object_synonyms', 'db_object_type',\n",
    " 'taxon', 'parent_object_id', 'db_xrefs', 'properties']\n",
    "\n",
    "rna_c = pd.read_csv(load_dir.joinpath('rnacentral.gpi.gz'), header=None, names=rna_colnames, \n",
    "                    dtype=str, comment='!', sep='\\t')\n",
    "rna_c.head(10)"
   ]
  },
  {
   "cell_type": "code",
   "execution_count": 78,
   "metadata": {},
   "outputs": [],
   "source": [
    "rna_c['db_object_id'] = 'RNAC:' + rna_c['db_object_id']"
   ]
  },
  {
   "cell_type": "markdown",
   "metadata": {},
   "source": [
    "Human microRNA names start with `hsa-`.  However, this DB seems to have a lot of other text in the name than the smile `hsa-` value"
   ]
  },
  {
   "cell_type": "code",
   "execution_count": 79,
   "metadata": {},
   "outputs": [],
   "source": [
    "hsa_lines = rna_c['db_object_name'].str.contains('hsa-')\n",
    "rna_c['rna_name'] = rna_c[hsa_lines]['db_object_name'].apply(lambda s: s[s.index('hsa-'):])\n",
    "rna_c['rna_name'] = rna_c['rna_name'].fillna(rna_c['db_object_name'])"
   ]
  },
  {
   "cell_type": "code",
   "execution_count": 80,
   "metadata": {},
   "outputs": [],
   "source": [
    "keep_rna_ids = edges_go_rna['start_id'].unique()"
   ]
  },
  {
   "cell_type": "code",
   "execution_count": 81,
   "metadata": {},
   "outputs": [
    {
     "data": {
      "text/html": [
       "<div>\n",
       "<style scoped>\n",
       "    .dataframe tbody tr th:only-of-type {\n",
       "        vertical-align: middle;\n",
       "    }\n",
       "\n",
       "    .dataframe tbody tr th {\n",
       "        vertical-align: top;\n",
       "    }\n",
       "\n",
       "    .dataframe thead th {\n",
       "        text-align: right;\n",
       "    }\n",
       "</style>\n",
       "<table border=\"1\" class=\"dataframe\">\n",
       "  <thead>\n",
       "    <tr style=\"text-align: right;\">\n",
       "      <th></th>\n",
       "      <th>id</th>\n",
       "      <th>name</th>\n",
       "      <th>label</th>\n",
       "    </tr>\n",
       "  </thead>\n",
       "  <tbody>\n",
       "    <tr>\n",
       "      <th>369</th>\n",
       "      <td>RNAC:URS0000675799_9606</td>\n",
       "      <td>Homo sapiens microRNA mir-1255</td>\n",
       "      <td>Micro RNA</td>\n",
       "    </tr>\n",
       "    <tr>\n",
       "      <th>461</th>\n",
       "      <td>RNAC:URS000067588D_9606</td>\n",
       "      <td>Homo sapiens microRNA mir-720</td>\n",
       "      <td>Micro RNA</td>\n",
       "    </tr>\n",
       "    <tr>\n",
       "      <th>468</th>\n",
       "      <td>RNAC:URS00006758A2_9606</td>\n",
       "      <td>Homo sapiens U6 spliceosomal RNA</td>\n",
       "      <td>Micro RNA</td>\n",
       "    </tr>\n",
       "    <tr>\n",
       "      <th>722</th>\n",
       "      <td>RNAC:URS0000675BE7_9606</td>\n",
       "      <td>Homo sapiens microRNA mir-1302</td>\n",
       "      <td>Micro RNA</td>\n",
       "    </tr>\n",
       "    <tr>\n",
       "      <th>783</th>\n",
       "      <td>RNAC:URS0000675C99_9606</td>\n",
       "      <td>Homo sapiens U2 spliceosomal RNA</td>\n",
       "      <td>Micro RNA</td>\n",
       "    </tr>\n",
       "  </tbody>\n",
       "</table>\n",
       "</div>"
      ],
      "text/plain": [
       "                          id                              name      label\n",
       "369  RNAC:URS0000675799_9606    Homo sapiens microRNA mir-1255  Micro RNA\n",
       "461  RNAC:URS000067588D_9606     Homo sapiens microRNA mir-720  Micro RNA\n",
       "468  RNAC:URS00006758A2_9606  Homo sapiens U6 spliceosomal RNA  Micro RNA\n",
       "722  RNAC:URS0000675BE7_9606    Homo sapiens microRNA mir-1302  Micro RNA\n",
       "783  RNAC:URS0000675C99_9606  Homo sapiens U2 spliceosomal RNA  Micro RNA"
      ]
     },
     "execution_count": 81,
     "metadata": {},
     "output_type": "execute_result"
    }
   ],
   "source": [
    "rna_nodes = rna_c.query('db_object_id in @keep_rna_ids and db_object_id not in @mapped_rnas')\n",
    "rna_nodes = rna_nodes.rename(columns={'rna_name': 'name', 'db_object_id': 'id'})\n",
    "rna_nodes['label'] = 'Micro RNA'\n",
    "rna_nodes[['id', 'name', 'label']].head()"
   ]
  },
  {
   "cell_type": "code",
   "execution_count": 82,
   "metadata": {},
   "outputs": [],
   "source": [
    "new_nodes.append(rna_nodes[['id', 'name', 'label']])"
   ]
  },
  {
   "cell_type": "markdown",
   "metadata": {},
   "source": [
    "### Now get some interesting RNA to Gene Endges\n",
    "\n",
    "miRTarBase has some interesting gene micronra edges, however, they don't have any good external identifiers... all of thier entries start with hsa-miR so we will have to use names for merging, leaving only a subset of those from rna_C"
   ]
  },
  {
   "cell_type": "code",
   "execution_count": 83,
   "metadata": {},
   "outputs": [],
   "source": [
    "rna_names = rna_c[hsa_lines][~rna_c[hsa_lines]['rna_name'].str.contains('precursor')]['rna_name'].values"
   ]
  },
  {
   "cell_type": "code",
   "execution_count": 84,
   "metadata": {},
   "outputs": [
    {
     "data": {
      "text/html": [
       "<div>\n",
       "<style scoped>\n",
       "    .dataframe tbody tr th:only-of-type {\n",
       "        vertical-align: middle;\n",
       "    }\n",
       "\n",
       "    .dataframe tbody tr th {\n",
       "        vertical-align: top;\n",
       "    }\n",
       "\n",
       "    .dataframe thead th {\n",
       "        text-align: right;\n",
       "    }\n",
       "</style>\n",
       "<table border=\"1\" class=\"dataframe\">\n",
       "  <thead>\n",
       "    <tr style=\"text-align: right;\">\n",
       "      <th></th>\n",
       "      <th>miRTarBase ID</th>\n",
       "      <th>miRNA</th>\n",
       "      <th>Species (miRNA)</th>\n",
       "      <th>Target Gene</th>\n",
       "      <th>Target Gene (Entrez Gene ID)</th>\n",
       "      <th>Species (Target Gene)</th>\n",
       "      <th>Experiments</th>\n",
       "      <th>Support Type</th>\n",
       "      <th>References (PMID)</th>\n",
       "    </tr>\n",
       "  </thead>\n",
       "  <tbody>\n",
       "    <tr>\n",
       "      <th>0</th>\n",
       "      <td>MIRT000002</td>\n",
       "      <td>hsa-miR-20a-5p</td>\n",
       "      <td>Homo sapiens</td>\n",
       "      <td>HIF1A</td>\n",
       "      <td>3091</td>\n",
       "      <td>Homo sapiens</td>\n",
       "      <td>Luciferase reporter assay//Western blot//North...</td>\n",
       "      <td>Functional MTI</td>\n",
       "      <td>18632605</td>\n",
       "    </tr>\n",
       "    <tr>\n",
       "      <th>1</th>\n",
       "      <td>MIRT000002</td>\n",
       "      <td>hsa-miR-20a-5p</td>\n",
       "      <td>Homo sapiens</td>\n",
       "      <td>HIF1A</td>\n",
       "      <td>3091</td>\n",
       "      <td>Homo sapiens</td>\n",
       "      <td>HITS-CLIP</td>\n",
       "      <td>Functional MTI (Weak)</td>\n",
       "      <td>22473208</td>\n",
       "    </tr>\n",
       "  </tbody>\n",
       "</table>\n",
       "</div>"
      ],
      "text/plain": [
       "  miRTarBase ID           miRNA Species (miRNA) Target Gene  \\\n",
       "0    MIRT000002  hsa-miR-20a-5p    Homo sapiens       HIF1A   \n",
       "1    MIRT000002  hsa-miR-20a-5p    Homo sapiens       HIF1A   \n",
       "\n",
       "   Target Gene (Entrez Gene ID) Species (Target Gene)  \\\n",
       "0                          3091          Homo sapiens   \n",
       "1                          3091          Homo sapiens   \n",
       "\n",
       "                                         Experiments           Support Type  \\\n",
       "0  Luciferase reporter assay//Western blot//North...         Functional MTI   \n",
       "1                                          HITS-CLIP  Functional MTI (Weak)   \n",
       "\n",
       "   References (PMID)  \n",
       "0           18632605  \n",
       "1           22473208  "
      ]
     },
     "execution_count": 84,
     "metadata": {},
     "output_type": "execute_result"
    }
   ],
   "source": [
    "mti = pd.read_excel(load_dir.joinpath('hsa_MTI.xlsx'))\n",
    "mti.head(2)"
   ]
  },
  {
   "cell_type": "code",
   "execution_count": 85,
   "metadata": {},
   "outputs": [
    {
     "data": {
      "text/html": [
       "<div>\n",
       "<style scoped>\n",
       "    .dataframe tbody tr th:only-of-type {\n",
       "        vertical-align: middle;\n",
       "    }\n",
       "\n",
       "    .dataframe tbody tr th {\n",
       "        vertical-align: top;\n",
       "    }\n",
       "\n",
       "    .dataframe thead th {\n",
       "        text-align: right;\n",
       "    }\n",
       "</style>\n",
       "<table border=\"1\" class=\"dataframe\">\n",
       "  <thead>\n",
       "    <tr style=\"text-align: right;\">\n",
       "      <th></th>\n",
       "      <th>mirtarbase_id</th>\n",
       "      <th>mi_rna</th>\n",
       "      <th>species_mirna</th>\n",
       "      <th>target_gene</th>\n",
       "      <th>target_gene_entrez_gene_id</th>\n",
       "      <th>species_target_gene</th>\n",
       "      <th>experiments</th>\n",
       "      <th>support_type</th>\n",
       "      <th>references_pmid</th>\n",
       "    </tr>\n",
       "  </thead>\n",
       "  <tbody>\n",
       "    <tr>\n",
       "      <th>0</th>\n",
       "      <td>MIRT000002</td>\n",
       "      <td>hsa-miR-20a-5p</td>\n",
       "      <td>Homo sapiens</td>\n",
       "      <td>HIF1A</td>\n",
       "      <td>3091</td>\n",
       "      <td>Homo sapiens</td>\n",
       "      <td>Luciferase reporter assay//Western blot//North...</td>\n",
       "      <td>Functional MTI</td>\n",
       "      <td>18632605</td>\n",
       "    </tr>\n",
       "    <tr>\n",
       "      <th>1</th>\n",
       "      <td>MIRT000002</td>\n",
       "      <td>hsa-miR-20a-5p</td>\n",
       "      <td>Homo sapiens</td>\n",
       "      <td>HIF1A</td>\n",
       "      <td>3091</td>\n",
       "      <td>Homo sapiens</td>\n",
       "      <td>HITS-CLIP</td>\n",
       "      <td>Functional MTI (Weak)</td>\n",
       "      <td>22473208</td>\n",
       "    </tr>\n",
       "  </tbody>\n",
       "</table>\n",
       "</div>"
      ],
      "text/plain": [
       "  mirtarbase_id          mi_rna species_mirna target_gene  \\\n",
       "0    MIRT000002  hsa-miR-20a-5p  Homo sapiens       HIF1A   \n",
       "1    MIRT000002  hsa-miR-20a-5p  Homo sapiens       HIF1A   \n",
       "\n",
       "   target_gene_entrez_gene_id species_target_gene  \\\n",
       "0                        3091        Homo sapiens   \n",
       "1                        3091        Homo sapiens   \n",
       "\n",
       "                                         experiments           support_type  \\\n",
       "0  Luciferase reporter assay//Western blot//North...         Functional MTI   \n",
       "1                                          HITS-CLIP  Functional MTI (Weak)   \n",
       "\n",
       "   references_pmid  \n",
       "0         18632605  \n",
       "1         22473208  "
      ]
     },
     "execution_count": 85,
     "metadata": {},
     "output_type": "execute_result"
    }
   ],
   "source": [
    "mti.columns = regularize_colnames(mti.columns)\n",
    "mti.head(2)"
   ]
  },
  {
   "cell_type": "code",
   "execution_count": 86,
   "metadata": {},
   "outputs": [],
   "source": [
    "mti['target_gene_entrez_gene_id'] = 'NCBIGene:'+ mti['target_gene_entrez_gene_id'].astype(str)"
   ]
  },
  {
   "cell_type": "code",
   "execution_count": 87,
   "metadata": {},
   "outputs": [
    {
     "name": "stdout",
     "output_type": "stream",
     "text": [
      "MicroRNA Gene Annotations mappable to RNACentral\n",
      "  Total:      502,652\n",
      "  Mapped:     493,614\n",
      "  Unmapped:     9,887\n"
     ]
    }
   ],
   "source": [
    "gene_ids = all_nodes.query('label == \"Gene\"')['id']\n",
    "print('MicroRNA Gene Annotations mappable to RNACentral')\n",
    "print('  Total:    {:9,}'.format(len(mti)))\n",
    "print('  Mapped:   {:9,}'.format(len(mti.query('mi_rna in @rna_names'))))\n",
    "print('  Unmapped: {:9,}'.format(\n",
    "    len(mti) - len(mti.query('mi_rna in @rna_names and target_gene_entrez_gene_id in @gene_ids'))))\n"
   ]
  },
  {
   "cell_type": "code",
   "execution_count": 88,
   "metadata": {},
   "outputs": [],
   "source": [
    "rna_map = rna_nodes.set_index('name')['id'].to_dict()"
   ]
  },
  {
   "cell_type": "code",
   "execution_count": 89,
   "metadata": {},
   "outputs": [
    {
     "data": {
      "text/html": [
       "<div>\n",
       "<style scoped>\n",
       "    .dataframe tbody tr th:only-of-type {\n",
       "        vertical-align: middle;\n",
       "    }\n",
       "\n",
       "    .dataframe tbody tr th {\n",
       "        vertical-align: top;\n",
       "    }\n",
       "\n",
       "    .dataframe thead th {\n",
       "        text-align: right;\n",
       "    }\n",
       "</style>\n",
       "<table border=\"1\" class=\"dataframe\">\n",
       "  <thead>\n",
       "    <tr style=\"text-align: right;\">\n",
       "      <th></th>\n",
       "      <th>start_id</th>\n",
       "      <th>end_id</th>\n",
       "      <th>type</th>\n",
       "      <th>mirtarbase_id</th>\n",
       "      <th>mi_rna</th>\n",
       "      <th>species_mirna</th>\n",
       "      <th>target_gene</th>\n",
       "      <th>species_target_gene</th>\n",
       "      <th>experiments</th>\n",
       "      <th>support_type</th>\n",
       "      <th>references_pmid</th>\n",
       "    </tr>\n",
       "  </thead>\n",
       "  <tbody>\n",
       "    <tr>\n",
       "      <th>0</th>\n",
       "      <td>RNAC:URS0000574A2C_9606</td>\n",
       "      <td>NCBIGene:3091</td>\n",
       "      <td>regulates_NrG</td>\n",
       "      <td>MIRT000002</td>\n",
       "      <td>hsa-miR-20a-5p</td>\n",
       "      <td>Homo sapiens</td>\n",
       "      <td>HIF1A</td>\n",
       "      <td>Homo sapiens</td>\n",
       "      <td>Luciferase reporter assay//Western blot//North...</td>\n",
       "      <td>Functional MTI</td>\n",
       "      <td>18632605</td>\n",
       "    </tr>\n",
       "    <tr>\n",
       "      <th>1</th>\n",
       "      <td>RNAC:URS0000574A2C_9606</td>\n",
       "      <td>NCBIGene:3091</td>\n",
       "      <td>regulates_NrG</td>\n",
       "      <td>MIRT000002</td>\n",
       "      <td>hsa-miR-20a-5p</td>\n",
       "      <td>Homo sapiens</td>\n",
       "      <td>HIF1A</td>\n",
       "      <td>Homo sapiens</td>\n",
       "      <td>HITS-CLIP</td>\n",
       "      <td>Functional MTI (Weak)</td>\n",
       "      <td>22473208</td>\n",
       "    </tr>\n",
       "  </tbody>\n",
       "</table>\n",
       "</div>"
      ],
      "text/plain": [
       "                  start_id         end_id           type mirtarbase_id  \\\n",
       "0  RNAC:URS0000574A2C_9606  NCBIGene:3091  regulates_NrG    MIRT000002   \n",
       "1  RNAC:URS0000574A2C_9606  NCBIGene:3091  regulates_NrG    MIRT000002   \n",
       "\n",
       "           mi_rna species_mirna target_gene species_target_gene  \\\n",
       "0  hsa-miR-20a-5p  Homo sapiens       HIF1A        Homo sapiens   \n",
       "1  hsa-miR-20a-5p  Homo sapiens       HIF1A        Homo sapiens   \n",
       "\n",
       "                                         experiments           support_type  \\\n",
       "0  Luciferase reporter assay//Western blot//North...         Functional MTI   \n",
       "1                                          HITS-CLIP  Functional MTI (Weak)   \n",
       "\n",
       "  references_pmid  \n",
       "0        18632605  \n",
       "1        22473208  "
      ]
     },
     "execution_count": 89,
     "metadata": {},
     "output_type": "execute_result"
    }
   ],
   "source": [
    "edges_rna_gene = mti.query('mi_rna in @rna_names and target_gene_entrez_gene_id in @gene_ids').reset_index(drop=True)\n",
    "edges_rna_gene = edges_rna_gene.rename(columns={'target_gene_entrez_gene_id': 'end_id'}) \n",
    "edges_rna_gene['start_id'] = edges_rna_gene['mi_rna'].map(rna_map)\n",
    "edges_rna_gene['end_id'] = edges_rna_gene['end_id'].astype(str)\n",
    "edges_rna_gene['type'] = 'regulates_NrG'\n",
    "edges_rna_gene = edges_rna_gene[fix_col_order_edge(edges_rna_gene)]\n",
    "edges_rna_gene['references_pmid'] = edges_rna_gene['references_pmid'].astype(str)\n",
    "edges_rna_gene.head(2)"
   ]
  },
  {
   "cell_type": "markdown",
   "metadata": {},
   "source": [
    "miRTarBase uses a custom license, but looks closest"
   ]
  },
  {
   "cell_type": "code",
   "execution_count": 90,
   "metadata": {},
   "outputs": [],
   "source": [
    "edges_rna_gene['source'] = 'miRTarBase'\n",
    "edges_rna_gene['license'] = 'custom open attribute'\n",
    "\n",
    "edges_rna_gene['dsrc_type'] = 'curated'"
   ]
  },
  {
   "cell_type": "code",
   "execution_count": 91,
   "metadata": {},
   "outputs": [],
   "source": [
    "new_edges.append(edges_rna_gene[['start_id', 'end_id', 'type', 'source', 'dsrc_type',\n",
    "                                 'experiments', 'support_type', 'references_pmid']])"
   ]
  },
  {
   "cell_type": "markdown",
   "metadata": {},
   "source": [
    "# Putting it together"
   ]
  },
  {
   "cell_type": "code",
   "execution_count": 92,
   "metadata": {},
   "outputs": [],
   "source": [
    "new_nodes_df = pd.concat(new_nodes, sort=False, ignore_index=True)"
   ]
  },
  {
   "cell_type": "code",
   "execution_count": 93,
   "metadata": {},
   "outputs": [
    {
     "data": {
      "text/html": [
       "<div>\n",
       "<style scoped>\n",
       "    .dataframe tbody tr th:only-of-type {\n",
       "        vertical-align: middle;\n",
       "    }\n",
       "\n",
       "    .dataframe tbody tr th {\n",
       "        vertical-align: top;\n",
       "    }\n",
       "\n",
       "    .dataframe thead th {\n",
       "        text-align: right;\n",
       "    }\n",
       "</style>\n",
       "<table border=\"1\" class=\"dataframe\">\n",
       "  <thead>\n",
       "    <tr style=\"text-align: right;\">\n",
       "      <th></th>\n",
       "      <th>id</th>\n",
       "      <th>name</th>\n",
       "      <th>label</th>\n",
       "    </tr>\n",
       "  </thead>\n",
       "  <tbody>\n",
       "    <tr>\n",
       "      <th>0</th>\n",
       "      <td>CPX:CPX-1196</td>\n",
       "      <td>Polybromo-associated SWI/SNF ATP-dependent chr...</td>\n",
       "      <td>Complex</td>\n",
       "    </tr>\n",
       "    <tr>\n",
       "      <th>1</th>\n",
       "      <td>CPX:CPX-1201</td>\n",
       "      <td>Neural progenitor-specific SWI/SNF ATP-depende...</td>\n",
       "      <td>Complex</td>\n",
       "    </tr>\n",
       "  </tbody>\n",
       "</table>\n",
       "</div>"
      ],
      "text/plain": [
       "             id                                               name    label\n",
       "0  CPX:CPX-1196  Polybromo-associated SWI/SNF ATP-dependent chr...  Complex\n",
       "1  CPX:CPX-1201  Neural progenitor-specific SWI/SNF ATP-depende...  Complex"
      ]
     },
     "execution_count": 93,
     "metadata": {},
     "output_type": "execute_result"
    }
   ],
   "source": [
    "new_nodes_df.head(2)"
   ]
  },
  {
   "cell_type": "code",
   "execution_count": 94,
   "metadata": {},
   "outputs": [],
   "source": [
    "new_edges_df = pd.concat(new_edges, sort=False, ignore_index=True)"
   ]
  },
  {
   "cell_type": "code",
   "execution_count": 95,
   "metadata": {},
   "outputs": [],
   "source": [
    "keep_cols = ['start_id', 'end_id', 'type', 'dsrc_type', 'comp_type', 'source', 'license', 'experiments', 'support_type', 'references_pmid']"
   ]
  },
  {
   "cell_type": "code",
   "execution_count": 96,
   "metadata": {},
   "outputs": [
    {
     "data": {
      "text/html": [
       "<div>\n",
       "<style scoped>\n",
       "    .dataframe tbody tr th:only-of-type {\n",
       "        vertical-align: middle;\n",
       "    }\n",
       "\n",
       "    .dataframe tbody tr th {\n",
       "        vertical-align: top;\n",
       "    }\n",
       "\n",
       "    .dataframe thead th {\n",
       "        text-align: right;\n",
       "    }\n",
       "</style>\n",
       "<table border=\"1\" class=\"dataframe\">\n",
       "  <thead>\n",
       "    <tr style=\"text-align: right;\">\n",
       "      <th></th>\n",
       "      <th>start_id</th>\n",
       "      <th>end_id</th>\n",
       "      <th>type</th>\n",
       "      <th>dsrc_type</th>\n",
       "      <th>comp_type</th>\n",
       "      <th>source</th>\n",
       "      <th>license</th>\n",
       "      <th>experiments</th>\n",
       "      <th>support_type</th>\n",
       "      <th>references_pmid</th>\n",
       "    </tr>\n",
       "  </thead>\n",
       "  <tbody>\n",
       "    <tr>\n",
       "      <th>0</th>\n",
       "      <td>NCBIGene:552891</td>\n",
       "      <td>GO:0003924</td>\n",
       "      <td>enables</td>\n",
       "      <td>computed</td>\n",
       "      <td>IEA</td>\n",
       "      <td>Gene Ontology</td>\n",
       "      <td>CC-BY 4.0</td>\n",
       "      <td>NaN</td>\n",
       "      <td>NaN</td>\n",
       "      <td>NaN</td>\n",
       "    </tr>\n",
       "    <tr>\n",
       "      <th>1</th>\n",
       "      <td>NCBIGene:28784</td>\n",
       "      <td>GO:0002250</td>\n",
       "      <td>involved_in</td>\n",
       "      <td>computed</td>\n",
       "      <td>IEA</td>\n",
       "      <td>Gene Ontology</td>\n",
       "      <td>CC-BY 4.0</td>\n",
       "      <td>NaN</td>\n",
       "      <td>NaN</td>\n",
       "      <td>NaN</td>\n",
       "    </tr>\n",
       "  </tbody>\n",
       "</table>\n",
       "</div>"
      ],
      "text/plain": [
       "          start_id      end_id         type dsrc_type comp_type  \\\n",
       "0  NCBIGene:552891  GO:0003924      enables  computed       IEA   \n",
       "1   NCBIGene:28784  GO:0002250  involved_in  computed       IEA   \n",
       "\n",
       "          source    license experiments support_type references_pmid  \n",
       "0  Gene Ontology  CC-BY 4.0         NaN          NaN             NaN  \n",
       "1  Gene Ontology  CC-BY 4.0         NaN          NaN             NaN  "
      ]
     },
     "execution_count": 96,
     "metadata": {},
     "output_type": "execute_result"
    }
   ],
   "source": [
    "new_edges_df[keep_cols].head(2)"
   ]
  },
  {
   "cell_type": "code",
   "execution_count": 97,
   "metadata": {
    "scrolled": true
   },
   "outputs": [
    {
     "name": "stdout",
     "output_type": "stream",
     "text": [
      "Total number of new edges: 1,014,154\n",
      "Number of unique new edges: 429,450\n"
     ]
    }
   ],
   "source": [
    "print('Total number of new edges: {:,}'.format(len(new_edges_df)))\n",
    "print('Number of unique new edges: {:,}'.format(len(new_edges_df.drop_duplicates(subset=['start_id', 'end_id', 'type']))))"
   ]
  },
  {
   "cell_type": "code",
   "execution_count": 98,
   "metadata": {},
   "outputs": [
    {
     "name": "stdout",
     "output_type": "stream",
     "text": [
      "CPU times: user 48.4 s, sys: 400 ms, total: 48.8 s\n",
      "Wall time: 48.8 s\n"
     ]
    }
   ],
   "source": [
    "%%time\n",
    "# Need to combine those that have multiple of whatever... \n",
    "new_edges_df = combine_group_cols_on_char(new_edges_df, group_on=['start_id', 'end_id', 'type'], \n",
    "                                          combine_cols=['source', 'dsrc_type', 'comp_type', 'license', 'references_pmid'],\n",
    "                                          sort=True, prog=False)"
   ]
  },
  {
   "cell_type": "code",
   "execution_count": 99,
   "metadata": {},
   "outputs": [],
   "source": [
    "new_edges_df = new_edges_df[keep_cols]\n",
    "new_edges_df = new_edges_df.rename(columns={'references_pmid': 'pmids'})"
   ]
  },
  {
   "cell_type": "code",
   "execution_count": 100,
   "metadata": {},
   "outputs": [
    {
     "data": {
      "text/html": [
       "<div>\n",
       "<style scoped>\n",
       "    .dataframe tbody tr th:only-of-type {\n",
       "        vertical-align: middle;\n",
       "    }\n",
       "\n",
       "    .dataframe tbody tr th {\n",
       "        vertical-align: top;\n",
       "    }\n",
       "\n",
       "    .dataframe thead th {\n",
       "        text-align: right;\n",
       "    }\n",
       "</style>\n",
       "<table border=\"1\" class=\"dataframe\">\n",
       "  <thead>\n",
       "    <tr style=\"text-align: right;\">\n",
       "      <th></th>\n",
       "      <th>start_id</th>\n",
       "      <th>end_id</th>\n",
       "      <th>type</th>\n",
       "      <th>dsrc_type</th>\n",
       "      <th>comp_type</th>\n",
       "      <th>source</th>\n",
       "      <th>license</th>\n",
       "      <th>experiments</th>\n",
       "      <th>support_type</th>\n",
       "      <th>pmids</th>\n",
       "    </tr>\n",
       "  </thead>\n",
       "  <tbody>\n",
       "    <tr>\n",
       "      <th>0</th>\n",
       "      <td>NCBIGene:552891</td>\n",
       "      <td>GO:0003924</td>\n",
       "      <td>enables</td>\n",
       "      <td>computed</td>\n",
       "      <td>IEA</td>\n",
       "      <td>Gene Ontology</td>\n",
       "      <td>CC-BY 4.0</td>\n",
       "      <td>NaN</td>\n",
       "      <td>NaN</td>\n",
       "      <td>NaN</td>\n",
       "    </tr>\n",
       "    <tr>\n",
       "      <th>1</th>\n",
       "      <td>NCBIGene:28784</td>\n",
       "      <td>GO:0002250</td>\n",
       "      <td>involved_in</td>\n",
       "      <td>computed</td>\n",
       "      <td>IEA</td>\n",
       "      <td>Gene Ontology</td>\n",
       "      <td>CC-BY 4.0</td>\n",
       "      <td>NaN</td>\n",
       "      <td>NaN</td>\n",
       "      <td>NaN</td>\n",
       "    </tr>\n",
       "  </tbody>\n",
       "</table>\n",
       "</div>"
      ],
      "text/plain": [
       "          start_id      end_id         type dsrc_type comp_type  \\\n",
       "0  NCBIGene:552891  GO:0003924      enables  computed       IEA   \n",
       "1   NCBIGene:28784  GO:0002250  involved_in  computed       IEA   \n",
       "\n",
       "          source    license experiments support_type pmids  \n",
       "0  Gene Ontology  CC-BY 4.0         NaN          NaN   NaN  \n",
       "1  Gene Ontology  CC-BY 4.0         NaN          NaN   NaN  "
      ]
     },
     "execution_count": 100,
     "metadata": {},
     "output_type": "execute_result"
    }
   ],
   "source": [
    "new_edges_df.head(2)"
   ]
  },
  {
   "cell_type": "code",
   "execution_count": 101,
   "metadata": {},
   "outputs": [
    {
     "data": {
      "text/html": [
       "<div>\n",
       "<style scoped>\n",
       "    .dataframe tbody tr th:only-of-type {\n",
       "        vertical-align: middle;\n",
       "    }\n",
       "\n",
       "    .dataframe tbody tr th {\n",
       "        vertical-align: top;\n",
       "    }\n",
       "\n",
       "    .dataframe thead th {\n",
       "        text-align: right;\n",
       "    }\n",
       "</style>\n",
       "<table border=\"1\" class=\"dataframe\">\n",
       "  <thead>\n",
       "    <tr style=\"text-align: right;\">\n",
       "      <th></th>\n",
       "      <th>id</th>\n",
       "      <th>name</th>\n",
       "      <th>label</th>\n",
       "      <th>xrefs</th>\n",
       "    </tr>\n",
       "  </thead>\n",
       "  <tbody>\n",
       "    <tr>\n",
       "      <th>0</th>\n",
       "      <td>UBERON:0000002</td>\n",
       "      <td>cervix</td>\n",
       "      <td>Anatomy</td>\n",
       "      <td>MESH:D002584|UBERON:0000002</td>\n",
       "    </tr>\n",
       "    <tr>\n",
       "      <th>1</th>\n",
       "      <td>UBERON:0000004</td>\n",
       "      <td>human nose</td>\n",
       "      <td>Anatomy</td>\n",
       "      <td>MESH:D009666|UBERON:0000004</td>\n",
       "    </tr>\n",
       "  </tbody>\n",
       "</table>\n",
       "</div>"
      ],
      "text/plain": [
       "               id        name    label                        xrefs\n",
       "0  UBERON:0000002      cervix  Anatomy  MESH:D002584|UBERON:0000002\n",
       "1  UBERON:0000004  human nose  Anatomy  MESH:D009666|UBERON:0000004"
      ]
     },
     "execution_count": 101,
     "metadata": {},
     "output_type": "execute_result"
    }
   ],
   "source": [
    "all_nodes_out = pd.concat([all_nodes, new_nodes_df], sort=False)\n",
    "all_nodes_out.head(2)"
   ]
  },
  {
   "cell_type": "code",
   "execution_count": 102,
   "metadata": {},
   "outputs": [
    {
     "data": {
      "text/plain": [
       "794626"
      ]
     },
     "execution_count": 102,
     "metadata": {},
     "output_type": "execute_result"
    }
   ],
   "source": [
    "len(all_nodes_out)"
   ]
  },
  {
   "cell_type": "code",
   "execution_count": 103,
   "metadata": {},
   "outputs": [
    {
     "data": {
      "text/html": [
       "<div>\n",
       "<style scoped>\n",
       "    .dataframe tbody tr th:only-of-type {\n",
       "        vertical-align: middle;\n",
       "    }\n",
       "\n",
       "    .dataframe tbody tr th {\n",
       "        vertical-align: top;\n",
       "    }\n",
       "\n",
       "    .dataframe thead th {\n",
       "        text-align: right;\n",
       "    }\n",
       "</style>\n",
       "<table border=\"1\" class=\"dataframe\">\n",
       "  <thead>\n",
       "    <tr style=\"text-align: right;\">\n",
       "      <th></th>\n",
       "      <th>start_id</th>\n",
       "      <th>end_id</th>\n",
       "      <th>type</th>\n",
       "      <th>dsrc_type</th>\n",
       "      <th>comp_type</th>\n",
       "      <th>p_val</th>\n",
       "      <th>adj_p</th>\n",
       "      <th>source</th>\n",
       "      <th>license</th>\n",
       "      <th>experiments</th>\n",
       "      <th>support_type</th>\n",
       "      <th>pmids</th>\n",
       "    </tr>\n",
       "  </thead>\n",
       "  <tbody>\n",
       "    <tr>\n",
       "      <th>0</th>\n",
       "      <td>CHEMBL:CHEMBL1743034</td>\n",
       "      <td>NCBIGene:3605</td>\n",
       "      <td>Neutralizing antibody</td>\n",
       "      <td>computed</td>\n",
       "      <td>merge</td>\n",
       "      <td>NaN</td>\n",
       "      <td>NaN</td>\n",
       "      <td>WikiData</td>\n",
       "      <td>CC0 1.0</td>\n",
       "      <td>NaN</td>\n",
       "      <td>NaN</td>\n",
       "      <td>NaN</td>\n",
       "    </tr>\n",
       "    <tr>\n",
       "      <th>1</th>\n",
       "      <td>CHEBI:10055</td>\n",
       "      <td>NCBIGene:153</td>\n",
       "      <td>agonist</td>\n",
       "      <td>computed</td>\n",
       "      <td>merge</td>\n",
       "      <td>NaN</td>\n",
       "      <td>NaN</td>\n",
       "      <td>WikiData</td>\n",
       "      <td>CC0 1.0</td>\n",
       "      <td>NaN</td>\n",
       "      <td>NaN</td>\n",
       "      <td>NaN</td>\n",
       "    </tr>\n",
       "  </tbody>\n",
       "</table>\n",
       "</div>"
      ],
      "text/plain": [
       "               start_id         end_id                   type dsrc_type  \\\n",
       "0  CHEMBL:CHEMBL1743034  NCBIGene:3605  Neutralizing antibody  computed   \n",
       "1           CHEBI:10055   NCBIGene:153                agonist  computed   \n",
       "\n",
       "  comp_type p_val adj_p    source  license experiments support_type pmids  \n",
       "0     merge   NaN   NaN  WikiData  CC0 1.0         NaN          NaN   NaN  \n",
       "1     merge   NaN   NaN  WikiData  CC0 1.0         NaN          NaN   NaN  "
      ]
     },
     "execution_count": 103,
     "metadata": {},
     "output_type": "execute_result"
    }
   ],
   "source": [
    "all_edges_out = pd.concat([edges, new_edges_df], sort=False)\n",
    "all_edges_out.head(2)"
   ]
  },
  {
   "cell_type": "code",
   "execution_count": 104,
   "metadata": {},
   "outputs": [],
   "source": [
    "node_ids = all_nodes_out['id'].unique()"
   ]
  },
  {
   "cell_type": "code",
   "execution_count": 105,
   "metadata": {},
   "outputs": [
    {
     "data": {
      "text/plain": [
       "(794626, 794626)"
      ]
     },
     "execution_count": 105,
     "metadata": {},
     "output_type": "execute_result"
    }
   ],
   "source": [
    "len(all_nodes_out), all_nodes_out['id'].nunique()"
   ]
  },
  {
   "cell_type": "code",
   "execution_count": 106,
   "metadata": {},
   "outputs": [
    {
     "name": "stdout",
     "output_type": "stream",
     "text": [
      "Edges all IDs: 3,044,748\n",
      "Edges in node IDs: 3,040,799\n"
     ]
    }
   ],
   "source": [
    "# Double check that all of the edges have a startID and End ID contained in the Nodes...\n",
    "print('Edges all IDs: {:,}'.format(len(all_edges_out)))\n",
    "all_edges_out_filt = all_edges_out.query('start_id in @node_ids and end_id in @node_ids')\n",
    "print('Edges in node IDs: {:,}'.format(len(all_edges_out_filt)))"
   ]
  },
  {
   "cell_type": "code",
   "execution_count": 107,
   "metadata": {
    "scrolled": true
   },
   "outputs": [
    {
     "data": {
      "text/plain": [
       "regulates_NrG    1267\n",
       "involved_in       994\n",
       "enables           914\n",
       "part_of           774\n",
       "Name: type, dtype: int64"
      ]
     },
     "execution_count": 107,
     "metadata": {},
     "output_type": "execute_result"
    }
   ],
   "source": [
    "# Lests see how many of what kinds of edges had to be dropped...\n",
    "all_edges_out.query('start_id not in @node_ids or end_id not in @node_ids')['type'].value_counts()"
   ]
  },
  {
   "cell_type": "markdown",
   "metadata": {},
   "source": [
    "These are all RNAs that could not be mapped properly to a name... they also have very minimal information when accessed on RNACentral, and would increase the number of miRNA nodes by a factor of 5."
   ]
  },
  {
   "cell_type": "code",
   "execution_count": 108,
   "metadata": {},
   "outputs": [
    {
     "name": "stdout",
     "output_type": "stream",
     "text": [
      "Edges: 3,040,799\n",
      "Unique Edges: 2,770,560\n"
     ]
    },
    {
     "data": {
      "application/vnd.jupyter.widget-view+json": {
       "model_id": "204e5708dc244a94966fe953f0ce719b",
       "version_major": 2,
       "version_minor": 0
      },
      "text/plain": [
       "HBox(children=(FloatProgress(value=0.0, description='total_progress', max=4.0, style=ProgressStyle(description…"
      ]
     },
     "metadata": {},
     "output_type": "display_data"
    },
    {
     "name": "stderr",
     "output_type": "stream",
     "text": [
      "/home/mmayers/software/miniconda3/envs/ml/lib/python3.7/site-packages/tqdm/std.py:656: FutureWarning: The Panel class is removed from pandas. Accessing it from the top-level namespace will also be removed in the next version\n",
      "  from pandas import Panel\n"
     ]
    },
    {
     "data": {
      "application/vnd.jupyter.widget-view+json": {
       "model_id": "f4bcfd0ee939437db228914c344af085",
       "version_major": 2,
       "version_minor": 0
      },
      "text/plain": [
       "HBox(children=(FloatProgress(value=0.0, description='dsrc_type', max=270239.0, style=ProgressStyle(description…"
      ]
     },
     "metadata": {},
     "output_type": "display_data"
    },
    {
     "name": "stdout",
     "output_type": "stream",
     "text": [
      "\n"
     ]
    },
    {
     "data": {
      "application/vnd.jupyter.widget-view+json": {
       "model_id": "971b60b09f234e338fd5724ce53abc9d",
       "version_major": 2,
       "version_minor": 0
      },
      "text/plain": [
       "HBox(children=(FloatProgress(value=0.0, description='comp_type', max=270239.0, style=ProgressStyle(description…"
      ]
     },
     "metadata": {},
     "output_type": "display_data"
    },
    {
     "name": "stdout",
     "output_type": "stream",
     "text": [
      "\n"
     ]
    },
    {
     "data": {
      "application/vnd.jupyter.widget-view+json": {
       "model_id": "4040783d520a4c569b22c4748d3cb20b",
       "version_major": 2,
       "version_minor": 0
      },
      "text/plain": [
       "HBox(children=(FloatProgress(value=0.0, description='source', max=270239.0, style=ProgressStyle(description_wi…"
      ]
     },
     "metadata": {},
     "output_type": "display_data"
    },
    {
     "name": "stdout",
     "output_type": "stream",
     "text": [
      "\n"
     ]
    },
    {
     "data": {
      "application/vnd.jupyter.widget-view+json": {
       "model_id": "5dd9db48f47249c59698e7b55509a954",
       "version_major": 2,
       "version_minor": 0
      },
      "text/plain": [
       "HBox(children=(FloatProgress(value=0.0, description='license', max=270239.0, style=ProgressStyle(description_w…"
      ]
     },
     "metadata": {},
     "output_type": "display_data"
    },
    {
     "name": "stdout",
     "output_type": "stream",
     "text": [
      "\n",
      "\n"
     ]
    }
   ],
   "source": [
    "print('Edges: {:,}'.format(len(all_edges_out_filt)))\n",
    "print('Unique Edges: {:,}'.format(len(all_edges_out_filt.drop_duplicates(subset=['start_id', 'end_id', 'type']))))\n",
    "\n",
    "all_edges_out_filt = combine_group_cols_on_char(all_edges_out_filt, ['start_id', 'end_id', 'type'], sort=True, prog=True)"
   ]
  },
  {
   "cell_type": "code",
   "execution_count": 109,
   "metadata": {},
   "outputs": [],
   "source": [
    "all_edge_ids = all_edges_out_filt[['start_id', 'end_id']].stack().unique()"
   ]
  },
  {
   "cell_type": "code",
   "execution_count": 110,
   "metadata": {},
   "outputs": [
    {
     "name": "stdout",
     "output_type": "stream",
     "text": [
      "794626\n",
      "357456\n"
     ]
    }
   ],
   "source": [
    "filt_nodes_out = all_nodes_out.query('id in @all_edge_ids')\n",
    "print(len(all_nodes_out))\n",
    "print(len(filt_nodes_out))"
   ]
  },
  {
   "cell_type": "markdown",
   "metadata": {},
   "source": [
    "#### Examine the new edges"
   ]
  },
  {
   "cell_type": "code",
   "execution_count": 111,
   "metadata": {},
   "outputs": [],
   "source": [
    "combo = gt.combine_nodes_and_edges(filt_nodes_out, all_edges_out_filt)"
   ]
  },
  {
   "cell_type": "code",
   "execution_count": 112,
   "metadata": {},
   "outputs": [
    {
     "data": {
      "text/plain": [
       "WikiData                           541659\n",
       "Gene Ontology|WikiData             239429\n",
       "Reactome                           105961\n",
       "Gene Ontology                       47794\n",
       "Gene Ontology|Reactome|WikiData     29459\n",
       "InterPro                            25416\n",
       "Reactome|WikiData                    3197\n",
       "Gene Ontology|Reactome                 36\n",
       "Name: source, dtype: int64"
      ]
     },
     "execution_count": 112,
     "metadata": {},
     "output_type": "execute_result"
    }
   ],
   "source": [
    "go_labels = ['Molecular Function', 'Biological Process', 'Cellular Component']\n",
    "combo.query('start_label in @go_labels or end_label in @go_labels')['source'].value_counts()"
   ]
  },
  {
   "cell_type": "code",
   "execution_count": 113,
   "metadata": {},
   "outputs": [
    {
     "data": {
      "text/plain": [
       "WikiData                           427148\n",
       "Gene Ontology|WikiData             239429\n",
       "Reactome                            54087\n",
       "Gene Ontology|Reactome|WikiData     29459\n",
       "Gene Ontology                        5486\n",
       "Reactome|WikiData                    2249\n",
       "Gene Ontology|Reactome                 36\n",
       "Name: source, dtype: int64"
      ]
     },
     "execution_count": 113,
     "metadata": {},
     "output_type": "execute_result"
    }
   ],
   "source": [
    "combo.query('start_label in [\"Gene\", \"Protein\"] and end_label in @go_labels')['source'].value_counts()"
   ]
  },
  {
   "cell_type": "code",
   "execution_count": 114,
   "metadata": {},
   "outputs": [
    {
     "data": {
      "text/plain": [
       "Gene                  156034\n",
       "Protein                82605\n",
       "Micro RNA              17722\n",
       "Reaction               16770\n",
       "Protein Family         13842\n",
       "Biological Process     13827\n",
       "Complex                13366\n",
       "Taxon                  12227\n",
       "Disease                11760\n",
       "Molecular Function      5471\n",
       "Compound                5170\n",
       "Pathway                 4841\n",
       "Cellular Component      2051\n",
       "Phenotype               1255\n",
       "Anatomy                  515\n",
       "Name: label, dtype: int64"
      ]
     },
     "execution_count": 114,
     "metadata": {},
     "output_type": "execute_result"
    }
   ],
   "source": [
    "filt_nodes_out['label'].value_counts()"
   ]
  },
  {
   "cell_type": "code",
   "execution_count": 115,
   "metadata": {},
   "outputs": [
    {
     "data": {
      "text/plain": [
       "part_of                                  1077013\n",
       "involved_in                               327315\n",
       "enables                                   243061\n",
       "has_input                                 218486\n",
       "in_taxon                                  218079\n",
       "has_output                                215947\n",
       "associated_with                           160317\n",
       "regulates_NrG                              94641\n",
       "causes                                     72826\n",
       "treats                                     41374\n",
       "site_of                                    27216\n",
       "has_part                                   26017\n",
       "regulates                                  17108\n",
       "follows_in_sequence                        10363\n",
       "presents                                    8566\n",
       "fucntion_altered_in                         4716\n",
       "positively_regulates                        1665\n",
       "agonist                                     1326\n",
       "antagonist                                  1085\n",
       "enzyme inhibitor                             992\n",
       "negatively_regulates                         725\n",
       "disrupts                                     662\n",
       "disrupted_in                                 611\n",
       "channel blocker                              287\n",
       "allosteric modulator                         156\n",
       "channel activator activity                     3\n",
       "protein-protein interaction inhibitor          1\n",
       "Neutralizing antibody                          1\n",
       "localized_to                                   1\n",
       "Name: type, dtype: int64"
      ]
     },
     "execution_count": 115,
     "metadata": {},
     "output_type": "execute_result"
    }
   ],
   "source": [
    "all_edges_out_filt['type'].value_counts()"
   ]
  },
  {
   "cell_type": "code",
   "execution_count": 116,
   "metadata": {},
   "outputs": [
    {
     "data": {
      "text/plain": [
       "Index(['start_id', 'end_id', 'type', 'dsrc_type', 'comp_type', 'p_val',\n",
       "       'adj_p', 'source', 'license', 'experiments', 'support_type', 'pmids'],\n",
       "      dtype='object')"
      ]
     },
     "execution_count": 116,
     "metadata": {},
     "output_type": "execute_result"
    }
   ],
   "source": [
    "all_edges_out_filt.columns"
   ]
  },
  {
   "cell_type": "code",
   "execution_count": 117,
   "metadata": {},
   "outputs": [
    {
     "data": {
      "text/plain": [
       "source                           dsrc_type            \n",
       "ComplexPortal                    curated                     2779\n",
       "ComplexPortal|Reactome           curated                     1315\n",
       "Gene Ontology                    computed                   40872\n",
       "                                 curated                     6820\n",
       "                                 computed|curated             102\n",
       "Gene Ontology|Reactome           curated                       36\n",
       "Gene Ontology|Reactome|WikiData  computed|curated           29459\n",
       "Gene Ontology|WikiData           computed|curated          147226\n",
       "                                 computed                   92203\n",
       "InterPro                         curated                    25416\n",
       "Reactome                         curated                  1057148\n",
       "                                 computed                  252105\n",
       "Reactome|WikiData                crowd_sourced|curated       5637\n",
       "                                 computed|curated            1770\n",
       "WikiData                         computed                  685118\n",
       "                                 crowd_sourced             276931\n",
       "ensembl                          computed                   28426\n",
       "miRTarBase                       curated                    94641\n",
       "Name: dsrc_type, dtype: int64"
      ]
     },
     "execution_count": 117,
     "metadata": {},
     "output_type": "execute_result"
    }
   ],
   "source": [
    "all_edges_out_filt.groupby('source')['dsrc_type'].value_counts()"
   ]
  },
  {
   "cell_type": "markdown",
   "metadata": {},
   "source": [
    "# Save"
   ]
  },
  {
   "cell_type": "code",
   "execution_count": 118,
   "metadata": {},
   "outputs": [],
   "source": [
    "this_name = '05a_GO_Annotations'"
   ]
  },
  {
   "cell_type": "code",
   "execution_count": 119,
   "metadata": {},
   "outputs": [],
   "source": [
    "out_dir = Path('../2_pipeline/').joinpath(this_name).joinpath('out').resolve()\n",
    "out_dir.mkdir(parents=True, exist_ok=True)"
   ]
  },
  {
   "cell_type": "code",
   "execution_count": 120,
   "metadata": {},
   "outputs": [],
   "source": [
    "gt.add_colons(new_nodes_df, id_name='identifier').to_csv(out_dir.joinpath('new_nodes.csv'), index=False)\n",
    "gt.add_colons(new_edges_df).to_csv(out_dir.joinpath('new_edges.csv'), index=False)"
   ]
  },
  {
   "cell_type": "code",
   "execution_count": 121,
   "metadata": {},
   "outputs": [],
   "source": [
    "all_nodes_out.to_csv(out_dir.joinpath('nodes.csv'), index=False)\n",
    "filt_nodes_out.to_csv(out_dir.joinpath('nodes_filt.csv'), index=False)\n",
    "\n",
    "all_edges_out_filt.to_csv(out_dir.joinpath('edges.csv'), index=False)"
   ]
  }
 ],
 "metadata": {
  "kernelspec": {
   "display_name": "Python 3",
   "language": "python",
   "name": "python3"
  },
  "language_info": {
   "codemirror_mode": {
    "name": "ipython",
    "version": 3
   },
   "file_extension": ".py",
   "mimetype": "text/x-python",
   "name": "python",
   "nbconvert_exporter": "python",
   "pygments_lexer": "ipython3",
   "version": "3.7.5"
  }
 },
 "nbformat": 4,
 "nbformat_minor": 2
}
