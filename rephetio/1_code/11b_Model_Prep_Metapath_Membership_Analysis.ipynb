{
 "cells": [
  {
   "cell_type": "code",
   "execution_count": 1,
   "metadata": {},
   "outputs": [
    {
     "name": "stderr",
     "output_type": "stream",
     "text": [
      "/opt/mmayers/software/anaconda3/envs/ml/lib/python3.6/site-packages/data_tools/df_processing.py:4: TqdmExperimentalWarning: Using `tqdm.autonotebook.tqdm` in notebook mode. Use `tqdm.tqdm` instead to force console mode (e.g. in jupyter console)\n",
      "  from tqdm.autonotebook import tqdm\n"
     ]
    }
   ],
   "source": [
    "import os\n",
    "import numpy as np\n",
    "import pandas as pd\n",
    "from pathlib import Path\n",
    "from tqdm.notebook import tqdm\n",
    "import data_tools.graphs as gt\n",
    "from hetnet_ml.extractor import MatrixFormattedGraph"
   ]
  },
  {
   "cell_type": "code",
   "execution_count": 2,
   "metadata": {
    "scrolled": false
   },
   "outputs": [],
   "source": [
    "man_dir = Path('../0_data/manual/').resolve()\n",
    "load_dir = Path('../2_pipeline/11a_Model_Prep_Holdout_Set/out/').resolve()"
   ]
  },
  {
   "cell_type": "code",
   "execution_count": 3,
   "metadata": {},
   "outputs": [],
   "source": [
    "nodes = pd.read_csv(load_dir.joinpath('nodes.csv'), dtype=str)\n",
    "edges = pd.read_csv(load_dir.joinpath('edges.csv'), dtype=str)"
   ]
  },
  {
   "cell_type": "code",
   "execution_count": 4,
   "metadata": {},
   "outputs": [
    {
     "data": {
      "text/html": [
       "<div>\n",
       "<style scoped>\n",
       "    .dataframe tbody tr th:only-of-type {\n",
       "        vertical-align: middle;\n",
       "    }\n",
       "\n",
       "    .dataframe tbody tr th {\n",
       "        vertical-align: top;\n",
       "    }\n",
       "\n",
       "    .dataframe thead th {\n",
       "        text-align: right;\n",
       "    }\n",
       "</style>\n",
       "<table border=\"1\" class=\"dataframe\">\n",
       "  <thead>\n",
       "    <tr style=\"text-align: right;\">\n",
       "      <th></th>\n",
       "      <th>id</th>\n",
       "      <th>name</th>\n",
       "      <th>label</th>\n",
       "      <th>xrefs</th>\n",
       "      <th>source</th>\n",
       "    </tr>\n",
       "  </thead>\n",
       "  <tbody>\n",
       "    <tr>\n",
       "      <th>0</th>\n",
       "      <td>UBERON:0000002</td>\n",
       "      <td>cervix</td>\n",
       "      <td>AnatomicalEntity</td>\n",
       "      <td>MESH:D002584|UBERON:0000002</td>\n",
       "      <td>NaN</td>\n",
       "    </tr>\n",
       "    <tr>\n",
       "      <th>1</th>\n",
       "      <td>UBERON:0000004</td>\n",
       "      <td>human nose</td>\n",
       "      <td>AnatomicalEntity</td>\n",
       "      <td>MESH:D009666|UBERON:0000004</td>\n",
       "      <td>NaN</td>\n",
       "    </tr>\n",
       "  </tbody>\n",
       "</table>\n",
       "</div>"
      ],
      "text/plain": [
       "               id        name             label                        xrefs  \\\n",
       "0  UBERON:0000002      cervix  AnatomicalEntity  MESH:D002584|UBERON:0000002   \n",
       "1  UBERON:0000004  human nose  AnatomicalEntity  MESH:D009666|UBERON:0000004   \n",
       "\n",
       "  source  \n",
       "0    NaN  \n",
       "1    NaN  "
      ]
     },
     "execution_count": 4,
     "metadata": {},
     "output_type": "execute_result"
    }
   ],
   "source": [
    "nodes.head(2)"
   ]
  },
  {
   "cell_type": "code",
   "execution_count": 5,
   "metadata": {},
   "outputs": [
    {
     "data": {
      "text/plain": [
       "96"
      ]
     },
     "execution_count": 5,
     "metadata": {},
     "output_type": "execute_result"
    }
   ],
   "source": [
    "edges['type'].nunique()"
   ]
  },
  {
   "cell_type": "code",
   "execution_count": 6,
   "metadata": {},
   "outputs": [
    {
     "data": {
      "text/plain": [
       "29641"
      ]
     },
     "execution_count": 6,
     "metadata": {},
     "output_type": "execute_result"
    }
   ],
   "source": [
    "mps = gt.dataframes_to_metagraph(nodes, edges).extract_metapaths('ChemicalSubstance', 'Disease', 4)\n",
    "mps = [mp for mp in mps if len(mp) > 1]\n",
    "len(mps)"
   ]
  },
  {
   "cell_type": "code",
   "execution_count": 7,
   "metadata": {},
   "outputs": [],
   "source": [
    "mps = [mp for mp in mps if len(mp) > 1]"
   ]
  },
  {
   "cell_type": "code",
   "execution_count": 8,
   "metadata": {},
   "outputs": [
    {
     "data": {
      "text/plain": [
       "CaAawD"
      ]
     },
     "execution_count": 8,
     "metadata": {},
     "output_type": "execute_result"
    }
   ],
   "source": [
    "mps[0]"
   ]
  },
  {
   "cell_type": "code",
   "execution_count": 9,
   "metadata": {},
   "outputs": [],
   "source": [
    "e_info = pd.read_csv(man_dir.joinpath('edge_semtypes.csv'))\n",
    "directed_map = e_info.set_index('fwd_edge')['directed']"
   ]
  },
  {
   "cell_type": "code",
   "execution_count": 10,
   "metadata": {},
   "outputs": [
    {
     "data": {
      "application/vnd.jupyter.widget-view+json": {
       "model_id": "ad990cd767664f03a7bb9c5fc0cb9858",
       "version_major": 2,
       "version_minor": 0
      },
      "text/plain": [
       "HBox(children=(FloatProgress(value=0.0, max=29641.0), HTML(value='')))"
      ]
     },
     "metadata": {},
     "output_type": "display_data"
    },
    {
     "name": "stdout",
     "output_type": "stream",
     "text": [
      "\n"
     ]
    }
   ],
   "source": [
    "similarity_paths_check = []\n",
    "\n",
    "for mp in tqdm(mps):\n",
    "    if len(mp) < 2:\n",
    "        similarity_paths_check.append(True)\n",
    "        continue\n",
    "    this_path = []\n",
    "    for label in ['ChemicalSubstance']:\n",
    "        this_path.append(gt.is_similarity(mp, ['ChemicalSubstance'], directed_map))\n",
    "    this_path.append(gt.is_similarity(mp, 'Disease', directed_map, max_repeats=1))\n",
    "    \n",
    "    # Don't want CtXaYzD edges.. Ct (and Cm) edges should be banned...\n",
    "    # Though not strictly similarity edges, they have heavy implications for Disease Phenotype similarity\n",
    "    bl_edge = ['Ct', 'Cm', 'Cdg', 'Cpl', 'Cpv']\n",
    "    for bl in bl_edge:\n",
    "        if mp.abbrev.startswith(bl) or mp.abbrev.endswith('aw'+bl+'D'):\n",
    "            this_path.append(True)\n",
    "    \n",
    "    similarity_paths_check.append(sum(this_path) > 0)"
   ]
  },
  {
   "cell_type": "code",
   "execution_count": 11,
   "metadata": {},
   "outputs": [
    {
     "data": {
      "text/plain": [
       "13158"
      ]
     },
     "execution_count": 11,
     "metadata": {},
     "output_type": "execute_result"
    }
   ],
   "source": [
    "non_sim_mps = [mp for mp, sim in zip(mps, similarity_paths_check) if not sim]\n",
    "len(non_sim_mps)"
   ]
  },
  {
   "cell_type": "markdown",
   "metadata": {},
   "source": [
    "## Routine for extracting information"
   ]
  },
  {
   "cell_type": "code",
   "execution_count": 13,
   "metadata": {},
   "outputs": [],
   "source": [
    "from copy import deepcopy\n",
    "\n",
    "def piecewise_extraction(function, to_split, block_size=1000, **params):\n",
    "    \n",
    "    assert type(to_split) == str and to_split in params\n",
    "    \n",
    "    # Won't want progress bars for each subsetx\n",
    "    params['verbose'] = False\n",
    "    \n",
    "    # Retain a copy of the original parameters\n",
    "    full_params = deepcopy(params)    \n",
    "    total = len(params[to_split])\n",
    "    \n",
    "    # Determine the number of iterations needed\n",
    "    num_iter = total // block_size\n",
    "    if total % block_size != 0:\n",
    "        num_iter += 1\n",
    "    \n",
    "    all_results = []\n",
    "    for i in tqdm(range(num_iter)):\n",
    "        \n",
    "        # Get the start and end indicies\n",
    "        start = i * block_size\n",
    "        end = (i+1) * block_size\n",
    "        \n",
    "        # End can't be larger than the total number items\n",
    "        if end > total:\n",
    "            end = total\n",
    "        \n",
    "        # Subset the paramter of interest\n",
    "        params[to_split] = full_params[to_split][start: end]\n",
    "        \n",
    "        # Get the funciton results\n",
    "        all_results.append(function(**params))\n",
    "    \n",
    "    return pd.concat(all_results, sort=False, ignore_index=True)"
   ]
  },
  {
   "cell_type": "code",
   "execution_count": 14,
   "metadata": {},
   "outputs": [
    {
     "name": "stdout",
     "output_type": "stream",
     "text": [
      "Processing node and edge data...\n",
      "Initializing metagraph...\n",
      "Generating adjacency matrices...\n"
     ]
    },
    {
     "name": "stderr",
     "output_type": "stream",
     "text": [
      "100%|██████████| 96/96 [02:02<00:00,  1.28s/it]\n"
     ]
    },
    {
     "name": "stdout",
     "output_type": "stream",
     "text": [
      "\n",
      "Determining degrees for each node and metaedge\n"
     ]
    },
    {
     "name": "stderr",
     "output_type": "stream",
     "text": [
      "100%|██████████| 96/96 [00:31<00:00,  3.06it/s]\n"
     ]
    },
    {
     "name": "stdout",
     "output_type": "stream",
     "text": [
      "\n",
      "Weighting matrices by degree with dampening factor 0.4...\n"
     ]
    },
    {
     "name": "stderr",
     "output_type": "stream",
     "text": [
      "100%|██████████| 96/96 [00:01<00:00, 49.73it/s]\n"
     ]
    }
   ],
   "source": [
    "mg = MatrixFormattedGraph(nodes, edges, 'ChemicalSubstance', 'Disease', max_length=4, w=0.4, n_jobs=30)"
   ]
  },
  {
   "cell_type": "markdown",
   "metadata": {},
   "source": [
    "# Memory requirement estimates\n",
    "\n",
    "## Estimate on memory required to extract all Compound-Disease Pairs"
   ]
  },
  {
   "cell_type": "code",
   "execution_count": 15,
   "metadata": {},
   "outputs": [],
   "source": [
    "float_size = 32 # bits\n",
    "bits_per_gb = 8589934592\n",
    "\n",
    "def print_mem_info(n_comp, n_dis, n_mps):\n",
    "    print(\"{:,} Compounds * {:,} Diseases = {:,} C-D Pairs\".format(n_comp, n_dis,\n",
    "                                                                   n_comp * n_dis))\n",
    "    print(\"{:,} C-D Pairs * {:,} Metapaths = {:,} Matrix Values\".format(n_comp * n_dis,\n",
    "                                                                    n_mps, \n",
    "                                                                    n_comp * n_dis * n_mps))\n",
    "\n",
    "    print('{:1,.1f} GB of matrix values'.format(n_comp * n_dis * n_mps * float_size / (bits_per_gb)))\n",
    "    \n",
    "    print('{:1,.3f} GB per metapath'.format(n_comp * n_dis * float_size / (bits_per_gb)))"
   ]
  },
  {
   "cell_type": "code",
   "execution_count": 16,
   "metadata": {},
   "outputs": [
    {
     "name": "stdout",
     "output_type": "stream",
     "text": [
      "31,947 Compounds * 15,696 Diseases = 501,440,112 C-D Pairs\n",
      "501,440,112 C-D Pairs * 11,443 Metapaths = 5,737,979,201,616 Matrix Values\n",
      "21,375.6 GB of matrix values\n",
      "1.868 GB per metapath\n"
     ]
    }
   ],
   "source": [
    "total_comps = nodes['label'].value_counts()['ChemicalSubstance']\n",
    "total_dis = nodes['label'].value_counts()['Disease']\n",
    "\n",
    "\n",
    "print_mem_info(total_comps, total_dis, len(non_sim_mps))"
   ]
  },
  {
   "cell_type": "code",
   "execution_count": 17,
   "metadata": {},
   "outputs": [
    {
     "data": {
      "application/vnd.jupyter.widget-view+json": {
       "model_id": "5b29493c47cd40719083c3ca43d2b6f0",
       "version_major": 2,
       "version_minor": 0
      },
      "text/plain": [
       "HBox(children=(FloatProgress(value=0.0, max=149.0), HTML(value='')))"
      ]
     },
     "metadata": {},
     "output_type": "display_data"
    },
    {
     "name": "stdout",
     "output_type": "stream",
     "text": [
      "\n",
      "CPU times: user 31min 47s, sys: 8min 26s, total: 40min 13s\n",
      "Wall time: 1h 49min 32s\n"
     ]
    }
   ],
   "source": [
    "%%time\n",
    "all_mp_counts = []\n",
    "\n",
    "mp_counts = piecewise_extraction(function=mg.extract_metapath_pair_counts, \n",
    "                                 to_split='metapaths', block_size=200,\n",
    "                                 metapaths=[mp.abbrev for mp in mps], \n",
    "                                 start_nodes='ChemicalSubstance', \n",
    "                                 end_nodes='Disease', \n",
    "                                 n_jobs=30)\n",
    "\n",
    "mp_counts['subset'] = 'all_pairs'\n",
    "mp_counts['frac'] = mp_counts['pair_count'] / (total_comps*total_dis)\n",
    "all_mp_counts.append(mp_counts)"
   ]
  },
  {
   "cell_type": "code",
   "execution_count": 18,
   "metadata": {},
   "outputs": [
    {
     "data": {
      "text/html": [
       "<div>\n",
       "<style scoped>\n",
       "    .dataframe tbody tr th:only-of-type {\n",
       "        vertical-align: middle;\n",
       "    }\n",
       "\n",
       "    .dataframe tbody tr th {\n",
       "        vertical-align: top;\n",
       "    }\n",
       "\n",
       "    .dataframe thead th {\n",
       "        text-align: right;\n",
       "    }\n",
       "</style>\n",
       "<table border=\"1\" class=\"dataframe\">\n",
       "  <thead>\n",
       "    <tr style=\"text-align: right;\">\n",
       "      <th></th>\n",
       "      <th>mp</th>\n",
       "      <th>pair_count</th>\n",
       "      <th>subset</th>\n",
       "      <th>frac</th>\n",
       "    </tr>\n",
       "  </thead>\n",
       "  <tbody>\n",
       "    <tr>\n",
       "      <th>0</th>\n",
       "      <td>CaAawD</td>\n",
       "      <td>19950</td>\n",
       "      <td>all_pairs</td>\n",
       "      <td>0.00004</td>\n",
       "    </tr>\n",
       "    <tr>\n",
       "      <th>1</th>\n",
       "      <td>CaAsoD</td>\n",
       "      <td>0</td>\n",
       "      <td>all_pairs</td>\n",
       "      <td>0.00000</td>\n",
       "    </tr>\n",
       "  </tbody>\n",
       "</table>\n",
       "</div>"
      ],
      "text/plain": [
       "       mp  pair_count     subset     frac\n",
       "0  CaAawD       19950  all_pairs  0.00004\n",
       "1  CaAsoD           0  all_pairs  0.00000"
      ]
     },
     "execution_count": 18,
     "metadata": {},
     "output_type": "execute_result"
    }
   ],
   "source": [
    "mp_counts.head(2)"
   ]
  },
  {
   "cell_type": "code",
   "execution_count": 19,
   "metadata": {},
   "outputs": [
    {
     "data": {
      "text/plain": [
       "'Percent of paths populated: 61.66%'"
      ]
     },
     "execution_count": 19,
     "metadata": {},
     "output_type": "execute_result"
    }
   ],
   "source": [
    "'Percent of paths populated: {:1.2%}'.format((mp_counts['pair_count'] != 0).sum() / len(mp_counts))"
   ]
  },
  {
   "cell_type": "markdown",
   "metadata": {},
   "source": [
    "## All potential training Positives"
   ]
  },
  {
   "cell_type": "code",
   "execution_count": 20,
   "metadata": {},
   "outputs": [
    {
     "name": "stdout",
     "output_type": "stream",
     "text": [
      "8,377 Compounds * 5,615 Diseases = 47,036,855 C-D Pairs\n",
      "47,036,855 C-D Pairs * 11,443 Metapaths = 538,242,731,765 Matrix Values\n",
      "2,005.1 GB of matrix values\n",
      "0.175 GB per metapath\n"
     ]
    }
   ],
   "source": [
    "keep_comps = set(edges.query('type == \"treats_CtD\"')['start_id'])\n",
    "keep_dis = set(edges.query('type == \"treats_CtD\"')['end_id'])\n",
    "\n",
    "print_mem_info(len(keep_comps), len(keep_dis), len(non_sim_mps))"
   ]
  },
  {
   "cell_type": "code",
   "execution_count": 21,
   "metadata": {},
   "outputs": [
    {
     "data": {
      "application/vnd.jupyter.widget-view+json": {
       "model_id": "10efc2e6927d41a79090ecf562dddd54",
       "version_major": 2,
       "version_minor": 0
      },
      "text/plain": [
       "HBox(children=(FloatProgress(value=0.0, max=60.0), HTML(value='')))"
      ]
     },
     "metadata": {},
     "output_type": "display_data"
    },
    {
     "name": "stdout",
     "output_type": "stream",
     "text": [
      "\n",
      "CPU times: user 19min 30s, sys: 4min 2s, total: 23min 33s\n",
      "Wall time: 55min 52s\n"
     ]
    }
   ],
   "source": [
    "%%time\n",
    "mp_counts = piecewise_extraction(function=mg.extract_metapath_pair_counts, \n",
    "                                 to_split='metapaths', block_size=500,\n",
    "                                 metapaths=[mp.abbrev for mp in mps], \n",
    "                                 start_nodes=list(keep_comps), \n",
    "                                 end_nodes=list(keep_dis), \n",
    "                                 n_jobs=30)\n",
    "\n",
    "mp_counts['subset'] = 'all_pos'\n",
    "mp_counts['frac'] = mp_counts['pair_count'] / (len(keep_comps)*len(keep_dis))\n",
    "all_mp_counts.append(mp_counts)"
   ]
  },
  {
   "cell_type": "code",
   "execution_count": 22,
   "metadata": {},
   "outputs": [
    {
     "data": {
      "text/html": [
       "<div>\n",
       "<style scoped>\n",
       "    .dataframe tbody tr th:only-of-type {\n",
       "        vertical-align: middle;\n",
       "    }\n",
       "\n",
       "    .dataframe tbody tr th {\n",
       "        vertical-align: top;\n",
       "    }\n",
       "\n",
       "    .dataframe thead th {\n",
       "        text-align: right;\n",
       "    }\n",
       "</style>\n",
       "<table border=\"1\" class=\"dataframe\">\n",
       "  <thead>\n",
       "    <tr style=\"text-align: right;\">\n",
       "      <th></th>\n",
       "      <th>mp</th>\n",
       "      <th>pair_count</th>\n",
       "      <th>subset</th>\n",
       "      <th>frac</th>\n",
       "    </tr>\n",
       "  </thead>\n",
       "  <tbody>\n",
       "    <tr>\n",
       "      <th>0</th>\n",
       "      <td>CaAawD</td>\n",
       "      <td>8222</td>\n",
       "      <td>all_pos</td>\n",
       "      <td>0.000175</td>\n",
       "    </tr>\n",
       "    <tr>\n",
       "      <th>1</th>\n",
       "      <td>CaAsoD</td>\n",
       "      <td>0</td>\n",
       "      <td>all_pos</td>\n",
       "      <td>0.000000</td>\n",
       "    </tr>\n",
       "  </tbody>\n",
       "</table>\n",
       "</div>"
      ],
      "text/plain": [
       "       mp  pair_count   subset      frac\n",
       "0  CaAawD        8222  all_pos  0.000175\n",
       "1  CaAsoD           0  all_pos  0.000000"
      ]
     },
     "execution_count": 22,
     "metadata": {},
     "output_type": "execute_result"
    }
   ],
   "source": [
    "mp_counts.head(2)"
   ]
  },
  {
   "cell_type": "code",
   "execution_count": 23,
   "metadata": {},
   "outputs": [
    {
     "data": {
      "text/plain": [
       "'Percent of paths populated: 58.25%'"
      ]
     },
     "execution_count": 23,
     "metadata": {},
     "output_type": "execute_result"
    }
   ],
   "source": [
    "'Percent of paths populated: {:1.2%}'.format((mp_counts['pair_count'] != 0).sum() / len(mp_counts))"
   ]
  },
  {
   "cell_type": "markdown",
   "metadata": {},
   "source": [
    "## Reframe Compounds and Reframe Treated Diseases\n",
    "\n"
   ]
  },
  {
   "cell_type": "code",
   "execution_count": 24,
   "metadata": {},
   "outputs": [
    {
     "data": {
      "text/plain": [
       "5988"
      ]
     },
     "execution_count": 24,
     "metadata": {},
     "output_type": "execute_result"
    }
   ],
   "source": [
    "ref_c = nodes.dropna(subset=['source'])['id'].tolist()\n",
    "len(ref_c)"
   ]
  },
  {
   "cell_type": "code",
   "execution_count": 25,
   "metadata": {},
   "outputs": [
    {
     "name": "stdout",
     "output_type": "stream",
     "text": [
      "5,988 Compounds * 5,099 Diseases = 30,532,812 C-D Pairs\n",
      "30,532,812 C-D Pairs * 11,443 Metapaths = 349,386,967,716 Matrix Values\n",
      "1,301.6 GB of matrix values\n",
      "0.114 GB per metapath\n"
     ]
    }
   ],
   "source": [
    "keep_comps = set(ref_c)\n",
    "keep_dis = set(edges.query('start_id in @ref_c and type == \"treats_CtD\"')['end_id'])\n",
    "\n",
    "print_mem_info(len(keep_comps), len(keep_dis), len(non_sim_mps))"
   ]
  },
  {
   "cell_type": "code",
   "execution_count": 26,
   "metadata": {},
   "outputs": [
    {
     "data": {
      "application/vnd.jupyter.widget-view+json": {
       "model_id": "9ac8a31466c0445e89117978c3187b46",
       "version_major": 2,
       "version_minor": 0
      },
      "text/plain": [
       "HBox(children=(FloatProgress(value=0.0, max=30.0), HTML(value='')))"
      ]
     },
     "metadata": {},
     "output_type": "display_data"
    },
    {
     "name": "stdout",
     "output_type": "stream",
     "text": [
      "\n",
      "CPU times: user 10min 21s, sys: 2min 28s, total: 12min 50s\n",
      "Wall time: 42min 23s\n"
     ]
    }
   ],
   "source": [
    "%%time\n",
    "mp_counts = piecewise_extraction(function=mg.extract_metapath_pair_counts, \n",
    "                                 to_split='metapaths', block_size=1000,\n",
    "                                 metapaths=[mp.abbrev for mp in mps], \n",
    "                                 start_nodes=list(keep_comps), \n",
    "                                 end_nodes=list(keep_dis), \n",
    "                                 n_jobs=30)\n",
    "\n",
    "mp_counts['subset'] = 'reframe'\n",
    "mp_counts['frac'] = mp_counts['pair_count'] / (len(keep_comps)*len(keep_dis))\n",
    "all_mp_counts.append(mp_counts)"
   ]
  },
  {
   "cell_type": "code",
   "execution_count": 27,
   "metadata": {},
   "outputs": [
    {
     "data": {
      "text/html": [
       "<div>\n",
       "<style scoped>\n",
       "    .dataframe tbody tr th:only-of-type {\n",
       "        vertical-align: middle;\n",
       "    }\n",
       "\n",
       "    .dataframe tbody tr th {\n",
       "        vertical-align: top;\n",
       "    }\n",
       "\n",
       "    .dataframe thead th {\n",
       "        text-align: right;\n",
       "    }\n",
       "</style>\n",
       "<table border=\"1\" class=\"dataframe\">\n",
       "  <thead>\n",
       "    <tr style=\"text-align: right;\">\n",
       "      <th></th>\n",
       "      <th>mp</th>\n",
       "      <th>pair_count</th>\n",
       "      <th>subset</th>\n",
       "      <th>frac</th>\n",
       "    </tr>\n",
       "  </thead>\n",
       "  <tbody>\n",
       "    <tr>\n",
       "      <th>0</th>\n",
       "      <td>CaAawD</td>\n",
       "      <td>5217</td>\n",
       "      <td>reframe</td>\n",
       "      <td>0.000171</td>\n",
       "    </tr>\n",
       "    <tr>\n",
       "      <th>1</th>\n",
       "      <td>CaAsoD</td>\n",
       "      <td>0</td>\n",
       "      <td>reframe</td>\n",
       "      <td>0.000000</td>\n",
       "    </tr>\n",
       "  </tbody>\n",
       "</table>\n",
       "</div>"
      ],
      "text/plain": [
       "       mp  pair_count   subset      frac\n",
       "0  CaAawD        5217  reframe  0.000171\n",
       "1  CaAsoD           0  reframe  0.000000"
      ]
     },
     "execution_count": 27,
     "metadata": {},
     "output_type": "execute_result"
    }
   ],
   "source": [
    "mp_counts.head(2)"
   ]
  },
  {
   "cell_type": "code",
   "execution_count": 28,
   "metadata": {},
   "outputs": [
    {
     "data": {
      "text/plain": [
       "'Percent of paths populated: 53.37%'"
      ]
     },
     "execution_count": 28,
     "metadata": {},
     "output_type": "execute_result"
    }
   ],
   "source": [
    "'Percent of paths populated: {:1.2%}'.format((mp_counts['pair_count'] != 0).sum() / len(mp_counts))"
   ]
  },
  {
   "cell_type": "markdown",
   "metadata": {},
   "source": [
    "## Ideal Training Subset\n",
    "\n",
    "Ideally we need all compounds and diseases associated with training positives, as well as some negatives."
   ]
  },
  {
   "cell_type": "code",
   "execution_count": 29,
   "metadata": {},
   "outputs": [],
   "source": [
    "neg_frac = 0.1\n",
    "rs = 1234\n",
    "\n",
    "\n",
    "keep_comps = set(edges.query('type == \"treats_CtD\"')['start_id'])\n",
    "keep_comps = (keep_comps | set(nodes.query('id not in @keep_comps and label == \"ChemicalSubstance\"')\n",
    "                                    .sample(frac=neg_frac, random_state=rs)['id']))\n",
    "\n",
    "keep_dis =  set(edges.query('type == \"treats_CtD\"')['end_id'])\n",
    "keep_dis = (keep_dis | set(nodes.query('label == \"Disease\" and id not in @keep_dis')\n",
    "                                .sample(frac=neg_frac, random_state=rs+1)['id']))"
   ]
  },
  {
   "cell_type": "code",
   "execution_count": 30,
   "metadata": {},
   "outputs": [
    {
     "name": "stdout",
     "output_type": "stream",
     "text": [
      "10,734 Compounds * 6,623 Diseases = 71,091,282 C-D Pairs\n",
      "71,091,282 C-D Pairs * 11,443 Metapaths = 813,497,539,926 Matrix Values\n",
      "3,030.5 GB of matrix values\n",
      "0.265 GB per metapath\n"
     ]
    }
   ],
   "source": [
    "print_mem_info(len(keep_comps), len(keep_dis), len(non_sim_mps))"
   ]
  },
  {
   "cell_type": "code",
   "execution_count": 31,
   "metadata": {},
   "outputs": [
    {
     "data": {
      "application/vnd.jupyter.widget-view+json": {
       "model_id": "1726b54a1af942b5ac9c2598218d834f",
       "version_major": 2,
       "version_minor": 0
      },
      "text/plain": [
       "HBox(children=(FloatProgress(value=0.0, max=30.0), HTML(value='')))"
      ]
     },
     "metadata": {},
     "output_type": "display_data"
    },
    {
     "name": "stdout",
     "output_type": "stream",
     "text": [
      "\n",
      "CPU times: user 12min 12s, sys: 2min 44s, total: 14min 57s\n",
      "Wall time: 48min 52s\n"
     ]
    }
   ],
   "source": [
    "%%time\n",
    "mp_counts = piecewise_extraction(function=mg.extract_metapath_pair_counts, \n",
    "                                 to_split='metapaths', block_size=1000,\n",
    "                                 metapaths=[mp.abbrev for mp in mps], \n",
    "                                 start_nodes=list(keep_comps), \n",
    "                                 end_nodes=list(keep_dis), \n",
    "                                 n_jobs=30)\n",
    "\n",
    "mp_counts['subset'] = 'traning_sample'\n",
    "mp_counts['frac'] = mp_counts['pair_count'] / (len(keep_comps)*len(keep_dis))\n",
    "all_mp_counts.append(mp_counts)"
   ]
  },
  {
   "cell_type": "code",
   "execution_count": 32,
   "metadata": {},
   "outputs": [
    {
     "data": {
      "text/html": [
       "<div>\n",
       "<style scoped>\n",
       "    .dataframe tbody tr th:only-of-type {\n",
       "        vertical-align: middle;\n",
       "    }\n",
       "\n",
       "    .dataframe tbody tr th {\n",
       "        vertical-align: top;\n",
       "    }\n",
       "\n",
       "    .dataframe thead th {\n",
       "        text-align: right;\n",
       "    }\n",
       "</style>\n",
       "<table border=\"1\" class=\"dataframe\">\n",
       "  <thead>\n",
       "    <tr style=\"text-align: right;\">\n",
       "      <th></th>\n",
       "      <th>mp</th>\n",
       "      <th>pair_count</th>\n",
       "      <th>subset</th>\n",
       "      <th>frac</th>\n",
       "    </tr>\n",
       "  </thead>\n",
       "  <tbody>\n",
       "    <tr>\n",
       "      <th>0</th>\n",
       "      <td>CaAawD</td>\n",
       "      <td>8572</td>\n",
       "      <td>traning_sample</td>\n",
       "      <td>0.000121</td>\n",
       "    </tr>\n",
       "    <tr>\n",
       "      <th>1</th>\n",
       "      <td>CaAsoD</td>\n",
       "      <td>0</td>\n",
       "      <td>traning_sample</td>\n",
       "      <td>0.000000</td>\n",
       "    </tr>\n",
       "  </tbody>\n",
       "</table>\n",
       "</div>"
      ],
      "text/plain": [
       "       mp  pair_count          subset      frac\n",
       "0  CaAawD        8572  traning_sample  0.000121\n",
       "1  CaAsoD           0  traning_sample  0.000000"
      ]
     },
     "execution_count": 32,
     "metadata": {},
     "output_type": "execute_result"
    }
   ],
   "source": [
    "mp_counts.head(2)"
   ]
  },
  {
   "cell_type": "code",
   "execution_count": 33,
   "metadata": {},
   "outputs": [
    {
     "data": {
      "text/plain": [
       "'Percent of paths populated: 58.67%'"
      ]
     },
     "execution_count": 33,
     "metadata": {},
     "output_type": "execute_result"
    }
   ],
   "source": [
    "'Percent of paths populated: {:1.2%}'.format((mp_counts['pair_count'] != 0).sum() / len(mp_counts))"
   ]
  },
  {
   "cell_type": "markdown",
   "metadata": {},
   "source": [
    "##  All Training Negatives\n",
    "\n",
    "Lastly, lets take a look at all of the potnetial training negatives.  As these are compounds or diseases with no known treatments, its likely that there will be less informaiton known about them"
   ]
  },
  {
   "cell_type": "code",
   "execution_count": 34,
   "metadata": {},
   "outputs": [
    {
     "name": "stdout",
     "output_type": "stream",
     "text": [
      "23,570 Compounds * 10,081 Diseases = 237,609,170 C-D Pairs\n",
      "237,609,170 C-D Pairs * 11,443 Metapaths = 2,718,961,732,310 Matrix Values\n",
      "10,128.9 GB of matrix values\n",
      "0.885 GB per metapath\n"
     ]
    }
   ],
   "source": [
    "pos_comps = set(edges.query('type == \"treats_CtD\"')['start_id'])\n",
    "pos_dis = set(edges.query('type == \"treats_CtD\"')['end_id'])\n",
    "\n",
    "neg_comps = set(nodes.query('label == \"ChemicalSubstance\"')['id']) - pos_comps\n",
    "neg_dis = set(nodes.query('label == \"Disease\"')['id']) - pos_dis\n",
    "\n",
    "print_mem_info(len(neg_comps), len(neg_dis), len(non_sim_mps))"
   ]
  },
  {
   "cell_type": "code",
   "execution_count": 35,
   "metadata": {},
   "outputs": [
    {
     "data": {
      "application/vnd.jupyter.widget-view+json": {
       "model_id": "aef4b2d9088c46eaac33bce6e0dcbcd8",
       "version_major": 2,
       "version_minor": 0
      },
      "text/plain": [
       "HBox(children=(FloatProgress(value=0.0, max=85.0), HTML(value='')))"
      ]
     },
     "metadata": {},
     "output_type": "display_data"
    },
    {
     "name": "stdout",
     "output_type": "stream",
     "text": [
      "\n",
      "CPU times: user 24min 3s, sys: 4min 41s, total: 28min 45s\n",
      "Wall time: 57min 59s\n"
     ]
    }
   ],
   "source": [
    "%%time\n",
    "mp_counts = piecewise_extraction(function=mg.extract_metapath_pair_counts, \n",
    "                                 to_split='metapaths', block_size=350,\n",
    "                                 metapaths=[mp.abbrev for mp in mps], \n",
    "                                 start_nodes=list(neg_comps), \n",
    "                                 end_nodes=list(neg_dis), \n",
    "                                 n_jobs=30)\n",
    "\n",
    "mp_counts['subset'] = 'negative_pairs'\n",
    "mp_counts['frac'] = mp_counts['pair_count'] / (len(keep_comps)*len(keep_dis))\n",
    "all_mp_counts.append(mp_counts)"
   ]
  },
  {
   "cell_type": "code",
   "execution_count": 36,
   "metadata": {},
   "outputs": [
    {
     "data": {
      "text/html": [
       "<div>\n",
       "<style scoped>\n",
       "    .dataframe tbody tr th:only-of-type {\n",
       "        vertical-align: middle;\n",
       "    }\n",
       "\n",
       "    .dataframe tbody tr th {\n",
       "        vertical-align: top;\n",
       "    }\n",
       "\n",
       "    .dataframe thead th {\n",
       "        text-align: right;\n",
       "    }\n",
       "</style>\n",
       "<table border=\"1\" class=\"dataframe\">\n",
       "  <thead>\n",
       "    <tr style=\"text-align: right;\">\n",
       "      <th></th>\n",
       "      <th>mp</th>\n",
       "      <th>pair_count</th>\n",
       "      <th>subset</th>\n",
       "      <th>frac</th>\n",
       "    </tr>\n",
       "  </thead>\n",
       "  <tbody>\n",
       "    <tr>\n",
       "      <th>0</th>\n",
       "      <td>CaAawD</td>\n",
       "      <td>2069</td>\n",
       "      <td>negative_pairs</td>\n",
       "      <td>0.000029</td>\n",
       "    </tr>\n",
       "    <tr>\n",
       "      <th>1</th>\n",
       "      <td>CaAsoD</td>\n",
       "      <td>0</td>\n",
       "      <td>negative_pairs</td>\n",
       "      <td>0.000000</td>\n",
       "    </tr>\n",
       "  </tbody>\n",
       "</table>\n",
       "</div>"
      ],
      "text/plain": [
       "       mp  pair_count          subset      frac\n",
       "0  CaAawD        2069  negative_pairs  0.000029\n",
       "1  CaAsoD           0  negative_pairs  0.000000"
      ]
     },
     "execution_count": 36,
     "metadata": {},
     "output_type": "execute_result"
    }
   ],
   "source": [
    "mp_counts.head(2)"
   ]
  },
  {
   "cell_type": "code",
   "execution_count": 37,
   "metadata": {},
   "outputs": [
    {
     "data": {
      "text/plain": [
       "'Percent of paths populated: 48.19%'"
      ]
     },
     "execution_count": 37,
     "metadata": {},
     "output_type": "execute_result"
    }
   ],
   "source": [
    "'Percent of paths populated: {:1.2%}'.format((mp_counts['pair_count'] != 0).sum() / len(mp_counts))"
   ]
  },
  {
   "cell_type": "markdown",
   "metadata": {},
   "source": [
    "## Plot some of the results"
   ]
  },
  {
   "cell_type": "code",
   "execution_count": 38,
   "metadata": {},
   "outputs": [],
   "source": [
    "%matplotlib inline\n",
    "import seaborn as sns\n",
    "from matplotlib import pyplot as plt\n",
    "from data_tools.plotting import count_plot_h"
   ]
  },
  {
   "cell_type": "code",
   "execution_count": 39,
   "metadata": {},
   "outputs": [],
   "source": [
    "non_sim_mp_names = [mp.abbrev for mp in non_sim_mps]\n",
    "\n",
    "all_mp_counts = pd.concat(all_mp_counts, sort=False, ignore_index=True)\n",
    "all_mp_counts['sim_mp'] = all_mp_counts['mp'].apply(lambda m: m not in non_sim_mp_names)\n",
    "\n",
    "no_sim_mp_counts = all_mp_counts.query('sim_mp == False')\n",
    "sim_mp_counts = all_mp_counts.query('sim_mp == True')"
   ]
  },
  {
   "cell_type": "code",
   "execution_count": 40,
   "metadata": {},
   "outputs": [
    {
     "data": {
      "image/png": "[encoded data removed]",
      "text/plain": [
       "<Figure size 432x288 with 1 Axes>"
      ]
     },
     "metadata": {
      "needs_background": "light"
     },
     "output_type": "display_data"
    }
   ],
   "source": [
    "qr = no_sim_mp_counts.query('pair_count > 0')\n",
    "frac = qr['subset'].value_counts() / no_sim_mp_counts['mp'].nunique()\n",
    "\n",
    "count_plot_h(frac, qr['subset'].value_counts())\n",
    "plt.xlim(0, 1)\n",
    "plt.xlabel('Fraction of Nonzero')\n",
    "plt.annotate('Total Metapaths:\\n    {:,}'.format(no_sim_mp_counts['mp'].nunique()), (.7, 1))\n",
    "plt.title('Fraction Nonzero Metapaths for different Compound Disease Subsets');"
   ]
  },
  {
   "cell_type": "code",
   "execution_count": 41,
   "metadata": {},
   "outputs": [
    {
     "data": {
      "image/png": "[encoded data removed]",
      "text/plain": [
       "<Figure size 432x288 with 1 Axes>"
      ]
     },
     "metadata": {
      "needs_background": "light"
     },
     "output_type": "display_data"
    }
   ],
   "source": [
    "qr = sim_mp_counts.query('pair_count > 0')\n",
    "frac = qr['subset'].value_counts() / sim_mp_counts['mp'].nunique()\n",
    "\n",
    "count_plot_h(frac, qr['subset'].value_counts())\n",
    "plt.xlim(0, 1)\n",
    "plt.xlabel('Fraction of Nonzero')\n",
    "plt.annotate('Total Metapaths:\\n    {:,}'.format(sim_mp_counts['mp'].nunique()), (.7, 1))\n",
    "plt.title('Fraction Nonzero Similarity Metapaths for different Compound Disease Subsets');"
   ]
  },
  {
   "cell_type": "code",
   "execution_count": 42,
   "metadata": {},
   "outputs": [
    {
     "data": {
      "image/png": "[encoded data removed]",
      "text/plain": [
       "<Figure size 432x288 with 1 Axes>"
      ]
     },
     "metadata": {
      "needs_background": "light"
     },
     "output_type": "display_data"
    }
   ],
   "source": [
    "sns.distplot((no_sim_mp_counts.query('subset == \"all_pairs\" and frac > 0')['frac']), label='all_pairs');\n",
    "sns.distplot((no_sim_mp_counts.query('subset == \"all_pos\" and frac > 0')['frac']), label='all_pos');\n",
    "sns.distplot((no_sim_mp_counts.query('subset == \"reframe\" and frac > 0')['frac']), label='reframe');\n",
    "sns.distplot((no_sim_mp_counts.query('subset == \"traning_sample\" and frac > 0')['frac']), label='training')\n",
    "plt.legend()\n",
    "plt.xlabel('fraction of C-D pairs that contain metapath')\n",
    "plt.ylabel('frequency')\n",
    "plt.title('Distribution of Metapath Membership by subset');"
   ]
  },
  {
   "cell_type": "code",
   "execution_count": 43,
   "metadata": {},
   "outputs": [
    {
     "data": {
      "image/png": "[encoded data removed]",
      "text/plain": [
       "<Figure size 432x288 with 1 Axes>"
      ]
     },
     "metadata": {
      "needs_background": "light"
     },
     "output_type": "display_data"
    }
   ],
   "source": [
    "sns.distplot(np.log(no_sim_mp_counts.query('subset == \"all_pairs\" and frac > 0')['frac']), label='all_pairs');\n",
    "sns.distplot(np.log(no_sim_mp_counts.query('subset == \"all_pos\" and frac > 0')['frac']), label='all_pos');\n",
    "sns.distplot(np.log(no_sim_mp_counts.query('subset == \"reframe\" and frac > 0')['frac']), label='reframe');\n",
    "sns.distplot(np.log(no_sim_mp_counts.query('subset == \"traning_sample\" and frac > 0')['frac']), label='training')\n",
    "sns.distplot(np.log(no_sim_mp_counts.query('subset == \"negative_pairs\" and frac > 0')['frac']), label='all_neg')\n",
    "\n",
    "plt.legend()\n",
    "plt.xlabel('log fraction of C-D pairs that contain metapath')\n",
    "plt.ylabel('frequency')\n",
    "plt.title('Distribution of Metapath Membership by subset');"
   ]
  },
  {
   "cell_type": "code",
   "execution_count": 44,
   "metadata": {},
   "outputs": [
    {
     "data": {
      "image/png": "[encoded data removed]",
      "text/plain": [
       "<Figure size 432x288 with 1 Axes>"
      ]
     },
     "metadata": {
      "needs_background": "light"
     },
     "output_type": "display_data"
    }
   ],
   "source": [
    "sns.distplot(np.log(sim_mp_counts.query('subset == \"all_pairs\" and frac > 0')['frac']), label='all_pairs');\n",
    "sns.distplot(np.log(sim_mp_counts.query('subset == \"all_pos\" and frac > 0')['frac']), label='all_pos');\n",
    "sns.distplot(np.log(sim_mp_counts.query('subset == \"reframe\" and frac > 0')['frac']), label='reframe');\n",
    "sns.distplot(np.log(sim_mp_counts.query('subset == \"traning_sample\" and frac > 0')['frac']), label='training')\n",
    "sns.distplot(np.log(sim_mp_counts.query('subset == \"negative_pairs\" and frac > 0')['frac']), label='all_neg')\n",
    "plt.legend()\n",
    "plt.xlabel('log fraction of C-D pairs that contain metapath')\n",
    "plt.ylabel('frequency')\n",
    "plt.title('Distribution of Similarity Metapath Membership by subset');"
   ]
  },
  {
   "cell_type": "code",
   "execution_count": 45,
   "metadata": {},
   "outputs": [
    {
     "data": {
      "text/html": [
       "<div>\n",
       "<style scoped>\n",
       "    .dataframe tbody tr th:only-of-type {\n",
       "        vertical-align: middle;\n",
       "    }\n",
       "\n",
       "    .dataframe tbody tr th {\n",
       "        vertical-align: top;\n",
       "    }\n",
       "\n",
       "    .dataframe thead th {\n",
       "        text-align: right;\n",
       "    }\n",
       "</style>\n",
       "<table border=\"1\" class=\"dataframe\">\n",
       "  <thead>\n",
       "    <tr style=\"text-align: right;\">\n",
       "      <th></th>\n",
       "      <th>mp</th>\n",
       "      <th>pair_count</th>\n",
       "      <th>subset</th>\n",
       "      <th>frac</th>\n",
       "      <th>sim_mp</th>\n",
       "    </tr>\n",
       "  </thead>\n",
       "  <tbody>\n",
       "    <tr>\n",
       "      <th>16248</th>\n",
       "      <td>CinGmDawBPawD</td>\n",
       "      <td>111130382</td>\n",
       "      <td>all_pairs</td>\n",
       "      <td>0.221622</td>\n",
       "      <td>True</td>\n",
       "    </tr>\n",
       "    <tr>\n",
       "      <th>16603</th>\n",
       "      <td>CinGmPawBPawD</td>\n",
       "      <td>108829531</td>\n",
       "      <td>all_pairs</td>\n",
       "      <td>0.217034</td>\n",
       "      <td>False</td>\n",
       "    </tr>\n",
       "    <tr>\n",
       "      <th>16033</th>\n",
       "      <td>CinGaCinBPawD</td>\n",
       "      <td>103574013</td>\n",
       "      <td>all_pairs</td>\n",
       "      <td>0.206553</td>\n",
       "      <td>True</td>\n",
       "    </tr>\n",
       "    <tr>\n",
       "      <th>16119</th>\n",
       "      <td>CinGinCinBPawD</td>\n",
       "      <td>103467977</td>\n",
       "      <td>all_pairs</td>\n",
       "      <td>0.206342</td>\n",
       "      <td>True</td>\n",
       "    </tr>\n",
       "    <tr>\n",
       "      <th>16031</th>\n",
       "      <td>CinGaCaBPawD</td>\n",
       "      <td>101548940</td>\n",
       "      <td>all_pairs</td>\n",
       "      <td>0.202515</td>\n",
       "      <td>True</td>\n",
       "    </tr>\n",
       "  </tbody>\n",
       "</table>\n",
       "</div>"
      ],
      "text/plain": [
       "                   mp  pair_count     subset      frac  sim_mp\n",
       "16248   CinGmDawBPawD   111130382  all_pairs  0.221622    True\n",
       "16603   CinGmPawBPawD   108829531  all_pairs  0.217034   False\n",
       "16033   CinGaCinBPawD   103574013  all_pairs  0.206553    True\n",
       "16119  CinGinCinBPawD   103467977  all_pairs  0.206342    True\n",
       "16031    CinGaCaBPawD   101548940  all_pairs  0.202515    True"
      ]
     },
     "execution_count": 45,
     "metadata": {},
     "output_type": "execute_result"
    }
   ],
   "source": [
    "all_mp_counts.query('subset == \"all_pairs\"').sort_values('frac', ascending=False).head()"
   ]
  },
  {
   "cell_type": "code",
   "execution_count": 46,
   "metadata": {},
   "outputs": [
    {
     "data": {
      "text/html": [
       "<div>\n",
       "<style scoped>\n",
       "    .dataframe tbody tr th:only-of-type {\n",
       "        vertical-align: middle;\n",
       "    }\n",
       "\n",
       "    .dataframe tbody tr th {\n",
       "        vertical-align: top;\n",
       "    }\n",
       "\n",
       "    .dataframe thead th {\n",
       "        text-align: right;\n",
       "    }\n",
       "</style>\n",
       "<table border=\"1\" class=\"dataframe\">\n",
       "  <thead>\n",
       "    <tr style=\"text-align: right;\">\n",
       "      <th></th>\n",
       "      <th>mp</th>\n",
       "      <th>pair_count</th>\n",
       "      <th>subset</th>\n",
       "      <th>frac</th>\n",
       "      <th>sim_mp</th>\n",
       "    </tr>\n",
       "  </thead>\n",
       "  <tbody>\n",
       "    <tr>\n",
       "      <th>16603</th>\n",
       "      <td>CinGmPawBPawD</td>\n",
       "      <td>108829531</td>\n",
       "      <td>all_pairs</td>\n",
       "      <td>0.217034</td>\n",
       "      <td>False</td>\n",
       "    </tr>\n",
       "    <tr>\n",
       "      <th>19172</th>\n",
       "      <td>CawPWawPawBPawD</td>\n",
       "      <td>100645650</td>\n",
       "      <td>all_pairs</td>\n",
       "      <td>0.200713</td>\n",
       "      <td>False</td>\n",
       "    </tr>\n",
       "    <tr>\n",
       "      <th>19050</th>\n",
       "      <td>CawPWpoGiBPawD</td>\n",
       "      <td>98112950</td>\n",
       "      <td>all_pairs</td>\n",
       "      <td>0.195662</td>\n",
       "      <td>False</td>\n",
       "    </tr>\n",
       "    <tr>\n",
       "      <th>13701</th>\n",
       "      <td>CaGmPawBPawD</td>\n",
       "      <td>97052416</td>\n",
       "      <td>all_pairs</td>\n",
       "      <td>0.193547</td>\n",
       "      <td>False</td>\n",
       "    </tr>\n",
       "    <tr>\n",
       "      <th>16599</th>\n",
       "      <td>CinGmPawAawD</td>\n",
       "      <td>91545480</td>\n",
       "      <td>all_pairs</td>\n",
       "      <td>0.182565</td>\n",
       "      <td>False</td>\n",
       "    </tr>\n",
       "  </tbody>\n",
       "</table>\n",
       "</div>"
      ],
      "text/plain": [
       "                    mp  pair_count     subset      frac  sim_mp\n",
       "16603    CinGmPawBPawD   108829531  all_pairs  0.217034   False\n",
       "19172  CawPWawPawBPawD   100645650  all_pairs  0.200713   False\n",
       "19050   CawPWpoGiBPawD    98112950  all_pairs  0.195662   False\n",
       "13701     CaGmPawBPawD    97052416  all_pairs  0.193547   False\n",
       "16599     CinGmPawAawD    91545480  all_pairs  0.182565   False"
      ]
     },
     "execution_count": 46,
     "metadata": {},
     "output_type": "execute_result"
    }
   ],
   "source": [
    "no_sim_mp_counts.query('subset == \"all_pairs\"').sort_values('frac', ascending=False).head()"
   ]
  },
  {
   "cell_type": "code",
   "execution_count": 47,
   "metadata": {},
   "outputs": [
    {
     "data": {
      "text/html": [
       "<div>\n",
       "<style scoped>\n",
       "    .dataframe tbody tr th:only-of-type {\n",
       "        vertical-align: middle;\n",
       "    }\n",
       "\n",
       "    .dataframe tbody tr th {\n",
       "        vertical-align: top;\n",
       "    }\n",
       "\n",
       "    .dataframe thead th {\n",
       "        text-align: right;\n",
       "    }\n",
       "</style>\n",
       "<table border=\"1\" class=\"dataframe\">\n",
       "  <thead>\n",
       "    <tr style=\"text-align: right;\">\n",
       "      <th></th>\n",
       "      <th>mp</th>\n",
       "      <th>pair_count</th>\n",
       "      <th>subset</th>\n",
       "      <th>frac</th>\n",
       "      <th>sim_mp</th>\n",
       "    </tr>\n",
       "  </thead>\n",
       "  <tbody>\n",
       "    <tr>\n",
       "      <th>41748</th>\n",
       "      <td>CtDawBPaCtD</td>\n",
       "      <td>37356226</td>\n",
       "      <td>all_pos</td>\n",
       "      <td>0.794191</td>\n",
       "      <td>True</td>\n",
       "    </tr>\n",
       "    <tr>\n",
       "      <th>41758</th>\n",
       "      <td>CtDawBPinCtD</td>\n",
       "      <td>37235583</td>\n",
       "      <td>all_pos</td>\n",
       "      <td>0.791626</td>\n",
       "      <td>True</td>\n",
       "    </tr>\n",
       "    <tr>\n",
       "      <th>42204</th>\n",
       "      <td>CtDawPWawCtD</td>\n",
       "      <td>37051489</td>\n",
       "      <td>all_pos</td>\n",
       "      <td>0.787712</td>\n",
       "      <td>True</td>\n",
       "    </tr>\n",
       "    <tr>\n",
       "      <th>41753</th>\n",
       "      <td>CtDawBPafCtD</td>\n",
       "      <td>34094275</td>\n",
       "      <td>all_pos</td>\n",
       "      <td>0.724842</td>\n",
       "      <td>True</td>\n",
       "    </tr>\n",
       "    <tr>\n",
       "      <th>42082</th>\n",
       "      <td>CtDmGaCtD</td>\n",
       "      <td>29885271</td>\n",
       "      <td>all_pos</td>\n",
       "      <td>0.635359</td>\n",
       "      <td>True</td>\n",
       "    </tr>\n",
       "  </tbody>\n",
       "</table>\n",
       "</div>"
      ],
      "text/plain": [
       "                 mp  pair_count   subset      frac  sim_mp\n",
       "41748   CtDawBPaCtD    37356226  all_pos  0.794191    True\n",
       "41758  CtDawBPinCtD    37235583  all_pos  0.791626    True\n",
       "42204  CtDawPWawCtD    37051489  all_pos  0.787712    True\n",
       "41753  CtDawBPafCtD    34094275  all_pos  0.724842    True\n",
       "42082     CtDmGaCtD    29885271  all_pos  0.635359    True"
      ]
     },
     "execution_count": 47,
     "metadata": {},
     "output_type": "execute_result"
    }
   ],
   "source": [
    "all_mp_counts.query('subset == \"all_pos\"').sort_values('frac', ascending=False).head()"
   ]
  },
  {
   "cell_type": "code",
   "execution_count": 48,
   "metadata": {},
   "outputs": [
    {
     "data": {
      "text/html": [
       "<div>\n",
       "<style scoped>\n",
       "    .dataframe tbody tr th:only-of-type {\n",
       "        vertical-align: middle;\n",
       "    }\n",
       "\n",
       "    .dataframe tbody tr th {\n",
       "        vertical-align: top;\n",
       "    }\n",
       "\n",
       "    .dataframe thead th {\n",
       "        text-align: right;\n",
       "    }\n",
       "</style>\n",
       "<table border=\"1\" class=\"dataframe\">\n",
       "  <thead>\n",
       "    <tr style=\"text-align: right;\">\n",
       "      <th></th>\n",
       "      <th>mp</th>\n",
       "      <th>pair_count</th>\n",
       "      <th>subset</th>\n",
       "      <th>frac</th>\n",
       "      <th>sim_mp</th>\n",
       "    </tr>\n",
       "  </thead>\n",
       "  <tbody>\n",
       "    <tr>\n",
       "      <th>46244</th>\n",
       "      <td>CinGmPawBPawD</td>\n",
       "      <td>16737877</td>\n",
       "      <td>all_pos</td>\n",
       "      <td>0.355846</td>\n",
       "      <td>False</td>\n",
       "    </tr>\n",
       "    <tr>\n",
       "      <th>45467</th>\n",
       "      <td>CinGiBPawPpsD</td>\n",
       "      <td>12818087</td>\n",
       "      <td>all_pos</td>\n",
       "      <td>0.272512</td>\n",
       "      <td>False</td>\n",
       "    </tr>\n",
       "    <tr>\n",
       "      <th>46203</th>\n",
       "      <td>CinGawPawBPawD</td>\n",
       "      <td>12691519</td>\n",
       "      <td>all_pos</td>\n",
       "      <td>0.269821</td>\n",
       "      <td>False</td>\n",
       "    </tr>\n",
       "    <tr>\n",
       "      <th>43342</th>\n",
       "      <td>CaGmPawBPawD</td>\n",
       "      <td>12650832</td>\n",
       "      <td>all_pos</td>\n",
       "      <td>0.268956</td>\n",
       "      <td>False</td>\n",
       "    </tr>\n",
       "    <tr>\n",
       "      <th>46240</th>\n",
       "      <td>CinGmPawAawD</td>\n",
       "      <td>12582889</td>\n",
       "      <td>all_pos</td>\n",
       "      <td>0.267511</td>\n",
       "      <td>False</td>\n",
       "    </tr>\n",
       "  </tbody>\n",
       "</table>\n",
       "</div>"
      ],
      "text/plain": [
       "                   mp  pair_count   subset      frac  sim_mp\n",
       "46244   CinGmPawBPawD    16737877  all_pos  0.355846   False\n",
       "45467   CinGiBPawPpsD    12818087  all_pos  0.272512   False\n",
       "46203  CinGawPawBPawD    12691519  all_pos  0.269821   False\n",
       "43342    CaGmPawBPawD    12650832  all_pos  0.268956   False\n",
       "46240    CinGmPawAawD    12582889  all_pos  0.267511   False"
      ]
     },
     "execution_count": 48,
     "metadata": {},
     "output_type": "execute_result"
    }
   ],
   "source": [
    "no_sim_mp_counts.query('subset == \"all_pos\"').sort_values('frac', ascending=False).head()"
   ]
  },
  {
   "cell_type": "markdown",
   "metadata": {},
   "source": [
    "## Save out the information"
   ]
  },
  {
   "cell_type": "code",
   "execution_count": 49,
   "metadata": {},
   "outputs": [],
   "source": [
    "this_file = '11b_Model_Prep_Metapath_Membership_Analysis'\n",
    "\n",
    "out_dir = Path('../2_pipeline').joinpath(this_file).joinpath('out').resolve()\n",
    "out_dir.mkdir(exist_ok=True, parents=True)"
   ]
  },
  {
   "cell_type": "code",
   "execution_count": 50,
   "metadata": {},
   "outputs": [],
   "source": [
    "all_mp_counts.to_csv(out_dir.joinpath('all_mp_counts.csv'), index=False)"
   ]
  }
 ],
 "metadata": {
  "kernelspec": {
   "display_name": "Python 3",
   "language": "python",
   "name": "python3"
  },
  "language_info": {
   "codemirror_mode": {
    "name": "ipython",
    "version": 3
   },
   "file_extension": ".py",
   "mimetype": "text/x-python",
   "name": "python",
   "nbconvert_exporter": "python",
   "pygments_lexer": "ipython3",
   "version": "3.6.8"
  }
 },
 "nbformat": 4,
 "nbformat_minor": 2
}
