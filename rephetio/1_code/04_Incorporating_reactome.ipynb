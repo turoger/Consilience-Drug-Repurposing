{
 "cells": [
  {
   "cell_type": "code",
   "execution_count": 1,
   "metadata": {},
   "outputs": [],
   "source": [
    "import pandas as pd\n",
    "from pathlib import Path\n",
    "import tools.obo_tools as ot\n",
    "from tools.hetnet_file_processing import read_reactome, determine_evidence\n",
    "from tools.processing import regularize_colnames, head, expand_col_on_char, combine_group_rows_on_char\n",
    "from hetnet_ml.src import graph_tools as gt\n",
    "\n",
    "load_dir = Path('../2_pipeline/00_download_data/out/').resolve()\n",
    "ext_dir = Path('../0_data/external/').resolve()\n",
    "network_dir = load_dir.parent.parent.joinpath('03_Adding_GO_Annotations/out')"
   ]
  },
  {
   "cell_type": "code",
   "execution_count": 2,
   "metadata": {},
   "outputs": [],
   "source": [
    "all_nodes = gt.remove_colons(pd.read_csv(network_dir.joinpath('nodes_all.csv'), dtype=str))\n",
    "edges = gt.remove_colons(pd.read_csv(network_dir.joinpath('edges.csv'), dtype=str))"
   ]
  },
  {
   "cell_type": "code",
   "execution_count": 3,
   "metadata": {},
   "outputs": [
    {
     "name": "stdout",
     "output_type": "stream",
     "text": [
      "Pathways:   2,363\n",
      " Kegg:        503\n",
      " Reactome:  1,860\n"
     ]
    }
   ],
   "source": [
    "PWs = all_nodes.query('label == \"Pathway\"')\n",
    "print(\"Pathways:  {:6,}\".format(len(PWs)))\n",
    "print(\" Kegg:     {:6,}\".format(PWs['id'].str.startswith('KEGG:').sum()))\n",
    "print(\" Reactome: {:6,}\".format(PWs['id'].str.startswith('REACT:').sum()))"
   ]
  },
  {
   "cell_type": "code",
   "execution_count": 4,
   "metadata": {},
   "outputs": [],
   "source": [
    "kegg = PWs[PWs['id'].str.startswith('KEGG:')]['id'].values\n",
    "react = PWs[PWs['id'].str.startswith('REACT:')]['id'].values"
   ]
  },
  {
   "cell_type": "code",
   "execution_count": 5,
   "metadata": {},
   "outputs": [
    {
     "name": "stdout",
     "output_type": "stream",
     "text": [
      "Kegg edges: 661,027\n",
      "Reactome Edges: 1,253,874\n"
     ]
    }
   ],
   "source": [
    "print('Kegg edges: {:,}'.format(len(edges.query('start_id in @kegg or end_id in @kegg'))))\n",
    "print('Reactome Edges: {:,}'.format(len(edges.query('start_id in @react or end_id in @react'))))"
   ]
  },
  {
   "cell_type": "code",
   "execution_count": 6,
   "metadata": {},
   "outputs": [
    {
     "data": {
      "text/plain": [
       "associated_with_CawPW    446328\n",
       "associated_with_DawPW    185911\n",
       "part_of_GpoPW             28788\n",
       "Name: type, dtype: int64"
      ]
     },
     "execution_count": 6,
     "metadata": {},
     "output_type": "execute_result"
    }
   ],
   "source": [
    "edges.query('start_id in @kegg or end_id in @kegg')['type'].value_counts()"
   ]
  },
  {
   "cell_type": "code",
   "execution_count": 7,
   "metadata": {},
   "outputs": [
    {
     "data": {
      "text/plain": [
       "associated_with_CawPW    769595\n",
       "associated_with_DawPW    377258\n",
       "part_of_GpoPW            107021\n",
       "Name: type, dtype: int64"
      ]
     },
     "execution_count": 7,
     "metadata": {},
     "output_type": "execute_result"
    }
   ],
   "source": [
    "edges.query('start_id in @react or end_id in @react')['type'].value_counts()"
   ]
  },
  {
   "cell_type": "markdown",
   "metadata": {},
   "source": [
    "A lot more reactome than Kegg..."
   ]
  },
  {
   "cell_type": "code",
   "execution_count": 8,
   "metadata": {},
   "outputs": [],
   "source": [
    "all_node_ids = all_nodes['id'].values\n",
    "new_nodes = []\n",
    "new_edges = []"
   ]
  },
  {
   "cell_type": "code",
   "execution_count": 9,
   "metadata": {},
   "outputs": [
    {
     "data": {
      "text/html": [
       "<div>\n",
       "<style scoped>\n",
       "    .dataframe tbody tr th:only-of-type {\n",
       "        vertical-align: middle;\n",
       "    }\n",
       "\n",
       "    .dataframe tbody tr th {\n",
       "        vertical-align: top;\n",
       "    }\n",
       "\n",
       "    .dataframe thead th {\n",
       "        text-align: right;\n",
       "    }\n",
       "</style>\n",
       "<table border=\"1\" class=\"dataframe\">\n",
       "  <thead>\n",
       "    <tr style=\"text-align: right;\">\n",
       "      <th></th>\n",
       "      <th>id</th>\n",
       "      <th>name</th>\n",
       "      <th>label</th>\n",
       "      <th>tree_numbers</th>\n",
       "      <th>drug_bank_ids</th>\n",
       "      <th>alt_disease_ids</th>\n",
       "      <th>gene_symbol</th>\n",
       "      <th>alt_gene_ids</th>\n",
       "      <th>bio_gridids</th>\n",
       "      <th>pharm_gkbids</th>\n",
       "      <th>uni_prot_ids</th>\n",
       "      <th>uniprot_id</th>\n",
       "    </tr>\n",
       "  </thead>\n",
       "  <tbody>\n",
       "    <tr>\n",
       "      <th>0</th>\n",
       "      <td>MESH:C089250</td>\n",
       "      <td>(0.017ferrocene)amylose</td>\n",
       "      <td>Compound</td>\n",
       "      <td>D01.490.200/C089250|D02.691.550.200/C089250|D0...</td>\n",
       "      <td>NaN</td>\n",
       "      <td>NaN</td>\n",
       "      <td>NaN</td>\n",
       "      <td>NaN</td>\n",
       "      <td>NaN</td>\n",
       "      <td>NaN</td>\n",
       "      <td>NaN</td>\n",
       "      <td>NaN</td>\n",
       "    </tr>\n",
       "    <tr>\n",
       "      <th>1</th>\n",
       "      <td>MESH:C114385</td>\n",
       "      <td>001-C8-NBD</td>\n",
       "      <td>Compound</td>\n",
       "      <td>D03.383.129.462.580/C114385|D12.644.456/C114385</td>\n",
       "      <td>NaN</td>\n",
       "      <td>NaN</td>\n",
       "      <td>NaN</td>\n",
       "      <td>NaN</td>\n",
       "      <td>NaN</td>\n",
       "      <td>NaN</td>\n",
       "      <td>NaN</td>\n",
       "      <td>NaN</td>\n",
       "    </tr>\n",
       "  </tbody>\n",
       "</table>\n",
       "</div>"
      ],
      "text/plain": [
       "             id                     name     label  \\\n",
       "0  MESH:C089250  (0.017ferrocene)amylose  Compound   \n",
       "1  MESH:C114385               001-C8-NBD  Compound   \n",
       "\n",
       "                                        tree_numbers drug_bank_ids  \\\n",
       "0  D01.490.200/C089250|D02.691.550.200/C089250|D0...           NaN   \n",
       "1    D03.383.129.462.580/C114385|D12.644.456/C114385           NaN   \n",
       "\n",
       "  alt_disease_ids gene_symbol alt_gene_ids bio_gridids pharm_gkbids  \\\n",
       "0             NaN         NaN          NaN         NaN          NaN   \n",
       "1             NaN         NaN          NaN         NaN          NaN   \n",
       "\n",
       "  uni_prot_ids uniprot_id  \n",
       "0          NaN        NaN  \n",
       "1          NaN        NaN  "
      ]
     },
     "execution_count": 9,
     "metadata": {},
     "output_type": "execute_result"
    }
   ],
   "source": [
    "all_nodes.head(2)"
   ]
  },
  {
   "cell_type": "code",
   "execution_count": 10,
   "metadata": {},
   "outputs": [
    {
     "data": {
      "text/html": [
       "<div>\n",
       "<style scoped>\n",
       "    .dataframe tbody tr th:only-of-type {\n",
       "        vertical-align: middle;\n",
       "    }\n",
       "\n",
       "    .dataframe tbody tr th {\n",
       "        vertical-align: top;\n",
       "    }\n",
       "\n",
       "    .dataframe thead th {\n",
       "        text-align: right;\n",
       "    }\n",
       "</style>\n",
       "<table border=\"1\" class=\"dataframe\">\n",
       "  <thead>\n",
       "    <tr style=\"text-align: right;\">\n",
       "      <th></th>\n",
       "      <th>start_id</th>\n",
       "      <th>end_id</th>\n",
       "      <th>type</th>\n",
       "      <th>parent_ixn</th>\n",
       "      <th>pub_med_ids</th>\n",
       "      <th>organism_id</th>\n",
       "      <th>abbv</th>\n",
       "      <th>source</th>\n",
       "      <th>evidence</th>\n",
       "      <th>direct_evidence</th>\n",
       "      <th>corrected_pvalue</th>\n",
       "      <th>inference_gene_symbol</th>\n",
       "      <th>qualifier</th>\n",
       "      <th>db_reference</th>\n",
       "      <th>evidence_code</th>\n",
       "      <th>with_or_from</th>\n",
       "      <th>date</th>\n",
       "      <th>assigned_by</th>\n",
       "      <th>experiments</th>\n",
       "      <th>support_type</th>\n",
       "    </tr>\n",
       "  </thead>\n",
       "  <tbody>\n",
       "    <tr>\n",
       "      <th>0</th>\n",
       "      <td>MESH:C000121</td>\n",
       "      <td>4313</td>\n",
       "      <td>decreases_activity_CdaG</td>\n",
       "      <td>decreases^activity</td>\n",
       "      <td>25899827</td>\n",
       "      <td>9606</td>\n",
       "      <td>CdaG</td>\n",
       "      <td>CTD</td>\n",
       "      <td>curated</td>\n",
       "      <td>NaN</td>\n",
       "      <td>NaN</td>\n",
       "      <td>NaN</td>\n",
       "      <td>NaN</td>\n",
       "      <td>NaN</td>\n",
       "      <td>NaN</td>\n",
       "      <td>NaN</td>\n",
       "      <td>NaN</td>\n",
       "      <td>NaN</td>\n",
       "      <td>NaN</td>\n",
       "      <td>NaN</td>\n",
       "    </tr>\n",
       "    <tr>\n",
       "      <th>1</th>\n",
       "      <td>MESH:C000121</td>\n",
       "      <td>4313</td>\n",
       "      <td>decreases_expression_CdeG</td>\n",
       "      <td>decreases^expression</td>\n",
       "      <td>25899827</td>\n",
       "      <td>9606</td>\n",
       "      <td>CdeG</td>\n",
       "      <td>CTD</td>\n",
       "      <td>curated</td>\n",
       "      <td>NaN</td>\n",
       "      <td>NaN</td>\n",
       "      <td>NaN</td>\n",
       "      <td>NaN</td>\n",
       "      <td>NaN</td>\n",
       "      <td>NaN</td>\n",
       "      <td>NaN</td>\n",
       "      <td>NaN</td>\n",
       "      <td>NaN</td>\n",
       "      <td>NaN</td>\n",
       "      <td>NaN</td>\n",
       "    </tr>\n",
       "  </tbody>\n",
       "</table>\n",
       "</div>"
      ],
      "text/plain": [
       "       start_id end_id                       type            parent_ixn  \\\n",
       "0  MESH:C000121   4313    decreases_activity_CdaG    decreases^activity   \n",
       "1  MESH:C000121   4313  decreases_expression_CdeG  decreases^expression   \n",
       "\n",
       "  pub_med_ids organism_id  abbv source evidence direct_evidence  \\\n",
       "0    25899827        9606  CdaG    CTD  curated             NaN   \n",
       "1    25899827        9606  CdeG    CTD  curated             NaN   \n",
       "\n",
       "  corrected_pvalue inference_gene_symbol qualifier db_reference evidence_code  \\\n",
       "0              NaN                   NaN       NaN          NaN           NaN   \n",
       "1              NaN                   NaN       NaN          NaN           NaN   \n",
       "\n",
       "  with_or_from date assigned_by experiments support_type  \n",
       "0          NaN  NaN         NaN         NaN          NaN  \n",
       "1          NaN  NaN         NaN         NaN          NaN  "
      ]
     },
     "execution_count": 10,
     "metadata": {},
     "output_type": "execute_result"
    }
   ],
   "source": [
    "edges.head(2)"
   ]
  },
  {
   "cell_type": "markdown",
   "metadata": {},
   "source": [
    "# Reactome Genes"
   ]
  },
  {
   "cell_type": "code",
   "execution_count": 11,
   "metadata": {},
   "outputs": [],
   "source": [
    "ncbi = read_reactome(load_dir.joinpath('NCBI2Reactome_PE_All_Levels.txt'))\n",
    "hncbi = ncbi.query('taxon == \"Homo sapiens\"').copy()"
   ]
  },
  {
   "cell_type": "code",
   "execution_count": 12,
   "metadata": {},
   "outputs": [],
   "source": [
    "hncbi['external_id'] = hncbi['external_id'].astype(str)"
   ]
  },
  {
   "cell_type": "code",
   "execution_count": 13,
   "metadata": {},
   "outputs": [
    {
     "data": {
      "text/html": [
       "<div>\n",
       "<style scoped>\n",
       "    .dataframe tbody tr th:only-of-type {\n",
       "        vertical-align: middle;\n",
       "    }\n",
       "\n",
       "    .dataframe tbody tr th {\n",
       "        vertical-align: top;\n",
       "    }\n",
       "\n",
       "    .dataframe thead th {\n",
       "        text-align: right;\n",
       "    }\n",
       "</style>\n",
       "<table border=\"1\" class=\"dataframe\">\n",
       "  <thead>\n",
       "    <tr style=\"text-align: right;\">\n",
       "      <th></th>\n",
       "      <th>external_id</th>\n",
       "      <th>pe_reactome_id</th>\n",
       "      <th>pe_name</th>\n",
       "      <th>reactome_id</th>\n",
       "      <th>reactome_url</th>\n",
       "      <th>reactome_name</th>\n",
       "      <th>evidence_code</th>\n",
       "      <th>taxon</th>\n",
       "    </tr>\n",
       "  </thead>\n",
       "  <tbody>\n",
       "    <tr>\n",
       "      <th>0</th>\n",
       "      <td>1</td>\n",
       "      <td>R-HSA-6806490</td>\n",
       "      <td>A1BG [extracellular region]</td>\n",
       "      <td>R-HSA-109582</td>\n",
       "      <td>https://reactome.org/PathwayBrowser/#/R-HSA-10...</td>\n",
       "      <td>Hemostasis</td>\n",
       "      <td>TAS</td>\n",
       "      <td>Homo sapiens</td>\n",
       "    </tr>\n",
       "    <tr>\n",
       "      <th>1</th>\n",
       "      <td>1</td>\n",
       "      <td>R-HSA-8848894</td>\n",
       "      <td>A1BG [platelet alpha granule lumen]</td>\n",
       "      <td>R-HSA-109582</td>\n",
       "      <td>https://reactome.org/PathwayBrowser/#/R-HSA-10...</td>\n",
       "      <td>Hemostasis</td>\n",
       "      <td>TAS</td>\n",
       "      <td>Homo sapiens</td>\n",
       "    </tr>\n",
       "  </tbody>\n",
       "</table>\n",
       "</div>"
      ],
      "text/plain": [
       "  external_id pe_reactome_id                              pe_name  \\\n",
       "0           1  R-HSA-6806490          A1BG [extracellular region]   \n",
       "1           1  R-HSA-8848894  A1BG [platelet alpha granule lumen]   \n",
       "\n",
       "    reactome_id                                       reactome_url  \\\n",
       "0  R-HSA-109582  https://reactome.org/PathwayBrowser/#/R-HSA-10...   \n",
       "1  R-HSA-109582  https://reactome.org/PathwayBrowser/#/R-HSA-10...   \n",
       "\n",
       "  reactome_name evidence_code         taxon  \n",
       "0    Hemostasis           TAS  Homo sapiens  \n",
       "1    Hemostasis           TAS  Homo sapiens  "
      ]
     },
     "execution_count": 13,
     "metadata": {},
     "output_type": "execute_result"
    }
   ],
   "source": [
    "hncbi.head(2)"
   ]
  },
  {
   "cell_type": "code",
   "execution_count": 14,
   "metadata": {},
   "outputs": [
    {
     "data": {
      "text/html": [
       "<div>\n",
       "<style scoped>\n",
       "    .dataframe tbody tr th:only-of-type {\n",
       "        vertical-align: middle;\n",
       "    }\n",
       "\n",
       "    .dataframe tbody tr th {\n",
       "        vertical-align: top;\n",
       "    }\n",
       "\n",
       "    .dataframe thead th {\n",
       "        text-align: right;\n",
       "    }\n",
       "</style>\n",
       "<table border=\"1\" class=\"dataframe\">\n",
       "  <thead>\n",
       "    <tr style=\"text-align: right;\">\n",
       "      <th></th>\n",
       "      <th>start_id</th>\n",
       "      <th>end_id</th>\n",
       "      <th>evidence_code</th>\n",
       "      <th>type</th>\n",
       "    </tr>\n",
       "  </thead>\n",
       "  <tbody>\n",
       "    <tr>\n",
       "      <th>0</th>\n",
       "      <td>1</td>\n",
       "      <td>REACT:R-HSA-109582</td>\n",
       "      <td>TAS</td>\n",
       "      <td>part_of_GpoPW</td>\n",
       "    </tr>\n",
       "    <tr>\n",
       "      <th>1</th>\n",
       "      <td>1</td>\n",
       "      <td>REACT:R-HSA-109582</td>\n",
       "      <td>TAS</td>\n",
       "      <td>part_of_GpoPW</td>\n",
       "    </tr>\n",
       "  </tbody>\n",
       "</table>\n",
       "</div>"
      ],
      "text/plain": [
       "  start_id              end_id evidence_code           type\n",
       "0        1  REACT:R-HSA-109582           TAS  part_of_GpoPW\n",
       "1        1  REACT:R-HSA-109582           TAS  part_of_GpoPW"
      ]
     },
     "execution_count": 14,
     "metadata": {},
     "output_type": "execute_result"
    }
   ],
   "source": [
    "hncbi['reactome_id'] = 'REACT:' + hncbi['reactome_id']\n",
    "\n",
    "# Make a map from internal REACTOME id to external IDs\n",
    "pe_ncbi_map = hncbi.set_index('pe_reactome_id')['external_id'].to_dict()\n",
    "\n",
    "ncbi_edges = hncbi[['external_id', 'reactome_id', 'evidence_code']].copy()\n",
    "ncbi_edges.columns = ['start_id', 'end_id', 'evidence_code']\n",
    "ncbi_edges['type'] = 'part_of_GpoPW'\n",
    "ncbi_edges.head(2)"
   ]
  },
  {
   "cell_type": "code",
   "execution_count": 15,
   "metadata": {},
   "outputs": [
    {
     "name": "stdout",
     "output_type": "stream",
     "text": [
      "Genes in Reactome: 10,696\n",
      "Mapped to Network: 10,610\n",
      "Un-mappable: 86\n"
     ]
    }
   ],
   "source": [
    "print('Genes in Reactome: {:,}'.format(hncbi['external_id'].nunique()))\n",
    "print('Mapped to Network: {:,}'.format(hncbi.query('external_id in @all_node_ids')['external_id'].nunique()))\n",
    "print('Un-mappable: {:,}'.format(hncbi.query('external_id not in @all_node_ids')['external_id'].nunique()))"
   ]
  },
  {
   "cell_type": "code",
   "execution_count": 16,
   "metadata": {},
   "outputs": [
    {
     "name": "stdout",
     "output_type": "stream",
     "text": [
      "Unique Reactome Pathways: 2,239\n",
      "Reactome Pathways not in Network: 423\n"
     ]
    }
   ],
   "source": [
    "react_ids = set(ncbi_edges['end_id'])\n",
    "print('Unique Reactome Pathways: {:,}'.format(len(react_ids)))\n",
    "print('Reactome Pathways not in Network: {:,}'.format(len(react_ids - set(all_nodes['id']))))"
   ]
  },
  {
   "cell_type": "markdown",
   "metadata": {},
   "source": [
    "423 is a fairly significant number... We can add these pathways to the newtork..."
   ]
  },
  {
   "cell_type": "code",
   "execution_count": 17,
   "metadata": {},
   "outputs": [
    {
     "data": {
      "text/plain": [
       "423"
      ]
     },
     "execution_count": 17,
     "metadata": {},
     "output_type": "execute_result"
    }
   ],
   "source": [
    "len(react_ids - set(react))"
   ]
  },
  {
   "cell_type": "code",
   "execution_count": 18,
   "metadata": {},
   "outputs": [
    {
     "data": {
      "text/html": [
       "<div>\n",
       "<style scoped>\n",
       "    .dataframe tbody tr th:only-of-type {\n",
       "        vertical-align: middle;\n",
       "    }\n",
       "\n",
       "    .dataframe tbody tr th {\n",
       "        vertical-align: top;\n",
       "    }\n",
       "\n",
       "    .dataframe thead th {\n",
       "        text-align: right;\n",
       "    }\n",
       "</style>\n",
       "<table border=\"1\" class=\"dataframe\">\n",
       "  <thead>\n",
       "    <tr style=\"text-align: right;\">\n",
       "      <th></th>\n",
       "      <th>id</th>\n",
       "      <th>name</th>\n",
       "      <th>label</th>\n",
       "    </tr>\n",
       "  </thead>\n",
       "  <tbody>\n",
       "    <tr>\n",
       "      <th>28</th>\n",
       "      <td>REACT:R-HSA-8956321</td>\n",
       "      <td>Nucleotide salvage</td>\n",
       "      <td>Pathway</td>\n",
       "    </tr>\n",
       "    <tr>\n",
       "      <th>43</th>\n",
       "      <td>REACT:R-HSA-8957275</td>\n",
       "      <td>Post-translational protein phosphorylation</td>\n",
       "      <td>Pathway</td>\n",
       "    </tr>\n",
       "    <tr>\n",
       "      <th>137</th>\n",
       "      <td>REACT:R-HSA-6807070</td>\n",
       "      <td>PTEN Regulation</td>\n",
       "      <td>Pathway</td>\n",
       "    </tr>\n",
       "    <tr>\n",
       "      <th>151</th>\n",
       "      <td>REACT:R-HSA-8878166</td>\n",
       "      <td>Transcriptional regulation by RUNX2</td>\n",
       "      <td>Pathway</td>\n",
       "    </tr>\n",
       "    <tr>\n",
       "      <th>152</th>\n",
       "      <td>REACT:R-HSA-8939211</td>\n",
       "      <td>ESR-mediated signaling</td>\n",
       "      <td>Pathway</td>\n",
       "    </tr>\n",
       "  </tbody>\n",
       "</table>\n",
       "</div>"
      ],
      "text/plain": [
       "                      id                                        name    label\n",
       "28   REACT:R-HSA-8956321                          Nucleotide salvage  Pathway\n",
       "43   REACT:R-HSA-8957275  Post-translational protein phosphorylation  Pathway\n",
       "137  REACT:R-HSA-6807070                             PTEN Regulation  Pathway\n",
       "151  REACT:R-HSA-8878166         Transcriptional regulation by RUNX2  Pathway\n",
       "152  REACT:R-HSA-8939211                      ESR-mediated signaling  Pathway"
      ]
     },
     "execution_count": 18,
     "metadata": {},
     "output_type": "execute_result"
    }
   ],
   "source": [
    "missing_react_ids = react_ids - set(react)\n",
    "keep_cols = ['reactome_id', 'reactome_name']\n",
    "new_pw_nodes = hncbi.query('reactome_id in @missing_react_ids')\n",
    "new_pw_nodes = new_pw_nodes.drop_duplicates(subset=keep_cols)[keep_cols]\n",
    "new_pw_nodes.columns = [c.split('_')[1] for c in keep_cols]\n",
    "new_pw_nodes['label'] = 'Pathway'\n",
    "new_pw_nodes.head()"
   ]
  },
  {
   "cell_type": "code",
   "execution_count": 19,
   "metadata": {},
   "outputs": [],
   "source": [
    "ncbi_edges['source'] = 'Reactome'\n",
    "ncbi_edges['evidence'] = ncbi_edges['evidence_code'].apply(determine_evidence)"
   ]
  },
  {
   "cell_type": "code",
   "execution_count": 20,
   "metadata": {},
   "outputs": [],
   "source": [
    "new_nodes.append(new_pw_nodes)\n",
    "new_edges.append(ncbi_edges)"
   ]
  },
  {
   "cell_type": "markdown",
   "metadata": {},
   "source": [
    "## Chem PW"
   ]
  },
  {
   "cell_type": "code",
   "execution_count": 21,
   "metadata": {},
   "outputs": [
    {
     "data": {
      "text/html": [
       "<div>\n",
       "<style scoped>\n",
       "    .dataframe tbody tr th:only-of-type {\n",
       "        vertical-align: middle;\n",
       "    }\n",
       "\n",
       "    .dataframe tbody tr th {\n",
       "        vertical-align: top;\n",
       "    }\n",
       "\n",
       "    .dataframe thead th {\n",
       "        text-align: right;\n",
       "    }\n",
       "</style>\n",
       "<table border=\"1\" class=\"dataframe\">\n",
       "  <thead>\n",
       "    <tr style=\"text-align: right;\">\n",
       "      <th></th>\n",
       "      <th>external_id</th>\n",
       "      <th>pe_reactome_id</th>\n",
       "      <th>pe_name</th>\n",
       "      <th>reactome_id</th>\n",
       "      <th>reactome_url</th>\n",
       "      <th>reactome_name</th>\n",
       "      <th>evidence_code</th>\n",
       "      <th>taxon</th>\n",
       "    </tr>\n",
       "  </thead>\n",
       "  <tbody>\n",
       "    <tr>\n",
       "      <th>0</th>\n",
       "      <td>10033</td>\n",
       "      <td>R-ALL-9014945</td>\n",
       "      <td>warfarin [cytosol]</td>\n",
       "      <td>R-BTA-1430728</td>\n",
       "      <td>https://reactome.org/PathwayBrowser/#/R-BTA-14...</td>\n",
       "      <td>Metabolism</td>\n",
       "      <td>IEA</td>\n",
       "      <td>Bos taurus</td>\n",
       "    </tr>\n",
       "    <tr>\n",
       "      <th>1</th>\n",
       "      <td>10033</td>\n",
       "      <td>R-ALL-9014945</td>\n",
       "      <td>warfarin [cytosol]</td>\n",
       "      <td>R-BTA-196854</td>\n",
       "      <td>https://reactome.org/PathwayBrowser/#/R-BTA-19...</td>\n",
       "      <td>Metabolism of vitamins and cofactors</td>\n",
       "      <td>IEA</td>\n",
       "      <td>Bos taurus</td>\n",
       "    </tr>\n",
       "  </tbody>\n",
       "</table>\n",
       "</div>"
      ],
      "text/plain": [
       "  external_id pe_reactome_id             pe_name    reactome_id  \\\n",
       "0       10033  R-ALL-9014945  warfarin [cytosol]  R-BTA-1430728   \n",
       "1       10033  R-ALL-9014945  warfarin [cytosol]   R-BTA-196854   \n",
       "\n",
       "                                        reactome_url  \\\n",
       "0  https://reactome.org/PathwayBrowser/#/R-BTA-14...   \n",
       "1  https://reactome.org/PathwayBrowser/#/R-BTA-19...   \n",
       "\n",
       "                          reactome_name evidence_code       taxon  \n",
       "0                            Metabolism           IEA  Bos taurus  \n",
       "1  Metabolism of vitamins and cofactors           IEA  Bos taurus  "
      ]
     },
     "execution_count": 21,
     "metadata": {},
     "output_type": "execute_result"
    }
   ],
   "source": [
    "chem_pw = read_reactome(load_dir.joinpath('ChEBI2Reactome_PE_All_Levels.txt'))\n",
    "chem_pw.head(2)"
   ]
  },
  {
   "cell_type": "code",
   "execution_count": 22,
   "metadata": {},
   "outputs": [
    {
     "data": {
      "text/plain": [
       "38843"
      ]
     },
     "execution_count": 22,
     "metadata": {},
     "output_type": "execute_result"
    }
   ],
   "source": [
    "chem_hpw = chem_pw.query('taxon == \"Homo sapiens\"').copy()\n",
    "chem_hpw.shape[0]"
   ]
  },
  {
   "cell_type": "code",
   "execution_count": 23,
   "metadata": {},
   "outputs": [],
   "source": [
    "chem_hpw['external_id'] = 'CHEBI:' + chem_hpw['external_id'].astype(str)\n",
    "chebi_ids = chem_hpw['external_id'].unique()"
   ]
  },
  {
   "cell_type": "markdown",
   "metadata": {},
   "source": [
    "Need to map from Chebi to MeSH if possible... \n",
    "Could also map to DrugBank"
   ]
  },
  {
   "cell_type": "code",
   "execution_count": 24,
   "metadata": {},
   "outputs": [],
   "source": [
    "from biothings_client import get_client\n",
    "mc = get_client('chem')"
   ]
  },
  {
   "cell_type": "code",
   "execution_count": 25,
   "metadata": {
    "scrolled": true
   },
   "outputs": [
    {
     "name": "stdout",
     "output_type": "stream",
     "text": [
      "querying 1-1000...done.\n",
      "querying 1001-2000...done.\n",
      "querying 2001-2081...done.\n"
     ]
    }
   ],
   "source": [
    "res = mc.getchems(chebi_ids)"
   ]
  },
  {
   "cell_type": "code",
   "execution_count": 26,
   "metadata": {},
   "outputs": [
    {
     "name": "stdout",
     "output_type": "stream",
     "text": [
      "ChEBI IDs not found in mychem.info: 210\n"
     ]
    }
   ],
   "source": [
    "no_mychem = []\n",
    "for r in res:\n",
    "    if 'notfound' in r:\n",
    "        no_mychem.append(r['query'])\n",
    "print('ChEBI IDs not found in mychem.info: {:,}'.format(len(no_mychem)))"
   ]
  },
  {
   "cell_type": "code",
   "execution_count": 27,
   "metadata": {},
   "outputs": [
    {
     "data": {
      "text/html": [
       "<div>\n",
       "<style scoped>\n",
       "    .dataframe tbody tr th:only-of-type {\n",
       "        vertical-align: middle;\n",
       "    }\n",
       "\n",
       "    .dataframe tbody tr th {\n",
       "        vertical-align: top;\n",
       "    }\n",
       "\n",
       "    .dataframe thead th {\n",
       "        text-align: right;\n",
       "    }\n",
       "</style>\n",
       "<table border=\"1\" class=\"dataframe\">\n",
       "  <thead>\n",
       "    <tr style=\"text-align: right;\">\n",
       "      <th></th>\n",
       "      <th>external_id</th>\n",
       "      <th>pe_reactome_id</th>\n",
       "      <th>pe_name</th>\n",
       "      <th>reactome_id</th>\n",
       "      <th>reactome_url</th>\n",
       "      <th>reactome_name</th>\n",
       "      <th>evidence_code</th>\n",
       "      <th>taxon</th>\n",
       "    </tr>\n",
       "  </thead>\n",
       "  <tbody>\n",
       "    <tr>\n",
       "      <th>16</th>\n",
       "      <td>CHEBI:10033</td>\n",
       "      <td>R-ALL-9014945</td>\n",
       "      <td>warfarin [cytosol]</td>\n",
       "      <td>R-HSA-1430728</td>\n",
       "      <td>https://reactome.org/PathwayBrowser/#/R-HSA-14...</td>\n",
       "      <td>Metabolism</td>\n",
       "      <td>TAS</td>\n",
       "      <td>Homo sapiens</td>\n",
       "    </tr>\n",
       "    <tr>\n",
       "      <th>1452</th>\n",
       "      <td>CHEBI:13166</td>\n",
       "      <td>R-HSA-5357708</td>\n",
       "      <td>Sec-tRNA(Sec) [cytosol]</td>\n",
       "      <td>R-HSA-1430728</td>\n",
       "      <td>https://reactome.org/PathwayBrowser/#/R-HSA-14...</td>\n",
       "      <td>Metabolism</td>\n",
       "      <td>IEA</td>\n",
       "      <td>Homo sapiens</td>\n",
       "    </tr>\n",
       "    <tr>\n",
       "      <th>1460</th>\n",
       "      <td>CHEBI:13170</td>\n",
       "      <td>R-HSA-5357730</td>\n",
       "      <td>Ser-tRNA(Sec) [cytosol]</td>\n",
       "      <td>R-HSA-1430728</td>\n",
       "      <td>https://reactome.org/PathwayBrowser/#/R-HSA-14...</td>\n",
       "      <td>Metabolism</td>\n",
       "      <td>IEA</td>\n",
       "      <td>Homo sapiens</td>\n",
       "    </tr>\n",
       "    <tr>\n",
       "      <th>1960</th>\n",
       "      <td>CHEBI:133202</td>\n",
       "      <td>R-ALL-8938276</td>\n",
       "      <td>(ADP-D-ribosyl)(n)-acceptor [cytosol]</td>\n",
       "      <td>R-HSA-1430728</td>\n",
       "      <td>https://reactome.org/PathwayBrowser/#/R-HSA-14...</td>\n",
       "      <td>Metabolism</td>\n",
       "      <td>TAS</td>\n",
       "      <td>Homo sapiens</td>\n",
       "    </tr>\n",
       "    <tr>\n",
       "      <th>2015</th>\n",
       "      <td>CHEBI:133203</td>\n",
       "      <td>R-ALL-8938282</td>\n",
       "      <td>(ADP-D-ribosyl)(n+1)-acceptor [cytosol]</td>\n",
       "      <td>R-HSA-1430728</td>\n",
       "      <td>https://reactome.org/PathwayBrowser/#/R-HSA-14...</td>\n",
       "      <td>Metabolism</td>\n",
       "      <td>TAS</td>\n",
       "      <td>Homo sapiens</td>\n",
       "    </tr>\n",
       "    <tr>\n",
       "      <th>3750</th>\n",
       "      <td>CHEBI:138387</td>\n",
       "      <td>R-ALL-9020583</td>\n",
       "      <td>(18S)-hydroperoxyicosapentaenoic acid [cytosol]</td>\n",
       "      <td>R-HSA-1430728</td>\n",
       "      <td>https://reactome.org/PathwayBrowser/#/R-HSA-14...</td>\n",
       "      <td>Metabolism</td>\n",
       "      <td>TAS</td>\n",
       "      <td>Homo sapiens</td>\n",
       "    </tr>\n",
       "    <tr>\n",
       "      <th>3859</th>\n",
       "      <td>CHEBI:138490</td>\n",
       "      <td>R-ALL-9022655</td>\n",
       "      <td>5S,6S-epoxy-18(S)-HEPE [cytosol]</td>\n",
       "      <td>R-HSA-1430728</td>\n",
       "      <td>https://reactome.org/PathwayBrowser/#/R-HSA-14...</td>\n",
       "      <td>Metabolism</td>\n",
       "      <td>TAS</td>\n",
       "      <td>Homo sapiens</td>\n",
       "    </tr>\n",
       "    <tr>\n",
       "      <th>3974</th>\n",
       "      <td>CHEBI:138563</td>\n",
       "      <td>R-ALL-9023708</td>\n",
       "      <td>5S,6S-epoxy-18(R)-HEPE [cytosol]</td>\n",
       "      <td>R-HSA-1430728</td>\n",
       "      <td>https://reactome.org/PathwayBrowser/#/R-HSA-14...</td>\n",
       "      <td>Metabolism</td>\n",
       "      <td>TAS</td>\n",
       "      <td>Homo sapiens</td>\n",
       "    </tr>\n",
       "    <tr>\n",
       "      <th>4147</th>\n",
       "      <td>CHEBI:138601</td>\n",
       "      <td>R-ALL-9024576</td>\n",
       "      <td>4(S)-Hp-17(R)-HDHA [cytosol]</td>\n",
       "      <td>R-HSA-1430728</td>\n",
       "      <td>https://reactome.org/PathwayBrowser/#/R-HSA-14...</td>\n",
       "      <td>Metabolism</td>\n",
       "      <td>TAS</td>\n",
       "      <td>Homo sapiens</td>\n",
       "    </tr>\n",
       "    <tr>\n",
       "      <th>4192</th>\n",
       "      <td>CHEBI:138602</td>\n",
       "      <td>R-ALL-9024479</td>\n",
       "      <td>7(S)-Hp-17(R)-HDHA [cytosol]</td>\n",
       "      <td>R-HSA-1430728</td>\n",
       "      <td>https://reactome.org/PathwayBrowser/#/R-HSA-14...</td>\n",
       "      <td>Metabolism</td>\n",
       "      <td>TAS</td>\n",
       "      <td>Homo sapiens</td>\n",
       "    </tr>\n",
       "  </tbody>\n",
       "</table>\n",
       "</div>"
      ],
      "text/plain": [
       "       external_id pe_reactome_id  \\\n",
       "16     CHEBI:10033  R-ALL-9014945   \n",
       "1452   CHEBI:13166  R-HSA-5357708   \n",
       "1460   CHEBI:13170  R-HSA-5357730   \n",
       "1960  CHEBI:133202  R-ALL-8938276   \n",
       "2015  CHEBI:133203  R-ALL-8938282   \n",
       "3750  CHEBI:138387  R-ALL-9020583   \n",
       "3859  CHEBI:138490  R-ALL-9022655   \n",
       "3974  CHEBI:138563  R-ALL-9023708   \n",
       "4147  CHEBI:138601  R-ALL-9024576   \n",
       "4192  CHEBI:138602  R-ALL-9024479   \n",
       "\n",
       "                                              pe_name    reactome_id  \\\n",
       "16                                 warfarin [cytosol]  R-HSA-1430728   \n",
       "1452                          Sec-tRNA(Sec) [cytosol]  R-HSA-1430728   \n",
       "1460                          Ser-tRNA(Sec) [cytosol]  R-HSA-1430728   \n",
       "1960            (ADP-D-ribosyl)(n)-acceptor [cytosol]  R-HSA-1430728   \n",
       "2015          (ADP-D-ribosyl)(n+1)-acceptor [cytosol]  R-HSA-1430728   \n",
       "3750  (18S)-hydroperoxyicosapentaenoic acid [cytosol]  R-HSA-1430728   \n",
       "3859                 5S,6S-epoxy-18(S)-HEPE [cytosol]  R-HSA-1430728   \n",
       "3974                 5S,6S-epoxy-18(R)-HEPE [cytosol]  R-HSA-1430728   \n",
       "4147                     4(S)-Hp-17(R)-HDHA [cytosol]  R-HSA-1430728   \n",
       "4192                     7(S)-Hp-17(R)-HDHA [cytosol]  R-HSA-1430728   \n",
       "\n",
       "                                           reactome_url reactome_name  \\\n",
       "16    https://reactome.org/PathwayBrowser/#/R-HSA-14...    Metabolism   \n",
       "1452  https://reactome.org/PathwayBrowser/#/R-HSA-14...    Metabolism   \n",
       "1460  https://reactome.org/PathwayBrowser/#/R-HSA-14...    Metabolism   \n",
       "1960  https://reactome.org/PathwayBrowser/#/R-HSA-14...    Metabolism   \n",
       "2015  https://reactome.org/PathwayBrowser/#/R-HSA-14...    Metabolism   \n",
       "3750  https://reactome.org/PathwayBrowser/#/R-HSA-14...    Metabolism   \n",
       "3859  https://reactome.org/PathwayBrowser/#/R-HSA-14...    Metabolism   \n",
       "3974  https://reactome.org/PathwayBrowser/#/R-HSA-14...    Metabolism   \n",
       "4147  https://reactome.org/PathwayBrowser/#/R-HSA-14...    Metabolism   \n",
       "4192  https://reactome.org/PathwayBrowser/#/R-HSA-14...    Metabolism   \n",
       "\n",
       "     evidence_code         taxon  \n",
       "16             TAS  Homo sapiens  \n",
       "1452           IEA  Homo sapiens  \n",
       "1460           IEA  Homo sapiens  \n",
       "1960           TAS  Homo sapiens  \n",
       "2015           TAS  Homo sapiens  \n",
       "3750           TAS  Homo sapiens  \n",
       "3859           TAS  Homo sapiens  \n",
       "3974           TAS  Homo sapiens  \n",
       "4147           TAS  Homo sapiens  \n",
       "4192           TAS  Homo sapiens  "
      ]
     },
     "execution_count": 27,
     "metadata": {},
     "output_type": "execute_result"
    }
   ],
   "source": [
    "chem_hpw.query('external_id in @no_mychem').drop_duplicates(subset=['external_id']).head(10)"
   ]
  },
  {
   "cell_type": "markdown",
   "metadata": {},
   "source": [
    "Lots of tRNAs and other quite specific things.. I don't htink these will add much as they're not the small molecules we're interested in...\n",
    "\n",
    "Maybe warfarin? not sure why that one isn't mapped..."
   ]
  },
  {
   "cell_type": "code",
   "execution_count": 28,
   "metadata": {
    "scrolled": false
   },
   "outputs": [],
   "source": [
    "bad_keys = {'query', '_id', 'notfound'}\n",
    "mesh_loc = {'drugcentral': 'mesh_descriptor_ui', 'ginas': 'MESH'}\n",
    "\n",
    "chebi_to_mesh = dict()\n",
    "\n",
    "for r in res:\n",
    "    msh_id = set()\n",
    "    for k, v in mesh_loc.items():\n",
    "        potential_id = r.get(k, dict()).get('xrefs', dict()).get(v)\n",
    "        if potential_id is not None:\n",
    "            if type(potential_id) == str:\n",
    "                msh_id.add('MESH:'+potential_id)\n",
    "            elif type(potential_id == list):\n",
    "                for pid in potential_id:\n",
    "                    msh_id.add('MESH:'+pid)\n",
    "    if len(msh_id) == 1:\n",
    "        chebi_to_mesh[r['query']] = msh_id.pop()\n",
    "        continue\n",
    "    elif len(msh_id) > 1:\n",
    "        chebi_to_mesh[r['query']] = '|'.join(msh_id)\n",
    "        continue\n",
    "    dbid = r.get('drugbank', dict()).get('id')\n",
    "    if dbid is not None:\n",
    "        chebi_to_mesh[r['query']] = 'DB:'+ dbid"
   ]
  },
  {
   "cell_type": "code",
   "execution_count": 29,
   "metadata": {},
   "outputs": [
    {
     "name": "stdout",
     "output_type": "stream",
     "text": [
      "ChEBI IDs only mappable to Drugbank 226\n"
     ]
    }
   ],
   "source": [
    "drug_bank_ids = [v[3:] for v in chebi_to_mesh.values() if v.startswith('DB:')]\n",
    "print('ChEBI IDs only mappable to Drugbank {:,}'.format(len(drug_bank_ids)))"
   ]
  },
  {
   "cell_type": "code",
   "execution_count": 30,
   "metadata": {},
   "outputs": [
    {
     "name": "stdout",
     "output_type": "stream",
     "text": [
      "DrugBank IDs already in the network: 127\n"
     ]
    }
   ],
   "source": [
    "print('DrugBank IDs already in the network: {:,}'.format(len(all_nodes.query('drug_bank_ids in @drug_bank_ids'))))"
   ]
  },
  {
   "cell_type": "code",
   "execution_count": 31,
   "metadata": {},
   "outputs": [],
   "source": [
    "dbid_to_msh = all_nodes.query('drug_bank_ids in @drug_bank_ids').set_index('drug_bank_ids')['id'].to_dict()\n",
    "dbid_to_msh = {'DB:'+k: v for k, v in dbid_to_msh.items()}"
   ]
  },
  {
   "cell_type": "code",
   "execution_count": 32,
   "metadata": {},
   "outputs": [],
   "source": [
    "chebi_to_mesh = {k: dbid_to_msh.get(v, v) for k, v in chebi_to_mesh.items()}"
   ]
  },
  {
   "cell_type": "code",
   "execution_count": 33,
   "metadata": {},
   "outputs": [
    {
     "name": "stdout",
     "output_type": "stream",
     "text": [
      "ChEBI IDs now mappable to MeSH: 598\n"
     ]
    }
   ],
   "source": [
    "print('ChEBI IDs now mappable to MeSH: {:,}'.format(len([v for v in chebi_to_mesh.values() if v.startswith('MESH:')])))"
   ]
  },
  {
   "cell_type": "code",
   "execution_count": 34,
   "metadata": {},
   "outputs": [],
   "source": [
    "chem_hpw['mesh_id'] = chem_hpw['external_id'].map(chebi_to_mesh)"
   ]
  },
  {
   "cell_type": "code",
   "execution_count": 35,
   "metadata": {},
   "outputs": [
    {
     "name": "stdout",
     "output_type": "stream",
     "text": [
      "39314\n",
      "16304\n"
     ]
    }
   ],
   "source": [
    "chm_exp = expand_col_on_char(chem_hpw.dropna(subset=['mesh_id']), 'mesh_id', '|')\n",
    "chem_hpw = pd.concat([chm_exp, chem_hpw[chem_hpw['mesh_id'].isnull()]], sort=False)\n",
    "print(len(chem_hpw))\n",
    "print(len(chem_hpw.query('mesh_id in @all_node_ids')))"
   ]
  },
  {
   "cell_type": "code",
   "execution_count": 36,
   "metadata": {},
   "outputs": [],
   "source": [
    "chebi_to_db = {k: v[3:] for k,v in chebi_to_mesh.items() if v.startswith('DB:')}"
   ]
  },
  {
   "cell_type": "code",
   "execution_count": 37,
   "metadata": {},
   "outputs": [
    {
     "data": {
      "text/html": [
       "<div>\n",
       "<style scoped>\n",
       "    .dataframe tbody tr th:only-of-type {\n",
       "        vertical-align: middle;\n",
       "    }\n",
       "\n",
       "    .dataframe tbody tr th {\n",
       "        vertical-align: top;\n",
       "    }\n",
       "\n",
       "    .dataframe thead th {\n",
       "        text-align: right;\n",
       "    }\n",
       "</style>\n",
       "<table border=\"1\" class=\"dataframe\">\n",
       "  <thead>\n",
       "    <tr style=\"text-align: right;\">\n",
       "      <th></th>\n",
       "      <th>external_id</th>\n",
       "      <th>pe_reactome_id</th>\n",
       "      <th>pe_name</th>\n",
       "      <th>reactome_id</th>\n",
       "      <th>reactome_url</th>\n",
       "      <th>reactome_name</th>\n",
       "      <th>evidence_code</th>\n",
       "      <th>taxon</th>\n",
       "      <th>mesh_id</th>\n",
       "    </tr>\n",
       "  </thead>\n",
       "  <tbody>\n",
       "    <tr>\n",
       "      <th>62</th>\n",
       "      <td>CHEBI:10036</td>\n",
       "      <td>R-ALL-5696412</td>\n",
       "      <td>arachidyl ester [endoplasmic reticulum lumen]</td>\n",
       "      <td>R-HSA-1430728</td>\n",
       "      <td>https://reactome.org/PathwayBrowser/#/R-HSA-14...</td>\n",
       "      <td>Metabolism</td>\n",
       "      <td>TAS</td>\n",
       "      <td>Homo sapiens</td>\n",
       "      <td>NaN</td>\n",
       "    </tr>\n",
       "    <tr>\n",
       "      <th>125</th>\n",
       "      <td>CHEBI:10049</td>\n",
       "      <td>R-ALL-2509848</td>\n",
       "      <td>XTP [cytosol]</td>\n",
       "      <td>R-HSA-1430728</td>\n",
       "      <td>https://reactome.org/PathwayBrowser/#/R-HSA-14...</td>\n",
       "      <td>Metabolism</td>\n",
       "      <td>TAS</td>\n",
       "      <td>Homo sapiens</td>\n",
       "      <td>NaN</td>\n",
       "    </tr>\n",
       "    <tr>\n",
       "      <th>477</th>\n",
       "      <td>CHEBI:10545</td>\n",
       "      <td>R-ALL-76342</td>\n",
       "      <td>e- [endoplasmic reticulum lumen]</td>\n",
       "      <td>R-HSA-140180</td>\n",
       "      <td>https://reactome.org/PathwayBrowser/#/R-HSA-14...</td>\n",
       "      <td>COX reactions</td>\n",
       "      <td>TAS</td>\n",
       "      <td>Homo sapiens</td>\n",
       "      <td>NaN</td>\n",
       "    </tr>\n",
       "    <tr>\n",
       "      <th>576</th>\n",
       "      <td>CHEBI:10668</td>\n",
       "      <td>R-HSA-6782371</td>\n",
       "      <td>unspliced tRNA(Leu)(CAA) containing C-34,48 [n...</td>\n",
       "      <td>R-HSA-6782315</td>\n",
       "      <td>https://reactome.org/PathwayBrowser/#/R-HSA-67...</td>\n",
       "      <td>tRNA modification in the nucleus and cytosol</td>\n",
       "      <td>IEA</td>\n",
       "      <td>Homo sapiens</td>\n",
       "      <td>NaN</td>\n",
       "    </tr>\n",
       "    <tr>\n",
       "      <th>776</th>\n",
       "      <td>CHEBI:10723</td>\n",
       "      <td>R-ALL-77343</td>\n",
       "      <td>tdec2-CoA [mitochondrial matrix]</td>\n",
       "      <td>R-HSA-1430728</td>\n",
       "      <td>https://reactome.org/PathwayBrowser/#/R-HSA-14...</td>\n",
       "      <td>Metabolism</td>\n",
       "      <td>TAS</td>\n",
       "      <td>Homo sapiens</td>\n",
       "      <td>NaN</td>\n",
       "    </tr>\n",
       "  </tbody>\n",
       "</table>\n",
       "</div>"
      ],
      "text/plain": [
       "     external_id pe_reactome_id  \\\n",
       "62   CHEBI:10036  R-ALL-5696412   \n",
       "125  CHEBI:10049  R-ALL-2509848   \n",
       "477  CHEBI:10545    R-ALL-76342   \n",
       "576  CHEBI:10668  R-HSA-6782371   \n",
       "776  CHEBI:10723    R-ALL-77343   \n",
       "\n",
       "                                               pe_name    reactome_id  \\\n",
       "62       arachidyl ester [endoplasmic reticulum lumen]  R-HSA-1430728   \n",
       "125                                      XTP [cytosol]  R-HSA-1430728   \n",
       "477                   e- [endoplasmic reticulum lumen]   R-HSA-140180   \n",
       "576  unspliced tRNA(Leu)(CAA) containing C-34,48 [n...  R-HSA-6782315   \n",
       "776                   tdec2-CoA [mitochondrial matrix]  R-HSA-1430728   \n",
       "\n",
       "                                          reactome_url  \\\n",
       "62   https://reactome.org/PathwayBrowser/#/R-HSA-14...   \n",
       "125  https://reactome.org/PathwayBrowser/#/R-HSA-14...   \n",
       "477  https://reactome.org/PathwayBrowser/#/R-HSA-14...   \n",
       "576  https://reactome.org/PathwayBrowser/#/R-HSA-67...   \n",
       "776  https://reactome.org/PathwayBrowser/#/R-HSA-14...   \n",
       "\n",
       "                                    reactome_name evidence_code         taxon  \\\n",
       "62                                     Metabolism           TAS  Homo sapiens   \n",
       "125                                    Metabolism           TAS  Homo sapiens   \n",
       "477                                 COX reactions           TAS  Homo sapiens   \n",
       "576  tRNA modification in the nucleus and cytosol           IEA  Homo sapiens   \n",
       "776                                    Metabolism           TAS  Homo sapiens   \n",
       "\n",
       "    mesh_id  \n",
       "62      NaN  \n",
       "125     NaN  \n",
       "477     NaN  \n",
       "576     NaN  \n",
       "776     NaN  "
      ]
     },
     "execution_count": 37,
     "metadata": {},
     "output_type": "execute_result"
    }
   ],
   "source": [
    "mychem_no_mesh_db = set(chebi_ids) - set(no_mychem) - set(chebi_to_mesh.keys())\n",
    "chem_hpw.query('external_id in @mychem_no_mesh_db').drop_duplicates(subset=['external_id']).head(5)"
   ]
  },
  {
   "cell_type": "markdown",
   "metadata": {},
   "source": [
    "Some of these are weird... electron... beta-particle... "
   ]
  },
  {
   "cell_type": "code",
   "execution_count": 38,
   "metadata": {},
   "outputs": [
    {
     "name": "stdout",
     "output_type": "stream",
     "text": [
      "Chem Pathway Mappings\n",
      " Edges Total:       39,314\n",
      " Number mapped:     16,304\n",
      " Number unmapped:   23,010\n",
      "Nodes\n",
      " Total Chems:        2,081\n",
      " Chems mapped:         559\n",
      " Chems unmapped:     1,533\n",
      "Mapping Fractions\n",
      " Nodes:            26.721%\n",
      " Eodes:            41.471%\n"
     ]
    }
   ],
   "source": [
    "print('Chem Pathway Mappings')\n",
    "print(' Edges Total:     {:8,}'.format(len(chem_hpw)))\n",
    "e_map = len(chem_hpw.query('mesh_id in @all_node_ids'))\n",
    "e_umap = len(chem_hpw.query('mesh_id not in @all_node_ids'))\n",
    "print(' Number mapped:   {:8,}'.format(e_map))\n",
    "print(' Number unmapped: {:8,}'.format(e_umap))\n",
    "print('Nodes')\n",
    "\n",
    "n_map = chem_hpw.query('mesh_id in @all_node_ids')['external_id'].nunique()\n",
    "n_umap = chem_hpw.query('mesh_id not in @all_node_ids')['external_id'].nunique()\n",
    "\n",
    "print(' Total Chems:     {:8,}'.format(chem_hpw['external_id'].nunique()))\n",
    "print(' Chems mapped:    {:8,}'.format(n_map))\n",
    "print(' Chems unmapped:  {:8,}'.format(n_umap))\n",
    "print('Mapping Fractions')\n",
    "print(' Nodes:           {:8.3%}'.format(n_map / (n_map + n_umap)))\n",
    "print(' Eodes:           {:8.3%}'.format(e_map / (e_map + e_umap)))"
   ]
  },
  {
   "cell_type": "markdown",
   "metadata": {},
   "source": [
    "Fairly unsuccessful endavour...  only about 1/4 of the nodes, and about 2/5 of the edges...\n",
    "\n",
    "Chebi terms are more specific than MeSH... However, these could be interesting bridging nodes, as having relationships with both pathways and reactions.  We will add them in as new nodes."
   ]
  },
  {
   "cell_type": "code",
   "execution_count": 39,
   "metadata": {},
   "outputs": [
    {
     "data": {
      "text/html": [
       "<div>\n",
       "<style scoped>\n",
       "    .dataframe tbody tr th:only-of-type {\n",
       "        vertical-align: middle;\n",
       "    }\n",
       "\n",
       "    .dataframe tbody tr th {\n",
       "        vertical-align: top;\n",
       "    }\n",
       "\n",
       "    .dataframe thead th {\n",
       "        text-align: right;\n",
       "    }\n",
       "</style>\n",
       "<table border=\"1\" class=\"dataframe\">\n",
       "  <thead>\n",
       "    <tr style=\"text-align: right;\">\n",
       "      <th></th>\n",
       "      <th>id</th>\n",
       "      <th>name</th>\n",
       "      <th>label</th>\n",
       "    </tr>\n",
       "  </thead>\n",
       "  <tbody>\n",
       "    <tr>\n",
       "      <th>26</th>\n",
       "      <td>CHEBI:114785</td>\n",
       "      <td>Erlotinib</td>\n",
       "      <td>Compound</td>\n",
       "    </tr>\n",
       "    <tr>\n",
       "      <th>80</th>\n",
       "      <td>CHEBI:140420</td>\n",
       "      <td>eribaxaban</td>\n",
       "      <td>Compound</td>\n",
       "    </tr>\n",
       "  </tbody>\n",
       "</table>\n",
       "</div>"
      ],
      "text/plain": [
       "              id        name     label\n",
       "26  CHEBI:114785   Erlotinib  Compound\n",
       "80  CHEBI:140420  eribaxaban  Compound"
      ]
     },
     "execution_count": 39,
     "metadata": {},
     "output_type": "execute_result"
    }
   ],
   "source": [
    "new_chems = chem_hpw.query('mesh_id not in @all_node_ids').copy()\n",
    "\n",
    "new_chems['pe_name'] = new_chems['pe_name'].str.split(' \\[', expand=True)[0]\n",
    "new_chems = new_chems[['external_id', 'pe_name']].drop_duplicates()\n",
    "new_chems.columns = [c.split('_')[-1] for c in new_chems.columns]\n",
    "new_chems['label'] = 'Compound'\n",
    "new_chems.head(2)"
   ]
  },
  {
   "cell_type": "code",
   "execution_count": 40,
   "metadata": {},
   "outputs": [
    {
     "data": {
      "text/plain": [
       "1968"
      ]
     },
     "execution_count": 40,
     "metadata": {},
     "output_type": "execute_result"
    }
   ],
   "source": [
    "len(new_chems)"
   ]
  },
  {
   "cell_type": "markdown",
   "metadata": {},
   "source": [
    "#### String matching for Chebi to Mesh"
   ]
  },
  {
   "cell_type": "code",
   "execution_count": 41,
   "metadata": {},
   "outputs": [],
   "source": [
    "# Perhaps we can do some string matching ot get some more matches...\n",
    "new_chems['l_name'] = new_chems['name'].str.lower()\n",
    "lower_chem_names = new_chems['l_name'].values\n",
    "all_nodes['l_name'] = all_nodes['name'].str.lower()"
   ]
  },
  {
   "cell_type": "code",
   "execution_count": 42,
   "metadata": {},
   "outputs": [
    {
     "data": {
      "text/html": [
       "<div>\n",
       "<style scoped>\n",
       "    .dataframe tbody tr th:only-of-type {\n",
       "        vertical-align: middle;\n",
       "    }\n",
       "\n",
       "    .dataframe tbody tr th {\n",
       "        vertical-align: top;\n",
       "    }\n",
       "\n",
       "    .dataframe thead th {\n",
       "        text-align: right;\n",
       "    }\n",
       "</style>\n",
       "<table border=\"1\" class=\"dataframe\">\n",
       "  <thead>\n",
       "    <tr style=\"text-align: right;\">\n",
       "      <th></th>\n",
       "      <th>id</th>\n",
       "      <th>name</th>\n",
       "      <th>label</th>\n",
       "      <th>l_name</th>\n",
       "      <th>mesh_id</th>\n",
       "    </tr>\n",
       "  </thead>\n",
       "  <tbody>\n",
       "    <tr>\n",
       "      <th>26</th>\n",
       "      <td>CHEBI:114785</td>\n",
       "      <td>Erlotinib</td>\n",
       "      <td>Compound</td>\n",
       "      <td>erlotinib</td>\n",
       "      <td>NaN</td>\n",
       "    </tr>\n",
       "    <tr>\n",
       "      <th>80</th>\n",
       "      <td>CHEBI:140420</td>\n",
       "      <td>eribaxaban</td>\n",
       "      <td>Compound</td>\n",
       "      <td>eribaxaban</td>\n",
       "      <td>NaN</td>\n",
       "    </tr>\n",
       "  </tbody>\n",
       "</table>\n",
       "</div>"
      ],
      "text/plain": [
       "              id        name     label      l_name mesh_id\n",
       "26  CHEBI:114785   Erlotinib  Compound   erlotinib     NaN\n",
       "80  CHEBI:140420  eribaxaban  Compound  eribaxaban     NaN"
      ]
     },
     "execution_count": 42,
     "metadata": {},
     "output_type": "execute_result"
    }
   ],
   "source": [
    "name_to_mesh = all_nodes.query('l_name in @lower_chem_names and label != \"Gene\"').set_index('l_name')['id'].to_dict()\n",
    "new_chems['mesh_id'] = new_chems['l_name'].map(name_to_mesh)\n",
    "new_chems.head(2)"
   ]
  },
  {
   "cell_type": "code",
   "execution_count": 43,
   "metadata": {},
   "outputs": [],
   "source": [
    "# Add these new mappings to the chebi to mesh mapper\n",
    "chebi_to_mesh_by_name = new_chems.dropna(subset=['mesh_id']).set_index('id')['mesh_id'].to_dict()\n",
    "chebi_to_mesh = {**chebi_to_mesh_by_name, **chebi_to_mesh}"
   ]
  },
  {
   "cell_type": "code",
   "execution_count": 44,
   "metadata": {
    "scrolled": true
   },
   "outputs": [
    {
     "data": {
      "text/plain": [
       "1868"
      ]
     },
     "execution_count": 44,
     "metadata": {},
     "output_type": "execute_result"
    }
   ],
   "source": [
    "new_chems = new_chems[new_chems['mesh_id'].isnull()][['id', 'name', 'label']]\n",
    "len(new_chems)"
   ]
  },
  {
   "cell_type": "markdown",
   "metadata": {},
   "source": [
    "picked up about 100 via string mapping"
   ]
  },
  {
   "cell_type": "markdown",
   "metadata": {},
   "source": [
    "#### One to Many Chebi to MeSH mappings\n",
    "\n",
    "Some ChEBI IDs may map to multipe MeSH IDs...  If only one of those many MeSH ID is already contained in the network we will keep that mapping...\n"
   ]
  },
  {
   "cell_type": "code",
   "execution_count": 45,
   "metadata": {},
   "outputs": [
    {
     "data": {
      "text/html": [
       "<div>\n",
       "<style scoped>\n",
       "    .dataframe tbody tr th:only-of-type {\n",
       "        vertical-align: middle;\n",
       "    }\n",
       "\n",
       "    .dataframe tbody tr th {\n",
       "        vertical-align: top;\n",
       "    }\n",
       "\n",
       "    .dataframe thead th {\n",
       "        text-align: right;\n",
       "    }\n",
       "</style>\n",
       "<table border=\"1\" class=\"dataframe\">\n",
       "  <thead>\n",
       "    <tr style=\"text-align: right;\">\n",
       "      <th></th>\n",
       "      <th>external_id</th>\n",
       "      <th>pe_reactome_id</th>\n",
       "      <th>pe_name</th>\n",
       "      <th>reactome_id</th>\n",
       "      <th>reactome_url</th>\n",
       "      <th>reactome_name</th>\n",
       "      <th>evidence_code</th>\n",
       "      <th>taxon</th>\n",
       "      <th>mesh_id</th>\n",
       "    </tr>\n",
       "  </thead>\n",
       "  <tbody>\n",
       "    <tr>\n",
       "      <th>27</th>\n",
       "      <td>CHEBI:114785</td>\n",
       "      <td>R-ALL-1173285</td>\n",
       "      <td>Erlotinib [cytosol]</td>\n",
       "      <td>R-HSA-1236382</td>\n",
       "      <td>https://reactome.org/PathwayBrowser/#/R-HSA-12...</td>\n",
       "      <td>Constitutive Signaling by Ligand-Responsive EG...</td>\n",
       "      <td>TAS</td>\n",
       "      <td>Homo sapiens</td>\n",
       "      <td>MESH:D000069347</td>\n",
       "    </tr>\n",
       "    <tr>\n",
       "      <th>6255</th>\n",
       "      <td>CHEBI:16134</td>\n",
       "      <td>R-ALL-29382</td>\n",
       "      <td>NH3 [cytosol]</td>\n",
       "      <td>R-HSA-112310</td>\n",
       "      <td>https://reactome.org/PathwayBrowser/#/R-HSA-11...</td>\n",
       "      <td>Neurotransmitter release cycle</td>\n",
       "      <td>TAS</td>\n",
       "      <td>Homo sapiens</td>\n",
       "      <td>MESH:D000641</td>\n",
       "    </tr>\n",
       "    <tr>\n",
       "      <th>6944</th>\n",
       "      <td>CHEBI:16243</td>\n",
       "      <td>R-ALL-8953397</td>\n",
       "      <td>quercetin [nucleoplasm]</td>\n",
       "      <td>R-HSA-8935690</td>\n",
       "      <td>https://reactome.org/PathwayBrowser/#/R-HSA-89...</td>\n",
       "      <td>Digestion</td>\n",
       "      <td>TAS</td>\n",
       "      <td>Homo sapiens</td>\n",
       "      <td>MESH:D011794</td>\n",
       "    </tr>\n",
       "    <tr>\n",
       "      <th>13340</th>\n",
       "      <td>CHEBI:17688</td>\n",
       "      <td>R-ALL-30661</td>\n",
       "      <td>Nicotine [endoplasmic reticulum lumen]</td>\n",
       "      <td>R-HSA-1430728</td>\n",
       "      <td>https://reactome.org/PathwayBrowser/#/R-HSA-14...</td>\n",
       "      <td>Metabolism</td>\n",
       "      <td>TAS</td>\n",
       "      <td>Homo sapiens</td>\n",
       "      <td>MESH:D009538</td>\n",
       "    </tr>\n",
       "    <tr>\n",
       "      <th>19232</th>\n",
       "      <td>CHEBI:3175</td>\n",
       "      <td>R-ALL-9627030</td>\n",
       "      <td>brimonidine [extracellular region]</td>\n",
       "      <td>R-HSA-109582</td>\n",
       "      <td>https://reactome.org/PathwayBrowser/#/R-HSA-10...</td>\n",
       "      <td>Hemostasis</td>\n",
       "      <td>TAS</td>\n",
       "      <td>Homo sapiens</td>\n",
       "      <td>MESH:D000068438</td>\n",
       "    </tr>\n",
       "    <tr>\n",
       "      <th>19259</th>\n",
       "      <td>CHEBI:31932</td>\n",
       "      <td>R-ALL-6786175</td>\n",
       "      <td>OM [cytosol]</td>\n",
       "      <td>R-HSA-1430728</td>\n",
       "      <td>https://reactome.org/PathwayBrowser/#/R-HSA-14...</td>\n",
       "      <td>Metabolism</td>\n",
       "      <td>TAS</td>\n",
       "      <td>Homo sapiens</td>\n",
       "      <td>MESH:D000068557</td>\n",
       "    </tr>\n",
       "    <tr>\n",
       "      <th>19831</th>\n",
       "      <td>CHEBI:41423</td>\n",
       "      <td>R-ALL-2309786</td>\n",
       "      <td>celecoxib [cytosol]</td>\n",
       "      <td>R-HSA-1430728</td>\n",
       "      <td>https://reactome.org/PathwayBrowser/#/R-HSA-14...</td>\n",
       "      <td>Metabolism</td>\n",
       "      <td>TAS</td>\n",
       "      <td>Homo sapiens</td>\n",
       "      <td>MESH:D000068579</td>\n",
       "    </tr>\n",
       "    <tr>\n",
       "      <th>20258</th>\n",
       "      <td>CHEBI:49040</td>\n",
       "      <td>R-ALL-265479</td>\n",
       "      <td>EZE [extracellular region]</td>\n",
       "      <td>R-HSA-8963676</td>\n",
       "      <td>https://reactome.org/PathwayBrowser/#/R-HSA-89...</td>\n",
       "      <td>Intestinal absorption</td>\n",
       "      <td>TAS</td>\n",
       "      <td>Homo sapiens</td>\n",
       "      <td>MESH:D000069438</td>\n",
       "    </tr>\n",
       "    <tr>\n",
       "      <th>21513</th>\n",
       "      <td>CHEBI:68579</td>\n",
       "      <td>R-ALL-9015055</td>\n",
       "      <td>rivaroxaban [extracellular region]</td>\n",
       "      <td>R-HSA-109582</td>\n",
       "      <td>https://reactome.org/PathwayBrowser/#/R-HSA-10...</td>\n",
       "      <td>Hemostasis</td>\n",
       "      <td>TAS</td>\n",
       "      <td>Homo sapiens</td>\n",
       "      <td>MESH:D000069552</td>\n",
       "    </tr>\n",
       "    <tr>\n",
       "      <th>21840</th>\n",
       "      <td>CHEBI:8874</td>\n",
       "      <td>R-ALL-9635054</td>\n",
       "      <td>rivastigmine [extracellular region]</td>\n",
       "      <td>R-HSA-112311</td>\n",
       "      <td>https://reactome.org/PathwayBrowser/#/R-HSA-11...</td>\n",
       "      <td>Neurotransmitter clearance</td>\n",
       "      <td>TAS</td>\n",
       "      <td>Homo sapiens</td>\n",
       "      <td>MESH:D000068836</td>\n",
       "    </tr>\n",
       "    <tr>\n",
       "      <th>21972</th>\n",
       "      <td>CHEBI:9927</td>\n",
       "      <td>R-ALL-9615299</td>\n",
       "      <td>valsartan [extracellular region]</td>\n",
       "      <td>R-HSA-162582</td>\n",
       "      <td>https://reactome.org/PathwayBrowser/#/R-HSA-16...</td>\n",
       "      <td>Signal Transduction</td>\n",
       "      <td>TAS</td>\n",
       "      <td>Homo sapiens</td>\n",
       "      <td>MESH:D000068756</td>\n",
       "    </tr>\n",
       "  </tbody>\n",
       "</table>\n",
       "</div>"
      ],
      "text/plain": [
       "        external_id pe_reactome_id                                 pe_name  \\\n",
       "27     CHEBI:114785  R-ALL-1173285                     Erlotinib [cytosol]   \n",
       "6255    CHEBI:16134    R-ALL-29382                           NH3 [cytosol]   \n",
       "6944    CHEBI:16243  R-ALL-8953397                 quercetin [nucleoplasm]   \n",
       "13340   CHEBI:17688    R-ALL-30661  Nicotine [endoplasmic reticulum lumen]   \n",
       "19232    CHEBI:3175  R-ALL-9627030      brimonidine [extracellular region]   \n",
       "19259   CHEBI:31932  R-ALL-6786175                            OM [cytosol]   \n",
       "19831   CHEBI:41423  R-ALL-2309786                     celecoxib [cytosol]   \n",
       "20258   CHEBI:49040   R-ALL-265479              EZE [extracellular region]   \n",
       "21513   CHEBI:68579  R-ALL-9015055      rivaroxaban [extracellular region]   \n",
       "21840    CHEBI:8874  R-ALL-9635054     rivastigmine [extracellular region]   \n",
       "21972    CHEBI:9927  R-ALL-9615299        valsartan [extracellular region]   \n",
       "\n",
       "         reactome_id                                       reactome_url  \\\n",
       "27     R-HSA-1236382  https://reactome.org/PathwayBrowser/#/R-HSA-12...   \n",
       "6255    R-HSA-112310  https://reactome.org/PathwayBrowser/#/R-HSA-11...   \n",
       "6944   R-HSA-8935690  https://reactome.org/PathwayBrowser/#/R-HSA-89...   \n",
       "13340  R-HSA-1430728  https://reactome.org/PathwayBrowser/#/R-HSA-14...   \n",
       "19232   R-HSA-109582  https://reactome.org/PathwayBrowser/#/R-HSA-10...   \n",
       "19259  R-HSA-1430728  https://reactome.org/PathwayBrowser/#/R-HSA-14...   \n",
       "19831  R-HSA-1430728  https://reactome.org/PathwayBrowser/#/R-HSA-14...   \n",
       "20258  R-HSA-8963676  https://reactome.org/PathwayBrowser/#/R-HSA-89...   \n",
       "21513   R-HSA-109582  https://reactome.org/PathwayBrowser/#/R-HSA-10...   \n",
       "21840   R-HSA-112311  https://reactome.org/PathwayBrowser/#/R-HSA-11...   \n",
       "21972   R-HSA-162582  https://reactome.org/PathwayBrowser/#/R-HSA-16...   \n",
       "\n",
       "                                           reactome_name evidence_code  \\\n",
       "27     Constitutive Signaling by Ligand-Responsive EG...           TAS   \n",
       "6255                      Neurotransmitter release cycle           TAS   \n",
       "6944                                           Digestion           TAS   \n",
       "13340                                         Metabolism           TAS   \n",
       "19232                                         Hemostasis           TAS   \n",
       "19259                                         Metabolism           TAS   \n",
       "19831                                         Metabolism           TAS   \n",
       "20258                              Intestinal absorption           TAS   \n",
       "21513                                         Hemostasis           TAS   \n",
       "21840                         Neurotransmitter clearance           TAS   \n",
       "21972                                Signal Transduction           TAS   \n",
       "\n",
       "              taxon          mesh_id  \n",
       "27     Homo sapiens  MESH:D000069347  \n",
       "6255   Homo sapiens     MESH:D000641  \n",
       "6944   Homo sapiens     MESH:D011794  \n",
       "13340  Homo sapiens     MESH:D009538  \n",
       "19232  Homo sapiens  MESH:D000068438  \n",
       "19259  Homo sapiens  MESH:D000068557  \n",
       "19831  Homo sapiens  MESH:D000068579  \n",
       "20258  Homo sapiens  MESH:D000069438  \n",
       "21513  Homo sapiens  MESH:D000069552  \n",
       "21840  Homo sapiens  MESH:D000068836  \n",
       "21972  Homo sapiens  MESH:D000068756  "
      ]
     },
     "execution_count": 45,
     "metadata": {},
     "output_type": "execute_result"
    }
   ],
   "source": [
    "dupidx = chem_hpw.drop_duplicates(subset=['external_id', 'mesh_id'])['external_id'].duplicated(keep=False)\n",
    "dupidx = dupidx[dupidx].index\n",
    "dup_ids = (chem_hpw.loc[dupidx]\n",
    "                    .sort_values('external_id')\n",
    "                    .query('mesh_id in @all_node_ids')\n",
    "                    .drop_duplicates(subset=['external_id'], keep=False)) # We will fix those with multiple MeSH ids next...\n",
    "dup_ids"
   ]
  },
  {
   "cell_type": "code",
   "execution_count": 46,
   "metadata": {},
   "outputs": [],
   "source": [
    "resolved_dups = dup_ids.set_index('external_id')['mesh_id'].to_dict()\n",
    "chebi_to_mesh.update(resolved_dups)"
   ]
  },
  {
   "cell_type": "markdown",
   "metadata": {},
   "source": [
    "\n",
    "Some ChEBIs will be mapped to multiple MeSH ids... that are already in the network. We need to see how many are already in the network, and if they need to be resolved to 'more correct' identifier."
   ]
  },
  {
   "cell_type": "code",
   "execution_count": 47,
   "metadata": {},
   "outputs": [
    {
     "data": {
      "text/plain": [
       "10"
      ]
     },
     "execution_count": 47,
     "metadata": {},
     "output_type": "execute_result"
    }
   ],
   "source": [
    "(chem_hpw.query('mesh_id in @all_node_ids')\n",
    "         .drop_duplicates(subset=['external_id', 'mesh_id'])['external_id']\n",
    "         .duplicated(keep='first')\n",
    "         .sum())"
   ]
  },
  {
   "cell_type": "markdown",
   "metadata": {},
   "source": [
    "Ten ChEBI ids map to multiple mesh IDs that are already in the network...  This is a small enough number that maybe we can maunally determine what the correct one should be..."
   ]
  },
  {
   "cell_type": "code",
   "execution_count": 48,
   "metadata": {},
   "outputs": [],
   "source": [
    "idx = (chem_hpw.query('mesh_id in @all_node_ids')\n",
    "         .drop_duplicates(subset=['external_id', 'mesh_id'])['external_id']\n",
    "         .duplicated(keep=False))\n",
    "idx = idx[idx].index\n",
    "doubled_ids = chem_hpw.loc[idx].sort_values('external_id')['mesh_id'].values"
   ]
  },
  {
   "cell_type": "code",
   "execution_count": 49,
   "metadata": {},
   "outputs": [
    {
     "name": "stdout",
     "output_type": "stream",
     "text": [
      "9\n"
     ]
    }
   ],
   "source": [
    "duped_mesh_to_chebi = chem_hpw.loc[idx].set_index('mesh_id')['external_id'].to_dict()\n",
    "chebi_to_name = chem_hpw.loc[idx].set_index('external_id')['pe_name'].to_dict()\n",
    "\n",
    "duped = all_nodes.query('id in @doubled_ids').copy()\n",
    "duped['chebi'] = duped['id'].map(duped_mesh_to_chebi)\n",
    "duped['chebi_name'] = duped['chebi'].map(chebi_to_name)\n",
    "\n",
    "grpd = duped.groupby('chebi')\n",
    "groups = list(grpd.groups.keys())\n",
    "print(len(groups))"
   ]
  },
  {
   "cell_type": "code",
   "execution_count": 50,
   "metadata": {},
   "outputs": [
    {
     "data": {
      "text/html": [
       "<div>\n",
       "<style scoped>\n",
       "    .dataframe tbody tr th:only-of-type {\n",
       "        vertical-align: middle;\n",
       "    }\n",
       "\n",
       "    .dataframe tbody tr th {\n",
       "        vertical-align: top;\n",
       "    }\n",
       "\n",
       "    .dataframe thead th {\n",
       "        text-align: right;\n",
       "    }\n",
       "</style>\n",
       "<table border=\"1\" class=\"dataframe\">\n",
       "  <thead>\n",
       "    <tr style=\"text-align: right;\">\n",
       "      <th></th>\n",
       "      <th>id</th>\n",
       "      <th>name</th>\n",
       "      <th>chebi</th>\n",
       "      <th>chebi_name</th>\n",
       "    </tr>\n",
       "  </thead>\n",
       "  <tbody>\n",
       "    <tr>\n",
       "      <th>82292</th>\n",
       "      <td>MESH:D004295</td>\n",
       "      <td>Dihydroxyphenylalanine</td>\n",
       "      <td>CHEBI:15765</td>\n",
       "      <td>L-Dopa [cytosol]</td>\n",
       "    </tr>\n",
       "    <tr>\n",
       "      <th>109388</th>\n",
       "      <td>MESH:D007980</td>\n",
       "      <td>Levodopa</td>\n",
       "      <td>CHEBI:15765</td>\n",
       "      <td>L-Dopa [cytosol]</td>\n",
       "    </tr>\n",
       "  </tbody>\n",
       "</table>\n",
       "</div>"
      ],
      "text/plain": [
       "                  id                    name        chebi        chebi_name\n",
       "82292   MESH:D004295  Dihydroxyphenylalanine  CHEBI:15765  L-Dopa [cytosol]\n",
       "109388  MESH:D007980                Levodopa  CHEBI:15765  L-Dopa [cytosol]"
      ]
     },
     "execution_count": 50,
     "metadata": {},
     "output_type": "execute_result"
    }
   ],
   "source": [
    "group_number = 0\n",
    "cols = ['id', 'name', 'chebi', 'chebi_name']\n",
    "\n",
    "grpd.get_group(groups[group_number])[cols]"
   ]
  },
  {
   "cell_type": "markdown",
   "metadata": {},
   "source": [
    "Dihydroxyphenlalanine is for the D-form form, where as Levodopa or L-Dopa is the L-form... Because the chebi name referenfces L-Dopa, we'll go with the L-form"
   ]
  },
  {
   "cell_type": "code",
   "execution_count": 51,
   "metadata": {},
   "outputs": [],
   "source": [
    "chebi_to_mesh.update({'CHEBI:15765': 'MESH:D007980'})"
   ]
  },
  {
   "cell_type": "code",
   "execution_count": 52,
   "metadata": {},
   "outputs": [
    {
     "data": {
      "text/html": [
       "<div>\n",
       "<style scoped>\n",
       "    .dataframe tbody tr th:only-of-type {\n",
       "        vertical-align: middle;\n",
       "    }\n",
       "\n",
       "    .dataframe tbody tr th {\n",
       "        vertical-align: top;\n",
       "    }\n",
       "\n",
       "    .dataframe thead th {\n",
       "        text-align: right;\n",
       "    }\n",
       "</style>\n",
       "<table border=\"1\" class=\"dataframe\">\n",
       "  <thead>\n",
       "    <tr style=\"text-align: right;\">\n",
       "      <th></th>\n",
       "      <th>id</th>\n",
       "      <th>name</th>\n",
       "      <th>chebi</th>\n",
       "      <th>chebi_name</th>\n",
       "    </tr>\n",
       "  </thead>\n",
       "  <tbody>\n",
       "    <tr>\n",
       "      <th>68409</th>\n",
       "      <td>MESH:D002245</td>\n",
       "      <td>Carbon Dioxide</td>\n",
       "      <td>CHEBI:16526</td>\n",
       "      <td>CO2 [nucleoplasm]</td>\n",
       "    </tr>\n",
       "    <tr>\n",
       "      <th>84513</th>\n",
       "      <td>MESH:D004367</td>\n",
       "      <td>Dry Ice</td>\n",
       "      <td>CHEBI:16526</td>\n",
       "      <td>CO2 [nucleoplasm]</td>\n",
       "    </tr>\n",
       "  </tbody>\n",
       "</table>\n",
       "</div>"
      ],
      "text/plain": [
       "                 id            name        chebi         chebi_name\n",
       "68409  MESH:D002245  Carbon Dioxide  CHEBI:16526  CO2 [nucleoplasm]\n",
       "84513  MESH:D004367         Dry Ice  CHEBI:16526  CO2 [nucleoplasm]"
      ]
     },
     "execution_count": 52,
     "metadata": {},
     "output_type": "execute_result"
    }
   ],
   "source": [
    "group_number = 1\n",
    "\n",
    "grpd.get_group(groups[group_number])[cols]"
   ]
  },
  {
   "cell_type": "markdown",
   "metadata": {},
   "source": [
    "This means CO2, not Dry ice..."
   ]
  },
  {
   "cell_type": "code",
   "execution_count": 53,
   "metadata": {},
   "outputs": [],
   "source": [
    "chebi_to_mesh.update({'CHEBI:16526': 'MESH:D002245'})"
   ]
  },
  {
   "cell_type": "code",
   "execution_count": 54,
   "metadata": {},
   "outputs": [
    {
     "data": {
      "text/html": [
       "<div>\n",
       "<style scoped>\n",
       "    .dataframe tbody tr th:only-of-type {\n",
       "        vertical-align: middle;\n",
       "    }\n",
       "\n",
       "    .dataframe tbody tr th {\n",
       "        vertical-align: top;\n",
       "    }\n",
       "\n",
       "    .dataframe thead th {\n",
       "        text-align: right;\n",
       "    }\n",
       "</style>\n",
       "<table border=\"1\" class=\"dataframe\">\n",
       "  <thead>\n",
       "    <tr style=\"text-align: right;\">\n",
       "      <th></th>\n",
       "      <th>id</th>\n",
       "      <th>name</th>\n",
       "      <th>chebi</th>\n",
       "      <th>chebi_name</th>\n",
       "    </tr>\n",
       "  </thead>\n",
       "  <tbody>\n",
       "    <tr>\n",
       "      <th>149608</th>\n",
       "      <td>MESH:D020156</td>\n",
       "      <td>Salicylic Acid</td>\n",
       "      <td>CHEBI:16914</td>\n",
       "      <td>SAL [mitochondrial matrix]</td>\n",
       "    </tr>\n",
       "    <tr>\n",
       "      <th>153893</th>\n",
       "      <td>MESH:D012980</td>\n",
       "      <td>Sodium Salicylate</td>\n",
       "      <td>CHEBI:16914</td>\n",
       "      <td>SAL [mitochondrial matrix]</td>\n",
       "    </tr>\n",
       "  </tbody>\n",
       "</table>\n",
       "</div>"
      ],
      "text/plain": [
       "                  id               name        chebi  \\\n",
       "149608  MESH:D020156     Salicylic Acid  CHEBI:16914   \n",
       "153893  MESH:D012980  Sodium Salicylate  CHEBI:16914   \n",
       "\n",
       "                        chebi_name  \n",
       "149608  SAL [mitochondrial matrix]  \n",
       "153893  SAL [mitochondrial matrix]  "
      ]
     },
     "execution_count": 54,
     "metadata": {},
     "output_type": "execute_result"
    }
   ],
   "source": [
    "group_number = 2\n",
    "\n",
    "grpd.get_group(groups[group_number])[cols]"
   ]
  },
  {
   "cell_type": "markdown",
   "metadata": {},
   "source": [
    "So these both make sense, theres no glaring error, so we will map all chebi terms to both mesh nodes"
   ]
  },
  {
   "cell_type": "code",
   "execution_count": 55,
   "metadata": {},
   "outputs": [
    {
     "data": {
      "text/html": [
       "<div>\n",
       "<style scoped>\n",
       "    .dataframe tbody tr th:only-of-type {\n",
       "        vertical-align: middle;\n",
       "    }\n",
       "\n",
       "    .dataframe tbody tr th {\n",
       "        vertical-align: top;\n",
       "    }\n",
       "\n",
       "    .dataframe thead th {\n",
       "        text-align: right;\n",
       "    }\n",
       "</style>\n",
       "<table border=\"1\" class=\"dataframe\">\n",
       "  <thead>\n",
       "    <tr style=\"text-align: right;\">\n",
       "      <th></th>\n",
       "      <th>id</th>\n",
       "      <th>name</th>\n",
       "      <th>chebi</th>\n",
       "      <th>chebi_name</th>\n",
       "    </tr>\n",
       "  </thead>\n",
       "  <tbody>\n",
       "    <tr>\n",
       "      <th>75475</th>\n",
       "      <td>MESH:C400424</td>\n",
       "      <td>Crinone</td>\n",
       "      <td>CHEBI:17026</td>\n",
       "      <td>P4 [extracellular region]</td>\n",
       "    </tr>\n",
       "    <tr>\n",
       "      <th>142611</th>\n",
       "      <td>MESH:D011374</td>\n",
       "      <td>Progesterone</td>\n",
       "      <td>CHEBI:17026</td>\n",
       "      <td>P4 [extracellular region]</td>\n",
       "    </tr>\n",
       "  </tbody>\n",
       "</table>\n",
       "</div>"
      ],
      "text/plain": [
       "                  id          name        chebi                 chebi_name\n",
       "75475   MESH:C400424       Crinone  CHEBI:17026  P4 [extracellular region]\n",
       "142611  MESH:D011374  Progesterone  CHEBI:17026  P4 [extracellular region]"
      ]
     },
     "execution_count": 55,
     "metadata": {},
     "output_type": "execute_result"
    }
   ],
   "source": [
    "group_number = 3\n",
    "grpd.get_group(groups[group_number])[cols]"
   ]
  },
  {
   "cell_type": "markdown",
   "metadata": {},
   "source": [
    "Crinone is a product rather than the compound, so we will stick to Progesterone"
   ]
  },
  {
   "cell_type": "code",
   "execution_count": 56,
   "metadata": {},
   "outputs": [],
   "source": [
    "chebi_to_mesh.update({'CHEBI:17026': 'MESH:D011374'})"
   ]
  },
  {
   "cell_type": "code",
   "execution_count": 57,
   "metadata": {
    "scrolled": true
   },
   "outputs": [
    {
     "data": {
      "text/html": [
       "<div>\n",
       "<style scoped>\n",
       "    .dataframe tbody tr th:only-of-type {\n",
       "        vertical-align: middle;\n",
       "    }\n",
       "\n",
       "    .dataframe tbody tr th {\n",
       "        vertical-align: top;\n",
       "    }\n",
       "\n",
       "    .dataframe thead th {\n",
       "        text-align: right;\n",
       "    }\n",
       "</style>\n",
       "<table border=\"1\" class=\"dataframe\">\n",
       "  <thead>\n",
       "    <tr style=\"text-align: right;\">\n",
       "      <th></th>\n",
       "      <th>id</th>\n",
       "      <th>name</th>\n",
       "      <th>chebi</th>\n",
       "      <th>chebi_name</th>\n",
       "    </tr>\n",
       "  </thead>\n",
       "  <tbody>\n",
       "    <tr>\n",
       "      <th>152758</th>\n",
       "      <td>MESH:D058428</td>\n",
       "      <td>Silica Gel</td>\n",
       "      <td>CHEBI:30563</td>\n",
       "      <td>SiO2 [cytosol]</td>\n",
       "    </tr>\n",
       "    <tr>\n",
       "      <th>152774</th>\n",
       "      <td>MESH:D012822</td>\n",
       "      <td>Silicon Dioxide</td>\n",
       "      <td>CHEBI:30563</td>\n",
       "      <td>SiO2 [cytosol]</td>\n",
       "    </tr>\n",
       "  </tbody>\n",
       "</table>\n",
       "</div>"
      ],
      "text/plain": [
       "                  id             name        chebi      chebi_name\n",
       "152758  MESH:D058428       Silica Gel  CHEBI:30563  SiO2 [cytosol]\n",
       "152774  MESH:D012822  Silicon Dioxide  CHEBI:30563  SiO2 [cytosol]"
      ]
     },
     "execution_count": 57,
     "metadata": {},
     "output_type": "execute_result"
    }
   ],
   "source": [
    "group_number = 4\n",
    "grpd.get_group(groups[group_number])[cols]"
   ]
  },
  {
   "cell_type": "code",
   "execution_count": 58,
   "metadata": {},
   "outputs": [],
   "source": [
    "chebi_to_mesh.update({'CHEBI:30563': 'MESH:D012822'})"
   ]
  },
  {
   "cell_type": "markdown",
   "metadata": {},
   "source": [
    "The gel is for Chromotography, so we want Silicon Dioxide"
   ]
  },
  {
   "cell_type": "code",
   "execution_count": 59,
   "metadata": {},
   "outputs": [
    {
     "data": {
      "text/html": [
       "<div>\n",
       "<style scoped>\n",
       "    .dataframe tbody tr th:only-of-type {\n",
       "        vertical-align: middle;\n",
       "    }\n",
       "\n",
       "    .dataframe tbody tr th {\n",
       "        vertical-align: top;\n",
       "    }\n",
       "\n",
       "    .dataframe thead th {\n",
       "        text-align: right;\n",
       "    }\n",
       "</style>\n",
       "<table border=\"1\" class=\"dataframe\">\n",
       "  <thead>\n",
       "    <tr style=\"text-align: right;\">\n",
       "      <th></th>\n",
       "      <th>id</th>\n",
       "      <th>name</th>\n",
       "      <th>chebi</th>\n",
       "      <th>chebi_name</th>\n",
       "    </tr>\n",
       "  </thead>\n",
       "  <tbody>\n",
       "    <tr>\n",
       "      <th>53240</th>\n",
       "      <td>MESH:D000068196</td>\n",
       "      <td>Albumin-Bound Paclitaxel</td>\n",
       "      <td>CHEBI:45863</td>\n",
       "      <td>PTXL [endoplasmic reticulum lumen]</td>\n",
       "    </tr>\n",
       "    <tr>\n",
       "      <th>133550</th>\n",
       "      <td>MESH:C495179</td>\n",
       "      <td>Pacliex</td>\n",
       "      <td>CHEBI:45863</td>\n",
       "      <td>PTXL [endoplasmic reticulum lumen]</td>\n",
       "    </tr>\n",
       "    <tr>\n",
       "      <th>133551</th>\n",
       "      <td>MESH:D017239</td>\n",
       "      <td>Paclitaxel</td>\n",
       "      <td>CHEBI:45863</td>\n",
       "      <td>PTXL [endoplasmic reticulum lumen]</td>\n",
       "    </tr>\n",
       "  </tbody>\n",
       "</table>\n",
       "</div>"
      ],
      "text/plain": [
       "                     id                      name        chebi  \\\n",
       "53240   MESH:D000068196  Albumin-Bound Paclitaxel  CHEBI:45863   \n",
       "133550     MESH:C495179                   Pacliex  CHEBI:45863   \n",
       "133551     MESH:D017239                Paclitaxel  CHEBI:45863   \n",
       "\n",
       "                                chebi_name  \n",
       "53240   PTXL [endoplasmic reticulum lumen]  \n",
       "133550  PTXL [endoplasmic reticulum lumen]  \n",
       "133551  PTXL [endoplasmic reticulum lumen]  "
      ]
     },
     "execution_count": 59,
     "metadata": {},
     "output_type": "execute_result"
    }
   ],
   "source": [
    "group_number = 5\n",
    "grpd.get_group(groups[group_number])[cols]"
   ]
  },
  {
   "cell_type": "markdown",
   "metadata": {},
   "source": [
    "Paclitaxel is the compound while the other two are formulations.... we will stick with just the compound"
   ]
  },
  {
   "cell_type": "code",
   "execution_count": 60,
   "metadata": {},
   "outputs": [],
   "source": [
    "chebi_to_mesh.update({'CHEBI:45863': 'MESH:D017239'})"
   ]
  },
  {
   "cell_type": "code",
   "execution_count": 61,
   "metadata": {},
   "outputs": [
    {
     "data": {
      "text/html": [
       "<div>\n",
       "<style scoped>\n",
       "    .dataframe tbody tr th:only-of-type {\n",
       "        vertical-align: middle;\n",
       "    }\n",
       "\n",
       "    .dataframe tbody tr th {\n",
       "        vertical-align: top;\n",
       "    }\n",
       "\n",
       "    .dataframe thead th {\n",
       "        text-align: right;\n",
       "    }\n",
       "</style>\n",
       "<table border=\"1\" class=\"dataframe\">\n",
       "  <thead>\n",
       "    <tr style=\"text-align: right;\">\n",
       "      <th></th>\n",
       "      <th>id</th>\n",
       "      <th>name</th>\n",
       "      <th>chebi</th>\n",
       "      <th>chebi_name</th>\n",
       "    </tr>\n",
       "  </thead>\n",
       "  <tbody>\n",
       "    <tr>\n",
       "      <th>73911</th>\n",
       "      <td>MESH:C024989</td>\n",
       "      <td>coenzyme Q10</td>\n",
       "      <td>CHEBI:46245</td>\n",
       "      <td>CoQ [mitochondrial inner membrane]</td>\n",
       "    </tr>\n",
       "    <tr>\n",
       "      <th>165263</th>\n",
       "      <td>MESH:D014451</td>\n",
       "      <td>Ubiquinone</td>\n",
       "      <td>CHEBI:46245</td>\n",
       "      <td>CoQ [mitochondrial inner membrane]</td>\n",
       "    </tr>\n",
       "  </tbody>\n",
       "</table>\n",
       "</div>"
      ],
      "text/plain": [
       "                  id          name        chebi  \\\n",
       "73911   MESH:C024989  coenzyme Q10  CHEBI:46245   \n",
       "165263  MESH:D014451    Ubiquinone  CHEBI:46245   \n",
       "\n",
       "                                chebi_name  \n",
       "73911   CoQ [mitochondrial inner membrane]  \n",
       "165263  CoQ [mitochondrial inner membrane]  "
      ]
     },
     "execution_count": 61,
     "metadata": {},
     "output_type": "execute_result"
    }
   ],
   "source": [
    "group_number = 6\n",
    "grpd.get_group(groups[group_number])[cols]"
   ]
  },
  {
   "cell_type": "markdown",
   "metadata": {},
   "source": [
    "These are esssentiall synonyms... Both of these are highly represented and explicit, so we will continue to use both."
   ]
  },
  {
   "cell_type": "code",
   "execution_count": 62,
   "metadata": {
    "scrolled": true
   },
   "outputs": [
    {
     "data": {
      "text/html": [
       "<div>\n",
       "<style scoped>\n",
       "    .dataframe tbody tr th:only-of-type {\n",
       "        vertical-align: middle;\n",
       "    }\n",
       "\n",
       "    .dataframe tbody tr th {\n",
       "        vertical-align: top;\n",
       "    }\n",
       "\n",
       "    .dataframe thead th {\n",
       "        text-align: right;\n",
       "    }\n",
       "</style>\n",
       "<table border=\"1\" class=\"dataframe\">\n",
       "  <thead>\n",
       "    <tr style=\"text-align: right;\">\n",
       "      <th></th>\n",
       "      <th>id</th>\n",
       "      <th>name</th>\n",
       "      <th>chebi</th>\n",
       "      <th>chebi_name</th>\n",
       "    </tr>\n",
       "  </thead>\n",
       "  <tbody>\n",
       "    <tr>\n",
       "      <th>55013</th>\n",
       "      <td>MESH:D000613</td>\n",
       "      <td>Aminobutyrates</td>\n",
       "      <td>CHEBI:59888</td>\n",
       "      <td>GABA [extracellular region]</td>\n",
       "    </tr>\n",
       "    <tr>\n",
       "      <th>93401</th>\n",
       "      <td>MESH:D005680</td>\n",
       "      <td>gamma-Aminobutyric Acid</td>\n",
       "      <td>CHEBI:59888</td>\n",
       "      <td>GABA [extracellular region]</td>\n",
       "    </tr>\n",
       "  </tbody>\n",
       "</table>\n",
       "</div>"
      ],
      "text/plain": [
       "                 id                     name        chebi  \\\n",
       "55013  MESH:D000613           Aminobutyrates  CHEBI:59888   \n",
       "93401  MESH:D005680  gamma-Aminobutyric Acid  CHEBI:59888   \n",
       "\n",
       "                        chebi_name  \n",
       "55013  GABA [extracellular region]  \n",
       "93401  GABA [extracellular region]  "
      ]
     },
     "execution_count": 62,
     "metadata": {},
     "output_type": "execute_result"
    }
   ],
   "source": [
    "group_number = 7\n",
    "grpd.get_group(groups[group_number])[cols]"
   ]
  },
  {
   "cell_type": "markdown",
   "metadata": {},
   "source": [
    "Chebi usses the more spefcific term, GABA, so we will keep that one only."
   ]
  },
  {
   "cell_type": "code",
   "execution_count": 63,
   "metadata": {},
   "outputs": [],
   "source": [
    "chebi_to_mesh.update({'CHEBI:59888': 'MESH:D005680'})"
   ]
  },
  {
   "cell_type": "code",
   "execution_count": 64,
   "metadata": {
    "scrolled": true
   },
   "outputs": [
    {
     "data": {
      "text/html": [
       "<div>\n",
       "<style scoped>\n",
       "    .dataframe tbody tr th:only-of-type {\n",
       "        vertical-align: middle;\n",
       "    }\n",
       "\n",
       "    .dataframe tbody tr th {\n",
       "        vertical-align: top;\n",
       "    }\n",
       "\n",
       "    .dataframe thead th {\n",
       "        text-align: right;\n",
       "    }\n",
       "</style>\n",
       "<table border=\"1\" class=\"dataframe\">\n",
       "  <thead>\n",
       "    <tr style=\"text-align: right;\">\n",
       "      <th></th>\n",
       "      <th>id</th>\n",
       "      <th>name</th>\n",
       "      <th>chebi</th>\n",
       "      <th>chebi_name</th>\n",
       "    </tr>\n",
       "  </thead>\n",
       "  <tbody>\n",
       "    <tr>\n",
       "      <th>114062</th>\n",
       "      <td>MESH:C030814</td>\n",
       "      <td>menatetrenone</td>\n",
       "      <td>CHEBI:78277</td>\n",
       "      <td>MK4 [endoplasmic reticulum lumen]</td>\n",
       "    </tr>\n",
       "    <tr>\n",
       "      <th>167630</th>\n",
       "      <td>MESH:D024482</td>\n",
       "      <td>Vitamin K 2</td>\n",
       "      <td>CHEBI:78277</td>\n",
       "      <td>MK4 [endoplasmic reticulum lumen]</td>\n",
       "    </tr>\n",
       "  </tbody>\n",
       "</table>\n",
       "</div>"
      ],
      "text/plain": [
       "                  id           name        chebi  \\\n",
       "114062  MESH:C030814  menatetrenone  CHEBI:78277   \n",
       "167630  MESH:D024482    Vitamin K 2  CHEBI:78277   \n",
       "\n",
       "                               chebi_name  \n",
       "114062  MK4 [endoplasmic reticulum lumen]  \n",
       "167630  MK4 [endoplasmic reticulum lumen]  "
      ]
     },
     "execution_count": 64,
     "metadata": {},
     "output_type": "execute_result"
    }
   ],
   "source": [
    "group_number = 8\n",
    "grpd.get_group(groups[group_number])[cols]"
   ]
  },
  {
   "cell_type": "markdown",
   "metadata": {},
   "source": [
    "The Chebi name is 'MK4' which more closely aligns with menatetrenone.  "
   ]
  },
  {
   "cell_type": "code",
   "execution_count": 65,
   "metadata": {},
   "outputs": [],
   "source": [
    "chebi_to_mesh.update({'CHEBI:78277': 'MESH:C030814'})"
   ]
  },
  {
   "cell_type": "markdown",
   "metadata": {},
   "source": [
    "#### Finishing the mappings and making the edges and new nodes\n",
    "\n",
    "So now we've updated our Chebi to MeSH map:\n",
    "\n",
    "1. to make some chebi to mesh through a DrugBank Intermediary\n",
    "2. to map some chebi to mesh by name\n",
    "3. To resolve some 1 chebi to multiple mesh issues...\n",
    "\n",
    "So now we will:\n",
    "\n",
    "1. reapply the chebi to mesh mappings\n",
    "2. remove mesh ids that aren't already in the network\n",
    "3. keep any new chem nodes as ChEBI identifiers\n",
    "4. Keep track of any new drugbank or chebi mappings for current nodes"
   ]
  },
  {
   "cell_type": "code",
   "execution_count": 66,
   "metadata": {},
   "outputs": [],
   "source": [
    "# still have some drugbank ids in the chebi_to_mesh mappers, so lets remove...\n",
    "chebi_to_mesh = {k: v for k, v in chebi_to_mesh.items() if not v.startswith('DB:')}"
   ]
  },
  {
   "cell_type": "code",
   "execution_count": 67,
   "metadata": {
    "scrolled": true
   },
   "outputs": [
    {
     "data": {
      "text/plain": [
       "(674, 675)"
      ]
     },
     "execution_count": 67,
     "metadata": {},
     "output_type": "execute_result"
    }
   ],
   "source": [
    "# Make a mesh to chebi map\n",
    "mesh_to_chebi = dict()\n",
    "for k, v in chebi_to_mesh.items():\n",
    "    if not v.startswith('DB:'):\n",
    "        if '|' in v:\n",
    "            for vsplit in v.split('|'):\n",
    "                mesh_to_chebi[vsplit] = k\n",
    "        else:\n",
    "            mesh_to_chebi[v] = k\n",
    "len(mesh_to_chebi), len(chebi_to_mesh)"
   ]
  },
  {
   "cell_type": "code",
   "execution_count": 68,
   "metadata": {
    "scrolled": true
   },
   "outputs": [
    {
     "name": "stdout",
     "output_type": "stream",
     "text": [
      "17528\n",
      "38843\n",
      "38864\n"
     ]
    },
    {
     "data": {
      "text/html": [
       "<div>\n",
       "<style scoped>\n",
       "    .dataframe tbody tr th:only-of-type {\n",
       "        vertical-align: middle;\n",
       "    }\n",
       "\n",
       "    .dataframe tbody tr th {\n",
       "        vertical-align: top;\n",
       "    }\n",
       "\n",
       "    .dataframe thead th {\n",
       "        text-align: right;\n",
       "    }\n",
       "</style>\n",
       "<table border=\"1\" class=\"dataframe\">\n",
       "  <thead>\n",
       "    <tr style=\"text-align: right;\">\n",
       "      <th></th>\n",
       "      <th>start_id</th>\n",
       "      <th>end_id</th>\n",
       "      <th>evidence_code</th>\n",
       "      <th>type</th>\n",
       "    </tr>\n",
       "  </thead>\n",
       "  <tbody>\n",
       "    <tr>\n",
       "      <th>0</th>\n",
       "      <td>MESH:D014859</td>\n",
       "      <td>REACT:R-HSA-1430728</td>\n",
       "      <td>TAS</td>\n",
       "      <td>part_of_CpoPW</td>\n",
       "    </tr>\n",
       "    <tr>\n",
       "      <th>1</th>\n",
       "      <td>MESH:D014859</td>\n",
       "      <td>REACT:R-HSA-196854</td>\n",
       "      <td>TAS</td>\n",
       "      <td>part_of_CpoPW</td>\n",
       "    </tr>\n",
       "  </tbody>\n",
       "</table>\n",
       "</div>"
      ],
      "text/plain": [
       "       start_id               end_id evidence_code           type\n",
       "0  MESH:D014859  REACT:R-HSA-1430728           TAS  part_of_CpoPW\n",
       "1  MESH:D014859   REACT:R-HSA-196854           TAS  part_of_CpoPW"
      ]
     },
     "execution_count": 68,
     "metadata": {},
     "output_type": "execute_result"
    }
   ],
   "source": [
    "# Now that we've got some new mapping files, re-load and start over...\n",
    "chem_pw = read_reactome(load_dir.joinpath('ChEBI2Reactome_PE_All_Levels.txt'))\n",
    "chem_hpw = chem_pw.query('taxon == \"Homo sapiens\"').copy()\n",
    "chem_hpw['external_id'] = 'CHEBI:' + chem_hpw['external_id']\n",
    "chem_hpw['mesh_id'] = chem_hpw['external_id'].map(chebi_to_mesh)\n",
    "\n",
    "# Expand the multiple mesh_id_mappings...\n",
    "print(chem_hpw['mesh_id'].count())\n",
    "chm_exp = expand_col_on_char(chem_hpw.dropna(subset=['mesh_id']), 'mesh_id', '|')\n",
    "chm_mappable = chm_exp.query('mesh_id in @all_node_ids').copy()\n",
    "\n",
    "# Get the unmappable ones...\n",
    "null_lines = chem_hpw['mesh_id'].isnull()\n",
    "not_in_net_lines = chm_exp.query('mesh_id not in @all_node_ids')\n",
    "chm_unmappable = pd.concat([chem_hpw[null_lines], not_in_net_lines], sort=False)\n",
    "chm_unmappable['mesh_id'] = chm_unmappable['external_id']\n",
    "\n",
    "# Create new Chem Nodes with the Unmappables\n",
    "new_chems = chm_unmappable.copy()\n",
    "new_chems['pe_name'] = new_chems['pe_name'].str.split(' \\[', expand=True)[0]\n",
    "new_chems = new_chems[['external_id', 'pe_name']].drop_duplicates()\n",
    "new_chems.columns = [c.split('_')[-1] for c in new_chems.columns]\n",
    "new_chems['label'] = 'Compound'\n",
    "\n",
    "# Now make the edges...\n",
    "print(len(chem_hpw))\n",
    "cpw_edges = pd.concat([chm_mappable, chm_unmappable], sort=False)\n",
    "print(len(cpw_edges))\n",
    "\n",
    "# Make a map from reactome_pe to our chem id\n",
    "pe_chem_map = cpw_edges.set_index('pe_reactome_id')['mesh_id'].to_dict()\n",
    "\n",
    "# Finish edge mapping\n",
    "cpw_edges = cpw_edges[['mesh_id', 'reactome_id', 'evidence_code']].dropna().copy()\n",
    "cpw_edges.columns = ['start_id', 'end_id', 'evidence_code']\n",
    "cpw_edges['end_id'] = 'REACT:' + cpw_edges['end_id']\n",
    "cpw_edges['type'] = 'part_of_CpoPW'\n",
    "cpw_edges.head(2)"
   ]
  },
  {
   "cell_type": "code",
   "execution_count": 69,
   "metadata": {},
   "outputs": [],
   "source": [
    "cpw_edges['source'] = 'Reactome'\n",
    "cpw_edges['evidence'] = cpw_edges['evidence_code'].apply(determine_evidence)"
   ]
  },
  {
   "cell_type": "markdown",
   "metadata": {},
   "source": [
    "### Get name info for the newest CHEBI items added to the network"
   ]
  },
  {
   "cell_type": "code",
   "execution_count": 70,
   "metadata": {},
   "outputs": [
    {
     "data": {
      "text/plain": [
       "(1445, 1874)"
      ]
     },
     "execution_count": 70,
     "metadata": {},
     "output_type": "execute_result"
    }
   ],
   "source": [
    "new_chems['id'].nunique(), len(new_chems)"
   ]
  },
  {
   "cell_type": "code",
   "execution_count": 71,
   "metadata": {},
   "outputs": [],
   "source": [
    "duped_chebis = new_chems[new_chems['id'].duplicated()]['id'].unique()"
   ]
  },
  {
   "cell_type": "code",
   "execution_count": 72,
   "metadata": {},
   "outputs": [
    {
     "name": "stdout",
     "output_type": "stream",
     "text": [
      "querying 1-130...done.\n"
     ]
    }
   ],
   "source": [
    "res1 = mc.getchems(duped_chebis, fields=['chebi.name'])"
   ]
  },
  {
   "cell_type": "code",
   "execution_count": 73,
   "metadata": {},
   "outputs": [],
   "source": [
    "chebi_to_name = {r['query']: r['chebi']['name'] for r in res1 if 'notfound' not in r}"
   ]
  },
  {
   "cell_type": "code",
   "execution_count": 74,
   "metadata": {},
   "outputs": [
    {
     "data": {
      "text/plain": [
       "101"
      ]
     },
     "execution_count": 74,
     "metadata": {},
     "output_type": "execute_result"
    }
   ],
   "source": [
    "len(chebi_to_name)"
   ]
  },
  {
   "cell_type": "code",
   "execution_count": 75,
   "metadata": {},
   "outputs": [],
   "source": [
    "new_chems['new_name'] = new_chems['id'].map(chebi_to_name)\n",
    "new_chems['new_name'] = new_chems['new_name'].fillna(new_chems['name'])"
   ]
  },
  {
   "cell_type": "code",
   "execution_count": 76,
   "metadata": {},
   "outputs": [
    {
     "data": {
      "text/plain": [
       "29"
      ]
     },
     "execution_count": 76,
     "metadata": {},
     "output_type": "execute_result"
    }
   ],
   "source": [
    "idx = new_chems.drop_duplicates(subset=['id', 'new_name'])['id'].duplicated()\n",
    "idx = idx[idx].index\n",
    "new_chems.loc[idx, 'id'].nunique()"
   ]
  },
  {
   "cell_type": "markdown",
   "metadata": {},
   "source": [
    "29 Is a small enough number to curate..."
   ]
  },
  {
   "cell_type": "code",
   "execution_count": 77,
   "metadata": {},
   "outputs": [],
   "source": [
    "chebi_to_name_1 = {'CHEBI:138674': \"10(S),17(S)-dihydroxy-omega 6-docosapentaenoic acid\",\n",
    "    'CHEBI:15748': \"D-glucuronate\",\n",
    "    'CHEBI:17843': \"transfer RNA\",\n",
    "    'CHEBI:25372': \"molybdopterin cofactor\",\n",
    "    'CHEBI:25676': \"oligopeptide\",\n",
    "    'CHEBI:29167': \"tRNA-Cys\",\n",
    "    'CHEBI:29168': \"tRNA-Gln\",\n",
    "    'CHEBI:29169': \"tRNA-Leu\",\n",
    "    'CHEBI:29170': \"tRNA-Ala\",\n",
    "    'CHEBI:29171': \"tRNA-Arg\",\n",
    "    'CHEBI:29173': \"tRNA-Met\",\n",
    "    'CHEBI:29174': \"tRNA-Ile\",\n",
    "    'CHEBI:29175': \"tRNA-Glu\",\n",
    "    'CHEBI:29176': \"tRNA-Gly\",\n",
    "    'CHEBI:29177': \"tRNA-Pro\",\n",
    "    'CHEBI:29178': \"tRNA-His\",\n",
    "    'CHEBI:29179': \"tRNA-Ser\",\n",
    "    'CHEBI:29180': \"tRNA-Thr\",\n",
    "    'CHEBI:29182': \"tRNA-Tyr\",\n",
    "    'CHEBI:29183': \"tRNA-Val\",\n",
    "    'CHEBI:29184': \"tRNA-Phe\",\n",
    "    'CHEBI:29185': \"tRNA-Lys\",\n",
    "    'CHEBI:29186': \"tRNA-Asp\",\n",
    "    'CHEBI:33697': \"ribonucleic acid\",\n",
    "    'CHEBI:33699': \"messenger RNA\",\n",
    "    'CHEBI:4705': \"double-stranded DNA\",\n",
    "    'CHEBI:59524': \"lipoarabinomannan\",\n",
    "    'CHEBI:67208': \"double-stranded RNA\",\n",
    "    'CHEBI:9160': \"single-stranded DNA\",}"
   ]
  },
  {
   "cell_type": "code",
   "execution_count": 78,
   "metadata": {},
   "outputs": [
    {
     "data": {
      "text/plain": [
       "0"
      ]
     },
     "execution_count": 78,
     "metadata": {},
     "output_type": "execute_result"
    }
   ],
   "source": [
    "new_chems['new_name'] = new_chems['id'].map({**chebi_to_name, **chebi_to_name_1})\n",
    "new_chems['new_name'] = new_chems['new_name'].fillna(new_chems['name'])\n",
    "\n",
    "new_chems.drop_duplicates(subset=['id', 'new_name'])['id'].duplicated().sum()"
   ]
  },
  {
   "cell_type": "code",
   "execution_count": 79,
   "metadata": {},
   "outputs": [
    {
     "data": {
      "text/html": [
       "<div>\n",
       "<style scoped>\n",
       "    .dataframe tbody tr th:only-of-type {\n",
       "        vertical-align: middle;\n",
       "    }\n",
       "\n",
       "    .dataframe tbody tr th {\n",
       "        vertical-align: top;\n",
       "    }\n",
       "\n",
       "    .dataframe thead th {\n",
       "        text-align: right;\n",
       "    }\n",
       "</style>\n",
       "<table border=\"1\" class=\"dataframe\">\n",
       "  <thead>\n",
       "    <tr style=\"text-align: right;\">\n",
       "      <th></th>\n",
       "      <th>id</th>\n",
       "      <th>name</th>\n",
       "      <th>label</th>\n",
       "    </tr>\n",
       "  </thead>\n",
       "  <tbody>\n",
       "    <tr>\n",
       "      <th>62</th>\n",
       "      <td>CHEBI:10036</td>\n",
       "      <td>arachidyl ester</td>\n",
       "      <td>Compound</td>\n",
       "    </tr>\n",
       "    <tr>\n",
       "      <th>125</th>\n",
       "      <td>CHEBI:10049</td>\n",
       "      <td>XTP</td>\n",
       "      <td>Compound</td>\n",
       "    </tr>\n",
       "  </tbody>\n",
       "</table>\n",
       "</div>"
      ],
      "text/plain": [
       "              id             name     label\n",
       "62   CHEBI:10036  arachidyl ester  Compound\n",
       "125  CHEBI:10049              XTP  Compound"
      ]
     },
     "execution_count": 79,
     "metadata": {},
     "output_type": "execute_result"
    }
   ],
   "source": [
    "new_chems = new_chems.drop('name', axis=1).rename(columns={'new_name': 'name'}).drop_duplicates(subset=['id', 'name'])\n",
    "new_chems[['id', 'name', 'label']].head(2)"
   ]
  },
  {
   "cell_type": "code",
   "execution_count": 80,
   "metadata": {},
   "outputs": [],
   "source": [
    "new_chems['drug_bank_ids'] = new_chems['id'].map(chebi_to_db)\n",
    "new_chems['mesh_ids'] = new_chems['id'].map(chebi_to_mesh)"
   ]
  },
  {
   "cell_type": "code",
   "execution_count": 81,
   "metadata": {},
   "outputs": [
    {
     "data": {
      "text/html": [
       "<div>\n",
       "<style scoped>\n",
       "    .dataframe tbody tr th:only-of-type {\n",
       "        vertical-align: middle;\n",
       "    }\n",
       "\n",
       "    .dataframe tbody tr th {\n",
       "        vertical-align: top;\n",
       "    }\n",
       "\n",
       "    .dataframe thead th {\n",
       "        text-align: right;\n",
       "    }\n",
       "</style>\n",
       "<table border=\"1\" class=\"dataframe\">\n",
       "  <thead>\n",
       "    <tr style=\"text-align: right;\">\n",
       "      <th></th>\n",
       "      <th>id</th>\n",
       "      <th>label</th>\n",
       "      <th>name</th>\n",
       "      <th>drug_bank_ids</th>\n",
       "      <th>mesh_ids</th>\n",
       "    </tr>\n",
       "  </thead>\n",
       "  <tbody>\n",
       "    <tr>\n",
       "      <th>62</th>\n",
       "      <td>CHEBI:10036</td>\n",
       "      <td>Compound</td>\n",
       "      <td>arachidyl ester</td>\n",
       "      <td>NaN</td>\n",
       "      <td>NaN</td>\n",
       "    </tr>\n",
       "    <tr>\n",
       "      <th>125</th>\n",
       "      <td>CHEBI:10049</td>\n",
       "      <td>Compound</td>\n",
       "      <td>XTP</td>\n",
       "      <td>NaN</td>\n",
       "      <td>NaN</td>\n",
       "    </tr>\n",
       "  </tbody>\n",
       "</table>\n",
       "</div>"
      ],
      "text/plain": [
       "              id     label             name drug_bank_ids mesh_ids\n",
       "62   CHEBI:10036  Compound  arachidyl ester           NaN      NaN\n",
       "125  CHEBI:10049  Compound              XTP           NaN      NaN"
      ]
     },
     "execution_count": 81,
     "metadata": {},
     "output_type": "execute_result"
    }
   ],
   "source": [
    "new_chems.head(2)"
   ]
  },
  {
   "cell_type": "code",
   "execution_count": 82,
   "metadata": {},
   "outputs": [],
   "source": [
    "reactome_ids = set(new_pw_nodes['id']) | set(all_node_ids)\n",
    "\n",
    "new_reactome_ids = cpw_edges.query('end_id not in @reactome_ids')['end_id'].unique()\n",
    "new_reactome_ids  = [c.split(':')[1] for c in new_reactome_ids]\n",
    "\n",
    "new_pw_nodes1 = chem_hpw.query('reactome_id in @new_reactome_ids').drop_duplicates(subset=['reactome_id'])\n",
    "new_pw_nodes1 = new_pw_nodes1[['reactome_id', 'reactome_name']]\n",
    "new_pw_nodes1['reactome_id'] = 'REACT:' + new_pw_nodes1['reactome_id']\n",
    "new_pw_nodes1.columns = ['id', 'name']\n",
    "new_pw_nodes1['label'] = 'Pathway'"
   ]
  },
  {
   "cell_type": "code",
   "execution_count": 83,
   "metadata": {},
   "outputs": [
    {
     "data": {
      "text/html": [
       "<div>\n",
       "<style scoped>\n",
       "    .dataframe tbody tr th:only-of-type {\n",
       "        vertical-align: middle;\n",
       "    }\n",
       "\n",
       "    .dataframe tbody tr th {\n",
       "        vertical-align: top;\n",
       "    }\n",
       "\n",
       "    .dataframe thead th {\n",
       "        text-align: right;\n",
       "    }\n",
       "</style>\n",
       "<table border=\"1\" class=\"dataframe\">\n",
       "  <thead>\n",
       "    <tr style=\"text-align: right;\">\n",
       "      <th></th>\n",
       "      <th>id</th>\n",
       "      <th>name</th>\n",
       "      <th>label</th>\n",
       "    </tr>\n",
       "  </thead>\n",
       "  <tbody>\n",
       "    <tr>\n",
       "      <th>21427</th>\n",
       "      <td>REACT:R-HSA-2408499</td>\n",
       "      <td>Formation of selenosugars for excretion</td>\n",
       "      <td>Pathway</td>\n",
       "    </tr>\n",
       "    <tr>\n",
       "      <th>79122</th>\n",
       "      <td>REACT:R-HSA-1855156</td>\n",
       "      <td>IPs transport between ER lumen and nucleus</td>\n",
       "      <td>Pathway</td>\n",
       "    </tr>\n",
       "    <tr>\n",
       "      <th>84118</th>\n",
       "      <td>REACT:R-HSA-1660524</td>\n",
       "      <td>PIPs transport between plasma and early endoso...</td>\n",
       "      <td>Pathway</td>\n",
       "    </tr>\n",
       "    <tr>\n",
       "      <th>84375</th>\n",
       "      <td>REACT:R-HSA-1855196</td>\n",
       "      <td>IP3 and IP4 transport between cytosol and nucleus</td>\n",
       "      <td>Pathway</td>\n",
       "    </tr>\n",
       "    <tr>\n",
       "      <th>93447</th>\n",
       "      <td>REACT:R-HSA-1855170</td>\n",
       "      <td>IPs transport between nucleus and cytosol</td>\n",
       "      <td>Pathway</td>\n",
       "    </tr>\n",
       "    <tr>\n",
       "      <th>93449</th>\n",
       "      <td>REACT:R-HSA-1855184</td>\n",
       "      <td>IPs transport between cytosol and ER lumen</td>\n",
       "      <td>Pathway</td>\n",
       "    </tr>\n",
       "    <tr>\n",
       "      <th>93452</th>\n",
       "      <td>REACT:R-HSA-1855215</td>\n",
       "      <td>IPs transport between ER lumen and cytosol</td>\n",
       "      <td>Pathway</td>\n",
       "    </tr>\n",
       "    <tr>\n",
       "      <th>128761</th>\n",
       "      <td>REACT:R-HSA-1660502</td>\n",
       "      <td>PIPs transport between early and late endosome...</td>\n",
       "      <td>Pathway</td>\n",
       "    </tr>\n",
       "    <tr>\n",
       "      <th>128763</th>\n",
       "      <td>REACT:R-HSA-1660508</td>\n",
       "      <td>PIPs transport between late endosome and Golgi...</td>\n",
       "      <td>Pathway</td>\n",
       "    </tr>\n",
       "    <tr>\n",
       "      <th>128771</th>\n",
       "      <td>REACT:R-HSA-1660537</td>\n",
       "      <td>PIPs transport between early endosome and Golg...</td>\n",
       "      <td>Pathway</td>\n",
       "    </tr>\n",
       "    <tr>\n",
       "      <th>147287</th>\n",
       "      <td>REACT:R-HSA-1855192</td>\n",
       "      <td>IPs transport between nucleus and ER lumen</td>\n",
       "      <td>Pathway</td>\n",
       "    </tr>\n",
       "    <tr>\n",
       "      <th>147289</th>\n",
       "      <td>REACT:R-HSA-1855229</td>\n",
       "      <td>IP6 and IP7 transport between cytosol and nucleus</td>\n",
       "      <td>Pathway</td>\n",
       "    </tr>\n",
       "    <tr>\n",
       "      <th>150825</th>\n",
       "      <td>REACT:R-HSA-1483171</td>\n",
       "      <td>Synthesis of BMP</td>\n",
       "      <td>Pathway</td>\n",
       "    </tr>\n",
       "    <tr>\n",
       "      <th>151354</th>\n",
       "      <td>REACT:R-HSA-1660510</td>\n",
       "      <td>PIPs transport between Golgi and plasma membranes</td>\n",
       "      <td>Pathway</td>\n",
       "    </tr>\n",
       "  </tbody>\n",
       "</table>\n",
       "</div>"
      ],
      "text/plain": [
       "                         id  \\\n",
       "21427   REACT:R-HSA-2408499   \n",
       "79122   REACT:R-HSA-1855156   \n",
       "84118   REACT:R-HSA-1660524   \n",
       "84375   REACT:R-HSA-1855196   \n",
       "93447   REACT:R-HSA-1855170   \n",
       "93449   REACT:R-HSA-1855184   \n",
       "93452   REACT:R-HSA-1855215   \n",
       "128761  REACT:R-HSA-1660502   \n",
       "128763  REACT:R-HSA-1660508   \n",
       "128771  REACT:R-HSA-1660537   \n",
       "147287  REACT:R-HSA-1855192   \n",
       "147289  REACT:R-HSA-1855229   \n",
       "150825  REACT:R-HSA-1483171   \n",
       "151354  REACT:R-HSA-1660510   \n",
       "\n",
       "                                                     name    label  \n",
       "21427             Formation of selenosugars for excretion  Pathway  \n",
       "79122          IPs transport between ER lumen and nucleus  Pathway  \n",
       "84118   PIPs transport between plasma and early endoso...  Pathway  \n",
       "84375   IP3 and IP4 transport between cytosol and nucleus  Pathway  \n",
       "93447           IPs transport between nucleus and cytosol  Pathway  \n",
       "93449          IPs transport between cytosol and ER lumen  Pathway  \n",
       "93452          IPs transport between ER lumen and cytosol  Pathway  \n",
       "128761  PIPs transport between early and late endosome...  Pathway  \n",
       "128763  PIPs transport between late endosome and Golgi...  Pathway  \n",
       "128771  PIPs transport between early endosome and Golg...  Pathway  \n",
       "147287         IPs transport between nucleus and ER lumen  Pathway  \n",
       "147289  IP6 and IP7 transport between cytosol and nucleus  Pathway  \n",
       "150825                                   Synthesis of BMP  Pathway  \n",
       "151354  PIPs transport between Golgi and plasma membranes  Pathway  "
      ]
     },
     "execution_count": 83,
     "metadata": {},
     "output_type": "execute_result"
    }
   ],
   "source": [
    "new_pw_nodes1"
   ]
  },
  {
   "cell_type": "code",
   "execution_count": 84,
   "metadata": {},
   "outputs": [],
   "source": [
    "new_nodes.append(new_pw_nodes1)\n",
    "new_nodes.append(new_chems)\n",
    "new_edges.append(cpw_edges)"
   ]
  },
  {
   "cell_type": "markdown",
   "metadata": {},
   "source": [
    "# MicroRNA to Pathways"
   ]
  },
  {
   "cell_type": "code",
   "execution_count": 85,
   "metadata": {},
   "outputs": [],
   "source": [
    "mir = read_reactome(load_dir.joinpath('miRBase2Reactome_PE_All_Levels.txt'))\n",
    "hmir = mir.query('taxon == \"Homo sapiens\"').copy()\n",
    "hmir_names = hmir['pe_name'].str.split(' ', expand=True)[0]"
   ]
  },
  {
   "cell_type": "code",
   "execution_count": 86,
   "metadata": {},
   "outputs": [
    {
     "data": {
      "text/html": [
       "<div>\n",
       "<style scoped>\n",
       "    .dataframe tbody tr th:only-of-type {\n",
       "        vertical-align: middle;\n",
       "    }\n",
       "\n",
       "    .dataframe tbody tr th {\n",
       "        vertical-align: top;\n",
       "    }\n",
       "\n",
       "    .dataframe thead th {\n",
       "        text-align: right;\n",
       "    }\n",
       "</style>\n",
       "<table border=\"1\" class=\"dataframe\">\n",
       "  <thead>\n",
       "    <tr style=\"text-align: right;\">\n",
       "      <th></th>\n",
       "      <th>external_id</th>\n",
       "      <th>pe_reactome_id</th>\n",
       "      <th>pe_name</th>\n",
       "      <th>reactome_id</th>\n",
       "      <th>reactome_url</th>\n",
       "      <th>reactome_name</th>\n",
       "      <th>evidence_code</th>\n",
       "      <th>taxon</th>\n",
       "    </tr>\n",
       "  </thead>\n",
       "  <tbody>\n",
       "    <tr>\n",
       "      <th>0</th>\n",
       "      <td>MI0000071</td>\n",
       "      <td>R-HSA-8938437</td>\n",
       "      <td>miR-17 [cytosol]</td>\n",
       "      <td>R-HSA-1257604</td>\n",
       "      <td>https://reactome.org/PathwayBrowser/#/R-HSA-12...</td>\n",
       "      <td>PIP3 activates AKT signaling</td>\n",
       "      <td>TAS</td>\n",
       "      <td>Homo sapiens</td>\n",
       "    </tr>\n",
       "    <tr>\n",
       "      <th>1</th>\n",
       "      <td>MI0000071</td>\n",
       "      <td>R-HSA-8938437</td>\n",
       "      <td>miR-17 [cytosol]</td>\n",
       "      <td>R-HSA-162582</td>\n",
       "      <td>https://reactome.org/PathwayBrowser/#/R-HSA-16...</td>\n",
       "      <td>Signal Transduction</td>\n",
       "      <td>TAS</td>\n",
       "      <td>Homo sapiens</td>\n",
       "    </tr>\n",
       "  </tbody>\n",
       "</table>\n",
       "</div>"
      ],
      "text/plain": [
       "  external_id pe_reactome_id           pe_name    reactome_id  \\\n",
       "0   MI0000071  R-HSA-8938437  miR-17 [cytosol]  R-HSA-1257604   \n",
       "1   MI0000071  R-HSA-8938437  miR-17 [cytosol]   R-HSA-162582   \n",
       "\n",
       "                                        reactome_url  \\\n",
       "0  https://reactome.org/PathwayBrowser/#/R-HSA-12...   \n",
       "1  https://reactome.org/PathwayBrowser/#/R-HSA-16...   \n",
       "\n",
       "                  reactome_name evidence_code         taxon  \n",
       "0  PIP3 activates AKT signaling           TAS  Homo sapiens  \n",
       "1           Signal Transduction           TAS  Homo sapiens  "
      ]
     },
     "execution_count": 86,
     "metadata": {},
     "output_type": "execute_result"
    }
   ],
   "source": [
    "hmir.head(2)"
   ]
  },
  {
   "cell_type": "markdown",
   "metadata": {},
   "source": [
    "External IDs are in mirbase form... need them in RNACentral Form... Luckily RNACentral has cross-references"
   ]
  },
  {
   "cell_type": "code",
   "execution_count": 87,
   "metadata": {},
   "outputs": [],
   "source": [
    "mirbase = pd.read_csv(load_dir.joinpath('mirbase.tsv'), sep='\\t', header=None, dtype=str,\n",
    "            names=['int_id', 'db_name', 'ext_id', 'tax_id', 'mir'], usecols=list(range(5)))"
   ]
  },
  {
   "cell_type": "code",
   "execution_count": 88,
   "metadata": {},
   "outputs": [],
   "source": [
    "hmirbase = mirbase.query('tax_id == \"9606\"').copy()\n",
    "hmirbase['int_id'] = hmirbase['int_id'] + '_9606'\n",
    "mirbase_to_rnac = hmirbase.set_index('ext_id')['int_id'].to_dict()"
   ]
  },
  {
   "cell_type": "code",
   "execution_count": 89,
   "metadata": {
    "scrolled": false
   },
   "outputs": [
    {
     "data": {
      "text/html": [
       "<div>\n",
       "<style scoped>\n",
       "    .dataframe tbody tr th:only-of-type {\n",
       "        vertical-align: middle;\n",
       "    }\n",
       "\n",
       "    .dataframe tbody tr th {\n",
       "        vertical-align: top;\n",
       "    }\n",
       "\n",
       "    .dataframe thead th {\n",
       "        text-align: right;\n",
       "    }\n",
       "</style>\n",
       "<table border=\"1\" class=\"dataframe\">\n",
       "  <thead>\n",
       "    <tr style=\"text-align: right;\">\n",
       "      <th></th>\n",
       "      <th>external_id</th>\n",
       "      <th>pe_reactome_id</th>\n",
       "      <th>pe_name</th>\n",
       "      <th>reactome_id</th>\n",
       "      <th>reactome_url</th>\n",
       "      <th>reactome_name</th>\n",
       "      <th>evidence_code</th>\n",
       "      <th>taxon</th>\n",
       "      <th>rnac_id</th>\n",
       "    </tr>\n",
       "  </thead>\n",
       "  <tbody>\n",
       "    <tr>\n",
       "      <th>0</th>\n",
       "      <td>MI0000071</td>\n",
       "      <td>R-HSA-8938437</td>\n",
       "      <td>miR-17 [cytosol]</td>\n",
       "      <td>R-HSA-1257604</td>\n",
       "      <td>https://reactome.org/PathwayBrowser/#/R-HSA-12...</td>\n",
       "      <td>PIP3 activates AKT signaling</td>\n",
       "      <td>TAS</td>\n",
       "      <td>Homo sapiens</td>\n",
       "      <td>URS000032AA22_9606</td>\n",
       "    </tr>\n",
       "    <tr>\n",
       "      <th>1</th>\n",
       "      <td>MI0000071</td>\n",
       "      <td>R-HSA-8938437</td>\n",
       "      <td>miR-17 [cytosol]</td>\n",
       "      <td>R-HSA-162582</td>\n",
       "      <td>https://reactome.org/PathwayBrowser/#/R-HSA-16...</td>\n",
       "      <td>Signal Transduction</td>\n",
       "      <td>TAS</td>\n",
       "      <td>Homo sapiens</td>\n",
       "      <td>URS000032AA22_9606</td>\n",
       "    </tr>\n",
       "  </tbody>\n",
       "</table>\n",
       "</div>"
      ],
      "text/plain": [
       "  external_id pe_reactome_id           pe_name    reactome_id  \\\n",
       "0   MI0000071  R-HSA-8938437  miR-17 [cytosol]  R-HSA-1257604   \n",
       "1   MI0000071  R-HSA-8938437  miR-17 [cytosol]   R-HSA-162582   \n",
       "\n",
       "                                        reactome_url  \\\n",
       "0  https://reactome.org/PathwayBrowser/#/R-HSA-12...   \n",
       "1  https://reactome.org/PathwayBrowser/#/R-HSA-16...   \n",
       "\n",
       "                  reactome_name evidence_code         taxon  \\\n",
       "0  PIP3 activates AKT signaling           TAS  Homo sapiens   \n",
       "1           Signal Transduction           TAS  Homo sapiens   \n",
       "\n",
       "              rnac_id  \n",
       "0  URS000032AA22_9606  \n",
       "1  URS000032AA22_9606  "
      ]
     },
     "execution_count": 89,
     "metadata": {},
     "output_type": "execute_result"
    }
   ],
   "source": [
    "hmir['rnac_id'] = mir['external_id'].map(mirbase_to_rnac)\n",
    "hmir.head(2)"
   ]
  },
  {
   "cell_type": "code",
   "execution_count": 90,
   "metadata": {},
   "outputs": [
    {
     "data": {
      "text/plain": [
       "(248, 248)"
      ]
     },
     "execution_count": 90,
     "metadata": {},
     "output_type": "execute_result"
    }
   ],
   "source": [
    "len(hmir), len(hmir.query('rnac_id in @all_node_ids'))"
   ]
  },
  {
   "cell_type": "markdown",
   "metadata": {},
   "source": [
    "All now have a maping to nodes already in the network"
   ]
  },
  {
   "cell_type": "code",
   "execution_count": 91,
   "metadata": {},
   "outputs": [
    {
     "data": {
      "text/html": [
       "<div>\n",
       "<style scoped>\n",
       "    .dataframe tbody tr th:only-of-type {\n",
       "        vertical-align: middle;\n",
       "    }\n",
       "\n",
       "    .dataframe tbody tr th {\n",
       "        vertical-align: top;\n",
       "    }\n",
       "\n",
       "    .dataframe thead th {\n",
       "        text-align: right;\n",
       "    }\n",
       "</style>\n",
       "<table border=\"1\" class=\"dataframe\">\n",
       "  <thead>\n",
       "    <tr style=\"text-align: right;\">\n",
       "      <th></th>\n",
       "      <th>start_id</th>\n",
       "      <th>end_id</th>\n",
       "      <th>evidence_code</th>\n",
       "      <th>type</th>\n",
       "    </tr>\n",
       "  </thead>\n",
       "  <tbody>\n",
       "    <tr>\n",
       "      <th>0</th>\n",
       "      <td>URS000032AA22_9606</td>\n",
       "      <td>REACT:R-HSA-1257604</td>\n",
       "      <td>TAS</td>\n",
       "      <td>part_of_NpoPW</td>\n",
       "    </tr>\n",
       "    <tr>\n",
       "      <th>1</th>\n",
       "      <td>URS000032AA22_9606</td>\n",
       "      <td>REACT:R-HSA-162582</td>\n",
       "      <td>TAS</td>\n",
       "      <td>part_of_NpoPW</td>\n",
       "    </tr>\n",
       "  </tbody>\n",
       "</table>\n",
       "</div>"
      ],
      "text/plain": [
       "             start_id               end_id evidence_code           type\n",
       "0  URS000032AA22_9606  REACT:R-HSA-1257604           TAS  part_of_NpoPW\n",
       "1  URS000032AA22_9606   REACT:R-HSA-162582           TAS  part_of_NpoPW"
      ]
     },
     "execution_count": 91,
     "metadata": {},
     "output_type": "execute_result"
    }
   ],
   "source": [
    "pe_mir_map = hmir.set_index('pe_reactome_id')['rnac_id'].to_dict()\n",
    "\n",
    "mir_edges = hmir[['rnac_id', 'reactome_id', 'evidence_code']].copy()\n",
    "mir_edges.columns = ['start_id', 'end_id', 'evidence_code']\n",
    "mir_edges['end_id'] = 'REACT:' + mir_edges['end_id']\n",
    "mir_edges['type'] = 'part_of_NpoPW'\n",
    "mir_edges.head(2)"
   ]
  },
  {
   "cell_type": "code",
   "execution_count": 92,
   "metadata": {},
   "outputs": [],
   "source": [
    "mir_edges['source'] = 'Reactome'\n",
    "mir_edges['evidence'] = mir_edges['evidence_code'].apply(determine_evidence)"
   ]
  },
  {
   "cell_type": "code",
   "execution_count": 93,
   "metadata": {},
   "outputs": [
    {
     "data": {
      "text/plain": [
       "0"
      ]
     },
     "execution_count": 93,
     "metadata": {},
     "output_type": "execute_result"
    }
   ],
   "source": [
    "mir_reactome_ids = mir_edges['end_id']\n",
    "len(set(mir_reactome_ids) - set(all_node_ids) - set(new_pw_nodes['id']) - set(new_pw_nodes1['id']))"
   ]
  },
  {
   "cell_type": "markdown",
   "metadata": {},
   "source": [
    "All pathways already covered, no need to add new nodes."
   ]
  },
  {
   "cell_type": "code",
   "execution_count": 94,
   "metadata": {},
   "outputs": [],
   "source": [
    "new_edges.append(mir_edges)"
   ]
  },
  {
   "cell_type": "markdown",
   "metadata": {},
   "source": [
    "# New node type - Reactions"
   ]
  },
  {
   "cell_type": "code",
   "execution_count": 95,
   "metadata": {},
   "outputs": [
    {
     "data": {
      "text/html": [
       "<div>\n",
       "<style scoped>\n",
       "    .dataframe tbody tr th:only-of-type {\n",
       "        vertical-align: middle;\n",
       "    }\n",
       "\n",
       "    .dataframe tbody tr th {\n",
       "        vertical-align: top;\n",
       "    }\n",
       "\n",
       "    .dataframe thead th {\n",
       "        text-align: right;\n",
       "    }\n",
       "</style>\n",
       "<table border=\"1\" class=\"dataframe\">\n",
       "  <thead>\n",
       "    <tr style=\"text-align: right;\">\n",
       "      <th></th>\n",
       "      <th>external_id</th>\n",
       "      <th>pe_reactome_id</th>\n",
       "      <th>pe_name</th>\n",
       "      <th>reactome_id</th>\n",
       "      <th>reactome_url</th>\n",
       "      <th>reactome_name</th>\n",
       "      <th>evidence_code</th>\n",
       "      <th>taxon</th>\n",
       "    </tr>\n",
       "  </thead>\n",
       "  <tbody>\n",
       "    <tr>\n",
       "      <th>0</th>\n",
       "      <td>1</td>\n",
       "      <td>R-HSA-6806490</td>\n",
       "      <td>A1BG [extracellular region]</td>\n",
       "      <td>R-HSA-481007</td>\n",
       "      <td>https://reactome.org/PathwayBrowser/#/R-HSA-48...</td>\n",
       "      <td>Exocytosis of platelet alpha granule contents</td>\n",
       "      <td>TAS</td>\n",
       "      <td>Homo sapiens</td>\n",
       "    </tr>\n",
       "    <tr>\n",
       "      <th>1</th>\n",
       "      <td>1</td>\n",
       "      <td>R-HSA-8848894</td>\n",
       "      <td>A1BG [platelet alpha granule lumen]</td>\n",
       "      <td>R-HSA-481007</td>\n",
       "      <td>https://reactome.org/PathwayBrowser/#/R-HSA-48...</td>\n",
       "      <td>Exocytosis of platelet alpha granule contents</td>\n",
       "      <td>TAS</td>\n",
       "      <td>Homo sapiens</td>\n",
       "    </tr>\n",
       "  </tbody>\n",
       "</table>\n",
       "</div>"
      ],
      "text/plain": [
       "  external_id pe_reactome_id                              pe_name  \\\n",
       "0           1  R-HSA-6806490          A1BG [extracellular region]   \n",
       "1           1  R-HSA-8848894  A1BG [platelet alpha granule lumen]   \n",
       "\n",
       "    reactome_id                                       reactome_url  \\\n",
       "0  R-HSA-481007  https://reactome.org/PathwayBrowser/#/R-HSA-48...   \n",
       "1  R-HSA-481007  https://reactome.org/PathwayBrowser/#/R-HSA-48...   \n",
       "\n",
       "                                   reactome_name evidence_code         taxon  \n",
       "0  Exocytosis of platelet alpha granule contents           TAS  Homo sapiens  \n",
       "1  Exocytosis of platelet alpha granule contents           TAS  Homo sapiens  "
      ]
     },
     "execution_count": 95,
     "metadata": {},
     "output_type": "execute_result"
    }
   ],
   "source": [
    "ncbi_rxn = read_reactome(load_dir.joinpath('NCBI2Reactome_PE_Reactions.txt'))\n",
    "ncbi_rxn.head(2)"
   ]
  },
  {
   "cell_type": "code",
   "execution_count": 96,
   "metadata": {},
   "outputs": [],
   "source": [
    "ncbi_rxn['external_id'] = ncbi_rxn['external_id'].astype(str)"
   ]
  },
  {
   "cell_type": "code",
   "execution_count": 97,
   "metadata": {},
   "outputs": [],
   "source": [
    "hncbi_rxn = ncbi_rxn.query('taxon == \"Homo sapiens\"').copy()"
   ]
  },
  {
   "cell_type": "code",
   "execution_count": 98,
   "metadata": {},
   "outputs": [
    {
     "data": {
      "text/html": [
       "<div>\n",
       "<style scoped>\n",
       "    .dataframe tbody tr th:only-of-type {\n",
       "        vertical-align: middle;\n",
       "    }\n",
       "\n",
       "    .dataframe tbody tr th {\n",
       "        vertical-align: top;\n",
       "    }\n",
       "\n",
       "    .dataframe thead th {\n",
       "        text-align: right;\n",
       "    }\n",
       "</style>\n",
       "<table border=\"1\" class=\"dataframe\">\n",
       "  <thead>\n",
       "    <tr style=\"text-align: right;\">\n",
       "      <th></th>\n",
       "      <th>start_id</th>\n",
       "      <th>end_id</th>\n",
       "      <th>evidence_code</th>\n",
       "      <th>type</th>\n",
       "    </tr>\n",
       "  </thead>\n",
       "  <tbody>\n",
       "    <tr>\n",
       "      <th>0</th>\n",
       "      <td>1</td>\n",
       "      <td>REACT:R-HSA-481007</td>\n",
       "      <td>TAS</td>\n",
       "      <td>part_of_GpoRX</td>\n",
       "    </tr>\n",
       "    <tr>\n",
       "      <th>1</th>\n",
       "      <td>1</td>\n",
       "      <td>REACT:R-HSA-481007</td>\n",
       "      <td>TAS</td>\n",
       "      <td>part_of_GpoRX</td>\n",
       "    </tr>\n",
       "  </tbody>\n",
       "</table>\n",
       "</div>"
      ],
      "text/plain": [
       "  start_id              end_id evidence_code           type\n",
       "0        1  REACT:R-HSA-481007           TAS  part_of_GpoRX\n",
       "1        1  REACT:R-HSA-481007           TAS  part_of_GpoRX"
      ]
     },
     "execution_count": 98,
     "metadata": {},
     "output_type": "execute_result"
    }
   ],
   "source": [
    "# Update the Gene PE map...\n",
    "pe_ncbi_map = {**hncbi_rxn.set_index('pe_reactome_id')['external_id'].to_dict(), **pe_ncbi_map}\n",
    "\n",
    "hncbi_rxn['reactome_id'] = 'REACT:' + hncbi_rxn['reactome_id']\n",
    "ncbi_rxn_edges = hncbi_rxn[['external_id', 'reactome_id', 'evidence_code']].copy()\n",
    "ncbi_rxn_edges.columns = ['start_id', 'end_id', 'evidence_code']\n",
    "ncbi_rxn_edges['type'] = 'part_of_GpoRX'\n",
    "ncbi_rxn_edges.head(2)"
   ]
  },
  {
   "cell_type": "code",
   "execution_count": 99,
   "metadata": {},
   "outputs": [],
   "source": [
    "ncbi_rxn_edges['source'] = 'Reactome'\n",
    "ncbi_rxn_edges['evidence'] = ncbi_rxn_edges['evidence_code'].apply(determine_evidence)"
   ]
  },
  {
   "cell_type": "code",
   "execution_count": 100,
   "metadata": {},
   "outputs": [
    {
     "name": "stdout",
     "output_type": "stream",
     "text": [
      "Genes in Reactome: 10,696\n",
      "Mapped to Network: 10,610\n",
      "Un-mappable: 86\n"
     ]
    }
   ],
   "source": [
    "print('Genes in Reactome: {:,}'.format(hncbi['external_id'].nunique()))\n",
    "print('Mapped to Network: {:,}'.format(hncbi.query('external_id in @all_node_ids')['external_id'].nunique()))\n",
    "print('Un-mappable: {:,}'.format(hncbi.query('external_id not in @all_node_ids')['external_id'].nunique()))"
   ]
  },
  {
   "cell_type": "code",
   "execution_count": 101,
   "metadata": {},
   "outputs": [
    {
     "data": {
      "text/html": [
       "<div>\n",
       "<style scoped>\n",
       "    .dataframe tbody tr th:only-of-type {\n",
       "        vertical-align: middle;\n",
       "    }\n",
       "\n",
       "    .dataframe tbody tr th {\n",
       "        vertical-align: top;\n",
       "    }\n",
       "\n",
       "    .dataframe thead th {\n",
       "        text-align: right;\n",
       "    }\n",
       "</style>\n",
       "<table border=\"1\" class=\"dataframe\">\n",
       "  <thead>\n",
       "    <tr style=\"text-align: right;\">\n",
       "      <th></th>\n",
       "      <th>id</th>\n",
       "      <th>name</th>\n",
       "      <th>label</th>\n",
       "    </tr>\n",
       "  </thead>\n",
       "  <tbody>\n",
       "    <tr>\n",
       "      <th>0</th>\n",
       "      <td>REACT:R-HSA-481007</td>\n",
       "      <td>Exocytosis of platelet alpha granule contents</td>\n",
       "      <td>Reaction</td>\n",
       "    </tr>\n",
       "    <tr>\n",
       "      <th>2</th>\n",
       "      <td>REACT:R-HSA-6798748</td>\n",
       "      <td>Exocytosis of secretory granule lumen proteins</td>\n",
       "      <td>Reaction</td>\n",
       "    </tr>\n",
       "    <tr>\n",
       "      <th>4</th>\n",
       "      <td>REACT:R-HSA-6800434</td>\n",
       "      <td>Exocytosis of ficolin-rich granule lumen proteins</td>\n",
       "      <td>Reaction</td>\n",
       "    </tr>\n",
       "    <tr>\n",
       "      <th>6</th>\n",
       "      <td>REACT:R-HSA-158832</td>\n",
       "      <td>The acetyl group from acetyl-CoA is transferre...</td>\n",
       "      <td>Reaction</td>\n",
       "    </tr>\n",
       "    <tr>\n",
       "      <th>8</th>\n",
       "      <td>REACT:R-HSA-174967</td>\n",
       "      <td>NAT2 acetylation</td>\n",
       "      <td>Reaction</td>\n",
       "    </tr>\n",
       "  </tbody>\n",
       "</table>\n",
       "</div>"
      ],
      "text/plain": [
       "                    id                                               name  \\\n",
       "0   REACT:R-HSA-481007      Exocytosis of platelet alpha granule contents   \n",
       "2  REACT:R-HSA-6798748     Exocytosis of secretory granule lumen proteins   \n",
       "4  REACT:R-HSA-6800434  Exocytosis of ficolin-rich granule lumen proteins   \n",
       "6   REACT:R-HSA-158832  The acetyl group from acetyl-CoA is transferre...   \n",
       "8   REACT:R-HSA-174967                                   NAT2 acetylation   \n",
       "\n",
       "      label  \n",
       "0  Reaction  \n",
       "2  Reaction  \n",
       "4  Reaction  \n",
       "6  Reaction  \n",
       "8  Reaction  "
      ]
     },
     "execution_count": 101,
     "metadata": {},
     "output_type": "execute_result"
    }
   ],
   "source": [
    "keep_cols = ['reactome_id', 'reactome_name']\n",
    "reaction_nodes = hncbi_rxn.drop_duplicates(subset=keep_cols)[keep_cols]\n",
    "reaction_nodes.columns = [c.split('_')[1] for c in keep_cols]\n",
    "reaction_nodes['label'] = 'Reaction'\n",
    "reaction_nodes.head()"
   ]
  },
  {
   "cell_type": "code",
   "execution_count": 102,
   "metadata": {},
   "outputs": [],
   "source": [
    "new_nodes.append(reaction_nodes)\n",
    "new_edges.append(ncbi_rxn_edges)"
   ]
  },
  {
   "cell_type": "markdown",
   "metadata": {},
   "source": [
    "## Compound - Reactions"
   ]
  },
  {
   "cell_type": "code",
   "execution_count": 103,
   "metadata": {},
   "outputs": [
    {
     "data": {
      "text/html": [
       "<div>\n",
       "<style scoped>\n",
       "    .dataframe tbody tr th:only-of-type {\n",
       "        vertical-align: middle;\n",
       "    }\n",
       "\n",
       "    .dataframe tbody tr th {\n",
       "        vertical-align: top;\n",
       "    }\n",
       "\n",
       "    .dataframe thead th {\n",
       "        text-align: right;\n",
       "    }\n",
       "</style>\n",
       "<table border=\"1\" class=\"dataframe\">\n",
       "  <thead>\n",
       "    <tr style=\"text-align: right;\">\n",
       "      <th></th>\n",
       "      <th>external_id</th>\n",
       "      <th>pe_reactome_id</th>\n",
       "      <th>pe_name</th>\n",
       "      <th>reactome_id</th>\n",
       "      <th>reactome_url</th>\n",
       "      <th>reactome_name</th>\n",
       "      <th>evidence_code</th>\n",
       "      <th>taxon</th>\n",
       "    </tr>\n",
       "  </thead>\n",
       "  <tbody>\n",
       "    <tr>\n",
       "      <th>0</th>\n",
       "      <td>10033</td>\n",
       "      <td>R-ALL-9014945</td>\n",
       "      <td>warfarin [cytosol]</td>\n",
       "      <td>R-BTA-159790</td>\n",
       "      <td>https://reactome.org/PathwayBrowser/#/R-BTA-15...</td>\n",
       "      <td>VKORC1 reduces vitamin K epoxide to MK4 (vitam...</td>\n",
       "      <td>IEA</td>\n",
       "      <td>Bos taurus</td>\n",
       "    </tr>\n",
       "    <tr>\n",
       "      <th>1</th>\n",
       "      <td>10033</td>\n",
       "      <td>R-ALL-9014945</td>\n",
       "      <td>warfarin [cytosol]</td>\n",
       "      <td>R-BTA-9026967</td>\n",
       "      <td>https://reactome.org/PathwayBrowser/#/R-BTA-90...</td>\n",
       "      <td>VKORC1 inhibitors binds VKORC1 dimer</td>\n",
       "      <td>IEA</td>\n",
       "      <td>Bos taurus</td>\n",
       "    </tr>\n",
       "  </tbody>\n",
       "</table>\n",
       "</div>"
      ],
      "text/plain": [
       "  external_id pe_reactome_id             pe_name    reactome_id  \\\n",
       "0       10033  R-ALL-9014945  warfarin [cytosol]   R-BTA-159790   \n",
       "1       10033  R-ALL-9014945  warfarin [cytosol]  R-BTA-9026967   \n",
       "\n",
       "                                        reactome_url  \\\n",
       "0  https://reactome.org/PathwayBrowser/#/R-BTA-15...   \n",
       "1  https://reactome.org/PathwayBrowser/#/R-BTA-90...   \n",
       "\n",
       "                                       reactome_name evidence_code       taxon  \n",
       "0  VKORC1 reduces vitamin K epoxide to MK4 (vitam...           IEA  Bos taurus  \n",
       "1               VKORC1 inhibitors binds VKORC1 dimer           IEA  Bos taurus  "
      ]
     },
     "execution_count": 103,
     "metadata": {},
     "output_type": "execute_result"
    }
   ],
   "source": [
    "chm_rxn = read_reactome(load_dir.joinpath('ChEBI2Reactome_PE_Reactions.txt'))\n",
    "chm_rxn.head(2)"
   ]
  },
  {
   "cell_type": "code",
   "execution_count": 104,
   "metadata": {
    "scrolled": true
   },
   "outputs": [
    {
     "name": "stdout",
     "output_type": "stream",
     "text": [
      "185171\n",
      "24280\n"
     ]
    }
   ],
   "source": [
    "print(len(chm_rxn))\n",
    "hchm_rxn = chm_rxn.query('taxon == \"Homo sapiens\"').copy()\n",
    "print(len(hchm_rxn))\n",
    "hchm_rxn['external_id'] = 'CHEBI:' + hchm_rxn['external_id'].astype(str)\n",
    "hchm_rxn['reactome_id'] = 'REACT:' + hchm_rxn['reactome_id']"
   ]
  },
  {
   "cell_type": "markdown",
   "metadata": {},
   "source": [
    "All chebi ids have previously been queried for...."
   ]
  },
  {
   "cell_type": "code",
   "execution_count": 105,
   "metadata": {},
   "outputs": [
    {
     "data": {
      "text/plain": [
       "(24287, 12514)"
      ]
     },
     "execution_count": 105,
     "metadata": {},
     "output_type": "execute_result"
    }
   ],
   "source": [
    "hchm_rxn['mesh_id'] = hchm_rxn['external_id'].map(chebi_to_mesh)\n",
    "hchm_rxn = expand_col_on_char(hchm_rxn, 'mesh_id', '|')\n",
    "len(hchm_rxn), hchm_rxn['mesh_id'].count()"
   ]
  },
  {
   "cell_type": "markdown",
   "metadata": {},
   "source": [
    "Still only about 1/2 mapped... however, we may have already put some of these nodes in with chebi ids"
   ]
  },
  {
   "cell_type": "code",
   "execution_count": 106,
   "metadata": {},
   "outputs": [
    {
     "data": {
      "text/plain": [
       "0"
      ]
     },
     "execution_count": 106,
     "metadata": {},
     "output_type": "execute_result"
    }
   ],
   "source": [
    "new_chem_ids = new_chems['id'].values\n",
    "len(hchm_rxn.query('external_id not in @new_chem_ids and mesh_id not in @all_node_ids'))"
   ]
  },
  {
   "cell_type": "markdown",
   "metadata": {},
   "source": [
    "All chemicals accounted for, don't need to add new nodes of type Compound"
   ]
  },
  {
   "cell_type": "code",
   "execution_count": 107,
   "metadata": {},
   "outputs": [
    {
     "data": {
      "text/plain": [
       "321"
      ]
     },
     "execution_count": 107,
     "metadata": {},
     "output_type": "execute_result"
    }
   ],
   "source": [
    "rxns = reaction_nodes['id'].tolist()\n",
    "hchm_rxn.query('reactome_id not in @rxns')['reactome_id'].nunique()"
   ]
  },
  {
   "cell_type": "markdown",
   "metadata": {},
   "source": [
    "Some new reactions to add though..."
   ]
  },
  {
   "cell_type": "code",
   "execution_count": 108,
   "metadata": {},
   "outputs": [
    {
     "data": {
      "text/html": [
       "<div>\n",
       "<style scoped>\n",
       "    .dataframe tbody tr th:only-of-type {\n",
       "        vertical-align: middle;\n",
       "    }\n",
       "\n",
       "    .dataframe tbody tr th {\n",
       "        vertical-align: top;\n",
       "    }\n",
       "\n",
       "    .dataframe thead th {\n",
       "        text-align: right;\n",
       "    }\n",
       "</style>\n",
       "<table border=\"1\" class=\"dataframe\">\n",
       "  <thead>\n",
       "    <tr style=\"text-align: right;\">\n",
       "      <th></th>\n",
       "      <th>id</th>\n",
       "      <th>name</th>\n",
       "      <th>label</th>\n",
       "    </tr>\n",
       "  </thead>\n",
       "  <tbody>\n",
       "    <tr>\n",
       "      <th>13</th>\n",
       "      <td>REACT:R-HSA-1497824</td>\n",
       "      <td>BH4 is oxidised to the BH3 radical during the ...</td>\n",
       "      <td>Reaction</td>\n",
       "    </tr>\n",
       "    <tr>\n",
       "      <th>15</th>\n",
       "      <td>REACT:R-HSA-3785704</td>\n",
       "      <td>DSB inducing agents induce double strand DNA b...</td>\n",
       "      <td>Reaction</td>\n",
       "    </tr>\n",
       "  </tbody>\n",
       "</table>\n",
       "</div>"
      ],
      "text/plain": [
       "                     id                                               name  \\\n",
       "13  REACT:R-HSA-1497824  BH4 is oxidised to the BH3 radical during the ...   \n",
       "15  REACT:R-HSA-3785704  DSB inducing agents induce double strand DNA b...   \n",
       "\n",
       "       label  \n",
       "13  Reaction  \n",
       "15  Reaction  "
      ]
     },
     "execution_count": 108,
     "metadata": {},
     "output_type": "execute_result"
    }
   ],
   "source": [
    "keep_cols = ['reactome_id', 'reactome_name']\n",
    "reaction_nodes1 = hchm_rxn.query('reactome_id not in @rxns')[keep_cols].copy()\n",
    "reaction_nodes1 = reaction_nodes1.drop_duplicates(subset=keep_cols)\n",
    "reaction_nodes1.columns = [c.split('_')[1] for c in keep_cols]\n",
    "reaction_nodes1['label'] = 'Reaction'\n",
    "reaction_nodes1.head(2)"
   ]
  },
  {
   "cell_type": "code",
   "execution_count": 109,
   "metadata": {
    "scrolled": true
   },
   "outputs": [
    {
     "data": {
      "text/html": [
       "<div>\n",
       "<style scoped>\n",
       "    .dataframe tbody tr th:only-of-type {\n",
       "        vertical-align: middle;\n",
       "    }\n",
       "\n",
       "    .dataframe tbody tr th {\n",
       "        vertical-align: top;\n",
       "    }\n",
       "\n",
       "    .dataframe thead th {\n",
       "        text-align: right;\n",
       "    }\n",
       "</style>\n",
       "<table border=\"1\" class=\"dataframe\">\n",
       "  <thead>\n",
       "    <tr style=\"text-align: right;\">\n",
       "      <th></th>\n",
       "      <th>start_id</th>\n",
       "      <th>end_id</th>\n",
       "      <th>evidence_code</th>\n",
       "      <th>type</th>\n",
       "    </tr>\n",
       "  </thead>\n",
       "  <tbody>\n",
       "    <tr>\n",
       "      <th>0</th>\n",
       "      <td>MESH:D014859</td>\n",
       "      <td>REACT:R-HSA-159790</td>\n",
       "      <td>TAS</td>\n",
       "      <td>part_of_CpoRX</td>\n",
       "    </tr>\n",
       "    <tr>\n",
       "      <th>1</th>\n",
       "      <td>MESH:D014859</td>\n",
       "      <td>REACT:R-HSA-9026967</td>\n",
       "      <td>TAS</td>\n",
       "      <td>part_of_CpoRX</td>\n",
       "    </tr>\n",
       "  </tbody>\n",
       "</table>\n",
       "</div>"
      ],
      "text/plain": [
       "       start_id               end_id evidence_code           type\n",
       "0  MESH:D014859   REACT:R-HSA-159790           TAS  part_of_CpoRX\n",
       "1  MESH:D014859  REACT:R-HSA-9026967           TAS  part_of_CpoRX"
      ]
     },
     "execution_count": 109,
     "metadata": {},
     "output_type": "execute_result"
    }
   ],
   "source": [
    "fill_idx = hchm_rxn.query('mesh_id not in @all_node_ids').index\n",
    "hchm_rxn.loc[fill_idx, 'mesh_id'] = hchm_rxn.loc[fill_idx, 'external_id']\n",
    "\n",
    "# Update the pe chem map\n",
    "pe_chem_map = {**hchm_rxn.set_index('pe_reactome_id')['mesh_id'].to_dict(), **pe_chem_map}\n",
    "\n",
    "ch_rxn_edges = hchm_rxn[['mesh_id', 'reactome_id', 'evidence_code']].copy()\n",
    "ch_rxn_edges.columns = ['start_id', 'end_id', 'evidence_code']\n",
    "ch_rxn_edges['type'] = 'part_of_CpoRX'\n",
    "ch_rxn_edges.head(2)"
   ]
  },
  {
   "cell_type": "code",
   "execution_count": 110,
   "metadata": {},
   "outputs": [],
   "source": [
    "ch_rxn_edges['source'] = 'Reactome'\n",
    "ch_rxn_edges['evidence'] = ch_rxn_edges['evidence_code'].apply(determine_evidence)"
   ]
  },
  {
   "cell_type": "code",
   "execution_count": 111,
   "metadata": {},
   "outputs": [],
   "source": [
    "new_nodes.append(reaction_nodes1)\n",
    "new_edges.append(ch_rxn_edges)"
   ]
  },
  {
   "cell_type": "markdown",
   "metadata": {},
   "source": [
    "## MicroRNA - Rxn"
   ]
  },
  {
   "cell_type": "code",
   "execution_count": 112,
   "metadata": {},
   "outputs": [
    {
     "data": {
      "text/html": [
       "<div>\n",
       "<style scoped>\n",
       "    .dataframe tbody tr th:only-of-type {\n",
       "        vertical-align: middle;\n",
       "    }\n",
       "\n",
       "    .dataframe tbody tr th {\n",
       "        vertical-align: top;\n",
       "    }\n",
       "\n",
       "    .dataframe thead th {\n",
       "        text-align: right;\n",
       "    }\n",
       "</style>\n",
       "<table border=\"1\" class=\"dataframe\">\n",
       "  <thead>\n",
       "    <tr style=\"text-align: right;\">\n",
       "      <th></th>\n",
       "      <th>external_id</th>\n",
       "      <th>pe_reactome_id</th>\n",
       "      <th>pe_name</th>\n",
       "      <th>reactome_id</th>\n",
       "      <th>reactome_url</th>\n",
       "      <th>reactome_name</th>\n",
       "      <th>evidence_code</th>\n",
       "      <th>taxon</th>\n",
       "    </tr>\n",
       "  </thead>\n",
       "  <tbody>\n",
       "    <tr>\n",
       "      <th>0</th>\n",
       "      <td>MI0000071</td>\n",
       "      <td>R-HSA-8938437</td>\n",
       "      <td>miR-17 [cytosol]</td>\n",
       "      <td>R-HSA-8935785</td>\n",
       "      <td>https://reactome.org/PathwayBrowser/#/R-HSA-89...</td>\n",
       "      <td>RUNX1 mRNA translation is inhibited by miR-17,...</td>\n",
       "      <td>TAS</td>\n",
       "      <td>Homo sapiens</td>\n",
       "    </tr>\n",
       "    <tr>\n",
       "      <th>1</th>\n",
       "      <td>MI0000071</td>\n",
       "      <td>R-HSA-8938437</td>\n",
       "      <td>miR-17 [cytosol]</td>\n",
       "      <td>R-HSA-8938440</td>\n",
       "      <td>https://reactome.org/PathwayBrowser/#/R-HSA-89...</td>\n",
       "      <td>miR-17 binds RUNX1 mRNA</td>\n",
       "      <td>TAS</td>\n",
       "      <td>Homo sapiens</td>\n",
       "    </tr>\n",
       "  </tbody>\n",
       "</table>\n",
       "</div>"
      ],
      "text/plain": [
       "  external_id pe_reactome_id           pe_name    reactome_id  \\\n",
       "0   MI0000071  R-HSA-8938437  miR-17 [cytosol]  R-HSA-8935785   \n",
       "1   MI0000071  R-HSA-8938437  miR-17 [cytosol]  R-HSA-8938440   \n",
       "\n",
       "                                        reactome_url  \\\n",
       "0  https://reactome.org/PathwayBrowser/#/R-HSA-89...   \n",
       "1  https://reactome.org/PathwayBrowser/#/R-HSA-89...   \n",
       "\n",
       "                                       reactome_name evidence_code  \\\n",
       "0  RUNX1 mRNA translation is inhibited by miR-17,...           TAS   \n",
       "1                            miR-17 binds RUNX1 mRNA           TAS   \n",
       "\n",
       "          taxon  \n",
       "0  Homo sapiens  \n",
       "1  Homo sapiens  "
      ]
     },
     "execution_count": 112,
     "metadata": {},
     "output_type": "execute_result"
    }
   ],
   "source": [
    "mi_rxn = read_reactome(load_dir.joinpath('miRBase2Reactome_PE_Reactions.txt'))\n",
    "mi_rxn.head(2)"
   ]
  },
  {
   "cell_type": "code",
   "execution_count": 113,
   "metadata": {},
   "outputs": [
    {
     "data": {
      "text/plain": [
       "0"
      ]
     },
     "execution_count": 113,
     "metadata": {},
     "output_type": "execute_result"
    }
   ],
   "source": [
    "hmi_rxn = mi_rxn.query('taxon == \"Homo sapiens\"').copy()\n",
    "hmi_rxn['reactome_id'] = 'REACT:' + hmi_rxn['reactome_id']\n",
    "hmi_rxn['rnac_id'] = hmi_rxn['external_id'].map(mirbase_to_rnac)\n",
    "hmi_rxn['rnac_id'].isnull().sum()"
   ]
  },
  {
   "cell_type": "markdown",
   "metadata": {},
   "source": [
    "All micronra mapped succesfully"
   ]
  },
  {
   "cell_type": "code",
   "execution_count": 114,
   "metadata": {},
   "outputs": [],
   "source": [
    "all_rxns = set(rxns) | set(reaction_nodes1['id'])"
   ]
  },
  {
   "cell_type": "code",
   "execution_count": 115,
   "metadata": {},
   "outputs": [
    {
     "data": {
      "text/plain": [
       "0"
      ]
     },
     "execution_count": 115,
     "metadata": {},
     "output_type": "execute_result"
    }
   ],
   "source": [
    "len(hmi_rxn.query('reactome_id not in @all_rxns'))"
   ]
  },
  {
   "cell_type": "markdown",
   "metadata": {},
   "source": [
    "All reactions in the network already"
   ]
  },
  {
   "cell_type": "code",
   "execution_count": 116,
   "metadata": {},
   "outputs": [
    {
     "data": {
      "text/html": [
       "<div>\n",
       "<style scoped>\n",
       "    .dataframe tbody tr th:only-of-type {\n",
       "        vertical-align: middle;\n",
       "    }\n",
       "\n",
       "    .dataframe tbody tr th {\n",
       "        vertical-align: top;\n",
       "    }\n",
       "\n",
       "    .dataframe thead th {\n",
       "        text-align: right;\n",
       "    }\n",
       "</style>\n",
       "<table border=\"1\" class=\"dataframe\">\n",
       "  <thead>\n",
       "    <tr style=\"text-align: right;\">\n",
       "      <th></th>\n",
       "      <th>start_id</th>\n",
       "      <th>end_id</th>\n",
       "      <th>evidence_code</th>\n",
       "      <th>type</th>\n",
       "    </tr>\n",
       "  </thead>\n",
       "  <tbody>\n",
       "    <tr>\n",
       "      <th>0</th>\n",
       "      <td>URS000032AA22_9606</td>\n",
       "      <td>REACT:R-HSA-8935785</td>\n",
       "      <td>TAS</td>\n",
       "      <td>part_of_NpoRX</td>\n",
       "    </tr>\n",
       "    <tr>\n",
       "      <th>1</th>\n",
       "      <td>URS000032AA22_9606</td>\n",
       "      <td>REACT:R-HSA-8938440</td>\n",
       "      <td>TAS</td>\n",
       "      <td>part_of_NpoRX</td>\n",
       "    </tr>\n",
       "  </tbody>\n",
       "</table>\n",
       "</div>"
      ],
      "text/plain": [
       "             start_id               end_id evidence_code           type\n",
       "0  URS000032AA22_9606  REACT:R-HSA-8935785           TAS  part_of_NpoRX\n",
       "1  URS000032AA22_9606  REACT:R-HSA-8938440           TAS  part_of_NpoRX"
      ]
     },
     "execution_count": 116,
     "metadata": {},
     "output_type": "execute_result"
    }
   ],
   "source": [
    "# Update the pe mirna map\n",
    "pe_mir_map = {**hmi_rxn.set_index('pe_reactome_id')['rnac_id'].to_dict(), **pe_mir_map}\n",
    "\n",
    "mi_rxn_edges = hmi_rxn[['rnac_id', 'reactome_id', 'evidence_code']].copy()\n",
    "mi_rxn_edges.columns = ['start_id', 'end_id', 'evidence_code']\n",
    "mi_rxn_edges['type'] = 'part_of_NpoRX'\n",
    "mi_rxn_edges.head(2)"
   ]
  },
  {
   "cell_type": "code",
   "execution_count": 117,
   "metadata": {},
   "outputs": [],
   "source": [
    "mi_rxn_edges['source'] = 'Reactome'\n",
    "mi_rxn_edges['evidence'] = mi_rxn_edges['evidence_code'].apply(determine_evidence)"
   ]
  },
  {
   "cell_type": "code",
   "execution_count": 118,
   "metadata": {},
   "outputs": [],
   "source": [
    "new_edges.append(mi_rxn_edges)"
   ]
  },
  {
   "cell_type": "markdown",
   "metadata": {},
   "source": [
    "# GO Terms to Reactome Values"
   ]
  },
  {
   "cell_type": "code",
   "execution_count": 119,
   "metadata": {},
   "outputs": [],
   "source": [
    "go_cols = ['db', 'db_object_id', 'db_object_symbol','qualifier', 'go_id', 'db_reference', 'evidence_code',\n",
    " 'with_or_from', 'aspect', 'db_object_name', 'db_object_synonym', 'db_object_type', 'taxon', 'date', 'assigned_by',\n",
    " 'annotation_extension', 'gene_product_form_id']\n",
    "\n",
    "keep_cols = ['start_id', 'end_id', 'type', 'qualifier', 'evidence_code', 'with_or_from', 'date', 'assigned_by']"
   ]
  },
  {
   "cell_type": "code",
   "execution_count": 120,
   "metadata": {},
   "outputs": [
    {
     "data": {
      "text/html": [
       "<div>\n",
       "<style scoped>\n",
       "    .dataframe tbody tr th:only-of-type {\n",
       "        vertical-align: middle;\n",
       "    }\n",
       "\n",
       "    .dataframe tbody tr th {\n",
       "        vertical-align: top;\n",
       "    }\n",
       "\n",
       "    .dataframe thead th {\n",
       "        text-align: right;\n",
       "    }\n",
       "</style>\n",
       "<table border=\"1\" class=\"dataframe\">\n",
       "  <thead>\n",
       "    <tr style=\"text-align: right;\">\n",
       "      <th></th>\n",
       "      <th>db</th>\n",
       "      <th>db_object_id</th>\n",
       "      <th>db_object_symbol</th>\n",
       "      <th>qualifier</th>\n",
       "      <th>go_id</th>\n",
       "      <th>db_reference</th>\n",
       "      <th>evidence_code</th>\n",
       "      <th>with_or_from</th>\n",
       "      <th>aspect</th>\n",
       "      <th>db_object_name</th>\n",
       "      <th>db_object_synonym</th>\n",
       "      <th>db_object_type</th>\n",
       "      <th>taxon</th>\n",
       "      <th>date</th>\n",
       "      <th>assigned_by</th>\n",
       "      <th>annotation_extension</th>\n",
       "      <th>gene_product_form_id</th>\n",
       "    </tr>\n",
       "  </thead>\n",
       "  <tbody>\n",
       "    <tr>\n",
       "      <th>0</th>\n",
       "      <td>UniProtKB</td>\n",
       "      <td>P01111</td>\n",
       "      <td>RASN_HUMAN</td>\n",
       "      <td>NaN</td>\n",
       "      <td>GO:0005886</td>\n",
       "      <td>REACTOME:R-HSA-5672950</td>\n",
       "      <td>TAS</td>\n",
       "      <td>NaN</td>\n",
       "      <td>C</td>\n",
       "      <td>NaN</td>\n",
       "      <td>NaN</td>\n",
       "      <td>protein</td>\n",
       "      <td>taxon:9606</td>\n",
       "      <td>20130528</td>\n",
       "      <td>Reactome</td>\n",
       "      <td>NaN</td>\n",
       "      <td>NaN</td>\n",
       "    </tr>\n",
       "    <tr>\n",
       "      <th>1</th>\n",
       "      <td>UniProtKB</td>\n",
       "      <td>P01112</td>\n",
       "      <td>RASH_HUMAN</td>\n",
       "      <td>NaN</td>\n",
       "      <td>GO:0005886</td>\n",
       "      <td>REACTOME:R-HSA-5672950</td>\n",
       "      <td>TAS</td>\n",
       "      <td>NaN</td>\n",
       "      <td>C</td>\n",
       "      <td>NaN</td>\n",
       "      <td>NaN</td>\n",
       "      <td>protein</td>\n",
       "      <td>taxon:9606</td>\n",
       "      <td>20130730</td>\n",
       "      <td>Reactome</td>\n",
       "      <td>NaN</td>\n",
       "      <td>NaN</td>\n",
       "    </tr>\n",
       "  </tbody>\n",
       "</table>\n",
       "</div>"
      ],
      "text/plain": [
       "          db db_object_id db_object_symbol qualifier       go_id  \\\n",
       "0  UniProtKB       P01111       RASN_HUMAN       NaN  GO:0005886   \n",
       "1  UniProtKB       P01112       RASH_HUMAN       NaN  GO:0005886   \n",
       "\n",
       "             db_reference evidence_code with_or_from aspect db_object_name  \\\n",
       "0  REACTOME:R-HSA-5672950           TAS          NaN      C            NaN   \n",
       "1  REACTOME:R-HSA-5672950           TAS          NaN      C            NaN   \n",
       "\n",
       "  db_object_synonym db_object_type       taxon      date assigned_by  \\\n",
       "0               NaN        protein  taxon:9606  20130528    Reactome   \n",
       "1               NaN        protein  taxon:9606  20130730    Reactome   \n",
       "\n",
       "  annotation_extension gene_product_form_id  \n",
       "0                  NaN                  NaN  \n",
       "1                  NaN                  NaN  "
      ]
     },
     "execution_count": 120,
     "metadata": {},
     "output_type": "execute_result"
    }
   ],
   "source": [
    "go_react = pd.read_csv(load_dir.joinpath('gene_association.reactome.gz'), sep='\\t', \n",
    "                       names=go_cols, header=None, comment='!', dtype=str)\n",
    "go_react.head(2)"
   ]
  },
  {
   "cell_type": "code",
   "execution_count": 121,
   "metadata": {},
   "outputs": [],
   "source": [
    "go_react['db_reference'] = go_react['db_reference'].str.replace('REACTOME:', 'REACT:')"
   ]
  },
  {
   "cell_type": "code",
   "execution_count": 122,
   "metadata": {},
   "outputs": [
    {
     "data": {
      "text/plain": [
       "96119"
      ]
     },
     "execution_count": 122,
     "metadata": {},
     "output_type": "execute_result"
    }
   ],
   "source": [
    "hgo_react = go_react.query('taxon == \"taxon:9606\"').copy()\n",
    "len(hgo_react)"
   ]
  },
  {
   "cell_type": "code",
   "execution_count": 123,
   "metadata": {},
   "outputs": [
    {
     "name": "stdout",
     "output_type": "stream",
     "text": [
      "95476\n",
      "96117\n"
     ]
    }
   ],
   "source": [
    "all_node_ids = set(all_nodes['id']) | set(pd.concat(new_nodes, sort=False)['id'])\n",
    "\n",
    "print(len(hgo_react.query('db_reference in @all_node_ids')))\n",
    "print(len(hgo_react.query('go_id in @all_node_ids')))"
   ]
  },
  {
   "cell_type": "code",
   "execution_count": 124,
   "metadata": {},
   "outputs": [
    {
     "data": {
      "text/plain": [
       "C    75112\n",
       "P    18910\n",
       "F     2097\n",
       "Name: aspect, dtype: int64"
      ]
     },
     "execution_count": 124,
     "metadata": {},
     "output_type": "execute_result"
    }
   ],
   "source": [
    "hgo_react['aspect'].value_counts()"
   ]
  },
  {
   "cell_type": "code",
   "execution_count": 125,
   "metadata": {},
   "outputs": [
    {
     "data": {
      "text/plain": [
       "(2800, 12327)"
      ]
     },
     "execution_count": 125,
     "metadata": {},
     "output_type": "execute_result"
    }
   ],
   "source": [
    "pw_ids = pd.concat([all_nodes]+new_nodes, sort=False).query('label == \"Pathway\"')['id'].values\n",
    "rxn_ids = pd.concat([all_nodes]+new_nodes, sort=False).query('label == \"Reaction\"')['id'].values\n",
    "\n",
    "len(pw_ids), len(rxn_ids)"
   ]
  },
  {
   "cell_type": "code",
   "execution_count": 126,
   "metadata": {},
   "outputs": [],
   "source": [
    "hgo_rxns = hgo_react.query('db_reference in @rxn_ids')\n",
    "hgo_pws = hgo_react.query('db_reference in @pw_ids')"
   ]
  },
  {
   "cell_type": "code",
   "execution_count": 127,
   "metadata": {},
   "outputs": [
    {
     "data": {
      "text/html": [
       "<div>\n",
       "<style scoped>\n",
       "    .dataframe tbody tr th:only-of-type {\n",
       "        vertical-align: middle;\n",
       "    }\n",
       "\n",
       "    .dataframe tbody tr th {\n",
       "        vertical-align: top;\n",
       "    }\n",
       "\n",
       "    .dataframe thead th {\n",
       "        text-align: right;\n",
       "    }\n",
       "</style>\n",
       "<table border=\"1\" class=\"dataframe\">\n",
       "  <thead>\n",
       "    <tr style=\"text-align: right;\">\n",
       "      <th></th>\n",
       "      <th>start_id</th>\n",
       "      <th>end_id</th>\n",
       "      <th>type</th>\n",
       "      <th>qualifier</th>\n",
       "      <th>evidence_code</th>\n",
       "      <th>with_or_from</th>\n",
       "      <th>date</th>\n",
       "      <th>assigned_by</th>\n",
       "    </tr>\n",
       "  </thead>\n",
       "  <tbody>\n",
       "    <tr>\n",
       "      <th>5</th>\n",
       "      <td>REACT:R-HSA-5673001</td>\n",
       "      <td>GO:0000165</td>\n",
       "      <td>involved_in_PWinBP</td>\n",
       "      <td>NaN</td>\n",
       "      <td>TAS</td>\n",
       "      <td>NaN</td>\n",
       "      <td>20190308</td>\n",
       "      <td>Reactome</td>\n",
       "    </tr>\n",
       "    <tr>\n",
       "      <th>6</th>\n",
       "      <td>REACT:R-HSA-5673001</td>\n",
       "      <td>GO:0000165</td>\n",
       "      <td>involved_in_PWinBP</td>\n",
       "      <td>NaN</td>\n",
       "      <td>TAS</td>\n",
       "      <td>NaN</td>\n",
       "      <td>20190308</td>\n",
       "      <td>Reactome</td>\n",
       "    </tr>\n",
       "  </tbody>\n",
       "</table>\n",
       "</div>"
      ],
      "text/plain": [
       "              start_id      end_id                type qualifier  \\\n",
       "5  REACT:R-HSA-5673001  GO:0000165  involved_in_PWinBP       NaN   \n",
       "6  REACT:R-HSA-5673001  GO:0000165  involved_in_PWinBP       NaN   \n",
       "\n",
       "  evidence_code with_or_from      date assigned_by  \n",
       "5           TAS          NaN  20190308    Reactome  \n",
       "6           TAS          NaN  20190308    Reactome  "
      ]
     },
     "execution_count": 127,
     "metadata": {},
     "output_type": "execute_result"
    }
   ],
   "source": [
    "aspect_map = {'P': 'involved_in_PWinBP', 'F': 'enables_PWeMF', 'C': 'part_of_PWpoCC'}\n",
    "gpw_edges = hgo_pws.rename(columns={'db_reference': 'start_id', 'go_id': 'end_id'})\n",
    "gpw_edges['type'] = gpw_edges['aspect'].map(aspect_map)\n",
    "gpw_edges = gpw_edges[keep_cols]\n",
    "gpw_edges.head(2)"
   ]
  },
  {
   "cell_type": "code",
   "execution_count": 128,
   "metadata": {},
   "outputs": [
    {
     "data": {
      "text/html": [
       "<div>\n",
       "<style scoped>\n",
       "    .dataframe tbody tr th:only-of-type {\n",
       "        vertical-align: middle;\n",
       "    }\n",
       "\n",
       "    .dataframe tbody tr th {\n",
       "        vertical-align: top;\n",
       "    }\n",
       "\n",
       "    .dataframe thead th {\n",
       "        text-align: right;\n",
       "    }\n",
       "</style>\n",
       "<table border=\"1\" class=\"dataframe\">\n",
       "  <thead>\n",
       "    <tr style=\"text-align: right;\">\n",
       "      <th></th>\n",
       "      <th>start_id</th>\n",
       "      <th>end_id</th>\n",
       "      <th>type</th>\n",
       "      <th>qualifier</th>\n",
       "      <th>evidence_code</th>\n",
       "      <th>with_or_from</th>\n",
       "      <th>date</th>\n",
       "      <th>assigned_by</th>\n",
       "    </tr>\n",
       "  </thead>\n",
       "  <tbody>\n",
       "    <tr>\n",
       "      <th>0</th>\n",
       "      <td>REACT:R-HSA-5672950</td>\n",
       "      <td>GO:0005886</td>\n",
       "      <td>part_of_RXpoCC</td>\n",
       "      <td>NaN</td>\n",
       "      <td>TAS</td>\n",
       "      <td>NaN</td>\n",
       "      <td>20130528</td>\n",
       "      <td>Reactome</td>\n",
       "    </tr>\n",
       "    <tr>\n",
       "      <th>1</th>\n",
       "      <td>REACT:R-HSA-5672950</td>\n",
       "      <td>GO:0005886</td>\n",
       "      <td>part_of_RXpoCC</td>\n",
       "      <td>NaN</td>\n",
       "      <td>TAS</td>\n",
       "      <td>NaN</td>\n",
       "      <td>20130730</td>\n",
       "      <td>Reactome</td>\n",
       "    </tr>\n",
       "  </tbody>\n",
       "</table>\n",
       "</div>"
      ],
      "text/plain": [
       "              start_id      end_id            type qualifier evidence_code  \\\n",
       "0  REACT:R-HSA-5672950  GO:0005886  part_of_RXpoCC       NaN           TAS   \n",
       "1  REACT:R-HSA-5672950  GO:0005886  part_of_RXpoCC       NaN           TAS   \n",
       "\n",
       "  with_or_from      date assigned_by  \n",
       "0          NaN  20130528    Reactome  \n",
       "1          NaN  20130730    Reactome  "
      ]
     },
     "execution_count": 128,
     "metadata": {},
     "output_type": "execute_result"
    }
   ],
   "source": [
    "aspect_map = {k: v.replace('PW', 'RX') for k, v in aspect_map.items()}\n",
    "grx_edges = hgo_rxns.rename(columns={'db_reference': 'start_id', 'go_id': 'end_id'})\n",
    "grx_edges['type'] = grx_edges['aspect'].map(aspect_map)\n",
    "grx_edges = grx_edges[keep_cols]\n",
    "grx_edges.head(2)"
   ]
  },
  {
   "cell_type": "code",
   "execution_count": 129,
   "metadata": {},
   "outputs": [],
   "source": [
    "gpw_edges['source'] = 'Reactome'\n",
    "gpw_edges['evidence'] = gpw_edges['evidence_code'].apply(determine_evidence)"
   ]
  },
  {
   "cell_type": "code",
   "execution_count": 130,
   "metadata": {},
   "outputs": [],
   "source": [
    "grx_edges['source'] = 'Reactome'\n",
    "grx_edges['evidence'] = grx_edges['evidence_code'].apply(determine_evidence)"
   ]
  },
  {
   "cell_type": "code",
   "execution_count": 131,
   "metadata": {},
   "outputs": [],
   "source": [
    "new_edges.append(gpw_edges)\n",
    "new_edges.append(grx_edges)"
   ]
  },
  {
   "cell_type": "markdown",
   "metadata": {},
   "source": [
    "# Complexes"
   ]
  },
  {
   "cell_type": "code",
   "execution_count": 132,
   "metadata": {},
   "outputs": [
    {
     "data": {
      "text/html": [
       "<div>\n",
       "<style scoped>\n",
       "    .dataframe tbody tr th:only-of-type {\n",
       "        vertical-align: middle;\n",
       "    }\n",
       "\n",
       "    .dataframe tbody tr th {\n",
       "        vertical-align: top;\n",
       "    }\n",
       "\n",
       "    .dataframe thead th {\n",
       "        text-align: right;\n",
       "    }\n",
       "</style>\n",
       "<table border=\"1\" class=\"dataframe\">\n",
       "  <thead>\n",
       "    <tr style=\"text-align: right;\">\n",
       "      <th></th>\n",
       "      <th>complex_ac</th>\n",
       "      <th>recommended_name</th>\n",
       "      <th>aliases_for_complex</th>\n",
       "      <th>taxonomy_identifier</th>\n",
       "      <th>identifiers_and_stoichiometry_of_molecules_in_complex</th>\n",
       "      <th>confidence</th>\n",
       "      <th>experimental_evidence</th>\n",
       "      <th>go_annotations</th>\n",
       "      <th>cross_references</th>\n",
       "      <th>description</th>\n",
       "      <th>complex_properties</th>\n",
       "      <th>complex_assembly</th>\n",
       "      <th>ligand</th>\n",
       "      <th>disease</th>\n",
       "      <th>agonist</th>\n",
       "      <th>antagonist</th>\n",
       "      <th>comment</th>\n",
       "      <th>source</th>\n",
       "    </tr>\n",
       "  </thead>\n",
       "  <tbody>\n",
       "    <tr>\n",
       "      <th>0</th>\n",
       "      <td>CPX-1196</td>\n",
       "      <td>Polybromo-associated SWI/SNF ATP-dependent chr...</td>\n",
       "      <td>Polybromo-associated SWI/SNF ATP-dependent chr...</td>\n",
       "      <td>9606</td>\n",
       "      <td>Q86U86(0)|Q68CP9(0)|Q8WUB8(0)|P60709(0)|O94805...</td>\n",
       "      <td>ECO:0005547(biological system reconstruction e...</td>\n",
       "      <td>-</td>\n",
       "      <td>GO:0016363(nuclear matrix)|GO:2000045(regulati...</td>\n",
       "      <td>pubmed:11790558(see-also)|pubmed:18809673(see-...</td>\n",
       "      <td>An ATP-dependent chromatin remodeling complex ...</td>\n",
       "      <td>MW approximately 2 MDa. May contain 2 instance...</td>\n",
       "      <td>-</td>\n",
       "      <td>-</td>\n",
       "      <td>Coffin-Siris syndrome (CSS) [Orphanet:1465]: a...</td>\n",
       "      <td>-</td>\n",
       "      <td>-</td>\n",
       "      <td>-</td>\n",
       "      <td>psi-mi:\"MI:0469\"(IntAct)</td>\n",
       "    </tr>\n",
       "    <tr>\n",
       "      <th>1</th>\n",
       "      <td>CPX-1201</td>\n",
       "      <td>Neural progenitor-specific SWI/SNF ATP-depende...</td>\n",
       "      <td>neural progenitor-specific BAF ATP-dependent c...</td>\n",
       "      <td>9606</td>\n",
       "      <td>P51531(0)|O14497(0)|Q969G3(0)|Q6STE5(0)|Q8WUB8...</td>\n",
       "      <td>ECO:0005547(biological system reconstruction e...</td>\n",
       "      <td>-</td>\n",
       "      <td>GO:2000045(regulation of G1/S transition of mi...</td>\n",
       "      <td>pubmed:11790558(see-also)|pubmed:18809673(see-...</td>\n",
       "      <td>An ATP-dependent chromatin remodeling complex ...</td>\n",
       "      <td>MW approximately 2 MDa. May contain 2 instance...</td>\n",
       "      <td>-</td>\n",
       "      <td>-</td>\n",
       "      <td>Coffin-Siris syndrome (CSS) [Orphanet:1465]: a...</td>\n",
       "      <td>-</td>\n",
       "      <td>-</td>\n",
       "      <td>-</td>\n",
       "      <td>psi-mi:\"MI:0469\"(IntAct)</td>\n",
       "    </tr>\n",
       "  </tbody>\n",
       "</table>\n",
       "</div>"
      ],
      "text/plain": [
       "  complex_ac                                   recommended_name  \\\n",
       "0   CPX-1196  Polybromo-associated SWI/SNF ATP-dependent chr...   \n",
       "1   CPX-1201  Neural progenitor-specific SWI/SNF ATP-depende...   \n",
       "\n",
       "                                 aliases_for_complex  taxonomy_identifier  \\\n",
       "0  Polybromo-associated SWI/SNF ATP-dependent chr...                 9606   \n",
       "1  neural progenitor-specific BAF ATP-dependent c...                 9606   \n",
       "\n",
       "  identifiers_and_stoichiometry_of_molecules_in_complex  \\\n",
       "0  Q86U86(0)|Q68CP9(0)|Q8WUB8(0)|P60709(0)|O94805...      \n",
       "1  P51531(0)|O14497(0)|Q969G3(0)|Q6STE5(0)|Q8WUB8...      \n",
       "\n",
       "                                          confidence experimental_evidence  \\\n",
       "0  ECO:0005547(biological system reconstruction e...                     -   \n",
       "1  ECO:0005547(biological system reconstruction e...                     -   \n",
       "\n",
       "                                      go_annotations  \\\n",
       "0  GO:0016363(nuclear matrix)|GO:2000045(regulati...   \n",
       "1  GO:2000045(regulation of G1/S transition of mi...   \n",
       "\n",
       "                                    cross_references  \\\n",
       "0  pubmed:11790558(see-also)|pubmed:18809673(see-...   \n",
       "1  pubmed:11790558(see-also)|pubmed:18809673(see-...   \n",
       "\n",
       "                                         description  \\\n",
       "0  An ATP-dependent chromatin remodeling complex ...   \n",
       "1  An ATP-dependent chromatin remodeling complex ...   \n",
       "\n",
       "                                  complex_properties complex_assembly ligand  \\\n",
       "0  MW approximately 2 MDa. May contain 2 instance...                -      -   \n",
       "1  MW approximately 2 MDa. May contain 2 instance...                -      -   \n",
       "\n",
       "                                             disease agonist antagonist  \\\n",
       "0  Coffin-Siris syndrome (CSS) [Orphanet:1465]: a...       -          -   \n",
       "1  Coffin-Siris syndrome (CSS) [Orphanet:1465]: a...       -          -   \n",
       "\n",
       "  comment                    source  \n",
       "0       -  psi-mi:\"MI:0469\"(IntAct)  \n",
       "1       -  psi-mi:\"MI:0469\"(IntAct)  "
      ]
     },
     "execution_count": 132,
     "metadata": {},
     "output_type": "execute_result"
    }
   ],
   "source": [
    "cplx = pd.read_csv(load_dir.joinpath('homo_sapiens.tsv'), sep='\\t')\n",
    "cplx.columns = regularize_colnames(cplx.columns)\n",
    "cplx.head(2)"
   ]
  },
  {
   "cell_type": "code",
   "execution_count": 133,
   "metadata": {},
   "outputs": [
    {
     "data": {
      "text/html": [
       "<div>\n",
       "<style scoped>\n",
       "    .dataframe tbody tr th:only-of-type {\n",
       "        vertical-align: middle;\n",
       "    }\n",
       "\n",
       "    .dataframe tbody tr th {\n",
       "        vertical-align: top;\n",
       "    }\n",
       "\n",
       "    .dataframe thead th {\n",
       "        text-align: right;\n",
       "    }\n",
       "</style>\n",
       "<table border=\"1\" class=\"dataframe\">\n",
       "  <thead>\n",
       "    <tr style=\"text-align: right;\">\n",
       "      <th></th>\n",
       "      <th>complex_ac</th>\n",
       "      <th>recommended_name</th>\n",
       "      <th>aliases_for_complex</th>\n",
       "      <th>taxonomy_identifier</th>\n",
       "      <th>identifiers_and_stoichiometry_of_molecules_in_complex</th>\n",
       "      <th>confidence</th>\n",
       "      <th>experimental_evidence</th>\n",
       "      <th>go_annotations</th>\n",
       "      <th>cross_references</th>\n",
       "      <th>description</th>\n",
       "      <th>complex_properties</th>\n",
       "      <th>complex_assembly</th>\n",
       "      <th>ligand</th>\n",
       "      <th>disease</th>\n",
       "      <th>agonist</th>\n",
       "      <th>antagonist</th>\n",
       "      <th>comment</th>\n",
       "      <th>source</th>\n",
       "    </tr>\n",
       "  </thead>\n",
       "  <tbody>\n",
       "    <tr>\n",
       "      <th>0</th>\n",
       "      <td>CPX-1196</td>\n",
       "      <td>Polybromo-associated SWI/SNF ATP-dependent chr...</td>\n",
       "      <td>Polybromo-associated SWI/SNF ATP-dependent chr...</td>\n",
       "      <td>9606</td>\n",
       "      <td>Q86U86(0)|Q68CP9(0)|Q8WUB8(0)|P60709(0)|O94805...</td>\n",
       "      <td>ECO:0005547(biological system reconstruction e...</td>\n",
       "      <td>-</td>\n",
       "      <td>GO:0016363(nuclear matrix)|GO:2000045(regulati...</td>\n",
       "      <td>pubmed:11790558(see-also)</td>\n",
       "      <td>An ATP-dependent chromatin remodeling complex ...</td>\n",
       "      <td>MW approximately 2 MDa. May contain 2 instance...</td>\n",
       "      <td>-</td>\n",
       "      <td>-</td>\n",
       "      <td>Coffin-Siris syndrome (CSS) [Orphanet:1465]: a...</td>\n",
       "      <td>-</td>\n",
       "      <td>-</td>\n",
       "      <td>-</td>\n",
       "      <td>psi-mi:\"MI:0469\"(IntAct)</td>\n",
       "    </tr>\n",
       "    <tr>\n",
       "      <th>1</th>\n",
       "      <td>CPX-1196</td>\n",
       "      <td>Polybromo-associated SWI/SNF ATP-dependent chr...</td>\n",
       "      <td>Polybromo-associated SWI/SNF ATP-dependent chr...</td>\n",
       "      <td>9606</td>\n",
       "      <td>Q86U86(0)|Q68CP9(0)|Q8WUB8(0)|P60709(0)|O94805...</td>\n",
       "      <td>ECO:0005547(biological system reconstruction e...</td>\n",
       "      <td>-</td>\n",
       "      <td>GO:0016363(nuclear matrix)|GO:2000045(regulati...</td>\n",
       "      <td>pubmed:18809673(see-also)</td>\n",
       "      <td>An ATP-dependent chromatin remodeling complex ...</td>\n",
       "      <td>MW approximately 2 MDa. May contain 2 instance...</td>\n",
       "      <td>-</td>\n",
       "      <td>-</td>\n",
       "      <td>Coffin-Siris syndrome (CSS) [Orphanet:1465]: a...</td>\n",
       "      <td>-</td>\n",
       "      <td>-</td>\n",
       "      <td>-</td>\n",
       "      <td>psi-mi:\"MI:0469\"(IntAct)</td>\n",
       "    </tr>\n",
       "  </tbody>\n",
       "</table>\n",
       "</div>"
      ],
      "text/plain": [
       "  complex_ac                                   recommended_name  \\\n",
       "0   CPX-1196  Polybromo-associated SWI/SNF ATP-dependent chr...   \n",
       "1   CPX-1196  Polybromo-associated SWI/SNF ATP-dependent chr...   \n",
       "\n",
       "                                 aliases_for_complex  taxonomy_identifier  \\\n",
       "0  Polybromo-associated SWI/SNF ATP-dependent chr...                 9606   \n",
       "1  Polybromo-associated SWI/SNF ATP-dependent chr...                 9606   \n",
       "\n",
       "  identifiers_and_stoichiometry_of_molecules_in_complex  \\\n",
       "0  Q86U86(0)|Q68CP9(0)|Q8WUB8(0)|P60709(0)|O94805...      \n",
       "1  Q86U86(0)|Q68CP9(0)|Q8WUB8(0)|P60709(0)|O94805...      \n",
       "\n",
       "                                          confidence experimental_evidence  \\\n",
       "0  ECO:0005547(biological system reconstruction e...                     -   \n",
       "1  ECO:0005547(biological system reconstruction e...                     -   \n",
       "\n",
       "                                      go_annotations  \\\n",
       "0  GO:0016363(nuclear matrix)|GO:2000045(regulati...   \n",
       "1  GO:0016363(nuclear matrix)|GO:2000045(regulati...   \n",
       "\n",
       "            cross_references  \\\n",
       "0  pubmed:11790558(see-also)   \n",
       "1  pubmed:18809673(see-also)   \n",
       "\n",
       "                                         description  \\\n",
       "0  An ATP-dependent chromatin remodeling complex ...   \n",
       "1  An ATP-dependent chromatin remodeling complex ...   \n",
       "\n",
       "                                  complex_properties complex_assembly ligand  \\\n",
       "0  MW approximately 2 MDa. May contain 2 instance...                -      -   \n",
       "1  MW approximately 2 MDa. May contain 2 instance...                -      -   \n",
       "\n",
       "                                             disease agonist antagonist  \\\n",
       "0  Coffin-Siris syndrome (CSS) [Orphanet:1465]: a...       -          -   \n",
       "1  Coffin-Siris syndrome (CSS) [Orphanet:1465]: a...       -          -   \n",
       "\n",
       "  comment                    source  \n",
       "0       -  psi-mi:\"MI:0469\"(IntAct)  \n",
       "1       -  psi-mi:\"MI:0469\"(IntAct)  "
      ]
     },
     "execution_count": 133,
     "metadata": {},
     "output_type": "execute_result"
    }
   ],
   "source": [
    "exp_cplx = expand_col_on_char(cplx, 'cross_references', '|')\n",
    "exp_cplx.head(2)"
   ]
  },
  {
   "cell_type": "code",
   "execution_count": 134,
   "metadata": {},
   "outputs": [
    {
     "data": {
      "text/html": [
       "<div>\n",
       "<style scoped>\n",
       "    .dataframe tbody tr th:only-of-type {\n",
       "        vertical-align: middle;\n",
       "    }\n",
       "\n",
       "    .dataframe tbody tr th {\n",
       "        vertical-align: top;\n",
       "    }\n",
       "\n",
       "    .dataframe thead th {\n",
       "        text-align: right;\n",
       "    }\n",
       "</style>\n",
       "<table border=\"1\" class=\"dataframe\">\n",
       "  <thead>\n",
       "    <tr style=\"text-align: right;\">\n",
       "      <th></th>\n",
       "      <th>complex_ac</th>\n",
       "      <th>recommended_name</th>\n",
       "      <th>cross_references</th>\n",
       "    </tr>\n",
       "  </thead>\n",
       "  <tbody>\n",
       "    <tr>\n",
       "      <th>99</th>\n",
       "      <td>CPX-56</td>\n",
       "      <td>GLI1-SUFU complex</td>\n",
       "      <td>reactome:R-HSA-5610605(identity)</td>\n",
       "    </tr>\n",
       "    <tr>\n",
       "      <th>100</th>\n",
       "      <td>CPX-56</td>\n",
       "      <td>GLI1-SUFU complex</td>\n",
       "      <td>reactome:R-HSA-5610531(identity)</td>\n",
       "    </tr>\n",
       "  </tbody>\n",
       "</table>\n",
       "</div>"
      ],
      "text/plain": [
       "    complex_ac   recommended_name                  cross_references\n",
       "99      CPX-56  GLI1-SUFU complex  reactome:R-HSA-5610605(identity)\n",
       "100     CPX-56  GLI1-SUFU complex  reactome:R-HSA-5610531(identity)"
      ]
     },
     "execution_count": 134,
     "metadata": {},
     "output_type": "execute_result"
    }
   ],
   "source": [
    "react_cplx = exp_cplx[exp_cplx['cross_references'].str.startswith('reactome')].copy()\n",
    "react_cplx[['complex_ac', 'recommended_name', 'cross_references']].head(2)"
   ]
  },
  {
   "cell_type": "markdown",
   "metadata": {},
   "source": [
    "Some contain the term '(identity)', lets see how many do"
   ]
  },
  {
   "cell_type": "code",
   "execution_count": 135,
   "metadata": {},
   "outputs": [
    {
     "data": {
      "text/plain": [
       "(389, 386)"
      ]
     },
     "execution_count": 135,
     "metadata": {},
     "output_type": "execute_result"
    }
   ],
   "source": [
    "len(react_cplx), react_cplx['cross_references'].str.contains('identity').sum()"
   ]
  },
  {
   "cell_type": "code",
   "execution_count": 136,
   "metadata": {},
   "outputs": [
    {
     "data": {
      "text/html": [
       "<div>\n",
       "<style scoped>\n",
       "    .dataframe tbody tr th:only-of-type {\n",
       "        vertical-align: middle;\n",
       "    }\n",
       "\n",
       "    .dataframe tbody tr th {\n",
       "        vertical-align: top;\n",
       "    }\n",
       "\n",
       "    .dataframe thead th {\n",
       "        text-align: right;\n",
       "    }\n",
       "</style>\n",
       "<table border=\"1\" class=\"dataframe\">\n",
       "  <thead>\n",
       "    <tr style=\"text-align: right;\">\n",
       "      <th></th>\n",
       "      <th>complex_ac</th>\n",
       "      <th>recommended_name</th>\n",
       "      <th>cross_references</th>\n",
       "    </tr>\n",
       "  </thead>\n",
       "  <tbody>\n",
       "    <tr>\n",
       "      <th>370</th>\n",
       "      <td>CPX-2108</td>\n",
       "      <td>epsilon DNA polymerase complex</td>\n",
       "      <td>reactome:R-HSA-68483(subset)</td>\n",
       "    </tr>\n",
       "    <tr>\n",
       "      <th>2223</th>\n",
       "      <td>CPX-382</td>\n",
       "      <td>Interleukin-12-receptor complex</td>\n",
       "      <td>reactome:R-HSA-8854487(subset)</td>\n",
       "    </tr>\n",
       "    <tr>\n",
       "      <th>2903</th>\n",
       "      <td>CPX-383</td>\n",
       "      <td>Interleukin-23-receptor complex</td>\n",
       "      <td>reactome:R-HSA-447186(subset)</td>\n",
       "    </tr>\n",
       "  </tbody>\n",
       "</table>\n",
       "</div>"
      ],
      "text/plain": [
       "     complex_ac                 recommended_name  \\\n",
       "370    CPX-2108   epsilon DNA polymerase complex   \n",
       "2223    CPX-382  Interleukin-12-receptor complex   \n",
       "2903    CPX-383  Interleukin-23-receptor complex   \n",
       "\n",
       "                    cross_references  \n",
       "370     reactome:R-HSA-68483(subset)  \n",
       "2223  reactome:R-HSA-8854487(subset)  \n",
       "2903   reactome:R-HSA-447186(subset)  "
      ]
     },
     "execution_count": 136,
     "metadata": {},
     "output_type": "execute_result"
    }
   ],
   "source": [
    "react_cplx[~react_cplx['cross_references'].str.contains('identity')][['complex_ac', 'recommended_name', 'cross_references']]"
   ]
  },
  {
   "cell_type": "code",
   "execution_count": 137,
   "metadata": {},
   "outputs": [],
   "source": [
    "react_cplx['xref'] = (react_cplx['cross_references']\n",
    "                         .str.replace('reactome:', '', regex=False)\n",
    "                         .str.replace('(identity)', '', regex=False)\n",
    "                         .str.replace('(subset)', '', regex=False)\n",
    "                         .apply(lambda s: s.split('.')[0]))"
   ]
  },
  {
   "cell_type": "code",
   "execution_count": 138,
   "metadata": {},
   "outputs": [
    {
     "data": {
      "text/plain": [
       "(364, 272)"
      ]
     },
     "execution_count": 138,
     "metadata": {},
     "output_type": "execute_result"
    }
   ],
   "source": [
    "react_cplx['xref'].nunique(), react_cplx['complex_ac'].nunique()"
   ]
  },
  {
   "cell_type": "markdown",
   "metadata": {},
   "source": [
    "Relationship appears to be many-to-many"
   ]
  },
  {
   "cell_type": "code",
   "execution_count": 139,
   "metadata": {},
   "outputs": [
    {
     "data": {
      "text/html": [
       "<div>\n",
       "<style scoped>\n",
       "    .dataframe tbody tr th:only-of-type {\n",
       "        vertical-align: middle;\n",
       "    }\n",
       "\n",
       "    .dataframe tbody tr th {\n",
       "        vertical-align: top;\n",
       "    }\n",
       "\n",
       "    .dataframe thead th {\n",
       "        text-align: right;\n",
       "    }\n",
       "</style>\n",
       "<table border=\"1\" class=\"dataframe\">\n",
       "  <thead>\n",
       "    <tr style=\"text-align: right;\">\n",
       "      <th></th>\n",
       "      <th>complex_ac</th>\n",
       "      <th>recommended_name</th>\n",
       "      <th>xref</th>\n",
       "    </tr>\n",
       "  </thead>\n",
       "  <tbody>\n",
       "    <tr>\n",
       "      <th>99</th>\n",
       "      <td>CPX-56</td>\n",
       "      <td>GLI1-SUFU complex</td>\n",
       "      <td>R-HSA-5610605</td>\n",
       "    </tr>\n",
       "    <tr>\n",
       "      <th>100</th>\n",
       "      <td>CPX-56</td>\n",
       "      <td>GLI1-SUFU complex</td>\n",
       "      <td>R-HSA-5610531</td>\n",
       "    </tr>\n",
       "  </tbody>\n",
       "</table>\n",
       "</div>"
      ],
      "text/plain": [
       "    complex_ac   recommended_name           xref\n",
       "99      CPX-56  GLI1-SUFU complex  R-HSA-5610605\n",
       "100     CPX-56  GLI1-SUFU complex  R-HSA-5610531"
      ]
     },
     "execution_count": 139,
     "metadata": {},
     "output_type": "execute_result"
    }
   ],
   "source": [
    "react_cplx_map = react_cplx.loc[:, ['complex_ac', 'recommended_name', 'xref']]\n",
    "react_cplx_map.head(2)"
   ]
  },
  {
   "cell_type": "code",
   "execution_count": 140,
   "metadata": {},
   "outputs": [],
   "source": [
    "react_complexes = react_cplx_map['xref'].unique()"
   ]
  },
  {
   "cell_type": "code",
   "execution_count": 141,
   "metadata": {},
   "outputs": [
    {
     "data": {
      "text/html": [
       "<div>\n",
       "<style scoped>\n",
       "    .dataframe tbody tr th:only-of-type {\n",
       "        vertical-align: middle;\n",
       "    }\n",
       "\n",
       "    .dataframe tbody tr th {\n",
       "        vertical-align: top;\n",
       "    }\n",
       "\n",
       "    .dataframe thead th {\n",
       "        text-align: right;\n",
       "    }\n",
       "</style>\n",
       "<table border=\"1\" class=\"dataframe\">\n",
       "  <thead>\n",
       "    <tr style=\"text-align: right;\">\n",
       "      <th></th>\n",
       "      <th>complex</th>\n",
       "      <th>pathway</th>\n",
       "      <th>top_level_pathway</th>\n",
       "    </tr>\n",
       "  </thead>\n",
       "  <tbody>\n",
       "    <tr>\n",
       "      <th>0</th>\n",
       "      <td>R-ALL-1006146</td>\n",
       "      <td>R-HSA-977606</td>\n",
       "      <td>R-HSA-168256</td>\n",
       "    </tr>\n",
       "    <tr>\n",
       "      <th>1</th>\n",
       "      <td>R-ALL-113656</td>\n",
       "      <td>R-HSA-113501</td>\n",
       "      <td>R-HSA-1640170</td>\n",
       "    </tr>\n",
       "  </tbody>\n",
       "</table>\n",
       "</div>"
      ],
      "text/plain": [
       "         complex       pathway top_level_pathway\n",
       "0  R-ALL-1006146  R-HSA-977606      R-HSA-168256\n",
       "1   R-ALL-113656  R-HSA-113501     R-HSA-1640170"
      ]
     },
     "execution_count": 141,
     "metadata": {},
     "output_type": "execute_result"
    }
   ],
   "source": [
    "cplx_to_pw = pd.read_csv(load_dir.joinpath('Complex_2_Pathway_human.txt'), sep='\\t')\n",
    "cplx_to_pw.head(2)"
   ]
  },
  {
   "cell_type": "code",
   "execution_count": 142,
   "metadata": {},
   "outputs": [
    {
     "data": {
      "text/plain": [
       "19987"
      ]
     },
     "execution_count": 142,
     "metadata": {},
     "output_type": "execute_result"
    }
   ],
   "source": [
    "len(cplx_to_pw)"
   ]
  },
  {
   "cell_type": "code",
   "execution_count": 143,
   "metadata": {},
   "outputs": [
    {
     "data": {
      "text/plain": [
       "1110"
      ]
     },
     "execution_count": 143,
     "metadata": {},
     "output_type": "execute_result"
    }
   ],
   "source": [
    "len(cplx_to_pw.query('complex in @react_complexes'))"
   ]
  },
  {
   "cell_type": "markdown",
   "metadata": {},
   "source": [
    "Only about 5 percent are ones that we have a complex-portal xref...."
   ]
  },
  {
   "cell_type": "code",
   "execution_count": 144,
   "metadata": {},
   "outputs": [
    {
     "data": {
      "text/plain": [
       "1110"
      ]
     },
     "execution_count": 144,
     "metadata": {},
     "output_type": "execute_result"
    }
   ],
   "source": [
    "cplx_to_pw['pathway'] = 'REACT:' + cplx_to_pw['pathway']\n",
    "len(cplx_to_pw.query('complex in @react_complexes and pathway in @pw_ids'))"
   ]
  },
  {
   "cell_type": "markdown",
   "metadata": {},
   "source": [
    "All pathways have other linking members!"
   ]
  },
  {
   "cell_type": "code",
   "execution_count": 145,
   "metadata": {},
   "outputs": [
    {
     "data": {
      "text/html": [
       "<div>\n",
       "<style scoped>\n",
       "    .dataframe tbody tr th:only-of-type {\n",
       "        vertical-align: middle;\n",
       "    }\n",
       "\n",
       "    .dataframe tbody tr th {\n",
       "        vertical-align: top;\n",
       "    }\n",
       "\n",
       "    .dataframe thead th {\n",
       "        text-align: right;\n",
       "    }\n",
       "</style>\n",
       "<table border=\"1\" class=\"dataframe\">\n",
       "  <thead>\n",
       "    <tr style=\"text-align: right;\">\n",
       "      <th></th>\n",
       "      <th>start_id</th>\n",
       "      <th>end_id</th>\n",
       "      <th>type</th>\n",
       "    </tr>\n",
       "  </thead>\n",
       "  <tbody>\n",
       "    <tr>\n",
       "      <th>0</th>\n",
       "      <td>CPX-930</td>\n",
       "      <td>REACT:R-HSA-167161</td>\n",
       "      <td>part_of_XpoPW</td>\n",
       "    </tr>\n",
       "    <tr>\n",
       "      <th>1</th>\n",
       "      <td>CPX-915</td>\n",
       "      <td>REACT:R-HSA-167161</td>\n",
       "      <td>part_of_XpoPW</td>\n",
       "    </tr>\n",
       "  </tbody>\n",
       "</table>\n",
       "</div>"
      ],
      "text/plain": [
       "  start_id              end_id           type\n",
       "0  CPX-930  REACT:R-HSA-167161  part_of_XpoPW\n",
       "1  CPX-915  REACT:R-HSA-167161  part_of_XpoPW"
      ]
     },
     "execution_count": 145,
     "metadata": {},
     "output_type": "execute_result"
    }
   ],
   "source": [
    "cplx_pw_edges = cplx_to_pw.merge(react_cplx_map, how='inner', left_on='complex', right_on='xref')\n",
    "cplx_pw_edges = cplx_pw_edges.rename(columns={'complex_ac': 'start_id', 'pathway': 'end_id'})[['start_id', 'end_id']].copy()\n",
    "cplx_pw_edges['type'] = 'part_of_XpoPW'\n",
    "\n",
    "cplx_pw_edges.head(2)"
   ]
  },
  {
   "cell_type": "code",
   "execution_count": 146,
   "metadata": {},
   "outputs": [],
   "source": [
    "cplx_pw_edges['source'] = 'Reactome'\n",
    "cplx_pw_edges['evidence'] = 'curated'"
   ]
  },
  {
   "cell_type": "code",
   "execution_count": 147,
   "metadata": {},
   "outputs": [],
   "source": [
    "new_edges.append(cplx_pw_edges)"
   ]
  },
  {
   "cell_type": "markdown",
   "metadata": {},
   "source": [
    "# Reactome to disease edges...\n",
    "\n",
    "Reactome has links to diseases, but not easily downloadable.  The neo4j dump was downloaded to and cypher queries run to extract edges between diseases and reactome elements"
   ]
  },
  {
   "cell_type": "code",
   "execution_count": 148,
   "metadata": {},
   "outputs": [],
   "source": [
    "react_dis = pd.read_csv(ext_dir.joinpath('AllReactome-to-DOID.csv'))"
   ]
  },
  {
   "cell_type": "code",
   "execution_count": 149,
   "metadata": {},
   "outputs": [
    {
     "data": {
      "text/html": [
       "<div>\n",
       "<style scoped>\n",
       "    .dataframe tbody tr th:only-of-type {\n",
       "        vertical-align: middle;\n",
       "    }\n",
       "\n",
       "    .dataframe tbody tr th {\n",
       "        vertical-align: top;\n",
       "    }\n",
       "\n",
       "    .dataframe thead th {\n",
       "        text-align: right;\n",
       "    }\n",
       "</style>\n",
       "<table border=\"1\" class=\"dataframe\">\n",
       "  <thead>\n",
       "    <tr style=\"text-align: right;\">\n",
       "      <th></th>\n",
       "      <th>labels(n1)</th>\n",
       "      <th>n1.displayName</th>\n",
       "      <th>n1.schemaClass</th>\n",
       "      <th>n1.stId</th>\n",
       "      <th>type(e)</th>\n",
       "      <th>d.displayName</th>\n",
       "      <th>d.identifier</th>\n",
       "      <th>d.databaseName</th>\n",
       "    </tr>\n",
       "  </thead>\n",
       "  <tbody>\n",
       "    <tr>\n",
       "      <th>0</th>\n",
       "      <td>[DatabaseObject,PhysicalEntity,GenomeEncodedEn...</td>\n",
       "      <td>MUTYH-3 R231H [nucleoplasm]</td>\n",
       "      <td>EntityWithAccessionedSequence</td>\n",
       "      <td>R-HSA-9606297</td>\n",
       "      <td>disease</td>\n",
       "      <td>lung squamous cell carcinoma</td>\n",
       "      <td>3907</td>\n",
       "      <td>DOID</td>\n",
       "    </tr>\n",
       "    <tr>\n",
       "      <th>1</th>\n",
       "      <td>[DatabaseObject,PhysicalEntity,GenomeEncodedEn...</td>\n",
       "      <td>p16INK4A D84G [cytosol]</td>\n",
       "      <td>EntityWithAccessionedSequence</td>\n",
       "      <td>R-HSA-9632461</td>\n",
       "      <td>disease</td>\n",
       "      <td>lung squamous cell carcinoma</td>\n",
       "      <td>3907</td>\n",
       "      <td>DOID</td>\n",
       "    </tr>\n",
       "  </tbody>\n",
       "</table>\n",
       "</div>"
      ],
      "text/plain": [
       "                                          labels(n1)  \\\n",
       "0  [DatabaseObject,PhysicalEntity,GenomeEncodedEn...   \n",
       "1  [DatabaseObject,PhysicalEntity,GenomeEncodedEn...   \n",
       "\n",
       "                n1.displayName                 n1.schemaClass        n1.stId  \\\n",
       "0  MUTYH-3 R231H [nucleoplasm]  EntityWithAccessionedSequence  R-HSA-9606297   \n",
       "1      p16INK4A D84G [cytosol]  EntityWithAccessionedSequence  R-HSA-9632461   \n",
       "\n",
       "   type(e)                 d.displayName  d.identifier d.databaseName  \n",
       "0  disease  lung squamous cell carcinoma          3907           DOID  \n",
       "1  disease  lung squamous cell carcinoma          3907           DOID  "
      ]
     },
     "execution_count": 149,
     "metadata": {},
     "output_type": "execute_result"
    }
   ],
   "source": [
    "react_dis.head(2)"
   ]
  },
  {
   "cell_type": "code",
   "execution_count": 150,
   "metadata": {},
   "outputs": [],
   "source": [
    "react_dis.columns = [s.replace('n1.', 'item_').replace('d.', 'dis_') for s in react_dis.columns]\n",
    "react_dis.columns = regularize_colnames(react_dis.columns)"
   ]
  },
  {
   "cell_type": "code",
   "execution_count": 151,
   "metadata": {},
   "outputs": [
    {
     "data": {
      "text/html": [
       "<div>\n",
       "<style scoped>\n",
       "    .dataframe tbody tr th:only-of-type {\n",
       "        vertical-align: middle;\n",
       "    }\n",
       "\n",
       "    .dataframe tbody tr th {\n",
       "        vertical-align: top;\n",
       "    }\n",
       "\n",
       "    .dataframe thead th {\n",
       "        text-align: right;\n",
       "    }\n",
       "</style>\n",
       "<table border=\"1\" class=\"dataframe\">\n",
       "  <thead>\n",
       "    <tr style=\"text-align: right;\">\n",
       "      <th></th>\n",
       "      <th>labelsn1</th>\n",
       "      <th>item_display_name</th>\n",
       "      <th>item_schema_class</th>\n",
       "      <th>item_st_id</th>\n",
       "      <th>typee</th>\n",
       "      <th>dis_display_name</th>\n",
       "      <th>dis_identifier</th>\n",
       "      <th>dis_database_name</th>\n",
       "    </tr>\n",
       "  </thead>\n",
       "  <tbody>\n",
       "    <tr>\n",
       "      <th>0</th>\n",
       "      <td>[DatabaseObject,PhysicalEntity,GenomeEncodedEn...</td>\n",
       "      <td>MUTYH-3 R231H [nucleoplasm]</td>\n",
       "      <td>EntityWithAccessionedSequence</td>\n",
       "      <td>R-HSA-9606297</td>\n",
       "      <td>disease</td>\n",
       "      <td>lung squamous cell carcinoma</td>\n",
       "      <td>3907</td>\n",
       "      <td>DOID</td>\n",
       "    </tr>\n",
       "    <tr>\n",
       "      <th>1</th>\n",
       "      <td>[DatabaseObject,PhysicalEntity,GenomeEncodedEn...</td>\n",
       "      <td>p16INK4A D84G [cytosol]</td>\n",
       "      <td>EntityWithAccessionedSequence</td>\n",
       "      <td>R-HSA-9632461</td>\n",
       "      <td>disease</td>\n",
       "      <td>lung squamous cell carcinoma</td>\n",
       "      <td>3907</td>\n",
       "      <td>DOID</td>\n",
       "    </tr>\n",
       "  </tbody>\n",
       "</table>\n",
       "</div>"
      ],
      "text/plain": [
       "                                            labelsn1  \\\n",
       "0  [DatabaseObject,PhysicalEntity,GenomeEncodedEn...   \n",
       "1  [DatabaseObject,PhysicalEntity,GenomeEncodedEn...   \n",
       "\n",
       "             item_display_name              item_schema_class     item_st_id  \\\n",
       "0  MUTYH-3 R231H [nucleoplasm]  EntityWithAccessionedSequence  R-HSA-9606297   \n",
       "1      p16INK4A D84G [cytosol]  EntityWithAccessionedSequence  R-HSA-9632461   \n",
       "\n",
       "     typee              dis_display_name  dis_identifier dis_database_name  \n",
       "0  disease  lung squamous cell carcinoma            3907              DOID  \n",
       "1  disease  lung squamous cell carcinoma            3907              DOID  "
      ]
     },
     "execution_count": 151,
     "metadata": {},
     "output_type": "execute_result"
    }
   ],
   "source": [
    "react_dis.head(2)"
   ]
  },
  {
   "cell_type": "code",
   "execution_count": 152,
   "metadata": {},
   "outputs": [
    {
     "data": {
      "text/plain": [
       "EntityWithAccessionedSequence    3035\n",
       "Complex                          1023\n",
       "Reaction                          670\n",
       "Pathway                           552\n",
       "FailedReaction                    415\n",
       "InstanceEdit                      397\n",
       "ReferenceDatabase                 374\n",
       "DefinedSet                        346\n",
       "ChemicalDrug                      315\n",
       "CandidateSet                      144\n",
       "BlackBoxEvent                      73\n",
       "GenomeEncodedEntity                26\n",
       "SimpleEntity                       22\n",
       "ProteinDrug                         6\n",
       "OtherEntity                         5\n",
       "Polymer                             3\n",
       "Depolymerisation                    1\n",
       "Polymerisation                      1\n",
       "TopLevelPathway                     1\n",
       "Name: item_schema_class, dtype: int64"
      ]
     },
     "execution_count": 152,
     "metadata": {},
     "output_type": "execute_result"
    }
   ],
   "source": [
    "react_dis['item_schema_class'].value_counts()"
   ]
  },
  {
   "cell_type": "code",
   "execution_count": 153,
   "metadata": {},
   "outputs": [],
   "source": [
    "react_dis['reactome_id'] = 'REACT:' + react_dis['item_st_id']\n",
    "react_dis['doid'] = 'DOID:'+ react_dis['dis_identifier'].astype(str)"
   ]
  },
  {
   "cell_type": "code",
   "execution_count": 154,
   "metadata": {},
   "outputs": [],
   "source": [
    "#disease ontology parent_to_chold map\n",
    "do_nodes = ot.get_ontology_nodes(load_dir.joinpath('doid.obo'))\n",
    "do_child_map = ot.get_children_map(ot.get_ontology_edges(load_dir.joinpath('doid.obo'), 'DOID'))\n",
    "\n",
    "doid_to_name = do_nodes.set_index('id')['name'].to_dict()"
   ]
  },
  {
   "cell_type": "code",
   "execution_count": 155,
   "metadata": {},
   "outputs": [],
   "source": [
    "react_dis['do_name'] = react_dis['doid'].map(doid_to_name)"
   ]
  },
  {
   "cell_type": "code",
   "execution_count": 156,
   "metadata": {},
   "outputs": [],
   "source": [
    "dis_in_reactome = react_dis['doid'].unique()\n",
    "\n",
    "parents = []\n",
    "children = []\n",
    "\n",
    "for dis in dis_in_reactome:\n",
    "    for c in do_child_map[dis]:\n",
    "        parents.append(dis)\n",
    "        children.append(c)\n",
    "        \n",
    "do_children = pd.DataFrame({'p_dis':parents, 'c_dis':children})\n",
    "do_children['p_name'] = do_children['p_dis'].map(doid_to_name)\n",
    "do_children['c_name'] = do_children['c_dis'].map(doid_to_name)"
   ]
  },
  {
   "cell_type": "code",
   "execution_count": 157,
   "metadata": {},
   "outputs": [],
   "source": [
    "child_counts = do_children['p_name'].value_counts().rename('num_child').to_frame()\n",
    "child_counts['num_instances'] = react_dis['do_name'].value_counts()"
   ]
  },
  {
   "cell_type": "code",
   "execution_count": 158,
   "metadata": {},
   "outputs": [
    {
     "data": {
      "text/html": [
       "<div>\n",
       "<style scoped>\n",
       "    .dataframe tbody tr th:only-of-type {\n",
       "        vertical-align: middle;\n",
       "    }\n",
       "\n",
       "    .dataframe tbody tr th {\n",
       "        vertical-align: top;\n",
       "    }\n",
       "\n",
       "    .dataframe thead th {\n",
       "        text-align: right;\n",
       "    }\n",
       "</style>\n",
       "<table border=\"1\" class=\"dataframe\">\n",
       "  <thead>\n",
       "    <tr style=\"text-align: right;\">\n",
       "      <th></th>\n",
       "      <th>num_child</th>\n",
       "      <th>num_instances</th>\n",
       "    </tr>\n",
       "  </thead>\n",
       "  <tbody>\n",
       "    <tr>\n",
       "      <th>disease</th>\n",
       "      <td>9383</td>\n",
       "      <td>7</td>\n",
       "    </tr>\n",
       "    <tr>\n",
       "      <th>cancer</th>\n",
       "      <td>2047</td>\n",
       "      <td>1271</td>\n",
       "    </tr>\n",
       "    <tr>\n",
       "      <th>eye disease</th>\n",
       "      <td>732</td>\n",
       "      <td>6</td>\n",
       "    </tr>\n",
       "    <tr>\n",
       "      <th>carcinoma</th>\n",
       "      <td>598</td>\n",
       "      <td>11</td>\n",
       "    </tr>\n",
       "    <tr>\n",
       "      <th>brain disease</th>\n",
       "      <td>493</td>\n",
       "      <td>9</td>\n",
       "    </tr>\n",
       "    <tr>\n",
       "      <th>cardiovascular system disease</th>\n",
       "      <td>470</td>\n",
       "      <td>7</td>\n",
       "    </tr>\n",
       "    <tr>\n",
       "      <th>inherited metabolic disorder</th>\n",
       "      <td>426</td>\n",
       "      <td>57</td>\n",
       "    </tr>\n",
       "    <tr>\n",
       "      <th>urinary system disease</th>\n",
       "      <td>368</td>\n",
       "      <td>6</td>\n",
       "    </tr>\n",
       "    <tr>\n",
       "      <th>disease of mental health</th>\n",
       "      <td>358</td>\n",
       "      <td>6</td>\n",
       "    </tr>\n",
       "    <tr>\n",
       "      <th>syndrome</th>\n",
       "      <td>308</td>\n",
       "      <td>4</td>\n",
       "    </tr>\n",
       "    <tr>\n",
       "      <th>neuropathy</th>\n",
       "      <td>275</td>\n",
       "      <td>3</td>\n",
       "    </tr>\n",
       "    <tr>\n",
       "      <th>central nervous system cancer</th>\n",
       "      <td>260</td>\n",
       "      <td>5</td>\n",
       "    </tr>\n",
       "    <tr>\n",
       "      <th>neurodegenerative disease</th>\n",
       "      <td>251</td>\n",
       "      <td>16</td>\n",
       "    </tr>\n",
       "    <tr>\n",
       "      <th>retinal disease</th>\n",
       "      <td>241</td>\n",
       "      <td>5</td>\n",
       "    </tr>\n",
       "    <tr>\n",
       "      <th>heart disease</th>\n",
       "      <td>239</td>\n",
       "      <td>3</td>\n",
       "    </tr>\n",
       "    <tr>\n",
       "      <th>kidney disease</th>\n",
       "      <td>207</td>\n",
       "      <td>8</td>\n",
       "    </tr>\n",
       "    <tr>\n",
       "      <th>connective tissue cancer</th>\n",
       "      <td>182</td>\n",
       "      <td>5</td>\n",
       "    </tr>\n",
       "    <tr>\n",
       "      <th>lung disease</th>\n",
       "      <td>173</td>\n",
       "      <td>3</td>\n",
       "    </tr>\n",
       "    <tr>\n",
       "      <th>myopathy</th>\n",
       "      <td>170</td>\n",
       "      <td>6</td>\n",
       "    </tr>\n",
       "    <tr>\n",
       "      <th>hematologic cancer</th>\n",
       "      <td>163</td>\n",
       "      <td>9</td>\n",
       "    </tr>\n",
       "    <tr>\n",
       "      <th>bacterial infectious disease</th>\n",
       "      <td>160</td>\n",
       "      <td>54</td>\n",
       "    </tr>\n",
       "    <tr>\n",
       "      <th>epilepsy</th>\n",
       "      <td>119</td>\n",
       "      <td>7</td>\n",
       "    </tr>\n",
       "    <tr>\n",
       "      <th>viral infectious disease</th>\n",
       "      <td>107</td>\n",
       "      <td>55</td>\n",
       "    </tr>\n",
       "    <tr>\n",
       "      <th>sarcoma</th>\n",
       "      <td>98</td>\n",
       "      <td>3</td>\n",
       "    </tr>\n",
       "    <tr>\n",
       "      <th>primary immunodeficiency disease</th>\n",
       "      <td>93</td>\n",
       "      <td>51</td>\n",
       "    </tr>\n",
       "    <tr>\n",
       "      <th>ovarian cancer</th>\n",
       "      <td>88</td>\n",
       "      <td>60</td>\n",
       "    </tr>\n",
       "    <tr>\n",
       "      <th>amino acid metabolic disorder</th>\n",
       "      <td>85</td>\n",
       "      <td>32</td>\n",
       "    </tr>\n",
       "    <tr>\n",
       "      <th>osteochondrodysplasia</th>\n",
       "      <td>84</td>\n",
       "      <td>19</td>\n",
       "    </tr>\n",
       "    <tr>\n",
       "      <th>breast cancer</th>\n",
       "      <td>79</td>\n",
       "      <td>79</td>\n",
       "    </tr>\n",
       "    <tr>\n",
       "      <th>autoimmune hypersensitivity disease</th>\n",
       "      <td>77</td>\n",
       "      <td>6</td>\n",
       "    </tr>\n",
       "    <tr>\n",
       "      <th>bladder disease</th>\n",
       "      <td>77</td>\n",
       "      <td>5</td>\n",
       "    </tr>\n",
       "    <tr>\n",
       "      <th>lysosomal storage disease</th>\n",
       "      <td>74</td>\n",
       "      <td>10</td>\n",
       "    </tr>\n",
       "    <tr>\n",
       "      <th>retinitis pigmentosa</th>\n",
       "      <td>73</td>\n",
       "      <td>8</td>\n",
       "    </tr>\n",
       "    <tr>\n",
       "      <th>motor neuron disease</th>\n",
       "      <td>67</td>\n",
       "      <td>4</td>\n",
       "    </tr>\n",
       "    <tr>\n",
       "      <th>large intestine cancer</th>\n",
       "      <td>66</td>\n",
       "      <td>79</td>\n",
       "    </tr>\n",
       "    <tr>\n",
       "      <th>hereditary spastic paraplegia</th>\n",
       "      <td>66</td>\n",
       "      <td>25</td>\n",
       "    </tr>\n",
       "    <tr>\n",
       "      <th>anemia</th>\n",
       "      <td>64</td>\n",
       "      <td>10</td>\n",
       "    </tr>\n",
       "    <tr>\n",
       "      <th>carbohydrate metabolic disorder</th>\n",
       "      <td>60</td>\n",
       "      <td>30</td>\n",
       "    </tr>\n",
       "    <tr>\n",
       "      <th>cataract</th>\n",
       "      <td>56</td>\n",
       "      <td>7</td>\n",
       "    </tr>\n",
       "    <tr>\n",
       "      <th>lung cancer</th>\n",
       "      <td>52</td>\n",
       "      <td>82</td>\n",
       "    </tr>\n",
       "    <tr>\n",
       "      <th>skin benign neoplasm</th>\n",
       "      <td>50</td>\n",
       "      <td>7</td>\n",
       "    </tr>\n",
       "    <tr>\n",
       "      <th>testicular cancer</th>\n",
       "      <td>46</td>\n",
       "      <td>16</td>\n",
       "    </tr>\n",
       "    <tr>\n",
       "      <th>kidney cancer</th>\n",
       "      <td>46</td>\n",
       "      <td>13</td>\n",
       "    </tr>\n",
       "    <tr>\n",
       "      <th>cervical cancer</th>\n",
       "      <td>41</td>\n",
       "      <td>18</td>\n",
       "    </tr>\n",
       "    <tr>\n",
       "      <th>lipid metabolism disorder</th>\n",
       "      <td>40</td>\n",
       "      <td>21</td>\n",
       "    </tr>\n",
       "    <tr>\n",
       "      <th>cerebrovascular disease</th>\n",
       "      <td>40</td>\n",
       "      <td>7</td>\n",
       "    </tr>\n",
       "    <tr>\n",
       "      <th>dilated cardiomyopathy</th>\n",
       "      <td>40</td>\n",
       "      <td>8</td>\n",
       "    </tr>\n",
       "    <tr>\n",
       "      <th>colorectal cancer</th>\n",
       "      <td>38</td>\n",
       "      <td>101</td>\n",
       "    </tr>\n",
       "    <tr>\n",
       "      <th>pancreatic cancer</th>\n",
       "      <td>37</td>\n",
       "      <td>21</td>\n",
       "    </tr>\n",
       "    <tr>\n",
       "      <th>heart conduction disease</th>\n",
       "      <td>35</td>\n",
       "      <td>3</td>\n",
       "    </tr>\n",
       "  </tbody>\n",
       "</table>\n",
       "</div>"
      ],
      "text/plain": [
       "                                     num_child  num_instances\n",
       "disease                                   9383              7\n",
       "cancer                                    2047           1271\n",
       "eye disease                                732              6\n",
       "carcinoma                                  598             11\n",
       "brain disease                              493              9\n",
       "cardiovascular system disease              470              7\n",
       "inherited metabolic disorder               426             57\n",
       "urinary system disease                     368              6\n",
       "disease of mental health                   358              6\n",
       "syndrome                                   308              4\n",
       "neuropathy                                 275              3\n",
       "central nervous system cancer              260              5\n",
       "neurodegenerative disease                  251             16\n",
       "retinal disease                            241              5\n",
       "heart disease                              239              3\n",
       "kidney disease                             207              8\n",
       "connective tissue cancer                   182              5\n",
       "lung disease                               173              3\n",
       "myopathy                                   170              6\n",
       "hematologic cancer                         163              9\n",
       "bacterial infectious disease               160             54\n",
       "epilepsy                                   119              7\n",
       "viral infectious disease                   107             55\n",
       "sarcoma                                     98              3\n",
       "primary immunodeficiency disease            93             51\n",
       "ovarian cancer                              88             60\n",
       "amino acid metabolic disorder               85             32\n",
       "osteochondrodysplasia                       84             19\n",
       "breast cancer                               79             79\n",
       "autoimmune hypersensitivity disease         77              6\n",
       "bladder disease                             77              5\n",
       "lysosomal storage disease                   74             10\n",
       "retinitis pigmentosa                        73              8\n",
       "motor neuron disease                        67              4\n",
       "large intestine cancer                      66             79\n",
       "hereditary spastic paraplegia               66             25\n",
       "anemia                                      64             10\n",
       "carbohydrate metabolic disorder             60             30\n",
       "cataract                                    56              7\n",
       "lung cancer                                 52             82\n",
       "skin benign neoplasm                        50              7\n",
       "testicular cancer                           46             16\n",
       "kidney cancer                               46             13\n",
       "cervical cancer                             41             18\n",
       "lipid metabolism disorder                   40             21\n",
       "cerebrovascular disease                     40              7\n",
       "dilated cardiomyopathy                      40              8\n",
       "colorectal cancer                           38            101\n",
       "pancreatic cancer                           37             21\n",
       "heart conduction disease                    35              3"
      ]
     },
     "execution_count": 158,
     "metadata": {},
     "output_type": "execute_result"
    }
   ],
   "source": [
    "child_counts.head(50)"
   ]
  },
  {
   "cell_type": "code",
   "execution_count": 159,
   "metadata": {},
   "outputs": [],
   "source": [
    "bad_diseases = ['disease', 'syndrome']\n",
    "react_dis = react_dis.query('do_name not in @bad_diseases').copy()"
   ]
  },
  {
   "cell_type": "code",
   "execution_count": 160,
   "metadata": {},
   "outputs": [],
   "source": [
    "# Add the parent to the children\n",
    "do_child_map = {k: {k}|v for k, v in do_child_map.items()}\n",
    "react_dis['all_children'] = react_dis['doid'].map(do_child_map)"
   ]
  },
  {
   "cell_type": "code",
   "execution_count": 161,
   "metadata": {},
   "outputs": [],
   "source": [
    "react_dis['all_children'] = react_dis['all_children'].fillna(react_dis['doid']).apply(lambda s: '|'.join(list(s)) if type(s) == set else s)"
   ]
  },
  {
   "cell_type": "code",
   "execution_count": 162,
   "metadata": {},
   "outputs": [],
   "source": [
    "react_dis = expand_col_on_char(react_dis, 'all_children', '|')"
   ]
  },
  {
   "cell_type": "code",
   "execution_count": 163,
   "metadata": {},
   "outputs": [
    {
     "data": {
      "text/plain": [
       "2760968"
      ]
     },
     "execution_count": 163,
     "metadata": {},
     "output_type": "execute_result"
    }
   ],
   "source": [
    "len(react_dis)"
   ]
  },
  {
   "cell_type": "code",
   "execution_count": 164,
   "metadata": {},
   "outputs": [],
   "source": [
    "disease_info = expand_col_on_char(all_nodes, 'alt_disease_ids', '|').dropna(subset=['alt_disease_ids'])\n",
    "disease_info['alt_disease_ids'] = disease_info['alt_disease_ids'].str.replace('DO:DOID', 'DOID')\n",
    "\n",
    "dis_map = disease_info.set_index('alt_disease_ids')['id'].to_dict()"
   ]
  },
  {
   "cell_type": "code",
   "execution_count": 165,
   "metadata": {},
   "outputs": [],
   "source": [
    "react_dis['dis_id'] = react_dis['all_children'].map(dis_map)"
   ]
  },
  {
   "cell_type": "code",
   "execution_count": 166,
   "metadata": {},
   "outputs": [
    {
     "data": {
      "text/plain": [
       "labelsn1             2760968\n",
       "item_display_name    2760968\n",
       "item_schema_class    2760968\n",
       "item_st_id           2737741\n",
       "typee                2760968\n",
       "dis_display_name     2760968\n",
       "dis_identifier       2760968\n",
       "dis_database_name    2760968\n",
       "reactome_id          2737741\n",
       "doid                 2760968\n",
       "do_name              2759887\n",
       "all_children         2760968\n",
       "dis_id                562048\n",
       "dtype: int64"
      ]
     },
     "execution_count": 166,
     "metadata": {},
     "output_type": "execute_result"
    }
   ],
   "source": [
    "react_dis.count()"
   ]
  },
  {
   "cell_type": "markdown",
   "metadata": {},
   "source": [
    "## Disease to Phsical Entities..."
   ]
  },
  {
   "cell_type": "code",
   "execution_count": 167,
   "metadata": {},
   "outputs": [],
   "source": [
    "dis_to_item = react_dis.query('item_schema_class == \"EntityWithAccessionedSequence\"').copy()"
   ]
  },
  {
   "cell_type": "code",
   "execution_count": 168,
   "metadata": {},
   "outputs": [],
   "source": [
    "dis_to_item['item_id'] = dis_to_item['item_st_id'].map(pe_ncbi_map)\n",
    "dis_to_item['item_id'] = dis_to_item['item_id'].fillna(dis_to_item['item_st_id'].map(pe_chem_map))\n",
    "dis_to_item['item_id'] = dis_to_item['item_id'].fillna(dis_to_item['item_st_id'].map(pe_mir_map))"
   ]
  },
  {
   "cell_type": "code",
   "execution_count": 169,
   "metadata": {},
   "outputs": [
    {
     "data": {
      "text/plain": [
       "labelsn1             870324\n",
       "item_display_name    870324\n",
       "item_schema_class    870324\n",
       "item_st_id           870324\n",
       "typee                870324\n",
       "dis_display_name     870324\n",
       "dis_identifier       870324\n",
       "dis_database_name    870324\n",
       "reactome_id          870324\n",
       "doid                 870324\n",
       "do_name              869861\n",
       "all_children         870324\n",
       "dis_id               175805\n",
       "item_id              745955\n",
       "dtype: int64"
      ]
     },
     "execution_count": 169,
     "metadata": {},
     "output_type": "execute_result"
    }
   ],
   "source": [
    "dis_to_item.count()"
   ]
  },
  {
   "cell_type": "code",
   "execution_count": 170,
   "metadata": {},
   "outputs": [
    {
     "data": {
      "text/plain": [
       "Gene    745118\n",
       "Name: item_type, dtype: int64"
      ]
     },
     "execution_count": 170,
     "metadata": {},
     "output_type": "execute_result"
    }
   ],
   "source": [
    "id_to_type = pd.concat([all_nodes]+new_nodes, sort=False).set_index('id')['label'].to_dict()\n",
    "\n",
    "dis_to_item['item_type'] = dis_to_item['item_id'].map(id_to_type)\n",
    "dis_to_item['item_type'].value_counts()"
   ]
  },
  {
   "cell_type": "markdown",
   "metadata": {},
   "source": [
    "Appears to be some kind of curated Gene-to-Disesae Links"
   ]
  },
  {
   "cell_type": "code",
   "execution_count": 171,
   "metadata": {},
   "outputs": [
    {
     "data": {
      "text/html": [
       "<div>\n",
       "<style scoped>\n",
       "    .dataframe tbody tr th:only-of-type {\n",
       "        vertical-align: middle;\n",
       "    }\n",
       "\n",
       "    .dataframe tbody tr th {\n",
       "        vertical-align: top;\n",
       "    }\n",
       "\n",
       "    .dataframe thead th {\n",
       "        text-align: right;\n",
       "    }\n",
       "</style>\n",
       "<table border=\"1\" class=\"dataframe\">\n",
       "  <thead>\n",
       "    <tr style=\"text-align: right;\">\n",
       "      <th></th>\n",
       "      <th>labelsn1</th>\n",
       "      <th>item_display_name</th>\n",
       "      <th>item_schema_class</th>\n",
       "      <th>item_st_id</th>\n",
       "      <th>typee</th>\n",
       "      <th>dis_display_name</th>\n",
       "      <th>dis_identifier</th>\n",
       "      <th>dis_database_name</th>\n",
       "      <th>reactome_id</th>\n",
       "      <th>doid</th>\n",
       "      <th>do_name</th>\n",
       "      <th>all_children</th>\n",
       "      <th>dis_id</th>\n",
       "      <th>item_id</th>\n",
       "      <th>item_type</th>\n",
       "    </tr>\n",
       "  </thead>\n",
       "  <tbody>\n",
       "    <tr>\n",
       "      <th>826</th>\n",
       "      <td>[DatabaseObject,PhysicalEntity,GenomeEncodedEn...</td>\n",
       "      <td>PIK3R1 R574T [plasma membrane]</td>\n",
       "      <td>EntityWithAccessionedSequence</td>\n",
       "      <td>R-HSA-2399540</td>\n",
       "      <td>disease</td>\n",
       "      <td>breast cancer</td>\n",
       "      <td>1612</td>\n",
       "      <td>DOID</td>\n",
       "      <td>REACT:R-HSA-2399540</td>\n",
       "      <td>DOID:1612</td>\n",
       "      <td>breast cancer</td>\n",
       "      <td>DOID:5675</td>\n",
       "      <td>MESH:D000230</td>\n",
       "      <td>5295</td>\n",
       "      <td>Gene</td>\n",
       "    </tr>\n",
       "    <tr>\n",
       "      <th>829</th>\n",
       "      <td>[DatabaseObject,PhysicalEntity,GenomeEncodedEn...</td>\n",
       "      <td>PIK3R1 R574T [plasma membrane]</td>\n",
       "      <td>EntityWithAccessionedSequence</td>\n",
       "      <td>R-HSA-2399540</td>\n",
       "      <td>disease</td>\n",
       "      <td>breast cancer</td>\n",
       "      <td>1612</td>\n",
       "      <td>DOID</td>\n",
       "      <td>REACT:R-HSA-2399540</td>\n",
       "      <td>DOID:1612</td>\n",
       "      <td>breast cancer</td>\n",
       "      <td>DOID:5050</td>\n",
       "      <td>MESH:D002286</td>\n",
       "      <td>5295</td>\n",
       "      <td>Gene</td>\n",
       "    </tr>\n",
       "  </tbody>\n",
       "</table>\n",
       "</div>"
      ],
      "text/plain": [
       "                                              labelsn1  \\\n",
       "826  [DatabaseObject,PhysicalEntity,GenomeEncodedEn...   \n",
       "829  [DatabaseObject,PhysicalEntity,GenomeEncodedEn...   \n",
       "\n",
       "                  item_display_name              item_schema_class  \\\n",
       "826  PIK3R1 R574T [plasma membrane]  EntityWithAccessionedSequence   \n",
       "829  PIK3R1 R574T [plasma membrane]  EntityWithAccessionedSequence   \n",
       "\n",
       "        item_st_id    typee dis_display_name  dis_identifier  \\\n",
       "826  R-HSA-2399540  disease    breast cancer            1612   \n",
       "829  R-HSA-2399540  disease    breast cancer            1612   \n",
       "\n",
       "    dis_database_name          reactome_id       doid        do_name  \\\n",
       "826              DOID  REACT:R-HSA-2399540  DOID:1612  breast cancer   \n",
       "829              DOID  REACT:R-HSA-2399540  DOID:1612  breast cancer   \n",
       "\n",
       "    all_children        dis_id item_id item_type  \n",
       "826    DOID:5675  MESH:D000230    5295      Gene  \n",
       "829    DOID:5050  MESH:D002286    5295      Gene  "
      ]
     },
     "execution_count": 171,
     "metadata": {},
     "output_type": "execute_result"
    }
   ],
   "source": [
    "dis_to_item = dis_to_item.dropna(subset=['item_type', 'item_id', 'dis_id'])\n",
    "dis_to_item.head(2)"
   ]
  },
  {
   "cell_type": "code",
   "execution_count": 172,
   "metadata": {},
   "outputs": [],
   "source": [
    "dis_to_item_edges = dis_to_item[['item_id', 'dis_id']].copy()\n",
    "dis_to_item_edges = dis_to_item_edges.rename(columns={'item_id': 'start_id', 'dis_id': 'end_id'})\n",
    "dis_to_item_edges['type'] = 'associated_with_GawD'\n",
    "dis_to_item_edges['source'] = 'Reactome'\n",
    "dis_to_item_edges['evidence'] = 'curated'"
   ]
  },
  {
   "cell_type": "code",
   "execution_count": 173,
   "metadata": {},
   "outputs": [
    {
     "data": {
      "text/html": [
       "<div>\n",
       "<style scoped>\n",
       "    .dataframe tbody tr th:only-of-type {\n",
       "        vertical-align: middle;\n",
       "    }\n",
       "\n",
       "    .dataframe tbody tr th {\n",
       "        vertical-align: top;\n",
       "    }\n",
       "\n",
       "    .dataframe thead th {\n",
       "        text-align: right;\n",
       "    }\n",
       "</style>\n",
       "<table border=\"1\" class=\"dataframe\">\n",
       "  <thead>\n",
       "    <tr style=\"text-align: right;\">\n",
       "      <th></th>\n",
       "      <th>start_id</th>\n",
       "      <th>end_id</th>\n",
       "      <th>type</th>\n",
       "      <th>source</th>\n",
       "      <th>evidence</th>\n",
       "    </tr>\n",
       "  </thead>\n",
       "  <tbody>\n",
       "    <tr>\n",
       "      <th>826</th>\n",
       "      <td>5295</td>\n",
       "      <td>MESH:D000230</td>\n",
       "      <td>associated_with_GawD</td>\n",
       "      <td>Reactome</td>\n",
       "      <td>curated</td>\n",
       "    </tr>\n",
       "    <tr>\n",
       "      <th>829</th>\n",
       "      <td>5295</td>\n",
       "      <td>MESH:D002286</td>\n",
       "      <td>associated_with_GawD</td>\n",
       "      <td>Reactome</td>\n",
       "      <td>curated</td>\n",
       "    </tr>\n",
       "    <tr>\n",
       "      <th>830</th>\n",
       "      <td>5295</td>\n",
       "      <td>MESH:D058922</td>\n",
       "      <td>associated_with_GawD</td>\n",
       "      <td>Reactome</td>\n",
       "      <td>curated</td>\n",
       "    </tr>\n",
       "    <tr>\n",
       "      <th>833</th>\n",
       "      <td>5295</td>\n",
       "      <td>MESH:D018270</td>\n",
       "      <td>associated_with_GawD</td>\n",
       "      <td>Reactome</td>\n",
       "      <td>curated</td>\n",
       "    </tr>\n",
       "  </tbody>\n",
       "</table>\n",
       "</div>"
      ],
      "text/plain": [
       "    start_id        end_id                  type    source evidence\n",
       "826     5295  MESH:D000230  associated_with_GawD  Reactome  curated\n",
       "829     5295  MESH:D002286  associated_with_GawD  Reactome  curated\n",
       "830     5295  MESH:D058922  associated_with_GawD  Reactome  curated\n",
       "833     5295  MESH:D018270  associated_with_GawD  Reactome  curated"
      ]
     },
     "execution_count": 173,
     "metadata": {},
     "output_type": "execute_result"
    }
   ],
   "source": [
    "dis_to_item_edges.head(4)"
   ]
  },
  {
   "cell_type": "code",
   "execution_count": 174,
   "metadata": {},
   "outputs": [],
   "source": [
    "new_edges.append(dis_to_item_edges)"
   ]
  },
  {
   "cell_type": "markdown",
   "metadata": {},
   "source": [
    "### Pathway to Disease Links"
   ]
  },
  {
   "cell_type": "code",
   "execution_count": 175,
   "metadata": {},
   "outputs": [
    {
     "data": {
      "text/plain": [
       "labelsn1             215841\n",
       "item_display_name    215841\n",
       "item_schema_class    215841\n",
       "item_st_id           215841\n",
       "typee                215841\n",
       "dis_display_name     215841\n",
       "dis_identifier       215841\n",
       "dis_database_name    215841\n",
       "reactome_id          215841\n",
       "doid                 215841\n",
       "do_name              215742\n",
       "all_children         215841\n",
       "dis_id                45225\n",
       "dtype: int64"
      ]
     },
     "execution_count": 175,
     "metadata": {},
     "output_type": "execute_result"
    }
   ],
   "source": [
    "pw_dis = react_dis.query('item_schema_class == \"Pathway\"').copy()\n",
    "pw_dis.count()"
   ]
  },
  {
   "cell_type": "code",
   "execution_count": 176,
   "metadata": {},
   "outputs": [],
   "source": [
    "pw_dis['reactome_id'] = 'REACT:'+pw_dis['item_st_id']\n",
    "pw_dis = pw_dis.dropna(subset=['dis_id'])"
   ]
  },
  {
   "cell_type": "code",
   "execution_count": 177,
   "metadata": {},
   "outputs": [
    {
     "data": {
      "text/html": [
       "<div>\n",
       "<style scoped>\n",
       "    .dataframe tbody tr th:only-of-type {\n",
       "        vertical-align: middle;\n",
       "    }\n",
       "\n",
       "    .dataframe tbody tr th {\n",
       "        vertical-align: top;\n",
       "    }\n",
       "\n",
       "    .dataframe thead th {\n",
       "        text-align: right;\n",
       "    }\n",
       "</style>\n",
       "<table border=\"1\" class=\"dataframe\">\n",
       "  <thead>\n",
       "    <tr style=\"text-align: right;\">\n",
       "      <th></th>\n",
       "      <th>start_id</th>\n",
       "      <th>end_id</th>\n",
       "      <th>type</th>\n",
       "      <th>source</th>\n",
       "      <th>evidence</th>\n",
       "    </tr>\n",
       "  </thead>\n",
       "  <tbody>\n",
       "    <tr>\n",
       "      <th>5386</th>\n",
       "      <td>REACT:R-HSA-5339717</td>\n",
       "      <td>MESH:D000230</td>\n",
       "      <td>associated_with_PWawD</td>\n",
       "      <td>Reactome</td>\n",
       "      <td>curated</td>\n",
       "    </tr>\n",
       "    <tr>\n",
       "      <th>5389</th>\n",
       "      <td>REACT:R-HSA-5339717</td>\n",
       "      <td>MESH:D002286</td>\n",
       "      <td>associated_with_PWawD</td>\n",
       "      <td>Reactome</td>\n",
       "      <td>curated</td>\n",
       "    </tr>\n",
       "    <tr>\n",
       "      <th>5390</th>\n",
       "      <td>REACT:R-HSA-5339717</td>\n",
       "      <td>MESH:D058922</td>\n",
       "      <td>associated_with_PWawD</td>\n",
       "      <td>Reactome</td>\n",
       "      <td>curated</td>\n",
       "    </tr>\n",
       "    <tr>\n",
       "      <th>5393</th>\n",
       "      <td>REACT:R-HSA-5339717</td>\n",
       "      <td>MESH:D018270</td>\n",
       "      <td>associated_with_PWawD</td>\n",
       "      <td>Reactome</td>\n",
       "      <td>curated</td>\n",
       "    </tr>\n",
       "  </tbody>\n",
       "</table>\n",
       "</div>"
      ],
      "text/plain": [
       "                 start_id        end_id                   type    source  \\\n",
       "5386  REACT:R-HSA-5339717  MESH:D000230  associated_with_PWawD  Reactome   \n",
       "5389  REACT:R-HSA-5339717  MESH:D002286  associated_with_PWawD  Reactome   \n",
       "5390  REACT:R-HSA-5339717  MESH:D058922  associated_with_PWawD  Reactome   \n",
       "5393  REACT:R-HSA-5339717  MESH:D018270  associated_with_PWawD  Reactome   \n",
       "\n",
       "     evidence  \n",
       "5386  curated  \n",
       "5389  curated  \n",
       "5390  curated  \n",
       "5393  curated  "
      ]
     },
     "execution_count": 177,
     "metadata": {},
     "output_type": "execute_result"
    }
   ],
   "source": [
    "pw_dis_edges = pw_dis.query('reactome_id in @pw_ids').copy()\n",
    "pw_dis_edges = pw_dis_edges[['reactome_id', 'dis_id']].rename(columns={'reactome_id': 'start_id', 'dis_id': 'end_id'})\n",
    "pw_dis_edges['type'] = 'associated_with_PWawD'\n",
    "pw_dis_edges['source'] = 'Reactome'\n",
    "pw_dis_edges['evidence'] = 'curated'\n",
    "pw_dis_edges.head(4)"
   ]
  },
  {
   "cell_type": "code",
   "execution_count": 178,
   "metadata": {},
   "outputs": [
    {
     "data": {
      "text/plain": [
       "41670"
      ]
     },
     "execution_count": 178,
     "metadata": {},
     "output_type": "execute_result"
    }
   ],
   "source": [
    "len(pw_dis_edges)"
   ]
  },
  {
   "cell_type": "code",
   "execution_count": 179,
   "metadata": {},
   "outputs": [],
   "source": [
    "new_edges.append(pw_dis_edges)"
   ]
  },
  {
   "cell_type": "markdown",
   "metadata": {},
   "source": [
    "### Reaction to Disease Links"
   ]
  },
  {
   "cell_type": "code",
   "execution_count": 180,
   "metadata": {},
   "outputs": [
    {
     "data": {
      "text/plain": [
       "labelsn1             458526\n",
       "item_display_name    458526\n",
       "item_schema_class    458526\n",
       "item_st_id           458526\n",
       "typee                458526\n",
       "dis_display_name     458526\n",
       "dis_identifier       458526\n",
       "dis_database_name    458526\n",
       "reactome_id          458526\n",
       "doid                 458526\n",
       "do_name              458477\n",
       "all_children         458526\n",
       "dis_id                89146\n",
       "dtype: int64"
      ]
     },
     "execution_count": 180,
     "metadata": {},
     "output_type": "execute_result"
    }
   ],
   "source": [
    "rx_dis = react_dis.query('item_schema_class == \"Reaction\"').copy()\n",
    "rx_dis.count()"
   ]
  },
  {
   "cell_type": "code",
   "execution_count": 181,
   "metadata": {},
   "outputs": [],
   "source": [
    "rx_dis['reactome_id'] = 'REACT:'+rx_dis['item_st_id']\n",
    "rx_dis = rx_dis.dropna(subset=['dis_id'])"
   ]
  },
  {
   "cell_type": "code",
   "execution_count": 182,
   "metadata": {},
   "outputs": [
    {
     "data": {
      "text/html": [
       "<div>\n",
       "<style scoped>\n",
       "    .dataframe tbody tr th:only-of-type {\n",
       "        vertical-align: middle;\n",
       "    }\n",
       "\n",
       "    .dataframe tbody tr th {\n",
       "        vertical-align: top;\n",
       "    }\n",
       "\n",
       "    .dataframe thead th {\n",
       "        text-align: right;\n",
       "    }\n",
       "</style>\n",
       "<table border=\"1\" class=\"dataframe\">\n",
       "  <thead>\n",
       "    <tr style=\"text-align: right;\">\n",
       "      <th></th>\n",
       "      <th>start_id</th>\n",
       "      <th>end_id</th>\n",
       "      <th>type</th>\n",
       "      <th>source</th>\n",
       "      <th>evidence</th>\n",
       "    </tr>\n",
       "  </thead>\n",
       "  <tbody>\n",
       "    <tr>\n",
       "      <th>2426</th>\n",
       "      <td>REACT:R-HSA-2243937</td>\n",
       "      <td>MESH:D000230</td>\n",
       "      <td>associated_with_RXawD</td>\n",
       "      <td>Reactome</td>\n",
       "      <td>curated</td>\n",
       "    </tr>\n",
       "    <tr>\n",
       "      <th>2429</th>\n",
       "      <td>REACT:R-HSA-2243937</td>\n",
       "      <td>MESH:D002286</td>\n",
       "      <td>associated_with_RXawD</td>\n",
       "      <td>Reactome</td>\n",
       "      <td>curated</td>\n",
       "    </tr>\n",
       "    <tr>\n",
       "      <th>2430</th>\n",
       "      <td>REACT:R-HSA-2243937</td>\n",
       "      <td>MESH:D058922</td>\n",
       "      <td>associated_with_RXawD</td>\n",
       "      <td>Reactome</td>\n",
       "      <td>curated</td>\n",
       "    </tr>\n",
       "    <tr>\n",
       "      <th>2433</th>\n",
       "      <td>REACT:R-HSA-2243937</td>\n",
       "      <td>MESH:D018270</td>\n",
       "      <td>associated_with_RXawD</td>\n",
       "      <td>Reactome</td>\n",
       "      <td>curated</td>\n",
       "    </tr>\n",
       "  </tbody>\n",
       "</table>\n",
       "</div>"
      ],
      "text/plain": [
       "                 start_id        end_id                   type    source  \\\n",
       "2426  REACT:R-HSA-2243937  MESH:D000230  associated_with_RXawD  Reactome   \n",
       "2429  REACT:R-HSA-2243937  MESH:D002286  associated_with_RXawD  Reactome   \n",
       "2430  REACT:R-HSA-2243937  MESH:D058922  associated_with_RXawD  Reactome   \n",
       "2433  REACT:R-HSA-2243937  MESH:D018270  associated_with_RXawD  Reactome   \n",
       "\n",
       "     evidence  \n",
       "2426  curated  \n",
       "2429  curated  \n",
       "2430  curated  \n",
       "2433  curated  "
      ]
     },
     "execution_count": 182,
     "metadata": {},
     "output_type": "execute_result"
    }
   ],
   "source": [
    "rx_dis_edges = rx_dis.query('reactome_id in @rxn_ids').copy()\n",
    "rx_dis_edges = rx_dis_edges[['reactome_id', 'dis_id']].rename(columns={'reactome_id': 'start_id', 'dis_id': 'end_id'})\n",
    "rx_dis_edges['type'] = 'associated_with_RXawD'\n",
    "rx_dis_edges['source'] = 'Reactome'\n",
    "rx_dis_edges['evidence'] = 'curated'\n",
    "rx_dis_edges.head(4)"
   ]
  },
  {
   "cell_type": "code",
   "execution_count": 183,
   "metadata": {},
   "outputs": [
    {
     "data": {
      "text/plain": [
       "89138"
      ]
     },
     "execution_count": 183,
     "metadata": {},
     "output_type": "execute_result"
    }
   ],
   "source": [
    "len(rx_dis_edges)"
   ]
  },
  {
   "cell_type": "code",
   "execution_count": 184,
   "metadata": {},
   "outputs": [],
   "source": [
    "new_edges.append(rx_dis_edges)"
   ]
  },
  {
   "cell_type": "markdown",
   "metadata": {},
   "source": [
    "### Reaction to Disease Links"
   ]
  },
  {
   "cell_type": "code",
   "execution_count": 185,
   "metadata": {},
   "outputs": [
    {
     "data": {
      "text/plain": [
       "labelsn1             99318\n",
       "item_display_name    99318\n",
       "item_schema_class    99318\n",
       "item_st_id           99318\n",
       "typee                99318\n",
       "dis_display_name     99318\n",
       "dis_identifier       99318\n",
       "dis_database_name    99318\n",
       "reactome_id          99318\n",
       "doid                 99318\n",
       "do_name              99219\n",
       "all_children         99318\n",
       "dis_id               22059\n",
       "dtype: int64"
      ]
     },
     "execution_count": 185,
     "metadata": {},
     "output_type": "execute_result"
    }
   ],
   "source": [
    "frx_dis = react_dis.query('item_schema_class == \"FailedReaction\"').copy()\n",
    "frx_dis.count()"
   ]
  },
  {
   "cell_type": "code",
   "execution_count": 186,
   "metadata": {},
   "outputs": [],
   "source": [
    "frx_dis['reactome_id'] = 'REACT:'+frx_dis['item_st_id']\n",
    "frx_dis = frx_dis.dropna(subset=['dis_id'])"
   ]
  },
  {
   "cell_type": "code",
   "execution_count": 187,
   "metadata": {},
   "outputs": [
    {
     "data": {
      "text/html": [
       "<div>\n",
       "<style scoped>\n",
       "    .dataframe tbody tr th:only-of-type {\n",
       "        vertical-align: middle;\n",
       "    }\n",
       "\n",
       "    .dataframe tbody tr th {\n",
       "        vertical-align: top;\n",
       "    }\n",
       "\n",
       "    .dataframe thead th {\n",
       "        text-align: right;\n",
       "    }\n",
       "</style>\n",
       "<table border=\"1\" class=\"dataframe\">\n",
       "  <thead>\n",
       "    <tr style=\"text-align: right;\">\n",
       "      <th></th>\n",
       "      <th>start_id</th>\n",
       "      <th>end_id</th>\n",
       "      <th>type</th>\n",
       "      <th>source</th>\n",
       "      <th>evidence</th>\n",
       "    </tr>\n",
       "  </thead>\n",
       "  <tbody>\n",
       "    <tr>\n",
       "      <th>5306</th>\n",
       "      <td>REACT:R-HSA-5339711</td>\n",
       "      <td>MESH:D000230</td>\n",
       "      <td>disrupted_in_RXdiD</td>\n",
       "      <td>Reactome</td>\n",
       "      <td>curated</td>\n",
       "    </tr>\n",
       "    <tr>\n",
       "      <th>5309</th>\n",
       "      <td>REACT:R-HSA-5339711</td>\n",
       "      <td>MESH:D002286</td>\n",
       "      <td>disrupted_in_RXdiD</td>\n",
       "      <td>Reactome</td>\n",
       "      <td>curated</td>\n",
       "    </tr>\n",
       "    <tr>\n",
       "      <th>5310</th>\n",
       "      <td>REACT:R-HSA-5339711</td>\n",
       "      <td>MESH:D058922</td>\n",
       "      <td>disrupted_in_RXdiD</td>\n",
       "      <td>Reactome</td>\n",
       "      <td>curated</td>\n",
       "    </tr>\n",
       "    <tr>\n",
       "      <th>5313</th>\n",
       "      <td>REACT:R-HSA-5339711</td>\n",
       "      <td>MESH:D018270</td>\n",
       "      <td>disrupted_in_RXdiD</td>\n",
       "      <td>Reactome</td>\n",
       "      <td>curated</td>\n",
       "    </tr>\n",
       "  </tbody>\n",
       "</table>\n",
       "</div>"
      ],
      "text/plain": [
       "                 start_id        end_id                type    source evidence\n",
       "5306  REACT:R-HSA-5339711  MESH:D000230  disrupted_in_RXdiD  Reactome  curated\n",
       "5309  REACT:R-HSA-5339711  MESH:D002286  disrupted_in_RXdiD  Reactome  curated\n",
       "5310  REACT:R-HSA-5339711  MESH:D058922  disrupted_in_RXdiD  Reactome  curated\n",
       "5313  REACT:R-HSA-5339711  MESH:D018270  disrupted_in_RXdiD  Reactome  curated"
      ]
     },
     "execution_count": 187,
     "metadata": {},
     "output_type": "execute_result"
    }
   ],
   "source": [
    "frx_dis_edges = frx_dis.query('reactome_id in @rxn_ids').copy()\n",
    "frx_dis_edges = frx_dis_edges[['reactome_id', 'dis_id']].rename(columns={'reactome_id': 'start_id', 'dis_id': 'end_id'})\n",
    "frx_dis_edges['type'] = 'disrupted_in_RXdiD'\n",
    "frx_dis_edges['source'] = 'Reactome'\n",
    "frx_dis_edges['evidence'] = 'curated'\n",
    "frx_dis_edges.head(4)"
   ]
  },
  {
   "cell_type": "code",
   "execution_count": 188,
   "metadata": {},
   "outputs": [
    {
     "data": {
      "text/plain": [
       "20860"
      ]
     },
     "execution_count": 188,
     "metadata": {},
     "output_type": "execute_result"
    }
   ],
   "source": [
    "len(frx_dis_edges)"
   ]
  },
  {
   "cell_type": "code",
   "execution_count": 189,
   "metadata": {},
   "outputs": [],
   "source": [
    "new_edges.append(frx_dis_edges)"
   ]
  },
  {
   "cell_type": "markdown",
   "metadata": {},
   "source": [
    "# Putting it all together"
   ]
  },
  {
   "cell_type": "code",
   "execution_count": 190,
   "metadata": {},
   "outputs": [],
   "source": [
    "new_nodes_df = pd.concat(new_nodes, sort=False)\n",
    "new_edges_df = pd.concat(new_edges, sort=False)"
   ]
  },
  {
   "cell_type": "code",
   "execution_count": 191,
   "metadata": {},
   "outputs": [
    {
     "data": {
      "text/html": [
       "<div>\n",
       "<style scoped>\n",
       "    .dataframe tbody tr th:only-of-type {\n",
       "        vertical-align: middle;\n",
       "    }\n",
       "\n",
       "    .dataframe tbody tr th {\n",
       "        vertical-align: top;\n",
       "    }\n",
       "\n",
       "    .dataframe thead th {\n",
       "        text-align: right;\n",
       "    }\n",
       "</style>\n",
       "<table border=\"1\" class=\"dataframe\">\n",
       "  <thead>\n",
       "    <tr style=\"text-align: right;\">\n",
       "      <th></th>\n",
       "      <th>id</th>\n",
       "      <th>name</th>\n",
       "      <th>label</th>\n",
       "      <th>drug_bank_ids</th>\n",
       "      <th>mesh_ids</th>\n",
       "    </tr>\n",
       "  </thead>\n",
       "  <tbody>\n",
       "    <tr>\n",
       "      <th>28</th>\n",
       "      <td>REACT:R-HSA-8956321</td>\n",
       "      <td>Nucleotide salvage</td>\n",
       "      <td>Pathway</td>\n",
       "      <td>NaN</td>\n",
       "      <td>NaN</td>\n",
       "    </tr>\n",
       "    <tr>\n",
       "      <th>43</th>\n",
       "      <td>REACT:R-HSA-8957275</td>\n",
       "      <td>Post-translational protein phosphorylation</td>\n",
       "      <td>Pathway</td>\n",
       "      <td>NaN</td>\n",
       "      <td>NaN</td>\n",
       "    </tr>\n",
       "  </tbody>\n",
       "</table>\n",
       "</div>"
      ],
      "text/plain": [
       "                     id                                        name    label  \\\n",
       "28  REACT:R-HSA-8956321                          Nucleotide salvage  Pathway   \n",
       "43  REACT:R-HSA-8957275  Post-translational protein phosphorylation  Pathway   \n",
       "\n",
       "   drug_bank_ids mesh_ids  \n",
       "28           NaN      NaN  \n",
       "43           NaN      NaN  "
      ]
     },
     "execution_count": 191,
     "metadata": {},
     "output_type": "execute_result"
    }
   ],
   "source": [
    "new_nodes_df.head(2)"
   ]
  },
  {
   "cell_type": "code",
   "execution_count": 192,
   "metadata": {},
   "outputs": [
    {
     "data": {
      "text/html": [
       "<div>\n",
       "<style scoped>\n",
       "    .dataframe tbody tr th:only-of-type {\n",
       "        vertical-align: middle;\n",
       "    }\n",
       "\n",
       "    .dataframe tbody tr th {\n",
       "        vertical-align: top;\n",
       "    }\n",
       "\n",
       "    .dataframe thead th {\n",
       "        text-align: right;\n",
       "    }\n",
       "</style>\n",
       "<table border=\"1\" class=\"dataframe\">\n",
       "  <thead>\n",
       "    <tr style=\"text-align: right;\">\n",
       "      <th></th>\n",
       "      <th>start_id</th>\n",
       "      <th>end_id</th>\n",
       "      <th>evidence_code</th>\n",
       "      <th>type</th>\n",
       "      <th>source</th>\n",
       "      <th>evidence</th>\n",
       "      <th>qualifier</th>\n",
       "      <th>with_or_from</th>\n",
       "      <th>date</th>\n",
       "      <th>assigned_by</th>\n",
       "    </tr>\n",
       "  </thead>\n",
       "  <tbody>\n",
       "    <tr>\n",
       "      <th>0</th>\n",
       "      <td>1</td>\n",
       "      <td>REACT:R-HSA-109582</td>\n",
       "      <td>TAS</td>\n",
       "      <td>part_of_GpoPW</td>\n",
       "      <td>Reactome</td>\n",
       "      <td>curated</td>\n",
       "      <td>NaN</td>\n",
       "      <td>NaN</td>\n",
       "      <td>NaN</td>\n",
       "      <td>NaN</td>\n",
       "    </tr>\n",
       "    <tr>\n",
       "      <th>1</th>\n",
       "      <td>1</td>\n",
       "      <td>REACT:R-HSA-109582</td>\n",
       "      <td>TAS</td>\n",
       "      <td>part_of_GpoPW</td>\n",
       "      <td>Reactome</td>\n",
       "      <td>curated</td>\n",
       "      <td>NaN</td>\n",
       "      <td>NaN</td>\n",
       "      <td>NaN</td>\n",
       "      <td>NaN</td>\n",
       "    </tr>\n",
       "  </tbody>\n",
       "</table>\n",
       "</div>"
      ],
      "text/plain": [
       "  start_id              end_id evidence_code           type    source  \\\n",
       "0        1  REACT:R-HSA-109582           TAS  part_of_GpoPW  Reactome   \n",
       "1        1  REACT:R-HSA-109582           TAS  part_of_GpoPW  Reactome   \n",
       "\n",
       "  evidence qualifier with_or_from date assigned_by  \n",
       "0  curated       NaN          NaN  NaN         NaN  \n",
       "1  curated       NaN          NaN  NaN         NaN  "
      ]
     },
     "execution_count": 192,
     "metadata": {},
     "output_type": "execute_result"
    }
   ],
   "source": [
    "new_edges_df.head(2)"
   ]
  },
  {
   "cell_type": "code",
   "execution_count": 193,
   "metadata": {},
   "outputs": [
    {
     "data": {
      "text/plain": [
       "part_of_GpoPW            198300\n",
       "associated_with_GawD     151533\n",
       "part_of_GpoRX            141135\n",
       "associated_with_RXawD     89138\n",
       "part_of_RXpoCC            74905\n",
       "associated_with_PWawD     41670\n",
       "part_of_CpoPW             38864\n",
       "part_of_CpoRX             24287\n",
       "disrupted_in_RXdiD        20860\n",
       "involved_in_PWinBP        16869\n",
       "involved_in_RXinBP         2041\n",
       "enables_RXeMF              1661\n",
       "part_of_XpoPW              1191\n",
       "part_of_NpoPW               248\n",
       "part_of_NpoRX               146\n",
       "Name: type, dtype: int64"
      ]
     },
     "execution_count": 193,
     "metadata": {},
     "output_type": "execute_result"
    }
   ],
   "source": [
    "new_edges_df['type'].value_counts()"
   ]
  },
  {
   "cell_type": "code",
   "execution_count": 194,
   "metadata": {},
   "outputs": [
    {
     "name": "stdout",
     "output_type": "stream",
     "text": [
      "Total number of new edges: 802,848\n",
      "Number of unique new edges: 424,092\n"
     ]
    }
   ],
   "source": [
    "print('Total number of new edges: {:,}'.format(len(new_edges_df)))\n",
    "print('Number of unique new edges: {:,}'.format(len(new_edges_df.drop_duplicates(subset=['start_id', 'end_id', 'type']))))"
   ]
  },
  {
   "cell_type": "markdown",
   "metadata": {},
   "source": [
    "Why are so many edges duplicated? what kind are they?"
   ]
  },
  {
   "cell_type": "code",
   "execution_count": 195,
   "metadata": {},
   "outputs": [
    {
     "data": {
      "text/html": [
       "<div>\n",
       "<style scoped>\n",
       "    .dataframe tbody tr th:only-of-type {\n",
       "        vertical-align: middle;\n",
       "    }\n",
       "\n",
       "    .dataframe tbody tr th {\n",
       "        vertical-align: top;\n",
       "    }\n",
       "\n",
       "    .dataframe thead th {\n",
       "        text-align: right;\n",
       "    }\n",
       "</style>\n",
       "<table border=\"1\" class=\"dataframe\">\n",
       "  <thead>\n",
       "    <tr style=\"text-align: right;\">\n",
       "      <th></th>\n",
       "      <th>start_id</th>\n",
       "      <th>end_id</th>\n",
       "      <th>evidence_code</th>\n",
       "      <th>type</th>\n",
       "      <th>source</th>\n",
       "      <th>evidence</th>\n",
       "      <th>qualifier</th>\n",
       "      <th>with_or_from</th>\n",
       "      <th>date</th>\n",
       "      <th>assigned_by</th>\n",
       "    </tr>\n",
       "  </thead>\n",
       "  <tbody>\n",
       "    <tr>\n",
       "      <th>0</th>\n",
       "      <td>1</td>\n",
       "      <td>REACT:R-HSA-109582</td>\n",
       "      <td>TAS</td>\n",
       "      <td>part_of_GpoPW</td>\n",
       "      <td>Reactome</td>\n",
       "      <td>curated</td>\n",
       "      <td>NaN</td>\n",
       "      <td>NaN</td>\n",
       "      <td>NaN</td>\n",
       "      <td>NaN</td>\n",
       "    </tr>\n",
       "    <tr>\n",
       "      <th>1</th>\n",
       "      <td>1</td>\n",
       "      <td>REACT:R-HSA-109582</td>\n",
       "      <td>TAS</td>\n",
       "      <td>part_of_GpoPW</td>\n",
       "      <td>Reactome</td>\n",
       "      <td>curated</td>\n",
       "      <td>NaN</td>\n",
       "      <td>NaN</td>\n",
       "      <td>NaN</td>\n",
       "      <td>NaN</td>\n",
       "    </tr>\n",
       "    <tr>\n",
       "      <th>2</th>\n",
       "      <td>1</td>\n",
       "      <td>REACT:R-HSA-114608</td>\n",
       "      <td>TAS</td>\n",
       "      <td>part_of_GpoPW</td>\n",
       "      <td>Reactome</td>\n",
       "      <td>curated</td>\n",
       "      <td>NaN</td>\n",
       "      <td>NaN</td>\n",
       "      <td>NaN</td>\n",
       "      <td>NaN</td>\n",
       "    </tr>\n",
       "    <tr>\n",
       "      <th>3</th>\n",
       "      <td>1</td>\n",
       "      <td>REACT:R-HSA-114608</td>\n",
       "      <td>TAS</td>\n",
       "      <td>part_of_GpoPW</td>\n",
       "      <td>Reactome</td>\n",
       "      <td>curated</td>\n",
       "      <td>NaN</td>\n",
       "      <td>NaN</td>\n",
       "      <td>NaN</td>\n",
       "      <td>NaN</td>\n",
       "    </tr>\n",
       "    <tr>\n",
       "      <th>4</th>\n",
       "      <td>1</td>\n",
       "      <td>REACT:R-HSA-168249</td>\n",
       "      <td>TAS</td>\n",
       "      <td>part_of_GpoPW</td>\n",
       "      <td>Reactome</td>\n",
       "      <td>curated</td>\n",
       "      <td>NaN</td>\n",
       "      <td>NaN</td>\n",
       "      <td>NaN</td>\n",
       "      <td>NaN</td>\n",
       "    </tr>\n",
       "    <tr>\n",
       "      <th>5</th>\n",
       "      <td>1</td>\n",
       "      <td>REACT:R-HSA-168249</td>\n",
       "      <td>TAS</td>\n",
       "      <td>part_of_GpoPW</td>\n",
       "      <td>Reactome</td>\n",
       "      <td>curated</td>\n",
       "      <td>NaN</td>\n",
       "      <td>NaN</td>\n",
       "      <td>NaN</td>\n",
       "      <td>NaN</td>\n",
       "    </tr>\n",
       "    <tr>\n",
       "      <th>6</th>\n",
       "      <td>1</td>\n",
       "      <td>REACT:R-HSA-168249</td>\n",
       "      <td>TAS</td>\n",
       "      <td>part_of_GpoPW</td>\n",
       "      <td>Reactome</td>\n",
       "      <td>curated</td>\n",
       "      <td>NaN</td>\n",
       "      <td>NaN</td>\n",
       "      <td>NaN</td>\n",
       "      <td>NaN</td>\n",
       "    </tr>\n",
       "    <tr>\n",
       "      <th>7</th>\n",
       "      <td>1</td>\n",
       "      <td>REACT:R-HSA-168256</td>\n",
       "      <td>TAS</td>\n",
       "      <td>part_of_GpoPW</td>\n",
       "      <td>Reactome</td>\n",
       "      <td>curated</td>\n",
       "      <td>NaN</td>\n",
       "      <td>NaN</td>\n",
       "      <td>NaN</td>\n",
       "      <td>NaN</td>\n",
       "    </tr>\n",
       "    <tr>\n",
       "      <th>8</th>\n",
       "      <td>1</td>\n",
       "      <td>REACT:R-HSA-168256</td>\n",
       "      <td>TAS</td>\n",
       "      <td>part_of_GpoPW</td>\n",
       "      <td>Reactome</td>\n",
       "      <td>curated</td>\n",
       "      <td>NaN</td>\n",
       "      <td>NaN</td>\n",
       "      <td>NaN</td>\n",
       "      <td>NaN</td>\n",
       "    </tr>\n",
       "    <tr>\n",
       "      <th>9</th>\n",
       "      <td>1</td>\n",
       "      <td>REACT:R-HSA-168256</td>\n",
       "      <td>TAS</td>\n",
       "      <td>part_of_GpoPW</td>\n",
       "      <td>Reactome</td>\n",
       "      <td>curated</td>\n",
       "      <td>NaN</td>\n",
       "      <td>NaN</td>\n",
       "      <td>NaN</td>\n",
       "      <td>NaN</td>\n",
       "    </tr>\n",
       "  </tbody>\n",
       "</table>\n",
       "</div>"
      ],
      "text/plain": [
       "  start_id              end_id evidence_code           type    source  \\\n",
       "0        1  REACT:R-HSA-109582           TAS  part_of_GpoPW  Reactome   \n",
       "1        1  REACT:R-HSA-109582           TAS  part_of_GpoPW  Reactome   \n",
       "2        1  REACT:R-HSA-114608           TAS  part_of_GpoPW  Reactome   \n",
       "3        1  REACT:R-HSA-114608           TAS  part_of_GpoPW  Reactome   \n",
       "4        1  REACT:R-HSA-168249           TAS  part_of_GpoPW  Reactome   \n",
       "5        1  REACT:R-HSA-168249           TAS  part_of_GpoPW  Reactome   \n",
       "6        1  REACT:R-HSA-168249           TAS  part_of_GpoPW  Reactome   \n",
       "7        1  REACT:R-HSA-168256           TAS  part_of_GpoPW  Reactome   \n",
       "8        1  REACT:R-HSA-168256           TAS  part_of_GpoPW  Reactome   \n",
       "9        1  REACT:R-HSA-168256           TAS  part_of_GpoPW  Reactome   \n",
       "\n",
       "  evidence qualifier with_or_from date assigned_by  \n",
       "0  curated       NaN          NaN  NaN         NaN  \n",
       "1  curated       NaN          NaN  NaN         NaN  \n",
       "2  curated       NaN          NaN  NaN         NaN  \n",
       "3  curated       NaN          NaN  NaN         NaN  \n",
       "4  curated       NaN          NaN  NaN         NaN  \n",
       "5  curated       NaN          NaN  NaN         NaN  \n",
       "6  curated       NaN          NaN  NaN         NaN  \n",
       "7  curated       NaN          NaN  NaN         NaN  \n",
       "8  curated       NaN          NaN  NaN         NaN  \n",
       "9  curated       NaN          NaN  NaN         NaN  "
      ]
     },
     "execution_count": 195,
     "metadata": {},
     "output_type": "execute_result"
    }
   ],
   "source": [
    "ix = new_edges_df.duplicated(keep=False)\n",
    "new_edges_df[ix].sort_values(['start_id', 'end_id', 'type']).head(10)"
   ]
  },
  {
   "cell_type": "code",
   "execution_count": 196,
   "metadata": {},
   "outputs": [
    {
     "data": {
      "text/plain": [
       "associated_with_GawD     150080\n",
       "part_of_GpoPW            102808\n",
       "part_of_GpoRX             53412\n",
       "part_of_RXpoCC            51756\n",
       "associated_with_RXawD     24754\n",
       "part_of_CpoPW             16997\n",
       "involved_in_PWinBP        16699\n",
       "associated_with_PWawD     10292\n",
       "disrupted_in_RXdiD         4781\n",
       "part_of_CpoRX              3727\n",
       "involved_in_RXinBP         1890\n",
       "part_of_XpoPW               263\n",
       "enables_RXeMF               182\n",
       "part_of_NpoPW                12\n",
       "part_of_NpoRX                 4\n",
       "Name: type, dtype: int64"
      ]
     },
     "execution_count": 196,
     "metadata": {},
     "output_type": "execute_result"
    }
   ],
   "source": [
    "new_edges_df[ix]['type'].value_counts()"
   ]
  },
  {
   "cell_type": "code",
   "execution_count": 197,
   "metadata": {},
   "outputs": [
    {
     "data": {
      "text/html": [
       "<div>\n",
       "<style scoped>\n",
       "    .dataframe tbody tr th:only-of-type {\n",
       "        vertical-align: middle;\n",
       "    }\n",
       "\n",
       "    .dataframe tbody tr th {\n",
       "        vertical-align: top;\n",
       "    }\n",
       "\n",
       "    .dataframe thead th {\n",
       "        text-align: right;\n",
       "    }\n",
       "</style>\n",
       "<table border=\"1\" class=\"dataframe\">\n",
       "  <thead>\n",
       "    <tr style=\"text-align: right;\">\n",
       "      <th></th>\n",
       "      <th>start_id</th>\n",
       "      <th>end_id</th>\n",
       "      <th>evidence_code</th>\n",
       "      <th>type</th>\n",
       "      <th>source</th>\n",
       "      <th>evidence</th>\n",
       "      <th>qualifier</th>\n",
       "      <th>with_or_from</th>\n",
       "      <th>date</th>\n",
       "      <th>assigned_by</th>\n",
       "    </tr>\n",
       "  </thead>\n",
       "  <tbody>\n",
       "    <tr>\n",
       "      <th>0</th>\n",
       "      <td>1</td>\n",
       "      <td>REACT:R-HSA-109582</td>\n",
       "      <td>TAS</td>\n",
       "      <td>part_of_GpoPW</td>\n",
       "      <td>Reactome</td>\n",
       "      <td>curated</td>\n",
       "      <td>NaN</td>\n",
       "      <td>NaN</td>\n",
       "      <td>NaN</td>\n",
       "      <td>NaN</td>\n",
       "    </tr>\n",
       "    <tr>\n",
       "      <th>1</th>\n",
       "      <td>1</td>\n",
       "      <td>REACT:R-HSA-109582</td>\n",
       "      <td>TAS</td>\n",
       "      <td>part_of_GpoPW</td>\n",
       "      <td>Reactome</td>\n",
       "      <td>curated</td>\n",
       "      <td>NaN</td>\n",
       "      <td>NaN</td>\n",
       "      <td>NaN</td>\n",
       "      <td>NaN</td>\n",
       "    </tr>\n",
       "    <tr>\n",
       "      <th>2</th>\n",
       "      <td>1</td>\n",
       "      <td>REACT:R-HSA-114608</td>\n",
       "      <td>TAS</td>\n",
       "      <td>part_of_GpoPW</td>\n",
       "      <td>Reactome</td>\n",
       "      <td>curated</td>\n",
       "      <td>NaN</td>\n",
       "      <td>NaN</td>\n",
       "      <td>NaN</td>\n",
       "      <td>NaN</td>\n",
       "    </tr>\n",
       "    <tr>\n",
       "      <th>3</th>\n",
       "      <td>1</td>\n",
       "      <td>REACT:R-HSA-114608</td>\n",
       "      <td>TAS</td>\n",
       "      <td>part_of_GpoPW</td>\n",
       "      <td>Reactome</td>\n",
       "      <td>curated</td>\n",
       "      <td>NaN</td>\n",
       "      <td>NaN</td>\n",
       "      <td>NaN</td>\n",
       "      <td>NaN</td>\n",
       "    </tr>\n",
       "    <tr>\n",
       "      <th>4</th>\n",
       "      <td>1</td>\n",
       "      <td>REACT:R-HSA-168249</td>\n",
       "      <td>TAS</td>\n",
       "      <td>part_of_GpoPW</td>\n",
       "      <td>Reactome</td>\n",
       "      <td>curated</td>\n",
       "      <td>NaN</td>\n",
       "      <td>NaN</td>\n",
       "      <td>NaN</td>\n",
       "      <td>NaN</td>\n",
       "    </tr>\n",
       "    <tr>\n",
       "      <th>5</th>\n",
       "      <td>1</td>\n",
       "      <td>REACT:R-HSA-168249</td>\n",
       "      <td>TAS</td>\n",
       "      <td>part_of_GpoPW</td>\n",
       "      <td>Reactome</td>\n",
       "      <td>curated</td>\n",
       "      <td>NaN</td>\n",
       "      <td>NaN</td>\n",
       "      <td>NaN</td>\n",
       "      <td>NaN</td>\n",
       "    </tr>\n",
       "    <tr>\n",
       "      <th>478</th>\n",
       "      <td>CHEBI:10545</td>\n",
       "      <td>REACT:R-HSA-1430728</td>\n",
       "      <td>TAS</td>\n",
       "      <td>part_of_CpoPW</td>\n",
       "      <td>Reactome</td>\n",
       "      <td>curated</td>\n",
       "      <td>NaN</td>\n",
       "      <td>NaN</td>\n",
       "      <td>NaN</td>\n",
       "      <td>NaN</td>\n",
       "    </tr>\n",
       "    <tr>\n",
       "      <th>479</th>\n",
       "      <td>CHEBI:10545</td>\n",
       "      <td>REACT:R-HSA-1430728</td>\n",
       "      <td>TAS</td>\n",
       "      <td>part_of_CpoPW</td>\n",
       "      <td>Reactome</td>\n",
       "      <td>curated</td>\n",
       "      <td>NaN</td>\n",
       "      <td>NaN</td>\n",
       "      <td>NaN</td>\n",
       "      <td>NaN</td>\n",
       "    </tr>\n",
       "    <tr>\n",
       "      <th>483</th>\n",
       "      <td>CHEBI:10545</td>\n",
       "      <td>REACT:R-HSA-196854</td>\n",
       "      <td>TAS</td>\n",
       "      <td>part_of_CpoPW</td>\n",
       "      <td>Reactome</td>\n",
       "      <td>curated</td>\n",
       "      <td>NaN</td>\n",
       "      <td>NaN</td>\n",
       "      <td>NaN</td>\n",
       "      <td>NaN</td>\n",
       "    </tr>\n",
       "    <tr>\n",
       "      <th>484</th>\n",
       "      <td>CHEBI:10545</td>\n",
       "      <td>REACT:R-HSA-196854</td>\n",
       "      <td>TAS</td>\n",
       "      <td>part_of_CpoPW</td>\n",
       "      <td>Reactome</td>\n",
       "      <td>curated</td>\n",
       "      <td>NaN</td>\n",
       "      <td>NaN</td>\n",
       "      <td>NaN</td>\n",
       "      <td>NaN</td>\n",
       "    </tr>\n",
       "    <tr>\n",
       "      <th>493</th>\n",
       "      <td>CHEBI:10545</td>\n",
       "      <td>REACT:R-HSA-382551</td>\n",
       "      <td>TAS</td>\n",
       "      <td>part_of_CpoPW</td>\n",
       "      <td>Reactome</td>\n",
       "      <td>curated</td>\n",
       "      <td>NaN</td>\n",
       "      <td>NaN</td>\n",
       "      <td>NaN</td>\n",
       "      <td>NaN</td>\n",
       "    </tr>\n",
       "    <tr>\n",
       "      <th>494</th>\n",
       "      <td>CHEBI:10545</td>\n",
       "      <td>REACT:R-HSA-382551</td>\n",
       "      <td>TAS</td>\n",
       "      <td>part_of_CpoPW</td>\n",
       "      <td>Reactome</td>\n",
       "      <td>curated</td>\n",
       "      <td>NaN</td>\n",
       "      <td>NaN</td>\n",
       "      <td>NaN</td>\n",
       "      <td>NaN</td>\n",
       "    </tr>\n",
       "    <tr>\n",
       "      <th>139</th>\n",
       "      <td>URS0000283D0A_9606</td>\n",
       "      <td>REACT:R-HSA-203927</td>\n",
       "      <td>TAS</td>\n",
       "      <td>part_of_NpoPW</td>\n",
       "      <td>Reactome</td>\n",
       "      <td>curated</td>\n",
       "      <td>NaN</td>\n",
       "      <td>NaN</td>\n",
       "      <td>NaN</td>\n",
       "      <td>NaN</td>\n",
       "    </tr>\n",
       "    <tr>\n",
       "      <th>140</th>\n",
       "      <td>URS0000283D0A_9606</td>\n",
       "      <td>REACT:R-HSA-203927</td>\n",
       "      <td>TAS</td>\n",
       "      <td>part_of_NpoPW</td>\n",
       "      <td>Reactome</td>\n",
       "      <td>curated</td>\n",
       "      <td>NaN</td>\n",
       "      <td>NaN</td>\n",
       "      <td>NaN</td>\n",
       "      <td>NaN</td>\n",
       "    </tr>\n",
       "    <tr>\n",
       "      <th>141</th>\n",
       "      <td>URS0000283D0A_9606</td>\n",
       "      <td>REACT:R-HSA-211000</td>\n",
       "      <td>TAS</td>\n",
       "      <td>part_of_NpoPW</td>\n",
       "      <td>Reactome</td>\n",
       "      <td>curated</td>\n",
       "      <td>NaN</td>\n",
       "      <td>NaN</td>\n",
       "      <td>NaN</td>\n",
       "      <td>NaN</td>\n",
       "    </tr>\n",
       "    <tr>\n",
       "      <th>142</th>\n",
       "      <td>URS0000283D0A_9606</td>\n",
       "      <td>REACT:R-HSA-211000</td>\n",
       "      <td>TAS</td>\n",
       "      <td>part_of_NpoPW</td>\n",
       "      <td>Reactome</td>\n",
       "      <td>curated</td>\n",
       "      <td>NaN</td>\n",
       "      <td>NaN</td>\n",
       "      <td>NaN</td>\n",
       "      <td>NaN</td>\n",
       "    </tr>\n",
       "    <tr>\n",
       "      <th>143</th>\n",
       "      <td>URS0000283D0A_9606</td>\n",
       "      <td>REACT:R-HSA-74160</td>\n",
       "      <td>TAS</td>\n",
       "      <td>part_of_NpoPW</td>\n",
       "      <td>Reactome</td>\n",
       "      <td>curated</td>\n",
       "      <td>NaN</td>\n",
       "      <td>NaN</td>\n",
       "      <td>NaN</td>\n",
       "      <td>NaN</td>\n",
       "    </tr>\n",
       "    <tr>\n",
       "      <th>144</th>\n",
       "      <td>URS0000283D0A_9606</td>\n",
       "      <td>REACT:R-HSA-74160</td>\n",
       "      <td>TAS</td>\n",
       "      <td>part_of_NpoPW</td>\n",
       "      <td>Reactome</td>\n",
       "      <td>curated</td>\n",
       "      <td>NaN</td>\n",
       "      <td>NaN</td>\n",
       "      <td>NaN</td>\n",
       "      <td>NaN</td>\n",
       "    </tr>\n",
       "    <tr>\n",
       "      <th>0</th>\n",
       "      <td>1</td>\n",
       "      <td>REACT:R-HSA-481007</td>\n",
       "      <td>TAS</td>\n",
       "      <td>part_of_GpoRX</td>\n",
       "      <td>Reactome</td>\n",
       "      <td>curated</td>\n",
       "      <td>NaN</td>\n",
       "      <td>NaN</td>\n",
       "      <td>NaN</td>\n",
       "      <td>NaN</td>\n",
       "    </tr>\n",
       "    <tr>\n",
       "      <th>1</th>\n",
       "      <td>1</td>\n",
       "      <td>REACT:R-HSA-481007</td>\n",
       "      <td>TAS</td>\n",
       "      <td>part_of_GpoRX</td>\n",
       "      <td>Reactome</td>\n",
       "      <td>curated</td>\n",
       "      <td>NaN</td>\n",
       "      <td>NaN</td>\n",
       "      <td>NaN</td>\n",
       "      <td>NaN</td>\n",
       "    </tr>\n",
       "    <tr>\n",
       "      <th>2</th>\n",
       "      <td>1</td>\n",
       "      <td>REACT:R-HSA-6798748</td>\n",
       "      <td>TAS</td>\n",
       "      <td>part_of_GpoRX</td>\n",
       "      <td>Reactome</td>\n",
       "      <td>curated</td>\n",
       "      <td>NaN</td>\n",
       "      <td>NaN</td>\n",
       "      <td>NaN</td>\n",
       "      <td>NaN</td>\n",
       "    </tr>\n",
       "    <tr>\n",
       "      <th>3</th>\n",
       "      <td>1</td>\n",
       "      <td>REACT:R-HSA-6798748</td>\n",
       "      <td>TAS</td>\n",
       "      <td>part_of_GpoRX</td>\n",
       "      <td>Reactome</td>\n",
       "      <td>curated</td>\n",
       "      <td>NaN</td>\n",
       "      <td>NaN</td>\n",
       "      <td>NaN</td>\n",
       "      <td>NaN</td>\n",
       "    </tr>\n",
       "    <tr>\n",
       "      <th>4</th>\n",
       "      <td>1</td>\n",
       "      <td>REACT:R-HSA-6800434</td>\n",
       "      <td>TAS</td>\n",
       "      <td>part_of_GpoRX</td>\n",
       "      <td>Reactome</td>\n",
       "      <td>curated</td>\n",
       "      <td>NaN</td>\n",
       "      <td>NaN</td>\n",
       "      <td>NaN</td>\n",
       "      <td>NaN</td>\n",
       "    </tr>\n",
       "    <tr>\n",
       "      <th>5</th>\n",
       "      <td>1</td>\n",
       "      <td>REACT:R-HSA-6800434</td>\n",
       "      <td>TAS</td>\n",
       "      <td>part_of_GpoRX</td>\n",
       "      <td>Reactome</td>\n",
       "      <td>curated</td>\n",
       "      <td>NaN</td>\n",
       "      <td>NaN</td>\n",
       "      <td>NaN</td>\n",
       "      <td>NaN</td>\n",
       "    </tr>\n",
       "    <tr>\n",
       "      <th>18</th>\n",
       "      <td>CHEBI:10668</td>\n",
       "      <td>REACT:R-HSA-5696807</td>\n",
       "      <td>TAS</td>\n",
       "      <td>part_of_CpoRX</td>\n",
       "      <td>Reactome</td>\n",
       "      <td>curated</td>\n",
       "      <td>NaN</td>\n",
       "      <td>NaN</td>\n",
       "      <td>NaN</td>\n",
       "      <td>NaN</td>\n",
       "    </tr>\n",
       "    <tr>\n",
       "      <th>19</th>\n",
       "      <td>CHEBI:10668</td>\n",
       "      <td>REACT:R-HSA-5696807</td>\n",
       "      <td>TAS</td>\n",
       "      <td>part_of_CpoRX</td>\n",
       "      <td>Reactome</td>\n",
       "      <td>curated</td>\n",
       "      <td>NaN</td>\n",
       "      <td>NaN</td>\n",
       "      <td>NaN</td>\n",
       "      <td>NaN</td>\n",
       "    </tr>\n",
       "    <tr>\n",
       "      <th>20</th>\n",
       "      <td>CHEBI:10668</td>\n",
       "      <td>REACT:R-HSA-5696807</td>\n",
       "      <td>TAS</td>\n",
       "      <td>part_of_CpoRX</td>\n",
       "      <td>Reactome</td>\n",
       "      <td>curated</td>\n",
       "      <td>NaN</td>\n",
       "      <td>NaN</td>\n",
       "      <td>NaN</td>\n",
       "      <td>NaN</td>\n",
       "    </tr>\n",
       "    <tr>\n",
       "      <th>21</th>\n",
       "      <td>CHEBI:10668</td>\n",
       "      <td>REACT:R-HSA-5696807</td>\n",
       "      <td>TAS</td>\n",
       "      <td>part_of_CpoRX</td>\n",
       "      <td>Reactome</td>\n",
       "      <td>curated</td>\n",
       "      <td>NaN</td>\n",
       "      <td>NaN</td>\n",
       "      <td>NaN</td>\n",
       "      <td>NaN</td>\n",
       "    </tr>\n",
       "    <tr>\n",
       "      <th>22</th>\n",
       "      <td>CHEBI:10668</td>\n",
       "      <td>REACT:R-HSA-5696810</td>\n",
       "      <td>TAS</td>\n",
       "      <td>part_of_CpoRX</td>\n",
       "      <td>Reactome</td>\n",
       "      <td>curated</td>\n",
       "      <td>NaN</td>\n",
       "      <td>NaN</td>\n",
       "      <td>NaN</td>\n",
       "      <td>NaN</td>\n",
       "    </tr>\n",
       "    <tr>\n",
       "      <th>23</th>\n",
       "      <td>CHEBI:10668</td>\n",
       "      <td>REACT:R-HSA-5696810</td>\n",
       "      <td>TAS</td>\n",
       "      <td>part_of_CpoRX</td>\n",
       "      <td>Reactome</td>\n",
       "      <td>curated</td>\n",
       "      <td>NaN</td>\n",
       "      <td>NaN</td>\n",
       "      <td>NaN</td>\n",
       "      <td>NaN</td>\n",
       "    </tr>\n",
       "    <tr>\n",
       "      <th>...</th>\n",
       "      <td>...</td>\n",
       "      <td>...</td>\n",
       "      <td>...</td>\n",
       "      <td>...</td>\n",
       "      <td>...</td>\n",
       "      <td>...</td>\n",
       "      <td>...</td>\n",
       "      <td>...</td>\n",
       "      <td>...</td>\n",
       "      <td>...</td>\n",
       "    </tr>\n",
       "    <tr>\n",
       "      <th>869</th>\n",
       "      <td>CPX-116</td>\n",
       "      <td>REACT:R-HSA-4615885</td>\n",
       "      <td>NaN</td>\n",
       "      <td>part_of_XpoPW</td>\n",
       "      <td>Reactome</td>\n",
       "      <td>curated</td>\n",
       "      <td>NaN</td>\n",
       "      <td>NaN</td>\n",
       "      <td>NaN</td>\n",
       "      <td>NaN</td>\n",
       "    </tr>\n",
       "    <tr>\n",
       "      <th>870</th>\n",
       "      <td>CPX-116</td>\n",
       "      <td>REACT:R-HSA-4615885</td>\n",
       "      <td>NaN</td>\n",
       "      <td>part_of_XpoPW</td>\n",
       "      <td>Reactome</td>\n",
       "      <td>curated</td>\n",
       "      <td>NaN</td>\n",
       "      <td>NaN</td>\n",
       "      <td>NaN</td>\n",
       "      <td>NaN</td>\n",
       "    </tr>\n",
       "    <tr>\n",
       "      <th>914</th>\n",
       "      <td>CPX-122</td>\n",
       "      <td>REACT:R-HSA-5627123</td>\n",
       "      <td>NaN</td>\n",
       "      <td>part_of_XpoPW</td>\n",
       "      <td>Reactome</td>\n",
       "      <td>curated</td>\n",
       "      <td>NaN</td>\n",
       "      <td>NaN</td>\n",
       "      <td>NaN</td>\n",
       "      <td>NaN</td>\n",
       "    </tr>\n",
       "    <tr>\n",
       "      <th>915</th>\n",
       "      <td>CPX-122</td>\n",
       "      <td>REACT:R-HSA-5627123</td>\n",
       "      <td>NaN</td>\n",
       "      <td>part_of_XpoPW</td>\n",
       "      <td>Reactome</td>\n",
       "      <td>curated</td>\n",
       "      <td>NaN</td>\n",
       "      <td>NaN</td>\n",
       "      <td>NaN</td>\n",
       "      <td>NaN</td>\n",
       "    </tr>\n",
       "    <tr>\n",
       "      <th>899</th>\n",
       "      <td>CPX-148</td>\n",
       "      <td>REACT:R-HSA-5610783</td>\n",
       "      <td>NaN</td>\n",
       "      <td>part_of_XpoPW</td>\n",
       "      <td>Reactome</td>\n",
       "      <td>curated</td>\n",
       "      <td>NaN</td>\n",
       "      <td>NaN</td>\n",
       "      <td>NaN</td>\n",
       "      <td>NaN</td>\n",
       "    </tr>\n",
       "    <tr>\n",
       "      <th>902</th>\n",
       "      <td>CPX-148</td>\n",
       "      <td>REACT:R-HSA-5610783</td>\n",
       "      <td>NaN</td>\n",
       "      <td>part_of_XpoPW</td>\n",
       "      <td>Reactome</td>\n",
       "      <td>curated</td>\n",
       "      <td>NaN</td>\n",
       "      <td>NaN</td>\n",
       "      <td>NaN</td>\n",
       "      <td>NaN</td>\n",
       "    </tr>\n",
       "    <tr>\n",
       "      <th>2353981</th>\n",
       "      <td>10018</td>\n",
       "      <td>MESH:C000608854</td>\n",
       "      <td>NaN</td>\n",
       "      <td>associated_with_GawD</td>\n",
       "      <td>Reactome</td>\n",
       "      <td>curated</td>\n",
       "      <td>NaN</td>\n",
       "      <td>NaN</td>\n",
       "      <td>NaN</td>\n",
       "      <td>NaN</td>\n",
       "    </tr>\n",
       "    <tr>\n",
       "      <th>2462525</th>\n",
       "      <td>10018</td>\n",
       "      <td>MESH:C000608854</td>\n",
       "      <td>NaN</td>\n",
       "      <td>associated_with_GawD</td>\n",
       "      <td>Reactome</td>\n",
       "      <td>curated</td>\n",
       "      <td>NaN</td>\n",
       "      <td>NaN</td>\n",
       "      <td>NaN</td>\n",
       "      <td>NaN</td>\n",
       "    </tr>\n",
       "    <tr>\n",
       "      <th>2353483</th>\n",
       "      <td>10018</td>\n",
       "      <td>MESH:C535648</td>\n",
       "      <td>NaN</td>\n",
       "      <td>associated_with_GawD</td>\n",
       "      <td>Reactome</td>\n",
       "      <td>curated</td>\n",
       "      <td>NaN</td>\n",
       "      <td>NaN</td>\n",
       "      <td>NaN</td>\n",
       "      <td>NaN</td>\n",
       "    </tr>\n",
       "    <tr>\n",
       "      <th>2462027</th>\n",
       "      <td>10018</td>\n",
       "      <td>MESH:C535648</td>\n",
       "      <td>NaN</td>\n",
       "      <td>associated_with_GawD</td>\n",
       "      <td>Reactome</td>\n",
       "      <td>curated</td>\n",
       "      <td>NaN</td>\n",
       "      <td>NaN</td>\n",
       "      <td>NaN</td>\n",
       "      <td>NaN</td>\n",
       "    </tr>\n",
       "    <tr>\n",
       "      <th>2352563</th>\n",
       "      <td>10018</td>\n",
       "      <td>MESH:C535700</td>\n",
       "      <td>NaN</td>\n",
       "      <td>associated_with_GawD</td>\n",
       "      <td>Reactome</td>\n",
       "      <td>curated</td>\n",
       "      <td>NaN</td>\n",
       "      <td>NaN</td>\n",
       "      <td>NaN</td>\n",
       "      <td>NaN</td>\n",
       "    </tr>\n",
       "    <tr>\n",
       "      <th>2461107</th>\n",
       "      <td>10018</td>\n",
       "      <td>MESH:C535700</td>\n",
       "      <td>NaN</td>\n",
       "      <td>associated_with_GawD</td>\n",
       "      <td>Reactome</td>\n",
       "      <td>curated</td>\n",
       "      <td>NaN</td>\n",
       "      <td>NaN</td>\n",
       "      <td>NaN</td>\n",
       "      <td>NaN</td>\n",
       "    </tr>\n",
       "    <tr>\n",
       "      <th>1506106</th>\n",
       "      <td>REACT:R-HSA-1226099</td>\n",
       "      <td>MESH:C563020</td>\n",
       "      <td>NaN</td>\n",
       "      <td>associated_with_PWawD</td>\n",
       "      <td>Reactome</td>\n",
       "      <td>curated</td>\n",
       "      <td>NaN</td>\n",
       "      <td>NaN</td>\n",
       "      <td>NaN</td>\n",
       "      <td>NaN</td>\n",
       "    </tr>\n",
       "    <tr>\n",
       "      <th>1506254</th>\n",
       "      <td>REACT:R-HSA-1226099</td>\n",
       "      <td>MESH:C563020</td>\n",
       "      <td>NaN</td>\n",
       "      <td>associated_with_PWawD</td>\n",
       "      <td>Reactome</td>\n",
       "      <td>curated</td>\n",
       "      <td>NaN</td>\n",
       "      <td>NaN</td>\n",
       "      <td>NaN</td>\n",
       "      <td>NaN</td>\n",
       "    </tr>\n",
       "    <tr>\n",
       "      <th>1504404</th>\n",
       "      <td>REACT:R-HSA-1226099</td>\n",
       "      <td>MESH:D000230</td>\n",
       "      <td>NaN</td>\n",
       "      <td>associated_with_PWawD</td>\n",
       "      <td>Reactome</td>\n",
       "      <td>curated</td>\n",
       "      <td>NaN</td>\n",
       "      <td>NaN</td>\n",
       "      <td>NaN</td>\n",
       "      <td>NaN</td>\n",
       "    </tr>\n",
       "    <tr>\n",
       "      <th>1505103</th>\n",
       "      <td>REACT:R-HSA-1226099</td>\n",
       "      <td>MESH:D000230</td>\n",
       "      <td>NaN</td>\n",
       "      <td>associated_with_PWawD</td>\n",
       "      <td>Reactome</td>\n",
       "      <td>curated</td>\n",
       "      <td>NaN</td>\n",
       "      <td>NaN</td>\n",
       "      <td>NaN</td>\n",
       "      <td>NaN</td>\n",
       "    </tr>\n",
       "    <tr>\n",
       "      <th>1505284</th>\n",
       "      <td>REACT:R-HSA-1226099</td>\n",
       "      <td>MESH:D000230</td>\n",
       "      <td>NaN</td>\n",
       "      <td>associated_with_PWawD</td>\n",
       "      <td>Reactome</td>\n",
       "      <td>curated</td>\n",
       "      <td>NaN</td>\n",
       "      <td>NaN</td>\n",
       "      <td>NaN</td>\n",
       "      <td>NaN</td>\n",
       "    </tr>\n",
       "    <tr>\n",
       "      <th>1505620</th>\n",
       "      <td>REACT:R-HSA-1226099</td>\n",
       "      <td>MESH:D000230</td>\n",
       "      <td>NaN</td>\n",
       "      <td>associated_with_PWawD</td>\n",
       "      <td>Reactome</td>\n",
       "      <td>curated</td>\n",
       "      <td>NaN</td>\n",
       "      <td>NaN</td>\n",
       "      <td>NaN</td>\n",
       "      <td>NaN</td>\n",
       "    </tr>\n",
       "    <tr>\n",
       "      <th>865082</th>\n",
       "      <td>REACT:R-HSA-1169421</td>\n",
       "      <td>MESH:C563020</td>\n",
       "      <td>NaN</td>\n",
       "      <td>associated_with_RXawD</td>\n",
       "      <td>Reactome</td>\n",
       "      <td>curated</td>\n",
       "      <td>NaN</td>\n",
       "      <td>NaN</td>\n",
       "      <td>NaN</td>\n",
       "      <td>NaN</td>\n",
       "    </tr>\n",
       "    <tr>\n",
       "      <th>865230</th>\n",
       "      <td>REACT:R-HSA-1169421</td>\n",
       "      <td>MESH:C563020</td>\n",
       "      <td>NaN</td>\n",
       "      <td>associated_with_RXawD</td>\n",
       "      <td>Reactome</td>\n",
       "      <td>curated</td>\n",
       "      <td>NaN</td>\n",
       "      <td>NaN</td>\n",
       "      <td>NaN</td>\n",
       "      <td>NaN</td>\n",
       "    </tr>\n",
       "    <tr>\n",
       "      <th>863380</th>\n",
       "      <td>REACT:R-HSA-1169421</td>\n",
       "      <td>MESH:D000230</td>\n",
       "      <td>NaN</td>\n",
       "      <td>associated_with_RXawD</td>\n",
       "      <td>Reactome</td>\n",
       "      <td>curated</td>\n",
       "      <td>NaN</td>\n",
       "      <td>NaN</td>\n",
       "      <td>NaN</td>\n",
       "      <td>NaN</td>\n",
       "    </tr>\n",
       "    <tr>\n",
       "      <th>864079</th>\n",
       "      <td>REACT:R-HSA-1169421</td>\n",
       "      <td>MESH:D000230</td>\n",
       "      <td>NaN</td>\n",
       "      <td>associated_with_RXawD</td>\n",
       "      <td>Reactome</td>\n",
       "      <td>curated</td>\n",
       "      <td>NaN</td>\n",
       "      <td>NaN</td>\n",
       "      <td>NaN</td>\n",
       "      <td>NaN</td>\n",
       "    </tr>\n",
       "    <tr>\n",
       "      <th>864260</th>\n",
       "      <td>REACT:R-HSA-1169421</td>\n",
       "      <td>MESH:D000230</td>\n",
       "      <td>NaN</td>\n",
       "      <td>associated_with_RXawD</td>\n",
       "      <td>Reactome</td>\n",
       "      <td>curated</td>\n",
       "      <td>NaN</td>\n",
       "      <td>NaN</td>\n",
       "      <td>NaN</td>\n",
       "      <td>NaN</td>\n",
       "    </tr>\n",
       "    <tr>\n",
       "      <th>864596</th>\n",
       "      <td>REACT:R-HSA-1169421</td>\n",
       "      <td>MESH:D000230</td>\n",
       "      <td>NaN</td>\n",
       "      <td>associated_with_RXawD</td>\n",
       "      <td>Reactome</td>\n",
       "      <td>curated</td>\n",
       "      <td>NaN</td>\n",
       "      <td>NaN</td>\n",
       "      <td>NaN</td>\n",
       "      <td>NaN</td>\n",
       "    </tr>\n",
       "    <tr>\n",
       "      <th>754490</th>\n",
       "      <td>REACT:R-HSA-1225956</td>\n",
       "      <td>MESH:C563020</td>\n",
       "      <td>NaN</td>\n",
       "      <td>disrupted_in_RXdiD</td>\n",
       "      <td>Reactome</td>\n",
       "      <td>curated</td>\n",
       "      <td>NaN</td>\n",
       "      <td>NaN</td>\n",
       "      <td>NaN</td>\n",
       "      <td>NaN</td>\n",
       "    </tr>\n",
       "    <tr>\n",
       "      <th>754638</th>\n",
       "      <td>REACT:R-HSA-1225956</td>\n",
       "      <td>MESH:C563020</td>\n",
       "      <td>NaN</td>\n",
       "      <td>disrupted_in_RXdiD</td>\n",
       "      <td>Reactome</td>\n",
       "      <td>curated</td>\n",
       "      <td>NaN</td>\n",
       "      <td>NaN</td>\n",
       "      <td>NaN</td>\n",
       "      <td>NaN</td>\n",
       "    </tr>\n",
       "    <tr>\n",
       "      <th>752788</th>\n",
       "      <td>REACT:R-HSA-1225956</td>\n",
       "      <td>MESH:D000230</td>\n",
       "      <td>NaN</td>\n",
       "      <td>disrupted_in_RXdiD</td>\n",
       "      <td>Reactome</td>\n",
       "      <td>curated</td>\n",
       "      <td>NaN</td>\n",
       "      <td>NaN</td>\n",
       "      <td>NaN</td>\n",
       "      <td>NaN</td>\n",
       "    </tr>\n",
       "    <tr>\n",
       "      <th>753487</th>\n",
       "      <td>REACT:R-HSA-1225956</td>\n",
       "      <td>MESH:D000230</td>\n",
       "      <td>NaN</td>\n",
       "      <td>disrupted_in_RXdiD</td>\n",
       "      <td>Reactome</td>\n",
       "      <td>curated</td>\n",
       "      <td>NaN</td>\n",
       "      <td>NaN</td>\n",
       "      <td>NaN</td>\n",
       "      <td>NaN</td>\n",
       "    </tr>\n",
       "    <tr>\n",
       "      <th>753668</th>\n",
       "      <td>REACT:R-HSA-1225956</td>\n",
       "      <td>MESH:D000230</td>\n",
       "      <td>NaN</td>\n",
       "      <td>disrupted_in_RXdiD</td>\n",
       "      <td>Reactome</td>\n",
       "      <td>curated</td>\n",
       "      <td>NaN</td>\n",
       "      <td>NaN</td>\n",
       "      <td>NaN</td>\n",
       "      <td>NaN</td>\n",
       "    </tr>\n",
       "    <tr>\n",
       "      <th>754004</th>\n",
       "      <td>REACT:R-HSA-1225956</td>\n",
       "      <td>MESH:D000230</td>\n",
       "      <td>NaN</td>\n",
       "      <td>disrupted_in_RXdiD</td>\n",
       "      <td>Reactome</td>\n",
       "      <td>curated</td>\n",
       "      <td>NaN</td>\n",
       "      <td>NaN</td>\n",
       "      <td>NaN</td>\n",
       "      <td>NaN</td>\n",
       "    </tr>\n",
       "  </tbody>\n",
       "</table>\n",
       "<p>88 rows × 10 columns</p>\n",
       "</div>"
      ],
      "text/plain": [
       "                    start_id               end_id evidence_code  \\\n",
       "0                          1   REACT:R-HSA-109582           TAS   \n",
       "1                          1   REACT:R-HSA-109582           TAS   \n",
       "2                          1   REACT:R-HSA-114608           TAS   \n",
       "3                          1   REACT:R-HSA-114608           TAS   \n",
       "4                          1   REACT:R-HSA-168249           TAS   \n",
       "5                          1   REACT:R-HSA-168249           TAS   \n",
       "478              CHEBI:10545  REACT:R-HSA-1430728           TAS   \n",
       "479              CHEBI:10545  REACT:R-HSA-1430728           TAS   \n",
       "483              CHEBI:10545   REACT:R-HSA-196854           TAS   \n",
       "484              CHEBI:10545   REACT:R-HSA-196854           TAS   \n",
       "493              CHEBI:10545   REACT:R-HSA-382551           TAS   \n",
       "494              CHEBI:10545   REACT:R-HSA-382551           TAS   \n",
       "139       URS0000283D0A_9606   REACT:R-HSA-203927           TAS   \n",
       "140       URS0000283D0A_9606   REACT:R-HSA-203927           TAS   \n",
       "141       URS0000283D0A_9606   REACT:R-HSA-211000           TAS   \n",
       "142       URS0000283D0A_9606   REACT:R-HSA-211000           TAS   \n",
       "143       URS0000283D0A_9606    REACT:R-HSA-74160           TAS   \n",
       "144       URS0000283D0A_9606    REACT:R-HSA-74160           TAS   \n",
       "0                          1   REACT:R-HSA-481007           TAS   \n",
       "1                          1   REACT:R-HSA-481007           TAS   \n",
       "2                          1  REACT:R-HSA-6798748           TAS   \n",
       "3                          1  REACT:R-HSA-6798748           TAS   \n",
       "4                          1  REACT:R-HSA-6800434           TAS   \n",
       "5                          1  REACT:R-HSA-6800434           TAS   \n",
       "18               CHEBI:10668  REACT:R-HSA-5696807           TAS   \n",
       "19               CHEBI:10668  REACT:R-HSA-5696807           TAS   \n",
       "20               CHEBI:10668  REACT:R-HSA-5696807           TAS   \n",
       "21               CHEBI:10668  REACT:R-HSA-5696807           TAS   \n",
       "22               CHEBI:10668  REACT:R-HSA-5696810           TAS   \n",
       "23               CHEBI:10668  REACT:R-HSA-5696810           TAS   \n",
       "...                      ...                  ...           ...   \n",
       "869                  CPX-116  REACT:R-HSA-4615885           NaN   \n",
       "870                  CPX-116  REACT:R-HSA-4615885           NaN   \n",
       "914                  CPX-122  REACT:R-HSA-5627123           NaN   \n",
       "915                  CPX-122  REACT:R-HSA-5627123           NaN   \n",
       "899                  CPX-148  REACT:R-HSA-5610783           NaN   \n",
       "902                  CPX-148  REACT:R-HSA-5610783           NaN   \n",
       "2353981                10018      MESH:C000608854           NaN   \n",
       "2462525                10018      MESH:C000608854           NaN   \n",
       "2353483                10018         MESH:C535648           NaN   \n",
       "2462027                10018         MESH:C535648           NaN   \n",
       "2352563                10018         MESH:C535700           NaN   \n",
       "2461107                10018         MESH:C535700           NaN   \n",
       "1506106  REACT:R-HSA-1226099         MESH:C563020           NaN   \n",
       "1506254  REACT:R-HSA-1226099         MESH:C563020           NaN   \n",
       "1504404  REACT:R-HSA-1226099         MESH:D000230           NaN   \n",
       "1505103  REACT:R-HSA-1226099         MESH:D000230           NaN   \n",
       "1505284  REACT:R-HSA-1226099         MESH:D000230           NaN   \n",
       "1505620  REACT:R-HSA-1226099         MESH:D000230           NaN   \n",
       "865082   REACT:R-HSA-1169421         MESH:C563020           NaN   \n",
       "865230   REACT:R-HSA-1169421         MESH:C563020           NaN   \n",
       "863380   REACT:R-HSA-1169421         MESH:D000230           NaN   \n",
       "864079   REACT:R-HSA-1169421         MESH:D000230           NaN   \n",
       "864260   REACT:R-HSA-1169421         MESH:D000230           NaN   \n",
       "864596   REACT:R-HSA-1169421         MESH:D000230           NaN   \n",
       "754490   REACT:R-HSA-1225956         MESH:C563020           NaN   \n",
       "754638   REACT:R-HSA-1225956         MESH:C563020           NaN   \n",
       "752788   REACT:R-HSA-1225956         MESH:D000230           NaN   \n",
       "753487   REACT:R-HSA-1225956         MESH:D000230           NaN   \n",
       "753668   REACT:R-HSA-1225956         MESH:D000230           NaN   \n",
       "754004   REACT:R-HSA-1225956         MESH:D000230           NaN   \n",
       "\n",
       "                          type    source evidence qualifier with_or_from date  \\\n",
       "0                part_of_GpoPW  Reactome  curated       NaN          NaN  NaN   \n",
       "1                part_of_GpoPW  Reactome  curated       NaN          NaN  NaN   \n",
       "2                part_of_GpoPW  Reactome  curated       NaN          NaN  NaN   \n",
       "3                part_of_GpoPW  Reactome  curated       NaN          NaN  NaN   \n",
       "4                part_of_GpoPW  Reactome  curated       NaN          NaN  NaN   \n",
       "5                part_of_GpoPW  Reactome  curated       NaN          NaN  NaN   \n",
       "478              part_of_CpoPW  Reactome  curated       NaN          NaN  NaN   \n",
       "479              part_of_CpoPW  Reactome  curated       NaN          NaN  NaN   \n",
       "483              part_of_CpoPW  Reactome  curated       NaN          NaN  NaN   \n",
       "484              part_of_CpoPW  Reactome  curated       NaN          NaN  NaN   \n",
       "493              part_of_CpoPW  Reactome  curated       NaN          NaN  NaN   \n",
       "494              part_of_CpoPW  Reactome  curated       NaN          NaN  NaN   \n",
       "139              part_of_NpoPW  Reactome  curated       NaN          NaN  NaN   \n",
       "140              part_of_NpoPW  Reactome  curated       NaN          NaN  NaN   \n",
       "141              part_of_NpoPW  Reactome  curated       NaN          NaN  NaN   \n",
       "142              part_of_NpoPW  Reactome  curated       NaN          NaN  NaN   \n",
       "143              part_of_NpoPW  Reactome  curated       NaN          NaN  NaN   \n",
       "144              part_of_NpoPW  Reactome  curated       NaN          NaN  NaN   \n",
       "0                part_of_GpoRX  Reactome  curated       NaN          NaN  NaN   \n",
       "1                part_of_GpoRX  Reactome  curated       NaN          NaN  NaN   \n",
       "2                part_of_GpoRX  Reactome  curated       NaN          NaN  NaN   \n",
       "3                part_of_GpoRX  Reactome  curated       NaN          NaN  NaN   \n",
       "4                part_of_GpoRX  Reactome  curated       NaN          NaN  NaN   \n",
       "5                part_of_GpoRX  Reactome  curated       NaN          NaN  NaN   \n",
       "18               part_of_CpoRX  Reactome  curated       NaN          NaN  NaN   \n",
       "19               part_of_CpoRX  Reactome  curated       NaN          NaN  NaN   \n",
       "20               part_of_CpoRX  Reactome  curated       NaN          NaN  NaN   \n",
       "21               part_of_CpoRX  Reactome  curated       NaN          NaN  NaN   \n",
       "22               part_of_CpoRX  Reactome  curated       NaN          NaN  NaN   \n",
       "23               part_of_CpoRX  Reactome  curated       NaN          NaN  NaN   \n",
       "...                        ...       ...      ...       ...          ...  ...   \n",
       "869              part_of_XpoPW  Reactome  curated       NaN          NaN  NaN   \n",
       "870              part_of_XpoPW  Reactome  curated       NaN          NaN  NaN   \n",
       "914              part_of_XpoPW  Reactome  curated       NaN          NaN  NaN   \n",
       "915              part_of_XpoPW  Reactome  curated       NaN          NaN  NaN   \n",
       "899              part_of_XpoPW  Reactome  curated       NaN          NaN  NaN   \n",
       "902              part_of_XpoPW  Reactome  curated       NaN          NaN  NaN   \n",
       "2353981   associated_with_GawD  Reactome  curated       NaN          NaN  NaN   \n",
       "2462525   associated_with_GawD  Reactome  curated       NaN          NaN  NaN   \n",
       "2353483   associated_with_GawD  Reactome  curated       NaN          NaN  NaN   \n",
       "2462027   associated_with_GawD  Reactome  curated       NaN          NaN  NaN   \n",
       "2352563   associated_with_GawD  Reactome  curated       NaN          NaN  NaN   \n",
       "2461107   associated_with_GawD  Reactome  curated       NaN          NaN  NaN   \n",
       "1506106  associated_with_PWawD  Reactome  curated       NaN          NaN  NaN   \n",
       "1506254  associated_with_PWawD  Reactome  curated       NaN          NaN  NaN   \n",
       "1504404  associated_with_PWawD  Reactome  curated       NaN          NaN  NaN   \n",
       "1505103  associated_with_PWawD  Reactome  curated       NaN          NaN  NaN   \n",
       "1505284  associated_with_PWawD  Reactome  curated       NaN          NaN  NaN   \n",
       "1505620  associated_with_PWawD  Reactome  curated       NaN          NaN  NaN   \n",
       "865082   associated_with_RXawD  Reactome  curated       NaN          NaN  NaN   \n",
       "865230   associated_with_RXawD  Reactome  curated       NaN          NaN  NaN   \n",
       "863380   associated_with_RXawD  Reactome  curated       NaN          NaN  NaN   \n",
       "864079   associated_with_RXawD  Reactome  curated       NaN          NaN  NaN   \n",
       "864260   associated_with_RXawD  Reactome  curated       NaN          NaN  NaN   \n",
       "864596   associated_with_RXawD  Reactome  curated       NaN          NaN  NaN   \n",
       "754490      disrupted_in_RXdiD  Reactome  curated       NaN          NaN  NaN   \n",
       "754638      disrupted_in_RXdiD  Reactome  curated       NaN          NaN  NaN   \n",
       "752788      disrupted_in_RXdiD  Reactome  curated       NaN          NaN  NaN   \n",
       "753487      disrupted_in_RXdiD  Reactome  curated       NaN          NaN  NaN   \n",
       "753668      disrupted_in_RXdiD  Reactome  curated       NaN          NaN  NaN   \n",
       "754004      disrupted_in_RXdiD  Reactome  curated       NaN          NaN  NaN   \n",
       "\n",
       "        assigned_by  \n",
       "0               NaN  \n",
       "1               NaN  \n",
       "2               NaN  \n",
       "3               NaN  \n",
       "4               NaN  \n",
       "5               NaN  \n",
       "478             NaN  \n",
       "479             NaN  \n",
       "483             NaN  \n",
       "484             NaN  \n",
       "493             NaN  \n",
       "494             NaN  \n",
       "139             NaN  \n",
       "140             NaN  \n",
       "141             NaN  \n",
       "142             NaN  \n",
       "143             NaN  \n",
       "144             NaN  \n",
       "0               NaN  \n",
       "1               NaN  \n",
       "2               NaN  \n",
       "3               NaN  \n",
       "4               NaN  \n",
       "5               NaN  \n",
       "18              NaN  \n",
       "19              NaN  \n",
       "20              NaN  \n",
       "21              NaN  \n",
       "22              NaN  \n",
       "23              NaN  \n",
       "...             ...  \n",
       "869             NaN  \n",
       "870             NaN  \n",
       "914             NaN  \n",
       "915             NaN  \n",
       "899             NaN  \n",
       "902             NaN  \n",
       "2353981         NaN  \n",
       "2462525         NaN  \n",
       "2353483         NaN  \n",
       "2462027         NaN  \n",
       "2352563         NaN  \n",
       "2461107         NaN  \n",
       "1506106         NaN  \n",
       "1506254         NaN  \n",
       "1504404         NaN  \n",
       "1505103         NaN  \n",
       "1505284         NaN  \n",
       "1505620         NaN  \n",
       "865082          NaN  \n",
       "865230          NaN  \n",
       "863380          NaN  \n",
       "864079          NaN  \n",
       "864260          NaN  \n",
       "864596          NaN  \n",
       "754490          NaN  \n",
       "754638          NaN  \n",
       "752788          NaN  \n",
       "753487          NaN  \n",
       "753668          NaN  \n",
       "754004          NaN  \n",
       "\n",
       "[88 rows x 10 columns]"
      ]
     },
     "execution_count": 197,
     "metadata": {},
     "output_type": "execute_result"
    }
   ],
   "source": [
    "dup_types = new_edges_df[ix]['type'].unique()\n",
    "\n",
    "dup_dfs = []\n",
    "\n",
    "for dt in dup_types:\n",
    "    dup_dfs.append(new_edges_df[ix].query('type == @dt').sort_values(['start_id', 'end_id', 'type']).head(6))\n",
    "    \n",
    "pd.concat(dup_dfs)"
   ]
  },
  {
   "cell_type": "markdown",
   "metadata": {},
   "source": [
    "I see no reason for any of these duplications.... We'll just do a simple 'drop_duplicates' rather than merging any columns"
   ]
  },
  {
   "cell_type": "code",
   "execution_count": 198,
   "metadata": {},
   "outputs": [],
   "source": [
    "new_edges_df = new_edges_df.drop_duplicates(subset=['start_id', 'end_id', 'type']).copy()"
   ]
  },
  {
   "cell_type": "code",
   "execution_count": 199,
   "metadata": {},
   "outputs": [
    {
     "data": {
      "text/plain": [
       "424092"
      ]
     },
     "execution_count": 199,
     "metadata": {},
     "output_type": "execute_result"
    }
   ],
   "source": [
    "len(new_edges_df)"
   ]
  },
  {
   "cell_type": "code",
   "execution_count": 200,
   "metadata": {},
   "outputs": [
    {
     "name": "stdout",
     "output_type": "stream",
     "text": [
      "424092\n",
      "421801\n"
     ]
    }
   ],
   "source": [
    "all_node_ids = set(all_nodes['id']) | set(new_nodes_df['id'])\n",
    "\n",
    "print(len(new_edges_df))\n",
    "new_edges_df_filt = new_edges_df.query('start_id in @all_node_ids and end_id in @all_node_ids').copy()\n",
    "print(len(new_edges_df_filt))"
   ]
  },
  {
   "cell_type": "code",
   "execution_count": 201,
   "metadata": {},
   "outputs": [
    {
     "data": {
      "text/plain": [
       "part_of_GpoRX    1483\n",
       "part_of_GpoPW     806\n",
       "enables_RXeMF       2\n",
       "Name: type, dtype: int64"
      ]
     },
     "execution_count": 201,
     "metadata": {},
     "output_type": "execute_result"
    }
   ],
   "source": [
    "# Lests see how many of what kinds of edges had to be dropped...\n",
    "new_edges_df.query('start_id not in @all_node_ids or end_id not in @all_node_ids')['type'].value_counts()"
   ]
  },
  {
   "cell_type": "code",
   "execution_count": 202,
   "metadata": {},
   "outputs": [
    {
     "data": {
      "text/html": [
       "<div>\n",
       "<style scoped>\n",
       "    .dataframe tbody tr th:only-of-type {\n",
       "        vertical-align: middle;\n",
       "    }\n",
       "\n",
       "    .dataframe tbody tr th {\n",
       "        vertical-align: top;\n",
       "    }\n",
       "\n",
       "    .dataframe thead th {\n",
       "        text-align: right;\n",
       "    }\n",
       "</style>\n",
       "<table border=\"1\" class=\"dataframe\">\n",
       "  <thead>\n",
       "    <tr style=\"text-align: right;\">\n",
       "      <th></th>\n",
       "      <th>id</th>\n",
       "      <th>name</th>\n",
       "      <th>label</th>\n",
       "      <th>tree_numbers</th>\n",
       "      <th>drug_bank_ids</th>\n",
       "      <th>alt_disease_ids</th>\n",
       "      <th>gene_symbol</th>\n",
       "      <th>alt_gene_ids</th>\n",
       "      <th>bio_gridids</th>\n",
       "      <th>pharm_gkbids</th>\n",
       "      <th>uni_prot_ids</th>\n",
       "      <th>uniprot_id</th>\n",
       "      <th>mesh_ids</th>\n",
       "      <th>chebi_ids</th>\n",
       "    </tr>\n",
       "  </thead>\n",
       "  <tbody>\n",
       "    <tr>\n",
       "      <th>0</th>\n",
       "      <td>MESH:C089250</td>\n",
       "      <td>(0.017ferrocene)amylose</td>\n",
       "      <td>Compound</td>\n",
       "      <td>D01.490.200/C089250|D02.691.550.200/C089250|D0...</td>\n",
       "      <td>NaN</td>\n",
       "      <td>NaN</td>\n",
       "      <td>NaN</td>\n",
       "      <td>NaN</td>\n",
       "      <td>NaN</td>\n",
       "      <td>NaN</td>\n",
       "      <td>NaN</td>\n",
       "      <td>NaN</td>\n",
       "      <td>NaN</td>\n",
       "      <td>NaN</td>\n",
       "    </tr>\n",
       "    <tr>\n",
       "      <th>1</th>\n",
       "      <td>MESH:C114385</td>\n",
       "      <td>001-C8-NBD</td>\n",
       "      <td>Compound</td>\n",
       "      <td>D03.383.129.462.580/C114385|D12.644.456/C114385</td>\n",
       "      <td>NaN</td>\n",
       "      <td>NaN</td>\n",
       "      <td>NaN</td>\n",
       "      <td>NaN</td>\n",
       "      <td>NaN</td>\n",
       "      <td>NaN</td>\n",
       "      <td>NaN</td>\n",
       "      <td>NaN</td>\n",
       "      <td>NaN</td>\n",
       "      <td>NaN</td>\n",
       "    </tr>\n",
       "  </tbody>\n",
       "</table>\n",
       "</div>"
      ],
      "text/plain": [
       "             id                     name     label  \\\n",
       "0  MESH:C089250  (0.017ferrocene)amylose  Compound   \n",
       "1  MESH:C114385               001-C8-NBD  Compound   \n",
       "\n",
       "                                        tree_numbers drug_bank_ids  \\\n",
       "0  D01.490.200/C089250|D02.691.550.200/C089250|D0...           NaN   \n",
       "1    D03.383.129.462.580/C114385|D12.644.456/C114385           NaN   \n",
       "\n",
       "  alt_disease_ids gene_symbol alt_gene_ids bio_gridids pharm_gkbids  \\\n",
       "0             NaN         NaN          NaN         NaN          NaN   \n",
       "1             NaN         NaN          NaN         NaN          NaN   \n",
       "\n",
       "  uni_prot_ids uniprot_id mesh_ids chebi_ids  \n",
       "0          NaN        NaN      NaN       NaN  \n",
       "1          NaN        NaN      NaN       NaN  "
      ]
     },
     "execution_count": 202,
     "metadata": {},
     "output_type": "execute_result"
    }
   ],
   "source": [
    "all_nodes_out = pd.concat([all_nodes.drop('l_name', axis=1), new_nodes_df], sort=False)\n",
    "all_nodes_out['chebi_ids'] = all_nodes_out['id'].map(mesh_to_chebi)\n",
    "all_nodes_out.head(2)"
   ]
  },
  {
   "cell_type": "code",
   "execution_count": 203,
   "metadata": {},
   "outputs": [
    {
     "data": {
      "text/html": [
       "<div>\n",
       "<style scoped>\n",
       "    .dataframe tbody tr th:only-of-type {\n",
       "        vertical-align: middle;\n",
       "    }\n",
       "\n",
       "    .dataframe tbody tr th {\n",
       "        vertical-align: top;\n",
       "    }\n",
       "\n",
       "    .dataframe thead th {\n",
       "        text-align: right;\n",
       "    }\n",
       "</style>\n",
       "<table border=\"1\" class=\"dataframe\">\n",
       "  <thead>\n",
       "    <tr style=\"text-align: right;\">\n",
       "      <th></th>\n",
       "      <th>start_id</th>\n",
       "      <th>end_id</th>\n",
       "      <th>type</th>\n",
       "      <th>parent_ixn</th>\n",
       "      <th>pub_med_ids</th>\n",
       "      <th>organism_id</th>\n",
       "      <th>abbv</th>\n",
       "      <th>source</th>\n",
       "      <th>evidence</th>\n",
       "      <th>direct_evidence</th>\n",
       "      <th>corrected_pvalue</th>\n",
       "      <th>inference_gene_symbol</th>\n",
       "      <th>qualifier</th>\n",
       "      <th>db_reference</th>\n",
       "      <th>evidence_code</th>\n",
       "      <th>with_or_from</th>\n",
       "      <th>date</th>\n",
       "      <th>assigned_by</th>\n",
       "      <th>experiments</th>\n",
       "      <th>support_type</th>\n",
       "    </tr>\n",
       "  </thead>\n",
       "  <tbody>\n",
       "    <tr>\n",
       "      <th>0</th>\n",
       "      <td>MESH:C000121</td>\n",
       "      <td>4313</td>\n",
       "      <td>decreases_activity_CdaG</td>\n",
       "      <td>decreases^activity</td>\n",
       "      <td>25899827</td>\n",
       "      <td>9606</td>\n",
       "      <td>CdaG</td>\n",
       "      <td>CTD</td>\n",
       "      <td>curated</td>\n",
       "      <td>NaN</td>\n",
       "      <td>NaN</td>\n",
       "      <td>NaN</td>\n",
       "      <td>NaN</td>\n",
       "      <td>NaN</td>\n",
       "      <td>NaN</td>\n",
       "      <td>NaN</td>\n",
       "      <td>NaN</td>\n",
       "      <td>NaN</td>\n",
       "      <td>NaN</td>\n",
       "      <td>NaN</td>\n",
       "    </tr>\n",
       "    <tr>\n",
       "      <th>1</th>\n",
       "      <td>MESH:C000121</td>\n",
       "      <td>4313</td>\n",
       "      <td>decreases_expression_CdeG</td>\n",
       "      <td>decreases^expression</td>\n",
       "      <td>25899827</td>\n",
       "      <td>9606</td>\n",
       "      <td>CdeG</td>\n",
       "      <td>CTD</td>\n",
       "      <td>curated</td>\n",
       "      <td>NaN</td>\n",
       "      <td>NaN</td>\n",
       "      <td>NaN</td>\n",
       "      <td>NaN</td>\n",
       "      <td>NaN</td>\n",
       "      <td>NaN</td>\n",
       "      <td>NaN</td>\n",
       "      <td>NaN</td>\n",
       "      <td>NaN</td>\n",
       "      <td>NaN</td>\n",
       "      <td>NaN</td>\n",
       "    </tr>\n",
       "  </tbody>\n",
       "</table>\n",
       "</div>"
      ],
      "text/plain": [
       "       start_id end_id                       type            parent_ixn  \\\n",
       "0  MESH:C000121   4313    decreases_activity_CdaG    decreases^activity   \n",
       "1  MESH:C000121   4313  decreases_expression_CdeG  decreases^expression   \n",
       "\n",
       "  pub_med_ids organism_id  abbv source evidence direct_evidence  \\\n",
       "0    25899827        9606  CdaG    CTD  curated             NaN   \n",
       "1    25899827        9606  CdeG    CTD  curated             NaN   \n",
       "\n",
       "  corrected_pvalue inference_gene_symbol qualifier db_reference evidence_code  \\\n",
       "0              NaN                   NaN       NaN          NaN           NaN   \n",
       "1              NaN                   NaN       NaN          NaN           NaN   \n",
       "\n",
       "  with_or_from date assigned_by experiments support_type  \n",
       "0          NaN  NaN         NaN         NaN          NaN  \n",
       "1          NaN  NaN         NaN         NaN          NaN  "
      ]
     },
     "execution_count": 203,
     "metadata": {},
     "output_type": "execute_result"
    }
   ],
   "source": [
    "new_edges_df_filt['abbv'] = new_edges_df_filt['type'].apply(lambda s: s.split('_')[-1])\n",
    "all_edges = pd.concat([edges, new_edges_df_filt], sort=False)\n",
    "all_edges.head(2)"
   ]
  },
  {
   "cell_type": "code",
   "execution_count": 204,
   "metadata": {
    "scrolled": true
   },
   "outputs": [
    {
     "data": {
      "text/plain": [
       "True"
      ]
     },
     "execution_count": 204,
     "metadata": {},
     "output_type": "execute_result"
    }
   ],
   "source": [
    "len(all_node_ids) == len(all_nodes_out)"
   ]
  },
  {
   "cell_type": "code",
   "execution_count": 205,
   "metadata": {},
   "outputs": [
    {
     "data": {
      "text/plain": [
       "111599"
      ]
     },
     "execution_count": 205,
     "metadata": {},
     "output_type": "execute_result"
    }
   ],
   "source": [
    "all_edge_ids = all_edges[['start_id', 'end_id']].stack()\n",
    "filt_nodes_out = all_nodes_out.query('id in @all_edge_ids')\n",
    "len(filt_nodes_out)"
   ]
  },
  {
   "cell_type": "markdown",
   "metadata": {},
   "source": [
    "# Save to Disk"
   ]
  },
  {
   "cell_type": "code",
   "execution_count": 208,
   "metadata": {},
   "outputs": [
    {
     "data": {
      "application/javascript": [
       "IPython.notebook.kernel.execute('nb_name = \"' + IPython.notebook.notebook_name + '\"')\n",
       "// hack to get the filename for this notebook"
      ],
      "text/plain": [
       "<IPython.core.display.Javascript object>"
      ]
     },
     "metadata": {},
     "output_type": "display_data"
    }
   ],
   "source": [
    "%%javascript\n",
    "IPython.notebook.kernel.execute('nb_name = \"' + IPython.notebook.notebook_name + '\"')\n",
    "// hack to get the filename for this notebook"
   ]
  },
  {
   "cell_type": "code",
   "execution_count": 209,
   "metadata": {},
   "outputs": [],
   "source": [
    "out_dir = Path('../2_pipeline/').joinpath(nb_name.split('.')[0]).joinpath('out').resolve()\n",
    "out_dir.mkdir(parents=True, exist_ok=True)"
   ]
  },
  {
   "cell_type": "code",
   "execution_count": 210,
   "metadata": {},
   "outputs": [],
   "source": [
    "gt.add_colons(new_nodes_df, id_name='identifier').to_csv(out_dir.joinpath('new_nodes.csv'), index=False)\n",
    "gt.add_colons(new_edges_df).to_csv(out_dir.joinpath('new_edges.csv'), index=False)"
   ]
  },
  {
   "cell_type": "code",
   "execution_count": 211,
   "metadata": {},
   "outputs": [],
   "source": [
    "gt.add_colons(all_nodes_out, id_name='identifier').to_csv(out_dir.joinpath('nodes_all.csv'), index=False)\n",
    "gt.add_colons(filt_nodes_out, id_name='identifier').to_csv(out_dir.joinpath('nodes_filt.csv'), index=False)\n",
    "\n",
    "gt.add_colons(all_edges).to_csv(out_dir.joinpath('edges.csv'), index=False)"
   ]
  }
 ],
 "metadata": {
  "kernelspec": {
   "display_name": "Python 3",
   "language": "python",
   "name": "python3"
  },
  "language_info": {
   "codemirror_mode": {
    "name": "ipython",
    "version": 3
   },
   "file_extension": ".py",
   "mimetype": "text/x-python",
   "name": "python",
   "nbconvert_exporter": "python",
   "pygments_lexer": "ipython3",
   "version": "3.6.8"
  }
 },
 "nbformat": 4,
 "nbformat_minor": 2
}
