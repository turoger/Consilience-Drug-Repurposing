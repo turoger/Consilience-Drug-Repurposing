{
 "cells": [
  {
   "cell_type": "code",
   "execution_count": 1,
   "metadata": {},
   "outputs": [],
   "source": [
    "import pandas as pd\n",
    "from pathlib import Path\n",
    "from metapaths.tools.hetnet_file_processing import read_reactome\n",
    "from metapaths.tools.processing import regularize_colnames, head, expand_col_on_char, combine_group_rows_on_char\n",
    "from hetnet_ml.src import graph_tools as gt\n",
    "\n",
    "load_dir = Path('../2_pipeline/00_download_data/out/').resolve()\n",
    "network_dir = load_dir.parent.parent.joinpath('03_Adding_GO_Annotations/out')"
   ]
  },
  {
   "cell_type": "code",
   "execution_count": 2,
   "metadata": {},
   "outputs": [],
   "source": [
    "all_nodes = gt.remove_colons(pd.read_csv(network_dir.joinpath('nodes_all.csv'), dtype=str))\n",
    "edges = gt.remove_colons(pd.read_csv(network_dir.joinpath('edges.csv'), dtype=str))"
   ]
  },
  {
   "cell_type": "code",
   "execution_count": 3,
   "metadata": {},
   "outputs": [
    {
     "name": "stdout",
     "output_type": "stream",
     "text": [
      "Pathways:   2,363\n",
      " Kegg:        503\n",
      " Reactome:  1,860\n"
     ]
    }
   ],
   "source": [
    "PWs = all_nodes.query('label == \"Pathway\"')\n",
    "print(\"Pathways:  {:6,}\".format(len(PWs)))\n",
    "print(\" Kegg:     {:6,}\".format(PWs['id'].str.startswith('KEGG:').sum()))\n",
    "print(\" Reactome: {:6,}\".format(PWs['id'].str.startswith('REACT:').sum()))"
   ]
  },
  {
   "cell_type": "code",
   "execution_count": 4,
   "metadata": {},
   "outputs": [],
   "source": [
    "kegg = PWs[PWs['id'].str.startswith('KEGG:')]['id'].values\n",
    "react = PWs[PWs['id'].str.startswith('REACT:')]['id'].values"
   ]
  },
  {
   "cell_type": "code",
   "execution_count": 5,
   "metadata": {},
   "outputs": [
    {
     "name": "stdout",
     "output_type": "stream",
     "text": [
      "Kegg edges: 661,027\n",
      "Reactome Edges: 1,253,874\n"
     ]
    }
   ],
   "source": [
    "print('Kegg edges: {:,}'.format(len(edges.query('start_id in @kegg or end_id in @kegg'))))\n",
    "print('Reactome Edges: {:,}'.format(len(edges.query('start_id in @react or end_id in @react'))))"
   ]
  },
  {
   "cell_type": "code",
   "execution_count": 6,
   "metadata": {},
   "outputs": [
    {
     "data": {
      "text/plain": [
       "associated_with_CawPW    446328\n",
       "associated_with_DawPW    185911\n",
       "part_of_GpoPW             28788\n",
       "Name: type, dtype: int64"
      ]
     },
     "execution_count": 6,
     "metadata": {},
     "output_type": "execute_result"
    }
   ],
   "source": [
    "edges.query('start_id in @kegg or end_id in @kegg')['type'].value_counts()"
   ]
  },
  {
   "cell_type": "code",
   "execution_count": 7,
   "metadata": {},
   "outputs": [
    {
     "data": {
      "text/plain": [
       "associated_with_CawPW    769595\n",
       "associated_with_DawPW    377258\n",
       "part_of_GpoPW            107021\n",
       "Name: type, dtype: int64"
      ]
     },
     "execution_count": 7,
     "metadata": {},
     "output_type": "execute_result"
    }
   ],
   "source": [
    "edges.query('start_id in @react or end_id in @react')['type'].value_counts()"
   ]
  },
  {
   "cell_type": "markdown",
   "metadata": {},
   "source": [
    "A lot more reactome than Kegg..."
   ]
  },
  {
   "cell_type": "code",
   "execution_count": 8,
   "metadata": {},
   "outputs": [],
   "source": [
    "all_node_ids = all_nodes['id'].values\n",
    "new_nodes = []\n",
    "new_edges = []"
   ]
  },
  {
   "cell_type": "code",
   "execution_count": 9,
   "metadata": {},
   "outputs": [
    {
     "data": {
      "text/html": [
       "<div>\n",
       "<style scoped>\n",
       "    .dataframe tbody tr th:only-of-type {\n",
       "        vertical-align: middle;\n",
       "    }\n",
       "\n",
       "    .dataframe tbody tr th {\n",
       "        vertical-align: top;\n",
       "    }\n",
       "\n",
       "    .dataframe thead th {\n",
       "        text-align: right;\n",
       "    }\n",
       "</style>\n",
       "<table border=\"1\" class=\"dataframe\">\n",
       "  <thead>\n",
       "    <tr style=\"text-align: right;\">\n",
       "      <th></th>\n",
       "      <th>id</th>\n",
       "      <th>name</th>\n",
       "      <th>label</th>\n",
       "      <th>tree_numbers</th>\n",
       "      <th>drug_bank_ids</th>\n",
       "      <th>alt_disease_ids</th>\n",
       "      <th>gene_symbol</th>\n",
       "      <th>alt_gene_ids</th>\n",
       "      <th>bio_gridids</th>\n",
       "      <th>pharm_gkbids</th>\n",
       "      <th>uni_prot_ids</th>\n",
       "      <th>uniprot_id</th>\n",
       "    </tr>\n",
       "  </thead>\n",
       "  <tbody>\n",
       "    <tr>\n",
       "      <th>0</th>\n",
       "      <td>MESH:C089250</td>\n",
       "      <td>(0.017ferrocene)amylose</td>\n",
       "      <td>Compound</td>\n",
       "      <td>D01.490.200/C089250|D02.691.550.200/C089250|D0...</td>\n",
       "      <td>NaN</td>\n",
       "      <td>NaN</td>\n",
       "      <td>NaN</td>\n",
       "      <td>NaN</td>\n",
       "      <td>NaN</td>\n",
       "      <td>NaN</td>\n",
       "      <td>NaN</td>\n",
       "      <td>NaN</td>\n",
       "    </tr>\n",
       "    <tr>\n",
       "      <th>1</th>\n",
       "      <td>MESH:C114385</td>\n",
       "      <td>001-C8-NBD</td>\n",
       "      <td>Compound</td>\n",
       "      <td>D03.383.129.462.580/C114385|D12.644.456/C114385</td>\n",
       "      <td>NaN</td>\n",
       "      <td>NaN</td>\n",
       "      <td>NaN</td>\n",
       "      <td>NaN</td>\n",
       "      <td>NaN</td>\n",
       "      <td>NaN</td>\n",
       "      <td>NaN</td>\n",
       "      <td>NaN</td>\n",
       "    </tr>\n",
       "  </tbody>\n",
       "</table>\n",
       "</div>"
      ],
      "text/plain": [
       "             id                     name     label  \\\n",
       "0  MESH:C089250  (0.017ferrocene)amylose  Compound   \n",
       "1  MESH:C114385               001-C8-NBD  Compound   \n",
       "\n",
       "                                        tree_numbers drug_bank_ids  \\\n",
       "0  D01.490.200/C089250|D02.691.550.200/C089250|D0...           NaN   \n",
       "1    D03.383.129.462.580/C114385|D12.644.456/C114385           NaN   \n",
       "\n",
       "  alt_disease_ids gene_symbol alt_gene_ids bio_gridids pharm_gkbids  \\\n",
       "0             NaN         NaN          NaN         NaN          NaN   \n",
       "1             NaN         NaN          NaN         NaN          NaN   \n",
       "\n",
       "  uni_prot_ids uniprot_id  \n",
       "0          NaN        NaN  \n",
       "1          NaN        NaN  "
      ]
     },
     "execution_count": 9,
     "metadata": {},
     "output_type": "execute_result"
    }
   ],
   "source": [
    "all_nodes.head(2)"
   ]
  },
  {
   "cell_type": "markdown",
   "metadata": {},
   "source": [
    "# Reactome Genes"
   ]
  },
  {
   "cell_type": "code",
   "execution_count": 10,
   "metadata": {},
   "outputs": [],
   "source": [
    "ncbi = read_reactome(load_dir.joinpath('NCBI2Reactome_PE_All_Levels.txt'))\n",
    "hncbi = ncbi.query('taxon == \"Homo sapiens\"').copy()"
   ]
  },
  {
   "cell_type": "code",
   "execution_count": 11,
   "metadata": {},
   "outputs": [],
   "source": [
    "hncbi['external_id'] = hncbi['external_id'].astype(str)"
   ]
  },
  {
   "cell_type": "code",
   "execution_count": 12,
   "metadata": {},
   "outputs": [
    {
     "data": {
      "text/html": [
       "<div>\n",
       "<style scoped>\n",
       "    .dataframe tbody tr th:only-of-type {\n",
       "        vertical-align: middle;\n",
       "    }\n",
       "\n",
       "    .dataframe tbody tr th {\n",
       "        vertical-align: top;\n",
       "    }\n",
       "\n",
       "    .dataframe thead th {\n",
       "        text-align: right;\n",
       "    }\n",
       "</style>\n",
       "<table border=\"1\" class=\"dataframe\">\n",
       "  <thead>\n",
       "    <tr style=\"text-align: right;\">\n",
       "      <th></th>\n",
       "      <th>start_id</th>\n",
       "      <th>end_id</th>\n",
       "      <th>evidence_code</th>\n",
       "      <th>type</th>\n",
       "    </tr>\n",
       "  </thead>\n",
       "  <tbody>\n",
       "    <tr>\n",
       "      <th>0</th>\n",
       "      <td>1</td>\n",
       "      <td>REACT:R-HSA-109582</td>\n",
       "      <td>TAS</td>\n",
       "      <td>part_of_GpoPW</td>\n",
       "    </tr>\n",
       "    <tr>\n",
       "      <th>1</th>\n",
       "      <td>1</td>\n",
       "      <td>REACT:R-HSA-109582</td>\n",
       "      <td>TAS</td>\n",
       "      <td>part_of_GpoPW</td>\n",
       "    </tr>\n",
       "  </tbody>\n",
       "</table>\n",
       "</div>"
      ],
      "text/plain": [
       "  start_id              end_id evidence_code           type\n",
       "0        1  REACT:R-HSA-109582           TAS  part_of_GpoPW\n",
       "1        1  REACT:R-HSA-109582           TAS  part_of_GpoPW"
      ]
     },
     "execution_count": 12,
     "metadata": {},
     "output_type": "execute_result"
    }
   ],
   "source": [
    "hncbi['reactome_id'] = 'REACT:' + hncbi['reactome_id']\n",
    "ncbi_edges = hncbi[['external_id', 'reactome_id', 'evidence_code']].copy()\n",
    "ncbi_edges.columns = ['start_id', 'end_id', 'evidence_code']\n",
    "ncbi_edges['type'] = 'part_of_GpoPW'\n",
    "ncbi_edges.head(2)"
   ]
  },
  {
   "cell_type": "code",
   "execution_count": 13,
   "metadata": {},
   "outputs": [
    {
     "name": "stdout",
     "output_type": "stream",
     "text": [
      "Genes in Reactome: 10,696\n",
      "Mapped to Network: 10,610\n",
      "Un-mappable: 86\n"
     ]
    }
   ],
   "source": [
    "print('Genes in Reactome: {:,}'.format(hncbi['external_id'].nunique()))\n",
    "print('Mapped to Network: {:,}'.format(hncbi.query('external_id in @all_node_ids')['external_id'].nunique()))\n",
    "print('Un-mappable: {:,}'.format(hncbi.query('external_id not in @all_node_ids')['external_id'].nunique()))"
   ]
  },
  {
   "cell_type": "code",
   "execution_count": 14,
   "metadata": {},
   "outputs": [
    {
     "name": "stdout",
     "output_type": "stream",
     "text": [
      "Unique Reactome Pathways: 2,239\n",
      "Reactome Pathways not in Network: 423\n"
     ]
    }
   ],
   "source": [
    "react_ids = set(ncbi_edges['end_id'])\n",
    "print('Unique Reactome Pathways: {:,}'.format(len(react_ids)))\n",
    "print('Reactome Pathways not in Network: {:,}'.format(len(react_ids - set(all_nodes['id']))))"
   ]
  },
  {
   "cell_type": "markdown",
   "metadata": {},
   "source": [
    "423 is a fairly significant number... We can add these pathways to the newtork..."
   ]
  },
  {
   "cell_type": "code",
   "execution_count": 15,
   "metadata": {},
   "outputs": [
    {
     "data": {
      "text/plain": [
       "423"
      ]
     },
     "execution_count": 15,
     "metadata": {},
     "output_type": "execute_result"
    }
   ],
   "source": [
    "len(react_ids - set(react))"
   ]
  },
  {
   "cell_type": "code",
   "execution_count": 16,
   "metadata": {},
   "outputs": [
    {
     "data": {
      "text/html": [
       "<div>\n",
       "<style scoped>\n",
       "    .dataframe tbody tr th:only-of-type {\n",
       "        vertical-align: middle;\n",
       "    }\n",
       "\n",
       "    .dataframe tbody tr th {\n",
       "        vertical-align: top;\n",
       "    }\n",
       "\n",
       "    .dataframe thead th {\n",
       "        text-align: right;\n",
       "    }\n",
       "</style>\n",
       "<table border=\"1\" class=\"dataframe\">\n",
       "  <thead>\n",
       "    <tr style=\"text-align: right;\">\n",
       "      <th></th>\n",
       "      <th>id</th>\n",
       "      <th>name</th>\n",
       "      <th>label</th>\n",
       "    </tr>\n",
       "  </thead>\n",
       "  <tbody>\n",
       "    <tr>\n",
       "      <th>28</th>\n",
       "      <td>REACT:R-HSA-8956321</td>\n",
       "      <td>Nucleotide salvage</td>\n",
       "      <td>Pathway</td>\n",
       "    </tr>\n",
       "    <tr>\n",
       "      <th>43</th>\n",
       "      <td>REACT:R-HSA-8957275</td>\n",
       "      <td>Post-translational protein phosphorylation</td>\n",
       "      <td>Pathway</td>\n",
       "    </tr>\n",
       "    <tr>\n",
       "      <th>137</th>\n",
       "      <td>REACT:R-HSA-6807070</td>\n",
       "      <td>PTEN Regulation</td>\n",
       "      <td>Pathway</td>\n",
       "    </tr>\n",
       "    <tr>\n",
       "      <th>151</th>\n",
       "      <td>REACT:R-HSA-8878166</td>\n",
       "      <td>Transcriptional regulation by RUNX2</td>\n",
       "      <td>Pathway</td>\n",
       "    </tr>\n",
       "    <tr>\n",
       "      <th>152</th>\n",
       "      <td>REACT:R-HSA-8939211</td>\n",
       "      <td>ESR-mediated signaling</td>\n",
       "      <td>Pathway</td>\n",
       "    </tr>\n",
       "  </tbody>\n",
       "</table>\n",
       "</div>"
      ],
      "text/plain": [
       "                      id                                        name    label\n",
       "28   REACT:R-HSA-8956321                          Nucleotide salvage  Pathway\n",
       "43   REACT:R-HSA-8957275  Post-translational protein phosphorylation  Pathway\n",
       "137  REACT:R-HSA-6807070                             PTEN Regulation  Pathway\n",
       "151  REACT:R-HSA-8878166         Transcriptional regulation by RUNX2  Pathway\n",
       "152  REACT:R-HSA-8939211                      ESR-mediated signaling  Pathway"
      ]
     },
     "execution_count": 16,
     "metadata": {},
     "output_type": "execute_result"
    }
   ],
   "source": [
    "missing_react_ids = react_ids - set(react)\n",
    "keep_cols = ['reactome_id', 'reactome_name']\n",
    "new_pw_nodes = hncbi.query('reactome_id in @missing_react_ids')\n",
    "new_pw_nodes = new_pw_nodes.drop_duplicates(subset=keep_cols)[keep_cols]\n",
    "new_pw_nodes.columns = [c.split('_')[1] for c in keep_cols]\n",
    "new_pw_nodes['label'] = 'Pathway'\n",
    "new_pw_nodes.head()"
   ]
  },
  {
   "cell_type": "code",
   "execution_count": 17,
   "metadata": {},
   "outputs": [],
   "source": [
    "new_nodes.append(new_pw_nodes)\n",
    "new_edges.append(ncbi_edges)"
   ]
  },
  {
   "cell_type": "markdown",
   "metadata": {},
   "source": [
    "## Chem PW"
   ]
  },
  {
   "cell_type": "code",
   "execution_count": 18,
   "metadata": {},
   "outputs": [
    {
     "data": {
      "text/html": [
       "<div>\n",
       "<style scoped>\n",
       "    .dataframe tbody tr th:only-of-type {\n",
       "        vertical-align: middle;\n",
       "    }\n",
       "\n",
       "    .dataframe tbody tr th {\n",
       "        vertical-align: top;\n",
       "    }\n",
       "\n",
       "    .dataframe thead th {\n",
       "        text-align: right;\n",
       "    }\n",
       "</style>\n",
       "<table border=\"1\" class=\"dataframe\">\n",
       "  <thead>\n",
       "    <tr style=\"text-align: right;\">\n",
       "      <th></th>\n",
       "      <th>external_id</th>\n",
       "      <th>pe_reactome_id</th>\n",
       "      <th>pe_name</th>\n",
       "      <th>reactome_id</th>\n",
       "      <th>reactome_url</th>\n",
       "      <th>reactome_name</th>\n",
       "      <th>evidence_code</th>\n",
       "      <th>taxon</th>\n",
       "    </tr>\n",
       "  </thead>\n",
       "  <tbody>\n",
       "    <tr>\n",
       "      <th>0</th>\n",
       "      <td>10033</td>\n",
       "      <td>R-ALL-9014945</td>\n",
       "      <td>warfarin [cytosol]</td>\n",
       "      <td>R-BTA-1430728</td>\n",
       "      <td>https://reactome.org/PathwayBrowser/#/R-BTA-14...</td>\n",
       "      <td>Metabolism</td>\n",
       "      <td>IEA</td>\n",
       "      <td>Bos taurus</td>\n",
       "    </tr>\n",
       "    <tr>\n",
       "      <th>1</th>\n",
       "      <td>10033</td>\n",
       "      <td>R-ALL-9014945</td>\n",
       "      <td>warfarin [cytosol]</td>\n",
       "      <td>R-BTA-196854</td>\n",
       "      <td>https://reactome.org/PathwayBrowser/#/R-BTA-19...</td>\n",
       "      <td>Metabolism of vitamins and cofactors</td>\n",
       "      <td>IEA</td>\n",
       "      <td>Bos taurus</td>\n",
       "    </tr>\n",
       "  </tbody>\n",
       "</table>\n",
       "</div>"
      ],
      "text/plain": [
       "  external_id pe_reactome_id             pe_name    reactome_id  \\\n",
       "0       10033  R-ALL-9014945  warfarin [cytosol]  R-BTA-1430728   \n",
       "1       10033  R-ALL-9014945  warfarin [cytosol]   R-BTA-196854   \n",
       "\n",
       "                                        reactome_url  \\\n",
       "0  https://reactome.org/PathwayBrowser/#/R-BTA-14...   \n",
       "1  https://reactome.org/PathwayBrowser/#/R-BTA-19...   \n",
       "\n",
       "                          reactome_name evidence_code       taxon  \n",
       "0                            Metabolism           IEA  Bos taurus  \n",
       "1  Metabolism of vitamins and cofactors           IEA  Bos taurus  "
      ]
     },
     "execution_count": 18,
     "metadata": {},
     "output_type": "execute_result"
    }
   ],
   "source": [
    "chem_pw = read_reactome(load_dir.joinpath('ChEBI2Reactome_PE_All_Levels.txt'))\n",
    "chem_pw.head(2)"
   ]
  },
  {
   "cell_type": "code",
   "execution_count": 19,
   "metadata": {},
   "outputs": [
    {
     "data": {
      "text/plain": [
       "38843"
      ]
     },
     "execution_count": 19,
     "metadata": {},
     "output_type": "execute_result"
    }
   ],
   "source": [
    "chem_hpw = chem_pw.query('taxon == \"Homo sapiens\"').copy()\n",
    "chem_hpw.shape[0]"
   ]
  },
  {
   "cell_type": "code",
   "execution_count": 20,
   "metadata": {},
   "outputs": [],
   "source": [
    "chem_hpw['external_id'] = 'CHEBI:' + chem_hpw['external_id'].astype(str)\n",
    "chebi_ids = chem_hpw['external_id'].unique()"
   ]
  },
  {
   "cell_type": "markdown",
   "metadata": {},
   "source": [
    "Need to map from Chebi to MeSH if possible... \n",
    "Could also map to DrugBank"
   ]
  },
  {
   "cell_type": "code",
   "execution_count": 21,
   "metadata": {},
   "outputs": [],
   "source": [
    "from biothings_client import get_client\n",
    "mc = get_client('chem')"
   ]
  },
  {
   "cell_type": "code",
   "execution_count": 22,
   "metadata": {
    "scrolled": true
   },
   "outputs": [
    {
     "name": "stdout",
     "output_type": "stream",
     "text": [
      "querying 1-1000...done.\n",
      "querying 1001-2000...done.\n",
      "querying 2001-2081...done.\n"
     ]
    }
   ],
   "source": [
    "res = mc.getchems(chebi_ids)"
   ]
  },
  {
   "cell_type": "code",
   "execution_count": 23,
   "metadata": {},
   "outputs": [
    {
     "name": "stdout",
     "output_type": "stream",
     "text": [
      "ChEBI IDs not found in mychem.info: 210\n"
     ]
    }
   ],
   "source": [
    "no_mychem = []\n",
    "for r in res:\n",
    "    if 'notfound' in r:\n",
    "        no_mychem.append(r['query'])\n",
    "print('ChEBI IDs not found in mychem.info: {:,}'.format(len(no_mychem)))"
   ]
  },
  {
   "cell_type": "code",
   "execution_count": 24,
   "metadata": {},
   "outputs": [
    {
     "data": {
      "text/html": [
       "<div>\n",
       "<style scoped>\n",
       "    .dataframe tbody tr th:only-of-type {\n",
       "        vertical-align: middle;\n",
       "    }\n",
       "\n",
       "    .dataframe tbody tr th {\n",
       "        vertical-align: top;\n",
       "    }\n",
       "\n",
       "    .dataframe thead th {\n",
       "        text-align: right;\n",
       "    }\n",
       "</style>\n",
       "<table border=\"1\" class=\"dataframe\">\n",
       "  <thead>\n",
       "    <tr style=\"text-align: right;\">\n",
       "      <th></th>\n",
       "      <th>external_id</th>\n",
       "      <th>pe_reactome_id</th>\n",
       "      <th>pe_name</th>\n",
       "      <th>reactome_id</th>\n",
       "      <th>reactome_url</th>\n",
       "      <th>reactome_name</th>\n",
       "      <th>evidence_code</th>\n",
       "      <th>taxon</th>\n",
       "    </tr>\n",
       "  </thead>\n",
       "  <tbody>\n",
       "    <tr>\n",
       "      <th>16</th>\n",
       "      <td>CHEBI:10033</td>\n",
       "      <td>R-ALL-9014945</td>\n",
       "      <td>warfarin [cytosol]</td>\n",
       "      <td>R-HSA-1430728</td>\n",
       "      <td>https://reactome.org/PathwayBrowser/#/R-HSA-14...</td>\n",
       "      <td>Metabolism</td>\n",
       "      <td>TAS</td>\n",
       "      <td>Homo sapiens</td>\n",
       "    </tr>\n",
       "    <tr>\n",
       "      <th>1452</th>\n",
       "      <td>CHEBI:13166</td>\n",
       "      <td>R-HSA-5357708</td>\n",
       "      <td>Sec-tRNA(Sec) [cytosol]</td>\n",
       "      <td>R-HSA-1430728</td>\n",
       "      <td>https://reactome.org/PathwayBrowser/#/R-HSA-14...</td>\n",
       "      <td>Metabolism</td>\n",
       "      <td>IEA</td>\n",
       "      <td>Homo sapiens</td>\n",
       "    </tr>\n",
       "    <tr>\n",
       "      <th>1460</th>\n",
       "      <td>CHEBI:13170</td>\n",
       "      <td>R-HSA-5357730</td>\n",
       "      <td>Ser-tRNA(Sec) [cytosol]</td>\n",
       "      <td>R-HSA-1430728</td>\n",
       "      <td>https://reactome.org/PathwayBrowser/#/R-HSA-14...</td>\n",
       "      <td>Metabolism</td>\n",
       "      <td>IEA</td>\n",
       "      <td>Homo sapiens</td>\n",
       "    </tr>\n",
       "    <tr>\n",
       "      <th>1960</th>\n",
       "      <td>CHEBI:133202</td>\n",
       "      <td>R-ALL-8938276</td>\n",
       "      <td>(ADP-D-ribosyl)(n)-acceptor [cytosol]</td>\n",
       "      <td>R-HSA-1430728</td>\n",
       "      <td>https://reactome.org/PathwayBrowser/#/R-HSA-14...</td>\n",
       "      <td>Metabolism</td>\n",
       "      <td>TAS</td>\n",
       "      <td>Homo sapiens</td>\n",
       "    </tr>\n",
       "    <tr>\n",
       "      <th>2015</th>\n",
       "      <td>CHEBI:133203</td>\n",
       "      <td>R-ALL-8938282</td>\n",
       "      <td>(ADP-D-ribosyl)(n+1)-acceptor [cytosol]</td>\n",
       "      <td>R-HSA-1430728</td>\n",
       "      <td>https://reactome.org/PathwayBrowser/#/R-HSA-14...</td>\n",
       "      <td>Metabolism</td>\n",
       "      <td>TAS</td>\n",
       "      <td>Homo sapiens</td>\n",
       "    </tr>\n",
       "    <tr>\n",
       "      <th>3750</th>\n",
       "      <td>CHEBI:138387</td>\n",
       "      <td>R-ALL-9020583</td>\n",
       "      <td>(18S)-hydroperoxyicosapentaenoic acid [cytosol]</td>\n",
       "      <td>R-HSA-1430728</td>\n",
       "      <td>https://reactome.org/PathwayBrowser/#/R-HSA-14...</td>\n",
       "      <td>Metabolism</td>\n",
       "      <td>TAS</td>\n",
       "      <td>Homo sapiens</td>\n",
       "    </tr>\n",
       "    <tr>\n",
       "      <th>3859</th>\n",
       "      <td>CHEBI:138490</td>\n",
       "      <td>R-ALL-9022655</td>\n",
       "      <td>5S,6S-epoxy-18(S)-HEPE [cytosol]</td>\n",
       "      <td>R-HSA-1430728</td>\n",
       "      <td>https://reactome.org/PathwayBrowser/#/R-HSA-14...</td>\n",
       "      <td>Metabolism</td>\n",
       "      <td>TAS</td>\n",
       "      <td>Homo sapiens</td>\n",
       "    </tr>\n",
       "    <tr>\n",
       "      <th>3974</th>\n",
       "      <td>CHEBI:138563</td>\n",
       "      <td>R-ALL-9023708</td>\n",
       "      <td>5S,6S-epoxy-18(R)-HEPE [cytosol]</td>\n",
       "      <td>R-HSA-1430728</td>\n",
       "      <td>https://reactome.org/PathwayBrowser/#/R-HSA-14...</td>\n",
       "      <td>Metabolism</td>\n",
       "      <td>TAS</td>\n",
       "      <td>Homo sapiens</td>\n",
       "    </tr>\n",
       "    <tr>\n",
       "      <th>4147</th>\n",
       "      <td>CHEBI:138601</td>\n",
       "      <td>R-ALL-9024576</td>\n",
       "      <td>4(S)-Hp-17(R)-HDHA [cytosol]</td>\n",
       "      <td>R-HSA-1430728</td>\n",
       "      <td>https://reactome.org/PathwayBrowser/#/R-HSA-14...</td>\n",
       "      <td>Metabolism</td>\n",
       "      <td>TAS</td>\n",
       "      <td>Homo sapiens</td>\n",
       "    </tr>\n",
       "    <tr>\n",
       "      <th>4192</th>\n",
       "      <td>CHEBI:138602</td>\n",
       "      <td>R-ALL-9024479</td>\n",
       "      <td>7(S)-Hp-17(R)-HDHA [cytosol]</td>\n",
       "      <td>R-HSA-1430728</td>\n",
       "      <td>https://reactome.org/PathwayBrowser/#/R-HSA-14...</td>\n",
       "      <td>Metabolism</td>\n",
       "      <td>TAS</td>\n",
       "      <td>Homo sapiens</td>\n",
       "    </tr>\n",
       "  </tbody>\n",
       "</table>\n",
       "</div>"
      ],
      "text/plain": [
       "       external_id pe_reactome_id  \\\n",
       "16     CHEBI:10033  R-ALL-9014945   \n",
       "1452   CHEBI:13166  R-HSA-5357708   \n",
       "1460   CHEBI:13170  R-HSA-5357730   \n",
       "1960  CHEBI:133202  R-ALL-8938276   \n",
       "2015  CHEBI:133203  R-ALL-8938282   \n",
       "3750  CHEBI:138387  R-ALL-9020583   \n",
       "3859  CHEBI:138490  R-ALL-9022655   \n",
       "3974  CHEBI:138563  R-ALL-9023708   \n",
       "4147  CHEBI:138601  R-ALL-9024576   \n",
       "4192  CHEBI:138602  R-ALL-9024479   \n",
       "\n",
       "                                              pe_name    reactome_id  \\\n",
       "16                                 warfarin [cytosol]  R-HSA-1430728   \n",
       "1452                          Sec-tRNA(Sec) [cytosol]  R-HSA-1430728   \n",
       "1460                          Ser-tRNA(Sec) [cytosol]  R-HSA-1430728   \n",
       "1960            (ADP-D-ribosyl)(n)-acceptor [cytosol]  R-HSA-1430728   \n",
       "2015          (ADP-D-ribosyl)(n+1)-acceptor [cytosol]  R-HSA-1430728   \n",
       "3750  (18S)-hydroperoxyicosapentaenoic acid [cytosol]  R-HSA-1430728   \n",
       "3859                 5S,6S-epoxy-18(S)-HEPE [cytosol]  R-HSA-1430728   \n",
       "3974                 5S,6S-epoxy-18(R)-HEPE [cytosol]  R-HSA-1430728   \n",
       "4147                     4(S)-Hp-17(R)-HDHA [cytosol]  R-HSA-1430728   \n",
       "4192                     7(S)-Hp-17(R)-HDHA [cytosol]  R-HSA-1430728   \n",
       "\n",
       "                                           reactome_url reactome_name  \\\n",
       "16    https://reactome.org/PathwayBrowser/#/R-HSA-14...    Metabolism   \n",
       "1452  https://reactome.org/PathwayBrowser/#/R-HSA-14...    Metabolism   \n",
       "1460  https://reactome.org/PathwayBrowser/#/R-HSA-14...    Metabolism   \n",
       "1960  https://reactome.org/PathwayBrowser/#/R-HSA-14...    Metabolism   \n",
       "2015  https://reactome.org/PathwayBrowser/#/R-HSA-14...    Metabolism   \n",
       "3750  https://reactome.org/PathwayBrowser/#/R-HSA-14...    Metabolism   \n",
       "3859  https://reactome.org/PathwayBrowser/#/R-HSA-14...    Metabolism   \n",
       "3974  https://reactome.org/PathwayBrowser/#/R-HSA-14...    Metabolism   \n",
       "4147  https://reactome.org/PathwayBrowser/#/R-HSA-14...    Metabolism   \n",
       "4192  https://reactome.org/PathwayBrowser/#/R-HSA-14...    Metabolism   \n",
       "\n",
       "     evidence_code         taxon  \n",
       "16             TAS  Homo sapiens  \n",
       "1452           IEA  Homo sapiens  \n",
       "1460           IEA  Homo sapiens  \n",
       "1960           TAS  Homo sapiens  \n",
       "2015           TAS  Homo sapiens  \n",
       "3750           TAS  Homo sapiens  \n",
       "3859           TAS  Homo sapiens  \n",
       "3974           TAS  Homo sapiens  \n",
       "4147           TAS  Homo sapiens  \n",
       "4192           TAS  Homo sapiens  "
      ]
     },
     "execution_count": 24,
     "metadata": {},
     "output_type": "execute_result"
    }
   ],
   "source": [
    "chem_hpw.query('external_id in @no_mychem').drop_duplicates(subset=['external_id']).head(10)"
   ]
  },
  {
   "cell_type": "markdown",
   "metadata": {},
   "source": [
    "Lots of tRNAs and other quite specific things.. I don't htink these will add much as they're not the small molecules we're interested in...\n",
    "\n",
    "Maybe warfarin? not sure why that one isn't mapped..."
   ]
  },
  {
   "cell_type": "code",
   "execution_count": 25,
   "metadata": {
    "scrolled": false
   },
   "outputs": [],
   "source": [
    "bad_keys = {'query', '_id', 'notfound'}\n",
    "mesh_loc = {'drugcentral': 'mesh_descriptor_ui', 'ginas': 'MESH'}\n",
    "\n",
    "chebi_to_mesh = dict()\n",
    "\n",
    "for r in res:\n",
    "    msh_id = set()\n",
    "    for k, v in mesh_loc.items():\n",
    "        potential_id = r.get(k, dict()).get('xrefs', dict()).get(v)\n",
    "        if potential_id is not None:\n",
    "            if type(potential_id) == str:\n",
    "                msh_id.add('MESH:'+potential_id)\n",
    "            elif type(potential_id == list):\n",
    "                for pid in potential_id:\n",
    "                    msh_id.add('MESH:'+pid)\n",
    "    if len(msh_id) == 1:\n",
    "        chebi_to_mesh[r['query']] = msh_id.pop()\n",
    "        continue\n",
    "    elif len(msh_id) > 1:\n",
    "        chebi_to_mesh[r['query']] = '|'.join(msh_id)\n",
    "        continue\n",
    "    dbid = r.get('drugbank', dict()).get('id')\n",
    "    if dbid is not None:\n",
    "        chebi_to_mesh[r['query']] = 'DB:'+ dbid"
   ]
  },
  {
   "cell_type": "code",
   "execution_count": 26,
   "metadata": {},
   "outputs": [
    {
     "name": "stdout",
     "output_type": "stream",
     "text": [
      "ChEBI IDs only mappable to Drugbank 223\n"
     ]
    }
   ],
   "source": [
    "drug_bank_ids = [v[3:] for v in chebi_to_mesh.values() if v.startswith('DB:')]\n",
    "print('ChEBI IDs only mappable to Drugbank {:,}'.format(len(drug_bank_ids)))"
   ]
  },
  {
   "cell_type": "code",
   "execution_count": 27,
   "metadata": {},
   "outputs": [
    {
     "name": "stdout",
     "output_type": "stream",
     "text": [
      "DrugBank IDs already in the network: 127\n"
     ]
    }
   ],
   "source": [
    "print('DrugBank IDs already in the network: {:,}'.format(len(all_nodes.query('drug_bank_ids in @drug_bank_ids'))))"
   ]
  },
  {
   "cell_type": "code",
   "execution_count": 28,
   "metadata": {},
   "outputs": [],
   "source": [
    "dbid_to_msh = all_nodes.query('drug_bank_ids in @drug_bank_ids').set_index('drug_bank_ids')['id'].to_dict()\n",
    "dbid_to_msh = {'DB:'+k: v for k, v in dbid_to_msh.items()}"
   ]
  },
  {
   "cell_type": "code",
   "execution_count": 29,
   "metadata": {},
   "outputs": [],
   "source": [
    "chebi_to_mesh = {k: dbid_to_msh.get(v, v) for k, v in chebi_to_mesh.items()}"
   ]
  },
  {
   "cell_type": "code",
   "execution_count": 30,
   "metadata": {},
   "outputs": [
    {
     "name": "stdout",
     "output_type": "stream",
     "text": [
      "ChEBI IDs now mappable to MeSH: 598\n"
     ]
    }
   ],
   "source": [
    "print('ChEBI IDs now mappable to MeSH: {:,}'.format(len([v for v in chebi_to_mesh.values() if v.startswith('MESH:')])))"
   ]
  },
  {
   "cell_type": "code",
   "execution_count": 31,
   "metadata": {},
   "outputs": [],
   "source": [
    "chem_hpw['mesh_id'] = chem_hpw['external_id'].map(chebi_to_mesh)"
   ]
  },
  {
   "cell_type": "code",
   "execution_count": 32,
   "metadata": {},
   "outputs": [
    {
     "name": "stdout",
     "output_type": "stream",
     "text": [
      "39314\n",
      "16304\n"
     ]
    }
   ],
   "source": [
    "chm_exp = expand_col_on_char(chem_hpw.dropna(subset=['mesh_id']), 'mesh_id', '|')\n",
    "chem_hpw = pd.concat([chm_exp, chem_hpw[chem_hpw['mesh_id'].isnull()]], sort=False)\n",
    "print(len(chem_hpw))\n",
    "print(len(chem_hpw.query('mesh_id in @all_node_ids')))"
   ]
  },
  {
   "cell_type": "code",
   "execution_count": 33,
   "metadata": {},
   "outputs": [],
   "source": [
    "chebi_to_db = {k: v[3:] for k,v in chebi_to_mesh.items() if v.startswith('DB:')}"
   ]
  },
  {
   "cell_type": "code",
   "execution_count": 34,
   "metadata": {},
   "outputs": [
    {
     "data": {
      "text/html": [
       "<div>\n",
       "<style scoped>\n",
       "    .dataframe tbody tr th:only-of-type {\n",
       "        vertical-align: middle;\n",
       "    }\n",
       "\n",
       "    .dataframe tbody tr th {\n",
       "        vertical-align: top;\n",
       "    }\n",
       "\n",
       "    .dataframe thead th {\n",
       "        text-align: right;\n",
       "    }\n",
       "</style>\n",
       "<table border=\"1\" class=\"dataframe\">\n",
       "  <thead>\n",
       "    <tr style=\"text-align: right;\">\n",
       "      <th></th>\n",
       "      <th>external_id</th>\n",
       "      <th>pe_reactome_id</th>\n",
       "      <th>pe_name</th>\n",
       "      <th>reactome_id</th>\n",
       "      <th>reactome_url</th>\n",
       "      <th>reactome_name</th>\n",
       "      <th>evidence_code</th>\n",
       "      <th>taxon</th>\n",
       "      <th>mesh_id</th>\n",
       "    </tr>\n",
       "  </thead>\n",
       "  <tbody>\n",
       "    <tr>\n",
       "      <th>62</th>\n",
       "      <td>CHEBI:10036</td>\n",
       "      <td>R-ALL-5696412</td>\n",
       "      <td>arachidyl ester [endoplasmic reticulum lumen]</td>\n",
       "      <td>R-HSA-1430728</td>\n",
       "      <td>https://reactome.org/PathwayBrowser/#/R-HSA-14...</td>\n",
       "      <td>Metabolism</td>\n",
       "      <td>TAS</td>\n",
       "      <td>Homo sapiens</td>\n",
       "      <td>NaN</td>\n",
       "    </tr>\n",
       "    <tr>\n",
       "      <th>125</th>\n",
       "      <td>CHEBI:10049</td>\n",
       "      <td>R-ALL-2509848</td>\n",
       "      <td>XTP [cytosol]</td>\n",
       "      <td>R-HSA-1430728</td>\n",
       "      <td>https://reactome.org/PathwayBrowser/#/R-HSA-14...</td>\n",
       "      <td>Metabolism</td>\n",
       "      <td>TAS</td>\n",
       "      <td>Homo sapiens</td>\n",
       "      <td>NaN</td>\n",
       "    </tr>\n",
       "    <tr>\n",
       "      <th>477</th>\n",
       "      <td>CHEBI:10545</td>\n",
       "      <td>R-ALL-76342</td>\n",
       "      <td>e- [endoplasmic reticulum lumen]</td>\n",
       "      <td>R-HSA-140180</td>\n",
       "      <td>https://reactome.org/PathwayBrowser/#/R-HSA-14...</td>\n",
       "      <td>COX reactions</td>\n",
       "      <td>TAS</td>\n",
       "      <td>Homo sapiens</td>\n",
       "      <td>NaN</td>\n",
       "    </tr>\n",
       "    <tr>\n",
       "      <th>576</th>\n",
       "      <td>CHEBI:10668</td>\n",
       "      <td>R-HSA-6782371</td>\n",
       "      <td>unspliced tRNA(Leu)(CAA) containing C-34,48 [n...</td>\n",
       "      <td>R-HSA-6782315</td>\n",
       "      <td>https://reactome.org/PathwayBrowser/#/R-HSA-67...</td>\n",
       "      <td>tRNA modification in the nucleus and cytosol</td>\n",
       "      <td>IEA</td>\n",
       "      <td>Homo sapiens</td>\n",
       "      <td>NaN</td>\n",
       "    </tr>\n",
       "    <tr>\n",
       "      <th>776</th>\n",
       "      <td>CHEBI:10723</td>\n",
       "      <td>R-ALL-77343</td>\n",
       "      <td>tdec2-CoA [mitochondrial matrix]</td>\n",
       "      <td>R-HSA-1430728</td>\n",
       "      <td>https://reactome.org/PathwayBrowser/#/R-HSA-14...</td>\n",
       "      <td>Metabolism</td>\n",
       "      <td>TAS</td>\n",
       "      <td>Homo sapiens</td>\n",
       "      <td>NaN</td>\n",
       "    </tr>\n",
       "  </tbody>\n",
       "</table>\n",
       "</div>"
      ],
      "text/plain": [
       "     external_id pe_reactome_id  \\\n",
       "62   CHEBI:10036  R-ALL-5696412   \n",
       "125  CHEBI:10049  R-ALL-2509848   \n",
       "477  CHEBI:10545    R-ALL-76342   \n",
       "576  CHEBI:10668  R-HSA-6782371   \n",
       "776  CHEBI:10723    R-ALL-77343   \n",
       "\n",
       "                                               pe_name    reactome_id  \\\n",
       "62       arachidyl ester [endoplasmic reticulum lumen]  R-HSA-1430728   \n",
       "125                                      XTP [cytosol]  R-HSA-1430728   \n",
       "477                   e- [endoplasmic reticulum lumen]   R-HSA-140180   \n",
       "576  unspliced tRNA(Leu)(CAA) containing C-34,48 [n...  R-HSA-6782315   \n",
       "776                   tdec2-CoA [mitochondrial matrix]  R-HSA-1430728   \n",
       "\n",
       "                                          reactome_url  \\\n",
       "62   https://reactome.org/PathwayBrowser/#/R-HSA-14...   \n",
       "125  https://reactome.org/PathwayBrowser/#/R-HSA-14...   \n",
       "477  https://reactome.org/PathwayBrowser/#/R-HSA-14...   \n",
       "576  https://reactome.org/PathwayBrowser/#/R-HSA-67...   \n",
       "776  https://reactome.org/PathwayBrowser/#/R-HSA-14...   \n",
       "\n",
       "                                    reactome_name evidence_code         taxon  \\\n",
       "62                                     Metabolism           TAS  Homo sapiens   \n",
       "125                                    Metabolism           TAS  Homo sapiens   \n",
       "477                                 COX reactions           TAS  Homo sapiens   \n",
       "576  tRNA modification in the nucleus and cytosol           IEA  Homo sapiens   \n",
       "776                                    Metabolism           TAS  Homo sapiens   \n",
       "\n",
       "    mesh_id  \n",
       "62      NaN  \n",
       "125     NaN  \n",
       "477     NaN  \n",
       "576     NaN  \n",
       "776     NaN  "
      ]
     },
     "execution_count": 34,
     "metadata": {},
     "output_type": "execute_result"
    }
   ],
   "source": [
    "mychem_no_mesh_db = set(chebi_ids) - set(no_mychem) - set(chebi_to_mesh.keys())\n",
    "chem_hpw.query('external_id in @mychem_no_mesh_db').drop_duplicates(subset=['external_id']).head(5)"
   ]
  },
  {
   "cell_type": "markdown",
   "metadata": {},
   "source": [
    "Some of these are weird... electron... beta-particle... "
   ]
  },
  {
   "cell_type": "code",
   "execution_count": 35,
   "metadata": {},
   "outputs": [
    {
     "name": "stdout",
     "output_type": "stream",
     "text": [
      "Chem Pathway Mappings\n",
      " Edges Total:       39,314\n",
      " Number mapped:     16,304\n",
      " Number unmapped:   23,010\n",
      "Nodes\n",
      " Total Chems:        2,081\n",
      " Chems mapped:         559\n",
      " Chems unmapped:     1,533\n",
      "Mapping Fractions\n",
      " Nodes:            26.721%\n",
      " Eodes:            41.471%\n"
     ]
    }
   ],
   "source": [
    "print('Chem Pathway Mappings')\n",
    "print(' Edges Total:     {:8,}'.format(len(chem_hpw)))\n",
    "e_map = len(chem_hpw.query('mesh_id in @all_node_ids'))\n",
    "e_umap = len(chem_hpw.query('mesh_id not in @all_node_ids'))\n",
    "print(' Number mapped:   {:8,}'.format(e_map))\n",
    "print(' Number unmapped: {:8,}'.format(e_umap))\n",
    "print('Nodes')\n",
    "\n",
    "n_map = chem_hpw.query('mesh_id in @all_node_ids')['external_id'].nunique()\n",
    "n_umap = chem_hpw.query('mesh_id not in @all_node_ids')['external_id'].nunique()\n",
    "\n",
    "print(' Total Chems:     {:8,}'.format(chem_hpw['external_id'].nunique()))\n",
    "print(' Chems mapped:    {:8,}'.format(n_map))\n",
    "print(' Chems unmapped:  {:8,}'.format(n_umap))\n",
    "print('Mapping Fractions')\n",
    "print(' Nodes:           {:8.3%}'.format(n_map / (n_map + n_umap)))\n",
    "print(' Eodes:           {:8.3%}'.format(e_map / (e_map + e_umap)))"
   ]
  },
  {
   "cell_type": "markdown",
   "metadata": {},
   "source": [
    "Fairly unsuccessful endavour...  only about 1/4 of the nodes, and about 2/5 of the edges...\n",
    "\n",
    "Chebi terms are more specific than MeSH... However, these could be interesting bridging nodes, as having relationships with both pathways and reactions.  We will add them in as new nodes."
   ]
  },
  {
   "cell_type": "code",
   "execution_count": 36,
   "metadata": {},
   "outputs": [
    {
     "data": {
      "text/html": [
       "<div>\n",
       "<style scoped>\n",
       "    .dataframe tbody tr th:only-of-type {\n",
       "        vertical-align: middle;\n",
       "    }\n",
       "\n",
       "    .dataframe tbody tr th {\n",
       "        vertical-align: top;\n",
       "    }\n",
       "\n",
       "    .dataframe thead th {\n",
       "        text-align: right;\n",
       "    }\n",
       "</style>\n",
       "<table border=\"1\" class=\"dataframe\">\n",
       "  <thead>\n",
       "    <tr style=\"text-align: right;\">\n",
       "      <th></th>\n",
       "      <th>id</th>\n",
       "      <th>name</th>\n",
       "      <th>label</th>\n",
       "    </tr>\n",
       "  </thead>\n",
       "  <tbody>\n",
       "    <tr>\n",
       "      <th>26</th>\n",
       "      <td>CHEBI:114785</td>\n",
       "      <td>Erlotinib</td>\n",
       "      <td>Compound</td>\n",
       "    </tr>\n",
       "    <tr>\n",
       "      <th>80</th>\n",
       "      <td>CHEBI:140420</td>\n",
       "      <td>eribaxaban</td>\n",
       "      <td>Compound</td>\n",
       "    </tr>\n",
       "  </tbody>\n",
       "</table>\n",
       "</div>"
      ],
      "text/plain": [
       "              id        name     label\n",
       "26  CHEBI:114785   Erlotinib  Compound\n",
       "80  CHEBI:140420  eribaxaban  Compound"
      ]
     },
     "execution_count": 36,
     "metadata": {},
     "output_type": "execute_result"
    }
   ],
   "source": [
    "new_chems = chem_hpw.query('mesh_id not in @all_node_ids').copy()\n",
    "\n",
    "new_chems['pe_name'] = new_chems['pe_name'].str.split(' \\[', expand=True)[0]\n",
    "new_chems = new_chems[['external_id', 'pe_name']].drop_duplicates()\n",
    "new_chems.columns = [c.split('_')[-1] for c in new_chems.columns]\n",
    "new_chems['label'] = 'Compound'\n",
    "new_chems.head(2)"
   ]
  },
  {
   "cell_type": "code",
   "execution_count": 37,
   "metadata": {},
   "outputs": [
    {
     "data": {
      "text/plain": [
       "1968"
      ]
     },
     "execution_count": 37,
     "metadata": {},
     "output_type": "execute_result"
    }
   ],
   "source": [
    "len(new_chems)"
   ]
  },
  {
   "cell_type": "markdown",
   "metadata": {},
   "source": [
    "#### String matching for Chebi to Mesh"
   ]
  },
  {
   "cell_type": "code",
   "execution_count": 38,
   "metadata": {},
   "outputs": [],
   "source": [
    "# Perhaps we can do some string matching ot get some more matches...\n",
    "new_chems['l_name'] = new_chems['name'].str.lower()\n",
    "lower_chem_names = new_chems['l_name'].values\n",
    "all_nodes['l_name'] = all_nodes['name'].str.lower()"
   ]
  },
  {
   "cell_type": "code",
   "execution_count": 39,
   "metadata": {},
   "outputs": [
    {
     "data": {
      "text/html": [
       "<div>\n",
       "<style scoped>\n",
       "    .dataframe tbody tr th:only-of-type {\n",
       "        vertical-align: middle;\n",
       "    }\n",
       "\n",
       "    .dataframe tbody tr th {\n",
       "        vertical-align: top;\n",
       "    }\n",
       "\n",
       "    .dataframe thead th {\n",
       "        text-align: right;\n",
       "    }\n",
       "</style>\n",
       "<table border=\"1\" class=\"dataframe\">\n",
       "  <thead>\n",
       "    <tr style=\"text-align: right;\">\n",
       "      <th></th>\n",
       "      <th>id</th>\n",
       "      <th>name</th>\n",
       "      <th>label</th>\n",
       "      <th>l_name</th>\n",
       "      <th>mesh_id</th>\n",
       "    </tr>\n",
       "  </thead>\n",
       "  <tbody>\n",
       "    <tr>\n",
       "      <th>26</th>\n",
       "      <td>CHEBI:114785</td>\n",
       "      <td>Erlotinib</td>\n",
       "      <td>Compound</td>\n",
       "      <td>erlotinib</td>\n",
       "      <td>NaN</td>\n",
       "    </tr>\n",
       "    <tr>\n",
       "      <th>80</th>\n",
       "      <td>CHEBI:140420</td>\n",
       "      <td>eribaxaban</td>\n",
       "      <td>Compound</td>\n",
       "      <td>eribaxaban</td>\n",
       "      <td>NaN</td>\n",
       "    </tr>\n",
       "  </tbody>\n",
       "</table>\n",
       "</div>"
      ],
      "text/plain": [
       "              id        name     label      l_name mesh_id\n",
       "26  CHEBI:114785   Erlotinib  Compound   erlotinib     NaN\n",
       "80  CHEBI:140420  eribaxaban  Compound  eribaxaban     NaN"
      ]
     },
     "execution_count": 39,
     "metadata": {},
     "output_type": "execute_result"
    }
   ],
   "source": [
    "name_to_mesh = all_nodes.query('l_name in @lower_chem_names and label != \"Gene\"').set_index('l_name')['id'].to_dict()\n",
    "new_chems['mesh_id'] = new_chems['l_name'].map(name_to_mesh)\n",
    "new_chems.head(2)"
   ]
  },
  {
   "cell_type": "code",
   "execution_count": 40,
   "metadata": {},
   "outputs": [],
   "source": [
    "# Add these new mappings to the chebi to mesh mapper\n",
    "chebi_to_mesh_by_name = new_chems.dropna(subset=['mesh_id']).set_index('id')['mesh_id'].to_dict()\n",
    "chebi_to_mesh = {**chebi_to_mesh_by_name, **chebi_to_mesh}"
   ]
  },
  {
   "cell_type": "code",
   "execution_count": 41,
   "metadata": {
    "scrolled": true
   },
   "outputs": [
    {
     "data": {
      "text/plain": [
       "1868"
      ]
     },
     "execution_count": 41,
     "metadata": {},
     "output_type": "execute_result"
    }
   ],
   "source": [
    "new_chems = new_chems[new_chems['mesh_id'].isnull()][['id', 'name', 'label']]\n",
    "len(new_chems)"
   ]
  },
  {
   "cell_type": "markdown",
   "metadata": {},
   "source": [
    "picked up about 100 via string mapping"
   ]
  },
  {
   "cell_type": "markdown",
   "metadata": {},
   "source": [
    "#### One to Many Chebi to MeSH mappings\n",
    "\n",
    "Some ChEBI IDs may map to multipe MeSH IDs...  If only one of those many MeSH ID is already contained in the network we will keep that mapping...\n"
   ]
  },
  {
   "cell_type": "code",
   "execution_count": 42,
   "metadata": {},
   "outputs": [
    {
     "data": {
      "text/html": [
       "<div>\n",
       "<style scoped>\n",
       "    .dataframe tbody tr th:only-of-type {\n",
       "        vertical-align: middle;\n",
       "    }\n",
       "\n",
       "    .dataframe tbody tr th {\n",
       "        vertical-align: top;\n",
       "    }\n",
       "\n",
       "    .dataframe thead th {\n",
       "        text-align: right;\n",
       "    }\n",
       "</style>\n",
       "<table border=\"1\" class=\"dataframe\">\n",
       "  <thead>\n",
       "    <tr style=\"text-align: right;\">\n",
       "      <th></th>\n",
       "      <th>external_id</th>\n",
       "      <th>pe_reactome_id</th>\n",
       "      <th>pe_name</th>\n",
       "      <th>reactome_id</th>\n",
       "      <th>reactome_url</th>\n",
       "      <th>reactome_name</th>\n",
       "      <th>evidence_code</th>\n",
       "      <th>taxon</th>\n",
       "      <th>mesh_id</th>\n",
       "    </tr>\n",
       "  </thead>\n",
       "  <tbody>\n",
       "    <tr>\n",
       "      <th>27</th>\n",
       "      <td>CHEBI:114785</td>\n",
       "      <td>R-ALL-1173285</td>\n",
       "      <td>Erlotinib [cytosol]</td>\n",
       "      <td>R-HSA-1236382</td>\n",
       "      <td>https://reactome.org/PathwayBrowser/#/R-HSA-12...</td>\n",
       "      <td>Constitutive Signaling by Ligand-Responsive EG...</td>\n",
       "      <td>TAS</td>\n",
       "      <td>Homo sapiens</td>\n",
       "      <td>MESH:D000069347</td>\n",
       "    </tr>\n",
       "    <tr>\n",
       "      <th>6233</th>\n",
       "      <td>CHEBI:16134</td>\n",
       "      <td>R-ALL-29382</td>\n",
       "      <td>NH3 [cytosol]</td>\n",
       "      <td>R-HSA-112310</td>\n",
       "      <td>https://reactome.org/PathwayBrowser/#/R-HSA-11...</td>\n",
       "      <td>Neurotransmitter release cycle</td>\n",
       "      <td>TAS</td>\n",
       "      <td>Homo sapiens</td>\n",
       "      <td>MESH:D000641</td>\n",
       "    </tr>\n",
       "    <tr>\n",
       "      <th>6921</th>\n",
       "      <td>CHEBI:16243</td>\n",
       "      <td>R-ALL-8953397</td>\n",
       "      <td>quercetin [nucleoplasm]</td>\n",
       "      <td>R-HSA-8935690</td>\n",
       "      <td>https://reactome.org/PathwayBrowser/#/R-HSA-89...</td>\n",
       "      <td>Digestion</td>\n",
       "      <td>TAS</td>\n",
       "      <td>Homo sapiens</td>\n",
       "      <td>MESH:D011794</td>\n",
       "    </tr>\n",
       "    <tr>\n",
       "      <th>13319</th>\n",
       "      <td>CHEBI:17688</td>\n",
       "      <td>R-ALL-30661</td>\n",
       "      <td>Nicotine [endoplasmic reticulum lumen]</td>\n",
       "      <td>R-HSA-1430728</td>\n",
       "      <td>https://reactome.org/PathwayBrowser/#/R-HSA-14...</td>\n",
       "      <td>Metabolism</td>\n",
       "      <td>TAS</td>\n",
       "      <td>Homo sapiens</td>\n",
       "      <td>MESH:D009538</td>\n",
       "    </tr>\n",
       "    <tr>\n",
       "      <th>19210</th>\n",
       "      <td>CHEBI:3175</td>\n",
       "      <td>R-ALL-9627030</td>\n",
       "      <td>brimonidine [extracellular region]</td>\n",
       "      <td>R-HSA-109582</td>\n",
       "      <td>https://reactome.org/PathwayBrowser/#/R-HSA-10...</td>\n",
       "      <td>Hemostasis</td>\n",
       "      <td>TAS</td>\n",
       "      <td>Homo sapiens</td>\n",
       "      <td>MESH:D000068438</td>\n",
       "    </tr>\n",
       "    <tr>\n",
       "      <th>19236</th>\n",
       "      <td>CHEBI:31932</td>\n",
       "      <td>R-ALL-6786175</td>\n",
       "      <td>OM [cytosol]</td>\n",
       "      <td>R-HSA-1430728</td>\n",
       "      <td>https://reactome.org/PathwayBrowser/#/R-HSA-14...</td>\n",
       "      <td>Metabolism</td>\n",
       "      <td>TAS</td>\n",
       "      <td>Homo sapiens</td>\n",
       "      <td>MESH:D000068557</td>\n",
       "    </tr>\n",
       "    <tr>\n",
       "      <th>19808</th>\n",
       "      <td>CHEBI:41423</td>\n",
       "      <td>R-ALL-2309786</td>\n",
       "      <td>celecoxib [cytosol]</td>\n",
       "      <td>R-HSA-1430728</td>\n",
       "      <td>https://reactome.org/PathwayBrowser/#/R-HSA-14...</td>\n",
       "      <td>Metabolism</td>\n",
       "      <td>TAS</td>\n",
       "      <td>Homo sapiens</td>\n",
       "      <td>MESH:D000068579</td>\n",
       "    </tr>\n",
       "    <tr>\n",
       "      <th>20237</th>\n",
       "      <td>CHEBI:49040</td>\n",
       "      <td>R-ALL-265479</td>\n",
       "      <td>EZE [extracellular region]</td>\n",
       "      <td>R-HSA-8963676</td>\n",
       "      <td>https://reactome.org/PathwayBrowser/#/R-HSA-89...</td>\n",
       "      <td>Intestinal absorption</td>\n",
       "      <td>TAS</td>\n",
       "      <td>Homo sapiens</td>\n",
       "      <td>MESH:D000069438</td>\n",
       "    </tr>\n",
       "    <tr>\n",
       "      <th>21490</th>\n",
       "      <td>CHEBI:68579</td>\n",
       "      <td>R-ALL-9015055</td>\n",
       "      <td>rivaroxaban [extracellular region]</td>\n",
       "      <td>R-HSA-109582</td>\n",
       "      <td>https://reactome.org/PathwayBrowser/#/R-HSA-10...</td>\n",
       "      <td>Hemostasis</td>\n",
       "      <td>TAS</td>\n",
       "      <td>Homo sapiens</td>\n",
       "      <td>MESH:D000069552</td>\n",
       "    </tr>\n",
       "    <tr>\n",
       "      <th>21818</th>\n",
       "      <td>CHEBI:8874</td>\n",
       "      <td>R-ALL-9635054</td>\n",
       "      <td>rivastigmine [extracellular region]</td>\n",
       "      <td>R-HSA-112311</td>\n",
       "      <td>https://reactome.org/PathwayBrowser/#/R-HSA-11...</td>\n",
       "      <td>Neurotransmitter clearance</td>\n",
       "      <td>TAS</td>\n",
       "      <td>Homo sapiens</td>\n",
       "      <td>MESH:D000068836</td>\n",
       "    </tr>\n",
       "    <tr>\n",
       "      <th>21950</th>\n",
       "      <td>CHEBI:9927</td>\n",
       "      <td>R-ALL-9615299</td>\n",
       "      <td>valsartan [extracellular region]</td>\n",
       "      <td>R-HSA-162582</td>\n",
       "      <td>https://reactome.org/PathwayBrowser/#/R-HSA-16...</td>\n",
       "      <td>Signal Transduction</td>\n",
       "      <td>TAS</td>\n",
       "      <td>Homo sapiens</td>\n",
       "      <td>MESH:D000068756</td>\n",
       "    </tr>\n",
       "  </tbody>\n",
       "</table>\n",
       "</div>"
      ],
      "text/plain": [
       "        external_id pe_reactome_id                                 pe_name  \\\n",
       "27     CHEBI:114785  R-ALL-1173285                     Erlotinib [cytosol]   \n",
       "6233    CHEBI:16134    R-ALL-29382                           NH3 [cytosol]   \n",
       "6921    CHEBI:16243  R-ALL-8953397                 quercetin [nucleoplasm]   \n",
       "13319   CHEBI:17688    R-ALL-30661  Nicotine [endoplasmic reticulum lumen]   \n",
       "19210    CHEBI:3175  R-ALL-9627030      brimonidine [extracellular region]   \n",
       "19236   CHEBI:31932  R-ALL-6786175                            OM [cytosol]   \n",
       "19808   CHEBI:41423  R-ALL-2309786                     celecoxib [cytosol]   \n",
       "20237   CHEBI:49040   R-ALL-265479              EZE [extracellular region]   \n",
       "21490   CHEBI:68579  R-ALL-9015055      rivaroxaban [extracellular region]   \n",
       "21818    CHEBI:8874  R-ALL-9635054     rivastigmine [extracellular region]   \n",
       "21950    CHEBI:9927  R-ALL-9615299        valsartan [extracellular region]   \n",
       "\n",
       "         reactome_id                                       reactome_url  \\\n",
       "27     R-HSA-1236382  https://reactome.org/PathwayBrowser/#/R-HSA-12...   \n",
       "6233    R-HSA-112310  https://reactome.org/PathwayBrowser/#/R-HSA-11...   \n",
       "6921   R-HSA-8935690  https://reactome.org/PathwayBrowser/#/R-HSA-89...   \n",
       "13319  R-HSA-1430728  https://reactome.org/PathwayBrowser/#/R-HSA-14...   \n",
       "19210   R-HSA-109582  https://reactome.org/PathwayBrowser/#/R-HSA-10...   \n",
       "19236  R-HSA-1430728  https://reactome.org/PathwayBrowser/#/R-HSA-14...   \n",
       "19808  R-HSA-1430728  https://reactome.org/PathwayBrowser/#/R-HSA-14...   \n",
       "20237  R-HSA-8963676  https://reactome.org/PathwayBrowser/#/R-HSA-89...   \n",
       "21490   R-HSA-109582  https://reactome.org/PathwayBrowser/#/R-HSA-10...   \n",
       "21818   R-HSA-112311  https://reactome.org/PathwayBrowser/#/R-HSA-11...   \n",
       "21950   R-HSA-162582  https://reactome.org/PathwayBrowser/#/R-HSA-16...   \n",
       "\n",
       "                                           reactome_name evidence_code  \\\n",
       "27     Constitutive Signaling by Ligand-Responsive EG...           TAS   \n",
       "6233                      Neurotransmitter release cycle           TAS   \n",
       "6921                                           Digestion           TAS   \n",
       "13319                                         Metabolism           TAS   \n",
       "19210                                         Hemostasis           TAS   \n",
       "19236                                         Metabolism           TAS   \n",
       "19808                                         Metabolism           TAS   \n",
       "20237                              Intestinal absorption           TAS   \n",
       "21490                                         Hemostasis           TAS   \n",
       "21818                         Neurotransmitter clearance           TAS   \n",
       "21950                                Signal Transduction           TAS   \n",
       "\n",
       "              taxon          mesh_id  \n",
       "27     Homo sapiens  MESH:D000069347  \n",
       "6233   Homo sapiens     MESH:D000641  \n",
       "6921   Homo sapiens     MESH:D011794  \n",
       "13319  Homo sapiens     MESH:D009538  \n",
       "19210  Homo sapiens  MESH:D000068438  \n",
       "19236  Homo sapiens  MESH:D000068557  \n",
       "19808  Homo sapiens  MESH:D000068579  \n",
       "20237  Homo sapiens  MESH:D000069438  \n",
       "21490  Homo sapiens  MESH:D000069552  \n",
       "21818  Homo sapiens  MESH:D000068836  \n",
       "21950  Homo sapiens  MESH:D000068756  "
      ]
     },
     "execution_count": 42,
     "metadata": {},
     "output_type": "execute_result"
    }
   ],
   "source": [
    "dupidx = chem_hpw.drop_duplicates(subset=['external_id', 'mesh_id'])['external_id'].duplicated(keep=False)\n",
    "dupidx = dupidx[dupidx].index\n",
    "dup_ids = (chem_hpw.loc[dupidx]\n",
    "                    .sort_values('external_id')\n",
    "                    .query('mesh_id in @all_node_ids')\n",
    "                    .drop_duplicates(subset=['external_id'], keep=False)) # We will fix those with multiple MeSH ids next...\n",
    "dup_ids"
   ]
  },
  {
   "cell_type": "code",
   "execution_count": 43,
   "metadata": {},
   "outputs": [],
   "source": [
    "resolved_dups = dup_ids.set_index('external_id')['mesh_id'].to_dict()\n",
    "chebi_to_mesh.update(resolved_dups)"
   ]
  },
  {
   "cell_type": "markdown",
   "metadata": {},
   "source": [
    "\n",
    "Some ChEBIs will be mapped to multiple MeSH ids... that are already in the network. We need to see how many are already in the network, and if they need to be resolved to 'more correct' identifier."
   ]
  },
  {
   "cell_type": "code",
   "execution_count": 44,
   "metadata": {},
   "outputs": [
    {
     "data": {
      "text/plain": [
       "10"
      ]
     },
     "execution_count": 44,
     "metadata": {},
     "output_type": "execute_result"
    }
   ],
   "source": [
    "(chem_hpw.query('mesh_id in @all_node_ids')\n",
    "         .drop_duplicates(subset=['external_id', 'mesh_id'])['external_id']\n",
    "         .duplicated(keep='first')\n",
    "         .sum())"
   ]
  },
  {
   "cell_type": "markdown",
   "metadata": {},
   "source": [
    "Ten ChEBI ids map to multiple mesh IDs that are already in the network...  This is a small enough number that maybe we can maunally determine what the correct one should be..."
   ]
  },
  {
   "cell_type": "code",
   "execution_count": 45,
   "metadata": {},
   "outputs": [],
   "source": [
    "idx = (chem_hpw.query('mesh_id in @all_node_ids')\n",
    "         .drop_duplicates(subset=['external_id', 'mesh_id'])['external_id']\n",
    "         .duplicated(keep=False))\n",
    "idx = idx[idx].index\n",
    "doubled_ids = chem_hpw.loc[idx].sort_values('external_id')['mesh_id'].values"
   ]
  },
  {
   "cell_type": "code",
   "execution_count": 46,
   "metadata": {},
   "outputs": [
    {
     "name": "stdout",
     "output_type": "stream",
     "text": [
      "9\n"
     ]
    }
   ],
   "source": [
    "duped_mesh_to_chebi = chem_hpw.loc[idx].set_index('mesh_id')['external_id'].to_dict()\n",
    "chebi_to_name = chem_hpw.loc[idx].set_index('external_id')['pe_name'].to_dict()\n",
    "\n",
    "duped = all_nodes.query('id in @doubled_ids').copy()\n",
    "duped['chebi'] = duped['id'].map(duped_mesh_to_chebi)\n",
    "duped['chebi_name'] = duped['chebi'].map(chebi_to_name)\n",
    "\n",
    "grpd = duped.groupby('chebi')\n",
    "groups = list(grpd.groups.keys())\n",
    "print(len(groups))"
   ]
  },
  {
   "cell_type": "code",
   "execution_count": 47,
   "metadata": {},
   "outputs": [
    {
     "data": {
      "text/html": [
       "<div>\n",
       "<style scoped>\n",
       "    .dataframe tbody tr th:only-of-type {\n",
       "        vertical-align: middle;\n",
       "    }\n",
       "\n",
       "    .dataframe tbody tr th {\n",
       "        vertical-align: top;\n",
       "    }\n",
       "\n",
       "    .dataframe thead th {\n",
       "        text-align: right;\n",
       "    }\n",
       "</style>\n",
       "<table border=\"1\" class=\"dataframe\">\n",
       "  <thead>\n",
       "    <tr style=\"text-align: right;\">\n",
       "      <th></th>\n",
       "      <th>id</th>\n",
       "      <th>name</th>\n",
       "      <th>chebi</th>\n",
       "      <th>chebi_name</th>\n",
       "    </tr>\n",
       "  </thead>\n",
       "  <tbody>\n",
       "    <tr>\n",
       "      <th>82292</th>\n",
       "      <td>MESH:D004295</td>\n",
       "      <td>Dihydroxyphenylalanine</td>\n",
       "      <td>CHEBI:15765</td>\n",
       "      <td>L-Dopa [cytosol]</td>\n",
       "    </tr>\n",
       "    <tr>\n",
       "      <th>109388</th>\n",
       "      <td>MESH:D007980</td>\n",
       "      <td>Levodopa</td>\n",
       "      <td>CHEBI:15765</td>\n",
       "      <td>L-Dopa [cytosol]</td>\n",
       "    </tr>\n",
       "  </tbody>\n",
       "</table>\n",
       "</div>"
      ],
      "text/plain": [
       "                  id                    name        chebi        chebi_name\n",
       "82292   MESH:D004295  Dihydroxyphenylalanine  CHEBI:15765  L-Dopa [cytosol]\n",
       "109388  MESH:D007980                Levodopa  CHEBI:15765  L-Dopa [cytosol]"
      ]
     },
     "execution_count": 47,
     "metadata": {},
     "output_type": "execute_result"
    }
   ],
   "source": [
    "group_number = 0\n",
    "cols = ['id', 'name', 'chebi', 'chebi_name']\n",
    "\n",
    "grpd.get_group(groups[group_number])[cols]"
   ]
  },
  {
   "cell_type": "markdown",
   "metadata": {},
   "source": [
    "Dihydroxyphenlalanine is for the D-form form, where as Levodopa or L-Dopa is the L-form... Because the chebi name referenfces L-Dopa, we'll go with the L-form"
   ]
  },
  {
   "cell_type": "code",
   "execution_count": 48,
   "metadata": {},
   "outputs": [],
   "source": [
    "chebi_to_mesh.update({'CHEBI:15765': 'MESH:D007980'})"
   ]
  },
  {
   "cell_type": "code",
   "execution_count": 49,
   "metadata": {},
   "outputs": [
    {
     "data": {
      "text/html": [
       "<div>\n",
       "<style scoped>\n",
       "    .dataframe tbody tr th:only-of-type {\n",
       "        vertical-align: middle;\n",
       "    }\n",
       "\n",
       "    .dataframe tbody tr th {\n",
       "        vertical-align: top;\n",
       "    }\n",
       "\n",
       "    .dataframe thead th {\n",
       "        text-align: right;\n",
       "    }\n",
       "</style>\n",
       "<table border=\"1\" class=\"dataframe\">\n",
       "  <thead>\n",
       "    <tr style=\"text-align: right;\">\n",
       "      <th></th>\n",
       "      <th>id</th>\n",
       "      <th>name</th>\n",
       "      <th>chebi</th>\n",
       "      <th>chebi_name</th>\n",
       "    </tr>\n",
       "  </thead>\n",
       "  <tbody>\n",
       "    <tr>\n",
       "      <th>68409</th>\n",
       "      <td>MESH:D002245</td>\n",
       "      <td>Carbon Dioxide</td>\n",
       "      <td>CHEBI:16526</td>\n",
       "      <td>CO2 [nucleoplasm]</td>\n",
       "    </tr>\n",
       "    <tr>\n",
       "      <th>84513</th>\n",
       "      <td>MESH:D004367</td>\n",
       "      <td>Dry Ice</td>\n",
       "      <td>CHEBI:16526</td>\n",
       "      <td>CO2 [nucleoplasm]</td>\n",
       "    </tr>\n",
       "  </tbody>\n",
       "</table>\n",
       "</div>"
      ],
      "text/plain": [
       "                 id            name        chebi         chebi_name\n",
       "68409  MESH:D002245  Carbon Dioxide  CHEBI:16526  CO2 [nucleoplasm]\n",
       "84513  MESH:D004367         Dry Ice  CHEBI:16526  CO2 [nucleoplasm]"
      ]
     },
     "execution_count": 49,
     "metadata": {},
     "output_type": "execute_result"
    }
   ],
   "source": [
    "group_number = 1\n",
    "\n",
    "grpd.get_group(groups[group_number])[cols]"
   ]
  },
  {
   "cell_type": "markdown",
   "metadata": {},
   "source": [
    "This means CO2, not Dry ice..."
   ]
  },
  {
   "cell_type": "code",
   "execution_count": 50,
   "metadata": {},
   "outputs": [],
   "source": [
    "chebi_to_mesh.update({'CHEBI:16526': 'MESH:D002245'})"
   ]
  },
  {
   "cell_type": "code",
   "execution_count": 51,
   "metadata": {},
   "outputs": [
    {
     "data": {
      "text/html": [
       "<div>\n",
       "<style scoped>\n",
       "    .dataframe tbody tr th:only-of-type {\n",
       "        vertical-align: middle;\n",
       "    }\n",
       "\n",
       "    .dataframe tbody tr th {\n",
       "        vertical-align: top;\n",
       "    }\n",
       "\n",
       "    .dataframe thead th {\n",
       "        text-align: right;\n",
       "    }\n",
       "</style>\n",
       "<table border=\"1\" class=\"dataframe\">\n",
       "  <thead>\n",
       "    <tr style=\"text-align: right;\">\n",
       "      <th></th>\n",
       "      <th>id</th>\n",
       "      <th>name</th>\n",
       "      <th>chebi</th>\n",
       "      <th>chebi_name</th>\n",
       "    </tr>\n",
       "  </thead>\n",
       "  <tbody>\n",
       "    <tr>\n",
       "      <th>149608</th>\n",
       "      <td>MESH:D020156</td>\n",
       "      <td>Salicylic Acid</td>\n",
       "      <td>CHEBI:16914</td>\n",
       "      <td>SAL [mitochondrial matrix]</td>\n",
       "    </tr>\n",
       "    <tr>\n",
       "      <th>153893</th>\n",
       "      <td>MESH:D012980</td>\n",
       "      <td>Sodium Salicylate</td>\n",
       "      <td>CHEBI:16914</td>\n",
       "      <td>SAL [mitochondrial matrix]</td>\n",
       "    </tr>\n",
       "  </tbody>\n",
       "</table>\n",
       "</div>"
      ],
      "text/plain": [
       "                  id               name        chebi  \\\n",
       "149608  MESH:D020156     Salicylic Acid  CHEBI:16914   \n",
       "153893  MESH:D012980  Sodium Salicylate  CHEBI:16914   \n",
       "\n",
       "                        chebi_name  \n",
       "149608  SAL [mitochondrial matrix]  \n",
       "153893  SAL [mitochondrial matrix]  "
      ]
     },
     "execution_count": 51,
     "metadata": {},
     "output_type": "execute_result"
    }
   ],
   "source": [
    "group_number = 2\n",
    "\n",
    "grpd.get_group(groups[group_number])[cols]"
   ]
  },
  {
   "cell_type": "markdown",
   "metadata": {},
   "source": [
    "So these both make sense, theres no glaring error, so we will map all chebi terms to both mesh nodes"
   ]
  },
  {
   "cell_type": "code",
   "execution_count": 52,
   "metadata": {},
   "outputs": [
    {
     "data": {
      "text/html": [
       "<div>\n",
       "<style scoped>\n",
       "    .dataframe tbody tr th:only-of-type {\n",
       "        vertical-align: middle;\n",
       "    }\n",
       "\n",
       "    .dataframe tbody tr th {\n",
       "        vertical-align: top;\n",
       "    }\n",
       "\n",
       "    .dataframe thead th {\n",
       "        text-align: right;\n",
       "    }\n",
       "</style>\n",
       "<table border=\"1\" class=\"dataframe\">\n",
       "  <thead>\n",
       "    <tr style=\"text-align: right;\">\n",
       "      <th></th>\n",
       "      <th>id</th>\n",
       "      <th>name</th>\n",
       "      <th>chebi</th>\n",
       "      <th>chebi_name</th>\n",
       "    </tr>\n",
       "  </thead>\n",
       "  <tbody>\n",
       "    <tr>\n",
       "      <th>75475</th>\n",
       "      <td>MESH:C400424</td>\n",
       "      <td>Crinone</td>\n",
       "      <td>CHEBI:17026</td>\n",
       "      <td>P4 [extracellular region]</td>\n",
       "    </tr>\n",
       "    <tr>\n",
       "      <th>142611</th>\n",
       "      <td>MESH:D011374</td>\n",
       "      <td>Progesterone</td>\n",
       "      <td>CHEBI:17026</td>\n",
       "      <td>P4 [extracellular region]</td>\n",
       "    </tr>\n",
       "  </tbody>\n",
       "</table>\n",
       "</div>"
      ],
      "text/plain": [
       "                  id          name        chebi                 chebi_name\n",
       "75475   MESH:C400424       Crinone  CHEBI:17026  P4 [extracellular region]\n",
       "142611  MESH:D011374  Progesterone  CHEBI:17026  P4 [extracellular region]"
      ]
     },
     "execution_count": 52,
     "metadata": {},
     "output_type": "execute_result"
    }
   ],
   "source": [
    "group_number = 3\n",
    "grpd.get_group(groups[group_number])[cols]"
   ]
  },
  {
   "cell_type": "markdown",
   "metadata": {},
   "source": [
    "Crinone is a product rather than the compound, so we will stick to Progesterone"
   ]
  },
  {
   "cell_type": "code",
   "execution_count": 53,
   "metadata": {},
   "outputs": [],
   "source": [
    "chebi_to_mesh.update({'CHEBI:17026': 'MESH:D011374'})"
   ]
  },
  {
   "cell_type": "code",
   "execution_count": 54,
   "metadata": {
    "scrolled": true
   },
   "outputs": [
    {
     "data": {
      "text/html": [
       "<div>\n",
       "<style scoped>\n",
       "    .dataframe tbody tr th:only-of-type {\n",
       "        vertical-align: middle;\n",
       "    }\n",
       "\n",
       "    .dataframe tbody tr th {\n",
       "        vertical-align: top;\n",
       "    }\n",
       "\n",
       "    .dataframe thead th {\n",
       "        text-align: right;\n",
       "    }\n",
       "</style>\n",
       "<table border=\"1\" class=\"dataframe\">\n",
       "  <thead>\n",
       "    <tr style=\"text-align: right;\">\n",
       "      <th></th>\n",
       "      <th>id</th>\n",
       "      <th>name</th>\n",
       "      <th>chebi</th>\n",
       "      <th>chebi_name</th>\n",
       "    </tr>\n",
       "  </thead>\n",
       "  <tbody>\n",
       "    <tr>\n",
       "      <th>152758</th>\n",
       "      <td>MESH:D058428</td>\n",
       "      <td>Silica Gel</td>\n",
       "      <td>CHEBI:30563</td>\n",
       "      <td>SiO2 [cytosol]</td>\n",
       "    </tr>\n",
       "    <tr>\n",
       "      <th>152774</th>\n",
       "      <td>MESH:D012822</td>\n",
       "      <td>Silicon Dioxide</td>\n",
       "      <td>CHEBI:30563</td>\n",
       "      <td>SiO2 [cytosol]</td>\n",
       "    </tr>\n",
       "  </tbody>\n",
       "</table>\n",
       "</div>"
      ],
      "text/plain": [
       "                  id             name        chebi      chebi_name\n",
       "152758  MESH:D058428       Silica Gel  CHEBI:30563  SiO2 [cytosol]\n",
       "152774  MESH:D012822  Silicon Dioxide  CHEBI:30563  SiO2 [cytosol]"
      ]
     },
     "execution_count": 54,
     "metadata": {},
     "output_type": "execute_result"
    }
   ],
   "source": [
    "group_number = 4\n",
    "grpd.get_group(groups[group_number])[cols]"
   ]
  },
  {
   "cell_type": "code",
   "execution_count": 55,
   "metadata": {},
   "outputs": [],
   "source": [
    "chebi_to_mesh.update({'CHEBI:30563': 'MESH:D012822'})"
   ]
  },
  {
   "cell_type": "markdown",
   "metadata": {},
   "source": [
    "The gel is for Chromotography, so we want Silicon Dioxide"
   ]
  },
  {
   "cell_type": "code",
   "execution_count": 56,
   "metadata": {},
   "outputs": [
    {
     "data": {
      "text/html": [
       "<div>\n",
       "<style scoped>\n",
       "    .dataframe tbody tr th:only-of-type {\n",
       "        vertical-align: middle;\n",
       "    }\n",
       "\n",
       "    .dataframe tbody tr th {\n",
       "        vertical-align: top;\n",
       "    }\n",
       "\n",
       "    .dataframe thead th {\n",
       "        text-align: right;\n",
       "    }\n",
       "</style>\n",
       "<table border=\"1\" class=\"dataframe\">\n",
       "  <thead>\n",
       "    <tr style=\"text-align: right;\">\n",
       "      <th></th>\n",
       "      <th>id</th>\n",
       "      <th>name</th>\n",
       "      <th>chebi</th>\n",
       "      <th>chebi_name</th>\n",
       "    </tr>\n",
       "  </thead>\n",
       "  <tbody>\n",
       "    <tr>\n",
       "      <th>53240</th>\n",
       "      <td>MESH:D000068196</td>\n",
       "      <td>Albumin-Bound Paclitaxel</td>\n",
       "      <td>CHEBI:45863</td>\n",
       "      <td>PTXL [endoplasmic reticulum lumen]</td>\n",
       "    </tr>\n",
       "    <tr>\n",
       "      <th>133550</th>\n",
       "      <td>MESH:C495179</td>\n",
       "      <td>Pacliex</td>\n",
       "      <td>CHEBI:45863</td>\n",
       "      <td>PTXL [endoplasmic reticulum lumen]</td>\n",
       "    </tr>\n",
       "    <tr>\n",
       "      <th>133551</th>\n",
       "      <td>MESH:D017239</td>\n",
       "      <td>Paclitaxel</td>\n",
       "      <td>CHEBI:45863</td>\n",
       "      <td>PTXL [endoplasmic reticulum lumen]</td>\n",
       "    </tr>\n",
       "  </tbody>\n",
       "</table>\n",
       "</div>"
      ],
      "text/plain": [
       "                     id                      name        chebi  \\\n",
       "53240   MESH:D000068196  Albumin-Bound Paclitaxel  CHEBI:45863   \n",
       "133550     MESH:C495179                   Pacliex  CHEBI:45863   \n",
       "133551     MESH:D017239                Paclitaxel  CHEBI:45863   \n",
       "\n",
       "                                chebi_name  \n",
       "53240   PTXL [endoplasmic reticulum lumen]  \n",
       "133550  PTXL [endoplasmic reticulum lumen]  \n",
       "133551  PTXL [endoplasmic reticulum lumen]  "
      ]
     },
     "execution_count": 56,
     "metadata": {},
     "output_type": "execute_result"
    }
   ],
   "source": [
    "group_number = 5\n",
    "grpd.get_group(groups[group_number])[cols]"
   ]
  },
  {
   "cell_type": "markdown",
   "metadata": {},
   "source": [
    "Paclitaxel is the compound while the other two are formulations.... we will stick with just the compound"
   ]
  },
  {
   "cell_type": "code",
   "execution_count": 57,
   "metadata": {},
   "outputs": [],
   "source": [
    "chebi_to_mesh.update({'CHEBI:45863': 'MESH:D017239'})"
   ]
  },
  {
   "cell_type": "code",
   "execution_count": 58,
   "metadata": {},
   "outputs": [
    {
     "data": {
      "text/html": [
       "<div>\n",
       "<style scoped>\n",
       "    .dataframe tbody tr th:only-of-type {\n",
       "        vertical-align: middle;\n",
       "    }\n",
       "\n",
       "    .dataframe tbody tr th {\n",
       "        vertical-align: top;\n",
       "    }\n",
       "\n",
       "    .dataframe thead th {\n",
       "        text-align: right;\n",
       "    }\n",
       "</style>\n",
       "<table border=\"1\" class=\"dataframe\">\n",
       "  <thead>\n",
       "    <tr style=\"text-align: right;\">\n",
       "      <th></th>\n",
       "      <th>id</th>\n",
       "      <th>name</th>\n",
       "      <th>chebi</th>\n",
       "      <th>chebi_name</th>\n",
       "    </tr>\n",
       "  </thead>\n",
       "  <tbody>\n",
       "    <tr>\n",
       "      <th>73911</th>\n",
       "      <td>MESH:C024989</td>\n",
       "      <td>coenzyme Q10</td>\n",
       "      <td>CHEBI:46245</td>\n",
       "      <td>CoQ [mitochondrial inner membrane]</td>\n",
       "    </tr>\n",
       "    <tr>\n",
       "      <th>165263</th>\n",
       "      <td>MESH:D014451</td>\n",
       "      <td>Ubiquinone</td>\n",
       "      <td>CHEBI:46245</td>\n",
       "      <td>CoQ [mitochondrial inner membrane]</td>\n",
       "    </tr>\n",
       "  </tbody>\n",
       "</table>\n",
       "</div>"
      ],
      "text/plain": [
       "                  id          name        chebi  \\\n",
       "73911   MESH:C024989  coenzyme Q10  CHEBI:46245   \n",
       "165263  MESH:D014451    Ubiquinone  CHEBI:46245   \n",
       "\n",
       "                                chebi_name  \n",
       "73911   CoQ [mitochondrial inner membrane]  \n",
       "165263  CoQ [mitochondrial inner membrane]  "
      ]
     },
     "execution_count": 58,
     "metadata": {},
     "output_type": "execute_result"
    }
   ],
   "source": [
    "group_number = 6\n",
    "grpd.get_group(groups[group_number])[cols]"
   ]
  },
  {
   "cell_type": "markdown",
   "metadata": {},
   "source": [
    "These are esssentiall synonyms... Both of these are highly represented and explicit, so we will continue to use both."
   ]
  },
  {
   "cell_type": "code",
   "execution_count": 59,
   "metadata": {
    "scrolled": true
   },
   "outputs": [
    {
     "data": {
      "text/html": [
       "<div>\n",
       "<style scoped>\n",
       "    .dataframe tbody tr th:only-of-type {\n",
       "        vertical-align: middle;\n",
       "    }\n",
       "\n",
       "    .dataframe tbody tr th {\n",
       "        vertical-align: top;\n",
       "    }\n",
       "\n",
       "    .dataframe thead th {\n",
       "        text-align: right;\n",
       "    }\n",
       "</style>\n",
       "<table border=\"1\" class=\"dataframe\">\n",
       "  <thead>\n",
       "    <tr style=\"text-align: right;\">\n",
       "      <th></th>\n",
       "      <th>id</th>\n",
       "      <th>name</th>\n",
       "      <th>chebi</th>\n",
       "      <th>chebi_name</th>\n",
       "    </tr>\n",
       "  </thead>\n",
       "  <tbody>\n",
       "    <tr>\n",
       "      <th>55013</th>\n",
       "      <td>MESH:D000613</td>\n",
       "      <td>Aminobutyrates</td>\n",
       "      <td>CHEBI:59888</td>\n",
       "      <td>GABA [extracellular region]</td>\n",
       "    </tr>\n",
       "    <tr>\n",
       "      <th>93401</th>\n",
       "      <td>MESH:D005680</td>\n",
       "      <td>gamma-Aminobutyric Acid</td>\n",
       "      <td>CHEBI:59888</td>\n",
       "      <td>GABA [extracellular region]</td>\n",
       "    </tr>\n",
       "  </tbody>\n",
       "</table>\n",
       "</div>"
      ],
      "text/plain": [
       "                 id                     name        chebi  \\\n",
       "55013  MESH:D000613           Aminobutyrates  CHEBI:59888   \n",
       "93401  MESH:D005680  gamma-Aminobutyric Acid  CHEBI:59888   \n",
       "\n",
       "                        chebi_name  \n",
       "55013  GABA [extracellular region]  \n",
       "93401  GABA [extracellular region]  "
      ]
     },
     "execution_count": 59,
     "metadata": {},
     "output_type": "execute_result"
    }
   ],
   "source": [
    "group_number = 7\n",
    "grpd.get_group(groups[group_number])[cols]"
   ]
  },
  {
   "cell_type": "markdown",
   "metadata": {},
   "source": [
    "Chebi usses the more spefcific term, GABA, so we will keep that one only."
   ]
  },
  {
   "cell_type": "code",
   "execution_count": 60,
   "metadata": {},
   "outputs": [],
   "source": [
    "chebi_to_mesh.update({'CHEBI:59888': 'MESH:D005680'})"
   ]
  },
  {
   "cell_type": "code",
   "execution_count": 61,
   "metadata": {
    "scrolled": true
   },
   "outputs": [
    {
     "data": {
      "text/html": [
       "<div>\n",
       "<style scoped>\n",
       "    .dataframe tbody tr th:only-of-type {\n",
       "        vertical-align: middle;\n",
       "    }\n",
       "\n",
       "    .dataframe tbody tr th {\n",
       "        vertical-align: top;\n",
       "    }\n",
       "\n",
       "    .dataframe thead th {\n",
       "        text-align: right;\n",
       "    }\n",
       "</style>\n",
       "<table border=\"1\" class=\"dataframe\">\n",
       "  <thead>\n",
       "    <tr style=\"text-align: right;\">\n",
       "      <th></th>\n",
       "      <th>id</th>\n",
       "      <th>name</th>\n",
       "      <th>chebi</th>\n",
       "      <th>chebi_name</th>\n",
       "    </tr>\n",
       "  </thead>\n",
       "  <tbody>\n",
       "    <tr>\n",
       "      <th>114062</th>\n",
       "      <td>MESH:C030814</td>\n",
       "      <td>menatetrenone</td>\n",
       "      <td>CHEBI:78277</td>\n",
       "      <td>MK4 [endoplasmic reticulum lumen]</td>\n",
       "    </tr>\n",
       "    <tr>\n",
       "      <th>167630</th>\n",
       "      <td>MESH:D024482</td>\n",
       "      <td>Vitamin K 2</td>\n",
       "      <td>CHEBI:78277</td>\n",
       "      <td>MK4 [endoplasmic reticulum lumen]</td>\n",
       "    </tr>\n",
       "  </tbody>\n",
       "</table>\n",
       "</div>"
      ],
      "text/plain": [
       "                  id           name        chebi  \\\n",
       "114062  MESH:C030814  menatetrenone  CHEBI:78277   \n",
       "167630  MESH:D024482    Vitamin K 2  CHEBI:78277   \n",
       "\n",
       "                               chebi_name  \n",
       "114062  MK4 [endoplasmic reticulum lumen]  \n",
       "167630  MK4 [endoplasmic reticulum lumen]  "
      ]
     },
     "execution_count": 61,
     "metadata": {},
     "output_type": "execute_result"
    }
   ],
   "source": [
    "group_number = 8\n",
    "grpd.get_group(groups[group_number])[cols]"
   ]
  },
  {
   "cell_type": "markdown",
   "metadata": {},
   "source": [
    "The Chebi name is 'MK4' which more closely aligns with menatetrenone.  "
   ]
  },
  {
   "cell_type": "code",
   "execution_count": 62,
   "metadata": {},
   "outputs": [],
   "source": [
    "chebi_to_mesh.update({'CHEBI:78277': 'MESH:C030814'})"
   ]
  },
  {
   "cell_type": "markdown",
   "metadata": {},
   "source": [
    "#### Finishing the mappings and making the edges and new nodes\n",
    "\n",
    "So now we've updated our Chebi to MeSH map:\n",
    "\n",
    "1. to make some chebi to mesh through a DrugBank Intermediary\n",
    "2. to map some chebi to mesh by name\n",
    "3. To resolve some 1 chebi to multiple mesh issues...\n",
    "\n",
    "So now we will:\n",
    "\n",
    "1. reapply the chebi to mesh mappings\n",
    "2. remove mesh ids that aren't already in the network\n",
    "3. keep any new chem nodes as ChEBI identifiers\n",
    "4. Keep track of any new drugbank or chebi mappings for current nodes"
   ]
  },
  {
   "cell_type": "code",
   "execution_count": 63,
   "metadata": {},
   "outputs": [],
   "source": [
    "# still have some drugbank ids in the chebi_to_mesh mappers, so lets remove...\n",
    "chebi_to_mesh = {k: v for k, v in chebi_to_mesh.items() if not v.startswith('DB:')}"
   ]
  },
  {
   "cell_type": "code",
   "execution_count": 64,
   "metadata": {
    "scrolled": true
   },
   "outputs": [
    {
     "data": {
      "text/plain": [
       "(675, 676)"
      ]
     },
     "execution_count": 64,
     "metadata": {},
     "output_type": "execute_result"
    }
   ],
   "source": [
    "# Make a mesh to chebi map\n",
    "mesh_to_chebi = dict()\n",
    "for k, v in chebi_to_mesh.items():\n",
    "    if not v.startswith('DB:'):\n",
    "        if '|' in v:\n",
    "            for vsplit in v.split('|'):\n",
    "                mesh_to_chebi[vsplit] = k\n",
    "        else:\n",
    "            mesh_to_chebi[v] = k\n",
    "len(mesh_to_chebi), len(chebi_to_mesh)"
   ]
  },
  {
   "cell_type": "code",
   "execution_count": 65,
   "metadata": {
    "scrolled": true
   },
   "outputs": [
    {
     "name": "stdout",
     "output_type": "stream",
     "text": [
      "17533\n",
      "38843\n",
      "38864\n"
     ]
    },
    {
     "data": {
      "text/html": [
       "<div>\n",
       "<style scoped>\n",
       "    .dataframe tbody tr th:only-of-type {\n",
       "        vertical-align: middle;\n",
       "    }\n",
       "\n",
       "    .dataframe tbody tr th {\n",
       "        vertical-align: top;\n",
       "    }\n",
       "\n",
       "    .dataframe thead th {\n",
       "        text-align: right;\n",
       "    }\n",
       "</style>\n",
       "<table border=\"1\" class=\"dataframe\">\n",
       "  <thead>\n",
       "    <tr style=\"text-align: right;\">\n",
       "      <th></th>\n",
       "      <th>start_id</th>\n",
       "      <th>end_id</th>\n",
       "      <th>evidence_code</th>\n",
       "      <th>type</th>\n",
       "    </tr>\n",
       "  </thead>\n",
       "  <tbody>\n",
       "    <tr>\n",
       "      <th>0</th>\n",
       "      <td>MESH:D014859</td>\n",
       "      <td>REACT:R-HSA-1430728</td>\n",
       "      <td>TAS</td>\n",
       "      <td>part_of_CpoPW</td>\n",
       "    </tr>\n",
       "    <tr>\n",
       "      <th>1</th>\n",
       "      <td>MESH:D014859</td>\n",
       "      <td>REACT:R-HSA-196854</td>\n",
       "      <td>TAS</td>\n",
       "      <td>part_of_CpoPW</td>\n",
       "    </tr>\n",
       "  </tbody>\n",
       "</table>\n",
       "</div>"
      ],
      "text/plain": [
       "       start_id               end_id evidence_code           type\n",
       "0  MESH:D014859  REACT:R-HSA-1430728           TAS  part_of_CpoPW\n",
       "1  MESH:D014859   REACT:R-HSA-196854           TAS  part_of_CpoPW"
      ]
     },
     "execution_count": 65,
     "metadata": {},
     "output_type": "execute_result"
    }
   ],
   "source": [
    "# Now that we've got some new mapping files, re-load and start over...\n",
    "chem_pw = read_reactome(load_dir.joinpath('ChEBI2Reactome_PE_All_Levels.txt'))\n",
    "chem_hpw = chem_pw.query('taxon == \"Homo sapiens\"').copy()\n",
    "chem_hpw['external_id'] = 'CHEBI:' + chem_hpw['external_id']\n",
    "chem_hpw['mesh_id'] = chem_hpw['external_id'].map(chebi_to_mesh)\n",
    "\n",
    "# Expand the multiple mesh_id_mappings...\n",
    "print(chem_hpw['mesh_id'].count())\n",
    "chm_exp = expand_col_on_char(chem_hpw.dropna(subset=['mesh_id']), 'mesh_id', '|')\n",
    "chm_mappable = chm_exp.query('mesh_id in @all_node_ids').copy()\n",
    "\n",
    "# Get the unmappable ones...\n",
    "null_lines = chem_hpw['mesh_id'].isnull()\n",
    "not_in_net_lines = chm_exp.query('mesh_id not in @all_node_ids')\n",
    "chm_unmappable = pd.concat([chem_hpw[null_lines], not_in_net_lines], sort=False)\n",
    "chm_unmappable['mesh_id'] = chm_unmappable['external_id']\n",
    "\n",
    "# Create new Chem Nodes with the Unmappables\n",
    "new_chems = chm_unmappable.copy()\n",
    "new_chems['pe_name'] = new_chems['pe_name'].str.split(' \\[', expand=True)[0]\n",
    "new_chems = new_chems[['external_id', 'pe_name']].drop_duplicates()\n",
    "new_chems.columns = [c.split('_')[-1] for c in new_chems.columns]\n",
    "new_chems['label'] = 'Compound'\n",
    "\n",
    "# Now make the edges...\n",
    "print(len(chem_hpw))\n",
    "cpw_edges = pd.concat([chm_mappable, chm_unmappable], sort=False)\n",
    "print(len(cpw_edges))\n",
    "\n",
    "cpw_edges = cpw_edges[['mesh_id', 'reactome_id', 'evidence_code']].dropna().copy()\n",
    "cpw_edges.columns = ['start_id', 'end_id', 'evidence_code']\n",
    "cpw_edges['end_id'] = 'REACT:' + cpw_edges['end_id']\n",
    "cpw_edges['type'] = 'part_of_CpoPW'\n",
    "cpw_edges.head(2)"
   ]
  },
  {
   "cell_type": "code",
   "execution_count": 66,
   "metadata": {},
   "outputs": [
    {
     "data": {
      "text/plain": [
       "1444"
      ]
     },
     "execution_count": 66,
     "metadata": {},
     "output_type": "execute_result"
    }
   ],
   "source": [
    "new_chems['id'].nunique()"
   ]
  },
  {
   "cell_type": "code",
   "execution_count": 67,
   "metadata": {},
   "outputs": [
    {
     "data": {
      "text/plain": [
       "1873"
      ]
     },
     "execution_count": 67,
     "metadata": {},
     "output_type": "execute_result"
    }
   ],
   "source": [
    "len(new_chems)"
   ]
  },
  {
   "cell_type": "code",
   "execution_count": 68,
   "metadata": {},
   "outputs": [],
   "source": [
    "duped_chebis = new_chems[new_chems['id'].duplicated()]['id'].unique()"
   ]
  },
  {
   "cell_type": "code",
   "execution_count": 69,
   "metadata": {},
   "outputs": [
    {
     "name": "stdout",
     "output_type": "stream",
     "text": [
      "querying 1-130...done.\n"
     ]
    }
   ],
   "source": [
    "res1 = mc.getchems(duped_chebis, fields=['chebi.name'])"
   ]
  },
  {
   "cell_type": "code",
   "execution_count": 70,
   "metadata": {},
   "outputs": [],
   "source": [
    "chebi_to_name = {r['query']: r['chebi']['name'] for r in res1 if 'notfound' not in r}"
   ]
  },
  {
   "cell_type": "code",
   "execution_count": 71,
   "metadata": {},
   "outputs": [
    {
     "data": {
      "text/plain": [
       "101"
      ]
     },
     "execution_count": 71,
     "metadata": {},
     "output_type": "execute_result"
    }
   ],
   "source": [
    "len(chebi_to_name)"
   ]
  },
  {
   "cell_type": "code",
   "execution_count": 72,
   "metadata": {},
   "outputs": [],
   "source": [
    "new_chems['new_name'] = new_chems['id'].map(chebi_to_name)\n",
    "new_chems['new_name'] = new_chems['new_name'].fillna(new_chems['name'])"
   ]
  },
  {
   "cell_type": "code",
   "execution_count": 73,
   "metadata": {},
   "outputs": [
    {
     "data": {
      "text/plain": [
       "29"
      ]
     },
     "execution_count": 73,
     "metadata": {},
     "output_type": "execute_result"
    }
   ],
   "source": [
    "idx = new_chems.drop_duplicates(subset=['id', 'new_name'])['id'].duplicated()\n",
    "idx = idx[idx].index\n",
    "new_chems.loc[idx, 'id'].nunique()"
   ]
  },
  {
   "cell_type": "markdown",
   "metadata": {},
   "source": [
    "29 Is a small enough number to curate..."
   ]
  },
  {
   "cell_type": "code",
   "execution_count": 74,
   "metadata": {},
   "outputs": [],
   "source": [
    "chebi_to_name_1 = {'CHEBI:138674': \"10(S),17(S)-dihydroxy-omega 6-docosapentaenoic acid\",\n",
    "    'CHEBI:15748': \"D-glucuronate\",\n",
    "    'CHEBI:17843': \"transfer RNA\",\n",
    "    'CHEBI:25372': \"molybdopterin cofactor\",\n",
    "    'CHEBI:25676': \"oligopeptide\",\n",
    "    'CHEBI:29167': \"tRNA-Cys\",\n",
    "    'CHEBI:29168': \"tRNA-Gln\",\n",
    "    'CHEBI:29169': \"tRNA-Leu\",\n",
    "    'CHEBI:29170': \"tRNA-Ala\",\n",
    "    'CHEBI:29171': \"tRNA-Arg\",\n",
    "    'CHEBI:29173': \"tRNA-Met\",\n",
    "    'CHEBI:29174': \"tRNA-Ile\",\n",
    "    'CHEBI:29175': \"tRNA-Glu\",\n",
    "    'CHEBI:29176': \"tRNA-Gly\",\n",
    "    'CHEBI:29177': \"tRNA-Pro\",\n",
    "    'CHEBI:29178': \"tRNA-His\",\n",
    "    'CHEBI:29179': \"tRNA-Ser\",\n",
    "    'CHEBI:29180': \"tRNA-Thr\",\n",
    "    'CHEBI:29182': \"tRNA-Tyr\",\n",
    "    'CHEBI:29183': \"tRNA-Val\",\n",
    "    'CHEBI:29184': \"tRNA-Phe\",\n",
    "    'CHEBI:29185': \"tRNA-Lys\",\n",
    "    'CHEBI:29186': \"tRNA-Asp\",\n",
    "    'CHEBI:33697': \"ribonucleic acid\",\n",
    "    'CHEBI:33699': \"messenger RNA\",\n",
    "    'CHEBI:4705': \"double-stranded DNA\",\n",
    "    'CHEBI:59524': \"lipoarabinomannan\",\n",
    "    'CHEBI:67208': \"double-stranded RNA\",\n",
    "    'CHEBI:9160': \"single-stranded DNA\",}"
   ]
  },
  {
   "cell_type": "code",
   "execution_count": 75,
   "metadata": {},
   "outputs": [
    {
     "data": {
      "text/plain": [
       "0"
      ]
     },
     "execution_count": 75,
     "metadata": {},
     "output_type": "execute_result"
    }
   ],
   "source": [
    "new_chems['new_name'] = new_chems['id'].map({**chebi_to_name, **chebi_to_name_1})\n",
    "new_chems['new_name'] = new_chems['new_name'].fillna(new_chems['name'])\n",
    "\n",
    "new_chems.drop_duplicates(subset=['id', 'new_name'])['id'].duplicated().sum()"
   ]
  },
  {
   "cell_type": "code",
   "execution_count": 76,
   "metadata": {},
   "outputs": [
    {
     "data": {
      "text/html": [
       "<div>\n",
       "<style scoped>\n",
       "    .dataframe tbody tr th:only-of-type {\n",
       "        vertical-align: middle;\n",
       "    }\n",
       "\n",
       "    .dataframe tbody tr th {\n",
       "        vertical-align: top;\n",
       "    }\n",
       "\n",
       "    .dataframe thead th {\n",
       "        text-align: right;\n",
       "    }\n",
       "</style>\n",
       "<table border=\"1\" class=\"dataframe\">\n",
       "  <thead>\n",
       "    <tr style=\"text-align: right;\">\n",
       "      <th></th>\n",
       "      <th>id</th>\n",
       "      <th>name</th>\n",
       "      <th>label</th>\n",
       "    </tr>\n",
       "  </thead>\n",
       "  <tbody>\n",
       "    <tr>\n",
       "      <th>62</th>\n",
       "      <td>CHEBI:10036</td>\n",
       "      <td>arachidyl ester</td>\n",
       "      <td>Compound</td>\n",
       "    </tr>\n",
       "    <tr>\n",
       "      <th>125</th>\n",
       "      <td>CHEBI:10049</td>\n",
       "      <td>XTP</td>\n",
       "      <td>Compound</td>\n",
       "    </tr>\n",
       "  </tbody>\n",
       "</table>\n",
       "</div>"
      ],
      "text/plain": [
       "              id             name     label\n",
       "62   CHEBI:10036  arachidyl ester  Compound\n",
       "125  CHEBI:10049              XTP  Compound"
      ]
     },
     "execution_count": 76,
     "metadata": {},
     "output_type": "execute_result"
    }
   ],
   "source": [
    "new_chems = new_chems.drop('name', axis=1).rename(columns={'new_name': 'name'}).drop_duplicates(subset=['id', 'name'])\n",
    "new_chems[['id', 'name', 'label']].head(2)"
   ]
  },
  {
   "cell_type": "code",
   "execution_count": 77,
   "metadata": {},
   "outputs": [],
   "source": [
    "new_chems['drug_bank_ids'] = new_chems['id'].map(chebi_to_db)\n",
    "new_chems['mesh_ids'] = new_chems['id'].map(chebi_to_mesh)"
   ]
  },
  {
   "cell_type": "code",
   "execution_count": 78,
   "metadata": {},
   "outputs": [
    {
     "data": {
      "text/html": [
       "<div>\n",
       "<style scoped>\n",
       "    .dataframe tbody tr th:only-of-type {\n",
       "        vertical-align: middle;\n",
       "    }\n",
       "\n",
       "    .dataframe tbody tr th {\n",
       "        vertical-align: top;\n",
       "    }\n",
       "\n",
       "    .dataframe thead th {\n",
       "        text-align: right;\n",
       "    }\n",
       "</style>\n",
       "<table border=\"1\" class=\"dataframe\">\n",
       "  <thead>\n",
       "    <tr style=\"text-align: right;\">\n",
       "      <th></th>\n",
       "      <th>id</th>\n",
       "      <th>label</th>\n",
       "      <th>name</th>\n",
       "      <th>drug_bank_ids</th>\n",
       "      <th>mesh_ids</th>\n",
       "    </tr>\n",
       "  </thead>\n",
       "  <tbody>\n",
       "    <tr>\n",
       "      <th>62</th>\n",
       "      <td>CHEBI:10036</td>\n",
       "      <td>Compound</td>\n",
       "      <td>arachidyl ester</td>\n",
       "      <td>NaN</td>\n",
       "      <td>NaN</td>\n",
       "    </tr>\n",
       "    <tr>\n",
       "      <th>125</th>\n",
       "      <td>CHEBI:10049</td>\n",
       "      <td>Compound</td>\n",
       "      <td>XTP</td>\n",
       "      <td>NaN</td>\n",
       "      <td>NaN</td>\n",
       "    </tr>\n",
       "  </tbody>\n",
       "</table>\n",
       "</div>"
      ],
      "text/plain": [
       "              id     label             name drug_bank_ids mesh_ids\n",
       "62   CHEBI:10036  Compound  arachidyl ester           NaN      NaN\n",
       "125  CHEBI:10049  Compound              XTP           NaN      NaN"
      ]
     },
     "execution_count": 78,
     "metadata": {},
     "output_type": "execute_result"
    }
   ],
   "source": [
    "new_chems.head(2)"
   ]
  },
  {
   "cell_type": "code",
   "execution_count": 79,
   "metadata": {},
   "outputs": [],
   "source": [
    "reactome_ids = set(new_pw_nodes['id']) | set(all_node_ids)\n",
    "\n",
    "new_reactome_ids = cpw_edges.query('end_id not in @reactome_ids')['end_id'].unique()\n",
    "new_reactome_ids  = [c.split(':')[1] for c in new_reactome_ids]\n",
    "\n",
    "new_pw_nodes1 = chem_hpw.query('reactome_id in @new_reactome_ids').drop_duplicates(subset=['reactome_id'])\n",
    "new_pw_nodes1 = new_pw_nodes1[['reactome_id', 'reactome_name']]\n",
    "new_pw_nodes1.columns = ['id', 'name']\n",
    "new_pw_nodes1['label'] = 'Pathway'"
   ]
  },
  {
   "cell_type": "code",
   "execution_count": 80,
   "metadata": {},
   "outputs": [
    {
     "data": {
      "text/html": [
       "<div>\n",
       "<style scoped>\n",
       "    .dataframe tbody tr th:only-of-type {\n",
       "        vertical-align: middle;\n",
       "    }\n",
       "\n",
       "    .dataframe tbody tr th {\n",
       "        vertical-align: top;\n",
       "    }\n",
       "\n",
       "    .dataframe thead th {\n",
       "        text-align: right;\n",
       "    }\n",
       "</style>\n",
       "<table border=\"1\" class=\"dataframe\">\n",
       "  <thead>\n",
       "    <tr style=\"text-align: right;\">\n",
       "      <th></th>\n",
       "      <th>id</th>\n",
       "      <th>name</th>\n",
       "      <th>label</th>\n",
       "    </tr>\n",
       "  </thead>\n",
       "  <tbody>\n",
       "    <tr>\n",
       "      <th>21427</th>\n",
       "      <td>R-HSA-2408499</td>\n",
       "      <td>Formation of selenosugars for excretion</td>\n",
       "      <td>Pathway</td>\n",
       "    </tr>\n",
       "    <tr>\n",
       "      <th>79122</th>\n",
       "      <td>R-HSA-1855156</td>\n",
       "      <td>IPs transport between ER lumen and nucleus</td>\n",
       "      <td>Pathway</td>\n",
       "    </tr>\n",
       "    <tr>\n",
       "      <th>84118</th>\n",
       "      <td>R-HSA-1660524</td>\n",
       "      <td>PIPs transport between plasma and early endoso...</td>\n",
       "      <td>Pathway</td>\n",
       "    </tr>\n",
       "    <tr>\n",
       "      <th>84375</th>\n",
       "      <td>R-HSA-1855196</td>\n",
       "      <td>IP3 and IP4 transport between cytosol and nucleus</td>\n",
       "      <td>Pathway</td>\n",
       "    </tr>\n",
       "    <tr>\n",
       "      <th>93447</th>\n",
       "      <td>R-HSA-1855170</td>\n",
       "      <td>IPs transport between nucleus and cytosol</td>\n",
       "      <td>Pathway</td>\n",
       "    </tr>\n",
       "    <tr>\n",
       "      <th>93449</th>\n",
       "      <td>R-HSA-1855184</td>\n",
       "      <td>IPs transport between cytosol and ER lumen</td>\n",
       "      <td>Pathway</td>\n",
       "    </tr>\n",
       "    <tr>\n",
       "      <th>93452</th>\n",
       "      <td>R-HSA-1855215</td>\n",
       "      <td>IPs transport between ER lumen and cytosol</td>\n",
       "      <td>Pathway</td>\n",
       "    </tr>\n",
       "    <tr>\n",
       "      <th>128761</th>\n",
       "      <td>R-HSA-1660502</td>\n",
       "      <td>PIPs transport between early and late endosome...</td>\n",
       "      <td>Pathway</td>\n",
       "    </tr>\n",
       "    <tr>\n",
       "      <th>128763</th>\n",
       "      <td>R-HSA-1660508</td>\n",
       "      <td>PIPs transport between late endosome and Golgi...</td>\n",
       "      <td>Pathway</td>\n",
       "    </tr>\n",
       "    <tr>\n",
       "      <th>128771</th>\n",
       "      <td>R-HSA-1660537</td>\n",
       "      <td>PIPs transport between early endosome and Golg...</td>\n",
       "      <td>Pathway</td>\n",
       "    </tr>\n",
       "    <tr>\n",
       "      <th>147287</th>\n",
       "      <td>R-HSA-1855192</td>\n",
       "      <td>IPs transport between nucleus and ER lumen</td>\n",
       "      <td>Pathway</td>\n",
       "    </tr>\n",
       "    <tr>\n",
       "      <th>147289</th>\n",
       "      <td>R-HSA-1855229</td>\n",
       "      <td>IP6 and IP7 transport between cytosol and nucleus</td>\n",
       "      <td>Pathway</td>\n",
       "    </tr>\n",
       "    <tr>\n",
       "      <th>150825</th>\n",
       "      <td>R-HSA-1483171</td>\n",
       "      <td>Synthesis of BMP</td>\n",
       "      <td>Pathway</td>\n",
       "    </tr>\n",
       "    <tr>\n",
       "      <th>151354</th>\n",
       "      <td>R-HSA-1660510</td>\n",
       "      <td>PIPs transport between Golgi and plasma membranes</td>\n",
       "      <td>Pathway</td>\n",
       "    </tr>\n",
       "  </tbody>\n",
       "</table>\n",
       "</div>"
      ],
      "text/plain": [
       "                   id                                               name  \\\n",
       "21427   R-HSA-2408499            Formation of selenosugars for excretion   \n",
       "79122   R-HSA-1855156         IPs transport between ER lumen and nucleus   \n",
       "84118   R-HSA-1660524  PIPs transport between plasma and early endoso...   \n",
       "84375   R-HSA-1855196  IP3 and IP4 transport between cytosol and nucleus   \n",
       "93447   R-HSA-1855170          IPs transport between nucleus and cytosol   \n",
       "93449   R-HSA-1855184         IPs transport between cytosol and ER lumen   \n",
       "93452   R-HSA-1855215         IPs transport between ER lumen and cytosol   \n",
       "128761  R-HSA-1660502  PIPs transport between early and late endosome...   \n",
       "128763  R-HSA-1660508  PIPs transport between late endosome and Golgi...   \n",
       "128771  R-HSA-1660537  PIPs transport between early endosome and Golg...   \n",
       "147287  R-HSA-1855192         IPs transport between nucleus and ER lumen   \n",
       "147289  R-HSA-1855229  IP6 and IP7 transport between cytosol and nucleus   \n",
       "150825  R-HSA-1483171                                   Synthesis of BMP   \n",
       "151354  R-HSA-1660510  PIPs transport between Golgi and plasma membranes   \n",
       "\n",
       "          label  \n",
       "21427   Pathway  \n",
       "79122   Pathway  \n",
       "84118   Pathway  \n",
       "84375   Pathway  \n",
       "93447   Pathway  \n",
       "93449   Pathway  \n",
       "93452   Pathway  \n",
       "128761  Pathway  \n",
       "128763  Pathway  \n",
       "128771  Pathway  \n",
       "147287  Pathway  \n",
       "147289  Pathway  \n",
       "150825  Pathway  \n",
       "151354  Pathway  "
      ]
     },
     "execution_count": 80,
     "metadata": {},
     "output_type": "execute_result"
    }
   ],
   "source": [
    "new_pw_nodes1"
   ]
  },
  {
   "cell_type": "code",
   "execution_count": 81,
   "metadata": {},
   "outputs": [],
   "source": [
    "new_nodes.append(new_pw_nodes1)\n",
    "new_nodes.append(new_chems)\n",
    "new_edges.append(cpw_edges)"
   ]
  },
  {
   "cell_type": "markdown",
   "metadata": {},
   "source": [
    "# MicroRNA to Pathways"
   ]
  },
  {
   "cell_type": "code",
   "execution_count": 82,
   "metadata": {},
   "outputs": [],
   "source": [
    "mir = read_reactome(load_dir.joinpath('miRBase2Reactome_PE_All_Levels.txt'))\n",
    "hmir = mir.query('taxon == \"Homo sapiens\"').copy()\n",
    "hmir_names = hmir['pe_name'].str.split(' ', expand=True)[0]"
   ]
  },
  {
   "cell_type": "code",
   "execution_count": 83,
   "metadata": {},
   "outputs": [
    {
     "data": {
      "text/html": [
       "<div>\n",
       "<style scoped>\n",
       "    .dataframe tbody tr th:only-of-type {\n",
       "        vertical-align: middle;\n",
       "    }\n",
       "\n",
       "    .dataframe tbody tr th {\n",
       "        vertical-align: top;\n",
       "    }\n",
       "\n",
       "    .dataframe thead th {\n",
       "        text-align: right;\n",
       "    }\n",
       "</style>\n",
       "<table border=\"1\" class=\"dataframe\">\n",
       "  <thead>\n",
       "    <tr style=\"text-align: right;\">\n",
       "      <th></th>\n",
       "      <th>external_id</th>\n",
       "      <th>pe_reactome_id</th>\n",
       "      <th>pe_name</th>\n",
       "      <th>reactome_id</th>\n",
       "      <th>reactome_url</th>\n",
       "      <th>reactome_name</th>\n",
       "      <th>evidence_code</th>\n",
       "      <th>taxon</th>\n",
       "    </tr>\n",
       "  </thead>\n",
       "  <tbody>\n",
       "    <tr>\n",
       "      <th>0</th>\n",
       "      <td>MI0000071</td>\n",
       "      <td>R-HSA-8938437</td>\n",
       "      <td>miR-17 [cytosol]</td>\n",
       "      <td>R-HSA-1257604</td>\n",
       "      <td>https://reactome.org/PathwayBrowser/#/R-HSA-12...</td>\n",
       "      <td>PIP3 activates AKT signaling</td>\n",
       "      <td>TAS</td>\n",
       "      <td>Homo sapiens</td>\n",
       "    </tr>\n",
       "    <tr>\n",
       "      <th>1</th>\n",
       "      <td>MI0000071</td>\n",
       "      <td>R-HSA-8938437</td>\n",
       "      <td>miR-17 [cytosol]</td>\n",
       "      <td>R-HSA-162582</td>\n",
       "      <td>https://reactome.org/PathwayBrowser/#/R-HSA-16...</td>\n",
       "      <td>Signal Transduction</td>\n",
       "      <td>TAS</td>\n",
       "      <td>Homo sapiens</td>\n",
       "    </tr>\n",
       "  </tbody>\n",
       "</table>\n",
       "</div>"
      ],
      "text/plain": [
       "  external_id pe_reactome_id           pe_name    reactome_id  \\\n",
       "0   MI0000071  R-HSA-8938437  miR-17 [cytosol]  R-HSA-1257604   \n",
       "1   MI0000071  R-HSA-8938437  miR-17 [cytosol]   R-HSA-162582   \n",
       "\n",
       "                                        reactome_url  \\\n",
       "0  https://reactome.org/PathwayBrowser/#/R-HSA-12...   \n",
       "1  https://reactome.org/PathwayBrowser/#/R-HSA-16...   \n",
       "\n",
       "                  reactome_name evidence_code         taxon  \n",
       "0  PIP3 activates AKT signaling           TAS  Homo sapiens  \n",
       "1           Signal Transduction           TAS  Homo sapiens  "
      ]
     },
     "execution_count": 83,
     "metadata": {},
     "output_type": "execute_result"
    }
   ],
   "source": [
    "hmir.head(2)"
   ]
  },
  {
   "cell_type": "markdown",
   "metadata": {},
   "source": [
    "External IDs are in mirbase form... need them in RNACentral Form... Luckily RNACentral has cross-references"
   ]
  },
  {
   "cell_type": "code",
   "execution_count": 84,
   "metadata": {},
   "outputs": [],
   "source": [
    "mirbase = pd.read_csv(load_dir.joinpath('mirbase.tsv'), sep='\\t', header=None, dtype=str,\n",
    "            names=['int_id', 'db_name', 'ext_id', 'tax_id', 'mir'], usecols=list(range(5)))"
   ]
  },
  {
   "cell_type": "code",
   "execution_count": 85,
   "metadata": {},
   "outputs": [],
   "source": [
    "hmirbase = mirbase.query('tax_id == \"9606\"').copy()\n",
    "hmirbase['int_id'] = hmirbase['int_id'] + '_9606'\n",
    "mirbase_to_rnac = hmirbase.set_index('ext_id')['int_id'].to_dict()"
   ]
  },
  {
   "cell_type": "code",
   "execution_count": 86,
   "metadata": {
    "scrolled": false
   },
   "outputs": [
    {
     "data": {
      "text/html": [
       "<div>\n",
       "<style scoped>\n",
       "    .dataframe tbody tr th:only-of-type {\n",
       "        vertical-align: middle;\n",
       "    }\n",
       "\n",
       "    .dataframe tbody tr th {\n",
       "        vertical-align: top;\n",
       "    }\n",
       "\n",
       "    .dataframe thead th {\n",
       "        text-align: right;\n",
       "    }\n",
       "</style>\n",
       "<table border=\"1\" class=\"dataframe\">\n",
       "  <thead>\n",
       "    <tr style=\"text-align: right;\">\n",
       "      <th></th>\n",
       "      <th>external_id</th>\n",
       "      <th>pe_reactome_id</th>\n",
       "      <th>pe_name</th>\n",
       "      <th>reactome_id</th>\n",
       "      <th>reactome_url</th>\n",
       "      <th>reactome_name</th>\n",
       "      <th>evidence_code</th>\n",
       "      <th>taxon</th>\n",
       "      <th>rnac_id</th>\n",
       "    </tr>\n",
       "  </thead>\n",
       "  <tbody>\n",
       "    <tr>\n",
       "      <th>0</th>\n",
       "      <td>MI0000071</td>\n",
       "      <td>R-HSA-8938437</td>\n",
       "      <td>miR-17 [cytosol]</td>\n",
       "      <td>R-HSA-1257604</td>\n",
       "      <td>https://reactome.org/PathwayBrowser/#/R-HSA-12...</td>\n",
       "      <td>PIP3 activates AKT signaling</td>\n",
       "      <td>TAS</td>\n",
       "      <td>Homo sapiens</td>\n",
       "      <td>URS000032AA22_9606</td>\n",
       "    </tr>\n",
       "    <tr>\n",
       "      <th>1</th>\n",
       "      <td>MI0000071</td>\n",
       "      <td>R-HSA-8938437</td>\n",
       "      <td>miR-17 [cytosol]</td>\n",
       "      <td>R-HSA-162582</td>\n",
       "      <td>https://reactome.org/PathwayBrowser/#/R-HSA-16...</td>\n",
       "      <td>Signal Transduction</td>\n",
       "      <td>TAS</td>\n",
       "      <td>Homo sapiens</td>\n",
       "      <td>URS000032AA22_9606</td>\n",
       "    </tr>\n",
       "  </tbody>\n",
       "</table>\n",
       "</div>"
      ],
      "text/plain": [
       "  external_id pe_reactome_id           pe_name    reactome_id  \\\n",
       "0   MI0000071  R-HSA-8938437  miR-17 [cytosol]  R-HSA-1257604   \n",
       "1   MI0000071  R-HSA-8938437  miR-17 [cytosol]   R-HSA-162582   \n",
       "\n",
       "                                        reactome_url  \\\n",
       "0  https://reactome.org/PathwayBrowser/#/R-HSA-12...   \n",
       "1  https://reactome.org/PathwayBrowser/#/R-HSA-16...   \n",
       "\n",
       "                  reactome_name evidence_code         taxon  \\\n",
       "0  PIP3 activates AKT signaling           TAS  Homo sapiens   \n",
       "1           Signal Transduction           TAS  Homo sapiens   \n",
       "\n",
       "              rnac_id  \n",
       "0  URS000032AA22_9606  \n",
       "1  URS000032AA22_9606  "
      ]
     },
     "execution_count": 86,
     "metadata": {},
     "output_type": "execute_result"
    }
   ],
   "source": [
    "hmir['rnac_id'] = mir['external_id'].map(mirbase_to_rnac)\n",
    "hmir.head(2)"
   ]
  },
  {
   "cell_type": "code",
   "execution_count": 87,
   "metadata": {},
   "outputs": [
    {
     "data": {
      "text/plain": [
       "(248, 248)"
      ]
     },
     "execution_count": 87,
     "metadata": {},
     "output_type": "execute_result"
    }
   ],
   "source": [
    "len(hmir), len(hmir.query('rnac_id in @all_node_ids'))"
   ]
  },
  {
   "cell_type": "markdown",
   "metadata": {},
   "source": [
    "All now have a maping to nodes already in the network"
   ]
  },
  {
   "cell_type": "code",
   "execution_count": 88,
   "metadata": {},
   "outputs": [
    {
     "data": {
      "text/html": [
       "<div>\n",
       "<style scoped>\n",
       "    .dataframe tbody tr th:only-of-type {\n",
       "        vertical-align: middle;\n",
       "    }\n",
       "\n",
       "    .dataframe tbody tr th {\n",
       "        vertical-align: top;\n",
       "    }\n",
       "\n",
       "    .dataframe thead th {\n",
       "        text-align: right;\n",
       "    }\n",
       "</style>\n",
       "<table border=\"1\" class=\"dataframe\">\n",
       "  <thead>\n",
       "    <tr style=\"text-align: right;\">\n",
       "      <th></th>\n",
       "      <th>start_id</th>\n",
       "      <th>end_id</th>\n",
       "      <th>evidence_code</th>\n",
       "      <th>type</th>\n",
       "    </tr>\n",
       "  </thead>\n",
       "  <tbody>\n",
       "    <tr>\n",
       "      <th>0</th>\n",
       "      <td>URS000032AA22_9606</td>\n",
       "      <td>REACT:R-HSA-1257604</td>\n",
       "      <td>TAS</td>\n",
       "      <td>part_of_NpoPW</td>\n",
       "    </tr>\n",
       "    <tr>\n",
       "      <th>1</th>\n",
       "      <td>URS000032AA22_9606</td>\n",
       "      <td>REACT:R-HSA-162582</td>\n",
       "      <td>TAS</td>\n",
       "      <td>part_of_NpoPW</td>\n",
       "    </tr>\n",
       "  </tbody>\n",
       "</table>\n",
       "</div>"
      ],
      "text/plain": [
       "             start_id               end_id evidence_code           type\n",
       "0  URS000032AA22_9606  REACT:R-HSA-1257604           TAS  part_of_NpoPW\n",
       "1  URS000032AA22_9606   REACT:R-HSA-162582           TAS  part_of_NpoPW"
      ]
     },
     "execution_count": 88,
     "metadata": {},
     "output_type": "execute_result"
    }
   ],
   "source": [
    "mir_edges = hmir[['rnac_id', 'reactome_id', 'evidence_code']].copy()\n",
    "mir_edges.columns = ['start_id', 'end_id', 'evidence_code']\n",
    "mir_edges['end_id'] = 'REACT:' + mir_edges['end_id']\n",
    "mir_edges['type'] = 'part_of_NpoPW'\n",
    "mir_edges.head(2)"
   ]
  },
  {
   "cell_type": "code",
   "execution_count": 89,
   "metadata": {},
   "outputs": [
    {
     "data": {
      "text/plain": [
       "0"
      ]
     },
     "execution_count": 89,
     "metadata": {},
     "output_type": "execute_result"
    }
   ],
   "source": [
    "mir_reactome_ids = mir_edges['end_id']\n",
    "len(set(mir_reactome_ids) - set(all_node_ids) - set(new_pw_nodes['id']) - set(new_pw_nodes1['id']))"
   ]
  },
  {
   "cell_type": "markdown",
   "metadata": {},
   "source": [
    "All pathways already covered, no need to add new nodes."
   ]
  },
  {
   "cell_type": "code",
   "execution_count": 90,
   "metadata": {},
   "outputs": [],
   "source": [
    "new_edges.append(mir_edges)"
   ]
  },
  {
   "cell_type": "markdown",
   "metadata": {},
   "source": [
    "# New node type - Reactions"
   ]
  },
  {
   "cell_type": "code",
   "execution_count": 91,
   "metadata": {},
   "outputs": [
    {
     "data": {
      "text/html": [
       "<div>\n",
       "<style scoped>\n",
       "    .dataframe tbody tr th:only-of-type {\n",
       "        vertical-align: middle;\n",
       "    }\n",
       "\n",
       "    .dataframe tbody tr th {\n",
       "        vertical-align: top;\n",
       "    }\n",
       "\n",
       "    .dataframe thead th {\n",
       "        text-align: right;\n",
       "    }\n",
       "</style>\n",
       "<table border=\"1\" class=\"dataframe\">\n",
       "  <thead>\n",
       "    <tr style=\"text-align: right;\">\n",
       "      <th></th>\n",
       "      <th>external_id</th>\n",
       "      <th>pe_reactome_id</th>\n",
       "      <th>pe_name</th>\n",
       "      <th>reactome_id</th>\n",
       "      <th>reactome_url</th>\n",
       "      <th>reactome_name</th>\n",
       "      <th>evidence_code</th>\n",
       "      <th>taxon</th>\n",
       "    </tr>\n",
       "  </thead>\n",
       "  <tbody>\n",
       "    <tr>\n",
       "      <th>0</th>\n",
       "      <td>1</td>\n",
       "      <td>R-HSA-6806490</td>\n",
       "      <td>A1BG [extracellular region]</td>\n",
       "      <td>R-HSA-481007</td>\n",
       "      <td>https://reactome.org/PathwayBrowser/#/R-HSA-48...</td>\n",
       "      <td>Exocytosis of platelet alpha granule contents</td>\n",
       "      <td>TAS</td>\n",
       "      <td>Homo sapiens</td>\n",
       "    </tr>\n",
       "    <tr>\n",
       "      <th>1</th>\n",
       "      <td>1</td>\n",
       "      <td>R-HSA-8848894</td>\n",
       "      <td>A1BG [platelet alpha granule lumen]</td>\n",
       "      <td>R-HSA-481007</td>\n",
       "      <td>https://reactome.org/PathwayBrowser/#/R-HSA-48...</td>\n",
       "      <td>Exocytosis of platelet alpha granule contents</td>\n",
       "      <td>TAS</td>\n",
       "      <td>Homo sapiens</td>\n",
       "    </tr>\n",
       "  </tbody>\n",
       "</table>\n",
       "</div>"
      ],
      "text/plain": [
       "  external_id pe_reactome_id                              pe_name  \\\n",
       "0           1  R-HSA-6806490          A1BG [extracellular region]   \n",
       "1           1  R-HSA-8848894  A1BG [platelet alpha granule lumen]   \n",
       "\n",
       "    reactome_id                                       reactome_url  \\\n",
       "0  R-HSA-481007  https://reactome.org/PathwayBrowser/#/R-HSA-48...   \n",
       "1  R-HSA-481007  https://reactome.org/PathwayBrowser/#/R-HSA-48...   \n",
       "\n",
       "                                   reactome_name evidence_code         taxon  \n",
       "0  Exocytosis of platelet alpha granule contents           TAS  Homo sapiens  \n",
       "1  Exocytosis of platelet alpha granule contents           TAS  Homo sapiens  "
      ]
     },
     "execution_count": 91,
     "metadata": {},
     "output_type": "execute_result"
    }
   ],
   "source": [
    "ncbi_rxn = read_reactome(load_dir.joinpath('NCBI2Reactome_PE_Reactions.txt'))\n",
    "ncbi_rxn.head(2)"
   ]
  },
  {
   "cell_type": "code",
   "execution_count": 92,
   "metadata": {},
   "outputs": [],
   "source": [
    "ncbi_rxn['external_id'] = ncbi_rxn['external_id'].astype(str)"
   ]
  },
  {
   "cell_type": "code",
   "execution_count": 93,
   "metadata": {},
   "outputs": [],
   "source": [
    "hncbi_rxn = ncbi_rxn.query('taxon == \"Homo sapiens\"').copy()"
   ]
  },
  {
   "cell_type": "code",
   "execution_count": 94,
   "metadata": {},
   "outputs": [
    {
     "data": {
      "text/html": [
       "<div>\n",
       "<style scoped>\n",
       "    .dataframe tbody tr th:only-of-type {\n",
       "        vertical-align: middle;\n",
       "    }\n",
       "\n",
       "    .dataframe tbody tr th {\n",
       "        vertical-align: top;\n",
       "    }\n",
       "\n",
       "    .dataframe thead th {\n",
       "        text-align: right;\n",
       "    }\n",
       "</style>\n",
       "<table border=\"1\" class=\"dataframe\">\n",
       "  <thead>\n",
       "    <tr style=\"text-align: right;\">\n",
       "      <th></th>\n",
       "      <th>start_id</th>\n",
       "      <th>end_id</th>\n",
       "      <th>evidence_code</th>\n",
       "      <th>type</th>\n",
       "    </tr>\n",
       "  </thead>\n",
       "  <tbody>\n",
       "    <tr>\n",
       "      <th>0</th>\n",
       "      <td>1</td>\n",
       "      <td>REACT:R-HSA-481007</td>\n",
       "      <td>TAS</td>\n",
       "      <td>part_of_GpoRX</td>\n",
       "    </tr>\n",
       "    <tr>\n",
       "      <th>1</th>\n",
       "      <td>1</td>\n",
       "      <td>REACT:R-HSA-481007</td>\n",
       "      <td>TAS</td>\n",
       "      <td>part_of_GpoRX</td>\n",
       "    </tr>\n",
       "  </tbody>\n",
       "</table>\n",
       "</div>"
      ],
      "text/plain": [
       "  start_id              end_id evidence_code           type\n",
       "0        1  REACT:R-HSA-481007           TAS  part_of_GpoRX\n",
       "1        1  REACT:R-HSA-481007           TAS  part_of_GpoRX"
      ]
     },
     "execution_count": 94,
     "metadata": {},
     "output_type": "execute_result"
    }
   ],
   "source": [
    "hncbi_rxn['reactome_id'] = 'REACT:' + hncbi_rxn['reactome_id']\n",
    "ncbi_rxn_edges = hncbi_rxn[['external_id', 'reactome_id', 'evidence_code']].copy()\n",
    "ncbi_rxn_edges.columns = ['start_id', 'end_id', 'evidence_code']\n",
    "ncbi_rxn_edges['type'] = 'part_of_GpoRX'\n",
    "ncbi_rxn_edges.head(2)"
   ]
  },
  {
   "cell_type": "code",
   "execution_count": 95,
   "metadata": {},
   "outputs": [
    {
     "name": "stdout",
     "output_type": "stream",
     "text": [
      "Genes in Reactome: 10,696\n",
      "Mapped to Network: 10,610\n",
      "Un-mappable: 86\n"
     ]
    }
   ],
   "source": [
    "print('Genes in Reactome: {:,}'.format(hncbi['external_id'].nunique()))\n",
    "print('Mapped to Network: {:,}'.format(hncbi.query('external_id in @all_node_ids')['external_id'].nunique()))\n",
    "print('Un-mappable: {:,}'.format(hncbi.query('external_id not in @all_node_ids')['external_id'].nunique()))"
   ]
  },
  {
   "cell_type": "code",
   "execution_count": 96,
   "metadata": {},
   "outputs": [
    {
     "data": {
      "text/html": [
       "<div>\n",
       "<style scoped>\n",
       "    .dataframe tbody tr th:only-of-type {\n",
       "        vertical-align: middle;\n",
       "    }\n",
       "\n",
       "    .dataframe tbody tr th {\n",
       "        vertical-align: top;\n",
       "    }\n",
       "\n",
       "    .dataframe thead th {\n",
       "        text-align: right;\n",
       "    }\n",
       "</style>\n",
       "<table border=\"1\" class=\"dataframe\">\n",
       "  <thead>\n",
       "    <tr style=\"text-align: right;\">\n",
       "      <th></th>\n",
       "      <th>id</th>\n",
       "      <th>name</th>\n",
       "      <th>label</th>\n",
       "    </tr>\n",
       "  </thead>\n",
       "  <tbody>\n",
       "    <tr>\n",
       "      <th>0</th>\n",
       "      <td>REACT:R-HSA-481007</td>\n",
       "      <td>Exocytosis of platelet alpha granule contents</td>\n",
       "      <td>Reaction</td>\n",
       "    </tr>\n",
       "    <tr>\n",
       "      <th>2</th>\n",
       "      <td>REACT:R-HSA-6798748</td>\n",
       "      <td>Exocytosis of secretory granule lumen proteins</td>\n",
       "      <td>Reaction</td>\n",
       "    </tr>\n",
       "    <tr>\n",
       "      <th>4</th>\n",
       "      <td>REACT:R-HSA-6800434</td>\n",
       "      <td>Exocytosis of ficolin-rich granule lumen proteins</td>\n",
       "      <td>Reaction</td>\n",
       "    </tr>\n",
       "    <tr>\n",
       "      <th>6</th>\n",
       "      <td>REACT:R-HSA-158832</td>\n",
       "      <td>The acetyl group from acetyl-CoA is transferre...</td>\n",
       "      <td>Reaction</td>\n",
       "    </tr>\n",
       "    <tr>\n",
       "      <th>8</th>\n",
       "      <td>REACT:R-HSA-174967</td>\n",
       "      <td>NAT2 acetylation</td>\n",
       "      <td>Reaction</td>\n",
       "    </tr>\n",
       "  </tbody>\n",
       "</table>\n",
       "</div>"
      ],
      "text/plain": [
       "                    id                                               name  \\\n",
       "0   REACT:R-HSA-481007      Exocytosis of platelet alpha granule contents   \n",
       "2  REACT:R-HSA-6798748     Exocytosis of secretory granule lumen proteins   \n",
       "4  REACT:R-HSA-6800434  Exocytosis of ficolin-rich granule lumen proteins   \n",
       "6   REACT:R-HSA-158832  The acetyl group from acetyl-CoA is transferre...   \n",
       "8   REACT:R-HSA-174967                                   NAT2 acetylation   \n",
       "\n",
       "      label  \n",
       "0  Reaction  \n",
       "2  Reaction  \n",
       "4  Reaction  \n",
       "6  Reaction  \n",
       "8  Reaction  "
      ]
     },
     "execution_count": 96,
     "metadata": {},
     "output_type": "execute_result"
    }
   ],
   "source": [
    "keep_cols = ['reactome_id', 'reactome_name']\n",
    "reaction_nodes = hncbi_rxn.drop_duplicates(subset=keep_cols)[keep_cols]\n",
    "reaction_nodes.columns = [c.split('_')[1] for c in keep_cols]\n",
    "reaction_nodes['label'] = 'Reaction'\n",
    "reaction_nodes.head()"
   ]
  },
  {
   "cell_type": "code",
   "execution_count": 97,
   "metadata": {},
   "outputs": [],
   "source": [
    "new_nodes.append(reaction_nodes)\n",
    "new_edges.append(ncbi_rxn_edges)"
   ]
  },
  {
   "cell_type": "markdown",
   "metadata": {},
   "source": [
    "## Compound - Reactions"
   ]
  },
  {
   "cell_type": "code",
   "execution_count": 98,
   "metadata": {},
   "outputs": [
    {
     "data": {
      "text/html": [
       "<div>\n",
       "<style scoped>\n",
       "    .dataframe tbody tr th:only-of-type {\n",
       "        vertical-align: middle;\n",
       "    }\n",
       "\n",
       "    .dataframe tbody tr th {\n",
       "        vertical-align: top;\n",
       "    }\n",
       "\n",
       "    .dataframe thead th {\n",
       "        text-align: right;\n",
       "    }\n",
       "</style>\n",
       "<table border=\"1\" class=\"dataframe\">\n",
       "  <thead>\n",
       "    <tr style=\"text-align: right;\">\n",
       "      <th></th>\n",
       "      <th>external_id</th>\n",
       "      <th>pe_reactome_id</th>\n",
       "      <th>pe_name</th>\n",
       "      <th>reactome_id</th>\n",
       "      <th>reactome_url</th>\n",
       "      <th>reactome_name</th>\n",
       "      <th>evidence_code</th>\n",
       "      <th>taxon</th>\n",
       "    </tr>\n",
       "  </thead>\n",
       "  <tbody>\n",
       "    <tr>\n",
       "      <th>0</th>\n",
       "      <td>10033</td>\n",
       "      <td>R-ALL-9014945</td>\n",
       "      <td>warfarin [cytosol]</td>\n",
       "      <td>R-BTA-159790</td>\n",
       "      <td>https://reactome.org/PathwayBrowser/#/R-BTA-15...</td>\n",
       "      <td>VKORC1 reduces vitamin K epoxide to MK4 (vitam...</td>\n",
       "      <td>IEA</td>\n",
       "      <td>Bos taurus</td>\n",
       "    </tr>\n",
       "    <tr>\n",
       "      <th>1</th>\n",
       "      <td>10033</td>\n",
       "      <td>R-ALL-9014945</td>\n",
       "      <td>warfarin [cytosol]</td>\n",
       "      <td>R-BTA-9026967</td>\n",
       "      <td>https://reactome.org/PathwayBrowser/#/R-BTA-90...</td>\n",
       "      <td>VKORC1 inhibitors binds VKORC1 dimer</td>\n",
       "      <td>IEA</td>\n",
       "      <td>Bos taurus</td>\n",
       "    </tr>\n",
       "  </tbody>\n",
       "</table>\n",
       "</div>"
      ],
      "text/plain": [
       "  external_id pe_reactome_id             pe_name    reactome_id  \\\n",
       "0       10033  R-ALL-9014945  warfarin [cytosol]   R-BTA-159790   \n",
       "1       10033  R-ALL-9014945  warfarin [cytosol]  R-BTA-9026967   \n",
       "\n",
       "                                        reactome_url  \\\n",
       "0  https://reactome.org/PathwayBrowser/#/R-BTA-15...   \n",
       "1  https://reactome.org/PathwayBrowser/#/R-BTA-90...   \n",
       "\n",
       "                                       reactome_name evidence_code       taxon  \n",
       "0  VKORC1 reduces vitamin K epoxide to MK4 (vitam...           IEA  Bos taurus  \n",
       "1               VKORC1 inhibitors binds VKORC1 dimer           IEA  Bos taurus  "
      ]
     },
     "execution_count": 98,
     "metadata": {},
     "output_type": "execute_result"
    }
   ],
   "source": [
    "chm_rxn = read_reactome(load_dir.joinpath('ChEBI2Reactome_PE_Reactions.txt'))\n",
    "chm_rxn.head(2)"
   ]
  },
  {
   "cell_type": "code",
   "execution_count": 99,
   "metadata": {
    "scrolled": true
   },
   "outputs": [
    {
     "name": "stdout",
     "output_type": "stream",
     "text": [
      "185171\n",
      "24280\n"
     ]
    }
   ],
   "source": [
    "print(len(chm_rxn))\n",
    "hchm_rxn = chm_rxn.query('taxon == \"Homo sapiens\"').copy()\n",
    "print(len(hchm_rxn))\n",
    "hchm_rxn['external_id'] = 'CHEBI:' + hchm_rxn['external_id'].astype(str)\n",
    "hchm_rxn['reactome_id'] = 'REACT:' + hchm_rxn['reactome_id']"
   ]
  },
  {
   "cell_type": "markdown",
   "metadata": {},
   "source": [
    "All chebi ids have previously been queried for...."
   ]
  },
  {
   "cell_type": "code",
   "execution_count": 100,
   "metadata": {},
   "outputs": [
    {
     "data": {
      "text/plain": [
       "(24287, 12515)"
      ]
     },
     "execution_count": 100,
     "metadata": {},
     "output_type": "execute_result"
    }
   ],
   "source": [
    "hchm_rxn['mesh_id'] = hchm_rxn['external_id'].map(chebi_to_mesh)\n",
    "hchm_rxn = expand_col_on_char(hchm_rxn, 'mesh_id', '|')\n",
    "len(hchm_rxn), hchm_rxn['mesh_id'].count()"
   ]
  },
  {
   "cell_type": "markdown",
   "metadata": {},
   "source": [
    "Still only about 1/2 mapped... however, we may have already put some of these nodes in with chebi ids"
   ]
  },
  {
   "cell_type": "code",
   "execution_count": 101,
   "metadata": {},
   "outputs": [
    {
     "data": {
      "text/plain": [
       "0"
      ]
     },
     "execution_count": 101,
     "metadata": {},
     "output_type": "execute_result"
    }
   ],
   "source": [
    "new_chem_ids = new_chems['id'].values\n",
    "len(hchm_rxn.query('external_id not in @new_chem_ids and mesh_id not in @all_node_ids'))"
   ]
  },
  {
   "cell_type": "markdown",
   "metadata": {},
   "source": [
    "All chemicals accounted for, don't need to add new nodes of type Compound"
   ]
  },
  {
   "cell_type": "code",
   "execution_count": 102,
   "metadata": {},
   "outputs": [
    {
     "data": {
      "text/plain": [
       "321"
      ]
     },
     "execution_count": 102,
     "metadata": {},
     "output_type": "execute_result"
    }
   ],
   "source": [
    "rxns = reaction_nodes['id'].tolist()\n",
    "hchm_rxn.query('reactome_id not in @rxns')['reactome_id'].nunique()"
   ]
  },
  {
   "cell_type": "markdown",
   "metadata": {},
   "source": [
    "Some new reactions to add though..."
   ]
  },
  {
   "cell_type": "code",
   "execution_count": 103,
   "metadata": {},
   "outputs": [
    {
     "data": {
      "text/html": [
       "<div>\n",
       "<style scoped>\n",
       "    .dataframe tbody tr th:only-of-type {\n",
       "        vertical-align: middle;\n",
       "    }\n",
       "\n",
       "    .dataframe tbody tr th {\n",
       "        vertical-align: top;\n",
       "    }\n",
       "\n",
       "    .dataframe thead th {\n",
       "        text-align: right;\n",
       "    }\n",
       "</style>\n",
       "<table border=\"1\" class=\"dataframe\">\n",
       "  <thead>\n",
       "    <tr style=\"text-align: right;\">\n",
       "      <th></th>\n",
       "      <th>id</th>\n",
       "      <th>name</th>\n",
       "      <th>label</th>\n",
       "    </tr>\n",
       "  </thead>\n",
       "  <tbody>\n",
       "    <tr>\n",
       "      <th>13</th>\n",
       "      <td>REACT:R-HSA-1497824</td>\n",
       "      <td>BH4 is oxidised to the BH3 radical during the ...</td>\n",
       "      <td>Reaction</td>\n",
       "    </tr>\n",
       "    <tr>\n",
       "      <th>15</th>\n",
       "      <td>REACT:R-HSA-3785704</td>\n",
       "      <td>DSB inducing agents induce double strand DNA b...</td>\n",
       "      <td>Reaction</td>\n",
       "    </tr>\n",
       "  </tbody>\n",
       "</table>\n",
       "</div>"
      ],
      "text/plain": [
       "                     id                                               name  \\\n",
       "13  REACT:R-HSA-1497824  BH4 is oxidised to the BH3 radical during the ...   \n",
       "15  REACT:R-HSA-3785704  DSB inducing agents induce double strand DNA b...   \n",
       "\n",
       "       label  \n",
       "13  Reaction  \n",
       "15  Reaction  "
      ]
     },
     "execution_count": 103,
     "metadata": {},
     "output_type": "execute_result"
    }
   ],
   "source": [
    "keep_cols = ['reactome_id', 'reactome_name']\n",
    "reaction_nodes1 = hchm_rxn.query('reactome_id not in @rxns')[keep_cols].copy()\n",
    "reaction_nodes1 = reaction_nodes1.drop_duplicates(subset=keep_cols)\n",
    "reaction_nodes1.columns = [c.split('_')[1] for c in keep_cols]\n",
    "reaction_nodes1['label'] = 'Reaction'\n",
    "reaction_nodes1.head(2)"
   ]
  },
  {
   "cell_type": "code",
   "execution_count": 104,
   "metadata": {
    "scrolled": true
   },
   "outputs": [
    {
     "data": {
      "text/html": [
       "<div>\n",
       "<style scoped>\n",
       "    .dataframe tbody tr th:only-of-type {\n",
       "        vertical-align: middle;\n",
       "    }\n",
       "\n",
       "    .dataframe tbody tr th {\n",
       "        vertical-align: top;\n",
       "    }\n",
       "\n",
       "    .dataframe thead th {\n",
       "        text-align: right;\n",
       "    }\n",
       "</style>\n",
       "<table border=\"1\" class=\"dataframe\">\n",
       "  <thead>\n",
       "    <tr style=\"text-align: right;\">\n",
       "      <th></th>\n",
       "      <th>start_id</th>\n",
       "      <th>end_id</th>\n",
       "      <th>evidence_code</th>\n",
       "      <th>type</th>\n",
       "    </tr>\n",
       "  </thead>\n",
       "  <tbody>\n",
       "    <tr>\n",
       "      <th>0</th>\n",
       "      <td>MESH:D014859</td>\n",
       "      <td>REACT:R-HSA-159790</td>\n",
       "      <td>TAS</td>\n",
       "      <td>part_of_CpoRX</td>\n",
       "    </tr>\n",
       "    <tr>\n",
       "      <th>1</th>\n",
       "      <td>MESH:D014859</td>\n",
       "      <td>REACT:R-HSA-9026967</td>\n",
       "      <td>TAS</td>\n",
       "      <td>part_of_CpoRX</td>\n",
       "    </tr>\n",
       "  </tbody>\n",
       "</table>\n",
       "</div>"
      ],
      "text/plain": [
       "       start_id               end_id evidence_code           type\n",
       "0  MESH:D014859   REACT:R-HSA-159790           TAS  part_of_CpoRX\n",
       "1  MESH:D014859  REACT:R-HSA-9026967           TAS  part_of_CpoRX"
      ]
     },
     "execution_count": 104,
     "metadata": {},
     "output_type": "execute_result"
    }
   ],
   "source": [
    "fill_idx = hchm_rxn.query('mesh_id not in @all_node_ids').index\n",
    "hchm_rxn.loc[fill_idx, 'mesh_id'] = hchm_rxn.loc[fill_idx, 'external_id']\n",
    "ch_rxn_edges = hchm_rxn[['mesh_id', 'reactome_id', 'evidence_code']].copy()\n",
    "ch_rxn_edges.columns = ['start_id', 'end_id', 'evidence_code']\n",
    "ch_rxn_edges['type'] = 'part_of_CpoRX'\n",
    "ch_rxn_edges.head(2)"
   ]
  },
  {
   "cell_type": "code",
   "execution_count": 105,
   "metadata": {},
   "outputs": [],
   "source": [
    "new_nodes.append(reaction_nodes1)\n",
    "new_edges.append(ch_rxn_edges)"
   ]
  },
  {
   "cell_type": "markdown",
   "metadata": {},
   "source": [
    "## MicroRNA - Rxn"
   ]
  },
  {
   "cell_type": "code",
   "execution_count": 106,
   "metadata": {},
   "outputs": [
    {
     "data": {
      "text/html": [
       "<div>\n",
       "<style scoped>\n",
       "    .dataframe tbody tr th:only-of-type {\n",
       "        vertical-align: middle;\n",
       "    }\n",
       "\n",
       "    .dataframe tbody tr th {\n",
       "        vertical-align: top;\n",
       "    }\n",
       "\n",
       "    .dataframe thead th {\n",
       "        text-align: right;\n",
       "    }\n",
       "</style>\n",
       "<table border=\"1\" class=\"dataframe\">\n",
       "  <thead>\n",
       "    <tr style=\"text-align: right;\">\n",
       "      <th></th>\n",
       "      <th>external_id</th>\n",
       "      <th>pe_reactome_id</th>\n",
       "      <th>pe_name</th>\n",
       "      <th>reactome_id</th>\n",
       "      <th>reactome_url</th>\n",
       "      <th>reactome_name</th>\n",
       "      <th>evidence_code</th>\n",
       "      <th>taxon</th>\n",
       "    </tr>\n",
       "  </thead>\n",
       "  <tbody>\n",
       "    <tr>\n",
       "      <th>0</th>\n",
       "      <td>MI0000071</td>\n",
       "      <td>R-HSA-8938437</td>\n",
       "      <td>miR-17 [cytosol]</td>\n",
       "      <td>R-HSA-8935785</td>\n",
       "      <td>https://reactome.org/PathwayBrowser/#/R-HSA-89...</td>\n",
       "      <td>RUNX1 mRNA translation is inhibited by miR-17,...</td>\n",
       "      <td>TAS</td>\n",
       "      <td>Homo sapiens</td>\n",
       "    </tr>\n",
       "    <tr>\n",
       "      <th>1</th>\n",
       "      <td>MI0000071</td>\n",
       "      <td>R-HSA-8938437</td>\n",
       "      <td>miR-17 [cytosol]</td>\n",
       "      <td>R-HSA-8938440</td>\n",
       "      <td>https://reactome.org/PathwayBrowser/#/R-HSA-89...</td>\n",
       "      <td>miR-17 binds RUNX1 mRNA</td>\n",
       "      <td>TAS</td>\n",
       "      <td>Homo sapiens</td>\n",
       "    </tr>\n",
       "  </tbody>\n",
       "</table>\n",
       "</div>"
      ],
      "text/plain": [
       "  external_id pe_reactome_id           pe_name    reactome_id  \\\n",
       "0   MI0000071  R-HSA-8938437  miR-17 [cytosol]  R-HSA-8935785   \n",
       "1   MI0000071  R-HSA-8938437  miR-17 [cytosol]  R-HSA-8938440   \n",
       "\n",
       "                                        reactome_url  \\\n",
       "0  https://reactome.org/PathwayBrowser/#/R-HSA-89...   \n",
       "1  https://reactome.org/PathwayBrowser/#/R-HSA-89...   \n",
       "\n",
       "                                       reactome_name evidence_code  \\\n",
       "0  RUNX1 mRNA translation is inhibited by miR-17,...           TAS   \n",
       "1                            miR-17 binds RUNX1 mRNA           TAS   \n",
       "\n",
       "          taxon  \n",
       "0  Homo sapiens  \n",
       "1  Homo sapiens  "
      ]
     },
     "execution_count": 106,
     "metadata": {},
     "output_type": "execute_result"
    }
   ],
   "source": [
    "mi_rxn = read_reactome(load_dir.joinpath('miRBase2Reactome_PE_Reactions.txt'))\n",
    "mi_rxn.head(2)"
   ]
  },
  {
   "cell_type": "code",
   "execution_count": 107,
   "metadata": {},
   "outputs": [
    {
     "data": {
      "text/plain": [
       "0"
      ]
     },
     "execution_count": 107,
     "metadata": {},
     "output_type": "execute_result"
    }
   ],
   "source": [
    "hmi_rxn = mi_rxn.query('taxon == \"Homo sapiens\"').copy()\n",
    "hmi_rxn['reactome_id'] = 'REACT:' + hmi_rxn['reactome_id']\n",
    "hmi_rxn['rnac_id'] = hmi_rxn['external_id'].map(mirbase_to_rnac)\n",
    "hmi_rxn['rnac_id'].isnull().sum()"
   ]
  },
  {
   "cell_type": "markdown",
   "metadata": {},
   "source": [
    "All micronra mapped succesfully"
   ]
  },
  {
   "cell_type": "code",
   "execution_count": 108,
   "metadata": {},
   "outputs": [],
   "source": [
    "all_rxns = set(rxns) | set(reaction_nodes1['id'])"
   ]
  },
  {
   "cell_type": "code",
   "execution_count": 109,
   "metadata": {},
   "outputs": [
    {
     "data": {
      "text/plain": [
       "0"
      ]
     },
     "execution_count": 109,
     "metadata": {},
     "output_type": "execute_result"
    }
   ],
   "source": [
    "len(hmi_rxn.query('reactome_id not in @all_rxns'))"
   ]
  },
  {
   "cell_type": "markdown",
   "metadata": {},
   "source": [
    "All reactions in the network already"
   ]
  },
  {
   "cell_type": "code",
   "execution_count": 110,
   "metadata": {},
   "outputs": [
    {
     "data": {
      "text/html": [
       "<div>\n",
       "<style scoped>\n",
       "    .dataframe tbody tr th:only-of-type {\n",
       "        vertical-align: middle;\n",
       "    }\n",
       "\n",
       "    .dataframe tbody tr th {\n",
       "        vertical-align: top;\n",
       "    }\n",
       "\n",
       "    .dataframe thead th {\n",
       "        text-align: right;\n",
       "    }\n",
       "</style>\n",
       "<table border=\"1\" class=\"dataframe\">\n",
       "  <thead>\n",
       "    <tr style=\"text-align: right;\">\n",
       "      <th></th>\n",
       "      <th>start_id</th>\n",
       "      <th>end_id</th>\n",
       "      <th>evidence_code</th>\n",
       "      <th>type</th>\n",
       "    </tr>\n",
       "  </thead>\n",
       "  <tbody>\n",
       "    <tr>\n",
       "      <th>0</th>\n",
       "      <td>URS000032AA22_9606</td>\n",
       "      <td>REACT:R-HSA-8935785</td>\n",
       "      <td>TAS</td>\n",
       "      <td>part_of_NpoRX</td>\n",
       "    </tr>\n",
       "    <tr>\n",
       "      <th>1</th>\n",
       "      <td>URS000032AA22_9606</td>\n",
       "      <td>REACT:R-HSA-8938440</td>\n",
       "      <td>TAS</td>\n",
       "      <td>part_of_NpoRX</td>\n",
       "    </tr>\n",
       "  </tbody>\n",
       "</table>\n",
       "</div>"
      ],
      "text/plain": [
       "             start_id               end_id evidence_code           type\n",
       "0  URS000032AA22_9606  REACT:R-HSA-8935785           TAS  part_of_NpoRX\n",
       "1  URS000032AA22_9606  REACT:R-HSA-8938440           TAS  part_of_NpoRX"
      ]
     },
     "execution_count": 110,
     "metadata": {},
     "output_type": "execute_result"
    }
   ],
   "source": [
    "mi_rxn_edges = hmi_rxn[['rnac_id', 'reactome_id', 'evidence_code']].copy()\n",
    "mi_rxn_edges.columns = ['start_id', 'end_id', 'evidence_code']\n",
    "mi_rxn_edges['type'] = 'part_of_NpoRX'\n",
    "mi_rxn_edges.head(2)"
   ]
  },
  {
   "cell_type": "code",
   "execution_count": 111,
   "metadata": {},
   "outputs": [],
   "source": [
    "new_edges.append(mi_rxn_edges)"
   ]
  },
  {
   "cell_type": "markdown",
   "metadata": {},
   "source": [
    "# GO Terms to Reactome Values"
   ]
  },
  {
   "cell_type": "code",
   "execution_count": 112,
   "metadata": {},
   "outputs": [],
   "source": [
    "go_cols = ['db', 'db_object_id', 'db_object_symbol','qualifier', 'go_id', 'db_reference', 'evidence_code',\n",
    " 'with_or_from', 'aspect', 'db_object_name', 'db_object_synonym', 'db_object_type', 'taxon', 'date', 'assigned_by',\n",
    " 'annotation_extension', 'gene_product_form_id']\n",
    "\n",
    "keep_cols = ['start_id', 'end_id', 'type', 'qualifier', 'evidence_code', 'with_or_from', 'date', 'assigned_by']"
   ]
  },
  {
   "cell_type": "code",
   "execution_count": 113,
   "metadata": {},
   "outputs": [
    {
     "data": {
      "text/html": [
       "<div>\n",
       "<style scoped>\n",
       "    .dataframe tbody tr th:only-of-type {\n",
       "        vertical-align: middle;\n",
       "    }\n",
       "\n",
       "    .dataframe tbody tr th {\n",
       "        vertical-align: top;\n",
       "    }\n",
       "\n",
       "    .dataframe thead th {\n",
       "        text-align: right;\n",
       "    }\n",
       "</style>\n",
       "<table border=\"1\" class=\"dataframe\">\n",
       "  <thead>\n",
       "    <tr style=\"text-align: right;\">\n",
       "      <th></th>\n",
       "      <th>db</th>\n",
       "      <th>db_object_id</th>\n",
       "      <th>db_object_symbol</th>\n",
       "      <th>qualifier</th>\n",
       "      <th>go_id</th>\n",
       "      <th>db_reference</th>\n",
       "      <th>evidence_code</th>\n",
       "      <th>with_or_from</th>\n",
       "      <th>aspect</th>\n",
       "      <th>db_object_name</th>\n",
       "      <th>db_object_synonym</th>\n",
       "      <th>db_object_type</th>\n",
       "      <th>taxon</th>\n",
       "      <th>date</th>\n",
       "      <th>assigned_by</th>\n",
       "      <th>annotation_extension</th>\n",
       "      <th>gene_product_form_id</th>\n",
       "    </tr>\n",
       "  </thead>\n",
       "  <tbody>\n",
       "    <tr>\n",
       "      <th>0</th>\n",
       "      <td>UniProtKB</td>\n",
       "      <td>P01111</td>\n",
       "      <td>RASN_HUMAN</td>\n",
       "      <td>NaN</td>\n",
       "      <td>GO:0005886</td>\n",
       "      <td>REACTOME:R-HSA-5672950</td>\n",
       "      <td>TAS</td>\n",
       "      <td>NaN</td>\n",
       "      <td>C</td>\n",
       "      <td>NaN</td>\n",
       "      <td>NaN</td>\n",
       "      <td>protein</td>\n",
       "      <td>taxon:9606</td>\n",
       "      <td>20130528</td>\n",
       "      <td>Reactome</td>\n",
       "      <td>NaN</td>\n",
       "      <td>NaN</td>\n",
       "    </tr>\n",
       "    <tr>\n",
       "      <th>1</th>\n",
       "      <td>UniProtKB</td>\n",
       "      <td>P01112</td>\n",
       "      <td>RASH_HUMAN</td>\n",
       "      <td>NaN</td>\n",
       "      <td>GO:0005886</td>\n",
       "      <td>REACTOME:R-HSA-5672950</td>\n",
       "      <td>TAS</td>\n",
       "      <td>NaN</td>\n",
       "      <td>C</td>\n",
       "      <td>NaN</td>\n",
       "      <td>NaN</td>\n",
       "      <td>protein</td>\n",
       "      <td>taxon:9606</td>\n",
       "      <td>20130730</td>\n",
       "      <td>Reactome</td>\n",
       "      <td>NaN</td>\n",
       "      <td>NaN</td>\n",
       "    </tr>\n",
       "  </tbody>\n",
       "</table>\n",
       "</div>"
      ],
      "text/plain": [
       "          db db_object_id db_object_symbol qualifier       go_id  \\\n",
       "0  UniProtKB       P01111       RASN_HUMAN       NaN  GO:0005886   \n",
       "1  UniProtKB       P01112       RASH_HUMAN       NaN  GO:0005886   \n",
       "\n",
       "             db_reference evidence_code with_or_from aspect db_object_name  \\\n",
       "0  REACTOME:R-HSA-5672950           TAS          NaN      C            NaN   \n",
       "1  REACTOME:R-HSA-5672950           TAS          NaN      C            NaN   \n",
       "\n",
       "  db_object_synonym db_object_type       taxon      date assigned_by  \\\n",
       "0               NaN        protein  taxon:9606  20130528    Reactome   \n",
       "1               NaN        protein  taxon:9606  20130730    Reactome   \n",
       "\n",
       "  annotation_extension gene_product_form_id  \n",
       "0                  NaN                  NaN  \n",
       "1                  NaN                  NaN  "
      ]
     },
     "execution_count": 113,
     "metadata": {},
     "output_type": "execute_result"
    }
   ],
   "source": [
    "go_react = pd.read_csv(load_dir.joinpath('gene_association.reactome.gz'), sep='\\t', \n",
    "                       names=go_cols, header=None, comment='!', dtype=str)\n",
    "go_react.head(2)"
   ]
  },
  {
   "cell_type": "code",
   "execution_count": 114,
   "metadata": {},
   "outputs": [],
   "source": [
    "go_react['db_reference'] = go_react['db_reference'].str.replace('REACTOME:', 'REACT:')"
   ]
  },
  {
   "cell_type": "code",
   "execution_count": 115,
   "metadata": {},
   "outputs": [
    {
     "data": {
      "text/plain": [
       "96119"
      ]
     },
     "execution_count": 115,
     "metadata": {},
     "output_type": "execute_result"
    }
   ],
   "source": [
    "hgo_react = go_react.query('taxon == \"taxon:9606\"').copy()\n",
    "len(hgo_react)"
   ]
  },
  {
   "cell_type": "code",
   "execution_count": 116,
   "metadata": {},
   "outputs": [
    {
     "name": "stdout",
     "output_type": "stream",
     "text": [
      "95476\n",
      "96117\n"
     ]
    }
   ],
   "source": [
    "all_node_ids = set(all_nodes['id']) | set(pd.concat(new_nodes, sort=False)['id'])\n",
    "\n",
    "print(len(hgo_react.query('db_reference in @all_node_ids')))\n",
    "print(len(hgo_react.query('go_id in @all_node_ids')))"
   ]
  },
  {
   "cell_type": "code",
   "execution_count": 117,
   "metadata": {},
   "outputs": [
    {
     "data": {
      "text/plain": [
       "C    75112\n",
       "P    18910\n",
       "F     2097\n",
       "Name: aspect, dtype: int64"
      ]
     },
     "execution_count": 117,
     "metadata": {},
     "output_type": "execute_result"
    }
   ],
   "source": [
    "hgo_react['aspect'].value_counts()"
   ]
  },
  {
   "cell_type": "code",
   "execution_count": 118,
   "metadata": {},
   "outputs": [
    {
     "data": {
      "text/plain": [
       "(2800, 12327)"
      ]
     },
     "execution_count": 118,
     "metadata": {},
     "output_type": "execute_result"
    }
   ],
   "source": [
    "pw_ids = pd.concat([all_nodes]+new_nodes, sort=False).query('label == \"Pathway\"')['id'].values\n",
    "rxn_ids = pd.concat([all_nodes]+new_nodes, sort=False).query('label == \"Reaction\"')['id'].values\n",
    "\n",
    "len(pw_ids), len(rxn_ids)"
   ]
  },
  {
   "cell_type": "code",
   "execution_count": 119,
   "metadata": {},
   "outputs": [],
   "source": [
    "hgo_rxns = hgo_react.query('db_reference in @rxn_ids')\n",
    "hgo_pws = hgo_react.query('db_reference in @pw_ids')"
   ]
  },
  {
   "cell_type": "code",
   "execution_count": 120,
   "metadata": {},
   "outputs": [
    {
     "data": {
      "text/html": [
       "<div>\n",
       "<style scoped>\n",
       "    .dataframe tbody tr th:only-of-type {\n",
       "        vertical-align: middle;\n",
       "    }\n",
       "\n",
       "    .dataframe tbody tr th {\n",
       "        vertical-align: top;\n",
       "    }\n",
       "\n",
       "    .dataframe thead th {\n",
       "        text-align: right;\n",
       "    }\n",
       "</style>\n",
       "<table border=\"1\" class=\"dataframe\">\n",
       "  <thead>\n",
       "    <tr style=\"text-align: right;\">\n",
       "      <th></th>\n",
       "      <th>start_id</th>\n",
       "      <th>end_id</th>\n",
       "      <th>type</th>\n",
       "      <th>qualifier</th>\n",
       "      <th>evidence_code</th>\n",
       "      <th>with_or_from</th>\n",
       "      <th>date</th>\n",
       "      <th>assigned_by</th>\n",
       "    </tr>\n",
       "  </thead>\n",
       "  <tbody>\n",
       "    <tr>\n",
       "      <th>5</th>\n",
       "      <td>REACT:R-HSA-5673001</td>\n",
       "      <td>GO:0000165</td>\n",
       "      <td>involved_in_PWinBP</td>\n",
       "      <td>NaN</td>\n",
       "      <td>TAS</td>\n",
       "      <td>NaN</td>\n",
       "      <td>20190308</td>\n",
       "      <td>Reactome</td>\n",
       "    </tr>\n",
       "    <tr>\n",
       "      <th>6</th>\n",
       "      <td>REACT:R-HSA-5673001</td>\n",
       "      <td>GO:0000165</td>\n",
       "      <td>involved_in_PWinBP</td>\n",
       "      <td>NaN</td>\n",
       "      <td>TAS</td>\n",
       "      <td>NaN</td>\n",
       "      <td>20190308</td>\n",
       "      <td>Reactome</td>\n",
       "    </tr>\n",
       "  </tbody>\n",
       "</table>\n",
       "</div>"
      ],
      "text/plain": [
       "              start_id      end_id                type qualifier  \\\n",
       "5  REACT:R-HSA-5673001  GO:0000165  involved_in_PWinBP       NaN   \n",
       "6  REACT:R-HSA-5673001  GO:0000165  involved_in_PWinBP       NaN   \n",
       "\n",
       "  evidence_code with_or_from      date assigned_by  \n",
       "5           TAS          NaN  20190308    Reactome  \n",
       "6           TAS          NaN  20190308    Reactome  "
      ]
     },
     "execution_count": 120,
     "metadata": {},
     "output_type": "execute_result"
    }
   ],
   "source": [
    "aspect_map = {'P': 'involved_in_PWinBP', 'F': 'enables_PWeMF', 'C': 'part_of_PWpoCC'}\n",
    "gpw_edges = hgo_pws.rename(columns={'db_reference': 'start_id', 'go_id': 'end_id'})\n",
    "gpw_edges['type'] = gpw_edges['aspect'].map(aspect_map)\n",
    "gpw_edges = gpw_edges[keep_cols]\n",
    "gpw_edges.head(2)"
   ]
  },
  {
   "cell_type": "code",
   "execution_count": 121,
   "metadata": {},
   "outputs": [
    {
     "data": {
      "text/html": [
       "<div>\n",
       "<style scoped>\n",
       "    .dataframe tbody tr th:only-of-type {\n",
       "        vertical-align: middle;\n",
       "    }\n",
       "\n",
       "    .dataframe tbody tr th {\n",
       "        vertical-align: top;\n",
       "    }\n",
       "\n",
       "    .dataframe thead th {\n",
       "        text-align: right;\n",
       "    }\n",
       "</style>\n",
       "<table border=\"1\" class=\"dataframe\">\n",
       "  <thead>\n",
       "    <tr style=\"text-align: right;\">\n",
       "      <th></th>\n",
       "      <th>start_id</th>\n",
       "      <th>end_id</th>\n",
       "      <th>type</th>\n",
       "      <th>qualifier</th>\n",
       "      <th>evidence_code</th>\n",
       "      <th>with_or_from</th>\n",
       "      <th>date</th>\n",
       "      <th>assigned_by</th>\n",
       "    </tr>\n",
       "  </thead>\n",
       "  <tbody>\n",
       "    <tr>\n",
       "      <th>0</th>\n",
       "      <td>REACT:R-HSA-5672950</td>\n",
       "      <td>GO:0005886</td>\n",
       "      <td>part_of_RXpoCC</td>\n",
       "      <td>NaN</td>\n",
       "      <td>TAS</td>\n",
       "      <td>NaN</td>\n",
       "      <td>20130528</td>\n",
       "      <td>Reactome</td>\n",
       "    </tr>\n",
       "    <tr>\n",
       "      <th>1</th>\n",
       "      <td>REACT:R-HSA-5672950</td>\n",
       "      <td>GO:0005886</td>\n",
       "      <td>part_of_RXpoCC</td>\n",
       "      <td>NaN</td>\n",
       "      <td>TAS</td>\n",
       "      <td>NaN</td>\n",
       "      <td>20130730</td>\n",
       "      <td>Reactome</td>\n",
       "    </tr>\n",
       "  </tbody>\n",
       "</table>\n",
       "</div>"
      ],
      "text/plain": [
       "              start_id      end_id            type qualifier evidence_code  \\\n",
       "0  REACT:R-HSA-5672950  GO:0005886  part_of_RXpoCC       NaN           TAS   \n",
       "1  REACT:R-HSA-5672950  GO:0005886  part_of_RXpoCC       NaN           TAS   \n",
       "\n",
       "  with_or_from      date assigned_by  \n",
       "0          NaN  20130528    Reactome  \n",
       "1          NaN  20130730    Reactome  "
      ]
     },
     "execution_count": 121,
     "metadata": {},
     "output_type": "execute_result"
    }
   ],
   "source": [
    "aspect_map = {k: v.replace('PW', 'RX') for k, v in aspect_map.items()}\n",
    "grx_edges = hgo_rxns.rename(columns={'db_reference': 'start_id', 'go_id': 'end_id'})\n",
    "grx_edges['type'] = grx_edges['aspect'].map(aspect_map)\n",
    "grx_edges = grx_edges[keep_cols]\n",
    "grx_edges.head(2)"
   ]
  },
  {
   "cell_type": "code",
   "execution_count": 122,
   "metadata": {},
   "outputs": [],
   "source": [
    "new_edges.append(gpw_edges)\n",
    "new_edges.append(grx_edges)"
   ]
  },
  {
   "cell_type": "markdown",
   "metadata": {},
   "source": [
    "# Putting it all together"
   ]
  },
  {
   "cell_type": "code",
   "execution_count": 123,
   "metadata": {},
   "outputs": [],
   "source": [
    "new_nodes_df = pd.concat(new_nodes, sort=False)\n",
    "new_edges_df = pd.concat(new_edges, sort=False)"
   ]
  },
  {
   "cell_type": "code",
   "execution_count": 124,
   "metadata": {},
   "outputs": [
    {
     "data": {
      "text/html": [
       "<div>\n",
       "<style scoped>\n",
       "    .dataframe tbody tr th:only-of-type {\n",
       "        vertical-align: middle;\n",
       "    }\n",
       "\n",
       "    .dataframe tbody tr th {\n",
       "        vertical-align: top;\n",
       "    }\n",
       "\n",
       "    .dataframe thead th {\n",
       "        text-align: right;\n",
       "    }\n",
       "</style>\n",
       "<table border=\"1\" class=\"dataframe\">\n",
       "  <thead>\n",
       "    <tr style=\"text-align: right;\">\n",
       "      <th></th>\n",
       "      <th>id</th>\n",
       "      <th>name</th>\n",
       "      <th>label</th>\n",
       "      <th>drug_bank_ids</th>\n",
       "      <th>mesh_ids</th>\n",
       "    </tr>\n",
       "  </thead>\n",
       "  <tbody>\n",
       "    <tr>\n",
       "      <th>28</th>\n",
       "      <td>REACT:R-HSA-8956321</td>\n",
       "      <td>Nucleotide salvage</td>\n",
       "      <td>Pathway</td>\n",
       "      <td>NaN</td>\n",
       "      <td>NaN</td>\n",
       "    </tr>\n",
       "    <tr>\n",
       "      <th>43</th>\n",
       "      <td>REACT:R-HSA-8957275</td>\n",
       "      <td>Post-translational protein phosphorylation</td>\n",
       "      <td>Pathway</td>\n",
       "      <td>NaN</td>\n",
       "      <td>NaN</td>\n",
       "    </tr>\n",
       "  </tbody>\n",
       "</table>\n",
       "</div>"
      ],
      "text/plain": [
       "                     id                                        name    label  \\\n",
       "28  REACT:R-HSA-8956321                          Nucleotide salvage  Pathway   \n",
       "43  REACT:R-HSA-8957275  Post-translational protein phosphorylation  Pathway   \n",
       "\n",
       "   drug_bank_ids mesh_ids  \n",
       "28           NaN      NaN  \n",
       "43           NaN      NaN  "
      ]
     },
     "execution_count": 124,
     "metadata": {},
     "output_type": "execute_result"
    }
   ],
   "source": [
    "new_nodes_df.head(2)"
   ]
  },
  {
   "cell_type": "code",
   "execution_count": 125,
   "metadata": {},
   "outputs": [
    {
     "data": {
      "text/html": [
       "<div>\n",
       "<style scoped>\n",
       "    .dataframe tbody tr th:only-of-type {\n",
       "        vertical-align: middle;\n",
       "    }\n",
       "\n",
       "    .dataframe tbody tr th {\n",
       "        vertical-align: top;\n",
       "    }\n",
       "\n",
       "    .dataframe thead th {\n",
       "        text-align: right;\n",
       "    }\n",
       "</style>\n",
       "<table border=\"1\" class=\"dataframe\">\n",
       "  <thead>\n",
       "    <tr style=\"text-align: right;\">\n",
       "      <th></th>\n",
       "      <th>start_id</th>\n",
       "      <th>end_id</th>\n",
       "      <th>evidence_code</th>\n",
       "      <th>type</th>\n",
       "      <th>qualifier</th>\n",
       "      <th>with_or_from</th>\n",
       "      <th>date</th>\n",
       "      <th>assigned_by</th>\n",
       "    </tr>\n",
       "  </thead>\n",
       "  <tbody>\n",
       "    <tr>\n",
       "      <th>0</th>\n",
       "      <td>1</td>\n",
       "      <td>REACT:R-HSA-109582</td>\n",
       "      <td>TAS</td>\n",
       "      <td>part_of_GpoPW</td>\n",
       "      <td>NaN</td>\n",
       "      <td>NaN</td>\n",
       "      <td>NaN</td>\n",
       "      <td>NaN</td>\n",
       "    </tr>\n",
       "    <tr>\n",
       "      <th>1</th>\n",
       "      <td>1</td>\n",
       "      <td>REACT:R-HSA-109582</td>\n",
       "      <td>TAS</td>\n",
       "      <td>part_of_GpoPW</td>\n",
       "      <td>NaN</td>\n",
       "      <td>NaN</td>\n",
       "      <td>NaN</td>\n",
       "      <td>NaN</td>\n",
       "    </tr>\n",
       "  </tbody>\n",
       "</table>\n",
       "</div>"
      ],
      "text/plain": [
       "  start_id              end_id evidence_code           type qualifier  \\\n",
       "0        1  REACT:R-HSA-109582           TAS  part_of_GpoPW       NaN   \n",
       "1        1  REACT:R-HSA-109582           TAS  part_of_GpoPW       NaN   \n",
       "\n",
       "  with_or_from date assigned_by  \n",
       "0          NaN  NaN         NaN  \n",
       "1          NaN  NaN         NaN  "
      ]
     },
     "execution_count": 125,
     "metadata": {},
     "output_type": "execute_result"
    }
   ],
   "source": [
    "new_edges_df.head(2)"
   ]
  },
  {
   "cell_type": "code",
   "execution_count": 126,
   "metadata": {},
   "outputs": [
    {
     "data": {
      "text/plain": [
       "part_of_GpoPW         198300\n",
       "part_of_GpoRX         141135\n",
       "part_of_RXpoCC         74905\n",
       "part_of_CpoPW          38864\n",
       "part_of_CpoRX          24287\n",
       "involved_in_PWinBP     16869\n",
       "involved_in_RXinBP      2041\n",
       "enables_RXeMF           1661\n",
       "part_of_NpoPW            248\n",
       "part_of_NpoRX            146\n",
       "Name: type, dtype: int64"
      ]
     },
     "execution_count": 126,
     "metadata": {},
     "output_type": "execute_result"
    }
   ],
   "source": [
    "new_edges_df['type'].value_counts()"
   ]
  },
  {
   "cell_type": "code",
   "execution_count": 127,
   "metadata": {},
   "outputs": [
    {
     "name": "stdout",
     "output_type": "stream",
     "text": [
      "Total number of new edges: 498,456\n",
      "Number of unique new edges: 279,450\n"
     ]
    }
   ],
   "source": [
    "print('Total number of new edges: {:,}'.format(len(new_edges_df)))\n",
    "print('Number of unique new edges: {:,}'.format(len(new_edges_df.drop_duplicates(subset=['start_id', 'end_id', 'type']))))"
   ]
  },
  {
   "cell_type": "markdown",
   "metadata": {},
   "source": [
    "Why are so many edges duplicated? what kind are they?"
   ]
  },
  {
   "cell_type": "code",
   "execution_count": 128,
   "metadata": {},
   "outputs": [
    {
     "data": {
      "text/html": [
       "<div>\n",
       "<style scoped>\n",
       "    .dataframe tbody tr th:only-of-type {\n",
       "        vertical-align: middle;\n",
       "    }\n",
       "\n",
       "    .dataframe tbody tr th {\n",
       "        vertical-align: top;\n",
       "    }\n",
       "\n",
       "    .dataframe thead th {\n",
       "        text-align: right;\n",
       "    }\n",
       "</style>\n",
       "<table border=\"1\" class=\"dataframe\">\n",
       "  <thead>\n",
       "    <tr style=\"text-align: right;\">\n",
       "      <th></th>\n",
       "      <th>start_id</th>\n",
       "      <th>end_id</th>\n",
       "      <th>evidence_code</th>\n",
       "      <th>type</th>\n",
       "      <th>qualifier</th>\n",
       "      <th>with_or_from</th>\n",
       "      <th>date</th>\n",
       "      <th>assigned_by</th>\n",
       "    </tr>\n",
       "  </thead>\n",
       "  <tbody>\n",
       "    <tr>\n",
       "      <th>0</th>\n",
       "      <td>1</td>\n",
       "      <td>REACT:R-HSA-109582</td>\n",
       "      <td>TAS</td>\n",
       "      <td>part_of_GpoPW</td>\n",
       "      <td>NaN</td>\n",
       "      <td>NaN</td>\n",
       "      <td>NaN</td>\n",
       "      <td>NaN</td>\n",
       "    </tr>\n",
       "    <tr>\n",
       "      <th>1</th>\n",
       "      <td>1</td>\n",
       "      <td>REACT:R-HSA-109582</td>\n",
       "      <td>TAS</td>\n",
       "      <td>part_of_GpoPW</td>\n",
       "      <td>NaN</td>\n",
       "      <td>NaN</td>\n",
       "      <td>NaN</td>\n",
       "      <td>NaN</td>\n",
       "    </tr>\n",
       "    <tr>\n",
       "      <th>2</th>\n",
       "      <td>1</td>\n",
       "      <td>REACT:R-HSA-114608</td>\n",
       "      <td>TAS</td>\n",
       "      <td>part_of_GpoPW</td>\n",
       "      <td>NaN</td>\n",
       "      <td>NaN</td>\n",
       "      <td>NaN</td>\n",
       "      <td>NaN</td>\n",
       "    </tr>\n",
       "    <tr>\n",
       "      <th>3</th>\n",
       "      <td>1</td>\n",
       "      <td>REACT:R-HSA-114608</td>\n",
       "      <td>TAS</td>\n",
       "      <td>part_of_GpoPW</td>\n",
       "      <td>NaN</td>\n",
       "      <td>NaN</td>\n",
       "      <td>NaN</td>\n",
       "      <td>NaN</td>\n",
       "    </tr>\n",
       "    <tr>\n",
       "      <th>4</th>\n",
       "      <td>1</td>\n",
       "      <td>REACT:R-HSA-168249</td>\n",
       "      <td>TAS</td>\n",
       "      <td>part_of_GpoPW</td>\n",
       "      <td>NaN</td>\n",
       "      <td>NaN</td>\n",
       "      <td>NaN</td>\n",
       "      <td>NaN</td>\n",
       "    </tr>\n",
       "    <tr>\n",
       "      <th>5</th>\n",
       "      <td>1</td>\n",
       "      <td>REACT:R-HSA-168249</td>\n",
       "      <td>TAS</td>\n",
       "      <td>part_of_GpoPW</td>\n",
       "      <td>NaN</td>\n",
       "      <td>NaN</td>\n",
       "      <td>NaN</td>\n",
       "      <td>NaN</td>\n",
       "    </tr>\n",
       "    <tr>\n",
       "      <th>6</th>\n",
       "      <td>1</td>\n",
       "      <td>REACT:R-HSA-168249</td>\n",
       "      <td>TAS</td>\n",
       "      <td>part_of_GpoPW</td>\n",
       "      <td>NaN</td>\n",
       "      <td>NaN</td>\n",
       "      <td>NaN</td>\n",
       "      <td>NaN</td>\n",
       "    </tr>\n",
       "    <tr>\n",
       "      <th>7</th>\n",
       "      <td>1</td>\n",
       "      <td>REACT:R-HSA-168256</td>\n",
       "      <td>TAS</td>\n",
       "      <td>part_of_GpoPW</td>\n",
       "      <td>NaN</td>\n",
       "      <td>NaN</td>\n",
       "      <td>NaN</td>\n",
       "      <td>NaN</td>\n",
       "    </tr>\n",
       "    <tr>\n",
       "      <th>8</th>\n",
       "      <td>1</td>\n",
       "      <td>REACT:R-HSA-168256</td>\n",
       "      <td>TAS</td>\n",
       "      <td>part_of_GpoPW</td>\n",
       "      <td>NaN</td>\n",
       "      <td>NaN</td>\n",
       "      <td>NaN</td>\n",
       "      <td>NaN</td>\n",
       "    </tr>\n",
       "    <tr>\n",
       "      <th>9</th>\n",
       "      <td>1</td>\n",
       "      <td>REACT:R-HSA-168256</td>\n",
       "      <td>TAS</td>\n",
       "      <td>part_of_GpoPW</td>\n",
       "      <td>NaN</td>\n",
       "      <td>NaN</td>\n",
       "      <td>NaN</td>\n",
       "      <td>NaN</td>\n",
       "    </tr>\n",
       "  </tbody>\n",
       "</table>\n",
       "</div>"
      ],
      "text/plain": [
       "  start_id              end_id evidence_code           type qualifier  \\\n",
       "0        1  REACT:R-HSA-109582           TAS  part_of_GpoPW       NaN   \n",
       "1        1  REACT:R-HSA-109582           TAS  part_of_GpoPW       NaN   \n",
       "2        1  REACT:R-HSA-114608           TAS  part_of_GpoPW       NaN   \n",
       "3        1  REACT:R-HSA-114608           TAS  part_of_GpoPW       NaN   \n",
       "4        1  REACT:R-HSA-168249           TAS  part_of_GpoPW       NaN   \n",
       "5        1  REACT:R-HSA-168249           TAS  part_of_GpoPW       NaN   \n",
       "6        1  REACT:R-HSA-168249           TAS  part_of_GpoPW       NaN   \n",
       "7        1  REACT:R-HSA-168256           TAS  part_of_GpoPW       NaN   \n",
       "8        1  REACT:R-HSA-168256           TAS  part_of_GpoPW       NaN   \n",
       "9        1  REACT:R-HSA-168256           TAS  part_of_GpoPW       NaN   \n",
       "\n",
       "  with_or_from date assigned_by  \n",
       "0          NaN  NaN         NaN  \n",
       "1          NaN  NaN         NaN  \n",
       "2          NaN  NaN         NaN  \n",
       "3          NaN  NaN         NaN  \n",
       "4          NaN  NaN         NaN  \n",
       "5          NaN  NaN         NaN  \n",
       "6          NaN  NaN         NaN  \n",
       "7          NaN  NaN         NaN  \n",
       "8          NaN  NaN         NaN  \n",
       "9          NaN  NaN         NaN  "
      ]
     },
     "execution_count": 128,
     "metadata": {},
     "output_type": "execute_result"
    }
   ],
   "source": [
    "ix = new_edges_df.duplicated(keep=False)\n",
    "new_edges_df[ix].sort_values(['start_id', 'end_id', 'type']).head(10)"
   ]
  },
  {
   "cell_type": "code",
   "execution_count": 129,
   "metadata": {},
   "outputs": [
    {
     "data": {
      "text/plain": [
       "part_of_GpoPW         102808\n",
       "part_of_GpoRX          53412\n",
       "part_of_RXpoCC         51756\n",
       "part_of_CpoPW          16997\n",
       "involved_in_PWinBP     16699\n",
       "part_of_CpoRX           3727\n",
       "involved_in_RXinBP      1890\n",
       "enables_RXeMF            182\n",
       "part_of_NpoPW             12\n",
       "part_of_NpoRX              4\n",
       "Name: type, dtype: int64"
      ]
     },
     "execution_count": 129,
     "metadata": {},
     "output_type": "execute_result"
    }
   ],
   "source": [
    "new_edges_df[ix]['type'].value_counts()"
   ]
  },
  {
   "cell_type": "code",
   "execution_count": 130,
   "metadata": {},
   "outputs": [
    {
     "data": {
      "text/html": [
       "<div>\n",
       "<style scoped>\n",
       "    .dataframe tbody tr th:only-of-type {\n",
       "        vertical-align: middle;\n",
       "    }\n",
       "\n",
       "    .dataframe tbody tr th {\n",
       "        vertical-align: top;\n",
       "    }\n",
       "\n",
       "    .dataframe thead th {\n",
       "        text-align: right;\n",
       "    }\n",
       "</style>\n",
       "<table border=\"1\" class=\"dataframe\">\n",
       "  <thead>\n",
       "    <tr style=\"text-align: right;\">\n",
       "      <th></th>\n",
       "      <th>start_id</th>\n",
       "      <th>end_id</th>\n",
       "      <th>evidence_code</th>\n",
       "      <th>type</th>\n",
       "      <th>qualifier</th>\n",
       "      <th>with_or_from</th>\n",
       "      <th>date</th>\n",
       "      <th>assigned_by</th>\n",
       "    </tr>\n",
       "  </thead>\n",
       "  <tbody>\n",
       "    <tr>\n",
       "      <th>0</th>\n",
       "      <td>1</td>\n",
       "      <td>REACT:R-HSA-109582</td>\n",
       "      <td>TAS</td>\n",
       "      <td>part_of_GpoPW</td>\n",
       "      <td>NaN</td>\n",
       "      <td>NaN</td>\n",
       "      <td>NaN</td>\n",
       "      <td>NaN</td>\n",
       "    </tr>\n",
       "    <tr>\n",
       "      <th>1</th>\n",
       "      <td>1</td>\n",
       "      <td>REACT:R-HSA-109582</td>\n",
       "      <td>TAS</td>\n",
       "      <td>part_of_GpoPW</td>\n",
       "      <td>NaN</td>\n",
       "      <td>NaN</td>\n",
       "      <td>NaN</td>\n",
       "      <td>NaN</td>\n",
       "    </tr>\n",
       "    <tr>\n",
       "      <th>2</th>\n",
       "      <td>1</td>\n",
       "      <td>REACT:R-HSA-114608</td>\n",
       "      <td>TAS</td>\n",
       "      <td>part_of_GpoPW</td>\n",
       "      <td>NaN</td>\n",
       "      <td>NaN</td>\n",
       "      <td>NaN</td>\n",
       "      <td>NaN</td>\n",
       "    </tr>\n",
       "    <tr>\n",
       "      <th>3</th>\n",
       "      <td>1</td>\n",
       "      <td>REACT:R-HSA-114608</td>\n",
       "      <td>TAS</td>\n",
       "      <td>part_of_GpoPW</td>\n",
       "      <td>NaN</td>\n",
       "      <td>NaN</td>\n",
       "      <td>NaN</td>\n",
       "      <td>NaN</td>\n",
       "    </tr>\n",
       "    <tr>\n",
       "      <th>4</th>\n",
       "      <td>1</td>\n",
       "      <td>REACT:R-HSA-168249</td>\n",
       "      <td>TAS</td>\n",
       "      <td>part_of_GpoPW</td>\n",
       "      <td>NaN</td>\n",
       "      <td>NaN</td>\n",
       "      <td>NaN</td>\n",
       "      <td>NaN</td>\n",
       "    </tr>\n",
       "    <tr>\n",
       "      <th>5</th>\n",
       "      <td>1</td>\n",
       "      <td>REACT:R-HSA-168249</td>\n",
       "      <td>TAS</td>\n",
       "      <td>part_of_GpoPW</td>\n",
       "      <td>NaN</td>\n",
       "      <td>NaN</td>\n",
       "      <td>NaN</td>\n",
       "      <td>NaN</td>\n",
       "    </tr>\n",
       "    <tr>\n",
       "      <th>478</th>\n",
       "      <td>CHEBI:10545</td>\n",
       "      <td>REACT:R-HSA-1430728</td>\n",
       "      <td>TAS</td>\n",
       "      <td>part_of_CpoPW</td>\n",
       "      <td>NaN</td>\n",
       "      <td>NaN</td>\n",
       "      <td>NaN</td>\n",
       "      <td>NaN</td>\n",
       "    </tr>\n",
       "    <tr>\n",
       "      <th>479</th>\n",
       "      <td>CHEBI:10545</td>\n",
       "      <td>REACT:R-HSA-1430728</td>\n",
       "      <td>TAS</td>\n",
       "      <td>part_of_CpoPW</td>\n",
       "      <td>NaN</td>\n",
       "      <td>NaN</td>\n",
       "      <td>NaN</td>\n",
       "      <td>NaN</td>\n",
       "    </tr>\n",
       "    <tr>\n",
       "      <th>483</th>\n",
       "      <td>CHEBI:10545</td>\n",
       "      <td>REACT:R-HSA-196854</td>\n",
       "      <td>TAS</td>\n",
       "      <td>part_of_CpoPW</td>\n",
       "      <td>NaN</td>\n",
       "      <td>NaN</td>\n",
       "      <td>NaN</td>\n",
       "      <td>NaN</td>\n",
       "    </tr>\n",
       "    <tr>\n",
       "      <th>484</th>\n",
       "      <td>CHEBI:10545</td>\n",
       "      <td>REACT:R-HSA-196854</td>\n",
       "      <td>TAS</td>\n",
       "      <td>part_of_CpoPW</td>\n",
       "      <td>NaN</td>\n",
       "      <td>NaN</td>\n",
       "      <td>NaN</td>\n",
       "      <td>NaN</td>\n",
       "    </tr>\n",
       "    <tr>\n",
       "      <th>493</th>\n",
       "      <td>CHEBI:10545</td>\n",
       "      <td>REACT:R-HSA-382551</td>\n",
       "      <td>TAS</td>\n",
       "      <td>part_of_CpoPW</td>\n",
       "      <td>NaN</td>\n",
       "      <td>NaN</td>\n",
       "      <td>NaN</td>\n",
       "      <td>NaN</td>\n",
       "    </tr>\n",
       "    <tr>\n",
       "      <th>494</th>\n",
       "      <td>CHEBI:10545</td>\n",
       "      <td>REACT:R-HSA-382551</td>\n",
       "      <td>TAS</td>\n",
       "      <td>part_of_CpoPW</td>\n",
       "      <td>NaN</td>\n",
       "      <td>NaN</td>\n",
       "      <td>NaN</td>\n",
       "      <td>NaN</td>\n",
       "    </tr>\n",
       "    <tr>\n",
       "      <th>139</th>\n",
       "      <td>URS0000283D0A_9606</td>\n",
       "      <td>REACT:R-HSA-203927</td>\n",
       "      <td>TAS</td>\n",
       "      <td>part_of_NpoPW</td>\n",
       "      <td>NaN</td>\n",
       "      <td>NaN</td>\n",
       "      <td>NaN</td>\n",
       "      <td>NaN</td>\n",
       "    </tr>\n",
       "    <tr>\n",
       "      <th>140</th>\n",
       "      <td>URS0000283D0A_9606</td>\n",
       "      <td>REACT:R-HSA-203927</td>\n",
       "      <td>TAS</td>\n",
       "      <td>part_of_NpoPW</td>\n",
       "      <td>NaN</td>\n",
       "      <td>NaN</td>\n",
       "      <td>NaN</td>\n",
       "      <td>NaN</td>\n",
       "    </tr>\n",
       "    <tr>\n",
       "      <th>141</th>\n",
       "      <td>URS0000283D0A_9606</td>\n",
       "      <td>REACT:R-HSA-211000</td>\n",
       "      <td>TAS</td>\n",
       "      <td>part_of_NpoPW</td>\n",
       "      <td>NaN</td>\n",
       "      <td>NaN</td>\n",
       "      <td>NaN</td>\n",
       "      <td>NaN</td>\n",
       "    </tr>\n",
       "    <tr>\n",
       "      <th>142</th>\n",
       "      <td>URS0000283D0A_9606</td>\n",
       "      <td>REACT:R-HSA-211000</td>\n",
       "      <td>TAS</td>\n",
       "      <td>part_of_NpoPW</td>\n",
       "      <td>NaN</td>\n",
       "      <td>NaN</td>\n",
       "      <td>NaN</td>\n",
       "      <td>NaN</td>\n",
       "    </tr>\n",
       "    <tr>\n",
       "      <th>143</th>\n",
       "      <td>URS0000283D0A_9606</td>\n",
       "      <td>REACT:R-HSA-74160</td>\n",
       "      <td>TAS</td>\n",
       "      <td>part_of_NpoPW</td>\n",
       "      <td>NaN</td>\n",
       "      <td>NaN</td>\n",
       "      <td>NaN</td>\n",
       "      <td>NaN</td>\n",
       "    </tr>\n",
       "    <tr>\n",
       "      <th>144</th>\n",
       "      <td>URS0000283D0A_9606</td>\n",
       "      <td>REACT:R-HSA-74160</td>\n",
       "      <td>TAS</td>\n",
       "      <td>part_of_NpoPW</td>\n",
       "      <td>NaN</td>\n",
       "      <td>NaN</td>\n",
       "      <td>NaN</td>\n",
       "      <td>NaN</td>\n",
       "    </tr>\n",
       "    <tr>\n",
       "      <th>0</th>\n",
       "      <td>1</td>\n",
       "      <td>REACT:R-HSA-481007</td>\n",
       "      <td>TAS</td>\n",
       "      <td>part_of_GpoRX</td>\n",
       "      <td>NaN</td>\n",
       "      <td>NaN</td>\n",
       "      <td>NaN</td>\n",
       "      <td>NaN</td>\n",
       "    </tr>\n",
       "    <tr>\n",
       "      <th>1</th>\n",
       "      <td>1</td>\n",
       "      <td>REACT:R-HSA-481007</td>\n",
       "      <td>TAS</td>\n",
       "      <td>part_of_GpoRX</td>\n",
       "      <td>NaN</td>\n",
       "      <td>NaN</td>\n",
       "      <td>NaN</td>\n",
       "      <td>NaN</td>\n",
       "    </tr>\n",
       "    <tr>\n",
       "      <th>2</th>\n",
       "      <td>1</td>\n",
       "      <td>REACT:R-HSA-6798748</td>\n",
       "      <td>TAS</td>\n",
       "      <td>part_of_GpoRX</td>\n",
       "      <td>NaN</td>\n",
       "      <td>NaN</td>\n",
       "      <td>NaN</td>\n",
       "      <td>NaN</td>\n",
       "    </tr>\n",
       "    <tr>\n",
       "      <th>3</th>\n",
       "      <td>1</td>\n",
       "      <td>REACT:R-HSA-6798748</td>\n",
       "      <td>TAS</td>\n",
       "      <td>part_of_GpoRX</td>\n",
       "      <td>NaN</td>\n",
       "      <td>NaN</td>\n",
       "      <td>NaN</td>\n",
       "      <td>NaN</td>\n",
       "    </tr>\n",
       "    <tr>\n",
       "      <th>4</th>\n",
       "      <td>1</td>\n",
       "      <td>REACT:R-HSA-6800434</td>\n",
       "      <td>TAS</td>\n",
       "      <td>part_of_GpoRX</td>\n",
       "      <td>NaN</td>\n",
       "      <td>NaN</td>\n",
       "      <td>NaN</td>\n",
       "      <td>NaN</td>\n",
       "    </tr>\n",
       "    <tr>\n",
       "      <th>5</th>\n",
       "      <td>1</td>\n",
       "      <td>REACT:R-HSA-6800434</td>\n",
       "      <td>TAS</td>\n",
       "      <td>part_of_GpoRX</td>\n",
       "      <td>NaN</td>\n",
       "      <td>NaN</td>\n",
       "      <td>NaN</td>\n",
       "      <td>NaN</td>\n",
       "    </tr>\n",
       "    <tr>\n",
       "      <th>18</th>\n",
       "      <td>CHEBI:10668</td>\n",
       "      <td>REACT:R-HSA-5696807</td>\n",
       "      <td>TAS</td>\n",
       "      <td>part_of_CpoRX</td>\n",
       "      <td>NaN</td>\n",
       "      <td>NaN</td>\n",
       "      <td>NaN</td>\n",
       "      <td>NaN</td>\n",
       "    </tr>\n",
       "    <tr>\n",
       "      <th>19</th>\n",
       "      <td>CHEBI:10668</td>\n",
       "      <td>REACT:R-HSA-5696807</td>\n",
       "      <td>TAS</td>\n",
       "      <td>part_of_CpoRX</td>\n",
       "      <td>NaN</td>\n",
       "      <td>NaN</td>\n",
       "      <td>NaN</td>\n",
       "      <td>NaN</td>\n",
       "    </tr>\n",
       "    <tr>\n",
       "      <th>20</th>\n",
       "      <td>CHEBI:10668</td>\n",
       "      <td>REACT:R-HSA-5696807</td>\n",
       "      <td>TAS</td>\n",
       "      <td>part_of_CpoRX</td>\n",
       "      <td>NaN</td>\n",
       "      <td>NaN</td>\n",
       "      <td>NaN</td>\n",
       "      <td>NaN</td>\n",
       "    </tr>\n",
       "    <tr>\n",
       "      <th>21</th>\n",
       "      <td>CHEBI:10668</td>\n",
       "      <td>REACT:R-HSA-5696807</td>\n",
       "      <td>TAS</td>\n",
       "      <td>part_of_CpoRX</td>\n",
       "      <td>NaN</td>\n",
       "      <td>NaN</td>\n",
       "      <td>NaN</td>\n",
       "      <td>NaN</td>\n",
       "    </tr>\n",
       "    <tr>\n",
       "      <th>22</th>\n",
       "      <td>CHEBI:10668</td>\n",
       "      <td>REACT:R-HSA-5696810</td>\n",
       "      <td>TAS</td>\n",
       "      <td>part_of_CpoRX</td>\n",
       "      <td>NaN</td>\n",
       "      <td>NaN</td>\n",
       "      <td>NaN</td>\n",
       "      <td>NaN</td>\n",
       "    </tr>\n",
       "    <tr>\n",
       "      <th>23</th>\n",
       "      <td>CHEBI:10668</td>\n",
       "      <td>REACT:R-HSA-5696810</td>\n",
       "      <td>TAS</td>\n",
       "      <td>part_of_CpoRX</td>\n",
       "      <td>NaN</td>\n",
       "      <td>NaN</td>\n",
       "      <td>NaN</td>\n",
       "      <td>NaN</td>\n",
       "    </tr>\n",
       "    <tr>\n",
       "      <th>82</th>\n",
       "      <td>URS0000283D0A_9606</td>\n",
       "      <td>REACT:R-HSA-5578717</td>\n",
       "      <td>TAS</td>\n",
       "      <td>part_of_NpoRX</td>\n",
       "      <td>NaN</td>\n",
       "      <td>NaN</td>\n",
       "      <td>NaN</td>\n",
       "      <td>NaN</td>\n",
       "    </tr>\n",
       "    <tr>\n",
       "      <th>83</th>\n",
       "      <td>URS0000283D0A_9606</td>\n",
       "      <td>REACT:R-HSA-5578717</td>\n",
       "      <td>TAS</td>\n",
       "      <td>part_of_NpoRX</td>\n",
       "      <td>NaN</td>\n",
       "      <td>NaN</td>\n",
       "      <td>NaN</td>\n",
       "      <td>NaN</td>\n",
       "    </tr>\n",
       "    <tr>\n",
       "      <th>90</th>\n",
       "      <td>URS00004F4657_9606</td>\n",
       "      <td>REACT:R-HSA-5578717</td>\n",
       "      <td>TAS</td>\n",
       "      <td>part_of_NpoRX</td>\n",
       "      <td>NaN</td>\n",
       "      <td>NaN</td>\n",
       "      <td>NaN</td>\n",
       "      <td>NaN</td>\n",
       "    </tr>\n",
       "    <tr>\n",
       "      <th>91</th>\n",
       "      <td>URS00004F4657_9606</td>\n",
       "      <td>REACT:R-HSA-5578717</td>\n",
       "      <td>TAS</td>\n",
       "      <td>part_of_NpoRX</td>\n",
       "      <td>NaN</td>\n",
       "      <td>NaN</td>\n",
       "      <td>NaN</td>\n",
       "      <td>NaN</td>\n",
       "    </tr>\n",
       "    <tr>\n",
       "      <th>12698</th>\n",
       "      <td>REACT:R-HSA-1059683</td>\n",
       "      <td>GO:0070102</td>\n",
       "      <td>TAS</td>\n",
       "      <td>involved_in_PWinBP</td>\n",
       "      <td>NaN</td>\n",
       "      <td>NaN</td>\n",
       "      <td>20190308</td>\n",
       "      <td>Reactome</td>\n",
       "    </tr>\n",
       "    <tr>\n",
       "      <th>12699</th>\n",
       "      <td>REACT:R-HSA-1059683</td>\n",
       "      <td>GO:0070102</td>\n",
       "      <td>TAS</td>\n",
       "      <td>involved_in_PWinBP</td>\n",
       "      <td>NaN</td>\n",
       "      <td>NaN</td>\n",
       "      <td>20190308</td>\n",
       "      <td>Reactome</td>\n",
       "    </tr>\n",
       "    <tr>\n",
       "      <th>12700</th>\n",
       "      <td>REACT:R-HSA-1059683</td>\n",
       "      <td>GO:0070102</td>\n",
       "      <td>TAS</td>\n",
       "      <td>involved_in_PWinBP</td>\n",
       "      <td>NaN</td>\n",
       "      <td>NaN</td>\n",
       "      <td>20190308</td>\n",
       "      <td>Reactome</td>\n",
       "    </tr>\n",
       "    <tr>\n",
       "      <th>12701</th>\n",
       "      <td>REACT:R-HSA-1059683</td>\n",
       "      <td>GO:0070102</td>\n",
       "      <td>TAS</td>\n",
       "      <td>involved_in_PWinBP</td>\n",
       "      <td>NaN</td>\n",
       "      <td>NaN</td>\n",
       "      <td>20190308</td>\n",
       "      <td>Reactome</td>\n",
       "    </tr>\n",
       "    <tr>\n",
       "      <th>12702</th>\n",
       "      <td>REACT:R-HSA-1059683</td>\n",
       "      <td>GO:0070102</td>\n",
       "      <td>TAS</td>\n",
       "      <td>involved_in_PWinBP</td>\n",
       "      <td>NaN</td>\n",
       "      <td>NaN</td>\n",
       "      <td>20190308</td>\n",
       "      <td>Reactome</td>\n",
       "    </tr>\n",
       "    <tr>\n",
       "      <th>72849</th>\n",
       "      <td>REACT:R-HSA-1059683</td>\n",
       "      <td>GO:0070102</td>\n",
       "      <td>TAS</td>\n",
       "      <td>involved_in_PWinBP</td>\n",
       "      <td>NaN</td>\n",
       "      <td>NaN</td>\n",
       "      <td>20190308</td>\n",
       "      <td>Reactome</td>\n",
       "    </tr>\n",
       "    <tr>\n",
       "      <th>66062</th>\n",
       "      <td>REACT:R-HSA-1008200</td>\n",
       "      <td>GO:0005654</td>\n",
       "      <td>TAS</td>\n",
       "      <td>part_of_RXpoCC</td>\n",
       "      <td>NaN</td>\n",
       "      <td>NaN</td>\n",
       "      <td>20130528</td>\n",
       "      <td>Reactome</td>\n",
       "    </tr>\n",
       "    <tr>\n",
       "      <th>66063</th>\n",
       "      <td>REACT:R-HSA-1008200</td>\n",
       "      <td>GO:0005654</td>\n",
       "      <td>TAS</td>\n",
       "      <td>part_of_RXpoCC</td>\n",
       "      <td>NaN</td>\n",
       "      <td>NaN</td>\n",
       "      <td>20130528</td>\n",
       "      <td>Reactome</td>\n",
       "    </tr>\n",
       "    <tr>\n",
       "      <th>66064</th>\n",
       "      <td>REACT:R-HSA-1008200</td>\n",
       "      <td>GO:0005654</td>\n",
       "      <td>TAS</td>\n",
       "      <td>part_of_RXpoCC</td>\n",
       "      <td>NaN</td>\n",
       "      <td>NaN</td>\n",
       "      <td>20130528</td>\n",
       "      <td>Reactome</td>\n",
       "    </tr>\n",
       "    <tr>\n",
       "      <th>66065</th>\n",
       "      <td>REACT:R-HSA-1008200</td>\n",
       "      <td>GO:0005654</td>\n",
       "      <td>TAS</td>\n",
       "      <td>part_of_RXpoCC</td>\n",
       "      <td>NaN</td>\n",
       "      <td>NaN</td>\n",
       "      <td>20130528</td>\n",
       "      <td>Reactome</td>\n",
       "    </tr>\n",
       "    <tr>\n",
       "      <th>39706</th>\n",
       "      <td>REACT:R-HSA-1008220</td>\n",
       "      <td>GO:0005829</td>\n",
       "      <td>TAS</td>\n",
       "      <td>part_of_RXpoCC</td>\n",
       "      <td>NaN</td>\n",
       "      <td>NaN</td>\n",
       "      <td>20130528</td>\n",
       "      <td>Reactome</td>\n",
       "    </tr>\n",
       "    <tr>\n",
       "      <th>39707</th>\n",
       "      <td>REACT:R-HSA-1008220</td>\n",
       "      <td>GO:0005829</td>\n",
       "      <td>TAS</td>\n",
       "      <td>part_of_RXpoCC</td>\n",
       "      <td>NaN</td>\n",
       "      <td>NaN</td>\n",
       "      <td>20130528</td>\n",
       "      <td>Reactome</td>\n",
       "    </tr>\n",
       "    <tr>\n",
       "      <th>36820</th>\n",
       "      <td>REACT:R-HSA-110375</td>\n",
       "      <td>GO:0006286</td>\n",
       "      <td>TAS</td>\n",
       "      <td>involved_in_RXinBP</td>\n",
       "      <td>NaN</td>\n",
       "      <td>NaN</td>\n",
       "      <td>20190308</td>\n",
       "      <td>Reactome</td>\n",
       "    </tr>\n",
       "    <tr>\n",
       "      <th>36821</th>\n",
       "      <td>REACT:R-HSA-110375</td>\n",
       "      <td>GO:0006286</td>\n",
       "      <td>TAS</td>\n",
       "      <td>involved_in_RXinBP</td>\n",
       "      <td>NaN</td>\n",
       "      <td>NaN</td>\n",
       "      <td>20190308</td>\n",
       "      <td>Reactome</td>\n",
       "    </tr>\n",
       "    <tr>\n",
       "      <th>85418</th>\n",
       "      <td>REACT:R-HSA-111438</td>\n",
       "      <td>GO:0008334</td>\n",
       "      <td>TAS</td>\n",
       "      <td>involved_in_RXinBP</td>\n",
       "      <td>NaN</td>\n",
       "      <td>NaN</td>\n",
       "      <td>20190308</td>\n",
       "      <td>Reactome</td>\n",
       "    </tr>\n",
       "    <tr>\n",
       "      <th>85419</th>\n",
       "      <td>REACT:R-HSA-111438</td>\n",
       "      <td>GO:0008334</td>\n",
       "      <td>TAS</td>\n",
       "      <td>involved_in_RXinBP</td>\n",
       "      <td>NaN</td>\n",
       "      <td>NaN</td>\n",
       "      <td>20190308</td>\n",
       "      <td>Reactome</td>\n",
       "    </tr>\n",
       "    <tr>\n",
       "      <th>85420</th>\n",
       "      <td>REACT:R-HSA-111438</td>\n",
       "      <td>GO:0008334</td>\n",
       "      <td>TAS</td>\n",
       "      <td>involved_in_RXinBP</td>\n",
       "      <td>NaN</td>\n",
       "      <td>NaN</td>\n",
       "      <td>20190308</td>\n",
       "      <td>Reactome</td>\n",
       "    </tr>\n",
       "    <tr>\n",
       "      <th>85421</th>\n",
       "      <td>REACT:R-HSA-111438</td>\n",
       "      <td>GO:0008334</td>\n",
       "      <td>TAS</td>\n",
       "      <td>involved_in_RXinBP</td>\n",
       "      <td>NaN</td>\n",
       "      <td>NaN</td>\n",
       "      <td>20190308</td>\n",
       "      <td>Reactome</td>\n",
       "    </tr>\n",
       "    <tr>\n",
       "      <th>102097</th>\n",
       "      <td>REACT:R-HSA-1112602</td>\n",
       "      <td>GO:0004715</td>\n",
       "      <td>TAS</td>\n",
       "      <td>enables_RXeMF</td>\n",
       "      <td>NaN</td>\n",
       "      <td>NaN</td>\n",
       "      <td>20170213</td>\n",
       "      <td>Reactome</td>\n",
       "    </tr>\n",
       "    <tr>\n",
       "      <th>102098</th>\n",
       "      <td>REACT:R-HSA-1112602</td>\n",
       "      <td>GO:0004715</td>\n",
       "      <td>TAS</td>\n",
       "      <td>enables_RXeMF</td>\n",
       "      <td>NaN</td>\n",
       "      <td>NaN</td>\n",
       "      <td>20170213</td>\n",
       "      <td>Reactome</td>\n",
       "    </tr>\n",
       "    <tr>\n",
       "      <th>18115</th>\n",
       "      <td>REACT:R-HSA-1112666</td>\n",
       "      <td>GO:0004629</td>\n",
       "      <td>TAS</td>\n",
       "      <td>enables_RXeMF</td>\n",
       "      <td>NaN</td>\n",
       "      <td>NaN</td>\n",
       "      <td>20120226</td>\n",
       "      <td>Reactome</td>\n",
       "    </tr>\n",
       "    <tr>\n",
       "      <th>18116</th>\n",
       "      <td>REACT:R-HSA-1112666</td>\n",
       "      <td>GO:0004629</td>\n",
       "      <td>TAS</td>\n",
       "      <td>enables_RXeMF</td>\n",
       "      <td>NaN</td>\n",
       "      <td>NaN</td>\n",
       "      <td>20120226</td>\n",
       "      <td>Reactome</td>\n",
       "    </tr>\n",
       "    <tr>\n",
       "      <th>81407</th>\n",
       "      <td>REACT:R-HSA-1112703</td>\n",
       "      <td>GO:0004715</td>\n",
       "      <td>TAS</td>\n",
       "      <td>enables_RXeMF</td>\n",
       "      <td>NaN</td>\n",
       "      <td>NaN</td>\n",
       "      <td>20170213</td>\n",
       "      <td>Reactome</td>\n",
       "    </tr>\n",
       "    <tr>\n",
       "      <th>81408</th>\n",
       "      <td>REACT:R-HSA-1112703</td>\n",
       "      <td>GO:0004715</td>\n",
       "      <td>TAS</td>\n",
       "      <td>enables_RXeMF</td>\n",
       "      <td>NaN</td>\n",
       "      <td>NaN</td>\n",
       "      <td>20170213</td>\n",
       "      <td>Reactome</td>\n",
       "    </tr>\n",
       "  </tbody>\n",
       "</table>\n",
       "</div>"
      ],
      "text/plain": [
       "                   start_id               end_id evidence_code  \\\n",
       "0                         1   REACT:R-HSA-109582           TAS   \n",
       "1                         1   REACT:R-HSA-109582           TAS   \n",
       "2                         1   REACT:R-HSA-114608           TAS   \n",
       "3                         1   REACT:R-HSA-114608           TAS   \n",
       "4                         1   REACT:R-HSA-168249           TAS   \n",
       "5                         1   REACT:R-HSA-168249           TAS   \n",
       "478             CHEBI:10545  REACT:R-HSA-1430728           TAS   \n",
       "479             CHEBI:10545  REACT:R-HSA-1430728           TAS   \n",
       "483             CHEBI:10545   REACT:R-HSA-196854           TAS   \n",
       "484             CHEBI:10545   REACT:R-HSA-196854           TAS   \n",
       "493             CHEBI:10545   REACT:R-HSA-382551           TAS   \n",
       "494             CHEBI:10545   REACT:R-HSA-382551           TAS   \n",
       "139      URS0000283D0A_9606   REACT:R-HSA-203927           TAS   \n",
       "140      URS0000283D0A_9606   REACT:R-HSA-203927           TAS   \n",
       "141      URS0000283D0A_9606   REACT:R-HSA-211000           TAS   \n",
       "142      URS0000283D0A_9606   REACT:R-HSA-211000           TAS   \n",
       "143      URS0000283D0A_9606    REACT:R-HSA-74160           TAS   \n",
       "144      URS0000283D0A_9606    REACT:R-HSA-74160           TAS   \n",
       "0                         1   REACT:R-HSA-481007           TAS   \n",
       "1                         1   REACT:R-HSA-481007           TAS   \n",
       "2                         1  REACT:R-HSA-6798748           TAS   \n",
       "3                         1  REACT:R-HSA-6798748           TAS   \n",
       "4                         1  REACT:R-HSA-6800434           TAS   \n",
       "5                         1  REACT:R-HSA-6800434           TAS   \n",
       "18              CHEBI:10668  REACT:R-HSA-5696807           TAS   \n",
       "19              CHEBI:10668  REACT:R-HSA-5696807           TAS   \n",
       "20              CHEBI:10668  REACT:R-HSA-5696807           TAS   \n",
       "21              CHEBI:10668  REACT:R-HSA-5696807           TAS   \n",
       "22              CHEBI:10668  REACT:R-HSA-5696810           TAS   \n",
       "23              CHEBI:10668  REACT:R-HSA-5696810           TAS   \n",
       "82       URS0000283D0A_9606  REACT:R-HSA-5578717           TAS   \n",
       "83       URS0000283D0A_9606  REACT:R-HSA-5578717           TAS   \n",
       "90       URS00004F4657_9606  REACT:R-HSA-5578717           TAS   \n",
       "91       URS00004F4657_9606  REACT:R-HSA-5578717           TAS   \n",
       "12698   REACT:R-HSA-1059683           GO:0070102           TAS   \n",
       "12699   REACT:R-HSA-1059683           GO:0070102           TAS   \n",
       "12700   REACT:R-HSA-1059683           GO:0070102           TAS   \n",
       "12701   REACT:R-HSA-1059683           GO:0070102           TAS   \n",
       "12702   REACT:R-HSA-1059683           GO:0070102           TAS   \n",
       "72849   REACT:R-HSA-1059683           GO:0070102           TAS   \n",
       "66062   REACT:R-HSA-1008200           GO:0005654           TAS   \n",
       "66063   REACT:R-HSA-1008200           GO:0005654           TAS   \n",
       "66064   REACT:R-HSA-1008200           GO:0005654           TAS   \n",
       "66065   REACT:R-HSA-1008200           GO:0005654           TAS   \n",
       "39706   REACT:R-HSA-1008220           GO:0005829           TAS   \n",
       "39707   REACT:R-HSA-1008220           GO:0005829           TAS   \n",
       "36820    REACT:R-HSA-110375           GO:0006286           TAS   \n",
       "36821    REACT:R-HSA-110375           GO:0006286           TAS   \n",
       "85418    REACT:R-HSA-111438           GO:0008334           TAS   \n",
       "85419    REACT:R-HSA-111438           GO:0008334           TAS   \n",
       "85420    REACT:R-HSA-111438           GO:0008334           TAS   \n",
       "85421    REACT:R-HSA-111438           GO:0008334           TAS   \n",
       "102097  REACT:R-HSA-1112602           GO:0004715           TAS   \n",
       "102098  REACT:R-HSA-1112602           GO:0004715           TAS   \n",
       "18115   REACT:R-HSA-1112666           GO:0004629           TAS   \n",
       "18116   REACT:R-HSA-1112666           GO:0004629           TAS   \n",
       "81407   REACT:R-HSA-1112703           GO:0004715           TAS   \n",
       "81408   REACT:R-HSA-1112703           GO:0004715           TAS   \n",
       "\n",
       "                      type qualifier with_or_from      date assigned_by  \n",
       "0            part_of_GpoPW       NaN          NaN       NaN         NaN  \n",
       "1            part_of_GpoPW       NaN          NaN       NaN         NaN  \n",
       "2            part_of_GpoPW       NaN          NaN       NaN         NaN  \n",
       "3            part_of_GpoPW       NaN          NaN       NaN         NaN  \n",
       "4            part_of_GpoPW       NaN          NaN       NaN         NaN  \n",
       "5            part_of_GpoPW       NaN          NaN       NaN         NaN  \n",
       "478          part_of_CpoPW       NaN          NaN       NaN         NaN  \n",
       "479          part_of_CpoPW       NaN          NaN       NaN         NaN  \n",
       "483          part_of_CpoPW       NaN          NaN       NaN         NaN  \n",
       "484          part_of_CpoPW       NaN          NaN       NaN         NaN  \n",
       "493          part_of_CpoPW       NaN          NaN       NaN         NaN  \n",
       "494          part_of_CpoPW       NaN          NaN       NaN         NaN  \n",
       "139          part_of_NpoPW       NaN          NaN       NaN         NaN  \n",
       "140          part_of_NpoPW       NaN          NaN       NaN         NaN  \n",
       "141          part_of_NpoPW       NaN          NaN       NaN         NaN  \n",
       "142          part_of_NpoPW       NaN          NaN       NaN         NaN  \n",
       "143          part_of_NpoPW       NaN          NaN       NaN         NaN  \n",
       "144          part_of_NpoPW       NaN          NaN       NaN         NaN  \n",
       "0            part_of_GpoRX       NaN          NaN       NaN         NaN  \n",
       "1            part_of_GpoRX       NaN          NaN       NaN         NaN  \n",
       "2            part_of_GpoRX       NaN          NaN       NaN         NaN  \n",
       "3            part_of_GpoRX       NaN          NaN       NaN         NaN  \n",
       "4            part_of_GpoRX       NaN          NaN       NaN         NaN  \n",
       "5            part_of_GpoRX       NaN          NaN       NaN         NaN  \n",
       "18           part_of_CpoRX       NaN          NaN       NaN         NaN  \n",
       "19           part_of_CpoRX       NaN          NaN       NaN         NaN  \n",
       "20           part_of_CpoRX       NaN          NaN       NaN         NaN  \n",
       "21           part_of_CpoRX       NaN          NaN       NaN         NaN  \n",
       "22           part_of_CpoRX       NaN          NaN       NaN         NaN  \n",
       "23           part_of_CpoRX       NaN          NaN       NaN         NaN  \n",
       "82           part_of_NpoRX       NaN          NaN       NaN         NaN  \n",
       "83           part_of_NpoRX       NaN          NaN       NaN         NaN  \n",
       "90           part_of_NpoRX       NaN          NaN       NaN         NaN  \n",
       "91           part_of_NpoRX       NaN          NaN       NaN         NaN  \n",
       "12698   involved_in_PWinBP       NaN          NaN  20190308    Reactome  \n",
       "12699   involved_in_PWinBP       NaN          NaN  20190308    Reactome  \n",
       "12700   involved_in_PWinBP       NaN          NaN  20190308    Reactome  \n",
       "12701   involved_in_PWinBP       NaN          NaN  20190308    Reactome  \n",
       "12702   involved_in_PWinBP       NaN          NaN  20190308    Reactome  \n",
       "72849   involved_in_PWinBP       NaN          NaN  20190308    Reactome  \n",
       "66062       part_of_RXpoCC       NaN          NaN  20130528    Reactome  \n",
       "66063       part_of_RXpoCC       NaN          NaN  20130528    Reactome  \n",
       "66064       part_of_RXpoCC       NaN          NaN  20130528    Reactome  \n",
       "66065       part_of_RXpoCC       NaN          NaN  20130528    Reactome  \n",
       "39706       part_of_RXpoCC       NaN          NaN  20130528    Reactome  \n",
       "39707       part_of_RXpoCC       NaN          NaN  20130528    Reactome  \n",
       "36820   involved_in_RXinBP       NaN          NaN  20190308    Reactome  \n",
       "36821   involved_in_RXinBP       NaN          NaN  20190308    Reactome  \n",
       "85418   involved_in_RXinBP       NaN          NaN  20190308    Reactome  \n",
       "85419   involved_in_RXinBP       NaN          NaN  20190308    Reactome  \n",
       "85420   involved_in_RXinBP       NaN          NaN  20190308    Reactome  \n",
       "85421   involved_in_RXinBP       NaN          NaN  20190308    Reactome  \n",
       "102097       enables_RXeMF       NaN          NaN  20170213    Reactome  \n",
       "102098       enables_RXeMF       NaN          NaN  20170213    Reactome  \n",
       "18115        enables_RXeMF       NaN          NaN  20120226    Reactome  \n",
       "18116        enables_RXeMF       NaN          NaN  20120226    Reactome  \n",
       "81407        enables_RXeMF       NaN          NaN  20170213    Reactome  \n",
       "81408        enables_RXeMF       NaN          NaN  20170213    Reactome  "
      ]
     },
     "execution_count": 130,
     "metadata": {},
     "output_type": "execute_result"
    }
   ],
   "source": [
    "dup_types = new_edges_df[ix]['type'].unique()\n",
    "\n",
    "dup_dfs = []\n",
    "\n",
    "for dt in dup_types:\n",
    "    dup_dfs.append(new_edges_df[ix].query('type == @dt').sort_values(['start_id', 'end_id', 'type']).head(6))\n",
    "    \n",
    "pd.concat(dup_dfs)"
   ]
  },
  {
   "cell_type": "markdown",
   "metadata": {},
   "source": [
    "I see no reason for any of these duplications.... We'll just do a simple 'drop_duplicates' rather than merging any columns"
   ]
  },
  {
   "cell_type": "code",
   "execution_count": 131,
   "metadata": {},
   "outputs": [],
   "source": [
    "new_edges_df = new_edges_df.drop_duplicates(subset=['start_id', 'end_id', 'type']).copy()"
   ]
  },
  {
   "cell_type": "code",
   "execution_count": 132,
   "metadata": {},
   "outputs": [
    {
     "data": {
      "text/plain": [
       "279450"
      ]
     },
     "execution_count": 132,
     "metadata": {},
     "output_type": "execute_result"
    }
   ],
   "source": [
    "len(new_edges_df)"
   ]
  },
  {
   "cell_type": "code",
   "execution_count": 133,
   "metadata": {},
   "outputs": [
    {
     "name": "stdout",
     "output_type": "stream",
     "text": [
      "279450\n",
      "277121\n"
     ]
    }
   ],
   "source": [
    "all_node_ids = set(all_nodes['id']) | set(new_nodes_df['id'])\n",
    "\n",
    "print(len(new_edges_df))\n",
    "new_edges_df_filt = new_edges_df.query('start_id in @all_node_ids and end_id in @all_node_ids').copy()\n",
    "print(len(new_edges_df_filt))"
   ]
  },
  {
   "cell_type": "code",
   "execution_count": 134,
   "metadata": {},
   "outputs": [
    {
     "data": {
      "text/plain": [
       "part_of_GpoRX    1483\n",
       "part_of_GpoPW     806\n",
       "part_of_CpoPW      38\n",
       "enables_RXeMF       2\n",
       "Name: type, dtype: int64"
      ]
     },
     "execution_count": 134,
     "metadata": {},
     "output_type": "execute_result"
    }
   ],
   "source": [
    "# Lests see how many of what kinds of edges had to be dropped...\n",
    "new_edges_df.query('start_id not in @all_node_ids or end_id not in @all_node_ids')['type'].value_counts()"
   ]
  },
  {
   "cell_type": "code",
   "execution_count": 135,
   "metadata": {},
   "outputs": [
    {
     "data": {
      "text/html": [
       "<div>\n",
       "<style scoped>\n",
       "    .dataframe tbody tr th:only-of-type {\n",
       "        vertical-align: middle;\n",
       "    }\n",
       "\n",
       "    .dataframe tbody tr th {\n",
       "        vertical-align: top;\n",
       "    }\n",
       "\n",
       "    .dataframe thead th {\n",
       "        text-align: right;\n",
       "    }\n",
       "</style>\n",
       "<table border=\"1\" class=\"dataframe\">\n",
       "  <thead>\n",
       "    <tr style=\"text-align: right;\">\n",
       "      <th></th>\n",
       "      <th>id</th>\n",
       "      <th>name</th>\n",
       "      <th>label</th>\n",
       "      <th>tree_numbers</th>\n",
       "      <th>drug_bank_ids</th>\n",
       "      <th>alt_disease_ids</th>\n",
       "      <th>gene_symbol</th>\n",
       "      <th>alt_gene_ids</th>\n",
       "      <th>bio_gridids</th>\n",
       "      <th>pharm_gkbids</th>\n",
       "      <th>uni_prot_ids</th>\n",
       "      <th>uniprot_id</th>\n",
       "      <th>mesh_ids</th>\n",
       "      <th>chebi_ids</th>\n",
       "    </tr>\n",
       "  </thead>\n",
       "  <tbody>\n",
       "    <tr>\n",
       "      <th>0</th>\n",
       "      <td>MESH:C089250</td>\n",
       "      <td>(0.017ferrocene)amylose</td>\n",
       "      <td>Compound</td>\n",
       "      <td>D01.490.200/C089250|D02.691.550.200/C089250|D0...</td>\n",
       "      <td>NaN</td>\n",
       "      <td>NaN</td>\n",
       "      <td>NaN</td>\n",
       "      <td>NaN</td>\n",
       "      <td>NaN</td>\n",
       "      <td>NaN</td>\n",
       "      <td>NaN</td>\n",
       "      <td>NaN</td>\n",
       "      <td>NaN</td>\n",
       "      <td>NaN</td>\n",
       "    </tr>\n",
       "    <tr>\n",
       "      <th>1</th>\n",
       "      <td>MESH:C114385</td>\n",
       "      <td>001-C8-NBD</td>\n",
       "      <td>Compound</td>\n",
       "      <td>D03.383.129.462.580/C114385|D12.644.456/C114385</td>\n",
       "      <td>NaN</td>\n",
       "      <td>NaN</td>\n",
       "      <td>NaN</td>\n",
       "      <td>NaN</td>\n",
       "      <td>NaN</td>\n",
       "      <td>NaN</td>\n",
       "      <td>NaN</td>\n",
       "      <td>NaN</td>\n",
       "      <td>NaN</td>\n",
       "      <td>NaN</td>\n",
       "    </tr>\n",
       "  </tbody>\n",
       "</table>\n",
       "</div>"
      ],
      "text/plain": [
       "             id                     name     label  \\\n",
       "0  MESH:C089250  (0.017ferrocene)amylose  Compound   \n",
       "1  MESH:C114385               001-C8-NBD  Compound   \n",
       "\n",
       "                                        tree_numbers drug_bank_ids  \\\n",
       "0  D01.490.200/C089250|D02.691.550.200/C089250|D0...           NaN   \n",
       "1    D03.383.129.462.580/C114385|D12.644.456/C114385           NaN   \n",
       "\n",
       "  alt_disease_ids gene_symbol alt_gene_ids bio_gridids pharm_gkbids  \\\n",
       "0             NaN         NaN          NaN         NaN          NaN   \n",
       "1             NaN         NaN          NaN         NaN          NaN   \n",
       "\n",
       "  uni_prot_ids uniprot_id mesh_ids chebi_ids  \n",
       "0          NaN        NaN      NaN       NaN  \n",
       "1          NaN        NaN      NaN       NaN  "
      ]
     },
     "execution_count": 135,
     "metadata": {},
     "output_type": "execute_result"
    }
   ],
   "source": [
    "all_nodes_out = pd.concat([all_nodes.drop('l_name', axis=1), new_nodes_df], sort=False)\n",
    "all_nodes_out['chebi_ids'] = all_nodes_out['id'].map(mesh_to_chebi)\n",
    "all_nodes_out.head(2)"
   ]
  },
  {
   "cell_type": "code",
   "execution_count": 136,
   "metadata": {},
   "outputs": [
    {
     "data": {
      "text/html": [
       "<div>\n",
       "<style scoped>\n",
       "    .dataframe tbody tr th:only-of-type {\n",
       "        vertical-align: middle;\n",
       "    }\n",
       "\n",
       "    .dataframe tbody tr th {\n",
       "        vertical-align: top;\n",
       "    }\n",
       "\n",
       "    .dataframe thead th {\n",
       "        text-align: right;\n",
       "    }\n",
       "</style>\n",
       "<table border=\"1\" class=\"dataframe\">\n",
       "  <thead>\n",
       "    <tr style=\"text-align: right;\">\n",
       "      <th></th>\n",
       "      <th>start_id</th>\n",
       "      <th>end_id</th>\n",
       "      <th>type</th>\n",
       "      <th>parent_ixn</th>\n",
       "      <th>pub_med_ids</th>\n",
       "      <th>organism_id</th>\n",
       "      <th>abbv</th>\n",
       "      <th>direct_evidence</th>\n",
       "      <th>corrected_pvalue</th>\n",
       "      <th>inference_gene_symbol</th>\n",
       "      <th>qualifier</th>\n",
       "      <th>db_reference</th>\n",
       "      <th>evidence_code</th>\n",
       "      <th>with_or_from</th>\n",
       "      <th>date</th>\n",
       "      <th>assigned_by</th>\n",
       "      <th>experiments</th>\n",
       "      <th>support_type</th>\n",
       "    </tr>\n",
       "  </thead>\n",
       "  <tbody>\n",
       "    <tr>\n",
       "      <th>0</th>\n",
       "      <td>MESH:C000121</td>\n",
       "      <td>4313</td>\n",
       "      <td>decreases_activity_CdaG</td>\n",
       "      <td>decreases^activity</td>\n",
       "      <td>25899827</td>\n",
       "      <td>9606</td>\n",
       "      <td>CdaG</td>\n",
       "      <td>NaN</td>\n",
       "      <td>NaN</td>\n",
       "      <td>NaN</td>\n",
       "      <td>NaN</td>\n",
       "      <td>NaN</td>\n",
       "      <td>NaN</td>\n",
       "      <td>NaN</td>\n",
       "      <td>NaN</td>\n",
       "      <td>NaN</td>\n",
       "      <td>NaN</td>\n",
       "      <td>NaN</td>\n",
       "    </tr>\n",
       "    <tr>\n",
       "      <th>1</th>\n",
       "      <td>MESH:C000121</td>\n",
       "      <td>4313</td>\n",
       "      <td>decreases_expression_CdeG</td>\n",
       "      <td>decreases^expression</td>\n",
       "      <td>25899827</td>\n",
       "      <td>9606</td>\n",
       "      <td>CdeG</td>\n",
       "      <td>NaN</td>\n",
       "      <td>NaN</td>\n",
       "      <td>NaN</td>\n",
       "      <td>NaN</td>\n",
       "      <td>NaN</td>\n",
       "      <td>NaN</td>\n",
       "      <td>NaN</td>\n",
       "      <td>NaN</td>\n",
       "      <td>NaN</td>\n",
       "      <td>NaN</td>\n",
       "      <td>NaN</td>\n",
       "    </tr>\n",
       "  </tbody>\n",
       "</table>\n",
       "</div>"
      ],
      "text/plain": [
       "       start_id end_id                       type            parent_ixn  \\\n",
       "0  MESH:C000121   4313    decreases_activity_CdaG    decreases^activity   \n",
       "1  MESH:C000121   4313  decreases_expression_CdeG  decreases^expression   \n",
       "\n",
       "  pub_med_ids organism_id  abbv direct_evidence corrected_pvalue  \\\n",
       "0    25899827        9606  CdaG             NaN              NaN   \n",
       "1    25899827        9606  CdeG             NaN              NaN   \n",
       "\n",
       "  inference_gene_symbol qualifier db_reference evidence_code with_or_from  \\\n",
       "0                   NaN       NaN          NaN           NaN          NaN   \n",
       "1                   NaN       NaN          NaN           NaN          NaN   \n",
       "\n",
       "  date assigned_by experiments support_type  \n",
       "0  NaN         NaN         NaN          NaN  \n",
       "1  NaN         NaN         NaN          NaN  "
      ]
     },
     "execution_count": 136,
     "metadata": {},
     "output_type": "execute_result"
    }
   ],
   "source": [
    "new_edges_df_filt['abbv'] = new_edges_df_filt['type'].apply(lambda s: s.split('_')[-1])\n",
    "all_edges = pd.concat([edges, new_edges_df_filt], sort=False)\n",
    "all_edges.head(2)"
   ]
  },
  {
   "cell_type": "code",
   "execution_count": 137,
   "metadata": {
    "scrolled": true
   },
   "outputs": [
    {
     "data": {
      "text/plain": [
       "True"
      ]
     },
     "execution_count": 137,
     "metadata": {},
     "output_type": "execute_result"
    }
   ],
   "source": [
    "len(all_node_ids) == len(all_nodes_out)"
   ]
  },
  {
   "cell_type": "code",
   "execution_count": 138,
   "metadata": {},
   "outputs": [
    {
     "data": {
      "text/plain": [
       "111256"
      ]
     },
     "execution_count": 138,
     "metadata": {},
     "output_type": "execute_result"
    }
   ],
   "source": [
    "all_edge_ids = all_edges[['start_id', 'end_id']].stack()\n",
    "filt_nodes_out = all_nodes_out.query('id in @all_edge_ids')\n",
    "len(filt_nodes_out)"
   ]
  },
  {
   "cell_type": "markdown",
   "metadata": {},
   "source": [
    "# Save to Disk"
   ]
  },
  {
   "cell_type": "code",
   "execution_count": 139,
   "metadata": {},
   "outputs": [
    {
     "data": {
      "application/javascript": [
       "IPython.notebook.kernel.execute('nb_name = \"' + IPython.notebook.notebook_name + '\"')\n",
       "// hack to get the filename for this notebook"
      ],
      "text/plain": [
       "<IPython.core.display.Javascript object>"
      ]
     },
     "metadata": {},
     "output_type": "display_data"
    }
   ],
   "source": [
    "%%javascript\n",
    "IPython.notebook.kernel.execute('nb_name = \"' + IPython.notebook.notebook_name + '\"')\n",
    "// hack to get the filename for this notebook"
   ]
  },
  {
   "cell_type": "code",
   "execution_count": 140,
   "metadata": {},
   "outputs": [],
   "source": [
    "out_dir = Path('../2_pipeline/').joinpath(nb_name.split('.')[0]).joinpath('out').resolve()\n",
    "out_dir.mkdir(parents=True, exist_ok=True)"
   ]
  },
  {
   "cell_type": "code",
   "execution_count": 141,
   "metadata": {},
   "outputs": [],
   "source": [
    "gt.add_colons(new_nodes_df, id_name='identifier').to_csv(out_dir.joinpath('new_nodes.csv'), index=False)\n",
    "gt.add_colons(new_edges_df).to_csv(out_dir.joinpath('new_edges.csv'), index=False)"
   ]
  },
  {
   "cell_type": "code",
   "execution_count": 142,
   "metadata": {},
   "outputs": [],
   "source": [
    "gt.add_colons(all_nodes_out, id_name='identifier').to_csv(out_dir.joinpath('nodes_all.csv'), index=False)\n",
    "gt.add_colons(filt_nodes_out, id_name='identifier').to_csv(out_dir.joinpath('nodes_filt.csv'), index=False)\n",
    "\n",
    "gt.add_colons(all_edges).to_csv(out_dir.joinpath('edges.csv'), index=False)"
   ]
  }
 ],
 "metadata": {
  "kernelspec": {
   "display_name": "Python 3",
   "language": "python",
   "name": "python3"
  },
  "language_info": {
   "codemirror_mode": {
    "name": "ipython",
    "version": 3
   },
   "file_extension": ".py",
   "mimetype": "text/x-python",
   "name": "python",
   "nbconvert_exporter": "python",
   "pygments_lexer": "ipython3",
   "version": "3.6.8"
  }
 },
 "nbformat": 4,
 "nbformat_minor": 2
}
