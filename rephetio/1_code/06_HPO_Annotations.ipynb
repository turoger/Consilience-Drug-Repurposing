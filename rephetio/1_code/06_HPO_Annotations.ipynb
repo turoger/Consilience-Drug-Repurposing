{
 "cells": [
  {
   "cell_type": "code",
   "execution_count": 1,
   "metadata": {},
   "outputs": [
    {
     "name": "stderr",
     "output_type": "stream",
     "text": [
      "/home/mmayers/software/miniconda3/envs/ml/lib/python3.7/site-packages/data_tools/df_processing.py:4: TqdmExperimentalWarning: Using `tqdm.autonotebook.tqdm` in notebook mode. Use `tqdm.tqdm` instead to force console mode (e.g. in jupyter console)\n",
      "  from tqdm.autonotebook import tqdm\n"
     ]
    }
   ],
   "source": [
    "%matplotlib inline\n",
    "\n",
    "import pandas as pd\n",
    "from pathlib import Path\n",
    "from biothings_client import get_client\n",
    "\n",
    "from data_tools import graphs as gt\n",
    "from data_tools.wiki import get_curi_xrefs\n",
    "from data_tools import obo_processing as ot\n",
    "from data_tools.df_processing import expand_col_on_char, expand_split_col, combine_group_cols_on_char"
   ]
  },
  {
   "cell_type": "code",
   "execution_count": 2,
   "metadata": {},
   "outputs": [],
   "source": [
    "data_dir = Path('../2_pipeline/00_download_data/out/').resolve()\n",
    "this_name = '06_HPO_Annotations'\n",
    "out_dir = Path('../2_pipeline/').joinpath(this_name).joinpath('out').resolve()"
   ]
  },
  {
   "cell_type": "code",
   "execution_count": 3,
   "metadata": {},
   "outputs": [],
   "source": [
    "if not out_dir.exists():\n",
    "    out_dir.mkdir(parents=True)"
   ]
  },
  {
   "cell_type": "code",
   "execution_count": 4,
   "metadata": {},
   "outputs": [],
   "source": [
    "prev_nodes = pd.read_csv('../2_pipeline/05c_Computing_GO_Regulation_Edges/out/nodes.csv', dtype=str)\n",
    "prev_edges = pd.read_csv('../2_pipeline/05c_Computing_GO_Regulation_Edges/out/edges.csv', dtype=str)"
   ]
  },
  {
   "cell_type": "markdown",
   "metadata": {},
   "source": [
    "## Get previous phenotypes and xrefs and see what we can match to HPO"
   ]
  },
  {
   "cell_type": "code",
   "execution_count": 5,
   "metadata": {},
   "outputs": [],
   "source": [
    "pheno_nodes = prev_nodes.query('label == \"Phenotype\"')"
   ]
  },
  {
   "cell_type": "code",
   "execution_count": 6,
   "metadata": {},
   "outputs": [],
   "source": [
    "nw_to_xref = expand_col_on_char(pheno_nodes, 'xrefs', '|', False)[['id', 'xrefs']]"
   ]
  },
  {
   "cell_type": "code",
   "execution_count": 7,
   "metadata": {},
   "outputs": [
    {
     "data": {
      "text/plain": [
       "array(['HP', 'MESH', 'UMLS', 'MONDO', 'OMIM', 'SNOMED', 'WD'],\n",
       "      dtype=object)"
      ]
     },
     "execution_count": 7,
     "metadata": {},
     "output_type": "execute_result"
    }
   ],
   "source": [
    "nw_to_xref['nw_curi'] = nw_to_xref['id'].apply(lambda s: s.split(':')[0])\n",
    "nw_to_xref['xref_curi'] = nw_to_xref['xrefs'].apply(lambda s: s.split(':')[0] if type(s) == str else s)\n",
    "\n",
    "nw_to_xref[['nw_curi', 'xref_curi']].stack().unique()"
   ]
  },
  {
   "cell_type": "code",
   "execution_count": 8,
   "metadata": {},
   "outputs": [],
   "source": [
    "hp_nodes = ot.get_ontology_nodes(data_dir.joinpath('hpo.obo'))\n",
    "hp_struct = ot.get_ontology_edges(data_dir.joinpath('hpo.obo'))"
   ]
  },
  {
   "cell_type": "code",
   "execution_count": 9,
   "metadata": {},
   "outputs": [
    {
     "data": {
      "text/plain": [
       "array(['UMLS', 'MSH', 'SNOMEDCT_US', 'MEDDRA', 'Fyler', 'NCIT', nan,\n",
       "       'ICD-10', 'EPCC', 'ICD-O', 'DOID', 'MP', 'MPATH', 'PMID', 'pmid',\n",
       "       'http', 'RGD', 'MeSH', 'DOI', 'ORPHA', 'HP', 'ICD-9'], dtype=object)"
      ]
     },
     "execution_count": 9,
     "metadata": {},
     "output_type": "execute_result"
    }
   ],
   "source": [
    "hpo_to_xref = expand_col_on_char(hp_nodes[['id', 'xref']], 'xref', '|', False)\n",
    "hpo_to_xref['xref_curi'] = hpo_to_xref['xref'].apply(lambda s: s.split(':')[0] if type(s) == str else s)\n",
    "\n",
    "hpo_to_xref['xref_curi'].unique()"
   ]
  },
  {
   "cell_type": "code",
   "execution_count": 10,
   "metadata": {},
   "outputs": [
    {
     "data": {
      "text/plain": [
       "{'HP', 'MESH', 'SNOMED', 'UMLS'}"
      ]
     },
     "execution_count": 10,
     "metadata": {},
     "output_type": "execute_result"
    }
   ],
   "source": [
    "# Fix the curis so they're common between our network and HPO\n",
    "hpo_to_xref['xref'] = (hpo_to_xref['xref'].str.replace('MSH:', 'MESH:')\n",
    "                                          .str.replace('SNOMEDCT_US:', 'SNOMED:')\n",
    "                                          .str.replace('MeSH:', 'MESH:'))\n",
    "hpo_to_xref['xref_curi'] = hpo_to_xref['xref'].apply(lambda s: s.split(':')[0] if type(s) == str else s)\n",
    "\n",
    "\n",
    "common_curi = set(nw_to_xref[['nw_curi', 'xref_curi']].stack().unique()) & set(hpo_to_xref['xref_curi'].unique())\n",
    "common_curi"
   ]
  },
  {
   "cell_type": "code",
   "execution_count": 11,
   "metadata": {},
   "outputs": [
    {
     "data": {
      "text/plain": [
       "(17321, 10858)"
      ]
     },
     "execution_count": 11,
     "metadata": {},
     "output_type": "execute_result"
    }
   ],
   "source": [
    "hpo_in_nw = nw_to_xref.query('nw_curi == \"HP\"')['id'].unique()\n",
    "\n",
    "new_hpo = hpo_to_xref.query('id not in @hpo_in_nw and xref_curi in @common_curi')\n",
    "len(new_hpo), new_hpo['id'].nunique()"
   ]
  },
  {
   "cell_type": "markdown",
   "metadata": {},
   "source": [
    "Look at what terms we can re-align with HPO IDs thanks to these xrefs"
   ]
  },
  {
   "cell_type": "code",
   "execution_count": 12,
   "metadata": {},
   "outputs": [
    {
     "data": {
      "text/plain": [
       "MESH      1040\n",
       "UMLS        11\n",
       "SNOMED       5\n",
       "Name: xref_curi, dtype: int64"
      ]
     },
     "execution_count": 12,
     "metadata": {},
     "output_type": "execute_result"
    }
   ],
   "source": [
    "match_ids = nw_to_xref.query('nw_curi != \"HP\" and nw_curi in @common_curi or xref_curi in @common_curi')[['id', 'xrefs']].stack().unique()\n",
    "\n",
    "found_pheno = new_hpo.query('xref in @match_ids').rename(columns={'id': 'hp_id'})\n",
    "found_pheno['xref_curi'].value_counts()"
   ]
  },
  {
   "cell_type": "markdown",
   "metadata": {},
   "source": [
    "About 10% were found to already be in the network, mostly via MESH cross-references."
   ]
  },
  {
   "cell_type": "code",
   "execution_count": 13,
   "metadata": {},
   "outputs": [],
   "source": [
    "pheno_reid_map = found_pheno.merge(nw_to_xref.query('nw_curi != \"HP\"').rename(columns={'id': 'nw_id'}),\n",
    "                                   left_on='xref', right_on='xrefs')[['hp_id', 'nw_id']]"
   ]
  },
  {
   "cell_type": "code",
   "execution_count": 14,
   "metadata": {},
   "outputs": [
    {
     "data": {
      "text/plain": [
       "783901"
      ]
     },
     "execution_count": 14,
     "metadata": {},
     "output_type": "execute_result"
    }
   ],
   "source": [
    "len(prev_nodes)"
   ]
  },
  {
   "cell_type": "code",
   "execution_count": 15,
   "metadata": {},
   "outputs": [],
   "source": [
    "changed_ids = pheno_reid_map['hp_id'].unique()"
   ]
  },
  {
   "cell_type": "code",
   "execution_count": 16,
   "metadata": {},
   "outputs": [],
   "source": [
    "prev_edges = gt.re_id_edges(prev_edges, pheno_reid_map, 'nw_id', 'hp_id')\n",
    "prev_nodes = gt.re_id_nodes(prev_nodes, pheno_reid_map, 'nw_id', 'hp_id', False)"
   ]
  },
  {
   "cell_type": "code",
   "execution_count": 17,
   "metadata": {},
   "outputs": [
    {
     "data": {
      "text/html": [
       "<div>\n",
       "<style scoped>\n",
       "    .dataframe tbody tr th:only-of-type {\n",
       "        vertical-align: middle;\n",
       "    }\n",
       "\n",
       "    .dataframe tbody tr th {\n",
       "        vertical-align: top;\n",
       "    }\n",
       "\n",
       "    .dataframe thead th {\n",
       "        text-align: right;\n",
       "    }\n",
       "</style>\n",
       "<table border=\"1\" class=\"dataframe\">\n",
       "  <thead>\n",
       "    <tr style=\"text-align: right;\">\n",
       "      <th></th>\n",
       "      <th>id</th>\n",
       "      <th>name</th>\n",
       "      <th>label</th>\n",
       "      <th>xrefs</th>\n",
       "    </tr>\n",
       "  </thead>\n",
       "  <tbody>\n",
       "    <tr>\n",
       "      <th>574185</th>\n",
       "      <td>HP:0000003</td>\n",
       "      <td>multicystic dysplastic kidney</td>\n",
       "      <td>Phenotype</td>\n",
       "      <td>MESH:D021782</td>\n",
       "    </tr>\n",
       "    <tr>\n",
       "      <th>574188</th>\n",
       "      <td>HP:0000011</td>\n",
       "      <td>neurogenic bladder</td>\n",
       "      <td>Phenotype</td>\n",
       "      <td>MESH:D001750</td>\n",
       "    </tr>\n",
       "    <tr>\n",
       "      <th>574189</th>\n",
       "      <td>HP:0000015</td>\n",
       "      <td>bladder diverticulum</td>\n",
       "      <td>Phenotype</td>\n",
       "      <td>MESH:C562406|OMIM:109820</td>\n",
       "    </tr>\n",
       "    <tr>\n",
       "      <th>574193</th>\n",
       "      <td>HP:0000023</td>\n",
       "      <td>inguinal hernia</td>\n",
       "      <td>Phenotype</td>\n",
       "      <td>MESH:D006552</td>\n",
       "    </tr>\n",
       "    <tr>\n",
       "      <th>574194</th>\n",
       "      <td>HP:0000024</td>\n",
       "      <td>prostatitis</td>\n",
       "      <td>Phenotype</td>\n",
       "      <td>MESH:D011472</td>\n",
       "    </tr>\n",
       "    <tr>\n",
       "      <th>...</th>\n",
       "      <td>...</td>\n",
       "      <td>...</td>\n",
       "      <td>...</td>\n",
       "      <td>...</td>\n",
       "    </tr>\n",
       "    <tr>\n",
       "      <th>575917</th>\n",
       "      <td>HP:0100890</td>\n",
       "      <td>choledochal cyst</td>\n",
       "      <td>Phenotype</td>\n",
       "      <td>MESH:D015529|OMIM:603003</td>\n",
       "    </tr>\n",
       "    <tr>\n",
       "      <th>575923</th>\n",
       "      <td>HP:0200008</td>\n",
       "      <td>Cronkhite-Canada syndrome</td>\n",
       "      <td>Phenotype</td>\n",
       "      <td>MESH:D044483|OMIM:175500</td>\n",
       "    </tr>\n",
       "    <tr>\n",
       "      <th>575924</th>\n",
       "      <td>HP:0200022</td>\n",
       "      <td>choroid plexus papilloma</td>\n",
       "      <td>Phenotype</td>\n",
       "      <td>MESH:D020288|OMIM:260500</td>\n",
       "    </tr>\n",
       "    <tr>\n",
       "      <th>575925</th>\n",
       "      <td>HP:0200023</td>\n",
       "      <td>priapism</td>\n",
       "      <td>Phenotype</td>\n",
       "      <td>MESH:D011317</td>\n",
       "    </tr>\n",
       "    <tr>\n",
       "      <th>575926</th>\n",
       "      <td>HP:0200026</td>\n",
       "      <td>eye pain</td>\n",
       "      <td>Phenotype</td>\n",
       "      <td>MESH:D058447</td>\n",
       "    </tr>\n",
       "  </tbody>\n",
       "</table>\n",
       "<p>932 rows × 4 columns</p>\n",
       "</div>"
      ],
      "text/plain": [
       "                id                           name      label  \\\n",
       "574185  HP:0000003  multicystic dysplastic kidney  Phenotype   \n",
       "574188  HP:0000011             neurogenic bladder  Phenotype   \n",
       "574189  HP:0000015           bladder diverticulum  Phenotype   \n",
       "574193  HP:0000023                inguinal hernia  Phenotype   \n",
       "574194  HP:0000024                    prostatitis  Phenotype   \n",
       "...            ...                            ...        ...   \n",
       "575917  HP:0100890               choledochal cyst  Phenotype   \n",
       "575923  HP:0200008      Cronkhite-Canada syndrome  Phenotype   \n",
       "575924  HP:0200022       choroid plexus papilloma  Phenotype   \n",
       "575925  HP:0200023                       priapism  Phenotype   \n",
       "575926  HP:0200026                       eye pain  Phenotype   \n",
       "\n",
       "                           xrefs  \n",
       "574185              MESH:D021782  \n",
       "574188              MESH:D001750  \n",
       "574189  MESH:C562406|OMIM:109820  \n",
       "574193              MESH:D006552  \n",
       "574194              MESH:D011472  \n",
       "...                          ...  \n",
       "575917  MESH:D015529|OMIM:603003  \n",
       "575923  MESH:D044483|OMIM:175500  \n",
       "575924  MESH:D020288|OMIM:260500  \n",
       "575925              MESH:D011317  \n",
       "575926              MESH:D058447  \n",
       "\n",
       "[932 rows x 4 columns]"
      ]
     },
     "execution_count": 17,
     "metadata": {},
     "output_type": "execute_result"
    }
   ],
   "source": [
    "prev_nodes.query('id in @changed_ids')"
   ]
  },
  {
   "cell_type": "code",
   "execution_count": 18,
   "metadata": {},
   "outputs": [],
   "source": [
    "# get_official hpo names into the network\n",
    "hpid_to_name = hp_nodes.set_index('id')['name'].to_dict()\n",
    "\n",
    "prev_nodes['name'] = prev_nodes['id'].map(hpid_to_name).fillna(prev_nodes['name'])"
   ]
  },
  {
   "cell_type": "code",
   "execution_count": 19,
   "metadata": {},
   "outputs": [
    {
     "data": {
      "text/html": [
       "<div>\n",
       "<style scoped>\n",
       "    .dataframe tbody tr th:only-of-type {\n",
       "        vertical-align: middle;\n",
       "    }\n",
       "\n",
       "    .dataframe tbody tr th {\n",
       "        vertical-align: top;\n",
       "    }\n",
       "\n",
       "    .dataframe thead th {\n",
       "        text-align: right;\n",
       "    }\n",
       "</style>\n",
       "<table border=\"1\" class=\"dataframe\">\n",
       "  <thead>\n",
       "    <tr style=\"text-align: right;\">\n",
       "      <th></th>\n",
       "      <th>id</th>\n",
       "      <th>name</th>\n",
       "      <th>label</th>\n",
       "      <th>xrefs</th>\n",
       "    </tr>\n",
       "  </thead>\n",
       "  <tbody>\n",
       "    <tr>\n",
       "      <th>574185</th>\n",
       "      <td>HP:0000003</td>\n",
       "      <td>Multicystic kidney dysplasia</td>\n",
       "      <td>Phenotype</td>\n",
       "      <td>MESH:D021782</td>\n",
       "    </tr>\n",
       "    <tr>\n",
       "      <th>574188</th>\n",
       "      <td>HP:0000011</td>\n",
       "      <td>Neurogenic bladder</td>\n",
       "      <td>Phenotype</td>\n",
       "      <td>MESH:D001750</td>\n",
       "    </tr>\n",
       "    <tr>\n",
       "      <th>574189</th>\n",
       "      <td>HP:0000015</td>\n",
       "      <td>Bladder diverticulum</td>\n",
       "      <td>Phenotype</td>\n",
       "      <td>MESH:C562406|OMIM:109820</td>\n",
       "    </tr>\n",
       "    <tr>\n",
       "      <th>574193</th>\n",
       "      <td>HP:0000023</td>\n",
       "      <td>Inguinal hernia</td>\n",
       "      <td>Phenotype</td>\n",
       "      <td>MESH:D006552</td>\n",
       "    </tr>\n",
       "    <tr>\n",
       "      <th>574194</th>\n",
       "      <td>HP:0000024</td>\n",
       "      <td>Prostatitis</td>\n",
       "      <td>Phenotype</td>\n",
       "      <td>MESH:D011472</td>\n",
       "    </tr>\n",
       "    <tr>\n",
       "      <th>...</th>\n",
       "      <td>...</td>\n",
       "      <td>...</td>\n",
       "      <td>...</td>\n",
       "      <td>...</td>\n",
       "    </tr>\n",
       "    <tr>\n",
       "      <th>575917</th>\n",
       "      <td>HP:0100890</td>\n",
       "      <td>Cyst of the ductus choledochus</td>\n",
       "      <td>Phenotype</td>\n",
       "      <td>MESH:D015529|OMIM:603003</td>\n",
       "    </tr>\n",
       "    <tr>\n",
       "      <th>575923</th>\n",
       "      <td>HP:0200008</td>\n",
       "      <td>Intestinal polyposis</td>\n",
       "      <td>Phenotype</td>\n",
       "      <td>MESH:D044483|OMIM:175500</td>\n",
       "    </tr>\n",
       "    <tr>\n",
       "      <th>575924</th>\n",
       "      <td>HP:0200022</td>\n",
       "      <td>Choroid plexus papilloma</td>\n",
       "      <td>Phenotype</td>\n",
       "      <td>MESH:D020288|OMIM:260500</td>\n",
       "    </tr>\n",
       "    <tr>\n",
       "      <th>575925</th>\n",
       "      <td>HP:0200023</td>\n",
       "      <td>Priapism</td>\n",
       "      <td>Phenotype</td>\n",
       "      <td>MESH:D011317</td>\n",
       "    </tr>\n",
       "    <tr>\n",
       "      <th>575926</th>\n",
       "      <td>HP:0200026</td>\n",
       "      <td>Ocular pain</td>\n",
       "      <td>Phenotype</td>\n",
       "      <td>MESH:D058447</td>\n",
       "    </tr>\n",
       "  </tbody>\n",
       "</table>\n",
       "<p>932 rows × 4 columns</p>\n",
       "</div>"
      ],
      "text/plain": [
       "                id                            name      label  \\\n",
       "574185  HP:0000003    Multicystic kidney dysplasia  Phenotype   \n",
       "574188  HP:0000011              Neurogenic bladder  Phenotype   \n",
       "574189  HP:0000015            Bladder diverticulum  Phenotype   \n",
       "574193  HP:0000023                 Inguinal hernia  Phenotype   \n",
       "574194  HP:0000024                     Prostatitis  Phenotype   \n",
       "...            ...                             ...        ...   \n",
       "575917  HP:0100890  Cyst of the ductus choledochus  Phenotype   \n",
       "575923  HP:0200008            Intestinal polyposis  Phenotype   \n",
       "575924  HP:0200022        Choroid plexus papilloma  Phenotype   \n",
       "575925  HP:0200023                        Priapism  Phenotype   \n",
       "575926  HP:0200026                     Ocular pain  Phenotype   \n",
       "\n",
       "                           xrefs  \n",
       "574185              MESH:D021782  \n",
       "574188              MESH:D001750  \n",
       "574189  MESH:C562406|OMIM:109820  \n",
       "574193              MESH:D006552  \n",
       "574194              MESH:D011472  \n",
       "...                          ...  \n",
       "575917  MESH:D015529|OMIM:603003  \n",
       "575923  MESH:D044483|OMIM:175500  \n",
       "575924  MESH:D020288|OMIM:260500  \n",
       "575925              MESH:D011317  \n",
       "575926              MESH:D058447  \n",
       "\n",
       "[932 rows x 4 columns]"
      ]
     },
     "execution_count": 19,
     "metadata": {},
     "output_type": "execute_result"
    }
   ],
   "source": [
    "prev_nodes.query('id in @changed_ids')"
   ]
  },
  {
   "cell_type": "markdown",
   "metadata": {},
   "source": [
    "## Bring in the Annotations"
   ]
  },
  {
   "cell_type": "code",
   "execution_count": 20,
   "metadata": {},
   "outputs": [],
   "source": [
    "tab_cols = ['db', 'db_object_id', 'db_name', 'qualifier', 'hp_id', 'db_reference', 'evidence_code', 'onset_modifier', \n",
    "            'frequency', 'sex', 'modifier', 'aspect', 'date_created', 'assigned_by']\n",
    "\n",
    "hp_anno = pd.read_csv(data_dir.joinpath('phenotype_annotation.tab'), header=None, \n",
    "                       sep='\\t', dtype=str, names=tab_cols)\n",
    "hp_gene = pd.read_csv(data_dir.joinpath('ALL_SOURCES_ALL_FREQUENCIES_genes_to_phenotype.txt'), \n",
    "                       sep='\\t', header=None, comment='#', dtype=str,\n",
    "                       names=['gene_id', 'gene_symbol', 'hp_name', 'hp_id'])"
   ]
  },
  {
   "cell_type": "code",
   "execution_count": 21,
   "metadata": {},
   "outputs": [],
   "source": [
    "hp_name_map = hp_nodes.set_index('id')['name'].to_dict()\n",
    "hp_anno['hp_name'] = hp_anno['hp_id'].map(hp_name_map)"
   ]
  },
  {
   "cell_type": "code",
   "execution_count": 22,
   "metadata": {},
   "outputs": [
    {
     "data": {
      "text/plain": [
       "(166084, 142947)"
      ]
     },
     "execution_count": 22,
     "metadata": {},
     "output_type": "execute_result"
    }
   ],
   "source": [
    "len(hp_anno), len(hp_gene)"
   ]
  },
  {
   "cell_type": "code",
   "execution_count": 23,
   "metadata": {},
   "outputs": [
    {
     "data": {
      "text/html": [
       "<div>\n",
       "<style scoped>\n",
       "    .dataframe tbody tr th:only-of-type {\n",
       "        vertical-align: middle;\n",
       "    }\n",
       "\n",
       "    .dataframe tbody tr th {\n",
       "        vertical-align: top;\n",
       "    }\n",
       "\n",
       "    .dataframe thead th {\n",
       "        text-align: right;\n",
       "    }\n",
       "</style>\n",
       "<table border=\"1\" class=\"dataframe\">\n",
       "  <thead>\n",
       "    <tr style=\"text-align: right;\">\n",
       "      <th></th>\n",
       "      <th>db</th>\n",
       "      <th>db_object_id</th>\n",
       "      <th>db_name</th>\n",
       "      <th>qualifier</th>\n",
       "      <th>hp_id</th>\n",
       "      <th>db_reference</th>\n",
       "      <th>evidence_code</th>\n",
       "      <th>onset_modifier</th>\n",
       "      <th>frequency</th>\n",
       "      <th>sex</th>\n",
       "      <th>modifier</th>\n",
       "      <th>aspect</th>\n",
       "      <th>date_created</th>\n",
       "      <th>assigned_by</th>\n",
       "      <th>hp_name</th>\n",
       "    </tr>\n",
       "  </thead>\n",
       "  <tbody>\n",
       "    <tr>\n",
       "      <th>0</th>\n",
       "      <td>DECIPHER</td>\n",
       "      <td>1</td>\n",
       "      <td>Wolf-Hirschhorn Syndrome</td>\n",
       "      <td>NaN</td>\n",
       "      <td>HP:0000252</td>\n",
       "      <td>DECIPHER:1</td>\n",
       "      <td>IEA</td>\n",
       "      <td>NaN</td>\n",
       "      <td>NaN</td>\n",
       "      <td>NaN</td>\n",
       "      <td>P</td>\n",
       "      <td>WOLF-HIRSCHHORN SYNDROME</td>\n",
       "      <td>HPO:skoehler</td>\n",
       "      <td>NaN</td>\n",
       "      <td>Microcephaly</td>\n",
       "    </tr>\n",
       "    <tr>\n",
       "      <th>1</th>\n",
       "      <td>DECIPHER</td>\n",
       "      <td>1</td>\n",
       "      <td>Wolf-Hirschhorn Syndrome</td>\n",
       "      <td>NaN</td>\n",
       "      <td>HP:0001249</td>\n",
       "      <td>DECIPHER:1</td>\n",
       "      <td>IEA</td>\n",
       "      <td>NaN</td>\n",
       "      <td>NaN</td>\n",
       "      <td>NaN</td>\n",
       "      <td>P</td>\n",
       "      <td>WOLF-HIRSCHHORN SYNDROME</td>\n",
       "      <td>HPO:skoehler</td>\n",
       "      <td>NaN</td>\n",
       "      <td>Intellectual disability</td>\n",
       "    </tr>\n",
       "  </tbody>\n",
       "</table>\n",
       "</div>"
      ],
      "text/plain": [
       "         db db_object_id                   db_name qualifier       hp_id  \\\n",
       "0  DECIPHER            1  Wolf-Hirschhorn Syndrome       NaN  HP:0000252   \n",
       "1  DECIPHER            1  Wolf-Hirschhorn Syndrome       NaN  HP:0001249   \n",
       "\n",
       "  db_reference evidence_code onset_modifier frequency  sex modifier  \\\n",
       "0   DECIPHER:1           IEA            NaN       NaN  NaN        P   \n",
       "1   DECIPHER:1           IEA            NaN       NaN  NaN        P   \n",
       "\n",
       "                     aspect  date_created assigned_by                  hp_name  \n",
       "0  WOLF-HIRSCHHORN SYNDROME  HPO:skoehler         NaN             Microcephaly  \n",
       "1  WOLF-HIRSCHHORN SYNDROME  HPO:skoehler         NaN  Intellectual disability  "
      ]
     },
     "execution_count": 23,
     "metadata": {},
     "output_type": "execute_result"
    }
   ],
   "source": [
    "hp_anno.head(2)"
   ]
  },
  {
   "cell_type": "code",
   "execution_count": 24,
   "metadata": {},
   "outputs": [
    {
     "data": {
      "text/html": [
       "<div>\n",
       "<style scoped>\n",
       "    .dataframe tbody tr th:only-of-type {\n",
       "        vertical-align: middle;\n",
       "    }\n",
       "\n",
       "    .dataframe tbody tr th {\n",
       "        vertical-align: top;\n",
       "    }\n",
       "\n",
       "    .dataframe thead th {\n",
       "        text-align: right;\n",
       "    }\n",
       "</style>\n",
       "<table border=\"1\" class=\"dataframe\">\n",
       "  <thead>\n",
       "    <tr style=\"text-align: right;\">\n",
       "      <th></th>\n",
       "      <th>gene_id</th>\n",
       "      <th>gene_symbol</th>\n",
       "      <th>hp_name</th>\n",
       "      <th>hp_id</th>\n",
       "    </tr>\n",
       "  </thead>\n",
       "  <tbody>\n",
       "    <tr>\n",
       "      <th>0</th>\n",
       "      <td>8192</td>\n",
       "      <td>CLPP</td>\n",
       "      <td>Seizures</td>\n",
       "      <td>HP:0001250</td>\n",
       "    </tr>\n",
       "    <tr>\n",
       "      <th>1</th>\n",
       "      <td>8192</td>\n",
       "      <td>CLPP</td>\n",
       "      <td>Short stature</td>\n",
       "      <td>HP:0004322</td>\n",
       "    </tr>\n",
       "  </tbody>\n",
       "</table>\n",
       "</div>"
      ],
      "text/plain": [
       "  gene_id gene_symbol        hp_name       hp_id\n",
       "0    8192        CLPP       Seizures  HP:0001250\n",
       "1    8192        CLPP  Short stature  HP:0004322"
      ]
     },
     "execution_count": 24,
     "metadata": {},
     "output_type": "execute_result"
    }
   ],
   "source": [
    "hp_gene.head(2)"
   ]
  },
  {
   "cell_type": "markdown",
   "metadata": {},
   "source": [
    "## Examine Genes\n",
    "\n",
    "Genes are using entrez gene_id, so looking for overlap to the current network should be stratightforward"
   ]
  },
  {
   "cell_type": "code",
   "execution_count": 25,
   "metadata": {},
   "outputs": [
    {
     "data": {
      "text/html": [
       "<div>\n",
       "<style scoped>\n",
       "    .dataframe tbody tr th:only-of-type {\n",
       "        vertical-align: middle;\n",
       "    }\n",
       "\n",
       "    .dataframe tbody tr th {\n",
       "        vertical-align: top;\n",
       "    }\n",
       "\n",
       "    .dataframe thead th {\n",
       "        text-align: right;\n",
       "    }\n",
       "</style>\n",
       "<table border=\"1\" class=\"dataframe\">\n",
       "  <thead>\n",
       "    <tr style=\"text-align: right;\">\n",
       "      <th></th>\n",
       "      <th>id</th>\n",
       "      <th>name</th>\n",
       "      <th>label</th>\n",
       "      <th>xrefs</th>\n",
       "    </tr>\n",
       "  </thead>\n",
       "  <tbody>\n",
       "    <tr>\n",
       "      <th>338691</th>\n",
       "      <td>NCBIGene:100</td>\n",
       "      <td>ADA</td>\n",
       "      <td>Gene</td>\n",
       "      <td>ENSG:ENSG00000196839|HGNC:186|NCBIGene:100|OMI...</td>\n",
       "    </tr>\n",
       "    <tr>\n",
       "      <th>338693</th>\n",
       "      <td>NCBIGene:10000</td>\n",
       "      <td>AKT3</td>\n",
       "      <td>Gene</td>\n",
       "      <td>ENSG:ENSG00000117020|ENSG:ENSG00000275199|HGNC...</td>\n",
       "    </tr>\n",
       "    <tr>\n",
       "      <th>338712</th>\n",
       "      <td>NCBIGene:10002</td>\n",
       "      <td>NR2E3</td>\n",
       "      <td>Gene</td>\n",
       "      <td>ENSG:ENSG00000278570|HGNC:7974|NCBIGene:10002|...</td>\n",
       "    </tr>\n",
       "    <tr>\n",
       "      <th>338731</th>\n",
       "      <td>NCBIGene:100033413</td>\n",
       "      <td>SNORD116-1</td>\n",
       "      <td>Gene</td>\n",
       "      <td>HGNC:33067|NCBIGene:100033413|OMIM:605436|SYM:...</td>\n",
       "    </tr>\n",
       "    <tr>\n",
       "      <th>338854</th>\n",
       "      <td>NCBIGene:10008</td>\n",
       "      <td>KCNE3</td>\n",
       "      <td>Gene</td>\n",
       "      <td>ENSG:ENSG00000175538|HGNC:6243|NCBIGene:10008|...</td>\n",
       "    </tr>\n",
       "    <tr>\n",
       "      <th>...</th>\n",
       "      <td>...</td>\n",
       "      <td>...</td>\n",
       "      <td>...</td>\n",
       "      <td>...</td>\n",
       "    </tr>\n",
       "    <tr>\n",
       "      <th>461404</th>\n",
       "      <td>NCBIGene:999</td>\n",
       "      <td>CDH1</td>\n",
       "      <td>Gene</td>\n",
       "      <td>ENSG:ENSG00000039068|HGNC:1748|NCBIGene:999|OM...</td>\n",
       "    </tr>\n",
       "    <tr>\n",
       "      <th>461405</th>\n",
       "      <td>NCBIGene:9990</td>\n",
       "      <td>SLC12A6</td>\n",
       "      <td>Gene</td>\n",
       "      <td>ENSG:ENSG00000140199|HGNC:10914|NCBIGene:9990|...</td>\n",
       "    </tr>\n",
       "    <tr>\n",
       "      <th>461407</th>\n",
       "      <td>NCBIGene:9992</td>\n",
       "      <td>KCNE2</td>\n",
       "      <td>Gene</td>\n",
       "      <td>ENSG:ENSG00000159197|HGNC:6242|NCBIGene:9992|O...</td>\n",
       "    </tr>\n",
       "    <tr>\n",
       "      <th>461408</th>\n",
       "      <td>NCBIGene:9993</td>\n",
       "      <td>DGCR2</td>\n",
       "      <td>Gene</td>\n",
       "      <td>ENSG:ENSG00000070413|HGNC:2845|NCBIGene:9993|O...</td>\n",
       "    </tr>\n",
       "    <tr>\n",
       "      <th>461411</th>\n",
       "      <td>NCBIGene:9997</td>\n",
       "      <td>SCO2</td>\n",
       "      <td>Gene</td>\n",
       "      <td>ENSG:ENSG00000284194|HGNC:10604|NCBIGene:9997|...</td>\n",
       "    </tr>\n",
       "  </tbody>\n",
       "</table>\n",
       "<p>4015 rows × 4 columns</p>\n",
       "</div>"
      ],
      "text/plain": [
       "                        id        name label  \\\n",
       "338691        NCBIGene:100         ADA  Gene   \n",
       "338693      NCBIGene:10000        AKT3  Gene   \n",
       "338712      NCBIGene:10002       NR2E3  Gene   \n",
       "338731  NCBIGene:100033413  SNORD116-1  Gene   \n",
       "338854      NCBIGene:10008       KCNE3  Gene   \n",
       "...                    ...         ...   ...   \n",
       "461404        NCBIGene:999        CDH1  Gene   \n",
       "461405       NCBIGene:9990     SLC12A6  Gene   \n",
       "461407       NCBIGene:9992       KCNE2  Gene   \n",
       "461408       NCBIGene:9993       DGCR2  Gene   \n",
       "461411       NCBIGene:9997        SCO2  Gene   \n",
       "\n",
       "                                                    xrefs  \n",
       "338691  ENSG:ENSG00000196839|HGNC:186|NCBIGene:100|OMI...  \n",
       "338693  ENSG:ENSG00000117020|ENSG:ENSG00000275199|HGNC...  \n",
       "338712  ENSG:ENSG00000278570|HGNC:7974|NCBIGene:10002|...  \n",
       "338731  HGNC:33067|NCBIGene:100033413|OMIM:605436|SYM:...  \n",
       "338854  ENSG:ENSG00000175538|HGNC:6243|NCBIGene:10008|...  \n",
       "...                                                   ...  \n",
       "461404  ENSG:ENSG00000039068|HGNC:1748|NCBIGene:999|OM...  \n",
       "461405  ENSG:ENSG00000140199|HGNC:10914|NCBIGene:9990|...  \n",
       "461407  ENSG:ENSG00000159197|HGNC:6242|NCBIGene:9992|O...  \n",
       "461408  ENSG:ENSG00000070413|HGNC:2845|NCBIGene:9993|O...  \n",
       "461411  ENSG:ENSG00000284194|HGNC:10604|NCBIGene:9997|...  \n",
       "\n",
       "[4015 rows x 4 columns]"
      ]
     },
     "execution_count": 25,
     "metadata": {},
     "output_type": "execute_result"
    }
   ],
   "source": [
    "hp_gene['gene_id'] = 'NCBIGene:' + hp_gene['gene_id']\n",
    "hp_genes = hp_gene['gene_id'].unique()\n",
    "\n",
    "prev_nodes.query('id in @hp_genes')"
   ]
  },
  {
   "cell_type": "code",
   "execution_count": 26,
   "metadata": {},
   "outputs": [
    {
     "data": {
      "text/plain": [
       "4016"
      ]
     },
     "execution_count": 26,
     "metadata": {},
     "output_type": "execute_result"
    }
   ],
   "source": [
    "hp_gene['gene_id'].nunique()"
   ]
  },
  {
   "cell_type": "code",
   "execution_count": 27,
   "metadata": {},
   "outputs": [
    {
     "data": {
      "text/plain": [
       "{'NCBIGene:109580095'}"
      ]
     },
     "execution_count": 27,
     "metadata": {},
     "output_type": "execute_result"
    }
   ],
   "source": [
    "node_ids = set(prev_nodes['id'])\n",
    "set(hp_gene['gene_id']) - node_ids"
   ]
  },
  {
   "cell_type": "markdown",
   "metadata": {},
   "source": [
    "Only a very small number are missing... Don't think we'll add them, but let's at least look at what they"
   ]
  },
  {
   "cell_type": "code",
   "execution_count": 28,
   "metadata": {
    "scrolled": false
   },
   "outputs": [
    {
     "name": "stdout",
     "output_type": "stream",
     "text": [
      "querying 1-1...done.\n"
     ]
    },
    {
     "data": {
      "text/plain": [
       "[{'query': '109580095',\n",
       "  '_id': '109580095',\n",
       "  '_score': 22.604383,\n",
       "  'name': 'beta-globin locus control region',\n",
       "  'symbol': 'HBB-LCR'}]"
      ]
     },
     "execution_count": 28,
     "metadata": {},
     "output_type": "execute_result"
    }
   ],
   "source": [
    "mg = get_client('gene')\n",
    "mg.getgenes([g.split(':')[-1] for g in list(set(hp_gene['gene_id']) - node_ids)], fields=['name', 'symbol', 'uniprot'])"
   ]
  },
  {
   "cell_type": "code",
   "execution_count": 29,
   "metadata": {},
   "outputs": [
    {
     "data": {
      "text/plain": [
       "142945"
      ]
     },
     "execution_count": 29,
     "metadata": {},
     "output_type": "execute_result"
    }
   ],
   "source": [
    "hp_to_gene = hp_gene.query('gene_id in @node_ids')\n",
    "len(hp_to_gene)"
   ]
  },
  {
   "cell_type": "markdown",
   "metadata": {},
   "source": [
    "## Now HP to Disease Links\n",
    "\n",
    "HP has OMIM ids for diseases... We also have some OMIM Xrefs from WikiData that we can use to merge these concepts."
   ]
  },
  {
   "cell_type": "code",
   "execution_count": 30,
   "metadata": {},
   "outputs": [
    {
     "data": {
      "text/plain": [
       "7605"
      ]
     },
     "execution_count": 30,
     "metadata": {},
     "output_type": "execute_result"
    }
   ],
   "source": [
    "hp_anno.query('db == \"OMIM\"')['db_object_id'].nunique()"
   ]
  },
  {
   "cell_type": "code",
   "execution_count": 31,
   "metadata": {},
   "outputs": [],
   "source": [
    "hp_anno['disease_id'] = hp_anno['db'] + ':' + hp_anno['db_object_id']"
   ]
  },
  {
   "cell_type": "code",
   "execution_count": 32,
   "metadata": {},
   "outputs": [
    {
     "data": {
      "text/plain": [
       "15247"
      ]
     },
     "execution_count": 32,
     "metadata": {},
     "output_type": "execute_result"
    }
   ],
   "source": [
    "prev_nodes.query('label == \"Disease\"')['id'].nunique()"
   ]
  },
  {
   "cell_type": "code",
   "execution_count": 33,
   "metadata": {},
   "outputs": [
    {
     "name": "stdout",
     "output_type": "stream",
     "text": [
      "Number of OMIM not-mappable to our NW: 2,210\n"
     ]
    }
   ],
   "source": [
    "dis_to_omim = get_curi_xrefs(prev_nodes.query('label == \"Disease\"'), 'OMIM')\n",
    "print(\"Number of OMIM not-mappable to our NW: {:,}\".format(len(\n",
    "    set(hp_anno.query('db == \"OMIM\"')['disease_id']) - set(dis_to_omim['xrefs']))))"
   ]
  },
  {
   "cell_type": "code",
   "execution_count": 34,
   "metadata": {},
   "outputs": [
    {
     "name": "stdout",
     "output_type": "stream",
     "text": [
      "Number of OMIM mapped to our NW: 5,395\n",
      "Number of annotations: 77,597\n"
     ]
    }
   ],
   "source": [
    "found_diseases = set(hp_anno.query('db == \"OMIM\"')['disease_id']) & set(dis_to_omim['xrefs'])\n",
    "hp_to_dis = hp_anno.query('disease_id in @found_diseases').copy()\n",
    "\n",
    "print(\"Number of OMIM mapped to our NW: {:,}\".format(hp_to_dis['disease_id'].nunique()))\n",
    "print(\"Number of annotations: {:,}\".format(len(hp_to_dis)))"
   ]
  },
  {
   "cell_type": "code",
   "execution_count": 35,
   "metadata": {},
   "outputs": [
    {
     "data": {
      "text/plain": [
       "TAS    35548\n",
       "IEA    34599\n",
       "PCS     7450\n",
       "Name: evidence_code, dtype: int64"
      ]
     },
     "execution_count": 35,
     "metadata": {},
     "output_type": "execute_result"
    }
   ],
   "source": [
    "hp_to_dis['evidence_code'].value_counts()"
   ]
  },
  {
   "cell_type": "code",
   "execution_count": 36,
   "metadata": {},
   "outputs": [
    {
     "data": {
      "text/html": [
       "<div>\n",
       "<style scoped>\n",
       "    .dataframe tbody tr th:only-of-type {\n",
       "        vertical-align: middle;\n",
       "    }\n",
       "\n",
       "    .dataframe tbody tr th {\n",
       "        vertical-align: top;\n",
       "    }\n",
       "\n",
       "    .dataframe thead th {\n",
       "        text-align: right;\n",
       "    }\n",
       "</style>\n",
       "<table border=\"1\" class=\"dataframe\">\n",
       "  <thead>\n",
       "    <tr style=\"text-align: right;\">\n",
       "      <th></th>\n",
       "      <th>db</th>\n",
       "      <th>db_object_id</th>\n",
       "      <th>db_name</th>\n",
       "      <th>qualifier</th>\n",
       "      <th>hp_id</th>\n",
       "      <th>db_reference</th>\n",
       "      <th>evidence_code</th>\n",
       "      <th>onset_modifier</th>\n",
       "      <th>frequency</th>\n",
       "      <th>sex</th>\n",
       "      <th>modifier</th>\n",
       "      <th>aspect</th>\n",
       "      <th>date_created</th>\n",
       "      <th>assigned_by</th>\n",
       "      <th>hp_name</th>\n",
       "      <th>disease_id</th>\n",
       "    </tr>\n",
       "  </thead>\n",
       "  <tbody>\n",
       "    <tr>\n",
       "      <th>1570</th>\n",
       "      <td>OMIM</td>\n",
       "      <td>107480</td>\n",
       "      <td>TOWNES-BROCKS SYNDROME</td>\n",
       "      <td>NaN</td>\n",
       "      <td>HP:0000003</td>\n",
       "      <td>OMIM:107480</td>\n",
       "      <td>IEA</td>\n",
       "      <td>NaN</td>\n",
       "      <td>NaN</td>\n",
       "      <td>NaN</td>\n",
       "      <td>P</td>\n",
       "      <td>NaN</td>\n",
       "      <td>HPO:iea</td>\n",
       "      <td>NaN</td>\n",
       "      <td>Multicystic kidney dysplasia</td>\n",
       "      <td>OMIM:107480</td>\n",
       "    </tr>\n",
       "    <tr>\n",
       "      <th>3872</th>\n",
       "      <td>OMIM</td>\n",
       "      <td>120330</td>\n",
       "      <td>PAPILLORENAL SYNDROME</td>\n",
       "      <td>NaN</td>\n",
       "      <td>HP:0000003</td>\n",
       "      <td>OMIM:120330</td>\n",
       "      <td>TAS</td>\n",
       "      <td>NaN</td>\n",
       "      <td>NaN</td>\n",
       "      <td>NaN</td>\n",
       "      <td>P</td>\n",
       "      <td>NaN</td>\n",
       "      <td>HPO:probinson</td>\n",
       "      <td>NaN</td>\n",
       "      <td>Multicystic kidney dysplasia</td>\n",
       "      <td>OMIM:120330</td>\n",
       "    </tr>\n",
       "    <tr>\n",
       "      <th>7441</th>\n",
       "      <td>OMIM</td>\n",
       "      <td>143400</td>\n",
       "      <td>#143400 CONGENITAL ANOMALIES OF KIDNEY AND URI...</td>\n",
       "      <td>NaN</td>\n",
       "      <td>HP:0000003</td>\n",
       "      <td>OMIM:143400</td>\n",
       "      <td>TAS</td>\n",
       "      <td>NaN</td>\n",
       "      <td>NaN</td>\n",
       "      <td>NaN</td>\n",
       "      <td>P</td>\n",
       "      <td>NaN</td>\n",
       "      <td>HPO:skoehler</td>\n",
       "      <td>NaN</td>\n",
       "      <td>Multicystic kidney dysplasia</td>\n",
       "      <td>OMIM:143400</td>\n",
       "    </tr>\n",
       "    <tr>\n",
       "      <th>11308</th>\n",
       "      <td>OMIM</td>\n",
       "      <td>164210</td>\n",
       "      <td>HEMIFACIAL MICROSOMIA</td>\n",
       "      <td>NaN</td>\n",
       "      <td>HP:0000003</td>\n",
       "      <td>OMIM:164210</td>\n",
       "      <td>IEA</td>\n",
       "      <td>NaN</td>\n",
       "      <td>NaN</td>\n",
       "      <td>NaN</td>\n",
       "      <td>P</td>\n",
       "      <td>NaN</td>\n",
       "      <td>HPO:iea</td>\n",
       "      <td>NaN</td>\n",
       "      <td>Multicystic kidney dysplasia</td>\n",
       "      <td>OMIM:164210</td>\n",
       "    </tr>\n",
       "  </tbody>\n",
       "</table>\n",
       "</div>"
      ],
      "text/plain": [
       "         db db_object_id                                            db_name  \\\n",
       "1570   OMIM       107480                             TOWNES-BROCKS SYNDROME   \n",
       "3872   OMIM       120330                              PAPILLORENAL SYNDROME   \n",
       "7441   OMIM       143400  #143400 CONGENITAL ANOMALIES OF KIDNEY AND URI...   \n",
       "11308  OMIM       164210                              HEMIFACIAL MICROSOMIA   \n",
       "\n",
       "      qualifier       hp_id db_reference evidence_code onset_modifier  \\\n",
       "1570        NaN  HP:0000003  OMIM:107480           IEA            NaN   \n",
       "3872        NaN  HP:0000003  OMIM:120330           TAS            NaN   \n",
       "7441        NaN  HP:0000003  OMIM:143400           TAS            NaN   \n",
       "11308       NaN  HP:0000003  OMIM:164210           IEA            NaN   \n",
       "\n",
       "      frequency  sex modifier aspect   date_created assigned_by  \\\n",
       "1570        NaN  NaN        P    NaN        HPO:iea         NaN   \n",
       "3872        NaN  NaN        P    NaN  HPO:probinson         NaN   \n",
       "7441        NaN  NaN        P    NaN   HPO:skoehler         NaN   \n",
       "11308       NaN  NaN        P    NaN        HPO:iea         NaN   \n",
       "\n",
       "                            hp_name   disease_id  \n",
       "1570   Multicystic kidney dysplasia  OMIM:107480  \n",
       "3872   Multicystic kidney dysplasia  OMIM:120330  \n",
       "7441   Multicystic kidney dysplasia  OMIM:143400  \n",
       "11308  Multicystic kidney dysplasia  OMIM:164210  "
      ]
     },
     "execution_count": 36,
     "metadata": {},
     "output_type": "execute_result"
    }
   ],
   "source": [
    "hp_to_dis = hp_to_dis.sort_values(['hp_id', 'disease_id', 'evidence_code']).drop_duplicates(subset=['disease_id', 'hp_id'])\n",
    "hp_to_dis.head(4)"
   ]
  },
  {
   "cell_type": "code",
   "execution_count": 37,
   "metadata": {},
   "outputs": [],
   "source": [
    "hp_to_dis = hp_to_dis.merge(dis_to_omim, how='left', left_on='disease_id', right_on='xrefs').rename(columns={'id': 'nw_id'})"
   ]
  },
  {
   "cell_type": "code",
   "execution_count": 38,
   "metadata": {},
   "outputs": [
    {
     "data": {
      "text/html": [
       "<div>\n",
       "<style scoped>\n",
       "    .dataframe tbody tr th:only-of-type {\n",
       "        vertical-align: middle;\n",
       "    }\n",
       "\n",
       "    .dataframe tbody tr th {\n",
       "        vertical-align: top;\n",
       "    }\n",
       "\n",
       "    .dataframe thead th {\n",
       "        text-align: right;\n",
       "    }\n",
       "</style>\n",
       "<table border=\"1\" class=\"dataframe\">\n",
       "  <thead>\n",
       "    <tr style=\"text-align: right;\">\n",
       "      <th></th>\n",
       "      <th>nw_id</th>\n",
       "      <th>hp_id</th>\n",
       "      <th>evidence_code</th>\n",
       "    </tr>\n",
       "  </thead>\n",
       "  <tbody>\n",
       "    <tr>\n",
       "      <th>0</th>\n",
       "      <td>DOID:0050887</td>\n",
       "      <td>HP:0000003</td>\n",
       "      <td>IEA</td>\n",
       "    </tr>\n",
       "    <tr>\n",
       "      <th>1</th>\n",
       "      <td>DOID:0090006</td>\n",
       "      <td>HP:0000003</td>\n",
       "      <td>TAS</td>\n",
       "    </tr>\n",
       "  </tbody>\n",
       "</table>\n",
       "</div>"
      ],
      "text/plain": [
       "          nw_id       hp_id evidence_code\n",
       "0  DOID:0050887  HP:0000003           IEA\n",
       "1  DOID:0090006  HP:0000003           TAS"
      ]
     },
     "execution_count": 38,
     "metadata": {},
     "output_type": "execute_result"
    }
   ],
   "source": [
    "hp_to_dis.head(2)[['nw_id', 'hp_id', 'evidence_code']]"
   ]
  },
  {
   "cell_type": "markdown",
   "metadata": {},
   "source": [
    "## Figure out which new phenotypes need to be added"
   ]
  },
  {
   "cell_type": "code",
   "execution_count": 39,
   "metadata": {},
   "outputs": [],
   "source": [
    "keep_hp_ids = set(prev_nodes.query('label == \"Phenotype\"')['id']) | (set(hp_to_dis['hp_id']) & set(hp_to_gene['hp_id']))"
   ]
  },
  {
   "cell_type": "code",
   "execution_count": 40,
   "metadata": {},
   "outputs": [],
   "source": [
    "old_hp_ids = prev_nodes.query('label == \"Phenotype\"')['id']"
   ]
  },
  {
   "cell_type": "code",
   "execution_count": 41,
   "metadata": {},
   "outputs": [
    {
     "data": {
      "text/html": [
       "<div>\n",
       "<style scoped>\n",
       "    .dataframe tbody tr th:only-of-type {\n",
       "        vertical-align: middle;\n",
       "    }\n",
       "\n",
       "    .dataframe tbody tr th {\n",
       "        vertical-align: top;\n",
       "    }\n",
       "\n",
       "    .dataframe thead th {\n",
       "        text-align: right;\n",
       "    }\n",
       "</style>\n",
       "<table border=\"1\" class=\"dataframe\">\n",
       "  <thead>\n",
       "    <tr style=\"text-align: right;\">\n",
       "      <th></th>\n",
       "      <th>id</th>\n",
       "      <th>name</th>\n",
       "      <th>xrefs</th>\n",
       "      <th>label</th>\n",
       "    </tr>\n",
       "  </thead>\n",
       "  <tbody>\n",
       "    <tr>\n",
       "      <th>5</th>\n",
       "      <td>HP:0000007</td>\n",
       "      <td>Autosomal recessive inheritance</td>\n",
       "      <td>SNOMED:258211005|UMLS:C0441748|UMLS:C4020899</td>\n",
       "      <td>Phenotype</td>\n",
       "    </tr>\n",
       "    <tr>\n",
       "      <th>6</th>\n",
       "      <td>HP:0000008</td>\n",
       "      <td>Abnormality of female internal genitalia</td>\n",
       "      <td>UMLS:C4025900</td>\n",
       "      <td>Phenotype</td>\n",
       "    </tr>\n",
       "    <tr>\n",
       "      <th>10</th>\n",
       "      <td>HP:0000012</td>\n",
       "      <td>Urinary urgency</td>\n",
       "      <td>SNOMED:75088002|UMLS:C0085606|UMLS:C3544092|UM...</td>\n",
       "      <td>Phenotype</td>\n",
       "    </tr>\n",
       "    <tr>\n",
       "      <th>11</th>\n",
       "      <td>HP:0000013</td>\n",
       "      <td>Hypoplasia of the uterus</td>\n",
       "      <td>SNOMED:35850006|UMLS:C0266399</td>\n",
       "      <td>Phenotype</td>\n",
       "    </tr>\n",
       "    <tr>\n",
       "      <th>18</th>\n",
       "      <td>HP:0000021</td>\n",
       "      <td>Megacystis</td>\n",
       "      <td>MESH:C536139|UMLS:C1855311</td>\n",
       "      <td>Phenotype</td>\n",
       "    </tr>\n",
       "  </tbody>\n",
       "</table>\n",
       "</div>"
      ],
      "text/plain": [
       "            id                                      name  \\\n",
       "5   HP:0000007           Autosomal recessive inheritance   \n",
       "6   HP:0000008  Abnormality of female internal genitalia   \n",
       "10  HP:0000012                           Urinary urgency   \n",
       "11  HP:0000013                  Hypoplasia of the uterus   \n",
       "18  HP:0000021                                Megacystis   \n",
       "\n",
       "                                                xrefs      label  \n",
       "5        SNOMED:258211005|UMLS:C0441748|UMLS:C4020899  Phenotype  \n",
       "6                                       UMLS:C4025900  Phenotype  \n",
       "10  SNOMED:75088002|UMLS:C0085606|UMLS:C3544092|UM...  Phenotype  \n",
       "11                      SNOMED:35850006|UMLS:C0266399  Phenotype  \n",
       "18                         MESH:C536139|UMLS:C1855311  Phenotype  "
      ]
     },
     "execution_count": 41,
     "metadata": {},
     "output_type": "execute_result"
    }
   ],
   "source": [
    "keep_hp_nodes = hp_nodes.query('id in @keep_hp_ids and id not in @old_hp_ids')[['id', 'name', 'xref']]\n",
    "\n",
    "# Standardize column name to what we have in the network\n",
    "keep_hp_nodes = keep_hp_nodes.rename(columns={'xref': 'xrefs'})\n",
    "\n",
    "# Standarize the curis to what we have in the network\n",
    "keep_hp_nodes['xrefs'] = (keep_hp_nodes['xrefs'].str.replace('MSH:', 'MESH:')\n",
    "                                                .str.replace('SNOMEDCT_US:', 'SNOMED:')\n",
    "                                                .str.replace('MeSH:', 'MESH:'))\n",
    "# Get rid of xrefs to DBs we don't already look out for\n",
    "keep_hp_nodes['xrefs'] = keep_hp_nodes['xrefs'].apply(lambda s: '|'.join(sorted([x for x in str(s).split('|') \n",
    "                                                                          if x.split(':')[0] in common_curi])))\n",
    "# Logic above destroys NaNs, so fix that.\n",
    "keep_hp_nodes['xrefs'] = keep_hp_nodes['xrefs'].replace('', float('nan'))\n",
    "keep_hp_nodes['label'] = 'Phenotype'\n",
    "keep_hp_nodes.head()"
   ]
  },
  {
   "cell_type": "markdown",
   "metadata": {},
   "source": [
    "## Aggregate the new edges and save to disk"
   ]
  },
  {
   "cell_type": "code",
   "execution_count": 42,
   "metadata": {},
   "outputs": [
    {
     "data": {
      "text/html": [
       "<div>\n",
       "<style scoped>\n",
       "    .dataframe tbody tr th:only-of-type {\n",
       "        vertical-align: middle;\n",
       "    }\n",
       "\n",
       "    .dataframe tbody tr th {\n",
       "        vertical-align: top;\n",
       "    }\n",
       "\n",
       "    .dataframe thead th {\n",
       "        text-align: right;\n",
       "    }\n",
       "</style>\n",
       "<table border=\"1\" class=\"dataframe\">\n",
       "  <thead>\n",
       "    <tr style=\"text-align: right;\">\n",
       "      <th></th>\n",
       "      <th>db</th>\n",
       "      <th>db_object_id</th>\n",
       "      <th>db_name</th>\n",
       "      <th>qualifier</th>\n",
       "      <th>hp_id</th>\n",
       "      <th>db_reference</th>\n",
       "      <th>evidence_code</th>\n",
       "      <th>onset_modifier</th>\n",
       "      <th>frequency</th>\n",
       "      <th>sex</th>\n",
       "      <th>modifier</th>\n",
       "      <th>aspect</th>\n",
       "      <th>date_created</th>\n",
       "      <th>assigned_by</th>\n",
       "      <th>hp_name</th>\n",
       "      <th>disease_id</th>\n",
       "      <th>nw_id</th>\n",
       "      <th>xrefs</th>\n",
       "    </tr>\n",
       "  </thead>\n",
       "  <tbody>\n",
       "    <tr>\n",
       "      <th>0</th>\n",
       "      <td>OMIM</td>\n",
       "      <td>107480</td>\n",
       "      <td>TOWNES-BROCKS SYNDROME</td>\n",
       "      <td>NaN</td>\n",
       "      <td>HP:0000003</td>\n",
       "      <td>OMIM:107480</td>\n",
       "      <td>IEA</td>\n",
       "      <td>NaN</td>\n",
       "      <td>NaN</td>\n",
       "      <td>NaN</td>\n",
       "      <td>P</td>\n",
       "      <td>NaN</td>\n",
       "      <td>HPO:iea</td>\n",
       "      <td>NaN</td>\n",
       "      <td>Multicystic kidney dysplasia</td>\n",
       "      <td>OMIM:107480</td>\n",
       "      <td>DOID:0050887</td>\n",
       "      <td>OMIM:107480</td>\n",
       "    </tr>\n",
       "    <tr>\n",
       "      <th>1</th>\n",
       "      <td>OMIM</td>\n",
       "      <td>120330</td>\n",
       "      <td>PAPILLORENAL SYNDROME</td>\n",
       "      <td>NaN</td>\n",
       "      <td>HP:0000003</td>\n",
       "      <td>OMIM:120330</td>\n",
       "      <td>TAS</td>\n",
       "      <td>NaN</td>\n",
       "      <td>NaN</td>\n",
       "      <td>NaN</td>\n",
       "      <td>P</td>\n",
       "      <td>NaN</td>\n",
       "      <td>HPO:probinson</td>\n",
       "      <td>NaN</td>\n",
       "      <td>Multicystic kidney dysplasia</td>\n",
       "      <td>OMIM:120330</td>\n",
       "      <td>DOID:0090006</td>\n",
       "      <td>OMIM:120330</td>\n",
       "    </tr>\n",
       "  </tbody>\n",
       "</table>\n",
       "</div>"
      ],
      "text/plain": [
       "     db db_object_id                 db_name qualifier       hp_id  \\\n",
       "0  OMIM       107480  TOWNES-BROCKS SYNDROME       NaN  HP:0000003   \n",
       "1  OMIM       120330   PAPILLORENAL SYNDROME       NaN  HP:0000003   \n",
       "\n",
       "  db_reference evidence_code onset_modifier frequency  sex modifier aspect  \\\n",
       "0  OMIM:107480           IEA            NaN       NaN  NaN        P    NaN   \n",
       "1  OMIM:120330           TAS            NaN       NaN  NaN        P    NaN   \n",
       "\n",
       "    date_created assigned_by                       hp_name   disease_id  \\\n",
       "0        HPO:iea         NaN  Multicystic kidney dysplasia  OMIM:107480   \n",
       "1  HPO:probinson         NaN  Multicystic kidney dysplasia  OMIM:120330   \n",
       "\n",
       "          nw_id        xrefs  \n",
       "0  DOID:0050887  OMIM:107480  \n",
       "1  DOID:0090006  OMIM:120330  "
      ]
     },
     "execution_count": 42,
     "metadata": {},
     "output_type": "execute_result"
    }
   ],
   "source": [
    "hp_to_dis.head(2)"
   ]
  },
  {
   "cell_type": "code",
   "execution_count": 43,
   "metadata": {},
   "outputs": [
    {
     "data": {
      "text/html": [
       "<div>\n",
       "<style scoped>\n",
       "    .dataframe tbody tr th:only-of-type {\n",
       "        vertical-align: middle;\n",
       "    }\n",
       "\n",
       "    .dataframe tbody tr th {\n",
       "        vertical-align: top;\n",
       "    }\n",
       "\n",
       "    .dataframe thead th {\n",
       "        text-align: right;\n",
       "    }\n",
       "</style>\n",
       "<table border=\"1\" class=\"dataframe\">\n",
       "  <thead>\n",
       "    <tr style=\"text-align: right;\">\n",
       "      <th></th>\n",
       "      <th>start_id</th>\n",
       "      <th>end_id</th>\n",
       "      <th>type</th>\n",
       "      <th>dsrc_type</th>\n",
       "      <th>comp_type</th>\n",
       "    </tr>\n",
       "  </thead>\n",
       "  <tbody>\n",
       "    <tr>\n",
       "      <th>0</th>\n",
       "      <td>DOID:0050887</td>\n",
       "      <td>HP:0000003</td>\n",
       "      <td>presents</td>\n",
       "      <td>computed</td>\n",
       "      <td>IEA</td>\n",
       "    </tr>\n",
       "    <tr>\n",
       "      <th>1</th>\n",
       "      <td>DOID:0090006</td>\n",
       "      <td>HP:0000003</td>\n",
       "      <td>presents</td>\n",
       "      <td>curated</td>\n",
       "      <td>NaN</td>\n",
       "    </tr>\n",
       "  </tbody>\n",
       "</table>\n",
       "</div>"
      ],
      "text/plain": [
       "       start_id      end_id      type dsrc_type comp_type\n",
       "0  DOID:0050887  HP:0000003  presents  computed       IEA\n",
       "1  DOID:0090006  HP:0000003  presents   curated       NaN"
      ]
     },
     "execution_count": 43,
     "metadata": {},
     "output_type": "execute_result"
    }
   ],
   "source": [
    "hp_to_dis_edges = hp_to_dis.query('hp_id in @keep_hp_ids').rename(columns={'nw_id': 'start_id', 'hp_id': 'end_id'})\n",
    "\n",
    "hp_to_dis_edges['dsrc_type'] = hp_to_dis_edges['evidence_code'].apply(lambda e: 'computed' if e == 'IEA' else 'curated')\n",
    "\n",
    "comp_idx = hp_to_dis_edges[hp_to_dis_edges['dsrc_type'] == 'computed'].index\n",
    "hp_to_dis_edges.loc[comp_idx, 'comp_type'] = hp_to_dis_edges.loc[comp_idx, 'evidence_code']\n",
    "\n",
    "hp_to_dis_edges['type'] = 'presents'\n",
    "\n",
    "keep_edge_cols = ['start_id', 'end_id', 'type', 'dsrc_type', 'comp_type']\n",
    "\n",
    "hp_to_dis_edges[keep_edge_cols].head(2)"
   ]
  },
  {
   "cell_type": "code",
   "execution_count": 44,
   "metadata": {},
   "outputs": [
    {
     "data": {
      "text/html": [
       "<div>\n",
       "<style scoped>\n",
       "    .dataframe tbody tr th:only-of-type {\n",
       "        vertical-align: middle;\n",
       "    }\n",
       "\n",
       "    .dataframe tbody tr th {\n",
       "        vertical-align: top;\n",
       "    }\n",
       "\n",
       "    .dataframe thead th {\n",
       "        text-align: right;\n",
       "    }\n",
       "</style>\n",
       "<table border=\"1\" class=\"dataframe\">\n",
       "  <thead>\n",
       "    <tr style=\"text-align: right;\">\n",
       "      <th></th>\n",
       "      <th>start_id</th>\n",
       "      <th>end_id</th>\n",
       "      <th>type</th>\n",
       "      <th>dsrc_type</th>\n",
       "      <th>comp_type</th>\n",
       "    </tr>\n",
       "  </thead>\n",
       "  <tbody>\n",
       "    <tr>\n",
       "      <th>0</th>\n",
       "      <td>HP:0001250</td>\n",
       "      <td>NCBIGene:8192</td>\n",
       "      <td>associated_with</td>\n",
       "      <td>computed</td>\n",
       "      <td>punning</td>\n",
       "    </tr>\n",
       "    <tr>\n",
       "      <th>1</th>\n",
       "      <td>HP:0004322</td>\n",
       "      <td>NCBIGene:8192</td>\n",
       "      <td>associated_with</td>\n",
       "      <td>computed</td>\n",
       "      <td>punning</td>\n",
       "    </tr>\n",
       "  </tbody>\n",
       "</table>\n",
       "</div>"
      ],
      "text/plain": [
       "     start_id         end_id             type dsrc_type comp_type\n",
       "0  HP:0001250  NCBIGene:8192  associated_with  computed   punning\n",
       "1  HP:0004322  NCBIGene:8192  associated_with  computed   punning"
      ]
     },
     "execution_count": 44,
     "metadata": {},
     "output_type": "execute_result"
    }
   ],
   "source": [
    "hp_to_gene_edges = hp_to_gene.query('hp_id in @keep_hp_ids').rename(columns={'hp_id': 'start_id', 'gene_id': 'end_id'})\n",
    "hp_to_gene_edges['type'] = 'associated_with'\n",
    "hp_to_gene_edges['dsrc_type'] = 'computed'\n",
    "\n",
    "# from https://hpo.jax.org/app/download/annotation\n",
    "# \"\"All phenotype terms associated with any disease that is associated with \n",
    "# variants in a gene are assigned to that gene in this file.\"\"\n",
    "# This sounds like punning to me: (A->B->C becomes A->C)\n",
    "hp_to_gene_edges['comp_type'] = 'punning'\n",
    "\n",
    "hp_to_gene_edges[keep_edge_cols].head(2)"
   ]
  },
  {
   "cell_type": "code",
   "execution_count": 45,
   "metadata": {},
   "outputs": [
    {
     "data": {
      "text/html": [
       "<div>\n",
       "<style scoped>\n",
       "    .dataframe tbody tr th:only-of-type {\n",
       "        vertical-align: middle;\n",
       "    }\n",
       "\n",
       "    .dataframe tbody tr th {\n",
       "        vertical-align: top;\n",
       "    }\n",
       "\n",
       "    .dataframe thead th {\n",
       "        text-align: right;\n",
       "    }\n",
       "</style>\n",
       "<table border=\"1\" class=\"dataframe\">\n",
       "  <thead>\n",
       "    <tr style=\"text-align: right;\">\n",
       "      <th></th>\n",
       "      <th>start_id</th>\n",
       "      <th>end_id</th>\n",
       "      <th>type</th>\n",
       "      <th>dsrc_type</th>\n",
       "      <th>comp_type</th>\n",
       "    </tr>\n",
       "  </thead>\n",
       "  <tbody>\n",
       "    <tr>\n",
       "      <th>0</th>\n",
       "      <td>DOID:0050887</td>\n",
       "      <td>HP:0000003</td>\n",
       "      <td>presents</td>\n",
       "      <td>computed</td>\n",
       "      <td>IEA</td>\n",
       "    </tr>\n",
       "    <tr>\n",
       "      <th>1</th>\n",
       "      <td>DOID:0090006</td>\n",
       "      <td>HP:0000003</td>\n",
       "      <td>presents</td>\n",
       "      <td>curated</td>\n",
       "      <td>NaN</td>\n",
       "    </tr>\n",
       "  </tbody>\n",
       "</table>\n",
       "</div>"
      ],
      "text/plain": [
       "       start_id      end_id      type dsrc_type comp_type\n",
       "0  DOID:0050887  HP:0000003  presents  computed       IEA\n",
       "1  DOID:0090006  HP:0000003  presents   curated       NaN"
      ]
     },
     "execution_count": 45,
     "metadata": {},
     "output_type": "execute_result"
    }
   ],
   "source": [
    "all_hp_edges = pd.concat([hp_to_dis_edges[keep_edge_cols], \n",
    "                       hp_to_gene_edges[keep_edge_cols]], ignore_index=True)\n",
    "all_hp_edges.head(2)"
   ]
  },
  {
   "cell_type": "code",
   "execution_count": 46,
   "metadata": {},
   "outputs": [],
   "source": [
    "all_hp_edges['source'] = 'Human Phenotype Ontology'\n",
    "all_hp_edges['license'] = 'custom cite no-derivatives'"
   ]
  },
  {
   "cell_type": "code",
   "execution_count": 47,
   "metadata": {},
   "outputs": [],
   "source": [
    "edges_out = pd.concat([prev_edges, all_hp_edges], sort=False, ignore_index=True)"
   ]
  },
  {
   "cell_type": "code",
   "execution_count": 48,
   "metadata": {},
   "outputs": [
    {
     "data": {
      "text/plain": [
       "3793817"
      ]
     },
     "execution_count": 48,
     "metadata": {},
     "output_type": "execute_result"
    }
   ],
   "source": [
    "len(edges_out)"
   ]
  },
  {
   "cell_type": "code",
   "execution_count": 49,
   "metadata": {},
   "outputs": [
    {
     "data": {
      "text/plain": [
       "3785504"
      ]
     },
     "execution_count": 49,
     "metadata": {},
     "output_type": "execute_result"
    }
   ],
   "source": [
    "edges_out = combine_group_cols_on_char(edges_out, ['start_id', 'end_id', 'type'], sort=True, prog=False)\n",
    "len(edges_out)"
   ]
  },
  {
   "cell_type": "code",
   "execution_count": 50,
   "metadata": {},
   "outputs": [],
   "source": [
    "nodes_out = pd.concat([prev_nodes, keep_hp_nodes], sort=False, ignore_index=True)"
   ]
  },
  {
   "cell_type": "code",
   "execution_count": 51,
   "metadata": {},
   "outputs": [],
   "source": [
    "all_edge_ids = edges_out[['start_id', 'end_id']].stack().unique()"
   ]
  },
  {
   "cell_type": "code",
   "execution_count": 52,
   "metadata": {},
   "outputs": [],
   "source": [
    "nodes_filt = nodes_out.query('id in @all_edge_ids').copy()"
   ]
  },
  {
   "cell_type": "code",
   "execution_count": 53,
   "metadata": {},
   "outputs": [
    {
     "data": {
      "text/plain": [
       "0"
      ]
     },
     "execution_count": 53,
     "metadata": {},
     "output_type": "execute_result"
    }
   ],
   "source": [
    "edges_out.duplicated(subset=['start_id', 'end_id', 'type']).sum()"
   ]
  },
  {
   "cell_type": "code",
   "execution_count": 54,
   "metadata": {},
   "outputs": [],
   "source": [
    "edges_out.to_csv(out_dir.joinpath('edges.csv'), index=False)\n",
    "nodes_out.to_csv(out_dir.joinpath('nodes.csv'), index=False)\n",
    "nodes_filt.to_csv(out_dir.joinpath('nodes_filt.csv'), index=False)"
   ]
  },
  {
   "cell_type": "code",
   "execution_count": null,
   "metadata": {},
   "outputs": [],
   "source": []
  },
  {
   "cell_type": "code",
   "execution_count": null,
   "metadata": {},
   "outputs": [],
   "source": []
  },
  {
   "cell_type": "code",
   "execution_count": null,
   "metadata": {},
   "outputs": [],
   "source": []
  },
  {
   "cell_type": "code",
   "execution_count": null,
   "metadata": {},
   "outputs": [],
   "source": []
  },
  {
   "cell_type": "code",
   "execution_count": null,
   "metadata": {},
   "outputs": [],
   "source": []
  },
  {
   "cell_type": "markdown",
   "metadata": {},
   "source": [
    "# Get a handle on these metapath semmantics"
   ]
  },
  {
   "cell_type": "code",
   "execution_count": 47,
   "metadata": {},
   "outputs": [
    {
     "data": {
      "text/plain": [
       "(Biological Process, associated_with_BPawD, Disease)                    1798362\n",
       "(Compound, associated_with_CawPW, Pathway)                               974324\n",
       "(Micro RNA, regulates_NrG, Gene)                                         373942\n",
       "(Disease, associated_with_DawPW, Pathway)                                286429\n",
       "(Drug, associated_with_CawPW, Pathway)                                   232345\n",
       "(Molecular Function, associated_with_MFawD, Disease)                     199530\n",
       "(Gene, part_of_GpoPW, Pathway)                                           155800\n",
       "(Gene, involved_in_GinBP, Biological Process)                            135869\n",
       "(Cellular Component, associated_with_CCawD, Disease)                     126497\n",
       "(Compound, increases_expression_CieG, Gene)                              123238\n",
       "(Compound, decreases_expression_CdeG, Gene)                              111558\n",
       "(Gene, part_of_GpoRX, Reaction)                                          101737\n",
       "(Drug, increases_expression_CieG, Gene)                                   88995\n",
       "(Drug, decreases_expression_CdeG, Gene)                                   80429\n",
       "(Gene, part_of_GpoCC, Cellular Component)                                 78258\n",
       "(Reaction, associated_with_RXawD, Disease)                                72821\n",
       "(Phenotype, associated_with_PHawG, Gene)                                  66726\n",
       "(Gene, enables_GeMF, Molecular Function)                                  64281\n",
       "(Drug, marker_or_mechanism_CmD, Disease)                                  35020\n",
       "(Pathway, associated_with_PWawD, Disease)                                 34912\n",
       "(Gene, marker_or_mechanism_GmD, Disease)                                  29342\n",
       "(Compound, marker_or_mechanism_CmD, Disease)                              27154\n",
       "(Drug, therapeutic_CtD, Disease)                                          22058\n",
       "(Drug, affects_expression_CaeG, Gene)                                     21247\n",
       "(Compound, part_of_CpoPW, Pathway)                                        19473\n",
       "(Compound, affects_expression_CaeG, Gene)                                 18519\n",
       "(Gene, associated_with_GawD, Disease)                                     18135\n",
       "(Reaction, disrupted_in_RXdiD, Disease)                                   17737\n",
       "(Gene, part_of_GpoPF, Protein Family)                                     17146\n",
       "(Compound, part_of_CpoRX, Reaction)                                       16285\n",
       "                                                                         ...   \n",
       "(Reaction, regulates_RXrMF, Molecular Function)                               1\n",
       "(Drug, blocker, Cellular Component)                                           1\n",
       "(Compound, pharmacological chaperone, Gene)                                   1\n",
       "(Biological Process, results_in_assembly_of, Anatomy)                         1\n",
       "(Drug, neutral antagonist, Gene)                                              1\n",
       "(Drug, partial agonist, Molecular Function)                                   1\n",
       "(Anatomy, has_part, Molecular Function)                                       1\n",
       "(Molecular Function, exports, Drug)                                           1\n",
       "(Compound, affects_reaction_CarCC, Cellular Component)                        1\n",
       "(Compound, suppressor, Gene)                                                  1\n",
       "(Drug, modulator, Cellular Component)                                         1\n",
       "(Drug, acetylation, Gene)                                                     1\n",
       "(Anatomy, synapsed_by, Cell Type)                                             1\n",
       "(Biological Process, results_in_transport_along, Anatomy)                     1\n",
       "(Compound, inhibitory allosteric modulator, Gene)                             1\n",
       "(Biological Process, has_end_location, Anatomy)                               1\n",
       "(Compound, Palliative, Compound)                                              1\n",
       "(Drug, inhibition of synthesis, Gene)                                         1\n",
       "(Anatomy, has_component, Cellular Component)                                  1\n",
       "(Drug, increases_reaction_CirCC, Cellular Component)                          1\n",
       "(Compound, stimulator, Gene)                                                  1\n",
       "(Drug, deoxidizer, Gene)                                                      1\n",
       "(Drug, opener, Molecular Function)                                            1\n",
       "(Compound, chaperone, Gene)                                                   1\n",
       "(Drug, weak inhibitor, Gene)                                                  1\n",
       "(Compound, substrate, Cellular Component)                                     1\n",
       "(Drug, Secondary, Compound)                                                   1\n",
       "(Anatomy, adjacent_to, Cellular Component)                                    1\n",
       "(Compound, chaperone, Biological Process)                                     1\n",
       "(Anatomy, has_potential_to_developmentally_contribute_to, Cell Type)          1\n",
       "Length: 412, dtype: int64"
      ]
     },
     "execution_count": 47,
     "metadata": {},
     "output_type": "execute_result"
    }
   ],
   "source": [
    "id_to_label = nodes_filt.set_index('id')['label'].to_dict()\n",
    "#id_to_label = {**{k: 'Compound' for k in id_to_network['new_id']}, **id_to_label}\n",
    "\n",
    "\n",
    "edges_out['src_label'] = edges_out['start_id'].map(id_to_label)\n",
    "edges_out['tgt_label'] = edges_out['end_id'].map(id_to_label)\n",
    "\n",
    "meta_edges = []\n",
    "for row in edges_out.itertuples():\n",
    "    meta_edges.append((row.src_label, row.type, row.tgt_label))\n",
    "meta_edges = pd.Series(meta_edges)\n",
    "meta_edges.value_counts()"
   ]
  },
  {
   "cell_type": "code",
   "execution_count": 48,
   "metadata": {},
   "outputs": [],
   "source": [
    "meta_edges = meta_edges.value_counts().to_frame().reset_index()\n",
    "meta_edges['start_type'] = meta_edges['index'].apply(lambda e: e[0])\n",
    "meta_edges['rel'] = meta_edges['index'].apply(lambda e: e[1])\n",
    "meta_edges['end_type'] = meta_edges['index'].apply(lambda e: e[2])\n",
    "meta_edges = meta_edges.drop(['index'], axis=1).rename(columns={0: 'counts'})\n",
    "meta_edges = meta_edges.sort_values(['start_type', 'end_type', 'counts'], ascending=[True, True, False])\n",
    "meta_edges[['start_type', 'rel', 'end_type', 'counts']].to_csv(out_dir.joinpath('meta_edges.csv'), index=False)"
   ]
  }
 ],
 "metadata": {
  "kernelspec": {
   "display_name": "Python 3",
   "language": "python",
   "name": "python3"
  },
  "language_info": {
   "codemirror_mode": {
    "name": "ipython",
    "version": 3
   },
   "file_extension": ".py",
   "mimetype": "text/x-python",
   "name": "python",
   "nbconvert_exporter": "python",
   "pygments_lexer": "ipython3",
   "version": "3.7.5"
  }
 },
 "nbformat": 4,
 "nbformat_minor": 2
}
