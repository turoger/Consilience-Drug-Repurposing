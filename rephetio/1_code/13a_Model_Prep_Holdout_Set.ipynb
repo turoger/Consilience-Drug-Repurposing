{
 "cells": [
  {
   "cell_type": "code",
   "execution_count": 1,
   "metadata": {},
   "outputs": [],
   "source": [
    "import pandas as pd\n",
    "from pathlib import Path"
   ]
  },
  {
   "cell_type": "code",
   "execution_count": 2,
   "metadata": {},
   "outputs": [],
   "source": [
    "prev_nw_dir = Path('../2_pipeline/12d_Preprocessing-Abbreviations_and_Biolink/out').resolve()\n",
    "\n",
    "nodes = pd.read_csv(prev_nw_dir.joinpath('nodes_biolink.csv'), dtype=str)\n",
    "edges = pd.read_csv(prev_nw_dir.joinpath('edges_biolink.csv'), dtype=str)"
   ]
  },
  {
   "cell_type": "markdown",
   "metadata": {},
   "source": [
    "## Sample and remove compounds for post testing"
   ]
  },
  {
   "cell_type": "code",
   "execution_count": 3,
   "metadata": {},
   "outputs": [
    {
     "name": "stdout",
     "output_type": "stream",
     "text": [
      "Removing 2,261 of 11,303 (20.0%) Compounds known to treat 1 or more Diseases\n",
      "13,605 of 69,639 (19.5%) Compound - TREATS - Disease edges removed from network\n"
     ]
    }
   ],
   "source": [
    "# Set the random seed to the date I first wrote this notebook\n",
    "random_seed = 20200130\n",
    "\n",
    "treat_compounds = edges.query('type == \"treats_CtD\"')['start_id'].unique()\n",
    "\n",
    "# Hold out 20% of the compounds with Treats edges for testing\n",
    "holdout_compounds = nodes.query('id in @treat_compounds').sample(frac=.2, random_state=random_seed)['id'].tolist()\n",
    "holdout_edges = edges.query('start_id in @holdout_compounds and type == \"treats_CtD\"')\n",
    "\n",
    "n_treat_comp = len(treat_compounds)\n",
    "n_holdout = len(holdout_compounds)\n",
    "frac_ho = n_holdout / n_treat_comp\n",
    "\n",
    "n_treat_edge = len(edges.query('type == \"treats_CtD\"'))\n",
    "n_ho_edge = len(holdout_edges)\n",
    "frac_ho_edge = n_ho_edge / n_treat_edge\n",
    "\n",
    "print('Removing {:,} of {:,} ({:1.1%}) Compounds known to treat 1 or more Diseases'.format(n_holdout, n_treat_comp, frac_ho))\n",
    "print('{:,} of {:,} ({:1.1%}) Compound - TREATS - Disease edges removed from network'.format(n_ho_edge, n_treat_edge, frac_ho_edge))"
   ]
  },
  {
   "cell_type": "code",
   "execution_count": 4,
   "metadata": {},
   "outputs": [],
   "source": [
    "remain_edges = edges.drop(holdout_edges.index, axis=0)"
   ]
  },
  {
   "cell_type": "markdown",
   "metadata": {},
   "source": [
    "## Save the network and holdout edges"
   ]
  },
  {
   "cell_type": "code",
   "execution_count": 5,
   "metadata": {},
   "outputs": [],
   "source": [
    "nb_name = '13a_Model_Prep_Holdout_Set'\n",
    "out_dir = Path('../2_pipeline/').joinpath(nb_name).joinpath('out').resolve()\n",
    "\n",
    "out_dir.mkdir(exist_ok=True, parents=True)"
   ]
  },
  {
   "cell_type": "code",
   "execution_count": 6,
   "metadata": {},
   "outputs": [],
   "source": [
    "nodes.to_csv(out_dir.joinpath('nodes.csv'), index=False)\n",
    "remain_edges.to_csv(out_dir.joinpath('edges.csv'), index=False)\n",
    "holdout_edges.to_csv(out_dir.joinpath('holdout_set.csv'), index=False)"
   ]
  }
 ],
 "metadata": {
  "kernelspec": {
   "display_name": "Python 3",
   "language": "python",
   "name": "python3"
  },
  "language_info": {
   "codemirror_mode": {
    "name": "ipython",
    "version": 3
   },
   "file_extension": ".py",
   "mimetype": "text/x-python",
   "name": "python",
   "nbconvert_exporter": "python",
   "pygments_lexer": "ipython3",
   "version": "3.6.8"
  }
 },
 "nbformat": 4,
 "nbformat_minor": 2
}
