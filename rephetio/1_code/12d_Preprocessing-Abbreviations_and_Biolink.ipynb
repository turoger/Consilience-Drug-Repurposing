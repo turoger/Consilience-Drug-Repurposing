{
 "cells": [
  {
   "cell_type": "markdown",
   "metadata": {},
   "source": [
    "# Add edge semantic abbrevations and map to Biolink\n",
    "\n",
    "Abbreviations are needed for some of the machine learning parts, to distinguish edge and node semanitcs in the hetnet. We will add them now.  We will also map node semantic types to the Biolink model"
   ]
  },
  {
   "cell_type": "code",
   "execution_count": 1,
   "metadata": {},
   "outputs": [
    {
     "name": "stderr",
     "output_type": "stream",
     "text": [
      "/opt/mmayers/software/anaconda3/envs/ml/lib/python3.6/site-packages/data_tools/df_processing.py:4: TqdmExperimentalWarning: Using `tqdm.autonotebook.tqdm` in notebook mode. Use `tqdm.tqdm` instead to force console mode (e.g. in jupyter console)\n",
      "  from tqdm.autonotebook import tqdm\n"
     ]
    }
   ],
   "source": [
    "%matplotlib inline\n",
    "import pandas as pd\n",
    "import seaborn as sns\n",
    "from pathlib import Path\n",
    "import matplotlib.pyplot as plt\n",
    "\n",
    "from data_tools.plotting import count_plot_h\n",
    "from data_tools import combine_nodes_and_edges\n",
    "from data_tools.df_processing import combine_group_cols_on_char, expand_col_on_char\n",
    "from data_tools.graphs import map_edge_types_from_file, add_abbrevs, get_core_network"
   ]
  },
  {
   "cell_type": "code",
   "execution_count": 2,
   "metadata": {},
   "outputs": [],
   "source": [
    "prev_dir = Path('../2_pipeline/12c_Preprocessing-Pruning/out').resolve()\n",
    "data_dir = Path('../0_data/manual/').resolve()"
   ]
  },
  {
   "cell_type": "code",
   "execution_count": 3,
   "metadata": {},
   "outputs": [],
   "source": [
    "nodes = pd.read_csv(prev_dir.joinpath('nodes.csv'), dtype=str)\n",
    "edges = pd.read_csv(prev_dir.joinpath('edges.csv'), dtype=str)"
   ]
  },
  {
   "cell_type": "markdown",
   "metadata": {},
   "source": [
    "## Add Abbreviations"
   ]
  },
  {
   "cell_type": "code",
   "execution_count": 4,
   "metadata": {},
   "outputs": [],
   "source": [
    "biolink_map = pd.read_csv(data_dir.joinpath('hetnet_to_biolink.csv'))\n",
    "sem_info = pd.read_csv(data_dir.joinpath('edge_semtypes.csv'))"
   ]
  },
  {
   "cell_type": "code",
   "execution_count": 5,
   "metadata": {},
   "outputs": [
    {
     "data": {
      "text/html": [
       "<div>\n",
       "<style scoped>\n",
       "    .dataframe tbody tr th:only-of-type {\n",
       "        vertical-align: middle;\n",
       "    }\n",
       "\n",
       "    .dataframe tbody tr th {\n",
       "        vertical-align: top;\n",
       "    }\n",
       "\n",
       "    .dataframe thead th {\n",
       "        text-align: right;\n",
       "    }\n",
       "</style>\n",
       "<table border=\"1\" class=\"dataframe\">\n",
       "  <thead>\n",
       "    <tr style=\"text-align: right;\">\n",
       "      <th></th>\n",
       "      <th>fwd_edge</th>\n",
       "      <th>abbrev</th>\n",
       "      <th>rev_edge</th>\n",
       "      <th>rel_dir</th>\n",
       "      <th>directed</th>\n",
       "      <th>parent_rel</th>\n",
       "    </tr>\n",
       "  </thead>\n",
       "  <tbody>\n",
       "    <tr>\n",
       "      <th>0</th>\n",
       "      <td>activates</td>\n",
       "      <td>a</td>\n",
       "      <td>activated_by</td>\n",
       "      <td>1</td>\n",
       "      <td>True</td>\n",
       "      <td>affects</td>\n",
       "    </tr>\n",
       "    <tr>\n",
       "      <th>1</th>\n",
       "      <td>affects</td>\n",
       "      <td>af</td>\n",
       "      <td>affected_by</td>\n",
       "      <td>0</td>\n",
       "      <td>True</td>\n",
       "      <td>NaN</td>\n",
       "    </tr>\n",
       "    <tr>\n",
       "      <th>2</th>\n",
       "      <td>associated_with</td>\n",
       "      <td>aw</td>\n",
       "      <td>associated_with</td>\n",
       "      <td>0</td>\n",
       "      <td>False</td>\n",
       "      <td>NaN</td>\n",
       "    </tr>\n",
       "    <tr>\n",
       "      <th>3</th>\n",
       "      <td>capable_of</td>\n",
       "      <td>co</td>\n",
       "      <td>performed_by</td>\n",
       "      <td>0</td>\n",
       "      <td>False</td>\n",
       "      <td>NaN</td>\n",
       "    </tr>\n",
       "    <tr>\n",
       "      <th>4</th>\n",
       "      <td>causes</td>\n",
       "      <td>c</td>\n",
       "      <td>caused_by</td>\n",
       "      <td>1</td>\n",
       "      <td>True</td>\n",
       "      <td>NaN</td>\n",
       "    </tr>\n",
       "    <tr>\n",
       "      <th>5</th>\n",
       "      <td>diagnoses</td>\n",
       "      <td>dg</td>\n",
       "      <td>diagnosed_by</td>\n",
       "      <td>1</td>\n",
       "      <td>True</td>\n",
       "      <td>NaN</td>\n",
       "    </tr>\n",
       "    <tr>\n",
       "      <th>6</th>\n",
       "      <td>disrupts</td>\n",
       "      <td>d</td>\n",
       "      <td>disrupted_in</td>\n",
       "      <td>-1</td>\n",
       "      <td>True</td>\n",
       "      <td>NaN</td>\n",
       "    </tr>\n",
       "    <tr>\n",
       "      <th>7</th>\n",
       "      <td>enables</td>\n",
       "      <td>e</td>\n",
       "      <td>enabled_by</td>\n",
       "      <td>1</td>\n",
       "      <td>True</td>\n",
       "      <td>NaN</td>\n",
       "    </tr>\n",
       "    <tr>\n",
       "      <th>8</th>\n",
       "      <td>follows_in_sequence</td>\n",
       "      <td>f</td>\n",
       "      <td>precedes_in_sequence</td>\n",
       "      <td>0</td>\n",
       "      <td>True</td>\n",
       "      <td>NaN</td>\n",
       "    </tr>\n",
       "    <tr>\n",
       "      <th>9</th>\n",
       "      <td>has_input</td>\n",
       "      <td>hi</td>\n",
       "      <td>input_of</td>\n",
       "      <td>0</td>\n",
       "      <td>False</td>\n",
       "      <td>NaN</td>\n",
       "    </tr>\n",
       "    <tr>\n",
       "      <th>10</th>\n",
       "      <td>has_output</td>\n",
       "      <td>ho</td>\n",
       "      <td>output_of</td>\n",
       "      <td>0</td>\n",
       "      <td>False</td>\n",
       "      <td>NaN</td>\n",
       "    </tr>\n",
       "    <tr>\n",
       "      <th>11</th>\n",
       "      <td>has_part</td>\n",
       "      <td>hp</td>\n",
       "      <td>part_of</td>\n",
       "      <td>0</td>\n",
       "      <td>False</td>\n",
       "      <td>NaN</td>\n",
       "    </tr>\n",
       "    <tr>\n",
       "      <th>12</th>\n",
       "      <td>in_reaction_with</td>\n",
       "      <td>rx</td>\n",
       "      <td>in_reaction_with</td>\n",
       "      <td>0</td>\n",
       "      <td>False</td>\n",
       "      <td>NaN</td>\n",
       "    </tr>\n",
       "    <tr>\n",
       "      <th>13</th>\n",
       "      <td>in_taxon</td>\n",
       "      <td>it</td>\n",
       "      <td>taxon_of</td>\n",
       "      <td>0</td>\n",
       "      <td>False</td>\n",
       "      <td>NaN</td>\n",
       "    </tr>\n",
       "    <tr>\n",
       "      <th>14</th>\n",
       "      <td>inhibits</td>\n",
       "      <td>in</td>\n",
       "      <td>inhibited_by</td>\n",
       "      <td>-1</td>\n",
       "      <td>True</td>\n",
       "      <td>affects</td>\n",
       "    </tr>\n",
       "    <tr>\n",
       "      <th>15</th>\n",
       "      <td>involved_in</td>\n",
       "      <td>i</td>\n",
       "      <td>has_member</td>\n",
       "      <td>0</td>\n",
       "      <td>False</td>\n",
       "      <td>NaN</td>\n",
       "    </tr>\n",
       "    <tr>\n",
       "      <th>16</th>\n",
       "      <td>marker_or_mechanism</td>\n",
       "      <td>m</td>\n",
       "      <td>marked_by</td>\n",
       "      <td>0</td>\n",
       "      <td>False</td>\n",
       "      <td>NaN</td>\n",
       "    </tr>\n",
       "    <tr>\n",
       "      <th>17</th>\n",
       "      <td>negatively_regulates</td>\n",
       "      <td>nr</td>\n",
       "      <td>negatively_regulated_by</td>\n",
       "      <td>-1</td>\n",
       "      <td>True</td>\n",
       "      <td>regulates</td>\n",
       "    </tr>\n",
       "    <tr>\n",
       "      <th>18</th>\n",
       "      <td>palliates</td>\n",
       "      <td>pl</td>\n",
       "      <td>palliated_by</td>\n",
       "      <td>1</td>\n",
       "      <td>True</td>\n",
       "      <td>NaN</td>\n",
       "    </tr>\n",
       "    <tr>\n",
       "      <th>19</th>\n",
       "      <td>part_of</td>\n",
       "      <td>po</td>\n",
       "      <td>has_part</td>\n",
       "      <td>0</td>\n",
       "      <td>False</td>\n",
       "      <td>NaN</td>\n",
       "    </tr>\n",
       "    <tr>\n",
       "      <th>20</th>\n",
       "      <td>positively_regulates</td>\n",
       "      <td>pr</td>\n",
       "      <td>positively_regulated_by</td>\n",
       "      <td>1</td>\n",
       "      <td>True</td>\n",
       "      <td>regulates</td>\n",
       "    </tr>\n",
       "    <tr>\n",
       "      <th>21</th>\n",
       "      <td>presents</td>\n",
       "      <td>ps</td>\n",
       "      <td>presented_by</td>\n",
       "      <td>1</td>\n",
       "      <td>True</td>\n",
       "      <td>NaN</td>\n",
       "    </tr>\n",
       "    <tr>\n",
       "      <th>22</th>\n",
       "      <td>prevents</td>\n",
       "      <td>pv</td>\n",
       "      <td>prevented_by</td>\n",
       "      <td>1</td>\n",
       "      <td>True</td>\n",
       "      <td>NaN</td>\n",
       "    </tr>\n",
       "    <tr>\n",
       "      <th>23</th>\n",
       "      <td>produces</td>\n",
       "      <td>p</td>\n",
       "      <td>produced_by</td>\n",
       "      <td>1</td>\n",
       "      <td>True</td>\n",
       "      <td>NaN</td>\n",
       "    </tr>\n",
       "    <tr>\n",
       "      <th>24</th>\n",
       "      <td>regulates</td>\n",
       "      <td>r</td>\n",
       "      <td>regulated_by</td>\n",
       "      <td>0</td>\n",
       "      <td>True</td>\n",
       "      <td>NaN</td>\n",
       "    </tr>\n",
       "    <tr>\n",
       "      <th>25</th>\n",
       "      <td>site_of</td>\n",
       "      <td>so</td>\n",
       "      <td>localized_to</td>\n",
       "      <td>0</td>\n",
       "      <td>False</td>\n",
       "      <td>NaN</td>\n",
       "    </tr>\n",
       "    <tr>\n",
       "      <th>26</th>\n",
       "      <td>treats</td>\n",
       "      <td>t</td>\n",
       "      <td>treated_by</td>\n",
       "      <td>-1</td>\n",
       "      <td>True</td>\n",
       "      <td>NaN</td>\n",
       "    </tr>\n",
       "  </tbody>\n",
       "</table>\n",
       "</div>"
      ],
      "text/plain": [
       "                fwd_edge abbrev                 rev_edge  rel_dir  directed  \\\n",
       "0              activates      a             activated_by        1      True   \n",
       "1                affects     af              affected_by        0      True   \n",
       "2        associated_with     aw          associated_with        0     False   \n",
       "3             capable_of     co             performed_by        0     False   \n",
       "4                 causes      c                caused_by        1      True   \n",
       "5              diagnoses     dg             diagnosed_by        1      True   \n",
       "6               disrupts      d             disrupted_in       -1      True   \n",
       "7                enables      e               enabled_by        1      True   \n",
       "8    follows_in_sequence      f     precedes_in_sequence        0      True   \n",
       "9              has_input     hi                 input_of        0     False   \n",
       "10            has_output     ho                output_of        0     False   \n",
       "11              has_part     hp                  part_of        0     False   \n",
       "12      in_reaction_with     rx         in_reaction_with        0     False   \n",
       "13              in_taxon     it                 taxon_of        0     False   \n",
       "14              inhibits     in             inhibited_by       -1      True   \n",
       "15           involved_in      i               has_member        0     False   \n",
       "16   marker_or_mechanism      m                marked_by        0     False   \n",
       "17  negatively_regulates     nr  negatively_regulated_by       -1      True   \n",
       "18             palliates     pl             palliated_by        1      True   \n",
       "19               part_of     po                 has_part        0     False   \n",
       "20  positively_regulates     pr  positively_regulated_by        1      True   \n",
       "21              presents     ps             presented_by        1      True   \n",
       "22              prevents     pv             prevented_by        1      True   \n",
       "23              produces      p              produced_by        1      True   \n",
       "24             regulates      r             regulated_by        0      True   \n",
       "25               site_of     so             localized_to        0     False   \n",
       "26                treats      t               treated_by       -1      True   \n",
       "\n",
       "   parent_rel  \n",
       "0     affects  \n",
       "1         NaN  \n",
       "2         NaN  \n",
       "3         NaN  \n",
       "4         NaN  \n",
       "5         NaN  \n",
       "6         NaN  \n",
       "7         NaN  \n",
       "8         NaN  \n",
       "9         NaN  \n",
       "10        NaN  \n",
       "11        NaN  \n",
       "12        NaN  \n",
       "13        NaN  \n",
       "14    affects  \n",
       "15        NaN  \n",
       "16        NaN  \n",
       "17  regulates  \n",
       "18        NaN  \n",
       "19        NaN  \n",
       "20  regulates  \n",
       "21        NaN  \n",
       "22        NaN  \n",
       "23        NaN  \n",
       "24        NaN  \n",
       "25        NaN  \n",
       "26        NaN  "
      ]
     },
     "execution_count": 5,
     "metadata": {},
     "output_type": "execute_result"
    }
   ],
   "source": [
    "sem_info"
   ]
  },
  {
   "cell_type": "code",
   "execution_count": 6,
   "metadata": {},
   "outputs": [],
   "source": [
    "rev_map = sem_info.set_index('fwd_edge')['rev_edge'].to_dict()\n",
    "directed_map = sem_info.set_index('fwd_edge')['directed'].to_dict()\n",
    "\n",
    "node_abbrev_map = biolink_map.set_index('hetnet')['abbrev'].to_dict()\n",
    "edge_abbrev_map = sem_info.set_index('fwd_edge')['abbrev'].to_dict()"
   ]
  },
  {
   "cell_type": "code",
   "execution_count": 7,
   "metadata": {},
   "outputs": [
    {
     "name": "stdout",
     "output_type": "stream",
     "text": [
      "CPU times: user 12.6 s, sys: 3.22 s, total: 15.8 s\n",
      "Wall time: 15.8 s\n"
     ]
    }
   ],
   "source": [
    "%%time\n",
    "edges = add_abbrevs(nodes, edges, {**node_abbrev_map, **edge_abbrev_map}, directed_map)\n",
    "edges.head(2)"
   ]
  },
  {
   "cell_type": "code",
   "execution_count": 8,
   "metadata": {},
   "outputs": [
    {
     "data": {
      "text/html": [
       "<div>\n",
       "<style scoped>\n",
       "    .dataframe tbody tr th:only-of-type {\n",
       "        vertical-align: middle;\n",
       "    }\n",
       "\n",
       "    .dataframe tbody tr th {\n",
       "        vertical-align: top;\n",
       "    }\n",
       "\n",
       "    .dataframe thead th {\n",
       "        text-align: right;\n",
       "    }\n",
       "</style>\n",
       "<table border=\"1\" class=\"dataframe\">\n",
       "  <thead>\n",
       "    <tr style=\"text-align: right;\">\n",
       "      <th></th>\n",
       "      <th>start_id</th>\n",
       "      <th>end_id</th>\n",
       "      <th>type</th>\n",
       "      <th>dsrc_type</th>\n",
       "      <th>comp_type</th>\n",
       "      <th>p_val</th>\n",
       "      <th>adj_p</th>\n",
       "      <th>source</th>\n",
       "      <th>license</th>\n",
       "      <th>experiments</th>\n",
       "      <th>...</th>\n",
       "      <th>pmids</th>\n",
       "      <th>phase</th>\n",
       "      <th>date</th>\n",
       "      <th>name</th>\n",
       "      <th>name_x</th>\n",
       "      <th>name_y</th>\n",
       "      <th>merge_id</th>\n",
       "      <th>reactome_id</th>\n",
       "      <th>abbrev</th>\n",
       "      <th>type_no_abbv</th>\n",
       "    </tr>\n",
       "  </thead>\n",
       "  <tbody>\n",
       "    <tr>\n",
       "      <th>0</th>\n",
       "      <td>UNII:BTY153760O</td>\n",
       "      <td>NCBIGene:3605</td>\n",
       "      <td>inhibits_CinG</td>\n",
       "      <td>computed</td>\n",
       "      <td>merge</td>\n",
       "      <td>NaN</td>\n",
       "      <td>NaN</td>\n",
       "      <td>WikiData</td>\n",
       "      <td>CC0 1.0</td>\n",
       "      <td>NaN</td>\n",
       "      <td>...</td>\n",
       "      <td>NaN</td>\n",
       "      <td>NaN</td>\n",
       "      <td>NaN</td>\n",
       "      <td>NaN</td>\n",
       "      <td>NaN</td>\n",
       "      <td>NaN</td>\n",
       "      <td>NaN</td>\n",
       "      <td>NaN</td>\n",
       "      <td>CinG</td>\n",
       "      <td>inhibits</td>\n",
       "    </tr>\n",
       "    <tr>\n",
       "      <th>1</th>\n",
       "      <td>CHEBI:10056</td>\n",
       "      <td>NCBIGene:1129</td>\n",
       "      <td>activates_RaG</td>\n",
       "      <td>computed</td>\n",
       "      <td>merge</td>\n",
       "      <td>NaN</td>\n",
       "      <td>NaN</td>\n",
       "      <td>WikiData</td>\n",
       "      <td>CC0 1.0</td>\n",
       "      <td>NaN</td>\n",
       "      <td>...</td>\n",
       "      <td>NaN</td>\n",
       "      <td>NaN</td>\n",
       "      <td>NaN</td>\n",
       "      <td>NaN</td>\n",
       "      <td>NaN</td>\n",
       "      <td>NaN</td>\n",
       "      <td>NaN</td>\n",
       "      <td>NaN</td>\n",
       "      <td>RaG</td>\n",
       "      <td>activates</td>\n",
       "    </tr>\n",
       "  </tbody>\n",
       "</table>\n",
       "<p>2 rows × 21 columns</p>\n",
       "</div>"
      ],
      "text/plain": [
       "          start_id         end_id           type dsrc_type comp_type p_val  \\\n",
       "0  UNII:BTY153760O  NCBIGene:3605  inhibits_CinG  computed     merge   NaN   \n",
       "1      CHEBI:10056  NCBIGene:1129  activates_RaG  computed     merge   NaN   \n",
       "\n",
       "  adj_p    source  license experiments  ... pmids phase date name name_x  \\\n",
       "0   NaN  WikiData  CC0 1.0         NaN  ...   NaN   NaN  NaN  NaN    NaN   \n",
       "1   NaN  WikiData  CC0 1.0         NaN  ...   NaN   NaN  NaN  NaN    NaN   \n",
       "\n",
       "  name_y merge_id reactome_id abbrev type_no_abbv  \n",
       "0    NaN      NaN         NaN   CinG     inhibits  \n",
       "1    NaN      NaN         NaN    RaG    activates  \n",
       "\n",
       "[2 rows x 21 columns]"
      ]
     },
     "execution_count": 8,
     "metadata": {},
     "output_type": "execute_result"
    }
   ],
   "source": [
    "edges['type_no_abbv'] = edges['type']\n",
    "edges['type'] = edges['type'] + '_' + edges['abbrev']\n",
    "edges.head(2)"
   ]
  },
  {
   "cell_type": "markdown",
   "metadata": {},
   "source": [
    "#### Save network"
   ]
  },
  {
   "cell_type": "code",
   "execution_count": 9,
   "metadata": {},
   "outputs": [
    {
     "data": {
      "text/plain": [
       "208"
      ]
     },
     "execution_count": 9,
     "metadata": {},
     "output_type": "execute_result"
    }
   ],
   "source": [
    "edges['abbrev'].nunique()"
   ]
  },
  {
   "cell_type": "code",
   "execution_count": 10,
   "metadata": {},
   "outputs": [],
   "source": [
    "this_name = '12d_Preprocessing-Abbreviations_and_Biolink'\n",
    "\n",
    "out_dir = Path('../2_pipeline/').joinpath(this_name).joinpath('out').resolve()\n",
    "\n",
    "out_dir.mkdir(parents=True, exist_ok=True)\n",
    "\n",
    "nodes.to_csv(out_dir.joinpath('nodes.csv'), index=False)\n",
    "edges.to_csv(out_dir.joinpath('edges.csv'), index=False)"
   ]
  },
  {
   "cell_type": "markdown",
   "metadata": {},
   "source": [
    "# Map to biolink"
   ]
  },
  {
   "cell_type": "code",
   "execution_count": 11,
   "metadata": {},
   "outputs": [],
   "source": [
    "nodes_biolink = nodes.copy()\n",
    "edges_biolink = edges.copy()"
   ]
  },
  {
   "cell_type": "code",
   "execution_count": 12,
   "metadata": {},
   "outputs": [],
   "source": [
    "label_to_biolink = biolink_map.set_index('hetnet')['bl_hierarchy_mapping'].to_dict()\n",
    "node_abbrev_map = biolink_map.set_index('bl_hierarchy_mapping')['hie_abbrev'].to_dict()\n",
    "\n",
    "nodes_biolink['label'] = nodes_biolink['label'].map(label_to_biolink)"
   ]
  },
  {
   "cell_type": "code",
   "execution_count": 13,
   "metadata": {},
   "outputs": [
    {
     "data": {
      "text/html": [
       "<div>\n",
       "<style scoped>\n",
       "    .dataframe tbody tr th:only-of-type {\n",
       "        vertical-align: middle;\n",
       "    }\n",
       "\n",
       "    .dataframe tbody tr th {\n",
       "        vertical-align: top;\n",
       "    }\n",
       "\n",
       "    .dataframe thead th {\n",
       "        text-align: right;\n",
       "    }\n",
       "</style>\n",
       "<table border=\"1\" class=\"dataframe\">\n",
       "  <thead>\n",
       "    <tr style=\"text-align: right;\">\n",
       "      <th></th>\n",
       "      <th>start_id</th>\n",
       "      <th>end_id</th>\n",
       "      <th>type</th>\n",
       "      <th>dsrc_type</th>\n",
       "      <th>comp_type</th>\n",
       "      <th>p_val</th>\n",
       "      <th>adj_p</th>\n",
       "      <th>source</th>\n",
       "      <th>license</th>\n",
       "      <th>experiments</th>\n",
       "      <th>...</th>\n",
       "      <th>pmids</th>\n",
       "      <th>phase</th>\n",
       "      <th>date</th>\n",
       "      <th>name</th>\n",
       "      <th>name_x</th>\n",
       "      <th>name_y</th>\n",
       "      <th>merge_id</th>\n",
       "      <th>reactome_id</th>\n",
       "      <th>abbrev</th>\n",
       "      <th>type_no_abbv</th>\n",
       "    </tr>\n",
       "  </thead>\n",
       "  <tbody>\n",
       "    <tr>\n",
       "      <th>0</th>\n",
       "      <td>UNII:BTY153760O</td>\n",
       "      <td>NCBIGene:3605</td>\n",
       "      <td>inhibits</td>\n",
       "      <td>computed</td>\n",
       "      <td>merge</td>\n",
       "      <td>NaN</td>\n",
       "      <td>NaN</td>\n",
       "      <td>WikiData</td>\n",
       "      <td>CC0 1.0</td>\n",
       "      <td>NaN</td>\n",
       "      <td>...</td>\n",
       "      <td>NaN</td>\n",
       "      <td>NaN</td>\n",
       "      <td>NaN</td>\n",
       "      <td>NaN</td>\n",
       "      <td>NaN</td>\n",
       "      <td>NaN</td>\n",
       "      <td>NaN</td>\n",
       "      <td>NaN</td>\n",
       "      <td>CinG</td>\n",
       "      <td>inhibits</td>\n",
       "    </tr>\n",
       "    <tr>\n",
       "      <th>1</th>\n",
       "      <td>CHEBI:10056</td>\n",
       "      <td>NCBIGene:1129</td>\n",
       "      <td>activates</td>\n",
       "      <td>computed</td>\n",
       "      <td>merge</td>\n",
       "      <td>NaN</td>\n",
       "      <td>NaN</td>\n",
       "      <td>WikiData</td>\n",
       "      <td>CC0 1.0</td>\n",
       "      <td>NaN</td>\n",
       "      <td>...</td>\n",
       "      <td>NaN</td>\n",
       "      <td>NaN</td>\n",
       "      <td>NaN</td>\n",
       "      <td>NaN</td>\n",
       "      <td>NaN</td>\n",
       "      <td>NaN</td>\n",
       "      <td>NaN</td>\n",
       "      <td>NaN</td>\n",
       "      <td>CaG</td>\n",
       "      <td>activates</td>\n",
       "    </tr>\n",
       "  </tbody>\n",
       "</table>\n",
       "<p>2 rows × 21 columns</p>\n",
       "</div>"
      ],
      "text/plain": [
       "          start_id         end_id       type dsrc_type comp_type p_val adj_p  \\\n",
       "0  UNII:BTY153760O  NCBIGene:3605   inhibits  computed     merge   NaN   NaN   \n",
       "1      CHEBI:10056  NCBIGene:1129  activates  computed     merge   NaN   NaN   \n",
       "\n",
       "     source  license experiments  ... pmids phase date name name_x name_y  \\\n",
       "0  WikiData  CC0 1.0         NaN  ...   NaN   NaN  NaN  NaN    NaN    NaN   \n",
       "1  WikiData  CC0 1.0         NaN  ...   NaN   NaN  NaN  NaN    NaN    NaN   \n",
       "\n",
       "  merge_id reactome_id abbrev type_no_abbv  \n",
       "0      NaN         NaN   CinG     inhibits  \n",
       "1      NaN         NaN    CaG    activates  \n",
       "\n",
       "[2 rows x 21 columns]"
      ]
     },
     "execution_count": 13,
     "metadata": {},
     "output_type": "execute_result"
    }
   ],
   "source": [
    "# reset the edge semmantics\n",
    "edges_biolink['type'] = edges_biolink['type_no_abbv']\n",
    "\n",
    "# Add in the new abbrevations\n",
    "edges_biolink = add_abbrevs(nodes_biolink, edges_biolink, {**node_abbrev_map, **edge_abbrev_map}, directed_map)\n",
    "edges_biolink.head(2)"
   ]
  },
  {
   "cell_type": "code",
   "execution_count": 14,
   "metadata": {},
   "outputs": [
    {
     "data": {
      "text/plain": [
       "68"
      ]
     },
     "execution_count": 14,
     "metadata": {},
     "output_type": "execute_result"
    }
   ],
   "source": [
    "edges_biolink['abbrev'].nunique()"
   ]
  },
  {
   "cell_type": "code",
   "execution_count": 15,
   "metadata": {},
   "outputs": [],
   "source": [
    "edges_biolink['type_no_abbv'] = edges_biolink['type']\n",
    "edges_biolink['type'] = edges_biolink['type'] + '_' + edges_biolink['abbrev']"
   ]
  },
  {
   "cell_type": "code",
   "execution_count": 16,
   "metadata": {},
   "outputs": [
    {
     "data": {
      "text/html": [
       "<div>\n",
       "<style scoped>\n",
       "    .dataframe tbody tr th:only-of-type {\n",
       "        vertical-align: middle;\n",
       "    }\n",
       "\n",
       "    .dataframe tbody tr th {\n",
       "        vertical-align: top;\n",
       "    }\n",
       "\n",
       "    .dataframe thead th {\n",
       "        text-align: right;\n",
       "    }\n",
       "</style>\n",
       "<table border=\"1\" class=\"dataframe\">\n",
       "  <thead>\n",
       "    <tr style=\"text-align: right;\">\n",
       "      <th></th>\n",
       "      <th>start_id</th>\n",
       "      <th>end_id</th>\n",
       "      <th>type</th>\n",
       "      <th>dsrc_type</th>\n",
       "      <th>comp_type</th>\n",
       "      <th>p_val</th>\n",
       "      <th>adj_p</th>\n",
       "      <th>source</th>\n",
       "      <th>license</th>\n",
       "      <th>experiments</th>\n",
       "      <th>...</th>\n",
       "      <th>pmids</th>\n",
       "      <th>phase</th>\n",
       "      <th>date</th>\n",
       "      <th>name</th>\n",
       "      <th>name_x</th>\n",
       "      <th>name_y</th>\n",
       "      <th>merge_id</th>\n",
       "      <th>reactome_id</th>\n",
       "      <th>abbrev</th>\n",
       "      <th>type_no_abbv</th>\n",
       "    </tr>\n",
       "  </thead>\n",
       "  <tbody>\n",
       "    <tr>\n",
       "      <th>0</th>\n",
       "      <td>UNII:BTY153760O</td>\n",
       "      <td>NCBIGene:3605</td>\n",
       "      <td>inhibits_CinG</td>\n",
       "      <td>computed</td>\n",
       "      <td>merge</td>\n",
       "      <td>NaN</td>\n",
       "      <td>NaN</td>\n",
       "      <td>WikiData</td>\n",
       "      <td>CC0 1.0</td>\n",
       "      <td>NaN</td>\n",
       "      <td>...</td>\n",
       "      <td>NaN</td>\n",
       "      <td>NaN</td>\n",
       "      <td>NaN</td>\n",
       "      <td>NaN</td>\n",
       "      <td>NaN</td>\n",
       "      <td>NaN</td>\n",
       "      <td>NaN</td>\n",
       "      <td>NaN</td>\n",
       "      <td>CinG</td>\n",
       "      <td>inhibits</td>\n",
       "    </tr>\n",
       "    <tr>\n",
       "      <th>1</th>\n",
       "      <td>CHEBI:10056</td>\n",
       "      <td>NCBIGene:1129</td>\n",
       "      <td>activates_CaG</td>\n",
       "      <td>computed</td>\n",
       "      <td>merge</td>\n",
       "      <td>NaN</td>\n",
       "      <td>NaN</td>\n",
       "      <td>WikiData</td>\n",
       "      <td>CC0 1.0</td>\n",
       "      <td>NaN</td>\n",
       "      <td>...</td>\n",
       "      <td>NaN</td>\n",
       "      <td>NaN</td>\n",
       "      <td>NaN</td>\n",
       "      <td>NaN</td>\n",
       "      <td>NaN</td>\n",
       "      <td>NaN</td>\n",
       "      <td>NaN</td>\n",
       "      <td>NaN</td>\n",
       "      <td>CaG</td>\n",
       "      <td>activates</td>\n",
       "    </tr>\n",
       "  </tbody>\n",
       "</table>\n",
       "<p>2 rows × 21 columns</p>\n",
       "</div>"
      ],
      "text/plain": [
       "          start_id         end_id           type dsrc_type comp_type p_val  \\\n",
       "0  UNII:BTY153760O  NCBIGene:3605  inhibits_CinG  computed     merge   NaN   \n",
       "1      CHEBI:10056  NCBIGene:1129  activates_CaG  computed     merge   NaN   \n",
       "\n",
       "  adj_p    source  license experiments  ... pmids phase date name name_x  \\\n",
       "0   NaN  WikiData  CC0 1.0         NaN  ...   NaN   NaN  NaN  NaN    NaN   \n",
       "1   NaN  WikiData  CC0 1.0         NaN  ...   NaN   NaN  NaN  NaN    NaN   \n",
       "\n",
       "  name_y merge_id reactome_id abbrev type_no_abbv  \n",
       "0    NaN      NaN         NaN   CinG     inhibits  \n",
       "1    NaN      NaN         NaN    CaG    activates  \n",
       "\n",
       "[2 rows x 21 columns]"
      ]
     },
     "execution_count": 16,
     "metadata": {},
     "output_type": "execute_result"
    }
   ],
   "source": [
    "edges_biolink.head(2)"
   ]
  },
  {
   "cell_type": "markdown",
   "metadata": {},
   "source": [
    "### Ensure Biolink Mapping hasn't resulted in Reverse Types\n",
    "\n",
    "For example, if we had `Gene` `part_of` `Cellular Component` and `Cellular Component` `has_part` `Protein`,  Mapping to biolkink would result in `AnatomicalEntity` `has_part` `MacromolecularMachine` and `MacromolecularMachine` `part_of` `AnatomicalEntity`, which are essentially the same edges just reversed.  These need to be normalized if identified."
   ]
  },
  {
   "cell_type": "code",
   "execution_count": 17,
   "metadata": {},
   "outputs": [],
   "source": [
    "combo = combine_nodes_and_edges(nodes_biolink, edges_biolink)\n",
    "combo['rev_type'] = combo['type_no_abbv'].map(rev_map)"
   ]
  },
  {
   "cell_type": "code",
   "execution_count": 18,
   "metadata": {},
   "outputs": [],
   "source": [
    "# Don't need to do these operations on the entire set of edges, just one of each type is ok\n",
    "meta_edges = combo.drop_duplicates(subset=['start_label', 'type_no_abbv', 'end_label']).copy()"
   ]
  },
  {
   "cell_type": "code",
   "execution_count": 19,
   "metadata": {},
   "outputs": [],
   "source": [
    "meta_edges['fwd_tup'] = meta_edges[['start_label', 'type_no_abbv', 'end_label']].apply(tuple, axis=1)\n",
    "meta_edges['rev_tup'] = meta_edges[['end_label', 'rev_type', 'start_label']].apply(tuple, axis=1)"
   ]
  },
  {
   "cell_type": "code",
   "execution_count": 20,
   "metadata": {},
   "outputs": [
    {
     "data": {
      "text/plain": [
       "[]"
      ]
     },
     "execution_count": 20,
     "metadata": {},
     "output_type": "execute_result"
    }
   ],
   "source": [
    "overlaps = list(set(meta_edges['fwd_tup']) & set(meta_edges['rev_tup']))\n",
    "overlaps"
   ]
  },
  {
   "cell_type": "markdown",
   "metadata": {},
   "source": [
    "Empty list is exactly what we were looking for... Perfect!"
   ]
  },
  {
   "cell_type": "markdown",
   "metadata": {},
   "source": [
    "## Save out"
   ]
  },
  {
   "cell_type": "code",
   "execution_count": 21,
   "metadata": {},
   "outputs": [
    {
     "data": {
      "text/plain": [
       "'250,035'"
      ]
     },
     "execution_count": 21,
     "metadata": {},
     "output_type": "execute_result"
    }
   ],
   "source": [
    "'{:,}'.format(len(nodes_biolink))"
   ]
  },
  {
   "cell_type": "code",
   "execution_count": 22,
   "metadata": {},
   "outputs": [
    {
     "data": {
      "text/plain": [
       "'9,652,116'"
      ]
     },
     "execution_count": 22,
     "metadata": {},
     "output_type": "execute_result"
    }
   ],
   "source": [
    "'{:,}'.format(len(edges_biolink))"
   ]
  },
  {
   "cell_type": "code",
   "execution_count": 23,
   "metadata": {},
   "outputs": [],
   "source": [
    "ex = expand_col_on_char(edges_biolink, 'source', '|')"
   ]
  },
  {
   "cell_type": "code",
   "execution_count": 24,
   "metadata": {},
   "outputs": [
    {
     "data": {
      "text/plain": [
       "CTD                         6312738\n",
       "Gene Ontology               1492662\n",
       "WikiData                    1185514\n",
       "Reactome                     617541\n",
       "Human Phenotype Ontology     201656\n",
       "miRTarBase                    94610\n",
       "Protein Ontology              76150\n",
       "Inxight Drugs                 70514\n",
       "GAUSS                         31662\n",
       "ensembl                       26744\n",
       "InterPro                      25869\n",
       "RheaDB                        21731\n",
       "DrugBank                      14615\n",
       "DrugCentral                   13084\n",
       "Disease Ontology               4565\n",
       "ensembel                       4320\n",
       "ComplexPortal                  1999\n",
       "Cell Ontology                   855\n",
       "UBERON                          492\n",
       "Name: source, dtype: int64"
      ]
     },
     "execution_count": 24,
     "metadata": {},
     "output_type": "execute_result"
    }
   ],
   "source": [
    "ex['source'].value_counts()"
   ]
  },
  {
   "cell_type": "code",
   "execution_count": 25,
   "metadata": {},
   "outputs": [],
   "source": [
    "nodes_biolink.to_csv(out_dir.joinpath('nodes_biolink.csv'), index=False)\n",
    "edges_biolink.to_csv(out_dir.joinpath('edges_biolink.csv'), index=False)"
   ]
  }
 ],
 "metadata": {
  "kernelspec": {
   "display_name": "Python 3",
   "language": "python",
   "name": "python3"
  },
  "language_info": {
   "codemirror_mode": {
    "name": "ipython",
    "version": 3
   },
   "file_extension": ".py",
   "mimetype": "text/x-python",
   "name": "python",
   "nbconvert_exporter": "python",
   "pygments_lexer": "ipython3",
   "version": "3.6.8"
  }
 },
 "nbformat": 4,
 "nbformat_minor": 2
}
