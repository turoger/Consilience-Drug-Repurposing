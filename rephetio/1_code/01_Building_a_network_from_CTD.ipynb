{
 "cells": [
  {
   "cell_type": "markdown",
   "metadata": {},
   "source": [
    "# Building out the CTD network\n",
    "\n",
    "We've downloaded the files from CTD.  Some contain node to node relationships, others contian information about the nodes including identifiers and hierarchial structures.  We will use these data to build a node and edges file that can be imported into neo4j"
   ]
  },
  {
   "cell_type": "code",
   "execution_count": 1,
   "metadata": {},
   "outputs": [],
   "source": [
    "# python package imports\n",
    "import pandas as pd\n",
    "from pathlib import Path\n",
    "\n",
    "# personal package imports\n",
    "import hetnet_ml.src.graph_tools as gt\n",
    "from metapaths.tools.hetnet_file_processing import read_ctd\n",
    "from metapaths.tools import processing as pr"
   ]
  },
  {
   "cell_type": "code",
   "execution_count": 2,
   "metadata": {},
   "outputs": [],
   "source": [
    "file_info = pd.read_csv('../0_data/manual/edge_file_info.csv')\n",
    "load_dir = Path('../2_pipeline/00_download_data/out/').resolve()"
   ]
  },
  {
   "cell_type": "code",
   "execution_count": 3,
   "metadata": {},
   "outputs": [],
   "source": [
    "id_files = file_info.query('file_source == \"CTD\" and file_type == \"ids\"').set_index('source_type')"
   ]
  },
  {
   "cell_type": "markdown",
   "metadata": {},
   "source": [
    "# Nodes"
   ]
  },
  {
   "cell_type": "code",
   "execution_count": 5,
   "metadata": {},
   "outputs": [],
   "source": [
    "nodes = list()"
   ]
  },
  {
   "cell_type": "markdown",
   "metadata": {},
   "source": [
    "### Compounds"
   ]
  },
  {
   "cell_type": "code",
   "execution_count": 6,
   "metadata": {},
   "outputs": [
    {
     "data": {
      "text/html": [
       "<div>\n",
       "<style scoped>\n",
       "    .dataframe tbody tr th:only-of-type {\n",
       "        vertical-align: middle;\n",
       "    }\n",
       "\n",
       "    .dataframe tbody tr th {\n",
       "        vertical-align: top;\n",
       "    }\n",
       "\n",
       "    .dataframe thead th {\n",
       "        text-align: right;\n",
       "    }\n",
       "</style>\n",
       "<table border=\"1\" class=\"dataframe\">\n",
       "  <thead>\n",
       "    <tr style=\"text-align: right;\">\n",
       "      <th></th>\n",
       "      <th>chemical_name</th>\n",
       "      <th>chemical_id</th>\n",
       "      <th>cas_rn</th>\n",
       "      <th>definition</th>\n",
       "      <th>parent_ids</th>\n",
       "      <th>tree_numbers</th>\n",
       "      <th>parent_tree_numbers</th>\n",
       "      <th>synonyms</th>\n",
       "      <th>drug_bank_ids</th>\n",
       "    </tr>\n",
       "  </thead>\n",
       "  <tbody>\n",
       "    <tr>\n",
       "      <th>0</th>\n",
       "      <td>(0.017ferrocene)amylose</td>\n",
       "      <td>MESH:C089250</td>\n",
       "      <td>NaN</td>\n",
       "      <td>NaN</td>\n",
       "      <td>MESH:D000688|MESH:D005296</td>\n",
       "      <td>D01.490.200/C089250|D02.691.550.200/C089250|D0...</td>\n",
       "      <td>D01.490.200|D02.691.550.200|D09.301.915.361|D0...</td>\n",
       "      <td>(0.017 ferrocene)amylose</td>\n",
       "      <td>NaN</td>\n",
       "    </tr>\n",
       "    <tr>\n",
       "      <th>1</th>\n",
       "      <td>001-C8-NBD</td>\n",
       "      <td>MESH:C114385</td>\n",
       "      <td>NaN</td>\n",
       "      <td>NaN</td>\n",
       "      <td>MESH:D009842|MESH:D010069</td>\n",
       "      <td>D03.383.129.462.580/C114385|D12.644.456/C114385</td>\n",
       "      <td>D03.383.129.462.580|D12.644.456</td>\n",
       "      <td>001 C8 NBD|H-MeTyr-Arg-MeArg-D-Leu-NH(CH2)8NH-...</td>\n",
       "      <td>NaN</td>\n",
       "    </tr>\n",
       "  </tbody>\n",
       "</table>\n",
       "</div>"
      ],
      "text/plain": [
       "             chemical_name   chemical_id cas_rn definition  \\\n",
       "0  (0.017ferrocene)amylose  MESH:C089250    NaN        NaN   \n",
       "1               001-C8-NBD  MESH:C114385    NaN        NaN   \n",
       "\n",
       "                  parent_ids  \\\n",
       "0  MESH:D000688|MESH:D005296   \n",
       "1  MESH:D009842|MESH:D010069   \n",
       "\n",
       "                                        tree_numbers  \\\n",
       "0  D01.490.200/C089250|D02.691.550.200/C089250|D0...   \n",
       "1    D03.383.129.462.580/C114385|D12.644.456/C114385   \n",
       "\n",
       "                                 parent_tree_numbers  \\\n",
       "0  D01.490.200|D02.691.550.200|D09.301.915.361|D0...   \n",
       "1                    D03.383.129.462.580|D12.644.456   \n",
       "\n",
       "                                            synonyms drug_bank_ids  \n",
       "0                           (0.017 ferrocene)amylose           NaN  \n",
       "1  001 C8 NBD|H-MeTyr-Arg-MeArg-D-Leu-NH(CH2)8NH-...           NaN  "
      ]
     },
     "execution_count": 6,
     "metadata": {},
     "output_type": "execute_result"
    }
   ],
   "source": [
    "compound_info = read_ctd(load_dir.joinpath(id_files.loc['Compound', 'file_name']))\n",
    "compound_info.head(2)"
   ]
  },
  {
   "cell_type": "markdown",
   "metadata": {},
   "source": [
    "ID and name are required for making a node file.  We will use the parent IDs to make a tree of the hierarchy, to better mapping of edges.  Finally, keeping info like tree numbers and any xrefs (like drugbank) will be useful for future network joining and analysis of compound classes."
   ]
  },
  {
   "cell_type": "code",
   "execution_count": 7,
   "metadata": {},
   "outputs": [
    {
     "data": {
      "text/html": [
       "<div>\n",
       "<style scoped>\n",
       "    .dataframe tbody tr th:only-of-type {\n",
       "        vertical-align: middle;\n",
       "    }\n",
       "\n",
       "    .dataframe tbody tr th {\n",
       "        vertical-align: top;\n",
       "    }\n",
       "\n",
       "    .dataframe thead th {\n",
       "        text-align: right;\n",
       "    }\n",
       "</style>\n",
       "<table border=\"1\" class=\"dataframe\">\n",
       "  <thead>\n",
       "    <tr style=\"text-align: right;\">\n",
       "      <th></th>\n",
       "      <th>id</th>\n",
       "      <th>name</th>\n",
       "      <th>tree_numbers</th>\n",
       "      <th>drug_bank_ids</th>\n",
       "      <th>label</th>\n",
       "    </tr>\n",
       "  </thead>\n",
       "  <tbody>\n",
       "    <tr>\n",
       "      <th>0</th>\n",
       "      <td>MESH:C089250</td>\n",
       "      <td>(0.017ferrocene)amylose</td>\n",
       "      <td>D01.490.200/C089250|D02.691.550.200/C089250|D0...</td>\n",
       "      <td>NaN</td>\n",
       "      <td>Compound</td>\n",
       "    </tr>\n",
       "    <tr>\n",
       "      <th>1</th>\n",
       "      <td>MESH:C114385</td>\n",
       "      <td>001-C8-NBD</td>\n",
       "      <td>D03.383.129.462.580/C114385|D12.644.456/C114385</td>\n",
       "      <td>NaN</td>\n",
       "      <td>Compound</td>\n",
       "    </tr>\n",
       "    <tr>\n",
       "      <th>2</th>\n",
       "      <td>MESH:C114386</td>\n",
       "      <td>001-C8 oligopeptide</td>\n",
       "      <td>D12.644.456/C114386</td>\n",
       "      <td>NaN</td>\n",
       "      <td>Compound</td>\n",
       "    </tr>\n",
       "    <tr>\n",
       "      <th>3</th>\n",
       "      <td>MESH:C434150</td>\n",
       "      <td>0231A , Streptomyces</td>\n",
       "      <td>D03.633.400/C434150</td>\n",
       "      <td>NaN</td>\n",
       "      <td>Compound</td>\n",
       "    </tr>\n",
       "    <tr>\n",
       "      <th>4</th>\n",
       "      <td>MESH:C434149</td>\n",
       "      <td>0231B, Streptomyces</td>\n",
       "      <td>D03.633.400/C434149</td>\n",
       "      <td>NaN</td>\n",
       "      <td>Compound</td>\n",
       "    </tr>\n",
       "  </tbody>\n",
       "</table>\n",
       "</div>"
      ],
      "text/plain": [
       "             id                     name  \\\n",
       "0  MESH:C089250  (0.017ferrocene)amylose   \n",
       "1  MESH:C114385               001-C8-NBD   \n",
       "2  MESH:C114386      001-C8 oligopeptide   \n",
       "3  MESH:C434150     0231A , Streptomyces   \n",
       "4  MESH:C434149      0231B, Streptomyces   \n",
       "\n",
       "                                        tree_numbers drug_bank_ids     label  \n",
       "0  D01.490.200/C089250|D02.691.550.200/C089250|D0...           NaN  Compound  \n",
       "1    D03.383.129.462.580/C114385|D12.644.456/C114385           NaN  Compound  \n",
       "2                                D12.644.456/C114386           NaN  Compound  \n",
       "3                                D03.633.400/C434150           NaN  Compound  \n",
       "4                                D03.633.400/C434149           NaN  Compound  "
      ]
     },
     "execution_count": 7,
     "metadata": {},
     "output_type": "execute_result"
    }
   ],
   "source": [
    "comp_nodes = compound_info[['chemical_id', 'chemical_name', 'tree_numbers', 'drug_bank_ids']]\n",
    "comp_nodes = comp_nodes.rename(columns={'chemical_id': 'id', 'chemical_name': 'name'})\n",
    "comp_nodes['label'] = 'Compound'\n",
    "\n",
    "comp_nodes.head(5)"
   ]
  },
  {
   "cell_type": "code",
   "execution_count": 8,
   "metadata": {},
   "outputs": [],
   "source": [
    "nodes.append(comp_nodes)"
   ]
  },
  {
   "cell_type": "code",
   "execution_count": 9,
   "metadata": {},
   "outputs": [],
   "source": [
    "comp_p2c = pr.get_parent_to_child_map(compound_info, 'parent_ids', 'chemical_id')"
   ]
  },
  {
   "cell_type": "code",
   "execution_count": 10,
   "metadata": {},
   "outputs": [
    {
     "data": {
      "text/plain": [
       "True"
      ]
     },
     "execution_count": 10,
     "metadata": {},
     "output_type": "execute_result"
    }
   ],
   "source": [
    "type(comp_nodes) == pd.DataFrame"
   ]
  },
  {
   "cell_type": "code",
   "execution_count": 11,
   "metadata": {},
   "outputs": [],
   "source": [
    "def test_parent_child(pc_info, node_df, parent_2_child_map, idx=0):\n",
    "\n",
    "    if type(pc_info) == pd.DataFrame:        \n",
    "        test_id = pc_info.dropna(subset=['parent_ids']).iloc[idx]['parent_ids'].split('|')[0]\n",
    "    elif type(pc_info) == str:\n",
    "        test_id = pc_info\n",
    "    node_df = node_df.set_index('id')\n",
    "    print('Parent: {}'.format(node_df.loc[test_id, 'name']))\n",
    "    print('Children:')\n",
    "    for child in parent_2_child_map[test_id]:\n",
    "        print('\\t{}'.format(node_df.loc[child, 'name']))\n"
   ]
  },
  {
   "cell_type": "code",
   "execution_count": 12,
   "metadata": {},
   "outputs": [
    {
     "name": "stdout",
     "output_type": "stream",
     "text": [
      "Parent: Amylose\n",
      "Children:\n",
      "\tcarboxymethylamylose\n",
      "\tCibacron Blue-amylose\n",
      "\tCibacron Blue F 3GA-amylose\n",
      "\tthymol amylose\n",
      "\tchiralpak AS\n",
      "\t6-deoxyamylose\n",
      "\toxyamylose\n",
      "\tsodium amylose succinate\n",
      "\tamylose triacetate\n",
      "\t(0.017ferrocene)amylose\n",
      "\tamylose tris(1-phenylethylcarbamate)\n",
      "\tamylose tris(n-hexylcarbamate)\n",
      "\tamylose-tris-(5-chloro-2-methylphenylcarbamate)\n",
      "\tChiralpak AD\n",
      "\tamylose-2-acetyl-3,6-bis(phenylcarbamate)\n",
      "\tamylose tris(ethylcarbamate)\n",
      "\tamylose tri(3,5-dimethyl carbamate)\n"
     ]
    }
   ],
   "source": [
    "test_parent_child(compound_info, comp_nodes, comp_p2c)"
   ]
  },
  {
   "cell_type": "markdown",
   "metadata": {},
   "source": [
    "### Diseases"
   ]
  },
  {
   "cell_type": "code",
   "execution_count": 13,
   "metadata": {},
   "outputs": [
    {
     "data": {
      "text/html": [
       "<div>\n",
       "<style scoped>\n",
       "    .dataframe tbody tr th:only-of-type {\n",
       "        vertical-align: middle;\n",
       "    }\n",
       "\n",
       "    .dataframe tbody tr th {\n",
       "        vertical-align: top;\n",
       "    }\n",
       "\n",
       "    .dataframe thead th {\n",
       "        text-align: right;\n",
       "    }\n",
       "</style>\n",
       "<table border=\"1\" class=\"dataframe\">\n",
       "  <thead>\n",
       "    <tr style=\"text-align: right;\">\n",
       "      <th></th>\n",
       "      <th>disease_name</th>\n",
       "      <th>disease_id</th>\n",
       "      <th>alt_disease_ids</th>\n",
       "      <th>definition</th>\n",
       "      <th>parent_ids</th>\n",
       "      <th>tree_numbers</th>\n",
       "      <th>parent_tree_numbers</th>\n",
       "      <th>synonyms</th>\n",
       "      <th>slim_mappings</th>\n",
       "    </tr>\n",
       "  </thead>\n",
       "  <tbody>\n",
       "    <tr>\n",
       "      <th>0</th>\n",
       "      <td>10p Deletion Syndrome (Partial)</td>\n",
       "      <td>MESH:C538288</td>\n",
       "      <td>NaN</td>\n",
       "      <td>NaN</td>\n",
       "      <td>MESH:D002872|MESH:D025063</td>\n",
       "      <td>C16.131.260/C538288|C16.320.180/C538288|C23.55...</td>\n",
       "      <td>C16.131.260|C16.320.180|C23.550.210.050.500.500</td>\n",
       "      <td>Chromosome 10, 10p- Partial|Chromosome 10, mon...</td>\n",
       "      <td>Congenital abnormality|Genetic disease (inborn...</td>\n",
       "    </tr>\n",
       "    <tr>\n",
       "      <th>1</th>\n",
       "      <td>13q deletion syndrome</td>\n",
       "      <td>MESH:C535484</td>\n",
       "      <td>NaN</td>\n",
       "      <td>NaN</td>\n",
       "      <td>MESH:D002872|MESH:D025063</td>\n",
       "      <td>C16.131.260/C535484|C16.320.180/C535484|C23.55...</td>\n",
       "      <td>C16.131.260|C16.320.180|C23.550.210.050.500.500</td>\n",
       "      <td>Chromosome 13q deletion|Chromosome 13q deletio...</td>\n",
       "      <td>Congenital abnormality|Genetic disease (inborn...</td>\n",
       "    </tr>\n",
       "  </tbody>\n",
       "</table>\n",
       "</div>"
      ],
      "text/plain": [
       "                      disease_name    disease_id alt_disease_ids definition  \\\n",
       "0  10p Deletion Syndrome (Partial)  MESH:C538288             NaN        NaN   \n",
       "1            13q deletion syndrome  MESH:C535484             NaN        NaN   \n",
       "\n",
       "                  parent_ids  \\\n",
       "0  MESH:D002872|MESH:D025063   \n",
       "1  MESH:D002872|MESH:D025063   \n",
       "\n",
       "                                        tree_numbers  \\\n",
       "0  C16.131.260/C538288|C16.320.180/C538288|C23.55...   \n",
       "1  C16.131.260/C535484|C16.320.180/C535484|C23.55...   \n",
       "\n",
       "                               parent_tree_numbers  \\\n",
       "0  C16.131.260|C16.320.180|C23.550.210.050.500.500   \n",
       "1  C16.131.260|C16.320.180|C23.550.210.050.500.500   \n",
       "\n",
       "                                            synonyms  \\\n",
       "0  Chromosome 10, 10p- Partial|Chromosome 10, mon...   \n",
       "1  Chromosome 13q deletion|Chromosome 13q deletio...   \n",
       "\n",
       "                                       slim_mappings  \n",
       "0  Congenital abnormality|Genetic disease (inborn...  \n",
       "1  Congenital abnormality|Genetic disease (inborn...  "
      ]
     },
     "execution_count": 13,
     "metadata": {},
     "output_type": "execute_result"
    }
   ],
   "source": [
    "disease_info = read_ctd(load_dir.joinpath(id_files.loc['Disease', 'file_name']))\n",
    "disease_info.head(2)"
   ]
  },
  {
   "cell_type": "code",
   "execution_count": 14,
   "metadata": {},
   "outputs": [
    {
     "data": {
      "text/html": [
       "<div>\n",
       "<style scoped>\n",
       "    .dataframe tbody tr th:only-of-type {\n",
       "        vertical-align: middle;\n",
       "    }\n",
       "\n",
       "    .dataframe tbody tr th {\n",
       "        vertical-align: top;\n",
       "    }\n",
       "\n",
       "    .dataframe thead th {\n",
       "        text-align: right;\n",
       "    }\n",
       "</style>\n",
       "<table border=\"1\" class=\"dataframe\">\n",
       "  <thead>\n",
       "    <tr style=\"text-align: right;\">\n",
       "      <th></th>\n",
       "      <th>id</th>\n",
       "      <th>name</th>\n",
       "      <th>tree_numbers</th>\n",
       "      <th>alt_disease_ids</th>\n",
       "      <th>label</th>\n",
       "    </tr>\n",
       "  </thead>\n",
       "  <tbody>\n",
       "    <tr>\n",
       "      <th>0</th>\n",
       "      <td>MESH:C538288</td>\n",
       "      <td>10p Deletion Syndrome (Partial)</td>\n",
       "      <td>C16.131.260/C538288|C16.320.180/C538288|C23.55...</td>\n",
       "      <td>NaN</td>\n",
       "      <td>Disease</td>\n",
       "    </tr>\n",
       "    <tr>\n",
       "      <th>1</th>\n",
       "      <td>MESH:C535484</td>\n",
       "      <td>13q deletion syndrome</td>\n",
       "      <td>C16.131.260/C535484|C16.320.180/C535484|C23.55...</td>\n",
       "      <td>NaN</td>\n",
       "      <td>Disease</td>\n",
       "    </tr>\n",
       "    <tr>\n",
       "      <th>2</th>\n",
       "      <td>MESH:C579849</td>\n",
       "      <td>15q24 Microdeletion</td>\n",
       "      <td>C10.597.606.360/C579849|C16.131.260/C579849|C1...</td>\n",
       "      <td>DO:DOID:0060395</td>\n",
       "      <td>Disease</td>\n",
       "    </tr>\n",
       "    <tr>\n",
       "      <th>3</th>\n",
       "      <td>MESH:C579850</td>\n",
       "      <td>16p11.2 Deletion Syndrome</td>\n",
       "      <td>C10.597.606.360/C579850|C16.131.260/C579850|C1...</td>\n",
       "      <td>NaN</td>\n",
       "      <td>Disease</td>\n",
       "    </tr>\n",
       "    <tr>\n",
       "      <th>4</th>\n",
       "      <td>MESH:C567076</td>\n",
       "      <td>17,20-Lyase Deficiency, Isolated</td>\n",
       "      <td>C12.706.316.090.500/C567076|C13.351.875.253.09...</td>\n",
       "      <td>NaN</td>\n",
       "      <td>Disease</td>\n",
       "    </tr>\n",
       "  </tbody>\n",
       "</table>\n",
       "</div>"
      ],
      "text/plain": [
       "             id                              name  \\\n",
       "0  MESH:C538288   10p Deletion Syndrome (Partial)   \n",
       "1  MESH:C535484             13q deletion syndrome   \n",
       "2  MESH:C579849               15q24 Microdeletion   \n",
       "3  MESH:C579850         16p11.2 Deletion Syndrome   \n",
       "4  MESH:C567076  17,20-Lyase Deficiency, Isolated   \n",
       "\n",
       "                                        tree_numbers  alt_disease_ids    label  \n",
       "0  C16.131.260/C538288|C16.320.180/C538288|C23.55...              NaN  Disease  \n",
       "1  C16.131.260/C535484|C16.320.180/C535484|C23.55...              NaN  Disease  \n",
       "2  C10.597.606.360/C579849|C16.131.260/C579849|C1...  DO:DOID:0060395  Disease  \n",
       "3  C10.597.606.360/C579850|C16.131.260/C579850|C1...              NaN  Disease  \n",
       "4  C12.706.316.090.500/C567076|C13.351.875.253.09...              NaN  Disease  "
      ]
     },
     "execution_count": 14,
     "metadata": {},
     "output_type": "execute_result"
    }
   ],
   "source": [
    "dis_nodes = disease_info[['disease_id', 'disease_name', 'tree_numbers', 'alt_disease_ids']]\n",
    "dis_nodes = dis_nodes.rename(columns={'disease_id': 'id', 'disease_name': 'name'})\n",
    "dis_nodes['label'] = 'Disease'\n",
    "\n",
    "dis_nodes.head(5)"
   ]
  },
  {
   "cell_type": "code",
   "execution_count": 15,
   "metadata": {},
   "outputs": [],
   "source": [
    "nodes.append(dis_nodes)"
   ]
  },
  {
   "cell_type": "code",
   "execution_count": 16,
   "metadata": {},
   "outputs": [],
   "source": [
    "dis_p2c_map = pr.get_parent_to_child_map(disease_info, 'parent_ids', 'disease_id')"
   ]
  },
  {
   "cell_type": "code",
   "execution_count": 17,
   "metadata": {
    "scrolled": false
   },
   "outputs": [
    {
     "name": "stdout",
     "output_type": "stream",
     "text": [
      "Parent: Urea Cycle Disorders, Inborn\n",
      "Children:\n",
      "\tNeonatal-onset citrullinemia type 2\n",
      "\tHyperargininemia\n",
      "\tHHH syndrome\n",
      "\t3-methylcrotonyl CoA carboxylase 2 deficiency\n",
      "\tCarbamoyl-Phosphate Synthase I Deficiency Disease\n",
      "\tCTNL1\n",
      "\tOrnithine Carbamoyltransferase Deficiency Disease\n",
      "\tOsteopetrosis with renal tubular acidosis\n",
      "\tCitrulline transport defect\n",
      "\tAdult-onset citrullinemia type 2\n",
      "\tORNITHINE TRANSCARBAMYLASE DEFICIENCY, HYPERAMMONEMIA DUE TO\n",
      "\t3-methylcrotonyl CoA carboxylase 1 deficiency\n",
      "\tN-acetyl glutamate synthetase deficiency\n",
      "\tCitrullinemia\n",
      "\tArgininosuccinic Aciduria\n"
     ]
    }
   ],
   "source": [
    "# IDX 0 == chromoasome deletion with too many children to print nicely\n",
    "test_parent_child(disease_info, dis_nodes, dis_p2c_map, idx=20)"
   ]
  },
  {
   "cell_type": "markdown",
   "metadata": {},
   "source": [
    "### Genes"
   ]
  },
  {
   "cell_type": "code",
   "execution_count": 18,
   "metadata": {},
   "outputs": [
    {
     "data": {
      "text/html": [
       "<div>\n",
       "<style scoped>\n",
       "    .dataframe tbody tr th:only-of-type {\n",
       "        vertical-align: middle;\n",
       "    }\n",
       "\n",
       "    .dataframe tbody tr th {\n",
       "        vertical-align: top;\n",
       "    }\n",
       "\n",
       "    .dataframe thead th {\n",
       "        text-align: right;\n",
       "    }\n",
       "</style>\n",
       "<table border=\"1\" class=\"dataframe\">\n",
       "  <thead>\n",
       "    <tr style=\"text-align: right;\">\n",
       "      <th></th>\n",
       "      <th>gene_symbol</th>\n",
       "      <th>gene_name</th>\n",
       "      <th>gene_id</th>\n",
       "      <th>alt_gene_ids</th>\n",
       "      <th>synonyms</th>\n",
       "      <th>bio_gridids</th>\n",
       "      <th>pharm_gkbids</th>\n",
       "      <th>uni_prot_ids</th>\n",
       "    </tr>\n",
       "  </thead>\n",
       "  <tbody>\n",
       "    <tr>\n",
       "      <th>0</th>\n",
       "      <td>03B03F</td>\n",
       "      <td>DNA segment, 03B03F (Research Genetics)</td>\n",
       "      <td>27777</td>\n",
       "      <td>NaN</td>\n",
       "      <td>NaN</td>\n",
       "      <td>NaN</td>\n",
       "      <td>NaN</td>\n",
       "      <td>NaN</td>\n",
       "    </tr>\n",
       "    <tr>\n",
       "      <th>1</th>\n",
       "      <td>03B03R</td>\n",
       "      <td>DNA segment, 03B03R (Research Genetics)</td>\n",
       "      <td>27778</td>\n",
       "      <td>NaN</td>\n",
       "      <td>NaN</td>\n",
       "      <td>NaN</td>\n",
       "      <td>NaN</td>\n",
       "      <td>NaN</td>\n",
       "    </tr>\n",
       "  </tbody>\n",
       "</table>\n",
       "</div>"
      ],
      "text/plain": [
       "  gene_symbol                                gene_name  gene_id alt_gene_ids  \\\n",
       "0      03B03F  DNA segment, 03B03F (Research Genetics)    27777          NaN   \n",
       "1      03B03R  DNA segment, 03B03R (Research Genetics)    27778          NaN   \n",
       "\n",
       "  synonyms bio_gridids pharm_gkbids uni_prot_ids  \n",
       "0      NaN         NaN          NaN          NaN  \n",
       "1      NaN         NaN          NaN          NaN  "
      ]
     },
     "execution_count": 18,
     "metadata": {},
     "output_type": "execute_result"
    }
   ],
   "source": [
    "gene_info = read_ctd(load_dir.joinpath(id_files.loc['Gene', 'file_name']))\n",
    "gene_info.head(2)"
   ]
  },
  {
   "cell_type": "markdown",
   "metadata": {},
   "source": [
    "Both Gene symbol and Gene ID could be use as identifiers... we also want all the other ids, too.. No parent-child relationships to worry about here."
   ]
  },
  {
   "cell_type": "code",
   "execution_count": 19,
   "metadata": {},
   "outputs": [
    {
     "data": {
      "text/html": [
       "<div>\n",
       "<style scoped>\n",
       "    .dataframe tbody tr th:only-of-type {\n",
       "        vertical-align: middle;\n",
       "    }\n",
       "\n",
       "    .dataframe tbody tr th {\n",
       "        vertical-align: top;\n",
       "    }\n",
       "\n",
       "    .dataframe thead th {\n",
       "        text-align: right;\n",
       "    }\n",
       "</style>\n",
       "<table border=\"1\" class=\"dataframe\">\n",
       "  <thead>\n",
       "    <tr style=\"text-align: right;\">\n",
       "      <th></th>\n",
       "      <th>id</th>\n",
       "      <th>name</th>\n",
       "      <th>gene_symbol</th>\n",
       "      <th>alt_gene_ids</th>\n",
       "      <th>bio_gridids</th>\n",
       "      <th>pharm_gkbids</th>\n",
       "      <th>uni_prot_ids</th>\n",
       "      <th>label</th>\n",
       "    </tr>\n",
       "  </thead>\n",
       "  <tbody>\n",
       "    <tr>\n",
       "      <th>0</th>\n",
       "      <td>27777</td>\n",
       "      <td>DNA segment, 03B03F (Research Genetics)</td>\n",
       "      <td>03B03F</td>\n",
       "      <td>NaN</td>\n",
       "      <td>NaN</td>\n",
       "      <td>NaN</td>\n",
       "      <td>NaN</td>\n",
       "      <td>Gene</td>\n",
       "    </tr>\n",
       "    <tr>\n",
       "      <th>1</th>\n",
       "      <td>27778</td>\n",
       "      <td>DNA segment, 03B03R (Research Genetics)</td>\n",
       "      <td>03B03R</td>\n",
       "      <td>NaN</td>\n",
       "      <td>NaN</td>\n",
       "      <td>NaN</td>\n",
       "      <td>NaN</td>\n",
       "      <td>Gene</td>\n",
       "    </tr>\n",
       "    <tr>\n",
       "      <th>2</th>\n",
       "      <td>53288</td>\n",
       "      <td>DNA segment, 03.MMHAP34FRA.seq</td>\n",
       "      <td>03.MMHAP34FRA.SEQ</td>\n",
       "      <td>NaN</td>\n",
       "      <td>NaN</td>\n",
       "      <td>NaN</td>\n",
       "      <td>NaN</td>\n",
       "      <td>Gene</td>\n",
       "    </tr>\n",
       "    <tr>\n",
       "      <th>3</th>\n",
       "      <td>5658107</td>\n",
       "      <td>NaN</td>\n",
       "      <td>064YA</td>\n",
       "      <td>NaN</td>\n",
       "      <td>NaN</td>\n",
       "      <td>NaN</td>\n",
       "      <td>NaN</td>\n",
       "      <td>Gene</td>\n",
       "    </tr>\n",
       "    <tr>\n",
       "      <th>4</th>\n",
       "      <td>56573</td>\n",
       "      <td>DNA segment, 102g4T7</td>\n",
       "      <td>102G4T7</td>\n",
       "      <td>NaN</td>\n",
       "      <td>NaN</td>\n",
       "      <td>NaN</td>\n",
       "      <td>NaN</td>\n",
       "      <td>Gene</td>\n",
       "    </tr>\n",
       "  </tbody>\n",
       "</table>\n",
       "</div>"
      ],
      "text/plain": [
       "        id                                     name        gene_symbol  \\\n",
       "0    27777  DNA segment, 03B03F (Research Genetics)             03B03F   \n",
       "1    27778  DNA segment, 03B03R (Research Genetics)             03B03R   \n",
       "2    53288           DNA segment, 03.MMHAP34FRA.seq  03.MMHAP34FRA.SEQ   \n",
       "3  5658107                                      NaN              064YA   \n",
       "4    56573                     DNA segment, 102g4T7            102G4T7   \n",
       "\n",
       "  alt_gene_ids bio_gridids pharm_gkbids uni_prot_ids label  \n",
       "0          NaN         NaN          NaN          NaN  Gene  \n",
       "1          NaN         NaN          NaN          NaN  Gene  \n",
       "2          NaN         NaN          NaN          NaN  Gene  \n",
       "3          NaN         NaN          NaN          NaN  Gene  \n",
       "4          NaN         NaN          NaN          NaN  Gene  "
      ]
     },
     "execution_count": 19,
     "metadata": {},
     "output_type": "execute_result"
    }
   ],
   "source": [
    "gene_nodes = gene_info[['gene_id', 'gene_name', 'gene_symbol', 'alt_gene_ids', 'bio_gridids', 'pharm_gkbids', 'uni_prot_ids']]\n",
    "gene_nodes = gene_nodes.rename(columns={'gene_id': 'id', 'gene_name': 'name'})\n",
    "gene_nodes['label'] = 'Gene'\n",
    "\n",
    "gene_nodes.head(5)"
   ]
  },
  {
   "cell_type": "code",
   "execution_count": 20,
   "metadata": {},
   "outputs": [],
   "source": [
    "nodes.append(gene_nodes)"
   ]
  },
  {
   "cell_type": "markdown",
   "metadata": {},
   "source": [
    "### Pathways"
   ]
  },
  {
   "cell_type": "code",
   "execution_count": 21,
   "metadata": {},
   "outputs": [
    {
     "data": {
      "text/html": [
       "<div>\n",
       "<style scoped>\n",
       "    .dataframe tbody tr th:only-of-type {\n",
       "        vertical-align: middle;\n",
       "    }\n",
       "\n",
       "    .dataframe tbody tr th {\n",
       "        vertical-align: top;\n",
       "    }\n",
       "\n",
       "    .dataframe thead th {\n",
       "        text-align: right;\n",
       "    }\n",
       "</style>\n",
       "<table border=\"1\" class=\"dataframe\">\n",
       "  <thead>\n",
       "    <tr style=\"text-align: right;\">\n",
       "      <th></th>\n",
       "      <th>pathway_name</th>\n",
       "      <th>pathway_id</th>\n",
       "    </tr>\n",
       "  </thead>\n",
       "  <tbody>\n",
       "    <tr>\n",
       "      <th>0</th>\n",
       "      <td>2-LTR circle formation</td>\n",
       "      <td>REACT:R-HSA-164843</td>\n",
       "    </tr>\n",
       "    <tr>\n",
       "      <th>1</th>\n",
       "      <td>2-Oxocarboxylic acid metabolism</td>\n",
       "      <td>KEGG:hsa01210</td>\n",
       "    </tr>\n",
       "  </tbody>\n",
       "</table>\n",
       "</div>"
      ],
      "text/plain": [
       "                      pathway_name          pathway_id\n",
       "0           2-LTR circle formation  REACT:R-HSA-164843\n",
       "1  2-Oxocarboxylic acid metabolism       KEGG:hsa01210"
      ]
     },
     "execution_count": 21,
     "metadata": {},
     "output_type": "execute_result"
    }
   ],
   "source": [
    "pathway_info = read_ctd(load_dir.joinpath(id_files.loc['Pathway', 'file_name']))\n",
    "pathway_info.head(2)"
   ]
  },
  {
   "cell_type": "markdown",
   "metadata": {},
   "source": [
    "This is about as simple as it can be, just take ids and names"
   ]
  },
  {
   "cell_type": "code",
   "execution_count": 22,
   "metadata": {},
   "outputs": [
    {
     "data": {
      "text/html": [
       "<div>\n",
       "<style scoped>\n",
       "    .dataframe tbody tr th:only-of-type {\n",
       "        vertical-align: middle;\n",
       "    }\n",
       "\n",
       "    .dataframe tbody tr th {\n",
       "        vertical-align: top;\n",
       "    }\n",
       "\n",
       "    .dataframe thead th {\n",
       "        text-align: right;\n",
       "    }\n",
       "</style>\n",
       "<table border=\"1\" class=\"dataframe\">\n",
       "  <thead>\n",
       "    <tr style=\"text-align: right;\">\n",
       "      <th></th>\n",
       "      <th>id</th>\n",
       "      <th>name</th>\n",
       "      <th>label</th>\n",
       "    </tr>\n",
       "  </thead>\n",
       "  <tbody>\n",
       "    <tr>\n",
       "      <th>0</th>\n",
       "      <td>REACT:R-HSA-164843</td>\n",
       "      <td>2-LTR circle formation</td>\n",
       "      <td>Pathway</td>\n",
       "    </tr>\n",
       "    <tr>\n",
       "      <th>1</th>\n",
       "      <td>KEGG:hsa01210</td>\n",
       "      <td>2-Oxocarboxylic acid metabolism</td>\n",
       "      <td>Pathway</td>\n",
       "    </tr>\n",
       "    <tr>\n",
       "      <th>2</th>\n",
       "      <td>REACT:R-HSA-73843</td>\n",
       "      <td>5-Phosphoribose 1-diphosphate biosynthesis</td>\n",
       "      <td>Pathway</td>\n",
       "    </tr>\n",
       "    <tr>\n",
       "      <th>3</th>\n",
       "      <td>REACT:R-HSA-2161541</td>\n",
       "      <td>Abacavir metabolism</td>\n",
       "      <td>Pathway</td>\n",
       "    </tr>\n",
       "    <tr>\n",
       "      <th>4</th>\n",
       "      <td>REACT:R-HSA-2161517</td>\n",
       "      <td>Abacavir transmembrane transport</td>\n",
       "      <td>Pathway</td>\n",
       "    </tr>\n",
       "  </tbody>\n",
       "</table>\n",
       "</div>"
      ],
      "text/plain": [
       "                    id                                        name    label\n",
       "0   REACT:R-HSA-164843                      2-LTR circle formation  Pathway\n",
       "1        KEGG:hsa01210             2-Oxocarboxylic acid metabolism  Pathway\n",
       "2    REACT:R-HSA-73843  5-Phosphoribose 1-diphosphate biosynthesis  Pathway\n",
       "3  REACT:R-HSA-2161541                         Abacavir metabolism  Pathway\n",
       "4  REACT:R-HSA-2161517            Abacavir transmembrane transport  Pathway"
      ]
     },
     "execution_count": 22,
     "metadata": {},
     "output_type": "execute_result"
    }
   ],
   "source": [
    "pw_nodes = pathway_info[['pathway_id', 'pathway_name']].copy()\n",
    "pw_nodes.columns = [c.split('_')[-1] for c in pw_nodes.columns]\n",
    "pw_nodes['label'] = 'Pathway'\n",
    "\n",
    "pw_nodes.head(5)"
   ]
  },
  {
   "cell_type": "code",
   "execution_count": 23,
   "metadata": {},
   "outputs": [],
   "source": [
    "nodes.append(pw_nodes)"
   ]
  },
  {
   "cell_type": "markdown",
   "metadata": {},
   "source": [
    "## What other nodes do we need info on?"
   ]
  },
  {
   "cell_type": "code",
   "execution_count": 24,
   "metadata": {},
   "outputs": [
    {
     "data": {
      "text/plain": [
       "{'Biological Process',\n",
       " 'Cellular Component',\n",
       " 'GO Term',\n",
       " 'Molecular Function',\n",
       " 'relationships'}"
      ]
     },
     "execution_count": 24,
     "metadata": {},
     "output_type": "execute_result"
    }
   ],
   "source": [
    "set(file_info.query('file_source == \"CTD\"')[['source_type', 'target_type']].stack()) - \\\n",
    "        set([n.loc[0,'label'] for n in nodes])\n"
   ]
  },
  {
   "cell_type": "markdown",
   "metadata": {},
   "source": [
    "All are GO Term related, so best practice to use GO Ontology to sort out relationships"
   ]
  },
  {
   "cell_type": "code",
   "execution_count": 25,
   "metadata": {},
   "outputs": [],
   "source": [
    "import obonet\n",
    "import networkx as nx"
   ]
  },
  {
   "cell_type": "code",
   "execution_count": 26,
   "metadata": {},
   "outputs": [],
   "source": [
    "go_file = file_info.query('file_source == \"go\"').iloc[0,0]\n",
    "go = obonet.read_obo(load_dir.joinpath(go_file))"
   ]
  },
  {
   "cell_type": "code",
   "execution_count": 27,
   "metadata": {},
   "outputs": [
    {
     "data": {
      "text/html": [
       "<div>\n",
       "<style scoped>\n",
       "    .dataframe tbody tr th:only-of-type {\n",
       "        vertical-align: middle;\n",
       "    }\n",
       "\n",
       "    .dataframe tbody tr th {\n",
       "        vertical-align: top;\n",
       "    }\n",
       "\n",
       "    .dataframe thead th {\n",
       "        text-align: right;\n",
       "    }\n",
       "</style>\n",
       "<table border=\"1\" class=\"dataframe\">\n",
       "  <thead>\n",
       "    <tr style=\"text-align: right;\">\n",
       "      <th></th>\n",
       "      <th>id</th>\n",
       "      <th>name</th>\n",
       "      <th>label</th>\n",
       "    </tr>\n",
       "  </thead>\n",
       "  <tbody>\n",
       "    <tr>\n",
       "      <th>0</th>\n",
       "      <td>GO:0000001</td>\n",
       "      <td>mitochondrion inheritance</td>\n",
       "      <td>Biological Process</td>\n",
       "    </tr>\n",
       "    <tr>\n",
       "      <th>1</th>\n",
       "      <td>GO:0000002</td>\n",
       "      <td>mitochondrial genome maintenance</td>\n",
       "      <td>Biological Process</td>\n",
       "    </tr>\n",
       "    <tr>\n",
       "      <th>2</th>\n",
       "      <td>GO:0000003</td>\n",
       "      <td>reproduction</td>\n",
       "      <td>Biological Process</td>\n",
       "    </tr>\n",
       "    <tr>\n",
       "      <th>3</th>\n",
       "      <td>GO:0000006</td>\n",
       "      <td>high-affinity zinc transmembrane transporter a...</td>\n",
       "      <td>Molecular Function</td>\n",
       "    </tr>\n",
       "    <tr>\n",
       "      <th>4</th>\n",
       "      <td>GO:0000007</td>\n",
       "      <td>low-affinity zinc ion transmembrane transporte...</td>\n",
       "      <td>Molecular Function</td>\n",
       "    </tr>\n",
       "  </tbody>\n",
       "</table>\n",
       "</div>"
      ],
      "text/plain": [
       "           id                                               name  \\\n",
       "0  GO:0000001                          mitochondrion inheritance   \n",
       "1  GO:0000002                   mitochondrial genome maintenance   \n",
       "2  GO:0000003                                       reproduction   \n",
       "3  GO:0000006  high-affinity zinc transmembrane transporter a...   \n",
       "4  GO:0000007  low-affinity zinc ion transmembrane transporte...   \n",
       "\n",
       "                label  \n",
       "0  Biological Process  \n",
       "1  Biological Process  \n",
       "2  Biological Process  \n",
       "3  Molecular Function  \n",
       "4  Molecular Function  "
      ]
     },
     "execution_count": 27,
     "metadata": {},
     "output_type": "execute_result"
    }
   ],
   "source": [
    "go_nodes = dict()\n",
    "go_nodes['id'] = [g for g in go]\n",
    "go_nodes['name'] = [info['name'] for nid, info in go.nodes(data=True)]\n",
    "go_nodes['label'] = [info['namespace'] for nid, info in go.nodes(data=True)]\n",
    "\n",
    "go_nodes = pd.DataFrame(go_nodes)\n",
    "go_nodes['label'] = go_nodes['label'].str.replace('_', ' ').str.title()\n",
    "go_nodes.head(5)"
   ]
  },
  {
   "cell_type": "code",
   "execution_count": 28,
   "metadata": {},
   "outputs": [],
   "source": [
    "nodes.append(go_nodes)"
   ]
  },
  {
   "cell_type": "code",
   "execution_count": 29,
   "metadata": {},
   "outputs": [],
   "source": [
    "# Networkx makes this mapping easy\n",
    "go_p2c_map = {g: nx.ancestors(go, g) for g in go_nodes['id']}"
   ]
  },
  {
   "cell_type": "code",
   "execution_count": 30,
   "metadata": {},
   "outputs": [
    {
     "name": "stdout",
     "output_type": "stream",
     "text": [
      "Parent: acidic amino acid transport\n",
      "Children:\n",
      "\tnegative regulation of glutamate secretion, neurotransmission\n",
      "\taspartate secretion, neurotransmission\n",
      "\tnegative regulation of glutamate uptake involved in transmission of nerve impulse\n",
      "\tregulation of aspartate secretion\n",
      "\tglutamate transmembrane import into vacuole\n",
      "\tL-glutamate import involved in cellular response to nitrogen starvation\n",
      "\tgamma-aminobutyric acid import\n",
      "\tregulation of glutamate uptake involved in transmission of nerve impulse\n",
      "\tL-glutamate transmembrane transport\n",
      "\tpositive regulation of glutamate uptake involved in transmission of nerve impulse\n",
      "\tpositive regulation of glutamate secretion\n",
      "\tpositive regulation of glutamate neurotransmitter secretion in response to membrane depolarization\n",
      "\tpositive regulation of glutamate secretion, neurotransmission\n",
      "\tpositive regulation of aspartate secretion\n",
      "\tglutamate secretion, neurotransmission\n",
      "\tpositive regulation of L-glutamate import across plasma membrane\n",
      "\tL-glutamate import\n",
      "\taspartate secretion\n",
      "\tglutamate secretion\n",
      "\tglutamate reuptake\n",
      "\tL-glutamate transmembrane import into vacuole\n",
      "\tregulation of L-glutamate import across plasma membrane\n",
      "\tnegative regulation of L-glutamate import across plasma membrane\n",
      "\tnegative regulation of aspartate secretion\n",
      "\tL-glutamate import across plasma membrane\n",
      "\tnegative regulation of glutamate secretion\n",
      "\tregulation of glutamate secretion, neurotransmission\n",
      "\taspartate transmembrane transport\n",
      "\tregulation of glutamate secretion\n"
     ]
    }
   ],
   "source": [
    "test_parent_child('GO:0015800', go_nodes, go_p2c_map)"
   ]
  },
  {
   "cell_type": "code",
   "execution_count": 31,
   "metadata": {},
   "outputs": [
    {
     "data": {
      "text/plain": [
       "747662"
      ]
     },
     "execution_count": 31,
     "metadata": {},
     "output_type": "execute_result"
    }
   ],
   "source": [
    "nodes = pd.concat(nodes, sort=False, ignore_index=True)\n",
    "len(nodes)"
   ]
  },
  {
   "cell_type": "code",
   "execution_count": 32,
   "metadata": {},
   "outputs": [],
   "source": [
    "nodes = nodes[sorted(nodes.columns, key=lambda x: x not in ['id', 'name', 'label'])]"
   ]
  },
  {
   "cell_type": "code",
   "execution_count": 33,
   "metadata": {},
   "outputs": [
    {
     "data": {
      "text/plain": [
       "(747662, 11)"
      ]
     },
     "execution_count": 33,
     "metadata": {},
     "output_type": "execute_result"
    }
   ],
   "source": [
    "nodes.shape"
   ]
  },
  {
   "cell_type": "markdown",
   "metadata": {},
   "source": [
    "# Edges"
   ]
  },
  {
   "cell_type": "markdown",
   "metadata": {},
   "source": [
    "Need some info about certain types of relationships in this netowrk"
   ]
  },
  {
   "cell_type": "code",
   "execution_count": 34,
   "metadata": {},
   "outputs": [],
   "source": [
    "edges = list()"
   ]
  },
  {
   "cell_type": "code",
   "execution_count": 35,
   "metadata": {},
   "outputs": [],
   "source": [
    "rel_info = read_ctd(load_dir.joinpath(id_files.loc['relationships', 'file_name']))"
   ]
  },
  {
   "cell_type": "code",
   "execution_count": 36,
   "metadata": {},
   "outputs": [],
   "source": [
    "ixn_map_to_par = pr.make_child_to_root_map(rel_info, 'parent_code', 'code', sep='|')\n",
    "ixn_map_to_par_full = pr.convert_abbrev_mapper_to_full(ixn_map_to_par, rel_info, 'code', 'type_name')"
   ]
  },
  {
   "cell_type": "code",
   "execution_count": 37,
   "metadata": {},
   "outputs": [],
   "source": [
    "e_files = file_info.query('file_source == \"CTD\" and file_type == \"edges\"')['file_name'].tolist()"
   ]
  },
  {
   "cell_type": "code",
   "execution_count": 38,
   "metadata": {},
   "outputs": [
    {
     "name": "stdout",
     "output_type": "stream",
     "text": [
      "CTD_chem_gene_ixns.csv.gz\n"
     ]
    }
   ],
   "source": [
    "print(e_files[0])"
   ]
  },
  {
   "cell_type": "markdown",
   "metadata": {},
   "source": [
    "### Chem to Genes"
   ]
  },
  {
   "cell_type": "code",
   "execution_count": 39,
   "metadata": {},
   "outputs": [
    {
     "data": {
      "text/html": [
       "<div>\n",
       "<style scoped>\n",
       "    .dataframe tbody tr th:only-of-type {\n",
       "        vertical-align: middle;\n",
       "    }\n",
       "\n",
       "    .dataframe tbody tr th {\n",
       "        vertical-align: top;\n",
       "    }\n",
       "\n",
       "    .dataframe thead th {\n",
       "        text-align: right;\n",
       "    }\n",
       "</style>\n",
       "<table border=\"1\" class=\"dataframe\">\n",
       "  <thead>\n",
       "    <tr style=\"text-align: right;\">\n",
       "      <th></th>\n",
       "      <th>chemical_name</th>\n",
       "      <th>chemical_id</th>\n",
       "      <th>cas_rn</th>\n",
       "      <th>gene_symbol</th>\n",
       "      <th>gene_id</th>\n",
       "      <th>gene_forms</th>\n",
       "      <th>organism</th>\n",
       "      <th>organism_id</th>\n",
       "      <th>interaction</th>\n",
       "      <th>interaction_actions</th>\n",
       "      <th>pub_med_ids</th>\n",
       "    </tr>\n",
       "  </thead>\n",
       "  <tbody>\n",
       "    <tr>\n",
       "      <th>0</th>\n",
       "      <td>10074-G5</td>\n",
       "      <td>C534883</td>\n",
       "      <td>NaN</td>\n",
       "      <td>MAX</td>\n",
       "      <td>4149</td>\n",
       "      <td>protein</td>\n",
       "      <td>NaN</td>\n",
       "      <td>NaN</td>\n",
       "      <td>10074-G5 affects the folding of and results in...</td>\n",
       "      <td>affects^binding|affects^folding|decreases^acti...</td>\n",
       "      <td>26474287</td>\n",
       "    </tr>\n",
       "    <tr>\n",
       "      <th>1</th>\n",
       "      <td>10074-G5</td>\n",
       "      <td>C534883</td>\n",
       "      <td>NaN</td>\n",
       "      <td>MAX</td>\n",
       "      <td>4149</td>\n",
       "      <td>protein</td>\n",
       "      <td>NaN</td>\n",
       "      <td>NaN</td>\n",
       "      <td>10074-G5 inhibits the reaction [MYC protein bi...</td>\n",
       "      <td>affects^binding|decreases^reaction</td>\n",
       "      <td>26474287</td>\n",
       "    </tr>\n",
       "  </tbody>\n",
       "</table>\n",
       "</div>"
      ],
      "text/plain": [
       "  chemical_name chemical_id cas_rn gene_symbol  gene_id gene_forms organism  \\\n",
       "0      10074-G5     C534883    NaN         MAX     4149    protein      NaN   \n",
       "1      10074-G5     C534883    NaN         MAX     4149    protein      NaN   \n",
       "\n",
       "   organism_id                                        interaction  \\\n",
       "0          NaN  10074-G5 affects the folding of and results in...   \n",
       "1          NaN  10074-G5 inhibits the reaction [MYC protein bi...   \n",
       "\n",
       "                                 interaction_actions pub_med_ids  \n",
       "0  affects^binding|affects^folding|decreases^acti...    26474287  \n",
       "1                 affects^binding|decreases^reaction    26474287  "
      ]
     },
     "execution_count": 39,
     "metadata": {},
     "output_type": "execute_result"
    }
   ],
   "source": [
    "chem_gene = read_ctd(load_dir.joinpath(e_files[0]))\n",
    "chem_gene.head(2)"
   ]
  },
  {
   "cell_type": "markdown",
   "metadata": {},
   "source": [
    "interaction_actions are pipe, separated... We want those that are unique on their own line. However, the interactions used are a bit too granular, so we also want to map to thier parents.  Finally, we want to keep all PMIDs and organism ids for each interaction for potnetial future use."
   ]
  },
  {
   "cell_type": "code",
   "execution_count": 40,
   "metadata": {},
   "outputs": [
    {
     "data": {
      "text/html": [
       "<div>\n",
       "<style scoped>\n",
       "    .dataframe tbody tr th:only-of-type {\n",
       "        vertical-align: middle;\n",
       "    }\n",
       "\n",
       "    .dataframe tbody tr th {\n",
       "        vertical-align: top;\n",
       "    }\n",
       "\n",
       "    .dataframe thead th {\n",
       "        text-align: right;\n",
       "    }\n",
       "</style>\n",
       "<table border=\"1\" class=\"dataframe\">\n",
       "  <thead>\n",
       "    <tr style=\"text-align: right;\">\n",
       "      <th></th>\n",
       "      <th>chemical_name</th>\n",
       "      <th>chemical_id</th>\n",
       "      <th>cas_rn</th>\n",
       "      <th>gene_symbol</th>\n",
       "      <th>gene_id</th>\n",
       "      <th>gene_forms</th>\n",
       "      <th>organism</th>\n",
       "      <th>organism_id</th>\n",
       "      <th>interaction</th>\n",
       "      <th>interaction_actions</th>\n",
       "      <th>pub_med_ids</th>\n",
       "    </tr>\n",
       "  </thead>\n",
       "  <tbody>\n",
       "    <tr>\n",
       "      <th>0</th>\n",
       "      <td>10074-G5</td>\n",
       "      <td>C534883</td>\n",
       "      <td>NaN</td>\n",
       "      <td>MAX</td>\n",
       "      <td>4149</td>\n",
       "      <td>protein</td>\n",
       "      <td>NaN</td>\n",
       "      <td>NaN</td>\n",
       "      <td>10074-G5 affects the folding of and results in...</td>\n",
       "      <td>affects^binding</td>\n",
       "      <td>26474287</td>\n",
       "    </tr>\n",
       "    <tr>\n",
       "      <th>1</th>\n",
       "      <td>10074-G5</td>\n",
       "      <td>C534883</td>\n",
       "      <td>NaN</td>\n",
       "      <td>MAX</td>\n",
       "      <td>4149</td>\n",
       "      <td>protein</td>\n",
       "      <td>NaN</td>\n",
       "      <td>NaN</td>\n",
       "      <td>10074-G5 affects the folding of and results in...</td>\n",
       "      <td>affects^folding</td>\n",
       "      <td>26474287</td>\n",
       "    </tr>\n",
       "    <tr>\n",
       "      <th>2</th>\n",
       "      <td>10074-G5</td>\n",
       "      <td>C534883</td>\n",
       "      <td>NaN</td>\n",
       "      <td>MAX</td>\n",
       "      <td>4149</td>\n",
       "      <td>protein</td>\n",
       "      <td>NaN</td>\n",
       "      <td>NaN</td>\n",
       "      <td>10074-G5 affects the folding of and results in...</td>\n",
       "      <td>decreases^activity</td>\n",
       "      <td>26474287</td>\n",
       "    </tr>\n",
       "    <tr>\n",
       "      <th>3</th>\n",
       "      <td>10074-G5</td>\n",
       "      <td>C534883</td>\n",
       "      <td>NaN</td>\n",
       "      <td>MAX</td>\n",
       "      <td>4149</td>\n",
       "      <td>protein</td>\n",
       "      <td>NaN</td>\n",
       "      <td>NaN</td>\n",
       "      <td>10074-G5 inhibits the reaction [MYC protein bi...</td>\n",
       "      <td>affects^binding</td>\n",
       "      <td>26474287</td>\n",
       "    </tr>\n",
       "    <tr>\n",
       "      <th>4</th>\n",
       "      <td>10074-G5</td>\n",
       "      <td>C534883</td>\n",
       "      <td>NaN</td>\n",
       "      <td>MAX</td>\n",
       "      <td>4149</td>\n",
       "      <td>protein</td>\n",
       "      <td>NaN</td>\n",
       "      <td>NaN</td>\n",
       "      <td>10074-G5 inhibits the reaction [MYC protein bi...</td>\n",
       "      <td>decreases^reaction</td>\n",
       "      <td>26474287</td>\n",
       "    </tr>\n",
       "  </tbody>\n",
       "</table>\n",
       "</div>"
      ],
      "text/plain": [
       "  chemical_name chemical_id cas_rn gene_symbol  gene_id gene_forms organism  \\\n",
       "0      10074-G5     C534883    NaN         MAX     4149    protein      NaN   \n",
       "1      10074-G5     C534883    NaN         MAX     4149    protein      NaN   \n",
       "2      10074-G5     C534883    NaN         MAX     4149    protein      NaN   \n",
       "3      10074-G5     C534883    NaN         MAX     4149    protein      NaN   \n",
       "4      10074-G5     C534883    NaN         MAX     4149    protein      NaN   \n",
       "\n",
       "   organism_id                                        interaction  \\\n",
       "0          NaN  10074-G5 affects the folding of and results in...   \n",
       "1          NaN  10074-G5 affects the folding of and results in...   \n",
       "2          NaN  10074-G5 affects the folding of and results in...   \n",
       "3          NaN  10074-G5 inhibits the reaction [MYC protein bi...   \n",
       "4          NaN  10074-G5 inhibits the reaction [MYC protein bi...   \n",
       "\n",
       "  interaction_actions pub_med_ids  \n",
       "0     affects^binding    26474287  \n",
       "1     affects^folding    26474287  \n",
       "2  decreases^activity    26474287  \n",
       "3     affects^binding    26474287  \n",
       "4  decreases^reaction    26474287  "
      ]
     },
     "execution_count": 40,
     "metadata": {},
     "output_type": "execute_result"
    }
   ],
   "source": [
    "chem_gene = pr.expand_col_on_char(chem_gene, 'interaction_actions', '|')\n",
    "chem_gene.head(5)"
   ]
  },
  {
   "cell_type": "code",
   "execution_count": 41,
   "metadata": {},
   "outputs": [
    {
     "data": {
      "text/plain": [
       "array(['affects', 'decreases', 'increases'], dtype=object)"
      ]
     },
     "execution_count": 41,
     "metadata": {},
     "output_type": "execute_result"
    }
   ],
   "source": [
    "ixn_dirs = chem_gene['interaction_actions'].str.split('^', expand=True)[0].unique()\n",
    "ixn_dirs"
   ]
  },
  {
   "cell_type": "code",
   "execution_count": 42,
   "metadata": {},
   "outputs": [],
   "source": [
    "directed_ixn_map_to_par_full = pr.prepend_direction_to_map(ixn_map_to_par_full, ixn_dirs, '^')"
   ]
  },
  {
   "cell_type": "code",
   "execution_count": 43,
   "metadata": {},
   "outputs": [
    {
     "data": {
      "text/html": [
       "<div>\n",
       "<style scoped>\n",
       "    .dataframe tbody tr th:only-of-type {\n",
       "        vertical-align: middle;\n",
       "    }\n",
       "\n",
       "    .dataframe tbody tr th {\n",
       "        vertical-align: top;\n",
       "    }\n",
       "\n",
       "    .dataframe thead th {\n",
       "        text-align: right;\n",
       "    }\n",
       "</style>\n",
       "<table border=\"1\" class=\"dataframe\">\n",
       "  <thead>\n",
       "    <tr style=\"text-align: right;\">\n",
       "      <th></th>\n",
       "      <th>chemical_name</th>\n",
       "      <th>chemical_id</th>\n",
       "      <th>cas_rn</th>\n",
       "      <th>gene_symbol</th>\n",
       "      <th>gene_id</th>\n",
       "      <th>gene_forms</th>\n",
       "      <th>organism</th>\n",
       "      <th>organism_id</th>\n",
       "      <th>interaction</th>\n",
       "      <th>interaction_actions</th>\n",
       "      <th>pub_med_ids</th>\n",
       "      <th>parent_ixn</th>\n",
       "    </tr>\n",
       "  </thead>\n",
       "  <tbody>\n",
       "    <tr>\n",
       "      <th>0</th>\n",
       "      <td>10074-G5</td>\n",
       "      <td>C534883</td>\n",
       "      <td>NaN</td>\n",
       "      <td>MAX</td>\n",
       "      <td>4149</td>\n",
       "      <td>protein</td>\n",
       "      <td>NaN</td>\n",
       "      <td>NaN</td>\n",
       "      <td>10074-G5 affects the folding of and results in...</td>\n",
       "      <td>affects^binding</td>\n",
       "      <td>26474287</td>\n",
       "      <td>affects^binding</td>\n",
       "    </tr>\n",
       "    <tr>\n",
       "      <th>1</th>\n",
       "      <td>10074-G5</td>\n",
       "      <td>C534883</td>\n",
       "      <td>NaN</td>\n",
       "      <td>MAX</td>\n",
       "      <td>4149</td>\n",
       "      <td>protein</td>\n",
       "      <td>NaN</td>\n",
       "      <td>NaN</td>\n",
       "      <td>10074-G5 affects the folding of and results in...</td>\n",
       "      <td>affects^folding</td>\n",
       "      <td>26474287</td>\n",
       "      <td>affects^folding</td>\n",
       "    </tr>\n",
       "    <tr>\n",
       "      <th>2</th>\n",
       "      <td>10074-G5</td>\n",
       "      <td>C534883</td>\n",
       "      <td>NaN</td>\n",
       "      <td>MAX</td>\n",
       "      <td>4149</td>\n",
       "      <td>protein</td>\n",
       "      <td>NaN</td>\n",
       "      <td>NaN</td>\n",
       "      <td>10074-G5 affects the folding of and results in...</td>\n",
       "      <td>decreases^activity</td>\n",
       "      <td>26474287</td>\n",
       "      <td>decreases^activity</td>\n",
       "    </tr>\n",
       "    <tr>\n",
       "      <th>3</th>\n",
       "      <td>10074-G5</td>\n",
       "      <td>C534883</td>\n",
       "      <td>NaN</td>\n",
       "      <td>MAX</td>\n",
       "      <td>4149</td>\n",
       "      <td>protein</td>\n",
       "      <td>NaN</td>\n",
       "      <td>NaN</td>\n",
       "      <td>10074-G5 inhibits the reaction [MYC protein bi...</td>\n",
       "      <td>affects^binding</td>\n",
       "      <td>26474287</td>\n",
       "      <td>affects^binding</td>\n",
       "    </tr>\n",
       "    <tr>\n",
       "      <th>4</th>\n",
       "      <td>10074-G5</td>\n",
       "      <td>C534883</td>\n",
       "      <td>NaN</td>\n",
       "      <td>MAX</td>\n",
       "      <td>4149</td>\n",
       "      <td>protein</td>\n",
       "      <td>NaN</td>\n",
       "      <td>NaN</td>\n",
       "      <td>10074-G5 inhibits the reaction [MYC protein bi...</td>\n",
       "      <td>decreases^reaction</td>\n",
       "      <td>26474287</td>\n",
       "      <td>decreases^reaction</td>\n",
       "    </tr>\n",
       "  </tbody>\n",
       "</table>\n",
       "</div>"
      ],
      "text/plain": [
       "  chemical_name chemical_id cas_rn gene_symbol  gene_id gene_forms organism  \\\n",
       "0      10074-G5     C534883    NaN         MAX     4149    protein      NaN   \n",
       "1      10074-G5     C534883    NaN         MAX     4149    protein      NaN   \n",
       "2      10074-G5     C534883    NaN         MAX     4149    protein      NaN   \n",
       "3      10074-G5     C534883    NaN         MAX     4149    protein      NaN   \n",
       "4      10074-G5     C534883    NaN         MAX     4149    protein      NaN   \n",
       "\n",
       "   organism_id                                        interaction  \\\n",
       "0          NaN  10074-G5 affects the folding of and results in...   \n",
       "1          NaN  10074-G5 affects the folding of and results in...   \n",
       "2          NaN  10074-G5 affects the folding of and results in...   \n",
       "3          NaN  10074-G5 inhibits the reaction [MYC protein bi...   \n",
       "4          NaN  10074-G5 inhibits the reaction [MYC protein bi...   \n",
       "\n",
       "  interaction_actions pub_med_ids          parent_ixn  \n",
       "0     affects^binding    26474287     affects^binding  \n",
       "1     affects^folding    26474287     affects^folding  \n",
       "2  decreases^activity    26474287  decreases^activity  \n",
       "3     affects^binding    26474287     affects^binding  \n",
       "4  decreases^reaction    26474287  decreases^reaction  "
      ]
     },
     "execution_count": 43,
     "metadata": {},
     "output_type": "execute_result"
    }
   ],
   "source": [
    "chem_gene['parent_ixn'] = chem_gene['interaction_actions'].map(directed_ixn_map_to_par_full)\n",
    "chem_gene.head(5)"
   ]
  },
  {
   "cell_type": "code",
   "execution_count": 44,
   "metadata": {},
   "outputs": [],
   "source": [
    "# Fix typing on organism IDs as they will be floats...\n",
    "idx = chem_gene.dropna(subset=['organism_id']).index\n",
    "chem_gene.loc[idx, 'organism_id'] = chem_gene.loc[idx, 'organism_id'].apply(lambda s: str(int(s)))"
   ]
  },
  {
   "cell_type": "code",
   "execution_count": 45,
   "metadata": {},
   "outputs": [
    {
     "name": "stdout",
     "output_type": "stream",
     "text": [
      "CPU times: user 7min 18s, sys: 1.86 s, total: 7min 19s\n",
      "Wall time: 7min 15s\n"
     ]
    }
   ],
   "source": [
    "%%time\n",
    "chem_gene = pr.combine_group_rows_on_char(chem_gene, ['chemical_id', 'gene_id', 'parent_ixn'],\n",
    "                                          ['pub_med_ids', 'organism_id'])"
   ]
  },
  {
   "cell_type": "code",
   "execution_count": 46,
   "metadata": {},
   "outputs": [],
   "source": [
    "cg_edges = chem_gene[['chemical_id', 'gene_id', 'parent_ixn', 'pub_med_ids', 'organism_id']]\n",
    "cg_edges = cg_edges.rename(columns={'chemical_id': 'start_id', 'gene_id': 'end_id'})"
   ]
  },
  {
   "cell_type": "code",
   "execution_count": 47,
   "metadata": {},
   "outputs": [
    {
     "data": {
      "text/plain": [
       "increases^expression               479825\n",
       "decreases^expression               410983\n",
       "affects^cotreatment                184777\n",
       "affects^expression                 137093\n",
       "decreases^reaction                  95223\n",
       "increases^metabolic processing      66522\n",
       "affects^binding                     36161\n",
       "increases^reaction                  30886\n",
       "increases^activity                  29001\n",
       "decreases^metabolic processing      28742\n",
       "decreases^activity                  21926\n",
       "affects^reaction                    17713\n",
       "affects^metabolic processing        16070\n",
       "increases^transport                 12559\n",
       "affects^response to substance       12279\n",
       "increases^response to substance      7964\n",
       "decreases^response to substance      6965\n",
       "increases^abundance                  6253\n",
       "affects^localization                 5965\n",
       "decreases^transport                  2632\n",
       "affects^activity                     2382\n",
       "affects^transport                    1700\n",
       "increases^mutagenesis                1529\n",
       "decreases^abundance                  1464\n",
       "affects^splicing                     1238\n",
       "affects^abundance                    1137\n",
       "increases^localization               1114\n",
       "increases^stability                   510\n",
       "affects^folding                       434\n",
       "decreases^localization                271\n",
       "decreases^stability                   141\n",
       "increases^splicing                    114\n",
       "decreases^folding                      25\n",
       "affects^stability                      21\n",
       "affects^mutagenesis                    19\n",
       "increases^folding                      10\n",
       "decreases^splicing                      9\n",
       "decreases^mutagenesis                   6\n",
       "Name: parent_ixn, dtype: int64"
      ]
     },
     "execution_count": 47,
     "metadata": {},
     "output_type": "execute_result"
    }
   ],
   "source": [
    "cg_edges['parent_ixn'].value_counts()"
   ]
  },
  {
   "cell_type": "markdown",
   "metadata": {},
   "source": [
    "Lots of different things here, but basically all we care about is +, -, and general association in terms of activity... for now we will keep a distinction between expression and activity, but these may be merged later."
   ]
  },
  {
   "cell_type": "code",
   "execution_count": 48,
   "metadata": {},
   "outputs": [],
   "source": [
    "keep_ixns = [direction+'^expression' for direction in ixn_dirs]\n",
    "keep_ixns += [direction+'^activity' for direction in ixn_dirs]"
   ]
  },
  {
   "cell_type": "code",
   "execution_count": 49,
   "metadata": {},
   "outputs": [
    {
     "data": {
      "text/html": [
       "<div>\n",
       "<style scoped>\n",
       "    .dataframe tbody tr th:only-of-type {\n",
       "        vertical-align: middle;\n",
       "    }\n",
       "\n",
       "    .dataframe tbody tr th {\n",
       "        vertical-align: top;\n",
       "    }\n",
       "\n",
       "    .dataframe thead th {\n",
       "        text-align: right;\n",
       "    }\n",
       "</style>\n",
       "<table border=\"1\" class=\"dataframe\">\n",
       "  <thead>\n",
       "    <tr style=\"text-align: right;\">\n",
       "      <th></th>\n",
       "      <th>start_id</th>\n",
       "      <th>end_id</th>\n",
       "      <th>parent_ixn</th>\n",
       "      <th>pub_med_ids</th>\n",
       "      <th>organism_id</th>\n",
       "      <th>abbv</th>\n",
       "      <th>type</th>\n",
       "    </tr>\n",
       "  </thead>\n",
       "  <tbody>\n",
       "    <tr>\n",
       "      <th>3</th>\n",
       "      <td>MESH:C000121</td>\n",
       "      <td>4313</td>\n",
       "      <td>decreases^activity</td>\n",
       "      <td>25899827</td>\n",
       "      <td>9606</td>\n",
       "      <td>CdaG</td>\n",
       "      <td>decreases_activity_CdaG</td>\n",
       "    </tr>\n",
       "    <tr>\n",
       "      <th>4</th>\n",
       "      <td>MESH:C000121</td>\n",
       "      <td>4313</td>\n",
       "      <td>decreases^expression</td>\n",
       "      <td>25899827</td>\n",
       "      <td>9606</td>\n",
       "      <td>CdeG</td>\n",
       "      <td>decreases_expression_CdeG</td>\n",
       "    </tr>\n",
       "    <tr>\n",
       "      <th>5</th>\n",
       "      <td>MESH:C000121</td>\n",
       "      <td>4318</td>\n",
       "      <td>decreases^activity</td>\n",
       "      <td>25899827</td>\n",
       "      <td>9606</td>\n",
       "      <td>CdaG</td>\n",
       "      <td>decreases_activity_CdaG</td>\n",
       "    </tr>\n",
       "    <tr>\n",
       "      <th>6</th>\n",
       "      <td>MESH:C000121</td>\n",
       "      <td>4318</td>\n",
       "      <td>decreases^expression</td>\n",
       "      <td>25899827</td>\n",
       "      <td>9606</td>\n",
       "      <td>CdeG</td>\n",
       "      <td>decreases_expression_CdeG</td>\n",
       "    </tr>\n",
       "    <tr>\n",
       "      <th>8</th>\n",
       "      <td>MESH:C000152</td>\n",
       "      <td>367</td>\n",
       "      <td>decreases^activity</td>\n",
       "      <td>11118046</td>\n",
       "      <td>9606</td>\n",
       "      <td>CdaG</td>\n",
       "      <td>decreases_activity_CdaG</td>\n",
       "    </tr>\n",
       "  </tbody>\n",
       "</table>\n",
       "</div>"
      ],
      "text/plain": [
       "       start_id  end_id            parent_ixn pub_med_ids organism_id  abbv  \\\n",
       "3  MESH:C000121    4313    decreases^activity    25899827        9606  CdaG   \n",
       "4  MESH:C000121    4313  decreases^expression    25899827        9606  CdeG   \n",
       "5  MESH:C000121    4318    decreases^activity    25899827        9606  CdaG   \n",
       "6  MESH:C000121    4318  decreases^expression    25899827        9606  CdeG   \n",
       "8  MESH:C000152     367    decreases^activity    11118046        9606  CdaG   \n",
       "\n",
       "                        type  \n",
       "3    decreases_activity_CdaG  \n",
       "4  decreases_expression_CdeG  \n",
       "5    decreases_activity_CdaG  \n",
       "6  decreases_expression_CdeG  \n",
       "8    decreases_activity_CdaG  "
      ]
     },
     "execution_count": 49,
     "metadata": {},
     "output_type": "execute_result"
    }
   ],
   "source": [
    "cg_edges = cg_edges.query('parent_ixn in @keep_ixns')\n",
    "\n",
    "cg_edges['abbv'] = 'C' + cg_edges['parent_ixn'].apply(lambda i: ''.join([s[0] for s in i.split('^')])) + 'G'\n",
    "cg_edges['type'] = cg_edges['parent_ixn'].str.replace('^', '_') + '_' + cg_edges['abbv']\n",
    "cg_edges['start_id'] = 'MESH:' + cg_edges['start_id']\n",
    "\n",
    "cg_edges.head(5)"
   ]
  },
  {
   "cell_type": "code",
   "execution_count": 50,
   "metadata": {},
   "outputs": [],
   "source": [
    "edges.append(cg_edges)"
   ]
  },
  {
   "cell_type": "code",
   "execution_count": 51,
   "metadata": {
    "scrolled": true
   },
   "outputs": [
    {
     "data": {
      "text/plain": [
       "1081210"
      ]
     },
     "execution_count": 51,
     "metadata": {},
     "output_type": "execute_result"
    }
   ],
   "source": [
    "len(cg_edges)"
   ]
  },
  {
   "cell_type": "markdown",
   "metadata": {},
   "source": [
    "    from itertools import chain\n",
    "\n",
    "    comp_p2c_df = pd.DataFrame({'parent_id': list(chain(*[[k]*len(v) for k, v in comp_p2c.items()])), \n",
    "                                    'child_id': list(chain(*[v for k, v in comp_p2c.items()])) })\n",
    "\n",
    "    cg_expand = cg_edges.copy()\n",
    "    cg_expand = cg_expand.merge(comp_p2c_df, how='inner', left_on='start_id', right_on='parent_id')\n",
    "\n",
    "    cg_expand['start_id'] = cg_expand['child_id']\n",
    "    cg_expand = cg_expand.drop(['parent_id', 'child_id'], axis=1)\n",
    "\n",
    "    cg_expand = pd.concat([cg_edges, cg_expand])\n"
   ]
  },
  {
   "cell_type": "code",
   "execution_count": 52,
   "metadata": {},
   "outputs": [],
   "source": [
    "cg_edges['source'] = 'CTD'\n",
    "cg_edges['evidence'] = 'curated'"
   ]
  },
  {
   "cell_type": "code",
   "execution_count": 53,
   "metadata": {},
   "outputs": [
    {
     "name": "stdout",
     "output_type": "stream",
     "text": [
      "CTD_chemicals_diseases.csv.gz\n"
     ]
    }
   ],
   "source": [
    "print(e_files[1])"
   ]
  },
  {
   "cell_type": "markdown",
   "metadata": {},
   "source": [
    "### Chem to Disease"
   ]
  },
  {
   "cell_type": "code",
   "execution_count": 54,
   "metadata": {},
   "outputs": [
    {
     "data": {
      "text/html": [
       "<div>\n",
       "<style scoped>\n",
       "    .dataframe tbody tr th:only-of-type {\n",
       "        vertical-align: middle;\n",
       "    }\n",
       "\n",
       "    .dataframe tbody tr th {\n",
       "        vertical-align: top;\n",
       "    }\n",
       "\n",
       "    .dataframe thead th {\n",
       "        text-align: right;\n",
       "    }\n",
       "</style>\n",
       "<table border=\"1\" class=\"dataframe\">\n",
       "  <thead>\n",
       "    <tr style=\"text-align: right;\">\n",
       "      <th></th>\n",
       "      <th>chemical_name</th>\n",
       "      <th>chemical_id</th>\n",
       "      <th>cas_rn</th>\n",
       "      <th>disease_name</th>\n",
       "      <th>disease_id</th>\n",
       "      <th>direct_evidence</th>\n",
       "      <th>inference_gene_symbol</th>\n",
       "      <th>inference_score</th>\n",
       "      <th>omim_ids</th>\n",
       "      <th>pub_med_ids</th>\n",
       "    </tr>\n",
       "  </thead>\n",
       "  <tbody>\n",
       "    <tr>\n",
       "      <th>0</th>\n",
       "      <td>06-Paris-LA-66 protocol</td>\n",
       "      <td>C046983</td>\n",
       "      <td>NaN</td>\n",
       "      <td>Precursor Cell Lymphoblastic Leukemia-Lymphoma</td>\n",
       "      <td>MESH:D054198</td>\n",
       "      <td>therapeutic</td>\n",
       "      <td>NaN</td>\n",
       "      <td>NaN</td>\n",
       "      <td>NaN</td>\n",
       "      <td>4519131</td>\n",
       "    </tr>\n",
       "    <tr>\n",
       "      <th>1</th>\n",
       "      <td>10074-G5</td>\n",
       "      <td>C534883</td>\n",
       "      <td>NaN</td>\n",
       "      <td>Adenocarcinoma</td>\n",
       "      <td>MESH:D000230</td>\n",
       "      <td>NaN</td>\n",
       "      <td>MYC</td>\n",
       "      <td>4.4</td>\n",
       "      <td>NaN</td>\n",
       "      <td>26432044</td>\n",
       "    </tr>\n",
       "  </tbody>\n",
       "</table>\n",
       "</div>"
      ],
      "text/plain": [
       "             chemical_name chemical_id cas_rn  \\\n",
       "0  06-Paris-LA-66 protocol     C046983    NaN   \n",
       "1                 10074-G5     C534883    NaN   \n",
       "\n",
       "                                     disease_name    disease_id  \\\n",
       "0  Precursor Cell Lymphoblastic Leukemia-Lymphoma  MESH:D054198   \n",
       "1                                  Adenocarcinoma  MESH:D000230   \n",
       "\n",
       "  direct_evidence inference_gene_symbol  inference_score omim_ids pub_med_ids  \n",
       "0     therapeutic                   NaN              NaN      NaN     4519131  \n",
       "1             NaN                   MYC              4.4      NaN    26432044  "
      ]
     },
     "execution_count": 54,
     "metadata": {},
     "output_type": "execute_result"
    }
   ],
   "source": [
    "chem_dis = read_ctd(load_dir.joinpath(e_files[1]))\n",
    "chem_dis.head(2)"
   ]
  },
  {
   "cell_type": "code",
   "execution_count": 55,
   "metadata": {},
   "outputs": [
    {
     "data": {
      "text/html": [
       "<div>\n",
       "<style scoped>\n",
       "    .dataframe tbody tr th:only-of-type {\n",
       "        vertical-align: middle;\n",
       "    }\n",
       "\n",
       "    .dataframe tbody tr th {\n",
       "        vertical-align: top;\n",
       "    }\n",
       "\n",
       "    .dataframe thead th {\n",
       "        text-align: right;\n",
       "    }\n",
       "</style>\n",
       "<table border=\"1\" class=\"dataframe\">\n",
       "  <thead>\n",
       "    <tr style=\"text-align: right;\">\n",
       "      <th></th>\n",
       "      <th>chemical_name</th>\n",
       "      <th>chemical_id</th>\n",
       "      <th>cas_rn</th>\n",
       "      <th>disease_name</th>\n",
       "      <th>disease_id</th>\n",
       "      <th>direct_evidence</th>\n",
       "      <th>inference_gene_symbol</th>\n",
       "      <th>inference_score</th>\n",
       "      <th>omim_ids</th>\n",
       "      <th>pub_med_ids</th>\n",
       "    </tr>\n",
       "  </thead>\n",
       "  <tbody>\n",
       "    <tr>\n",
       "      <th>0</th>\n",
       "      <td>06-Paris-LA-66 protocol</td>\n",
       "      <td>C046983</td>\n",
       "      <td>NaN</td>\n",
       "      <td>Precursor Cell Lymphoblastic Leukemia-Lymphoma</td>\n",
       "      <td>MESH:D054198</td>\n",
       "      <td>therapeutic</td>\n",
       "      <td>NaN</td>\n",
       "      <td>NaN</td>\n",
       "      <td>NaN</td>\n",
       "      <td>4519131</td>\n",
       "    </tr>\n",
       "    <tr>\n",
       "      <th>1</th>\n",
       "      <td>10074-G5</td>\n",
       "      <td>C534883</td>\n",
       "      <td>NaN</td>\n",
       "      <td>Adenocarcinoma</td>\n",
       "      <td>MESH:D000230</td>\n",
       "      <td>NaN</td>\n",
       "      <td>MYC</td>\n",
       "      <td>4.4</td>\n",
       "      <td>NaN</td>\n",
       "      <td>26432044</td>\n",
       "    </tr>\n",
       "  </tbody>\n",
       "</table>\n",
       "</div>"
      ],
      "text/plain": [
       "             chemical_name chemical_id cas_rn  \\\n",
       "0  06-Paris-LA-66 protocol     C046983    NaN   \n",
       "1                 10074-G5     C534883    NaN   \n",
       "\n",
       "                                     disease_name    disease_id  \\\n",
       "0  Precursor Cell Lymphoblastic Leukemia-Lymphoma  MESH:D054198   \n",
       "1                                  Adenocarcinoma  MESH:D000230   \n",
       "\n",
       "  direct_evidence inference_gene_symbol  inference_score omim_ids pub_med_ids  \n",
       "0     therapeutic                   NaN              NaN      NaN     4519131  \n",
       "1             NaN                   MYC              4.4      NaN    26432044  "
      ]
     },
     "execution_count": 55,
     "metadata": {},
     "output_type": "execute_result"
    }
   ],
   "source": [
    "chem_dis.head(2)"
   ]
  },
  {
   "cell_type": "markdown",
   "metadata": {},
   "source": [
    "Want chem_id, and disease_id... only want curated for now, so those with direct evedence. Direct evidence will be the semmantic type of the edges"
   ]
  },
  {
   "cell_type": "code",
   "execution_count": 56,
   "metadata": {},
   "outputs": [
    {
     "data": {
      "text/plain": [
       "marker/mechanism    62915\n",
       "therapeutic         34573\n",
       "Name: direct_evidence, dtype: int64"
      ]
     },
     "execution_count": 56,
     "metadata": {},
     "output_type": "execute_result"
    }
   ],
   "source": [
    "chem_dis['direct_evidence'].value_counts()"
   ]
  },
  {
   "cell_type": "code",
   "execution_count": 57,
   "metadata": {},
   "outputs": [
    {
     "data": {
      "text/html": [
       "<div>\n",
       "<style scoped>\n",
       "    .dataframe tbody tr th:only-of-type {\n",
       "        vertical-align: middle;\n",
       "    }\n",
       "\n",
       "    .dataframe tbody tr th {\n",
       "        vertical-align: top;\n",
       "    }\n",
       "\n",
       "    .dataframe thead th {\n",
       "        text-align: right;\n",
       "    }\n",
       "</style>\n",
       "<table border=\"1\" class=\"dataframe\">\n",
       "  <thead>\n",
       "    <tr style=\"text-align: right;\">\n",
       "      <th></th>\n",
       "      <th>chemical_id</th>\n",
       "      <th>disease_id</th>\n",
       "      <th>direct_evidence</th>\n",
       "      <th>pub_med_ids</th>\n",
       "    </tr>\n",
       "  </thead>\n",
       "  <tbody>\n",
       "    <tr>\n",
       "      <th>0</th>\n",
       "      <td>C046983</td>\n",
       "      <td>MESH:D054198</td>\n",
       "      <td>therapeutic</td>\n",
       "      <td>4519131</td>\n",
       "    </tr>\n",
       "    <tr>\n",
       "      <th>72</th>\n",
       "      <td>C112297</td>\n",
       "      <td>MESH:D006948</td>\n",
       "      <td>marker/mechanism</td>\n",
       "      <td>19098162</td>\n",
       "    </tr>\n",
       "  </tbody>\n",
       "</table>\n",
       "</div>"
      ],
      "text/plain": [
       "   chemical_id    disease_id   direct_evidence pub_med_ids\n",
       "0      C046983  MESH:D054198       therapeutic     4519131\n",
       "72     C112297  MESH:D006948  marker/mechanism    19098162"
      ]
     },
     "execution_count": 57,
     "metadata": {},
     "output_type": "execute_result"
    }
   ],
   "source": [
    "cd_edges = chem_dis.dropna(subset=['direct_evidence'])[['chemical_id', 'disease_id', 'direct_evidence', 'pub_med_ids']]\n",
    "cd_edges.head(2)"
   ]
  },
  {
   "cell_type": "code",
   "execution_count": 58,
   "metadata": {},
   "outputs": [
    {
     "data": {
      "text/html": [
       "<div>\n",
       "<style scoped>\n",
       "    .dataframe tbody tr th:only-of-type {\n",
       "        vertical-align: middle;\n",
       "    }\n",
       "\n",
       "    .dataframe tbody tr th {\n",
       "        vertical-align: top;\n",
       "    }\n",
       "\n",
       "    .dataframe thead th {\n",
       "        text-align: right;\n",
       "    }\n",
       "</style>\n",
       "<table border=\"1\" class=\"dataframe\">\n",
       "  <thead>\n",
       "    <tr style=\"text-align: right;\">\n",
       "      <th></th>\n",
       "      <th>start_id</th>\n",
       "      <th>end_id</th>\n",
       "      <th>direct_evidence</th>\n",
       "      <th>pub_med_ids</th>\n",
       "      <th>abbv</th>\n",
       "      <th>type</th>\n",
       "    </tr>\n",
       "  </thead>\n",
       "  <tbody>\n",
       "    <tr>\n",
       "      <th>0</th>\n",
       "      <td>MESH:C046983</td>\n",
       "      <td>MESH:D054198</td>\n",
       "      <td>therapeutic</td>\n",
       "      <td>4519131</td>\n",
       "      <td>CtD</td>\n",
       "      <td>therapeutic_CtD</td>\n",
       "    </tr>\n",
       "    <tr>\n",
       "      <th>72</th>\n",
       "      <td>MESH:C112297</td>\n",
       "      <td>MESH:D006948</td>\n",
       "      <td>marker/mechanism</td>\n",
       "      <td>19098162</td>\n",
       "      <td>CmD</td>\n",
       "      <td>marker_or_mechanism_CmD</td>\n",
       "    </tr>\n",
       "    <tr>\n",
       "      <th>87</th>\n",
       "      <td>MESH:C112297</td>\n",
       "      <td>MESH:D012640</td>\n",
       "      <td>marker/mechanism</td>\n",
       "      <td>26348896</td>\n",
       "      <td>CmD</td>\n",
       "      <td>marker_or_mechanism_CmD</td>\n",
       "    </tr>\n",
       "    <tr>\n",
       "      <th>135</th>\n",
       "      <td>MESH:C039775</td>\n",
       "      <td>MESH:D004827</td>\n",
       "      <td>therapeutic</td>\n",
       "      <td>17516704</td>\n",
       "      <td>CtD</td>\n",
       "      <td>therapeutic_CtD</td>\n",
       "    </tr>\n",
       "    <tr>\n",
       "      <th>190</th>\n",
       "      <td>MESH:C425777</td>\n",
       "      <td>MESH:D006948</td>\n",
       "      <td>marker/mechanism</td>\n",
       "      <td>15765258</td>\n",
       "      <td>CmD</td>\n",
       "      <td>marker_or_mechanism_CmD</td>\n",
       "    </tr>\n",
       "  </tbody>\n",
       "</table>\n",
       "</div>"
      ],
      "text/plain": [
       "         start_id        end_id   direct_evidence pub_med_ids abbv  \\\n",
       "0    MESH:C046983  MESH:D054198       therapeutic     4519131  CtD   \n",
       "72   MESH:C112297  MESH:D006948  marker/mechanism    19098162  CmD   \n",
       "87   MESH:C112297  MESH:D012640  marker/mechanism    26348896  CmD   \n",
       "135  MESH:C039775  MESH:D004827       therapeutic    17516704  CtD   \n",
       "190  MESH:C425777  MESH:D006948  marker/mechanism    15765258  CmD   \n",
       "\n",
       "                        type  \n",
       "0            therapeutic_CtD  \n",
       "72   marker_or_mechanism_CmD  \n",
       "87   marker_or_mechanism_CmD  \n",
       "135          therapeutic_CtD  \n",
       "190  marker_or_mechanism_CmD  "
      ]
     },
     "execution_count": 58,
     "metadata": {},
     "output_type": "execute_result"
    }
   ],
   "source": [
    "cd_edges = cd_edges.rename(columns={'chemical_id': 'start_id', 'disease_id': 'end_id'})\n",
    "cd_edges['abbv'] = 'C' + cd_edges['direct_evidence'].apply(lambda x: x[0]) + 'D'\n",
    "cd_edges['type'] = cd_edges['direct_evidence'].str.replace('/', '_or_') + '_' + cd_edges['abbv']\n",
    "cd_edges['start_id'] = 'MESH:' + cd_edges['start_id']\n",
    "\n",
    "cd_edges.head(5)"
   ]
  },
  {
   "cell_type": "code",
   "execution_count": 59,
   "metadata": {},
   "outputs": [
    {
     "data": {
      "text/plain": [
       "97488"
      ]
     },
     "execution_count": 59,
     "metadata": {},
     "output_type": "execute_result"
    }
   ],
   "source": [
    "len(cd_edges)"
   ]
  },
  {
   "cell_type": "code",
   "execution_count": 60,
   "metadata": {},
   "outputs": [],
   "source": [
    "cd_edges['source'] = 'CTD'\n",
    "cd_edges['evidence'] = 'curated'"
   ]
  },
  {
   "cell_type": "code",
   "execution_count": 61,
   "metadata": {},
   "outputs": [],
   "source": [
    "edges.append(cd_edges)"
   ]
  },
  {
   "cell_type": "markdown",
   "metadata": {},
   "source": [
    "    cd_expand = cd_edges.copy()\n",
    "\n",
    "    cd_expand = cd_expand.merge(comp_p2c_df, how='inner', left_on='start_id', right_on='parent_id')\n",
    "\n",
    "    dis_p2c_df = pd.DataFrame({'parent_id': list(chain(*[[k]*len(v) for k, v in dis_p2c_map.items()])), \n",
    "                                    'child_id': list(chain(*[v for k, v in dis_p2c_map.items()])) })\n",
    "\n",
    "    cd_expand = cd_expand.merge(dis_p2c_df, how='inner', left_on='end_id', right_on='parent_id')\n",
    "    cd_expand.shape"
   ]
  },
  {
   "cell_type": "code",
   "execution_count": 62,
   "metadata": {},
   "outputs": [
    {
     "data": {
      "text/plain": [
       "'CTD_chem_go_enriched.csv.gz'"
      ]
     },
     "execution_count": 62,
     "metadata": {},
     "output_type": "execute_result"
    }
   ],
   "source": [
    "e_files[2]"
   ]
  },
  {
   "cell_type": "markdown",
   "metadata": {},
   "source": [
    "### Chem to GO"
   ]
  },
  {
   "cell_type": "code",
   "execution_count": 63,
   "metadata": {},
   "outputs": [
    {
     "data": {
      "text/html": [
       "<div>\n",
       "<style scoped>\n",
       "    .dataframe tbody tr th:only-of-type {\n",
       "        vertical-align: middle;\n",
       "    }\n",
       "\n",
       "    .dataframe tbody tr th {\n",
       "        vertical-align: top;\n",
       "    }\n",
       "\n",
       "    .dataframe thead th {\n",
       "        text-align: right;\n",
       "    }\n",
       "</style>\n",
       "<table border=\"1\" class=\"dataframe\">\n",
       "  <thead>\n",
       "    <tr style=\"text-align: right;\">\n",
       "      <th></th>\n",
       "      <th>chemical_name</th>\n",
       "      <th>chemical_id</th>\n",
       "      <th>cas_rn</th>\n",
       "      <th>ontology</th>\n",
       "      <th>goterm_name</th>\n",
       "      <th>goterm_id</th>\n",
       "      <th>highest_golevel</th>\n",
       "      <th>pvalue</th>\n",
       "      <th>corrected_pvalue</th>\n",
       "      <th>target_match_qty</th>\n",
       "      <th>target_total_qty</th>\n",
       "      <th>background_match_qty</th>\n",
       "      <th>background_total_qty</th>\n",
       "    </tr>\n",
       "  </thead>\n",
       "  <tbody>\n",
       "    <tr>\n",
       "      <th>0</th>\n",
       "      <td>10074-G5</td>\n",
       "      <td>C534883</td>\n",
       "      <td>NaN</td>\n",
       "      <td>Molecular Function</td>\n",
       "      <td>E-box binding</td>\n",
       "      <td>GO:0070888</td>\n",
       "      <td>9</td>\n",
       "      <td>0.000001</td>\n",
       "      <td>0.000652</td>\n",
       "      <td>2</td>\n",
       "      <td>2</td>\n",
       "      <td>49</td>\n",
       "      <td>43112</td>\n",
       "    </tr>\n",
       "    <tr>\n",
       "      <th>1</th>\n",
       "      <td>10,10-bis(4-pyridinylmethyl)-9(10H)-anthracenone</td>\n",
       "      <td>C112297</td>\n",
       "      <td>NaN</td>\n",
       "      <td>Biological Process</td>\n",
       "      <td>cation transmembrane transport</td>\n",
       "      <td>GO:0098655</td>\n",
       "      <td>6</td>\n",
       "      <td>0.000019</td>\n",
       "      <td>0.009630</td>\n",
       "      <td>3</td>\n",
       "      <td>4</td>\n",
       "      <td>723</td>\n",
       "      <td>43112</td>\n",
       "    </tr>\n",
       "  </tbody>\n",
       "</table>\n",
       "</div>"
      ],
      "text/plain": [
       "                                      chemical_name chemical_id cas_rn  \\\n",
       "0                                          10074-G5     C534883    NaN   \n",
       "1  10,10-bis(4-pyridinylmethyl)-9(10H)-anthracenone     C112297    NaN   \n",
       "\n",
       "             ontology                     goterm_name   goterm_id  \\\n",
       "0  Molecular Function                   E-box binding  GO:0070888   \n",
       "1  Biological Process  cation transmembrane transport  GO:0098655   \n",
       "\n",
       "   highest_golevel    pvalue  corrected_pvalue  target_match_qty  \\\n",
       "0                9  0.000001          0.000652                 2   \n",
       "1                6  0.000019          0.009630                 3   \n",
       "\n",
       "   target_total_qty  background_match_qty  background_total_qty  \n",
       "0                 2                    49                 43112  \n",
       "1                 4                   723                 43112  "
      ]
     },
     "execution_count": 63,
     "metadata": {},
     "output_type": "execute_result"
    }
   ],
   "source": [
    "chem_go = read_ctd(load_dir.joinpath(e_files[2]))\n",
    "chem_go.head(2)"
   ]
  },
  {
   "cell_type": "markdown",
   "metadata": {},
   "source": [
    "Chemical IDs and GO Term IDs are most important... keep the correcte p-vals in cues we want to do some filtering later"
   ]
  },
  {
   "cell_type": "code",
   "execution_count": 64,
   "metadata": {},
   "outputs": [
    {
     "data": {
      "text/plain": [
       "(5416205, 13)"
      ]
     },
     "execution_count": 64,
     "metadata": {},
     "output_type": "execute_result"
    }
   ],
   "source": [
    "chem_go.shape"
   ]
  },
  {
   "cell_type": "code",
   "execution_count": 65,
   "metadata": {},
   "outputs": [],
   "source": [
    "cgo_edges = chem_go[['chemical_id', 'goterm_id', 'ontology', 'corrected_pvalue']]"
   ]
  },
  {
   "cell_type": "code",
   "execution_count": 66,
   "metadata": {},
   "outputs": [
    {
     "data": {
      "text/html": [
       "<div>\n",
       "<style scoped>\n",
       "    .dataframe tbody tr th:only-of-type {\n",
       "        vertical-align: middle;\n",
       "    }\n",
       "\n",
       "    .dataframe tbody tr th {\n",
       "        vertical-align: top;\n",
       "    }\n",
       "\n",
       "    .dataframe thead th {\n",
       "        text-align: right;\n",
       "    }\n",
       "</style>\n",
       "<table border=\"1\" class=\"dataframe\">\n",
       "  <thead>\n",
       "    <tr style=\"text-align: right;\">\n",
       "      <th></th>\n",
       "      <th>start_id</th>\n",
       "      <th>end_id</th>\n",
       "      <th>corrected_pvalue</th>\n",
       "      <th>abbv</th>\n",
       "      <th>type</th>\n",
       "    </tr>\n",
       "  </thead>\n",
       "  <tbody>\n",
       "    <tr>\n",
       "      <th>0</th>\n",
       "      <td>MESH:C534883</td>\n",
       "      <td>GO:0070888</td>\n",
       "      <td>0.000652</td>\n",
       "      <td>CawMF</td>\n",
       "      <td>associated_with_CawMF</td>\n",
       "    </tr>\n",
       "    <tr>\n",
       "      <th>1</th>\n",
       "      <td>MESH:C112297</td>\n",
       "      <td>GO:0098655</td>\n",
       "      <td>0.009630</td>\n",
       "      <td>CawBP</td>\n",
       "      <td>associated_with_CawBP</td>\n",
       "    </tr>\n",
       "    <tr>\n",
       "      <th>2</th>\n",
       "      <td>MESH:C112297</td>\n",
       "      <td>GO:0071804</td>\n",
       "      <td>0.000069</td>\n",
       "      <td>CawBP</td>\n",
       "      <td>associated_with_CawBP</td>\n",
       "    </tr>\n",
       "    <tr>\n",
       "      <th>3</th>\n",
       "      <td>MESH:C112297</td>\n",
       "      <td>GO:0098662</td>\n",
       "      <td>0.006650</td>\n",
       "      <td>CawBP</td>\n",
       "      <td>associated_with_CawBP</td>\n",
       "    </tr>\n",
       "    <tr>\n",
       "      <th>4</th>\n",
       "      <td>MESH:C112297</td>\n",
       "      <td>GO:0098660</td>\n",
       "      <td>0.009350</td>\n",
       "      <td>CawBP</td>\n",
       "      <td>associated_with_CawBP</td>\n",
       "    </tr>\n",
       "  </tbody>\n",
       "</table>\n",
       "</div>"
      ],
      "text/plain": [
       "       start_id      end_id  corrected_pvalue   abbv                   type\n",
       "0  MESH:C534883  GO:0070888          0.000652  CawMF  associated_with_CawMF\n",
       "1  MESH:C112297  GO:0098655          0.009630  CawBP  associated_with_CawBP\n",
       "2  MESH:C112297  GO:0071804          0.000069  CawBP  associated_with_CawBP\n",
       "3  MESH:C112297  GO:0098662          0.006650  CawBP  associated_with_CawBP\n",
       "4  MESH:C112297  GO:0098660          0.009350  CawBP  associated_with_CawBP"
      ]
     },
     "execution_count": 66,
     "metadata": {},
     "output_type": "execute_result"
    }
   ],
   "source": [
    "cgo_edges = cgo_edges.rename(columns={'chemical_id': 'start_id', 'goterm_id': 'end_id'})\n",
    "cgo_edges['abbv'] = 'Caw' + cgo_edges['ontology'].apply(lambda s: ''.join([w[0] for w in s.split(' ')]))\n",
    "cgo_edges['type'] = 'associated_with_' + cgo_edges['abbv']\n",
    "cgo_edges['start_id'] = 'MESH:' + cgo_edges['start_id']\n",
    "\n",
    "cgo_edges = cgo_edges.drop('ontology', axis=1)\n",
    "\n",
    "cgo_edges.head(5)"
   ]
  },
  {
   "cell_type": "code",
   "execution_count": 67,
   "metadata": {},
   "outputs": [],
   "source": [
    "cgo_edges['source'] = 'CTD'\n",
    "cgo_edges['evidence'] = 'computed'"
   ]
  },
  {
   "cell_type": "code",
   "execution_count": 68,
   "metadata": {},
   "outputs": [
    {
     "data": {
      "text/plain": [
       "'CTD_chem_pathways_enriched.csv.gz'"
      ]
     },
     "execution_count": 68,
     "metadata": {},
     "output_type": "execute_result"
    }
   ],
   "source": [
    "e_files[3]"
   ]
  },
  {
   "cell_type": "markdown",
   "metadata": {},
   "source": [
    "## Chemical - Pathway"
   ]
  },
  {
   "cell_type": "code",
   "execution_count": 69,
   "metadata": {},
   "outputs": [
    {
     "data": {
      "text/html": [
       "<div>\n",
       "<style scoped>\n",
       "    .dataframe tbody tr th:only-of-type {\n",
       "        vertical-align: middle;\n",
       "    }\n",
       "\n",
       "    .dataframe tbody tr th {\n",
       "        vertical-align: top;\n",
       "    }\n",
       "\n",
       "    .dataframe thead th {\n",
       "        text-align: right;\n",
       "    }\n",
       "</style>\n",
       "<table border=\"1\" class=\"dataframe\">\n",
       "  <thead>\n",
       "    <tr style=\"text-align: right;\">\n",
       "      <th></th>\n",
       "      <th>chemical_name</th>\n",
       "      <th>chemical_id</th>\n",
       "      <th>cas_rn</th>\n",
       "      <th>pathway_name</th>\n",
       "      <th>pathway_id</th>\n",
       "      <th>pvalue</th>\n",
       "      <th>corrected_pvalue</th>\n",
       "      <th>target_match_qty</th>\n",
       "      <th>target_total_qty</th>\n",
       "      <th>background_match_qty</th>\n",
       "      <th>background_total_qty</th>\n",
       "    </tr>\n",
       "  </thead>\n",
       "  <tbody>\n",
       "    <tr>\n",
       "      <th>0</th>\n",
       "      <td>10074-G5</td>\n",
       "      <td>C534883</td>\n",
       "      <td>NaN</td>\n",
       "      <td>Cell Cycle, Mitotic</td>\n",
       "      <td>REACT:R-HSA-69278</td>\n",
       "      <td>0.000142</td>\n",
       "      <td>0.009220</td>\n",
       "      <td>2</td>\n",
       "      <td>2</td>\n",
       "      <td>514</td>\n",
       "      <td>43112</td>\n",
       "    </tr>\n",
       "    <tr>\n",
       "      <th>1</th>\n",
       "      <td>10074-G5</td>\n",
       "      <td>C534883</td>\n",
       "      <td>NaN</td>\n",
       "      <td>Cyclin A:Cdk2-associated events at S phase entry</td>\n",
       "      <td>REACT:R-HSA-69656</td>\n",
       "      <td>0.000003</td>\n",
       "      <td>0.000174</td>\n",
       "      <td>2</td>\n",
       "      <td>2</td>\n",
       "      <td>71</td>\n",
       "      <td>43112</td>\n",
       "    </tr>\n",
       "  </tbody>\n",
       "</table>\n",
       "</div>"
      ],
      "text/plain": [
       "  chemical_name chemical_id cas_rn  \\\n",
       "0      10074-G5     C534883    NaN   \n",
       "1      10074-G5     C534883    NaN   \n",
       "\n",
       "                                       pathway_name         pathway_id  \\\n",
       "0                               Cell Cycle, Mitotic  REACT:R-HSA-69278   \n",
       "1  Cyclin A:Cdk2-associated events at S phase entry  REACT:R-HSA-69656   \n",
       "\n",
       "     pvalue  corrected_pvalue  target_match_qty  target_total_qty  \\\n",
       "0  0.000142          0.009220                 2                 2   \n",
       "1  0.000003          0.000174                 2                 2   \n",
       "\n",
       "   background_match_qty  background_total_qty  \n",
       "0                   514                 43112  \n",
       "1                    71                 43112  "
      ]
     },
     "execution_count": 69,
     "metadata": {},
     "output_type": "execute_result"
    }
   ],
   "source": [
    "chem_path = read_ctd(load_dir.joinpath(e_files[3]))\n",
    "chem_path.head(2)"
   ]
  },
  {
   "cell_type": "code",
   "execution_count": 70,
   "metadata": {},
   "outputs": [],
   "source": [
    "cp_edges = chem_path[['chemical_id', 'pathway_id', 'corrected_pvalue']]"
   ]
  },
  {
   "cell_type": "code",
   "execution_count": 71,
   "metadata": {},
   "outputs": [
    {
     "data": {
      "text/html": [
       "<div>\n",
       "<style scoped>\n",
       "    .dataframe tbody tr th:only-of-type {\n",
       "        vertical-align: middle;\n",
       "    }\n",
       "\n",
       "    .dataframe tbody tr th {\n",
       "        vertical-align: top;\n",
       "    }\n",
       "\n",
       "    .dataframe thead th {\n",
       "        text-align: right;\n",
       "    }\n",
       "</style>\n",
       "<table border=\"1\" class=\"dataframe\">\n",
       "  <thead>\n",
       "    <tr style=\"text-align: right;\">\n",
       "      <th></th>\n",
       "      <th>start_id</th>\n",
       "      <th>end_id</th>\n",
       "      <th>corrected_pvalue</th>\n",
       "      <th>abbv</th>\n",
       "      <th>type</th>\n",
       "    </tr>\n",
       "  </thead>\n",
       "  <tbody>\n",
       "    <tr>\n",
       "      <th>0</th>\n",
       "      <td>MESH:C534883</td>\n",
       "      <td>REACT:R-HSA-69278</td>\n",
       "      <td>0.009220</td>\n",
       "      <td>CawPW</td>\n",
       "      <td>associated_with_CawPW</td>\n",
       "    </tr>\n",
       "    <tr>\n",
       "      <th>1</th>\n",
       "      <td>MESH:C534883</td>\n",
       "      <td>REACT:R-HSA-69656</td>\n",
       "      <td>0.000174</td>\n",
       "      <td>CawPW</td>\n",
       "      <td>associated_with_CawPW</td>\n",
       "    </tr>\n",
       "    <tr>\n",
       "      <th>2</th>\n",
       "      <td>MESH:C534883</td>\n",
       "      <td>REACT:R-HSA-69202</td>\n",
       "      <td>0.000179</td>\n",
       "      <td>CawPW</td>\n",
       "      <td>associated_with_CawPW</td>\n",
       "    </tr>\n",
       "    <tr>\n",
       "      <th>3</th>\n",
       "      <td>MESH:C534883</td>\n",
       "      <td>REACT:R-HSA-69206</td>\n",
       "      <td>0.000491</td>\n",
       "      <td>CawPW</td>\n",
       "      <td>associated_with_CawPW</td>\n",
       "    </tr>\n",
       "    <tr>\n",
       "      <th>4</th>\n",
       "      <td>MESH:C534883</td>\n",
       "      <td>KEGG:hsa04010</td>\n",
       "      <td>0.002270</td>\n",
       "      <td>CawPW</td>\n",
       "      <td>associated_with_CawPW</td>\n",
       "    </tr>\n",
       "  </tbody>\n",
       "</table>\n",
       "</div>"
      ],
      "text/plain": [
       "       start_id             end_id  corrected_pvalue   abbv  \\\n",
       "0  MESH:C534883  REACT:R-HSA-69278          0.009220  CawPW   \n",
       "1  MESH:C534883  REACT:R-HSA-69656          0.000174  CawPW   \n",
       "2  MESH:C534883  REACT:R-HSA-69202          0.000179  CawPW   \n",
       "3  MESH:C534883  REACT:R-HSA-69206          0.000491  CawPW   \n",
       "4  MESH:C534883      KEGG:hsa04010          0.002270  CawPW   \n",
       "\n",
       "                    type  \n",
       "0  associated_with_CawPW  \n",
       "1  associated_with_CawPW  \n",
       "2  associated_with_CawPW  \n",
       "3  associated_with_CawPW  \n",
       "4  associated_with_CawPW  "
      ]
     },
     "execution_count": 71,
     "metadata": {},
     "output_type": "execute_result"
    }
   ],
   "source": [
    "cp_edges = cp_edges.rename(columns={'chemical_id': 'start_id', 'pathway_id': 'end_id'})\n",
    "cp_edges['abbv'] = 'CawPW'\n",
    "cp_edges['type'] = 'associated_with_' + cp_edges['abbv']\n",
    "cp_edges['start_id'] = 'MESH:' + cp_edges['start_id']\n",
    "\n",
    "cp_edges.head(5)"
   ]
  },
  {
   "cell_type": "code",
   "execution_count": 72,
   "metadata": {},
   "outputs": [],
   "source": [
    "cp_edges['source'] = 'CTD'\n",
    "cp_edges['evidence'] = 'computed'"
   ]
  },
  {
   "cell_type": "code",
   "execution_count": 73,
   "metadata": {},
   "outputs": [],
   "source": [
    "edges.append(cp_edges)"
   ]
  },
  {
   "cell_type": "code",
   "execution_count": 74,
   "metadata": {},
   "outputs": [
    {
     "data": {
      "text/plain": [
       "'CTD_genes_diseases.csv.gz'"
      ]
     },
     "execution_count": 74,
     "metadata": {},
     "output_type": "execute_result"
    }
   ],
   "source": [
    "e_files[4]"
   ]
  },
  {
   "cell_type": "markdown",
   "metadata": {},
   "source": [
    "### Gene - Disease"
   ]
  },
  {
   "cell_type": "code",
   "execution_count": 75,
   "metadata": {},
   "outputs": [
    {
     "name": "stderr",
     "output_type": "stream",
     "text": [
      "/home/mmayers/software/anaconda3/envs/ml/lib/python3.6/site-packages/IPython/core/interactiveshell.py:2901: DtypeWarning: Columns (4,7) have mixed types. Specify dtype option on import or set low_memory=False.\n",
      "  if self.run_code(code, result):\n"
     ]
    },
    {
     "data": {
      "text/html": [
       "<div>\n",
       "<style scoped>\n",
       "    .dataframe tbody tr th:only-of-type {\n",
       "        vertical-align: middle;\n",
       "    }\n",
       "\n",
       "    .dataframe tbody tr th {\n",
       "        vertical-align: top;\n",
       "    }\n",
       "\n",
       "    .dataframe thead th {\n",
       "        text-align: right;\n",
       "    }\n",
       "</style>\n",
       "<table border=\"1\" class=\"dataframe\">\n",
       "  <thead>\n",
       "    <tr style=\"text-align: right;\">\n",
       "      <th></th>\n",
       "      <th>gene_symbol</th>\n",
       "      <th>gene_id</th>\n",
       "      <th>disease_name</th>\n",
       "      <th>disease_id</th>\n",
       "      <th>direct_evidence</th>\n",
       "      <th>inference_chemical_name</th>\n",
       "      <th>inference_score</th>\n",
       "      <th>omim_ids</th>\n",
       "      <th>pub_med_ids</th>\n",
       "    </tr>\n",
       "  </thead>\n",
       "  <tbody>\n",
       "    <tr>\n",
       "      <th>0</th>\n",
       "      <td>11-BETA-HSD3</td>\n",
       "      <td>100174880</td>\n",
       "      <td>Abnormalities, Drug-Induced</td>\n",
       "      <td>MESH:D000014</td>\n",
       "      <td>NaN</td>\n",
       "      <td>Endocrine Disruptors</td>\n",
       "      <td>5.16</td>\n",
       "      <td>NaN</td>\n",
       "      <td>22659286</td>\n",
       "    </tr>\n",
       "    <tr>\n",
       "      <th>1</th>\n",
       "      <td>11-BETA-HSD3</td>\n",
       "      <td>100174880</td>\n",
       "      <td>Anemia</td>\n",
       "      <td>MESH:D000740</td>\n",
       "      <td>NaN</td>\n",
       "      <td>Water Pollutants, Chemical</td>\n",
       "      <td>4.20</td>\n",
       "      <td>NaN</td>\n",
       "      <td>26546277</td>\n",
       "    </tr>\n",
       "  </tbody>\n",
       "</table>\n",
       "</div>"
      ],
      "text/plain": [
       "    gene_symbol    gene_id                 disease_name    disease_id  \\\n",
       "0  11-BETA-HSD3  100174880  Abnormalities, Drug-Induced  MESH:D000014   \n",
       "1  11-BETA-HSD3  100174880                       Anemia  MESH:D000740   \n",
       "\n",
       "  direct_evidence     inference_chemical_name  inference_score omim_ids  \\\n",
       "0             NaN        Endocrine Disruptors             5.16      NaN   \n",
       "1             NaN  Water Pollutants, Chemical             4.20      NaN   \n",
       "\n",
       "  pub_med_ids  \n",
       "0    22659286  \n",
       "1    26546277  "
      ]
     },
     "execution_count": 75,
     "metadata": {},
     "output_type": "execute_result"
    }
   ],
   "source": [
    "gene_dis = read_ctd(load_dir.joinpath(e_files[4]))\n",
    "gene_dis.head(2)"
   ]
  },
  {
   "cell_type": "code",
   "execution_count": 76,
   "metadata": {},
   "outputs": [
    {
     "data": {
      "text/html": [
       "<div>\n",
       "<style scoped>\n",
       "    .dataframe tbody tr th:only-of-type {\n",
       "        vertical-align: middle;\n",
       "    }\n",
       "\n",
       "    .dataframe tbody tr th {\n",
       "        vertical-align: top;\n",
       "    }\n",
       "\n",
       "    .dataframe thead th {\n",
       "        text-align: right;\n",
       "    }\n",
       "</style>\n",
       "<table border=\"1\" class=\"dataframe\">\n",
       "  <thead>\n",
       "    <tr style=\"text-align: right;\">\n",
       "      <th></th>\n",
       "      <th>gene_symbol</th>\n",
       "      <th>gene_id</th>\n",
       "      <th>disease_name</th>\n",
       "      <th>disease_id</th>\n",
       "      <th>direct_evidence</th>\n",
       "      <th>inference_chemical_name</th>\n",
       "      <th>inference_score</th>\n",
       "      <th>omim_ids</th>\n",
       "      <th>pub_med_ids</th>\n",
       "    </tr>\n",
       "  </thead>\n",
       "  <tbody>\n",
       "    <tr>\n",
       "      <th>0</th>\n",
       "      <td>11-BETA-HSD3</td>\n",
       "      <td>100174880</td>\n",
       "      <td>Abnormalities, Drug-Induced</td>\n",
       "      <td>MESH:D000014</td>\n",
       "      <td>NaN</td>\n",
       "      <td>Endocrine Disruptors</td>\n",
       "      <td>5.16</td>\n",
       "      <td>NaN</td>\n",
       "      <td>22659286</td>\n",
       "    </tr>\n",
       "    <tr>\n",
       "      <th>1</th>\n",
       "      <td>11-BETA-HSD3</td>\n",
       "      <td>100174880</td>\n",
       "      <td>Anemia</td>\n",
       "      <td>MESH:D000740</td>\n",
       "      <td>NaN</td>\n",
       "      <td>Water Pollutants, Chemical</td>\n",
       "      <td>4.20</td>\n",
       "      <td>NaN</td>\n",
       "      <td>26546277</td>\n",
       "    </tr>\n",
       "  </tbody>\n",
       "</table>\n",
       "</div>"
      ],
      "text/plain": [
       "    gene_symbol    gene_id                 disease_name    disease_id  \\\n",
       "0  11-BETA-HSD3  100174880  Abnormalities, Drug-Induced  MESH:D000014   \n",
       "1  11-BETA-HSD3  100174880                       Anemia  MESH:D000740   \n",
       "\n",
       "  direct_evidence     inference_chemical_name  inference_score omim_ids  \\\n",
       "0             NaN        Endocrine Disruptors             5.16      NaN   \n",
       "1             NaN  Water Pollutants, Chemical             4.20      NaN   \n",
       "\n",
       "  pub_med_ids  \n",
       "0    22659286  \n",
       "1    26546277  "
      ]
     },
     "execution_count": 76,
     "metadata": {},
     "output_type": "execute_result"
    }
   ],
   "source": [
    "gene_dis.head(2)"
   ]
  },
  {
   "cell_type": "markdown",
   "metadata": {},
   "source": [
    "Similar to chemical disease, we're only going to look at curated instances, so those with a valid 'direct_evidence' value.\n",
    "\n",
    "Other than that, PMIDs will be captured."
   ]
  },
  {
   "cell_type": "code",
   "execution_count": 77,
   "metadata": {},
   "outputs": [],
   "source": [
    "gd_edges = gene_dis.dropna(subset=['direct_evidence'])[['gene_id', 'disease_id', 'direct_evidence', 'pub_med_ids']]"
   ]
  },
  {
   "cell_type": "code",
   "execution_count": 78,
   "metadata": {},
   "outputs": [
    {
     "data": {
      "text/plain": [
       "(30957, 4)"
      ]
     },
     "execution_count": 78,
     "metadata": {},
     "output_type": "execute_result"
    }
   ],
   "source": [
    "gd_edges.shape"
   ]
  },
  {
   "cell_type": "code",
   "execution_count": 79,
   "metadata": {},
   "outputs": [
    {
     "data": {
      "text/plain": [
       "marker/mechanism                29067\n",
       "therapeutic                      1615\n",
       "marker/mechanism|therapeutic      275\n",
       "Name: direct_evidence, dtype: int64"
      ]
     },
     "execution_count": 79,
     "metadata": {},
     "output_type": "execute_result"
    }
   ],
   "source": [
    "gd_edges['direct_evidence'].value_counts()"
   ]
  },
  {
   "cell_type": "code",
   "execution_count": 80,
   "metadata": {},
   "outputs": [],
   "source": [
    "gd_edges = pr.expand_col_on_char(gd_edges, 'direct_evidence', '|')"
   ]
  },
  {
   "cell_type": "code",
   "execution_count": 81,
   "metadata": {},
   "outputs": [
    {
     "data": {
      "text/html": [
       "<div>\n",
       "<style scoped>\n",
       "    .dataframe tbody tr th:only-of-type {\n",
       "        vertical-align: middle;\n",
       "    }\n",
       "\n",
       "    .dataframe tbody tr th {\n",
       "        vertical-align: top;\n",
       "    }\n",
       "\n",
       "    .dataframe thead th {\n",
       "        text-align: right;\n",
       "    }\n",
       "</style>\n",
       "<table border=\"1\" class=\"dataframe\">\n",
       "  <thead>\n",
       "    <tr style=\"text-align: right;\">\n",
       "      <th></th>\n",
       "      <th>start_id</th>\n",
       "      <th>end_id</th>\n",
       "      <th>direct_evidence</th>\n",
       "      <th>pub_med_ids</th>\n",
       "      <th>abbv</th>\n",
       "      <th>type</th>\n",
       "    </tr>\n",
       "  </thead>\n",
       "  <tbody>\n",
       "    <tr>\n",
       "      <th>0</th>\n",
       "      <td>50518</td>\n",
       "      <td>MESH:D003920</td>\n",
       "      <td>marker/mechanism</td>\n",
       "      <td>1473152</td>\n",
       "      <td>GmD</td>\n",
       "      <td>marker_or_mechanism_GmD</td>\n",
       "    </tr>\n",
       "    <tr>\n",
       "      <th>1</th>\n",
       "      <td>50518</td>\n",
       "      <td>MESH:D003924</td>\n",
       "      <td>marker/mechanism</td>\n",
       "      <td>8146154</td>\n",
       "      <td>GmD</td>\n",
       "      <td>marker_or_mechanism_GmD</td>\n",
       "    </tr>\n",
       "    <tr>\n",
       "      <th>2</th>\n",
       "      <td>50518</td>\n",
       "      <td>MESH:D008113</td>\n",
       "      <td>marker/mechanism</td>\n",
       "      <td>15175105</td>\n",
       "      <td>GmD</td>\n",
       "      <td>marker_or_mechanism_GmD</td>\n",
       "    </tr>\n",
       "    <tr>\n",
       "      <th>3</th>\n",
       "      <td>50518</td>\n",
       "      <td>MESH:D009369</td>\n",
       "      <td>marker/mechanism</td>\n",
       "      <td>1473152</td>\n",
       "      <td>GmD</td>\n",
       "      <td>marker_or_mechanism_GmD</td>\n",
       "    </tr>\n",
       "    <tr>\n",
       "      <th>4</th>\n",
       "      <td>50518</td>\n",
       "      <td>MESH:D009765</td>\n",
       "      <td>marker/mechanism</td>\n",
       "      <td>1473152|25447408|25448685|8146154</td>\n",
       "      <td>GmD</td>\n",
       "      <td>marker_or_mechanism_GmD</td>\n",
       "    </tr>\n",
       "  </tbody>\n",
       "</table>\n",
       "</div>"
      ],
      "text/plain": [
       "   start_id        end_id   direct_evidence  \\\n",
       "0     50518  MESH:D003920  marker/mechanism   \n",
       "1     50518  MESH:D003924  marker/mechanism   \n",
       "2     50518  MESH:D008113  marker/mechanism   \n",
       "3     50518  MESH:D009369  marker/mechanism   \n",
       "4     50518  MESH:D009765  marker/mechanism   \n",
       "\n",
       "                         pub_med_ids abbv                     type  \n",
       "0                            1473152  GmD  marker_or_mechanism_GmD  \n",
       "1                            8146154  GmD  marker_or_mechanism_GmD  \n",
       "2                           15175105  GmD  marker_or_mechanism_GmD  \n",
       "3                            1473152  GmD  marker_or_mechanism_GmD  \n",
       "4  1473152|25447408|25448685|8146154  GmD  marker_or_mechanism_GmD  "
      ]
     },
     "execution_count": 81,
     "metadata": {},
     "output_type": "execute_result"
    }
   ],
   "source": [
    "gd_edges = gd_edges.rename(columns={'gene_id': 'start_id', 'disease_id': 'end_id'})\n",
    "gd_edges['abbv'] = 'G' + gd_edges['direct_evidence'].apply(lambda x: x[0]) + 'D'\n",
    "gd_edges['type'] = gd_edges['direct_evidence'].str.replace('/', '_or_') + '_' + gd_edges['abbv']\n",
    "\n",
    "gd_edges.head(5)"
   ]
  },
  {
   "cell_type": "code",
   "execution_count": 82,
   "metadata": {},
   "outputs": [],
   "source": [
    "gd_edges['source'] = 'CTD'\n",
    "gd_edges['evidence'] = 'computed'"
   ]
  },
  {
   "cell_type": "code",
   "execution_count": 83,
   "metadata": {},
   "outputs": [],
   "source": [
    "edges.append(gd_edges)"
   ]
  },
  {
   "cell_type": "code",
   "execution_count": 84,
   "metadata": {},
   "outputs": [
    {
     "data": {
      "text/plain": [
       "'CTD_genes_pathways.csv.gz'"
      ]
     },
     "execution_count": 84,
     "metadata": {},
     "output_type": "execute_result"
    }
   ],
   "source": [
    "e_files[5]"
   ]
  },
  {
   "cell_type": "markdown",
   "metadata": {},
   "source": [
    "### Gene - Pathway"
   ]
  },
  {
   "cell_type": "code",
   "execution_count": 85,
   "metadata": {},
   "outputs": [
    {
     "data": {
      "text/html": [
       "<div>\n",
       "<style scoped>\n",
       "    .dataframe tbody tr th:only-of-type {\n",
       "        vertical-align: middle;\n",
       "    }\n",
       "\n",
       "    .dataframe tbody tr th {\n",
       "        vertical-align: top;\n",
       "    }\n",
       "\n",
       "    .dataframe thead th {\n",
       "        text-align: right;\n",
       "    }\n",
       "</style>\n",
       "<table border=\"1\" class=\"dataframe\">\n",
       "  <thead>\n",
       "    <tr style=\"text-align: right;\">\n",
       "      <th></th>\n",
       "      <th>gene_symbol</th>\n",
       "      <th>gene_id</th>\n",
       "      <th>pathway_name</th>\n",
       "      <th>pathway_id</th>\n",
       "    </tr>\n",
       "  </thead>\n",
       "  <tbody>\n",
       "    <tr>\n",
       "      <th>0</th>\n",
       "      <td>A1BG</td>\n",
       "      <td>1</td>\n",
       "      <td>Hemostasis</td>\n",
       "      <td>REACT:R-HSA-109582</td>\n",
       "    </tr>\n",
       "    <tr>\n",
       "      <th>1</th>\n",
       "      <td>A1BG</td>\n",
       "      <td>1</td>\n",
       "      <td>Immune System</td>\n",
       "      <td>REACT:R-HSA-168256</td>\n",
       "    </tr>\n",
       "  </tbody>\n",
       "</table>\n",
       "</div>"
      ],
      "text/plain": [
       "  gene_symbol  gene_id   pathway_name          pathway_id\n",
       "0        A1BG        1     Hemostasis  REACT:R-HSA-109582\n",
       "1        A1BG        1  Immune System  REACT:R-HSA-168256"
      ]
     },
     "execution_count": 85,
     "metadata": {},
     "output_type": "execute_result"
    }
   ],
   "source": [
    "gene_path = read_ctd(load_dir.joinpath(e_files[5]))\n",
    "gene_path.head(2)"
   ]
  },
  {
   "cell_type": "markdown",
   "metadata": {},
   "source": [
    "Not a lot of info here... we'll just take gene's and pathways with a part-of edge"
   ]
  },
  {
   "cell_type": "code",
   "execution_count": 86,
   "metadata": {},
   "outputs": [
    {
     "data": {
      "text/html": [
       "<div>\n",
       "<style scoped>\n",
       "    .dataframe tbody tr th:only-of-type {\n",
       "        vertical-align: middle;\n",
       "    }\n",
       "\n",
       "    .dataframe tbody tr th {\n",
       "        vertical-align: top;\n",
       "    }\n",
       "\n",
       "    .dataframe thead th {\n",
       "        text-align: right;\n",
       "    }\n",
       "</style>\n",
       "<table border=\"1\" class=\"dataframe\">\n",
       "  <thead>\n",
       "    <tr style=\"text-align: right;\">\n",
       "      <th></th>\n",
       "      <th>start_id</th>\n",
       "      <th>end_id</th>\n",
       "      <th>abbv</th>\n",
       "      <th>type</th>\n",
       "    </tr>\n",
       "  </thead>\n",
       "  <tbody>\n",
       "    <tr>\n",
       "      <th>0</th>\n",
       "      <td>1</td>\n",
       "      <td>REACT:R-HSA-109582</td>\n",
       "      <td>GpoPW</td>\n",
       "      <td>part_of_GpoPW</td>\n",
       "    </tr>\n",
       "    <tr>\n",
       "      <th>1</th>\n",
       "      <td>1</td>\n",
       "      <td>REACT:R-HSA-168256</td>\n",
       "      <td>GpoPW</td>\n",
       "      <td>part_of_GpoPW</td>\n",
       "    </tr>\n",
       "    <tr>\n",
       "      <th>2</th>\n",
       "      <td>1</td>\n",
       "      <td>REACT:R-HSA-168249</td>\n",
       "      <td>GpoPW</td>\n",
       "      <td>part_of_GpoPW</td>\n",
       "    </tr>\n",
       "    <tr>\n",
       "      <th>3</th>\n",
       "      <td>1</td>\n",
       "      <td>REACT:R-HSA-6798695</td>\n",
       "      <td>GpoPW</td>\n",
       "      <td>part_of_GpoPW</td>\n",
       "    </tr>\n",
       "    <tr>\n",
       "      <th>4</th>\n",
       "      <td>1</td>\n",
       "      <td>REACT:R-HSA-76002</td>\n",
       "      <td>GpoPW</td>\n",
       "      <td>part_of_GpoPW</td>\n",
       "    </tr>\n",
       "  </tbody>\n",
       "</table>\n",
       "</div>"
      ],
      "text/plain": [
       "   start_id               end_id   abbv           type\n",
       "0         1   REACT:R-HSA-109582  GpoPW  part_of_GpoPW\n",
       "1         1   REACT:R-HSA-168256  GpoPW  part_of_GpoPW\n",
       "2         1   REACT:R-HSA-168249  GpoPW  part_of_GpoPW\n",
       "3         1  REACT:R-HSA-6798695  GpoPW  part_of_GpoPW\n",
       "4         1    REACT:R-HSA-76002  GpoPW  part_of_GpoPW"
      ]
     },
     "execution_count": 86,
     "metadata": {},
     "output_type": "execute_result"
    }
   ],
   "source": [
    "gp_edges = gene_path[['gene_id', 'pathway_id']]\n",
    "gp_edges = gp_edges.rename(columns={'gene_id': 'start_id', 'pathway_id': 'end_id'})\n",
    "gp_edges['abbv'] = 'GpoPW'\n",
    "gp_edges['type'] = 'part_of_' + gp_edges['abbv']\n",
    "\n",
    "gp_edges.head(5)"
   ]
  },
  {
   "cell_type": "code",
   "execution_count": 87,
   "metadata": {},
   "outputs": [],
   "source": [
    "gp_edges['source'] = 'CTD'\n",
    "gp_edges['evidence'] = 'curated'"
   ]
  },
  {
   "cell_type": "code",
   "execution_count": 88,
   "metadata": {},
   "outputs": [],
   "source": [
    "edges.append(gp_edges)"
   ]
  },
  {
   "cell_type": "code",
   "execution_count": 89,
   "metadata": {},
   "outputs": [
    {
     "data": {
      "text/plain": [
       "'CTD_diseases_pathways.csv.gz'"
      ]
     },
     "execution_count": 89,
     "metadata": {},
     "output_type": "execute_result"
    }
   ],
   "source": [
    "e_files[6]"
   ]
  },
  {
   "cell_type": "markdown",
   "metadata": {},
   "source": [
    "### Disease - Pathway"
   ]
  },
  {
   "cell_type": "code",
   "execution_count": 90,
   "metadata": {},
   "outputs": [
    {
     "data": {
      "text/html": [
       "<div>\n",
       "<style scoped>\n",
       "    .dataframe tbody tr th:only-of-type {\n",
       "        vertical-align: middle;\n",
       "    }\n",
       "\n",
       "    .dataframe tbody tr th {\n",
       "        vertical-align: top;\n",
       "    }\n",
       "\n",
       "    .dataframe thead th {\n",
       "        text-align: right;\n",
       "    }\n",
       "</style>\n",
       "<table border=\"1\" class=\"dataframe\">\n",
       "  <thead>\n",
       "    <tr style=\"text-align: right;\">\n",
       "      <th></th>\n",
       "      <th>disease_name</th>\n",
       "      <th>disease_id</th>\n",
       "      <th>pathway_name</th>\n",
       "      <th>pathway_id</th>\n",
       "      <th>inference_gene_symbol</th>\n",
       "    </tr>\n",
       "  </thead>\n",
       "  <tbody>\n",
       "    <tr>\n",
       "      <th>0</th>\n",
       "      <td>17-Hydroxysteroid Dehydrogenase Deficiency</td>\n",
       "      <td>MESH:C537805</td>\n",
       "      <td>Androgen biosynthesis</td>\n",
       "      <td>REACT:R-HSA-193048</td>\n",
       "      <td>HSD17B3</td>\n",
       "    </tr>\n",
       "    <tr>\n",
       "      <th>1</th>\n",
       "      <td>17-Hydroxysteroid Dehydrogenase Deficiency</td>\n",
       "      <td>MESH:C537805</td>\n",
       "      <td>Fatty acid, triacylglycerol, and ketone body m...</td>\n",
       "      <td>REACT:R-HSA-535734</td>\n",
       "      <td>HSD17B3</td>\n",
       "    </tr>\n",
       "  </tbody>\n",
       "</table>\n",
       "</div>"
      ],
      "text/plain": [
       "                                 disease_name    disease_id  \\\n",
       "0  17-Hydroxysteroid Dehydrogenase Deficiency  MESH:C537805   \n",
       "1  17-Hydroxysteroid Dehydrogenase Deficiency  MESH:C537805   \n",
       "\n",
       "                                        pathway_name          pathway_id  \\\n",
       "0                              Androgen biosynthesis  REACT:R-HSA-193048   \n",
       "1  Fatty acid, triacylglycerol, and ketone body m...  REACT:R-HSA-535734   \n",
       "\n",
       "  inference_gene_symbol  \n",
       "0               HSD17B3  \n",
       "1               HSD17B3  "
      ]
     },
     "execution_count": 90,
     "metadata": {},
     "output_type": "execute_result"
    }
   ],
   "source": [
    "dis_path =  read_ctd(load_dir.joinpath(e_files[6]))\n",
    "dis_path.head(2)"
   ]
  },
  {
   "cell_type": "markdown",
   "metadata": {},
   "source": [
    "We'll keep inference gene symbol for now to mark that this was not curated"
   ]
  },
  {
   "cell_type": "code",
   "execution_count": 91,
   "metadata": {},
   "outputs": [
    {
     "data": {
      "text/plain": [
       "(563169, 5)"
      ]
     },
     "execution_count": 91,
     "metadata": {},
     "output_type": "execute_result"
    }
   ],
   "source": [
    "dis_path.shape"
   ]
  },
  {
   "cell_type": "code",
   "execution_count": 92,
   "metadata": {},
   "outputs": [
    {
     "data": {
      "text/html": [
       "<div>\n",
       "<style scoped>\n",
       "    .dataframe tbody tr th:only-of-type {\n",
       "        vertical-align: middle;\n",
       "    }\n",
       "\n",
       "    .dataframe tbody tr th {\n",
       "        vertical-align: top;\n",
       "    }\n",
       "\n",
       "    .dataframe thead th {\n",
       "        text-align: right;\n",
       "    }\n",
       "</style>\n",
       "<table border=\"1\" class=\"dataframe\">\n",
       "  <thead>\n",
       "    <tr style=\"text-align: right;\">\n",
       "      <th></th>\n",
       "      <th>start_id</th>\n",
       "      <th>end_id</th>\n",
       "      <th>inference_gene_symbol</th>\n",
       "      <th>abbv</th>\n",
       "      <th>type</th>\n",
       "    </tr>\n",
       "  </thead>\n",
       "  <tbody>\n",
       "    <tr>\n",
       "      <th>0</th>\n",
       "      <td>MESH:C537805</td>\n",
       "      <td>REACT:R-HSA-193048</td>\n",
       "      <td>HSD17B3</td>\n",
       "      <td>DawPW</td>\n",
       "      <td>associated_with_DawPW</td>\n",
       "    </tr>\n",
       "    <tr>\n",
       "      <th>1</th>\n",
       "      <td>MESH:C537805</td>\n",
       "      <td>REACT:R-HSA-535734</td>\n",
       "      <td>HSD17B3</td>\n",
       "      <td>DawPW</td>\n",
       "      <td>associated_with_DawPW</td>\n",
       "    </tr>\n",
       "    <tr>\n",
       "      <th>2</th>\n",
       "      <td>MESH:C537805</td>\n",
       "      <td>REACT:R-HSA-75105</td>\n",
       "      <td>HSD17B3</td>\n",
       "      <td>DawPW</td>\n",
       "      <td>associated_with_DawPW</td>\n",
       "    </tr>\n",
       "    <tr>\n",
       "      <th>3</th>\n",
       "      <td>MESH:C537805</td>\n",
       "      <td>KEGG:hsa01100</td>\n",
       "      <td>HSD17B3</td>\n",
       "      <td>DawPW</td>\n",
       "      <td>associated_with_DawPW</td>\n",
       "    </tr>\n",
       "    <tr>\n",
       "      <th>4</th>\n",
       "      <td>MESH:C537805</td>\n",
       "      <td>REACT:R-HSA-1430728</td>\n",
       "      <td>HSD17B3</td>\n",
       "      <td>DawPW</td>\n",
       "      <td>associated_with_DawPW</td>\n",
       "    </tr>\n",
       "  </tbody>\n",
       "</table>\n",
       "</div>"
      ],
      "text/plain": [
       "       start_id               end_id inference_gene_symbol   abbv  \\\n",
       "0  MESH:C537805   REACT:R-HSA-193048               HSD17B3  DawPW   \n",
       "1  MESH:C537805   REACT:R-HSA-535734               HSD17B3  DawPW   \n",
       "2  MESH:C537805    REACT:R-HSA-75105               HSD17B3  DawPW   \n",
       "3  MESH:C537805        KEGG:hsa01100               HSD17B3  DawPW   \n",
       "4  MESH:C537805  REACT:R-HSA-1430728               HSD17B3  DawPW   \n",
       "\n",
       "                    type  \n",
       "0  associated_with_DawPW  \n",
       "1  associated_with_DawPW  \n",
       "2  associated_with_DawPW  \n",
       "3  associated_with_DawPW  \n",
       "4  associated_with_DawPW  "
      ]
     },
     "execution_count": 92,
     "metadata": {},
     "output_type": "execute_result"
    }
   ],
   "source": [
    "dp_edges = dis_path[['disease_id', 'pathway_id', 'inference_gene_symbol']]\n",
    "dp_edges = dp_edges.rename(columns={'disease_id': 'start_id', 'pathway_id': 'end_id'})\n",
    "dp_edges['abbv'] = 'DawPW'\n",
    "dp_edges['type'] = 'associated_with_' + dp_edges['abbv']\n",
    "\n",
    "dp_edges.head(5)"
   ]
  },
  {
   "cell_type": "code",
   "execution_count": 93,
   "metadata": {},
   "outputs": [],
   "source": [
    "dp_edges['source'] = 'CTD'\n",
    "dp_edges['evidence'] = 'computed'"
   ]
  },
  {
   "cell_type": "code",
   "execution_count": 94,
   "metadata": {},
   "outputs": [],
   "source": [
    "edges.append(dp_edges)"
   ]
  },
  {
   "cell_type": "code",
   "execution_count": 95,
   "metadata": {},
   "outputs": [
    {
     "data": {
      "text/plain": [
       "'CTD_pheno_term_ixns.csv.gz'"
      ]
     },
     "execution_count": 95,
     "metadata": {},
     "output_type": "execute_result"
    }
   ],
   "source": [
    "e_files[7]"
   ]
  },
  {
   "cell_type": "markdown",
   "metadata": {},
   "source": [
    "### Chem-Pheno"
   ]
  },
  {
   "cell_type": "code",
   "execution_count": 96,
   "metadata": {},
   "outputs": [
    {
     "data": {
      "text/html": [
       "<div>\n",
       "<style scoped>\n",
       "    .dataframe tbody tr th:only-of-type {\n",
       "        vertical-align: middle;\n",
       "    }\n",
       "\n",
       "    .dataframe tbody tr th {\n",
       "        vertical-align: top;\n",
       "    }\n",
       "\n",
       "    .dataframe thead th {\n",
       "        text-align: right;\n",
       "    }\n",
       "</style>\n",
       "<table border=\"1\" class=\"dataframe\">\n",
       "  <thead>\n",
       "    <tr style=\"text-align: right;\">\n",
       "      <th></th>\n",
       "      <th>chemicalname</th>\n",
       "      <th>chemicalid</th>\n",
       "      <th>casrn</th>\n",
       "      <th>phenotypename</th>\n",
       "      <th>phenotypeid</th>\n",
       "      <th>comentionedterms</th>\n",
       "      <th>organism</th>\n",
       "      <th>organismid</th>\n",
       "      <th>interaction</th>\n",
       "      <th>interactionactions</th>\n",
       "      <th>anatomyterms</th>\n",
       "      <th>inferencegenesymbols</th>\n",
       "      <th>pubmedids</th>\n",
       "      <th>unnamed_13</th>\n",
       "    </tr>\n",
       "  </thead>\n",
       "  <tbody>\n",
       "    <tr>\n",
       "      <th>0</th>\n",
       "      <td>10074-G5</td>\n",
       "      <td>C534883</td>\n",
       "      <td>NaN</td>\n",
       "      <td>ATP biosynthetic process</td>\n",
       "      <td>GO:0006754</td>\n",
       "      <td>NaN</td>\n",
       "      <td>Homo sapiens</td>\n",
       "      <td>9606.0</td>\n",
       "      <td>10074-G5 analog results in decreased ATP biosy...</td>\n",
       "      <td>decreases^phenotype</td>\n",
       "      <td>1^HL-60 Cells^D018922</td>\n",
       "      <td>NaN</td>\n",
       "      <td>26036281</td>\n",
       "      <td>NaN</td>\n",
       "    </tr>\n",
       "    <tr>\n",
       "      <th>1</th>\n",
       "      <td>10074-G5</td>\n",
       "      <td>C534883</td>\n",
       "      <td>NaN</td>\n",
       "      <td>ATP biosynthetic process</td>\n",
       "      <td>GO:0006754</td>\n",
       "      <td>NaN</td>\n",
       "      <td>Homo sapiens</td>\n",
       "      <td>9606.0</td>\n",
       "      <td>10074-G5 analog results in decreased ATP biosy...</td>\n",
       "      <td>decreases^phenotype</td>\n",
       "      <td>1^Lung^D008168|2^Cell Line, Tumor^D045744</td>\n",
       "      <td>NaN</td>\n",
       "      <td>26036281</td>\n",
       "      <td>NaN</td>\n",
       "    </tr>\n",
       "  </tbody>\n",
       "</table>\n",
       "</div>"
      ],
      "text/plain": [
       "  chemicalname chemicalid casrn             phenotypename phenotypeid  \\\n",
       "0     10074-G5    C534883   NaN  ATP biosynthetic process  GO:0006754   \n",
       "1     10074-G5    C534883   NaN  ATP biosynthetic process  GO:0006754   \n",
       "\n",
       "  comentionedterms      organism  organismid  \\\n",
       "0              NaN  Homo sapiens      9606.0   \n",
       "1              NaN  Homo sapiens      9606.0   \n",
       "\n",
       "                                         interaction   interactionactions  \\\n",
       "0  10074-G5 analog results in decreased ATP biosy...  decreases^phenotype   \n",
       "1  10074-G5 analog results in decreased ATP biosy...  decreases^phenotype   \n",
       "\n",
       "                                anatomyterms inferencegenesymbols pubmedids  \\\n",
       "0                      1^HL-60 Cells^D018922                  NaN  26036281   \n",
       "1  1^Lung^D008168|2^Cell Line, Tumor^D045744                  NaN  26036281   \n",
       "\n",
       "   unnamed_13  \n",
       "0         NaN  \n",
       "1         NaN  "
      ]
     },
     "execution_count": 96,
     "metadata": {},
     "output_type": "execute_result"
    }
   ],
   "source": [
    "chem_pheno = read_ctd(load_dir.joinpath(e_files[7]))\n",
    "chem_pheno.head(2)"
   ]
  },
  {
   "cell_type": "code",
   "execution_count": 97,
   "metadata": {},
   "outputs": [
    {
     "data": {
      "text/plain": [
       "(185731, 14)"
      ]
     },
     "execution_count": 97,
     "metadata": {},
     "output_type": "execute_result"
    }
   ],
   "source": [
    "chem_pheno.shape"
   ]
  },
  {
   "cell_type": "code",
   "execution_count": 98,
   "metadata": {},
   "outputs": [],
   "source": [
    "chem_pheno = pr.expand_col_on_char(chem_pheno, 'interactionactions', '|')"
   ]
  },
  {
   "cell_type": "code",
   "execution_count": 99,
   "metadata": {},
   "outputs": [
    {
     "data": {
      "text/html": [
       "<div>\n",
       "<style scoped>\n",
       "    .dataframe tbody tr th:only-of-type {\n",
       "        vertical-align: middle;\n",
       "    }\n",
       "\n",
       "    .dataframe tbody tr th {\n",
       "        vertical-align: top;\n",
       "    }\n",
       "\n",
       "    .dataframe thead th {\n",
       "        text-align: right;\n",
       "    }\n",
       "</style>\n",
       "<table border=\"1\" class=\"dataframe\">\n",
       "  <thead>\n",
       "    <tr style=\"text-align: right;\">\n",
       "      <th></th>\n",
       "      <th>chemicalname</th>\n",
       "      <th>chemicalid</th>\n",
       "      <th>casrn</th>\n",
       "      <th>phenotypename</th>\n",
       "      <th>phenotypeid</th>\n",
       "      <th>comentionedterms</th>\n",
       "      <th>organism</th>\n",
       "      <th>organismid</th>\n",
       "      <th>interaction</th>\n",
       "      <th>interactionactions</th>\n",
       "      <th>anatomyterms</th>\n",
       "      <th>inferencegenesymbols</th>\n",
       "      <th>pubmedids</th>\n",
       "      <th>unnamed_13</th>\n",
       "      <th>parent_ixn</th>\n",
       "    </tr>\n",
       "  </thead>\n",
       "  <tbody>\n",
       "    <tr>\n",
       "      <th>0</th>\n",
       "      <td>10074-G5</td>\n",
       "      <td>C534883</td>\n",
       "      <td>NaN</td>\n",
       "      <td>ATP biosynthetic process</td>\n",
       "      <td>GO:0006754</td>\n",
       "      <td>NaN</td>\n",
       "      <td>Homo sapiens</td>\n",
       "      <td>9606</td>\n",
       "      <td>10074-G5 analog results in decreased ATP biosy...</td>\n",
       "      <td>decreases^phenotype</td>\n",
       "      <td>1^HL-60 Cells^D018922</td>\n",
       "      <td>NaN</td>\n",
       "      <td>26036281</td>\n",
       "      <td>NaN</td>\n",
       "      <td>decreases^phenotype</td>\n",
       "    </tr>\n",
       "    <tr>\n",
       "      <th>1</th>\n",
       "      <td>10074-G5</td>\n",
       "      <td>C534883</td>\n",
       "      <td>NaN</td>\n",
       "      <td>ATP biosynthetic process</td>\n",
       "      <td>GO:0006754</td>\n",
       "      <td>NaN</td>\n",
       "      <td>Homo sapiens</td>\n",
       "      <td>9606</td>\n",
       "      <td>10074-G5 analog results in decreased ATP biosy...</td>\n",
       "      <td>decreases^phenotype</td>\n",
       "      <td>1^Lung^D008168|2^Cell Line, Tumor^D045744</td>\n",
       "      <td>NaN</td>\n",
       "      <td>26036281</td>\n",
       "      <td>NaN</td>\n",
       "      <td>decreases^phenotype</td>\n",
       "    </tr>\n",
       "  </tbody>\n",
       "</table>\n",
       "</div>"
      ],
      "text/plain": [
       "  chemicalname chemicalid casrn             phenotypename phenotypeid  \\\n",
       "0     10074-G5    C534883   NaN  ATP biosynthetic process  GO:0006754   \n",
       "1     10074-G5    C534883   NaN  ATP biosynthetic process  GO:0006754   \n",
       "\n",
       "  comentionedterms      organism organismid  \\\n",
       "0              NaN  Homo sapiens       9606   \n",
       "1              NaN  Homo sapiens       9606   \n",
       "\n",
       "                                         interaction   interactionactions  \\\n",
       "0  10074-G5 analog results in decreased ATP biosy...  decreases^phenotype   \n",
       "1  10074-G5 analog results in decreased ATP biosy...  decreases^phenotype   \n",
       "\n",
       "                                anatomyterms inferencegenesymbols pubmedids  \\\n",
       "0                      1^HL-60 Cells^D018922                  NaN  26036281   \n",
       "1  1^Lung^D008168|2^Cell Line, Tumor^D045744                  NaN  26036281   \n",
       "\n",
       "   unnamed_13           parent_ixn  \n",
       "0         NaN  decreases^phenotype  \n",
       "1         NaN  decreases^phenotype  "
      ]
     },
     "execution_count": 99,
     "metadata": {},
     "output_type": "execute_result"
    }
   ],
   "source": [
    "chem_pheno['parent_ixn'] = chem_pheno['interactionactions'].apply(lambda x: ixn_map_to_par_full.get(x, x))\n",
    "idx = chem_pheno.dropna(subset=['organismid']).index\n",
    "chem_pheno.loc[idx, 'organismid'] = chem_pheno.loc[idx, 'organismid'].astype(int).astype(str)\n",
    "chem_pheno.head(2)"
   ]
  },
  {
   "cell_type": "code",
   "execution_count": 100,
   "metadata": {},
   "outputs": [
    {
     "name": "stdout",
     "output_type": "stream",
     "text": [
      "CPU times: user 36.6 s, sys: 400 ms, total: 37 s\n",
      "Wall time: 35.3 s\n"
     ]
    }
   ],
   "source": [
    "%%time\n",
    "chem_pheno = pr.combine_group_rows_on_char(chem_pheno, ['chemicalid', 'phenotypeid', 'parent_ixn'],\n",
    "                                                ['pubmedids', 'organismid'])"
   ]
  },
  {
   "cell_type": "code",
   "execution_count": 101,
   "metadata": {},
   "outputs": [
    {
     "data": {
      "text/plain": [
       "increases^phenotype                 37477\n",
       "decreases^reaction                  28480\n",
       "decreases^phenotype                 18896\n",
       "affects^phenotype                   11422\n",
       "affects^cotreatment                  9789\n",
       "increases^reaction                   6941\n",
       "increases^abundance                  2880\n",
       "affects^reaction                     2597\n",
       "decreases^abundance                  1736\n",
       "increases^response to substance       847\n",
       "affects^binding                       838\n",
       "affects^localization                  428\n",
       "decreases^activity                    423\n",
       "increases^expression                  400\n",
       "increases^activity                    388\n",
       "affects^response to substance         325\n",
       "decreases^response to substance       321\n",
       "increases^secretion                   300\n",
       "increases^chemical synthesis          236\n",
       "decreases^expression                  235\n",
       "decreases^chemical synthesis          139\n",
       "affects^abundance                     129\n",
       "increases^uptake                      119\n",
       "increases^oxidation                   118\n",
       "increases^metabolic processing        114\n",
       "decreases^uptake                      113\n",
       "decreases^secretion                   111\n",
       "decreases^metabolic processing         90\n",
       "increases^phosphorylation              76\n",
       "decreases^export                       71\n",
       "                                    ...  \n",
       "affects^chemical synthesis             11\n",
       "increases^glutathionylation            11\n",
       "increases^hydrolysis                   11\n",
       "increases^localization                  9\n",
       "increases^ubiquitination                8\n",
       "affects^degradation                     7\n",
       "affects^methylation                     6\n",
       "decreases^reduction                     5\n",
       "increases^sulfation                     5\n",
       "increases^glucuronidation               5\n",
       "affects^phosphorylation                 4\n",
       "decreases^ethylation                    4\n",
       "affects^folding                         4\n",
       "increases^ethylation                    4\n",
       "decreases^glutathionylation             4\n",
       "decreases^cleavage                      3\n",
       "decreases^localization                  3\n",
       "affects^N-linked glycosylation          3\n",
       "decreases^stability                     2\n",
       "increases^stability                     2\n",
       "affects^hydroxylation                   2\n",
       "affects^export                          2\n",
       "increases^nitrosation                   2\n",
       "affects^cleavage                        2\n",
       "decreases^sulfation                     2\n",
       "increases^glycosylation                 1\n",
       "decreases^glycosylation                 1\n",
       "affects^splicing                        1\n",
       "decreases^N-linked glycosylation        1\n",
       "decreases^ubiquitination                1\n",
       "Name: parent_ixn, Length: 84, dtype: int64"
      ]
     },
     "execution_count": 101,
     "metadata": {},
     "output_type": "execute_result"
    }
   ],
   "source": [
    "chem_pheno['parent_ixn'].value_counts()"
   ]
  },
  {
   "cell_type": "code",
   "execution_count": 102,
   "metadata": {},
   "outputs": [],
   "source": [
    "keep_pheno_ixns = [direction+'^phenotype' for direction in ixn_dirs]\n",
    "keep_pheno_ixns += [direction+'^reaction' for direction in ixn_dirs]"
   ]
  },
  {
   "cell_type": "code",
   "execution_count": 103,
   "metadata": {},
   "outputs": [],
   "source": [
    "cph_edges = chem_pheno[['chemicalid', 'phenotypeid', 'parent_ixn', 'pubmedids', 'organismid']]\n",
    "cph_edges = cph_edges.rename(columns={'chemicalid': 'start_id', 'phenotypeid': 'end_id', \n",
    "                                      'pubmedids': 'pub_med_ids', 'organismid': 'organism_id'})"
   ]
  },
  {
   "cell_type": "code",
   "execution_count": 104,
   "metadata": {},
   "outputs": [],
   "source": [
    "id_to_label = nodes.set_index('id')['label'].apply(lambda s: ''.join(c[0] for c in s.split(' '))).to_dict()"
   ]
  },
  {
   "cell_type": "code",
   "execution_count": 105,
   "metadata": {},
   "outputs": [
    {
     "data": {
      "text/html": [
       "<div>\n",
       "<style scoped>\n",
       "    .dataframe tbody tr th:only-of-type {\n",
       "        vertical-align: middle;\n",
       "    }\n",
       "\n",
       "    .dataframe tbody tr th {\n",
       "        vertical-align: top;\n",
       "    }\n",
       "\n",
       "    .dataframe thead th {\n",
       "        text-align: right;\n",
       "    }\n",
       "</style>\n",
       "<table border=\"1\" class=\"dataframe\">\n",
       "  <thead>\n",
       "    <tr style=\"text-align: right;\">\n",
       "      <th></th>\n",
       "      <th>start_id</th>\n",
       "      <th>end_id</th>\n",
       "      <th>parent_ixn</th>\n",
       "      <th>pub_med_ids</th>\n",
       "      <th>organism_id</th>\n",
       "      <th>abbv</th>\n",
       "      <th>type</th>\n",
       "    </tr>\n",
       "  </thead>\n",
       "  <tbody>\n",
       "    <tr>\n",
       "      <th>0</th>\n",
       "      <td>MESH:C000121</td>\n",
       "      <td>GO:0008283</td>\n",
       "      <td>decreases^phenotype</td>\n",
       "      <td>25899827</td>\n",
       "      <td>9606</td>\n",
       "      <td>CdpBP</td>\n",
       "      <td>decreases_phenotype_CdpBP</td>\n",
       "    </tr>\n",
       "    <tr>\n",
       "      <th>1</th>\n",
       "      <td>MESH:C000121</td>\n",
       "      <td>GO:0016477</td>\n",
       "      <td>decreases^phenotype</td>\n",
       "      <td>25899827</td>\n",
       "      <td>9606</td>\n",
       "      <td>CdpBP</td>\n",
       "      <td>decreases_phenotype_CdpBP</td>\n",
       "    </tr>\n",
       "    <tr>\n",
       "      <th>3</th>\n",
       "      <td>MESH:C000152</td>\n",
       "      <td>GO:0006702</td>\n",
       "      <td>decreases^phenotype</td>\n",
       "      <td>11118046</td>\n",
       "      <td>9606</td>\n",
       "      <td>CdpBP</td>\n",
       "      <td>decreases_phenotype_CdpBP</td>\n",
       "    </tr>\n",
       "    <tr>\n",
       "      <th>4</th>\n",
       "      <td>MESH:C000152</td>\n",
       "      <td>GO:0008284</td>\n",
       "      <td>decreases^phenotype</td>\n",
       "      <td>11118046</td>\n",
       "      <td>9606</td>\n",
       "      <td>CdpBP</td>\n",
       "      <td>decreases_phenotype_CdpBP</td>\n",
       "    </tr>\n",
       "    <tr>\n",
       "      <th>5</th>\n",
       "      <td>MESH:C000152</td>\n",
       "      <td>GO:0008284</td>\n",
       "      <td>decreases^reaction</td>\n",
       "      <td>11118046</td>\n",
       "      <td>9606</td>\n",
       "      <td>CdrBP</td>\n",
       "      <td>decreases_reaction_CdrBP</td>\n",
       "    </tr>\n",
       "  </tbody>\n",
       "</table>\n",
       "</div>"
      ],
      "text/plain": [
       "       start_id      end_id           parent_ixn pub_med_ids organism_id  \\\n",
       "0  MESH:C000121  GO:0008283  decreases^phenotype    25899827        9606   \n",
       "1  MESH:C000121  GO:0016477  decreases^phenotype    25899827        9606   \n",
       "3  MESH:C000152  GO:0006702  decreases^phenotype    11118046        9606   \n",
       "4  MESH:C000152  GO:0008284  decreases^phenotype    11118046        9606   \n",
       "5  MESH:C000152  GO:0008284   decreases^reaction    11118046        9606   \n",
       "\n",
       "    abbv                       type  \n",
       "0  CdpBP  decreases_phenotype_CdpBP  \n",
       "1  CdpBP  decreases_phenotype_CdpBP  \n",
       "3  CdpBP  decreases_phenotype_CdpBP  \n",
       "4  CdpBP  decreases_phenotype_CdpBP  \n",
       "5  CdrBP   decreases_reaction_CdrBP  "
      ]
     },
     "execution_count": 105,
     "metadata": {},
     "output_type": "execute_result"
    }
   ],
   "source": [
    "cph_edges = cph_edges.query('parent_ixn in @keep_pheno_ixns')\n",
    "\n",
    "cph_edges['abbv'] = 'C' + cph_edges['parent_ixn'].apply(lambda i: ''.join([s[0] for s in i.split('^')]))  \n",
    "cph_edges['abbv'] = cph_edges['abbv'] + cph_edges['end_id'].map(id_to_label)\n",
    "\n",
    "\n",
    "cph_edges['type'] = cph_edges['parent_ixn'].str.replace('^', '_') + '_' + cph_edges['abbv']\n",
    "cph_edges['start_id'] = 'MESH:' + cph_edges['start_id']\n",
    "\n",
    "cph_edges.head(5)"
   ]
  },
  {
   "cell_type": "code",
   "execution_count": 106,
   "metadata": {},
   "outputs": [],
   "source": [
    "cph_edges['source'] = 'CTD'\n",
    "cph_edges['evidence'] = 'curated'"
   ]
  },
  {
   "cell_type": "code",
   "execution_count": 107,
   "metadata": {},
   "outputs": [],
   "source": [
    "edges.append(cph_edges)"
   ]
  },
  {
   "cell_type": "code",
   "execution_count": 108,
   "metadata": {},
   "outputs": [
    {
     "data": {
      "text/plain": [
       "'CTD_Phenotype-Disease_biological_process_associations.csv.gz'"
      ]
     },
     "execution_count": 108,
     "metadata": {},
     "output_type": "execute_result"
    }
   ],
   "source": [
    "e_files[8]"
   ]
  },
  {
   "cell_type": "markdown",
   "metadata": {},
   "source": [
    "### Dis - BP"
   ]
  },
  {
   "cell_type": "code",
   "execution_count": 109,
   "metadata": {},
   "outputs": [
    {
     "data": {
      "text/html": [
       "<div>\n",
       "<style scoped>\n",
       "    .dataframe tbody tr th:only-of-type {\n",
       "        vertical-align: middle;\n",
       "    }\n",
       "\n",
       "    .dataframe tbody tr th {\n",
       "        vertical-align: top;\n",
       "    }\n",
       "\n",
       "    .dataframe thead th {\n",
       "        text-align: right;\n",
       "    }\n",
       "</style>\n",
       "<table border=\"1\" class=\"dataframe\">\n",
       "  <thead>\n",
       "    <tr style=\"text-align: right;\">\n",
       "      <th></th>\n",
       "      <th>goname</th>\n",
       "      <th>goid</th>\n",
       "      <th>disease_name</th>\n",
       "      <th>disease_id</th>\n",
       "      <th>inference_chemical_qty</th>\n",
       "      <th>inference_chemical_names</th>\n",
       "      <th>inference_gene_qty</th>\n",
       "      <th>inference_gene_symbols</th>\n",
       "    </tr>\n",
       "  </thead>\n",
       "  <tbody>\n",
       "    <tr>\n",
       "      <th>0</th>\n",
       "      <td>10-formyltetrahydrofolate biosynthetic process</td>\n",
       "      <td>GO:0009257</td>\n",
       "      <td>Abruptio Placentae</td>\n",
       "      <td>MESH:D000037</td>\n",
       "      <td>0</td>\n",
       "      <td>NaN</td>\n",
       "      <td>1</td>\n",
       "      <td>MTHFD1</td>\n",
       "    </tr>\n",
       "    <tr>\n",
       "      <th>1</th>\n",
       "      <td>10-formyltetrahydrofolate biosynthetic process</td>\n",
       "      <td>GO:0009257</td>\n",
       "      <td>Neural tube defect, folate-sensitive</td>\n",
       "      <td>MESH:C536409</td>\n",
       "      <td>0</td>\n",
       "      <td>NaN</td>\n",
       "      <td>1</td>\n",
       "      <td>MTHFD1</td>\n",
       "    </tr>\n",
       "  </tbody>\n",
       "</table>\n",
       "</div>"
      ],
      "text/plain": [
       "                                           goname        goid  \\\n",
       "0  10-formyltetrahydrofolate biosynthetic process  GO:0009257   \n",
       "1  10-formyltetrahydrofolate biosynthetic process  GO:0009257   \n",
       "\n",
       "                           disease_name    disease_id  inference_chemical_qty  \\\n",
       "0                    Abruptio Placentae  MESH:D000037                       0   \n",
       "1  Neural tube defect, folate-sensitive  MESH:C536409                       0   \n",
       "\n",
       "  inference_chemical_names  inference_gene_qty inference_gene_symbols  \n",
       "0                      NaN                   1                 MTHFD1  \n",
       "1                      NaN                   1                 MTHFD1  "
      ]
     },
     "execution_count": 109,
     "metadata": {},
     "output_type": "execute_result"
    }
   ],
   "source": [
    "dis_bp = read_ctd(load_dir.joinpath(e_files[8]))\n",
    "dis_bp.head(2)"
   ]
  },
  {
   "cell_type": "code",
   "execution_count": 110,
   "metadata": {},
   "outputs": [
    {
     "data": {
      "text/plain": [
       "(1802197, 8)"
      ]
     },
     "execution_count": 110,
     "metadata": {},
     "output_type": "execute_result"
    }
   ],
   "source": [
    "dis_bp.shape"
   ]
  },
  {
   "cell_type": "code",
   "execution_count": 111,
   "metadata": {},
   "outputs": [
    {
     "data": {
      "text/html": [
       "<div>\n",
       "<style scoped>\n",
       "    .dataframe tbody tr th:only-of-type {\n",
       "        vertical-align: middle;\n",
       "    }\n",
       "\n",
       "    .dataframe tbody tr th {\n",
       "        vertical-align: top;\n",
       "    }\n",
       "\n",
       "    .dataframe thead th {\n",
       "        text-align: right;\n",
       "    }\n",
       "</style>\n",
       "<table border=\"1\" class=\"dataframe\">\n",
       "  <thead>\n",
       "    <tr style=\"text-align: right;\">\n",
       "      <th></th>\n",
       "      <th>start_id</th>\n",
       "      <th>end_id</th>\n",
       "      <th>abbv</th>\n",
       "      <th>type</th>\n",
       "    </tr>\n",
       "  </thead>\n",
       "  <tbody>\n",
       "    <tr>\n",
       "      <th>0</th>\n",
       "      <td>GO:0009257</td>\n",
       "      <td>MESH:D000037</td>\n",
       "      <td>BPawD</td>\n",
       "      <td>associated_with_BPawD</td>\n",
       "    </tr>\n",
       "    <tr>\n",
       "      <th>1</th>\n",
       "      <td>GO:0009257</td>\n",
       "      <td>MESH:C536409</td>\n",
       "      <td>BPawD</td>\n",
       "      <td>associated_with_BPawD</td>\n",
       "    </tr>\n",
       "    <tr>\n",
       "      <th>2</th>\n",
       "      <td>GO:0009257</td>\n",
       "      <td>MESH:D009436</td>\n",
       "      <td>BPawD</td>\n",
       "      <td>associated_with_BPawD</td>\n",
       "    </tr>\n",
       "    <tr>\n",
       "      <th>3</th>\n",
       "      <td>GO:0009258</td>\n",
       "      <td>MESH:D056486</td>\n",
       "      <td>BPawD</td>\n",
       "      <td>associated_with_BPawD</td>\n",
       "    </tr>\n",
       "    <tr>\n",
       "      <th>4</th>\n",
       "      <td>GO:0009258</td>\n",
       "      <td>MESH:D000860</td>\n",
       "      <td>BPawD</td>\n",
       "      <td>associated_with_BPawD</td>\n",
       "    </tr>\n",
       "  </tbody>\n",
       "</table>\n",
       "</div>"
      ],
      "text/plain": [
       "     start_id        end_id   abbv                   type\n",
       "0  GO:0009257  MESH:D000037  BPawD  associated_with_BPawD\n",
       "1  GO:0009257  MESH:C536409  BPawD  associated_with_BPawD\n",
       "2  GO:0009257  MESH:D009436  BPawD  associated_with_BPawD\n",
       "3  GO:0009258  MESH:D056486  BPawD  associated_with_BPawD\n",
       "4  GO:0009258  MESH:D000860  BPawD  associated_with_BPawD"
      ]
     },
     "execution_count": 111,
     "metadata": {},
     "output_type": "execute_result"
    }
   ],
   "source": [
    "dbp_edges = dis_bp[['goid', 'disease_id']].rename(columns={'goid': 'start_id', 'disease_id': 'end_id'})\n",
    "dbp_edges['abbv'] = 'BPawD'\n",
    "dbp_edges['type'] = 'associated_with_' + dbp_edges['abbv']\n",
    "\n",
    "dbp_edges.head(5)"
   ]
  },
  {
   "cell_type": "code",
   "execution_count": 113,
   "metadata": {},
   "outputs": [],
   "source": [
    "dbp_edges['source'] = 'CTD'\n",
    "dbp_edges['evidence'] = 'computed'"
   ]
  },
  {
   "cell_type": "code",
   "execution_count": 114,
   "metadata": {},
   "outputs": [],
   "source": [
    "edges.append(dbp_edges)"
   ]
  },
  {
   "cell_type": "code",
   "execution_count": 115,
   "metadata": {},
   "outputs": [
    {
     "data": {
      "text/plain": [
       "'CTD_Phenotype-Disease_cellular_component_associations.csv.gz'"
      ]
     },
     "execution_count": 115,
     "metadata": {},
     "output_type": "execute_result"
    }
   ],
   "source": [
    "e_files[9]"
   ]
  },
  {
   "cell_type": "markdown",
   "metadata": {},
   "source": [
    "### Dis - CC"
   ]
  },
  {
   "cell_type": "code",
   "execution_count": 116,
   "metadata": {},
   "outputs": [
    {
     "data": {
      "text/html": [
       "<div>\n",
       "<style scoped>\n",
       "    .dataframe tbody tr th:only-of-type {\n",
       "        vertical-align: middle;\n",
       "    }\n",
       "\n",
       "    .dataframe tbody tr th {\n",
       "        vertical-align: top;\n",
       "    }\n",
       "\n",
       "    .dataframe thead th {\n",
       "        text-align: right;\n",
       "    }\n",
       "</style>\n",
       "<table border=\"1\" class=\"dataframe\">\n",
       "  <thead>\n",
       "    <tr style=\"text-align: right;\">\n",
       "      <th></th>\n",
       "      <th>goname</th>\n",
       "      <th>goid</th>\n",
       "      <th>disease_name</th>\n",
       "      <th>disease_id</th>\n",
       "      <th>inference_chemical_qty</th>\n",
       "      <th>inference_chemical_names</th>\n",
       "      <th>inference_gene_qty</th>\n",
       "      <th>inference_gene_symbols</th>\n",
       "    </tr>\n",
       "  </thead>\n",
       "  <tbody>\n",
       "    <tr>\n",
       "      <th>0</th>\n",
       "      <td>3M complex</td>\n",
       "      <td>GO:1990393</td>\n",
       "      <td>Autistic Disorder</td>\n",
       "      <td>MESH:D001321</td>\n",
       "      <td>0</td>\n",
       "      <td>NaN</td>\n",
       "      <td>1</td>\n",
       "      <td>CUL7</td>\n",
       "    </tr>\n",
       "    <tr>\n",
       "      <th>1</th>\n",
       "      <td>3M complex</td>\n",
       "      <td>GO:1990393</td>\n",
       "      <td>Carcinoma, Renal Cell</td>\n",
       "      <td>MESH:D002292</td>\n",
       "      <td>0</td>\n",
       "      <td>NaN</td>\n",
       "      <td>1</td>\n",
       "      <td>CUL7</td>\n",
       "    </tr>\n",
       "  </tbody>\n",
       "</table>\n",
       "</div>"
      ],
      "text/plain": [
       "       goname        goid           disease_name    disease_id  \\\n",
       "0  3M complex  GO:1990393      Autistic Disorder  MESH:D001321   \n",
       "1  3M complex  GO:1990393  Carcinoma, Renal Cell  MESH:D002292   \n",
       "\n",
       "   inference_chemical_qty inference_chemical_names  inference_gene_qty  \\\n",
       "0                       0                      NaN                   1   \n",
       "1                       0                      NaN                   1   \n",
       "\n",
       "  inference_gene_symbols  \n",
       "0                   CUL7  \n",
       "1                   CUL7  "
      ]
     },
     "execution_count": 116,
     "metadata": {},
     "output_type": "execute_result"
    }
   ],
   "source": [
    "dis_cc = read_ctd(load_dir.joinpath(e_files[9]))\n",
    "dis_cc.head(2)"
   ]
  },
  {
   "cell_type": "code",
   "execution_count": 117,
   "metadata": {},
   "outputs": [
    {
     "data": {
      "text/plain": [
       "(126497, 8)"
      ]
     },
     "execution_count": 117,
     "metadata": {},
     "output_type": "execute_result"
    }
   ],
   "source": [
    "dis_cc.shape"
   ]
  },
  {
   "cell_type": "code",
   "execution_count": 118,
   "metadata": {},
   "outputs": [
    {
     "data": {
      "text/html": [
       "<div>\n",
       "<style scoped>\n",
       "    .dataframe tbody tr th:only-of-type {\n",
       "        vertical-align: middle;\n",
       "    }\n",
       "\n",
       "    .dataframe tbody tr th {\n",
       "        vertical-align: top;\n",
       "    }\n",
       "\n",
       "    .dataframe thead th {\n",
       "        text-align: right;\n",
       "    }\n",
       "</style>\n",
       "<table border=\"1\" class=\"dataframe\">\n",
       "  <thead>\n",
       "    <tr style=\"text-align: right;\">\n",
       "      <th></th>\n",
       "      <th>start_id</th>\n",
       "      <th>end_id</th>\n",
       "      <th>abbv</th>\n",
       "      <th>type</th>\n",
       "    </tr>\n",
       "  </thead>\n",
       "  <tbody>\n",
       "    <tr>\n",
       "      <th>0</th>\n",
       "      <td>GO:1990393</td>\n",
       "      <td>MESH:D001321</td>\n",
       "      <td>CCawD</td>\n",
       "      <td>associated_with_CCawD</td>\n",
       "    </tr>\n",
       "    <tr>\n",
       "      <th>1</th>\n",
       "      <td>GO:1990393</td>\n",
       "      <td>MESH:D002292</td>\n",
       "      <td>CCawD</td>\n",
       "      <td>associated_with_CCawD</td>\n",
       "    </tr>\n",
       "    <tr>\n",
       "      <th>2</th>\n",
       "      <td>GO:1990393</td>\n",
       "      <td>MESH:C535314</td>\n",
       "      <td>CCawD</td>\n",
       "      <td>associated_with_CCawD</td>\n",
       "    </tr>\n",
       "    <tr>\n",
       "      <th>3</th>\n",
       "      <td>GO:1990393</td>\n",
       "      <td>MESH:C567862</td>\n",
       "      <td>CCawD</td>\n",
       "      <td>associated_with_CCawD</td>\n",
       "    </tr>\n",
       "    <tr>\n",
       "      <th>4</th>\n",
       "      <td>GO:1990393</td>\n",
       "      <td>MESH:D001749</td>\n",
       "      <td>CCawD</td>\n",
       "      <td>associated_with_CCawD</td>\n",
       "    </tr>\n",
       "  </tbody>\n",
       "</table>\n",
       "</div>"
      ],
      "text/plain": [
       "     start_id        end_id   abbv                   type\n",
       "0  GO:1990393  MESH:D001321  CCawD  associated_with_CCawD\n",
       "1  GO:1990393  MESH:D002292  CCawD  associated_with_CCawD\n",
       "2  GO:1990393  MESH:C535314  CCawD  associated_with_CCawD\n",
       "3  GO:1990393  MESH:C567862  CCawD  associated_with_CCawD\n",
       "4  GO:1990393  MESH:D001749  CCawD  associated_with_CCawD"
      ]
     },
     "execution_count": 118,
     "metadata": {},
     "output_type": "execute_result"
    }
   ],
   "source": [
    "dcc_edges = dis_cc[['goid', 'disease_id']].rename(columns={'goid': 'start_id', 'disease_id': 'end_id'})\n",
    "dcc_edges['abbv'] = 'CCawD'\n",
    "dcc_edges['type'] = 'associated_with_' + dcc_edges['abbv']\n",
    "\n",
    "dcc_edges.head(5)"
   ]
  },
  {
   "cell_type": "code",
   "execution_count": 119,
   "metadata": {},
   "outputs": [],
   "source": [
    "dcc_edges['source'] = 'CTD'\n",
    "dcc_edges['evidence'] = 'computed'"
   ]
  },
  {
   "cell_type": "code",
   "execution_count": 120,
   "metadata": {},
   "outputs": [],
   "source": [
    "edges.append(dcc_edges)"
   ]
  },
  {
   "cell_type": "code",
   "execution_count": 121,
   "metadata": {},
   "outputs": [
    {
     "data": {
      "text/plain": [
       "'CTD_Phenotype-Disease_molecular_function_associations.csv.gz'"
      ]
     },
     "execution_count": 121,
     "metadata": {},
     "output_type": "execute_result"
    }
   ],
   "source": [
    "e_files[10]"
   ]
  },
  {
   "cell_type": "markdown",
   "metadata": {},
   "source": [
    "### Dis - MF"
   ]
  },
  {
   "cell_type": "code",
   "execution_count": 122,
   "metadata": {},
   "outputs": [
    {
     "data": {
      "text/html": [
       "<div>\n",
       "<style scoped>\n",
       "    .dataframe tbody tr th:only-of-type {\n",
       "        vertical-align: middle;\n",
       "    }\n",
       "\n",
       "    .dataframe tbody tr th {\n",
       "        vertical-align: top;\n",
       "    }\n",
       "\n",
       "    .dataframe thead th {\n",
       "        text-align: right;\n",
       "    }\n",
       "</style>\n",
       "<table border=\"1\" class=\"dataframe\">\n",
       "  <thead>\n",
       "    <tr style=\"text-align: right;\">\n",
       "      <th></th>\n",
       "      <th>goname</th>\n",
       "      <th>goid</th>\n",
       "      <th>disease_name</th>\n",
       "      <th>disease_id</th>\n",
       "      <th>inference_chemical_qty</th>\n",
       "      <th>inference_chemical_names</th>\n",
       "      <th>inference_gene_qty</th>\n",
       "      <th>inference_gene_symbols</th>\n",
       "    </tr>\n",
       "  </thead>\n",
       "  <tbody>\n",
       "    <tr>\n",
       "      <th>0</th>\n",
       "      <td>10-hydroxy-9-(phosphonooxy)octadecanoate phosp...</td>\n",
       "      <td>GO:0033885</td>\n",
       "      <td>Acute Kidney Injury</td>\n",
       "      <td>MESH:D058186</td>\n",
       "      <td>0</td>\n",
       "      <td>NaN</td>\n",
       "      <td>1</td>\n",
       "      <td>EPHX2</td>\n",
       "    </tr>\n",
       "    <tr>\n",
       "      <th>1</th>\n",
       "      <td>10-hydroxy-9-(phosphonooxy)octadecanoate phosp...</td>\n",
       "      <td>GO:0033885</td>\n",
       "      <td>Autism Spectrum Disorder</td>\n",
       "      <td>MESH:D000067877</td>\n",
       "      <td>0</td>\n",
       "      <td>NaN</td>\n",
       "      <td>1</td>\n",
       "      <td>EPHX2</td>\n",
       "    </tr>\n",
       "  </tbody>\n",
       "</table>\n",
       "</div>"
      ],
      "text/plain": [
       "                                              goname        goid  \\\n",
       "0  10-hydroxy-9-(phosphonooxy)octadecanoate phosp...  GO:0033885   \n",
       "1  10-hydroxy-9-(phosphonooxy)octadecanoate phosp...  GO:0033885   \n",
       "\n",
       "               disease_name       disease_id  inference_chemical_qty  \\\n",
       "0       Acute Kidney Injury     MESH:D058186                       0   \n",
       "1  Autism Spectrum Disorder  MESH:D000067877                       0   \n",
       "\n",
       "  inference_chemical_names  inference_gene_qty inference_gene_symbols  \n",
       "0                      NaN                   1                  EPHX2  \n",
       "1                      NaN                   1                  EPHX2  "
      ]
     },
     "execution_count": 122,
     "metadata": {},
     "output_type": "execute_result"
    }
   ],
   "source": [
    "dis_mf = read_ctd(load_dir.joinpath(e_files[10]))\n",
    "dis_mf.head(2)"
   ]
  },
  {
   "cell_type": "code",
   "execution_count": 123,
   "metadata": {},
   "outputs": [
    {
     "data": {
      "text/plain": [
       "(200321, 8)"
      ]
     },
     "execution_count": 123,
     "metadata": {},
     "output_type": "execute_result"
    }
   ],
   "source": [
    "dis_mf.shape"
   ]
  },
  {
   "cell_type": "code",
   "execution_count": 124,
   "metadata": {},
   "outputs": [
    {
     "data": {
      "text/html": [
       "<div>\n",
       "<style scoped>\n",
       "    .dataframe tbody tr th:only-of-type {\n",
       "        vertical-align: middle;\n",
       "    }\n",
       "\n",
       "    .dataframe tbody tr th {\n",
       "        vertical-align: top;\n",
       "    }\n",
       "\n",
       "    .dataframe thead th {\n",
       "        text-align: right;\n",
       "    }\n",
       "</style>\n",
       "<table border=\"1\" class=\"dataframe\">\n",
       "  <thead>\n",
       "    <tr style=\"text-align: right;\">\n",
       "      <th></th>\n",
       "      <th>start_id</th>\n",
       "      <th>end_id</th>\n",
       "      <th>abbv</th>\n",
       "      <th>type</th>\n",
       "    </tr>\n",
       "  </thead>\n",
       "  <tbody>\n",
       "    <tr>\n",
       "      <th>0</th>\n",
       "      <td>GO:0033885</td>\n",
       "      <td>MESH:D058186</td>\n",
       "      <td>MFawD</td>\n",
       "      <td>associated_with_MFawD</td>\n",
       "    </tr>\n",
       "    <tr>\n",
       "      <th>1</th>\n",
       "      <td>GO:0033885</td>\n",
       "      <td>MESH:D000067877</td>\n",
       "      <td>MFawD</td>\n",
       "      <td>associated_with_MFawD</td>\n",
       "    </tr>\n",
       "    <tr>\n",
       "      <th>2</th>\n",
       "      <td>GO:0033885</td>\n",
       "      <td>MESH:D064420</td>\n",
       "      <td>MFawD</td>\n",
       "      <td>associated_with_MFawD</td>\n",
       "    </tr>\n",
       "    <tr>\n",
       "      <th>3</th>\n",
       "      <td>GO:0033885</td>\n",
       "      <td>MESH:D006333</td>\n",
       "      <td>MFawD</td>\n",
       "      <td>associated_with_MFawD</td>\n",
       "    </tr>\n",
       "    <tr>\n",
       "      <th>4</th>\n",
       "      <td>GO:0033885</td>\n",
       "      <td>OMIM:143890</td>\n",
       "      <td>MFawD</td>\n",
       "      <td>associated_with_MFawD</td>\n",
       "    </tr>\n",
       "  </tbody>\n",
       "</table>\n",
       "</div>"
      ],
      "text/plain": [
       "     start_id           end_id   abbv                   type\n",
       "0  GO:0033885     MESH:D058186  MFawD  associated_with_MFawD\n",
       "1  GO:0033885  MESH:D000067877  MFawD  associated_with_MFawD\n",
       "2  GO:0033885     MESH:D064420  MFawD  associated_with_MFawD\n",
       "3  GO:0033885     MESH:D006333  MFawD  associated_with_MFawD\n",
       "4  GO:0033885      OMIM:143890  MFawD  associated_with_MFawD"
      ]
     },
     "execution_count": 124,
     "metadata": {},
     "output_type": "execute_result"
    }
   ],
   "source": [
    "dmf_edges = dis_mf[['goid', 'disease_id']].rename(columns={'goid': 'start_id', 'disease_id': 'end_id'})\n",
    "dmf_edges['abbv'] = 'MFawD'\n",
    "dmf_edges['type'] = 'associated_with_' + dmf_edges['abbv']\n",
    "\n",
    "dmf_edges.head(5)"
   ]
  },
  {
   "cell_type": "code",
   "execution_count": 125,
   "metadata": {},
   "outputs": [],
   "source": [
    "dmf_edges['source'] = 'CTD'\n",
    "dmf_edges['evidence'] = 'computed'"
   ]
  },
  {
   "cell_type": "code",
   "execution_count": 126,
   "metadata": {},
   "outputs": [],
   "source": [
    "edges.append(dmf_edges)"
   ]
  },
  {
   "cell_type": "markdown",
   "metadata": {},
   "source": [
    "# Putting it all together"
   ]
  },
  {
   "cell_type": "code",
   "execution_count": 127,
   "metadata": {},
   "outputs": [
    {
     "data": {
      "text/html": [
       "<div>\n",
       "<style scoped>\n",
       "    .dataframe tbody tr th:only-of-type {\n",
       "        vertical-align: middle;\n",
       "    }\n",
       "\n",
       "    .dataframe tbody tr th {\n",
       "        vertical-align: top;\n",
       "    }\n",
       "\n",
       "    .dataframe thead th {\n",
       "        text-align: right;\n",
       "    }\n",
       "</style>\n",
       "<table border=\"1\" class=\"dataframe\">\n",
       "  <thead>\n",
       "    <tr style=\"text-align: right;\">\n",
       "      <th></th>\n",
       "      <th>start_id</th>\n",
       "      <th>end_id</th>\n",
       "      <th>parent_ixn</th>\n",
       "      <th>pub_med_ids</th>\n",
       "      <th>organism_id</th>\n",
       "      <th>abbv</th>\n",
       "      <th>type</th>\n",
       "      <th>source</th>\n",
       "      <th>evidence</th>\n",
       "      <th>direct_evidence</th>\n",
       "      <th>corrected_pvalue</th>\n",
       "      <th>inference_gene_symbol</th>\n",
       "    </tr>\n",
       "  </thead>\n",
       "  <tbody>\n",
       "    <tr>\n",
       "      <th>0</th>\n",
       "      <td>MESH:C000121</td>\n",
       "      <td>4313</td>\n",
       "      <td>decreases^activity</td>\n",
       "      <td>25899827</td>\n",
       "      <td>9606</td>\n",
       "      <td>CdaG</td>\n",
       "      <td>decreases_activity_CdaG</td>\n",
       "      <td>CTD</td>\n",
       "      <td>curated</td>\n",
       "      <td>NaN</td>\n",
       "      <td>NaN</td>\n",
       "      <td>NaN</td>\n",
       "    </tr>\n",
       "    <tr>\n",
       "      <th>1</th>\n",
       "      <td>MESH:C000121</td>\n",
       "      <td>4313</td>\n",
       "      <td>decreases^expression</td>\n",
       "      <td>25899827</td>\n",
       "      <td>9606</td>\n",
       "      <td>CdeG</td>\n",
       "      <td>decreases_expression_CdeG</td>\n",
       "      <td>CTD</td>\n",
       "      <td>curated</td>\n",
       "      <td>NaN</td>\n",
       "      <td>NaN</td>\n",
       "      <td>NaN</td>\n",
       "    </tr>\n",
       "  </tbody>\n",
       "</table>\n",
       "</div>"
      ],
      "text/plain": [
       "       start_id end_id            parent_ixn pub_med_ids organism_id  abbv  \\\n",
       "0  MESH:C000121   4313    decreases^activity    25899827        9606  CdaG   \n",
       "1  MESH:C000121   4313  decreases^expression    25899827        9606  CdeG   \n",
       "\n",
       "                        type source evidence direct_evidence  \\\n",
       "0    decreases_activity_CdaG    CTD  curated             NaN   \n",
       "1  decreases_expression_CdeG    CTD  curated             NaN   \n",
       "\n",
       "   corrected_pvalue inference_gene_symbol  \n",
       "0               NaN                   NaN  \n",
       "1               NaN                   NaN  "
      ]
     },
     "execution_count": 127,
     "metadata": {},
     "output_type": "execute_result"
    }
   ],
   "source": [
    "edges = pd.concat(edges, sort=False, ignore_index=True)\n",
    "edges.head(2)"
   ]
  },
  {
   "cell_type": "code",
   "execution_count": 128,
   "metadata": {},
   "outputs": [
    {
     "data": {
      "text/html": [
       "<div>\n",
       "<style scoped>\n",
       "    .dataframe tbody tr th:only-of-type {\n",
       "        vertical-align: middle;\n",
       "    }\n",
       "\n",
       "    .dataframe tbody tr th {\n",
       "        vertical-align: top;\n",
       "    }\n",
       "\n",
       "    .dataframe thead th {\n",
       "        text-align: right;\n",
       "    }\n",
       "</style>\n",
       "<table border=\"1\" class=\"dataframe\">\n",
       "  <thead>\n",
       "    <tr style=\"text-align: right;\">\n",
       "      <th></th>\n",
       "      <th>start_id</th>\n",
       "      <th>end_id</th>\n",
       "      <th>type</th>\n",
       "      <th>parent_ixn</th>\n",
       "      <th>pub_med_ids</th>\n",
       "      <th>organism_id</th>\n",
       "      <th>abbv</th>\n",
       "      <th>source</th>\n",
       "      <th>evidence</th>\n",
       "      <th>direct_evidence</th>\n",
       "      <th>corrected_pvalue</th>\n",
       "      <th>inference_gene_symbol</th>\n",
       "    </tr>\n",
       "  </thead>\n",
       "  <tbody>\n",
       "    <tr>\n",
       "      <th>0</th>\n",
       "      <td>MESH:C000121</td>\n",
       "      <td>4313</td>\n",
       "      <td>decreases_activity_CdaG</td>\n",
       "      <td>decreases^activity</td>\n",
       "      <td>25899827</td>\n",
       "      <td>9606</td>\n",
       "      <td>CdaG</td>\n",
       "      <td>CTD</td>\n",
       "      <td>curated</td>\n",
       "      <td>NaN</td>\n",
       "      <td>NaN</td>\n",
       "      <td>NaN</td>\n",
       "    </tr>\n",
       "    <tr>\n",
       "      <th>1</th>\n",
       "      <td>MESH:C000121</td>\n",
       "      <td>4313</td>\n",
       "      <td>decreases_expression_CdeG</td>\n",
       "      <td>decreases^expression</td>\n",
       "      <td>25899827</td>\n",
       "      <td>9606</td>\n",
       "      <td>CdeG</td>\n",
       "      <td>CTD</td>\n",
       "      <td>curated</td>\n",
       "      <td>NaN</td>\n",
       "      <td>NaN</td>\n",
       "      <td>NaN</td>\n",
       "    </tr>\n",
       "  </tbody>\n",
       "</table>\n",
       "</div>"
      ],
      "text/plain": [
       "       start_id end_id                       type            parent_ixn  \\\n",
       "0  MESH:C000121   4313    decreases_activity_CdaG    decreases^activity   \n",
       "1  MESH:C000121   4313  decreases_expression_CdeG  decreases^expression   \n",
       "\n",
       "  pub_med_ids organism_id  abbv source evidence direct_evidence  \\\n",
       "0    25899827        9606  CdaG    CTD  curated             NaN   \n",
       "1    25899827        9606  CdeG    CTD  curated             NaN   \n",
       "\n",
       "   corrected_pvalue inference_gene_symbol  \n",
       "0               NaN                   NaN  \n",
       "1               NaN                   NaN  "
      ]
     },
     "execution_count": 128,
     "metadata": {},
     "output_type": "execute_result"
    }
   ],
   "source": [
    "edges = edges[sorted(edges.columns, key=lambda x: x not in ['start_id', 'end_id', 'type'])]\n",
    "edges.head(2)"
   ]
  },
  {
   "cell_type": "code",
   "execution_count": 129,
   "metadata": {},
   "outputs": [
    {
     "data": {
      "text/plain": [
       "'5,359,668'"
      ]
     },
     "execution_count": 129,
     "metadata": {},
     "output_type": "execute_result"
    }
   ],
   "source": [
    "'{:,}'.format(len(edges))"
   ]
  },
  {
   "cell_type": "code",
   "execution_count": 130,
   "metadata": {},
   "outputs": [],
   "source": [
    "edge_ids = edges[['start_id', 'end_id']].stack().unique()"
   ]
  },
  {
   "cell_type": "code",
   "execution_count": 131,
   "metadata": {},
   "outputs": [
    {
     "data": {
      "text/plain": [
       "90726"
      ]
     },
     "execution_count": 131,
     "metadata": {},
     "output_type": "execute_result"
    }
   ],
   "source": [
    "len(edge_ids)"
   ]
  },
  {
   "cell_type": "code",
   "execution_count": 132,
   "metadata": {},
   "outputs": [
    {
     "name": "stdout",
     "output_type": "stream",
     "text": [
      "747,662\n",
      "90,736\n"
     ]
    }
   ],
   "source": [
    "print('{:,}'.format(len(nodes)))\n",
    "nodes_filt = nodes.query('id in @edge_ids')\n",
    "print('{:,}'.format(len(nodes_filt)))"
   ]
  },
  {
   "cell_type": "markdown",
   "metadata": {},
   "source": [
    "### Some QC on the nodes and edges..."
   ]
  },
  {
   "cell_type": "markdown",
   "metadata": {},
   "source": [
    "#### Make sure all IDs found in edges are also found in nodes..."
   ]
  },
  {
   "cell_type": "code",
   "execution_count": 133,
   "metadata": {},
   "outputs": [
    {
     "data": {
      "text/plain": [
       "25"
      ]
     },
     "execution_count": 133,
     "metadata": {},
     "output_type": "execute_result"
    }
   ],
   "source": [
    "len(set(edge_ids) - set(nodes['id']))"
   ]
  },
  {
   "cell_type": "code",
   "execution_count": 134,
   "metadata": {},
   "outputs": [
    {
     "data": {
      "text/plain": [
       "25"
      ]
     },
     "execution_count": 134,
     "metadata": {},
     "output_type": "execute_result"
    }
   ],
   "source": [
    "len(set(edge_ids) - set(nodes_filt['id']))"
   ]
  },
  {
   "cell_type": "code",
   "execution_count": 135,
   "metadata": {},
   "outputs": [
    {
     "data": {
      "text/plain": [
       "{'GO:0000060',\n",
       " 'GO:0004874',\n",
       " 'GO:0008565',\n",
       " 'GO:0015238',\n",
       " 'GO:0015307',\n",
       " 'GO:0017082',\n",
       " 'GO:0033160',\n",
       " 'GO:0033216',\n",
       " 'GO:0034437',\n",
       " 'GO:0038052',\n",
       " 'GO:0042891',\n",
       " 'GO:0042895',\n",
       " 'GO:0042954',\n",
       " 'GO:0097286',\n",
       " 'GO:0097689',\n",
       " 'GO:1903414',\n",
       " 'GO:1903756',\n",
       " 'GO:1903757',\n",
       " 'GO:1903758',\n",
       " 'GO:1904167',\n",
       " 'GO:1904169',\n",
       " 'GO:2000824',\n",
       " 'GO:2001273',\n",
       " 'GO:2001274',\n",
       " 'GO:2001275'}"
      ]
     },
     "execution_count": 135,
     "metadata": {},
     "output_type": "execute_result"
    }
   ],
   "source": [
    "set(edge_ids) - set(nodes_filt['id'])"
   ]
  },
  {
   "cell_type": "markdown",
   "metadata": {},
   "source": [
    "These are all Obsolete GO terms... so we will remove them from the graph.."
   ]
  },
  {
   "cell_type": "code",
   "execution_count": 136,
   "metadata": {},
   "outputs": [
    {
     "name": "stdout",
     "output_type": "stream",
     "text": [
      "Edges before: 5,359,668\n",
      "Edges after: 5,354,828\n"
     ]
    }
   ],
   "source": [
    "obsolete_go_terms = set(edge_ids) - set(nodes_filt['id'])\n",
    "print('Edges before: {:,}'.format(len(edges)))\n",
    "edges = edges.query('start_id not in @obsolete_go_terms and end_id not in @obsolete_go_terms')\n",
    "print('Edges after: {:,}'.format(len(edges)))"
   ]
  },
  {
   "cell_type": "markdown",
   "metadata": {},
   "source": [
    "#### Ensure all unique node identifiers have only 1 'label'"
   ]
  },
  {
   "cell_type": "code",
   "execution_count": 137,
   "metadata": {},
   "outputs": [
    {
     "name": "stdout",
     "output_type": "stream",
     "text": [
      "IDs with more than one type: 59\n"
     ]
    }
   ],
   "source": [
    "print('IDs with more than one type: {}'.format(nodes[nodes['id'].duplicated(keep=False)]['id'].nunique()))"
   ]
  },
  {
   "cell_type": "markdown",
   "metadata": {},
   "source": [
    "59 examples... let's look at the first 5 and see if there's a pattern.."
   ]
  },
  {
   "cell_type": "code",
   "execution_count": 138,
   "metadata": {},
   "outputs": [
    {
     "data": {
      "text/html": [
       "<div>\n",
       "<style scoped>\n",
       "    .dataframe tbody tr th:only-of-type {\n",
       "        vertical-align: middle;\n",
       "    }\n",
       "\n",
       "    .dataframe tbody tr th {\n",
       "        vertical-align: top;\n",
       "    }\n",
       "\n",
       "    .dataframe thead th {\n",
       "        text-align: right;\n",
       "    }\n",
       "</style>\n",
       "<table border=\"1\" class=\"dataframe\">\n",
       "  <thead>\n",
       "    <tr style=\"text-align: right;\">\n",
       "      <th></th>\n",
       "      <th>id</th>\n",
       "      <th>name</th>\n",
       "      <th>label</th>\n",
       "      <th>tree_numbers</th>\n",
       "      <th>drug_bank_ids</th>\n",
       "      <th>alt_disease_ids</th>\n",
       "      <th>gene_symbol</th>\n",
       "      <th>alt_gene_ids</th>\n",
       "      <th>bio_gridids</th>\n",
       "      <th>pharm_gkbids</th>\n",
       "      <th>uni_prot_ids</th>\n",
       "    </tr>\n",
       "  </thead>\n",
       "  <tbody>\n",
       "    <tr>\n",
       "      <th>100582</th>\n",
       "      <td>MESH:C536075</td>\n",
       "      <td>Hyaloideoretinal degeneration of Wagner</td>\n",
       "      <td>Compound</td>\n",
       "      <td>D09.698.735.200.750/C536075</td>\n",
       "      <td>NaN</td>\n",
       "      <td>NaN</td>\n",
       "      <td>NaN</td>\n",
       "      <td>NaN</td>\n",
       "      <td>NaN</td>\n",
       "      <td>NaN</td>\n",
       "      <td>NaN</td>\n",
       "    </tr>\n",
       "    <tr>\n",
       "      <th>176555</th>\n",
       "      <td>MESH:C536075</td>\n",
       "      <td>Hyaloideoretinal degeneration of Wagner</td>\n",
       "      <td>Disease</td>\n",
       "      <td>C11.270.612/C536075|C11.768.585/C536075</td>\n",
       "      <td>NaN</td>\n",
       "      <td>OMIM:143200</td>\n",
       "      <td>NaN</td>\n",
       "      <td>NaN</td>\n",
       "      <td>NaN</td>\n",
       "      <td>NaN</td>\n",
       "      <td>NaN</td>\n",
       "    </tr>\n",
       "    <tr>\n",
       "      <th>102253</th>\n",
       "      <td>MESH:C536285</td>\n",
       "      <td>Iminoglycinuria</td>\n",
       "      <td>Compound</td>\n",
       "      <td>D12.125.481/C536285</td>\n",
       "      <td>NaN</td>\n",
       "      <td>NaN</td>\n",
       "      <td>NaN</td>\n",
       "      <td>NaN</td>\n",
       "      <td>NaN</td>\n",
       "      <td>NaN</td>\n",
       "      <td>NaN</td>\n",
       "    </tr>\n",
       "    <tr>\n",
       "      <th>177023</th>\n",
       "      <td>MESH:C536285</td>\n",
       "      <td>Iminoglycinuria</td>\n",
       "      <td>Disease</td>\n",
       "      <td>C12.777.419.815/C536285|C13.351.968.419.815/C5...</td>\n",
       "      <td>NaN</td>\n",
       "      <td>OMIM:242600</td>\n",
       "      <td>NaN</td>\n",
       "      <td>NaN</td>\n",
       "      <td>NaN</td>\n",
       "      <td>NaN</td>\n",
       "      <td>NaN</td>\n",
       "    </tr>\n",
       "    <tr>\n",
       "      <th>78949</th>\n",
       "      <td>MESH:C557815</td>\n",
       "      <td>Deficiency of interleukin-1 receptor antagonist</td>\n",
       "      <td>Compound</td>\n",
       "      <td>D23.529.374.460/C557815</td>\n",
       "      <td>NaN</td>\n",
       "      <td>NaN</td>\n",
       "      <td>NaN</td>\n",
       "      <td>NaN</td>\n",
       "      <td>NaN</td>\n",
       "      <td>NaN</td>\n",
       "      <td>NaN</td>\n",
       "    </tr>\n",
       "    <tr>\n",
       "      <th>174279</th>\n",
       "      <td>MESH:C557815</td>\n",
       "      <td>Deficiency of interleukin-1 receptor antagonist</td>\n",
       "      <td>Disease</td>\n",
       "      <td>C16.320.382/C557815|C17.800.827.368/C557815</td>\n",
       "      <td>NaN</td>\n",
       "      <td>NaN</td>\n",
       "      <td>NaN</td>\n",
       "      <td>NaN</td>\n",
       "      <td>NaN</td>\n",
       "      <td>NaN</td>\n",
       "      <td>NaN</td>\n",
       "    </tr>\n",
       "    <tr>\n",
       "      <th>97525</th>\n",
       "      <td>MESH:C562477</td>\n",
       "      <td>Halothane Hepatitis</td>\n",
       "      <td>Compound</td>\n",
       "      <td>D02.455.526.340/C562477</td>\n",
       "      <td>NaN</td>\n",
       "      <td>NaN</td>\n",
       "      <td>NaN</td>\n",
       "      <td>NaN</td>\n",
       "      <td>NaN</td>\n",
       "      <td>NaN</td>\n",
       "      <td>NaN</td>\n",
       "    </tr>\n",
       "    <tr>\n",
       "      <th>176126</th>\n",
       "      <td>MESH:C562477</td>\n",
       "      <td>Halothane Hepatitis</td>\n",
       "      <td>Disease</td>\n",
       "      <td>C06.552.100/C562477|C25.100.562/C562477|C25.72...</td>\n",
       "      <td>NaN</td>\n",
       "      <td>NaN</td>\n",
       "      <td>NaN</td>\n",
       "      <td>NaN</td>\n",
       "      <td>NaN</td>\n",
       "      <td>NaN</td>\n",
       "      <td>NaN</td>\n",
       "    </tr>\n",
       "    <tr>\n",
       "      <th>114485</th>\n",
       "      <td>MESH:C562609</td>\n",
       "      <td>Metachromatic Leukodystrophy due to Saposin B ...</td>\n",
       "      <td>Compound</td>\n",
       "      <td>D08.211.790.500/C562609</td>\n",
       "      <td>NaN</td>\n",
       "      <td>NaN</td>\n",
       "      <td>NaN</td>\n",
       "      <td>NaN</td>\n",
       "      <td>NaN</td>\n",
       "      <td>NaN</td>\n",
       "      <td>NaN</td>\n",
       "    </tr>\n",
       "    <tr>\n",
       "      <th>178638</th>\n",
       "      <td>MESH:C562609</td>\n",
       "      <td>Metachromatic Leukodystrophy due to Saposin B ...</td>\n",
       "      <td>Disease</td>\n",
       "      <td>C10.228.140.163.100.362.550/C562609|C10.228.14...</td>\n",
       "      <td>NaN</td>\n",
       "      <td>OMIM:249900</td>\n",
       "      <td>NaN</td>\n",
       "      <td>NaN</td>\n",
       "      <td>NaN</td>\n",
       "      <td>NaN</td>\n",
       "      <td>NaN</td>\n",
       "    </tr>\n",
       "  </tbody>\n",
       "</table>\n",
       "</div>"
      ],
      "text/plain": [
       "                  id                                               name  \\\n",
       "100582  MESH:C536075            Hyaloideoretinal degeneration of Wagner   \n",
       "176555  MESH:C536075            Hyaloideoretinal degeneration of Wagner   \n",
       "102253  MESH:C536285                                    Iminoglycinuria   \n",
       "177023  MESH:C536285                                    Iminoglycinuria   \n",
       "78949   MESH:C557815    Deficiency of interleukin-1 receptor antagonist   \n",
       "174279  MESH:C557815    Deficiency of interleukin-1 receptor antagonist   \n",
       "97525   MESH:C562477                                Halothane Hepatitis   \n",
       "176126  MESH:C562477                                Halothane Hepatitis   \n",
       "114485  MESH:C562609  Metachromatic Leukodystrophy due to Saposin B ...   \n",
       "178638  MESH:C562609  Metachromatic Leukodystrophy due to Saposin B ...   \n",
       "\n",
       "           label                                       tree_numbers  \\\n",
       "100582  Compound                        D09.698.735.200.750/C536075   \n",
       "176555   Disease            C11.270.612/C536075|C11.768.585/C536075   \n",
       "102253  Compound                                D12.125.481/C536285   \n",
       "177023   Disease  C12.777.419.815/C536285|C13.351.968.419.815/C5...   \n",
       "78949   Compound                            D23.529.374.460/C557815   \n",
       "174279   Disease        C16.320.382/C557815|C17.800.827.368/C557815   \n",
       "97525   Compound                            D02.455.526.340/C562477   \n",
       "176126   Disease  C06.552.100/C562477|C25.100.562/C562477|C25.72...   \n",
       "114485  Compound                            D08.211.790.500/C562609   \n",
       "178638   Disease  C10.228.140.163.100.362.550/C562609|C10.228.14...   \n",
       "\n",
       "       drug_bank_ids alt_disease_ids gene_symbol alt_gene_ids bio_gridids  \\\n",
       "100582           NaN             NaN         NaN          NaN         NaN   \n",
       "176555           NaN     OMIM:143200         NaN          NaN         NaN   \n",
       "102253           NaN             NaN         NaN          NaN         NaN   \n",
       "177023           NaN     OMIM:242600         NaN          NaN         NaN   \n",
       "78949            NaN             NaN         NaN          NaN         NaN   \n",
       "174279           NaN             NaN         NaN          NaN         NaN   \n",
       "97525            NaN             NaN         NaN          NaN         NaN   \n",
       "176126           NaN             NaN         NaN          NaN         NaN   \n",
       "114485           NaN             NaN         NaN          NaN         NaN   \n",
       "178638           NaN     OMIM:249900         NaN          NaN         NaN   \n",
       "\n",
       "       pharm_gkbids uni_prot_ids  \n",
       "100582          NaN          NaN  \n",
       "176555          NaN          NaN  \n",
       "102253          NaN          NaN  \n",
       "177023          NaN          NaN  \n",
       "78949           NaN          NaN  \n",
       "174279          NaN          NaN  \n",
       "97525           NaN          NaN  \n",
       "176126          NaN          NaN  \n",
       "114485          NaN          NaN  \n",
       "178638          NaN          NaN  "
      ]
     },
     "execution_count": 138,
     "metadata": {},
     "output_type": "execute_result"
    }
   ],
   "source": [
    "nodes[nodes['id'].duplicated(keep=False)].sort_values('id').head(10)"
   ]
  },
  {
   "cell_type": "markdown",
   "metadata": {},
   "source": [
    "They appear to be diseases mis-labeld as compounds in some instances...."
   ]
  },
  {
   "cell_type": "code",
   "execution_count": 139,
   "metadata": {},
   "outputs": [
    {
     "data": {
      "text/plain": [
       "label\n",
       "Compound    59\n",
       "Disease     59\n",
       "Name: id, dtype: int64"
      ]
     },
     "execution_count": 139,
     "metadata": {},
     "output_type": "execute_result"
    }
   ],
   "source": [
    "nodes[nodes['id'].duplicated(keep=False)].groupby('label')['id'].nunique()"
   ]
  },
  {
   "cell_type": "markdown",
   "metadata": {},
   "source": [
    "All of these duplicated IDs are represented as both a Compound and a Disease... So we will drop the compound version"
   ]
  },
  {
   "cell_type": "code",
   "execution_count": 140,
   "metadata": {},
   "outputs": [
    {
     "name": "stdout",
     "output_type": "stream",
     "text": [
      "Unique IDs in Edges 90,698\n",
      "Nodes before dropping: 90,736\n",
      "Nodes after dropping: 90,698\n"
     ]
    }
   ],
   "source": [
    "drop_node_idx = nodes[nodes['id'].duplicated(keep=False)].query('label == \"Compound\"').index\n",
    "nodes = nodes.drop(drop_node_idx)\n",
    "\n",
    "edge_ids = edges[['start_id', 'end_id']].stack().unique()\n",
    "print('Unique IDs in Edges {:,}'.format(len(edge_ids)))\n",
    "print('Nodes before dropping: {:,}'.format(len(nodes_filt)))\n",
    "nodes_filt = nodes.query('id in @edge_ids')\n",
    "print('Nodes after dropping: {:,}'.format(len(nodes_filt)))"
   ]
  },
  {
   "cell_type": "markdown",
   "metadata": {},
   "source": [
    "#### Validate Node types match edge labels"
   ]
  },
  {
   "cell_type": "markdown",
   "metadata": {},
   "source": [
    "Finally, we want to make sure our node typing is all correct...\n",
    "Nodes that say they're a compound appear as compounds in the edge file, etc...."
   ]
  },
  {
   "cell_type": "code",
   "execution_count": 141,
   "metadata": {},
   "outputs": [],
   "source": [
    "node_abv_to_full = {'C': 'Compound',\n",
    "                    'D': 'Disease',\n",
    "                    'G': 'Gene',\n",
    "                    'PW': 'Pathway',\n",
    "                    'MF': 'Molecular Function',\n",
    "                    'BP': 'Biological Process',\n",
    "                    'CC': 'Cellular Component'}"
   ]
  },
  {
   "cell_type": "code",
   "execution_count": 142,
   "metadata": {},
   "outputs": [
    {
     "data": {
      "text/html": [
       "<div>\n",
       "<style scoped>\n",
       "    .dataframe tbody tr th:only-of-type {\n",
       "        vertical-align: middle;\n",
       "    }\n",
       "\n",
       "    .dataframe tbody tr th {\n",
       "        vertical-align: top;\n",
       "    }\n",
       "\n",
       "    .dataframe thead th {\n",
       "        text-align: right;\n",
       "    }\n",
       "</style>\n",
       "<table border=\"1\" class=\"dataframe\">\n",
       "  <thead>\n",
       "    <tr style=\"text-align: right;\">\n",
       "      <th></th>\n",
       "      <th>start_id</th>\n",
       "      <th>start_name</th>\n",
       "      <th>start_label</th>\n",
       "      <th>type</th>\n",
       "      <th>abbv</th>\n",
       "      <th>end_id</th>\n",
       "      <th>end_name</th>\n",
       "      <th>end_label</th>\n",
       "    </tr>\n",
       "  </thead>\n",
       "  <tbody>\n",
       "    <tr>\n",
       "      <th>0</th>\n",
       "      <td>MESH:C000121</td>\n",
       "      <td>pipoxolan</td>\n",
       "      <td>Compound</td>\n",
       "      <td>decreases_activity_CdaG</td>\n",
       "      <td>CdaG</td>\n",
       "      <td>4313</td>\n",
       "      <td>matrix metallopeptidase 2</td>\n",
       "      <td>Gene</td>\n",
       "    </tr>\n",
       "    <tr>\n",
       "      <th>1</th>\n",
       "      <td>MESH:C000121</td>\n",
       "      <td>pipoxolan</td>\n",
       "      <td>Compound</td>\n",
       "      <td>decreases_expression_CdeG</td>\n",
       "      <td>CdeG</td>\n",
       "      <td>4313</td>\n",
       "      <td>matrix metallopeptidase 2</td>\n",
       "      <td>Gene</td>\n",
       "    </tr>\n",
       "  </tbody>\n",
       "</table>\n",
       "</div>"
      ],
      "text/plain": [
       "       start_id start_name start_label                       type  abbv  \\\n",
       "0  MESH:C000121  pipoxolan    Compound    decreases_activity_CdaG  CdaG   \n",
       "1  MESH:C000121  pipoxolan    Compound  decreases_expression_CdeG  CdeG   \n",
       "\n",
       "  end_id                   end_name end_label  \n",
       "0   4313  matrix metallopeptidase 2      Gene  \n",
       "1   4313  matrix metallopeptidase 2      Gene  "
      ]
     },
     "execution_count": 142,
     "metadata": {},
     "output_type": "execute_result"
    }
   ],
   "source": [
    "# combine_nodes_and_edges uses typing from the node dataframe to type out the concpets in the edge\n",
    "combo = gt.combine_nodes_and_edges(nodes, edges)\n",
    "col_order = ['start_id', 'start_name', 'start_label', 'type', 'abbv', 'end_id', 'end_name', 'end_label']\n",
    "combo.head(2)[col_order]"
   ]
  },
  {
   "cell_type": "code",
   "execution_count": 143,
   "metadata": {},
   "outputs": [
    {
     "data": {
      "text/html": [
       "<div>\n",
       "<style scoped>\n",
       "    .dataframe tbody tr th:only-of-type {\n",
       "        vertical-align: middle;\n",
       "    }\n",
       "\n",
       "    .dataframe tbody tr th {\n",
       "        vertical-align: top;\n",
       "    }\n",
       "\n",
       "    .dataframe thead th {\n",
       "        text-align: right;\n",
       "    }\n",
       "</style>\n",
       "<table border=\"1\" class=\"dataframe\">\n",
       "  <thead>\n",
       "    <tr style=\"text-align: right;\">\n",
       "      <th></th>\n",
       "      <th>start_id</th>\n",
       "      <th>start_name</th>\n",
       "      <th>start_label</th>\n",
       "      <th>type</th>\n",
       "      <th>abbv</th>\n",
       "      <th>end_id</th>\n",
       "      <th>end_name</th>\n",
       "      <th>end_label</th>\n",
       "      <th>actual_start</th>\n",
       "      <th>actual_end</th>\n",
       "    </tr>\n",
       "  </thead>\n",
       "  <tbody>\n",
       "    <tr>\n",
       "      <th>0</th>\n",
       "      <td>MESH:C000121</td>\n",
       "      <td>pipoxolan</td>\n",
       "      <td>Compound</td>\n",
       "      <td>decreases_activity_CdaG</td>\n",
       "      <td>CdaG</td>\n",
       "      <td>4313</td>\n",
       "      <td>matrix metallopeptidase 2</td>\n",
       "      <td>Gene</td>\n",
       "      <td>Compound</td>\n",
       "      <td>Gene</td>\n",
       "    </tr>\n",
       "    <tr>\n",
       "      <th>1</th>\n",
       "      <td>MESH:C000121</td>\n",
       "      <td>pipoxolan</td>\n",
       "      <td>Compound</td>\n",
       "      <td>decreases_expression_CdeG</td>\n",
       "      <td>CdeG</td>\n",
       "      <td>4313</td>\n",
       "      <td>matrix metallopeptidase 2</td>\n",
       "      <td>Gene</td>\n",
       "      <td>Compound</td>\n",
       "      <td>Gene</td>\n",
       "    </tr>\n",
       "  </tbody>\n",
       "</table>\n",
       "</div>"
      ],
      "text/plain": [
       "       start_id start_name start_label                       type  abbv  \\\n",
       "0  MESH:C000121  pipoxolan    Compound    decreases_activity_CdaG  CdaG   \n",
       "1  MESH:C000121  pipoxolan    Compound  decreases_expression_CdeG  CdeG   \n",
       "\n",
       "  end_id                   end_name end_label actual_start actual_end  \n",
       "0   4313  matrix metallopeptidase 2      Gene     Compound       Gene  \n",
       "1   4313  matrix metallopeptidase 2      Gene     Compound       Gene  "
      ]
     },
     "execution_count": 143,
     "metadata": {},
     "output_type": "execute_result"
    }
   ],
   "source": [
    "# The edge abbreviation will have the desired typing of these two, so we can compare the two to see if \n",
    "# any edges have concepts that are mis-typed...\n",
    "combo['actual_start'] = combo['abbv'].apply(lambda a: node_abv_to_full[gt.parse_edge_abbrev(a)[0]])\n",
    "combo['actual_end'] = combo['abbv'].apply(lambda a: node_abv_to_full[gt.parse_edge_abbrev(a)[2]])\n",
    "col_order += ['actual_start', 'actual_end']\n",
    "combo.head(2)[col_order]"
   ]
  },
  {
   "cell_type": "code",
   "execution_count": 144,
   "metadata": {},
   "outputs": [
    {
     "data": {
      "text/html": [
       "<div>\n",
       "<style scoped>\n",
       "    .dataframe tbody tr th:only-of-type {\n",
       "        vertical-align: middle;\n",
       "    }\n",
       "\n",
       "    .dataframe tbody tr th {\n",
       "        vertical-align: top;\n",
       "    }\n",
       "\n",
       "    .dataframe thead th {\n",
       "        text-align: right;\n",
       "    }\n",
       "</style>\n",
       "<table border=\"1\" class=\"dataframe\">\n",
       "  <thead>\n",
       "    <tr style=\"text-align: right;\">\n",
       "      <th></th>\n",
       "      <th>start_id</th>\n",
       "      <th>start_name</th>\n",
       "      <th>start_label</th>\n",
       "      <th>type</th>\n",
       "      <th>abbv</th>\n",
       "      <th>end_id</th>\n",
       "      <th>end_name</th>\n",
       "      <th>end_label</th>\n",
       "      <th>actual_start</th>\n",
       "      <th>actual_end</th>\n",
       "    </tr>\n",
       "  </thead>\n",
       "  <tbody>\n",
       "    <tr>\n",
       "      <th>1107641</th>\n",
       "      <td>MESH:C564403</td>\n",
       "      <td>Coenzyme Q10 Deficiency</td>\n",
       "      <td>Disease</td>\n",
       "      <td>marker_or_mechanism_CmD</td>\n",
       "      <td>CmD</td>\n",
       "      <td>MESH:D003865</td>\n",
       "      <td>Depressive Disorder, Major</td>\n",
       "      <td>Disease</td>\n",
       "      <td>Compound</td>\n",
       "      <td>Disease</td>\n",
       "    </tr>\n",
       "    <tr>\n",
       "      <th>1107642</th>\n",
       "      <td>MESH:C564403</td>\n",
       "      <td>Coenzyme Q10 Deficiency</td>\n",
       "      <td>Disease</td>\n",
       "      <td>marker_or_mechanism_CmD</td>\n",
       "      <td>CmD</td>\n",
       "      <td>MESH:D006333</td>\n",
       "      <td>Heart Failure</td>\n",
       "      <td>Disease</td>\n",
       "      <td>Compound</td>\n",
       "      <td>Disease</td>\n",
       "    </tr>\n",
       "    <tr>\n",
       "      <th>1107643</th>\n",
       "      <td>MESH:C564403</td>\n",
       "      <td>Coenzyme Q10 Deficiency</td>\n",
       "      <td>Disease</td>\n",
       "      <td>marker_or_mechanism_CmD</td>\n",
       "      <td>CmD</td>\n",
       "      <td>MESH:D009203</td>\n",
       "      <td>Myocardial Infarction</td>\n",
       "      <td>Disease</td>\n",
       "      <td>Compound</td>\n",
       "      <td>Disease</td>\n",
       "    </tr>\n",
       "    <tr>\n",
       "      <th>1903827</th>\n",
       "      <td>MESH:D065606</td>\n",
       "      <td>Metabolic Side Effects of Drugs and Substances</td>\n",
       "      <td>Disease</td>\n",
       "      <td>associated_with_CawPW</td>\n",
       "      <td>CawPW</td>\n",
       "      <td>REACT:R-HSA-211859</td>\n",
       "      <td>Biological oxidations</td>\n",
       "      <td>Pathway</td>\n",
       "      <td>Compound</td>\n",
       "      <td>Pathway</td>\n",
       "    </tr>\n",
       "    <tr>\n",
       "      <th>1903828</th>\n",
       "      <td>MESH:D065606</td>\n",
       "      <td>Metabolic Side Effects of Drugs and Substances</td>\n",
       "      <td>Disease</td>\n",
       "      <td>associated_with_CawPW</td>\n",
       "      <td>CawPW</td>\n",
       "      <td>KEGG:hsa_M00109</td>\n",
       "      <td>C21-Steroid hormone biosynthesis, progesterone...</td>\n",
       "      <td>Pathway</td>\n",
       "      <td>Compound</td>\n",
       "      <td>Pathway</td>\n",
       "    </tr>\n",
       "    <tr>\n",
       "      <th>1903829</th>\n",
       "      <td>MESH:D065606</td>\n",
       "      <td>Metabolic Side Effects of Drugs and Substances</td>\n",
       "      <td>Disease</td>\n",
       "      <td>associated_with_CawPW</td>\n",
       "      <td>CawPW</td>\n",
       "      <td>REACT:R-HSA-211897</td>\n",
       "      <td>Cytochrome P450 - arranged by substrate type</td>\n",
       "      <td>Pathway</td>\n",
       "      <td>Compound</td>\n",
       "      <td>Pathway</td>\n",
       "    </tr>\n",
       "    <tr>\n",
       "      <th>1903830</th>\n",
       "      <td>MESH:D065606</td>\n",
       "      <td>Metabolic Side Effects of Drugs and Substances</td>\n",
       "      <td>Disease</td>\n",
       "      <td>associated_with_CawPW</td>\n",
       "      <td>CawPW</td>\n",
       "      <td>REACT:R-HSA-211976</td>\n",
       "      <td>Endogenous sterols</td>\n",
       "      <td>Pathway</td>\n",
       "      <td>Compound</td>\n",
       "      <td>Pathway</td>\n",
       "    </tr>\n",
       "    <tr>\n",
       "      <th>1903831</th>\n",
       "      <td>MESH:D065606</td>\n",
       "      <td>Metabolic Side Effects of Drugs and Substances</td>\n",
       "      <td>Disease</td>\n",
       "      <td>associated_with_CawPW</td>\n",
       "      <td>CawPW</td>\n",
       "      <td>REACT:R-HSA-194002</td>\n",
       "      <td>Glucocorticoid biosynthesis</td>\n",
       "      <td>Pathway</td>\n",
       "      <td>Compound</td>\n",
       "      <td>Pathway</td>\n",
       "    </tr>\n",
       "    <tr>\n",
       "      <th>1903832</th>\n",
       "      <td>MESH:D065606</td>\n",
       "      <td>Metabolic Side Effects of Drugs and Substances</td>\n",
       "      <td>Disease</td>\n",
       "      <td>associated_with_CawPW</td>\n",
       "      <td>CawPW</td>\n",
       "      <td>REACT:R-HSA-556833</td>\n",
       "      <td>Metabolism of lipids and lipoproteins</td>\n",
       "      <td>Pathway</td>\n",
       "      <td>Compound</td>\n",
       "      <td>Pathway</td>\n",
       "    </tr>\n",
       "    <tr>\n",
       "      <th>1903833</th>\n",
       "      <td>MESH:D065606</td>\n",
       "      <td>Metabolic Side Effects of Drugs and Substances</td>\n",
       "      <td>Disease</td>\n",
       "      <td>associated_with_CawPW</td>\n",
       "      <td>CawPW</td>\n",
       "      <td>REACT:R-HSA-196071</td>\n",
       "      <td>Metabolism of steroid hormones</td>\n",
       "      <td>Pathway</td>\n",
       "      <td>Compound</td>\n",
       "      <td>Pathway</td>\n",
       "    </tr>\n",
       "    <tr>\n",
       "      <th>1903834</th>\n",
       "      <td>MESH:D065606</td>\n",
       "      <td>Metabolic Side Effects of Drugs and Substances</td>\n",
       "      <td>Disease</td>\n",
       "      <td>associated_with_CawPW</td>\n",
       "      <td>CawPW</td>\n",
       "      <td>REACT:R-HSA-211945</td>\n",
       "      <td>Phase 1 - Functionalization of compounds</td>\n",
       "      <td>Pathway</td>\n",
       "      <td>Compound</td>\n",
       "      <td>Pathway</td>\n",
       "    </tr>\n",
       "    <tr>\n",
       "      <th>1903835</th>\n",
       "      <td>MESH:D065606</td>\n",
       "      <td>Metabolic Side Effects of Drugs and Substances</td>\n",
       "      <td>Disease</td>\n",
       "      <td>associated_with_CawPW</td>\n",
       "      <td>CawPW</td>\n",
       "      <td>KEGG:hsa00140</td>\n",
       "      <td>Steroid hormone biosynthesis</td>\n",
       "      <td>Pathway</td>\n",
       "      <td>Compound</td>\n",
       "      <td>Pathway</td>\n",
       "    </tr>\n",
       "  </tbody>\n",
       "</table>\n",
       "</div>"
      ],
      "text/plain": [
       "             start_id                                      start_name  \\\n",
       "1107641  MESH:C564403                         Coenzyme Q10 Deficiency   \n",
       "1107642  MESH:C564403                         Coenzyme Q10 Deficiency   \n",
       "1107643  MESH:C564403                         Coenzyme Q10 Deficiency   \n",
       "1903827  MESH:D065606  Metabolic Side Effects of Drugs and Substances   \n",
       "1903828  MESH:D065606  Metabolic Side Effects of Drugs and Substances   \n",
       "1903829  MESH:D065606  Metabolic Side Effects of Drugs and Substances   \n",
       "1903830  MESH:D065606  Metabolic Side Effects of Drugs and Substances   \n",
       "1903831  MESH:D065606  Metabolic Side Effects of Drugs and Substances   \n",
       "1903832  MESH:D065606  Metabolic Side Effects of Drugs and Substances   \n",
       "1903833  MESH:D065606  Metabolic Side Effects of Drugs and Substances   \n",
       "1903834  MESH:D065606  Metabolic Side Effects of Drugs and Substances   \n",
       "1903835  MESH:D065606  Metabolic Side Effects of Drugs and Substances   \n",
       "\n",
       "        start_label                     type   abbv              end_id  \\\n",
       "1107641     Disease  marker_or_mechanism_CmD    CmD        MESH:D003865   \n",
       "1107642     Disease  marker_or_mechanism_CmD    CmD        MESH:D006333   \n",
       "1107643     Disease  marker_or_mechanism_CmD    CmD        MESH:D009203   \n",
       "1903827     Disease    associated_with_CawPW  CawPW  REACT:R-HSA-211859   \n",
       "1903828     Disease    associated_with_CawPW  CawPW     KEGG:hsa_M00109   \n",
       "1903829     Disease    associated_with_CawPW  CawPW  REACT:R-HSA-211897   \n",
       "1903830     Disease    associated_with_CawPW  CawPW  REACT:R-HSA-211976   \n",
       "1903831     Disease    associated_with_CawPW  CawPW  REACT:R-HSA-194002   \n",
       "1903832     Disease    associated_with_CawPW  CawPW  REACT:R-HSA-556833   \n",
       "1903833     Disease    associated_with_CawPW  CawPW  REACT:R-HSA-196071   \n",
       "1903834     Disease    associated_with_CawPW  CawPW  REACT:R-HSA-211945   \n",
       "1903835     Disease    associated_with_CawPW  CawPW       KEGG:hsa00140   \n",
       "\n",
       "                                                  end_name end_label  \\\n",
       "1107641                         Depressive Disorder, Major   Disease   \n",
       "1107642                                      Heart Failure   Disease   \n",
       "1107643                              Myocardial Infarction   Disease   \n",
       "1903827                              Biological oxidations   Pathway   \n",
       "1903828  C21-Steroid hormone biosynthesis, progesterone...   Pathway   \n",
       "1903829       Cytochrome P450 - arranged by substrate type   Pathway   \n",
       "1903830                                 Endogenous sterols   Pathway   \n",
       "1903831                        Glucocorticoid biosynthesis   Pathway   \n",
       "1903832              Metabolism of lipids and lipoproteins   Pathway   \n",
       "1903833                     Metabolism of steroid hormones   Pathway   \n",
       "1903834           Phase 1 - Functionalization of compounds   Pathway   \n",
       "1903835                       Steroid hormone biosynthesis   Pathway   \n",
       "\n",
       "        actual_start actual_end  \n",
       "1107641     Compound    Disease  \n",
       "1107642     Compound    Disease  \n",
       "1107643     Compound    Disease  \n",
       "1903827     Compound    Pathway  \n",
       "1903828     Compound    Pathway  \n",
       "1903829     Compound    Pathway  \n",
       "1903830     Compound    Pathway  \n",
       "1903831     Compound    Pathway  \n",
       "1903832     Compound    Pathway  \n",
       "1903833     Compound    Pathway  \n",
       "1903834     Compound    Pathway  \n",
       "1903835     Compound    Pathway  "
      ]
     },
     "execution_count": 144,
     "metadata": {},
     "output_type": "execute_result"
    }
   ],
   "source": [
    "combo.query('actual_start != start_label or actual_end != end_label')[col_order]"
   ]
  },
  {
   "cell_type": "markdown",
   "metadata": {},
   "source": [
    "These are all diseases that should be classified as compounds... similar to our duplicated node IDs above.  Likely, they appear because the disease is a compound deficiency, or otherwise highly related to a compound, as in the compound is a causative agent for the disease.\n",
    "\n",
    "We'll drop them for now."
   ]
  },
  {
   "cell_type": "code",
   "execution_count": 145,
   "metadata": {},
   "outputs": [],
   "source": [
    "bad_edge = combo.query('actual_start != start_label or actual_end != end_label').index\n",
    "edges = edges.drop(bad_edge)"
   ]
  },
  {
   "cell_type": "markdown",
   "metadata": {},
   "source": [
    "# Final Stats"
   ]
  },
  {
   "cell_type": "code",
   "execution_count": 146,
   "metadata": {},
   "outputs": [
    {
     "name": "stdout",
     "output_type": "stream",
     "text": [
      "Nodes: 90,698\n",
      "Edges: 5,354,816\n"
     ]
    }
   ],
   "source": [
    "print('Nodes: {:,}'.format(len(nodes_filt)))\n",
    "print('Edges: {:,}'.format(len(edges)))"
   ]
  },
  {
   "cell_type": "code",
   "execution_count": 147,
   "metadata": {},
   "outputs": [
    {
     "data": {
      "text/plain": [
       "Gene                  516505\n",
       "Compound              170729\n",
       "Biological Process     29704\n",
       "Disease                12989\n",
       "Molecular Function     11113\n",
       "Cellular Component      4200\n",
       "Pathway                 2363\n",
       "Name: label, dtype: int64"
      ]
     },
     "execution_count": 147,
     "metadata": {},
     "output_type": "execute_result"
    }
   ],
   "source": [
    "nodes['label'].value_counts()"
   ]
  },
  {
   "cell_type": "code",
   "execution_count": 148,
   "metadata": {},
   "outputs": [
    {
     "data": {
      "text/plain": [
       "associated_with_BPawD        1798362\n",
       "associated_with_CawPW        1215923\n",
       "associated_with_DawPW         563169\n",
       "increases_expression_CieG     479825\n",
       "decreases_expression_CdeG     410983\n",
       "associated_with_MFawD         199530\n",
       "affects_expression_CaeG       137093\n",
       "part_of_GpoPW                 135809\n",
       "associated_with_CCawD         126497\n",
       "marker_or_mechanism_CmD        62912\n",
       "increases_phenotype_CipBP      35984\n",
       "therapeutic_CtD                34573\n",
       "marker_or_mechanism_GmD        29342\n",
       "increases_activity_CiaG        29001\n",
       "decreases_reaction_CdrBP       26730\n",
       "decreases_activity_CdaG        21926\n",
       "decreases_phenotype_CdpBP      16993\n",
       "affects_phenotype_CapBP        11221\n",
       "increases_reaction_CirBP        6694\n",
       "affects_reaction_CarBP          2419\n",
       "affects_activity_CaaG           2382\n",
       "therapeutic_GtD                 1890\n",
       "decreases_phenotype_CdpMF       1831\n",
       "decreases_reaction_CdrMF        1662\n",
       "increases_phenotype_CipMF       1337\n",
       "increases_reaction_CirMF         220\n",
       "affects_phenotype_CapMF          189\n",
       "affects_reaction_CarMF           176\n",
       "decreases_phenotype_CdpCC         44\n",
       "increases_phenotype_CipCC         43\n",
       "decreases_reaction_CdrCC          31\n",
       "increases_reaction_CirCC          14\n",
       "affects_phenotype_CapCC            9\n",
       "affects_reaction_CarCC             2\n",
       "Name: type, dtype: int64"
      ]
     },
     "execution_count": 148,
     "metadata": {},
     "output_type": "execute_result"
    }
   ],
   "source": [
    "edges['type'].value_counts()"
   ]
  },
  {
   "cell_type": "markdown",
   "metadata": {},
   "source": [
    "# Saving it out"
   ]
  },
  {
   "cell_type": "code",
   "execution_count": 149,
   "metadata": {},
   "outputs": [
    {
     "data": {
      "application/javascript": [
       "IPython.notebook.kernel.execute('nb_name = \"' + IPython.notebook.notebook_name + '\"')\n",
       "// hack to get the filename for this notebook"
      ],
      "text/plain": [
       "<IPython.core.display.Javascript object>"
      ]
     },
     "metadata": {},
     "output_type": "display_data"
    }
   ],
   "source": [
    "%%javascript\n",
    "IPython.notebook.kernel.execute('nb_name = \"' + IPython.notebook.notebook_name + '\"')\n",
    "// hack to get the filename for this notebook"
   ]
  },
  {
   "cell_type": "code",
   "execution_count": 150,
   "metadata": {},
   "outputs": [],
   "source": [
    "out_dir = Path('../2_pipeline/').joinpath(nb_name.split('.')[0]).joinpath('out')\n",
    "if not out_dir.exists():\n",
    "    out_dir.mkdir(parent=True)"
   ]
  },
  {
   "cell_type": "code",
   "execution_count": 151,
   "metadata": {},
   "outputs": [],
   "source": [
    "gt.add_colons(nodes, id_name='identifier').to_csv(out_dir.joinpath('nodes_all.csv'), index=False)\n",
    "gt.add_colons(nodes_filt, id_name='identifier').to_csv(out_dir.joinpath('nodes_filt.csv'), index=False)\n",
    "\n",
    "gt.add_colons(edges).to_csv(out_dir.joinpath('edges.csv'), index=False)"
   ]
  },
  {
   "cell_type": "markdown",
   "metadata": {},
   "source": [
    "Didn't end up using the parent to child mappings, but lets save them for easy access in future uses"
   ]
  },
  {
   "cell_type": "code",
   "execution_count": 152,
   "metadata": {},
   "outputs": [],
   "source": [
    "from itertools import chain\n",
    "\n",
    "comp_p2c_df = pd.DataFrame({'parent_id': list(chain(*[[k]*len(v) for k, v in comp_p2c.items()])), \n",
    "                                'child_id': list(chain(*[v for k, v in comp_p2c.items()])) })\n",
    "comp_p2c_df['type'] = 'Compound'\n",
    "\n",
    "\n",
    "dis_p2c_df = pd.DataFrame({'parent_id': list(chain(*[[k]*len(v) for k, v in dis_p2c_map.items()])), \n",
    "                                'child_id': list(chain(*[v for k, v in dis_p2c_map.items()])) })\n",
    "dis_p2c_df['type'] = 'Disease'\n",
    "\n",
    "go_p2c_df = pd.DataFrame({'parent_id': list(chain(*[[k]*len(v) for k, v in go_p2c_map.items()])), \n",
    "                                'child_id': list(chain(*[v for k, v in go_p2c_map.items()])) })\n",
    "go_p2c_df['type'] = 'GO'\n",
    "\n",
    "p_to_c = pd.concat([comp_p2c_df, dis_p2c_df, go_p2c_df], sort=False)\n",
    "p_to_c.to_csv(out_dir.joinpath('parent_to_child_mappings.csv'), index=False)"
   ]
  }
 ],
 "metadata": {
  "kernelspec": {
   "display_name": "Python 3",
   "language": "python",
   "name": "python3"
  },
  "language_info": {
   "codemirror_mode": {
    "name": "ipython",
    "version": 3
   },
   "file_extension": ".py",
   "mimetype": "text/x-python",
   "name": "python",
   "nbconvert_exporter": "python",
   "pygments_lexer": "ipython3",
   "version": "3.6.8"
  }
 },
 "nbformat": 4,
 "nbformat_minor": 2
}
