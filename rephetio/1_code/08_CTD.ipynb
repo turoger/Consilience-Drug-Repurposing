{
 "cells": [
  {
   "cell_type": "markdown",
   "metadata": {},
   "source": [
    "# Building out the CTD network\n",
    "\n",
    "We've downloaded the files from CTD.  Some contain node to node relationships, others contian information about the nodes including identifiers and hierarchial structures.  We will use these data to build a node and edges file that can be imported into neo4j"
   ]
  },
  {
   "cell_type": "code",
   "execution_count": 1,
   "metadata": {},
   "outputs": [
    {
     "name": "stderr",
     "output_type": "stream",
     "text": [
      "/home/mmayers/software/miniconda3/envs/ml/lib/python3.7/site-packages/data_tools/df_processing.py:4: TqdmExperimentalWarning: Using `tqdm.autonotebook.tqdm` in notebook mode. Use `tqdm.tqdm` instead to force console mode (e.g. in jupyter console)\n",
      "  from tqdm.autonotebook import tqdm\n"
     ]
    }
   ],
   "source": [
    "# python package imports\n",
    "import numpy as np\n",
    "import pandas as pd\n",
    "from pathlib import Path\n",
    "from copy import deepcopy                                                                                               \n",
    "from itertools import chain                                                                                             \n",
    "from collections import defaultdict\n",
    "\n",
    "import data_tools.graphs as gt\n",
    "from data_tools import df_processing as pr\n",
    "\n",
    "from tools.hetnet_file_processing import read_ctd"
   ]
  },
  {
   "cell_type": "code",
   "execution_count": 2,
   "metadata": {},
   "outputs": [],
   "source": [
    "file_info = pd.read_csv('../0_data/manual/edge_file_info.csv')\n",
    "load_dir = Path('../2_pipeline/00_download_data/out/').resolve()"
   ]
  },
  {
   "cell_type": "code",
   "execution_count": 3,
   "metadata": {},
   "outputs": [],
   "source": [
    "id_files = file_info.query('file_source == \"CTD\" and file_type == \"ids\"').set_index('source_type')"
   ]
  },
  {
   "cell_type": "markdown",
   "metadata": {},
   "source": [
    "# Nodes"
   ]
  },
  {
   "cell_type": "code",
   "execution_count": 4,
   "metadata": {},
   "outputs": [],
   "source": [
    "nodes = list()"
   ]
  },
  {
   "cell_type": "markdown",
   "metadata": {},
   "source": [
    "### Compounds"
   ]
  },
  {
   "cell_type": "code",
   "execution_count": 5,
   "metadata": {},
   "outputs": [
    {
     "data": {
      "text/html": [
       "<div>\n",
       "<style scoped>\n",
       "    .dataframe tbody tr th:only-of-type {\n",
       "        vertical-align: middle;\n",
       "    }\n",
       "\n",
       "    .dataframe tbody tr th {\n",
       "        vertical-align: top;\n",
       "    }\n",
       "\n",
       "    .dataframe thead th {\n",
       "        text-align: right;\n",
       "    }\n",
       "</style>\n",
       "<table border=\"1\" class=\"dataframe\">\n",
       "  <thead>\n",
       "    <tr style=\"text-align: right;\">\n",
       "      <th></th>\n",
       "      <th>chemical_name</th>\n",
       "      <th>chemical_id</th>\n",
       "      <th>cas_rn</th>\n",
       "      <th>definition</th>\n",
       "      <th>parent_ids</th>\n",
       "      <th>tree_numbers</th>\n",
       "      <th>parent_tree_numbers</th>\n",
       "      <th>synonyms</th>\n",
       "      <th>drug_bank_ids</th>\n",
       "    </tr>\n",
       "  </thead>\n",
       "  <tbody>\n",
       "    <tr>\n",
       "      <th>0</th>\n",
       "      <td>(0.017ferrocene)amylose</td>\n",
       "      <td>MESH:C089250</td>\n",
       "      <td>NaN</td>\n",
       "      <td>NaN</td>\n",
       "      <td>MESH:D000688|MESH:D005296</td>\n",
       "      <td>D01.490.200/C089250|D02.691.550.200/C089250|D0...</td>\n",
       "      <td>D01.490.200|D02.691.550.200|D09.301.915.361|D0...</td>\n",
       "      <td>(0.017 ferrocene)amylose</td>\n",
       "      <td>NaN</td>\n",
       "    </tr>\n",
       "    <tr>\n",
       "      <th>1</th>\n",
       "      <td>001-C8-NBD</td>\n",
       "      <td>MESH:C114385</td>\n",
       "      <td>NaN</td>\n",
       "      <td>NaN</td>\n",
       "      <td>MESH:D009842|MESH:D010069</td>\n",
       "      <td>D03.383.129.462.580/C114385|D12.644.456/C114385</td>\n",
       "      <td>D03.383.129.462.580|D12.644.456</td>\n",
       "      <td>001 C8 NBD|H-MeTyr-Arg-MeArg-D-Leu-NH(CH2)8NH-...</td>\n",
       "      <td>NaN</td>\n",
       "    </tr>\n",
       "  </tbody>\n",
       "</table>\n",
       "</div>"
      ],
      "text/plain": [
       "             chemical_name   chemical_id cas_rn definition  \\\n",
       "0  (0.017ferrocene)amylose  MESH:C089250    NaN        NaN   \n",
       "1               001-C8-NBD  MESH:C114385    NaN        NaN   \n",
       "\n",
       "                  parent_ids  \\\n",
       "0  MESH:D000688|MESH:D005296   \n",
       "1  MESH:D009842|MESH:D010069   \n",
       "\n",
       "                                        tree_numbers  \\\n",
       "0  D01.490.200/C089250|D02.691.550.200/C089250|D0...   \n",
       "1    D03.383.129.462.580/C114385|D12.644.456/C114385   \n",
       "\n",
       "                                 parent_tree_numbers  \\\n",
       "0  D01.490.200|D02.691.550.200|D09.301.915.361|D0...   \n",
       "1                    D03.383.129.462.580|D12.644.456   \n",
       "\n",
       "                                            synonyms drug_bank_ids  \n",
       "0                           (0.017 ferrocene)amylose           NaN  \n",
       "1  001 C8 NBD|H-MeTyr-Arg-MeArg-D-Leu-NH(CH2)8NH-...           NaN  "
      ]
     },
     "execution_count": 5,
     "metadata": {},
     "output_type": "execute_result"
    }
   ],
   "source": [
    "compound_info = read_ctd(load_dir.joinpath(id_files.loc['Compound', 'file_name']))\n",
    "compound_info.head(2)"
   ]
  },
  {
   "cell_type": "markdown",
   "metadata": {},
   "source": [
    "ID and name are required for making a node file.  We will use the parent IDs to make a tree of the hierarchy, to better mapping of edges.  Finally, keeping info like tree numbers and any xrefs (like drugbank) will be useful for future network joining and analysis of compound classes."
   ]
  },
  {
   "cell_type": "code",
   "execution_count": 6,
   "metadata": {},
   "outputs": [
    {
     "data": {
      "text/html": [
       "<div>\n",
       "<style scoped>\n",
       "    .dataframe tbody tr th:only-of-type {\n",
       "        vertical-align: middle;\n",
       "    }\n",
       "\n",
       "    .dataframe tbody tr th {\n",
       "        vertical-align: top;\n",
       "    }\n",
       "\n",
       "    .dataframe thead th {\n",
       "        text-align: right;\n",
       "    }\n",
       "</style>\n",
       "<table border=\"1\" class=\"dataframe\">\n",
       "  <thead>\n",
       "    <tr style=\"text-align: right;\">\n",
       "      <th></th>\n",
       "      <th>id</th>\n",
       "      <th>name</th>\n",
       "      <th>tree_numbers</th>\n",
       "      <th>drug_bank_ids</th>\n",
       "      <th>label</th>\n",
       "    </tr>\n",
       "  </thead>\n",
       "  <tbody>\n",
       "    <tr>\n",
       "      <th>0</th>\n",
       "      <td>MESH:C089250</td>\n",
       "      <td>(0.017ferrocene)amylose</td>\n",
       "      <td>D01.490.200/C089250|D02.691.550.200/C089250|D0...</td>\n",
       "      <td>NaN</td>\n",
       "      <td>Compound</td>\n",
       "    </tr>\n",
       "    <tr>\n",
       "      <th>1</th>\n",
       "      <td>MESH:C114385</td>\n",
       "      <td>001-C8-NBD</td>\n",
       "      <td>D03.383.129.462.580/C114385|D12.644.456/C114385</td>\n",
       "      <td>NaN</td>\n",
       "      <td>Compound</td>\n",
       "    </tr>\n",
       "    <tr>\n",
       "      <th>2</th>\n",
       "      <td>MESH:C114386</td>\n",
       "      <td>001-C8 oligopeptide</td>\n",
       "      <td>D12.644.456/C114386</td>\n",
       "      <td>NaN</td>\n",
       "      <td>Compound</td>\n",
       "    </tr>\n",
       "    <tr>\n",
       "      <th>3</th>\n",
       "      <td>MESH:C434150</td>\n",
       "      <td>0231A , Streptomyces</td>\n",
       "      <td>D03.633.400/C434150</td>\n",
       "      <td>NaN</td>\n",
       "      <td>Compound</td>\n",
       "    </tr>\n",
       "    <tr>\n",
       "      <th>4</th>\n",
       "      <td>MESH:C434149</td>\n",
       "      <td>0231B, Streptomyces</td>\n",
       "      <td>D03.633.400/C434149</td>\n",
       "      <td>NaN</td>\n",
       "      <td>Compound</td>\n",
       "    </tr>\n",
       "  </tbody>\n",
       "</table>\n",
       "</div>"
      ],
      "text/plain": [
       "             id                     name  \\\n",
       "0  MESH:C089250  (0.017ferrocene)amylose   \n",
       "1  MESH:C114385               001-C8-NBD   \n",
       "2  MESH:C114386      001-C8 oligopeptide   \n",
       "3  MESH:C434150     0231A , Streptomyces   \n",
       "4  MESH:C434149      0231B, Streptomyces   \n",
       "\n",
       "                                        tree_numbers drug_bank_ids     label  \n",
       "0  D01.490.200/C089250|D02.691.550.200/C089250|D0...           NaN  Compound  \n",
       "1    D03.383.129.462.580/C114385|D12.644.456/C114385           NaN  Compound  \n",
       "2                                D12.644.456/C114386           NaN  Compound  \n",
       "3                                D03.633.400/C434150           NaN  Compound  \n",
       "4                                D03.633.400/C434149           NaN  Compound  "
      ]
     },
     "execution_count": 6,
     "metadata": {},
     "output_type": "execute_result"
    }
   ],
   "source": [
    "comp_nodes = compound_info[['chemical_id', 'chemical_name', 'tree_numbers', 'drug_bank_ids']]\n",
    "comp_nodes = comp_nodes.rename(columns={'chemical_id': 'id', 'chemical_name': 'name'})\n",
    "comp_nodes['label'] = 'Compound'\n",
    "\n",
    "comp_nodes.head(5)"
   ]
  },
  {
   "cell_type": "code",
   "execution_count": 7,
   "metadata": {},
   "outputs": [],
   "source": [
    "nodes.append(comp_nodes)"
   ]
  },
  {
   "cell_type": "code",
   "execution_count": 8,
   "metadata": {},
   "outputs": [],
   "source": [
    "def get_parent_to_child_map(df, parent_col, child_col, sep='|', verbose=False):                                         \n",
    "    \"\"\"                                                                                                                 \n",
    "    Gets a map from the parent ID to IDs of all children (and children of children etc.)                                \n",
    "    Source dataframe (EG, CTD)                                                                                          \n",
    "    \"\"\"                                                                                                                 \n",
    "    # Initialize the map                                                                                                \n",
    "    par_to_children = defaultdict(set)                                                                                  \n",
    "    expanded = pr.expand_col_on_char(df.dropna(subset=[parent_col]), parent_col, sep)                                      \n",
    "                                                                                                                        \n",
    "    # Get mappings from child to local parents                                                                          \n",
    "    for row in expanded.itertuples():                                                                                   \n",
    "        par_to_children[getattr(row, parent_col)].add(getattr(row, child_col))                                          \n",
    "                                                                                                                        \n",
    "    # Extend the map... parents map to local children, but need mapping to the children of children, too                \n",
    "    par_to_children = extend_map(par_to_children, verbose)                                                              \n",
    "                                                                                                                        \n",
    "    # Discard empty values (default_dict will add an empty one when simply accessed)                                    \n",
    "    par_to_children = {k: v for k, v in par_to_children.items() if len(v) > 0}                                          \n",
    "                                                                                                                        \n",
    "    return par_to_children   \n",
    "\n",
    "\n",
    "def extend_map(mapper, verbose=False):                                                                                  \n",
    "    \"\"\"                                                                                                                 \n",
    "    Takes a dict mapper of a tree (e.g. parents to children) a extends down so parents map to all                       \n",
    "    intermediate children, terminating at a leaf.                                                                       \n",
    "    \"\"\"                                                                                                                 \n",
    "                                                                                                                        \n",
    "    prev_total_mappings = 0                                                                                             \n",
    "    total_mappings = len(list(chain(*mapper.values())))                                                                 \n",
    "    num_iter = 0                                                                                                        \n",
    "    i = 0                                                                                                               \n",
    "                                                                                                                        \n",
    "    while (total_mappings != prev_total_mappings):                                                                      \n",
    "        prev_total_mappings = len(list(chain(*mapper.values())))                                                        \n",
    "        current_map = deepcopy(mapper)                                                                                  \n",
    "        for k, v in current_map.items():                                                                                \n",
    "            for val in v:                                                                                               \n",
    "                mapper[k].update(mapper[val])                                                                           \n",
    "        total_mappings = len(list(chain(*mapper.values())))                                                             \n",
    "                                                                                                                        \n",
    "                                                                                                                        \n",
    "        if verbose:                                                                                                     \n",
    "            num_iter += total_mappings                                                                                  \n",
    "            # Print an update every 10 Million iterations (approx)                                                      \n",
    "            if i == 0 or np.floor(num_iter / 1e7) - np.floor((num_iter - total_mappings) / 1e7) > 0:                    \n",
    "                print('Iter: {}, Total Mappings: {:,}'.format(i, total_mappings))                                       \n",
    "        i += 1                                                                                                          \n",
    "                                                                                                                        \n",
    "    return mapper \n",
    "\n",
    "\n",
    "def make_child_to_root_map(df, parent_col, child_col, sep='|', verbose=False):                                          \n",
    "    \"\"\"                                                                                                                 \n",
    "    In a dataframe where one column is child identfiers, and another parent,                                            \n",
    "    creates a map from child to root.                                                                                   \n",
    "    \"\"\"                                                                                                                 \n",
    "                                                                                                                        \n",
    "    root_concepts = df[df[parent_col].isnull()][child_col].tolist()                                                     \n",
    "    parent_to_child = get_parent_to_child_map(df, parent_col, child_col, sep, verbose)                                  \n",
    "                                                                                                                        \n",
    "    child_to_parent = dict()                                                                                            \n",
    "                                                                                                                        \n",
    "    for k, v in parent_to_child.items():                                                                                \n",
    "        for val in v:                                                                                                   \n",
    "            if k in root_concepts:                                                                                      \n",
    "                child_to_parent[val] = k                                                                                \n",
    "                                                                                                                        \n",
    "    for r in root_concepts:                                                                                             \n",
    "        child_to_parent[r] = r                                                                                          \n",
    "                                                                                                                        \n",
    "    return child_to_parent \n",
    "\n",
    "\n",
    "def convert_abbrev_mapper_to_full(mapper, map_df, abbrev, full):                                                        \n",
    "    \"\"\"                                                                                                                 \n",
    "    With a mapping file from abbrev to abbrev, and a datafame that has abbrev to full mappings, produces                \n",
    "    a mapper from full to full.                                                                                         \n",
    "    \"\"\"                                                                                                                 \n",
    "    abbrev_to_name = map_df.set_index(abbrev)[full].to_dict()                                                           \n",
    "    return {abbrev_to_name[k]: abbrev_to_name[v] for k, v in mapper.items()}  \n",
    "\n",
    "\n",
    "def prepend_direction_to_map(mapper, directions=iter(()), char=''):                                                     \n",
    "    \"\"\"                                                                                                                 \n",
    "    In a dict, will prepend all elements of `directions` to all keys and values, sparated by `char`                     \n",
    "                                                                                                                        \n",
    "    e.g. a dict of  {'metabolic processing': 'metabolic processing',                                                    \n",
    "                     'acetylation': 'metabolic processing'}                                                             \n",
    "    And directions ['increasing', 'decreasing'] with char '^'                                                           \n",
    "                                                                                                                        \n",
    "    becomes:                                                                                                            \n",
    "         {'increases^metabolic processing': 'increases^metabolic processing',                                           \n",
    "          'increases^acetylation': 'increases^metabolic processing',                                                    \n",
    "          'decreases^metabolic processing': 'decreases^metabolic processing',                                           \n",
    "          'decreases^acetylation': 'decreases^metabolic processing'}                                                    \n",
    "    \"\"\"                                                                                                                 \n",
    "    out_map = dict()                                                                                                    \n",
    "    for k, v in mapper.items():                                                                                         \n",
    "        for d in directions:                                                                                            \n",
    "            new_k = d+char+k                                                                                            \n",
    "            new_v = d+char+v                                                                                            \n",
    "            out_map[new_k] = new_v                                                                                      \n",
    "    return out_map "
   ]
  },
  {
   "cell_type": "code",
   "execution_count": 9,
   "metadata": {},
   "outputs": [],
   "source": [
    "comp_p2c = get_parent_to_child_map(compound_info, 'parent_ids', 'chemical_id')"
   ]
  },
  {
   "cell_type": "code",
   "execution_count": 10,
   "metadata": {},
   "outputs": [
    {
     "data": {
      "text/plain": [
       "True"
      ]
     },
     "execution_count": 10,
     "metadata": {},
     "output_type": "execute_result"
    }
   ],
   "source": [
    "type(comp_nodes) == pd.DataFrame"
   ]
  },
  {
   "cell_type": "code",
   "execution_count": 11,
   "metadata": {},
   "outputs": [],
   "source": [
    "def test_parent_child(pc_info, node_df, parent_2_child_map, idx=0):\n",
    "\n",
    "    if type(pc_info) == pd.DataFrame:        \n",
    "        test_id = pc_info.dropna(subset=['parent_ids']).iloc[idx]['parent_ids'].split('|')[0]\n",
    "    elif type(pc_info) == str:\n",
    "        test_id = pc_info\n",
    "    node_df = node_df.set_index('id')\n",
    "    print('Parent: {}'.format(node_df.loc[test_id, 'name']))\n",
    "    print('Children:')\n",
    "    for child in parent_2_child_map[test_id]:\n",
    "        print('\\t{}'.format(node_df.loc[child, 'name']))\n"
   ]
  },
  {
   "cell_type": "code",
   "execution_count": 12,
   "metadata": {},
   "outputs": [
    {
     "name": "stdout",
     "output_type": "stream",
     "text": [
      "Parent: Amylose\n",
      "Children:\n",
      "\tCibacron Blue F 3GA-amylose\n",
      "\tthymol amylose\n",
      "\tamylose-tris-(5-chloro-2-methylphenylcarbamate)\n",
      "\t(0.017ferrocene)amylose\n",
      "\t6-deoxyamylose\n",
      "\tCibacron Blue-amylose\n",
      "\tsodium amylose succinate\n",
      "\tamylose triacetate\n",
      "\tamylose tris(n-hexylcarbamate)\n",
      "\tChiralpak AD\n",
      "\toxyamylose\n",
      "\tamylose tris(1-phenylethylcarbamate)\n",
      "\tamylose tris(ethylcarbamate)\n",
      "\tamylose-2-acetyl-3,6-bis(phenylcarbamate)\n",
      "\tchiralpak AS\n",
      "\tcarboxymethylamylose\n",
      "\tamylose tri(3,5-dimethyl carbamate)\n"
     ]
    }
   ],
   "source": [
    "test_parent_child(compound_info, comp_nodes, comp_p2c)"
   ]
  },
  {
   "cell_type": "markdown",
   "metadata": {},
   "source": [
    "### Diseases"
   ]
  },
  {
   "cell_type": "code",
   "execution_count": 13,
   "metadata": {},
   "outputs": [
    {
     "data": {
      "text/html": [
       "<div>\n",
       "<style scoped>\n",
       "    .dataframe tbody tr th:only-of-type {\n",
       "        vertical-align: middle;\n",
       "    }\n",
       "\n",
       "    .dataframe tbody tr th {\n",
       "        vertical-align: top;\n",
       "    }\n",
       "\n",
       "    .dataframe thead th {\n",
       "        text-align: right;\n",
       "    }\n",
       "</style>\n",
       "<table border=\"1\" class=\"dataframe\">\n",
       "  <thead>\n",
       "    <tr style=\"text-align: right;\">\n",
       "      <th></th>\n",
       "      <th>disease_name</th>\n",
       "      <th>disease_id</th>\n",
       "      <th>alt_disease_ids</th>\n",
       "      <th>definition</th>\n",
       "      <th>parent_ids</th>\n",
       "      <th>tree_numbers</th>\n",
       "      <th>parent_tree_numbers</th>\n",
       "      <th>synonyms</th>\n",
       "      <th>slim_mappings</th>\n",
       "    </tr>\n",
       "  </thead>\n",
       "  <tbody>\n",
       "    <tr>\n",
       "      <th>0</th>\n",
       "      <td>10p Deletion Syndrome (Partial)</td>\n",
       "      <td>MESH:C538288</td>\n",
       "      <td>NaN</td>\n",
       "      <td>NaN</td>\n",
       "      <td>MESH:D002872|MESH:D025063</td>\n",
       "      <td>C16.131.260/C538288|C16.320.180/C538288|C23.55...</td>\n",
       "      <td>C16.131.260|C16.320.180|C23.550.210.050.500.500</td>\n",
       "      <td>Chromosome 10, 10p- Partial|Chromosome 10, mon...</td>\n",
       "      <td>Congenital abnormality|Genetic disease (inborn...</td>\n",
       "    </tr>\n",
       "    <tr>\n",
       "      <th>1</th>\n",
       "      <td>13q deletion syndrome</td>\n",
       "      <td>MESH:C535484</td>\n",
       "      <td>NaN</td>\n",
       "      <td>NaN</td>\n",
       "      <td>MESH:D002872|MESH:D025063</td>\n",
       "      <td>C16.131.260/C535484|C16.320.180/C535484|C23.55...</td>\n",
       "      <td>C16.131.260|C16.320.180|C23.550.210.050.500.500</td>\n",
       "      <td>Chromosome 13q deletion|Chromosome 13q deletio...</td>\n",
       "      <td>Congenital abnormality|Genetic disease (inborn...</td>\n",
       "    </tr>\n",
       "  </tbody>\n",
       "</table>\n",
       "</div>"
      ],
      "text/plain": [
       "                      disease_name    disease_id alt_disease_ids definition  \\\n",
       "0  10p Deletion Syndrome (Partial)  MESH:C538288             NaN        NaN   \n",
       "1            13q deletion syndrome  MESH:C535484             NaN        NaN   \n",
       "\n",
       "                  parent_ids  \\\n",
       "0  MESH:D002872|MESH:D025063   \n",
       "1  MESH:D002872|MESH:D025063   \n",
       "\n",
       "                                        tree_numbers  \\\n",
       "0  C16.131.260/C538288|C16.320.180/C538288|C23.55...   \n",
       "1  C16.131.260/C535484|C16.320.180/C535484|C23.55...   \n",
       "\n",
       "                               parent_tree_numbers  \\\n",
       "0  C16.131.260|C16.320.180|C23.550.210.050.500.500   \n",
       "1  C16.131.260|C16.320.180|C23.550.210.050.500.500   \n",
       "\n",
       "                                            synonyms  \\\n",
       "0  Chromosome 10, 10p- Partial|Chromosome 10, mon...   \n",
       "1  Chromosome 13q deletion|Chromosome 13q deletio...   \n",
       "\n",
       "                                       slim_mappings  \n",
       "0  Congenital abnormality|Genetic disease (inborn...  \n",
       "1  Congenital abnormality|Genetic disease (inborn...  "
      ]
     },
     "execution_count": 13,
     "metadata": {},
     "output_type": "execute_result"
    }
   ],
   "source": [
    "disease_info = read_ctd(load_dir.joinpath(id_files.loc['Disease', 'file_name']))\n",
    "disease_info.head(2)"
   ]
  },
  {
   "cell_type": "code",
   "execution_count": 14,
   "metadata": {},
   "outputs": [
    {
     "data": {
      "text/html": [
       "<div>\n",
       "<style scoped>\n",
       "    .dataframe tbody tr th:only-of-type {\n",
       "        vertical-align: middle;\n",
       "    }\n",
       "\n",
       "    .dataframe tbody tr th {\n",
       "        vertical-align: top;\n",
       "    }\n",
       "\n",
       "    .dataframe thead th {\n",
       "        text-align: right;\n",
       "    }\n",
       "</style>\n",
       "<table border=\"1\" class=\"dataframe\">\n",
       "  <thead>\n",
       "    <tr style=\"text-align: right;\">\n",
       "      <th></th>\n",
       "      <th>id</th>\n",
       "      <th>name</th>\n",
       "      <th>tree_numbers</th>\n",
       "      <th>alt_disease_ids</th>\n",
       "      <th>label</th>\n",
       "    </tr>\n",
       "  </thead>\n",
       "  <tbody>\n",
       "    <tr>\n",
       "      <th>0</th>\n",
       "      <td>MESH:C538288</td>\n",
       "      <td>10p Deletion Syndrome (Partial)</td>\n",
       "      <td>C16.131.260/C538288|C16.320.180/C538288|C23.55...</td>\n",
       "      <td>NaN</td>\n",
       "      <td>Disease</td>\n",
       "    </tr>\n",
       "    <tr>\n",
       "      <th>1</th>\n",
       "      <td>MESH:C535484</td>\n",
       "      <td>13q deletion syndrome</td>\n",
       "      <td>C16.131.260/C535484|C16.320.180/C535484|C23.55...</td>\n",
       "      <td>NaN</td>\n",
       "      <td>Disease</td>\n",
       "    </tr>\n",
       "    <tr>\n",
       "      <th>2</th>\n",
       "      <td>MESH:C579849</td>\n",
       "      <td>15q24 Microdeletion</td>\n",
       "      <td>C10.597.606.360/C579849|C16.131.260/C579849|C1...</td>\n",
       "      <td>DO:DOID:0060395</td>\n",
       "      <td>Disease</td>\n",
       "    </tr>\n",
       "    <tr>\n",
       "      <th>3</th>\n",
       "      <td>MESH:C579850</td>\n",
       "      <td>16p11.2 Deletion Syndrome</td>\n",
       "      <td>C10.597.606.360/C579850|C16.131.260/C579850|C1...</td>\n",
       "      <td>NaN</td>\n",
       "      <td>Disease</td>\n",
       "    </tr>\n",
       "    <tr>\n",
       "      <th>4</th>\n",
       "      <td>MESH:C567076</td>\n",
       "      <td>17,20-Lyase Deficiency, Isolated</td>\n",
       "      <td>C12.706.316.090.500/C567076|C13.351.875.253.09...</td>\n",
       "      <td>NaN</td>\n",
       "      <td>Disease</td>\n",
       "    </tr>\n",
       "  </tbody>\n",
       "</table>\n",
       "</div>"
      ],
      "text/plain": [
       "             id                              name  \\\n",
       "0  MESH:C538288   10p Deletion Syndrome (Partial)   \n",
       "1  MESH:C535484             13q deletion syndrome   \n",
       "2  MESH:C579849               15q24 Microdeletion   \n",
       "3  MESH:C579850         16p11.2 Deletion Syndrome   \n",
       "4  MESH:C567076  17,20-Lyase Deficiency, Isolated   \n",
       "\n",
       "                                        tree_numbers  alt_disease_ids    label  \n",
       "0  C16.131.260/C538288|C16.320.180/C538288|C23.55...              NaN  Disease  \n",
       "1  C16.131.260/C535484|C16.320.180/C535484|C23.55...              NaN  Disease  \n",
       "2  C10.597.606.360/C579849|C16.131.260/C579849|C1...  DO:DOID:0060395  Disease  \n",
       "3  C10.597.606.360/C579850|C16.131.260/C579850|C1...              NaN  Disease  \n",
       "4  C12.706.316.090.500/C567076|C13.351.875.253.09...              NaN  Disease  "
      ]
     },
     "execution_count": 14,
     "metadata": {},
     "output_type": "execute_result"
    }
   ],
   "source": [
    "dis_nodes = disease_info[['disease_id', 'disease_name', 'tree_numbers', 'alt_disease_ids']]\n",
    "dis_nodes = dis_nodes.rename(columns={'disease_id': 'id', 'disease_name': 'name'})\n",
    "dis_nodes['label'] = 'Disease'\n",
    "\n",
    "dis_nodes.head(5)"
   ]
  },
  {
   "cell_type": "code",
   "execution_count": 15,
   "metadata": {},
   "outputs": [],
   "source": [
    "nodes.append(dis_nodes)"
   ]
  },
  {
   "cell_type": "code",
   "execution_count": 16,
   "metadata": {},
   "outputs": [],
   "source": [
    "dis_p2c_map = get_parent_to_child_map(disease_info, 'parent_ids', 'disease_id')"
   ]
  },
  {
   "cell_type": "code",
   "execution_count": 17,
   "metadata": {
    "scrolled": false
   },
   "outputs": [
    {
     "name": "stdout",
     "output_type": "stream",
     "text": [
      "Parent: Urea Cycle Disorders, Inborn\n",
      "Children:\n",
      "\tN-acetyl glutamate synthetase deficiency\n",
      "\tCitrullinemia\n",
      "\tHHH syndrome\n",
      "\tArgininosuccinic Aciduria\n",
      "\tAdult-onset citrullinemia type 2\n",
      "\t3-methylcrotonyl CoA carboxylase 1 deficiency\n",
      "\tHyperargininemia\n",
      "\tOrnithine Carbamoyltransferase Deficiency Disease\n",
      "\tNeonatal-onset citrullinemia type 2\n",
      "\tORNITHINE TRANSCARBAMYLASE DEFICIENCY, HYPERAMMONEMIA DUE TO\n",
      "\tOsteopetrosis with renal tubular acidosis\n",
      "\t3-methylcrotonyl CoA carboxylase 2 deficiency\n",
      "\tCitrulline transport defect\n",
      "\tCarbamoyl-Phosphate Synthase I Deficiency Disease\n",
      "\tCTNL1\n"
     ]
    }
   ],
   "source": [
    "# IDX 0 == chromoasome deletion with too many children to print nicely\n",
    "test_parent_child(disease_info, dis_nodes, dis_p2c_map, idx=20)"
   ]
  },
  {
   "cell_type": "markdown",
   "metadata": {},
   "source": [
    "### Genes"
   ]
  },
  {
   "cell_type": "code",
   "execution_count": 18,
   "metadata": {},
   "outputs": [
    {
     "data": {
      "text/html": [
       "<div>\n",
       "<style scoped>\n",
       "    .dataframe tbody tr th:only-of-type {\n",
       "        vertical-align: middle;\n",
       "    }\n",
       "\n",
       "    .dataframe tbody tr th {\n",
       "        vertical-align: top;\n",
       "    }\n",
       "\n",
       "    .dataframe thead th {\n",
       "        text-align: right;\n",
       "    }\n",
       "</style>\n",
       "<table border=\"1\" class=\"dataframe\">\n",
       "  <thead>\n",
       "    <tr style=\"text-align: right;\">\n",
       "      <th></th>\n",
       "      <th>gene_symbol</th>\n",
       "      <th>gene_name</th>\n",
       "      <th>gene_id</th>\n",
       "      <th>alt_gene_ids</th>\n",
       "      <th>synonyms</th>\n",
       "      <th>bio_gridids</th>\n",
       "      <th>pharm_gkbids</th>\n",
       "      <th>uni_prot_ids</th>\n",
       "    </tr>\n",
       "  </thead>\n",
       "  <tbody>\n",
       "    <tr>\n",
       "      <th>0</th>\n",
       "      <td>03B03F</td>\n",
       "      <td>DNA segment, 03B03F (Research Genetics)</td>\n",
       "      <td>27777</td>\n",
       "      <td>NaN</td>\n",
       "      <td>NaN</td>\n",
       "      <td>NaN</td>\n",
       "      <td>NaN</td>\n",
       "      <td>NaN</td>\n",
       "    </tr>\n",
       "    <tr>\n",
       "      <th>1</th>\n",
       "      <td>03B03R</td>\n",
       "      <td>DNA segment, 03B03R (Research Genetics)</td>\n",
       "      <td>27778</td>\n",
       "      <td>NaN</td>\n",
       "      <td>NaN</td>\n",
       "      <td>NaN</td>\n",
       "      <td>NaN</td>\n",
       "      <td>NaN</td>\n",
       "    </tr>\n",
       "  </tbody>\n",
       "</table>\n",
       "</div>"
      ],
      "text/plain": [
       "  gene_symbol                                gene_name  gene_id alt_gene_ids  \\\n",
       "0      03B03F  DNA segment, 03B03F (Research Genetics)    27777          NaN   \n",
       "1      03B03R  DNA segment, 03B03R (Research Genetics)    27778          NaN   \n",
       "\n",
       "  synonyms bio_gridids pharm_gkbids uni_prot_ids  \n",
       "0      NaN         NaN          NaN          NaN  \n",
       "1      NaN         NaN          NaN          NaN  "
      ]
     },
     "execution_count": 18,
     "metadata": {},
     "output_type": "execute_result"
    }
   ],
   "source": [
    "gene_info = read_ctd(load_dir.joinpath(id_files.loc['Gene', 'file_name']))\n",
    "gene_info.head(2)"
   ]
  },
  {
   "cell_type": "markdown",
   "metadata": {},
   "source": [
    "Both Gene symbol and Gene ID could be use as identifiers... we also want all the other ids, too.. No parent-child relationships to worry about here."
   ]
  },
  {
   "cell_type": "code",
   "execution_count": 19,
   "metadata": {},
   "outputs": [
    {
     "data": {
      "text/html": [
       "<div>\n",
       "<style scoped>\n",
       "    .dataframe tbody tr th:only-of-type {\n",
       "        vertical-align: middle;\n",
       "    }\n",
       "\n",
       "    .dataframe tbody tr th {\n",
       "        vertical-align: top;\n",
       "    }\n",
       "\n",
       "    .dataframe thead th {\n",
       "        text-align: right;\n",
       "    }\n",
       "</style>\n",
       "<table border=\"1\" class=\"dataframe\">\n",
       "  <thead>\n",
       "    <tr style=\"text-align: right;\">\n",
       "      <th></th>\n",
       "      <th>id</th>\n",
       "      <th>name</th>\n",
       "      <th>gene_symbol</th>\n",
       "      <th>alt_gene_ids</th>\n",
       "      <th>bio_gridids</th>\n",
       "      <th>pharm_gkbids</th>\n",
       "      <th>uni_prot_ids</th>\n",
       "      <th>label</th>\n",
       "    </tr>\n",
       "  </thead>\n",
       "  <tbody>\n",
       "    <tr>\n",
       "      <th>0</th>\n",
       "      <td>NCBIGene:27777</td>\n",
       "      <td>DNA segment, 03B03F (Research Genetics)</td>\n",
       "      <td>SYM:03B03F</td>\n",
       "      <td>NaN</td>\n",
       "      <td>NaN</td>\n",
       "      <td>NaN</td>\n",
       "      <td>NaN</td>\n",
       "      <td>Gene</td>\n",
       "    </tr>\n",
       "    <tr>\n",
       "      <th>1</th>\n",
       "      <td>NCBIGene:27778</td>\n",
       "      <td>DNA segment, 03B03R (Research Genetics)</td>\n",
       "      <td>SYM:03B03R</td>\n",
       "      <td>NaN</td>\n",
       "      <td>NaN</td>\n",
       "      <td>NaN</td>\n",
       "      <td>NaN</td>\n",
       "      <td>Gene</td>\n",
       "    </tr>\n",
       "    <tr>\n",
       "      <th>2</th>\n",
       "      <td>NCBIGene:53288</td>\n",
       "      <td>DNA segment, 03.MMHAP34FRA.seq</td>\n",
       "      <td>SYM:03.MMHAP34FRA.SEQ</td>\n",
       "      <td>NaN</td>\n",
       "      <td>NaN</td>\n",
       "      <td>NaN</td>\n",
       "      <td>NaN</td>\n",
       "      <td>Gene</td>\n",
       "    </tr>\n",
       "    <tr>\n",
       "      <th>3</th>\n",
       "      <td>NCBIGene:5658107</td>\n",
       "      <td>NaN</td>\n",
       "      <td>SYM:064YA</td>\n",
       "      <td>NaN</td>\n",
       "      <td>NaN</td>\n",
       "      <td>NaN</td>\n",
       "      <td>NaN</td>\n",
       "      <td>Gene</td>\n",
       "    </tr>\n",
       "    <tr>\n",
       "      <th>4</th>\n",
       "      <td>NCBIGene:56573</td>\n",
       "      <td>DNA segment, 102g4T7</td>\n",
       "      <td>SYM:102G4T7</td>\n",
       "      <td>NaN</td>\n",
       "      <td>NaN</td>\n",
       "      <td>NaN</td>\n",
       "      <td>NaN</td>\n",
       "      <td>Gene</td>\n",
       "    </tr>\n",
       "  </tbody>\n",
       "</table>\n",
       "</div>"
      ],
      "text/plain": [
       "                 id                                     name  \\\n",
       "0    NCBIGene:27777  DNA segment, 03B03F (Research Genetics)   \n",
       "1    NCBIGene:27778  DNA segment, 03B03R (Research Genetics)   \n",
       "2    NCBIGene:53288           DNA segment, 03.MMHAP34FRA.seq   \n",
       "3  NCBIGene:5658107                                      NaN   \n",
       "4    NCBIGene:56573                     DNA segment, 102g4T7   \n",
       "\n",
       "             gene_symbol alt_gene_ids bio_gridids pharm_gkbids uni_prot_ids  \\\n",
       "0             SYM:03B03F          NaN         NaN          NaN          NaN   \n",
       "1             SYM:03B03R          NaN         NaN          NaN          NaN   \n",
       "2  SYM:03.MMHAP34FRA.SEQ          NaN         NaN          NaN          NaN   \n",
       "3              SYM:064YA          NaN         NaN          NaN          NaN   \n",
       "4            SYM:102G4T7          NaN         NaN          NaN          NaN   \n",
       "\n",
       "  label  \n",
       "0  Gene  \n",
       "1  Gene  \n",
       "2  Gene  \n",
       "3  Gene  \n",
       "4  Gene  "
      ]
     },
     "execution_count": 19,
     "metadata": {},
     "output_type": "execute_result"
    }
   ],
   "source": [
    "gene_nodes = gene_info[['gene_id', 'gene_name', 'gene_symbol', 'alt_gene_ids', 'bio_gridids', 'pharm_gkbids', 'uni_prot_ids']]\n",
    "gene_nodes = gene_nodes.rename(columns={'gene_id': 'id', 'gene_name': 'name'})\n",
    "gene_nodes['id'] = 'NCBIGene:' + gene_nodes['id'].astype(str)\n",
    "gene_nodes['gene_symbol'] = 'SYM:' + gene_nodes['gene_symbol']\n",
    "\n",
    "gene_nodes['label'] = 'Gene'\n",
    "\n",
    "gene_nodes.head(5)"
   ]
  },
  {
   "cell_type": "code",
   "execution_count": 20,
   "metadata": {},
   "outputs": [],
   "source": [
    "nodes.append(gene_nodes)"
   ]
  },
  {
   "cell_type": "markdown",
   "metadata": {},
   "source": [
    "### Pathways"
   ]
  },
  {
   "cell_type": "code",
   "execution_count": 21,
   "metadata": {},
   "outputs": [
    {
     "data": {
      "text/html": [
       "<div>\n",
       "<style scoped>\n",
       "    .dataframe tbody tr th:only-of-type {\n",
       "        vertical-align: middle;\n",
       "    }\n",
       "\n",
       "    .dataframe tbody tr th {\n",
       "        vertical-align: top;\n",
       "    }\n",
       "\n",
       "    .dataframe thead th {\n",
       "        text-align: right;\n",
       "    }\n",
       "</style>\n",
       "<table border=\"1\" class=\"dataframe\">\n",
       "  <thead>\n",
       "    <tr style=\"text-align: right;\">\n",
       "      <th></th>\n",
       "      <th>pathway_name</th>\n",
       "      <th>pathway_id</th>\n",
       "    </tr>\n",
       "  </thead>\n",
       "  <tbody>\n",
       "    <tr>\n",
       "      <th>0</th>\n",
       "      <td>2-LTR circle formation</td>\n",
       "      <td>REACT:R-HSA-164843</td>\n",
       "    </tr>\n",
       "    <tr>\n",
       "      <th>1</th>\n",
       "      <td>2-Oxocarboxylic acid metabolism</td>\n",
       "      <td>KEGG:hsa01210</td>\n",
       "    </tr>\n",
       "  </tbody>\n",
       "</table>\n",
       "</div>"
      ],
      "text/plain": [
       "                      pathway_name          pathway_id\n",
       "0           2-LTR circle formation  REACT:R-HSA-164843\n",
       "1  2-Oxocarboxylic acid metabolism       KEGG:hsa01210"
      ]
     },
     "execution_count": 21,
     "metadata": {},
     "output_type": "execute_result"
    }
   ],
   "source": [
    "pathway_info = read_ctd(load_dir.joinpath(id_files.loc['Pathway', 'file_name']))\n",
    "pathway_info.head(2)"
   ]
  },
  {
   "cell_type": "markdown",
   "metadata": {},
   "source": [
    "This is about as simple as it can be, just take ids and names"
   ]
  },
  {
   "cell_type": "code",
   "execution_count": 22,
   "metadata": {},
   "outputs": [
    {
     "data": {
      "text/html": [
       "<div>\n",
       "<style scoped>\n",
       "    .dataframe tbody tr th:only-of-type {\n",
       "        vertical-align: middle;\n",
       "    }\n",
       "\n",
       "    .dataframe tbody tr th {\n",
       "        vertical-align: top;\n",
       "    }\n",
       "\n",
       "    .dataframe thead th {\n",
       "        text-align: right;\n",
       "    }\n",
       "</style>\n",
       "<table border=\"1\" class=\"dataframe\">\n",
       "  <thead>\n",
       "    <tr style=\"text-align: right;\">\n",
       "      <th></th>\n",
       "      <th>id</th>\n",
       "      <th>name</th>\n",
       "      <th>label</th>\n",
       "    </tr>\n",
       "  </thead>\n",
       "  <tbody>\n",
       "    <tr>\n",
       "      <th>0</th>\n",
       "      <td>REACT:R-HSA-164843</td>\n",
       "      <td>2-LTR circle formation</td>\n",
       "      <td>Pathway</td>\n",
       "    </tr>\n",
       "    <tr>\n",
       "      <th>1</th>\n",
       "      <td>KEGG:hsa01210</td>\n",
       "      <td>2-Oxocarboxylic acid metabolism</td>\n",
       "      <td>Pathway</td>\n",
       "    </tr>\n",
       "    <tr>\n",
       "      <th>2</th>\n",
       "      <td>REACT:R-HSA-73843</td>\n",
       "      <td>5-Phosphoribose 1-diphosphate biosynthesis</td>\n",
       "      <td>Pathway</td>\n",
       "    </tr>\n",
       "    <tr>\n",
       "      <th>3</th>\n",
       "      <td>REACT:R-HSA-2161541</td>\n",
       "      <td>Abacavir metabolism</td>\n",
       "      <td>Pathway</td>\n",
       "    </tr>\n",
       "    <tr>\n",
       "      <th>4</th>\n",
       "      <td>REACT:R-HSA-2161517</td>\n",
       "      <td>Abacavir transmembrane transport</td>\n",
       "      <td>Pathway</td>\n",
       "    </tr>\n",
       "  </tbody>\n",
       "</table>\n",
       "</div>"
      ],
      "text/plain": [
       "                    id                                        name    label\n",
       "0   REACT:R-HSA-164843                      2-LTR circle formation  Pathway\n",
       "1        KEGG:hsa01210             2-Oxocarboxylic acid metabolism  Pathway\n",
       "2    REACT:R-HSA-73843  5-Phosphoribose 1-diphosphate biosynthesis  Pathway\n",
       "3  REACT:R-HSA-2161541                         Abacavir metabolism  Pathway\n",
       "4  REACT:R-HSA-2161517            Abacavir transmembrane transport  Pathway"
      ]
     },
     "execution_count": 22,
     "metadata": {},
     "output_type": "execute_result"
    }
   ],
   "source": [
    "pw_nodes = pathway_info[['pathway_id', 'pathway_name']].copy()\n",
    "pw_nodes.columns = [c.split('_')[-1] for c in pw_nodes.columns]\n",
    "pw_nodes['label'] = 'Pathway'\n",
    "\n",
    "pw_nodes.head(5)"
   ]
  },
  {
   "cell_type": "code",
   "execution_count": 23,
   "metadata": {},
   "outputs": [],
   "source": [
    "nodes.append(pw_nodes)"
   ]
  },
  {
   "cell_type": "markdown",
   "metadata": {},
   "source": [
    "## What other nodes do we need info on?"
   ]
  },
  {
   "cell_type": "code",
   "execution_count": 24,
   "metadata": {},
   "outputs": [
    {
     "data": {
      "text/plain": [
       "{'Biological Process',\n",
       " 'Cellular Component',\n",
       " 'GO Term',\n",
       " 'Molecular Function',\n",
       " 'relationships'}"
      ]
     },
     "execution_count": 24,
     "metadata": {},
     "output_type": "execute_result"
    }
   ],
   "source": [
    "set(file_info.query('file_source == \"CTD\"')[['source_type', 'target_type']].stack()) - \\\n",
    "        set([n.loc[0,'label'] for n in nodes])\n"
   ]
  },
  {
   "cell_type": "markdown",
   "metadata": {},
   "source": [
    "All are GO Term related, so best practice to use GO Ontology to sort out relationships"
   ]
  },
  {
   "cell_type": "code",
   "execution_count": 25,
   "metadata": {},
   "outputs": [],
   "source": [
    "import obonet\n",
    "import networkx as nx"
   ]
  },
  {
   "cell_type": "code",
   "execution_count": 26,
   "metadata": {},
   "outputs": [],
   "source": [
    "go_file = file_info.query('file_source == \"go\"').iloc[0,0]\n",
    "go = obonet.read_obo(load_dir.joinpath(go_file))"
   ]
  },
  {
   "cell_type": "code",
   "execution_count": 27,
   "metadata": {},
   "outputs": [
    {
     "data": {
      "text/html": [
       "<div>\n",
       "<style scoped>\n",
       "    .dataframe tbody tr th:only-of-type {\n",
       "        vertical-align: middle;\n",
       "    }\n",
       "\n",
       "    .dataframe tbody tr th {\n",
       "        vertical-align: top;\n",
       "    }\n",
       "\n",
       "    .dataframe thead th {\n",
       "        text-align: right;\n",
       "    }\n",
       "</style>\n",
       "<table border=\"1\" class=\"dataframe\">\n",
       "  <thead>\n",
       "    <tr style=\"text-align: right;\">\n",
       "      <th></th>\n",
       "      <th>id</th>\n",
       "      <th>name</th>\n",
       "      <th>label</th>\n",
       "    </tr>\n",
       "  </thead>\n",
       "  <tbody>\n",
       "    <tr>\n",
       "      <th>0</th>\n",
       "      <td>GO:0000001</td>\n",
       "      <td>mitochondrion inheritance</td>\n",
       "      <td>Biological Process</td>\n",
       "    </tr>\n",
       "    <tr>\n",
       "      <th>1</th>\n",
       "      <td>GO:0000002</td>\n",
       "      <td>mitochondrial genome maintenance</td>\n",
       "      <td>Biological Process</td>\n",
       "    </tr>\n",
       "    <tr>\n",
       "      <th>2</th>\n",
       "      <td>GO:0000003</td>\n",
       "      <td>reproduction</td>\n",
       "      <td>Biological Process</td>\n",
       "    </tr>\n",
       "    <tr>\n",
       "      <th>3</th>\n",
       "      <td>GO:0000006</td>\n",
       "      <td>high-affinity zinc transmembrane transporter a...</td>\n",
       "      <td>Molecular Function</td>\n",
       "    </tr>\n",
       "    <tr>\n",
       "      <th>4</th>\n",
       "      <td>GO:0000007</td>\n",
       "      <td>low-affinity zinc ion transmembrane transporte...</td>\n",
       "      <td>Molecular Function</td>\n",
       "    </tr>\n",
       "  </tbody>\n",
       "</table>\n",
       "</div>"
      ],
      "text/plain": [
       "           id                                               name  \\\n",
       "0  GO:0000001                          mitochondrion inheritance   \n",
       "1  GO:0000002                   mitochondrial genome maintenance   \n",
       "2  GO:0000003                                       reproduction   \n",
       "3  GO:0000006  high-affinity zinc transmembrane transporter a...   \n",
       "4  GO:0000007  low-affinity zinc ion transmembrane transporte...   \n",
       "\n",
       "                label  \n",
       "0  Biological Process  \n",
       "1  Biological Process  \n",
       "2  Biological Process  \n",
       "3  Molecular Function  \n",
       "4  Molecular Function  "
      ]
     },
     "execution_count": 27,
     "metadata": {},
     "output_type": "execute_result"
    }
   ],
   "source": [
    "go_nodes = dict()\n",
    "go_nodes['id'] = [g for g in go]\n",
    "go_nodes['name'] = [info['name'] for nid, info in go.nodes(data=True)]\n",
    "go_nodes['label'] = [info['namespace'] for nid, info in go.nodes(data=True)]\n",
    "\n",
    "go_nodes = pd.DataFrame(go_nodes)\n",
    "go_nodes['label'] = go_nodes['label'].str.replace('_', ' ').str.title()\n",
    "go_nodes.head(5)"
   ]
  },
  {
   "cell_type": "code",
   "execution_count": 28,
   "metadata": {},
   "outputs": [],
   "source": [
    "nodes.append(go_nodes)"
   ]
  },
  {
   "cell_type": "code",
   "execution_count": 29,
   "metadata": {},
   "outputs": [],
   "source": [
    "# Networkx makes this mapping easy\n",
    "go_p2c_map = {g: nx.ancestors(go, g) for g in go_nodes['id']}"
   ]
  },
  {
   "cell_type": "code",
   "execution_count": 30,
   "metadata": {},
   "outputs": [
    {
     "name": "stdout",
     "output_type": "stream",
     "text": [
      "Parent: acidic amino acid transport\n",
      "Children:\n",
      "\tglutamate reuptake\n",
      "\tL-glutamate import across plasma membrane\n",
      "\tL-glutamate transmembrane transport\n",
      "\tL-glutamate import\n",
      "\tregulation of glutamate secretion\n",
      "\tregulation of aspartate secretion\n",
      "\tnegative regulation of L-glutamate import across plasma membrane\n",
      "\tregulation of L-glutamate import across plasma membrane\n",
      "\tpositive regulation of glutamate uptake involved in transmission of nerve impulse\n",
      "\tglutamate transmembrane import into vacuole\n",
      "\tgamma-aminobutyric acid import\n",
      "\tnegative regulation of glutamate uptake involved in transmission of nerve impulse\n",
      "\tnegative regulation of glutamate secretion, neurotransmission\n",
      "\tnegative regulation of aspartate secretion\n",
      "\taspartate secretion, neurotransmission\n",
      "\tL-glutamate import involved in cellular response to nitrogen starvation\n",
      "\tL-glutamate transmembrane import into vacuole\n",
      "\tpositive regulation of glutamate neurotransmitter secretion in response to membrane depolarization\n",
      "\tglutamate secretion, neurotransmission\n",
      "\tregulation of glutamate secretion, neurotransmission\n",
      "\taspartate transmembrane transport\n",
      "\tpositive regulation of L-glutamate import across plasma membrane\n",
      "\tglutamate secretion\n",
      "\tnegative regulation of glutamate secretion\n",
      "\tpositive regulation of glutamate secretion, neurotransmission\n",
      "\tregulation of glutamate uptake involved in transmission of nerve impulse\n",
      "\taspartate secretion\n",
      "\tpositive regulation of glutamate secretion\n",
      "\tpositive regulation of aspartate secretion\n"
     ]
    }
   ],
   "source": [
    "test_parent_child('GO:0015800', go_nodes, go_p2c_map)"
   ]
  },
  {
   "cell_type": "code",
   "execution_count": 31,
   "metadata": {},
   "outputs": [
    {
     "data": {
      "text/plain": [
       "747662"
      ]
     },
     "execution_count": 31,
     "metadata": {},
     "output_type": "execute_result"
    }
   ],
   "source": [
    "nodes = pd.concat(nodes, sort=False, ignore_index=True)\n",
    "len(nodes)"
   ]
  },
  {
   "cell_type": "code",
   "execution_count": 32,
   "metadata": {},
   "outputs": [],
   "source": [
    "nodes = nodes[sorted(nodes.columns, key=lambda x: x not in ['id', 'name', 'label'])]"
   ]
  },
  {
   "cell_type": "code",
   "execution_count": 33,
   "metadata": {},
   "outputs": [
    {
     "data": {
      "text/plain": [
       "(747662, 11)"
      ]
     },
     "execution_count": 33,
     "metadata": {},
     "output_type": "execute_result"
    }
   ],
   "source": [
    "nodes.shape"
   ]
  },
  {
   "cell_type": "markdown",
   "metadata": {},
   "source": [
    "# Edges"
   ]
  },
  {
   "cell_type": "markdown",
   "metadata": {},
   "source": [
    "Need some info about certain types of relationships in this netowrk"
   ]
  },
  {
   "cell_type": "code",
   "execution_count": 34,
   "metadata": {},
   "outputs": [],
   "source": [
    "edges = list()"
   ]
  },
  {
   "cell_type": "code",
   "execution_count": 35,
   "metadata": {},
   "outputs": [],
   "source": [
    "rel_info = read_ctd(load_dir.joinpath(id_files.loc['relationships', 'file_name']))"
   ]
  },
  {
   "cell_type": "code",
   "execution_count": 36,
   "metadata": {},
   "outputs": [],
   "source": [
    "ixn_map_to_par = make_child_to_root_map(rel_info, 'parent_code', 'code', sep='|')\n",
    "ixn_map_to_par_full = convert_abbrev_mapper_to_full(ixn_map_to_par, rel_info, 'code', 'type_name')"
   ]
  },
  {
   "cell_type": "code",
   "execution_count": 37,
   "metadata": {},
   "outputs": [],
   "source": [
    "e_files = file_info.query('file_source == \"CTD\" and file_type == \"edges\"')['file_name'].tolist()"
   ]
  },
  {
   "cell_type": "code",
   "execution_count": 38,
   "metadata": {},
   "outputs": [
    {
     "name": "stdout",
     "output_type": "stream",
     "text": [
      "CTD_chem_gene_ixns.csv.gz\n"
     ]
    }
   ],
   "source": [
    "print(e_files[0])"
   ]
  },
  {
   "cell_type": "markdown",
   "metadata": {},
   "source": [
    "### Chem to Genes"
   ]
  },
  {
   "cell_type": "code",
   "execution_count": 39,
   "metadata": {},
   "outputs": [
    {
     "data": {
      "text/html": [
       "<div>\n",
       "<style scoped>\n",
       "    .dataframe tbody tr th:only-of-type {\n",
       "        vertical-align: middle;\n",
       "    }\n",
       "\n",
       "    .dataframe tbody tr th {\n",
       "        vertical-align: top;\n",
       "    }\n",
       "\n",
       "    .dataframe thead th {\n",
       "        text-align: right;\n",
       "    }\n",
       "</style>\n",
       "<table border=\"1\" class=\"dataframe\">\n",
       "  <thead>\n",
       "    <tr style=\"text-align: right;\">\n",
       "      <th></th>\n",
       "      <th>chemical_name</th>\n",
       "      <th>chemical_id</th>\n",
       "      <th>cas_rn</th>\n",
       "      <th>gene_symbol</th>\n",
       "      <th>gene_id</th>\n",
       "      <th>gene_forms</th>\n",
       "      <th>organism</th>\n",
       "      <th>organism_id</th>\n",
       "      <th>interaction</th>\n",
       "      <th>interaction_actions</th>\n",
       "      <th>pub_med_ids</th>\n",
       "    </tr>\n",
       "  </thead>\n",
       "  <tbody>\n",
       "    <tr>\n",
       "      <th>0</th>\n",
       "      <td>10074-G5</td>\n",
       "      <td>C534883</td>\n",
       "      <td>NaN</td>\n",
       "      <td>MAX</td>\n",
       "      <td>4149</td>\n",
       "      <td>protein</td>\n",
       "      <td>NaN</td>\n",
       "      <td>NaN</td>\n",
       "      <td>10074-G5 affects the folding of and results in...</td>\n",
       "      <td>affects^binding|affects^folding|decreases^acti...</td>\n",
       "      <td>26474287</td>\n",
       "    </tr>\n",
       "    <tr>\n",
       "      <th>1</th>\n",
       "      <td>10074-G5</td>\n",
       "      <td>C534883</td>\n",
       "      <td>NaN</td>\n",
       "      <td>MAX</td>\n",
       "      <td>4149</td>\n",
       "      <td>protein</td>\n",
       "      <td>NaN</td>\n",
       "      <td>NaN</td>\n",
       "      <td>10074-G5 inhibits the reaction [MYC protein bi...</td>\n",
       "      <td>affects^binding|decreases^reaction</td>\n",
       "      <td>26474287</td>\n",
       "    </tr>\n",
       "  </tbody>\n",
       "</table>\n",
       "</div>"
      ],
      "text/plain": [
       "  chemical_name chemical_id cas_rn gene_symbol  gene_id gene_forms organism  \\\n",
       "0      10074-G5     C534883    NaN         MAX     4149    protein      NaN   \n",
       "1      10074-G5     C534883    NaN         MAX     4149    protein      NaN   \n",
       "\n",
       "   organism_id                                        interaction  \\\n",
       "0          NaN  10074-G5 affects the folding of and results in...   \n",
       "1          NaN  10074-G5 inhibits the reaction [MYC protein bi...   \n",
       "\n",
       "                                 interaction_actions pub_med_ids  \n",
       "0  affects^binding|affects^folding|decreases^acti...    26474287  \n",
       "1                 affects^binding|decreases^reaction    26474287  "
      ]
     },
     "execution_count": 39,
     "metadata": {},
     "output_type": "execute_result"
    }
   ],
   "source": [
    "chem_gene = read_ctd(load_dir.joinpath(e_files[0]))\n",
    "chem_gene.head(2)"
   ]
  },
  {
   "cell_type": "markdown",
   "metadata": {},
   "source": [
    "interaction_actions are pipe, separated... We want those that are unique on their own line. However, the interactions used are a bit too granular, so we also want to map to thier parents.  Finally, we want to keep all PMIDs and organism ids for each interaction for potnetial future use."
   ]
  },
  {
   "cell_type": "code",
   "execution_count": 40,
   "metadata": {},
   "outputs": [
    {
     "data": {
      "text/html": [
       "<div>\n",
       "<style scoped>\n",
       "    .dataframe tbody tr th:only-of-type {\n",
       "        vertical-align: middle;\n",
       "    }\n",
       "\n",
       "    .dataframe tbody tr th {\n",
       "        vertical-align: top;\n",
       "    }\n",
       "\n",
       "    .dataframe thead th {\n",
       "        text-align: right;\n",
       "    }\n",
       "</style>\n",
       "<table border=\"1\" class=\"dataframe\">\n",
       "  <thead>\n",
       "    <tr style=\"text-align: right;\">\n",
       "      <th></th>\n",
       "      <th>chemical_name</th>\n",
       "      <th>chemical_id</th>\n",
       "      <th>cas_rn</th>\n",
       "      <th>gene_symbol</th>\n",
       "      <th>gene_id</th>\n",
       "      <th>gene_forms</th>\n",
       "      <th>organism</th>\n",
       "      <th>organism_id</th>\n",
       "      <th>interaction</th>\n",
       "      <th>interaction_actions</th>\n",
       "      <th>pub_med_ids</th>\n",
       "    </tr>\n",
       "  </thead>\n",
       "  <tbody>\n",
       "    <tr>\n",
       "      <th>0</th>\n",
       "      <td>10074-G5</td>\n",
       "      <td>C534883</td>\n",
       "      <td>NaN</td>\n",
       "      <td>MAX</td>\n",
       "      <td>4149</td>\n",
       "      <td>protein</td>\n",
       "      <td>NaN</td>\n",
       "      <td>NaN</td>\n",
       "      <td>10074-G5 affects the folding of and results in...</td>\n",
       "      <td>affects^binding</td>\n",
       "      <td>26474287</td>\n",
       "    </tr>\n",
       "    <tr>\n",
       "      <th>1</th>\n",
       "      <td>10074-G5</td>\n",
       "      <td>C534883</td>\n",
       "      <td>NaN</td>\n",
       "      <td>MAX</td>\n",
       "      <td>4149</td>\n",
       "      <td>protein</td>\n",
       "      <td>NaN</td>\n",
       "      <td>NaN</td>\n",
       "      <td>10074-G5 affects the folding of and results in...</td>\n",
       "      <td>affects^folding</td>\n",
       "      <td>26474287</td>\n",
       "    </tr>\n",
       "    <tr>\n",
       "      <th>2</th>\n",
       "      <td>10074-G5</td>\n",
       "      <td>C534883</td>\n",
       "      <td>NaN</td>\n",
       "      <td>MAX</td>\n",
       "      <td>4149</td>\n",
       "      <td>protein</td>\n",
       "      <td>NaN</td>\n",
       "      <td>NaN</td>\n",
       "      <td>10074-G5 affects the folding of and results in...</td>\n",
       "      <td>decreases^activity</td>\n",
       "      <td>26474287</td>\n",
       "    </tr>\n",
       "    <tr>\n",
       "      <th>3</th>\n",
       "      <td>10074-G5</td>\n",
       "      <td>C534883</td>\n",
       "      <td>NaN</td>\n",
       "      <td>MAX</td>\n",
       "      <td>4149</td>\n",
       "      <td>protein</td>\n",
       "      <td>NaN</td>\n",
       "      <td>NaN</td>\n",
       "      <td>10074-G5 inhibits the reaction [MYC protein bi...</td>\n",
       "      <td>affects^binding</td>\n",
       "      <td>26474287</td>\n",
       "    </tr>\n",
       "    <tr>\n",
       "      <th>4</th>\n",
       "      <td>10074-G5</td>\n",
       "      <td>C534883</td>\n",
       "      <td>NaN</td>\n",
       "      <td>MAX</td>\n",
       "      <td>4149</td>\n",
       "      <td>protein</td>\n",
       "      <td>NaN</td>\n",
       "      <td>NaN</td>\n",
       "      <td>10074-G5 inhibits the reaction [MYC protein bi...</td>\n",
       "      <td>decreases^reaction</td>\n",
       "      <td>26474287</td>\n",
       "    </tr>\n",
       "  </tbody>\n",
       "</table>\n",
       "</div>"
      ],
      "text/plain": [
       "  chemical_name chemical_id cas_rn gene_symbol  gene_id gene_forms organism  \\\n",
       "0      10074-G5     C534883    NaN         MAX     4149    protein      NaN   \n",
       "1      10074-G5     C534883    NaN         MAX     4149    protein      NaN   \n",
       "2      10074-G5     C534883    NaN         MAX     4149    protein      NaN   \n",
       "3      10074-G5     C534883    NaN         MAX     4149    protein      NaN   \n",
       "4      10074-G5     C534883    NaN         MAX     4149    protein      NaN   \n",
       "\n",
       "   organism_id                                        interaction  \\\n",
       "0          NaN  10074-G5 affects the folding of and results in...   \n",
       "1          NaN  10074-G5 affects the folding of and results in...   \n",
       "2          NaN  10074-G5 affects the folding of and results in...   \n",
       "3          NaN  10074-G5 inhibits the reaction [MYC protein bi...   \n",
       "4          NaN  10074-G5 inhibits the reaction [MYC protein bi...   \n",
       "\n",
       "  interaction_actions pub_med_ids  \n",
       "0     affects^binding    26474287  \n",
       "1     affects^folding    26474287  \n",
       "2  decreases^activity    26474287  \n",
       "3     affects^binding    26474287  \n",
       "4  decreases^reaction    26474287  "
      ]
     },
     "execution_count": 40,
     "metadata": {},
     "output_type": "execute_result"
    }
   ],
   "source": [
    "chem_gene = pr.expand_col_on_char(chem_gene, 'interaction_actions', '|')\n",
    "chem_gene.head(5)"
   ]
  },
  {
   "cell_type": "code",
   "execution_count": 41,
   "metadata": {},
   "outputs": [
    {
     "data": {
      "text/plain": [
       "array(['affects', 'decreases', 'increases'], dtype=object)"
      ]
     },
     "execution_count": 41,
     "metadata": {},
     "output_type": "execute_result"
    }
   ],
   "source": [
    "ixn_dirs = chem_gene['interaction_actions'].str.split('^', expand=True)[0].unique()\n",
    "ixn_dirs"
   ]
  },
  {
   "cell_type": "code",
   "execution_count": 42,
   "metadata": {},
   "outputs": [],
   "source": [
    "directed_ixn_map_to_par_full = prepend_direction_to_map(ixn_map_to_par_full, ixn_dirs, '^')"
   ]
  },
  {
   "cell_type": "code",
   "execution_count": 43,
   "metadata": {},
   "outputs": [
    {
     "data": {
      "text/html": [
       "<div>\n",
       "<style scoped>\n",
       "    .dataframe tbody tr th:only-of-type {\n",
       "        vertical-align: middle;\n",
       "    }\n",
       "\n",
       "    .dataframe tbody tr th {\n",
       "        vertical-align: top;\n",
       "    }\n",
       "\n",
       "    .dataframe thead th {\n",
       "        text-align: right;\n",
       "    }\n",
       "</style>\n",
       "<table border=\"1\" class=\"dataframe\">\n",
       "  <thead>\n",
       "    <tr style=\"text-align: right;\">\n",
       "      <th></th>\n",
       "      <th>chemical_name</th>\n",
       "      <th>chemical_id</th>\n",
       "      <th>cas_rn</th>\n",
       "      <th>gene_symbol</th>\n",
       "      <th>gene_id</th>\n",
       "      <th>gene_forms</th>\n",
       "      <th>organism</th>\n",
       "      <th>organism_id</th>\n",
       "      <th>interaction</th>\n",
       "      <th>interaction_actions</th>\n",
       "      <th>pub_med_ids</th>\n",
       "      <th>parent_ixn</th>\n",
       "    </tr>\n",
       "  </thead>\n",
       "  <tbody>\n",
       "    <tr>\n",
       "      <th>0</th>\n",
       "      <td>10074-G5</td>\n",
       "      <td>C534883</td>\n",
       "      <td>NaN</td>\n",
       "      <td>MAX</td>\n",
       "      <td>4149</td>\n",
       "      <td>protein</td>\n",
       "      <td>NaN</td>\n",
       "      <td>NaN</td>\n",
       "      <td>10074-G5 affects the folding of and results in...</td>\n",
       "      <td>affects^binding</td>\n",
       "      <td>26474287</td>\n",
       "      <td>affects^binding</td>\n",
       "    </tr>\n",
       "    <tr>\n",
       "      <th>1</th>\n",
       "      <td>10074-G5</td>\n",
       "      <td>C534883</td>\n",
       "      <td>NaN</td>\n",
       "      <td>MAX</td>\n",
       "      <td>4149</td>\n",
       "      <td>protein</td>\n",
       "      <td>NaN</td>\n",
       "      <td>NaN</td>\n",
       "      <td>10074-G5 affects the folding of and results in...</td>\n",
       "      <td>affects^folding</td>\n",
       "      <td>26474287</td>\n",
       "      <td>affects^folding</td>\n",
       "    </tr>\n",
       "    <tr>\n",
       "      <th>2</th>\n",
       "      <td>10074-G5</td>\n",
       "      <td>C534883</td>\n",
       "      <td>NaN</td>\n",
       "      <td>MAX</td>\n",
       "      <td>4149</td>\n",
       "      <td>protein</td>\n",
       "      <td>NaN</td>\n",
       "      <td>NaN</td>\n",
       "      <td>10074-G5 affects the folding of and results in...</td>\n",
       "      <td>decreases^activity</td>\n",
       "      <td>26474287</td>\n",
       "      <td>decreases^activity</td>\n",
       "    </tr>\n",
       "    <tr>\n",
       "      <th>3</th>\n",
       "      <td>10074-G5</td>\n",
       "      <td>C534883</td>\n",
       "      <td>NaN</td>\n",
       "      <td>MAX</td>\n",
       "      <td>4149</td>\n",
       "      <td>protein</td>\n",
       "      <td>NaN</td>\n",
       "      <td>NaN</td>\n",
       "      <td>10074-G5 inhibits the reaction [MYC protein bi...</td>\n",
       "      <td>affects^binding</td>\n",
       "      <td>26474287</td>\n",
       "      <td>affects^binding</td>\n",
       "    </tr>\n",
       "    <tr>\n",
       "      <th>4</th>\n",
       "      <td>10074-G5</td>\n",
       "      <td>C534883</td>\n",
       "      <td>NaN</td>\n",
       "      <td>MAX</td>\n",
       "      <td>4149</td>\n",
       "      <td>protein</td>\n",
       "      <td>NaN</td>\n",
       "      <td>NaN</td>\n",
       "      <td>10074-G5 inhibits the reaction [MYC protein bi...</td>\n",
       "      <td>decreases^reaction</td>\n",
       "      <td>26474287</td>\n",
       "      <td>decreases^reaction</td>\n",
       "    </tr>\n",
       "  </tbody>\n",
       "</table>\n",
       "</div>"
      ],
      "text/plain": [
       "  chemical_name chemical_id cas_rn gene_symbol  gene_id gene_forms organism  \\\n",
       "0      10074-G5     C534883    NaN         MAX     4149    protein      NaN   \n",
       "1      10074-G5     C534883    NaN         MAX     4149    protein      NaN   \n",
       "2      10074-G5     C534883    NaN         MAX     4149    protein      NaN   \n",
       "3      10074-G5     C534883    NaN         MAX     4149    protein      NaN   \n",
       "4      10074-G5     C534883    NaN         MAX     4149    protein      NaN   \n",
       "\n",
       "   organism_id                                        interaction  \\\n",
       "0          NaN  10074-G5 affects the folding of and results in...   \n",
       "1          NaN  10074-G5 affects the folding of and results in...   \n",
       "2          NaN  10074-G5 affects the folding of and results in...   \n",
       "3          NaN  10074-G5 inhibits the reaction [MYC protein bi...   \n",
       "4          NaN  10074-G5 inhibits the reaction [MYC protein bi...   \n",
       "\n",
       "  interaction_actions pub_med_ids          parent_ixn  \n",
       "0     affects^binding    26474287     affects^binding  \n",
       "1     affects^folding    26474287     affects^folding  \n",
       "2  decreases^activity    26474287  decreases^activity  \n",
       "3     affects^binding    26474287     affects^binding  \n",
       "4  decreases^reaction    26474287  decreases^reaction  "
      ]
     },
     "execution_count": 43,
     "metadata": {},
     "output_type": "execute_result"
    }
   ],
   "source": [
    "chem_gene['parent_ixn'] = chem_gene['interaction_actions'].map(directed_ixn_map_to_par_full)\n",
    "chem_gene.head(5)"
   ]
  },
  {
   "cell_type": "code",
   "execution_count": 44,
   "metadata": {},
   "outputs": [],
   "source": [
    "# Fix typing on organism IDs as they will be floats...\n",
    "idx = chem_gene.dropna(subset=['organism_id']).index\n",
    "chem_gene.loc[idx, 'organism_id'] = chem_gene.loc[idx, 'organism_id'].apply(lambda s: str(int(s)))"
   ]
  },
  {
   "cell_type": "code",
   "execution_count": 45,
   "metadata": {},
   "outputs": [],
   "source": [
    "chem_gene['chemical_id'] = 'MESH:' + chem_gene['chemical_id']\n",
    "chem_gene['organism_id'] = 'NCBITaxon:' + chem_gene['organism_id']\n",
    "chem_gene['gene_id'] = 'NCBIGene:' + chem_gene['gene_id'].astype(str)"
   ]
  },
  {
   "cell_type": "code",
   "execution_count": 46,
   "metadata": {},
   "outputs": [
    {
     "name": "stdout",
     "output_type": "stream",
     "text": [
      "CPU times: user 1min 24s, sys: 792 ms, total: 1min 24s\n",
      "Wall time: 1min 24s\n"
     ]
    }
   ],
   "source": [
    "%%time\n",
    "chem_gene = pr.combine_group_cols_on_char(chem_gene, ['chemical_id', 'gene_id', 'parent_ixn'],\n",
    "                                          ['pub_med_ids', 'organism_id'], sort=True, prog=False)"
   ]
  },
  {
   "cell_type": "code",
   "execution_count": 47,
   "metadata": {},
   "outputs": [],
   "source": [
    "cg_edges = chem_gene[['chemical_id', 'gene_id', 'parent_ixn', 'pub_med_ids', 'organism_id']]\n",
    "cg_edges = cg_edges.rename(columns={'chemical_id': 'start_id', 'gene_id': 'end_id'})"
   ]
  },
  {
   "cell_type": "code",
   "execution_count": 48,
   "metadata": {},
   "outputs": [
    {
     "data": {
      "text/plain": [
       "increases^expression               479825\n",
       "decreases^expression               410983\n",
       "affects^cotreatment                184777\n",
       "affects^expression                 137093\n",
       "decreases^reaction                  95223\n",
       "increases^metabolic processing      66522\n",
       "affects^binding                     36161\n",
       "increases^reaction                  30886\n",
       "increases^activity                  29001\n",
       "decreases^metabolic processing      28742\n",
       "decreases^activity                  21926\n",
       "affects^reaction                    17713\n",
       "affects^metabolic processing        16070\n",
       "increases^transport                 12559\n",
       "affects^response to substance       12279\n",
       "increases^response to substance      7964\n",
       "decreases^response to substance      6965\n",
       "increases^abundance                  6253\n",
       "affects^localization                 5965\n",
       "decreases^transport                  2632\n",
       "affects^activity                     2382\n",
       "affects^transport                    1700\n",
       "increases^mutagenesis                1529\n",
       "decreases^abundance                  1464\n",
       "affects^splicing                     1238\n",
       "affects^abundance                    1137\n",
       "increases^localization               1114\n",
       "increases^stability                   510\n",
       "affects^folding                       434\n",
       "decreases^localization                271\n",
       "decreases^stability                   141\n",
       "increases^splicing                    114\n",
       "decreases^folding                      25\n",
       "affects^stability                      21\n",
       "affects^mutagenesis                    19\n",
       "increases^folding                      10\n",
       "decreases^splicing                      9\n",
       "decreases^mutagenesis                   6\n",
       "Name: parent_ixn, dtype: int64"
      ]
     },
     "execution_count": 48,
     "metadata": {},
     "output_type": "execute_result"
    }
   ],
   "source": [
    "cg_edges['parent_ixn'].value_counts()"
   ]
  },
  {
   "cell_type": "markdown",
   "metadata": {},
   "source": [
    "Lots of different things here, but basically all we care about is +, -, and general association in terms of activity... for now we will keep a distinction between expression and activity, but these may be merged later."
   ]
  },
  {
   "cell_type": "code",
   "execution_count": 49,
   "metadata": {},
   "outputs": [],
   "source": [
    "keep_ixns = [direction+'^expression' for direction in ixn_dirs]\n",
    "keep_ixns += [direction+'^activity' for direction in ixn_dirs]"
   ]
  },
  {
   "cell_type": "code",
   "execution_count": 50,
   "metadata": {},
   "outputs": [
    {
     "data": {
      "text/html": [
       "<div>\n",
       "<style scoped>\n",
       "    .dataframe tbody tr th:only-of-type {\n",
       "        vertical-align: middle;\n",
       "    }\n",
       "\n",
       "    .dataframe tbody tr th {\n",
       "        vertical-align: top;\n",
       "    }\n",
       "\n",
       "    .dataframe thead th {\n",
       "        text-align: right;\n",
       "    }\n",
       "</style>\n",
       "<table border=\"1\" class=\"dataframe\">\n",
       "  <thead>\n",
       "    <tr style=\"text-align: right;\">\n",
       "      <th></th>\n",
       "      <th>start_id</th>\n",
       "      <th>end_id</th>\n",
       "      <th>parent_ixn</th>\n",
       "      <th>pub_med_ids</th>\n",
       "      <th>organism_id</th>\n",
       "      <th>type</th>\n",
       "    </tr>\n",
       "  </thead>\n",
       "  <tbody>\n",
       "    <tr>\n",
       "      <th>1</th>\n",
       "      <td>MESH:C534883</td>\n",
       "      <td>NCBIGene:4149</td>\n",
       "      <td>decreases^activity</td>\n",
       "      <td>26474287</td>\n",
       "      <td>NaN</td>\n",
       "      <td>decreases_activity</td>\n",
       "    </tr>\n",
       "    <tr>\n",
       "      <th>6</th>\n",
       "      <td>MESH:C112297</td>\n",
       "      <td>NCBIGene:2353</td>\n",
       "      <td>increases^expression</td>\n",
       "      <td>26348896</td>\n",
       "      <td>NCBITaxon:10090</td>\n",
       "      <td>increases_expression</td>\n",
       "    </tr>\n",
       "    <tr>\n",
       "      <th>7</th>\n",
       "      <td>MESH:C112297</td>\n",
       "      <td>NCBIGene:3784</td>\n",
       "      <td>decreases^activity</td>\n",
       "      <td>18568022</td>\n",
       "      <td>NaN</td>\n",
       "      <td>decreases_activity</td>\n",
       "    </tr>\n",
       "    <tr>\n",
       "      <th>9</th>\n",
       "      <td>MESH:C112297</td>\n",
       "      <td>NCBIGene:3785</td>\n",
       "      <td>increases^activity</td>\n",
       "      <td>15634793</td>\n",
       "      <td>NCBITaxon:10090</td>\n",
       "      <td>increases_activity</td>\n",
       "    </tr>\n",
       "    <tr>\n",
       "      <th>16</th>\n",
       "      <td>MESH:C039775</td>\n",
       "      <td>NCBIGene:1557</td>\n",
       "      <td>decreases^activity</td>\n",
       "      <td>17516704</td>\n",
       "      <td>NaN</td>\n",
       "      <td>decreases_activity</td>\n",
       "    </tr>\n",
       "  </tbody>\n",
       "</table>\n",
       "</div>"
      ],
      "text/plain": [
       "        start_id         end_id            parent_ixn pub_med_ids  \\\n",
       "1   MESH:C534883  NCBIGene:4149    decreases^activity    26474287   \n",
       "6   MESH:C112297  NCBIGene:2353  increases^expression    26348896   \n",
       "7   MESH:C112297  NCBIGene:3784    decreases^activity    18568022   \n",
       "9   MESH:C112297  NCBIGene:3785    increases^activity    15634793   \n",
       "16  MESH:C039775  NCBIGene:1557    decreases^activity    17516704   \n",
       "\n",
       "        organism_id                  type  \n",
       "1               NaN    decreases_activity  \n",
       "6   NCBITaxon:10090  increases_expression  \n",
       "7               NaN    decreases_activity  \n",
       "9   NCBITaxon:10090    increases_activity  \n",
       "16              NaN    decreases_activity  "
      ]
     },
     "execution_count": 50,
     "metadata": {},
     "output_type": "execute_result"
    }
   ],
   "source": [
    "cg_edges = cg_edges.query('parent_ixn in @keep_ixns')\n",
    "\n",
    "cg_edges['type'] = cg_edges['parent_ixn'].str.replace('^', '_')\n",
    "\n",
    "cg_edges.head(5)"
   ]
  },
  {
   "cell_type": "code",
   "execution_count": 51,
   "metadata": {},
   "outputs": [],
   "source": [
    "edges.append(cg_edges)"
   ]
  },
  {
   "cell_type": "code",
   "execution_count": 52,
   "metadata": {
    "scrolled": true
   },
   "outputs": [
    {
     "data": {
      "text/plain": [
       "1081210"
      ]
     },
     "execution_count": 52,
     "metadata": {},
     "output_type": "execute_result"
    }
   ],
   "source": [
    "len(cg_edges)"
   ]
  },
  {
   "cell_type": "markdown",
   "metadata": {},
   "source": [
    "    from itertools import chain\n",
    "\n",
    "    comp_p2c_df = pd.DataFrame({'parent_id': list(chain(*[[k]*len(v) for k, v in comp_p2c.items()])), \n",
    "                                    'child_id': list(chain(*[v for k, v in comp_p2c.items()])) })\n",
    "\n",
    "    cg_expand = cg_edges.copy()\n",
    "    cg_expand = cg_expand.merge(comp_p2c_df, how='inner', left_on='start_id', right_on='parent_id')\n",
    "\n",
    "    cg_expand['start_id'] = cg_expand['child_id']\n",
    "    cg_expand = cg_expand.drop(['parent_id', 'child_id'], axis=1)\n",
    "\n",
    "    cg_expand = pd.concat([cg_edges, cg_expand])\n"
   ]
  },
  {
   "cell_type": "code",
   "execution_count": 53,
   "metadata": {},
   "outputs": [],
   "source": [
    "cg_edges['source'] = 'CTD'\n",
    "cg_edges['dsrc_type'] = 'curated'\n",
    "cg_edges['license'] = 'http://ctdbase.org/about/legal.jsp'"
   ]
  },
  {
   "cell_type": "code",
   "execution_count": 54,
   "metadata": {},
   "outputs": [
    {
     "name": "stdout",
     "output_type": "stream",
     "text": [
      "CTD_chemicals_diseases.csv.gz\n"
     ]
    }
   ],
   "source": [
    "print(e_files[1])"
   ]
  },
  {
   "cell_type": "markdown",
   "metadata": {},
   "source": [
    "### Chem to Disease"
   ]
  },
  {
   "cell_type": "code",
   "execution_count": 55,
   "metadata": {},
   "outputs": [
    {
     "data": {
      "text/html": [
       "<div>\n",
       "<style scoped>\n",
       "    .dataframe tbody tr th:only-of-type {\n",
       "        vertical-align: middle;\n",
       "    }\n",
       "\n",
       "    .dataframe tbody tr th {\n",
       "        vertical-align: top;\n",
       "    }\n",
       "\n",
       "    .dataframe thead th {\n",
       "        text-align: right;\n",
       "    }\n",
       "</style>\n",
       "<table border=\"1\" class=\"dataframe\">\n",
       "  <thead>\n",
       "    <tr style=\"text-align: right;\">\n",
       "      <th></th>\n",
       "      <th>chemical_name</th>\n",
       "      <th>chemical_id</th>\n",
       "      <th>cas_rn</th>\n",
       "      <th>disease_name</th>\n",
       "      <th>disease_id</th>\n",
       "      <th>direct_evidence</th>\n",
       "      <th>inference_gene_symbol</th>\n",
       "      <th>inference_score</th>\n",
       "      <th>omim_ids</th>\n",
       "      <th>pub_med_ids</th>\n",
       "    </tr>\n",
       "  </thead>\n",
       "  <tbody>\n",
       "    <tr>\n",
       "      <th>0</th>\n",
       "      <td>06-Paris-LA-66 protocol</td>\n",
       "      <td>C046983</td>\n",
       "      <td>NaN</td>\n",
       "      <td>Precursor Cell Lymphoblastic Leukemia-Lymphoma</td>\n",
       "      <td>MESH:D054198</td>\n",
       "      <td>therapeutic</td>\n",
       "      <td>NaN</td>\n",
       "      <td>NaN</td>\n",
       "      <td>NaN</td>\n",
       "      <td>4519131</td>\n",
       "    </tr>\n",
       "    <tr>\n",
       "      <th>1</th>\n",
       "      <td>10074-G5</td>\n",
       "      <td>C534883</td>\n",
       "      <td>NaN</td>\n",
       "      <td>Adenocarcinoma</td>\n",
       "      <td>MESH:D000230</td>\n",
       "      <td>NaN</td>\n",
       "      <td>MYC</td>\n",
       "      <td>4.4</td>\n",
       "      <td>NaN</td>\n",
       "      <td>26432044</td>\n",
       "    </tr>\n",
       "  </tbody>\n",
       "</table>\n",
       "</div>"
      ],
      "text/plain": [
       "             chemical_name chemical_id cas_rn  \\\n",
       "0  06-Paris-LA-66 protocol     C046983    NaN   \n",
       "1                 10074-G5     C534883    NaN   \n",
       "\n",
       "                                     disease_name    disease_id  \\\n",
       "0  Precursor Cell Lymphoblastic Leukemia-Lymphoma  MESH:D054198   \n",
       "1                                  Adenocarcinoma  MESH:D000230   \n",
       "\n",
       "  direct_evidence inference_gene_symbol  inference_score omim_ids pub_med_ids  \n",
       "0     therapeutic                   NaN              NaN      NaN     4519131  \n",
       "1             NaN                   MYC              4.4      NaN    26432044  "
      ]
     },
     "execution_count": 55,
     "metadata": {},
     "output_type": "execute_result"
    }
   ],
   "source": [
    "chem_dis = read_ctd(load_dir.joinpath(e_files[1]))\n",
    "chem_dis.head(2)"
   ]
  },
  {
   "cell_type": "code",
   "execution_count": 56,
   "metadata": {},
   "outputs": [
    {
     "data": {
      "text/html": [
       "<div>\n",
       "<style scoped>\n",
       "    .dataframe tbody tr th:only-of-type {\n",
       "        vertical-align: middle;\n",
       "    }\n",
       "\n",
       "    .dataframe tbody tr th {\n",
       "        vertical-align: top;\n",
       "    }\n",
       "\n",
       "    .dataframe thead th {\n",
       "        text-align: right;\n",
       "    }\n",
       "</style>\n",
       "<table border=\"1\" class=\"dataframe\">\n",
       "  <thead>\n",
       "    <tr style=\"text-align: right;\">\n",
       "      <th></th>\n",
       "      <th>chemical_name</th>\n",
       "      <th>chemical_id</th>\n",
       "      <th>cas_rn</th>\n",
       "      <th>disease_name</th>\n",
       "      <th>disease_id</th>\n",
       "      <th>direct_evidence</th>\n",
       "      <th>inference_gene_symbol</th>\n",
       "      <th>inference_score</th>\n",
       "      <th>omim_ids</th>\n",
       "      <th>pub_med_ids</th>\n",
       "    </tr>\n",
       "  </thead>\n",
       "  <tbody>\n",
       "    <tr>\n",
       "      <th>0</th>\n",
       "      <td>06-Paris-LA-66 protocol</td>\n",
       "      <td>C046983</td>\n",
       "      <td>NaN</td>\n",
       "      <td>Precursor Cell Lymphoblastic Leukemia-Lymphoma</td>\n",
       "      <td>MESH:D054198</td>\n",
       "      <td>therapeutic</td>\n",
       "      <td>NaN</td>\n",
       "      <td>NaN</td>\n",
       "      <td>NaN</td>\n",
       "      <td>4519131</td>\n",
       "    </tr>\n",
       "    <tr>\n",
       "      <th>1</th>\n",
       "      <td>10074-G5</td>\n",
       "      <td>C534883</td>\n",
       "      <td>NaN</td>\n",
       "      <td>Adenocarcinoma</td>\n",
       "      <td>MESH:D000230</td>\n",
       "      <td>NaN</td>\n",
       "      <td>MYC</td>\n",
       "      <td>4.4</td>\n",
       "      <td>NaN</td>\n",
       "      <td>26432044</td>\n",
       "    </tr>\n",
       "  </tbody>\n",
       "</table>\n",
       "</div>"
      ],
      "text/plain": [
       "             chemical_name chemical_id cas_rn  \\\n",
       "0  06-Paris-LA-66 protocol     C046983    NaN   \n",
       "1                 10074-G5     C534883    NaN   \n",
       "\n",
       "                                     disease_name    disease_id  \\\n",
       "0  Precursor Cell Lymphoblastic Leukemia-Lymphoma  MESH:D054198   \n",
       "1                                  Adenocarcinoma  MESH:D000230   \n",
       "\n",
       "  direct_evidence inference_gene_symbol  inference_score omim_ids pub_med_ids  \n",
       "0     therapeutic                   NaN              NaN      NaN     4519131  \n",
       "1             NaN                   MYC              4.4      NaN    26432044  "
      ]
     },
     "execution_count": 56,
     "metadata": {},
     "output_type": "execute_result"
    }
   ],
   "source": [
    "chem_dis.head(2)"
   ]
  },
  {
   "cell_type": "markdown",
   "metadata": {},
   "source": [
    "Want chem_id, and disease_id... only want curated for now, so those with direct evedence. Direct evidence will be the semmantic type of the edges"
   ]
  },
  {
   "cell_type": "code",
   "execution_count": 57,
   "metadata": {},
   "outputs": [
    {
     "data": {
      "text/plain": [
       "marker/mechanism    62915\n",
       "therapeutic         34573\n",
       "Name: direct_evidence, dtype: int64"
      ]
     },
     "execution_count": 57,
     "metadata": {},
     "output_type": "execute_result"
    }
   ],
   "source": [
    "chem_dis['direct_evidence'].value_counts()"
   ]
  },
  {
   "cell_type": "code",
   "execution_count": 58,
   "metadata": {},
   "outputs": [
    {
     "data": {
      "text/html": [
       "<div>\n",
       "<style scoped>\n",
       "    .dataframe tbody tr th:only-of-type {\n",
       "        vertical-align: middle;\n",
       "    }\n",
       "\n",
       "    .dataframe tbody tr th {\n",
       "        vertical-align: top;\n",
       "    }\n",
       "\n",
       "    .dataframe thead th {\n",
       "        text-align: right;\n",
       "    }\n",
       "</style>\n",
       "<table border=\"1\" class=\"dataframe\">\n",
       "  <thead>\n",
       "    <tr style=\"text-align: right;\">\n",
       "      <th></th>\n",
       "      <th>chemical_id</th>\n",
       "      <th>disease_id</th>\n",
       "      <th>direct_evidence</th>\n",
       "      <th>pub_med_ids</th>\n",
       "    </tr>\n",
       "  </thead>\n",
       "  <tbody>\n",
       "    <tr>\n",
       "      <th>0</th>\n",
       "      <td>C046983</td>\n",
       "      <td>MESH:D054198</td>\n",
       "      <td>therapeutic</td>\n",
       "      <td>4519131</td>\n",
       "    </tr>\n",
       "    <tr>\n",
       "      <th>72</th>\n",
       "      <td>C112297</td>\n",
       "      <td>MESH:D006948</td>\n",
       "      <td>marker/mechanism</td>\n",
       "      <td>19098162</td>\n",
       "    </tr>\n",
       "  </tbody>\n",
       "</table>\n",
       "</div>"
      ],
      "text/plain": [
       "   chemical_id    disease_id   direct_evidence pub_med_ids\n",
       "0      C046983  MESH:D054198       therapeutic     4519131\n",
       "72     C112297  MESH:D006948  marker/mechanism    19098162"
      ]
     },
     "execution_count": 58,
     "metadata": {},
     "output_type": "execute_result"
    }
   ],
   "source": [
    "cd_edges = chem_dis.dropna(subset=['direct_evidence'])[['chemical_id', 'disease_id', 'direct_evidence', 'pub_med_ids']]\n",
    "cd_edges.head(2)"
   ]
  },
  {
   "cell_type": "code",
   "execution_count": 59,
   "metadata": {},
   "outputs": [
    {
     "data": {
      "text/html": [
       "<div>\n",
       "<style scoped>\n",
       "    .dataframe tbody tr th:only-of-type {\n",
       "        vertical-align: middle;\n",
       "    }\n",
       "\n",
       "    .dataframe tbody tr th {\n",
       "        vertical-align: top;\n",
       "    }\n",
       "\n",
       "    .dataframe thead th {\n",
       "        text-align: right;\n",
       "    }\n",
       "</style>\n",
       "<table border=\"1\" class=\"dataframe\">\n",
       "  <thead>\n",
       "    <tr style=\"text-align: right;\">\n",
       "      <th></th>\n",
       "      <th>start_id</th>\n",
       "      <th>end_id</th>\n",
       "      <th>direct_evidence</th>\n",
       "      <th>pub_med_ids</th>\n",
       "      <th>type</th>\n",
       "    </tr>\n",
       "  </thead>\n",
       "  <tbody>\n",
       "    <tr>\n",
       "      <th>0</th>\n",
       "      <td>MESH:C046983</td>\n",
       "      <td>MESH:D054198</td>\n",
       "      <td>therapeutic</td>\n",
       "      <td>4519131</td>\n",
       "      <td>therapeutic</td>\n",
       "    </tr>\n",
       "    <tr>\n",
       "      <th>72</th>\n",
       "      <td>MESH:C112297</td>\n",
       "      <td>MESH:D006948</td>\n",
       "      <td>marker/mechanism</td>\n",
       "      <td>19098162</td>\n",
       "      <td>marker_or_mechanism</td>\n",
       "    </tr>\n",
       "    <tr>\n",
       "      <th>87</th>\n",
       "      <td>MESH:C112297</td>\n",
       "      <td>MESH:D012640</td>\n",
       "      <td>marker/mechanism</td>\n",
       "      <td>26348896</td>\n",
       "      <td>marker_or_mechanism</td>\n",
       "    </tr>\n",
       "    <tr>\n",
       "      <th>135</th>\n",
       "      <td>MESH:C039775</td>\n",
       "      <td>MESH:D004827</td>\n",
       "      <td>therapeutic</td>\n",
       "      <td>17516704</td>\n",
       "      <td>therapeutic</td>\n",
       "    </tr>\n",
       "    <tr>\n",
       "      <th>190</th>\n",
       "      <td>MESH:C425777</td>\n",
       "      <td>MESH:D006948</td>\n",
       "      <td>marker/mechanism</td>\n",
       "      <td>15765258</td>\n",
       "      <td>marker_or_mechanism</td>\n",
       "    </tr>\n",
       "  </tbody>\n",
       "</table>\n",
       "</div>"
      ],
      "text/plain": [
       "         start_id        end_id   direct_evidence pub_med_ids  \\\n",
       "0    MESH:C046983  MESH:D054198       therapeutic     4519131   \n",
       "72   MESH:C112297  MESH:D006948  marker/mechanism    19098162   \n",
       "87   MESH:C112297  MESH:D012640  marker/mechanism    26348896   \n",
       "135  MESH:C039775  MESH:D004827       therapeutic    17516704   \n",
       "190  MESH:C425777  MESH:D006948  marker/mechanism    15765258   \n",
       "\n",
       "                    type  \n",
       "0            therapeutic  \n",
       "72   marker_or_mechanism  \n",
       "87   marker_or_mechanism  \n",
       "135          therapeutic  \n",
       "190  marker_or_mechanism  "
      ]
     },
     "execution_count": 59,
     "metadata": {},
     "output_type": "execute_result"
    }
   ],
   "source": [
    "cd_edges = cd_edges.rename(columns={'chemical_id': 'start_id', 'disease_id': 'end_id'})\n",
    "cd_edges['type'] = cd_edges['direct_evidence'].str.replace('/', '_or_')\n",
    "cd_edges['start_id'] = 'MESH:' + cd_edges['start_id']\n",
    "\n",
    "cd_edges.head(5)"
   ]
  },
  {
   "cell_type": "code",
   "execution_count": 60,
   "metadata": {},
   "outputs": [
    {
     "data": {
      "text/plain": [
       "97488"
      ]
     },
     "execution_count": 60,
     "metadata": {},
     "output_type": "execute_result"
    }
   ],
   "source": [
    "len(cd_edges)"
   ]
  },
  {
   "cell_type": "code",
   "execution_count": 61,
   "metadata": {},
   "outputs": [],
   "source": [
    "cd_edges['source'] = 'CTD'\n",
    "cd_edges['dsrc_type'] = 'curated'\n",
    "cd_edges['license'] = 'http://ctdbase.org/about/legal.jsp'"
   ]
  },
  {
   "cell_type": "code",
   "execution_count": 62,
   "metadata": {},
   "outputs": [],
   "source": [
    "edges.append(cd_edges)"
   ]
  },
  {
   "cell_type": "markdown",
   "metadata": {},
   "source": [
    "    cd_expand = cd_edges.copy()\n",
    "\n",
    "    cd_expand = cd_expand.merge(comp_p2c_df, how='inner', left_on='start_id', right_on='parent_id')\n",
    "\n",
    "    dis_p2c_df = pd.DataFrame({'parent_id': list(chain(*[[k]*len(v) for k, v in dis_p2c_map.items()])), \n",
    "                                    'child_id': list(chain(*[v for k, v in dis_p2c_map.items()])) })\n",
    "\n",
    "    cd_expand = cd_expand.merge(dis_p2c_df, how='inner', left_on='end_id', right_on='parent_id')\n",
    "    cd_expand.shape"
   ]
  },
  {
   "cell_type": "code",
   "execution_count": 63,
   "metadata": {},
   "outputs": [
    {
     "data": {
      "text/plain": [
       "'CTD_chem_go_enriched.csv.gz'"
      ]
     },
     "execution_count": 63,
     "metadata": {},
     "output_type": "execute_result"
    }
   ],
   "source": [
    "e_files[2]"
   ]
  },
  {
   "cell_type": "markdown",
   "metadata": {},
   "source": [
    "### Chem to GO"
   ]
  },
  {
   "cell_type": "code",
   "execution_count": 64,
   "metadata": {},
   "outputs": [
    {
     "data": {
      "text/html": [
       "<div>\n",
       "<style scoped>\n",
       "    .dataframe tbody tr th:only-of-type {\n",
       "        vertical-align: middle;\n",
       "    }\n",
       "\n",
       "    .dataframe tbody tr th {\n",
       "        vertical-align: top;\n",
       "    }\n",
       "\n",
       "    .dataframe thead th {\n",
       "        text-align: right;\n",
       "    }\n",
       "</style>\n",
       "<table border=\"1\" class=\"dataframe\">\n",
       "  <thead>\n",
       "    <tr style=\"text-align: right;\">\n",
       "      <th></th>\n",
       "      <th>chemical_name</th>\n",
       "      <th>chemical_id</th>\n",
       "      <th>cas_rn</th>\n",
       "      <th>ontology</th>\n",
       "      <th>goterm_name</th>\n",
       "      <th>goterm_id</th>\n",
       "      <th>highest_golevel</th>\n",
       "      <th>pvalue</th>\n",
       "      <th>corrected_pvalue</th>\n",
       "      <th>target_match_qty</th>\n",
       "      <th>target_total_qty</th>\n",
       "      <th>background_match_qty</th>\n",
       "      <th>background_total_qty</th>\n",
       "    </tr>\n",
       "  </thead>\n",
       "  <tbody>\n",
       "    <tr>\n",
       "      <th>0</th>\n",
       "      <td>10074-G5</td>\n",
       "      <td>C534883</td>\n",
       "      <td>NaN</td>\n",
       "      <td>Molecular Function</td>\n",
       "      <td>E-box binding</td>\n",
       "      <td>GO:0070888</td>\n",
       "      <td>9</td>\n",
       "      <td>0.000001</td>\n",
       "      <td>0.000652</td>\n",
       "      <td>2</td>\n",
       "      <td>2</td>\n",
       "      <td>49</td>\n",
       "      <td>43112</td>\n",
       "    </tr>\n",
       "    <tr>\n",
       "      <th>1</th>\n",
       "      <td>10,10-bis(4-pyridinylmethyl)-9(10H)-anthracenone</td>\n",
       "      <td>C112297</td>\n",
       "      <td>NaN</td>\n",
       "      <td>Biological Process</td>\n",
       "      <td>cation transmembrane transport</td>\n",
       "      <td>GO:0098655</td>\n",
       "      <td>6</td>\n",
       "      <td>0.000019</td>\n",
       "      <td>0.009630</td>\n",
       "      <td>3</td>\n",
       "      <td>4</td>\n",
       "      <td>723</td>\n",
       "      <td>43112</td>\n",
       "    </tr>\n",
       "  </tbody>\n",
       "</table>\n",
       "</div>"
      ],
      "text/plain": [
       "                                      chemical_name chemical_id cas_rn  \\\n",
       "0                                          10074-G5     C534883    NaN   \n",
       "1  10,10-bis(4-pyridinylmethyl)-9(10H)-anthracenone     C112297    NaN   \n",
       "\n",
       "             ontology                     goterm_name   goterm_id  \\\n",
       "0  Molecular Function                   E-box binding  GO:0070888   \n",
       "1  Biological Process  cation transmembrane transport  GO:0098655   \n",
       "\n",
       "   highest_golevel    pvalue  corrected_pvalue  target_match_qty  \\\n",
       "0                9  0.000001          0.000652                 2   \n",
       "1                6  0.000019          0.009630                 3   \n",
       "\n",
       "   target_total_qty  background_match_qty  background_total_qty  \n",
       "0                 2                    49                 43112  \n",
       "1                 4                   723                 43112  "
      ]
     },
     "execution_count": 64,
     "metadata": {},
     "output_type": "execute_result"
    }
   ],
   "source": [
    "chem_go = read_ctd(load_dir.joinpath(e_files[2]))\n",
    "chem_go.head(2)"
   ]
  },
  {
   "cell_type": "markdown",
   "metadata": {},
   "source": [
    "Chemical IDs and GO Term IDs are most important... keep the correcte p-vals in cues we want to do some filtering later"
   ]
  },
  {
   "cell_type": "code",
   "execution_count": 65,
   "metadata": {},
   "outputs": [
    {
     "data": {
      "text/plain": [
       "(5416205, 13)"
      ]
     },
     "execution_count": 65,
     "metadata": {},
     "output_type": "execute_result"
    }
   ],
   "source": [
    "chem_go.shape"
   ]
  },
  {
   "cell_type": "code",
   "execution_count": 66,
   "metadata": {},
   "outputs": [],
   "source": [
    "cgo_edges = chem_go[['chemical_id', 'goterm_id', 'ontology', 'pvalue', 'corrected_pvalue']]"
   ]
  },
  {
   "cell_type": "code",
   "execution_count": 67,
   "metadata": {},
   "outputs": [
    {
     "data": {
      "text/html": [
       "<div>\n",
       "<style scoped>\n",
       "    .dataframe tbody tr th:only-of-type {\n",
       "        vertical-align: middle;\n",
       "    }\n",
       "\n",
       "    .dataframe tbody tr th {\n",
       "        vertical-align: top;\n",
       "    }\n",
       "\n",
       "    .dataframe thead th {\n",
       "        text-align: right;\n",
       "    }\n",
       "</style>\n",
       "<table border=\"1\" class=\"dataframe\">\n",
       "  <thead>\n",
       "    <tr style=\"text-align: right;\">\n",
       "      <th></th>\n",
       "      <th>start_id</th>\n",
       "      <th>end_id</th>\n",
       "      <th>p_val</th>\n",
       "      <th>adj_p</th>\n",
       "      <th>type</th>\n",
       "    </tr>\n",
       "  </thead>\n",
       "  <tbody>\n",
       "    <tr>\n",
       "      <th>0</th>\n",
       "      <td>MESH:C534883</td>\n",
       "      <td>GO:0070888</td>\n",
       "      <td>1.270000e-06</td>\n",
       "      <td>0.000652</td>\n",
       "      <td>associated_with</td>\n",
       "    </tr>\n",
       "    <tr>\n",
       "      <th>1</th>\n",
       "      <td>MESH:C112297</td>\n",
       "      <td>GO:0098655</td>\n",
       "      <td>1.860000e-05</td>\n",
       "      <td>0.009630</td>\n",
       "      <td>associated_with</td>\n",
       "    </tr>\n",
       "    <tr>\n",
       "      <th>2</th>\n",
       "      <td>MESH:C112297</td>\n",
       "      <td>GO:0071804</td>\n",
       "      <td>1.340000e-07</td>\n",
       "      <td>0.000069</td>\n",
       "      <td>associated_with</td>\n",
       "    </tr>\n",
       "    <tr>\n",
       "      <th>3</th>\n",
       "      <td>MESH:C112297</td>\n",
       "      <td>GO:0098662</td>\n",
       "      <td>1.280000e-05</td>\n",
       "      <td>0.006650</td>\n",
       "      <td>associated_with</td>\n",
       "    </tr>\n",
       "    <tr>\n",
       "      <th>4</th>\n",
       "      <td>MESH:C112297</td>\n",
       "      <td>GO:0098660</td>\n",
       "      <td>1.800000e-05</td>\n",
       "      <td>0.009350</td>\n",
       "      <td>associated_with</td>\n",
       "    </tr>\n",
       "  </tbody>\n",
       "</table>\n",
       "</div>"
      ],
      "text/plain": [
       "       start_id      end_id         p_val     adj_p             type\n",
       "0  MESH:C534883  GO:0070888  1.270000e-06  0.000652  associated_with\n",
       "1  MESH:C112297  GO:0098655  1.860000e-05  0.009630  associated_with\n",
       "2  MESH:C112297  GO:0071804  1.340000e-07  0.000069  associated_with\n",
       "3  MESH:C112297  GO:0098662  1.280000e-05  0.006650  associated_with\n",
       "4  MESH:C112297  GO:0098660  1.800000e-05  0.009350  associated_with"
      ]
     },
     "execution_count": 67,
     "metadata": {},
     "output_type": "execute_result"
    }
   ],
   "source": [
    "cgo_edges = cgo_edges.rename(columns={'chemical_id': 'start_id', 'goterm_id': 'end_id', 'pvalue': 'p_val', \n",
    "                                    'corrected_pvalue': 'adj_p'})\n",
    "\n",
    "cgo_edges['type'] = 'associated_with'\n",
    "cgo_edges['start_id'] = 'MESH:' + cgo_edges['start_id']\n",
    "\n",
    "cgo_edges = cgo_edges.drop('ontology', axis=1)\n",
    "\n",
    "cgo_edges.head(5)"
   ]
  },
  {
   "cell_type": "code",
   "execution_count": 68,
   "metadata": {},
   "outputs": [],
   "source": [
    "cgo_edges['source'] = 'CTD'\n",
    "cgo_edges['dsrc_type'] = 'computed'\n",
    "cgo_edges['comp_type'] = 'hypergeometric'\n",
    "cgo_edges['license'] = 'http://ctdbase.org/about/legal.jsp'"
   ]
  },
  {
   "cell_type": "code",
   "execution_count": 69,
   "metadata": {},
   "outputs": [
    {
     "data": {
      "text/plain": [
       "'CTD_chem_pathways_enriched.csv.gz'"
      ]
     },
     "execution_count": 69,
     "metadata": {},
     "output_type": "execute_result"
    }
   ],
   "source": [
    "e_files[3]"
   ]
  },
  {
   "cell_type": "markdown",
   "metadata": {},
   "source": [
    "## Chemical - Pathway"
   ]
  },
  {
   "cell_type": "code",
   "execution_count": 70,
   "metadata": {},
   "outputs": [
    {
     "data": {
      "text/html": [
       "<div>\n",
       "<style scoped>\n",
       "    .dataframe tbody tr th:only-of-type {\n",
       "        vertical-align: middle;\n",
       "    }\n",
       "\n",
       "    .dataframe tbody tr th {\n",
       "        vertical-align: top;\n",
       "    }\n",
       "\n",
       "    .dataframe thead th {\n",
       "        text-align: right;\n",
       "    }\n",
       "</style>\n",
       "<table border=\"1\" class=\"dataframe\">\n",
       "  <thead>\n",
       "    <tr style=\"text-align: right;\">\n",
       "      <th></th>\n",
       "      <th>chemical_name</th>\n",
       "      <th>chemical_id</th>\n",
       "      <th>cas_rn</th>\n",
       "      <th>pathway_name</th>\n",
       "      <th>pathway_id</th>\n",
       "      <th>pvalue</th>\n",
       "      <th>corrected_pvalue</th>\n",
       "      <th>target_match_qty</th>\n",
       "      <th>target_total_qty</th>\n",
       "      <th>background_match_qty</th>\n",
       "      <th>background_total_qty</th>\n",
       "    </tr>\n",
       "  </thead>\n",
       "  <tbody>\n",
       "    <tr>\n",
       "      <th>0</th>\n",
       "      <td>10074-G5</td>\n",
       "      <td>C534883</td>\n",
       "      <td>NaN</td>\n",
       "      <td>Cell Cycle, Mitotic</td>\n",
       "      <td>REACT:R-HSA-69278</td>\n",
       "      <td>0.000142</td>\n",
       "      <td>0.009220</td>\n",
       "      <td>2</td>\n",
       "      <td>2</td>\n",
       "      <td>514</td>\n",
       "      <td>43112</td>\n",
       "    </tr>\n",
       "    <tr>\n",
       "      <th>1</th>\n",
       "      <td>10074-G5</td>\n",
       "      <td>C534883</td>\n",
       "      <td>NaN</td>\n",
       "      <td>Cyclin A:Cdk2-associated events at S phase entry</td>\n",
       "      <td>REACT:R-HSA-69656</td>\n",
       "      <td>0.000003</td>\n",
       "      <td>0.000174</td>\n",
       "      <td>2</td>\n",
       "      <td>2</td>\n",
       "      <td>71</td>\n",
       "      <td>43112</td>\n",
       "    </tr>\n",
       "  </tbody>\n",
       "</table>\n",
       "</div>"
      ],
      "text/plain": [
       "  chemical_name chemical_id cas_rn  \\\n",
       "0      10074-G5     C534883    NaN   \n",
       "1      10074-G5     C534883    NaN   \n",
       "\n",
       "                                       pathway_name         pathway_id  \\\n",
       "0                               Cell Cycle, Mitotic  REACT:R-HSA-69278   \n",
       "1  Cyclin A:Cdk2-associated events at S phase entry  REACT:R-HSA-69656   \n",
       "\n",
       "     pvalue  corrected_pvalue  target_match_qty  target_total_qty  \\\n",
       "0  0.000142          0.009220                 2                 2   \n",
       "1  0.000003          0.000174                 2                 2   \n",
       "\n",
       "   background_match_qty  background_total_qty  \n",
       "0                   514                 43112  \n",
       "1                    71                 43112  "
      ]
     },
     "execution_count": 70,
     "metadata": {},
     "output_type": "execute_result"
    }
   ],
   "source": [
    "chem_path = read_ctd(load_dir.joinpath(e_files[3]))\n",
    "chem_path.head(2)"
   ]
  },
  {
   "cell_type": "code",
   "execution_count": 71,
   "metadata": {},
   "outputs": [],
   "source": [
    "cp_edges = chem_path[['chemical_id', 'pathway_id', 'pvalue', 'corrected_pvalue']]"
   ]
  },
  {
   "cell_type": "code",
   "execution_count": 72,
   "metadata": {},
   "outputs": [
    {
     "data": {
      "text/html": [
       "<div>\n",
       "<style scoped>\n",
       "    .dataframe tbody tr th:only-of-type {\n",
       "        vertical-align: middle;\n",
       "    }\n",
       "\n",
       "    .dataframe tbody tr th {\n",
       "        vertical-align: top;\n",
       "    }\n",
       "\n",
       "    .dataframe thead th {\n",
       "        text-align: right;\n",
       "    }\n",
       "</style>\n",
       "<table border=\"1\" class=\"dataframe\">\n",
       "  <thead>\n",
       "    <tr style=\"text-align: right;\">\n",
       "      <th></th>\n",
       "      <th>start_id</th>\n",
       "      <th>end_id</th>\n",
       "      <th>p_val</th>\n",
       "      <th>adj_p</th>\n",
       "      <th>type</th>\n",
       "    </tr>\n",
       "  </thead>\n",
       "  <tbody>\n",
       "    <tr>\n",
       "      <th>0</th>\n",
       "      <td>MESH:C534883</td>\n",
       "      <td>REACT:R-HSA-69278</td>\n",
       "      <td>0.000142</td>\n",
       "      <td>0.009220</td>\n",
       "      <td>associated_with</td>\n",
       "    </tr>\n",
       "    <tr>\n",
       "      <th>1</th>\n",
       "      <td>MESH:C534883</td>\n",
       "      <td>REACT:R-HSA-69656</td>\n",
       "      <td>0.000003</td>\n",
       "      <td>0.000174</td>\n",
       "      <td>associated_with</td>\n",
       "    </tr>\n",
       "    <tr>\n",
       "      <th>2</th>\n",
       "      <td>MESH:C534883</td>\n",
       "      <td>REACT:R-HSA-69202</td>\n",
       "      <td>0.000003</td>\n",
       "      <td>0.000179</td>\n",
       "      <td>associated_with</td>\n",
       "    </tr>\n",
       "    <tr>\n",
       "      <th>3</th>\n",
       "      <td>MESH:C534883</td>\n",
       "      <td>REACT:R-HSA-69206</td>\n",
       "      <td>0.000008</td>\n",
       "      <td>0.000491</td>\n",
       "      <td>associated_with</td>\n",
       "    </tr>\n",
       "    <tr>\n",
       "      <th>4</th>\n",
       "      <td>MESH:C534883</td>\n",
       "      <td>KEGG:hsa04010</td>\n",
       "      <td>0.000035</td>\n",
       "      <td>0.002270</td>\n",
       "      <td>associated_with</td>\n",
       "    </tr>\n",
       "  </tbody>\n",
       "</table>\n",
       "</div>"
      ],
      "text/plain": [
       "       start_id             end_id     p_val     adj_p             type\n",
       "0  MESH:C534883  REACT:R-HSA-69278  0.000142  0.009220  associated_with\n",
       "1  MESH:C534883  REACT:R-HSA-69656  0.000003  0.000174  associated_with\n",
       "2  MESH:C534883  REACT:R-HSA-69202  0.000003  0.000179  associated_with\n",
       "3  MESH:C534883  REACT:R-HSA-69206  0.000008  0.000491  associated_with\n",
       "4  MESH:C534883      KEGG:hsa04010  0.000035  0.002270  associated_with"
      ]
     },
     "execution_count": 72,
     "metadata": {},
     "output_type": "execute_result"
    }
   ],
   "source": [
    "cp_edges = cp_edges.rename(columns={'chemical_id': 'start_id', 'pathway_id': 'end_id', 'pvalue': 'p_val', \n",
    "                                    'corrected_pvalue': 'adj_p'})\n",
    "cp_edges['type'] = 'associated_with'\n",
    "cp_edges['start_id'] = 'MESH:' + cp_edges['start_id']\n",
    "\n",
    "cp_edges.head(5)"
   ]
  },
  {
   "cell_type": "code",
   "execution_count": 73,
   "metadata": {},
   "outputs": [],
   "source": [
    "cp_edges['source'] = 'CTD'\n",
    "cp_edges['dsrc_type'] = 'computed'\n",
    "cp_edges['comp_type'] = 'hypergeometric'\n",
    "cp_edges['license'] = 'http://ctdbase.org/about/legal.jsp'"
   ]
  },
  {
   "cell_type": "code",
   "execution_count": 74,
   "metadata": {},
   "outputs": [],
   "source": [
    "edges.append(cp_edges)"
   ]
  },
  {
   "cell_type": "code",
   "execution_count": 75,
   "metadata": {},
   "outputs": [
    {
     "data": {
      "text/plain": [
       "'CTD_genes_diseases.csv.gz'"
      ]
     },
     "execution_count": 75,
     "metadata": {},
     "output_type": "execute_result"
    }
   ],
   "source": [
    "e_files[4]"
   ]
  },
  {
   "cell_type": "markdown",
   "metadata": {},
   "source": [
    "### Gene - Disease"
   ]
  },
  {
   "cell_type": "code",
   "execution_count": 76,
   "metadata": {},
   "outputs": [
    {
     "name": "stderr",
     "output_type": "stream",
     "text": [
      "/home/mmayers/software/miniconda3/envs/ml/lib/python3.7/site-packages/IPython/core/interactiveshell.py:3254: DtypeWarning: Columns (4,7) have mixed types. Specify dtype option on import or set low_memory=False.\n",
      "  if (await self.run_code(code, result,  async_=asy)):\n"
     ]
    },
    {
     "data": {
      "text/html": [
       "<div>\n",
       "<style scoped>\n",
       "    .dataframe tbody tr th:only-of-type {\n",
       "        vertical-align: middle;\n",
       "    }\n",
       "\n",
       "    .dataframe tbody tr th {\n",
       "        vertical-align: top;\n",
       "    }\n",
       "\n",
       "    .dataframe thead th {\n",
       "        text-align: right;\n",
       "    }\n",
       "</style>\n",
       "<table border=\"1\" class=\"dataframe\">\n",
       "  <thead>\n",
       "    <tr style=\"text-align: right;\">\n",
       "      <th></th>\n",
       "      <th>gene_symbol</th>\n",
       "      <th>gene_id</th>\n",
       "      <th>disease_name</th>\n",
       "      <th>disease_id</th>\n",
       "      <th>direct_evidence</th>\n",
       "      <th>inference_chemical_name</th>\n",
       "      <th>inference_score</th>\n",
       "      <th>omim_ids</th>\n",
       "      <th>pub_med_ids</th>\n",
       "    </tr>\n",
       "  </thead>\n",
       "  <tbody>\n",
       "    <tr>\n",
       "      <th>0</th>\n",
       "      <td>11-BETA-HSD3</td>\n",
       "      <td>100174880</td>\n",
       "      <td>Abnormalities, Drug-Induced</td>\n",
       "      <td>MESH:D000014</td>\n",
       "      <td>NaN</td>\n",
       "      <td>Endocrine Disruptors</td>\n",
       "      <td>5.16</td>\n",
       "      <td>NaN</td>\n",
       "      <td>22659286</td>\n",
       "    </tr>\n",
       "    <tr>\n",
       "      <th>1</th>\n",
       "      <td>11-BETA-HSD3</td>\n",
       "      <td>100174880</td>\n",
       "      <td>Anemia</td>\n",
       "      <td>MESH:D000740</td>\n",
       "      <td>NaN</td>\n",
       "      <td>Water Pollutants, Chemical</td>\n",
       "      <td>4.20</td>\n",
       "      <td>NaN</td>\n",
       "      <td>26546277</td>\n",
       "    </tr>\n",
       "  </tbody>\n",
       "</table>\n",
       "</div>"
      ],
      "text/plain": [
       "    gene_symbol    gene_id                 disease_name    disease_id  \\\n",
       "0  11-BETA-HSD3  100174880  Abnormalities, Drug-Induced  MESH:D000014   \n",
       "1  11-BETA-HSD3  100174880                       Anemia  MESH:D000740   \n",
       "\n",
       "  direct_evidence     inference_chemical_name  inference_score omim_ids  \\\n",
       "0             NaN        Endocrine Disruptors             5.16      NaN   \n",
       "1             NaN  Water Pollutants, Chemical             4.20      NaN   \n",
       "\n",
       "  pub_med_ids  \n",
       "0    22659286  \n",
       "1    26546277  "
      ]
     },
     "execution_count": 76,
     "metadata": {},
     "output_type": "execute_result"
    }
   ],
   "source": [
    "gene_dis = read_ctd(load_dir.joinpath(e_files[4]))\n",
    "gene_dis.head(2)"
   ]
  },
  {
   "cell_type": "code",
   "execution_count": 77,
   "metadata": {},
   "outputs": [
    {
     "data": {
      "text/html": [
       "<div>\n",
       "<style scoped>\n",
       "    .dataframe tbody tr th:only-of-type {\n",
       "        vertical-align: middle;\n",
       "    }\n",
       "\n",
       "    .dataframe tbody tr th {\n",
       "        vertical-align: top;\n",
       "    }\n",
       "\n",
       "    .dataframe thead th {\n",
       "        text-align: right;\n",
       "    }\n",
       "</style>\n",
       "<table border=\"1\" class=\"dataframe\">\n",
       "  <thead>\n",
       "    <tr style=\"text-align: right;\">\n",
       "      <th></th>\n",
       "      <th>gene_symbol</th>\n",
       "      <th>gene_id</th>\n",
       "      <th>disease_name</th>\n",
       "      <th>disease_id</th>\n",
       "      <th>direct_evidence</th>\n",
       "      <th>inference_chemical_name</th>\n",
       "      <th>inference_score</th>\n",
       "      <th>omim_ids</th>\n",
       "      <th>pub_med_ids</th>\n",
       "    </tr>\n",
       "  </thead>\n",
       "  <tbody>\n",
       "    <tr>\n",
       "      <th>0</th>\n",
       "      <td>11-BETA-HSD3</td>\n",
       "      <td>100174880</td>\n",
       "      <td>Abnormalities, Drug-Induced</td>\n",
       "      <td>MESH:D000014</td>\n",
       "      <td>NaN</td>\n",
       "      <td>Endocrine Disruptors</td>\n",
       "      <td>5.16</td>\n",
       "      <td>NaN</td>\n",
       "      <td>22659286</td>\n",
       "    </tr>\n",
       "    <tr>\n",
       "      <th>1</th>\n",
       "      <td>11-BETA-HSD3</td>\n",
       "      <td>100174880</td>\n",
       "      <td>Anemia</td>\n",
       "      <td>MESH:D000740</td>\n",
       "      <td>NaN</td>\n",
       "      <td>Water Pollutants, Chemical</td>\n",
       "      <td>4.20</td>\n",
       "      <td>NaN</td>\n",
       "      <td>26546277</td>\n",
       "    </tr>\n",
       "  </tbody>\n",
       "</table>\n",
       "</div>"
      ],
      "text/plain": [
       "    gene_symbol    gene_id                 disease_name    disease_id  \\\n",
       "0  11-BETA-HSD3  100174880  Abnormalities, Drug-Induced  MESH:D000014   \n",
       "1  11-BETA-HSD3  100174880                       Anemia  MESH:D000740   \n",
       "\n",
       "  direct_evidence     inference_chemical_name  inference_score omim_ids  \\\n",
       "0             NaN        Endocrine Disruptors             5.16      NaN   \n",
       "1             NaN  Water Pollutants, Chemical             4.20      NaN   \n",
       "\n",
       "  pub_med_ids  \n",
       "0    22659286  \n",
       "1    26546277  "
      ]
     },
     "execution_count": 77,
     "metadata": {},
     "output_type": "execute_result"
    }
   ],
   "source": [
    "gene_dis.head(2)"
   ]
  },
  {
   "cell_type": "markdown",
   "metadata": {},
   "source": [
    "Similar to chemical disease, we're only going to look at curated instances, so those with a valid 'direct_evidence' value.\n",
    "\n",
    "Other than that, PMIDs will be captured."
   ]
  },
  {
   "cell_type": "code",
   "execution_count": 78,
   "metadata": {},
   "outputs": [],
   "source": [
    "gd_edges = gene_dis.dropna(subset=['direct_evidence'])[['gene_id', 'disease_id', 'direct_evidence', 'pub_med_ids']]"
   ]
  },
  {
   "cell_type": "code",
   "execution_count": 79,
   "metadata": {},
   "outputs": [
    {
     "data": {
      "text/plain": [
       "(30957, 4)"
      ]
     },
     "execution_count": 79,
     "metadata": {},
     "output_type": "execute_result"
    }
   ],
   "source": [
    "gd_edges.shape"
   ]
  },
  {
   "cell_type": "code",
   "execution_count": 80,
   "metadata": {},
   "outputs": [
    {
     "data": {
      "text/plain": [
       "marker/mechanism                29067\n",
       "therapeutic                      1615\n",
       "marker/mechanism|therapeutic      275\n",
       "Name: direct_evidence, dtype: int64"
      ]
     },
     "execution_count": 80,
     "metadata": {},
     "output_type": "execute_result"
    }
   ],
   "source": [
    "gd_edges['direct_evidence'].value_counts()"
   ]
  },
  {
   "cell_type": "code",
   "execution_count": 81,
   "metadata": {},
   "outputs": [],
   "source": [
    "gd_edges = pr.expand_col_on_char(gd_edges, 'direct_evidence', '|')"
   ]
  },
  {
   "cell_type": "code",
   "execution_count": 82,
   "metadata": {},
   "outputs": [
    {
     "data": {
      "text/html": [
       "<div>\n",
       "<style scoped>\n",
       "    .dataframe tbody tr th:only-of-type {\n",
       "        vertical-align: middle;\n",
       "    }\n",
       "\n",
       "    .dataframe tbody tr th {\n",
       "        vertical-align: top;\n",
       "    }\n",
       "\n",
       "    .dataframe thead th {\n",
       "        text-align: right;\n",
       "    }\n",
       "</style>\n",
       "<table border=\"1\" class=\"dataframe\">\n",
       "  <thead>\n",
       "    <tr style=\"text-align: right;\">\n",
       "      <th></th>\n",
       "      <th>start_id</th>\n",
       "      <th>end_id</th>\n",
       "      <th>direct_evidence</th>\n",
       "      <th>pub_med_ids</th>\n",
       "      <th>type</th>\n",
       "    </tr>\n",
       "  </thead>\n",
       "  <tbody>\n",
       "    <tr>\n",
       "      <th>0</th>\n",
       "      <td>NCBIGene:50518</td>\n",
       "      <td>MESH:D003920</td>\n",
       "      <td>marker/mechanism</td>\n",
       "      <td>1473152</td>\n",
       "      <td>marker_or_mechanism</td>\n",
       "    </tr>\n",
       "    <tr>\n",
       "      <th>1</th>\n",
       "      <td>NCBIGene:50518</td>\n",
       "      <td>MESH:D003924</td>\n",
       "      <td>marker/mechanism</td>\n",
       "      <td>8146154</td>\n",
       "      <td>marker_or_mechanism</td>\n",
       "    </tr>\n",
       "    <tr>\n",
       "      <th>2</th>\n",
       "      <td>NCBIGene:50518</td>\n",
       "      <td>MESH:D008113</td>\n",
       "      <td>marker/mechanism</td>\n",
       "      <td>15175105</td>\n",
       "      <td>marker_or_mechanism</td>\n",
       "    </tr>\n",
       "    <tr>\n",
       "      <th>3</th>\n",
       "      <td>NCBIGene:50518</td>\n",
       "      <td>MESH:D009369</td>\n",
       "      <td>marker/mechanism</td>\n",
       "      <td>1473152</td>\n",
       "      <td>marker_or_mechanism</td>\n",
       "    </tr>\n",
       "    <tr>\n",
       "      <th>4</th>\n",
       "      <td>NCBIGene:50518</td>\n",
       "      <td>MESH:D009765</td>\n",
       "      <td>marker/mechanism</td>\n",
       "      <td>1473152|25447408|25448685|8146154</td>\n",
       "      <td>marker_or_mechanism</td>\n",
       "    </tr>\n",
       "  </tbody>\n",
       "</table>\n",
       "</div>"
      ],
      "text/plain": [
       "         start_id        end_id   direct_evidence  \\\n",
       "0  NCBIGene:50518  MESH:D003920  marker/mechanism   \n",
       "1  NCBIGene:50518  MESH:D003924  marker/mechanism   \n",
       "2  NCBIGene:50518  MESH:D008113  marker/mechanism   \n",
       "3  NCBIGene:50518  MESH:D009369  marker/mechanism   \n",
       "4  NCBIGene:50518  MESH:D009765  marker/mechanism   \n",
       "\n",
       "                         pub_med_ids                 type  \n",
       "0                            1473152  marker_or_mechanism  \n",
       "1                            8146154  marker_or_mechanism  \n",
       "2                           15175105  marker_or_mechanism  \n",
       "3                            1473152  marker_or_mechanism  \n",
       "4  1473152|25447408|25448685|8146154  marker_or_mechanism  "
      ]
     },
     "execution_count": 82,
     "metadata": {},
     "output_type": "execute_result"
    }
   ],
   "source": [
    "gd_edges = gd_edges.rename(columns={'gene_id': 'start_id', 'disease_id': 'end_id'})\n",
    "gd_edges['type'] = gd_edges['direct_evidence'].str.replace('/', '_or_')\n",
    "gd_edges['start_id'] = 'NCBIGene:' + gd_edges['start_id'].astype(str)\n",
    "gd_edges.head(5)"
   ]
  },
  {
   "cell_type": "code",
   "execution_count": 83,
   "metadata": {},
   "outputs": [],
   "source": [
    "gd_edges['source'] = 'CTD'\n",
    "gd_edges['dsrc_type'] = 'computed'\n",
    "gd_edges['comp_type'] = 'inference'\n",
    "gd_edges['license'] = 'http://ctdbase.org/about/legal.jsp'"
   ]
  },
  {
   "cell_type": "code",
   "execution_count": 84,
   "metadata": {},
   "outputs": [],
   "source": [
    "edges.append(gd_edges)"
   ]
  },
  {
   "cell_type": "code",
   "execution_count": 85,
   "metadata": {},
   "outputs": [
    {
     "data": {
      "text/plain": [
       "'CTD_genes_pathways.csv.gz'"
      ]
     },
     "execution_count": 85,
     "metadata": {},
     "output_type": "execute_result"
    }
   ],
   "source": [
    "e_files[5]"
   ]
  },
  {
   "cell_type": "markdown",
   "metadata": {},
   "source": [
    "### Gene - Pathway"
   ]
  },
  {
   "cell_type": "code",
   "execution_count": 86,
   "metadata": {},
   "outputs": [
    {
     "data": {
      "text/html": [
       "<div>\n",
       "<style scoped>\n",
       "    .dataframe tbody tr th:only-of-type {\n",
       "        vertical-align: middle;\n",
       "    }\n",
       "\n",
       "    .dataframe tbody tr th {\n",
       "        vertical-align: top;\n",
       "    }\n",
       "\n",
       "    .dataframe thead th {\n",
       "        text-align: right;\n",
       "    }\n",
       "</style>\n",
       "<table border=\"1\" class=\"dataframe\">\n",
       "  <thead>\n",
       "    <tr style=\"text-align: right;\">\n",
       "      <th></th>\n",
       "      <th>gene_symbol</th>\n",
       "      <th>gene_id</th>\n",
       "      <th>pathway_name</th>\n",
       "      <th>pathway_id</th>\n",
       "    </tr>\n",
       "  </thead>\n",
       "  <tbody>\n",
       "    <tr>\n",
       "      <th>0</th>\n",
       "      <td>A1BG</td>\n",
       "      <td>1</td>\n",
       "      <td>Hemostasis</td>\n",
       "      <td>REACT:R-HSA-109582</td>\n",
       "    </tr>\n",
       "    <tr>\n",
       "      <th>1</th>\n",
       "      <td>A1BG</td>\n",
       "      <td>1</td>\n",
       "      <td>Immune System</td>\n",
       "      <td>REACT:R-HSA-168256</td>\n",
       "    </tr>\n",
       "  </tbody>\n",
       "</table>\n",
       "</div>"
      ],
      "text/plain": [
       "  gene_symbol  gene_id   pathway_name          pathway_id\n",
       "0        A1BG        1     Hemostasis  REACT:R-HSA-109582\n",
       "1        A1BG        1  Immune System  REACT:R-HSA-168256"
      ]
     },
     "execution_count": 86,
     "metadata": {},
     "output_type": "execute_result"
    }
   ],
   "source": [
    "gene_path = read_ctd(load_dir.joinpath(e_files[5]))\n",
    "gene_path.head(2)"
   ]
  },
  {
   "cell_type": "markdown",
   "metadata": {},
   "source": [
    "Not a lot of info here... we'll just take gene's and pathways with a part-of edge"
   ]
  },
  {
   "cell_type": "code",
   "execution_count": 87,
   "metadata": {},
   "outputs": [
    {
     "data": {
      "text/html": [
       "<div>\n",
       "<style scoped>\n",
       "    .dataframe tbody tr th:only-of-type {\n",
       "        vertical-align: middle;\n",
       "    }\n",
       "\n",
       "    .dataframe tbody tr th {\n",
       "        vertical-align: top;\n",
       "    }\n",
       "\n",
       "    .dataframe thead th {\n",
       "        text-align: right;\n",
       "    }\n",
       "</style>\n",
       "<table border=\"1\" class=\"dataframe\">\n",
       "  <thead>\n",
       "    <tr style=\"text-align: right;\">\n",
       "      <th></th>\n",
       "      <th>start_id</th>\n",
       "      <th>end_id</th>\n",
       "      <th>type</th>\n",
       "    </tr>\n",
       "  </thead>\n",
       "  <tbody>\n",
       "    <tr>\n",
       "      <th>0</th>\n",
       "      <td>NCBIGene:1</td>\n",
       "      <td>REACT:R-HSA-109582</td>\n",
       "      <td>part_of</td>\n",
       "    </tr>\n",
       "    <tr>\n",
       "      <th>1</th>\n",
       "      <td>NCBIGene:1</td>\n",
       "      <td>REACT:R-HSA-168256</td>\n",
       "      <td>part_of</td>\n",
       "    </tr>\n",
       "    <tr>\n",
       "      <th>2</th>\n",
       "      <td>NCBIGene:1</td>\n",
       "      <td>REACT:R-HSA-168249</td>\n",
       "      <td>part_of</td>\n",
       "    </tr>\n",
       "    <tr>\n",
       "      <th>3</th>\n",
       "      <td>NCBIGene:1</td>\n",
       "      <td>REACT:R-HSA-6798695</td>\n",
       "      <td>part_of</td>\n",
       "    </tr>\n",
       "    <tr>\n",
       "      <th>4</th>\n",
       "      <td>NCBIGene:1</td>\n",
       "      <td>REACT:R-HSA-76002</td>\n",
       "      <td>part_of</td>\n",
       "    </tr>\n",
       "  </tbody>\n",
       "</table>\n",
       "</div>"
      ],
      "text/plain": [
       "     start_id               end_id     type\n",
       "0  NCBIGene:1   REACT:R-HSA-109582  part_of\n",
       "1  NCBIGene:1   REACT:R-HSA-168256  part_of\n",
       "2  NCBIGene:1   REACT:R-HSA-168249  part_of\n",
       "3  NCBIGene:1  REACT:R-HSA-6798695  part_of\n",
       "4  NCBIGene:1    REACT:R-HSA-76002  part_of"
      ]
     },
     "execution_count": 87,
     "metadata": {},
     "output_type": "execute_result"
    }
   ],
   "source": [
    "gp_edges = gene_path[['gene_id', 'pathway_id']]\n",
    "gp_edges = gp_edges.rename(columns={'gene_id': 'start_id', 'pathway_id': 'end_id'})\n",
    "gp_edges['type'] = 'part_of'\n",
    "gp_edges['start_id'] = 'NCBIGene:' + gp_edges['start_id'].astype(str)\n",
    "\n",
    "gp_edges.head(5)"
   ]
  },
  {
   "cell_type": "code",
   "execution_count": 88,
   "metadata": {},
   "outputs": [],
   "source": [
    "gp_edges['source'] = 'CTD'\n",
    "gp_edges['dsrc_type'] = 'curated'\n",
    "gp_edges['license'] = 'http://ctdbase.org/about/legal.jsp'"
   ]
  },
  {
   "cell_type": "code",
   "execution_count": 89,
   "metadata": {},
   "outputs": [],
   "source": [
    "edges.append(gp_edges)"
   ]
  },
  {
   "cell_type": "code",
   "execution_count": 90,
   "metadata": {},
   "outputs": [
    {
     "data": {
      "text/plain": [
       "'CTD_diseases_pathways.csv.gz'"
      ]
     },
     "execution_count": 90,
     "metadata": {},
     "output_type": "execute_result"
    }
   ],
   "source": [
    "e_files[6]"
   ]
  },
  {
   "cell_type": "markdown",
   "metadata": {},
   "source": [
    "### Disease - Pathway"
   ]
  },
  {
   "cell_type": "code",
   "execution_count": 91,
   "metadata": {},
   "outputs": [
    {
     "data": {
      "text/html": [
       "<div>\n",
       "<style scoped>\n",
       "    .dataframe tbody tr th:only-of-type {\n",
       "        vertical-align: middle;\n",
       "    }\n",
       "\n",
       "    .dataframe tbody tr th {\n",
       "        vertical-align: top;\n",
       "    }\n",
       "\n",
       "    .dataframe thead th {\n",
       "        text-align: right;\n",
       "    }\n",
       "</style>\n",
       "<table border=\"1\" class=\"dataframe\">\n",
       "  <thead>\n",
       "    <tr style=\"text-align: right;\">\n",
       "      <th></th>\n",
       "      <th>disease_name</th>\n",
       "      <th>disease_id</th>\n",
       "      <th>pathway_name</th>\n",
       "      <th>pathway_id</th>\n",
       "      <th>inference_gene_symbol</th>\n",
       "    </tr>\n",
       "  </thead>\n",
       "  <tbody>\n",
       "    <tr>\n",
       "      <th>0</th>\n",
       "      <td>17-Hydroxysteroid Dehydrogenase Deficiency</td>\n",
       "      <td>MESH:C537805</td>\n",
       "      <td>Androgen biosynthesis</td>\n",
       "      <td>REACT:R-HSA-193048</td>\n",
       "      <td>HSD17B3</td>\n",
       "    </tr>\n",
       "    <tr>\n",
       "      <th>1</th>\n",
       "      <td>17-Hydroxysteroid Dehydrogenase Deficiency</td>\n",
       "      <td>MESH:C537805</td>\n",
       "      <td>Fatty acid, triacylglycerol, and ketone body m...</td>\n",
       "      <td>REACT:R-HSA-535734</td>\n",
       "      <td>HSD17B3</td>\n",
       "    </tr>\n",
       "  </tbody>\n",
       "</table>\n",
       "</div>"
      ],
      "text/plain": [
       "                                 disease_name    disease_id  \\\n",
       "0  17-Hydroxysteroid Dehydrogenase Deficiency  MESH:C537805   \n",
       "1  17-Hydroxysteroid Dehydrogenase Deficiency  MESH:C537805   \n",
       "\n",
       "                                        pathway_name          pathway_id  \\\n",
       "0                              Androgen biosynthesis  REACT:R-HSA-193048   \n",
       "1  Fatty acid, triacylglycerol, and ketone body m...  REACT:R-HSA-535734   \n",
       "\n",
       "  inference_gene_symbol  \n",
       "0               HSD17B3  \n",
       "1               HSD17B3  "
      ]
     },
     "execution_count": 91,
     "metadata": {},
     "output_type": "execute_result"
    }
   ],
   "source": [
    "dis_path =  read_ctd(load_dir.joinpath(e_files[6]))\n",
    "dis_path.head(2)"
   ]
  },
  {
   "cell_type": "markdown",
   "metadata": {},
   "source": [
    "We'll keep inference gene symbol for now to mark that this was not curated"
   ]
  },
  {
   "cell_type": "code",
   "execution_count": 92,
   "metadata": {},
   "outputs": [
    {
     "data": {
      "text/plain": [
       "(563169, 5)"
      ]
     },
     "execution_count": 92,
     "metadata": {},
     "output_type": "execute_result"
    }
   ],
   "source": [
    "dis_path.shape"
   ]
  },
  {
   "cell_type": "code",
   "execution_count": 93,
   "metadata": {},
   "outputs": [
    {
     "data": {
      "text/html": [
       "<div>\n",
       "<style scoped>\n",
       "    .dataframe tbody tr th:only-of-type {\n",
       "        vertical-align: middle;\n",
       "    }\n",
       "\n",
       "    .dataframe tbody tr th {\n",
       "        vertical-align: top;\n",
       "    }\n",
       "\n",
       "    .dataframe thead th {\n",
       "        text-align: right;\n",
       "    }\n",
       "</style>\n",
       "<table border=\"1\" class=\"dataframe\">\n",
       "  <thead>\n",
       "    <tr style=\"text-align: right;\">\n",
       "      <th></th>\n",
       "      <th>start_id</th>\n",
       "      <th>end_id</th>\n",
       "      <th>inference_gene_symbol</th>\n",
       "      <th>type</th>\n",
       "    </tr>\n",
       "  </thead>\n",
       "  <tbody>\n",
       "    <tr>\n",
       "      <th>0</th>\n",
       "      <td>MESH:C537805</td>\n",
       "      <td>REACT:R-HSA-193048</td>\n",
       "      <td>HSD17B3</td>\n",
       "      <td>associated_with</td>\n",
       "    </tr>\n",
       "    <tr>\n",
       "      <th>1</th>\n",
       "      <td>MESH:C537805</td>\n",
       "      <td>REACT:R-HSA-535734</td>\n",
       "      <td>HSD17B3</td>\n",
       "      <td>associated_with</td>\n",
       "    </tr>\n",
       "    <tr>\n",
       "      <th>2</th>\n",
       "      <td>MESH:C537805</td>\n",
       "      <td>REACT:R-HSA-75105</td>\n",
       "      <td>HSD17B3</td>\n",
       "      <td>associated_with</td>\n",
       "    </tr>\n",
       "    <tr>\n",
       "      <th>3</th>\n",
       "      <td>MESH:C537805</td>\n",
       "      <td>KEGG:hsa01100</td>\n",
       "      <td>HSD17B3</td>\n",
       "      <td>associated_with</td>\n",
       "    </tr>\n",
       "    <tr>\n",
       "      <th>4</th>\n",
       "      <td>MESH:C537805</td>\n",
       "      <td>REACT:R-HSA-1430728</td>\n",
       "      <td>HSD17B3</td>\n",
       "      <td>associated_with</td>\n",
       "    </tr>\n",
       "  </tbody>\n",
       "</table>\n",
       "</div>"
      ],
      "text/plain": [
       "       start_id               end_id inference_gene_symbol             type\n",
       "0  MESH:C537805   REACT:R-HSA-193048               HSD17B3  associated_with\n",
       "1  MESH:C537805   REACT:R-HSA-535734               HSD17B3  associated_with\n",
       "2  MESH:C537805    REACT:R-HSA-75105               HSD17B3  associated_with\n",
       "3  MESH:C537805        KEGG:hsa01100               HSD17B3  associated_with\n",
       "4  MESH:C537805  REACT:R-HSA-1430728               HSD17B3  associated_with"
      ]
     },
     "execution_count": 93,
     "metadata": {},
     "output_type": "execute_result"
    }
   ],
   "source": [
    "dp_edges = dis_path[['disease_id', 'pathway_id', 'inference_gene_symbol']]\n",
    "dp_edges = dp_edges.rename(columns={'disease_id': 'start_id', 'pathway_id': 'end_id'})\n",
    "\n",
    "dp_edges['type'] = 'associated_with'\n",
    "\n",
    "dp_edges.head(5)"
   ]
  },
  {
   "cell_type": "code",
   "execution_count": 94,
   "metadata": {},
   "outputs": [],
   "source": [
    "dp_edges['source'] = 'CTD'\n",
    "dp_edges['dsrc_type'] = 'computed'\n",
    "dp_edges['comp_type'] = 'inference'\n",
    "dp_edges['license'] = 'http://ctdbase.org/about/legal.jsp'"
   ]
  },
  {
   "cell_type": "code",
   "execution_count": 95,
   "metadata": {},
   "outputs": [],
   "source": [
    "edges.append(dp_edges)"
   ]
  },
  {
   "cell_type": "code",
   "execution_count": 96,
   "metadata": {},
   "outputs": [
    {
     "data": {
      "text/plain": [
       "'CTD_pheno_term_ixns.csv.gz'"
      ]
     },
     "execution_count": 96,
     "metadata": {},
     "output_type": "execute_result"
    }
   ],
   "source": [
    "e_files[7]"
   ]
  },
  {
   "cell_type": "markdown",
   "metadata": {},
   "source": [
    "### Chem-Pheno"
   ]
  },
  {
   "cell_type": "code",
   "execution_count": 97,
   "metadata": {},
   "outputs": [
    {
     "data": {
      "text/html": [
       "<div>\n",
       "<style scoped>\n",
       "    .dataframe tbody tr th:only-of-type {\n",
       "        vertical-align: middle;\n",
       "    }\n",
       "\n",
       "    .dataframe tbody tr th {\n",
       "        vertical-align: top;\n",
       "    }\n",
       "\n",
       "    .dataframe thead th {\n",
       "        text-align: right;\n",
       "    }\n",
       "</style>\n",
       "<table border=\"1\" class=\"dataframe\">\n",
       "  <thead>\n",
       "    <tr style=\"text-align: right;\">\n",
       "      <th></th>\n",
       "      <th>chemicalname</th>\n",
       "      <th>chemicalid</th>\n",
       "      <th>casrn</th>\n",
       "      <th>phenotypename</th>\n",
       "      <th>phenotypeid</th>\n",
       "      <th>comentionedterms</th>\n",
       "      <th>organism</th>\n",
       "      <th>organismid</th>\n",
       "      <th>interaction</th>\n",
       "      <th>interactionactions</th>\n",
       "      <th>anatomyterms</th>\n",
       "      <th>inferencegenesymbols</th>\n",
       "      <th>pubmedids</th>\n",
       "      <th>unnamed_13</th>\n",
       "    </tr>\n",
       "  </thead>\n",
       "  <tbody>\n",
       "    <tr>\n",
       "      <th>0</th>\n",
       "      <td>10074-G5</td>\n",
       "      <td>C534883</td>\n",
       "      <td>NaN</td>\n",
       "      <td>ATP biosynthetic process</td>\n",
       "      <td>GO:0006754</td>\n",
       "      <td>NaN</td>\n",
       "      <td>Homo sapiens</td>\n",
       "      <td>9606.0</td>\n",
       "      <td>10074-G5 analog results in decreased ATP biosy...</td>\n",
       "      <td>decreases^phenotype</td>\n",
       "      <td>1^HL-60 Cells^D018922</td>\n",
       "      <td>NaN</td>\n",
       "      <td>26036281</td>\n",
       "      <td>NaN</td>\n",
       "    </tr>\n",
       "    <tr>\n",
       "      <th>1</th>\n",
       "      <td>10074-G5</td>\n",
       "      <td>C534883</td>\n",
       "      <td>NaN</td>\n",
       "      <td>ATP biosynthetic process</td>\n",
       "      <td>GO:0006754</td>\n",
       "      <td>NaN</td>\n",
       "      <td>Homo sapiens</td>\n",
       "      <td>9606.0</td>\n",
       "      <td>10074-G5 analog results in decreased ATP biosy...</td>\n",
       "      <td>decreases^phenotype</td>\n",
       "      <td>1^Lung^D008168|2^Cell Line, Tumor^D045744</td>\n",
       "      <td>NaN</td>\n",
       "      <td>26036281</td>\n",
       "      <td>NaN</td>\n",
       "    </tr>\n",
       "  </tbody>\n",
       "</table>\n",
       "</div>"
      ],
      "text/plain": [
       "  chemicalname chemicalid casrn             phenotypename phenotypeid  \\\n",
       "0     10074-G5    C534883   NaN  ATP biosynthetic process  GO:0006754   \n",
       "1     10074-G5    C534883   NaN  ATP biosynthetic process  GO:0006754   \n",
       "\n",
       "  comentionedterms      organism  organismid  \\\n",
       "0              NaN  Homo sapiens      9606.0   \n",
       "1              NaN  Homo sapiens      9606.0   \n",
       "\n",
       "                                         interaction   interactionactions  \\\n",
       "0  10074-G5 analog results in decreased ATP biosy...  decreases^phenotype   \n",
       "1  10074-G5 analog results in decreased ATP biosy...  decreases^phenotype   \n",
       "\n",
       "                                anatomyterms inferencegenesymbols pubmedids  \\\n",
       "0                      1^HL-60 Cells^D018922                  NaN  26036281   \n",
       "1  1^Lung^D008168|2^Cell Line, Tumor^D045744                  NaN  26036281   \n",
       "\n",
       "   unnamed_13  \n",
       "0         NaN  \n",
       "1         NaN  "
      ]
     },
     "execution_count": 97,
     "metadata": {},
     "output_type": "execute_result"
    }
   ],
   "source": [
    "chem_pheno = read_ctd(load_dir.joinpath(e_files[7]))\n",
    "chem_pheno.head(2)"
   ]
  },
  {
   "cell_type": "code",
   "execution_count": 98,
   "metadata": {},
   "outputs": [
    {
     "data": {
      "text/plain": [
       "(185731, 14)"
      ]
     },
     "execution_count": 98,
     "metadata": {},
     "output_type": "execute_result"
    }
   ],
   "source": [
    "chem_pheno.shape"
   ]
  },
  {
   "cell_type": "code",
   "execution_count": 99,
   "metadata": {},
   "outputs": [],
   "source": [
    "chem_pheno = pr.expand_col_on_char(chem_pheno, 'interactionactions', '|')"
   ]
  },
  {
   "cell_type": "code",
   "execution_count": 100,
   "metadata": {},
   "outputs": [
    {
     "data": {
      "text/html": [
       "<div>\n",
       "<style scoped>\n",
       "    .dataframe tbody tr th:only-of-type {\n",
       "        vertical-align: middle;\n",
       "    }\n",
       "\n",
       "    .dataframe tbody tr th {\n",
       "        vertical-align: top;\n",
       "    }\n",
       "\n",
       "    .dataframe thead th {\n",
       "        text-align: right;\n",
       "    }\n",
       "</style>\n",
       "<table border=\"1\" class=\"dataframe\">\n",
       "  <thead>\n",
       "    <tr style=\"text-align: right;\">\n",
       "      <th></th>\n",
       "      <th>chemicalname</th>\n",
       "      <th>chemicalid</th>\n",
       "      <th>casrn</th>\n",
       "      <th>phenotypename</th>\n",
       "      <th>phenotypeid</th>\n",
       "      <th>comentionedterms</th>\n",
       "      <th>organism</th>\n",
       "      <th>organismid</th>\n",
       "      <th>interaction</th>\n",
       "      <th>interactionactions</th>\n",
       "      <th>anatomyterms</th>\n",
       "      <th>inferencegenesymbols</th>\n",
       "      <th>pubmedids</th>\n",
       "      <th>unnamed_13</th>\n",
       "      <th>parent_ixn</th>\n",
       "    </tr>\n",
       "  </thead>\n",
       "  <tbody>\n",
       "    <tr>\n",
       "      <th>0</th>\n",
       "      <td>10074-G5</td>\n",
       "      <td>C534883</td>\n",
       "      <td>NaN</td>\n",
       "      <td>ATP biosynthetic process</td>\n",
       "      <td>GO:0006754</td>\n",
       "      <td>NaN</td>\n",
       "      <td>Homo sapiens</td>\n",
       "      <td>9606</td>\n",
       "      <td>10074-G5 analog results in decreased ATP biosy...</td>\n",
       "      <td>decreases^phenotype</td>\n",
       "      <td>1^HL-60 Cells^D018922</td>\n",
       "      <td>NaN</td>\n",
       "      <td>26036281</td>\n",
       "      <td>NaN</td>\n",
       "      <td>decreases^phenotype</td>\n",
       "    </tr>\n",
       "    <tr>\n",
       "      <th>1</th>\n",
       "      <td>10074-G5</td>\n",
       "      <td>C534883</td>\n",
       "      <td>NaN</td>\n",
       "      <td>ATP biosynthetic process</td>\n",
       "      <td>GO:0006754</td>\n",
       "      <td>NaN</td>\n",
       "      <td>Homo sapiens</td>\n",
       "      <td>9606</td>\n",
       "      <td>10074-G5 analog results in decreased ATP biosy...</td>\n",
       "      <td>decreases^phenotype</td>\n",
       "      <td>1^Lung^D008168|2^Cell Line, Tumor^D045744</td>\n",
       "      <td>NaN</td>\n",
       "      <td>26036281</td>\n",
       "      <td>NaN</td>\n",
       "      <td>decreases^phenotype</td>\n",
       "    </tr>\n",
       "  </tbody>\n",
       "</table>\n",
       "</div>"
      ],
      "text/plain": [
       "  chemicalname chemicalid casrn             phenotypename phenotypeid  \\\n",
       "0     10074-G5    C534883   NaN  ATP biosynthetic process  GO:0006754   \n",
       "1     10074-G5    C534883   NaN  ATP biosynthetic process  GO:0006754   \n",
       "\n",
       "  comentionedterms      organism organismid  \\\n",
       "0              NaN  Homo sapiens       9606   \n",
       "1              NaN  Homo sapiens       9606   \n",
       "\n",
       "                                         interaction   interactionactions  \\\n",
       "0  10074-G5 analog results in decreased ATP biosy...  decreases^phenotype   \n",
       "1  10074-G5 analog results in decreased ATP biosy...  decreases^phenotype   \n",
       "\n",
       "                                anatomyterms inferencegenesymbols pubmedids  \\\n",
       "0                      1^HL-60 Cells^D018922                  NaN  26036281   \n",
       "1  1^Lung^D008168|2^Cell Line, Tumor^D045744                  NaN  26036281   \n",
       "\n",
       "   unnamed_13           parent_ixn  \n",
       "0         NaN  decreases^phenotype  \n",
       "1         NaN  decreases^phenotype  "
      ]
     },
     "execution_count": 100,
     "metadata": {},
     "output_type": "execute_result"
    }
   ],
   "source": [
    "chem_pheno['parent_ixn'] = chem_pheno['interactionactions'].apply(lambda x: ixn_map_to_par_full.get(x, x))\n",
    "idx = chem_pheno.dropna(subset=['organismid']).index\n",
    "chem_pheno.loc[idx, 'organismid'] = chem_pheno.loc[idx, 'organismid'].astype(int).astype(str)\n",
    "chem_pheno.head(2)"
   ]
  },
  {
   "cell_type": "code",
   "execution_count": 101,
   "metadata": {},
   "outputs": [],
   "source": [
    "chem_pheno['chemicalid'] = 'MESH:' + chem_pheno['chemicalid']\n",
    "chem_pheno['organismid'] = 'NCBITaxon:' + chem_pheno['organismid'].astype(str)"
   ]
  },
  {
   "cell_type": "code",
   "execution_count": 102,
   "metadata": {},
   "outputs": [
    {
     "data": {
      "application/vnd.jupyter.widget-view+json": {
       "model_id": "aa856c4bc132426196bd4a54e0866a65",
       "version_major": 2,
       "version_minor": 0
      },
      "text/plain": [
       "HBox(children=(FloatProgress(value=0.0, description='total_progress', max=2.0, style=ProgressStyle(description…"
      ]
     },
     "metadata": {},
     "output_type": "display_data"
    },
    {
     "name": "stderr",
     "output_type": "stream",
     "text": [
      "/home/mmayers/software/miniconda3/envs/ml/lib/python3.7/site-packages/tqdm/std.py:656: FutureWarning: The Panel class is removed from pandas. Accessing it from the top-level namespace will also be removed in the next version\n",
      "  from pandas import Panel\n"
     ]
    },
    {
     "data": {
      "application/vnd.jupyter.widget-view+json": {
       "model_id": "3fd3288c6897475897494e2625febcee",
       "version_major": 2,
       "version_minor": 0
      },
      "text/plain": [
       "HBox(children=(FloatProgress(value=0.0, description='pubmedids', max=58091.0, style=ProgressStyle(description_…"
      ]
     },
     "metadata": {},
     "output_type": "display_data"
    },
    {
     "name": "stdout",
     "output_type": "stream",
     "text": [
      "\n"
     ]
    },
    {
     "data": {
      "application/vnd.jupyter.widget-view+json": {
       "model_id": "c809ceb756b5482b9f685f0d57993ce5",
       "version_major": 2,
       "version_minor": 0
      },
      "text/plain": [
       "HBox(children=(FloatProgress(value=0.0, description='organismid', max=58091.0, style=ProgressStyle(description…"
      ]
     },
     "metadata": {},
     "output_type": "display_data"
    },
    {
     "name": "stdout",
     "output_type": "stream",
     "text": [
      "\n",
      "\n",
      "CPU times: user 17.3 s, sys: 208 ms, total: 17.5 s\n",
      "Wall time: 17.4 s\n"
     ]
    }
   ],
   "source": [
    "%%time\n",
    "chem_pheno = pr.combine_group_cols_on_char(chem_pheno, ['chemicalid', 'phenotypeid', 'parent_ixn'],\n",
    "                                                ['pubmedids', 'organismid'])"
   ]
  },
  {
   "cell_type": "code",
   "execution_count": 103,
   "metadata": {},
   "outputs": [
    {
     "data": {
      "text/plain": [
       "increases^phenotype                 37477\n",
       "decreases^reaction                  28480\n",
       "decreases^phenotype                 18896\n",
       "affects^phenotype                   11422\n",
       "affects^cotreatment                  9789\n",
       "                                    ...  \n",
       "decreases^glycosylation                 1\n",
       "increases^glycosylation                 1\n",
       "decreases^ubiquitination                1\n",
       "decreases^N-linked glycosylation        1\n",
       "affects^splicing                        1\n",
       "Name: parent_ixn, Length: 84, dtype: int64"
      ]
     },
     "execution_count": 103,
     "metadata": {},
     "output_type": "execute_result"
    }
   ],
   "source": [
    "chem_pheno['parent_ixn'].value_counts()"
   ]
  },
  {
   "cell_type": "code",
   "execution_count": 104,
   "metadata": {},
   "outputs": [],
   "source": [
    "keep_pheno_ixns = [direction+'^phenotype' for direction in ixn_dirs]\n",
    "keep_pheno_ixns += [direction+'^reaction' for direction in ixn_dirs]"
   ]
  },
  {
   "cell_type": "code",
   "execution_count": 105,
   "metadata": {},
   "outputs": [],
   "source": [
    "cph_edges = chem_pheno[['chemicalid', 'phenotypeid', 'parent_ixn', 'pubmedids', 'organismid']]\n",
    "cph_edges = cph_edges.rename(columns={'chemicalid': 'start_id', 'phenotypeid': 'end_id', \n",
    "                                      'pubmedids': 'pub_med_ids', 'organismid': 'organism_id'})"
   ]
  },
  {
   "cell_type": "code",
   "execution_count": 106,
   "metadata": {},
   "outputs": [],
   "source": [
    "id_to_label = nodes.set_index('id')['label'].apply(lambda s: ''.join(c[0] for c in s.split(' '))).to_dict()"
   ]
  },
  {
   "cell_type": "code",
   "execution_count": 107,
   "metadata": {},
   "outputs": [
    {
     "data": {
      "text/html": [
       "<div>\n",
       "<style scoped>\n",
       "    .dataframe tbody tr th:only-of-type {\n",
       "        vertical-align: middle;\n",
       "    }\n",
       "\n",
       "    .dataframe tbody tr th {\n",
       "        vertical-align: top;\n",
       "    }\n",
       "\n",
       "    .dataframe thead th {\n",
       "        text-align: right;\n",
       "    }\n",
       "</style>\n",
       "<table border=\"1\" class=\"dataframe\">\n",
       "  <thead>\n",
       "    <tr style=\"text-align: right;\">\n",
       "      <th></th>\n",
       "      <th>start_id</th>\n",
       "      <th>end_id</th>\n",
       "      <th>parent_ixn</th>\n",
       "      <th>pub_med_ids</th>\n",
       "      <th>organism_id</th>\n",
       "      <th>type</th>\n",
       "    </tr>\n",
       "  </thead>\n",
       "  <tbody>\n",
       "    <tr>\n",
       "      <th>0</th>\n",
       "      <td>MESH:C534883</td>\n",
       "      <td>GO:0071850</td>\n",
       "      <td>increases^phenotype</td>\n",
       "      <td>26036281</td>\n",
       "      <td>NCBITaxon:9606</td>\n",
       "      <td>increases_phenotype</td>\n",
       "    </tr>\n",
       "    <tr>\n",
       "      <th>1</th>\n",
       "      <td>MESH:C112297</td>\n",
       "      <td>GO:0019226</td>\n",
       "      <td>increases^phenotype</td>\n",
       "      <td>26348896</td>\n",
       "      <td>NCBITaxon:10116</td>\n",
       "      <td>increases_phenotype</td>\n",
       "    </tr>\n",
       "    <tr>\n",
       "      <th>2</th>\n",
       "      <td>MESH:C094849</td>\n",
       "      <td>GO:0019217</td>\n",
       "      <td>affects^phenotype</td>\n",
       "      <td>26115784</td>\n",
       "      <td>NCBITaxon:10116</td>\n",
       "      <td>affects_phenotype</td>\n",
       "    </tr>\n",
       "    <tr>\n",
       "      <th>4</th>\n",
       "      <td>MESH:C573921</td>\n",
       "      <td>GO:0008283</td>\n",
       "      <td>decreases^phenotype</td>\n",
       "      <td>24296261</td>\n",
       "      <td>NCBITaxon:10090</td>\n",
       "      <td>decreases_phenotype</td>\n",
       "    </tr>\n",
       "    <tr>\n",
       "      <th>5</th>\n",
       "      <td>MESH:C573921</td>\n",
       "      <td>GO:0008283</td>\n",
       "      <td>decreases^reaction</td>\n",
       "      <td>24296261</td>\n",
       "      <td>NCBITaxon:10090</td>\n",
       "      <td>decreases_reaction</td>\n",
       "    </tr>\n",
       "  </tbody>\n",
       "</table>\n",
       "</div>"
      ],
      "text/plain": [
       "       start_id      end_id           parent_ixn pub_med_ids      organism_id  \\\n",
       "0  MESH:C534883  GO:0071850  increases^phenotype    26036281   NCBITaxon:9606   \n",
       "1  MESH:C112297  GO:0019226  increases^phenotype    26348896  NCBITaxon:10116   \n",
       "2  MESH:C094849  GO:0019217    affects^phenotype    26115784  NCBITaxon:10116   \n",
       "4  MESH:C573921  GO:0008283  decreases^phenotype    24296261  NCBITaxon:10090   \n",
       "5  MESH:C573921  GO:0008283   decreases^reaction    24296261  NCBITaxon:10090   \n",
       "\n",
       "                  type  \n",
       "0  increases_phenotype  \n",
       "1  increases_phenotype  \n",
       "2    affects_phenotype  \n",
       "4  decreases_phenotype  \n",
       "5   decreases_reaction  "
      ]
     },
     "execution_count": 107,
     "metadata": {},
     "output_type": "execute_result"
    }
   ],
   "source": [
    "cph_edges = cph_edges.query('parent_ixn in @keep_pheno_ixns')\n",
    "\n",
    "cph_edges['type'] = cph_edges['parent_ixn'].str.replace('^', '_')\n",
    "\n",
    "cph_edges.head(5)"
   ]
  },
  {
   "cell_type": "code",
   "execution_count": 108,
   "metadata": {},
   "outputs": [],
   "source": [
    "cph_edges['source'] = 'CTD'\n",
    "cph_edges['dsrc_type'] = 'curated'\n",
    "cph_edges['license'] = 'http://ctdbase.org/about/legal.jsp'"
   ]
  },
  {
   "cell_type": "code",
   "execution_count": 109,
   "metadata": {},
   "outputs": [],
   "source": [
    "edges.append(cph_edges)"
   ]
  },
  {
   "cell_type": "code",
   "execution_count": 110,
   "metadata": {},
   "outputs": [
    {
     "data": {
      "text/plain": [
       "'CTD_Phenotype-Disease_biological_process_associations.csv.gz'"
      ]
     },
     "execution_count": 110,
     "metadata": {},
     "output_type": "execute_result"
    }
   ],
   "source": [
    "e_files[8]"
   ]
  },
  {
   "cell_type": "markdown",
   "metadata": {},
   "source": [
    "### Dis - BP"
   ]
  },
  {
   "cell_type": "code",
   "execution_count": 111,
   "metadata": {},
   "outputs": [
    {
     "data": {
      "text/html": [
       "<div>\n",
       "<style scoped>\n",
       "    .dataframe tbody tr th:only-of-type {\n",
       "        vertical-align: middle;\n",
       "    }\n",
       "\n",
       "    .dataframe tbody tr th {\n",
       "        vertical-align: top;\n",
       "    }\n",
       "\n",
       "    .dataframe thead th {\n",
       "        text-align: right;\n",
       "    }\n",
       "</style>\n",
       "<table border=\"1\" class=\"dataframe\">\n",
       "  <thead>\n",
       "    <tr style=\"text-align: right;\">\n",
       "      <th></th>\n",
       "      <th>goname</th>\n",
       "      <th>goid</th>\n",
       "      <th>disease_name</th>\n",
       "      <th>disease_id</th>\n",
       "      <th>inference_chemical_qty</th>\n",
       "      <th>inference_chemical_names</th>\n",
       "      <th>inference_gene_qty</th>\n",
       "      <th>inference_gene_symbols</th>\n",
       "    </tr>\n",
       "  </thead>\n",
       "  <tbody>\n",
       "    <tr>\n",
       "      <th>0</th>\n",
       "      <td>10-formyltetrahydrofolate biosynthetic process</td>\n",
       "      <td>GO:0009257</td>\n",
       "      <td>Abruptio Placentae</td>\n",
       "      <td>MESH:D000037</td>\n",
       "      <td>0</td>\n",
       "      <td>NaN</td>\n",
       "      <td>1</td>\n",
       "      <td>MTHFD1</td>\n",
       "    </tr>\n",
       "    <tr>\n",
       "      <th>1</th>\n",
       "      <td>10-formyltetrahydrofolate biosynthetic process</td>\n",
       "      <td>GO:0009257</td>\n",
       "      <td>Neural tube defect, folate-sensitive</td>\n",
       "      <td>MESH:C536409</td>\n",
       "      <td>0</td>\n",
       "      <td>NaN</td>\n",
       "      <td>1</td>\n",
       "      <td>MTHFD1</td>\n",
       "    </tr>\n",
       "  </tbody>\n",
       "</table>\n",
       "</div>"
      ],
      "text/plain": [
       "                                           goname        goid  \\\n",
       "0  10-formyltetrahydrofolate biosynthetic process  GO:0009257   \n",
       "1  10-formyltetrahydrofolate biosynthetic process  GO:0009257   \n",
       "\n",
       "                           disease_name    disease_id  inference_chemical_qty  \\\n",
       "0                    Abruptio Placentae  MESH:D000037                       0   \n",
       "1  Neural tube defect, folate-sensitive  MESH:C536409                       0   \n",
       "\n",
       "  inference_chemical_names  inference_gene_qty inference_gene_symbols  \n",
       "0                      NaN                   1                 MTHFD1  \n",
       "1                      NaN                   1                 MTHFD1  "
      ]
     },
     "execution_count": 111,
     "metadata": {},
     "output_type": "execute_result"
    }
   ],
   "source": [
    "dis_bp = read_ctd(load_dir.joinpath(e_files[8]))\n",
    "dis_bp.head(2)"
   ]
  },
  {
   "cell_type": "code",
   "execution_count": 112,
   "metadata": {},
   "outputs": [
    {
     "data": {
      "text/plain": [
       "(1802197, 8)"
      ]
     },
     "execution_count": 112,
     "metadata": {},
     "output_type": "execute_result"
    }
   ],
   "source": [
    "dis_bp.shape"
   ]
  },
  {
   "cell_type": "code",
   "execution_count": 113,
   "metadata": {},
   "outputs": [
    {
     "data": {
      "text/html": [
       "<div>\n",
       "<style scoped>\n",
       "    .dataframe tbody tr th:only-of-type {\n",
       "        vertical-align: middle;\n",
       "    }\n",
       "\n",
       "    .dataframe tbody tr th {\n",
       "        vertical-align: top;\n",
       "    }\n",
       "\n",
       "    .dataframe thead th {\n",
       "        text-align: right;\n",
       "    }\n",
       "</style>\n",
       "<table border=\"1\" class=\"dataframe\">\n",
       "  <thead>\n",
       "    <tr style=\"text-align: right;\">\n",
       "      <th></th>\n",
       "      <th>start_id</th>\n",
       "      <th>end_id</th>\n",
       "      <th>type</th>\n",
       "    </tr>\n",
       "  </thead>\n",
       "  <tbody>\n",
       "    <tr>\n",
       "      <th>0</th>\n",
       "      <td>GO:0009257</td>\n",
       "      <td>MESH:D000037</td>\n",
       "      <td>associated_with</td>\n",
       "    </tr>\n",
       "    <tr>\n",
       "      <th>1</th>\n",
       "      <td>GO:0009257</td>\n",
       "      <td>MESH:C536409</td>\n",
       "      <td>associated_with</td>\n",
       "    </tr>\n",
       "    <tr>\n",
       "      <th>2</th>\n",
       "      <td>GO:0009257</td>\n",
       "      <td>MESH:D009436</td>\n",
       "      <td>associated_with</td>\n",
       "    </tr>\n",
       "    <tr>\n",
       "      <th>3</th>\n",
       "      <td>GO:0009258</td>\n",
       "      <td>MESH:D056486</td>\n",
       "      <td>associated_with</td>\n",
       "    </tr>\n",
       "    <tr>\n",
       "      <th>4</th>\n",
       "      <td>GO:0009258</td>\n",
       "      <td>MESH:D000860</td>\n",
       "      <td>associated_with</td>\n",
       "    </tr>\n",
       "  </tbody>\n",
       "</table>\n",
       "</div>"
      ],
      "text/plain": [
       "     start_id        end_id             type\n",
       "0  GO:0009257  MESH:D000037  associated_with\n",
       "1  GO:0009257  MESH:C536409  associated_with\n",
       "2  GO:0009257  MESH:D009436  associated_with\n",
       "3  GO:0009258  MESH:D056486  associated_with\n",
       "4  GO:0009258  MESH:D000860  associated_with"
      ]
     },
     "execution_count": 113,
     "metadata": {},
     "output_type": "execute_result"
    }
   ],
   "source": [
    "dbp_edges = dis_bp[['goid', 'disease_id']].rename(columns={'goid': 'start_id', 'disease_id': 'end_id'})\n",
    "\n",
    "dbp_edges['type'] = 'associated_with'\n",
    "\n",
    "dbp_edges.head(5)"
   ]
  },
  {
   "cell_type": "code",
   "execution_count": 114,
   "metadata": {},
   "outputs": [],
   "source": [
    "dbp_edges['source'] = 'CTD'\n",
    "dbp_edges['dsrc_type'] = 'computed'\n",
    "dbp_edges['comp_type'] = 'inference'\n",
    "dbp_edges['license'] = 'http://ctdbase.org/about/legal.jsp'"
   ]
  },
  {
   "cell_type": "code",
   "execution_count": 115,
   "metadata": {},
   "outputs": [],
   "source": [
    "edges.append(dbp_edges)"
   ]
  },
  {
   "cell_type": "code",
   "execution_count": 116,
   "metadata": {},
   "outputs": [
    {
     "data": {
      "text/plain": [
       "'CTD_Phenotype-Disease_cellular_component_associations.csv.gz'"
      ]
     },
     "execution_count": 116,
     "metadata": {},
     "output_type": "execute_result"
    }
   ],
   "source": [
    "e_files[9]"
   ]
  },
  {
   "cell_type": "markdown",
   "metadata": {},
   "source": [
    "### Dis - CC"
   ]
  },
  {
   "cell_type": "code",
   "execution_count": 117,
   "metadata": {},
   "outputs": [
    {
     "data": {
      "text/html": [
       "<div>\n",
       "<style scoped>\n",
       "    .dataframe tbody tr th:only-of-type {\n",
       "        vertical-align: middle;\n",
       "    }\n",
       "\n",
       "    .dataframe tbody tr th {\n",
       "        vertical-align: top;\n",
       "    }\n",
       "\n",
       "    .dataframe thead th {\n",
       "        text-align: right;\n",
       "    }\n",
       "</style>\n",
       "<table border=\"1\" class=\"dataframe\">\n",
       "  <thead>\n",
       "    <tr style=\"text-align: right;\">\n",
       "      <th></th>\n",
       "      <th>goname</th>\n",
       "      <th>goid</th>\n",
       "      <th>disease_name</th>\n",
       "      <th>disease_id</th>\n",
       "      <th>inference_chemical_qty</th>\n",
       "      <th>inference_chemical_names</th>\n",
       "      <th>inference_gene_qty</th>\n",
       "      <th>inference_gene_symbols</th>\n",
       "    </tr>\n",
       "  </thead>\n",
       "  <tbody>\n",
       "    <tr>\n",
       "      <th>0</th>\n",
       "      <td>3M complex</td>\n",
       "      <td>GO:1990393</td>\n",
       "      <td>Autistic Disorder</td>\n",
       "      <td>MESH:D001321</td>\n",
       "      <td>0</td>\n",
       "      <td>NaN</td>\n",
       "      <td>1</td>\n",
       "      <td>CUL7</td>\n",
       "    </tr>\n",
       "    <tr>\n",
       "      <th>1</th>\n",
       "      <td>3M complex</td>\n",
       "      <td>GO:1990393</td>\n",
       "      <td>Carcinoma, Renal Cell</td>\n",
       "      <td>MESH:D002292</td>\n",
       "      <td>0</td>\n",
       "      <td>NaN</td>\n",
       "      <td>1</td>\n",
       "      <td>CUL7</td>\n",
       "    </tr>\n",
       "  </tbody>\n",
       "</table>\n",
       "</div>"
      ],
      "text/plain": [
       "       goname        goid           disease_name    disease_id  \\\n",
       "0  3M complex  GO:1990393      Autistic Disorder  MESH:D001321   \n",
       "1  3M complex  GO:1990393  Carcinoma, Renal Cell  MESH:D002292   \n",
       "\n",
       "   inference_chemical_qty inference_chemical_names  inference_gene_qty  \\\n",
       "0                       0                      NaN                   1   \n",
       "1                       0                      NaN                   1   \n",
       "\n",
       "  inference_gene_symbols  \n",
       "0                   CUL7  \n",
       "1                   CUL7  "
      ]
     },
     "execution_count": 117,
     "metadata": {},
     "output_type": "execute_result"
    }
   ],
   "source": [
    "dis_cc = read_ctd(load_dir.joinpath(e_files[9]))\n",
    "dis_cc.head(2)"
   ]
  },
  {
   "cell_type": "code",
   "execution_count": 118,
   "metadata": {},
   "outputs": [
    {
     "data": {
      "text/plain": [
       "(126497, 8)"
      ]
     },
     "execution_count": 118,
     "metadata": {},
     "output_type": "execute_result"
    }
   ],
   "source": [
    "dis_cc.shape"
   ]
  },
  {
   "cell_type": "code",
   "execution_count": 119,
   "metadata": {},
   "outputs": [
    {
     "data": {
      "text/html": [
       "<div>\n",
       "<style scoped>\n",
       "    .dataframe tbody tr th:only-of-type {\n",
       "        vertical-align: middle;\n",
       "    }\n",
       "\n",
       "    .dataframe tbody tr th {\n",
       "        vertical-align: top;\n",
       "    }\n",
       "\n",
       "    .dataframe thead th {\n",
       "        text-align: right;\n",
       "    }\n",
       "</style>\n",
       "<table border=\"1\" class=\"dataframe\">\n",
       "  <thead>\n",
       "    <tr style=\"text-align: right;\">\n",
       "      <th></th>\n",
       "      <th>start_id</th>\n",
       "      <th>end_id</th>\n",
       "      <th>type</th>\n",
       "    </tr>\n",
       "  </thead>\n",
       "  <tbody>\n",
       "    <tr>\n",
       "      <th>0</th>\n",
       "      <td>GO:1990393</td>\n",
       "      <td>MESH:D001321</td>\n",
       "      <td>associated_with</td>\n",
       "    </tr>\n",
       "    <tr>\n",
       "      <th>1</th>\n",
       "      <td>GO:1990393</td>\n",
       "      <td>MESH:D002292</td>\n",
       "      <td>associated_with</td>\n",
       "    </tr>\n",
       "    <tr>\n",
       "      <th>2</th>\n",
       "      <td>GO:1990393</td>\n",
       "      <td>MESH:C535314</td>\n",
       "      <td>associated_with</td>\n",
       "    </tr>\n",
       "    <tr>\n",
       "      <th>3</th>\n",
       "      <td>GO:1990393</td>\n",
       "      <td>MESH:C567862</td>\n",
       "      <td>associated_with</td>\n",
       "    </tr>\n",
       "    <tr>\n",
       "      <th>4</th>\n",
       "      <td>GO:1990393</td>\n",
       "      <td>MESH:D001749</td>\n",
       "      <td>associated_with</td>\n",
       "    </tr>\n",
       "  </tbody>\n",
       "</table>\n",
       "</div>"
      ],
      "text/plain": [
       "     start_id        end_id             type\n",
       "0  GO:1990393  MESH:D001321  associated_with\n",
       "1  GO:1990393  MESH:D002292  associated_with\n",
       "2  GO:1990393  MESH:C535314  associated_with\n",
       "3  GO:1990393  MESH:C567862  associated_with\n",
       "4  GO:1990393  MESH:D001749  associated_with"
      ]
     },
     "execution_count": 119,
     "metadata": {},
     "output_type": "execute_result"
    }
   ],
   "source": [
    "dcc_edges = dis_cc[['goid', 'disease_id']].rename(columns={'goid': 'start_id', 'disease_id': 'end_id'})\n",
    "dcc_edges['type'] = 'associated_with'\n",
    "\n",
    "dcc_edges.head(5)"
   ]
  },
  {
   "cell_type": "code",
   "execution_count": 120,
   "metadata": {},
   "outputs": [],
   "source": [
    "dcc_edges['source'] = 'CTD'\n",
    "dcc_edges['dsrc_type'] = 'computed'\n",
    "dcc_edges['comp_type'] = 'inference'\n",
    "dcc_edges['license'] = 'http://ctdbase.org/about/legal.jsp'"
   ]
  },
  {
   "cell_type": "code",
   "execution_count": 121,
   "metadata": {},
   "outputs": [],
   "source": [
    "edges.append(dcc_edges)"
   ]
  },
  {
   "cell_type": "code",
   "execution_count": 122,
   "metadata": {},
   "outputs": [
    {
     "data": {
      "text/plain": [
       "'CTD_Phenotype-Disease_molecular_function_associations.csv.gz'"
      ]
     },
     "execution_count": 122,
     "metadata": {},
     "output_type": "execute_result"
    }
   ],
   "source": [
    "e_files[10]"
   ]
  },
  {
   "cell_type": "markdown",
   "metadata": {},
   "source": [
    "### Dis - MF"
   ]
  },
  {
   "cell_type": "code",
   "execution_count": 123,
   "metadata": {},
   "outputs": [
    {
     "data": {
      "text/html": [
       "<div>\n",
       "<style scoped>\n",
       "    .dataframe tbody tr th:only-of-type {\n",
       "        vertical-align: middle;\n",
       "    }\n",
       "\n",
       "    .dataframe tbody tr th {\n",
       "        vertical-align: top;\n",
       "    }\n",
       "\n",
       "    .dataframe thead th {\n",
       "        text-align: right;\n",
       "    }\n",
       "</style>\n",
       "<table border=\"1\" class=\"dataframe\">\n",
       "  <thead>\n",
       "    <tr style=\"text-align: right;\">\n",
       "      <th></th>\n",
       "      <th>goname</th>\n",
       "      <th>goid</th>\n",
       "      <th>disease_name</th>\n",
       "      <th>disease_id</th>\n",
       "      <th>inference_chemical_qty</th>\n",
       "      <th>inference_chemical_names</th>\n",
       "      <th>inference_gene_qty</th>\n",
       "      <th>inference_gene_symbols</th>\n",
       "    </tr>\n",
       "  </thead>\n",
       "  <tbody>\n",
       "    <tr>\n",
       "      <th>0</th>\n",
       "      <td>10-hydroxy-9-(phosphonooxy)octadecanoate phosp...</td>\n",
       "      <td>GO:0033885</td>\n",
       "      <td>Acute Kidney Injury</td>\n",
       "      <td>MESH:D058186</td>\n",
       "      <td>0</td>\n",
       "      <td>NaN</td>\n",
       "      <td>1</td>\n",
       "      <td>EPHX2</td>\n",
       "    </tr>\n",
       "    <tr>\n",
       "      <th>1</th>\n",
       "      <td>10-hydroxy-9-(phosphonooxy)octadecanoate phosp...</td>\n",
       "      <td>GO:0033885</td>\n",
       "      <td>Autism Spectrum Disorder</td>\n",
       "      <td>MESH:D000067877</td>\n",
       "      <td>0</td>\n",
       "      <td>NaN</td>\n",
       "      <td>1</td>\n",
       "      <td>EPHX2</td>\n",
       "    </tr>\n",
       "  </tbody>\n",
       "</table>\n",
       "</div>"
      ],
      "text/plain": [
       "                                              goname        goid  \\\n",
       "0  10-hydroxy-9-(phosphonooxy)octadecanoate phosp...  GO:0033885   \n",
       "1  10-hydroxy-9-(phosphonooxy)octadecanoate phosp...  GO:0033885   \n",
       "\n",
       "               disease_name       disease_id  inference_chemical_qty  \\\n",
       "0       Acute Kidney Injury     MESH:D058186                       0   \n",
       "1  Autism Spectrum Disorder  MESH:D000067877                       0   \n",
       "\n",
       "  inference_chemical_names  inference_gene_qty inference_gene_symbols  \n",
       "0                      NaN                   1                  EPHX2  \n",
       "1                      NaN                   1                  EPHX2  "
      ]
     },
     "execution_count": 123,
     "metadata": {},
     "output_type": "execute_result"
    }
   ],
   "source": [
    "dis_mf = read_ctd(load_dir.joinpath(e_files[10]))\n",
    "dis_mf.head(2)"
   ]
  },
  {
   "cell_type": "code",
   "execution_count": 124,
   "metadata": {},
   "outputs": [
    {
     "data": {
      "text/plain": [
       "(200321, 8)"
      ]
     },
     "execution_count": 124,
     "metadata": {},
     "output_type": "execute_result"
    }
   ],
   "source": [
    "dis_mf.shape"
   ]
  },
  {
   "cell_type": "code",
   "execution_count": 125,
   "metadata": {},
   "outputs": [
    {
     "data": {
      "text/html": [
       "<div>\n",
       "<style scoped>\n",
       "    .dataframe tbody tr th:only-of-type {\n",
       "        vertical-align: middle;\n",
       "    }\n",
       "\n",
       "    .dataframe tbody tr th {\n",
       "        vertical-align: top;\n",
       "    }\n",
       "\n",
       "    .dataframe thead th {\n",
       "        text-align: right;\n",
       "    }\n",
       "</style>\n",
       "<table border=\"1\" class=\"dataframe\">\n",
       "  <thead>\n",
       "    <tr style=\"text-align: right;\">\n",
       "      <th></th>\n",
       "      <th>start_id</th>\n",
       "      <th>end_id</th>\n",
       "      <th>type</th>\n",
       "    </tr>\n",
       "  </thead>\n",
       "  <tbody>\n",
       "    <tr>\n",
       "      <th>0</th>\n",
       "      <td>GO:0033885</td>\n",
       "      <td>MESH:D058186</td>\n",
       "      <td>associated_with</td>\n",
       "    </tr>\n",
       "    <tr>\n",
       "      <th>1</th>\n",
       "      <td>GO:0033885</td>\n",
       "      <td>MESH:D000067877</td>\n",
       "      <td>associated_with</td>\n",
       "    </tr>\n",
       "    <tr>\n",
       "      <th>2</th>\n",
       "      <td>GO:0033885</td>\n",
       "      <td>MESH:D064420</td>\n",
       "      <td>associated_with</td>\n",
       "    </tr>\n",
       "    <tr>\n",
       "      <th>3</th>\n",
       "      <td>GO:0033885</td>\n",
       "      <td>MESH:D006333</td>\n",
       "      <td>associated_with</td>\n",
       "    </tr>\n",
       "    <tr>\n",
       "      <th>4</th>\n",
       "      <td>GO:0033885</td>\n",
       "      <td>OMIM:143890</td>\n",
       "      <td>associated_with</td>\n",
       "    </tr>\n",
       "  </tbody>\n",
       "</table>\n",
       "</div>"
      ],
      "text/plain": [
       "     start_id           end_id             type\n",
       "0  GO:0033885     MESH:D058186  associated_with\n",
       "1  GO:0033885  MESH:D000067877  associated_with\n",
       "2  GO:0033885     MESH:D064420  associated_with\n",
       "3  GO:0033885     MESH:D006333  associated_with\n",
       "4  GO:0033885      OMIM:143890  associated_with"
      ]
     },
     "execution_count": 125,
     "metadata": {},
     "output_type": "execute_result"
    }
   ],
   "source": [
    "dmf_edges = dis_mf[['goid', 'disease_id']].rename(columns={'goid': 'start_id', 'disease_id': 'end_id'})\n",
    "dmf_edges['type'] = 'associated_with'\n",
    "\n",
    "dmf_edges.head(5)"
   ]
  },
  {
   "cell_type": "code",
   "execution_count": 126,
   "metadata": {},
   "outputs": [],
   "source": [
    "dmf_edges['source'] = 'CTD'\n",
    "dmf_edges['dsrc_type'] = 'computed'\n",
    "dmf_edges['comp_type'] = 'inference'\n",
    "dmf_edges['license'] = 'http://ctdbase.org/about/legal.jsp'"
   ]
  },
  {
   "cell_type": "code",
   "execution_count": 127,
   "metadata": {},
   "outputs": [],
   "source": [
    "edges.append(dmf_edges)"
   ]
  },
  {
   "cell_type": "markdown",
   "metadata": {},
   "source": [
    "# Putting it all together"
   ]
  },
  {
   "cell_type": "code",
   "execution_count": 128,
   "metadata": {},
   "outputs": [
    {
     "data": {
      "text/html": [
       "<div>\n",
       "<style scoped>\n",
       "    .dataframe tbody tr th:only-of-type {\n",
       "        vertical-align: middle;\n",
       "    }\n",
       "\n",
       "    .dataframe tbody tr th {\n",
       "        vertical-align: top;\n",
       "    }\n",
       "\n",
       "    .dataframe thead th {\n",
       "        text-align: right;\n",
       "    }\n",
       "</style>\n",
       "<table border=\"1\" class=\"dataframe\">\n",
       "  <thead>\n",
       "    <tr style=\"text-align: right;\">\n",
       "      <th></th>\n",
       "      <th>start_id</th>\n",
       "      <th>end_id</th>\n",
       "      <th>parent_ixn</th>\n",
       "      <th>pub_med_ids</th>\n",
       "      <th>organism_id</th>\n",
       "      <th>type</th>\n",
       "      <th>source</th>\n",
       "      <th>dsrc_type</th>\n",
       "      <th>license</th>\n",
       "      <th>direct_evidence</th>\n",
       "      <th>p_val</th>\n",
       "      <th>adj_p</th>\n",
       "      <th>comp_type</th>\n",
       "      <th>inference_gene_symbol</th>\n",
       "    </tr>\n",
       "  </thead>\n",
       "  <tbody>\n",
       "    <tr>\n",
       "      <th>0</th>\n",
       "      <td>MESH:C534883</td>\n",
       "      <td>NCBIGene:4149</td>\n",
       "      <td>decreases^activity</td>\n",
       "      <td>26474287</td>\n",
       "      <td>NaN</td>\n",
       "      <td>decreases_activity</td>\n",
       "      <td>CTD</td>\n",
       "      <td>curated</td>\n",
       "      <td>http://ctdbase.org/about/legal.jsp</td>\n",
       "      <td>NaN</td>\n",
       "      <td>NaN</td>\n",
       "      <td>NaN</td>\n",
       "      <td>NaN</td>\n",
       "      <td>NaN</td>\n",
       "    </tr>\n",
       "    <tr>\n",
       "      <th>1</th>\n",
       "      <td>MESH:C112297</td>\n",
       "      <td>NCBIGene:2353</td>\n",
       "      <td>increases^expression</td>\n",
       "      <td>26348896</td>\n",
       "      <td>NCBITaxon:10090</td>\n",
       "      <td>increases_expression</td>\n",
       "      <td>CTD</td>\n",
       "      <td>curated</td>\n",
       "      <td>http://ctdbase.org/about/legal.jsp</td>\n",
       "      <td>NaN</td>\n",
       "      <td>NaN</td>\n",
       "      <td>NaN</td>\n",
       "      <td>NaN</td>\n",
       "      <td>NaN</td>\n",
       "    </tr>\n",
       "  </tbody>\n",
       "</table>\n",
       "</div>"
      ],
      "text/plain": [
       "       start_id         end_id            parent_ixn pub_med_ids  \\\n",
       "0  MESH:C534883  NCBIGene:4149    decreases^activity    26474287   \n",
       "1  MESH:C112297  NCBIGene:2353  increases^expression    26348896   \n",
       "\n",
       "       organism_id                  type source dsrc_type  \\\n",
       "0              NaN    decreases_activity    CTD   curated   \n",
       "1  NCBITaxon:10090  increases_expression    CTD   curated   \n",
       "\n",
       "                              license direct_evidence  p_val  adj_p comp_type  \\\n",
       "0  http://ctdbase.org/about/legal.jsp             NaN    NaN    NaN       NaN   \n",
       "1  http://ctdbase.org/about/legal.jsp             NaN    NaN    NaN       NaN   \n",
       "\n",
       "  inference_gene_symbol  \n",
       "0                   NaN  \n",
       "1                   NaN  "
      ]
     },
     "execution_count": 128,
     "metadata": {},
     "output_type": "execute_result"
    }
   ],
   "source": [
    "edges = pd.concat(edges, sort=False, ignore_index=True)\n",
    "edges.head(2)"
   ]
  },
  {
   "cell_type": "code",
   "execution_count": 129,
   "metadata": {},
   "outputs": [
    {
     "data": {
      "text/html": [
       "<div>\n",
       "<style scoped>\n",
       "    .dataframe tbody tr th:only-of-type {\n",
       "        vertical-align: middle;\n",
       "    }\n",
       "\n",
       "    .dataframe tbody tr th {\n",
       "        vertical-align: top;\n",
       "    }\n",
       "\n",
       "    .dataframe thead th {\n",
       "        text-align: right;\n",
       "    }\n",
       "</style>\n",
       "<table border=\"1\" class=\"dataframe\">\n",
       "  <thead>\n",
       "    <tr style=\"text-align: right;\">\n",
       "      <th></th>\n",
       "      <th>start_id</th>\n",
       "      <th>end_id</th>\n",
       "      <th>type</th>\n",
       "      <th>parent_ixn</th>\n",
       "      <th>pub_med_ids</th>\n",
       "      <th>organism_id</th>\n",
       "      <th>source</th>\n",
       "      <th>dsrc_type</th>\n",
       "      <th>license</th>\n",
       "      <th>direct_evidence</th>\n",
       "      <th>p_val</th>\n",
       "      <th>adj_p</th>\n",
       "      <th>comp_type</th>\n",
       "      <th>inference_gene_symbol</th>\n",
       "    </tr>\n",
       "  </thead>\n",
       "  <tbody>\n",
       "    <tr>\n",
       "      <th>0</th>\n",
       "      <td>MESH:C534883</td>\n",
       "      <td>NCBIGene:4149</td>\n",
       "      <td>decreases_activity</td>\n",
       "      <td>decreases^activity</td>\n",
       "      <td>26474287</td>\n",
       "      <td>NaN</td>\n",
       "      <td>CTD</td>\n",
       "      <td>curated</td>\n",
       "      <td>http://ctdbase.org/about/legal.jsp</td>\n",
       "      <td>NaN</td>\n",
       "      <td>NaN</td>\n",
       "      <td>NaN</td>\n",
       "      <td>NaN</td>\n",
       "      <td>NaN</td>\n",
       "    </tr>\n",
       "    <tr>\n",
       "      <th>1</th>\n",
       "      <td>MESH:C112297</td>\n",
       "      <td>NCBIGene:2353</td>\n",
       "      <td>increases_expression</td>\n",
       "      <td>increases^expression</td>\n",
       "      <td>26348896</td>\n",
       "      <td>NCBITaxon:10090</td>\n",
       "      <td>CTD</td>\n",
       "      <td>curated</td>\n",
       "      <td>http://ctdbase.org/about/legal.jsp</td>\n",
       "      <td>NaN</td>\n",
       "      <td>NaN</td>\n",
       "      <td>NaN</td>\n",
       "      <td>NaN</td>\n",
       "      <td>NaN</td>\n",
       "    </tr>\n",
       "  </tbody>\n",
       "</table>\n",
       "</div>"
      ],
      "text/plain": [
       "       start_id         end_id                  type            parent_ixn  \\\n",
       "0  MESH:C534883  NCBIGene:4149    decreases_activity    decreases^activity   \n",
       "1  MESH:C112297  NCBIGene:2353  increases_expression  increases^expression   \n",
       "\n",
       "  pub_med_ids      organism_id source dsrc_type  \\\n",
       "0    26474287              NaN    CTD   curated   \n",
       "1    26348896  NCBITaxon:10090    CTD   curated   \n",
       "\n",
       "                              license direct_evidence  p_val  adj_p comp_type  \\\n",
       "0  http://ctdbase.org/about/legal.jsp             NaN    NaN    NaN       NaN   \n",
       "1  http://ctdbase.org/about/legal.jsp             NaN    NaN    NaN       NaN   \n",
       "\n",
       "  inference_gene_symbol  \n",
       "0                   NaN  \n",
       "1                   NaN  "
      ]
     },
     "execution_count": 129,
     "metadata": {},
     "output_type": "execute_result"
    }
   ],
   "source": [
    "edges = edges[sorted(edges.columns, key=lambda x: x not in ['start_id', 'end_id', 'type'])]\n",
    "edges.head(2)"
   ]
  },
  {
   "cell_type": "code",
   "execution_count": 130,
   "metadata": {},
   "outputs": [
    {
     "data": {
      "text/plain": [
       "'5,359,668'"
      ]
     },
     "execution_count": 130,
     "metadata": {},
     "output_type": "execute_result"
    }
   ],
   "source": [
    "'{:,}'.format(len(edges))"
   ]
  },
  {
   "cell_type": "code",
   "execution_count": 131,
   "metadata": {},
   "outputs": [],
   "source": [
    "edge_ids = edges[['start_id', 'end_id']].stack().unique()"
   ]
  },
  {
   "cell_type": "code",
   "execution_count": 132,
   "metadata": {},
   "outputs": [
    {
     "data": {
      "text/plain": [
       "90726"
      ]
     },
     "execution_count": 132,
     "metadata": {},
     "output_type": "execute_result"
    }
   ],
   "source": [
    "len(edge_ids)"
   ]
  },
  {
   "cell_type": "code",
   "execution_count": 133,
   "metadata": {},
   "outputs": [
    {
     "name": "stdout",
     "output_type": "stream",
     "text": [
      "747,662\n",
      "90,736\n"
     ]
    }
   ],
   "source": [
    "print('{:,}'.format(len(nodes)))\n",
    "nodes_filt = nodes.query('id in @edge_ids')\n",
    "print('{:,}'.format(len(nodes_filt)))"
   ]
  },
  {
   "cell_type": "markdown",
   "metadata": {},
   "source": [
    "### Some QC on the nodes and edges..."
   ]
  },
  {
   "cell_type": "markdown",
   "metadata": {},
   "source": [
    "#### Make sure all IDs found in edges are also found in nodes..."
   ]
  },
  {
   "cell_type": "code",
   "execution_count": 134,
   "metadata": {},
   "outputs": [
    {
     "data": {
      "text/plain": [
       "25"
      ]
     },
     "execution_count": 134,
     "metadata": {},
     "output_type": "execute_result"
    }
   ],
   "source": [
    "len(set(edge_ids) - set(nodes['id']))"
   ]
  },
  {
   "cell_type": "code",
   "execution_count": 135,
   "metadata": {},
   "outputs": [
    {
     "data": {
      "text/plain": [
       "25"
      ]
     },
     "execution_count": 135,
     "metadata": {},
     "output_type": "execute_result"
    }
   ],
   "source": [
    "len(set(edge_ids) - set(nodes_filt['id']))"
   ]
  },
  {
   "cell_type": "code",
   "execution_count": 136,
   "metadata": {},
   "outputs": [
    {
     "data": {
      "text/plain": [
       "{'GO:0000060',\n",
       " 'GO:0004874',\n",
       " 'GO:0008565',\n",
       " 'GO:0015238',\n",
       " 'GO:0015307',\n",
       " 'GO:0017082',\n",
       " 'GO:0033160',\n",
       " 'GO:0033216',\n",
       " 'GO:0034437',\n",
       " 'GO:0038052',\n",
       " 'GO:0042891',\n",
       " 'GO:0042895',\n",
       " 'GO:0042954',\n",
       " 'GO:0097286',\n",
       " 'GO:0097689',\n",
       " 'GO:1903414',\n",
       " 'GO:1903756',\n",
       " 'GO:1903757',\n",
       " 'GO:1903758',\n",
       " 'GO:1904167',\n",
       " 'GO:1904169',\n",
       " 'GO:2000824',\n",
       " 'GO:2001273',\n",
       " 'GO:2001274',\n",
       " 'GO:2001275'}"
      ]
     },
     "execution_count": 136,
     "metadata": {},
     "output_type": "execute_result"
    }
   ],
   "source": [
    "set(edge_ids) - set(nodes_filt['id'])"
   ]
  },
  {
   "cell_type": "markdown",
   "metadata": {},
   "source": [
    "These are all Obsolete GO terms... so we will remove them from the graph.."
   ]
  },
  {
   "cell_type": "code",
   "execution_count": 137,
   "metadata": {},
   "outputs": [
    {
     "name": "stdout",
     "output_type": "stream",
     "text": [
      "Edges before: 5,359,668\n",
      "Edges after: 5,354,828\n"
     ]
    }
   ],
   "source": [
    "obsolete_go_terms = set(edge_ids) - set(nodes_filt['id'])\n",
    "print('Edges before: {:,}'.format(len(edges)))\n",
    "edges = edges.query('start_id not in @obsolete_go_terms and end_id not in @obsolete_go_terms')\n",
    "print('Edges after: {:,}'.format(len(edges)))"
   ]
  },
  {
   "cell_type": "markdown",
   "metadata": {},
   "source": [
    "#### Ensure all unique node identifiers have only 1 'label'"
   ]
  },
  {
   "cell_type": "code",
   "execution_count": 138,
   "metadata": {},
   "outputs": [
    {
     "name": "stdout",
     "output_type": "stream",
     "text": [
      "IDs with more than one type: 59\n"
     ]
    }
   ],
   "source": [
    "print('IDs with more than one type: {}'.format(nodes[nodes['id'].duplicated(keep=False)]['id'].nunique()))"
   ]
  },
  {
   "cell_type": "markdown",
   "metadata": {},
   "source": [
    "59 examples... let's look at the first 5 and see if there's a pattern.."
   ]
  },
  {
   "cell_type": "code",
   "execution_count": 139,
   "metadata": {},
   "outputs": [
    {
     "data": {
      "text/html": [
       "<div>\n",
       "<style scoped>\n",
       "    .dataframe tbody tr th:only-of-type {\n",
       "        vertical-align: middle;\n",
       "    }\n",
       "\n",
       "    .dataframe tbody tr th {\n",
       "        vertical-align: top;\n",
       "    }\n",
       "\n",
       "    .dataframe thead th {\n",
       "        text-align: right;\n",
       "    }\n",
       "</style>\n",
       "<table border=\"1\" class=\"dataframe\">\n",
       "  <thead>\n",
       "    <tr style=\"text-align: right;\">\n",
       "      <th></th>\n",
       "      <th>id</th>\n",
       "      <th>name</th>\n",
       "      <th>label</th>\n",
       "      <th>tree_numbers</th>\n",
       "      <th>drug_bank_ids</th>\n",
       "      <th>alt_disease_ids</th>\n",
       "      <th>gene_symbol</th>\n",
       "      <th>alt_gene_ids</th>\n",
       "      <th>bio_gridids</th>\n",
       "      <th>pharm_gkbids</th>\n",
       "      <th>uni_prot_ids</th>\n",
       "    </tr>\n",
       "  </thead>\n",
       "  <tbody>\n",
       "    <tr>\n",
       "      <th>100582</th>\n",
       "      <td>MESH:C536075</td>\n",
       "      <td>Hyaloideoretinal degeneration of Wagner</td>\n",
       "      <td>Compound</td>\n",
       "      <td>D09.698.735.200.750/C536075</td>\n",
       "      <td>NaN</td>\n",
       "      <td>NaN</td>\n",
       "      <td>NaN</td>\n",
       "      <td>NaN</td>\n",
       "      <td>NaN</td>\n",
       "      <td>NaN</td>\n",
       "      <td>NaN</td>\n",
       "    </tr>\n",
       "    <tr>\n",
       "      <th>176555</th>\n",
       "      <td>MESH:C536075</td>\n",
       "      <td>Hyaloideoretinal degeneration of Wagner</td>\n",
       "      <td>Disease</td>\n",
       "      <td>C11.270.612/C536075|C11.768.585/C536075</td>\n",
       "      <td>NaN</td>\n",
       "      <td>OMIM:143200</td>\n",
       "      <td>NaN</td>\n",
       "      <td>NaN</td>\n",
       "      <td>NaN</td>\n",
       "      <td>NaN</td>\n",
       "      <td>NaN</td>\n",
       "    </tr>\n",
       "    <tr>\n",
       "      <th>102253</th>\n",
       "      <td>MESH:C536285</td>\n",
       "      <td>Iminoglycinuria</td>\n",
       "      <td>Compound</td>\n",
       "      <td>D12.125.481/C536285</td>\n",
       "      <td>NaN</td>\n",
       "      <td>NaN</td>\n",
       "      <td>NaN</td>\n",
       "      <td>NaN</td>\n",
       "      <td>NaN</td>\n",
       "      <td>NaN</td>\n",
       "      <td>NaN</td>\n",
       "    </tr>\n",
       "    <tr>\n",
       "      <th>177023</th>\n",
       "      <td>MESH:C536285</td>\n",
       "      <td>Iminoglycinuria</td>\n",
       "      <td>Disease</td>\n",
       "      <td>C12.777.419.815/C536285|C13.351.968.419.815/C5...</td>\n",
       "      <td>NaN</td>\n",
       "      <td>OMIM:242600</td>\n",
       "      <td>NaN</td>\n",
       "      <td>NaN</td>\n",
       "      <td>NaN</td>\n",
       "      <td>NaN</td>\n",
       "      <td>NaN</td>\n",
       "    </tr>\n",
       "    <tr>\n",
       "      <th>78949</th>\n",
       "      <td>MESH:C557815</td>\n",
       "      <td>Deficiency of interleukin-1 receptor antagonist</td>\n",
       "      <td>Compound</td>\n",
       "      <td>D23.529.374.460/C557815</td>\n",
       "      <td>NaN</td>\n",
       "      <td>NaN</td>\n",
       "      <td>NaN</td>\n",
       "      <td>NaN</td>\n",
       "      <td>NaN</td>\n",
       "      <td>NaN</td>\n",
       "      <td>NaN</td>\n",
       "    </tr>\n",
       "    <tr>\n",
       "      <th>174279</th>\n",
       "      <td>MESH:C557815</td>\n",
       "      <td>Deficiency of interleukin-1 receptor antagonist</td>\n",
       "      <td>Disease</td>\n",
       "      <td>C16.320.382/C557815|C17.800.827.368/C557815</td>\n",
       "      <td>NaN</td>\n",
       "      <td>NaN</td>\n",
       "      <td>NaN</td>\n",
       "      <td>NaN</td>\n",
       "      <td>NaN</td>\n",
       "      <td>NaN</td>\n",
       "      <td>NaN</td>\n",
       "    </tr>\n",
       "    <tr>\n",
       "      <th>97525</th>\n",
       "      <td>MESH:C562477</td>\n",
       "      <td>Halothane Hepatitis</td>\n",
       "      <td>Compound</td>\n",
       "      <td>D02.455.526.340/C562477</td>\n",
       "      <td>NaN</td>\n",
       "      <td>NaN</td>\n",
       "      <td>NaN</td>\n",
       "      <td>NaN</td>\n",
       "      <td>NaN</td>\n",
       "      <td>NaN</td>\n",
       "      <td>NaN</td>\n",
       "    </tr>\n",
       "    <tr>\n",
       "      <th>176126</th>\n",
       "      <td>MESH:C562477</td>\n",
       "      <td>Halothane Hepatitis</td>\n",
       "      <td>Disease</td>\n",
       "      <td>C06.552.100/C562477|C25.100.562/C562477|C25.72...</td>\n",
       "      <td>NaN</td>\n",
       "      <td>NaN</td>\n",
       "      <td>NaN</td>\n",
       "      <td>NaN</td>\n",
       "      <td>NaN</td>\n",
       "      <td>NaN</td>\n",
       "      <td>NaN</td>\n",
       "    </tr>\n",
       "    <tr>\n",
       "      <th>114485</th>\n",
       "      <td>MESH:C562609</td>\n",
       "      <td>Metachromatic Leukodystrophy due to Saposin B ...</td>\n",
       "      <td>Compound</td>\n",
       "      <td>D08.211.790.500/C562609</td>\n",
       "      <td>NaN</td>\n",
       "      <td>NaN</td>\n",
       "      <td>NaN</td>\n",
       "      <td>NaN</td>\n",
       "      <td>NaN</td>\n",
       "      <td>NaN</td>\n",
       "      <td>NaN</td>\n",
       "    </tr>\n",
       "    <tr>\n",
       "      <th>178638</th>\n",
       "      <td>MESH:C562609</td>\n",
       "      <td>Metachromatic Leukodystrophy due to Saposin B ...</td>\n",
       "      <td>Disease</td>\n",
       "      <td>C10.228.140.163.100.362.550/C562609|C10.228.14...</td>\n",
       "      <td>NaN</td>\n",
       "      <td>OMIM:249900</td>\n",
       "      <td>NaN</td>\n",
       "      <td>NaN</td>\n",
       "      <td>NaN</td>\n",
       "      <td>NaN</td>\n",
       "      <td>NaN</td>\n",
       "    </tr>\n",
       "  </tbody>\n",
       "</table>\n",
       "</div>"
      ],
      "text/plain": [
       "                  id                                               name  \\\n",
       "100582  MESH:C536075            Hyaloideoretinal degeneration of Wagner   \n",
       "176555  MESH:C536075            Hyaloideoretinal degeneration of Wagner   \n",
       "102253  MESH:C536285                                    Iminoglycinuria   \n",
       "177023  MESH:C536285                                    Iminoglycinuria   \n",
       "78949   MESH:C557815    Deficiency of interleukin-1 receptor antagonist   \n",
       "174279  MESH:C557815    Deficiency of interleukin-1 receptor antagonist   \n",
       "97525   MESH:C562477                                Halothane Hepatitis   \n",
       "176126  MESH:C562477                                Halothane Hepatitis   \n",
       "114485  MESH:C562609  Metachromatic Leukodystrophy due to Saposin B ...   \n",
       "178638  MESH:C562609  Metachromatic Leukodystrophy due to Saposin B ...   \n",
       "\n",
       "           label                                       tree_numbers  \\\n",
       "100582  Compound                        D09.698.735.200.750/C536075   \n",
       "176555   Disease            C11.270.612/C536075|C11.768.585/C536075   \n",
       "102253  Compound                                D12.125.481/C536285   \n",
       "177023   Disease  C12.777.419.815/C536285|C13.351.968.419.815/C5...   \n",
       "78949   Compound                            D23.529.374.460/C557815   \n",
       "174279   Disease        C16.320.382/C557815|C17.800.827.368/C557815   \n",
       "97525   Compound                            D02.455.526.340/C562477   \n",
       "176126   Disease  C06.552.100/C562477|C25.100.562/C562477|C25.72...   \n",
       "114485  Compound                            D08.211.790.500/C562609   \n",
       "178638   Disease  C10.228.140.163.100.362.550/C562609|C10.228.14...   \n",
       "\n",
       "       drug_bank_ids alt_disease_ids gene_symbol alt_gene_ids bio_gridids  \\\n",
       "100582           NaN             NaN         NaN          NaN         NaN   \n",
       "176555           NaN     OMIM:143200         NaN          NaN         NaN   \n",
       "102253           NaN             NaN         NaN          NaN         NaN   \n",
       "177023           NaN     OMIM:242600         NaN          NaN         NaN   \n",
       "78949            NaN             NaN         NaN          NaN         NaN   \n",
       "174279           NaN             NaN         NaN          NaN         NaN   \n",
       "97525            NaN             NaN         NaN          NaN         NaN   \n",
       "176126           NaN             NaN         NaN          NaN         NaN   \n",
       "114485           NaN             NaN         NaN          NaN         NaN   \n",
       "178638           NaN     OMIM:249900         NaN          NaN         NaN   \n",
       "\n",
       "       pharm_gkbids uni_prot_ids  \n",
       "100582          NaN          NaN  \n",
       "176555          NaN          NaN  \n",
       "102253          NaN          NaN  \n",
       "177023          NaN          NaN  \n",
       "78949           NaN          NaN  \n",
       "174279          NaN          NaN  \n",
       "97525           NaN          NaN  \n",
       "176126          NaN          NaN  \n",
       "114485          NaN          NaN  \n",
       "178638          NaN          NaN  "
      ]
     },
     "execution_count": 139,
     "metadata": {},
     "output_type": "execute_result"
    }
   ],
   "source": [
    "nodes[nodes['id'].duplicated(keep=False)].sort_values('id').head(10)"
   ]
  },
  {
   "cell_type": "markdown",
   "metadata": {},
   "source": [
    "They appear to be diseases mis-labeld as compounds in some instances...."
   ]
  },
  {
   "cell_type": "code",
   "execution_count": 140,
   "metadata": {},
   "outputs": [
    {
     "data": {
      "text/plain": [
       "label\n",
       "Compound    59\n",
       "Disease     59\n",
       "Name: id, dtype: int64"
      ]
     },
     "execution_count": 140,
     "metadata": {},
     "output_type": "execute_result"
    }
   ],
   "source": [
    "nodes[nodes['id'].duplicated(keep=False)].groupby('label')['id'].nunique()"
   ]
  },
  {
   "cell_type": "markdown",
   "metadata": {},
   "source": [
    "All of these duplicated IDs are represented as both a Compound and a Disease... So we will drop the compound version"
   ]
  },
  {
   "cell_type": "code",
   "execution_count": 141,
   "metadata": {},
   "outputs": [
    {
     "name": "stdout",
     "output_type": "stream",
     "text": [
      "Unique IDs in Edges 90,698\n",
      "Nodes before dropping: 90,736\n",
      "Nodes after dropping: 90,698\n"
     ]
    }
   ],
   "source": [
    "drop_node_idx = nodes[nodes['id'].duplicated(keep=False)].query('label == \"Compound\"').index\n",
    "nodes = nodes.drop(drop_node_idx)\n",
    "\n",
    "edge_ids = edges[['start_id', 'end_id']].stack().unique()\n",
    "print('Unique IDs in Edges {:,}'.format(len(edge_ids)))\n",
    "print('Nodes before dropping: {:,}'.format(len(nodes_filt)))\n",
    "nodes_filt = nodes.query('id in @edge_ids')\n",
    "print('Nodes after dropping: {:,}'.format(len(nodes_filt)))"
   ]
  },
  {
   "cell_type": "markdown",
   "metadata": {},
   "source": [
    "#### Validate Node types match edge labels"
   ]
  },
  {
   "cell_type": "markdown",
   "metadata": {},
   "source": [
    "Finally, we want to make sure our node typing is all correct...\n",
    "Nodes that say they're a compound appear as compounds in the edge file, etc...."
   ]
  },
  {
   "cell_type": "code",
   "execution_count": 142,
   "metadata": {},
   "outputs": [],
   "source": [
    "combo = gt.combine_nodes_and_edges(nodes, edges)"
   ]
  },
  {
   "cell_type": "code",
   "execution_count": 143,
   "metadata": {},
   "outputs": [],
   "source": [
    "me = combo['start_label'] + ' - ' + combo['type'] + ' - ' + combo['end_label']"
   ]
  },
  {
   "cell_type": "code",
   "execution_count": 144,
   "metadata": {},
   "outputs": [
    {
     "data": {
      "text/plain": [
       "Biological Process - associated_with - Disease         1798362\n",
       "Compound - associated_with - Pathway                   1215923\n",
       "Disease - associated_with - Pathway                     563178\n",
       "Compound - increases_expression - Gene                  479825\n",
       "Compound - decreases_expression - Gene                  410983\n",
       "Molecular Function - associated_with - Disease          199530\n",
       "Compound - affects_expression - Gene                    137093\n",
       "Gene - part_of - Pathway                                135809\n",
       "Cellular Component - associated_with - Disease          126497\n",
       "Compound - marker_or_mechanism - Disease                 62912\n",
       "Compound - increases_phenotype - Biological Process      35984\n",
       "Compound - therapeutic - Disease                         34573\n",
       "Gene - marker_or_mechanism - Disease                     29342\n",
       "Compound - increases_activity - Gene                     29001\n",
       "Compound - decreases_reaction - Biological Process       26730\n",
       "Compound - decreases_activity - Gene                     21926\n",
       "Compound - decreases_phenotype - Biological Process      16993\n",
       "Compound - affects_phenotype - Biological Process        11221\n",
       "Compound - increases_reaction - Biological Process        6694\n",
       "Compound - affects_reaction - Biological Process          2419\n",
       "Compound - affects_activity - Gene                        2382\n",
       "Gene - therapeutic - Disease                              1890\n",
       "Compound - decreases_phenotype - Molecular Function       1831\n",
       "Compound - decreases_reaction - Molecular Function        1662\n",
       "Compound - increases_phenotype - Molecular Function       1337\n",
       "Compound - increases_reaction - Molecular Function         220\n",
       "Compound - affects_phenotype - Molecular Function          189\n",
       "Compound - affects_reaction - Molecular Function           176\n",
       "Compound - decreases_phenotype - Cellular Component         44\n",
       "Compound - increases_phenotype - Cellular Component         43\n",
       "Compound - decreases_reaction - Cellular Component          31\n",
       "Compound - increases_reaction - Cellular Component          14\n",
       "Compound - affects_phenotype - Cellular Component            9\n",
       "Disease - marker_or_mechanism - Disease                      3\n",
       "Compound - affects_reaction - Cellular Component             2\n",
       "dtype: int64"
      ]
     },
     "execution_count": 144,
     "metadata": {},
     "output_type": "execute_result"
    }
   ],
   "source": [
    "me.value_counts()"
   ]
  },
  {
   "cell_type": "markdown",
   "metadata": {},
   "source": [
    " A few weird ones hwere with disease, disease links that shouldn't be in the network"
   ]
  },
  {
   "cell_type": "code",
   "execution_count": 145,
   "metadata": {},
   "outputs": [
    {
     "data": {
      "text/html": [
       "<div>\n",
       "<style scoped>\n",
       "    .dataframe tbody tr th:only-of-type {\n",
       "        vertical-align: middle;\n",
       "    }\n",
       "\n",
       "    .dataframe tbody tr th {\n",
       "        vertical-align: top;\n",
       "    }\n",
       "\n",
       "    .dataframe thead th {\n",
       "        text-align: right;\n",
       "    }\n",
       "</style>\n",
       "<table border=\"1\" class=\"dataframe\">\n",
       "  <thead>\n",
       "    <tr style=\"text-align: right;\">\n",
       "      <th></th>\n",
       "      <th>start_id</th>\n",
       "      <th>start_name</th>\n",
       "      <th>type</th>\n",
       "      <th>end_name</th>\n",
       "      <th>end_id</th>\n",
       "    </tr>\n",
       "  </thead>\n",
       "  <tbody>\n",
       "    <tr>\n",
       "      <th>1107641</th>\n",
       "      <td>MESH:C564403</td>\n",
       "      <td>Coenzyme Q10 Deficiency</td>\n",
       "      <td>marker_or_mechanism</td>\n",
       "      <td>Depressive Disorder, Major</td>\n",
       "      <td>MESH:D003865</td>\n",
       "    </tr>\n",
       "    <tr>\n",
       "      <th>1107642</th>\n",
       "      <td>MESH:C564403</td>\n",
       "      <td>Coenzyme Q10 Deficiency</td>\n",
       "      <td>marker_or_mechanism</td>\n",
       "      <td>Heart Failure</td>\n",
       "      <td>MESH:D006333</td>\n",
       "    </tr>\n",
       "    <tr>\n",
       "      <th>1107643</th>\n",
       "      <td>MESH:C564403</td>\n",
       "      <td>Coenzyme Q10 Deficiency</td>\n",
       "      <td>marker_or_mechanism</td>\n",
       "      <td>Myocardial Infarction</td>\n",
       "      <td>MESH:D009203</td>\n",
       "    </tr>\n",
       "  </tbody>\n",
       "</table>\n",
       "</div>"
      ],
      "text/plain": [
       "             start_id               start_name                 type  \\\n",
       "1107641  MESH:C564403  Coenzyme Q10 Deficiency  marker_or_mechanism   \n",
       "1107642  MESH:C564403  Coenzyme Q10 Deficiency  marker_or_mechanism   \n",
       "1107643  MESH:C564403  Coenzyme Q10 Deficiency  marker_or_mechanism   \n",
       "\n",
       "                           end_name        end_id  \n",
       "1107641  Depressive Disorder, Major  MESH:D003865  \n",
       "1107642               Heart Failure  MESH:D006333  \n",
       "1107643       Myocardial Infarction  MESH:D009203  "
      ]
     },
     "execution_count": 145,
     "metadata": {},
     "output_type": "execute_result"
    }
   ],
   "source": [
    "combo.query('start_label == \"Disease\" and end_label == \"Disease\"')[['start_id', 'start_name', 'type', 'end_name', 'end_id']]"
   ]
  },
  {
   "cell_type": "markdown",
   "metadata": {},
   "source": [
    "seems more like phenotype to disease relations. We will keep for now."
   ]
  },
  {
   "cell_type": "markdown",
   "metadata": {},
   "source": [
    "## Final Stats for CTD subnet"
   ]
  },
  {
   "cell_type": "code",
   "execution_count": 146,
   "metadata": {},
   "outputs": [
    {
     "name": "stdout",
     "output_type": "stream",
     "text": [
      "Nodes: 90,698\n",
      "Edges: 5,354,828\n"
     ]
    }
   ],
   "source": [
    "print('Nodes: {:,}'.format(len(nodes_filt)))\n",
    "print('Edges: {:,}'.format(len(edges)))"
   ]
  },
  {
   "cell_type": "code",
   "execution_count": 147,
   "metadata": {},
   "outputs": [
    {
     "data": {
      "text/plain": [
       "Gene                  516505\n",
       "Compound              170729\n",
       "Biological Process     29704\n",
       "Disease                12989\n",
       "Molecular Function     11113\n",
       "Cellular Component      4200\n",
       "Pathway                 2363\n",
       "Name: label, dtype: int64"
      ]
     },
     "execution_count": 147,
     "metadata": {},
     "output_type": "execute_result"
    }
   ],
   "source": [
    "nodes['label'].value_counts()"
   ]
  },
  {
   "cell_type": "code",
   "execution_count": 148,
   "metadata": {},
   "outputs": [
    {
     "data": {
      "text/plain": [
       "associated_with         3903490\n",
       "increases_expression     479825\n",
       "decreases_expression     410983\n",
       "affects_expression       137093\n",
       "part_of                  135809\n",
       "marker_or_mechanism       92257\n",
       "increases_phenotype       37364\n",
       "therapeutic               36463\n",
       "increases_activity        29001\n",
       "decreases_reaction        28423\n",
       "decreases_activity        21926\n",
       "decreases_phenotype       18868\n",
       "affects_phenotype         11419\n",
       "increases_reaction         6928\n",
       "affects_reaction           2597\n",
       "affects_activity           2382\n",
       "Name: type, dtype: int64"
      ]
     },
     "execution_count": 148,
     "metadata": {},
     "output_type": "execute_result"
    }
   ],
   "source": [
    "edges['type'].value_counts()"
   ]
  },
  {
   "cell_type": "markdown",
   "metadata": {},
   "source": [
    "# Merge with other network"
   ]
  },
  {
   "cell_type": "code",
   "execution_count": 149,
   "metadata": {},
   "outputs": [],
   "source": [
    "prev_dir = Path('../2_pipeline/07b_Resolving_Chemical_Identifiers/out/')\n",
    "prev_nodes = pd.read_csv(prev_dir.joinpath('nodes.csv'), dtype=str)\n",
    "prev_edges = pd.read_csv(prev_dir.joinpath('edges.csv'), dtype=str)"
   ]
  },
  {
   "cell_type": "code",
   "execution_count": 150,
   "metadata": {},
   "outputs": [],
   "source": [
    "import re\n",
    "pattern = re.compile('[\\W_]+')\n",
    "\n",
    "def strip_chars(string):\n",
    "    return pattern.sub('', string)"
   ]
  },
  {
   "cell_type": "code",
   "execution_count": 151,
   "metadata": {},
   "outputs": [],
   "source": [
    "cid_map = pd.read_csv(prev_dir.joinpath('compound_identifier_mapping.csv'))\n",
    "cid_map = cid_map.dropna(subset=['old_id'])"
   ]
  },
  {
   "cell_type": "code",
   "execution_count": 152,
   "metadata": {},
   "outputs": [
    {
     "data": {
      "text/plain": [
       "1275616"
      ]
     },
     "execution_count": 152,
     "metadata": {},
     "output_type": "execute_result"
    }
   ],
   "source": [
    "len(cid_map)"
   ]
  },
  {
   "cell_type": "code",
   "execution_count": 153,
   "metadata": {},
   "outputs": [
    {
     "data": {
      "text/plain": [
       "883124"
      ]
     },
     "execution_count": 153,
     "metadata": {},
     "output_type": "execute_result"
    }
   ],
   "source": [
    "# How many names to do string-matching on, in the case no mappable ids?\n",
    "(~cid_map['old_id'].str.contains(':', regex=False)).sum()"
   ]
  },
  {
   "cell_type": "code",
   "execution_count": 154,
   "metadata": {},
   "outputs": [],
   "source": [
    "%matplotlib inline\n",
    "import matplotlib.pyplot as plt\n",
    "import seaborn as sns\n",
    "\n",
    "from data_tools.plotting import count_plot_h"
   ]
  },
  {
   "cell_type": "code",
   "execution_count": 155,
   "metadata": {},
   "outputs": [
    {
     "data": {
      "text/plain": [
       "Compound              16333\n",
       "Gene                  15857\n",
       "Disease                6793\n",
       "Pathway                 519\n",
       "Molecular Function        1\n",
       "Name: label, dtype: int64"
      ]
     },
     "execution_count": 155,
     "metadata": {},
     "output_type": "execute_result"
    }
   ],
   "source": [
    "prev_ids = prev_nodes['id'].unique()\n",
    "\n",
    "nodes_filt.query('id not in @prev_ids')['label'].value_counts()"
   ]
  },
  {
   "cell_type": "code",
   "execution_count": 156,
   "metadata": {},
   "outputs": [
    {
     "data": {
      "image/png": "[encoded data removed]",
      "text/plain": [
       "<Figure size 432x288 with 1 Axes>"
      ]
     },
     "metadata": {
      "needs_background": "light"
     },
     "output_type": "display_data"
    }
   ],
   "source": [
    "counts = nodes_filt.query('id not in @prev_ids')['label'].value_counts()\n",
    "ratios = (counts / nodes_filt['label'].value_counts()).dropna()\n",
    "\n",
    "count_plot_h(ratios, counts)\n",
    "plt.xlabel('Fraction of nodes lost')\n",
    "plt.title('Amount of each kind of nodes\\nnot immediately mapple to previous network');"
   ]
  },
  {
   "cell_type": "markdown",
   "metadata": {},
   "source": [
    "Diseases and Compounds are in different ID space (MESH), so its not surprising we'll lose a lot of them.  Also, Genes include a lot of organisms like Mice and Rats that we're not interested in, so not surprused a fair perfencate will be lost"
   ]
  },
  {
   "cell_type": "code",
   "execution_count": 157,
   "metadata": {},
   "outputs": [],
   "source": [
    "from data_tools.wiki import get_curi_xrefs"
   ]
  },
  {
   "cell_type": "code",
   "execution_count": 158,
   "metadata": {},
   "outputs": [
    {
     "data": {
      "text/html": [
       "<div>\n",
       "<style scoped>\n",
       "    .dataframe tbody tr th:only-of-type {\n",
       "        vertical-align: middle;\n",
       "    }\n",
       "\n",
       "    .dataframe tbody tr th {\n",
       "        vertical-align: top;\n",
       "    }\n",
       "\n",
       "    .dataframe thead th {\n",
       "        text-align: right;\n",
       "    }\n",
       "</style>\n",
       "<table border=\"1\" class=\"dataframe\">\n",
       "  <thead>\n",
       "    <tr style=\"text-align: right;\">\n",
       "      <th></th>\n",
       "      <th>xrefs</th>\n",
       "      <th>new_id</th>\n",
       "    </tr>\n",
       "  </thead>\n",
       "  <tbody>\n",
       "    <tr>\n",
       "      <th>0</th>\n",
       "      <td>MESH:D000759</td>\n",
       "      <td>MESH:D000759</td>\n",
       "    </tr>\n",
       "    <tr>\n",
       "      <th>1</th>\n",
       "      <td>MESH:D000373</td>\n",
       "      <td>MESH:D000373</td>\n",
       "    </tr>\n",
       "    <tr>\n",
       "      <th>2</th>\n",
       "      <td>MESH:D000521</td>\n",
       "      <td>NCBIGene:5443</td>\n",
       "    </tr>\n",
       "  </tbody>\n",
       "</table>\n",
       "</div>"
      ],
      "text/plain": [
       "          xrefs         new_id\n",
       "0  MESH:D000759   MESH:D000759\n",
       "1  MESH:D000373   MESH:D000373\n",
       "2  MESH:D000521  NCBIGene:5443"
      ]
     },
     "execution_count": 158,
     "metadata": {},
     "output_type": "execute_result"
    }
   ],
   "source": [
    "mesh_to_nw = get_curi_xrefs(prev_nodes, 'MESH')\n",
    "\n",
    "mesh_to_nw_map = nodes.merge(mesh_to_nw.rename(columns={'id': 'new_id'}), how='inner', left_on='id', right_on='xrefs')[['xrefs', 'new_id']]\n",
    "mesh_to_nw_map.head(3)"
   ]
  },
  {
   "cell_type": "code",
   "execution_count": 159,
   "metadata": {},
   "outputs": [],
   "source": [
    "nodes_reid = gt.re_id_nodes(nodes_filt, mesh_to_nw_map, 'xrefs', 'new_id', new_first=False)"
   ]
  },
  {
   "cell_type": "code",
   "execution_count": 160,
   "metadata": {},
   "outputs": [
    {
     "data": {
      "image/png": "[encoded data removed]",
      "text/plain": [
       "<Figure size 432x288 with 1 Axes>"
      ]
     },
     "metadata": {
      "needs_background": "light"
     },
     "output_type": "display_data"
    }
   ],
   "source": [
    "counts = nodes_reid.query('id not in @prev_ids')['label'].value_counts()\n",
    "ratios = (counts / nodes_reid['label'].value_counts()).dropna()\n",
    "\n",
    "count_plot_h(ratios, counts)\n",
    "plt.xlabel('Fraction of nodes lost')\n",
    "plt.title('Amount of each kind of nodes\\nnot immediately mapple to previous network');"
   ]
  },
  {
   "cell_type": "markdown",
   "metadata": {},
   "source": [
    "### Use string matching, as identifier cross-references failed to produce many hits"
   ]
  },
  {
   "cell_type": "code",
   "execution_count": 161,
   "metadata": {},
   "outputs": [],
   "source": [
    "comps_to_remap = nodes_reid.query('id not in @prev_ids and label == \"Compound\"').copy()"
   ]
  },
  {
   "cell_type": "code",
   "execution_count": 162,
   "metadata": {},
   "outputs": [],
   "source": [
    "comps_to_remap['name_id'] = comps_to_remap['name'].str.lower().apply(strip_chars)"
   ]
  },
  {
   "cell_type": "code",
   "execution_count": 163,
   "metadata": {},
   "outputs": [
    {
     "data": {
      "text/plain": [
       "9205"
      ]
     },
     "execution_count": 163,
     "metadata": {},
     "output_type": "execute_result"
    }
   ],
   "source": [
    "comp_to_nw_map = comps_to_remap.merge(cid_map, left_on='name_id', right_on='old_id', how='inner')[['id', 'new_id']]\n",
    "len(comp_to_nw_map)"
   ]
  },
  {
   "cell_type": "code",
   "execution_count": 164,
   "metadata": {},
   "outputs": [
    {
     "data": {
      "text/html": [
       "<div>\n",
       "<style scoped>\n",
       "    .dataframe tbody tr th:only-of-type {\n",
       "        vertical-align: middle;\n",
       "    }\n",
       "\n",
       "    .dataframe tbody tr th {\n",
       "        vertical-align: top;\n",
       "    }\n",
       "\n",
       "    .dataframe thead th {\n",
       "        text-align: right;\n",
       "    }\n",
       "</style>\n",
       "<table border=\"1\" class=\"dataframe\">\n",
       "  <thead>\n",
       "    <tr style=\"text-align: right;\">\n",
       "      <th></th>\n",
       "      <th>id</th>\n",
       "      <th>new_id</th>\n",
       "    </tr>\n",
       "  </thead>\n",
       "  <tbody>\n",
       "    <tr>\n",
       "      <th>0</th>\n",
       "      <td>MESH:C000081</td>\n",
       "      <td>IKEY:LJQBMYDFWFGESC-IONNQARKSA-N</td>\n",
       "    </tr>\n",
       "    <tr>\n",
       "      <th>1</th>\n",
       "      <td>MESH:C000121</td>\n",
       "      <td>CHEBI:135483</td>\n",
       "    </tr>\n",
       "  </tbody>\n",
       "</table>\n",
       "</div>"
      ],
      "text/plain": [
       "             id                            new_id\n",
       "0  MESH:C000081  IKEY:LJQBMYDFWFGESC-IONNQARKSA-N\n",
       "1  MESH:C000121                      CHEBI:135483"
      ]
     },
     "execution_count": 164,
     "metadata": {},
     "output_type": "execute_result"
    }
   ],
   "source": [
    "comp_to_nw_map.head(2)"
   ]
  },
  {
   "cell_type": "code",
   "execution_count": 165,
   "metadata": {},
   "outputs": [
    {
     "data": {
      "text/html": [
       "<div>\n",
       "<style scoped>\n",
       "    .dataframe tbody tr th:only-of-type {\n",
       "        vertical-align: middle;\n",
       "    }\n",
       "\n",
       "    .dataframe tbody tr th {\n",
       "        vertical-align: top;\n",
       "    }\n",
       "\n",
       "    .dataframe thead th {\n",
       "        text-align: right;\n",
       "    }\n",
       "</style>\n",
       "<table border=\"1\" class=\"dataframe\">\n",
       "  <thead>\n",
       "    <tr style=\"text-align: right;\">\n",
       "      <th></th>\n",
       "      <th>xrefs</th>\n",
       "      <th>new_id</th>\n",
       "    </tr>\n",
       "  </thead>\n",
       "  <tbody>\n",
       "    <tr>\n",
       "      <th>0</th>\n",
       "      <td>MESH:D000759</td>\n",
       "      <td>MESH:D000759</td>\n",
       "    </tr>\n",
       "    <tr>\n",
       "      <th>1</th>\n",
       "      <td>MESH:D000373</td>\n",
       "      <td>MESH:D000373</td>\n",
       "    </tr>\n",
       "  </tbody>\n",
       "</table>\n",
       "</div>"
      ],
      "text/plain": [
       "          xrefs        new_id\n",
       "0  MESH:D000759  MESH:D000759\n",
       "1  MESH:D000373  MESH:D000373"
      ]
     },
     "execution_count": 165,
     "metadata": {},
     "output_type": "execute_result"
    }
   ],
   "source": [
    "mesh_to_nw_map.head(2)"
   ]
  },
  {
   "cell_type": "code",
   "execution_count": 166,
   "metadata": {},
   "outputs": [],
   "source": [
    "final_map = pd.concat([mesh_to_nw_map.rename(columns={'xrefs': 'id'}), comp_to_nw_map], sort=False, ignore_index=True)\n",
    "nodes_reid = gt.re_id_nodes(nodes_filt, final_map, 'id', 'new_id', new_first=False)"
   ]
  },
  {
   "cell_type": "code",
   "execution_count": 167,
   "metadata": {},
   "outputs": [
    {
     "data": {
      "image/png": "[encoded data removed]",
      "text/plain": [
       "<Figure size 432x288 with 1 Axes>"
      ]
     },
     "metadata": {
      "needs_background": "light"
     },
     "output_type": "display_data"
    }
   ],
   "source": [
    "counts = nodes_reid.query('id not in @prev_ids')['label'].value_counts()\n",
    "ratios = (counts / nodes_reid['label'].value_counts()).dropna()\n",
    "\n",
    "count_plot_h(ratios, counts)\n",
    "plt.xlim([0, 1])\n",
    "plt.xlabel('Fraction of nodes lost')\n",
    "plt.title('Amount of each kind of nodes\\nnot immediately mapple to previous network');"
   ]
  },
  {
   "cell_type": "code",
   "execution_count": 168,
   "metadata": {},
   "outputs": [],
   "source": [
    "# Get the nodes that are in the network so we can add xrefs\n",
    "new_nodes = nodes_reid.query('id in @prev_ids and label in {!r}'.format(['Compound', 'Disease']))\n",
    "\n",
    "# Add in any new compounds or diseases for a more complete network\n",
    "# Also want to keep the kegg pathways as they contain new useful info\n",
    "qr = nodes_reid.query('id not in @prev_ids and label in {!r}'.format(['Compound', 'Disease', 'Pathway']))\n",
    "new_nodes = pd.concat([new_nodes, qr], sort=False, ignore_index=True)\n",
    "\n",
    "# Combine new with old nodes, and update the xrefs\n",
    "nodes_out = pd.concat([prev_nodes, new_nodes[['id', 'name', 'label', 'xrefs']]], sort=False, ignore_index=True)\n",
    "nodes_out = pr.combine_group_cols_on_char(nodes_out, ['id'], ['xrefs'], sort=True, prog=False)"
   ]
  },
  {
   "cell_type": "markdown",
   "metadata": {},
   "source": [
    "### Map edge ids"
   ]
  },
  {
   "cell_type": "code",
   "execution_count": 169,
   "metadata": {},
   "outputs": [
    {
     "data": {
      "text/plain": [
       "795304"
      ]
     },
     "execution_count": 169,
     "metadata": {},
     "output_type": "execute_result"
    }
   ],
   "source": [
    "node_ids = nodes_out['id'].unique()\n",
    "len(node_ids)"
   ]
  },
  {
   "cell_type": "code",
   "execution_count": 170,
   "metadata": {},
   "outputs": [
    {
     "name": "stdout",
     "output_type": "stream",
     "text": [
      "7,200,598\n"
     ]
    }
   ],
   "source": [
    "edges_reid = gt.re_id_edges(edges, final_map)\n",
    "print('{:,}'.format(len(edges_reid)))"
   ]
  },
  {
   "cell_type": "code",
   "execution_count": 171,
   "metadata": {},
   "outputs": [
    {
     "name": "stdout",
     "output_type": "stream",
     "text": [
      "CTD Edges: 5,354,828\n",
      "CTD Edges mappable to prev NW nodes: 6,921,647\n"
     ]
    }
   ],
   "source": [
    "print('CTD Edges: {:,}'.format(len(edges)))\n",
    "print('CTD Edges mappable to prev NW nodes: {:,}'.format(len(edges_reid.query('start_id in @node_ids and end_id in @node_ids')\n",
    ")))"
   ]
  },
  {
   "cell_type": "code",
   "execution_count": 172,
   "metadata": {},
   "outputs": [
    {
     "data": {
      "text/html": [
       "<div>\n",
       "<style scoped>\n",
       "    .dataframe tbody tr th:only-of-type {\n",
       "        vertical-align: middle;\n",
       "    }\n",
       "\n",
       "    .dataframe tbody tr th {\n",
       "        vertical-align: top;\n",
       "    }\n",
       "\n",
       "    .dataframe thead th {\n",
       "        text-align: right;\n",
       "    }\n",
       "</style>\n",
       "<table border=\"1\" class=\"dataframe\">\n",
       "  <thead>\n",
       "    <tr style=\"text-align: right;\">\n",
       "      <th></th>\n",
       "      <th>start_id</th>\n",
       "      <th>end_id</th>\n",
       "      <th>type</th>\n",
       "      <th>parent_ixn</th>\n",
       "      <th>pub_med_ids</th>\n",
       "      <th>organism_id</th>\n",
       "      <th>source</th>\n",
       "      <th>dsrc_type</th>\n",
       "      <th>license</th>\n",
       "      <th>direct_evidence</th>\n",
       "      <th>p_val</th>\n",
       "      <th>adj_p</th>\n",
       "      <th>comp_type</th>\n",
       "      <th>inference_gene_symbol</th>\n",
       "    </tr>\n",
       "  </thead>\n",
       "  <tbody>\n",
       "    <tr>\n",
       "      <th>5395380</th>\n",
       "      <td>GO:1903573</td>\n",
       "      <td>DOID:10545</td>\n",
       "      <td>associated_with</td>\n",
       "      <td>NaN</td>\n",
       "      <td>NaN</td>\n",
       "      <td>NaN</td>\n",
       "      <td>CTD</td>\n",
       "      <td>computed</td>\n",
       "      <td>http://ctdbase.org/about/legal.jsp</td>\n",
       "      <td>NaN</td>\n",
       "      <td>NaN</td>\n",
       "      <td>NaN</td>\n",
       "      <td>inference</td>\n",
       "      <td>NaN</td>\n",
       "    </tr>\n",
       "    <tr>\n",
       "      <th>826659</th>\n",
       "      <td>MESH:D045506</td>\n",
       "      <td>REACT:R-HSA-187037</td>\n",
       "      <td>associated_with</td>\n",
       "      <td>NaN</td>\n",
       "      <td>NaN</td>\n",
       "      <td>NaN</td>\n",
       "      <td>CTD</td>\n",
       "      <td>computed</td>\n",
       "      <td>http://ctdbase.org/about/legal.jsp</td>\n",
       "      <td>NaN</td>\n",
       "      <td>4.540000e-57</td>\n",
       "      <td>9.630000e-54</td>\n",
       "      <td>hypergeometric</td>\n",
       "      <td>NaN</td>\n",
       "    </tr>\n",
       "    <tr>\n",
       "      <th>3447191</th>\n",
       "      <td>HP:0003251</td>\n",
       "      <td>REACT:R-HSA-375281</td>\n",
       "      <td>associated_with</td>\n",
       "      <td>NaN</td>\n",
       "      <td>NaN</td>\n",
       "      <td>NaN</td>\n",
       "      <td>CTD</td>\n",
       "      <td>computed</td>\n",
       "      <td>http://ctdbase.org/about/legal.jsp</td>\n",
       "      <td>NaN</td>\n",
       "      <td>NaN</td>\n",
       "      <td>NaN</td>\n",
       "      <td>inference</td>\n",
       "      <td>FSHB</td>\n",
       "    </tr>\n",
       "    <tr>\n",
       "      <th>5992434</th>\n",
       "      <td>GO:0050766</td>\n",
       "      <td>DOID:60172</td>\n",
       "      <td>associated_with</td>\n",
       "      <td>NaN</td>\n",
       "      <td>NaN</td>\n",
       "      <td>NaN</td>\n",
       "      <td>CTD</td>\n",
       "      <td>computed</td>\n",
       "      <td>http://ctdbase.org/about/legal.jsp</td>\n",
       "      <td>NaN</td>\n",
       "      <td>NaN</td>\n",
       "      <td>NaN</td>\n",
       "      <td>inference</td>\n",
       "      <td>NaN</td>\n",
       "    </tr>\n",
       "    <tr>\n",
       "      <th>3351187</th>\n",
       "      <td>MONDO:0024550</td>\n",
       "      <td>KEGG:hsa04064</td>\n",
       "      <td>associated_with</td>\n",
       "      <td>NaN</td>\n",
       "      <td>NaN</td>\n",
       "      <td>NaN</td>\n",
       "      <td>CTD</td>\n",
       "      <td>computed</td>\n",
       "      <td>http://ctdbase.org/about/legal.jsp</td>\n",
       "      <td>NaN</td>\n",
       "      <td>NaN</td>\n",
       "      <td>NaN</td>\n",
       "      <td>inference</td>\n",
       "      <td>MAP3K7</td>\n",
       "    </tr>\n",
       "    <tr>\n",
       "      <th>2221566</th>\n",
       "      <td>CHEBI:45716</td>\n",
       "      <td>NCBIGene:26512</td>\n",
       "      <td>increases_expression</td>\n",
       "      <td>increases^expression</td>\n",
       "      <td>27188386</td>\n",
       "      <td>NCBITaxon:9606</td>\n",
       "      <td>CTD</td>\n",
       "      <td>curated</td>\n",
       "      <td>http://ctdbase.org/about/legal.jsp</td>\n",
       "      <td>NaN</td>\n",
       "      <td>NaN</td>\n",
       "      <td>NaN</td>\n",
       "      <td>NaN</td>\n",
       "      <td>NaN</td>\n",
       "    </tr>\n",
       "    <tr>\n",
       "      <th>2704988</th>\n",
       "      <td>CHEBI:48861</td>\n",
       "      <td>KEGG:hsa04722</td>\n",
       "      <td>associated_with</td>\n",
       "      <td>NaN</td>\n",
       "      <td>NaN</td>\n",
       "      <td>NaN</td>\n",
       "      <td>CTD</td>\n",
       "      <td>computed</td>\n",
       "      <td>http://ctdbase.org/about/legal.jsp</td>\n",
       "      <td>NaN</td>\n",
       "      <td>7.920000e-12</td>\n",
       "      <td>6.530000e-09</td>\n",
       "      <td>hypergeometric</td>\n",
       "      <td>NaN</td>\n",
       "    </tr>\n",
       "    <tr>\n",
       "      <th>4838976</th>\n",
       "      <td>GO:0043966</td>\n",
       "      <td>DOID:60052</td>\n",
       "      <td>associated_with</td>\n",
       "      <td>NaN</td>\n",
       "      <td>NaN</td>\n",
       "      <td>NaN</td>\n",
       "      <td>CTD</td>\n",
       "      <td>computed</td>\n",
       "      <td>http://ctdbase.org/about/legal.jsp</td>\n",
       "      <td>NaN</td>\n",
       "      <td>NaN</td>\n",
       "      <td>NaN</td>\n",
       "      <td>inference</td>\n",
       "      <td>NaN</td>\n",
       "    </tr>\n",
       "    <tr>\n",
       "      <th>4568991</th>\n",
       "      <td>GO:0097484</td>\n",
       "      <td>HP:0012125</td>\n",
       "      <td>associated_with</td>\n",
       "      <td>NaN</td>\n",
       "      <td>NaN</td>\n",
       "      <td>NaN</td>\n",
       "      <td>CTD</td>\n",
       "      <td>computed</td>\n",
       "      <td>http://ctdbase.org/about/legal.jsp</td>\n",
       "      <td>NaN</td>\n",
       "      <td>NaN</td>\n",
       "      <td>NaN</td>\n",
       "      <td>inference</td>\n",
       "      <td>NaN</td>\n",
       "    </tr>\n",
       "    <tr>\n",
       "      <th>5438464</th>\n",
       "      <td>GO:0061045</td>\n",
       "      <td>DOID:9296</td>\n",
       "      <td>associated_with</td>\n",
       "      <td>NaN</td>\n",
       "      <td>NaN</td>\n",
       "      <td>NaN</td>\n",
       "      <td>CTD</td>\n",
       "      <td>computed</td>\n",
       "      <td>http://ctdbase.org/about/legal.jsp</td>\n",
       "      <td>NaN</td>\n",
       "      <td>NaN</td>\n",
       "      <td>NaN</td>\n",
       "      <td>inference</td>\n",
       "      <td>NaN</td>\n",
       "    </tr>\n",
       "  </tbody>\n",
       "</table>\n",
       "</div>"
      ],
      "text/plain": [
       "              start_id              end_id                  type  \\\n",
       "5395380     GO:1903573          DOID:10545       associated_with   \n",
       "826659    MESH:D045506  REACT:R-HSA-187037       associated_with   \n",
       "3447191     HP:0003251  REACT:R-HSA-375281       associated_with   \n",
       "5992434     GO:0050766          DOID:60172       associated_with   \n",
       "3351187  MONDO:0024550       KEGG:hsa04064       associated_with   \n",
       "2221566    CHEBI:45716      NCBIGene:26512  increases_expression   \n",
       "2704988    CHEBI:48861       KEGG:hsa04722       associated_with   \n",
       "4838976     GO:0043966          DOID:60052       associated_with   \n",
       "4568991     GO:0097484          HP:0012125       associated_with   \n",
       "5438464     GO:0061045           DOID:9296       associated_with   \n",
       "\n",
       "                   parent_ixn pub_med_ids     organism_id source dsrc_type  \\\n",
       "5395380                   NaN         NaN             NaN    CTD  computed   \n",
       "826659                    NaN         NaN             NaN    CTD  computed   \n",
       "3447191                   NaN         NaN             NaN    CTD  computed   \n",
       "5992434                   NaN         NaN             NaN    CTD  computed   \n",
       "3351187                   NaN         NaN             NaN    CTD  computed   \n",
       "2221566  increases^expression    27188386  NCBITaxon:9606    CTD   curated   \n",
       "2704988                   NaN         NaN             NaN    CTD  computed   \n",
       "4838976                   NaN         NaN             NaN    CTD  computed   \n",
       "4568991                   NaN         NaN             NaN    CTD  computed   \n",
       "5438464                   NaN         NaN             NaN    CTD  computed   \n",
       "\n",
       "                                    license direct_evidence         p_val  \\\n",
       "5395380  http://ctdbase.org/about/legal.jsp             NaN           NaN   \n",
       "826659   http://ctdbase.org/about/legal.jsp             NaN  4.540000e-57   \n",
       "3447191  http://ctdbase.org/about/legal.jsp             NaN           NaN   \n",
       "5992434  http://ctdbase.org/about/legal.jsp             NaN           NaN   \n",
       "3351187  http://ctdbase.org/about/legal.jsp             NaN           NaN   \n",
       "2221566  http://ctdbase.org/about/legal.jsp             NaN           NaN   \n",
       "2704988  http://ctdbase.org/about/legal.jsp             NaN  7.920000e-12   \n",
       "4838976  http://ctdbase.org/about/legal.jsp             NaN           NaN   \n",
       "4568991  http://ctdbase.org/about/legal.jsp             NaN           NaN   \n",
       "5438464  http://ctdbase.org/about/legal.jsp             NaN           NaN   \n",
       "\n",
       "                adj_p       comp_type inference_gene_symbol  \n",
       "5395380           NaN       inference                   NaN  \n",
       "826659   9.630000e-54  hypergeometric                   NaN  \n",
       "3447191           NaN       inference                  FSHB  \n",
       "5992434           NaN       inference                   NaN  \n",
       "3351187           NaN       inference                MAP3K7  \n",
       "2221566           NaN             NaN                   NaN  \n",
       "2704988  6.530000e-09  hypergeometric                   NaN  \n",
       "4838976           NaN       inference                   NaN  \n",
       "4568991           NaN       inference                   NaN  \n",
       "5438464           NaN       inference                   NaN  "
      ]
     },
     "execution_count": 172,
     "metadata": {},
     "output_type": "execute_result"
    }
   ],
   "source": [
    "edges_reid.sample(10)"
   ]
  },
  {
   "cell_type": "markdown",
   "metadata": {},
   "source": [
    "Went from only 420 mappable compound edges to 1,175,931"
   ]
  },
  {
   "cell_type": "markdown",
   "metadata": {},
   "source": [
    "# Saving it out"
   ]
  },
  {
   "cell_type": "code",
   "execution_count": 173,
   "metadata": {},
   "outputs": [
    {
     "data": {
      "text/html": [
       "<div>\n",
       "<style scoped>\n",
       "    .dataframe tbody tr th:only-of-type {\n",
       "        vertical-align: middle;\n",
       "    }\n",
       "\n",
       "    .dataframe tbody tr th {\n",
       "        vertical-align: top;\n",
       "    }\n",
       "\n",
       "    .dataframe thead th {\n",
       "        text-align: right;\n",
       "    }\n",
       "</style>\n",
       "<table border=\"1\" class=\"dataframe\">\n",
       "  <thead>\n",
       "    <tr style=\"text-align: right;\">\n",
       "      <th></th>\n",
       "      <th>start_id</th>\n",
       "      <th>end_id</th>\n",
       "      <th>type</th>\n",
       "      <th>dsrc_type</th>\n",
       "      <th>comp_type</th>\n",
       "      <th>p_val</th>\n",
       "      <th>adj_p</th>\n",
       "      <th>source</th>\n",
       "      <th>license</th>\n",
       "      <th>experiments</th>\n",
       "      <th>support_type</th>\n",
       "      <th>pmids</th>\n",
       "      <th>phase</th>\n",
       "      <th>date</th>\n",
       "    </tr>\n",
       "  </thead>\n",
       "  <tbody>\n",
       "    <tr>\n",
       "      <th>0</th>\n",
       "      <td>UNII:BTY153760O</td>\n",
       "      <td>NCBIGene:3605</td>\n",
       "      <td>Neutralizing antibody</td>\n",
       "      <td>computed</td>\n",
       "      <td>merge</td>\n",
       "      <td>NaN</td>\n",
       "      <td>NaN</td>\n",
       "      <td>WikiData</td>\n",
       "      <td>CC0 1.0</td>\n",
       "      <td>NaN</td>\n",
       "      <td>NaN</td>\n",
       "      <td>NaN</td>\n",
       "      <td>NaN</td>\n",
       "      <td>NaN</td>\n",
       "    </tr>\n",
       "    <tr>\n",
       "      <th>1</th>\n",
       "      <td>CHEBI:10055</td>\n",
       "      <td>NCBIGene:153</td>\n",
       "      <td>agonist</td>\n",
       "      <td>computed</td>\n",
       "      <td>merge</td>\n",
       "      <td>NaN</td>\n",
       "      <td>NaN</td>\n",
       "      <td>WikiData</td>\n",
       "      <td>CC0 1.0</td>\n",
       "      <td>NaN</td>\n",
       "      <td>NaN</td>\n",
       "      <td>NaN</td>\n",
       "      <td>NaN</td>\n",
       "      <td>NaN</td>\n",
       "    </tr>\n",
       "  </tbody>\n",
       "</table>\n",
       "</div>"
      ],
      "text/plain": [
       "          start_id         end_id                   type dsrc_type comp_type  \\\n",
       "0  UNII:BTY153760O  NCBIGene:3605  Neutralizing antibody  computed     merge   \n",
       "1      CHEBI:10055   NCBIGene:153                agonist  computed     merge   \n",
       "\n",
       "  p_val adj_p    source  license experiments support_type pmids phase date  \n",
       "0   NaN   NaN  WikiData  CC0 1.0         NaN          NaN   NaN   NaN  NaN  \n",
       "1   NaN   NaN  WikiData  CC0 1.0         NaN          NaN   NaN   NaN  NaN  "
      ]
     },
     "execution_count": 173,
     "metadata": {},
     "output_type": "execute_result"
    }
   ],
   "source": [
    "prev_edges.head(2)"
   ]
  },
  {
   "cell_type": "code",
   "execution_count": 174,
   "metadata": {},
   "outputs": [],
   "source": [
    "keep_edge_col = ['start_id', 'end_id', 'type', 'pub_med_ids', 'source', 'dsrc_type', 'license', 'p_val', 'adj_p']\n",
    "\n",
    "edges_out = pd.concat([prev_edges, \n",
    "                       edges_reid.query('start_id in @node_ids and end_id in @node_ids')[keep_edge_col].rename(columns={'pub_med_ids': 'pmids'})],\n",
    "                       sort=False, ignore_index=True)"
   ]
  },
  {
   "cell_type": "code",
   "execution_count": 175,
   "metadata": {
    "scrolled": true
   },
   "outputs": [
    {
     "data": {
      "text/plain": [
       "10769300"
      ]
     },
     "execution_count": 175,
     "metadata": {},
     "output_type": "execute_result"
    }
   ],
   "source": [
    "len(edges_out)"
   ]
  },
  {
   "cell_type": "code",
   "execution_count": 176,
   "metadata": {},
   "outputs": [
    {
     "data": {
      "application/vnd.jupyter.widget-view+json": {
       "model_id": "81780dd947914e4da5b2988694cd80c9",
       "version_major": 2,
       "version_minor": 0
      },
      "text/plain": [
       "HBox(children=(FloatProgress(value=0.0, description='total_progress', max=6.0, style=ProgressStyle(description…"
      ]
     },
     "metadata": {},
     "output_type": "display_data"
    },
    {
     "name": "stderr",
     "output_type": "stream",
     "text": [
      "/home/mmayers/software/miniconda3/envs/ml/lib/python3.7/site-packages/tqdm/std.py:656: FutureWarning: The Panel class is removed from pandas. Accessing it from the top-level namespace will also be removed in the next version\n",
      "  from pandas import Panel\n"
     ]
    },
    {
     "data": {
      "application/vnd.jupyter.widget-view+json": {
       "model_id": "2e57800e926049059c34d5e906b6b88c",
       "version_major": 2,
       "version_minor": 0
      },
      "text/plain": [
       "HBox(children=(FloatProgress(value=0.0, description='dsrc_type', max=338646.0, style=ProgressStyle(description…"
      ]
     },
     "metadata": {},
     "output_type": "display_data"
    },
    {
     "name": "stdout",
     "output_type": "stream",
     "text": [
      "\n"
     ]
    },
    {
     "data": {
      "application/vnd.jupyter.widget-view+json": {
       "model_id": "1c392864ee744784ab0a9f0bac25e487",
       "version_major": 2,
       "version_minor": 0
      },
      "text/plain": [
       "HBox(children=(FloatProgress(value=0.0, description='p_val', max=338646.0, style=ProgressStyle(description_wid…"
      ]
     },
     "metadata": {},
     "output_type": "display_data"
    },
    {
     "name": "stdout",
     "output_type": "stream",
     "text": [
      "\n"
     ]
    },
    {
     "data": {
      "application/vnd.jupyter.widget-view+json": {
       "model_id": "b33b262e9fbf464490a26f7bd96b3448",
       "version_major": 2,
       "version_minor": 0
      },
      "text/plain": [
       "HBox(children=(FloatProgress(value=0.0, description='adj_p', max=338646.0, style=ProgressStyle(description_wid…"
      ]
     },
     "metadata": {},
     "output_type": "display_data"
    },
    {
     "name": "stdout",
     "output_type": "stream",
     "text": [
      "\n"
     ]
    },
    {
     "data": {
      "application/vnd.jupyter.widget-view+json": {
       "model_id": "a98a5e96e50b474b9a51c2a61147ea18",
       "version_major": 2,
       "version_minor": 0
      },
      "text/plain": [
       "HBox(children=(FloatProgress(value=0.0, description='source', max=338646.0, style=ProgressStyle(description_wi…"
      ]
     },
     "metadata": {},
     "output_type": "display_data"
    },
    {
     "name": "stdout",
     "output_type": "stream",
     "text": [
      "\n"
     ]
    },
    {
     "data": {
      "application/vnd.jupyter.widget-view+json": {
       "model_id": "be65a4bbc39548628b395e7c9462d923",
       "version_major": 2,
       "version_minor": 0
      },
      "text/plain": [
       "HBox(children=(FloatProgress(value=0.0, description='license', max=338646.0, style=ProgressStyle(description_w…"
      ]
     },
     "metadata": {},
     "output_type": "display_data"
    },
    {
     "name": "stdout",
     "output_type": "stream",
     "text": [
      "\n"
     ]
    },
    {
     "data": {
      "application/vnd.jupyter.widget-view+json": {
       "model_id": "92166cb5249b4711a048d991c1acb661",
       "version_major": 2,
       "version_minor": 0
      },
      "text/plain": [
       "HBox(children=(FloatProgress(value=0.0, description='pmids', max=338646.0, style=ProgressStyle(description_wid…"
      ]
     },
     "metadata": {},
     "output_type": "display_data"
    },
    {
     "name": "stdout",
     "output_type": "stream",
     "text": [
      "\n",
      "\n",
      "10042751\n"
     ]
    }
   ],
   "source": [
    "edges_out = pr.combine_group_cols_on_char(edges_out, ['start_id', 'end_id', 'type'], sort=True)\n",
    "print(len(edges_out))"
   ]
  },
  {
   "cell_type": "code",
   "execution_count": 177,
   "metadata": {},
   "outputs": [],
   "source": [
    "edge_ids = edges_out[['start_id', 'end_id']].stack().unique()"
   ]
  },
  {
   "cell_type": "code",
   "execution_count": 178,
   "metadata": {},
   "outputs": [
    {
     "data": {
      "text/html": [
       "<div>\n",
       "<style scoped>\n",
       "    .dataframe tbody tr th:only-of-type {\n",
       "        vertical-align: middle;\n",
       "    }\n",
       "\n",
       "    .dataframe tbody tr th {\n",
       "        vertical-align: top;\n",
       "    }\n",
       "\n",
       "    .dataframe thead th {\n",
       "        text-align: right;\n",
       "    }\n",
       "</style>\n",
       "<table border=\"1\" class=\"dataframe\">\n",
       "  <thead>\n",
       "    <tr style=\"text-align: right;\">\n",
       "      <th></th>\n",
       "      <th>start_id</th>\n",
       "      <th>end_id</th>\n",
       "      <th>type</th>\n",
       "      <th>dsrc_type</th>\n",
       "      <th>comp_type</th>\n",
       "      <th>p_val</th>\n",
       "      <th>adj_p</th>\n",
       "      <th>source</th>\n",
       "      <th>license</th>\n",
       "      <th>experiments</th>\n",
       "      <th>support_type</th>\n",
       "      <th>pmids</th>\n",
       "      <th>phase</th>\n",
       "      <th>date</th>\n",
       "    </tr>\n",
       "  </thead>\n",
       "  <tbody>\n",
       "  </tbody>\n",
       "</table>\n",
       "</div>"
      ],
      "text/plain": [
       "Empty DataFrame\n",
       "Columns: [start_id, end_id, type, dsrc_type, comp_type, p_val, adj_p, source, license, experiments, support_type, pmids, phase, date]\n",
       "Index: []"
      ]
     },
     "execution_count": 178,
     "metadata": {},
     "output_type": "execute_result"
    }
   ],
   "source": [
    "edges_out.query('start_id not in @node_ids or end_id not in @node_ids')"
   ]
  },
  {
   "cell_type": "code",
   "execution_count": 179,
   "metadata": {},
   "outputs": [
    {
     "data": {
      "text/plain": [
       "(795304, 404610)"
      ]
     },
     "execution_count": 179,
     "metadata": {},
     "output_type": "execute_result"
    }
   ],
   "source": [
    "nodes_out_filt = nodes_out.query('id in @edge_ids')\n",
    "len(nodes_out), len(nodes_out_filt)"
   ]
  },
  {
   "cell_type": "code",
   "execution_count": 180,
   "metadata": {},
   "outputs": [],
   "source": [
    "this_name = '08_CTD'\n",
    "out_dir = Path('../2_pipeline/').joinpath(this_name).joinpath('out')\n",
    "out_dir.mkdir(parents=True, exist_ok=True)"
   ]
  },
  {
   "cell_type": "code",
   "execution_count": 181,
   "metadata": {},
   "outputs": [],
   "source": [
    "nodes_out.to_csv(out_dir.joinpath('nodes.csv'), index=False)\n",
    "nodes_out_filt.to_csv(out_dir.joinpath('nodes_filt.csv'), index=False)\n",
    "\n",
    "edges_out.to_csv(out_dir.joinpath('edges.csv'), index=False)"
   ]
  },
  {
   "cell_type": "markdown",
   "metadata": {},
   "source": [
    "# Metaedge Semmantics\n",
    "\n",
    "Right now we have a ton of metaedges with lots of different semmantics connecting them.  We will look at these and look at how we can reduce the the total number, manually, then implement the changes computationally with a mapping file"
   ]
  },
  {
   "cell_type": "code",
   "execution_count": 182,
   "metadata": {},
   "outputs": [],
   "source": [
    "combo = gt.combine_nodes_and_edges(nodes_out_filt, edges_out)"
   ]
  },
  {
   "cell_type": "code",
   "execution_count": 183,
   "metadata": {},
   "outputs": [
    {
     "data": {
      "text/plain": [
       "Biological Process - associated_with - Disease               1775283\n",
       "Biological Process - associated_with - Phenotype             1099289\n",
       "Compound - associated_with - Pathway                          978994\n",
       "Biological Process - only_in_taxon - Taxon                    551003\n",
       "Cellular Component - only_in_taxon - Taxon                    412287\n",
       "                                                              ...   \n",
       "Biological Process - results_in_transport_along - Anatomy          1\n",
       "Anatomy - positively_regulates - Biological Process                1\n",
       "Compound - other - Gene                                            1\n",
       "Drug - interacts - Cellular Component                              1\n",
       "Compound - protein-protein interaction inhibitor - Gene            1\n",
       "Name: meta_edge, Length: 574, dtype: int64"
      ]
     },
     "execution_count": 183,
     "metadata": {},
     "output_type": "execute_result"
    }
   ],
   "source": [
    "meta_edges = combo[['start_label', 'type', 'end_label']].copy()\n",
    "meta_edges['meta_edge'] = meta_edges['start_label'] + ' - ' + meta_edges['type'] + ' - ' + meta_edges['end_label']\n",
    "meta_edges['meta_edge'].value_counts()"
   ]
  },
  {
   "cell_type": "code",
   "execution_count": 184,
   "metadata": {},
   "outputs": [],
   "source": [
    "me_counts = meta_edges['meta_edge'].value_counts().to_dict()\n",
    "meta_edges = meta_edges.drop_duplicates()\n",
    "meta_edges['counts'] = meta_edges['meta_edge'].map(me_counts)\n",
    "meta_edges = meta_edges.drop(['meta_edge'], axis=1)\n",
    "meta_edges = meta_edges.sort_values(['start_label', 'end_label', 'counts'], ascending=[True, True, False])\n",
    "meta_edges.to_csv(out_dir.joinpath('meta_edges.csv'), index=False)"
   ]
  },
  {
   "cell_type": "code",
   "execution_count": 185,
   "metadata": {},
   "outputs": [
    {
     "data": {
      "text/html": [
       "<div>\n",
       "<style scoped>\n",
       "    .dataframe tbody tr th:only-of-type {\n",
       "        vertical-align: middle;\n",
       "    }\n",
       "\n",
       "    .dataframe tbody tr th {\n",
       "        vertical-align: top;\n",
       "    }\n",
       "\n",
       "    .dataframe thead th {\n",
       "        text-align: right;\n",
       "    }\n",
       "</style>\n",
       "<table border=\"1\" class=\"dataframe\">\n",
       "  <thead>\n",
       "    <tr style=\"text-align: right;\">\n",
       "      <th></th>\n",
       "      <th>start_label</th>\n",
       "      <th>type</th>\n",
       "      <th>end_label</th>\n",
       "      <th>counts</th>\n",
       "    </tr>\n",
       "  </thead>\n",
       "  <tbody>\n",
       "    <tr>\n",
       "      <th>1895965</th>\n",
       "      <td>Anatomy</td>\n",
       "      <td>capable_of</td>\n",
       "      <td>Biological Process</td>\n",
       "      <td>123.0</td>\n",
       "    </tr>\n",
       "    <tr>\n",
       "      <th>1895964</th>\n",
       "      <td>Anatomy</td>\n",
       "      <td>capable_of_part_of</td>\n",
       "      <td>Biological Process</td>\n",
       "      <td>121.0</td>\n",
       "    </tr>\n",
       "    <tr>\n",
       "      <th>1896023</th>\n",
       "      <td>Anatomy</td>\n",
       "      <td>contains_process</td>\n",
       "      <td>Biological Process</td>\n",
       "      <td>27.0</td>\n",
       "    </tr>\n",
       "    <tr>\n",
       "      <th>1895999</th>\n",
       "      <td>Anatomy</td>\n",
       "      <td>output_of</td>\n",
       "      <td>Biological Process</td>\n",
       "      <td>18.0</td>\n",
       "    </tr>\n",
       "    <tr>\n",
       "      <th>1896091</th>\n",
       "      <td>Anatomy</td>\n",
       "      <td>site_of</td>\n",
       "      <td>Biological Process</td>\n",
       "      <td>13.0</td>\n",
       "    </tr>\n",
       "    <tr>\n",
       "      <th>...</th>\n",
       "      <td>...</td>\n",
       "      <td>...</td>\n",
       "      <td>...</td>\n",
       "      <td>...</td>\n",
       "    </tr>\n",
       "    <tr>\n",
       "      <th>388794</th>\n",
       "      <td>Reaction</td>\n",
       "      <td>has_input</td>\n",
       "      <td>Protein</td>\n",
       "      <td>15404.0</td>\n",
       "    </tr>\n",
       "    <tr>\n",
       "      <th>378426</th>\n",
       "      <td>Reaction</td>\n",
       "      <td>follows_in_sequence</td>\n",
       "      <td>Reaction</td>\n",
       "      <td>10363.0</td>\n",
       "    </tr>\n",
       "    <tr>\n",
       "      <th>207474</th>\n",
       "      <td>Reaction</td>\n",
       "      <td>disrupts</td>\n",
       "      <td>Reaction</td>\n",
       "      <td>351.0</td>\n",
       "    </tr>\n",
       "    <tr>\n",
       "      <th>557589</th>\n",
       "      <td>Reaction</td>\n",
       "      <td>in_taxon</td>\n",
       "      <td>Taxon</td>\n",
       "      <td>5239.0</td>\n",
       "    </tr>\n",
       "    <tr>\n",
       "      <th>133776</th>\n",
       "      <td>Taxon</td>\n",
       "      <td>causes</td>\n",
       "      <td>Disease</td>\n",
       "      <td>72801.0</td>\n",
       "    </tr>\n",
       "  </tbody>\n",
       "</table>\n",
       "<p>575 rows × 4 columns</p>\n",
       "</div>"
      ],
      "text/plain": [
       "        start_label                 type           end_label   counts\n",
       "1895965     Anatomy           capable_of  Biological Process    123.0\n",
       "1895964     Anatomy   capable_of_part_of  Biological Process    121.0\n",
       "1896023     Anatomy     contains_process  Biological Process     27.0\n",
       "1895999     Anatomy            output_of  Biological Process     18.0\n",
       "1896091     Anatomy              site_of  Biological Process     13.0\n",
       "...             ...                  ...                 ...      ...\n",
       "388794     Reaction            has_input             Protein  15404.0\n",
       "378426     Reaction  follows_in_sequence            Reaction  10363.0\n",
       "207474     Reaction             disrupts            Reaction    351.0\n",
       "557589     Reaction             in_taxon               Taxon   5239.0\n",
       "133776        Taxon               causes             Disease  72801.0\n",
       "\n",
       "[575 rows x 4 columns]"
      ]
     },
     "execution_count": 185,
     "metadata": {},
     "output_type": "execute_result"
    }
   ],
   "source": [
    "meta_edges"
   ]
  }
 ],
 "metadata": {
  "kernelspec": {
   "display_name": "Python 3",
   "language": "python",
   "name": "python3"
  },
  "language_info": {
   "codemirror_mode": {
    "name": "ipython",
    "version": 3
   },
   "file_extension": ".py",
   "mimetype": "text/x-python",
   "name": "python",
   "nbconvert_exporter": "python",
   "pygments_lexer": "ipython3",
   "version": "3.7.5"
  }
 },
 "nbformat": 4,
 "nbformat_minor": 2
}
