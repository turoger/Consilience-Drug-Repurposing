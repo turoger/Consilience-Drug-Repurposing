{
 "cells": [
  {
   "cell_type": "code",
   "execution_count": 1,
   "metadata": {},
   "outputs": [
    {
     "name": "stderr",
     "output_type": "stream",
     "text": [
      "/home/mmayers/software/miniconda3/envs/ml/lib/python3.7/site-packages/data_tools/df_processing.py:4: TqdmExperimentalWarning: Using `tqdm.autonotebook.tqdm` in notebook mode. Use `tqdm.tqdm` instead to force console mode (e.g. in jupyter console)\n",
      "  from tqdm.autonotebook import tqdm\n"
     ]
    }
   ],
   "source": [
    "%matplotlib inline\n",
    "import pickle\n",
    "import pandas as pd\n",
    "import seaborn as sns\n",
    "import biothings_client\n",
    "from pathlib import Path\n",
    "from itertools import chain\n",
    "import data_tools.graphs as gt\n",
    "import matplotlib.pyplot as plt\n",
    "from data_tools.wiki import get_curi_xrefs\n",
    "from data_tools.files import load_api_results\n",
    "from data_tools.plotting import count_plot_h, venn2_pretty, venn3_pretty\n",
    "from data_tools.df_processing import expand_col_on_char, combine_group_cols_on_char, char_combine_frame\n",
    "\n",
    "# Local procesing scripts\n",
    "from tools import biothings_processing as bp\n",
    "from tools import hetnet_file_processing as hfp\n",
    "from tools.stitcher import download_stitcher, organize_data"
   ]
  },
  {
   "cell_type": "code",
   "execution_count": 2,
   "metadata": {},
   "outputs": [],
   "source": [
    "# Get Output Directory ready\n",
    "this_file = '07a_NCATS_Inxight_Drugs_DB_and_DC'\n",
    "out_dir = Path('../2_pipeline/').resolve()\n",
    "out_dir = out_dir.joinpath(this_file).joinpath('out')\n",
    "\n",
    "if not out_dir.exists():\n",
    "    out_dir.mkdir(parents=True)"
   ]
  },
  {
   "cell_type": "code",
   "execution_count": 3,
   "metadata": {},
   "outputs": [],
   "source": [
    "d = load_api_results(out_dir.joinpath('stitcher_dump_{}.pkl'), False, download_stitcher)"
   ]
  },
  {
   "cell_type": "code",
   "execution_count": 4,
   "metadata": {},
   "outputs": [
    {
     "data": {
      "text/plain": [
       "{'USapproved': 'null',\n",
       " 'kind': 'ncats.stitcher.Stitch',\n",
       " 'rank': 2,\n",
       " 'initiallyMarketedUS': 'null',\n",
       " 'source': 'd58d0d292',\n",
       " 'initiallyMarketed': 'null',\n",
       " 'id': 872146,\n",
       " 'datasource': {'id': 797502, 'key': 'd58d0d292', 'name': 'stitch_v1'},\n",
       " 'labels': ['G-SRS, April 2019', 'SGROUP', 'stitch_v1'],\n",
       " 'sgroup': {'hash': 'd58d0d292da3fe1497',\n",
       "  'size': 2,\n",
       "  'parent': 170200,\n",
       "  'members': [{'source': 'G-SRS, April 2019',\n",
       "    'node': 159555,\n",
       "    'payloadNode': 159556,\n",
       "    'id': 'U02VE8MHVB',\n",
       "    'name': 'TOLPERISONE HYDROCHLORIDE, (S)-',\n",
       "    'stitches': {'H_LyChI_L3': ['R94UADP5HUU-N'],\n",
       "     'H_LyChI_L4': 'R9UNHYDJ6XXB-N'}},\n",
       "   {'source': 'G-SRS, April 2019',\n",
       "    'node': 170200,\n",
       "    'payloadNode': 170201,\n",
       "    'id': '88IQ3US5N5',\n",
       "    'name': 'TOLPERISONE, (S)-',\n",
       "    'stitches': {'H_LyChI_L3': ['R94UADP5HUU-N'],\n",
       "     'H_LyChI_L4': 'R9UNHYDJ6XXB-N'}}],\n",
       "  'properties': {'CAS': [{'node': 170201, 'value': '298700-23-9'},\n",
       "    {'node': 159556, 'value': '1280219-64-8'}],\n",
       "   'MOLFILE': [{'node': 170201,\n",
       "     'value': '88IQ3US5N5\\n  Marvin  07081911142D          \\n\\n 18 19  0  0  1  0            999 V2000\\n    6.1467   -4.2098    0.0000 C   0  0  0  0  0  0  0  0  0  0  0  0\\n    6.8590   -3.7935    0.0000 C   0  0  2  0  0  0  0  0  0  0  0  0\\n    7.5666   -4.2098    0.0000 C   0  0  0  0  0  0  0  0  0  0  0  0\\n    8.2974   -3.7935    0.0000 N   0  0  0  0  0  0  0  0  0  0  0  0\\n    9.0188   -4.2098    0.0000 C   0  0  0  0  0  0  0  0  0  0  0  0\\n    9.7264   -3.8028    0.0000 C   0  0  0  0  0  0  0  0  0  0  0  0\\n    9.7264   -2.9796    0.0000 C   0  0  0  0  0  0  0  0  0  0  0  0\\n    9.0188   -2.5587    0.0000 C   0  0  0  0  0  0  0  0  0  0  0  0\\n    8.2974   -2.9703    0.0000 C   0  0  0  0  0  0  0  0  0  0  0  0\\n    6.8590   -2.9611    0.0000 C   0  0  0  0  0  0  0  0  0  0  0  0\\n    5.4345   -3.7935    0.0000 C   0  0  0  0  0  0  0  0  0  0  0  0\\n    5.4345   -2.9611    0.0000 C   0  0  0  0  0  0  0  0  0  0  0  0\\n    4.7269   -2.5494    0.0000 C   0  0  0  0  0  0  0  0  0  0  0  0\\n    3.9961   -2.9611    0.0000 C   0  0  0  0  0  0  0  0  0  0  0  0\\n    3.9961   -3.7935    0.0000 C   0  0  0  0  0  0  0  0  0  0  0  0\\n    4.7176   -4.1959    0.0000 C   0  0  0  0  0  0  0  0  0  0  0  0\\n    3.2792   -2.5494    0.0000 C   0  0  0  0  0  0  0  0  0  0  0  0\\n    6.1467   -5.0284    0.0000 O   0  0  0  0  0  0  0  0  0  0  0  0\\n  2  1  1  0  0  0  0\\n  3  2  1  0  0  0  0\\n  4  3  1  0  0  0  0\\n  5  4  1  0  0  0  0\\n  6  5  1  0  0  0  0\\n  7  6  1  0  0  0  0\\n  7  8  1  0  0  0  0\\n  8  9  1  0  0  0  0\\n  9  4  1  0  0  0  0\\n  2 10  1  1  0  0  0\\n 11  1  1  0  0  0  0\\n 12 11  2  0  0  0  0\\n 13 12  1  0  0  0  0\\n 14 13  2  0  0  0  0\\n 14 15  1  0  0  0  0\\n 15 16  2  0  0  0  0\\n 16 11  1  0  0  0  0\\n 17 14  1  0  0  0  0\\n 18  1  2  0  0  0  0\\nM  END\\n'},\n",
       "    {'node': 159556,\n",
       "     'value': 'U02VE8MHVB\\n  Marvin  07081911122D          \\n\\n 19 19  0  0  1  0            999 V2000\\n    4.5533  -10.1308    0.0000 Cl  0  0  0  0  0  0  0  0  0  0  0  0\\n    6.6957   -8.2839    0.0000 C   0  0  0  0  0  0  0  0  0  0  0  0\\n    7.4138   -7.8605    0.0000 C   0  0  2  0  0  0  0  0  0  0  0  0\\n    8.1245   -8.2739    0.0000 C   0  0  0  0  0  0  0  0  0  0  0  0\\n    8.8553   -7.8605    0.0000 N   0  0  0  0  0  0  0  0  0  0  0  0\\n    8.8553   -7.0382    0.0000 C   0  0  0  0  0  0  0  0  0  0  0  0\\n    9.5734   -6.6293    0.0000 C   0  0  0  0  0  0  0  0  0  0  0  0\\n   10.2841   -7.0483    0.0000 C   0  0  0  0  0  0  0  0  0  0  0  0\\n   10.2841   -7.8706    0.0000 C   0  0  0  0  0  0  0  0  0  0  0  0\\n    9.5734   -8.2839    0.0000 C   0  0  0  0  0  0  0  0  0  0  0  0\\n    7.4138   -7.0382    0.0000 C   0  0  0  0  0  0  0  0  0  0  0  0\\n    5.9876   -7.8605    0.0000 C   0  0  0  0  0  0  0  0  0  0  0  0\\n    5.9876   -7.0382    0.0000 C   0  0  0  0  0  0  0  0  0  0  0  0\\n    5.2670   -6.6192    0.0000 C   0  0  0  0  0  0  0  0  0  0  0  0\\n    4.5461   -7.0254    0.0000 C   0  0  0  0  0  0  0  0  0  0  0  0\\n    4.5461   -7.8605    0.0000 C   0  0  0  0  0  0  0  0  0  0  0  0\\n    5.2614   -8.2639    0.0000 C   0  0  0  0  0  0  0  0  0  0  0  0\\n    3.8325   -6.6090    0.0000 C   0  0  0  0  0  0  0  0  0  0  0  0\\n    6.6957   -9.1037    0.0000 O   0  0  0  0  0  0  0  0  0  0  0  0\\n  3  2  1  0  0  0  0\\n  4  3  1  0  0  0  0\\n  5  4  1  0  0  0  0\\n  6  5  1  0  0  0  0\\n  7  6  1  0  0  0  0\\n  8  7  1  0  0  0  0\\n  9  8  1  0  0  0  0\\n  9 10  1  0  0  0  0\\n 10  5  1  0  0  0  0\\n  3 11  1  1  0  0  0\\n 12  2  1  0  0  0  0\\n 13 12  2  0  0  0  0\\n 14 13  1  0  0  0  0\\n 15 14  2  0  0  0  0\\n 15 16  1  0  0  0  0\\n 16 17  2  0  0  0  0\\n 17 12  1  0  0  0  0\\n 18 15  1  0  0  0  0\\n 19  2  2  0  0  0  0\\nM  END\\n'}],\n",
       "   'PUBCHEM': [{'node': 170201, 'value': 688589},\n",
       "    {'node': 159556, 'value': 56959888}],\n",
       "   'PreferredName': [{'node': 170201, 'value': 'TOLPERISONE, (S)-'},\n",
       "    {'node': 159556, 'value': 'TOLPERISONE HYDROCHLORIDE, (S)-'}],\n",
       "   'References': [{'node': 170201, 'value': 'SRS import [88IQ3US5N5]'},\n",
       "    {'node': 159556, 'value': 'SRS CODE IMPORT'},\n",
       "    {'node': 159556, 'value': 'FDA_SRS'},\n",
       "    {'node': 159556, 'value': 'STN (SCIFINDER)'},\n",
       "    {'node': 159556, 'value': 'STN'},\n",
       "    {'node': 159556, 'value': 'SRS import [U02VE8MHVB]'}],\n",
       "   'SMILES': [{'node': 170201,\n",
       "     'value': 'C[C@@H](CN1CCCCC1)C(=O)C2=CC=C(C)C=C2'},\n",
       "    {'node': 159556, 'value': 'Cl.C[C@@H](CN1CCCCC1)C(=O)C2=CC=C(C)C=C2'}],\n",
       "   'Synonyms': [{'node': 170201,\n",
       "     'value': '1-PROPANONE, 2-METHYL-1-(4-METHYLPHENYL)-3-(1-PIPERIDINYL)-, (2S)-'},\n",
       "    {'node': 170201, 'value': 'TOLPERISONE, (S)-'},\n",
       "    {'node': 170201, 'value': '(S)-TOLPERISONE'},\n",
       "    {'node': 170201,\n",
       "     'value': '(2S)-2-METHYL-1-(4-METHYLPHENYL)-3-(1-PIPERIDINYL)-1-PROPANONE'},\n",
       "    {'node': 170201, 'value': '(+)-TOLPERISONE'},\n",
       "    {'node': 159556, 'value': 'TOLPERISONE HYDROCHLORIDE, (S)-'},\n",
       "    {'node': 159556, 'value': '(+)-TOLPERISONE HYDROCHLORIDE'},\n",
       "    {'node': 159556,\n",
       "     'value': '1-PROPANONE, 2-METHYL-1-(4-METHYLPHENYL)-3-(1-PIPERIDINYL)-, HYDROCHLORIDE (1:1), (2S)-'}],\n",
       "   'UNII': [{'node': 170201, 'value': '88IQ3US5N5'},\n",
       "    {'node': 159556, 'value': 'U02VE8MHVB'}],\n",
       "   'created': [{'node': 170201, 'value': 1562598876192},\n",
       "    {'node': 159556, 'value': 1562598763357}],\n",
       "   'id': [{'node': 170201, 'value': '88IQ3US5N5'},\n",
       "    {'node': 159556, 'value': 'U02VE8MHVB'}],\n",
       "   'name': [{'node': 170201, 'value': '88IQ3US5N5'},\n",
       "    {'node': 159556, 'value': 'U02VE8MHVB'}]}}}"
      ]
     },
     "execution_count": 4,
     "metadata": {},
     "output_type": "execute_result"
    }
   ],
   "source": [
    "d[9102]"
   ]
  },
  {
   "cell_type": "code",
   "execution_count": 5,
   "metadata": {
    "scrolled": true
   },
   "outputs": [
    {
     "name": "stderr",
     "output_type": "stream",
     "text": [
      "100%|██████████| 102383/102383 [00:12<00:00, 8326.35it/s] \n"
     ]
    }
   ],
   "source": [
    "data = organize_data(d)"
   ]
  },
  {
   "cell_type": "code",
   "execution_count": 6,
   "metadata": {},
   "outputs": [
    {
     "data": {
      "text/plain": [
       "{'nodes': [170201, 159556],\n",
       " 'xrefs': {'CAS': {'1280219-64-8', '298700-23-9'},\n",
       "  'PUBCHEM': {688589, 56959888},\n",
       "  'SMILES': {'C[C@@H](CN1CCCCC1)C(=O)C2=CC=C(C)C=C2',\n",
       "   'Cl.C[C@@H](CN1CCCCC1)C(=O)C2=CC=C(C)C=C2'},\n",
       "  'UNII': {'88IQ3US5N5', 'U02VE8MHVB'},\n",
       "  'DRUGBANK': set(),\n",
       "  'CHEMBL.COMPOUND': set()},\n",
       " 'conditions': {'meshids': [],\n",
       "  'phases': [],\n",
       "  'modalities': [],\n",
       "  'doids': [],\n",
       "  'do_precision': [],\n",
       "  'mesh_precision': [],\n",
       "  'names': [],\n",
       "  'dates': []},\n",
       " 'targets': {'ids': [], 'sources': [], 'pharmas': [], 'names': []}}"
      ]
     },
     "execution_count": 6,
     "metadata": {},
     "output_type": "execute_result"
    }
   ],
   "source": [
    "data[9102]"
   ]
  },
  {
   "cell_type": "markdown",
   "metadata": {},
   "source": [
    "## First make sense of all the compounds within the ncats inxight drugs records\n",
    "\n",
    "The problem is that each record has several 'nodes' in it.  Sometimes these nodes represent different molecules, like different salt forms, with differnt UNIIs. This may result in a given node contains different x-refs for the same item (e.g. UNII, Drugbank, and name all correspond to the same compound on the same node). However, other times, there are different nodes within a record with the same compound. For example one node may have the UNII while the other may have the Drugbank Identifier, an yet another may have the name.  The majority of cases, though have many nodes representing many compounds, e.g. 8 nodes, for 2 compounds, with different identifiers spread across the nodes.\n",
    "\n",
    "To remidy this we will extract x-refs of only once source for a given record, in priorty order of the global variable `CHEM_XREF_KEY_ORDER` (see `records_to_chem_nodes` fucntion in `./tools/hetnet_file_proccessing.py` ). We will then use mychem.info to get the correct x-refs and name for that item.  If there are more than one uniuqe identifier in a a record (e.g. 2 salt forms of the same basic structure), all treats and targets edges will be assigned to every identifier within that record during a future step."
   ]
  },
  {
   "cell_type": "code",
   "execution_count": 7,
   "metadata": {},
   "outputs": [
    {
     "data": {
      "text/html": [
       "<div>\n",
       "<style scoped>\n",
       "    .dataframe tbody tr th:only-of-type {\n",
       "        vertical-align: middle;\n",
       "    }\n",
       "\n",
       "    .dataframe tbody tr th {\n",
       "        vertical-align: top;\n",
       "    }\n",
       "\n",
       "    .dataframe thead th {\n",
       "        text-align: right;\n",
       "    }\n",
       "</style>\n",
       "<table border=\"1\" class=\"dataframe\">\n",
       "  <thead>\n",
       "    <tr style=\"text-align: right;\">\n",
       "      <th></th>\n",
       "      <th>id</th>\n",
       "      <th>name</th>\n",
       "      <th>source</th>\n",
       "      <th>label</th>\n",
       "    </tr>\n",
       "  </thead>\n",
       "  <tbody>\n",
       "    <tr>\n",
       "      <th>0</th>\n",
       "      <td>SP86R356CC</td>\n",
       "      <td>GET</td>\n",
       "      <td>UNII</td>\n",
       "      <td>Compound</td>\n",
       "    </tr>\n",
       "    <tr>\n",
       "      <th>1</th>\n",
       "      <td>C50C4V19SU</td>\n",
       "      <td>GET</td>\n",
       "      <td>UNII</td>\n",
       "      <td>Compound</td>\n",
       "    </tr>\n",
       "  </tbody>\n",
       "</table>\n",
       "</div>"
      ],
      "text/plain": [
       "           id name source     label\n",
       "0  SP86R356CC  GET   UNII  Compound\n",
       "1  C50C4V19SU  GET   UNII  Compound"
      ]
     },
     "execution_count": 7,
     "metadata": {},
     "output_type": "execute_result"
    }
   ],
   "source": [
    "chem_nodes = hfp.records_to_chem_nodes(data)\n",
    "chem_nodes.head(2)"
   ]
  },
  {
   "cell_type": "code",
   "execution_count": 8,
   "metadata": {},
   "outputs": [
    {
     "data": {
      "text/plain": [
       "119832"
      ]
     },
     "execution_count": 8,
     "metadata": {},
     "output_type": "execute_result"
    }
   ],
   "source": [
    "len(chem_nodes)"
   ]
  },
  {
   "cell_type": "code",
   "execution_count": 9,
   "metadata": {},
   "outputs": [
    {
     "data": {
      "text/plain": [
       "116721"
      ]
     },
     "execution_count": 9,
     "metadata": {},
     "output_type": "execute_result"
    }
   ],
   "source": [
    "chem_nodes['id'].nunique()"
   ]
  },
  {
   "cell_type": "code",
   "execution_count": 10,
   "metadata": {},
   "outputs": [
    {
     "data": {
      "text/plain": [
       "UNII               105020\n",
       "SMILES               4544\n",
       "CAS                  4235\n",
       "DRUGBANK             4139\n",
       "CHEMBL.COMPOUND      1147\n",
       "CompoundCID           474\n",
       "Iupac                 273\n",
       "Name: source, dtype: int64"
      ]
     },
     "execution_count": 10,
     "metadata": {},
     "output_type": "execute_result"
    }
   ],
   "source": [
    "chem_nodes['source'].value_counts()"
   ]
  },
  {
   "cell_type": "code",
   "execution_count": 11,
   "metadata": {},
   "outputs": [
    {
     "data": {
      "text/plain": [
       "110754"
      ]
     },
     "execution_count": 11,
     "metadata": {},
     "output_type": "execute_result"
    }
   ],
   "source": [
    "mc = biothings_client.get_client('chem')\n",
    "\n",
    "my_chem_ids = ['UNII', 'DRUGBANK', 'CHEMBL.COMPOUND', 'CompoundCID', 'InChIKey']\n",
    "to_query = chem_nodes.query('source == @my_chem_ids')['id'].unique()\n",
    "len(to_query)"
   ]
  },
  {
   "cell_type": "code",
   "execution_count": 12,
   "metadata": {},
   "outputs": [],
   "source": [
    "mychem_res = load_api_results(out_dir.joinpath('mychem_dump_{}.pkl'), re_scrape=False, \n",
    "                              scrape_function=bp.download_mychem_ids, chem_ids=to_query)"
   ]
  },
  {
   "cell_type": "code",
   "execution_count": 13,
   "metadata": {},
   "outputs": [
    {
     "data": {
      "text/plain": [
       "110754"
      ]
     },
     "execution_count": 13,
     "metadata": {},
     "output_type": "execute_result"
    }
   ],
   "source": [
    "chem_node_df = bp.process_chemicals_in_mychem_results(mychem_res)\n",
    "len(chem_node_df)"
   ]
  },
  {
   "cell_type": "code",
   "execution_count": 14,
   "metadata": {},
   "outputs": [
    {
     "data": {
      "image/png": "[encoded data removed]",
      "text/plain": [
       "<Figure size 432x288 with 1 Axes>"
      ]
     },
     "metadata": {
      "needs_background": "light"
     },
     "output_type": "display_data"
    }
   ],
   "source": [
    "count_plot_h(chem_node_df.count())\n",
    "plt.title(\"IDs found for each query\");"
   ]
  },
  {
   "cell_type": "code",
   "execution_count": 15,
   "metadata": {},
   "outputs": [
    {
     "data": {
      "text/html": [
       "<div>\n",
       "<style scoped>\n",
       "    .dataframe tbody tr th:only-of-type {\n",
       "        vertical-align: middle;\n",
       "    }\n",
       "\n",
       "    .dataframe tbody tr th {\n",
       "        vertical-align: top;\n",
       "    }\n",
       "\n",
       "    .dataframe thead th {\n",
       "        text-align: right;\n",
       "    }\n",
       "</style>\n",
       "<table border=\"1\" class=\"dataframe\">\n",
       "  <thead>\n",
       "    <tr style=\"text-align: right;\">\n",
       "      <th></th>\n",
       "      <th>q</th>\n",
       "      <th>ikey</th>\n",
       "      <th>chebi_id</th>\n",
       "      <th>chembl_id</th>\n",
       "      <th>drugbank_id</th>\n",
       "      <th>unii_id</th>\n",
       "      <th>mesh_id</th>\n",
       "      <th>name</th>\n",
       "      <th>id</th>\n",
       "      <th>source</th>\n",
       "    </tr>\n",
       "  </thead>\n",
       "  <tbody>\n",
       "    <tr>\n",
       "      <th>0</th>\n",
       "      <td>SP86R356CC</td>\n",
       "      <td>FZERHIULMFGESH-UHFFFAOYSA-N</td>\n",
       "      <td>CHEBI:28884</td>\n",
       "      <td>CHEMBL269644</td>\n",
       "      <td>NaN</td>\n",
       "      <td>SP86R356CC</td>\n",
       "      <td>MESH:C508827</td>\n",
       "      <td>Acetanilide</td>\n",
       "      <td>FZERHIULMFGESH-UHFFFAOYSA-N</td>\n",
       "      <td>ikey</td>\n",
       "    </tr>\n",
       "    <tr>\n",
       "      <th>1</th>\n",
       "      <td>C50C4V19SU</td>\n",
       "      <td>SWMPGCCDXNLPED-NSCUHMNNSA-N</td>\n",
       "      <td>NaN</td>\n",
       "      <td>NaN</td>\n",
       "      <td>NaN</td>\n",
       "      <td>C50C4V19SU</td>\n",
       "      <td>MESH:C005910</td>\n",
       "      <td>Acetylfuratrizine</td>\n",
       "      <td>SWMPGCCDXNLPED-NSCUHMNNSA-N</td>\n",
       "      <td>ikey</td>\n",
       "    </tr>\n",
       "  </tbody>\n",
       "</table>\n",
       "</div>"
      ],
      "text/plain": [
       "            q                         ikey     chebi_id     chembl_id  \\\n",
       "0  SP86R356CC  FZERHIULMFGESH-UHFFFAOYSA-N  CHEBI:28884  CHEMBL269644   \n",
       "1  C50C4V19SU  SWMPGCCDXNLPED-NSCUHMNNSA-N          NaN           NaN   \n",
       "\n",
       "  drugbank_id     unii_id       mesh_id               name  \\\n",
       "0         NaN  SP86R356CC  MESH:C508827        Acetanilide   \n",
       "1         NaN  C50C4V19SU  MESH:C005910  Acetylfuratrizine   \n",
       "\n",
       "                            id source  \n",
       "0  FZERHIULMFGESH-UHFFFAOYSA-N   ikey  \n",
       "1  SWMPGCCDXNLPED-NSCUHMNNSA-N   ikey  "
      ]
     },
     "execution_count": 15,
     "metadata": {},
     "output_type": "execute_result"
    }
   ],
   "source": [
    "chem_node_df.head(2)"
   ]
  },
  {
   "cell_type": "code",
   "execution_count": 16,
   "metadata": {},
   "outputs": [
    {
     "data": {
      "image/png": "[encoded data removed]",
      "text/plain": [
       "<Figure size 432x288 with 1 Axes>"
      ]
     },
     "metadata": {
      "needs_background": "light"
     },
     "output_type": "display_data"
    }
   ],
   "source": [
    "count_plot_h(chem_node_df['source'])\n",
    "plt.title('IDs selected for each query (based on priortiy in records_to_chem_nodes)');"
   ]
  },
  {
   "cell_type": "code",
   "execution_count": 17,
   "metadata": {},
   "outputs": [
    {
     "data": {
      "text/plain": [
       "110754"
      ]
     },
     "execution_count": 17,
     "metadata": {},
     "output_type": "execute_result"
    }
   ],
   "source": [
    "len(chem_node_df)"
   ]
  },
  {
   "cell_type": "code",
   "execution_count": 18,
   "metadata": {},
   "outputs": [
    {
     "data": {
      "text/plain": [
       "110526"
      ]
     },
     "execution_count": 18,
     "metadata": {},
     "output_type": "execute_result"
    }
   ],
   "source": [
    "chem_node_df['id'].nunique()"
   ]
  },
  {
   "cell_type": "code",
   "execution_count": 19,
   "metadata": {},
   "outputs": [
    {
     "data": {
      "text/plain": [
       "110676"
      ]
     },
     "execution_count": 19,
     "metadata": {},
     "output_type": "execute_result"
    }
   ],
   "source": [
    "len(chem_node_df.dropna(subset=['id']))"
   ]
  },
  {
   "cell_type": "code",
   "execution_count": 20,
   "metadata": {},
   "outputs": [
    {
     "data": {
      "text/plain": [
       "110526"
      ]
     },
     "execution_count": 20,
     "metadata": {},
     "output_type": "execute_result"
    }
   ],
   "source": [
    "# Get a map from inxight_id to the new mychem ID\n",
    "inxight_to_chem_id = chem_node_df[['q', 'id']].copy()\n",
    "\n",
    "# Get rid of drugs that were not found...\n",
    "chem_node_df = chem_node_df.dropna(subset=['id']).drop_duplicates(subset=['id']).drop('q', axis=1)\n",
    "len(chem_node_df)"
   ]
  },
  {
   "cell_type": "code",
   "execution_count": 21,
   "metadata": {},
   "outputs": [],
   "source": [
    "def make_mg_uniprot_map(mg_res):                                                                                        \n",
    "    # Some one to many found, so we will de-duplicate                                                                   \n",
    "    qs = [x['query'] for x in mg_res['out']]\n",
    "    rs = [x.get('entrezgene', float('nan')) for x in mg_res['out']]\n",
    "                                                                                                                        \n",
    "    return pd.DataFrame({'uniprot_id': qs, 'entrez_id': rs})"
   ]
  },
  {
   "cell_type": "code",
   "execution_count": 22,
   "metadata": {},
   "outputs": [
    {
     "data": {
      "text/plain": [
       "'test_teas'"
      ]
     },
     "execution_count": 22,
     "metadata": {},
     "output_type": "execute_result"
    }
   ],
   "source": [
    "'test_teas_new'[:-4]"
   ]
  },
  {
   "cell_type": "code",
   "execution_count": 23,
   "metadata": {},
   "outputs": [],
   "source": [
    "def map_via_merge(orig_df, map_df, orig_id_col, map_id_col, new_id_col):\n",
    "    params = {'right': map_df, 'how': 'left'}\n",
    "    \n",
    "    changed_final = False\n",
    "    \n",
    "    # its a problem if the new_id_col and orig_id_col have the same name...\n",
    "    if orig_id_col == new_id_col:\n",
    "        map_df = map_df.rename(columns={orig_id_col: orig_id_col+'_orig'})\n",
    "        orig_id_col = orig_id_col + '_orig'\n",
    "\n",
    "    # also issues if the new column already exists in here\n",
    "    elif new_id_col in orig_df.columns:\n",
    "        final_id_col = new_id_col\n",
    "        new_id_col = new_id_col + '_new'\n",
    "        map_df = map_df.rename(columns={final_id_col: new_id_col})\n",
    "        changed_final = True\n",
    "        \n",
    "    # Choose the proper merge command\n",
    "    if orig_id_col == map_id_col:\n",
    "        params['on'] = orig_id_col\n",
    "    else:\n",
    "        params['left_on'] = orig_id_col\n",
    "        params['right_on'] = map_id_col\n",
    "        \n",
    "    out = (orig_df.merge(**params))\n",
    "    \n",
    "    # Only need one instance of the merge column\n",
    "    if orig_id_col != map_id_col:\n",
    "        out = out.drop([map_id_col], axis=1)\n",
    "        \n",
    "    # Fill missing values with new mappings, but keep if the merge column alread exists\n",
    "    if changed_final:\n",
    "        print('Warning: out column already exists. Only filling missing values')\n",
    "        out[final_id_col] = out[final_id_col].fillna(out[new_id_col])\n",
    "        out = out.drop([new_id_col], axis=1)\n",
    "        \n",
    "    return out"
   ]
  },
  {
   "cell_type": "code",
   "execution_count": 24,
   "metadata": {},
   "outputs": [],
   "source": [
    "def map_inxight_chem_ids(map_to, to_column, inxight_to_chem_id, out_id_rename):\n",
    "    \n",
    "    out = map_via_merge(map_to, inxight_to_chem_id, to_column, 'q', 'id')\n",
    "    out = out.drop([to_column], axis=1).rename(columns={'id': out_id_rename})\n",
    "    \n",
    "    return out"
   ]
  },
  {
   "cell_type": "code",
   "execution_count": 25,
   "metadata": {},
   "outputs": [],
   "source": [
    "def map_uniprot_to_entrez(map_to, to_column, uniprot_map, out_id_rename):\n",
    "    \n",
    "    out = map_via_merge(map_to, uniprot_map, to_column, 'uniprot_id', 'entrez_id')\n",
    "    \n",
    "    if out_id_rename in out.columns:\n",
    "        print('Warning: out column already exists. Only filling missing values')\n",
    "        out[out_id_rename] = out[out_id_rename].fillna(out['entrez_id'])\n",
    "        out = out.drop(['entrez_id'], axis=1)\n",
    "    else:\n",
    "        out = out.rename(columns={'entrez_id': out_id_rename})\n",
    "    \n",
    "    return out"
   ]
  },
  {
   "cell_type": "code",
   "execution_count": 26,
   "metadata": {},
   "outputs": [],
   "source": [
    "chem_node_df['label'] = \"Compound\"\n",
    "chem_node_df = gt.order_cols(chem_node_df)"
   ]
  },
  {
   "cell_type": "code",
   "execution_count": 27,
   "metadata": {},
   "outputs": [
    {
     "data": {
      "text/html": [
       "<div>\n",
       "<style scoped>\n",
       "    .dataframe tbody tr th:only-of-type {\n",
       "        vertical-align: middle;\n",
       "    }\n",
       "\n",
       "    .dataframe tbody tr th {\n",
       "        vertical-align: top;\n",
       "    }\n",
       "\n",
       "    .dataframe thead th {\n",
       "        text-align: right;\n",
       "    }\n",
       "</style>\n",
       "<table border=\"1\" class=\"dataframe\">\n",
       "  <thead>\n",
       "    <tr style=\"text-align: right;\">\n",
       "      <th></th>\n",
       "      <th>id</th>\n",
       "      <th>name</th>\n",
       "      <th>label</th>\n",
       "      <th>ikey</th>\n",
       "      <th>chebi_id</th>\n",
       "      <th>chembl_id</th>\n",
       "      <th>drugbank_id</th>\n",
       "      <th>unii_id</th>\n",
       "      <th>mesh_id</th>\n",
       "      <th>source</th>\n",
       "    </tr>\n",
       "  </thead>\n",
       "  <tbody>\n",
       "    <tr>\n",
       "      <th>0</th>\n",
       "      <td>FZERHIULMFGESH-UHFFFAOYSA-N</td>\n",
       "      <td>Acetanilide</td>\n",
       "      <td>Compound</td>\n",
       "      <td>FZERHIULMFGESH-UHFFFAOYSA-N</td>\n",
       "      <td>CHEBI:28884</td>\n",
       "      <td>CHEMBL269644</td>\n",
       "      <td>NaN</td>\n",
       "      <td>SP86R356CC</td>\n",
       "      <td>MESH:C508827</td>\n",
       "      <td>ikey</td>\n",
       "    </tr>\n",
       "    <tr>\n",
       "      <th>1</th>\n",
       "      <td>SWMPGCCDXNLPED-NSCUHMNNSA-N</td>\n",
       "      <td>Acetylfuratrizine</td>\n",
       "      <td>Compound</td>\n",
       "      <td>SWMPGCCDXNLPED-NSCUHMNNSA-N</td>\n",
       "      <td>NaN</td>\n",
       "      <td>NaN</td>\n",
       "      <td>NaN</td>\n",
       "      <td>C50C4V19SU</td>\n",
       "      <td>MESH:C005910</td>\n",
       "      <td>ikey</td>\n",
       "    </tr>\n",
       "  </tbody>\n",
       "</table>\n",
       "</div>"
      ],
      "text/plain": [
       "                            id               name     label  \\\n",
       "0  FZERHIULMFGESH-UHFFFAOYSA-N        Acetanilide  Compound   \n",
       "1  SWMPGCCDXNLPED-NSCUHMNNSA-N  Acetylfuratrizine  Compound   \n",
       "\n",
       "                          ikey     chebi_id     chembl_id drugbank_id  \\\n",
       "0  FZERHIULMFGESH-UHFFFAOYSA-N  CHEBI:28884  CHEMBL269644         NaN   \n",
       "1  SWMPGCCDXNLPED-NSCUHMNNSA-N          NaN           NaN         NaN   \n",
       "\n",
       "      unii_id       mesh_id source  \n",
       "0  SP86R356CC  MESH:C508827   ikey  \n",
       "1  C50C4V19SU  MESH:C005910   ikey  "
      ]
     },
     "execution_count": 27,
     "metadata": {},
     "output_type": "execute_result"
    }
   ],
   "source": [
    "chem_node_df.head(2)"
   ]
  },
  {
   "cell_type": "markdown",
   "metadata": {},
   "source": [
    "## Sort out the targets\n",
    "\n",
    "Targets are a mess, there are many different identifiers for targets, however one of the primary identifiers is the ChEMBL.Target which are not widely used by other data-sources and do not x-ref well to other databases. Ideally we want Entrez Gene IDs for any gene targets. We can get there thorugh either ENSEBL gene ids, or UniProt identifiers. However, getting xrefs from ChEMBL.Targets to either of these will require use of the ChEMBL API.\n",
    "\n",
    "There are also many targets that do not qualify as protein or gene targets, so they will not be mappable to Entrez. This may include Organisms, Cell Types, Nuclaic Acids, or Small Molecules. We will keep the ChEMBL identifier in this case, but also keep all x-refs in case we need to perform future identifier resolution."
   ]
  },
  {
   "cell_type": "code",
   "execution_count": 28,
   "metadata": {},
   "outputs": [
    {
     "data": {
      "text/plain": [
       "5904"
      ]
     },
     "execution_count": 28,
     "metadata": {},
     "output_type": "execute_result"
    }
   ],
   "source": [
    "targets = hfp.records_to_target_nodes(data)\n",
    "len(targets)"
   ]
  },
  {
   "cell_type": "code",
   "execution_count": 29,
   "metadata": {},
   "outputs": [
    {
     "data": {
      "text/html": [
       "<div>\n",
       "<style scoped>\n",
       "    .dataframe tbody tr th:only-of-type {\n",
       "        vertical-align: middle;\n",
       "    }\n",
       "\n",
       "    .dataframe tbody tr th {\n",
       "        vertical-align: top;\n",
       "    }\n",
       "\n",
       "    .dataframe thead th {\n",
       "        text-align: right;\n",
       "    }\n",
       "</style>\n",
       "<table border=\"1\" class=\"dataframe\">\n",
       "  <thead>\n",
       "    <tr style=\"text-align: right;\">\n",
       "      <th></th>\n",
       "      <th>id</th>\n",
       "      <th>name</th>\n",
       "      <th>label</th>\n",
       "      <th>id_source</th>\n",
       "    </tr>\n",
       "  </thead>\n",
       "  <tbody>\n",
       "    <tr>\n",
       "      <th>0</th>\n",
       "      <td>GO:0032611</td>\n",
       "      <td>interleukin-1 beta production</td>\n",
       "      <td>Target</td>\n",
       "      <td>GO Cell Process</td>\n",
       "    </tr>\n",
       "    <tr>\n",
       "      <th>1</th>\n",
       "      <td>CHEMBL2111463</td>\n",
       "      <td>GABA-B receptor</td>\n",
       "      <td>Target</td>\n",
       "      <td>ChEMBL</td>\n",
       "    </tr>\n",
       "  </tbody>\n",
       "</table>\n",
       "</div>"
      ],
      "text/plain": [
       "              id                           name   label        id_source\n",
       "0     GO:0032611  interleukin-1 beta production  Target  GO Cell Process\n",
       "1  CHEMBL2111463                GABA-B receptor  Target           ChEMBL"
      ]
     },
     "execution_count": 29,
     "metadata": {},
     "output_type": "execute_result"
    }
   ],
   "source": [
    "targets.head(2)"
   ]
  },
  {
   "cell_type": "code",
   "execution_count": 30,
   "metadata": {},
   "outputs": [
    {
     "data": {
      "image/png": "[encoded data removed]",
      "text/plain": [
       "<Figure size 432x288 with 1 Axes>"
      ]
     },
     "metadata": {
      "needs_background": "light"
     },
     "output_type": "display_data"
    }
   ],
   "source": [
    "count_plot_h(targets['id_source'])\n",
    "plt.title('ID source for targes in Inxight Drugs');"
   ]
  },
  {
   "cell_type": "code",
   "execution_count": 31,
   "metadata": {},
   "outputs": [
    {
     "data": {
      "text/plain": [
       "2546"
      ]
     },
     "execution_count": 31,
     "metadata": {},
     "output_type": "execute_result"
    }
   ],
   "source": [
    "chembl_targets = targets.query('id_source == \"ChEMBL\"')['id'].unique()\n",
    "len(chembl_targets)"
   ]
  },
  {
   "cell_type": "code",
   "execution_count": 32,
   "metadata": {},
   "outputs": [],
   "source": [
    "chembl_api_res = load_api_results(out_dir.joinpath('chembl_targets_dump_{}.pkl'), False, \n",
    "                              hfp.download_chembl_targets, target_ids=chembl_targets)"
   ]
  },
  {
   "cell_type": "code",
   "execution_count": 33,
   "metadata": {},
   "outputs": [
    {
     "data": {
      "text/plain": [
       "235079"
      ]
     },
     "execution_count": 33,
     "metadata": {},
     "output_type": "execute_result"
    }
   ],
   "source": [
    "chembl_tgt_info = hfp.process_chembl_targets_api(chembl_api_res)\n",
    "len(chembl_tgt_info)"
   ]
  },
  {
   "cell_type": "code",
   "execution_count": 34,
   "metadata": {},
   "outputs": [
    {
     "data": {
      "text/html": [
       "<div>\n",
       "<style scoped>\n",
       "    .dataframe tbody tr th:only-of-type {\n",
       "        vertical-align: middle;\n",
       "    }\n",
       "\n",
       "    .dataframe tbody tr th {\n",
       "        vertical-align: top;\n",
       "    }\n",
       "\n",
       "    .dataframe thead th {\n",
       "        text-align: right;\n",
       "    }\n",
       "</style>\n",
       "<table border=\"1\" class=\"dataframe\">\n",
       "  <thead>\n",
       "    <tr style=\"text-align: right;\">\n",
       "      <th></th>\n",
       "      <th>organism</th>\n",
       "      <th>target_chembl_id</th>\n",
       "      <th>tax_id</th>\n",
       "      <th>target_type</th>\n",
       "      <th>pref_name</th>\n",
       "      <th>component_type</th>\n",
       "      <th>component_id</th>\n",
       "      <th>xref_name</th>\n",
       "      <th>xref_src_db</th>\n",
       "      <th>xref_id</th>\n",
       "    </tr>\n",
       "  </thead>\n",
       "  <tbody>\n",
       "    <tr>\n",
       "      <th>0</th>\n",
       "      <td>Candida albicans</td>\n",
       "      <td>CHEMBL2364680</td>\n",
       "      <td>5476</td>\n",
       "      <td>SINGLE PROTEIN</td>\n",
       "      <td>Thymidylate synthase</td>\n",
       "      <td>PROTEIN</td>\n",
       "      <td>7864</td>\n",
       "      <td>thymidylate synthase activity</td>\n",
       "      <td>GoFunction</td>\n",
       "      <td>GO:0004799</td>\n",
       "    </tr>\n",
       "    <tr>\n",
       "      <th>1</th>\n",
       "      <td>Candida albicans</td>\n",
       "      <td>CHEMBL2364680</td>\n",
       "      <td>5476</td>\n",
       "      <td>SINGLE PROTEIN</td>\n",
       "      <td>Thymidylate synthase</td>\n",
       "      <td>PROTEIN</td>\n",
       "      <td>7864</td>\n",
       "      <td>methyltransferase activity</td>\n",
       "      <td>GoFunction</td>\n",
       "      <td>GO:0008168</td>\n",
       "    </tr>\n",
       "  </tbody>\n",
       "</table>\n",
       "</div>"
      ],
      "text/plain": [
       "           organism target_chembl_id tax_id     target_type  \\\n",
       "0  Candida albicans    CHEMBL2364680   5476  SINGLE PROTEIN   \n",
       "1  Candida albicans    CHEMBL2364680   5476  SINGLE PROTEIN   \n",
       "\n",
       "              pref_name component_type component_id  \\\n",
       "0  Thymidylate synthase        PROTEIN         7864   \n",
       "1  Thymidylate synthase        PROTEIN         7864   \n",
       "\n",
       "                       xref_name xref_src_db     xref_id  \n",
       "0  thymidylate synthase activity  GoFunction  GO:0004799  \n",
       "1     methyltransferase activity  GoFunction  GO:0008168  "
      ]
     },
     "execution_count": 34,
     "metadata": {},
     "output_type": "execute_result"
    }
   ],
   "source": [
    "chembl_tgt_info.head(2)"
   ]
  },
  {
   "cell_type": "code",
   "execution_count": 35,
   "metadata": {},
   "outputs": [
    {
     "data": {
      "text/plain": [
       "SINGLE PROTEIN                  1907\n",
       "PROTEIN FAMILY                   154\n",
       "ORGANISM                         149\n",
       "PROTEIN COMPLEX                  138\n",
       "CELL-LINE                         87\n",
       "PROTEIN COMPLEX GROUP             39\n",
       "SELECTIVITY GROUP                 25\n",
       "NUCLEIC-ACID                      12\n",
       "SMALL MOLECULE                     8\n",
       "METAL                              8\n",
       "SUBCELLULAR                        4\n",
       "PROTEIN-PROTEIN INTERACTION        4\n",
       "PROTEIN NUCLEIC-ACID COMPLEX       4\n",
       "UNKNOWN                            3\n",
       "MACROMOLECULE                      2\n",
       "CHIMERIC PROTEIN                   1\n",
       "Name: target_type, dtype: int64"
      ]
     },
     "execution_count": 35,
     "metadata": {},
     "output_type": "execute_result"
    }
   ],
   "source": [
    "chembl_tgt_info.drop_duplicates(subset=['target_chembl_id'])['target_type'].value_counts()"
   ]
  },
  {
   "cell_type": "code",
   "execution_count": 36,
   "metadata": {},
   "outputs": [
    {
     "data": {
      "text/plain": [
       "GoProcess              62309\n",
       "PDBe                   39805\n",
       "GoComponent            29767\n",
       "GoFunction             29749\n",
       "InterPro               21818\n",
       "UniProt                15966\n",
       "Reactome               15497\n",
       "Pfam                    6760\n",
       "IntAct                  2609\n",
       "EnsemblGene             2574\n",
       "ExpressionAtlas         2146\n",
       "PharmGKB                2121\n",
       "GuideToPHARMACOLOGY     1755\n",
       "Pharos                  1175\n",
       "CGD                      659\n",
       "TIMBAL                    84\n",
       "Name: xref_src_db, dtype: int64"
      ]
     },
     "execution_count": 36,
     "metadata": {},
     "output_type": "execute_result"
    }
   ],
   "source": [
    "chembl_tgt_info['xref_src_db'].value_counts()"
   ]
  },
  {
   "cell_type": "code",
   "execution_count": 37,
   "metadata": {},
   "outputs": [
    {
     "data": {
      "text/plain": [
       "PROTEIN    234794\n",
       "RNA            12\n",
       "Name: component_type, dtype: int64"
      ]
     },
     "execution_count": 37,
     "metadata": {},
     "output_type": "execute_result"
    }
   ],
   "source": [
    "chembl_tgt_info['component_type'].value_counts()"
   ]
  },
  {
   "cell_type": "markdown",
   "metadata": {},
   "source": [
    "Most of these xrefs are actually annotations for the targets.  It may be worth extracting some of them to get target to annoation edges, but for the purpose of this (finding the target of a given drug), we only want the actual target.  Many of the annotations should already be within the network. For this reason we will stick to the following xrefs for initial xtraction:\n",
    "\n",
    "- UniProt\n",
    "- EnemblGene\n",
    "\n",
    "Annotations can be grabbed from the following Sources:\n",
    "\n",
    "- GO (BP, CC, MF)\n",
    "- InterPro\n",
    "- Reactome\n"
   ]
  },
  {
   "cell_type": "code",
   "execution_count": 38,
   "metadata": {},
   "outputs": [],
   "source": [
    "anno_sources = ['GoProcess', 'GoComponent', 'GoFunction', 'InterPro', 'Reactome']\n",
    "chembl_tgt_anno = chembl_tgt_info.query('xref_src_db in @anno_sources')"
   ]
  },
  {
   "cell_type": "code",
   "execution_count": 39,
   "metadata": {},
   "outputs": [
    {
     "data": {
      "text/plain": [
       "3885"
      ]
     },
     "execution_count": 39,
     "metadata": {},
     "output_type": "execute_result"
    }
   ],
   "source": [
    "chembl_tgt_xrefs = hfp.select_chembl_target_xref(chembl_tgt_info)\n",
    "len(chembl_tgt_xrefs)"
   ]
  },
  {
   "cell_type": "code",
   "execution_count": 40,
   "metadata": {},
   "outputs": [],
   "source": [
    "# Filter annotations to only those we have an xref for\n",
    "xrefd_chembls = chembl_tgt_xrefs['target_chembl_id'].unique()\n",
    "chembl_tgt_anno = chembl_tgt_anno.query('target_chembl_id in @xrefd_chembls')"
   ]
  },
  {
   "cell_type": "code",
   "execution_count": 41,
   "metadata": {},
   "outputs": [
    {
     "data": {
      "text/plain": [
       "{'CHEMBL614639'}"
      ]
     },
     "execution_count": 41,
     "metadata": {},
     "output_type": "execute_result"
    }
   ],
   "source": [
    "# And see what we couldn't get an xref for\n",
    "set(chembl_targets) - set(chembl_tgt_xrefs['target_chembl_id'].unique())"
   ]
  },
  {
   "cell_type": "markdown",
   "metadata": {},
   "source": [
    "looks like just one didn't get a result"
   ]
  },
  {
   "cell_type": "code",
   "execution_count": 42,
   "metadata": {},
   "outputs": [
    {
     "data": {
      "text/html": [
       "<div>\n",
       "<style scoped>\n",
       "    .dataframe tbody tr th:only-of-type {\n",
       "        vertical-align: middle;\n",
       "    }\n",
       "\n",
       "    .dataframe tbody tr th {\n",
       "        vertical-align: top;\n",
       "    }\n",
       "\n",
       "    .dataframe thead th {\n",
       "        text-align: right;\n",
       "    }\n",
       "</style>\n",
       "<table border=\"1\" class=\"dataframe\">\n",
       "  <thead>\n",
       "    <tr style=\"text-align: right;\">\n",
       "      <th></th>\n",
       "      <th>id</th>\n",
       "      <th>name</th>\n",
       "      <th>label</th>\n",
       "      <th>id_source</th>\n",
       "    </tr>\n",
       "  </thead>\n",
       "  <tbody>\n",
       "    <tr>\n",
       "      <th>2643</th>\n",
       "      <td>CHEMBL614639</td>\n",
       "      <td>Lipopolysaccharide</td>\n",
       "      <td>Target</td>\n",
       "      <td>ChEMBL</td>\n",
       "    </tr>\n",
       "  </tbody>\n",
       "</table>\n",
       "</div>"
      ],
      "text/plain": [
       "                id                name   label id_source\n",
       "2643  CHEMBL614639  Lipopolysaccharide  Target    ChEMBL"
      ]
     },
     "execution_count": 42,
     "metadata": {},
     "output_type": "execute_result"
    }
   ],
   "source": [
    "found_ids = chembl_tgt_xrefs['target_chembl_id'].unique()\n",
    "targets.query('id not in @found_ids and id_source == \"ChEMBL\"')"
   ]
  },
  {
   "cell_type": "markdown",
   "metadata": {},
   "source": [
    "CHEMBL614639 returns no results... This may be the proper identifier for LPS?   \n",
    "https://www.ebi.ac.uk/chembl/target_report_card/CHEMBL3580508/"
   ]
  },
  {
   "cell_type": "code",
   "execution_count": 43,
   "metadata": {},
   "outputs": [
    {
     "data": {
      "text/plain": [
       "2545"
      ]
     },
     "execution_count": 43,
     "metadata": {},
     "output_type": "execute_result"
    }
   ],
   "source": [
    "chembl_tgt_xrefs['target_chembl_id'].nunique()"
   ]
  },
  {
   "cell_type": "code",
   "execution_count": 44,
   "metadata": {},
   "outputs": [
    {
     "data": {
      "text/plain": [
       "5904"
      ]
     },
     "execution_count": 44,
     "metadata": {},
     "output_type": "execute_result"
    }
   ],
   "source": [
    "len(targets)"
   ]
  },
  {
   "cell_type": "code",
   "execution_count": 45,
   "metadata": {},
   "outputs": [
    {
     "data": {
      "text/plain": [
       "id           5713\n",
       "name         3643\n",
       "label           1\n",
       "id_source       6\n",
       "dtype: int64"
      ]
     },
     "execution_count": 45,
     "metadata": {},
     "output_type": "execute_result"
    }
   ],
   "source": [
    "targets.nunique()"
   ]
  },
  {
   "cell_type": "code",
   "execution_count": 46,
   "metadata": {},
   "outputs": [
    {
     "data": {
      "text/html": [
       "<div>\n",
       "<style scoped>\n",
       "    .dataframe tbody tr th:only-of-type {\n",
       "        vertical-align: middle;\n",
       "    }\n",
       "\n",
       "    .dataframe tbody tr th {\n",
       "        vertical-align: top;\n",
       "    }\n",
       "\n",
       "    .dataframe thead th {\n",
       "        text-align: right;\n",
       "    }\n",
       "</style>\n",
       "<table border=\"1\" class=\"dataframe\">\n",
       "  <thead>\n",
       "    <tr style=\"text-align: right;\">\n",
       "      <th></th>\n",
       "      <th>id</th>\n",
       "      <th>name</th>\n",
       "      <th>label</th>\n",
       "      <th>id_source</th>\n",
       "      <th>organism</th>\n",
       "      <th>target_chembl_id</th>\n",
       "      <th>tax_id</th>\n",
       "      <th>target_type</th>\n",
       "      <th>pref_name</th>\n",
       "      <th>component_type</th>\n",
       "      <th>component_id</th>\n",
       "      <th>xref_name</th>\n",
       "      <th>xref_src_db</th>\n",
       "      <th>xref_id</th>\n",
       "    </tr>\n",
       "  </thead>\n",
       "  <tbody>\n",
       "    <tr>\n",
       "      <th>0</th>\n",
       "      <td>GO:0032611</td>\n",
       "      <td>interleukin-1 beta production</td>\n",
       "      <td>Target</td>\n",
       "      <td>GO Cell Process</td>\n",
       "      <td>NaN</td>\n",
       "      <td>NaN</td>\n",
       "      <td>NaN</td>\n",
       "      <td>NaN</td>\n",
       "      <td>NaN</td>\n",
       "      <td>NaN</td>\n",
       "      <td>NaN</td>\n",
       "      <td>NaN</td>\n",
       "      <td>NaN</td>\n",
       "      <td>NaN</td>\n",
       "    </tr>\n",
       "    <tr>\n",
       "      <th>1</th>\n",
       "      <td>CHEMBL2111463</td>\n",
       "      <td>GABA-B receptor</td>\n",
       "      <td>Target</td>\n",
       "      <td>ChEMBL</td>\n",
       "      <td>Homo sapiens</td>\n",
       "      <td>CHEMBL2111463</td>\n",
       "      <td>9606</td>\n",
       "      <td>PROTEIN COMPLEX</td>\n",
       "      <td>GABA-B receptor</td>\n",
       "      <td>PROTEIN</td>\n",
       "      <td>404</td>\n",
       "      <td>None</td>\n",
       "      <td>EnsemblGene</td>\n",
       "      <td>ENSG00000204681</td>\n",
       "    </tr>\n",
       "    <tr>\n",
       "      <th>2</th>\n",
       "      <td>CHEMBL2111463</td>\n",
       "      <td>GABA-B receptor</td>\n",
       "      <td>Target</td>\n",
       "      <td>ChEMBL</td>\n",
       "      <td>Homo sapiens</td>\n",
       "      <td>CHEMBL2111463</td>\n",
       "      <td>9606</td>\n",
       "      <td>PROTEIN COMPLEX</td>\n",
       "      <td>GABA-B receptor</td>\n",
       "      <td>PROTEIN</td>\n",
       "      <td>3345</td>\n",
       "      <td>None</td>\n",
       "      <td>EnsemblGene</td>\n",
       "      <td>ENSG00000136928</td>\n",
       "    </tr>\n",
       "    <tr>\n",
       "      <th>3</th>\n",
       "      <td>Q04212</td>\n",
       "      <td>D-arabinose 1-dehydrogenase</td>\n",
       "      <td>Target</td>\n",
       "      <td>UniProt</td>\n",
       "      <td>NaN</td>\n",
       "      <td>NaN</td>\n",
       "      <td>NaN</td>\n",
       "      <td>NaN</td>\n",
       "      <td>NaN</td>\n",
       "      <td>NaN</td>\n",
       "      <td>NaN</td>\n",
       "      <td>NaN</td>\n",
       "      <td>NaN</td>\n",
       "      <td>NaN</td>\n",
       "    </tr>\n",
       "    <tr>\n",
       "      <th>4</th>\n",
       "      <td>CHEMBL1991</td>\n",
       "      <td>Inhibitor of nuclear factor kappa B kinase bet...</td>\n",
       "      <td>Target</td>\n",
       "      <td>ChEMBL</td>\n",
       "      <td>Homo sapiens</td>\n",
       "      <td>CHEMBL1991</td>\n",
       "      <td>9606</td>\n",
       "      <td>SINGLE PROTEIN</td>\n",
       "      <td>Inhibitor of nuclear factor kappa B kinase bet...</td>\n",
       "      <td>PROTEIN</td>\n",
       "      <td>321</td>\n",
       "      <td>None</td>\n",
       "      <td>EnsemblGene</td>\n",
       "      <td>ENSG00000104365</td>\n",
       "    </tr>\n",
       "  </tbody>\n",
       "</table>\n",
       "</div>"
      ],
      "text/plain": [
       "              id                                               name   label  \\\n",
       "0     GO:0032611                      interleukin-1 beta production  Target   \n",
       "1  CHEMBL2111463                                    GABA-B receptor  Target   \n",
       "2  CHEMBL2111463                                    GABA-B receptor  Target   \n",
       "3         Q04212                        D-arabinose 1-dehydrogenase  Target   \n",
       "4     CHEMBL1991  Inhibitor of nuclear factor kappa B kinase bet...  Target   \n",
       "\n",
       "         id_source      organism target_chembl_id tax_id      target_type  \\\n",
       "0  GO Cell Process           NaN              NaN    NaN              NaN   \n",
       "1           ChEMBL  Homo sapiens    CHEMBL2111463   9606  PROTEIN COMPLEX   \n",
       "2           ChEMBL  Homo sapiens    CHEMBL2111463   9606  PROTEIN COMPLEX   \n",
       "3          UniProt           NaN              NaN    NaN              NaN   \n",
       "4           ChEMBL  Homo sapiens       CHEMBL1991   9606   SINGLE PROTEIN   \n",
       "\n",
       "                                           pref_name component_type  \\\n",
       "0                                                NaN            NaN   \n",
       "1                                    GABA-B receptor        PROTEIN   \n",
       "2                                    GABA-B receptor        PROTEIN   \n",
       "3                                                NaN            NaN   \n",
       "4  Inhibitor of nuclear factor kappa B kinase bet...        PROTEIN   \n",
       "\n",
       "  component_id xref_name  xref_src_db          xref_id  \n",
       "0          NaN       NaN          NaN              NaN  \n",
       "1          404      None  EnsemblGene  ENSG00000204681  \n",
       "2         3345      None  EnsemblGene  ENSG00000136928  \n",
       "3          NaN       NaN          NaN              NaN  \n",
       "4          321      None  EnsemblGene  ENSG00000104365  "
      ]
     },
     "execution_count": 46,
     "metadata": {},
     "output_type": "execute_result"
    }
   ],
   "source": [
    "targets = pd.merge(targets, chembl_tgt_xrefs, left_on=['id'], right_on=['target_chembl_id'], how='left')\n",
    "targets.head()"
   ]
  },
  {
   "cell_type": "markdown",
   "metadata": {},
   "source": [
    "#### Use mygene.info to get the proper gene xrefs\n",
    "\n",
    "We will now get the xrefs from esembel and uniprot to entrez with mygene.info"
   ]
  },
  {
   "cell_type": "code",
   "execution_count": 47,
   "metadata": {},
   "outputs": [
    {
     "name": "stdout",
     "output_type": "stream",
     "text": [
      "querying 1-1000...done.\n",
      "querying 1001-1725...done.\n"
     ]
    }
   ],
   "source": [
    "import biothings_client\n",
    "mg = biothings_client.get_client('gene')\n",
    "\n",
    "ensembel_xref = mg.getgenes(targets.query('xref_src_db == \"EnsemblGene\"')['xref_id'].unique(), fields=['entrezgene'])\n",
    "ensembel_map = {g['query']: g.get('entrezgene', float('nan')) for g in ensembel_xref}"
   ]
  },
  {
   "cell_type": "code",
   "execution_count": 48,
   "metadata": {},
   "outputs": [
    {
     "name": "stdout",
     "output_type": "stream",
     "text": [
      "querying 1-1000...done.\n",
      "querying 1001-1079...done.\n",
      "Finished.\n",
      "42 input query terms found dup hits:\n",
      "\t[('Q2FW31', 2), ('Q2FW19', 2), ('Q2FXZ7', 2), ('P48940', 2), ('Q2FW11', 2), ('Q2FZ60', 2), ('Q2FW14'\n",
      "476 input query terms found no hit:\n",
      "\t['P07265', 'P03366', 'Q9EPV4', 'A9JQL9', 'Q75VQ4', 'P04757', 'O35769', 'O08952', 'P20420', 'P10481',\n"
     ]
    }
   ],
   "source": [
    "prots = targets.query('xref_src_db == \"UniProt\"')['xref_id'].unique()\n",
    "uniprot_xref = mg.querymany(prots, scopes='uniprot', fileds=['entrezgene'], size=50, returnall=True)"
   ]
  },
  {
   "cell_type": "code",
   "execution_count": 49,
   "metadata": {},
   "outputs": [],
   "source": [
    "uniprot_map = make_mg_uniprot_map(uniprot_xref)"
   ]
  },
  {
   "cell_type": "code",
   "execution_count": 50,
   "metadata": {},
   "outputs": [
    {
     "data": {
      "text/html": [
       "<div>\n",
       "<style scoped>\n",
       "    .dataframe tbody tr th:only-of-type {\n",
       "        vertical-align: middle;\n",
       "    }\n",
       "\n",
       "    .dataframe tbody tr th {\n",
       "        vertical-align: top;\n",
       "    }\n",
       "\n",
       "    .dataframe thead th {\n",
       "        text-align: right;\n",
       "    }\n",
       "</style>\n",
       "<table border=\"1\" class=\"dataframe\">\n",
       "  <thead>\n",
       "    <tr style=\"text-align: right;\">\n",
       "      <th></th>\n",
       "      <th>uniprot_id</th>\n",
       "      <th>entrez_id</th>\n",
       "    </tr>\n",
       "  </thead>\n",
       "  <tbody>\n",
       "    <tr>\n",
       "      <th>0</th>\n",
       "      <td>Q01061</td>\n",
       "      <td>281970</td>\n",
       "    </tr>\n",
       "    <tr>\n",
       "      <th>1</th>\n",
       "      <td>P14100</td>\n",
       "      <td>281969</td>\n",
       "    </tr>\n",
       "    <tr>\n",
       "      <th>2</th>\n",
       "      <td>Q9WTR4</td>\n",
       "      <td>83511</td>\n",
       "    </tr>\n",
       "    <tr>\n",
       "      <th>3</th>\n",
       "      <td>P07265</td>\n",
       "      <td>NaN</td>\n",
       "    </tr>\n",
       "    <tr>\n",
       "      <th>4</th>\n",
       "      <td>P03366</td>\n",
       "      <td>NaN</td>\n",
       "    </tr>\n",
       "    <tr>\n",
       "      <th>...</th>\n",
       "      <td>...</td>\n",
       "      <td>...</td>\n",
       "    </tr>\n",
       "    <tr>\n",
       "      <th>1122</th>\n",
       "      <td>P04799</td>\n",
       "      <td>24297</td>\n",
       "    </tr>\n",
       "    <tr>\n",
       "      <th>1123</th>\n",
       "      <td>P35961</td>\n",
       "      <td>NaN</td>\n",
       "    </tr>\n",
       "    <tr>\n",
       "      <th>1124</th>\n",
       "      <td>Q05BR4</td>\n",
       "      <td>NaN</td>\n",
       "    </tr>\n",
       "    <tr>\n",
       "      <th>1125</th>\n",
       "      <td>Q8R431</td>\n",
       "      <td>29254</td>\n",
       "    </tr>\n",
       "    <tr>\n",
       "      <th>1126</th>\n",
       "      <td>P15389</td>\n",
       "      <td>25665</td>\n",
       "    </tr>\n",
       "  </tbody>\n",
       "</table>\n",
       "<p>1127 rows × 2 columns</p>\n",
       "</div>"
      ],
      "text/plain": [
       "     uniprot_id entrez_id\n",
       "0        Q01061    281970\n",
       "1        P14100    281969\n",
       "2        Q9WTR4     83511\n",
       "3        P07265       NaN\n",
       "4        P03366       NaN\n",
       "...         ...       ...\n",
       "1122     P04799     24297\n",
       "1123     P35961       NaN\n",
       "1124     Q05BR4       NaN\n",
       "1125     Q8R431     29254\n",
       "1126     P15389     25665\n",
       "\n",
       "[1127 rows x 2 columns]"
      ]
     },
     "execution_count": 50,
     "metadata": {},
     "output_type": "execute_result"
    }
   ],
   "source": [
    "uniprot_map"
   ]
  },
  {
   "cell_type": "code",
   "execution_count": 51,
   "metadata": {},
   "outputs": [
    {
     "name": "stdout",
     "output_type": "stream",
     "text": [
      "querying 1-1000...done.\n",
      "querying 1001-1654...done.\n",
      "Finished.\n",
      "15 input query terms found dup hits:\n",
      "\t[('P35226', 2), ('P32324', 2), ('P31941', 2), ('P62593', 38), ('P36544', 2), ('P0A7S3', 2), ('P49674\n",
      "290 input query terms found no hit:\n",
      "\t['Q9UQ99', 'Q14307', 'Q9UQP9', 'P16788', 'Q9GZX1', 'Q9UCB0', 'Q5VZI8', 'Q9GSR5', 'Q96DW4', 'Q86Z27',\n"
     ]
    }
   ],
   "source": [
    "# Also some uniprot ids in inxighight without having to go through chembl\n",
    "uniprot_targets = targets.query('id_source == \"UniProt\"')['id'].unique()\n",
    "r = mg.querymany(uniprot_targets, scopes='uniprot', fields=['entrezgene'], size=50, returnall=True)\n",
    "\n",
    "uniprot_map = pd.concat([make_mg_uniprot_map(r), uniprot_map], sort=False, ignore_index=True).drop_duplicates()"
   ]
  },
  {
   "cell_type": "code",
   "execution_count": 52,
   "metadata": {},
   "outputs": [
    {
     "name": "stdout",
     "output_type": "stream",
     "text": [
      "Warning: out column already exists. Only filling missing values\n",
      "Warning: out column already exists. Only filling missing values\n"
     ]
    },
    {
     "data": {
      "text/plain": [
       "entrez             4545\n",
       "UniProt            1008\n",
       "Other               871\n",
       "GO Cell Process     531\n",
       "ChEMBL              274\n",
       "KEGG Pathway         56\n",
       "Wiki Pathway         55\n",
       "EnsemblGene           3\n",
       "Name: source, dtype: int64"
      ]
     },
     "execution_count": 52,
     "metadata": {},
     "output_type": "execute_result"
    }
   ],
   "source": [
    "# Map over these new identifiers\n",
    "targets['new_id'] = targets['xref_id'].map(ensembel_map)\n",
    "\n",
    "targets = map_uniprot_to_entrez(targets, 'xref_id', uniprot_map, 'new_id')\n",
    "targets = map_uniprot_to_entrez(targets, 'id', uniprot_map, 'new_id')\n",
    "\n",
    "entrez_idx = targets[~targets['new_id'].isnull()].index\n",
    "other_idx = targets[targets['new_id'].isnull()].index\n",
    "targets.loc[entrez_idx, 'source'] = 'entrez'\n",
    "# Take xref first, then fill missing with the original id (Try to get rid of as many CHEMBL IDs as possible)\n",
    "targets.loc[other_idx, 'new_id'] = targets.loc[other_idx, 'xref_id'].fillna(targets.loc[other_idx, 'id'])\n",
    "targets.loc[other_idx, 'source'] = targets.loc[other_idx, 'xref_src_db'].fillna(targets.loc[other_idx, 'id_source'])\n",
    "\n",
    "targets['source'].value_counts()"
   ]
  },
  {
   "cell_type": "code",
   "execution_count": 53,
   "metadata": {},
   "outputs": [
    {
     "data": {
      "text/html": [
       "<div>\n",
       "<style scoped>\n",
       "    .dataframe tbody tr th:only-of-type {\n",
       "        vertical-align: middle;\n",
       "    }\n",
       "\n",
       "    .dataframe tbody tr th {\n",
       "        vertical-align: top;\n",
       "    }\n",
       "\n",
       "    .dataframe thead th {\n",
       "        text-align: right;\n",
       "    }\n",
       "</style>\n",
       "<table border=\"1\" class=\"dataframe\">\n",
       "  <thead>\n",
       "    <tr style=\"text-align: right;\">\n",
       "      <th></th>\n",
       "      <th>id</th>\n",
       "      <th>name</th>\n",
       "      <th>label</th>\n",
       "      <th>id_source</th>\n",
       "      <th>organism</th>\n",
       "      <th>target_chembl_id</th>\n",
       "      <th>tax_id</th>\n",
       "      <th>target_type</th>\n",
       "      <th>pref_name</th>\n",
       "      <th>component_type</th>\n",
       "      <th>component_id</th>\n",
       "      <th>xref_name</th>\n",
       "      <th>xref_src_db</th>\n",
       "      <th>xref_id</th>\n",
       "      <th>new_id</th>\n",
       "      <th>source</th>\n",
       "      <th>curi_id</th>\n",
       "    </tr>\n",
       "  </thead>\n",
       "  <tbody>\n",
       "    <tr>\n",
       "      <th>0</th>\n",
       "      <td>GO:0032611</td>\n",
       "      <td>interleukin-1 beta production</td>\n",
       "      <td>Target</td>\n",
       "      <td>GO Cell Process</td>\n",
       "      <td>NaN</td>\n",
       "      <td>NaN</td>\n",
       "      <td>NaN</td>\n",
       "      <td>NaN</td>\n",
       "      <td>NaN</td>\n",
       "      <td>NaN</td>\n",
       "      <td>NaN</td>\n",
       "      <td>NaN</td>\n",
       "      <td>NaN</td>\n",
       "      <td>NaN</td>\n",
       "      <td>GO:0032611</td>\n",
       "      <td>GO Cell Process</td>\n",
       "      <td>GO:0032611</td>\n",
       "    </tr>\n",
       "    <tr>\n",
       "      <th>1</th>\n",
       "      <td>CHEMBL2111463</td>\n",
       "      <td>GABA-B receptor</td>\n",
       "      <td>Target</td>\n",
       "      <td>ChEMBL</td>\n",
       "      <td>Homo sapiens</td>\n",
       "      <td>CHEMBL2111463</td>\n",
       "      <td>9606</td>\n",
       "      <td>PROTEIN COMPLEX</td>\n",
       "      <td>GABA-B receptor</td>\n",
       "      <td>PROTEIN</td>\n",
       "      <td>404</td>\n",
       "      <td>None</td>\n",
       "      <td>EnsemblGene</td>\n",
       "      <td>ENSG00000204681</td>\n",
       "      <td>NCBIGene:2550</td>\n",
       "      <td>entrez</td>\n",
       "      <td>CHEMBL:CHEMBL2111463</td>\n",
       "    </tr>\n",
       "    <tr>\n",
       "      <th>2</th>\n",
       "      <td>CHEMBL2111463</td>\n",
       "      <td>GABA-B receptor</td>\n",
       "      <td>Target</td>\n",
       "      <td>ChEMBL</td>\n",
       "      <td>Homo sapiens</td>\n",
       "      <td>CHEMBL2111463</td>\n",
       "      <td>9606</td>\n",
       "      <td>PROTEIN COMPLEX</td>\n",
       "      <td>GABA-B receptor</td>\n",
       "      <td>PROTEIN</td>\n",
       "      <td>3345</td>\n",
       "      <td>None</td>\n",
       "      <td>EnsemblGene</td>\n",
       "      <td>ENSG00000136928</td>\n",
       "      <td>NCBIGene:9568</td>\n",
       "      <td>entrez</td>\n",
       "      <td>CHEMBL:CHEMBL2111463</td>\n",
       "    </tr>\n",
       "    <tr>\n",
       "      <th>3</th>\n",
       "      <td>Q04212</td>\n",
       "      <td>D-arabinose 1-dehydrogenase</td>\n",
       "      <td>Target</td>\n",
       "      <td>UniProt</td>\n",
       "      <td>NaN</td>\n",
       "      <td>NaN</td>\n",
       "      <td>NaN</td>\n",
       "      <td>NaN</td>\n",
       "      <td>NaN</td>\n",
       "      <td>NaN</td>\n",
       "      <td>NaN</td>\n",
       "      <td>NaN</td>\n",
       "      <td>NaN</td>\n",
       "      <td>NaN</td>\n",
       "      <td>NCBIGene:855057</td>\n",
       "      <td>entrez</td>\n",
       "      <td>UniProt:Q04212</td>\n",
       "    </tr>\n",
       "    <tr>\n",
       "      <th>4</th>\n",
       "      <td>CHEMBL1991</td>\n",
       "      <td>Inhibitor of nuclear factor kappa B kinase bet...</td>\n",
       "      <td>Target</td>\n",
       "      <td>ChEMBL</td>\n",
       "      <td>Homo sapiens</td>\n",
       "      <td>CHEMBL1991</td>\n",
       "      <td>9606</td>\n",
       "      <td>SINGLE PROTEIN</td>\n",
       "      <td>Inhibitor of nuclear factor kappa B kinase bet...</td>\n",
       "      <td>PROTEIN</td>\n",
       "      <td>321</td>\n",
       "      <td>None</td>\n",
       "      <td>EnsemblGene</td>\n",
       "      <td>ENSG00000104365</td>\n",
       "      <td>NCBIGene:3551</td>\n",
       "      <td>entrez</td>\n",
       "      <td>CHEMBL:CHEMBL1991</td>\n",
       "    </tr>\n",
       "  </tbody>\n",
       "</table>\n",
       "</div>"
      ],
      "text/plain": [
       "              id                                               name   label  \\\n",
       "0     GO:0032611                      interleukin-1 beta production  Target   \n",
       "1  CHEMBL2111463                                    GABA-B receptor  Target   \n",
       "2  CHEMBL2111463                                    GABA-B receptor  Target   \n",
       "3         Q04212                        D-arabinose 1-dehydrogenase  Target   \n",
       "4     CHEMBL1991  Inhibitor of nuclear factor kappa B kinase bet...  Target   \n",
       "\n",
       "         id_source      organism target_chembl_id tax_id      target_type  \\\n",
       "0  GO Cell Process           NaN              NaN    NaN              NaN   \n",
       "1           ChEMBL  Homo sapiens    CHEMBL2111463   9606  PROTEIN COMPLEX   \n",
       "2           ChEMBL  Homo sapiens    CHEMBL2111463   9606  PROTEIN COMPLEX   \n",
       "3          UniProt           NaN              NaN    NaN              NaN   \n",
       "4           ChEMBL  Homo sapiens       CHEMBL1991   9606   SINGLE PROTEIN   \n",
       "\n",
       "                                           pref_name component_type  \\\n",
       "0                                                NaN            NaN   \n",
       "1                                    GABA-B receptor        PROTEIN   \n",
       "2                                    GABA-B receptor        PROTEIN   \n",
       "3                                                NaN            NaN   \n",
       "4  Inhibitor of nuclear factor kappa B kinase bet...        PROTEIN   \n",
       "\n",
       "  component_id xref_name  xref_src_db          xref_id           new_id  \\\n",
       "0          NaN       NaN          NaN              NaN       GO:0032611   \n",
       "1          404      None  EnsemblGene  ENSG00000204681    NCBIGene:2550   \n",
       "2         3345      None  EnsemblGene  ENSG00000136928    NCBIGene:9568   \n",
       "3          NaN       NaN          NaN              NaN  NCBIGene:855057   \n",
       "4          321      None  EnsemblGene  ENSG00000104365    NCBIGene:3551   \n",
       "\n",
       "            source               curi_id  \n",
       "0  GO Cell Process            GO:0032611  \n",
       "1           entrez  CHEMBL:CHEMBL2111463  \n",
       "2           entrez  CHEMBL:CHEMBL2111463  \n",
       "3           entrez        UniProt:Q04212  \n",
       "4           entrez     CHEMBL:CHEMBL1991  "
      ]
     },
     "execution_count": 53,
     "metadata": {},
     "output_type": "execute_result"
    }
   ],
   "source": [
    "curi_map = {'GO Cell Process': '', 'entrez': 'NCBIGene:', 'UniProt': 'UniProt:', 'ChEMBL': 'CHEMBL:', \n",
    "            'Wiki Pathway': 'WP:', 'KEGG Pathway': 'KEGG:', 'uniprot': 'UniProt:', 'other': ''}\n",
    "\n",
    "targets['new_id'] = targets['source'].map(curi_map) + targets['new_id']\n",
    "# keep track of the original ID for mapping edges, but add CURIs for Xref accounting\n",
    "targets['curi_id'] = targets['id_source'].map(curi_map) + targets['id']\n",
    "targets.head()"
   ]
  },
  {
   "cell_type": "code",
   "execution_count": 54,
   "metadata": {},
   "outputs": [],
   "source": [
    "xref_curi_map = {'EnsemblGene': 'ENSG:', 'UniProt': 'UniProt:'}\n",
    "targets['xref_id'] = targets['xref_src_db'].map(xref_curi_map) + targets['xref_id']"
   ]
  },
  {
   "cell_type": "code",
   "execution_count": 55,
   "metadata": {},
   "outputs": [],
   "source": [
    "# keep track of xrefs\n",
    "targets['xrefs'] = targets[['curi_id', 'xref_id']].T.apply(lambda r: '|'.join(sorted([x for x in r if type(x) == str])))"
   ]
  },
  {
   "cell_type": "markdown",
   "metadata": {},
   "source": [
    "#### Sanity check the targets"
   ]
  },
  {
   "cell_type": "code",
   "execution_count": 56,
   "metadata": {
    "scrolled": false
   },
   "outputs": [
    {
     "data": {
      "text/plain": [
       "id                  7154\n",
       "name                6472\n",
       "label               7343\n",
       "id_source           7343\n",
       "organism            3933\n",
       "target_chembl_id    3933\n",
       "tax_id              3933\n",
       "target_type         3933\n",
       "pref_name           3933\n",
       "component_type      3660\n",
       "component_id        3660\n",
       "xref_name           3660\n",
       "xref_src_db         3660\n",
       "xref_id             3660\n",
       "new_id              6469\n",
       "source              7343\n",
       "curi_id             6472\n",
       "xrefs               6472\n",
       "dtype: int64"
      ]
     },
     "execution_count": 56,
     "metadata": {},
     "output_type": "execute_result"
    }
   ],
   "source": [
    "targets.replace(\"\", float('nan')).count()"
   ]
  },
  {
   "cell_type": "markdown",
   "metadata": {},
   "source": [
    "There appear to be some targets that either were mising an identifier or a name when first extracted"
   ]
  },
  {
   "cell_type": "code",
   "execution_count": 57,
   "metadata": {},
   "outputs": [
    {
     "data": {
      "text/html": [
       "<div>\n",
       "<style scoped>\n",
       "    .dataframe tbody tr th:only-of-type {\n",
       "        vertical-align: middle;\n",
       "    }\n",
       "\n",
       "    .dataframe tbody tr th {\n",
       "        vertical-align: top;\n",
       "    }\n",
       "\n",
       "    .dataframe thead th {\n",
       "        text-align: right;\n",
       "    }\n",
       "</style>\n",
       "<table border=\"1\" class=\"dataframe\">\n",
       "  <thead>\n",
       "    <tr style=\"text-align: right;\">\n",
       "      <th></th>\n",
       "      <th>id</th>\n",
       "      <th>name</th>\n",
       "      <th>label</th>\n",
       "      <th>id_source</th>\n",
       "      <th>organism</th>\n",
       "      <th>target_chembl_id</th>\n",
       "      <th>tax_id</th>\n",
       "      <th>target_type</th>\n",
       "      <th>pref_name</th>\n",
       "      <th>component_type</th>\n",
       "      <th>component_id</th>\n",
       "      <th>xref_name</th>\n",
       "      <th>xref_src_db</th>\n",
       "      <th>xref_id</th>\n",
       "      <th>new_id</th>\n",
       "      <th>source</th>\n",
       "      <th>curi_id</th>\n",
       "      <th>xrefs</th>\n",
       "    </tr>\n",
       "  </thead>\n",
       "  <tbody>\n",
       "    <tr>\n",
       "      <th>2604</th>\n",
       "      <td>CHEMBL3885558: Cyclin-dependent kinases regula...</td>\n",
       "      <td>None</td>\n",
       "      <td>Target</td>\n",
       "      <td>Other</td>\n",
       "      <td>NaN</td>\n",
       "      <td>NaN</td>\n",
       "      <td>NaN</td>\n",
       "      <td>NaN</td>\n",
       "      <td>NaN</td>\n",
       "      <td>NaN</td>\n",
       "      <td>NaN</td>\n",
       "      <td>NaN</td>\n",
       "      <td>NaN</td>\n",
       "      <td>NaN</td>\n",
       "      <td>NaN</td>\n",
       "      <td>Other</td>\n",
       "      <td>NaN</td>\n",
       "      <td></td>\n",
       "    </tr>\n",
       "    <tr>\n",
       "      <th>2075</th>\n",
       "      <td>hepatitis C virus non-structural protein 4B</td>\n",
       "      <td>None</td>\n",
       "      <td>Target</td>\n",
       "      <td>Other</td>\n",
       "      <td>NaN</td>\n",
       "      <td>NaN</td>\n",
       "      <td>NaN</td>\n",
       "      <td>NaN</td>\n",
       "      <td>NaN</td>\n",
       "      <td>NaN</td>\n",
       "      <td>NaN</td>\n",
       "      <td>NaN</td>\n",
       "      <td>NaN</td>\n",
       "      <td>NaN</td>\n",
       "      <td>NaN</td>\n",
       "      <td>Other</td>\n",
       "      <td>NaN</td>\n",
       "      <td></td>\n",
       "    </tr>\n",
       "    <tr>\n",
       "      <th>5490</th>\n",
       "      <td>heteromeric CNGA1+CNGB1 channels</td>\n",
       "      <td>None</td>\n",
       "      <td>Target</td>\n",
       "      <td>Other</td>\n",
       "      <td>NaN</td>\n",
       "      <td>NaN</td>\n",
       "      <td>NaN</td>\n",
       "      <td>NaN</td>\n",
       "      <td>NaN</td>\n",
       "      <td>NaN</td>\n",
       "      <td>NaN</td>\n",
       "      <td>NaN</td>\n",
       "      <td>NaN</td>\n",
       "      <td>NaN</td>\n",
       "      <td>NaN</td>\n",
       "      <td>Other</td>\n",
       "      <td>NaN</td>\n",
       "      <td></td>\n",
       "    </tr>\n",
       "    <tr>\n",
       "      <th>69</th>\n",
       "      <td>AP2 complex</td>\n",
       "      <td>None</td>\n",
       "      <td>Target</td>\n",
       "      <td>Other</td>\n",
       "      <td>NaN</td>\n",
       "      <td>NaN</td>\n",
       "      <td>NaN</td>\n",
       "      <td>NaN</td>\n",
       "      <td>NaN</td>\n",
       "      <td>NaN</td>\n",
       "      <td>NaN</td>\n",
       "      <td>NaN</td>\n",
       "      <td>NaN</td>\n",
       "      <td>NaN</td>\n",
       "      <td>NaN</td>\n",
       "      <td>Other</td>\n",
       "      <td>NaN</td>\n",
       "      <td></td>\n",
       "    </tr>\n",
       "    <tr>\n",
       "      <th>286</th>\n",
       "      <td>calcium ion</td>\n",
       "      <td>None</td>\n",
       "      <td>Target</td>\n",
       "      <td>Other</td>\n",
       "      <td>NaN</td>\n",
       "      <td>NaN</td>\n",
       "      <td>NaN</td>\n",
       "      <td>NaN</td>\n",
       "      <td>NaN</td>\n",
       "      <td>NaN</td>\n",
       "      <td>NaN</td>\n",
       "      <td>NaN</td>\n",
       "      <td>NaN</td>\n",
       "      <td>NaN</td>\n",
       "      <td>NaN</td>\n",
       "      <td>Other</td>\n",
       "      <td>NaN</td>\n",
       "      <td></td>\n",
       "    </tr>\n",
       "    <tr>\n",
       "      <th>4224</th>\n",
       "      <td>calcium</td>\n",
       "      <td>None</td>\n",
       "      <td>Target</td>\n",
       "      <td>Other</td>\n",
       "      <td>NaN</td>\n",
       "      <td>NaN</td>\n",
       "      <td>NaN</td>\n",
       "      <td>NaN</td>\n",
       "      <td>NaN</td>\n",
       "      <td>NaN</td>\n",
       "      <td>NaN</td>\n",
       "      <td>NaN</td>\n",
       "      <td>NaN</td>\n",
       "      <td>NaN</td>\n",
       "      <td>NaN</td>\n",
       "      <td>Other</td>\n",
       "      <td>NaN</td>\n",
       "      <td></td>\n",
       "    </tr>\n",
       "    <tr>\n",
       "      <th>232</th>\n",
       "      <td>Soluble adenylyl cyclase</td>\n",
       "      <td>None</td>\n",
       "      <td>Target</td>\n",
       "      <td>Other</td>\n",
       "      <td>NaN</td>\n",
       "      <td>NaN</td>\n",
       "      <td>NaN</td>\n",
       "      <td>NaN</td>\n",
       "      <td>NaN</td>\n",
       "      <td>NaN</td>\n",
       "      <td>NaN</td>\n",
       "      <td>NaN</td>\n",
       "      <td>NaN</td>\n",
       "      <td>NaN</td>\n",
       "      <td>NaN</td>\n",
       "      <td>Other</td>\n",
       "      <td>NaN</td>\n",
       "      <td></td>\n",
       "    </tr>\n",
       "    <tr>\n",
       "      <th>3205</th>\n",
       "      <td>smooth muscle</td>\n",
       "      <td>None</td>\n",
       "      <td>Target</td>\n",
       "      <td>Other</td>\n",
       "      <td>NaN</td>\n",
       "      <td>NaN</td>\n",
       "      <td>NaN</td>\n",
       "      <td>NaN</td>\n",
       "      <td>NaN</td>\n",
       "      <td>NaN</td>\n",
       "      <td>NaN</td>\n",
       "      <td>NaN</td>\n",
       "      <td>NaN</td>\n",
       "      <td>NaN</td>\n",
       "      <td>NaN</td>\n",
       "      <td>Other</td>\n",
       "      <td>NaN</td>\n",
       "      <td></td>\n",
       "    </tr>\n",
       "    <tr>\n",
       "      <th>1401</th>\n",
       "      <td>CHEMBL1201244: ROCURONIUM</td>\n",
       "      <td>None</td>\n",
       "      <td>Target</td>\n",
       "      <td>Other</td>\n",
       "      <td>NaN</td>\n",
       "      <td>NaN</td>\n",
       "      <td>NaN</td>\n",
       "      <td>NaN</td>\n",
       "      <td>NaN</td>\n",
       "      <td>NaN</td>\n",
       "      <td>NaN</td>\n",
       "      <td>NaN</td>\n",
       "      <td>NaN</td>\n",
       "      <td>NaN</td>\n",
       "      <td>NaN</td>\n",
       "      <td>Other</td>\n",
       "      <td>NaN</td>\n",
       "      <td></td>\n",
       "    </tr>\n",
       "    <tr>\n",
       "      <th>3122</th>\n",
       "      <td>imidazoline I2 receptors</td>\n",
       "      <td>None</td>\n",
       "      <td>Target</td>\n",
       "      <td>Other</td>\n",
       "      <td>NaN</td>\n",
       "      <td>NaN</td>\n",
       "      <td>NaN</td>\n",
       "      <td>NaN</td>\n",
       "      <td>NaN</td>\n",
       "      <td>NaN</td>\n",
       "      <td>NaN</td>\n",
       "      <td>NaN</td>\n",
       "      <td>NaN</td>\n",
       "      <td>NaN</td>\n",
       "      <td>NaN</td>\n",
       "      <td>Other</td>\n",
       "      <td>NaN</td>\n",
       "      <td></td>\n",
       "    </tr>\n",
       "  </tbody>\n",
       "</table>\n",
       "</div>"
      ],
      "text/plain": [
       "                                                     id  name   label  \\\n",
       "2604  CHEMBL3885558: Cyclin-dependent kinases regula...  None  Target   \n",
       "2075        hepatitis C virus non-structural protein 4B  None  Target   \n",
       "5490                   heteromeric CNGA1+CNGB1 channels  None  Target   \n",
       "69                                          AP2 complex  None  Target   \n",
       "286                                         calcium ion  None  Target   \n",
       "4224                                            calcium  None  Target   \n",
       "232                            Soluble adenylyl cyclase  None  Target   \n",
       "3205                                      smooth muscle  None  Target   \n",
       "1401                          CHEMBL1201244: ROCURONIUM  None  Target   \n",
       "3122                           imidazoline I2 receptors  None  Target   \n",
       "\n",
       "     id_source organism target_chembl_id tax_id target_type pref_name  \\\n",
       "2604     Other      NaN              NaN    NaN         NaN       NaN   \n",
       "2075     Other      NaN              NaN    NaN         NaN       NaN   \n",
       "5490     Other      NaN              NaN    NaN         NaN       NaN   \n",
       "69       Other      NaN              NaN    NaN         NaN       NaN   \n",
       "286      Other      NaN              NaN    NaN         NaN       NaN   \n",
       "4224     Other      NaN              NaN    NaN         NaN       NaN   \n",
       "232      Other      NaN              NaN    NaN         NaN       NaN   \n",
       "3205     Other      NaN              NaN    NaN         NaN       NaN   \n",
       "1401     Other      NaN              NaN    NaN         NaN       NaN   \n",
       "3122     Other      NaN              NaN    NaN         NaN       NaN   \n",
       "\n",
       "     component_type component_id xref_name xref_src_db xref_id new_id source  \\\n",
       "2604            NaN          NaN       NaN         NaN     NaN    NaN  Other   \n",
       "2075            NaN          NaN       NaN         NaN     NaN    NaN  Other   \n",
       "5490            NaN          NaN       NaN         NaN     NaN    NaN  Other   \n",
       "69              NaN          NaN       NaN         NaN     NaN    NaN  Other   \n",
       "286             NaN          NaN       NaN         NaN     NaN    NaN  Other   \n",
       "4224            NaN          NaN       NaN         NaN     NaN    NaN  Other   \n",
       "232             NaN          NaN       NaN         NaN     NaN    NaN  Other   \n",
       "3205            NaN          NaN       NaN         NaN     NaN    NaN  Other   \n",
       "1401            NaN          NaN       NaN         NaN     NaN    NaN  Other   \n",
       "3122            NaN          NaN       NaN         NaN     NaN    NaN  Other   \n",
       "\n",
       "     curi_id xrefs  \n",
       "2604     NaN        \n",
       "2075     NaN        \n",
       "5490     NaN        \n",
       "69       NaN        \n",
       "286      NaN        \n",
       "4224     NaN        \n",
       "232      NaN        \n",
       "3205     NaN        \n",
       "1401     NaN        \n",
       "3122     NaN        "
      ]
     },
     "execution_count": 57,
     "metadata": {},
     "output_type": "execute_result"
    }
   ],
   "source": [
    "targets[targets.replace(\"\", float('nan'))['name'].isnull()].sample(10)"
   ]
  },
  {
   "cell_type": "markdown",
   "metadata": {},
   "source": [
    "So the ones missing a name actually look like thye have an their name as an identifier.  This is problematic and will making reolving these entries time-consuming and difficult.\n",
    "\n",
    "First let's check how many appear to be properly annotated"
   ]
  },
  {
   "cell_type": "code",
   "execution_count": 58,
   "metadata": {},
   "outputs": [
    {
     "data": {
      "text/plain": [
       "6280"
      ]
     },
     "execution_count": 58,
     "metadata": {},
     "output_type": "execute_result"
    }
   ],
   "source": [
    "len(targets.replace(\"\", float('nan')).dropna(subset=['id', 'new_id', 'name']))"
   ]
  },
  {
   "cell_type": "markdown",
   "metadata": {},
   "source": [
    "Losing around 1000 targets would mean about a 15% reduction in targets...\n",
    "\n",
    "This may have a much smaller effect on edges though, as those may represnet uncommon targets while other targets may be repeatedly used.  We will have to look at the Chem-Target Edges first to be sure."
   ]
  },
  {
   "cell_type": "code",
   "execution_count": 59,
   "metadata": {},
   "outputs": [],
   "source": [
    "targets = targets.dropna(subset=['new_id'])"
   ]
  },
  {
   "cell_type": "code",
   "execution_count": 60,
   "metadata": {},
   "outputs": [
    {
     "data": {
      "text/html": [
       "<div>\n",
       "<style scoped>\n",
       "    .dataframe tbody tr th:only-of-type {\n",
       "        vertical-align: middle;\n",
       "    }\n",
       "\n",
       "    .dataframe tbody tr th {\n",
       "        vertical-align: top;\n",
       "    }\n",
       "\n",
       "    .dataframe thead th {\n",
       "        text-align: right;\n",
       "    }\n",
       "</style>\n",
       "<table border=\"1\" class=\"dataframe\">\n",
       "  <thead>\n",
       "    <tr style=\"text-align: right;\">\n",
       "      <th></th>\n",
       "      <th>id</th>\n",
       "      <th>name</th>\n",
       "      <th>label</th>\n",
       "      <th>id_source</th>\n",
       "      <th>organism</th>\n",
       "      <th>target_chembl_id</th>\n",
       "      <th>tax_id</th>\n",
       "      <th>target_type</th>\n",
       "      <th>pref_name</th>\n",
       "      <th>component_type</th>\n",
       "      <th>component_id</th>\n",
       "      <th>xref_name</th>\n",
       "      <th>xref_src_db</th>\n",
       "      <th>xref_id</th>\n",
       "      <th>new_id</th>\n",
       "      <th>source</th>\n",
       "      <th>curi_id</th>\n",
       "      <th>xrefs</th>\n",
       "    </tr>\n",
       "  </thead>\n",
       "  <tbody>\n",
       "    <tr>\n",
       "      <th>0</th>\n",
       "      <td>GO:0032611</td>\n",
       "      <td>interleukin-1 beta production</td>\n",
       "      <td>Target</td>\n",
       "      <td>GO Cell Process</td>\n",
       "      <td>NaN</td>\n",
       "      <td>NaN</td>\n",
       "      <td>NaN</td>\n",
       "      <td>NaN</td>\n",
       "      <td>NaN</td>\n",
       "      <td>NaN</td>\n",
       "      <td>NaN</td>\n",
       "      <td>NaN</td>\n",
       "      <td>NaN</td>\n",
       "      <td>NaN</td>\n",
       "      <td>GO:0032611</td>\n",
       "      <td>GO Cell Process</td>\n",
       "      <td>GO:0032611</td>\n",
       "      <td>GO:0032611</td>\n",
       "    </tr>\n",
       "    <tr>\n",
       "      <th>1</th>\n",
       "      <td>CHEMBL2111463</td>\n",
       "      <td>GABA-B receptor</td>\n",
       "      <td>Target</td>\n",
       "      <td>ChEMBL</td>\n",
       "      <td>Homo sapiens</td>\n",
       "      <td>CHEMBL2111463</td>\n",
       "      <td>9606</td>\n",
       "      <td>PROTEIN COMPLEX</td>\n",
       "      <td>GABA-B receptor</td>\n",
       "      <td>PROTEIN</td>\n",
       "      <td>404</td>\n",
       "      <td>None</td>\n",
       "      <td>EnsemblGene</td>\n",
       "      <td>ENSG:ENSG00000204681</td>\n",
       "      <td>NCBIGene:2550</td>\n",
       "      <td>entrez</td>\n",
       "      <td>CHEMBL:CHEMBL2111463</td>\n",
       "      <td>CHEMBL:CHEMBL2111463|ENSG:ENSG00000204681</td>\n",
       "    </tr>\n",
       "    <tr>\n",
       "      <th>2</th>\n",
       "      <td>CHEMBL2111463</td>\n",
       "      <td>GABA-B receptor</td>\n",
       "      <td>Target</td>\n",
       "      <td>ChEMBL</td>\n",
       "      <td>Homo sapiens</td>\n",
       "      <td>CHEMBL2111463</td>\n",
       "      <td>9606</td>\n",
       "      <td>PROTEIN COMPLEX</td>\n",
       "      <td>GABA-B receptor</td>\n",
       "      <td>PROTEIN</td>\n",
       "      <td>3345</td>\n",
       "      <td>None</td>\n",
       "      <td>EnsemblGene</td>\n",
       "      <td>ENSG:ENSG00000136928</td>\n",
       "      <td>NCBIGene:9568</td>\n",
       "      <td>entrez</td>\n",
       "      <td>CHEMBL:CHEMBL2111463</td>\n",
       "      <td>CHEMBL:CHEMBL2111463|ENSG:ENSG00000136928</td>\n",
       "    </tr>\n",
       "    <tr>\n",
       "      <th>3</th>\n",
       "      <td>Q04212</td>\n",
       "      <td>D-arabinose 1-dehydrogenase</td>\n",
       "      <td>Target</td>\n",
       "      <td>UniProt</td>\n",
       "      <td>NaN</td>\n",
       "      <td>NaN</td>\n",
       "      <td>NaN</td>\n",
       "      <td>NaN</td>\n",
       "      <td>NaN</td>\n",
       "      <td>NaN</td>\n",
       "      <td>NaN</td>\n",
       "      <td>NaN</td>\n",
       "      <td>NaN</td>\n",
       "      <td>NaN</td>\n",
       "      <td>NCBIGene:855057</td>\n",
       "      <td>entrez</td>\n",
       "      <td>UniProt:Q04212</td>\n",
       "      <td>UniProt:Q04212</td>\n",
       "    </tr>\n",
       "    <tr>\n",
       "      <th>4</th>\n",
       "      <td>CHEMBL1991</td>\n",
       "      <td>Inhibitor of nuclear factor kappa B kinase bet...</td>\n",
       "      <td>Target</td>\n",
       "      <td>ChEMBL</td>\n",
       "      <td>Homo sapiens</td>\n",
       "      <td>CHEMBL1991</td>\n",
       "      <td>9606</td>\n",
       "      <td>SINGLE PROTEIN</td>\n",
       "      <td>Inhibitor of nuclear factor kappa B kinase bet...</td>\n",
       "      <td>PROTEIN</td>\n",
       "      <td>321</td>\n",
       "      <td>None</td>\n",
       "      <td>EnsemblGene</td>\n",
       "      <td>ENSG:ENSG00000104365</td>\n",
       "      <td>NCBIGene:3551</td>\n",
       "      <td>entrez</td>\n",
       "      <td>CHEMBL:CHEMBL1991</td>\n",
       "      <td>CHEMBL:CHEMBL1991|ENSG:ENSG00000104365</td>\n",
       "    </tr>\n",
       "    <tr>\n",
       "      <th>...</th>\n",
       "      <td>...</td>\n",
       "      <td>...</td>\n",
       "      <td>...</td>\n",
       "      <td>...</td>\n",
       "      <td>...</td>\n",
       "      <td>...</td>\n",
       "      <td>...</td>\n",
       "      <td>...</td>\n",
       "      <td>...</td>\n",
       "      <td>...</td>\n",
       "      <td>...</td>\n",
       "      <td>...</td>\n",
       "      <td>...</td>\n",
       "      <td>...</td>\n",
       "      <td>...</td>\n",
       "      <td>...</td>\n",
       "      <td>...</td>\n",
       "      <td>...</td>\n",
       "    </tr>\n",
       "    <tr>\n",
       "      <th>7337</th>\n",
       "      <td>Q13164</td>\n",
       "      <td>Mitogen-activated protein kinase 7</td>\n",
       "      <td>Target</td>\n",
       "      <td>UniProt</td>\n",
       "      <td>NaN</td>\n",
       "      <td>NaN</td>\n",
       "      <td>NaN</td>\n",
       "      <td>NaN</td>\n",
       "      <td>NaN</td>\n",
       "      <td>NaN</td>\n",
       "      <td>NaN</td>\n",
       "      <td>NaN</td>\n",
       "      <td>NaN</td>\n",
       "      <td>NaN</td>\n",
       "      <td>NCBIGene:5598</td>\n",
       "      <td>entrez</td>\n",
       "      <td>UniProt:Q13164</td>\n",
       "      <td>UniProt:Q13164</td>\n",
       "    </tr>\n",
       "    <tr>\n",
       "      <th>7338</th>\n",
       "      <td>O75460</td>\n",
       "      <td>Serine/threonine-protein kinase/endoribonuclea...</td>\n",
       "      <td>Target</td>\n",
       "      <td>UniProt</td>\n",
       "      <td>NaN</td>\n",
       "      <td>NaN</td>\n",
       "      <td>NaN</td>\n",
       "      <td>NaN</td>\n",
       "      <td>NaN</td>\n",
       "      <td>NaN</td>\n",
       "      <td>NaN</td>\n",
       "      <td>NaN</td>\n",
       "      <td>NaN</td>\n",
       "      <td>NaN</td>\n",
       "      <td>NCBIGene:2081</td>\n",
       "      <td>entrez</td>\n",
       "      <td>UniProt:O75460</td>\n",
       "      <td>UniProt:O75460</td>\n",
       "    </tr>\n",
       "    <tr>\n",
       "      <th>7339</th>\n",
       "      <td>GO:0070269</td>\n",
       "      <td>pyroptosis</td>\n",
       "      <td>Target</td>\n",
       "      <td>GO Cell Process</td>\n",
       "      <td>NaN</td>\n",
       "      <td>NaN</td>\n",
       "      <td>NaN</td>\n",
       "      <td>NaN</td>\n",
       "      <td>NaN</td>\n",
       "      <td>NaN</td>\n",
       "      <td>NaN</td>\n",
       "      <td>NaN</td>\n",
       "      <td>NaN</td>\n",
       "      <td>NaN</td>\n",
       "      <td>GO:0070269</td>\n",
       "      <td>GO Cell Process</td>\n",
       "      <td>GO:0070269</td>\n",
       "      <td>GO:0070269</td>\n",
       "    </tr>\n",
       "    <tr>\n",
       "      <th>7340</th>\n",
       "      <td>CHEMBL3866</td>\n",
       "      <td>Sodium channel protein type V alpha subunit</td>\n",
       "      <td>Target</td>\n",
       "      <td>ChEMBL</td>\n",
       "      <td>Rattus norvegicus</td>\n",
       "      <td>CHEMBL3866</td>\n",
       "      <td>10116</td>\n",
       "      <td>SINGLE PROTEIN</td>\n",
       "      <td>Sodium channel protein type V alpha subunit</td>\n",
       "      <td>PROTEIN</td>\n",
       "      <td>2184</td>\n",
       "      <td>None</td>\n",
       "      <td>UniProt</td>\n",
       "      <td>UniProt:P15389</td>\n",
       "      <td>NCBIGene:25665</td>\n",
       "      <td>entrez</td>\n",
       "      <td>CHEMBL:CHEMBL3866</td>\n",
       "      <td>CHEMBL:CHEMBL3866|UniProt:P15389</td>\n",
       "    </tr>\n",
       "    <tr>\n",
       "      <th>7341</th>\n",
       "      <td>CHEMBL2147</td>\n",
       "      <td>Serine/threonine-protein kinase PIM1</td>\n",
       "      <td>Target</td>\n",
       "      <td>ChEMBL</td>\n",
       "      <td>Homo sapiens</td>\n",
       "      <td>CHEMBL2147</td>\n",
       "      <td>9606</td>\n",
       "      <td>SINGLE PROTEIN</td>\n",
       "      <td>Serine/threonine-protein kinase PIM1</td>\n",
       "      <td>PROTEIN</td>\n",
       "      <td>489</td>\n",
       "      <td>None</td>\n",
       "      <td>EnsemblGene</td>\n",
       "      <td>ENSG:ENSG00000137193</td>\n",
       "      <td>NCBIGene:5292</td>\n",
       "      <td>entrez</td>\n",
       "      <td>CHEMBL:CHEMBL2147</td>\n",
       "      <td>CHEMBL:CHEMBL2147|ENSG:ENSG00000137193</td>\n",
       "    </tr>\n",
       "  </tbody>\n",
       "</table>\n",
       "<p>6469 rows × 18 columns</p>\n",
       "</div>"
      ],
      "text/plain": [
       "                 id                                               name  \\\n",
       "0        GO:0032611                      interleukin-1 beta production   \n",
       "1     CHEMBL2111463                                    GABA-B receptor   \n",
       "2     CHEMBL2111463                                    GABA-B receptor   \n",
       "3            Q04212                        D-arabinose 1-dehydrogenase   \n",
       "4        CHEMBL1991  Inhibitor of nuclear factor kappa B kinase bet...   \n",
       "...             ...                                                ...   \n",
       "7337         Q13164                 Mitogen-activated protein kinase 7   \n",
       "7338         O75460  Serine/threonine-protein kinase/endoribonuclea...   \n",
       "7339     GO:0070269                                         pyroptosis   \n",
       "7340     CHEMBL3866        Sodium channel protein type V alpha subunit   \n",
       "7341     CHEMBL2147               Serine/threonine-protein kinase PIM1   \n",
       "\n",
       "       label        id_source           organism target_chembl_id tax_id  \\\n",
       "0     Target  GO Cell Process                NaN              NaN    NaN   \n",
       "1     Target           ChEMBL       Homo sapiens    CHEMBL2111463   9606   \n",
       "2     Target           ChEMBL       Homo sapiens    CHEMBL2111463   9606   \n",
       "3     Target          UniProt                NaN              NaN    NaN   \n",
       "4     Target           ChEMBL       Homo sapiens       CHEMBL1991   9606   \n",
       "...      ...              ...                ...              ...    ...   \n",
       "7337  Target          UniProt                NaN              NaN    NaN   \n",
       "7338  Target          UniProt                NaN              NaN    NaN   \n",
       "7339  Target  GO Cell Process                NaN              NaN    NaN   \n",
       "7340  Target           ChEMBL  Rattus norvegicus       CHEMBL3866  10116   \n",
       "7341  Target           ChEMBL       Homo sapiens       CHEMBL2147   9606   \n",
       "\n",
       "          target_type                                          pref_name  \\\n",
       "0                 NaN                                                NaN   \n",
       "1     PROTEIN COMPLEX                                    GABA-B receptor   \n",
       "2     PROTEIN COMPLEX                                    GABA-B receptor   \n",
       "3                 NaN                                                NaN   \n",
       "4      SINGLE PROTEIN  Inhibitor of nuclear factor kappa B kinase bet...   \n",
       "...               ...                                                ...   \n",
       "7337              NaN                                                NaN   \n",
       "7338              NaN                                                NaN   \n",
       "7339              NaN                                                NaN   \n",
       "7340   SINGLE PROTEIN        Sodium channel protein type V alpha subunit   \n",
       "7341   SINGLE PROTEIN               Serine/threonine-protein kinase PIM1   \n",
       "\n",
       "     component_type component_id xref_name  xref_src_db               xref_id  \\\n",
       "0               NaN          NaN       NaN          NaN                   NaN   \n",
       "1           PROTEIN          404      None  EnsemblGene  ENSG:ENSG00000204681   \n",
       "2           PROTEIN         3345      None  EnsemblGene  ENSG:ENSG00000136928   \n",
       "3               NaN          NaN       NaN          NaN                   NaN   \n",
       "4           PROTEIN          321      None  EnsemblGene  ENSG:ENSG00000104365   \n",
       "...             ...          ...       ...          ...                   ...   \n",
       "7337            NaN          NaN       NaN          NaN                   NaN   \n",
       "7338            NaN          NaN       NaN          NaN                   NaN   \n",
       "7339            NaN          NaN       NaN          NaN                   NaN   \n",
       "7340        PROTEIN         2184      None      UniProt        UniProt:P15389   \n",
       "7341        PROTEIN          489      None  EnsemblGene  ENSG:ENSG00000137193   \n",
       "\n",
       "               new_id           source               curi_id  \\\n",
       "0          GO:0032611  GO Cell Process            GO:0032611   \n",
       "1       NCBIGene:2550           entrez  CHEMBL:CHEMBL2111463   \n",
       "2       NCBIGene:9568           entrez  CHEMBL:CHEMBL2111463   \n",
       "3     NCBIGene:855057           entrez        UniProt:Q04212   \n",
       "4       NCBIGene:3551           entrez     CHEMBL:CHEMBL1991   \n",
       "...               ...              ...                   ...   \n",
       "7337    NCBIGene:5598           entrez        UniProt:Q13164   \n",
       "7338    NCBIGene:2081           entrez        UniProt:O75460   \n",
       "7339       GO:0070269  GO Cell Process            GO:0070269   \n",
       "7340   NCBIGene:25665           entrez     CHEMBL:CHEMBL3866   \n",
       "7341    NCBIGene:5292           entrez     CHEMBL:CHEMBL2147   \n",
       "\n",
       "                                          xrefs  \n",
       "0                                    GO:0032611  \n",
       "1     CHEMBL:CHEMBL2111463|ENSG:ENSG00000204681  \n",
       "2     CHEMBL:CHEMBL2111463|ENSG:ENSG00000136928  \n",
       "3                                UniProt:Q04212  \n",
       "4        CHEMBL:CHEMBL1991|ENSG:ENSG00000104365  \n",
       "...                                         ...  \n",
       "7337                             UniProt:Q13164  \n",
       "7338                             UniProt:O75460  \n",
       "7339                                 GO:0070269  \n",
       "7340           CHEMBL:CHEMBL3866|UniProt:P15389  \n",
       "7341     CHEMBL:CHEMBL2147|ENSG:ENSG00000137193  \n",
       "\n",
       "[6469 rows x 18 columns]"
      ]
     },
     "execution_count": 60,
     "metadata": {},
     "output_type": "execute_result"
    }
   ],
   "source": [
    "targets"
   ]
  },
  {
   "cell_type": "code",
   "execution_count": 61,
   "metadata": {},
   "outputs": [],
   "source": [
    "tgt_nw_id_map = targets[['id', 'new_id']].copy()\n",
    "tgt_tax_map = targets[['new_id', 'tax_id']].copy()\n",
    "tgt_tax_map['tax_id'] = 'NCBITaxon:' + tgt_tax_map['tax_id']"
   ]
  },
  {
   "cell_type": "code",
   "execution_count": 62,
   "metadata": {},
   "outputs": [],
   "source": [
    "targets = targets[['new_id', 'name', 'label', 'xrefs']].rename(columns={'new_id': 'id'})"
   ]
  },
  {
   "cell_type": "code",
   "execution_count": 63,
   "metadata": {},
   "outputs": [
    {
     "data": {
      "text/plain": [
       "6469"
      ]
     },
     "execution_count": 63,
     "metadata": {},
     "output_type": "execute_result"
    }
   ],
   "source": [
    "len(targets)"
   ]
  },
  {
   "cell_type": "markdown",
   "metadata": {},
   "source": [
    "## Chem-Target Edges"
   ]
  },
  {
   "cell_type": "code",
   "execution_count": 64,
   "metadata": {},
   "outputs": [
    {
     "data": {
      "text/plain": [
       "34834"
      ]
     },
     "execution_count": 64,
     "metadata": {},
     "output_type": "execute_result"
    }
   ],
   "source": [
    "tgt_edges = hfp.records_to_target_edges(data)\n",
    "len(tgt_edges)"
   ]
  },
  {
   "cell_type": "code",
   "execution_count": 65,
   "metadata": {},
   "outputs": [
    {
     "data": {
      "text/html": [
       "<div>\n",
       "<style scoped>\n",
       "    .dataframe tbody tr th:only-of-type {\n",
       "        vertical-align: middle;\n",
       "    }\n",
       "\n",
       "    .dataframe tbody tr th {\n",
       "        vertical-align: top;\n",
       "    }\n",
       "\n",
       "    .dataframe thead th {\n",
       "        text-align: right;\n",
       "    }\n",
       "</style>\n",
       "<table border=\"1\" class=\"dataframe\">\n",
       "  <thead>\n",
       "    <tr style=\"text-align: right;\">\n",
       "      <th></th>\n",
       "      <th>target_id</th>\n",
       "      <th>interaction</th>\n",
       "      <th>comp_id</th>\n",
       "    </tr>\n",
       "  </thead>\n",
       "  <tbody>\n",
       "    <tr>\n",
       "      <th>0</th>\n",
       "      <td>CHEMBL2363072</td>\n",
       "      <td>Agonist</td>\n",
       "      <td>LCH760E9T7</td>\n",
       "    </tr>\n",
       "    <tr>\n",
       "      <th>1</th>\n",
       "      <td>CHEMBL2363072</td>\n",
       "      <td>Agonist</td>\n",
       "      <td>BK59Y5A02O</td>\n",
       "    </tr>\n",
       "  </tbody>\n",
       "</table>\n",
       "</div>"
      ],
      "text/plain": [
       "       target_id interaction     comp_id\n",
       "0  CHEMBL2363072     Agonist  LCH760E9T7\n",
       "1  CHEMBL2363072     Agonist  BK59Y5A02O"
      ]
     },
     "execution_count": 65,
     "metadata": {},
     "output_type": "execute_result"
    }
   ],
   "source": [
    "tgt_edges.head(2)"
   ]
  },
  {
   "cell_type": "markdown",
   "metadata": {},
   "source": [
    "First map the chem identifiers to their proper node identifiers"
   ]
  },
  {
   "cell_type": "code",
   "execution_count": 66,
   "metadata": {},
   "outputs": [
    {
     "data": {
      "text/plain": [
       "34834"
      ]
     },
     "execution_count": 66,
     "metadata": {},
     "output_type": "execute_result"
    }
   ],
   "source": [
    "tgt_edges = map_inxight_chem_ids(tgt_edges, 'comp_id', inxight_to_chem_id, 'start_id')\n",
    "len(tgt_edges)"
   ]
  },
  {
   "cell_type": "markdown",
   "metadata": {},
   "source": [
    "Now check how many edges are lost due to 1000 targets not being mapped to a stable identifier..."
   ]
  },
  {
   "cell_type": "code",
   "execution_count": 67,
   "metadata": {},
   "outputs": [
    {
     "name": "stdout",
     "output_type": "stream",
     "text": [
      "Raw chem-target edges: 34,834\n",
      "Removing chem-targets with null values: 30,648\n",
      "Removing duplicated chem-targets: 28,926\n",
      "Resulting chem-target edges with target id: 27,289\n",
      "Chem-target edges reduced by 5.66% due to un-mappable target identifiers\n"
     ]
    }
   ],
   "source": [
    "print('Raw chem-target edges: {:,}'.format(len(tgt_edges)))\n",
    "print('Removing chem-targets with null values: {:,}'.format(len(tgt_edges.dropna())))\n",
    "unique_tgt_edges = len(tgt_edges.dropna().drop_duplicates())\n",
    "print('Removing duplicated chem-targets: {:,}'.format(unique_tgt_edges))\n",
    "\n",
    "target_ids = tgt_nw_id_map.dropna(subset=['id', 'new_id'])['id'].unique()\n",
    "n_edge_in_tgt = len(tgt_edges.dropna().drop_duplicates().query('target_id in @target_ids'))\n",
    "\n",
    "print('Resulting chem-target edges with target id: {:,}'.format(n_edge_in_tgt))\n",
    "print('Chem-target edges reduced by {:2.2%} due to un-mappable target identifiers'.format(\n",
    "    1 - (n_edge_in_tgt/unique_tgt_edges)))"
   ]
  },
  {
   "cell_type": "markdown",
   "metadata": {},
   "source": [
    "5.65% is not ideal, but acceptable considering the amount of work that would be required to map the remaining 1000 targets to some kind of stable identifier\n",
    "\n",
    "Finalize target node information"
   ]
  },
  {
   "cell_type": "code",
   "execution_count": 68,
   "metadata": {},
   "outputs": [
    {
     "data": {
      "text/plain": [
       "4685"
      ]
     },
     "execution_count": 68,
     "metadata": {},
     "output_type": "execute_result"
    }
   ],
   "source": [
    "targets = targets.dropna(subset=['id','name'])\n",
    "targets = combine_group_cols_on_char(targets, ['id'], ['xrefs'], sort=True, prog=False)\n",
    "len(targets)"
   ]
  },
  {
   "cell_type": "code",
   "execution_count": 69,
   "metadata": {},
   "outputs": [],
   "source": [
    "tgt_edges = (tgt_edges.merge(tgt_nw_id_map, left_on=['target_id'], right_on=['id'])\n",
    "                      .drop(['id', 'target_id'], axis=1)\n",
    "                      .rename(columns={'new_id': 'end_id'}))"
   ]
  },
  {
   "cell_type": "code",
   "execution_count": 70,
   "metadata": {},
   "outputs": [
    {
     "name": "stdout",
     "output_type": "stream",
     "text": [
      "55,175\n"
     ]
    }
   ],
   "source": [
    "tgt_edges = tgt_edges.dropna().drop_duplicates(subset=['start_id', 'interaction', 'end_id'])\n",
    "print('{:,}'.format(len(tgt_edges)))"
   ]
  },
  {
   "cell_type": "code",
   "execution_count": 71,
   "metadata": {},
   "outputs": [
    {
     "data": {
      "text/html": [
       "<div>\n",
       "<style scoped>\n",
       "    .dataframe tbody tr th:only-of-type {\n",
       "        vertical-align: middle;\n",
       "    }\n",
       "\n",
       "    .dataframe tbody tr th {\n",
       "        vertical-align: top;\n",
       "    }\n",
       "\n",
       "    .dataframe thead th {\n",
       "        text-align: right;\n",
       "    }\n",
       "</style>\n",
       "<table border=\"1\" class=\"dataframe\">\n",
       "  <thead>\n",
       "    <tr style=\"text-align: right;\">\n",
       "      <th></th>\n",
       "      <th>interaction</th>\n",
       "      <th>start_id</th>\n",
       "      <th>end_id</th>\n",
       "    </tr>\n",
       "  </thead>\n",
       "  <tbody>\n",
       "    <tr>\n",
       "      <th>0</th>\n",
       "      <td>Agonist</td>\n",
       "      <td>IHUNBGSDBOWDMA-AQFIFDHZSA-N</td>\n",
       "      <td>NCBIGene:6258</td>\n",
       "    </tr>\n",
       "    <tr>\n",
       "      <th>1</th>\n",
       "      <td>Agonist</td>\n",
       "      <td>IHUNBGSDBOWDMA-AQFIFDHZSA-N</td>\n",
       "      <td>NCBIGene:5914</td>\n",
       "    </tr>\n",
       "  </tbody>\n",
       "</table>\n",
       "</div>"
      ],
      "text/plain": [
       "  interaction                     start_id         end_id\n",
       "0     Agonist  IHUNBGSDBOWDMA-AQFIFDHZSA-N  NCBIGene:6258\n",
       "1     Agonist  IHUNBGSDBOWDMA-AQFIFDHZSA-N  NCBIGene:5914"
      ]
     },
     "execution_count": 71,
     "metadata": {},
     "output_type": "execute_result"
    }
   ],
   "source": [
    "tgt_edges.head(2)"
   ]
  },
  {
   "cell_type": "code",
   "execution_count": 72,
   "metadata": {},
   "outputs": [
    {
     "data": {
      "text/html": [
       "<div>\n",
       "<style scoped>\n",
       "    .dataframe tbody tr th:only-of-type {\n",
       "        vertical-align: middle;\n",
       "    }\n",
       "\n",
       "    .dataframe tbody tr th {\n",
       "        vertical-align: top;\n",
       "    }\n",
       "\n",
       "    .dataframe thead th {\n",
       "        text-align: right;\n",
       "    }\n",
       "</style>\n",
       "<table border=\"1\" class=\"dataframe\">\n",
       "  <thead>\n",
       "    <tr style=\"text-align: right;\">\n",
       "      <th></th>\n",
       "      <th>start_id</th>\n",
       "      <th>end_id</th>\n",
       "      <th>type</th>\n",
       "      <th>source</th>\n",
       "      <th>dsrc_type</th>\n",
       "      <th>license</th>\n",
       "    </tr>\n",
       "  </thead>\n",
       "  <tbody>\n",
       "    <tr>\n",
       "      <th>0</th>\n",
       "      <td>IHUNBGSDBOWDMA-AQFIFDHZSA-N</td>\n",
       "      <td>NCBIGene:6258</td>\n",
       "      <td>agonist</td>\n",
       "      <td>Inxight Drugs</td>\n",
       "      <td>aggregated</td>\n",
       "      <td>mixed</td>\n",
       "    </tr>\n",
       "    <tr>\n",
       "      <th>1</th>\n",
       "      <td>IHUNBGSDBOWDMA-AQFIFDHZSA-N</td>\n",
       "      <td>NCBIGene:5914</td>\n",
       "      <td>agonist</td>\n",
       "      <td>Inxight Drugs</td>\n",
       "      <td>aggregated</td>\n",
       "      <td>mixed</td>\n",
       "    </tr>\n",
       "  </tbody>\n",
       "</table>\n",
       "</div>"
      ],
      "text/plain": [
       "                      start_id         end_id     type         source  \\\n",
       "0  IHUNBGSDBOWDMA-AQFIFDHZSA-N  NCBIGene:6258  agonist  Inxight Drugs   \n",
       "1  IHUNBGSDBOWDMA-AQFIFDHZSA-N  NCBIGene:5914  agonist  Inxight Drugs   \n",
       "\n",
       "    dsrc_type license  \n",
       "0  aggregated   mixed  \n",
       "1  aggregated   mixed  "
      ]
     },
     "execution_count": 72,
     "metadata": {},
     "output_type": "execute_result"
    }
   ],
   "source": [
    "tgt_edges['source'] = 'Inxight Drugs'\n",
    "tgt_edges['dsrc_type'] = 'aggregated'\n",
    "tgt_edges['license'] = 'mixed'\n",
    "tgt_edges = tgt_edges.rename(columns={'interaction': 'type'})\n",
    "tgt_edges['type'] = tgt_edges['type'].str.lower().str.replace(' ', '_')\n",
    "tgt_edges = gt.order_cols(tgt_edges)\n",
    "tgt_edges.head(2)"
   ]
  },
  {
   "cell_type": "markdown",
   "metadata": {},
   "source": [
    "#### Final fixes on the target nodes"
   ]
  },
  {
   "cell_type": "code",
   "execution_count": 73,
   "metadata": {},
   "outputs": [
    {
     "data": {
      "text/plain": [
       "4685"
      ]
     },
     "execution_count": 73,
     "metadata": {},
     "output_type": "execute_result"
    }
   ],
   "source": [
    "len(targets)"
   ]
  },
  {
   "cell_type": "code",
   "execution_count": 74,
   "metadata": {},
   "outputs": [
    {
     "data": {
      "text/html": [
       "<div>\n",
       "<style scoped>\n",
       "    .dataframe tbody tr th:only-of-type {\n",
       "        vertical-align: middle;\n",
       "    }\n",
       "\n",
       "    .dataframe tbody tr th {\n",
       "        vertical-align: top;\n",
       "    }\n",
       "\n",
       "    .dataframe thead th {\n",
       "        text-align: right;\n",
       "    }\n",
       "</style>\n",
       "<table border=\"1\" class=\"dataframe\">\n",
       "  <thead>\n",
       "    <tr style=\"text-align: right;\">\n",
       "      <th></th>\n",
       "      <th>id</th>\n",
       "      <th>name</th>\n",
       "      <th>label</th>\n",
       "      <th>xrefs</th>\n",
       "    </tr>\n",
       "  </thead>\n",
       "  <tbody>\n",
       "    <tr>\n",
       "      <th>0</th>\n",
       "      <td>GO:0032611</td>\n",
       "      <td>interleukin-1 beta production</td>\n",
       "      <td>Target</td>\n",
       "      <td>GO:0032611</td>\n",
       "    </tr>\n",
       "    <tr>\n",
       "      <th>1</th>\n",
       "      <td>NCBIGene:855057</td>\n",
       "      <td>D-arabinose 1-dehydrogenase</td>\n",
       "      <td>Target</td>\n",
       "      <td>UniProt:Q04212</td>\n",
       "    </tr>\n",
       "  </tbody>\n",
       "</table>\n",
       "</div>"
      ],
      "text/plain": [
       "                id                           name   label           xrefs\n",
       "0       GO:0032611  interleukin-1 beta production  Target      GO:0032611\n",
       "1  NCBIGene:855057    D-arabinose 1-dehydrogenase  Target  UniProt:Q04212"
      ]
     },
     "execution_count": 74,
     "metadata": {},
     "output_type": "execute_result"
    }
   ],
   "source": [
    "targets.head(2)"
   ]
  },
  {
   "cell_type": "markdown",
   "metadata": {},
   "source": [
    "## Conditions (diseases)"
   ]
  },
  {
   "cell_type": "code",
   "execution_count": 75,
   "metadata": {},
   "outputs": [
    {
     "data": {
      "text/plain": [
       "4670"
      ]
     },
     "execution_count": 75,
     "metadata": {},
     "output_type": "execute_result"
    }
   ],
   "source": [
    "conditions = hfp.records_to_condition_nodes(data)\n",
    "len(conditions)"
   ]
  },
  {
   "cell_type": "code",
   "execution_count": 76,
   "metadata": {},
   "outputs": [],
   "source": [
    "conditions['meshid'] = conditions['id']\n",
    "conditions['id'] = conditions['doid'].fillna(conditions['meshid'])"
   ]
  },
  {
   "cell_type": "code",
   "execution_count": 77,
   "metadata": {},
   "outputs": [
    {
     "data": {
      "text/plain": [
       "4575"
      ]
     },
     "execution_count": 77,
     "metadata": {},
     "output_type": "execute_result"
    }
   ],
   "source": [
    "len(conditions.dropna(subset=['id']))"
   ]
  },
  {
   "cell_type": "code",
   "execution_count": 78,
   "metadata": {},
   "outputs": [
    {
     "data": {
      "text/html": [
       "<div>\n",
       "<style scoped>\n",
       "    .dataframe tbody tr th:only-of-type {\n",
       "        vertical-align: middle;\n",
       "    }\n",
       "\n",
       "    .dataframe tbody tr th {\n",
       "        vertical-align: top;\n",
       "    }\n",
       "\n",
       "    .dataframe thead th {\n",
       "        text-align: right;\n",
       "    }\n",
       "</style>\n",
       "<table border=\"1\" class=\"dataframe\">\n",
       "  <thead>\n",
       "    <tr style=\"text-align: right;\">\n",
       "      <th></th>\n",
       "      <th>id</th>\n",
       "      <th>name</th>\n",
       "      <th>label</th>\n",
       "      <th>doid</th>\n",
       "      <th>meshid</th>\n",
       "    </tr>\n",
       "  </thead>\n",
       "  <tbody>\n",
       "    <tr>\n",
       "      <th>1463</th>\n",
       "      <td>None</td>\n",
       "      <td>Vagus nerve activation</td>\n",
       "      <td>Condition</td>\n",
       "      <td>None</td>\n",
       "      <td>None</td>\n",
       "    </tr>\n",
       "    <tr>\n",
       "      <th>1568</th>\n",
       "      <td>None</td>\n",
       "      <td>Radiation-induced hematopoietic syndrome</td>\n",
       "      <td>Condition</td>\n",
       "      <td>None</td>\n",
       "      <td>None</td>\n",
       "    </tr>\n",
       "    <tr>\n",
       "      <th>3182</th>\n",
       "      <td>None</td>\n",
       "      <td>Synchronization of estrus</td>\n",
       "      <td>Condition</td>\n",
       "      <td>None</td>\n",
       "      <td>None</td>\n",
       "    </tr>\n",
       "    <tr>\n",
       "      <th>3462</th>\n",
       "      <td>None</td>\n",
       "      <td>Nasal congestion</td>\n",
       "      <td>Condition</td>\n",
       "      <td>None</td>\n",
       "      <td>None</td>\n",
       "    </tr>\n",
       "    <tr>\n",
       "      <th>2885</th>\n",
       "      <td>None</td>\n",
       "      <td>Ideomotor deficits</td>\n",
       "      <td>Condition</td>\n",
       "      <td>None</td>\n",
       "      <td>None</td>\n",
       "    </tr>\n",
       "    <tr>\n",
       "      <th>2623</th>\n",
       "      <td>None</td>\n",
       "      <td>Inflammatory liver injury</td>\n",
       "      <td>Condition</td>\n",
       "      <td>None</td>\n",
       "      <td>None</td>\n",
       "    </tr>\n",
       "    <tr>\n",
       "      <th>382</th>\n",
       "      <td>None</td>\n",
       "      <td>Nausea and vomiting associated with moderately...</td>\n",
       "      <td>Condition</td>\n",
       "      <td>None</td>\n",
       "      <td>None</td>\n",
       "    </tr>\n",
       "    <tr>\n",
       "      <th>1494</th>\n",
       "      <td>None</td>\n",
       "      <td>Anal high-grade squamous intraepithelial lesions</td>\n",
       "      <td>Condition</td>\n",
       "      <td>None</td>\n",
       "      <td>None</td>\n",
       "    </tr>\n",
       "    <tr>\n",
       "      <th>3948</th>\n",
       "      <td>None</td>\n",
       "      <td>Umbilical cord area infection in newborn</td>\n",
       "      <td>Condition</td>\n",
       "      <td>None</td>\n",
       "      <td>None</td>\n",
       "    </tr>\n",
       "    <tr>\n",
       "      <th>2745</th>\n",
       "      <td>None</td>\n",
       "      <td>Cisplatin-induced nephrotoxicity</td>\n",
       "      <td>Condition</td>\n",
       "      <td>None</td>\n",
       "      <td>None</td>\n",
       "    </tr>\n",
       "  </tbody>\n",
       "</table>\n",
       "</div>"
      ],
      "text/plain": [
       "        id                                               name      label  \\\n",
       "1463  None                             Vagus nerve activation  Condition   \n",
       "1568  None           Radiation-induced hematopoietic syndrome  Condition   \n",
       "3182  None                          Synchronization of estrus  Condition   \n",
       "3462  None                                   Nasal congestion  Condition   \n",
       "2885  None                                 Ideomotor deficits  Condition   \n",
       "2623  None                          Inflammatory liver injury  Condition   \n",
       "382   None  Nausea and vomiting associated with moderately...  Condition   \n",
       "1494  None   Anal high-grade squamous intraepithelial lesions  Condition   \n",
       "3948  None           Umbilical cord area infection in newborn  Condition   \n",
       "2745  None                   Cisplatin-induced nephrotoxicity  Condition   \n",
       "\n",
       "      doid meshid  \n",
       "1463  None   None  \n",
       "1568  None   None  \n",
       "3182  None   None  \n",
       "3462  None   None  \n",
       "2885  None   None  \n",
       "2623  None   None  \n",
       "382   None   None  \n",
       "1494  None   None  \n",
       "3948  None   None  \n",
       "2745  None   None  "
      ]
     },
     "execution_count": 78,
     "metadata": {},
     "output_type": "execute_result"
    }
   ],
   "source": [
    "conditions[conditions['id'].isnull()].sample(10)"
   ]
  },
  {
   "cell_type": "markdown",
   "metadata": {},
   "source": [
    "looks more like symtptoms... may be able to pick these up with mydisease.info and get hpo, umls, or other idnetifiers.. but for now they're not classified as diseases so we will drop them from the network."
   ]
  },
  {
   "cell_type": "code",
   "execution_count": 79,
   "metadata": {},
   "outputs": [
    {
     "data": {
      "text/plain": [
       "(4575, 95)"
      ]
     },
     "execution_count": 79,
     "metadata": {},
     "output_type": "execute_result"
    }
   ],
   "source": [
    "diseases = conditions[~conditions['id'].isnull()].reset_index(drop=True)\n",
    "conditions = conditions[conditions['id'].isnull()].reset_index(drop=True)\n",
    "conditions['id'] = conditions['name']\n",
    "diseases['label'] = 'Disease'\n",
    "len(diseases), len(conditions)"
   ]
  },
  {
   "cell_type": "markdown",
   "metadata": {},
   "source": [
    "#### Indication edges (drug treats disease)"
   ]
  },
  {
   "cell_type": "code",
   "execution_count": 80,
   "metadata": {},
   "outputs": [
    {
     "data": {
      "text/plain": [
       "32752"
      ]
     },
     "execution_count": 80,
     "metadata": {},
     "output_type": "execute_result"
    }
   ],
   "source": [
    "ind_edges = hfp.records_to_treats_edges(data)\n",
    "len(ind_edges)"
   ]
  },
  {
   "cell_type": "code",
   "execution_count": 81,
   "metadata": {},
   "outputs": [
    {
     "data": {
      "text/html": [
       "<div>\n",
       "<style scoped>\n",
       "    .dataframe tbody tr th:only-of-type {\n",
       "        vertical-align: middle;\n",
       "    }\n",
       "\n",
       "    .dataframe tbody tr th {\n",
       "        vertical-align: top;\n",
       "    }\n",
       "\n",
       "    .dataframe thead th {\n",
       "        text-align: right;\n",
       "    }\n",
       "</style>\n",
       "<table border=\"1\" class=\"dataframe\">\n",
       "  <thead>\n",
       "    <tr style=\"text-align: right;\">\n",
       "      <th></th>\n",
       "      <th>doid</th>\n",
       "      <th>meshid</th>\n",
       "      <th>name</th>\n",
       "      <th>phase</th>\n",
       "      <th>modality</th>\n",
       "      <th>date</th>\n",
       "      <th>comp_id</th>\n",
       "    </tr>\n",
       "  </thead>\n",
       "  <tbody>\n",
       "    <tr>\n",
       "      <th>0</th>\n",
       "      <td>DOID:8893</td>\n",
       "      <td>MESH:D011565</td>\n",
       "      <td>Psoriasis</td>\n",
       "      <td>Approved</td>\n",
       "      <td>Palliative</td>\n",
       "      <td>1996-10-28</td>\n",
       "      <td>LCH760E9T7</td>\n",
       "    </tr>\n",
       "    <tr>\n",
       "      <th>1</th>\n",
       "      <td>DOID:8893</td>\n",
       "      <td>MESH:D011565</td>\n",
       "      <td>Psoriasis</td>\n",
       "      <td>Approved</td>\n",
       "      <td>Palliative</td>\n",
       "      <td>1996-10-28</td>\n",
       "      <td>BK59Y5A02O</td>\n",
       "    </tr>\n",
       "  </tbody>\n",
       "</table>\n",
       "</div>"
      ],
      "text/plain": [
       "        doid        meshid       name     phase    modality        date  \\\n",
       "0  DOID:8893  MESH:D011565  Psoriasis  Approved  Palliative  1996-10-28   \n",
       "1  DOID:8893  MESH:D011565  Psoriasis  Approved  Palliative  1996-10-28   \n",
       "\n",
       "      comp_id  \n",
       "0  LCH760E9T7  \n",
       "1  BK59Y5A02O  "
      ]
     },
     "execution_count": 81,
     "metadata": {},
     "output_type": "execute_result"
    }
   ],
   "source": [
    "ind_edges.head(2)"
   ]
  },
  {
   "cell_type": "code",
   "execution_count": 82,
   "metadata": {},
   "outputs": [],
   "source": [
    "ind_edges = ind_edges.dropna(subset=['doid', 'meshid'], how='all')"
   ]
  },
  {
   "cell_type": "code",
   "execution_count": 83,
   "metadata": {},
   "outputs": [
    {
     "data": {
      "text/plain": [
       "31545"
      ]
     },
     "execution_count": 83,
     "metadata": {},
     "output_type": "execute_result"
    }
   ],
   "source": [
    "len(ind_edges)"
   ]
  },
  {
   "cell_type": "code",
   "execution_count": 84,
   "metadata": {},
   "outputs": [
    {
     "data": {
      "text/plain": [
       "30535"
      ]
     },
     "execution_count": 84,
     "metadata": {},
     "output_type": "execute_result"
    }
   ],
   "source": [
    "ind_edges = map_inxight_chem_ids(ind_edges, 'comp_id', inxight_to_chem_id, 'start_id')\n",
    "\n",
    "ind_edges['end_id'] = ind_edges['doid'].fillna(ind_edges['meshid'])\n",
    "\n",
    "ind_edges = ind_edges.drop(['doid', 'meshid', 'name'], axis=1)\n",
    "ind_edges = ind_edges.dropna(subset=['start_id'])\n",
    "ind_edges = ind_edges.drop_duplicates()\n",
    "len(ind_edges)"
   ]
  },
  {
   "cell_type": "code",
   "execution_count": 85,
   "metadata": {},
   "outputs": [
    {
     "data": {
      "text/plain": [
       "phase       30534\n",
       "modality    30534\n",
       "date        11173\n",
       "start_id    30535\n",
       "end_id      30535\n",
       "dtype: int64"
      ]
     },
     "execution_count": 85,
     "metadata": {},
     "output_type": "execute_result"
    }
   ],
   "source": [
    "ind_edges.count()"
   ]
  },
  {
   "cell_type": "code",
   "execution_count": 86,
   "metadata": {},
   "outputs": [
    {
     "data": {
      "text/plain": [
       "Approved              16058\n",
       "Preclinical            3106\n",
       "Phase II               3042\n",
       "Basic research         2432\n",
       "Not Provided           1783\n",
       "Phase III              1578\n",
       "Phase I                1359\n",
       "Withdrawn               494\n",
       "Natural Metabolite      429\n",
       "Phase IV                253\n",
       "Name: phase, dtype: int64"
      ]
     },
     "execution_count": 86,
     "metadata": {},
     "output_type": "execute_result"
    }
   ],
   "source": [
    "ind_edges['phase'].value_counts()"
   ]
  },
  {
   "cell_type": "code",
   "execution_count": 87,
   "metadata": {},
   "outputs": [
    {
     "data": {
      "text/plain": [
       "Primary                24021\n",
       "Palliative              2856\n",
       "Preventing              1707\n",
       "Diagnostic              1308\n",
       "Secondary                323\n",
       "Inactive ingredient      314\n",
       "Preventive                 5\n",
       "Name: modality, dtype: int64"
      ]
     },
     "execution_count": 87,
     "metadata": {},
     "output_type": "execute_result"
    }
   ],
   "source": [
    "ind_edges['modality'].value_counts()"
   ]
  },
  {
   "cell_type": "code",
   "execution_count": 88,
   "metadata": {},
   "outputs": [
    {
     "data": {
      "text/html": [
       "<div>\n",
       "<style scoped>\n",
       "    .dataframe tbody tr th:only-of-type {\n",
       "        vertical-align: middle;\n",
       "    }\n",
       "\n",
       "    .dataframe tbody tr th {\n",
       "        vertical-align: top;\n",
       "    }\n",
       "\n",
       "    .dataframe thead th {\n",
       "        text-align: right;\n",
       "    }\n",
       "</style>\n",
       "<table border=\"1\" class=\"dataframe\">\n",
       "  <thead>\n",
       "    <tr style=\"text-align: right;\">\n",
       "      <th></th>\n",
       "      <th>phase</th>\n",
       "      <th>modality</th>\n",
       "      <th>date</th>\n",
       "      <th>start_id</th>\n",
       "      <th>end_id</th>\n",
       "    </tr>\n",
       "  </thead>\n",
       "  <tbody>\n",
       "    <tr>\n",
       "      <th>0</th>\n",
       "      <td>Approved</td>\n",
       "      <td>Palliative</td>\n",
       "      <td>1996-10-28</td>\n",
       "      <td>IHUNBGSDBOWDMA-AQFIFDHZSA-N</td>\n",
       "      <td>DOID:8893</td>\n",
       "    </tr>\n",
       "    <tr>\n",
       "      <th>1</th>\n",
       "      <td>Approved</td>\n",
       "      <td>Palliative</td>\n",
       "      <td>1996-10-28</td>\n",
       "      <td>IHUNBGSDBOWDMA-UGOGCBOOSA-N</td>\n",
       "      <td>DOID:8893</td>\n",
       "    </tr>\n",
       "  </tbody>\n",
       "</table>\n",
       "</div>"
      ],
      "text/plain": [
       "      phase    modality        date                     start_id     end_id\n",
       "0  Approved  Palliative  1996-10-28  IHUNBGSDBOWDMA-AQFIFDHZSA-N  DOID:8893\n",
       "1  Approved  Palliative  1996-10-28  IHUNBGSDBOWDMA-UGOGCBOOSA-N  DOID:8893"
      ]
     },
     "execution_count": 88,
     "metadata": {},
     "output_type": "execute_result"
    }
   ],
   "source": [
    "ind_edges.head(2)"
   ]
  },
  {
   "cell_type": "code",
   "execution_count": 89,
   "metadata": {},
   "outputs": [
    {
     "data": {
      "text/html": [
       "<div>\n",
       "<style scoped>\n",
       "    .dataframe tbody tr th:only-of-type {\n",
       "        vertical-align: middle;\n",
       "    }\n",
       "\n",
       "    .dataframe tbody tr th {\n",
       "        vertical-align: top;\n",
       "    }\n",
       "\n",
       "    .dataframe thead th {\n",
       "        text-align: right;\n",
       "    }\n",
       "</style>\n",
       "<table border=\"1\" class=\"dataframe\">\n",
       "  <thead>\n",
       "    <tr style=\"text-align: right;\">\n",
       "      <th></th>\n",
       "      <th>phase</th>\n",
       "      <th>modality</th>\n",
       "      <th>date</th>\n",
       "      <th>start_id</th>\n",
       "      <th>end_id</th>\n",
       "    </tr>\n",
       "  </thead>\n",
       "  <tbody>\n",
       "    <tr>\n",
       "      <th>27044</th>\n",
       "      <td>Approved</td>\n",
       "      <td>Preventive</td>\n",
       "      <td>None</td>\n",
       "      <td>RYWSYCQQUDFMAU-UHFFFAOYSA-N</td>\n",
       "      <td>DOID:2235</td>\n",
       "    </tr>\n",
       "    <tr>\n",
       "      <th>27049</th>\n",
       "      <td>Approved</td>\n",
       "      <td>Preventive</td>\n",
       "      <td>1981-12-31</td>\n",
       "      <td>GZBACHSOZNEZOG-UHFFFAOYSA-J</td>\n",
       "      <td>MESH:D006470</td>\n",
       "    </tr>\n",
       "    <tr>\n",
       "      <th>27050</th>\n",
       "      <td>Approved</td>\n",
       "      <td>Preventive</td>\n",
       "      <td>1981-12-31</td>\n",
       "      <td>ZJTLZYDQJHKRMQ-UHFFFAOYSA-N</td>\n",
       "      <td>MESH:D006470</td>\n",
       "    </tr>\n",
       "    <tr>\n",
       "      <th>27051</th>\n",
       "      <td>Approved</td>\n",
       "      <td>Preventive</td>\n",
       "      <td>1981-12-31</td>\n",
       "      <td>JTNHOVZOOVVGHI-UHFFFAOYSA-N</td>\n",
       "      <td>MESH:D006470</td>\n",
       "    </tr>\n",
       "    <tr>\n",
       "      <th>27052</th>\n",
       "      <td>Approved</td>\n",
       "      <td>Preventive</td>\n",
       "      <td>1981-12-31</td>\n",
       "      <td>QIWDGSYHBCMXSI-UHFFFAOYSA-J</td>\n",
       "      <td>MESH:D006470</td>\n",
       "    </tr>\n",
       "  </tbody>\n",
       "</table>\n",
       "</div>"
      ],
      "text/plain": [
       "          phase    modality        date                     start_id  \\\n",
       "27044  Approved  Preventive        None  RYWSYCQQUDFMAU-UHFFFAOYSA-N   \n",
       "27049  Approved  Preventive  1981-12-31  GZBACHSOZNEZOG-UHFFFAOYSA-J   \n",
       "27050  Approved  Preventive  1981-12-31  ZJTLZYDQJHKRMQ-UHFFFAOYSA-N   \n",
       "27051  Approved  Preventive  1981-12-31  JTNHOVZOOVVGHI-UHFFFAOYSA-N   \n",
       "27052  Approved  Preventive  1981-12-31  QIWDGSYHBCMXSI-UHFFFAOYSA-J   \n",
       "\n",
       "             end_id  \n",
       "27044     DOID:2235  \n",
       "27049  MESH:D006470  \n",
       "27050  MESH:D006470  \n",
       "27051  MESH:D006470  \n",
       "27052  MESH:D006470  "
      ]
     },
     "execution_count": 89,
     "metadata": {},
     "output_type": "execute_result"
    }
   ],
   "source": [
    "ind_edges.query('modality == \"Preventive\"')"
   ]
  },
  {
   "cell_type": "code",
   "execution_count": 90,
   "metadata": {},
   "outputs": [
    {
     "data": {
      "text/html": [
       "<div>\n",
       "<style scoped>\n",
       "    .dataframe tbody tr th:only-of-type {\n",
       "        vertical-align: middle;\n",
       "    }\n",
       "\n",
       "    .dataframe tbody tr th {\n",
       "        vertical-align: top;\n",
       "    }\n",
       "\n",
       "    .dataframe thead th {\n",
       "        text-align: right;\n",
       "    }\n",
       "</style>\n",
       "<table border=\"1\" class=\"dataframe\">\n",
       "  <thead>\n",
       "    <tr style=\"text-align: right;\">\n",
       "      <th></th>\n",
       "      <th>start_id</th>\n",
       "      <th>end_id</th>\n",
       "      <th>type</th>\n",
       "      <th>phase</th>\n",
       "      <th>date</th>\n",
       "      <th>source</th>\n",
       "      <th>dsrc_type</th>\n",
       "      <th>license</th>\n",
       "    </tr>\n",
       "  </thead>\n",
       "  <tbody>\n",
       "    <tr>\n",
       "      <th>0</th>\n",
       "      <td>IHUNBGSDBOWDMA-AQFIFDHZSA-N</td>\n",
       "      <td>DOID:8893</td>\n",
       "      <td>Palliative</td>\n",
       "      <td>Approved</td>\n",
       "      <td>1996-10-28</td>\n",
       "      <td>Inxight Drugs</td>\n",
       "      <td>aggregated</td>\n",
       "      <td>mixed</td>\n",
       "    </tr>\n",
       "    <tr>\n",
       "      <th>1</th>\n",
       "      <td>IHUNBGSDBOWDMA-UGOGCBOOSA-N</td>\n",
       "      <td>DOID:8893</td>\n",
       "      <td>Palliative</td>\n",
       "      <td>Approved</td>\n",
       "      <td>1996-10-28</td>\n",
       "      <td>Inxight Drugs</td>\n",
       "      <td>aggregated</td>\n",
       "      <td>mixed</td>\n",
       "    </tr>\n",
       "  </tbody>\n",
       "</table>\n",
       "</div>"
      ],
      "text/plain": [
       "                      start_id     end_id        type     phase        date  \\\n",
       "0  IHUNBGSDBOWDMA-AQFIFDHZSA-N  DOID:8893  Palliative  Approved  1996-10-28   \n",
       "1  IHUNBGSDBOWDMA-UGOGCBOOSA-N  DOID:8893  Palliative  Approved  1996-10-28   \n",
       "\n",
       "          source   dsrc_type license  \n",
       "0  Inxight Drugs  aggregated   mixed  \n",
       "1  Inxight Drugs  aggregated   mixed  "
      ]
     },
     "execution_count": 90,
     "metadata": {},
     "output_type": "execute_result"
    }
   ],
   "source": [
    "ind_edges = ind_edges.rename(columns={'modality': 'type'})\n",
    "ind_edges['source'] = 'Inxight Drugs'\n",
    "ind_edges['dsrc_type'] = 'aggregated'\n",
    "ind_edges['license'] = 'mixed'\n",
    "ind_edges = gt.order_cols(ind_edges)\n",
    "ind_edges.head(2)"
   ]
  },
  {
   "cell_type": "markdown",
   "metadata": {},
   "source": [
    "## Have some extra info from myche re: targets... Will parse them and compare."
   ]
  },
  {
   "cell_type": "code",
   "execution_count": 91,
   "metadata": {},
   "outputs": [],
   "source": [
    "dbt_nodes, dbt_edges = bp.get_drugbank_targets(mychem_res)"
   ]
  },
  {
   "cell_type": "code",
   "execution_count": 92,
   "metadata": {},
   "outputs": [
    {
     "data": {
      "text/html": [
       "<div>\n",
       "<style scoped>\n",
       "    .dataframe tbody tr th:only-of-type {\n",
       "        vertical-align: middle;\n",
       "    }\n",
       "\n",
       "    .dataframe tbody tr th {\n",
       "        vertical-align: top;\n",
       "    }\n",
       "\n",
       "    .dataframe thead th {\n",
       "        text-align: right;\n",
       "    }\n",
       "</style>\n",
       "<table border=\"1\" class=\"dataframe\">\n",
       "  <thead>\n",
       "    <tr style=\"text-align: right;\">\n",
       "      <th></th>\n",
       "      <th>gene_name</th>\n",
       "      <th>name</th>\n",
       "      <th>organism</th>\n",
       "      <th>source</th>\n",
       "      <th>uniprot</th>\n",
       "    </tr>\n",
       "  </thead>\n",
       "  <tbody>\n",
       "    <tr>\n",
       "      <th>0</th>\n",
       "      <td>RXRA</td>\n",
       "      <td>Retinoic acid receptor RXR-alpha</td>\n",
       "      <td>Humans</td>\n",
       "      <td>Swiss-Prot</td>\n",
       "      <td>P19793</td>\n",
       "    </tr>\n",
       "    <tr>\n",
       "      <th>1</th>\n",
       "      <td>RARA</td>\n",
       "      <td>Retinoic acid receptor alpha</td>\n",
       "      <td>Humans</td>\n",
       "      <td>Swiss-Prot</td>\n",
       "      <td>P10276</td>\n",
       "    </tr>\n",
       "  </tbody>\n",
       "</table>\n",
       "</div>"
      ],
      "text/plain": [
       "  gene_name                              name organism      source uniprot\n",
       "0      RXRA  Retinoic acid receptor RXR-alpha   Humans  Swiss-Prot  P19793\n",
       "1      RARA      Retinoic acid receptor alpha   Humans  Swiss-Prot  P10276"
      ]
     },
     "execution_count": 92,
     "metadata": {},
     "output_type": "execute_result"
    }
   ],
   "source": [
    "dbt_nodes.head(2)"
   ]
  },
  {
   "cell_type": "code",
   "execution_count": 93,
   "metadata": {},
   "outputs": [
    {
     "data": {
      "text/html": [
       "<div>\n",
       "<style scoped>\n",
       "    .dataframe tbody tr th:only-of-type {\n",
       "        vertical-align: middle;\n",
       "    }\n",
       "\n",
       "    .dataframe tbody tr th {\n",
       "        vertical-align: top;\n",
       "    }\n",
       "\n",
       "    .dataframe thead th {\n",
       "        text-align: right;\n",
       "    }\n",
       "</style>\n",
       "<table border=\"1\" class=\"dataframe\">\n",
       "  <thead>\n",
       "    <tr style=\"text-align: right;\">\n",
       "      <th></th>\n",
       "      <th>drugbank_id</th>\n",
       "      <th>compound_q_id</th>\n",
       "      <th>gene_name</th>\n",
       "      <th>name</th>\n",
       "      <th>actions</th>\n",
       "      <th>pmids</th>\n",
       "      <th>uniprot</th>\n",
       "    </tr>\n",
       "  </thead>\n",
       "  <tbody>\n",
       "    <tr>\n",
       "      <th>0</th>\n",
       "      <td>DB00459</td>\n",
       "      <td>LCH760E9T7</td>\n",
       "      <td>RXRA</td>\n",
       "      <td>Retinoic acid receptor RXR-alpha</td>\n",
       "      <td>agonist</td>\n",
       "      <td>9074840|9153406</td>\n",
       "      <td>P19793</td>\n",
       "    </tr>\n",
       "    <tr>\n",
       "      <th>1</th>\n",
       "      <td>DB00459</td>\n",
       "      <td>LCH760E9T7</td>\n",
       "      <td>RARA</td>\n",
       "      <td>Retinoic acid receptor alpha</td>\n",
       "      <td>agonist</td>\n",
       "      <td>19144697|9074840|10459139|9153406</td>\n",
       "      <td>P10276</td>\n",
       "    </tr>\n",
       "  </tbody>\n",
       "</table>\n",
       "</div>"
      ],
      "text/plain": [
       "  drugbank_id compound_q_id gene_name                              name  \\\n",
       "0     DB00459    LCH760E9T7      RXRA  Retinoic acid receptor RXR-alpha   \n",
       "1     DB00459    LCH760E9T7      RARA      Retinoic acid receptor alpha   \n",
       "\n",
       "   actions                              pmids uniprot  \n",
       "0  agonist                    9074840|9153406  P19793  \n",
       "1  agonist  19144697|9074840|10459139|9153406  P10276  "
      ]
     },
     "execution_count": 93,
     "metadata": {},
     "output_type": "execute_result"
    }
   ],
   "source": [
    "dbt_edges.head(2)"
   ]
  },
  {
   "cell_type": "code",
   "execution_count": 94,
   "metadata": {},
   "outputs": [
    {
     "data": {
      "text/plain": [
       "gene_name    3638\n",
       "name         3940\n",
       "organism      519\n",
       "source          2\n",
       "uniprot      4270\n",
       "dtype: int64"
      ]
     },
     "execution_count": 94,
     "metadata": {},
     "output_type": "execute_result"
    }
   ],
   "source": [
    "dbt_nodes.nunique()"
   ]
  },
  {
   "cell_type": "code",
   "execution_count": 95,
   "metadata": {},
   "outputs": [
    {
     "data": {
      "text/plain": [
       "Humans                                                                          11713\n",
       "Escherichia coli (strain K12)                                                     885\n",
       "Mycobacterium tuberculosis                                                        156\n",
       "Bacillus subtilis (strain 168)                                                     95\n",
       "Escherichia coli                                                                   92\n",
       "Salmonella typhimurium (strain LT2 / SGSC1412 / ATCC 700720)                       90\n",
       "Pseudomonas aeruginosa (strain ATCC 15692 / PAO1 / 1C / PRS 101 / LMG 12228)       79\n",
       "Thermotoga maritima (strain ATCC 43589 / MSB8 / DSM 3109 / JCM 10099)              74\n",
       "Streptococcus pneumoniae (strain ATCC BAA-255 / R6)                                73\n",
       "Shigella flexneri                                                                  66\n",
       "Name: organism, dtype: int64"
      ]
     },
     "execution_count": 95,
     "metadata": {},
     "output_type": "execute_result"
    }
   ],
   "source": [
    "dbt_nodes['organism'].value_counts().head(10)"
   ]
  },
  {
   "cell_type": "code",
   "execution_count": 96,
   "metadata": {},
   "outputs": [
    {
     "data": {
      "text/plain": [
       "inhibitor        2100\n",
       "antagonist       1134\n",
       "agonist           800\n",
       "potentiator       293\n",
       "binder            155\n",
       "cofactor           98\n",
       "ligand             96\n",
       "activator          67\n",
       "other/unknown      58\n",
       "inducer            57\n",
       "Name: actions, dtype: int64"
      ]
     },
     "execution_count": 96,
     "metadata": {},
     "output_type": "execute_result"
    }
   ],
   "source": [
    "dbt_edges['actions'].value_counts().head(10)"
   ]
  },
  {
   "cell_type": "code",
   "execution_count": 97,
   "metadata": {},
   "outputs": [],
   "source": [
    "dct_nodes, dct_edges = bp.get_drugcentral_targets(mychem_res)"
   ]
  },
  {
   "cell_type": "code",
   "execution_count": 98,
   "metadata": {},
   "outputs": [
    {
     "data": {
      "text/html": [
       "<div>\n",
       "<style scoped>\n",
       "    .dataframe tbody tr th:only-of-type {\n",
       "        vertical-align: middle;\n",
       "    }\n",
       "\n",
       "    .dataframe tbody tr th {\n",
       "        vertical-align: top;\n",
       "    }\n",
       "\n",
       "    .dataframe thead th {\n",
       "        text-align: right;\n",
       "    }\n",
       "</style>\n",
       "<table border=\"1\" class=\"dataframe\">\n",
       "  <thead>\n",
       "    <tr style=\"text-align: right;\">\n",
       "      <th></th>\n",
       "      <th>gene_symbol</th>\n",
       "      <th>swissprot_entry</th>\n",
       "      <th>target_name</th>\n",
       "      <th>target_class</th>\n",
       "      <th>organism</th>\n",
       "      <th>uniprot_id</th>\n",
       "    </tr>\n",
       "  </thead>\n",
       "  <tbody>\n",
       "    <tr>\n",
       "      <th>0</th>\n",
       "      <td>RARA</td>\n",
       "      <td>RARA_HUMAN</td>\n",
       "      <td>Retinoic acid receptor alpha</td>\n",
       "      <td>Nuclear hormone receptor</td>\n",
       "      <td>Homo sapiens</td>\n",
       "      <td>P10276</td>\n",
       "    </tr>\n",
       "    <tr>\n",
       "      <th>1</th>\n",
       "      <td>RARG</td>\n",
       "      <td>RARG_HUMAN</td>\n",
       "      <td>Retinoic acid receptor gamma</td>\n",
       "      <td>Nuclear hormone receptor</td>\n",
       "      <td>Homo sapiens</td>\n",
       "      <td>P13631</td>\n",
       "    </tr>\n",
       "  </tbody>\n",
       "</table>\n",
       "</div>"
      ],
      "text/plain": [
       "  gene_symbol swissprot_entry                   target_name  \\\n",
       "0        RARA      RARA_HUMAN  Retinoic acid receptor alpha   \n",
       "1        RARG      RARG_HUMAN  Retinoic acid receptor gamma   \n",
       "\n",
       "               target_class      organism uniprot_id  \n",
       "0  Nuclear hormone receptor  Homo sapiens     P10276  \n",
       "1  Nuclear hormone receptor  Homo sapiens     P13631  "
      ]
     },
     "execution_count": 98,
     "metadata": {},
     "output_type": "execute_result"
    }
   ],
   "source": [
    "dct_nodes.head(2)"
   ]
  },
  {
   "cell_type": "code",
   "execution_count": 99,
   "metadata": {},
   "outputs": [
    {
     "data": {
      "text/html": [
       "<div>\n",
       "<style scoped>\n",
       "    .dataframe tbody tr th:only-of-type {\n",
       "        vertical-align: middle;\n",
       "    }\n",
       "\n",
       "    .dataframe tbody tr th {\n",
       "        vertical-align: top;\n",
       "    }\n",
       "\n",
       "    .dataframe thead th {\n",
       "        text-align: right;\n",
       "    }\n",
       "</style>\n",
       "<table border=\"1\" class=\"dataframe\">\n",
       "  <thead>\n",
       "    <tr style=\"text-align: right;\">\n",
       "      <th></th>\n",
       "      <th>compound_q_id</th>\n",
       "      <th>gene_symbol</th>\n",
       "      <th>action_type</th>\n",
       "      <th>moa_source</th>\n",
       "      <th>moa</th>\n",
       "      <th>act_source</th>\n",
       "      <th>uniprot_id</th>\n",
       "      <th>target_name</th>\n",
       "      <th>act_type</th>\n",
       "      <th>act_value</th>\n",
       "    </tr>\n",
       "  </thead>\n",
       "  <tbody>\n",
       "    <tr>\n",
       "      <th>0</th>\n",
       "      <td>LCH760E9T7</td>\n",
       "      <td>RARA</td>\n",
       "      <td>AGONIST</td>\n",
       "      <td>CHEMBL</td>\n",
       "      <td>1.0</td>\n",
       "      <td>WOMBAT-PK</td>\n",
       "      <td>P10276</td>\n",
       "      <td>Retinoic acid receptor alpha</td>\n",
       "      <td>NaN</td>\n",
       "      <td>NaN</td>\n",
       "    </tr>\n",
       "    <tr>\n",
       "      <th>1</th>\n",
       "      <td>LCH760E9T7</td>\n",
       "      <td>RARG</td>\n",
       "      <td>AGONIST</td>\n",
       "      <td>CHEMBL</td>\n",
       "      <td>1.0</td>\n",
       "      <td>CHEMBL</td>\n",
       "      <td>P13631</td>\n",
       "      <td>Retinoic acid receptor gamma</td>\n",
       "      <td>NaN</td>\n",
       "      <td>NaN</td>\n",
       "    </tr>\n",
       "  </tbody>\n",
       "</table>\n",
       "</div>"
      ],
      "text/plain": [
       "  compound_q_id gene_symbol action_type moa_source  moa act_source uniprot_id  \\\n",
       "0    LCH760E9T7        RARA     AGONIST     CHEMBL  1.0  WOMBAT-PK     P10276   \n",
       "1    LCH760E9T7        RARG     AGONIST     CHEMBL  1.0     CHEMBL     P13631   \n",
       "\n",
       "                    target_name act_type  act_value  \n",
       "0  Retinoic acid receptor alpha      NaN        NaN  \n",
       "1  Retinoic acid receptor gamma      NaN        NaN  "
      ]
     },
     "execution_count": 99,
     "metadata": {},
     "output_type": "execute_result"
    }
   ],
   "source": [
    "dct_edges.head(2)"
   ]
  },
  {
   "cell_type": "code",
   "execution_count": 100,
   "metadata": {},
   "outputs": [
    {
     "data": {
      "text/plain": [
       "INHIBITOR                        932\n",
       "AGONIST                          521\n",
       "ANTAGONIST                       453\n",
       "BLOCKER                          200\n",
       "POSITIVE ALLOSTERIC MODULATOR     97\n",
       "ACTIVATOR                         37\n",
       "OTHER                             36\n",
       "OPENER                            20\n",
       "MODULATOR                         20\n",
       "PARTIAL AGONIST                   18\n",
       "Name: action_type, dtype: int64"
      ]
     },
     "execution_count": 100,
     "metadata": {},
     "output_type": "execute_result"
    }
   ],
   "source": [
    "dct_edges['action_type'].value_counts().head(10)"
   ]
  },
  {
   "cell_type": "markdown",
   "metadata": {},
   "source": [
    "### Get mappings for all these uniprot targets..."
   ]
  },
  {
   "cell_type": "code",
   "execution_count": 101,
   "metadata": {},
   "outputs": [
    {
     "name": "stdout",
     "output_type": "stream",
     "text": [
      "querying 1-1000...done.\n",
      "querying 1001-2000...done.\n",
      "querying 2001-3000...done.\n",
      "querying 3001-4000...done.\n",
      "querying 4001-5000...done.\n",
      "querying 5001-5455...done.\n",
      "Finished.\n",
      "97 input query terms found dup hits:\n",
      "\t[('P08877', 2), ('P0A6B1', 2), ('P02980', 4), ('Q06241', 4), ('P06310', 2), ('Q9F663', 20), ('P50247\n",
      "1031 input query terms found no hit:\n",
      "\t['P18113', 'P22906', 'Q54873', 'P11922', 'Q81R22', 'Q8GJ44', 'P63231', 'Q6PYX1', 'P06727', 'Q968X7',\n"
     ]
    }
   ],
   "source": [
    "uniprot_ids = set(dbt_edges['uniprot'].dropna()) | set(list(chain(*[x.split('|') for x in dct_edges['uniprot_id'].dropna()])))\n",
    "uniprot_ids = uniprot_ids - set(uniprot_map.keys())\n",
    "\n",
    "qr = mg.querymany(uniprot_ids, scopes='uniprot', fields=['entrezgene'], size=100, returnall=True)\n",
    "uniprot_map = pd.concat([make_mg_uniprot_map(qr), uniprot_map], sort=False, ignore_index=True).drop_duplicates()"
   ]
  },
  {
   "cell_type": "code",
   "execution_count": 102,
   "metadata": {},
   "outputs": [],
   "source": [
    "# Start with uniprot mappable to entrez\n",
    "dbt_nodes = map_uniprot_to_entrez(dbt_nodes, 'uniprot', uniprot_map, 'id')"
   ]
  },
  {
   "cell_type": "code",
   "execution_count": 103,
   "metadata": {},
   "outputs": [],
   "source": [
    "dbt_nodes['id'] = 'NCBIGene:' + dbt_nodes['id']"
   ]
  },
  {
   "cell_type": "code",
   "execution_count": 104,
   "metadata": {},
   "outputs": [
    {
     "data": {
      "text/html": [
       "<div>\n",
       "<style scoped>\n",
       "    .dataframe tbody tr th:only-of-type {\n",
       "        vertical-align: middle;\n",
       "    }\n",
       "\n",
       "    .dataframe tbody tr th {\n",
       "        vertical-align: top;\n",
       "    }\n",
       "\n",
       "    .dataframe thead th {\n",
       "        text-align: right;\n",
       "    }\n",
       "</style>\n",
       "<table border=\"1\" class=\"dataframe\">\n",
       "  <thead>\n",
       "    <tr style=\"text-align: right;\">\n",
       "      <th></th>\n",
       "      <th>id</th>\n",
       "      <th>name</th>\n",
       "      <th>label</th>\n",
       "      <th>gene_symbol</th>\n",
       "      <th>organism</th>\n",
       "      <th>source</th>\n",
       "      <th>uniprot_id</th>\n",
       "      <th>id_source</th>\n",
       "    </tr>\n",
       "  </thead>\n",
       "  <tbody>\n",
       "    <tr>\n",
       "      <th>0</th>\n",
       "      <td>NCBIGene:6256</td>\n",
       "      <td>Retinoic acid receptor RXR-alpha</td>\n",
       "      <td>Target</td>\n",
       "      <td>RXRA</td>\n",
       "      <td>Homo sapiens</td>\n",
       "      <td>Swiss-Prot</td>\n",
       "      <td>P19793</td>\n",
       "      <td>entrez</td>\n",
       "    </tr>\n",
       "    <tr>\n",
       "      <th>1</th>\n",
       "      <td>NCBIGene:5914</td>\n",
       "      <td>Retinoic acid receptor alpha</td>\n",
       "      <td>Target</td>\n",
       "      <td>RARA</td>\n",
       "      <td>Homo sapiens</td>\n",
       "      <td>Swiss-Prot</td>\n",
       "      <td>P10276</td>\n",
       "      <td>entrez</td>\n",
       "    </tr>\n",
       "  </tbody>\n",
       "</table>\n",
       "</div>"
      ],
      "text/plain": [
       "              id                              name   label gene_symbol  \\\n",
       "0  NCBIGene:6256  Retinoic acid receptor RXR-alpha  Target        RXRA   \n",
       "1  NCBIGene:5914      Retinoic acid receptor alpha  Target        RARA   \n",
       "\n",
       "       organism      source uniprot_id id_source  \n",
       "0  Homo sapiens  Swiss-Prot     P19793    entrez  \n",
       "1  Homo sapiens  Swiss-Prot     P10276    entrez  "
      ]
     },
     "execution_count": 104,
     "metadata": {},
     "output_type": "execute_result"
    }
   ],
   "source": [
    "dbt_nodes.loc[dbt_nodes['id'].dropna().index, 'id_source'] = 'entrez'\n",
    "# Take uniprot ids\n",
    "dbt_nodes['id'] = dbt_nodes['id'].fillna('UniProt:' + dbt_nodes['uniprot'])\n",
    "dbt_nodes.loc[dbt_nodes['id'].dropna().index, 'id_source'] = \\\n",
    "        dbt_nodes.loc[dbt_nodes['id'].dropna().index, 'id_source'].fillna('uniprot')\n",
    "\n",
    "# Drop those without an identifier\n",
    "dbt_nodes = dbt_nodes.dropna(subset=['id'])\n",
    "\n",
    "# Standardize column names between sources\n",
    "dbt_nodes = dbt_nodes.rename(columns={'uniprot': 'uniprot_id', 'gene_name': 'gene_symbol'})\n",
    "dbt_nodes['organism'] = dbt_nodes['organism'].str.replace('Humans', 'Homo sapiens')\n",
    "dbt_nodes = dbt_nodes.dropna(subset=['id']).drop_duplicates(subset=['id'])\n",
    "dbt_nodes['label'] = 'Target'\n",
    "dbt_nodes = gt.order_cols(dbt_nodes)\n",
    "\n",
    "dbt_nodes.head(2)"
   ]
  },
  {
   "cell_type": "code",
   "execution_count": 105,
   "metadata": {},
   "outputs": [
    {
     "data": {
      "text/html": [
       "<div>\n",
       "<style scoped>\n",
       "    .dataframe tbody tr th:only-of-type {\n",
       "        vertical-align: middle;\n",
       "    }\n",
       "\n",
       "    .dataframe tbody tr th {\n",
       "        vertical-align: top;\n",
       "    }\n",
       "\n",
       "    .dataframe thead th {\n",
       "        text-align: right;\n",
       "    }\n",
       "</style>\n",
       "<table border=\"1\" class=\"dataframe\">\n",
       "  <thead>\n",
       "    <tr style=\"text-align: right;\">\n",
       "      <th></th>\n",
       "      <th>drugbank_id</th>\n",
       "      <th>compound_q_id</th>\n",
       "      <th>gene_name</th>\n",
       "      <th>name</th>\n",
       "      <th>actions</th>\n",
       "      <th>pmids</th>\n",
       "      <th>uniprot</th>\n",
       "    </tr>\n",
       "  </thead>\n",
       "  <tbody>\n",
       "    <tr>\n",
       "      <th>0</th>\n",
       "      <td>DB00459</td>\n",
       "      <td>LCH760E9T7</td>\n",
       "      <td>RXRA</td>\n",
       "      <td>Retinoic acid receptor RXR-alpha</td>\n",
       "      <td>agonist</td>\n",
       "      <td>9074840|9153406</td>\n",
       "      <td>P19793</td>\n",
       "    </tr>\n",
       "    <tr>\n",
       "      <th>1</th>\n",
       "      <td>DB00459</td>\n",
       "      <td>LCH760E9T7</td>\n",
       "      <td>RARA</td>\n",
       "      <td>Retinoic acid receptor alpha</td>\n",
       "      <td>agonist</td>\n",
       "      <td>19144697|9074840|10459139|9153406</td>\n",
       "      <td>P10276</td>\n",
       "    </tr>\n",
       "  </tbody>\n",
       "</table>\n",
       "</div>"
      ],
      "text/plain": [
       "  drugbank_id compound_q_id gene_name                              name  \\\n",
       "0     DB00459    LCH760E9T7      RXRA  Retinoic acid receptor RXR-alpha   \n",
       "1     DB00459    LCH760E9T7      RARA      Retinoic acid receptor alpha   \n",
       "\n",
       "   actions                              pmids uniprot  \n",
       "0  agonist                    9074840|9153406  P19793  \n",
       "1  agonist  19144697|9074840|10459139|9153406  P10276  "
      ]
     },
     "execution_count": 105,
     "metadata": {},
     "output_type": "execute_result"
    }
   ],
   "source": [
    "dbt_edges = expand_col_on_char(dbt_edges, 'actions', '|')\n",
    "dbt_edges.head(2)"
   ]
  },
  {
   "cell_type": "code",
   "execution_count": 106,
   "metadata": {},
   "outputs": [
    {
     "data": {
      "text/html": [
       "<div>\n",
       "<style scoped>\n",
       "    .dataframe tbody tr th:only-of-type {\n",
       "        vertical-align: middle;\n",
       "    }\n",
       "\n",
       "    .dataframe tbody tr th {\n",
       "        vertical-align: top;\n",
       "    }\n",
       "\n",
       "    .dataframe thead th {\n",
       "        text-align: right;\n",
       "    }\n",
       "</style>\n",
       "<table border=\"1\" class=\"dataframe\">\n",
       "  <thead>\n",
       "    <tr style=\"text-align: right;\">\n",
       "      <th></th>\n",
       "      <th>start_id</th>\n",
       "      <th>end_id</th>\n",
       "      <th>type</th>\n",
       "      <th>pmids</th>\n",
       "      <th>source</th>\n",
       "      <th>dsrc_type</th>\n",
       "      <th>license</th>\n",
       "    </tr>\n",
       "  </thead>\n",
       "  <tbody>\n",
       "    <tr>\n",
       "      <th>0</th>\n",
       "      <td>IHUNBGSDBOWDMA-AQFIFDHZSA-N</td>\n",
       "      <td>NCBIGene:6256</td>\n",
       "      <td>agonist</td>\n",
       "      <td>9074840|9153406</td>\n",
       "      <td>DrugBank</td>\n",
       "      <td>curated</td>\n",
       "      <td>CC-BY-NC 4.0</td>\n",
       "    </tr>\n",
       "    <tr>\n",
       "      <th>1</th>\n",
       "      <td>IHUNBGSDBOWDMA-AQFIFDHZSA-N</td>\n",
       "      <td>NCBIGene:5914</td>\n",
       "      <td>agonist</td>\n",
       "      <td>19144697|9074840|10459139|9153406</td>\n",
       "      <td>DrugBank</td>\n",
       "      <td>curated</td>\n",
       "      <td>CC-BY-NC 4.0</td>\n",
       "    </tr>\n",
       "  </tbody>\n",
       "</table>\n",
       "</div>"
      ],
      "text/plain": [
       "                      start_id         end_id     type  \\\n",
       "0  IHUNBGSDBOWDMA-AQFIFDHZSA-N  NCBIGene:6256  agonist   \n",
       "1  IHUNBGSDBOWDMA-AQFIFDHZSA-N  NCBIGene:5914  agonist   \n",
       "\n",
       "                               pmids    source dsrc_type       license  \n",
       "0                    9074840|9153406  DrugBank   curated  CC-BY-NC 4.0  \n",
       "1  19144697|9074840|10459139|9153406  DrugBank   curated  CC-BY-NC 4.0  "
      ]
     },
     "execution_count": 106,
     "metadata": {},
     "output_type": "execute_result"
    }
   ],
   "source": [
    "# Get chem and target IDs mapped\n",
    "dbt_edges = map_inxight_chem_ids(dbt_edges, 'compound_q_id', inxight_to_chem_id, 'start_id')\n",
    "dbt_edges = map_uniprot_to_entrez(dbt_edges, 'uniprot', uniprot_map, 'end_id')\n",
    "dbt_edges['end_id'] = 'NCBIGene:' + dbt_edges['end_id']\n",
    "dbt_edges['end_id'] = dbt_edges['end_id'].fillna('UniProt:' + dbt_edges['uniprot'])\n",
    "\n",
    "# Some have no action, so a simple 'targets' will be used to described the drug-to-target relationship\n",
    "dbt_edges['actions'] = dbt_edges['actions'].fillna('targets')\n",
    "keep_col = ['start_id', 'end_id', 'actions']\n",
    "dbt_edges = dbt_edges.dropna(subset=keep_col).drop_duplicates(subset=keep_col)\n",
    "\n",
    "# standardize column names and remove unused columns\n",
    "dbt_edges = dbt_edges.rename(columns={'actions': 'type'})\n",
    "dbt_edges['type'] = dbt_edges['type'].str.lower()\n",
    "dbt_edges = dbt_edges.drop(['drugbank_id', 'gene_name', 'name', 'uniprot'], axis=1)\n",
    "\n",
    "# Data source information\n",
    "dbt_edges['source'] = 'DrugBank'\n",
    "dbt_edges['dsrc_type'] = 'curated'\n",
    "dbt_edges['license'] = 'CC-BY-NC 4.0'\n",
    "dbt_edges = gt.order_cols(dbt_edges)\n",
    "\n",
    "dbt_edges.head(2)"
   ]
  },
  {
   "cell_type": "code",
   "execution_count": 107,
   "metadata": {},
   "outputs": [
    {
     "data": {
      "text/html": [
       "<div>\n",
       "<style scoped>\n",
       "    .dataframe tbody tr th:only-of-type {\n",
       "        vertical-align: middle;\n",
       "    }\n",
       "\n",
       "    .dataframe tbody tr th {\n",
       "        vertical-align: top;\n",
       "    }\n",
       "\n",
       "    .dataframe thead th {\n",
       "        text-align: right;\n",
       "    }\n",
       "</style>\n",
       "<table border=\"1\" class=\"dataframe\">\n",
       "  <thead>\n",
       "    <tr style=\"text-align: right;\">\n",
       "      <th></th>\n",
       "      <th>gene_symbol</th>\n",
       "      <th>swissprot_entry</th>\n",
       "      <th>target_name</th>\n",
       "      <th>target_class</th>\n",
       "      <th>organism</th>\n",
       "      <th>uniprot_id</th>\n",
       "    </tr>\n",
       "  </thead>\n",
       "  <tbody>\n",
       "    <tr>\n",
       "      <th>0</th>\n",
       "      <td>RARA</td>\n",
       "      <td>RARA_HUMAN</td>\n",
       "      <td>Retinoic acid receptor alpha</td>\n",
       "      <td>Nuclear hormone receptor</td>\n",
       "      <td>Homo sapiens</td>\n",
       "      <td>P10276</td>\n",
       "    </tr>\n",
       "    <tr>\n",
       "      <th>1</th>\n",
       "      <td>RARG</td>\n",
       "      <td>RARG_HUMAN</td>\n",
       "      <td>Retinoic acid receptor gamma</td>\n",
       "      <td>Nuclear hormone receptor</td>\n",
       "      <td>Homo sapiens</td>\n",
       "      <td>P13631</td>\n",
       "    </tr>\n",
       "  </tbody>\n",
       "</table>\n",
       "</div>"
      ],
      "text/plain": [
       "  gene_symbol swissprot_entry                   target_name  \\\n",
       "0        RARA      RARA_HUMAN  Retinoic acid receptor alpha   \n",
       "1        RARG      RARG_HUMAN  Retinoic acid receptor gamma   \n",
       "\n",
       "               target_class      organism uniprot_id  \n",
       "0  Nuclear hormone receptor  Homo sapiens     P10276  \n",
       "1  Nuclear hormone receptor  Homo sapiens     P13631  "
      ]
     },
     "execution_count": 107,
     "metadata": {},
     "output_type": "execute_result"
    }
   ],
   "source": [
    "dct_nodes = expand_col_on_char(dct_nodes, 'uniprot_id', '|')\n",
    "dct_nodes.head(2)"
   ]
  },
  {
   "cell_type": "code",
   "execution_count": 108,
   "metadata": {},
   "outputs": [
    {
     "data": {
      "text/html": [
       "<div>\n",
       "<style scoped>\n",
       "    .dataframe tbody tr th:only-of-type {\n",
       "        vertical-align: middle;\n",
       "    }\n",
       "\n",
       "    .dataframe tbody tr th {\n",
       "        vertical-align: top;\n",
       "    }\n",
       "\n",
       "    .dataframe thead th {\n",
       "        text-align: right;\n",
       "    }\n",
       "</style>\n",
       "<table border=\"1\" class=\"dataframe\">\n",
       "  <thead>\n",
       "    <tr style=\"text-align: right;\">\n",
       "      <th></th>\n",
       "      <th>id</th>\n",
       "      <th>name</th>\n",
       "      <th>label</th>\n",
       "      <th>gene_symbol</th>\n",
       "      <th>swissprot_entry</th>\n",
       "      <th>target_class</th>\n",
       "      <th>organism</th>\n",
       "      <th>uniprot_id</th>\n",
       "      <th>id_source</th>\n",
       "    </tr>\n",
       "  </thead>\n",
       "  <tbody>\n",
       "    <tr>\n",
       "      <th>0</th>\n",
       "      <td>NCBIGene:5914</td>\n",
       "      <td>Retinoic acid receptor alpha</td>\n",
       "      <td>Target</td>\n",
       "      <td>RARA</td>\n",
       "      <td>RARA_HUMAN</td>\n",
       "      <td>Nuclear hormone receptor</td>\n",
       "      <td>Homo sapiens</td>\n",
       "      <td>P10276</td>\n",
       "      <td>entrez</td>\n",
       "    </tr>\n",
       "    <tr>\n",
       "      <th>1</th>\n",
       "      <td>NCBIGene:5916</td>\n",
       "      <td>Retinoic acid receptor gamma</td>\n",
       "      <td>Target</td>\n",
       "      <td>RARG</td>\n",
       "      <td>RARG_HUMAN</td>\n",
       "      <td>Nuclear hormone receptor</td>\n",
       "      <td>Homo sapiens</td>\n",
       "      <td>P13631</td>\n",
       "      <td>entrez</td>\n",
       "    </tr>\n",
       "  </tbody>\n",
       "</table>\n",
       "</div>"
      ],
      "text/plain": [
       "              id                          name   label gene_symbol  \\\n",
       "0  NCBIGene:5914  Retinoic acid receptor alpha  Target        RARA   \n",
       "1  NCBIGene:5916  Retinoic acid receptor gamma  Target        RARG   \n",
       "\n",
       "  swissprot_entry              target_class      organism uniprot_id id_source  \n",
       "0      RARA_HUMAN  Nuclear hormone receptor  Homo sapiens     P10276    entrez  \n",
       "1      RARG_HUMAN  Nuclear hormone receptor  Homo sapiens     P13631    entrez  "
      ]
     },
     "execution_count": 108,
     "metadata": {},
     "output_type": "execute_result"
    }
   ],
   "source": [
    "# Map uniprot to entrez\n",
    "dct_nodes = map_uniprot_to_entrez(dct_nodes, 'uniprot_id', uniprot_map, 'id')\n",
    "dct_nodes['id'] = 'NCBIGene:' + dct_nodes['id']\n",
    "dct_nodes.loc[dct_nodes['id'].dropna().index, 'id_source'] = 'entrez'\n",
    "# add missing uniprot\n",
    "dct_nodes['id'] = dct_nodes['id'].fillna('UniProt:' + dct_nodes['uniprot_id'])\n",
    "dct_nodes.loc[dct_nodes['id'].dropna().index, 'id_source'] = \\\n",
    "        dct_nodes.loc[dct_nodes['id'].dropna().index, 'id_source'].fillna('uniprot')\n",
    "\n",
    "#Get rid of nodes without an ID\n",
    "dct_nodes = dct_nodes.dropna(subset=['id'])\n",
    "\n",
    "# regularize colnames with other entries\n",
    "dct_nodes = dct_nodes.rename(columns={'target_name': 'name'})\n",
    "dct_nodes = dct_nodes.drop_duplicates(subset=['id'])\n",
    "dct_nodes['label'] = 'Target'\n",
    "dct_nodes = gt.order_cols(dct_nodes)\n",
    "\n",
    "dct_nodes.head(2)"
   ]
  },
  {
   "cell_type": "code",
   "execution_count": 109,
   "metadata": {},
   "outputs": [
    {
     "data": {
      "text/html": [
       "<div>\n",
       "<style scoped>\n",
       "    .dataframe tbody tr th:only-of-type {\n",
       "        vertical-align: middle;\n",
       "    }\n",
       "\n",
       "    .dataframe tbody tr th {\n",
       "        vertical-align: top;\n",
       "    }\n",
       "\n",
       "    .dataframe thead th {\n",
       "        text-align: right;\n",
       "    }\n",
       "</style>\n",
       "<table border=\"1\" class=\"dataframe\">\n",
       "  <thead>\n",
       "    <tr style=\"text-align: right;\">\n",
       "      <th></th>\n",
       "      <th>compound_q_id</th>\n",
       "      <th>gene_symbol</th>\n",
       "      <th>action_type</th>\n",
       "      <th>moa_source</th>\n",
       "      <th>moa</th>\n",
       "      <th>act_source</th>\n",
       "      <th>uniprot_id</th>\n",
       "      <th>target_name</th>\n",
       "      <th>act_type</th>\n",
       "      <th>act_value</th>\n",
       "    </tr>\n",
       "  </thead>\n",
       "  <tbody>\n",
       "    <tr>\n",
       "      <th>0</th>\n",
       "      <td>LCH760E9T7</td>\n",
       "      <td>RARA</td>\n",
       "      <td>AGONIST</td>\n",
       "      <td>CHEMBL</td>\n",
       "      <td>1.0</td>\n",
       "      <td>WOMBAT-PK</td>\n",
       "      <td>P10276</td>\n",
       "      <td>Retinoic acid receptor alpha</td>\n",
       "      <td>NaN</td>\n",
       "      <td>NaN</td>\n",
       "    </tr>\n",
       "    <tr>\n",
       "      <th>1</th>\n",
       "      <td>LCH760E9T7</td>\n",
       "      <td>RARG</td>\n",
       "      <td>AGONIST</td>\n",
       "      <td>CHEMBL</td>\n",
       "      <td>1.0</td>\n",
       "      <td>CHEMBL</td>\n",
       "      <td>P13631</td>\n",
       "      <td>Retinoic acid receptor gamma</td>\n",
       "      <td>NaN</td>\n",
       "      <td>NaN</td>\n",
       "    </tr>\n",
       "  </tbody>\n",
       "</table>\n",
       "</div>"
      ],
      "text/plain": [
       "  compound_q_id gene_symbol action_type moa_source  moa act_source uniprot_id  \\\n",
       "0    LCH760E9T7        RARA     AGONIST     CHEMBL  1.0  WOMBAT-PK     P10276   \n",
       "1    LCH760E9T7        RARG     AGONIST     CHEMBL  1.0     CHEMBL     P13631   \n",
       "\n",
       "                    target_name act_type  act_value  \n",
       "0  Retinoic acid receptor alpha      NaN        NaN  \n",
       "1  Retinoic acid receptor gamma      NaN        NaN  "
      ]
     },
     "execution_count": 109,
     "metadata": {},
     "output_type": "execute_result"
    }
   ],
   "source": [
    "dct_edges = expand_col_on_char(dct_edges, 'uniprot_id', '|')\n",
    "dct_edges.head(2)"
   ]
  },
  {
   "cell_type": "code",
   "execution_count": 110,
   "metadata": {},
   "outputs": [
    {
     "data": {
      "text/html": [
       "<div>\n",
       "<style scoped>\n",
       "    .dataframe tbody tr th:only-of-type {\n",
       "        vertical-align: middle;\n",
       "    }\n",
       "\n",
       "    .dataframe tbody tr th {\n",
       "        vertical-align: top;\n",
       "    }\n",
       "\n",
       "    .dataframe thead th {\n",
       "        text-align: right;\n",
       "    }\n",
       "</style>\n",
       "<table border=\"1\" class=\"dataframe\">\n",
       "  <thead>\n",
       "    <tr style=\"text-align: right;\">\n",
       "      <th></th>\n",
       "      <th>start_id</th>\n",
       "      <th>end_id</th>\n",
       "      <th>type</th>\n",
       "      <th>moa_source</th>\n",
       "      <th>moa</th>\n",
       "      <th>act_source</th>\n",
       "      <th>act_type</th>\n",
       "      <th>act_value</th>\n",
       "      <th>source</th>\n",
       "      <th>dsrc_type</th>\n",
       "      <th>license</th>\n",
       "    </tr>\n",
       "  </thead>\n",
       "  <tbody>\n",
       "    <tr>\n",
       "      <th>0</th>\n",
       "      <td>IHUNBGSDBOWDMA-AQFIFDHZSA-N</td>\n",
       "      <td>NCBIGene:5914</td>\n",
       "      <td>agonist</td>\n",
       "      <td>CHEMBL</td>\n",
       "      <td>1.0</td>\n",
       "      <td>WOMBAT-PK</td>\n",
       "      <td>NaN</td>\n",
       "      <td>NaN</td>\n",
       "      <td>DrugCentral</td>\n",
       "      <td>curated</td>\n",
       "      <td>CC-BY-SA 4.0</td>\n",
       "    </tr>\n",
       "    <tr>\n",
       "      <th>1</th>\n",
       "      <td>IHUNBGSDBOWDMA-AQFIFDHZSA-N</td>\n",
       "      <td>NCBIGene:5916</td>\n",
       "      <td>agonist</td>\n",
       "      <td>CHEMBL</td>\n",
       "      <td>1.0</td>\n",
       "      <td>CHEMBL</td>\n",
       "      <td>NaN</td>\n",
       "      <td>NaN</td>\n",
       "      <td>DrugCentral</td>\n",
       "      <td>curated</td>\n",
       "      <td>CC-BY-SA 4.0</td>\n",
       "    </tr>\n",
       "  </tbody>\n",
       "</table>\n",
       "</div>"
      ],
      "text/plain": [
       "                      start_id         end_id     type moa_source  moa  \\\n",
       "0  IHUNBGSDBOWDMA-AQFIFDHZSA-N  NCBIGene:5914  agonist     CHEMBL  1.0   \n",
       "1  IHUNBGSDBOWDMA-AQFIFDHZSA-N  NCBIGene:5916  agonist     CHEMBL  1.0   \n",
       "\n",
       "  act_source act_type  act_value       source dsrc_type       license  \n",
       "0  WOMBAT-PK      NaN        NaN  DrugCentral   curated  CC-BY-SA 4.0  \n",
       "1     CHEMBL      NaN        NaN  DrugCentral   curated  CC-BY-SA 4.0  "
      ]
     },
     "execution_count": 110,
     "metadata": {},
     "output_type": "execute_result"
    }
   ],
   "source": [
    "dct_edges = map_inxight_chem_ids(dct_edges, 'compound_q_id', inxight_to_chem_id, 'start_id')\n",
    "dct_edges = map_uniprot_to_entrez(dct_edges, 'uniprot_id', uniprot_map, 'end_id')\n",
    "dct_edges['end_id'] = 'NCBIGene:' + dct_edges['end_id']\n",
    "dct_edges['end_id'] = dct_edges['end_id'].fillna('UniProt:' + dct_edges['uniprot_id'])\n",
    "\n",
    "dct_edges['action_type'] = dct_edges['action_type'].fillna('targets')\n",
    "keep_col = ['start_id', 'end_id', 'action_type']\n",
    "dct_edges = dct_edges.dropna(subset=keep_col, how='any').drop_duplicates(subset=keep_col)\n",
    "\n",
    "dct_edges = dct_edges.rename(columns={'action_type': 'type'})\n",
    "dct_edges['type'] = dct_edges['type'].str.lower()\n",
    "\n",
    "dct_edges = dct_edges.drop(['gene_symbol', 'target_name', 'uniprot_id'], axis=1)\n",
    "dct_edges['source'] = 'DrugCentral'\n",
    "dct_edges['dsrc_type'] = 'curated'\n",
    "dct_edges['license'] = 'CC-BY-SA 4.0'\n",
    "# if ACT type is populated its some sort of assay, either IC50, IC90 or Kd, etc\n",
    "dct_edges.loc[dct_edges[~dct_edges['act_type'].isnull()].index, 'dsrc_type'] = 'assay'\n",
    "\n",
    "dct_edges = gt.order_cols(dct_edges)\n",
    "\n",
    "dct_edges.head(2)"
   ]
  },
  {
   "cell_type": "markdown",
   "metadata": {},
   "source": [
    "### Finalize the nodes with the found Xrefs"
   ]
  },
  {
   "cell_type": "code",
   "execution_count": 111,
   "metadata": {},
   "outputs": [],
   "source": [
    "# Combine gene symbol and unprot id into an Xref\n",
    "dbt_nodes['gene_symbol'] = dbt_nodes['gene_symbol'].apply(lambda s: '|'.join(sorted(['SYM:'+ x for x in s.split('|')])) if type(s) == str else s)\n",
    "dbt_nodes['uniprot_id'] = 'UniProt:' + dbt_nodes['uniprot_id']\n",
    "dbt_nodes['xrefs'] = dbt_nodes[['gene_symbol', 'uniprot_id']].T.apply(lambda s: '|'.join(sorted([x for x in s if type(x) == str])))\n",
    "\n",
    "dct_nodes['gene_symbol'] = dct_nodes['gene_symbol'].apply(lambda s: '|'.join(sorted(['SYM:'+ x for x in s.split('|')])))\n",
    "dct_nodes['uniprot_id'] = 'UniProt:' + dct_nodes['uniprot_id']\n",
    "dct_nodes['xrefs'] = dct_nodes[['gene_symbol', 'uniprot_id']].T.apply(lambda s: '|'.join(sorted(s)))"
   ]
  },
  {
   "cell_type": "code",
   "execution_count": 112,
   "metadata": {},
   "outputs": [],
   "source": [
    "final_targets = pd.concat([targets, dbt_nodes[['id', 'name', 'label', 'xrefs']], \n",
    "                           dct_nodes[['id', 'name', 'label', 'xrefs']]],\n",
    "                           ignore_index=True, sort=False)"
   ]
  },
  {
   "cell_type": "code",
   "execution_count": 113,
   "metadata": {},
   "outputs": [],
   "source": [
    "final_targets = combine_group_cols_on_char(final_targets, ['id'], ['xrefs'], sort=True, prog=False)"
   ]
  },
  {
   "cell_type": "markdown",
   "metadata": {},
   "source": [
    "# Put it all together with previous network versions..."
   ]
  },
  {
   "cell_type": "code",
   "execution_count": 114,
   "metadata": {},
   "outputs": [],
   "source": [
    "prev_nodes = pd.read_csv('../2_pipeline/06_HPO_Annotations/out/nodes.csv', dtype=str)\n",
    "prev_edges = pd.read_csv('../2_pipeline/06_HPO_Annotations/out/edges.csv', dtype=str)"
   ]
  },
  {
   "cell_type": "code",
   "execution_count": 115,
   "metadata": {},
   "outputs": [],
   "source": [
    "prev_node_ids = prev_nodes['id'].unique()"
   ]
  },
  {
   "cell_type": "code",
   "execution_count": 116,
   "metadata": {},
   "outputs": [],
   "source": [
    "final_targets['curi'] = final_targets['id'].apply(lambda s: s.split(':')[0])"
   ]
  },
  {
   "cell_type": "code",
   "execution_count": 117,
   "metadata": {},
   "outputs": [
    {
     "data": {
      "text/plain": [
       "array(['GO', 'NCBIGene', 'UniProt', 'CHEMBL', 'KEGG', 'WP'], dtype=object)"
      ]
     },
     "execution_count": 117,
     "metadata": {},
     "output_type": "execute_result"
    }
   ],
   "source": [
    "final_targets['curi'].unique()"
   ]
  },
  {
   "cell_type": "code",
   "execution_count": 118,
   "metadata": {},
   "outputs": [
    {
     "data": {
      "text/plain": [
       "NCBIGene    2270\n",
       "UniProt     1686\n",
       "CHEMBL       274\n",
       "KEGG          56\n",
       "WP            32\n",
       "GO             3\n",
       "Name: curi, dtype: int64"
      ]
     },
     "execution_count": 118,
     "metadata": {},
     "output_type": "execute_result"
    }
   ],
   "source": [
    "new_targets = final_targets.query('id not in @prev_node_ids')\n",
    "new_targets['curi'].value_counts()"
   ]
  },
  {
   "cell_type": "code",
   "execution_count": 119,
   "metadata": {},
   "outputs": [
    {
     "data": {
      "text/plain": [
       "NCBIGene    3479\n",
       "GO           528\n",
       "WP            23\n",
       "UniProt       15\n",
       "Name: curi, dtype: int64"
      ]
     },
     "execution_count": 119,
     "metadata": {},
     "output_type": "execute_result"
    }
   ],
   "source": [
    "final_targets.query('id in @prev_node_ids')['curi'].value_counts()"
   ]
  },
  {
   "cell_type": "code",
   "execution_count": 120,
   "metadata": {},
   "outputs": [
    {
     "name": "stdout",
     "output_type": "stream",
     "text": [
      "querying 1-1000...done.\n",
      "querying 1001-2000...done.\n",
      "querying 2001-2270...done.\n"
     ]
    }
   ],
   "source": [
    "new_entrez = new_targets.query('curi == \"NCBIGene\"')['id'].apply(lambda i: i.split(':')[-1])\n",
    "new_genes = mg.getgenes(new_entrez, fields='taxid')"
   ]
  },
  {
   "cell_type": "code",
   "execution_count": 121,
   "metadata": {},
   "outputs": [],
   "source": [
    "keep_tax = prev_nodes.query('label == \"Taxon\"')['id'].tolist()\n",
    "len(keep_tax)\n",
    "tax_map = pickle.load(open('../2_pipeline/5b_Other_Ontologies/out/infectious_taxa_lineage_map.pkl', 'rb'))"
   ]
  },
  {
   "cell_type": "code",
   "execution_count": 122,
   "metadata": {},
   "outputs": [],
   "source": [
    "new_gene_to_tax = pd.DataFrame({'start_id': [r['query'] for r in new_genes], \n",
    "                                'end_id': [r.get('taxid', float('nan')) for r in new_genes]})\n",
    "new_gene_to_tax['end_id'] = 'NCBITaxon:' + new_gene_to_tax['end_id'].astype(str)\n",
    "\n",
    "new_gene_to_tax = pd.concat([new_gene_to_tax, tgt_tax_map], sort=False, ignore_index=True)\n",
    "new_gene_to_tax['end_id'] = new_gene_to_tax['end_id'].map(tax_map).fillna(new_gene_to_tax['end_id'])\n",
    "new_gene_to_tax['end_id'] = new_gene_to_tax['end_id'].apply(lambda t: '|'.join(t) if type(t) == set else t)\n",
    "\n",
    "new_gene_to_tax = expand_col_on_char(new_gene_to_tax, 'end_id', '|')\n",
    "new_gene_to_tax = new_gene_to_tax.query('end_id in @keep_tax').copy()\n",
    "\n",
    "new_gene_to_tax['type'] = 'in_taxon'\n",
    "new_gene_to_tax['source'] = 'NCBI'\n",
    "new_gene_to_tax['dsrc_type'] = 'curated'\n",
    "new_gene_to_tax['license'] = 'CC0'"
   ]
  },
  {
   "cell_type": "code",
   "execution_count": 123,
   "metadata": {},
   "outputs": [],
   "source": [
    "keep_id = new_gene_to_tax['start_id'].unique()"
   ]
  },
  {
   "cell_type": "code",
   "execution_count": 124,
   "metadata": {},
   "outputs": [
    {
     "data": {
      "text/plain": [
       "147"
      ]
     },
     "execution_count": 124,
     "metadata": {},
     "output_type": "execute_result"
    }
   ],
   "source": [
    "len(keep_id)"
   ]
  },
  {
   "cell_type": "markdown",
   "metadata": {},
   "source": [
    "#### Target edges"
   ]
  },
  {
   "cell_type": "code",
   "execution_count": 125,
   "metadata": {},
   "outputs": [
    {
     "data": {
      "text/plain": [
       "{'dsrc_type', 'end_id', 'license', 'source', 'start_id', 'type'}"
      ]
     },
     "execution_count": 125,
     "metadata": {},
     "output_type": "execute_result"
    }
   ],
   "source": [
    "set(dbt_edges.columns) & set(dct_edges.columns)"
   ]
  },
  {
   "cell_type": "code",
   "execution_count": 126,
   "metadata": {},
   "outputs": [
    {
     "data": {
      "text/plain": [
       "(16220, 15427)"
      ]
     },
     "execution_count": 126,
     "metadata": {},
     "output_type": "execute_result"
    }
   ],
   "source": [
    "len(dbt_edges), len(dct_edges)"
   ]
  },
  {
   "cell_type": "code",
   "execution_count": 127,
   "metadata": {},
   "outputs": [],
   "source": [
    "other_tgt_edges = pd.concat([dbt_edges, dct_edges], sort=False, \n",
    "                             ignore_index=True)[['start_id', 'end_id', 'type', 'source', \n",
    "                                                 'dsrc_type', 'license', 'pmids']]"
   ]
  },
  {
   "cell_type": "code",
   "execution_count": 128,
   "metadata": {},
   "outputs": [
    {
     "data": {
      "text/plain": [
       "31647"
      ]
     },
     "execution_count": 128,
     "metadata": {},
     "output_type": "execute_result"
    }
   ],
   "source": [
    "len(other_tgt_edges)"
   ]
  },
  {
   "cell_type": "code",
   "execution_count": 129,
   "metadata": {},
   "outputs": [],
   "source": [
    "other_tgt_edges = combine_group_cols_on_char(other_tgt_edges, ['start_id', 'end_id', 'type'], sort=True, prog=False)"
   ]
  },
  {
   "cell_type": "code",
   "execution_count": 130,
   "metadata": {},
   "outputs": [],
   "source": [
    "final_tgt_edges = pd.concat([tgt_edges, other_tgt_edges], sort=False, ignore_index=True)\n",
    "final_tgt_edges = combine_group_cols_on_char(final_tgt_edges, ['start_id', 'end_id', 'type'], sort=True, prog=False)"
   ]
  },
  {
   "cell_type": "code",
   "execution_count": 131,
   "metadata": {},
   "outputs": [
    {
     "data": {
      "text/plain": [
       "'Percentage of targets edges to keep: 63.340247%'"
      ]
     },
     "execution_count": 131,
     "metadata": {},
     "output_type": "execute_result"
    }
   ],
   "source": [
    "'Percentage of targets edges to keep: {:%}'.format(len(final_tgt_edges.query('end_id in @prev_node_ids or end_id in @keep_id')) / len(final_tgt_edges))"
   ]
  },
  {
   "cell_type": "code",
   "execution_count": 132,
   "metadata": {},
   "outputs": [
    {
     "data": {
      "text/plain": [
       "52834"
      ]
     },
     "execution_count": 132,
     "metadata": {},
     "output_type": "execute_result"
    }
   ],
   "source": [
    "filt_tgt_edges = final_tgt_edges.query('end_id in @prev_node_ids or end_id in @keep_id').copy()\n",
    "len(filt_tgt_edges)"
   ]
  },
  {
   "cell_type": "code",
   "execution_count": 133,
   "metadata": {},
   "outputs": [
    {
     "data": {
      "text/html": [
       "<div>\n",
       "<style scoped>\n",
       "    .dataframe tbody tr th:only-of-type {\n",
       "        vertical-align: middle;\n",
       "    }\n",
       "\n",
       "    .dataframe tbody tr th {\n",
       "        vertical-align: top;\n",
       "    }\n",
       "\n",
       "    .dataframe thead th {\n",
       "        text-align: right;\n",
       "    }\n",
       "</style>\n",
       "<table border=\"1\" class=\"dataframe\">\n",
       "  <thead>\n",
       "    <tr style=\"text-align: right;\">\n",
       "      <th></th>\n",
       "      <th>start_id</th>\n",
       "      <th>end_id</th>\n",
       "      <th>type</th>\n",
       "      <th>source</th>\n",
       "      <th>dsrc_type</th>\n",
       "      <th>license</th>\n",
       "      <th>pmids</th>\n",
       "    </tr>\n",
       "  </thead>\n",
       "  <tbody>\n",
       "    <tr>\n",
       "      <th>0</th>\n",
       "      <td>IHUNBGSDBOWDMA-UGOGCBOOSA-N</td>\n",
       "      <td>NCBIGene:6258</td>\n",
       "      <td>agonist</td>\n",
       "      <td>Inxight Drugs</td>\n",
       "      <td>aggregated</td>\n",
       "      <td>mixed</td>\n",
       "      <td>NaN</td>\n",
       "    </tr>\n",
       "    <tr>\n",
       "      <th>1</th>\n",
       "      <td>IHUNBGSDBOWDMA-UGOGCBOOSA-N</td>\n",
       "      <td>NCBIGene:5914</td>\n",
       "      <td>agonist</td>\n",
       "      <td>Inxight Drugs</td>\n",
       "      <td>aggregated</td>\n",
       "      <td>mixed</td>\n",
       "      <td>NaN</td>\n",
       "    </tr>\n",
       "  </tbody>\n",
       "</table>\n",
       "</div>"
      ],
      "text/plain": [
       "                      start_id         end_id     type         source  \\\n",
       "0  IHUNBGSDBOWDMA-UGOGCBOOSA-N  NCBIGene:6258  agonist  Inxight Drugs   \n",
       "1  IHUNBGSDBOWDMA-UGOGCBOOSA-N  NCBIGene:5914  agonist  Inxight Drugs   \n",
       "\n",
       "    dsrc_type license pmids  \n",
       "0  aggregated   mixed   NaN  \n",
       "1  aggregated   mixed   NaN  "
      ]
     },
     "execution_count": 133,
     "metadata": {},
     "output_type": "execute_result"
    }
   ],
   "source": [
    "filt_tgt_edges.head(2)"
   ]
  },
  {
   "cell_type": "code",
   "execution_count": 134,
   "metadata": {},
   "outputs": [
    {
     "data": {
      "text/plain": [
       "array([], dtype=object)"
      ]
     },
     "execution_count": 134,
     "metadata": {},
     "output_type": "execute_result"
    }
   ],
   "source": [
    "filt_targets = final_targets.query('id not in @prev_node_ids and id in @keep_id').copy()\n",
    "filt_targets['curi'].unique()"
   ]
  },
  {
   "cell_type": "code",
   "execution_count": 135,
   "metadata": {},
   "outputs": [
    {
     "data": {
      "text/plain": [
       "array(['NCBIGene', 'UniProt', 'CHEMBL', 'KEGG', 'WP', 'GO'], dtype=object)"
      ]
     },
     "execution_count": 135,
     "metadata": {},
     "output_type": "execute_result"
    }
   ],
   "source": [
    "final_targets.query('id not in @prev_node_ids')['curi'].unique()"
   ]
  },
  {
   "cell_type": "code",
   "execution_count": 136,
   "metadata": {},
   "outputs": [
    {
     "data": {
      "text/html": [
       "<div>\n",
       "<style scoped>\n",
       "    .dataframe tbody tr th:only-of-type {\n",
       "        vertical-align: middle;\n",
       "    }\n",
       "\n",
       "    .dataframe tbody tr th {\n",
       "        vertical-align: top;\n",
       "    }\n",
       "\n",
       "    .dataframe thead th {\n",
       "        text-align: right;\n",
       "    }\n",
       "</style>\n",
       "<table border=\"1\" class=\"dataframe\">\n",
       "  <thead>\n",
       "    <tr style=\"text-align: right;\">\n",
       "      <th></th>\n",
       "      <th>id</th>\n",
       "      <th>name</th>\n",
       "      <th>label</th>\n",
       "      <th>xrefs</th>\n",
       "      <th>curi</th>\n",
       "    </tr>\n",
       "  </thead>\n",
       "  <tbody>\n",
       "    <tr>\n",
       "      <th>532</th>\n",
       "      <td>GO:0045909</td>\n",
       "      <td>positive regulation of vasodilation</td>\n",
       "      <td>Target</td>\n",
       "      <td>GO:0045909</td>\n",
       "      <td>GO</td>\n",
       "    </tr>\n",
       "    <tr>\n",
       "      <th>602</th>\n",
       "      <td>GO:0006927</td>\n",
       "      <td>transformed cell apoptotic process</td>\n",
       "      <td>Target</td>\n",
       "      <td>GO:0006927</td>\n",
       "      <td>GO</td>\n",
       "    </tr>\n",
       "    <tr>\n",
       "      <th>867</th>\n",
       "      <td>GO:1902861</td>\n",
       "      <td>copper ion import into cell</td>\n",
       "      <td>Target</td>\n",
       "      <td>GO:1902861</td>\n",
       "      <td>GO</td>\n",
       "    </tr>\n",
       "  </tbody>\n",
       "</table>\n",
       "</div>"
      ],
      "text/plain": [
       "             id                                 name   label       xrefs curi\n",
       "532  GO:0045909  positive regulation of vasodilation  Target  GO:0045909   GO\n",
       "602  GO:0006927   transformed cell apoptotic process  Target  GO:0006927   GO\n",
       "867  GO:1902861          copper ion import into cell  Target  GO:1902861   GO"
      ]
     },
     "execution_count": 136,
     "metadata": {},
     "output_type": "execute_result"
    }
   ],
   "source": [
    "final_targets.query('id not in @prev_node_ids and curi == \"GO\"')"
   ]
  },
  {
   "cell_type": "markdown",
   "metadata": {},
   "source": [
    "Drop these go terems, either obsolete or just plain not found"
   ]
  },
  {
   "cell_type": "code",
   "execution_count": 137,
   "metadata": {},
   "outputs": [],
   "source": [
    "curi_to_label = {'Uniprot': 'Protein', 'NCBIGene': 'Gene', 'CHEMBL': 'Gene', \n",
    "                 'KEGG': 'Pathway', 'WP': 'Pathway'}"
   ]
  },
  {
   "cell_type": "code",
   "execution_count": 138,
   "metadata": {},
   "outputs": [],
   "source": [
    "filt_targets['label'] = filt_targets['curi'].map(curi_to_label)\n",
    "filt_targets = filt_targets.dropna(subset=['label'])"
   ]
  },
  {
   "cell_type": "code",
   "execution_count": 139,
   "metadata": {},
   "outputs": [
    {
     "data": {
      "text/html": [
       "<div>\n",
       "<style scoped>\n",
       "    .dataframe tbody tr th:only-of-type {\n",
       "        vertical-align: middle;\n",
       "    }\n",
       "\n",
       "    .dataframe tbody tr th {\n",
       "        vertical-align: top;\n",
       "    }\n",
       "\n",
       "    .dataframe thead th {\n",
       "        text-align: right;\n",
       "    }\n",
       "</style>\n",
       "<table border=\"1\" class=\"dataframe\">\n",
       "  <thead>\n",
       "    <tr style=\"text-align: right;\">\n",
       "      <th></th>\n",
       "      <th>id</th>\n",
       "      <th>name</th>\n",
       "      <th>label</th>\n",
       "      <th>xrefs</th>\n",
       "      <th>curi</th>\n",
       "    </tr>\n",
       "  </thead>\n",
       "  <tbody>\n",
       "  </tbody>\n",
       "</table>\n",
       "</div>"
      ],
      "text/plain": [
       "Empty DataFrame\n",
       "Columns: [id, name, label, xrefs, curi]\n",
       "Index: []"
      ]
     },
     "execution_count": 139,
     "metadata": {},
     "output_type": "execute_result"
    }
   ],
   "source": [
    "filt_targets"
   ]
  },
  {
   "cell_type": "markdown",
   "metadata": {},
   "source": [
    "### Disease Integration"
   ]
  },
  {
   "cell_type": "code",
   "execution_count": 140,
   "metadata": {},
   "outputs": [],
   "source": [
    "mesh_to_nw = get_curi_xrefs(prev_nodes, 'MESH')\n",
    "all_node_ids = prev_nodes['id'].unique()\n",
    "\n",
    "in_nw_ids = set(all_node_ids) | set(mesh_to_nw['xrefs'])"
   ]
  },
  {
   "cell_type": "code",
   "execution_count": 141,
   "metadata": {},
   "outputs": [
    {
     "data": {
      "text/plain": [
       "0.847431693989071"
      ]
     },
     "execution_count": 141,
     "metadata": {},
     "output_type": "execute_result"
    }
   ],
   "source": [
    "len(diseases.query('id in @in_nw_ids')) / len(diseases)"
   ]
  },
  {
   "cell_type": "code",
   "execution_count": 142,
   "metadata": {},
   "outputs": [
    {
     "data": {
      "text/plain": [
       "698"
      ]
     },
     "execution_count": 142,
     "metadata": {},
     "output_type": "execute_result"
    }
   ],
   "source": [
    "new_diseases = diseases.query('id not in @in_nw_ids').copy()\n",
    "len(new_diseases)"
   ]
  },
  {
   "cell_type": "code",
   "execution_count": 143,
   "metadata": {
    "scrolled": true
   },
   "outputs": [
    {
     "data": {
      "text/plain": [
       "340"
      ]
     },
     "execution_count": 143,
     "metadata": {},
     "output_type": "execute_result"
    }
   ],
   "source": [
    "new_diseases = new_diseases.drop(['doid'], axis=1).rename(columns={'meshid': 'xrefs'})\n",
    "new_diseases = combine_group_cols_on_char(new_diseases, ['id'], ['xrefs'], sort=True, prog=False)\n",
    "len(new_diseases)"
   ]
  },
  {
   "cell_type": "code",
   "execution_count": 144,
   "metadata": {},
   "outputs": [],
   "source": [
    "# keep those already in the network\n",
    "d_in_nw = ind_edges.query('end_id in @all_node_ids')\n",
    "# map those that can be mapped\n",
    "d_to_map = ind_edges.query('end_id not in @all_node_ids')\n",
    "d_to_map = (d_to_map.merge(mesh_to_nw, left_on='end_id', right_on='xrefs', how='left')\n",
    "                    .dropna(subset=['id'])\n",
    "                    .drop(['end_id', 'xrefs'], axis=1)\n",
    "                    .rename(columns={'id': 'end_id'}))\n",
    "# and add those that can't be mapped\n",
    "d_no_map = ind_edges.query('end_id not in @in_nw_ids')\n",
    "\n",
    "\n",
    "ind_edges = pd.concat([d_in_nw, d_to_map, d_no_map], sort=False, ignore_index=True)\n",
    "ind_edges = combine_group_cols_on_char(ind_edges, ['start_id', 'end_id', 'type'], sort=True, prog=False)"
   ]
  },
  {
   "cell_type": "markdown",
   "metadata": {},
   "source": [
    "### Won't worry about chems for now.. we will reconsile next"
   ]
  },
  {
   "cell_type": "code",
   "execution_count": 145,
   "metadata": {},
   "outputs": [],
   "source": [
    "new_nodes = pd.concat([chem_node_df, new_diseases, filt_targets], sort=False)\n",
    "new_edges = pd.concat([filt_tgt_edges, ind_edges], sort=False)"
   ]
  },
  {
   "cell_type": "code",
   "execution_count": 146,
   "metadata": {},
   "outputs": [
    {
     "data": {
      "text/plain": [
       "(110866, 83040)"
      ]
     },
     "execution_count": 146,
     "metadata": {},
     "output_type": "execute_result"
    }
   ],
   "source": [
    "len(new_nodes), len(new_edges)"
   ]
  },
  {
   "cell_type": "code",
   "execution_count": 147,
   "metadata": {},
   "outputs": [
    {
     "data": {
      "text/plain": [
       "Inxight Drugs                         61661\n",
       "DrugBank                              10048\n",
       "DrugCentral                            9114\n",
       "DrugBank|DrugCentral|Inxight Drugs      760\n",
       "DrugCentral|Inxight Drugs               563\n",
       "DrugBank|Inxight Drugs                  555\n",
       "DrugBank|DrugCentral                    339\n",
       "Name: source, dtype: int64"
      ]
     },
     "execution_count": 147,
     "metadata": {},
     "output_type": "execute_result"
    }
   ],
   "source": [
    "new_edges['source'].value_counts()"
   ]
  },
  {
   "cell_type": "code",
   "execution_count": 148,
   "metadata": {},
   "outputs": [
    {
     "data": {
      "text/plain": [
       "aggregated                  61661\n",
       "curated                     11053\n",
       "assay                        8184\n",
       "aggregated|curated            913\n",
       "aggregated|assay|curated      631\n",
       "aggregated|assay              334\n",
       "assay|curated                 264\n",
       "Name: dsrc_type, dtype: int64"
      ]
     },
     "execution_count": 148,
     "metadata": {},
     "output_type": "execute_result"
    }
   ],
   "source": [
    "new_edges['dsrc_type'].value_counts()"
   ]
  },
  {
   "cell_type": "code",
   "execution_count": 149,
   "metadata": {},
   "outputs": [],
   "source": [
    "all_edges = pd.concat([prev_edges, new_edges], ignore_index=True, sort=False)\n",
    "all_nodes = pd.concat([prev_nodes, new_nodes], ignore_index=True, sort=False)"
   ]
  },
  {
   "cell_type": "code",
   "execution_count": 150,
   "metadata": {},
   "outputs": [],
   "source": [
    "all_edge_ids = all_edges[['start_id', 'end_id']].stack().unique()\n",
    "filt_nodes = all_nodes.query('id in @all_edge_ids').copy()"
   ]
  },
  {
   "cell_type": "code",
   "execution_count": 151,
   "metadata": {},
   "outputs": [
    {
     "data": {
      "text/plain": [
       "394070"
      ]
     },
     "execution_count": 151,
     "metadata": {},
     "output_type": "execute_result"
    }
   ],
   "source": [
    "len(all_edge_ids)"
   ]
  },
  {
   "cell_type": "code",
   "execution_count": 152,
   "metadata": {
    "scrolled": true
   },
   "outputs": [
    {
     "data": {
      "text/plain": [
       "(899765, 394070)"
      ]
     },
     "execution_count": 152,
     "metadata": {},
     "output_type": "execute_result"
    }
   ],
   "source": [
    "len(all_nodes), len(filt_nodes)"
   ]
  },
  {
   "cell_type": "code",
   "execution_count": 153,
   "metadata": {},
   "outputs": [
    {
     "data": {
      "text/plain": [
       "3868544"
      ]
     },
     "execution_count": 153,
     "metadata": {},
     "output_type": "execute_result"
    }
   ],
   "source": [
    "len(all_edges)"
   ]
  },
  {
   "cell_type": "code",
   "execution_count": 154,
   "metadata": {},
   "outputs": [
    {
     "data": {
      "text/html": [
       "<div>\n",
       "<style scoped>\n",
       "    .dataframe tbody tr th:only-of-type {\n",
       "        vertical-align: middle;\n",
       "    }\n",
       "\n",
       "    .dataframe tbody tr th {\n",
       "        vertical-align: top;\n",
       "    }\n",
       "\n",
       "    .dataframe thead th {\n",
       "        text-align: right;\n",
       "    }\n",
       "</style>\n",
       "<table border=\"1\" class=\"dataframe\">\n",
       "  <thead>\n",
       "    <tr style=\"text-align: right;\">\n",
       "      <th></th>\n",
       "      <th>id</th>\n",
       "      <th>name</th>\n",
       "      <th>label</th>\n",
       "      <th>xrefs</th>\n",
       "      <th>ikey</th>\n",
       "      <th>chebi_id</th>\n",
       "      <th>chembl_id</th>\n",
       "      <th>drugbank_id</th>\n",
       "      <th>unii_id</th>\n",
       "      <th>mesh_id</th>\n",
       "      <th>source</th>\n",
       "      <th>curi</th>\n",
       "    </tr>\n",
       "  </thead>\n",
       "  <tbody>\n",
       "  </tbody>\n",
       "</table>\n",
       "</div>"
      ],
      "text/plain": [
       "Empty DataFrame\n",
       "Columns: [id, name, label, xrefs, ikey, chebi_id, chembl_id, drugbank_id, unii_id, mesh_id, source, curi]\n",
       "Index: []"
      ]
     },
     "execution_count": 154,
     "metadata": {},
     "output_type": "execute_result"
    }
   ],
   "source": [
    "filt_nodes[filt_nodes['id'].duplicated(keep=False)].sort_values('id')"
   ]
  },
  {
   "cell_type": "code",
   "execution_count": 155,
   "metadata": {},
   "outputs": [
    {
     "data": {
      "text/plain": [
       "0"
      ]
     },
     "execution_count": 155,
     "metadata": {},
     "output_type": "execute_result"
    }
   ],
   "source": [
    "all_edges.duplicated(subset=['start_id', 'end_id', 'type']).sum()"
   ]
  },
  {
   "cell_type": "code",
   "execution_count": 156,
   "metadata": {},
   "outputs": [
    {
     "ename": "NameError",
     "evalue": "name 'combine_group_rows_on_char' is not defined",
     "output_type": "error",
     "traceback": [
      "\u001b[0;31m---------------------------------------------------------------------------\u001b[0m",
      "\u001b[0;31mNameError\u001b[0m                                 Traceback (most recent call last)",
      "\u001b[0;32m<timed exec>\u001b[0m in \u001b[0;36m<module>\u001b[0;34m\u001b[0m\n",
      "\u001b[0;31mNameError\u001b[0m: name 'combine_group_rows_on_char' is not defined"
     ]
    }
   ],
   "source": [
    "%%time\n",
    "all_edges = combine_group_cols_on_char(duped_edges, ['start_id', 'end_id', 'type'], sort=True, prog=False)"
   ]
  },
  {
   "cell_type": "code",
   "execution_count": 157,
   "metadata": {},
   "outputs": [
    {
     "data": {
      "text/plain": [
       "0"
      ]
     },
     "execution_count": 157,
     "metadata": {},
     "output_type": "execute_result"
    }
   ],
   "source": [
    "all_edges.duplicated(subset=['start_id', 'end_id', 'type']).sum()"
   ]
  },
  {
   "cell_type": "code",
   "execution_count": 158,
   "metadata": {},
   "outputs": [],
   "source": [
    "all_nodes.to_csv(out_dir.joinpath('nodes.csv'), index=False)\n",
    "filt_nodes.to_csv(out_dir.joinpath('nodes_filt.csv'), index=False)\n",
    "all_edges.to_csv(out_dir.joinpath('edges.csv'), index=False)"
   ]
  },
  {
   "cell_type": "markdown",
   "metadata": {},
   "source": [
    "## Needed for legacy pipline usage"
   ]
  },
  {
   "cell_type": "code",
   "execution_count": 159,
   "metadata": {},
   "outputs": [],
   "source": [
    "ix_nodes = pd.concat([chem_node_df, conditions, diseases, final_targets], sort=False)\n",
    "ix_edges = pd.concat([tgt_edges, ind_edges, dbt_edges, dct_edges], sort=False)\n",
    "\n",
    "ix_nodes.to_csv(out_dir.joinpath('nodes_inxight.csv'), index=False)\n",
    "ix_edges.to_csv(out_dir.joinpath('edges_inxight.csv'), index=False)"
   ]
  }
 ],
 "metadata": {
  "kernelspec": {
   "display_name": "Python 3",
   "language": "python",
   "name": "python3"
  },
  "language_info": {
   "codemirror_mode": {
    "name": "ipython",
    "version": 3
   },
   "file_extension": ".py",
   "mimetype": "text/x-python",
   "name": "python",
   "nbconvert_exporter": "python",
   "pygments_lexer": "ipython3",
   "version": "3.7.5"
  }
 },
 "nbformat": 4,
 "nbformat_minor": 2
}
