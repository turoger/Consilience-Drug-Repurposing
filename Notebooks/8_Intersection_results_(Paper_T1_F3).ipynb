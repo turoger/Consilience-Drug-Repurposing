{
 "cells": [
  {
   "cell_type": "markdown",
   "id": "9bd99fe6",
   "metadata": {},
   "source": [
    "# Calculate the intersection policy performance\n",
    "\n",
    "## Summary of statistical performance of the Intersection Policy\n",
    "* Performance (unfiltered)\n",
    "    * MRR: 0.0459\n",
    "    * Hits@1: 0.0449\n",
    "    * Hits@3: 0.0469\n",
    "    * Hits@10: 0.0469\n",
    "* Performance (filtered)\n",
    "    * MRR: 0.9792\n",
    "    * Hits@1: 0.9583\n",
    "    * Hits@3: 1.0000\n",
    "    * Hits@10: 1.0000\n",
    "\n",
    "* Intra-indications\n",
    "    * Based on the Kruskal-Wallace Test, at least one median was statistically different\n",
    "    * Method Size 2 is statistically different from size >=4\n",
    "    * Method Size 3 is statistically different from size >=4\n",
    "    * Method Size 4 is statistically different from size >=5\n",
    "    * Method Size 5 is statistically different from size >=6\n",
    "    * Method Size 6 is _NOT_ statistically different from size 7\n",
    "* Intra-non-indications\n",
    "    * Based on the Kruskal-Wallace Test, at least one median was statistically different\n",
    "    * Method Size 2 is statistically different from size >=3\n",
    "    * Method Size 3 is statistically different from size >=4\n",
    "    * Method Size 4 is statistically different from size >=5\n",
    "    * Method Size 5 is _NOT_ statistically different from size >=6\n",
    "    * Method Size 6 is _NOT_ statistically different from size 7\n",
    "* Inter indications & non-indications\n",
    "    * Based on the Kruskal-Wallace Test, at least one median was statistically different\n",
    "    * For each set size, Indication rank was statistically different from Non-Indication rank"
   ]
  },
  {
   "cell_type": "code",
   "execution_count": 1,
   "id": "5d45cbb7-0b05-4852-ae83-38ec63105ba7",
   "metadata": {},
   "outputs": [],
   "source": [
    "import os\n",
    "\n",
    "import itertools\n",
    "import polars as pl\n",
    "import numpy as np\n",
    "import matplotlib.pyplot as plt\n",
    "import matplotlib as mpl\n",
    "import scipy\n",
    "import seaborn as sns\n",
    "\n",
    "from tqdm import tqdm\n",
    "\n",
    "import sys\n",
    "\n",
    "sys.path.append(\"./Notebooks\")\n",
    "import score_utils2 as su2"
   ]
  },
  {
   "cell_type": "code",
   "execution_count": 2,
   "id": "3a196856",
   "metadata": {},
   "outputs": [],
   "source": [
    "os.chdir(\"./Notebooks\")"
   ]
  },
  {
   "cell_type": "markdown",
   "id": "a6f4051e",
   "metadata": {},
   "source": [
    "# Read combined dataframe"
   ]
  },
  {
   "cell_type": "code",
   "execution_count": 3,
   "id": "e23de7aa",
   "metadata": {},
   "outputs": [],
   "source": [
    "# read in the saved parquet\n",
    "combined_df = pl.read_parquet(\"./data_output/results_df.parquet\")"
   ]
  },
  {
   "cell_type": "code",
   "execution_count": 4,
   "id": "52097151",
   "metadata": {},
   "outputs": [
    {
     "data": {
      "text/html": [
       "<div><style>\n",
       ".dataframe > thead > tr,\n",
       ".dataframe > tbody > tr {\n",
       "  text-align: right;\n",
       "  white-space: pre-wrap;\n",
       "}\n",
       "</style>\n",
       "<small>shape: (2, 5)</small><table border=\"1\" class=\"dataframe\"><thead><tr><th>h</th><th>method</th><th>predicted_answers</th><th>answers</th><th>rank</th></tr><tr><td>str</td><td>str</td><td>list[str]</td><td>str</td><td>i64</td></tr></thead><tbody><tr><td>&quot;CHEBI:135735&quot;</td><td>&quot;CBR&quot;</td><td>[&quot;DOID:3393&quot;, &quot;DOID:6000&quot;, … &quot;DOID:0060343&quot;]</td><td>&quot;DOID:10763&quot;</td><td>3</td></tr><tr><td>&quot;CHEBI:135735&quot;</td><td>&quot;CBR&quot;</td><td>[&quot;DOID:3393&quot;, &quot;DOID:6000&quot;, … &quot;DOID:0060343&quot;]</td><td>&quot;DOID:10591&quot;</td><td>12</td></tr></tbody></table></div>"
      ],
      "text/plain": [
       "shape: (2, 5)\n",
       "┌──────────────┬────────┬─────────────────────────────────┬────────────┬──────┐\n",
       "│ h            ┆ method ┆ predicted_answers               ┆ answers    ┆ rank │\n",
       "│ ---          ┆ ---    ┆ ---                             ┆ ---        ┆ ---  │\n",
       "│ str          ┆ str    ┆ list[str]                       ┆ str        ┆ i64  │\n",
       "╞══════════════╪════════╪═════════════════════════════════╪════════════╪══════╡\n",
       "│ CHEBI:135735 ┆ CBR    ┆ [\"DOID:3393\", \"DOID:6000\", … \"… ┆ DOID:10763 ┆ 3    │\n",
       "│ CHEBI:135735 ┆ CBR    ┆ [\"DOID:3393\", \"DOID:6000\", … \"… ┆ DOID:10591 ┆ 12   │\n",
       "└──────────────┴────────┴─────────────────────────────────┴────────────┴──────┘"
      ]
     },
     "execution_count": 4,
     "metadata": {},
     "output_type": "execute_result"
    }
   ],
   "source": [
    "combined_df.head(2)"
   ]
  },
  {
   "cell_type": "code",
   "execution_count": 5,
   "id": "e700a63b",
   "metadata": {},
   "outputs": [
    {
     "data": {
      "text/plain": [
       "(19579, 5)"
      ]
     },
     "execution_count": 5,
     "metadata": {},
     "output_type": "execute_result"
    }
   ],
   "source": [
    "combined_df.shape"
   ]
  },
  {
   "cell_type": "markdown",
   "id": "ec970916-3b31-4629-86d1-7f234f4be229",
   "metadata": {},
   "source": [
    "# Get dataset Intersections\n",
    "* Best way to do this is to get all combinations of 7 algorithms and subtract out the combinations that don't have at least 1 KGE or 1 PBM"
   ]
  },
  {
   "cell_type": "markdown",
   "id": "321b9374",
   "metadata": {},
   "source": [
    "## Create a list of algorithm combinations"
   ]
  },
  {
   "cell_type": "code",
   "execution_count": 6,
   "id": "eb9cc479-d72b-437c-8a84-1d41dd562847",
   "metadata": {},
   "outputs": [],
   "source": [
    "# get a list of tuples of all combinations of algorithm results\n",
    "algos = [\"CBR\", \"pCBR\", \"Rephetio\", \"TransE\", \"DistMult\", \"ComplEx\", \"RotatE\"]\n",
    "algo_combos = [\n",
    "    j\n",
    "    for i in [\n",
    "        list(itertools.combinations(algos, combo_sz))\n",
    "        for combo_sz in range(2, len(algos) + 1)\n",
    "    ]\n",
    "    for j in i\n",
    "]"
   ]
  },
  {
   "cell_type": "code",
   "execution_count": 7,
   "id": "e1508c74",
   "metadata": {},
   "outputs": [
    {
     "name": "stdout",
     "output_type": "stream",
     "text": [
      "Combinations of Algorithms: 120\n",
      "Less combinations without at least a KGE or PBM: 105\n",
      "Index 82: ('CBR', 'pCBR', 'TransE', 'DistMult', 'ComplEx')\n",
      "Index 18: ('CBR', 'Rephetio', 'ComplEx')\n",
      "Index 87: ('CBR', 'Rephetio', 'TransE', 'DistMult', 'RotatE')\n",
      "Index 35: ('pCBR', 'ComplEx', 'RotatE')\n",
      "Index 4: ('pCBR', 'TransE')\n"
     ]
    }
   ],
   "source": [
    "# get only combinations with at least a path-based and embedding-based approach\n",
    "pbm = [\"CBR\", \"pCBR\", \"Rephetio\"]\n",
    "kge = [\"TransE\", \"DistMult\", \"ComplEx\", \"RotatE\"]\n",
    "algo_combos2 = [\n",
    "    i\n",
    "    for i in algo_combos\n",
    "    if (\n",
    "        len(set(i).intersection(set(pbm))) != 0\n",
    "        and len(set(i).intersection(set(kge))) != 0\n",
    "    )\n",
    "]\n",
    "print(\n",
    "    f\"Combinations of Algorithms: {len(algo_combos)}\\nLess combinations without at least a KGE or PBM: {len(algo_combos2)}\"\n",
    ")\n",
    "\n",
    "# Inspect random 5 indicies\n",
    "for i in np.random.choice(range(0, len(algo_combos2)), 5).tolist():\n",
    "    print(f\"Index {i}: {algo_combos2[i]}\")"
   ]
  },
  {
   "cell_type": "markdown",
   "id": "e347f1f5",
   "metadata": {},
   "source": [
    "## Write function to generate intersections for a given combination"
   ]
  },
  {
   "cell_type": "code",
   "execution_count": 8,
   "id": "c0c0c0fb",
   "metadata": {},
   "outputs": [
    {
     "data": {
      "text/html": [
       "<div><style>\n",
       ".dataframe > thead > tr,\n",
       ".dataframe > tbody > tr {\n",
       "  text-align: right;\n",
       "  white-space: pre-wrap;\n",
       "}\n",
       "</style>\n",
       "<small>shape: (2, 5)</small><table border=\"1\" class=\"dataframe\"><thead><tr><th>h</th><th>method</th><th>predicted_answers</th><th>answers</th><th>rank</th></tr><tr><td>str</td><td>str</td><td>list[str]</td><td>str</td><td>i64</td></tr></thead><tbody><tr><td>&quot;CHEBI:135735&quot;</td><td>&quot;CBR&quot;</td><td>[&quot;DOID:3393&quot;, &quot;DOID:6000&quot;, … &quot;DOID:0060343&quot;]</td><td>&quot;DOID:10763&quot;</td><td>3</td></tr><tr><td>&quot;CHEBI:135735&quot;</td><td>&quot;CBR&quot;</td><td>[&quot;DOID:3393&quot;, &quot;DOID:6000&quot;, … &quot;DOID:0060343&quot;]</td><td>&quot;DOID:10591&quot;</td><td>12</td></tr></tbody></table></div>"
      ],
      "text/plain": [
       "shape: (2, 5)\n",
       "┌──────────────┬────────┬─────────────────────────────────┬────────────┬──────┐\n",
       "│ h            ┆ method ┆ predicted_answers               ┆ answers    ┆ rank │\n",
       "│ ---          ┆ ---    ┆ ---                             ┆ ---        ┆ ---  │\n",
       "│ str          ┆ str    ┆ list[str]                       ┆ str        ┆ i64  │\n",
       "╞══════════════╪════════╪═════════════════════════════════╪════════════╪══════╡\n",
       "│ CHEBI:135735 ┆ CBR    ┆ [\"DOID:3393\", \"DOID:6000\", … \"… ┆ DOID:10763 ┆ 3    │\n",
       "│ CHEBI:135735 ┆ CBR    ┆ [\"DOID:3393\", \"DOID:6000\", … \"… ┆ DOID:10591 ┆ 12   │\n",
       "└──────────────┴────────┴─────────────────────────────────┴────────────┴──────┘"
      ]
     },
     "execution_count": 8,
     "metadata": {},
     "output_type": "execute_result"
    }
   ],
   "source": [
    "# note rank here is greater than 1000 because we have 1000 random splits for some algorithms\n",
    "combined_df.head(2)"
   ]
  },
  {
   "cell_type": "code",
   "execution_count": 9,
   "id": "d3020e65",
   "metadata": {},
   "outputs": [
    {
     "data": {
      "text/html": [
       "<div><style>\n",
       ".dataframe > thead > tr,\n",
       ".dataframe > tbody > tr {\n",
       "  text-align: right;\n",
       "  white-space: pre-wrap;\n",
       "}\n",
       "</style>\n",
       "<small>shape: (75, 2)</small><table border=\"1\" class=\"dataframe\"><thead><tr><th>h</th><th>answers</th></tr><tr><td>str</td><td>list[str]</td></tr></thead><tbody><tr><td>&quot;CHEBI:8245&quot;</td><td>[&quot;DOID:2841&quot;]</td></tr><tr><td>&quot;CHEBI:50659&quot;</td><td>[&quot;DOID:0060224&quot;]</td></tr><tr><td>&quot;CHEBI:9683&quot;</td><td>[&quot;DOID:10763&quot;]</td></tr><tr><td>&quot;CHEBI:601027&quot;</td><td>[&quot;DOID:10763&quot;]</td></tr><tr><td>&quot;CHEBI:7478&quot;</td><td>[&quot;DOID:6364&quot;]</td></tr><tr><td>&hellip;</td><td>&hellip;</td></tr><tr><td>&quot;CHEBI:90863&quot;</td><td>[&quot;DOID:2513&quot;]</td></tr><tr><td>&quot;CHEBI:7824&quot;</td><td>[&quot;DOID:1826&quot;, &quot;DOID:1824&quot;]</td></tr><tr><td>&quot;CHEBI:6920&quot;</td><td>[&quot;DOID:10825&quot;, &quot;DOID:10763&quot;]</td></tr><tr><td>&quot;CHEBI:72317&quot;</td><td>[&quot;DOID:4450&quot;]</td></tr><tr><td>&quot;CHEBI:31691&quot;</td><td>[&quot;DOID:10763&quot;]</td></tr></tbody></table></div>"
      ],
      "text/plain": [
       "shape: (75, 2)\n",
       "┌──────────────┬──────────────────────────────┐\n",
       "│ h            ┆ answers                      │\n",
       "│ ---          ┆ ---                          │\n",
       "│ str          ┆ list[str]                    │\n",
       "╞══════════════╪══════════════════════════════╡\n",
       "│ CHEBI:8245   ┆ [\"DOID:2841\"]                │\n",
       "│ CHEBI:50659  ┆ [\"DOID:0060224\"]             │\n",
       "│ CHEBI:9683   ┆ [\"DOID:10763\"]               │\n",
       "│ CHEBI:601027 ┆ [\"DOID:10763\"]               │\n",
       "│ CHEBI:7478   ┆ [\"DOID:6364\"]                │\n",
       "│ …            ┆ …                            │\n",
       "│ CHEBI:90863  ┆ [\"DOID:2513\"]                │\n",
       "│ CHEBI:7824   ┆ [\"DOID:1826\", \"DOID:1824\"]   │\n",
       "│ CHEBI:6920   ┆ [\"DOID:10825\", \"DOID:10763\"] │\n",
       "│ CHEBI:72317  ┆ [\"DOID:4450\"]                │\n",
       "│ CHEBI:31691  ┆ [\"DOID:10763\"]               │\n",
       "└──────────────┴──────────────────────────────┘"
      ]
     },
     "execution_count": 9,
     "metadata": {},
     "output_type": "execute_result"
    }
   ],
   "source": [
    "(\n",
    "    combined_df.drop_nulls()\n",
    "    .filter(\n",
    "        pl.col(\"rank\") <= 100,\n",
    "        pl.col(\"method\").is_in(\n",
    "            [\"CBR\", \"ComplEx\", \"DistMult\", \"Rephetio\", \"RotatE\", \"TransE\", \"pCBR\"]\n",
    "        ),\n",
    "    )\n",
    "    .group_by([\"h\", \"answers\"])\n",
    "    .agg([\"method\", \"rank\"])\n",
    "    .filter(pl.col(\"method\").list.len() == pl.col(\"method\").list.len().max())\n",
    ").group_by(\"h\").agg(\"answers\")"
   ]
  },
  {
   "cell_type": "markdown",
   "id": "091c47d9",
   "metadata": {},
   "source": [
    "### write a function for getting intersections and labelling true vs predicted answers"
   ]
  },
  {
   "cell_type": "code",
   "execution_count": 11,
   "id": "54dd2667",
   "metadata": {},
   "outputs": [
    {
     "data": {
      "text/plain": [
       "(19579, 5)"
      ]
     },
     "execution_count": 11,
     "metadata": {},
     "output_type": "execute_result"
    }
   ],
   "source": [
    "combined_df.shape"
   ]
  },
  {
   "cell_type": "code",
   "execution_count": 58,
   "id": "fc9b1005",
   "metadata": {},
   "outputs": [],
   "source": [
    "def get_intersection_answer(\n",
    "    df: pl.DataFrame = combined_df,\n",
    "    algos: list = [\n",
    "        \"CBR\",\n",
    "        \"pCBR\",\n",
    "        \"Rephetio\",\n",
    "        \"TransE\",\n",
    "        \"DistMult\",\n",
    "        \"ComplEx\",\n",
    "        \"RotatE\",\n",
    "    ],\n",
    "):\n",
    "    \"\"\"\n",
    "    Get the intersection of the algorithms in the dataframe\n",
    "    \"\"\"\n",
    "    # filter for the interested algos\n",
    "    df = (\n",
    "        df.filter(pl.col(\"method\").is_in(algos))\n",
    "        .unique([\"h\", \"method\", \"answers\"])\n",
    "        .sort([\"method\", \"h\"])\n",
    "    )\n",
    "\n",
    "    # get the intersection of the predictions and their ranks\n",
    "    intersections = (\n",
    "        df.select([\"h\", \"method\", \"predicted_answers\"])\n",
    "        .unique()\n",
    "        .with_columns(pl.col(\"predicted_answers\").list.unique(maintain_order=True))\n",
    "        .with_columns(rank=pl.int_ranges(1, pl.col(\"predicted_answers\").list.len() + 1))\n",
    "        .explode([\"predicted_answers\", \"rank\"])\n",
    "        .group_by([\"h\", \"predicted_answers\"], maintain_order=True)\n",
    "        .agg([\"method\", \"rank\"])\n",
    "        .filter(pl.col(\"method\").list.len() == len(algos))\n",
    "        .unique()\n",
    "        .rename(\n",
    "            {\"predicted_answers\": \"answers\"}\n",
    "        )  # change predicted_answers to just answers to merge the dataframes together\n",
    "        .with_columns(\n",
    "            is_answer=False\n",
    "        )  # assign an identifier to the intersection as a true/false answer\n",
    "    )\n",
    "\n",
    "    # call the true ranks from the original dataframe\n",
    "    true_filt_df = (\n",
    "        df.group_by([\"h\", \"answers\"], maintain_order=True)\n",
    "        .agg([\"method\", \"rank\"])\n",
    "        .with_columns(\n",
    "            is_answer=True\n",
    "        )  # assign an identifier to the intersection as a true/false answer\n",
    "    )\n",
    "    # ensure answers aren't in 'is_answer'\n",
    "    intersections = intersections.join(true_filt_df, on=[\"h\", \"answers\"], how=\"anti\")\n",
    "\n",
    "    # combine dataframes\n",
    "    intersections = pl.concat([intersections, true_filt_df])\n",
    "\n",
    "    return intersections"
   ]
  },
  {
   "cell_type": "code",
   "execution_count": 59,
   "id": "e8726528",
   "metadata": {},
   "outputs": [
    {
     "data": {
      "text/plain": [
       "7"
      ]
     },
     "execution_count": 59,
     "metadata": {},
     "output_type": "execute_result"
    }
   ],
   "source": [
    "get_intersection_answer()[\"method\"].list.len().max()"
   ]
  },
  {
   "cell_type": "code",
   "execution_count": 60,
   "id": "73d61638",
   "metadata": {},
   "outputs": [
    {
     "data": {
      "text/html": [
       "<div><style>\n",
       ".dataframe > thead > tr,\n",
       ".dataframe > tbody > tr {\n",
       "  text-align: right;\n",
       "  white-space: pre-wrap;\n",
       "}\n",
       "</style>\n",
       "<small>shape: (5, 5)</small><table border=\"1\" class=\"dataframe\"><thead><tr><th>h</th><th>answers</th><th>method</th><th>rank</th><th>is_answer</th></tr><tr><td>str</td><td>str</td><td>list[str]</td><td>list[i64]</td><td>bool</td></tr></thead><tbody><tr><td>&quot;CHEBI:7731&quot;</td><td>&quot;DOID:219&quot;</td><td>[&quot;ComplEx&quot;, &quot;pCBR&quot;, … &quot;TransE&quot;]</td><td>[629, 67, … 448]</td><td>false</td></tr><tr><td>&quot;CHEBI:175901&quot;</td><td>&quot;DOID:289&quot;</td><td>[&quot;ComplEx&quot;, &quot;TransE&quot;, … &quot;DistMult&quot;]</td><td>[779, 218, … 482]</td><td>false</td></tr><tr><td>&quot;CHEBI:64358&quot;</td><td>&quot;DOID:1824&quot;</td><td>[&quot;DistMult&quot;, &quot;ComplEx&quot;, … &quot;TransE&quot;]</td><td>[430, 65, … 342]</td><td>false</td></tr><tr><td>&quot;CHEBI:83766&quot;</td><td>&quot;DOID:3908&quot;</td><td>[&quot;pCBR&quot;, &quot;Rephetio&quot;, … &quot;TransE&quot;]</td><td>[30, 44, … 93]</td><td>false</td></tr><tr><td>&quot;CHEBI:5558&quot;</td><td>&quot;DOID:9352&quot;</td><td>[&quot;RotatE&quot;, &quot;pCBR&quot;, … &quot;Rephetio&quot;]</td><td>[6, 51, … 26]</td><td>false</td></tr></tbody></table></div>"
      ],
      "text/plain": [
       "shape: (5, 5)\n",
       "┌──────────────┬───────────┬─────────────────────────────────┬───────────────────┬───────────┐\n",
       "│ h            ┆ answers   ┆ method                          ┆ rank              ┆ is_answer │\n",
       "│ ---          ┆ ---       ┆ ---                             ┆ ---               ┆ ---       │\n",
       "│ str          ┆ str       ┆ list[str]                       ┆ list[i64]         ┆ bool      │\n",
       "╞══════════════╪═══════════╪═════════════════════════════════╪═══════════════════╪═══════════╡\n",
       "│ CHEBI:7731   ┆ DOID:219  ┆ [\"ComplEx\", \"pCBR\", … \"TransE\"… ┆ [629, 67, … 448]  ┆ false     │\n",
       "│ CHEBI:175901 ┆ DOID:289  ┆ [\"ComplEx\", \"TransE\", … \"DistM… ┆ [779, 218, … 482] ┆ false     │\n",
       "│ CHEBI:64358  ┆ DOID:1824 ┆ [\"DistMult\", \"ComplEx\", … \"Tra… ┆ [430, 65, … 342]  ┆ false     │\n",
       "│ CHEBI:83766  ┆ DOID:3908 ┆ [\"pCBR\", \"Rephetio\", … \"TransE… ┆ [30, 44, … 93]    ┆ false     │\n",
       "│ CHEBI:5558   ┆ DOID:9352 ┆ [\"RotatE\", \"pCBR\", … \"Rephetio… ┆ [6, 51, … 26]     ┆ false     │\n",
       "└──────────────┴───────────┴─────────────────────────────────┴───────────────────┴───────────┘"
      ]
     },
     "execution_count": 60,
     "metadata": {},
     "output_type": "execute_result"
    }
   ],
   "source": [
    "get_intersection_answer().head()"
   ]
  },
  {
   "cell_type": "code",
   "execution_count": 61,
   "id": "e7d92c99",
   "metadata": {},
   "outputs": [
    {
     "data": {
      "text/plain": [
       "(3810, 5)"
      ]
     },
     "execution_count": 61,
     "metadata": {},
     "output_type": "execute_result"
    }
   ],
   "source": [
    "get_intersection_answer().shape"
   ]
  },
  {
   "cell_type": "code",
   "execution_count": 62,
   "id": "ba53c31d",
   "metadata": {},
   "outputs": [
    {
     "data": {
      "text/html": [
       "<div><style>\n",
       ".dataframe > thead > tr,\n",
       ".dataframe > tbody > tr {\n",
       "  text-align: right;\n",
       "  white-space: pre-wrap;\n",
       "}\n",
       "</style>\n",
       "<small>shape: (83, 5)</small><table border=\"1\" class=\"dataframe\"><thead><tr><th>h</th><th>answers</th><th>method</th><th>rank</th><th>is_answer</th></tr><tr><td>str</td><td>str</td><td>list[str]</td><td>list[i64]</td><td>list[bool]</td></tr></thead><tbody><tr><td>&quot;CHEBI:28487&quot;</td><td>&quot;DOID:10763&quot;</td><td>[&quot;CBR&quot;, &quot;ComplEx&quot;, … &quot;pCBR&quot;]</td><td>[2, 70, … 1]</td><td>[true, true, … true]</td></tr><tr><td>&quot;CHEBI:31547&quot;</td><td>&quot;DOID:10763&quot;</td><td>[&quot;CBR&quot;, &quot;ComplEx&quot;, … &quot;pCBR&quot;]</td><td>[15, 4, … 73]</td><td>[true, true, … true]</td></tr><tr><td>&quot;CHEBI:7824&quot;</td><td>&quot;DOID:1826&quot;</td><td>[&quot;CBR&quot;, &quot;ComplEx&quot;, … &quot;pCBR&quot;]</td><td>[1, 71, … 1]</td><td>[true, true, … true]</td></tr><tr><td>&quot;CHEBI:50841&quot;</td><td>&quot;DOID:5419&quot;</td><td>[&quot;CBR&quot;, &quot;ComplEx&quot;, … &quot;pCBR&quot;]</td><td>[6, 40, … 9]</td><td>[true, true, … true]</td></tr><tr><td>&quot;CHEBI:6702&quot;</td><td>&quot;DOID:9970&quot;</td><td>[&quot;CBR&quot;, &quot;ComplEx&quot;, … &quot;pCBR&quot;]</td><td>[16, 11, … 1]</td><td>[true, true, … true]</td></tr><tr><td>&hellip;</td><td>&hellip;</td><td>&hellip;</td><td>&hellip;</td><td>&hellip;</td></tr><tr><td>&quot;CHEBI:9927&quot;</td><td>&quot;DOID:10763&quot;</td><td>[&quot;CBR&quot;, &quot;ComplEx&quot;, … &quot;pCBR&quot;]</td><td>[12, 21, … 1]</td><td>[true, true, … true]</td></tr><tr><td>&quot;CHEBI:70705&quot;</td><td>&quot;DOID:1470&quot;</td><td>[&quot;CBR&quot;, &quot;ComplEx&quot;, … &quot;pCBR&quot;]</td><td>[84, 1, … 38]</td><td>[true, true, … true]</td></tr><tr><td>&quot;CHEBI:63638&quot;</td><td>&quot;DOID:1826&quot;</td><td>[&quot;CBR&quot;, &quot;ComplEx&quot;, … &quot;pCBR&quot;]</td><td>[4, 12, … 2]</td><td>[true, true, … true]</td></tr><tr><td>&quot;CHEBI:6942&quot;</td><td>&quot;DOID:10763&quot;</td><td>[&quot;CBR&quot;, &quot;ComplEx&quot;, … &quot;pCBR&quot;]</td><td>[35, 32, … 1]</td><td>[true, true, … true]</td></tr><tr><td>&quot;CHEBI:9445&quot;</td><td>&quot;DOID:10763&quot;</td><td>[&quot;CBR&quot;, &quot;ComplEx&quot;, … &quot;pCBR&quot;]</td><td>[18, 70, … 1]</td><td>[true, true, … true]</td></tr></tbody></table></div>"
      ],
      "text/plain": [
       "shape: (83, 5)\n",
       "┌─────────────┬────────────┬──────────────────────────────┬───────────────┬──────────────────────┐\n",
       "│ h           ┆ answers    ┆ method                       ┆ rank          ┆ is_answer            │\n",
       "│ ---         ┆ ---        ┆ ---                          ┆ ---           ┆ ---                  │\n",
       "│ str         ┆ str        ┆ list[str]                    ┆ list[i64]     ┆ list[bool]           │\n",
       "╞═════════════╪════════════╪══════════════════════════════╪═══════════════╪══════════════════════╡\n",
       "│ CHEBI:28487 ┆ DOID:10763 ┆ [\"CBR\", \"ComplEx\", … \"pCBR\"] ┆ [2, 70, … 1]  ┆ [true, true, … true] │\n",
       "│ CHEBI:31547 ┆ DOID:10763 ┆ [\"CBR\", \"ComplEx\", … \"pCBR\"] ┆ [15, 4, … 73] ┆ [true, true, … true] │\n",
       "│ CHEBI:7824  ┆ DOID:1826  ┆ [\"CBR\", \"ComplEx\", … \"pCBR\"] ┆ [1, 71, … 1]  ┆ [true, true, … true] │\n",
       "│ CHEBI:50841 ┆ DOID:5419  ┆ [\"CBR\", \"ComplEx\", … \"pCBR\"] ┆ [6, 40, … 9]  ┆ [true, true, … true] │\n",
       "│ CHEBI:6702  ┆ DOID:9970  ┆ [\"CBR\", \"ComplEx\", … \"pCBR\"] ┆ [16, 11, … 1] ┆ [true, true, … true] │\n",
       "│ …           ┆ …          ┆ …                            ┆ …             ┆ …                    │\n",
       "│ CHEBI:9927  ┆ DOID:10763 ┆ [\"CBR\", \"ComplEx\", … \"pCBR\"] ┆ [12, 21, … 1] ┆ [true, true, … true] │\n",
       "│ CHEBI:70705 ┆ DOID:1470  ┆ [\"CBR\", \"ComplEx\", … \"pCBR\"] ┆ [84, 1, … 38] ┆ [true, true, … true] │\n",
       "│ CHEBI:63638 ┆ DOID:1826  ┆ [\"CBR\", \"ComplEx\", … \"pCBR\"] ┆ [4, 12, … 2]  ┆ [true, true, … true] │\n",
       "│ CHEBI:6942  ┆ DOID:10763 ┆ [\"CBR\", \"ComplEx\", … \"pCBR\"] ┆ [35, 32, … 1] ┆ [true, true, … true] │\n",
       "│ CHEBI:9445  ┆ DOID:10763 ┆ [\"CBR\", \"ComplEx\", … \"pCBR\"] ┆ [18, 70, … 1] ┆ [true, true, … true] │\n",
       "└─────────────┴────────────┴──────────────────────────────┴───────────────┴──────────────────────┘"
      ]
     },
     "execution_count": 62,
     "metadata": {},
     "output_type": "execute_result"
    }
   ],
   "source": [
    "(\n",
    "    get_intersection_answer()\n",
    "    .explode([\"method\", \"rank\"])\n",
    "    .unique()\n",
    "    .drop_nulls()\n",
    "    .filter(pl.col(\"rank\") <= 100, pl.col(\"is_answer\") == True)\n",
    "    .sort([\"method\", \"rank\"])\n",
    "    .group_by([\"h\", \"answers\"])\n",
    "    .agg(pl.all().exclude([\"h\", \"answers\"]))\n",
    "    .filter(pl.col(\"method\").list.len() == 7)\n",
    ")"
   ]
  },
  {
   "cell_type": "markdown",
   "id": "202482c6",
   "metadata": {},
   "source": [
    "#### write a function for getting the ranks"
   ]
  },
  {
   "cell_type": "code",
   "execution_count": 63,
   "id": "6ad76d7f",
   "metadata": {},
   "outputs": [],
   "source": [
    "# given the resulting dataframe of true and predicted answers, generate ranks\n",
    "\n",
    "\n",
    "def get_ranks(df: pl.DataFrame, rank_filter: int = 100):\n",
    "    \"\"\"\n",
    "    Get the ranks of the true and predicted answers\n",
    "    \"\"\"\n",
    "    # filter the dataframe by value in rank_filter, and remove nulls\n",
    "    df = (\n",
    "        df.explode([\"method\", \"rank\"])\n",
    "        .unique()\n",
    "        .drop_nulls()\n",
    "        .filter(pl.col(\"rank\") <= rank_filter)\n",
    "        .sort(\n",
    "            [\"method\", \"rank\"]\n",
    "        )  # sort dataframe by rank prior to grouping by query 'h'\n",
    "        .group_by(pl.all().exclude([\"method\", \"rank\"]), maintain_order=True)\n",
    "        .agg([\"method\", \"rank\"])\n",
    "    )\n",
    "\n",
    "    max_method_count = (\n",
    "        df[\"method\"].list.len().max()\n",
    "    )  # get max method count (the one we're interested in)\n",
    "\n",
    "    # get the ranks of the true and predicted answers\n",
    "    df = (\n",
    "        df.filter(pl.col(\"rank\").list.len() >= max_method_count)\n",
    "        .with_columns(pl.col(\"rank\").list.mean())  # calculate the mean\n",
    "        .group_by([\"h\", \"method\"], maintain_order=True)\n",
    "        .agg(pl.all().exclude([\"h\", \"method\"]))\n",
    "        .with_columns(\n",
    "            filt_rank=pl.col(\"rank\").list.eval(pl.element().rank(method=\"dense\"))\n",
    "        )\n",
    "    )\n",
    "\n",
    "    return df"
   ]
  },
  {
   "cell_type": "code",
   "execution_count": 64,
   "id": "228016de",
   "metadata": {},
   "outputs": [],
   "source": [
    "intersection_7_res = get_ranks(get_intersection_answer())"
   ]
  },
  {
   "cell_type": "code",
   "execution_count": 65,
   "id": "8d826d34",
   "metadata": {},
   "outputs": [
    {
     "data": {
      "text/html": [
       "<div><style>\n",
       ".dataframe > thead > tr,\n",
       ".dataframe > tbody > tr {\n",
       "  text-align: right;\n",
       "  white-space: pre-wrap;\n",
       "}\n",
       "</style>\n",
       "<small>shape: (100, 6)</small><table border=\"1\" class=\"dataframe\"><thead><tr><th>h</th><th>method</th><th>answers</th><th>is_answer</th><th>rank</th><th>filt_rank</th></tr><tr><td>str</td><td>list[str]</td><td>list[str]</td><td>list[bool]</td><td>list[f64]</td><td>list[u32]</td></tr></thead><tbody><tr><td>&quot;CHEBI:5557&quot;</td><td>[&quot;CBR&quot;, &quot;ComplEx&quot;, … &quot;pCBR&quot;]</td><td>[&quot;DOID:10763&quot;]</td><td>[true]</td><td>[2.857143]</td><td>[1]</td></tr><tr><td>&quot;CHEBI:141521&quot;</td><td>[&quot;CBR&quot;, &quot;ComplEx&quot;, … &quot;pCBR&quot;]</td><td>[&quot;DOID:10763&quot;]</td><td>[true]</td><td>[6.428571]</td><td>[1]</td></tr><tr><td>&quot;CHEBI:7824&quot;</td><td>[&quot;CBR&quot;, &quot;ComplEx&quot;, … &quot;pCBR&quot;]</td><td>[&quot;DOID:1826&quot;, &quot;DOID:1824&quot;, &quot;DOID:3312&quot;]</td><td>[true, true, false]</td><td>[23.0, 33.0, 32.0]</td><td>[1, 3, 2]</td></tr><tr><td>&quot;CHEBI:3012&quot;</td><td>[&quot;CBR&quot;, &quot;ComplEx&quot;, … &quot;pCBR&quot;]</td><td>[&quot;DOID:10763&quot;]</td><td>[true]</td><td>[5.571429]</td><td>[1]</td></tr><tr><td>&quot;CHEBI:3128&quot;</td><td>[&quot;CBR&quot;, &quot;ComplEx&quot;, … &quot;pCBR&quot;]</td><td>[&quot;DOID:10763&quot;]</td><td>[true]</td><td>[6.571429]</td><td>[1]</td></tr><tr><td>&hellip;</td><td>&hellip;</td><td>&hellip;</td><td>&hellip;</td><td>&hellip;</td><td>&hellip;</td></tr><tr><td>&quot;CHEBI:6441&quot;</td><td>[&quot;CBR&quot;, &quot;ComplEx&quot;, … &quot;pCBR&quot;]</td><td>[&quot;DOID:12849&quot;]</td><td>[false]</td><td>[45.857143]</td><td>[1]</td></tr><tr><td>&quot;CHEBI:9725&quot;</td><td>[&quot;CBR&quot;, &quot;ComplEx&quot;, … &quot;pCBR&quot;]</td><td>[&quot;DOID:4481&quot;]</td><td>[false]</td><td>[33.142857]</td><td>[1]</td></tr><tr><td>&quot;IKEY:DYLUUSLLRIQKOE-UHFFFAOYSA…</td><td>[&quot;CBR&quot;, &quot;ComplEx&quot;, … &quot;pCBR&quot;]</td><td>[&quot;DOID:9952&quot;]</td><td>[false]</td><td>[44.714286]</td><td>[1]</td></tr><tr><td>&quot;CHEBI:3756&quot;</td><td>[&quot;CBR&quot;, &quot;ComplEx&quot;, … &quot;pCBR&quot;]</td><td>[&quot;DOID:5419&quot;]</td><td>[false]</td><td>[49.714286]</td><td>[1]</td></tr><tr><td>&quot;CHEBI:135876&quot;</td><td>[&quot;CBR&quot;, &quot;ComplEx&quot;, … &quot;pCBR&quot;]</td><td>[&quot;DOID:11054&quot;]</td><td>[true]</td><td>[34.857143]</td><td>[1]</td></tr></tbody></table></div>"
      ],
      "text/plain": [
       "shape: (100, 6)\n",
       "┌─────────────────┬─────────────────┬────────────────┬────────────────┬────────────────┬───────────┐\n",
       "│ h               ┆ method          ┆ answers        ┆ is_answer      ┆ rank           ┆ filt_rank │\n",
       "│ ---             ┆ ---             ┆ ---            ┆ ---            ┆ ---            ┆ ---       │\n",
       "│ str             ┆ list[str]       ┆ list[str]      ┆ list[bool]     ┆ list[f64]      ┆ list[u32] │\n",
       "╞═════════════════╪═════════════════╪════════════════╪════════════════╪════════════════╪═══════════╡\n",
       "│ CHEBI:5557      ┆ [\"CBR\",         ┆ [\"DOID:10763\"] ┆ [true]         ┆ [2.857143]     ┆ [1]       │\n",
       "│                 ┆ \"ComplEx\", …    ┆                ┆                ┆                ┆           │\n",
       "│                 ┆ \"pCBR\"]         ┆                ┆                ┆                ┆           │\n",
       "│ CHEBI:141521    ┆ [\"CBR\",         ┆ [\"DOID:10763\"] ┆ [true]         ┆ [6.428571]     ┆ [1]       │\n",
       "│                 ┆ \"ComplEx\", …    ┆                ┆                ┆                ┆           │\n",
       "│                 ┆ \"pCBR\"]         ┆                ┆                ┆                ┆           │\n",
       "│ CHEBI:7824      ┆ [\"CBR\",         ┆ [\"DOID:1826\",  ┆ [true, true,   ┆ [23.0, 33.0,   ┆ [1, 3, 2] │\n",
       "│                 ┆ \"ComplEx\", …    ┆ \"DOID:1824\",   ┆ false]         ┆ 32.0]          ┆           │\n",
       "│                 ┆ \"pCBR\"]         ┆ \"DO…           ┆                ┆                ┆           │\n",
       "│ CHEBI:3012      ┆ [\"CBR\",         ┆ [\"DOID:10763\"] ┆ [true]         ┆ [5.571429]     ┆ [1]       │\n",
       "│                 ┆ \"ComplEx\", …    ┆                ┆                ┆                ┆           │\n",
       "│                 ┆ \"pCBR\"]         ┆                ┆                ┆                ┆           │\n",
       "│ CHEBI:3128      ┆ [\"CBR\",         ┆ [\"DOID:10763\"] ┆ [true]         ┆ [6.571429]     ┆ [1]       │\n",
       "│                 ┆ \"ComplEx\", …    ┆                ┆                ┆                ┆           │\n",
       "│                 ┆ \"pCBR\"]         ┆                ┆                ┆                ┆           │\n",
       "│ …               ┆ …               ┆ …              ┆ …              ┆ …              ┆ …         │\n",
       "│ CHEBI:6441      ┆ [\"CBR\",         ┆ [\"DOID:12849\"] ┆ [false]        ┆ [45.857143]    ┆ [1]       │\n",
       "│                 ┆ \"ComplEx\", …    ┆                ┆                ┆                ┆           │\n",
       "│                 ┆ \"pCBR\"]         ┆                ┆                ┆                ┆           │\n",
       "│ CHEBI:9725      ┆ [\"CBR\",         ┆ [\"DOID:4481\"]  ┆ [false]        ┆ [33.142857]    ┆ [1]       │\n",
       "│                 ┆ \"ComplEx\", …    ┆                ┆                ┆                ┆           │\n",
       "│                 ┆ \"pCBR\"]         ┆                ┆                ┆                ┆           │\n",
       "│ IKEY:DYLUUSLLRI ┆ [\"CBR\",         ┆ [\"DOID:9952\"]  ┆ [false]        ┆ [44.714286]    ┆ [1]       │\n",
       "│ QKOE-UHFFFAOYSA ┆ \"ComplEx\", …    ┆                ┆                ┆                ┆           │\n",
       "│ …               ┆ \"pCBR\"]         ┆                ┆                ┆                ┆           │\n",
       "│ CHEBI:3756      ┆ [\"CBR\",         ┆ [\"DOID:5419\"]  ┆ [false]        ┆ [49.714286]    ┆ [1]       │\n",
       "│                 ┆ \"ComplEx\", …    ┆                ┆                ┆                ┆           │\n",
       "│                 ┆ \"pCBR\"]         ┆                ┆                ┆                ┆           │\n",
       "│ CHEBI:135876    ┆ [\"CBR\",         ┆ [\"DOID:11054\"] ┆ [true]         ┆ [34.857143]    ┆ [1]       │\n",
       "│                 ┆ \"ComplEx\", …    ┆                ┆                ┆                ┆           │\n",
       "│                 ┆ \"pCBR\"]         ┆                ┆                ┆                ┆           │\n",
       "└─────────────────┴─────────────────┴────────────────┴────────────────┴────────────────┴───────────┘"
      ]
     },
     "execution_count": 65,
     "metadata": {},
     "output_type": "execute_result"
    }
   ],
   "source": [
    "intersection_7_res"
   ]
  },
  {
   "cell_type": "code",
   "execution_count": 66,
   "id": "7ca9ad40",
   "metadata": {},
   "outputs": [
    {
     "data": {
      "text/html": [
       "<div><style>\n",
       ".dataframe > thead > tr,\n",
       ".dataframe > tbody > tr {\n",
       "  text-align: right;\n",
       "  white-space: pre-wrap;\n",
       "}\n",
       "</style>\n",
       "<small>shape: (83, 6)</small><table border=\"1\" class=\"dataframe\"><thead><tr><th>h</th><th>method</th><th>answers</th><th>is_answer</th><th>rank</th><th>filt_rank</th></tr><tr><td>str</td><td>list[str]</td><td>str</td><td>bool</td><td>f64</td><td>u32</td></tr></thead><tbody><tr><td>&quot;CHEBI:5557&quot;</td><td>[&quot;CBR&quot;, &quot;ComplEx&quot;, … &quot;pCBR&quot;]</td><td>&quot;DOID:10763&quot;</td><td>true</td><td>2.857143</td><td>1</td></tr><tr><td>&quot;CHEBI:141521&quot;</td><td>[&quot;CBR&quot;, &quot;ComplEx&quot;, … &quot;pCBR&quot;]</td><td>&quot;DOID:10763&quot;</td><td>true</td><td>6.428571</td><td>1</td></tr><tr><td>&quot;CHEBI:7824&quot;</td><td>[&quot;CBR&quot;, &quot;ComplEx&quot;, … &quot;pCBR&quot;]</td><td>&quot;DOID:1826&quot;</td><td>true</td><td>23.0</td><td>1</td></tr><tr><td>&quot;CHEBI:7824&quot;</td><td>[&quot;CBR&quot;, &quot;ComplEx&quot;, … &quot;pCBR&quot;]</td><td>&quot;DOID:1824&quot;</td><td>true</td><td>33.0</td><td>3</td></tr><tr><td>&quot;CHEBI:3012&quot;</td><td>[&quot;CBR&quot;, &quot;ComplEx&quot;, … &quot;pCBR&quot;]</td><td>&quot;DOID:10763&quot;</td><td>true</td><td>5.571429</td><td>1</td></tr><tr><td>&hellip;</td><td>&hellip;</td><td>&hellip;</td><td>&hellip;</td><td>&hellip;</td><td>&hellip;</td></tr><tr><td>&quot;CHEBI:6846&quot;</td><td>[&quot;CBR&quot;, &quot;ComplEx&quot;, … &quot;pCBR&quot;]</td><td>&quot;DOID:1826&quot;</td><td>true</td><td>22.285714</td><td>1</td></tr><tr><td>&quot;CHEBI:72317&quot;</td><td>[&quot;CBR&quot;, &quot;ComplEx&quot;, … &quot;pCBR&quot;]</td><td>&quot;DOID:4450&quot;</td><td>true</td><td>22.142857</td><td>1</td></tr><tr><td>&quot;CHEBI:4315&quot;</td><td>[&quot;CBR&quot;, &quot;ComplEx&quot;, … &quot;pCBR&quot;]</td><td>&quot;DOID:289&quot;</td><td>true</td><td>38.714286</td><td>1</td></tr><tr><td>&quot;CHEBI:94615&quot;</td><td>[&quot;CBR&quot;, &quot;ComplEx&quot;, … &quot;pCBR&quot;]</td><td>&quot;DOID:2841&quot;</td><td>true</td><td>30.0</td><td>1</td></tr><tr><td>&quot;CHEBI:135876&quot;</td><td>[&quot;CBR&quot;, &quot;ComplEx&quot;, … &quot;pCBR&quot;]</td><td>&quot;DOID:11054&quot;</td><td>true</td><td>34.857143</td><td>1</td></tr></tbody></table></div>"
      ],
      "text/plain": [
       "shape: (83, 6)\n",
       "┌──────────────┬──────────────────────────────┬────────────┬───────────┬───────────┬───────────┐\n",
       "│ h            ┆ method                       ┆ answers    ┆ is_answer ┆ rank      ┆ filt_rank │\n",
       "│ ---          ┆ ---                          ┆ ---        ┆ ---       ┆ ---       ┆ ---       │\n",
       "│ str          ┆ list[str]                    ┆ str        ┆ bool      ┆ f64       ┆ u32       │\n",
       "╞══════════════╪══════════════════════════════╪════════════╪═══════════╪═══════════╪═══════════╡\n",
       "│ CHEBI:5557   ┆ [\"CBR\", \"ComplEx\", … \"pCBR\"] ┆ DOID:10763 ┆ true      ┆ 2.857143  ┆ 1         │\n",
       "│ CHEBI:141521 ┆ [\"CBR\", \"ComplEx\", … \"pCBR\"] ┆ DOID:10763 ┆ true      ┆ 6.428571  ┆ 1         │\n",
       "│ CHEBI:7824   ┆ [\"CBR\", \"ComplEx\", … \"pCBR\"] ┆ DOID:1826  ┆ true      ┆ 23.0      ┆ 1         │\n",
       "│ CHEBI:7824   ┆ [\"CBR\", \"ComplEx\", … \"pCBR\"] ┆ DOID:1824  ┆ true      ┆ 33.0      ┆ 3         │\n",
       "│ CHEBI:3012   ┆ [\"CBR\", \"ComplEx\", … \"pCBR\"] ┆ DOID:10763 ┆ true      ┆ 5.571429  ┆ 1         │\n",
       "│ …            ┆ …                            ┆ …          ┆ …         ┆ …         ┆ …         │\n",
       "│ CHEBI:6846   ┆ [\"CBR\", \"ComplEx\", … \"pCBR\"] ┆ DOID:1826  ┆ true      ┆ 22.285714 ┆ 1         │\n",
       "│ CHEBI:72317  ┆ [\"CBR\", \"ComplEx\", … \"pCBR\"] ┆ DOID:4450  ┆ true      ┆ 22.142857 ┆ 1         │\n",
       "│ CHEBI:4315   ┆ [\"CBR\", \"ComplEx\", … \"pCBR\"] ┆ DOID:289   ┆ true      ┆ 38.714286 ┆ 1         │\n",
       "│ CHEBI:94615  ┆ [\"CBR\", \"ComplEx\", … \"pCBR\"] ┆ DOID:2841  ┆ true      ┆ 30.0      ┆ 1         │\n",
       "│ CHEBI:135876 ┆ [\"CBR\", \"ComplEx\", … \"pCBR\"] ┆ DOID:11054 ┆ true      ┆ 34.857143 ┆ 1         │\n",
       "└──────────────┴──────────────────────────────┴────────────┴───────────┴───────────┴───────────┘"
      ]
     },
     "execution_count": 66,
     "metadata": {},
     "output_type": "execute_result"
    }
   ],
   "source": [
    "# check if we can extract all trues\n",
    "intersection_7_res.explode(pl.all().exclude([\"h\", \"method\"])).filter(\n",
    "    pl.col(\"is_answer\") == True\n",
    ")"
   ]
  },
  {
   "cell_type": "markdown",
   "id": "487ff3a0",
   "metadata": {},
   "source": [
    "# Calculate ranking performance"
   ]
  },
  {
   "cell_type": "markdown",
   "id": "e9ca913c",
   "metadata": {},
   "source": [
    "## setup test and results"
   ]
  },
  {
   "cell_type": "markdown",
   "id": "debe08a7",
   "metadata": {},
   "source": [
    "### import test file"
   ]
  },
  {
   "cell_type": "code",
   "execution_count": 67,
   "id": "432763c2",
   "metadata": {},
   "outputs": [],
   "source": [
    "test = pl.read_parquet(\"./data_output/unified_test_set.parquet\")"
   ]
  },
  {
   "cell_type": "code",
   "execution_count": 68,
   "id": "7198531b",
   "metadata": {},
   "outputs": [
    {
     "data": {
      "text/html": [
       "<div><style>\n",
       ".dataframe > thead > tr,\n",
       ".dataframe > tbody > tr {\n",
       "  text-align: right;\n",
       "  white-space: pre-wrap;\n",
       "}\n",
       "</style>\n",
       "<small>shape: (2, 2)</small><table border=\"1\" class=\"dataframe\"><thead><tr><th>h</th><th>answers</th></tr><tr><td>str</td><td>str</td></tr></thead><tbody><tr><td>&quot;CHEBI:4647&quot;</td><td>&quot;DOID:1686&quot;</td></tr><tr><td>&quot;CHEBI:15854&quot;</td><td>&quot;DOID:14067&quot;</td></tr></tbody></table></div>"
      ],
      "text/plain": [
       "shape: (2, 2)\n",
       "┌─────────────┬────────────┐\n",
       "│ h           ┆ answers    │\n",
       "│ ---         ┆ ---        │\n",
       "│ str         ┆ str        │\n",
       "╞═════════════╪════════════╡\n",
       "│ CHEBI:4647  ┆ DOID:1686  │\n",
       "│ CHEBI:15854 ┆ DOID:14067 │\n",
       "└─────────────┴────────────┘"
      ]
     },
     "execution_count": 68,
     "metadata": {},
     "output_type": "execute_result"
    }
   ],
   "source": [
    "test.head(2)"
   ]
  },
  {
   "cell_type": "code",
   "execution_count": 69,
   "id": "221828ee",
   "metadata": {},
   "outputs": [
    {
     "data": {
      "text/plain": [
       "(512, 2)"
      ]
     },
     "execution_count": 69,
     "metadata": {},
     "output_type": "execute_result"
    }
   ],
   "source": [
    "test.shape"
   ]
  },
  {
   "cell_type": "markdown",
   "id": "0217ea74",
   "metadata": {},
   "source": [
    "### get results dataframe"
   ]
  },
  {
   "cell_type": "code",
   "execution_count": 70,
   "id": "269ed903",
   "metadata": {},
   "outputs": [
    {
     "data": {
      "text/html": [
       "<div><style>\n",
       ".dataframe > thead > tr,\n",
       ".dataframe > tbody > tr {\n",
       "  text-align: right;\n",
       "  white-space: pre-wrap;\n",
       "}\n",
       "</style>\n",
       "<small>shape: (151, 6)</small><table border=\"1\" class=\"dataframe\"><thead><tr><th>h</th><th>method</th><th>answers</th><th>is_answer</th><th>rank</th><th>filt_rank</th></tr><tr><td>str</td><td>list[str]</td><td>str</td><td>bool</td><td>f64</td><td>u32</td></tr></thead><tbody><tr><td>&quot;CHEBI:5557&quot;</td><td>[&quot;CBR&quot;, &quot;ComplEx&quot;, … &quot;pCBR&quot;]</td><td>&quot;DOID:10763&quot;</td><td>true</td><td>2.857143</td><td>1</td></tr><tr><td>&quot;CHEBI:141521&quot;</td><td>[&quot;CBR&quot;, &quot;ComplEx&quot;, … &quot;pCBR&quot;]</td><td>&quot;DOID:10763&quot;</td><td>true</td><td>6.428571</td><td>1</td></tr><tr><td>&quot;CHEBI:7824&quot;</td><td>[&quot;CBR&quot;, &quot;ComplEx&quot;, … &quot;pCBR&quot;]</td><td>&quot;DOID:1826&quot;</td><td>true</td><td>23.0</td><td>1</td></tr><tr><td>&quot;CHEBI:7824&quot;</td><td>[&quot;CBR&quot;, &quot;ComplEx&quot;, … &quot;pCBR&quot;]</td><td>&quot;DOID:1824&quot;</td><td>true</td><td>33.0</td><td>3</td></tr><tr><td>&quot;CHEBI:7824&quot;</td><td>[&quot;CBR&quot;, &quot;ComplEx&quot;, … &quot;pCBR&quot;]</td><td>&quot;DOID:3312&quot;</td><td>false</td><td>32.0</td><td>2</td></tr><tr><td>&hellip;</td><td>&hellip;</td><td>&hellip;</td><td>&hellip;</td><td>&hellip;</td><td>&hellip;</td></tr><tr><td>&quot;CHEBI:6441&quot;</td><td>[&quot;CBR&quot;, &quot;ComplEx&quot;, … &quot;pCBR&quot;]</td><td>&quot;DOID:12849&quot;</td><td>false</td><td>45.857143</td><td>1</td></tr><tr><td>&quot;CHEBI:9725&quot;</td><td>[&quot;CBR&quot;, &quot;ComplEx&quot;, … &quot;pCBR&quot;]</td><td>&quot;DOID:4481&quot;</td><td>false</td><td>33.142857</td><td>1</td></tr><tr><td>&quot;IKEY:DYLUUSLLRIQKOE-UHFFFAOYSA…</td><td>[&quot;CBR&quot;, &quot;ComplEx&quot;, … &quot;pCBR&quot;]</td><td>&quot;DOID:9952&quot;</td><td>false</td><td>44.714286</td><td>1</td></tr><tr><td>&quot;CHEBI:3756&quot;</td><td>[&quot;CBR&quot;, &quot;ComplEx&quot;, … &quot;pCBR&quot;]</td><td>&quot;DOID:5419&quot;</td><td>false</td><td>49.714286</td><td>1</td></tr><tr><td>&quot;CHEBI:135876&quot;</td><td>[&quot;CBR&quot;, &quot;ComplEx&quot;, … &quot;pCBR&quot;]</td><td>&quot;DOID:11054&quot;</td><td>true</td><td>34.857143</td><td>1</td></tr></tbody></table></div>"
      ],
      "text/plain": [
       "shape: (151, 6)\n",
       "┌────────────────────────┬────────────────────────┬────────────┬───────────┬───────────┬───────────┐\n",
       "│ h                      ┆ method                 ┆ answers    ┆ is_answer ┆ rank      ┆ filt_rank │\n",
       "│ ---                    ┆ ---                    ┆ ---        ┆ ---       ┆ ---       ┆ ---       │\n",
       "│ str                    ┆ list[str]              ┆ str        ┆ bool      ┆ f64       ┆ u32       │\n",
       "╞════════════════════════╪════════════════════════╪════════════╪═══════════╪═══════════╪═══════════╡\n",
       "│ CHEBI:5557             ┆ [\"CBR\", \"ComplEx\", …   ┆ DOID:10763 ┆ true      ┆ 2.857143  ┆ 1         │\n",
       "│                        ┆ \"pCBR\"]                ┆            ┆           ┆           ┆           │\n",
       "│ CHEBI:141521           ┆ [\"CBR\", \"ComplEx\", …   ┆ DOID:10763 ┆ true      ┆ 6.428571  ┆ 1         │\n",
       "│                        ┆ \"pCBR\"]                ┆            ┆           ┆           ┆           │\n",
       "│ CHEBI:7824             ┆ [\"CBR\", \"ComplEx\", …   ┆ DOID:1826  ┆ true      ┆ 23.0      ┆ 1         │\n",
       "│                        ┆ \"pCBR\"]                ┆            ┆           ┆           ┆           │\n",
       "│ CHEBI:7824             ┆ [\"CBR\", \"ComplEx\", …   ┆ DOID:1824  ┆ true      ┆ 33.0      ┆ 3         │\n",
       "│                        ┆ \"pCBR\"]                ┆            ┆           ┆           ┆           │\n",
       "│ CHEBI:7824             ┆ [\"CBR\", \"ComplEx\", …   ┆ DOID:3312  ┆ false     ┆ 32.0      ┆ 2         │\n",
       "│                        ┆ \"pCBR\"]                ┆            ┆           ┆           ┆           │\n",
       "│ …                      ┆ …                      ┆ …          ┆ …         ┆ …         ┆ …         │\n",
       "│ CHEBI:6441             ┆ [\"CBR\", \"ComplEx\", …   ┆ DOID:12849 ┆ false     ┆ 45.857143 ┆ 1         │\n",
       "│                        ┆ \"pCBR\"]                ┆            ┆           ┆           ┆           │\n",
       "│ CHEBI:9725             ┆ [\"CBR\", \"ComplEx\", …   ┆ DOID:4481  ┆ false     ┆ 33.142857 ┆ 1         │\n",
       "│                        ┆ \"pCBR\"]                ┆            ┆           ┆           ┆           │\n",
       "│ IKEY:DYLUUSLLRIQKOE-UH ┆ [\"CBR\", \"ComplEx\", …   ┆ DOID:9952  ┆ false     ┆ 44.714286 ┆ 1         │\n",
       "│ FFFAOYSA…              ┆ \"pCBR\"]                ┆            ┆           ┆           ┆           │\n",
       "│ CHEBI:3756             ┆ [\"CBR\", \"ComplEx\", …   ┆ DOID:5419  ┆ false     ┆ 49.714286 ┆ 1         │\n",
       "│                        ┆ \"pCBR\"]                ┆            ┆           ┆           ┆           │\n",
       "│ CHEBI:135876           ┆ [\"CBR\", \"ComplEx\", …   ┆ DOID:11054 ┆ true      ┆ 34.857143 ┆ 1         │\n",
       "│                        ┆ \"pCBR\"]                ┆            ┆           ┆           ┆           │\n",
       "└────────────────────────┴────────────────────────┴────────────┴───────────┴───────────┴───────────┘"
      ]
     },
     "execution_count": 70,
     "metadata": {},
     "output_type": "execute_result"
    }
   ],
   "source": [
    "intersect_7_expand_res = intersection_7_res.explode(\n",
    "    [\"answers\", \"is_answer\", \"rank\", \"filt_rank\"]\n",
    ")\n",
    "intersect_7_expand_res"
   ]
  },
  {
   "cell_type": "markdown",
   "id": "640f026d",
   "metadata": {},
   "source": [
    "### join test with results to see  how many were predicted."
   ]
  },
  {
   "cell_type": "code",
   "execution_count": 71,
   "id": "63e86fec",
   "metadata": {},
   "outputs": [
    {
     "data": {
      "text/html": [
       "<div><style>\n",
       ".dataframe > thead > tr,\n",
       ".dataframe > tbody > tr {\n",
       "  text-align: right;\n",
       "  white-space: pre-wrap;\n",
       "}\n",
       "</style>\n",
       "<small>shape: (512, 5)</small><table border=\"1\" class=\"dataframe\"><thead><tr><th>h</th><th>answers</th><th>is_answer</th><th>rank</th><th>filt_rank</th></tr><tr><td>str</td><td>str</td><td>bool</td><td>f64</td><td>u32</td></tr></thead><tbody><tr><td>&quot;CHEBI:4647&quot;</td><td>&quot;DOID:1686&quot;</td><td>null</td><td>null</td><td>null</td></tr><tr><td>&quot;CHEBI:15854&quot;</td><td>&quot;DOID:14067&quot;</td><td>null</td><td>null</td><td>null</td></tr><tr><td>&quot;CHEBI:75988&quot;</td><td>&quot;KEGG:hsa05215&quot;</td><td>null</td><td>null</td><td>null</td></tr><tr><td>&quot;CHEBI:42191&quot;</td><td>&quot;WD:Q441094&quot;</td><td>null</td><td>null</td><td>null</td></tr><tr><td>&quot;CHEBI:28680&quot;</td><td>&quot;DOID:4708&quot;</td><td>null</td><td>null</td><td>null</td></tr><tr><td>&hellip;</td><td>&hellip;</td><td>&hellip;</td><td>&hellip;</td><td>&hellip;</td></tr><tr><td>&quot;CHEBI:31522&quot;</td><td>&quot;DOID:5822&quot;</td><td>null</td><td>null</td><td>null</td></tr><tr><td>&quot;CHEBI:5004&quot;</td><td>&quot;DOID:60145&quot;</td><td>null</td><td>null</td><td>null</td></tr><tr><td>&quot;CHEBI:64358&quot;</td><td>&quot;DOID:0110035&quot;</td><td>null</td><td>null</td><td>null</td></tr><tr><td>&quot;CHEBI:28748&quot;</td><td>&quot;DOID:3004&quot;</td><td>null</td><td>null</td><td>null</td></tr><tr><td>&quot;CHEBI:50727&quot;</td><td>&quot;DOID:5825&quot;</td><td>null</td><td>null</td><td>null</td></tr></tbody></table></div>"
      ],
      "text/plain": [
       "shape: (512, 5)\n",
       "┌─────────────┬───────────────┬───────────┬──────┬───────────┐\n",
       "│ h           ┆ answers       ┆ is_answer ┆ rank ┆ filt_rank │\n",
       "│ ---         ┆ ---           ┆ ---       ┆ ---  ┆ ---       │\n",
       "│ str         ┆ str           ┆ bool      ┆ f64  ┆ u32       │\n",
       "╞═════════════╪═══════════════╪═══════════╪══════╪═══════════╡\n",
       "│ CHEBI:4647  ┆ DOID:1686     ┆ null      ┆ null ┆ null      │\n",
       "│ CHEBI:15854 ┆ DOID:14067    ┆ null      ┆ null ┆ null      │\n",
       "│ CHEBI:75988 ┆ KEGG:hsa05215 ┆ null      ┆ null ┆ null      │\n",
       "│ CHEBI:42191 ┆ WD:Q441094    ┆ null      ┆ null ┆ null      │\n",
       "│ CHEBI:28680 ┆ DOID:4708     ┆ null      ┆ null ┆ null      │\n",
       "│ …           ┆ …             ┆ …         ┆ …    ┆ …         │\n",
       "│ CHEBI:31522 ┆ DOID:5822     ┆ null      ┆ null ┆ null      │\n",
       "│ CHEBI:5004  ┆ DOID:60145    ┆ null      ┆ null ┆ null      │\n",
       "│ CHEBI:64358 ┆ DOID:0110035  ┆ null      ┆ null ┆ null      │\n",
       "│ CHEBI:28748 ┆ DOID:3004     ┆ null      ┆ null ┆ null      │\n",
       "│ CHEBI:50727 ┆ DOID:5825     ┆ null      ┆ null ┆ null      │\n",
       "└─────────────┴───────────────┴───────────┴──────┴───────────┘"
      ]
     },
     "execution_count": 71,
     "metadata": {},
     "output_type": "execute_result"
    }
   ],
   "source": [
    "intersect_res = test.join(\n",
    "    intersect_7_expand_res.select(pl.all().exclude([\"method\"])).filter(\n",
    "        pl.col(\"is_answer\") == True\n",
    "    ),\n",
    "    on=[\"h\", \"answers\"],\n",
    "    how=\"left\",\n",
    ")\n",
    "\n",
    "intersect_res"
   ]
  },
  {
   "cell_type": "markdown",
   "id": "593b8756",
   "metadata": {},
   "source": [
    "## calculate predictions (MRR/Hits@K)"
   ]
  },
  {
   "cell_type": "markdown",
   "id": "9feceb1c",
   "metadata": {},
   "source": [
    "### extract rank positions"
   ]
  },
  {
   "cell_type": "code",
   "execution_count": 72,
   "id": "aef79d47",
   "metadata": {},
   "outputs": [],
   "source": [
    "# unfiltered score_ls\n",
    "score_ls = intersect_res.with_columns(pl.col(\"filt_rank\").fill_null(1000000))[\n",
    "    \"filt_rank\"\n",
    "].to_numpy()\n",
    "\n",
    "# filtered score_ls\n",
    "filt_score_ls = intersect_res.drop_nulls()[\"filt_rank\"].to_numpy()"
   ]
  },
  {
   "cell_type": "markdown",
   "id": "81251e4a",
   "metadata": {},
   "source": [
    "### Unfiltered performance"
   ]
  },
  {
   "cell_type": "code",
   "execution_count": 73,
   "id": "9e4b00b4",
   "metadata": {},
   "outputs": [],
   "source": [
    "def hitsatk(score: np.array, k: int = 10):\n",
    "    \"\"\"\n",
    "    Calculate the hits@k metric\n",
    "    \"\"\"\n",
    "    return np.sum(score <= k) / (score.shape[0])"
   ]
  },
  {
   "cell_type": "code",
   "execution_count": 74,
   "id": "08e4dbcd",
   "metadata": {},
   "outputs": [
    {
     "name": "stdout",
     "output_type": "stream",
     "text": [
      "MRR: 0.0459\n",
      "Hits@1: 0.0449\n",
      "Hits@3: 0.0469\n",
      "Hits@10: 0.0469\n"
     ]
    }
   ],
   "source": [
    "print(f\"MRR: {(1/score_ls).mean():.4f}\")\n",
    "print(f\"Hits@1: {hitsatk(score_ls,1):.4f}\")\n",
    "print(f\"Hits@3: {hitsatk(score_ls,3):.4f}\")\n",
    "print(f\"Hits@10: {hitsatk(score_ls,10):.4f}\")"
   ]
  },
  {
   "cell_type": "markdown",
   "id": "2fabcbeb",
   "metadata": {},
   "source": [
    "### Filtered performance"
   ]
  },
  {
   "cell_type": "code",
   "execution_count": 75,
   "id": "88c2a97c",
   "metadata": {},
   "outputs": [
    {
     "name": "stdout",
     "output_type": "stream",
     "text": [
      "MRR: 0.9792\n",
      "Hits@1: 0.9583\n",
      "Hits@3: 1.0000\n",
      "Hits@10: 1.0000\n"
     ]
    }
   ],
   "source": [
    "# Only 24 of 512 have predictions\n",
    "print(f\"MRR: {(1/filt_score_ls).mean():.4f}\")\n",
    "print(f\"Hits@1: {hitsatk(filt_score_ls,1):.4f}\")\n",
    "print(f\"Hits@3: {hitsatk(filt_score_ls,3):.4f}\")\n",
    "print(f\"Hits@10: {hitsatk(filt_score_ls,10):.4f}\")"
   ]
  },
  {
   "cell_type": "markdown",
   "id": "3543e7ad",
   "metadata": {},
   "source": [
    "# Generate intersections for all combinations"
   ]
  },
  {
   "cell_type": "code",
   "execution_count": 52,
   "id": "e4777800",
   "metadata": {},
   "outputs": [
    {
     "data": {
      "text/plain": [
       "[('CBR', 'TransE'),\n",
       " ('CBR', 'DistMult'),\n",
       " ('CBR', 'ComplEx'),\n",
       " ('CBR', 'RotatE'),\n",
       " ('pCBR', 'TransE')]"
      ]
     },
     "execution_count": 52,
     "metadata": {},
     "output_type": "execute_result"
    }
   ],
   "source": [
    "algo_combos2[0:5]"
   ]
  },
  {
   "cell_type": "code",
   "execution_count": 79,
   "id": "4d5a9dbd",
   "metadata": {},
   "outputs": [],
   "source": [
    "# get ranks of all combinations of length 2 to 7\n",
    "to_concat = list()\n",
    "for algos in algo_combos2:\n",
    "    to_concat.append(\n",
    "        get_ranks(get_intersection_answer(algos=algos)).explode(\n",
    "            [\"answers\", \"is_answer\", \"rank\", \"filt_rank\"]\n",
    "        )\n",
    "    )"
   ]
  },
  {
   "cell_type": "code",
   "execution_count": 81,
   "id": "f6a45a24",
   "metadata": {},
   "outputs": [
    {
     "data": {
      "text/html": [
       "<div><style>\n",
       ".dataframe > thead > tr,\n",
       ".dataframe > tbody > tr {\n",
       "  text-align: right;\n",
       "  white-space: pre-wrap;\n",
       "}\n",
       "</style>\n",
       "<small>shape: (2, 6)</small><table border=\"1\" class=\"dataframe\"><thead><tr><th>h</th><th>method</th><th>answers</th><th>is_answer</th><th>rank</th><th>filt_rank</th></tr><tr><td>str</td><td>list[str]</td><td>str</td><td>bool</td><td>f64</td><td>u32</td></tr></thead><tbody><tr><td>&quot;CHEBI:8714&quot;</td><td>[&quot;CBR&quot;, &quot;TransE&quot;]</td><td>&quot;DOID:60164&quot;</td><td>false</td><td>48.0</td><td>17</td></tr><tr><td>&quot;CHEBI:8714&quot;</td><td>[&quot;CBR&quot;, &quot;TransE&quot;]</td><td>&quot;DOID:10763&quot;</td><td>true</td><td>2.5</td><td>1</td></tr></tbody></table></div>"
      ],
      "text/plain": [
       "shape: (2, 6)\n",
       "┌────────────┬───────────────────┬────────────┬───────────┬──────┬───────────┐\n",
       "│ h          ┆ method            ┆ answers    ┆ is_answer ┆ rank ┆ filt_rank │\n",
       "│ ---        ┆ ---               ┆ ---        ┆ ---       ┆ ---  ┆ ---       │\n",
       "│ str        ┆ list[str]         ┆ str        ┆ bool      ┆ f64  ┆ u32       │\n",
       "╞════════════╪═══════════════════╪════════════╪═══════════╪══════╪═══════════╡\n",
       "│ CHEBI:8714 ┆ [\"CBR\", \"TransE\"] ┆ DOID:60164 ┆ false     ┆ 48.0 ┆ 17        │\n",
       "│ CHEBI:8714 ┆ [\"CBR\", \"TransE\"] ┆ DOID:10763 ┆ true      ┆ 2.5  ┆ 1         │\n",
       "└────────────┴───────────────────┴────────────┴───────────┴──────┴───────────┘"
      ]
     },
     "execution_count": 81,
     "metadata": {},
     "output_type": "execute_result"
    }
   ],
   "source": [
    "intersect_df = pl.concat(to_concat)\n",
    "intersect_df.head(2)"
   ]
  },
  {
   "cell_type": "code",
   "execution_count": 82,
   "id": "93218152",
   "metadata": {},
   "outputs": [
    {
     "data": {
      "text/plain": [
       "(132785, 6)"
      ]
     },
     "execution_count": 82,
     "metadata": {},
     "output_type": "execute_result"
    }
   ],
   "source": [
    "intersect_df.shape"
   ]
  },
  {
   "cell_type": "code",
   "execution_count": 83,
   "id": "dcccdbf1",
   "metadata": {},
   "outputs": [
    {
     "data": {
      "text/html": [
       "<div><style>\n",
       ".dataframe > thead > tr,\n",
       ".dataframe > tbody > tr {\n",
       "  text-align: right;\n",
       "  white-space: pre-wrap;\n",
       "}\n",
       "</style>\n",
       "<small>shape: (2, 7)</small><table border=\"1\" class=\"dataframe\"><thead><tr><th>h</th><th>method</th><th>answers</th><th>is_answer</th><th>rank</th><th>filt_rank</th><th>method_size</th></tr><tr><td>str</td><td>list[str]</td><td>str</td><td>bool</td><td>f64</td><td>u32</td><td>u32</td></tr></thead><tbody><tr><td>&quot;CHEBI:8714&quot;</td><td>[&quot;CBR&quot;, &quot;TransE&quot;]</td><td>&quot;DOID:60164&quot;</td><td>false</td><td>48.0</td><td>17</td><td>2</td></tr><tr><td>&quot;CHEBI:8714&quot;</td><td>[&quot;CBR&quot;, &quot;TransE&quot;]</td><td>&quot;DOID:10763&quot;</td><td>true</td><td>2.5</td><td>1</td><td>2</td></tr></tbody></table></div>"
      ],
      "text/plain": [
       "shape: (2, 7)\n",
       "┌────────────┬───────────────────┬────────────┬───────────┬──────┬───────────┬─────────────┐\n",
       "│ h          ┆ method            ┆ answers    ┆ is_answer ┆ rank ┆ filt_rank ┆ method_size │\n",
       "│ ---        ┆ ---               ┆ ---        ┆ ---       ┆ ---  ┆ ---       ┆ ---         │\n",
       "│ str        ┆ list[str]         ┆ str        ┆ bool      ┆ f64  ┆ u32       ┆ u32         │\n",
       "╞════════════╪═══════════════════╪════════════╪═══════════╪══════╪═══════════╪═════════════╡\n",
       "│ CHEBI:8714 ┆ [\"CBR\", \"TransE\"] ┆ DOID:60164 ┆ false     ┆ 48.0 ┆ 17        ┆ 2           │\n",
       "│ CHEBI:8714 ┆ [\"CBR\", \"TransE\"] ┆ DOID:10763 ┆ true      ┆ 2.5  ┆ 1         ┆ 2           │\n",
       "└────────────┴───────────────────┴────────────┴───────────┴──────┴───────────┴─────────────┘"
      ]
     },
     "execution_count": 83,
     "metadata": {},
     "output_type": "execute_result"
    }
   ],
   "source": [
    "# get method combo size\n",
    "intersect_df = intersect_df.with_columns(\n",
    "    pl.col(\"method\").list.len().alias(\"method_size\")\n",
    ")\n",
    "\n",
    "intersect_df.head(2)"
   ]
  },
  {
   "cell_type": "code",
   "execution_count": 130,
   "id": "ed8d7b89",
   "metadata": {},
   "outputs": [],
   "source": [
    "intersect_df.write_parquet(\"./data_output/intersection_method_combinations.parquet\")"
   ]
  },
  {
   "cell_type": "markdown",
   "id": "47ef1b0a",
   "metadata": {},
   "source": [
    "## Generate plot for intersection approach and check statistics"
   ]
  },
  {
   "cell_type": "code",
   "execution_count": 87,
   "id": "64836403",
   "metadata": {},
   "outputs": [],
   "source": [
    "intersect_df_pd = intersect_df.to_pandas()"
   ]
  },
  {
   "cell_type": "code",
   "execution_count": 95,
   "id": "dd1109be",
   "metadata": {},
   "outputs": [
    {
     "name": "stderr",
     "output_type": "stream",
     "text": [
      "/tmp/ipykernel_869292/1809915730.py:61: MatplotlibDeprecationWarning: The legendHandles attribute was deprecated in Matplotlib 3.7 and will be removed two minor releases later. Use legend_handles instead.\n",
      "  for lh in legend.legendHandles:\n"
     ]
    },
    {
     "data": {
      "image/png": "[encoded data removed]",
      "text/plain": [
       "<Figure size 640x480 with 1 Axes>"
      ]
     },
     "metadata": {},
     "output_type": "display_data"
    }
   ],
   "source": [
    "plt.rcParams[\"font.size\"] = 12\n",
    "fig, ax = plt.subplots()\n",
    "\n",
    "x, y, hue = \"method_size\", \"filt_rank\", \"is_answer\"\n",
    "\n",
    "sns.boxplot(\n",
    "    ax=ax,\n",
    "    data=intersect_df_pd,\n",
    "    x=x,\n",
    "    y=y,\n",
    "    hue=hue,\n",
    "    saturation=0.75,\n",
    "    width=0.20,\n",
    "    showfliers=False,\n",
    "    whis=0,\n",
    "    # whiskerprops=dict(color=\"black\"),\n",
    "    # capprops=dict(color=\"black\"),\n",
    ")\n",
    "\n",
    "# fixes weird alpha when applied to bordering\n",
    "alpha = 0.25\n",
    "for patch in ax.patches:\n",
    "    fc = patch.get_facecolor()\n",
    "    patch.set_facecolor(mpl.colors.to_rgba(fc, alpha))\n",
    "\n",
    "sns.violinplot(\n",
    "    ax=ax,\n",
    "    data=intersect_df_pd,\n",
    "    x=x,\n",
    "    y=y,\n",
    "    hue=hue,\n",
    "    split=True,\n",
    "    inner=None,\n",
    "    cut=0.1,\n",
    "    saturation=0.75,\n",
    ")\n",
    "\n",
    "for violin in ax.collections:\n",
    "    violin.set_alpha(0.5)\n",
    "\n",
    "# set labels\n",
    "ax.set(\n",
    "    ylim=[0.90, 100],\n",
    "    yscale=\"log\",\n",
    ")\n",
    "ax.set_xlabel(\"Algorithm Combinations\", fontsize=14)\n",
    "ax.set_ylabel(\"Ensemble Rank\", fontsize=14)\n",
    "\n",
    "sns.despine(ax=ax)\n",
    "\n",
    "# Get the handles and labels\n",
    "handles, labels = ax.get_legend_handles_labels()\n",
    "legend = plt.legend(\n",
    "    #    handles[0:2], labels[0:2], loc=(0.72, 0.88), frameon=False, borderaxespad=0\n",
    "    handles[0:2],\n",
    "    [\"Not Indication\", \"Indication\"],\n",
    "    loc=(0.72, 0.88),\n",
    "    frameon=False,\n",
    "    borderaxespad=0,\n",
    ")\n",
    "for lh in legend.legendHandles:\n",
    "    lh.set_alpha(0.75)\n",
    "\n",
    "plt.savefig(\"./figures/intersection_ensemble_rank.png\", dpi=400, bbox_inches=\"tight\")\n",
    "plt.show()"
   ]
  },
  {
   "cell_type": "markdown",
   "id": "8a776a3b",
   "metadata": {},
   "source": [
    "## Get stats on the intersection approach.\n",
    "* Intra-indications\n",
    "    * Based on the Kruskal-Wallace Test, at least one median was statistically different\n",
    "    * Method Size 2 is statistically different from size >=4\n",
    "    * Method Size 3 is statistically different from size >=4\n",
    "    * Method Size 4 is statistically different from size >=5\n",
    "    * Method Size 5 is statistically different from size >=6\n",
    "    * Method Size 6 is _NOT_ statistically different from size 7\n",
    "* Intra-non-indications\n",
    "    * Based on the Kruskal-Wallace Test, at least one median was statistically different\n",
    "    * Method Size 2 is statistically different from size >=3\n",
    "    * Method Size 3 is statistically different from size >=4\n",
    "    * Method Size 4 is statistically different from size >=5\n",
    "    * Method Size 5 is _NOT_ statistically different from size >=6\n",
    "    * Method Size 6 is _NOT_ statistically different from size 7\n",
    "* Inter indications & non-indications\n",
    "    * Based on the Kruskal-Wallace Test, at least one median was statistically different\n",
    "    * For each set size, Indication rank was statistically different from Non-Indication rank"
   ]
  },
  {
   "cell_type": "markdown",
   "id": "c4dd4a08",
   "metadata": {},
   "source": [
    "### Intra indication\n",
    "* run non-parametric anova equivalent (kruskal-wallace) to observe if there's a difference in at least one of the group medians in the known Trues\n",
    "* run non-parametric paired t-test equivalent (mann-whitney) to observe differences between each pair."
   ]
  },
  {
   "cell_type": "markdown",
   "id": "8068cab4",
   "metadata": {},
   "source": [
    "#### Kruskal-Wallace"
   ]
  },
  {
   "cell_type": "code",
   "execution_count": 105,
   "id": "8733f1a5",
   "metadata": {},
   "outputs": [
    {
     "data": {
      "text/plain": [
       "KruskalResult(statistic=134.8567501690378, pvalue=2.215549882824446e-27)"
      ]
     },
     "execution_count": 105,
     "metadata": {},
     "output_type": "execute_result"
    }
   ],
   "source": [
    "# Results suggest that at least one median is statistically different from the other (intra-Indication set)\n",
    "scipy.stats.kruskal(\n",
    "    intersect_df.filter(pl.col(\"method_size\") == 2, pl.col(\"is_answer\") == True)[\n",
    "        \"rank\"\n",
    "    ],\n",
    "    intersect_df.filter(pl.col(\"method_size\") == 3, pl.col(\"is_answer\") == True)[\n",
    "        \"rank\"\n",
    "    ],\n",
    "    intersect_df.filter(pl.col(\"method_size\") == 4, pl.col(\"is_answer\") == True)[\n",
    "        \"rank\"\n",
    "    ],\n",
    "    intersect_df.filter(pl.col(\"method_size\") == 5, pl.col(\"is_answer\") == True)[\n",
    "        \"rank\"\n",
    "    ],\n",
    "    intersect_df.filter(pl.col(\"method_size\") == 6, pl.col(\"is_answer\") == True)[\n",
    "        \"rank\"\n",
    "    ],\n",
    "    intersect_df.filter(pl.col(\"method_size\") == 7, pl.col(\"is_answer\") == True)[\n",
    "        \"rank\"\n",
    "    ],\n",
    ")"
   ]
  },
  {
   "cell_type": "markdown",
   "id": "c2cf5330",
   "metadata": {},
   "source": [
    "#### Mann-Whitney U-test\n",
    "* Method Size 2 is statistically different from size >=4\n",
    "* Method Size 3 is statistically different from size >=4\n",
    "* Method Size 4 is statistically different from size >=5\n",
    "* Method Size 5 is statistically different from size >=6\n",
    "* Method Size 6 is _NOT_ statistically different from size 7"
   ]
  },
  {
   "cell_type": "code",
   "execution_count": 107,
   "id": "ffdc18fb",
   "metadata": {},
   "outputs": [
    {
     "data": {
      "text/plain": [
       "MannwhitneyuResult(statistic=35408278.5, pvalue=0.18998463097860863)"
      ]
     },
     "execution_count": 107,
     "metadata": {},
     "output_type": "execute_result"
    }
   ],
   "source": [
    "# mann whitney to compare method_size 2 and 3\n",
    "scipy.stats.mannwhitneyu(\n",
    "    x=intersect_df.filter(pl.col(\"method_size\") == 2, pl.col(\"is_answer\") == True)[\n",
    "        \"rank\"\n",
    "    ],\n",
    "    y=intersect_df.filter(pl.col(\"method_size\") == 3, pl.col(\"is_answer\") == True)[\n",
    "        \"rank\"\n",
    "    ],\n",
    ")"
   ]
  },
  {
   "cell_type": "code",
   "execution_count": 108,
   "id": "41151cc9",
   "metadata": {},
   "outputs": [
    {
     "data": {
      "text/plain": [
       "MannwhitneyuResult(statistic=27746449.0, pvalue=0.027165713101576706)"
      ]
     },
     "execution_count": 108,
     "metadata": {},
     "output_type": "execute_result"
    }
   ],
   "source": [
    "# mann whitney to compare  method size 2 and 4\n",
    "scipy.stats.mannwhitneyu(\n",
    "    x=intersect_df.filter(pl.col(\"method_size\") == 2, pl.col(\"is_answer\") == True)[\n",
    "        \"rank\"\n",
    "    ],\n",
    "    y=intersect_df.filter(pl.col(\"method_size\") == 4, pl.col(\"is_answer\") == True)[\n",
    "        \"rank\"\n",
    "    ],\n",
    ")"
   ]
  },
  {
   "cell_type": "code",
   "execution_count": 112,
   "id": "3d468576",
   "metadata": {},
   "outputs": [
    {
     "data": {
      "text/plain": [
       "MannwhitneyuResult(statistic=42957083.0, pvalue=1.2941627223426726e-05)"
      ]
     },
     "execution_count": 112,
     "metadata": {},
     "output_type": "execute_result"
    }
   ],
   "source": [
    "# mann whitney to compare method size 3 and 4\n",
    "scipy.stats.mannwhitneyu(\n",
    "    x=intersect_df.filter(pl.col(\"method_size\") == 3, pl.col(\"is_answer\") == True)[\n",
    "        \"rank\"\n",
    "    ],\n",
    "    y=intersect_df.filter(pl.col(\"method_size\") == 4, pl.col(\"is_answer\") == True)[\n",
    "        \"rank\"\n",
    "    ],\n",
    ")"
   ]
  },
  {
   "cell_type": "code",
   "execution_count": 113,
   "id": "d0456496",
   "metadata": {},
   "outputs": [
    {
     "data": {
      "text/plain": [
       "MannwhitneyuResult(statistic=13960150.0, pvalue=6.180359722005624e-08)"
      ]
     },
     "execution_count": 113,
     "metadata": {},
     "output_type": "execute_result"
    }
   ],
   "source": [
    "# mann whitney to compare method size 4 and 5\n",
    "scipy.stats.mannwhitneyu(\n",
    "    x=intersect_df.filter(pl.col(\"method_size\") == 4, pl.col(\"is_answer\") == True)[\n",
    "        \"rank\"\n",
    "    ],\n",
    "    y=intersect_df.filter(pl.col(\"method_size\") == 5, pl.col(\"is_answer\") == True)[\n",
    "        \"rank\"\n",
    "    ],\n",
    ")"
   ]
  },
  {
   "cell_type": "code",
   "execution_count": 114,
   "id": "83264cec",
   "metadata": {},
   "outputs": [
    {
     "data": {
      "text/plain": [
       "MannwhitneyuResult(statistic=1347025.0, pvalue=0.0002489845557629468)"
      ]
     },
     "execution_count": 114,
     "metadata": {},
     "output_type": "execute_result"
    }
   ],
   "source": [
    "# mann whitney to compare method size 5 and 6\n",
    "scipy.stats.mannwhitneyu(\n",
    "    x=intersect_df.filter(pl.col(\"method_size\") == 5, pl.col(\"is_answer\") == True)[\n",
    "        \"rank\"\n",
    "    ],\n",
    "    y=intersect_df.filter(pl.col(\"method_size\") == 6, pl.col(\"is_answer\") == True)[\n",
    "        \"rank\"\n",
    "    ],\n",
    ")"
   ]
  },
  {
   "cell_type": "code",
   "execution_count": 115,
   "id": "abc46f38",
   "metadata": {},
   "outputs": [
    {
     "data": {
      "text/plain": [
       "MannwhitneyuResult(statistic=33585.5, pvalue=0.2369174323849853)"
      ]
     },
     "execution_count": 115,
     "metadata": {},
     "output_type": "execute_result"
    }
   ],
   "source": [
    "# mann whitney to compare method size 6 and 7\n",
    "scipy.stats.mannwhitneyu(\n",
    "    x=intersect_df.filter(pl.col(\"method_size\") == 6, pl.col(\"is_answer\") == True)[\n",
    "        \"rank\"\n",
    "    ],\n",
    "    y=intersect_df.filter(pl.col(\"method_size\") == 7, pl.col(\"is_answer\") == True)[\n",
    "        \"rank\"\n",
    "    ],\n",
    ")"
   ]
  },
  {
   "cell_type": "markdown",
   "id": "8ff6a2fc",
   "metadata": {},
   "source": [
    "### Intra 'not-indications'\n",
    "* run non-parametric anova equivalent (kruskal-wallace) to observe if there's a difference in at least one of the group medians in the Not-True group\n",
    "* run non-parametric paired t-test equivalent (mann-whitney) to observe differences between each pair."
   ]
  },
  {
   "cell_type": "markdown",
   "id": "65583d1c",
   "metadata": {},
   "source": [
    "#### Kruskal-Wallace"
   ]
  },
  {
   "cell_type": "code",
   "execution_count": 116,
   "id": "d02a3bec",
   "metadata": {},
   "outputs": [
    {
     "data": {
      "text/plain": [
       "KruskalResult(statistic=3465.599597105422, pvalue=0.0)"
      ]
     },
     "execution_count": 116,
     "metadata": {},
     "output_type": "execute_result"
    }
   ],
   "source": [
    "# Results suggest that at least one median is statistically different from the other (intra-notIndication set)\n",
    "scipy.stats.kruskal(\n",
    "    intersect_df.filter(pl.col(\"method_size\") == 2, pl.col(\"is_answer\") == False)[\n",
    "        \"rank\"\n",
    "    ],\n",
    "    intersect_df.filter(pl.col(\"method_size\") == 3, pl.col(\"is_answer\") == False)[\n",
    "        \"rank\"\n",
    "    ],\n",
    "    intersect_df.filter(pl.col(\"method_size\") == 4, pl.col(\"is_answer\") == False)[\n",
    "        \"rank\"\n",
    "    ],\n",
    "    intersect_df.filter(pl.col(\"method_size\") == 5, pl.col(\"is_answer\") == False)[\n",
    "        \"rank\"\n",
    "    ],\n",
    "    intersect_df.filter(pl.col(\"method_size\") == 6, pl.col(\"is_answer\") == False)[\n",
    "        \"rank\"\n",
    "    ],\n",
    "    intersect_df.filter(pl.col(\"method_size\") == 7, pl.col(\"is_answer\") == False)[\n",
    "        \"rank\"\n",
    "    ],\n",
    ")"
   ]
  },
  {
   "cell_type": "markdown",
   "id": "a438e7b8",
   "metadata": {},
   "source": [
    "### Mann-Whitney U-test\n",
    "* Method Size 2 is statistically different from size >=3\n",
    "* Method Size 3 is statistically different from size >=4\n",
    "* Method Size 4 is statistically different from size >=5\n",
    "* Method Size 5 is _NOT_ statistically different from size >=6\n",
    "* Method Size 6 is _NOT_ statistically different from size 7\n"
   ]
  },
  {
   "cell_type": "code",
   "execution_count": 117,
   "id": "1b001c73",
   "metadata": {},
   "outputs": [
    {
     "data": {
      "text/plain": [
       "MannwhitneyuResult(statistic=924855168.5, pvalue=1.5808629887990133e-283)"
      ]
     },
     "execution_count": 117,
     "metadata": {},
     "output_type": "execute_result"
    }
   ],
   "source": [
    "# mann whitney to compare method_size 2 and 3\n",
    "scipy.stats.mannwhitneyu(\n",
    "    x=intersect_df.filter(pl.col(\"method_size\") == 2, pl.col(\"is_answer\") == False)[\n",
    "        \"rank\"\n",
    "    ],\n",
    "    y=intersect_df.filter(pl.col(\"method_size\") == 3, pl.col(\"is_answer\") == False)[\n",
    "        \"rank\"\n",
    "    ],\n",
    ")"
   ]
  },
  {
   "cell_type": "code",
   "execution_count": 118,
   "id": "917737d2",
   "metadata": {},
   "outputs": [
    {
     "data": {
      "text/plain": [
       "MannwhitneyuResult(statistic=322294609.5, pvalue=5.275575326937566e-83)"
      ]
     },
     "execution_count": 118,
     "metadata": {},
     "output_type": "execute_result"
    }
   ],
   "source": [
    "# mann whitney to compare method_size 3 and 4\n",
    "scipy.stats.mannwhitneyu(\n",
    "    x=intersect_df.filter(pl.col(\"method_size\") == 3, pl.col(\"is_answer\") == False)[\n",
    "        \"rank\"\n",
    "    ],\n",
    "    y=intersect_df.filter(pl.col(\"method_size\") == 4, pl.col(\"is_answer\") == False)[\n",
    "        \"rank\"\n",
    "    ],\n",
    ")"
   ]
  },
  {
   "cell_type": "code",
   "execution_count": 119,
   "id": "e2883db3",
   "metadata": {},
   "outputs": [
    {
     "data": {
      "text/plain": [
       "MannwhitneyuResult(statistic=43235032.0, pvalue=3.840201021038761e-12)"
      ]
     },
     "execution_count": 119,
     "metadata": {},
     "output_type": "execute_result"
    }
   ],
   "source": [
    "# mann whitney to compare method_size 4 and 5\n",
    "scipy.stats.mannwhitneyu(\n",
    "    x=intersect_df.filter(pl.col(\"method_size\") == 4, pl.col(\"is_answer\") == False)[\n",
    "        \"rank\"\n",
    "    ],\n",
    "    y=intersect_df.filter(pl.col(\"method_size\") == 5, pl.col(\"is_answer\") == False)[\n",
    "        \"rank\"\n",
    "    ],\n",
    ")"
   ]
  },
  {
   "cell_type": "code",
   "execution_count": 120,
   "id": "9d609da1",
   "metadata": {},
   "outputs": [
    {
     "data": {
      "text/plain": [
       "MannwhitneyuResult(statistic=2067369.5, pvalue=0.20098201152285422)"
      ]
     },
     "execution_count": 120,
     "metadata": {},
     "output_type": "execute_result"
    }
   ],
   "source": [
    "# mann whitney to compare method_size 5 and 6\n",
    "scipy.stats.mannwhitneyu(\n",
    "    x=intersect_df.filter(pl.col(\"method_size\") == 5, pl.col(\"is_answer\") == False)[\n",
    "        \"rank\"\n",
    "    ],\n",
    "    y=intersect_df.filter(pl.col(\"method_size\") == 6, pl.col(\"is_answer\") == False)[\n",
    "        \"rank\"\n",
    "    ],\n",
    ")"
   ]
  },
  {
   "cell_type": "code",
   "execution_count": 122,
   "id": "e78f55fd",
   "metadata": {},
   "outputs": [
    {
     "data": {
      "text/plain": [
       "MannwhitneyuResult(statistic=27531.0, pvalue=0.8251866735243003)"
      ]
     },
     "execution_count": 122,
     "metadata": {},
     "output_type": "execute_result"
    }
   ],
   "source": [
    "# mann whitney to compare method_size 6 and 7\n",
    "scipy.stats.mannwhitneyu(\n",
    "    x=intersect_df.filter(pl.col(\"method_size\") == 7, pl.col(\"is_answer\") == False)[\n",
    "        \"rank\"\n",
    "    ],\n",
    "    y=intersect_df.filter(pl.col(\"method_size\") == 6, pl.col(\"is_answer\") == False)[\n",
    "        \"rank\"\n",
    "    ],\n",
    ")"
   ]
  },
  {
   "cell_type": "markdown",
   "id": "a1e9a20d",
   "metadata": {},
   "source": [
    "### Interset comparison"
   ]
  },
  {
   "cell_type": "markdown",
   "id": "db8913aa",
   "metadata": {},
   "source": [
    "kruskall-wallace"
   ]
  },
  {
   "cell_type": "code",
   "execution_count": 123,
   "id": "425560c3",
   "metadata": {},
   "outputs": [
    {
     "data": {
      "text/plain": [
       "KruskalResult(statistic=25780.12428607438, pvalue=0.0)"
      ]
     },
     "execution_count": 123,
     "metadata": {},
     "output_type": "execute_result"
    }
   ],
   "source": [
    "# Results suggest that at least one median is statistically different from the other (intra-Indication set)\n",
    "scipy.stats.kruskal(\n",
    "    intersect_df.filter(pl.col(\"method_size\") == 2, pl.col(\"is_answer\") == False)[\n",
    "        \"rank\"\n",
    "    ],\n",
    "    intersect_df.filter(pl.col(\"method_size\") == 3, pl.col(\"is_answer\") == False)[\n",
    "        \"rank\"\n",
    "    ],\n",
    "    intersect_df.filter(pl.col(\"method_size\") == 4, pl.col(\"is_answer\") == False)[\n",
    "        \"rank\"\n",
    "    ],\n",
    "    intersect_df.filter(pl.col(\"method_size\") == 5, pl.col(\"is_answer\") == False)[\n",
    "        \"rank\"\n",
    "    ],\n",
    "    intersect_df.filter(pl.col(\"method_size\") == 6, pl.col(\"is_answer\") == False)[\n",
    "        \"rank\"\n",
    "    ],\n",
    "    intersect_df.filter(pl.col(\"method_size\") == 7, pl.col(\"is_answer\") == False)[\n",
    "        \"rank\"\n",
    "    ],\n",
    "    intersect_df.filter(pl.col(\"method_size\") == 3, pl.col(\"is_answer\") == True)[\n",
    "        \"rank\"\n",
    "    ],\n",
    "    intersect_df.filter(pl.col(\"method_size\") == 2, pl.col(\"is_answer\") == True)[\n",
    "        \"rank\"\n",
    "    ],\n",
    "    intersect_df.filter(pl.col(\"method_size\") == 4, pl.col(\"is_answer\") == True)[\n",
    "        \"rank\"\n",
    "    ],\n",
    "    intersect_df.filter(pl.col(\"method_size\") == 5, pl.col(\"is_answer\") == True)[\n",
    "        \"rank\"\n",
    "    ],\n",
    "    intersect_df.filter(pl.col(\"method_size\") == 6, pl.col(\"is_answer\") == True)[\n",
    "        \"rank\"\n",
    "    ],\n",
    "    intersect_df.filter(pl.col(\"method_size\") == 7, pl.col(\"is_answer\") == True)[\n",
    "        \"rank\"\n",
    "    ],\n",
    ")"
   ]
  },
  {
   "cell_type": "markdown",
   "id": "87b80682",
   "metadata": {},
   "source": [
    "#### Mann-Whitney\n",
    "* test between each set is all statistically significant."
   ]
  },
  {
   "cell_type": "code",
   "execution_count": 124,
   "id": "96f108e7",
   "metadata": {},
   "outputs": [
    {
     "data": {
      "text/plain": [
       "MannwhitneyuResult(statistic=246704949.5, pvalue=0.0)"
      ]
     },
     "execution_count": 124,
     "metadata": {},
     "output_type": "execute_result"
    }
   ],
   "source": [
    "# mann whitney to compare method_size 2, Trues to Falses\n",
    "scipy.stats.mannwhitneyu(\n",
    "    x=intersect_df.filter(pl.col(\"method_size\") == 2, pl.col(\"is_answer\") == False)[\n",
    "        \"rank\"\n",
    "    ],\n",
    "    y=intersect_df.filter(pl.col(\"method_size\") == 2, pl.col(\"is_answer\") == True)[\n",
    "        \"rank\"\n",
    "    ],\n",
    ")"
   ]
  },
  {
   "cell_type": "code",
   "execution_count": 125,
   "id": "faf3bb26",
   "metadata": {},
   "outputs": [
    {
     "data": {
      "text/plain": [
       "MannwhitneyuResult(statistic=281752298.0, pvalue=0.0)"
      ]
     },
     "execution_count": 125,
     "metadata": {},
     "output_type": "execute_result"
    }
   ],
   "source": [
    "# mann whitney to compare method_size 3, Trues to Falses\n",
    "scipy.stats.mannwhitneyu(\n",
    "    x=intersect_df.filter(pl.col(\"method_size\") == 3, pl.col(\"is_answer\") == False)[\n",
    "        \"rank\"\n",
    "    ],\n",
    "    y=intersect_df.filter(pl.col(\"method_size\") == 3, pl.col(\"is_answer\") == True)[\n",
    "        \"rank\"\n",
    "    ],\n",
    ")"
   ]
  },
  {
   "cell_type": "code",
   "execution_count": 126,
   "id": "85eb7226",
   "metadata": {},
   "outputs": [
    {
     "data": {
      "text/plain": [
       "MannwhitneyuResult(statistic=102138952.5, pvalue=0.0)"
      ]
     },
     "execution_count": 126,
     "metadata": {},
     "output_type": "execute_result"
    }
   ],
   "source": [
    "# mann whitney to compare method_size 4, Trues to Falses\n",
    "scipy.stats.mannwhitneyu(\n",
    "    x=intersect_df.filter(pl.col(\"method_size\") == 4, pl.col(\"is_answer\") == False)[\n",
    "        \"rank\"\n",
    "    ],\n",
    "    y=intersect_df.filter(pl.col(\"method_size\") == 4, pl.col(\"is_answer\") == True)[\n",
    "        \"rank\"\n",
    "    ],\n",
    ")"
   ]
  },
  {
   "cell_type": "code",
   "execution_count": 127,
   "id": "459cc373",
   "metadata": {},
   "outputs": [
    {
     "data": {
      "text/plain": [
       "MannwhitneyuResult(statistic=13011720.0, pvalue=0.0)"
      ]
     },
     "execution_count": 127,
     "metadata": {},
     "output_type": "execute_result"
    }
   ],
   "source": [
    "# mann whitney to compare method_size 5, Trues to Falses\n",
    "scipy.stats.mannwhitneyu(\n",
    "    x=intersect_df.filter(pl.col(\"method_size\") == 5, pl.col(\"is_answer\") == False)[\n",
    "        \"rank\"\n",
    "    ],\n",
    "    y=intersect_df.filter(pl.col(\"method_size\") == 5, pl.col(\"is_answer\") == True)[\n",
    "        \"rank\"\n",
    "    ],\n",
    ")"
   ]
  },
  {
   "cell_type": "code",
   "execution_count": 128,
   "id": "53397cd6",
   "metadata": {},
   "outputs": [
    {
     "data": {
      "text/plain": [
       "MannwhitneyuResult(statistic=524477.5, pvalue=3.5929524770838115e-127)"
      ]
     },
     "execution_count": 128,
     "metadata": {},
     "output_type": "execute_result"
    }
   ],
   "source": [
    "# mann whitney to compare method_size 6, Trues to Falses\n",
    "scipy.stats.mannwhitneyu(\n",
    "    x=intersect_df.filter(pl.col(\"method_size\") == 6, pl.col(\"is_answer\") == False)[\n",
    "        \"rank\"\n",
    "    ],\n",
    "    y=intersect_df.filter(pl.col(\"method_size\") == 6, pl.col(\"is_answer\") == True)[\n",
    "        \"rank\"\n",
    "    ],\n",
    ")"
   ]
  },
  {
   "cell_type": "code",
   "execution_count": 129,
   "id": "5685e1db",
   "metadata": {},
   "outputs": [
    {
     "data": {
      "text/plain": [
       "MannwhitneyuResult(statistic=5063.0, pvalue=5.294983695264004e-17)"
      ]
     },
     "execution_count": 129,
     "metadata": {},
     "output_type": "execute_result"
    }
   ],
   "source": [
    "# mann whitney to compare method_size 7, Trues to Falses\n",
    "scipy.stats.mannwhitneyu(\n",
    "    x=intersect_df.filter(pl.col(\"method_size\") == 7, pl.col(\"is_answer\") == False)[\n",
    "        \"rank\"\n",
    "    ],\n",
    "    y=intersect_df.filter(pl.col(\"method_size\") == 7, pl.col(\"is_answer\") == True)[\n",
    "        \"rank\"\n",
    "    ],\n",
    ")"
   ]
  },
  {
   "cell_type": "markdown",
   "id": "10d3e1ce",
   "metadata": {},
   "source": [
    "#"
   ]
  },
  {
   "cell_type": "markdown",
   "id": "1676bb85",
   "metadata": {},
   "source": [
    "## Get the counts for each group"
   ]
  },
  {
   "cell_type": "code",
   "execution_count": 142,
   "id": "1f5285d0",
   "metadata": {},
   "outputs": [
    {
     "data": {
      "text/plain": [
       "(68, 7)"
      ]
     },
     "execution_count": 142,
     "metadata": {},
     "output_type": "execute_result"
    }
   ],
   "source": [
    "# Count of non-indications in a ensemble of 7\n",
    "intersect_df.filter(pl.col(\"method_size\") == 7, pl.col(\"is_answer\") == False).shape"
   ]
  },
  {
   "cell_type": "code",
   "execution_count": 143,
   "id": "4aa8e92a",
   "metadata": {},
   "outputs": [
    {
     "data": {
      "text/plain": [
       "(83, 7)"
      ]
     },
     "execution_count": 143,
     "metadata": {},
     "output_type": "execute_result"
    }
   ],
   "source": [
    "# Count of indications in a ensemble of 7\n",
    "intersect_df.filter(pl.col(\"method_size\") == 7, pl.col(\"is_answer\") == True).shape"
   ]
  },
  {
   "cell_type": "code",
   "execution_count": null,
   "id": "e4f1f9d4",
   "metadata": {},
   "outputs": [],
   "source": []
  }
 ],
 "metadata": {
  "kernelspec": {
   "display_name": "Python 3 (ipykernel)",
   "language": "python",
   "name": "python3"
  },
  "language_info": {
   "codemirror_mode": {
    "name": "ipython",
    "version": 3
   },
   "file_extension": ".py",
   "mimetype": "text/x-python",
   "name": "python",
   "nbconvert_exporter": "python",
   "pygments_lexer": "ipython3",
   "version": "3.11.9"
  }
 },
 "nbformat": 4,
 "nbformat_minor": 5
}
