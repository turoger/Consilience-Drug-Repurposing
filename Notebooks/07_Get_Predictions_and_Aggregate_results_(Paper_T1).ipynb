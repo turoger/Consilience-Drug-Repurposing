{
 "cells": [
  {
   "cell_type": "markdown",
   "id": "4ee23f8c",
   "metadata": {},
   "source": [
    "# Calculate results according to a unified test set rather than relying on automated individual model outputs\n",
    "* seems like some algorithms calculate performace of all answers for a given query rather than just the answer picked which could contribute to inconsistent scoring\n",
    "* this notebook unifies the answers and creates a test set to score the predictions on to ensure fair evaluation\n",
    "* rank predictions are filtered, meaning if a true prediction is ranked higher than given, we subtract out the number of true's preceding the given.\n",
    "\n",
    "## summary stats\n",
    "### CBR\n",
    "CBR Stats\n",
    "* MRR: 0.0128\n",
    "* Hits@1: 0.0020\n",
    "* Hits@3: 0.0156\n",
    "* Hits@10: 0.0352\n",
    "\n",
    "pCBR Stats\n",
    "* MRR: 0.2557\n",
    "* Hits@1: 0.1816\n",
    "* Hits@3: 0.3008\n",
    "* Hits@10: 0.3984\n",
    "\n",
    "### Rephetio\n",
    "Rephetio Stats\n",
    "* MRR: 0.0816\n",
    "* Hits@1: 0.0488\n",
    "* Hits@3: 0.0781\n",
    "* Hits@10: 0.1445\n",
    "\n",
    "### KGE\n",
    "TransE Stats\n",
    "* MRR: 0.1601\n",
    "* Hits@1: 0.0645\n",
    "* Hits@3: 0.1816\n",
    "* Hits@10: 0.3770\n",
    "\n",
    "DistMult Stats\n",
    "* MRR: 0.0391\n",
    "* Hits@1: 0.0098\n",
    "* Hits@3: 0.0293\n",
    "* Hits@10: 0.0781\n",
    "\n",
    "ComplEx Stats\n",
    "* MRR: 0.0820\n",
    "* Hits@1: 0.0273\n",
    "* Hits@3: 0.0801\n",
    "* Hits@10: 0.2031\n",
    "\n",
    "RotatE Stats\n",
    "* MRR: 0.1396\n",
    "* Hits@1: 0.0840\n",
    "* Hits@3: 0.1406\n",
    "* Hits@10: 0.2637"
   ]
  },
  {
   "cell_type": "code",
   "execution_count": 1,
   "metadata": {},
   "outputs": [],
   "source": [
    "import polars as pl\n",
    "\n",
    "import os\n",
    "import json\n",
    "import numpy as np\n",
    "\n",
    "import gc\n",
    "import sys\n",
    "\n",
    "sys.path.append(\"./Notebooks\")\n",
    "import score_utils2 as score_utils"
   ]
  },
  {
   "cell_type": "markdown",
   "id": "059b441d",
   "metadata": {},
   "source": [
    "# Import results"
   ]
  },
  {
   "cell_type": "markdown",
   "id": "b705f67f",
   "metadata": {},
   "source": [
    "## read in cbr and pcbr results"
   ]
  },
  {
   "cell_type": "code",
   "execution_count": 2,
   "id": "4eb28904",
   "metadata": {},
   "outputs": [],
   "source": [
    "# Import probCBR results with this function\n",
    "def json_to_df(json_dir: str) -> pl.DataFrame:\n",
    "    \"\"\"\n",
    "    Takes a string to a json object and turns it into a dataframe\n",
    "    \"\"\"\n",
    "    # import the json object\n",
    "    with open(json_dir, \"r\") as f:\n",
    "        json_obj = json.load(f)\n",
    "\n",
    "    # creates a dict with json keys as keys and values of emptylist based on the first json entry\n",
    "    json_key_dict = {i: [] for i in list(json_obj[0].keys())}\n",
    "    for i in json_obj:\n",
    "        for j in json_key_dict.keys():\n",
    "            # add j key in json item i to the list\n",
    "            to_add = json_key_dict[j]\n",
    "            to_add.append(i[j])\n",
    "            json_key_dict.update({j: to_add})\n",
    "\n",
    "    return pl.DataFrame(json_key_dict)"
   ]
  },
  {
   "cell_type": "code",
   "execution_count": 3,
   "id": "9351b98d",
   "metadata": {},
   "outputs": [],
   "source": [
    "pcbr_df = json_to_df(\"/home/msinha/Open-BIo-Link/data1.json\").filter(\n",
    "    pl.col(\"r\") == \"indication\"\n",
    ")\n",
    "cbr_df = json_to_df(\"/home/msinha/CBR-AKBC/results/data_CBRonMIND_CtD.json\")"
   ]
  },
  {
   "cell_type": "code",
   "execution_count": 4,
   "id": "92cfa81c",
   "metadata": {},
   "outputs": [
    {
     "name": "stdout",
     "output_type": "stream",
     "text": [
      "probCBR queries and results: 386\n",
      "CBR queres and results: 386\n"
     ]
    }
   ],
   "source": [
    "print(f\"probCBR queries and results: {pcbr_df.shape[0]}\")\n",
    "print(f\"CBR queres and results: {cbr_df.shape[0]}\")"
   ]
  },
  {
   "cell_type": "code",
   "execution_count": 5,
   "id": "0655f8e9",
   "metadata": {},
   "outputs": [
    {
     "data": {
      "text/html": [
       "<div><style>\n",
       ".dataframe > thead > tr,\n",
       ".dataframe > tbody > tr {\n",
       "  text-align: right;\n",
       "  white-space: pre-wrap;\n",
       "}\n",
       "</style>\n",
       "<small>shape: (2, 4)</small><table border=\"1\" class=\"dataframe\"><thead><tr><th>e1</th><th>r</th><th>answers</th><th>predicted_answers</th></tr><tr><td>str</td><td>str</td><td>list[str]</td><td>list[str]</td></tr></thead><tbody><tr><td>&quot;CHEBI:135735&quot;</td><td>&quot;indication&quot;</td><td>[&quot;DOID:10763&quot;]</td><td>[&quot;DOID:6432&quot;, &quot;DOID:6000&quot;, … &quot;DOID:0060319&quot;]</td></tr><tr><td>&quot;CHEBI:135738&quot;</td><td>&quot;indication&quot;</td><td>[&quot;DOID:10763&quot;]</td><td>[&quot;DOID:10763&quot;, &quot;DOID:446&quot;, … &quot;DOID:12361&quot;]</td></tr></tbody></table></div>"
      ],
      "text/plain": [
       "shape: (2, 4)\n",
       "┌──────────────┬────────────┬────────────────┬─────────────────────────────────┐\n",
       "│ e1           ┆ r          ┆ answers        ┆ predicted_answers               │\n",
       "│ ---          ┆ ---        ┆ ---            ┆ ---                             │\n",
       "│ str          ┆ str        ┆ list[str]      ┆ list[str]                       │\n",
       "╞══════════════╪════════════╪════════════════╪═════════════════════════════════╡\n",
       "│ CHEBI:135735 ┆ indication ┆ [\"DOID:10763\"] ┆ [\"DOID:6432\", \"DOID:6000\", … \"… │\n",
       "│ CHEBI:135738 ┆ indication ┆ [\"DOID:10763\"] ┆ [\"DOID:10763\", \"DOID:446\", … \"… │\n",
       "└──────────────┴────────────┴────────────────┴─────────────────────────────────┘"
      ]
     },
     "execution_count": 5,
     "metadata": {},
     "output_type": "execute_result"
    }
   ],
   "source": [
    "pcbr_df.head(2)"
   ]
  },
  {
   "cell_type": "code",
   "execution_count": 6,
   "id": "448ecd13",
   "metadata": {},
   "outputs": [
    {
     "data": {
      "text/html": [
       "<div><style>\n",
       ".dataframe > thead > tr,\n",
       ".dataframe > tbody > tr {\n",
       "  text-align: right;\n",
       "  white-space: pre-wrap;\n",
       "}\n",
       "</style>\n",
       "<small>shape: (2, 4)</small><table border=\"1\" class=\"dataframe\"><thead><tr><th>e1</th><th>r</th><th>answers</th><th>predicted_answers</th></tr><tr><td>str</td><td>str</td><td>list[str]</td><td>list[str]</td></tr></thead><tbody><tr><td>&quot;CHEBI:135735&quot;</td><td>&quot;indication&quot;</td><td>[&quot;DOID:10763&quot;]</td><td>[&quot;DOID:3393&quot;, &quot;DOID:6000&quot;, … &quot;DOID:0060343&quot;]</td></tr><tr><td>&quot;CHEBI:135738&quot;</td><td>&quot;indication&quot;</td><td>[&quot;DOID:10763&quot;]</td><td>[&quot;HP:0000006&quot;, &quot;HP:0000007&quot;, … &quot;DOID:11162&quot;]</td></tr></tbody></table></div>"
      ],
      "text/plain": [
       "shape: (2, 4)\n",
       "┌──────────────┬────────────┬────────────────┬─────────────────────────────────┐\n",
       "│ e1           ┆ r          ┆ answers        ┆ predicted_answers               │\n",
       "│ ---          ┆ ---        ┆ ---            ┆ ---                             │\n",
       "│ str          ┆ str        ┆ list[str]      ┆ list[str]                       │\n",
       "╞══════════════╪════════════╪════════════════╪═════════════════════════════════╡\n",
       "│ CHEBI:135735 ┆ indication ┆ [\"DOID:10763\"] ┆ [\"DOID:3393\", \"DOID:6000\", … \"… │\n",
       "│ CHEBI:135738 ┆ indication ┆ [\"DOID:10763\"] ┆ [\"HP:0000006\", \"HP:0000007\", …… │\n",
       "└──────────────┴────────────┴────────────────┴─────────────────────────────────┘"
      ]
     },
     "execution_count": 6,
     "metadata": {},
     "output_type": "execute_result"
    }
   ],
   "source": [
    "cbr_df.head(2)"
   ]
  },
  {
   "cell_type": "code",
   "execution_count": 7,
   "id": "aee41976",
   "metadata": {},
   "outputs": [],
   "source": [
    "### update headers from e1->h\n",
    "pcbr_df = pcbr_df.rename({\"e1\": \"h\"})\n",
    "cbr_df = cbr_df.rename({\"e1\": \"h\"})\n",
    "\n",
    "### add column to label method type\n",
    "pcbr_df = pcbr_df.with_columns(pl.lit(\"pCBR\").alias(\"method\"))\n",
    "cbr_df = cbr_df.with_columns(pl.lit(\"CBR\").alias(\"method\"))"
   ]
  },
  {
   "cell_type": "markdown",
   "id": "9d99b2f0",
   "metadata": {},
   "source": [
    "## Import Rephetio Results"
   ]
  },
  {
   "cell_type": "code",
   "execution_count": 9,
   "id": "1b2c3990",
   "metadata": {},
   "outputs": [],
   "source": [
    "os.chdir(\"./Notebooks\")"
   ]
  },
  {
   "cell_type": "code",
   "execution_count": 10,
   "id": "10a7b47e",
   "metadata": {},
   "outputs": [
    {
     "data": {
      "text/html": [
       "<div><style>\n",
       ".dataframe > thead > tr,\n",
       ".dataframe > tbody > tr {\n",
       "  text-align: right;\n",
       "  white-space: pre-wrap;\n",
       "}\n",
       "</style>\n",
       "<small>shape: (2, 2)</small><table border=\"1\" class=\"dataframe\"><thead><tr><th>chemicalsubstance_id</th><th>disease_id</th></tr><tr><td>str</td><td>list[str]</td></tr></thead><tbody><tr><td>&quot;CHEBI:5165&quot;</td><td>[&quot;DOID:0060224&quot;, &quot;DOID:1826&quot;, … &quot;DOID:2272&quot;]</td></tr><tr><td>&quot;CHEBI:5139&quot;</td><td>[&quot;DOID:0060224&quot;, &quot;DOID:12849&quot;, … &quot;DOID:0060677&quot;]</td></tr></tbody></table></div>"
      ],
      "text/plain": [
       "shape: (2, 2)\n",
       "┌──────────────────────┬─────────────────────────────────┐\n",
       "│ chemicalsubstance_id ┆ disease_id                      │\n",
       "│ ---                  ┆ ---                             │\n",
       "│ str                  ┆ list[str]                       │\n",
       "╞══════════════════════╪═════════════════════════════════╡\n",
       "│ CHEBI:5165           ┆ [\"DOID:0060224\", \"DOID:1826\", … │\n",
       "│ CHEBI:5139           ┆ [\"DOID:0060224\", \"DOID:12849\",… │\n",
       "└──────────────────────┴─────────────────────────────────┘"
      ]
     },
     "execution_count": 10,
     "metadata": {},
     "output_type": "execute_result"
    }
   ],
   "source": [
    "rephetio = (\n",
    "    pl.read_csv(\n",
    "        \"../../MechRepoNet/1_code/KG_reasoning_comparison/Rephetio_MIND_CtD_test/results.csv\"\n",
    "    )\n",
    "    .sort(\"proba\", descending=True)\n",
    "    .group_by(\"chemicalsubstance_id\")\n",
    "    .agg([\"disease_id\"])\n",
    ")\n",
    "\n",
    "rephetio.head(2)"
   ]
  },
  {
   "cell_type": "code",
   "execution_count": 11,
   "id": "99c4bfc4",
   "metadata": {},
   "outputs": [
    {
     "data": {
      "text/plain": [
       "(374, 3)"
      ]
     },
     "execution_count": 11,
     "metadata": {},
     "output_type": "execute_result"
    }
   ],
   "source": [
    "# rename columns and add a label for the method\n",
    "rephetio = rephetio.rename(\n",
    "    {\"chemicalsubstance_id\": \"h\", \"disease_id\": \"predicted_answers\"}\n",
    ")\n",
    "rephetio = rephetio.with_columns(pl.lit(\"Rephetio\").alias(\"method\"))\n",
    "rephetio.shape"
   ]
  },
  {
   "cell_type": "markdown",
   "id": "abc973c7",
   "metadata": {},
   "source": [
    "## Import KGE results"
   ]
  },
  {
   "cell_type": "code",
   "execution_count": 12,
   "id": "035cdfab",
   "metadata": {},
   "outputs": [
    {
     "name": "stdout",
     "output_type": "stream",
     "text": [
      "TransE\n",
      "Shape: (535, 6)\n",
      "DistMult\n",
      "Shape: (535, 6)\n",
      "ComplEx\n",
      "Shape: (535, 6)\n",
      "RotatE\n",
      "Shape: (535, 6)\n"
     ]
    }
   ],
   "source": [
    "kge_ls = list()\n",
    "for i in [\"TransE\", \"DistMult\", \"ComplEx\", \"RotatE\"]:\n",
    "    print(i)\n",
    "    raw = score_utils.ProcessOutput(\n",
    "        data_dir=\"../data/MIND_CtD\",\n",
    "        scores_outfile=f\"../models/{i}_MIND_CtD_megha/test_scores.tsv\",\n",
    "        mode=\"tail-batch\",\n",
    "    )\n",
    "    raw.format_raw_scores_to_df()\n",
    "    raw.translate_embeddings(direction=\"from\")\n",
    "    df = raw.df\n",
    "    df = df.with_columns(pl.lit(i).alias(\"method\"))\n",
    "    kge_ls.append(df)\n",
    "    print(f\"Shape: {df.shape}\")"
   ]
  },
  {
   "cell_type": "code",
   "execution_count": 13,
   "id": "a3abe033",
   "metadata": {},
   "outputs": [
    {
     "data": {
      "text/html": [
       "<div><style>\n",
       ".dataframe > thead > tr,\n",
       ".dataframe > tbody > tr {\n",
       "  text-align: right;\n",
       "  white-space: pre-wrap;\n",
       "}\n",
       "</style>\n",
       "<small>shape: (2, 6)</small><table border=\"1\" class=\"dataframe\"><thead><tr><th>h</th><th>r</th><th>t</th><th>batch</th><th>preds</th><th>method</th></tr><tr><td>str</td><td>str</td><td>str</td><td>str</td><td>list[str]</td><td>str</td></tr></thead><tbody><tr><td>&quot;CHEBI:6375&quot;</td><td>&quot;indication&quot;</td><td>&quot;DOID:10808&quot;</td><td>&quot;tail-batch&quot;</td><td>[&quot;CHEBI:6375&quot;, &quot;DOID:13976&quot;, … &quot;GO:0009601&quot;]</td><td>&quot;TransE&quot;</td></tr><tr><td>&quot;CHEBI:8708&quot;</td><td>&quot;indication&quot;</td><td>&quot;DOID:5419&quot;</td><td>&quot;tail-batch&quot;</td><td>[&quot;CHEBI:8708&quot;, &quot;DOID:14320&quot;, … &quot;GO:0009601&quot;]</td><td>&quot;TransE&quot;</td></tr></tbody></table></div>"
      ],
      "text/plain": [
       "shape: (2, 6)\n",
       "┌────────────┬────────────┬────────────┬────────────┬─────────────────────────────────┬────────┐\n",
       "│ h          ┆ r          ┆ t          ┆ batch      ┆ preds                           ┆ method │\n",
       "│ ---        ┆ ---        ┆ ---        ┆ ---        ┆ ---                             ┆ ---    │\n",
       "│ str        ┆ str        ┆ str        ┆ str        ┆ list[str]                       ┆ str    │\n",
       "╞════════════╪════════════╪════════════╪════════════╪═════════════════════════════════╪════════╡\n",
       "│ CHEBI:6375 ┆ indication ┆ DOID:10808 ┆ tail-batch ┆ [\"CHEBI:6375\", \"DOID:13976\", …… ┆ TransE │\n",
       "│ CHEBI:8708 ┆ indication ┆ DOID:5419  ┆ tail-batch ┆ [\"CHEBI:8708\", \"DOID:14320\", …… ┆ TransE │\n",
       "└────────────┴────────────┴────────────┴────────────┴─────────────────────────────────┴────────┘"
      ]
     },
     "execution_count": 13,
     "metadata": {},
     "output_type": "execute_result"
    }
   ],
   "source": [
    "kge_df = pl.concat(kge_ls)\n",
    "kge_df.head(2)"
   ]
  },
  {
   "cell_type": "code",
   "execution_count": 14,
   "id": "5aec79e5",
   "metadata": {},
   "outputs": [],
   "source": [
    "kge_df = kge_df.with_columns(pl.col(\"preds\").list.head(1000))"
   ]
  },
  {
   "cell_type": "code",
   "execution_count": 15,
   "id": "958f782a",
   "metadata": {},
   "outputs": [
    {
     "data": {
      "text/plain": [
       "8184"
      ]
     },
     "execution_count": 15,
     "metadata": {},
     "output_type": "execute_result"
    }
   ],
   "source": [
    "del kge_ls\n",
    "gc.collect()"
   ]
  },
  {
   "cell_type": "markdown",
   "id": "0047bc47",
   "metadata": {},
   "source": [
    "# Get dataset overlap\n",
    "* seeemingly the datasets are not 100% exactly the same. \n",
    "* check overlap\n",
    "Grab the overlapping queries"
   ]
  },
  {
   "cell_type": "markdown",
   "id": "d3ce4b21",
   "metadata": {},
   "source": [
    "### check overlapping queries"
   ]
  },
  {
   "cell_type": "code",
   "execution_count": 16,
   "id": "e5f12a07",
   "metadata": {},
   "outputs": [
    {
     "name": "stdout",
     "output_type": "stream",
     "text": [
      "Non-overlapping queries (h) between: \n",
      "- CBR and probCBR: 0\n",
      "- CBR and KGE: 1\n",
      "- Rephetio and CBR: 14\n",
      "- Rephetio and KGE: 13\n"
     ]
    }
   ],
   "source": [
    "print(\"Non-overlapping queries (h) between: \")\n",
    "print(\n",
    "    f\"- CBR and probCBR: {len(set(cbr_df['h']).symmetric_difference(set(pcbr_df['h'])))}\"\n",
    ")\n",
    "print(f\"- CBR and KGE: {len(set(pcbr_df['h']).symmetric_difference(set(kge_df['h'])))}\")\n",
    "print(\n",
    "    f\"- Rephetio and CBR: {len(set(pcbr_df['h']).symmetric_difference(set(rephetio['h'])))}\"\n",
    ")\n",
    "print(\n",
    "    f\"- Rephetio and KGE: {len(set(rephetio['h']).symmetric_difference(set(kge_df['h'])))}\"\n",
    ")"
   ]
  },
  {
   "cell_type": "code",
   "execution_count": 17,
   "id": "47ef28b8",
   "metadata": {},
   "outputs": [
    {
     "name": "stdout",
     "output_type": "stream",
     "text": [
      "Overlapping queries (h) between: \n",
      "- CBR and KGE: 386\n",
      "- Rephetio and CBR: 373\n",
      "- Rephetio and KGE: 374\n"
     ]
    }
   ],
   "source": [
    "print(\"Overlapping queries (h) between: \")\n",
    "print(f\"- CBR and KGE: {len(set(pcbr_df['h']).intersection(set(kge_df['h'])))}\")\n",
    "print(f\"- Rephetio and CBR: {len(set(pcbr_df['h']).intersection(set(rephetio['h'])))}\")\n",
    "print(f\"- Rephetio and KGE: {len(set(rephetio['h']).intersection(set(kge_df['h'])))}\")"
   ]
  },
  {
   "cell_type": "code",
   "execution_count": 18,
   "id": "3d760e59",
   "metadata": {},
   "outputs": [
    {
     "name": "stdout",
     "output_type": "stream",
     "text": [
      "Unique queries in each dataset:\n",
      "- CBR: 386\n",
      "- Rephetio: 374\n",
      "- KGE: 387\n"
     ]
    }
   ],
   "source": [
    "print(\"Unique queries in each dataset:\")\n",
    "print(f\"- CBR: {len(set(pcbr_df['h']))}\")\n",
    "print(f\"- Rephetio: {len(set(rephetio['h']))}\")\n",
    "print(f\"- KGE: {len(set(kge_df['h']))}\")"
   ]
  },
  {
   "cell_type": "markdown",
   "id": "121185a5",
   "metadata": {},
   "source": [
    "### Get overlapping queries"
   ]
  },
  {
   "cell_type": "code",
   "execution_count": 19,
   "id": "43577936",
   "metadata": {},
   "outputs": [],
   "source": [
    "query_overlap = (\n",
    "    set(pcbr_df[\"h\"]).intersection(set(rephetio[\"h\"])).intersection(set(kge_df[\"h\"]))\n",
    ")"
   ]
  },
  {
   "cell_type": "code",
   "execution_count": 20,
   "id": "06828e5f",
   "metadata": {},
   "outputs": [
    {
     "name": "stdout",
     "output_type": "stream",
     "text": [
      "Number of overlapping entities: 373\n"
     ]
    }
   ],
   "source": [
    "print(f\"Number of overlapping entities: {len(query_overlap)}\")"
   ]
  },
  {
   "cell_type": "markdown",
   "id": "7d2cfec4",
   "metadata": {},
   "source": [
    "# Gather true answers and create a test dataset"
   ]
  },
  {
   "cell_type": "markdown",
   "id": "06ab2b23",
   "metadata": {},
   "source": [
    "## Gather true answers"
   ]
  },
  {
   "cell_type": "markdown",
   "id": "69a649b9",
   "metadata": {},
   "source": [
    "### Read in train/test/valid and get the indication"
   ]
  },
  {
   "cell_type": "code",
   "execution_count": 21,
   "id": "eeabeb3e",
   "metadata": {},
   "outputs": [
    {
     "data": {
      "text/html": [
       "<div><style>\n",
       ".dataframe > thead > tr,\n",
       ".dataframe > tbody > tr {\n",
       "  text-align: right;\n",
       "  white-space: pre-wrap;\n",
       "}\n",
       "</style>\n",
       "<small>shape: (2, 2)</small><table border=\"1\" class=\"dataframe\"><thead><tr><th>h</th><th>answers</th></tr><tr><td>str</td><td>list[str]</td></tr></thead><tbody><tr><td>&quot;CHEBI:31608&quot;</td><td>[&quot;DOID:11759&quot;, &quot;DOID:11759&quot;, … &quot;DOID:11758&quot;]</td></tr><tr><td>&quot;CHEBI:30621&quot;</td><td>[&quot;DOID:0060318&quot;, &quot;MESH:D002471&quot;, … &quot;KEGG:hsa05215&quot;]</td></tr></tbody></table></div>"
      ],
      "text/plain": [
       "shape: (2, 2)\n",
       "┌─────────────┬─────────────────────────────────┐\n",
       "│ h           ┆ answers                         │\n",
       "│ ---         ┆ ---                             │\n",
       "│ str         ┆ list[str]                       │\n",
       "╞═════════════╪═════════════════════════════════╡\n",
       "│ CHEBI:31608 ┆ [\"DOID:11759\", \"DOID:11759\", …… │\n",
       "│ CHEBI:30621 ┆ [\"DOID:0060318\", \"MESH:D002471… │\n",
       "└─────────────┴─────────────────────────────────┘"
      ]
     },
     "execution_count": 21,
     "metadata": {},
     "output_type": "execute_result"
    }
   ],
   "source": [
    "indications = (\n",
    "    pl.concat(\n",
    "        [\n",
    "            pl.read_csv(\n",
    "                \"../data/MIND_CtD/train.txt\",\n",
    "                separator=\"\\t\",\n",
    "                new_columns=[\"h\", \"r\", \"t\"],\n",
    "            ).filter(pl.col(\"r\") == \"indication\"),\n",
    "            pl.read_csv(\n",
    "                \"../data/MIND_CtD/valid.txt\",\n",
    "                separator=\"\\t\",\n",
    "                new_columns=[\"h\", \"r\", \"t\"],\n",
    "            ),\n",
    "            pl.read_csv(\n",
    "                \"../data/MIND_CtD/test.txt\", separator=\"\\t\", new_columns=[\"h\", \"r\", \"t\"]\n",
    "            ),\n",
    "        ]\n",
    "    )\n",
    "    .group_by(\"h\")\n",
    "    .agg(\"t\")\n",
    "    .rename({\"t\": \"answers\"})\n",
    ")\n",
    "indications.head(2)"
   ]
  },
  {
   "cell_type": "code",
   "execution_count": 22,
   "id": "df9708d3",
   "metadata": {},
   "outputs": [
    {
     "data": {
      "text/plain": [
       "(1306, 2)"
      ]
     },
     "execution_count": 22,
     "metadata": {},
     "output_type": "execute_result"
    }
   ],
   "source": [
    "indications.shape"
   ]
  },
  {
   "cell_type": "markdown",
   "id": "9b2bbd9c",
   "metadata": {},
   "source": [
    "### gather answers from cbr and ensure they're not different"
   ]
  },
  {
   "cell_type": "code",
   "execution_count": 23,
   "id": "aac5997a",
   "metadata": {},
   "outputs": [],
   "source": [
    "indications = (\n",
    "    pl.concat([indications, cbr_df.select([\"h\", \"answers\"])])\n",
    "    .explode(\"answers\")\n",
    "    .group_by(\"h\")\n",
    "    .agg(\"answers\")\n",
    "    .with_columns(pl.col(\"answers\").list.unique())\n",
    ")"
   ]
  },
  {
   "cell_type": "markdown",
   "id": "17504750",
   "metadata": {},
   "source": [
    "### make sure query isn't in answers"
   ]
  },
  {
   "cell_type": "code",
   "execution_count": 24,
   "id": "1c96a15a",
   "metadata": {},
   "outputs": [],
   "source": [
    "indications = (\n",
    "    indications.explode(\"answers\")\n",
    "    .with_columns((pl.col(\"answers\") == pl.col(\"h\")).alias(\"ans_eq_h\"))\n",
    "    .filter(pl.col(\"ans_eq_h\") == False)\n",
    "    .group_by(\"h\")\n",
    "    .agg(\"answers\")\n",
    ")"
   ]
  },
  {
   "cell_type": "markdown",
   "id": "086de049",
   "metadata": {},
   "source": [
    "## Recreate a test dataframe to make sure results are fair\n",
    "* from indications, extract at least 1 item from query_overlap\n",
    "* For the remaining, sample from query overlap"
   ]
  },
  {
   "cell_type": "code",
   "execution_count": 25,
   "id": "63973e66",
   "metadata": {},
   "outputs": [],
   "source": [
    "# sample 1 item from the answers list\n",
    "picked_0 = (\n",
    "    indications.filter(pl.col(\"h\").is_in(query_overlap))\n",
    "    .with_columns(pl.col(\"answers\").list.sample(1))\n",
    "    .explode(\"answers\")\n",
    ")"
   ]
  },
  {
   "cell_type": "code",
   "execution_count": 26,
   "id": "2d9425fa",
   "metadata": {},
   "outputs": [
    {
     "data": {
      "text/plain": [
       "(373, 2)"
      ]
     },
     "execution_count": 26,
     "metadata": {},
     "output_type": "execute_result"
    }
   ],
   "source": [
    "picked_0.shape"
   ]
  },
  {
   "cell_type": "code",
   "execution_count": 27,
   "id": "36c55743",
   "metadata": {},
   "outputs": [],
   "source": [
    "# any answers not already picked, sample again\n",
    "picked_1 = (\n",
    "    indications.explode(\"answers\")\n",
    "    .join(picked_0, on=[\"h\", \"answers\"], how=\"anti\")\n",
    "    .filter(pl.col(\"h\").is_in(query_overlap))\n",
    "    .sample(511 - 372)\n",
    ")"
   ]
  },
  {
   "cell_type": "code",
   "execution_count": 28,
   "id": "7e1cb85d",
   "metadata": {},
   "outputs": [],
   "source": [
    "if os.path.exists(\"unified_test_set.parquet\"):\n",
    "    test_set = pl.read_parquet(\"unified_test_set.parquet\")\n",
    "else:\n",
    "    test_set = pl.concat([picked_0, picked_1])\n",
    "    test_set.write_parquet(\"unified_test_set.parquet\")"
   ]
  },
  {
   "cell_type": "markdown",
   "id": "fe57088b",
   "metadata": {},
   "source": [
    "### Check compounds exist in curated set"
   ]
  },
  {
   "cell_type": "code",
   "execution_count": 29,
   "id": "6e2e54a8",
   "metadata": {},
   "outputs": [],
   "source": [
    "# already curated intersection predictions\n",
    "\n",
    "required = [\n",
    "    \"CHEBI:520985\",  # almotriptan\n",
    "    \"CHEBI:78540\",  # apremilast\n",
    "    \"CHEBI:77590\",  # armodafinil\n",
    "    \"CHEBI:59164\",  # balsalazide disodium\n",
    "    \"CHEBI:3286\",  # cabergoline\n",
    "    \"CHEBI:3738\",  # clemastine\n",
    "    \"CHEBI:3756\",  # clonazepam\n",
    "    \"CHEBI:17439\",  # cyanocob(III)alamin\n",
    "    \"CHEBI:4046\",  # cyproheptadine\n",
    "    \"CHEBI:4638\",  # diphenidol\n",
    "    \"CHEBI:4647\",  # dipivefrin hydrochloride\n",
    "    \"CHEBI:31530\",  # edaravone\n",
    "    \"IKEY:DYLUUSLLRIQKOE-UHFFFAOYSA-N\",  # Enasidenib\n",
    "    \"CHEBI:36791\",  # escitalopram\n",
    "    \"CHEBI:5051\",  # Fexofenadine hydrochloride\n",
    "    \"CHEBI:5139\",  # Fluvoxamine maleate\n",
    "    \"CHEBI:6441\",  # levacetylmethadol\n",
    "    \"CHEBI:135925\",  # lisdexamfetamine\n",
    "    \"CHEBI:31854\",  # Milnacipran hydrochloride\n",
    "    \"CHEBI:7575\",  # nimodipine\n",
    "    \"CHEBI:8708\",  # quetiapine fumarate\n",
    "    \"CHEBI:63620\",  # rasagiline\n",
    "    \"CHEBI:9207\",  # sotalol hydrochloride\n",
    "    \"CHEBI:9711\",  # triflupromazine\n",
    "    \"CHEBI:9725\",  # Trimeprazine\n",
    "]"
   ]
  },
  {
   "cell_type": "code",
   "execution_count": 30,
   "id": "007c926e",
   "metadata": {},
   "outputs": [],
   "source": [
    "# make sure all items from 'required' are in the test set\n",
    "# required is the set of objects already curated.\n",
    "assert (\n",
    "    len(set(test_set[\"h\"]).intersection(set(required))) == 25\n",
    "), \"Not all required entities are in the test set\""
   ]
  },
  {
   "cell_type": "markdown",
   "id": "1e17b86c",
   "metadata": {},
   "source": [
    "# Clean, assemble the results and calculate performance stats"
   ]
  },
  {
   "cell_type": "markdown",
   "id": "3a4d7fae",
   "metadata": {},
   "source": [
    "## Clean and integrate data together"
   ]
  },
  {
   "cell_type": "markdown",
   "id": "7c81c2d1",
   "metadata": {},
   "source": [
    "### check headers"
   ]
  },
  {
   "cell_type": "code",
   "execution_count": 31,
   "id": "d958d438",
   "metadata": {},
   "outputs": [
    {
     "data": {
      "text/html": [
       "<div><style>\n",
       ".dataframe > thead > tr,\n",
       ".dataframe > tbody > tr {\n",
       "  text-align: right;\n",
       "  white-space: pre-wrap;\n",
       "}\n",
       "</style>\n",
       "<small>shape: (2, 5)</small><table border=\"1\" class=\"dataframe\"><thead><tr><th>h</th><th>r</th><th>answers</th><th>predicted_answers</th><th>method</th></tr><tr><td>str</td><td>str</td><td>list[str]</td><td>list[str]</td><td>str</td></tr></thead><tbody><tr><td>&quot;CHEBI:135735&quot;</td><td>&quot;indication&quot;</td><td>[&quot;DOID:10763&quot;]</td><td>[&quot;DOID:3393&quot;, &quot;DOID:6000&quot;, … &quot;DOID:0060343&quot;]</td><td>&quot;CBR&quot;</td></tr><tr><td>&quot;CHEBI:135738&quot;</td><td>&quot;indication&quot;</td><td>[&quot;DOID:10763&quot;]</td><td>[&quot;HP:0000006&quot;, &quot;HP:0000007&quot;, … &quot;DOID:11162&quot;]</td><td>&quot;CBR&quot;</td></tr></tbody></table></div>"
      ],
      "text/plain": [
       "shape: (2, 5)\n",
       "┌──────────────┬────────────┬────────────────┬─────────────────────────────────┬────────┐\n",
       "│ h            ┆ r          ┆ answers        ┆ predicted_answers               ┆ method │\n",
       "│ ---          ┆ ---        ┆ ---            ┆ ---                             ┆ ---    │\n",
       "│ str          ┆ str        ┆ list[str]      ┆ list[str]                       ┆ str    │\n",
       "╞══════════════╪════════════╪════════════════╪═════════════════════════════════╪════════╡\n",
       "│ CHEBI:135735 ┆ indication ┆ [\"DOID:10763\"] ┆ [\"DOID:3393\", \"DOID:6000\", … \"… ┆ CBR    │\n",
       "│ CHEBI:135738 ┆ indication ┆ [\"DOID:10763\"] ┆ [\"HP:0000006\", \"HP:0000007\", …… ┆ CBR    │\n",
       "└──────────────┴────────────┴────────────────┴─────────────────────────────────┴────────┘"
      ]
     },
     "execution_count": 31,
     "metadata": {},
     "output_type": "execute_result"
    }
   ],
   "source": [
    "# check headers\n",
    "cbr_df.head(2)"
   ]
  },
  {
   "cell_type": "code",
   "execution_count": 32,
   "id": "49e89f3e",
   "metadata": {},
   "outputs": [
    {
     "data": {
      "text/html": [
       "<div><style>\n",
       ".dataframe > thead > tr,\n",
       ".dataframe > tbody > tr {\n",
       "  text-align: right;\n",
       "  white-space: pre-wrap;\n",
       "}\n",
       "</style>\n",
       "<small>shape: (2, 6)</small><table border=\"1\" class=\"dataframe\"><thead><tr><th>h</th><th>r</th><th>t</th><th>batch</th><th>preds</th><th>method</th></tr><tr><td>str</td><td>str</td><td>str</td><td>str</td><td>list[str]</td><td>str</td></tr></thead><tbody><tr><td>&quot;CHEBI:6375&quot;</td><td>&quot;indication&quot;</td><td>&quot;DOID:10808&quot;</td><td>&quot;tail-batch&quot;</td><td>[&quot;CHEBI:6375&quot;, &quot;DOID:13976&quot;, … &quot;DOID:5082&quot;]</td><td>&quot;TransE&quot;</td></tr><tr><td>&quot;CHEBI:8708&quot;</td><td>&quot;indication&quot;</td><td>&quot;DOID:5419&quot;</td><td>&quot;tail-batch&quot;</td><td>[&quot;CHEBI:8708&quot;, &quot;DOID:14320&quot;, … &quot;DOID:3345&quot;]</td><td>&quot;TransE&quot;</td></tr></tbody></table></div>"
      ],
      "text/plain": [
       "shape: (2, 6)\n",
       "┌────────────┬────────────┬────────────┬────────────┬─────────────────────────────────┬────────┐\n",
       "│ h          ┆ r          ┆ t          ┆ batch      ┆ preds                           ┆ method │\n",
       "│ ---        ┆ ---        ┆ ---        ┆ ---        ┆ ---                             ┆ ---    │\n",
       "│ str        ┆ str        ┆ str        ┆ str        ┆ list[str]                       ┆ str    │\n",
       "╞════════════╪════════════╪════════════╪════════════╪═════════════════════════════════╪════════╡\n",
       "│ CHEBI:6375 ┆ indication ┆ DOID:10808 ┆ tail-batch ┆ [\"CHEBI:6375\", \"DOID:13976\", …… ┆ TransE │\n",
       "│ CHEBI:8708 ┆ indication ┆ DOID:5419  ┆ tail-batch ┆ [\"CHEBI:8708\", \"DOID:14320\", …… ┆ TransE │\n",
       "└────────────┴────────────┴────────────┴────────────┴─────────────────────────────────┴────────┘"
      ]
     },
     "execution_count": 32,
     "metadata": {},
     "output_type": "execute_result"
    }
   ],
   "source": [
    "kge_df.head(2)"
   ]
  },
  {
   "cell_type": "code",
   "execution_count": 33,
   "id": "4b04b190",
   "metadata": {},
   "outputs": [
    {
     "data": {
      "text/html": [
       "<div><style>\n",
       ".dataframe > thead > tr,\n",
       ".dataframe > tbody > tr {\n",
       "  text-align: right;\n",
       "  white-space: pre-wrap;\n",
       "}\n",
       "</style>\n",
       "<small>shape: (2, 3)</small><table border=\"1\" class=\"dataframe\"><thead><tr><th>h</th><th>predicted_answers</th><th>method</th></tr><tr><td>str</td><td>list[str]</td><td>str</td></tr></thead><tbody><tr><td>&quot;CHEBI:5165&quot;</td><td>[&quot;DOID:0060224&quot;, &quot;DOID:1826&quot;, … &quot;DOID:2272&quot;]</td><td>&quot;Rephetio&quot;</td></tr><tr><td>&quot;CHEBI:5139&quot;</td><td>[&quot;DOID:0060224&quot;, &quot;DOID:12849&quot;, … &quot;DOID:0060677&quot;]</td><td>&quot;Rephetio&quot;</td></tr></tbody></table></div>"
      ],
      "text/plain": [
       "shape: (2, 3)\n",
       "┌────────────┬─────────────────────────────────┬──────────┐\n",
       "│ h          ┆ predicted_answers               ┆ method   │\n",
       "│ ---        ┆ ---                             ┆ ---      │\n",
       "│ str        ┆ list[str]                       ┆ str      │\n",
       "╞════════════╪═════════════════════════════════╪══════════╡\n",
       "│ CHEBI:5165 ┆ [\"DOID:0060224\", \"DOID:1826\", … ┆ Rephetio │\n",
       "│ CHEBI:5139 ┆ [\"DOID:0060224\", \"DOID:12849\",… ┆ Rephetio │\n",
       "└────────────┴─────────────────────────────────┴──────────┘"
      ]
     },
     "execution_count": 33,
     "metadata": {},
     "output_type": "execute_result"
    }
   ],
   "source": [
    "rephetio.head(2)"
   ]
  },
  {
   "cell_type": "markdown",
   "id": "7ba70753",
   "metadata": {},
   "source": [
    "### drop relation and stack results"
   ]
  },
  {
   "cell_type": "code",
   "execution_count": 47,
   "id": "6c3d4c5e",
   "metadata": {},
   "outputs": [],
   "source": [
    "res_df = pl.concat(\n",
    "    [\n",
    "        cbr_df.select([\"h\", \"predicted_answers\", \"method\"]),\n",
    "        pcbr_df.select([\"h\", \"predicted_answers\", \"method\"]),\n",
    "        kge_df.select([\"h\", \"preds\", \"method\"]).rename({\"preds\": \"predicted_answers\"}),\n",
    "        rephetio.select([\"h\", \"predicted_answers\", \"method\"]),\n",
    "    ]\n",
    ").unique()"
   ]
  },
  {
   "cell_type": "code",
   "execution_count": 48,
   "id": "84b41ddf",
   "metadata": {},
   "outputs": [
    {
     "data": {
      "text/plain": [
       "(3271, 3)"
      ]
     },
     "execution_count": 48,
     "metadata": {},
     "output_type": "execute_result"
    }
   ],
   "source": [
    "res_df.shape"
   ]
  },
  {
   "cell_type": "markdown",
   "id": "ad01d91f",
   "metadata": {},
   "source": [
    "### Get relevant results\n",
    "* some probCBR and CBR entries don't have predictions"
   ]
  },
  {
   "cell_type": "code",
   "execution_count": 49,
   "id": "9d3fd767",
   "metadata": {},
   "outputs": [
    {
     "name": "stdout",
     "output_type": "stream",
     "text": [
      "Number of no predictions for\n",
      "- pCBR: 27\n",
      "- CBR: 35\n",
      "- rephetio: 0\n"
     ]
    }
   ],
   "source": [
    "print(\"Number of no predictions for\")\n",
    "print(\n",
    "    f\"- pCBR: {pcbr_df.with_columns(pl.col('predicted_answers').list.len().alias('len')).filter(pl.col('len')==0).shape[0]}\"\n",
    ")\n",
    "print(\n",
    "    f\"- CBR: {cbr_df.with_columns(pl.col('predicted_answers').list.len().alias('len')).filter(pl.col('len')==0).shape[0]}\"\n",
    ")\n",
    "print(\n",
    "    f\"- rephetio: {rephetio.with_columns(pl.col('predicted_answers').list.len().alias('len')).filter(pl.col('len')==0).shape[0]}\"\n",
    ")"
   ]
  },
  {
   "cell_type": "code",
   "execution_count": 50,
   "id": "74f20abc",
   "metadata": {},
   "outputs": [
    {
     "data": {
      "text/plain": [
       "(2553, 3)"
      ]
     },
     "execution_count": 50,
     "metadata": {},
     "output_type": "execute_result"
    }
   ],
   "source": [
    "res_df = (\n",
    "    res_df.filter(pl.col(\"h\").is_in(query_overlap))\n",
    "    .explode(\"predicted_answers\")\n",
    "    .with_columns((pl.col(\"predicted_answers\") == pl.col(\"h\")).alias(\"match\"))\n",
    "    .filter(pl.col(\"match\") == False)  # remove query from answers if it exists\n",
    "    .group_by([\"h\", \"method\"], maintain_order=True)\n",
    "    .agg(\"predicted_answers\")\n",
    ")\n",
    "\n",
    "res_df.shape"
   ]
  },
  {
   "cell_type": "code",
   "execution_count": 51,
   "id": "34d650bc",
   "metadata": {},
   "outputs": [
    {
     "data": {
      "text/html": [
       "<div><style>\n",
       ".dataframe > thead > tr,\n",
       ".dataframe > tbody > tr {\n",
       "  text-align: right;\n",
       "  white-space: pre-wrap;\n",
       "}\n",
       "</style>\n",
       "<small>shape: (2, 3)</small><table border=\"1\" class=\"dataframe\"><thead><tr><th>h</th><th>method</th><th>predicted_answers</th></tr><tr><td>str</td><td>str</td><td>list[str]</td></tr></thead><tbody><tr><td>&quot;CHEBI:3738&quot;</td><td>&quot;RotatE&quot;</td><td>[&quot;DOID:5419&quot;, &quot;DOID:1470&quot;, … &quot;MESH:D049970&quot;]</td></tr><tr><td>&quot;CHEBI:3758&quot;</td><td>&quot;ComplEx&quot;</td><td>[&quot;DOID:11106&quot;, &quot;DOID:11107&quot;, … &quot;NCBIGene:2207&quot;]</td></tr></tbody></table></div>"
      ],
      "text/plain": [
       "shape: (2, 3)\n",
       "┌────────────┬─────────┬─────────────────────────────────┐\n",
       "│ h          ┆ method  ┆ predicted_answers               │\n",
       "│ ---        ┆ ---     ┆ ---                             │\n",
       "│ str        ┆ str     ┆ list[str]                       │\n",
       "╞════════════╪═════════╪═════════════════════════════════╡\n",
       "│ CHEBI:3738 ┆ RotatE  ┆ [\"DOID:5419\", \"DOID:1470\", … \"… │\n",
       "│ CHEBI:3758 ┆ ComplEx ┆ [\"DOID:11106\", \"DOID:11107\", …… │\n",
       "└────────────┴─────────┴─────────────────────────────────┘"
      ]
     },
     "execution_count": 51,
     "metadata": {},
     "output_type": "execute_result"
    }
   ],
   "source": [
    "res_df.head(2)"
   ]
  },
  {
   "cell_type": "markdown",
   "id": "87473c66",
   "metadata": {},
   "source": [
    "### some cbr/pcbr entries don't have predictions\n",
    "* add entries back in so we can calculate hits fairly."
   ]
  },
  {
   "cell_type": "code",
   "execution_count": 52,
   "id": "b14a1248",
   "metadata": {},
   "outputs": [
    {
     "name": "stdout",
     "output_type": "stream",
     "text": [
      "RotatE: 373\n",
      "CBR: 341\n",
      "Rephetio: 373\n",
      "pCBR: 347\n",
      "ComplEx: 373\n",
      "TransE: 373\n",
      "DistMult: 373\n"
     ]
    }
   ],
   "source": [
    "# some entries are not matching because no predictions were made and they were removed\n",
    "for i in res_df[\"method\"].unique().to_list():\n",
    "    print(f\"{i}: {res_df.filter(pl.col('method')==i).shape[0]}\")"
   ]
  },
  {
   "cell_type": "code",
   "execution_count": 53,
   "id": "143f66aa",
   "metadata": {},
   "outputs": [],
   "source": [
    "missing_pcbr = set(\n",
    "    res_df.filter(pl.col(\"method\") == \"TransE\")[\"h\"]\n",
    ").symmetric_difference(set(res_df.filter(pl.col(\"method\") == \"pCBR\")[\"h\"]))\n",
    "missing_cbr = set(\n",
    "    res_df.filter(pl.col(\"method\") == \"TransE\")[\"h\"]\n",
    ").symmetric_difference(set(res_df.filter(pl.col(\"method\") == \"CBR\")[\"h\"]))"
   ]
  },
  {
   "cell_type": "code",
   "execution_count": 54,
   "id": "7a602d81",
   "metadata": {},
   "outputs": [],
   "source": [
    "res_df = pl.concat(\n",
    "    [\n",
    "        res_df,\n",
    "        pl.DataFrame({\"h\": list(missing_pcbr)}).with_columns(\n",
    "            method=pl.lit(\"pCBR\"), predicted_answers=[]\n",
    "        ),\n",
    "        pl.DataFrame({\"h\": list(missing_cbr)}).with_columns(\n",
    "            method=pl.lit(\"CBR\"), predicted_answers=[]\n",
    "        ),\n",
    "    ]\n",
    ")"
   ]
  },
  {
   "cell_type": "code",
   "execution_count": 55,
   "id": "d83c3f09",
   "metadata": {},
   "outputs": [
    {
     "name": "stdout",
     "output_type": "stream",
     "text": [
      "TransE: 373\n",
      "ComplEx: 373\n",
      "DistMult: 373\n",
      "RotatE: 373\n",
      "Rephetio: 373\n",
      "pCBR: 373\n",
      "CBR: 373\n"
     ]
    }
   ],
   "source": [
    "# some entries are not matching because no predictions were made and they were removed\n",
    "res_df = res_df.unique().filter(pl.col(\"method\") != \"probCBR\")\n",
    "for i in res_df[\"method\"].unique().to_list():\n",
    "    print(f\"{i}: {res_df.filter(pl.col('method')==i).shape[0]}\")"
   ]
  },
  {
   "cell_type": "code",
   "execution_count": 56,
   "id": "0e9184ae",
   "metadata": {},
   "outputs": [],
   "source": [
    "assert res_df.shape[0] / 7 == 373, \"Some algorithms are missing predictions\""
   ]
  },
  {
   "cell_type": "markdown",
   "id": "48c54d91",
   "metadata": {},
   "source": [
    "## add answers to the dataframe"
   ]
  },
  {
   "cell_type": "code",
   "execution_count": 57,
   "id": "59ef414c",
   "metadata": {},
   "outputs": [
    {
     "data": {
      "text/html": [
       "<div><style>\n",
       ".dataframe > thead > tr,\n",
       ".dataframe > tbody > tr {\n",
       "  text-align: right;\n",
       "  white-space: pre-wrap;\n",
       "}\n",
       "</style>\n",
       "<small>shape: (2, 2)</small><table border=\"1\" class=\"dataframe\"><thead><tr><th>h</th><th>answers</th></tr><tr><td>str</td><td>list[str]</td></tr></thead><tbody><tr><td>&quot;MESH:D003894&quot;</td><td>[&quot;HP:0010677&quot;, &quot;HP:0000103&quot;]</td></tr><tr><td>&quot;CHEBI:61030&quot;</td><td>[&quot;DOID:893&quot;]</td></tr></tbody></table></div>"
      ],
      "text/plain": [
       "shape: (2, 2)\n",
       "┌──────────────┬──────────────────────────────┐\n",
       "│ h            ┆ answers                      │\n",
       "│ ---          ┆ ---                          │\n",
       "│ str          ┆ list[str]                    │\n",
       "╞══════════════╪══════════════════════════════╡\n",
       "│ MESH:D003894 ┆ [\"HP:0010677\", \"HP:0000103\"] │\n",
       "│ CHEBI:61030  ┆ [\"DOID:893\"]                 │\n",
       "└──────────────┴──────────────────────────────┘"
      ]
     },
     "execution_count": 57,
     "metadata": {},
     "output_type": "execute_result"
    }
   ],
   "source": [
    "indications.head(2)"
   ]
  },
  {
   "cell_type": "code",
   "execution_count": 58,
   "id": "35a1a8b0",
   "metadata": {},
   "outputs": [
    {
     "data": {
      "text/html": [
       "<div><style>\n",
       ".dataframe > thead > tr,\n",
       ".dataframe > tbody > tr {\n",
       "  text-align: right;\n",
       "  white-space: pre-wrap;\n",
       "}\n",
       "</style>\n",
       "<small>shape: (2, 4)</small><table border=\"1\" class=\"dataframe\"><thead><tr><th>h</th><th>method</th><th>predicted_answers</th><th>answers</th></tr><tr><td>str</td><td>str</td><td>list[str]</td><td>list[str]</td></tr></thead><tbody><tr><td>&quot;CHEBI:31652&quot;</td><td>&quot;RotatE&quot;</td><td>[&quot;DOID:0050860&quot;, &quot;DOID:1909&quot;, … &quot;GO:0043234&quot;]</td><td>[&quot;DOID:10534&quot;]</td></tr><tr><td>&quot;CHEBI:3173&quot;</td><td>&quot;RotatE&quot;</td><td>[&quot;MESH:D002375&quot;, &quot;DOID:0060224&quot;, … &quot;DOID:13949&quot;]</td><td>[&quot;HP:0001663&quot;]</td></tr></tbody></table></div>"
      ],
      "text/plain": [
       "shape: (2, 4)\n",
       "┌─────────────┬────────┬─────────────────────────────────┬────────────────┐\n",
       "│ h           ┆ method ┆ predicted_answers               ┆ answers        │\n",
       "│ ---         ┆ ---    ┆ ---                             ┆ ---            │\n",
       "│ str         ┆ str    ┆ list[str]                       ┆ list[str]      │\n",
       "╞═════════════╪════════╪═════════════════════════════════╪════════════════╡\n",
       "│ CHEBI:31652 ┆ RotatE ┆ [\"DOID:0050860\", \"DOID:1909\", … ┆ [\"DOID:10534\"] │\n",
       "│ CHEBI:3173  ┆ RotatE ┆ [\"MESH:D002375\", \"DOID:0060224… ┆ [\"HP:0001663\"] │\n",
       "└─────────────┴────────┴─────────────────────────────────┴────────────────┘"
      ]
     },
     "execution_count": 58,
     "metadata": {},
     "output_type": "execute_result"
    }
   ],
   "source": [
    "res_df = res_df.join(indications, on=\"h\", how=\"left\")\n",
    "\n",
    "res_df.head(2)"
   ]
  },
  {
   "cell_type": "markdown",
   "id": "06d80905",
   "metadata": {},
   "source": [
    "## get answer positions"
   ]
  },
  {
   "cell_type": "code",
   "execution_count": 59,
   "id": "76649757",
   "metadata": {},
   "outputs": [
    {
     "data": {
      "text/html": [
       "<div><style>\n",
       ".dataframe > thead > tr,\n",
       ".dataframe > tbody > tr {\n",
       "  text-align: right;\n",
       "  white-space: pre-wrap;\n",
       "}\n",
       "</style>\n",
       "<small>shape: (2, 6)</small><table border=\"1\" class=\"dataframe\"><thead><tr><th>h</th><th>method</th><th>predicted_answers</th><th>answers</th><th>match</th><th>rank</th></tr><tr><td>str</td><td>str</td><td>list[str]</td><td>str</td><td>u32</td><td>i64</td></tr></thead><tbody><tr><td>&quot;CHEBI:135735&quot;</td><td>&quot;CBR&quot;</td><td>[&quot;DOID:3393&quot;, &quot;DOID:6000&quot;, … &quot;DOID:0060343&quot;]</td><td>&quot;DOID:10763&quot;</td><td>3</td><td>3</td></tr><tr><td>&quot;CHEBI:135735&quot;</td><td>&quot;CBR&quot;</td><td>[&quot;DOID:3393&quot;, &quot;DOID:6000&quot;, … &quot;DOID:0060343&quot;]</td><td>&quot;DOID:10591&quot;</td><td>13</td><td>12</td></tr></tbody></table></div>"
      ],
      "text/plain": [
       "shape: (2, 6)\n",
       "┌──────────────┬────────┬─────────────────────────────────┬────────────┬───────┬──────┐\n",
       "│ h            ┆ method ┆ predicted_answers               ┆ answers    ┆ match ┆ rank │\n",
       "│ ---          ┆ ---    ┆ ---                             ┆ ---        ┆ ---   ┆ ---  │\n",
       "│ str          ┆ str    ┆ list[str]                       ┆ str        ┆ u32   ┆ i64  │\n",
       "╞══════════════╪════════╪═════════════════════════════════╪════════════╪═══════╪══════╡\n",
       "│ CHEBI:135735 ┆ CBR    ┆ [\"DOID:3393\", \"DOID:6000\", … \"… ┆ DOID:10763 ┆ 3     ┆ 3    │\n",
       "│ CHEBI:135735 ┆ CBR    ┆ [\"DOID:3393\", \"DOID:6000\", … \"… ┆ DOID:10591 ┆ 13    ┆ 12   │\n",
       "└──────────────┴────────┴─────────────────────────────────┴────────────┴───────┴──────┘"
      ]
     },
     "execution_count": 59,
     "metadata": {},
     "output_type": "execute_result"
    }
   ],
   "source": [
    "res_df = (\n",
    "    res_df.explode(\"answers\")\n",
    "    .explode(\"predicted_answers\")\n",
    "    .with_columns(match=pl.col(\"answers\") == pl.col(\"predicted_answers\"))\n",
    "    .group_by([\"h\", \"method\", \"answers\"], maintain_order=True)\n",
    "    .agg([\"match\", \"predicted_answers\"])\n",
    "    .with_columns(\n",
    "        pl.when(pl.col(\"answers\").is_in(pl.col(\"predicted_answers\")))\n",
    "        .then(pl.col(\"match\").list.arg_max() + 1)\n",
    "        .otherwise(None)\n",
    "    )  # get rank of correct answer\n",
    "    .sort([\"h\", \"method\", \"match\"], nulls_last=True)\n",
    "    # # put ranks in order so we can calculate the filtered rank\n",
    "    .group_by([\"h\", \"method\", \"predicted_answers\"], maintain_order=True)\n",
    "    .agg([\"answers\", \"match\"])\n",
    "    # # calculate how much to decrease the ranks by\n",
    "    .with_columns(rank=pl.int_ranges(0, pl.col(\"match\").list.len()))\n",
    "    .explode([\"answers\", \"match\", \"rank\"])\n",
    "    .with_columns(\n",
    "        rank=pl.when(pl.col(\"match\").is_not_null())\n",
    "        .then(pl.col(\"match\") - pl.col(\"rank\"))\n",
    "        .otherwise(None)\n",
    "    )\n",
    ")\n",
    "\n",
    "res_df.head(2)"
   ]
  },
  {
   "cell_type": "code",
   "execution_count": 60,
   "id": "344a0c07",
   "metadata": {},
   "outputs": [
    {
     "data": {
      "text/plain": [
       "(19579, 6)"
      ]
     },
     "execution_count": 60,
     "metadata": {},
     "output_type": "execute_result"
    }
   ],
   "source": [
    "res_df.shape"
   ]
  },
  {
   "cell_type": "markdown",
   "id": "8f069415",
   "metadata": {},
   "source": [
    "## Export the results with ranks dataframe"
   ]
  },
  {
   "cell_type": "code",
   "execution_count": 61,
   "id": "8f27bc52",
   "metadata": {},
   "outputs": [],
   "source": [
    "res_df.select(pl.all().exclude(\"match\")).write_parquet(\"results_df.parquet\")"
   ]
  },
  {
   "cell_type": "markdown",
   "id": "78362723",
   "metadata": {},
   "source": [
    "## Given the answers, recalculate the MRR/Hits"
   ]
  },
  {
   "cell_type": "markdown",
   "id": "fb49349c",
   "metadata": {},
   "source": [
    "### Functions to process results"
   ]
  },
  {
   "cell_type": "code",
   "execution_count": 62,
   "id": "49a5cb43",
   "metadata": {},
   "outputs": [],
   "source": [
    "def calculate_hits(\n",
    "    results: pl.DataFrame,\n",
    "    test_set: pl.DataFrame,\n",
    "    hitsk: int = 10,\n",
    "    method: str = \"probCBR\",\n",
    "):\n",
    "    \"\"\"\n",
    "    Calculate the hits at k for a given method on the test set of queries\n",
    "    \"\"\"\n",
    "    res = test_set.join(\n",
    "        results.select([\"h\", \"answers\", \"method\", \"rank\"]).filter(\n",
    "            pl.col(\"method\") == method\n",
    "        ),\n",
    "        on=[\"h\", \"answers\"],\n",
    "        how=\"left\",\n",
    "    ).with_columns(pl.col(\"rank\").fill_null(10000000))\n",
    "\n",
    "    score_ls = res[\"rank\"].to_list()\n",
    "\n",
    "    return (np.array(score_ls) <= hitsk).sum() / np.array(score_ls).shape[0]"
   ]
  },
  {
   "cell_type": "code",
   "execution_count": 63,
   "id": "884b9f60",
   "metadata": {},
   "outputs": [],
   "source": [
    "def calculate_mrr(\n",
    "    results: pl.DataFrame, test_set: pl.DataFrame, method: str = \"probCBR\"\n",
    "):\n",
    "    \"\"\"\n",
    "    Calculate the mean reciprocal rank for a given method on the test set of queries\n",
    "    \"\"\"\n",
    "    res = test_set.join(\n",
    "        results.select([\"h\", \"answers\", \"method\", \"rank\"]).filter(\n",
    "            pl.col(\"method\") == method\n",
    "        ),\n",
    "        on=[\"h\", \"answers\"],\n",
    "        how=\"left\",\n",
    "    ).with_columns(pl.col(\"rank\").fill_null(10000000))\n",
    "\n",
    "    score_ls = res[\"rank\"].to_list()\n",
    "\n",
    "    return (1 / np.array(score_ls)).mean()"
   ]
  },
  {
   "cell_type": "markdown",
   "id": "9858bbe6",
   "metadata": {},
   "source": [
    "### Results\n",
    "* most algorithms did worse than before with the exception of pCBR which performed drastically better."
   ]
  },
  {
   "cell_type": "code",
   "execution_count": 64,
   "id": "9b83d11e",
   "metadata": {},
   "outputs": [
    {
     "name": "stdout",
     "output_type": "stream",
     "text": [
      "DistMult Stats\n",
      "MRR: 0.0391\n",
      "Hits@1: 0.0098\n",
      "Hits@3: 0.0293\n",
      "Hits@10: 0.0781\n",
      "\n",
      "\n",
      "CBR Stats\n",
      "MRR: 0.0128\n",
      "Hits@1: 0.0020\n",
      "Hits@3: 0.0156\n",
      "Hits@10: 0.0352\n",
      "\n",
      "\n",
      "TransE Stats\n",
      "MRR: 0.1601\n",
      "Hits@1: 0.0645\n",
      "Hits@3: 0.1816\n",
      "Hits@10: 0.3770\n",
      "\n",
      "\n",
      "ComplEx Stats\n",
      "MRR: 0.0820\n",
      "Hits@1: 0.0273\n",
      "Hits@3: 0.0801\n",
      "Hits@10: 0.2031\n",
      "\n",
      "\n",
      "pCBR Stats\n",
      "MRR: 0.2557\n",
      "Hits@1: 0.1816\n",
      "Hits@3: 0.3008\n",
      "Hits@10: 0.3984\n",
      "\n",
      "\n",
      "Rephetio Stats\n",
      "MRR: 0.0816\n",
      "Hits@1: 0.0488\n",
      "Hits@3: 0.0781\n",
      "Hits@10: 0.1445\n",
      "\n",
      "\n",
      "RotatE Stats\n",
      "MRR: 0.1396\n",
      "Hits@1: 0.0840\n",
      "Hits@3: 0.1406\n",
      "Hits@10: 0.2637\n",
      "\n",
      "\n"
     ]
    }
   ],
   "source": [
    "for i in res_df[\"method\"].unique().to_list():\n",
    "    print(f\"{i} Stats\")\n",
    "    print(f\"MRR: {calculate_mrr(res_df,test_set,i):.4f}\")\n",
    "    print(f\"Hits@1: {calculate_hits(res_df,test_set,1,i):.4f}\")\n",
    "    print(f\"Hits@3: {calculate_hits(res_df,test_set,3,i):.4f}\")\n",
    "    print(f\"Hits@10: {calculate_hits(res_df,test_set,10,i):.4f}\")\n",
    "    print(f\"\\n\")"
   ]
  }
 ],
 "metadata": {
  "kernelspec": {
   "display_name": "Python 3 (ipykernel)",
   "language": "python",
   "name": "python3"
  },
  "language_info": {
   "codemirror_mode": {
    "name": "ipython",
    "version": 3
   },
   "file_extension": ".py",
   "mimetype": "text/x-python",
   "name": "python",
   "nbconvert_exporter": "python",
   "pygments_lexer": "ipython3",
   "version": "3.11.9"
  }
 },
 "nbformat": 4,
 "nbformat_minor": 5
}
