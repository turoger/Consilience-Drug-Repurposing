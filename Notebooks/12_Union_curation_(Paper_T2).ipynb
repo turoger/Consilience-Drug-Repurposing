{
 "cells": [
  {
   "cell_type": "code",
   "execution_count": 1,
   "metadata": {},
   "outputs": [],
   "source": [
    "import polars as pl\n",
    "import os"
   ]
  },
  {
   "cell_type": "code",
   "execution_count": 2,
   "metadata": {},
   "outputs": [],
   "source": [
    "os.chdir(\"./Notebooks\")"
   ]
  },
  {
   "cell_type": "markdown",
   "metadata": {},
   "source": [
    "# Sample from the Union Dataframe\n",
    "* sample 25 items from the top Union, non-true predictions to validate\n",
    "* concatenate the first prediction by individual approaches\n",
    "* merge in node names"
   ]
  },
  {
   "cell_type": "code",
   "execution_count": 3,
   "metadata": {},
   "outputs": [],
   "source": [
    "sampled = {\n",
    "    \"CHEBI:77590\": \"armodafinil\",\n",
    "    \"CHEBI:2968\": \"bacampicillin\",\n",
    "    \"CHEBI:3128\": \"bisoprolol fumarate\",\n",
    "    \"CHEBI:48811\": \"chloroquine\",\n",
    "    \"CHEBI:453011\": \"ciclopirox\",\n",
    "    \"CHEBI:3758\": \"Clonidine hydrochloride\",\n",
    "    \"CHEBI:64198\": \"dimercaprol\",\n",
    "    \"CHEBI:28748\": \"doxorubicin\",\n",
    "    \"CHEBI:4814\": \"eprosartan\",\n",
    "    \"CHEBI:5165\": \"Fosphenytoin\",\n",
    "    \"CHEBI:5775\": \"hydralazine\",\n",
    "    \"CHEBI:66913\": \"ingenol mebutate\",\n",
    "    \"IKEY:COCFEDIXXNGUNL-RFKWWTKHSA-N\": \"insulin glargine\",\n",
    "    \"CHEBI:6775\": \"mesalamine\",\n",
    "    \"CHEBI:64354\": \"metolazone\",\n",
    "    \"CHEBI:6904\": \"metoprolol\",\n",
    "    \"CHEBI:31854\": \"Milnacipran hydrochloride\",\n",
    "    \"CHEBI:83766\": \"olaparib\",\n",
    "    \"CHEBI:7826\": \"oxiconazole nitrate\",\n",
    "    \"CHEBI:7944\": \"Paxil\",\n",
    "    \"CHEBI:8481\": \"Propantheline\",\n",
    "    \"CHEBI:32087\": \"Ramatroban\",\n",
    "    \"CHEBI:92246\": \"ranitidine\",\n",
    "    \"CHEBI:9207\": \"sotalol hydrochloride\",\n",
    "    \"CHEBI:32184\": \"tazarotene\",\n",
    "}"
   ]
  },
  {
   "cell_type": "code",
   "execution_count": 4,
   "metadata": {},
   "outputs": [
    {
     "data": {
      "text/html": [
       "<div><style>\n",
       ".dataframe > thead > tr,\n",
       ".dataframe > tbody > tr {\n",
       "  text-align: right;\n",
       "  white-space: pre-wrap;\n",
       "}\n",
       "</style>\n",
       "<small>shape: (25, 5)</small><table border=\"1\" class=\"dataframe\"><thead><tr><th>h</th><th>answers</th><th>filt_rank</th><th>first_ans</th><th>first_rank</th></tr><tr><td>str</td><td>list[str]</td><td>list[u32]</td><td>str</td><td>u32</td></tr></thead><tbody><tr><td>&quot;CHEBI:9207&quot;</td><td>[&quot;DOID:10763&quot;, &quot;DOID:2841&quot;, … &quot;DOID:12995&quot;]</td><td>[1, 3, … 174]</td><td>&quot;DOID:10763&quot;</td><td>1</td></tr><tr><td>&quot;CHEBI:77590&quot;</td><td>[&quot;DOID:3312&quot;, &quot;DOID:5419&quot;, … &quot;MESH:C531617&quot;]</td><td>[1, 2, … 190]</td><td>&quot;DOID:3312&quot;</td><td>1</td></tr><tr><td>&quot;CHEBI:31854&quot;</td><td>[&quot;DOID:1470&quot;, &quot;DOID:3312&quot;, … &quot;DOID:9296&quot;]</td><td>[1, 2, … 164]</td><td>&quot;DOID:1470&quot;</td><td>1</td></tr><tr><td>&quot;CHEBI:32087&quot;</td><td>[&quot;DOID:2841&quot;, &quot;DOID:1205&quot;, … &quot;DOID:5614&quot;]</td><td>[1, 2, … 153]</td><td>&quot;DOID:2841&quot;</td><td>1</td></tr><tr><td>&quot;CHEBI:83766&quot;</td><td>[&quot;DOID:10283&quot;, &quot;DOID:4556&quot;, … &quot;MONDO:0011420&quot;]</td><td>[1, 4, … 185]</td><td>&quot;DOID:10283&quot;</td><td>1</td></tr><tr><td>&hellip;</td><td>&hellip;</td><td>&hellip;</td><td>&hellip;</td><td>&hellip;</td></tr><tr><td>&quot;CHEBI:3128&quot;</td><td>[&quot;DOID:6000&quot;, &quot;DOID:5844&quot;, … &quot;DOID:1924&quot;]</td><td>[3, 4, … 173]</td><td>&quot;DOID:6000&quot;</td><td>3</td></tr><tr><td>&quot;CHEBI:5165&quot;</td><td>[&quot;DOID:12382&quot;, &quot;DOID:891&quot;, … &quot;DOID:820&quot;]</td><td>[3, 4, … 148]</td><td>&quot;DOID:12382&quot;</td><td>3</td></tr><tr><td>&quot;CHEBI:3758&quot;</td><td>[&quot;DOID:9282&quot;, &quot;DOID:1826&quot;, … &quot;DOID:0060883&quot;]</td><td>[3, 4, … 172]</td><td>&quot;DOID:9282&quot;</td><td>3</td></tr><tr><td>&quot;CHEBI:4814&quot;</td><td>[&quot;DOID:6000&quot;, &quot;DOID:9654&quot;, … &quot;CHEBI:17858&quot;]</td><td>[4, 5, … 154]</td><td>&quot;DOID:6000&quot;</td><td>4</td></tr><tr><td>&quot;CHEBI:64354&quot;</td><td>[&quot;DOID:6000&quot;, &quot;WD:Q25303605&quot;, … &quot;DOID:417&quot;]</td><td>[4, 5, … 154]</td><td>&quot;DOID:6000&quot;</td><td>4</td></tr></tbody></table></div>"
      ],
      "text/plain": [
       "shape: (25, 5)\n",
       "┌─────────────┬─────────────────────────────────┬───────────────┬────────────┬────────────┐\n",
       "│ h           ┆ answers                         ┆ filt_rank     ┆ first_ans  ┆ first_rank │\n",
       "│ ---         ┆ ---                             ┆ ---           ┆ ---        ┆ ---        │\n",
       "│ str         ┆ list[str]                       ┆ list[u32]     ┆ str        ┆ u32        │\n",
       "╞═════════════╪═════════════════════════════════╪═══════════════╪════════════╪════════════╡\n",
       "│ CHEBI:9207  ┆ [\"DOID:10763\", \"DOID:2841\", … … ┆ [1, 3, … 174] ┆ DOID:10763 ┆ 1          │\n",
       "│ CHEBI:77590 ┆ [\"DOID:3312\", \"DOID:5419\", … \"… ┆ [1, 2, … 190] ┆ DOID:3312  ┆ 1          │\n",
       "│ CHEBI:31854 ┆ [\"DOID:1470\", \"DOID:3312\", … \"… ┆ [1, 2, … 164] ┆ DOID:1470  ┆ 1          │\n",
       "│ CHEBI:32087 ┆ [\"DOID:2841\", \"DOID:1205\", … \"… ┆ [1, 2, … 153] ┆ DOID:2841  ┆ 1          │\n",
       "│ CHEBI:83766 ┆ [\"DOID:10283\", \"DOID:4556\", … … ┆ [1, 4, … 185] ┆ DOID:10283 ┆ 1          │\n",
       "│ …           ┆ …                               ┆ …             ┆ …          ┆ …          │\n",
       "│ CHEBI:3128  ┆ [\"DOID:6000\", \"DOID:5844\", … \"… ┆ [3, 4, … 173] ┆ DOID:6000  ┆ 3          │\n",
       "│ CHEBI:5165  ┆ [\"DOID:12382\", \"DOID:891\", … \"… ┆ [3, 4, … 148] ┆ DOID:12382 ┆ 3          │\n",
       "│ CHEBI:3758  ┆ [\"DOID:9282\", \"DOID:1826\", … \"… ┆ [3, 4, … 172] ┆ DOID:9282  ┆ 3          │\n",
       "│ CHEBI:4814  ┆ [\"DOID:6000\", \"DOID:9654\", … \"… ┆ [4, 5, … 154] ┆ DOID:6000  ┆ 4          │\n",
       "│ CHEBI:64354 ┆ [\"DOID:6000\", \"WD:Q25303605\", … ┆ [4, 5, … 154] ┆ DOID:6000  ┆ 4          │\n",
       "└─────────────┴─────────────────────────────────┴───────────────┴────────────┴────────────┘"
      ]
     },
     "execution_count": 4,
     "metadata": {},
     "output_type": "execute_result"
    }
   ],
   "source": [
    "sampled_25 = (\n",
    "    pl.read_parquet(\"./data_output/union_method_combinations.parquet\")\n",
    "    .filter(\n",
    "        pl.col(\"is_answer\") == False,\n",
    "        pl.col(\"method_size\") == 7,\n",
    "        pl.col(\"h\").is_in(sampled.keys()),\n",
    "    )\n",
    "    .sort(\"filt_rank\", descending=False)\n",
    "    .group_by(\"h\", maintain_order=True)\n",
    "    .agg([\"answers\", \"filt_rank\"])\n",
    "    .with_columns(\n",
    "        pl.col(\"answers\").list.first().alias(\"first_ans\"),\n",
    "        pl.col(\"filt_rank\").list.first().alias(\"first_rank\"),\n",
    "    )\n",
    ")\n",
    "\n",
    "sampled_25"
   ]
  },
  {
   "cell_type": "markdown",
   "metadata": {},
   "source": [
    "Original code to generate samples\n",
    "\n",
    "```python\n",
    "sampled_25 = (\n",
    "    pl.read_parquet(\"./data_output/union_method_combinations.parquet\")\n",
    "    .filter(pl.col(\"is_answer\") == False, pl.col(\"method_size\") == 7)\n",
    "    .group_by(\"h\", maintain_order=True)\n",
    "    .agg([\"answers\", \"filt_rank\"])\n",
    "    .with_columns(\n",
    "        pl.col(\"answers\").list.first().alias(\"first_ans\"),\n",
    "        pl.col(\"filt_rank\").list.first().alias(\"first_rank\"),\n",
    "    )\n",
    "    .sample(n=25, seed=20240620)\n",
    ")\n",
    "```"
   ]
  },
  {
   "cell_type": "markdown",
   "metadata": {},
   "source": [
    "## Add first non-true predictions from individual approaches"
   ]
  },
  {
   "cell_type": "markdown",
   "metadata": {},
   "source": [
    "### import the results dataframe"
   ]
  },
  {
   "cell_type": "code",
   "execution_count": 5,
   "metadata": {},
   "outputs": [
    {
     "data": {
      "text/html": [
       "<div><style>\n",
       ".dataframe > thead > tr,\n",
       ".dataframe > tbody > tr {\n",
       "  text-align: right;\n",
       "  white-space: pre-wrap;\n",
       "}\n",
       "</style>\n",
       "<small>shape: (2, 5)</small><table border=\"1\" class=\"dataframe\"><thead><tr><th>h</th><th>method</th><th>predicted_answers</th><th>answers</th><th>rank</th></tr><tr><td>str</td><td>str</td><td>list[str]</td><td>str</td><td>i64</td></tr></thead><tbody><tr><td>&quot;CHEBI:135735&quot;</td><td>&quot;CBR&quot;</td><td>[&quot;DOID:3393&quot;, &quot;DOID:6000&quot;, … &quot;DOID:0060343&quot;]</td><td>&quot;DOID:10763&quot;</td><td>3</td></tr><tr><td>&quot;CHEBI:135735&quot;</td><td>&quot;CBR&quot;</td><td>[&quot;DOID:3393&quot;, &quot;DOID:6000&quot;, … &quot;DOID:0060343&quot;]</td><td>&quot;DOID:10591&quot;</td><td>12</td></tr></tbody></table></div>"
      ],
      "text/plain": [
       "shape: (2, 5)\n",
       "┌──────────────┬────────┬─────────────────────────────────┬────────────┬──────┐\n",
       "│ h            ┆ method ┆ predicted_answers               ┆ answers    ┆ rank │\n",
       "│ ---          ┆ ---    ┆ ---                             ┆ ---        ┆ ---  │\n",
       "│ str          ┆ str    ┆ list[str]                       ┆ str        ┆ i64  │\n",
       "╞══════════════╪════════╪═════════════════════════════════╪════════════╪══════╡\n",
       "│ CHEBI:135735 ┆ CBR    ┆ [\"DOID:3393\", \"DOID:6000\", … \"… ┆ DOID:10763 ┆ 3    │\n",
       "│ CHEBI:135735 ┆ CBR    ┆ [\"DOID:3393\", \"DOID:6000\", … \"… ┆ DOID:10591 ┆ 12   │\n",
       "└──────────────┴────────┴─────────────────────────────────┴────────────┴──────┘"
      ]
     },
     "execution_count": 5,
     "metadata": {},
     "output_type": "execute_result"
    }
   ],
   "source": [
    "results_df = pl.read_parquet(\"./data_output/results_df.parquet\")\n",
    "results_df.head(2)"
   ]
  },
  {
   "cell_type": "code",
   "execution_count": 6,
   "metadata": {},
   "outputs": [
    {
     "data": {
      "text/html": [
       "<div><style>\n",
       ".dataframe > thead > tr,\n",
       ".dataframe > tbody > tr {\n",
       "  text-align: right;\n",
       "  white-space: pre-wrap;\n",
       "}\n",
       "</style>\n",
       "<small>shape: (2, 5)</small><table border=\"1\" class=\"dataframe\"><thead><tr><th>h</th><th>method</th><th>predicted_answers</th><th>answers</th><th>rank</th></tr><tr><td>str</td><td>str</td><td>list[str]</td><td>list[str]</td><td>list[i64]</td></tr></thead><tbody><tr><td>&quot;CHEBI:50727&quot;</td><td>&quot;CBR&quot;</td><td>[&quot;DOID:1612&quot;, &quot;DOID:3459&quot;, … &quot;DOID:552&quot;]</td><td>[&quot;DOID:10283&quot;, &quot;DOID:9119&quot;, … &quot;DOID:5821&quot;]</td><td>[7, 55, … null]</td></tr><tr><td>&quot;CHEBI:28329&quot;</td><td>&quot;Rephetio&quot;</td><td>[&quot;DOID:14330&quot;, &quot;DOID:1826&quot;, … &quot;DOID:3890&quot;]</td><td>[&quot;DOID:12306&quot;]</td><td>[48]</td></tr></tbody></table></div>"
      ],
      "text/plain": [
       "shape: (2, 5)\n",
       "┌─────────────┬──────────┬───────────────────┬───────────────────────────────────┬─────────────────┐\n",
       "│ h           ┆ method   ┆ predicted_answers ┆ answers                           ┆ rank            │\n",
       "│ ---         ┆ ---      ┆ ---               ┆ ---                               ┆ ---             │\n",
       "│ str         ┆ str      ┆ list[str]         ┆ list[str]                         ┆ list[i64]       │\n",
       "╞═════════════╪══════════╪═══════════════════╪═══════════════════════════════════╪═════════════════╡\n",
       "│ CHEBI:50727 ┆ CBR      ┆ [\"DOID:1612\",     ┆ [\"DOID:10283\", \"DOID:9119\", … …   ┆ [7, 55, … null] │\n",
       "│             ┆          ┆ \"DOID:3459\", … \"… ┆                                   ┆                 │\n",
       "│ CHEBI:28329 ┆ Rephetio ┆ [\"DOID:14330\",    ┆ [\"DOID:12306\"]                    ┆ [48]            │\n",
       "│             ┆          ┆ \"DOID:1826\", … …  ┆                                   ┆                 │\n",
       "└─────────────┴──────────┴───────────────────┴───────────────────────────────────┴─────────────────┘"
      ]
     },
     "execution_count": 6,
     "metadata": {},
     "output_type": "execute_result"
    }
   ],
   "source": [
    "result_df = results_df.group_by(pl.all().exclude([\"answers\", \"rank\"])).agg(\n",
    "    [\"answers\", \"rank\"]\n",
    ")\n",
    "\n",
    "result_df.head(2)"
   ]
  },
  {
   "cell_type": "markdown",
   "metadata": {},
   "source": [
    "### Get first non-true answer"
   ]
  },
  {
   "cell_type": "code",
   "execution_count": 7,
   "metadata": {},
   "outputs": [
    {
     "data": {
      "text/html": [
       "<div><style>\n",
       ".dataframe > thead > tr,\n",
       ".dataframe > tbody > tr {\n",
       "  text-align: right;\n",
       "  white-space: pre-wrap;\n",
       "}\n",
       "</style>\n",
       "<small>shape: (175, 3)</small><table border=\"1\" class=\"dataframe\"><thead><tr><th>h</th><th>method</th><th>first_ans</th></tr><tr><td>str</td><td>str</td><td>str</td></tr></thead><tbody><tr><td>&quot;CHEBI:92246&quot;</td><td>&quot;Rephetio&quot;</td><td>&quot;DOID:12849&quot;</td></tr><tr><td>&quot;CHEBI:83766&quot;</td><td>&quot;RotatE&quot;</td><td>&quot;DOID:4451&quot;</td></tr><tr><td>&quot;CHEBI:2968&quot;</td><td>&quot;ComplEx&quot;</td><td>&quot;WD:Q21109048&quot;</td></tr><tr><td>&quot;CHEBI:31854&quot;</td><td>&quot;pCBR&quot;</td><td>&quot;DOID:1470&quot;</td></tr><tr><td>&quot;CHEBI:3758&quot;</td><td>&quot;CBR&quot;</td><td>&quot;DOID:1826&quot;</td></tr><tr><td>&hellip;</td><td>&hellip;</td><td>&hellip;</td></tr><tr><td>&quot;CHEBI:48811&quot;</td><td>&quot;pCBR&quot;</td><td>&quot;DOID:8577&quot;</td></tr><tr><td>&quot;CHEBI:6904&quot;</td><td>&quot;DistMult&quot;</td><td>&quot;UMLS:C0221155&quot;</td></tr><tr><td>&quot;CHEBI:83766&quot;</td><td>&quot;TransE&quot;</td><td>&quot;DOID:4903&quot;</td></tr><tr><td>&quot;CHEBI:3128&quot;</td><td>&quot;pCBR&quot;</td><td>&quot;DOID:2349&quot;</td></tr><tr><td>&quot;CHEBI:92246&quot;</td><td>&quot;pCBR&quot;</td><td>&quot;DOID:8577&quot;</td></tr></tbody></table></div>"
      ],
      "text/plain": [
       "shape: (175, 3)\n",
       "┌─────────────┬──────────┬───────────────┐\n",
       "│ h           ┆ method   ┆ first_ans     │\n",
       "│ ---         ┆ ---      ┆ ---           │\n",
       "│ str         ┆ str      ┆ str           │\n",
       "╞═════════════╪══════════╪═══════════════╡\n",
       "│ CHEBI:92246 ┆ Rephetio ┆ DOID:12849    │\n",
       "│ CHEBI:83766 ┆ RotatE   ┆ DOID:4451     │\n",
       "│ CHEBI:2968  ┆ ComplEx  ┆ WD:Q21109048  │\n",
       "│ CHEBI:31854 ┆ pCBR     ┆ DOID:1470     │\n",
       "│ CHEBI:3758  ┆ CBR      ┆ DOID:1826     │\n",
       "│ …           ┆ …        ┆ …             │\n",
       "│ CHEBI:48811 ┆ pCBR     ┆ DOID:8577     │\n",
       "│ CHEBI:6904  ┆ DistMult ┆ UMLS:C0221155 │\n",
       "│ CHEBI:83766 ┆ TransE   ┆ DOID:4903     │\n",
       "│ CHEBI:3128  ┆ pCBR     ┆ DOID:2349     │\n",
       "│ CHEBI:92246 ┆ pCBR     ┆ DOID:8577     │\n",
       "└─────────────┴──────────┴───────────────┘"
      ]
     },
     "execution_count": 7,
     "metadata": {},
     "output_type": "execute_result"
    }
   ],
   "source": [
    "(\n",
    "    result_df.filter(pl.col(\"h\").is_in(sampled_25[\"h\"]))\n",
    "    .with_columns(\n",
    "        pl.col(\"predicted_answers\")\n",
    "        .list.set_symmetric_difference(pl.col(\"answers\"))\n",
    "        .list.first()\n",
    "        .alias(\"first_ans\")\n",
    "    )\n",
    "    .select([\"h\", \"method\", \"first_ans\"])\n",
    ")"
   ]
  },
  {
   "cell_type": "markdown",
   "metadata": {},
   "source": [
    "## combine sampled dataframes together"
   ]
  },
  {
   "cell_type": "code",
   "execution_count": 8,
   "metadata": {},
   "outputs": [],
   "source": [
    "results_df_concat = pl.concat(\n",
    "    [\n",
    "        sampled_25.with_columns(method=pl.lit(\"Union\")).select(\n",
    "            [\"h\", \"method\", \"first_ans\"]\n",
    "        ),\n",
    "        (\n",
    "            result_df.filter(pl.col(\"h\").is_in(sampled_25[\"h\"]))\n",
    "            .with_columns(\n",
    "                pl.col(\"predicted_answers\")\n",
    "                .list.set_symmetric_difference(pl.col(\"answers\"))\n",
    "                .list.first()\n",
    "                .alias(\"first_ans\")\n",
    "            )\n",
    "            .select([\"h\", \"method\", \"first_ans\"])\n",
    "        ),\n",
    "    ]\n",
    ")"
   ]
  },
  {
   "cell_type": "code",
   "execution_count": 9,
   "metadata": {},
   "outputs": [],
   "source": [
    "assert results_df_concat.shape[0] == 200, \"results should have 200 rows\""
   ]
  },
  {
   "cell_type": "markdown",
   "metadata": {},
   "source": [
    "### Get names of the compound and predicted diseases"
   ]
  },
  {
   "cell_type": "code",
   "execution_count": 10,
   "metadata": {},
   "outputs": [
    {
     "data": {
      "text/html": [
       "<div><style>\n",
       ".dataframe > thead > tr,\n",
       ".dataframe > tbody > tr {\n",
       "  text-align: right;\n",
       "  white-space: pre-wrap;\n",
       "}\n",
       "</style>\n",
       "<small>shape: (2, 3)</small><table border=\"1\" class=\"dataframe\"><thead><tr><th>id</th><th>name</th><th>label</th></tr><tr><td>str</td><td>str</td><td>str</td></tr></thead><tbody><tr><td>&quot;UBERON:0000002&quot;</td><td>&quot;cervix&quot;</td><td>&quot;AnatomicalEntity&quot;</td></tr><tr><td>&quot;UBERON:0000004&quot;</td><td>&quot;human nose&quot;</td><td>&quot;AnatomicalEntity&quot;</td></tr></tbody></table></div>"
      ],
      "text/plain": [
       "shape: (2, 3)\n",
       "┌────────────────┬────────────┬──────────────────┐\n",
       "│ id             ┆ name       ┆ label            │\n",
       "│ ---            ┆ ---        ┆ ---              │\n",
       "│ str            ┆ str        ┆ str              │\n",
       "╞════════════════╪════════════╪══════════════════╡\n",
       "│ UBERON:0000002 ┆ cervix     ┆ AnatomicalEntity │\n",
       "│ UBERON:0000004 ┆ human nose ┆ AnatomicalEntity │\n",
       "└────────────────┴────────────┴──────────────────┘"
      ]
     },
     "execution_count": 10,
     "metadata": {},
     "output_type": "execute_result"
    }
   ],
   "source": [
    "nodes = pl.read_csv(\"../../../MRN_dataset/nodes_biolink.csv\").select(\n",
    "    [\"id\", \"name\", \"label\"]\n",
    ")\n",
    "nodes.head(2)"
   ]
  },
  {
   "cell_type": "markdown",
   "metadata": {},
   "source": [
    "### Merging node names"
   ]
  },
  {
   "cell_type": "markdown",
   "metadata": {},
   "source": [
    "#### look at how many individual predictions aren't disease targets"
   ]
  },
  {
   "cell_type": "code",
   "execution_count": 11,
   "metadata": {},
   "outputs": [
    {
     "data": {
      "text/html": [
       "<div><style>\n",
       ".dataframe > thead > tr,\n",
       ".dataframe > tbody > tr {\n",
       "  text-align: right;\n",
       "  white-space: pre-wrap;\n",
       "}\n",
       "</style>\n",
       "<small>shape: (16, 7)</small><table border=\"1\" class=\"dataframe\"><thead><tr><th>h</th><th>method</th><th>first_ans</th><th>drug_name</th><th>drug_label</th><th>disease_name</th><th>disease_label</th></tr><tr><td>str</td><td>str</td><td>str</td><td>str</td><td>str</td><td>str</td><td>str</td></tr></thead><tbody><tr><td>&quot;CHEBI:32087&quot;</td><td>&quot;pCBR&quot;</td><td>&quot;NCBIGene:367&quot;</td><td>&quot;Ramatroban&quot;</td><td>&quot;ChemicalSubstance&quot;</td><td>&quot;AR&quot;</td><td>&quot;MacromolecularMachine&quot;</td></tr><tr><td>&quot;CHEBI:32184&quot;</td><td>&quot;DistMult&quot;</td><td>&quot;MESH:D011763&quot;</td><td>&quot;tazarotene&quot;</td><td>&quot;ChemicalSubstance&quot;</td><td>&quot;Pyrrolizidine Alkaloids&quot;</td><td>&quot;ChemicalSubstance&quot;</td></tr><tr><td>&quot;CHEBI:64198&quot;</td><td>&quot;DistMult&quot;</td><td>&quot;NCBIGene:5819&quot;</td><td>&quot;dimercaprol&quot;</td><td>&quot;ChemicalSubstance&quot;</td><td>&quot;NECTIN2&quot;</td><td>&quot;MacromolecularMachine&quot;</td></tr><tr><td>&quot;CHEBI:5165&quot;</td><td>&quot;TransE&quot;</td><td>&quot;HP:0002069&quot;</td><td>&quot;Fosphenytoin&quot;</td><td>&quot;ChemicalSubstance&quot;</td><td>&quot;Generalized tonic-clonic seizu…</td><td>&quot;PhenotypicFeature&quot;</td></tr><tr><td>&quot;CHEBI:64198&quot;</td><td>&quot;ComplEx&quot;</td><td>&quot;REACT:R-HSA-5357769&quot;</td><td>&quot;dimercaprol&quot;</td><td>&quot;ChemicalSubstance&quot;</td><td>&quot;Caspase activation via extrins…</td><td>&quot;Pathway&quot;</td></tr><tr><td>&hellip;</td><td>&hellip;</td><td>&hellip;</td><td>&hellip;</td><td>&hellip;</td><td>&hellip;</td><td>&hellip;</td></tr><tr><td>&quot;CHEBI:8481&quot;</td><td>&quot;RotatE&quot;</td><td>&quot;NCBITaxon:5825&quot;</td><td>&quot;Propantheline&quot;</td><td>&quot;ChemicalSubstance&quot;</td><td>&quot;Plasmodium chabaudi&quot;</td><td>&quot;OrganismTaxon&quot;</td></tr><tr><td>&quot;CHEBI:48811&quot;</td><td>&quot;TransE&quot;</td><td>&quot;KEGG:hsa05215&quot;</td><td>&quot;chloroquine&quot;</td><td>&quot;ChemicalSubstance&quot;</td><td>&quot;Prostate cancer&quot;</td><td>&quot;Pathway&quot;</td></tr><tr><td>&quot;CHEBI:64198&quot;</td><td>&quot;RotatE&quot;</td><td>&quot;NCBITaxon:272561&quot;</td><td>&quot;dimercaprol&quot;</td><td>&quot;ChemicalSubstance&quot;</td><td>&quot;Chlamydia trachomatis D/UW-3/C…</td><td>&quot;OrganismTaxon&quot;</td></tr><tr><td>&quot;CHEBI:7944&quot;</td><td>&quot;ComplEx&quot;</td><td>&quot;HP:0002155&quot;</td><td>&quot;Paxil&quot;</td><td>&quot;ChemicalSubstance&quot;</td><td>&quot;Hypertriglyceridemia&quot;</td><td>&quot;PhenotypicFeature&quot;</td></tr><tr><td>&quot;CHEBI:5165&quot;</td><td>&quot;RotatE&quot;</td><td>&quot;HP:0002069&quot;</td><td>&quot;Fosphenytoin&quot;</td><td>&quot;ChemicalSubstance&quot;</td><td>&quot;Generalized tonic-clonic seizu…</td><td>&quot;PhenotypicFeature&quot;</td></tr></tbody></table></div>"
      ],
      "text/plain": [
       "shape: (16, 7)\n",
       "┌─────────────┬──────────┬──────────────┬──────────────┬──────────────┬──────────────┬─────────────┐\n",
       "│ h           ┆ method   ┆ first_ans    ┆ drug_name    ┆ drug_label   ┆ disease_name ┆ disease_lab │\n",
       "│ ---         ┆ ---      ┆ ---          ┆ ---          ┆ ---          ┆ ---          ┆ el          │\n",
       "│ str         ┆ str      ┆ str          ┆ str          ┆ str          ┆ str          ┆ ---         │\n",
       "│             ┆          ┆              ┆              ┆              ┆              ┆ str         │\n",
       "╞═════════════╪══════════╪══════════════╪══════════════╪══════════════╪══════════════╪═════════════╡\n",
       "│ CHEBI:32087 ┆ pCBR     ┆ NCBIGene:367 ┆ Ramatroban   ┆ ChemicalSubs ┆ AR           ┆ Macromolecu │\n",
       "│             ┆          ┆              ┆              ┆ tance        ┆              ┆ larMachine  │\n",
       "│ CHEBI:32184 ┆ DistMult ┆ MESH:D011763 ┆ tazarotene   ┆ ChemicalSubs ┆ Pyrrolizidin ┆ ChemicalSub │\n",
       "│             ┆          ┆              ┆              ┆ tance        ┆ e Alkaloids  ┆ stance      │\n",
       "│ CHEBI:64198 ┆ DistMult ┆ NCBIGene:581 ┆ dimercaprol  ┆ ChemicalSubs ┆ NECTIN2      ┆ Macromolecu │\n",
       "│             ┆          ┆ 9            ┆              ┆ tance        ┆              ┆ larMachine  │\n",
       "│ CHEBI:5165  ┆ TransE   ┆ HP:0002069   ┆ Fosphenytoin ┆ ChemicalSubs ┆ Generalized  ┆ PhenotypicF │\n",
       "│             ┆          ┆              ┆              ┆ tance        ┆ tonic-clonic ┆ eature      │\n",
       "│             ┆          ┆              ┆              ┆              ┆ seizu…       ┆             │\n",
       "│ CHEBI:64198 ┆ ComplEx  ┆ REACT:R-HSA- ┆ dimercaprol  ┆ ChemicalSubs ┆ Caspase      ┆ Pathway     │\n",
       "│             ┆          ┆ 5357769      ┆              ┆ tance        ┆ activation   ┆             │\n",
       "│             ┆          ┆              ┆              ┆              ┆ via extrins… ┆             │\n",
       "│ …           ┆ …        ┆ …            ┆ …            ┆ …            ┆ …            ┆ …           │\n",
       "│ CHEBI:8481  ┆ RotatE   ┆ NCBITaxon:58 ┆ Propanthelin ┆ ChemicalSubs ┆ Plasmodium   ┆ OrganismTax │\n",
       "│             ┆          ┆ 25           ┆ e            ┆ tance        ┆ chabaudi     ┆ on          │\n",
       "│ CHEBI:48811 ┆ TransE   ┆ KEGG:hsa0521 ┆ chloroquine  ┆ ChemicalSubs ┆ Prostate     ┆ Pathway     │\n",
       "│             ┆          ┆ 5            ┆              ┆ tance        ┆ cancer       ┆             │\n",
       "│ CHEBI:64198 ┆ RotatE   ┆ NCBITaxon:27 ┆ dimercaprol  ┆ ChemicalSubs ┆ Chlamydia    ┆ OrganismTax │\n",
       "│             ┆          ┆ 2561         ┆              ┆ tance        ┆ trachomatis  ┆ on          │\n",
       "│             ┆          ┆              ┆              ┆              ┆ D/UW-3/C…    ┆             │\n",
       "│ CHEBI:7944  ┆ ComplEx  ┆ HP:0002155   ┆ Paxil        ┆ ChemicalSubs ┆ Hypertriglyc ┆ PhenotypicF │\n",
       "│             ┆          ┆              ┆              ┆ tance        ┆ eridemia     ┆ eature      │\n",
       "│ CHEBI:5165  ┆ RotatE   ┆ HP:0002069   ┆ Fosphenytoin ┆ ChemicalSubs ┆ Generalized  ┆ PhenotypicF │\n",
       "│             ┆          ┆              ┆              ┆ tance        ┆ tonic-clonic ┆ eature      │\n",
       "│             ┆          ┆              ┆              ┆              ┆ seizu…       ┆             │\n",
       "└─────────────┴──────────┴──────────────┴──────────────┴──────────────┴──────────────┴─────────────┘"
      ]
     },
     "execution_count": 11,
     "metadata": {},
     "output_type": "execute_result"
    }
   ],
   "source": [
    "results_df_concat.join(nodes, left_on=\"h\", right_on=\"id\", how=\"left\").join(\n",
    "    nodes, left_on=\"first_ans\", right_on=\"id\", how=\"left\"\n",
    ").rename(\n",
    "    {\n",
    "        \"name\": \"drug_name\",\n",
    "        \"label\": \"drug_label\",\n",
    "        \"name_right\": \"disease_name\",\n",
    "        \"label_right\": \"disease_label\",\n",
    "    }\n",
    ").filter(\n",
    "    pl.col(\"disease_label\") != \"Disease\"\n",
    ")"
   ]
  },
  {
   "cell_type": "markdown",
   "metadata": {},
   "source": [
    "#### Export the individual union first predictions"
   ]
  },
  {
   "cell_type": "code",
   "execution_count": 12,
   "metadata": {},
   "outputs": [
    {
     "data": {
      "text/html": [
       "<div><style>\n",
       ".dataframe > thead > tr,\n",
       ".dataframe > tbody > tr {\n",
       "  text-align: right;\n",
       "  white-space: pre-wrap;\n",
       "}\n",
       "</style>\n",
       "<small>shape: (200, 7)</small><table border=\"1\" class=\"dataframe\"><thead><tr><th>drug_id</th><th>method</th><th>disease_id</th><th>drug_name</th><th>drug_label</th><th>disease_name</th><th>disease_label</th></tr><tr><td>str</td><td>str</td><td>str</td><td>str</td><td>str</td><td>str</td><td>str</td></tr></thead><tbody><tr><td>&quot;CHEBI:9207&quot;</td><td>&quot;Union&quot;</td><td>&quot;DOID:10763&quot;</td><td>&quot;sotalol hydrochloride&quot;</td><td>&quot;ChemicalSubstance&quot;</td><td>&quot;hypertension&quot;</td><td>&quot;Disease&quot;</td></tr><tr><td>&quot;CHEBI:77590&quot;</td><td>&quot;Union&quot;</td><td>&quot;DOID:3312&quot;</td><td>&quot;armodafinil&quot;</td><td>&quot;ChemicalSubstance&quot;</td><td>&quot;bipolar disorder&quot;</td><td>&quot;Disease&quot;</td></tr><tr><td>&quot;CHEBI:31854&quot;</td><td>&quot;Union&quot;</td><td>&quot;DOID:1470&quot;</td><td>&quot;Milnacipran hydrochloride&quot;</td><td>&quot;ChemicalSubstance&quot;</td><td>&quot;major depressive disorder&quot;</td><td>&quot;Disease&quot;</td></tr><tr><td>&quot;CHEBI:32087&quot;</td><td>&quot;Union&quot;</td><td>&quot;DOID:2841&quot;</td><td>&quot;Ramatroban&quot;</td><td>&quot;ChemicalSubstance&quot;</td><td>&quot;asthma&quot;</td><td>&quot;Disease&quot;</td></tr><tr><td>&quot;CHEBI:83766&quot;</td><td>&quot;Union&quot;</td><td>&quot;DOID:10283&quot;</td><td>&quot;olaparib&quot;</td><td>&quot;ChemicalSubstance&quot;</td><td>&quot;prostate cancer&quot;</td><td>&quot;Disease&quot;</td></tr><tr><td>&hellip;</td><td>&hellip;</td><td>&hellip;</td><td>&hellip;</td><td>&hellip;</td><td>&hellip;</td><td>&hellip;</td></tr><tr><td>&quot;CHEBI:48811&quot;</td><td>&quot;pCBR&quot;</td><td>&quot;DOID:8577&quot;</td><td>&quot;chloroquine&quot;</td><td>&quot;ChemicalSubstance&quot;</td><td>&quot;ulcerative colitis&quot;</td><td>&quot;Disease&quot;</td></tr><tr><td>&quot;CHEBI:6904&quot;</td><td>&quot;DistMult&quot;</td><td>&quot;UMLS:C0221155&quot;</td><td>&quot;metoprolol&quot;</td><td>&quot;ChemicalSubstance&quot;</td><td>&quot;Systolic hypertension&quot;</td><td>&quot;Disease&quot;</td></tr><tr><td>&quot;CHEBI:83766&quot;</td><td>&quot;TransE&quot;</td><td>&quot;DOID:4903&quot;</td><td>&quot;olaparib&quot;</td><td>&quot;ChemicalSubstance&quot;</td><td>&quot;granular cell carcinoma&quot;</td><td>&quot;Disease&quot;</td></tr><tr><td>&quot;CHEBI:3128&quot;</td><td>&quot;pCBR&quot;</td><td>&quot;DOID:2349&quot;</td><td>&quot;bisoprolol fumarate&quot;</td><td>&quot;ChemicalSubstance&quot;</td><td>&quot;arteriosclerosis&quot;</td><td>&quot;Disease&quot;</td></tr><tr><td>&quot;CHEBI:92246&quot;</td><td>&quot;pCBR&quot;</td><td>&quot;DOID:8577&quot;</td><td>&quot;ranitidine&quot;</td><td>&quot;ChemicalSubstance&quot;</td><td>&quot;ulcerative colitis&quot;</td><td>&quot;Disease&quot;</td></tr></tbody></table></div>"
      ],
      "text/plain": [
       "shape: (200, 7)\n",
       "┌─────────────┬──────────┬──────────────┬──────────────┬──────────────┬──────────────┬─────────────┐\n",
       "│ drug_id     ┆ method   ┆ disease_id   ┆ drug_name    ┆ drug_label   ┆ disease_name ┆ disease_lab │\n",
       "│ ---         ┆ ---      ┆ ---          ┆ ---          ┆ ---          ┆ ---          ┆ el          │\n",
       "│ str         ┆ str      ┆ str          ┆ str          ┆ str          ┆ str          ┆ ---         │\n",
       "│             ┆          ┆              ┆              ┆              ┆              ┆ str         │\n",
       "╞═════════════╪══════════╪══════════════╪══════════════╪══════════════╪══════════════╪═════════════╡\n",
       "│ CHEBI:9207  ┆ Union    ┆ DOID:10763   ┆ sotalol hydr ┆ ChemicalSubs ┆ hypertension ┆ Disease     │\n",
       "│             ┆          ┆              ┆ ochloride    ┆ tance        ┆              ┆             │\n",
       "│ CHEBI:77590 ┆ Union    ┆ DOID:3312    ┆ armodafinil  ┆ ChemicalSubs ┆ bipolar      ┆ Disease     │\n",
       "│             ┆          ┆              ┆              ┆ tance        ┆ disorder     ┆             │\n",
       "│ CHEBI:31854 ┆ Union    ┆ DOID:1470    ┆ Milnacipran  ┆ ChemicalSubs ┆ major        ┆ Disease     │\n",
       "│             ┆          ┆              ┆ hydrochlorid ┆ tance        ┆ depressive   ┆             │\n",
       "│             ┆          ┆              ┆ e            ┆              ┆ disorder     ┆             │\n",
       "│ CHEBI:32087 ┆ Union    ┆ DOID:2841    ┆ Ramatroban   ┆ ChemicalSubs ┆ asthma       ┆ Disease     │\n",
       "│             ┆          ┆              ┆              ┆ tance        ┆              ┆             │\n",
       "│ CHEBI:83766 ┆ Union    ┆ DOID:10283   ┆ olaparib     ┆ ChemicalSubs ┆ prostate     ┆ Disease     │\n",
       "│             ┆          ┆              ┆              ┆ tance        ┆ cancer       ┆             │\n",
       "│ …           ┆ …        ┆ …            ┆ …            ┆ …            ┆ …            ┆ …           │\n",
       "│ CHEBI:48811 ┆ pCBR     ┆ DOID:8577    ┆ chloroquine  ┆ ChemicalSubs ┆ ulcerative   ┆ Disease     │\n",
       "│             ┆          ┆              ┆              ┆ tance        ┆ colitis      ┆             │\n",
       "│ CHEBI:6904  ┆ DistMult ┆ UMLS:C022115 ┆ metoprolol   ┆ ChemicalSubs ┆ Systolic     ┆ Disease     │\n",
       "│             ┆          ┆ 5            ┆              ┆ tance        ┆ hypertension ┆             │\n",
       "│ CHEBI:83766 ┆ TransE   ┆ DOID:4903    ┆ olaparib     ┆ ChemicalSubs ┆ granular     ┆ Disease     │\n",
       "│             ┆          ┆              ┆              ┆ tance        ┆ cell         ┆             │\n",
       "│             ┆          ┆              ┆              ┆              ┆ carcinoma    ┆             │\n",
       "│ CHEBI:3128  ┆ pCBR     ┆ DOID:2349    ┆ bisoprolol   ┆ ChemicalSubs ┆ arterioscler ┆ Disease     │\n",
       "│             ┆          ┆              ┆ fumarate     ┆ tance        ┆ osis         ┆             │\n",
       "│ CHEBI:92246 ┆ pCBR     ┆ DOID:8577    ┆ ranitidine   ┆ ChemicalSubs ┆ ulcerative   ┆ Disease     │\n",
       "│             ┆          ┆              ┆              ┆ tance        ┆ colitis      ┆             │\n",
       "└─────────────┴──────────┴──────────────┴──────────────┴──────────────┴──────────────┴─────────────┘"
      ]
     },
     "execution_count": 12,
     "metadata": {},
     "output_type": "execute_result"
    }
   ],
   "source": [
    "individual_preds = (\n",
    "    results_df_concat.join(nodes, left_on=\"h\", right_on=\"id\", how=\"left\")\n",
    "    .join(nodes, left_on=\"first_ans\", right_on=\"id\", how=\"left\")\n",
    "    .rename(\n",
    "        {\n",
    "            \"h\": \"drug_id\",\n",
    "            \"name\": \"drug_name\",\n",
    "            \"label\": \"drug_label\",\n",
    "            \"first_ans\": \"disease_id\",\n",
    "            \"name_right\": \"disease_name\",\n",
    "            \"label_right\": \"disease_label\",\n",
    "        }\n",
    "    )\n",
    ")\n",
    "\n",
    "individual_preds"
   ]
  },
  {
   "cell_type": "code",
   "execution_count": 13,
   "metadata": {},
   "outputs": [],
   "source": [
    "individual_preds.write_excel(\"./data_output/union_random_25_individual_curation.xlsx\")\n",
    "individual_preds.write_parquet(\n",
    "    \"./data_output/union_random_25_individual_curation2.parquet\"\n",
    ")"
   ]
  },
  {
   "cell_type": "markdown",
   "metadata": {},
   "source": [
    "### get the individual ranks that make up the union approach"
   ]
  },
  {
   "cell_type": "code",
   "execution_count": 40,
   "metadata": {},
   "outputs": [],
   "source": [
    "sampled_25_ranks = (\n",
    "    results_df.filter(pl.col(\"h\").is_in(sampled_25[\"h\"]))\n",
    "    .group_by([\"h\", \"method\", \"predicted_answers\"], maintain_order=True)\n",
    "    .agg([\"answers\", \"rank\"])\n",
    "    .explode(\"predicted_answers\")\n",
    "    .filter(~pl.col(\"predicted_answers\").is_in(pl.col(\"answers\")))\n",
    "    .group_by(pl.all().exclude(\"predicted_answers\"), maintain_order=True)\n",
    "    .agg(\"predicted_answers\")\n",
    "    .with_columns(pl.col(\"predicted_answers\").list.unique(maintain_order=True))\n",
    "    .with_columns(\n",
    "        pred_rank=pl.int_ranges(1, pl.col(\"predicted_answers\").list.len() + 1)\n",
    "    )\n",
    "    .explode([\"predicted_answers\", \"pred_rank\"])\n",
    "    .select([\"h\", \"method\", \"predicted_answers\", \"pred_rank\"])\n",
    ")"
   ]
  },
  {
   "cell_type": "code",
   "execution_count": 90,
   "metadata": {},
   "outputs": [
    {
     "data": {
      "text/html": [
       "<div><style>\n",
       ".dataframe > thead > tr,\n",
       ".dataframe > tbody > tr {\n",
       "  text-align: right;\n",
       "  white-space: pre-wrap;\n",
       "}\n",
       "</style>\n",
       "<small>shape: (25, 13)</small><table border=\"1\" class=\"dataframe\"><thead><tr><th>drug_id</th><th>drug_name</th><th>drug_label</th><th>disease_id</th><th>disease_name</th><th>disease_label</th><th>CBR</th><th>pCBR</th><th>Rephetio</th><th>TransE</th><th>DistMult</th><th>ComplEx</th><th>RotatE</th></tr><tr><td>str</td><td>str</td><td>str</td><td>str</td><td>str</td><td>str</td><td>str</td><td>str</td><td>str</td><td>str</td><td>str</td><td>str</td><td>str</td></tr></thead><tbody><tr><td>&quot;CHEBI:28748&quot;</td><td>&quot;doxorubicin&quot;</td><td>&quot;ChemicalSubstance&quot;</td><td>&quot;DOID:10534&quot;</td><td>&quot;stomach cancer&quot;</td><td>&quot;Disease&quot;</td><td>&quot;10&quot;</td><td>null</td><td>&quot;1&quot;</td><td>&quot;50&quot;</td><td>&quot;283&quot;</td><td>&quot;233&quot;</td><td>&quot;18&quot;</td></tr><tr><td>&quot;CHEBI:2968&quot;</td><td>&quot;bacampicillin&quot;</td><td>&quot;ChemicalSubstance&quot;</td><td>&quot;DOID:874&quot;</td><td>&quot;bacterial pneumonia&quot;</td><td>&quot;Disease&quot;</td><td>null</td><td>null</td><td>&quot;672&quot;</td><td>&quot;6&quot;</td><td>&quot;4&quot;</td><td>&quot;2&quot;</td><td>&quot;8&quot;</td></tr><tr><td>&quot;CHEBI:3128&quot;</td><td>&quot;bisoprolol fumarate&quot;</td><td>&quot;ChemicalSubstance&quot;</td><td>&quot;DOID:6000&quot;</td><td>&quot;congestive heart failure&quot;</td><td>&quot;Disease&quot;</td><td>&quot;8&quot;</td><td>&quot;11&quot;</td><td>null</td><td>&quot;2&quot;</td><td>&quot;38&quot;</td><td>&quot;5&quot;</td><td>&quot;4&quot;</td></tr><tr><td>&quot;CHEBI:31854&quot;</td><td>&quot;Milnacipran hydrochloride&quot;</td><td>&quot;ChemicalSubstance&quot;</td><td>&quot;DOID:1470&quot;</td><td>&quot;major depressive disorder&quot;</td><td>&quot;Disease&quot;</td><td>&quot;30&quot;</td><td>&quot;1&quot;</td><td>&quot;14&quot;</td><td>&quot;1&quot;</td><td>&quot;52&quot;</td><td>&quot;1&quot;</td><td>&quot;71&quot;</td></tr><tr><td>&quot;CHEBI:32087&quot;</td><td>&quot;Ramatroban&quot;</td><td>&quot;ChemicalSubstance&quot;</td><td>&quot;DOID:2841&quot;</td><td>&quot;asthma&quot;</td><td>&quot;Disease&quot;</td><td>&quot;3&quot;</td><td>&quot;37&quot;</td><td>&quot;1&quot;</td><td>&quot;26&quot;</td><td>&quot;5&quot;</td><td>&quot;10&quot;</td><td>&quot;151&quot;</td></tr><tr><td>&hellip;</td><td>&hellip;</td><td>&hellip;</td><td>&hellip;</td><td>&hellip;</td><td>&hellip;</td><td>&hellip;</td><td>&hellip;</td><td>&hellip;</td><td>&hellip;</td><td>&hellip;</td><td>&hellip;</td><td>&hellip;</td></tr><tr><td>&quot;CHEBI:83766&quot;</td><td>&quot;olaparib&quot;</td><td>&quot;ChemicalSubstance&quot;</td><td>&quot;DOID:10283&quot;</td><td>&quot;prostate cancer&quot;</td><td>&quot;Disease&quot;</td><td>&quot;1&quot;</td><td>&quot;1&quot;</td><td>&quot;6&quot;</td><td>&quot;9&quot;</td><td>&quot;130&quot;</td><td>&quot;173&quot;</td><td>&quot;7&quot;</td></tr><tr><td>&quot;CHEBI:8481&quot;</td><td>&quot;Propantheline&quot;</td><td>&quot;ChemicalSubstance&quot;</td><td>&quot;DOID:2841&quot;</td><td>&quot;asthma&quot;</td><td>&quot;Disease&quot;</td><td>&quot;39&quot;</td><td>&quot;1&quot;</td><td>&quot;7&quot;</td><td>&quot;108&quot;</td><td>&quot;561&quot;</td><td>&quot;270&quot;</td><td>&quot;42&quot;</td></tr><tr><td>&quot;CHEBI:9207&quot;</td><td>&quot;sotalol hydrochloride&quot;</td><td>&quot;ChemicalSubstance&quot;</td><td>&quot;DOID:10763&quot;</td><td>&quot;hypertension&quot;</td><td>&quot;Disease&quot;</td><td>&quot;3&quot;</td><td>&quot;3&quot;</td><td>&quot;1&quot;</td><td>&quot;28&quot;</td><td>&quot;86&quot;</td><td>&quot;27&quot;</td><td>&quot;1&quot;</td></tr><tr><td>&quot;CHEBI:92246&quot;</td><td>&quot;ranitidine&quot;</td><td>&quot;ChemicalSubstance&quot;</td><td>&quot;DOID:750&quot;</td><td>&quot;peptic ulcer disease&quot;</td><td>&quot;Disease&quot;</td><td>&quot;92&quot;</td><td>&quot;48&quot;</td><td>&quot;40&quot;</td><td>&quot;1&quot;</td><td>&quot;222&quot;</td><td>&quot;50&quot;</td><td>&quot;22&quot;</td></tr><tr><td>&quot;IKEY:COCFEDIXXNGUNL-RFKWWTKHSA…</td><td>&quot;insulin glargine&quot;</td><td>&quot;ChemicalSubstance&quot;</td><td>&quot;DOID:9352&quot;</td><td>&quot;type 2 diabetes mellitus&quot;</td><td>&quot;Disease&quot;</td><td>&quot;64&quot;</td><td>&quot;8&quot;</td><td>&quot;37&quot;</td><td>&quot;25&quot;</td><td>&quot;27&quot;</td><td>&quot;16&quot;</td><td>&quot;231&quot;</td></tr></tbody></table></div>"
      ],
      "text/plain": [
       "shape: (25, 13)\n",
       "┌──────────────┬─────────────┬─────────────┬────────────┬───┬────────┬──────────┬─────────┬────────┐\n",
       "│ drug_id      ┆ drug_name   ┆ drug_label  ┆ disease_id ┆ … ┆ TransE ┆ DistMult ┆ ComplEx ┆ RotatE │\n",
       "│ ---          ┆ ---         ┆ ---         ┆ ---        ┆   ┆ ---    ┆ ---      ┆ ---     ┆ ---    │\n",
       "│ str          ┆ str         ┆ str         ┆ str        ┆   ┆ str    ┆ str      ┆ str     ┆ str    │\n",
       "╞══════════════╪═════════════╪═════════════╪════════════╪═══╪════════╪══════════╪═════════╪════════╡\n",
       "│ CHEBI:28748  ┆ doxorubicin ┆ ChemicalSub ┆ DOID:10534 ┆ … ┆ 50     ┆ 283      ┆ 233     ┆ 18     │\n",
       "│              ┆             ┆ stance      ┆            ┆   ┆        ┆          ┆         ┆        │\n",
       "│ CHEBI:2968   ┆ bacampicill ┆ ChemicalSub ┆ DOID:874   ┆ … ┆ 6      ┆ 4        ┆ 2       ┆ 8      │\n",
       "│              ┆ in          ┆ stance      ┆            ┆   ┆        ┆          ┆         ┆        │\n",
       "│ CHEBI:3128   ┆ bisoprolol  ┆ ChemicalSub ┆ DOID:6000  ┆ … ┆ 2      ┆ 38       ┆ 5       ┆ 4      │\n",
       "│              ┆ fumarate    ┆ stance      ┆            ┆   ┆        ┆          ┆         ┆        │\n",
       "│ CHEBI:31854  ┆ Milnacipran ┆ ChemicalSub ┆ DOID:1470  ┆ … ┆ 1      ┆ 52       ┆ 1       ┆ 71     │\n",
       "│              ┆ hydrochlori ┆ stance      ┆            ┆   ┆        ┆          ┆         ┆        │\n",
       "│              ┆ de          ┆             ┆            ┆   ┆        ┆          ┆         ┆        │\n",
       "│ CHEBI:32087  ┆ Ramatroban  ┆ ChemicalSub ┆ DOID:2841  ┆ … ┆ 26     ┆ 5        ┆ 10      ┆ 151    │\n",
       "│              ┆             ┆ stance      ┆            ┆   ┆        ┆          ┆         ┆        │\n",
       "│ …            ┆ …           ┆ …           ┆ …          ┆ … ┆ …      ┆ …        ┆ …       ┆ …      │\n",
       "│ CHEBI:83766  ┆ olaparib    ┆ ChemicalSub ┆ DOID:10283 ┆ … ┆ 9      ┆ 130      ┆ 173     ┆ 7      │\n",
       "│              ┆             ┆ stance      ┆            ┆   ┆        ┆          ┆         ┆        │\n",
       "│ CHEBI:8481   ┆ Propantheli ┆ ChemicalSub ┆ DOID:2841  ┆ … ┆ 108    ┆ 561      ┆ 270     ┆ 42     │\n",
       "│              ┆ ne          ┆ stance      ┆            ┆   ┆        ┆          ┆         ┆        │\n",
       "│ CHEBI:9207   ┆ sotalol hyd ┆ ChemicalSub ┆ DOID:10763 ┆ … ┆ 28     ┆ 86       ┆ 27      ┆ 1      │\n",
       "│              ┆ rochloride  ┆ stance      ┆            ┆   ┆        ┆          ┆         ┆        │\n",
       "│ CHEBI:92246  ┆ ranitidine  ┆ ChemicalSub ┆ DOID:750   ┆ … ┆ 1      ┆ 222      ┆ 50      ┆ 22     │\n",
       "│              ┆             ┆ stance      ┆            ┆   ┆        ┆          ┆         ┆        │\n",
       "│ IKEY:COCFEDI ┆ insulin     ┆ ChemicalSub ┆ DOID:9352  ┆ … ┆ 25     ┆ 27       ┆ 16      ┆ 231    │\n",
       "│ XXNGUNL-RFKW ┆ glargine    ┆ stance      ┆            ┆   ┆        ┆          ┆         ┆        │\n",
       "│ WTKHSA…      ┆             ┆             ┆            ┆   ┆        ┆          ┆         ┆        │\n",
       "└──────────────┴─────────────┴─────────────┴────────────┴───┴────────┴──────────┴─────────┴────────┘"
      ]
     },
     "execution_count": 90,
     "metadata": {},
     "output_type": "execute_result"
    }
   ],
   "source": [
    "# Add missing ranks to the dataframe and separate them into their own columns\n",
    "sampled_25_with_ind_ranks = (\n",
    "    sampled_25.join(  # get ranks for each prediction\n",
    "        sampled_25_ranks.sort([\"method\", \"pred_rank\"])\n",
    "        .group_by([\"h\", \"predicted_answers\"], maintain_order=True)\n",
    "        .agg([\"method\", \"pred_rank\"]),\n",
    "        left_on=[\"h\", \"first_ans\"],\n",
    "        right_on=[\"h\", \"predicted_answers\"],\n",
    "        how=\"left\",\n",
    "    )\n",
    "    .with_columns(  # get the missing methods\n",
    "        pl.when(pl.col(\"method\").list.len() < 7)\n",
    "        .then(\n",
    "            pl.col(\"method\").list.concat(\n",
    "                pl.col(\"method\").list.set_symmetric_difference(\n",
    "                    [\n",
    "                        \"CBR\",\n",
    "                        \"pCBR\",\n",
    "                        \"Rephetio\",\n",
    "                        \"TransE\",\n",
    "                        \"DistMult\",\n",
    "                        \"ComplEx\",\n",
    "                        \"RotatE\",\n",
    "                    ]\n",
    "                )\n",
    "            )\n",
    "        )\n",
    "        .otherwise(pl.col(\"method\")),\n",
    "        (7 - pl.col(\"pred_rank\").list.len()).alias(\n",
    "            \"pred_rank_len\"\n",
    "        ),  # calculate the number of missing ranks\n",
    "        pl.lit(None).alias(\"nones\"),  # add a none column\n",
    "    )\n",
    "    .with_columns(  # padd missing ranks\n",
    "        pl.col(\"nones\").cast(pl.Utf8).repeat_by(pl.col(\"pred_rank_len\")).alias(\"nones\")\n",
    "    )\n",
    "    .with_columns(\n",
    "        pl.col(\"pred_rank\").list.concat(pl.col(\"nones\")).alias(\"pred_rank\")\n",
    "    )  # concatenate missing rank pad\n",
    "    .select(pl.all().exclude([\"pred_rank_len\", \"nones\"]))  # hide padding columns\n",
    "    .explode([\"method\", \"pred_rank\"])  # expand to sort\n",
    "    .sort([\"h\", \"method\"])\n",
    "    .with_columns(pl.struct(\"method\", \"pred_rank\").alias(\"method_rank\"))\n",
    "    .group_by(\n",
    "        pl.all().exclude([\"method\", \"pred_rank\", \"method_rank\"]), maintain_order=True\n",
    "    )\n",
    "    .agg(\"method_rank\")\n",
    "    .with_columns(  # create a struct list and expand as a paired dict rather than paired lists\n",
    "        pl.col(\"method_rank\").list.to_struct(\n",
    "            n_field_strategy=\"max_width\",\n",
    "            fields=[\n",
    "                \"CBR\",\n",
    "                \"ComplEx\",\n",
    "                \"DistMult\",\n",
    "                \"Rephetio\",\n",
    "                \"RotatE\",\n",
    "                \"TransE\",\n",
    "                \"pCBR\",\n",
    "            ],\n",
    "        )\n",
    "    )\n",
    "    .unnest(\"method_rank\")  # Unnest the Struct List\n",
    "    .with_columns(  # Unnest the Struct Object\n",
    "        pl.col(\"CBR\").struct.field(\"pred_rank\").alias(\"CBR\"),\n",
    "        pl.col(\"ComplEx\").struct.field(\"pred_rank\").alias(\"ComplEx\"),\n",
    "        pl.col(\"DistMult\").struct.field(\"pred_rank\").alias(\"DistMult\"),\n",
    "        pl.col(\"Rephetio\").struct.field(\"pred_rank\").alias(\"Rephetio\"),\n",
    "        pl.col(\"RotatE\").struct.field(\"pred_rank\").alias(\"RotatE\"),\n",
    "        pl.col(\"TransE\").struct.field(\"pred_rank\").alias(\"TransE\"),\n",
    "        pl.col(\"pCBR\").struct.field(\"pred_rank\").alias(\"pCBR\"),\n",
    "    )\n",
    "    .join(nodes, left_on=\"h\", right_on=\"id\", how=\"left\")\n",
    "    .join(nodes, left_on=\"first_ans\", right_on=\"id\", how=\"left\")\n",
    "    .rename(\n",
    "        {\n",
    "            \"name\": \"drug_name\",\n",
    "            \"label\": \"drug_label\",\n",
    "            \"h\": \"drug_id\",\n",
    "            \"first_ans\": \"disease_id\",\n",
    "            \"name_right\": \"disease_name\",\n",
    "            \"label_right\": \"disease_label\",\n",
    "        }\n",
    "    )\n",
    "    .select(\n",
    "        [\n",
    "            \"drug_id\",\n",
    "            \"drug_name\",\n",
    "            \"drug_label\",\n",
    "            \"disease_id\",\n",
    "            \"disease_name\",\n",
    "            \"disease_label\",\n",
    "            \"CBR\",\n",
    "            \"pCBR\",\n",
    "            \"Rephetio\",\n",
    "            \"TransE\",\n",
    "            \"DistMult\",\n",
    "            \"ComplEx\",\n",
    "            \"RotatE\",\n",
    "        ]\n",
    "    )\n",
    ")\n",
    "\n",
    "sampled_25_with_ind_ranks"
   ]
  },
  {
   "cell_type": "code",
   "execution_count": 93,
   "metadata": {},
   "outputs": [
    {
     "data": {
      "text/plain": [
       "<xlsxwriter.workbook.Workbook at 0x7f8be317b690>"
      ]
     },
     "execution_count": 93,
     "metadata": {},
     "output_type": "execute_result"
    }
   ],
   "source": [
    "sampled_25_with_ind_ranks.write_parquet(\n",
    "    \"./data_output/union_random_25_curation.parquet\"\n",
    ")\n",
    "sampled_25_with_ind_ranks.write_excel(\"./data_output/union_random_25_curation.xlsx\")"
   ]
  }
 ],
 "metadata": {
  "kernelspec": {
   "display_name": "Python 3 (ipykernel)",
   "language": "python",
   "name": "python3"
  },
  "language_info": {
   "codemirror_mode": {
    "name": "ipython",
    "version": 3
   },
   "file_extension": ".py",
   "mimetype": "text/x-python",
   "name": "python",
   "nbconvert_exporter": "python",
   "pygments_lexer": "ipython3",
   "version": "3.11.9"
  }
 },
 "nbformat": 4,
 "nbformat_minor": 2
}
