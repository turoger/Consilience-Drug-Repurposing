{
 "cells": [
  {
   "cell_type": "markdown",
   "metadata": {},
   "source": [
    "# Create a minimal version of MIND (MechRepoNet with Indications)\n",
    "\n",
    "In a prior notebook, we found that another author created a minimal version of BioKG and OpenBiolink knowledge graphs by distilling only three node types, and up-to three relations (depending on the network). These minimizations of the knowledge graphs still had relatively good predictive capabilities, while keeping the memory footprint low. The final sizes of each of their modified graphs was 1/10 and 1/80th the original size of BioKG and OpenBiolink, respectively.\n",
    "\n",
    "Let's create a minimal version of MIND following what was done above by keeping only Compounds, Genes/Gene Products and Diseases nodes, and associates_with, activates, inhibits, and treats edges. After processing, there remains 64,095 nodes and 1,101,475 edges. I created a minimal pykeen graph file, mini_MIND, to easily load the dataset in downstream knowledge graph embedding model training."
   ]
  },
  {
   "cell_type": "code",
   "execution_count": 1,
   "metadata": {},
   "outputs": [],
   "source": [
    "import polars as pl\n",
    "import pandas as pd\n",
    "import os"
   ]
  },
  {
   "cell_type": "markdown",
   "metadata": {},
   "source": [
    "## Process the datasets"
   ]
  },
  {
   "cell_type": "markdown",
   "metadata": {},
   "source": [
    "### load the data"
   ]
  },
  {
   "cell_type": "code",
   "execution_count": null,
   "metadata": {},
   "outputs": [],
   "source": [
    "nodes = pl.read_csv(\"/home/rogertu/MRN_dataset/nodes_biolink.csv\", has_header=True)"
   ]
  },
  {
   "cell_type": "code",
   "execution_count": 6,
   "metadata": {},
   "outputs": [
    {
     "data": {
      "text/html": [
       "<div><style>\n",
       ".dataframe > thead > tr,\n",
       ".dataframe > tbody > tr {\n",
       "  text-align: right;\n",
       "  white-space: pre-wrap;\n",
       "}\n",
       "</style>\n",
       "<small>shape: (2, 8)</small><table border=\"1\" class=\"dataframe\"><thead><tr><th>id</th><th>name</th><th>label</th><th>xrefs</th><th>source</th><th>synonyms</th><th>alt_ids</th><th>subsets</th></tr><tr><td>str</td><td>str</td><td>str</td><td>str</td><td>str</td><td>str</td><td>str</td><td>str</td></tr></thead><tbody><tr><td>&quot;UBERON:0000002…</td><td>&quot;cervix&quot;</td><td>&quot;AnatomicalEnti…</td><td>&quot;MESH:D002584|U…</td><td>null</td><td>null</td><td>null</td><td>null</td></tr><tr><td>&quot;UBERON:0000004…</td><td>&quot;human nose&quot;</td><td>&quot;AnatomicalEnti…</td><td>&quot;MESH:D009666|U…</td><td>null</td><td>null</td><td>null</td><td>null</td></tr></tbody></table></div>"
      ],
      "text/plain": [
       "shape: (2, 8)\n",
       "┌───────────────┬────────────┬──────────────┬──────────────┬────────┬──────────┬─────────┬─────────┐\n",
       "│ id            ┆ name       ┆ label        ┆ xrefs        ┆ source ┆ synonyms ┆ alt_ids ┆ subsets │\n",
       "│ ---           ┆ ---        ┆ ---          ┆ ---          ┆ ---    ┆ ---      ┆ ---     ┆ ---     │\n",
       "│ str           ┆ str        ┆ str          ┆ str          ┆ str    ┆ str      ┆ str     ┆ str     │\n",
       "╞═══════════════╪════════════╪══════════════╪══════════════╪════════╪══════════╪═════════╪═════════╡\n",
       "│ UBERON:000000 ┆ cervix     ┆ AnatomicalEn ┆ MESH:D002584 ┆ null   ┆ null     ┆ null    ┆ null    │\n",
       "│ 2             ┆            ┆ tity         ┆ |UBERON:0000 ┆        ┆          ┆         ┆         │\n",
       "│               ┆            ┆              ┆ 002          ┆        ┆          ┆         ┆         │\n",
       "│ UBERON:000000 ┆ human nose ┆ AnatomicalEn ┆ MESH:D009666 ┆ null   ┆ null     ┆ null    ┆ null    │\n",
       "│ 4             ┆            ┆ tity         ┆ |UBERON:0000 ┆        ┆          ┆         ┆         │\n",
       "│               ┆            ┆              ┆ 004          ┆        ┆          ┆         ┆         │\n",
       "└───────────────┴────────────┴──────────────┴──────────────┴────────┴──────────┴─────────┴─────────┘"
      ]
     },
     "execution_count": 6,
     "metadata": {},
     "output_type": "execute_result"
    }
   ],
   "source": [
    "nodes.head(2)"
   ]
  },
  {
   "cell_type": "code",
   "execution_count": 9,
   "metadata": {},
   "outputs": [],
   "source": [
    "mind_triples = pl.read_csv(\n",
    "    \"/home/rogertu/projects/KGEM/data/MIND/graph.txt\",\n",
    "    separator=\"\\t\",\n",
    "    has_header=False,\n",
    "    new_columns=[\"head\", \"rel\", \"tail\"],\n",
    ")"
   ]
  },
  {
   "cell_type": "code",
   "execution_count": 10,
   "metadata": {},
   "outputs": [
    {
     "data": {
      "text/html": [
       "<div><style>\n",
       ".dataframe > thead > tr,\n",
       ".dataframe > tbody > tr {\n",
       "  text-align: right;\n",
       "  white-space: pre-wrap;\n",
       "}\n",
       "</style>\n",
       "<small>shape: (2, 3)</small><table border=\"1\" class=\"dataframe\"><thead><tr><th>head</th><th>rel</th><th>tail</th></tr><tr><td>str</td><td>str</td><td>str</td></tr></thead><tbody><tr><td>&quot;UNII:BTY153760…</td><td>&quot;inhibits_CinG&quot;</td><td>&quot;NCBIGene:3605&quot;</td></tr><tr><td>&quot;CHEBI:10056&quot;</td><td>&quot;activates_CaG&quot;</td><td>&quot;NCBIGene:1129&quot;</td></tr></tbody></table></div>"
      ],
      "text/plain": [
       "shape: (2, 3)\n",
       "┌─────────────────┬───────────────┬───────────────┐\n",
       "│ head            ┆ rel           ┆ tail          │\n",
       "│ ---             ┆ ---           ┆ ---           │\n",
       "│ str             ┆ str           ┆ str           │\n",
       "╞═════════════════╪═══════════════╪═══════════════╡\n",
       "│ UNII:BTY153760O ┆ inhibits_CinG ┆ NCBIGene:3605 │\n",
       "│ CHEBI:10056     ┆ activates_CaG ┆ NCBIGene:1129 │\n",
       "└─────────────────┴───────────────┴───────────────┘"
      ]
     },
     "execution_count": 10,
     "metadata": {},
     "output_type": "execute_result"
    }
   ],
   "source": [
    "mind_triples.head(2)"
   ]
  },
  {
   "cell_type": "markdown",
   "metadata": {},
   "source": [
    "### Add relevant information from nodes into the triples"
   ]
  },
  {
   "cell_type": "code",
   "execution_count": 15,
   "metadata": {},
   "outputs": [
    {
     "data": {
      "text/html": [
       "<div><style>\n",
       ".dataframe > thead > tr,\n",
       ".dataframe > tbody > tr {\n",
       "  text-align: right;\n",
       "  white-space: pre-wrap;\n",
       "}\n",
       "</style>\n",
       "<small>shape: (2, 21)</small><table border=\"1\" class=\"dataframe\"><thead><tr><th>start_id</th><th>end_id</th><th>type</th><th>dsrc_type</th><th>comp_type</th><th>p_val</th><th>adj_p</th><th>source</th><th>license</th><th>experiments</th><th>support_type</th><th>pmids</th><th>phase</th><th>date</th><th>name</th><th>name_x</th><th>name_y</th><th>merge_id</th><th>reactome_id</th><th>abbrev</th><th>type_no_abbv</th></tr><tr><td>str</td><td>str</td><td>str</td><td>str</td><td>str</td><td>str</td><td>str</td><td>str</td><td>str</td><td>str</td><td>str</td><td>str</td><td>str</td><td>str</td><td>str</td><td>str</td><td>str</td><td>str</td><td>str</td><td>str</td><td>str</td></tr></thead><tbody><tr><td>&quot;UNII:BTY153760…</td><td>&quot;NCBIGene:3605&quot;</td><td>&quot;inhibits_CinG&quot;</td><td>&quot;computed&quot;</td><td>&quot;merge&quot;</td><td>null</td><td>null</td><td>&quot;WikiData&quot;</td><td>&quot;CC0 1.0&quot;</td><td>null</td><td>null</td><td>null</td><td>null</td><td>null</td><td>null</td><td>null</td><td>null</td><td>null</td><td>null</td><td>&quot;CinG&quot;</td><td>&quot;inhibits&quot;</td></tr><tr><td>&quot;CHEBI:10056&quot;</td><td>&quot;NCBIGene:1129&quot;</td><td>&quot;activates_CaG&quot;</td><td>&quot;computed&quot;</td><td>&quot;merge&quot;</td><td>null</td><td>null</td><td>&quot;WikiData&quot;</td><td>&quot;CC0 1.0&quot;</td><td>null</td><td>null</td><td>null</td><td>null</td><td>null</td><td>null</td><td>null</td><td>null</td><td>null</td><td>null</td><td>&quot;CaG&quot;</td><td>&quot;activates&quot;</td></tr></tbody></table></div>"
      ],
      "text/plain": [
       "shape: (2, 21)\n",
       "┌────────────┬────────────┬────────────┬───────────┬───┬──────────┬───────────┬────────┬───────────┐\n",
       "│ start_id   ┆ end_id     ┆ type       ┆ dsrc_type ┆ … ┆ merge_id ┆ reactome_ ┆ abbrev ┆ type_no_a │\n",
       "│ ---        ┆ ---        ┆ ---        ┆ ---       ┆   ┆ ---      ┆ id        ┆ ---    ┆ bbv       │\n",
       "│ str        ┆ str        ┆ str        ┆ str       ┆   ┆ str      ┆ ---       ┆ str    ┆ ---       │\n",
       "│            ┆            ┆            ┆           ┆   ┆          ┆ str       ┆        ┆ str       │\n",
       "╞════════════╪════════════╪════════════╪═══════════╪═══╪══════════╪═══════════╪════════╪═══════════╡\n",
       "│ UNII:BTY15 ┆ NCBIGene:3 ┆ inhibits_C ┆ computed  ┆ … ┆ null     ┆ null      ┆ CinG   ┆ inhibits  │\n",
       "│ 3760O      ┆ 605        ┆ inG        ┆           ┆   ┆          ┆           ┆        ┆           │\n",
       "│ CHEBI:1005 ┆ NCBIGene:1 ┆ activates_ ┆ computed  ┆ … ┆ null     ┆ null      ┆ CaG    ┆ activates │\n",
       "│ 6          ┆ 129        ┆ CaG        ┆           ┆   ┆          ┆           ┆        ┆           │\n",
       "└────────────┴────────────┴────────────┴───────────┴───┴──────────┴───────────┴────────┴───────────┘"
      ]
     },
     "execution_count": 15,
     "metadata": {},
     "output_type": "execute_result"
    }
   ],
   "source": [
    "edges.head(2)"
   ]
  },
  {
   "cell_type": "code",
   "execution_count": 16,
   "metadata": {},
   "outputs": [],
   "source": [
    "mind_triples = (\n",
    "    mind_triples.join(nodes[[\"id\", \"label\"]], left_on=\"head\", right_on=\"id\", how=\"left\")\n",
    "    .join(nodes[[\"id\", \"label\"]], left_on=\"tail\", right_on=\"id\", how=\"left\")\n",
    "    .rename({\"label\": \"h_label\", \"label_right\": \"t_label\"})\n",
    ")"
   ]
  },
  {
   "cell_type": "code",
   "execution_count": 17,
   "metadata": {},
   "outputs": [
    {
     "data": {
      "text/html": [
       "<div><style>\n",
       ".dataframe > thead > tr,\n",
       ".dataframe > tbody > tr {\n",
       "  text-align: right;\n",
       "  white-space: pre-wrap;\n",
       "}\n",
       "</style>\n",
       "<small>shape: (2, 5)</small><table border=\"1\" class=\"dataframe\"><thead><tr><th>head</th><th>rel</th><th>tail</th><th>h_label</th><th>t_label</th></tr><tr><td>str</td><td>str</td><td>str</td><td>str</td><td>str</td></tr></thead><tbody><tr><td>&quot;UNII:BTY153760…</td><td>&quot;inhibits_CinG&quot;</td><td>&quot;NCBIGene:3605&quot;</td><td>&quot;ChemicalSubsta…</td><td>&quot;Macromolecular…</td></tr><tr><td>&quot;CHEBI:10056&quot;</td><td>&quot;activates_CaG&quot;</td><td>&quot;NCBIGene:1129&quot;</td><td>&quot;ChemicalSubsta…</td><td>&quot;Macromolecular…</td></tr></tbody></table></div>"
      ],
      "text/plain": [
       "shape: (2, 5)\n",
       "┌─────────────────┬───────────────┬───────────────┬───────────────────┬───────────────────────┐\n",
       "│ head            ┆ rel           ┆ tail          ┆ h_label           ┆ t_label               │\n",
       "│ ---             ┆ ---           ┆ ---           ┆ ---               ┆ ---                   │\n",
       "│ str             ┆ str           ┆ str           ┆ str               ┆ str                   │\n",
       "╞═════════════════╪═══════════════╪═══════════════╪═══════════════════╪═══════════════════════╡\n",
       "│ UNII:BTY153760O ┆ inhibits_CinG ┆ NCBIGene:3605 ┆ ChemicalSubstance ┆ MacromolecularMachine │\n",
       "│ CHEBI:10056     ┆ activates_CaG ┆ NCBIGene:1129 ┆ ChemicalSubstance ┆ MacromolecularMachine │\n",
       "└─────────────────┴───────────────┴───────────────┴───────────────────┴───────────────────────┘"
      ]
     },
     "execution_count": 17,
     "metadata": {},
     "output_type": "execute_result"
    }
   ],
   "source": [
    "mind_triples.head(2)"
   ]
  },
  {
   "cell_type": "markdown",
   "metadata": {},
   "source": [
    "### reconstruct the node and edge abbreviations"
   ]
  },
  {
   "cell_type": "code",
   "execution_count": 102,
   "metadata": {},
   "outputs": [],
   "source": [
    "mind_triples_noind = (\n",
    "    mind_triples.filter(pl.col(\"rel\") != \"indication\")\n",
    "    .with_columns(\n",
    "        pl.col(\"rel\")\n",
    "        .str.extract(r\"[a-z_]+\", group_index=0)\n",
    "        .str.strip_suffix(\"_\")\n",
    "        .alias(\"rel_no_abbv\"),\n",
    "        pl.col(\"rel\").str.extract(r\"[A-Z]+[a-z><]+[A-Z]+\", group_index=0).alias(\"abbv\"),\n",
    "    )\n",
    "    .with_columns(\n",
    "        pl.col(\"abbv\").str.extract(r\"[a-z><]+\", group_index=0).alias(\"rel_abbv\"),\n",
    "        pl.col(\"abbv\").str.extract(r\"[A-Z]+\", group_index=0).alias(\"h_abbv\"),\n",
    "        pl.col(\"abbv\").str.extract(r\"[A-Z]+$\", group_index=0).alias(\"t_abbv\"),\n",
    "    )\n",
    ")"
   ]
  },
  {
   "cell_type": "code",
   "execution_count": 103,
   "metadata": {},
   "outputs": [
    {
     "data": {
      "text/html": [
       "<div><style>\n",
       ".dataframe > thead > tr,\n",
       ".dataframe > tbody > tr {\n",
       "  text-align: right;\n",
       "  white-space: pre-wrap;\n",
       "}\n",
       "</style>\n",
       "<small>shape: (2, 10)</small><table border=\"1\" class=\"dataframe\"><thead><tr><th>head</th><th>rel</th><th>tail</th><th>h_label</th><th>t_label</th><th>rel_no_abbv</th><th>abbv</th><th>rel_abbv</th><th>h_abbv</th><th>t_abbv</th></tr><tr><td>str</td><td>str</td><td>str</td><td>str</td><td>str</td><td>str</td><td>str</td><td>str</td><td>str</td><td>str</td></tr></thead><tbody><tr><td>&quot;UNII:BTY153760…</td><td>&quot;inhibits_CinG&quot;</td><td>&quot;NCBIGene:3605&quot;</td><td>&quot;ChemicalSubsta…</td><td>&quot;Macromolecular…</td><td>&quot;inhibits&quot;</td><td>&quot;CinG&quot;</td><td>&quot;in&quot;</td><td>&quot;C&quot;</td><td>&quot;G&quot;</td></tr><tr><td>&quot;CHEBI:10056&quot;</td><td>&quot;activates_CaG&quot;</td><td>&quot;NCBIGene:1129&quot;</td><td>&quot;ChemicalSubsta…</td><td>&quot;Macromolecular…</td><td>&quot;activates&quot;</td><td>&quot;CaG&quot;</td><td>&quot;a&quot;</td><td>&quot;C&quot;</td><td>&quot;G&quot;</td></tr></tbody></table></div>"
      ],
      "text/plain": [
       "shape: (2, 10)\n",
       "┌──────────────┬──────────────┬──────────────┬─────────────┬───┬──────┬──────────┬────────┬────────┐\n",
       "│ head         ┆ rel          ┆ tail         ┆ h_label     ┆ … ┆ abbv ┆ rel_abbv ┆ h_abbv ┆ t_abbv │\n",
       "│ ---          ┆ ---          ┆ ---          ┆ ---         ┆   ┆ ---  ┆ ---      ┆ ---    ┆ ---    │\n",
       "│ str          ┆ str          ┆ str          ┆ str         ┆   ┆ str  ┆ str      ┆ str    ┆ str    │\n",
       "╞══════════════╪══════════════╪══════════════╪═════════════╪═══╪══════╪══════════╪════════╪════════╡\n",
       "│ UNII:BTY1537 ┆ inhibits_Cin ┆ NCBIGene:360 ┆ ChemicalSub ┆ … ┆ CinG ┆ in       ┆ C      ┆ G      │\n",
       "│ 60O          ┆ G            ┆ 5            ┆ stance      ┆   ┆      ┆          ┆        ┆        │\n",
       "│ CHEBI:10056  ┆ activates_Ca ┆ NCBIGene:112 ┆ ChemicalSub ┆ … ┆ CaG  ┆ a        ┆ C      ┆ G      │\n",
       "│              ┆ G            ┆ 9            ┆ stance      ┆   ┆      ┆          ┆        ┆        │\n",
       "└──────────────┴──────────────┴──────────────┴─────────────┴───┴──────┴──────────┴────────┴────────┘"
      ]
     },
     "execution_count": 103,
     "metadata": {},
     "output_type": "execute_result"
    }
   ],
   "source": [
    "mind_triples_noind.head(2)"
   ]
  },
  {
   "cell_type": "code",
   "execution_count": 104,
   "metadata": {},
   "outputs": [
    {
     "data": {
      "text/html": [
       "<div><style>\n",
       ".dataframe > thead > tr,\n",
       ".dataframe > tbody > tr {\n",
       "  text-align: right;\n",
       "  white-space: pre-wrap;\n",
       "}\n",
       "</style>\n",
       "<small>shape: (0, 10)</small><table border=\"1\" class=\"dataframe\"><thead><tr><th>head</th><th>rel</th><th>tail</th><th>h_label</th><th>t_label</th><th>rel_no_abbv</th><th>abbv</th><th>rel_abbv</th><th>h_abbv</th><th>t_abbv</th></tr><tr><td>str</td><td>str</td><td>str</td><td>str</td><td>str</td><td>str</td><td>str</td><td>str</td><td>str</td><td>str</td></tr></thead><tbody></tbody></table></div>"
      ],
      "text/plain": [
       "shape: (0, 10)\n",
       "┌──────┬─────┬──────┬─────────┬───┬──────┬──────────┬────────┬────────┐\n",
       "│ head ┆ rel ┆ tail ┆ h_label ┆ … ┆ abbv ┆ rel_abbv ┆ h_abbv ┆ t_abbv │\n",
       "│ ---  ┆ --- ┆ ---  ┆ ---     ┆   ┆ ---  ┆ ---      ┆ ---    ┆ ---    │\n",
       "│ str  ┆ str ┆ str  ┆ str     ┆   ┆ str  ┆ str      ┆ str    ┆ str    │\n",
       "╞══════╪═════╪══════╪═════════╪═══╪══════╪══════════╪════════╪════════╡\n",
       "└──────┴─────┴──────┴─────────┴───┴──────┴──────────┴────────┴────────┘"
      ]
     },
     "execution_count": 104,
     "metadata": {},
     "output_type": "execute_result"
    }
   ],
   "source": [
    "mind_triples_noind.filter(pl.col(\"rel_abbv\").is_null())"
   ]
  },
  {
   "cell_type": "markdown",
   "metadata": {},
   "source": [
    "### create an abbreviation dictionary"
   ]
  },
  {
   "cell_type": "markdown",
   "metadata": {},
   "source": [
    "#### create node dictionary"
   ]
  },
  {
   "cell_type": "code",
   "execution_count": 105,
   "metadata": {},
   "outputs": [
    {
     "data": {
      "text/html": [
       "<div><style>\n",
       ".dataframe > thead > tr,\n",
       ".dataframe > tbody > tr {\n",
       "  text-align: right;\n",
       "  white-space: pre-wrap;\n",
       "}\n",
       "</style>\n",
       "<small>shape: (8, 2)</small><table border=\"1\" class=\"dataframe\"><thead><tr><th>h_label</th><th>h_abbv</th></tr><tr><td>str</td><td>str</td></tr></thead><tbody><tr><td>&quot;AnatomicalEnti…</td><td>&quot;A&quot;</td></tr><tr><td>&quot;GeneFamily&quot;</td><td>&quot;F&quot;</td></tr><tr><td>&quot;Disease&quot;</td><td>&quot;D&quot;</td></tr><tr><td>&quot;BiologicalProc…</td><td>&quot;BP&quot;</td></tr><tr><td>&quot;OrganismTaxon&quot;</td><td>&quot;T&quot;</td></tr><tr><td>&quot;Macromolecular…</td><td>&quot;G&quot;</td></tr><tr><td>&quot;ChemicalSubsta…</td><td>&quot;C&quot;</td></tr><tr><td>&quot;Pathway&quot;</td><td>&quot;PW&quot;</td></tr></tbody></table></div>"
      ],
      "text/plain": [
       "shape: (8, 2)\n",
       "┌─────────────────────────────┬────────┐\n",
       "│ h_label                     ┆ h_abbv │\n",
       "│ ---                         ┆ ---    │\n",
       "│ str                         ┆ str    │\n",
       "╞═════════════════════════════╪════════╡\n",
       "│ AnatomicalEntity            ┆ A      │\n",
       "│ GeneFamily                  ┆ F      │\n",
       "│ Disease                     ┆ D      │\n",
       "│ BiologicalProcessOrActivity ┆ BP     │\n",
       "│ OrganismTaxon               ┆ T      │\n",
       "│ MacromolecularMachine       ┆ G      │\n",
       "│ ChemicalSubstance           ┆ C      │\n",
       "│ Pathway                     ┆ PW     │\n",
       "└─────────────────────────────┴────────┘"
      ]
     },
     "execution_count": 105,
     "metadata": {},
     "output_type": "execute_result"
    }
   ],
   "source": [
    "tmp_df = mind_triples_noind.unique(\"h_label\").select([\"h_label\", \"h_abbv\"])\n",
    "tmp_df"
   ]
  },
  {
   "cell_type": "code",
   "execution_count": 106,
   "metadata": {},
   "outputs": [],
   "source": [
    "tmp_dict = dict(zip(tmp_df[\"h_label\"], tmp_df[\"h_abbv\"]))"
   ]
  },
  {
   "cell_type": "code",
   "execution_count": 107,
   "metadata": {},
   "outputs": [
    {
     "data": {
      "text/plain": [
       "{'AnatomicalEntity': 'A',\n",
       " 'GeneFamily': 'F',\n",
       " 'Disease': 'D',\n",
       " 'BiologicalProcessOrActivity': 'BP',\n",
       " 'OrganismTaxon': 'T',\n",
       " 'MacromolecularMachine': 'G',\n",
       " 'ChemicalSubstance': 'C',\n",
       " 'Pathway': 'PW'}"
      ]
     },
     "execution_count": 107,
     "metadata": {},
     "output_type": "execute_result"
    }
   ],
   "source": [
    "tmp_dict"
   ]
  },
  {
   "cell_type": "code",
   "execution_count": 108,
   "metadata": {},
   "outputs": [
    {
     "data": {
      "text/html": [
       "<div><style>\n",
       ".dataframe > thead > tr,\n",
       ".dataframe > tbody > tr {\n",
       "  text-align: right;\n",
       "  white-space: pre-wrap;\n",
       "}\n",
       "</style>\n",
       "<small>shape: (21, 2)</small><table border=\"1\" class=\"dataframe\"><thead><tr><th>rel_no_abbv</th><th>rel_abbv</th></tr><tr><td>str</td><td>str</td></tr></thead><tbody><tr><td>&quot;in_reaction_wi…</td><td>&quot;rx&quot;</td></tr><tr><td>&quot;treats&quot;</td><td>&quot;t&quot;</td></tr><tr><td>&quot;part_of&quot;</td><td>&quot;po&quot;</td></tr><tr><td>&quot;site_of&quot;</td><td>&quot;so&quot;</td></tr><tr><td>&quot;marker_or_mech…</td><td>&quot;m&quot;</td></tr><tr><td>&hellip;</td><td>&hellip;</td></tr><tr><td>&quot;causes&quot;</td><td>&quot;c&quot;</td></tr><tr><td>&quot;has_input&quot;</td><td>&quot;hi&quot;</td></tr><tr><td>&quot;in_taxon&quot;</td><td>&quot;it&quot;</td></tr><tr><td>&quot;activates&quot;</td><td>&quot;a&quot;</td></tr><tr><td>&quot;affects&quot;</td><td>&quot;af&quot;</td></tr></tbody></table></div>"
      ],
      "text/plain": [
       "shape: (21, 2)\n",
       "┌─────────────────────┬──────────┐\n",
       "│ rel_no_abbv         ┆ rel_abbv │\n",
       "│ ---                 ┆ ---      │\n",
       "│ str                 ┆ str      │\n",
       "╞═════════════════════╪══════════╡\n",
       "│ in_reaction_with    ┆ rx       │\n",
       "│ treats              ┆ t        │\n",
       "│ part_of             ┆ po       │\n",
       "│ site_of             ┆ so       │\n",
       "│ marker_or_mechanism ┆ m        │\n",
       "│ …                   ┆ …        │\n",
       "│ causes              ┆ c        │\n",
       "│ has_input           ┆ hi       │\n",
       "│ in_taxon            ┆ it       │\n",
       "│ activates           ┆ a        │\n",
       "│ affects             ┆ af       │\n",
       "└─────────────────────┴──────────┘"
      ]
     },
     "execution_count": 108,
     "metadata": {},
     "output_type": "execute_result"
    }
   ],
   "source": [
    "tmp_df = mind_triples_noind.unique(\"rel_no_abbv\").select([\"rel_no_abbv\", \"rel_abbv\"])\n",
    "tmp_df"
   ]
  },
  {
   "cell_type": "markdown",
   "metadata": {},
   "source": [
    "#### create relation dictionary"
   ]
  },
  {
   "cell_type": "code",
   "execution_count": 109,
   "metadata": {},
   "outputs": [],
   "source": [
    "tmp_dict2 = dict(zip(tmp_df[\"rel_no_abbv\"], tmp_df[\"rel_abbv\"]))"
   ]
  },
  {
   "cell_type": "code",
   "execution_count": 110,
   "metadata": {},
   "outputs": [
    {
     "data": {
      "text/plain": [
       "{'in_reaction_with': 'rx',\n",
       " 'treats': 't',\n",
       " 'part_of': 'po',\n",
       " 'site_of': 'so',\n",
       " 'marker_or_mechanism': 'm',\n",
       " 'associated_with': 'aw',\n",
       " 'negatively_regulates': 'nr',\n",
       " 'regulates': 'r>',\n",
       " 'positively_regulates': 'pr',\n",
       " 'prevents': 'pv',\n",
       " 'presents': 'ps',\n",
       " 'inhibits': 'in',\n",
       " 'produces': 'p',\n",
       " 'palliates': 'pl',\n",
       " 'capable_of': 'co',\n",
       " 'disrupts': 'd',\n",
       " 'causes': 'c',\n",
       " 'has_input': 'hi',\n",
       " 'in_taxon': 'it',\n",
       " 'activates': 'a',\n",
       " 'affects': 'af'}"
      ]
     },
     "execution_count": 110,
     "metadata": {},
     "output_type": "execute_result"
    }
   ],
   "source": [
    "tmp_dict2"
   ]
  },
  {
   "cell_type": "code",
   "execution_count": 111,
   "metadata": {},
   "outputs": [
    {
     "data": {
      "text/plain": [
       "dict_values(['rx', 't', 'po', 'so', 'm', 'aw', 'nr', 'r>', 'pr', 'pv', 'ps', 'in', 'p', 'pl', 'co', 'd', 'c', 'hi', 'it', 'a', 'af'])"
      ]
     },
     "execution_count": 111,
     "metadata": {},
     "output_type": "execute_result"
    }
   ],
   "source": [
    "tmp_dict2.values()"
   ]
  },
  {
   "cell_type": "code",
   "execution_count": 113,
   "metadata": {},
   "outputs": [],
   "source": [
    "tmp_dict2.update({\"indication\": \"i\"})"
   ]
  },
  {
   "cell_type": "code",
   "execution_count": 114,
   "metadata": {},
   "outputs": [],
   "source": [
    "tmp_dict.update(tmp_dict2)"
   ]
  },
  {
   "cell_type": "code",
   "execution_count": 115,
   "metadata": {},
   "outputs": [
    {
     "data": {
      "text/plain": [
       "{'AnatomicalEntity': 'A',\n",
       " 'GeneFamily': 'F',\n",
       " 'Disease': 'D',\n",
       " 'BiologicalProcessOrActivity': 'BP',\n",
       " 'OrganismTaxon': 'T',\n",
       " 'MacromolecularMachine': 'G',\n",
       " 'ChemicalSubstance': 'C',\n",
       " 'Pathway': 'PW',\n",
       " 'in_reaction_with': 'rx',\n",
       " 'treats': 't',\n",
       " 'part_of': 'po',\n",
       " 'site_of': 'so',\n",
       " 'marker_or_mechanism': 'm',\n",
       " 'associated_with': 'aw',\n",
       " 'negatively_regulates': 'nr',\n",
       " 'regulates': 'r>',\n",
       " 'positively_regulates': 'pr',\n",
       " 'prevents': 'pv',\n",
       " 'presents': 'ps',\n",
       " 'inhibits': 'in',\n",
       " 'produces': 'p',\n",
       " 'palliates': 'pl',\n",
       " 'capable_of': 'co',\n",
       " 'disrupts': 'd',\n",
       " 'causes': 'c',\n",
       " 'has_input': 'hi',\n",
       " 'in_taxon': 'it',\n",
       " 'activates': 'a',\n",
       " 'affects': 'af',\n",
       " 'indication': 'i'}"
      ]
     },
     "execution_count": 115,
     "metadata": {},
     "output_type": "execute_result"
    }
   ],
   "source": [
    "tmp_dict"
   ]
  },
  {
   "cell_type": "markdown",
   "metadata": {},
   "source": [
    "### Update the indications dataframe"
   ]
  },
  {
   "cell_type": "code",
   "execution_count": 116,
   "metadata": {},
   "outputs": [
    {
     "data": {
      "text/html": [
       "<div><style>\n",
       ".dataframe > thead > tr,\n",
       ".dataframe > tbody > tr {\n",
       "  text-align: right;\n",
       "  white-space: pre-wrap;\n",
       "}\n",
       "</style>\n",
       "<small>shape: (5, 5)</small><table border=\"1\" class=\"dataframe\"><thead><tr><th>head</th><th>rel</th><th>tail</th><th>h_label</th><th>t_label</th></tr><tr><td>str</td><td>str</td><td>str</td><td>str</td><td>str</td></tr></thead><tbody><tr><td>&quot;CHEBI:32120&quot;</td><td>&quot;indication&quot;</td><td>&quot;REACT:R-HSA-21…</td><td>&quot;ChemicalSubsta…</td><td>&quot;Pathway&quot;</td></tr><tr><td>&quot;UBERON:0001132…</td><td>&quot;indication&quot;</td><td>&quot;DOID:11199&quot;</td><td>&quot;AnatomicalEnti…</td><td>&quot;Disease&quot;</td></tr><tr><td>&quot;CHEBI:10023&quot;</td><td>&quot;indication&quot;</td><td>&quot;DOID:0050289&quot;</td><td>&quot;ChemicalSubsta…</td><td>&quot;Disease&quot;</td></tr><tr><td>&quot;CHEBI:100241&quot;</td><td>&quot;indication&quot;</td><td>&quot;DOID:12385&quot;</td><td>&quot;ChemicalSubsta…</td><td>&quot;Disease&quot;</td></tr><tr><td>&quot;CHEBI:100241&quot;</td><td>&quot;indication&quot;</td><td>&quot;DOID:13258&quot;</td><td>&quot;ChemicalSubsta…</td><td>&quot;Disease&quot;</td></tr></tbody></table></div>"
      ],
      "text/plain": [
       "shape: (5, 5)\n",
       "┌────────────────┬────────────┬─────────────────────┬───────────────────┬─────────┐\n",
       "│ head           ┆ rel        ┆ tail                ┆ h_label           ┆ t_label │\n",
       "│ ---            ┆ ---        ┆ ---                 ┆ ---               ┆ ---     │\n",
       "│ str            ┆ str        ┆ str                 ┆ str               ┆ str     │\n",
       "╞════════════════╪════════════╪═════════════════════╪═══════════════════╪═════════╡\n",
       "│ CHEBI:32120    ┆ indication ┆ REACT:R-HSA-2160456 ┆ ChemicalSubstance ┆ Pathway │\n",
       "│ UBERON:0001132 ┆ indication ┆ DOID:11199          ┆ AnatomicalEntity  ┆ Disease │\n",
       "│ CHEBI:10023    ┆ indication ┆ DOID:0050289        ┆ ChemicalSubstance ┆ Disease │\n",
       "│ CHEBI:100241   ┆ indication ┆ DOID:12385          ┆ ChemicalSubstance ┆ Disease │\n",
       "│ CHEBI:100241   ┆ indication ┆ DOID:13258          ┆ ChemicalSubstance ┆ Disease │\n",
       "└────────────────┴────────────┴─────────────────────┴───────────────────┴─────────┘"
      ]
     },
     "execution_count": 116,
     "metadata": {},
     "output_type": "execute_result"
    }
   ],
   "source": [
    "mind_triples_ind = mind_triples.filter(pl.col(\"rel\") == \"indication\")\n",
    "mind_triples_ind.head()"
   ]
  },
  {
   "cell_type": "code",
   "execution_count": 117,
   "metadata": {},
   "outputs": [
    {
     "data": {
      "text/html": [
       "<div><style>\n",
       ".dataframe > thead > tr,\n",
       ".dataframe > tbody > tr {\n",
       "  text-align: right;\n",
       "  white-space: pre-wrap;\n",
       "}\n",
       "</style>\n",
       "<small>shape: (2, 10)</small><table border=\"1\" class=\"dataframe\"><thead><tr><th>head</th><th>rel</th><th>tail</th><th>h_label</th><th>t_label</th><th>rel_no_abbv</th><th>abbv</th><th>rel_abbv</th><th>h_abbv</th><th>t_abbv</th></tr><tr><td>str</td><td>str</td><td>str</td><td>str</td><td>str</td><td>str</td><td>str</td><td>str</td><td>str</td><td>str</td></tr></thead><tbody><tr><td>&quot;UNII:BTY153760…</td><td>&quot;inhibits_CinG&quot;</td><td>&quot;NCBIGene:3605&quot;</td><td>&quot;ChemicalSubsta…</td><td>&quot;Macromolecular…</td><td>&quot;inhibits&quot;</td><td>&quot;CinG&quot;</td><td>&quot;in&quot;</td><td>&quot;C&quot;</td><td>&quot;G&quot;</td></tr><tr><td>&quot;CHEBI:10056&quot;</td><td>&quot;activates_CaG&quot;</td><td>&quot;NCBIGene:1129&quot;</td><td>&quot;ChemicalSubsta…</td><td>&quot;Macromolecular…</td><td>&quot;activates&quot;</td><td>&quot;CaG&quot;</td><td>&quot;a&quot;</td><td>&quot;C&quot;</td><td>&quot;G&quot;</td></tr></tbody></table></div>"
      ],
      "text/plain": [
       "shape: (2, 10)\n",
       "┌──────────────┬──────────────┬──────────────┬─────────────┬───┬──────┬──────────┬────────┬────────┐\n",
       "│ head         ┆ rel          ┆ tail         ┆ h_label     ┆ … ┆ abbv ┆ rel_abbv ┆ h_abbv ┆ t_abbv │\n",
       "│ ---          ┆ ---          ┆ ---          ┆ ---         ┆   ┆ ---  ┆ ---      ┆ ---    ┆ ---    │\n",
       "│ str          ┆ str          ┆ str          ┆ str         ┆   ┆ str  ┆ str      ┆ str    ┆ str    │\n",
       "╞══════════════╪══════════════╪══════════════╪═════════════╪═══╪══════╪══════════╪════════╪════════╡\n",
       "│ UNII:BTY1537 ┆ inhibits_Cin ┆ NCBIGene:360 ┆ ChemicalSub ┆ … ┆ CinG ┆ in       ┆ C      ┆ G      │\n",
       "│ 60O          ┆ G            ┆ 5            ┆ stance      ┆   ┆      ┆          ┆        ┆        │\n",
       "│ CHEBI:10056  ┆ activates_Ca ┆ NCBIGene:112 ┆ ChemicalSub ┆ … ┆ CaG  ┆ a        ┆ C      ┆ G      │\n",
       "│              ┆ G            ┆ 9            ┆ stance      ┆   ┆      ┆          ┆        ┆        │\n",
       "└──────────────┴──────────────┴──────────────┴─────────────┴───┴──────┴──────────┴────────┴────────┘"
      ]
     },
     "execution_count": 117,
     "metadata": {},
     "output_type": "execute_result"
    }
   ],
   "source": [
    "mind_triples_noind.head(2)"
   ]
  },
  {
   "cell_type": "code",
   "execution_count": 122,
   "metadata": {},
   "outputs": [
    {
     "data": {
      "text/html": [
       "<div><style>\n",
       ".dataframe > thead > tr,\n",
       ".dataframe > tbody > tr {\n",
       "  text-align: right;\n",
       "  white-space: pre-wrap;\n",
       "}\n",
       "</style>\n",
       "<small>shape: (2, 10)</small><table border=\"1\" class=\"dataframe\"><thead><tr><th>head</th><th>rel</th><th>tail</th><th>h_label</th><th>t_label</th><th>rel_no_abbv</th><th>abbv</th><th>rel_abbv</th><th>h_abbv</th><th>t_abbv</th></tr><tr><td>str</td><td>str</td><td>str</td><td>str</td><td>str</td><td>str</td><td>str</td><td>str</td><td>str</td><td>str</td></tr></thead><tbody><tr><td>&quot;CHEBI:32120&quot;</td><td>&quot;indication_CiP…</td><td>&quot;REACT:R-HSA-21…</td><td>&quot;ChemicalSubsta…</td><td>&quot;Pathway&quot;</td><td>&quot;indication&quot;</td><td>&quot;CiPW&quot;</td><td>&quot;i&quot;</td><td>&quot;C&quot;</td><td>&quot;PW&quot;</td></tr><tr><td>&quot;UBERON:0001132…</td><td>&quot;indication_AiD…</td><td>&quot;DOID:11199&quot;</td><td>&quot;AnatomicalEnti…</td><td>&quot;Disease&quot;</td><td>&quot;indication&quot;</td><td>&quot;AiD&quot;</td><td>&quot;i&quot;</td><td>&quot;A&quot;</td><td>&quot;D&quot;</td></tr></tbody></table></div>"
      ],
      "text/plain": [
       "shape: (2, 10)\n",
       "┌──────────────┬──────────────┬──────────────┬─────────────┬───┬──────┬──────────┬────────┬────────┐\n",
       "│ head         ┆ rel          ┆ tail         ┆ h_label     ┆ … ┆ abbv ┆ rel_abbv ┆ h_abbv ┆ t_abbv │\n",
       "│ ---          ┆ ---          ┆ ---          ┆ ---         ┆   ┆ ---  ┆ ---      ┆ ---    ┆ ---    │\n",
       "│ str          ┆ str          ┆ str          ┆ str         ┆   ┆ str  ┆ str      ┆ str    ┆ str    │\n",
       "╞══════════════╪══════════════╪══════════════╪═════════════╪═══╪══════╪══════════╪════════╪════════╡\n",
       "│ CHEBI:32120  ┆ indication_C ┆ REACT:R-HSA- ┆ ChemicalSub ┆ … ┆ CiPW ┆ i        ┆ C      ┆ PW     │\n",
       "│              ┆ iPW          ┆ 2160456      ┆ stance      ┆   ┆      ┆          ┆        ┆        │\n",
       "│ UBERON:00011 ┆ indication_A ┆ DOID:11199   ┆ AnatomicalE ┆ … ┆ AiD  ┆ i        ┆ A      ┆ D      │\n",
       "│ 32           ┆ iD           ┆              ┆ ntity       ┆   ┆      ┆          ┆        ┆        │\n",
       "└──────────────┴──────────────┴──────────────┴─────────────┴───┴──────┴──────────┴────────┴────────┘"
      ]
     },
     "execution_count": 122,
     "metadata": {},
     "output_type": "execute_result"
    }
   ],
   "source": [
    "mind_triples_ind = (\n",
    "    mind_triples_ind.rename({\"rel\": \"rel_no_abbv\"})\n",
    "    .with_columns(\n",
    "        pl.lit(\"i\").alias(\"rel_abbv\"),\n",
    "        pl.col(\"h_label\").replace(tmp_dict).alias(\"h_abbv\"),\n",
    "        pl.col(\"t_label\").replace(tmp_dict).alias(\"t_abbv\"),\n",
    "    )\n",
    "    .with_columns(\n",
    "        (pl.col(\"h_abbv\") + pl.col(\"rel_abbv\") + pl.col(\"t_abbv\")).alias(\"abbv\"),\n",
    "        (\n",
    "            pl.col(\"rel_no_abbv\")\n",
    "            + \"_\"\n",
    "            + pl.col(\"h_abbv\")\n",
    "            + pl.col(\"rel_abbv\")\n",
    "            + pl.col(\"t_abbv\")\n",
    "        ).alias(\"rel\"),\n",
    "    )[\n",
    "        [\n",
    "            \"head\",\n",
    "            \"rel\",\n",
    "            \"tail\",\n",
    "            \"h_label\",\n",
    "            \"t_label\",\n",
    "            \"rel_no_abbv\",\n",
    "            \"abbv\",\n",
    "            \"rel_abbv\",\n",
    "            \"h_abbv\",\n",
    "            \"t_abbv\",\n",
    "        ]\n",
    "    ]\n",
    ")\n",
    "\n",
    "mind_triples_ind.head(2)"
   ]
  },
  {
   "cell_type": "markdown",
   "metadata": {},
   "source": [
    "### Combine the dataframes back together"
   ]
  },
  {
   "cell_type": "code",
   "execution_count": 124,
   "metadata": {},
   "outputs": [],
   "source": [
    "mind_triples2 = pl.concat([mind_triples_noind, mind_triples_ind])"
   ]
  },
  {
   "cell_type": "markdown",
   "metadata": {},
   "source": [
    "## Filter the dataset like Rivas _et al_"
   ]
  },
  {
   "cell_type": "markdown",
   "metadata": {},
   "source": [
    "### Filter nodes to only have compounds, diseases and genes"
   ]
  },
  {
   "cell_type": "code",
   "execution_count": 126,
   "metadata": {},
   "outputs": [
    {
     "data": {
      "text/html": [
       "<div><style>\n",
       ".dataframe > thead > tr,\n",
       ".dataframe > tbody > tr {\n",
       "  text-align: right;\n",
       "  white-space: pre-wrap;\n",
       "}\n",
       "</style>\n",
       "<small>shape: (2, 10)</small><table border=\"1\" class=\"dataframe\"><thead><tr><th>head</th><th>rel</th><th>tail</th><th>h_label</th><th>t_label</th><th>rel_no_abbv</th><th>abbv</th><th>rel_abbv</th><th>h_abbv</th><th>t_abbv</th></tr><tr><td>str</td><td>str</td><td>str</td><td>str</td><td>str</td><td>str</td><td>str</td><td>str</td><td>str</td><td>str</td></tr></thead><tbody><tr><td>&quot;UNII:BTY153760…</td><td>&quot;inhibits_CinG&quot;</td><td>&quot;NCBIGene:3605&quot;</td><td>&quot;ChemicalSubsta…</td><td>&quot;Macromolecular…</td><td>&quot;inhibits&quot;</td><td>&quot;CinG&quot;</td><td>&quot;in&quot;</td><td>&quot;C&quot;</td><td>&quot;G&quot;</td></tr><tr><td>&quot;CHEBI:10056&quot;</td><td>&quot;activates_CaG&quot;</td><td>&quot;NCBIGene:1129&quot;</td><td>&quot;ChemicalSubsta…</td><td>&quot;Macromolecular…</td><td>&quot;activates&quot;</td><td>&quot;CaG&quot;</td><td>&quot;a&quot;</td><td>&quot;C&quot;</td><td>&quot;G&quot;</td></tr></tbody></table></div>"
      ],
      "text/plain": [
       "shape: (2, 10)\n",
       "┌──────────────┬──────────────┬──────────────┬─────────────┬───┬──────┬──────────┬────────┬────────┐\n",
       "│ head         ┆ rel          ┆ tail         ┆ h_label     ┆ … ┆ abbv ┆ rel_abbv ┆ h_abbv ┆ t_abbv │\n",
       "│ ---          ┆ ---          ┆ ---          ┆ ---         ┆   ┆ ---  ┆ ---      ┆ ---    ┆ ---    │\n",
       "│ str          ┆ str          ┆ str          ┆ str         ┆   ┆ str  ┆ str      ┆ str    ┆ str    │\n",
       "╞══════════════╪══════════════╪══════════════╪═════════════╪═══╪══════╪══════════╪════════╪════════╡\n",
       "│ UNII:BTY1537 ┆ inhibits_Cin ┆ NCBIGene:360 ┆ ChemicalSub ┆ … ┆ CinG ┆ in       ┆ C      ┆ G      │\n",
       "│ 60O          ┆ G            ┆ 5            ┆ stance      ┆   ┆      ┆          ┆        ┆        │\n",
       "│ CHEBI:10056  ┆ activates_Ca ┆ NCBIGene:112 ┆ ChemicalSub ┆ … ┆ CaG  ┆ a        ┆ C      ┆ G      │\n",
       "│              ┆ G            ┆ 9            ┆ stance      ┆   ┆      ┆          ┆        ┆        │\n",
       "└──────────────┴──────────────┴──────────────┴─────────────┴───┴──────┴──────────┴────────┴────────┘"
      ]
     },
     "execution_count": 126,
     "metadata": {},
     "output_type": "execute_result"
    }
   ],
   "source": [
    "mind_triples2.head(2)"
   ]
  },
  {
   "cell_type": "code",
   "execution_count": 132,
   "metadata": {},
   "outputs": [],
   "source": [
    "filt_triples = mind_triples2.filter(\n",
    "    pl.col(\"h_abbv\").is_in([\"G\", \"C\", \"D\"]), pl.col(\"t_abbv\").is_in([\"G\", \"C\", \"D\"])\n",
    ")"
   ]
  },
  {
   "cell_type": "markdown",
   "metadata": {},
   "source": [
    "### Get the unique relationship types"
   ]
  },
  {
   "cell_type": "code",
   "execution_count": 133,
   "metadata": {},
   "outputs": [
    {
     "data": {
      "text/plain": [
       "['palliates',\n",
       " 'inhibits',\n",
       " 'affects',\n",
       " 'activates',\n",
       " 'prevents',\n",
       " 'positively_regulates',\n",
       " 'negatively_regulates',\n",
       " 'part_of',\n",
       " 'treats',\n",
       " 'indication',\n",
       " 'regulates',\n",
       " 'associated_with',\n",
       " 'marker_or_mechanism',\n",
       " 'in_reaction_with']"
      ]
     },
     "execution_count": 133,
     "metadata": {},
     "output_type": "execute_result"
    }
   ],
   "source": [
    "filt_triples.unique(\"rel_no_abbv\").select(\"rel_no_abbv\").to_series().to_list()"
   ]
  },
  {
   "cell_type": "markdown",
   "metadata": {},
   "source": [
    "### Figure out the mappings using the biolink model\n",
    "* map each of the edge types to 'treats', 'associated_with', 'activates', 'inhibits'\n",
    "* *italicized* means that the relation shows up between multiple types, e.g. Gene-postively_regulates-Compound, Gene-positively_regulates-Gene\n",
    "* mappings\n",
    "    * Compound-Gene:\n",
    "        * activates\n",
    "        * inhibits\n",
    "        * affects (remove)\n",
    "        * *part_of* (remove)\n",
    "    * Gene-Compound:\n",
    "        * *positively_regulates*\n",
    "        * *negatively_regulates*\n",
    "        * in_reaction_with (remove)\n",
    "        * *regulates* (remove)\n",
    "    * Compound-Disease: \n",
    "        * palliates (merge w/ treats)\n",
    "        * prevents (merge w/ treats)\n",
    "        * treats\n",
    "        * indication \n",
    "    * Gene-Gene:\n",
    "        * *positively_regulates*\n",
    "        * *negatively_regulates*\n",
    "        * *regulates* (remove)\n",
    "        * *part_of* (remove)\n",
    "    * Gene-Disease: \n",
    "        * associated_with\n",
    "        * marker_or_mechanism\n",
    "\n",
    "\n"
   ]
  },
  {
   "cell_type": "code",
   "execution_count": 172,
   "metadata": {},
   "outputs": [],
   "source": [
    "filt_triples = (\n",
    "    filt_triples.filter(\n",
    "        pl.col(\"rel_no_abbv\")\n",
    "        .is_in([\"affects\", \"regulates\", \"part_of\", \"in_reaction_with\"])\n",
    "        .not_()\n",
    "    )\n",
    "    .with_columns(\n",
    "        pl.col(\"rel_no_abbv\")\n",
    "        .replace({\"palliates\": \"treats\", \"prevents\": \"treats\"})\n",
    "        .alias(\"new_rel\")\n",
    "    )\n",
    "    .unique([\"head\", \"new_rel\", \"tail\"])\n",
    ")"
   ]
  },
  {
   "cell_type": "code",
   "execution_count": 173,
   "metadata": {},
   "outputs": [
    {
     "data": {
      "text/plain": [
       "(1101475, 11)"
      ]
     },
     "execution_count": 173,
     "metadata": {},
     "output_type": "execute_result"
    }
   ],
   "source": [
    "filt_triples.shape"
   ]
  },
  {
   "cell_type": "code",
   "execution_count": 174,
   "metadata": {},
   "outputs": [
    {
     "data": {
      "text/html": [
       "<div><style>\n",
       ".dataframe > thead > tr,\n",
       ".dataframe > tbody > tr {\n",
       "  text-align: right;\n",
       "  white-space: pre-wrap;\n",
       "}\n",
       "</style>\n",
       "<small>shape: (8, 11)</small><table border=\"1\" class=\"dataframe\"><thead><tr><th>head</th><th>rel</th><th>tail</th><th>h_label</th><th>t_label</th><th>rel_no_abbv</th><th>abbv</th><th>rel_abbv</th><th>h_abbv</th><th>t_abbv</th><th>new_rel</th></tr><tr><td>str</td><td>str</td><td>str</td><td>str</td><td>str</td><td>str</td><td>str</td><td>str</td><td>str</td><td>str</td><td>str</td></tr></thead><tbody><tr><td>&quot;NCBIGene:10125…</td><td>&quot;associated_wit…</td><td>&quot;DOID:0110750&quot;</td><td>&quot;Macromolecular…</td><td>&quot;Disease&quot;</td><td>&quot;associated_wit…</td><td>&quot;GawD&quot;</td><td>&quot;aw&quot;</td><td>&quot;G&quot;</td><td>&quot;D&quot;</td><td>&quot;associated_wit…</td></tr><tr><td>&quot;CHEBI:100147&quot;</td><td>&quot;treats_CtD&quot;</td><td>&quot;WD:Q21109048&quot;</td><td>&quot;ChemicalSubsta…</td><td>&quot;Disease&quot;</td><td>&quot;treats&quot;</td><td>&quot;CtD&quot;</td><td>&quot;t&quot;</td><td>&quot;C&quot;</td><td>&quot;D&quot;</td><td>&quot;treats&quot;</td></tr><tr><td>&quot;MESH:C001079&quot;</td><td>&quot;marker_or_mech…</td><td>&quot;MESH:D000014&quot;</td><td>&quot;ChemicalSubsta…</td><td>&quot;Disease&quot;</td><td>&quot;marker_or_mech…</td><td>&quot;CmD&quot;</td><td>&quot;m&quot;</td><td>&quot;C&quot;</td><td>&quot;D&quot;</td><td>&quot;marker_or_mech…</td></tr><tr><td>&quot;REACT:R-HSA-17…</td><td>&quot;positively_reg…</td><td>&quot;NCBIGene:4790&quot;</td><td>&quot;Macromolecular…</td><td>&quot;Macromolecular…</td><td>&quot;positively_reg…</td><td>&quot;Gpr&gt;G&quot;</td><td>&quot;pr&gt;&quot;</td><td>&quot;G&quot;</td><td>&quot;G&quot;</td><td>&quot;positively_reg…</td></tr><tr><td>&quot;UniProt:O15519…</td><td>&quot;negatively_reg…</td><td>&quot;NCBIGene:355&quot;</td><td>&quot;Macromolecular…</td><td>&quot;Macromolecular…</td><td>&quot;negatively_reg…</td><td>&quot;Gnr&gt;G&quot;</td><td>&quot;nr&gt;&quot;</td><td>&quot;G&quot;</td><td>&quot;G&quot;</td><td>&quot;negatively_reg…</td></tr><tr><td>&quot;CHEBI:135755&quot;</td><td>&quot;activates_CaG&quot;</td><td>&quot;NCBIGene:5737&quot;</td><td>&quot;ChemicalSubsta…</td><td>&quot;Macromolecular…</td><td>&quot;activates&quot;</td><td>&quot;CaG&quot;</td><td>&quot;a&quot;</td><td>&quot;C&quot;</td><td>&quot;G&quot;</td><td>&quot;activates&quot;</td></tr><tr><td>&quot;CHEBI:100241&quot;</td><td>&quot;indication_CiD…</td><td>&quot;DOID:1679&quot;</td><td>&quot;ChemicalSubsta…</td><td>&quot;Disease&quot;</td><td>&quot;indication&quot;</td><td>&quot;CiD&quot;</td><td>&quot;i&quot;</td><td>&quot;C&quot;</td><td>&quot;D&quot;</td><td>&quot;indication&quot;</td></tr><tr><td>&quot;CHEBI:3647&quot;</td><td>&quot;inhibits_CinG&quot;</td><td>&quot;NCBIGene:3363&quot;</td><td>&quot;ChemicalSubsta…</td><td>&quot;Macromolecular…</td><td>&quot;inhibits&quot;</td><td>&quot;CinG&quot;</td><td>&quot;in&quot;</td><td>&quot;C&quot;</td><td>&quot;G&quot;</td><td>&quot;inhibits&quot;</td></tr></tbody></table></div>"
      ],
      "text/plain": [
       "shape: (8, 11)\n",
       "┌─────────────┬────────────┬────────────┬────────────┬───┬──────────┬────────┬────────┬────────────┐\n",
       "│ head        ┆ rel        ┆ tail       ┆ h_label    ┆ … ┆ rel_abbv ┆ h_abbv ┆ t_abbv ┆ new_rel    │\n",
       "│ ---         ┆ ---        ┆ ---        ┆ ---        ┆   ┆ ---      ┆ ---    ┆ ---    ┆ ---        │\n",
       "│ str         ┆ str        ┆ str        ┆ str        ┆   ┆ str      ┆ str    ┆ str    ┆ str        │\n",
       "╞═════════════╪════════════╪════════════╪════════════╪═══╪══════════╪════════╪════════╪════════════╡\n",
       "│ NCBIGene:10 ┆ associated ┆ DOID:01107 ┆ Macromolec ┆ … ┆ aw       ┆ G      ┆ D      ┆ associated │\n",
       "│ 125         ┆ _with_GawD ┆ 50         ┆ ularMachin ┆   ┆          ┆        ┆        ┆ _with      │\n",
       "│             ┆            ┆            ┆ e          ┆   ┆          ┆        ┆        ┆            │\n",
       "│ CHEBI:10014 ┆ treats_CtD ┆ WD:Q211090 ┆ ChemicalSu ┆ … ┆ t        ┆ C      ┆ D      ┆ treats     │\n",
       "│ 7           ┆            ┆ 48         ┆ bstance    ┆   ┆          ┆        ┆        ┆            │\n",
       "│ MESH:C00107 ┆ marker_or_ ┆ MESH:D0000 ┆ ChemicalSu ┆ … ┆ m        ┆ C      ┆ D      ┆ marker_or_ │\n",
       "│ 9           ┆ mechanism_ ┆ 14         ┆ bstance    ┆   ┆          ┆        ┆        ┆ mechanism  │\n",
       "│             ┆ CmD        ┆            ┆            ┆   ┆          ┆        ┆        ┆            │\n",
       "│ REACT:R-HSA ┆ positively ┆ NCBIGene:4 ┆ Macromolec ┆ … ┆ pr>      ┆ G      ┆ G      ┆ positively │\n",
       "│ -174250     ┆ _regulates ┆ 790        ┆ ularMachin ┆   ┆          ┆        ┆        ┆ _regulates │\n",
       "│             ┆ _Gpr>G     ┆            ┆ e          ┆   ┆          ┆        ┆        ┆            │\n",
       "│ UniProt:O15 ┆ negatively ┆ NCBIGene:3 ┆ Macromolec ┆ … ┆ nr>      ┆ G      ┆ G      ┆ negatively │\n",
       "│ 519-2       ┆ _regulates ┆ 55         ┆ ularMachin ┆   ┆          ┆        ┆        ┆ _regulates │\n",
       "│             ┆ _Gnr>G     ┆            ┆ e          ┆   ┆          ┆        ┆        ┆            │\n",
       "│ CHEBI:13575 ┆ activates_ ┆ NCBIGene:5 ┆ ChemicalSu ┆ … ┆ a        ┆ C      ┆ G      ┆ activates  │\n",
       "│ 5           ┆ CaG        ┆ 737        ┆ bstance    ┆   ┆          ┆        ┆        ┆            │\n",
       "│ CHEBI:10024 ┆ indication ┆ DOID:1679  ┆ ChemicalSu ┆ … ┆ i        ┆ C      ┆ D      ┆ indication │\n",
       "│ 1           ┆ _CiD       ┆            ┆ bstance    ┆   ┆          ┆        ┆        ┆            │\n",
       "│ CHEBI:3647  ┆ inhibits_C ┆ NCBIGene:3 ┆ ChemicalSu ┆ … ┆ in       ┆ C      ┆ G      ┆ inhibits   │\n",
       "│             ┆ inG        ┆ 363        ┆ bstance    ┆   ┆          ┆        ┆        ┆            │\n",
       "└─────────────┴────────────┴────────────┴────────────┴───┴──────────┴────────┴────────┴────────────┘"
      ]
     },
     "execution_count": 174,
     "metadata": {},
     "output_type": "execute_result"
    }
   ],
   "source": [
    "filt_triples.unique(\"new_rel\")"
   ]
  },
  {
   "cell_type": "markdown",
   "metadata": {},
   "source": [
    "### Get number of unique nodes"
   ]
  },
  {
   "cell_type": "code",
   "execution_count": 179,
   "metadata": {},
   "outputs": [],
   "source": [
    "filt_nodes = filt_triples[\"head\"].append(filt_triples[\"tail\"]).unique().to_list()"
   ]
  },
  {
   "cell_type": "code",
   "execution_count": 180,
   "metadata": {},
   "outputs": [
    {
     "data": {
      "text/plain": [
       "64095"
      ]
     },
     "execution_count": 180,
     "metadata": {},
     "output_type": "execute_result"
    }
   ],
   "source": [
    "len(filt_nodes)"
   ]
  },
  {
   "cell_type": "markdown",
   "metadata": {},
   "source": [
    "## Export graph file"
   ]
  },
  {
   "cell_type": "code",
   "execution_count": 188,
   "metadata": {},
   "outputs": [],
   "source": [
    "filt_triples.select([\"head\", \"new_rel\", \"tail\"]).write_csv(\n",
    "    file=\"/home/rogertu/projects/KGEM/data/mini_MIND/graph.tsv\",\n",
    "    include_header=False,\n",
    "    separator=\"\\t\",\n",
    ")"
   ]
  },
  {
   "cell_type": "markdown",
   "metadata": {},
   "source": [
    "## Create PyKEEN dataset object"
   ]
  },
  {
   "cell_type": "code",
   "execution_count": 181,
   "metadata": {},
   "outputs": [],
   "source": [
    "from pykeen.triples import TriplesFactory\n",
    "from pykeen.pipeline import pipeline"
   ]
  },
  {
   "cell_type": "code",
   "execution_count": 189,
   "metadata": {},
   "outputs": [],
   "source": [
    "tf = TriplesFactory.from_path(\n",
    "    path=\"/home/rogertu/projects/KGEM/data/mini_MIND/graph.tsv\",\n",
    "    create_inverse_triples=True,\n",
    "    delimiter=\"\\t\",\n",
    ")"
   ]
  },
  {
   "cell_type": "code",
   "execution_count": 190,
   "metadata": {},
   "outputs": [],
   "source": [
    "train, test, valid = tf.split(\n",
    "    ratios=[0.8, 0.1, 0.1],\n",
    "    random_state=42,\n",
    ")"
   ]
  },
  {
   "cell_type": "code",
   "execution_count": 191,
   "metadata": {},
   "outputs": [
    {
     "data": {
      "text/plain": [
       "TriplesFactory(num_entities=64095, num_relations=16, create_inverse_triples=True, num_triples=881180, path=\"/home/rogertu/projects/KGEM/data/mini_MIND/graph.tsv\")"
      ]
     },
     "execution_count": 191,
     "metadata": {},
     "output_type": "execute_result"
    }
   ],
   "source": [
    "train"
   ]
  },
  {
   "cell_type": "code",
   "execution_count": 194,
   "metadata": {},
   "outputs": [
    {
     "data": {
      "text/plain": [
       "{0: 'activates',\n",
       " 1: 'associated_with',\n",
       " 2: 'indication',\n",
       " 3: 'inhibits',\n",
       " 4: 'marker_or_mechanism',\n",
       " 5: 'negatively_regulates',\n",
       " 6: 'positively_regulates',\n",
       " 7: 'treats'}"
      ]
     },
     "execution_count": 194,
     "metadata": {},
     "output_type": "execute_result"
    }
   ],
   "source": [
    "train.relation_id_to_label"
   ]
  },
  {
   "cell_type": "markdown",
   "metadata": {},
   "source": [
    "### Create a test pipeline"
   ]
  },
  {
   "cell_type": "code",
   "execution_count": null,
   "metadata": {},
   "outputs": [],
   "source": [
    "res = pipeline(\n",
    "    training=train,\n",
    "    testing=test,\n",
    "    validation=valid,\n",
    "    model=\"TransE\",\n",
    "    model_kwargs=dict(embedding_dim=50),\n",
    "    training_kwargs=dict(num_epochs=2),\n",
    "    evaluation_kwargs=dict(\n",
    "        restrict_relations_to=[2, 7], pre_filtered_triples=False\n",
    "    ),  # only test on \"treats\" and \"indication\"\n",
    "    random_seed=239979851,\n",
    ")"
   ]
  },
  {
   "cell_type": "code",
   "execution_count": 201,
   "metadata": {},
   "outputs": [],
   "source": [
    "res.metric_results.metrics.get(\"mean_rank\")"
   ]
  },
  {
   "cell_type": "code",
   "execution_count": 210,
   "metadata": {},
   "outputs": [
    {
     "data": {
      "text/plain": [
       "3570.445556640625"
      ]
     },
     "execution_count": 210,
     "metadata": {},
     "output_type": "execute_result"
    }
   ],
   "source": [
    "res.get_metric(key=\"both.mean_rank\")"
   ]
  },
  {
   "cell_type": "markdown",
   "metadata": {},
   "source": [
    "### Make predictions"
   ]
  },
  {
   "cell_type": "code",
   "execution_count": 212,
   "metadata": {},
   "outputs": [],
   "source": [
    "from pykeen.predict import predict_target"
   ]
  },
  {
   "cell_type": "code",
   "execution_count": 220,
   "metadata": {},
   "outputs": [
    {
     "data": {
      "text/html": [
       "<div>\n",
       "<style scoped>\n",
       "    .dataframe tbody tr th:only-of-type {\n",
       "        vertical-align: middle;\n",
       "    }\n",
       "\n",
       "    .dataframe tbody tr th {\n",
       "        vertical-align: top;\n",
       "    }\n",
       "\n",
       "    .dataframe thead th {\n",
       "        text-align: right;\n",
       "    }\n",
       "</style>\n",
       "<table border=\"1\" class=\"dataframe\">\n",
       "  <thead>\n",
       "    <tr style=\"text-align: right;\">\n",
       "      <th></th>\n",
       "      <th>head_id</th>\n",
       "      <th>head_label</th>\n",
       "      <th>relation_id</th>\n",
       "      <th>relation_label</th>\n",
       "      <th>tail_id</th>\n",
       "      <th>tail_label</th>\n",
       "    </tr>\n",
       "  </thead>\n",
       "  <tbody>\n",
       "    <tr>\n",
       "      <th>0</th>\n",
       "      <td>7010</td>\n",
       "      <td>CHEBI:85991</td>\n",
       "      <td>3</td>\n",
       "      <td>inhibits</td>\n",
       "      <td>56968</td>\n",
       "      <td>NCBIGene:7468</td>\n",
       "    </tr>\n",
       "    <tr>\n",
       "      <th>1</th>\n",
       "      <td>6238</td>\n",
       "      <td>CHEBI:7790</td>\n",
       "      <td>0</td>\n",
       "      <td>activates</td>\n",
       "      <td>33003</td>\n",
       "      <td>NCBIGene:10897</td>\n",
       "    </tr>\n",
       "    <tr>\n",
       "      <th>2</th>\n",
       "      <td>6091</td>\n",
       "      <td>CHEBI:75873</td>\n",
       "      <td>3</td>\n",
       "      <td>inhibits</td>\n",
       "      <td>49767</td>\n",
       "      <td>NCBIGene:4082</td>\n",
       "    </tr>\n",
       "    <tr>\n",
       "      <th>3</th>\n",
       "      <td>62591</td>\n",
       "      <td>REACT:R-HSA-9012172</td>\n",
       "      <td>5</td>\n",
       "      <td>negatively_regulates</td>\n",
       "      <td>62784</td>\n",
       "      <td>RNAC:URS000023C301_9606</td>\n",
       "    </tr>\n",
       "    <tr>\n",
       "      <th>4</th>\n",
       "      <td>28747</td>\n",
       "      <td>MESH:D009930</td>\n",
       "      <td>4</td>\n",
       "      <td>marker_or_mechanism</td>\n",
       "      <td>13403</td>\n",
       "      <td>DOID:14667</td>\n",
       "    </tr>\n",
       "    <tr>\n",
       "      <th>...</th>\n",
       "      <td>...</td>\n",
       "      <td>...</td>\n",
       "      <td>...</td>\n",
       "      <td>...</td>\n",
       "      <td>...</td>\n",
       "      <td>...</td>\n",
       "    </tr>\n",
       "    <tr>\n",
       "      <th>110142</th>\n",
       "      <td>3763</td>\n",
       "      <td>CHEBI:38319</td>\n",
       "      <td>3</td>\n",
       "      <td>inhibits</td>\n",
       "      <td>54211</td>\n",
       "      <td>NCBIGene:596</td>\n",
       "    </tr>\n",
       "    <tr>\n",
       "      <th>110143</th>\n",
       "      <td>1356</td>\n",
       "      <td>CHEBI:16842</td>\n",
       "      <td>0</td>\n",
       "      <td>activates</td>\n",
       "      <td>49776</td>\n",
       "      <td>NCBIGene:4090</td>\n",
       "    </tr>\n",
       "    <tr>\n",
       "      <th>110144</th>\n",
       "      <td>53619</td>\n",
       "      <td>NCBIGene:5743</td>\n",
       "      <td>4</td>\n",
       "      <td>marker_or_mechanism</td>\n",
       "      <td>14182</td>\n",
       "      <td>DOID:332</td>\n",
       "    </tr>\n",
       "    <tr>\n",
       "      <th>110145</th>\n",
       "      <td>5370</td>\n",
       "      <td>CHEBI:641</td>\n",
       "      <td>3</td>\n",
       "      <td>inhibits</td>\n",
       "      <td>35874</td>\n",
       "      <td>NCBIGene:165215</td>\n",
       "    </tr>\n",
       "    <tr>\n",
       "      <th>110146</th>\n",
       "      <td>3111</td>\n",
       "      <td>CHEBI:33216</td>\n",
       "      <td>0</td>\n",
       "      <td>activates</td>\n",
       "      <td>44017</td>\n",
       "      <td>NCBIGene:22944</td>\n",
       "    </tr>\n",
       "  </tbody>\n",
       "</table>\n",
       "<p>110147 rows × 6 columns</p>\n",
       "</div>"
      ],
      "text/plain": [
       "        head_id           head_label  relation_id        relation_label  \\\n",
       "0          7010          CHEBI:85991            3              inhibits   \n",
       "1          6238           CHEBI:7790            0             activates   \n",
       "2          6091          CHEBI:75873            3              inhibits   \n",
       "3         62591  REACT:R-HSA-9012172            5  negatively_regulates   \n",
       "4         28747         MESH:D009930            4   marker_or_mechanism   \n",
       "...         ...                  ...          ...                   ...   \n",
       "110142     3763          CHEBI:38319            3              inhibits   \n",
       "110143     1356          CHEBI:16842            0             activates   \n",
       "110144    53619        NCBIGene:5743            4   marker_or_mechanism   \n",
       "110145     5370            CHEBI:641            3              inhibits   \n",
       "110146     3111          CHEBI:33216            0             activates   \n",
       "\n",
       "        tail_id               tail_label  \n",
       "0         56968            NCBIGene:7468  \n",
       "1         33003           NCBIGene:10897  \n",
       "2         49767            NCBIGene:4082  \n",
       "3         62784  RNAC:URS000023C301_9606  \n",
       "4         13403               DOID:14667  \n",
       "...         ...                      ...  \n",
       "110142    54211             NCBIGene:596  \n",
       "110143    49776            NCBIGene:4090  \n",
       "110144    14182                 DOID:332  \n",
       "110145    35874          NCBIGene:165215  \n",
       "110146    44017           NCBIGene:22944  \n",
       "\n",
       "[110147 rows x 6 columns]"
      ]
     },
     "execution_count": 220,
     "metadata": {},
     "output_type": "execute_result"
    }
   ],
   "source": [
    "test.tensor_to_df(tensor=test.mapped_triples)"
   ]
  },
  {
   "cell_type": "code",
   "execution_count": 221,
   "metadata": {},
   "outputs": [
    {
     "data": {
      "text/plain": [
       "TargetPredictions(df=       tail_id      score     tail_label\n",
       "13691    13691  -6.272489      DOID:2150\n",
       "12261    12261  -6.474322     DOID:10825\n",
       "14688    14688  -6.646122      DOID:4478\n",
       "15592    15592  -6.695927      DOID:7148\n",
       "14926    14926  -6.818472     DOID:50338\n",
       "...        ...        ...            ...\n",
       "3414      3414 -14.438444     CHEBI:3485\n",
       "5078      5078 -14.459141    CHEBI:59662\n",
       "24482    24482 -14.530169   MESH:C095424\n",
       "47828    47828 -14.544150  NCBIGene:3456\n",
       "4844      4844 -14.633337    CHEBI:53675\n",
       "\n",
       "[64095 rows x 3 columns], factory=TriplesFactory(num_entities=64095, num_relations=16, create_inverse_triples=True, num_triples=881180, path=\"/home/rogertu/projects/KGEM/data/mini_MIND/graph.tsv\"), target='tail', other_columns_fixed_ids=(7010, 2))"
      ]
     },
     "execution_count": 221,
     "metadata": {},
     "output_type": "execute_result"
    }
   ],
   "source": [
    "predict_target(model=res.model, head=7010, relation=2, triples_factory=train)"
   ]
  }
 ],
 "metadata": {
  "kernelspec": {
   "display_name": "Python 3 (ipykernel)",
   "language": "python",
   "name": "python3"
  },
  "language_info": {
   "codemirror_mode": {
    "name": "ipython",
    "version": 3
   },
   "file_extension": ".py",
   "mimetype": "text/x-python",
   "name": "python",
   "nbconvert_exporter": "python",
   "pygments_lexer": "ipython3",
   "version": "3.12.3"
  }
 },
 "nbformat": 4,
 "nbformat_minor": 2
}
