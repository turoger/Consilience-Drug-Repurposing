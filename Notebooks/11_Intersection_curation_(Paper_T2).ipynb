{
 "cells": [
  {
   "cell_type": "code",
   "execution_count": 2,
   "metadata": {},
   "outputs": [],
   "source": [
    "import polars as pl\n",
    "import os"
   ]
  },
  {
   "cell_type": "code",
   "execution_count": 8,
   "metadata": {},
   "outputs": [],
   "source": [
    "os.chdir(\"./Notebooks\")"
   ]
  },
  {
   "cell_type": "markdown",
   "metadata": {},
   "source": [
    "# Extract predictions from the intersection DataFrame\n",
    "* 47 predictions that aren't known Trues\n",
    "* get the 25 queried ones"
   ]
  },
  {
   "cell_type": "code",
   "execution_count": 53,
   "metadata": {},
   "outputs": [],
   "source": [
    "first_pred = (\n",
    "    pl.read_parquet(\"./data_output/intersection_method_combinations.parquet\")\n",
    "    .filter(pl.col(\"is_answer\") == False, pl.col(\"method_size\") == 7)\n",
    "    .group_by(\"h\", maintain_order=True)\n",
    "    .agg([\"answers\", \"filt_rank\"])\n",
    "    .with_columns(\n",
    "        pl.col(\"answers\").list.first().alias(\"first_ans\"),\n",
    "        pl.col(\"filt_rank\").list.first().alias(\"first_rank\"),\n",
    "    )\n",
    ")"
   ]
  },
  {
   "cell_type": "code",
   "execution_count": 54,
   "metadata": {},
   "outputs": [
    {
     "data": {
      "text/html": [
       "<div><style>\n",
       ".dataframe > thead > tr,\n",
       ".dataframe > tbody > tr {\n",
       "  text-align: right;\n",
       "  white-space: pre-wrap;\n",
       "}\n",
       "</style>\n",
       "<small>shape: (47, 5)</small><table border=\"1\" class=\"dataframe\"><thead><tr><th>h</th><th>answers</th><th>filt_rank</th><th>first_ans</th><th>first_rank</th></tr><tr><td>str</td><td>list[str]</td><td>list[u32]</td><td>str</td><td>u32</td></tr></thead><tbody><tr><td>&quot;CHEBI:6073&quot;</td><td>[&quot;DOID:5844&quot;]</td><td>[2]</td><td>&quot;DOID:5844&quot;</td><td>2</td></tr><tr><td>&quot;CHEBI:3286&quot;</td><td>[&quot;DOID:14330&quot;]</td><td>[1]</td><td>&quot;DOID:14330&quot;</td><td>1</td></tr><tr><td>&quot;CHEBI:7824&quot;</td><td>[&quot;DOID:3312&quot;]</td><td>[2]</td><td>&quot;DOID:3312&quot;</td><td>2</td></tr><tr><td>&quot;CHEBI:28487&quot;</td><td>[&quot;DOID:14330&quot;]</td><td>[2]</td><td>&quot;DOID:14330&quot;</td><td>2</td></tr><tr><td>&quot;CHEBI:5556&quot;</td><td>[&quot;DOID:14330&quot;]</td><td>[3]</td><td>&quot;DOID:14330&quot;</td><td>3</td></tr><tr><td>&hellip;</td><td>&hellip;</td><td>&hellip;</td><td>&hellip;</td><td>&hellip;</td></tr><tr><td>&quot;CHEBI:5051&quot;</td><td>[&quot;DOID:2841&quot;]</td><td>[1]</td><td>&quot;DOID:2841&quot;</td><td>1</td></tr><tr><td>&quot;CHEBI:6441&quot;</td><td>[&quot;DOID:12849&quot;]</td><td>[1]</td><td>&quot;DOID:12849&quot;</td><td>1</td></tr><tr><td>&quot;CHEBI:9725&quot;</td><td>[&quot;DOID:4481&quot;]</td><td>[1]</td><td>&quot;DOID:4481&quot;</td><td>1</td></tr><tr><td>&quot;IKEY:DYLUUSLLRIQKOE-UHFFFAOYSA…</td><td>[&quot;DOID:9952&quot;]</td><td>[1]</td><td>&quot;DOID:9952&quot;</td><td>1</td></tr><tr><td>&quot;CHEBI:3756&quot;</td><td>[&quot;DOID:5419&quot;]</td><td>[1]</td><td>&quot;DOID:5419&quot;</td><td>1</td></tr></tbody></table></div>"
      ],
      "text/plain": [
       "shape: (47, 5)\n",
       "┌─────────────────────────────────┬────────────────┬───────────┬────────────┬────────────┐\n",
       "│ h                               ┆ answers        ┆ filt_rank ┆ first_ans  ┆ first_rank │\n",
       "│ ---                             ┆ ---            ┆ ---       ┆ ---        ┆ ---        │\n",
       "│ str                             ┆ list[str]      ┆ list[u32] ┆ str        ┆ u32        │\n",
       "╞═════════════════════════════════╪════════════════╪═══════════╪════════════╪════════════╡\n",
       "│ CHEBI:6073                      ┆ [\"DOID:5844\"]  ┆ [2]       ┆ DOID:5844  ┆ 2          │\n",
       "│ CHEBI:3286                      ┆ [\"DOID:14330\"] ┆ [1]       ┆ DOID:14330 ┆ 1          │\n",
       "│ CHEBI:7824                      ┆ [\"DOID:3312\"]  ┆ [2]       ┆ DOID:3312  ┆ 2          │\n",
       "│ CHEBI:28487                     ┆ [\"DOID:14330\"] ┆ [2]       ┆ DOID:14330 ┆ 2          │\n",
       "│ CHEBI:5556                      ┆ [\"DOID:14330\"] ┆ [3]       ┆ DOID:14330 ┆ 3          │\n",
       "│ …                               ┆ …              ┆ …         ┆ …          ┆ …          │\n",
       "│ CHEBI:5051                      ┆ [\"DOID:2841\"]  ┆ [1]       ┆ DOID:2841  ┆ 1          │\n",
       "│ CHEBI:6441                      ┆ [\"DOID:12849\"] ┆ [1]       ┆ DOID:12849 ┆ 1          │\n",
       "│ CHEBI:9725                      ┆ [\"DOID:4481\"]  ┆ [1]       ┆ DOID:4481  ┆ 1          │\n",
       "│ IKEY:DYLUUSLLRIQKOE-UHFFFAOYSA… ┆ [\"DOID:9952\"]  ┆ [1]       ┆ DOID:9952  ┆ 1          │\n",
       "│ CHEBI:3756                      ┆ [\"DOID:5419\"]  ┆ [1]       ┆ DOID:5419  ┆ 1          │\n",
       "└─────────────────────────────────┴────────────────┴───────────┴────────────┴────────────┘"
      ]
     },
     "execution_count": 54,
     "metadata": {},
     "output_type": "execute_result"
    }
   ],
   "source": [
    "first_pred"
   ]
  },
  {
   "cell_type": "markdown",
   "metadata": {},
   "source": [
    "### Get names of compound and predicted diseases"
   ]
  },
  {
   "cell_type": "code",
   "execution_count": 20,
   "metadata": {},
   "outputs": [
    {
     "data": {
      "text/html": [
       "<div><style>\n",
       ".dataframe > thead > tr,\n",
       ".dataframe > tbody > tr {\n",
       "  text-align: right;\n",
       "  white-space: pre-wrap;\n",
       "}\n",
       "</style>\n",
       "<small>shape: (2, 3)</small><table border=\"1\" class=\"dataframe\"><thead><tr><th>id</th><th>name</th><th>label</th></tr><tr><td>str</td><td>str</td><td>str</td></tr></thead><tbody><tr><td>&quot;UBERON:0000002&quot;</td><td>&quot;cervix&quot;</td><td>&quot;AnatomicalEntity&quot;</td></tr><tr><td>&quot;UBERON:0000004&quot;</td><td>&quot;human nose&quot;</td><td>&quot;AnatomicalEntity&quot;</td></tr></tbody></table></div>"
      ],
      "text/plain": [
       "shape: (2, 3)\n",
       "┌────────────────┬────────────┬──────────────────┐\n",
       "│ id             ┆ name       ┆ label            │\n",
       "│ ---            ┆ ---        ┆ ---              │\n",
       "│ str            ┆ str        ┆ str              │\n",
       "╞════════════════╪════════════╪══════════════════╡\n",
       "│ UBERON:0000002 ┆ cervix     ┆ AnatomicalEntity │\n",
       "│ UBERON:0000004 ┆ human nose ┆ AnatomicalEntity │\n",
       "└────────────────┴────────────┴──────────────────┘"
      ]
     },
     "execution_count": 20,
     "metadata": {},
     "output_type": "execute_result"
    }
   ],
   "source": [
    "nodes = pl.read_csv(\"../../../MRN_dataset/nodes_biolink.csv\").select(\n",
    "    [\"id\", \"name\", \"label\"]\n",
    ")\n",
    "\n",
    "nodes.head(2)"
   ]
  },
  {
   "cell_type": "code",
   "execution_count": 52,
   "metadata": {},
   "outputs": [],
   "source": [
    "# Randomly picked compounds from last curation.\n",
    "\n",
    "interested = {\n",
    "    \"CHEBI:520985\": \"almotriptan\",\n",
    "    \"CHEBI:78540\": \"apremilast\",\n",
    "    \"CHEBI:77590\": \"armodafinil\",\n",
    "    \"CHEBI:59164\": \"balsalazide disodium\",\n",
    "    \"CHEBI:3286\": \"cabergoline\",\n",
    "    \"CHEBI:3738\": \"clemastine\",\n",
    "    \"CHEBI:3756\": \"clonazepam\",\n",
    "    \"CHEBI:17439\": \"cyanocob(III)alamin\",\n",
    "    \"CHEBI:4046\": \"cyproheptadine\",\n",
    "    \"CHEBI:4638\": \"diphenidol\",\n",
    "    \"CHEBI:4647\": \"dipivefrin hydrochloride\",\n",
    "    \"CHEBI:31530\": \"edaravone\",\n",
    "    \"IKEY:DYLUUSLLRIQKOE-UHFFFAOYSA-N\": \"Enasidenib\",\n",
    "    \"CHEBI:36791\": \"escitalopram\",\n",
    "    \"CHEBI:5051\": \"Fexofenadine hydrochloride\",\n",
    "    \"CHEBI:5139\": \"Fluvoxamine maleate\",\n",
    "    \"CHEBI:6441\": \"levacetylmethadol\",\n",
    "    \"CHEBI:135925\": \"lisdexamfetamine\",\n",
    "    \"CHEBI:31854\": \"Milnacipran hydrochloride\",\n",
    "    \"CHEBI:7575\": \"nimodipine\",\n",
    "    \"CHEBI:8708\": \"quetiapine fumarate\",\n",
    "    \"CHEBI:63620\": \"rasagiline\",\n",
    "    \"CHEBI:9207\": \"sotalol hydrochloride\",\n",
    "    \"CHEBI:9711\": \"triflupromazine\",\n",
    "    \"CHEBI:9725\": \"Trimeprazine\",\n",
    "}"
   ]
  },
  {
   "cell_type": "code",
   "execution_count": 56,
   "metadata": {},
   "outputs": [
    {
     "data": {
      "text/html": [
       "<div><style>\n",
       ".dataframe > thead > tr,\n",
       ".dataframe > tbody > tr {\n",
       "  text-align: right;\n",
       "  white-space: pre-wrap;\n",
       "}\n",
       "</style>\n",
       "<small>shape: (25, 5)</small><table border=\"1\" class=\"dataframe\"><thead><tr><th>h</th><th>answers</th><th>filt_rank</th><th>first_ans</th><th>first_rank</th></tr><tr><td>str</td><td>list[str]</td><td>list[u32]</td><td>str</td><td>u32</td></tr></thead><tbody><tr><td>&quot;CHEBI:3286&quot;</td><td>[&quot;DOID:14330&quot;]</td><td>[1]</td><td>&quot;DOID:14330&quot;</td><td>1</td></tr><tr><td>&quot;CHEBI:9207&quot;</td><td>[&quot;DOID:10763&quot;, &quot;DOID:2841&quot;]</td><td>[1, 2]</td><td>&quot;DOID:10763&quot;</td><td>1</td></tr><tr><td>&quot;CHEBI:4647&quot;</td><td>[&quot;DOID:10763&quot;]</td><td>[1]</td><td>&quot;DOID:10763&quot;</td><td>1</td></tr><tr><td>&quot;CHEBI:4046&quot;</td><td>[&quot;DOID:5419&quot;]</td><td>[1]</td><td>&quot;DOID:5419&quot;</td><td>1</td></tr><tr><td>&quot;CHEBI:9711&quot;</td><td>[&quot;DOID:5419&quot;]</td><td>[1]</td><td>&quot;DOID:5419&quot;</td><td>1</td></tr><tr><td>&hellip;</td><td>&hellip;</td><td>&hellip;</td><td>&hellip;</td><td>&hellip;</td></tr><tr><td>&quot;CHEBI:5051&quot;</td><td>[&quot;DOID:2841&quot;]</td><td>[1]</td><td>&quot;DOID:2841&quot;</td><td>1</td></tr><tr><td>&quot;CHEBI:6441&quot;</td><td>[&quot;DOID:12849&quot;]</td><td>[1]</td><td>&quot;DOID:12849&quot;</td><td>1</td></tr><tr><td>&quot;CHEBI:9725&quot;</td><td>[&quot;DOID:4481&quot;]</td><td>[1]</td><td>&quot;DOID:4481&quot;</td><td>1</td></tr><tr><td>&quot;IKEY:DYLUUSLLRIQKOE-UHFFFAOYSA…</td><td>[&quot;DOID:9952&quot;]</td><td>[1]</td><td>&quot;DOID:9952&quot;</td><td>1</td></tr><tr><td>&quot;CHEBI:3756&quot;</td><td>[&quot;DOID:5419&quot;]</td><td>[1]</td><td>&quot;DOID:5419&quot;</td><td>1</td></tr></tbody></table></div>"
      ],
      "text/plain": [
       "shape: (25, 5)\n",
       "┌──────────────────────────────┬─────────────────────────────┬───────────┬────────────┬────────────┐\n",
       "│ h                            ┆ answers                     ┆ filt_rank ┆ first_ans  ┆ first_rank │\n",
       "│ ---                          ┆ ---                         ┆ ---       ┆ ---        ┆ ---        │\n",
       "│ str                          ┆ list[str]                   ┆ list[u32] ┆ str        ┆ u32        │\n",
       "╞══════════════════════════════╪═════════════════════════════╪═══════════╪════════════╪════════════╡\n",
       "│ CHEBI:3286                   ┆ [\"DOID:14330\"]              ┆ [1]       ┆ DOID:14330 ┆ 1          │\n",
       "│ CHEBI:9207                   ┆ [\"DOID:10763\", \"DOID:2841\"] ┆ [1, 2]    ┆ DOID:10763 ┆ 1          │\n",
       "│ CHEBI:4647                   ┆ [\"DOID:10763\"]              ┆ [1]       ┆ DOID:10763 ┆ 1          │\n",
       "│ CHEBI:4046                   ┆ [\"DOID:5419\"]               ┆ [1]       ┆ DOID:5419  ┆ 1          │\n",
       "│ CHEBI:9711                   ┆ [\"DOID:5419\"]               ┆ [1]       ┆ DOID:5419  ┆ 1          │\n",
       "│ …                            ┆ …                           ┆ …         ┆ …          ┆ …          │\n",
       "│ CHEBI:5051                   ┆ [\"DOID:2841\"]               ┆ [1]       ┆ DOID:2841  ┆ 1          │\n",
       "│ CHEBI:6441                   ┆ [\"DOID:12849\"]              ┆ [1]       ┆ DOID:12849 ┆ 1          │\n",
       "│ CHEBI:9725                   ┆ [\"DOID:4481\"]               ┆ [1]       ┆ DOID:4481  ┆ 1          │\n",
       "│ IKEY:DYLUUSLLRIQKOE-UHFFFAOY ┆ [\"DOID:9952\"]               ┆ [1]       ┆ DOID:9952  ┆ 1          │\n",
       "│ SA…                          ┆                             ┆           ┆            ┆            │\n",
       "│ CHEBI:3756                   ┆ [\"DOID:5419\"]               ┆ [1]       ┆ DOID:5419  ┆ 1          │\n",
       "└──────────────────────────────┴─────────────────────────────┴───────────┴────────────┴────────────┘"
      ]
     },
     "execution_count": 56,
     "metadata": {},
     "output_type": "execute_result"
    }
   ],
   "source": [
    "first_pred.filter(pl.col(\"h\").is_in(interested.keys()))"
   ]
  },
  {
   "cell_type": "code",
   "execution_count": 51,
   "metadata": {},
   "outputs": [
    {
     "data": {
      "text/html": [
       "<div><style>\n",
       ".dataframe > thead > tr,\n",
       ".dataframe > tbody > tr {\n",
       "  text-align: right;\n",
       "  white-space: pre-wrap;\n",
       "}\n",
       "</style>\n",
       "<small>shape: (1, 3)</small><table border=\"1\" class=\"dataframe\"><thead><tr><th>id</th><th>name</th><th>label</th></tr><tr><td>str</td><td>str</td><td>str</td></tr></thead><tbody><tr><td>&quot;CHEBI:9725&quot;</td><td>&quot;Trimeprazine&quot;</td><td>&quot;ChemicalSubstance&quot;</td></tr></tbody></table></div>"
      ],
      "text/plain": [
       "shape: (1, 3)\n",
       "┌────────────┬──────────────┬───────────────────┐\n",
       "│ id         ┆ name         ┆ label             │\n",
       "│ ---        ┆ ---          ┆ ---               │\n",
       "│ str        ┆ str          ┆ str               │\n",
       "╞════════════╪══════════════╪═══════════════════╡\n",
       "│ CHEBI:9725 ┆ Trimeprazine ┆ ChemicalSubstance │\n",
       "└────────────┴──────────────┴───────────────────┘"
      ]
     },
     "execution_count": 51,
     "metadata": {},
     "output_type": "execute_result"
    }
   ],
   "source": [
    "nodes.filter(pl.col(\"name\").str.starts_with(\"Trimeprazine\"))"
   ]
  },
  {
   "cell_type": "markdown",
   "metadata": {},
   "source": []
  }
 ],
 "metadata": {
  "kernelspec": {
   "display_name": "Python 3 (ipykernel)",
   "language": "python",
   "name": "python3"
  },
  "language_info": {
   "codemirror_mode": {
    "name": "ipython",
    "version": 3
   },
   "file_extension": ".py",
   "mimetype": "text/x-python",
   "name": "python",
   "nbconvert_exporter": "python",
   "pygments_lexer": "ipython3",
   "version": "3.11.9"
  }
 },
 "nbformat": 4,
 "nbformat_minor": 2
}
