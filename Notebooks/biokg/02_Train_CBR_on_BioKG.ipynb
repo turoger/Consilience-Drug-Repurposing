{
 "cells": [
  {
   "cell_type": "code",
   "execution_count": 1,
   "metadata": {},
   "outputs": [],
   "source": [
    "import pykeen.datasets\n",
    "import pykeen\n",
    "import os\n",
    "import subprocess\n",
    "import sys\n",
    "import shutil\n",
    "import pandas as pd\n",
    "import polars as pl\n",
    "import numpy as np"
   ]
  },
  {
   "cell_type": "markdown",
   "metadata": {},
   "source": [
    "# Train a Case-based Reasoning and model on BioKG\n",
    "\n",
    "Context:\n",
    "Rivas-Barrigan implemented a pared down flavor of BioKG and OpenBioLink containing only 3 node types. This notebook seeks to create case-based reasoning models on the full BioKG and OpenBiolink knowledge graphs for drug repurposing. We don't run CBR on the modified dataset because it wouldn't make any sense - the modified dataset only has a specific schema ( Drug - interacts with - Gene - associated with - Disease)\n",
    "\n",
    "Actions:\n",
    "* extract and export biokg dataset and graph\n",
    "* copy to Consilience-based-Drug-Repurposing folder\n",
    "* modify CBR repository to take a specific edge type to process, this flag is under `--filter_relations`\n",
    "* create CBR similarity subgraph\n",
    "* run Case-Based Reasoning\n",
    "\n",
    "Findings:\n",
    "* edge types between BioKG and the modified BioKG are not exactly the same. Need to match the results once the predictions are done to shoe-horn the modified KG predictions into CBR\n",
    "* prediction performance seems to be similar to MIND\n",
    "    * MRR:        0.05226\n",
    "    * Hits_at_1:  0.02098\n",
    "    * Hits_at_3:  0.04735\n",
    "    * Hits_at_10: 0.10414"
   ]
  },
  {
   "cell_type": "markdown",
   "metadata": {},
   "source": [
    "## Get BioKG Graph"
   ]
  },
  {
   "cell_type": "code",
   "execution_count": 2,
   "metadata": {},
   "outputs": [],
   "source": [
    "biokg = pykeen.datasets.BioKG()"
   ]
  },
  {
   "cell_type": "code",
   "execution_count": 3,
   "metadata": {},
   "outputs": [
    {
     "name": "stderr",
     "output_type": "stream",
     "text": [
      "Reconstructing all label-based triples. This is expensive and rarely needed.\n",
      "Reconstructing all label-based triples. This is expensive and rarely needed.\n",
      "Reconstructing all label-based triples. This is expensive and rarely needed.\n"
     ]
    }
   ],
   "source": [
    "train = pl.DataFrame(\n",
    "    biokg.training.triples,\n",
    ")\n",
    "test = pl.DataFrame(biokg.testing.triples)\n",
    "valid = pl.DataFrame(biokg.validation.triples)\n",
    "\n",
    "graph = pl.concat([train, test, valid]).unique([\"column_0\", \"column_1\", \"column_2\"])"
   ]
  },
  {
   "cell_type": "code",
   "execution_count": 4,
   "metadata": {},
   "outputs": [
    {
     "data": {
      "text/html": [
       "<div><style>\n",
       ".dataframe > thead > tr,\n",
       ".dataframe > tbody > tr {\n",
       "  text-align: right;\n",
       "  white-space: pre-wrap;\n",
       "}\n",
       "</style>\n",
       "<small>shape: (5, 3)</small><table border=\"1\" class=\"dataframe\"><thead><tr><th>column_0</th><th>column_1</th><th>column_2</th></tr><tr><td>str</td><td>str</td><td>str</td></tr></thead><tbody><tr><td>&quot;A0A0G2K344&quot;</td><td>&quot;PROTEIN_PATHWA…</td><td>&quot;R-RNO-912526&quot;</td></tr><tr><td>&quot;A0JNB0&quot;</td><td>&quot;PROTEIN_PATHWA…</td><td>&quot;R-BTA-389513&quot;</td></tr><tr><td>&quot;A0MGZ7&quot;</td><td>&quot;PROTEIN_PATHWA…</td><td>&quot;R-DRE-2022928&quot;</td></tr><tr><td>&quot;A1A4J1&quot;</td><td>&quot;PROTEIN_PATHWA…</td><td>&quot;R-BTA-6798695&quot;</td></tr><tr><td>&quot;A1XQU1&quot;</td><td>&quot;PROTEIN_PATHWA…</td><td>&quot;R-SSC-1234176&quot;</td></tr></tbody></table></div>"
      ],
      "text/plain": [
       "shape: (5, 3)\n",
       "┌────────────┬─────────────────────────────┬───────────────┐\n",
       "│ column_0   ┆ column_1                    ┆ column_2      │\n",
       "│ ---        ┆ ---                         ┆ ---           │\n",
       "│ str        ┆ str                         ┆ str           │\n",
       "╞════════════╪═════════════════════════════╪═══════════════╡\n",
       "│ A0A0G2K344 ┆ PROTEIN_PATHWAY_ASSOCIATION ┆ R-RNO-912526  │\n",
       "│ A0JNB0     ┆ PROTEIN_PATHWAY_ASSOCIATION ┆ R-BTA-389513  │\n",
       "│ A0MGZ7     ┆ PROTEIN_PATHWAY_ASSOCIATION ┆ R-DRE-2022928 │\n",
       "│ A1A4J1     ┆ PROTEIN_PATHWAY_ASSOCIATION ┆ R-BTA-6798695 │\n",
       "│ A1XQU1     ┆ PROTEIN_PATHWAY_ASSOCIATION ┆ R-SSC-1234176 │\n",
       "└────────────┴─────────────────────────────┴───────────────┘"
      ]
     },
     "execution_count": 4,
     "metadata": {},
     "output_type": "execute_result"
    }
   ],
   "source": [
    "graph.head()"
   ]
  },
  {
   "cell_type": "code",
   "execution_count": null,
   "metadata": {},
   "outputs": [
    {
     "data": {
      "text/plain": [
       "'2,067,997'"
      ]
     },
     "execution_count": 7,
     "metadata": {},
     "output_type": "execute_result"
    }
   ],
   "source": [
    "f\"Graph size: {graph.shape[0]:,}\""
   ]
  },
  {
   "cell_type": "code",
   "execution_count": 9,
   "metadata": {},
   "outputs": [
    {
     "name": "stderr",
     "output_type": "stream",
     "text": [
      "/tmp/ipykernel_2460412/3047122549.py:1: DeprecationWarning: `the argument has_header` for `write_csv` is deprecated. It has been renamed to `include_header`.\n",
      "  graph.write_csv(\n",
      "/tmp/ipykernel_2460412/3047122549.py:6: DeprecationWarning: `the argument has_header` for `write_csv` is deprecated. It has been renamed to `include_header`.\n",
      "  train.write_csv(\n",
      "/tmp/ipykernel_2460412/3047122549.py:11: DeprecationWarning: `the argument has_header` for `write_csv` is deprecated. It has been renamed to `include_header`.\n",
      "  test.write_csv(\n",
      "/tmp/ipykernel_2460412/3047122549.py:16: DeprecationWarning: `the argument has_header` for `write_csv` is deprecated. It has been renamed to `include_header`.\n",
      "  valid.write_csv(\n"
     ]
    }
   ],
   "source": [
    "graph.write_csv(\n",
    "    \"/home/rogertu/.data/pykeen/datasets/biokg/graph.txt\",\n",
    "    separator=\"\\t\",\n",
    "    has_header=False,\n",
    ")\n",
    "train.write_csv(\n",
    "    \"/home/rogertu/.data/pykeen/datasets/biokg/train.txt\",\n",
    "    separator=\"\\t\",\n",
    "    has_header=False,\n",
    ")\n",
    "test.write_csv(\n",
    "    \"/home/rogertu/.data/pykeen/datasets/biokg/test.txt\",\n",
    "    separator=\"\\t\",\n",
    "    has_header=False,\n",
    ")\n",
    "valid.write_csv(\n",
    "    \"/home/rogertu/.data/pykeen/datasets/biokg/valid.txt\",\n",
    "    separator=\"\\t\",\n",
    "    has_header=False,\n",
    ")"
   ]
  },
  {
   "cell_type": "markdown",
   "metadata": {},
   "source": [
    "## Train CBR subgraph"
   ]
  },
  {
   "cell_type": "code",
   "execution_count": 10,
   "metadata": {},
   "outputs": [
    {
     "data": {
      "text/plain": [
       "'/home/rogertu/projects/semmed'"
      ]
     },
     "execution_count": 10,
     "metadata": {},
     "output_type": "execute_result"
    }
   ],
   "source": [
    "os.getcwd()"
   ]
  },
  {
   "cell_type": "code",
   "execution_count": 11,
   "metadata": {},
   "outputs": [],
   "source": [
    "os.chdir(\"../Consilience-Drug-Repurposing\")"
   ]
  },
  {
   "cell_type": "code",
   "execution_count": 12,
   "metadata": {},
   "outputs": [],
   "source": [
    "sys.path.append(\"./path-based/CBR/code\")"
   ]
  },
  {
   "cell_type": "code",
   "execution_count": null,
   "metadata": {},
   "outputs": [],
   "source": [
    "# make sure to move the graph.txt file into the consilience-drug-repurposing directory"
   ]
  },
  {
   "cell_type": "code",
   "execution_count": null,
   "metadata": {},
   "outputs": [
    {
     "name": "stderr",
     "output_type": "stream",
     "text": [
      "[2024-11-29 12:20:35 \t =============biokg================]\n",
      "[2024-11-29 12:20:35 \t {\n",
      "    \"data_dir\": \"./\",\n",
      "    \"dataset_name\": \"biokg\",\n",
      "    \"ignore_sequential_inverse\": true,\n",
      "    \"num_paths_to_collect\": 1000,\n",
      "    \"use_wandb\": 0\n",
      "}]\n",
      "2067997it [00:03, 660987.27it/s]\n",
      " 26%|██▋       | 27709/105524 [16:07<40:41, 31.88it/s]  "
     ]
    }
   ],
   "source": [
    "subprocess.run(\n",
    "    [\n",
    "        \"python\",\n",
    "        \"path-based/CBR/code/data/get_paths.py\",\n",
    "        \"--dataset_name\",\n",
    "        \"biokg\",\n",
    "        \"--data_dir\",\n",
    "        \"./\",\n",
    "        \"--num_paths_to_collect\",\n",
    "        \"1000\",\n",
    "        \"--ignore_sequential_inverse\",\n",
    "        \"1\",\n",
    "    ]\n",
    ")"
   ]
  },
  {
   "cell_type": "markdown",
   "metadata": {},
   "source": [
    "## Run CBR"
   ]
  },
  {
   "cell_type": "code",
   "execution_count": 70,
   "metadata": {},
   "outputs": [
    {
     "name": "stderr",
     "output_type": "stream",
     "text": [
      "[2024-12-02 13:52:45 \t COMMAND: path-based/CBR/code/cbr_mod.py --dataset_name biokg --data_dir ./ --max_num_programs 25 --k_adj 10 --filter_relations ['DRUG_DISEASE_ASSOCIATION'] --output_dir ./data/outputs --max_answers 100 --output_predictions --output_per_relation_scores --test]\n",
      "[2024-12-02 13:52:45 \t ===========biokg============]\n",
      "[2024-12-02 13:52:45 \t Loading subgraph around entities:]\n",
      "2067997it [00:01, 1045481.01it/s]\n",
      "[2024-12-02 13:52:56 \t Loading train map]\n",
      "2067997it [00:02, 710004.66it/s]\n",
      "1654397it [00:02, 700018.99it/s]\n",
      "[2024-12-02 13:53:02 \t Loading dev map]\n",
      "206800it [00:00, 718221.18it/s]\n",
      "[2024-12-02 13:53:02 \t Loading test map]\n",
      "206800it [00:00, 749814.85it/s]\n",
      "[2024-12-02 13:53:02 \t Filtering relations: ['DRUG_DISEASE_ASSOCIATION']]\n",
      "2067997it [00:02, 779589.10it/s]\n",
      "/home/rogertu/projects/Consilience-Drug-Repurposing/path-based/CBR/code/cbr_mod.py:587: RuntimeWarning: invalid value encountered in divide\n",
      "  adj_mat = adj_mat / l2norm.reshape(l2norm.shape[0], 1)\n",
      "[2024-12-02 13:53:08 \t Using device: cpu]\n",
      "[2024-12-02 13:53:08 \t =========Config:============]\n",
      "[2024-12-02 13:53:08 \t {\n",
      "    \"cuda\": false,\n",
      "    \"data_dir\": \"./\",\n",
      "    \"dataset_name\": \"biokg\",\n",
      "    \"dev_file\": \"./data/biokg/dev.txt\",\n",
      "    \"dev_file_name\": \"dev.txt\",\n",
      "    \"filter_relations\": [\n",
      "        \"DRUG_DISEASE_ASSOCIATION\"\n",
      "    ],\n",
      "    \"k_adj\": 10,\n",
      "    \"max_answers\": 100,\n",
      "    \"max_num_programs\": 25,\n",
      "    \"output_dir\": \"./data/outputs\",\n",
      "    \"output_per_relation_scores\": true,\n",
      "    \"output_predictions\": true,\n",
      "    \"per_relation_config\": null,\n",
      "    \"print_paths\": false,\n",
      "    \"subgraph_file_name\": \"paths_1000.pkl\",\n",
      "    \"test\": true,\n",
      "    \"test_file\": \"./data/biokg/test.txt\",\n",
      "    \"test_file_name\": \"test.txt\",\n",
      "    \"train_file\": \"./data/biokg/train.txt\",\n",
      "    \"use_wandb\": 0\n",
      "}]\n",
      "[2024-12-02 13:53:08 \t Loading combined train/dev/test map for filtered eval]\n",
      "1654397it [00:02, 694358.09it/s]\n",
      "206800it [00:00, 674145.11it/s]\n",
      "206800it [00:00, 676368.76it/s]\n",
      "[2024-12-02 13:57:31 \t Loaded...]\n",
      "100%|██████████| 1634/1634 [36:42<00:00,  1.35s/it]  \n",
      "[2024-12-02 14:34:14 \t Writing per-relation scores to ./data/outputs/biokg_CBR_per_relation_scores.json]\n",
      "[2024-12-02 14:34:14 \t Out of 6674 queries, atleast one program was returned for 6320 queries]\n",
      "[2024-12-02 14:34:14 \t Avg number of programs 5.92]\n",
      "[2024-12-02 14:34:14 \t Avg number of answers after executing the programs: 1739.7552019583843]\n",
      "[2024-12-02 14:34:14 \t Accuracy (Loose): 0.8555588852262511]\n",
      "[2024-12-02 14:34:14 \t Hits@1 0.020976925382079712]\n",
      "[2024-12-02 14:34:14 \t Hits@3 0.047347917290979924]\n",
      "[2024-12-02 14:34:14 \t Hits@5 0.0669763260413545]\n",
      "[2024-12-02 14:34:14 \t Hits@10 0.10413545100389572]\n",
      "[2024-12-02 14:34:14 \t MRR 0.052258692144569394]\n",
      "[2024-12-02 14:34:14 \t Avg number of nn, that do not have the query relation: 0.0]\n",
      "[2024-12-02 14:34:14 \t Avg num of returned nearest neighbors: 10.0000]\n",
      "[2024-12-02 14:34:14 \t Avg number of programs that do not execute per query: 0.4082]\n"
     ]
    },
    {
     "data": {
      "text/plain": [
       "CompletedProcess(args=['python', 'path-based/CBR/code/cbr_mod.py', '--dataset_name', 'biokg', '--data_dir', './', '--max_num_programs', '25', '--k_adj', '10', '--filter_relations', \"['DRUG_DISEASE_ASSOCIATION']\", '--output_dir', './data/outputs', '--max_answers', '100', '--output_predictions', '--output_per_relation_scores', '--test'], returncode=0)"
      ]
     },
     "execution_count": 70,
     "metadata": {},
     "output_type": "execute_result"
    }
   ],
   "source": [
    "subprocess.run(\n",
    "    [\n",
    "        \"python\",\n",
    "        \"path-based/CBR/code/cbr_mod.py\",\n",
    "        \"--dataset_name\",\n",
    "        \"biokg\",\n",
    "        \"--data_dir\",\n",
    "        \"./\",\n",
    "        \"--max_num_programs\",\n",
    "        \"25\",\n",
    "        \"--k_adj\",\n",
    "        \"10\",\n",
    "        \"--filter_relations\",\n",
    "        \"['DRUG_DISEASE_ASSOCIATION']\",\n",
    "        \"--output_dir\",\n",
    "        \"./data/outputs\",\n",
    "        \"--max_answers\",\n",
    "        \"100\",\n",
    "        \"--output_predictions\",\n",
    "        \"--output_per_relation_scores\",\n",
    "        \"--test\",\n",
    "    ]\n",
    ")"
   ]
  },
  {
   "cell_type": "code",
   "execution_count": 59,
   "metadata": {},
   "outputs": [
    {
     "data": {
      "text/plain": [
       "['DRUG_DISEASE_ASSOCIATION',\n",
       " 'COMPLEX_IN_PATHWAY',\n",
       " 'DISEASE_PATHWAY_ASSOCIATION',\n",
       " 'PROTEIN_PATHWAY_ASSOCIATION',\n",
       " 'DRUG_TARGET',\n",
       " 'DDI',\n",
       " 'DRUG_CARRIER',\n",
       " 'PPI',\n",
       " 'RELATED_GENETIC_DISORDER',\n",
       " 'DRUG_TRANSPORTER',\n",
       " 'PROTEIN_DISEASE_ASSOCIATION',\n",
       " 'DISEASE_GENETIC_DISORDER',\n",
       " 'DPI',\n",
       " 'MEMBER_OF_COMPLEX',\n",
       " 'DRUG_PATHWAY_ASSOCIATION',\n",
       " 'COMPLEX_TOP_LEVEL_PATHWAY',\n",
       " 'DRUG_ENZYME']"
      ]
     },
     "execution_count": 59,
     "metadata": {},
     "output_type": "execute_result"
    }
   ],
   "source": [
    "pl.read_csv(\"/home/rogertu/.data/pykeen/datasets/biokg/test.txt\", separator=\"\\t\",has_header=False).unique('column_2')['column_2'].to_list()"
   ]
  },
  {
   "cell_type": "code",
   "execution_count": 63,
   "metadata": {},
   "outputs": [
    {
     "data": {
      "text/html": [
       "<div><style>\n",
       ".dataframe > thead > tr,\n",
       ".dataframe > tbody > tr {\n",
       "  text-align: right;\n",
       "  white-space: pre-wrap;\n",
       "}\n",
       "</style>\n",
       "<small>shape: (206_800, 3)</small><table border=\"1\" class=\"dataframe\"><thead><tr><th>column_1</th><th>column_2</th><th>column_3</th></tr><tr><td>str</td><td>str</td><td>str</td></tr></thead><tbody><tr><td>&quot;DB04855&quot;</td><td>&quot;DDI&quot;</td><td>&quot;DB12248&quot;</td></tr><tr><td>&quot;DB00767&quot;</td><td>&quot;DDI&quot;</td><td>&quot;DB00934&quot;</td></tr><tr><td>&quot;DB01097&quot;</td><td>&quot;DDI&quot;</td><td>&quot;DB11529&quot;</td></tr><tr><td>&quot;Q9BY11&quot;</td><td>&quot;MEMBER_OF_COMP…</td><td>&quot;R-HSA-8871150&quot;</td></tr><tr><td>&quot;Q9CPX8&quot;</td><td>&quot;PROTEIN_PATHWA…</td><td>&quot;mmu04932&quot;</td></tr><tr><td>&hellip;</td><td>&hellip;</td><td>&hellip;</td></tr><tr><td>&quot;O00139&quot;</td><td>&quot;PPI&quot;</td><td>&quot;P25791&quot;</td></tr><tr><td>&quot;P61812&quot;</td><td>&quot;MEMBER_OF_COMP…</td><td>&quot;R-HSA-2467308&quot;</td></tr><tr><td>&quot;DB00849&quot;</td><td>&quot;DDI&quot;</td><td>&quot;DB11273&quot;</td></tr><tr><td>&quot;DB00300&quot;</td><td>&quot;DDI&quot;</td><td>&quot;DB00722&quot;</td></tr><tr><td>&quot;P30153&quot;</td><td>&quot;MEMBER_OF_COMP…</td><td>&quot;R-HSA-6811526&quot;</td></tr></tbody></table></div>"
      ],
      "text/plain": [
       "shape: (206_800, 3)\n",
       "┌──────────┬─────────────────────────────┬───────────────┐\n",
       "│ column_1 ┆ column_2                    ┆ column_3      │\n",
       "│ ---      ┆ ---                         ┆ ---           │\n",
       "│ str      ┆ str                         ┆ str           │\n",
       "╞══════════╪═════════════════════════════╪═══════════════╡\n",
       "│ DB04855  ┆ DDI                         ┆ DB12248       │\n",
       "│ DB00767  ┆ DDI                         ┆ DB00934       │\n",
       "│ DB01097  ┆ DDI                         ┆ DB11529       │\n",
       "│ Q9BY11   ┆ MEMBER_OF_COMPLEX           ┆ R-HSA-8871150 │\n",
       "│ Q9CPX8   ┆ PROTEIN_PATHWAY_ASSOCIATION ┆ mmu04932      │\n",
       "│ …        ┆ …                           ┆ …             │\n",
       "│ O00139   ┆ PPI                         ┆ P25791        │\n",
       "│ P61812   ┆ MEMBER_OF_COMPLEX           ┆ R-HSA-2467308 │\n",
       "│ DB00849  ┆ DDI                         ┆ DB11273       │\n",
       "│ DB00300  ┆ DDI                         ┆ DB00722       │\n",
       "│ P30153   ┆ MEMBER_OF_COMPLEX           ┆ R-HSA-6811526 │\n",
       "└──────────┴─────────────────────────────┴───────────────┘"
      ]
     },
     "execution_count": 63,
     "metadata": {},
     "output_type": "execute_result"
    }
   ],
   "source": [
    "pl.read_csv(\"/home/rogertu/.data/pykeen/datasets/biokg/test.txt\", separator=\"\\t\",has_header=False)"
   ]
  }
 ],
 "metadata": {
  "kernelspec": {
   "display_name": "Python 3 (ipykernel)",
   "language": "python",
   "name": "python3"
  }
 },
 "nbformat": 4,
 "nbformat_minor": 2
}
