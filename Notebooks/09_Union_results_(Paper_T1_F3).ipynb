{
 "cells": [
  {
   "cell_type": "markdown",
   "id": "9bd99fe6",
   "metadata": {},
   "source": [
    "# Calculate the Union policy performance\n",
    "\n",
    "## Summary of statistical performance of the Union Policy\n",
    "* Performance Stats\n",
    "    * MRR: 0.1613\n",
    "    * Hits@1: 0.0898\n",
    "    * Hits@3: 0.1602\n",
    "    * Hits@10: 0.3379\n",
    "    \n",
    "* Intra-indications\n",
    "    * Based on the Kruskal-Wallace Test, at least one median was statistically different\n",
    "    * Method Size 2 is statistically different from size >=3\n",
    "    * Method Size 3 is statistically different from size >=4\n",
    "    * Method Size 4 is statistically different from size >=5\n",
    "    * Method Size 5 is statistically different from size >=6\n",
    "    * Method Size 6 is _NOT_ statistically different from size 7\n",
    "    \n",
    "* Intra-non-indications\n",
    "    * Method Size 2 is statistically different from size >=3\n",
    "    * Method Size 3 is statistically different from size >=4\n",
    "    * Method Size 4 is statistically different from size >=5\n",
    "    * Method Size 5 is statistically different from size >=6\n",
    "    * Method Size 6 is statistically different from size 7\n",
    "\n",
    "* Inter indications & non-indications\n",
    "    * Based on the Kruskal-Wallace Test, at least one median was statistically different\n",
    "    * For each set size, Indication rank was statistically different from Non-Indication rank"
   ]
  },
  {
   "cell_type": "code",
   "execution_count": 1,
   "id": "5d45cbb7-0b05-4852-ae83-38ec63105ba7",
   "metadata": {},
   "outputs": [],
   "source": [
    "import os\n",
    "\n",
    "import itertools\n",
    "import polars as pl\n",
    "import numpy as np\n",
    "import matplotlib.pyplot as plt\n",
    "import matplotlib as mpl\n",
    "import scipy\n",
    "import seaborn as sns\n",
    "\n",
    "from tqdm import tqdm\n",
    "\n",
    "import sys\n",
    "\n",
    "sys.path.append(\"./Notebooks\")\n",
    "import score_utils2 as su2"
   ]
  },
  {
   "cell_type": "code",
   "execution_count": 2,
   "id": "3a196856",
   "metadata": {},
   "outputs": [],
   "source": [
    "os.chdir(\"./Notebooks\")"
   ]
  },
  {
   "cell_type": "markdown",
   "id": "a6f4051e",
   "metadata": {},
   "source": [
    "# Read combined dataframe"
   ]
  },
  {
   "cell_type": "code",
   "execution_count": 3,
   "id": "e23de7aa",
   "metadata": {},
   "outputs": [],
   "source": [
    "# read in the saved parquet\n",
    "combined_df = pl.read_parquet(\"./data_output/results_df.parquet\")"
   ]
  },
  {
   "cell_type": "code",
   "execution_count": 4,
   "id": "52097151",
   "metadata": {},
   "outputs": [
    {
     "data": {
      "text/html": [
       "<div><style>\n",
       ".dataframe > thead > tr,\n",
       ".dataframe > tbody > tr {\n",
       "  text-align: right;\n",
       "  white-space: pre-wrap;\n",
       "}\n",
       "</style>\n",
       "<small>shape: (2, 5)</small><table border=\"1\" class=\"dataframe\"><thead><tr><th>h</th><th>method</th><th>predicted_answers</th><th>answers</th><th>rank</th></tr><tr><td>str</td><td>str</td><td>list[str]</td><td>str</td><td>i64</td></tr></thead><tbody><tr><td>&quot;CHEBI:135735&quot;</td><td>&quot;CBR&quot;</td><td>[&quot;DOID:3393&quot;, &quot;DOID:6000&quot;, … &quot;DOID:0060343&quot;]</td><td>&quot;DOID:10763&quot;</td><td>3</td></tr><tr><td>&quot;CHEBI:135735&quot;</td><td>&quot;CBR&quot;</td><td>[&quot;DOID:3393&quot;, &quot;DOID:6000&quot;, … &quot;DOID:0060343&quot;]</td><td>&quot;DOID:10591&quot;</td><td>12</td></tr></tbody></table></div>"
      ],
      "text/plain": [
       "shape: (2, 5)\n",
       "┌──────────────┬────────┬─────────────────────────────────┬────────────┬──────┐\n",
       "│ h            ┆ method ┆ predicted_answers               ┆ answers    ┆ rank │\n",
       "│ ---          ┆ ---    ┆ ---                             ┆ ---        ┆ ---  │\n",
       "│ str          ┆ str    ┆ list[str]                       ┆ str        ┆ i64  │\n",
       "╞══════════════╪════════╪═════════════════════════════════╪════════════╪══════╡\n",
       "│ CHEBI:135735 ┆ CBR    ┆ [\"DOID:3393\", \"DOID:6000\", … \"… ┆ DOID:10763 ┆ 3    │\n",
       "│ CHEBI:135735 ┆ CBR    ┆ [\"DOID:3393\", \"DOID:6000\", … \"… ┆ DOID:10591 ┆ 12   │\n",
       "└──────────────┴────────┴─────────────────────────────────┴────────────┴──────┘"
      ]
     },
     "execution_count": 4,
     "metadata": {},
     "output_type": "execute_result"
    }
   ],
   "source": [
    "combined_df.head(2)"
   ]
  },
  {
   "cell_type": "code",
   "execution_count": 5,
   "id": "e700a63b",
   "metadata": {},
   "outputs": [
    {
     "data": {
      "text/plain": [
       "(19579, 5)"
      ]
     },
     "execution_count": 5,
     "metadata": {},
     "output_type": "execute_result"
    }
   ],
   "source": [
    "combined_df.shape"
   ]
  },
  {
   "cell_type": "markdown",
   "id": "ec970916-3b31-4629-86d1-7f234f4be229",
   "metadata": {},
   "source": [
    "# Get dataset Intersections\n",
    "* Best way to do this is to get all combinations of 7 algorithms and subtract out the combinations that don't have at least 1 KGE or 1 PBM"
   ]
  },
  {
   "cell_type": "markdown",
   "id": "321b9374",
   "metadata": {},
   "source": [
    "## Create a list of algorithm combinations"
   ]
  },
  {
   "cell_type": "code",
   "execution_count": 6,
   "id": "eb9cc479-d72b-437c-8a84-1d41dd562847",
   "metadata": {},
   "outputs": [],
   "source": [
    "# get a list of tuples of all combinations of algorithm results\n",
    "algos = [\"CBR\", \"pCBR\", \"Rephetio\", \"TransE\", \"DistMult\", \"ComplEx\", \"RotatE\"]\n",
    "algo_combos = [\n",
    "    j\n",
    "    for i in [\n",
    "        list(itertools.combinations(algos, combo_sz))\n",
    "        for combo_sz in range(2, len(algos) + 1)\n",
    "    ]\n",
    "    for j in i\n",
    "]"
   ]
  },
  {
   "cell_type": "code",
   "execution_count": 7,
   "id": "e1508c74",
   "metadata": {},
   "outputs": [
    {
     "name": "stdout",
     "output_type": "stream",
     "text": [
      "Combinations of Algorithms: 120\n",
      "Less combinations without at least a KGE or PBM: 105\n",
      "Index 74: ('Rephetio', 'TransE', 'ComplEx', 'RotatE')\n",
      "Index 40: ('Rephetio', 'DistMult', 'RotatE')\n",
      "Index 0: ('CBR', 'TransE')\n",
      "Index 19: ('CBR', 'Rephetio', 'RotatE')\n",
      "Index 69: ('pCBR', 'TransE', 'DistMult', 'RotatE')\n"
     ]
    }
   ],
   "source": [
    "# get only combinations with at least a path-based and embedding-based approach\n",
    "pbm = [\"CBR\", \"pCBR\", \"Rephetio\"]\n",
    "kge = [\"TransE\", \"DistMult\", \"ComplEx\", \"RotatE\"]\n",
    "algo_combos2 = [\n",
    "    i\n",
    "    for i in algo_combos\n",
    "    if (\n",
    "        len(set(i).intersection(set(pbm))) != 0\n",
    "        and len(set(i).intersection(set(kge))) != 0\n",
    "    )\n",
    "]\n",
    "print(\n",
    "    f\"Combinations of Algorithms: {len(algo_combos)}\\nLess combinations without at least a KGE or PBM: {len(algo_combos2)}\"\n",
    ")\n",
    "\n",
    "# Inspect random 5 indicies\n",
    "for i in np.random.choice(range(0, len(algo_combos2)), 5).tolist():\n",
    "    print(f\"Index {i}: {algo_combos2[i]}\")"
   ]
  },
  {
   "cell_type": "markdown",
   "id": "e347f1f5",
   "metadata": {},
   "source": [
    "## Write function to generate unions for a given combination"
   ]
  },
  {
   "cell_type": "code",
   "execution_count": 8,
   "id": "c0c0c0fb",
   "metadata": {},
   "outputs": [
    {
     "data": {
      "text/html": [
       "<div><style>\n",
       ".dataframe > thead > tr,\n",
       ".dataframe > tbody > tr {\n",
       "  text-align: right;\n",
       "  white-space: pre-wrap;\n",
       "}\n",
       "</style>\n",
       "<small>shape: (2, 5)</small><table border=\"1\" class=\"dataframe\"><thead><tr><th>h</th><th>method</th><th>predicted_answers</th><th>answers</th><th>rank</th></tr><tr><td>str</td><td>str</td><td>list[str]</td><td>str</td><td>i64</td></tr></thead><tbody><tr><td>&quot;CHEBI:135735&quot;</td><td>&quot;CBR&quot;</td><td>[&quot;DOID:3393&quot;, &quot;DOID:6000&quot;, … &quot;DOID:0060343&quot;]</td><td>&quot;DOID:10763&quot;</td><td>3</td></tr><tr><td>&quot;CHEBI:135735&quot;</td><td>&quot;CBR&quot;</td><td>[&quot;DOID:3393&quot;, &quot;DOID:6000&quot;, … &quot;DOID:0060343&quot;]</td><td>&quot;DOID:10591&quot;</td><td>12</td></tr></tbody></table></div>"
      ],
      "text/plain": [
       "shape: (2, 5)\n",
       "┌──────────────┬────────┬─────────────────────────────────┬────────────┬──────┐\n",
       "│ h            ┆ method ┆ predicted_answers               ┆ answers    ┆ rank │\n",
       "│ ---          ┆ ---    ┆ ---                             ┆ ---        ┆ ---  │\n",
       "│ str          ┆ str    ┆ list[str]                       ┆ str        ┆ i64  │\n",
       "╞══════════════╪════════╪═════════════════════════════════╪════════════╪══════╡\n",
       "│ CHEBI:135735 ┆ CBR    ┆ [\"DOID:3393\", \"DOID:6000\", … \"… ┆ DOID:10763 ┆ 3    │\n",
       "│ CHEBI:135735 ┆ CBR    ┆ [\"DOID:3393\", \"DOID:6000\", … \"… ┆ DOID:10591 ┆ 12   │\n",
       "└──────────────┴────────┴─────────────────────────────────┴────────────┴──────┘"
      ]
     },
     "execution_count": 8,
     "metadata": {},
     "output_type": "execute_result"
    }
   ],
   "source": [
    "# note rank here is greater than 1000 because we have 1000 random splits for some algorithms\n",
    "combined_df.head(2)"
   ]
  },
  {
   "cell_type": "code",
   "execution_count": 9,
   "id": "d3020e65",
   "metadata": {},
   "outputs": [
    {
     "data": {
      "text/html": [
       "<div><style>\n",
       ".dataframe > thead > tr,\n",
       ".dataframe > tbody > tr {\n",
       "  text-align: right;\n",
       "  white-space: pre-wrap;\n",
       "}\n",
       "</style>\n",
       "<small>shape: (75, 2)</small><table border=\"1\" class=\"dataframe\"><thead><tr><th>h</th><th>answers</th></tr><tr><td>str</td><td>list[str]</td></tr></thead><tbody><tr><td>&quot;CHEBI:8245&quot;</td><td>[&quot;DOID:2841&quot;]</td></tr><tr><td>&quot;CHEBI:50659&quot;</td><td>[&quot;DOID:0060224&quot;]</td></tr><tr><td>&quot;CHEBI:9683&quot;</td><td>[&quot;DOID:10763&quot;]</td></tr><tr><td>&quot;CHEBI:601027&quot;</td><td>[&quot;DOID:10763&quot;]</td></tr><tr><td>&quot;CHEBI:7478&quot;</td><td>[&quot;DOID:6364&quot;]</td></tr><tr><td>&hellip;</td><td>&hellip;</td></tr><tr><td>&quot;CHEBI:90863&quot;</td><td>[&quot;DOID:2513&quot;]</td></tr><tr><td>&quot;CHEBI:7824&quot;</td><td>[&quot;DOID:1826&quot;, &quot;DOID:1824&quot;]</td></tr><tr><td>&quot;CHEBI:6920&quot;</td><td>[&quot;DOID:10825&quot;, &quot;DOID:10763&quot;]</td></tr><tr><td>&quot;CHEBI:72317&quot;</td><td>[&quot;DOID:4450&quot;]</td></tr><tr><td>&quot;CHEBI:31691&quot;</td><td>[&quot;DOID:10763&quot;]</td></tr></tbody></table></div>"
      ],
      "text/plain": [
       "shape: (75, 2)\n",
       "┌──────────────┬──────────────────────────────┐\n",
       "│ h            ┆ answers                      │\n",
       "│ ---          ┆ ---                          │\n",
       "│ str          ┆ list[str]                    │\n",
       "╞══════════════╪══════════════════════════════╡\n",
       "│ CHEBI:8245   ┆ [\"DOID:2841\"]                │\n",
       "│ CHEBI:50659  ┆ [\"DOID:0060224\"]             │\n",
       "│ CHEBI:9683   ┆ [\"DOID:10763\"]               │\n",
       "│ CHEBI:601027 ┆ [\"DOID:10763\"]               │\n",
       "│ CHEBI:7478   ┆ [\"DOID:6364\"]                │\n",
       "│ …            ┆ …                            │\n",
       "│ CHEBI:90863  ┆ [\"DOID:2513\"]                │\n",
       "│ CHEBI:7824   ┆ [\"DOID:1826\", \"DOID:1824\"]   │\n",
       "│ CHEBI:6920   ┆ [\"DOID:10825\", \"DOID:10763\"] │\n",
       "│ CHEBI:72317  ┆ [\"DOID:4450\"]                │\n",
       "│ CHEBI:31691  ┆ [\"DOID:10763\"]               │\n",
       "└──────────────┴──────────────────────────────┘"
      ]
     },
     "execution_count": 9,
     "metadata": {},
     "output_type": "execute_result"
    }
   ],
   "source": [
    "(\n",
    "    combined_df.drop_nulls()\n",
    "    .filter(\n",
    "        pl.col(\"rank\") <= 100,\n",
    "        pl.col(\"method\").is_in(\n",
    "            [\"CBR\", \"ComplEx\", \"DistMult\", \"Rephetio\", \"RotatE\", \"TransE\", \"pCBR\"]\n",
    "        ),\n",
    "    )\n",
    "    .group_by([\"h\", \"answers\"])\n",
    "    .agg([\"method\", \"rank\"])\n",
    "    .filter(pl.col(\"method\").list.len() == pl.col(\"method\").list.len().max())\n",
    ").group_by(\"h\").agg(\"answers\")"
   ]
  },
  {
   "cell_type": "markdown",
   "id": "091c47d9",
   "metadata": {},
   "source": [
    "### write a function for getting unions and labelling true vs predicted answers"
   ]
  },
  {
   "cell_type": "code",
   "execution_count": 106,
   "id": "fc9b1005",
   "metadata": {},
   "outputs": [],
   "source": [
    "def get_union_answer(\n",
    "    df: pl.DataFrame = combined_df,\n",
    "    algos: list = [\n",
    "        \"CBR\",\n",
    "        \"pCBR\",\n",
    "        \"Rephetio\",\n",
    "        \"TransE\",\n",
    "        \"DistMult\",\n",
    "        \"ComplEx\",\n",
    "        \"RotatE\",\n",
    "    ],\n",
    "    cutoff: int = 100,\n",
    "    penalty: int = 101,\n",
    "):\n",
    "    \"\"\"\n",
    "    Get the unions of the algorithms in the dataframe. Fill nulls with a specified penalty value\n",
    "    \"\"\"\n",
    "    # filter for the interested algos\n",
    "    df = (\n",
    "        df.filter(pl.col(\"method\").is_in(algos))\n",
    "        .unique([\"h\", \"method\", \"answers\"])\n",
    "        .sort([\"method\", \"h\"])\n",
    "    )\n",
    "\n",
    "    # get the union of the predictions and their ranks\n",
    "    unions = (\n",
    "        df.select([\"h\", \"method\", \"predicted_answers\"])\n",
    "        .unique()\n",
    "        .with_columns(pl.col(\"predicted_answers\").list.unique(maintain_order=True))\n",
    "        .with_columns(rank=pl.int_ranges(1, pl.col(\"predicted_answers\").list.len() + 1))\n",
    "        .explode([\"predicted_answers\", \"rank\"])\n",
    "        .filter(pl.col(\"rank\") <= cutoff)\n",
    "        .fill_null(penalty)  # fill null with penalty\n",
    "        .group_by([\"h\", \"predicted_answers\"], maintain_order=True)\n",
    "        .agg([\"method\", \"rank\"])\n",
    "        .unique()\n",
    "        .rename(\n",
    "            {\"predicted_answers\": \"answers\"}\n",
    "        )  # change predicted_answers to just answers to merge the dataframes together\n",
    "        .with_columns(\n",
    "            is_answer=False\n",
    "        )  # assign an identifier to the intersection as a true/false answer\n",
    "    )\n",
    "\n",
    "    # call the true ranks from the original dataframe\n",
    "    true_filt_df = (\n",
    "        df.filter(pl.col(\"rank\") <= cutoff)\n",
    "        .fill_null(penalty)\n",
    "        .group_by([\"h\", \"answers\"], maintain_order=True)\n",
    "        .agg([\"method\", \"rank\"])\n",
    "        .with_columns(\n",
    "            is_answer=True\n",
    "        )  # assign an identifier to the intersection as a true/false answer\n",
    "    )\n",
    "    # ensure answers aren't in 'is_answer'. Do an anti join for this\n",
    "    unions = unions.join(true_filt_df, on=[\"h\", \"answers\"], how=\"anti\")\n",
    "\n",
    "    # combine dataframes\n",
    "    unions = pl.concat([unions, true_filt_df])\n",
    "\n",
    "    # pad the dataframe with penalty values and missing methods\n",
    "    unions = (\n",
    "        unions.with_columns(\n",
    "            pl.lit(penalty)\n",
    "            .repeat_by(len(algos) - pl.col(\"rank\").list.len())\n",
    "            .alias(\"pad\"),\n",
    "            pl.col(\"method\")\n",
    "            .list.set_symmetric_difference(algos)\n",
    "            .alias(\"missing_methods\"),\n",
    "        )\n",
    "        .with_columns(\n",
    "            pl.col(\"rank\").list.concat(pl.col(\"pad\")),\n",
    "            pl.col(\"method\").list.concat(pl.col(\"missing_methods\")),\n",
    "        )\n",
    "        .drop([\"pad\", \"missing_methods\"])\n",
    "    )\n",
    "    return unions"
   ]
  },
  {
   "cell_type": "code",
   "execution_count": 107,
   "id": "e7d92c99",
   "metadata": {},
   "outputs": [],
   "source": [
    "x = get_union_answer()"
   ]
  },
  {
   "cell_type": "code",
   "execution_count": 108,
   "id": "63e1dd26",
   "metadata": {},
   "outputs": [
    {
     "data": {
      "text/html": [
       "<div><style>\n",
       ".dataframe > thead > tr,\n",
       ".dataframe > tbody > tr {\n",
       "  text-align: right;\n",
       "  white-space: pre-wrap;\n",
       "}\n",
       "</style>\n",
       "<small>shape: (2, 5)</small><table border=\"1\" class=\"dataframe\"><thead><tr><th>h</th><th>answers</th><th>method</th><th>rank</th><th>is_answer</th></tr><tr><td>str</td><td>str</td><td>list[str]</td><td>list[i64]</td><td>bool</td></tr></thead><tbody><tr><td>&quot;CHEBI:32271&quot;</td><td>&quot;DOID:12932&quot;</td><td>[&quot;TransE&quot;, &quot;CBR&quot;, … &quot;RotatE&quot;]</td><td>[49, 101, … 101]</td><td>false</td></tr><tr><td>&quot;CHEBI:4728&quot;</td><td>&quot;KEGG:hsa05310&quot;</td><td>[&quot;pCBR&quot;, &quot;CBR&quot;, … &quot;RotatE&quot;]</td><td>[27, 101, … 101]</td><td>false</td></tr></tbody></table></div>"
      ],
      "text/plain": [
       "shape: (2, 5)\n",
       "┌─────────────┬───────────────┬───────────────────────────────┬──────────────────┬───────────┐\n",
       "│ h           ┆ answers       ┆ method                        ┆ rank             ┆ is_answer │\n",
       "│ ---         ┆ ---           ┆ ---                           ┆ ---              ┆ ---       │\n",
       "│ str         ┆ str           ┆ list[str]                     ┆ list[i64]        ┆ bool      │\n",
       "╞═════════════╪═══════════════╪═══════════════════════════════╪══════════════════╪═══════════╡\n",
       "│ CHEBI:32271 ┆ DOID:12932    ┆ [\"TransE\", \"CBR\", … \"RotatE\"] ┆ [49, 101, … 101] ┆ false     │\n",
       "│ CHEBI:4728  ┆ KEGG:hsa05310 ┆ [\"pCBR\", \"CBR\", … \"RotatE\"]   ┆ [27, 101, … 101] ┆ false     │\n",
       "└─────────────┴───────────────┴───────────────────────────────┴──────────────────┴───────────┘"
      ]
     },
     "execution_count": 108,
     "metadata": {},
     "output_type": "execute_result"
    }
   ],
   "source": [
    "x.head(2)"
   ]
  },
  {
   "cell_type": "code",
   "execution_count": 111,
   "id": "6aafde7a",
   "metadata": {},
   "outputs": [
    {
     "data": {
      "text/html": [
       "<div><style>\n",
       ".dataframe > thead > tr,\n",
       ".dataframe > tbody > tr {\n",
       "  text-align: right;\n",
       "  white-space: pre-wrap;\n",
       "}\n",
       "</style>\n",
       "<small>shape: (0, 5)</small><table border=\"1\" class=\"dataframe\"><thead><tr><th>h</th><th>answers</th><th>method</th><th>rank</th><th>is_answer</th></tr><tr><td>str</td><td>str</td><td>list[str]</td><td>list[i64]</td><td>bool</td></tr></thead><tbody></tbody></table></div>"
      ],
      "text/plain": [
       "shape: (0, 5)\n",
       "┌─────┬─────────┬───────────┬───────────┬───────────┐\n",
       "│ h   ┆ answers ┆ method    ┆ rank      ┆ is_answer │\n",
       "│ --- ┆ ---     ┆ ---       ┆ ---       ┆ ---       │\n",
       "│ str ┆ str     ┆ list[str] ┆ list[i64] ┆ bool      │\n",
       "╞═════╪═════════╪═══════════╪═══════════╪═══════════╡\n",
       "└─────┴─────────┴───────────┴───────────┴───────────┘"
      ]
     },
     "execution_count": 111,
     "metadata": {},
     "output_type": "execute_result"
    }
   ],
   "source": [
    "# are there any entries with all penalty values?\n",
    "\n",
    "x.filter(pl.col(\"rank\") == [101, 101, 101, 101, 101, 101, 101])"
   ]
  },
  {
   "cell_type": "markdown",
   "id": "202482c6",
   "metadata": {},
   "source": [
    "#### write a function for getting the ranks"
   ]
  },
  {
   "cell_type": "code",
   "execution_count": 112,
   "id": "6ad76d7f",
   "metadata": {},
   "outputs": [],
   "source": [
    "# given the resulting dataframe of true and predicted answers, generate ranks\n",
    "\n",
    "\n",
    "def get_ranks(df: pl.DataFrame) -> pl.DataFrame:\n",
    "    \"\"\"\n",
    "    Get the ranks of the true and predicted answers\n",
    "    \"\"\"\n",
    "\n",
    "    # get the ranks of the true and predicted answers\n",
    "    df = (\n",
    "        df.with_columns(pl.col(\"rank\").list.mean())\n",
    "        .sort([\"rank\"])\n",
    "        .group_by(\"h\", maintain_order=True)\n",
    "        .agg([\"method\", \"answers\", \"rank\", \"is_answer\"])\n",
    "        .with_columns(\n",
    "            pl.col(\"method\").list.first(),\n",
    "            pl.col(\"rank\")  # ranking of the answers\n",
    "            .list.eval(pl.element().rank(method=\"dense\"))\n",
    "            .alias(\"filt_rank\"),\n",
    "        )\n",
    "    )\n",
    "\n",
    "    return df"
   ]
  },
  {
   "cell_type": "code",
   "execution_count": 113,
   "id": "236f7d37",
   "metadata": {},
   "outputs": [
    {
     "data": {
      "text/html": [
       "<div><style>\n",
       ".dataframe > thead > tr,\n",
       ".dataframe > tbody > tr {\n",
       "  text-align: right;\n",
       "  white-space: pre-wrap;\n",
       "}\n",
       "</style>\n",
       "<small>shape: (182_791, 5)</small><table border=\"1\" class=\"dataframe\"><thead><tr><th>h</th><th>answers</th><th>method</th><th>rank</th><th>is_answer</th></tr><tr><td>str</td><td>str</td><td>list[str]</td><td>list[i64]</td><td>bool</td></tr></thead><tbody><tr><td>&quot;CHEBI:82701&quot;</td><td>&quot;NCBIGene:2625&quot;</td><td>[&quot;DistMult&quot;, &quot;CBR&quot;, … &quot;RotatE&quot;]</td><td>[67, 101, … 101]</td><td>false</td></tr><tr><td>&quot;IKEY:YSUUAJQQWBEIMR-UHFFFAOYSA…</td><td>&quot;HP:0001662&quot;</td><td>[&quot;ComplEx&quot;, &quot;CBR&quot;, … &quot;RotatE&quot;]</td><td>[39, 32, … 101]</td><td>false</td></tr><tr><td>&quot;CHEBI:36704&quot;</td><td>&quot;DOID:60145&quot;</td><td>[&quot;RotatE&quot;, &quot;CBR&quot;, … &quot;ComplEx&quot;]</td><td>[31, 101, … 101]</td><td>false</td></tr><tr><td>&quot;CHEBI:5784&quot;</td><td>&quot;DOID:2585&quot;</td><td>[&quot;TransE&quot;, &quot;DistMult&quot;, … &quot;RotatE&quot;]</td><td>[19, 19, … 101]</td><td>false</td></tr><tr><td>&quot;CHEBI:601027&quot;</td><td>&quot;DOID:1943&quot;</td><td>[&quot;pCBR&quot;, &quot;CBR&quot;, … &quot;RotatE&quot;]</td><td>[40, 101, … 101]</td><td>false</td></tr><tr><td>&hellip;</td><td>&hellip;</td><td>&hellip;</td><td>&hellip;</td><td>&hellip;</td></tr><tr><td>&quot;CHEBI:80630&quot;</td><td>&quot;DOID:1799&quot;</td><td>[&quot;pCBR&quot;, &quot;CBR&quot;, … &quot;RotatE&quot;]</td><td>[22, 101, … 101]</td><td>true</td></tr><tr><td>&quot;CHEBI:8768&quot;</td><td>&quot;DOID:13976&quot;</td><td>[&quot;pCBR&quot;, &quot;CBR&quot;, … &quot;RotatE&quot;]</td><td>[1, 101, … 101]</td><td>true</td></tr><tr><td>&quot;CHEBI:8768&quot;</td><td>&quot;DOID:0050782&quot;</td><td>[&quot;pCBR&quot;, &quot;CBR&quot;, … &quot;RotatE&quot;]</td><td>[1, 101, … 101]</td><td>true</td></tr><tr><td>&quot;CHEBI:92579&quot;</td><td>&quot;DOID:10459&quot;</td><td>[&quot;pCBR&quot;, &quot;CBR&quot;, … &quot;RotatE&quot;]</td><td>[49, 101, … 101]</td><td>true</td></tr><tr><td>&quot;CHEBI:92579&quot;</td><td>&quot;MESH:D000339&quot;</td><td>[&quot;pCBR&quot;, &quot;CBR&quot;, … &quot;RotatE&quot;]</td><td>[62, 101, … 101]</td><td>true</td></tr></tbody></table></div>"
      ],
      "text/plain": [
       "shape: (182_791, 5)\n",
       "┌─────────────────────────┬───────────────┬─────────────────────────┬──────────────────┬───────────┐\n",
       "│ h                       ┆ answers       ┆ method                  ┆ rank             ┆ is_answer │\n",
       "│ ---                     ┆ ---           ┆ ---                     ┆ ---              ┆ ---       │\n",
       "│ str                     ┆ str           ┆ list[str]               ┆ list[i64]        ┆ bool      │\n",
       "╞═════════════════════════╪═══════════════╪═════════════════════════╪══════════════════╪═══════════╡\n",
       "│ CHEBI:82701             ┆ NCBIGene:2625 ┆ [\"DistMult\", \"CBR\", …   ┆ [67, 101, … 101] ┆ false     │\n",
       "│                         ┆               ┆ \"RotatE\"…               ┆                  ┆           │\n",
       "│ IKEY:YSUUAJQQWBEIMR-UHF ┆ HP:0001662    ┆ [\"ComplEx\", \"CBR\", …    ┆ [39, 32, … 101]  ┆ false     │\n",
       "│ FFAOYSA…                ┆               ┆ \"RotatE\"]               ┆                  ┆           │\n",
       "│ CHEBI:36704             ┆ DOID:60145    ┆ [\"RotatE\", \"CBR\", …     ┆ [31, 101, … 101] ┆ false     │\n",
       "│                         ┆               ┆ \"ComplEx\"]              ┆                  ┆           │\n",
       "│ CHEBI:5784              ┆ DOID:2585     ┆ [\"TransE\", \"DistMult\",  ┆ [19, 19, … 101]  ┆ false     │\n",
       "│                         ┆               ┆ … \"Rota…                ┆                  ┆           │\n",
       "│ CHEBI:601027            ┆ DOID:1943     ┆ [\"pCBR\", \"CBR\", …       ┆ [40, 101, … 101] ┆ false     │\n",
       "│                         ┆               ┆ \"RotatE\"]               ┆                  ┆           │\n",
       "│ …                       ┆ …             ┆ …                       ┆ …                ┆ …         │\n",
       "│ CHEBI:80630             ┆ DOID:1799     ┆ [\"pCBR\", \"CBR\", …       ┆ [22, 101, … 101] ┆ true      │\n",
       "│                         ┆               ┆ \"RotatE\"]               ┆                  ┆           │\n",
       "│ CHEBI:8768              ┆ DOID:13976    ┆ [\"pCBR\", \"CBR\", …       ┆ [1, 101, … 101]  ┆ true      │\n",
       "│                         ┆               ┆ \"RotatE\"]               ┆                  ┆           │\n",
       "│ CHEBI:8768              ┆ DOID:0050782  ┆ [\"pCBR\", \"CBR\", …       ┆ [1, 101, … 101]  ┆ true      │\n",
       "│                         ┆               ┆ \"RotatE\"]               ┆                  ┆           │\n",
       "│ CHEBI:92579             ┆ DOID:10459    ┆ [\"pCBR\", \"CBR\", …       ┆ [49, 101, … 101] ┆ true      │\n",
       "│                         ┆               ┆ \"RotatE\"]               ┆                  ┆           │\n",
       "│ CHEBI:92579             ┆ MESH:D000339  ┆ [\"pCBR\", \"CBR\", …       ┆ [62, 101, … 101] ┆ true      │\n",
       "│                         ┆               ┆ \"RotatE\"]               ┆                  ┆           │\n",
       "└─────────────────────────┴───────────────┴─────────────────────────┴──────────────────┴───────────┘"
      ]
     },
     "execution_count": 113,
     "metadata": {},
     "output_type": "execute_result"
    }
   ],
   "source": [
    "get_union_answer()"
   ]
  },
  {
   "cell_type": "code",
   "execution_count": 114,
   "id": "9d0ecd65",
   "metadata": {},
   "outputs": [
    {
     "data": {
      "text/html": [
       "<div><style>\n",
       ".dataframe > thead > tr,\n",
       ".dataframe > tbody > tr {\n",
       "  text-align: right;\n",
       "  white-space: pre-wrap;\n",
       "}\n",
       "</style>\n",
       "<small>shape: (373, 6)</small><table border=\"1\" class=\"dataframe\"><thead><tr><th>h</th><th>method</th><th>answers</th><th>rank</th><th>is_answer</th><th>filt_rank</th></tr><tr><td>str</td><td>list[str]</td><td>list[str]</td><td>list[f64]</td><td>list[bool]</td><td>list[u32]</td></tr></thead><tbody><tr><td>&quot;CHEBI:6073&quot;</td><td>[&quot;CBR&quot;, &quot;ComplEx&quot;, … &quot;pCBR&quot;]</td><td>[&quot;DOID:10763&quot;, &quot;DOID:10825&quot;, … &quot;DOID:12010&quot;]</td><td>[2.428571, 17.428571, … 100.857143]</td><td>[true, true, … false]</td><td>[1, 2, … 166]</td></tr><tr><td>&quot;CHEBI:5557&quot;</td><td>[&quot;CBR&quot;, &quot;ComplEx&quot;, … &quot;pCBR&quot;]</td><td>[&quot;DOID:10763&quot;, &quot;DOID:10825&quot;, … &quot;KEGG:hsa05323&quot;]</td><td>[2.857143, 21.0, … 100.857143]</td><td>[true, true, … false]</td><td>[1, 2, … 171]</td></tr><tr><td>&quot;CHEBI:5556&quot;</td><td>[&quot;CBR&quot;, &quot;ComplEx&quot;, … &quot;pCBR&quot;]</td><td>[&quot;DOID:10763&quot;, &quot;DOID:10825&quot;, … &quot;DOID:9620&quot;]</td><td>[3.142857, 15.571429, … 100.857143]</td><td>[true, true, … false]</td><td>[1, 2, … 173]</td></tr><tr><td>&quot;CHEBI:135735&quot;</td><td>[&quot;CBR&quot;, &quot;ComplEx&quot;, … &quot;pCBR&quot;]</td><td>[&quot;DOID:10763&quot;, &quot;DOID:10825&quot;, … &quot;DOID:10808&quot;]</td><td>[3.285714, 17.857143, … 100.857143]</td><td>[true, true, … false]</td><td>[1, 2, … 165]</td></tr><tr><td>&quot;CHEBI:3698&quot;</td><td>[&quot;CBR&quot;, &quot;ComplEx&quot;, … &quot;pCBR&quot;]</td><td>[&quot;DOID:10763&quot;, &quot;DOID:10825&quot;, … &quot;DOID:916&quot;]</td><td>[3.571429, 18.0, … 100.857143]</td><td>[true, true, … false]</td><td>[1, 2, … 166]</td></tr><tr><td>&hellip;</td><td>&hellip;</td><td>&hellip;</td><td>&hellip;</td><td>&hellip;</td><td>&hellip;</td></tr><tr><td>&quot;CHEBI:18050&quot;</td><td>[&quot;TransE&quot;, &quot;CBR&quot;, … &quot;RotatE&quot;]</td><td>[&quot;DOID:10283&quot;, &quot;DOID:10534&quot;, … &quot;GO:0035998&quot;]</td><td>[62.857143, 67.428571, … 100.857143]</td><td>[false, false, … false]</td><td>[1, 2, … 129]</td></tr><tr><td>&quot;CHEBI:75274&quot;</td><td>[&quot;CBR&quot;, &quot;ComplEx&quot;, … &quot;RotatE&quot;]</td><td>[&quot;DOID:10763&quot;, &quot;DOID:684&quot;, … &quot;DOID:10128&quot;]</td><td>[63.142857, 72.285714, … 100.857143]</td><td>[false, false, … false]</td><td>[1, 2, … 136]</td></tr><tr><td>&quot;CHEBI:64198&quot;</td><td>[&quot;RotatE&quot;, &quot;TransE&quot;, … &quot;ComplEx&quot;]</td><td>[&quot;DOID:2841&quot;, &quot;DOID:1826&quot;, … &quot;MONDO:0014399&quot;]</td><td>[64.428571, 71.714286, … 100.857143]</td><td>[false, false, … false]</td><td>[1, 2, … 136]</td></tr><tr><td>&quot;CHEBI:17933&quot;</td><td>[&quot;CBR&quot;, &quot;Rephetio&quot;, … &quot;RotatE&quot;]</td><td>[&quot;DOID:10283&quot;, &quot;DOID:10534&quot;, … &quot;DOID:2321&quot;]</td><td>[66.285714, 67.571429, … 100.857143]</td><td>[false, false, … false]</td><td>[1, 2, … 144]</td></tr><tr><td>&quot;CHEBI:68840&quot;</td><td>[&quot;ComplEx&quot;, &quot;TransE&quot;, … &quot;RotatE&quot;]</td><td>[&quot;DOID:60164&quot;, null, … &quot;DOID:2132&quot;]</td><td>[68.0, 72.428571, … 100.857143]</td><td>[false, false, … false]</td><td>[1, 2, … 125]</td></tr></tbody></table></div>"
      ],
      "text/plain": [
       "shape: (373, 6)\n",
       "┌──────────────┬────────────────┬────────────────┬────────────────┬────────────────┬───────────────┐\n",
       "│ h            ┆ method         ┆ answers        ┆ rank           ┆ is_answer      ┆ filt_rank     │\n",
       "│ ---          ┆ ---            ┆ ---            ┆ ---            ┆ ---            ┆ ---           │\n",
       "│ str          ┆ list[str]      ┆ list[str]      ┆ list[f64]      ┆ list[bool]     ┆ list[u32]     │\n",
       "╞══════════════╪════════════════╪════════════════╪════════════════╪════════════════╪═══════════════╡\n",
       "│ CHEBI:6073   ┆ [\"CBR\",        ┆ [\"DOID:10763\", ┆ [2.428571,     ┆ [true, true, … ┆ [1, 2, … 166] │\n",
       "│              ┆ \"ComplEx\", …   ┆ \"DOID:10825\",  ┆ 17.428571, …   ┆ false]         ┆               │\n",
       "│              ┆ \"pCBR\"]        ┆ ……             ┆ 100.85…        ┆                ┆               │\n",
       "│ CHEBI:5557   ┆ [\"CBR\",        ┆ [\"DOID:10763\", ┆ [2.857143,     ┆ [true, true, … ┆ [1, 2, … 171] │\n",
       "│              ┆ \"ComplEx\", …   ┆ \"DOID:10825\",  ┆ 21.0, …        ┆ false]         ┆               │\n",
       "│              ┆ \"pCBR\"]        ┆ ……             ┆ 100.857143]    ┆                ┆               │\n",
       "│ CHEBI:5556   ┆ [\"CBR\",        ┆ [\"DOID:10763\", ┆ [3.142857,     ┆ [true, true, … ┆ [1, 2, … 173] │\n",
       "│              ┆ \"ComplEx\", …   ┆ \"DOID:10825\",  ┆ 15.571429, …   ┆ false]         ┆               │\n",
       "│              ┆ \"pCBR\"]        ┆ ……             ┆ 100.85…        ┆                ┆               │\n",
       "│ CHEBI:135735 ┆ [\"CBR\",        ┆ [\"DOID:10763\", ┆ [3.285714,     ┆ [true, true, … ┆ [1, 2, … 165] │\n",
       "│              ┆ \"ComplEx\", …   ┆ \"DOID:10825\",  ┆ 17.857143, …   ┆ false]         ┆               │\n",
       "│              ┆ \"pCBR\"]        ┆ ……             ┆ 100.85…        ┆                ┆               │\n",
       "│ CHEBI:3698   ┆ [\"CBR\",        ┆ [\"DOID:10763\", ┆ [3.571429,     ┆ [true, true, … ┆ [1, 2, … 166] │\n",
       "│              ┆ \"ComplEx\", …   ┆ \"DOID:10825\",  ┆ 18.0, …        ┆ false]         ┆               │\n",
       "│              ┆ \"pCBR\"]        ┆ ……             ┆ 100.857143]    ┆                ┆               │\n",
       "│ …            ┆ …              ┆ …              ┆ …              ┆ …              ┆ …             │\n",
       "│ CHEBI:18050  ┆ [\"TransE\",     ┆ [\"DOID:10283\", ┆ [62.857143,    ┆ [false, false, ┆ [1, 2, … 129] │\n",
       "│              ┆ \"CBR\", …       ┆ \"DOID:10534\",  ┆ 67.428571, …   ┆ … false]       ┆               │\n",
       "│              ┆ \"RotatE\"]      ┆ ……             ┆ 100.8…         ┆                ┆               │\n",
       "│ CHEBI:75274  ┆ [\"CBR\",        ┆ [\"DOID:10763\", ┆ [63.142857,    ┆ [false, false, ┆ [1, 2, … 136] │\n",
       "│              ┆ \"ComplEx\", …   ┆ \"DOID:684\", …  ┆ 72.285714, …   ┆ … false]       ┆               │\n",
       "│              ┆ \"RotatE\"]      ┆ \"…             ┆ 100.8…         ┆                ┆               │\n",
       "│ CHEBI:64198  ┆ [\"RotatE\",     ┆ [\"DOID:2841\",  ┆ [64.428571,    ┆ [false, false, ┆ [1, 2, … 136] │\n",
       "│              ┆ \"TransE\", …    ┆ \"DOID:1826\", … ┆ 71.714286, …   ┆ … false]       ┆               │\n",
       "│              ┆ \"ComplE…       ┆ \"…             ┆ 100.8…         ┆                ┆               │\n",
       "│ CHEBI:17933  ┆ [\"CBR\",        ┆ [\"DOID:10283\", ┆ [66.285714,    ┆ [false, false, ┆ [1, 2, … 144] │\n",
       "│              ┆ \"Rephetio\", …  ┆ \"DOID:10534\",  ┆ 67.571429, …   ┆ … false]       ┆               │\n",
       "│              ┆ \"RotatE\"…      ┆ ……             ┆ 100.8…         ┆                ┆               │\n",
       "│ CHEBI:68840  ┆ [\"ComplEx\",    ┆ [\"DOID:60164\", ┆ [68.0,         ┆ [false, false, ┆ [1, 2, … 125] │\n",
       "│              ┆ \"TransE\", …    ┆ null, …        ┆ 72.428571, …   ┆ … false]       ┆               │\n",
       "│              ┆ \"Rotat…        ┆ \"DOID:2…       ┆ 100.857143…    ┆                ┆               │\n",
       "└──────────────┴────────────────┴────────────────┴────────────────┴────────────────┴───────────────┘"
      ]
     },
     "execution_count": 114,
     "metadata": {},
     "output_type": "execute_result"
    }
   ],
   "source": [
    "union_7_res = get_ranks(get_union_answer())\n",
    "union_7_res"
   ]
  },
  {
   "cell_type": "markdown",
   "id": "487ff3a0",
   "metadata": {},
   "source": [
    "# Calculate ranking performance"
   ]
  },
  {
   "cell_type": "markdown",
   "id": "e9ca913c",
   "metadata": {},
   "source": [
    "## setup test and results"
   ]
  },
  {
   "cell_type": "markdown",
   "id": "debe08a7",
   "metadata": {},
   "source": [
    "### import test file"
   ]
  },
  {
   "cell_type": "code",
   "execution_count": 115,
   "id": "432763c2",
   "metadata": {},
   "outputs": [],
   "source": [
    "test = pl.read_parquet(\"./data_output/unified_test_set.parquet\")"
   ]
  },
  {
   "cell_type": "code",
   "execution_count": 116,
   "id": "7198531b",
   "metadata": {},
   "outputs": [
    {
     "data": {
      "text/html": [
       "<div><style>\n",
       ".dataframe > thead > tr,\n",
       ".dataframe > tbody > tr {\n",
       "  text-align: right;\n",
       "  white-space: pre-wrap;\n",
       "}\n",
       "</style>\n",
       "<small>shape: (2, 2)</small><table border=\"1\" class=\"dataframe\"><thead><tr><th>h</th><th>answers</th></tr><tr><td>str</td><td>str</td></tr></thead><tbody><tr><td>&quot;CHEBI:4647&quot;</td><td>&quot;DOID:1686&quot;</td></tr><tr><td>&quot;CHEBI:15854&quot;</td><td>&quot;DOID:14067&quot;</td></tr></tbody></table></div>"
      ],
      "text/plain": [
       "shape: (2, 2)\n",
       "┌─────────────┬────────────┐\n",
       "│ h           ┆ answers    │\n",
       "│ ---         ┆ ---        │\n",
       "│ str         ┆ str        │\n",
       "╞═════════════╪════════════╡\n",
       "│ CHEBI:4647  ┆ DOID:1686  │\n",
       "│ CHEBI:15854 ┆ DOID:14067 │\n",
       "└─────────────┴────────────┘"
      ]
     },
     "execution_count": 116,
     "metadata": {},
     "output_type": "execute_result"
    }
   ],
   "source": [
    "test.head(2)"
   ]
  },
  {
   "cell_type": "code",
   "execution_count": 117,
   "id": "221828ee",
   "metadata": {},
   "outputs": [
    {
     "data": {
      "text/plain": [
       "(512, 2)"
      ]
     },
     "execution_count": 117,
     "metadata": {},
     "output_type": "execute_result"
    }
   ],
   "source": [
    "test.shape"
   ]
  },
  {
   "cell_type": "markdown",
   "id": "0217ea74",
   "metadata": {},
   "source": [
    "### get results dataframe"
   ]
  },
  {
   "cell_type": "code",
   "execution_count": 118,
   "id": "269ed903",
   "metadata": {},
   "outputs": [
    {
     "data": {
      "text/html": [
       "<div><style>\n",
       ".dataframe > thead > tr,\n",
       ".dataframe > tbody > tr {\n",
       "  text-align: right;\n",
       "  white-space: pre-wrap;\n",
       "}\n",
       "</style>\n",
       "<small>shape: (182_791, 6)</small><table border=\"1\" class=\"dataframe\"><thead><tr><th>h</th><th>method</th><th>answers</th><th>rank</th><th>is_answer</th><th>filt_rank</th></tr><tr><td>str</td><td>list[str]</td><td>str</td><td>f64</td><td>bool</td><td>u32</td></tr></thead><tbody><tr><td>&quot;CHEBI:6073&quot;</td><td>[&quot;CBR&quot;, &quot;ComplEx&quot;, … &quot;pCBR&quot;]</td><td>&quot;DOID:10763&quot;</td><td>2.428571</td><td>true</td><td>1</td></tr><tr><td>&quot;CHEBI:6073&quot;</td><td>[&quot;CBR&quot;, &quot;ComplEx&quot;, … &quot;pCBR&quot;]</td><td>&quot;DOID:10825&quot;</td><td>17.428571</td><td>true</td><td>2</td></tr><tr><td>&quot;CHEBI:6073&quot;</td><td>[&quot;CBR&quot;, &quot;ComplEx&quot;, … &quot;pCBR&quot;]</td><td>&quot;DOID:6432&quot;</td><td>31.571429</td><td>true</td><td>3</td></tr><tr><td>&quot;CHEBI:6073&quot;</td><td>[&quot;CBR&quot;, &quot;ComplEx&quot;, … &quot;pCBR&quot;]</td><td>&quot;DOID:10824&quot;</td><td>31.571429</td><td>true</td><td>3</td></tr><tr><td>&quot;CHEBI:6073&quot;</td><td>[&quot;CBR&quot;, &quot;ComplEx&quot;, … &quot;pCBR&quot;]</td><td>&quot;DOID:10591&quot;</td><td>31.571429</td><td>true</td><td>3</td></tr><tr><td>&hellip;</td><td>&hellip;</td><td>&hellip;</td><td>&hellip;</td><td>&hellip;</td><td>&hellip;</td></tr><tr><td>&quot;CHEBI:68840&quot;</td><td>[&quot;ComplEx&quot;, &quot;TransE&quot;, … &quot;RotatE&quot;]</td><td>&quot;CHEBI:38658&quot;</td><td>100.714286</td><td>false</td><td>124</td></tr><tr><td>&quot;CHEBI:68840&quot;</td><td>[&quot;ComplEx&quot;, &quot;TransE&quot;, … &quot;RotatE&quot;]</td><td>&quot;DOID:0070008&quot;</td><td>100.857143</td><td>false</td><td>125</td></tr><tr><td>&quot;CHEBI:68840&quot;</td><td>[&quot;ComplEx&quot;, &quot;TransE&quot;, … &quot;RotatE&quot;]</td><td>&quot;HP:0001324&quot;</td><td>100.857143</td><td>false</td><td>125</td></tr><tr><td>&quot;CHEBI:68840&quot;</td><td>[&quot;ComplEx&quot;, &quot;TransE&quot;, … &quot;RotatE&quot;]</td><td>&quot;GO:0005742&quot;</td><td>100.857143</td><td>false</td><td>125</td></tr><tr><td>&quot;CHEBI:68840&quot;</td><td>[&quot;ComplEx&quot;, &quot;TransE&quot;, … &quot;RotatE&quot;]</td><td>&quot;DOID:2132&quot;</td><td>100.857143</td><td>false</td><td>125</td></tr></tbody></table></div>"
      ],
      "text/plain": [
       "shape: (182_791, 6)\n",
       "┌─────────────┬────────────────────────────────┬──────────────┬────────────┬───────────┬───────────┐\n",
       "│ h           ┆ method                         ┆ answers      ┆ rank       ┆ is_answer ┆ filt_rank │\n",
       "│ ---         ┆ ---                            ┆ ---          ┆ ---        ┆ ---       ┆ ---       │\n",
       "│ str         ┆ list[str]                      ┆ str          ┆ f64        ┆ bool      ┆ u32       │\n",
       "╞═════════════╪════════════════════════════════╪══════════════╪════════════╪═══════════╪═══════════╡\n",
       "│ CHEBI:6073  ┆ [\"CBR\", \"ComplEx\", … \"pCBR\"]   ┆ DOID:10763   ┆ 2.428571   ┆ true      ┆ 1         │\n",
       "│ CHEBI:6073  ┆ [\"CBR\", \"ComplEx\", … \"pCBR\"]   ┆ DOID:10825   ┆ 17.428571  ┆ true      ┆ 2         │\n",
       "│ CHEBI:6073  ┆ [\"CBR\", \"ComplEx\", … \"pCBR\"]   ┆ DOID:6432    ┆ 31.571429  ┆ true      ┆ 3         │\n",
       "│ CHEBI:6073  ┆ [\"CBR\", \"ComplEx\", … \"pCBR\"]   ┆ DOID:10824   ┆ 31.571429  ┆ true      ┆ 3         │\n",
       "│ CHEBI:6073  ┆ [\"CBR\", \"ComplEx\", … \"pCBR\"]   ┆ DOID:10591   ┆ 31.571429  ┆ true      ┆ 3         │\n",
       "│ …           ┆ …                              ┆ …            ┆ …          ┆ …         ┆ …         │\n",
       "│ CHEBI:68840 ┆ [\"ComplEx\", \"TransE\", …        ┆ CHEBI:38658  ┆ 100.714286 ┆ false     ┆ 124       │\n",
       "│             ┆ \"Rotat…                        ┆              ┆            ┆           ┆           │\n",
       "│ CHEBI:68840 ┆ [\"ComplEx\", \"TransE\", …        ┆ DOID:0070008 ┆ 100.857143 ┆ false     ┆ 125       │\n",
       "│             ┆ \"Rotat…                        ┆              ┆            ┆           ┆           │\n",
       "│ CHEBI:68840 ┆ [\"ComplEx\", \"TransE\", …        ┆ HP:0001324   ┆ 100.857143 ┆ false     ┆ 125       │\n",
       "│             ┆ \"Rotat…                        ┆              ┆            ┆           ┆           │\n",
       "│ CHEBI:68840 ┆ [\"ComplEx\", \"TransE\", …        ┆ GO:0005742   ┆ 100.857143 ┆ false     ┆ 125       │\n",
       "│             ┆ \"Rotat…                        ┆              ┆            ┆           ┆           │\n",
       "│ CHEBI:68840 ┆ [\"ComplEx\", \"TransE\", …        ┆ DOID:2132    ┆ 100.857143 ┆ false     ┆ 125       │\n",
       "│             ┆ \"Rotat…                        ┆              ┆            ┆           ┆           │\n",
       "└─────────────┴────────────────────────────────┴──────────────┴────────────┴───────────┴───────────┘"
      ]
     },
     "execution_count": 118,
     "metadata": {},
     "output_type": "execute_result"
    }
   ],
   "source": [
    "union_7_expand_res = union_7_res.explode([\"answers\", \"is_answer\", \"rank\", \"filt_rank\"])\n",
    "union_7_expand_res"
   ]
  },
  {
   "cell_type": "markdown",
   "id": "640f026d",
   "metadata": {},
   "source": [
    "### join test with results to see  how many were predicted."
   ]
  },
  {
   "cell_type": "code",
   "execution_count": 119,
   "id": "63e86fec",
   "metadata": {},
   "outputs": [
    {
     "data": {
      "text/html": [
       "<div><style>\n",
       ".dataframe > thead > tr,\n",
       ".dataframe > tbody > tr {\n",
       "  text-align: right;\n",
       "  white-space: pre-wrap;\n",
       "}\n",
       "</style>\n",
       "<small>shape: (512, 5)</small><table border=\"1\" class=\"dataframe\"><thead><tr><th>h</th><th>answers</th><th>rank</th><th>is_answer</th><th>filt_rank</th></tr><tr><td>str</td><td>str</td><td>f64</td><td>bool</td><td>u32</td></tr></thead><tbody><tr><td>&quot;CHEBI:4647&quot;</td><td>&quot;DOID:1686&quot;</td><td>35.285714</td><td>true</td><td>5</td></tr><tr><td>&quot;CHEBI:15854&quot;</td><td>&quot;DOID:14067&quot;</td><td>37.571429</td><td>true</td><td>1</td></tr><tr><td>&quot;CHEBI:75988&quot;</td><td>&quot;KEGG:hsa05215&quot;</td><td>80.142857</td><td>true</td><td>53</td></tr><tr><td>&quot;CHEBI:42191&quot;</td><td>&quot;WD:Q441094&quot;</td><td>91.285714</td><td>true</td><td>89</td></tr><tr><td>&quot;CHEBI:28680&quot;</td><td>&quot;DOID:4708&quot;</td><td>null</td><td>null</td><td>null</td></tr><tr><td>&hellip;</td><td>&hellip;</td><td>&hellip;</td><td>&hellip;</td><td>&hellip;</td></tr><tr><td>&quot;CHEBI:31522&quot;</td><td>&quot;DOID:5822&quot;</td><td>77.285714</td><td>true</td><td>60</td></tr><tr><td>&quot;CHEBI:5004&quot;</td><td>&quot;DOID:60145&quot;</td><td>83.428571</td><td>true</td><td>42</td></tr><tr><td>&quot;CHEBI:64358&quot;</td><td>&quot;DOID:0110035&quot;</td><td>57.285714</td><td>true</td><td>8</td></tr><tr><td>&quot;CHEBI:28748&quot;</td><td>&quot;DOID:3004&quot;</td><td>94.0</td><td>true</td><td>129</td></tr><tr><td>&quot;CHEBI:50727&quot;</td><td>&quot;DOID:5825&quot;</td><td>81.714286</td><td>true</td><td>63</td></tr></tbody></table></div>"
      ],
      "text/plain": [
       "shape: (512, 5)\n",
       "┌─────────────┬───────────────┬───────────┬───────────┬───────────┐\n",
       "│ h           ┆ answers       ┆ rank      ┆ is_answer ┆ filt_rank │\n",
       "│ ---         ┆ ---           ┆ ---       ┆ ---       ┆ ---       │\n",
       "│ str         ┆ str           ┆ f64       ┆ bool      ┆ u32       │\n",
       "╞═════════════╪═══════════════╪═══════════╪═══════════╪═══════════╡\n",
       "│ CHEBI:4647  ┆ DOID:1686     ┆ 35.285714 ┆ true      ┆ 5         │\n",
       "│ CHEBI:15854 ┆ DOID:14067    ┆ 37.571429 ┆ true      ┆ 1         │\n",
       "│ CHEBI:75988 ┆ KEGG:hsa05215 ┆ 80.142857 ┆ true      ┆ 53        │\n",
       "│ CHEBI:42191 ┆ WD:Q441094    ┆ 91.285714 ┆ true      ┆ 89        │\n",
       "│ CHEBI:28680 ┆ DOID:4708     ┆ null      ┆ null      ┆ null      │\n",
       "│ …           ┆ …             ┆ …         ┆ …         ┆ …         │\n",
       "│ CHEBI:31522 ┆ DOID:5822     ┆ 77.285714 ┆ true      ┆ 60        │\n",
       "│ CHEBI:5004  ┆ DOID:60145    ┆ 83.428571 ┆ true      ┆ 42        │\n",
       "│ CHEBI:64358 ┆ DOID:0110035  ┆ 57.285714 ┆ true      ┆ 8         │\n",
       "│ CHEBI:28748 ┆ DOID:3004     ┆ 94.0      ┆ true      ┆ 129       │\n",
       "│ CHEBI:50727 ┆ DOID:5825     ┆ 81.714286 ┆ true      ┆ 63        │\n",
       "└─────────────┴───────────────┴───────────┴───────────┴───────────┘"
      ]
     },
     "execution_count": 119,
     "metadata": {},
     "output_type": "execute_result"
    }
   ],
   "source": [
    "union_res = test.join(\n",
    "    union_7_expand_res.select(pl.all().exclude([\"method\"])).filter(\n",
    "        pl.col(\"is_answer\") == True\n",
    "    ),\n",
    "    on=[\"h\", \"answers\"],\n",
    "    how=\"left\",\n",
    ")\n",
    "\n",
    "union_res"
   ]
  },
  {
   "cell_type": "markdown",
   "id": "593b8756",
   "metadata": {},
   "source": [
    "## calculate predictions (MRR/Hits@K)"
   ]
  },
  {
   "cell_type": "markdown",
   "id": "9feceb1c",
   "metadata": {},
   "source": [
    "### extract rank positions"
   ]
  },
  {
   "cell_type": "code",
   "execution_count": 120,
   "id": "aef79d47",
   "metadata": {},
   "outputs": [],
   "source": [
    "# unfiltered score_ls\n",
    "score_ls = union_res.with_columns(pl.col(\"filt_rank\").fill_null(1000000))[\n",
    "    \"filt_rank\"\n",
    "].to_numpy()\n",
    "\n",
    "# filtered score_ls\n",
    "filt_score_ls = union_res.drop_nulls()[\"filt_rank\"].to_numpy()"
   ]
  },
  {
   "cell_type": "markdown",
   "id": "81251e4a",
   "metadata": {},
   "source": [
    "### Performance"
   ]
  },
  {
   "cell_type": "code",
   "execution_count": 121,
   "id": "9e4b00b4",
   "metadata": {},
   "outputs": [],
   "source": [
    "def hitsatk(score: np.array, k: int = 10):\n",
    "    \"\"\"\n",
    "    Calculate the hits@k metric\n",
    "    \"\"\"\n",
    "    return np.sum(score <= k) / (score.shape[0])"
   ]
  },
  {
   "cell_type": "code",
   "execution_count": 82,
   "id": "08e4dbcd",
   "metadata": {},
   "outputs": [
    {
     "name": "stdout",
     "output_type": "stream",
     "text": [
      "MRR: 0.1613\n",
      "Hits@1: 0.0898\n",
      "Hits@3: 0.1602\n",
      "Hits@10: 0.3379\n"
     ]
    }
   ],
   "source": [
    "print(f\"MRR: {(1/score_ls).mean():.4f}\")\n",
    "print(f\"Hits@1: {hitsatk(score_ls,1):.4f}\")\n",
    "print(f\"Hits@3: {hitsatk(score_ls,3):.4f}\")\n",
    "print(f\"Hits@10: {hitsatk(score_ls,10):.4f}\")"
   ]
  },
  {
   "cell_type": "markdown",
   "id": "3543e7ad",
   "metadata": {},
   "source": [
    "# Generate intersections for all combinations"
   ]
  },
  {
   "cell_type": "code",
   "execution_count": 122,
   "id": "4d5a9dbd",
   "metadata": {},
   "outputs": [],
   "source": [
    "# get ranks of all combinations of length 2 to 7\n",
    "to_concat = list()\n",
    "for algos in algo_combos2:\n",
    "    to_concat.append(\n",
    "        get_ranks(get_union_answer(algos=algos)).explode(\n",
    "            [\"answers\", \"is_answer\", \"rank\", \"filt_rank\"]\n",
    "        )\n",
    "    )"
   ]
  },
  {
   "cell_type": "code",
   "execution_count": 123,
   "id": "f6a45a24",
   "metadata": {},
   "outputs": [
    {
     "data": {
      "text/html": [
       "<div><style>\n",
       ".dataframe > thead > tr,\n",
       ".dataframe > tbody > tr {\n",
       "  text-align: right;\n",
       "  white-space: pre-wrap;\n",
       "}\n",
       "</style>\n",
       "<small>shape: (2, 6)</small><table border=\"1\" class=\"dataframe\"><thead><tr><th>h</th><th>method</th><th>answers</th><th>rank</th><th>is_answer</th><th>filt_rank</th></tr><tr><td>str</td><td>list[str]</td><td>str</td><td>f64</td><td>bool</td><td>u32</td></tr></thead><tbody><tr><td>&quot;CHEBI:63638&quot;</td><td>[&quot;TransE&quot;, &quot;CBR&quot;]</td><td>&quot;DOID:12849&quot;</td><td>1.0</td><td>false</td><td>1</td></tr><tr><td>&quot;CHEBI:63638&quot;</td><td>[&quot;TransE&quot;, &quot;CBR&quot;]</td><td>&quot;DOID:1826&quot;</td><td>3.0</td><td>true</td><td>2</td></tr></tbody></table></div>"
      ],
      "text/plain": [
       "shape: (2, 6)\n",
       "┌─────────────┬───────────────────┬────────────┬──────┬───────────┬───────────┐\n",
       "│ h           ┆ method            ┆ answers    ┆ rank ┆ is_answer ┆ filt_rank │\n",
       "│ ---         ┆ ---               ┆ ---        ┆ ---  ┆ ---       ┆ ---       │\n",
       "│ str         ┆ list[str]         ┆ str        ┆ f64  ┆ bool      ┆ u32       │\n",
       "╞═════════════╪═══════════════════╪════════════╪══════╪═══════════╪═══════════╡\n",
       "│ CHEBI:63638 ┆ [\"TransE\", \"CBR\"] ┆ DOID:12849 ┆ 1.0  ┆ false     ┆ 1         │\n",
       "│ CHEBI:63638 ┆ [\"TransE\", \"CBR\"] ┆ DOID:1826  ┆ 3.0  ┆ true      ┆ 2         │\n",
       "└─────────────┴───────────────────┴────────────┴──────┴───────────┴───────────┘"
      ]
     },
     "execution_count": 123,
     "metadata": {},
     "output_type": "execute_result"
    }
   ],
   "source": [
    "union_df = pl.concat(to_concat)\n",
    "union_df.head(2)"
   ]
  },
  {
   "cell_type": "code",
   "execution_count": 124,
   "id": "93218152",
   "metadata": {},
   "outputs": [
    {
     "data": {
      "text/plain": [
       "(12030417, 6)"
      ]
     },
     "execution_count": 124,
     "metadata": {},
     "output_type": "execute_result"
    }
   ],
   "source": [
    "union_df.shape"
   ]
  },
  {
   "cell_type": "code",
   "execution_count": 125,
   "id": "dcccdbf1",
   "metadata": {},
   "outputs": [
    {
     "data": {
      "text/html": [
       "<div><style>\n",
       ".dataframe > thead > tr,\n",
       ".dataframe > tbody > tr {\n",
       "  text-align: right;\n",
       "  white-space: pre-wrap;\n",
       "}\n",
       "</style>\n",
       "<small>shape: (2, 7)</small><table border=\"1\" class=\"dataframe\"><thead><tr><th>h</th><th>method</th><th>answers</th><th>rank</th><th>is_answer</th><th>filt_rank</th><th>method_size</th></tr><tr><td>str</td><td>list[str]</td><td>str</td><td>f64</td><td>bool</td><td>u32</td><td>u32</td></tr></thead><tbody><tr><td>&quot;CHEBI:63638&quot;</td><td>[&quot;TransE&quot;, &quot;CBR&quot;]</td><td>&quot;DOID:12849&quot;</td><td>1.0</td><td>false</td><td>1</td><td>2</td></tr><tr><td>&quot;CHEBI:63638&quot;</td><td>[&quot;TransE&quot;, &quot;CBR&quot;]</td><td>&quot;DOID:1826&quot;</td><td>3.0</td><td>true</td><td>2</td><td>2</td></tr></tbody></table></div>"
      ],
      "text/plain": [
       "shape: (2, 7)\n",
       "┌─────────────┬───────────────────┬────────────┬──────┬───────────┬───────────┬─────────────┐\n",
       "│ h           ┆ method            ┆ answers    ┆ rank ┆ is_answer ┆ filt_rank ┆ method_size │\n",
       "│ ---         ┆ ---               ┆ ---        ┆ ---  ┆ ---       ┆ ---       ┆ ---         │\n",
       "│ str         ┆ list[str]         ┆ str        ┆ f64  ┆ bool      ┆ u32       ┆ u32         │\n",
       "╞═════════════╪═══════════════════╪════════════╪══════╪═══════════╪═══════════╪═════════════╡\n",
       "│ CHEBI:63638 ┆ [\"TransE\", \"CBR\"] ┆ DOID:12849 ┆ 1.0  ┆ false     ┆ 1         ┆ 2           │\n",
       "│ CHEBI:63638 ┆ [\"TransE\", \"CBR\"] ┆ DOID:1826  ┆ 3.0  ┆ true      ┆ 2         ┆ 2           │\n",
       "└─────────────┴───────────────────┴────────────┴──────┴───────────┴───────────┴─────────────┘"
      ]
     },
     "execution_count": 125,
     "metadata": {},
     "output_type": "execute_result"
    }
   ],
   "source": [
    "# get method combo size\n",
    "union_df = union_df.with_columns(pl.col(\"method\").list.len().alias(\"method_size\"))\n",
    "\n",
    "union_df.head(2)"
   ]
  },
  {
   "cell_type": "code",
   "execution_count": 126,
   "id": "ed8d7b89",
   "metadata": {},
   "outputs": [],
   "source": [
    "union_df.write_parquet(\"./data_output/union_method_combinations.parquet\")"
   ]
  },
  {
   "cell_type": "markdown",
   "id": "47ef1b0a",
   "metadata": {},
   "source": [
    "## Generate plot for intersection approach and check statistics"
   ]
  },
  {
   "cell_type": "code",
   "execution_count": 127,
   "id": "64836403",
   "metadata": {},
   "outputs": [],
   "source": [
    "union_df_pd = union_df.to_pandas()"
   ]
  },
  {
   "cell_type": "code",
   "execution_count": 129,
   "id": "dd1109be",
   "metadata": {},
   "outputs": [
    {
     "name": "stderr",
     "output_type": "stream",
     "text": [
      "/tmp/ipykernel_203937/3724905125.py:61: MatplotlibDeprecationWarning: The legendHandles attribute was deprecated in Matplotlib 3.7 and will be removed two minor releases later. Use legend_handles instead.\n",
      "  for lh in legend.legendHandles:\n"
     ]
    },
    {
     "data": {
      "image/png": "[encoded data removed]",
      "text/plain": [
       "<Figure size 640x480 with 1 Axes>"
      ]
     },
     "metadata": {},
     "output_type": "display_data"
    }
   ],
   "source": [
    "plt.rcParams[\"font.size\"] = 12\n",
    "fig, ax = plt.subplots()\n",
    "\n",
    "x, y, hue = \"method_size\", \"filt_rank\", \"is_answer\"\n",
    "\n",
    "sns.boxplot(\n",
    "    ax=ax,\n",
    "    data=union_df_pd,\n",
    "    x=x,\n",
    "    y=y,\n",
    "    hue=hue,\n",
    "    saturation=0.75,\n",
    "    width=0.20,\n",
    "    showfliers=False,\n",
    "    whis=0,\n",
    "    # whiskerprops=dict(color=\"black\"),\n",
    "    # capprops=dict(color=\"black\"),\n",
    ")\n",
    "\n",
    "# fixes weird alpha when applied to bordering\n",
    "alpha = 0.25\n",
    "for patch in ax.patches:\n",
    "    fc = patch.get_facecolor()\n",
    "    patch.set_facecolor(mpl.colors.to_rgba(fc, alpha))\n",
    "\n",
    "sns.violinplot(\n",
    "    ax=ax,\n",
    "    data=union_df_pd,\n",
    "    x=x,\n",
    "    y=y,\n",
    "    hue=hue,\n",
    "    split=True,\n",
    "    inner=None,\n",
    "    cut=0.1,\n",
    "    saturation=0.75,\n",
    ")\n",
    "\n",
    "for violin in ax.collections:\n",
    "    violin.set_alpha(0.5)\n",
    "\n",
    "# set labels\n",
    "ax.set(\n",
    "    ylim=[0.90, 300],\n",
    "    yscale=\"log\",\n",
    ")\n",
    "ax.set_xlabel(\"Algorithm Combinations\", fontsize=14)\n",
    "ax.set_ylabel(\"Ensemble Rank\", fontsize=14)\n",
    "\n",
    "sns.despine(ax=ax)\n",
    "\n",
    "# Get the handles and labels\n",
    "handles, labels = ax.get_legend_handles_labels()\n",
    "legend = plt.legend(\n",
    "    #    handles[0:2], labels[0:2], loc=(0.02, 0.88), frameon=False, borderaxespad=0\n",
    "    handles[0:2],\n",
    "    [\"Not Indication\", \"Indication\"],\n",
    "    loc=(0.02, 0.88),\n",
    "    frameon=False,\n",
    "    borderaxespad=0,\n",
    ")\n",
    "for lh in legend.legendHandles:\n",
    "    lh.set_alpha(0.75)\n",
    "\n",
    "plt.savefig(\"./figures/union_ensemble_rank.png\", dpi=400, bbox_inches=\"tight\")\n",
    "plt.show()"
   ]
  },
  {
   "cell_type": "markdown",
   "id": "8a776a3b",
   "metadata": {},
   "source": [
    "## Get stats on the union approach.\n",
    "* Intra-indications\n",
    "    * Based on the Kruskal-Wallace Test, at least one median was statistically different\n",
    "    * Method Size 2 is statistically different from size >=3\n",
    "    * Method Size 3 is statistically different from size >=4\n",
    "    * Method Size 4 is statistically different from size >=5\n",
    "    * Method Size 5 is statistically different from size >=6\n",
    "    * Method Size 6 is _NOT_ statistically different from size 7\n",
    "    \n",
    "* Intra-non-indications\n",
    "    * Method Size 2 is statistically different from size >=3\n",
    "    * Method Size 3 is statistically different from size >=4\n",
    "    * Method Size 4 is statistically different from size >=5\n",
    "    * Method Size 5 is statistically different from size >=6\n",
    "    * Method Size 6 is statistically different from size 7\n",
    "\n",
    "* Inter indications & non-indications\n",
    "    * Based on the Kruskal-Wallace Test, at least one median was statistically different\n",
    "    * For each set size, Indication rank was statistically different from Non-Indication rank"
   ]
  },
  {
   "cell_type": "markdown",
   "id": "c4dd4a08",
   "metadata": {},
   "source": [
    "### Intra indication\n",
    "* run non-parametric anova equivalent (kruskal-wallace) to observe if there's a difference in at least one of the group medians in the known Trues\n",
    "* run non-parametric paired t-test equivalent (mann-whitney) to observe differences between each pair."
   ]
  },
  {
   "cell_type": "markdown",
   "id": "8068cab4",
   "metadata": {},
   "source": [
    "#### Kruskal-Wallace"
   ]
  },
  {
   "cell_type": "code",
   "execution_count": 130,
   "id": "8733f1a5",
   "metadata": {},
   "outputs": [
    {
     "data": {
      "text/plain": [
       "KruskalResult(statistic=3210.1152954015047, pvalue=0.0)"
      ]
     },
     "execution_count": 130,
     "metadata": {},
     "output_type": "execute_result"
    }
   ],
   "source": [
    "# Results suggest that at least one median is statistically different from the other (intra-Indication set)\n",
    "scipy.stats.kruskal(\n",
    "    union_df.filter(pl.col(\"method_size\") == 2, pl.col(\"is_answer\") == True)[\"rank\"],\n",
    "    union_df.filter(pl.col(\"method_size\") == 3, pl.col(\"is_answer\") == True)[\"rank\"],\n",
    "    union_df.filter(pl.col(\"method_size\") == 4, pl.col(\"is_answer\") == True)[\"rank\"],\n",
    "    union_df.filter(pl.col(\"method_size\") == 5, pl.col(\"is_answer\") == True)[\"rank\"],\n",
    "    union_df.filter(pl.col(\"method_size\") == 6, pl.col(\"is_answer\") == True)[\"rank\"],\n",
    "    union_df.filter(pl.col(\"method_size\") == 7, pl.col(\"is_answer\") == True)[\"rank\"],\n",
    ")"
   ]
  },
  {
   "cell_type": "markdown",
   "id": "c2cf5330",
   "metadata": {},
   "source": [
    "#### Mann-Whitney U-test\n",
    "* Method Size 2 is statistically different from size >=3\n",
    "* Method Size 3 is statistically different from size >=4\n",
    "* Method Size 4 is statistically different from size >=5\n",
    "* Method Size 5 is statistically different from size >=6\n",
    "* Method Size 6 is _NOT_ statistically different from size 7"
   ]
  },
  {
   "cell_type": "code",
   "execution_count": 131,
   "id": "ffdc18fb",
   "metadata": {},
   "outputs": [
    {
     "data": {
      "text/plain": [
       "MannwhitneyuResult(statistic=632255691.0, pvalue=2.5036153552444635e-164)"
      ]
     },
     "execution_count": 131,
     "metadata": {},
     "output_type": "execute_result"
    }
   ],
   "source": [
    "# mann whitney to compare method_size 2 and 3\n",
    "scipy.stats.mannwhitneyu(\n",
    "    x=union_df.filter(pl.col(\"method_size\") == 2, pl.col(\"is_answer\") == True)[\"rank\"],\n",
    "    y=union_df.filter(pl.col(\"method_size\") == 3, pl.col(\"is_answer\") == True)[\"rank\"],\n",
    ")"
   ]
  },
  {
   "cell_type": "code",
   "execution_count": 132,
   "id": "3d468576",
   "metadata": {},
   "outputs": [
    {
     "data": {
      "text/plain": [
       "MannwhitneyuResult(statistic=2361671682.5, pvalue=2.5571884944796346e-99)"
      ]
     },
     "execution_count": 132,
     "metadata": {},
     "output_type": "execute_result"
    }
   ],
   "source": [
    "# mann whitney to compare method size 3 and 4\n",
    "scipy.stats.mannwhitneyu(\n",
    "    x=union_df.filter(pl.col(\"method_size\") == 3, pl.col(\"is_answer\") == True)[\"rank\"],\n",
    "    y=union_df.filter(pl.col(\"method_size\") == 4, pl.col(\"is_answer\") == True)[\"rank\"],\n",
    ")"
   ]
  },
  {
   "cell_type": "code",
   "execution_count": 133,
   "id": "d0456496",
   "metadata": {},
   "outputs": [
    {
     "data": {
      "text/plain": [
       "MannwhitneyuResult(statistic=1918433882.5, pvalue=1.7907389349242493e-34)"
      ]
     },
     "execution_count": 133,
     "metadata": {},
     "output_type": "execute_result"
    }
   ],
   "source": [
    "# mann whitney to compare method size 4 and 5\n",
    "scipy.stats.mannwhitneyu(\n",
    "    x=union_df.filter(pl.col(\"method_size\") == 4, pl.col(\"is_answer\") == True)[\"rank\"],\n",
    "    y=union_df.filter(pl.col(\"method_size\") == 5, pl.col(\"is_answer\") == True)[\"rank\"],\n",
    ")"
   ]
  },
  {
   "cell_type": "code",
   "execution_count": 134,
   "id": "83264cec",
   "metadata": {},
   "outputs": [
    {
     "data": {
      "text/plain": [
       "MannwhitneyuResult(statistic=431430093.5, pvalue=1.7948096721222552e-09)"
      ]
     },
     "execution_count": 134,
     "metadata": {},
     "output_type": "execute_result"
    }
   ],
   "source": [
    "# mann whitney to compare method size 5 and 6\n",
    "scipy.stats.mannwhitneyu(\n",
    "    x=union_df.filter(pl.col(\"method_size\") == 5, pl.col(\"is_answer\") == True)[\"rank\"],\n",
    "    y=union_df.filter(pl.col(\"method_size\") == 6, pl.col(\"is_answer\") == True)[\"rank\"],\n",
    ")"
   ]
  },
  {
   "cell_type": "code",
   "execution_count": 135,
   "id": "abc46f38",
   "metadata": {},
   "outputs": [
    {
     "data": {
      "text/plain": [
       "MannwhitneyuResult(statistic=21890388.5, pvalue=0.06388008055981026)"
      ]
     },
     "execution_count": 135,
     "metadata": {},
     "output_type": "execute_result"
    }
   ],
   "source": [
    "# mann whitney to compare method size 6 and 7\n",
    "scipy.stats.mannwhitneyu(\n",
    "    x=union_df.filter(pl.col(\"method_size\") == 6, pl.col(\"is_answer\") == True)[\"rank\"],\n",
    "    y=union_df.filter(pl.col(\"method_size\") == 7, pl.col(\"is_answer\") == True)[\"rank\"],\n",
    ")"
   ]
  },
  {
   "cell_type": "markdown",
   "id": "8ff6a2fc",
   "metadata": {},
   "source": [
    "### Intra 'not-indications'\n",
    "* run non-parametric anova equivalent (kruskal-wallace) to observe if there's a difference in at least one of the group medians in the Not-True group\n",
    "* run non-parametric paired t-test equivalent (mann-whitney) to observe differences between each pair."
   ]
  },
  {
   "cell_type": "markdown",
   "id": "65583d1c",
   "metadata": {},
   "source": [
    "#### Kruskal-Wallace"
   ]
  },
  {
   "cell_type": "code",
   "execution_count": 136,
   "id": "d02a3bec",
   "metadata": {},
   "outputs": [
    {
     "data": {
      "text/plain": [
       "KruskalResult(statistic=1053174.30321302, pvalue=0.0)"
      ]
     },
     "execution_count": 136,
     "metadata": {},
     "output_type": "execute_result"
    }
   ],
   "source": [
    "# Results suggest that at least one median is statistically different from the other (intra-Indication set)\n",
    "scipy.stats.kruskal(\n",
    "    union_df.filter(pl.col(\"method_size\") == 2, pl.col(\"is_answer\") == False)[\"rank\"],\n",
    "    union_df.filter(pl.col(\"method_size\") == 3, pl.col(\"is_answer\") == False)[\"rank\"],\n",
    "    union_df.filter(pl.col(\"method_size\") == 4, pl.col(\"is_answer\") == False)[\"rank\"],\n",
    "    union_df.filter(pl.col(\"method_size\") == 5, pl.col(\"is_answer\") == False)[\"rank\"],\n",
    "    union_df.filter(pl.col(\"method_size\") == 6, pl.col(\"is_answer\") == False)[\"rank\"],\n",
    "    union_df.filter(pl.col(\"method_size\") == 7, pl.col(\"is_answer\") == False)[\"rank\"],\n",
    ")"
   ]
  },
  {
   "cell_type": "markdown",
   "id": "a438e7b8",
   "metadata": {},
   "source": [
    "### Mann-Whitney U-test\n",
    "* Method Size 2 is statistically different from size >=3\n",
    "* Method Size 3 is statistically different from size >=4\n",
    "* Method Size 4 is statistically different from size >=5\n",
    "* Method Size 5 is statistically different from size >=6\n",
    "* Method Size 6 is statistically different from size 7\n"
   ]
  },
  {
   "cell_type": "code",
   "execution_count": 137,
   "id": "1b001c73",
   "metadata": {},
   "outputs": [
    {
     "data": {
      "text/plain": [
       "MannwhitneyuResult(statistic=799908000464.0, pvalue=0.0)"
      ]
     },
     "execution_count": 137,
     "metadata": {},
     "output_type": "execute_result"
    }
   ],
   "source": [
    "# mann whitney to compare method_size 2 and 3\n",
    "scipy.stats.mannwhitneyu(\n",
    "    x=union_df.filter(pl.col(\"method_size\") == 2, pl.col(\"is_answer\") == False)[\"rank\"],\n",
    "    y=union_df.filter(pl.col(\"method_size\") == 3, pl.col(\"is_answer\") == False)[\"rank\"],\n",
    ")"
   ]
  },
  {
   "cell_type": "code",
   "execution_count": 138,
   "id": "917737d2",
   "metadata": {},
   "outputs": [
    {
     "data": {
      "text/plain": [
       "MannwhitneyuResult(statistic=4486816717552.0, pvalue=0.0)"
      ]
     },
     "execution_count": 138,
     "metadata": {},
     "output_type": "execute_result"
    }
   ],
   "source": [
    "# mann whitney to compare method_size 3 and 4\n",
    "scipy.stats.mannwhitneyu(\n",
    "    x=union_df.filter(pl.col(\"method_size\") == 3, pl.col(\"is_answer\") == False)[\"rank\"],\n",
    "    y=union_df.filter(pl.col(\"method_size\") == 4, pl.col(\"is_answer\") == False)[\"rank\"],\n",
    ")"
   ]
  },
  {
   "cell_type": "code",
   "execution_count": 139,
   "id": "e2883db3",
   "metadata": {},
   "outputs": [
    {
     "data": {
      "text/plain": [
       "MannwhitneyuResult(statistic=4994796468214.0, pvalue=0.0)"
      ]
     },
     "execution_count": 139,
     "metadata": {},
     "output_type": "execute_result"
    }
   ],
   "source": [
    "# mann whitney to compare method_size 4 and 5\n",
    "scipy.stats.mannwhitneyu(\n",
    "    x=union_df.filter(pl.col(\"method_size\") == 4, pl.col(\"is_answer\") == False)[\"rank\"],\n",
    "    y=union_df.filter(pl.col(\"method_size\") == 5, pl.col(\"is_answer\") == False)[\"rank\"],\n",
    ")"
   ]
  },
  {
   "cell_type": "code",
   "execution_count": 140,
   "id": "9d609da1",
   "metadata": {},
   "outputs": [
    {
     "data": {
      "text/plain": [
       "MannwhitneyuResult(statistic=1458241573328.0, pvalue=0.0)"
      ]
     },
     "execution_count": 140,
     "metadata": {},
     "output_type": "execute_result"
    }
   ],
   "source": [
    "# mann whitney to compare method_size 5 and 6\n",
    "scipy.stats.mannwhitneyu(\n",
    "    x=union_df.filter(pl.col(\"method_size\") == 5, pl.col(\"is_answer\") == False)[\"rank\"],\n",
    "    y=union_df.filter(pl.col(\"method_size\") == 6, pl.col(\"is_answer\") == False)[\"rank\"],\n",
    ")"
   ]
  },
  {
   "cell_type": "code",
   "execution_count": 141,
   "id": "e78f55fd",
   "metadata": {},
   "outputs": [
    {
     "data": {
      "text/plain": [
       "MannwhitneyuResult(statistic=110689105295.5, pvalue=0.0)"
      ]
     },
     "execution_count": 141,
     "metadata": {},
     "output_type": "execute_result"
    }
   ],
   "source": [
    "# mann whitney to compare method_size 6 and 7\n",
    "scipy.stats.mannwhitneyu(\n",
    "    x=union_df.filter(pl.col(\"method_size\") == 7, pl.col(\"is_answer\") == False)[\"rank\"],\n",
    "    y=union_df.filter(pl.col(\"method_size\") == 6, pl.col(\"is_answer\") == False)[\"rank\"],\n",
    ")"
   ]
  },
  {
   "cell_type": "markdown",
   "id": "a1e9a20d",
   "metadata": {},
   "source": [
    "### Interset comparison"
   ]
  },
  {
   "cell_type": "markdown",
   "id": "db8913aa",
   "metadata": {},
   "source": [
    "kruskall-wallace"
   ]
  },
  {
   "cell_type": "code",
   "execution_count": 142,
   "id": "425560c3",
   "metadata": {},
   "outputs": [
    {
     "data": {
      "text/plain": [
       "KruskalResult(statistic=1351570.3370764805, pvalue=0.0)"
      ]
     },
     "execution_count": 142,
     "metadata": {},
     "output_type": "execute_result"
    }
   ],
   "source": [
    "# Results suggest that at least one median is statistically different from the other (intra-Indication set)\n",
    "scipy.stats.kruskal(\n",
    "    union_df.filter(pl.col(\"method_size\") == 2, pl.col(\"is_answer\") == False)[\"rank\"],\n",
    "    union_df.filter(pl.col(\"method_size\") == 3, pl.col(\"is_answer\") == False)[\"rank\"],\n",
    "    union_df.filter(pl.col(\"method_size\") == 4, pl.col(\"is_answer\") == False)[\"rank\"],\n",
    "    union_df.filter(pl.col(\"method_size\") == 5, pl.col(\"is_answer\") == False)[\"rank\"],\n",
    "    union_df.filter(pl.col(\"method_size\") == 6, pl.col(\"is_answer\") == False)[\"rank\"],\n",
    "    union_df.filter(pl.col(\"method_size\") == 7, pl.col(\"is_answer\") == False)[\"rank\"],\n",
    "    union_df.filter(pl.col(\"method_size\") == 3, pl.col(\"is_answer\") == True)[\"rank\"],\n",
    "    union_df.filter(pl.col(\"method_size\") == 2, pl.col(\"is_answer\") == True)[\"rank\"],\n",
    "    union_df.filter(pl.col(\"method_size\") == 4, pl.col(\"is_answer\") == True)[\"rank\"],\n",
    "    union_df.filter(pl.col(\"method_size\") == 5, pl.col(\"is_answer\") == True)[\"rank\"],\n",
    "    union_df.filter(pl.col(\"method_size\") == 6, pl.col(\"is_answer\") == True)[\"rank\"],\n",
    "    union_df.filter(pl.col(\"method_size\") == 7, pl.col(\"is_answer\") == True)[\"rank\"],\n",
    ")"
   ]
  },
  {
   "cell_type": "markdown",
   "id": "87b80682",
   "metadata": {},
   "source": [
    "#### Mann-Whitney\n",
    "* test between each set is all statistically significant."
   ]
  },
  {
   "cell_type": "code",
   "execution_count": 143,
   "id": "96f108e7",
   "metadata": {},
   "outputs": [
    {
     "data": {
      "text/plain": [
       "MannwhitneyuResult(statistic=13638459952.0, pvalue=0.0)"
      ]
     },
     "execution_count": 143,
     "metadata": {},
     "output_type": "execute_result"
    }
   ],
   "source": [
    "# mann whitney to compare method_size 2, Trues to Falses\n",
    "scipy.stats.mannwhitneyu(\n",
    "    x=union_df.filter(pl.col(\"method_size\") == 2, pl.col(\"is_answer\") == False)[\"rank\"],\n",
    "    y=union_df.filter(pl.col(\"method_size\") == 2, pl.col(\"is_answer\") == True)[\"rank\"],\n",
    ")"
   ]
  },
  {
   "cell_type": "code",
   "execution_count": 144,
   "id": "faf3bb26",
   "metadata": {},
   "outputs": [
    {
     "data": {
      "text/plain": [
       "MannwhitneyuResult(statistic=145208921890.5, pvalue=0.0)"
      ]
     },
     "execution_count": 144,
     "metadata": {},
     "output_type": "execute_result"
    }
   ],
   "source": [
    "# mann whitney to compare method_size 3, Trues to Falses\n",
    "scipy.stats.mannwhitneyu(\n",
    "    x=union_df.filter(pl.col(\"method_size\") == 3, pl.col(\"is_answer\") == False)[\"rank\"],\n",
    "    y=union_df.filter(pl.col(\"method_size\") == 3, pl.col(\"is_answer\") == True)[\"rank\"],\n",
    ")"
   ]
  },
  {
   "cell_type": "code",
   "execution_count": 145,
   "id": "85eb7226",
   "metadata": {},
   "outputs": [
    {
     "data": {
      "text/plain": [
       "MannwhitneyuResult(statistic=262928904076.0, pvalue=0.0)"
      ]
     },
     "execution_count": 145,
     "metadata": {},
     "output_type": "execute_result"
    }
   ],
   "source": [
    "# mann whitney to compare method_size 4, Trues to Falses\n",
    "scipy.stats.mannwhitneyu(\n",
    "    x=union_df.filter(pl.col(\"method_size\") == 4, pl.col(\"is_answer\") == False)[\"rank\"],\n",
    "    y=union_df.filter(pl.col(\"method_size\") == 4, pl.col(\"is_answer\") == True)[\"rank\"],\n",
    ")"
   ]
  },
  {
   "cell_type": "code",
   "execution_count": 146,
   "id": "459cc373",
   "metadata": {},
   "outputs": [
    {
     "data": {
      "text/plain": [
       "MannwhitneyuResult(statistic=128163422278.0, pvalue=0.0)"
      ]
     },
     "execution_count": 146,
     "metadata": {},
     "output_type": "execute_result"
    }
   ],
   "source": [
    "# mann whitney to compare method_size 5, Trues to Falses\n",
    "scipy.stats.mannwhitneyu(\n",
    "    x=union_df.filter(pl.col(\"method_size\") == 5, pl.col(\"is_answer\") == False)[\"rank\"],\n",
    "    y=union_df.filter(pl.col(\"method_size\") == 5, pl.col(\"is_answer\") == True)[\"rank\"],\n",
    ")"
   ]
  },
  {
   "cell_type": "code",
   "execution_count": 147,
   "id": "53397cd6",
   "metadata": {},
   "outputs": [
    {
     "data": {
      "text/plain": [
       "MannwhitneyuResult(statistic=17175072890.5, pvalue=0.0)"
      ]
     },
     "execution_count": 147,
     "metadata": {},
     "output_type": "execute_result"
    }
   ],
   "source": [
    "# mann whitney to compare method_size 6, Trues to Falses\n",
    "scipy.stats.mannwhitneyu(\n",
    "    x=union_df.filter(pl.col(\"method_size\") == 6, pl.col(\"is_answer\") == False)[\"rank\"],\n",
    "    y=union_df.filter(pl.col(\"method_size\") == 6, pl.col(\"is_answer\") == True)[\"rank\"],\n",
    ")"
   ]
  },
  {
   "cell_type": "code",
   "execution_count": 148,
   "id": "5685e1db",
   "metadata": {},
   "outputs": [
    {
     "data": {
      "text/plain": [
       "MannwhitneyuResult(statistic=407357083.0, pvalue=0.0)"
      ]
     },
     "execution_count": 148,
     "metadata": {},
     "output_type": "execute_result"
    }
   ],
   "source": [
    "# mann whitney to compare method_size 7, Trues to Falses\n",
    "scipy.stats.mannwhitneyu(\n",
    "    x=union_df.filter(pl.col(\"method_size\") == 7, pl.col(\"is_answer\") == False)[\"rank\"],\n",
    "    y=union_df.filter(pl.col(\"method_size\") == 7, pl.col(\"is_answer\") == True)[\"rank\"],\n",
    ")"
   ]
  },
  {
   "cell_type": "markdown",
   "id": "10d3e1ce",
   "metadata": {},
   "source": [
    "#"
   ]
  },
  {
   "cell_type": "markdown",
   "id": "1676bb85",
   "metadata": {},
   "source": []
  }
 ],
 "metadata": {
  "kernelspec": {
   "display_name": "Python 3 (ipykernel)",
   "language": "python",
   "name": "python3"
  },
  "language_info": {
   "codemirror_mode": {
    "name": "ipython",
    "version": 3
   },
   "file_extension": ".py",
   "mimetype": "text/x-python",
   "name": "python",
   "nbconvert_exporter": "python",
   "pygments_lexer": "ipython3",
   "version": "3.11.9"
  }
 },
 "nbformat": 4,
 "nbformat_minor": 5
}
