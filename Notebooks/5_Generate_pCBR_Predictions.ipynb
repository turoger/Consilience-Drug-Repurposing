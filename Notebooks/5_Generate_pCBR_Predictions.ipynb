{
 "cells": [
  {
   "cell_type": "markdown",
   "metadata": {},
   "source": [
    "# Generate pCBR predictions on MIND"
   ]
  },
  {
   "cell_type": "code",
   "execution_count": 1,
   "metadata": {},
   "outputs": [],
   "source": [
    "import subprocess\n",
    "import wandb\n",
    "import os\n",
    "import sys\n",
    "import shutil\n",
    "import polars as pl\n",
    "import pandas as pd\n",
    "\n",
    "os.chdir(\"./Consilience-Drug-Repurposing\")\n",
    "sys.path.append(\"./path-based/probCBR/prob_cbr/\")"
   ]
  },
  {
   "cell_type": "markdown",
   "metadata": {},
   "source": [
    "## Prepare files for pCBR execution"
   ]
  },
  {
   "cell_type": "markdown",
   "metadata": {},
   "source": [
    "Create required vocabulary files"
   ]
  },
  {
   "cell_type": "code",
   "execution_count": null,
   "metadata": {},
   "outputs": [],
   "source": [
    "subprocess.run(\n",
    "    [\n",
    "        \"python\",\n",
    "        \"path-based/probCBR/prob_cbr/data/preprocessing.py\",\n",
    "        \"--dataset_name\",\n",
    "        \"MIND\",\n",
    "        \"--k_adj\",\n",
    "        \"10\",\n",
    "        \"--max_path_len\",\n",
    "        \"3\",\n",
    "        \"--linkage 0\",\n",
    "        \"--prevent_loops\",\n",
    "        \"--add_inv_edges\",\n",
    "        \"--test\",\n",
    "        \"--create_vocab\",\n",
    "    ]\n",
    ")"
   ]
  },
  {
   "cell_type": "markdown",
   "metadata": {},
   "source": [
    "Calculate entity similarities"
   ]
  },
  {
   "cell_type": "code",
   "execution_count": null,
   "metadata": {},
   "outputs": [],
   "source": [
    "subprocess.run(\n",
    "    [\n",
    "        \"python\",\n",
    "        \"path-based/probCBR/prob_cbr/data/preprocessing.py\",\n",
    "        \"--dataset_name\",\n",
    "        \"MIND\",\n",
    "        \"--k_adj\",\n",
    "        \"10\",\n",
    "        \"--max_path_len\",\n",
    "        \"3\",\n",
    "        \"--linkage 0\",\n",
    "        \"--prevent_loops\",\n",
    "        \"--add_inv_edges\",\n",
    "        \"--test\",\n",
    "        \"--calculate_ent_similarity\",\n",
    "    ]\n",
    ")"
   ]
  },
  {
   "cell_type": "markdown",
   "metadata": {},
   "source": [
    "### Calculate subgraph\n",
    "* Note the subgraph is _NOT_ the same as the previously generated subgraph seen here [notebook](./4_Generate_CBR_Predictions.ipynb)\n",
    "* Operation should be run in parallel or you'll wait a week for your subgraph.\n",
    "* Choose the number of jobs you want, create multiple tmux sessions and have at it"
   ]
  },
  {
   "cell_type": "code",
   "execution_count": null,
   "metadata": {},
   "outputs": [],
   "source": [
    "# repeat for all jobs; in this example 0 - 9.\n",
    "\n",
    "subprocess.run(\n",
    "    [\n",
    "        \"python\",\n",
    "        \"path-based/probCBR/prob_cbr/data/preprocessing.py\",\n",
    "        \"--dataset_name\",\n",
    "        \"MIND\",\n",
    "        \"--k_adj\",\n",
    "        \"10\",\n",
    "        \"--max_path_len\",\n",
    "        \"3\",\n",
    "        \"--linkage 0\",\n",
    "        \"--prevent_loops\",\n",
    "        \"--add_inv_edges\",\n",
    "        \"--test\",\n",
    "        \"--get_paths_parallel\",\n",
    "        \"--total_jobs\",\n",
    "        \"10\",\n",
    "        \"--current_job\",\n",
    "        \"0\",\n",
    "    ]\n",
    ")"
   ]
  },
  {
   "cell_type": "markdown",
   "metadata": {},
   "source": [
    "combine the created subgraph files into 1"
   ]
  },
  {
   "cell_type": "code",
   "execution_count": null,
   "metadata": {},
   "outputs": [],
   "source": [
    "subprocess.run(\n",
    "    [\n",
    "        \"python\",\n",
    "        \"path-based/probCBR/prob_cbr/data/preprocessing.py\",\n",
    "        \"--dataset_name\",\n",
    "        \"MIND\",\n",
    "        \"--k_adj\",\n",
    "        \"10\",\n",
    "        \"--max_path_len\",\n",
    "        \"3\",\n",
    "        \"--linkage 0\",\n",
    "        \"--prevent_loops\",\n",
    "        \"--add_inv_edges\",\n",
    "        \"--test\",\n",
    "        \"--combine_paths\",\n",
    "    ]\n",
    ")"
   ]
  },
  {
   "cell_type": "markdown",
   "metadata": {},
   "source": [
    "### Create prior map\n",
    "* The prior map calculates the probability a of a path given a query relation\n",
    "* Like above, run in parallel unless you want to wait 5 hours for this "
   ]
  },
  {
   "cell_type": "code",
   "execution_count": null,
   "metadata": {},
   "outputs": [],
   "source": [
    "# repeat for all jobs; in this example 0 - 9.\n",
    "\n",
    "subprocess.run(\n",
    "    [\n",
    "        \"python\",\n",
    "        \"path-based/probCBR/prob_cbr/data/preprocessing.py\",\n",
    "        \"--dataset_name\",\n",
    "        \"MIND\",\n",
    "        \"--k_adj\",\n",
    "        \"10\",\n",
    "        \"--max_path_len\",\n",
    "        \"3\",\n",
    "        \"--linkage 0\",\n",
    "        \"--prevent_loops\",\n",
    "        \"--add_inv_edges\",\n",
    "        \"--test\",\n",
    "        \"--calculate_prior_map_parallel\",\n",
    "        \"--total_jobs\",\n",
    "        \"10\",\n",
    "        \"--current_job\",\n",
    "        \"0\",\n",
    "    ]\n",
    ")"
   ]
  },
  {
   "cell_type": "markdown",
   "metadata": {},
   "source": [
    "Combine the prior maps"
   ]
  },
  {
   "cell_type": "code",
   "execution_count": null,
   "metadata": {},
   "outputs": [],
   "source": [
    "subprocess.run(\n",
    "    [\n",
    "        \"python\",\n",
    "        \"path-based/probCBR/prob_cbr/data/preprocessing.py\",\n",
    "        \"--dataset_name\",\n",
    "        \"MIND\",\n",
    "        \"--k_adj\",\n",
    "        \"10\",\n",
    "        \"--max_path_len\",\n",
    "        \"3\",\n",
    "        \"--linkage 0\",\n",
    "        \"--prevent_loops\",\n",
    "        \"--add_inv_edges\",\n",
    "        \"--test\",\n",
    "        \"--combine_prior_map\",\n",
    "    ]\n",
    ")"
   ]
  },
  {
   "cell_type": "markdown",
   "metadata": {},
   "source": [
    "### Create Precision map\n",
    "* Calculates the ratio of how many times a path was successful when executed compared to how many times the path was executed.\n",
    "* Similar to subgraph generation, and prior generation, should be parallelized or it will take a couple days"
   ]
  },
  {
   "cell_type": "code",
   "execution_count": null,
   "metadata": {},
   "outputs": [],
   "source": [
    "# repeat for all jobs; in this example 0 - 9.\n",
    "\n",
    "subprocess.run(\n",
    "    [\n",
    "        \"python\",\n",
    "        \"path-based/probCBR/prob_cbr/data/preprocessing.py\",\n",
    "        \"--dataset_name\",\n",
    "        \"MIND\",\n",
    "        \"--k_adj\",\n",
    "        \"10\",\n",
    "        \"--max_path_len\",\n",
    "        \"3\",\n",
    "        \"--linkage 0\",\n",
    "        \"--prevent_loops\",\n",
    "        \"--add_inv_edges\",\n",
    "        \"--test\",\n",
    "        \"--calculate_precision_map_parallel\",\n",
    "        \"--total_jobs\",\n",
    "        \"10\",\n",
    "        \"--current_job\",\n",
    "        \"0\",\n",
    "    ]\n",
    ")"
   ]
  },
  {
   "cell_type": "markdown",
   "metadata": {},
   "source": [
    "Combine the precision maps"
   ]
  },
  {
   "cell_type": "code",
   "execution_count": null,
   "metadata": {},
   "outputs": [],
   "source": [
    "subprocess.run(\n",
    "    [\n",
    "        \"python\",\n",
    "        \"path-based/probCBR/prob_cbr/data/preprocessing.py\",\n",
    "        \"--dataset_name\",\n",
    "        \"MIND\",\n",
    "        \"--k_adj\",\n",
    "        \"10\",\n",
    "        \"--max_path_len\",\n",
    "        \"3\",\n",
    "        \"--linkage 0\",\n",
    "        \"--prevent_loops\",\n",
    "        \"--add_inv_edges\",\n",
    "        \"--test\",\n",
    "        \"--combine_precision_map\",\n",
    "    ]\n",
    ")"
   ]
  },
  {
   "cell_type": "markdown",
   "metadata": {},
   "source": [
    "## Run pCBR model"
   ]
  },
  {
   "cell_type": "code",
   "execution_count": null,
   "metadata": {},
   "outputs": [],
   "source": [
    "subprocess.run(\n",
    "    [\n",
    "        \"python\",\n",
    "        \"path-based/probCBR/prob_cbr/pr_cbr_test.py\",\n",
    "        \"--dataset_name\",\n",
    "        \"MIND\",\n",
    "        \"--subgraph_file_name\",\n",
    "        \"paths_1000_pathLen_3_noLoops_invEdges_combined.pkl\",\n",
    "        \"--k_adj\",\n",
    "        \"10\",\n",
    "        \"--max_path_len\",\n",
    "        \"3\",\n",
    "        \"--linkage 0\",\n",
    "        \"--prevent_loops\",\n",
    "        \"--add_inv_edges\",\n",
    "        \"--test\",\n",
    "    ]\n",
    ")"
   ]
  },
  {
   "cell_type": "markdown",
   "metadata": {},
   "source": []
  }
 ],
 "metadata": {
  "kernelspec": {
   "display_name": "Python 3 (ipykernel)",
   "language": "python",
   "name": "python3"
  },
  "language_info": {
   "codemirror_mode": {
    "name": "ipython",
    "version": 3
   },
   "file_extension": ".py",
   "mimetype": "text/x-python",
   "name": "python",
   "nbconvert_exporter": "python",
   "pygments_lexer": "ipython3",
   "version": "3.11.9"
  }
 },
 "nbformat": 4,
 "nbformat_minor": 2
}
