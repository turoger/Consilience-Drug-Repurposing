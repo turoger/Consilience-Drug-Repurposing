{
 "cells": [
  {
   "cell_type": "markdown",
   "metadata": {},
   "source": [
    "# Train RotatE Models on standardized datasets using published hyperparameters\n",
    "given prior published parameters, implement them in PyKEEN for WN18, WN18RR, FB15k & FB15k-237"
   ]
  },
  {
   "cell_type": "markdown",
   "metadata": {},
   "source": [
    "## RotatE Hyperparameters\n",
    "\n",
    "* The published parameters can be found [here](https://github.com/DeepGraphLearning/KnowledgeGraphEmbedding/blob/master/best_config.sh) and are shown below\n",
    "```bash\n",
    "\n",
    "#             1     2     3    4 5   6   7   8    9    10  11    12     13  14\n",
    "bash run.sh train RotatE FB15k 0 0 1024 256 1000 24.0 1.0 0.0001 150000 16 -de\n",
    "bash run.sh train RotatE FB15k-237 0 0 1024 256 1000 9.0 1.0 0.00005 100000 16 -de\n",
    "bash run.sh train RotatE wn18 0 0 512 1024 500 12.0 0.5 0.0001 80000 8 -de\n",
    "bash run.sh train RotatE wn18rr 0 0 512 1024 500 6.0 0.5 0.00005 80000 8 -de\n",
    "```\n",
    "\n",
    "* The format is as follow:\n",
    "```bash\n",
    "MODE=$1\n",
    "MODEL=$2\n",
    "DATASET=$3\n",
    "GPU_DEVICE=$4\n",
    "SAVE_ID=$5\n",
    "\n",
    "FULL_DATA_PATH=$DATA_PATH/$DATASET\n",
    "SAVE=$SAVE_PATH/\"$MODEL\"_\"$DATASET\"_\"$SAVE_ID\"\n",
    "\n",
    "#Only used in training\n",
    "BATCH_SIZE=$6\n",
    "NEGATIVE_SAMPLE_SIZE=$7 # keep in mind, this is not a sampling ratio\n",
    "HIDDEN_DIM=$8\n",
    "GAMMA=$9\n",
    "ALPHA=${10}\n",
    "LEARNING_RATE=${11}\n",
    "MAX_STEPS=${12}\n",
    "TEST_BATCH_SIZE=${13}\n",
    "```"
   ]
  },
  {
   "cell_type": "markdown",
   "metadata": {},
   "source": [
    "# Train a RotatE model using PyKEEN"
   ]
  },
  {
   "cell_type": "markdown",
   "metadata": {},
   "source": [
    "## Train a RotatE model on FB15k\n",
    "\n",
    "```bash\n",
    "#             1     2     3    4 5   6   7   8    9    10  11    12     13  14\n",
    "bash run.sh train RotatE FB15k 0 0 1024 256 1000 24.0 1.0 0.0001 150000 16 -de\n",
    "```"
   ]
  },
  {
   "cell_type": "code",
   "execution_count": 1,
   "metadata": {},
   "outputs": [],
   "source": [
    "import pykeen\n",
    "import pykeen.datasets as pkd\n",
    "import pykeen.pipeline as pkp\n",
    "import sys\n",
    "import os\n",
    "import torch\n",
    "import torch.nn\n",
    "import numpy as np\n",
    "import torch.nn.functional as F"
   ]
  },
  {
   "cell_type": "code",
   "execution_count": 2,
   "metadata": {},
   "outputs": [],
   "source": [
    "model_kwargs = dict(\n",
    "    # Model\n",
    "    model=\"RotatE\",\n",
    "    model_kwargs=dict(embedding_dim=1000),\n",
    "    # Loss\n",
    "    loss=\"NSSALoss\",\n",
    "    loss_kwargs=dict(\n",
    "        margin=24.0,  # gamma\n",
    "        adversarial_temperature=1.0,  # alpha\n",
    "    ),\n",
    "    # Regularization\n",
    "    # regularizer=\"LpRegularizer\",\n",
    "    # regularizer_kwargs=dict(weight=), # No regularization\n",
    "    # Training\n",
    "    training_kwargs=dict(\n",
    "        num_epochs=317,  # 592,213 Triples, 150,000 iterations, with batch sz of 1024 means 259 epochs\n",
    "        # however, for some reason, each epoch is 472 iterations, so 150,000/472 = 317 epochs\n",
    "        batch_size=1024,\n",
    "        checkpoint_frequency=0,\n",
    "        checkpoint_name=\"RotatE_FB15k.pt\",\n",
    "    ),\n",
    "    # Negative Sampler\n",
    "    negative_sampler=\"basic\",\n",
    "    negative_sampler_kwargs=dict(\n",
    "        num_negs_per_pos=256,  # corruption_scheme=(\"h\",\"r\",\"t\",),  # defines which part of the triple to corrupt\n",
    "        filtered=True,  # Uses a default 'Bloom' filter to minimize false negatives\n",
    "    ),\n",
    "    # optimizer\n",
    "    optimizer=\"Adam\",\n",
    "    optimizer_kwargs=dict(lr=0.0001),\n",
    "    # lr scheduler\n",
    "    lr_scheduler=\"StepLR\",\n",
    "    lr_scheduler_kwargs=dict(\n",
    "        gamma=0.1, step_size=158\n",
    "    ),  # 1/10 the learning rate every 158 epochs\n",
    "    # earlystopper\n",
    "    # stopper='early',\n",
    "    # stopper_kwargs=dict(patience = 1, relative_delta = 0.00005,), # no frequency var, otherwise it forces an eval at specified epoch\n",
    "    # Tracking\n",
    "    result_tracker=\"wandb\",\n",
    "    result_tracker_kwargs=dict(project=\"KGE-on-time-results\", group=\"FB15k\"),\n",
    "    # Misc\n",
    "    device=\"cuda:1\",  # use gpu position 1\n",
    ")"
   ]
  },
  {
   "cell_type": "code",
   "execution_count": 5,
   "metadata": {},
   "outputs": [],
   "source": [
    "dataset = pkd.get_dataset(dataset=\"FB15k\")\n",
    "res = pkp.pipeline(dataset=dataset, **model_kwargs)"
   ]
  },
  {
   "cell_type": "code",
   "execution_count": null,
   "metadata": {},
   "outputs": [],
   "source": [
    "del res\n",
    "torch.cuda.empty_cache()"
   ]
  },
  {
   "cell_type": "markdown",
   "metadata": {},
   "source": [
    "## Train a model on FB15k-237\n",
    "\n",
    "```bash\n",
    "#             1     2     3        4 5   6   7   8    9    10  11    12     13 \n",
    "bash run.sh train RotatE FB15k-237 0 0 1024 256 1000 9.0 1.0 0.00005 100000 16 -de\n",
    "```"
   ]
  },
  {
   "cell_type": "markdown",
   "metadata": {},
   "source": [
    "### import dataset"
   ]
  },
  {
   "cell_type": "code",
   "execution_count": 11,
   "metadata": {},
   "outputs": [
    {
     "name": "stderr",
     "output_type": "stream",
     "text": [
      "INFO:pykeen.datasets.utils:Loading cached preprocessed dataset from file:///home/rogertu/.data/pykeen/datasets/fb15k237/cache/47DEQpj8HBSa-_TImW-5JCeuQeRkm5NM\n",
      "INFO:pykeen.triples.triples_factory:Loading from file:///home/rogertu/.data/pykeen/datasets/fb15k237/cache/47DEQpj8HBSa-_TImW-5JCeuQeRkm5NM/training\n",
      "/home/rogertu/miniforge3/envs/mini_semmed/lib/python3.12/site-packages/pykeen/triples/triples_factory.py:763: FutureWarning: You are using `torch.load` with `weights_only=False` (the current default value), which uses the default pickle module implicitly. It is possible to construct malicious pickle data which will execute arbitrary code during unpickling (See https://github.com/pytorch/pytorch/blob/main/SECURITY.md#untrusted-models for more details). In a future release, the default value for `weights_only` will be flipped to `True`. This limits the functions that could be executed during unpickling. Arbitrary objects will no longer be allowed to be loaded via this mode unless they are explicitly allowlisted by the user via `torch.serialization.add_safe_globals`. We recommend you start setting `weights_only=True` for any use case where you don't have full control of the loaded file. Please open an issue on GitHub for any issues related to this experimental feature.\n",
      "  data = dict(torch.load(path.joinpath(cls.base_file_name)))\n",
      "INFO:pykeen.triples.triples_factory:Loading from file:///home/rogertu/.data/pykeen/datasets/fb15k237/cache/47DEQpj8HBSa-_TImW-5JCeuQeRkm5NM/testing\n",
      "/home/rogertu/miniforge3/envs/mini_semmed/lib/python3.12/site-packages/pykeen/triples/triples_factory.py:763: FutureWarning: You are using `torch.load` with `weights_only=False` (the current default value), which uses the default pickle module implicitly. It is possible to construct malicious pickle data which will execute arbitrary code during unpickling (See https://github.com/pytorch/pytorch/blob/main/SECURITY.md#untrusted-models for more details). In a future release, the default value for `weights_only` will be flipped to `True`. This limits the functions that could be executed during unpickling. Arbitrary objects will no longer be allowed to be loaded via this mode unless they are explicitly allowlisted by the user via `torch.serialization.add_safe_globals`. We recommend you start setting `weights_only=True` for any use case where you don't have full control of the loaded file. Please open an issue on GitHub for any issues related to this experimental feature.\n",
      "  data = dict(torch.load(path.joinpath(cls.base_file_name)))\n",
      "INFO:pykeen.triples.triples_factory:Loading from file:///home/rogertu/.data/pykeen/datasets/fb15k237/cache/47DEQpj8HBSa-_TImW-5JCeuQeRkm5NM/validation\n",
      "/home/rogertu/miniforge3/envs/mini_semmed/lib/python3.12/site-packages/pykeen/triples/triples_factory.py:763: FutureWarning: You are using `torch.load` with `weights_only=False` (the current default value), which uses the default pickle module implicitly. It is possible to construct malicious pickle data which will execute arbitrary code during unpickling (See https://github.com/pytorch/pytorch/blob/main/SECURITY.md#untrusted-models for more details). In a future release, the default value for `weights_only` will be flipped to `True`. This limits the functions that could be executed during unpickling. Arbitrary objects will no longer be allowed to be loaded via this mode unless they are explicitly allowlisted by the user via `torch.serialization.add_safe_globals`. We recommend you start setting `weights_only=True` for any use case where you don't have full control of the loaded file. Please open an issue on GitHub for any issues related to this experimental feature.\n",
      "  data = dict(torch.load(path.joinpath(cls.base_file_name)))\n",
      "/home/rogertu/miniforge3/envs/mini_semmed/lib/python3.12/site-packages/pykeen/datasets/base.py:212: FutureWarning: You are using `torch.load` with `weights_only=False` (the current default value), which uses the default pickle module implicitly. It is possible to construct malicious pickle data which will execute arbitrary code during unpickling (See https://github.com/pytorch/pytorch/blob/main/SECURITY.md#untrusted-models for more details). In a future release, the default value for `weights_only` will be flipped to `True`. This limits the functions that could be executed during unpickling. Arbitrary objects will no longer be allowed to be loaded via this mode unless they are explicitly allowlisted by the user via `torch.serialization.add_safe_globals`. We recommend you start setting `weights_only=True` for any use case where you don't have full control of the loaded file. Please open an issue on GitHub for any issues related to this experimental feature.\n",
      "  metadata = torch.load(metadata_path) if metadata_path.is_file() else None\n"
     ]
    }
   ],
   "source": [
    "dataset = pkd.get_dataset(dataset=\"FB15k-237\")"
   ]
  },
  {
   "cell_type": "code",
   "execution_count": 15,
   "metadata": {},
   "outputs": [
    {
     "data": {
      "text/plain": [
       "272115"
      ]
     },
     "execution_count": 15,
     "metadata": {},
     "output_type": "execute_result"
    }
   ],
   "source": [
    "dataset.training.num_triples"
   ]
  },
  {
   "cell_type": "code",
   "execution_count": 17,
   "metadata": {},
   "outputs": [
    {
     "data": {
      "text/plain": [
       "'Number of Epochs: 376.31148595263033'"
      ]
     },
     "execution_count": 17,
     "metadata": {},
     "output_type": "execute_result"
    }
   ],
   "source": [
    "f\"Number of Epochs: {100000 /(dataset.training.num_triples/1024)}\""
   ]
  },
  {
   "cell_type": "code",
   "execution_count": 18,
   "metadata": {},
   "outputs": [],
   "source": [
    "model_kwargs = dict(\n",
    "    # Model\n",
    "    model=\"RotatE\",\n",
    "    model_kwargs=dict(embedding_dim=1000),\n",
    "    # Loss\n",
    "    loss=\"NSSALoss\",\n",
    "    loss_kwargs=dict(\n",
    "        margin=9.0,  # gamma\n",
    "        adversarial_temperature=1.0,  # alpha\n",
    "    ),\n",
    "    # Regularization\n",
    "    # regularizer=\"LpRegularizer\",\n",
    "    # regularizer_kwargs=dict(weight=), # No regularization\n",
    "    # Training\n",
    "    training_kwargs=dict(\n",
    "        num_epochs=376,  # 272,115 training triples, 100,000 iterations, with batch sz of 1024 means 376 epochs\n",
    "        batch_size=1024,\n",
    "        checkpoint_frequency=0,\n",
    "        checkpoint_name=\"RotatE_FB15k237.pt\",\n",
    "    ),\n",
    "    # Negative Sampler\n",
    "    negative_sampler=\"basic\",\n",
    "    negative_sampler_kwargs=dict(\n",
    "        num_negs_per_pos=256,  # corruption_scheme=(\"h\",\"r\",\"t\",),  # defines which part of the triple to corrupt\n",
    "        filtered=True,  # Uses a default 'Bloom' filter to minimize false negatives\n",
    "    ),\n",
    "    # optimizer\n",
    "    optimizer=\"Adam\",\n",
    "    optimizer_kwargs=dict(lr=0.00005),\n",
    "    # lr scheduler\n",
    "    lr_scheduler=\"StepLR\",\n",
    "    lr_scheduler_kwargs=dict(\n",
    "        gamma=0.1, step_size=188\n",
    "    ),  # 1/10 the learning rate every 188 epochs\n",
    "    # earlystopper\n",
    "    # stopper='early',\n",
    "    # stopper_kwargs=dict(patience = 1, relative_delta = 0.00005,), # no frequency var, otherwise it forces an eval at specified epoch\n",
    "    # Tracking\n",
    "    result_tracker=\"wandb\",\n",
    "    result_tracker_kwargs=dict(\n",
    "        project=\"KGE-on-time-results\", group=\"FB15k-237\", id=\"RotatE-FB15k237\"\n",
    "    ),\n",
    "    # Misc\n",
    "    device=\"cuda:1\",  # use gpu position 1\n",
    ")"
   ]
  },
  {
   "cell_type": "code",
   "execution_count": 21,
   "metadata": {},
   "outputs": [],
   "source": [
    "res = pkp.pipeline(dataset=dataset, **model_kwargs)"
   ]
  },
  {
   "cell_type": "code",
   "execution_count": 25,
   "metadata": {},
   "outputs": [],
   "source": [
    "del res\n",
    "torch.cuda.empty_cache()"
   ]
  },
  {
   "cell_type": "markdown",
   "metadata": {},
   "source": [
    "## Train model on WN18\n",
    "\n",
    "```bash\n",
    "#             1     2     3   4 5   6   7   8    9   10   11    12   13 14\n",
    "bash run.sh train RotatE wn18 0 0 512 1024 500 12.0 0.5 0.0001 80000 8 -de\n",
    "```"
   ]
  },
  {
   "cell_type": "code",
   "execution_count": 2,
   "metadata": {},
   "outputs": [
    {
     "name": "stderr",
     "output_type": "stream",
     "text": [
      "/home/rogertu/miniforge3/envs/mini_semmed/lib/python3.12/site-packages/pykeen/triples/triples_factory.py:763: FutureWarning: You are using `torch.load` with `weights_only=False` (the current default value), which uses the default pickle module implicitly. It is possible to construct malicious pickle data which will execute arbitrary code during unpickling (See https://github.com/pytorch/pytorch/blob/main/SECURITY.md#untrusted-models for more details). In a future release, the default value for `weights_only` will be flipped to `True`. This limits the functions that could be executed during unpickling. Arbitrary objects will no longer be allowed to be loaded via this mode unless they are explicitly allowlisted by the user via `torch.serialization.add_safe_globals`. We recommend you start setting `weights_only=True` for any use case where you don't have full control of the loaded file. Please open an issue on GitHub for any issues related to this experimental feature.\n",
      "  data = dict(torch.load(path.joinpath(cls.base_file_name)))\n",
      "/home/rogertu/miniforge3/envs/mini_semmed/lib/python3.12/site-packages/pykeen/triples/triples_factory.py:763: FutureWarning: You are using `torch.load` with `weights_only=False` (the current default value), which uses the default pickle module implicitly. It is possible to construct malicious pickle data which will execute arbitrary code during unpickling (See https://github.com/pytorch/pytorch/blob/main/SECURITY.md#untrusted-models for more details). In a future release, the default value for `weights_only` will be flipped to `True`. This limits the functions that could be executed during unpickling. Arbitrary objects will no longer be allowed to be loaded via this mode unless they are explicitly allowlisted by the user via `torch.serialization.add_safe_globals`. We recommend you start setting `weights_only=True` for any use case where you don't have full control of the loaded file. Please open an issue on GitHub for any issues related to this experimental feature.\n",
      "  data = dict(torch.load(path.joinpath(cls.base_file_name)))\n",
      "/home/rogertu/miniforge3/envs/mini_semmed/lib/python3.12/site-packages/pykeen/triples/triples_factory.py:763: FutureWarning: You are using `torch.load` with `weights_only=False` (the current default value), which uses the default pickle module implicitly. It is possible to construct malicious pickle data which will execute arbitrary code during unpickling (See https://github.com/pytorch/pytorch/blob/main/SECURITY.md#untrusted-models for more details). In a future release, the default value for `weights_only` will be flipped to `True`. This limits the functions that could be executed during unpickling. Arbitrary objects will no longer be allowed to be loaded via this mode unless they are explicitly allowlisted by the user via `torch.serialization.add_safe_globals`. We recommend you start setting `weights_only=True` for any use case where you don't have full control of the loaded file. Please open an issue on GitHub for any issues related to this experimental feature.\n",
      "  data = dict(torch.load(path.joinpath(cls.base_file_name)))\n",
      "/home/rogertu/miniforge3/envs/mini_semmed/lib/python3.12/site-packages/pykeen/datasets/base.py:212: FutureWarning: You are using `torch.load` with `weights_only=False` (the current default value), which uses the default pickle module implicitly. It is possible to construct malicious pickle data which will execute arbitrary code during unpickling (See https://github.com/pytorch/pytorch/blob/main/SECURITY.md#untrusted-models for more details). In a future release, the default value for `weights_only` will be flipped to `True`. This limits the functions that could be executed during unpickling. Arbitrary objects will no longer be allowed to be loaded via this mode unless they are explicitly allowlisted by the user via `torch.serialization.add_safe_globals`. We recommend you start setting `weights_only=True` for any use case where you don't have full control of the loaded file. Please open an issue on GitHub for any issues related to this experimental feature.\n",
      "  metadata = torch.load(metadata_path) if metadata_path.is_file() else None\n"
     ]
    }
   ],
   "source": [
    "dataset = pkd.get_dataset(dataset=\"WN18\")"
   ]
  },
  {
   "cell_type": "code",
   "execution_count": 3,
   "metadata": {},
   "outputs": [
    {
     "data": {
      "text/plain": [
       "'Epoch Size: 289.5886653186465'"
      ]
     },
     "execution_count": 3,
     "metadata": {},
     "output_type": "execute_result"
    }
   ],
   "source": [
    "f\"Epoch Size: {80000/(dataset.training.num_triples/512)}\""
   ]
  },
  {
   "cell_type": "code",
   "execution_count": 4,
   "metadata": {},
   "outputs": [],
   "source": [
    "model_kwargs = dict(\n",
    "    # Model\n",
    "    model=\"RotatE\",\n",
    "    model_kwargs=dict(embedding_dim=500),\n",
    "    # Loss\n",
    "    loss=\"NSSALoss\",\n",
    "    loss_kwargs=dict(\n",
    "        margin=12.0,  # gamma\n",
    "        adversarial_temperature=0.5,  # alpha\n",
    "    ),\n",
    "    # Regularization\n",
    "    # regularizer=\"LpRegularizer\",\n",
    "    # regularizer_kwargs=dict(weight=), # No regularization\n",
    "    # Training\n",
    "    training_kwargs=dict(\n",
    "        num_epochs=290,\n",
    "        batch_size=512,\n",
    "        checkpoint_frequency=0,\n",
    "        checkpoint_name=\"RotatE_WN18.pt\",\n",
    "    ),\n",
    "    # Negative Sampler\n",
    "    negative_sampler=\"basic\",\n",
    "    negative_sampler_kwargs=dict(\n",
    "        num_negs_per_pos=1024,  # corruption_scheme=(\"h\",\"r\",\"t\",),  # defines which part of the triple to corrupt\n",
    "        filtered=True,  # Uses a default 'Bloom' filter to minimize false negatives\n",
    "    ),\n",
    "    # optimizer\n",
    "    optimizer=\"Adam\",\n",
    "    optimizer_kwargs=dict(lr=0.0001),\n",
    "    # lr scheduler\n",
    "    lr_scheduler=\"StepLR\",\n",
    "    lr_scheduler_kwargs=dict(\n",
    "        gamma=0.1, step_size=145\n",
    "    ),  # 1/10 the learning rate every 145 epochs\n",
    "    # earlystopper\n",
    "    # stopper='early',\n",
    "    # stopper_kwargs=dict(patience = 1, relative_delta = 0.00005,), # no frequency var, otherwise it forces an eval at specified epoch\n",
    "    # Tracking\n",
    "    result_tracker=\"wandb\",\n",
    "    result_tracker_kwargs=dict(\n",
    "        project=\"KGE-on-time-results\", group=\"WN18\", id=\"RotatE-WN18\"\n",
    "    ),\n",
    "    # Misc\n",
    "    device=\"cuda:1\",  # use gpu position 1\n",
    ")"
   ]
  },
  {
   "cell_type": "code",
   "execution_count": null,
   "metadata": {},
   "outputs": [],
   "source": [
    "res = pkp.pipeline(dataset=dataset, **model_kwargs)"
   ]
  },
  {
   "cell_type": "code",
   "execution_count": null,
   "metadata": {},
   "outputs": [],
   "source": [
    "del res\n",
    "torch.cuda.empty_cache()"
   ]
  },
  {
   "cell_type": "markdown",
   "metadata": {},
   "source": [
    "## Train model on WN18RR\n",
    "```bash\n",
    "#             1     2     3    4 5   6   7   8    9    10  11    12     13  14\n",
    "bash run.sh train RotatE wn18rr 0 0 512 1024 500 6.0 0.5 0.00005 80000 8 -de\n",
    "```"
   ]
  },
  {
   "cell_type": "code",
   "execution_count": 2,
   "metadata": {},
   "outputs": [
    {
     "name": "stderr",
     "output_type": "stream",
     "text": [
      "You're trying to map triples with 212 entities and 0 relations that are not in the training set. These triples will be excluded from the mapping.\n",
      "In total 210 from 3134 triples were filtered out\n",
      "You're trying to map triples with 211 entities and 0 relations that are not in the training set. These triples will be excluded from the mapping.\n",
      "In total 210 from 3034 triples were filtered out\n"
     ]
    }
   ],
   "source": [
    "dataset = pkd.get_dataset(dataset=\"WN18RR\")"
   ]
  },
  {
   "cell_type": "code",
   "execution_count": 4,
   "metadata": {},
   "outputs": [
    {
     "data": {
      "text/plain": [
       "'Epoch Size: 471.699199631485'"
      ]
     },
     "execution_count": 4,
     "metadata": {},
     "output_type": "execute_result"
    }
   ],
   "source": [
    "f\"Epoch Size: {80000/(dataset.training.num_triples/512)}\""
   ]
  },
  {
   "cell_type": "code",
   "execution_count": 5,
   "metadata": {},
   "outputs": [],
   "source": [
    "model_kwargs = dict(\n",
    "    # Model\n",
    "    model=\"RotatE\",\n",
    "    model_kwargs=dict(embedding_dim=500),\n",
    "    # Loss\n",
    "    loss=\"NSSALoss\",\n",
    "    loss_kwargs=dict(\n",
    "        margin=6.0,  # gamma\n",
    "        adversarial_temperature=0.5,  # alpha\n",
    "    ),\n",
    "    # Regularization\n",
    "    # regularizer=\"LpRegularizer\",\n",
    "    # regularizer_kwargs=dict(weight=), # No regularization\n",
    "    # Training\n",
    "    training_kwargs=dict(\n",
    "        num_epochs=472,\n",
    "        # however, for some reason, each epoch is 472 iterations, so 150,000/472 = 317 epochs\n",
    "        batch_size=512,\n",
    "        checkpoint_frequency=0,\n",
    "        checkpoint_name=\"RotatE_WN18RR.pt\",\n",
    "    ),\n",
    "    # Negative Sampler\n",
    "    negative_sampler=\"basic\",\n",
    "    negative_sampler_kwargs=dict(\n",
    "        num_negs_per_pos=1024,  # corruption_scheme=(\"h\",\"r\",\"t\",),  # defines which part of the triple to corrupt\n",
    "        filtered=True,  # Uses a default 'Bloom' filter to minimize false negatives\n",
    "    ),\n",
    "    # optimizer\n",
    "    optimizer=\"Adam\",\n",
    "    optimizer_kwargs=dict(lr=0.00005),\n",
    "    # lr scheduler\n",
    "    lr_scheduler=\"StepLR\",\n",
    "    lr_scheduler_kwargs=dict(gamma=0.1, step_size=236),  # 1/10 the learning rate\n",
    "    # Tracking\n",
    "    result_tracker=\"wandb\",\n",
    "    result_tracker_kwargs=dict(\n",
    "        project=\"KGE-on-time-results\", group=\"WN18RR\", id=\"RotatE-WN18RR\"\n",
    "    ),\n",
    "    # Misc\n",
    "    device=\"cuda:1\",  # use gpu position 1\n",
    ")"
   ]
  },
  {
   "cell_type": "code",
   "execution_count": null,
   "metadata": {},
   "outputs": [],
   "source": [
    "res = pkp.pipeline(dataset=dataset, **model_kwargs)"
   ]
  },
  {
   "cell_type": "code",
   "execution_count": 7,
   "metadata": {},
   "outputs": [],
   "source": [
    "del res\n",
    "torch.cuda.empty_cache()"
   ]
  }
 ],
 "metadata": {
  "kernelspec": {
   "display_name": "Python 3 (ipykernel)",
   "language": "python",
   "name": "python3"
  }
 },
 "nbformat": 4,
 "nbformat_minor": 2
}
