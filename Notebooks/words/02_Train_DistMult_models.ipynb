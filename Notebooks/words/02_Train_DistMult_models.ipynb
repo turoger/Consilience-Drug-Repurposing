{
 "cells": [
  {
   "cell_type": "markdown",
   "metadata": {},
   "source": [
    "# Train DistMult Models on standardized datasets using published hyperparameters\n",
    "given published hyperparameters, implement the parameters in PyKEEN for WN18, WN18RR, FB15k & FB15k-237"
   ]
  },
  {
   "cell_type": "markdown",
   "metadata": {},
   "source": [
    "## DistMult Hyperparameters\n",
    "\n",
    "The published parameters can be found [here](https://github.com/DeepGraphLearning/KnowledgeGraphEmbedding/blob/master/best_config.sh) and shown below\n",
    "```bash\n",
    "#             1     2     3     4 5   6   7   8    9    10  11    12     13  14\n",
    "bash run.sh train DistMult FB15k 0 0 1024 256 2000 500.0 1.0 0.001 150000 16 -r 0.000002\n",
    "bash run.sh train DistMult FB15k-237 0 0 1024 256 2000 200.0 1.0 0.001 100000 16 -r 0.00001\n",
    "bash run.sh train DistMult wn18 0 0 512 1024 1000 200.0 1.0 0.001 80000 8 -r 0.00001\n",
    "bash run.sh train DistMult wn18rr 0 0 512 1024 1000 200.0 1.0 0.002 80000 8 -r 0.000005\n",
    "```\n",
    "\n",
    "\n",
    "The format is as follow:\n",
    "```bash\n",
    "MODE=$1\n",
    "MODEL=$2\n",
    "DATASET=$3\n",
    "GPU_DEVICE=$4\n",
    "SAVE_ID=$5\n",
    "\n",
    "FULL_DATA_PATH=$DATA_PATH/$DATASET\n",
    "SAVE=$SAVE_PATH/\"$MODEL\"_\"$DATASET\"_\"$SAVE_ID\"\n",
    "\n",
    "#Only used in training\n",
    "BATCH_SIZE=$6\n",
    "NEGATIVE_SAMPLE_SIZE=$7 # keep in mind, this is not a sampling ratio\n",
    "HIDDEN_DIM=$8\n",
    "GAMMA=$9\n",
    "ALPHA=${10}\n",
    "LEARNING_RATE=${11}\n",
    "MAX_STEPS=${12}\n",
    "TEST_BATCH_SIZE=${13}\n",
    "```"
   ]
  },
  {
   "cell_type": "markdown",
   "metadata": {},
   "source": [
    "# Train a DistMult model using PyKEEN"
   ]
  },
  {
   "cell_type": "markdown",
   "metadata": {},
   "source": [
    "## Train a DistMult model on FB15k\n",
    "\n",
    "```bash\n",
    "#             1     2        3   4 5   6   7   8    9    10   11     12   13  14\n",
    "bash run.sh train DistMult FB15k 0 0 1024 256 2000 500.0 1.0 0.001 150000 16 -r 0.000002\n",
    "```"
   ]
  },
  {
   "cell_type": "code",
   "execution_count": 1,
   "metadata": {},
   "outputs": [],
   "source": [
    "import pykeen\n",
    "import pykeen.datasets as pkd\n",
    "import pykeen.pipeline as pkp\n",
    "import sys\n",
    "import os\n",
    "import torch\n",
    "import torch.nn\n",
    "import numpy as np\n",
    "import torch.nn.functional as F"
   ]
  },
  {
   "cell_type": "code",
   "execution_count": 2,
   "metadata": {},
   "outputs": [],
   "source": [
    "model_kwargs = dict(\n",
    "    # Model\n",
    "    model=\"DistMult\",\n",
    "    model_kwargs=dict(embedding_dim=2000),\n",
    "    # Loss\n",
    "    loss=\"NSSALoss\",\n",
    "    loss_kwargs=dict(\n",
    "        margin=500.0,  # gamma\n",
    "        adversarial_temperature=1.0,  # alpha\n",
    "    ),\n",
    "    # Regularization\n",
    "    regularizer=\"LpRegularizer\",\n",
    "    regularizer_kwargs=dict(weight=0.000002, p=3),  # L3regularization\n",
    "    # Training\n",
    "    training_kwargs=dict(\n",
    "        num_epochs=317,\n",
    "        batch_size=1024,\n",
    "        checkpoint_frequency=0,\n",
    "        checkpoint_name=\"DistMult_FB15k.pt\",\n",
    "    ),\n",
    "    # Negative Sampler\n",
    "    negative_sampler=\"basic\",\n",
    "    negative_sampler_kwargs=dict(\n",
    "        num_negs_per_pos=256,  # corruption_scheme=(\"h\",\"r\",\"t\",),  # defines which part of the triple to corrupt\n",
    "        filtered=True,  # Uses a default 'Bloom' filter to minimize false negatives\n",
    "    ),\n",
    "    # optimizer\n",
    "    optimizer=\"Adam\",\n",
    "    optimizer_kwargs=dict(lr=0.001),\n",
    "    # lr scheduler\n",
    "    lr_scheduler=\"StepLR\",\n",
    "    lr_scheduler_kwargs=dict(\n",
    "        gamma=0.1, step_size=158\n",
    "    ),  # 1/10 the learning rate every 158 epochs\n",
    "    # Tracking\n",
    "    result_tracker=\"wandb\",\n",
    "    result_tracker_kwargs=dict(\n",
    "        project=\"KGE-on-time-results\", group=\"FB15k\", id=\"DistMult-FB15k\"\n",
    "    ),\n",
    "    # Misc\n",
    "    device=\"cuda:0\",  # use gpu position 1\n",
    ")"
   ]
  },
  {
   "cell_type": "code",
   "execution_count": null,
   "metadata": {},
   "outputs": [],
   "source": [
    "dataset = pkd.get_dataset(dataset=\"FB15k\")\n",
    "res = pkp.pipeline(dataset=dataset, **model_kwargs)"
   ]
  },
  {
   "cell_type": "code",
   "execution_count": 4,
   "metadata": {},
   "outputs": [],
   "source": [
    "del res\n",
    "torch.cuda.empty_cache()"
   ]
  },
  {
   "cell_type": "markdown",
   "metadata": {},
   "source": [
    "## Train DistMult Model on FB15k-237\n",
    "```bash\n",
    "#             1     2           3    4 5   6   7   8    9    10   11    12    13 \n",
    "bash run.sh train DistMult FB15k-237 0 0 1024 256 2000 200.0 1.0 0.001 100000 16 -r 0.00001\n",
    "```"
   ]
  },
  {
   "cell_type": "code",
   "execution_count": 5,
   "metadata": {},
   "outputs": [
    {
     "name": "stderr",
     "output_type": "stream",
     "text": [
      "INFO:pykeen.datasets.utils:Loading cached preprocessed dataset from file:///home/rogertu/.data/pykeen/datasets/fb15k237/cache/47DEQpj8HBSa-_TImW-5JCeuQeRkm5NM\n",
      "INFO:pykeen.triples.triples_factory:Loading from file:///home/rogertu/.data/pykeen/datasets/fb15k237/cache/47DEQpj8HBSa-_TImW-5JCeuQeRkm5NM/training\n",
      "/home/rogertu/miniforge3/envs/mini_semmed/lib/python3.12/site-packages/pykeen/triples/triples_factory.py:763: FutureWarning: You are using `torch.load` with `weights_only=False` (the current default value), which uses the default pickle module implicitly. It is possible to construct malicious pickle data which will execute arbitrary code during unpickling (See https://github.com/pytorch/pytorch/blob/main/SECURITY.md#untrusted-models for more details). In a future release, the default value for `weights_only` will be flipped to `True`. This limits the functions that could be executed during unpickling. Arbitrary objects will no longer be allowed to be loaded via this mode unless they are explicitly allowlisted by the user via `torch.serialization.add_safe_globals`. We recommend you start setting `weights_only=True` for any use case where you don't have full control of the loaded file. Please open an issue on GitHub for any issues related to this experimental feature.\n",
      "  data = dict(torch.load(path.joinpath(cls.base_file_name)))\n",
      "INFO:pykeen.triples.triples_factory:Loading from file:///home/rogertu/.data/pykeen/datasets/fb15k237/cache/47DEQpj8HBSa-_TImW-5JCeuQeRkm5NM/testing\n",
      "/home/rogertu/miniforge3/envs/mini_semmed/lib/python3.12/site-packages/pykeen/triples/triples_factory.py:763: FutureWarning: You are using `torch.load` with `weights_only=False` (the current default value), which uses the default pickle module implicitly. It is possible to construct malicious pickle data which will execute arbitrary code during unpickling (See https://github.com/pytorch/pytorch/blob/main/SECURITY.md#untrusted-models for more details). In a future release, the default value for `weights_only` will be flipped to `True`. This limits the functions that could be executed during unpickling. Arbitrary objects will no longer be allowed to be loaded via this mode unless they are explicitly allowlisted by the user via `torch.serialization.add_safe_globals`. We recommend you start setting `weights_only=True` for any use case where you don't have full control of the loaded file. Please open an issue on GitHub for any issues related to this experimental feature.\n",
      "  data = dict(torch.load(path.joinpath(cls.base_file_name)))\n",
      "INFO:pykeen.triples.triples_factory:Loading from file:///home/rogertu/.data/pykeen/datasets/fb15k237/cache/47DEQpj8HBSa-_TImW-5JCeuQeRkm5NM/validation\n",
      "/home/rogertu/miniforge3/envs/mini_semmed/lib/python3.12/site-packages/pykeen/triples/triples_factory.py:763: FutureWarning: You are using `torch.load` with `weights_only=False` (the current default value), which uses the default pickle module implicitly. It is possible to construct malicious pickle data which will execute arbitrary code during unpickling (See https://github.com/pytorch/pytorch/blob/main/SECURITY.md#untrusted-models for more details). In a future release, the default value for `weights_only` will be flipped to `True`. This limits the functions that could be executed during unpickling. Arbitrary objects will no longer be allowed to be loaded via this mode unless they are explicitly allowlisted by the user via `torch.serialization.add_safe_globals`. We recommend you start setting `weights_only=True` for any use case where you don't have full control of the loaded file. Please open an issue on GitHub for any issues related to this experimental feature.\n",
      "  data = dict(torch.load(path.joinpath(cls.base_file_name)))\n",
      "/home/rogertu/miniforge3/envs/mini_semmed/lib/python3.12/site-packages/pykeen/datasets/base.py:212: FutureWarning: You are using `torch.load` with `weights_only=False` (the current default value), which uses the default pickle module implicitly. It is possible to construct malicious pickle data which will execute arbitrary code during unpickling (See https://github.com/pytorch/pytorch/blob/main/SECURITY.md#untrusted-models for more details). In a future release, the default value for `weights_only` will be flipped to `True`. This limits the functions that could be executed during unpickling. Arbitrary objects will no longer be allowed to be loaded via this mode unless they are explicitly allowlisted by the user via `torch.serialization.add_safe_globals`. We recommend you start setting `weights_only=True` for any use case where you don't have full control of the loaded file. Please open an issue on GitHub for any issues related to this experimental feature.\n",
      "  metadata = torch.load(metadata_path) if metadata_path.is_file() else None\n"
     ]
    }
   ],
   "source": [
    "dataset = pkd.get_dataset(dataset=\"FB15k-237\")"
   ]
  },
  {
   "cell_type": "code",
   "execution_count": 6,
   "metadata": {},
   "outputs": [
    {
     "data": {
      "text/plain": [
       "'Epoch Size: 376.31148595263033'"
      ]
     },
     "execution_count": 6,
     "metadata": {},
     "output_type": "execute_result"
    }
   ],
   "source": [
    "f\"Epoch Size: {100000/(dataset.training.num_triples/1024)}\""
   ]
  },
  {
   "cell_type": "code",
   "execution_count": 7,
   "metadata": {},
   "outputs": [],
   "source": [
    "model_kwargs = dict(\n",
    "    # Model\n",
    "    model=\"DistMult\",\n",
    "    model_kwargs=dict(embedding_dim=2000),\n",
    "    # Loss\n",
    "    loss=\"NSSALoss\",\n",
    "    loss_kwargs=dict(\n",
    "        margin=200.0,  # gamma\n",
    "        adversarial_temperature=1.0,  # alpha\n",
    "    ),\n",
    "    # Regularization\n",
    "    regularizer=\"LpRegularizer\",\n",
    "    regularizer_kwargs=dict(weight=0.00001, p=3),  # L3regularization\n",
    "    # Training\n",
    "    training_kwargs=dict(\n",
    "        num_epochs=376,\n",
    "        batch_size=1024,\n",
    "        checkpoint_frequency=0,\n",
    "        checkpoint_name=\"DistMult_FB15k237.pt\",\n",
    "    ),\n",
    "    # Negative Sampler\n",
    "    negative_sampler=\"basic\",\n",
    "    negative_sampler_kwargs=dict(\n",
    "        num_negs_per_pos=256,  # corruption_scheme=(\"h\",\"r\",\"t\",),  # defines which part of the triple to corrupt\n",
    "        filtered=True,  # Uses a default 'Bloom' filter to minimize false negatives\n",
    "    ),\n",
    "    # optimizer\n",
    "    optimizer=\"Adam\",\n",
    "    optimizer_kwargs=dict(lr=0.001),\n",
    "    # lr scheduler\n",
    "    lr_scheduler=\"StepLR\",\n",
    "    lr_scheduler_kwargs=dict(gamma=0.1, step_size=188),  # gamma 1/10 the learning rate\n",
    "    # Tracking\n",
    "    result_tracker=\"wandb\",\n",
    "    result_tracker_kwargs=dict(\n",
    "        project=\"KGE-on-time-results\", group=\"FB15k-237\", id=\"DistMult-FB15k237\"\n",
    "    ),\n",
    "    # Misc\n",
    "    device=\"cuda:0\",  # use gpu position 1\n",
    ")"
   ]
  },
  {
   "cell_type": "code",
   "execution_count": 8,
   "metadata": {},
   "outputs": [],
   "source": [
    "res = pkp.pipeline(dataset=dataset, **model_kwargs)"
   ]
  },
  {
   "cell_type": "code",
   "execution_count": 14,
   "metadata": {},
   "outputs": [],
   "source": [
    "del res\n",
    "torch.cuda.empty_cache()"
   ]
  },
  {
   "cell_type": "markdown",
   "metadata": {},
   "source": [
    "## Train DistMult Model on WN18\n",
    "```bash\n",
    "#             1     2     3   4 5   6   7   8    9   10   11    12   13           14\n",
    "bash run.sh train DistMult wn18 0 0 512 1024 1000 200.0 1.0 0.001 80000 8 -r 0.00001\n",
    "```"
   ]
  },
  {
   "cell_type": "code",
   "execution_count": 11,
   "metadata": {},
   "outputs": [
    {
     "name": "stderr",
     "output_type": "stream",
     "text": [
      "INFO:pykeen.datasets.utils:Loading cached preprocessed dataset from file:///home/rogertu/.data/pykeen/datasets/wn18/cache/47DEQpj8HBSa-_TImW-5JCeuQeRkm5NM\n",
      "INFO:pykeen.triples.triples_factory:Loading from file:///home/rogertu/.data/pykeen/datasets/wn18/cache/47DEQpj8HBSa-_TImW-5JCeuQeRkm5NM/training\n",
      "/home/rogertu/miniforge3/envs/mini_semmed/lib/python3.12/site-packages/pykeen/triples/triples_factory.py:763: FutureWarning: You are using `torch.load` with `weights_only=False` (the current default value), which uses the default pickle module implicitly. It is possible to construct malicious pickle data which will execute arbitrary code during unpickling (See https://github.com/pytorch/pytorch/blob/main/SECURITY.md#untrusted-models for more details). In a future release, the default value for `weights_only` will be flipped to `True`. This limits the functions that could be executed during unpickling. Arbitrary objects will no longer be allowed to be loaded via this mode unless they are explicitly allowlisted by the user via `torch.serialization.add_safe_globals`. We recommend you start setting `weights_only=True` for any use case where you don't have full control of the loaded file. Please open an issue on GitHub for any issues related to this experimental feature.\n",
      "  data = dict(torch.load(path.joinpath(cls.base_file_name)))\n",
      "INFO:pykeen.triples.triples_factory:Loading from file:///home/rogertu/.data/pykeen/datasets/wn18/cache/47DEQpj8HBSa-_TImW-5JCeuQeRkm5NM/testing\n",
      "/home/rogertu/miniforge3/envs/mini_semmed/lib/python3.12/site-packages/pykeen/triples/triples_factory.py:763: FutureWarning: You are using `torch.load` with `weights_only=False` (the current default value), which uses the default pickle module implicitly. It is possible to construct malicious pickle data which will execute arbitrary code during unpickling (See https://github.com/pytorch/pytorch/blob/main/SECURITY.md#untrusted-models for more details). In a future release, the default value for `weights_only` will be flipped to `True`. This limits the functions that could be executed during unpickling. Arbitrary objects will no longer be allowed to be loaded via this mode unless they are explicitly allowlisted by the user via `torch.serialization.add_safe_globals`. We recommend you start setting `weights_only=True` for any use case where you don't have full control of the loaded file. Please open an issue on GitHub for any issues related to this experimental feature.\n",
      "  data = dict(torch.load(path.joinpath(cls.base_file_name)))\n",
      "INFO:pykeen.triples.triples_factory:Loading from file:///home/rogertu/.data/pykeen/datasets/wn18/cache/47DEQpj8HBSa-_TImW-5JCeuQeRkm5NM/validation\n",
      "/home/rogertu/miniforge3/envs/mini_semmed/lib/python3.12/site-packages/pykeen/triples/triples_factory.py:763: FutureWarning: You are using `torch.load` with `weights_only=False` (the current default value), which uses the default pickle module implicitly. It is possible to construct malicious pickle data which will execute arbitrary code during unpickling (See https://github.com/pytorch/pytorch/blob/main/SECURITY.md#untrusted-models for more details). In a future release, the default value for `weights_only` will be flipped to `True`. This limits the functions that could be executed during unpickling. Arbitrary objects will no longer be allowed to be loaded via this mode unless they are explicitly allowlisted by the user via `torch.serialization.add_safe_globals`. We recommend you start setting `weights_only=True` for any use case where you don't have full control of the loaded file. Please open an issue on GitHub for any issues related to this experimental feature.\n",
      "  data = dict(torch.load(path.joinpath(cls.base_file_name)))\n",
      "/home/rogertu/miniforge3/envs/mini_semmed/lib/python3.12/site-packages/pykeen/datasets/base.py:212: FutureWarning: You are using `torch.load` with `weights_only=False` (the current default value), which uses the default pickle module implicitly. It is possible to construct malicious pickle data which will execute arbitrary code during unpickling (See https://github.com/pytorch/pytorch/blob/main/SECURITY.md#untrusted-models for more details). In a future release, the default value for `weights_only` will be flipped to `True`. This limits the functions that could be executed during unpickling. Arbitrary objects will no longer be allowed to be loaded via this mode unless they are explicitly allowlisted by the user via `torch.serialization.add_safe_globals`. We recommend you start setting `weights_only=True` for any use case where you don't have full control of the loaded file. Please open an issue on GitHub for any issues related to this experimental feature.\n",
      "  metadata = torch.load(metadata_path) if metadata_path.is_file() else None\n"
     ]
    },
    {
     "data": {
      "text/plain": [
       "'Epoch Size: 289.5886653186465'"
      ]
     },
     "execution_count": 11,
     "metadata": {},
     "output_type": "execute_result"
    }
   ],
   "source": [
    "dataset = pkd.get_dataset(dataset=\"WN18\")\n",
    "f\"Epoch Size: {80000/(dataset.training.num_triples/512)}\""
   ]
  },
  {
   "cell_type": "code",
   "execution_count": 15,
   "metadata": {},
   "outputs": [],
   "source": [
    "model_kwargs = dict(\n",
    "    # Model\n",
    "    model=\"DistMult\",\n",
    "    model_kwargs=dict(embedding_dim=1000),\n",
    "    # Loss\n",
    "    loss=\"NSSALoss\",\n",
    "    loss_kwargs=dict(\n",
    "        margin=200.0,  # gamma\n",
    "        adversarial_temperature=1.0,  # alpha\n",
    "    ),\n",
    "    # Regularization\n",
    "    regularizer=\"LpRegularizer\",\n",
    "    regularizer_kwargs=dict(weight=0.00001, p=3),  # L3regularization\n",
    "    # Training\n",
    "    training_kwargs=dict(\n",
    "        num_epochs=290,\n",
    "        batch_size=512,\n",
    "        checkpoint_frequency=0,\n",
    "        checkpoint_name=\"DistMult_WN18.pt\",\n",
    "    ),\n",
    "    # Negative Sampler\n",
    "    negative_sampler=\"basic\",\n",
    "    negative_sampler_kwargs=dict(\n",
    "        num_negs_per_pos=1024,  # corruption_scheme=(\"h\",\"r\",\"t\",),  # defines which part of the triple to corrupt\n",
    "        filtered=True,  # Uses a default 'Bloom' filter to minimize false negatives\n",
    "    ),\n",
    "    # optimizer\n",
    "    optimizer=\"Adam\",\n",
    "    optimizer_kwargs=dict(lr=0.001),\n",
    "    # lr scheduler\n",
    "    lr_scheduler=\"StepLR\",\n",
    "    lr_scheduler_kwargs=dict(\n",
    "        gamma=0.1, step_size=145\n",
    "    ),  # 1/10 the learning rate every 145 epochs\n",
    "    # Tracking\n",
    "    result_tracker=\"wandb\",\n",
    "    result_tracker_kwargs=dict(\n",
    "        project=\"KGE-on-time-results\", group=\"WN18\", id=\"DistMult-WN18\"\n",
    "    ),\n",
    "    # Misc\n",
    "    device=\"cuda:0\",  # use gpu position 1\n",
    ")"
   ]
  },
  {
   "cell_type": "code",
   "execution_count": 13,
   "metadata": {},
   "outputs": [],
   "source": [
    "res = pkp.pipeline(dataset=dataset, **model_kwargs)"
   ]
  },
  {
   "cell_type": "code",
   "execution_count": 17,
   "metadata": {},
   "outputs": [],
   "source": [
    "del res\n",
    "torch.cuda.empty_cache()"
   ]
  },
  {
   "cell_type": "markdown",
   "metadata": {},
   "source": [
    "## Train DistMult Model on WN18RR\n",
    "```bash\n",
    "#             1     2       3     4 5   6   7   8    9    10  11    12   13 \n",
    "bash run.sh train DistMult wn18rr 0 0 512 1024 1000 200.0 1.0 0.002 80000 8 -r 0.000005\n",
    "```"
   ]
  },
  {
   "cell_type": "code",
   "execution_count": 18,
   "metadata": {},
   "outputs": [
    {
     "name": "stderr",
     "output_type": "stream",
     "text": [
      "INFO:pykeen.datasets.utils:Loading cached preprocessed dataset from file:///home/rogertu/.data/pykeen/datasets/wn18rr/cache/47DEQpj8HBSa-_TImW-5JCeuQeRkm5NM\n",
      "INFO:pykeen.triples.triples_factory:Loading from file:///home/rogertu/.data/pykeen/datasets/wn18rr/cache/47DEQpj8HBSa-_TImW-5JCeuQeRkm5NM/training\n",
      "/home/rogertu/miniforge3/envs/mini_semmed/lib/python3.12/site-packages/pykeen/triples/triples_factory.py:763: FutureWarning: You are using `torch.load` with `weights_only=False` (the current default value), which uses the default pickle module implicitly. It is possible to construct malicious pickle data which will execute arbitrary code during unpickling (See https://github.com/pytorch/pytorch/blob/main/SECURITY.md#untrusted-models for more details). In a future release, the default value for `weights_only` will be flipped to `True`. This limits the functions that could be executed during unpickling. Arbitrary objects will no longer be allowed to be loaded via this mode unless they are explicitly allowlisted by the user via `torch.serialization.add_safe_globals`. We recommend you start setting `weights_only=True` for any use case where you don't have full control of the loaded file. Please open an issue on GitHub for any issues related to this experimental feature.\n",
      "  data = dict(torch.load(path.joinpath(cls.base_file_name)))\n",
      "INFO:pykeen.triples.triples_factory:Loading from file:///home/rogertu/.data/pykeen/datasets/wn18rr/cache/47DEQpj8HBSa-_TImW-5JCeuQeRkm5NM/testing\n",
      "/home/rogertu/miniforge3/envs/mini_semmed/lib/python3.12/site-packages/pykeen/triples/triples_factory.py:763: FutureWarning: You are using `torch.load` with `weights_only=False` (the current default value), which uses the default pickle module implicitly. It is possible to construct malicious pickle data which will execute arbitrary code during unpickling (See https://github.com/pytorch/pytorch/blob/main/SECURITY.md#untrusted-models for more details). In a future release, the default value for `weights_only` will be flipped to `True`. This limits the functions that could be executed during unpickling. Arbitrary objects will no longer be allowed to be loaded via this mode unless they are explicitly allowlisted by the user via `torch.serialization.add_safe_globals`. We recommend you start setting `weights_only=True` for any use case where you don't have full control of the loaded file. Please open an issue on GitHub for any issues related to this experimental feature.\n",
      "  data = dict(torch.load(path.joinpath(cls.base_file_name)))\n",
      "INFO:pykeen.triples.triples_factory:Loading from file:///home/rogertu/.data/pykeen/datasets/wn18rr/cache/47DEQpj8HBSa-_TImW-5JCeuQeRkm5NM/validation\n",
      "/home/rogertu/miniforge3/envs/mini_semmed/lib/python3.12/site-packages/pykeen/triples/triples_factory.py:763: FutureWarning: You are using `torch.load` with `weights_only=False` (the current default value), which uses the default pickle module implicitly. It is possible to construct malicious pickle data which will execute arbitrary code during unpickling (See https://github.com/pytorch/pytorch/blob/main/SECURITY.md#untrusted-models for more details). In a future release, the default value for `weights_only` will be flipped to `True`. This limits the functions that could be executed during unpickling. Arbitrary objects will no longer be allowed to be loaded via this mode unless they are explicitly allowlisted by the user via `torch.serialization.add_safe_globals`. We recommend you start setting `weights_only=True` for any use case where you don't have full control of the loaded file. Please open an issue on GitHub for any issues related to this experimental feature.\n",
      "  data = dict(torch.load(path.joinpath(cls.base_file_name)))\n",
      "/home/rogertu/miniforge3/envs/mini_semmed/lib/python3.12/site-packages/pykeen/datasets/base.py:212: FutureWarning: You are using `torch.load` with `weights_only=False` (the current default value), which uses the default pickle module implicitly. It is possible to construct malicious pickle data which will execute arbitrary code during unpickling (See https://github.com/pytorch/pytorch/blob/main/SECURITY.md#untrusted-models for more details). In a future release, the default value for `weights_only` will be flipped to `True`. This limits the functions that could be executed during unpickling. Arbitrary objects will no longer be allowed to be loaded via this mode unless they are explicitly allowlisted by the user via `torch.serialization.add_safe_globals`. We recommend you start setting `weights_only=True` for any use case where you don't have full control of the loaded file. Please open an issue on GitHub for any issues related to this experimental feature.\n",
      "  metadata = torch.load(metadata_path) if metadata_path.is_file() else None\n"
     ]
    },
    {
     "data": {
      "text/plain": [
       "'Epoch Size: 471.699199631485'"
      ]
     },
     "execution_count": 18,
     "metadata": {},
     "output_type": "execute_result"
    }
   ],
   "source": [
    "dataset = pkd.get_dataset(dataset=\"WN18RR\")\n",
    "f\"Epoch Size: {80000/(dataset.training.num_triples/512)}\""
   ]
  },
  {
   "cell_type": "code",
   "execution_count": 19,
   "metadata": {},
   "outputs": [],
   "source": [
    "model_kwargs = dict(\n",
    "    # Model\n",
    "    model=\"DistMult\",\n",
    "    model_kwargs=dict(embedding_dim=1000),\n",
    "    # Loss\n",
    "    loss=\"NSSALoss\",\n",
    "    loss_kwargs=dict(\n",
    "        margin=200.0,  # gamma\n",
    "        adversarial_temperature=1.0,  # alpha\n",
    "    ),\n",
    "    # Regularization\n",
    "    regularizer=\"LpRegularizer\",\n",
    "    regularizer_kwargs=dict(weight=0.000005, p=3),  # L3regularization\n",
    "    # Training\n",
    "    training_kwargs=dict(\n",
    "        num_epochs=472,\n",
    "        batch_size=512,\n",
    "        checkpoint_frequency=0,\n",
    "        checkpoint_name=\"DistMult_WN18RR.pt\",\n",
    "    ),\n",
    "    # Negative Sampler\n",
    "    negative_sampler=\"basic\",\n",
    "    negative_sampler_kwargs=dict(\n",
    "        num_negs_per_pos=1024,  # corruption_scheme=(\"h\",\"r\",\"t\",),  # defines which part of the triple to corrupt\n",
    "        filtered=True,  # Uses a default 'Bloom' filter to minimize false negatives\n",
    "    ),\n",
    "    # optimizer\n",
    "    optimizer=\"Adam\",\n",
    "    optimizer_kwargs=dict(lr=0.002),\n",
    "    # lr scheduler\n",
    "    lr_scheduler=\"StepLR\",\n",
    "    lr_scheduler_kwargs=dict(gamma=0.1, step_size=236),  # 1/10 the learning rate\n",
    "    # Tracking\n",
    "    result_tracker=\"wandb\",\n",
    "    result_tracker_kwargs=dict(\n",
    "        project=\"KGE-on-time-results\", group=\"WN18RR\", id=\"DistMult-WN18RR\"\n",
    "    ),\n",
    "    # Misc\n",
    "    device=\"cuda:0\",  # use gpu position 0\n",
    ")"
   ]
  },
  {
   "cell_type": "code",
   "execution_count": null,
   "metadata": {},
   "outputs": [],
   "source": [
    "res = pkp.pipeline(dataset=dataset, **model_kwargs)"
   ]
  }
 ],
 "metadata": {
  "kernelspec": {
   "display_name": "Python 3 (ipykernel)",
   "language": "python",
   "name": "python3"
  }
 },
 "nbformat": 4,
 "nbformat_minor": 2
}
