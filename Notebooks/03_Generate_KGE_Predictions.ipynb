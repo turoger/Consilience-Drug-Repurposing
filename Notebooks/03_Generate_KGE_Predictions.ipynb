{
 "cells": [
  {
   "cell_type": "markdown",
   "metadata": {},
   "source": [
    "# Generate predictions for each KGE model\n",
    "* The goal of this notebook is to generate predictions for a given set of models\n",
    "* This notebook will also highlight how to use some of the functions in `score_utils2`\n",
    "* Finally we will extract the top `k` results"
   ]
  },
  {
   "cell_type": "code",
   "execution_count": null,
   "metadata": {},
   "outputs": [],
   "source": [
    "import os\n",
    "import pandas as pd\n",
    "import polars as pl\n",
    "\n",
    "os.chdir(\"./Consilience-Drug-Repurposing/Notebooks\")\n",
    "import score_utils2 as scu"
   ]
  },
  {
   "cell_type": "markdown",
   "metadata": {},
   "source": [
    "## Get predictions for test file"
   ]
  },
  {
   "cell_type": "code",
   "execution_count": null,
   "metadata": {},
   "outputs": [],
   "source": [
    "os.chdir(\"../kge\")"
   ]
  },
  {
   "cell_type": "markdown",
   "metadata": {},
   "source": [
    "### TransE"
   ]
  },
  {
   "cell_type": "code",
   "execution_count": null,
   "metadata": {},
   "outputs": [],
   "source": [
    "!python -u codes/run.py --do_predict --do_test -init models/TransE_MIND_optimized #--cuda"
   ]
  },
  {
   "cell_type": "markdown",
   "metadata": {},
   "source": [
    "### DistMult"
   ]
  },
  {
   "cell_type": "code",
   "execution_count": null,
   "metadata": {},
   "outputs": [],
   "source": [
    "!python -u codes/run.py --do_predict --do_test -init models/DistMult_MIND_optimized #--cuda"
   ]
  },
  {
   "cell_type": "markdown",
   "metadata": {},
   "source": [
    "### ComplEx"
   ]
  },
  {
   "cell_type": "code",
   "execution_count": null,
   "metadata": {},
   "outputs": [],
   "source": [
    "!python -u codes/run.py --do_predict --do_test -init models/ComplEx_MIND_optimized #--cuda"
   ]
  },
  {
   "cell_type": "markdown",
   "metadata": {},
   "source": [
    "### RotatE"
   ]
  },
  {
   "cell_type": "code",
   "execution_count": null,
   "metadata": {},
   "outputs": [],
   "source": [
    "!python -u codes/run.py --do_predict --do_test -init models/RotatE_MIND_optimized --cuda"
   ]
  },
  {
   "cell_type": "markdown",
   "metadata": {},
   "source": [
    "## Process the outputs\n",
    "### Create score input as tail-batching\n",
    "* Function that removes all 'head-batch' entities if choosing 'tail-batch'\n",
    "* OR removes all 'tail-batch' entities if choosing 'head-batch'"
   ]
  },
  {
   "cell_type": "code",
   "execution_count": null,
   "metadata": {},
   "outputs": [],
   "source": [
    "tran_raw = scu.ProcessOutput(\n",
    "    data_dir=\"../data/MIND/\",\n",
    "    scores_outfile=\"./models/TransE_MIND_optimized/test_scores.tsv\",\n",
    "    mode=\"tail-batch\",\n",
    ")\n",
    "dist_raw = scu.ProcessOutput(\n",
    "    data_dir=\"../data/MIND/\",\n",
    "    scores_outfile=\"./models/DistMult_MIND_optimized/test_scores.tsv\",\n",
    "    mode=\"tail-batch\",\n",
    ")\n",
    "comp_raw = scu.ProcessOutput(\n",
    "    data_dir=\"../data/MIND/\",\n",
    "    scores_outfile=\"./models/ComplEx_MIND_optimized/test_scores.tsv\",\n",
    "    mode=\"tail-batch\",\n",
    ")\n",
    "rota_raw = scu.ProcessOutput(\n",
    "    data_dir=\"../data/MIND/\",\n",
    "    scores_outfile=\"./models/RotatE_MIND_optimized/test_scores.tsv\",\n",
    "    mode=\"tail-batch\",\n",
    ")"
   ]
  },
  {
   "cell_type": "markdown",
   "metadata": {},
   "source": [
    "### Extract actual names from the dataframe"
   ]
  },
  {
   "cell_type": "code",
   "execution_count": null,
   "metadata": {},
   "outputs": [],
   "source": [
    "tran_raw.get_true_targets()"
   ]
  },
  {
   "cell_type": "markdown",
   "metadata": {},
   "source": [
    "### Format the raw scores to embedded values\n",
    "* Initial scores datframe has some value ranging from (-,+).\n",
    "* uses torch function `argsort()` to sort from high to low. Highest value becomes 1, next highest 2 ... to n highest.\n",
    "* operation is in-place"
   ]
  },
  {
   "cell_type": "code",
   "execution_count": null,
   "metadata": {},
   "outputs": [],
   "source": [
    "tran_raw.format_raw_scores_to_df()\n",
    "dist_raw.format_raw_scores_to_df()\n",
    "comp_raw.format_raw_scores_to_df()\n",
    "rota_raw.format_raw_scores_to_df()"
   ]
  },
  {
   "cell_type": "markdown",
   "metadata": {},
   "source": [
    "### Get actual names \n",
    "* conversion of embedding to value are in-place\n",
    "* note the method has a variable `direction` where it can be \"from\" or \"to\". The default is \"to\", meaning (value TO embedding)."
   ]
  },
  {
   "cell_type": "code",
   "execution_count": null,
   "metadata": {},
   "outputs": [],
   "source": [
    "tran_raw.translate_embeddings(direction=\"from\")\n",
    "dist_raw.translate_embeddings(direction=\"from\")\n",
    "comp_raw.translate_embeddings(direction=\"from\")\n",
    "rota_raw.translate_embeddings(direction=\"from\")"
   ]
  },
  {
   "cell_type": "markdown",
   "metadata": {},
   "source": [
    "### Generate the top _n_ filtered results"
   ]
  },
  {
   "cell_type": "code",
   "execution_count": null,
   "metadata": {},
   "outputs": [],
   "source": [
    "tran_df = tran_raw.filter_predictions(top=1000)\n",
    "dist_df = dist_raw.filter_predictions(top=1000)\n",
    "comp_df = comp_raw.filter_predictions(top=1000)\n",
    "rota_df = rota_raw.filter_predictions(top=1000)"
   ]
  },
  {
   "cell_type": "markdown",
   "metadata": {},
   "source": [
    "### Export the top 1000 for each algo"
   ]
  },
  {
   "cell_type": "code",
   "execution_count": null,
   "metadata": {},
   "outputs": [],
   "source": [
    "tran_df.unique([\"h\", \"filt_preds\"]).write_parquet(\n",
    "    \"./data_output/test_scores_transe.parquet\"\n",
    ")\n",
    "dist_df.unique([\"h\", \"filt_preds\"]).write_parquet(\n",
    "    \"./data_output/test_scores_distmult.parquet\"\n",
    ")\n",
    "comp_df.unique([\"h\", \"filt_preds\"]).write_parquet(\n",
    "    \"./data_output/test_scores_complex.parquet\"\n",
    ")\n",
    "rota_df.unique([\"h\", \"filt_preds\"]).write_parquet(\n",
    "    \"./data_output/test_scores_rotate.parquet\"\n",
    ")"
   ]
  }
 ],
 "metadata": {
  "kernelspec": {
   "display_name": "Python 3 (ipykernel)",
   "language": "python",
   "name": "python3"
  },
  "language_info": {
   "codemirror_mode": {
    "name": "ipython",
    "version": 3
   },
   "file_extension": ".py",
   "mimetype": "text/x-python",
   "name": "python",
   "nbconvert_exporter": "python",
   "pygments_lexer": "ipython3",
   "version": "3.12.5"
  }
 },
 "nbformat": 4,
 "nbformat_minor": 2
}
