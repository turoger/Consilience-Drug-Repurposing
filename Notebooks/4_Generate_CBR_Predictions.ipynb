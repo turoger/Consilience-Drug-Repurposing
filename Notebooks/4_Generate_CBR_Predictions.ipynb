{
 "cells": [
  {
   "cell_type": "code",
   "execution_count": 1,
   "metadata": {},
   "outputs": [],
   "source": [
    "import subprocess\n",
    "import os\n",
    "import sys\n",
    "\n",
    "os.chdir(\"./Consilience-Drug-Repurposing\")\n",
    "sys.path.append(\"./path-based/CBR/code/\")\n",
    "\n",
    "import cbr_test"
   ]
  },
  {
   "cell_type": "code",
   "execution_count": null,
   "metadata": {},
   "outputs": [],
   "source": [
    "args = {\n",
    "    'dataset_name': ,               # str\n",
    "    'output_dir': ,                 # str\n",
    "    'dump_paths': ,                 # True or False\n",
    "    'print_paths': ,                # True or False\n",
    "    'max_num_programs': ,           # int\n",
    "    'all_kg_map': ,                 # map[(e1,r)]\n",
    "    'k_adj': ,                      # int\n",
    "    'output_per_relation_scores': , # True or False\n",
    "\n",
    "}"
   ]
  },
  {
   "cell_type": "code",
   "execution_count": 11,
   "metadata": {},
   "outputs": [
    {
     "ename": "TypeError",
     "evalue": "CBR.__init__() missing 12 required positional arguments: 'args', 'full_map', 'train_map', 'eval_map', 'entity_vocab', 'rev_entity_vocab', 'rel_vocab', 'rev_rel_vocab', 'eval_vocab', 'eval_rev_vocab', 'all_paths', and 'rel_ent_map'",
     "output_type": "error",
     "traceback": [
      "\u001b[0;31m---------------------------------------------------------------------------\u001b[0m",
      "\u001b[0;31mTypeError\u001b[0m                                 Traceback (most recent call last)",
      "Cell \u001b[0;32mIn[11], line 1\u001b[0m\n\u001b[0;32m----> 1\u001b[0m \u001b[43mcbr_test\u001b[49m\u001b[38;5;241;43m.\u001b[39;49m\u001b[43mCBR\u001b[49m\u001b[43m(\u001b[49m\u001b[43m)\u001b[49m\n",
      "\u001b[0;31mTypeError\u001b[0m: CBR.__init__() missing 12 required positional arguments: 'args', 'full_map', 'train_map', 'eval_map', 'entity_vocab', 'rev_entity_vocab', 'rel_vocab', 'rev_rel_vocab', 'eval_vocab', 'eval_rev_vocab', 'all_paths', and 'rel_ent_map'"
     ]
    }
   ],
   "source": [
    "cbr_test.CBR(\n",
    "    args = {},\n",
    "    full_map = ,\n",
    "    train_map = ,\n",
    "    eval_map = ,\n",
    "    entity_vocab = ,\n",
    "    rev_entity_vocab = ,\n",
    "    rel_vocab = ,\n",
    "    rev_rel_vocab = ,\n",
    "    eval_vocab = ,\n",
    "    eval_rev_vocab = ,\n",
    "    all_paths = ,\n",
    "    rel_ent_map = ,\n",
    ")"
   ]
  },
  {
   "cell_type": "code",
   "execution_count": null,
   "metadata": {},
   "outputs": [],
   "source": [
    "CBR(\n",
    "    args={\n",
    "        \"dataset_name\": \"MIND\",\n",
    "        \"data_dir\": \"\",\n",
    "        \"output_dir\": \"\",\n",
    "        \"subgraph_file_name\": \"\",\n",
    "        \"dev_file\": \"\",\n",
    "        \"test_file\": \"\",\n",
    "        \"train_file\": \"\",\n",
    "        \"max_num_programs\": 25,\n",
    "        \"max_path_length\": 3,\n",
    "        \"max_branch\": 100,\n",
    "        \"k_adj\": 10,\n",
    "        \"num_path\": 1000,\n",
    "        \"linkage\": 0,\n",
    "    }\n",
    ")"
   ]
  },
  {
   "cell_type": "code",
   "execution_count": null,
   "metadata": {},
   "outputs": [],
   "source": []
  },
  {
   "cell_type": "code",
   "execution_count": null,
   "metadata": {},
   "outputs": [],
   "source": []
  }
 ],
 "metadata": {
  "kernelspec": {
   "display_name": "Python 3 (ipykernel)",
   "language": "python",
   "name": "python3"
  },
  "language_info": {
   "codemirror_mode": {
    "name": "ipython",
    "version": 3
   },
   "file_extension": ".py",
   "mimetype": "text/x-python",
   "name": "python",
   "nbconvert_exporter": "python",
   "pygments_lexer": "ipython3",
   "version": "3.12.5"
  }
 },
 "nbformat": 4,
 "nbformat_minor": 2
}
