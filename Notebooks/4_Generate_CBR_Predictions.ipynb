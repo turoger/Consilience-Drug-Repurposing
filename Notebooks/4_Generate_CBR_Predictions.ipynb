{
 "cells": [
  {
   "cell_type": "code",
   "execution_count": null,
   "metadata": {},
   "outputs": [],
   "source": [
    "import subprocess\n",
    "import os\n",
    "import sys\n",
    "\n",
    "os.chdir(\"./Consilience-Drug-Repurposing\")\n",
    "sys.path.append(\"./path-based/CBR/code/\")\n",
    "\n",
    "import cbr_test"
   ]
  },
  {
   "cell_type": "markdown",
   "metadata": {},
   "source": [
    "CBR argument parameters"
   ]
  },
  {
   "cell_type": "code",
   "execution_count": null,
   "metadata": {},
   "outputs": [],
   "source": [
    "args = {\n",
    "    'dataset_name': 'MIND',               # str\n",
    "    'output_dir':'/home/rogertu/projects/Consilience-Drug-Repurposing/path-based/CBR',                 # str\n",
    "    'dump_paths': True,                 # True or False\n",
    "    # 'print_paths': ,                # True or False\n",
    "    'max_num_programs': 25,           # int\n",
    "    'all_kg_map': ,                 # map[(e1,r)]. Created by load_data_all_triples()\n",
    "    'k_adj': 10,                      # int\n",
    "    'output_per_relation_scores': True, # True or False\n",
    "\n",
    "}"
   ]
  },
  {
   "cell_type": "markdown",
   "metadata": {},
   "source": [
    "Run CBR command\n",
    "* most code has been commented out.\n",
    "* current implementation won't work with commented out code."
   ]
  },
  {
   "cell_type": "code",
   "execution_count": null,
   "metadata": {},
   "outputs": [],
   "source": [
    "cbr_test.CBR(\n",
    "    args = args,        # arguments above\n",
    "    full_map = ,        # created by load_data(kg_file)\n",
    "    train_map = ,       # crated by load_data(args.train_file)\n",
    "    eval_map = ,        # is dev_map\n",
    "    entity_vocab = ,    # created by create_vocab(kg_file)\n",
    "    rev_entity_vocab = ,# ^\n",
    "    rel_vocab = ,       # ^\n",
    "    rev_rel_vocab = ,   # ^\n",
    "    eval_vocab = ,      # ^ \n",
    "    eval_rev_vocab = ,  # ^ see above comment\n",
    "    all_paths = ,       # pickle.load(fin)\n",
    "    rel_ent_map = ,     # created by get_entities_group_by_relation(args.train_file)\n",
    ")"
   ]
  },
  {
   "cell_type": "code",
   "execution_count": null,
   "metadata": {},
   "outputs": [],
   "source": []
  },
  {
   "cell_type": "code",
   "execution_count": null,
   "metadata": {},
   "outputs": [],
   "source": []
  }
 ],
 "metadata": {
  "kernelspec": {
   "display_name": "Python 3 (ipykernel)",
   "language": "python",
   "name": "python3"
  }
 },
 "nbformat": 4,
 "nbformat_minor": 2
}
