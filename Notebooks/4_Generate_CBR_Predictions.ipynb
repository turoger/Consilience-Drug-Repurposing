{
 "cells": [
  {
   "cell_type": "markdown",
   "metadata": {},
   "source": [
    "# Generate CBR predictions on MIND"
   ]
  },
  {
   "cell_type": "code",
   "execution_count": 1,
   "metadata": {},
   "outputs": [],
   "source": [
    "import subprocess\n",
    "import wandb\n",
    "import os\n",
    "import sys\n",
    "import shutil\n",
    "import polars as pl\n",
    "import pandas as pd\n",
    "\n",
    "os.chdir(\"./Consilience-Drug-Repurposing\")\n",
    "sys.path.append(\"./path-based/CBR/code/\")"
   ]
  },
  {
   "cell_type": "markdown",
   "metadata": {},
   "source": [
    "## Build a graph from the train, test, valid files"
   ]
  },
  {
   "cell_type": "code",
   "execution_count": null,
   "metadata": {},
   "outputs": [],
   "source": [
    "graph_dir = os.path.join(\"./data/MIND\", \"graph.txt\")\n",
    "\n",
    "if not os.path.exists(graph_dir):\n",
    "    print(\"graph.txt does not exist. Creating it now.\")\n",
    "    pl.concat(\n",
    "        [\n",
    "            pl.read_csv(\"./data/MIND/train.txt\", separator=\"\\t\", has_header=False),\n",
    "            pl.read_csv(\"./data/MIND/valid.txt\", separator=\"\\t\", has_header=False),\n",
    "            pl.read_csv(\"./data/MIND/test.txt\", separator=\"\\t\", has_header=False),\n",
    "        ]\n",
    "    ).write_csv(\"./data/MIND/graph.txt\", separator=\"\\t\", include_header=False)\n",
    "else:\n",
    "    print(\"graph.txt exists. Skipping creation.\")"
   ]
  },
  {
   "cell_type": "markdown",
   "metadata": {},
   "source": [
    "### Make a copy of valid.txt"
   ]
  },
  {
   "cell_type": "code",
   "execution_count": 18,
   "metadata": {},
   "outputs": [
    {
     "name": "stdout",
     "output_type": "stream",
     "text": [
      "dev.txt does not exist. Creating it now.\n"
     ]
    }
   ],
   "source": [
    "# make dev.txt a copy of valid.txt\n",
    "dev_dir = os.path.join(\"./data/MIND\", \"dev.txt\")\n",
    "if not os.path.exists(dev_dir):\n",
    "    print(\"dev.txt does not exist. Creating it now.\")\n",
    "    shutil.copy(\"./data/MIND/valid.txt\", dev_dir)\n",
    "\n",
    "else:\n",
    "    print(\"dev.txt exists. Skipping creation.\")"
   ]
  },
  {
   "cell_type": "markdown",
   "metadata": {},
   "source": [
    "## Generate subgraph file\n",
    "* Essentially same as running in the commandline:\n",
    "```bash\n",
    "python path-based/CBR/code/data/get_paths.py --dataset_name MIND --data_dir ./ --num_paths_to_collect 1000 --ignore_sequential_inverse 1\n",
    "```"
   ]
  },
  {
   "cell_type": "code",
   "execution_count": null,
   "metadata": {},
   "outputs": [],
   "source": [
    "subprocess.run(\n",
    "    [\n",
    "        \"python\",\n",
    "        \"path-based/CBR/code/data/get_paths.py\",\n",
    "        \"--dataset_name\",\n",
    "        \"MIND\",\n",
    "        \"--data_dir\",\n",
    "        \"./\",\n",
    "        \"--num_paths_to_collect\",\n",
    "        \"1000\",\n",
    "        \"--ignore_sequential_inverse\",\n",
    "        \"1\",\n",
    "    ]\n",
    ")"
   ]
  },
  {
   "cell_type": "markdown",
   "metadata": {},
   "source": [
    "## Run CBR\n",
    "* per-relation scores outputted to: ./data/outputs/MIND_CBR_per_relation_scores.json\n",
    "* predictions outputted to: ./data/outputs/MIND_CBR_query_data.json"
   ]
  },
  {
   "cell_type": "code",
   "execution_count": 32,
   "metadata": {},
   "outputs": [
    {
     "name": "stderr",
     "output_type": "stream",
     "text": [
      "[2024-08-26 15:26:13 \t COMMAND: path-based/CBR/code/cbr_mod.py --dataset_name MIND --data_dir ./ --max_num_programs 25 --k_adj 10 --test_file_name test.txt --output_dir ./data/outputs --max_answers 100 --output_predictions --output_per_relation_scores --test]\n",
      "[2024-08-26 15:26:13 \t ===========MIND============]\n",
      "[2024-08-26 15:26:13 \t Loading subgraph around entities:]\n",
      "9652116it [00:04, 2046856.60it/s]\n",
      "[2024-08-26 15:27:35 \t Loading train map]\n",
      "9652116it [00:23, 404858.33it/s] \n",
      "9651042it [00:15, 627828.74it/s] \n",
      "[2024-08-26 15:28:14 \t Loading dev map]\n",
      "537it [00:00, 1233483.71it/s]\n",
      "[2024-08-26 15:28:14 \t Loading test map]\n",
      "537it [00:00, 1274669.64it/s]\n",
      "9652116it [00:05, 1899637.71it/s]\n",
      "/home/rogertu/projects/Consilience-Drug-Repurposing/path-based/CBR/code/cbr_mod.py:568: RuntimeWarning: invalid value encountered in divide\n",
      "  adj_mat = adj_mat / l2norm.reshape(l2norm.shape[0], 1)\n",
      "[2024-08-26 15:28:22 \t Using device:]\n",
      "[2024-08-26 15:28:22 \t =========Config:============]\n",
      "[2024-08-26 15:28:22 \t {\n",
      "    \"data_dir\": \"./\",\n",
      "    \"dataset_name\": \"MIND\",\n",
      "    \"dev_file\": \"./data/MIND/dev.txt\",\n",
      "    \"k_adj\": 10,\n",
      "    \"max_answers\": 100,\n",
      "    \"max_num_programs\": 25,\n",
      "    \"output_dir\": \"./data/outputs\",\n",
      "    \"output_per_relation_scores\": true,\n",
      "    \"output_predictions\": true,\n",
      "    \"per_relation_config\": null,\n",
      "    \"print_paths\": false,\n",
      "    \"subgraph_file_name\": \"paths_1000.pkl\",\n",
      "    \"test\": true,\n",
      "    \"test_file\": \"./data/MIND/test.txt\",\n",
      "    \"test_file_name\": \"test.txt\",\n",
      "    \"train_file\": \"./data/MIND/train.txt\",\n",
      "    \"use_wandb\": 0\n",
      "}]\n",
      "[2024-08-26 15:28:22 \t Loading combined train/dev/test map for filtered eval]\n",
      "114it [00:00, 816.14it/s]"
     ]
    },
    {
     "name": "stdout",
     "output_type": "stream",
     "text": [
      "cuda\n"
     ]
    },
    {
     "name": "stderr",
     "output_type": "stream",
     "text": [
      "9651042it [00:17, 555085.09it/s] \n",
      "537it [00:00, 1222105.94it/s]\n",
      "537it [00:00, 1284849.54it/s]\n",
      "[2024-08-26 15:28:44 \t Loaded...]\n",
      "100%|██████████| 387/387 [20:11<00:00,  3.13s/it]  \n",
      "[2024-08-26 15:48:55 \t Writing per-relation scores to ./data/outputs/MIND_CBR_per_relation_scores.json]\n",
      "[2024-08-26 15:48:55 \t Out of 537 queries, atleast one program was returned for 529 queries]\n",
      "[2024-08-26 15:48:55 \t Avg number of programs 8.14]\n",
      "[2024-08-26 15:48:55 \t Avg number of answers after executing the programs: 7491.204134366925]\n",
      "[2024-08-26 15:48:55 \t Accuracy (Loose): 0.8640595903165735]\n",
      "[2024-08-26 15:48:55 \t Hits@1 0.00558659217877095]\n",
      "[2024-08-26 15:48:55 \t Hits@3 0.05772811918063315]\n",
      "[2024-08-26 15:48:55 \t Hits@5 0.0856610800744879]\n",
      "[2024-08-26 15:48:55 \t Hits@10 0.12104283054003724]\n",
      "[2024-08-26 15:48:55 \t MRR 0.048132341014984946]\n",
      "[2024-08-26 15:48:55 \t Avg number of nn, that do not have the query relation: 0.0]\n",
      "[2024-08-26 15:48:55 \t Avg num of returned nearest neighbors: 10.0000]\n",
      "[2024-08-26 15:48:55 \t Avg number of programs that do not execute per query: 0.5426]\n"
     ]
    },
    {
     "data": {
      "text/plain": [
       "CompletedProcess(args=['python', 'path-based/CBR/code/cbr_mod.py', '--dataset_name', 'MIND', '--data_dir', './', '--max_num_programs', '25', '--k_adj', '10', '--test_file_name', 'test.txt', '--output_dir', './data/outputs', '--max_answers', '100', '--output_predictions', '--output_per_relation_scores', '--test'], returncode=0)"
      ]
     },
     "execution_count": 32,
     "metadata": {},
     "output_type": "execute_result"
    }
   ],
   "source": [
    "subprocess.run(\n",
    "    [\n",
    "        \"python\",\n",
    "        \"path-based/CBR/code/cbr_mod.py\",\n",
    "        \"--dataset_name\",\n",
    "        \"MIND\",\n",
    "        \"--data_dir\",\n",
    "        \"./\",\n",
    "        \"--max_num_programs\",\n",
    "        \"25\",\n",
    "        \"--k_adj\",\n",
    "        \"10\",\n",
    "        \"--test_file_name\",\n",
    "        \"test.txt\",\n",
    "        \"--output_dir\",\n",
    "        \"./data/outputs\",\n",
    "        \"--max_answers\",\n",
    "        \"100\",\n",
    "        \"--output_predictions\",\n",
    "        \"--output_per_relation_scores\",\n",
    "        \"--test\",\n",
    "    ]\n",
    ")"
   ]
  }
 ],
 "metadata": {
  "kernelspec": {
   "display_name": "Python 3 (ipykernel)",
   "language": "python",
   "name": "python3"
  },
  "language_info": {
   "codemirror_mode": {
    "name": "ipython",
    "version": 3
   },
   "file_extension": ".py",
   "mimetype": "text/x-python",
   "name": "python",
   "nbconvert_exporter": "python",
   "pygments_lexer": "ipython3",
   "version": "3.11.9"
  }
 },
 "nbformat": 4,
 "nbformat_minor": 2
}
