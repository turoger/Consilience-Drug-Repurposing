{
 "cells": [
  {
   "cell_type": "markdown",
   "metadata": {},
   "source": [
    "# Train KGE models using algorithms outlined by Sun _et al._\n",
    "Train, test and run valid for the following models:\n",
    "* TransE\n",
    "* DistMult\n",
    "* ComplEx\n",
    "* RotatE"
   ]
  },
  {
   "cell_type": "code",
   "execution_count": null,
   "metadata": {},
   "outputs": [],
   "source": [
    "import os\n",
    "\n",
    "os.chdir(\"Consilience-Drug-Repurposing/kge\")"
   ]
  },
  {
   "cell_type": "markdown",
   "metadata": {},
   "source": [
    "## TransE model\n",
    "\n",
    "### Train\n",
    "Model parameters:\n",
    "* bath size = 256\n",
    "* negative sample size = 96\n",
    "* hidden dimensions = 275\n",
    "* learning rate = 0.0015\n"
   ]
  },
  {
   "cell_type": "code",
   "execution_count": null,
   "metadata": {},
   "outputs": [],
   "source": [
    "%%bash\n",
    "mode='train'\n",
    "algo='TransE'\n",
    "dataset='MIND'\n",
    "gpu=0\n",
    "save_name='optimized'\n",
    "batch_size=256\n",
    "negative_sample_size=96\n",
    "hidden_dim=275\n",
    "gamma=48.0\n",
    "alpha=1.0\n",
    "lr=0.0015\n",
    "max_steps=1000000\n",
    "test_batch_size=16\n",
    "\n",
    "bash run.sh $mode $algo $dataset $gpu $save_name \\\n",
    "    $batch_size $negative_sample_size $hidden_dim $gamma $alpha $lr $max_steps $test_batch_size"
   ]
  },
  {
   "cell_type": "markdown",
   "metadata": {},
   "source": [
    "### Test"
   ]
  },
  {
   "cell_type": "code",
   "execution_count": null,
   "metadata": {},
   "outputs": [],
   "source": [
    "!python -u codes/run.py --do_test -init models/TransE_MIND_optimized"
   ]
  },
  {
   "cell_type": "markdown",
   "metadata": {},
   "source": [
    "### Valid"
   ]
  },
  {
   "cell_type": "code",
   "execution_count": null,
   "metadata": {},
   "outputs": [],
   "source": [
    "!python -u codes/run.py --do_valid -init models/TransE_MIND_optimized"
   ]
  },
  {
   "cell_type": "markdown",
   "metadata": {},
   "source": [
    "## Train DistMult model\n",
    "Model parameters:\n",
    "* batch size = 200\n",
    "* negative sample size = 100\n",
    "* hidden dimensions = 225 \n",
    "* learning rate = 0.009"
   ]
  },
  {
   "cell_type": "code",
   "execution_count": null,
   "metadata": {},
   "outputs": [],
   "source": [
    "%%bash\n",
    "mode='train'\n",
    "algo='DistMult'\n",
    "dataset='MIND'\n",
    "gpu=0\n",
    "save_name='optimized'\n",
    "batch_size=200\n",
    "negative_sample_size=100\n",
    "hidden_dim=225\n",
    "gamma=48.0\n",
    "alpha=1.0\n",
    "lr=0.009\n",
    "max_steps=1000000\n",
    "test_batch_size=16\n",
    "\n",
    "bash run.sh $mode $algo $dataset $gpu $save_name \\\n",
    "    $batch_size $negative_sample_size $hidden_dim $gamma $alpha $lr $max_steps $test_batch_size"
   ]
  },
  {
   "cell_type": "markdown",
   "metadata": {},
   "source": [
    "### Test"
   ]
  },
  {
   "cell_type": "code",
   "execution_count": null,
   "metadata": {},
   "outputs": [],
   "source": [
    "!python -u codes/run.py --do_test -init models/DistMult_MIND_optimized"
   ]
  },
  {
   "cell_type": "markdown",
   "metadata": {},
   "source": [
    "### Valid"
   ]
  },
  {
   "cell_type": "code",
   "execution_count": null,
   "metadata": {},
   "outputs": [],
   "source": [
    "!python -u codes/run.py --do_valid -init models/DistMult_MIND_optimized"
   ]
  },
  {
   "cell_type": "markdown",
   "metadata": {},
   "source": [
    "## Train ComplEx model\n",
    "Model parameters:\n",
    "* batch size = 88\n",
    "* negative sample size = 108\n",
    "* hidden dimensions = 125\n",
    "* learning rate = 0.0027"
   ]
  },
  {
   "cell_type": "code",
   "execution_count": null,
   "metadata": {},
   "outputs": [],
   "source": [
    "%%bash\n",
    "mode='train'\n",
    "algo='ComplEx'\n",
    "dataset='MIND'\n",
    "gpu=0\n",
    "save_name='optimized'\n",
    "batch_size=88\n",
    "negative_sample_size=108\n",
    "hidden_dim=125\n",
    "gamma=48.0\n",
    "alpha=1.0\n",
    "lr=0.0027\n",
    "max_steps=1000000\n",
    "test_batch_size=16\n",
    "\n",
    "bash run.sh $mode $algo $dataset $gpu $save_name \\\n",
    "    $batch_size $negative_sample_size $hidden_dim $gamma $alpha $lr $max_steps $test_batch_size -dr -de"
   ]
  },
  {
   "cell_type": "markdown",
   "metadata": {},
   "source": [
    "### Test"
   ]
  },
  {
   "cell_type": "code",
   "execution_count": null,
   "metadata": {},
   "outputs": [],
   "source": [
    "!python -u codes/run.py --do_test -init models/ComplEx_MIND_optimized"
   ]
  },
  {
   "cell_type": "markdown",
   "metadata": {},
   "source": [
    "### Valid"
   ]
  },
  {
   "cell_type": "code",
   "execution_count": null,
   "metadata": {},
   "outputs": [],
   "source": [
    "!python -u codes/run.py --do_valid -init models/ComplEx_MIND_optimized"
   ]
  },
  {
   "cell_type": "markdown",
   "metadata": {},
   "source": [
    "## Train RotatE model\n",
    "Model parameters:\n",
    "* bath size = 244\n",
    "* negative sample size = 108\n",
    "* hidden dimensions = 250\n",
    "* learning rate = 0.00847"
   ]
  },
  {
   "cell_type": "code",
   "execution_count": null,
   "metadata": {},
   "outputs": [],
   "source": [
    "%%bash\n",
    "mode='train'\n",
    "algo='RotatE'\n",
    "dataset='MIND'\n",
    "gpu=0\n",
    "save_name='optimized'\n",
    "batch_size=244\n",
    "negative_sample_size=108\n",
    "hidden_dim=250\n",
    "gamma=48.0\n",
    "alpha=1.0\n",
    "lr=0.00847\n",
    "max_steps=1000000\n",
    "test_batch_size=16\n",
    "\n",
    "bash run.sh $mode $algo $dataset $gpu $save_name \\\n",
    "    $batch_size $negative_sample_size $hidden_dim $gamma $alpha $lr $max_steps $test_batch_size -de"
   ]
  },
  {
   "cell_type": "markdown",
   "metadata": {},
   "source": [
    "### Test"
   ]
  },
  {
   "cell_type": "code",
   "execution_count": null,
   "metadata": {},
   "outputs": [],
   "source": [
    "!python -u codes/run.py --do_test -init models/RotatE_MIND_optimized"
   ]
  },
  {
   "cell_type": "markdown",
   "metadata": {},
   "source": [
    "### Valid"
   ]
  },
  {
   "cell_type": "code",
   "execution_count": null,
   "metadata": {},
   "outputs": [],
   "source": [
    "!python -u codes/run.py --do_valid -init models/RotatE_MIND_optimized"
   ]
  }
 ],
 "metadata": {
  "kernelspec": {
   "display_name": "Python 3 (ipykernel)",
   "language": "python",
   "name": "python3"
  },
  "language_info": {
   "codemirror_mode": {
    "name": "ipython",
    "version": 3
   },
   "file_extension": ".py",
   "mimetype": "text/x-python",
   "name": "python",
   "nbconvert_exporter": "python",
   "pygments_lexer": "ipython3",
   "version": "3.12.5"
  }
 },
 "nbformat": 4,
 "nbformat_minor": 2
}
