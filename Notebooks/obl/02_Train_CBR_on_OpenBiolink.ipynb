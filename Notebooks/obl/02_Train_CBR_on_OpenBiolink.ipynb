{
 "cells": [
  {
   "cell_type": "code",
   "execution_count": 1,
   "metadata": {},
   "outputs": [],
   "source": [
    "import pykeen.datasets\n",
    "import pykeen\n",
    "import os\n",
    "import subprocess\n",
    "import sys\n",
    "import shutil\n",
    "import pandas as pd\n",
    "import polars as pl\n",
    "import numpy as np"
   ]
  },
  {
   "cell_type": "markdown",
   "metadata": {},
   "source": [
    "# Train a Case-based Reasoning and Probabilistic Case-based Reasoning model on OpenBiolink\n",
    "\n",
    "Context:\n",
    "Rivas-Barrigan implemented a pared down flavor of BioKG and OpenBioLink containing only 3 node types. This notebook seeks to create case-based reasoning models on the full BioKG and OpenBiolink knowledge graphs for drug repurposing. We don't run probCBR on the modified dataset because it wouldn't make any sense - the modified dataset only has a specific schema ( Drug - interacts with - Gene - associated with - Disease)\n",
    "\n",
    "Actions:\n",
    "* \n",
    "\n",
    "Findings:\n"
   ]
  },
  {
   "cell_type": "markdown",
   "metadata": {},
   "source": [
    "## Get OpenBiolink Graph"
   ]
  },
  {
   "cell_type": "code",
   "execution_count": 2,
   "metadata": {},
   "outputs": [],
   "source": [
    "obl = pykeen.datasets.OpenBioLink()"
   ]
  },
  {
   "cell_type": "code",
   "execution_count": 3,
   "metadata": {},
   "outputs": [
    {
     "name": "stderr",
     "output_type": "stream",
     "text": [
      "You're trying to map triples with 2052 entities and 0 relations that are not in the training set. These triples will be excluded from the mapping.\n",
      "In total 2047 from 183011 triples were filtered out\n",
      "Reconstructing all label-based triples. This is expensive and rarely needed.\n",
      "Reconstructing all label-based triples. This is expensive and rarely needed.\n",
      "You're trying to map triples with 2099 entities and 0 relations that are not in the training set. These triples will be excluded from the mapping.\n",
      "In total 2093 from 188394 triples were filtered out\n",
      "Reconstructing all label-based triples. This is expensive and rarely needed.\n"
     ]
    }
   ],
   "source": [
    "train = pl.DataFrame(\n",
    "    obl.training.triples,\n",
    ")\n",
    "test = pl.DataFrame(obl.testing.triples)\n",
    "valid = pl.DataFrame(obl.validation.triples)\n",
    "\n",
    "graph = pl.concat([train, test, valid]).unique([\"column_0\", \"column_1\", \"column_2\"])"
   ]
  },
  {
   "cell_type": "code",
   "execution_count": 4,
   "metadata": {},
   "outputs": [
    {
     "data": {
      "text/html": [
       "<div><style>\n",
       ".dataframe > thead > tr,\n",
       ".dataframe > tbody > tr {\n",
       "  text-align: right;\n",
       "  white-space: pre-wrap;\n",
       "}\n",
       "</style>\n",
       "<small>shape: (5, 3)</small><table border=\"1\" class=\"dataframe\"><thead><tr><th>column_0</th><th>column_1</th><th>column_2</th></tr><tr><td>str</td><td>str</td><td>str</td></tr></thead><tbody><tr><td>&quot;CL:0000011&quot;</td><td>&quot;IS_A&quot;</td><td>&quot;CL:0000333&quot;</td></tr><tr><td>&quot;CL:0000037&quot;</td><td>&quot;IS_A&quot;</td><td>&quot;CL:0008001&quot;</td></tr><tr><td>&quot;CL:0000151&quot;</td><td>&quot;IS_A&quot;</td><td>&quot;CL:0000003&quot;</td></tr><tr><td>&quot;CL:0000359&quot;</td><td>&quot;PART_OF&quot;</td><td>&quot;UBERON:0002049…</td></tr><tr><td>&quot;CL:0000438&quot;</td><td>&quot;IS_A&quot;</td><td>&quot;CL:0000163&quot;</td></tr></tbody></table></div>"
      ],
      "text/plain": [
       "shape: (5, 3)\n",
       "┌────────────┬──────────┬────────────────┐\n",
       "│ column_0   ┆ column_1 ┆ column_2       │\n",
       "│ ---        ┆ ---      ┆ ---            │\n",
       "│ str        ┆ str      ┆ str            │\n",
       "╞════════════╪══════════╪════════════════╡\n",
       "│ CL:0000011 ┆ IS_A     ┆ CL:0000333     │\n",
       "│ CL:0000037 ┆ IS_A     ┆ CL:0008001     │\n",
       "│ CL:0000151 ┆ IS_A     ┆ CL:0000003     │\n",
       "│ CL:0000359 ┆ PART_OF  ┆ UBERON:0002049 │\n",
       "│ CL:0000438 ┆ IS_A     ┆ CL:0000163     │\n",
       "└────────────┴──────────┴────────────────┘"
      ]
     },
     "execution_count": 4,
     "metadata": {},
     "output_type": "execute_result"
    }
   ],
   "source": [
    "graph.head()"
   ]
  },
  {
   "cell_type": "code",
   "execution_count": 5,
   "metadata": {},
   "outputs": [
    {
     "data": {
      "text/plain": [
       "'Graph size: 4,559,267'"
      ]
     },
     "execution_count": 5,
     "metadata": {},
     "output_type": "execute_result"
    }
   ],
   "source": [
    "f\"Graph size: {graph.shape[0]:,}\""
   ]
  },
  {
   "cell_type": "code",
   "execution_count": null,
   "metadata": {},
   "outputs": [
    {
     "name": "stderr",
     "output_type": "stream",
     "text": [
      "/tmp/ipykernel_2921034/1112520574.py:2: DeprecationWarning: `the argument has_header` for `write_csv` is deprecated. It has been renamed to `include_header`.\n",
      "  graph.write_csv(\n",
      "/tmp/ipykernel_2921034/1112520574.py:7: DeprecationWarning: `the argument has_header` for `write_csv` is deprecated. It has been renamed to `include_header`.\n",
      "  train.write_csv(\n",
      "/tmp/ipykernel_2921034/1112520574.py:12: DeprecationWarning: `the argument has_header` for `write_csv` is deprecated. It has been renamed to `include_header`.\n",
      "  test.write_csv(\n",
      "/tmp/ipykernel_2921034/1112520574.py:17: DeprecationWarning: `the argument has_header` for `write_csv` is deprecated. It has been renamed to `include_header`.\n",
      "  valid.write_csv(\n"
     ]
    }
   ],
   "source": [
    "# write to dataset storage\n",
    "graph.write_csv(\n",
    "    \"/home/rogertu/.data/pykeen/datasets/openbiolink/graph.txt\",\n",
    "    separator=\"\\t\",\n",
    "    include_header=False,\n",
    ")\n",
    "train.write_csv(\n",
    "    \"/home/rogertu/.data/pykeen/datasets/openbiolink/train.txt\",\n",
    "    separator=\"\\t\",\n",
    "    include_header=False,\n",
    ")\n",
    "test.write_csv(\n",
    "    \"/home/rogertu/.data/pykeen/datasets/openbiolink/test.txt\",\n",
    "    separator=\"\\t\",\n",
    "    include_header=False,\n",
    ")\n",
    "valid.write_csv(\n",
    "    \"/home/rogertu/.data/pykeen/datasets/openbiolink/valid.txt\",\n",
    "    separator=\"\\t\",\n",
    "    include_header=False,\n",
    ")"
   ]
  },
  {
   "cell_type": "code",
   "execution_count": 8,
   "metadata": {},
   "outputs": [],
   "source": [
    "os.mkdir(\"/home/rogertu/projects/Consilience-Drug-Repurposing/openbiolink\")"
   ]
  },
  {
   "cell_type": "code",
   "execution_count": null,
   "metadata": {},
   "outputs": [],
   "source": [
    "# write to path-baeed file location\n",
    "# write to dataset storage\n",
    "graph.write_csv(\n",
    "    \"/home/rogertu/projects/Consilience-Drug-Repurposing/data/openbiolink/graph.txt\",\n",
    "    separator=\"\\t\",\n",
    "    include_header=False,\n",
    ")\n",
    "train.write_csv(\n",
    "    \"/home/rogertu/projects/Consilience-Drug-Repurposing/data/openbiolink/train.txt\",\n",
    "    separator=\"\\t\",\n",
    "    include_header=False,\n",
    ")\n",
    "test.write_csv(\n",
    "    \"/home/rogertu/projects/Consilience-Drug-Repurposing/data/openbiolink/test.txt\",\n",
    "    separator=\"\\t\",\n",
    "    include_header=False,\n",
    ")\n",
    "valid.write_csv(\n",
    "    \"/home/rogertu/projects/Consilience-Drug-Repurposing/data/openbiolink/dev.txt\",\n",
    "    separator=\"\\t\",\n",
    "    include_header=False,\n",
    ")"
   ]
  },
  {
   "cell_type": "markdown",
   "metadata": {},
   "source": [
    "## Train CBR subgraph"
   ]
  },
  {
   "cell_type": "code",
   "execution_count": 2,
   "metadata": {},
   "outputs": [
    {
     "data": {
      "text/plain": [
       "'/home/rogertu/projects'"
      ]
     },
     "execution_count": 2,
     "metadata": {},
     "output_type": "execute_result"
    }
   ],
   "source": [
    "os.getcwd()"
   ]
  },
  {
   "cell_type": "code",
   "execution_count": 4,
   "metadata": {},
   "outputs": [],
   "source": [
    "os.chdir(\"./Consilience-Drug-Repurposing\")\n",
    "sys.path.append(\"./path-based/CBR/code\")"
   ]
  },
  {
   "cell_type": "code",
   "execution_count": null,
   "metadata": {},
   "outputs": [],
   "source": [
    "subprocess.run(\n",
    "    [\n",
    "        \"python\",\n",
    "        \"path-based/CBR/code/data/get_paths.py\",\n",
    "        \"--dataset_name\",\n",
    "        \"openbiolink\",\n",
    "        \"--data_dir\",\n",
    "        \"./\",\n",
    "        \"--num_paths_to_collect\",\n",
    "        \"1000\",\n",
    "        \"--ignore_sequential_inverse\",\n",
    "        \"1\",\n",
    "    ]\n",
    ")"
   ]
  },
  {
   "cell_type": "markdown",
   "metadata": {},
   "source": [
    "## Inspect what relations are 'treats' to filter the test/valid results"
   ]
  },
  {
   "cell_type": "code",
   "execution_count": 6,
   "metadata": {},
   "outputs": [
    {
     "data": {
      "text/plain": [
       "['DRUG_REACTION_GENE',\n",
       " 'DRUG_BINDINH_GENE',\n",
       " 'GENE_DIS',\n",
       " 'DIS_PHENOTYPE',\n",
       " 'PART_OF',\n",
       " 'DRUG_BINDING_GENE',\n",
       " 'DRUG_CATALYSIS_GENE',\n",
       " 'GENE_EXPRESSION_GENE',\n",
       " 'GENE_PTMOD_GENE',\n",
       " 'DRUG_PHENOTYPE',\n",
       " 'GENE_ACTIVATION_GENE',\n",
       " 'GENE_PATHWAY',\n",
       " 'GENE_CATALYSIS_GENE',\n",
       " 'DRUG_BINDACT_GENE',\n",
       " 'DRUG_INHIBITION_GENE',\n",
       " 'GENE_GENE',\n",
       " 'GENE_UNDEREXPRESSED_ANATOMY',\n",
       " 'GENE_REACTION_GENE',\n",
       " 'GENE_PHENOTYPE',\n",
       " 'GENE_DRUG',\n",
       " 'GENE_BINDING_GENE',\n",
       " 'GENE_OVEREXPRESSED_ANATOMY',\n",
       " 'IS_A',\n",
       " 'GENE_INHIBITION_GENE',\n",
       " 'DIS_DRUG',\n",
       " 'GENE_EXPRESSED_ANATOMY',\n",
       " 'GENE_GO',\n",
       " 'DRUG_ACTIVATION_GENE']"
      ]
     },
     "execution_count": 6,
     "metadata": {},
     "output_type": "execute_result"
    }
   ],
   "source": [
    "pl.read_csv(\n",
    "    \"/home/rogertu/.data/pykeen/datasets/openbiolink/test.txt\",\n",
    "    separator=\"\\t\",\n",
    "    has_header=False,\n",
    ").unique(\"column_2\")[\"column_2\"].to_list()"
   ]
  },
  {
   "cell_type": "code",
   "execution_count": 7,
   "metadata": {},
   "outputs": [
    {
     "data": {
      "text/html": [
       "<div><style>\n",
       ".dataframe > thead > tr,\n",
       ".dataframe > tbody > tr {\n",
       "  text-align: right;\n",
       "  white-space: pre-wrap;\n",
       "}\n",
       "</style>\n",
       "<small>shape: (180_964, 3)</small><table border=\"1\" class=\"dataframe\"><thead><tr><th>column_1</th><th>column_2</th><th>column_3</th></tr><tr><td>str</td><td>str</td><td>str</td></tr></thead><tbody><tr><td>&quot;CL:0000005&quot;</td><td>&quot;IS_A&quot;</td><td>&quot;CL:0000057&quot;</td></tr><tr><td>&quot;CL:0000022&quot;</td><td>&quot;IS_A&quot;</td><td>&quot;CL:0000021&quot;</td></tr><tr><td>&quot;CL:0000038&quot;</td><td>&quot;IS_A&quot;</td><td>&quot;CL:0000839&quot;</td></tr><tr><td>&quot;CL:0000047&quot;</td><td>&quot;PART_OF&quot;</td><td>&quot;UBERON:0001017…</td></tr><tr><td>&quot;CL:0000060&quot;</td><td>&quot;IS_A&quot;</td><td>&quot;CL:0000055&quot;</td></tr><tr><td>&hellip;</td><td>&hellip;</td><td>&hellip;</td></tr><tr><td>&quot;UBERON:6007231…</td><td>&quot;IS_A&quot;</td><td>&quot;UBERON:6005168…</td></tr><tr><td>&quot;UBERON:6007233…</td><td>&quot;IS_A&quot;</td><td>&quot;UBERON:0002536…</td></tr><tr><td>&quot;UBERON:6007288…</td><td>&quot;IS_A&quot;</td><td>&quot;UBERON:6007284…</td></tr><tr><td>&quot;UBERON:6040005…</td><td>&quot;IS_A&quot;</td><td>&quot;UBERON:0000480…</td></tr><tr><td>&quot;UBERON:6110811…</td><td>&quot;IS_A&quot;</td><td>&quot;UBERON:0007688…</td></tr></tbody></table></div>"
      ],
      "text/plain": [
       "shape: (180_964, 3)\n",
       "┌────────────────┬──────────┬────────────────┐\n",
       "│ column_1       ┆ column_2 ┆ column_3       │\n",
       "│ ---            ┆ ---      ┆ ---            │\n",
       "│ str            ┆ str      ┆ str            │\n",
       "╞════════════════╪══════════╪════════════════╡\n",
       "│ CL:0000005     ┆ IS_A     ┆ CL:0000057     │\n",
       "│ CL:0000022     ┆ IS_A     ┆ CL:0000021     │\n",
       "│ CL:0000038     ┆ IS_A     ┆ CL:0000839     │\n",
       "│ CL:0000047     ┆ PART_OF  ┆ UBERON:0001017 │\n",
       "│ CL:0000060     ┆ IS_A     ┆ CL:0000055     │\n",
       "│ …              ┆ …        ┆ …              │\n",
       "│ UBERON:6007231 ┆ IS_A     ┆ UBERON:6005168 │\n",
       "│ UBERON:6007233 ┆ IS_A     ┆ UBERON:0002536 │\n",
       "│ UBERON:6007288 ┆ IS_A     ┆ UBERON:6007284 │\n",
       "│ UBERON:6040005 ┆ IS_A     ┆ UBERON:0000480 │\n",
       "│ UBERON:6110811 ┆ IS_A     ┆ UBERON:0007688 │\n",
       "└────────────────┴──────────┴────────────────┘"
      ]
     },
     "execution_count": 7,
     "metadata": {},
     "output_type": "execute_result"
    }
   ],
   "source": [
    "pl.read_csv(\n",
    "    \"/home/rogertu/.data/pykeen/datasets/openbiolink/test.txt\",\n",
    "    separator=\"\\t\",\n",
    "    has_header=False,\n",
    ")"
   ]
  },
  {
   "cell_type": "markdown",
   "metadata": {},
   "source": [
    "## Run CBR"
   ]
  },
  {
   "cell_type": "code",
   "execution_count": 8,
   "metadata": {},
   "outputs": [
    {
     "name": "stderr",
     "output_type": "stream",
     "text": [
      "[2024-12-05 07:44:32 \t COMMAND: path-based/CBR/code/cbr_mod.py --dataset_name openbiolink --data_dir ./ --max_num_programs 25 --k_adj 10 --filter_relations ['DIS_DRUG'] --output_dir ./data/outputs --max_answers 100 --output_predictions --output_per_relation_scores --test]\n",
      "[2024-12-05 07:44:32 \t ===========openbiolink============]\n",
      "[2024-12-05 07:44:32 \t Loading subgraph around entities:]\n",
      "4559267it [00:02, 1657464.49it/s]\n",
      "[2024-12-05 07:45:23 \t Loading train map]\n",
      "4559267it [00:03, 1263103.21it/s]\n",
      "4192002it [00:02, 1652976.18it/s]\n",
      "[2024-12-05 07:45:30 \t Loading dev map]\n",
      "186301it [00:00, 1270673.21it/s]\n",
      "[2024-12-05 07:45:30 \t Loading test map]\n",
      "180964it [00:00, 1266486.51it/s]\n",
      "[2024-12-05 07:45:30 \t Filtering relations: ['DIS_DRUG']]\n",
      "4559267it [00:02, 1708971.65it/s]\n",
      "/home/rogertu/projects/Consilience-Drug-Repurposing/path-based/CBR/code/cbr_mod.py:587: RuntimeWarning: invalid value encountered in divide\n",
      "  adj_mat = adj_mat / l2norm.reshape(l2norm.shape[0], 1)\n",
      "[2024-12-05 07:45:34 \t Using device: cpu]\n",
      "[2024-12-05 07:45:34 \t =========Config:============]\n",
      "[2024-12-05 07:45:34 \t {\n",
      "    \"cuda\": false,\n",
      "    \"data_dir\": \"./\",\n",
      "    \"dataset_name\": \"openbiolink\",\n",
      "    \"dev_file\": \"./data/openbiolink/dev.txt\",\n",
      "    \"dev_file_name\": \"dev.txt\",\n",
      "    \"filter_relations\": [\n",
      "        \"DIS_DRUG\"\n",
      "    ],\n",
      "    \"k_adj\": 10,\n",
      "    \"max_answers\": 100,\n",
      "    \"max_num_programs\": 25,\n",
      "    \"output_dir\": \"./data/outputs\",\n",
      "    \"output_per_relation_scores\": true,\n",
      "    \"output_predictions\": true,\n",
      "    \"per_relation_config\": null,\n",
      "    \"print_paths\": false,\n",
      "    \"subgraph_file_name\": \"paths_1000.pkl\",\n",
      "    \"test\": true,\n",
      "    \"test_file\": \"./data/openbiolink/test.txt\",\n",
      "    \"test_file_name\": \"test.txt\",\n",
      "    \"train_file\": \"./data/openbiolink/train.txt\",\n",
      "    \"use_wandb\": 0\n",
      "}]\n",
      "[2024-12-05 07:45:34 \t Loading combined train/dev/test map for filtered eval]\n",
      "4192002it [00:02, 1737099.03it/s]\n",
      "186301it [00:00, 1370687.73it/s]\n",
      "180964it [00:00, 1372578.43it/s]\n",
      "[2024-12-05 07:49:25 \t Loaded...]\n",
      "100%|██████████| 230/230 [00:23<00:00,  9.97it/s]\n",
      "[2024-12-05 07:49:48 \t Writing per-relation scores to ./data/outputs/openbiolink_CBR_per_relation_scores.json]\n",
      "[2024-12-05 07:49:48 \t Out of 350 queries, atleast one program was returned for 350 queries]\n",
      "[2024-12-05 07:49:48 \t Avg number of programs 5.62]\n",
      "[2024-12-05 07:49:48 \t Avg number of answers after executing the programs: 7384.404347826087]\n",
      "[2024-12-05 07:49:48 \t Accuracy (Loose): 0.6857142857142857]\n",
      "[2024-12-05 07:49:48 \t Hits@1 0.045714285714285714]\n",
      "[2024-12-05 07:49:48 \t Hits@3 0.054285714285714284]\n",
      "[2024-12-05 07:49:48 \t Hits@5 0.06571428571428571]\n",
      "[2024-12-05 07:49:48 \t Hits@10 0.08857142857142856]\n",
      "[2024-12-05 07:49:48 \t MRR 0.059725760557373685]\n",
      "[2024-12-05 07:49:48 \t Avg number of nn, that do not have the query relation: 0.0]\n",
      "[2024-12-05 07:49:48 \t Avg num of returned nearest neighbors: 10.0000]\n",
      "[2024-12-05 07:49:48 \t Avg number of programs that do not execute per query: 1.8609]\n"
     ]
    },
    {
     "data": {
      "text/plain": [
       "CompletedProcess(args=['python', 'path-based/CBR/code/cbr_mod.py', '--dataset_name', 'openbiolink', '--data_dir', './', '--max_num_programs', '25', '--k_adj', '10', '--filter_relations', \"['DIS_DRUG']\", '--output_dir', './data/outputs', '--max_answers', '100', '--output_predictions', '--output_per_relation_scores', '--test'], returncode=0)"
      ]
     },
     "execution_count": 8,
     "metadata": {},
     "output_type": "execute_result"
    }
   ],
   "source": [
    "subprocess.run(\n",
    "    [\n",
    "        \"python\",\n",
    "        \"path-based/CBR/code/cbr_mod.py\",\n",
    "        \"--dataset_name\",\n",
    "        \"openbiolink\",\n",
    "        \"--data_dir\",\n",
    "        \"./\",\n",
    "        \"--max_num_programs\",\n",
    "        \"25\",\n",
    "        \"--k_adj\",\n",
    "        \"10\",\n",
    "        \"--filter_relations\",\n",
    "        \"['DIS_DRUG']\",\n",
    "        \"--output_dir\",\n",
    "        \"./data/outputs\",\n",
    "        \"--max_answers\",\n",
    "        \"100\",\n",
    "        \"--output_predictions\",\n",
    "        \"--output_per_relation_scores\",\n",
    "        \"--test\",\n",
    "    ]\n",
    ")"
   ]
  },
  {
   "cell_type": "code",
   "execution_count": null,
   "metadata": {},
   "outputs": [],
   "source": []
  }
 ],
 "metadata": {
  "kernelspec": {
   "display_name": "Python 3 (ipykernel)",
   "language": "python",
   "name": "python3"
  }
 },
 "nbformat": 4,
 "nbformat_minor": 2
}
